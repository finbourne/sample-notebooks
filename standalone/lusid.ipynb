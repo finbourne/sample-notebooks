{
 "cells": [
  {
   "cell_type": "code",
   "execution_count": null,
   "metadata": {},
   "outputs": [],
   "source": [
    "!pip install lusid-sdk-preview"
   ]
  },
  {
   "cell_type": "code",
   "execution_count": null,
   "metadata": {},
   "outputs": [],
   "source": [
    "import os\n",
    "import lusid\n",
    "import pandas as pd\n",
    "from lusid.utilities import ApiClientFactory"
   ]
  },
  {
   "cell_type": "code",
   "execution_count": null,
   "outputs": [],
   "source": [
    "\"\"\"\n",
    "\n",
    "Calls to the LUSID API require authentication by a bearer token. For details on how to get this see\n",
    "https://support.finbourne.com/getting-started-with-apis-sdks. Once you have your details you can authenticate using\n",
    "the LUSID Python SDK in the following ways:\n",
    "\n",
    "1) Environment Variables\n",
    "\n",
    "Set the following environment variables containing the required values. If these environment variables are set, they\n",
    "will be used in preference to the other mechanisms\n",
    "\n",
    "Name                Value\n",
    "FBN_LUSID_API_URL   Your LUSID API url, this is the value for 'API Url' in your portal\n",
    "FBN_TOKEN_URL       Okta endpoint to generate the authentication token, this is the value for 'Token Url' in your portal\n",
    "FBN_CLIENT_ID       OpenID Connect Client ID, this is the value for 'Client Id' in your portal\n",
    "FBN_CLIENT_SECRET\tOpenID Connect Client Secret, this is the value for 'Secret' in your portal\n",
    "FBN_USERNAME        The username of the account being used for accessing the API\n",
    "FBN_PASSWORD        The password of the account being used for accessing the API\n",
    "FBN_APP_NAME        An optional identifier for your application\n",
    "\n",
    "e.g.\n",
    "\n",
    "factory = ApiClientFactory()\n",
    "\n",
    "2) Configuration file\n",
    "\n",
    "Create secrets.json file and pass this into the ApiClientFactory e.g.\n",
    "\n",
    "secrets = os.path.join(os.path.dirname(\"lusid.ipynb\"), \"secrets.json\")\n",
    "factory = ApiClientFactory(api_secrets_filename=secrets)\n",
    "\n",
    "\"\"\"\n",
    "\n",
    "# path to local secrets.json file, alternatively the values can be set as environment variables\n",
    "secrets = os.path.join(os.path.dirname(\"lusid.ipynb\"), \"secrets.json\")\n",
    "\n",
    "# initialise the ApiClientFactory with the API details\n",
    "factory = ApiClientFactory(api_secrets_filename=secrets)"
   ],
   "metadata": {
    "collapsed": false,
    "pycharm": {
     "name": "#%%\n"
    }
   }
  },
  {
   "cell_type": "code",
   "execution_count": null,
   "metadata": {},
   "outputs": [],
   "source": [
    "# construct the API we want to use and make a call\n",
    "api = factory.build(lusid.api.ScopesApi)\n",
    "scopes = api.list_scopes()"
   ]
  },
  {
   "cell_type": "code",
   "execution_count": null,
   "metadata": {},
   "outputs": [],
   "source": [
    "x = map(lambda s: s.__dict__, scopes.values)"
   ]
  },
  {
   "cell_type": "code",
   "execution_count": null,
   "metadata": {},
   "outputs": [],
   "source": [
    "# print out the results\n",
    "pd.DataFrame(x)"
   ]
  },
  {
   "cell_type": "code",
   "execution_count": null,
   "outputs": [],
   "source": [],
   "metadata": {
    "collapsed": false,
    "pycharm": {
     "name": "#%%\n"
    }
   }
  }
 ],
 "metadata": {
  "kernelspec": {
   "display_name": "Python 3",
   "language": "python",
   "name": "python3"
  },
  "language_info": {
   "codemirror_mode": {
    "name": "ipython",
    "version": 3
   },
   "file_extension": ".py",
   "mimetype": "text/x-python",
   "name": "python",
   "nbconvert_exporter": "python",
   "pygments_lexer": "ipython3",
   "version": "3.7.3"
  }
 },
 "nbformat": 4,
 "nbformat_minor": 4
}