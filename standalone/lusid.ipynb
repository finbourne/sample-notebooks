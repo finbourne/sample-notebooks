{
 "cells": [
  {
   "cell_type": "code",
   "execution_count": 1,
   "metadata": {
    "pycharm": {
     "name": "#%%\n"
    }
   },
   "outputs": [],
   "source": [
    "import os\n",
    "import lusid\n",
    "import pandas as pd\n",
    "import fbnsdkutilities.utilities as utils\n"
   ]
  },
  {
   "cell_type": "code",
   "execution_count": 2,
   "metadata": {
    "pycharm": {
     "name": "#%%\n"
    }
   },
   "outputs": [],
   "source": [
    "\"\"\"\n",
    "\n",
    "Calls to the LUSID API require authentication by a bearer token. For details on how to get this see\n",
    "https://support.finbourne.com/getting-started-with-apis-sdks. Once you have your details you can authenticate using\n",
    "the LUSID Python SDK in the following ways:\n",
    "\n",
    "1) Environment Variables\n",
    "\n",
    "Set the following environment variables containing the required values. If these environment variables are set, they\n",
    "will be used in preference to the other mechanisms\n",
    "\n",
    "Name                Value\n",
    "FBN_LUSID_API_URL   Your LUSID API url, this is the value for 'API Url' in your portal\n",
    "FBN_TOKEN_URL       Okta endpoint to generate the authentication token, this is the value for 'Token Url' in your portal\n",
    "FBN_CLIENT_ID       OpenID Connect Client ID, this is the value for 'Client Id' in your portal\n",
    "FBN_CLIENT_SECRET\tOpenID Connect Client Secret, this is the value for 'Secret' in your portal\n",
    "FBN_USERNAME        The username of the account being used for accessing the API\n",
    "FBN_PASSWORD        The password of the account being used for accessing the API\n",
    "FBN_APP_NAME        An optional identifier for your application\n",
    "\n",
    "e.g.\n",
    "\n",
    "factory = ApiClientFactory()\n",
    "\n",
    "2) Configuration file\n",
    "\n",
    "Create secrets.json file and pass this into the ApiClientFactory e.g.\n",
    "\n",
    "secrets = os.path.join(os.path.dirname(\"lusid.ipynb\"), \"secrets.json\")\n",
    "factory = utils.ApiClientFactory(lusid, api_secrets_filename=secrets)\n",
    "\n",
    "\"\"\"\n",
    "\n",
    "# path to local secrets.json file, alternatively the values can be set as environment variables\n",
    "secrets = os.path.join(os.path.dirname(\"lusid.ipynb\"), \"secrets.json\")\n",
    "\n",
    "# initialise the ApiClientFactory with the API details\n",
    "factory = utils.ApiClientFactory(lusid, api_secrets_filename=secrets)"
   ]
  },
  {
   "cell_type": "code",
   "execution_count": 3,
   "metadata": {
    "pycharm": {
     "name": "#%%\n"
    }
   },
   "outputs": [],
   "source": [
    "# construct the API we want to use and make a call\n",
    "api = factory.build(lusid.api.InstrumentsApi)\n",
    "identifier_types = api.get_instrument_identifier_types()"
   ]
  },
  {
   "cell_type": "code",
   "execution_count": 4,
   "metadata": {
    "pycharm": {
     "name": "#%%\n"
    }
   },
   "outputs": [],
   "source": [
    "values = [\n",
    "    {\n",
    "        \"identifier_type\": it.identifier_type,\n",
    "        \"is_unique_identifier_type\": it.is_unique_identifier_type,\n",
    "        \"property_key\": it.property_key\n",
    "    }\n",
    "    for it in identifier_types.values\n",
    "]"
   ]
  },
  {
   "cell_type": "code",
   "execution_count": 5,
   "metadata": {
    "pycharm": {
     "name": "#%%\n"
    }
   },
   "outputs": [
    {
     "data": {
      "text/html": [
       "<div>\n",
       "<style scoped>\n",
       "    .dataframe tbody tr th:only-of-type {\n",
       "        vertical-align: middle;\n",
       "    }\n",
       "\n",
       "    .dataframe tbody tr th {\n",
       "        vertical-align: top;\n",
       "    }\n",
       "\n",
       "    .dataframe thead th {\n",
       "        text-align: right;\n",
       "    }\n",
       "</style>\n",
       "<table border=\"1\" class=\"dataframe\">\n",
       "  <thead>\n",
       "    <tr style=\"text-align: right;\">\n",
       "      <th></th>\n",
       "      <th>identifier_type</th>\n",
       "      <th>is_unique_identifier_type</th>\n",
       "      <th>property_key</th>\n",
       "    </tr>\n",
       "  </thead>\n",
       "  <tbody>\n",
       "    <tr>\n",
       "      <th>0</th>\n",
       "      <td>Figi</td>\n",
       "      <td>True</td>\n",
       "      <td>Instrument/default/Figi</td>\n",
       "    </tr>\n",
       "    <tr>\n",
       "      <th>1</th>\n",
       "      <td>Ticker</td>\n",
       "      <td>False</td>\n",
       "      <td>Instrument/default/Ticker</td>\n",
       "    </tr>\n",
       "    <tr>\n",
       "      <th>2</th>\n",
       "      <td>EdiKey</td>\n",
       "      <td>True</td>\n",
       "      <td>Instrument/default/EdiKey</td>\n",
       "    </tr>\n",
       "    <tr>\n",
       "      <th>3</th>\n",
       "      <td>Wertpapier</td>\n",
       "      <td>False</td>\n",
       "      <td>Instrument/default/Wertpapier</td>\n",
       "    </tr>\n",
       "    <tr>\n",
       "      <th>4</th>\n",
       "      <td>LusidInstrumentId</td>\n",
       "      <td>True</td>\n",
       "      <td>Instrument/default/LusidInstrumentId</td>\n",
       "    </tr>\n",
       "    <tr>\n",
       "      <th>5</th>\n",
       "      <td>Currency</td>\n",
       "      <td>True</td>\n",
       "      <td>Instrument/default/Currency</td>\n",
       "    </tr>\n",
       "    <tr>\n",
       "      <th>6</th>\n",
       "      <td>CompositeFigi</td>\n",
       "      <td>False</td>\n",
       "      <td>Instrument/default/CompositeFigi</td>\n",
       "    </tr>\n",
       "    <tr>\n",
       "      <th>7</th>\n",
       "      <td>ClientInternal</td>\n",
       "      <td>True</td>\n",
       "      <td>Instrument/default/ClientInternal</td>\n",
       "    </tr>\n",
       "    <tr>\n",
       "      <th>8</th>\n",
       "      <td>SecurityNumber</td>\n",
       "      <td>True</td>\n",
       "      <td>Instrument/default/SecurityNumber</td>\n",
       "    </tr>\n",
       "    <tr>\n",
       "      <th>9</th>\n",
       "      <td>Cusip</td>\n",
       "      <td>False</td>\n",
       "      <td>Instrument/default/Cusip</td>\n",
       "    </tr>\n",
       "    <tr>\n",
       "      <th>10</th>\n",
       "      <td>Sedol</td>\n",
       "      <td>False</td>\n",
       "      <td>Instrument/default/Sedol</td>\n",
       "    </tr>\n",
       "    <tr>\n",
       "      <th>11</th>\n",
       "      <td>ShareClassFigi</td>\n",
       "      <td>False</td>\n",
       "      <td>Instrument/default/ShareClassFigi</td>\n",
       "    </tr>\n",
       "    <tr>\n",
       "      <th>12</th>\n",
       "      <td>Isin</td>\n",
       "      <td>False</td>\n",
       "      <td>Instrument/default/Isin</td>\n",
       "    </tr>\n",
       "    <tr>\n",
       "      <th>13</th>\n",
       "      <td>RIC</td>\n",
       "      <td>False</td>\n",
       "      <td>Instrument/default/RIC</td>\n",
       "    </tr>\n",
       "    <tr>\n",
       "      <th>14</th>\n",
       "      <td>QuotePermId</td>\n",
       "      <td>True</td>\n",
       "      <td>Instrument/default/QuotePermId</td>\n",
       "    </tr>\n",
       "  </tbody>\n",
       "</table>\n",
       "</div>"
      ],
      "text/plain": [
       "      identifier_type  is_unique_identifier_type   \n",
       "0                Figi                       True  \\\n",
       "1              Ticker                      False   \n",
       "2              EdiKey                       True   \n",
       "3          Wertpapier                      False   \n",
       "4   LusidInstrumentId                       True   \n",
       "5            Currency                       True   \n",
       "6       CompositeFigi                      False   \n",
       "7      ClientInternal                       True   \n",
       "8      SecurityNumber                       True   \n",
       "9               Cusip                      False   \n",
       "10              Sedol                      False   \n",
       "11     ShareClassFigi                      False   \n",
       "12               Isin                      False   \n",
       "13                RIC                      False   \n",
       "14        QuotePermId                       True   \n",
       "\n",
       "                            property_key  \n",
       "0                Instrument/default/Figi  \n",
       "1              Instrument/default/Ticker  \n",
       "2              Instrument/default/EdiKey  \n",
       "3          Instrument/default/Wertpapier  \n",
       "4   Instrument/default/LusidInstrumentId  \n",
       "5            Instrument/default/Currency  \n",
       "6       Instrument/default/CompositeFigi  \n",
       "7      Instrument/default/ClientInternal  \n",
       "8      Instrument/default/SecurityNumber  \n",
       "9               Instrument/default/Cusip  \n",
       "10              Instrument/default/Sedol  \n",
       "11     Instrument/default/ShareClassFigi  \n",
       "12               Instrument/default/Isin  \n",
       "13                Instrument/default/RIC  \n",
       "14        Instrument/default/QuotePermId  "
      ]
     },
     "metadata": {},
     "output_type": "display_data"
    }
   ],
   "source": [
    "# print out the results\n",
    "df = pd.DataFrame(values)\n",
    "display(df)"
   ]
  }
 ],
 "metadata": {
  "kernelspec": {
   "display_name": "Python 3 (ipykernel)",
   "language": "python",
   "name": "python3"
  },
  "language_info": {
   "codemirror_mode": {
    "name": "ipython",
    "version": 3
   },
   "file_extension": ".py",
   "mimetype": "text/x-python",
   "name": "python",
   "nbconvert_exporter": "python",
   "pygments_lexer": "ipython3",
   "version": "3.10.10"
  }
 },
 "nbformat": 4,
 "nbformat_minor": 4
}
