{
 "cells": [
  {
   "cell_type": "markdown",
   "metadata": {},
   "source": [
    "# Creating new asset classes"
   ]
  },
  {
   "cell_type": "markdown",
   "metadata": {},
   "source": [
    "This notebook shows how to create instrument with custom fields, also known as properties"
   ]
  },
  {
   "cell_type": "markdown",
   "metadata": {},
   "source": [
    "# Setup LUSID"
   ]
  },
  {
   "cell_type": "code",
   "execution_count": 1,
   "metadata": {},
   "outputs": [],
   "source": [
    "# Import system packages\n",
    "\n",
    "import os\n",
    "\n",
    "# Import lusid specific packages\n",
    "# These are the core lusid packages for interacting with the API via Python\n",
    "import lusid\n",
    "import lusid.api as la\n",
    "import lusid.models as lm\n",
    "from lusid import ApiException\n",
    "from lusid.utilities import ApiClientFactory\n",
    "from lusidjam.refreshing_token import RefreshingToken\n",
    "from lusidtools.cocoon.cocoon import load_from_data_frame\n",
    "from lusidtools.cocoon.cocoon_printer import (\n",
    "    format_portfolios_response,\n",
    "    format_transactions_response\n",
    ")\n",
    "\n",
    "# Import data wrangling and data management packages\n",
    "import pandas as pd\n",
    "import numpy as np\n",
    "import json\n",
    "import pytz\n",
    "from datetime import datetime\n",
    "\n",
    "pd.set_option('display.max_columns', None)\n",
    "\n",
    "# Authenticate our user and create our API client\n",
    "secrets_path = os.getenv(\"FBN_SECRETS_PATH\")\n",
    "\n",
    "# Initiate an API Factory which is the client side object for interacting with LUSID APIs\n",
    "api_factory = lusid.utilities.ApiClientFactory(\n",
    "    token=RefreshingToken(),\n",
    "    api_secrets_filename = secrets_path,\n",
    "    app_name=\"LusidJupyterNotebook\")"
   ]
  },
  {
   "cell_type": "markdown",
   "metadata": {},
   "source": [
    "# Define scope"
   ]
  },
  {
   "cell_type": "code",
   "execution_count": 2,
   "metadata": {},
   "outputs": [],
   "source": [
    "scope = \"new-assets\""
   ]
  },
  {
   "cell_type": "markdown",
   "metadata": {},
   "source": [
    "# Define custom properties for new assets"
   ]
  },
  {
   "cell_type": "code",
   "execution_count": 3,
   "metadata": {},
   "outputs": [
    {
     "data": {
      "text/html": [
       "<div>\n",
       "<style scoped>\n",
       "    .dataframe tbody tr th:only-of-type {\n",
       "        vertical-align: middle;\n",
       "    }\n",
       "\n",
       "    .dataframe tbody tr th {\n",
       "        vertical-align: top;\n",
       "    }\n",
       "\n",
       "    .dataframe thead th {\n",
       "        text-align: right;\n",
       "    }\n",
       "</style>\n",
       "<table border=\"1\" class=\"dataframe\">\n",
       "  <thead>\n",
       "    <tr style=\"text-align: right;\">\n",
       "      <th></th>\n",
       "      <th>Property</th>\n",
       "      <th>success</th>\n",
       "    </tr>\n",
       "  </thead>\n",
       "  <tbody>\n",
       "    <tr>\n",
       "      <th>0</th>\n",
       "      <td>StrikePrice</td>\n",
       "      <td>True</td>\n",
       "    </tr>\n",
       "    <tr>\n",
       "      <th>1</th>\n",
       "      <td>Maturity</td>\n",
       "      <td>True</td>\n",
       "    </tr>\n",
       "    <tr>\n",
       "      <th>2</th>\n",
       "      <td>FloatingRateOption</td>\n",
       "      <td>True</td>\n",
       "    </tr>\n",
       "    <tr>\n",
       "      <th>3</th>\n",
       "      <td>Notional</td>\n",
       "      <td>True</td>\n",
       "    </tr>\n",
       "    <tr>\n",
       "      <th>4</th>\n",
       "      <td>StartDate</td>\n",
       "      <td>True</td>\n",
       "    </tr>\n",
       "  </tbody>\n",
       "</table>\n",
       "</div>"
      ],
      "text/plain": [
       "             Property  success\n",
       "0         StrikePrice     True\n",
       "1            Maturity     True\n",
       "2  FloatingRateOption     True\n",
       "3            Notional     True\n",
       "4           StartDate     True"
      ]
     },
     "execution_count": 3,
     "metadata": {},
     "output_type": "execute_result"
    }
   ],
   "source": [
    "properties_api = api_factory.build(la.PropertyDefinitionsApi)\n",
    "results = []\n",
    "\n",
    "instrument_properties = [\n",
    "    (\"StrikePrice\", \"Strike Price\", \"number\"),\n",
    "    (\"Maturity\", \"Maturity\", \"date\"),\n",
    "    (\"FloatingRateOption\", \"Floating Rate Option\", \"string\"),\n",
    "    (\"Notional\", \"Notional\", \"number\"),\n",
    "    (\"StartDate\", \"Start Date\", \"date\")\n",
    "]\n",
    "\n",
    "for code, description, data_type in instrument_properties:\n",
    "\n",
    "    try:\n",
    "        properties_api.create_property_definition(\n",
    "            lm.CreatePropertyDefinitionRequest(\n",
    "                domain=\"Instrument\",\n",
    "                scope=scope,\n",
    "                code=code,\n",
    "                display_name=description,\n",
    "                life_time=\"Perpetual\",\n",
    "                value_required=False,\n",
    "                data_type_id=lm.resource_id.ResourceId(scope=\"system\", code=data_type)\n",
    "            )\n",
    "        )\n",
    "        results.append({\"Property\": code, \"success\": True})\n",
    "    except ApiException as e:\n",
    "        results.append({\"Property\": code,\"success\": False, \"error\": json.loads(e.body)[\"name\"], \"Error Message\": json.loads(e.body)[\"title\"]})\n",
    "        if json.loads(e.body)[\"name\"] != \"PropertyAlreadyExists\":\n",
    "            raise\n",
    "            \n",
    "\n",
    "pd.DataFrame(data=results)"
   ]
  },
  {
   "cell_type": "markdown",
   "metadata": {},
   "source": [
    "# Load in the source data"
   ]
  },
  {
   "cell_type": "code",
   "execution_count": 4,
   "metadata": {},
   "outputs": [
    {
     "data": {
      "text/html": [
       "<div>\n",
       "<style scoped>\n",
       "    .dataframe tbody tr th:only-of-type {\n",
       "        vertical-align: middle;\n",
       "    }\n",
       "\n",
       "    .dataframe tbody tr th {\n",
       "        vertical-align: top;\n",
       "    }\n",
       "\n",
       "    .dataframe thead th {\n",
       "        text-align: right;\n",
       "    }\n",
       "</style>\n",
       "<table border=\"1\" class=\"dataframe\">\n",
       "  <thead>\n",
       "    <tr style=\"text-align: right;\">\n",
       "      <th></th>\n",
       "      <th>Id</th>\n",
       "      <th>ClientInternal</th>\n",
       "      <th>Instrument Name</th>\n",
       "      <th>Strike Price</th>\n",
       "      <th>Maturity</th>\n",
       "      <th>Floating Rate Option</th>\n",
       "      <th>Notional</th>\n",
       "      <th>Start Date</th>\n",
       "    </tr>\n",
       "  </thead>\n",
       "  <tbody>\n",
       "    <tr>\n",
       "      <th>0</th>\n",
       "      <td>SDB368</td>\n",
       "      <td>BS-1</td>\n",
       "      <td>GS - Barrier Swap</td>\n",
       "      <td>4.5</td>\n",
       "      <td>2025-06-01</td>\n",
       "      <td>EUR-EURIBOR-REUTERS</td>\n",
       "      <td>5000000</td>\n",
       "      <td>2020-06-01</td>\n",
       "    </tr>\n",
       "  </tbody>\n",
       "</table>\n",
       "</div>"
      ],
      "text/plain": [
       "       Id ClientInternal    Instrument Name  Strike Price   Maturity  \\\n",
       "0  SDB368           BS-1  GS - Barrier Swap           4.5 2025-06-01   \n",
       "\n",
       "  Floating Rate Option  Notional Start Date  \n",
       "0  EUR-EURIBOR-REUTERS   5000000 2020-06-01  "
      ]
     },
     "execution_count": 4,
     "metadata": {},
     "output_type": "execute_result"
    }
   ],
   "source": [
    "df = pd.read_excel(\"./exotics-properties.xlsx\")    \n",
    "df"
   ]
  },
  {
   "cell_type": "markdown",
   "metadata": {},
   "source": [
    "# Load the instruments"
   ]
  },
  {
   "cell_type": "markdown",
   "metadata": {},
   "source": [
    " Create the assets and additionally add Instrument properties so they can be viewed in holdings"
   ]
  },
  {
   "cell_type": "code",
   "execution_count": 5,
   "metadata": {},
   "outputs": [
    {
     "data": {
      "text/html": [
       "<div>\n",
       "<style scoped>\n",
       "    .dataframe tbody tr th:only-of-type {\n",
       "        vertical-align: middle;\n",
       "    }\n",
       "\n",
       "    .dataframe tbody tr th {\n",
       "        vertical-align: top;\n",
       "    }\n",
       "\n",
       "    .dataframe thead th {\n",
       "        text-align: right;\n",
       "    }\n",
       "</style>\n",
       "<table border=\"1\" class=\"dataframe\">\n",
       "  <thead>\n",
       "    <tr style=\"text-align: right;\">\n",
       "      <th></th>\n",
       "      <th>Property Definition</th>\n",
       "      <th>Creation Success</th>\n",
       "    </tr>\n",
       "  </thead>\n",
       "  <tbody>\n",
       "    <tr>\n",
       "      <th>0</th>\n",
       "      <td>Instrument/new-assets/StrikePrice</td>\n",
       "      <td>True</td>\n",
       "    </tr>\n",
       "    <tr>\n",
       "      <th>1</th>\n",
       "      <td>Instrument/new-assets/Maturity</td>\n",
       "      <td>True</td>\n",
       "    </tr>\n",
       "    <tr>\n",
       "      <th>2</th>\n",
       "      <td>Instrument/new-assets/FloatingRateOption</td>\n",
       "      <td>True</td>\n",
       "    </tr>\n",
       "    <tr>\n",
       "      <th>3</th>\n",
       "      <td>Instrument/new-assets/Notional</td>\n",
       "      <td>True</td>\n",
       "    </tr>\n",
       "    <tr>\n",
       "      <th>4</th>\n",
       "      <td>Instrument/new-assets/StartDate</td>\n",
       "      <td>True</td>\n",
       "    </tr>\n",
       "  </tbody>\n",
       "</table>\n",
       "</div>"
      ],
      "text/plain": [
       "                        Property Definition  Creation Success\n",
       "0         Instrument/new-assets/StrikePrice              True\n",
       "1            Instrument/new-assets/Maturity              True\n",
       "2  Instrument/new-assets/FloatingRateOption              True\n",
       "3            Instrument/new-assets/Notional              True\n",
       "4           Instrument/new-assets/StartDate              True"
      ]
     },
     "execution_count": 5,
     "metadata": {},
     "output_type": "execute_result"
    }
   ],
   "source": [
    "results = []\n",
    "instruments_request = {\n",
    "    row[\"Id\"]: lm.LusidInstrumentDefinition(\n",
    "        name=row[\"Instrument Name\"],\n",
    "        identifiers={\"ClientInternal\": lm.InstrumentIdValue(row[\"ClientInternal\"])},\n",
    "        properties=[\n",
    "            lm.ModelProperty(key=f\"Instrument/{scope}/StrikePrice\",\n",
    "                             value=lm.PropertyValue(metric_value=lm.MetricValue(value=row[\"Strike Price\"]))),\n",
    "            lm.ModelProperty(key=f\"Instrument/{scope}/Maturity\",\n",
    "                             value=lm.PropertyValue(label_value=row[\"Maturity\"])),\n",
    "            lm.ModelProperty(key=f\"Instrument/{scope}/FloatingRateOption\",\n",
    "                             value=lm.PropertyValue(label_value=row[\"Floating Rate Option\"])),\n",
    "            lm.ModelProperty(key=f\"Instrument/{scope}/Notional\",\n",
    "                             value=lm.PropertyValue(metric_value=lm.MetricValue(value=row[\"Notional\"]))),\n",
    "            lm.ModelProperty(key=f\"Instrument/{scope}/StartDate\",\n",
    "                             value=lm.PropertyValue(label_value=row[\"Start Date\"])),\n",
    "        ]\n",
    "    )\n",
    "    \n",
    "    for _, row in df.iterrows()\n",
    "}\n",
    "\n",
    "for prop in instruments_request[\"SDB368\"].properties:\n",
    "    results.append({\"Property Definition\": prop.key, \"Creation Success\": True })\n",
    "pd.DataFrame(data=results)"
   ]
  },
  {
   "cell_type": "markdown",
   "metadata": {},
   "source": [
    "Create the instruments"
   ]
  },
  {
   "cell_type": "code",
   "execution_count": 6,
   "metadata": {},
   "outputs": [
    {
     "data": {
      "text/html": [
       "<div>\n",
       "<style scoped>\n",
       "    .dataframe tbody tr th:only-of-type {\n",
       "        vertical-align: middle;\n",
       "    }\n",
       "\n",
       "    .dataframe tbody tr th {\n",
       "        vertical-align: top;\n",
       "    }\n",
       "\n",
       "    .dataframe thead th {\n",
       "        text-align: right;\n",
       "    }\n",
       "</style>\n",
       "<table border=\"1\" class=\"dataframe\">\n",
       "  <thead>\n",
       "    <tr style=\"text-align: right;\">\n",
       "      <th></th>\n",
       "      <th>Success</th>\n",
       "      <th>Failed</th>\n",
       "    </tr>\n",
       "  </thead>\n",
       "  <tbody>\n",
       "    <tr>\n",
       "      <th>0</th>\n",
       "      <td>True</td>\n",
       "      <td>0</td>\n",
       "    </tr>\n",
       "  </tbody>\n",
       "</table>\n",
       "</div>"
      ],
      "text/plain": [
       "   Success  Failed\n",
       "0     True       0"
      ]
     },
     "execution_count": 6,
     "metadata": {},
     "output_type": "execute_result"
    }
   ],
   "source": [
    "instruments_api = api_factory.build(la.InstrumentsApi)\n",
    "result = instruments_api.upsert_lusid_instruments(request_body=instruments_request)\n",
    "\n",
    "pd.DataFrame(data=[{\"Success\": True if len(result.failed) < 1 else False, \"Failed\": len(result.failed)}])"
   ]
  },
  {
   "cell_type": "markdown",
   "metadata": {},
   "source": [
    "# Define properties for transactions"
   ]
  },
  {
   "cell_type": "code",
   "execution_count": 7,
   "metadata": {},
   "outputs": [
    {
     "data": {
      "text/html": [
       "<div>\n",
       "<style scoped>\n",
       "    .dataframe tbody tr th:only-of-type {\n",
       "        vertical-align: middle;\n",
       "    }\n",
       "\n",
       "    .dataframe tbody tr th {\n",
       "        vertical-align: top;\n",
       "    }\n",
       "\n",
       "    .dataframe thead th {\n",
       "        text-align: right;\n",
       "    }\n",
       "</style>\n",
       "<table border=\"1\" class=\"dataframe\">\n",
       "  <thead>\n",
       "    <tr style=\"text-align: right;\">\n",
       "      <th></th>\n",
       "      <th>success</th>\n",
       "      <th>Message</th>\n",
       "    </tr>\n",
       "  </thead>\n",
       "  <tbody>\n",
       "    <tr>\n",
       "      <th>0</th>\n",
       "      <td>True</td>\n",
       "      <td>Property created</td>\n",
       "    </tr>\n",
       "  </tbody>\n",
       "</table>\n",
       "</div>"
      ],
      "text/plain": [
       "   success           Message\n",
       "0     True  Property created"
      ]
     },
     "execution_count": 7,
     "metadata": {},
     "output_type": "execute_result"
    }
   ],
   "source": [
    "df_transactions = pd.read_excel(\"./exotics-transaction.xlsx\")\n",
    "df_transactions\n",
    "\n",
    "results = []\n",
    "try:\n",
    "    # Call LUSID to create a property\n",
    "    property_response = properties_api.create_property_definition(\n",
    "        create_property_definition_request=lm.CreatePropertyDefinitionRequest(\n",
    "            domain=\"Transaction\",\n",
    "            scope=scope,\n",
    "            code=\"FeeAmount\",\n",
    "            value_required=False,\n",
    "            display_name=\"Fee Amount\",\n",
    "            data_type_id=lm.ResourceId(scope=\"system\", code=\"number\"),\n",
    "        )\n",
    "    )\n",
    "    results.append({\"success\": True, \"Message\": \"Property created\"})\n",
    "except ApiException as e:\n",
    "    results.append({\"success\": False, \"error\": json.loads(e.body)['name'], \"Error Message\": json.loads(e.body)['title']})\n",
    "    if json.loads(e.body)['name'] != \"PropertyAlreadyExists\":\n",
    "        raise\n",
    "\n",
    "pd.DataFrame(data=results)"
   ]
  },
  {
   "cell_type": "markdown",
   "metadata": {},
   "source": [
    "# Define Sub-Holding Key Properties"
   ]
  },
  {
   "cell_type": "code",
   "execution_count": 8,
   "metadata": {},
   "outputs": [
    {
     "data": {
      "text/html": [
       "<div>\n",
       "<style scoped>\n",
       "    .dataframe tbody tr th:only-of-type {\n",
       "        vertical-align: middle;\n",
       "    }\n",
       "\n",
       "    .dataframe tbody tr th {\n",
       "        vertical-align: top;\n",
       "    }\n",
       "\n",
       "    .dataframe thead th {\n",
       "        text-align: right;\n",
       "    }\n",
       "</style>\n",
       "<table border=\"1\" class=\"dataframe\">\n",
       "  <thead>\n",
       "    <tr style=\"text-align: right;\">\n",
       "      <th></th>\n",
       "      <th>success</th>\n",
       "      <th>Message</th>\n",
       "    </tr>\n",
       "  </thead>\n",
       "  <tbody>\n",
       "    <tr>\n",
       "      <th>0</th>\n",
       "      <td>True</td>\n",
       "      <td>Property created</td>\n",
       "    </tr>\n",
       "  </tbody>\n",
       "</table>\n",
       "</div>"
      ],
      "text/plain": [
       "   success           Message\n",
       "0     True  Property created"
      ]
     },
     "execution_count": 8,
     "metadata": {},
     "output_type": "execute_result"
    }
   ],
   "source": [
    "results = []\n",
    "try:\n",
    "    # Call LUSID to create a property\n",
    "    property_response = properties_api.create_property_definition(\n",
    "        create_property_definition_request=lm.CreatePropertyDefinitionRequest(\n",
    "            domain=\"Transaction\",\n",
    "            scope=scope,\n",
    "            code=\"HoldingType\",\n",
    "            value_required=True,\n",
    "            display_name=\"Holding Type\",\n",
    "            data_type_id=lm.ResourceId(scope=\"system\", code=\"string\"),\n",
    "        )\n",
    "    )\n",
    "    results.append({\"success\": True, \"Message\": \"Property created\"})\n",
    "except ApiException as e:\n",
    "    results.append({\"success\": False, \"error\": json.loads(e.body)['name'], \"Error Message\": json.loads(e.body)['title']})\n",
    "    if json.loads(e.body)['name'] != \"PropertyAlreadyExists\":\n",
    "        raise\n",
    "\n",
    "pd.DataFrame(data=results)"
   ]
  },
  {
   "cell_type": "markdown",
   "metadata": {},
   "source": [
    "#  Create the portfolio"
   ]
  },
  {
   "cell_type": "code",
   "execution_count": 9,
   "metadata": {},
   "outputs": [
    {
     "data": {
      "text/html": [
       "<div>\n",
       "<style scoped>\n",
       "    .dataframe tbody tr th:only-of-type {\n",
       "        vertical-align: middle;\n",
       "    }\n",
       "\n",
       "    .dataframe tbody tr th {\n",
       "        vertical-align: top;\n",
       "    }\n",
       "\n",
       "    .dataframe thead th {\n",
       "        text-align: right;\n",
       "    }\n",
       "</style>\n",
       "<table border=\"1\" class=\"dataframe\">\n",
       "  <thead>\n",
       "    <tr style=\"text-align: right;\">\n",
       "      <th></th>\n",
       "      <th>success</th>\n",
       "      <th>Message</th>\n",
       "    </tr>\n",
       "  </thead>\n",
       "  <tbody>\n",
       "    <tr>\n",
       "      <th>0</th>\n",
       "      <td>True</td>\n",
       "      <td>portfolio 'exotics', in scope new-assets created</td>\n",
       "    </tr>\n",
       "  </tbody>\n",
       "</table>\n",
       "</div>"
      ],
      "text/plain": [
       "   success                                           Message\n",
       "0     True  portfolio 'exotics', in scope new-assets created"
      ]
     },
     "execution_count": 9,
     "metadata": {},
     "output_type": "execute_result"
    }
   ],
   "source": [
    "transaction_portfolios_api = api_factory.build(lusid.api.TransactionPortfoliosApi)\n",
    "\n",
    "# Create portfolio with properties\n",
    "subholding_key = [f\"Transaction/{scope}/HoldingType\"]\n",
    "created_date = \"2010-01-01T00:00:00.000000+00:00\"\n",
    "\n",
    "# create request body\n",
    "portfolio_request = lm.CreateTransactionPortfolioRequest(\n",
    "    display_name=\"Exotics\",\n",
    "    code=\"exotics\",\n",
    "    base_currency=\"GBP\",\n",
    "    created=created_date,\n",
    "    sub_holding_keys=subholding_key\n",
    ")\n",
    "\n",
    "# Upload new portfolio to LUSID\n",
    "results = []\n",
    "try:\n",
    "    response = transaction_portfolios_api.create_portfolio(\n",
    "        scope=scope, create_transaction_portfolio_request=portfolio_request\n",
    "    )\n",
    "    results.append({\"success\": True, \"Message\": f\"portfolio '{response.id.code}', in scope {scope} created\"})\n",
    "\n",
    "except ApiException as e:\n",
    "    results.append({\"success\": False, \"error\": json.loads(e.body)['name'], \"Error Message\": json.loads(e.body)['title']})\n",
    "    if json.loads(e.body)['name'] != \"PortfolioWithIdAlreadyExists\":\n",
    "        raise\n",
    "\n",
    "pd.DataFrame(data=results)"
   ]
  },
  {
   "cell_type": "markdown",
   "metadata": {},
   "source": [
    "# Configure Transaction Types"
   ]
  },
  {
   "cell_type": "code",
   "execution_count": 10,
   "metadata": {},
   "outputs": [
    {
     "name": "stdout",
     "output_type": "stream",
     "text": [
      "Fee already exists in LUSID\n"
     ]
    }
   ],
   "source": [
    "# First create a list of custom sides which will be used on the new transaction type\n",
    "\n",
    "system_configuration_api = api_factory.build(lusid.api.SystemConfigurationApi)\n",
    "\n",
    "side_list = [\n",
    "    lm.SideConfigurationDataRequest(\n",
    "            side=\"Fee\",\n",
    "            security=\"Txn:SettleCcy\",\n",
    "            currency=\"Txn:TradeCurrency\",\n",
    "            rate=\"SettledToPortfolioRate\",\n",
    "            units=f\"Transaction/{scope}/FeeAmount\",\n",
    "            amount=f\"Transaction/{scope}/FeeAmount\"\n",
    "        )\n",
    "    ]\n",
    "\n",
    "\n",
    "for side in side_list:\n",
    "    \n",
    "    current_sides = [side.side for side in system_configuration_api.list_configuration_transaction_types().side_definitions]\n",
    "    \n",
    "    if side.side in list(current_sides):\n",
    "        \n",
    "        print(f\"{side.side} already exists in LUSID\")\n",
    "    \n",
    "    else:\n",
    "        \n",
    "        response = system_configuration_api.create_side_definition(side_configuration_data_request = side)\n",
    "        \n",
    "        print(f\"{side.side} has been created in LUSID\")"
   ]
  },
  {
   "cell_type": "code",
   "execution_count": 11,
   "metadata": {},
   "outputs": [
    {
     "name": "stdout",
     "output_type": "stream",
     "text": [
      "The provided mappings contain duplicate transaction aliases\n"
     ]
    }
   ],
   "source": [
    "# Create the new transaction types using the new sides\n",
    "\n",
    "try:\n",
    "\n",
    "    system_configuration_api.create_configuration_transaction_type(\n",
    "        transaction_configuration_data_request=lm.TransactionConfigurationDataRequest(\n",
    "            aliases=[\n",
    "                lm.TransactionConfigurationTypeAlias(\n",
    "                    type=\"OTC\",\n",
    "                    description=\"A purchase transaction from System X\",\n",
    "                    transaction_class=\"Basic\",\n",
    "                    transaction_group=\"default\",\n",
    "                    transaction_roles=\"LongLonger\",\n",
    "                )\n",
    "            ],\n",
    "            movements=[\n",
    "                lm.TransactionConfigurationMovementData(\n",
    "                    movement_types=\"StockMovement\",\n",
    "                    side=\"Side1\",\n",
    "                    direction=1,\n",
    "                    properties={},\n",
    "                    mappings=[\n",
    "                            lm.TransactionPropertyMappingRequest(\n",
    "                                property_key=f\"Transaction/{scope}/HoldingType\",\n",
    "                                set_to=\"Swap\"\n",
    "                            )\n",
    "                    ],\n",
    "                ),\n",
    "                lm.TransactionConfigurationMovementData(\n",
    "                    movement_types=\"CashCommitment\",\n",
    "                    side=\"Fee\",\n",
    "                    direction=-1,\n",
    "                    properties={},\n",
    "                    mappings=[  \n",
    "                            lm.TransactionPropertyMappingRequest(\n",
    "                                property_key=f\"Transaction/{scope}/HoldingType\",\n",
    "                                set_to=\"Fee\"\n",
    "                            )\n",
    "                    ],\n",
    "                )\n",
    "            ]\n",
    "        )\n",
    "    )\n",
    "\n",
    "except lusid.ApiException as e:\n",
    "    print(json.loads(e.body)[\"title\"])"
   ]
  },
  {
   "cell_type": "markdown",
   "metadata": {},
   "source": [
    "# Create transactions for the new asset"
   ]
  },
  {
   "cell_type": "code",
   "execution_count": 12,
   "metadata": {
    "scrolled": true
   },
   "outputs": [
    {
     "data": {
      "text/html": [
       "<div>\n",
       "<style scoped>\n",
       "    .dataframe tbody tr th:only-of-type {\n",
       "        vertical-align: middle;\n",
       "    }\n",
       "\n",
       "    .dataframe tbody tr th {\n",
       "        vertical-align: top;\n",
       "    }\n",
       "\n",
       "    .dataframe thead th {\n",
       "        text-align: right;\n",
       "    }\n",
       "</style>\n",
       "<table border=\"1\" class=\"dataframe\">\n",
       "  <thead>\n",
       "    <tr style=\"text-align: right;\">\n",
       "      <th></th>\n",
       "      <th>Transactions upserted</th>\n",
       "    </tr>\n",
       "  </thead>\n",
       "  <tbody>\n",
       "    <tr>\n",
       "      <th>0</th>\n",
       "      <td>1</td>\n",
       "    </tr>\n",
       "  </tbody>\n",
       "</table>\n",
       "</div>"
      ],
      "text/plain": [
       "   Transactions upserted\n",
       "0                      1"
      ]
     },
     "execution_count": 12,
     "metadata": {},
     "output_type": "execute_result"
    }
   ],
   "source": [
    "# Upsert transactions\n",
    "transactions_request = []\n",
    "txn_response = []\n",
    "created_date = \"2010-01-01T00:00:00.000000+00:00\"\n",
    "for row, txn in df_transactions.iterrows():\n",
    "    # build request body\n",
    "    transactions_request.append(\n",
    "        lm.TransactionRequest(\n",
    "            transaction_id=txn[\"Transaction ID\"],\n",
    "            type=\"OTC\",\n",
    "            instrument_identifiers={ f\"Instrument/default/ClientInternal\": txn[\"ClientInternal\"] },\n",
    "            transaction_date=created_date,\n",
    "            settlement_date=created_date,\n",
    "            units=txn[\"Units\"],\n",
    "            transaction_currency=txn[\"Transaction Currency\"],\n",
    "            total_consideration=lm.CurrencyAndAmount(\n",
    "                amount=txn[\"Total Consideration\"], currency=txn[\"Transaction Currency\"]\n",
    "            ),\n",
    "            counterparty_id=txn[\"Counterparty\"],\n",
    "            properties={\n",
    "                f\"Transaction/{scope}/FeeAmount\": lm.PerpetualProperty(\n",
    "                    key=f\"Transaction/{scope}/FeeAmount\",\n",
    "                    value=lm.PropertyValue(\n",
    "                        metric_value=lm.MetricValue(\n",
    "                            value=txn[\"Fee Amount\"])),\n",
    "                )\n",
    "            },\n",
    "        )\n",
    "    )\n",
    "\n",
    "    # Make Upsert Transactions call to LUSID\n",
    "    txn_response.append(\n",
    "        transaction_portfolios_api.upsert_transactions(\n",
    "            scope=scope, code=\"exotics\", transaction_request=transactions_request\n",
    "        )\n",
    "    )\n",
    "\n",
    "pd.DataFrame(data=[{\"Transactions upserted\": len(txn_response)}])"
   ]
  },
  {
   "cell_type": "markdown",
   "metadata": {},
   "source": [
    "# Add a Cash Balance"
   ]
  },
  {
   "cell_type": "code",
   "execution_count": 13,
   "metadata": {},
   "outputs": [
    {
     "name": "stdout",
     "output_type": "stream",
     "text": [
      "Funds added\n"
     ]
    }
   ],
   "source": [
    "cash_deposit_req = lm.TransactionRequest(\n",
    "            transaction_id=\"funds123\",\n",
    "            type=\"FundsIn\",\n",
    "            instrument_identifiers={ f\"Instrument/default/LusidInstrumentId\": \"CCY_EUR\" },\n",
    "            transaction_date=created_date,\n",
    "            settlement_date=created_date,\n",
    "            units=10000,\n",
    "            transaction_currency=\"EUR\",\n",
    "            total_consideration=lm.CurrencyAndAmount(\n",
    "                amount=\"10000\", currency=\"EUR\"\n",
    "            ),\n",
    "            properties={\n",
    "                        f\"Transaction/{scope}/HoldingType\": lm.PerpetualProperty(\n",
    "                            key=f\"Transaction/{scope}/HoldingType\",\n",
    "                            value=lm.PropertyValue(\n",
    "                                label_value=\"Cash\"),\n",
    "                        )\n",
    "                    },\n",
    "        )\n",
    "\n",
    "\n",
    "# Make Upsert Transactions call to LUSID\n",
    "response = transaction_portfolios_api.upsert_transactions(\n",
    "    scope=scope, code=\"exotics\", transaction_request=[cash_deposit_req]\n",
    ")\n",
    "\n",
    "if(response):\n",
    "    print(\"Funds added\")"
   ]
  }
 ],
 "metadata": {
  "kernelspec": {
   "display_name": "Python 3",
   "language": "python",
   "name": "python3"
  },
  "language_info": {
   "codemirror_mode": {
    "name": "ipython",
    "version": 3
   },
   "file_extension": ".py",
   "mimetype": "text/x-python",
   "name": "python",
   "nbconvert_exporter": "python",
   "pygments_lexer": "ipython3",
   "version": "3.7.3"
  }
 },
 "nbformat": 4,
 "nbformat_minor": 2
}
