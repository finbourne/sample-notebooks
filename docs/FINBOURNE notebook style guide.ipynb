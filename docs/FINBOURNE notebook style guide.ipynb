{
 "cells": [
  {
   "cell_type": "markdown",
   "metadata": {},
   "source": [
    "The first cell in your notebook is the doc string. This is used by the <b>docgen</b> package to create the README.md file in the main project repository. See example below."
   ]
  },
  {
   "cell_type": "code",
   "execution_count": 1,
   "metadata": {
    "hideCode": false,
    "hideOutput": false,
    "hidePrompt": false
   },
   "outputs": [
    {
     "data": {
      "text/html": [
       "\n",
       "    <form action=\"javascript:code_toggle()\"><input type=\"submit\" id=\"toggleButton\" value=\"Toggle Docstring\"></form>\n",
       "    \n",
       "         <script>\n",
       "         function code_toggle() {\n",
       "             if ($('div.cell.code_cell.rendered.selected div.input').css('display')!='none'){\n",
       "                 $('div.cell.code_cell.rendered.selected div.input').hide();\n",
       "             } else {\n",
       "                 $('div.cell.code_cell.rendered.selected div.input').show();\n",
       "             }\n",
       "         }\n",
       "         </script>\n",
       "\n",
       "     "
      ],
      "text/plain": [
       "<IPython.core.display.HTML object>"
      ]
     },
     "metadata": {},
     "output_type": "display_data"
    }
   ],
   "source": [
    "from lusidtools.jupyter_tools import toggle_code\n",
    "\n",
    "\"\"\"Corporate Actions in LUSID\n",
    "\n",
    "Attributes\n",
    "----------\n",
    "corporate actions\n",
    "transactions\n",
    "derived portfolios\n",
    "holdings\n",
    "\"\"\"\n",
    "\n",
    "toggle_code(\"Toggle Docstring\")"
   ]
  },
  {
   "cell_type": "markdown",
   "metadata": {},
   "source": [
    "# FINBOURNE notebook style guide\n",
    "\n",
    "The title should be in markdown H1 followed by a short paragraph summarising the notebook contents. \n",
    "\n",
    "Example:\n",
    "\n",
    "This notebook outlines the Jupyter style guide for FINBOURNE. \n",
    "\n",
    "The summary can also include a table of contents:\n",
    "\n",
    "\n",
    "###  Table of contents\n",
    "\n",
    "* [Setup](#setup)\n",
    "* [1. Code style guide](#code-style)\n",
    "* [2. Markdown and writing style guide](#writing-style)"
   ]
  },
  {
   "cell_type": "markdown",
   "metadata": {},
   "source": [
    "## Setup\n",
    "\n",
    "The setup section should contain 3 code cells:\n",
    "\n",
    "* The first code cell in the setup is used to import packages and connect to LUSID."
   ]
  },
  {
   "cell_type": "code",
   "execution_count": null,
   "metadata": {},
   "outputs": [],
   "source": [
    "# Use first block to import generic non-LUSID packages\n",
    "import os\n",
    "import pandas as pd\n",
    "import datetime\n",
    "import json\n",
    "import pytz\n",
    "from IPython.core.display import HTML\n",
    "\n",
    "# Then import the key modules from the LUSID package (i.e. The LUSID SDK)\n",
    "import lusid as lu\n",
    "import lusid.api as la\n",
    "import lusid.models as lm\n",
    "\n",
    "# And use absolute imports to import key functions from Lusid-Python-Tools and other helper package\n",
    "\n",
    "from lusid.utilities import ApiClientFactory\n",
    "from lusidjam import RefreshingToken\n",
    "from lusidtools.cocoon.cocoon import load_from_data_frame\n",
    "from lusidtools.pandas_utils.lusid_pandas import lusid_response_to_data_frame\n",
    "from lusidtools.jupyter_tools import StopExecution\n",
    "\n",
    "# Set DataFrame display formats\n",
    "pd.set_option(\"display.max_columns\", None)\n",
    "pd.set_option(\"display.max_rows\", None)\n",
    "pd.options.display.float_format = \"${:,.2f}\".format\n",
    "display(HTML(\"<style>.container { width:90% !important; }</style>\"))\n",
    "\n",
    "# Authenticate our user and create our API client\n",
    "secrets_path = os.getenv(\"FBN_SECRETS_PATH\")\n",
    "\n",
    "api_factory = ApiClientFactory(\n",
    "    token=RefreshingToken(),\n",
    "    api_secrets_filename=secrets_path,\n",
    "    app_name=\"LusidJupyterNotebook\",\n",
    ")\n",
    "\n",
    "api_status = pd.DataFrame(\n",
    "    api_factory.build(lu.ApplicationMetadataApi).get_lusid_versions().to_dict()\n",
    ")\n",
    "\n",
    "display(api_status)"
   ]
  },
  {
   "cell_type": "markdown",
   "metadata": {},
   "source": [
    "* The second code cell in the setup is used to declare the api we'll use throughout the notebook."
   ]
  },
  {
   "cell_type": "code",
   "execution_count": 2,
   "metadata": {},
   "outputs": [],
   "source": [
    "transaction_portfolios_api = api_factory.build(la.TransactionPortfoliosApi)\n",
    "portfolios_api = api_factory.build(la.PortfoliosApi)\n",
    "scopes_api = api_factory.build(la.ScopesApi)\n",
    "instruments_api = api_factory.build(la.InstrumentsApi)"
   ]
  },
  {
   "cell_type": "markdown",
   "metadata": {},
   "source": [
    "* The third code cell in the setup is used to define variables which are re-used throughout the notebook."
   ]
  },
  {
   "cell_type": "code",
   "execution_count": 3,
   "metadata": {},
   "outputs": [],
   "source": [
    "portfolio_code = \"equityTech\"\n",
    "scope = \"emeaIBOR\"\n",
    "created_date = \"2020-01-01\""
   ]
  },
  {
   "cell_type": "markdown",
   "metadata": {},
   "source": [
    "## 1. Notebook code style guide <a name = \"code-style\"></a>\n",
    "\n",
    "This section outlines code style and structure recommendations."
   ]
  },
  {
   "cell_type": "markdown",
   "metadata": {},
   "source": [
    "### 1.1 Run <i>black</i> on all Python code to ensure consistent code formatting\n",
    "\n",
    "Use the [black](https://github.com/psf/black) package to ensure clean and consistent code.\n",
    "\n",
    "Note - this command should not be committed to the published version of your notebook. Rather you should run the command before commiting to ensure that other code cells are formatted nicely."
   ]
  },
  {
   "cell_type": "code",
   "execution_count": 4,
   "metadata": {},
   "outputs": [],
   "source": [
    "# Uncomment this magic command to run\n",
    "# %load_ext nb_black"
   ]
  },
  {
   "cell_type": "markdown",
   "metadata": {},
   "source": [
    "### 1.2 camelCase should be used for all variable values\n",
    "\n",
    "We use camelCase for variable values. \n",
    "\n",
    "This keeps our code consistent with the case of the underlying API parameters.\n",
    "\n",
    "Example: <b>lusidInstrumentId</b>\n",
    "\n",
    "See the [docs](https://www.lusid.com/docs/api/) for more details."
   ]
  },
  {
   "cell_type": "code",
   "execution_count": 5,
   "metadata": {},
   "outputs": [],
   "source": [
    "portfolio_code = \"equityTech\""
   ]
  },
  {
   "cell_type": "markdown",
   "metadata": {},
   "source": [
    "### 1.3 However snake_case is used for variable names\n",
    "\n",
    "This keeps the format consistent with Python's [PEP 8](https://www.python.org/dev/peps/pep-0008/#function-and-variable-names)"
   ]
  },
  {
   "cell_type": "code",
   "execution_count": 6,
   "metadata": {},
   "outputs": [],
   "source": [
    "portfolio_location = \"emeaRegion\""
   ]
  },
  {
   "cell_type": "markdown",
   "metadata": {},
   "source": [
    "### 1.4 You should Create rather than Set new Transaction Type configurations\n",
    "\n",
    "We use [CreateConfigurationTransactionType](https://www.lusid.com/docs/api/#operation/CreateConfigurationTransactionType) rather than [SetConfigurationTransactionTypes](https://www.lusid.com/docs/api/#operation/SetConfigurationTransactionTypes) when creating new `Transaction Types` within a notebook. \n",
    "\n",
    "Why?\n",
    "The Create method appends your new transaction type configuration to the current set whereas the Set method overrides the current set. `Transaction Types` are system wide settings which drive much of LUSID's movement engine functionality and modifying them can have unintended consequences.\n"
   ]
  },
  {
   "cell_type": "markdown",
   "metadata": {},
   "source": [
    "### 1.5 All notebooks should be idempotent\n",
    "\n",
    "Your notebook should be able to run (a) across any LUSID environment; and (b) without dependencies on data setup which happens outside the notebook. \n",
    "\n",
    "For example, consider a notebook function which needs prices for an instrument. Those prices should be set within the same notebook so that a new user with a new environment can run the notebook successfully."
   ]
  },
  {
   "cell_type": "markdown",
   "metadata": {},
   "source": [
    "### 1.6 Handle exceptions gracefully with sensible try except blocks\n",
    "\n",
    "You should use LUSID's [error codes](https://www.lusid.com/docs/api/#section/Error-Codes) to handle exceptions in your code. This will also help keep the notebooks idempotent. Consider the example below. The notebook would not be idempotent if you did not handle the exception - it would run successfully first run, but fail for each subsequent run."
   ]
  },
  {
   "cell_type": "code",
   "execution_count": 7,
   "metadata": {},
   "outputs": [
    {
     "data": {
      "text/plain": [
       "'Found portfolio techPortfolio in scope equityPortfolios'"
      ]
     },
     "metadata": {},
     "output_type": "display_data"
    }
   ],
   "source": [
    "# Define a portfolio and scope for our request\n",
    "portfolio_scope = \"equityPortfolios\"\n",
    "portfolio_code = \"techPortfolio\"\n",
    "\n",
    "\n",
    "# Try and get a portfolio called techPortfolio\n",
    "# If that portfolio does not exists, then create it\n",
    "\n",
    "try:\n",
    "\n",
    "    tech_portfolio = portfolios_api.get_portfolio(\n",
    "        scope=portfolio_scope, code=portfolio_code\n",
    "    )\n",
    "\n",
    "    display(f\"Found portfolio {portfolio_code} in scope {portfolio_scope}\")\n",
    "\n",
    "except lu.ApiException as e:\n",
    "    if json.loads(e.body)[\"name\"] == \"PortfolioNotFound\":\n",
    "        create_portfolio = transaction_portfolios_api.create_portfolio(\n",
    "            scope=portfolio_scope,\n",
    "            create_transaction_portfolio_request=lm.CreateTransactionPortfolioRequest(\n",
    "                code=portfolio_code, display_name=portfolio_code, base_currency=\"USD\"\n",
    "            ),\n",
    "        )\n",
    "\n",
    "    display(f\"Created new portfolio {portfolio_code} in scope {portfolio_scope}\")"
   ]
  },
  {
   "cell_type": "markdown",
   "metadata": {},
   "source": [
    "### 1.7 Avoid using GUIDs for scopes and codes (if possible)\n",
    "\n",
    "You should avoid creating a new GUID for scopes and codes as we don't want to create a new scope and/or code for each run. Instead you should try and upsert a static code and scope. To ensure idempotency, you can then:\n",
    "\n",
    "1. Use `upsert` methods where possible\n",
    "\n",
    "These can be used to reset your data. For example, you can `upsert` a set of transactions at the start of your notebook. The upsert should bring the transactions back into a desired state if they had already been modified by a previous run of the notebook.  \n",
    "\n",
    "2. Otherwise implement a try except block (as above)\n",
    "\n",
    "You can also implement a try except block. Consider the example above.\n",
    "\n",
    "3. Tear down any changes at the end of your notebook\n",
    "\n",
    "Finally you can tear-down any changes at the end of your notebook. You can cancel or reverse any changes made throughout the notebook, so it starts from it's original state during the next run."
   ]
  },
  {
   "cell_type": "markdown",
   "metadata": {},
   "source": [
    "### 1.8 Datetimes should be declared using datetime objects\n",
    "\n",
    "Dates and times should be declared using the datetime object rather than a string."
   ]
  },
  {
   "cell_type": "code",
   "execution_count": 8,
   "metadata": {},
   "outputs": [],
   "source": [
    "start_date = datetime.datetime(year=2020, month=6, day=20, tzinfo=pytz.UTC)"
   ]
  },
  {
   "cell_type": "markdown",
   "metadata": {},
   "source": [
    "And date strings should be printed in [ISO](https://en.wikipedia.org/wiki/ISO_8601) format:"
   ]
  },
  {
   "cell_type": "code",
   "execution_count": 9,
   "metadata": {},
   "outputs": [
    {
     "data": {
      "text/plain": [
       "'2020-06-20T00:00:00+00:00'"
      ]
     },
     "metadata": {},
     "output_type": "display_data"
    }
   ],
   "source": [
    "display(start_date.isoformat())"
   ]
  },
  {
   "cell_type": "markdown",
   "metadata": {},
   "source": [
    "### 1.9 Trigger a notebook to stop\n",
    "\n",
    "The following exception and format should be used to stop a notebook running (if required).\n",
    "\n",
    "In this example, we are stopping the notebook due to a missing portfolio."
   ]
  },
  {
   "cell_type": "code",
   "execution_count": 10,
   "metadata": {},
   "outputs": [],
   "source": [
    "# Change conditional from next line to raise the exception\n",
    "\n",
    "if False:  # Change to True to stop the notebook\n",
    "    raise StopExecution(f\"Missing portfolio {portfolio_code}\")\n",
    "else:\n",
    "    pass"
   ]
  },
  {
   "cell_type": "markdown",
   "metadata": {},
   "source": [
    "### 1.10 Convert LUSID responses to DataFrames rather than showing raw JSON\n",
    "\n",
    "We love JSON at FINBOURNE but DataFrames look better for notebooks:"
   ]
  },
  {
   "cell_type": "code",
   "execution_count": 11,
   "metadata": {},
   "outputs": [
    {
     "data": {
      "text/html": [
       "<div>\n",
       "<style scoped>\n",
       "    .dataframe tbody tr th:only-of-type {\n",
       "        vertical-align: middle;\n",
       "    }\n",
       "\n",
       "    .dataframe tbody tr th {\n",
       "        vertical-align: top;\n",
       "    }\n",
       "\n",
       "    .dataframe thead th {\n",
       "        text-align: right;\n",
       "    }\n",
       "</style>\n",
       "<table border=\"1\" class=\"dataframe\">\n",
       "  <thead>\n",
       "    <tr style=\"text-align: right;\">\n",
       "      <th></th>\n",
       "      <th>href</th>\n",
       "      <th>scope</th>\n",
       "      <th>lusid_instrument_id</th>\n",
       "      <th>version.effective_from</th>\n",
       "      <th>version.as_at_date</th>\n",
       "      <th>name</th>\n",
       "      <th>identifiers.LusidInstrumentId</th>\n",
       "      <th>identifiers.Currency</th>\n",
       "      <th>properties</th>\n",
       "      <th>state</th>\n",
       "      <th>asset_class</th>\n",
       "      <th>dom_ccy</th>\n",
       "    </tr>\n",
       "  </thead>\n",
       "  <tbody>\n",
       "    <tr>\n",
       "      <th>0</th>\n",
       "      <td>https://fbn-ci.lusid.com/api/api/instruments/L...</td>\n",
       "      <td>default</td>\n",
       "      <td>CCY_ADA</td>\n",
       "      <td>0001-01-01 00:00:00+00:00</td>\n",
       "      <td>2022-01-05 17:21:18.805008+00:00</td>\n",
       "      <td>ADA</td>\n",
       "      <td>CCY_ADA</td>\n",
       "      <td>ADA</td>\n",
       "      <td>[]</td>\n",
       "      <td>Active</td>\n",
       "      <td>Unknown</td>\n",
       "      <td>ZZZ</td>\n",
       "    </tr>\n",
       "    <tr>\n",
       "      <th>1</th>\n",
       "      <td>https://fbn-ci.lusid.com/api/api/instruments/L...</td>\n",
       "      <td>default</td>\n",
       "      <td>CCY_AED</td>\n",
       "      <td>0001-01-01 00:00:00+00:00</td>\n",
       "      <td>2022-01-05 17:21:18.805008+00:00</td>\n",
       "      <td>UAE DIRHAM</td>\n",
       "      <td>CCY_AED</td>\n",
       "      <td>AED</td>\n",
       "      <td>[]</td>\n",
       "      <td>Active</td>\n",
       "      <td>Unknown</td>\n",
       "      <td>ZZZ</td>\n",
       "    </tr>\n",
       "    <tr>\n",
       "      <th>2</th>\n",
       "      <td>https://fbn-ci.lusid.com/api/api/instruments/L...</td>\n",
       "      <td>default</td>\n",
       "      <td>CCY_AFN</td>\n",
       "      <td>0001-01-01 00:00:00+00:00</td>\n",
       "      <td>2022-01-05 17:21:18.805008+00:00</td>\n",
       "      <td>AFN</td>\n",
       "      <td>CCY_AFN</td>\n",
       "      <td>AFN</td>\n",
       "      <td>[]</td>\n",
       "      <td>Active</td>\n",
       "      <td>Unknown</td>\n",
       "      <td>ZZZ</td>\n",
       "    </tr>\n",
       "  </tbody>\n",
       "</table>\n",
       "</div>"
      ],
      "text/plain": [
       "                                                href    scope  \\\n",
       "0  https://fbn-ci.lusid.com/api/api/instruments/L...  default   \n",
       "1  https://fbn-ci.lusid.com/api/api/instruments/L...  default   \n",
       "2  https://fbn-ci.lusid.com/api/api/instruments/L...  default   \n",
       "\n",
       "  lusid_instrument_id     version.effective_from  \\\n",
       "0             CCY_ADA  0001-01-01 00:00:00+00:00   \n",
       "1             CCY_AED  0001-01-01 00:00:00+00:00   \n",
       "2             CCY_AFN  0001-01-01 00:00:00+00:00   \n",
       "\n",
       "                version.as_at_date        name identifiers.LusidInstrumentId  \\\n",
       "0 2022-01-05 17:21:18.805008+00:00         ADA                       CCY_ADA   \n",
       "1 2022-01-05 17:21:18.805008+00:00  UAE DIRHAM                       CCY_AED   \n",
       "2 2022-01-05 17:21:18.805008+00:00         AFN                       CCY_AFN   \n",
       "\n",
       "  identifiers.Currency properties   state asset_class dom_ccy  \n",
       "0                  ADA         []  Active     Unknown     ZZZ  \n",
       "1                  AED         []  Active     Unknown     ZZZ  \n",
       "2                  AFN         []  Active     Unknown     ZZZ  "
      ]
     },
     "metadata": {},
     "output_type": "display_data"
    }
   ],
   "source": [
    "# The lusid_response_to_data_frame function converts the LUSID JSON response to a DataFrame\n",
    "\n",
    "instruments_df = lusid_response_to_data_frame(\n",
    "    instruments_api.list_instruments(limit=3), rename_properties=True\n",
    ")\n",
    "\n",
    "display(instruments_df)"
   ]
  },
  {
   "cell_type": "markdown",
   "metadata": {},
   "source": [
    "You can also change the default column names using the <b>column_name_mapping</b> parameter of <b>lusid_response_to_data_frame</b>.\n",
    "\n",
    "Example:"
   ]
  },
  {
   "cell_type": "code",
   "execution_count": 12,
   "metadata": {},
   "outputs": [
    {
     "data": {
      "text/html": [
       "<div>\n",
       "<style scoped>\n",
       "    .dataframe tbody tr th:only-of-type {\n",
       "        vertical-align: middle;\n",
       "    }\n",
       "\n",
       "    .dataframe tbody tr th {\n",
       "        vertical-align: top;\n",
       "    }\n",
       "\n",
       "    .dataframe thead th {\n",
       "        text-align: right;\n",
       "    }\n",
       "</style>\n",
       "<table border=\"1\" class=\"dataframe\">\n",
       "  <thead>\n",
       "    <tr style=\"text-align: right;\">\n",
       "      <th></th>\n",
       "      <th>href</th>\n",
       "      <th>scope</th>\n",
       "      <th>LUID</th>\n",
       "      <th>version.effective_from</th>\n",
       "      <th>version.as_at_date</th>\n",
       "      <th>name</th>\n",
       "      <th>InstrumentCcy</th>\n",
       "      <th>identifiers.LusidInstrumentId</th>\n",
       "      <th>properties</th>\n",
       "      <th>state</th>\n",
       "      <th>asset_class</th>\n",
       "      <th>dom_ccy</th>\n",
       "    </tr>\n",
       "  </thead>\n",
       "  <tbody>\n",
       "    <tr>\n",
       "      <th>0</th>\n",
       "      <td>https://fbn-ci.lusid.com/api/api/instruments/L...</td>\n",
       "      <td>default</td>\n",
       "      <td>CCY_ADA</td>\n",
       "      <td>0001-01-01 00:00:00+00:00</td>\n",
       "      <td>2022-01-05 17:21:20.413593+00:00</td>\n",
       "      <td>ADA</td>\n",
       "      <td>ADA</td>\n",
       "      <td>CCY_ADA</td>\n",
       "      <td>[]</td>\n",
       "      <td>Active</td>\n",
       "      <td>Unknown</td>\n",
       "      <td>ZZZ</td>\n",
       "    </tr>\n",
       "    <tr>\n",
       "      <th>1</th>\n",
       "      <td>https://fbn-ci.lusid.com/api/api/instruments/L...</td>\n",
       "      <td>default</td>\n",
       "      <td>CCY_AED</td>\n",
       "      <td>0001-01-01 00:00:00+00:00</td>\n",
       "      <td>2022-01-05 17:21:20.413593+00:00</td>\n",
       "      <td>UAE DIRHAM</td>\n",
       "      <td>AED</td>\n",
       "      <td>CCY_AED</td>\n",
       "      <td>[]</td>\n",
       "      <td>Active</td>\n",
       "      <td>Unknown</td>\n",
       "      <td>ZZZ</td>\n",
       "    </tr>\n",
       "    <tr>\n",
       "      <th>2</th>\n",
       "      <td>https://fbn-ci.lusid.com/api/api/instruments/L...</td>\n",
       "      <td>default</td>\n",
       "      <td>CCY_AFN</td>\n",
       "      <td>0001-01-01 00:00:00+00:00</td>\n",
       "      <td>2022-01-05 17:21:20.413593+00:00</td>\n",
       "      <td>AFN</td>\n",
       "      <td>AFN</td>\n",
       "      <td>CCY_AFN</td>\n",
       "      <td>[]</td>\n",
       "      <td>Active</td>\n",
       "      <td>Unknown</td>\n",
       "      <td>ZZZ</td>\n",
       "    </tr>\n",
       "  </tbody>\n",
       "</table>\n",
       "</div>"
      ],
      "text/plain": [
       "                                                href    scope     LUID  \\\n",
       "0  https://fbn-ci.lusid.com/api/api/instruments/L...  default  CCY_ADA   \n",
       "1  https://fbn-ci.lusid.com/api/api/instruments/L...  default  CCY_AED   \n",
       "2  https://fbn-ci.lusid.com/api/api/instruments/L...  default  CCY_AFN   \n",
       "\n",
       "      version.effective_from               version.as_at_date        name  \\\n",
       "0  0001-01-01 00:00:00+00:00 2022-01-05 17:21:20.413593+00:00         ADA   \n",
       "1  0001-01-01 00:00:00+00:00 2022-01-05 17:21:20.413593+00:00  UAE DIRHAM   \n",
       "2  0001-01-01 00:00:00+00:00 2022-01-05 17:21:20.413593+00:00         AFN   \n",
       "\n",
       "  InstrumentCcy identifiers.LusidInstrumentId properties   state asset_class  \\\n",
       "0           ADA                       CCY_ADA         []  Active     Unknown   \n",
       "1           AED                       CCY_AED         []  Active     Unknown   \n",
       "2           AFN                       CCY_AFN         []  Active     Unknown   \n",
       "\n",
       "  dom_ccy  \n",
       "0     ZZZ  \n",
       "1     ZZZ  \n",
       "2     ZZZ  "
      ]
     },
     "metadata": {},
     "output_type": "display_data"
    }
   ],
   "source": [
    "# Define dict of old name: new name\n",
    "\n",
    "column_name_mapping = {\n",
    "    \"lusid_instrument_id\": \"LUID\",\n",
    "    \"identifiers.Currency\": \"InstrumentCcy\",\n",
    "}\n",
    "\n",
    "# Pass the new column_name_mapping parameter to the function\n",
    "instruments_df = lusid_response_to_data_frame(\n",
    "    instruments_api.list_instruments(limit=3),\n",
    "    column_name_mapping=column_name_mapping,\n",
    "    rename_properties=True,\n",
    ")\n",
    "\n",
    "display(instruments_df)"
   ]
  },
  {
   "cell_type": "markdown",
   "metadata": {},
   "source": [
    "### 1.11 Use display() rather than print()\n",
    "\n",
    "The display() function has a prettier output than print() in notebooks. Also, display will show all items in a loop, and not just the last item."
   ]
  },
  {
   "cell_type": "code",
   "execution_count": 14,
   "metadata": {},
   "outputs": [],
   "source": [
    "%%capture \n",
    "# Use the capture magic command to surpress output for this notebook\n",
    "# Note that we need to break Python comment convention here\n",
    "# Comments should typically be placed above or beside code\n",
    "# The %%capture command however needs to be places on line 1 in a Cell\n",
    "\n",
    "print(instruments_df);\n",
    "display(instruments_df);"
   ]
  },
  {
   "cell_type": "markdown",
   "metadata": {},
   "source": [
    "### 1.12 The output of code cells should be committed to source control\n",
    "\n",
    "These notebooks are designed to demonstrate functionality and use-cases of LUSID. They can be read and understood without actually running the code. Therefore you should include the output of your code in the published version. "
   ]
  },
  {
   "cell_type": "markdown",
   "metadata": {},
   "source": [
    "### 1.13 You should only import packages used in the notebook\n",
    "\n",
    "Do not import packages which are not used in the notebook."
   ]
  },
  {
   "cell_type": "markdown",
   "metadata": {},
   "source": [
    "## 2. Markdown and writing style guide <a name = \"writing-style\"></a>\n",
    "\n",
    "This section outlines markdown and writing style recommendations."
   ]
  },
  {
   "cell_type": "markdown",
   "metadata": {},
   "source": [
    "### 2.1 Make use of headers (this is a H3 header)\n",
    "\n",
    "The headers should be used as follows:\n",
    "\n",
    "# H1 for notebook Title\n",
    "## H2 for new sections\n",
    "### H3 for sub sections"
   ]
  },
  {
   "cell_type": "markdown",
   "metadata": {},
   "source": [
    "### 2.2 References to core LUSID data entities in the markdown should be highlighted \n",
    "\n",
    "For example, `Transactions`, `Instruments` and `Derived Portfolios` are all first class LUSID data entities. These should be highlighted so that the reader knows we are referring to a specific LUSID object rather than a more general concept."
   ]
  },
  {
   "cell_type": "markdown",
   "metadata": {},
   "source": [
    "### 2.3 Readers should be linked back to the Knowledge Base for core concepts\n",
    "\n",
    "For example, in the sentence below we link the reader to the knowlege base to learn more about scopes.\n",
    "\n",
    "Example:\n",
    "\n",
    "\"Add your portfolio into the [scope](https://support.finbourne.com/what-is-a-scope-in-lusid-and-how-is-it-used) called uKScope\""
   ]
  },
  {
   "cell_type": "markdown",
   "metadata": {},
   "source": [
    "### 2.4 We use the Google tech writing rules as a guide\n",
    "\n",
    "You can see the full documentation here:\n",
    "\n",
    "[Tech writing](https://developers.google.com/tech-writing)\n",
    "\n",
    "Some key points to highlight:\n",
    "\n",
    "* Use terms consistently (example: don't jump between describing \"positions\" and \"holdings\")\n",
    "* Avoid ambiguous pronouns\n",
    "* Prefer active voice to passive voice\n",
    "* Convert some long sentences to lists\n",
    "* Eliminate unneeded words\n",
    "* Use a numbered list when ordering is important and a bulleted list when ordering is irrelevant\n",
    "* Focus each paragraph on a single topic.\n",
    "\n",
    "Exceptions to this guide:\n",
    "\n",
    "* We use British English rather than American English (Example: Colour and not Color)"
   ]
  },
  {
   "cell_type": "markdown",
   "metadata": {},
   "source": [
    "### 2.5 Use markdown cells for commentary, only use # for code comments"
   ]
  },
  {
   "cell_type": "markdown",
   "metadata": {},
   "source": [
    "Example: \n",
    "    \n",
    "LUSID supports multiple identifier types for instruments"
   ]
  },
  {
   "cell_type": "code",
   "execution_count": 16,
   "metadata": {},
   "outputs": [],
   "source": [
    "# returns the list of valid identifer types\n",
    "identifiers = instruments_api.get_instrument_identifier_types()"
   ]
  },
  {
   "cell_type": "markdown",
   "metadata": {},
   "source": [
    "### 2.6 Don't leave an empty cell at the end of the notebook\n",
    "\n",
    "A common way to run notebooks is to select \"Ctrl+Enter\" as you progress through the cells. This is a really useful shortcut however running \"Ctrl+Enter\"on the last cell will create a new empty cell. It's good practise to remove this blank cell before commiting to source control. "
   ]
  }
 ],
 "metadata": {
  "kernelspec": {
   "display_name": "Python 3 (ipykernel)",
   "language": "python",
   "name": "python3"
  },
  "language_info": {
   "codemirror_mode": {
    "name": "ipython",
    "version": 3
   },
   "file_extension": ".py",
   "mimetype": "text/x-python",
   "name": "python",
   "nbconvert_exporter": "python",
   "pygments_lexer": "ipython3",
   "version": "3.9.7"
  }
 },
 "nbformat": 4,
 "nbformat_minor": 4
}
