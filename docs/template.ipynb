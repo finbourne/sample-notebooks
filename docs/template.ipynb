{
 "cells": [
  {
   "cell_type": "code",
   "execution_count": null,
   "metadata": {
    "hideCode": false,
    "hideOutput": false,
    "hidePrompt": false
   },
   "outputs": [],
   "source": [
    "from lusidtools.jupyter_tools import toggle_code\n",
    "\n",
    "\"\"\"\n",
    "Description here\n",
    "\n",
    "Attributes\n",
    "----------\n",
    "\"\"\"\n",
    "\n",
    "toggle_code(\"Toggle Docstring\")"
   ]
  },
  {
   "cell_type": "markdown",
   "metadata": {},
   "source": [
    "# Title\n",
    "\n",
    "The title should be in markdown H1 followed by a short paragraph summarising the notebook contents. \n",
    "\n",
    "Example:\n",
    "\n",
    "This notebook outlines the Jupyter style guide for FINBOURNE. \n",
    "\n",
    "The summary can also include a table of contents:\n",
    "\n",
    "\n",
    "###  Table of contents\n",
    "\n",
    "* [Setup](#setup)\n",
    "* [1. Code style guide](#code-style)\n",
    "* [2. Markdown and writing style guide](#writing-style)"
   ]
  },
  {
   "cell_type": "code",
   "execution_count": null,
   "metadata": {},
   "outputs": [],
   "source": [
    "# Use first block to import generic non-LUSID packages\n",
    "import os\n",
    "import pandas as pd\n",
    "import datetime\n",
    "import json\n",
    "import pytz\n",
    "from IPython.core.display import HTML\n",
    "\n",
    "# Then import the key modules from the LUSID package (i.e. The LUSID SDK)\n",
    "import lusid as lu\n",
    "import lusid.api as la\n",
    "import lusid.models as lm\n",
    "\n",
    "# And use absolute imports to import key functions from Lusid-Python-Tools and other helper package\n",
    "\n",
    "from lusid.utilities import ApiClientFactory\n",
    "from lusidjam import RefreshingToken\n",
    "from lusidtools.cocoon.cocoon import load_from_data_frame\n",
    "from lusidtools.pandas_utils.lusid_pandas import lusid_response_to_data_frame\n",
    "from lusidtools.jupyter_tools import StopExecution\n",
    "\n",
    "# Set DataFrame display formats\n",
    "pd.set_option(\"display.max_columns\", None)\n",
    "pd.set_option(\"display.max_rows\", None)\n",
    "pd.options.display.float_format = \"${:,.2f}\".format\n",
    "display(HTML(\"<style>.container { width:90% !important; }</style>\"))\n",
    "\n",
    "# Authenticate our user and create our API client\n",
    "secrets_path = os.getenv(\"FBN_SECRETS_PATH\")\n",
    "\n",
    "if secrets_path is None:\n",
    "    secrets_path = os.path.join(os.path.dirname(os.getcwd()), \"secrets.json\")\n",
    "\n",
    "api_factory = ApiClientFactory(\n",
    "    token=RefreshingToken(),\n",
    "    api_secrets_filename=secrets_path,\n",
    "    app_name=\"LusidJupyterNotebook\",\n",
    ")\n",
    "\n",
    "api_status = pd.DataFrame(\n",
    "    api_factory.build(lu.ApplicationMetadataApi).get_lusid_versions().to_dict()\n",
    ")\n",
    "\n",
    "display(api_status)"
   ]
  }
 ],
 "metadata": {
  "kernelspec": {
   "name": "python3",
   "display_name": "Python 3.9.1 64-bit ('venv': venv)"
  },
  "language_info": {
   "codemirror_mode": {
    "name": "ipython",
    "version": 3
   },
   "file_extension": ".py",
   "mimetype": "text/x-python",
   "name": "python",
   "nbconvert_exporter": "python",
   "pygments_lexer": "ipython3",
   "version": "3.9.1"
  },
  "interpreter": {
   "hash": "8b6bd95ff83053194224e9ceca98d3da595151ca9a40ed39ba9e054ce3ee4c3a"
  }
 },
 "nbformat": 4,
 "nbformat_minor": 4
}