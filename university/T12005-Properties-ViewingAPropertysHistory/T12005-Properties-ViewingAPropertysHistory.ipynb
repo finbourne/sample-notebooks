{
 "cells": [
  {
   "cell_type": "code",
   "execution_count": 1,
   "id": "e5fb1a72",
   "metadata": {
    "slideshow": {
     "slide_type": "skip"
    }
   },
   "outputs": [],
   "source": [
    "import pandas as pd\n",
    "pd.options.display.float_format = \"{:,.2f}\".format"
   ]
  },
  {
   "cell_type": "markdown",
   "id": "e32e01fe",
   "metadata": {
    "slideshow": {
     "slide_type": "slide"
    }
   },
   "source": [
    "<p style=\"font-family: Montserrat; color: #203443; font-weight: bold; font-size: 125%\">What are we going to cover?</p>"
   ]
  },
  {
   "cell_type": "markdown",
   "id": "7abac222",
   "metadata": {
    "slideshow": {
     "slide_type": "fragment"
    }
   },
   "source": [
    "<ul>\n",
    "    <li style=\"color: #ff5200\"><p style=\"font-family: Montserrat; color: #203443\">How can we view the entire history of a Property's value using the LUSID APIs via the Python SDK?</p></li>\n",
    "</ul>"
   ]
  },
  {
   "cell_type": "markdown",
   "id": "3beb1935",
   "metadata": {
    "slideshow": {
     "slide_type": "fragment"
    }
   },
   "source": [
    "<ul>\n",
    "    <li style=\"color: #ff5200\"><p style=\"font-family: Montserrat; color: #203443\">How can we use the Property history to understand what the value of the Property is at any point in bi-temporal space?</p></li>\n",
    "</ul>"
   ]
  },
  {
   "cell_type": "markdown",
   "id": "d17b2565",
   "metadata": {
    "slideshow": {
     "slide_type": "slide"
    }
   },
   "source": [
    "<p style=\"font-family: Montserrat; color: #203443; font-weight: bold; font-size: 125%\">Retrieving the History of a Time-Variant Property's Values</p>"
   ]
  },
  {
   "cell_type": "code",
   "execution_count": 2,
   "id": "91763411",
   "metadata": {
    "slideshow": {
     "slide_type": "subslide"
    }
   },
   "outputs": [],
   "source": [
    "import pprint\n",
    "\n",
    "import lusid\n",
    "from lusidjam import RefreshingToken\n",
    "from lusidtools.pandas_utils.lusid_pandas import lusid_response_to_data_frame\n",
    "\n",
    "api_factory = lusid.utilities.ApiClientFactory(token=RefreshingToken())\n",
    "instruments_api = api_factory.build(lusid.api.InstrumentsApi)\n"
   ]
  },
  {
   "cell_type": "code",
   "execution_count": 3,
   "id": "6d67cb19",
   "metadata": {
    "slideshow": {
     "slide_type": "skip"
    }
   },
   "outputs": [
    {
     "data": {
      "text/plain": [
       "{'failed': {},\n",
       " 'href': None,\n",
       " 'links': [{'description': None,\n",
       "            'href': 'https://demo.lusid.com/api/api/schemas/entities/UpsertInstrumentsResponse',\n",
       "            'method': 'GET',\n",
       "            'relation': 'EntitySchema'},\n",
       "           {'description': 'A link to the LUSID Insights website showing all '\n",
       "                           'logs related to this request',\n",
       "            'href': 'http://demo.lusid.com/app/insights/logs/0HMSTB5RBVOFJ:0000008D',\n",
       "            'method': 'GET',\n",
       "            'relation': 'RequestLogs'}],\n",
       " 'metadata': {'actions': [{'description': 'The request identifiers of Unchanged Instruments',\n",
       " 'identifier_type': 'RequestId',\n",
       " 'identifiers': ['instr_1'],\n",
       " 'type': 'UnchangedInstruments'}]},\n",
       " 'values': {'instr_1': {'asset_class': 'Unknown',\n",
       "                        'dom_ccy': 'ZZZ',\n",
       "                        'href': 'https://demo.lusid.com/api/api/instruments/LusidInstrumentId/LUID_00003SOT?scope=FinbourneUniversity',\n",
       "                        'identifiers': {'Figi': 'BBG000BPH459',\n",
       "                                        'LusidInstrumentId': 'LUID_00003SOT'},\n",
       "                        'instrument_definition': None,\n",
       "                        'links': None,\n",
       "                        'lookthrough_portfolio': None,\n",
       "                        'lusid_instrument_id': 'LUID_00003SOT',\n",
       "                        'name': 'MICROSOFT CORP',\n",
       "                        'properties': [],\n",
       "                        'relationships': [],\n",
       "                        'scope': 'FinbourneUniversity',\n",
       "                        'state': 'Active',\n",
       "                        'version': {'as_at_created': datetime.datetime(2023, 3, 21, 3, 9, 35, 250877, tzinfo=tzlocal()),\n",
       "                                    'as_at_date': datetime.datetime(2023, 3, 21, 3, 9, 35, 250877, tzinfo=tzlocal()),\n",
       "                                    'as_at_modified': datetime.datetime(2023, 3, 30, 2, 42, 28, 752667, tzinfo=tzlocal()),\n",
       "                                    'as_at_version_number': 67,\n",
       "                                    'effective_from': datetime.datetime(1, 1, 1, 0, 0, tzinfo=tzlocal()),\n",
       "                                    'user_id_created': '00u89xerfkS08fj6e2p7',\n",
       "                                    'user_id_modified': '00u89xerfkS08fj6e2p7'}}}}"
      ]
     },
     "execution_count": 3,
     "metadata": {},
     "output_type": "execute_result"
    }
   ],
   "source": [
    "instruments_api.upsert_instruments(\n",
    "    scope=\"FinbourneUniversity\",\n",
    "    request_body={\n",
    "        \"instr_1\": lusid.InstrumentDefinition(\n",
    "            name=\"MICROSOFT CORP\",\n",
    "            identifiers={\n",
    "                \"Figi\": lusid.InstrumentIdValue(\n",
    "                    value=\"BBG000BPH459\"\n",
    "                )\n",
    "            }\n",
    "        )\n",
    "    }\n",
    ")"
   ]
  },
  {
   "cell_type": "code",
   "execution_count": 4,
   "id": "1a86289c",
   "metadata": {
    "slideshow": {
     "slide_type": "skip"
    }
   },
   "outputs": [],
   "source": [
    "property_definitions_api = api_factory.build(lusid.api.PropertyDefinitionsApi)\n",
    "\n",
    "try:\n",
    "    property_definitions_api.delete_property_definition(\n",
    "        domain=\"Instrument\",\n",
    "        scope=\"FinbourneUniversity\",\n",
    "        code=\"MarketCapitalisation\")\n",
    "except:\n",
    "    pass"
   ]
  },
  {
   "cell_type": "code",
   "execution_count": 5,
   "id": "b7a2faf5",
   "metadata": {
    "slideshow": {
     "slide_type": "skip"
    }
   },
   "outputs": [],
   "source": [
    "def upsert_instrument_properties(value, effective_from=None, effective_until=None):\n",
    "    \n",
    "    if value is None:\n",
    "        property_value = None\n",
    "    else:\n",
    "        property_value = lusid.PropertyValue(\n",
    "            metric_value=lusid.MetricValue(\n",
    "                value=value,\n",
    "                unit=\"USD\"\n",
    "            )\n",
    "        )\n",
    "\n",
    "    print(instruments_api.upsert_instruments_properties(\n",
    "        scope=\"FinbourneUniversity\",\n",
    "        upsert_instrument_property_request=[\n",
    "            lusid.UpsertInstrumentPropertyRequest(\n",
    "                identifier_type=\"Figi\",\n",
    "                identifier=\"BBG000BPH459\",\n",
    "                properties=[\n",
    "                    lusid.ModelProperty(\n",
    "                        key=\"Instrument/FinbourneUniversity/MarketCapitalisationv2\",\n",
    "                        value=property_value,\n",
    "                        effective_from=effective_from,\n",
    "                        effective_until=effective_until\n",
    "                    )\n",
    "                ]\n",
    "            )\n",
    "        ]\n",
    "    ))\n",
    "\n",
    "\n"
   ]
  },
  {
   "cell_type": "code",
   "execution_count": 6,
   "id": "b4e94d74",
   "metadata": {
    "slideshow": {
     "slide_type": "skip"
    }
   },
   "outputs": [],
   "source": [
    "property_definitions_api = api_factory.build(lusid.api.PropertyDefinitionsApi)\n",
    "\n",
    "try:\n",
    "    property_definitions_api.get_property_definition(\n",
    "        domain=\"Instrument\",\n",
    "        scope=\"FinbourneUniversity\",\n",
    "        code=\"MarketCapitalisationv2\")\n",
    "except:\n",
    "    issuer_prop_definition = property_definitions_api.create_property_definition(\n",
    "        create_property_definition_request=lusid.CreatePropertyDefinitionRequest(\n",
    "            domain=\"Instrument\",\n",
    "            scope=\"FinbourneUniversity\",\n",
    "            code=\"MarketCapitalisationv2\",\n",
    "            display_name=\"Market Capitalisation\",\n",
    "            property_description=\"The market capitalisation of the instrument\",\n",
    "            data_type_id=lusid.ResourceId(\n",
    "                scope=\"system\",\n",
    "                code=\"currencyAndAmount\"\n",
    "            ),\n",
    "            life_time=\"TimeVariant\",\n",
    "            constraint_style=\"Property\"\n",
    "        )\n",
    "    )\n",
    "    \n",
    "    upsert_instrument_properties(780360000000)\n",
    "    upsert_instrument_properties(1200000000000, effective_from=\"2020-01-01\")\n",
    "    upsert_instrument_properties(1680000000000, effective_from=\"2021-01-01\", effective_until=\"2022-01-01\")\n",
    "    upsert_instrument_properties(None, effective_from=None, effective_until=\"2018-12-31\")\n",
    "    upsert_instrument_properties(None, effective_from=\"2022-01-01\")"
   ]
  },
  {
   "cell_type": "code",
   "execution_count": 7,
   "id": "93809916",
   "metadata": {
    "slideshow": {
     "slide_type": "slide"
    }
   },
   "outputs": [
    {
     "data": {
      "text/html": [
       "<div>\n",
       "<style scoped>\n",
       "    .dataframe tbody tr th:only-of-type {\n",
       "        vertical-align: middle;\n",
       "    }\n",
       "\n",
       "    .dataframe tbody tr th {\n",
       "        vertical-align: top;\n",
       "    }\n",
       "\n",
       "    .dataframe thead th {\n",
       "        text-align: right;\n",
       "    }\n",
       "</style>\n",
       "<table border=\"1\" class=\"dataframe\">\n",
       "  <thead>\n",
       "    <tr style=\"text-align: right;\">\n",
       "      <th></th>\n",
       "      <th>value.metric_value.value</th>\n",
       "      <th>value.metric_value.unit</th>\n",
       "      <th>effective_range.from_date</th>\n",
       "      <th>effective_range.until_date</th>\n",
       "      <th>as_at_range.from_date</th>\n",
       "      <th>as_at_range.until_date</th>\n",
       "      <th>status</th>\n",
       "    </tr>\n",
       "  </thead>\n",
       "  <tbody>\n",
       "    <tr>\n",
       "      <th>0</th>\n",
       "      <td>780,360,000,000.00</td>\n",
       "      <td>USD</td>\n",
       "      <td>0001-01-01 00:00:00+00:00</td>\n",
       "      <td>9999-12-31 23:59:59.999999+00:00</td>\n",
       "      <td>2023-03-30 02:42:27.633368+00:00</td>\n",
       "      <td>2023-03-30 02:42:27.927445+00:00</td>\n",
       "      <td>superseded</td>\n",
       "    </tr>\n",
       "    <tr>\n",
       "      <th>1</th>\n",
       "      <td>780,360,000,000.00</td>\n",
       "      <td>USD</td>\n",
       "      <td>0001-01-01 00:00:00+00:00</td>\n",
       "      <td>2020-01-01 00:00:00+00:00</td>\n",
       "      <td>2023-03-30 02:42:27.927445+00:00</td>\n",
       "      <td>2023-03-30 02:42:28.366669+00:00</td>\n",
       "      <td>superseded</td>\n",
       "    </tr>\n",
       "    <tr>\n",
       "      <th>2</th>\n",
       "      <td>1,200,000,000,000.00</td>\n",
       "      <td>USD</td>\n",
       "      <td>2020-01-01 00:00:00+00:00</td>\n",
       "      <td>9999-12-31 23:59:59.999999+00:00</td>\n",
       "      <td>2023-03-30 02:42:27.927445+00:00</td>\n",
       "      <td>2023-03-30 02:42:28.162332+00:00</td>\n",
       "      <td>superseded</td>\n",
       "    </tr>\n",
       "    <tr>\n",
       "      <th>3</th>\n",
       "      <td>1,200,000,000,000.00</td>\n",
       "      <td>USD</td>\n",
       "      <td>2020-01-01 00:00:00+00:00</td>\n",
       "      <td>2021-01-01 00:00:00+00:00</td>\n",
       "      <td>2023-03-30 02:42:28.162332+00:00</td>\n",
       "      <td>NaT</td>\n",
       "      <td>prevailing</td>\n",
       "    </tr>\n",
       "    <tr>\n",
       "      <th>4</th>\n",
       "      <td>1,680,000,000,000.00</td>\n",
       "      <td>USD</td>\n",
       "      <td>2021-01-01 00:00:00+00:00</td>\n",
       "      <td>2022-01-01 00:00:00+00:00</td>\n",
       "      <td>2023-03-30 02:42:28.162332+00:00</td>\n",
       "      <td>NaT</td>\n",
       "      <td>prevailing</td>\n",
       "    </tr>\n",
       "    <tr>\n",
       "      <th>5</th>\n",
       "      <td>1,200,000,000,000.00</td>\n",
       "      <td>USD</td>\n",
       "      <td>2022-01-01 00:00:00+00:00</td>\n",
       "      <td>9999-12-31 23:59:59.999999+00:00</td>\n",
       "      <td>2023-03-30 02:42:28.162332+00:00</td>\n",
       "      <td>2023-03-30 02:42:28.752667+00:00</td>\n",
       "      <td>superseded</td>\n",
       "    </tr>\n",
       "    <tr>\n",
       "      <th>6</th>\n",
       "      <td>780,360,000,000.00</td>\n",
       "      <td>USD</td>\n",
       "      <td>2018-12-31 00:00:00+00:00</td>\n",
       "      <td>2020-01-01 00:00:00+00:00</td>\n",
       "      <td>2023-03-30 02:42:28.366669+00:00</td>\n",
       "      <td>NaT</td>\n",
       "      <td>prevailing</td>\n",
       "    </tr>\n",
       "  </tbody>\n",
       "</table>\n",
       "</div>"
      ],
      "text/plain": [
       "   value.metric_value.value value.metric_value.unit  \\\n",
       "0        780,360,000,000.00                     USD   \n",
       "1        780,360,000,000.00                     USD   \n",
       "2      1,200,000,000,000.00                     USD   \n",
       "3      1,200,000,000,000.00                     USD   \n",
       "4      1,680,000,000,000.00                     USD   \n",
       "5      1,200,000,000,000.00                     USD   \n",
       "6        780,360,000,000.00                     USD   \n",
       "\n",
       "   effective_range.from_date        effective_range.until_date  \\\n",
       "0  0001-01-01 00:00:00+00:00  9999-12-31 23:59:59.999999+00:00   \n",
       "1  0001-01-01 00:00:00+00:00         2020-01-01 00:00:00+00:00   \n",
       "2  2020-01-01 00:00:00+00:00  9999-12-31 23:59:59.999999+00:00   \n",
       "3  2020-01-01 00:00:00+00:00         2021-01-01 00:00:00+00:00   \n",
       "4  2021-01-01 00:00:00+00:00         2022-01-01 00:00:00+00:00   \n",
       "5  2022-01-01 00:00:00+00:00  9999-12-31 23:59:59.999999+00:00   \n",
       "6  2018-12-31 00:00:00+00:00         2020-01-01 00:00:00+00:00   \n",
       "\n",
       "             as_at_range.from_date           as_at_range.until_date  \\\n",
       "0 2023-03-30 02:42:27.633368+00:00 2023-03-30 02:42:27.927445+00:00   \n",
       "1 2023-03-30 02:42:27.927445+00:00 2023-03-30 02:42:28.366669+00:00   \n",
       "2 2023-03-30 02:42:27.927445+00:00 2023-03-30 02:42:28.162332+00:00   \n",
       "3 2023-03-30 02:42:28.162332+00:00                              NaT   \n",
       "4 2023-03-30 02:42:28.162332+00:00                              NaT   \n",
       "5 2023-03-30 02:42:28.162332+00:00 2023-03-30 02:42:28.752667+00:00   \n",
       "6 2023-03-30 02:42:28.366669+00:00                              NaT   \n",
       "\n",
       "       status  \n",
       "0  superseded  \n",
       "1  superseded  \n",
       "2  superseded  \n",
       "3  prevailing  \n",
       "4  prevailing  \n",
       "5  superseded  \n",
       "6  prevailing  "
      ]
     },
     "execution_count": 7,
     "metadata": {},
     "output_type": "execute_result"
    }
   ],
   "source": [
    "result = instruments_api.get_instrument_property_time_series(\n",
    "    identifier_type=\"Figi\",\n",
    "    identifier=\"BBG000BPH459\",\n",
    "    scope=\"FinbourneUniversity\",\n",
    "    property_key=\"Instrument/FinbourneUniversity/MarketCapitalisationv2\")\n",
    "\n",
    "result_df = lusid_response_to_data_frame(result)\n",
    "result_df = result_df.sort_values(by=\"as_at_range.from_date\").reset_index(drop=True)\n",
    "result_df\n"
   ]
  },
  {
   "cell_type": "code",
   "execution_count": 8,
   "id": "9dac4902",
   "metadata": {
    "scrolled": true,
    "slideshow": {
     "slide_type": "slide"
    }
   },
   "outputs": [
    {
     "data": {
      "text/html": [
       "<div>\n",
       "<style scoped>\n",
       "    .dataframe tbody tr th:only-of-type {\n",
       "        vertical-align: middle;\n",
       "    }\n",
       "\n",
       "    .dataframe tbody tr th {\n",
       "        vertical-align: top;\n",
       "    }\n",
       "\n",
       "    .dataframe thead th {\n",
       "        text-align: right;\n",
       "    }\n",
       "</style>\n",
       "<table border=\"1\" class=\"dataframe\">\n",
       "  <thead>\n",
       "    <tr style=\"text-align: right;\">\n",
       "      <th></th>\n",
       "      <th>value.metric_value.value</th>\n",
       "      <th>value.metric_value.unit</th>\n",
       "      <th>effective_range.from_date</th>\n",
       "      <th>effective_range.until_date</th>\n",
       "      <th>as_at_range.from_date</th>\n",
       "      <th>as_at_range.until_date</th>\n",
       "      <th>status</th>\n",
       "    </tr>\n",
       "  </thead>\n",
       "  <tbody>\n",
       "    <tr>\n",
       "      <th>0</th>\n",
       "      <td>780,360,000,000.00</td>\n",
       "      <td>USD</td>\n",
       "      <td>0001-01-01 00:00:00+00:00</td>\n",
       "      <td>9999-12-31 23:59:59.999999+00:00</td>\n",
       "      <td>2023-03-30 02:42:27.633368+00:00</td>\n",
       "      <td>2023-03-30 02:42:27.927445+00:00</td>\n",
       "      <td>superseded</td>\n",
       "    </tr>\n",
       "  </tbody>\n",
       "</table>\n",
       "</div>"
      ],
      "text/plain": [
       "  value.metric_value.value value.metric_value.unit  effective_range.from_date  \\\n",
       "0       780,360,000,000.00                     USD  0001-01-01 00:00:00+00:00   \n",
       "\n",
       "         effective_range.until_date            as_at_range.from_date  \\\n",
       "0  9999-12-31 23:59:59.999999+00:00 2023-03-30 02:42:27.633368+00:00   \n",
       "\n",
       "            as_at_range.until_date      status  \n",
       "0 2023-03-30 02:42:27.927445+00:00  superseded  "
      ]
     },
     "execution_count": 8,
     "metadata": {},
     "output_type": "execute_result"
    }
   ],
   "source": [
    "result_df.loc[0].to_frame().transpose()"
   ]
  },
  {
   "cell_type": "markdown",
   "id": "7e7288ed",
   "metadata": {
    "slideshow": {
     "slide_type": "fragment"
    }
   },
   "source": [
    "<img src=\"./data/History-1.png\" width=\"850\"/>"
   ]
  },
  {
   "cell_type": "code",
   "execution_count": 9,
   "id": "02865656",
   "metadata": {
    "slideshow": {
     "slide_type": "slide"
    }
   },
   "outputs": [
    {
     "data": {
      "text/html": [
       "<div>\n",
       "<style scoped>\n",
       "    .dataframe tbody tr th:only-of-type {\n",
       "        vertical-align: middle;\n",
       "    }\n",
       "\n",
       "    .dataframe tbody tr th {\n",
       "        vertical-align: top;\n",
       "    }\n",
       "\n",
       "    .dataframe thead th {\n",
       "        text-align: right;\n",
       "    }\n",
       "</style>\n",
       "<table border=\"1\" class=\"dataframe\">\n",
       "  <thead>\n",
       "    <tr style=\"text-align: right;\">\n",
       "      <th></th>\n",
       "      <th>value.metric_value.value</th>\n",
       "      <th>value.metric_value.unit</th>\n",
       "      <th>effective_range.from_date</th>\n",
       "      <th>effective_range.until_date</th>\n",
       "      <th>as_at_range.from_date</th>\n",
       "      <th>as_at_range.until_date</th>\n",
       "      <th>status</th>\n",
       "    </tr>\n",
       "  </thead>\n",
       "  <tbody>\n",
       "    <tr>\n",
       "      <th>1</th>\n",
       "      <td>780,360,000,000.00</td>\n",
       "      <td>USD</td>\n",
       "      <td>0001-01-01 00:00:00+00:00</td>\n",
       "      <td>2020-01-01 00:00:00+00:00</td>\n",
       "      <td>2023-03-30 02:42:27.927445+00:00</td>\n",
       "      <td>2023-03-30 02:42:28.366669+00:00</td>\n",
       "      <td>superseded</td>\n",
       "    </tr>\n",
       "  </tbody>\n",
       "</table>\n",
       "</div>"
      ],
      "text/plain": [
       "  value.metric_value.value value.metric_value.unit  effective_range.from_date  \\\n",
       "1       780,360,000,000.00                     USD  0001-01-01 00:00:00+00:00   \n",
       "\n",
       "  effective_range.until_date            as_at_range.from_date  \\\n",
       "1  2020-01-01 00:00:00+00:00 2023-03-30 02:42:27.927445+00:00   \n",
       "\n",
       "            as_at_range.until_date      status  \n",
       "1 2023-03-30 02:42:28.366669+00:00  superseded  "
      ]
     },
     "execution_count": 9,
     "metadata": {},
     "output_type": "execute_result"
    }
   ],
   "source": [
    "result_df.loc[1].to_frame().transpose()"
   ]
  },
  {
   "cell_type": "markdown",
   "id": "a5ca060c",
   "metadata": {
    "slideshow": {
     "slide_type": "fragment"
    }
   },
   "source": [
    "<img src=\"./data/History-2.png\" width=\"850\"/>"
   ]
  },
  {
   "cell_type": "code",
   "execution_count": 10,
   "id": "c6acee05",
   "metadata": {
    "slideshow": {
     "slide_type": "slide"
    }
   },
   "outputs": [
    {
     "data": {
      "text/html": [
       "<div>\n",
       "<style scoped>\n",
       "    .dataframe tbody tr th:only-of-type {\n",
       "        vertical-align: middle;\n",
       "    }\n",
       "\n",
       "    .dataframe tbody tr th {\n",
       "        vertical-align: top;\n",
       "    }\n",
       "\n",
       "    .dataframe thead th {\n",
       "        text-align: right;\n",
       "    }\n",
       "</style>\n",
       "<table border=\"1\" class=\"dataframe\">\n",
       "  <thead>\n",
       "    <tr style=\"text-align: right;\">\n",
       "      <th></th>\n",
       "      <th>value.metric_value.value</th>\n",
       "      <th>value.metric_value.unit</th>\n",
       "      <th>effective_range.from_date</th>\n",
       "      <th>effective_range.until_date</th>\n",
       "      <th>as_at_range.from_date</th>\n",
       "      <th>as_at_range.until_date</th>\n",
       "      <th>status</th>\n",
       "    </tr>\n",
       "  </thead>\n",
       "  <tbody>\n",
       "    <tr>\n",
       "      <th>2</th>\n",
       "      <td>1,200,000,000,000.00</td>\n",
       "      <td>USD</td>\n",
       "      <td>2020-01-01 00:00:00+00:00</td>\n",
       "      <td>9999-12-31 23:59:59.999999+00:00</td>\n",
       "      <td>2023-03-30 02:42:27.927445+00:00</td>\n",
       "      <td>2023-03-30 02:42:28.162332+00:00</td>\n",
       "      <td>superseded</td>\n",
       "    </tr>\n",
       "  </tbody>\n",
       "</table>\n",
       "</div>"
      ],
      "text/plain": [
       "  value.metric_value.value value.metric_value.unit effective_range.from_date  \\\n",
       "2     1,200,000,000,000.00                     USD 2020-01-01 00:00:00+00:00   \n",
       "\n",
       "         effective_range.until_date            as_at_range.from_date  \\\n",
       "2  9999-12-31 23:59:59.999999+00:00 2023-03-30 02:42:27.927445+00:00   \n",
       "\n",
       "            as_at_range.until_date      status  \n",
       "2 2023-03-30 02:42:28.162332+00:00  superseded  "
      ]
     },
     "execution_count": 10,
     "metadata": {},
     "output_type": "execute_result"
    }
   ],
   "source": [
    "result_df.loc[2].to_frame().transpose()"
   ]
  },
  {
   "cell_type": "markdown",
   "id": "67bb341e",
   "metadata": {
    "slideshow": {
     "slide_type": "fragment"
    }
   },
   "source": [
    "<img src=\"./data/History-3.png\" width=\"850\"/>"
   ]
  },
  {
   "cell_type": "code",
   "execution_count": 11,
   "id": "bd44adca",
   "metadata": {
    "slideshow": {
     "slide_type": "slide"
    }
   },
   "outputs": [
    {
     "data": {
      "text/html": [
       "<div>\n",
       "<style scoped>\n",
       "    .dataframe tbody tr th:only-of-type {\n",
       "        vertical-align: middle;\n",
       "    }\n",
       "\n",
       "    .dataframe tbody tr th {\n",
       "        vertical-align: top;\n",
       "    }\n",
       "\n",
       "    .dataframe thead th {\n",
       "        text-align: right;\n",
       "    }\n",
       "</style>\n",
       "<table border=\"1\" class=\"dataframe\">\n",
       "  <thead>\n",
       "    <tr style=\"text-align: right;\">\n",
       "      <th></th>\n",
       "      <th>value.metric_value.value</th>\n",
       "      <th>value.metric_value.unit</th>\n",
       "      <th>effective_range.from_date</th>\n",
       "      <th>effective_range.until_date</th>\n",
       "      <th>as_at_range.from_date</th>\n",
       "      <th>as_at_range.until_date</th>\n",
       "      <th>status</th>\n",
       "    </tr>\n",
       "  </thead>\n",
       "  <tbody>\n",
       "    <tr>\n",
       "      <th>3</th>\n",
       "      <td>1,200,000,000,000.00</td>\n",
       "      <td>USD</td>\n",
       "      <td>2020-01-01 00:00:00+00:00</td>\n",
       "      <td>2021-01-01 00:00:00+00:00</td>\n",
       "      <td>2023-03-30 02:42:28.162332+00:00</td>\n",
       "      <td>NaT</td>\n",
       "      <td>prevailing</td>\n",
       "    </tr>\n",
       "  </tbody>\n",
       "</table>\n",
       "</div>"
      ],
      "text/plain": [
       "  value.metric_value.value value.metric_value.unit effective_range.from_date  \\\n",
       "3     1,200,000,000,000.00                     USD 2020-01-01 00:00:00+00:00   \n",
       "\n",
       "  effective_range.until_date            as_at_range.from_date  \\\n",
       "3  2021-01-01 00:00:00+00:00 2023-03-30 02:42:28.162332+00:00   \n",
       "\n",
       "  as_at_range.until_date      status  \n",
       "3                    NaT  prevailing  "
      ]
     },
     "execution_count": 11,
     "metadata": {},
     "output_type": "execute_result"
    }
   ],
   "source": [
    "result_df.loc[3].to_frame().transpose()"
   ]
  },
  {
   "cell_type": "markdown",
   "id": "89710b2a",
   "metadata": {
    "slideshow": {
     "slide_type": "fragment"
    }
   },
   "source": [
    "<img src=\"./data/History-4.png\" width=\"850\"/>"
   ]
  },
  {
   "cell_type": "code",
   "execution_count": 12,
   "id": "48606e94",
   "metadata": {
    "slideshow": {
     "slide_type": "slide"
    }
   },
   "outputs": [
    {
     "data": {
      "text/html": [
       "<div>\n",
       "<style scoped>\n",
       "    .dataframe tbody tr th:only-of-type {\n",
       "        vertical-align: middle;\n",
       "    }\n",
       "\n",
       "    .dataframe tbody tr th {\n",
       "        vertical-align: top;\n",
       "    }\n",
       "\n",
       "    .dataframe thead th {\n",
       "        text-align: right;\n",
       "    }\n",
       "</style>\n",
       "<table border=\"1\" class=\"dataframe\">\n",
       "  <thead>\n",
       "    <tr style=\"text-align: right;\">\n",
       "      <th></th>\n",
       "      <th>value.metric_value.value</th>\n",
       "      <th>value.metric_value.unit</th>\n",
       "      <th>effective_range.from_date</th>\n",
       "      <th>effective_range.until_date</th>\n",
       "      <th>as_at_range.from_date</th>\n",
       "      <th>as_at_range.until_date</th>\n",
       "      <th>status</th>\n",
       "    </tr>\n",
       "  </thead>\n",
       "  <tbody>\n",
       "    <tr>\n",
       "      <th>4</th>\n",
       "      <td>1,680,000,000,000.00</td>\n",
       "      <td>USD</td>\n",
       "      <td>2021-01-01 00:00:00+00:00</td>\n",
       "      <td>2022-01-01 00:00:00+00:00</td>\n",
       "      <td>2023-03-30 02:42:28.162332+00:00</td>\n",
       "      <td>NaT</td>\n",
       "      <td>prevailing</td>\n",
       "    </tr>\n",
       "  </tbody>\n",
       "</table>\n",
       "</div>"
      ],
      "text/plain": [
       "  value.metric_value.value value.metric_value.unit effective_range.from_date  \\\n",
       "4     1,680,000,000,000.00                     USD 2021-01-01 00:00:00+00:00   \n",
       "\n",
       "  effective_range.until_date            as_at_range.from_date  \\\n",
       "4  2022-01-01 00:00:00+00:00 2023-03-30 02:42:28.162332+00:00   \n",
       "\n",
       "  as_at_range.until_date      status  \n",
       "4                    NaT  prevailing  "
      ]
     },
     "execution_count": 12,
     "metadata": {},
     "output_type": "execute_result"
    }
   ],
   "source": [
    "result_df.loc[4].to_frame().transpose()"
   ]
  },
  {
   "cell_type": "markdown",
   "id": "747d4136",
   "metadata": {
    "slideshow": {
     "slide_type": "fragment"
    }
   },
   "source": [
    "<img src=\"./data/History-5.png\" width=\"850\"/>"
   ]
  },
  {
   "cell_type": "code",
   "execution_count": 13,
   "id": "d1c152bd",
   "metadata": {
    "slideshow": {
     "slide_type": "slide"
    }
   },
   "outputs": [
    {
     "data": {
      "text/html": [
       "<div>\n",
       "<style scoped>\n",
       "    .dataframe tbody tr th:only-of-type {\n",
       "        vertical-align: middle;\n",
       "    }\n",
       "\n",
       "    .dataframe tbody tr th {\n",
       "        vertical-align: top;\n",
       "    }\n",
       "\n",
       "    .dataframe thead th {\n",
       "        text-align: right;\n",
       "    }\n",
       "</style>\n",
       "<table border=\"1\" class=\"dataframe\">\n",
       "  <thead>\n",
       "    <tr style=\"text-align: right;\">\n",
       "      <th></th>\n",
       "      <th>value.metric_value.value</th>\n",
       "      <th>value.metric_value.unit</th>\n",
       "      <th>effective_range.from_date</th>\n",
       "      <th>effective_range.until_date</th>\n",
       "      <th>as_at_range.from_date</th>\n",
       "      <th>as_at_range.until_date</th>\n",
       "      <th>status</th>\n",
       "    </tr>\n",
       "  </thead>\n",
       "  <tbody>\n",
       "    <tr>\n",
       "      <th>5</th>\n",
       "      <td>1,200,000,000,000.00</td>\n",
       "      <td>USD</td>\n",
       "      <td>2022-01-01 00:00:00+00:00</td>\n",
       "      <td>9999-12-31 23:59:59.999999+00:00</td>\n",
       "      <td>2023-03-30 02:42:28.162332+00:00</td>\n",
       "      <td>2023-03-30 02:42:28.752667+00:00</td>\n",
       "      <td>superseded</td>\n",
       "    </tr>\n",
       "  </tbody>\n",
       "</table>\n",
       "</div>"
      ],
      "text/plain": [
       "  value.metric_value.value value.metric_value.unit effective_range.from_date  \\\n",
       "5     1,200,000,000,000.00                     USD 2022-01-01 00:00:00+00:00   \n",
       "\n",
       "         effective_range.until_date            as_at_range.from_date  \\\n",
       "5  9999-12-31 23:59:59.999999+00:00 2023-03-30 02:42:28.162332+00:00   \n",
       "\n",
       "            as_at_range.until_date      status  \n",
       "5 2023-03-30 02:42:28.752667+00:00  superseded  "
      ]
     },
     "execution_count": 13,
     "metadata": {},
     "output_type": "execute_result"
    }
   ],
   "source": [
    "result_df.loc[5].to_frame().transpose()"
   ]
  },
  {
   "cell_type": "markdown",
   "id": "8c653ab1",
   "metadata": {
    "slideshow": {
     "slide_type": "fragment"
    }
   },
   "source": [
    "<img src=\"./data/History-6.png\" width=\"850\"/>"
   ]
  },
  {
   "cell_type": "code",
   "execution_count": 14,
   "id": "237c10ce",
   "metadata": {
    "slideshow": {
     "slide_type": "slide"
    }
   },
   "outputs": [
    {
     "data": {
      "text/html": [
       "<div>\n",
       "<style scoped>\n",
       "    .dataframe tbody tr th:only-of-type {\n",
       "        vertical-align: middle;\n",
       "    }\n",
       "\n",
       "    .dataframe tbody tr th {\n",
       "        vertical-align: top;\n",
       "    }\n",
       "\n",
       "    .dataframe thead th {\n",
       "        text-align: right;\n",
       "    }\n",
       "</style>\n",
       "<table border=\"1\" class=\"dataframe\">\n",
       "  <thead>\n",
       "    <tr style=\"text-align: right;\">\n",
       "      <th></th>\n",
       "      <th>value.metric_value.value</th>\n",
       "      <th>value.metric_value.unit</th>\n",
       "      <th>effective_range.from_date</th>\n",
       "      <th>effective_range.until_date</th>\n",
       "      <th>as_at_range.from_date</th>\n",
       "      <th>as_at_range.until_date</th>\n",
       "      <th>status</th>\n",
       "    </tr>\n",
       "  </thead>\n",
       "  <tbody>\n",
       "    <tr>\n",
       "      <th>6</th>\n",
       "      <td>780,360,000,000.00</td>\n",
       "      <td>USD</td>\n",
       "      <td>2018-12-31 00:00:00+00:00</td>\n",
       "      <td>2020-01-01 00:00:00+00:00</td>\n",
       "      <td>2023-03-30 02:42:28.366669+00:00</td>\n",
       "      <td>NaT</td>\n",
       "      <td>prevailing</td>\n",
       "    </tr>\n",
       "  </tbody>\n",
       "</table>\n",
       "</div>"
      ],
      "text/plain": [
       "  value.metric_value.value value.metric_value.unit effective_range.from_date  \\\n",
       "6       780,360,000,000.00                     USD 2018-12-31 00:00:00+00:00   \n",
       "\n",
       "  effective_range.until_date            as_at_range.from_date  \\\n",
       "6  2020-01-01 00:00:00+00:00 2023-03-30 02:42:28.366669+00:00   \n",
       "\n",
       "  as_at_range.until_date      status  \n",
       "6                    NaT  prevailing  "
      ]
     },
     "execution_count": 14,
     "metadata": {},
     "output_type": "execute_result"
    }
   ],
   "source": [
    "result_df.loc[6].to_frame().transpose()"
   ]
  },
  {
   "cell_type": "markdown",
   "id": "89d1763e",
   "metadata": {
    "slideshow": {
     "slide_type": "fragment"
    }
   },
   "source": [
    "<img src=\"./data/History-7.png\" width=\"850\"/>"
   ]
  },
  {
   "cell_type": "markdown",
   "id": "ee00c01f",
   "metadata": {
    "slideshow": {
     "slide_type": "slide"
    }
   },
   "source": [
    "<img src=\"./data/History-Complete.png\" width=\"1200\"/>"
   ]
  },
  {
   "cell_type": "markdown",
   "id": "632b877b",
   "metadata": {
    "slideshow": {
     "slide_type": "slide"
    }
   },
   "source": [
    "<img src=\"./data/History-Complete-Comparison.png\" width=\"1400\"/>"
   ]
  },
  {
   "cell_type": "markdown",
   "id": "3a30b680",
   "metadata": {
    "slideshow": {
     "slide_type": "slide"
    }
   },
   "source": [
    "<p style=\"font-family: Montserrat; color: #203443; font-weight: bold; font-size: 125%\">What have we covered?</p>"
   ]
  },
  {
   "cell_type": "markdown",
   "id": "7f5071bd",
   "metadata": {
    "slideshow": {
     "slide_type": "fragment"
    }
   },
   "source": [
    "<ul>\n",
    "    <li style=\"color: #ff5200\"><p style=\"font-family: Montserrat; color: #203443\">We retrieved the time series history for our Instrument Property representing Market Capitalisation that we populated in the previous module.</p></li>\n",
    "</ul>"
   ]
  },
  {
   "cell_type": "markdown",
   "id": "e43eb72d",
   "metadata": {
    "slideshow": {
     "slide_type": "fragment"
    }
   },
   "source": [
    "<ul>\n",
    "    <li style=\"color: #ff5200\"><p style=\"font-family: Montserrat; color: #203443\">We saw how the Property's values were described by a combination of \"Effective\" and \"AsAt\" ranges.</p></li>\n",
    "</ul>"
   ]
  },
  {
   "cell_type": "markdown",
   "id": "1d92a09a",
   "metadata": {
    "slideshow": {
     "slide_type": "fragment"
    }
   },
   "source": [
    "<ul>\n",
    "    <li style=\"color: #ff5200\"><p style=\"font-family: Montserrat; color: #203443\">Using these ranges we were able to construct a graph which allowed us to understand the value of the Property at any point in bi-temporal time.</p></li>\n",
    "</ul>"
   ]
  },
  {
   "cell_type": "markdown",
   "id": "a65da93b",
   "metadata": {
    "slideshow": {
     "slide_type": "subslide"
    }
   },
   "source": [
    "<ul>\n",
    "    <li style=\"color: #ff5200\"><p style=\"font-family: Montserrat; color: #203443\">We saw how we can modify the \"AsAt\" date on the request to change how much of the Property's history to return.</p></li>\n",
    "</ul>"
   ]
  },
  {
   "cell_type": "markdown",
   "id": "b3d59312",
   "metadata": {
    "slideshow": {
     "slide_type": "fragment"
    }
   },
   "source": [
    "<ul>\n",
    "    <li style=\"color: #ff5200\"><p style=\"font-family: Montserrat; color: #203443\">We discussed how any value which exists at the provided \"AsAt\" time is \"prevailing\" while all other values are \"superseded\".</p></li>\n",
    "</ul>"
   ]
  }
 ],
 "metadata": {
  "celltoolbar": "Slideshow",
  "kernelspec": {
   "display_name": "Python 3 (ipykernel)",
   "language": "python",
   "name": "python3"
  },
  "language_info": {
   "codemirror_mode": {
    "name": "ipython",
    "version": 3
   },
   "file_extension": ".py",
   "mimetype": "text/x-python",
   "name": "python",
   "nbconvert_exporter": "python",
   "pygments_lexer": "ipython3",
   "version": "3.9.7"
  },
  "toc": {
   "base_numbering": 1,
   "nav_menu": {},
   "number_sections": false,
   "sideBar": true,
   "skip_h1_title": false,
   "title_cell": "Table of Contents",
   "title_sidebar": "Contents",
   "toc_cell": false,
   "toc_position": {},
   "toc_section_display": true,
   "toc_window_display": false
  },
  "varInspector": {
   "cols": {
    "lenName": 16,
    "lenType": 16,
    "lenVar": 40
   },
   "kernels_config": {
    "python": {
     "delete_cmd_postfix": "",
     "delete_cmd_prefix": "del ",
     "library": "var_list.py",
     "varRefreshCmd": "print(var_dic_list())"
    },
    "r": {
     "delete_cmd_postfix": ") ",
     "delete_cmd_prefix": "rm(",
     "library": "var_list.r",
     "varRefreshCmd": "cat(var_dic_list()) "
    }
   },
   "types_to_exclude": [
    "module",
    "function",
    "builtin_function_or_method",
    "instance",
    "_Feature"
   ],
   "window_display": false
  }
 },
 "nbformat": 4,
 "nbformat_minor": 5
}
