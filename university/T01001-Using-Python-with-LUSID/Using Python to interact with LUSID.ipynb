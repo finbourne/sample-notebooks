{
 "cells": [
  {
   "cell_type": "markdown",
   "id": "1e4eacc3",
   "metadata": {},
   "source": [
    "# Using Python to interact with LUSID\n",
    "This tutorial is designed to be a starting point for writing simple Python scripts in the Jupyter environment to interact with LUSID programmatically. The tutorial will cover:\n",
    "- Using Jupyter\n",
    "- Basic Python scripting\n",
    "- Using Numpy to efficiently work with large, multi-dimensional data\n",
    "- Using Pandas to work with dataframes\n",
    "- Using the Python LUSID Standard Development Kit\n",
    "- Using the Luminesce SDK\n",
    "- Using the Lumipy SDK"
   ]
  },
  {
   "cell_type": "markdown",
   "id": "80e22d01",
   "metadata": {},
   "source": [
    "## Basic Python scripting\n",
    "This section of the tutorial serves as a brief introduction to Python and writing some Python code. We'll cover:\n",
    "- What is Python\n",
    "- Assigning variables and built-in types\n",
    "- Python Sequence types\n",
    "- Python Mapping types\n",
    "- Decision statements\n",
    "- Loops\n",
    "- Functions\n",
    "- Classes and objects"
   ]
  },
  {
   "cell_type": "markdown",
   "id": "7d4fc2b1",
   "metadata": {},
   "source": [
    "### What is Python?\n",
    "Guido Van Rossum began developing Python in 1989 as a programming language that should be:\n",
    "- An easy and intuitive language just as powerful as major competitors\n",
    "- Open source, so anyone can contribute to its development\n",
    "- Code that is as understandable as plain English\n",
    "- Suitability for everyday tasks, allowing for short development times\n",
    "\n",
    "Python is interpreted, which means that there is no complex build process for running your code, so you can write your code interactively. In Jupyter, you can write your code in a code cell and execute it by clicking the run button - its as simple as that!"
   ]
  },
  {
   "cell_type": "markdown",
   "id": "5922ffea",
   "metadata": {},
   "source": [
    "### Assigning variables and built-in types\n",
    "Here we'll learn how to create some variables, and some of the built-in types that Python provides\n",
    "#### Assigning variables\n",
    "Python is dynamically typed, so you don't have to declare the type of a variable before using it. By [convention](https://peps.python.org/pep-0008/#function-and-variable-names), multi-word variables are lower case, and seperated by underscores."
   ]
  },
  {
   "cell_type": "code",
   "execution_count": 1,
   "id": "ca3de71f",
   "metadata": {},
   "outputs": [
    {
     "data": {
      "text/plain": [
       "'hello world'"
      ]
     },
     "execution_count": 1,
     "metadata": {},
     "output_type": "execute_result"
    }
   ],
   "source": [
    "# This is a comment, it is ignored by the interpreter\n",
    "\n",
    "# Assigning hello world to the variable x\n",
    "# in other languages you would have to declare that x is a string before doing this\n",
    "x = 'hello world'\n",
    "x"
   ]
  },
  {
   "cell_type": "code",
   "execution_count": 3,
   "id": "5938476c",
   "metadata": {},
   "outputs": [
    {
     "data": {
      "text/plain": [
       "7"
      ]
     },
     "execution_count": 3,
     "metadata": {},
     "output_type": "execute_result"
    }
   ],
   "source": [
    "# Assigning 7 to the variable y\n",
    "# in other languages you would have to declare that y is an integer before doing this\n",
    "y = 7\n",
    "y"
   ]
  },
  {
   "cell_type": "markdown",
   "id": "c6fdc327",
   "metadata": {},
   "source": [
    "#### Built-in types\n",
    "Here we'll introduce some of the built-in types that are provided out-of-the-box with Python:\n",
    "- Numeric types - int, float\n",
    "- The Text Sequence type - str\n",
    "- Boolean Values\n",
    "- The Null Object - None"
   ]
  },
  {
   "cell_type": "markdown",
   "id": "a0a43a94",
   "metadata": {},
   "source": [
    "##### Numeric types - int, float\n",
    "In Python, integers are zero, positive or negative whole numbers without a fractional part and having unlimited precision.\\\n",
    "Floats are made to represent floating-point numbers with the same precision as the double type in other common languages.\n",
    "You can use common mathematical operations with both floats and integers"
   ]
  },
  {
   "cell_type": "code",
   "execution_count": 7,
   "id": "b4a22f9f",
   "metadata": {},
   "outputs": [],
   "source": [
    "# Some integers\n",
    "a = 1\n",
    "b = 2000\n",
    "c = 0\n",
    "d = -99\n",
    "\n",
    "# Some floats\n",
    "e = 0.1\n",
    "f = -25.972"
   ]
  },
  {
   "cell_type": "code",
   "execution_count": 8,
   "id": "1d96cb08",
   "metadata": {},
   "outputs": [
    {
     "data": {
      "text/plain": [
       "2001"
      ]
     },
     "execution_count": 8,
     "metadata": {},
     "output_type": "execute_result"
    }
   ],
   "source": [
    "# adding ints\n",
    "a + b"
   ]
  },
  {
   "cell_type": "code",
   "execution_count": 9,
   "id": "47add820",
   "metadata": {},
   "outputs": [
    {
     "data": {
      "text/plain": [
       "-25.872"
      ]
     },
     "execution_count": 9,
     "metadata": {},
     "output_type": "execute_result"
    }
   ],
   "source": [
    "# adding floats\n",
    "e + f\n",
    "# as f is negative its subtracted from e, as you would expect"
   ]
  },
  {
   "cell_type": "code",
   "execution_count": 10,
   "id": "54819007",
   "metadata": {},
   "outputs": [
    {
     "data": {
      "text/plain": [
       "40020.0"
      ]
     },
     "execution_count": 10,
     "metadata": {},
     "output_type": "execute_result"
    }
   ],
   "source": [
    "# some more complex math\n",
    "2*(a+b)/e"
   ]
  },
  {
   "cell_type": "code",
   "execution_count": 12,
   "id": "5cb5a70d",
   "metadata": {},
   "outputs": [
    {
     "data": {
      "text/plain": [
       "2002"
      ]
     },
     "execution_count": 12,
     "metadata": {},
     "output_type": "execute_result"
    }
   ],
   "source": [
    "f = a + b\n",
    "f + 1"
   ]
  },
  {
   "cell_type": "markdown",
   "id": "0c65e9da",
   "metadata": {},
   "source": [
    "##### The Text Sequence type - str\n",
    "Strings represent text data. In Python strings are immutable sequences of unicode characters:"
   ]
  },
  {
   "cell_type": "code",
   "execution_count": 14,
   "id": "61cf82b4",
   "metadata": {},
   "outputs": [
    {
     "name": "stdout",
     "output_type": "stream",
     "text": [
      "So\n",
      "many\n",
      "lines!\n",
      "\n"
     ]
    }
   ],
   "source": [
    "# Assigning the string hello world to the variable x\n",
    "x = 'hello world'\n",
    "# Also assigning the string hello world to the variable x\n",
    "x = \"hello world\"\n",
    "# There are also multi-line strings:\n",
    "y = '''So\n",
    "many\n",
    "lines!\n",
    "'''\n",
    "print(y)"
   ]
  },
  {
   "cell_type": "markdown",
   "id": "448022d6",
   "metadata": {},
   "source": [
    "Strings have many useful functions that can be used to manipulate them, here are some examples:"
   ]
  },
  {
   "cell_type": "code",
   "execution_count": 8,
   "id": "93284379",
   "metadata": {},
   "outputs": [
    {
     "name": "stdout",
     "output_type": "stream",
     "text": [
      "Hello world\n",
      "HELLO WORLD\n",
      "True\n"
     ]
    }
   ],
   "source": [
    "x = 'hello world'\n",
    "# Return a copy of the string with its first character capitalized and the rest lowercased.\n",
    "print(x.capitalize())\n",
    "# Return a copy of the string with all the cased characters converted to uppercase\n",
    "print(x.upper())\n",
    "# Return True if all cased characters in the string are lowercase and there is at least one cased character, False otherwise.\n",
    "print(x.islower())"
   ]
  },
  {
   "cell_type": "markdown",
   "id": "bec2dc7d",
   "metadata": {},
   "source": [
    "f-strings are also pretty useful, allowing us to interpolate values into our strings:"
   ]
  },
  {
   "cell_type": "code",
   "execution_count": 12,
   "id": "a2a98f06",
   "metadata": {},
   "outputs": [
    {
     "name": "stdout",
     "output_type": "stream",
     "text": [
      "Thay call him Cage\n"
     ]
    }
   ],
   "source": [
    "name = 'Cage'\n",
    "print(f'Thay call him {name}')"
   ]
  },
  {
   "cell_type": "markdown",
   "id": "d7b38033",
   "metadata": {},
   "source": [
    "##### Boolean Values\n",
    "Python boolean values are either True or False (capitalized)"
   ]
  },
  {
   "cell_type": "code",
   "execution_count": 1,
   "id": "aeb93173",
   "metadata": {},
   "outputs": [
    {
     "data": {
      "text/plain": [
       "True"
      ]
     },
     "execution_count": 1,
     "metadata": {},
     "output_type": "execute_result"
    }
   ],
   "source": [
    "# assigning true to a variable\n",
    "booleans_are_capitalized = True\n",
    "booleans_are_capitalized"
   ]
  },
  {
   "cell_type": "markdown",
   "id": "f5aca2bd",
   "metadata": {},
   "source": [
    "##### The Null object - None\n",
    "None is a special object returned by functions (explained later) that don't explicitly return a value."
   ]
  },
  {
   "cell_type": "code",
   "execution_count": 5,
   "id": "3b6b4866",
   "metadata": {},
   "outputs": [
    {
     "name": "stdout",
     "output_type": "stream",
     "text": [
      "None\n"
     ]
    }
   ],
   "source": [
    "x = None\n",
    "print(x)"
   ]
  },
  {
   "cell_type": "markdown",
   "id": "3922b5b8",
   "metadata": {},
   "source": [
    "### Python sequence types\n",
    "Here we'll describe some of the Python types used to store collections of data:\n",
    "- Lists\n",
    "- Tuples\n",
    "- Sets\n",
    "- Range"
   ]
  },
  {
   "cell_type": "markdown",
   "id": "db977e4c",
   "metadata": {},
   "source": [
    "#### Lists\n",
    "Lists are the easiest way to store collections of values. Lists can accept heterogenous values, are variable in length, and are mutable."
   ]
  },
  {
   "cell_type": "code",
   "execution_count": 12,
   "id": "44ef18ce",
   "metadata": {},
   "outputs": [
    {
     "data": {
      "text/plain": [
       "[1, 2, 'three', True]"
      ]
     },
     "execution_count": 12,
     "metadata": {},
     "output_type": "execute_result"
    }
   ],
   "source": [
    "# declaring a list\n",
    "sample_list = [1,2,\"three\", True]\n",
    "sample_list"
   ]
  },
  {
   "cell_type": "markdown",
   "id": "2eecccef",
   "metadata": {},
   "source": [
    "You can access elements in most Python sequences by slicing:"
   ]
  },
  {
   "cell_type": "code",
   "execution_count": 25,
   "id": "4dd42b84",
   "metadata": {},
   "outputs": [
    {
     "name": "stdout",
     "output_type": "stream",
     "text": [
      "1\n",
      "[1, 2, 'three']\n",
      "True\n",
      "[True, 'three', 2, 1]\n"
     ]
    }
   ],
   "source": [
    "sample_list = [1,2,\"three\", True]\n",
    "# Get the value at index 0\n",
    "print(sample_list[0])\n",
    "# Get the values from index 0 to index 2\n",
    "print(sample_list[0:3])\n",
    "# Get the value at the last index\n",
    "print(sample_list[-1])\n",
    "# Get all values in reverse order\n",
    "print(sample_list[::-1])"
   ]
  },
  {
   "cell_type": "markdown",
   "id": "6167ee8b",
   "metadata": {},
   "source": [
    "#### Tuples\n",
    "Tuples are similar to lists, but they are immutable. Tuples can also be unpacked into several variables in a single line."
   ]
  },
  {
   "cell_type": "code",
   "execution_count": 13,
   "id": "45e41741",
   "metadata": {},
   "outputs": [
    {
     "name": "stdout",
     "output_type": "stream",
     "text": [
      "2\n",
      "(1,)\n",
      "'tuple' object does not support item assignment\n",
      "1\n",
      "2\n",
      "3\n"
     ]
    }
   ],
   "source": [
    "x = (1,2,True)\n",
    "print(x[1])\n",
    "\n",
    "# If a tuple has only one element it must have a comma\n",
    "y = (1,)\n",
    "print(y)\n",
    "\n",
    "# Cannot change element in tuple as its immutable\n",
    "try:\n",
    "    x[1] = 7\n",
    "except TypeError as exception:\n",
    "    print(exception)\n",
    "    \n",
    "# tuple unpacking\n",
    "tpl = (1,2,3)\n",
    "a,b,c = tpl\n",
    "print(a)\n",
    "print(b)\n",
    "print(c)"
   ]
  },
  {
   "cell_type": "markdown",
   "id": "fa887056",
   "metadata": {},
   "source": [
    "#### Sets\n",
    "Sets are also similar to lists, they just won't contain any duplicate values:"
   ]
  },
  {
   "cell_type": "code",
   "execution_count": 42,
   "id": "55995b24",
   "metadata": {},
   "outputs": [
    {
     "name": "stdout",
     "output_type": "stream",
     "text": [
      "{1, 2, 3}\n"
     ]
    }
   ],
   "source": [
    "# Creating a set with duplicate 2 values:\n",
    "x = {1,2,2,3}\n",
    "print(x)"
   ]
  },
  {
   "cell_type": "markdown",
   "id": "cd893269",
   "metadata": {},
   "source": [
    "#### Range\n",
    "Range is a sequence type that represents an immutable sequence of numbers. Its normally used to generate numbers used in for loops:"
   ]
  },
  {
   "cell_type": "code",
   "execution_count": 10,
   "id": "a9ccefcc",
   "metadata": {},
   "outputs": [
    {
     "name": "stdout",
     "output_type": "stream",
     "text": [
      "[0, 1, 2, 3, 4, 5, 6, 7, 8, 9]\n",
      "[9, 8, 7, 6, 5, 4, 3, 2, 1, 0]\n",
      "[2, 4, 6, 8]\n"
     ]
    }
   ],
   "source": [
    "# from 0 to 9\n",
    "print(list(range(10)))\n",
    "# from 9 to 0\n",
    "print(list(range(9, -1, -1)))\n",
    "# even numbers to 10\n",
    "print(list(range(2, 10, 2)))"
   ]
  },
  {
   "cell_type": "markdown",
   "id": "aa2b3c84",
   "metadata": {},
   "source": [
    "### Python Mapping Types\n",
    "dict is Python's built-in mapping type. Dicts store key-value pairs where keys must be [hashable](https://docs.python.org/3/glossary.html#term-hashable), and values can be any type. It is usually much easier, and more efficient to save and fetch values from dictionaries than from Sequence types."
   ]
  },
  {
   "cell_type": "code",
   "execution_count": 46,
   "id": "f8f5fd19",
   "metadata": {},
   "outputs": [
    {
     "name": "stdout",
     "output_type": "stream",
     "text": [
      "{'banana': True, 7: 'hello_world'}\n",
      "True\n",
      "{'banana': True, 7: 'hello_world', 'apple': False}\n"
     ]
    }
   ],
   "source": [
    "dictionary = {'banana':True, 7:'hello_world'}\n",
    "print(dictionary)\n",
    "\n",
    "print(dictionary['banana'])\n",
    "dictionary['apple'] = False\n",
    "print(dictionary)"
   ]
  },
  {
   "cell_type": "markdown",
   "id": "b1263bfa",
   "metadata": {},
   "source": [
    "### Decision statements\n",
    "Python allows you to control the flow of the program - the simplist way by using 'if' statements"
   ]
  },
  {
   "cell_type": "code",
   "execution_count": 1,
   "id": "8bbed3f1",
   "metadata": {},
   "outputs": [
    {
     "name": "stdout",
     "output_type": "stream",
     "text": [
      "hello world\n"
     ]
    }
   ],
   "source": [
    "# try changing the value of expression to see what this code does!\n",
    "expression = True\n",
    "# if expression evaluates to True then print hello world\n",
    "# otherwise do nothing\n",
    "if expression:\n",
    "    print('hello world')"
   ]
  },
  {
   "cell_type": "code",
   "execution_count": 3,
   "id": "9ca80751",
   "metadata": {},
   "outputs": [
    {
     "name": "stdout",
     "output_type": "stream",
     "text": [
      "value is 1\n"
     ]
    }
   ],
   "source": [
    "# try changing the value of expression to see what this code does!\n",
    "value = 1\n",
    "# if expression evaluates to True then print value is 0\n",
    "# otherwise continue to elif statement\n",
    "if value == 0:\n",
    "    print('value is 0')\n",
    "# if the value is 1\n",
    "# print value is 1\n",
    "elif value == 1:\n",
    "    print('value is 1')\n"
   ]
  },
  {
   "cell_type": "code",
   "execution_count": 4,
   "id": "cb6e9057",
   "metadata": {},
   "outputs": [
    {
     "name": "stdout",
     "output_type": "stream",
     "text": [
      "banana\n"
     ]
    }
   ],
   "source": [
    "# try changing the value of expression to see what this code does!\n",
    "value = 'banana'\n",
    "# if expression evaluates to True then print value is 0\n",
    "# otherwise continue to elif statement\n",
    "if value == 0:\n",
    "    print('value is 0')\n",
    "# if the value is 1\n",
    "# print value is 1\n",
    "# otherwise continue to next elif statement or else statement if no more elifs.\n",
    "elif value == 1:\n",
    "    print('value is 1')\n",
    "else:\n",
    "    print('banana')\n"
   ]
  },
  {
   "cell_type": "markdown",
   "id": "87dd6ed6",
   "metadata": {},
   "source": [
    "### Loops\n",
    "\n",
    "Python has 2 main types of loop:\n",
    " - For loops.\\\n",
    "For loops work by by iterating over a sequence of values. Its common to combine the range sequence type with a for loop, but any sequence type can be used:"
   ]
  },
  {
   "cell_type": "code",
   "execution_count": 17,
   "id": "0417470c",
   "metadata": {
    "scrolled": true
   },
   "outputs": [
    {
     "name": "stdout",
     "output_type": "stream",
     "text": [
      "0\n",
      "1\n",
      "2\n",
      "3\n",
      "4\n",
      "5\n",
      "6\n",
      "7\n",
      "8\n",
      "9\n",
      "cow\n",
      "sheep\n",
      "alligator\n",
      "0\n",
      "cow\n",
      "1\n",
      "sheep\n",
      "2\n",
      "alligator\n",
      "cow\n",
      "farms\n",
      "sheep\n",
      "fields\n",
      "alligator\n",
      "swamps\n"
     ]
    }
   ],
   "source": [
    "# print the numbers 1 - 9\n",
    "for i in range(10):\n",
    "    print(i)\n",
    "    \n",
    "animals = ['cow', 'sheep', 'alligator']\n",
    "for animal in animals:\n",
    "    print(animal)\n",
    "\n",
    "# tuple unpacking is commonly used in for loops:\n",
    "# here enumerate returns a sequence of tuples\n",
    "# where each tuple contains an animal and its index in the list\n",
    "for index, animal in enumerate(animals):\n",
    "    print(index)\n",
    "    print(animal)\n",
    "\n",
    "habitats = ['farms', 'fields', 'swamps']\n",
    "# zip can be used to loop over two lists simultaneously:\n",
    "for animal, habitat in zip(animals, habitats):\n",
    "    print(animal)\n",
    "    print(habitat)\n",
    "    "
   ]
  },
  {
   "cell_type": "markdown",
   "id": "6d81e445",
   "metadata": {},
   "source": [
    "- While loops \\\n",
    "While loops check an expression every iteration, and only break out of the loop when the expression evaluates to false."
   ]
  },
  {
   "cell_type": "code",
   "execution_count": 21,
   "id": "45419224",
   "metadata": {},
   "outputs": [
    {
     "name": "stdout",
     "output_type": "stream",
     "text": [
      "running\n",
      "1\n",
      "running\n",
      "2\n",
      "running\n",
      "3\n",
      "running\n",
      "4\n",
      "running\n",
      "5\n",
      "running\n",
      "6\n",
      "running\n",
      "7\n",
      "running\n",
      "8\n",
      "running\n",
      "9\n",
      "running\n",
      "10\n",
      "stopped\n"
     ]
    }
   ],
   "source": [
    "i = 0\n",
    "# print the numbers 1 - 10 then stop \n",
    "while(i<10):\n",
    "    print('running')\n",
    "    i+=1\n",
    "    print(i)\n",
    "print('stopped')"
   ]
  },
  {
   "cell_type": "markdown",
   "id": "b9c28372",
   "metadata": {},
   "source": [
    "Common to both for loops and while loops are the _break_ and _continue_ keywords.\n",
    "_break_ causes the program to exit the loop.\n",
    "_continue_ causes the current iteration of the loop to end, and the next to begin."
   ]
  },
  {
   "cell_type": "code",
   "execution_count": 24,
   "id": "8efa67cd",
   "metadata": {},
   "outputs": [
    {
     "name": "stdout",
     "output_type": "stream",
     "text": [
      "0\n",
      "1\n",
      "2\n",
      "3\n",
      "0\n",
      "1\n",
      "2\n",
      "4\n",
      "5\n",
      "6\n",
      "7\n",
      "8\n",
      "9\n"
     ]
    }
   ],
   "source": [
    "# print 0 - 3 then exit loop\n",
    "for i in range(10):\n",
    "    print(i)\n",
    "    if i == 3:\n",
    "        break\n",
    "        \n",
    "# print 0 - 9 , but skip the number 3\n",
    "for i in range(10):\n",
    "    if i==3:\n",
    "        continue\n",
    "    print(i)"
   ]
  },
  {
   "cell_type": "markdown",
   "id": "7b56dfac",
   "metadata": {},
   "source": [
    "### Functions\n",
    "Functions are a great way of re-using code.\n",
    "\n",
    "In Python, you can declare \"arguments\", which are variables which the function uses. Functions will also return a value, using the return statement, which allows you to use the result of some function call later in your code.\n",
    "If you don't provide a return statement, the function returns None."
   ]
  },
  {
   "cell_type": "code",
   "execution_count": 6,
   "id": "0e943e3c",
   "metadata": {},
   "outputs": [
    {
     "name": "stdout",
     "output_type": "stream",
     "text": [
      "flux capacitor\n",
      "3\n",
      "8\n",
      "3\n"
     ]
    }
   ],
   "source": [
    "# a fairly useless function that just prints something to the terminal\n",
    "def print_flux_capacitor():\n",
    "    print('flux capacitor')\n",
    "    \n",
    "# call the function\n",
    "print_flux_capacitor()\n",
    "\n",
    "# print the sum of 2 numbers:\n",
    "def print_sum(a, b):\n",
    "    print(a+b)\n",
    "\n",
    "# prints 3\n",
    "print_sum(1,2)\n",
    "# pass a predefined variable to a function\n",
    "x = 7\n",
    "# prints 8\n",
    "print_sum(1, x)\n",
    "\n",
    "# return the sum of two numbers\n",
    "def return_sum(a, b):\n",
    "    return a + b\n",
    "    \n",
    "# store result of function in a variable\n",
    "result = return_sum(1,2)\n",
    "print(result)"
   ]
  },
  {
   "cell_type": "markdown",
   "id": "ca0c668a",
   "metadata": {},
   "source": [
    "### Classes and objects\n",
    "Generally, in larger peices of code, we model things as \"objects\" which use \"attributes\" to hold the state of the object, and behaviours(functions) that the objects express.\n",
    "\n",
    "Classes define what attributes and behaviours an object can have. For example, we might define a Person class, which says that people have heights, eye colours and can walk. An object in this example would be my friend Shawn, who is 180cm tall, has blonde hair and will walk to the local cafe every so often.\n",
    "\n",
    "Let's create a person class, and some people objects:"
   ]
  },
  {
   "cell_type": "code",
   "execution_count": 14,
   "id": "c1750d00",
   "metadata": {},
   "outputs": [
    {
     "name": "stdout",
     "output_type": "stream",
     "text": [
      "Person(height_in_cm:180, hair_colour:blonde, location:home)\n",
      "Person(height_in_cm:180, hair_colour:blonde, location:cafe)\n",
      "cafe\n",
      "Dean is a Person(height_in_cm:195, hair_colour:brunette, location:home)\n"
     ]
    }
   ],
   "source": [
    "# defining our class\n",
    "class Person:\n",
    "    # __init__ function is a constructor in python - it's how we initialise our Person object and set initial attribute values\n",
    "    # All object functions will include a self parameter, which allows use to access attributes and behaviours of our object\n",
    "    def __init__(self, height_in_cm, hair_colour):\n",
    "        self.height_in_cm = height_in_cm\n",
    "        self.hair_colour = hair_colour\n",
    "        # we'll also set a current location attribute that defaults to home\n",
    "        self.location = 'home'\n",
    "    # lets say our people can walk to a location\n",
    "    def walk(self, location):\n",
    "        self.location = location\n",
    "    # We'll also add a function that tells Python how to print our object in a human readable way\n",
    "    # this is called a dunder function, which is outside of the scope of this course.\n",
    "    def __repr__(self):\n",
    "        return f'Person(height_in_cm:{self.height_in_cm}, hair_colour:{self.hair_colour}, location:{self.location})'\n",
    "\n",
    "# Let's model my friend Shawn:\n",
    "shawn = Person(180, 'blonde')\n",
    "\n",
    "# let's see what shawn looks like:\n",
    "print(shawn)\n",
    "# we'll send shawn to grab a coffee - he should move to the cafe:\n",
    "shawn.walk('cafe')\n",
    "print(shawn)\n",
    "\n",
    "# we can also access attributes individually \n",
    "print(shawn.location)\n",
    "\n",
    "# or create someone else:\n",
    "dean = Person(195, 'brunette')\n",
    "print(f'Dean is a {dean}')"
   ]
  },
  {
   "cell_type": "markdown",
   "id": "5083f1dc",
   "metadata": {},
   "source": [
    "## Using Numpy to efficiently work with large, multi-dimensional data\n",
    "This part of the course will serve as a short introduction to numpy, a widely used Python module which leverages C code to efficiently process multi-dimensional arrays of data. You don't need to learn C to write efficient code, numpy takes care of this without any effort from the programmer!\n",
    "\n",
    "This part of the course will cover:\n",
    " - What are numpy arrays\n",
    " - Creating numpy arrays\n",
    " - Basic vectorized operations\n",
    " - Indexing, slicing and iterating"
   ]
  },
  {
   "cell_type": "markdown",
   "id": "4a055946",
   "metadata": {},
   "source": [
    "### What are Numpy arrays?\n",
    "While a Python list can contain different data types within a single list, in order to improve efficience, all of the elements in a NumPy array should be homogeneous.\n",
    "\n",
    "An array is a grid of values and it contains information about the raw data and how to locate an element. The elements are all of the same type, referred to as the array dtype. Note, this will not be one of the built-in Python types.\n",
    " \n",
    "The rank of the array is the number of dimensions. The shape of the array is a tuple of integers giving the size of the array along each dimension."
   ]
  },
  {
   "cell_type": "markdown",
   "id": "aafd5e55",
   "metadata": {},
   "source": [
    "### Creating numpy arrays\n",
    "\n",
    "Let's create some numpy arrays and explore their structure:\n"
   ]
  },
  {
   "cell_type": "code",
   "execution_count": 11,
   "id": "425cfd01",
   "metadata": {},
   "outputs": [],
   "source": [
    "# lets print the arrays we create, along with array metadata\n",
    "def describe_np(aray):\n",
    "    # tuple of integers giving size of the array across each dimension\n",
    "    print(f'shape: {aray.shape}')\n",
    "    # rank\n",
    "    print(f'rank: {aray.ndim}')\n",
    "    # type of data\n",
    "    print(f'dtype: {aray.dtype.name}')\n",
    "    # size of each entry in array\n",
    "    print(f'itemsize: {aray.itemsize}')\n",
    "    # number of elements in array\n",
    "    print(f'size: {aray.size}')\n",
    "    print('-'*20)\n",
    "    print(f'a:{aray}')\n",
    "    print('-'*20)\n",
    "    "
   ]
  },
  {
   "cell_type": "code",
   "execution_count": 12,
   "id": "80abe929",
   "metadata": {},
   "outputs": [
    {
     "name": "stdout",
     "output_type": "stream",
     "text": [
      "shape: (3, 5)\n",
      "rank: 2\n",
      "dtype: int64\n",
      "itemsize: 8\n",
      "size: 15\n",
      "--------------------\n",
      "a:[[ 0  1  2  3  4]\n",
      " [ 5  6  7  8  9]\n",
      " [10 11 12 13 14]]\n",
      "--------------------\n"
     ]
    }
   ],
   "source": [
    "import numpy as np\n",
    "\n",
    "# create a numpy array with numbers from 0 to 15\n",
    "# of rank 2\n",
    "# with the first dimension of size 3,\n",
    "# and second dimension of size 5\n",
    "\n",
    "a = np.arange(15).reshape(3, 5)\n",
    "describe_np(a)\n",
    "\n"
   ]
  },
  {
   "cell_type": "code",
   "execution_count": 14,
   "id": "39a56b1a",
   "metadata": {},
   "outputs": [
    {
     "name": "stdout",
     "output_type": "stream",
     "text": [
      "shape: (3,)\n",
      "rank: 1\n",
      "dtype: int64\n",
      "itemsize: 8\n",
      "size: 3\n",
      "--------------------\n",
      "a:[2 3 4]\n",
      "--------------------\n"
     ]
    }
   ],
   "source": [
    "# create np array from Python array\n",
    "a = np.array([2, 3, 4])\n",
    "describe_np(a)"
   ]
  },
  {
   "cell_type": "code",
   "execution_count": 15,
   "id": "a9ec6e84",
   "metadata": {},
   "outputs": [
    {
     "name": "stdout",
     "output_type": "stream",
     "text": [
      "shape: (3,)\n",
      "rank: 1\n",
      "dtype: float64\n",
      "itemsize: 8\n",
      "size: 3\n",
      "--------------------\n",
      "a:[1.2 3.5 5.1]\n",
      "--------------------\n"
     ]
    }
   ],
   "source": [
    "b = np.array([1.2, 3.5, 5.1])\n",
    "# notice dtype is float64\n",
    "describe_np(b)"
   ]
  },
  {
   "cell_type": "code",
   "execution_count": 18,
   "id": "15308cbe",
   "metadata": {},
   "outputs": [
    {
     "name": "stdout",
     "output_type": "stream",
     "text": [
      "shape: (2, 3)\n",
      "rank: 2\n",
      "dtype: float64\n",
      "itemsize: 8\n",
      "size: 6\n",
      "--------------------\n",
      "a:[[1.5 2.  3. ]\n",
      " [4.  5.  6. ]]\n",
      "--------------------\n"
     ]
    }
   ],
   "source": [
    "# numpy will auto convert sequences of sequences to 2 dim array\n",
    "# this also applies with more nested sequences in higher dimenstions\n",
    "c = np.array([(1.5, 2, 3), (4, 5, 6)])\n",
    "describe_np(c)"
   ]
  },
  {
   "cell_type": "code",
   "execution_count": 21,
   "id": "febf1089",
   "metadata": {},
   "outputs": [
    {
     "name": "stdout",
     "output_type": "stream",
     "text": [
      "shape: (2,)\n",
      "rank: 1\n",
      "dtype: float64\n",
      "itemsize: 8\n",
      "size: 2\n",
      "--------------------\n",
      "a:[1. 2.]\n",
      "--------------------\n"
     ]
    }
   ],
   "source": [
    "# we can define the type when we create an array\n",
    "d = np.array([1, 2], dtype=np.float64)\n",
    "describe_np(d)"
   ]
  },
  {
   "cell_type": "code",
   "execution_count": 24,
   "id": "dde856d7",
   "metadata": {},
   "outputs": [
    {
     "name": "stdout",
     "output_type": "stream",
     "text": [
      "shape: (2, 3)\n",
      "rank: 2\n",
      "dtype: float64\n",
      "itemsize: 8\n",
      "size: 6\n",
      "--------------------\n",
      "a:[[0. 0. 0.]\n",
      " [0. 0. 0.]]\n",
      "--------------------\n"
     ]
    }
   ],
   "source": [
    "# we can use zeros to create an array filled with zeros\n",
    "# we have to pass the shape of the array to the zeros fn\n",
    "e = np.zeros((2,3))\n",
    "describe_np(e)"
   ]
  },
  {
   "cell_type": "code",
   "execution_count": 25,
   "id": "a660f7eb",
   "metadata": {},
   "outputs": [
    {
     "name": "stdout",
     "output_type": "stream",
     "text": [
      "shape: (2, 3)\n",
      "rank: 2\n",
      "dtype: float64\n",
      "itemsize: 8\n",
      "size: 6\n",
      "--------------------\n",
      "a:[[1. 1. 1.]\n",
      " [1. 1. 1.]]\n",
      "--------------------\n"
     ]
    }
   ],
   "source": [
    "# ones does the same\n",
    "f = np.ones((2,3))\n",
    "describe_np(f)"
   ]
  },
  {
   "cell_type": "code",
   "execution_count": 26,
   "id": "24d2b709",
   "metadata": {},
   "outputs": [
    {
     "name": "stdout",
     "output_type": "stream",
     "text": [
      "shape: (4,)\n",
      "rank: 1\n",
      "dtype: int64\n",
      "itemsize: 8\n",
      "size: 4\n",
      "--------------------\n",
      "a:[0 1 2 3]\n",
      "--------------------\n"
     ]
    }
   ],
   "source": [
    "# we can use arange to create a sequence of integers - similar to range in Python\n",
    "g = np.arange(4)\n",
    "describe_np(g)"
   ]
  },
  {
   "cell_type": "code",
   "execution_count": 27,
   "id": "3879f55e",
   "metadata": {},
   "outputs": [
    {
     "name": "stdout",
     "output_type": "stream",
     "text": [
      "shape: (9,)\n",
      "rank: 1\n",
      "dtype: float64\n",
      "itemsize: 8\n",
      "size: 9\n",
      "--------------------\n",
      "a:[0.   0.25 0.5  0.75 1.   1.25 1.5  1.75 2.  ]\n",
      "--------------------\n"
     ]
    }
   ],
   "source": [
    "# use linspace to do the same for floating point sequences\n",
    "h = np.linspace(0, 2, 9) # 9 numbers from 0 to 2\n",
    "describe_np(h)"
   ]
  },
  {
   "cell_type": "markdown",
   "id": "8bc7823b",
   "metadata": {},
   "source": [
    "### Basic vectorized operations\n",
    "Arithmetic operators on arrays apply elementwise. A new array is created and filled with the result."
   ]
  },
  {
   "cell_type": "code",
   "execution_count": 31,
   "id": "bf4ab6a0",
   "metadata": {},
   "outputs": [
    {
     "name": "stdout",
     "output_type": "stream",
     "text": [
      "shape: (4,)\n",
      "rank: 1\n",
      "dtype: int64\n",
      "itemsize: 8\n",
      "size: 4\n",
      "--------------------\n",
      "a:[20 29 38 47]\n",
      "--------------------\n",
      "\n",
      "shape: (4,)\n",
      "rank: 1\n",
      "dtype: int64\n",
      "itemsize: 8\n",
      "size: 4\n",
      "--------------------\n",
      "a:[0 1 4 9]\n",
      "--------------------\n",
      "\n",
      "shape: (4,)\n",
      "rank: 1\n",
      "dtype: bool\n",
      "itemsize: 1\n",
      "size: 4\n",
      "--------------------\n",
      "a:[ True  True False False]\n",
      "--------------------\n"
     ]
    }
   ],
   "source": [
    "a = np.array([20, 30, 40, 50])\n",
    "b = np.arange(4) #[0, 1, 2, 3]\n",
    "# returns a new array\n",
    "# with values:\n",
    "# [\n",
    "# 20 - 0\n",
    "# 30 - 1\n",
    "# 40 - 2\n",
    "# 50 - 3\n",
    "#]\n",
    "c = a - b\n",
    "describe_np(c)\n",
    "print('')\n",
    "describe_np(b**2)\n",
    "print('')\n",
    "describe_np(a < 35)"
   ]
  },
  {
   "cell_type": "markdown",
   "id": "53fc345b",
   "metadata": {},
   "source": [
    "Many unary operations, such as computing the sum of all the elements in the array, are implemented as methods of the ndarray class."
   ]
  },
  {
   "cell_type": "code",
   "execution_count": 34,
   "id": "f2c3961c",
   "metadata": {},
   "outputs": [
    {
     "name": "stdout",
     "output_type": "stream",
     "text": [
      "140\n",
      "20\n",
      "50\n"
     ]
    }
   ],
   "source": [
    "a = np.array([20, 30, 40, 50])\n",
    "print(a.sum())\n",
    "print(a.min())\n",
    "print(a.max())"
   ]
  },
  {
   "cell_type": "code",
   "execution_count": 35,
   "id": "3c837056",
   "metadata": {},
   "outputs": [
    {
     "name": "stdout",
     "output_type": "stream",
     "text": [
      "shape: (3,)\n",
      "rank: 1\n",
      "dtype: float64\n",
      "itemsize: 8\n",
      "size: 3\n",
      "--------------------\n",
      "a:[2. 2. 2.]\n",
      "--------------------\n"
     ]
    }
   ],
   "source": [
    "# sum along one dimension\n",
    "b = np.ones((2,3))\n",
    "# sum all values across first dimension\n",
    "describe_np(b.sum(axis = 0))"
   ]
  },
  {
   "cell_type": "markdown",
   "id": "31e286fa",
   "metadata": {},
   "source": [
    "### Indexing, slicing and iterating\n",
    "One-dimensional arrays can be indexed, sliced and iterated over, much like lists and other Python sequences."
   ]
  },
  {
   "cell_type": "code",
   "execution_count": 37,
   "id": "5261ed81",
   "metadata": {},
   "outputs": [
    {
     "name": "stdout",
     "output_type": "stream",
     "text": [
      "shape: ()\n",
      "rank: 0\n",
      "dtype: int64\n",
      "itemsize: 8\n",
      "size: 1\n",
      "--------------------\n",
      "a:2\n",
      "--------------------\n",
      "\n",
      "shape: (3,)\n",
      "rank: 1\n",
      "dtype: int64\n",
      "itemsize: 8\n",
      "size: 3\n",
      "--------------------\n",
      "a:[2 3 4]\n",
      "--------------------\n"
     ]
    }
   ],
   "source": [
    "a = np.arange(10)\n",
    "describe_np(a[2])\n",
    "print('')\n",
    "describe_np(a[2:5])"
   ]
  },
  {
   "cell_type": "markdown",
   "id": "a1c7de04",
   "metadata": {},
   "source": [
    "Multidimensional arrays can have one index per axis. These indices are given in a tuple separated by commas:"
   ]
  },
  {
   "cell_type": "code",
   "execution_count": 42,
   "id": "fb02d212",
   "metadata": {},
   "outputs": [
    {
     "name": "stdout",
     "output_type": "stream",
     "text": [
      "shape: (2, 3)\n",
      "rank: 2\n",
      "dtype: int64\n",
      "itemsize: 8\n",
      "size: 6\n",
      "--------------------\n",
      "a:[[1 2 3]\n",
      " [4 5 6]]\n",
      "--------------------\n",
      "\n",
      "shape: ()\n",
      "rank: 0\n",
      "dtype: int64\n",
      "itemsize: 8\n",
      "size: 1\n",
      "--------------------\n",
      "a:1\n",
      "--------------------\n",
      "\n",
      "shape: (2,)\n",
      "rank: 1\n",
      "dtype: int64\n",
      "itemsize: 8\n",
      "size: 2\n",
      "--------------------\n",
      "a:[2 5]\n",
      "--------------------\n"
     ]
    }
   ],
   "source": [
    "b = np.array([[1,2,3],[4,5,6]])\n",
    "describe_np(b)\n",
    "print('')\n",
    "describe_np(b[0,0])\n",
    "print('')\n",
    "# all values in column 1\n",
    "describe_np(b[:, 1])"
   ]
  },
  {
   "cell_type": "markdown",
   "id": "804e53d3",
   "metadata": {},
   "source": [
    "Iterating over multidimensional arrays is done with respect to the first axis:\n",
    "\n"
   ]
  },
  {
   "cell_type": "code",
   "execution_count": 44,
   "id": "b921795d",
   "metadata": {},
   "outputs": [
    {
     "name": "stdout",
     "output_type": "stream",
     "text": [
      "row 0: [1 2 3]\n",
      "row 1: [4 5 6]\n"
     ]
    }
   ],
   "source": [
    "b = np.array([[1,2,3],[4,5,6]])\n",
    "for index, row in enumerate(b):\n",
    "    print(f'row {index}: {row}')"
   ]
  },
  {
   "cell_type": "markdown",
   "id": "303886c1",
   "metadata": {},
   "source": [
    "or we can use the flat attribute to iterate over all elements in an array"
   ]
  },
  {
   "cell_type": "code",
   "execution_count": 45,
   "id": "842d0452",
   "metadata": {},
   "outputs": [
    {
     "name": "stdout",
     "output_type": "stream",
     "text": [
      "element 0: 1\n",
      "element 1: 2\n",
      "element 2: 3\n",
      "element 3: 4\n",
      "element 4: 5\n",
      "element 5: 6\n"
     ]
    }
   ],
   "source": [
    "b = np.array([[1,2,3],[4,5,6]])\n",
    "for index, element in enumerate(b.flat):\n",
    "    print(f'element {index}: {element}')"
   ]
  },
  {
   "cell_type": "markdown",
   "id": "49154a61",
   "metadata": {},
   "source": [
    "## Using Pandas to work with dataframes"
   ]
  },
  {
   "cell_type": "markdown",
   "id": "5e2a920e",
   "metadata": {},
   "source": [
    "We'll explore the widely used pandas library in this part of the course. We'll cover:\n",
    "- Intro to pandas\n",
    "- Structure of a dataframe\n",
    "- Creating dataframes\n",
    "- Viewing dataframes\n",
    "- Slicing dataframes"
   ]
  },
  {
   "cell_type": "markdown",
   "id": "885c7305",
   "metadata": {},
   "source": [
    "### Intro to pandas\n",
    "Pandas aims to be the fundamental high-level building block for doing practical, real world data analysis in Python. Additionally, it has the broader goal of becoming the most powerful and flexible open source data analysis / manipulation tool available in any language.\n",
    "\n",
    "Most of the functionality of pandas is delivered in Dataframes and Series'."
   ]
  },
  {
   "cell_type": "markdown",
   "id": "56121825",
   "metadata": {},
   "source": [
    "### Structure of a dataframe\n",
    "A DataFrame is a 2-dimensional data structure that can store data of different types (including characters, integers, floating point values, categorical data and more) in columns."
   ]
  },
  {
   "cell_type": "code",
   "execution_count": 3,
   "id": "b73cc9d2",
   "metadata": {},
   "outputs": [
    {
     "data": {
      "text/html": [
       "<div>\n",
       "<style scoped>\n",
       "    .dataframe tbody tr th:only-of-type {\n",
       "        vertical-align: middle;\n",
       "    }\n",
       "\n",
       "    .dataframe tbody tr th {\n",
       "        vertical-align: top;\n",
       "    }\n",
       "\n",
       "    .dataframe thead th {\n",
       "        text-align: right;\n",
       "    }\n",
       "</style>\n",
       "<table border=\"1\" class=\"dataframe\">\n",
       "  <thead>\n",
       "    <tr style=\"text-align: right;\">\n",
       "      <th></th>\n",
       "      <th>name</th>\n",
       "      <th>height in cm</th>\n",
       "      <th>hair colour</th>\n",
       "    </tr>\n",
       "  </thead>\n",
       "  <tbody>\n",
       "    <tr>\n",
       "      <th>0</th>\n",
       "      <td>Nickols</td>\n",
       "      <td>123</td>\n",
       "      <td>red</td>\n",
       "    </tr>\n",
       "    <tr>\n",
       "      <th>1</th>\n",
       "      <td>Benjals</td>\n",
       "      <td>200</td>\n",
       "      <td>black</td>\n",
       "    </tr>\n",
       "    <tr>\n",
       "      <th>2</th>\n",
       "      <td>Dennisons</td>\n",
       "      <td>180</td>\n",
       "      <td>brunette</td>\n",
       "    </tr>\n",
       "  </tbody>\n",
       "</table>\n",
       "</div>"
      ],
      "text/plain": [
       "        name  height in cm hair colour\n",
       "0    Nickols           123         red\n",
       "1    Benjals           200       black\n",
       "2  Dennisons           180    brunette"
      ]
     },
     "execution_count": 3,
     "metadata": {},
     "output_type": "execute_result"
    }
   ],
   "source": [
    "import pandas as pd\n",
    "df = pd.DataFrame([{'name':'Nickols', 'height in cm':123, 'hair colour': 'red'},\n",
    "                   {'name':'Benjals', 'height in cm':200, 'hair colour': 'black'},\n",
    "                   {'name':'Dennisons', 'height in cm':180, 'hair colour': 'brunette'}])\n",
    "df.head()"
   ]
  },
  {
   "cell_type": "code",
   "execution_count": null,
   "id": "b2eef5fc",
   "metadata": {},
   "outputs": [],
   "source": []
  },
  {
   "cell_type": "markdown",
   "id": "1f4e526d",
   "metadata": {},
   "source": [
    "## Using the Python LUSID Standard Development Kits"
   ]
  },
  {
   "cell_type": "markdown",
   "id": "23c1bb84",
   "metadata": {},
   "source": [
    "## Using the Lumipy SDK"
   ]
  }
 ],
 "metadata": {
  "kernelspec": {
   "display_name": "Python 3 (ipykernel)",
   "language": "python",
   "name": "python3"
  },
  "language_info": {
   "codemirror_mode": {
    "name": "ipython",
    "version": 3
   },
   "file_extension": ".py",
   "mimetype": "text/x-python",
   "name": "python",
   "nbconvert_exporter": "python",
   "pygments_lexer": "ipython3",
   "version": "3.9.7"
  }
 },
 "nbformat": 4,
 "nbformat_minor": 5
}
