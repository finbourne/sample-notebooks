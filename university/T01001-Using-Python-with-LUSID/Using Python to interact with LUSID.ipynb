{
 "cells": [
  {
   "cell_type": "markdown",
   "id": "1e4eacc3",
<<<<<<< Updated upstream
   "metadata": {},
=======
   "metadata": {
    "slideshow": {
     "slide_type": "slide"
    }
   },
>>>>>>> Stashed changes
   "source": [
    "# Using Python to interact with LUSID\n",
    "This tutorial is designed to be a starting point for writing simple Python scripts in the Jupyter environment to interact with LUSID programmatically. The tutorial will cover:\n",
    "- Using Jupyter\n",
    "- Basic Python scripting\n",
    "- Using Numpy to efficiently work with large, multi-dimensional data\n",
    "- Using Pandas to work with dataframes\n",
<<<<<<< Updated upstream
    "- Using the Python LUSID Standard Development Kit\n",
    "- Using the Luminesce SDK\n",
    "- Using the Lumipy SDK"
=======
    "- Using the Python LUSID SDKs"
>>>>>>> Stashed changes
   ]
  },
  {
   "cell_type": "markdown",
   "id": "80e22d01",
<<<<<<< Updated upstream
   "metadata": {},
=======
   "metadata": {
    "slideshow": {
     "slide_type": "slide"
    }
   },
>>>>>>> Stashed changes
   "source": [
    "## Basic Python scripting\n",
    "This section of the tutorial serves as a brief introduction to Python and writing some Python code. We'll cover:\n",
    "- What is Python\n",
    "- Assigning variables and built-in types\n",
    "- Python Sequence types\n",
    "- Python Mapping types\n",
    "- Decision statements\n",
    "- Loops\n",
    "- Functions\n",
    "- Classes and objects"
   ]
  },
  {
   "cell_type": "markdown",
   "id": "7d4fc2b1",
<<<<<<< Updated upstream
   "metadata": {},
=======
   "metadata": {
    "slideshow": {
     "slide_type": "subslide"
    }
   },
>>>>>>> Stashed changes
   "source": [
    "### What is Python?\n",
    "Guido Van Rossum began developing Python in 1989 as a programming language that should be:\n",
    "- An easy and intuitive language just as powerful as major competitors\n",
    "- Open source, so anyone can contribute to its development\n",
    "- Code that is as understandable as plain English\n",
    "- Suitability for everyday tasks, allowing for short development times\n",
    "\n",
    "Python is interpreted, which means that there is no complex build process for running your code, so you can write your code interactively. In Jupyter, you can write your code in a code cell and execute it by clicking the run button - its as simple as that!"
   ]
  },
  {
   "cell_type": "markdown",
   "id": "5922ffea",
<<<<<<< Updated upstream
   "metadata": {},
=======
   "metadata": {
    "slideshow": {
     "slide_type": "subslide"
    }
   },
>>>>>>> Stashed changes
   "source": [
    "### Assigning variables and built-in types\n",
    "Here we'll learn how to create some variables, and some of the built-in types that Python provides\n",
    "#### Assigning variables\n",
    "Python is dynamically typed, so you don't have to declare the type of a variable before using it. By [convention](https://peps.python.org/pep-0008/#function-and-variable-names), multi-word variables are lower case, and seperated by underscores."
   ]
  },
  {
   "cell_type": "code",
   "execution_count": 1,
   "id": "ca3de71f",
<<<<<<< Updated upstream
   "metadata": {},
=======
   "metadata": {
    "slideshow": {
     "slide_type": "subslide"
    }
   },
>>>>>>> Stashed changes
   "outputs": [
    {
     "data": {
      "text/plain": [
       "'hello world'"
      ]
     },
     "execution_count": 1,
     "metadata": {},
     "output_type": "execute_result"
    }
   ],
   "source": [
    "# This is a comment, it is ignored by the interpreter\n",
    "\n",
    "# Assigning hello world to the variable x\n",
    "# in other languages you would have to declare that x is a string before doing this\n",
    "x = 'hello world'\n",
    "x"
   ]
  },
  {
   "cell_type": "code",
<<<<<<< Updated upstream
   "execution_count": 3,
   "id": "5938476c",
   "metadata": {},
=======
   "execution_count": 2,
   "id": "5938476c",
   "metadata": {
    "slideshow": {
     "slide_type": "subslide"
    }
   },
>>>>>>> Stashed changes
   "outputs": [
    {
     "data": {
      "text/plain": [
       "7"
      ]
     },
<<<<<<< Updated upstream
     "execution_count": 3,
=======
     "execution_count": 2,
>>>>>>> Stashed changes
     "metadata": {},
     "output_type": "execute_result"
    }
   ],
   "source": [
    "# Assigning 7 to the variable y\n",
    "# in other languages you would have to declare that y is an integer before doing this\n",
    "y = 7\n",
    "y"
   ]
  },
  {
<<<<<<< Updated upstream
   "cell_type": "markdown",
   "id": "c6fdc327",
   "metadata": {},
=======
   "cell_type": "code",
   "execution_count": 3,
   "id": "1671e6ba",
   "metadata": {
    "slideshow": {
     "slide_type": "subslide"
    }
   },
   "outputs": [
    {
     "data": {
      "text/plain": [
       "'not just a number'"
      ]
     },
     "execution_count": 3,
     "metadata": {},
     "output_type": "execute_result"
    }
   ],
   "source": [
    "# In Python types are dynamic\n",
    "y = 'not just a number'\n",
    "y"
   ]
  },
  {
   "cell_type": "markdown",
   "id": "c6fdc327",
   "metadata": {
    "slideshow": {
     "slide_type": "subslide"
    }
   },
>>>>>>> Stashed changes
   "source": [
    "#### Built-in types\n",
    "Here we'll introduce some of the built-in types that are provided out-of-the-box with Python:\n",
    "- Numeric types - int, float\n",
    "- The Text Sequence type - str\n",
    "- Boolean Values\n",
    "- The Null Object - None"
   ]
  },
  {
   "cell_type": "markdown",
   "id": "a0a43a94",
<<<<<<< Updated upstream
   "metadata": {},
=======
   "metadata": {
    "slideshow": {
     "slide_type": "subslide"
    }
   },
>>>>>>> Stashed changes
   "source": [
    "##### Numeric types - int, float\n",
    "In Python, integers are zero, positive or negative whole numbers without a fractional part and having unlimited precision.\\\n",
    "Floats are made to represent floating-point numbers with the same precision as the double type in other common languages.\n",
    "You can use common mathematical operations with both floats and integers"
   ]
  },
  {
   "cell_type": "code",
<<<<<<< Updated upstream
   "execution_count": 7,
   "id": "b4a22f9f",
   "metadata": {},
=======
   "execution_count": 4,
   "id": "b4a22f9f",
   "metadata": {
    "slideshow": {
     "slide_type": "subslide"
    }
   },
>>>>>>> Stashed changes
   "outputs": [],
   "source": [
    "# Some integers\n",
    "a = 1\n",
    "b = 2000\n",
    "c = 0\n",
    "d = -99\n",
    "\n",
    "# Some floats\n",
    "e = 0.1\n",
    "f = -25.972"
   ]
  },
  {
   "cell_type": "code",
<<<<<<< Updated upstream
   "execution_count": 8,
   "id": "1d96cb08",
   "metadata": {},
=======
   "execution_count": 5,
   "id": "1d96cb08",
   "metadata": {
    "slideshow": {
     "slide_type": "subslide"
    }
   },
>>>>>>> Stashed changes
   "outputs": [
    {
     "data": {
      "text/plain": [
       "2001"
      ]
     },
<<<<<<< Updated upstream
     "execution_count": 8,
=======
     "execution_count": 5,
>>>>>>> Stashed changes
     "metadata": {},
     "output_type": "execute_result"
    }
   ],
   "source": [
    "# adding ints\n",
    "a + b"
   ]
  },
  {
   "cell_type": "code",
<<<<<<< Updated upstream
   "execution_count": 9,
   "id": "47add820",
   "metadata": {},
=======
   "execution_count": 6,
   "id": "47add820",
   "metadata": {
    "slideshow": {
     "slide_type": "subslide"
    }
   },
>>>>>>> Stashed changes
   "outputs": [
    {
     "data": {
      "text/plain": [
       "-25.872"
      ]
     },
<<<<<<< Updated upstream
     "execution_count": 9,
=======
     "execution_count": 6,
>>>>>>> Stashed changes
     "metadata": {},
     "output_type": "execute_result"
    }
   ],
   "source": [
    "# adding floats\n",
    "e + f\n",
    "# as f is negative its subtracted from e, as you would expect"
   ]
  },
  {
   "cell_type": "code",
<<<<<<< Updated upstream
   "execution_count": 10,
   "id": "54819007",
   "metadata": {},
=======
   "execution_count": 7,
   "id": "54819007",
   "metadata": {
    "slideshow": {
     "slide_type": "subslide"
    }
   },
>>>>>>> Stashed changes
   "outputs": [
    {
     "data": {
      "text/plain": [
       "40020.0"
      ]
     },
<<<<<<< Updated upstream
     "execution_count": 10,
=======
     "execution_count": 7,
>>>>>>> Stashed changes
     "metadata": {},
     "output_type": "execute_result"
    }
   ],
   "source": [
    "# some more complex math\n",
    "2*(a+b)/e"
   ]
  },
  {
   "cell_type": "code",
<<<<<<< Updated upstream
   "execution_count": 12,
   "id": "5cb5a70d",
   "metadata": {},
=======
   "execution_count": 8,
   "id": "5cb5a70d",
   "metadata": {
    "slideshow": {
     "slide_type": "subslide"
    }
   },
>>>>>>> Stashed changes
   "outputs": [
    {
     "data": {
      "text/plain": [
       "2002"
      ]
     },
<<<<<<< Updated upstream
     "execution_count": 12,
=======
     "execution_count": 8,
>>>>>>> Stashed changes
     "metadata": {},
     "output_type": "execute_result"
    }
   ],
   "source": [
    "f = a + b\n",
    "f + 1"
   ]
  },
  {
   "cell_type": "markdown",
   "id": "0c65e9da",
<<<<<<< Updated upstream
   "metadata": {},
=======
   "metadata": {
    "slideshow": {
     "slide_type": "subslide"
    }
   },
>>>>>>> Stashed changes
   "source": [
    "##### The Text Sequence type - str\n",
    "Strings represent text data. In Python strings are immutable sequences of unicode characters:"
   ]
  },
  {
   "cell_type": "code",
<<<<<<< Updated upstream
   "execution_count": 14,
   "id": "61cf82b4",
   "metadata": {},
=======
   "execution_count": 9,
   "id": "61cf82b4",
   "metadata": {
    "slideshow": {
     "slide_type": "subslide"
    }
   },
>>>>>>> Stashed changes
   "outputs": [
    {
     "name": "stdout",
     "output_type": "stream",
     "text": [
      "So\n",
      "many\n",
      "lines!\n",
      "\n"
     ]
    }
   ],
   "source": [
    "# Assigning the string hello world to the variable x\n",
    "x = 'hello world'\n",
    "# Also assigning the string hello world to the variable x\n",
    "x = \"hello world\"\n",
<<<<<<< Updated upstream
=======
    "\n",
    "single_quotes ='allows embedded \"double\" quotes'\n",
    "\n",
    "double_quotes = \"allows embedded 'single' quotes\"\n",
    "\n",
>>>>>>> Stashed changes
    "# There are also multi-line strings:\n",
    "y = '''So\n",
    "many\n",
    "lines!\n",
    "'''\n",
    "print(y)"
   ]
  },
  {
   "cell_type": "markdown",
   "id": "448022d6",
<<<<<<< Updated upstream
   "metadata": {},
=======
   "metadata": {
    "slideshow": {
     "slide_type": "subslide"
    }
   },
>>>>>>> Stashed changes
   "source": [
    "Strings have many useful functions that can be used to manipulate them, here are some examples:"
   ]
  },
  {
   "cell_type": "code",
<<<<<<< Updated upstream
   "execution_count": 8,
   "id": "93284379",
   "metadata": {},
=======
   "execution_count": 10,
   "id": "93284379",
   "metadata": {
    "slideshow": {
     "slide_type": "subslide"
    }
   },
>>>>>>> Stashed changes
   "outputs": [
    {
     "name": "stdout",
     "output_type": "stream",
     "text": [
      "Hello world\n",
      "HELLO WORLD\n",
      "True\n"
     ]
    }
   ],
   "source": [
    "x = 'hello world'\n",
    "# Return a copy of the string with its first character capitalized and the rest lowercased.\n",
    "print(x.capitalize())\n",
    "# Return a copy of the string with all the cased characters converted to uppercase\n",
    "print(x.upper())\n",
    "# Return True if all cased characters in the string are lowercase and there is at least one cased character, False otherwise.\n",
    "print(x.islower())"
   ]
  },
  {
   "cell_type": "markdown",
   "id": "bec2dc7d",
<<<<<<< Updated upstream
   "metadata": {},
=======
   "metadata": {
    "slideshow": {
     "slide_type": "subslide"
    }
   },
>>>>>>> Stashed changes
   "source": [
    "f-strings are also pretty useful, allowing us to interpolate values into our strings:"
   ]
  },
  {
   "cell_type": "code",
<<<<<<< Updated upstream
   "execution_count": 12,
   "id": "a2a98f06",
   "metadata": {},
=======
   "execution_count": 11,
   "id": "a2a98f06",
   "metadata": {
    "slideshow": {
     "slide_type": "subslide"
    }
   },
>>>>>>> Stashed changes
   "outputs": [
    {
     "name": "stdout",
     "output_type": "stream",
     "text": [
      "Thay call him Cage\n"
     ]
    }
   ],
   "source": [
    "name = 'Cage'\n",
    "print(f'Thay call him {name}')"
   ]
  },
  {
   "cell_type": "markdown",
   "id": "d7b38033",
<<<<<<< Updated upstream
   "metadata": {},
=======
   "metadata": {
    "slideshow": {
     "slide_type": "subslide"
    }
   },
>>>>>>> Stashed changes
   "source": [
    "##### Boolean Values\n",
    "Python boolean values are either True or False (capitalized)"
   ]
  },
  {
   "cell_type": "code",
<<<<<<< Updated upstream
   "execution_count": 1,
   "id": "aeb93173",
   "metadata": {},
=======
   "execution_count": 12,
   "id": "aeb93173",
   "metadata": {
    "slideshow": {
     "slide_type": "subslide"
    }
   },
>>>>>>> Stashed changes
   "outputs": [
    {
     "data": {
      "text/plain": [
       "True"
      ]
     },
<<<<<<< Updated upstream
     "execution_count": 1,
=======
     "execution_count": 12,
>>>>>>> Stashed changes
     "metadata": {},
     "output_type": "execute_result"
    }
   ],
   "source": [
    "# assigning true to a variable\n",
    "booleans_are_capitalized = True\n",
    "booleans_are_capitalized"
   ]
  },
  {
   "cell_type": "markdown",
   "id": "f5aca2bd",
<<<<<<< Updated upstream
   "metadata": {},
=======
   "metadata": {
    "slideshow": {
     "slide_type": "subslide"
    }
   },
>>>>>>> Stashed changes
   "source": [
    "##### The Null object - None\n",
    "None is a special object returned by functions (explained later) that don't explicitly return a value."
   ]
  },
  {
   "cell_type": "code",
<<<<<<< Updated upstream
   "execution_count": 5,
   "id": "3b6b4866",
   "metadata": {},
=======
   "execution_count": 13,
   "id": "3b6b4866",
   "metadata": {
    "slideshow": {
     "slide_type": "subslide"
    }
   },
>>>>>>> Stashed changes
   "outputs": [
    {
     "name": "stdout",
     "output_type": "stream",
     "text": [
      "None\n"
     ]
    }
   ],
   "source": [
    "x = None\n",
    "print(x)"
   ]
  },
  {
   "cell_type": "markdown",
   "id": "3922b5b8",
<<<<<<< Updated upstream
   "metadata": {},
=======
   "metadata": {
    "slideshow": {
     "slide_type": "subslide"
    }
   },
>>>>>>> Stashed changes
   "source": [
    "### Python sequence types\n",
    "Here we'll describe some of the Python types used to store collections of data:\n",
    "- Lists\n",
    "- Tuples\n",
    "- Sets\n",
    "- Range"
   ]
  },
  {
   "cell_type": "markdown",
   "id": "db977e4c",
<<<<<<< Updated upstream
   "metadata": {},
=======
   "metadata": {
    "slideshow": {
     "slide_type": "subslide"
    }
   },
>>>>>>> Stashed changes
   "source": [
    "#### Lists\n",
    "Lists are the easiest way to store collections of values. Lists can accept heterogenous values, are variable in length, and are mutable."
   ]
  },
  {
   "cell_type": "code",
<<<<<<< Updated upstream
   "execution_count": 12,
   "id": "44ef18ce",
   "metadata": {},
=======
   "execution_count": 14,
   "id": "44ef18ce",
   "metadata": {
    "slideshow": {
     "slide_type": "subslide"
    }
   },
>>>>>>> Stashed changes
   "outputs": [
    {
     "data": {
      "text/plain": [
       "[1, 2, 'three', True]"
      ]
     },
<<<<<<< Updated upstream
     "execution_count": 12,
=======
     "execution_count": 14,
>>>>>>> Stashed changes
     "metadata": {},
     "output_type": "execute_result"
    }
   ],
   "source": [
    "# declaring a list\n",
    "sample_list = [1,2,\"three\", True]\n",
    "sample_list"
   ]
  },
  {
   "cell_type": "markdown",
   "id": "2eecccef",
<<<<<<< Updated upstream
   "metadata": {},
=======
   "metadata": {
    "slideshow": {
     "slide_type": "subslide"
    }
   },
>>>>>>> Stashed changes
   "source": [
    "You can access elements in most Python sequences by slicing:"
   ]
  },
  {
   "cell_type": "code",
<<<<<<< Updated upstream
   "execution_count": 25,
   "id": "4dd42b84",
   "metadata": {},
=======
   "execution_count": 15,
   "id": "4dd42b84",
   "metadata": {
    "slideshow": {
     "slide_type": "subslide"
    }
   },
>>>>>>> Stashed changes
   "outputs": [
    {
     "name": "stdout",
     "output_type": "stream",
     "text": [
      "1\n",
      "[1, 2, 'three']\n",
      "True\n",
      "[True, 'three', 2, 1]\n"
     ]
    }
   ],
   "source": [
    "sample_list = [1,2,\"three\", True]\n",
    "# Get the value at index 0\n",
    "print(sample_list[0])\n",
    "# Get the values from index 0 to index 2\n",
    "print(sample_list[0:3])\n",
    "# Get the value at the last index\n",
    "print(sample_list[-1])\n",
    "# Get all values in reverse order\n",
    "print(sample_list[::-1])"
   ]
  },
  {
   "cell_type": "markdown",
   "id": "6167ee8b",
<<<<<<< Updated upstream
   "metadata": {},
=======
   "metadata": {
    "slideshow": {
     "slide_type": "subslide"
    }
   },
>>>>>>> Stashed changes
   "source": [
    "#### Tuples\n",
    "Tuples are similar to lists, but they are immutable. Tuples can also be unpacked into several variables in a single line."
   ]
  },
  {
   "cell_type": "code",
<<<<<<< Updated upstream
   "execution_count": 13,
   "id": "45e41741",
   "metadata": {},
=======
   "execution_count": 16,
   "id": "45e41741",
   "metadata": {
    "slideshow": {
     "slide_type": "subslide"
    }
   },
>>>>>>> Stashed changes
   "outputs": [
    {
     "name": "stdout",
     "output_type": "stream",
     "text": [
      "2\n",
      "(1,)\n",
      "'tuple' object does not support item assignment\n",
      "1\n",
      "2\n",
      "3\n"
     ]
    }
   ],
   "source": [
    "x = (1,2,True)\n",
    "print(x[1])\n",
    "\n",
    "# If a tuple has only one element it must have a comma\n",
    "y = (1,)\n",
    "print(y)\n",
    "\n",
    "# Cannot change element in tuple as its immutable\n",
    "try:\n",
    "    x[1] = 7\n",
    "except TypeError as exception:\n",
    "    print(exception)\n",
    "    \n",
    "# tuple unpacking\n",
    "tpl = (1,2,3)\n",
    "a,b,c = tpl\n",
    "print(a)\n",
    "print(b)\n",
    "print(c)"
   ]
  },
  {
   "cell_type": "markdown",
   "id": "fa887056",
<<<<<<< Updated upstream
   "metadata": {},
=======
   "metadata": {
    "slideshow": {
     "slide_type": "subslide"
    }
   },
>>>>>>> Stashed changes
   "source": [
    "#### Sets\n",
    "Sets are also similar to lists, they just won't contain any duplicate values:"
   ]
  },
  {
   "cell_type": "code",
<<<<<<< Updated upstream
   "execution_count": 42,
   "id": "55995b24",
   "metadata": {},
=======
   "execution_count": 17,
   "id": "55995b24",
   "metadata": {
    "slideshow": {
     "slide_type": "subslide"
    }
   },
>>>>>>> Stashed changes
   "outputs": [
    {
     "name": "stdout",
     "output_type": "stream",
     "text": [
      "{1, 2, 3}\n"
     ]
    }
   ],
   "source": [
    "# Creating a set with duplicate 2 values:\n",
    "x = {1,2,2,3}\n",
    "print(x)"
   ]
  },
  {
   "cell_type": "markdown",
   "id": "cd893269",
<<<<<<< Updated upstream
   "metadata": {},
=======
   "metadata": {
    "slideshow": {
     "slide_type": "subslide"
    }
   },
>>>>>>> Stashed changes
   "source": [
    "#### Range\n",
    "Range is a sequence type that represents an immutable sequence of numbers. Its normally used to generate numbers used in for loops:"
   ]
  },
  {
   "cell_type": "code",
<<<<<<< Updated upstream
   "execution_count": 10,
   "id": "a9ccefcc",
   "metadata": {},
=======
   "execution_count": 18,
   "id": "a9ccefcc",
   "metadata": {
    "slideshow": {
     "slide_type": "subslide"
    }
   },
>>>>>>> Stashed changes
   "outputs": [
    {
     "name": "stdout",
     "output_type": "stream",
     "text": [
      "[0, 1, 2, 3, 4, 5, 6, 7, 8, 9]\n",
      "[9, 8, 7, 6, 5, 4, 3, 2, 1, 0]\n",
      "[2, 4, 6, 8]\n"
     ]
    }
   ],
   "source": [
    "# from 0 to 9\n",
    "print(list(range(10)))\n",
    "# from 9 to 0\n",
    "print(list(range(9, -1, -1)))\n",
    "# even numbers to 10\n",
    "print(list(range(2, 10, 2)))"
   ]
  },
  {
   "cell_type": "markdown",
   "id": "aa2b3c84",
<<<<<<< Updated upstream
   "metadata": {},
=======
   "metadata": {
    "slideshow": {
     "slide_type": "subslide"
    }
   },
>>>>>>> Stashed changes
   "source": [
    "### Python Mapping Types\n",
    "dict is Python's built-in mapping type. Dicts store key-value pairs where keys must be [hashable](https://docs.python.org/3/glossary.html#term-hashable), and values can be any type. It is usually much easier, and more efficient to save and fetch values from dictionaries than from Sequence types."
   ]
  },
  {
   "cell_type": "code",
<<<<<<< Updated upstream
   "execution_count": 46,
   "id": "f8f5fd19",
   "metadata": {},
=======
   "execution_count": 81,
   "id": "39fe23e5",
   "metadata": {
    "slideshow": {
     "slide_type": "subslide"
    }
   },
>>>>>>> Stashed changes
   "outputs": [
    {
     "name": "stdout",
     "output_type": "stream",
     "text": [
      "{'banana': True, 7: 'hello_world'}\n",
      "True\n",
      "{'banana': True, 7: 'hello_world', 'apple': False}\n"
     ]
    }
   ],
   "source": [
    "dictionary = {'banana':True, 7:'hello_world'}\n",
    "print(dictionary)\n",
    "\n",
    "print(dictionary['banana'])\n",
    "dictionary['apple'] = False\n",
    "print(dictionary)"
   ]
  },
  {
<<<<<<< Updated upstream
   "cell_type": "markdown",
   "id": "b1263bfa",
   "metadata": {},
=======
   "cell_type": "code",
   "execution_count": 82,
   "id": "f8f5fd19",
   "metadata": {
    "slideshow": {
     "slide_type": "subslide"
    }
   },
   "outputs": [
    {
     "name": "stdout",
     "output_type": "stream",
     "text": [
      "False\n",
      "False\n",
      "sensible default value\n"
     ]
    }
   ],
   "source": [
    "\n",
    "\n",
    "# access values by key\n",
    "print(dictionary['apple'])\n",
    "\n",
    "# Can also use get to grab values\n",
    "print(dictionary.get('apple'))\n",
    "\n",
    "# and provide a default value if key doesn't exist.\n",
    "print(dictionary.get('appel', 'sensible default value'))"
   ]
  },
  {
   "cell_type": "markdown",
   "id": "b1263bfa",
   "metadata": {
    "slideshow": {
     "slide_type": "subslide"
    }
   },
>>>>>>> Stashed changes
   "source": [
    "### Decision statements\n",
    "Python allows you to control the flow of the program - the simplist way by using 'if' statements"
   ]
  },
  {
   "cell_type": "code",
<<<<<<< Updated upstream
   "execution_count": 1,
   "id": "8bbed3f1",
   "metadata": {},
=======
   "execution_count": 20,
   "id": "8bbed3f1",
   "metadata": {
    "slideshow": {
     "slide_type": "subslide"
    }
   },
>>>>>>> Stashed changes
   "outputs": [
    {
     "name": "stdout",
     "output_type": "stream",
     "text": [
      "hello world\n"
     ]
    }
   ],
   "source": [
    "# try changing the value of expression to see what this code does!\n",
    "expression = True\n",
    "# if expression evaluates to True then print hello world\n",
    "# otherwise do nothing\n",
    "if expression:\n",
    "    print('hello world')"
   ]
  },
  {
   "cell_type": "code",
<<<<<<< Updated upstream
   "execution_count": 3,
   "id": "9ca80751",
   "metadata": {},
=======
   "execution_count": 21,
   "id": "9ca80751",
   "metadata": {
    "slideshow": {
     "slide_type": "subslide"
    }
   },
>>>>>>> Stashed changes
   "outputs": [
    {
     "name": "stdout",
     "output_type": "stream",
     "text": [
      "value is 1\n"
     ]
    }
   ],
   "source": [
    "# try changing the value of expression to see what this code does!\n",
    "value = 1\n",
    "# if expression evaluates to True then print value is 0\n",
    "# otherwise continue to elif statement\n",
    "if value == 0:\n",
    "    print('value is 0')\n",
    "# if the value is 1\n",
    "# print value is 1\n",
    "elif value == 1:\n",
    "    print('value is 1')\n"
   ]
  },
  {
   "cell_type": "code",
<<<<<<< Updated upstream
   "execution_count": 4,
   "id": "cb6e9057",
   "metadata": {},
=======
   "execution_count": 22,
   "id": "cb6e9057",
   "metadata": {
    "slideshow": {
     "slide_type": "subslide"
    }
   },
>>>>>>> Stashed changes
   "outputs": [
    {
     "name": "stdout",
     "output_type": "stream",
     "text": [
      "banana\n"
     ]
    }
   ],
   "source": [
    "# try changing the value of expression to see what this code does!\n",
    "value = 'banana'\n",
    "# if expression evaluates to True then print value is 0\n",
    "# otherwise continue to elif statement\n",
    "if value == 0:\n",
    "    print('value is 0')\n",
    "# if the value is 1\n",
    "# print value is 1\n",
    "# otherwise continue to next elif statement or else statement if no more elifs.\n",
    "elif value == 1:\n",
    "    print('value is 1')\n",
    "else:\n",
    "    print('banana')\n"
   ]
  },
  {
   "cell_type": "markdown",
   "id": "87dd6ed6",
<<<<<<< Updated upstream
   "metadata": {},
=======
   "metadata": {
    "slideshow": {
     "slide_type": "subslide"
    }
   },
>>>>>>> Stashed changes
   "source": [
    "### Loops\n",
    "\n",
    "Python has 2 main types of loop:\n",
    " - For loops.\\\n",
    "For loops work by by iterating over a sequence of values. Its common to combine the range sequence type with a for loop, but any sequence type can be used:"
   ]
  },
  {
   "cell_type": "code",
<<<<<<< Updated upstream
   "execution_count": 17,
   "id": "0417470c",
   "metadata": {
    "scrolled": true
=======
   "execution_count": 23,
   "id": "0417470c",
   "metadata": {
    "scrolled": true,
    "slideshow": {
     "slide_type": "subslide"
    }
>>>>>>> Stashed changes
   },
   "outputs": [
    {
     "name": "stdout",
     "output_type": "stream",
     "text": [
      "0\n",
      "1\n",
      "2\n",
      "3\n",
      "4\n",
      "5\n",
      "6\n",
      "7\n",
      "8\n",
      "9\n",
      "cow\n",
      "sheep\n",
      "alligator\n",
      "0\n",
      "cow\n",
      "1\n",
      "sheep\n",
      "2\n",
      "alligator\n",
      "cow\n",
      "farms\n",
      "sheep\n",
      "fields\n",
      "alligator\n",
      "swamps\n"
     ]
    }
   ],
   "source": [
    "# print the numbers 1 - 9\n",
    "for i in range(10):\n",
    "    print(i)\n",
    "    \n",
    "animals = ['cow', 'sheep', 'alligator']\n",
    "for animal in animals:\n",
    "    print(animal)\n",
    "\n",
    "# tuple unpacking is commonly used in for loops:\n",
    "# here enumerate returns a sequence of tuples\n",
    "# where each tuple contains an animal and its index in the list\n",
    "for index, animal in enumerate(animals):\n",
    "    print(index)\n",
    "    print(animal)\n",
    "\n",
    "habitats = ['farms', 'fields', 'swamps']\n",
    "# zip can be used to loop over two lists simultaneously:\n",
    "for animal, habitat in zip(animals, habitats):\n",
    "    print(animal)\n",
    "    print(habitat)\n",
    "    "
   ]
  },
  {
   "cell_type": "markdown",
   "id": "6d81e445",
<<<<<<< Updated upstream
   "metadata": {},
=======
   "metadata": {
    "slideshow": {
     "slide_type": "subslide"
    }
   },
>>>>>>> Stashed changes
   "source": [
    "- While loops \\\n",
    "While loops check an expression every iteration, and only break out of the loop when the expression evaluates to false."
   ]
  },
  {
   "cell_type": "code",
<<<<<<< Updated upstream
   "execution_count": 21,
   "id": "45419224",
   "metadata": {},
=======
   "execution_count": 24,
   "id": "45419224",
   "metadata": {
    "slideshow": {
     "slide_type": "subslide"
    }
   },
>>>>>>> Stashed changes
   "outputs": [
    {
     "name": "stdout",
     "output_type": "stream",
     "text": [
      "running\n",
      "1\n",
      "running\n",
      "2\n",
      "running\n",
      "3\n",
      "running\n",
      "4\n",
      "running\n",
      "5\n",
      "running\n",
      "6\n",
      "running\n",
      "7\n",
      "running\n",
      "8\n",
      "running\n",
      "9\n",
      "running\n",
      "10\n",
      "stopped\n"
     ]
    }
   ],
   "source": [
    "i = 0\n",
    "# print the numbers 1 - 10 then stop \n",
    "while(i<10):\n",
    "    print('running')\n",
    "    i+=1\n",
    "    print(i)\n",
    "print('stopped')"
   ]
  },
  {
   "cell_type": "markdown",
   "id": "b9c28372",
<<<<<<< Updated upstream
   "metadata": {},
=======
   "metadata": {
    "slideshow": {
     "slide_type": "subslide"
    }
   },
>>>>>>> Stashed changes
   "source": [
    "Common to both for loops and while loops are the _break_ and _continue_ keywords.\n",
    "_break_ causes the program to exit the loop.\n",
    "_continue_ causes the current iteration of the loop to end, and the next to begin."
   ]
  },
  {
   "cell_type": "code",
<<<<<<< Updated upstream
   "execution_count": 24,
   "id": "8efa67cd",
   "metadata": {},
=======
   "execution_count": 83,
   "id": "1904c352",
   "metadata": {
    "slideshow": {
     "slide_type": "subslide"
    }
   },
>>>>>>> Stashed changes
   "outputs": [
    {
     "name": "stdout",
     "output_type": "stream",
     "text": [
      "0\n",
      "1\n",
      "2\n",
<<<<<<< Updated upstream
      "3\n",
=======
      "3\n"
     ]
    }
   ],
   "source": [
    "# print 0 - 3 then exit loop\n",
    "for i in range(10):\n",
    "    print(i)\n",
    "    if i == 3:\n",
    "        break"
   ]
  },
  {
   "cell_type": "code",
   "execution_count": 84,
   "id": "8efa67cd",
   "metadata": {
    "slideshow": {
     "slide_type": "subslide"
    }
   },
   "outputs": [
    {
     "name": "stdout",
     "output_type": "stream",
     "text": [
>>>>>>> Stashed changes
      "0\n",
      "1\n",
      "2\n",
      "4\n",
      "5\n",
      "6\n",
      "7\n",
      "8\n",
      "9\n"
     ]
    }
   ],
   "source": [
<<<<<<< Updated upstream
    "# print 0 - 3 then exit loop\n",
    "for i in range(10):\n",
    "    print(i)\n",
    "    if i == 3:\n",
    "        break\n",
    "        \n",
=======
    "      \n",
>>>>>>> Stashed changes
    "# print 0 - 9 , but skip the number 3\n",
    "for i in range(10):\n",
    "    if i==3:\n",
    "        continue\n",
    "    print(i)"
   ]
  },
  {
   "cell_type": "markdown",
   "id": "7b56dfac",
<<<<<<< Updated upstream
   "metadata": {},
=======
   "metadata": {
    "slideshow": {
     "slide_type": "subslide"
    }
   },
>>>>>>> Stashed changes
   "source": [
    "### Functions\n",
    "Functions are a great way of re-using code.\n",
    "\n",
    "In Python, you can declare \"arguments\", which are variables which the function uses. Functions will also return a value, using the return statement, which allows you to use the result of some function call later in your code.\n",
    "If you don't provide a return statement, the function returns None."
   ]
  },
  {
   "cell_type": "code",
<<<<<<< Updated upstream
   "execution_count": 6,
   "id": "0e943e3c",
   "metadata": {},
=======
   "execution_count": 26,
   "id": "0e943e3c",
   "metadata": {
    "slideshow": {
     "slide_type": "subslide"
    }
   },
>>>>>>> Stashed changes
   "outputs": [
    {
     "name": "stdout",
     "output_type": "stream",
     "text": [
      "flux capacitor\n",
      "3\n",
      "8\n",
      "3\n"
     ]
    }
   ],
   "source": [
    "# a fairly useless function that just prints something to the terminal\n",
    "def print_flux_capacitor():\n",
    "    print('flux capacitor')\n",
    "    \n",
    "# call the function\n",
    "print_flux_capacitor()\n",
    "\n",
    "# print the sum of 2 numbers:\n",
    "def print_sum(a, b):\n",
    "    print(a+b)\n",
    "\n",
    "# prints 3\n",
    "print_sum(1,2)\n",
    "# pass a predefined variable to a function\n",
    "x = 7\n",
    "# prints 8\n",
    "print_sum(1, x)\n",
    "\n",
    "# return the sum of two numbers\n",
    "def return_sum(a, b):\n",
    "    return a + b\n",
    "    \n",
    "# store result of function in a variable\n",
    "result = return_sum(1,2)\n",
    "print(result)"
   ]
  },
  {
   "cell_type": "markdown",
<<<<<<< Updated upstream
   "id": "ca0c668a",
   "metadata": {},
=======
   "id": "2305f20f",
   "metadata": {
    "slideshow": {
     "slide_type": "subslide"
    }
   },
   "source": [
    "The special syntax *args in function definitions in python is used to pass a variable number of arguments to a function. It is used to pass a variable-length argument list. "
   ]
  },
  {
   "cell_type": "markdown",
   "id": "f42dd263",
   "metadata": {
    "slideshow": {
     "slide_type": "subslide"
    }
   },
   "source": [
    "The special syntax \\*\\*kwargs in function definitions in python is used to pass a keyworded argument list."
   ]
  },
  {
   "cell_type": "code",
   "execution_count": 95,
   "id": "7c35d781",
   "metadata": {
    "slideshow": {
     "slide_type": "subslide"
    }
   },
   "outputs": [
    {
     "name": "stdout",
     "output_type": "stream",
     "text": [
      "args: ('x', 1, 2)\n",
      "kwargs: {'fruit': 'apple', 'a': 'b'}\n"
     ]
    }
   ],
   "source": [
    "# prints args and kwargs\n",
    "def fancy_func(*args, **kwargs):\n",
    "    print(f'args: {args}')\n",
    "    print(f'kwargs: {kwargs}')\n",
    "    \n",
    "fancy_func('x', 1, 2, fruit = 'apple', a = 'b')"
   ]
  },
  {
   "cell_type": "markdown",
   "id": "ca0c668a",
   "metadata": {
    "slideshow": {
     "slide_type": "subslide"
    }
   },
>>>>>>> Stashed changes
   "source": [
    "### Classes and objects\n",
    "Generally, in larger peices of code, we model things as \"objects\" which use \"attributes\" to hold the state of the object, and behaviours(functions) that the objects express.\n",
    "\n",
    "Classes define what attributes and behaviours an object can have. For example, we might define a Person class, which says that people have heights, eye colours and can walk. An object in this example would be my friend Shawn, who is 180cm tall, has blonde hair and will walk to the local cafe every so often.\n",
    "\n",
    "Let's create a person class, and some people objects:"
   ]
  },
  {
   "cell_type": "code",
<<<<<<< Updated upstream
   "execution_count": 14,
   "id": "c1750d00",
   "metadata": {},
=======
   "execution_count": 27,
   "id": "c1750d00",
   "metadata": {
    "slideshow": {
     "slide_type": "subslide"
    }
   },
>>>>>>> Stashed changes
   "outputs": [
    {
     "name": "stdout",
     "output_type": "stream",
     "text": [
      "Person(height_in_cm:180, hair_colour:blonde, location:home)\n",
      "Person(height_in_cm:180, hair_colour:blonde, location:cafe)\n",
      "cafe\n",
      "Dean is a Person(height_in_cm:195, hair_colour:brunette, location:home)\n"
     ]
    }
   ],
   "source": [
    "# defining our class\n",
    "class Person:\n",
    "    # __init__ function is a constructor in python - it's how we initialise our Person object and set initial attribute values\n",
    "    # All object functions will include a self parameter, which allows use to access attributes and behaviours of our object\n",
    "    def __init__(self, height_in_cm, hair_colour):\n",
    "        self.height_in_cm = height_in_cm\n",
    "        self.hair_colour = hair_colour\n",
    "        # we'll also set a current location attribute that defaults to home\n",
    "        self.location = 'home'\n",
    "    # lets say our people can walk to a location\n",
    "    def walk(self, location):\n",
    "        self.location = location\n",
    "    # We'll also add a function that tells Python how to print our object in a human readable way\n",
    "    # this is called a dunder function, which is outside of the scope of this course.\n",
    "    def __repr__(self):\n",
    "        return f'Person(height_in_cm:{self.height_in_cm}, hair_colour:{self.hair_colour}, location:{self.location})'\n",
    "\n",
    "# Let's model my friend Shawn:\n",
    "shawn = Person(180, 'blonde')\n",
    "\n",
    "# let's see what shawn looks like:\n",
    "print(shawn)\n",
    "# we'll send shawn to grab a coffee - he should move to the cafe:\n",
    "shawn.walk('cafe')\n",
    "print(shawn)\n",
    "\n",
    "# we can also access attributes individually \n",
    "print(shawn.location)\n",
    "\n",
    "# or create someone else:\n",
    "dean = Person(195, 'brunette')\n",
    "print(f'Dean is a {dean}')"
   ]
  },
  {
   "cell_type": "markdown",
   "id": "5083f1dc",
<<<<<<< Updated upstream
   "metadata": {},
   "source": [
    "## Using Numpy to efficiently work with large, multi-dimensional data\n",
    "This part of the course will serve as a short introduction to numpy, a widely used Python module which leverages C code to efficiently process multi-dimensional arrays of data. You don't need to learn C to write efficient code, numpy takes care of this without any effort from the programmer!\n",
    "\n",
    "This part of the course will cover:\n",
    " - What are numpy arrays\n",
    " - Creating numpy arrays\n",
=======
   "metadata": {
    "slideshow": {
     "slide_type": "subslide"
    }
   },
   "source": [
    "## Using NumPy to efficiently work with large, multi-dimensional data\n",
    "This part of the course will serve as a short introduction to NumPy, a widely used Python module which leverages C code to efficiently process multi-dimensional arrays of data. You don't need to learn C to write efficient code, NumPy takes care of this without any effort from the programmer!\n",
    "\n",
    "This part of the course will cover:\n",
    " - What are NumPy arrays\n",
    " - Creating NumPy arrays\n",
>>>>>>> Stashed changes
    " - Basic vectorized operations\n",
    " - Indexing, slicing and iterating"
   ]
  },
  {
   "cell_type": "markdown",
   "id": "4a055946",
<<<<<<< Updated upstream
   "metadata": {},
   "source": [
    "### What are Numpy arrays?\n",
=======
   "metadata": {
    "slideshow": {
     "slide_type": "subslide"
    }
   },
   "source": [
    "### What are NumPy arrays?\n",
>>>>>>> Stashed changes
    "While a Python list can contain different data types within a single list, in order to improve efficience, all of the elements in a NumPy array should be homogeneous.\n",
    "\n",
    "An array is a grid of values and it contains information about the raw data and how to locate an element. The elements are all of the same type, referred to as the array dtype. Note, this will not be one of the built-in Python types.\n",
    " \n",
    "The rank of the array is the number of dimensions. The shape of the array is a tuple of integers giving the size of the array along each dimension."
   ]
  },
  {
   "cell_type": "markdown",
   "id": "aafd5e55",
<<<<<<< Updated upstream
   "metadata": {},
=======
   "metadata": {
    "slideshow": {
     "slide_type": "subslide"
    }
   },
>>>>>>> Stashed changes
   "source": [
    "### Creating numpy arrays\n",
    "\n",
    "Let's create some numpy arrays and explore their structure:\n"
   ]
  },
  {
   "cell_type": "code",
<<<<<<< Updated upstream
   "execution_count": 11,
   "id": "425cfd01",
   "metadata": {},
=======
   "execution_count": 28,
   "id": "425cfd01",
   "metadata": {
    "slideshow": {
     "slide_type": "subslide"
    }
   },
>>>>>>> Stashed changes
   "outputs": [],
   "source": [
    "# lets print the arrays we create, along with array metadata\n",
    "def describe_np(aray):\n",
    "    # tuple of integers giving size of the array across each dimension\n",
    "    print(f'shape: {aray.shape}')\n",
    "    # rank\n",
    "    print(f'rank: {aray.ndim}')\n",
    "    # type of data\n",
    "    print(f'dtype: {aray.dtype.name}')\n",
    "    # size of each entry in array\n",
    "    print(f'itemsize: {aray.itemsize}')\n",
    "    # number of elements in array\n",
    "    print(f'size: {aray.size}')\n",
    "    print('-'*20)\n",
    "    print(f'a:{aray}')\n",
    "    print('-'*20)\n",
    "    "
   ]
  },
  {
   "cell_type": "code",
<<<<<<< Updated upstream
   "execution_count": 12,
   "id": "80abe929",
   "metadata": {},
=======
   "execution_count": 29,
   "id": "80abe929",
   "metadata": {
    "slideshow": {
     "slide_type": "subslide"
    }
   },
>>>>>>> Stashed changes
   "outputs": [
    {
     "name": "stdout",
     "output_type": "stream",
     "text": [
      "shape: (3, 5)\n",
      "rank: 2\n",
      "dtype: int64\n",
      "itemsize: 8\n",
      "size: 15\n",
      "--------------------\n",
      "a:[[ 0  1  2  3  4]\n",
      " [ 5  6  7  8  9]\n",
      " [10 11 12 13 14]]\n",
      "--------------------\n"
     ]
    }
   ],
   "source": [
    "import numpy as np\n",
    "\n",
    "# create a numpy array with numbers from 0 to 15\n",
    "# of rank 2\n",
    "# with the first dimension of size 3,\n",
    "# and second dimension of size 5\n",
    "\n",
    "a = np.arange(15).reshape(3, 5)\n",
    "describe_np(a)\n",
    "\n"
   ]
  },
  {
   "cell_type": "code",
<<<<<<< Updated upstream
   "execution_count": 14,
   "id": "39a56b1a",
   "metadata": {},
=======
   "execution_count": 30,
   "id": "39a56b1a",
   "metadata": {
    "slideshow": {
     "slide_type": "subslide"
    }
   },
>>>>>>> Stashed changes
   "outputs": [
    {
     "name": "stdout",
     "output_type": "stream",
     "text": [
      "shape: (3,)\n",
      "rank: 1\n",
      "dtype: int64\n",
      "itemsize: 8\n",
      "size: 3\n",
      "--------------------\n",
      "a:[2 3 4]\n",
      "--------------------\n"
     ]
    }
   ],
   "source": [
    "# create np array from Python array\n",
    "a = np.array([2, 3, 4])\n",
    "describe_np(a)"
   ]
  },
  {
   "cell_type": "code",
<<<<<<< Updated upstream
   "execution_count": 15,
   "id": "a9ec6e84",
   "metadata": {},
=======
   "execution_count": 31,
   "id": "a9ec6e84",
   "metadata": {
    "slideshow": {
     "slide_type": "subslide"
    }
   },
>>>>>>> Stashed changes
   "outputs": [
    {
     "name": "stdout",
     "output_type": "stream",
     "text": [
      "shape: (3,)\n",
      "rank: 1\n",
      "dtype: float64\n",
      "itemsize: 8\n",
      "size: 3\n",
      "--------------------\n",
      "a:[1.2 3.5 5.1]\n",
      "--------------------\n"
     ]
    }
   ],
   "source": [
    "b = np.array([1.2, 3.5, 5.1])\n",
    "# notice dtype is float64\n",
    "describe_np(b)"
   ]
  },
  {
   "cell_type": "code",
<<<<<<< Updated upstream
   "execution_count": 18,
   "id": "15308cbe",
   "metadata": {},
=======
   "execution_count": 32,
   "id": "15308cbe",
   "metadata": {
    "slideshow": {
     "slide_type": "subslide"
    }
   },
>>>>>>> Stashed changes
   "outputs": [
    {
     "name": "stdout",
     "output_type": "stream",
     "text": [
      "shape: (2, 3)\n",
      "rank: 2\n",
      "dtype: float64\n",
      "itemsize: 8\n",
      "size: 6\n",
      "--------------------\n",
      "a:[[1.5 2.  3. ]\n",
      " [4.  5.  6. ]]\n",
      "--------------------\n"
     ]
    }
   ],
   "source": [
    "# numpy will auto convert sequences of sequences to 2 dim array\n",
    "# this also applies with more nested sequences in higher dimenstions\n",
    "c = np.array([(1.5, 2, 3), (4, 5, 6)])\n",
    "describe_np(c)"
   ]
  },
  {
   "cell_type": "code",
<<<<<<< Updated upstream
   "execution_count": 21,
   "id": "febf1089",
   "metadata": {},
=======
   "execution_count": 33,
   "id": "febf1089",
   "metadata": {
    "slideshow": {
     "slide_type": "subslide"
    }
   },
>>>>>>> Stashed changes
   "outputs": [
    {
     "name": "stdout",
     "output_type": "stream",
     "text": [
      "shape: (2,)\n",
      "rank: 1\n",
      "dtype: float64\n",
      "itemsize: 8\n",
      "size: 2\n",
      "--------------------\n",
      "a:[1. 2.]\n",
      "--------------------\n"
     ]
    }
   ],
   "source": [
    "# we can define the type when we create an array\n",
    "d = np.array([1, 2], dtype=np.float64)\n",
    "describe_np(d)"
   ]
  },
  {
   "cell_type": "code",
<<<<<<< Updated upstream
   "execution_count": 24,
   "id": "dde856d7",
   "metadata": {},
=======
   "execution_count": 34,
   "id": "dde856d7",
   "metadata": {
    "slideshow": {
     "slide_type": "subslide"
    }
   },
>>>>>>> Stashed changes
   "outputs": [
    {
     "name": "stdout",
     "output_type": "stream",
     "text": [
      "shape: (2, 3)\n",
      "rank: 2\n",
      "dtype: float64\n",
      "itemsize: 8\n",
      "size: 6\n",
      "--------------------\n",
      "a:[[0. 0. 0.]\n",
      " [0. 0. 0.]]\n",
      "--------------------\n"
     ]
    }
   ],
   "source": [
    "# we can use zeros to create an array filled with zeros\n",
    "# we have to pass the shape of the array to the zeros fn\n",
    "e = np.zeros((2,3))\n",
    "describe_np(e)"
   ]
  },
  {
   "cell_type": "code",
<<<<<<< Updated upstream
   "execution_count": 25,
   "id": "a660f7eb",
   "metadata": {},
=======
   "execution_count": 35,
   "id": "a660f7eb",
   "metadata": {
    "slideshow": {
     "slide_type": "subslide"
    }
   },
>>>>>>> Stashed changes
   "outputs": [
    {
     "name": "stdout",
     "output_type": "stream",
     "text": [
      "shape: (2, 3)\n",
      "rank: 2\n",
      "dtype: float64\n",
      "itemsize: 8\n",
      "size: 6\n",
      "--------------------\n",
      "a:[[1. 1. 1.]\n",
      " [1. 1. 1.]]\n",
      "--------------------\n"
     ]
    }
   ],
   "source": [
    "# ones does the same\n",
    "f = np.ones((2,3))\n",
    "describe_np(f)"
   ]
  },
  {
   "cell_type": "code",
<<<<<<< Updated upstream
   "execution_count": 26,
   "id": "24d2b709",
   "metadata": {},
=======
   "execution_count": 36,
   "id": "24d2b709",
   "metadata": {
    "slideshow": {
     "slide_type": "subslide"
    }
   },
>>>>>>> Stashed changes
   "outputs": [
    {
     "name": "stdout",
     "output_type": "stream",
     "text": [
      "shape: (4,)\n",
      "rank: 1\n",
      "dtype: int64\n",
      "itemsize: 8\n",
      "size: 4\n",
      "--------------------\n",
      "a:[0 1 2 3]\n",
      "--------------------\n"
     ]
    }
   ],
   "source": [
    "# we can use arange to create a sequence of integers - similar to range in Python\n",
    "g = np.arange(4)\n",
    "describe_np(g)"
   ]
  },
  {
   "cell_type": "code",
<<<<<<< Updated upstream
   "execution_count": 27,
   "id": "3879f55e",
   "metadata": {},
=======
   "execution_count": 37,
   "id": "3879f55e",
   "metadata": {
    "slideshow": {
     "slide_type": "subslide"
    }
   },
>>>>>>> Stashed changes
   "outputs": [
    {
     "name": "stdout",
     "output_type": "stream",
     "text": [
      "shape: (9,)\n",
      "rank: 1\n",
      "dtype: float64\n",
      "itemsize: 8\n",
      "size: 9\n",
      "--------------------\n",
      "a:[0.   0.25 0.5  0.75 1.   1.25 1.5  1.75 2.  ]\n",
      "--------------------\n"
     ]
    }
   ],
   "source": [
    "# use linspace to do the same for floating point sequences\n",
    "h = np.linspace(0, 2, 9) # 9 numbers from 0 to 2\n",
    "describe_np(h)"
   ]
  },
  {
   "cell_type": "markdown",
   "id": "8bc7823b",
<<<<<<< Updated upstream
   "metadata": {},
=======
   "metadata": {
    "slideshow": {
     "slide_type": "subslide"
    }
   },
>>>>>>> Stashed changes
   "source": [
    "### Basic vectorized operations\n",
    "Arithmetic operators on arrays apply elementwise. A new array is created and filled with the result."
   ]
  },
  {
   "cell_type": "code",
<<<<<<< Updated upstream
   "execution_count": 31,
   "id": "bf4ab6a0",
   "metadata": {},
=======
   "execution_count": 38,
   "id": "bf4ab6a0",
   "metadata": {
    "slideshow": {
     "slide_type": "subslide"
    }
   },
>>>>>>> Stashed changes
   "outputs": [
    {
     "name": "stdout",
     "output_type": "stream",
     "text": [
      "shape: (4,)\n",
      "rank: 1\n",
      "dtype: int64\n",
      "itemsize: 8\n",
      "size: 4\n",
      "--------------------\n",
      "a:[20 29 38 47]\n",
      "--------------------\n",
      "\n",
      "shape: (4,)\n",
      "rank: 1\n",
      "dtype: int64\n",
      "itemsize: 8\n",
      "size: 4\n",
      "--------------------\n",
      "a:[0 1 4 9]\n",
      "--------------------\n",
      "\n",
      "shape: (4,)\n",
      "rank: 1\n",
      "dtype: bool\n",
      "itemsize: 1\n",
      "size: 4\n",
      "--------------------\n",
      "a:[ True  True False False]\n",
      "--------------------\n"
     ]
    }
   ],
   "source": [
    "a = np.array([20, 30, 40, 50])\n",
    "b = np.arange(4) #[0, 1, 2, 3]\n",
    "# returns a new array\n",
    "# with values:\n",
    "# [\n",
    "# 20 - 0\n",
    "# 30 - 1\n",
    "# 40 - 2\n",
    "# 50 - 3\n",
    "#]\n",
    "c = a - b\n",
    "describe_np(c)\n",
    "print('')\n",
    "describe_np(b**2)\n",
    "print('')\n",
    "describe_np(a < 35)"
   ]
  },
  {
   "cell_type": "markdown",
   "id": "53fc345b",
<<<<<<< Updated upstream
   "metadata": {},
=======
   "metadata": {
    "slideshow": {
     "slide_type": "subslide"
    }
   },
>>>>>>> Stashed changes
   "source": [
    "Many unary operations, such as computing the sum of all the elements in the array, are implemented as methods of the ndarray class."
   ]
  },
  {
   "cell_type": "code",
<<<<<<< Updated upstream
   "execution_count": 34,
   "id": "f2c3961c",
   "metadata": {},
=======
   "execution_count": 39,
   "id": "f2c3961c",
   "metadata": {
    "slideshow": {
     "slide_type": "subslide"
    }
   },
>>>>>>> Stashed changes
   "outputs": [
    {
     "name": "stdout",
     "output_type": "stream",
     "text": [
      "140\n",
      "20\n",
      "50\n"
     ]
    }
   ],
   "source": [
    "a = np.array([20, 30, 40, 50])\n",
    "print(a.sum())\n",
    "print(a.min())\n",
    "print(a.max())"
   ]
  },
  {
   "cell_type": "code",
<<<<<<< Updated upstream
   "execution_count": 35,
   "id": "3c837056",
   "metadata": {},
=======
   "execution_count": 40,
   "id": "3c837056",
   "metadata": {
    "slideshow": {
     "slide_type": "subslide"
    }
   },
>>>>>>> Stashed changes
   "outputs": [
    {
     "name": "stdout",
     "output_type": "stream",
     "text": [
      "shape: (3,)\n",
      "rank: 1\n",
      "dtype: float64\n",
      "itemsize: 8\n",
      "size: 3\n",
      "--------------------\n",
      "a:[2. 2. 2.]\n",
      "--------------------\n"
     ]
    }
   ],
   "source": [
    "# sum along one dimension\n",
    "b = np.ones((2,3))\n",
    "# sum all values across first dimension\n",
    "describe_np(b.sum(axis = 0))"
   ]
  },
  {
   "cell_type": "markdown",
   "id": "31e286fa",
<<<<<<< Updated upstream
   "metadata": {},
=======
   "metadata": {
    "slideshow": {
     "slide_type": "subslide"
    }
   },
>>>>>>> Stashed changes
   "source": [
    "### Indexing, slicing and iterating\n",
    "One-dimensional arrays can be indexed, sliced and iterated over, much like lists and other Python sequences."
   ]
  },
  {
   "cell_type": "code",
<<<<<<< Updated upstream
   "execution_count": 37,
   "id": "5261ed81",
   "metadata": {},
=======
   "execution_count": 41,
   "id": "5261ed81",
   "metadata": {
    "slideshow": {
     "slide_type": "subslide"
    }
   },
>>>>>>> Stashed changes
   "outputs": [
    {
     "name": "stdout",
     "output_type": "stream",
     "text": [
      "shape: ()\n",
      "rank: 0\n",
      "dtype: int64\n",
      "itemsize: 8\n",
      "size: 1\n",
      "--------------------\n",
      "a:2\n",
      "--------------------\n",
      "\n",
      "shape: (3,)\n",
      "rank: 1\n",
      "dtype: int64\n",
      "itemsize: 8\n",
      "size: 3\n",
      "--------------------\n",
      "a:[2 3 4]\n",
      "--------------------\n"
     ]
    }
   ],
   "source": [
    "a = np.arange(10)\n",
    "describe_np(a[2])\n",
    "print('')\n",
    "describe_np(a[2:5])"
   ]
  },
  {
   "cell_type": "markdown",
   "id": "a1c7de04",
<<<<<<< Updated upstream
   "metadata": {},
=======
   "metadata": {
    "slideshow": {
     "slide_type": "subslide"
    }
   },
>>>>>>> Stashed changes
   "source": [
    "Multidimensional arrays can have one index per axis. These indices are given in a tuple separated by commas:"
   ]
  },
  {
   "cell_type": "code",
   "execution_count": 42,
   "id": "fb02d212",
<<<<<<< Updated upstream
   "metadata": {},
=======
   "metadata": {
    "slideshow": {
     "slide_type": "subslide"
    }
   },
>>>>>>> Stashed changes
   "outputs": [
    {
     "name": "stdout",
     "output_type": "stream",
     "text": [
      "shape: (2, 3)\n",
      "rank: 2\n",
      "dtype: int64\n",
      "itemsize: 8\n",
      "size: 6\n",
      "--------------------\n",
      "a:[[1 2 3]\n",
      " [4 5 6]]\n",
      "--------------------\n",
      "\n",
      "shape: ()\n",
      "rank: 0\n",
      "dtype: int64\n",
      "itemsize: 8\n",
      "size: 1\n",
      "--------------------\n",
      "a:1\n",
      "--------------------\n",
      "\n",
      "shape: (2,)\n",
      "rank: 1\n",
      "dtype: int64\n",
      "itemsize: 8\n",
      "size: 2\n",
      "--------------------\n",
      "a:[2 5]\n",
      "--------------------\n"
     ]
    }
   ],
   "source": [
    "b = np.array([[1,2,3],[4,5,6]])\n",
    "describe_np(b)\n",
    "print('')\n",
    "describe_np(b[0,0])\n",
    "print('')\n",
    "# all values in column 1\n",
    "describe_np(b[:, 1])"
   ]
  },
  {
   "cell_type": "markdown",
   "id": "804e53d3",
<<<<<<< Updated upstream
   "metadata": {},
=======
   "metadata": {
    "slideshow": {
     "slide_type": "subslide"
    }
   },
>>>>>>> Stashed changes
   "source": [
    "Iterating over multidimensional arrays is done with respect to the first axis:\n",
    "\n"
   ]
  },
  {
   "cell_type": "code",
<<<<<<< Updated upstream
   "execution_count": 44,
   "id": "b921795d",
   "metadata": {},
=======
   "execution_count": 43,
   "id": "b921795d",
   "metadata": {
    "slideshow": {
     "slide_type": "subslide"
    }
   },
>>>>>>> Stashed changes
   "outputs": [
    {
     "name": "stdout",
     "output_type": "stream",
     "text": [
      "row 0: [1 2 3]\n",
      "row 1: [4 5 6]\n"
     ]
    }
   ],
   "source": [
    "b = np.array([[1,2,3],[4,5,6]])\n",
    "for index, row in enumerate(b):\n",
    "    print(f'row {index}: {row}')"
   ]
  },
  {
   "cell_type": "markdown",
   "id": "303886c1",
<<<<<<< Updated upstream
   "metadata": {},
=======
   "metadata": {
    "slideshow": {
     "slide_type": "subslide"
    }
   },
>>>>>>> Stashed changes
   "source": [
    "or we can use the flat attribute to iterate over all elements in an array"
   ]
  },
  {
   "cell_type": "code",
<<<<<<< Updated upstream
   "execution_count": 45,
   "id": "842d0452",
   "metadata": {},
=======
   "execution_count": 44,
   "id": "842d0452",
   "metadata": {
    "slideshow": {
     "slide_type": "subslide"
    }
   },
>>>>>>> Stashed changes
   "outputs": [
    {
     "name": "stdout",
     "output_type": "stream",
     "text": [
      "element 0: 1\n",
      "element 1: 2\n",
      "element 2: 3\n",
      "element 3: 4\n",
      "element 4: 5\n",
      "element 5: 6\n"
     ]
    }
   ],
   "source": [
    "b = np.array([[1,2,3],[4,5,6]])\n",
    "for index, element in enumerate(b.flat):\n",
    "    print(f'element {index}: {element}')"
   ]
  },
  {
   "cell_type": "markdown",
   "id": "49154a61",
<<<<<<< Updated upstream
   "metadata": {},
=======
   "metadata": {
    "slideshow": {
     "slide_type": "slide"
    }
   },
>>>>>>> Stashed changes
   "source": [
    "## Using Pandas to work with dataframes"
   ]
  },
  {
   "cell_type": "markdown",
   "id": "5e2a920e",
<<<<<<< Updated upstream
   "metadata": {},
=======
   "metadata": {
    "slideshow": {
     "slide_type": "subslide"
    }
   },
>>>>>>> Stashed changes
   "source": [
    "We'll explore the widely used pandas library in this part of the course. We'll cover:\n",
    "- Intro to pandas\n",
    "- Structure of a dataframe\n",
    "- Creating dataframes\n",
    "- Viewing dataframes\n",
<<<<<<< Updated upstream
    "- Slicing dataframes"
=======
    "- Slicing dataframes\n",
    "- Joining dataframes"
>>>>>>> Stashed changes
   ]
  },
  {
   "cell_type": "markdown",
   "id": "885c7305",
<<<<<<< Updated upstream
   "metadata": {},
=======
   "metadata": {
    "slideshow": {
     "slide_type": "subslide"
    }
   },
>>>>>>> Stashed changes
   "source": [
    "### Intro to pandas\n",
    "Pandas aims to be the fundamental high-level building block for doing practical, real world data analysis in Python. Additionally, it has the broader goal of becoming the most powerful and flexible open source data analysis / manipulation tool available in any language.\n",
    "\n",
    "Most of the functionality of pandas is delivered in Dataframes and Series'."
   ]
  },
  {
   "cell_type": "markdown",
   "id": "56121825",
<<<<<<< Updated upstream
   "metadata": {},
   "source": [
    "### Structure of a dataframe\n",
    "A DataFrame is a 2-dimensional data structure that can store data of different types (including characters, integers, floating point values, categorical data and more) in columns."
=======
   "metadata": {
    "slideshow": {
     "slide_type": "subslide"
    }
   },
   "source": [
    "### Structure of a dataframe\n",
    "A DataFrame is a 2-dimensional data structure that can store data of different types (including characters, integers, floating point values, categorical data and more) in columns.\n",
    "\n",
    "Rows are labelled with an index, which can be of any type - by default this is a sequential set of integers."
>>>>>>> Stashed changes
   ]
  },
  {
   "cell_type": "code",
<<<<<<< Updated upstream
   "execution_count": 3,
   "id": "b73cc9d2",
   "metadata": {},
=======
   "execution_count": 45,
   "id": "b73cc9d2",
   "metadata": {
    "slideshow": {
     "slide_type": "subslide"
    }
   },
>>>>>>> Stashed changes
   "outputs": [
    {
     "data": {
      "text/html": [
       "<div>\n",
       "<style scoped>\n",
       "    .dataframe tbody tr th:only-of-type {\n",
       "        vertical-align: middle;\n",
       "    }\n",
       "\n",
       "    .dataframe tbody tr th {\n",
       "        vertical-align: top;\n",
       "    }\n",
       "\n",
       "    .dataframe thead th {\n",
       "        text-align: right;\n",
       "    }\n",
       "</style>\n",
       "<table border=\"1\" class=\"dataframe\">\n",
       "  <thead>\n",
       "    <tr style=\"text-align: right;\">\n",
       "      <th></th>\n",
       "      <th>name</th>\n",
       "      <th>height in cm</th>\n",
       "      <th>hair colour</th>\n",
       "    </tr>\n",
       "  </thead>\n",
       "  <tbody>\n",
       "    <tr>\n",
       "      <th>0</th>\n",
       "      <td>Nickols</td>\n",
       "      <td>123</td>\n",
       "      <td>red</td>\n",
       "    </tr>\n",
       "    <tr>\n",
       "      <th>1</th>\n",
       "      <td>Benjals</td>\n",
       "      <td>200</td>\n",
       "      <td>black</td>\n",
       "    </tr>\n",
       "    <tr>\n",
       "      <th>2</th>\n",
       "      <td>Dennisons</td>\n",
       "      <td>180</td>\n",
       "      <td>brunette</td>\n",
       "    </tr>\n",
       "  </tbody>\n",
       "</table>\n",
       "</div>"
      ],
      "text/plain": [
       "        name  height in cm hair colour\n",
       "0    Nickols           123         red\n",
       "1    Benjals           200       black\n",
       "2  Dennisons           180    brunette"
      ]
     },
<<<<<<< Updated upstream
     "execution_count": 3,
=======
     "execution_count": 45,
>>>>>>> Stashed changes
     "metadata": {},
     "output_type": "execute_result"
    }
   ],
   "source": [
    "import pandas as pd\n",
    "df = pd.DataFrame([{'name':'Nickols', 'height in cm':123, 'hair colour': 'red'},\n",
    "                   {'name':'Benjals', 'height in cm':200, 'hair colour': 'black'},\n",
    "                   {'name':'Dennisons', 'height in cm':180, 'hair colour': 'brunette'}])\n",
    "df.head()"
   ]
  },
  {
<<<<<<< Updated upstream
   "cell_type": "code",
   "execution_count": null,
   "id": "b2eef5fc",
   "metadata": {},
   "outputs": [],
   "source": []
=======
   "cell_type": "markdown",
   "id": "5348f9df",
   "metadata": {
    "slideshow": {
     "slide_type": "subslide"
    }
   },
   "source": [
    "Every column in a pandas dataframe is a Series object:"
   ]
  },
  {
   "cell_type": "code",
   "execution_count": 46,
   "id": "f6b0f2ef",
   "metadata": {
    "slideshow": {
     "slide_type": "subslide"
    }
   },
   "outputs": [
    {
     "name": "stdout",
     "output_type": "stream",
     "text": [
      "0      Nickols\n",
      "1      Benjals\n",
      "2    Dennisons\n",
      "Name: name, dtype: object\n",
      "<class 'pandas.core.series.Series'>\n"
     ]
    }
   ],
   "source": [
    "print(df['name'])\n",
    "print(type(df['name']))"
   ]
  },
  {
   "cell_type": "markdown",
   "id": "48ccb4a9",
   "metadata": {
    "slideshow": {
     "slide_type": "subslide"
    }
   },
   "source": [
    "Here the name column is a Series with 3 values."
   ]
  },
  {
   "cell_type": "markdown",
   "id": "565eb771",
   "metadata": {
    "slideshow": {
     "slide_type": "subslide"
    }
   },
   "source": [
    "You can create a Series from scratch as well"
   ]
  },
  {
   "cell_type": "code",
   "execution_count": 47,
   "id": "05776653",
   "metadata": {
    "slideshow": {
     "slide_type": "subslide"
    }
   },
   "outputs": [
    {
     "name": "stdout",
     "output_type": "stream",
     "text": [
      "0    23\n",
      "1    45\n",
      "2    37\n",
      "dtype: int64\n"
     ]
    }
   ],
   "source": [
    "ages = pd.Series([23, 45, 37])\n",
    "print(ages)"
   ]
  },
  {
   "cell_type": "markdown",
   "id": "82bcebab",
   "metadata": {
    "slideshow": {
     "slide_type": "subslide"
    }
   },
   "source": [
    "### Creating dataframes"
   ]
  },
  {
   "cell_type": "markdown",
   "id": "c8667c67",
   "metadata": {
    "slideshow": {
     "slide_type": "subslide"
    }
   },
   "source": [
    "Ww can create a DataFrame from iterables of iterables (like a list of dictionaries), or NumPy arrays:"
   ]
  },
  {
   "cell_type": "code",
   "execution_count": 48,
   "id": "4cfef7c0",
   "metadata": {
    "slideshow": {
     "slide_type": "subslide"
    }
   },
   "outputs": [
    {
     "data": {
      "text/html": [
       "<div>\n",
       "<style scoped>\n",
       "    .dataframe tbody tr th:only-of-type {\n",
       "        vertical-align: middle;\n",
       "    }\n",
       "\n",
       "    .dataframe tbody tr th {\n",
       "        vertical-align: top;\n",
       "    }\n",
       "\n",
       "    .dataframe thead th {\n",
       "        text-align: right;\n",
       "    }\n",
       "</style>\n",
       "<table border=\"1\" class=\"dataframe\">\n",
       "  <thead>\n",
       "    <tr style=\"text-align: right;\">\n",
       "      <th></th>\n",
       "      <th>0</th>\n",
       "      <th>1</th>\n",
       "      <th>2</th>\n",
       "    </tr>\n",
       "  </thead>\n",
       "  <tbody>\n",
       "    <tr>\n",
       "      <th>0</th>\n",
       "      <td>0</td>\n",
       "      <td>1</td>\n",
       "      <td>2</td>\n",
       "    </tr>\n",
       "    <tr>\n",
       "      <th>1</th>\n",
       "      <td>3</td>\n",
       "      <td>4</td>\n",
       "      <td>5</td>\n",
       "    </tr>\n",
       "    <tr>\n",
       "      <th>2</th>\n",
       "      <td>6</td>\n",
       "      <td>7</td>\n",
       "      <td>8</td>\n",
       "    </tr>\n",
       "    <tr>\n",
       "      <th>3</th>\n",
       "      <td>9</td>\n",
       "      <td>10</td>\n",
       "      <td>11</td>\n",
       "    </tr>\n",
       "  </tbody>\n",
       "</table>\n",
       "</div>"
      ],
      "text/plain": [
       "   0   1   2\n",
       "0  0   1   2\n",
       "1  3   4   5\n",
       "2  6   7   8\n",
       "3  9  10  11"
      ]
     },
     "execution_count": 48,
     "metadata": {},
     "output_type": "execute_result"
    }
   ],
   "source": [
    "data = [[i + 3*j for i in range(3)]for j in range(4)]\n",
    "df = pd.DataFrame(data)\n",
    "df.head()"
   ]
  },
  {
   "cell_type": "markdown",
   "id": "18ba0392",
   "metadata": {
    "slideshow": {
     "slide_type": "subslide"
    }
   },
   "source": [
    "pandas automatically names the columns and indexes if we don't provide them."
   ]
  },
  {
   "cell_type": "code",
   "execution_count": 49,
   "id": "9a558f6c",
   "metadata": {
    "slideshow": {
     "slide_type": "subslide"
    }
   },
   "outputs": [
    {
     "data": {
      "text/html": [
       "<div>\n",
       "<style scoped>\n",
       "    .dataframe tbody tr th:only-of-type {\n",
       "        vertical-align: middle;\n",
       "    }\n",
       "\n",
       "    .dataframe tbody tr th {\n",
       "        vertical-align: top;\n",
       "    }\n",
       "\n",
       "    .dataframe thead th {\n",
       "        text-align: right;\n",
       "    }\n",
       "</style>\n",
       "<table border=\"1\" class=\"dataframe\">\n",
       "  <thead>\n",
       "    <tr style=\"text-align: right;\">\n",
       "      <th></th>\n",
       "      <th>Age</th>\n",
       "      <th>Salary</th>\n",
       "      <th>Grade</th>\n",
       "    </tr>\n",
       "  </thead>\n",
       "  <tbody>\n",
       "    <tr>\n",
       "      <th>Lisa</th>\n",
       "      <td>0</td>\n",
       "      <td>1</td>\n",
       "      <td>2</td>\n",
       "    </tr>\n",
       "    <tr>\n",
       "      <th>Bart</th>\n",
       "      <td>3</td>\n",
       "      <td>4</td>\n",
       "      <td>5</td>\n",
       "    </tr>\n",
       "    <tr>\n",
       "      <th>Maggie</th>\n",
       "      <td>6</td>\n",
       "      <td>7</td>\n",
       "      <td>8</td>\n",
       "    </tr>\n",
       "    <tr>\n",
       "      <th>Nelson</th>\n",
       "      <td>9</td>\n",
       "      <td>10</td>\n",
       "      <td>11</td>\n",
       "    </tr>\n",
       "  </tbody>\n",
       "</table>\n",
       "</div>"
      ],
      "text/plain": [
       "        Age  Salary  Grade\n",
       "Lisa      0       1      2\n",
       "Bart      3       4      5\n",
       "Maggie    6       7      8\n",
       "Nelson    9      10     11"
      ]
     },
     "execution_count": 49,
     "metadata": {},
     "output_type": "execute_result"
    }
   ],
   "source": [
    "data = [[i + 3*j for i in range(3)]for j in range(4)]\n",
    "df = pd.DataFrame(data, index = ['Lisa', 'Bart', 'Maggie', 'Nelson'], columns = ['Age','Salary','Grade'])\n",
    "df.head()"
   ]
  },
  {
   "cell_type": "markdown",
   "id": "3f652ca9",
   "metadata": {
    "slideshow": {
     "slide_type": "subslide"
    }
   },
   "source": [
    "We've provided our own indices and columns for this data"
   ]
  },
  {
   "cell_type": "markdown",
   "id": "a602485d",
   "metadata": {
    "slideshow": {
     "slide_type": "subslide"
    }
   },
   "source": [
    "We can do the same using a 2D numpy array"
   ]
  },
  {
   "cell_type": "code",
   "execution_count": 50,
   "id": "44cf11ec",
   "metadata": {
    "slideshow": {
     "slide_type": "subslide"
    }
   },
   "outputs": [
    {
     "data": {
      "text/html": [
       "<div>\n",
       "<style scoped>\n",
       "    .dataframe tbody tr th:only-of-type {\n",
       "        vertical-align: middle;\n",
       "    }\n",
       "\n",
       "    .dataframe tbody tr th {\n",
       "        vertical-align: top;\n",
       "    }\n",
       "\n",
       "    .dataframe thead th {\n",
       "        text-align: right;\n",
       "    }\n",
       "</style>\n",
       "<table border=\"1\" class=\"dataframe\">\n",
       "  <thead>\n",
       "    <tr style=\"text-align: right;\">\n",
       "      <th></th>\n",
       "      <th>sin</th>\n",
       "      <th>cos</th>\n",
       "      <th>tan</th>\n",
       "    </tr>\n",
       "  </thead>\n",
       "  <tbody>\n",
       "    <tr>\n",
       "      <th>0</th>\n",
       "      <td>0.871247</td>\n",
       "      <td>-0.245586</td>\n",
       "      <td>-0.393920</td>\n",
       "    </tr>\n",
       "    <tr>\n",
       "      <th>1</th>\n",
       "      <td>0.936011</td>\n",
       "      <td>1.903372</td>\n",
       "      <td>0.294804</td>\n",
       "    </tr>\n",
       "  </tbody>\n",
       "</table>\n",
       "</div>"
      ],
      "text/plain": [
       "        sin       cos       tan\n",
       "0  0.871247 -0.245586 -0.393920\n",
       "1  0.936011  1.903372  0.294804"
      ]
     },
     "execution_count": 50,
     "metadata": {},
     "output_type": "execute_result"
    }
   ],
   "source": [
    "df = pd.DataFrame(np.random.randn(2, 3), columns = ['sin', 'cos', 'tan'])\n",
    "df.head()"
   ]
  },
  {
   "cell_type": "markdown",
   "id": "d8bf7ca1",
   "metadata": {
    "slideshow": {
     "slide_type": "subslide"
    }
   },
   "source": [
    "We've created a dataframe with random floats and our own column names, with default indices"
   ]
  },
  {
   "cell_type": "markdown",
   "id": "49d59663",
   "metadata": {
    "slideshow": {
     "slide_type": "subslide"
    }
   },
   "source": [
    "We can also create dataframes from csv and Excel files."
   ]
  },
  {
   "cell_type": "code",
   "execution_count": 51,
   "id": "31bec768",
   "metadata": {
    "slideshow": {
     "slide_type": "subslide"
    }
   },
   "outputs": [
    {
     "data": {
      "text/html": [
       "<div>\n",
       "<style scoped>\n",
       "    .dataframe tbody tr th:only-of-type {\n",
       "        vertical-align: middle;\n",
       "    }\n",
       "\n",
       "    .dataframe tbody tr th {\n",
       "        vertical-align: top;\n",
       "    }\n",
       "\n",
       "    .dataframe thead th {\n",
       "        text-align: right;\n",
       "    }\n",
       "</style>\n",
       "<table border=\"1\" class=\"dataframe\">\n",
       "  <thead>\n",
       "    <tr style=\"text-align: right;\">\n",
       "      <th></th>\n",
       "      <th>Character</th>\n",
       "      <th>Profession</th>\n",
       "      <th>Age</th>\n",
       "      <th>Alignment</th>\n",
       "    </tr>\n",
       "  </thead>\n",
       "  <tbody>\n",
       "    <tr>\n",
       "      <th>0</th>\n",
       "      <td>Bart</td>\n",
       "      <td>Student</td>\n",
       "      <td>8</td>\n",
       "      <td>Chaotic good</td>\n",
       "    </tr>\n",
       "    <tr>\n",
       "      <th>1</th>\n",
       "      <td>Homer</td>\n",
       "      <td>Nuclear technician</td>\n",
       "      <td>47</td>\n",
       "      <td>Neutral good</td>\n",
       "    </tr>\n",
       "    <tr>\n",
       "      <th>2</th>\n",
       "      <td>Lisa</td>\n",
       "      <td>Student</td>\n",
       "      <td>9</td>\n",
       "      <td>Lawful good</td>\n",
       "    </tr>\n",
       "    <tr>\n",
       "      <th>3</th>\n",
       "      <td>Nelson</td>\n",
       "      <td>Student</td>\n",
       "      <td>10</td>\n",
       "      <td>Chaotic evil</td>\n",
       "    </tr>\n",
       "    <tr>\n",
       "      <th>4</th>\n",
       "      <td>Mongomery</td>\n",
       "      <td>Billionare</td>\n",
       "      <td>80</td>\n",
       "      <td>Lawful evil</td>\n",
       "    </tr>\n",
       "    <tr>\n",
       "      <th>5</th>\n",
       "      <td>Moe</td>\n",
       "      <td>Bartender</td>\n",
       "      <td>65</td>\n",
       "      <td>Neutral neutral</td>\n",
       "    </tr>\n",
       "    <tr>\n",
       "      <th>6</th>\n",
       "      <td>Barney</td>\n",
       "      <td>Unemployed</td>\n",
       "      <td>35</td>\n",
       "      <td>Chaotic neutral</td>\n",
       "    </tr>\n",
       "  </tbody>\n",
       "</table>\n",
       "</div>"
      ],
      "text/plain": [
       "   Character          Profession  Age        Alignment\n",
       "0       Bart             Student    8     Chaotic good\n",
       "1      Homer  Nuclear technician   47     Neutral good\n",
       "2       Lisa             Student    9      Lawful good\n",
       "3     Nelson             Student   10     Chaotic evil\n",
       "4  Mongomery          Billionare   80      Lawful evil\n",
       "5        Moe           Bartender   65  Neutral neutral\n",
       "6     Barney          Unemployed   35  Chaotic neutral"
      ]
     },
     "execution_count": 51,
     "metadata": {},
     "output_type": "execute_result"
    }
   ],
   "source": [
    "pd.read_csv('_data/simpsons.csv')"
   ]
  },
  {
   "cell_type": "markdown",
   "id": "15fa805d",
   "metadata": {
    "slideshow": {
     "slide_type": "subslide"
    }
   },
   "source": [
    "Pandas has loaded our csv into a dataframe and inferred the column names."
   ]
  },
  {
   "cell_type": "code",
   "execution_count": 52,
   "id": "e5fbbadc",
   "metadata": {
    "slideshow": {
     "slide_type": "subslide"
    }
   },
   "outputs": [
    {
     "data": {
      "text/html": [
       "<div>\n",
       "<style scoped>\n",
       "    .dataframe tbody tr th:only-of-type {\n",
       "        vertical-align: middle;\n",
       "    }\n",
       "\n",
       "    .dataframe tbody tr th {\n",
       "        vertical-align: top;\n",
       "    }\n",
       "\n",
       "    .dataframe thead th {\n",
       "        text-align: right;\n",
       "    }\n",
       "</style>\n",
       "<table border=\"1\" class=\"dataframe\">\n",
       "  <thead>\n",
       "    <tr style=\"text-align: right;\">\n",
       "      <th></th>\n",
       "      <th>Character</th>\n",
       "      <th>Profession</th>\n",
       "      <th>Age</th>\n",
       "    </tr>\n",
       "  </thead>\n",
       "  <tbody>\n",
       "    <tr>\n",
       "      <th>0</th>\n",
       "      <td>Fry</td>\n",
       "      <td>Delivery person</td>\n",
       "      <td>27</td>\n",
       "    </tr>\n",
       "    <tr>\n",
       "      <th>1</th>\n",
       "      <td>Bender</td>\n",
       "      <td>Robot</td>\n",
       "      <td>timeless</td>\n",
       "    </tr>\n",
       "    <tr>\n",
       "      <th>2</th>\n",
       "      <td>Farnsworth</td>\n",
       "      <td>Professor</td>\n",
       "      <td>300</td>\n",
       "    </tr>\n",
       "  </tbody>\n",
       "</table>\n",
       "</div>"
      ],
      "text/plain": [
       "    Character       Profession       Age\n",
       "0         Fry  Delivery person        27\n",
       "1      Bender            Robot  timeless\n",
       "2  Farnsworth        Professor       300"
      ]
     },
     "execution_count": 52,
     "metadata": {},
     "output_type": "execute_result"
    }
   ],
   "source": [
    "pd.read_excel('_data/Futurama.xlsx')"
   ]
  },
  {
   "cell_type": "markdown",
   "id": "72fdd7ac",
   "metadata": {
    "slideshow": {
     "slide_type": "subslide"
    }
   },
   "source": [
    "Pandas has automatically opened our excel file inTo a dataframe and inferred the column names"
   ]
  },
  {
   "cell_type": "markdown",
   "id": "c57235a0",
   "metadata": {
    "slideshow": {
     "slide_type": "subslide"
    }
   },
   "source": [
    "### Viewing dataframes\n",
    "Use DataFrame.head() and DataFrame.tail() to view the top and bottom rows of the frame respectively:"
   ]
  },
  {
   "cell_type": "code",
   "execution_count": 53,
   "id": "a8c4711f",
   "metadata": {
    "slideshow": {
     "slide_type": "subslide"
    }
   },
   "outputs": [
    {
     "data": {
      "text/html": [
       "<div>\n",
       "<style scoped>\n",
       "    .dataframe tbody tr th:only-of-type {\n",
       "        vertical-align: middle;\n",
       "    }\n",
       "\n",
       "    .dataframe tbody tr th {\n",
       "        vertical-align: top;\n",
       "    }\n",
       "\n",
       "    .dataframe thead th {\n",
       "        text-align: right;\n",
       "    }\n",
       "</style>\n",
       "<table border=\"1\" class=\"dataframe\">\n",
       "  <thead>\n",
       "    <tr style=\"text-align: right;\">\n",
       "      <th></th>\n",
       "      <th>Character</th>\n",
       "      <th>Profession</th>\n",
       "      <th>Age</th>\n",
       "      <th>Alignment</th>\n",
       "    </tr>\n",
       "  </thead>\n",
       "  <tbody>\n",
       "    <tr>\n",
       "      <th>0</th>\n",
       "      <td>Bart</td>\n",
       "      <td>Student</td>\n",
       "      <td>8</td>\n",
       "      <td>Chaotic good</td>\n",
       "    </tr>\n",
       "    <tr>\n",
       "      <th>1</th>\n",
       "      <td>Homer</td>\n",
       "      <td>Nuclear technician</td>\n",
       "      <td>47</td>\n",
       "      <td>Neutral good</td>\n",
       "    </tr>\n",
       "    <tr>\n",
       "      <th>2</th>\n",
       "      <td>Lisa</td>\n",
       "      <td>Student</td>\n",
       "      <td>9</td>\n",
       "      <td>Lawful good</td>\n",
       "    </tr>\n",
       "    <tr>\n",
       "      <th>3</th>\n",
       "      <td>Nelson</td>\n",
       "      <td>Student</td>\n",
       "      <td>10</td>\n",
       "      <td>Chaotic evil</td>\n",
       "    </tr>\n",
       "    <tr>\n",
       "      <th>4</th>\n",
       "      <td>Mongomery</td>\n",
       "      <td>Billionare</td>\n",
       "      <td>80</td>\n",
       "      <td>Lawful evil</td>\n",
       "    </tr>\n",
       "  </tbody>\n",
       "</table>\n",
       "</div>"
      ],
      "text/plain": [
       "   Character          Profession  Age     Alignment\n",
       "0       Bart             Student    8  Chaotic good\n",
       "1      Homer  Nuclear technician   47  Neutral good\n",
       "2       Lisa             Student    9   Lawful good\n",
       "3     Nelson             Student   10  Chaotic evil\n",
       "4  Mongomery          Billionare   80   Lawful evil"
      ]
     },
     "execution_count": 53,
     "metadata": {},
     "output_type": "execute_result"
    }
   ],
   "source": [
    "df = pd.read_csv('_data/simpsons.csv')\n",
    "df.head()"
   ]
  },
  {
   "cell_type": "code",
   "execution_count": 54,
   "id": "5a67cecc",
   "metadata": {
    "slideshow": {
     "slide_type": "subslide"
    }
   },
   "outputs": [
    {
     "data": {
      "text/html": [
       "<div>\n",
       "<style scoped>\n",
       "    .dataframe tbody tr th:only-of-type {\n",
       "        vertical-align: middle;\n",
       "    }\n",
       "\n",
       "    .dataframe tbody tr th {\n",
       "        vertical-align: top;\n",
       "    }\n",
       "\n",
       "    .dataframe thead th {\n",
       "        text-align: right;\n",
       "    }\n",
       "</style>\n",
       "<table border=\"1\" class=\"dataframe\">\n",
       "  <thead>\n",
       "    <tr style=\"text-align: right;\">\n",
       "      <th></th>\n",
       "      <th>Character</th>\n",
       "      <th>Profession</th>\n",
       "      <th>Age</th>\n",
       "      <th>Alignment</th>\n",
       "    </tr>\n",
       "  </thead>\n",
       "  <tbody>\n",
       "    <tr>\n",
       "      <th>4</th>\n",
       "      <td>Mongomery</td>\n",
       "      <td>Billionare</td>\n",
       "      <td>80</td>\n",
       "      <td>Lawful evil</td>\n",
       "    </tr>\n",
       "    <tr>\n",
       "      <th>5</th>\n",
       "      <td>Moe</td>\n",
       "      <td>Bartender</td>\n",
       "      <td>65</td>\n",
       "      <td>Neutral neutral</td>\n",
       "    </tr>\n",
       "    <tr>\n",
       "      <th>6</th>\n",
       "      <td>Barney</td>\n",
       "      <td>Unemployed</td>\n",
       "      <td>35</td>\n",
       "      <td>Chaotic neutral</td>\n",
       "    </tr>\n",
       "  </tbody>\n",
       "</table>\n",
       "</div>"
      ],
      "text/plain": [
       "   Character   Profession  Age        Alignment\n",
       "4  Mongomery   Billionare   80      Lawful evil\n",
       "5        Moe    Bartender   65  Neutral neutral\n",
       "6     Barney   Unemployed   35  Chaotic neutral"
      ]
     },
     "execution_count": 54,
     "metadata": {},
     "output_type": "execute_result"
    }
   ],
   "source": [
    "df.tail(3)"
   ]
  },
  {
   "cell_type": "markdown",
   "id": "7c3383f5",
   "metadata": {
    "slideshow": {
     "slide_type": "subslide"
    }
   },
   "source": [
    "Display the DataFrame.index or DataFrame.columns:"
   ]
  },
  {
   "cell_type": "code",
   "execution_count": 55,
   "id": "0e18218e",
   "metadata": {
    "slideshow": {
     "slide_type": "subslide"
    }
   },
   "outputs": [
    {
     "name": "stdout",
     "output_type": "stream",
     "text": [
      "RangeIndex(start=0, stop=7, step=1)\n",
      "Index(['Character', 'Profession', 'Age', 'Alignment'], dtype='object')\n"
     ]
    }
   ],
   "source": [
    "print(df.index)\n",
    "print(df.columns)"
   ]
  },
  {
   "cell_type": "markdown",
   "id": "f450da20",
   "metadata": {
    "slideshow": {
     "slide_type": "subslide"
    }
   },
   "source": [
    "describe() shows a quick statistic summary of your data:"
   ]
  },
  {
   "cell_type": "code",
   "execution_count": 56,
   "id": "5b71fc7b",
   "metadata": {
    "slideshow": {
     "slide_type": "subslide"
    }
   },
   "outputs": [
    {
     "data": {
      "text/html": [
       "<div>\n",
       "<style scoped>\n",
       "    .dataframe tbody tr th:only-of-type {\n",
       "        vertical-align: middle;\n",
       "    }\n",
       "\n",
       "    .dataframe tbody tr th {\n",
       "        vertical-align: top;\n",
       "    }\n",
       "\n",
       "    .dataframe thead th {\n",
       "        text-align: right;\n",
       "    }\n",
       "</style>\n",
       "<table border=\"1\" class=\"dataframe\">\n",
       "  <thead>\n",
       "    <tr style=\"text-align: right;\">\n",
       "      <th></th>\n",
       "      <th>Age</th>\n",
       "    </tr>\n",
       "  </thead>\n",
       "  <tbody>\n",
       "    <tr>\n",
       "      <th>count</th>\n",
       "      <td>7.000000</td>\n",
       "    </tr>\n",
       "    <tr>\n",
       "      <th>mean</th>\n",
       "      <td>36.285714</td>\n",
       "    </tr>\n",
       "    <tr>\n",
       "      <th>std</th>\n",
       "      <td>29.118804</td>\n",
       "    </tr>\n",
       "    <tr>\n",
       "      <th>min</th>\n",
       "      <td>8.000000</td>\n",
       "    </tr>\n",
       "    <tr>\n",
       "      <th>25%</th>\n",
       "      <td>9.500000</td>\n",
       "    </tr>\n",
       "    <tr>\n",
       "      <th>50%</th>\n",
       "      <td>35.000000</td>\n",
       "    </tr>\n",
       "    <tr>\n",
       "      <th>75%</th>\n",
       "      <td>56.000000</td>\n",
       "    </tr>\n",
       "    <tr>\n",
       "      <th>max</th>\n",
       "      <td>80.000000</td>\n",
       "    </tr>\n",
       "  </tbody>\n",
       "</table>\n",
       "</div>"
      ],
      "text/plain": [
       "             Age\n",
       "count   7.000000\n",
       "mean   36.285714\n",
       "std    29.118804\n",
       "min     8.000000\n",
       "25%     9.500000\n",
       "50%    35.000000\n",
       "75%    56.000000\n",
       "max    80.000000"
      ]
     },
     "execution_count": 56,
     "metadata": {},
     "output_type": "execute_result"
    }
   ],
   "source": [
    "df.describe()"
   ]
  },
  {
   "cell_type": "markdown",
   "id": "18c47ed4",
   "metadata": {
    "slideshow": {
     "slide_type": "subslide"
    }
   },
   "source": [
    "DataFrame.sort_values() sorts by values:"
   ]
  },
  {
   "cell_type": "code",
   "execution_count": 57,
   "id": "ddbb3e1b",
   "metadata": {
    "slideshow": {
     "slide_type": "subslide"
    }
   },
   "outputs": [
    {
     "data": {
      "text/html": [
       "<div>\n",
       "<style scoped>\n",
       "    .dataframe tbody tr th:only-of-type {\n",
       "        vertical-align: middle;\n",
       "    }\n",
       "\n",
       "    .dataframe tbody tr th {\n",
       "        vertical-align: top;\n",
       "    }\n",
       "\n",
       "    .dataframe thead th {\n",
       "        text-align: right;\n",
       "    }\n",
       "</style>\n",
       "<table border=\"1\" class=\"dataframe\">\n",
       "  <thead>\n",
       "    <tr style=\"text-align: right;\">\n",
       "      <th></th>\n",
       "      <th>Character</th>\n",
       "      <th>Profession</th>\n",
       "      <th>Age</th>\n",
       "      <th>Alignment</th>\n",
       "    </tr>\n",
       "  </thead>\n",
       "  <tbody>\n",
       "    <tr>\n",
       "      <th>0</th>\n",
       "      <td>Bart</td>\n",
       "      <td>Student</td>\n",
       "      <td>8</td>\n",
       "      <td>Chaotic good</td>\n",
       "    </tr>\n",
       "    <tr>\n",
       "      <th>2</th>\n",
       "      <td>Lisa</td>\n",
       "      <td>Student</td>\n",
       "      <td>9</td>\n",
       "      <td>Lawful good</td>\n",
       "    </tr>\n",
       "    <tr>\n",
       "      <th>3</th>\n",
       "      <td>Nelson</td>\n",
       "      <td>Student</td>\n",
       "      <td>10</td>\n",
       "      <td>Chaotic evil</td>\n",
       "    </tr>\n",
       "    <tr>\n",
       "      <th>6</th>\n",
       "      <td>Barney</td>\n",
       "      <td>Unemployed</td>\n",
       "      <td>35</td>\n",
       "      <td>Chaotic neutral</td>\n",
       "    </tr>\n",
       "    <tr>\n",
       "      <th>1</th>\n",
       "      <td>Homer</td>\n",
       "      <td>Nuclear technician</td>\n",
       "      <td>47</td>\n",
       "      <td>Neutral good</td>\n",
       "    </tr>\n",
       "    <tr>\n",
       "      <th>5</th>\n",
       "      <td>Moe</td>\n",
       "      <td>Bartender</td>\n",
       "      <td>65</td>\n",
       "      <td>Neutral neutral</td>\n",
       "    </tr>\n",
       "    <tr>\n",
       "      <th>4</th>\n",
       "      <td>Mongomery</td>\n",
       "      <td>Billionare</td>\n",
       "      <td>80</td>\n",
       "      <td>Lawful evil</td>\n",
       "    </tr>\n",
       "  </tbody>\n",
       "</table>\n",
       "</div>"
      ],
      "text/plain": [
       "   Character          Profession  Age        Alignment\n",
       "0       Bart             Student    8     Chaotic good\n",
       "2       Lisa             Student    9      Lawful good\n",
       "3     Nelson             Student   10     Chaotic evil\n",
       "6     Barney          Unemployed   35  Chaotic neutral\n",
       "1      Homer  Nuclear technician   47     Neutral good\n",
       "5        Moe           Bartender   65  Neutral neutral\n",
       "4  Mongomery          Billionare   80      Lawful evil"
      ]
     },
     "execution_count": 57,
     "metadata": {},
     "output_type": "execute_result"
    }
   ],
   "source": [
    "df.sort_values(by='Age')"
   ]
  },
  {
   "cell_type": "markdown",
   "id": "b85380b8",
   "metadata": {
    "slideshow": {
     "slide_type": "subslide"
    }
   },
   "source": [
    "### Slicing dataframes"
   ]
  },
  {
   "cell_type": "markdown",
   "id": "726932c9",
   "metadata": {
    "slideshow": {
     "slide_type": "subslide"
    }
   },
   "source": [
    "We can slize a dataframe using square brackets to return a Series:"
   ]
  },
  {
   "cell_type": "code",
   "execution_count": 58,
   "id": "36e8c0aa",
   "metadata": {
    "slideshow": {
     "slide_type": "subslide"
    }
   },
   "outputs": [
    {
     "data": {
      "text/plain": [
       "0     8\n",
       "1    47\n",
       "2     9\n",
       "3    10\n",
       "4    80\n",
       "5    65\n",
       "6    35\n",
       "Name: Age, dtype: int64"
      ]
     },
     "execution_count": 58,
     "metadata": {},
     "output_type": "execute_result"
    }
   ],
   "source": [
    "df['Age']"
   ]
  },
  {
   "cell_type": "markdown",
   "id": "0493c981",
   "metadata": {
    "slideshow": {
     "slide_type": "subslide"
    }
   },
   "source": [
    "And slice a series to return a value"
   ]
  },
  {
   "cell_type": "code",
   "execution_count": 59,
   "id": "1aa8d1b4",
   "metadata": {
    "slideshow": {
     "slide_type": "subslide"
    }
   },
   "outputs": [
    {
     "data": {
      "text/plain": [
       "8"
      ]
     },
     "execution_count": 59,
     "metadata": {},
     "output_type": "execute_result"
    }
   ],
   "source": [
    "age_series = df['Age']\n",
    "age_series[0]"
   ]
  },
  {
   "cell_type": "markdown",
   "id": "69a47599",
   "metadata": {
    "slideshow": {
     "slide_type": "subslide"
    }
   },
   "source": [
    "You can pass a list of columns to [] to select columns in that order. "
   ]
  },
  {
   "cell_type": "code",
   "execution_count": 60,
   "id": "ed7664e3",
   "metadata": {
    "slideshow": {
     "slide_type": "subslide"
    }
   },
   "outputs": [
    {
     "data": {
      "text/html": [
       "<div>\n",
       "<style scoped>\n",
       "    .dataframe tbody tr th:only-of-type {\n",
       "        vertical-align: middle;\n",
       "    }\n",
       "\n",
       "    .dataframe tbody tr th {\n",
       "        vertical-align: top;\n",
       "    }\n",
       "\n",
       "    .dataframe thead th {\n",
       "        text-align: right;\n",
       "    }\n",
       "</style>\n",
       "<table border=\"1\" class=\"dataframe\">\n",
       "  <thead>\n",
       "    <tr style=\"text-align: right;\">\n",
       "      <th></th>\n",
       "      <th>Character</th>\n",
       "      <th>Age</th>\n",
       "    </tr>\n",
       "  </thead>\n",
       "  <tbody>\n",
       "    <tr>\n",
       "      <th>0</th>\n",
       "      <td>Bart</td>\n",
       "      <td>8</td>\n",
       "    </tr>\n",
       "    <tr>\n",
       "      <th>1</th>\n",
       "      <td>Homer</td>\n",
       "      <td>47</td>\n",
       "    </tr>\n",
       "    <tr>\n",
       "      <th>2</th>\n",
       "      <td>Lisa</td>\n",
       "      <td>9</td>\n",
       "    </tr>\n",
       "    <tr>\n",
       "      <th>3</th>\n",
       "      <td>Nelson</td>\n",
       "      <td>10</td>\n",
       "    </tr>\n",
       "    <tr>\n",
       "      <th>4</th>\n",
       "      <td>Mongomery</td>\n",
       "      <td>80</td>\n",
       "    </tr>\n",
       "    <tr>\n",
       "      <th>5</th>\n",
       "      <td>Moe</td>\n",
       "      <td>65</td>\n",
       "    </tr>\n",
       "    <tr>\n",
       "      <th>6</th>\n",
       "      <td>Barney</td>\n",
       "      <td>35</td>\n",
       "    </tr>\n",
       "  </tbody>\n",
       "</table>\n",
       "</div>"
      ],
      "text/plain": [
       "   Character  Age\n",
       "0       Bart    8\n",
       "1      Homer   47\n",
       "2       Lisa    9\n",
       "3     Nelson   10\n",
       "4  Mongomery   80\n",
       "5        Moe   65\n",
       "6     Barney   35"
      ]
     },
     "execution_count": 60,
     "metadata": {},
     "output_type": "execute_result"
    }
   ],
   "source": [
    "df[['Character','Age']]"
   ]
  },
  {
   "cell_type": "markdown",
   "id": "fcf0d1a5",
   "metadata": {
    "slideshow": {
     "slide_type": "subslide"
    }
   },
   "source": [
    "Use loc to access a subset of rows in the dataframe - loc slicing is similar to array slicing."
   ]
  },
  {
   "cell_type": "code",
   "execution_count": 61,
   "id": "6ca3a7c7",
   "metadata": {
    "slideshow": {
     "slide_type": "subslide"
    }
   },
   "outputs": [
    {
     "data": {
      "text/plain": [
       "Character                  Homer\n",
       "Profession    Nuclear technician\n",
       "Age                           47\n",
       "Alignment           Neutral good\n",
       "Name: 1, dtype: object"
      ]
     },
     "execution_count": 61,
     "metadata": {},
     "output_type": "execute_result"
    }
   ],
   "source": [
    "df.loc[1]"
   ]
  },
  {
   "cell_type": "code",
   "execution_count": 62,
   "id": "b703d19e",
   "metadata": {
    "slideshow": {
     "slide_type": "subslide"
    }
   },
   "outputs": [
    {
     "data": {
      "text/html": [
       "<div>\n",
       "<style scoped>\n",
       "    .dataframe tbody tr th:only-of-type {\n",
       "        vertical-align: middle;\n",
       "    }\n",
       "\n",
       "    .dataframe tbody tr th {\n",
       "        vertical-align: top;\n",
       "    }\n",
       "\n",
       "    .dataframe thead th {\n",
       "        text-align: right;\n",
       "    }\n",
       "</style>\n",
       "<table border=\"1\" class=\"dataframe\">\n",
       "  <thead>\n",
       "    <tr style=\"text-align: right;\">\n",
       "      <th></th>\n",
       "      <th>Profession</th>\n",
       "      <th>Age</th>\n",
       "      <th>Alignment</th>\n",
       "    </tr>\n",
       "  </thead>\n",
       "  <tbody>\n",
       "    <tr>\n",
       "      <th>1</th>\n",
       "      <td>Nuclear technician</td>\n",
       "      <td>47</td>\n",
       "      <td>Neutral good</td>\n",
       "    </tr>\n",
       "    <tr>\n",
       "      <th>2</th>\n",
       "      <td>Student</td>\n",
       "      <td>9</td>\n",
       "      <td>Lawful good</td>\n",
       "    </tr>\n",
       "    <tr>\n",
       "      <th>3</th>\n",
       "      <td>Student</td>\n",
       "      <td>10</td>\n",
       "      <td>Chaotic evil</td>\n",
       "    </tr>\n",
       "  </tbody>\n",
       "</table>\n",
       "</div>"
      ],
      "text/plain": [
       "           Profession  Age     Alignment\n",
       "1  Nuclear technician   47  Neutral good\n",
       "2             Student    9   Lawful good\n",
       "3             Student   10  Chaotic evil"
      ]
     },
     "execution_count": 62,
     "metadata": {},
     "output_type": "execute_result"
    }
   ],
   "source": [
    "df.loc[1:3, 'Profession':'Alignment']"
   ]
  },
  {
   "cell_type": "markdown",
   "id": "3870b43d",
   "metadata": {
    "slideshow": {
     "slide_type": "subslide"
    }
   },
   "source": [
    "### Joining dataframes\n"
   ]
  },
  {
   "cell_type": "markdown",
   "id": "4524d9ea",
   "metadata": {
    "slideshow": {
     "slide_type": "subslide"
    }
   },
   "source": [
    "The concat function does all the heavy lifting of concatenating similar dataframes together along an axis:"
   ]
  },
  {
   "cell_type": "code",
   "execution_count": 63,
   "id": "19a66857",
   "metadata": {
    "slideshow": {
     "slide_type": "subslide"
    }
   },
   "outputs": [
    {
     "data": {
      "text/html": [
       "<div>\n",
       "<style scoped>\n",
       "    .dataframe tbody tr th:only-of-type {\n",
       "        vertical-align: middle;\n",
       "    }\n",
       "\n",
       "    .dataframe tbody tr th {\n",
       "        vertical-align: top;\n",
       "    }\n",
       "\n",
       "    .dataframe thead th {\n",
       "        text-align: right;\n",
       "    }\n",
       "</style>\n",
       "<table border=\"1\" class=\"dataframe\">\n",
       "  <thead>\n",
       "    <tr style=\"text-align: right;\">\n",
       "      <th></th>\n",
       "      <th>A</th>\n",
       "      <th>B</th>\n",
       "      <th>C</th>\n",
       "      <th>D</th>\n",
       "    </tr>\n",
       "  </thead>\n",
       "  <tbody>\n",
       "    <tr>\n",
       "      <th>0</th>\n",
       "      <td>A0</td>\n",
       "      <td>B0</td>\n",
       "      <td>C0</td>\n",
       "      <td>D0</td>\n",
       "    </tr>\n",
       "    <tr>\n",
       "      <th>1</th>\n",
       "      <td>A1</td>\n",
       "      <td>B1</td>\n",
       "      <td>C1</td>\n",
       "      <td>D1</td>\n",
       "    </tr>\n",
       "    <tr>\n",
       "      <th>2</th>\n",
       "      <td>A2</td>\n",
       "      <td>B2</td>\n",
       "      <td>C2</td>\n",
       "      <td>D2</td>\n",
       "    </tr>\n",
       "    <tr>\n",
       "      <th>3</th>\n",
       "      <td>A3</td>\n",
       "      <td>B3</td>\n",
       "      <td>C3</td>\n",
       "      <td>D3</td>\n",
       "    </tr>\n",
       "    <tr>\n",
       "      <th>4</th>\n",
       "      <td>A4</td>\n",
       "      <td>B4</td>\n",
       "      <td>C4</td>\n",
       "      <td>D4</td>\n",
       "    </tr>\n",
       "    <tr>\n",
       "      <th>5</th>\n",
       "      <td>A5</td>\n",
       "      <td>B5</td>\n",
       "      <td>C5</td>\n",
       "      <td>D5</td>\n",
       "    </tr>\n",
       "    <tr>\n",
       "      <th>6</th>\n",
       "      <td>A6</td>\n",
       "      <td>B6</td>\n",
       "      <td>C6</td>\n",
       "      <td>D6</td>\n",
       "    </tr>\n",
       "    <tr>\n",
       "      <th>7</th>\n",
       "      <td>A7</td>\n",
       "      <td>B7</td>\n",
       "      <td>C7</td>\n",
       "      <td>D7</td>\n",
       "    </tr>\n",
       "    <tr>\n",
       "      <th>8</th>\n",
       "      <td>A8</td>\n",
       "      <td>B8</td>\n",
       "      <td>C8</td>\n",
       "      <td>D8</td>\n",
       "    </tr>\n",
       "    <tr>\n",
       "      <th>9</th>\n",
       "      <td>A9</td>\n",
       "      <td>B9</td>\n",
       "      <td>C9</td>\n",
       "      <td>D9</td>\n",
       "    </tr>\n",
       "    <tr>\n",
       "      <th>10</th>\n",
       "      <td>A10</td>\n",
       "      <td>B10</td>\n",
       "      <td>C10</td>\n",
       "      <td>D10</td>\n",
       "    </tr>\n",
       "    <tr>\n",
       "      <th>11</th>\n",
       "      <td>A11</td>\n",
       "      <td>B11</td>\n",
       "      <td>C11</td>\n",
       "      <td>D11</td>\n",
       "    </tr>\n",
       "  </tbody>\n",
       "</table>\n",
       "</div>"
      ],
      "text/plain": [
       "      A    B    C    D\n",
       "0    A0   B0   C0   D0\n",
       "1    A1   B1   C1   D1\n",
       "2    A2   B2   C2   D2\n",
       "3    A3   B3   C3   D3\n",
       "4    A4   B4   C4   D4\n",
       "5    A5   B5   C5   D5\n",
       "6    A6   B6   C6   D6\n",
       "7    A7   B7   C7   D7\n",
       "8    A8   B8   C8   D8\n",
       "9    A9   B9   C9   D9\n",
       "10  A10  B10  C10  D10\n",
       "11  A11  B11  C11  D11"
      ]
     },
     "execution_count": 63,
     "metadata": {},
     "output_type": "execute_result"
    }
   ],
   "source": [
    "df1 = pd.DataFrame(\n",
    "    {\n",
    "        \"A\": [\"A0\", \"A1\", \"A2\", \"A3\"],\n",
    "        \"B\": [\"B0\", \"B1\", \"B2\", \"B3\"],\n",
    "        \"C\": [\"C0\", \"C1\", \"C2\", \"C3\"],\n",
    "        \"D\": [\"D0\", \"D1\", \"D2\", \"D3\"],\n",
    "    },\n",
    "    index=[0, 1, 2, 3],\n",
    ")\n",
    "\n",
    "\n",
    "df2 = pd.DataFrame(\n",
    "    {\n",
    "        \"A\": [\"A4\", \"A5\", \"A6\", \"A7\"],\n",
    "        \"B\": [\"B4\", \"B5\", \"B6\", \"B7\"],\n",
    "        \"C\": [\"C4\", \"C5\", \"C6\", \"C7\"],\n",
    "        \"D\": [\"D4\", \"D5\", \"D6\", \"D7\"],\n",
    "    },\n",
    "    index=[4, 5, 6, 7],\n",
    ")\n",
    "\n",
    "\n",
    "df3 = pd.DataFrame(\n",
    "    {\n",
    "        \"A\": [\"A8\", \"A9\", \"A10\", \"A11\"],\n",
    "        \"B\": [\"B8\", \"B9\", \"B10\", \"B11\"],\n",
    "        \"C\": [\"C8\", \"C9\", \"C10\", \"C11\"],\n",
    "        \"D\": [\"D8\", \"D9\", \"D10\", \"D11\"],\n",
    "    },\n",
    "    index=[8, 9, 10, 11],\n",
    ")\n",
    "\n",
    "pd.concat([df1, df2, df3], join='outer')"
   ]
  },
  {
   "cell_type": "markdown",
   "id": "301c1705",
   "metadata": {
    "slideshow": {
     "slide_type": "subslide"
    }
   },
   "source": [
    "Dataframes concatenated along axis 0"
   ]
  },
  {
   "cell_type": "markdown",
   "id": "c3603b12",
   "metadata": {
    "slideshow": {
     "slide_type": "subslide"
    }
   },
   "source": [
    "When gluing together multiple DataFrames, you have a choice of how to handle the other axes (other than the one being concatenated). This can be done in the following two ways:\n",
    "\n",
    "Take the union of them all, join='outer'. This is the default option as it results in zero information loss.\n",
    "\n",
    "Take the intersection, join='inner'."
   ]
  },
  {
   "cell_type": "code",
   "execution_count": 64,
   "id": "12e0e12f",
   "metadata": {
    "slideshow": {
     "slide_type": "subslide"
    }
   },
   "outputs": [
    {
     "data": {
      "text/html": [
       "<div>\n",
       "<style scoped>\n",
       "    .dataframe tbody tr th:only-of-type {\n",
       "        vertical-align: middle;\n",
       "    }\n",
       "\n",
       "    .dataframe tbody tr th {\n",
       "        vertical-align: top;\n",
       "    }\n",
       "\n",
       "    .dataframe thead th {\n",
       "        text-align: right;\n",
       "    }\n",
       "</style>\n",
       "<table border=\"1\" class=\"dataframe\">\n",
       "  <thead>\n",
       "    <tr style=\"text-align: right;\">\n",
       "      <th></th>\n",
       "      <th>A</th>\n",
       "      <th>B</th>\n",
       "      <th>C</th>\n",
       "      <th>D</th>\n",
       "      <th>E</th>\n",
       "      <th>F</th>\n",
       "      <th>G</th>\n",
       "    </tr>\n",
       "  </thead>\n",
       "  <tbody>\n",
       "    <tr>\n",
       "      <th>0</th>\n",
       "      <td>A0</td>\n",
       "      <td>B0</td>\n",
       "      <td>C0</td>\n",
       "      <td>D0</td>\n",
       "      <td>NaN</td>\n",
       "      <td>NaN</td>\n",
       "      <td>NaN</td>\n",
       "    </tr>\n",
       "    <tr>\n",
       "      <th>1</th>\n",
       "      <td>A1</td>\n",
       "      <td>B1</td>\n",
       "      <td>C1</td>\n",
       "      <td>D1</td>\n",
       "      <td>NaN</td>\n",
       "      <td>NaN</td>\n",
       "      <td>NaN</td>\n",
       "    </tr>\n",
       "    <tr>\n",
       "      <th>2</th>\n",
       "      <td>A2</td>\n",
       "      <td>B2</td>\n",
       "      <td>C2</td>\n",
       "      <td>D2</td>\n",
       "      <td>B2</td>\n",
       "      <td>D2</td>\n",
       "      <td>F2</td>\n",
       "    </tr>\n",
       "    <tr>\n",
       "      <th>3</th>\n",
       "      <td>A3</td>\n",
       "      <td>B3</td>\n",
       "      <td>C3</td>\n",
       "      <td>D3</td>\n",
       "      <td>B3</td>\n",
       "      <td>D3</td>\n",
       "      <td>F3</td>\n",
       "    </tr>\n",
       "    <tr>\n",
       "      <th>6</th>\n",
       "      <td>NaN</td>\n",
       "      <td>NaN</td>\n",
       "      <td>NaN</td>\n",
       "      <td>NaN</td>\n",
       "      <td>B6</td>\n",
       "      <td>D6</td>\n",
       "      <td>F6</td>\n",
       "    </tr>\n",
       "    <tr>\n",
       "      <th>7</th>\n",
       "      <td>NaN</td>\n",
       "      <td>NaN</td>\n",
       "      <td>NaN</td>\n",
       "      <td>NaN</td>\n",
       "      <td>B7</td>\n",
       "      <td>D7</td>\n",
       "      <td>F7</td>\n",
       "    </tr>\n",
       "  </tbody>\n",
       "</table>\n",
       "</div>"
      ],
      "text/plain": [
       "     A    B    C    D    E    F    G\n",
       "0   A0   B0   C0   D0  NaN  NaN  NaN\n",
       "1   A1   B1   C1   D1  NaN  NaN  NaN\n",
       "2   A2   B2   C2   D2   B2   D2   F2\n",
       "3   A3   B3   C3   D3   B3   D3   F3\n",
       "6  NaN  NaN  NaN  NaN   B6   D6   F6\n",
       "7  NaN  NaN  NaN  NaN   B7   D7   F7"
      ]
     },
     "execution_count": 64,
     "metadata": {},
     "output_type": "execute_result"
    }
   ],
   "source": [
    "df4 = pd.DataFrame(\n",
    "    {\n",
    "        \"E\": [\"B2\", \"B3\", \"B6\", \"B7\"],\n",
    "        \"F\": [\"D2\", \"D3\", \"D6\", \"D7\"],\n",
    "        \"G\": [\"F2\", \"F3\", \"F6\", \"F7\"],\n",
    "    },\n",
    "    index=[2, 3, 6, 7],\n",
    ")\n",
    "\n",
    "\n",
    "pd.concat([df1, df4], axis=1, join = 'outer')"
   ]
  },
  {
   "cell_type": "code",
   "execution_count": 65,
   "id": "0f1dc255",
   "metadata": {
    "slideshow": {
     "slide_type": "subslide"
    }
   },
   "outputs": [
    {
     "data": {
      "text/html": [
       "<div>\n",
       "<style scoped>\n",
       "    .dataframe tbody tr th:only-of-type {\n",
       "        vertical-align: middle;\n",
       "    }\n",
       "\n",
       "    .dataframe tbody tr th {\n",
       "        vertical-align: top;\n",
       "    }\n",
       "\n",
       "    .dataframe thead th {\n",
       "        text-align: right;\n",
       "    }\n",
       "</style>\n",
       "<table border=\"1\" class=\"dataframe\">\n",
       "  <thead>\n",
       "    <tr style=\"text-align: right;\">\n",
       "      <th></th>\n",
       "      <th>A</th>\n",
       "      <th>B</th>\n",
       "      <th>C</th>\n",
       "      <th>D</th>\n",
       "      <th>D</th>\n",
       "      <th>E</th>\n",
       "      <th>F</th>\n",
       "    </tr>\n",
       "  </thead>\n",
       "  <tbody>\n",
       "    <tr>\n",
       "      <th>2</th>\n",
       "      <td>A2</td>\n",
       "      <td>B2</td>\n",
       "      <td>C2</td>\n",
       "      <td>D2</td>\n",
       "      <td>B2</td>\n",
       "      <td>D2</td>\n",
       "      <td>F2</td>\n",
       "    </tr>\n",
       "    <tr>\n",
       "      <th>3</th>\n",
       "      <td>A3</td>\n",
       "      <td>B3</td>\n",
       "      <td>C3</td>\n",
       "      <td>D3</td>\n",
       "      <td>B3</td>\n",
       "      <td>D3</td>\n",
       "      <td>F3</td>\n",
       "    </tr>\n",
       "  </tbody>\n",
       "</table>\n",
       "</div>"
      ],
      "text/plain": [
       "    A   B   C   D   D   E   F\n",
       "2  A2  B2  C2  D2  B2  D2  F2\n",
       "3  A3  B3  C3  D3  B3  D3  F3"
      ]
     },
     "execution_count": 65,
     "metadata": {},
     "output_type": "execute_result"
    }
   ],
   "source": [
    "df4 = pd.DataFrame(\n",
    "    {\n",
    "        \"D\": [\"B2\", \"B3\", \"B6\", \"B7\"],\n",
    "        \"E\": [\"D2\", \"D3\", \"D6\", \"D7\"],\n",
    "        \"F\": [\"F2\", \"F3\", \"F6\", \"F7\"],\n",
    "    },\n",
    "    index=[2, 3, 6, 7],\n",
    ")\n",
    "\n",
    "\n",
    "pd.concat([df1, df4], axis=1, join = 'inner')"
   ]
  },
  {
   "cell_type": "markdown",
   "id": "5fe600ac",
   "metadata": {
    "slideshow": {
     "slide_type": "subslide"
    }
   },
   "source": [
    "Concat with join type inner only returns rows with matching indices."
   ]
  },
  {
   "cell_type": "markdown",
   "id": "8f91b98b",
   "metadata": {
    "slideshow": {
     "slide_type": "subslide"
    }
   },
   "source": [
    "We can also join or merge two pandas DataFrames:"
   ]
  },
  {
   "cell_type": "markdown",
   "id": "e85784a1",
   "metadata": {
    "slideshow": {
     "slide_type": "subslide"
    }
   },
   "source": [
    "pandas provides a single function, merge(), as the entry point for all standard database join operations between DataFrame or named Series objects - let's create a couple of objects to merge:"
   ]
  },
  {
   "cell_type": "code",
   "execution_count": 66,
   "id": "4718d140",
   "metadata": {
    "slideshow": {
     "slide_type": "subslide"
    }
   },
   "outputs": [
    {
     "data": {
      "text/html": [
       "<div>\n",
       "<style scoped>\n",
       "    .dataframe tbody tr th:only-of-type {\n",
       "        vertical-align: middle;\n",
       "    }\n",
       "\n",
       "    .dataframe tbody tr th {\n",
       "        vertical-align: top;\n",
       "    }\n",
       "\n",
       "    .dataframe thead th {\n",
       "        text-align: right;\n",
       "    }\n",
       "</style>\n",
       "<table border=\"1\" class=\"dataframe\">\n",
       "  <thead>\n",
       "    <tr style=\"text-align: right;\">\n",
       "      <th></th>\n",
       "      <th>Character</th>\n",
       "      <th>Id</th>\n",
       "    </tr>\n",
       "  </thead>\n",
       "  <tbody>\n",
       "    <tr>\n",
       "      <th>0</th>\n",
       "      <td>Bart</td>\n",
       "      <td>1</td>\n",
       "    </tr>\n",
       "    <tr>\n",
       "      <th>1</th>\n",
       "      <td>Marge</td>\n",
       "      <td>2</td>\n",
       "    </tr>\n",
       "  </tbody>\n",
       "</table>\n",
       "</div>"
      ],
      "text/plain": [
       "  Character  Id\n",
       "0      Bart   1\n",
       "1     Marge   2"
      ]
     },
     "execution_count": 66,
     "metadata": {},
     "output_type": "execute_result"
    }
   ],
   "source": [
    "left = pd.DataFrame({\"Character\": ['Bart', 'Marge'], \"Id\": [1, 2]})\n",
    "left"
   ]
  },
  {
   "cell_type": "code",
   "execution_count": 67,
   "id": "ba261015",
   "metadata": {
    "slideshow": {
     "slide_type": "subslide"
    }
   },
   "outputs": [
    {
     "data": {
      "text/html": [
       "<div>\n",
       "<style scoped>\n",
       "    .dataframe tbody tr th:only-of-type {\n",
       "        vertical-align: middle;\n",
       "    }\n",
       "\n",
       "    .dataframe tbody tr th {\n",
       "        vertical-align: top;\n",
       "    }\n",
       "\n",
       "    .dataframe thead th {\n",
       "        text-align: right;\n",
       "    }\n",
       "</style>\n",
       "<table border=\"1\" class=\"dataframe\">\n",
       "  <thead>\n",
       "    <tr style=\"text-align: right;\">\n",
       "      <th></th>\n",
       "      <th>Id</th>\n",
       "      <th>Profession</th>\n",
       "    </tr>\n",
       "  </thead>\n",
       "  <tbody>\n",
       "    <tr>\n",
       "      <th>0</th>\n",
       "      <td>1</td>\n",
       "      <td>Student</td>\n",
       "    </tr>\n",
       "    <tr>\n",
       "      <th>1</th>\n",
       "      <td>5</td>\n",
       "      <td>Police Officer</td>\n",
       "    </tr>\n",
       "    <tr>\n",
       "      <th>2</th>\n",
       "      <td>6</td>\n",
       "      <td>Doctor</td>\n",
       "    </tr>\n",
       "  </tbody>\n",
       "</table>\n",
       "</div>"
      ],
      "text/plain": [
       "   Id      Profession\n",
       "0   1         Student\n",
       "1   5  Police Officer\n",
       "2   6          Doctor"
      ]
     },
     "execution_count": 67,
     "metadata": {},
     "output_type": "execute_result"
    }
   ],
   "source": [
    "right = pd.DataFrame({\"Id\": [1, 5, 6], \"Profession\": ['Student', 'Police Officer', 'Doctor']})\n",
    "right"
   ]
  },
  {
   "cell_type": "code",
   "execution_count": 68,
   "id": "3aa67d25",
   "metadata": {
    "slideshow": {
     "slide_type": "subslide"
    }
   },
   "outputs": [
    {
     "data": {
      "text/html": [
       "<div>\n",
       "<style scoped>\n",
       "    .dataframe tbody tr th:only-of-type {\n",
       "        vertical-align: middle;\n",
       "    }\n",
       "\n",
       "    .dataframe tbody tr th {\n",
       "        vertical-align: top;\n",
       "    }\n",
       "\n",
       "    .dataframe thead th {\n",
       "        text-align: right;\n",
       "    }\n",
       "</style>\n",
       "<table border=\"1\" class=\"dataframe\">\n",
       "  <thead>\n",
       "    <tr style=\"text-align: right;\">\n",
       "      <th></th>\n",
       "      <th>Character</th>\n",
       "      <th>Id</th>\n",
       "      <th>Profession</th>\n",
       "    </tr>\n",
       "  </thead>\n",
       "  <tbody>\n",
       "    <tr>\n",
       "      <th>0</th>\n",
       "      <td>Bart</td>\n",
       "      <td>1</td>\n",
       "      <td>Student</td>\n",
       "    </tr>\n",
       "    <tr>\n",
       "      <th>1</th>\n",
       "      <td>Marge</td>\n",
       "      <td>2</td>\n",
       "      <td>NaN</td>\n",
       "    </tr>\n",
       "    <tr>\n",
       "      <th>2</th>\n",
       "      <td>NaN</td>\n",
       "      <td>5</td>\n",
       "      <td>Police Officer</td>\n",
       "    </tr>\n",
       "    <tr>\n",
       "      <th>3</th>\n",
       "      <td>NaN</td>\n",
       "      <td>6</td>\n",
       "      <td>Doctor</td>\n",
       "    </tr>\n",
       "  </tbody>\n",
       "</table>\n",
       "</div>"
      ],
      "text/plain": [
       "  Character  Id      Profession\n",
       "0      Bart   1         Student\n",
       "1     Marge   2             NaN\n",
       "2       NaN   5  Police Officer\n",
       "3       NaN   6          Doctor"
      ]
     },
     "execution_count": 68,
     "metadata": {},
     "output_type": "execute_result"
    }
   ],
   "source": [
    "pd.merge(left, right, on=\"Id\", how=\"outer\")"
   ]
  },
  {
   "cell_type": "markdown",
   "id": "969773a4",
   "metadata": {
    "slideshow": {
     "slide_type": "subslide"
    }
   },
   "source": [
    "Here we join our two tables in an outer join on the Id key in both tables, so all rows are returned, with missing values set to null."
   ]
  },
  {
   "cell_type": "code",
   "execution_count": 69,
   "id": "905c96a6",
   "metadata": {
    "slideshow": {
     "slide_type": "subslide"
    }
   },
   "outputs": [
    {
     "data": {
      "text/html": [
       "<div>\n",
       "<style scoped>\n",
       "    .dataframe tbody tr th:only-of-type {\n",
       "        vertical-align: middle;\n",
       "    }\n",
       "\n",
       "    .dataframe tbody tr th {\n",
       "        vertical-align: top;\n",
       "    }\n",
       "\n",
       "    .dataframe thead th {\n",
       "        text-align: right;\n",
       "    }\n",
       "</style>\n",
       "<table border=\"1\" class=\"dataframe\">\n",
       "  <thead>\n",
       "    <tr style=\"text-align: right;\">\n",
       "      <th></th>\n",
       "      <th>Character</th>\n",
       "      <th>Id</th>\n",
       "      <th>Profession</th>\n",
       "    </tr>\n",
       "  </thead>\n",
       "  <tbody>\n",
       "    <tr>\n",
       "      <th>0</th>\n",
       "      <td>Bart</td>\n",
       "      <td>1</td>\n",
       "      <td>Student</td>\n",
       "    </tr>\n",
       "  </tbody>\n",
       "</table>\n",
       "</div>"
      ],
      "text/plain": [
       "  Character  Id Profession\n",
       "0      Bart   1    Student"
      ]
     },
     "execution_count": 69,
     "metadata": {},
     "output_type": "execute_result"
    }
   ],
   "source": [
    "pd.merge(left, right, on=\"Id\", how=\"inner\")"
   ]
  },
  {
   "cell_type": "markdown",
   "id": "05ba6b28",
   "metadata": {
    "slideshow": {
     "slide_type": "subslide"
    }
   },
   "source": [
    "Here we perform an inner join, so we'll only get rows that have a matching Id in both tables"
   ]
  },
  {
   "cell_type": "code",
   "execution_count": 70,
   "id": "577a1f65",
   "metadata": {
    "slideshow": {
     "slide_type": "subslide"
    }
   },
   "outputs": [
    {
     "data": {
      "text/html": [
       "<div>\n",
       "<style scoped>\n",
       "    .dataframe tbody tr th:only-of-type {\n",
       "        vertical-align: middle;\n",
       "    }\n",
       "\n",
       "    .dataframe tbody tr th {\n",
       "        vertical-align: top;\n",
       "    }\n",
       "\n",
       "    .dataframe thead th {\n",
       "        text-align: right;\n",
       "    }\n",
       "</style>\n",
       "<table border=\"1\" class=\"dataframe\">\n",
       "  <thead>\n",
       "    <tr style=\"text-align: right;\">\n",
       "      <th></th>\n",
       "      <th>Character</th>\n",
       "      <th>Id</th>\n",
       "      <th>Profession</th>\n",
       "    </tr>\n",
       "  </thead>\n",
       "  <tbody>\n",
       "    <tr>\n",
       "      <th>0</th>\n",
       "      <td>Bart</td>\n",
       "      <td>1</td>\n",
       "      <td>Student</td>\n",
       "    </tr>\n",
       "    <tr>\n",
       "      <th>1</th>\n",
       "      <td>Marge</td>\n",
       "      <td>2</td>\n",
       "      <td>NaN</td>\n",
       "    </tr>\n",
       "  </tbody>\n",
       "</table>\n",
       "</div>"
      ],
      "text/plain": [
       "  Character  Id Profession\n",
       "0      Bart   1    Student\n",
       "1     Marge   2        NaN"
      ]
     },
     "execution_count": 70,
     "metadata": {},
     "output_type": "execute_result"
    }
   ],
   "source": [
    "pd.merge(left, right, on=\"Id\", how=\"left\")"
   ]
  },
  {
   "cell_type": "markdown",
   "id": "9c53e2e0",
   "metadata": {
    "slideshow": {
     "slide_type": "subslide"
    }
   },
   "source": [
    "Here we perform a left join, so all rows in the left table are returned, along with only the matching rows in the right table."
   ]
  },
  {
   "cell_type": "code",
   "execution_count": 71,
   "id": "ed633256",
   "metadata": {
    "slideshow": {
     "slide_type": "subslide"
    }
   },
   "outputs": [
    {
     "data": {
      "text/html": [
       "<div>\n",
       "<style scoped>\n",
       "    .dataframe tbody tr th:only-of-type {\n",
       "        vertical-align: middle;\n",
       "    }\n",
       "\n",
       "    .dataframe tbody tr th {\n",
       "        vertical-align: top;\n",
       "    }\n",
       "\n",
       "    .dataframe thead th {\n",
       "        text-align: right;\n",
       "    }\n",
       "</style>\n",
       "<table border=\"1\" class=\"dataframe\">\n",
       "  <thead>\n",
       "    <tr style=\"text-align: right;\">\n",
       "      <th></th>\n",
       "      <th>Character</th>\n",
       "      <th>Id</th>\n",
       "      <th>Profession</th>\n",
       "    </tr>\n",
       "  </thead>\n",
       "  <tbody>\n",
       "    <tr>\n",
       "      <th>0</th>\n",
       "      <td>Bart</td>\n",
       "      <td>1</td>\n",
       "      <td>Student</td>\n",
       "    </tr>\n",
       "    <tr>\n",
       "      <th>1</th>\n",
       "      <td>NaN</td>\n",
       "      <td>5</td>\n",
       "      <td>Police Officer</td>\n",
       "    </tr>\n",
       "    <tr>\n",
       "      <th>2</th>\n",
       "      <td>NaN</td>\n",
       "      <td>6</td>\n",
       "      <td>Doctor</td>\n",
       "    </tr>\n",
       "  </tbody>\n",
       "</table>\n",
       "</div>"
      ],
      "text/plain": [
       "  Character  Id      Profession\n",
       "0      Bart   1         Student\n",
       "1       NaN   5  Police Officer\n",
       "2       NaN   6          Doctor"
      ]
     },
     "execution_count": 71,
     "metadata": {},
     "output_type": "execute_result"
    }
   ],
   "source": [
    "pd.merge(left, right, on=\"Id\", how=\"right\")"
   ]
  },
  {
   "cell_type": "markdown",
   "id": "7f087efd",
   "metadata": {
    "slideshow": {
     "slide_type": "subslide"
    }
   },
   "source": [
    "Conversely, in a right join, all rows in the right table are returned, but only the matching info on the left table is returned."
   ]
>>>>>>> Stashed changes
  },
  {
   "cell_type": "markdown",
   "id": "1f4e526d",
<<<<<<< Updated upstream
   "metadata": {},
   "source": [
    "## Using the Python LUSID Standard Development Kits"
=======
   "metadata": {
    "slideshow": {
     "slide_type": "slide"
    }
   },
   "source": [
    "## Using the Python LUSID SDKs"
>>>>>>> Stashed changes
   ]
  },
  {
   "cell_type": "markdown",
<<<<<<< Updated upstream
   "id": "23c1bb84",
   "metadata": {},
   "source": [
    "## Using the Lumipy SDK"
=======
   "id": "c58de81e",
   "metadata": {
    "slideshow": {
     "slide_type": "subslide"
    }
   },
   "source": [
    "We provide many tools for interacting with LUSID in Python and Jupyter.\n",
    "\n",
    "The majority of the LUSID SDKs are automatically generated using the OpenAPI Generator. These SDKs provide a set of objects and functions which enable you to call our APIs and interact with LUSID, without having to write any REST communication code. We also provide other manually-written packages which make interacting with LUSID programmatically easier. \n",
    "In this section we'll:\n",
    "- Introduce the OpenApi SDKs, describing how they are used.\n",
    "- Describe some of the tools for interacting with LUSID in our hosted Jupyter environment."
   ]
  },
  {
   "cell_type": "markdown",
   "id": "0baab167",
   "metadata": {
    "slideshow": {
     "slide_type": "subslide"
    }
   },
   "source": [
    "### The OpenApi SDKs\n",
    "We have a set of SDKs that are auto-generated using the OpenAPI Generator project, such as the lusid-sdk-python, drive-sdk-python and finbourne-access-sdk-python, all hosted on Pypi. These SDKs provide api objects, with methods that can be used to perform actions in LUSID."
   ]
  },
  {
   "cell_type": "markdown",
   "id": "d5a1218d",
   "metadata": {
    "slideshow": {
     "slide_type": "subslide"
    }
   },
   "source": [
    "All authenticated calls to the LUSID API require an OpenID Connect ID token which is issued from your token issuer url. The details of these can be found on your LUSID portal under \"Applications\" within the \"Identity and Access Management\" section."
   ]
  },
  {
   "cell_type": "code",
   "execution_count": 72,
   "id": "f113ccff",
   "metadata": {
    "slideshow": {
     "slide_type": "subslide"
    }
   },
   "outputs": [
    {
     "name": "stdout",
     "output_type": "stream",
     "text": [
      "quote_from_bytes() expected bytes\n"
     ]
    }
   ],
   "source": [
    "import lusid\n",
    "import os\n",
    "from lusid.utilities import RefreshingToken\n",
    "from lusid.utilities import ApiConfigurationLoader\n",
    "\n",
    "try:\n",
    "    config = ApiConfigurationLoader.load()\n",
    "    RefreshingToken(config)\n",
    "\n",
    "    api_factory = lusid.utilities.ApiClientFactory(\n",
    "        token = RefreshingToken(config)\n",
    "    )\n",
    "\n",
    "    print([api for api in dir(lusid.api) if \"Api\" in api])\n",
    "except Exception as e:\n",
    "    print(e)\n",
    "\n"
   ]
  },
  {
   "cell_type": "markdown",
   "id": "6ed26b82",
   "metadata": {
    "slideshow": {
     "slide_type": "notes"
    }
   },
   "source": [
    "Here's an example using the lusid python sdk. We initialise an api factory using our access details, which can be provided in either a secrets json file, or as environment variables. Here we have some environment variables set, we use RefreshingToken to grab a token using these environment variables.\n",
    "\n",
    "We then print a list of the available APIs in the lusid preview sdk.\n",
    "\n"
   ]
  },
  {
   "cell_type": "code",
   "execution_count": 75,
   "id": "4d1a2f40",
   "metadata": {
    "scrolled": true,
    "slideshow": {
     "slide_type": "subslide"
    }
   },
   "outputs": [
    {
     "name": "stdout",
     "output_type": "stream",
     "text": [
      "Exception when calling AggregationApi->generate_configuration_recipe: (404)\n",
      "Reason: Not Found\n",
      "HTTP response headers: HTTPHeaderDict({'Date': 'Wed, 16 Nov 2022 16:49:01 GMT', 'Content-Type': 'application/problem+json', 'Transfer-Encoding': 'chunked', 'Connection': 'keep-alive', 'Vary': 'Accept-Encoding', 'lusid-meta-success': 'False', 'lusid-meta-requestId': '0HMM7SHJT111T:00000032', 'lusid-meta-correlationId': '0HMM7SHJT111T:00000032', 'lusid-meta-duration': '333', 'Strict-Transport-Security': 'max-age=15724800; includeSubDomains', 'Server': 'FINBOURNE', 'Content-Security-Policy': \"default-src 'self' https://*.lusid.com https://*.finbourne.com; script-src 'unsafe-inline' 'self' https://*.lusid.com https://*.finbourne.com https://editor.swagger.io; font-src 'self' fonts.googleapis.com; img-src data: 'self' https://*.lusid.com https://*.finbourne.com https://validator.swagger.io; style-src 'unsafe-inline' 'self' https://*.lusid.com https://*.finbourne.com; report-uri https://lusid.report-uri.com/r/d/csp/enforce\", 'X-Frame-Options': 'SAMEORIGIN', 'Permissions-Policy': 'accelerometer=(), ambient-light-sensor=(), autoplay=(self), battery=(), camera=(), cross-origin-isolated=(self), display-capture=(), document-domain=*, encrypted-media=(), execution-while-not-rendered=(), execution-while-out-of-viewport=(), fullscreen=(self), geolocation=(self), gyroscope=(), keyboard-map=(), magnetometer=(), microphone=(), midi=(), navigation-override=(), payment=(), picture-in-picture=(), publickey-credentials-get=(), screen-wake-lock=(), sync-xhr=(), usb=(), web-share=(), xr-spatial-tracking=()', 'Referrer-Policy': 'strict-origin-when-cross-origin', 'X-XSS-Protection': '1; mode=block', 'X-Content-Type-Options': 'nosniff', 'Expect-CT': \"max-age=3600, enforce, report-uri='https://lusid.report-uri.com/r/d/ct/enforce'\", 'Access-Control-Max-Age': '600', 'Content-Encoding': 'gzip'})\n",
      "HTTP response body: {\"name\":\"PortfolioNotFound\",\"errorDetails\":[],\"code\":109,\"type\":\"https://docs.lusid.com/#section/Error-Codes/109\",\"title\":\"Portfolio not found\",\"status\":404,\"detail\":\"Portfolio with id 'code_example' in scope 'scope_example' effective at '2018-03-05T00:00:00.0000000+00:00' as at '2018-03-05T00:00:00.0000000+00:00' not found.\",\"instance\":\"https://fbn-ci.lusid.com/app/insights/logs/0HMM7SHJT111T:00000032\",\"extensions\":{}}\n",
      "\n",
      "\n"
     ]
    }
   ],
   "source": [
    "try:\n",
    "    api_instance = api_factory.build(lusid.api.AggregationApi)\n",
    "    scope = 'scope_example' # str | The scope of the portfolio\n",
    "    code = 'code_example' # str | The code of the portfolio\n",
    "    create_recipe_request = {\"recipeCreationMarketDataScopes\":[\"MyScope\"],\"recipeId\":{\"scope\":\"MyScope\",\"code\":\"default\"},\"asAt\":\"2018-03-05T00:00:00.0000000+00:00\",\"effectiveAt\":\"2018-03-05T00:00:00.0000000+00:00\"} # CreateRecipeRequest | The request specifying the parameters to generating the recipe (optional)\n",
    "\n",
    "\n",
    "    # [EXPERIMENTAL] GenerateConfigurationRecipe: Generates a recipe sufficient to perform valuations for the given portfolio.\n",
    "    api_response = api_instance.generate_configuration_recipe(scope, code, create_recipe_request=create_recipe_request)\n",
    "    print(api_response)\n",
    "except lusid.rest.ApiException as e:\n",
    "    print(\"Exception when calling AggregationApi->generate_configuration_recipe: %s\\n\" % e)"
   ]
  },
  {
   "cell_type": "markdown",
   "id": "5dd93e0f",
   "metadata": {
    "slideshow": {
     "slide_type": "notes"
    }
   },
   "source": [
    "Here, we use our api factory to build an aggregations API object.\n",
    "We then call the generate configuration recipe method on this object, which communicates with one of our /api/aggregation/ endpoints to generate a config recipe."
   ]
  },
  {
   "cell_type": "markdown",
   "id": "3babbd50",
   "metadata": {
    "slideshow": {
     "slide_type": "subslide"
    }
   },
   "source": [
    "### Tools for interacting with LUSID in our hosted Jupyter environment.\n",
    "We provide a Jupyter environment that you can access and use to interactively write Python and dotnet scripts. In our Jupyter environment, the preview SDKs come installed by default."
   ]
  },
  {
   "cell_type": "markdown",
   "id": "cb1485fc",
   "metadata": {
    "slideshow": {
     "slide_type": "subslide"
    }
   },
   "source": [
    "We provide the lusidjam library, which can be used to provide an authentication token without re-entering credentials into your Python scripts:"
   ]
  },
  {
   "cell_type": "code",
   "execution_count": 74,
   "id": "7206036e",
   "metadata": {
    "slideshow": {
     "slide_type": "subslide"
    }
   },
   "outputs": [],
   "source": [
    "import lusidjam\n",
    "\n",
    "api_factory = lusid.utilities.ApiClientFactory(\n",
    "    token = lusidjam.RefreshingToken()\n",
    ")"
   ]
  },
  {
   "cell_type": "markdown",
   "id": "0a1bac19",
   "metadata": {
    "slideshow": {
     "slide_type": "notes"
    }
   },
   "source": [
    "Here we've built an api-factory using credentials stored in our jupyter environment."
   ]
  },
  {
   "cell_type": "markdown",
   "id": "840092c9",
   "metadata": {
    "slideshow": {
     "slide_type": "subslide"
    }
   },
   "source": [
    "We also provide a custom magic command to query luminesce:"
   ]
  },
  {
   "cell_type": "code",
   "execution_count": null,
   "id": "291f7d8c",
   "metadata": {
    "scrolled": true,
    "slideshow": {
     "slide_type": "subslide"
    }
   },
   "outputs": [],
   "source": [
    "%%luminesce\n",
    "SELECT * FROM Lusid.Instrument.Equity LIMIT 10"
   ]
  },
  {
   "cell_type": "markdown",
   "id": "fd962965",
   "metadata": {
    "slideshow": {
     "slide_type": "notes"
    }
   },
   "source": [
    "This cell magic runs any statement in the cell below the magic command, displaying a pandas dataframe containing the output of the luminesce query."
   ]
  },
  {
   "cell_type": "code",
   "execution_count": null,
   "id": "b6e860a9",
   "metadata": {
    "slideshow": {
     "slide_type": "subslide"
    }
   },
   "outputs": [],
   "source": [
    "results = %luminesce SELECT * FROM Lusid.Instrument.Equity LIMIT 10\n",
    "results.head()"
   ]
  },
  {
   "cell_type": "markdown",
   "id": "40c38073",
   "metadata": {
    "slideshow": {
     "slide_type": "notes"
    }
   },
   "source": [
    "This line magic runs the query on the same line after the magic command, allowing us to use the result of the query in our Python code."
>>>>>>> Stashed changes
   ]
  }
 ],
 "metadata": {
<<<<<<< Updated upstream
=======
  "celltoolbar": "Slideshow",
>>>>>>> Stashed changes
  "kernelspec": {
   "display_name": "Python 3 (ipykernel)",
   "language": "python",
   "name": "python3"
  },
  "language_info": {
   "codemirror_mode": {
    "name": "ipython",
    "version": 3
   },
   "file_extension": ".py",
   "mimetype": "text/x-python",
   "name": "python",
   "nbconvert_exporter": "python",
   "pygments_lexer": "ipython3",
   "version": "3.9.7"
  }
 },
 "nbformat": 4,
 "nbformat_minor": 5
}
