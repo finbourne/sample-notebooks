{
 "cells": [
  {
   "cell_type": "code",
   "execution_count": 1,
   "id": "62675678",
   "metadata": {
    "slideshow": {
     "slide_type": "skip"
    }
   },
   "outputs": [],
   "source": [
    "#Setup\n",
    "import pandas as pd\n",
    "import os\n",
    "\n",
    "pd.set_option(\"display.max_columns\", None)\n",
    "pd.set_option(\"display.max_rows\", None)\n",
    "pd.options.display.float_format = \"{:,.2f}\".format\n"
   ]
  },
  {
   "cell_type": "markdown",
   "id": "e32e01fe",
   "metadata": {
    "slideshow": {
     "slide_type": "slide"
    }
   },
   "source": [
    "<p style=\"font-family: Montserrat; color: #203443; font-weight: bold; font-size: 125%\">What are we going to cover?</p>"
   ]
  },
  {
   "cell_type": "markdown",
   "id": "7abac222",
   "metadata": {
    "slideshow": {
     "slide_type": "fragment"
    }
   },
   "source": [
    "<ul>\n",
    "    <li style=\"color: #ff5200\"><p style=\"font-family: Montserrat; color: #203443\">How can we download a File from Drive using the Drive API via the LUSID website?</p></li>\n",
    "</ul>"
   ]
  },
  {
   "cell_type": "markdown",
   "id": "7d1d35b9",
   "metadata": {
    "slideshow": {
     "slide_type": "fragment"
    }
   },
   "source": [
    "<ul>\n",
    "    <li style=\"color: #ff5200\"><p style=\"font-family: Montserrat; color: #203443\">How can we get a permanent link to a File in Drive using the LUSID website?</p></li>\n",
    "</ul>"
   ]
  },
  {
   "cell_type": "markdown",
   "id": "97504bfa",
   "metadata": {
    "slideshow": {
     "slide_type": "subslide"
    }
   },
   "source": [
    "<ul>\n",
    "    <li style=\"color: #ff5200\"><p style=\"font-family: Montserrat; color: #203443\">How can we download a File from Drive using the Drive API via the Python SDK?</p></li>\n",
    "</ul>"
   ]
  },
  {
   "cell_type": "markdown",
   "id": "1aeccd0b",
   "metadata": {
    "slideshow": {
     "slide_type": "fragment"
    }
   },
   "source": [
    "<ul>\n",
    "    <li style=\"color: #ff5200\"><p style=\"font-family: Montserrat; color: #203443\">How does automated virus scanning affect the ability to download Files?</p></li>\n",
    "</ul>"
   ]
  },
  {
   "cell_type": "markdown",
   "id": "305a8e1a",
   "metadata": {
    "slideshow": {
     "slide_type": "subslide"
    }
   },
   "source": [
    "<ul>\n",
    "    <li style=\"color: #ff5200\"><p style=\"font-family: Montserrat; color: #203443\">How can we inspect the metadata associated with a File?</p></li>\n",
    "</ul>"
   ]
  },
  {
   "cell_type": "markdown",
   "id": "d93f433d",
   "metadata": {
    "slideshow": {
     "slide_type": "slide"
    }
   },
   "source": [
    "<p style=\"font-family: Montserrat; color: #203443; font-weight: bold; font-size: 125%\">Downloading Files</p>"
   ]
  },
  {
   "cell_type": "code",
   "execution_count": 2,
   "id": "1e1775bd",
   "metadata": {
    "slideshow": {
     "slide_type": "subslide"
    }
   },
   "outputs": [],
   "source": [
    "import pprint\n",
    "\n",
    "import lusid_drive\n",
    "from lusidjam import RefreshingToken\n",
    "from lusid_drive.utilities import ApiClientFactory\n",
    "\n",
    "api_factory_notifications = ApiClientFactory(token=RefreshingToken())\n",
    "\n",
    "files_api = api_factory_notifications.build(lusid_drive.api.FilesApi)\n",
    "search_api = api_factory_notifications.build(lusid_drive.api.SearchApi)\n"
   ]
  },
  {
   "cell_type": "code",
   "execution_count": 3,
   "id": "7b694f85",
   "metadata": {
    "slideshow": {
     "slide_type": "skip"
    }
   },
   "outputs": [
    {
     "name": "stdout",
     "output_type": "stream",
     "text": [
      "{'created_by': '00u89xerfkS08fj6e2p7',\n",
      " 'created_on': datetime.datetime(2023, 2, 23, 5, 34, 55, 648062, tzinfo=tzlocal()),\n",
      " 'id': '204a4bba-00c6-4882-a3c5-9d9454708076',\n",
      " 'links': [{'description': 'Download this file',\n",
      "            'href': 'https://demo.lusid.com/drive/api/files/204a4bba-00c6-4882-a3c5-9d9454708076/contents',\n",
      "            'method': 'GET',\n",
      "            'relation': 'Downloads'},\n",
      "           {'description': 'The folder in which this file resides',\n",
      "            'href': 'https://demo.lusid.com/drive/api/folders/95642015-e3c3-45a7-b3d4-dc6f5599beb5/folders',\n",
      "            'method': 'GET',\n",
      "            'relation': 'Folder'},\n",
      "           {'description': 'A link to the LUSID Insights website showing all '\n",
      "                           'logs related to this request',\n",
      "            'href': 'http://demo.lusid.com/app/insights/logs/0HMOKSSBM6JBP:00000003',\n",
      "            'method': 'GET',\n",
      "            'relation': 'RequestLogs'}],\n",
      " 'name': 'Readmev2.txt',\n",
      " 'path': '/FinbourneUniversity',\n",
      " 'size': 36,\n",
      " 'status': 'Checking',\n",
      " 'status_detail': None,\n",
      " 'type': 'File',\n",
      " 'updated_by': '00u89xerfkS08fj6e2p7',\n",
      " 'updated_on': datetime.datetime(2023, 2, 23, 5, 34, 55, 648062, tzinfo=tzlocal())}\n"
     ]
    }
   ],
   "source": [
    "# Ensure the files we create never exist before creation\n",
    "search_response = search_api.search(search_body=lusid_drive.SearchBody(\n",
    "    name=\"Readmev2.txt\"\n",
    "    )\n",
    ")\n",
    "\n",
    "for file in search_response.values:\n",
    "    files_api.delete_file(\n",
    "        id=file.id\n",
    "    )\n",
    "    \n",
    "search_response = search_api.search(search_body=lusid_drive.SearchBody(\n",
    "    name=\"MalwareTestFile.txt\"\n",
    "    )\n",
    ")\n",
    "\n",
    "for file in search_response.values:\n",
    "    files_api.delete_file(\n",
    "        id=file.id\n",
    "    )\n",
    "    \n",
    "\n",
    "with open(\"./data/Readme.txt\", 'r') as file:\n",
    "    readme_file = file.read()\n",
    "\n",
    "readme_file_encoded = readme_file.encode('utf-8')\n",
    "\n",
    "create_response = files_api.create_file(\n",
    "    x_lusid_drive_filename=\"Readmev2.txt\",\n",
    "    x_lusid_drive_path=\"FinbourneUniversity\",\n",
    "    content_length=len(readme_file_encoded),\n",
    "    body=readme_file_encoded)\n",
    "\n",
    "pprint.pprint(create_response)"
   ]
  },
  {
   "cell_type": "code",
   "execution_count": 4,
   "id": "ecbf98ca",
   "metadata": {
    "slideshow": {
     "slide_type": "subslide"
    }
   },
   "outputs": [
    {
     "name": "stdout",
     "output_type": "stream",
     "text": [
      "{'href': 'https://demo.lusid.com/drive/api/search?filter=&page=yAAAAAAAAAA%3D',\n",
      " 'links': [{'description': 'A link to the LUSID Insights website showing all '\n",
      "                           'logs related to this request',\n",
      "            'href': 'http://demo.lusid.com/app/insights/logs/0HMOKSSVBR2MI:00000003',\n",
      "            'method': 'GET',\n",
      "            'relation': 'RequestLogs'}],\n",
      " 'next_page': None,\n",
      " 'previous_page': None,\n",
      " 'values': [{'created_by': '00u89xerfkS08fj6e2p7',\n",
      "             'created_on': datetime.datetime(2023, 2, 23, 5, 34, 55, 767135, tzinfo=tzlocal()),\n",
      "             'id': '204a4bba-00c6-4882-a3c5-9d9454708076',\n",
      "             'links': None,\n",
      "             'name': 'Readmev2.txt',\n",
      "             'path': '/FinbourneUniversity',\n",
      "             'size': 36,\n",
      "             'status': 'Checking',\n",
      "             'status_detail': None,\n",
      "             'type': 'File',\n",
      "             'updated_by': '00u89xerfkS08fj6e2p7',\n",
      "             'updated_on': datetime.datetime(2023, 2, 23, 5, 34, 55, 767135, tzinfo=tzlocal())}]}\n"
     ]
    }
   ],
   "source": [
    "search_response = search_api.search(search_body=lusid_drive.SearchBody(\n",
    "    name=\"Readmev2.txt\"\n",
    "    )\n",
    ")\n",
    "\n",
    "pprint.pprint(search_response)"
   ]
  },
  {
   "cell_type": "code",
   "execution_count": 5,
   "id": "01ffe7dd",
   "metadata": {
    "slideshow": {
     "slide_type": "subslide"
    }
   },
   "outputs": [
    {
     "data": {
      "text/plain": [
       "{'created_by': '00u89xerfkS08fj6e2p7',\n",
       " 'created_on': datetime.datetime(2023, 2, 23, 5, 34, 55, 767135, tzinfo=tzlocal()),\n",
       " 'id': '204a4bba-00c6-4882-a3c5-9d9454708076',\n",
       " 'links': [{'description': 'Download this file',\n",
       "            'href': 'https://demo.lusid.com/drive/api/files/204a4bba-00c6-4882-a3c5-9d9454708076/contents',\n",
       "            'method': 'GET',\n",
       "            'relation': 'Downloads'},\n",
       "           {'description': 'The folder in which this file resides',\n",
       "            'href': 'https://demo.lusid.com/drive/api/folders/95642015-e3c3-45a7-b3d4-dc6f5599beb5/folders',\n",
       "            'method': 'GET',\n",
       "            'relation': 'Folder'},\n",
       "           {'description': 'A link to the LUSID Insights website showing all '\n",
       "                           'logs related to this request',\n",
       "            'href': 'http://demo.lusid.com/app/insights/logs/0HMOKSRFQ9QCQ:00000004',\n",
       "            'method': 'GET',\n",
       "            'relation': 'RequestLogs'}],\n",
       " 'name': 'Readmev2.txt',\n",
       " 'path': '/FinbourneUniversity',\n",
       " 'size': 36,\n",
       " 'status': 'Checking',\n",
       " 'status_detail': None,\n",
       " 'type': 'File',\n",
       " 'updated_by': '00u89xerfkS08fj6e2p7',\n",
       " 'updated_on': datetime.datetime(2023, 2, 23, 5, 34, 55, 767135, tzinfo=tzlocal())}"
      ]
     },
     "execution_count": 5,
     "metadata": {},
     "output_type": "execute_result"
    }
   ],
   "source": [
    "files_api.get_file(id=search_response.values[0].id)"
   ]
  },
  {
   "cell_type": "code",
   "execution_count": 6,
   "id": "2d32995d",
   "metadata": {
    "slideshow": {
     "slide_type": "subslide"
    }
   },
   "outputs": [
    {
     "name": "stdout",
     "output_type": "stream",
     "text": [
      "'/tmp/Readmev2.txt;'\n"
     ]
    }
   ],
   "source": [
    "result = files_api.download_file(\n",
    "    id=search_response.values[0].id,\n",
    ")\n",
    "\n",
    "pprint.pprint(result)"
   ]
  },
  {
   "cell_type": "code",
   "execution_count": 7,
   "id": "d36e75a8",
   "metadata": {
    "slideshow": {
     "slide_type": "fragment"
    }
   },
   "outputs": [
    {
     "name": "stdout",
     "output_type": "stream",
     "text": [
      "'I have lots of cool information here'\n"
     ]
    }
   ],
   "source": [
    "with open(result, \"r\") as file:\n",
    "    downloaded_file = file.read()\n",
    "    \n",
    "pprint.pprint(downloaded_file)"
   ]
  },
  {
   "cell_type": "code",
   "execution_count": 8,
   "id": "29e77f26",
   "metadata": {
    "slideshow": {
     "slide_type": "subslide"
    }
   },
   "outputs": [
    {
     "name": "stdout",
     "output_type": "stream",
     "text": [
      "b'I have lots of cool information here'\n"
     ]
    }
   ],
   "source": [
    "result = files_api.download_file(\n",
    "    id=search_response.values[0].id,\n",
    "    _preload_content=False)\n",
    "\n",
    "pprint.pprint(result.data)"
   ]
  },
  {
   "cell_type": "markdown",
   "id": "a6cb383d",
   "metadata": {
    "slideshow": {
     "slide_type": "slide"
    }
   },
   "source": [
    "<p style=\"font-family: Montserrat; color: #203443; font-weight: bold; font-size: 125%\">Virus Scanning</p>"
   ]
  },
  {
   "cell_type": "code",
   "execution_count": 9,
   "id": "3a6559d3",
   "metadata": {
    "slideshow": {
     "slide_type": "subslide"
    }
   },
   "outputs": [
    {
     "data": {
      "text/plain": [
       "{'created_by': '00u89xerfkS08fj6e2p7',\n",
       " 'created_on': datetime.datetime(2023, 2, 23, 5, 34, 55, 767135, tzinfo=tzlocal()),\n",
       " 'id': '204a4bba-00c6-4882-a3c5-9d9454708076',\n",
       " 'links': [{'description': 'Download this file',\n",
       "            'href': 'https://demo.lusid.com/drive/api/files/204a4bba-00c6-4882-a3c5-9d9454708076/contents',\n",
       "            'method': 'GET',\n",
       "            'relation': 'Downloads'},\n",
       "           {'description': 'The folder in which this file resides',\n",
       "            'href': 'https://demo.lusid.com/drive/api/folders/95642015-e3c3-45a7-b3d4-dc6f5599beb5/folders',\n",
       "            'method': 'GET',\n",
       "            'relation': 'Folder'},\n",
       "           {'description': 'A link to the LUSID Insights website showing all '\n",
       "                           'logs related to this request',\n",
       "            'href': 'http://demo.lusid.com/app/insights/logs/0HMOKSSBM6JBP:00000005',\n",
       "            'method': 'GET',\n",
       "            'relation': 'RequestLogs'}],\n",
       " 'name': 'Readmev2.txt',\n",
       " 'path': '/FinbourneUniversity',\n",
       " 'size': 36,\n",
       " 'status': 'Available',\n",
       " 'status_detail': '/tmp/Contents-demo-204a4bba-00c6-4882-a3c5-9d9454708076: OK',\n",
       " 'type': 'File',\n",
       " 'updated_by': '00u89xerfkS08fj6e2p7',\n",
       " 'updated_on': datetime.datetime(2023, 2, 23, 5, 34, 55, 767135, tzinfo=tzlocal())}"
      ]
     },
     "execution_count": 9,
     "metadata": {},
     "output_type": "execute_result"
    }
   ],
   "source": [
    "files_api.get_file(id=search_response.values[0].id)"
   ]
  },
  {
   "cell_type": "code",
   "execution_count": 10,
   "id": "c689a3cd",
   "metadata": {
    "slideshow": {
     "slide_type": "subslide"
    }
   },
   "outputs": [
    {
     "name": "stdout",
     "output_type": "stream",
     "text": [
      "b'X5O!P%@AP[4\\\\PZX54(P^)7CC)7}$EICAR-STANDARD-ANTIVIRUS-TEST-FILE!$H+H*'\n",
      "Content Length: 68 bytes\n"
     ]
    }
   ],
   "source": [
    "readme_file_eicar_encoded = \"X5O!P%@AP[4\\PZX54(P^)7CC)7}$EICAR-STANDARD-ANTIVIRUS-TEST-FILE!$H+H*\".encode('utf-8')\n",
    "\n",
    "print(readme_file_eicar_encoded)\n",
    "print(f\"Content Length: {len(readme_file_eicar_encoded)} bytes\")"
   ]
  },
  {
   "cell_type": "code",
   "execution_count": 11,
   "id": "c89ff5ed",
   "metadata": {
    "slideshow": {
     "slide_type": "subslide"
    }
   },
   "outputs": [
    {
     "name": "stdout",
     "output_type": "stream",
     "text": [
      "{'created_by': '00u89xerfkS08fj6e2p7',\n",
      " 'created_on': datetime.datetime(2023, 2, 23, 5, 35, 6, 381008, tzinfo=tzlocal()),\n",
      " 'id': 'cd5fbdef-c912-449a-bb9d-f3d009e31724',\n",
      " 'links': [{'description': 'Download this file',\n",
      "            'href': 'https://demo.lusid.com/drive/api/files/cd5fbdef-c912-449a-bb9d-f3d009e31724/contents',\n",
      "            'method': 'GET',\n",
      "            'relation': 'Downloads'},\n",
      "           {'description': 'The folder in which this file resides',\n",
      "            'href': 'https://demo.lusid.com/drive/api/folders/95642015-e3c3-45a7-b3d4-dc6f5599beb5/folders',\n",
      "            'method': 'GET',\n",
      "            'relation': 'Folder'},\n",
      "           {'description': 'A link to the LUSID Insights website showing all '\n",
      "                           'logs related to this request',\n",
      "            'href': 'http://demo.lusid.com/app/insights/logs/0HMOKSSVBR2MI:00000005',\n",
      "            'method': 'GET',\n",
      "            'relation': 'RequestLogs'}],\n",
      " 'name': 'MalwareTestFile.txt',\n",
      " 'path': '/FinbourneUniversity',\n",
      " 'size': 68,\n",
      " 'status': 'Checking',\n",
      " 'status_detail': None,\n",
      " 'type': 'File',\n",
      " 'updated_by': '00u89xerfkS08fj6e2p7',\n",
      " 'updated_on': datetime.datetime(2023, 2, 23, 5, 35, 6, 381008, tzinfo=tzlocal())}\n"
     ]
    }
   ],
   "source": [
    "create_response = files_api.create_file(\n",
    "    x_lusid_drive_filename=\"MalwareTestFile.txt\",\n",
    "    x_lusid_drive_path=\"FinbourneUniversity\",\n",
    "    content_length=len(readme_file_eicar_encoded),\n",
    "    body=readme_file_eicar_encoded)\n",
    "\n",
    "pprint.pprint(create_response)"
   ]
  },
  {
   "cell_type": "code",
   "execution_count": 12,
   "id": "f34054d1",
   "metadata": {
    "slideshow": {
     "slide_type": "subslide"
    }
   },
   "outputs": [
    {
     "data": {
      "text/plain": [
       "{'created_by': '00u89xerfkS08fj6e2p7',\n",
       " 'created_on': datetime.datetime(2023, 2, 23, 5, 35, 6, 514497, tzinfo=tzlocal()),\n",
       " 'id': 'cd5fbdef-c912-449a-bb9d-f3d009e31724',\n",
       " 'links': [{'description': 'Download this file',\n",
       "            'href': 'https://demo.lusid.com/drive/api/files/cd5fbdef-c912-449a-bb9d-f3d009e31724/contents',\n",
       "            'method': 'GET',\n",
       "            'relation': 'Downloads'},\n",
       "           {'description': 'The folder in which this file resides',\n",
       "            'href': 'https://demo.lusid.com/drive/api/folders/95642015-e3c3-45a7-b3d4-dc6f5599beb5/folders',\n",
       "            'method': 'GET',\n",
       "            'relation': 'Folder'},\n",
       "           {'description': 'A link to the LUSID Insights website showing all '\n",
       "                           'logs related to this request',\n",
       "            'href': 'http://demo.lusid.com/app/insights/logs/0HMOKSRFQ9QCQ:00000006',\n",
       "            'method': 'GET',\n",
       "            'relation': 'RequestLogs'}],\n",
       " 'name': 'MalwareTestFile.txt',\n",
       " 'path': '/FinbourneUniversity',\n",
       " 'size': 68,\n",
       " 'status': 'Checking',\n",
       " 'status_detail': None,\n",
       " 'type': 'File',\n",
       " 'updated_by': '00u89xerfkS08fj6e2p7',\n",
       " 'updated_on': datetime.datetime(2023, 2, 23, 5, 35, 6, 514497, tzinfo=tzlocal())}"
      ]
     },
     "execution_count": 12,
     "metadata": {},
     "output_type": "execute_result"
    }
   ],
   "source": [
    "files_api.get_file(id=create_response.id)\n"
   ]
  },
  {
   "cell_type": "code",
   "execution_count": 13,
   "id": "a32f2c49",
   "metadata": {
    "slideshow": {
     "slide_type": "subslide"
    }
   },
   "outputs": [
    {
     "name": "stdout",
     "output_type": "stream",
     "text": [
      "(410)\n",
      "Reason: Gone\n",
      "HTTP response headers: HTTPHeaderDict({'Date': 'Thu, 23 Feb 2023 05:35:16 GMT', 'Content-Type': 'application/problem+json', 'Transfer-Encoding': 'chunked', 'Connection': 'keep-alive', 'drive-meta-success': 'False', 'drive-meta-requestId': '0HMOKSSVBR2MI:00000006', 'lusid-meta-correlationId': '0HMOKSSVBR2MI:00000006', 'drive-meta-duration': '134', 'Strict-Transport-Security': 'max-age=15724800; includeSubDomains', 'Server': 'FINBOURNE', 'Content-Security-Policy': \"default-src 'self' https://*.lusid.com https://*.finbourne.com; script-src 'unsafe-inline' 'self' https://*.lusid.com https://*.finbourne.com; script-src-elem 'unsafe-inline' 'self' https://*.lusid.com https://*.finbourne.com; font-src 'self' fonts.googleapis.com; img-src data: 'self' https://validator.swagger.io https://*.lusid.com https://*.finbourne.com; style-src 'unsafe-inline' 'self' https://*.lusid.com https://*.finbourne.com; style-src-attr 'unsafe-inline' 'self' https://*.lusid.com https://*.finbourne.com; report-uri https://lusid.report-uri.com/r/d/csp/enforce\", 'X-Frame-Options': 'SAMEORIGIN', 'Permissions-Policy': 'accelerometer=(), ambient-light-sensor=(), autoplay=(self), battery=(), camera=(), cross-origin-isolated=(self), display-capture=(), document-domain=*, encrypted-media=(), execution-while-not-rendered=(), execution-while-out-of-viewport=(), fullscreen=(self), geolocation=(self), gyroscope=(), keyboard-map=(), magnetometer=(), microphone=(), midi=(), navigation-override=(), payment=(), picture-in-picture=(), publickey-credentials-get=(), screen-wake-lock=(), sync-xhr=(), usb=(), web-share=(), xr-spatial-tracking=()', 'Referrer-Policy': 'strict-origin-when-cross-origin', 'X-XSS-Protection': '1; mode=block', 'X-Content-Type-Options': 'nosniff', 'Expect-CT': \"max-age=3600, enforce, report-uri='https://lusid.report-uri.com/r/d/ct/enforce'\", 'Access-Control-Max-Age': '600'})\n",
      "HTTP response body: {\"name\":\"MalwareDetected\",\"errorDetails\":[],\"code\":715,\"type\":\"https://docs.lusid.com/#section/Error-Codes/715\",\"title\":\"Restricted from downloading file containing malware. File with Id cd5fbdef-c912-449a-bb9d-f3d009e31724\",\"status\":410,\"detail\":\"Restricted from downloading file containing malware. File with Id cd5fbdef-c912-449a-bb9d-f3d009e31724\",\"instance\":\"https://demo.lusid.com/app/insights/logs/0HMOKSSVBR2MI:00000006\",\"extensions\":{}}\n",
      "\n"
     ]
    }
   ],
   "source": [
    "try:\n",
    "    files_api.download_file(id=create_response.id)\n",
    "except lusid_drive.ApiException as e:\n",
    "    print(e)"
   ]
  },
  {
   "cell_type": "markdown",
   "id": "34962fc5",
   "metadata": {
    "slideshow": {
     "slide_type": "subslide"
    }
   },
   "source": [
    "<p style=\"text-align:center;\">\n",
    "    <img src=\"./data/DriveFileStatusFlow.png\" style=\"height:700px;\">\n",
    "</p>"
   ]
  },
  {
   "cell_type": "markdown",
   "id": "774da958",
   "metadata": {
    "slideshow": {
     "slide_type": "slide"
    }
   },
   "source": [
    "<p style=\"font-family: Montserrat; color: #203443; font-weight: bold; font-size: 125%\">Exploring File Metadata</p>"
   ]
  },
  {
   "cell_type": "code",
   "execution_count": 14,
   "id": "d3a39b21",
   "metadata": {
    "slideshow": {
     "slide_type": "subslide"
    }
   },
   "outputs": [
    {
     "data": {
      "text/plain": [
       "{'created_by': '00u89xerfkS08fj6e2p7',\n",
       " 'created_on': datetime.datetime(2023, 2, 23, 5, 35, 6, 514497, tzinfo=tzlocal()),\n",
       " 'id': 'cd5fbdef-c912-449a-bb9d-f3d009e31724',\n",
       " 'links': [{'description': 'Download this file',\n",
       "            'href': 'https://demo.lusid.com/drive/api/files/cd5fbdef-c912-449a-bb9d-f3d009e31724/contents',\n",
       "            'method': 'GET',\n",
       "            'relation': 'Downloads'},\n",
       "           {'description': 'The folder in which this file resides',\n",
       "            'href': 'https://demo.lusid.com/drive/api/folders/95642015-e3c3-45a7-b3d4-dc6f5599beb5/folders',\n",
       "            'method': 'GET',\n",
       "            'relation': 'Folder'},\n",
       "           {'description': 'A link to the LUSID Insights website showing all '\n",
       "                           'logs related to this request',\n",
       "            'href': 'http://demo.lusid.com/app/insights/logs/0HMOKSRFQ9QCQ:00000007',\n",
       "            'method': 'GET',\n",
       "            'relation': 'RequestLogs'}],\n",
       " 'name': 'MalwareTestFile.txt',\n",
       " 'path': '/FinbourneUniversity',\n",
       " 'size': 68,\n",
       " 'status': 'MalwareDetected',\n",
       " 'status_detail': '/tmp/Contents-demo-cd5fbdef-c912-449a-bb9d-f3d009e31724: '\n",
       "                  'Win.Test.EICAR_HDB-1 FOUND',\n",
       " 'type': 'File',\n",
       " 'updated_by': '00u89xerfkS08fj6e2p7',\n",
       " 'updated_on': datetime.datetime(2023, 2, 23, 5, 35, 6, 514497, tzinfo=tzlocal())}"
      ]
     },
     "execution_count": 14,
     "metadata": {},
     "output_type": "execute_result"
    }
   ],
   "source": [
    "files_api.get_file(id=create_response.id)\n"
   ]
  },
  {
   "cell_type": "code",
   "execution_count": 15,
   "id": "ce0d543e",
   "metadata": {
    "slideshow": {
     "slide_type": "skip"
    }
   },
   "outputs": [],
   "source": [
    "files_api.delete_file(\n",
    "    id=create_response.id)\n",
    "\n",
    "files_api.delete_file(\n",
    "    id=search_response.values[0].id)"
   ]
  },
  {
   "cell_type": "markdown",
   "id": "3a30b680",
   "metadata": {
    "slideshow": {
     "slide_type": "slide"
    }
   },
   "source": [
    "<p style=\"font-family: Montserrat; color: #203443; font-weight: bold; font-size: 125%\">What have we covered?</p>"
   ]
  },
  {
   "cell_type": "markdown",
   "id": "be8a7963",
   "metadata": {
    "slideshow": {
     "slide_type": "fragment"
    }
   },
   "source": [
    "<ul>\n",
    "    <li style=\"color: #ff5200\"><p style=\"font-family: Montserrat; color: #203443\">We downloaded a File using the Drive API via the LUSID website.</p></li>\n",
    "</ul>"
   ]
  },
  {
   "cell_type": "markdown",
   "id": "76290621",
   "metadata": {
    "slideshow": {
     "slide_type": "fragment"
    }
   },
   "source": [
    "<ul>\n",
    "    <li style=\"color: #ff5200\"><p style=\"font-family: Montserrat; color: #203443\">We saw how we can get a permanent link to a File in the LUSID website.</p></li>\n",
    "</ul>"
   ]
  },
  {
   "cell_type": "markdown",
   "id": "fbd46722",
   "metadata": {
    "slideshow": {
     "slide_type": "subslide"
    }
   },
   "source": [
    "<ul>\n",
    "    <li style=\"color: #ff5200\"><p style=\"font-family: Montserrat; color: #203443\">We downloaded a File using the Drive API via the Python SDK.</p></li>\n",
    "</ul>"
   ]
  },
  {
   "cell_type": "markdown",
   "id": "e5660547",
   "metadata": {
    "slideshow": {
     "slide_type": "fragment"
    }
   },
   "source": [
    "<ul>\n",
    "    <li style=\"color: #ff5200\"><p style=\"font-family: Montserrat; color: #203443\">We saw that the downloaded File can be saved as a temporary file or left in-memory.</p></li>\n",
    "</ul>"
   ]
  },
  {
   "cell_type": "markdown",
   "id": "3b7947dd",
   "metadata": {
    "slideshow": {
     "slide_type": "fragment"
    }
   },
   "source": [
    "<ul>\n",
    "    <li style=\"color: #ff5200\"><p style=\"font-family: Montserrat; color: #203443\">We explored the metadata that is available on a File.</p></li>\n",
    "</ul>"
   ]
  },
  {
   "cell_type": "markdown",
   "id": "3a25d977",
   "metadata": {
    "slideshow": {
     "slide_type": "subslide"
    }
   },
   "source": [
    "<ul>\n",
    "    <li style=\"color: #ff5200\"><p style=\"font-family: Montserrat; color: #203443\">We understood that Files cannot be downloaded while a virus scan is in progress, if a virus scan fails or if malware is detected.</p></li>\n",
    "</ul>"
   ]
  },
  {
   "cell_type": "markdown",
   "id": "e04a9913",
   "metadata": {
    "slideshow": {
     "slide_type": "fragment"
    }
   },
   "source": [
    "<ul>\n",
    "    <li style=\"color: #ff5200\"><p style=\"font-family: Montserrat; color: #203443\">We updated the contents of a File to be the EICAR (European Institute for Computer Antivirus Research) test file and saw what happens when Malware is detected.</p></li>\n",
    "</ul>"
   ]
  }
 ],
 "metadata": {
  "celltoolbar": "Slideshow",
  "kernelspec": {
   "display_name": "Python 3 (ipykernel)",
   "language": "python",
   "name": "python3"
  },
  "language_info": {
   "codemirror_mode": {
    "name": "ipython",
    "version": 3
   },
   "file_extension": ".py",
   "mimetype": "text/x-python",
   "name": "python",
   "nbconvert_exporter": "python",
   "pygments_lexer": "ipython3",
   "version": "3.9.7"
  },
  "toc": {
   "base_numbering": 1,
   "nav_menu": {},
   "number_sections": false,
   "sideBar": true,
   "skip_h1_title": false,
   "title_cell": "Table of Contents",
   "title_sidebar": "Contents",
   "toc_cell": false,
   "toc_position": {},
   "toc_section_display": true,
   "toc_window_display": false
  },
  "varInspector": {
   "cols": {
    "lenName": 16,
    "lenType": 16,
    "lenVar": 40
   },
   "kernels_config": {
    "python": {
     "delete_cmd_postfix": "",
     "delete_cmd_prefix": "del ",
     "library": "var_list.py",
     "varRefreshCmd": "print(var_dic_list())"
    },
    "r": {
     "delete_cmd_postfix": ") ",
     "delete_cmd_prefix": "rm(",
     "library": "var_list.r",
     "varRefreshCmd": "cat(var_dic_list()) "
    }
   },
   "types_to_exclude": [
    "module",
    "function",
    "builtin_function_or_method",
    "instance",
    "_Feature"
   ],
   "window_display": false
  }
 },
 "nbformat": 4,
 "nbformat_minor": 5
}
