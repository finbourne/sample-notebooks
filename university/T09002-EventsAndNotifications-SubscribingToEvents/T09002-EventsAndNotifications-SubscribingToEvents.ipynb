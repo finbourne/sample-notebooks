{
 "cells": [
  {
   "cell_type": "markdown",
   "id": "70368d5d",
   "metadata": {
    "slideshow": {
     "slide_type": "skip"
    }
   },
   "source": [
    "Select this slide when playing slideshow"
   ]
  },
  {
   "cell_type": "code",
   "execution_count": 1,
   "id": "3b082366",
   "metadata": {},
   "outputs": [],
   "source": [
    "#Setup\n",
    "import pandas as pd\n",
    "import os\n",
    "\n",
    "pd.set_option(\"display.max_columns\", None)\n",
    "pd.set_option(\"display.max_rows\", None)\n",
    "pd.options.display.float_format = \"{:,.2f}\".format"
   ]
  },
  {
   "cell_type": "markdown",
   "id": "2e015bad",
   "metadata": {
    "slideshow": {
     "slide_type": "slide"
    }
   },
   "source": [
    "<p style=\"font-family: Montserrat; color: #203443; font-weight: bold; font-size: 125%\">What are we going to cover?</p>"
   ]
  },
  {
   "cell_type": "markdown",
   "id": "25adb718",
   "metadata": {
    "slideshow": {
     "slide_type": "fragment"
    }
   },
   "source": [
    "<p style=\"font-family: Montserrat; color: #203443\">- What is a subscription?</p>"
   ]
  },
  {
   "cell_type": "markdown",
   "id": "7ebf5058",
   "metadata": {
    "slideshow": {
     "slide_type": "fragment"
    }
   },
   "source": [
    "<p style=\"font-family: Montserrat; color: #203443\">- How can we subscribe to events using the Notifications Application Programming Interface (API) via the LUSID Website?</p>"
   ]
  },
  {
   "cell_type": "markdown",
   "id": "b5f71d5c",
   "metadata": {
    "slideshow": {
     "slide_type": "fragment"
    }
   },
   "source": [
    "<p style=\"font-family: Montserrat; color: #203443\">- How can we update a subscription to include a filter on the events of interest using the Notifications API via the Python SDK?</p>"
   ]
  },
  {
   "cell_type": "markdown",
   "id": "6e692c6a",
   "metadata": {
    "slideshow": {
     "slide_type": "slide"
    }
   },
   "source": [
    "<p style=\"font-family: Montserrat; color: #203443; font-weight: bold; font-size: 125%\">So what is a subscription?</p>"
   ]
  },
  {
   "cell_type": "markdown",
   "id": "f6a96caa",
   "metadata": {
    "slideshow": {
     "slide_type": "fragment"
    }
   },
   "source": [
    "<p style=\"font-family: Montserrat; color: #203443\">- Rather than being triggered directly off the back of an event, notifications (webhooks, emails, text message etc.) are triggered based on a subscription.</p>"
   ]
  },
  {
   "cell_type": "markdown",
   "id": "1b8ad412",
   "metadata": {
    "slideshow": {
     "slide_type": "fragment"
    }
   },
   "source": [
    "<p style=\"font-family: Montserrat; color: #203443\">- A subscription is linked to a single type of event, you cannot have a subscription linked to multiple event types.</p>"
   ]
  },
  {
   "cell_type": "markdown",
   "id": "d27af6bc",
   "metadata": {
    "slideshow": {
     "slide_type": "fragment"
    }
   },
   "source": [
    "<p style=\"font-family: Montserrat; color: #203443\">- You can create as many subscriptions as you like to a particular event type. You can subscribe every time the event occurs, or filter on event properties to subscribe only in a particular set of circumstances.</p>"
   ]
  },
  {
   "cell_type": "markdown",
   "id": "b124121d",
   "metadata": {
    "slideshow": {
     "slide_type": "fragment"
    }
   },
   "source": [
    "<p style=\"font-family: Montserrat; color: #203443\">- You can create as many notifications as you like and attach them to a subscription.</p>"
   ]
  },
  {
   "cell_type": "markdown",
   "id": "9ad84a80",
   "metadata": {
    "slideshow": {
     "slide_type": "slide"
    }
   },
   "source": [
    "<p style=\"font-family: Montserrat; color: #203443; font-weight: bold; font-size: 125%\">Updating a subscription</p>"
   ]
  },
  {
   "cell_type": "code",
   "execution_count": 2,
   "id": "cedad935",
   "metadata": {
    "slideshow": {
     "slide_type": "fragment"
    }
   },
   "outputs": [],
   "source": [
    "import pprint\n",
    "\n",
    "import lusid_notifications\n",
    "from lusidjam import RefreshingToken\n",
    "import fbnsdkutilities.utilities as utils\n",
    "\n",
    "lusid_api_url = os.environ[\"FBN_LUSID_API_URL\"]\n",
    "notifications_api_url = lusid_api_url[: lusid_api_url.rfind(\"/\") + 1] + \"notifications\"\n",
    "os.environ[\"FBN_NOTIFICATIONS_API_URL\"] = notifications_api_url\n",
    "\n",
    "api_factory = utils.ApiClientFactory(lusid_notifications, token=RefreshingToken())\n",
    "event_types_api = api_factory.build(lusid_notifications.api.EventTypesApi)\n",
    "subscriptions_api = api_factory.build(lusid_notifications.api.SubscriptionsApi)"
   ]
  },
  {
   "cell_type": "code",
   "execution_count": 3,
   "id": "d701e971",
   "metadata": {
    "slideshow": {
     "slide_type": "skip"
    }
   },
   "outputs": [
    {
     "data": {
      "text/plain": [
       "{'created_at': datetime.datetime(2023, 5, 10, 9, 13, 26, 340745, tzinfo=tzlocal()),\n",
       " 'created_by': '00u4edvny74dXgwzK2p7',\n",
       " 'description': 'A Portfolio has been Created',\n",
       " 'display_name': 'Portfolio Created',\n",
       " 'id': {'code': 'PortfolioCreated', 'scope': 'FinbourneUniversity'},\n",
       " 'last_modified_at': datetime.datetime(2023, 5, 10, 9, 13, 26, 340745, tzinfo=tzlocal()),\n",
       " 'last_modified_by': '00u4edvny74dXgwzK2p7',\n",
       " 'matching_pattern': {'event_type': 'TransactionPortfolioCreated',\n",
       "                      'filter': None},\n",
       " 'status': 'Active'}"
      ]
     },
     "execution_count": 3,
     "metadata": {},
     "output_type": "execute_result"
    }
   ],
   "source": [
    "try:\n",
    "    subscriptions_api.get_subscription(\n",
    "        scope=\"FinbourneUniversity\",\n",
    "        code=\"PortfolioCreated\")\n",
    "    \n",
    "    subscriptions_api.delete_subscription(\n",
    "        scope=\"FinbourneUniversity\",\n",
    "        code=\"PortfolioCreated\"\n",
    "    )\n",
    "    \n",
    "except lusid_notifications.ApiException as api_exception:\n",
    "    if api_exception.status == 404:\n",
    "        pass\n",
    "    else:\n",
    "        raise\n",
    "        \n",
    "subscriptions_api.create_subscription(\n",
    "    create_subscription=lusid_notifications.CreateSubscription(\n",
    "        id=lusid_notifications.ResourceId(\n",
    "            scope=\"FinbourneUniversity\",\n",
    "            code=\"PortfolioCreated\",\n",
    "        ),\n",
    "        display_name=\"Portfolio Created\",\n",
    "        description=\"A Portfolio has been Created\",\n",
    "        status=\"Active\",\n",
    "        matching_pattern=lusid_notifications.MatchingPattern(\n",
    "            event_type=\"TransactionPortfolioCreated\",\n",
    "            filter=None\n",
    "        )\n",
    "    )\n",
    ")"
   ]
  },
  {
   "cell_type": "code",
   "execution_count": 4,
   "id": "2f54e10e",
   "metadata": {
    "slideshow": {
     "slide_type": "subslide"
    }
   },
   "outputs": [
    {
     "name": "stdout",
     "output_type": "stream",
     "text": [
      "{'href': 'https://fbn-ci.lusid.com/notifications/api/subscriptions/?filter=id.scope%20eq%20%27FinbourneUniversity%27&sortBy=&limit=2000&page=0AcAACEAaWQuc2NvcGUgZXEgJ0ZpbmJvdXJuZVVuaXZlcnNpdHknAAA%3D',\n",
      " 'links': [{'description': 'A link to the LUSID Insights website showing all '\n",
      "                           'logs related to this request',\n",
      "            'href': 'http://fbn-ci.lusid.com/app/insights/logs/0HMQDD84SN29U:00000002',\n",
      "            'method': 'GET',\n",
      "            'relation': 'RequestLogs'}],\n",
      " 'next_page': None,\n",
      " 'previous_page': None,\n",
      " 'values': [{'created_at': datetime.datetime(2023, 5, 10, 9, 13, 26, 340745, tzinfo=tzlocal()),\n",
      "             'created_by': '00u4edvny74dXgwzK2p7',\n",
      "             'description': 'A Portfolio has been Created',\n",
      "             'display_name': 'Portfolio Created',\n",
      "             'id': {'code': 'PortfolioCreated', 'scope': 'FinbourneUniversity'},\n",
      "             'last_modified_at': datetime.datetime(2023, 5, 10, 9, 13, 26, 340745, tzinfo=tzlocal()),\n",
      "             'last_modified_by': '00u4edvny74dXgwzK2p7',\n",
      "             'matching_pattern': {'event_type': 'TransactionPortfolioCreated',\n",
      "                                  'filter': None},\n",
      "             'status': 'Active'}]}\n"
     ]
    }
   ],
   "source": [
    "response = subscriptions_api.list_subscriptions(filter=\"id.scope eq 'FinbourneUniversity'\")\n",
    "pprint.pprint(response)"
   ]
  },
  {
   "cell_type": "code",
   "execution_count": 5,
   "id": "0f54b3fe",
   "metadata": {
    "scrolled": false,
    "slideshow": {
     "slide_type": "subslide"
    }
   },
   "outputs": [
    {
     "name": "stdout",
     "output_type": "stream",
     "text": [
      "[{'application': 'Lusid',\n",
      " 'description': 'An event of this type is fired whenever a new transaction '\n",
      "                'portfolio is created in LUSID',\n",
      " 'entity': None,\n",
      " 'event_name': 'Transaction Portfolio Created',\n",
      " 'id': 'TransactionPortfolioCreated',\n",
      " 'json_schema': {'properties': {'PortfolioCode': {'type': 'string'},\n",
      "                                'PortfolioCreated': {'format': 'date-time',\n",
      "                                                     'type': 'string'},\n",
      "                                'PortfolioDisplayName': {'type': 'string'},\n",
      "                                'PortfolioScope': {'type': 'string'}},\n",
      "                 'required': ['PortfolioDisplayName',\n",
      "                              'PortfolioScope',\n",
      "                              'PortfolioCode',\n",
      "                              'PortfolioCreated']}}]\n"
     ]
    }
   ],
   "source": [
    "event_types = event_types_api.list_event_types().values\n",
    "pprint.pprint([event_type for event_type in event_types if event_type.id == \"TransactionPortfolioCreated\"])"
   ]
  },
  {
   "cell_type": "code",
   "execution_count": 6,
   "id": "20ecffd3",
   "metadata": {
    "slideshow": {
     "slide_type": "subslide"
    }
   },
   "outputs": [
    {
     "name": "stdout",
     "output_type": "stream",
     "text": [
      "{'created_at': datetime.datetime(2023, 5, 10, 9, 13, 26, 340745, tzinfo=tzlocal()),\n",
      " 'created_by': '00u4edvny74dXgwzK2p7',\n",
      " 'description': 'A Portfolio has been Created',\n",
      " 'display_name': 'Portfolio Created',\n",
      " 'id': {'code': 'PortfolioCreated', 'scope': 'FinbourneUniversity'},\n",
      " 'last_modified_at': datetime.datetime(2023, 5, 10, 9, 13, 26, 710654, tzinfo=tzlocal()),\n",
      " 'last_modified_by': '00u4edvny74dXgwzK2p7',\n",
      " 'matching_pattern': {'event_type': 'TransactionPortfolioCreated',\n",
      "                      'filter': \"PortfolioDisplayName eq 'GreatPortfolio'\"},\n",
      " 'status': 'Active'}\n"
     ]
    }
   ],
   "source": [
    "subscription = [sub for sub in response.values if sub.id.code == \"PortfolioCreated\"][0]\n",
    "\n",
    "updated_subscription_response = subscriptions_api.update_subscription(\n",
    "    scope=subscription.id.scope,\n",
    "    code=subscription.id.code,\n",
    "    update_subscription=lusid_notifications.UpdateSubscription(\n",
    "        display_name=subscription.display_name,\n",
    "        description=subscription.description,\n",
    "        status=subscription.status,\n",
    "        matching_pattern=lusid_notifications.MatchingPattern(\n",
    "            event_type=subscription.matching_pattern.event_type,\n",
    "            filter=\"PortfolioDisplayName eq 'GreatPortfolio'\"\n",
    "        )\n",
    "    )\n",
    ")\n",
    "\n",
    "pprint.pprint(updated_subscription_response)\n"
   ]
  },
  {
   "cell_type": "code",
   "execution_count": 7,
   "id": "d3bb84f8",
   "metadata": {
    "slideshow": {
     "slide_type": "skip"
    }
   },
   "outputs": [],
   "source": [
    "subscriptions_api.delete_subscription(\n",
    "    scope=updated_subscription_response.id.scope,\n",
    "    code=updated_subscription_response.id.code\n",
    ")"
   ]
  },
  {
   "cell_type": "markdown",
   "id": "55f14fe6",
   "metadata": {
    "slideshow": {
     "slide_type": "slide"
    }
   },
   "source": [
    "<p style=\"font-family: Montserrat; color: #203443; font-weight: bold; font-size: 125%\">What have we covered?</p>"
   ]
  },
  {
   "cell_type": "markdown",
   "id": "f6088601",
   "metadata": {
    "slideshow": {
     "slide_type": "fragment"
    }
   },
   "source": [
    "<p style=\"font-family: Montserrat; color: #203443\">- Subscriptions are required in order to setup notifications in response to events.</p>"
   ]
  },
  {
   "cell_type": "markdown",
   "id": "ca852db3",
   "metadata": {
    "slideshow": {
     "slide_type": "fragment"
    }
   },
   "source": [
    "<p style=\"font-family: Montserrat; color: #203443\">- A subscription is only linked to a single event type.</p>"
   ]
  },
  {
   "cell_type": "markdown",
   "id": "ed94d0a4",
   "metadata": {
    "slideshow": {
     "slide_type": "subslide"
    }
   },
   "source": [
    "<p style=\"font-family: Montserrat; color: #203443\">- A subscription can subscribe to all events of a particular type. We setup such a subscription using the Notifications API via the LUSID Website.</p>"
   ]
  },
  {
   "cell_type": "markdown",
   "id": "763479b1",
   "metadata": {
    "slideshow": {
     "slide_type": "fragment"
    }
   },
   "source": [
    "<p style=\"font-family: Montserrat; color: #203443\">- A subscription can also subscribe to a subset of events of a particulr type using a filter expression. We updated our subscription with such a filter using the Notifications API via the Python SDK.</p>"
   ]
  }
 ],
 "metadata": {
  "celltoolbar": "Slideshow",
  "kernelspec": {
   "display_name": "Python 3 (ipykernel)",
   "language": "python",
   "name": "python3"
  },
  "language_info": {
   "codemirror_mode": {
    "name": "ipython",
    "version": 3
   },
   "file_extension": ".py",
   "mimetype": "text/x-python",
   "name": "python",
   "nbconvert_exporter": "python",
   "pygments_lexer": "ipython3",
   "version": "3.10.10"
  },
  "toc": {
   "base_numbering": 1,
   "nav_menu": {},
   "number_sections": false,
   "sideBar": true,
   "skip_h1_title": false,
   "title_cell": "Table of Contents",
   "title_sidebar": "Contents",
   "toc_cell": false,
   "toc_position": {},
   "toc_section_display": true,
   "toc_window_display": false
  },
  "varInspector": {
   "cols": {
    "lenName": 16,
    "lenType": 16,
    "lenVar": 40
   },
   "kernels_config": {
    "python": {
     "delete_cmd_postfix": "",
     "delete_cmd_prefix": "del ",
     "library": "var_list.py",
     "varRefreshCmd": "print(var_dic_list())"
    },
    "r": {
     "delete_cmd_postfix": ") ",
     "delete_cmd_prefix": "rm(",
     "library": "var_list.r",
     "varRefreshCmd": "cat(var_dic_list()) "
    }
   },
   "types_to_exclude": [
    "module",
    "function",
    "builtin_function_or_method",
    "instance",
    "_Feature"
   ],
   "window_display": false
  }
 },
 "nbformat": 4,
 "nbformat_minor": 5
}
