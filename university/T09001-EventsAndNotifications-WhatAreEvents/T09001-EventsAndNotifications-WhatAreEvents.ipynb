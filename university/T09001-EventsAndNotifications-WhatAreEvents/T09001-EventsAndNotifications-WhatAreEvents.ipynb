{
 "cells": [
  {
   "cell_type": "markdown",
   "id": "70368d5d",
   "metadata": {
    "slideshow": {
     "slide_type": "skip"
    }
   },
   "source": [
    "Select this slide when playing slideshow"
   ]
  },
  {
   "cell_type": "markdown",
   "id": "4ee84e4a",
   "metadata": {
    "slideshow": {
     "slide_type": "slide"
    }
   },
   "source": [
    "# Events"
   ]
  },
  {
   "cell_type": "markdown",
   "id": "2e015bad",
   "metadata": {
    "slideshow": {
     "slide_type": "slide"
    }
   },
   "source": [
    "## What is an Event?"
   ]
  },
  {
   "cell_type": "markdown",
   "id": "1b8ad412",
   "metadata": {
    "slideshow": {
     "slide_type": "fragment"
    }
   },
   "source": [
    "- Allows applications to move away from a reliance on polling"
   ]
  },
  {
   "cell_type": "markdown",
   "id": "d27af6bc",
   "metadata": {
    "slideshow": {
     "slide_type": "fragment"
    }
   },
   "source": [
    "- Supports an event driven architecture"
   ]
  },
  {
   "cell_type": "markdown",
   "id": "9ad84a80",
   "metadata": {
    "slideshow": {
     "slide_type": "slide"
    }
   },
   "source": [
    "### There are three types of events:"
   ]
  },
  {
   "cell_type": "markdown",
   "id": "58555f8c",
   "metadata": {
    "slideshow": {
     "slide_type": "fragment"
    }
   },
   "source": [
    "<b>1.</b> LUSID events that occur in the core investment data management platform itself."
   ]
  },
  {
   "cell_type": "markdown",
   "id": "9720da75",
   "metadata": {
    "slideshow": {
     "slide_type": "fragment"
    }
   },
   "source": [
    "<b>2.</b> LUSID events that occur in ecosystem applications such as Drive, Scheduler and Luminesce."
   ]
  },
  {
   "cell_type": "markdown",
   "id": "25876c7d",
   "metadata": {
    "slideshow": {
     "slide_type": "fragment"
    }
   },
   "source": [
    "<b>3.</b> Non-LUSID custom events that you can trigger yourself."
   ]
  },
  {
   "cell_type": "markdown",
   "id": "ce374987",
   "metadata": {
    "slideshow": {
     "slide_type": "slide"
    }
   },
   "source": [
    "### Listing the available event types:"
   ]
  },
  {
   "cell_type": "code",
   "execution_count": 1,
   "id": "cedad935",
   "metadata": {
    "slideshow": {
     "slide_type": "fragment"
    }
   },
   "outputs": [],
   "source": [
    "import pprint\n",
    "\n",
    "import lusid_notifications\n",
    "from lusidjam import RefreshingToken\n",
    "from fbnsdkutilities import ApiClientFactory\n",
    "\n",
    "api_factory = ApiClientFactory(lusid_notifications, token=RefreshingToken())\n",
    "event_types_api = api_factory.build(lusid_notifications.api.EventTypesApi)"
   ]
  },
  {
   "cell_type": "code",
   "execution_count": 2,
   "id": "2f54e10e",
   "metadata": {
    "slideshow": {
     "slide_type": "fragment"
    }
   },
   "outputs": [
    {
     "name": "stdout",
     "output_type": "stream",
     "text": [
      "{'href': None,\n",
      " 'links': [{'description': 'A link to the LUSID Insights website showing all '\n",
      "                           'logs related to this request',\n",
      "            'href': 'http://demo.lusid.com/app/insights/logs/0HMO3K7IF2IK0:00000002',\n",
      "            'method': 'GET',\n",
      "            'relation': 'RequestLogs'}],\n",
      " 'next_page': None,\n",
      " 'previous_page': None,\n",
      " 'values': [{'application': 'Drive',\n",
      "             'description': 'An event of this type is fired whenever a file '\n",
      "                            'has finished its virus scan in Drive',\n",
      "             'entity': None,\n",
      "             'event_name': 'FileContentVirusScanCompleted',\n",
      "             'id': 'FileContentVirusScanCompleted',\n",
      "             'json_schema': {'additionalProperties': False,\n",
      "                             'properties': {'FileId': {'type': 'string'},\n",
      "                                            'FileName': {'type': 'string'},\n",
      "                                            'FilePath': {'type': 'string'},\n",
      "                                            'Status': {'type': 'string'},\n",
      "                                            'StatusDetail': {'type': 'string'}},\n",
      "                             'required': ['FileId',\n",
      "                                          'FilePath',\n",
      "                                          'FileName',\n",
      "                                          'Status',\n",
      "                                          'StatusDetail'],\n",
      "                             'type': 'object'}},\n",
      "            {'application': 'Drive',\n",
      "             'description': 'An event of this type is fired whenever a file '\n",
      "                            'was created in Drive',\n",
      "             'entity': None,\n",
      "             'event_name': 'File Created',\n",
      "             'id': 'FileCreated',\n",
      "             'json_schema': {'additionalProperties': False,\n",
      "                             'properties': {'FileId': {'type': 'string'},\n",
      "                                            'FileName': {'type': 'string'},\n",
      "                                            'FilePath': {'type': 'string'},\n",
      "                                            'Status': {'type': 'string'},\n",
      "                                            'StatusDetail': {'type': 'string'}},\n",
      "                             'required': ['FileId',\n",
      "                                          'FilePath',\n",
      "                                          'FileName',\n",
      "                                          'Status',\n",
      "                                          'StatusDetail'],\n",
      "                             'type': 'object'}},\n",
      "            {'application': 'Drive',\n",
      "             'description': 'An event of this type is fired whenever a file '\n",
      "                            'was deleted in Drive',\n",
      "             'entity': None,\n",
      "             'event_name': 'FileDeleted',\n",
      "             'id': 'FileDeleted',\n",
      "             'json_schema': {'additionalProperties': False,\n",
      "                             'properties': {'FileId': {'type': 'string'},\n",
      "                                            'FileName': {'type': 'string'},\n",
      "                                            'FilePath': {'type': 'string'},\n",
      "                                            'Status': {'type': 'string'},\n",
      "                                            'StatusDetail': {'type': 'string'}},\n",
      "                             'required': ['FileId',\n",
      "                                          'FilePath',\n",
      "                                          'FileName',\n",
      "                                          'Status',\n",
      "                                          'StatusDetail'],\n",
      "                             'type': 'object'}},\n",
      "            {'application': 'Drive',\n",
      "             'description': 'An event of this type is fired whenever a file '\n",
      "                            'has its metadata updated in Drive',\n",
      "             'entity': None,\n",
      "             'event_name': 'FileMetadataUpdated',\n",
      "             'id': 'FileMetadataUpdated',\n",
      "             'json_schema': {'additionalProperties': False,\n",
      "                             'properties': {'FileId': {'type': 'string'},\n",
      "                                            'FileName': {'type': 'string'},\n",
      "                                            'FilePath': {'type': 'string'},\n",
      "                                            'Status': {'type': 'string'},\n",
      "                                            'StatusDetail': {'type': 'string'}},\n",
      "                             'required': ['FileId',\n",
      "                                          'FilePath',\n",
      "                                          'FileName',\n",
      "                                          'Status',\n",
      "                                          'StatusDetail'],\n",
      "                             'type': 'object'}},\n",
      "            {'application': 'Drive',\n",
      "             'description': 'An event of this type is fired whenever a folder '\n",
      "                            'was created in Drive',\n",
      "             'entity': None,\n",
      "             'event_name': 'FolderCreated',\n",
      "             'id': 'FolderCreated',\n",
      "             'json_schema': {'additionalProperties': False,\n",
      "                             'properties': {'FolderId': {'type': 'string'},\n",
      "                                            'FolderName': {'type': 'string'},\n",
      "                                            'FolderPath': {'type': 'string'}},\n",
      "                             'required': ['FolderId',\n",
      "                                          'FolderPath',\n",
      "                                          'FolderName'],\n",
      "                             'type': 'object'}},\n",
      "            {'application': 'Drive',\n",
      "             'description': 'An event of this type is fired whenever a file '\n",
      "                            'was deleted in Drive',\n",
      "             'entity': None,\n",
      "             'event_name': 'FolderDeleted',\n",
      "             'id': 'FolderDeleted',\n",
      "             'json_schema': {'additionalProperties': False,\n",
      "                             'properties': {'FolderId': {'type': 'string'},\n",
      "                                            'FolderName': {'type': 'string'},\n",
      "                                            'FolderPath': {'type': 'string'}},\n",
      "                             'required': ['FolderId',\n",
      "                                          'FolderPath',\n",
      "                                          'FolderName'],\n",
      "                             'type': 'object'}},\n",
      "            {'application': 'Drive',\n",
      "             'description': 'An event of this type is fired whenever a folder '\n",
      "                            'has its metadata updated in Drive',\n",
      "             'entity': None,\n",
      "             'event_name': 'FolderMetadataUpdated',\n",
      "             'id': 'FolderMetadataUpdated',\n",
      "             'json_schema': {'additionalProperties': False,\n",
      "                             'properties': {'FolderId': {'type': 'string'},\n",
      "                                            'FolderName': {'type': 'string'},\n",
      "                                            'FolderPath': {'type': 'string'}},\n",
      "                             'required': ['FolderId',\n",
      "                                          'FolderPath',\n",
      "                                          'FolderName'],\n",
      "                             'type': 'object'}},\n",
      "            {'application': 'Scheduler',\n",
      "             'description': 'An event of this type is fired whenever a job '\n",
      "                            'fails to start',\n",
      "             'entity': None,\n",
      "             'event_name': 'Job Did Not Start',\n",
      "             'id': 'JobDidNotStart',\n",
      "             'json_schema': {'additionalProperties': False,\n",
      "                             'properties': {'JobCode': {'type': 'string'},\n",
      "                                            'JobScope': {'type': 'string'},\n",
      "                                            'RunId': {'type': 'string'},\n",
      "                                            'ScheduleCode': {'type': 'string'},\n",
      "                                            'ScheduleScope': {'type': 'string'}},\n",
      "                             'required': ['ScheduleScope',\n",
      "                                          'ScheduleCode',\n",
      "                                          'JobScope',\n",
      "                                          'JobCode',\n",
      "                                          'RunId'],\n",
      "                             'type': 'object'}},\n",
      "            {'application': 'Scheduler',\n",
      "             'description': 'An event of this type is fired whenever a job '\n",
      "                            'fails',\n",
      "             'entity': None,\n",
      "             'event_name': 'Job Failed',\n",
      "             'id': 'JobFailed',\n",
      "             'json_schema': {'additionalProperties': False,\n",
      "                             'properties': {'JobCode': {'type': 'string'},\n",
      "                                            'JobScope': {'type': 'string'},\n",
      "                                            'RunId': {'type': 'string'},\n",
      "                                            'ScheduleCode': {'type': 'string'},\n",
      "                                            'ScheduleScope': {'type': 'string'}},\n",
      "                             'required': ['ScheduleScope',\n",
      "                                          'ScheduleCode',\n",
      "                                          'JobScope',\n",
      "                                          'JobCode',\n",
      "                                          'RunId'],\n",
      "                             'type': 'object'}},\n",
      "            {'application': 'Scheduler',\n",
      "             'description': 'An event of this type is fired whenever a job '\n",
      "                            'completes successfully',\n",
      "             'entity': None,\n",
      "             'event_name': 'Job Succeeded',\n",
      "             'id': 'JobSucceeded',\n",
      "             'json_schema': {'additionalProperties': False,\n",
      "                             'properties': {'JobCode': {'type': 'string'},\n",
      "                                            'JobScope': {'type': 'string'},\n",
      "                                            'RunId': {'type': 'string'},\n",
      "                                            'ScheduleCode': {'type': 'string'},\n",
      "                                            'ScheduleScope': {'type': 'string'}},\n",
      "                             'required': ['ScheduleScope',\n",
      "                                          'ScheduleCode',\n",
      "                                          'JobScope',\n",
      "                                          'JobCode',\n",
      "                                          'RunId'],\n",
      "                             'type': 'object'}},\n",
      "            {'application': None,\n",
      "             'description': 'Manual event',\n",
      "             'entity': None,\n",
      "             'event_name': 'Manual event',\n",
      "             'id': 'Manual',\n",
      "             'json_schema': {'additionalProperties': False,\n",
      "                             'properties': {'EventTime': {'format': 'date-time',\n",
      "                                                          'type': 'string'},\n",
      "                                            'EventType': {'type': 'string'},\n",
      "                                            'JsonMessage': {},\n",
      "                                            'Message': {'maxLength': 2147483647,\n",
      "                                                        'minLength': 1,\n",
      "                                                        'pattern': '^[\\\\s\\\\S]*$',\n",
      "                                                        'type': 'string'},\n",
      "                                            'Subject': {'maxLength': 256,\n",
      "                                                        'minLength': 1,\n",
      "                                                        'pattern': '^[\\\\s\\\\S]*$',\n",
      "                                                        'type': 'string'}},\n",
      "                             'required': ['EventType',\n",
      "                                          'Message',\n",
      "                                          'Subject',\n",
      "                                          'EventTime'],\n",
      "                             'type': 'object'}},\n",
      "            {'application': 'Lusid',\n",
      "             'description': 'An event of this type is fired whenever a new '\n",
      "                            'transaction portfolio is created in LUSID',\n",
      "             'entity': None,\n",
      "             'event_name': 'Transaction Portfolio Created',\n",
      "             'id': 'TransactionPortfolioCreated',\n",
      "             'json_schema': {'properties': {'PortfolioCode': {'type': 'string'},\n",
      "                                            'PortfolioCreated': {'format': 'date-time',\n",
      "                                                                 'type': 'string'},\n",
      "                                            'PortfolioDisplayName': {'type': 'string'},\n",
      "                                            'PortfolioScope': {'type': 'string'}},\n",
      "                             'required': ['PortfolioDisplayName',\n",
      "                                          'PortfolioScope',\n",
      "                                          'PortfolioCode',\n",
      "                                          'PortfolioCreated'],\n",
      "                             'type': 'object'}}]}\n"
     ]
    }
   ],
   "source": [
    "response = event_types_api.list_event_types()\n",
    "pprint.pprint(response)"
   ]
  }
 ],
 "metadata": {
  "celltoolbar": "Slideshow",
  "kernelspec": {
   "display_name": "Python 3 (ipykernel)",
   "language": "python",
   "name": "python3"
  },
  "language_info": {
   "codemirror_mode": {
    "name": "ipython",
    "version": 3
   },
   "file_extension": ".py",
   "mimetype": "text/x-python",
   "name": "python",
   "nbconvert_exporter": "python",
   "pygments_lexer": "ipython3",
   "version": "3.9.7"
  },
  "toc": {
   "base_numbering": 1,
   "nav_menu": {},
   "number_sections": false,
   "sideBar": true,
   "skip_h1_title": false,
   "title_cell": "Table of Contents",
   "title_sidebar": "Contents",
   "toc_cell": false,
   "toc_position": {},
   "toc_section_display": true,
   "toc_window_display": false
  },
  "varInspector": {
   "cols": {
    "lenName": 16,
    "lenType": 16,
    "lenVar": 40
   },
   "kernels_config": {
    "python": {
     "delete_cmd_postfix": "",
     "delete_cmd_prefix": "del ",
     "library": "var_list.py",
     "varRefreshCmd": "print(var_dic_list())"
    },
    "r": {
     "delete_cmd_postfix": ") ",
     "delete_cmd_prefix": "rm(",
     "library": "var_list.r",
     "varRefreshCmd": "cat(var_dic_list()) "
    }
   },
   "types_to_exclude": [
    "module",
    "function",
    "builtin_function_or_method",
    "instance",
    "_Feature"
   ],
   "window_display": false
  }
 },
 "nbformat": 4,
 "nbformat_minor": 5
}
