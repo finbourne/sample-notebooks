{
 "cells": [
  {
   "cell_type": "markdown",
   "id": "70368d5d",
   "metadata": {
    "slideshow": {
     "slide_type": "skip"
    }
   },
   "source": [
    "Select this slide when playing slideshow"
   ]
  },
  {
   "cell_type": "code",
   "execution_count": 1,
   "id": "3b082366",
   "metadata": {},
   "outputs": [],
   "source": [
    "#Setup\n",
    "import pandas as pd\n",
    "import os\n",
    "\n",
    "pd.set_option(\"display.max_columns\", None)\n",
    "pd.set_option(\"display.max_rows\", None)\n",
    "pd.options.display.float_format = \"{:,.2f}\".format"
   ]
  },
  {
   "cell_type": "markdown",
   "id": "2e015bad",
   "metadata": {
    "slideshow": {
     "slide_type": "slide"
    }
   },
   "source": [
    "<p style=\"font-family: Montserrat; color: #203443; font-weight: bold; font-size: 125%\">What are we going to cover?</p>"
   ]
  },
  {
   "cell_type": "markdown",
   "id": "25adb718",
   "metadata": {
    "slideshow": {
     "slide_type": "fragment"
    }
   },
   "source": [
    "<p style=\"font-family: Montserrat; color: #203443\">- What are events and why are they useful?</p>"
   ]
  },
  {
   "cell_type": "markdown",
   "id": "7ebf5058",
   "metadata": {
    "slideshow": {
     "slide_type": "fragment"
    }
   },
   "source": [
    "<p style=\"font-family: Montserrat; color: #203443\">- What are the three different categories of events?</p>"
   ]
  },
  {
   "cell_type": "markdown",
   "id": "767dd4bd",
   "metadata": {
    "slideshow": {
     "slide_type": "fragment"
    }
   },
   "source": [
    "<p style=\"font-family: Montserrat; color: #203443\">- How can we list the available event types using the Notifications Application Programming Interface (API) via the Python Software Development Kit (SDK)?</p>"
   ]
  },
  {
   "cell_type": "markdown",
   "id": "6e692c6a",
   "metadata": {
    "slideshow": {
     "slide_type": "slide"
    }
   },
   "source": [
    "<p style=\"font-family: Montserrat; color: #203443; font-weight: bold; font-size: 125%\">So what are events?</p>"
   ]
  },
  {
   "cell_type": "markdown",
   "id": "f6a96caa",
   "metadata": {
    "slideshow": {
     "slide_type": "fragment"
    }
   },
   "source": [
    "<p style=\"font-family: Montserrat; color: #203443\">- LUSID has a rich set of RESTful APIs which operate under a request/response paradigm. This necessitates polling to identify changes/updates.</p>"
   ]
  },
  {
   "cell_type": "markdown",
   "id": "1b8ad412",
   "metadata": {
    "slideshow": {
     "slide_type": "fragment"
    }
   },
   "source": [
    "<p style=\"font-family: Montserrat; color: #203443\">- Events are emitted automatically allowing applications which interact with LUSID to move away from a reliance on polling.</p>"
   ]
  },
  {
   "cell_type": "markdown",
   "id": "d27af6bc",
   "metadata": {
    "slideshow": {
     "slide_type": "fragment"
    }
   },
   "source": [
    "<p style=\"font-family: Montserrat; color: #203443\">- Supports an event driven architecture where webhooks and notifications can be emitted by subscribing to events of interest.</p>"
   ]
  },
  {
   "cell_type": "markdown",
   "id": "9ad84a80",
   "metadata": {
    "slideshow": {
     "slide_type": "slide"
    }
   },
   "source": [
    "<p style=\"font-family: Montserrat; color: #203443; font-weight: bold; font-size: 125%\">There are three categories of events</p>"
   ]
  },
  {
   "cell_type": "markdown",
   "id": "58555f8c",
   "metadata": {
    "slideshow": {
     "slide_type": "fragment"
    }
   },
   "source": [
    "<p style=\"font-family: Montserrat; color: #203443\"><b>1.</b> LUSID events that occur in the core investment data management platform itself.</p>"
   ]
  },
  {
   "cell_type": "markdown",
   "id": "9720da75",
   "metadata": {
    "slideshow": {
     "slide_type": "fragment"
    }
   },
   "source": [
    "<p style=\"font-family: Montserrat; color: #203443\"><b>2.</b> LUSID events that occur in ecosystem applications such as Drive and the Scheduler.</p>"
   ]
  },
  {
   "cell_type": "markdown",
   "id": "25876c7d",
   "metadata": {
    "slideshow": {
     "slide_type": "fragment"
    }
   },
   "source": [
    "<p style=\"font-family: Montserrat; color: #203443\"><b>3.</b> Non-LUSID custom events that you can trigger yourself.</p>"
   ]
  },
  {
   "cell_type": "markdown",
   "id": "ce374987",
   "metadata": {
    "slideshow": {
     "slide_type": "slide"
    }
   },
   "source": [
    "<p style=\"font-family: Montserrat; color: #203443; font-weight: bold; font-size: 125%\">Listing the available event types</p>"
   ]
  },
  {
   "cell_type": "code",
   "execution_count": 2,
   "id": "cedad935",
   "metadata": {
    "slideshow": {
     "slide_type": "fragment"
    }
   },
   "outputs": [],
   "source": [
    "import pprint\n",
    "\n",
    "import lusid_notifications\n",
    "from lusidjam import RefreshingToken\n",
    "from fbnsdkutilities import ApiClientFactory\n",
    "\n",
    "api_factory = ApiClientFactory(lusid_notifications, token=RefreshingToken())\n",
    "event_types_api = api_factory.build(lusid_notifications.api.EventTypesApi)"
   ]
  },
  {
   "cell_type": "code",
   "execution_count": 3,
   "id": "2f54e10e",
   "metadata": {
    "slideshow": {
     "slide_type": "subslide"
    }
   },
   "outputs": [
    {
     "name": "stdout",
     "output_type": "stream",
     "text": [
      "{'href': None,\n",
      " 'links': [{'description': 'A link to the LUSID Insights website showing all '\n",
      "                           'logs related to this request',\n",
      "            'href': 'http://demo.lusid.com/app/insights/logs/0HMO4AQNH99OM:00000002',\n",
      "            'method': 'GET',\n",
      "            'relation': 'RequestLogs'}],\n",
      " 'next_page': None,\n",
      " 'previous_page': None,\n",
      " 'values': [{'application': 'Drive',\n",
      "             'description': 'An event of this type is fired whenever a file '\n",
      "                            'has finished its virus scan in Drive',\n",
      "             'entity': None,\n",
      "             'event_name': 'FileContentVirusScanCompleted',\n",
      "             'id': 'FileContentVirusScanCompleted',\n",
      "             'json_schema': {'additionalProperties': False,\n",
      "                             'properties': {'FileId': {'type': 'string'},\n",
      "                                            'FileName': {'type': 'string'},\n",
      "                                            'FilePath': {'type': 'string'},\n",
      "                                            'Status': {'type': 'string'},\n",
      "                                            'StatusDetail': {'type': 'string'}},\n",
      "                             'required': ['FileId',\n",
      "                                          'FilePath',\n",
      "                                          'FileName',\n",
      "                                          'Status',\n",
      "                                          'StatusDetail'],\n",
      "                             'type': 'object'}},\n",
      "            {'application': 'Drive',\n",
      "             'description': 'An event of this type is fired whenever a file '\n",
      "                            'was created in Drive',\n",
      "             'entity': None,\n",
      "             'event_name': 'File Created',\n",
      "             'id': 'FileCreated',\n",
      "             'json_schema': {'additionalProperties': False,\n",
      "                             'properties': {'FileId': {'type': 'string'},\n",
      "                                            'FileName': {'type': 'string'},\n",
      "                                            'FilePath': {'type': 'string'},\n",
      "                                            'Status': {'type': 'string'},\n",
      "                                            'StatusDetail': {'type': 'string'}},\n",
      "                             'required': ['FileId',\n",
      "                                          'FilePath',\n",
      "                                          'FileName',\n",
      "                                          'Status',\n",
      "                                          'StatusDetail'],\n",
      "                             'type': 'object'}},\n",
      "            {'application': 'Drive',\n",
      "             'description': 'An event of this type is fired whenever a file '\n",
      "                            'was deleted in Drive',\n",
      "             'entity': None,\n",
      "             'event_name': 'FileDeleted',\n",
      "             'id': 'FileDeleted',\n",
      "             'json_schema': {'additionalProperties': False,\n",
      "                             'properties': {'FileId': {'type': 'string'},\n",
      "                                            'FileName': {'type': 'string'},\n",
      "                                            'FilePath': {'type': 'string'},\n",
      "                                            'Status': {'type': 'string'},\n",
      "                                            'StatusDetail': {'type': 'string'}},\n",
      "                             'required': ['FileId',\n",
      "                                          'FilePath',\n",
      "                                          'FileName',\n",
      "                                          'Status',\n",
      "                                          'StatusDetail'],\n",
      "                             'type': 'object'}},\n",
      "            {'application': 'Drive',\n",
      "             'description': 'An event of this type is fired whenever a file '\n",
      "                            'has its metadata updated in Drive',\n",
      "             'entity': None,\n",
      "             'event_name': 'FileMetadataUpdated',\n",
      "             'id': 'FileMetadataUpdated',\n",
      "             'json_schema': {'additionalProperties': False,\n",
      "                             'properties': {'FileId': {'type': 'string'},\n",
      "                                            'FileName': {'type': 'string'},\n",
      "                                            'FilePath': {'type': 'string'},\n",
      "                                            'Status': {'type': 'string'},\n",
      "                                            'StatusDetail': {'type': 'string'}},\n",
      "                             'required': ['FileId',\n",
      "                                          'FilePath',\n",
      "                                          'FileName',\n",
      "                                          'Status',\n",
      "                                          'StatusDetail'],\n",
      "                             'type': 'object'}},\n",
      "            {'application': 'Drive',\n",
      "             'description': 'An event of this type is fired whenever a folder '\n",
      "                            'was created in Drive',\n",
      "             'entity': None,\n",
      "             'event_name': 'FolderCreated',\n",
      "             'id': 'FolderCreated',\n",
      "             'json_schema': {'additionalProperties': False,\n",
      "                             'properties': {'FolderId': {'type': 'string'},\n",
      "                                            'FolderName': {'type': 'string'},\n",
      "                                            'FolderPath': {'type': 'string'}},\n",
      "                             'required': ['FolderId',\n",
      "                                          'FolderPath',\n",
      "                                          'FolderName'],\n",
      "                             'type': 'object'}},\n",
      "            {'application': 'Drive',\n",
      "             'description': 'An event of this type is fired whenever a file '\n",
      "                            'was deleted in Drive',\n",
      "             'entity': None,\n",
      "             'event_name': 'FolderDeleted',\n",
      "             'id': 'FolderDeleted',\n",
      "             'json_schema': {'additionalProperties': False,\n",
      "                             'properties': {'FolderId': {'type': 'string'},\n",
      "                                            'FolderName': {'type': 'string'},\n",
      "                                            'FolderPath': {'type': 'string'}},\n",
      "                             'required': ['FolderId',\n",
      "                                          'FolderPath',\n",
      "                                          'FolderName'],\n",
      "                             'type': 'object'}},\n",
      "            {'application': 'Drive',\n",
      "             'description': 'An event of this type is fired whenever a folder '\n",
      "                            'has its metadata updated in Drive',\n",
      "             'entity': None,\n",
      "             'event_name': 'FolderMetadataUpdated',\n",
      "             'id': 'FolderMetadataUpdated',\n",
      "             'json_schema': {'additionalProperties': False,\n",
      "                             'properties': {'FolderId': {'type': 'string'},\n",
      "                                            'FolderName': {'type': 'string'},\n",
      "                                            'FolderPath': {'type': 'string'}},\n",
      "                             'required': ['FolderId',\n",
      "                                          'FolderPath',\n",
      "                                          'FolderName'],\n",
      "                             'type': 'object'}},\n",
      "            {'application': 'Scheduler',\n",
      "             'description': 'An event of this type is fired whenever a job '\n",
      "                            'fails to start',\n",
      "             'entity': None,\n",
      "             'event_name': 'Job Did Not Start',\n",
      "             'id': 'JobDidNotStart',\n",
      "             'json_schema': {'additionalProperties': False,\n",
      "                             'properties': {'JobCode': {'type': 'string'},\n",
      "                                            'JobScope': {'type': 'string'},\n",
      "                                            'RunId': {'type': 'string'},\n",
      "                                            'ScheduleCode': {'type': 'string'},\n",
      "                                            'ScheduleScope': {'type': 'string'}},\n",
      "                             'required': ['ScheduleScope',\n",
      "                                          'ScheduleCode',\n",
      "                                          'JobScope',\n",
      "                                          'JobCode',\n",
      "                                          'RunId'],\n",
      "                             'type': 'object'}},\n",
      "            {'application': 'Scheduler',\n",
      "             'description': 'An event of this type is fired whenever a job '\n",
      "                            'fails',\n",
      "             'entity': None,\n",
      "             'event_name': 'Job Failed',\n",
      "             'id': 'JobFailed',\n",
      "             'json_schema': {'additionalProperties': False,\n",
      "                             'properties': {'JobCode': {'type': 'string'},\n",
      "                                            'JobScope': {'type': 'string'},\n",
      "                                            'RunId': {'type': 'string'},\n",
      "                                            'ScheduleCode': {'type': 'string'},\n",
      "                                            'ScheduleScope': {'type': 'string'}},\n",
      "                             'required': ['ScheduleScope',\n",
      "                                          'ScheduleCode',\n",
      "                                          'JobScope',\n",
      "                                          'JobCode',\n",
      "                                          'RunId'],\n",
      "                             'type': 'object'}},\n",
      "            {'application': 'Scheduler',\n",
      "             'description': 'An event of this type is fired whenever a job '\n",
      "                            'completes successfully',\n",
      "             'entity': None,\n",
      "             'event_name': 'Job Succeeded',\n",
      "             'id': 'JobSucceeded',\n",
      "             'json_schema': {'additionalProperties': False,\n",
      "                             'properties': {'JobCode': {'type': 'string'},\n",
      "                                            'JobScope': {'type': 'string'},\n",
      "                                            'RunId': {'type': 'string'},\n",
      "                                            'ScheduleCode': {'type': 'string'},\n",
      "                                            'ScheduleScope': {'type': 'string'}},\n",
      "                             'required': ['ScheduleScope',\n",
      "                                          'ScheduleCode',\n",
      "                                          'JobScope',\n",
      "                                          'JobCode',\n",
      "                                          'RunId'],\n",
      "                             'type': 'object'}},\n",
      "            {'application': None,\n",
      "             'description': 'Manual event',\n",
      "             'entity': None,\n",
      "             'event_name': 'Manual event',\n",
      "             'id': 'Manual',\n",
      "             'json_schema': {'additionalProperties': False,\n",
      "                             'properties': {'EventTime': {'format': 'date-time',\n",
      "                                                          'type': 'string'},\n",
      "                                            'EventType': {'type': 'string'},\n",
      "                                            'JsonMessage': {},\n",
      "                                            'Message': {'maxLength': 2147483647,\n",
      "                                                        'minLength': 1,\n",
      "                                                        'pattern': '^[\\\\s\\\\S]*$',\n",
      "                                                        'type': 'string'},\n",
      "                                            'Subject': {'maxLength': 256,\n",
      "                                                        'minLength': 1,\n",
      "                                                        'pattern': '^[\\\\s\\\\S]*$',\n",
      "                                                        'type': 'string'}},\n",
      "                             'required': ['EventType',\n",
      "                                          'Message',\n",
      "                                          'Subject',\n",
      "                                          'EventTime'],\n",
      "                             'type': 'object'}},\n",
      "            {'application': 'Lusid',\n",
      "             'description': 'An event of this type is fired whenever a new '\n",
      "                            'transaction portfolio is created in LUSID',\n",
      "             'entity': None,\n",
      "             'event_name': 'Transaction Portfolio Created',\n",
      "             'id': 'TransactionPortfolioCreated',\n",
      "             'json_schema': {'properties': {'PortfolioCode': {'type': 'string'},\n",
      "                                            'PortfolioCreated': {'format': 'date-time',\n",
      "                                                                 'type': 'string'},\n",
      "                                            'PortfolioDisplayName': {'type': 'string'},\n",
      "                                            'PortfolioScope': {'type': 'string'}},\n",
      "                             'required': ['PortfolioDisplayName',\n",
      "                                          'PortfolioScope',\n",
      "                                          'PortfolioCode',\n",
      "                                          'PortfolioCreated'],\n",
      "                             'type': 'object'}}]}\n"
     ]
    }
   ],
   "source": [
    "response = event_types_api.list_event_types()\n",
    "pprint.pprint(response)"
   ]
  },
  {
   "cell_type": "code",
   "execution_count": 4,
   "id": "2e76b65c",
   "metadata": {
    "slideshow": {
     "slide_type": "subslide"
    }
   },
   "outputs": [
    {
     "data": {
      "text/html": [
       "<div>\n",
       "<style scoped>\n",
       "    .dataframe tbody tr th:only-of-type {\n",
       "        vertical-align: middle;\n",
       "    }\n",
       "\n",
       "    .dataframe tbody tr th {\n",
       "        vertical-align: top;\n",
       "    }\n",
       "\n",
       "    .dataframe thead th {\n",
       "        text-align: right;\n",
       "    }\n",
       "</style>\n",
       "<table border=\"1\" class=\"dataframe\">\n",
       "  <thead>\n",
       "    <tr style=\"text-align: right;\">\n",
       "      <th></th>\n",
       "      <th>id</th>\n",
       "      <th>description</th>\n",
       "      <th>event_name</th>\n",
       "      <th>application</th>\n",
       "    </tr>\n",
       "  </thead>\n",
       "  <tbody>\n",
       "    <tr>\n",
       "      <th>0</th>\n",
       "      <td>FileContentVirusScanCompleted</td>\n",
       "      <td>An event of this type is fired whenever a file...</td>\n",
       "      <td>FileContentVirusScanCompleted</td>\n",
       "      <td>Drive</td>\n",
       "    </tr>\n",
       "    <tr>\n",
       "      <th>1</th>\n",
       "      <td>FileCreated</td>\n",
       "      <td>An event of this type is fired whenever a file...</td>\n",
       "      <td>File Created</td>\n",
       "      <td>Drive</td>\n",
       "    </tr>\n",
       "    <tr>\n",
       "      <th>2</th>\n",
       "      <td>FileDeleted</td>\n",
       "      <td>An event of this type is fired whenever a file...</td>\n",
       "      <td>FileDeleted</td>\n",
       "      <td>Drive</td>\n",
       "    </tr>\n",
       "    <tr>\n",
       "      <th>3</th>\n",
       "      <td>FileMetadataUpdated</td>\n",
       "      <td>An event of this type is fired whenever a file...</td>\n",
       "      <td>FileMetadataUpdated</td>\n",
       "      <td>Drive</td>\n",
       "    </tr>\n",
       "    <tr>\n",
       "      <th>4</th>\n",
       "      <td>FolderCreated</td>\n",
       "      <td>An event of this type is fired whenever a fold...</td>\n",
       "      <td>FolderCreated</td>\n",
       "      <td>Drive</td>\n",
       "    </tr>\n",
       "    <tr>\n",
       "      <th>5</th>\n",
       "      <td>FolderDeleted</td>\n",
       "      <td>An event of this type is fired whenever a file...</td>\n",
       "      <td>FolderDeleted</td>\n",
       "      <td>Drive</td>\n",
       "    </tr>\n",
       "    <tr>\n",
       "      <th>6</th>\n",
       "      <td>FolderMetadataUpdated</td>\n",
       "      <td>An event of this type is fired whenever a fold...</td>\n",
       "      <td>FolderMetadataUpdated</td>\n",
       "      <td>Drive</td>\n",
       "    </tr>\n",
       "    <tr>\n",
       "      <th>7</th>\n",
       "      <td>JobDidNotStart</td>\n",
       "      <td>An event of this type is fired whenever a job ...</td>\n",
       "      <td>Job Did Not Start</td>\n",
       "      <td>Scheduler</td>\n",
       "    </tr>\n",
       "    <tr>\n",
       "      <th>8</th>\n",
       "      <td>JobFailed</td>\n",
       "      <td>An event of this type is fired whenever a job ...</td>\n",
       "      <td>Job Failed</td>\n",
       "      <td>Scheduler</td>\n",
       "    </tr>\n",
       "    <tr>\n",
       "      <th>9</th>\n",
       "      <td>JobSucceeded</td>\n",
       "      <td>An event of this type is fired whenever a job ...</td>\n",
       "      <td>Job Succeeded</td>\n",
       "      <td>Scheduler</td>\n",
       "    </tr>\n",
       "    <tr>\n",
       "      <th>10</th>\n",
       "      <td>Manual</td>\n",
       "      <td>Manual event</td>\n",
       "      <td>Manual event</td>\n",
       "      <td>None</td>\n",
       "    </tr>\n",
       "    <tr>\n",
       "      <th>11</th>\n",
       "      <td>TransactionPortfolioCreated</td>\n",
       "      <td>An event of this type is fired whenever a new ...</td>\n",
       "      <td>Transaction Portfolio Created</td>\n",
       "      <td>Lusid</td>\n",
       "    </tr>\n",
       "  </tbody>\n",
       "</table>\n",
       "</div>"
      ],
      "text/plain": [
       "                               id  \\\n",
       "0   FileContentVirusScanCompleted   \n",
       "1                     FileCreated   \n",
       "2                     FileDeleted   \n",
       "3             FileMetadataUpdated   \n",
       "4                   FolderCreated   \n",
       "5                   FolderDeleted   \n",
       "6           FolderMetadataUpdated   \n",
       "7                  JobDidNotStart   \n",
       "8                       JobFailed   \n",
       "9                    JobSucceeded   \n",
       "10                         Manual   \n",
       "11    TransactionPortfolioCreated   \n",
       "\n",
       "                                          description  \\\n",
       "0   An event of this type is fired whenever a file...   \n",
       "1   An event of this type is fired whenever a file...   \n",
       "2   An event of this type is fired whenever a file...   \n",
       "3   An event of this type is fired whenever a file...   \n",
       "4   An event of this type is fired whenever a fold...   \n",
       "5   An event of this type is fired whenever a file...   \n",
       "6   An event of this type is fired whenever a fold...   \n",
       "7   An event of this type is fired whenever a job ...   \n",
       "8   An event of this type is fired whenever a job ...   \n",
       "9   An event of this type is fired whenever a job ...   \n",
       "10                                       Manual event   \n",
       "11  An event of this type is fired whenever a new ...   \n",
       "\n",
       "                       event_name application  \n",
       "0   FileContentVirusScanCompleted       Drive  \n",
       "1                    File Created       Drive  \n",
       "2                     FileDeleted       Drive  \n",
       "3             FileMetadataUpdated       Drive  \n",
       "4                   FolderCreated       Drive  \n",
       "5                   FolderDeleted       Drive  \n",
       "6           FolderMetadataUpdated       Drive  \n",
       "7               Job Did Not Start   Scheduler  \n",
       "8                      Job Failed   Scheduler  \n",
       "9                   Job Succeeded   Scheduler  \n",
       "10                   Manual event        None  \n",
       "11  Transaction Portfolio Created       Lusid  "
      ]
     },
     "execution_count": 4,
     "metadata": {},
     "output_type": "execute_result"
    }
   ],
   "source": [
    "from lusidtools.pandas_utils.lusid_pandas import lusid_response_to_data_frame\n",
    "lusid_response_to_data_frame(response).loc[:, [\"id\", \"description\", \"event_name\", \"application\"]]"
   ]
  },
  {
   "cell_type": "markdown",
   "id": "55f14fe6",
   "metadata": {
    "slideshow": {
     "slide_type": "slide"
    }
   },
   "source": [
    "<p style=\"font-family: Montserrat; color: #203443; font-weight: bold; font-size: 125%\">What have we covered?</p>"
   ]
  },
  {
   "cell_type": "markdown",
   "id": "f6088601",
   "metadata": {
    "slideshow": {
     "slide_type": "fragment"
    }
   },
   "source": [
    "<p style=\"font-family: Montserrat; color: #203443\">- Events are emitted automatically and provide an alternative to polling for changes/updates.</p>"
   ]
  },
  {
   "cell_type": "markdown",
   "id": "ca852db3",
   "metadata": {
    "slideshow": {
     "slide_type": "fragment"
    }
   },
   "source": [
    "<p style=\"font-family: Montserrat; color: #203443\">- They allow for webhooks and notifications to be sent automatically by subscribing to events of interest.</p>"
   ]
  },
  {
   "cell_type": "markdown",
   "id": "ed94d0a4",
   "metadata": {
    "slideshow": {
     "slide_type": "subslide"
    }
   },
   "source": [
    "<p style=\"font-family: Montserrat; color: #203443\">- There are three categories of events which are LUSID investment data management events, events from ecosystem applications such as Drive and the Scheduler and non-LUSID custom events you can configure yourself.</p>"
   ]
  },
  {
   "cell_type": "markdown",
   "id": "763479b1",
   "metadata": {
    "slideshow": {
     "slide_type": "fragment"
    }
   },
   "source": [
    "<p style=\"font-family: Montserrat; color: #203443\">- You can list the event types via the Notifications API and each event type has its own schema.</p>"
   ]
  }
 ],
 "metadata": {
  "celltoolbar": "Slideshow",
  "kernelspec": {
   "display_name": "Python 3 (ipykernel)",
   "language": "python",
   "name": "python3"
  },
  "language_info": {
   "codemirror_mode": {
    "name": "ipython",
    "version": 3
   },
   "file_extension": ".py",
   "mimetype": "text/x-python",
   "name": "python",
   "nbconvert_exporter": "python",
   "pygments_lexer": "ipython3",
   "version": "3.9.7"
  },
  "toc": {
   "base_numbering": 1,
   "nav_menu": {},
   "number_sections": false,
   "sideBar": true,
   "skip_h1_title": false,
   "title_cell": "Table of Contents",
   "title_sidebar": "Contents",
   "toc_cell": false,
   "toc_position": {},
   "toc_section_display": true,
   "toc_window_display": false
  },
  "varInspector": {
   "cols": {
    "lenName": 16,
    "lenType": 16,
    "lenVar": 40
   },
   "kernels_config": {
    "python": {
     "delete_cmd_postfix": "",
     "delete_cmd_prefix": "del ",
     "library": "var_list.py",
     "varRefreshCmd": "print(var_dic_list())"
    },
    "r": {
     "delete_cmd_postfix": ") ",
     "delete_cmd_prefix": "rm(",
     "library": "var_list.r",
     "varRefreshCmd": "cat(var_dic_list()) "
    }
   },
   "types_to_exclude": [
    "module",
    "function",
    "builtin_function_or_method",
    "instance",
    "_Feature"
   ],
   "window_display": false
  }
 },
 "nbformat": 4,
 "nbformat_minor": 5
}
