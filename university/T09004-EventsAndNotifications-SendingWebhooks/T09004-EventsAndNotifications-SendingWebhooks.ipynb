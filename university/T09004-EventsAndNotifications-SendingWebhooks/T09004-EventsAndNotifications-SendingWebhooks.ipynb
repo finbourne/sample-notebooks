{
 "cells": [
  {
   "cell_type": "code",
   "execution_count": 1,
   "id": "62675678",
   "metadata": {},
   "outputs": [],
   "source": [
    "#Setup\n",
    "import pandas as pd\n",
    "import os\n",
    "\n",
    "pd.set_option(\"display.max_columns\", None)\n",
    "pd.set_option(\"display.max_rows\", None)\n",
    "pd.options.display.float_format = \"{:,.2f}\".format"
   ]
  },
  {
   "cell_type": "markdown",
   "id": "e32e01fe",
   "metadata": {
    "slideshow": {
     "slide_type": "slide"
    }
   },
   "source": [
    "<p style=\"font-family: Montserrat; color: #203443; font-weight: bold; font-size: 125%\">What are we going to cover?</p>"
   ]
  },
  {
   "cell_type": "markdown",
   "id": "7abac222",
   "metadata": {
    "slideshow": {
     "slide_type": "fragment"
    }
   },
   "source": [
    "<p style=\"font-family: Montserrat; color: #203443\">- How can we create a LUSID webhook notification using the Notifications API via the Python SDK?</p>"
   ]
  },
  {
   "cell_type": "markdown",
   "id": "d5f45274",
   "metadata": {
    "slideshow": {
     "slide_type": "fragment"
    }
   },
   "source": [
    "<p style=\"font-family: Montserrat; color: #203443\">- What are our options for content type, authentication etc. when sending webhook notifications?</p>"
   ]
  },
  {
   "cell_type": "markdown",
   "id": "b5b9bdc5",
   "metadata": {
    "slideshow": {
     "slide_type": "fragment"
    }
   },
   "source": [
    "<p style=\"font-family: Montserrat; color: #203443\">- How can we create a 3rd party webhook notification using the Notifications API via the Python SDK?</p>"
   ]
  },
  {
   "cell_type": "markdown",
   "id": "1655b9e0",
   "metadata": {
    "slideshow": {
     "slide_type": "slide"
    }
   },
   "source": [
    "<p style=\"font-family: Montserrat; color: #203443; font-weight: bold; font-size: 125%\">Creating 3rd Party Webhook Notification - Setup</p>"
   ]
  },
  {
   "cell_type": "code",
   "execution_count": 2,
   "id": "7693de78",
   "metadata": {
    "slideshow": {
     "slide_type": "fragment"
    }
   },
   "outputs": [
    {
     "data": {
      "text/plain": [
       "{'description': 'An access token representing the current user',\n",
       " 'links': [{'description': 'A link to the LUSID Insights website showing all '\n",
       "                           'logs related to this request',\n",
       "            'href': 'http://fbn-ci.lusid.com/app/insights/logs/0HMQGBCQFH6HR:00000002',\n",
       "            'method': 'GET',\n",
       "            'relation': 'RequestLogs'}],\n",
       " 'ref': 'config://personal/me/00u4edvny74dXgwzK2p7',\n",
       " 'type': 'Secret',\n",
       " 'value': '**********'}"
      ]
     },
     "execution_count": 2,
     "metadata": {},
     "output_type": "execute_result"
    }
   ],
   "source": [
    "import lusid_configuration\n",
    "from lusidjam import RefreshingToken\n",
    "import fbnsdkutilities.utilities as utils\n",
    "\n",
    "lusid_api_url = os.environ[\"FBN_LUSID_API_URL\"]\n",
    "configuration_api_url = lusid_api_url[: lusid_api_url.rfind(\"/\") + 1] + \"configuration\"\n",
    "os.environ[\"FBN_CONFIGURATION_API_URL\"] = configuration_api_url\n",
    "\n",
    "api_factory_configuration = utils.ApiClientFactory(lusid_configuration, token=RefreshingToken())\n",
    "configuration_sets_api = api_factory_configuration.build(lusid_configuration.api.ConfigurationSetsApi)\n",
    "\n",
    "configuration_sets_api.generate_access_token()"
   ]
  },
  {
   "cell_type": "markdown",
   "id": "d93f433d",
   "metadata": {
    "slideshow": {
     "slide_type": "slide"
    }
   },
   "source": [
    "<p style=\"font-family: Montserrat; color: #203443; font-weight: bold; font-size: 125%\">Creating a LUSID Webhook Notification</p>"
   ]
  },
  {
   "cell_type": "code",
   "execution_count": 3,
   "id": "1e1775bd",
   "metadata": {
    "slideshow": {
     "slide_type": "subslide"
    }
   },
   "outputs": [],
   "source": [
    "import pprint\n",
    "\n",
    "import lusid_notifications\n",
    "from lusidjam import RefreshingToken\n",
    "import fbnsdkutilities.utilities as utils\n",
    "\n",
    "lusid_api_url = os.environ[\"FBN_LUSID_API_URL\"]\n",
    "notifications_api_url = lusid_api_url[: lusid_api_url.rfind(\"/\") + 1] + \"notifications\"\n",
    "os.environ[\"FBN_NOTIFICATIONS_API_URL\"] = notifications_api_url\n",
    "\n",
    "api_factory_notifications = utils.ApiClientFactory(lusid_notifications, token=RefreshingToken())\n",
    "notifications_api = api_factory_notifications.build(lusid_notifications.api.NotificationsApi)\n",
    "subscriptions_api = api_factory_notifications.build(lusid_notifications.api.SubscriptionsApi)\n",
    "\n",
    "subscription_scope = \"FinbourneUniversity\"\n",
    "subscription_code = \"AnyPortfolioCreatedv2\""
   ]
  },
  {
   "cell_type": "code",
   "execution_count": 4,
   "id": "7d508326",
   "metadata": {
    "slideshow": {
     "slide_type": "skip"
    }
   },
   "outputs": [],
   "source": [
    "try:\n",
    "    subscriptions_api.get_subscription(\n",
    "        scope=subscription_scope,\n",
    "        code=subscription_code)\n",
    "    \n",
    "    subscriptions_api.delete_subscription(\n",
    "        scope=subscription_scope,\n",
    "        code=subscription_code\n",
    "    )\n",
    "    \n",
    "except lusid_notifications.ApiException as api_exception:\n",
    "    if api_exception.status == 404:\n",
    "        pass\n",
    "    else:\n",
    "        raise"
   ]
  },
  {
   "cell_type": "code",
   "execution_count": 5,
   "id": "56395f77",
   "metadata": {
    "slideshow": {
     "slide_type": "subslide"
    }
   },
   "outputs": [
    {
     "data": {
      "text/plain": [
       "{'created_at': datetime.datetime(2023, 5, 10, 9, 24, 21, 902124, tzinfo=tzlocal()),\n",
       " 'created_by': '00u4edvny74dXgwzK2p7',\n",
       " 'description': 'Listens to all TransactionPortfolioCreated events',\n",
       " 'display_name': 'Any Portfolio Created',\n",
       " 'id': {'code': 'AnyPortfolioCreatedv2', 'scope': 'FinbourneUniversity'},\n",
       " 'last_modified_at': datetime.datetime(2023, 5, 10, 9, 24, 21, 902124, tzinfo=tzlocal()),\n",
       " 'last_modified_by': '00u4edvny74dXgwzK2p7',\n",
       " 'matching_pattern': {'event_type': 'TransactionPortfolioCreated',\n",
       "                      'filter': \"PortfolioScope eq 'FinbourneUniversity' and \"\n",
       "                                'PortfolioCode startsWith '\n",
       "                                \"'NewTradingPortfolio'\"},\n",
       " 'status': 'Active'}"
      ]
     },
     "execution_count": 5,
     "metadata": {},
     "output_type": "execute_result"
    }
   ],
   "source": [
    "subscriptions_api.create_subscription(\n",
    "    create_subscription=lusid_notifications.CreateSubscription(\n",
    "        id=lusid_notifications.ResourceId(\n",
    "            scope=subscription_scope,\n",
    "            code=subscription_code,\n",
    "        ),\n",
    "        display_name=\"Any Portfolio Created\",\n",
    "        description=\"Listens to all TransactionPortfolioCreated events\",\n",
    "        status=\"Active\",\n",
    "        matching_pattern=lusid_notifications.MatchingPattern(\n",
    "            event_type=\"TransactionPortfolioCreated\",\n",
    "            filter=\"PortfolioScope eq 'FinbourneUniversity' and PortfolioCode startsWith 'NewTradingPortfolio'\"\n",
    "        )\n",
    "    )\n",
    ")"
   ]
  },
  {
   "cell_type": "code",
   "execution_count": 6,
   "id": "863dafd4",
   "metadata": {
    "slideshow": {
     "slide_type": "subslide"
    }
   },
   "outputs": [
    {
     "data": {
      "text/plain": [
       "{'content': {'Content': [{'instrumentIdentifiers': {'Instrument/default/Currency': 'USD'},\n",
       "                          'settlementDate': '2023-02-01T00:00:00.0000000Z',\n",
       "                          'totalConsideration': {'amount': 10000000,\n",
       "                                                 'currency': 'USD'},\n",
       "                          'transactionCurrency': 'USD',\n",
       "                          'transactionDate': '2023-02-01T00:00:00.0000000Z',\n",
       "                          'transactionId': 'SeedFundsTransactionUSD',\n",
       "                          'transactionPrice': {'price': 1, 'type': 'Price'},\n",
       "                          'type': 'FundsIn',\n",
       "                          'units': 10000000},\n",
       "                         {'instrumentIdentifiers': {'Instrument/default/Currency': 'GBP'},\n",
       "                          'settlementDate': '2023-02-01T00:00:00.0000000Z',\n",
       "                          'totalConsideration': {'amount': 7500000,\n",
       "                                                 'currency': 'GBP'},\n",
       "                          'transactionCurrency': 'GBP',\n",
       "                          'transactionDate': '2023-02-01T00:00:00.0000000Z',\n",
       "                          'transactionId': 'SeedFundsTransactionGBP',\n",
       "                          'transactionPrice': {'price': 1, 'type': 'Price'},\n",
       "                          'type': 'FundsIn',\n",
       "                          'units': 7500000},\n",
       "                         {'instrumentIdentifiers': {'Instrument/default/Currency': 'AUD'},\n",
       "                          'settlementDate': '2023-02-01T00:00:00.0000000Z',\n",
       "                          'totalConsideration': {'amount': 25000000,\n",
       "                                                 'currency': 'AUD'},\n",
       "                          'transactionCurrency': 'AUD',\n",
       "                          'transactionDate': '2023-02-01T00:00:00.0000000Z',\n",
       "                          'transactionId': 'SeedFundsTransactionAUD',\n",
       "                          'transactionPrice': {'price': 1, 'type': 'Price'},\n",
       "                          'type': 'FundsIn',\n",
       "                          'units': 25000000}],\n",
       "             'ContentType': 'Json'},\n",
       " 'created_at': datetime.datetime(2023, 5, 10, 9, 24, 22, 204882, tzinfo=tzlocal()),\n",
       " 'created_by': '00u4edvny74dXgwzK2p7',\n",
       " 'delivery_channel': 'Webhook',\n",
       " 'description': 'New Portfolio Created',\n",
       " 'display_name': '',\n",
       " 'id': 'e40f060b-7597-49a9-8257-01e9952e6cea',\n",
       " 'last_modified_at': datetime.datetime(2023, 5, 10, 9, 24, 22, 204882, tzinfo=tzlocal()),\n",
       " 'last_modified_by': '00u4edvny74dXgwzK2p7',\n",
       " 'recipients': {'AuthenticationConfigurationItemPaths': {},\n",
       "                'AuthenticationType': 'Lusid',\n",
       "                'Method': 'POST',\n",
       "                'Url': '/api/api/transactionportfolios/{{PortfolioScope}}/{{PortfolioCode}}/transactions'},\n",
       " 'status': {'last_updated': datetime.datetime(2023, 5, 10, 9, 24, 22, 204882, tzinfo=tzlocal()),\n",
       "            'result': 'Unprocessed'}}"
      ]
     },
     "execution_count": 6,
     "metadata": {},
     "output_type": "execute_result"
    }
   ],
   "source": [
    "notifications_api.create_webhook_notification(\n",
    "    scope=subscription_scope,\n",
    "    code=subscription_code,\n",
    "    create_webhook_notification=lusid_notifications.CreateWebhookNotification(\n",
    "        description=\"New Portfolio Created\",\n",
    "        http_method=\"POST\",\n",
    "        url=\"/api/api/transactionportfolios/{{PortfolioScope}}/{{PortfolioCode}}/transactions\",\n",
    "        authentication_type=\"Lusid\",\n",
    "        content_type=\"Json\",\n",
    "        content=[\n",
    "                    {\n",
    "                        \"transactionId\": \"SeedFundsTransactionUSD\",\n",
    "                        \"type\": \"FundsIn\",\n",
    "                        \"instrumentIdentifiers\": {\n",
    "                          \"Instrument/default/Currency\": \"USD\",\n",
    "                        },\n",
    "                        \"transactionDate\": \"2023-02-01T00:00:00Z\",\n",
    "                        \"settlementDate\": \"2023-02-01T00:00:00Z\",\n",
    "                        \"units\": 10000000,\n",
    "                        \"transactionPrice\": {\n",
    "                          \"price\": 1,\n",
    "                          \"type\": \"Price\"\n",
    "                        },\n",
    "                        \"totalConsideration\": {\n",
    "                          \"amount\": 10000000,\n",
    "                          \"currency\": \"USD\"\n",
    "                        },\n",
    "                        \"transactionCurrency\": \"USD\"\n",
    "                    },\n",
    "                    {\n",
    "                        \"transactionId\": \"SeedFundsTransactionGBP\",\n",
    "                        \"type\": \"FundsIn\",\n",
    "                        \"instrumentIdentifiers\": {\n",
    "                          \"Instrument/default/Currency\": \"GBP\",\n",
    "                        },\n",
    "                        \"transactionDate\": \"2023-02-01T00:00:00Z\",\n",
    "                        \"settlementDate\": \"2023-02-01T00:00:00Z\",\n",
    "                        \"units\": 7500000,\n",
    "                        \"transactionPrice\": {\n",
    "                          \"price\": 1,\n",
    "                          \"type\": \"Price\"\n",
    "                        },\n",
    "                        \"totalConsideration\": {\n",
    "                          \"amount\": 7500000,\n",
    "                          \"currency\": \"GBP\"\n",
    "                        },\n",
    "                        \"transactionCurrency\": \"GBP\"\n",
    "                    },\n",
    "                    {\n",
    "                        \"transactionId\": \"SeedFundsTransactionAUD\",\n",
    "                        \"type\": \"FundsIn\",\n",
    "                        \"instrumentIdentifiers\": {\n",
    "                          \"Instrument/default/Currency\": \"AUD\",\n",
    "                        },\n",
    "                        \"transactionDate\": \"2023-02-01T00:00:00Z\",\n",
    "                        \"settlementDate\": \"2023-02-01T00:00:00Z\",\n",
    "                        \"units\": 25000000,\n",
    "                        \"transactionPrice\": {\n",
    "                          \"price\": 1,\n",
    "                          \"type\": \"Price\"\n",
    "                        },\n",
    "                        \"totalConsideration\": {\n",
    "                          \"amount\": 25000000,\n",
    "                          \"currency\": \"AUD\"\n",
    "                        },\n",
    "                        \"transactionCurrency\": \"AUD\"\n",
    "                    }\n",
    "                ]\n",
    "    )\n",
    ")"
   ]
  },
  {
   "cell_type": "markdown",
   "id": "5e3033bb",
   "metadata": {
    "slideshow": {
     "slide_type": "slide"
    }
   },
   "source": [
    "<p style=\"font-family: Montserrat; color: #203443; font-weight: bold; font-size: 125%\">Webhook Options</p>"
   ]
  },
  {
   "cell_type": "markdown",
   "id": "0c3e0f61",
   "metadata": {
    "slideshow": {
     "slide_type": "fragment"
    }
   },
   "source": [
    "<p style=\"font-family: Montserrat; color: #203443\">Content Types</p>\n",
    "<ul>\n",
    "    <li style=\"color: #ff5200\"><p style=\"font-family: Montserrat; color: #203443\">JSON (application/json)</p></li>\n",
    "    <li style=\"color: #ff5200\"><p style=\"font-family: Montserrat; color: #203443\">PlainText (text/plain)</p></li>\n",
    "</ul>"
   ]
  },
  {
   "cell_type": "markdown",
   "id": "2e100af6",
   "metadata": {
    "slideshow": {
     "slide_type": "subslide"
    }
   },
   "source": [
    "<p style=\"font-family: Montserrat; color: #203443\">Methods</p>\n",
    "<ul>\n",
    "    <li style=\"color: #ff5200\"><p style=\"font-family: Montserrat; color: #203443\">POST</p></li>\n",
    "    <li style=\"color: #ff5200\"><p style=\"font-family: Montserrat; color: #203443\">PUT</p></li>\n",
    "    <li style=\"color: #ff5200\"><p style=\"font-family: Montserrat; color: #203443\">DELETE</p></li>\n",
    "</ul>"
   ]
  },
  {
   "cell_type": "markdown",
   "id": "1dc9360c",
   "metadata": {
    "slideshow": {
     "slide_type": "subslide"
    }
   },
   "source": [
    "<p style=\"font-family: Montserrat; color: #203443\">Authentication Options</p>\n",
    "<ul>\n",
    "    <li style=\"color: #ff5200\"><p style=\"font-family: Montserrat; color: #203443\">Lusid</p></li>\n",
    "    <li style=\"color: #ff5200\"><p style=\"font-family: Montserrat; color: #203443\">Bearer</p></li>\n",
    "    <li style=\"color: #ff5200\"><p style=\"font-family: Montserrat; color: #203443\">Basic Auth</p></li>\n",
    "</ul>"
   ]
  },
  {
   "cell_type": "code",
   "execution_count": 7,
   "id": "dcf5370a",
   "metadata": {
    "slideshow": {
     "slide_type": "skip"
    }
   },
   "outputs": [],
   "source": [
    "try:\n",
    "    configuration_sets_api.get_configuration_set(\n",
    "        type=\"Shared\",\n",
    "        scope=\"FinbourneUniversity\",\n",
    "        code=\"jira\"\n",
    "    )\n",
    "    \n",
    "    configuration_sets_api.delete_configuration_set(\n",
    "        type=\"Shared\",\n",
    "        scope=\"FinbourneUniversity\",\n",
    "        code=\"jira\"\n",
    "    )\n",
    "    \n",
    "except lusid_configuration.ApiException as api_exception:\n",
    "    if api_exception.status == 404:\n",
    "        pass\n",
    "    else:\n",
    "        raise"
   ]
  },
  {
   "cell_type": "code",
   "execution_count": 8,
   "id": "a0c4f986",
   "metadata": {
    "slideshow": {
     "slide_type": "skip"
    }
   },
   "outputs": [],
   "source": [
    "config_response = configuration_sets_api.create_configuration_set(\n",
    "    create_configuration_set=lusid_configuration.CreateConfigurationSet(\n",
    "        id=lusid_configuration.ResourceId(\n",
    "            scope=\"FinbourneUniversity\",\n",
    "            code=\"jira\"\n",
    "        ),\n",
    "        type=\"Shared\",\n",
    "        description=\"Access tokens for JIRA\"\n",
    "    )\n",
    ")\n",
    "\n",
    "configuration_sets_api.add_configuration_to_set(\n",
    "    type=\"Shared\",\n",
    "    scope=\"FinbourneUniversity\",\n",
    "    code=\"jira\",\n",
    "    create_configuration_item=lusid_configuration.CreateConfigurationItem(\n",
    "        key=\"api-token\",\n",
    "        value=\"SampleToken\",\n",
    "        value_type=\"text\",\n",
    "        is_secret=True,\n",
    "        description=\"API Key for JIRA\"\n",
    "    )\n",
    ")\n",
    "\n",
    "configuration_sets_api.add_configuration_to_set(\n",
    "    type=\"Shared\",\n",
    "    scope=\"FinbourneUniversity\",\n",
    "    code=\"jira\",\n",
    "    create_configuration_item=lusid_configuration.CreateConfigurationItem(\n",
    "        key=\"username\",\n",
    "        value=\"SampleUsername\",\n",
    "        value_type=\"text\",\n",
    "        is_secret=False,\n",
    "        description=\"Username for JIRA\"\n",
    "    )\n",
    ")"
   ]
  },
  {
   "cell_type": "markdown",
   "id": "76d3b163",
   "metadata": {
    "slideshow": {
     "slide_type": "slide"
    }
   },
   "source": [
    "<p style=\"font-family: Montserrat; color: #203443; font-weight: bold; font-size: 125%\">Creating 3rd Party Webhook Notification</p>"
   ]
  },
  {
   "cell_type": "code",
   "execution_count": 9,
   "id": "552c003c",
   "metadata": {
    "slideshow": {
     "slide_type": "fragment"
    }
   },
   "outputs": [
    {
     "data": {
      "text/plain": [
       "{'content': {'Content': {'fields': {'assignee': {'id': '5bfe63e1ec71bd223bbe623c'},\n",
       "                                    'description': {'content': [{'content': [{'text': 'A '\n",
       "                                                                                      'portfolio '\n",
       "                                                                                      'has '\n",
       "                                                                                      'been '\n",
       "                                                                                      'created. '\n",
       "                                                                                      'Please '\n",
       "                                                                                      'make '\n",
       "                                                                                      'your '\n",
       "                                                                                      'first '\n",
       "                                                                                      'trades!',\n",
       "                                                                              'type': 'text'}],\n",
       "                                                                 'type': 'paragraph'},\n",
       "                                                                {'content': [{'text': 'Please '\n",
       "                                                                                      'close '\n",
       "                                                                                      'this '\n",
       "                                                                                      'ticket '\n",
       "                                                                                      'once '\n",
       "                                                                                      'the '\n",
       "                                                                                      'first '\n",
       "                                                                                      'trade '\n",
       "                                                                                      'has '\n",
       "                                                                                      'been '\n",
       "                                                                                      'placed',\n",
       "                                                                              'type': 'text'}],\n",
       "                                                                 'type': 'paragraph'}],\n",
       "                                                    'type': 'doc',\n",
       "                                                    'version': 1},\n",
       "                                    'issuetype': {'name': 'Task'},\n",
       "                                    'labels': ['trades', 'newPortfolio'],\n",
       "                                    'project': {'key': 'DEMO'},\n",
       "                                    'summary': 'TransactionPortfolio '\n",
       "                                               '{{PortfolioDisplayName}} '\n",
       "                                               'Created!'}},\n",
       "             'ContentType': 'Json'},\n",
       " 'created_at': datetime.datetime(2023, 5, 10, 9, 24, 23, 525781, tzinfo=tzlocal()),\n",
       " 'created_by': '00u4edvny74dXgwzK2p7',\n",
       " 'delivery_channel': 'Webhook',\n",
       " 'description': 'New Portfolio Created - Ticket',\n",
       " 'display_name': '',\n",
       " 'id': 'a5ebff1f-3883-4c32-9532-189009d2e813',\n",
       " 'last_modified_at': datetime.datetime(2023, 5, 10, 9, 24, 23, 525781, tzinfo=tzlocal()),\n",
       " 'last_modified_by': '00u4edvny74dXgwzK2p7',\n",
       " 'recipients': {'AuthenticationConfigurationItemPaths': {'password': 'config://shared/FinbourneUniversity/jira/api-token',\n",
       "                                                         'username': 'config://shared/FinbourneUniversity/jira/username'},\n",
       "                'AuthenticationType': 'BasicAuth',\n",
       "                'Method': 'POST',\n",
       "                'Url': 'https://acmecorp.atlassian.net/rest/api/3/issue'},\n",
       " 'status': {'last_updated': datetime.datetime(2023, 5, 10, 9, 24, 23, 525781, tzinfo=tzlocal()),\n",
       "            'result': 'Unprocessed'}}"
      ]
     },
     "execution_count": 9,
     "metadata": {},
     "output_type": "execute_result"
    }
   ],
   "source": [
    "notifications_api.create_webhook_notification(\n",
    "    scope=subscription_scope,\n",
    "    code=subscription_code,\n",
    "    create_webhook_notification=lusid_notifications.CreateWebhookNotification(\n",
    "        description=\"New Portfolio Created - Ticket\",\n",
    "        http_method=\"POST\",\n",
    "        url=\"https://acmecorp.atlassian.net/rest/api/3/issue\",\n",
    "        authentication_type=\"BasicAuth\",\n",
    "        authentication_configuration_item_paths={\n",
    "            \"username\": \"config://shared/FinbourneUniversity/jira/username\",\n",
    "            \"password\": \"config://shared/FinbourneUniversity/jira/api-token\"\n",
    "        },\n",
    "        content_type=\"Json\",\n",
    "        content={\n",
    "            \"fields\": {\n",
    "                \"project\": {\n",
    "                    \"key\": \"DEMO\"\n",
    "                },\n",
    "                \"issuetype\": {\n",
    "                    \"name\": \"Task\"\n",
    "                },\n",
    "                \"summary\": \"TransactionPortfolio {{PortfolioDisplayName}} Created!\",\n",
    "                \"description\": {\n",
    "                    \"type\": \"doc\",\n",
    "                    \"version\": 1,\n",
    "                    \"content\": [\n",
    "                        {\n",
    "                        \"type\": \"paragraph\",\n",
    "                        \"content\": [\n",
    "                            {\n",
    "                            \"text\": \"A portfolio has been created. Please make your first trades!\",\n",
    "                            \"type\": \"text\"\n",
    "                            }\n",
    "                        ]\n",
    "                        },\n",
    "                        {\n",
    "                        \"type\": \"paragraph\",\n",
    "                        \"content\": [\n",
    "                            {\n",
    "                            \"text\": \"Please close this ticket once the first trade has been placed\",\n",
    "                            \"type\": \"text\"\n",
    "                            }\n",
    "                        ]\n",
    "                        }\n",
    "                    ]\n",
    "                },\n",
    "                \"assignee\": {\n",
    "                    \"id\": \"5bfe63e1ec71bd223bbe623c\"\n",
    "                },\n",
    "                \"labels\": [\n",
    "                    \"trades\",\n",
    "                    \"newPortfolio\"\n",
    "                ]\n",
    "            }\n",
    "        }\n",
    "    )\n",
    ")"
   ]
  },
  {
   "cell_type": "code",
   "execution_count": 10,
   "id": "4be29019",
   "metadata": {
    "slideshow": {
     "slide_type": "skip"
    }
   },
   "outputs": [],
   "source": [
    "subscriptions_api.delete_subscription(\n",
    "    scope=subscription_scope,\n",
    "    code=subscription_code\n",
    ")\n",
    "\n",
    "configuration_sets_api.delete_configuration_set(\n",
    "    type=\"Shared\",\n",
    "    scope=\"FinbourneUniversity\",\n",
    "    code=\"jira\"\n",
    ")"
   ]
  },
  {
   "cell_type": "markdown",
   "id": "3a30b680",
   "metadata": {
    "slideshow": {
     "slide_type": "slide"
    }
   },
   "source": [
    "<p style=\"font-family: Montserrat; color: #203443; font-weight: bold; font-size: 125%\">What have we covered?</p>"
   ]
  },
  {
   "cell_type": "markdown",
   "id": "be8a7963",
   "metadata": {
    "slideshow": {
     "slide_type": "fragment"
    }
   },
   "source": [
    "<p style=\"font-family: Montserrat; color: #203443\">- We created a LUSID webhook notification using the Notifications API via the Python SDK.</p>"
   ]
  },
  {
   "cell_type": "markdown",
   "id": "b7f3aed8",
   "metadata": {
    "slideshow": {
     "slide_type": "fragment"
    }
   },
   "source": [
    "<p style=\"font-family: Montserrat; color: #203443\">- We looked at the available content types, authentication methods and request types for webhook notifications.</p>"
   ]
  },
  {
   "cell_type": "markdown",
   "id": "c61e581e",
   "metadata": {
    "slideshow": {
     "slide_type": "fragment"
    }
   },
   "source": [
    "<p style=\"font-family: Montserrat; color: #203443\">- We created a 3rd party webhook notification using the Notifications API via the Python SDK.</p>"
   ]
  }
 ],
 "metadata": {
  "celltoolbar": "Slideshow",
  "kernelspec": {
   "display_name": "Python 3 (ipykernel)",
   "language": "python",
   "name": "python3"
  },
  "language_info": {
   "codemirror_mode": {
    "name": "ipython",
    "version": 3
   },
   "file_extension": ".py",
   "mimetype": "text/x-python",
   "name": "python",
   "nbconvert_exporter": "python",
   "pygments_lexer": "ipython3",
   "version": "3.10.10"
  },
  "toc": {
   "base_numbering": 1,
   "nav_menu": {},
   "number_sections": false,
   "sideBar": true,
   "skip_h1_title": false,
   "title_cell": "Table of Contents",
   "title_sidebar": "Contents",
   "toc_cell": false,
   "toc_position": {},
   "toc_section_display": true,
   "toc_window_display": false
  },
  "varInspector": {
   "cols": {
    "lenName": 16,
    "lenType": 16,
    "lenVar": 40
   },
   "kernels_config": {
    "python": {
     "delete_cmd_postfix": "",
     "delete_cmd_prefix": "del ",
     "library": "var_list.py",
     "varRefreshCmd": "print(var_dic_list())"
    },
    "r": {
     "delete_cmd_postfix": ") ",
     "delete_cmd_prefix": "rm(",
     "library": "var_list.r",
     "varRefreshCmd": "cat(var_dic_list()) "
    }
   },
   "types_to_exclude": [
    "module",
    "function",
    "builtin_function_or_method",
    "instance",
    "_Feature"
   ],
   "window_display": false
  }
 },
 "nbformat": 4,
 "nbformat_minor": 5
}
