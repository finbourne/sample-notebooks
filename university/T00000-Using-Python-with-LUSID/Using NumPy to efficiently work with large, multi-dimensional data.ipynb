{
 "cells": [
  {
   "cell_type": "markdown",
   "id": "5083f1dc",
   "metadata": {
    "slideshow": {
     "slide_type": "slide"
    }
   },
   "source": [
    "## Using NumPy to efficiently work with large, multi-dimensional data\n",
    "This part of the course will serve as a short introduction to NumPy, a widely used Python module which leverages C code to efficiently process multi-dimensional arrays of data. You don't need to learn C to write efficient code, NumPy takes care of this without any effort from the programmer!\n",
    "\n",
    "This part of the course will cover:\n",
    " - What are NumPy arrays.\n",
    " - Creating NumPy arrays.\n",
    " - Basic vectorized operations.\n",
    " - Access NumPy array values."
   ]
  },
  {
   "cell_type": "markdown",
   "id": "4a055946",
   "metadata": {
    "slideshow": {
     "slide_type": "subslide"
    }
   },
   "source": [
    "### What are NumPy arrays?\n",
    "While a Python list can contain different data types within a single list, in order to improve efficiency, all of the elements in a NumPy array should be homogeneous.\n",
    "\n",
    "An array is a grid of values and it contains information about the raw data and how to locate an element. The elements are all of the same type, referred to as the array dtype. Note, this will not be one of the built-in Python types.\n",
    " \n",
    "The rank of the array is the number of dimensions the array has. \n",
    "The shape of the array is a tuple of integers giving the size of the array along each dimension."
   ]
  },
  {
   "cell_type": "markdown",
   "id": "aafd5e55",
   "metadata": {
    "slideshow": {
     "slide_type": "subslide"
    }
   },
   "source": [
    "### Creating numpy arrays\n",
    "\n",
    "Let's create some numpy arrays and explore their structure:\n"
   ]
  },
  {
   "cell_type": "code",
   "execution_count": 2,
   "id": "425cfd01",
   "metadata": {
    "slideshow": {
     "slide_type": "subslide"
    }
   },
   "outputs": [],
   "source": [
    "# lets print the arrays we create, along with array metadata\n",
    "def describe_np(aray):\n",
    "    # tuple of integers giving size of the array across each dimension\n",
    "    print(f'shape: {aray.shape}')\n",
    "    # rank\n",
    "    print(f'rank: {aray.ndim}')\n",
    "    # type of data\n",
    "    print(f'dtype: {aray.dtype.name}')\n",
    "    # size of each entry in array\n",
    "    print(f'itemsize: {aray.itemsize}')\n",
    "    # number of elements in array\n",
    "    print(f'size: {aray.size}')\n",
    "    print('-'*20)\n",
    "    print(f'a:{aray}')\n",
    "    print('-'*20)\n",
    "    "
   ]
  },
  {
   "cell_type": "markdown",
   "id": "1ec30744",
   "metadata": {
    "slideshow": {
     "slide_type": "notes"
    }
   },
   "source": [
    "I've created a function to display notable information about a NumPy array, such as the shape, number-of-dimensions, item datatypes, number of items in the array, and the array itself"
   ]
  },
  {
   "cell_type": "code",
   "execution_count": 3,
   "id": "80abe929",
   "metadata": {
    "slideshow": {
     "slide_type": "subslide"
    }
   },
   "outputs": [
    {
     "name": "stdout",
     "output_type": "stream",
     "text": [
      "shape: (3, 5)\n",
      "rank: 2\n",
      "dtype: int64\n",
      "itemsize: 8\n",
      "size: 15\n",
      "--------------------\n",
      "a:[[ 0  1  2  3  4]\n",
      " [ 5  6  7  8  9]\n",
      " [10 11 12 13 14]]\n",
      "--------------------\n"
     ]
    }
   ],
   "source": [
    "import numpy as np\n",
    "\n",
    "# create a numpy array with numbers from 0 to 15\n",
    "# of rank 2\n",
    "# with the first dimension of size 3,\n",
    "# and second dimension of size 5\n",
    "\n",
    "a = np.arange(15).reshape(3, 5)\n",
    "describe_np(a)\n",
    "\n"
   ]
  },
  {
   "cell_type": "markdown",
   "id": "11de0c71",
   "metadata": {
    "slideshow": {
     "slide_type": "notes"
    }
   },
   "source": [
    "Here we've created a NumPy array with 15 items, with 3 rows, and 5 columns, containing integers."
   ]
  },
  {
   "cell_type": "code",
   "execution_count": 4,
   "id": "39a56b1a",
   "metadata": {
    "slideshow": {
     "slide_type": "subslide"
    }
   },
   "outputs": [
    {
     "name": "stdout",
     "output_type": "stream",
     "text": [
      "shape: (3,)\n",
      "rank: 1\n",
      "dtype: int64\n",
      "itemsize: 8\n",
      "size: 3\n",
      "--------------------\n",
      "a:[2 3 4]\n",
      "--------------------\n"
     ]
    }
   ],
   "source": [
    "# create np array from Python array\n",
    "a = np.array([2, 3, 4])\n",
    "describe_np(a)"
   ]
  },
  {
   "cell_type": "markdown",
   "id": "bb4f3c56",
   "metadata": {
    "slideshow": {
     "slide_type": "notes"
    }
   },
   "source": [
    "We can create a NumPy array from a Python sequence type"
   ]
  },
  {
   "cell_type": "code",
   "execution_count": 5,
   "id": "a9ec6e84",
   "metadata": {
    "slideshow": {
     "slide_type": "subslide"
    }
   },
   "outputs": [
    {
     "name": "stdout",
     "output_type": "stream",
     "text": [
      "shape: (3,)\n",
      "rank: 1\n",
      "dtype: float64\n",
      "itemsize: 8\n",
      "size: 3\n",
      "--------------------\n",
      "a:[1.2 3.5 5.1]\n",
      "--------------------\n"
     ]
    }
   ],
   "source": [
    "b = np.array([1.2, 3.5, 5.1])\n",
    "# notice dtype is float64\n",
    "describe_np(b)"
   ]
  },
  {
   "cell_type": "markdown",
   "id": "542c0235",
   "metadata": {
    "slideshow": {
     "slide_type": "notes"
    }
   },
   "source": [
    "NumPy will do its best to give your array a sensible type, in this case floats"
   ]
  },
  {
   "cell_type": "code",
   "execution_count": 6,
   "id": "15308cbe",
   "metadata": {
    "slideshow": {
     "slide_type": "subslide"
    }
   },
   "outputs": [
    {
     "name": "stdout",
     "output_type": "stream",
     "text": [
      "shape: (2, 3)\n",
      "rank: 2\n",
      "dtype: float64\n",
      "itemsize: 8\n",
      "size: 6\n",
      "--------------------\n",
      "a:[[1.5 2.  3. ]\n",
      " [4.  5.  6. ]]\n",
      "--------------------\n"
     ]
    }
   ],
   "source": [
    "# numpy will auto convert sequences of sequences to 2 dim array\n",
    "# this also applies with more nested sequences in higher dimenstions\n",
    "c = np.array([(1.5, 2, 3), (4, 5, 6)])\n",
    "describe_np(c)"
   ]
  },
  {
   "cell_type": "markdown",
   "id": "5af18d46",
   "metadata": {
    "slideshow": {
     "slide_type": "notes"
    }
   },
   "source": [
    "We can use nested sequences, NumPy will create an array with the appropriate shape"
   ]
  },
  {
   "cell_type": "code",
   "execution_count": 8,
   "id": "febf1089",
   "metadata": {
    "slideshow": {
     "slide_type": "subslide"
    }
   },
   "outputs": [
    {
     "name": "stdout",
     "output_type": "stream",
     "text": [
      "shape: (2,)\n",
      "rank: 1\n",
      "dtype: float64\n",
      "itemsize: 8\n",
      "size: 2\n",
      "--------------------\n",
      "a:[1. 2.]\n",
      "--------------------\n"
     ]
    }
   ],
   "source": [
    "# we can define the type when we create an array\n",
    "d = np.array([1, 2], dtype=np.float64)\n",
    "describe_np(d)"
   ]
  },
  {
   "cell_type": "markdown",
   "id": "f7bb6c8f",
   "metadata": {
    "slideshow": {
     "slide_type": "notes"
    }
   },
   "source": [
    "We have specified this sequence of integers is treated as floats by NumPy"
   ]
  },
  {
   "cell_type": "code",
   "execution_count": 9,
   "id": "dde856d7",
   "metadata": {
    "slideshow": {
     "slide_type": "subslide"
    }
   },
   "outputs": [
    {
     "name": "stdout",
     "output_type": "stream",
     "text": [
      "shape: (2, 3)\n",
      "rank: 2\n",
      "dtype: float64\n",
      "itemsize: 8\n",
      "size: 6\n",
      "--------------------\n",
      "a:[[0. 0. 0.]\n",
      " [0. 0. 0.]]\n",
      "--------------------\n"
     ]
    }
   ],
   "source": [
    "# we can use zeros to create an array filled with zeros\n",
    "# we have to pass the shape of the array to the zeros fn\n",
    "e = np.zeros((2,3))\n",
    "describe_np(e)"
   ]
  },
  {
   "cell_type": "markdown",
   "id": "f3a2bdd6",
   "metadata": {
    "slideshow": {
     "slide_type": "notes"
    }
   },
   "source": [
    "NumPy provides the zeros function to initialise an array of some shape with all 0 values"
   ]
  },
  {
   "cell_type": "code",
   "execution_count": 10,
   "id": "a660f7eb",
   "metadata": {
    "slideshow": {
     "slide_type": "subslide"
    }
   },
   "outputs": [
    {
     "name": "stdout",
     "output_type": "stream",
     "text": [
      "shape: (2, 3)\n",
      "rank: 2\n",
      "dtype: float64\n",
      "itemsize: 8\n",
      "size: 6\n",
      "--------------------\n",
      "a:[[1. 1. 1.]\n",
      " [1. 1. 1.]]\n",
      "--------------------\n"
     ]
    }
   ],
   "source": [
    "# ones does the same\n",
    "f = np.ones((2,3))\n",
    "describe_np(f)"
   ]
  },
  {
   "cell_type": "markdown",
   "id": "ebdcd450",
   "metadata": {
    "slideshow": {
     "slide_type": "notes"
    }
   },
   "source": [
    "NumPy also provides a similar ones function"
   ]
  },
  {
   "cell_type": "code",
   "execution_count": 11,
   "id": "24d2b709",
   "metadata": {
    "slideshow": {
     "slide_type": "subslide"
    }
   },
   "outputs": [
    {
     "name": "stdout",
     "output_type": "stream",
     "text": [
      "shape: (4,)\n",
      "rank: 1\n",
      "dtype: int64\n",
      "itemsize: 8\n",
      "size: 4\n",
      "--------------------\n",
      "a:[0 1 2 3]\n",
      "--------------------\n"
     ]
    }
   ],
   "source": [
    "# we can use arange to create a sequence of integers - similar to range in Python\n",
    "g = np.arange(4)\n",
    "describe_np(g)"
   ]
  },
  {
   "cell_type": "markdown",
   "id": "7ed90b54",
   "metadata": {
    "slideshow": {
     "slide_type": "notes"
    }
   },
   "source": [
    "arange creates a sequence of integers with the same syntax as range in Python. here we've created a NumPy array with the numbers 0-3"
   ]
  },
  {
   "cell_type": "code",
   "execution_count": 12,
   "id": "3879f55e",
   "metadata": {
    "slideshow": {
     "slide_type": "subslide"
    }
   },
   "outputs": [
    {
     "name": "stdout",
     "output_type": "stream",
     "text": [
      "shape: (9,)\n",
      "rank: 1\n",
      "dtype: float64\n",
      "itemsize: 8\n",
      "size: 9\n",
      "--------------------\n",
      "a:[0.   0.25 0.5  0.75 1.   1.25 1.5  1.75 2.  ]\n",
      "--------------------\n"
     ]
    }
   ],
   "source": [
    "# use linspace to do the same for floating point sequences\n",
    "h = np.linspace(0, 2, 9) # 9 numbers from 0 to 2\n",
    "describe_np(h)"
   ]
  },
  {
   "cell_type": "markdown",
   "id": "e4aa78e4",
   "metadata": {
    "slideshow": {
     "slide_type": "notes"
    }
   },
   "source": [
    "If you'de like to create a sequence of floats, you generally get more predictable results with the linspace function"
   ]
  },
  {
   "cell_type": "markdown",
   "id": "8bc7823b",
   "metadata": {
    "slideshow": {
     "slide_type": "subslide"
    }
   },
   "source": [
    "### Basic vectorized operations\n",
    "Arithmetic operators on arrays apply elementwise. A new array is created and filled with the result."
   ]
  },
  {
   "cell_type": "code",
   "execution_count": 14,
   "id": "bf4ab6a0",
   "metadata": {
    "slideshow": {
     "slide_type": "subslide"
    }
   },
   "outputs": [
    {
     "data": {
      "text/plain": [
       "array([20, 30, 40, 50])"
      ]
     },
     "execution_count": 14,
     "metadata": {},
     "output_type": "execute_result"
    }
   ],
   "source": [
    "a = np.array([20, 30, 40, 50])\n",
    "# describe_np(a < 35)\n",
    "\n",
    "a"
   ]
  },
  {
   "cell_type": "markdown",
   "id": "cc39e09f",
   "metadata": {
    "slideshow": {
     "slide_type": "notes"
    }
   },
   "source": [
    "We evaluate item is less than 35 for all items in a, returning a new NumPy array with the boolean results of each evaluation."
   ]
  },
  {
   "cell_type": "code",
   "execution_count": 16,
   "id": "fba3ab7b",
   "metadata": {
    "slideshow": {
     "slide_type": "subslide"
    }
   },
   "outputs": [
    {
     "data": {
      "text/plain": [
       "array([0, 1, 2, 3])"
      ]
     },
     "execution_count": 16,
     "metadata": {},
     "output_type": "execute_result"
    }
   ],
   "source": [
    "# b = np.arange(4) #[0, 1, 2, 3]\n",
    "# describe_np(b*2)\n",
    "b"
   ]
  },
  {
   "cell_type": "markdown",
   "id": "bc63f6d5",
   "metadata": {
    "slideshow": {
     "slide_type": "notes"
    }
   },
   "source": [
    "We evaluate item multiplied by 2 for each item in b, returning a new NumPy array with the results of each evaluation"
   ]
  },
  {
   "cell_type": "markdown",
   "id": "53fc345b",
   "metadata": {
    "slideshow": {
     "slide_type": "subslide"
    }
   },
   "source": [
    "Many unary operations, such as computing the sum of all the elements in the array, are implemented as methods of the ndarray class."
   ]
  },
  {
   "cell_type": "code",
   "execution_count": 17,
   "id": "f2c3961c",
   "metadata": {
    "slideshow": {
     "slide_type": "subslide"
    }
   },
   "outputs": [
    {
     "name": "stdout",
     "output_type": "stream",
     "text": [
      "140\n",
      "20\n",
      "50\n"
     ]
    }
   ],
   "source": [
    "a = np.array([20, 30, 40, 50])\n",
    "print(a.sum())\n",
    "print(a.min())\n",
    "print(a.max())"
   ]
  },
  {
   "cell_type": "markdown",
   "id": "d1e02c5e",
   "metadata": {
    "slideshow": {
     "slide_type": "notes"
    }
   },
   "source": [
    "Here we get the sum, min and max of the a array, using built-in NumPy unary functions."
   ]
  },
  {
   "cell_type": "code",
   "execution_count": 18,
   "id": "3c837056",
   "metadata": {
    "slideshow": {
     "slide_type": "subslide"
    }
   },
   "outputs": [
    {
     "name": "stdout",
     "output_type": "stream",
     "text": [
      "shape: (3,)\n",
      "rank: 1\n",
      "dtype: float64\n",
      "itemsize: 8\n",
      "size: 3\n",
      "--------------------\n",
      "a:[2. 2. 2.]\n",
      "--------------------\n"
     ]
    }
   ],
   "source": [
    "# sum along one dimension\n",
    "b = np.ones((2,3))\n",
    "# sum all values across first dimension\n",
    "describe_np(b.sum(axis = 0))"
   ]
  },
  {
   "cell_type": "markdown",
   "id": "2c4ed511",
   "metadata": {
    "slideshow": {
     "slide_type": "notes"
    }
   },
   "source": [
    "We can use the axis parameter to specify which dimension to apply a function across, returning an array of values across that dimension"
   ]
  },
  {
   "cell_type": "markdown",
   "id": "31e286fa",
   "metadata": {
    "slideshow": {
     "slide_type": "subslide"
    }
   },
   "source": [
    "### Access NumPy array values.\n",
    "One-dimensional arrays can be indexed, sliced and iterated over, much like lists and other Python sequences."
   ]
  },
  {
   "cell_type": "code",
   "execution_count": 19,
   "id": "5261ed81",
   "metadata": {
    "slideshow": {
     "slide_type": "subslide"
    }
   },
   "outputs": [
    {
     "name": "stdout",
     "output_type": "stream",
     "text": [
      "shape: ()\n",
      "rank: 0\n",
      "dtype: int64\n",
      "itemsize: 8\n",
      "size: 1\n",
      "--------------------\n",
      "a:2\n",
      "--------------------\n",
      "\n",
      "shape: (3,)\n",
      "rank: 1\n",
      "dtype: int64\n",
      "itemsize: 8\n",
      "size: 3\n",
      "--------------------\n",
      "a:[2 3 4]\n",
      "--------------------\n"
     ]
    }
   ],
   "source": [
    "a = np.arange(10)\n",
    "describe_np(a[2])\n",
    "print('')\n",
    "describe_np(a[2:5])"
   ]
  },
  {
   "cell_type": "markdown",
   "id": "2bc2a4e2",
   "metadata": {
    "slideshow": {
     "slide_type": "notes"
    }
   },
   "source": [
    "one dimensional slicing is similar to Python array slicing. "
   ]
  },
  {
   "cell_type": "markdown",
   "id": "a1c7de04",
   "metadata": {
    "slideshow": {
     "slide_type": "subslide"
    }
   },
   "source": [
    "Multidimensional arrays can have one index per axis. These indices are given in a tuple separated by commas:"
   ]
  },
  {
   "cell_type": "code",
   "execution_count": 20,
   "id": "fb02d212",
   "metadata": {
    "slideshow": {
     "slide_type": "subslide"
    }
   },
   "outputs": [
    {
     "name": "stdout",
     "output_type": "stream",
     "text": [
      "shape: (2, 3)\n",
      "rank: 2\n",
      "dtype: int64\n",
      "itemsize: 8\n",
      "size: 6\n",
      "--------------------\n",
      "a:[[1 2 3]\n",
      " [4 5 6]]\n",
      "--------------------\n",
      "\n",
      "shape: ()\n",
      "rank: 0\n",
      "dtype: int64\n",
      "itemsize: 8\n",
      "size: 1\n",
      "--------------------\n",
      "a:1\n",
      "--------------------\n",
      "\n",
      "shape: (2,)\n",
      "rank: 1\n",
      "dtype: int64\n",
      "itemsize: 8\n",
      "size: 2\n",
      "--------------------\n",
      "a:[2 5]\n",
      "--------------------\n"
     ]
    }
   ],
   "source": [
    "b = np.array([[1,2,3],[4,5,6]])\n",
    "describe_np(b)\n",
    "print('')\n",
    "describe_np(b[0,0])\n",
    "print('')\n",
    "# all values in column 1\n",
    "describe_np(b[:, 1])"
   ]
  },
  {
   "cell_type": "markdown",
   "id": "9d9f974b",
   "metadata": {
    "slideshow": {
     "slide_type": "notes"
    }
   },
   "source": [
    "Here we can grab a single value from b by specifying indexes across both dimensions.\n",
    "\n",
    "We then grab a larger slice, by specifying a slice in one-dimension, and an index in another."
   ]
  },
  {
   "cell_type": "markdown",
   "id": "804e53d3",
   "metadata": {
    "slideshow": {
     "slide_type": "subslide"
    }
   },
   "source": [
    "Iterating over multidimensional arrays is done with respect to the first axis:\n",
    "\n"
   ]
  },
  {
   "cell_type": "code",
   "execution_count": 21,
   "id": "b921795d",
   "metadata": {
    "slideshow": {
     "slide_type": "subslide"
    }
   },
   "outputs": [
    {
     "name": "stdout",
     "output_type": "stream",
     "text": [
      "row 0: [1 2 3]\n",
      "row 1: [4 5 6]\n"
     ]
    }
   ],
   "source": [
    "b = np.array([[1,2,3],[4,5,6]])\n",
    "for index, row in enumerate(b):\n",
    "    print(f'row {index}: {row}')"
   ]
  },
  {
   "cell_type": "markdown",
   "id": "a6316ff9",
   "metadata": {
    "slideshow": {
     "slide_type": "notes"
    }
   },
   "source": [
    "Here we've iterated over all rows in b."
   ]
  },
  {
   "cell_type": "markdown",
   "id": "303886c1",
   "metadata": {
    "slideshow": {
     "slide_type": "subslide"
    }
   },
   "source": [
    "or we can use the flat attribute to iterate over all elements in an array"
   ]
  },
  {
   "cell_type": "code",
   "execution_count": 22,
   "id": "842d0452",
   "metadata": {
    "slideshow": {
     "slide_type": "subslide"
    }
   },
   "outputs": [
    {
     "name": "stdout",
     "output_type": "stream",
     "text": [
      "element 0: 1\n",
      "element 1: 2\n",
      "element 2: 3\n",
      "element 3: 4\n",
      "element 4: 5\n",
      "element 5: 6\n"
     ]
    }
   ],
   "source": [
    "b = np.array([[1,2,3],[4,5,6]])\n",
    "for index, element in enumerate(b.flat):\n",
    "    print(f'element {index}: {element}')"
   ]
  },
  {
   "cell_type": "markdown",
   "id": "0c8f0519",
   "metadata": {
    "slideshow": {
     "slide_type": "notes"
    }
   },
   "source": [
    "Here we've iterated over all values in b."
   ]
  }
 ],
 "metadata": {
  "celltoolbar": "Slideshow",
  "kernelspec": {
   "display_name": "Python 3 (ipykernel)",
   "language": "python",
   "name": "python3"
  },
  "language_info": {
   "codemirror_mode": {
    "name": "ipython",
    "version": 3
   },
   "file_extension": ".py",
   "mimetype": "text/x-python",
   "name": "python",
   "nbconvert_exporter": "python",
   "pygments_lexer": "ipython3",
   "version": "3.10.10"
  },
  "vscode": {
   "interpreter": {
    "hash": "b0fa6594d8f4cbf19f97940f81e996739fb7646882a419484c72d19e05852a7e"
   }
  }
 },
 "nbformat": 4,
 "nbformat_minor": 5
}
