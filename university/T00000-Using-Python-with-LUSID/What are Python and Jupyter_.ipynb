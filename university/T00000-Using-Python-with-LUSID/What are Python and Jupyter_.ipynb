{
 "cells": [
  {
   "cell_type": "markdown",
   "id": "59766e04",
   "metadata": {
    "slideshow": {
     "slide_type": "slide"
    }
   },
   "source": [
    "# What are Python and Jupyter?"
   ]
  },
  {
   "cell_type": "markdown",
   "id": "1cd0c435",
   "metadata": {
    "slideshow": {
     "slide_type": "fragment"
    }
   },
   "source": [
    "This part of the course introduces Python and Jupyter, which are commonly used to view and analyse data using short Python scripts."
   ]
  },
  {
   "cell_type": "markdown",
   "id": "2fa327d5",
   "metadata": {
    "slideshow": {
     "slide_type": "subslide"
    }
   },
   "source": [
    "## What is Python?\n",
    "\n",
    "Python is an interpreted, object-oriented, high-level programming language with dynamic semantics and typing (Rossum, 2022). Python has simple, easy-to-learn syntax, which makes it attractive for rapid application development and scripting.\n",
    "\n",
    "\n",
    "According to githut, open source python projects have the most pull requests and pushes in Q3 2020, making it the most actively used programming language on github (githut, 2022)."
   ]
  },
  {
   "cell_type": "markdown",
   "id": "25fcb83c",
   "metadata": {
    "slideshow": {
     "slide_type": "subslide"
    }
   },
   "source": [
    "## What are Jupyter notebooks?\n",
    "\n",
    "Jupyter notebooks are part of an ecosystem of interactive computing, research, education and data science tools produced by the Jupyter project. The Jupyter notebook and JupyterLab web applications allows users to craft live narratives combining text, code and multimedia output. \n",
    "\n",
    "\n",
    "These documents support exploratory computing in a wide array of programming languages and can be shared to support collaborative and reproducible work (numFOCUS, 2022).\n",
    "These applications implement a browser-based Read-Evaluate-Print-Loop (REPL) which enables the user to program interactively, exploring functionality and data in real time."
   ]
  },
  {
   "cell_type": "markdown",
   "id": "9332c58d",
   "metadata": {
    "slideshow": {
     "slide_type": "subslide"
    }
   },
   "source": [
    "#  How does Jupyter work? What is a kernel?\n",
    "\n",
    "The web application JupyterLab, and its predecessor Jupyter notebook, has 3 main components: Kernels, notebook files, and the notebook server."
   ]
  },
  {
   "cell_type": "markdown",
   "id": "17ddee39",
   "metadata": {
    "slideshow": {
     "slide_type": "fragment"
    }
   },
   "source": [
    "-\tKernel: A kernel is just a program that is sent some code, runs it, and returns the result to the calling application. Kernels will also provide other useful features, such as tab-completion, object introspection, and command history retrieval. There are many different kernels available for different programming languages. LUSID’s jupyter notebook environment currently supports Python, C# and F# programming languages."
   ]
  },
  {
   "cell_type": "markdown",
   "id": "25cfd26b",
   "metadata": {
    "slideshow": {
     "slide_type": "fragment"
    }
   },
   "source": [
    "-\tNotebook files: Jupyter Notebooks are structured data that represent your code, metadata, content, and outputs. When saved to disk, the notebook uses the extension .ipynb, and uses a JSON structure."
   ]
  },
  {
   "cell_type": "markdown",
   "id": "79637173",
   "metadata": {
    "slideshow": {
     "slide_type": "fragment"
    }
   },
   "source": [
    "-\tThe notebook server: The notebook server is a communication hub. The browser, notebook file on disk, and kernel cannot talk to each other directly. They communicate through the notebook server. The notebook server, not the kernel, is responsible for saving and loading notebooks. This is the user interface you see when you open Jupyter in LUSID\n",
    "(jupyter, 2022)."
   ]
  },
  {
   "cell_type": "markdown",
   "id": "b74f0cdc",
   "metadata": {
    "slideshow": {
     "slide_type": "subslide"
    }
   },
   "source": [
    "Figure 1: Jupyter notebook server as a communication hub (jupyter, 2022)\n",
    "![alt text](jupyter-architecture.png \"Title\")"
   ]
  },
  {
   "cell_type": "markdown",
   "id": "d8c50775",
   "metadata": {
    "slideshow": {
     "slide_type": "notes"
    }
   },
   "source": [
    "We can see here how the different parts of the Jupyter application interact.\n",
    "\n",
    "The notebook server is responsible for loading and saving notebooks, which you edit in the browser. \n",
    "When you run a cell\n",
    "- the notebook server sends the code to the kernel, which runs the code\n",
    "- the kernel sends any outputs back to the notebook server.\n",
    "- the notebook server updates the notebook, adding the outputs\n",
    "- the notebook server then sends the notebook back to the browser, updating it in the user interface."
   ]
  }
 ],
 "metadata": {
  "celltoolbar": "Slideshow",
  "kernelspec": {
   "display_name": "Python 3 (ipykernel)",
   "language": "python",
   "name": "python3"
  },
  "language_info": {
   "codemirror_mode": {
    "name": "ipython",
    "version": 3
   },
   "file_extension": ".py",
   "mimetype": "text/x-python",
   "name": "python",
   "nbconvert_exporter": "python",
   "pygments_lexer": "ipython3",
   "version": "3.10.10"
  },
  "vscode": {
   "interpreter": {
    "hash": "b0fa6594d8f4cbf19f97940f81e996739fb7646882a419484c72d19e05852a7e"
   }
  }
 },
 "nbformat": 4,
 "nbformat_minor": 5
}
