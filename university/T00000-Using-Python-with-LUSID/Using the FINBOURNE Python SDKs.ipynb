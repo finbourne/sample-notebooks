{
 "cells": [
  {
   "cell_type": "markdown",
   "id": "1f4e526d",
   "metadata": {
    "slideshow": {
     "slide_type": "slide"
    }
   },
   "source": [
    "## Using the FINBOURNE Python SDKs"
   ]
  },
  {
   "cell_type": "markdown",
   "id": "c58de81e",
   "metadata": {
    "slideshow": {
     "slide_type": "subslide"
    }
   },
   "source": [
    "We provide many tools for interacting with FINBOURNE products in Python and Jupyter.\n",
    "\n",
    "The FINBOURNE Python SDKs provides a set of objects and functions which enable you to call our APIs without having to write any direct http or serialisation code. We also provide other manually-written packages which make interacting with LUSID programmatically easier.\n",
    "In this section we'll:\n",
    "- Introduce the FINBOURNE Python SDKs, describing how they are used.\n",
    "- Describe some of the tools for interacting with LUSID in our hosted Jupyter environment."
   ]
  },
  {
   "cell_type": "markdown",
   "id": "0baab167",
   "metadata": {
    "slideshow": {
     "slide_type": "subslide"
    }
   },
   "source": [
    "### Authentication\n",
    "We have a set of SDKs such as the lusid-sdk-python, drive-sdk-python and finbourne-access-sdk-python, all hosted on Pypi. These SDKs provide api objects, with methods that can be used to perform actions in LUSID."
   ]
  },
  {
   "cell_type": "markdown",
   "id": "d5a1218d",
   "metadata": {
    "slideshow": {
     "slide_type": "subslide"
    }
   },
   "source": [
    "All authenticated calls to the LUSID API require an OpenID Connect ID token which is issued from your token issuer url. The details of these can be found on your LUSID portal under \"Applications\" within the \"Identity and Access Management\" section.\n",
    "\n",
    "This is explained in greater detail in our [knowledge base.](https://support.lusid.com/knowledgebase/article/KA-01667/en-us)"
   ]
  },
  {
   "cell_type": "code",
   "execution_count": 1,
   "id": "f113ccff",
   "metadata": {
    "slideshow": {
     "slide_type": "subslide"
    }
   },
   "outputs": [
    {
     "name": "stdout",
     "output_type": "stream",
     "text": [
      "['AborApi', 'AborConfigurationApi', 'AggregationApi', 'AllocationServiceApi', 'AllocationsApi', 'ApplicationMetadataApi', 'BlocksApi', 'CalendarsApi', 'ChartOfAccountsApi', 'ComplexMarketDataApi', 'ComplianceApi', 'ConfigurationRecipeApi', 'ConventionsApi', 'CorporateActionSourcesApi', 'CounterpartiesApi', 'CustomEntitiesApi', 'CustomEntityDefinitionsApi', 'CutLabelDefinitionsApi', 'DataTypesApi', 'DerivedTransactionPortfoliosApi', 'EntitiesApi', 'ExecutionsApi', 'InstrumentEventsApi', 'InstrumentsApi', 'LegalEntitiesApi', 'OrderGraphApi', 'OrderInstructionsApi', 'OrdersApi', 'PackagesApi', 'ParticipationsApi', 'PersonsApi', 'PlacementsApi', 'PortfolioGroupsApi', 'PortfoliosApi', 'PropertyDefinitionsApi', 'QuotesApi', 'ReconciliationsApi', 'ReferencePortfolioApi', 'RelationDefinitionsApi', 'RelationsApi', 'RelationshipDefinitionsApi', 'RelationshipsApi', 'SchemasApi', 'ScopesApi', 'SearchApi', 'SequencesApi', 'StructuredResultDataApi', 'SystemConfigurationApi', 'TaxRuleSetsApi', 'TransactionConfigurationApi', 'TransactionFeesApi', 'TransactionPortfoliosApi', 'TranslationApi']\n"
     ]
    }
   ],
   "source": [
    "import lusid\n",
    "import os\n",
    "from lusidjam import RefreshingToken\n",
    "from lusid.utilities import ApiConfigurationLoader\n",
    "import fbnsdkutilities.utilities as utils\n",
    "\n",
    "try:\n",
    "    # Authenticate to SDK\n",
    "    # Run the Notebook in Jupyterhub for your LUSID domain and authenticate automatically\n",
    "    secrets_path = os.getenv(\"FBN_SECRETS_PATH\")\n",
    "    # Run the Notebook locally using a secrets file (see https://support.lusid.com/knowledgebase/article/KA-01663)\n",
    "    if secrets_path is None:\n",
    "        secrets_path = os.path.join(os.path.dirname(os.getcwd()), \"secrets.json\")\n",
    "\n",
    "    api_factory = utils.ApiClientFactory(\n",
    "        lusid,\n",
    "        token = RefreshingToken(), \n",
    "        api_secrets_filename = secrets_path,\n",
    "        app_name = \"LusidJupyterNotebook\"\n",
    "    )\n",
    "\n",
    "    print([api for api in dir(lusid.api) if \"Api\" in api])\n",
    "except Exception as e:\n",
    "    print(e)\n",
    "\n"
   ]
  },
  {
   "cell_type": "markdown",
   "id": "6ed26b82",
   "metadata": {
    "slideshow": {
     "slide_type": "notes"
    }
   },
   "source": [
    "Here's an example using the lusid python sdk. We initialise an `api_factory` using our access details, which can be provided in either a secrets json file, or as environment variables. Here we have some environment variables set, we use `RefreshingToken` to grab a token using these environment variables.\n",
    "\n",
    "We then print a list of the available APIs in the lusid preview sdk.\n",
    "\n"
   ]
  },
  {
   "cell_type": "code",
   "execution_count": 2,
   "id": "4d1a2f40",
   "metadata": {
    "scrolled": true,
    "slideshow": {
     "slide_type": "subslide"
    }
   },
   "outputs": [
    {
     "name": "stdout",
     "output_type": "stream",
     "text": [
      "{'api_version': 'v0',\n",
      " 'build_version': '0.6.11269.0',\n",
      " 'excel_version': '0.5.3236',\n",
      " 'links': [{'description': 'A link to the LUSID Insights website showing all '\n",
      "                           'logs related to this request',\n",
      "            'href': 'http://fbn-ci.lusid.com/app/insights/logs/0HMQGHN9BNJGO:0000011E',\n",
      "            'method': 'GET',\n",
      "            'relation': 'RequestLogs'}]}\n"
     ]
    }
   ],
   "source": [
    "try:\n",
    "    api_instance = api_factory.build(lusid.ApplicationMetadataApi)\n",
    "    # GetLusidVersions: Get LUSID versions\n",
    "    api_response = api_instance.get_lusid_versions()\n",
    "    print(api_response)\n",
    "except lusid.rest.ApiException as e:\n",
    "    print(\"Exception when calling ApplicationMetadataApi->get_lusid_versions: %s\\n\" % e)"
   ]
  },
  {
   "cell_type": "markdown",
   "id": "5dd93e0f",
   "metadata": {
    "slideshow": {
     "slide_type": "notes"
    }
   },
   "source": [
    "Here, we use our `api_factory` to build an `ApplicationMetadatApi` object, which we can use to send requests for our ApplicationMetadata REST endpoints.\n",
    "We then call the `get_lusid_versions` method on this object, which sends a request to the ApplicationMetadataApi->get_lusid_versions endpoint, returning the result as a json string."
   ]
  },
  {
   "cell_type": "markdown",
   "id": "3babbd50",
   "metadata": {
    "slideshow": {
     "slide_type": "subslide"
    }
   },
   "source": [
    "### Tools for interacting with LUSID in our hosted Jupyter environment.\n",
    "We provide a Jupyter environment that you can access and use to interactively write Python and dotnet scripts. In our Jupyter environment, the preview SDKs come installed by default."
   ]
  },
  {
   "cell_type": "markdown",
   "id": "cb1485fc",
   "metadata": {
    "slideshow": {
     "slide_type": "subslide"
    }
   },
   "source": [
    "We provide the lusidjam library, which can be used to provide an authentication token without re-entering credentials into your Python scripts:"
   ]
  },
  {
   "cell_type": "code",
   "execution_count": 3,
   "id": "7206036e",
   "metadata": {
    "slideshow": {
     "slide_type": "subslide"
    }
   },
   "outputs": [],
   "source": [
    "import lusidjam\n",
    "\n",
    "api_factory = utils.ApiClientFactory(\n",
    "    lusid,\n",
    "    token = lusidjam.RefreshingToken()\n",
    ")"
   ]
  },
  {
   "cell_type": "markdown",
   "id": "0a1bac19",
   "metadata": {
    "slideshow": {
     "slide_type": "notes"
    }
   },
   "source": [
    "Here we've built an api-factory using credentials stored in our jupyter environment."
   ]
  },
  {
   "cell_type": "markdown",
   "id": "840092c9",
   "metadata": {
    "slideshow": {
     "slide_type": "subslide"
    }
   },
   "source": [
    "We also provide a custom magic command to query luminesce:"
   ]
  },
  {
   "cell_type": "code",
   "execution_count": 4,
   "id": "e28c8fdb",
   "metadata": {},
   "outputs": [],
   "source": [
    "import os\n",
    "from IPython.core.magic import (register_line_cell_magic)\n",
    "from lumipy.client import Client\n",
    "from lusidjam import RefreshingToken\n",
    "\n",
    "token = RefreshingToken()\n",
    "lusid_api_url = api_factory.api_client.configuration.host\n",
    "lumi_api_url = lusid_api_url[: lusid_api_url.rfind(\"/\") + 1] + \"honeycomb\"\n",
    "os.environ[\"FBN_LUMI_API_URL\"] = lumi_api_url\n",
    "lumi_url = os.getenv(\"FBN_LUMI_API_URL\")\n",
    "\n",
    "@register_line_cell_magic\n",
    "def luminesce(line, cell=None):\n",
    "    query = cell if cell is not None else line\n",
    "\n",
    "    lm_client = Client(token=token, api_url=lumi_url)\n",
    "\n",
    "    df = lm_client.query_and_fetch(query)\n",
    "            \n",
    "    return df\n",
    "\n",
    "# In an interactive session, we need to delete to avoid\n",
    "# name conflicts for automagic to work on line magics.\n",
    "del luminesce"
   ]
  },
  {
   "cell_type": "code",
   "execution_count": 5,
   "id": "291f7d8c",
   "metadata": {
    "scrolled": true,
    "slideshow": {
     "slide_type": "subslide"
    }
   },
   "outputs": [
    {
     "data": {
      "text/html": [
       "<div>\n",
       "<style scoped>\n",
       "    .dataframe tbody tr th:only-of-type {\n",
       "        vertical-align: middle;\n",
       "    }\n",
       "\n",
       "    .dataframe tbody tr th {\n",
       "        vertical-align: top;\n",
       "    }\n",
       "\n",
       "    .dataframe thead th {\n",
       "        text-align: right;\n",
       "    }\n",
       "</style>\n",
       "<table border=\"1\" class=\"dataframe\">\n",
       "  <thead>\n",
       "    <tr style=\"text-align: right;\">\n",
       "      <th></th>\n",
       "      <th>LusidInstrumentId</th>\n",
       "      <th>Figi</th>\n",
       "      <th>ClientInternal</th>\n",
       "      <th>QuotePermId</th>\n",
       "      <th>EdiKey</th>\n",
       "      <th>SecurityNumber</th>\n",
       "      <th>Isin</th>\n",
       "      <th>Sedol</th>\n",
       "      <th>Cusip</th>\n",
       "      <th>Ticker</th>\n",
       "      <th>...</th>\n",
       "      <th>CountryOfIncorporation</th>\n",
       "      <th>Exchange</th>\n",
       "      <th>IssuerId</th>\n",
       "      <th>IssuerName</th>\n",
       "      <th>LegalEntityId</th>\n",
       "      <th>NaicsCode</th>\n",
       "      <th>ParValue</th>\n",
       "      <th>PrimaryCurrency</th>\n",
       "      <th>PrimaryExchange</th>\n",
       "      <th>SecurityId</th>\n",
       "    </tr>\n",
       "  </thead>\n",
       "  <tbody>\n",
       "    <tr>\n",
       "      <th>0</th>\n",
       "      <td>LUID_0001E0IN</td>\n",
       "      <td>BBG00WGHTKZ1186</td>\n",
       "      <td>NaN</td>\n",
       "      <td>NaN</td>\n",
       "      <td>NaN</td>\n",
       "      <td>NaN</td>\n",
       "      <td>NaN</td>\n",
       "      <td>NaN</td>\n",
       "      <td>NaN</td>\n",
       "      <td>NaN</td>\n",
       "      <td>...</td>\n",
       "      <td>NaN</td>\n",
       "      <td>NaN</td>\n",
       "      <td>NaN</td>\n",
       "      <td>NaN</td>\n",
       "      <td>NaN</td>\n",
       "      <td>NaN</td>\n",
       "      <td>NaN</td>\n",
       "      <td>NaN</td>\n",
       "      <td>NaN</td>\n",
       "      <td>NaN</td>\n",
       "    </tr>\n",
       "    <tr>\n",
       "      <th>1</th>\n",
       "      <td>LUID_0001E0ML</td>\n",
       "      <td>BBG00WGHTKZ1376</td>\n",
       "      <td>NaN</td>\n",
       "      <td>NaN</td>\n",
       "      <td>NaN</td>\n",
       "      <td>NaN</td>\n",
       "      <td>NaN</td>\n",
       "      <td>NaN</td>\n",
       "      <td>NaN</td>\n",
       "      <td>NaN</td>\n",
       "      <td>...</td>\n",
       "      <td>NaN</td>\n",
       "      <td>NaN</td>\n",
       "      <td>NaN</td>\n",
       "      <td>NaN</td>\n",
       "      <td>NaN</td>\n",
       "      <td>NaN</td>\n",
       "      <td>NaN</td>\n",
       "      <td>NaN</td>\n",
       "      <td>NaN</td>\n",
       "      <td>NaN</td>\n",
       "    </tr>\n",
       "    <tr>\n",
       "      <th>2</th>\n",
       "      <td>LUID_0001E0J7</td>\n",
       "      <td>BBG00WGHTKZ1377</td>\n",
       "      <td>NaN</td>\n",
       "      <td>NaN</td>\n",
       "      <td>NaN</td>\n",
       "      <td>NaN</td>\n",
       "      <td>NaN</td>\n",
       "      <td>NaN</td>\n",
       "      <td>NaN</td>\n",
       "      <td>NaN</td>\n",
       "      <td>...</td>\n",
       "      <td>NaN</td>\n",
       "      <td>NaN</td>\n",
       "      <td>NaN</td>\n",
       "      <td>NaN</td>\n",
       "      <td>NaN</td>\n",
       "      <td>NaN</td>\n",
       "      <td>NaN</td>\n",
       "      <td>NaN</td>\n",
       "      <td>NaN</td>\n",
       "      <td>NaN</td>\n",
       "    </tr>\n",
       "    <tr>\n",
       "      <th>3</th>\n",
       "      <td>LUID_0001E1IP</td>\n",
       "      <td>BBG00WGHTKZ1929</td>\n",
       "      <td>NaN</td>\n",
       "      <td>NaN</td>\n",
       "      <td>NaN</td>\n",
       "      <td>NaN</td>\n",
       "      <td>NaN</td>\n",
       "      <td>NaN</td>\n",
       "      <td>NaN</td>\n",
       "      <td>NaN</td>\n",
       "      <td>...</td>\n",
       "      <td>NaN</td>\n",
       "      <td>NaN</td>\n",
       "      <td>NaN</td>\n",
       "      <td>NaN</td>\n",
       "      <td>NaN</td>\n",
       "      <td>NaN</td>\n",
       "      <td>NaN</td>\n",
       "      <td>NaN</td>\n",
       "      <td>NaN</td>\n",
       "      <td>NaN</td>\n",
       "    </tr>\n",
       "    <tr>\n",
       "      <th>4</th>\n",
       "      <td>LUID_0001E0X7</td>\n",
       "      <td>BBG00WGHTKZ1595</td>\n",
       "      <td>NaN</td>\n",
       "      <td>NaN</td>\n",
       "      <td>NaN</td>\n",
       "      <td>NaN</td>\n",
       "      <td>NaN</td>\n",
       "      <td>NaN</td>\n",
       "      <td>NaN</td>\n",
       "      <td>NaN</td>\n",
       "      <td>...</td>\n",
       "      <td>NaN</td>\n",
       "      <td>NaN</td>\n",
       "      <td>NaN</td>\n",
       "      <td>NaN</td>\n",
       "      <td>NaN</td>\n",
       "      <td>NaN</td>\n",
       "      <td>NaN</td>\n",
       "      <td>NaN</td>\n",
       "      <td>NaN</td>\n",
       "      <td>NaN</td>\n",
       "    </tr>\n",
       "    <tr>\n",
       "      <th>5</th>\n",
       "      <td>LUID_0001E0JE</td>\n",
       "      <td>BBG00WGHTKZ1100</td>\n",
       "      <td>NaN</td>\n",
       "      <td>NaN</td>\n",
       "      <td>NaN</td>\n",
       "      <td>NaN</td>\n",
       "      <td>NaN</td>\n",
       "      <td>NaN</td>\n",
       "      <td>NaN</td>\n",
       "      <td>NaN</td>\n",
       "      <td>...</td>\n",
       "      <td>NaN</td>\n",
       "      <td>NaN</td>\n",
       "      <td>NaN</td>\n",
       "      <td>NaN</td>\n",
       "      <td>NaN</td>\n",
       "      <td>NaN</td>\n",
       "      <td>NaN</td>\n",
       "      <td>NaN</td>\n",
       "      <td>NaN</td>\n",
       "      <td>NaN</td>\n",
       "    </tr>\n",
       "    <tr>\n",
       "      <th>6</th>\n",
       "      <td>LUID_0001E11Y</td>\n",
       "      <td>BBG00WGHTKZ1529</td>\n",
       "      <td>NaN</td>\n",
       "      <td>NaN</td>\n",
       "      <td>NaN</td>\n",
       "      <td>NaN</td>\n",
       "      <td>NaN</td>\n",
       "      <td>NaN</td>\n",
       "      <td>NaN</td>\n",
       "      <td>NaN</td>\n",
       "      <td>...</td>\n",
       "      <td>NaN</td>\n",
       "      <td>NaN</td>\n",
       "      <td>NaN</td>\n",
       "      <td>NaN</td>\n",
       "      <td>NaN</td>\n",
       "      <td>NaN</td>\n",
       "      <td>NaN</td>\n",
       "      <td>NaN</td>\n",
       "      <td>NaN</td>\n",
       "      <td>NaN</td>\n",
       "    </tr>\n",
       "    <tr>\n",
       "      <th>7</th>\n",
       "      <td>LUID_0001E0LM</td>\n",
       "      <td>BBG00WGHTKZ1006</td>\n",
       "      <td>NaN</td>\n",
       "      <td>NaN</td>\n",
       "      <td>NaN</td>\n",
       "      <td>NaN</td>\n",
       "      <td>NaN</td>\n",
       "      <td>NaN</td>\n",
       "      <td>NaN</td>\n",
       "      <td>NaN</td>\n",
       "      <td>...</td>\n",
       "      <td>NaN</td>\n",
       "      <td>NaN</td>\n",
       "      <td>NaN</td>\n",
       "      <td>NaN</td>\n",
       "      <td>NaN</td>\n",
       "      <td>NaN</td>\n",
       "      <td>NaN</td>\n",
       "      <td>NaN</td>\n",
       "      <td>NaN</td>\n",
       "      <td>NaN</td>\n",
       "    </tr>\n",
       "    <tr>\n",
       "      <th>8</th>\n",
       "      <td>LUID_0001E0W6</td>\n",
       "      <td>BBG00WGHTKZ1716</td>\n",
       "      <td>NaN</td>\n",
       "      <td>NaN</td>\n",
       "      <td>NaN</td>\n",
       "      <td>NaN</td>\n",
       "      <td>NaN</td>\n",
       "      <td>NaN</td>\n",
       "      <td>NaN</td>\n",
       "      <td>NaN</td>\n",
       "      <td>...</td>\n",
       "      <td>NaN</td>\n",
       "      <td>NaN</td>\n",
       "      <td>NaN</td>\n",
       "      <td>NaN</td>\n",
       "      <td>NaN</td>\n",
       "      <td>NaN</td>\n",
       "      <td>NaN</td>\n",
       "      <td>NaN</td>\n",
       "      <td>NaN</td>\n",
       "      <td>NaN</td>\n",
       "    </tr>\n",
       "    <tr>\n",
       "      <th>9</th>\n",
       "      <td>LUID_0001E1CK</td>\n",
       "      <td>BBG00WGHTKZ2030</td>\n",
       "      <td>NaN</td>\n",
       "      <td>NaN</td>\n",
       "      <td>NaN</td>\n",
       "      <td>NaN</td>\n",
       "      <td>NaN</td>\n",
       "      <td>NaN</td>\n",
       "      <td>NaN</td>\n",
       "      <td>NaN</td>\n",
       "      <td>...</td>\n",
       "      <td>NaN</td>\n",
       "      <td>NaN</td>\n",
       "      <td>NaN</td>\n",
       "      <td>NaN</td>\n",
       "      <td>NaN</td>\n",
       "      <td>NaN</td>\n",
       "      <td>NaN</td>\n",
       "      <td>NaN</td>\n",
       "      <td>NaN</td>\n",
       "      <td>NaN</td>\n",
       "    </tr>\n",
       "  </tbody>\n",
       "</table>\n",
       "<p>10 rows × 35 columns</p>\n",
       "</div>"
      ],
      "text/plain": [
       "  LusidInstrumentId             Figi  ClientInternal  QuotePermId  EdiKey   \n",
       "0     LUID_0001E0IN  BBG00WGHTKZ1186             NaN          NaN     NaN  \\\n",
       "1     LUID_0001E0ML  BBG00WGHTKZ1376             NaN          NaN     NaN   \n",
       "2     LUID_0001E0J7  BBG00WGHTKZ1377             NaN          NaN     NaN   \n",
       "3     LUID_0001E1IP  BBG00WGHTKZ1929             NaN          NaN     NaN   \n",
       "4     LUID_0001E0X7  BBG00WGHTKZ1595             NaN          NaN     NaN   \n",
       "5     LUID_0001E0JE  BBG00WGHTKZ1100             NaN          NaN     NaN   \n",
       "6     LUID_0001E11Y  BBG00WGHTKZ1529             NaN          NaN     NaN   \n",
       "7     LUID_0001E0LM  BBG00WGHTKZ1006             NaN          NaN     NaN   \n",
       "8     LUID_0001E0W6  BBG00WGHTKZ1716             NaN          NaN     NaN   \n",
       "9     LUID_0001E1CK  BBG00WGHTKZ2030             NaN          NaN     NaN   \n",
       "\n",
       "   SecurityNumber  Isin  Sedol  Cusip  Ticker  ...  CountryOfIncorporation   \n",
       "0             NaN   NaN    NaN    NaN     NaN  ...                     NaN  \\\n",
       "1             NaN   NaN    NaN    NaN     NaN  ...                     NaN   \n",
       "2             NaN   NaN    NaN    NaN     NaN  ...                     NaN   \n",
       "3             NaN   NaN    NaN    NaN     NaN  ...                     NaN   \n",
       "4             NaN   NaN    NaN    NaN     NaN  ...                     NaN   \n",
       "5             NaN   NaN    NaN    NaN     NaN  ...                     NaN   \n",
       "6             NaN   NaN    NaN    NaN     NaN  ...                     NaN   \n",
       "7             NaN   NaN    NaN    NaN     NaN  ...                     NaN   \n",
       "8             NaN   NaN    NaN    NaN     NaN  ...                     NaN   \n",
       "9             NaN   NaN    NaN    NaN     NaN  ...                     NaN   \n",
       "\n",
       "   Exchange  IssuerId  IssuerName LegalEntityId NaicsCode  ParValue   \n",
       "0       NaN       NaN         NaN           NaN       NaN       NaN  \\\n",
       "1       NaN       NaN         NaN           NaN       NaN       NaN   \n",
       "2       NaN       NaN         NaN           NaN       NaN       NaN   \n",
       "3       NaN       NaN         NaN           NaN       NaN       NaN   \n",
       "4       NaN       NaN         NaN           NaN       NaN       NaN   \n",
       "5       NaN       NaN         NaN           NaN       NaN       NaN   \n",
       "6       NaN       NaN         NaN           NaN       NaN       NaN   \n",
       "7       NaN       NaN         NaN           NaN       NaN       NaN   \n",
       "8       NaN       NaN         NaN           NaN       NaN       NaN   \n",
       "9       NaN       NaN         NaN           NaN       NaN       NaN   \n",
       "\n",
       "   PrimaryCurrency PrimaryExchange SecurityId  \n",
       "0              NaN             NaN        NaN  \n",
       "1              NaN             NaN        NaN  \n",
       "2              NaN             NaN        NaN  \n",
       "3              NaN             NaN        NaN  \n",
       "4              NaN             NaN        NaN  \n",
       "5              NaN             NaN        NaN  \n",
       "6              NaN             NaN        NaN  \n",
       "7              NaN             NaN        NaN  \n",
       "8              NaN             NaN        NaN  \n",
       "9              NaN             NaN        NaN  \n",
       "\n",
       "[10 rows x 35 columns]"
      ]
     },
     "execution_count": 5,
     "metadata": {},
     "output_type": "execute_result"
    }
   ],
   "source": [
    "%%luminesce\n",
    "SELECT * FROM Lusid.Instrument.Equity LIMIT 10"
   ]
  },
  {
   "cell_type": "markdown",
   "id": "fd962965",
   "metadata": {
    "slideshow": {
     "slide_type": "notes"
    }
   },
   "source": [
    "This cell magic runs any statement in the cell below the magic command, displaying a pandas dataframe containing the output of the luminesce query."
   ]
  },
  {
   "cell_type": "code",
   "execution_count": 6,
   "id": "b6e860a9",
   "metadata": {
    "slideshow": {
     "slide_type": "subslide"
    }
   },
   "outputs": [
    {
     "data": {
      "text/html": [
       "<div>\n",
       "<style scoped>\n",
       "    .dataframe tbody tr th:only-of-type {\n",
       "        vertical-align: middle;\n",
       "    }\n",
       "\n",
       "    .dataframe tbody tr th {\n",
       "        vertical-align: top;\n",
       "    }\n",
       "\n",
       "    .dataframe thead th {\n",
       "        text-align: right;\n",
       "    }\n",
       "</style>\n",
       "<table border=\"1\" class=\"dataframe\">\n",
       "  <thead>\n",
       "    <tr style=\"text-align: right;\">\n",
       "      <th></th>\n",
       "      <th>LusidInstrumentId</th>\n",
       "      <th>Figi</th>\n",
       "      <th>ClientInternal</th>\n",
       "      <th>QuotePermId</th>\n",
       "      <th>EdiKey</th>\n",
       "      <th>SecurityNumber</th>\n",
       "      <th>Isin</th>\n",
       "      <th>Sedol</th>\n",
       "      <th>Cusip</th>\n",
       "      <th>Ticker</th>\n",
       "      <th>...</th>\n",
       "      <th>CountryOfIncorporation</th>\n",
       "      <th>Exchange</th>\n",
       "      <th>IssuerId</th>\n",
       "      <th>IssuerName</th>\n",
       "      <th>LegalEntityId</th>\n",
       "      <th>NaicsCode</th>\n",
       "      <th>ParValue</th>\n",
       "      <th>PrimaryCurrency</th>\n",
       "      <th>PrimaryExchange</th>\n",
       "      <th>SecurityId</th>\n",
       "    </tr>\n",
       "  </thead>\n",
       "  <tbody>\n",
       "    <tr>\n",
       "      <th>0</th>\n",
       "      <td>LUID_00010Q97</td>\n",
       "      <td>NaN</td>\n",
       "      <td>Equity5068e3d3-adc6-4322-97b5-fe484e791221</td>\n",
       "      <td>NaN</td>\n",
       "      <td>NaN</td>\n",
       "      <td>NaN</td>\n",
       "      <td>NaN</td>\n",
       "      <td>NaN</td>\n",
       "      <td>NaN</td>\n",
       "      <td>NaN</td>\n",
       "      <td>...</td>\n",
       "      <td>NaN</td>\n",
       "      <td>NaN</td>\n",
       "      <td>NaN</td>\n",
       "      <td>NaN</td>\n",
       "      <td>NaN</td>\n",
       "      <td>NaN</td>\n",
       "      <td>NaN</td>\n",
       "      <td>NaN</td>\n",
       "      <td>NaN</td>\n",
       "      <td>NaN</td>\n",
       "    </tr>\n",
       "    <tr>\n",
       "      <th>1</th>\n",
       "      <td>LUID_0000Y3B0</td>\n",
       "      <td>NaN</td>\n",
       "      <td>Equitydf5f6ba0-fb3a-4f3f-83de-a498f7056648</td>\n",
       "      <td>NaN</td>\n",
       "      <td>NaN</td>\n",
       "      <td>NaN</td>\n",
       "      <td>NaN</td>\n",
       "      <td>NaN</td>\n",
       "      <td>NaN</td>\n",
       "      <td>NaN</td>\n",
       "      <td>...</td>\n",
       "      <td>NaN</td>\n",
       "      <td>NaN</td>\n",
       "      <td>NaN</td>\n",
       "      <td>NaN</td>\n",
       "      <td>NaN</td>\n",
       "      <td>NaN</td>\n",
       "      <td>NaN</td>\n",
       "      <td>NaN</td>\n",
       "      <td>NaN</td>\n",
       "      <td>NaN</td>\n",
       "    </tr>\n",
       "    <tr>\n",
       "      <th>2</th>\n",
       "      <td>LUID_000140Z8</td>\n",
       "      <td>NaN</td>\n",
       "      <td>Equityf3d2e4fc-2898-43f0-a147-4566184df03a</td>\n",
       "      <td>NaN</td>\n",
       "      <td>NaN</td>\n",
       "      <td>NaN</td>\n",
       "      <td>NaN</td>\n",
       "      <td>NaN</td>\n",
       "      <td>NaN</td>\n",
       "      <td>NaN</td>\n",
       "      <td>...</td>\n",
       "      <td>NaN</td>\n",
       "      <td>NaN</td>\n",
       "      <td>NaN</td>\n",
       "      <td>NaN</td>\n",
       "      <td>NaN</td>\n",
       "      <td>NaN</td>\n",
       "      <td>NaN</td>\n",
       "      <td>NaN</td>\n",
       "      <td>NaN</td>\n",
       "      <td>NaN</td>\n",
       "    </tr>\n",
       "    <tr>\n",
       "      <th>3</th>\n",
       "      <td>LUID_00013KNX</td>\n",
       "      <td>NaN</td>\n",
       "      <td>Equity800ed431-7be6-4992-8643-74d2e6335572</td>\n",
       "      <td>NaN</td>\n",
       "      <td>NaN</td>\n",
       "      <td>NaN</td>\n",
       "      <td>NaN</td>\n",
       "      <td>NaN</td>\n",
       "      <td>NaN</td>\n",
       "      <td>NaN</td>\n",
       "      <td>...</td>\n",
       "      <td>NaN</td>\n",
       "      <td>NaN</td>\n",
       "      <td>NaN</td>\n",
       "      <td>NaN</td>\n",
       "      <td>NaN</td>\n",
       "      <td>NaN</td>\n",
       "      <td>NaN</td>\n",
       "      <td>NaN</td>\n",
       "      <td>NaN</td>\n",
       "      <td>NaN</td>\n",
       "    </tr>\n",
       "    <tr>\n",
       "      <th>4</th>\n",
       "      <td>LUID_0000YB9E</td>\n",
       "      <td>NaN</td>\n",
       "      <td>Equity5346b78e-2aa9-43dd-8b3c-57e282aa0e80</td>\n",
       "      <td>NaN</td>\n",
       "      <td>NaN</td>\n",
       "      <td>NaN</td>\n",
       "      <td>NaN</td>\n",
       "      <td>NaN</td>\n",
       "      <td>NaN</td>\n",
       "      <td>NaN</td>\n",
       "      <td>...</td>\n",
       "      <td>NaN</td>\n",
       "      <td>NaN</td>\n",
       "      <td>NaN</td>\n",
       "      <td>NaN</td>\n",
       "      <td>NaN</td>\n",
       "      <td>NaN</td>\n",
       "      <td>NaN</td>\n",
       "      <td>NaN</td>\n",
       "      <td>NaN</td>\n",
       "      <td>NaN</td>\n",
       "    </tr>\n",
       "  </tbody>\n",
       "</table>\n",
       "<p>5 rows × 35 columns</p>\n",
       "</div>"
      ],
      "text/plain": [
       "  LusidInstrumentId Figi                              ClientInternal   \n",
       "0     LUID_00010Q97  NaN  Equity5068e3d3-adc6-4322-97b5-fe484e791221  \\\n",
       "1     LUID_0000Y3B0  NaN  Equitydf5f6ba0-fb3a-4f3f-83de-a498f7056648   \n",
       "2     LUID_000140Z8  NaN  Equityf3d2e4fc-2898-43f0-a147-4566184df03a   \n",
       "3     LUID_00013KNX  NaN  Equity800ed431-7be6-4992-8643-74d2e6335572   \n",
       "4     LUID_0000YB9E  NaN  Equity5346b78e-2aa9-43dd-8b3c-57e282aa0e80   \n",
       "\n",
       "   QuotePermId  EdiKey  SecurityNumber Isin Sedol  Cusip Ticker  ...   \n",
       "0          NaN     NaN             NaN  NaN   NaN    NaN    NaN  ...  \\\n",
       "1          NaN     NaN             NaN  NaN   NaN    NaN    NaN  ...   \n",
       "2          NaN     NaN             NaN  NaN   NaN    NaN    NaN  ...   \n",
       "3          NaN     NaN             NaN  NaN   NaN    NaN    NaN  ...   \n",
       "4          NaN     NaN             NaN  NaN   NaN    NaN    NaN  ...   \n",
       "\n",
       "   CountryOfIncorporation  Exchange  IssuerId  IssuerName LegalEntityId   \n",
       "0                     NaN       NaN       NaN         NaN           NaN  \\\n",
       "1                     NaN       NaN       NaN         NaN           NaN   \n",
       "2                     NaN       NaN       NaN         NaN           NaN   \n",
       "3                     NaN       NaN       NaN         NaN           NaN   \n",
       "4                     NaN       NaN       NaN         NaN           NaN   \n",
       "\n",
       "  NaicsCode  ParValue  PrimaryCurrency PrimaryExchange SecurityId  \n",
       "0       NaN       NaN              NaN             NaN        NaN  \n",
       "1       NaN       NaN              NaN             NaN        NaN  \n",
       "2       NaN       NaN              NaN             NaN        NaN  \n",
       "3       NaN       NaN              NaN             NaN        NaN  \n",
       "4       NaN       NaN              NaN             NaN        NaN  \n",
       "\n",
       "[5 rows x 35 columns]"
      ]
     },
     "execution_count": 6,
     "metadata": {},
     "output_type": "execute_result"
    }
   ],
   "source": [
    "results = %luminesce SELECT * FROM Lusid.Instrument.Equity LIMIT 10\n",
    "results.head()"
   ]
  },
  {
   "cell_type": "markdown",
   "id": "40c38073",
   "metadata": {
    "slideshow": {
     "slide_type": "notes"
    }
   },
   "source": [
    "This line magic runs the query on the same line after the magic command, allowing us to use the result of the query in our Python code."
   ]
  }
 ],
 "metadata": {
  "celltoolbar": "Slideshow",
  "kernelspec": {
   "display_name": "Python 3 (ipykernel)",
   "language": "python",
   "name": "python3"
  },
  "language_info": {
   "codemirror_mode": {
    "name": "ipython",
    "version": 3
   },
   "file_extension": ".py",
   "mimetype": "text/x-python",
   "name": "python",
   "nbconvert_exporter": "python",
   "pygments_lexer": "ipython3",
   "version": "3.10.10"
  },
  "toc": {
   "base_numbering": 1,
   "nav_menu": {},
   "number_sections": false,
   "sideBar": true,
   "skip_h1_title": false,
   "title_cell": "Table of Contents",
   "title_sidebar": "Contents",
   "toc_cell": false,
   "toc_position": {},
   "toc_section_display": true,
   "toc_window_display": false
  },
  "varInspector": {
   "cols": {
    "lenName": 16,
    "lenType": 16,
    "lenVar": 40
   },
   "kernels_config": {
    "python": {
     "delete_cmd_postfix": "",
     "delete_cmd_prefix": "del ",
     "library": "var_list.py",
     "varRefreshCmd": "print(var_dic_list())"
    },
    "r": {
     "delete_cmd_postfix": ") ",
     "delete_cmd_prefix": "rm(",
     "library": "var_list.r",
     "varRefreshCmd": "cat(var_dic_list()) "
    }
   },
   "types_to_exclude": [
    "module",
    "function",
    "builtin_function_or_method",
    "instance",
    "_Feature"
   ],
   "window_display": false
  },
  "vscode": {
   "interpreter": {
    "hash": "b0fa6594d8f4cbf19f97940f81e996739fb7646882a419484c72d19e05852a7e"
   }
  }
 },
 "nbformat": 4,
 "nbformat_minor": 5
}
