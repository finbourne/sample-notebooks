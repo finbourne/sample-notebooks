{
 "cells": [
  {
   "cell_type": "markdown",
   "id": "1f4e526d",
   "metadata": {
    "slideshow": {
     "slide_type": "slide"
    }
   },
   "source": [
    "## Using the Python LUSID SDKs"
   ]
  },
  {
   "cell_type": "markdown",
   "id": "c58de81e",
   "metadata": {
    "slideshow": {
     "slide_type": "subslide"
    }
   },
   "source": [
    "We provide many tools for interacting with LUSID in Python and Jupyter.\n",
    "\n",
    "The majority of the LUSID SDKs are automatically generated using the OpenAPI Generator. These SDKs provide a set of objects and functions which enable you to call our APIs and interact with LUSID, without having to write any REST communication code. We also provide other manually-written packages which make interacting with LUSID programmatically easier. \n",
    "In this section we'll:\n",
    "- Introduce the OpenApi SDKs, describing how they are used.\n",
    "- Describe some of the tools for interacting with LUSID in our hosted Jupyter environment."
   ]
  },
  {
   "cell_type": "markdown",
   "id": "0baab167",
   "metadata": {
    "slideshow": {
     "slide_type": "subslide"
    }
   },
   "source": [
    "### The OpenApi SDKs\n",
    "We have a set of SDKs that are auto-generated using the OpenAPI Generator project, such as the lusid-sdk-python, drive-sdk-python and finbourne-access-sdk-python, all hosted on Pypi. These SDKs provide api objects, with methods that can be used to perform actions in LUSID."
   ]
  },
  {
   "cell_type": "markdown",
   "id": "d5a1218d",
   "metadata": {
    "slideshow": {
     "slide_type": "subslide"
    }
   },
   "source": [
    "All authenticated calls to the LUSID API require an OpenID Connect ID token which is issued from your token issuer url. The details of these can be found on your LUSID portal under \"Applications\" within the \"Identity and Access Management\" section."
   ]
  },
  {
   "cell_type": "code",
   "execution_count": 1,
   "id": "f113ccff",
   "metadata": {
    "slideshow": {
     "slide_type": "subslide"
    }
   },
   "outputs": [
    {
     "name": "stdout",
     "output_type": "stream",
     "text": [
      "['AggregationApi', 'AllocationsApi', 'ApplicationMetadataApi', 'BlocksApi', 'CalendarsApi', 'ComplexMarketDataApi', 'ComplianceApi', 'ConfigurationRecipeApi', 'ConventionsApi', 'CorporateActionSourcesApi', 'CounterpartiesApi', 'CustomEntitiesApi', 'CustomEntityDefinitionsApi', 'CutLabelDefinitionsApi', 'DataTypesApi', 'DerivedTransactionPortfoliosApi', 'EntitiesApi', 'ExecutionsApi', 'InstrumentEventsApi', 'InstrumentsApi', 'LegalEntitiesApi', 'OrderGraphApi', 'OrderInstructionsApi', 'OrdersApi', 'PackagesApi', 'ParticipationsApi', 'PersonsApi', 'PlacementsApi', 'PortfolioGroupsApi', 'PortfoliosApi', 'PropertyDefinitionsApi', 'QuotesApi', 'ReconciliationsApi', 'ReferencePortfolioApi', 'RelationDefinitionsApi', 'RelationsApi', 'RelationshipDefinitionsApi', 'RelationshipsApi', 'SchemasApi', 'ScopesApi', 'SearchApi', 'SequencesApi', 'StructuredResultDataApi', 'SystemConfigurationApi', 'TaxRuleSetsApi', 'TransactionConfigurationApi', 'TransactionFeesApi', 'TransactionPortfoliosApi', 'TranslationApi']\n"
     ]
    }
   ],
   "source": [
    "import lusid\n",
    "import os\n",
    "from lusidjam import RefreshingToken\n",
    "from lusid.utilities import ApiConfigurationLoader\n",
    "from lusid.utilities import ApiClientFactory\n",
    "\n",
    "try:\n",
    "    # Authenticate to SDK\n",
    "    # Run the Notebook in Jupyterhub for your LUSID domain and authenticate automatically\n",
    "    secrets_path = os.getenv(\"FBN_SECRETS_PATH\")\n",
    "    # Run the Notebook locally using a secrets file (see https://support.lusid.com/knowledgebase/article/KA-01663)\n",
    "    if secrets_path is None:\n",
    "        secrets_path = os.path.join(os.path.dirname(os.getcwd()), \"secrets.json\")\n",
    "\n",
    "    api_factory = ApiClientFactory(\n",
    "        token = RefreshingToken(), \n",
    "        api_secrets_filename = secrets_path,\n",
    "        app_name = \"LusidJupyterNotebook\"\n",
    "    )\n",
    "\n",
    "    print([api for api in dir(lusid.api) if \"Api\" in api])\n",
    "except Exception as e:\n",
    "    print(e)\n",
    "\n"
   ]
  },
  {
   "cell_type": "markdown",
   "id": "6ed26b82",
   "metadata": {
    "slideshow": {
     "slide_type": "notes"
    }
   },
   "source": [
    "Here's an example using the lusid python sdk. We initialise an api factory using our access details, which can be provided in either a secrets json file, or as environment variables. Here we have some environment variables set, we use RefreshingToken to grab a token using these environment variables.\n",
    "\n",
    "We then print a list of the available APIs in the lusid preview sdk.\n",
    "\n"
   ]
  },
  {
   "cell_type": "code",
   "execution_count": 2,
   "id": "4d1a2f40",
   "metadata": {
    "scrolled": true,
    "slideshow": {
     "slide_type": "subslide"
    }
   },
   "outputs": [
    {
     "name": "stdout",
     "output_type": "stream",
     "text": [
      "{'api_version': 'v0',\n",
      " 'build_version': '0.6.10349.0',\n",
      " 'excel_version': '0.5.3090',\n",
      " 'links': [{'description': 'A link to the LUSID Insights website showing all '\n",
      "                           'logs related to this request',\n",
      "            'href': 'http://fbn-uni.lusid.com/app/insights/logs/0HMMH665VKD1L:00000011',\n",
      "            'method': 'GET',\n",
      "            'relation': 'RequestLogs'}]}\n"
     ]
    }
   ],
   "source": [
    "try:\n",
    "    api_instance = api_factory.build(lusid.ApplicationMetadataApi)\n",
    "    # GetLusidVersions: Get LUSID versions\n",
    "    api_response = api_instance.get_lusid_versions()\n",
    "    print(api_response)\n",
    "except lusid.rest.ApiException as e:\n",
    "    print(\"Exception when calling ApplicationMetadataApi->get_lusid_versions: %s\\n\" % e)"
   ]
  },
  {
   "cell_type": "markdown",
   "id": "5dd93e0f",
   "metadata": {
    "slideshow": {
     "slide_type": "notes"
    }
   },
   "source": [
    "Here, we use our api factory to build an ApplicationMetadatApi object, which we can use to send requests for our ApplicationMetadata REST endpoints.\n",
    "We then call the get_lusid_versions method on this object, which sends a request to the ApplicationMetadataApi->get_lusid_versions endpoint, returning the result as a json string."
   ]
  },
  {
   "cell_type": "markdown",
   "id": "3babbd50",
   "metadata": {
    "slideshow": {
     "slide_type": "subslide"
    }
   },
   "source": [
    "### Tools for interacting with LUSID in our hosted Jupyter environment.\n",
    "We provide a Jupyter environment that you can access and use to interactively write Python and dotnet scripts. In our Jupyter environment, the preview SDKs come installed by default."
   ]
  },
  {
   "cell_type": "markdown",
   "id": "cb1485fc",
   "metadata": {
    "slideshow": {
     "slide_type": "subslide"
    }
   },
   "source": [
    "We provide the lusidjam library, which can be used to provide an authentication token without re-entering credentials into your Python scripts:"
   ]
  },
  {
   "cell_type": "code",
   "execution_count": 3,
   "id": "7206036e",
   "metadata": {
    "slideshow": {
     "slide_type": "subslide"
    }
   },
   "outputs": [],
   "source": [
    "import lusidjam\n",
    "\n",
    "api_factory = lusid.utilities.ApiClientFactory(\n",
    "    token = lusidjam.RefreshingToken()\n",
    ")"
   ]
  },
  {
   "cell_type": "markdown",
   "id": "0a1bac19",
   "metadata": {
    "slideshow": {
     "slide_type": "notes"
    }
   },
   "source": [
    "Here we've built an api-factory using credentials stored in our jupyter environment."
   ]
  },
  {
   "cell_type": "markdown",
   "id": "840092c9",
   "metadata": {
    "slideshow": {
     "slide_type": "subslide"
    }
   },
   "source": [
    "We also provide a custom magic command to query luminesce:"
   ]
  },
  {
   "cell_type": "code",
   "execution_count": 4,
   "id": "291f7d8c",
   "metadata": {
    "scrolled": true,
    "slideshow": {
     "slide_type": "subslide"
    }
   },
   "outputs": [
    {
     "data": {
      "text/html": [
       "<div>\n",
       "<style scoped>\n",
       "    .dataframe tbody tr th:only-of-type {\n",
       "        vertical-align: middle;\n",
       "    }\n",
       "\n",
       "    .dataframe tbody tr th {\n",
       "        vertical-align: top;\n",
       "    }\n",
       "\n",
       "    .dataframe thead th {\n",
       "        text-align: right;\n",
       "    }\n",
       "</style>\n",
       "<table border=\"1\" class=\"dataframe\">\n",
       "  <thead>\n",
       "    <tr style=\"text-align: right;\">\n",
       "      <th></th>\n",
       "      <th>LusidInstrumentId</th>\n",
       "      <th>Isin</th>\n",
       "      <th>Sedol</th>\n",
       "      <th>Cusip</th>\n",
       "      <th>Ticker</th>\n",
       "      <th>ClientInternal</th>\n",
       "      <th>Figi</th>\n",
       "      <th>CompositeFigi</th>\n",
       "      <th>ShareClassFigi</th>\n",
       "      <th>Wertpapier</th>\n",
       "      <th>...</th>\n",
       "      <th>Scope</th>\n",
       "      <th>DisplayName</th>\n",
       "      <th>LookThroughPortfolioScope</th>\n",
       "      <th>LookThroughPortfolioCode</th>\n",
       "      <th>Type</th>\n",
       "      <th>InferredAssetClass</th>\n",
       "      <th>InferredDomCcy</th>\n",
       "      <th>IsActive</th>\n",
       "      <th>Identifiers</th>\n",
       "      <th>DomCcy</th>\n",
       "    </tr>\n",
       "  </thead>\n",
       "  <tbody>\n",
       "    <tr>\n",
       "      <th>0</th>\n",
       "      <td>LUID_00003D62</td>\n",
       "      <td>GB00B1XZS820</td>\n",
       "      <td>B1XZS82</td>\n",
       "      <td>NaN</td>\n",
       "      <td>NaN</td>\n",
       "      <td>NaN</td>\n",
       "      <td>BBG000BBLDF4</td>\n",
       "      <td>NaN</td>\n",
       "      <td>NaN</td>\n",
       "      <td>NaN</td>\n",
       "      <td>...</td>\n",
       "      <td>default</td>\n",
       "      <td>Anglo American plc</td>\n",
       "      <td>NaN</td>\n",
       "      <td>NaN</td>\n",
       "      <td>Equity</td>\n",
       "      <td>Equities</td>\n",
       "      <td>GBP</td>\n",
       "      <td>True</td>\n",
       "      <td>NaN</td>\n",
       "      <td>GBP</td>\n",
       "    </tr>\n",
       "    <tr>\n",
       "      <th>1</th>\n",
       "      <td>LUID_00003D79</td>\n",
       "      <td>US9839191015</td>\n",
       "      <td>NaN</td>\n",
       "      <td>983919101</td>\n",
       "      <td>NaN</td>\n",
       "      <td>NaN</td>\n",
       "      <td>BBG004PYGYW2</td>\n",
       "      <td>NaN</td>\n",
       "      <td>NaN</td>\n",
       "      <td>NaN</td>\n",
       "      <td>...</td>\n",
       "      <td>fbn-uni-T02002</td>\n",
       "      <td>Xilinx, Inc.</td>\n",
       "      <td>NaN</td>\n",
       "      <td>NaN</td>\n",
       "      <td>Equity</td>\n",
       "      <td>Equities</td>\n",
       "      <td>USD</td>\n",
       "      <td>True</td>\n",
       "      <td>NaN</td>\n",
       "      <td>USD</td>\n",
       "    </tr>\n",
       "    <tr>\n",
       "      <th>2</th>\n",
       "      <td>LUID_00003DJ3</td>\n",
       "      <td>GB0030913577</td>\n",
       "      <td>3091357</td>\n",
       "      <td>NaN</td>\n",
       "      <td>NaN</td>\n",
       "      <td>NaN</td>\n",
       "      <td>BBG000C05R82</td>\n",
       "      <td>NaN</td>\n",
       "      <td>NaN</td>\n",
       "      <td>NaN</td>\n",
       "      <td>...</td>\n",
       "      <td>FBNUniversityModule-T2-2</td>\n",
       "      <td>BT Group</td>\n",
       "      <td>NaN</td>\n",
       "      <td>NaN</td>\n",
       "      <td>Equity</td>\n",
       "      <td>Equities</td>\n",
       "      <td>GBP</td>\n",
       "      <td>True</td>\n",
       "      <td>NaN</td>\n",
       "      <td>GBP</td>\n",
       "    </tr>\n",
       "    <tr>\n",
       "      <th>3</th>\n",
       "      <td>LUID_00003DAY</td>\n",
       "      <td>GB0006731235</td>\n",
       "      <td>673123</td>\n",
       "      <td>NaN</td>\n",
       "      <td>NaN</td>\n",
       "      <td>NaN</td>\n",
       "      <td>BBG000BD3SC0</td>\n",
       "      <td>NaN</td>\n",
       "      <td>NaN</td>\n",
       "      <td>NaN</td>\n",
       "      <td>...</td>\n",
       "      <td>fbn-uni-T02002</td>\n",
       "      <td>Associated British Foods</td>\n",
       "      <td>NaN</td>\n",
       "      <td>NaN</td>\n",
       "      <td>Equity</td>\n",
       "      <td>Equities</td>\n",
       "      <td>GBP</td>\n",
       "      <td>True</td>\n",
       "      <td>NaN</td>\n",
       "      <td>GBP</td>\n",
       "    </tr>\n",
       "    <tr>\n",
       "      <th>4</th>\n",
       "      <td>LUID_00003D7T</td>\n",
       "      <td>GB00BWFGQN14</td>\n",
       "      <td>BWFGQN1</td>\n",
       "      <td>NaN</td>\n",
       "      <td>NaN</td>\n",
       "      <td>NaN</td>\n",
       "      <td>BBG000BF2FG0</td>\n",
       "      <td>NaN</td>\n",
       "      <td>NaN</td>\n",
       "      <td>NaN</td>\n",
       "      <td>...</td>\n",
       "      <td>fbn-uni-T02002</td>\n",
       "      <td>Spirax-Sarco Engineering</td>\n",
       "      <td>NaN</td>\n",
       "      <td>NaN</td>\n",
       "      <td>Equity</td>\n",
       "      <td>Equities</td>\n",
       "      <td>GBP</td>\n",
       "      <td>True</td>\n",
       "      <td>NaN</td>\n",
       "      <td>GBP</td>\n",
       "    </tr>\n",
       "    <tr>\n",
       "      <th>5</th>\n",
       "      <td>LUID_00003DME</td>\n",
       "      <td>US4612021034</td>\n",
       "      <td>NaN</td>\n",
       "      <td>461202103</td>\n",
       "      <td>NaN</td>\n",
       "      <td>NaN</td>\n",
       "      <td>BBG000BH5DV1</td>\n",
       "      <td>NaN</td>\n",
       "      <td>NaN</td>\n",
       "      <td>NaN</td>\n",
       "      <td>...</td>\n",
       "      <td>FBNUniversityModule-T2-2</td>\n",
       "      <td>Intuit</td>\n",
       "      <td>NaN</td>\n",
       "      <td>NaN</td>\n",
       "      <td>Equity</td>\n",
       "      <td>Equities</td>\n",
       "      <td>USD</td>\n",
       "      <td>True</td>\n",
       "      <td>NaN</td>\n",
       "      <td>USD</td>\n",
       "    </tr>\n",
       "    <tr>\n",
       "      <th>6</th>\n",
       "      <td>LUID_00003DAJ</td>\n",
       "      <td>US30161N1019</td>\n",
       "      <td>NaN</td>\n",
       "      <td>30161N101</td>\n",
       "      <td>NaN</td>\n",
       "      <td>NaN</td>\n",
       "      <td>BBG000FMWLM8</td>\n",
       "      <td>NaN</td>\n",
       "      <td>NaN</td>\n",
       "      <td>NaN</td>\n",
       "      <td>...</td>\n",
       "      <td>fbn-uni-T02002</td>\n",
       "      <td>Exelon Corporation</td>\n",
       "      <td>NaN</td>\n",
       "      <td>NaN</td>\n",
       "      <td>Equity</td>\n",
       "      <td>Equities</td>\n",
       "      <td>USD</td>\n",
       "      <td>True</td>\n",
       "      <td>NaN</td>\n",
       "      <td>USD</td>\n",
       "    </tr>\n",
       "    <tr>\n",
       "      <th>7</th>\n",
       "      <td>LUID_00003DIX</td>\n",
       "      <td>US22160K1051</td>\n",
       "      <td>NaN</td>\n",
       "      <td>22160K105</td>\n",
       "      <td>NaN</td>\n",
       "      <td>NaN</td>\n",
       "      <td>BBG000F6H8W8</td>\n",
       "      <td>NaN</td>\n",
       "      <td>NaN</td>\n",
       "      <td>NaN</td>\n",
       "      <td>...</td>\n",
       "      <td>FBNUniversityModule-T2-2</td>\n",
       "      <td>Costco Wholesale Corporation</td>\n",
       "      <td>NaN</td>\n",
       "      <td>NaN</td>\n",
       "      <td>Equity</td>\n",
       "      <td>Equities</td>\n",
       "      <td>USD</td>\n",
       "      <td>True</td>\n",
       "      <td>NaN</td>\n",
       "      <td>USD</td>\n",
       "    </tr>\n",
       "    <tr>\n",
       "      <th>8</th>\n",
       "      <td>LUID_00003D8E</td>\n",
       "      <td>GB0007099541</td>\n",
       "      <td>709954</td>\n",
       "      <td>NaN</td>\n",
       "      <td>NaN</td>\n",
       "      <td>NaN</td>\n",
       "      <td>BBG000BDY322</td>\n",
       "      <td>NaN</td>\n",
       "      <td>NaN</td>\n",
       "      <td>NaN</td>\n",
       "      <td>...</td>\n",
       "      <td>fbn-uni-T02002</td>\n",
       "      <td>Prudential plc</td>\n",
       "      <td>NaN</td>\n",
       "      <td>NaN</td>\n",
       "      <td>Equity</td>\n",
       "      <td>Equities</td>\n",
       "      <td>GBP</td>\n",
       "      <td>True</td>\n",
       "      <td>NaN</td>\n",
       "      <td>GBP</td>\n",
       "    </tr>\n",
       "    <tr>\n",
       "      <th>9</th>\n",
       "      <td>LUID_00003DNN</td>\n",
       "      <td>US30161N1019</td>\n",
       "      <td>NaN</td>\n",
       "      <td>30161N101</td>\n",
       "      <td>NaN</td>\n",
       "      <td>NaN</td>\n",
       "      <td>BBG000FMWLM8</td>\n",
       "      <td>NaN</td>\n",
       "      <td>NaN</td>\n",
       "      <td>NaN</td>\n",
       "      <td>...</td>\n",
       "      <td>FBNUniversityModule-T2-2</td>\n",
       "      <td>Exelon Corporation</td>\n",
       "      <td>NaN</td>\n",
       "      <td>NaN</td>\n",
       "      <td>Equity</td>\n",
       "      <td>Equities</td>\n",
       "      <td>USD</td>\n",
       "      <td>True</td>\n",
       "      <td>NaN</td>\n",
       "      <td>USD</td>\n",
       "    </tr>\n",
       "  </tbody>\n",
       "</table>\n",
       "<p>10 rows × 23 columns</p>\n",
       "</div>"
      ],
      "text/plain": [
       "  LusidInstrumentId          Isin    Sedol      Cusip  Ticker  ClientInternal  \\\n",
       "0     LUID_00003D62  GB00B1XZS820  B1XZS82        NaN     NaN             NaN   \n",
       "1     LUID_00003D79  US9839191015      NaN  983919101     NaN             NaN   \n",
       "2     LUID_00003DJ3  GB0030913577  3091357        NaN     NaN             NaN   \n",
       "3     LUID_00003DAY  GB0006731235   673123        NaN     NaN             NaN   \n",
       "4     LUID_00003D7T  GB00BWFGQN14  BWFGQN1        NaN     NaN             NaN   \n",
       "5     LUID_00003DME  US4612021034      NaN  461202103     NaN             NaN   \n",
       "6     LUID_00003DAJ  US30161N1019      NaN  30161N101     NaN             NaN   \n",
       "7     LUID_00003DIX  US22160K1051      NaN  22160K105     NaN             NaN   \n",
       "8     LUID_00003D8E  GB0007099541   709954        NaN     NaN             NaN   \n",
       "9     LUID_00003DNN  US30161N1019      NaN  30161N101     NaN             NaN   \n",
       "\n",
       "           Figi  CompositeFigi  ShareClassFigi  Wertpapier  ...  \\\n",
       "0  BBG000BBLDF4            NaN             NaN         NaN  ...   \n",
       "1  BBG004PYGYW2            NaN             NaN         NaN  ...   \n",
       "2  BBG000C05R82            NaN             NaN         NaN  ...   \n",
       "3  BBG000BD3SC0            NaN             NaN         NaN  ...   \n",
       "4  BBG000BF2FG0            NaN             NaN         NaN  ...   \n",
       "5  BBG000BH5DV1            NaN             NaN         NaN  ...   \n",
       "6  BBG000FMWLM8            NaN             NaN         NaN  ...   \n",
       "7  BBG000F6H8W8            NaN             NaN         NaN  ...   \n",
       "8  BBG000BDY322            NaN             NaN         NaN  ...   \n",
       "9  BBG000FMWLM8            NaN             NaN         NaN  ...   \n",
       "\n",
       "                      Scope                   DisplayName  \\\n",
       "0                   default            Anglo American plc   \n",
       "1            fbn-uni-T02002                  Xilinx, Inc.   \n",
       "2  FBNUniversityModule-T2-2                      BT Group   \n",
       "3            fbn-uni-T02002      Associated British Foods   \n",
       "4            fbn-uni-T02002      Spirax-Sarco Engineering   \n",
       "5  FBNUniversityModule-T2-2                        Intuit   \n",
       "6            fbn-uni-T02002            Exelon Corporation   \n",
       "7  FBNUniversityModule-T2-2  Costco Wholesale Corporation   \n",
       "8            fbn-uni-T02002                Prudential plc   \n",
       "9  FBNUniversityModule-T2-2            Exelon Corporation   \n",
       "\n",
       "   LookThroughPortfolioScope LookThroughPortfolioCode    Type  \\\n",
       "0                        NaN                      NaN  Equity   \n",
       "1                        NaN                      NaN  Equity   \n",
       "2                        NaN                      NaN  Equity   \n",
       "3                        NaN                      NaN  Equity   \n",
       "4                        NaN                      NaN  Equity   \n",
       "5                        NaN                      NaN  Equity   \n",
       "6                        NaN                      NaN  Equity   \n",
       "7                        NaN                      NaN  Equity   \n",
       "8                        NaN                      NaN  Equity   \n",
       "9                        NaN                      NaN  Equity   \n",
       "\n",
       "   InferredAssetClass  InferredDomCcy IsActive Identifiers DomCcy  \n",
       "0            Equities             GBP     True         NaN    GBP  \n",
       "1            Equities             USD     True         NaN    USD  \n",
       "2            Equities             GBP     True         NaN    GBP  \n",
       "3            Equities             GBP     True         NaN    GBP  \n",
       "4            Equities             GBP     True         NaN    GBP  \n",
       "5            Equities             USD     True         NaN    USD  \n",
       "6            Equities             USD     True         NaN    USD  \n",
       "7            Equities             USD     True         NaN    USD  \n",
       "8            Equities             GBP     True         NaN    GBP  \n",
       "9            Equities             USD     True         NaN    USD  \n",
       "\n",
       "[10 rows x 23 columns]"
      ]
     },
     "execution_count": 4,
     "metadata": {},
     "output_type": "execute_result"
    }
   ],
   "source": [
    "%%luminesce\n",
    "SELECT * FROM Lusid.Instrument.Equity LIMIT 10"
   ]
  },
  {
   "cell_type": "markdown",
   "id": "fd962965",
   "metadata": {
    "slideshow": {
     "slide_type": "notes"
    }
   },
   "source": [
    "This cell magic runs any statement in the cell below the magic command, displaying a pandas dataframe containing the output of the luminesce query."
   ]
  },
  {
   "cell_type": "code",
   "execution_count": 5,
   "id": "b6e860a9",
   "metadata": {
    "slideshow": {
     "slide_type": "subslide"
    }
   },
   "outputs": [
    {
     "data": {
      "text/html": [
       "<div>\n",
       "<style scoped>\n",
       "    .dataframe tbody tr th:only-of-type {\n",
       "        vertical-align: middle;\n",
       "    }\n",
       "\n",
       "    .dataframe tbody tr th {\n",
       "        vertical-align: top;\n",
       "    }\n",
       "\n",
       "    .dataframe thead th {\n",
       "        text-align: right;\n",
       "    }\n",
       "</style>\n",
       "<table border=\"1\" class=\"dataframe\">\n",
       "  <thead>\n",
       "    <tr style=\"text-align: right;\">\n",
       "      <th></th>\n",
       "      <th>LusidInstrumentId</th>\n",
       "      <th>Isin</th>\n",
       "      <th>Sedol</th>\n",
       "      <th>Cusip</th>\n",
       "      <th>Ticker</th>\n",
       "      <th>ClientInternal</th>\n",
       "      <th>Figi</th>\n",
       "      <th>CompositeFigi</th>\n",
       "      <th>ShareClassFigi</th>\n",
       "      <th>Wertpapier</th>\n",
       "      <th>...</th>\n",
       "      <th>Scope</th>\n",
       "      <th>DisplayName</th>\n",
       "      <th>LookThroughPortfolioScope</th>\n",
       "      <th>LookThroughPortfolioCode</th>\n",
       "      <th>Type</th>\n",
       "      <th>InferredAssetClass</th>\n",
       "      <th>InferredDomCcy</th>\n",
       "      <th>IsActive</th>\n",
       "      <th>Identifiers</th>\n",
       "      <th>DomCcy</th>\n",
       "    </tr>\n",
       "  </thead>\n",
       "  <tbody>\n",
       "    <tr>\n",
       "      <th>0</th>\n",
       "      <td>LUID_00003DE2</td>\n",
       "      <td>GB0031743007</td>\n",
       "      <td>3174300</td>\n",
       "      <td>NaN</td>\n",
       "      <td>NaN</td>\n",
       "      <td>NaN</td>\n",
       "      <td>BBG000BYJMD9</td>\n",
       "      <td>NaN</td>\n",
       "      <td>NaN</td>\n",
       "      <td>NaN</td>\n",
       "      <td>...</td>\n",
       "      <td>FBNUniversity</td>\n",
       "      <td>Burberry</td>\n",
       "      <td>NaN</td>\n",
       "      <td>NaN</td>\n",
       "      <td>Equity</td>\n",
       "      <td>Equities</td>\n",
       "      <td>GBP</td>\n",
       "      <td>True</td>\n",
       "      <td>NaN</td>\n",
       "      <td>GBP</td>\n",
       "    </tr>\n",
       "    <tr>\n",
       "      <th>1</th>\n",
       "      <td>LUID_00003DL7</td>\n",
       "      <td>GB00B02J6398</td>\n",
       "      <td>B02J639</td>\n",
       "      <td>NaN</td>\n",
       "      <td>NaN</td>\n",
       "      <td>NaN</td>\n",
       "      <td>BBG000PG2GZ0</td>\n",
       "      <td>NaN</td>\n",
       "      <td>NaN</td>\n",
       "      <td>NaN</td>\n",
       "      <td>...</td>\n",
       "      <td>FBNUniversityModule-T2-2</td>\n",
       "      <td>Admiral Group</td>\n",
       "      <td>NaN</td>\n",
       "      <td>NaN</td>\n",
       "      <td>Equity</td>\n",
       "      <td>Equities</td>\n",
       "      <td>GBP</td>\n",
       "      <td>True</td>\n",
       "      <td>NaN</td>\n",
       "      <td>GBP</td>\n",
       "    </tr>\n",
       "    <tr>\n",
       "      <th>2</th>\n",
       "      <td>LUID_00003DC5</td>\n",
       "      <td>GB00B0LCW083</td>\n",
       "      <td>B0LCW08</td>\n",
       "      <td>NaN</td>\n",
       "      <td>NaN</td>\n",
       "      <td>NaN</td>\n",
       "      <td>BBG000FG1MF1</td>\n",
       "      <td>NaN</td>\n",
       "      <td>NaN</td>\n",
       "      <td>NaN</td>\n",
       "      <td>...</td>\n",
       "      <td>fbn-uni-T02002</td>\n",
       "      <td>Hikma Pharmaceuticals</td>\n",
       "      <td>NaN</td>\n",
       "      <td>NaN</td>\n",
       "      <td>Equity</td>\n",
       "      <td>Equities</td>\n",
       "      <td>GBP</td>\n",
       "      <td>True</td>\n",
       "      <td>NaN</td>\n",
       "      <td>GBP</td>\n",
       "    </tr>\n",
       "    <tr>\n",
       "      <th>3</th>\n",
       "      <td>LUID_00003DF5</td>\n",
       "      <td>US4581401001</td>\n",
       "      <td>NaN</td>\n",
       "      <td>458140100</td>\n",
       "      <td>NaN</td>\n",
       "      <td>NaN</td>\n",
       "      <td>BBG000C0G1D1</td>\n",
       "      <td>NaN</td>\n",
       "      <td>NaN</td>\n",
       "      <td>NaN</td>\n",
       "      <td>...</td>\n",
       "      <td>FBNUniversity</td>\n",
       "      <td>Intel Corporation</td>\n",
       "      <td>NaN</td>\n",
       "      <td>NaN</td>\n",
       "      <td>Equity</td>\n",
       "      <td>Equities</td>\n",
       "      <td>USD</td>\n",
       "      <td>True</td>\n",
       "      <td>NaN</td>\n",
       "      <td>USD</td>\n",
       "    </tr>\n",
       "    <tr>\n",
       "      <th>4</th>\n",
       "      <td>LUID_00003DI8</td>\n",
       "      <td>NL0012015705</td>\n",
       "      <td>BKM1QM4</td>\n",
       "      <td>NaN</td>\n",
       "      <td>NaN</td>\n",
       "      <td>NaN</td>\n",
       "      <td>BBG00DRDFY39</td>\n",
       "      <td>NaN</td>\n",
       "      <td>NaN</td>\n",
       "      <td>NaN</td>\n",
       "      <td>...</td>\n",
       "      <td>FBNUniversityModule-T2-2</td>\n",
       "      <td>Just Eat Takeaway</td>\n",
       "      <td>NaN</td>\n",
       "      <td>NaN</td>\n",
       "      <td>Equity</td>\n",
       "      <td>Equities</td>\n",
       "      <td>GBP</td>\n",
       "      <td>True</td>\n",
       "      <td>NaN</td>\n",
       "      <td>GBP</td>\n",
       "    </tr>\n",
       "  </tbody>\n",
       "</table>\n",
       "<p>5 rows × 23 columns</p>\n",
       "</div>"
      ],
      "text/plain": [
       "  LusidInstrumentId          Isin    Sedol      Cusip  Ticker  ClientInternal  \\\n",
       "0     LUID_00003DE2  GB0031743007  3174300        NaN     NaN             NaN   \n",
       "1     LUID_00003DL7  GB00B02J6398  B02J639        NaN     NaN             NaN   \n",
       "2     LUID_00003DC5  GB00B0LCW083  B0LCW08        NaN     NaN             NaN   \n",
       "3     LUID_00003DF5  US4581401001      NaN  458140100     NaN             NaN   \n",
       "4     LUID_00003DI8  NL0012015705  BKM1QM4        NaN     NaN             NaN   \n",
       "\n",
       "           Figi  CompositeFigi  ShareClassFigi  Wertpapier  ...  \\\n",
       "0  BBG000BYJMD9            NaN             NaN         NaN  ...   \n",
       "1  BBG000PG2GZ0            NaN             NaN         NaN  ...   \n",
       "2  BBG000FG1MF1            NaN             NaN         NaN  ...   \n",
       "3  BBG000C0G1D1            NaN             NaN         NaN  ...   \n",
       "4  BBG00DRDFY39            NaN             NaN         NaN  ...   \n",
       "\n",
       "                      Scope            DisplayName  LookThroughPortfolioScope  \\\n",
       "0             FBNUniversity               Burberry                        NaN   \n",
       "1  FBNUniversityModule-T2-2          Admiral Group                        NaN   \n",
       "2            fbn-uni-T02002  Hikma Pharmaceuticals                        NaN   \n",
       "3             FBNUniversity      Intel Corporation                        NaN   \n",
       "4  FBNUniversityModule-T2-2      Just Eat Takeaway                        NaN   \n",
       "\n",
       "  LookThroughPortfolioCode    Type  InferredAssetClass  InferredDomCcy  \\\n",
       "0                      NaN  Equity            Equities             GBP   \n",
       "1                      NaN  Equity            Equities             GBP   \n",
       "2                      NaN  Equity            Equities             GBP   \n",
       "3                      NaN  Equity            Equities             USD   \n",
       "4                      NaN  Equity            Equities             GBP   \n",
       "\n",
       "  IsActive Identifiers DomCcy  \n",
       "0     True         NaN    GBP  \n",
       "1     True         NaN    GBP  \n",
       "2     True         NaN    GBP  \n",
       "3     True         NaN    USD  \n",
       "4     True         NaN    GBP  \n",
       "\n",
       "[5 rows x 23 columns]"
      ]
     },
     "execution_count": 5,
     "metadata": {},
     "output_type": "execute_result"
    }
   ],
   "source": [
    "results = %luminesce SELECT * FROM Lusid.Instrument.Equity LIMIT 10\n",
    "results.head()"
   ]
  },
  {
   "cell_type": "markdown",
   "id": "40c38073",
   "metadata": {
    "slideshow": {
     "slide_type": "notes"
    }
   },
   "source": [
    "This line magic runs the query on the same line after the magic command, allowing us to use the result of the query in our Python code."
   ]
  }
 ],
 "metadata": {
  "celltoolbar": "Slideshow",
  "kernelspec": {
   "display_name": "Python 3 (ipykernel)",
   "language": "python",
   "name": "python3"
  },
  "language_info": {
   "codemirror_mode": {
    "name": "ipython",
    "version": 3
   },
   "file_extension": ".py",
   "mimetype": "text/x-python",
   "name": "python",
   "nbconvert_exporter": "python",
   "pygments_lexer": "ipython3",
   "version": "3.9.7"
  }
 },
 "nbformat": 4,
 "nbformat_minor": 5
}
