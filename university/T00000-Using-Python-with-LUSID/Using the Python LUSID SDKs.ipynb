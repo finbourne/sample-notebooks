{
 "cells": [
  {
   "cell_type": "markdown",
   "id": "1f4e526d",
   "metadata": {
    "slideshow": {
     "slide_type": "slide"
    }
   },
   "source": [
    "## Using the FINBOURNE Python SDKs"
   ]
  },
  {
   "cell_type": "markdown",
   "id": "c58de81e",
   "metadata": {
    "slideshow": {
     "slide_type": "subslide"
    }
   },
   "source": [
    "We provide many tools for interacting with FINBOURNE products in Python and Jupyter.\n",
    "\n",
    "The FINBOURNE Python SDKs provides a set of objects and functions which enable you to call our APIs without having to write any direct http or serialisation code. We also provide other manually-written packages which make interacting with LUSID programmatically easier.\n",
    "In this section we'll:\n",
    "- Introduce the FINBOURNE Python SDKs, describing how they are used.\n",
    "- Describe some of the tools for interacting with LUSID in our hosted Jupyter environment."
   ]
  },
  {
   "cell_type": "markdown",
   "id": "0baab167",
   "metadata": {
    "slideshow": {
     "slide_type": "subslide"
    }
   },
   "source": [
    "### Authentication\n",
    "We have a set of SDKs such as the lusid-sdk-python, drive-sdk-python and finbourne-access-sdk-python, all hosted on Pypi. These SDKs provide api objects, with methods that can be used to perform actions in LUSID."
   ]
  },
  {
   "cell_type": "markdown",
   "id": "d5a1218d",
   "metadata": {
    "slideshow": {
     "slide_type": "subslide"
    }
   },
   "source": [
    "All authenticated calls to the LUSID API require an OpenID Connect ID token which is issued from your token issuer url. The details of these can be found on your LUSID portal under \"Applications\" within the \"Identity and Access Management\" section.\n",
    "\n",
    "This is explained in greater detail in our [knowledge base.](https://support.lusid.com/knowledgebase/article/KA-01667/en-us)"
   ]
  },
  {
   "cell_type": "code",
   "execution_count": 6,
   "id": "f113ccff",
   "metadata": {
    "slideshow": {
     "slide_type": "subslide"
    }
   },
   "outputs": [
    {
     "name": "stdout",
     "output_type": "stream",
     "text": [
      "['AggregationApi', 'AllocationsApi', 'ApplicationMetadataApi', 'BlocksApi', 'CalendarsApi', 'ComplexMarketDataApi', 'ComplianceApi', 'ConfigurationRecipeApi', 'ConventionsApi', 'CorporateActionSourcesApi', 'CounterpartiesApi', 'CustomEntitiesApi', 'CustomEntityDefinitionsApi', 'CutLabelDefinitionsApi', 'DataTypesApi', 'DerivedTransactionPortfoliosApi', 'EntitiesApi', 'ExecutionsApi', 'InstrumentEventsApi', 'InstrumentsApi', 'LegalEntitiesApi', 'OrderGraphApi', 'OrderInstructionsApi', 'OrdersApi', 'PackagesApi', 'ParticipationsApi', 'PersonsApi', 'PlacementsApi', 'PortfolioGroupsApi', 'PortfoliosApi', 'PropertyDefinitionsApi', 'QuotesApi', 'ReconciliationsApi', 'ReferencePortfolioApi', 'RelationDefinitionsApi', 'RelationsApi', 'RelationshipDefinitionsApi', 'RelationshipsApi', 'SchemasApi', 'ScopesApi', 'SearchApi', 'SequencesApi', 'StructuredResultDataApi', 'SystemConfigurationApi', 'TaxRuleSetsApi', 'TransactionConfigurationApi', 'TransactionFeesApi', 'TransactionPortfoliosApi', 'TranslationApi']\n"
     ]
    }
   ],
   "source": [
    "import lusid\n",
    "import os\n",
    "from lusidjam import RefreshingToken\n",
    "from lusid.utilities import ApiConfigurationLoader\n",
    "from lusid.utilities import ApiClientFactory\n",
    "\n",
    "try:\n",
    "    # Authenticate to SDK\n",
    "    # Run the Notebook in Jupyterhub for your LUSID domain and authenticate automatically\n",
    "    secrets_path = os.getenv(\"FBN_SECRETS_PATH\")\n",
    "    # Run the Notebook locally using a secrets file (see https://support.lusid.com/knowledgebase/article/KA-01663)\n",
    "    if secrets_path is None:\n",
    "        secrets_path = os.path.join(os.path.dirname(os.getcwd()), \"secrets.json\")\n",
    "\n",
    "    api_factory = ApiClientFactory(\n",
    "        token = RefreshingToken(), \n",
    "        api_secrets_filename = secrets_path,\n",
    "        app_name = \"LusidJupyterNotebook\"\n",
    "    )\n",
    "\n",
    "    print([api for api in dir(lusid.api) if \"Api\" in api])\n",
    "except Exception as e:\n",
    "    print(e)\n",
    "\n"
   ]
  },
  {
   "cell_type": "markdown",
   "id": "6ed26b82",
   "metadata": {
    "slideshow": {
     "slide_type": "notes"
    }
   },
   "source": [
    "Here's an example using the lusid python sdk. We initialise an `api_factory` using our access details, which can be provided in either a secrets json file, or as environment variables. Here we have some environment variables set, we use `RefreshingToken` to grab a token using these environment variables.\n",
    "\n",
    "We then print a list of the available APIs in the lusid preview sdk.\n",
    "\n"
   ]
  },
  {
   "cell_type": "code",
   "execution_count": 7,
   "id": "4d1a2f40",
   "metadata": {
    "scrolled": true,
    "slideshow": {
     "slide_type": "subslide"
    }
   },
   "outputs": [
    {
     "name": "stdout",
     "output_type": "stream",
     "text": [
      "{'api_version': 'v0',\n",
      " 'build_version': '0.6.10357.0',\n",
      " 'excel_version': '0.5.3090',\n",
      " 'links': [{'description': 'A link to the LUSID Insights website showing all '\n",
      "                           'logs related to this request',\n",
      "            'href': 'http://fbn-uni.lusid.com/app/insights/logs/0HMMI4NPKODOG:00000002',\n",
      "            'method': 'GET',\n",
      "            'relation': 'RequestLogs'}]}\n"
     ]
    }
   ],
   "source": [
    "try:\n",
    "    api_instance = api_factory.build(lusid.ApplicationMetadataApi)\n",
    "    # GetLusidVersions: Get LUSID versions\n",
    "    api_response = api_instance.get_lusid_versions()\n",
    "    print(api_response)\n",
    "except lusid.rest.ApiException as e:\n",
    "    print(\"Exception when calling ApplicationMetadataApi->get_lusid_versions: %s\\n\" % e)"
   ]
  },
  {
   "cell_type": "markdown",
   "id": "5dd93e0f",
   "metadata": {
    "slideshow": {
     "slide_type": "notes"
    }
   },
   "source": [
    "Here, we use our `api_factory` to build an `ApplicationMetadatApi` object, which we can use to send requests for our ApplicationMetadata REST endpoints.\n",
    "We then call the `get_lusid_versions` method on this object, which sends a request to the ApplicationMetadataApi->get_lusid_versions endpoint, returning the result as a json string."
   ]
  },
  {
   "cell_type": "markdown",
   "id": "3babbd50",
   "metadata": {
    "slideshow": {
     "slide_type": "subslide"
    }
   },
   "source": [
    "### Tools for interacting with LUSID in our hosted Jupyter environment.\n",
    "We provide a Jupyter environment that you can access and use to interactively write Python and dotnet scripts. In our Jupyter environment, the preview SDKs come installed by default."
   ]
  },
  {
   "cell_type": "markdown",
   "id": "cb1485fc",
   "metadata": {
    "slideshow": {
     "slide_type": "subslide"
    }
   },
   "source": [
    "We provide the lusidjam library, which can be used to provide an authentication token without re-entering credentials into your Python scripts:"
   ]
  },
  {
   "cell_type": "code",
   "execution_count": 8,
   "id": "7206036e",
   "metadata": {
    "slideshow": {
     "slide_type": "subslide"
    }
   },
   "outputs": [],
   "source": [
    "import lusidjam\n",
    "\n",
    "api_factory = lusid.utilities.ApiClientFactory(\n",
    "    token = lusidjam.RefreshingToken()\n",
    ")"
   ]
  },
  {
   "cell_type": "markdown",
   "id": "0a1bac19",
   "metadata": {
    "slideshow": {
     "slide_type": "notes"
    }
   },
   "source": [
    "Here we've built an api-factory using credentials stored in our jupyter environment."
   ]
  },
  {
   "cell_type": "markdown",
   "id": "840092c9",
   "metadata": {
    "slideshow": {
     "slide_type": "subslide"
    }
   },
   "source": [
    "We also provide a custom magic command to query luminesce:"
   ]
  },
  {
   "cell_type": "code",
   "execution_count": 9,
   "id": "291f7d8c",
   "metadata": {
    "scrolled": true,
    "slideshow": {
     "slide_type": "subslide"
    }
   },
   "outputs": [
    {
     "data": {
      "text/html": [
       "<div>\n",
       "<style scoped>\n",
       "    .dataframe tbody tr th:only-of-type {\n",
       "        vertical-align: middle;\n",
       "    }\n",
       "\n",
       "    .dataframe tbody tr th {\n",
       "        vertical-align: top;\n",
       "    }\n",
       "\n",
       "    .dataframe thead th {\n",
       "        text-align: right;\n",
       "    }\n",
       "</style>\n",
       "<table border=\"1\" class=\"dataframe\">\n",
       "  <thead>\n",
       "    <tr style=\"text-align: right;\">\n",
       "      <th></th>\n",
       "      <th>LusidInstrumentId</th>\n",
       "      <th>Isin</th>\n",
       "      <th>Sedol</th>\n",
       "      <th>Cusip</th>\n",
       "      <th>Ticker</th>\n",
       "      <th>ClientInternal</th>\n",
       "      <th>Figi</th>\n",
       "      <th>CompositeFigi</th>\n",
       "      <th>ShareClassFigi</th>\n",
       "      <th>Wertpapier</th>\n",
       "      <th>...</th>\n",
       "      <th>Scope</th>\n",
       "      <th>DisplayName</th>\n",
       "      <th>LookThroughPortfolioScope</th>\n",
       "      <th>LookThroughPortfolioCode</th>\n",
       "      <th>Type</th>\n",
       "      <th>InferredAssetClass</th>\n",
       "      <th>InferredDomCcy</th>\n",
       "      <th>IsActive</th>\n",
       "      <th>Identifiers</th>\n",
       "      <th>DomCcy</th>\n",
       "    </tr>\n",
       "  </thead>\n",
       "  <tbody>\n",
       "    <tr>\n",
       "      <th>0</th>\n",
       "      <td>LUID_00003D8A</td>\n",
       "      <td>GB00BLGZ9862</td>\n",
       "      <td>BLGZ986</td>\n",
       "      <td>NaN</td>\n",
       "      <td>NaN</td>\n",
       "      <td>NaN</td>\n",
       "      <td>BBG000BF46Y8</td>\n",
       "      <td>NaN</td>\n",
       "      <td>NaN</td>\n",
       "      <td>NaN</td>\n",
       "      <td>...</td>\n",
       "      <td>fbn-uni-T02002</td>\n",
       "      <td>Tesco</td>\n",
       "      <td>NaN</td>\n",
       "      <td>NaN</td>\n",
       "      <td>Equity</td>\n",
       "      <td>Equities</td>\n",
       "      <td>GBP</td>\n",
       "      <td>True</td>\n",
       "      <td>NaN</td>\n",
       "      <td>GBP</td>\n",
       "    </tr>\n",
       "    <tr>\n",
       "      <th>1</th>\n",
       "      <td>LUID_00003DJN</td>\n",
       "      <td>US47215P1066</td>\n",
       "      <td>NaN</td>\n",
       "      <td>47215P106</td>\n",
       "      <td>NaN</td>\n",
       "      <td>NaN</td>\n",
       "      <td>BBG005YHY0Q7</td>\n",
       "      <td>NaN</td>\n",
       "      <td>NaN</td>\n",
       "      <td>NaN</td>\n",
       "      <td>...</td>\n",
       "      <td>FBNUniversityModule-T2-2</td>\n",
       "      <td>JD.com</td>\n",
       "      <td>NaN</td>\n",
       "      <td>NaN</td>\n",
       "      <td>Equity</td>\n",
       "      <td>Equities</td>\n",
       "      <td>USD</td>\n",
       "      <td>True</td>\n",
       "      <td>NaN</td>\n",
       "      <td>USD</td>\n",
       "    </tr>\n",
       "    <tr>\n",
       "      <th>2</th>\n",
       "      <td>LUID_00003DIB</td>\n",
       "      <td>US2561631068</td>\n",
       "      <td>NaN</td>\n",
       "      <td>256163106</td>\n",
       "      <td>NaN</td>\n",
       "      <td>NaN</td>\n",
       "      <td>BBG000N7KJX8</td>\n",
       "      <td>NaN</td>\n",
       "      <td>NaN</td>\n",
       "      <td>NaN</td>\n",
       "      <td>...</td>\n",
       "      <td>FBNUniversityModule-T2-2</td>\n",
       "      <td>DocuSign</td>\n",
       "      <td>NaN</td>\n",
       "      <td>NaN</td>\n",
       "      <td>Equity</td>\n",
       "      <td>Equities</td>\n",
       "      <td>USD</td>\n",
       "      <td>True</td>\n",
       "      <td>NaN</td>\n",
       "      <td>USD</td>\n",
       "    </tr>\n",
       "    <tr>\n",
       "      <th>3</th>\n",
       "      <td>LUID_00003DF4</td>\n",
       "      <td>GB00B1VZ0M25</td>\n",
       "      <td>B1VZ0M2</td>\n",
       "      <td>NaN</td>\n",
       "      <td>NaN</td>\n",
       "      <td>NaN</td>\n",
       "      <td>BBG000CLQ3K2</td>\n",
       "      <td>NaN</td>\n",
       "      <td>NaN</td>\n",
       "      <td>NaN</td>\n",
       "      <td>...</td>\n",
       "      <td>FBNUniversity</td>\n",
       "      <td>Hargreaves Lansdown</td>\n",
       "      <td>NaN</td>\n",
       "      <td>NaN</td>\n",
       "      <td>Equity</td>\n",
       "      <td>Equities</td>\n",
       "      <td>GBP</td>\n",
       "      <td>True</td>\n",
       "      <td>NaN</td>\n",
       "      <td>GBP</td>\n",
       "    </tr>\n",
       "    <tr>\n",
       "      <th>4</th>\n",
       "      <td>LUID_00003D4W</td>\n",
       "      <td>GB0004052071</td>\n",
       "      <td>NaN</td>\n",
       "      <td>NaN</td>\n",
       "      <td>HLMA LN</td>\n",
       "      <td>imd_78009283</td>\n",
       "      <td>BBG000BDLT47</td>\n",
       "      <td>NaN</td>\n",
       "      <td>NaN</td>\n",
       "      <td>NaN</td>\n",
       "      <td>...</td>\n",
       "      <td>FBNUniversityModule-1</td>\n",
       "      <td>Halma</td>\n",
       "      <td>NaN</td>\n",
       "      <td>NaN</td>\n",
       "      <td>Equity</td>\n",
       "      <td>Equities</td>\n",
       "      <td>GBP</td>\n",
       "      <td>True</td>\n",
       "      <td>NaN</td>\n",
       "      <td>GBP</td>\n",
       "    </tr>\n",
       "    <tr>\n",
       "      <th>5</th>\n",
       "      <td>LUID_00003DN8</td>\n",
       "      <td>GB00B0744B38</td>\n",
       "      <td>B0744B3</td>\n",
       "      <td>NaN</td>\n",
       "      <td>NaN</td>\n",
       "      <td>NaN</td>\n",
       "      <td>BBG000BD7MX6</td>\n",
       "      <td>NaN</td>\n",
       "      <td>NaN</td>\n",
       "      <td>NaN</td>\n",
       "      <td>...</td>\n",
       "      <td>FBNUniversityModule-T2-2</td>\n",
       "      <td>Bunzl</td>\n",
       "      <td>NaN</td>\n",
       "      <td>NaN</td>\n",
       "      <td>Equity</td>\n",
       "      <td>Equities</td>\n",
       "      <td>GBP</td>\n",
       "      <td>True</td>\n",
       "      <td>NaN</td>\n",
       "      <td>GBP</td>\n",
       "    </tr>\n",
       "    <tr>\n",
       "      <th>6</th>\n",
       "      <td>LUID_00003DB4</td>\n",
       "      <td>US03662Q1058</td>\n",
       "      <td>NaN</td>\n",
       "      <td>03662Q105</td>\n",
       "      <td>NaN</td>\n",
       "      <td>NaN</td>\n",
       "      <td>BBG000GXZ4W7</td>\n",
       "      <td>NaN</td>\n",
       "      <td>NaN</td>\n",
       "      <td>NaN</td>\n",
       "      <td>...</td>\n",
       "      <td>fbn-uni-T02002</td>\n",
       "      <td>Ansys</td>\n",
       "      <td>NaN</td>\n",
       "      <td>NaN</td>\n",
       "      <td>Equity</td>\n",
       "      <td>Equities</td>\n",
       "      <td>USD</td>\n",
       "      <td>True</td>\n",
       "      <td>NaN</td>\n",
       "      <td>USD</td>\n",
       "    </tr>\n",
       "    <tr>\n",
       "      <th>7</th>\n",
       "      <td>LUID_00003DAK</td>\n",
       "      <td>US4581401001</td>\n",
       "      <td>NaN</td>\n",
       "      <td>458140100</td>\n",
       "      <td>NaN</td>\n",
       "      <td>NaN</td>\n",
       "      <td>BBG000C0G1D1</td>\n",
       "      <td>NaN</td>\n",
       "      <td>NaN</td>\n",
       "      <td>NaN</td>\n",
       "      <td>...</td>\n",
       "      <td>fbn-uni-T02002</td>\n",
       "      <td>Intel Corporation</td>\n",
       "      <td>NaN</td>\n",
       "      <td>NaN</td>\n",
       "      <td>Equity</td>\n",
       "      <td>Equities</td>\n",
       "      <td>USD</td>\n",
       "      <td>True</td>\n",
       "      <td>NaN</td>\n",
       "      <td>USD</td>\n",
       "    </tr>\n",
       "    <tr>\n",
       "      <th>8</th>\n",
       "      <td>LUID_00003DJ0</td>\n",
       "      <td>US67103H1077</td>\n",
       "      <td>NaN</td>\n",
       "      <td>67103H107</td>\n",
       "      <td>NaN</td>\n",
       "      <td>NaN</td>\n",
       "      <td>BBG000BGYWY6</td>\n",
       "      <td>NaN</td>\n",
       "      <td>NaN</td>\n",
       "      <td>NaN</td>\n",
       "      <td>...</td>\n",
       "      <td>FBNUniversityModule-T2-2</td>\n",
       "      <td>O'Reilly Automotive, Inc.</td>\n",
       "      <td>NaN</td>\n",
       "      <td>NaN</td>\n",
       "      <td>Equity</td>\n",
       "      <td>Equities</td>\n",
       "      <td>USD</td>\n",
       "      <td>True</td>\n",
       "      <td>NaN</td>\n",
       "      <td>USD</td>\n",
       "    </tr>\n",
       "    <tr>\n",
       "      <th>9</th>\n",
       "      <td>LUID_00003DH6</td>\n",
       "      <td>GB00BVYVFW23</td>\n",
       "      <td>BVYVFW2</td>\n",
       "      <td>NaN</td>\n",
       "      <td>NaN</td>\n",
       "      <td>NaN</td>\n",
       "      <td>BBG0086LKMG1</td>\n",
       "      <td>NaN</td>\n",
       "      <td>NaN</td>\n",
       "      <td>NaN</td>\n",
       "      <td>...</td>\n",
       "      <td>FBNUniversity</td>\n",
       "      <td>Auto Trader Group</td>\n",
       "      <td>NaN</td>\n",
       "      <td>NaN</td>\n",
       "      <td>Equity</td>\n",
       "      <td>Equities</td>\n",
       "      <td>GBP</td>\n",
       "      <td>True</td>\n",
       "      <td>NaN</td>\n",
       "      <td>GBP</td>\n",
       "    </tr>\n",
       "  </tbody>\n",
       "</table>\n",
       "<p>10 rows × 23 columns</p>\n",
       "</div>"
      ],
      "text/plain": [
       "  LusidInstrumentId          Isin    Sedol      Cusip   Ticker ClientInternal  \\\n",
       "0     LUID_00003D8A  GB00BLGZ9862  BLGZ986        NaN      NaN            NaN   \n",
       "1     LUID_00003DJN  US47215P1066      NaN  47215P106      NaN            NaN   \n",
       "2     LUID_00003DIB  US2561631068      NaN  256163106      NaN            NaN   \n",
       "3     LUID_00003DF4  GB00B1VZ0M25  B1VZ0M2        NaN      NaN            NaN   \n",
       "4     LUID_00003D4W  GB0004052071      NaN        NaN  HLMA LN   imd_78009283   \n",
       "5     LUID_00003DN8  GB00B0744B38  B0744B3        NaN      NaN            NaN   \n",
       "6     LUID_00003DB4  US03662Q1058      NaN  03662Q105      NaN            NaN   \n",
       "7     LUID_00003DAK  US4581401001      NaN  458140100      NaN            NaN   \n",
       "8     LUID_00003DJ0  US67103H1077      NaN  67103H107      NaN            NaN   \n",
       "9     LUID_00003DH6  GB00BVYVFW23  BVYVFW2        NaN      NaN            NaN   \n",
       "\n",
       "           Figi  CompositeFigi  ShareClassFigi  Wertpapier  ...  \\\n",
       "0  BBG000BF46Y8            NaN             NaN         NaN  ...   \n",
       "1  BBG005YHY0Q7            NaN             NaN         NaN  ...   \n",
       "2  BBG000N7KJX8            NaN             NaN         NaN  ...   \n",
       "3  BBG000CLQ3K2            NaN             NaN         NaN  ...   \n",
       "4  BBG000BDLT47            NaN             NaN         NaN  ...   \n",
       "5  BBG000BD7MX6            NaN             NaN         NaN  ...   \n",
       "6  BBG000GXZ4W7            NaN             NaN         NaN  ...   \n",
       "7  BBG000C0G1D1            NaN             NaN         NaN  ...   \n",
       "8  BBG000BGYWY6            NaN             NaN         NaN  ...   \n",
       "9  BBG0086LKMG1            NaN             NaN         NaN  ...   \n",
       "\n",
       "                      Scope                DisplayName  \\\n",
       "0            fbn-uni-T02002                      Tesco   \n",
       "1  FBNUniversityModule-T2-2                     JD.com   \n",
       "2  FBNUniversityModule-T2-2                   DocuSign   \n",
       "3             FBNUniversity        Hargreaves Lansdown   \n",
       "4     FBNUniversityModule-1                      Halma   \n",
       "5  FBNUniversityModule-T2-2                      Bunzl   \n",
       "6            fbn-uni-T02002                      Ansys   \n",
       "7            fbn-uni-T02002          Intel Corporation   \n",
       "8  FBNUniversityModule-T2-2  O'Reilly Automotive, Inc.   \n",
       "9             FBNUniversity          Auto Trader Group   \n",
       "\n",
       "   LookThroughPortfolioScope LookThroughPortfolioCode    Type  \\\n",
       "0                        NaN                      NaN  Equity   \n",
       "1                        NaN                      NaN  Equity   \n",
       "2                        NaN                      NaN  Equity   \n",
       "3                        NaN                      NaN  Equity   \n",
       "4                        NaN                      NaN  Equity   \n",
       "5                        NaN                      NaN  Equity   \n",
       "6                        NaN                      NaN  Equity   \n",
       "7                        NaN                      NaN  Equity   \n",
       "8                        NaN                      NaN  Equity   \n",
       "9                        NaN                      NaN  Equity   \n",
       "\n",
       "   InferredAssetClass  InferredDomCcy IsActive Identifiers DomCcy  \n",
       "0            Equities             GBP     True         NaN    GBP  \n",
       "1            Equities             USD     True         NaN    USD  \n",
       "2            Equities             USD     True         NaN    USD  \n",
       "3            Equities             GBP     True         NaN    GBP  \n",
       "4            Equities             GBP     True         NaN    GBP  \n",
       "5            Equities             GBP     True         NaN    GBP  \n",
       "6            Equities             USD     True         NaN    USD  \n",
       "7            Equities             USD     True         NaN    USD  \n",
       "8            Equities             USD     True         NaN    USD  \n",
       "9            Equities             GBP     True         NaN    GBP  \n",
       "\n",
       "[10 rows x 23 columns]"
      ]
     },
     "execution_count": 9,
     "metadata": {},
     "output_type": "execute_result"
    }
   ],
   "source": [
    "%%luminesce\n",
    "SELECT * FROM Lusid.Instrument.Equity LIMIT 10"
   ]
  },
  {
   "cell_type": "markdown",
   "id": "fd962965",
   "metadata": {
    "slideshow": {
     "slide_type": "notes"
    }
   },
   "source": [
    "This cell magic runs any statement in the cell below the magic command, displaying a pandas dataframe containing the output of the luminesce query."
   ]
  },
  {
   "cell_type": "code",
   "execution_count": 12,
   "id": "b6e860a9",
   "metadata": {
    "slideshow": {
     "slide_type": "subslide"
    }
   },
   "outputs": [
    {
     "data": {
      "text/html": [
       "<div>\n",
       "<style scoped>\n",
       "    .dataframe tbody tr th:only-of-type {\n",
       "        vertical-align: middle;\n",
       "    }\n",
       "\n",
       "    .dataframe tbody tr th {\n",
       "        vertical-align: top;\n",
       "    }\n",
       "\n",
       "    .dataframe thead th {\n",
       "        text-align: right;\n",
       "    }\n",
       "</style>\n",
       "<table border=\"1\" class=\"dataframe\">\n",
       "  <thead>\n",
       "    <tr style=\"text-align: right;\">\n",
       "      <th></th>\n",
       "      <th>LusidInstrumentId</th>\n",
       "      <th>Isin</th>\n",
       "      <th>Sedol</th>\n",
       "      <th>Cusip</th>\n",
       "      <th>Ticker</th>\n",
       "      <th>ClientInternal</th>\n",
       "      <th>Figi</th>\n",
       "      <th>CompositeFigi</th>\n",
       "      <th>ShareClassFigi</th>\n",
       "      <th>Wertpapier</th>\n",
       "      <th>...</th>\n",
       "      <th>Scope</th>\n",
       "      <th>DisplayName</th>\n",
       "      <th>LookThroughPortfolioScope</th>\n",
       "      <th>LookThroughPortfolioCode</th>\n",
       "      <th>Type</th>\n",
       "      <th>InferredAssetClass</th>\n",
       "      <th>InferredDomCcy</th>\n",
       "      <th>IsActive</th>\n",
       "      <th>Identifiers</th>\n",
       "      <th>DomCcy</th>\n",
       "    </tr>\n",
       "  </thead>\n",
       "  <tbody>\n",
       "    <tr>\n",
       "      <th>0</th>\n",
       "      <td>LUID_00003D8A</td>\n",
       "      <td>GB00BLGZ9862</td>\n",
       "      <td>BLGZ986</td>\n",
       "      <td>NaN</td>\n",
       "      <td>NaN</td>\n",
       "      <td>NaN</td>\n",
       "      <td>BBG000BF46Y8</td>\n",
       "      <td>NaN</td>\n",
       "      <td>NaN</td>\n",
       "      <td>NaN</td>\n",
       "      <td>...</td>\n",
       "      <td>fbn-uni-T02002</td>\n",
       "      <td>Tesco</td>\n",
       "      <td>NaN</td>\n",
       "      <td>NaN</td>\n",
       "      <td>Equity</td>\n",
       "      <td>Equities</td>\n",
       "      <td>GBP</td>\n",
       "      <td>True</td>\n",
       "      <td>NaN</td>\n",
       "      <td>GBP</td>\n",
       "    </tr>\n",
       "    <tr>\n",
       "      <th>1</th>\n",
       "      <td>LUID_00003DJN</td>\n",
       "      <td>US47215P1066</td>\n",
       "      <td>NaN</td>\n",
       "      <td>47215P106</td>\n",
       "      <td>NaN</td>\n",
       "      <td>NaN</td>\n",
       "      <td>BBG005YHY0Q7</td>\n",
       "      <td>NaN</td>\n",
       "      <td>NaN</td>\n",
       "      <td>NaN</td>\n",
       "      <td>...</td>\n",
       "      <td>FBNUniversityModule-T2-2</td>\n",
       "      <td>JD.com</td>\n",
       "      <td>NaN</td>\n",
       "      <td>NaN</td>\n",
       "      <td>Equity</td>\n",
       "      <td>Equities</td>\n",
       "      <td>USD</td>\n",
       "      <td>True</td>\n",
       "      <td>NaN</td>\n",
       "      <td>USD</td>\n",
       "    </tr>\n",
       "    <tr>\n",
       "      <th>2</th>\n",
       "      <td>LUID_00003DIB</td>\n",
       "      <td>US2561631068</td>\n",
       "      <td>NaN</td>\n",
       "      <td>256163106</td>\n",
       "      <td>NaN</td>\n",
       "      <td>NaN</td>\n",
       "      <td>BBG000N7KJX8</td>\n",
       "      <td>NaN</td>\n",
       "      <td>NaN</td>\n",
       "      <td>NaN</td>\n",
       "      <td>...</td>\n",
       "      <td>FBNUniversityModule-T2-2</td>\n",
       "      <td>DocuSign</td>\n",
       "      <td>NaN</td>\n",
       "      <td>NaN</td>\n",
       "      <td>Equity</td>\n",
       "      <td>Equities</td>\n",
       "      <td>USD</td>\n",
       "      <td>True</td>\n",
       "      <td>NaN</td>\n",
       "      <td>USD</td>\n",
       "    </tr>\n",
       "    <tr>\n",
       "      <th>3</th>\n",
       "      <td>LUID_00003DF4</td>\n",
       "      <td>GB00B1VZ0M25</td>\n",
       "      <td>B1VZ0M2</td>\n",
       "      <td>NaN</td>\n",
       "      <td>NaN</td>\n",
       "      <td>NaN</td>\n",
       "      <td>BBG000CLQ3K2</td>\n",
       "      <td>NaN</td>\n",
       "      <td>NaN</td>\n",
       "      <td>NaN</td>\n",
       "      <td>...</td>\n",
       "      <td>FBNUniversity</td>\n",
       "      <td>Hargreaves Lansdown</td>\n",
       "      <td>NaN</td>\n",
       "      <td>NaN</td>\n",
       "      <td>Equity</td>\n",
       "      <td>Equities</td>\n",
       "      <td>GBP</td>\n",
       "      <td>True</td>\n",
       "      <td>NaN</td>\n",
       "      <td>GBP</td>\n",
       "    </tr>\n",
       "    <tr>\n",
       "      <th>4</th>\n",
       "      <td>LUID_00003D4W</td>\n",
       "      <td>GB0004052071</td>\n",
       "      <td>NaN</td>\n",
       "      <td>NaN</td>\n",
       "      <td>HLMA LN</td>\n",
       "      <td>imd_78009283</td>\n",
       "      <td>BBG000BDLT47</td>\n",
       "      <td>NaN</td>\n",
       "      <td>NaN</td>\n",
       "      <td>NaN</td>\n",
       "      <td>...</td>\n",
       "      <td>FBNUniversityModule-1</td>\n",
       "      <td>Halma</td>\n",
       "      <td>NaN</td>\n",
       "      <td>NaN</td>\n",
       "      <td>Equity</td>\n",
       "      <td>Equities</td>\n",
       "      <td>GBP</td>\n",
       "      <td>True</td>\n",
       "      <td>NaN</td>\n",
       "      <td>GBP</td>\n",
       "    </tr>\n",
       "  </tbody>\n",
       "</table>\n",
       "<p>5 rows × 23 columns</p>\n",
       "</div>"
      ],
      "text/plain": [
       "  LusidInstrumentId          Isin    Sedol      Cusip   Ticker ClientInternal  \\\n",
       "0     LUID_00003D8A  GB00BLGZ9862  BLGZ986        NaN      NaN            NaN   \n",
       "1     LUID_00003DJN  US47215P1066      NaN  47215P106      NaN            NaN   \n",
       "2     LUID_00003DIB  US2561631068      NaN  256163106      NaN            NaN   \n",
       "3     LUID_00003DF4  GB00B1VZ0M25  B1VZ0M2        NaN      NaN            NaN   \n",
       "4     LUID_00003D4W  GB0004052071      NaN        NaN  HLMA LN   imd_78009283   \n",
       "\n",
       "           Figi  CompositeFigi  ShareClassFigi  Wertpapier  ...  \\\n",
       "0  BBG000BF46Y8            NaN             NaN         NaN  ...   \n",
       "1  BBG005YHY0Q7            NaN             NaN         NaN  ...   \n",
       "2  BBG000N7KJX8            NaN             NaN         NaN  ...   \n",
       "3  BBG000CLQ3K2            NaN             NaN         NaN  ...   \n",
       "4  BBG000BDLT47            NaN             NaN         NaN  ...   \n",
       "\n",
       "                      Scope          DisplayName  LookThroughPortfolioScope  \\\n",
       "0            fbn-uni-T02002                Tesco                        NaN   \n",
       "1  FBNUniversityModule-T2-2               JD.com                        NaN   \n",
       "2  FBNUniversityModule-T2-2             DocuSign                        NaN   \n",
       "3             FBNUniversity  Hargreaves Lansdown                        NaN   \n",
       "4     FBNUniversityModule-1                Halma                        NaN   \n",
       "\n",
       "  LookThroughPortfolioCode    Type  InferredAssetClass  InferredDomCcy  \\\n",
       "0                      NaN  Equity            Equities             GBP   \n",
       "1                      NaN  Equity            Equities             USD   \n",
       "2                      NaN  Equity            Equities             USD   \n",
       "3                      NaN  Equity            Equities             GBP   \n",
       "4                      NaN  Equity            Equities             GBP   \n",
       "\n",
       "  IsActive Identifiers DomCcy  \n",
       "0     True         NaN    GBP  \n",
       "1     True         NaN    USD  \n",
       "2     True         NaN    USD  \n",
       "3     True         NaN    GBP  \n",
       "4     True         NaN    GBP  \n",
       "\n",
       "[5 rows x 23 columns]"
      ]
     },
     "execution_count": 12,
     "metadata": {},
     "output_type": "execute_result"
    }
   ],
   "source": [
    "results = %luminesce SELECT * FROM Lusid.Instrument.Equity LIMIT 10\n",
    "results.head()"
   ]
  },
  {
   "cell_type": "markdown",
   "id": "40c38073",
   "metadata": {
    "slideshow": {
     "slide_type": "notes"
    }
   },
   "source": [
    "This line magic runs the query on the same line after the magic command, allowing us to use the result of the query in our Python code."
   ]
  }
 ],
 "metadata": {
  "celltoolbar": "Slideshow",
  "kernelspec": {
   "display_name": "Python 3.10.8 64-bit",
   "language": "python",
   "name": "python3"
  },
  "language_info": {
   "codemirror_mode": {
    "name": "ipython",
    "version": 3
   },
   "file_extension": ".py",
   "mimetype": "text/x-python",
   "name": "python",
   "nbconvert_exporter": "python",
   "pygments_lexer": "ipython3",
   "version": "3.10.8"
  },
  "vscode": {
   "interpreter": {
    "hash": "b0fa6594d8f4cbf19f97940f81e996739fb7646882a419484c72d19e05852a7e"
   }
  }
 },
 "nbformat": 4,
 "nbformat_minor": 5
}
