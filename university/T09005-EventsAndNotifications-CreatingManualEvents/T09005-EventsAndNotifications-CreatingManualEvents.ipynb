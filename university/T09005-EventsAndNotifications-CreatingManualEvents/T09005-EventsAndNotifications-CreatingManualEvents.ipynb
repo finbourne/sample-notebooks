{
 "cells": [
  {
   "cell_type": "code",
   "execution_count": 1,
   "id": "62675678",
   "metadata": {},
   "outputs": [],
   "source": [
    "#Setup\n",
    "import pandas as pd\n",
    "import os\n",
    "\n",
    "pd.set_option(\"display.max_columns\", None)\n",
    "pd.set_option(\"display.max_rows\", None)\n",
    "pd.options.display.float_format = \"{:,.2f}\".format"
   ]
  },
  {
   "cell_type": "markdown",
   "id": "e32e01fe",
   "metadata": {
    "slideshow": {
     "slide_type": "slide"
    }
   },
   "source": [
    "<p style=\"font-family: Montserrat; color: #203443; font-weight: bold; font-size: 125%\">What are we going to cover?</p>"
   ]
  },
  {
   "cell_type": "markdown",
   "id": "7abac222",
   "metadata": {
    "slideshow": {
     "slide_type": "fragment"
    }
   },
   "source": [
    "<ul>\n",
    "    <li style=\"color: #ff5200\"><p style=\"font-family: Montserrat; color: #203443\">How can we create a Manual Event?</p></li>\n",
    "</ul>"
   ]
  },
  {
   "cell_type": "markdown",
   "id": "7d1d35b9",
   "metadata": {
    "slideshow": {
     "slide_type": "fragment"
    }
   },
   "source": [
    "<ul>\n",
    "    <li style=\"color: #ff5200\"><p style=\"font-family: Montserrat; color: #203443\">What is the schema of a Manual Event?</p></li>\n",
    "</ul>"
   ]
  },
  {
   "cell_type": "markdown",
   "id": "97504bfa",
   "metadata": {
    "slideshow": {
     "slide_type": "fragment"
    }
   },
   "source": [
    "<ul>\n",
    "    <li style=\"color: #ff5200\"><p style=\"font-family: Montserrat; color: #203443\">How can we use templating to enrich our notifications based on a subscription to a Manual Event?</p></li>\n",
    "</ul>"
   ]
  },
  {
   "cell_type": "markdown",
   "id": "d93f433d",
   "metadata": {
    "slideshow": {
     "slide_type": "slide"
    }
   },
   "source": [
    "<p style=\"font-family: Montserrat; color: #203443; font-weight: bold; font-size: 125%\">Creating a Manual Event</p>"
   ]
  },
  {
   "cell_type": "code",
   "execution_count": 2,
   "id": "1e1775bd",
   "metadata": {
    "slideshow": {
     "slide_type": "subslide"
    }
   },
   "outputs": [],
   "source": [
    "import pprint\n",
    "\n",
    "import lusid_notifications\n",
    "from lusidjam import RefreshingToken\n",
    "from fbnsdkutilities import ApiClientFactory\n",
    "\n",
    "api_factory_notifications = ApiClientFactory(lusid_notifications, token=RefreshingToken())\n",
    "event_types_api = api_factory_notifications.build(lusid_notifications.api.EventTypesApi)\n",
    "events_api = api_factory_notifications.build(lusid_notifications.api.EventsApi)\n",
    "subscriptions_api = api_factory_notifications.build(lusid_notifications.api.SubscriptionsApi)\n",
    "notifications_api = api_factory_notifications.build(lusid_notifications.api.NotificationsApi)\n",
    "\n",
    "subscription_scope=\"FinbourneUniversity\"\n",
    "subscription_code=\"ManualEventSubscription\""
   ]
  },
  {
   "cell_type": "code",
   "execution_count": 3,
   "id": "fc3ea570",
   "metadata": {
    "slideshow": {
     "slide_type": "skip"
    }
   },
   "outputs": [],
   "source": [
    "try:\n",
    "    subscriptions_api.get_subscription(\n",
    "        scope=subscription_scope,\n",
    "        code=subscription_code)\n",
    "    \n",
    "    subscriptions_api.delete_subscription(\n",
    "        scope=subscription_scope,\n",
    "        code=subscription_code\n",
    "    )\n",
    "    \n",
    "except lusid_notifications.ApiException as api_exception:\n",
    "    if api_exception.status == 404:\n",
    "        pass\n",
    "    else:\n",
    "        raise"
   ]
  },
  {
   "cell_type": "code",
   "execution_count": 4,
   "id": "298cacd9",
   "metadata": {
    "slideshow": {
     "slide_type": "skip"
    }
   },
   "outputs": [],
   "source": [
    "subscriptions_api.create_subscription(\n",
    "    create_subscription=lusid_notifications.CreateSubscription(\n",
    "        id=lusid_notifications.ResourceId(\n",
    "            scope=subscription_scope,\n",
    "            code=subscription_code,\n",
    "        ),\n",
    "        display_name=\"New Trade\",\n",
    "        description=\"Listens for new trade executed Manual events\",\n",
    "        status=\"Active\",\n",
    "        matching_pattern=lusid_notifications.MatchingPattern(\n",
    "            event_type=\"Manual\",\n",
    "            filter=\"Subject eq 'Trade Executed'\"\n",
    "        )\n",
    "    )\n",
    ")\n",
    "\n",
    "create_response = notifications_api.create_sms_notification(\n",
    "    scope=subscription_scope,\n",
    "    code=subscription_code,\n",
    "    create_sms_notification=lusid_notifications.CreateSmsNotification(\n",
    "        description=\"New Trade Executed\",\n",
    "        body=\"\"\"\n",
    "                Trade {{jsonMessage.TradeId}} for {{jsonMessage.Quantity}} shares in \n",
    "                {{jsonMessage.Security}} executed.\n",
    "\n",
    "                {{#jsonMessage.Tags}}\n",
    "                - {{.}}\n",
    "                {{/jsonMessage.Tags}}\n",
    "            \"\"\",\n",
    "        recipients=[\n",
    "            \"+447700900000\",\n",
    "            \"+12334550000\"\n",
    "        ]\n",
    "    )\n",
    ")\n"
   ]
  },
  {
   "cell_type": "code",
   "execution_count": 5,
   "id": "06edf5ff",
   "metadata": {
    "slideshow": {
     "slide_type": "subslide"
    }
   },
   "outputs": [
    {
     "data": {
      "text/plain": [
       "{'application': None,\n",
       " 'description': 'Manual event',\n",
       " 'entity': None,\n",
       " 'event_name': 'Manual event',\n",
       " 'id': 'Manual',\n",
       " 'json_schema': {'properties': {'EventTime': {'format': 'date-time',\n",
       "                                              'type': 'string'},\n",
       "                                'EventType': {'type': 'string'},\n",
       "                                'Id': {'maxLength': 64,\n",
       "                                       'minLength': 1,\n",
       "                                       'pattern': '^[a-zA-Z0-9\\\\-_]+$',\n",
       "                                       'type': 'string'},\n",
       "                                'JsonMessage': {},\n",
       "                                'Message': {'maxLength': 2147483647,\n",
       "                                            'minLength': 1,\n",
       "                                            'pattern': '^[\\\\s\\\\S]*$',\n",
       "                                            'type': 'string'},\n",
       "                                'Subject': {'maxLength': 256,\n",
       "                                            'minLength': 1,\n",
       "                                            'pattern': '^[\\\\s\\\\S]*$',\n",
       "                                            'type': 'string'}},\n",
       "                 'required': ['EventType',\n",
       "                              'Id',\n",
       "                              'Message',\n",
       "                              'Subject',\n",
       "                              'EventTime',\n",
       "                              'JsonMessage']}}"
      ]
     },
     "execution_count": 5,
     "metadata": {},
     "output_type": "execute_result"
    }
   ],
   "source": [
    "event_types_api.get_event_type(\"Manual\")\n"
   ]
  },
  {
   "cell_type": "code",
   "execution_count": 6,
   "id": "a329c98c",
   "metadata": {
    "slideshow": {
     "slide_type": "subslide"
    }
   },
   "outputs": [
    {
     "data": {
      "text/plain": [
       "{'id': 'cf551917-3707-449a-9cd1-b92cf81998cd'}"
      ]
     },
     "execution_count": 6,
     "metadata": {},
     "output_type": "execute_result"
    }
   ],
   "source": [
    "events_api.create_event(\n",
    "    body={\n",
    "        \"id\": \"TradeId123\",\n",
    "        \"eventTime\": \"2023-02-10\",\n",
    "        \"eventType\": \"Manual\",\n",
    "        \"message\": \"A new trade has been executed\",\n",
    "        \"subject\": \"Trade Executed\",\n",
    "        \"jsonMessage\": {\n",
    "            \"TradeId\": \"123\",\n",
    "            \"Security\": \"Apple Ord Shares\",\n",
    "            \"Quantity\": 5100,\n",
    "            \"Tags\": [\"Buy\", \"Long\", \"ExchangeSettled\"]\n",
    "        }\n",
    "    }\n",
    ")\n"
   ]
  },
  {
   "cell_type": "code",
   "execution_count": 7,
   "id": "7a6f0ea6",
   "metadata": {
    "slideshow": {
     "slide_type": "subslide"
    }
   },
   "outputs": [
    {
     "data": {
      "text/plain": [
       "{'id': 'f681b513-34c6-4664-87d4-2279879e8259'}"
      ]
     },
     "execution_count": 7,
     "metadata": {},
     "output_type": "execute_result"
    }
   ],
   "source": [
    "events_api.create_event(\n",
    "    body={\n",
    "        \"id\": \"TradeId123\",\n",
    "        \"eventTime\": \"2023-02-10\",\n",
    "        \"eventType\": \"Manual\",\n",
    "        \"message\": \"A new trade has been executed\",\n",
    "        \"subject\": \"Trade Executed\",\n",
    "        \"jsonMessage\": {\n",
    "            \"TradeId\": \"123\",\n",
    "            \"Quantity\": 5100\n",
    "        }\n",
    "    }\n",
    ")\n"
   ]
  },
  {
   "cell_type": "markdown",
   "id": "3a30b680",
   "metadata": {
    "slideshow": {
     "slide_type": "slide"
    }
   },
   "source": [
    "<p style=\"font-family: Montserrat; color: #203443; font-weight: bold; font-size: 125%\">What have we covered?</p>"
   ]
  },
  {
   "cell_type": "markdown",
   "id": "be8a7963",
   "metadata": {
    "slideshow": {
     "slide_type": "fragment"
    }
   },
   "source": [
    "<ul>\n",
    "    <li style=\"color: #ff5200\"><p style=\"font-family: Montserrat; color: #203443\">We subscribed to a Manual Event instead of an automatically generated event.</p></li>\n",
    "</ul>"
   ]
  },
  {
   "cell_type": "markdown",
   "id": "76290621",
   "metadata": {
    "slideshow": {
     "slide_type": "fragment"
    }
   },
   "source": [
    "<ul>\n",
    "    <li style=\"color: #ff5200\"><p style=\"font-family: Montserrat; color: #203443\">We used templating to create a text message notification which used optional fields from the Manual Event.</p></li>\n",
    "</ul>"
   ]
  },
  {
   "cell_type": "markdown",
   "id": "fbd46722",
   "metadata": {
    "slideshow": {
     "slide_type": "subslide"
    }
   },
   "source": [
    "<ul>\n",
    "    <li style=\"color: #ff5200\"><p style=\"font-family: Montserrat; color: #203443\">We created a Manual Event which contained all the fields used in the template and saw that these become populated in the text message notification.</p></li>\n",
    "</ul>"
   ]
  },
  {
   "cell_type": "markdown",
   "id": "3a25d977",
   "metadata": {
    "slideshow": {
     "slide_type": "fragment"
    }
   },
   "source": [
    "<ul>\n",
    "    <li style=\"color: #ff5200\"><p style=\"font-family: Montserrat; color: #203443\">We created a Manual Event which was missing some of the fields used in the template and saw that these were left blank in the text message notification.</p></li>\n",
    "</ul>"
   ]
  },
  {
   "cell_type": "code",
   "execution_count": 8,
   "id": "720022b9",
   "metadata": {
    "slideshow": {
     "slide_type": "skip"
    }
   },
   "outputs": [],
   "source": [
    "subscriptions_api.delete_subscription(\n",
    "    scope=subscription_scope,\n",
    "    code=subscription_code\n",
    ")"
   ]
  }
 ],
 "metadata": {
  "celltoolbar": "Slideshow",
  "kernelspec": {
   "display_name": "Python 3 (ipykernel)",
   "language": "python",
   "name": "python3"
  },
  "language_info": {
   "codemirror_mode": {
    "name": "ipython",
    "version": 3
   },
   "file_extension": ".py",
   "mimetype": "text/x-python",
   "name": "python",
   "nbconvert_exporter": "python",
   "pygments_lexer": "ipython3",
   "version": "3.9.7"
  },
  "toc": {
   "base_numbering": 1,
   "nav_menu": {},
   "number_sections": false,
   "sideBar": true,
   "skip_h1_title": false,
   "title_cell": "Table of Contents",
   "title_sidebar": "Contents",
   "toc_cell": false,
   "toc_position": {},
   "toc_section_display": true,
   "toc_window_display": false
  },
  "varInspector": {
   "cols": {
    "lenName": 16,
    "lenType": 16,
    "lenVar": 40
   },
   "kernels_config": {
    "python": {
     "delete_cmd_postfix": "",
     "delete_cmd_prefix": "del ",
     "library": "var_list.py",
     "varRefreshCmd": "print(var_dic_list())"
    },
    "r": {
     "delete_cmd_postfix": ") ",
     "delete_cmd_prefix": "rm(",
     "library": "var_list.r",
     "varRefreshCmd": "cat(var_dic_list()) "
    }
   },
   "types_to_exclude": [
    "module",
    "function",
    "builtin_function_or_method",
    "instance",
    "_Feature"
   ],
   "window_display": false
  }
 },
 "nbformat": 4,
 "nbformat_minor": 5
}
