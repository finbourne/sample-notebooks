{
 "cells": [
  {
   "cell_type": "code",
   "execution_count": 1,
   "id": "62675678",
   "metadata": {
    "slideshow": {
     "slide_type": "skip"
    }
   },
   "outputs": [],
   "source": [
    "#Setup\n",
    "import pandas as pd\n",
    "import os\n",
    "\n",
    "pd.set_option(\"display.max_columns\", None)\n",
    "pd.set_option(\"display.max_rows\", None)\n",
    "pd.options.display.float_format = \"{:,.2f}\".format\n"
   ]
  },
  {
   "cell_type": "markdown",
   "id": "e32e01fe",
   "metadata": {
    "slideshow": {
     "slide_type": "slide"
    }
   },
   "source": [
    "<p style=\"font-family: Montserrat; color: #203443; font-weight: bold; font-size: 125%\">What are we going to cover?</p>"
   ]
  },
  {
   "cell_type": "markdown",
   "id": "7abac222",
   "metadata": {
    "slideshow": {
     "slide_type": "fragment"
    }
   },
   "source": [
    "<ul>\n",
    "    <li style=\"color: #ff5200\"><p style=\"font-family: Montserrat; color: #203443\">How can we upload and move a File in Drive using the Drive API via the LUSID website?</p></li>\n",
    "</ul>"
   ]
  },
  {
   "cell_type": "markdown",
   "id": "97504bfa",
   "metadata": {
    "slideshow": {
     "slide_type": "fragment"
    }
   },
   "source": [
    "<ul>\n",
    "    <li style=\"color: #ff5200\"><p style=\"font-family: Montserrat; color: #203443\">How can we create a File in Drive using the Drive API via the Python SDK?</p></li>\n",
    "</ul>"
   ]
  },
  {
   "cell_type": "markdown",
   "id": "df78ea17",
   "metadata": {
    "slideshow": {
     "slide_type": "subslide"
    }
   },
   "source": [
    "<ul>\n",
    "    <li style=\"color: #ff5200\"><p style=\"font-family: Montserrat; color: #203443\">How can we update the contents of a File in Drive using the Drive API via the Python SDK?</p></li>\n",
    "</ul>"
   ]
  },
  {
   "cell_type": "markdown",
   "id": "586e31a6",
   "metadata": {
    "slideshow": {
     "slide_type": "fragment"
    }
   },
   "source": [
    "<ul>\n",
    "    <li style=\"color: #ff5200\"><p style=\"font-family: Montserrat; color: #203443\">How can we update the metadata of a File in Drive using the Drive API via the Python SDK?</p></li>\n",
    "</ul>"
   ]
  },
  {
   "cell_type": "markdown",
   "id": "d93f433d",
   "metadata": {
    "slideshow": {
     "slide_type": "slide"
    }
   },
   "source": [
    "<p style=\"font-family: Montserrat; color: #203443; font-weight: bold; font-size: 125%\">Creating Files</p>"
   ]
  },
  {
   "cell_type": "code",
   "execution_count": 2,
   "id": "1e1775bd",
   "metadata": {
    "slideshow": {
     "slide_type": "fragment"
    }
   },
   "outputs": [],
   "source": [
    "import pprint\n",
    "\n",
    "import lusid_drive\n",
    "from lusidjam import RefreshingToken\n",
    "from lusid_drive.utilities import ApiClientFactory\n",
    "\n",
    "api_factory_notifications = ApiClientFactory(token=RefreshingToken())\n",
    "\n",
    "files_api = api_factory_notifications.build(lusid_drive.api.FilesApi)"
   ]
  },
  {
   "cell_type": "code",
   "execution_count": 3,
   "id": "167ddbc1",
   "metadata": {
    "slideshow": {
     "slide_type": "skip"
    }
   },
   "outputs": [],
   "source": [
    "# Ensure the files we create never exist before creation\n",
    "\n",
    "search_api = api_factory_notifications.build(lusid_drive.api.SearchApi)\n",
    "\n",
    "search_response = search_api.search(search_body=lusid_drive.SearchBody(\n",
    "    name=\"Readme.txt\"\n",
    "    )\n",
    ")\n",
    "\n",
    "for file in search_response.values:\n",
    "    files_api.delete_file(\n",
    "        id=file.id\n",
    "    )\n",
    "    \n",
    "search_response = search_api.search(search_body=lusid_drive.SearchBody(\n",
    "    name=\"ImportantReadme.txt\"\n",
    "    )\n",
    ")\n",
    "\n",
    "for file in search_response.values:\n",
    "    files_api.delete_file(\n",
    "        id=file.id\n",
    "    )"
   ]
  },
  {
   "cell_type": "code",
   "execution_count": 4,
   "id": "9b9d9ce4",
   "metadata": {
    "slideshow": {
     "slide_type": "subslide"
    }
   },
   "outputs": [
    {
     "name": "stdout",
     "output_type": "stream",
     "text": [
      "I have lots of cool information here\n"
     ]
    }
   ],
   "source": [
    "with open(\"./data/Readme.txt\", 'r') as file:\n",
    "    readme_file = file.read()\n",
    "\n",
    "print(readme_file)"
   ]
  },
  {
   "cell_type": "code",
   "execution_count": 5,
   "id": "678f7d15",
   "metadata": {
    "slideshow": {
     "slide_type": "subslide"
    }
   },
   "outputs": [
    {
     "name": "stdout",
     "output_type": "stream",
     "text": [
      "b'I have lots of cool information here'\n",
      "Content Length: 36 bytes\n"
     ]
    }
   ],
   "source": [
    "readme_file_encoded = readme_file.encode('utf-8')\n",
    "\n",
    "print(readme_file_encoded)\n",
    "print(f\"Content Length: {len(readme_file_encoded)} bytes\")"
   ]
  },
  {
   "cell_type": "code",
   "execution_count": 6,
   "id": "c9c0c9c8",
   "metadata": {
    "slideshow": {
     "slide_type": "subslide"
    }
   },
   "outputs": [
    {
     "name": "stdout",
     "output_type": "stream",
     "text": [
      "{'created_by': '00u89xerfkS08fj6e2p7',\n",
      " 'created_on': datetime.datetime(2023, 2, 23, 5, 45, 6, 700703, tzinfo=tzlocal()),\n",
      " 'id': 'a0ec249d-6bfb-4ada-a269-f8937354ac0a',\n",
      " 'links': [{'description': 'Download this file',\n",
      "            'href': 'https://demo.lusid.com/drive/api/files/a0ec249d-6bfb-4ada-a269-f8937354ac0a/contents',\n",
      "            'method': 'GET',\n",
      "            'relation': 'Downloads'},\n",
      "           {'description': 'The folder in which this file resides',\n",
      "            'href': 'https://demo.lusid.com/drive/api/folders/95642015-e3c3-45a7-b3d4-dc6f5599beb5/folders',\n",
      "            'method': 'GET',\n",
      "            'relation': 'Folder'},\n",
      "           {'description': 'A link to the LUSID Insights website showing all '\n",
      "                           'logs related to this request',\n",
      "            'href': 'http://demo.lusid.com/app/insights/logs/0HMOKSSVBR2N6:00000015',\n",
      "            'method': 'GET',\n",
      "            'relation': 'RequestLogs'}],\n",
      " 'name': 'Readme.txt',\n",
      " 'path': '/FinbourneUniversity',\n",
      " 'size': 36,\n",
      " 'status': 'Checking',\n",
      " 'status_detail': None,\n",
      " 'type': 'File',\n",
      " 'updated_by': '00u89xerfkS08fj6e2p7',\n",
      " 'updated_on': datetime.datetime(2023, 2, 23, 5, 45, 6, 700703, tzinfo=tzlocal())}\n"
     ]
    }
   ],
   "source": [
    "create_response = files_api.create_file(\n",
    "    x_lusid_drive_filename=\"Readme.txt\",\n",
    "    x_lusid_drive_path=\"FinbourneUniversity\",\n",
    "    content_length=len(readme_file_encoded),\n",
    "    body=readme_file_encoded\n",
    ")\n",
    "\n",
    "pprint.pprint(create_response)"
   ]
  },
  {
   "cell_type": "markdown",
   "id": "a990de85",
   "metadata": {
    "slideshow": {
     "slide_type": "slide"
    }
   },
   "source": [
    "<p style=\"font-family: Montserrat; color: #203443; font-weight: bold; font-size: 125%\">Updating File Contents</p>"
   ]
  },
  {
   "cell_type": "code",
   "execution_count": 7,
   "id": "2913f284",
   "metadata": {
    "slideshow": {
     "slide_type": "subslide"
    }
   },
   "outputs": [
    {
     "name": "stdout",
     "output_type": "stream",
     "text": [
      "b\"I have lots of cool information here\\n\\nAlso it's important to understand the context of the application.\"\n",
      "Content Length: 103 bytes\n"
     ]
    }
   ],
   "source": [
    "with open(\"./data/ReadmeV2.txt\", 'r') as file:\n",
    "    readme_file_v2 = file.read()\n",
    "\n",
    "readme_file_v2_encoded = readme_file_v2.encode('utf-8')\n",
    "\n",
    "print(readme_file_v2_encoded)\n",
    "print(f\"Content Length: {len(readme_file_v2_encoded)} bytes\")"
   ]
  },
  {
   "cell_type": "code",
   "execution_count": 8,
   "id": "203f104c",
   "metadata": {
    "slideshow": {
     "slide_type": "subslide"
    }
   },
   "outputs": [
    {
     "data": {
      "text/plain": [
       "{'created_by': '00u89xerfkS08fj6e2p7',\n",
       " 'created_on': datetime.datetime(2023, 2, 23, 5, 45, 6, 822322, tzinfo=tzlocal()),\n",
       " 'id': 'a0ec249d-6bfb-4ada-a269-f8937354ac0a',\n",
       " 'links': [{'description': 'Download this file',\n",
       "            'href': 'https://demo.lusid.com/drive/api/files/a0ec249d-6bfb-4ada-a269-f8937354ac0a/contents',\n",
       "            'method': 'GET',\n",
       "            'relation': 'Downloads'},\n",
       "           {'description': 'The folder in which this file resides',\n",
       "            'href': 'https://demo.lusid.com/drive/api/folders/95642015-e3c3-45a7-b3d4-dc6f5599beb5/folders',\n",
       "            'method': 'GET',\n",
       "            'relation': 'Folder'},\n",
       "           {'description': 'A link to the LUSID Insights website showing all '\n",
       "                           'logs related to this request',\n",
       "            'href': 'http://demo.lusid.com/app/insights/logs/0HMOKSSBM6JCA:00000016',\n",
       "            'method': 'GET',\n",
       "            'relation': 'RequestLogs'}],\n",
       " 'name': 'Readme.txt',\n",
       " 'path': '/FinbourneUniversity',\n",
       " 'size': 103,\n",
       " 'status': 'Checking',\n",
       " 'status_detail': None,\n",
       " 'type': 'File',\n",
       " 'updated_by': '00u89xerfkS08fj6e2p7',\n",
       " 'updated_on': datetime.datetime(2023, 2, 23, 5, 45, 6, 851229, tzinfo=tzlocal())}"
      ]
     },
     "execution_count": 8,
     "metadata": {},
     "output_type": "execute_result"
    }
   ],
   "source": [
    "files_api.update_file_contents(\n",
    "    id=create_response.id,\n",
    "    content_length=len(readme_file_v2_encoded),\n",
    "    body=readme_file_v2_encoded\n",
    ")"
   ]
  },
  {
   "cell_type": "markdown",
   "id": "71df8b96",
   "metadata": {
    "slideshow": {
     "slide_type": "slide"
    }
   },
   "source": [
    "<p style=\"font-family: Montserrat; color: #203443; font-weight: bold; font-size: 125%\">Updating File Metadata</p>"
   ]
  },
  {
   "cell_type": "code",
   "execution_count": 9,
   "id": "fd526610",
   "metadata": {
    "slideshow": {
     "slide_type": "subslide"
    }
   },
   "outputs": [
    {
     "data": {
      "text/plain": [
       "{'created_by': '00u89xerfkS08fj6e2p7',\n",
       " 'created_on': datetime.datetime(2023, 2, 23, 5, 45, 6, 822322, tzinfo=tzlocal()),\n",
       " 'id': 'a0ec249d-6bfb-4ada-a269-f8937354ac0a',\n",
       " 'links': [{'description': 'Download this file',\n",
       "            'href': 'https://demo.lusid.com/drive/api/files/a0ec249d-6bfb-4ada-a269-f8937354ac0a/contents',\n",
       "            'method': 'GET',\n",
       "            'relation': 'Downloads'},\n",
       "           {'description': 'The folder in which this file resides',\n",
       "            'href': 'https://demo.lusid.com/drive/api/folders/95642015-e3c3-45a7-b3d4-dc6f5599beb5/folders',\n",
       "            'method': 'GET',\n",
       "            'relation': 'Folder'},\n",
       "           {'description': 'A link to the LUSID Insights website showing all '\n",
       "                           'logs related to this request',\n",
       "            'href': 'http://demo.lusid.com/app/insights/logs/0HMOKSRFQ9QDA:00000016',\n",
       "            'method': 'GET',\n",
       "            'relation': 'RequestLogs'}],\n",
       " 'name': 'ImportantReadme.txt',\n",
       " 'path': '/FinbourneUniversity',\n",
       " 'size': 103,\n",
       " 'status': 'Checking',\n",
       " 'status_detail': None,\n",
       " 'type': 'File',\n",
       " 'updated_by': '00u89xerfkS08fj6e2p7',\n",
       " 'updated_on': datetime.datetime(2023, 2, 23, 5, 45, 6, 967512, tzinfo=tzlocal())}"
      ]
     },
     "execution_count": 9,
     "metadata": {},
     "output_type": "execute_result"
    }
   ],
   "source": [
    "files_api.update_file_metadata(\n",
    "    id=create_response.id,\n",
    "    update_file=lusid_drive.UpdateFile(\n",
    "        path=\"FinbourneUniversity\",\n",
    "        name=\"ImportantReadme.txt\"\n",
    "    )\n",
    ")"
   ]
  },
  {
   "cell_type": "code",
   "execution_count": 10,
   "id": "2c710e57",
   "metadata": {
    "slideshow": {
     "slide_type": "skip"
    }
   },
   "outputs": [],
   "source": [
    "files_api.delete_file(\n",
    "    id=create_response.id)"
   ]
  },
  {
   "cell_type": "markdown",
   "id": "3a30b680",
   "metadata": {
    "slideshow": {
     "slide_type": "slide"
    }
   },
   "source": [
    "<p style=\"font-family: Montserrat; color: #203443; font-weight: bold; font-size: 125%\">What have we covered?</p>"
   ]
  },
  {
   "cell_type": "markdown",
   "id": "be8a7963",
   "metadata": {
    "slideshow": {
     "slide_type": "fragment"
    }
   },
   "source": [
    "<ul>\n",
    "    <li style=\"color: #ff5200\"><p style=\"font-family: Montserrat; color: #203443\">We uploaded and moved a File in Drive using the Drive API via the LUSID website.</p></li>\n",
    "</ul>"
   ]
  },
  {
   "cell_type": "markdown",
   "id": "76290621",
   "metadata": {
    "slideshow": {
     "slide_type": "fragment"
    }
   },
   "source": [
    "<ul>\n",
    "    <li style=\"color: #ff5200\"><p style=\"font-family: Montserrat; color: #203443\">We created a File in Drive using the Drive API via the Python SDK.</p></li>\n",
    "</ul>"
   ]
  },
  {
   "cell_type": "markdown",
   "id": "fbd46722",
   "metadata": {
    "slideshow": {
     "slide_type": "subslide"
    }
   },
   "source": [
    "<ul>\n",
    "    <li style=\"color: #ff5200\"><p style=\"font-family: Montserrat; color: #203443\">We updated a File's contents using the Drive API via the Python SDK.</p></li>\n",
    "</ul>"
   ]
  },
  {
   "cell_type": "markdown",
   "id": "bb8c60db",
   "metadata": {
    "slideshow": {
     "slide_type": "fragment"
    }
   },
   "source": [
    "<ul>\n",
    "    <li style=\"color: #ff5200\"><p style=\"font-family: Montserrat; color: #203443\">We updated a File's metadata, in particular its name using the Drive API via the Python SDK.</p></li>\n",
    "</ul>"
   ]
  }
 ],
 "metadata": {
  "celltoolbar": "Slideshow",
  "kernelspec": {
   "display_name": "Python 3 (ipykernel)",
   "language": "python",
   "name": "python3"
  },
  "language_info": {
   "codemirror_mode": {
    "name": "ipython",
    "version": 3
   },
   "file_extension": ".py",
   "mimetype": "text/x-python",
   "name": "python",
   "nbconvert_exporter": "python",
   "pygments_lexer": "ipython3",
   "version": "3.9.7"
  },
  "toc": {
   "base_numbering": 1,
   "nav_menu": {},
   "number_sections": false,
   "sideBar": true,
   "skip_h1_title": false,
   "title_cell": "Table of Contents",
   "title_sidebar": "Contents",
   "toc_cell": false,
   "toc_position": {},
   "toc_section_display": true,
   "toc_window_display": false
  },
  "varInspector": {
   "cols": {
    "lenName": 16,
    "lenType": 16,
    "lenVar": 40
   },
   "kernels_config": {
    "python": {
     "delete_cmd_postfix": "",
     "delete_cmd_prefix": "del ",
     "library": "var_list.py",
     "varRefreshCmd": "print(var_dic_list())"
    },
    "r": {
     "delete_cmd_postfix": ") ",
     "delete_cmd_prefix": "rm(",
     "library": "var_list.r",
     "varRefreshCmd": "cat(var_dic_list()) "
    }
   },
   "types_to_exclude": [
    "module",
    "function",
    "builtin_function_or_method",
    "instance",
    "_Feature"
   ],
   "window_display": false
  }
 },
 "nbformat": 4,
 "nbformat_minor": 5
}
