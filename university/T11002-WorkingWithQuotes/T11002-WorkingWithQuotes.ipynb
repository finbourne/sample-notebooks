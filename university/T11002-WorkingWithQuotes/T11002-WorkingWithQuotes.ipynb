{
 "cells": [
  {
   "cell_type": "code",
   "execution_count": 1,
   "id": "62675678",
   "metadata": {},
   "outputs": [],
   "source": [
    "#Setup\n",
    "import pandas as pd\n",
    "import os\n",
    "\n",
    "pd.set_option(\"display.max_columns\", None)\n",
    "pd.set_option(\"display.max_rows\", None)\n",
    "pd.options.display.float_format = \"{:,.2f}\".format"
   ]
  },
  {
   "cell_type": "markdown",
   "id": "e32e01fe",
   "metadata": {
    "slideshow": {
     "slide_type": "slide"
    }
   },
   "source": [
    "<p style=\"font-family: Montserrat; color: #203443; font-weight: bold; font-size: 125%\">What are we going to cover?</p>"
   ]
  },
  {
   "cell_type": "markdown",
   "id": "3803d55a",
   "metadata": {
    "slideshow": {
     "slide_type": "fragment"
    }
   },
   "source": [
    "<ul>\n",
    "    <li style=\"color: #ff5200\"><p style=\"font-family: Montserrat; color: #203443\">How do we create or update Quotes using the LUSID API via the Python SDK?</p></li>\n",
    "</ul>"
   ]
  },
  {
   "cell_type": "markdown",
   "id": "d24a5fb1",
   "metadata": {
    "slideshow": {
     "slide_type": "fragment"
    }
   },
   "source": [
    "<ul>\n",
    "    <li style=\"color: #ff5200\"><p style=\"font-family: Montserrat; color: #203443\">How do we list Quotes using the LUSID API via the Python SDK?</p></li>\n",
    "</ul>"
   ]
  },
  {
   "cell_type": "markdown",
   "id": "61c354ad",
   "metadata": {
    "slideshow": {
     "slide_type": "subslide"
    }
   },
   "source": [
    "<ul>\n",
    "    <li style=\"color: #ff5200\"><p style=\"font-family: Montserrat; color: #203443\">How do we resolve Quotes using the LUSID API via the Python SDK?</p></li>\n",
    "</ul>"
   ]
  },
  {
   "cell_type": "markdown",
   "id": "d03f3c25",
   "metadata": {
    "slideshow": {
     "slide_type": "fragment"
    }
   },
   "source": [
    "<ul>\n",
    "    <li style=\"color: #ff5200\"><p style=\"font-family: Montserrat; color: #203443\">How do we delete Quotes using the LUSID API via the Python SDK?</p></li>\n",
    "</ul>"
   ]
  },
  {
   "cell_type": "markdown",
   "id": "70edf40a",
   "metadata": {
    "slideshow": {
     "slide_type": "slide"
    }
   },
   "source": [
    "<p style=\"font-family: Montserrat; color: #203443; font-weight: bold; font-size: 125%\">Creating or Updating Quotes</p>"
   ]
  },
  {
   "cell_type": "code",
   "execution_count": 2,
   "id": "1e1775bd",
   "metadata": {
    "slideshow": {
     "slide_type": "fragment"
    }
   },
   "outputs": [],
   "source": [
    "import pprint\n",
    "\n",
    "import lusid\n",
    "from lusidjam import RefreshingToken\n",
    "import fbnsdkutilities.utilities as utils\n",
    "from lusidtools.pandas_utils.lusid_pandas import lusid_response_to_data_frame\n",
    "\n",
    "api_factory_lusid = utils.ApiClientFactory(lusid, token=RefreshingToken())\n",
    "quotes_api = api_factory_lusid.build(lusid.api.QuotesApi)\n"
   ]
  },
  {
   "cell_type": "code",
   "execution_count": 3,
   "id": "acd6ff30",
   "metadata": {
    "code_folding": [],
    "slideshow": {
     "slide_type": "subslide"
    }
   },
   "outputs": [
    {
     "name": "stdout",
     "output_type": "stream",
     "text": [
      "{'failed': {'request_3': {'detail': 'One or more problems occurred. Failures: '\n",
      "                                    'QuoteId.EffectiveAt: Date '\n",
      "                                    '2023-02-8T00:00:00Z must be formatted as '\n",
      "                                    'an ISO date, eg '\n",
      "                                    \"'yyyy-MM-ddTHH:mm:ss.FFFFFFFK'\",\n",
      "                          'error_details': None,\n",
      "                          'id': 'request_3',\n",
      "                          'type': 'QuoteFailure'}},\n",
      " 'href': None,\n",
      " 'links': [{'description': 'A link to the LUSID Insights website showing all '\n",
      "                           'logs related to this request',\n",
      "            'href': 'http://demo.lusid.com/app/insights/logs/0HMOJ96875FUJ:00000002',\n",
      "            'method': 'GET',\n",
      "            'relation': 'RequestLogs'}],\n",
      " 'values': {'request_1': {'as_at': datetime.datetime(2023, 2, 21, 3, 34, 34, 413953, tzinfo=tzlocal()),\n",
      "                          'cut_label': '',\n",
      "                          'lineage': 'DemoExample',\n",
      "                          'metric_value': {'unit': 'USD', 'value': 256.77},\n",
      "                          'quote_id': {'effective_at': '2023-02-06T00:00:00.0000000+00:00',\n",
      "                                       'quote_series_id': {'field': 'bid',\n",
      "                                                           'instrument_id': 'US5949181045',\n",
      "                                                           'instrument_id_type': 'Isin',\n",
      "                                                           'price_source': 'Manual',\n",
      "                                                           'provider': 'Lusid',\n",
      "                                                           'quote_type': 'Price'}},\n",
      "                          'scale_factor': None,\n",
      "                          'uploaded_by': '00u89xerfkS08fj6e2p7'},\n",
      "            'request_2': {'as_at': datetime.datetime(2023, 2, 21, 3, 34, 34, 413953, tzinfo=tzlocal()),\n",
      "                          'cut_label': '',\n",
      "                          'lineage': 'DemoExample',\n",
      "                          'metric_value': {'unit': 'USD', 'value': 267.56},\n",
      "                          'quote_id': {'effective_at': '2023-02-07T00:00:00.0000000+00:00',\n",
      "                                       'quote_series_id': {'field': 'bid',\n",
      "                                                           'instrument_id': 'US5949181045',\n",
      "                                                           'instrument_id_type': 'Isin',\n",
      "                                                           'price_source': 'Manual',\n",
      "                                                           'provider': 'Lusid',\n",
      "                                                           'quote_type': 'Price'}},\n",
      "                          'scale_factor': None,\n",
      "                          'uploaded_by': '00u89xerfkS08fj6e2p7'}}}\n"
     ]
    }
   ],
   "source": [
    "response = quotes_api.upsert_quotes(\n",
    "    scope=\"FinbourneUniversity\",\n",
    "    request_body={\n",
    "        \"request_1\": lusid.UpsertQuoteRequest(\n",
    "            quote_id=lusid.QuoteId(\n",
    "                quote_series_id=lusid.QuoteSeriesId(\n",
    "                    provider=\"Lusid\",\n",
    "                    price_source=\"Manual\",\n",
    "                    instrument_id=\"US5949181045\",\n",
    "                    instrument_id_type=\"Isin\",\n",
    "                    quote_type=\"Price\",\n",
    "                    field=\"bid\"\n",
    "                ),\n",
    "                effective_at=\"2023-02-06T00:00:00Z\"\n",
    "            ),\n",
    "            metric_value=lusid.MetricValue(\n",
    "                value=256.77,\n",
    "                unit=\"USD\"\n",
    "            ),\n",
    "            lineage=\"DemoExample\",\n",
    "        ),\n",
    "        \"request_2\": lusid.UpsertQuoteRequest(\n",
    "            quote_id=lusid.QuoteId(\n",
    "                quote_series_id=lusid.QuoteSeriesId(\n",
    "                    provider=\"Lusid\",\n",
    "                    price_source=\"Manual\",\n",
    "                    instrument_id=\"US5949181045\",\n",
    "                    instrument_id_type=\"Isin\",\n",
    "                    quote_type=\"Price\",\n",
    "                    field=\"bid\"\n",
    "                ),\n",
    "                effective_at=\"2023-02-07T00:00:00Z\"\n",
    "            ),\n",
    "            metric_value=lusid.MetricValue(\n",
    "                value=267.56,\n",
    "                unit=\"USD\"\n",
    "            ),\n",
    "            lineage=\"DemoExample\",\n",
    "        ),\n",
    "        \"request_3\": lusid.UpsertQuoteRequest(\n",
    "            quote_id=lusid.QuoteId(\n",
    "                quote_series_id=lusid.QuoteSeriesId(\n",
    "                    provider=\"Lusid\",\n",
    "                    price_source=\"Manual\",\n",
    "                    instrument_id=\"US5949181045\",\n",
    "                    instrument_id_type=\"Isin\",\n",
    "                    quote_type=\"Price\",\n",
    "                    field=\"bid\"\n",
    "                ),\n",
    "                effective_at=\"2023-02-8T00:00:00Z\"\n",
    "            ),\n",
    "            metric_value=lusid.MetricValue(\n",
    "                value=267.56,\n",
    "                unit=\"USD\"\n",
    "            ),\n",
    "            lineage=\"DemoExample\",\n",
    "        )\n",
    "    }\n",
    ")\n",
    "\n",
    "pprint.pprint(response)"
   ]
  },
  {
   "cell_type": "markdown",
   "id": "d93f433d",
   "metadata": {
    "slideshow": {
     "slide_type": "slide"
    }
   },
   "source": [
    "<p style=\"font-family: Montserrat; color: #203443; font-weight: bold; font-size: 125%\">Listing Quotes</p>"
   ]
  },
  {
   "cell_type": "code",
   "execution_count": 4,
   "id": "6f81c45a",
   "metadata": {
    "slideshow": {
     "slide_type": "subslide"
    }
   },
   "outputs": [
    {
     "data": {
      "text/html": [
       "<div>\n",
       "<style scoped>\n",
       "    .dataframe tbody tr th:only-of-type {\n",
       "        vertical-align: middle;\n",
       "    }\n",
       "\n",
       "    .dataframe tbody tr th {\n",
       "        vertical-align: top;\n",
       "    }\n",
       "\n",
       "    .dataframe thead th {\n",
       "        text-align: right;\n",
       "    }\n",
       "</style>\n",
       "<table border=\"1\" class=\"dataframe\">\n",
       "  <thead>\n",
       "    <tr style=\"text-align: right;\">\n",
       "      <th></th>\n",
       "      <th>quote_id.quote_series_id.provider</th>\n",
       "      <th>quote_id.quote_series_id.price_source</th>\n",
       "      <th>quote_id.quote_series_id.instrument_id</th>\n",
       "      <th>quote_id.quote_series_id.instrument_id_type</th>\n",
       "      <th>quote_id.quote_series_id.quote_type</th>\n",
       "      <th>quote_id.quote_series_id.field</th>\n",
       "      <th>quote_id.effective_at</th>\n",
       "      <th>metric_value.value</th>\n",
       "      <th>metric_value.unit</th>\n",
       "      <th>lineage</th>\n",
       "      <th>cut_label</th>\n",
       "      <th>uploaded_by</th>\n",
       "      <th>as_at</th>\n",
       "    </tr>\n",
       "  </thead>\n",
       "  <tbody>\n",
       "    <tr>\n",
       "      <th>0</th>\n",
       "      <td>Bloomberg</td>\n",
       "      <td>Manual</td>\n",
       "      <td>US5949181045</td>\n",
       "      <td>Isin</td>\n",
       "      <td>Price</td>\n",
       "      <td>bid</td>\n",
       "      <td>2023-02-08T00:00:00.0000000+00:00</td>\n",
       "      <td>25.00</td>\n",
       "      <td>USD</td>\n",
       "      <td></td>\n",
       "      <td></td>\n",
       "      <td>00u89xerfkS08fj6e2p7</td>\n",
       "      <td>2023-02-15 04:38:32.992900+00:00</td>\n",
       "    </tr>\n",
       "    <tr>\n",
       "      <th>1</th>\n",
       "      <td>Bloomberg</td>\n",
       "      <td>Manual</td>\n",
       "      <td>US5949181045</td>\n",
       "      <td>Isin</td>\n",
       "      <td>Price</td>\n",
       "      <td>bid</td>\n",
       "      <td>2023-02-01T00:00:00.0000000+00:00</td>\n",
       "      <td>15.00</td>\n",
       "      <td>USD</td>\n",
       "      <td></td>\n",
       "      <td></td>\n",
       "      <td>00u89xerfkS08fj6e2p7</td>\n",
       "      <td>2023-02-15 04:38:03.451607+00:00</td>\n",
       "    </tr>\n",
       "    <tr>\n",
       "      <th>2</th>\n",
       "      <td>DataScope</td>\n",
       "      <td>Tradeweb</td>\n",
       "      <td>US5949181045</td>\n",
       "      <td>Isin</td>\n",
       "      <td>Price</td>\n",
       "      <td>bid</td>\n",
       "      <td>2023-02-16T00:00:00.5840000+00:00</td>\n",
       "      <td>25.30</td>\n",
       "      <td>USD</td>\n",
       "      <td>SourcedFromTransactions</td>\n",
       "      <td></td>\n",
       "      <td>00u89xerfkS08fj6e2p7</td>\n",
       "      <td>2023-02-16 06:07:47.629855+00:00</td>\n",
       "    </tr>\n",
       "    <tr>\n",
       "      <th>3</th>\n",
       "      <td>DataScope</td>\n",
       "      <td>Manual</td>\n",
       "      <td>US5949181045</td>\n",
       "      <td>Isin</td>\n",
       "      <td>Price</td>\n",
       "      <td>bid</td>\n",
       "      <td>2023-02-17T00:00:00.5670000+00:00</td>\n",
       "      <td>27.50</td>\n",
       "      <td>USD</td>\n",
       "      <td>Manual</td>\n",
       "      <td></td>\n",
       "      <td>00u89xerfkS08fj6e2p7</td>\n",
       "      <td>2023-02-17 01:39:42.091203+00:00</td>\n",
       "    </tr>\n",
       "    <tr>\n",
       "      <th>4</th>\n",
       "      <td>Lusid</td>\n",
       "      <td>Manual</td>\n",
       "      <td>US5949181045</td>\n",
       "      <td>Isin</td>\n",
       "      <td>Price</td>\n",
       "      <td>bid</td>\n",
       "      <td>2023-02-07T00:00:00.0000000+00:00</td>\n",
       "      <td>267.56</td>\n",
       "      <td>USD</td>\n",
       "      <td>DemoExample</td>\n",
       "      <td></td>\n",
       "      <td>00u89xerfkS08fj6e2p7</td>\n",
       "      <td>2023-02-21 03:34:34.413953+00:00</td>\n",
       "    </tr>\n",
       "    <tr>\n",
       "      <th>5</th>\n",
       "      <td>Lusid</td>\n",
       "      <td>Manual</td>\n",
       "      <td>US5949181045</td>\n",
       "      <td>Isin</td>\n",
       "      <td>Price</td>\n",
       "      <td>bid</td>\n",
       "      <td>2023-02-06T00:00:00.0000000+00:00</td>\n",
       "      <td>256.77</td>\n",
       "      <td>USD</td>\n",
       "      <td>DemoExample</td>\n",
       "      <td></td>\n",
       "      <td>00u89xerfkS08fj6e2p7</td>\n",
       "      <td>2023-02-21 03:34:34.413953+00:00</td>\n",
       "    </tr>\n",
       "  </tbody>\n",
       "</table>\n",
       "</div>"
      ],
      "text/plain": [
       "  quote_id.quote_series_id.provider quote_id.quote_series_id.price_source  \\\n",
       "0                         Bloomberg                                Manual   \n",
       "1                         Bloomberg                                Manual   \n",
       "2                         DataScope                              Tradeweb   \n",
       "3                         DataScope                                Manual   \n",
       "4                             Lusid                                Manual   \n",
       "5                             Lusid                                Manual   \n",
       "\n",
       "  quote_id.quote_series_id.instrument_id  \\\n",
       "0                           US5949181045   \n",
       "1                           US5949181045   \n",
       "2                           US5949181045   \n",
       "3                           US5949181045   \n",
       "4                           US5949181045   \n",
       "5                           US5949181045   \n",
       "\n",
       "  quote_id.quote_series_id.instrument_id_type  \\\n",
       "0                                        Isin   \n",
       "1                                        Isin   \n",
       "2                                        Isin   \n",
       "3                                        Isin   \n",
       "4                                        Isin   \n",
       "5                                        Isin   \n",
       "\n",
       "  quote_id.quote_series_id.quote_type quote_id.quote_series_id.field  \\\n",
       "0                               Price                            bid   \n",
       "1                               Price                            bid   \n",
       "2                               Price                            bid   \n",
       "3                               Price                            bid   \n",
       "4                               Price                            bid   \n",
       "5                               Price                            bid   \n",
       "\n",
       "               quote_id.effective_at  metric_value.value metric_value.unit  \\\n",
       "0  2023-02-08T00:00:00.0000000+00:00               25.00               USD   \n",
       "1  2023-02-01T00:00:00.0000000+00:00               15.00               USD   \n",
       "2  2023-02-16T00:00:00.5840000+00:00               25.30               USD   \n",
       "3  2023-02-17T00:00:00.5670000+00:00               27.50               USD   \n",
       "4  2023-02-07T00:00:00.0000000+00:00              267.56               USD   \n",
       "5  2023-02-06T00:00:00.0000000+00:00              256.77               USD   \n",
       "\n",
       "                   lineage cut_label           uploaded_by  \\\n",
       "0                                     00u89xerfkS08fj6e2p7   \n",
       "1                                     00u89xerfkS08fj6e2p7   \n",
       "2  SourcedFromTransactions            00u89xerfkS08fj6e2p7   \n",
       "3                   Manual            00u89xerfkS08fj6e2p7   \n",
       "4              DemoExample            00u89xerfkS08fj6e2p7   \n",
       "5              DemoExample            00u89xerfkS08fj6e2p7   \n",
       "\n",
       "                             as_at  \n",
       "0 2023-02-15 04:38:32.992900+00:00  \n",
       "1 2023-02-15 04:38:03.451607+00:00  \n",
       "2 2023-02-16 06:07:47.629855+00:00  \n",
       "3 2023-02-17 01:39:42.091203+00:00  \n",
       "4 2023-02-21 03:34:34.413953+00:00  \n",
       "5 2023-02-21 03:34:34.413953+00:00  "
      ]
     },
     "execution_count": 4,
     "metadata": {},
     "output_type": "execute_result"
    }
   ],
   "source": [
    "response = quotes_api.list_quotes_for_scope(\n",
    "    scope=\"FinbourneUniversity\"\n",
    ")\n",
    "\n",
    "lusid_response_to_data_frame(response)\n"
   ]
  },
  {
   "cell_type": "code",
   "execution_count": 5,
   "id": "586006c4",
   "metadata": {
    "slideshow": {
     "slide_type": "subslide"
    }
   },
   "outputs": [
    {
     "data": {
      "text/html": [
       "<div>\n",
       "<style scoped>\n",
       "    .dataframe tbody tr th:only-of-type {\n",
       "        vertical-align: middle;\n",
       "    }\n",
       "\n",
       "    .dataframe tbody tr th {\n",
       "        vertical-align: top;\n",
       "    }\n",
       "\n",
       "    .dataframe thead th {\n",
       "        text-align: right;\n",
       "    }\n",
       "</style>\n",
       "<table border=\"1\" class=\"dataframe\">\n",
       "  <thead>\n",
       "    <tr style=\"text-align: right;\">\n",
       "      <th></th>\n",
       "      <th>quote_id.quote_series_id.provider</th>\n",
       "      <th>quote_id.quote_series_id.price_source</th>\n",
       "      <th>quote_id.quote_series_id.instrument_id</th>\n",
       "      <th>quote_id.quote_series_id.instrument_id_type</th>\n",
       "      <th>quote_id.quote_series_id.quote_type</th>\n",
       "      <th>quote_id.quote_series_id.field</th>\n",
       "      <th>quote_id.effective_at</th>\n",
       "      <th>metric_value.value</th>\n",
       "      <th>metric_value.unit</th>\n",
       "      <th>lineage</th>\n",
       "      <th>cut_label</th>\n",
       "      <th>uploaded_by</th>\n",
       "      <th>as_at</th>\n",
       "    </tr>\n",
       "  </thead>\n",
       "  <tbody>\n",
       "    <tr>\n",
       "      <th>0</th>\n",
       "      <td>Bloomberg</td>\n",
       "      <td>Manual</td>\n",
       "      <td>US5949181045</td>\n",
       "      <td>Isin</td>\n",
       "      <td>Price</td>\n",
       "      <td>bid</td>\n",
       "      <td>2023-02-08T00:00:00.0000000+00:00</td>\n",
       "      <td>25.00</td>\n",
       "      <td>USD</td>\n",
       "      <td></td>\n",
       "      <td></td>\n",
       "      <td>00u89xerfkS08fj6e2p7</td>\n",
       "      <td>2023-02-15 04:38:32.992900+00:00</td>\n",
       "    </tr>\n",
       "    <tr>\n",
       "      <th>1</th>\n",
       "      <td>Bloomberg</td>\n",
       "      <td>Manual</td>\n",
       "      <td>US5949181045</td>\n",
       "      <td>Isin</td>\n",
       "      <td>Price</td>\n",
       "      <td>bid</td>\n",
       "      <td>2023-02-01T00:00:00.0000000+00:00</td>\n",
       "      <td>15.00</td>\n",
       "      <td>USD</td>\n",
       "      <td></td>\n",
       "      <td></td>\n",
       "      <td>00u89xerfkS08fj6e2p7</td>\n",
       "      <td>2023-02-15 04:38:03.451607+00:00</td>\n",
       "    </tr>\n",
       "    <tr>\n",
       "      <th>2</th>\n",
       "      <td>DataScope</td>\n",
       "      <td>Manual</td>\n",
       "      <td>US5949181045</td>\n",
       "      <td>Isin</td>\n",
       "      <td>Price</td>\n",
       "      <td>bid</td>\n",
       "      <td>2023-02-17T00:00:00.5670000+00:00</td>\n",
       "      <td>27.50</td>\n",
       "      <td>USD</td>\n",
       "      <td>Manual</td>\n",
       "      <td></td>\n",
       "      <td>00u89xerfkS08fj6e2p7</td>\n",
       "      <td>2023-02-17 01:39:42.091203+00:00</td>\n",
       "    </tr>\n",
       "    <tr>\n",
       "      <th>3</th>\n",
       "      <td>Lusid</td>\n",
       "      <td>Manual</td>\n",
       "      <td>US5949181045</td>\n",
       "      <td>Isin</td>\n",
       "      <td>Price</td>\n",
       "      <td>bid</td>\n",
       "      <td>2023-02-07T00:00:00.0000000+00:00</td>\n",
       "      <td>267.56</td>\n",
       "      <td>USD</td>\n",
       "      <td>DemoExample</td>\n",
       "      <td></td>\n",
       "      <td>00u89xerfkS08fj6e2p7</td>\n",
       "      <td>2023-02-21 03:34:34.413953+00:00</td>\n",
       "    </tr>\n",
       "    <tr>\n",
       "      <th>4</th>\n",
       "      <td>Lusid</td>\n",
       "      <td>Manual</td>\n",
       "      <td>US5949181045</td>\n",
       "      <td>Isin</td>\n",
       "      <td>Price</td>\n",
       "      <td>bid</td>\n",
       "      <td>2023-02-06T00:00:00.0000000+00:00</td>\n",
       "      <td>256.77</td>\n",
       "      <td>USD</td>\n",
       "      <td>DemoExample</td>\n",
       "      <td></td>\n",
       "      <td>00u89xerfkS08fj6e2p7</td>\n",
       "      <td>2023-02-21 03:34:34.413953+00:00</td>\n",
       "    </tr>\n",
       "  </tbody>\n",
       "</table>\n",
       "</div>"
      ],
      "text/plain": [
       "  quote_id.quote_series_id.provider quote_id.quote_series_id.price_source  \\\n",
       "0                         Bloomberg                                Manual   \n",
       "1                         Bloomberg                                Manual   \n",
       "2                         DataScope                                Manual   \n",
       "3                             Lusid                                Manual   \n",
       "4                             Lusid                                Manual   \n",
       "\n",
       "  quote_id.quote_series_id.instrument_id  \\\n",
       "0                           US5949181045   \n",
       "1                           US5949181045   \n",
       "2                           US5949181045   \n",
       "3                           US5949181045   \n",
       "4                           US5949181045   \n",
       "\n",
       "  quote_id.quote_series_id.instrument_id_type  \\\n",
       "0                                        Isin   \n",
       "1                                        Isin   \n",
       "2                                        Isin   \n",
       "3                                        Isin   \n",
       "4                                        Isin   \n",
       "\n",
       "  quote_id.quote_series_id.quote_type quote_id.quote_series_id.field  \\\n",
       "0                               Price                            bid   \n",
       "1                               Price                            bid   \n",
       "2                               Price                            bid   \n",
       "3                               Price                            bid   \n",
       "4                               Price                            bid   \n",
       "\n",
       "               quote_id.effective_at  metric_value.value metric_value.unit  \\\n",
       "0  2023-02-08T00:00:00.0000000+00:00               25.00               USD   \n",
       "1  2023-02-01T00:00:00.0000000+00:00               15.00               USD   \n",
       "2  2023-02-17T00:00:00.5670000+00:00               27.50               USD   \n",
       "3  2023-02-07T00:00:00.0000000+00:00              267.56               USD   \n",
       "4  2023-02-06T00:00:00.0000000+00:00              256.77               USD   \n",
       "\n",
       "       lineage cut_label           uploaded_by  \\\n",
       "0                         00u89xerfkS08fj6e2p7   \n",
       "1                         00u89xerfkS08fj6e2p7   \n",
       "2       Manual            00u89xerfkS08fj6e2p7   \n",
       "3  DemoExample            00u89xerfkS08fj6e2p7   \n",
       "4  DemoExample            00u89xerfkS08fj6e2p7   \n",
       "\n",
       "                             as_at  \n",
       "0 2023-02-15 04:38:32.992900+00:00  \n",
       "1 2023-02-15 04:38:03.451607+00:00  \n",
       "2 2023-02-17 01:39:42.091203+00:00  \n",
       "3 2023-02-21 03:34:34.413953+00:00  \n",
       "4 2023-02-21 03:34:34.413953+00:00  "
      ]
     },
     "execution_count": 5,
     "metadata": {},
     "output_type": "execute_result"
    }
   ],
   "source": [
    "response = quotes_api.list_quotes_for_scope(\n",
    "    scope=\"FinbourneUniversity\",\n",
    "    filter=\"quoteId.quoteSeriesId.priceSource eq 'Manual'\"\n",
    ")\n",
    "\n",
    "lusid_response_to_data_frame(response)\n"
   ]
  },
  {
   "cell_type": "code",
   "execution_count": 6,
   "id": "ba59e91c",
   "metadata": {
    "slideshow": {
     "slide_type": "subslide"
    }
   },
   "outputs": [
    {
     "data": {
      "text/html": [
       "<div>\n",
       "<style scoped>\n",
       "    .dataframe tbody tr th:only-of-type {\n",
       "        vertical-align: middle;\n",
       "    }\n",
       "\n",
       "    .dataframe tbody tr th {\n",
       "        vertical-align: top;\n",
       "    }\n",
       "\n",
       "    .dataframe thead th {\n",
       "        text-align: right;\n",
       "    }\n",
       "</style>\n",
       "<table border=\"1\" class=\"dataframe\">\n",
       "  <thead>\n",
       "    <tr style=\"text-align: right;\">\n",
       "      <th></th>\n",
       "      <th>quote_id.quote_series_id.provider</th>\n",
       "      <th>quote_id.quote_series_id.price_source</th>\n",
       "      <th>quote_id.quote_series_id.instrument_id</th>\n",
       "      <th>quote_id.quote_series_id.instrument_id_type</th>\n",
       "      <th>quote_id.quote_series_id.quote_type</th>\n",
       "      <th>quote_id.quote_series_id.field</th>\n",
       "      <th>quote_id.effective_at</th>\n",
       "      <th>metric_value.value</th>\n",
       "      <th>metric_value.unit</th>\n",
       "      <th>lineage</th>\n",
       "      <th>cut_label</th>\n",
       "      <th>uploaded_by</th>\n",
       "      <th>as_at</th>\n",
       "    </tr>\n",
       "  </thead>\n",
       "  <tbody>\n",
       "    <tr>\n",
       "      <th>0</th>\n",
       "      <td>Lusid</td>\n",
       "      <td>Manual</td>\n",
       "      <td>US5949181045</td>\n",
       "      <td>Isin</td>\n",
       "      <td>Price</td>\n",
       "      <td>bid</td>\n",
       "      <td>2023-02-07T00:00:00.0000000+00:00</td>\n",
       "      <td>267.56</td>\n",
       "      <td>USD</td>\n",
       "      <td>DemoExample</td>\n",
       "      <td></td>\n",
       "      <td>00u89xerfkS08fj6e2p7</td>\n",
       "      <td>2023-02-21 03:34:34.413953+00:00</td>\n",
       "    </tr>\n",
       "    <tr>\n",
       "      <th>1</th>\n",
       "      <td>Lusid</td>\n",
       "      <td>Manual</td>\n",
       "      <td>US5949181045</td>\n",
       "      <td>Isin</td>\n",
       "      <td>Price</td>\n",
       "      <td>bid</td>\n",
       "      <td>2023-02-06T00:00:00.0000000+00:00</td>\n",
       "      <td>256.77</td>\n",
       "      <td>USD</td>\n",
       "      <td>DemoExample</td>\n",
       "      <td></td>\n",
       "      <td>00u89xerfkS08fj6e2p7</td>\n",
       "      <td>2023-02-21 03:34:34.413953+00:00</td>\n",
       "    </tr>\n",
       "  </tbody>\n",
       "</table>\n",
       "</div>"
      ],
      "text/plain": [
       "  quote_id.quote_series_id.provider quote_id.quote_series_id.price_source  \\\n",
       "0                             Lusid                                Manual   \n",
       "1                             Lusid                                Manual   \n",
       "\n",
       "  quote_id.quote_series_id.instrument_id  \\\n",
       "0                           US5949181045   \n",
       "1                           US5949181045   \n",
       "\n",
       "  quote_id.quote_series_id.instrument_id_type  \\\n",
       "0                                        Isin   \n",
       "1                                        Isin   \n",
       "\n",
       "  quote_id.quote_series_id.quote_type quote_id.quote_series_id.field  \\\n",
       "0                               Price                            bid   \n",
       "1                               Price                            bid   \n",
       "\n",
       "               quote_id.effective_at  metric_value.value metric_value.unit  \\\n",
       "0  2023-02-07T00:00:00.0000000+00:00              267.56               USD   \n",
       "1  2023-02-06T00:00:00.0000000+00:00              256.77               USD   \n",
       "\n",
       "       lineage cut_label           uploaded_by  \\\n",
       "0  DemoExample            00u89xerfkS08fj6e2p7   \n",
       "1  DemoExample            00u89xerfkS08fj6e2p7   \n",
       "\n",
       "                             as_at  \n",
       "0 2023-02-21 03:34:34.413953+00:00  \n",
       "1 2023-02-21 03:34:34.413953+00:00  "
      ]
     },
     "execution_count": 6,
     "metadata": {},
     "output_type": "execute_result"
    }
   ],
   "source": [
    "response = quotes_api.list_quotes_for_scope(\n",
    "    scope=\"FinbourneUniversity\",\n",
    "    filter=\"\"\"\n",
    "        quoteId.quoteSeriesId.provider eq 'Lusid'\n",
    "        AND\n",
    "        quoteId.quoteSeriesId.priceSource eq 'Manual'\n",
    "        AND\n",
    "        quoteId.quoteSeriesId.instrumentId eq 'US5949181045'\n",
    "        AND\n",
    "        quoteId.quoteSeriesId.instrumentIdType eq 'Isin'\n",
    "        AND\n",
    "        quoteId.quoteSeriesId.quoteType eq 'Price'\n",
    "        AND\n",
    "        quoteId.quoteSeriesId.field eq 'bid'\n",
    "    \"\"\"\n",
    ")\n",
    "\n",
    "lusid_response_to_data_frame(response)\n"
   ]
  },
  {
   "cell_type": "markdown",
   "id": "eed1b2ab",
   "metadata": {
    "slideshow": {
     "slide_type": "slide"
    }
   },
   "source": [
    "<p style=\"font-family: Montserrat; color: #203443; font-weight: bold; font-size: 125%\">Resolving Quotes</p>"
   ]
  },
  {
   "cell_type": "code",
   "execution_count": 7,
   "id": "0a742bed",
   "metadata": {
    "slideshow": {
     "slide_type": "subslide"
    }
   },
   "outputs": [
    {
     "name": "stdout",
     "output_type": "stream",
     "text": [
      "{'failed': {},\n",
      " 'href': None,\n",
      " 'links': [{'description': 'A link to the LUSID Insights website showing all '\n",
      "                           'logs related to this request',\n",
      "            'href': 'http://demo.lusid.com/app/insights/logs/0HMOJ8GPGMKHF:0000000B',\n",
      "            'method': 'GET',\n",
      "            'relation': 'RequestLogs'}],\n",
      " 'not_found': {},\n",
      " 'values': {'Resolution1': {'as_at': datetime.datetime(2023, 2, 21, 3, 34, 34, 413953, tzinfo=tzlocal()),\n",
      "                            'cut_label': '',\n",
      "                            'lineage': 'DemoExample',\n",
      "                            'metric_value': {'unit': 'USD', 'value': 267.56},\n",
      "                            'quote_id': {'effective_at': '2023-02-07T00:00:00.0000000+00:00',\n",
      "                                         'quote_series_id': {'field': 'bid',\n",
      "                                                             'instrument_id': 'US5949181045',\n",
      "                                                             'instrument_id_type': 'Isin',\n",
      "                                                             'price_source': 'Manual',\n",
      "                                                             'provider': 'Lusid',\n",
      "                                                             'quote_type': 'Price'}},\n",
      "                            'scale_factor': None,\n",
      "                            'uploaded_by': '00u89xerfkS08fj6e2p7'}}}\n"
     ]
    }
   ],
   "source": [
    "response = quotes_api.get_quotes(\n",
    "    scope=\"FinbourneUniversity\",\n",
    "    request_body={\n",
    "        \"Resolution1\": lusid.QuoteSeriesId(\n",
    "            provider=\"Lusid\",\n",
    "            price_source=\"Manual\",\n",
    "            instrument_id=\"US5949181045\",\n",
    "            instrument_id_type=\"Isin\",\n",
    "            quote_type=\"Price\",\n",
    "            field=\"bid\"\n",
    "        )\n",
    "    }\n",
    ")\n",
    "\n",
    "pprint.pprint(response)"
   ]
  },
  {
   "cell_type": "code",
   "execution_count": 8,
   "id": "ee15b360",
   "metadata": {
    "slideshow": {
     "slide_type": "subslide"
    }
   },
   "outputs": [
    {
     "name": "stdout",
     "output_type": "stream",
     "text": [
      "{'failed': {},\n",
      " 'href': None,\n",
      " 'links': [{'description': 'A link to the LUSID Insights website showing all '\n",
      "                           'logs related to this request',\n",
      "            'href': 'http://demo.lusid.com/app/insights/logs/0HMOJ96875FUJ:00000003',\n",
      "            'method': 'GET',\n",
      "            'relation': 'RequestLogs'}],\n",
      " 'not_found': {},\n",
      " 'values': {'Resolution1': {'as_at': datetime.datetime(2023, 2, 21, 3, 34, 34, 413953, tzinfo=tzlocal()),\n",
      "                            'cut_label': '',\n",
      "                            'lineage': 'DemoExample',\n",
      "                            'metric_value': {'unit': 'USD', 'value': 267.56},\n",
      "                            'quote_id': {'effective_at': '2023-02-07T00:00:00.0000000+00:00',\n",
      "                                         'quote_series_id': {'field': 'bid',\n",
      "                                                             'instrument_id': 'US5949181045',\n",
      "                                                             'instrument_id_type': 'Isin',\n",
      "                                                             'price_source': 'Manual',\n",
      "                                                             'provider': 'Lusid',\n",
      "                                                             'quote_type': 'Price'}},\n",
      "                            'scale_factor': None,\n",
      "                            'uploaded_by': '00u89xerfkS08fj6e2p7'}}}\n"
     ]
    }
   ],
   "source": [
    "response = quotes_api.get_quotes(\n",
    "    scope=\"FinbourneUniversity\",\n",
    "    max_age=\"P20Y1M1DT1H1M1.1S\",\n",
    "    request_body={\n",
    "        \"Resolution1\": lusid.QuoteSeriesId(\n",
    "            provider=\"Lusid\",\n",
    "            price_source=\"Manual\",\n",
    "            instrument_id=\"US5949181045\",\n",
    "            instrument_id_type=\"Isin\",\n",
    "            quote_type=\"Price\",\n",
    "            field=\"bid\"\n",
    "        )\n",
    "    }\n",
    ")\n",
    "\n",
    "pprint.pprint(response)"
   ]
  },
  {
   "cell_type": "code",
   "execution_count": 9,
   "id": "c221bdea",
   "metadata": {
    "slideshow": {
     "slide_type": "subslide"
    }
   },
   "outputs": [
    {
     "name": "stdout",
     "output_type": "stream",
     "text": [
      "{'failed': {},\n",
      " 'href': None,\n",
      " 'links': [{'description': 'A link to the LUSID Insights website showing all '\n",
      "                           'logs related to this request',\n",
      "            'href': 'http://demo.lusid.com/app/insights/logs/0HMOJ8GPGMKHF:0000000C',\n",
      "            'method': 'GET',\n",
      "            'relation': 'RequestLogs'}],\n",
      " 'not_found': {'Resolution1': {'detail': 'One or more problems occurred. '\n",
      "                                         'Failures: No quotes exist for this '\n",
      "                                         'series within the time window '\n",
      "                                         'specified '\n",
      "                                         '[2023-02-21T02:34:46.8726540+00:00,2023-02-21T03:34:46.8726540+00:00]',\n",
      "                               'error_details': None,\n",
      "                               'id': 'Resolution1',\n",
      "                               'type': 'QuoteFailure'}},\n",
      " 'values': {}}\n"
     ]
    }
   ],
   "source": [
    "response = quotes_api.get_quotes(\n",
    "    scope=\"FinbourneUniversity\",\n",
    "    max_age=\"PT1H\",\n",
    "    request_body={\n",
    "        \"Resolution1\": lusid.QuoteSeriesId(\n",
    "            provider=\"Lusid\",\n",
    "            price_source=\"Manual\",\n",
    "            instrument_id=\"US5949181045\",\n",
    "            instrument_id_type=\"Isin\",\n",
    "            quote_type=\"Price\",\n",
    "            field=\"bid\"\n",
    "        )\n",
    "    }\n",
    ")\n",
    "\n",
    "pprint.pprint(response)"
   ]
  },
  {
   "cell_type": "code",
   "execution_count": 10,
   "id": "e32e769d",
   "metadata": {
    "slideshow": {
     "slide_type": "subslide"
    }
   },
   "outputs": [
    {
     "name": "stdout",
     "output_type": "stream",
     "text": [
      "{'failed': {},\n",
      " 'href': None,\n",
      " 'links': [{'description': 'A link to the LUSID Insights website showing all '\n",
      "                           'logs related to this request',\n",
      "            'href': 'http://demo.lusid.com/app/insights/logs/0HMOJ9GA7MG7L:00000005',\n",
      "            'method': 'GET',\n",
      "            'relation': 'RequestLogs'}],\n",
      " 'not_found': {},\n",
      " 'values': {'Resolution1': {'as_at': datetime.datetime(2023, 2, 21, 3, 34, 34, 413953, tzinfo=tzlocal()),\n",
      "                            'cut_label': '',\n",
      "                            'lineage': 'DemoExample',\n",
      "                            'metric_value': {'unit': 'USD', 'value': 267.56},\n",
      "                            'quote_id': {'effective_at': '2023-02-07T00:00:00.0000000+00:00',\n",
      "                                         'quote_series_id': {'field': 'bid',\n",
      "                                                             'instrument_id': 'US5949181045',\n",
      "                                                             'instrument_id_type': 'Isin',\n",
      "                                                             'price_source': 'Manual',\n",
      "                                                             'provider': 'Lusid',\n",
      "                                                             'quote_type': 'Price'}},\n",
      "                            'scale_factor': None,\n",
      "                            'uploaded_by': '00u89xerfkS08fj6e2p7'}}}\n"
     ]
    }
   ],
   "source": [
    "response = quotes_api.get_quotes(\n",
    "    scope=\"FinbourneUniversity\",\n",
    "    max_age=\"PT1H\",\n",
    "    effective_at=\"2023-02-07T00:30:00Z\",\n",
    "    request_body={\n",
    "        \"Resolution1\": lusid.QuoteSeriesId(\n",
    "            provider=\"Lusid\",\n",
    "            price_source=\"Manual\",\n",
    "            instrument_id=\"US5949181045\",\n",
    "            instrument_id_type=\"Isin\",\n",
    "            quote_type=\"Price\",\n",
    "            field=\"bid\"\n",
    "        )\n",
    "    }\n",
    ")\n",
    "\n",
    "pprint.pprint(response)"
   ]
  },
  {
   "cell_type": "markdown",
   "id": "75d0112b",
   "metadata": {
    "slideshow": {
     "slide_type": "slide"
    }
   },
   "source": [
    "<p style=\"font-family: Montserrat; color: #203443; font-weight: bold; font-size: 125%\">Deleting Quotes</p>"
   ]
  },
  {
   "cell_type": "code",
   "execution_count": 11,
   "id": "123ee9b3",
   "metadata": {
    "code_folding": [],
    "slideshow": {
     "slide_type": "subslide"
    }
   },
   "outputs": [
    {
     "name": "stdout",
     "output_type": "stream",
     "text": [
      "{'failed': {'request_3': {'detail': 'One or more problems occurred. Failures: '\n",
      "                                    'Could not find this quote: ',\n",
      "                          'error_details': None,\n",
      "                          'id': 'request_3',\n",
      "                          'type': 'QuoteFailure'}},\n",
      " 'href': None,\n",
      " 'links': [{'description': 'A link to the LUSID Insights website showing all '\n",
      "                           'logs related to this request',\n",
      "            'href': 'http://demo.lusid.com/app/insights/logs/0HMOJ96875FUJ:00000004',\n",
      "            'method': 'GET',\n",
      "            'relation': 'RequestLogs'}],\n",
      " 'values': {'request_1': datetime.datetime(2023, 2, 21, 3, 34, 51, 471948, tzinfo=tzlocal()),\n",
      "            'request_2': datetime.datetime(2023, 2, 21, 3, 34, 51, 471948, tzinfo=tzlocal())}}\n"
     ]
    }
   ],
   "source": [
    "response = quotes_api.delete_quotes(\n",
    "    scope=\"FinbourneUniversity\",\n",
    "    request_body={\n",
    "        \"request_1\": lusid.QuoteId(\n",
    "            quote_series_id=lusid.QuoteSeriesId(\n",
    "                provider=\"Lusid\",\n",
    "                price_source=\"Manual\",\n",
    "                instrument_id=\"US5949181045\",\n",
    "                instrument_id_type=\"Isin\",\n",
    "                quote_type=\"Price\",\n",
    "                field=\"bid\"\n",
    "            ),\n",
    "            effective_at=\"2023-02-06T00:00:00Z\"\n",
    "        ),\n",
    "        \"request_2\": lusid.QuoteId(\n",
    "            quote_series_id=lusid.QuoteSeriesId(\n",
    "                provider=\"Lusid\",\n",
    "                price_source=\"Manual\",\n",
    "                instrument_id=\"US5949181045\",\n",
    "                instrument_id_type=\"Isin\",\n",
    "                quote_type=\"Price\",\n",
    "                field=\"bid\"\n",
    "            ),\n",
    "            effective_at=\"2023-02-07T00:00:00Z\"\n",
    "        ),\n",
    "        \"request_3\": lusid.QuoteId(\n",
    "            quote_series_id=lusid.QuoteSeriesId(\n",
    "                provider=\"Lusid\",\n",
    "                price_source=\"Manual\",\n",
    "                instrument_id=\"US5949181045\",\n",
    "                instrument_id_type=\"Isin\",\n",
    "                quote_type=\"Price\",\n",
    "                field=\"bid\"\n",
    "            ),\n",
    "            effective_at=\"2023-02-08T00:00:00Z\"\n",
    "        )\n",
    "    }\n",
    ")\n",
    "\n",
    "pprint.pprint(response)"
   ]
  },
  {
   "cell_type": "markdown",
   "id": "3a30b680",
   "metadata": {
    "slideshow": {
     "slide_type": "slide"
    }
   },
   "source": [
    "<p style=\"font-family: Montserrat; color: #203443; font-weight: bold; font-size: 125%\">What have we covered?</p>"
   ]
  },
  {
   "cell_type": "markdown",
   "id": "be8a7963",
   "metadata": {
    "slideshow": {
     "slide_type": "fragment"
    }
   },
   "source": [
    "<ul>\n",
    "    <li style=\"color: #ff5200\"><p style=\"font-family: Montserrat; color: #203443\">We created Quotes using an upsert method where we received a partial success where results were keyed by an ephemeral identifier defined in the request.</p></li>\n",
    "</ul>"
   ]
  },
  {
   "cell_type": "markdown",
   "id": "76290621",
   "metadata": {
    "slideshow": {
     "slide_type": "fragment"
    }
   },
   "source": [
    "<ul>\n",
    "    <li style=\"color: #ff5200\"><p style=\"font-family: Montserrat; color: #203443\">We listed Quotes in our FinbourneUniversity scope, using a filter to limit the results.</p></li>\n",
    "</ul>"
   ]
  },
  {
   "cell_type": "markdown",
   "id": "fbd46722",
   "metadata": {
    "slideshow": {
     "slide_type": "subslide"
    }
   },
   "source": [
    "<ul>\n",
    "    <li style=\"color: #ff5200\"><p style=\"font-family: Montserrat; color: #203443\">We resolved Quotes both at the current effective date and at an explicitly provided effective date and saw how the max age parameter affected the results.</p></li>\n",
    "</ul>"
   ]
  },
  {
   "cell_type": "markdown",
   "id": "3a25d977",
   "metadata": {
    "slideshow": {
     "slide_type": "fragment"
    }
   },
   "source": [
    "<ul>\n",
    "    <li style=\"color: #ff5200\"><p style=\"font-family: Montserrat; color: #203443\">We deleted the Quotes we created earlier, again seeing how we can have a partial success.</p></li>\n",
    "</ul>"
   ]
  }
 ],
 "metadata": {
  "celltoolbar": "Slideshow",
  "kernelspec": {
   "display_name": "Python 3 (ipykernel)",
   "language": "python",
   "name": "python3"
  },
  "language_info": {
   "codemirror_mode": {
    "name": "ipython",
    "version": 3
   },
   "file_extension": ".py",
   "mimetype": "text/x-python",
   "name": "python",
   "nbconvert_exporter": "python",
   "pygments_lexer": "ipython3",
   "version": "3.10.10"
  },
  "toc": {
   "base_numbering": 1,
   "nav_menu": {},
   "number_sections": false,
   "sideBar": true,
   "skip_h1_title": false,
   "title_cell": "Table of Contents",
   "title_sidebar": "Contents",
   "toc_cell": false,
   "toc_position": {},
   "toc_section_display": true,
   "toc_window_display": false
  },
  "varInspector": {
   "cols": {
    "lenName": 16,
    "lenType": 16,
    "lenVar": 40
   },
   "kernels_config": {
    "python": {
     "delete_cmd_postfix": "",
     "delete_cmd_prefix": "del ",
     "library": "var_list.py",
     "varRefreshCmd": "print(var_dic_list())"
    },
    "r": {
     "delete_cmd_postfix": ") ",
     "delete_cmd_prefix": "rm(",
     "library": "var_list.r",
     "varRefreshCmd": "cat(var_dic_list()) "
    }
   },
   "types_to_exclude": [
    "module",
    "function",
    "builtin_function_or_method",
    "instance",
    "_Feature"
   ],
   "window_display": false
  }
 },
 "nbformat": 4,
 "nbformat_minor": 5
}
