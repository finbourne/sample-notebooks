{
 "cells": [
  {
   "cell_type": "code",
   "execution_count": null,
   "metadata": {},
   "outputs": [],
   "source": [
    "import cashladder"
   ]
  },
  {
   "cell_type": "code",
   "execution_count": null,
   "metadata": {},
   "outputs": [],
   "source": [
    "import lusid\n",
    "import lusid.models as models\n",
    "import os\n",
    "from msrest.authentication import BasicTokenAuthentication\n",
    "\n",
    "api_url = os.getenv(\"FBN_LUSID_API_URL\")\n",
    "api_token = {\"access_token\": os.environ[\"ACCESS_TOKEN\"]}\n",
    "credentials = BasicTokenAuthentication(api_token)\n",
    "client = lusid.LUSIDAPI(credentials, api_url)\n",
    "\n",
    "import uuid\n",
    "from datetime import datetime\n",
    "from datetime import timedelta\n",
    "import pytz\n",
    "from collections import namedtuple\n",
    "\n",
    "def assert_response_is_not_error(expected_type, response):\n",
    "\n",
    "    if isinstance(response, models.ErrorResponse):\n",
    "        self.fail(response.detailed_message)\n",
    "    elif isinstance(response, expected_type):\n",
    "        return response\n",
    "    else:\n",
    "        self.fail(\"unknown response: {0}\".format(type(response)))\n",
    "            \n",
    "def build_trade(trade_spec):\n",
    "    return models.TradeDto(\n",
    "        trade_id=str(uuid.uuid4()),\n",
    "        type=\"Buy\",\n",
    "        security_uid=trade_spec.id,\n",
    "        settlement_currency=trade_spec.currency,\n",
    "        trade_date=trade_spec.trade_date,\n",
    "        settlement_date=trade_spec.trade_date + timedelta(days=2),\n",
    "        units=100,\n",
    "        trade_price=trade_spec.price,\n",
    "        total_consideration=100 * trade_spec.price,\n",
    "        source=\"Client\")\n",
    "\n",
    "TradeSpec = namedtuple('TradeSpec', 'id price trade_date settlement_date currency')\n",
    "\n",
    "def create_portfolio_with_trades(scope, name, date, trades):\n",
    "    scope = \"finbourne\"\n",
    "    guid = str(uuid.uuid4())\n",
    "    portfolio_code = \"id-{0}\".format(guid)\n",
    "    effective_date = datetime(2018, 1, 1, tzinfo=pytz.utc)\n",
    "\n",
    "    request = models.CreatePortfolioRequest(\"portfolio-{0}\".format(guid), portfolio_code, \"GBP\", effective_date)\n",
    "\n",
    "    #   create the portfolio\n",
    "    result = client.create_portfolio(scope, request)\n",
    "    portfolio_id = result.id.code\n",
    "\n",
    "    assert_response_is_not_error(models.PortfolioDto, result)\n",
    "\n",
    "    #   build and add trades\n",
    "    new_trades = list(map(build_trade, trades))\n",
    "    add_trades_result = client.upsert_trades(scope, portfolio_id, new_trades)\n",
    "    assert_response_is_not_error(models.UpsertPortfolioTradesDto, add_trades_result)\n",
    "    \n",
    "    return portfolio_code"
   ]
  },
  {
   "cell_type": "code",
   "execution_count": null,
   "metadata": {},
   "outputs": [],
   "source": [
    "from datetime import datetime\n",
    "\n",
    "effective_date = datetime(2018, 1, 1, tzinfo=pytz.utc)\n",
    "trades = [\n",
    "    TradeSpec(\"FIGI_BBG001S7Z574\", 101, datetime(2018, 1, 1, tzinfo=pytz.utc), datetime(2018, 1, 4, tzinfo=pytz.utc), \"GBP\"),       \n",
    "    TradeSpec(\"FIGI_BBG001S7Z574\", 102, datetime(2018, 1, 2, tzinfo=pytz.utc), datetime(2018, 1, 5, tzinfo=pytz.utc), \"GBP\"),\n",
    "    TradeSpec(\"FIGI_BBG001S7Z574\", 103, datetime(2018, 1, 3, tzinfo=pytz.utc), datetime(2018, 1, 6, tzinfo=pytz.utc), \"GBP\"),\n",
    "    TradeSpec(\"FIGI_BBG001S7Z574\", 104, datetime(2018, 1, 1, tzinfo=pytz.utc), datetime(2018, 1, 4, tzinfo=pytz.utc), \"USD\"),\n",
    "    TradeSpec(\"FIGI_BBG001SRKHW2\", 105, datetime(2018, 1, 2, tzinfo=pytz.utc), datetime(2018, 1, 5, tzinfo=pytz.utc), \"USD\"),\n",
    "    TradeSpec(\"FIGI_BBG001SRKHW2\", 106, datetime(2018, 1, 3, tzinfo=pytz.utc), datetime(2018, 1, 6, tzinfo=pytz.utc), \"USD\"),\n",
    "    TradeSpec(\"FIGI_BBG001S7Z574\", 107, datetime(2018, 1, 1, tzinfo=pytz.utc), datetime(2018, 1, 4, tzinfo=pytz.utc), \"EUR\"),\n",
    "    TradeSpec(\"FIGI_BBG000005547\", 108, datetime(2018, 1, 2, tzinfo=pytz.utc), datetime(2018, 1, 5, tzinfo=pytz.utc), \"EUR\"),      \n",
    "    TradeSpec(\"FIGI_BBG001SRKHW2\", 109, datetime(2018, 1, 3, tzinfo=pytz.utc), datetime(2018, 1, 6, tzinfo=pytz.utc), \"EUR\"),\n",
    "    \n",
    "]\n",
    "\n",
    "created_code = create_portfolio_with_trades(scope=\"finbourne\", name=\"demo\", date=effective_date, trades=trades)"
   ]
  },
  {
   "cell_type": "code",
   "execution_count": null,
   "metadata": {},
   "outputs": [],
   "source": [
    "import cashladder as c \n",
    "cl_date = '2018-01-04'\n",
    "c.cash_ladder(date=cl_date, scope='finbourne',portfolio=created_code)"
   ]
  },
  {
   "cell_type": "code",
   "execution_count": null,
   "metadata": {},
   "outputs": [],
   "source": [
    "acl = c.alt_cash_ladder(date=cl_date,scope='finbourne',portfolio=created_code)\n",
    "chart_data = acl[['Currency','Cash Date','balance']].drop_duplicates(['Currency','Cash Date'],keep='last')\n",
    "chart_data = chart_data.pivot(index=\"Currency\", columns=\"Cash Date\", values=\"balance\").fillna(0)"
   ]
  },
  {
   "cell_type": "code",
   "execution_count": null,
   "metadata": {},
   "outputs": [],
   "source": [
    "chart_data"
   ]
  },
  {
   "cell_type": "code",
   "execution_count": null,
   "metadata": {},
   "outputs": [],
   "source": [
    "%matplotlib inline\n",
    "import numpy as np\n",
    "import matplotlib.pyplot as plt\n",
    "\n",
    "ind = np.arange(chart_data.columns.size)\n",
    "width = 0.1\n",
    "\n",
    "fig, ax = plt.subplots()\n",
    "\n",
    "for ccy, x in zip(chart_data.index, [-.2, 0, .2]):\n",
    "    ax.bar(ind + x/2, chart_data.loc[ccy,:].asobject, width, label=ccy)\n",
    "    \n",
    "ax.set_xticks(ind)\n",
    "ax.set_xticklabels(chart_data.columns.values)\n",
    "ax.legend()\n",
    "\n",
    "plt.show()"
   ]
  }
 ],
 "metadata": {
  "kernelspec": {
   "display_name": "Python 3",
   "language": "python",
   "name": "python3"
  },
  "language_info": {
   "codemirror_mode": {
    "name": "ipython",
    "version": 3
   },
   "file_extension": ".py",
   "mimetype": "text/x-python",
   "name": "python",
   "nbconvert_exporter": "python",
   "pygments_lexer": "ipython3",
   "version": "3.6.3"
  }
 },
 "nbformat": 4,
 "nbformat_minor": 2
}
