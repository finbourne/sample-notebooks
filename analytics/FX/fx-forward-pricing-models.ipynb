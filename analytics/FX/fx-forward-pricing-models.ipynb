{
 "cells": [
  {
   "cell_type": "code",
   "execution_count": 83,
   "metadata": {},
   "outputs": [
    {
     "data": {
      "text/html": [
       "\n",
       "    <form action=\"javascript:code_toggle()\"><input type=\"submit\" id=\"toggleButton\" value=\"Toggle Docstring\"></form>\n",
       "    \n",
       "         <script>\n",
       "         function code_toggle() {\n",
       "             if ($('div.cell.code_cell.rendered.selected div.input').css('display')!='none'){\n",
       "                 $('div.cell.code_cell.rendered.selected div.input').hide();\n",
       "             } else {\n",
       "                 $('div.cell.code_cell.rendered.selected div.input').show();\n",
       "             }\n",
       "         }\n",
       "         </script>\n",
       "\n",
       "     "
      ],
      "text/plain": [
       "<IPython.core.display.HTML object>"
      ]
     },
     "metadata": {},
     "output_type": "display_data"
    }
   ],
   "source": [
    "from lusidtools.jupyter_tools import toggle_code\n",
    "\n",
    "\"\"\"FX Forward Pricing Models\n",
    "\n",
    "Attributes\n",
    "----------\n",
    "FX Forwards\n",
    "Valuation\n",
    "Pricing Models\n",
    "\"\"\"\n",
    "\n",
    "toggle_code(\"Toggle Docstring\")"
   ]
  },
  {
   "cell_type": "markdown",
   "metadata": {},
   "source": [
    "# FX Forward Pricing Model Methodology\n",
    "\n",
    "In this notebook, we create a portfolio containing a single FX forward and value the portfolio using each of the 9 applicable pricing models. Where applicable, we will produce a single net valuation for the instrument and also a valuation split on the individual cashflows using the `produce_separate_result_for_linear_otc_legs` pricing option, which we refer to as \"split by legs\" from now on.\n",
    "\n",
    "For simplicity, we will demonstrate each of the models where one of the currencies in the FX forward is the same as the portfolio currency. Later, we will give an example where the reporting currency and the currencies in the forward are all distinct. In order to value the FX forward and report in a different currency, we will need to upsert three FX quotes, one for each pair.\n",
    "\n",
    "\n",
    "## FX Triangulation\n",
    "\n",
    "In order to make it explicit what market data is required in each of these examples, we will configure the market context to not attempt to infer missing FX rates from other quotes in the quote store, using the `attempt_to_infer_missing_fx=False` option in `lm.MarketOptions`.\n",
    "\n",
    "On the other hand, when the `attempt_to_infer_missing_fx=True` market option is used, LUSID attempts to derive values for missing quotes from existing quotes, according to a set of rules which will be discussed in detail in another notebook (see [FX Triangulation Methodology](#) - Coming Soon). As example, given a (bid/mid/ask) quote for the currency pair GBPJPY, we can infer a (ask/mid/bid) quote for JPYGBP as `1/GBPJPY`. This is justified by an arbitrage argument whereby a trader could trade both currency pairs to make a risk free profit. Similarly, given quotes for USDGBP and USDJPY, we can infer a GBPJPY quote as `USDJPY/USDGBP`. Note that unless quotes are assumed to be at mid, the symmetry between currency pairs CCY<sub>1</sub>CCY<sub>2</sub> and CCY<sub>2</sub>CCY<sub>1</sub> is broken, so the triangulation methodology in LUSID currently assumes that all quotes are at mid.\n",
    "\n",
    "\n",
    "## Market Data Curves and Interpolation\n",
    "\n",
    "When using market data curves, such as a forward rates curve or a discounting curve, we provide a list of dates (or tenors) together with a list of values. To obtain values from the curve that do not fall on one of these specified dates or tenors, LUSID uses interpolation and extrapolation to calculate these values. In the examples below, we have demonstrated the calculations 'by hand' alongside the valuations in LUSID to explain the methodology, including extracting forward rates and discount factors from the curves using linear interpolation with no extrapolation. See the worked examples in [ForwardFromCurveUndiscounted](#2.3-forward-from-curve-undiscounted), [ForwardFromCurve](#2.4-forward-from-curve), [Reporting Currency](#3-reporting-currency) and [Forward Rates and Undiscounted Models](#4-forward-rates-and-undiscounted-models) for details. More detail on the interpolation and extrapolation methodology for FX forward curves is given in the section [\"Interpolation on Forward Curves\"](#5-interpolation-on-forward-curves).\n",
    "\n",
    "\n",
    "## Table of Contents\n",
    "1. [Create Portfolio](#1-create-portfolio)\n",
    "2. [Valuation](#2-valuation)\n",
    "    1. [ConstantTimeValueOfMoney](#2.1-constant-time-value-of-money)\n",
    "    2. [SimpleStatic](#2.2-simple-static)\n",
    "    3. [ForwardFromCurveUndiscounted](#2.3-forward-from-curve-undiscounted)\n",
    "    4. [ForwardFromCurve](#2.4-forward-from-curve)\n",
    "    5. [ForwardWithPointsUndiscounted](#2.5-forward-with-points-undiscounted)\n",
    "    6. [ForwardWithPoints](#2.6-forward-with-points)\n",
    "    7. [ForwardSpecifiedRateUndiscounted](#2.7-forward-specified-rate-undiscounted)\n",
    "    8. [ForwardSpecifiedRate](#2.8-forward-specified-rate)\n",
    "    9. [Discounting](#2.9-discounting)\n",
    "3. [Reporting Currency](#3-reporting-currency)\n",
    "4. [Forward Rates and Undiscounted Models](#4-forward-rates-and-undiscounted-models)\n",
    "5. [Interpolation on Forward Curves](#5-interpolation-on-forward-curves)\n",
    "\n",
    "\n",
    "**Scenario:** Consider the scenario where our company Z needs to pay a Japanese supplier 19,000,000 JPY in 6 months and we wish to hedge the currency risk and lock in a known GBP amount. To this end, today (Mon 03/06/2024) we enter into a 6 month GBPJPY forward to pay 100,000 GBP to receive 19,000,000 JPY in 6 months time (Tue 03/12/2024), corresponding to a forward rate of `19,000,000/100,000 = 190`. We will value this FX forward a few weeks prior to the maturity date, on Mon 14/10/2024."
   ]
  },
  {
   "cell_type": "code",
   "execution_count": 84,
   "metadata": {},
   "outputs": [
    {
     "data": {
      "text/html": [
       "<style>.container { width: 90% !important; }</style>"
      ],
      "text/plain": [
       "<IPython.core.display.HTML object>"
      ]
     },
     "metadata": {},
     "output_type": "display_data"
    },
    {
     "data": {
      "text/plain": [
       "'LUSID environment initialised'"
      ]
     },
     "metadata": {},
     "output_type": "display_data"
    },
    {
     "data": {
      "text/plain": [
       "'LUSID API version:'"
      ]
     },
     "metadata": {},
     "output_type": "display_data"
    },
    {
     "data": {
      "text/plain": [
       "'0.6.13528.0'"
      ]
     },
     "metadata": {},
     "output_type": "display_data"
    }
   ],
   "source": [
    "# Import generic non-LUSID packages\n",
    "import os\n",
    "import pandas as pd\n",
    "from datetime import datetime, timedelta\n",
    "import pytz\n",
    "from IPython.core.display import HTML\n",
    "import json\n",
    "import math\n",
    "\n",
    "# Import key modules from the LUSID package\n",
    "import lusid\n",
    "import lusid.models as lm\n",
    "from lusid.utilities import ApiClientFactory\n",
    "from lusidtools.pandas_utils.lusid_pandas import lusid_response_to_data_frame\n",
    "\n",
    "# Set DataFrame display formats\n",
    "pd.set_option(\"display.max_columns\", None)\n",
    "pd.set_option(\"display.max_rows\", None)\n",
    "pd.options.display.float_format = \"{:,.4f}\".format\n",
    "display(HTML(\"<style>.container { width: 90% !important; }</style>\"))\n",
    "\n",
    "# Set the secrets path\n",
    "secrets_path = os.getenv(\"FBN_SECRETS_PATH\")\n",
    "\n",
    "# For running the notebook locally\n",
    "if secrets_path is None:\n",
    "    secrets_path = os.path.join(os.path.dirname(os.getcwd()), \"secrets.json\")\n",
    "\n",
    "# Authenticate user and create API client\n",
    "api_factory = ApiClientFactory(api_secrets_filename=secrets_path)\n",
    "\n",
    "display(\"LUSID environment initialised\")\n",
    "display(\n",
    "    \"LUSID API version:\",\n",
    "    api_factory.build(lusid.api.ApplicationMetadataApi)\n",
    "    .get_lusid_versions()\n",
    "    .build_version,\n",
    ")"
   ]
  },
  {
   "cell_type": "code",
   "execution_count": 85,
   "metadata": {},
   "outputs": [],
   "source": [
    "# Set required APIs\n",
    "portfolio_api = api_factory.build(lusid.api.PortfoliosApi)\n",
    "transaction_portfolios_api = api_factory.build(lusid.api.TransactionPortfoliosApi)\n",
    "instruments_api = api_factory.build(lusid.api.InstrumentsApi)\n",
    "quotes_api = api_factory.build(lusid.api.QuotesApi)\n",
    "complex_market_data_api = api_factory.build(lusid.api.ComplexMarketDataApi)\n",
    "configuration_recipe_api = api_factory.build(lusid.api.ConfigurationRecipeApi)\n",
    "aggregation_api = api_factory.build(lusid.api.AggregationApi)"
   ]
  },
  {
   "cell_type": "markdown",
   "metadata": {},
   "source": [
    "## 1. Create Portfolio\n",
    "\n",
    "We begin by creating a portfolio which will have one FX Forward holding."
   ]
  },
  {
   "cell_type": "code",
   "execution_count": 86,
   "metadata": {},
   "outputs": [],
   "source": [
    "# Define common variables\n",
    "pf_scope = \"fx-forward-pricing-models\"\n",
    "pf_code = \"FxForwardPricingModels\"\n",
    "pf_ccy = \"GBP\"\n",
    "pf_created_at = datetime(2024, 6, 1, tzinfo=pytz.utc)"
   ]
  },
  {
   "cell_type": "code",
   "execution_count": 87,
   "metadata": {},
   "outputs": [
    {
     "data": {
      "text/plain": [
       "'Found portfolio FxForwardPricingModels in scope fx-forward-pricing-models'"
      ]
     },
     "metadata": {},
     "output_type": "display_data"
    }
   ],
   "source": [
    "# Get or create portfolio\n",
    "try:\n",
    "    portfolio_api.get_portfolio(scope=pf_scope, code=pf_code)\n",
    "    display(f\"Found portfolio {pf_code} in scope {pf_scope}\")\n",
    "except lusid.ApiException as e:\n",
    "    body = json.loads(e.body)\n",
    "    if body[\"name\"] == \"PortfolioNotFound\":\n",
    "        transaction_portfolios_api.create_portfolio(\n",
    "            scope=pf_scope,\n",
    "            create_transaction_portfolio_request=lm.CreateTransactionPortfolioRequest(\n",
    "                display_name=pf_code,\n",
    "                code=pf_code,\n",
    "                base_currency=pf_ccy,\n",
    "                created=pf_created_at.isoformat(),\n",
    "            ),\n",
    "        )\n",
    "\n",
    "        display(f\"Created new portfolio {pf_code} in scope {pf_scope}\")\n",
    "\n",
    "    else:\n",
    "        display(\n",
    "            f\"Error fetching portfolio - Title: {body['title']}, Details: {body['detail']}, Errors: {body['errors']}\"\n",
    "        )"
   ]
  },
  {
   "cell_type": "markdown",
   "metadata": {},
   "source": [
    "We now create and upsert a FX forward instrument with the following characteristics:\n",
    "\n",
    "- Buy/Receive (FGN): 19,000,000 JPY\n",
    "- Sell/Pay (DOM): 100,000 GBP\n",
    "- Start Date: Monday 03/06/2024\n",
    "- Maturity Date: Tuesday 03/12/2024"
   ]
  },
  {
   "cell_type": "code",
   "execution_count": 88,
   "metadata": {},
   "outputs": [],
   "source": [
    "forward_name = \"GBPJPY 6M Forward\"\n",
    "forward_identifier = \"FWD-GBPJPY6M\"\n",
    "\n",
    "start_date = datetime(2024, 6, 3, tzinfo=pytz.utc)\n",
    "maturity_date = datetime(2024, 12, 3, tzinfo=pytz.utc)\n",
    "dom_amount = -100_000\n",
    "dom_ccy = \"GBP\"\n",
    "fgn_amount = 19_000_000\n",
    "fgn_ccy = \"JPY\"\n",
    "\n",
    "# Create FX forward definition\n",
    "fx_forward = lm.FxForward(\n",
    "    start_date=start_date.isoformat(),\n",
    "    maturity_date=maturity_date.isoformat(),\n",
    "    dom_amount=dom_amount,\n",
    "    dom_ccy=dom_ccy,\n",
    "    fgn_amount=fgn_amount,\n",
    "    fgn_ccy=fgn_ccy,\n",
    "    instrument_type=\"FxForward\",\n",
    ")\n",
    "\n",
    "# Create LUSID instrument definition\n",
    "forward_definition = lm.InstrumentDefinition(\n",
    "    name=forward_name,\n",
    "    identifiers={\"ClientInternal\": lm.InstrumentIdValue(value=forward_identifier)},\n",
    "    definition=fx_forward,\n",
    ")"
   ]
  },
  {
   "cell_type": "code",
   "execution_count": 89,
   "metadata": {},
   "outputs": [
    {
     "data": {
      "text/plain": [
       "'Success! Upserted instrument LUID_000185GP'"
      ]
     },
     "metadata": {},
     "output_type": "display_data"
    }
   ],
   "source": [
    "# Upsert FX forward instrument\n",
    "try:\n",
    "    upsert_response = instruments_api.upsert_instruments(\n",
    "        request_body={forward_identifier: forward_definition}\n",
    "    )\n",
    "    luid = upsert_response.values[forward_identifier].lusid_instrument_id\n",
    "    display(f\"Success! Upserted instrument {luid}\")\n",
    "except KeyError as e:\n",
    "    display(\n",
    "        f\"Failed to upsert instrument {forward_identifier}. Details: {upsert_response.failed[forward_identifier].detail}\"\n",
    "    )\n",
    "except lusid.ApiException as e:\n",
    "    body = json.loads(e.body)\n",
    "    display(\n",
    "        f\"Title: {body['title']}, Details: {body['detail']}, Errors: {body['errors']}\"\n",
    "    )"
   ]
  },
  {
   "cell_type": "markdown",
   "metadata": {},
   "source": [
    "Having created the portfolio and an FX forward instrument, we now add a `StockIn` transaction to create a position of one unit of the above FX forward without incurring any costs which would affect the cash holding."
   ]
  },
  {
   "cell_type": "code",
   "execution_count": 90,
   "metadata": {},
   "outputs": [
    {
     "data": {
      "text/plain": [
       "'Transaction successfully updated at time 2024-08-12 09:49:13.311039+00:00'"
      ]
     },
     "metadata": {},
     "output_type": "display_data"
    }
   ],
   "source": [
    "# Trade variables\n",
    "settle_days = 2\n",
    "trade_date = start_date\n",
    "settlement_date = start_date + timedelta(days=settle_days)\n",
    "\n",
    "# Create StockIn transaction\n",
    "stock_in_txn = lm.TransactionRequest(\n",
    "    transaction_id=\"TXN001\",\n",
    "    type=\"StockIn\",\n",
    "    instrument_identifiers={\"Instrument/default/ClientInternal\": forward_identifier},\n",
    "    transaction_date=trade_date.isoformat(),\n",
    "    settlement_date=settlement_date.isoformat(),\n",
    "    units=1,\n",
    "    transaction_price=lm.TransactionPrice(price=0, type=\"Price\"),\n",
    "    total_consideration=lm.CurrencyAndAmount(amount=0, currency=pf_ccy),\n",
    "    exchange_rate=1,\n",
    "    transaction_currency=pf_ccy,\n",
    ")\n",
    "\n",
    "# Upsert StockIn transaction\n",
    "try:\n",
    "    response = transaction_portfolios_api.upsert_transactions(\n",
    "        scope=pf_scope, code=pf_code, transaction_request=[stock_in_txn]\n",
    "    )\n",
    "    display(f\"Transaction successfully updated at time {response.version.as_at_date}\")\n",
    "\n",
    "except lusid.ApiException as e:\n",
    "    body = json.loads(e.body)\n",
    "    display(\n",
    "        f\"Failed to upsert transaction - Title: {body['title']}, Details: {body['detail']}, Errors: {body['errors']}\"\n",
    "    )"
   ]
  },
  {
   "cell_type": "markdown",
   "metadata": {},
   "source": [
    "Before running a valuation on this portfolio, we verify the holdings are as expected - that is, the portfolio contains one unit of the above FX forward."
   ]
  },
  {
   "cell_type": "code",
   "execution_count": 91,
   "metadata": {},
   "outputs": [
    {
     "data": {
      "text/html": [
       "<div>\n",
       "<style scoped>\n",
       "    .dataframe tbody tr th:only-of-type {\n",
       "        vertical-align: middle;\n",
       "    }\n",
       "\n",
       "    .dataframe tbody tr th {\n",
       "        vertical-align: top;\n",
       "    }\n",
       "\n",
       "    .dataframe thead th {\n",
       "        text-align: right;\n",
       "    }\n",
       "</style>\n",
       "<table border=\"1\" class=\"dataframe\">\n",
       "  <thead>\n",
       "    <tr style=\"text-align: right;\">\n",
       "      <th></th>\n",
       "      <th>LUID</th>\n",
       "      <th>Name</th>\n",
       "      <th>holding_type</th>\n",
       "      <th>units</th>\n",
       "      <th>settled_units</th>\n",
       "      <th>cost.amount</th>\n",
       "      <th>cost.currency</th>\n",
       "      <th>cost_portfolio_ccy.amount</th>\n",
       "      <th>currency</th>\n",
       "      <th>holding_type_name</th>\n",
       "      <th>holding_id</th>\n",
       "    </tr>\n",
       "  </thead>\n",
       "  <tbody>\n",
       "    <tr>\n",
       "      <th>0</th>\n",
       "      <td>LUID_000185GP</td>\n",
       "      <td>GBPJPY 6M Forward</td>\n",
       "      <td>P</td>\n",
       "      <td>1.0000</td>\n",
       "      <td>1.0000</td>\n",
       "      <td>0.0000</td>\n",
       "      <td>GBP</td>\n",
       "      <td>0.0000</td>\n",
       "      <td>GBP</td>\n",
       "      <td>Position</td>\n",
       "      <td>69113036</td>\n",
       "    </tr>\n",
       "  </tbody>\n",
       "</table>\n",
       "</div>"
      ],
      "text/plain": [
       "            LUID               Name holding_type  units  settled_units  \\\n",
       "0  LUID_000185GP  GBPJPY 6M Forward            P 1.0000         1.0000   \n",
       "\n",
       "   cost.amount cost.currency  cost_portfolio_ccy.amount currency  \\\n",
       "0       0.0000           GBP                     0.0000      GBP   \n",
       "\n",
       "  holding_type_name  holding_id  \n",
       "0          Position    69113036  "
      ]
     },
     "metadata": {},
     "output_type": "display_data"
    }
   ],
   "source": [
    "# Get holdings for portfolio\n",
    "get_holdings_response = transaction_portfolios_api.get_holdings(\n",
    "    scope=pf_scope,\n",
    "    code=pf_code,\n",
    "    # Decorate on instrument name property for clarity\n",
    "    property_keys=[\"Instrument/default/Name\"],\n",
    ")\n",
    "\n",
    "# Rename columns\n",
    "column_name_mapping = {\"instrument_uid\": \"LUID\", \"Name(default-Properties)\": \"Name\"}\n",
    "\n",
    "# Transform API response to a pandas dataframe and show it\n",
    "get_holdings_response_df = lusid_response_to_data_frame(\n",
    "    lusid_response=get_holdings_response,\n",
    "    column_name_mapping=column_name_mapping,\n",
    "    rename_properties=True,\n",
    ")\n",
    "\n",
    "ignored_columns = [\n",
    "    \"instrument_scope\",\n",
    "    \"sub_holding_keys\",\n",
    "    \"cost_portfolio_ccy.currency\",\n",
    "    \"SourcePortfolioId(default-Properties)\",\n",
    "    \"SourcePortfolioScope(default-Properties)\",\n",
    "    \"notional_cost.amount\",\n",
    "    \"notional_cost.currency\",\n",
    "    \"settlement_schedule\",\n",
    "]\n",
    "ignored_columns.extend(\n",
    "    list(\n",
    "        get_holdings_response_df.filter(\n",
    "            regex=\"notional_cost|amortised_cost|variation_margin\"\n",
    "        )\n",
    "    )\n",
    ")\n",
    "\n",
    "# Drop some noisy columns\n",
    "get_holdings_response_df.drop(\n",
    "    columns=ignored_columns,\n",
    "    inplace=True,\n",
    ")\n",
    "\n",
    "display(get_holdings_response_df)"
   ]
  },
  {
   "cell_type": "markdown",
   "metadata": {},
   "source": [
    "## 2. Valuation\n",
    "\n",
    "Now we have created a portfolio with a holding of one unit of a GBPJPY FX forward, we will run valuation on the portfolio with each of the pricing models listed above, both split by legs and not split by legs, where applicable. \n",
    "\n",
    "When we choose not to split by cashflow legs, the valuation will contain a single record which shows the net present value in the domestic currency of the forward and present value in the report currency.\n",
    "\n",
    "When we split by legs, the valuation will show a separate record for the domestic cashflow (outflow in our example) and the foreign cashflow (inflow here)."
   ]
  },
  {
   "cell_type": "markdown",
   "metadata": {},
   "source": [
    "First, we'll create some helper functions for upserting pricing recipes and performing the valuation."
   ]
  },
  {
   "cell_type": "code",
   "execution_count": 92,
   "metadata": {},
   "outputs": [],
   "source": [
    "market_supplier = \"Lusid\"\n",
    "valuation_date = datetime(2024, 10, 14, tzinfo=pytz.utc)\n",
    "\n",
    "\n",
    "def create_market_context(\n",
    "    scope: str, market_rules: list[lm.MarketDataKeyRule]\n",
    ") -> lm.MarketContext:\n",
    "    return lm.MarketContext(\n",
    "        # Rules for where we should resolve rates data\n",
    "        market_rules=market_rules,\n",
    "        # Default options for resolving market data\n",
    "        options=lm.MarketOptions(\n",
    "            default_supplier=market_supplier,\n",
    "            default_scope=scope,\n",
    "            default_instrument_code_type=\"ClientInternal\",\n",
    "            # Do not attempt to infer missing FX rates using triangulation.\n",
    "            attempt_to_infer_missing_fx=False,\n",
    "        ),\n",
    "    )\n",
    "\n",
    "\n",
    "def upsert_recipe(recipe: lm.ConfigurationRecipe):\n",
    "    recipe_request = lm.UpsertRecipeRequest(configuration_recipe=recipe)\n",
    "    configuration_recipe_api.upsert_configuration_recipe(\n",
    "        upsert_recipe_request=recipe_request\n",
    "    )\n",
    "\n",
    "\n",
    "def upsert_quotes(scope: str, quotes: list[lm.UpsertQuoteRequest]):\n",
    "    # Create request body object from list of quotes\n",
    "    request_body = {f\"{i}\": x for i, x in zip(range(len(quotes)), quotes)}\n",
    "    quote_response = quotes_api.upsert_quotes(scope=scope, request_body=request_body)\n",
    "\n",
    "    if quote_response.failed == {}:\n",
    "        display(\n",
    "            f\"Quotes successfully loaded into LUSID. {len(quote_response.values)} quotes upserted.\"\n",
    "        )\n",
    "    else:\n",
    "        display(\n",
    "            f\"Some failures occurred during quote upsert. Failed: {quote_response.failed}\"\n",
    "        )\n",
    "\n",
    "\n",
    "def get_daily_valuation(\n",
    "    market_data_scope: str,\n",
    "    date: datetime,\n",
    "    recipe_code: str,\n",
    "    report_currency: str = pf_ccy,\n",
    ") -> pd.DataFrame:\n",
    "    metrics = [\n",
    "        lm.AggregateSpec(key=\"Instrument/CoreData/Name\", op=\"Value\"),\n",
    "        lm.AggregateSpec(key=\"Instrument/CoreData/StartDate\", op=\"Value\"),\n",
    "        lm.AggregateSpec(key=\"Instrument/CoreData/MaturityDate\", op=\"Value\"),\n",
    "        lm.AggregateSpec(key=\"Valuation/LegIdentifier\", op=\"Value\"),\n",
    "        lm.AggregateSpec(key=\"Valuation/PV\", op=\"Value\"),\n",
    "        lm.AggregateSpec(key=\"Valuation/PV/Ccy\", op=\"Value\"),\n",
    "        lm.AggregateSpec(key=\"Valuation/PvInReportCcy\", op=\"Value\"),\n",
    "    ]\n",
    "\n",
    "    valuation_request = lm.ValuationRequest(\n",
    "        recipe_id=lm.ResourceId(scope=market_data_scope, code=recipe_code),\n",
    "        metrics=metrics,\n",
    "        group_by=None,\n",
    "        portfolio_entity_ids=[lm.PortfolioEntityId(scope=pf_scope, code=pf_code)],\n",
    "        valuation_schedule=lm.ValuationSchedule(effective_at=date.isoformat()),\n",
    "        report_currency=report_currency,\n",
    "    )\n",
    "\n",
    "    valuation_data = aggregation_api.get_valuation(\n",
    "        valuation_request=valuation_request\n",
    "    ).data\n",
    "\n",
    "    valuation_df = pd.DataFrame(valuation_data)\n",
    "    valuation_df[\"Instrument/CoreData/StartDate\"] = valuation_df[\n",
    "        \"Instrument/CoreData/StartDate\"\n",
    "    ].apply(lambda x: datetime.strptime(x[:10], \"%Y-%m-%d\").date())\n",
    "\n",
    "    valuation_df[\"Instrument/CoreData/MaturityDate\"] = valuation_df[\n",
    "        \"Instrument/CoreData/MaturityDate\"\n",
    "    ].apply(lambda x: datetime.strptime(x[:10], \"%Y-%m-%d\").date())\n",
    "\n",
    "    # Reorder columns:\n",
    "    valuation_df = valuation_df.loc[\n",
    "        :,\n",
    "        [\n",
    "            \"Instrument/CoreData/Name\",\n",
    "            \"Instrument/CoreData/StartDate\",\n",
    "            \"Instrument/CoreData/MaturityDate\",\n",
    "            \"Valuation/LegIdentifier\",\n",
    "            \"Valuation/PV\",\n",
    "            \"Valuation/PV/Ccy\",\n",
    "            \"Valuation/PvInReportCcy\",\n",
    "        ],\n",
    "    ]\n",
    "\n",
    "    return valuation_df"
   ]
  },
  {
   "cell_type": "markdown",
   "metadata": {},
   "source": [
    "### 2.1 Constant Time Value of Money\n",
    "\n",
    "The Constant Time Value of Money (CTVoM) pricing model values each of the cashflows assuming zero discount interest rates, so no discounting is performed to calculate the present value. For example £1 in one year is worth £1 today. Thus the present value of an FX forward under this model is simply the sum of the two amounts, which are converted to the domestic currency based on the current spot exchange rate `S`.\n",
    "\n",
    "In this example, the GBP outflow is 100,000 GBP, while the JPY inflow of 19,000,000 JPY is worth `19,000,000 / S` in GBP. If the spot rate is 190 then the PV is zero. If the spot rate is 185, the present value is `102,702.70 - 100,000 = 2,702.70 GBP`."
   ]
  },
  {
   "cell_type": "code",
   "execution_count": 93,
   "metadata": {},
   "outputs": [],
   "source": [
    "# CTVoM valuation of FX forward\n",
    "market_data_scope = \"fx-forward-pricing-constant-time-value-of-money\"\n",
    "market_context = create_market_context(\n",
    "    scope=market_data_scope,\n",
    "    market_rules=[\n",
    "        # Market data rule for resolving FX spot rates\n",
    "        lm.MarketDataKeyRule(\n",
    "            key=\"Fx.*.*\",\n",
    "            data_scope=market_data_scope,\n",
    "            supplier=market_supplier,\n",
    "            quote_type=\"Rate\",\n",
    "            field=\"mid\",\n",
    "        ),\n",
    "    ],\n",
    ")\n",
    "\n",
    "# Not split by legs\n",
    "pricing_context = lm.PricingContext(\n",
    "    model_rules=[\n",
    "        lm.VendorModelRule(\n",
    "            supplier=market_supplier,\n",
    "            model_name=\"ConstantTimeValueOfMoney\",\n",
    "            instrument_type=\"FxForward\",\n",
    "        )\n",
    "    ],\n",
    "    options=lm.PricingOptions(produce_separate_result_for_linear_otc_legs=False),\n",
    ")\n",
    "\n",
    "recipe_code = \"ctvom-no-split\"\n",
    "pricing_recipe = lm.ConfigurationRecipe(\n",
    "    scope=market_data_scope,\n",
    "    code=recipe_code,\n",
    "    description=\"CTVoM without split legs\",\n",
    "    market=market_context,\n",
    "    pricing=pricing_context,\n",
    ")\n",
    "\n",
    "upsert_recipe(pricing_recipe)\n",
    "\n",
    "\n",
    "# Split by legs\n",
    "pricing_context_split = lm.PricingContext(\n",
    "    model_rules=[\n",
    "        lm.VendorModelRule(\n",
    "            supplier=market_supplier,\n",
    "            model_name=\"ConstantTimeValueOfMoney\",\n",
    "            instrument_type=\"FxForward\",\n",
    "        )\n",
    "    ],\n",
    "    options=lm.PricingOptions(produce_separate_result_for_linear_otc_legs=True),\n",
    ")\n",
    "\n",
    "recipe_code_split = \"ctvom-split\"\n",
    "pricing_recipe_split = lm.ConfigurationRecipe(\n",
    "    scope=market_data_scope,\n",
    "    code=recipe_code_split,\n",
    "    description=\"CTVoM split legs\",\n",
    "    market=market_context,\n",
    "    pricing=pricing_context_split,\n",
    ")\n",
    "\n",
    "upsert_recipe(pricing_recipe_split)"
   ]
  },
  {
   "cell_type": "markdown",
   "metadata": {},
   "source": [
    "We'll now upsert a GBPJPY quote of 190, so the present value of the FX forward should be zero."
   ]
  },
  {
   "cell_type": "code",
   "execution_count": 94,
   "metadata": {},
   "outputs": [
    {
     "data": {
      "text/plain": [
       "'Quotes successfully loaded into LUSID. 1 quotes upserted.'"
      ]
     },
     "metadata": {},
     "output_type": "display_data"
    }
   ],
   "source": [
    "# Upsert market data\n",
    "# First perform a valuation where the spot rate is such that the contract is worth zero.\n",
    "spot_rate_gbpjpy = 190\n",
    "quote_gbp_jpy = lm.UpsertQuoteRequest(\n",
    "    quote_id=lm.QuoteId(\n",
    "        quote_series_id=lm.QuoteSeriesId(\n",
    "            provider=\"Lusid\",\n",
    "            instrument_id=\"GBP/JPY\",\n",
    "            instrument_id_type=\"CurrencyPair\",\n",
    "            quote_type=\"Price\",\n",
    "            field=\"mid\",\n",
    "        ),\n",
    "        effective_at=valuation_date.isoformat(),\n",
    "    ),\n",
    "    metric_value=lm.MetricValue(value=spot_rate_gbpjpy, unit=\"rate\"),\n",
    "    lineage=\"InternalSystem\",\n",
    ")\n",
    "\n",
    "upsert_quotes(scope=market_data_scope, quotes=[quote_gbp_jpy])"
   ]
  },
  {
   "cell_type": "markdown",
   "metadata": {},
   "source": [
    "#### CTVoM No Split\n",
    "\n",
    "Since we are assuming no discounting, the GBP outflow of 100,000 is worth 100,000 on the valuation date, and the JPY inflow of 19,000,000 is worth 19,000,000 JPY on the valuation date, which is worth `19,000,000 / 190 = 100,000` GBP at the spot rate of 190, so the present value of the forward is `-100,000 + 19,000,000 / 190 = 0` GBP."
   ]
  },
  {
   "cell_type": "code",
   "execution_count": 95,
   "metadata": {},
   "outputs": [
    {
     "data": {
      "text/html": [
       "<div>\n",
       "<style scoped>\n",
       "    .dataframe tbody tr th:only-of-type {\n",
       "        vertical-align: middle;\n",
       "    }\n",
       "\n",
       "    .dataframe tbody tr th {\n",
       "        vertical-align: top;\n",
       "    }\n",
       "\n",
       "    .dataframe thead th {\n",
       "        text-align: right;\n",
       "    }\n",
       "</style>\n",
       "<table border=\"1\" class=\"dataframe\">\n",
       "  <thead>\n",
       "    <tr style=\"text-align: right;\">\n",
       "      <th></th>\n",
       "      <th>Instrument/CoreData/Name</th>\n",
       "      <th>Instrument/CoreData/StartDate</th>\n",
       "      <th>Instrument/CoreData/MaturityDate</th>\n",
       "      <th>Valuation/LegIdentifier</th>\n",
       "      <th>Valuation/PV</th>\n",
       "      <th>Valuation/PV/Ccy</th>\n",
       "      <th>Valuation/PvInReportCcy</th>\n",
       "    </tr>\n",
       "  </thead>\n",
       "  <tbody>\n",
       "    <tr>\n",
       "      <th>0</th>\n",
       "      <td>GBPJPY 6M Forward</td>\n",
       "      <td>2024-06-03</td>\n",
       "      <td>2024-12-03</td>\n",
       "      <td>None</td>\n",
       "      <td>0.0000</td>\n",
       "      <td>GBP</td>\n",
       "      <td>0.0000</td>\n",
       "    </tr>\n",
       "  </tbody>\n",
       "</table>\n",
       "</div>"
      ],
      "text/plain": [
       "  Instrument/CoreData/Name Instrument/CoreData/StartDate  \\\n",
       "0        GBPJPY 6M Forward                    2024-06-03   \n",
       "\n",
       "  Instrument/CoreData/MaturityDate Valuation/LegIdentifier  Valuation/PV  \\\n",
       "0                       2024-12-03                    None        0.0000   \n",
       "\n",
       "  Valuation/PV/Ccy  Valuation/PvInReportCcy  \n",
       "0              GBP                   0.0000  "
      ]
     },
     "execution_count": 95,
     "metadata": {},
     "output_type": "execute_result"
    }
   ],
   "source": [
    "# Not split by legs\n",
    "get_daily_valuation(\n",
    "    market_data_scope=market_data_scope,\n",
    "    date=valuation_date,\n",
    "    recipe_code=recipe_code,\n",
    ")"
   ]
  },
  {
   "cell_type": "markdown",
   "metadata": {},
   "source": [
    "#### CTVoM Split By Legs"
   ]
  },
  {
   "cell_type": "markdown",
   "metadata": {},
   "source": [
    "Note that the valuation above, without split by legs, only requires a GBPJPY quote. However, to split by legs, we also require a JPYGBP quote, or we could allow the market data resolver to infer the inverse FX rate JPYGBP from the GBPJPY quote by setting `attempt_to_infer_missing_fx=True` in the market options when creating the market context.\n",
    "\n",
    "We now upsert the inverse quote `JPYGBP = 0.00526`, which has been rounded to 5 decimal places, so there will be a small discrepancy where the values of legs in the domestic currency will not exactly sum to zero."
   ]
  },
  {
   "cell_type": "code",
   "execution_count": 96,
   "metadata": {},
   "outputs": [
    {
     "data": {
      "text/plain": [
       "'Quotes successfully loaded into LUSID. 1 quotes upserted.'"
      ]
     },
     "metadata": {},
     "output_type": "display_data"
    }
   ],
   "source": [
    "spot_rate_jpygbp = 0.00526\n",
    "quote_jpy_gbp = lm.UpsertQuoteRequest(\n",
    "    quote_id=lm.QuoteId(\n",
    "        quote_series_id=lm.QuoteSeriesId(\n",
    "            provider=\"Lusid\",\n",
    "            instrument_id=\"JPY/GBP\",\n",
    "            instrument_id_type=\"CurrencyPair\",\n",
    "            quote_type=\"Price\",\n",
    "            field=\"mid\",\n",
    "        ),\n",
    "        effective_at=valuation_date.isoformat(),\n",
    "    ),\n",
    "    metric_value=lm.MetricValue(value=spot_rate_jpygbp, unit=\"rate\"),\n",
    "    lineage=\"InternalSystem\",\n",
    ")\n",
    "\n",
    "upsert_quotes(scope=market_data_scope, quotes=[quote_jpy_gbp])"
   ]
  },
  {
   "cell_type": "code",
   "execution_count": 97,
   "metadata": {},
   "outputs": [
    {
     "data": {
      "text/html": [
       "<div>\n",
       "<style scoped>\n",
       "    .dataframe tbody tr th:only-of-type {\n",
       "        vertical-align: middle;\n",
       "    }\n",
       "\n",
       "    .dataframe tbody tr th {\n",
       "        vertical-align: top;\n",
       "    }\n",
       "\n",
       "    .dataframe thead th {\n",
       "        text-align: right;\n",
       "    }\n",
       "</style>\n",
       "<table border=\"1\" class=\"dataframe\">\n",
       "  <thead>\n",
       "    <tr style=\"text-align: right;\">\n",
       "      <th></th>\n",
       "      <th>Instrument/CoreData/Name</th>\n",
       "      <th>Instrument/CoreData/StartDate</th>\n",
       "      <th>Instrument/CoreData/MaturityDate</th>\n",
       "      <th>Valuation/LegIdentifier</th>\n",
       "      <th>Valuation/PV</th>\n",
       "      <th>Valuation/PV/Ccy</th>\n",
       "      <th>Valuation/PvInReportCcy</th>\n",
       "    </tr>\n",
       "  </thead>\n",
       "  <tbody>\n",
       "    <tr>\n",
       "      <th>0</th>\n",
       "      <td>GBPJPY 6M Forward</td>\n",
       "      <td>2024-06-03</td>\n",
       "      <td>2024-12-03</td>\n",
       "      <td>DomesticLeg</td>\n",
       "      <td>-100,000.0000</td>\n",
       "      <td>GBP</td>\n",
       "      <td>-100,000.0000</td>\n",
       "    </tr>\n",
       "    <tr>\n",
       "      <th>1</th>\n",
       "      <td>GBPJPY 6M Forward</td>\n",
       "      <td>2024-06-03</td>\n",
       "      <td>2024-12-03</td>\n",
       "      <td>ForeignLeg</td>\n",
       "      <td>19,000,000.0000</td>\n",
       "      <td>JPY</td>\n",
       "      <td>99,940.0000</td>\n",
       "    </tr>\n",
       "  </tbody>\n",
       "</table>\n",
       "</div>"
      ],
      "text/plain": [
       "  Instrument/CoreData/Name Instrument/CoreData/StartDate  \\\n",
       "0        GBPJPY 6M Forward                    2024-06-03   \n",
       "1        GBPJPY 6M Forward                    2024-06-03   \n",
       "\n",
       "  Instrument/CoreData/MaturityDate Valuation/LegIdentifier    Valuation/PV  \\\n",
       "0                       2024-12-03             DomesticLeg   -100,000.0000   \n",
       "1                       2024-12-03              ForeignLeg 19,000,000.0000   \n",
       "\n",
       "  Valuation/PV/Ccy  Valuation/PvInReportCcy  \n",
       "0              GBP            -100,000.0000  \n",
       "1              JPY              99,940.0000  "
      ]
     },
     "execution_count": 97,
     "metadata": {},
     "output_type": "execute_result"
    }
   ],
   "source": [
    "# Split by legs\n",
    "get_daily_valuation(\n",
    "    market_data_scope=market_data_scope,\n",
    "    date=valuation_date,\n",
    "    recipe_code=recipe_code_split,\n",
    ")"
   ]
  },
  {
   "cell_type": "markdown",
   "metadata": {},
   "source": [
    "Now suppose GBP has weakened against JPY and the current GBPJPY spot rate is `S = 185 < 190`. We will now update the GBPJPY quote to 185 and the JPYGBP quote to 1/185 and re-run the above valuation."
   ]
  },
  {
   "cell_type": "code",
   "execution_count": 98,
   "metadata": {},
   "outputs": [
    {
     "data": {
      "text/plain": [
       "'Quotes successfully loaded into LUSID. 2 quotes upserted.'"
      ]
     },
     "metadata": {},
     "output_type": "display_data"
    }
   ],
   "source": [
    "# Upsert market data\n",
    "spot_rate_gbpjpy = 185\n",
    "quote_gbp_jpy = lm.UpsertQuoteRequest(\n",
    "    quote_id=lm.QuoteId(\n",
    "        quote_series_id=lm.QuoteSeriesId(\n",
    "            provider=\"Lusid\",\n",
    "            instrument_id=\"GBP/JPY\",\n",
    "            instrument_id_type=\"CurrencyPair\",\n",
    "            quote_type=\"Price\",\n",
    "            field=\"mid\",\n",
    "        ),\n",
    "        effective_at=valuation_date.isoformat(),\n",
    "    ),\n",
    "    metric_value=lm.MetricValue(value=spot_rate_gbpjpy, unit=\"rate\"),\n",
    "    lineage=\"InternalSystem\",\n",
    ")\n",
    "\n",
    "# Spot rate for conversion to report currency\n",
    "spot_rate_jpygbp = 1 / spot_rate_gbpjpy\n",
    "quote_jpy_gbp = lm.UpsertQuoteRequest(\n",
    "    quote_id=lm.QuoteId(\n",
    "        quote_series_id=lm.QuoteSeriesId(\n",
    "            provider=\"Lusid\",\n",
    "            instrument_id=\"JPY/GBP\",\n",
    "            instrument_id_type=\"CurrencyPair\",\n",
    "            quote_type=\"Price\",\n",
    "            field=\"mid\",\n",
    "        ),\n",
    "        effective_at=valuation_date.isoformat(),\n",
    "    ),\n",
    "    metric_value=lm.MetricValue(value=spot_rate_jpygbp, unit=\"rate\"),\n",
    "    lineage=\"InternalSystem\",\n",
    ")\n",
    "\n",
    "upsert_quotes(scope=market_data_scope, quotes=[quote_gbp_jpy, quote_jpy_gbp])"
   ]
  },
  {
   "cell_type": "markdown",
   "metadata": {},
   "source": [
    "#### CTVoM No Split\n",
    "\n",
    "As above, since we are assuming no discounting and a GBPJPY spot rate of 185, the present value of the FX forward is given by `-100,000 + 19,000,000 / 185 = 2,702.7027` GBP."
   ]
  },
  {
   "cell_type": "code",
   "execution_count": 99,
   "metadata": {},
   "outputs": [
    {
     "data": {
      "text/html": [
       "<div>\n",
       "<style scoped>\n",
       "    .dataframe tbody tr th:only-of-type {\n",
       "        vertical-align: middle;\n",
       "    }\n",
       "\n",
       "    .dataframe tbody tr th {\n",
       "        vertical-align: top;\n",
       "    }\n",
       "\n",
       "    .dataframe thead th {\n",
       "        text-align: right;\n",
       "    }\n",
       "</style>\n",
       "<table border=\"1\" class=\"dataframe\">\n",
       "  <thead>\n",
       "    <tr style=\"text-align: right;\">\n",
       "      <th></th>\n",
       "      <th>Instrument/CoreData/Name</th>\n",
       "      <th>Instrument/CoreData/StartDate</th>\n",
       "      <th>Instrument/CoreData/MaturityDate</th>\n",
       "      <th>Valuation/LegIdentifier</th>\n",
       "      <th>Valuation/PV</th>\n",
       "      <th>Valuation/PV/Ccy</th>\n",
       "      <th>Valuation/PvInReportCcy</th>\n",
       "    </tr>\n",
       "  </thead>\n",
       "  <tbody>\n",
       "    <tr>\n",
       "      <th>0</th>\n",
       "      <td>GBPJPY 6M Forward</td>\n",
       "      <td>2024-06-03</td>\n",
       "      <td>2024-12-03</td>\n",
       "      <td>None</td>\n",
       "      <td>2,702.7027</td>\n",
       "      <td>GBP</td>\n",
       "      <td>2,702.7027</td>\n",
       "    </tr>\n",
       "  </tbody>\n",
       "</table>\n",
       "</div>"
      ],
      "text/plain": [
       "  Instrument/CoreData/Name Instrument/CoreData/StartDate  \\\n",
       "0        GBPJPY 6M Forward                    2024-06-03   \n",
       "\n",
       "  Instrument/CoreData/MaturityDate Valuation/LegIdentifier  Valuation/PV  \\\n",
       "0                       2024-12-03                    None    2,702.7027   \n",
       "\n",
       "  Valuation/PV/Ccy  Valuation/PvInReportCcy  \n",
       "0              GBP               2,702.7027  "
      ]
     },
     "metadata": {},
     "output_type": "display_data"
    }
   ],
   "source": [
    "# Not split by legs\n",
    "valuation_df = get_daily_valuation(\n",
    "    market_data_scope=market_data_scope,\n",
    "    date=valuation_date,\n",
    "    recipe_code=recipe_code,\n",
    ")\n",
    "\n",
    "display(valuation_df)"
   ]
  },
  {
   "cell_type": "markdown",
   "metadata": {},
   "source": [
    "#### CTVoM Split By Legs\n",
    "\n",
    "As above, since we are assuming no discounting, the present value of each leg of the forward is equal to the original domestic and foreign amounts on the instrument, so the PV of the domestic leg is -100,000 GBP and the PV of the foreign leg is 19,000,000 JPY. The reporting currency in this example is GBP, so no conversion is required for the PV of the domestic leg in the report currency. The PV of the foreign leg is converted to the report currency using the JPYGBP spot rate of 1/185, giving a PV in report currency of `19,000,000 * (1/185) = 102,702.7027` GBP."
   ]
  },
  {
   "cell_type": "code",
   "execution_count": 100,
   "metadata": {},
   "outputs": [
    {
     "data": {
      "text/html": [
       "<div>\n",
       "<style scoped>\n",
       "    .dataframe tbody tr th:only-of-type {\n",
       "        vertical-align: middle;\n",
       "    }\n",
       "\n",
       "    .dataframe tbody tr th {\n",
       "        vertical-align: top;\n",
       "    }\n",
       "\n",
       "    .dataframe thead th {\n",
       "        text-align: right;\n",
       "    }\n",
       "</style>\n",
       "<table border=\"1\" class=\"dataframe\">\n",
       "  <thead>\n",
       "    <tr style=\"text-align: right;\">\n",
       "      <th></th>\n",
       "      <th>Instrument/CoreData/Name</th>\n",
       "      <th>Instrument/CoreData/StartDate</th>\n",
       "      <th>Instrument/CoreData/MaturityDate</th>\n",
       "      <th>Valuation/LegIdentifier</th>\n",
       "      <th>Valuation/PV</th>\n",
       "      <th>Valuation/PV/Ccy</th>\n",
       "      <th>Valuation/PvInReportCcy</th>\n",
       "    </tr>\n",
       "  </thead>\n",
       "  <tbody>\n",
       "    <tr>\n",
       "      <th>0</th>\n",
       "      <td>GBPJPY 6M Forward</td>\n",
       "      <td>2024-06-03</td>\n",
       "      <td>2024-12-03</td>\n",
       "      <td>DomesticLeg</td>\n",
       "      <td>-100,000.0000</td>\n",
       "      <td>GBP</td>\n",
       "      <td>-100,000.0000</td>\n",
       "    </tr>\n",
       "    <tr>\n",
       "      <th>1</th>\n",
       "      <td>GBPJPY 6M Forward</td>\n",
       "      <td>2024-06-03</td>\n",
       "      <td>2024-12-03</td>\n",
       "      <td>ForeignLeg</td>\n",
       "      <td>19,000,000.0000</td>\n",
       "      <td>JPY</td>\n",
       "      <td>102,702.7027</td>\n",
       "    </tr>\n",
       "  </tbody>\n",
       "</table>\n",
       "</div>"
      ],
      "text/plain": [
       "  Instrument/CoreData/Name Instrument/CoreData/StartDate  \\\n",
       "0        GBPJPY 6M Forward                    2024-06-03   \n",
       "1        GBPJPY 6M Forward                    2024-06-03   \n",
       "\n",
       "  Instrument/CoreData/MaturityDate Valuation/LegIdentifier    Valuation/PV  \\\n",
       "0                       2024-12-03             DomesticLeg   -100,000.0000   \n",
       "1                       2024-12-03              ForeignLeg 19,000,000.0000   \n",
       "\n",
       "  Valuation/PV/Ccy  Valuation/PvInReportCcy  \n",
       "0              GBP            -100,000.0000  \n",
       "1              JPY             102,702.7027  "
      ]
     },
     "metadata": {},
     "output_type": "display_data"
    }
   ],
   "source": [
    "# Split by legs\n",
    "valuation_split_df = get_daily_valuation(\n",
    "    market_data_scope=market_data_scope,\n",
    "    date=valuation_date,\n",
    "    recipe_code=recipe_code_split,\n",
    ")\n",
    "\n",
    "display(valuation_split_df)"
   ]
  },
  {
   "cell_type": "markdown",
   "metadata": {},
   "source": [
    "Observe that the sum of the PVs of the separate legs in the report currency equals the net valuation with `produce_separate_result_for_linear_otc_legs=False`."
   ]
  },
  {
   "cell_type": "code",
   "execution_count": 101,
   "metadata": {},
   "outputs": [
    {
     "data": {
      "text/plain": [
       "'Sum of leg PVs: 2702.702702702707'"
      ]
     },
     "metadata": {},
     "output_type": "display_data"
    },
    {
     "data": {
      "text/plain": [
       "'Net PV: 2702.702702702707'"
      ]
     },
     "metadata": {},
     "output_type": "display_data"
    }
   ],
   "source": [
    "leg_sum = valuation_split_df[\"Valuation/PvInReportCcy\"].sum()\n",
    "net_pv = valuation_split_df[\"Valuation/PvInReportCcy\"].sum()\n",
    "display(f\"Sum of leg PVs: {leg_sum}\")\n",
    "display(f\"Net PV: {net_pv}\")"
   ]
  },
  {
   "cell_type": "markdown",
   "metadata": {},
   "source": [
    "### 2.2 Simple Static\n",
    "\n",
    "The `SimpleStatic` pricing model simply performs a lookup in the quote store and returns the valuation as the value per unit (positive or negative) of the domestic currency times the absolute value of the DOM amount. This allows us to use a valuation from another source rather than deferring the valuation of a contract to LUSID. `SimpleStatic` does not support split by legs valuation since the upserted value per unit of domestic currency does not include any information that can be used to split by legs.\n",
    "\n",
    "In this example, the DOM amount is -100,000 GBP, so we upsert a quote for the PV of the forward scaled such that we are paying 1 GBP for 190 JPY at maturity. In this case, we have valued the above forward at 0.0132 GBP (per GBP sold), so the present value of the forward for 19,000,000 JPY is `|-100,000| * 0.0132 = 1320.00 GBP` under the `SimpleStatic` pricing model.\n",
    "\n",
    "We first create the pricing recipe."
   ]
  },
  {
   "cell_type": "code",
   "execution_count": 102,
   "metadata": {},
   "outputs": [],
   "source": [
    "# Simple Static lookup pricer valuation of FX Forwards\n",
    "market_data_scope = \"fx-forward-pricing-simple-static\"\n",
    "market_context = create_market_context(\n",
    "    scope=market_data_scope,\n",
    "    market_rules=[\n",
    "        # Market data rule for resolving market price quotes\n",
    "        lm.MarketDataKeyRule(\n",
    "            key=\"Quote.ClientInternal.*\",\n",
    "            data_scope=market_data_scope,\n",
    "            supplier=market_supplier,\n",
    "            quote_type=\"Price\",\n",
    "            field=\"mid\",\n",
    "        )\n",
    "    ],\n",
    ")\n",
    "\n",
    "pricing_context = lm.PricingContext(\n",
    "    model_rules=[\n",
    "        lm.VendorModelRule(\n",
    "            supplier=market_supplier,\n",
    "            model_name=\"SimpleStatic\",\n",
    "            instrument_type=\"FxForward\",\n",
    "        )\n",
    "    ],\n",
    "    options=lm.PricingOptions(produce_separate_result_for_linear_otc_legs=False),\n",
    ")\n",
    "\n",
    "recipe_code = \"simple-static\"\n",
    "pricing_recipe = lm.ConfigurationRecipe(\n",
    "    scope=market_data_scope,\n",
    "    code=recipe_code,\n",
    "    description=\"Simple Static\",\n",
    "    market=market_context,\n",
    "    pricing=pricing_context,\n",
    ")\n",
    "\n",
    "upsert_recipe(pricing_recipe)"
   ]
  },
  {
   "cell_type": "markdown",
   "metadata": {},
   "source": [
    "Next, we upsert a quote for the value per GBP of the FX forward."
   ]
  },
  {
   "cell_type": "code",
   "execution_count": 103,
   "metadata": {},
   "outputs": [
    {
     "data": {
      "text/plain": [
       "'Quotes successfully loaded into LUSID. 1 quotes upserted.'"
      ]
     },
     "metadata": {},
     "output_type": "display_data"
    }
   ],
   "source": [
    "# Upsert market data\n",
    "per_gbp_value = 0.0132\n",
    "quote_fwd = lm.UpsertQuoteRequest(\n",
    "    quote_id=lm.QuoteId(\n",
    "        quote_series_id=lm.QuoteSeriesId(\n",
    "            provider=\"Lusid\",\n",
    "            instrument_id=forward_identifier,\n",
    "            instrument_id_type=\"ClientInternal\",\n",
    "            quote_type=\"Price\",\n",
    "            field=\"mid\",\n",
    "        ),\n",
    "        effective_at=valuation_date.isoformat(),\n",
    "    ),\n",
    "    metric_value=lm.MetricValue(value=per_gbp_value, unit=\"GBP\"),\n",
    "    lineage=\"InternalSystem\",\n",
    ")\n",
    "\n",
    "upsert_quotes(scope=market_data_scope, quotes=[quote_fwd])"
   ]
  },
  {
   "cell_type": "markdown",
   "metadata": {},
   "source": [
    "Finally, we run the valuation and compare with the manual valuation described above."
   ]
  },
  {
   "cell_type": "code",
   "execution_count": 104,
   "metadata": {},
   "outputs": [
    {
     "data": {
      "text/html": [
       "<div>\n",
       "<style scoped>\n",
       "    .dataframe tbody tr th:only-of-type {\n",
       "        vertical-align: middle;\n",
       "    }\n",
       "\n",
       "    .dataframe tbody tr th {\n",
       "        vertical-align: top;\n",
       "    }\n",
       "\n",
       "    .dataframe thead th {\n",
       "        text-align: right;\n",
       "    }\n",
       "</style>\n",
       "<table border=\"1\" class=\"dataframe\">\n",
       "  <thead>\n",
       "    <tr style=\"text-align: right;\">\n",
       "      <th></th>\n",
       "      <th>Instrument/CoreData/Name</th>\n",
       "      <th>Instrument/CoreData/StartDate</th>\n",
       "      <th>Instrument/CoreData/MaturityDate</th>\n",
       "      <th>Valuation/LegIdentifier</th>\n",
       "      <th>Valuation/PV</th>\n",
       "      <th>Valuation/PV/Ccy</th>\n",
       "      <th>Valuation/PvInReportCcy</th>\n",
       "    </tr>\n",
       "  </thead>\n",
       "  <tbody>\n",
       "    <tr>\n",
       "      <th>0</th>\n",
       "      <td>GBPJPY 6M Forward</td>\n",
       "      <td>2024-06-03</td>\n",
       "      <td>2024-12-03</td>\n",
       "      <td>None</td>\n",
       "      <td>1,320.0000</td>\n",
       "      <td>GBP</td>\n",
       "      <td>1,320.0000</td>\n",
       "    </tr>\n",
       "  </tbody>\n",
       "</table>\n",
       "</div>"
      ],
      "text/plain": [
       "  Instrument/CoreData/Name Instrument/CoreData/StartDate  \\\n",
       "0        GBPJPY 6M Forward                    2024-06-03   \n",
       "\n",
       "  Instrument/CoreData/MaturityDate Valuation/LegIdentifier  Valuation/PV  \\\n",
       "0                       2024-12-03                    None    1,320.0000   \n",
       "\n",
       "  Valuation/PV/Ccy  Valuation/PvInReportCcy  \n",
       "0              GBP               1,320.0000  "
      ]
     },
     "metadata": {},
     "output_type": "display_data"
    },
    {
     "data": {
      "text/plain": [
       "'Present value: 1320.0'"
      ]
     },
     "metadata": {},
     "output_type": "display_data"
    }
   ],
   "source": [
    "# Perform SimpleStatic valuation\n",
    "valuation_df = get_daily_valuation(\n",
    "    market_data_scope=market_data_scope, date=valuation_date, recipe_code=recipe_code\n",
    ")\n",
    "\n",
    "display(valuation_df)\n",
    "\n",
    "# By hand:\n",
    "display(f\"Present value: {abs(dom_amount) * per_gbp_value}\")"
   ]
  },
  {
   "cell_type": "markdown",
   "metadata": {},
   "source": [
    "### 2.3 Forward From Curve Undiscounted"
   ]
  },
  {
   "cell_type": "markdown",
   "metadata": {},
   "source": [
    "The `ForwardFromCurveUndiscounted` models assumes no discounting on the present value, or zero discount interest rates in both currencies (as with `ConstantTimeValueOfMoney`), so the present value of £1 at maturity is worth £1 now. The model requires a forward rates curve with base date on the valuation date and extending beyond the maturity date. The forward is valued using a forward rate quote effective on the valuation date, estimated using linear interpolation for dates or tenors not specified in the curve data."
   ]
  },
  {
   "cell_type": "code",
   "execution_count": 105,
   "metadata": {},
   "outputs": [],
   "source": [
    "def upsert_complex_market_data(scope: str, request: lm.UpsertComplexMarketDataRequest):\n",
    "    response = complex_market_data_api.upsert_complex_market_data(\n",
    "        scope=scope, request_body={\"1\": request}\n",
    "    )\n",
    "\n",
    "    if response.failed == {}:\n",
    "        display(\n",
    "            f\"Quotes successfully loaded into LUSID. {len(response.values)} quotes upserted.\"\n",
    "        )\n",
    "    else:\n",
    "        display(\n",
    "            f\"Some failures occurred during quote upsert. Failed: {response.failed}\"\n",
    "        )"
   ]
  },
  {
   "cell_type": "code",
   "execution_count": 106,
   "metadata": {},
   "outputs": [],
   "source": [
    "# Create market context\n",
    "market_data_scope = \"fx-forward-pricing-curve-undiscounted\"\n",
    "market_context = create_market_context(\n",
    "    scope=market_data_scope,\n",
    "    market_rules=[\n",
    "        # Market data rule for resolving FX spot rates\n",
    "        lm.MarketDataKeyRule(\n",
    "            key=\"Fx.*.*\",\n",
    "            supplier=\"Lusid\",\n",
    "            data_scope=market_data_scope,\n",
    "            quote_type=\"Rate\",\n",
    "            field=\"mid\",\n",
    "            quote_interval=\"5D.0D\",\n",
    "        ),\n",
    "        # Market data rule for resolving forward rate curves from complex market data store.\n",
    "        lm.MarketDataKeyRule(\n",
    "            key=\"FxForwards.*.*.FxFwdCurve\",\n",
    "            supplier=\"Lusid\",\n",
    "            data_scope=market_data_scope,\n",
    "            quote_type=\"Rate\",\n",
    "            field=\"mid\",\n",
    "            quote_interval=\"1Y.0D\",\n",
    "        ),\n",
    "    ],\n",
    ")\n",
    "\n",
    "# Not split by legs\n",
    "pricing_context = lm.PricingContext(\n",
    "    model_rules=[\n",
    "        lm.VendorModelRule(\n",
    "            supplier=market_supplier,\n",
    "            model_name=\"ForwardFromCurveUndiscounted\",\n",
    "            instrument_type=\"FxForward\",\n",
    "        )\n",
    "    ]\n",
    ")\n",
    "\n",
    "recipe_code = \"curve-undiscounted-no-split\"\n",
    "pricing_recipe = lm.ConfigurationRecipe(\n",
    "    scope=market_data_scope,\n",
    "    code=recipe_code,\n",
    "    description=\"FX forward curve, no discounting\",\n",
    "    market=market_context,\n",
    "    pricing=pricing_context,\n",
    ")\n",
    "\n",
    "upsert_recipe(pricing_recipe)\n",
    "\n",
    "\n",
    "# Split by legs\n",
    "pricing_context_split = lm.PricingContext(\n",
    "    model_rules=[\n",
    "        lm.VendorModelRule(\n",
    "            supplier=market_supplier,\n",
    "            model_name=\"ForwardFromCurveUndiscounted\",\n",
    "            instrument_type=\"FxForward\",\n",
    "        )\n",
    "    ],\n",
    "    options=lm.PricingOptions(produce_separate_result_for_linear_otc_legs=True),\n",
    ")\n",
    "\n",
    "recipe_code_split = \"curve-undiscounted-split\"\n",
    "pricing_recipe_split = lm.ConfigurationRecipe(\n",
    "    scope=market_data_scope,\n",
    "    code=recipe_code_split,\n",
    "    description=\"FX forward curve, no discounting, split by legs\",\n",
    "    market=market_context,\n",
    "    pricing=pricing_context_split,\n",
    ")\n",
    "\n",
    "upsert_recipe(pricing_recipe_split)"
   ]
  },
  {
   "cell_type": "markdown",
   "metadata": {},
   "source": [
    "Now we create and upsert a GBPJPY forward rates tenor curve and a GBPJPY spot rate quote. \n",
    "\n",
    "If doing a net valuation (not split by legs) and not converting to report currency, a spot GBPJPY quote is still required but its value does not impact the net valuation, since forward rates from the curve are used. However, it is used to value the foreign leg in the foreign currency, so it is relevant for the split by legs valuation.\n",
    "\n",
    "If converting to report currency (RPT), this spot rate is not used at all since everything is priced using forward rates taken from forward curves for RPTDOM and RPTFGN currency pairs."
   ]
  },
  {
   "cell_type": "code",
   "execution_count": 107,
   "metadata": {},
   "outputs": [
    {
     "data": {
      "text/plain": [
       "'Quotes successfully loaded into LUSID. 1 quotes upserted.'"
      ]
     },
     "metadata": {},
     "output_type": "display_data"
    },
    {
     "data": {
      "text/plain": [
       "'Quotes successfully loaded into LUSID. 1 quotes upserted.'"
      ]
     },
     "metadata": {},
     "output_type": "display_data"
    }
   ],
   "source": [
    "# Upsert market data\n",
    "# FX forward tenor curve\n",
    "forward_curve_data = lm.FxForwardTenorCurveData(\n",
    "    market_data_type=\"FxForwardTenorCurveData\",\n",
    "    base_date=valuation_date.isoformat(),\n",
    "    dom_ccy=dom_ccy,\n",
    "    fgn_ccy=fgn_ccy,\n",
    "    tenors=[\"1W\", \"2W\", \"1M\", \"2M\", \"3M\"],\n",
    "    rates=[188.32, 188.14, 187.67, 186.93, 186.11],\n",
    ")\n",
    "\n",
    "fwd_curve_id = lm.ComplexMarketDataId(\n",
    "    provider=\"Lusid\",\n",
    "    price_source=None,\n",
    "    effective_at=valuation_date.isoformat(),\n",
    "    market_asset=\"GBP/JPY/FxFwdCurve\",\n",
    ")\n",
    "\n",
    "complex_market_data_request = lm.UpsertComplexMarketDataRequest(\n",
    "    market_data_id=fwd_curve_id,\n",
    "    market_data=forward_curve_data,\n",
    ")\n",
    "\n",
    "# Upsert forward curve into LUSID\n",
    "response = upsert_complex_market_data(\n",
    "    scope=market_data_scope, request=complex_market_data_request\n",
    ")\n",
    "\n",
    "# GBPJPY spot rate\n",
    "spot_rate_gbpjpy = 188.5\n",
    "quote_gbp_jpy = lm.UpsertQuoteRequest(\n",
    "    quote_id=lm.QuoteId(\n",
    "        quote_series_id=lm.QuoteSeriesId(\n",
    "            provider=\"Lusid\",\n",
    "            instrument_id=\"GBP/JPY\",\n",
    "            instrument_id_type=\"CurrencyPair\",\n",
    "            quote_type=\"Price\",\n",
    "            field=\"mid\",\n",
    "        ),\n",
    "        effective_at=valuation_date.isoformat(),\n",
    "    ),\n",
    "    metric_value=lm.MetricValue(value=spot_rate_gbpjpy, unit=\"rate\"),\n",
    "    lineage=\"InternalSystem\",\n",
    ")\n",
    "\n",
    "upsert_quotes(scope=market_data_scope, quotes=[quote_gbp_jpy])"
   ]
  },
  {
   "cell_type": "markdown",
   "metadata": {},
   "source": [
    "Before running the valuations through LUSID, we will work out the example manually to illustrate the methodology. The justification behind the methodology is based on entering into an opposing forward on the valuation date which neutralises the foreign cash flow on maturity, leading to a net domestic cashflow, which is taken as the present value of the original forward contract on the valuation date.\n",
    "\n",
    "Since we are assuming no discounting, the value of the domestic leg is `dom_amount = -100,000 GBP`.\n",
    "\n",
    "To calculate the present value of the foreign leg in the domestic currency, we need to estimate the forward rate for a (hypothetical) forward starting on the valuation date (Mon 14/10/24) and with the same maturity date (Tue 03/12/24) using linear interpolation on the forward curve we have created. The maturity date falls between the 1M and 2M tenors, so now we need to work out the weightings for linear interpolation.\n",
    "\n",
    "**1M:** Valuation is on Monday 14/10/24, spot date (+2) is Wednesday 16/10/24. Increment by 1 month and roll forwards over the weekend to Monday 18/11/24. This is 15 calendar days before maturity.\n",
    "\n",
    "**2M:** Valuation is on Monday 14/10/24, spot date (+2) is Wednesday 16/10/24. Increment by 2 months to Monday 16/12/24. This is 13 calendar days after maturity."
   ]
  },
  {
   "cell_type": "code",
   "execution_count": 108,
   "metadata": {},
   "outputs": [
    {
     "data": {
      "text/plain": [
       "'Interpolated forward rate: 187.27357142857142'"
      ]
     },
     "metadata": {},
     "output_type": "display_data"
    },
    {
     "data": {
      "text/plain": [
       "'Net present value: 1455.8533543364756'"
      ]
     },
     "metadata": {},
     "output_type": "display_data"
    },
    {
     "data": {
      "text/plain": [
       "'Foreign leg PV in FGN: 19124428.357292425'"
      ]
     },
     "metadata": {},
     "output_type": "display_data"
    }
   ],
   "source": [
    "def manual_valuation():\n",
    "    # Domestic leg PV\n",
    "    dom_pv = -100_000\n",
    "\n",
    "    # Estimate forward rate from curve:\n",
    "    fwd_1m = 187.67\n",
    "    fwd_2m = 186.93\n",
    "    fwd_interpolated = (13 * fwd_1m + 15 * fwd_2m) / 28\n",
    "    display(f\"Interpolated forward rate: {fwd_interpolated}\")\n",
    "\n",
    "    # Foreign leg PV in domestic currency\n",
    "    fgn_pv = 19_000_000 / fwd_interpolated\n",
    "    net_pv = dom_pv + fgn_pv\n",
    "    display(f\"Net present value: {net_pv}\")\n",
    "\n",
    "    # Foreign leg price in FGN\n",
    "    spot = 188.5\n",
    "    fgn_leg_price = fgn_pv * spot\n",
    "    display(f\"Foreign leg PV in FGN: {fgn_leg_price}\")\n",
    "\n",
    "\n",
    "manual_valuation()"
   ]
  },
  {
   "cell_type": "markdown",
   "metadata": {},
   "source": [
    "#### FX Forward Curve Undiscounted - No Split\n",
    "\n",
    "The calculation above illustrates the methodology in LUSID for arriving at the net present value of the FX forward using a forward rates curve and a spot GBPJPY quote."
   ]
  },
  {
   "cell_type": "code",
   "execution_count": 109,
   "metadata": {},
   "outputs": [
    {
     "data": {
      "text/html": [
       "<div>\n",
       "<style scoped>\n",
       "    .dataframe tbody tr th:only-of-type {\n",
       "        vertical-align: middle;\n",
       "    }\n",
       "\n",
       "    .dataframe tbody tr th {\n",
       "        vertical-align: top;\n",
       "    }\n",
       "\n",
       "    .dataframe thead th {\n",
       "        text-align: right;\n",
       "    }\n",
       "</style>\n",
       "<table border=\"1\" class=\"dataframe\">\n",
       "  <thead>\n",
       "    <tr style=\"text-align: right;\">\n",
       "      <th></th>\n",
       "      <th>Instrument/CoreData/Name</th>\n",
       "      <th>Instrument/CoreData/StartDate</th>\n",
       "      <th>Instrument/CoreData/MaturityDate</th>\n",
       "      <th>Valuation/LegIdentifier</th>\n",
       "      <th>Valuation/PV</th>\n",
       "      <th>Valuation/PV/Ccy</th>\n",
       "      <th>Valuation/PvInReportCcy</th>\n",
       "    </tr>\n",
       "  </thead>\n",
       "  <tbody>\n",
       "    <tr>\n",
       "      <th>0</th>\n",
       "      <td>GBPJPY 6M Forward</td>\n",
       "      <td>2024-06-03</td>\n",
       "      <td>2024-12-03</td>\n",
       "      <td>None</td>\n",
       "      <td>1,455.8534</td>\n",
       "      <td>GBP</td>\n",
       "      <td>1,455.8534</td>\n",
       "    </tr>\n",
       "  </tbody>\n",
       "</table>\n",
       "</div>"
      ],
      "text/plain": [
       "  Instrument/CoreData/Name Instrument/CoreData/StartDate  \\\n",
       "0        GBPJPY 6M Forward                    2024-06-03   \n",
       "\n",
       "  Instrument/CoreData/MaturityDate Valuation/LegIdentifier  Valuation/PV  \\\n",
       "0                       2024-12-03                    None    1,455.8534   \n",
       "\n",
       "  Valuation/PV/Ccy  Valuation/PvInReportCcy  \n",
       "0              GBP               1,455.8534  "
      ]
     },
     "metadata": {},
     "output_type": "display_data"
    }
   ],
   "source": [
    "# Not split by legs\n",
    "valuation_df = get_daily_valuation(\n",
    "    market_data_scope=market_data_scope, date=valuation_date, recipe_code=recipe_code\n",
    ")\n",
    "\n",
    "display(valuation_df)"
   ]
  },
  {
   "cell_type": "markdown",
   "metadata": {},
   "source": [
    "#### FX Forward Curve Undiscounted - Split By Legs"
   ]
  },
  {
   "cell_type": "markdown",
   "metadata": {},
   "source": [
    "As illustrated above, to produce separate results for each leg, we now require a JPYGBP quote to convert the PV of the foreign leg into the reporting currency GBP."
   ]
  },
  {
   "cell_type": "code",
   "execution_count": 110,
   "metadata": {},
   "outputs": [
    {
     "data": {
      "text/plain": [
       "'Quotes successfully loaded into LUSID. 1 quotes upserted.'"
      ]
     },
     "metadata": {},
     "output_type": "display_data"
    }
   ],
   "source": [
    "spot_rate_jpygbp = 0.00531\n",
    "quote_jpy_gbp = lm.UpsertQuoteRequest(\n",
    "    quote_id=lm.QuoteId(\n",
    "        quote_series_id=lm.QuoteSeriesId(\n",
    "            provider=\"Lusid\",\n",
    "            instrument_id=\"JPY/GBP\",\n",
    "            instrument_id_type=\"CurrencyPair\",\n",
    "            quote_type=\"Price\",\n",
    "            field=\"mid\",\n",
    "        ),\n",
    "        effective_at=valuation_date.isoformat(),\n",
    "    ),\n",
    "    metric_value=lm.MetricValue(value=spot_rate_jpygbp, unit=\"rate\"),\n",
    "    lineage=\"InternalSystem\",\n",
    ")\n",
    "\n",
    "upsert_quotes(scope=market_data_scope, quotes=[quote_jpy_gbp])"
   ]
  },
  {
   "cell_type": "code",
   "execution_count": 111,
   "metadata": {},
   "outputs": [
    {
     "data": {
      "text/html": [
       "<div>\n",
       "<style scoped>\n",
       "    .dataframe tbody tr th:only-of-type {\n",
       "        vertical-align: middle;\n",
       "    }\n",
       "\n",
       "    .dataframe tbody tr th {\n",
       "        vertical-align: top;\n",
       "    }\n",
       "\n",
       "    .dataframe thead th {\n",
       "        text-align: right;\n",
       "    }\n",
       "</style>\n",
       "<table border=\"1\" class=\"dataframe\">\n",
       "  <thead>\n",
       "    <tr style=\"text-align: right;\">\n",
       "      <th></th>\n",
       "      <th>Instrument/CoreData/Name</th>\n",
       "      <th>Instrument/CoreData/StartDate</th>\n",
       "      <th>Instrument/CoreData/MaturityDate</th>\n",
       "      <th>Valuation/LegIdentifier</th>\n",
       "      <th>Valuation/PV</th>\n",
       "      <th>Valuation/PV/Ccy</th>\n",
       "      <th>Valuation/PvInReportCcy</th>\n",
       "    </tr>\n",
       "  </thead>\n",
       "  <tbody>\n",
       "    <tr>\n",
       "      <th>0</th>\n",
       "      <td>GBPJPY 6M Forward</td>\n",
       "      <td>2024-06-03</td>\n",
       "      <td>2024-12-03</td>\n",
       "      <td>DomesticLeg</td>\n",
       "      <td>-100,000.0000</td>\n",
       "      <td>GBP</td>\n",
       "      <td>-100,000.0000</td>\n",
       "    </tr>\n",
       "    <tr>\n",
       "      <th>1</th>\n",
       "      <td>GBPJPY 6M Forward</td>\n",
       "      <td>2024-06-03</td>\n",
       "      <td>2024-12-03</td>\n",
       "      <td>ForeignLeg</td>\n",
       "      <td>19,124,428.3573</td>\n",
       "      <td>JPY</td>\n",
       "      <td>101,550.7146</td>\n",
       "    </tr>\n",
       "  </tbody>\n",
       "</table>\n",
       "</div>"
      ],
      "text/plain": [
       "  Instrument/CoreData/Name Instrument/CoreData/StartDate  \\\n",
       "0        GBPJPY 6M Forward                    2024-06-03   \n",
       "1        GBPJPY 6M Forward                    2024-06-03   \n",
       "\n",
       "  Instrument/CoreData/MaturityDate Valuation/LegIdentifier    Valuation/PV  \\\n",
       "0                       2024-12-03             DomesticLeg   -100,000.0000   \n",
       "1                       2024-12-03              ForeignLeg 19,124,428.3573   \n",
       "\n",
       "  Valuation/PV/Ccy  Valuation/PvInReportCcy  \n",
       "0              GBP            -100,000.0000  \n",
       "1              JPY             101,550.7146  "
      ]
     },
     "metadata": {},
     "output_type": "display_data"
    }
   ],
   "source": [
    "valuation_split_df = get_daily_valuation(\n",
    "    market_data_scope=market_data_scope,\n",
    "    date=valuation_date,\n",
    "    recipe_code=recipe_code_split,\n",
    ")\n",
    "\n",
    "display(valuation_split_df)"
   ]
  },
  {
   "cell_type": "markdown",
   "metadata": {},
   "source": [
    "Note that the sum of the PVs in the report currency of the two legs does not exactly equal the net valuation above. This is due to rounding on the inverse JPYGBP quote and leads to a small difference relative to the notional. LUSID does not enforce the consistency of market data, so we need to take care that market data is reasonable."
   ]
  },
  {
   "cell_type": "code",
   "execution_count": 112,
   "metadata": {},
   "outputs": [
    {
     "data": {
      "text/plain": [
       "'GBPJPY * JPYGBP = 1.000935'"
      ]
     },
     "metadata": {},
     "output_type": "display_data"
    },
    {
     "data": {
      "text/plain": [
       "'Actual inverse rate 1/GBPJPY = 0.005305039787798408'"
      ]
     },
     "metadata": {},
     "output_type": "display_data"
    }
   ],
   "source": [
    "# GBPJPY * JPYGBP != 1\n",
    "display(f\"GBPJPY * JPYGBP = {188.5 * 0.00531}\")\n",
    "display(f\"Actual inverse rate 1/GBPJPY = {1 / 188.5}\")"
   ]
  },
  {
   "cell_type": "markdown",
   "metadata": {},
   "source": [
    "We now show that the net PV derived from the sum of the two leg PVs in report currency is consistent with the net valuation based on the sum of the leg PVs in the leg currency, converted to GBP at the spot rate `JPYGBP = 0.00531`."
   ]
  },
  {
   "cell_type": "code",
   "execution_count": 113,
   "metadata": {},
   "outputs": [
    {
     "data": {
      "text/plain": [
       "'Sum of leg PVs in report CCY = 1550.7145772230142'"
      ]
     },
     "metadata": {},
     "output_type": "display_data"
    },
    {
     "data": {
      "text/plain": [
       "1550.7145772629883"
      ]
     },
     "metadata": {},
     "output_type": "display_data"
    }
   ],
   "source": [
    "# Net value derived from the sum of the two legs\n",
    "leg_sum = valuation_split_df[\"Valuation/PvInReportCcy\"].sum()\n",
    "display(f\"Sum of leg PVs in report CCY = {leg_sum}\")\n",
    "\n",
    "# Valuation based on spot rate JPYGBP = 0.00531 is consistent with the sum of leg PVs\n",
    "display(19_124_428.3573 * 0.00531 - 100_000)"
   ]
  },
  {
   "cell_type": "markdown",
   "metadata": {},
   "source": [
    "We now show that the sum of the leg PVs in the leg currency, converted at the exact inverse rate `JPYGBP = 1/185` is consistent with the net valuation with the `produce_separate_result_for_linear_otc_legs=True` option, so the apparent discrepancy is purely due to rounding on the inverse quote JPYGBP."
   ]
  },
  {
   "cell_type": "code",
   "execution_count": 114,
   "metadata": {},
   "outputs": [
    {
     "data": {
      "text/plain": [
       "'Net PV in report currency = 1455.853354336707'"
      ]
     },
     "metadata": {},
     "output_type": "display_data"
    },
    {
     "data": {
      "text/plain": [
       "1455.853354376639"
      ]
     },
     "metadata": {},
     "output_type": "display_data"
    }
   ],
   "source": [
    "# Using the exact inverse rate without rounding leads to the same result as net the valuation\n",
    "net_value = valuation_df[\"Valuation/PvInReportCcy\"].sum()\n",
    "display(f\"Net PV in report currency = {net_value}\")\n",
    "display(19_124_428.3573 * (1 / 188.5) - 100_000)"
   ]
  },
  {
   "cell_type": "markdown",
   "metadata": {},
   "source": [
    "### 2.4 Forward From Curve\n",
    "\n",
    "The `ForwardFromCurve` pricing model is the same as the `ForwardFromCurveUndiscounted` model, except that discounting is applied to future values to derive the present value. This model requires a discount factor curve as well as the forward rates curve required above."
   ]
  },
  {
   "cell_type": "code",
   "execution_count": 115,
   "metadata": {},
   "outputs": [],
   "source": [
    "# Create market context\n",
    "market_data_scope = \"fx-forward-pricing-curve\"\n",
    "market_context = create_market_context(\n",
    "    scope=market_data_scope,\n",
    "    market_rules=[\n",
    "        # Market data rule for resolving FX spot rates\n",
    "        lm.MarketDataKeyRule(\n",
    "            key=\"Fx.*.*\",\n",
    "            supplier=\"Lusid\",\n",
    "            data_scope=market_data_scope,\n",
    "            quote_type=\"Rate\",\n",
    "            field=\"mid\",\n",
    "            quote_interval=\"5D.0D\",\n",
    "        ),\n",
    "        # Market data rule for resolving forward rates curves\n",
    "        lm.MarketDataKeyRule(\n",
    "            key=\"FxForwards.*.*.FxFwdCurve\",\n",
    "            supplier=\"Lusid\",\n",
    "            data_scope=market_data_scope,\n",
    "            quote_type=\"Rate\",\n",
    "            field=\"mid\",\n",
    "            quote_interval=\"1Y.0D\",\n",
    "        ),\n",
    "        # Market data rule for resolving discount factor curves\n",
    "        lm.MarketDataKeyRule(\n",
    "            key=\"Rates.GBP.GBPOIS\",\n",
    "            supplier=\"Lusid\",\n",
    "            data_scope=market_data_scope,\n",
    "            quote_type=\"Rate\",\n",
    "            field=\"mid\",\n",
    "        ),\n",
    "    ],\n",
    ")\n",
    "\n",
    "# Not split by legs\n",
    "pricing_context = lm.PricingContext(\n",
    "    model_rules=[\n",
    "        lm.VendorModelRule(\n",
    "            supplier=market_supplier,\n",
    "            model_name=\"ForwardFromCurve\",\n",
    "            instrument_type=\"FxForward\",\n",
    "            model_options=lm.FxForwardModelOptions(\n",
    "                model_options_type=\"FxForwardModelOptions\",\n",
    "                forward_rate_observable_type=\"FxForwardCurve\",\n",
    "                discounting_method=\"Standard\",\n",
    "                convert_to_report_ccy=False,\n",
    "            ),\n",
    "        )\n",
    "    ],\n",
    ")\n",
    "\n",
    "recipe_code = \"curve-no-split\"\n",
    "pricing_recipe = lm.ConfigurationRecipe(\n",
    "    scope=market_data_scope,\n",
    "    code=recipe_code,\n",
    "    description=\"FX forward curve, with discounting\",\n",
    "    market=market_context,\n",
    "    pricing=pricing_context,\n",
    ")\n",
    "\n",
    "upsert_recipe(pricing_recipe)\n",
    "\n",
    "\n",
    "# Split by legs\n",
    "pricing_context_split = lm.PricingContext(\n",
    "    model_rules=[\n",
    "        lm.VendorModelRule(\n",
    "            supplier=market_supplier,\n",
    "            model_name=\"ForwardFromCurve\",\n",
    "            instrument_type=\"FxForward\",\n",
    "            model_options=lm.FxForwardModelOptions(\n",
    "                model_options_type=\"FxForwardModelOptions\",\n",
    "                forward_rate_observable_type=\"FxForwardCurve\",\n",
    "                discounting_method=\"Standard\",\n",
    "                convert_to_report_ccy=False,\n",
    "            ),\n",
    "        )\n",
    "    ],\n",
    "    options=lm.PricingOptions(produce_separate_result_for_linear_otc_legs=True),\n",
    ")\n",
    "\n",
    "recipe_code_split = \"curve-split\"\n",
    "pricing_recipe_split = lm.ConfigurationRecipe(\n",
    "    scope=market_data_scope,\n",
    "    code=recipe_code_split,\n",
    "    description=\"FX forward curve, with discounting, split by legs\",\n",
    "    market=market_context,\n",
    "    pricing=pricing_context_split,\n",
    ")\n",
    "\n",
    "upsert_recipe(pricing_recipe_split)"
   ]
  },
  {
   "cell_type": "markdown",
   "metadata": {},
   "source": [
    "We now create and upsert a GBPJPY forward rates curve, a GBP discount factor curve and a GBPJPY spot rate quote.\n",
    "\n",
    "If doing a net valuation (not split by legs) and not converting to report currency, a spot GBPJPY quote is still required but its value does not impact the net valuation, since forward rates from the curve are used. However, it is used to value the foreign leg in the foreign currency, so it is relevant for the split by legs valuation.\n",
    "\n",
    "If converting to report currency (RPT), this spot rate is not used at all since everything is priced using forward rates taken from forward curves for RPTDOM and RPTFGN currency pairs."
   ]
  },
  {
   "cell_type": "code",
   "execution_count": 116,
   "metadata": {},
   "outputs": [
    {
     "data": {
      "text/plain": [
       "'Quotes successfully loaded into LUSID. 1 quotes upserted.'"
      ]
     },
     "metadata": {},
     "output_type": "display_data"
    },
    {
     "data": {
      "text/plain": [
       "'Quotes successfully loaded into LUSID. 1 quotes upserted.'"
      ]
     },
     "metadata": {},
     "output_type": "display_data"
    },
    {
     "data": {
      "text/plain": [
       "'Quotes successfully loaded into LUSID. 1 quotes upserted.'"
      ]
     },
     "metadata": {},
     "output_type": "display_data"
    }
   ],
   "source": [
    "# Upsert market data\n",
    "# FX forward tenor curve\n",
    "forward_curve_data = lm.FxForwardTenorCurveData(\n",
    "    base_date=valuation_date.isoformat(),\n",
    "    dom_ccy=dom_ccy,\n",
    "    fgn_ccy=fgn_ccy,\n",
    "    tenors=[\"1W\", \"2W\", \"1M\", \"2M\", \"3M\"],\n",
    "    rates=[188.32, 188.14, 187.67, 186.93, 186.11],\n",
    "    market_data_type=\"FxForwardTenorCurveData\",\n",
    ")\n",
    "\n",
    "fwd_curve_id = lm.ComplexMarketDataId(\n",
    "    provider=\"Lusid\",\n",
    "    price_source=None,\n",
    "    effective_at=valuation_date.isoformat(),\n",
    "    market_asset=\"GBP/JPY/FxFwdCurve\",\n",
    ")\n",
    "\n",
    "fwd_curve_request = lm.UpsertComplexMarketDataRequest(\n",
    "    market_data_id=fwd_curve_id,\n",
    "    market_data=forward_curve_data,\n",
    ")\n",
    "\n",
    "# Upsert forward curve into LUSID\n",
    "upsert_complex_market_data(scope=market_data_scope, request=fwd_curve_request)\n",
    "\n",
    "\n",
    "# DOM currency discount factor curve\n",
    "# Build curve data\n",
    "df_months = 6\n",
    "rfr = 0.05\n",
    "df_dates = [None] * (df_months - 1)\n",
    "dfs = [None] * (df_months - 1)\n",
    "for i in range(1, df_months):\n",
    "    df_dates[i - 1] = (valuation_date + timedelta(days=i * 30)).isoformat()\n",
    "    dfs[i - 1] = math.exp(-30 / 360 * rfr * i)\n",
    "\n",
    "\n",
    "df_curve_data = lm.DiscountFactorCurveData(\n",
    "    base_date=valuation_date.isoformat(),\n",
    "    dates=df_dates,\n",
    "    discount_factors=dfs,\n",
    "    market_data_type=\"DiscountFactorCurveData\",\n",
    ")\n",
    "\n",
    "df_curve_id = lm.ComplexMarketDataId(\n",
    "    provider=\"Lusid\",\n",
    "    price_source=\"\",\n",
    "    effective_at=valuation_date.isoformat(),\n",
    "    market_asset=\"GBP/GBPOIS\",\n",
    ")\n",
    "\n",
    "df_curve_request = lm.UpsertComplexMarketDataRequest(\n",
    "    market_data_id=df_curve_id, market_data=df_curve_data\n",
    ")\n",
    "\n",
    "upsert_complex_market_data(scope=market_data_scope, request=df_curve_request)\n",
    "\n",
    "\n",
    "# GBPJPY spot rate\n",
    "spot_rate_gbpjpy = 188.5\n",
    "quote_gbp_jpy = lm.UpsertQuoteRequest(\n",
    "    quote_id=lm.QuoteId(\n",
    "        quote_series_id=lm.QuoteSeriesId(\n",
    "            provider=\"Lusid\",\n",
    "            instrument_id=\"GBP/JPY\",\n",
    "            instrument_id_type=\"CurrencyPair\",\n",
    "            quote_type=\"Price\",\n",
    "            field=\"mid\",\n",
    "        ),\n",
    "        effective_at=valuation_date.isoformat(),\n",
    "    ),\n",
    "    metric_value=lm.MetricValue(value=spot_rate_gbpjpy, unit=\"rate\"),\n",
    "    lineage=\"InternalSystem\",\n",
    ")\n",
    "\n",
    "upsert_quotes(scope=market_data_scope, quotes=[quote_gbp_jpy])"
   ]
  },
  {
   "cell_type": "markdown",
   "metadata": {},
   "source": [
    "Before running the valuations through LUSID, we will work out the example manually to illustrate the methodology. The first step is to estimate the discount factor in the domestic currency to calculate the present value of the domestic leg. Again, this will be estimated using linear interpolation on the points of the discount curve.\n",
    "\n",
    "Next, the present value of the foreign leg in the domestic currency is calculated by first dividing by the forward rate estimated from the curve to get the future value of the foreign leg in DOM, then applying the discount factor to get the present value.\n",
    "\n",
    "Finally, the present values of the two legs are added to derive the net present value of the forward.\n",
    "\n",
    "\n",
    "The points on the discount factor curve we have upserted are at +30 day increments from the valuation date (Mon 14/10/24), so the maturity date falls between the first two points of the curve; the +30 and +60 day increments, which are Wed 13/11/24 and Fri 13/12/24 respectively. Thus there are 20 days from +30 to maturity and 10 days from maturity to +60, so the estimated discount factor will be the 1:2 weighted average of the +30 and +60 day discount factors.\n",
    "\n",
    "\n",
    "As above, to estimate the forward rate for a (hypothetical) forward starting on the valuation date (Mon 14/10/24) and with the same maturity date (Tue 03/12/24) using linear interpolation on the forward curve we have created. The maturity date falls between the 1M and 2M tenors, so now we need to work out the weightings for linear interpolation.\n",
    "\n",
    "**1M:** Valuation is on Monday 14/10/24, spot date (+2) is Wednesday 16/10/24. Increment by 1 month and roll forwards over the weekend to Monday 18/11/24. This is 15 calendar days before maturity.\n",
    "\n",
    "**2M:** Valuation is on Monday 14/10/24, spot date (+2) is Wednesday 16/10/24. Increment by 2 months to Monday 16/12/24. This is 13 calendar days after maturity."
   ]
  },
  {
   "cell_type": "code",
   "execution_count": 117,
   "metadata": {},
   "outputs": [
    {
     "data": {
      "text/plain": [
       "'Interpolated discount factor: 0.9930815290409539'"
      ]
     },
     "metadata": {},
     "output_type": "display_data"
    },
    {
     "data": {
      "text/plain": [
       "'Interpolated forward rate: 187.27357142857142'"
      ]
     },
     "metadata": {},
     "output_type": "display_data"
    },
    {
     "data": {
      "text/plain": [
       "'Domestic leg PV: -99308.15290409539'"
      ]
     },
     "metadata": {},
     "output_type": "display_data"
    },
    {
     "data": {
      "text/plain": [
       "'Foreign leg PV in DOM: 100753.93397927926'"
      ]
     },
     "metadata": {},
     "output_type": "display_data"
    },
    {
     "data": {
      "text/plain": [
       "'Net present value: 1445.7810751838697'"
      ]
     },
     "metadata": {},
     "output_type": "display_data"
    },
    {
     "data": {
      "text/plain": [
       "'Foreign leg PV in FGN: 18992116.55509414'"
      ]
     },
     "metadata": {},
     "output_type": "display_data"
    },
    {
     "data": {
      "text/plain": [
       "'Implied FGN discount factor: 0.9995850818470602'"
      ]
     },
     "metadata": {},
     "output_type": "display_data"
    }
   ],
   "source": [
    "def manual_valuation():\n",
    "    # Estimate DOM discount factor using linear interpolation:\n",
    "    rfr = 0.05\n",
    "    df_1m = math.exp(-30 / 360 * rfr * 1)\n",
    "    df_2m = math.exp(-30 / 360 * rfr * 2)\n",
    "    plus30 = valuation_date + timedelta(days=30)\n",
    "    plus60 = valuation_date + timedelta(days=60)\n",
    "    d1 = (maturity_date - plus30).days\n",
    "    d2 = (plus60 - maturity_date).days\n",
    "    df_interpolated = (d2 * df_1m + d1 * df_2m) / (d1 + d2)\n",
    "    display(f\"Interpolated discount factor: {df_interpolated}\")\n",
    "\n",
    "    # Estimate forward rate from curve\n",
    "    fwd_1m = 187.67\n",
    "    fwd_2m = 186.93\n",
    "    fwd_interpolated = (13 * fwd_1m + 15 * fwd_2m) / 28\n",
    "    display(f\"Interpolated forward rate: {fwd_interpolated}\")\n",
    "\n",
    "    # Domestic leg PV\n",
    "    dom_pv = -100_000 * df_interpolated\n",
    "    display(f\"Domestic leg PV: {dom_pv}\")\n",
    "\n",
    "    # Foreign leg PV in DOM\n",
    "    fgn_pv = (19_000_000 * df_interpolated) / fwd_interpolated\n",
    "    net_pv = dom_pv + fgn_pv\n",
    "    display(f\"Foreign leg PV in DOM: {fgn_pv}\")\n",
    "    display(f\"Net present value: {net_pv}\")\n",
    "\n",
    "    # Foreign leg PV in FGN:\n",
    "    spot = 188.5\n",
    "    fgn_leg_price = fgn_pv * spot\n",
    "    display(f\"Foreign leg PV in FGN: {fgn_leg_price}\")\n",
    "\n",
    "    # The FGN discount factor implied by the DOM discount, assuming no arbitrage opportunities\n",
    "    implied_fgn_df = df_interpolated * spot / fwd_interpolated\n",
    "    display(f\"Implied FGN discount factor: {implied_fgn_df}\")\n",
    "\n",
    "\n",
    "manual_valuation()"
   ]
  },
  {
   "cell_type": "markdown",
   "metadata": {},
   "source": [
    "#### FX Forward Curve - No Split\n",
    "\n",
    "The result below shows the valuation of the FX forward in LUSID using a GBPJPY forward rates curve, a GBP discount factor curve and a GBPJPY spot rate. The calculation is explained above."
   ]
  },
  {
   "cell_type": "code",
   "execution_count": 118,
   "metadata": {},
   "outputs": [
    {
     "data": {
      "text/html": [
       "<div>\n",
       "<style scoped>\n",
       "    .dataframe tbody tr th:only-of-type {\n",
       "        vertical-align: middle;\n",
       "    }\n",
       "\n",
       "    .dataframe tbody tr th {\n",
       "        vertical-align: top;\n",
       "    }\n",
       "\n",
       "    .dataframe thead th {\n",
       "        text-align: right;\n",
       "    }\n",
       "</style>\n",
       "<table border=\"1\" class=\"dataframe\">\n",
       "  <thead>\n",
       "    <tr style=\"text-align: right;\">\n",
       "      <th></th>\n",
       "      <th>Instrument/CoreData/Name</th>\n",
       "      <th>Instrument/CoreData/StartDate</th>\n",
       "      <th>Instrument/CoreData/MaturityDate</th>\n",
       "      <th>Valuation/LegIdentifier</th>\n",
       "      <th>Valuation/PV</th>\n",
       "      <th>Valuation/PV/Ccy</th>\n",
       "      <th>Valuation/PvInReportCcy</th>\n",
       "    </tr>\n",
       "  </thead>\n",
       "  <tbody>\n",
       "    <tr>\n",
       "      <th>0</th>\n",
       "      <td>GBPJPY 6M Forward</td>\n",
       "      <td>2024-06-03</td>\n",
       "      <td>2024-12-03</td>\n",
       "      <td>None</td>\n",
       "      <td>1,445.7783</td>\n",
       "      <td>GBP</td>\n",
       "      <td>1,445.7783</td>\n",
       "    </tr>\n",
       "  </tbody>\n",
       "</table>\n",
       "</div>"
      ],
      "text/plain": [
       "  Instrument/CoreData/Name Instrument/CoreData/StartDate  \\\n",
       "0        GBPJPY 6M Forward                    2024-06-03   \n",
       "\n",
       "  Instrument/CoreData/MaturityDate Valuation/LegIdentifier  Valuation/PV  \\\n",
       "0                       2024-12-03                    None    1,445.7783   \n",
       "\n",
       "  Valuation/PV/Ccy  Valuation/PvInReportCcy  \n",
       "0              GBP               1,445.7783  "
      ]
     },
     "metadata": {},
     "output_type": "display_data"
    }
   ],
   "source": [
    "# Not split by legs\n",
    "valuation_df = get_daily_valuation(\n",
    "    market_data_scope=market_data_scope, date=valuation_date, recipe_code=recipe_code\n",
    ")\n",
    "\n",
    "display(valuation_df)"
   ]
  },
  {
   "cell_type": "markdown",
   "metadata": {},
   "source": [
    "#### FX Forward Curve - Split By Legs\n",
    "\n",
    "The result below shows the valuation of the FX forward in LUSID using a GBPJPY forward rates curve, a GBP discount factor curve and a GBPJPY spot rate. To produce separate results for each leg, we require a JPYGBP spot rate quote to convert the PV of the foreign leg to the report currency GBP. The calculation is demonstrated above."
   ]
  },
  {
   "cell_type": "code",
   "execution_count": 119,
   "metadata": {},
   "outputs": [
    {
     "data": {
      "text/plain": [
       "'Quotes successfully loaded into LUSID. 1 quotes upserted.'"
      ]
     },
     "metadata": {},
     "output_type": "display_data"
    }
   ],
   "source": [
    "spot_rate_jpygbp = 0.00531\n",
    "quote_jpy_gbp = lm.UpsertQuoteRequest(\n",
    "    quote_id=lm.QuoteId(\n",
    "        quote_series_id=lm.QuoteSeriesId(\n",
    "            provider=\"Lusid\",\n",
    "            instrument_id=\"JPY/GBP\",\n",
    "            instrument_id_type=\"CurrencyPair\",\n",
    "            quote_type=\"Price\",\n",
    "            field=\"mid\",\n",
    "        ),\n",
    "        effective_at=valuation_date.isoformat(),\n",
    "    ),\n",
    "    metric_value=lm.MetricValue(value=spot_rate_jpygbp, unit=\"rate\"),\n",
    "    lineage=\"InternalSystem\",\n",
    ")\n",
    "\n",
    "upsert_quotes(scope=market_data_scope, quotes=[quote_jpy_gbp])"
   ]
  },
  {
   "cell_type": "code",
   "execution_count": 120,
   "metadata": {},
   "outputs": [
    {
     "data": {
      "text/html": [
       "<div>\n",
       "<style scoped>\n",
       "    .dataframe tbody tr th:only-of-type {\n",
       "        vertical-align: middle;\n",
       "    }\n",
       "\n",
       "    .dataframe tbody tr th {\n",
       "        vertical-align: top;\n",
       "    }\n",
       "\n",
       "    .dataframe thead th {\n",
       "        text-align: right;\n",
       "    }\n",
       "</style>\n",
       "<table border=\"1\" class=\"dataframe\">\n",
       "  <thead>\n",
       "    <tr style=\"text-align: right;\">\n",
       "      <th></th>\n",
       "      <th>Instrument/CoreData/Name</th>\n",
       "      <th>Instrument/CoreData/StartDate</th>\n",
       "      <th>Instrument/CoreData/MaturityDate</th>\n",
       "      <th>Valuation/LegIdentifier</th>\n",
       "      <th>Valuation/PV</th>\n",
       "      <th>Valuation/PV/Ccy</th>\n",
       "      <th>Valuation/PvInReportCcy</th>\n",
       "    </tr>\n",
       "  </thead>\n",
       "  <tbody>\n",
       "    <tr>\n",
       "      <th>0</th>\n",
       "      <td>GBPJPY 6M Forward</td>\n",
       "      <td>2024-06-03</td>\n",
       "      <td>2024-12-03</td>\n",
       "      <td>DomesticLeg</td>\n",
       "      <td>-99,307.9612</td>\n",
       "      <td>GBP</td>\n",
       "      <td>-99,307.9612</td>\n",
       "    </tr>\n",
       "    <tr>\n",
       "      <th>1</th>\n",
       "      <td>GBPJPY 6M Forward</td>\n",
       "      <td>2024-06-03</td>\n",
       "      <td>2024-12-03</td>\n",
       "      <td>ForeignLeg</td>\n",
       "      <td>18,992,079.9022</td>\n",
       "      <td>JPY</td>\n",
       "      <td>100,847.9443</td>\n",
       "    </tr>\n",
       "  </tbody>\n",
       "</table>\n",
       "</div>"
      ],
      "text/plain": [
       "  Instrument/CoreData/Name Instrument/CoreData/StartDate  \\\n",
       "0        GBPJPY 6M Forward                    2024-06-03   \n",
       "1        GBPJPY 6M Forward                    2024-06-03   \n",
       "\n",
       "  Instrument/CoreData/MaturityDate Valuation/LegIdentifier    Valuation/PV  \\\n",
       "0                       2024-12-03             DomesticLeg    -99,307.9612   \n",
       "1                       2024-12-03              ForeignLeg 18,992,079.9022   \n",
       "\n",
       "  Valuation/PV/Ccy  Valuation/PvInReportCcy  \n",
       "0              GBP             -99,307.9612  \n",
       "1              JPY             100,847.9443  "
      ]
     },
     "metadata": {},
     "output_type": "display_data"
    }
   ],
   "source": [
    "valuation_split_df = get_daily_valuation(\n",
    "    market_data_scope=market_data_scope,\n",
    "    date=valuation_date,\n",
    "    recipe_code=recipe_code_split,\n",
    ")\n",
    "\n",
    "display(valuation_split_df)"
   ]
  },
  {
   "cell_type": "markdown",
   "metadata": {},
   "source": [
    "As in the forward curve undiscounted example, note that the sum of the PVs in report currency of the two legs does not equal the net valuation above. This is purely due to rounding on the inverse quote JPYGBP and the difference in the valuations is small relative to the notional of the forward. Here we have the freedom to upsert inconsistent quotes, so we need to take care that market data is valid and reasonable."
   ]
  },
  {
   "cell_type": "code",
   "execution_count": 121,
   "metadata": {},
   "outputs": [
    {
     "data": {
      "text/plain": [
       "'Sum of leg PVs in report CCY = 1539.9830314317078'"
      ]
     },
     "metadata": {},
     "output_type": "display_data"
    },
    {
     "data": {
      "text/plain": [
       "1539.983080681981"
      ]
     },
     "metadata": {},
     "output_type": "display_data"
    }
   ],
   "source": [
    "# Net value derived from the sum of the two legs\n",
    "leg_sum = valuation_split_df[\"Valuation/PvInReportCcy\"].sum()\n",
    "display(f\"Sum of leg PVs in report CCY = {leg_sum}\")\n",
    "\n",
    "# Valuation based on spot rate JPYGBP = 0.00571 is consistent with the sum of leg PVs\n",
    "display(18_992_079.9022 * 0.00531 - 99_307.9612)"
   ]
  },
  {
   "cell_type": "code",
   "execution_count": 122,
   "metadata": {},
   "outputs": [
    {
     "data": {
      "text/plain": [
       "'Net PV in report CCY = 1445.7782849674238'"
      ]
     },
     "metadata": {},
     "output_type": "display_data"
    },
    {
     "data": {
      "text/plain": [
       "1445.7783342174953"
      ]
     },
     "metadata": {},
     "output_type": "display_data"
    }
   ],
   "source": [
    "# Using the exact inverse rate leads to the same result as the net valuation.\n",
    "net_value = valuation_df[\"Valuation/PvInReportCcy\"].sum()\n",
    "display(f\"Net PV in report CCY = {net_value}\")\n",
    "display(18_992_079.9022 * (1 / 188.5) - 99_307.9612)"
   ]
  },
  {
   "cell_type": "markdown",
   "metadata": {},
   "source": [
    "### 2.5 Forward With Points Undiscounted"
   ]
  },
  {
   "cell_type": "markdown",
   "metadata": {},
   "source": [
    "The `ForwardWithPointsUndiscounted` pricer uses the spot rate and a forward points quote to calculate a forward rate, which is used as in the other models to value the FX forward. This is an undiscounted model, so the present value of £1 in the future is always £1. The same results can be achieved by using a constant forward points curve with the `ForwardFromCurveUndiscounted` model."
   ]
  },
  {
   "cell_type": "markdown",
   "metadata": {},
   "source": [
    "We now explain the methodology used to value an FX forward for a currency pair DOMFGN using the `ForwardWithPointsUndiscounted` model, assuming `convert_to_report_ccy=False`. Let `Cf` and `Cd` denote the foreign and domestic amounts on the forward respectively. Assume we are given a spot rate `DOMFGN = S` and a number of forward points `p`. The effective forward rate is calculated as `F = S + p / 10,000`. The PV of the domestic leg in the domestic currency is `Cd`, since we are assuming no discounting. The PV of the foreign leg in the domestic currency is given by dividing the foreign amount by the forward rate `F`, so `Fgn leg PV in DOM = Cf / F = Cf / (S + p / 10,000)`. The net present value of the forward is the sum of the PVs of the legs in the domestic currency, so `net PV in DOM = Cd + Cf / F`. The PV of the foreign leg in the foreign currency is converted from the leg PV in the domestic currency at the spot rate, so `Fgn leg PV in FGN = (Cf / F) * S = Cf * S / (S + p / 10,000)`. This calculation is shown below with the same FX forward definition and market data as in the valuation performed through LUSID below."
   ]
  },
  {
   "cell_type": "code",
   "execution_count": 123,
   "metadata": {},
   "outputs": [
    {
     "data": {
      "text/plain": [
       "'Effective forward rate GBPJPY: 190.03'"
      ]
     },
     "metadata": {},
     "output_type": "display_data"
    },
    {
     "data": {
      "text/plain": [
       "'Domestic leg PV (GBP): -100000'"
      ]
     },
     "metadata": {},
     "output_type": "display_data"
    },
    {
     "data": {
      "text/plain": [
       "'Foreign leg PV (GBP): 99984.213018997'"
      ]
     },
     "metadata": {},
     "output_type": "display_data"
    },
    {
     "data": {
      "text/plain": [
       "'Foreign PV (JPY): 19107982.95006052'"
      ]
     },
     "metadata": {},
     "output_type": "display_data"
    },
    {
     "data": {
      "text/plain": [
       "'Net PV (GBP): -15.786981002995162'"
      ]
     },
     "metadata": {},
     "output_type": "display_data"
    }
   ],
   "source": [
    "def manual_valuation():\n",
    "    dom_amt = -100_000\n",
    "    fgn_amt = 19_000_000\n",
    "    fwd_points = -108 * 100\n",
    "    spot_gbpjpy = 191.11\n",
    "\n",
    "    # Calculate forward rate from spot rate and forward points.\n",
    "    effective_fwd_rate = spot_gbpjpy + fwd_points / 10_000\n",
    "    display(f\"Effective forward rate GBPJPY: {effective_fwd_rate}\")\n",
    "\n",
    "    # Calculate individual leg PVs in GBP\n",
    "    dom_pv = dom_amt\n",
    "    fgn_pv_in_gbp = fgn_amt / effective_fwd_rate\n",
    "    display(f\"Domestic leg PV (GBP): {dom_pv}\")\n",
    "    display(f\"Foreign leg PV (GBP): {fgn_pv_in_gbp}\")\n",
    "\n",
    "    # Calculate foreign leg PV in the foreign currency, converted at spot.\n",
    "    fgn_pv_in_jpy = fgn_pv_in_gbp * spot_gbpjpy\n",
    "    display(f\"Foreign PV (JPY): {fgn_pv_in_jpy}\")\n",
    "\n",
    "    # Calculate net PV of the forward in GBP\n",
    "    net_pv = dom_pv + fgn_pv_in_gbp\n",
    "    display(f\"Net PV (GBP): {net_pv}\")\n",
    "\n",
    "\n",
    "manual_valuation()"
   ]
  },
  {
   "cell_type": "markdown",
   "metadata": {},
   "source": [
    "Now create the market data context and valuation recipes to perform net and individual leg valuations."
   ]
  },
  {
   "cell_type": "code",
   "execution_count": 124,
   "metadata": {},
   "outputs": [],
   "source": [
    "# Create market context\n",
    "market_data_scope = \"fx-forward-pricing-fwd-points-undiscounted\"\n",
    "market_context = create_market_context(\n",
    "    scope=market_data_scope,\n",
    "    market_rules=[\n",
    "        # Market data rule for resolving FX spot rates\n",
    "        lm.MarketDataKeyRule(\n",
    "            key=\"Fx.*.*\",\n",
    "            data_scope=market_data_scope,\n",
    "            supplier=market_supplier,\n",
    "            quote_type=\"Rate\",\n",
    "            field=\"mid\",\n",
    "        ),\n",
    "        # Market data rule for resolving forward points quote\n",
    "        lm.MarketDataKeyRule(\n",
    "            key=\"Quote.LusidInstrumentId.*\",\n",
    "            data_scope=market_data_scope,\n",
    "            supplier=market_supplier,\n",
    "            quote_type=\"Price\",\n",
    "            field=\"mid\",\n",
    "        ),\n",
    "    ],\n",
    ")\n",
    "\n",
    "# Not split by legs\n",
    "pricing_context = lm.PricingContext(\n",
    "    model_rules=[\n",
    "        lm.VendorModelRule(\n",
    "            supplier=market_supplier,\n",
    "            model_name=\"ForwardWithPointsUndiscounted\",\n",
    "            instrument_type=\"FxForward\",\n",
    "        )\n",
    "    ],\n",
    "    options=lm.PricingOptions(produce_separate_result_for_linear_otc_legs=False),\n",
    ")\n",
    "\n",
    "recipe_code = \"forward-points-undiscounted-no-split\"\n",
    "pricing_recipe = lm.ConfigurationRecipe(\n",
    "    scope=market_data_scope,\n",
    "    code=recipe_code,\n",
    "    description=\"Forward with points undiscounted\",\n",
    "    market=market_context,\n",
    "    pricing=pricing_context,\n",
    ")\n",
    "\n",
    "upsert_recipe(pricing_recipe)\n",
    "\n",
    "\n",
    "# Split by legs\n",
    "pricing_context_split = lm.PricingContext(\n",
    "    model_rules=[\n",
    "        lm.VendorModelRule(\n",
    "            supplier=market_supplier,\n",
    "            model_name=\"ForwardWithPointsUndiscounted\",\n",
    "            instrument_type=\"FxForward\",\n",
    "        )\n",
    "    ],\n",
    "    options=lm.PricingOptions(produce_separate_result_for_linear_otc_legs=True),\n",
    ")\n",
    "\n",
    "recipe_code_split = \"forward-points-undiscounted-split\"\n",
    "pricing_recipe_split = lm.ConfigurationRecipe(\n",
    "    scope=market_data_scope,\n",
    "    code=recipe_code_split,\n",
    "    description=\"Forward points undiscounted, split by legs\",\n",
    "    market=market_context,\n",
    "    pricing=pricing_context_split,\n",
    ")\n",
    "\n",
    "upsert_recipe(pricing_recipe_split)"
   ]
  },
  {
   "cell_type": "markdown",
   "metadata": {},
   "source": [
    "Now we upsert a spot rate quote and a forward points quote to run a single line valuation. "
   ]
  },
  {
   "cell_type": "code",
   "execution_count": 125,
   "metadata": {},
   "outputs": [
    {
     "data": {
      "text/plain": [
       "'Quotes successfully loaded into LUSID. 2 quotes upserted.'"
      ]
     },
     "metadata": {},
     "output_type": "display_data"
    }
   ],
   "source": [
    "fwd_points_gbpjpy = -108 * 100  # Scale factor of 100 required for JPY.\n",
    "quote_fwd_points_gbpjpy = lm.UpsertQuoteRequest(\n",
    "    quote_id=lm.QuoteId(\n",
    "        quote_series_id=lm.QuoteSeriesId(\n",
    "            provider=\"Lusid\",\n",
    "            instrument_id=\"GBP/JPY/Points/20241203\",\n",
    "            instrument_id_type=\"LusidInstrumentId\",\n",
    "            quote_type=\"Price\",\n",
    "            field=\"mid\",\n",
    "        ),\n",
    "        effective_at=valuation_date.isoformat(),\n",
    "    ),\n",
    "    metric_value=lm.MetricValue(value=fwd_points_gbpjpy, unit=\"rate\"),\n",
    "    lineage=\"InternalSystem\",\n",
    ")\n",
    "\n",
    "spot_rate_gbpjpy = 191.11\n",
    "quote_gbp_jpy = lm.UpsertQuoteRequest(\n",
    "    quote_id=lm.QuoteId(\n",
    "        quote_series_id=lm.QuoteSeriesId(\n",
    "            provider=\"Lusid\",\n",
    "            instrument_id=\"GBP/JPY\",\n",
    "            instrument_id_type=\"CurrencyPair\",\n",
    "            quote_type=\"Price\",\n",
    "            field=\"mid\",\n",
    "        ),\n",
    "        effective_at=valuation_date.isoformat(),\n",
    "    ),\n",
    "    metric_value=lm.MetricValue(value=spot_rate_gbpjpy, unit=\"rate\"),\n",
    "    lineage=\"InternalSystem\",\n",
    ")\n",
    "\n",
    "upsert_quotes(scope=market_data_scope, quotes=[quote_fwd_points_gbpjpy, quote_gbp_jpy])"
   ]
  },
  {
   "cell_type": "markdown",
   "metadata": {},
   "source": [
    "#### Forward With Points Undiscounted - No Split\n",
    "\n",
    "Now we obtain a net valuation of the FX forward through LUSID. Observe that the PV is the same as given the the manual calculation at the beginning of this example."
   ]
  },
  {
   "cell_type": "code",
   "execution_count": 126,
   "metadata": {},
   "outputs": [
    {
     "data": {
      "text/html": [
       "<div>\n",
       "<style scoped>\n",
       "    .dataframe tbody tr th:only-of-type {\n",
       "        vertical-align: middle;\n",
       "    }\n",
       "\n",
       "    .dataframe tbody tr th {\n",
       "        vertical-align: top;\n",
       "    }\n",
       "\n",
       "    .dataframe thead th {\n",
       "        text-align: right;\n",
       "    }\n",
       "</style>\n",
       "<table border=\"1\" class=\"dataframe\">\n",
       "  <thead>\n",
       "    <tr style=\"text-align: right;\">\n",
       "      <th></th>\n",
       "      <th>Instrument/CoreData/Name</th>\n",
       "      <th>Instrument/CoreData/StartDate</th>\n",
       "      <th>Instrument/CoreData/MaturityDate</th>\n",
       "      <th>Valuation/LegIdentifier</th>\n",
       "      <th>Valuation/PV</th>\n",
       "      <th>Valuation/PV/Ccy</th>\n",
       "      <th>Valuation/PvInReportCcy</th>\n",
       "    </tr>\n",
       "  </thead>\n",
       "  <tbody>\n",
       "    <tr>\n",
       "      <th>0</th>\n",
       "      <td>GBPJPY 6M Forward</td>\n",
       "      <td>2024-06-03</td>\n",
       "      <td>2024-12-03</td>\n",
       "      <td>None</td>\n",
       "      <td>-15.7870</td>\n",
       "      <td>GBP</td>\n",
       "      <td>-15.7870</td>\n",
       "    </tr>\n",
       "  </tbody>\n",
       "</table>\n",
       "</div>"
      ],
      "text/plain": [
       "  Instrument/CoreData/Name Instrument/CoreData/StartDate  \\\n",
       "0        GBPJPY 6M Forward                    2024-06-03   \n",
       "\n",
       "  Instrument/CoreData/MaturityDate Valuation/LegIdentifier  Valuation/PV  \\\n",
       "0                       2024-12-03                    None      -15.7870   \n",
       "\n",
       "  Valuation/PV/Ccy  Valuation/PvInReportCcy  \n",
       "0              GBP                 -15.7870  "
      ]
     },
     "execution_count": 126,
     "metadata": {},
     "output_type": "execute_result"
    }
   ],
   "source": [
    "valuation_df = get_daily_valuation(\n",
    "    market_data_scope=market_data_scope,\n",
    "    date=valuation_date,\n",
    "    recipe_code=recipe_code,\n",
    ")\n",
    "\n",
    "valuation_df"
   ]
  },
  {
   "cell_type": "markdown",
   "metadata": {},
   "source": [
    "#### Forward With Points Undiscounted - Split By Legs\n",
    "\n",
    "Now we use the pricing recipe with the `produce_separate_result_for_linear_otc_legs=True` option to run a valuation with a separate valuation for each leg of the FX forward. In order to report the PV of the foreign leg in the foreign currency, we require a JPYGBP spot rate. The PV of each leg displayed in the table below is the same as given by the manual calculation at the beginning of this example."
   ]
  },
  {
   "cell_type": "code",
   "execution_count": 127,
   "metadata": {},
   "outputs": [
    {
     "data": {
      "text/plain": [
       "'Quotes successfully loaded into LUSID. 1 quotes upserted.'"
      ]
     },
     "metadata": {},
     "output_type": "display_data"
    }
   ],
   "source": [
    "spot_rate_jpygbp = 1 / 191.11\n",
    "quote_jpy_gbp = lm.UpsertQuoteRequest(\n",
    "    quote_id=lm.QuoteId(\n",
    "        quote_series_id=lm.QuoteSeriesId(\n",
    "            provider=\"Lusid\",\n",
    "            instrument_id=\"JPY/GBP\",\n",
    "            instrument_id_type=\"CurrencyPair\",\n",
    "            quote_type=\"Price\",\n",
    "            field=\"mid\",\n",
    "        ),\n",
    "        effective_at=valuation_date.isoformat(),\n",
    "    ),\n",
    "    metric_value=lm.MetricValue(value=spot_rate_jpygbp, unit=\"rate\"),\n",
    "    lineage=\"InternalSystem\",\n",
    ")\n",
    "\n",
    "upsert_quotes(scope=market_data_scope, quotes=[quote_jpy_gbp])"
   ]
  },
  {
   "cell_type": "code",
   "execution_count": 128,
   "metadata": {},
   "outputs": [
    {
     "data": {
      "text/html": [
       "<div>\n",
       "<style scoped>\n",
       "    .dataframe tbody tr th:only-of-type {\n",
       "        vertical-align: middle;\n",
       "    }\n",
       "\n",
       "    .dataframe tbody tr th {\n",
       "        vertical-align: top;\n",
       "    }\n",
       "\n",
       "    .dataframe thead th {\n",
       "        text-align: right;\n",
       "    }\n",
       "</style>\n",
       "<table border=\"1\" class=\"dataframe\">\n",
       "  <thead>\n",
       "    <tr style=\"text-align: right;\">\n",
       "      <th></th>\n",
       "      <th>Instrument/CoreData/Name</th>\n",
       "      <th>Instrument/CoreData/StartDate</th>\n",
       "      <th>Instrument/CoreData/MaturityDate</th>\n",
       "      <th>Valuation/LegIdentifier</th>\n",
       "      <th>Valuation/PV</th>\n",
       "      <th>Valuation/PV/Ccy</th>\n",
       "      <th>Valuation/PvInReportCcy</th>\n",
       "    </tr>\n",
       "  </thead>\n",
       "  <tbody>\n",
       "    <tr>\n",
       "      <th>0</th>\n",
       "      <td>GBPJPY 6M Forward</td>\n",
       "      <td>2024-06-03</td>\n",
       "      <td>2024-12-03</td>\n",
       "      <td>DomesticLeg</td>\n",
       "      <td>-100,000.0000</td>\n",
       "      <td>GBP</td>\n",
       "      <td>-100,000.0000</td>\n",
       "    </tr>\n",
       "    <tr>\n",
       "      <th>1</th>\n",
       "      <td>GBPJPY 6M Forward</td>\n",
       "      <td>2024-06-03</td>\n",
       "      <td>2024-12-03</td>\n",
       "      <td>ForeignLeg</td>\n",
       "      <td>19,107,982.9501</td>\n",
       "      <td>JPY</td>\n",
       "      <td>99,984.2130</td>\n",
       "    </tr>\n",
       "  </tbody>\n",
       "</table>\n",
       "</div>"
      ],
      "text/plain": [
       "  Instrument/CoreData/Name Instrument/CoreData/StartDate  \\\n",
       "0        GBPJPY 6M Forward                    2024-06-03   \n",
       "1        GBPJPY 6M Forward                    2024-06-03   \n",
       "\n",
       "  Instrument/CoreData/MaturityDate Valuation/LegIdentifier    Valuation/PV  \\\n",
       "0                       2024-12-03             DomesticLeg   -100,000.0000   \n",
       "1                       2024-12-03              ForeignLeg 19,107,982.9501   \n",
       "\n",
       "  Valuation/PV/Ccy  Valuation/PvInReportCcy  \n",
       "0              GBP            -100,000.0000  \n",
       "1              JPY              99,984.2130  "
      ]
     },
     "execution_count": 128,
     "metadata": {},
     "output_type": "execute_result"
    }
   ],
   "source": [
    "valuation_df_split = get_daily_valuation(\n",
    "    market_data_scope=market_data_scope,\n",
    "    date=valuation_date,\n",
    "    recipe_code=recipe_code_split,\n",
    ")\n",
    "\n",
    "valuation_df_split"
   ]
  },
  {
   "cell_type": "markdown",
   "metadata": {},
   "source": [
    "### 2.6 Forward With Points\n",
    "\n",
    "The `ForwardWithPoints` pricer uses the spot rate and a forward points quote to calculate a forward rate, which is used as in the other models to value the FX forward, along with a discount rates curve. The same results can be achieved by using a constant forward points curve with the `ForwardFromCurve` model.\n",
    "\n",
    "We now explain the methodology used to value an FX forward for a currency pair DOMFGN using the `ForwardWithPoints` model, assuming `convert_to_report_ccy=False`. Let `Cf` and `Cd` denote the foreign and domestic amounts on the forward respectively. Assume we are given a spot rate `DOMFGN = S` and a number of forward points `p`. This model also requires a discount factor curve in the domestic currency and we denote the discount factor for the maturity date by `D`. The expressions used to calculate the results are shown in the table below:\n",
    "\n",
    "| Result             | Expression         |\n",
    "| ------------------ | ------------------ |\n",
    "| DfDom              | D                  |\n",
    "| FxFwdRate          | F = S + p / 10,000 |\n",
    "| DomLegPrice (DOM)  | Cd * D             |\n",
    "| FGN leg PV in DOM* | (Cf / F) * D       |\n",
    "| PV (DOM)           | (Cd + Cf / F) * D  |\n",
    "| FgnLegPrice (FGN)  | (Cf / F) * D * S   |\n",
    "| DfFgn              | D * S / F          |\n",
    "\n",
    "_*Intermediate result not returned to the user._"
   ]
  },
  {
   "cell_type": "code",
   "execution_count": 129,
   "metadata": {},
   "outputs": [],
   "source": [
    "# Create market context\n",
    "market_data_scope = \"fx-forward-pricing-fwd-points\"\n",
    "market_context = create_market_context(\n",
    "    scope=market_data_scope,\n",
    "    market_rules=[\n",
    "        # Market data rule for resolving FX spot rates\n",
    "        lm.MarketDataKeyRule(\n",
    "            key=\"Fx.*.*\",\n",
    "            data_scope=market_data_scope,\n",
    "            supplier=market_supplier,\n",
    "            quote_type=\"Rate\",\n",
    "            field=\"mid\",\n",
    "        ),\n",
    "        # Market data rule for resolving points quote\n",
    "        lm.MarketDataKeyRule(\n",
    "            key=\"Quote.LusidInstrumentId.*\",\n",
    "            data_scope=market_data_scope,\n",
    "            supplier=market_supplier,\n",
    "            quote_type=\"Price\",\n",
    "            field=\"mid\",\n",
    "        ),\n",
    "        # Market data rule for resolving discount factor curves\n",
    "        lm.MarketDataKeyRule(\n",
    "            key=\"Rates.GBP.GBPOIS\",\n",
    "            supplier=\"Lusid\",\n",
    "            data_scope=market_data_scope,\n",
    "            quote_type=\"Rate\",\n",
    "            field=\"mid\",\n",
    "        ),\n",
    "    ],\n",
    ")\n",
    "\n",
    "# Not split by legs\n",
    "pricing_context = lm.PricingContext(\n",
    "    model_rules=[\n",
    "        lm.VendorModelRule(\n",
    "            supplier=market_supplier,\n",
    "            model_name=\"ForwardWithPoints\",\n",
    "            instrument_type=\"FxForward\",\n",
    "        )\n",
    "    ],\n",
    "    options=lm.PricingOptions(produce_separate_result_for_linear_otc_legs=False),\n",
    ")\n",
    "\n",
    "recipe_code = \"forward-points-no-split\"\n",
    "pricing_recipe = lm.ConfigurationRecipe(\n",
    "    scope=market_data_scope,\n",
    "    code=recipe_code,\n",
    "    description=\"Forward with points\",\n",
    "    market=market_context,\n",
    "    pricing=pricing_context,\n",
    ")\n",
    "\n",
    "upsert_recipe(pricing_recipe)\n",
    "\n",
    "\n",
    "# Split by legs\n",
    "pricing_context_split = lm.PricingContext(\n",
    "    model_rules=[\n",
    "        lm.VendorModelRule(\n",
    "            supplier=market_supplier,\n",
    "            model_name=\"ForwardWithPoints\",\n",
    "            instrument_type=\"FxForward\",\n",
    "        )\n",
    "    ],\n",
    "    options=lm.PricingOptions(produce_separate_result_for_linear_otc_legs=True),\n",
    ")\n",
    "\n",
    "recipe_code_split = \"forward-points-split\"\n",
    "pricing_recipe_split = lm.ConfigurationRecipe(\n",
    "    scope=market_data_scope,\n",
    "    code=recipe_code_split,\n",
    "    description=\"Forward points, split by legs\",\n",
    "    market=market_context,\n",
    "    pricing=pricing_context_split,\n",
    ")\n",
    "\n",
    "upsert_recipe(pricing_recipe_split)"
   ]
  },
  {
   "cell_type": "markdown",
   "metadata": {},
   "source": [
    "Now we upsert a spot rate quote and a forward points quote to run a single line valuation. "
   ]
  },
  {
   "cell_type": "code",
   "execution_count": 130,
   "metadata": {},
   "outputs": [
    {
     "data": {
      "text/plain": [
       "'Quotes successfully loaded into LUSID. 2 quotes upserted.'"
      ]
     },
     "metadata": {},
     "output_type": "display_data"
    }
   ],
   "source": [
    "fwd_points_gbpjpy = -108 * 100  # Scale factor of 100 required for JPY.\n",
    "quote_fwd_points_gbpjpy = lm.UpsertQuoteRequest(\n",
    "    quote_id=lm.QuoteId(\n",
    "        quote_series_id=lm.QuoteSeriesId(\n",
    "            provider=\"Lusid\",\n",
    "            instrument_id=\"GBP/JPY/Points/20241203\",\n",
    "            instrument_id_type=\"LusidInstrumentId\",\n",
    "            quote_type=\"Price\",\n",
    "            field=\"mid\",\n",
    "        ),\n",
    "        effective_at=valuation_date.isoformat(),\n",
    "    ),\n",
    "    metric_value=lm.MetricValue(value=fwd_points_gbpjpy, unit=\"rate\"),\n",
    "    lineage=\"InternalSystem\",\n",
    ")\n",
    "\n",
    "spot_rate_gbpjpy = 191.11\n",
    "quote_gbp_jpy = lm.UpsertQuoteRequest(\n",
    "    quote_id=lm.QuoteId(\n",
    "        quote_series_id=lm.QuoteSeriesId(\n",
    "            provider=\"Lusid\",\n",
    "            instrument_id=\"GBP/JPY\",\n",
    "            instrument_id_type=\"CurrencyPair\",\n",
    "            quote_type=\"Price\",\n",
    "            field=\"mid\",\n",
    "        ),\n",
    "        effective_at=valuation_date.isoformat(),\n",
    "    ),\n",
    "    metric_value=lm.MetricValue(value=spot_rate_gbpjpy, unit=\"rate\"),\n",
    "    lineage=\"InternalSystem\",\n",
    ")\n",
    "\n",
    "upsert_quotes(scope=market_data_scope, quotes=[quote_fwd_points_gbpjpy, quote_gbp_jpy])"
   ]
  },
  {
   "cell_type": "markdown",
   "metadata": {},
   "source": [
    "Now we require a GBP discount curve."
   ]
  },
  {
   "cell_type": "code",
   "execution_count": 131,
   "metadata": {},
   "outputs": [
    {
     "data": {
      "text/plain": [
       "'Quotes successfully loaded into LUSID. 1 quotes upserted.'"
      ]
     },
     "metadata": {},
     "output_type": "display_data"
    }
   ],
   "source": [
    "# DOM currency discount factor curve\n",
    "# Build curve data\n",
    "df_months = 6\n",
    "rfr = 0.05\n",
    "df_dates = [None] * (df_months - 1)\n",
    "dfs = [None] * (df_months - 1)\n",
    "for i in range(1, df_months):\n",
    "    df_dates[i - 1] = (valuation_date + timedelta(days=i * 30)).isoformat()\n",
    "    dfs[i - 1] = math.exp(-30 / 360 * rfr * i)\n",
    "\n",
    "\n",
    "df_curve_data = lm.DiscountFactorCurveData(\n",
    "    base_date=valuation_date.isoformat(),\n",
    "    dates=df_dates,\n",
    "    discount_factors=dfs,\n",
    "    market_data_type=\"DiscountFactorCurveData\",\n",
    ")\n",
    "\n",
    "df_curve_id = lm.ComplexMarketDataId(\n",
    "    provider=\"Lusid\",\n",
    "    price_source=\"\",\n",
    "    effective_at=valuation_date.isoformat(),\n",
    "    market_asset=\"GBP/GBPOIS\",\n",
    ")\n",
    "\n",
    "df_curve_request = lm.UpsertComplexMarketDataRequest(\n",
    "    market_data_id=df_curve_id, market_data=df_curve_data\n",
    ")\n",
    "\n",
    "upsert_complex_market_data(scope=market_data_scope, request=df_curve_request)"
   ]
  },
  {
   "cell_type": "markdown",
   "metadata": {},
   "source": [
    "We now demonstrate the valuation explicitly, using the data from the economic definition of the FX forward and the market data provided above. The methodology is similar to the `ForwardWithPointsUndiscounted` example above, except that we need to calculate the GBP discount factor from the discount factor curve created above. The first step is to estimate the discount factor in the domestic currency to calculate the present value of the domestic leg. This will be estimated using linear interpolation on the points of the discount curve.\n",
    "\n",
    "The points on the discount factor curve we have upserted are at +30 day increments from the valuation date (Mon 14/10/24), so the maturity date falls between the first two points of the curve; the +30 and +60 day increments, which are Wed 13/11/24 and Fri 13/12/24 respectively. Thus there are 20 days from +30 to maturity and 10 days from maturity to +60, so the estimated discount factor will be the 1:2 weighted average of the +30 and +60 day discount factors."
   ]
  },
  {
   "cell_type": "code",
   "execution_count": 132,
   "metadata": {},
   "outputs": [
    {
     "data": {
      "text/plain": [
       "'Interpolated discount factor: 0.9930815290409539'"
      ]
     },
     "metadata": {},
     "output_type": "display_data"
    },
    {
     "data": {
      "text/plain": [
       "'Effective forward rate GBPJPY: 190.03'"
      ]
     },
     "metadata": {},
     "output_type": "display_data"
    },
    {
     "data": {
      "text/plain": [
       "'Domestic leg PV (GBP): -99308.15290409539'"
      ]
     },
     "metadata": {},
     "output_type": "display_data"
    },
    {
     "data": {
      "text/plain": [
       "'Foreign leg PV (GBP): 99292.475144862'"
      ]
     },
     "metadata": {},
     "output_type": "display_data"
    },
    {
     "data": {
      "text/plain": [
       "'Foreign PV (JPY): 18975784.924934577'"
      ]
     },
     "metadata": {},
     "output_type": "display_data"
    },
    {
     "data": {
      "text/plain": [
       "'Net PV (GBP): -15.6777592333965'"
      ]
     },
     "metadata": {},
     "output_type": "display_data"
    }
   ],
   "source": [
    "def manual_valuation():\n",
    "    # Estimate DOM discount factor using linear interpolation:\n",
    "    rfr = 0.05\n",
    "    df_1m = math.exp(-30 / 360 * rfr * 1)\n",
    "    df_2m = math.exp(-30 / 360 * rfr * 2)\n",
    "    plus30 = valuation_date + timedelta(days=30)\n",
    "    plus60 = valuation_date + timedelta(days=60)\n",
    "    d1 = (maturity_date - plus30).days\n",
    "    d2 = (plus60 - maturity_date).days\n",
    "    df_interpolated = (d2 * df_1m + d1 * df_2m) / (d1 + d2)\n",
    "    display(f\"Interpolated discount factor: {df_interpolated}\")\n",
    "\n",
    "    dom_amt = -100_000\n",
    "    fgn_amt = 19_000_000\n",
    "    fwd_points = -108 * 100\n",
    "    spot_gbpjpy = 191.11\n",
    "\n",
    "    # Calculate forward rate from spot rate and forward points.\n",
    "    effective_fwd_rate = spot_gbpjpy + fwd_points / 10_000\n",
    "    display(f\"Effective forward rate GBPJPY: {effective_fwd_rate}\")\n",
    "\n",
    "    # Calculate individual leg PVs in GBP\n",
    "    dom_pv = dom_amt * df_interpolated\n",
    "    fgn_pv_in_gbp = (fgn_amt / effective_fwd_rate) * df_interpolated\n",
    "    display(f\"Domestic leg PV (GBP): {dom_pv}\")\n",
    "    display(f\"Foreign leg PV (GBP): {fgn_pv_in_gbp}\")\n",
    "\n",
    "    # Calculate foreign leg PV in the foreign currency, converted at spot.\n",
    "    fgn_pv_in_jpy = fgn_pv_in_gbp * spot_gbpjpy\n",
    "    display(f\"Foreign PV (JPY): {fgn_pv_in_jpy}\")\n",
    "\n",
    "    # Calculate net PV of the forward in GBP\n",
    "    net_pv = dom_pv + fgn_pv_in_gbp\n",
    "    display(f\"Net PV (GBP): {net_pv}\")\n",
    "\n",
    "\n",
    "manual_valuation()"
   ]
  },
  {
   "cell_type": "markdown",
   "metadata": {},
   "source": [
    "#### Forward With Points - No Split"
   ]
  },
  {
   "cell_type": "code",
   "execution_count": 133,
   "metadata": {},
   "outputs": [
    {
     "data": {
      "text/html": [
       "<div>\n",
       "<style scoped>\n",
       "    .dataframe tbody tr th:only-of-type {\n",
       "        vertical-align: middle;\n",
       "    }\n",
       "\n",
       "    .dataframe tbody tr th {\n",
       "        vertical-align: top;\n",
       "    }\n",
       "\n",
       "    .dataframe thead th {\n",
       "        text-align: right;\n",
       "    }\n",
       "</style>\n",
       "<table border=\"1\" class=\"dataframe\">\n",
       "  <thead>\n",
       "    <tr style=\"text-align: right;\">\n",
       "      <th></th>\n",
       "      <th>Instrument/CoreData/Name</th>\n",
       "      <th>Instrument/CoreData/StartDate</th>\n",
       "      <th>Instrument/CoreData/MaturityDate</th>\n",
       "      <th>Valuation/LegIdentifier</th>\n",
       "      <th>Valuation/PV</th>\n",
       "      <th>Valuation/PV/Ccy</th>\n",
       "      <th>Valuation/PvInReportCcy</th>\n",
       "    </tr>\n",
       "  </thead>\n",
       "  <tbody>\n",
       "    <tr>\n",
       "      <th>0</th>\n",
       "      <td>GBPJPY 6M Forward</td>\n",
       "      <td>2024-06-03</td>\n",
       "      <td>2024-12-03</td>\n",
       "      <td>None</td>\n",
       "      <td>-15.6777</td>\n",
       "      <td>GBP</td>\n",
       "      <td>-15.6777</td>\n",
       "    </tr>\n",
       "  </tbody>\n",
       "</table>\n",
       "</div>"
      ],
      "text/plain": [
       "  Instrument/CoreData/Name Instrument/CoreData/StartDate  \\\n",
       "0        GBPJPY 6M Forward                    2024-06-03   \n",
       "\n",
       "  Instrument/CoreData/MaturityDate Valuation/LegIdentifier  Valuation/PV  \\\n",
       "0                       2024-12-03                    None      -15.6777   \n",
       "\n",
       "  Valuation/PV/Ccy  Valuation/PvInReportCcy  \n",
       "0              GBP                 -15.6777  "
      ]
     },
     "execution_count": 133,
     "metadata": {},
     "output_type": "execute_result"
    }
   ],
   "source": [
    "valuation_df = get_daily_valuation(\n",
    "    market_data_scope=market_data_scope,\n",
    "    date=valuation_date,\n",
    "    recipe_code=recipe_code,\n",
    ")\n",
    "\n",
    "valuation_df"
   ]
  },
  {
   "cell_type": "markdown",
   "metadata": {},
   "source": [
    "#### Forward With Points - Split By Legs\n",
    "\n",
    "We now create and upsert a JPYGBP spot rate quote, which is required to convert the PV of the foreign leg back to the report currency GBP."
   ]
  },
  {
   "cell_type": "code",
   "execution_count": 134,
   "metadata": {},
   "outputs": [
    {
     "data": {
      "text/plain": [
       "'Quotes successfully loaded into LUSID. 1 quotes upserted.'"
      ]
     },
     "metadata": {},
     "output_type": "display_data"
    }
   ],
   "source": [
    "spot_rate_jpygbp = 1 / 191.11\n",
    "quote_jpy_gbp = lm.UpsertQuoteRequest(\n",
    "    quote_id=lm.QuoteId(\n",
    "        quote_series_id=lm.QuoteSeriesId(\n",
    "            provider=\"Lusid\",\n",
    "            instrument_id=\"JPY/GBP\",\n",
    "            instrument_id_type=\"CurrencyPair\",\n",
    "            quote_type=\"Price\",\n",
    "            field=\"mid\",\n",
    "        ),\n",
    "        effective_at=valuation_date.isoformat(),\n",
    "    ),\n",
    "    metric_value=lm.MetricValue(value=spot_rate_jpygbp, unit=\"rate\"),\n",
    "    lineage=\"InternalSystem\",\n",
    ")\n",
    "\n",
    "upsert_quotes(scope=market_data_scope, quotes=[quote_jpy_gbp])"
   ]
  },
  {
   "cell_type": "code",
   "execution_count": 135,
   "metadata": {},
   "outputs": [
    {
     "data": {
      "text/html": [
       "<div>\n",
       "<style scoped>\n",
       "    .dataframe tbody tr th:only-of-type {\n",
       "        vertical-align: middle;\n",
       "    }\n",
       "\n",
       "    .dataframe tbody tr th {\n",
       "        vertical-align: top;\n",
       "    }\n",
       "\n",
       "    .dataframe thead th {\n",
       "        text-align: right;\n",
       "    }\n",
       "</style>\n",
       "<table border=\"1\" class=\"dataframe\">\n",
       "  <thead>\n",
       "    <tr style=\"text-align: right;\">\n",
       "      <th></th>\n",
       "      <th>Instrument/CoreData/Name</th>\n",
       "      <th>Instrument/CoreData/StartDate</th>\n",
       "      <th>Instrument/CoreData/MaturityDate</th>\n",
       "      <th>Valuation/LegIdentifier</th>\n",
       "      <th>Valuation/PV</th>\n",
       "      <th>Valuation/PV/Ccy</th>\n",
       "      <th>Valuation/PvInReportCcy</th>\n",
       "    </tr>\n",
       "  </thead>\n",
       "  <tbody>\n",
       "    <tr>\n",
       "      <th>0</th>\n",
       "      <td>GBPJPY 6M Forward</td>\n",
       "      <td>2024-06-03</td>\n",
       "      <td>2024-12-03</td>\n",
       "      <td>DomesticLeg</td>\n",
       "      <td>-99,307.9612</td>\n",
       "      <td>GBP</td>\n",
       "      <td>-99,307.9612</td>\n",
       "    </tr>\n",
       "    <tr>\n",
       "      <th>1</th>\n",
       "      <td>GBPJPY 6M Forward</td>\n",
       "      <td>2024-06-03</td>\n",
       "      <td>2024-12-03</td>\n",
       "      <td>ForeignLeg</td>\n",
       "      <td>18,975,748.3035</td>\n",
       "      <td>JPY</td>\n",
       "      <td>99,292.2835</td>\n",
       "    </tr>\n",
       "  </tbody>\n",
       "</table>\n",
       "</div>"
      ],
      "text/plain": [
       "  Instrument/CoreData/Name Instrument/CoreData/StartDate  \\\n",
       "0        GBPJPY 6M Forward                    2024-06-03   \n",
       "1        GBPJPY 6M Forward                    2024-06-03   \n",
       "\n",
       "  Instrument/CoreData/MaturityDate Valuation/LegIdentifier    Valuation/PV  \\\n",
       "0                       2024-12-03             DomesticLeg    -99,307.9612   \n",
       "1                       2024-12-03              ForeignLeg 18,975,748.3035   \n",
       "\n",
       "  Valuation/PV/Ccy  Valuation/PvInReportCcy  \n",
       "0              GBP             -99,307.9612  \n",
       "1              JPY              99,292.2835  "
      ]
     },
     "execution_count": 135,
     "metadata": {},
     "output_type": "execute_result"
    }
   ],
   "source": [
    "valuation_df_split = get_daily_valuation(\n",
    "    market_data_scope=market_data_scope,\n",
    "    date=valuation_date,\n",
    "    recipe_code=recipe_code_split,\n",
    ")\n",
    "\n",
    "valuation_df_split"
   ]
  },
  {
   "cell_type": "markdown",
   "metadata": {},
   "source": [
    "### 2.7 Forward Specified Rate Undiscounted\n",
    "\n",
    "The `ForwardSpecifiedRateUndiscounted` pricer uses an FX forward rate quote along with a spot rate quote to value the FX forward. This is an undiscounted model, so the present value of £1 in the future is always £1. The same results can be achieved by using a constant forward rates curve with the `ForwardFromCurveUndiscounted` model."
   ]
  },
  {
   "cell_type": "code",
   "execution_count": 136,
   "metadata": {},
   "outputs": [],
   "source": [
    "# Create market context\n",
    "market_data_scope = \"fx-forward-pricing-specified-rate-undiscounted\"\n",
    "market_context = create_market_context(\n",
    "    scope=market_data_scope,\n",
    "    market_rules=[\n",
    "        # Market data rule for resolving FX spot rates\n",
    "        lm.MarketDataKeyRule(\n",
    "            key=\"Fx.*.*\",\n",
    "            data_scope=market_data_scope,\n",
    "            supplier=market_supplier,\n",
    "            quote_type=\"Rate\",\n",
    "            field=\"mid\",\n",
    "            quote_interval=\"5D.0D\",\n",
    "        ),\n",
    "        # Market data rule for resolving forward rate quote\n",
    "        lm.MarketDataKeyRule(\n",
    "            key=\"Quote.LusidInstrumentId.*\",\n",
    "            data_scope=market_data_scope,\n",
    "            supplier=market_supplier,\n",
    "            quote_type=\"Price\",\n",
    "            field=\"mid\",\n",
    "        ),\n",
    "    ],\n",
    ")\n",
    "\n",
    "# Not split by legs\n",
    "pricing_context = lm.PricingContext(\n",
    "    model_rules=[\n",
    "        lm.VendorModelRule(\n",
    "            supplier=market_supplier,\n",
    "            model_name=\"ForwardSpecifiedRateUndiscounted\",\n",
    "            instrument_type=\"FxForward\",\n",
    "        )\n",
    "    ],\n",
    "    options=lm.PricingOptions(produce_separate_result_for_linear_otc_legs=False),\n",
    ")\n",
    "\n",
    "recipe_code = \"forward-rate-undiscounted-no-split\"\n",
    "pricing_recipe = lm.ConfigurationRecipe(\n",
    "    scope=market_data_scope,\n",
    "    code=recipe_code,\n",
    "    description=\"Forward specified rate undiscounted\",\n",
    "    market=market_context,\n",
    "    pricing=pricing_context,\n",
    ")\n",
    "\n",
    "upsert_recipe(pricing_recipe)\n",
    "\n",
    "\n",
    "# Split by legs\n",
    "pricing_context_split = lm.PricingContext(\n",
    "    model_rules=[\n",
    "        lm.VendorModelRule(\n",
    "            supplier=market_supplier,\n",
    "            model_name=\"ForwardSpecifiedRateUndiscounted\",\n",
    "            instrument_type=\"FxForward\",\n",
    "        )\n",
    "    ],\n",
    "    options=lm.PricingOptions(produce_separate_result_for_linear_otc_legs=True),\n",
    ")\n",
    "\n",
    "recipe_code_split = \"forward-rate-undiscounted-split\"\n",
    "pricing_recipe_split = lm.ConfigurationRecipe(\n",
    "    scope=market_data_scope,\n",
    "    code=recipe_code_split,\n",
    "    description=\"Forward specified rate undiscounted, split by legs\",\n",
    "    market=market_context,\n",
    "    pricing=pricing_context_split,\n",
    ")\n",
    "\n",
    "upsert_recipe(pricing_recipe_split)"
   ]
  },
  {
   "cell_type": "markdown",
   "metadata": {},
   "source": [
    "Now we upsert a forward rate quote and a spot rate quote for GBPJPY to run the single line valuation."
   ]
  },
  {
   "cell_type": "code",
   "execution_count": 137,
   "metadata": {},
   "outputs": [
    {
     "data": {
      "text/plain": [
       "'Quotes successfully loaded into LUSID. 2 quotes upserted.'"
      ]
     },
     "metadata": {},
     "output_type": "display_data"
    }
   ],
   "source": [
    "fwd_rate_gbpjpy = 190.03\n",
    "quote_fwd_gbpjpy = lm.UpsertQuoteRequest(\n",
    "    quote_id=lm.QuoteId(\n",
    "        quote_series_id=lm.QuoteSeriesId(\n",
    "            provider=\"Lusid\",\n",
    "            instrument_id=\"GBP/JPY/FxFwdRate/20241203\",\n",
    "            instrument_id_type=\"LusidInstrumentId\",\n",
    "            quote_type=\"Price\",\n",
    "            field=\"mid\",\n",
    "        ),\n",
    "        effective_at=valuation_date.isoformat(),\n",
    "    ),\n",
    "    metric_value=lm.MetricValue(value=fwd_rate_gbpjpy, unit=\"rate\"),\n",
    "    lineage=\"InternalSystem\",\n",
    ")\n",
    "\n",
    "spot_rate_gbpjpy = 191.11\n",
    "quote_gbp_jpy = lm.UpsertQuoteRequest(\n",
    "    quote_id=lm.QuoteId(\n",
    "        quote_series_id=lm.QuoteSeriesId(\n",
    "            provider=\"Lusid\",\n",
    "            instrument_id=\"GBP/JPY\",\n",
    "            instrument_id_type=\"CurrencyPair\",\n",
    "            quote_type=\"Price\",\n",
    "            field=\"mid\",\n",
    "        ),\n",
    "        effective_at=valuation_date.isoformat(),\n",
    "    ),\n",
    "    metric_value=lm.MetricValue(value=spot_rate_gbpjpy, unit=\"rate\"),\n",
    "    lineage=\"InternalSystem\",\n",
    ")\n",
    "\n",
    "upsert_quotes(scope=market_data_scope, quotes=[quote_fwd_gbpjpy, quote_gbp_jpy])"
   ]
  },
  {
   "cell_type": "markdown",
   "metadata": {},
   "source": [
    "We now demonstrate the valuation explicitly, using the specified forward rate quote created above, assuming no discounting. Since we are assuming no discounting, the PV of the domestic leg is still `-100,000 GBP`. Given a GBPJPY forward rate of `F = 190.03` for maturity date 03/12/2024 effective on the valuation date, the PV of the foreign leg in GBP is `19,000,000 / F = 19,000,000 / 190.03 = 99984.2130 GBP`, which is then converted at the GBPJPY spot rate `S = 191.11` to give the PV of the foreign leg in JPY as `(19,000,000 / F) * S = (19,000,000 / 190.03) * 191.11 = 19107982.9501 JPY`. The net PV is given by the sum of the leg PVs in GBP, which is `-100,000 + 19,000,000 / 190.03 = -15.7870 GBP`. "
   ]
  },
  {
   "cell_type": "code",
   "execution_count": 138,
   "metadata": {},
   "outputs": [
    {
     "data": {
      "text/plain": [
       "'Domestic leg PV (GBP): -100000'"
      ]
     },
     "metadata": {},
     "output_type": "display_data"
    },
    {
     "data": {
      "text/plain": [
       "'Foreign leg PV (GBP): 99984.213018997'"
      ]
     },
     "metadata": {},
     "output_type": "display_data"
    },
    {
     "data": {
      "text/plain": [
       "'Net PV (GBP): -15.786981002995162'"
      ]
     },
     "metadata": {},
     "output_type": "display_data"
    },
    {
     "data": {
      "text/plain": [
       "'Foreign leg PV (JPY): 19107982.95006052'"
      ]
     },
     "metadata": {},
     "output_type": "display_data"
    }
   ],
   "source": [
    "def manual_valuation():\n",
    "    fwd_rate = 190.03\n",
    "    dom_amt = -100_000\n",
    "    fgn_amt = 19_000_000\n",
    "    spot_rate = 191.11\n",
    "\n",
    "    dom_leg_pv_gbp = dom_amt\n",
    "    fgn_leg_pv_gbp = fgn_amt / fwd_rate\n",
    "    net_pv_gbp = dom_leg_pv_gbp + fgn_leg_pv_gbp\n",
    "    display(f\"Domestic leg PV (GBP): {dom_leg_pv_gbp}\")\n",
    "    display(f\"Foreign leg PV (GBP): {fgn_leg_pv_gbp}\")\n",
    "    display(f\"Net PV (GBP): {net_pv_gbp}\")\n",
    "\n",
    "    fgn_leg_pv_jpy = fgn_leg_pv_gbp * spot_rate\n",
    "    display(f\"Foreign leg PV (JPY): {fgn_leg_pv_jpy}\")\n",
    "\n",
    "\n",
    "manual_valuation()"
   ]
  },
  {
   "cell_type": "markdown",
   "metadata": {},
   "source": [
    "#### Forward Specified Rate Undiscounted - No Split"
   ]
  },
  {
   "cell_type": "code",
   "execution_count": 139,
   "metadata": {},
   "outputs": [
    {
     "data": {
      "text/html": [
       "<div>\n",
       "<style scoped>\n",
       "    .dataframe tbody tr th:only-of-type {\n",
       "        vertical-align: middle;\n",
       "    }\n",
       "\n",
       "    .dataframe tbody tr th {\n",
       "        vertical-align: top;\n",
       "    }\n",
       "\n",
       "    .dataframe thead th {\n",
       "        text-align: right;\n",
       "    }\n",
       "</style>\n",
       "<table border=\"1\" class=\"dataframe\">\n",
       "  <thead>\n",
       "    <tr style=\"text-align: right;\">\n",
       "      <th></th>\n",
       "      <th>Instrument/CoreData/Name</th>\n",
       "      <th>Instrument/CoreData/StartDate</th>\n",
       "      <th>Instrument/CoreData/MaturityDate</th>\n",
       "      <th>Valuation/LegIdentifier</th>\n",
       "      <th>Valuation/PV</th>\n",
       "      <th>Valuation/PV/Ccy</th>\n",
       "      <th>Valuation/PvInReportCcy</th>\n",
       "    </tr>\n",
       "  </thead>\n",
       "  <tbody>\n",
       "    <tr>\n",
       "      <th>0</th>\n",
       "      <td>GBPJPY 6M Forward</td>\n",
       "      <td>2024-06-03</td>\n",
       "      <td>2024-12-03</td>\n",
       "      <td>None</td>\n",
       "      <td>-15.7870</td>\n",
       "      <td>GBP</td>\n",
       "      <td>-15.7870</td>\n",
       "    </tr>\n",
       "  </tbody>\n",
       "</table>\n",
       "</div>"
      ],
      "text/plain": [
       "  Instrument/CoreData/Name Instrument/CoreData/StartDate  \\\n",
       "0        GBPJPY 6M Forward                    2024-06-03   \n",
       "\n",
       "  Instrument/CoreData/MaturityDate Valuation/LegIdentifier  Valuation/PV  \\\n",
       "0                       2024-12-03                    None      -15.7870   \n",
       "\n",
       "  Valuation/PV/Ccy  Valuation/PvInReportCcy  \n",
       "0              GBP                 -15.7870  "
      ]
     },
     "execution_count": 139,
     "metadata": {},
     "output_type": "execute_result"
    }
   ],
   "source": [
    "valuation_df = get_daily_valuation(\n",
    "    market_data_scope=market_data_scope,\n",
    "    date=valuation_date,\n",
    "    recipe_code=recipe_code,\n",
    ")\n",
    "\n",
    "valuation_df"
   ]
  },
  {
   "cell_type": "markdown",
   "metadata": {},
   "source": [
    "#### Forward Specified Rate Undiscounted - Split By Legs"
   ]
  },
  {
   "cell_type": "code",
   "execution_count": 140,
   "metadata": {},
   "outputs": [
    {
     "data": {
      "text/plain": [
       "'Quotes successfully loaded into LUSID. 1 quotes upserted.'"
      ]
     },
     "metadata": {},
     "output_type": "display_data"
    }
   ],
   "source": [
    "spot_rate_jpygbp = 1 / 191.11\n",
    "quote_jpy_gbp = lm.UpsertQuoteRequest(\n",
    "    quote_id=lm.QuoteId(\n",
    "        quote_series_id=lm.QuoteSeriesId(\n",
    "            provider=\"Lusid\",\n",
    "            instrument_id=\"JPY/GBP\",\n",
    "            instrument_id_type=\"CurrencyPair\",\n",
    "            quote_type=\"Price\",\n",
    "            field=\"mid\",\n",
    "        ),\n",
    "        effective_at=valuation_date.isoformat(),\n",
    "    ),\n",
    "    metric_value=lm.MetricValue(value=spot_rate_jpygbp, unit=\"rate\"),\n",
    "    lineage=\"InternalSystem\",\n",
    ")\n",
    "\n",
    "upsert_quotes(scope=market_data_scope, quotes=[quote_jpy_gbp])"
   ]
  },
  {
   "cell_type": "code",
   "execution_count": 141,
   "metadata": {},
   "outputs": [
    {
     "data": {
      "text/html": [
       "<div>\n",
       "<style scoped>\n",
       "    .dataframe tbody tr th:only-of-type {\n",
       "        vertical-align: middle;\n",
       "    }\n",
       "\n",
       "    .dataframe tbody tr th {\n",
       "        vertical-align: top;\n",
       "    }\n",
       "\n",
       "    .dataframe thead th {\n",
       "        text-align: right;\n",
       "    }\n",
       "</style>\n",
       "<table border=\"1\" class=\"dataframe\">\n",
       "  <thead>\n",
       "    <tr style=\"text-align: right;\">\n",
       "      <th></th>\n",
       "      <th>Instrument/CoreData/Name</th>\n",
       "      <th>Instrument/CoreData/StartDate</th>\n",
       "      <th>Instrument/CoreData/MaturityDate</th>\n",
       "      <th>Valuation/LegIdentifier</th>\n",
       "      <th>Valuation/PV</th>\n",
       "      <th>Valuation/PV/Ccy</th>\n",
       "      <th>Valuation/PvInReportCcy</th>\n",
       "    </tr>\n",
       "  </thead>\n",
       "  <tbody>\n",
       "    <tr>\n",
       "      <th>0</th>\n",
       "      <td>GBPJPY 6M Forward</td>\n",
       "      <td>2024-06-03</td>\n",
       "      <td>2024-12-03</td>\n",
       "      <td>DomesticLeg</td>\n",
       "      <td>-100,000.0000</td>\n",
       "      <td>GBP</td>\n",
       "      <td>-100,000.0000</td>\n",
       "    </tr>\n",
       "    <tr>\n",
       "      <th>1</th>\n",
       "      <td>GBPJPY 6M Forward</td>\n",
       "      <td>2024-06-03</td>\n",
       "      <td>2024-12-03</td>\n",
       "      <td>ForeignLeg</td>\n",
       "      <td>19,107,982.9501</td>\n",
       "      <td>JPY</td>\n",
       "      <td>99,984.2130</td>\n",
       "    </tr>\n",
       "  </tbody>\n",
       "</table>\n",
       "</div>"
      ],
      "text/plain": [
       "  Instrument/CoreData/Name Instrument/CoreData/StartDate  \\\n",
       "0        GBPJPY 6M Forward                    2024-06-03   \n",
       "1        GBPJPY 6M Forward                    2024-06-03   \n",
       "\n",
       "  Instrument/CoreData/MaturityDate Valuation/LegIdentifier    Valuation/PV  \\\n",
       "0                       2024-12-03             DomesticLeg   -100,000.0000   \n",
       "1                       2024-12-03              ForeignLeg 19,107,982.9501   \n",
       "\n",
       "  Valuation/PV/Ccy  Valuation/PvInReportCcy  \n",
       "0              GBP            -100,000.0000  \n",
       "1              JPY              99,984.2130  "
      ]
     },
     "execution_count": 141,
     "metadata": {},
     "output_type": "execute_result"
    }
   ],
   "source": [
    "valuation_df_split = get_daily_valuation(\n",
    "    market_data_scope=market_data_scope,\n",
    "    date=valuation_date,\n",
    "    recipe_code=recipe_code_split,\n",
    ")\n",
    "\n",
    "valuation_df_split"
   ]
  },
  {
   "cell_type": "markdown",
   "metadata": {},
   "source": [
    "### 2.8 Forward Specified Rate\n",
    "\n",
    "The `ForwardSpecifiedRate` pricer uses an FX forward rate quote, a spot rate quote and a discount rate curve to value the FX forward. The same results can be achieved by using a constant forward rates curve with the `ForwardFromCurve` model."
   ]
  },
  {
   "cell_type": "code",
   "execution_count": 142,
   "metadata": {},
   "outputs": [],
   "source": [
    "# Create market context\n",
    "market_data_scope = \"fx-forward-pricing-specified-forward-rate\"\n",
    "market_context = create_market_context(\n",
    "    scope=market_data_scope,\n",
    "    market_rules=[\n",
    "        # Market data rule for resolving FX spot rates\n",
    "        lm.MarketDataKeyRule(\n",
    "            key=\"Fx.*.*\",\n",
    "            data_scope=market_data_scope,\n",
    "            supplier=market_supplier,\n",
    "            quote_type=\"Rate\",\n",
    "            field=\"mid\",\n",
    "            quote_interval=\"5D.0D\",\n",
    "        ),\n",
    "        # Market data rule for resolving forward rate quote\n",
    "        lm.MarketDataKeyRule(\n",
    "            key=\"Quote.LusidInstrumentId.*\",\n",
    "            data_scope=market_data_scope,\n",
    "            supplier=market_supplier,\n",
    "            quote_type=\"Price\",\n",
    "            field=\"mid\",\n",
    "        ),\n",
    "        # Market data rule for resolving discount factor curves\n",
    "        lm.MarketDataKeyRule(\n",
    "            key=\"Rates.GBP.GBPOIS\",\n",
    "            supplier=\"Lusid\",\n",
    "            data_scope=market_data_scope,\n",
    "            quote_type=\"Rate\",\n",
    "            field=\"mid\",\n",
    "        ),\n",
    "    ],\n",
    ")\n",
    "\n",
    "# Not split by legs\n",
    "pricing_context = lm.PricingContext(\n",
    "    model_rules=[\n",
    "        lm.VendorModelRule(\n",
    "            supplier=market_supplier,\n",
    "            model_name=\"ForwardSpecifiedRate\",\n",
    "            instrument_type=\"FxForward\",\n",
    "        )\n",
    "    ],\n",
    "    options=lm.PricingOptions(produce_separate_result_for_linear_otc_legs=False),\n",
    ")\n",
    "\n",
    "recipe_code = \"forward-rate-no-split\"\n",
    "pricing_recipe = lm.ConfigurationRecipe(\n",
    "    scope=market_data_scope,\n",
    "    code=recipe_code,\n",
    "    description=\"Forward specified rate\",\n",
    "    market=market_context,\n",
    "    pricing=pricing_context,\n",
    ")\n",
    "\n",
    "upsert_recipe(pricing_recipe)\n",
    "\n",
    "\n",
    "# Split by legs\n",
    "pricing_context_split = lm.PricingContext(\n",
    "    model_rules=[\n",
    "        lm.VendorModelRule(\n",
    "            supplier=market_supplier,\n",
    "            model_name=\"ForwardSpecifiedRate\",\n",
    "            instrument_type=\"FxForward\",\n",
    "        )\n",
    "    ],\n",
    "    options=lm.PricingOptions(produce_separate_result_for_linear_otc_legs=True),\n",
    ")\n",
    "\n",
    "recipe_code_split = \"forward-rate-split\"\n",
    "pricing_recipe_split = lm.ConfigurationRecipe(\n",
    "    scope=market_data_scope,\n",
    "    code=recipe_code_split,\n",
    "    description=\"Forward specified rate, split by legs\",\n",
    "    market=market_context,\n",
    "    pricing=pricing_context_split,\n",
    ")\n",
    "\n",
    "upsert_recipe(pricing_recipe_split)"
   ]
  },
  {
   "cell_type": "markdown",
   "metadata": {},
   "source": [
    "Now we upsert a forward rate quote and a spot rate quote for GBPJPY to run the single line valuation."
   ]
  },
  {
   "cell_type": "code",
   "execution_count": 143,
   "metadata": {},
   "outputs": [
    {
     "data": {
      "text/plain": [
       "'Quotes successfully loaded into LUSID. 2 quotes upserted.'"
      ]
     },
     "metadata": {},
     "output_type": "display_data"
    }
   ],
   "source": [
    "fwd_rate_gbpjpy = 190.03\n",
    "quote_fwd_gbpjpy = lm.UpsertQuoteRequest(\n",
    "    quote_id=lm.QuoteId(\n",
    "        quote_series_id=lm.QuoteSeriesId(\n",
    "            provider=\"Lusid\",\n",
    "            instrument_id=\"GBP/JPY/FxFwdRate/20241203\",\n",
    "            instrument_id_type=\"LusidInstrumentId\",\n",
    "            quote_type=\"Price\",\n",
    "            field=\"mid\",\n",
    "        ),\n",
    "        effective_at=valuation_date.isoformat(),\n",
    "    ),\n",
    "    metric_value=lm.MetricValue(value=fwd_rate_gbpjpy, unit=\"rate\"),\n",
    "    lineage=\"InternalSystem\",\n",
    ")\n",
    "\n",
    "spot_rate_gbpjpy = 191.11\n",
    "quote_gbp_jpy = lm.UpsertQuoteRequest(\n",
    "    quote_id=lm.QuoteId(\n",
    "        quote_series_id=lm.QuoteSeriesId(\n",
    "            provider=\"Lusid\",\n",
    "            instrument_id=\"GBP/JPY\",\n",
    "            instrument_id_type=\"CurrencyPair\",\n",
    "            quote_type=\"Price\",\n",
    "            field=\"mid\",\n",
    "        ),\n",
    "        effective_at=valuation_date.isoformat(),\n",
    "    ),\n",
    "    metric_value=lm.MetricValue(value=spot_rate_gbpjpy, unit=\"rate\"),\n",
    "    lineage=\"InternalSystem\",\n",
    ")\n",
    "\n",
    "upsert_quotes(scope=market_data_scope, quotes=[quote_fwd_gbpjpy, quote_gbp_jpy])"
   ]
  },
  {
   "cell_type": "markdown",
   "metadata": {},
   "source": [
    "Now we upsert a GBP discount factor curve."
   ]
  },
  {
   "cell_type": "code",
   "execution_count": 144,
   "metadata": {},
   "outputs": [
    {
     "data": {
      "text/plain": [
       "'Quotes successfully loaded into LUSID. 1 quotes upserted.'"
      ]
     },
     "metadata": {},
     "output_type": "display_data"
    }
   ],
   "source": [
    "# DOM currency discount factor curve\n",
    "# Build curve data\n",
    "df_months = 6\n",
    "rfr = 0.05\n",
    "df_dates = [None] * (df_months - 1)\n",
    "dfs = [None] * (df_months - 1)\n",
    "for i in range(1, df_months):\n",
    "    df_dates[i - 1] = (valuation_date + timedelta(days=i * 30)).isoformat()\n",
    "    dfs[i - 1] = math.exp(-30 / 360 * rfr * i)\n",
    "\n",
    "\n",
    "df_curve_data = lm.DiscountFactorCurveData(\n",
    "    base_date=valuation_date.isoformat(),\n",
    "    dates=df_dates,\n",
    "    discount_factors=dfs,\n",
    "    market_data_type=\"DiscountFactorCurveData\",\n",
    ")\n",
    "\n",
    "df_curve_id = lm.ComplexMarketDataId(\n",
    "    provider=\"Lusid\",\n",
    "    price_source=\"\",\n",
    "    effective_at=valuation_date.isoformat(),\n",
    "    market_asset=\"GBP/GBPOIS\",\n",
    ")\n",
    "\n",
    "df_curve_request = lm.UpsertComplexMarketDataRequest(\n",
    "    market_data_id=df_curve_id, market_data=df_curve_data\n",
    ")\n",
    "\n",
    "upsert_complex_market_data(scope=market_data_scope, request=df_curve_request)"
   ]
  },
  {
   "cell_type": "markdown",
   "metadata": {},
   "source": [
    "We now demonstrate the valuation explicitly, using the data from the economic definition of the FX forward and the market data provided above. The methodology is similar to the `ForwardSpecifiedRateUndiscounted` example above, except that we need to calculate the GBP discount factor from the discount factor curve created above. The first step is to estimate the discount factor in the domestic currency to calculate the present value of the domestic leg. This will be estimated using linear interpolation on the points of the discount curve.\n",
    "\n",
    "The points on the discount factor curve we have upserted are at +30 day increments from the valuation date (Mon 14/10/24), so the maturity date falls between the first two points of the curve; the +30 and +60 day increments, which are Wed 13/11/24 and Fri 13/12/24 respectively. Thus there are 20 days from +30 to maturity and 10 days from maturity to +60, so the estimated discount factor will be the 1:2 weighted average of the +30 and +60 day discount factors.\n",
    "\n",
    "The PV of the domestic leg is `-100,000 * D`, where `D` is the discount factor estimated from the discount factor curve. The PV of the foreign leg in the domestic currency GBP is given by `(19,000,000 / F) * D`, then the PV of the foreign leg in JPY is calculated by converting at the GBPJPY spot rate `S`, so is given by `(19,000,000 / F) * D * S`. The net PV in GBP is the sum of the PVs of the individual legs in GBP, so is `-100,000 * D + (19,000,000 / F) * D`."
   ]
  },
  {
   "cell_type": "code",
   "execution_count": 145,
   "metadata": {},
   "outputs": [
    {
     "data": {
      "text/plain": [
       "'Interpolated discount factor: 0.9930815290409539'"
      ]
     },
     "metadata": {},
     "output_type": "display_data"
    },
    {
     "data": {
      "text/plain": [
       "'Domestic leg PV (GBP): -99308.15290409539'"
      ]
     },
     "metadata": {},
     "output_type": "display_data"
    },
    {
     "data": {
      "text/plain": [
       "'Foreign leg PV (GBP): 99292.475144862'"
      ]
     },
     "metadata": {},
     "output_type": "display_data"
    },
    {
     "data": {
      "text/plain": [
       "'Net PV (GBP): -15.6777592333965'"
      ]
     },
     "metadata": {},
     "output_type": "display_data"
    },
    {
     "data": {
      "text/plain": [
       "'Foreign leg PV (JPY): 18975784.924934577'"
      ]
     },
     "metadata": {},
     "output_type": "display_data"
    }
   ],
   "source": [
    "def manual_valuation():\n",
    "    # Estimate DOM discount factor using linear interpolation:\n",
    "    rfr = 0.05\n",
    "    df_1m = math.exp(-30 / 360 * rfr * 1)\n",
    "    df_2m = math.exp(-30 / 360 * rfr * 2)\n",
    "    plus30 = valuation_date + timedelta(days=30)\n",
    "    plus60 = valuation_date + timedelta(days=60)\n",
    "    d1 = (maturity_date - plus30).days\n",
    "    d2 = (plus60 - maturity_date).days\n",
    "    df_interpolated = (d2 * df_1m + d1 * df_2m) / (d1 + d2)\n",
    "    display(f\"Interpolated discount factor: {df_interpolated}\")\n",
    "\n",
    "    fwd_rate = 190.03\n",
    "    dom_amt = -100_000\n",
    "    fgn_amt = 19_000_000\n",
    "    spot_rate = 191.11\n",
    "\n",
    "    dom_leg_pv_gbp = dom_amt * df_interpolated\n",
    "    fgn_leg_pv_gbp = (fgn_amt / fwd_rate) * df_interpolated\n",
    "    net_pv_gbp = dom_leg_pv_gbp + fgn_leg_pv_gbp\n",
    "    display(f\"Domestic leg PV (GBP): {dom_leg_pv_gbp}\")\n",
    "    display(f\"Foreign leg PV (GBP): {fgn_leg_pv_gbp}\")\n",
    "    display(f\"Net PV (GBP): {net_pv_gbp}\")\n",
    "\n",
    "    fgn_leg_pv_jpy = fgn_leg_pv_gbp * spot_rate\n",
    "    display(f\"Foreign leg PV (JPY): {fgn_leg_pv_jpy}\")\n",
    "\n",
    "\n",
    "manual_valuation()"
   ]
  },
  {
   "cell_type": "markdown",
   "metadata": {},
   "source": [
    "#### Forward Specified Rate - No Split"
   ]
  },
  {
   "cell_type": "code",
   "execution_count": 146,
   "metadata": {},
   "outputs": [
    {
     "data": {
      "text/html": [
       "<div>\n",
       "<style scoped>\n",
       "    .dataframe tbody tr th:only-of-type {\n",
       "        vertical-align: middle;\n",
       "    }\n",
       "\n",
       "    .dataframe tbody tr th {\n",
       "        vertical-align: top;\n",
       "    }\n",
       "\n",
       "    .dataframe thead th {\n",
       "        text-align: right;\n",
       "    }\n",
       "</style>\n",
       "<table border=\"1\" class=\"dataframe\">\n",
       "  <thead>\n",
       "    <tr style=\"text-align: right;\">\n",
       "      <th></th>\n",
       "      <th>Instrument/CoreData/Name</th>\n",
       "      <th>Instrument/CoreData/StartDate</th>\n",
       "      <th>Instrument/CoreData/MaturityDate</th>\n",
       "      <th>Valuation/LegIdentifier</th>\n",
       "      <th>Valuation/PV</th>\n",
       "      <th>Valuation/PV/Ccy</th>\n",
       "      <th>Valuation/PvInReportCcy</th>\n",
       "    </tr>\n",
       "  </thead>\n",
       "  <tbody>\n",
       "    <tr>\n",
       "      <th>0</th>\n",
       "      <td>GBPJPY 6M Forward</td>\n",
       "      <td>2024-06-03</td>\n",
       "      <td>2024-12-03</td>\n",
       "      <td>None</td>\n",
       "      <td>-15.6777</td>\n",
       "      <td>GBP</td>\n",
       "      <td>-15.6777</td>\n",
       "    </tr>\n",
       "  </tbody>\n",
       "</table>\n",
       "</div>"
      ],
      "text/plain": [
       "  Instrument/CoreData/Name Instrument/CoreData/StartDate  \\\n",
       "0        GBPJPY 6M Forward                    2024-06-03   \n",
       "\n",
       "  Instrument/CoreData/MaturityDate Valuation/LegIdentifier  Valuation/PV  \\\n",
       "0                       2024-12-03                    None      -15.6777   \n",
       "\n",
       "  Valuation/PV/Ccy  Valuation/PvInReportCcy  \n",
       "0              GBP                 -15.6777  "
      ]
     },
     "execution_count": 146,
     "metadata": {},
     "output_type": "execute_result"
    }
   ],
   "source": [
    "valuation_df = get_daily_valuation(\n",
    "    market_data_scope=market_data_scope,\n",
    "    date=valuation_date,\n",
    "    recipe_code=recipe_code,\n",
    ")\n",
    "\n",
    "valuation_df"
   ]
  },
  {
   "cell_type": "markdown",
   "metadata": {},
   "source": [
    "#### Forward Specified Rate - Split By Legs"
   ]
  },
  {
   "cell_type": "code",
   "execution_count": 147,
   "metadata": {},
   "outputs": [
    {
     "data": {
      "text/plain": [
       "'Quotes successfully loaded into LUSID. 1 quotes upserted.'"
      ]
     },
     "metadata": {},
     "output_type": "display_data"
    }
   ],
   "source": [
    "spot_rate_jpygbp = 1 / 191.11\n",
    "quote_jpy_gbp = lm.UpsertQuoteRequest(\n",
    "    quote_id=lm.QuoteId(\n",
    "        quote_series_id=lm.QuoteSeriesId(\n",
    "            provider=\"Lusid\",\n",
    "            instrument_id=\"JPY/GBP\",\n",
    "            instrument_id_type=\"CurrencyPair\",\n",
    "            quote_type=\"Price\",\n",
    "            field=\"mid\",\n",
    "        ),\n",
    "        effective_at=valuation_date.isoformat(),\n",
    "    ),\n",
    "    metric_value=lm.MetricValue(value=spot_rate_jpygbp, unit=\"rate\"),\n",
    "    lineage=\"InternalSystem\",\n",
    ")\n",
    "\n",
    "upsert_quotes(scope=market_data_scope, quotes=[quote_jpy_gbp])"
   ]
  },
  {
   "cell_type": "code",
   "execution_count": 148,
   "metadata": {},
   "outputs": [
    {
     "data": {
      "text/html": [
       "<div>\n",
       "<style scoped>\n",
       "    .dataframe tbody tr th:only-of-type {\n",
       "        vertical-align: middle;\n",
       "    }\n",
       "\n",
       "    .dataframe tbody tr th {\n",
       "        vertical-align: top;\n",
       "    }\n",
       "\n",
       "    .dataframe thead th {\n",
       "        text-align: right;\n",
       "    }\n",
       "</style>\n",
       "<table border=\"1\" class=\"dataframe\">\n",
       "  <thead>\n",
       "    <tr style=\"text-align: right;\">\n",
       "      <th></th>\n",
       "      <th>Instrument/CoreData/Name</th>\n",
       "      <th>Instrument/CoreData/StartDate</th>\n",
       "      <th>Instrument/CoreData/MaturityDate</th>\n",
       "      <th>Valuation/LegIdentifier</th>\n",
       "      <th>Valuation/PV</th>\n",
       "      <th>Valuation/PV/Ccy</th>\n",
       "      <th>Valuation/PvInReportCcy</th>\n",
       "    </tr>\n",
       "  </thead>\n",
       "  <tbody>\n",
       "    <tr>\n",
       "      <th>0</th>\n",
       "      <td>GBPJPY 6M Forward</td>\n",
       "      <td>2024-06-03</td>\n",
       "      <td>2024-12-03</td>\n",
       "      <td>DomesticLeg</td>\n",
       "      <td>-99,307.9612</td>\n",
       "      <td>GBP</td>\n",
       "      <td>-99,307.9612</td>\n",
       "    </tr>\n",
       "    <tr>\n",
       "      <th>1</th>\n",
       "      <td>GBPJPY 6M Forward</td>\n",
       "      <td>2024-06-03</td>\n",
       "      <td>2024-12-03</td>\n",
       "      <td>ForeignLeg</td>\n",
       "      <td>18,975,748.3035</td>\n",
       "      <td>JPY</td>\n",
       "      <td>99,292.2835</td>\n",
       "    </tr>\n",
       "  </tbody>\n",
       "</table>\n",
       "</div>"
      ],
      "text/plain": [
       "  Instrument/CoreData/Name Instrument/CoreData/StartDate  \\\n",
       "0        GBPJPY 6M Forward                    2024-06-03   \n",
       "1        GBPJPY 6M Forward                    2024-06-03   \n",
       "\n",
       "  Instrument/CoreData/MaturityDate Valuation/LegIdentifier    Valuation/PV  \\\n",
       "0                       2024-12-03             DomesticLeg    -99,307.9612   \n",
       "1                       2024-12-03              ForeignLeg 18,975,748.3035   \n",
       "\n",
       "  Valuation/PV/Ccy  Valuation/PvInReportCcy  \n",
       "0              GBP             -99,307.9612  \n",
       "1              JPY              99,292.2835  "
      ]
     },
     "execution_count": 148,
     "metadata": {},
     "output_type": "execute_result"
    }
   ],
   "source": [
    "valuation_df_split = get_daily_valuation(\n",
    "    market_data_scope=market_data_scope,\n",
    "    date=valuation_date,\n",
    "    recipe_code=recipe_code_split,\n",
    ")\n",
    "\n",
    "valuation_df_split"
   ]
  },
  {
   "cell_type": "markdown",
   "metadata": {},
   "source": [
    "### 2.9 Discounting\n",
    "\n",
    "The `Discounting` pricing model is not strictly a separate model, rather it unifies the `ForwardFromCurve`, `ForwardWithPoints` and `ForwardSpecifiedRate` models, both the discounted and undiscounted forms, allowing the pricer to be specified using the `Observable` and `DiscountingMethod` model options. In particular, pricing using the `ForwardFromCurve` model can be achieved using the `Discounting` model with `FxForwardCurve` observable type and `Standard` discounting method.\n",
    "\n",
    "The complete mapping is shown in the table below:\n",
    "\n",
    "| Observable Type | Discounting Method       | Equivalent Model                 |\n",
    "| --------------- | ------------------------ | ----------------                 |\n",
    "| FxForwardCurve  | Standard                 | ForwardFromCurve                 |\n",
    "| FxForwardCurve  | ConstantTimeValueOfMoney | ForwardFromCurveUndiscounted     |\n",
    "| ForwardPoints   | Standard                 | ForwardWithPoints                |\n",
    "| ForwardPoints   | ConstantTimeValueOfMoney | ForwardWithPointsUndiscounted    |\n",
    "| ForwardRate     | Standard                 | ForwardSpecifiedRate             |\n",
    "| ForwardRate     | ConstantTimeValueOfMoney | ForwardSpecifiedRateUndiscounted |\n",
    "\n",
    "\n",
    "**NOTE:** The `Discounting` pricing model can not be used to perform `SimpleStatic` pricing.\n",
    "\n",
    "**NOTE:** It is technically possible to get back to the `ConstantTimeValueOfMoney` pricing model using `Discounting` with `Invalid` observable type and `ConstantTimeValueOfMoney` discounting method.\n",
    "\n",
    "We now demonstrate an example using the `Discounting` model with `FxForwardCurve` observable type and `ConstantTimeValueOfMoney` discounting method to arrive at the same result as using the `ForwardFromCurveUndiscounted` pricing model."
   ]
  },
  {
   "cell_type": "code",
   "execution_count": 149,
   "metadata": {},
   "outputs": [],
   "source": [
    "# Create market context\n",
    "market_data_scope = \"discounting-forward-curve-ctvom\"\n",
    "market_context = create_market_context(\n",
    "    scope=market_data_scope,\n",
    "    market_rules=[\n",
    "        # Market data rule for resolving FX spot rates\n",
    "        lm.MarketDataKeyRule(\n",
    "            key=\"Fx.*.*\",\n",
    "            supplier=\"Lusid\",\n",
    "            data_scope=market_data_scope,\n",
    "            quote_type=\"Rate\",\n",
    "            field=\"mid\",\n",
    "            quote_interval=\"5D.0D\",\n",
    "        ),\n",
    "        # Market data rule for resolving forward rates curves\n",
    "        lm.MarketDataKeyRule(\n",
    "            key=\"FxForwards.*.*.FxFwdCurve\",\n",
    "            supplier=\"Lusid\",\n",
    "            data_scope=market_data_scope,\n",
    "            quote_type=\"Rate\",\n",
    "            field=\"mid\",\n",
    "            quote_interval=\"1Y.0D\",\n",
    "        ),\n",
    "    ],\n",
    ")\n",
    "\n",
    "# Not split by legs\n",
    "pricing_context = lm.PricingContext(\n",
    "    model_rules=[\n",
    "        lm.VendorModelRule(\n",
    "            supplier=market_supplier,\n",
    "            model_name=\"Discounting\",\n",
    "            instrument_type=\"FxForward\",\n",
    "            model_options=lm.FxForwardModelOptions(\n",
    "                model_options_type=\"FxForwardModelOptions\",\n",
    "                convert_to_report_ccy=False,\n",
    "                discounting_method=\"ConstantTimeValueOfMoney\",\n",
    "                forward_rate_observable_type=\"FxForwardCurve\",\n",
    "            ),\n",
    "        )\n",
    "    ]\n",
    ")\n",
    "\n",
    "recipe_code = \"curve-undiscounted-no-split\"\n",
    "pricing_recipe = lm.ConfigurationRecipe(\n",
    "    scope=market_data_scope,\n",
    "    code=recipe_code,\n",
    "    description=\"Discounting model, FX forward curve, no discounting\",\n",
    "    market=market_context,\n",
    "    pricing=pricing_context,\n",
    ")\n",
    "\n",
    "upsert_recipe(pricing_recipe)\n",
    "\n",
    "\n",
    "# Split by legs\n",
    "pricing_context_split = lm.PricingContext(\n",
    "    model_rules=[\n",
    "        lm.VendorModelRule(\n",
    "            supplier=market_supplier,\n",
    "            model_name=\"Discounting\",\n",
    "            instrument_type=\"FxForward\",\n",
    "            model_options=lm.FxForwardModelOptions(\n",
    "                model_options_type=\"FxForwardModelOptions\",\n",
    "                convert_to_report_ccy=False,\n",
    "                discounting_method=\"ConstantTimeValueOfMoney\",\n",
    "                forward_rate_observable_type=\"FxForwardCurve\",\n",
    "            ),\n",
    "        )\n",
    "    ],\n",
    "    options=lm.PricingOptions(produce_separate_result_for_linear_otc_legs=True),\n",
    ")\n",
    "\n",
    "recipe_code_split = \"curve-undiscounted-split\"\n",
    "pricing_recipe_split = lm.ConfigurationRecipe(\n",
    "    scope=market_data_scope,\n",
    "    code=recipe_code_split,\n",
    "    description=\"Discounting model, FX forward curve, no discounting, split by legs\",\n",
    "    market=market_context,\n",
    "    pricing=pricing_context_split,\n",
    ")\n",
    "\n",
    "upsert_recipe(pricing_recipe_split)"
   ]
  },
  {
   "cell_type": "markdown",
   "metadata": {},
   "source": [
    "Now we create and upsert a GBPJPY forward rates tenor curve and a GBPJPY spot rate quote."
   ]
  },
  {
   "cell_type": "code",
   "execution_count": 150,
   "metadata": {},
   "outputs": [
    {
     "data": {
      "text/plain": [
       "'Quotes successfully loaded into LUSID. 1 quotes upserted.'"
      ]
     },
     "metadata": {},
     "output_type": "display_data"
    },
    {
     "data": {
      "text/plain": [
       "'Quotes successfully loaded into LUSID. 1 quotes upserted.'"
      ]
     },
     "metadata": {},
     "output_type": "display_data"
    }
   ],
   "source": [
    "# Upsert market data\n",
    "# FX forward tenor curve\n",
    "forward_curve_data = lm.FxForwardTenorCurveData(\n",
    "    market_data_type=\"FxForwardTenorCurveData\",\n",
    "    base_date=valuation_date.isoformat(),\n",
    "    dom_ccy=dom_ccy,\n",
    "    fgn_ccy=fgn_ccy,\n",
    "    tenors=[\"1W\", \"2W\", \"1M\", \"2M\", \"3M\"],\n",
    "    rates=[188.32, 188.14, 187.67, 186.93, 186.11],\n",
    ")\n",
    "\n",
    "fwd_curve_id = lm.ComplexMarketDataId(\n",
    "    provider=\"Lusid\",\n",
    "    price_source=None,\n",
    "    effective_at=valuation_date.isoformat(),\n",
    "    market_asset=\"GBP/JPY/FxFwdCurve\",\n",
    ")\n",
    "\n",
    "complex_market_data_request = lm.UpsertComplexMarketDataRequest(\n",
    "    market_data_id=fwd_curve_id,\n",
    "    market_data=forward_curve_data,\n",
    ")\n",
    "\n",
    "# Upsert forward curve into LUSID\n",
    "response = upsert_complex_market_data(\n",
    "    scope=market_data_scope, request=complex_market_data_request\n",
    ")\n",
    "\n",
    "# GBPJPY spot rate\n",
    "spot_rate_gbpjpy = 188.5\n",
    "quote_gbp_jpy = lm.UpsertQuoteRequest(\n",
    "    quote_id=lm.QuoteId(\n",
    "        quote_series_id=lm.QuoteSeriesId(\n",
    "            provider=\"Lusid\",\n",
    "            instrument_id=\"GBP/JPY\",\n",
    "            instrument_id_type=\"CurrencyPair\",\n",
    "            quote_type=\"Price\",\n",
    "            field=\"mid\",\n",
    "        ),\n",
    "        effective_at=valuation_date.isoformat(),\n",
    "    ),\n",
    "    metric_value=lm.MetricValue(value=spot_rate_gbpjpy, unit=\"rate\"),\n",
    "    lineage=\"InternalSystem\",\n",
    ")\n",
    "\n",
    "upsert_quotes(scope=market_data_scope, quotes=[quote_gbp_jpy])"
   ]
  },
  {
   "cell_type": "markdown",
   "metadata": {},
   "source": [
    "#### Discounting - No Split\n",
    "\n",
    "The result below shows the valuation of the FX forward in LUSID using the `Discounting` pricing model, using a GBPJPY forward rates curve and a GBPJPY spot rate with no discounting. This is consistent with the result obtained using the same market data with the [ForwardFromCurveUndiscounted](#23-forward-from-curve-undiscounted) model, and the calculation is exactly as illustrated in this section."
   ]
  },
  {
   "cell_type": "code",
   "execution_count": 151,
   "metadata": {},
   "outputs": [
    {
     "data": {
      "text/html": [
       "<div>\n",
       "<style scoped>\n",
       "    .dataframe tbody tr th:only-of-type {\n",
       "        vertical-align: middle;\n",
       "    }\n",
       "\n",
       "    .dataframe tbody tr th {\n",
       "        vertical-align: top;\n",
       "    }\n",
       "\n",
       "    .dataframe thead th {\n",
       "        text-align: right;\n",
       "    }\n",
       "</style>\n",
       "<table border=\"1\" class=\"dataframe\">\n",
       "  <thead>\n",
       "    <tr style=\"text-align: right;\">\n",
       "      <th></th>\n",
       "      <th>Instrument/CoreData/Name</th>\n",
       "      <th>Instrument/CoreData/StartDate</th>\n",
       "      <th>Instrument/CoreData/MaturityDate</th>\n",
       "      <th>Valuation/LegIdentifier</th>\n",
       "      <th>Valuation/PV</th>\n",
       "      <th>Valuation/PV/Ccy</th>\n",
       "      <th>Valuation/PvInReportCcy</th>\n",
       "    </tr>\n",
       "  </thead>\n",
       "  <tbody>\n",
       "    <tr>\n",
       "      <th>0</th>\n",
       "      <td>GBPJPY 6M Forward</td>\n",
       "      <td>2024-06-03</td>\n",
       "      <td>2024-12-03</td>\n",
       "      <td>None</td>\n",
       "      <td>1,455.8534</td>\n",
       "      <td>GBP</td>\n",
       "      <td>1,455.8534</td>\n",
       "    </tr>\n",
       "  </tbody>\n",
       "</table>\n",
       "</div>"
      ],
      "text/plain": [
       "  Instrument/CoreData/Name Instrument/CoreData/StartDate  \\\n",
       "0        GBPJPY 6M Forward                    2024-06-03   \n",
       "\n",
       "  Instrument/CoreData/MaturityDate Valuation/LegIdentifier  Valuation/PV  \\\n",
       "0                       2024-12-03                    None    1,455.8534   \n",
       "\n",
       "  Valuation/PV/Ccy  Valuation/PvInReportCcy  \n",
       "0              GBP               1,455.8534  "
      ]
     },
     "metadata": {},
     "output_type": "display_data"
    }
   ],
   "source": [
    "# Not split by legs\n",
    "valuation_df = get_daily_valuation(\n",
    "    market_data_scope=market_data_scope, date=valuation_date, recipe_code=recipe_code\n",
    ")\n",
    "\n",
    "display(valuation_df)"
   ]
  },
  {
   "cell_type": "markdown",
   "metadata": {},
   "source": [
    "#### Discounting - Split By Legs\n",
    "\n",
    "As above, the methodology for calculating separate valuations for each leg with the `Discounting` pricing model using a GBPJPY forward rates curve with no discounting is described in the section [ForwardFromCurveUndiscounted](#23-forward-from-curve-undiscounted). To calculate the PV of the individual legs in the report currency (here `report_ccy = pf_ccy = \"GBP\"`), we also need a JPYGBP spot rate quote."
   ]
  },
  {
   "cell_type": "code",
   "execution_count": 152,
   "metadata": {},
   "outputs": [
    {
     "data": {
      "text/plain": [
       "'Quotes successfully loaded into LUSID. 1 quotes upserted.'"
      ]
     },
     "metadata": {},
     "output_type": "display_data"
    }
   ],
   "source": [
    "spot_rate_jpygbp = 0.00531\n",
    "quote_jpy_gbp = lm.UpsertQuoteRequest(\n",
    "    quote_id=lm.QuoteId(\n",
    "        quote_series_id=lm.QuoteSeriesId(\n",
    "            provider=\"Lusid\",\n",
    "            instrument_id=\"JPY/GBP\",\n",
    "            instrument_id_type=\"CurrencyPair\",\n",
    "            quote_type=\"Price\",\n",
    "            field=\"mid\",\n",
    "        ),\n",
    "        effective_at=valuation_date.isoformat(),\n",
    "    ),\n",
    "    metric_value=lm.MetricValue(value=spot_rate_jpygbp, unit=\"rate\"),\n",
    "    lineage=\"InternalSystem\",\n",
    ")\n",
    "\n",
    "upsert_quotes(scope=market_data_scope, quotes=[quote_jpy_gbp])"
   ]
  },
  {
   "cell_type": "code",
   "execution_count": 153,
   "metadata": {},
   "outputs": [
    {
     "data": {
      "text/html": [
       "<div>\n",
       "<style scoped>\n",
       "    .dataframe tbody tr th:only-of-type {\n",
       "        vertical-align: middle;\n",
       "    }\n",
       "\n",
       "    .dataframe tbody tr th {\n",
       "        vertical-align: top;\n",
       "    }\n",
       "\n",
       "    .dataframe thead th {\n",
       "        text-align: right;\n",
       "    }\n",
       "</style>\n",
       "<table border=\"1\" class=\"dataframe\">\n",
       "  <thead>\n",
       "    <tr style=\"text-align: right;\">\n",
       "      <th></th>\n",
       "      <th>Instrument/CoreData/Name</th>\n",
       "      <th>Instrument/CoreData/StartDate</th>\n",
       "      <th>Instrument/CoreData/MaturityDate</th>\n",
       "      <th>Valuation/LegIdentifier</th>\n",
       "      <th>Valuation/PV</th>\n",
       "      <th>Valuation/PV/Ccy</th>\n",
       "      <th>Valuation/PvInReportCcy</th>\n",
       "    </tr>\n",
       "  </thead>\n",
       "  <tbody>\n",
       "    <tr>\n",
       "      <th>0</th>\n",
       "      <td>GBPJPY 6M Forward</td>\n",
       "      <td>2024-06-03</td>\n",
       "      <td>2024-12-03</td>\n",
       "      <td>DomesticLeg</td>\n",
       "      <td>-100,000.0000</td>\n",
       "      <td>GBP</td>\n",
       "      <td>-100,000.0000</td>\n",
       "    </tr>\n",
       "    <tr>\n",
       "      <th>1</th>\n",
       "      <td>GBPJPY 6M Forward</td>\n",
       "      <td>2024-06-03</td>\n",
       "      <td>2024-12-03</td>\n",
       "      <td>ForeignLeg</td>\n",
       "      <td>19,124,428.3573</td>\n",
       "      <td>JPY</td>\n",
       "      <td>101,550.7146</td>\n",
       "    </tr>\n",
       "  </tbody>\n",
       "</table>\n",
       "</div>"
      ],
      "text/plain": [
       "  Instrument/CoreData/Name Instrument/CoreData/StartDate  \\\n",
       "0        GBPJPY 6M Forward                    2024-06-03   \n",
       "1        GBPJPY 6M Forward                    2024-06-03   \n",
       "\n",
       "  Instrument/CoreData/MaturityDate Valuation/LegIdentifier    Valuation/PV  \\\n",
       "0                       2024-12-03             DomesticLeg   -100,000.0000   \n",
       "1                       2024-12-03              ForeignLeg 19,124,428.3573   \n",
       "\n",
       "  Valuation/PV/Ccy  Valuation/PvInReportCcy  \n",
       "0              GBP            -100,000.0000  \n",
       "1              JPY             101,550.7146  "
      ]
     },
     "metadata": {},
     "output_type": "display_data"
    }
   ],
   "source": [
    "valuation_split_df = get_daily_valuation(\n",
    "    market_data_scope=market_data_scope,\n",
    "    date=valuation_date,\n",
    "    recipe_code=recipe_code_split,\n",
    ")\n",
    "\n",
    "display(valuation_split_df)"
   ]
  },
  {
   "cell_type": "markdown",
   "metadata": {},
   "source": [
    "Observe that the valuation results using the `Discounting` model with `discounting_method=\"ConstantTimeValueOfMoney\"` and `forward_rate_observable_type=\"FxForwardCurve\"`, given the same market data, are identical to those obtained by using the [ForwardFromCurveUndiscounted](#23-forward-from-curve-undiscounted) model by name directly without model options."
   ]
  },
  {
   "cell_type": "markdown",
   "metadata": {},
   "source": [
    "## 3. Reporting Currency\n",
    "\n",
    "There are two different ways to obtain a valuation in the reporting currency and it is important to note that they are not interchangeable.\n",
    "\n",
    "The first way, which we have demonstrated in the examples above, is to include the valuation key `Valuation/PvInReportCcy` in the valuation request, while using the `convert_to_report_ccy=False` model option. With this configuration, the `Valuation/PV` will be given in the domestic currency of the forward (or the currency of each leg if pricing legs individually), while `Valuation/PvInReportCcy` is given in the reporting currency and is calculated using the forward and spot rates.\n",
    "\n",
    "The second way, which we demonstrate below, is to set the `convert_to_report_ccy=True` model option and provide the `report_ccy` parameter in the valuation request. With this configuration, both the `Valuation/PV` and `Valuation/PvInReportCcy` are converted to the report currency using the forward rates for RPTDOM and RPTFGN currency pairs.\n",
    "\n",
    "In the above examples, we have made a simplifying assumption that the domestic currency on the FX forward, the portfolio currency and the reporting currency for the valuation are all GBP, so there are only two relevant currencies.\n",
    "\n",
    "We now demonstrate an example where the reporting currency for valuation and the two currencies in the FX forward are all distinct. For this example, we will use the existing portfolio (GBP), the existing GBPJPY forward and report in CAD. We will use the `ForwardFromCurveUndiscounted` model with the `convert_to_report_ccy=True` model option and the `produce_separate_result_for_linear_otc_legs=True` pricing option."
   ]
  },
  {
   "cell_type": "markdown",
   "metadata": {},
   "source": [
    "To show that the valuation genuinely depends on the forward rates from the curve and not on the spot rates, we now create a new FX forward with the same start date and foreign and domestic amounts, but with a different maturity. Then we will see that the two valuations differ, while if the valuation were using the spot rates, we would see no difference in the two valuations, since we are assuming no discounting.\n",
    "\n",
    "First create and upsert the FX forward that only differs in maturity date."
   ]
  },
  {
   "cell_type": "code",
   "execution_count": 154,
   "metadata": {},
   "outputs": [
    {
     "data": {
      "text/plain": [
       "'Success! Upserted instrument LUID_000185GQ'"
      ]
     },
     "metadata": {},
     "output_type": "display_data"
    }
   ],
   "source": [
    "forward_name = \"GBPJPY 5M Forward\"\n",
    "forward_identifier = \"FWD-GBPJPY5M\"\n",
    "\n",
    "start_date = datetime(2024, 6, 3, tzinfo=pytz.utc)\n",
    "maturity_date = datetime(2024, 11, 4, tzinfo=pytz.utc)\n",
    "dom_amount = -100_000\n",
    "dom_ccy = \"GBP\"\n",
    "fgn_amount = 19_000_000\n",
    "fgn_ccy = \"JPY\"\n",
    "\n",
    "# Create FX forward definition\n",
    "fx_forward = lm.FxForward(\n",
    "    start_date=start_date.isoformat(),\n",
    "    maturity_date=maturity_date.isoformat(),\n",
    "    dom_amount=dom_amount,\n",
    "    dom_ccy=dom_ccy,\n",
    "    fgn_amount=fgn_amount,\n",
    "    fgn_ccy=fgn_ccy,\n",
    "    instrument_type=\"FxForward\",\n",
    ")\n",
    "\n",
    "# Create LUSID instrument definition\n",
    "forward_definition = lm.InstrumentDefinition(\n",
    "    name=forward_name,\n",
    "    identifiers={\"ClientInternal\": lm.InstrumentIdValue(value=forward_identifier)},\n",
    "    definition=fx_forward,\n",
    ")\n",
    "\n",
    "# Upsert FX forward instrument\n",
    "try:\n",
    "    upsert_response = instruments_api.upsert_instruments(\n",
    "        request_body={forward_identifier: forward_definition}\n",
    "    )\n",
    "    luid = upsert_response.values[forward_identifier].lusid_instrument_id\n",
    "    display(f\"Success! Upserted instrument {luid}\")\n",
    "except KeyError as e:\n",
    "    display(\n",
    "        f\"Failed to upsert instrument {forward_identifier}. Details: {upsert_response.failed[forward_identifier].detail}\"\n",
    "    )\n",
    "except lusid.ApiException as e:\n",
    "    body = json.loads(e.body)\n",
    "    display(\n",
    "        f\"Title: {body['title']}, Details: {body['detail']}, Errors: {body['errors']}\"\n",
    "    )"
   ]
  },
  {
   "cell_type": "markdown",
   "metadata": {},
   "source": [
    "Do a `StockIn` transaction for one unit of the FX forward."
   ]
  },
  {
   "cell_type": "code",
   "execution_count": 155,
   "metadata": {},
   "outputs": [
    {
     "data": {
      "text/plain": [
       "'Transaction successfully updated at time 2024-09-27 12:25:10.143876+00:00'"
      ]
     },
     "metadata": {},
     "output_type": "display_data"
    }
   ],
   "source": [
    "# Trade variables\n",
    "settle_days = 2\n",
    "trade_date = start_date\n",
    "settlement_date = start_date + timedelta(days=settle_days)\n",
    "\n",
    "# Create StockIn transaction\n",
    "stock_in_txn = lm.TransactionRequest(\n",
    "    transaction_id=\"TXN002\",\n",
    "    type=\"StockIn\",\n",
    "    instrument_identifiers={\"Instrument/default/ClientInternal\": forward_identifier},\n",
    "    transaction_date=trade_date.isoformat(),\n",
    "    settlement_date=settlement_date.isoformat(),\n",
    "    units=1,\n",
    "    transaction_price=lm.TransactionPrice(price=0, type=\"Price\"),\n",
    "    total_consideration=lm.CurrencyAndAmount(amount=0, currency=pf_ccy),\n",
    "    exchange_rate=1,\n",
    "    transaction_currency=pf_ccy,\n",
    ")\n",
    "\n",
    "# Upsert StockIn transaction\n",
    "try:\n",
    "    response = transaction_portfolios_api.upsert_transactions(\n",
    "        scope=pf_scope, code=pf_code, transaction_request=[stock_in_txn]\n",
    "    )\n",
    "    display(f\"Transaction successfully updated at time {response.version.as_at_date}\")\n",
    "\n",
    "except lusid.ApiException as e:\n",
    "    body = json.loads(e.body)\n",
    "    display(\n",
    "        f\"Failed to upsert transaction - Title: {body['title']}, Details: {body['detail']}, Errors: {body['errors']}\"\n",
    "    )"
   ]
  },
  {
   "cell_type": "markdown",
   "metadata": {},
   "source": [
    "Next, we create the pricing recipe with the `produce_separate_result_for_linear_otc_legs=True` and `convert_to_report_ccy=True` options."
   ]
  },
  {
   "cell_type": "code",
   "execution_count": 156,
   "metadata": {},
   "outputs": [],
   "source": [
    "# Create market context\n",
    "market_data_scope = \"fx-forward-report-currency\"\n",
    "market_context = create_market_context(\n",
    "    scope=market_data_scope,\n",
    "    market_rules=[\n",
    "        # Market data rule for resolving FX spot rates\n",
    "        lm.MarketDataKeyRule(\n",
    "            key=\"Fx.*.*\",\n",
    "            supplier=\"Lusid\",\n",
    "            data_scope=market_data_scope,\n",
    "            quote_type=\"Rate\",\n",
    "            field=\"mid\",\n",
    "            quote_interval=\"5D.0D\",\n",
    "        ),\n",
    "        # Market data rule for resolving forward rates curves\n",
    "        lm.MarketDataKeyRule(\n",
    "            key=\"FxForwards.*.*.FxFwdCurve\",\n",
    "            supplier=\"Lusid\",\n",
    "            data_scope=market_data_scope,\n",
    "            quote_type=\"Rate\",\n",
    "            field=\"mid\",\n",
    "            quote_interval=\"1Y.0D\",\n",
    "        ),\n",
    "    ],\n",
    ")\n",
    "\n",
    "# Create pricing context\n",
    "pricing_context = lm.PricingContext(\n",
    "    model_rules=[\n",
    "        lm.VendorModelRule(\n",
    "            supplier=market_supplier,\n",
    "            model_name=\"ForwardFromCurveUndiscounted\",\n",
    "            instrument_type=\"FxForward\",\n",
    "            model_options=lm.FxForwardModelOptions(\n",
    "                model_options_type=\"FxForwardModelOptions\",\n",
    "                convert_to_report_ccy=True,\n",
    "                discounting_method=\"Invalid\",\n",
    "                forward_rate_observable_type=\"FxForwardCurve\",\n",
    "            ),\n",
    "        )\n",
    "    ],\n",
    "    options=lm.PricingOptions(produce_separate_result_for_linear_otc_legs=True),\n",
    ")\n",
    "\n",
    "recipe_code = \"curve-undiscounted-report-currency\"\n",
    "pricing_recipe = lm.ConfigurationRecipe(\n",
    "    scope=market_data_scope,\n",
    "    code=recipe_code,\n",
    "    description=\"FX forward curve, no discounting, split by legs\",\n",
    "    market=market_context,\n",
    "    pricing=pricing_context,\n",
    ")\n",
    "\n",
    "upsert_recipe(pricing_recipe)"
   ]
  },
  {
   "cell_type": "markdown",
   "metadata": {},
   "source": [
    "Next, we upsert forward rate curves and spot rate quotes for each currency pair. We will need forward rate curves for CADGBP and CADJPY (In general, RPTDOM and RPTFGN curves are needed) and spot rates for CADGBP, GBPJPY and CADJPY."
   ]
  },
  {
   "cell_type": "code",
   "execution_count": 157,
   "metadata": {},
   "outputs": [
    {
     "data": {
      "text/plain": [
       "'Quotes successfully loaded into LUSID. 3 quotes upserted.'"
      ]
     },
     "metadata": {},
     "output_type": "display_data"
    },
    {
     "data": {
      "text/plain": [
       "'Quotes successfully loaded into LUSID. 1 quotes upserted.'"
      ]
     },
     "metadata": {},
     "output_type": "display_data"
    },
    {
     "data": {
      "text/plain": [
       "'Quotes successfully loaded into LUSID. 1 quotes upserted.'"
      ]
     },
     "metadata": {},
     "output_type": "display_data"
    }
   ],
   "source": [
    "# Upsert market data\n",
    "# Note that although the market data resolver requires these spot rates to perform valuation,\n",
    "# they are not used at all in the code path when converting to report currency.\n",
    "spot_rate_cadgbp = 0.568143\n",
    "quote_cad_gbp = lm.UpsertQuoteRequest(\n",
    "    quote_id=lm.QuoteId(\n",
    "        quote_series_id=lm.QuoteSeriesId(\n",
    "            provider=\"Lusid\",\n",
    "            instrument_id=\"CAD/GBP\",\n",
    "            instrument_id_type=\"CurrencyPair\",\n",
    "            quote_type=\"Price\",\n",
    "            field=\"mid\",\n",
    "        ),\n",
    "        effective_at=valuation_date.isoformat(),\n",
    "    ),\n",
    "    metric_value=lm.MetricValue(value=spot_rate_cadgbp, unit=\"rate\"),\n",
    "    lineage=\"InternalSystem\",\n",
    ")\n",
    "\n",
    "spot_rate_gbpjpy = 188.50\n",
    "quote_gbp_jpy = lm.UpsertQuoteRequest(\n",
    "    quote_id=lm.QuoteId(\n",
    "        quote_series_id=lm.QuoteSeriesId(\n",
    "            provider=\"Lusid\",\n",
    "            instrument_id=\"GBP/JPY\",\n",
    "            instrument_id_type=\"CurrencyPair\",\n",
    "            quote_type=\"Price\",\n",
    "            field=\"mid\",\n",
    "        ),\n",
    "        effective_at=valuation_date.isoformat(),\n",
    "    ),\n",
    "    metric_value=lm.MetricValue(value=spot_rate_gbpjpy, unit=\"rate\"),\n",
    "    lineage=\"InternalSystem\",\n",
    ")\n",
    "\n",
    "spot_rate_cadjpy = 107.09\n",
    "quote_cad_jpy = lm.UpsertQuoteRequest(\n",
    "    quote_id=lm.QuoteId(\n",
    "        quote_series_id=lm.QuoteSeriesId(\n",
    "            provider=\"Lusid\",\n",
    "            instrument_id=\"CAD/JPY\",\n",
    "            instrument_id_type=\"CurrencyPair\",\n",
    "            quote_type=\"Price\",\n",
    "            field=\"mid\",\n",
    "        ),\n",
    "        effective_at=valuation_date.isoformat(),\n",
    "    ),\n",
    "    metric_value=lm.MetricValue(value=spot_rate_cadjpy, unit=\"rate\"),\n",
    "    lineage=\"InternalSystem\",\n",
    ")\n",
    "\n",
    "upsert_quotes(\n",
    "    scope=market_data_scope, quotes=[quote_cad_gbp, quote_gbp_jpy, quote_cad_jpy]\n",
    ")\n",
    "\n",
    "\n",
    "# Upsert complex market data\n",
    "## FX forward tenor curve CADJPY\n",
    "forward_curve_data_cadjpy = lm.FxForwardTenorCurveData(\n",
    "    market_data_type=\"FxForwardTenorCurveData\",\n",
    "    base_date=valuation_date.isoformat(),\n",
    "    dom_ccy=\"CAD\",\n",
    "    fgn_ccy=\"JPY\",\n",
    "    tenors=[\"1W\", \"2W\", \"1M\", \"2M\", \"3M\"],\n",
    "    rates=[107.132, 107.131, 107.129, 107.125, 107.122],\n",
    ")\n",
    "\n",
    "fwd_curve_id_cadjpy = lm.ComplexMarketDataId(\n",
    "    provider=\"Lusid\",\n",
    "    price_source=None,\n",
    "    effective_at=valuation_date.isoformat(),\n",
    "    market_asset=\"CAD/JPY/FxFwdCurve\",\n",
    ")\n",
    "\n",
    "complex_market_data_request_cadjpy = lm.UpsertComplexMarketDataRequest(\n",
    "    market_data_id=fwd_curve_id_cadjpy,\n",
    "    market_data=forward_curve_data_cadjpy,\n",
    ")\n",
    "\n",
    "# Upsert forward curve into LUSID\n",
    "response = upsert_complex_market_data(\n",
    "    scope=market_data_scope, request=complex_market_data_request_cadjpy\n",
    ")\n",
    "\n",
    "\n",
    "## FX Forward tenor curve CADGBP\n",
    "forward_curve_data_cadgbp = lm.FxForwardTenorCurveData(\n",
    "    market_data_type=\"FxForwardTenorCurveData\",\n",
    "    base_date=valuation_date.isoformat(),\n",
    "    dom_ccy=\"CAD\",\n",
    "    fgn_ccy=\"GBP\",\n",
    "    tenors=[\"1W\", \"2W\", \"1M\", \"2M\", \"3M\"],\n",
    "    rates=[0.568391, 0.568516, 0.568677, 0.569041, 0.569484],\n",
    ")\n",
    "\n",
    "fwd_curve_id_cadgbp = lm.ComplexMarketDataId(\n",
    "    provider=\"Lusid\",\n",
    "    price_source=None,\n",
    "    effective_at=valuation_date.isoformat(),\n",
    "    market_asset=\"CAD/GBP/FxFwdCurve\",\n",
    ")\n",
    "\n",
    "complex_market_data_request_cadgbp = lm.UpsertComplexMarketDataRequest(\n",
    "    market_data_id=fwd_curve_id_cadgbp,\n",
    "    market_data=forward_curve_data_cadgbp,\n",
    ")\n",
    "\n",
    "# Upsert forward curve into LUSID\n",
    "response = upsert_complex_market_data(\n",
    "    scope=market_data_scope, request=complex_market_data_request_cadgbp\n",
    ")"
   ]
  },
  {
   "cell_type": "code",
   "execution_count": 158,
   "metadata": {},
   "outputs": [
    {
     "data": {
      "text/html": [
       "<div>\n",
       "<style scoped>\n",
       "    .dataframe tbody tr th:only-of-type {\n",
       "        vertical-align: middle;\n",
       "    }\n",
       "\n",
       "    .dataframe tbody tr th {\n",
       "        vertical-align: top;\n",
       "    }\n",
       "\n",
       "    .dataframe thead th {\n",
       "        text-align: right;\n",
       "    }\n",
       "</style>\n",
       "<table border=\"1\" class=\"dataframe\">\n",
       "  <thead>\n",
       "    <tr style=\"text-align: right;\">\n",
       "      <th></th>\n",
       "      <th>Instrument/CoreData/Name</th>\n",
       "      <th>Instrument/CoreData/StartDate</th>\n",
       "      <th>Instrument/CoreData/MaturityDate</th>\n",
       "      <th>Valuation/LegIdentifier</th>\n",
       "      <th>Valuation/PV</th>\n",
       "      <th>Valuation/PV/Ccy</th>\n",
       "      <th>Valuation/PvInReportCcy</th>\n",
       "    </tr>\n",
       "  </thead>\n",
       "  <tbody>\n",
       "    <tr>\n",
       "      <th>0</th>\n",
       "      <td>GBPJPY 6M Forward</td>\n",
       "      <td>2024-06-03</td>\n",
       "      <td>2024-12-03</td>\n",
       "      <td>DomesticLeg</td>\n",
       "      <td>-175,786.4687</td>\n",
       "      <td>CAD</td>\n",
       "      <td>-175,786.4687</td>\n",
       "    </tr>\n",
       "    <tr>\n",
       "      <th>1</th>\n",
       "      <td>GBPJPY 6M Forward</td>\n",
       "      <td>2024-06-03</td>\n",
       "      <td>2024-12-03</td>\n",
       "      <td>ForeignLeg</td>\n",
       "      <td>177,359.8191</td>\n",
       "      <td>CAD</td>\n",
       "      <td>177,359.8191</td>\n",
       "    </tr>\n",
       "    <tr>\n",
       "      <th>2</th>\n",
       "      <td>GBPJPY 5M Forward</td>\n",
       "      <td>2024-06-03</td>\n",
       "      <td>2024-11-04</td>\n",
       "      <td>DomesticLeg</td>\n",
       "      <td>-175,883.4370</td>\n",
       "      <td>CAD</td>\n",
       "      <td>-175,883.4370</td>\n",
       "    </tr>\n",
       "    <tr>\n",
       "      <th>3</th>\n",
       "      <td>GBPJPY 5M Forward</td>\n",
       "      <td>2024-06-03</td>\n",
       "      <td>2024-11-04</td>\n",
       "      <td>ForeignLeg</td>\n",
       "      <td>177,353.8317</td>\n",
       "      <td>CAD</td>\n",
       "      <td>177,353.8317</td>\n",
       "    </tr>\n",
       "  </tbody>\n",
       "</table>\n",
       "</div>"
      ],
      "text/plain": [
       "  Instrument/CoreData/Name Instrument/CoreData/StartDate  \\\n",
       "0        GBPJPY 6M Forward                    2024-06-03   \n",
       "1        GBPJPY 6M Forward                    2024-06-03   \n",
       "2        GBPJPY 5M Forward                    2024-06-03   \n",
       "3        GBPJPY 5M Forward                    2024-06-03   \n",
       "\n",
       "  Instrument/CoreData/MaturityDate Valuation/LegIdentifier  Valuation/PV  \\\n",
       "0                       2024-12-03             DomesticLeg -175,786.4687   \n",
       "1                       2024-12-03              ForeignLeg  177,359.8191   \n",
       "2                       2024-11-04             DomesticLeg -175,883.4370   \n",
       "3                       2024-11-04              ForeignLeg  177,353.8317   \n",
       "\n",
       "  Valuation/PV/Ccy  Valuation/PvInReportCcy  \n",
       "0              CAD            -175,786.4687  \n",
       "1              CAD             177,359.8191  \n",
       "2              CAD            -175,883.4370  \n",
       "3              CAD             177,353.8317  "
      ]
     },
     "metadata": {},
     "output_type": "display_data"
    }
   ],
   "source": [
    "valuation_df = get_daily_valuation(\n",
    "    market_data_scope=market_data_scope,\n",
    "    date=valuation_date,\n",
    "    recipe_code=recipe_code,\n",
    "    report_currency=\"CAD\",\n",
    ")\n",
    "\n",
    "display(valuation_df)"
   ]
  },
  {
   "cell_type": "markdown",
   "metadata": {},
   "source": [
    "Note that currently the spot rates CADGBP, CADJPY and GBPJPY are requested when performing the valuation, but when using the `convert_to_report_ccy=True` option, their values are not used at all. To demonstrate this, we now update the spot rate quotes with some arbitrary values and observe that the valuation does not change at all."
   ]
  },
  {
   "cell_type": "code",
   "execution_count": 159,
   "metadata": {},
   "outputs": [
    {
     "data": {
      "text/plain": [
       "'Quotes successfully loaded into LUSID. 3 quotes upserted.'"
      ]
     },
     "metadata": {},
     "output_type": "display_data"
    }
   ],
   "source": [
    "spot_rate_cadgbp = 0.4  # 0.568143\n",
    "quote_cad_gbp = lm.UpsertQuoteRequest(\n",
    "    quote_id=lm.QuoteId(\n",
    "        quote_series_id=lm.QuoteSeriesId(\n",
    "            provider=\"Lusid\",\n",
    "            instrument_id=\"CAD/GBP\",\n",
    "            instrument_id_type=\"CurrencyPair\",\n",
    "            quote_type=\"Price\",\n",
    "            field=\"mid\",\n",
    "        ),\n",
    "        effective_at=valuation_date.isoformat(),\n",
    "    ),\n",
    "    metric_value=lm.MetricValue(value=spot_rate_cadgbp, unit=\"rate\"),\n",
    "    lineage=\"InternalSystem\",\n",
    ")\n",
    "\n",
    "spot_rate_gbpjpy = 230  # 188.50\n",
    "quote_gbp_jpy = lm.UpsertQuoteRequest(\n",
    "    quote_id=lm.QuoteId(\n",
    "        quote_series_id=lm.QuoteSeriesId(\n",
    "            provider=\"Lusid\",\n",
    "            instrument_id=\"GBP/JPY\",\n",
    "            instrument_id_type=\"CurrencyPair\",\n",
    "            quote_type=\"Price\",\n",
    "            field=\"mid\",\n",
    "        ),\n",
    "        effective_at=valuation_date.isoformat(),\n",
    "    ),\n",
    "    metric_value=lm.MetricValue(value=spot_rate_gbpjpy, unit=\"rate\"),\n",
    "    lineage=\"InternalSystem\",\n",
    ")\n",
    "\n",
    "spot_rate_cadjpy = 90  # 107.09\n",
    "quote_cad_jpy = lm.UpsertQuoteRequest(\n",
    "    quote_id=lm.QuoteId(\n",
    "        quote_series_id=lm.QuoteSeriesId(\n",
    "            provider=\"Lusid\",\n",
    "            instrument_id=\"CAD/JPY\",\n",
    "            instrument_id_type=\"CurrencyPair\",\n",
    "            quote_type=\"Price\",\n",
    "            field=\"mid\",\n",
    "        ),\n",
    "        effective_at=valuation_date.isoformat(),\n",
    "    ),\n",
    "    metric_value=lm.MetricValue(value=spot_rate_cadjpy, unit=\"rate\"),\n",
    "    lineage=\"InternalSystem\",\n",
    ")\n",
    "\n",
    "upsert_quotes(\n",
    "    scope=market_data_scope, quotes=[quote_cad_gbp, quote_gbp_jpy, quote_cad_jpy]\n",
    ")"
   ]
  },
  {
   "cell_type": "code",
   "execution_count": 160,
   "metadata": {},
   "outputs": [
    {
     "data": {
      "text/html": [
       "<div>\n",
       "<style scoped>\n",
       "    .dataframe tbody tr th:only-of-type {\n",
       "        vertical-align: middle;\n",
       "    }\n",
       "\n",
       "    .dataframe tbody tr th {\n",
       "        vertical-align: top;\n",
       "    }\n",
       "\n",
       "    .dataframe thead th {\n",
       "        text-align: right;\n",
       "    }\n",
       "</style>\n",
       "<table border=\"1\" class=\"dataframe\">\n",
       "  <thead>\n",
       "    <tr style=\"text-align: right;\">\n",
       "      <th></th>\n",
       "      <th>Instrument/CoreData/Name</th>\n",
       "      <th>Instrument/CoreData/StartDate</th>\n",
       "      <th>Instrument/CoreData/MaturityDate</th>\n",
       "      <th>Valuation/LegIdentifier</th>\n",
       "      <th>Valuation/PV</th>\n",
       "      <th>Valuation/PV/Ccy</th>\n",
       "      <th>Valuation/PvInReportCcy</th>\n",
       "    </tr>\n",
       "  </thead>\n",
       "  <tbody>\n",
       "    <tr>\n",
       "      <th>0</th>\n",
       "      <td>GBPJPY 6M Forward</td>\n",
       "      <td>2024-06-03</td>\n",
       "      <td>2024-12-03</td>\n",
       "      <td>DomesticLeg</td>\n",
       "      <td>-175,786.4687</td>\n",
       "      <td>CAD</td>\n",
       "      <td>-175,786.4687</td>\n",
       "    </tr>\n",
       "    <tr>\n",
       "      <th>1</th>\n",
       "      <td>GBPJPY 6M Forward</td>\n",
       "      <td>2024-06-03</td>\n",
       "      <td>2024-12-03</td>\n",
       "      <td>ForeignLeg</td>\n",
       "      <td>177,359.8191</td>\n",
       "      <td>CAD</td>\n",
       "      <td>177,359.8191</td>\n",
       "    </tr>\n",
       "    <tr>\n",
       "      <th>2</th>\n",
       "      <td>GBPJPY 5M Forward</td>\n",
       "      <td>2024-06-03</td>\n",
       "      <td>2024-11-04</td>\n",
       "      <td>DomesticLeg</td>\n",
       "      <td>-175,883.4370</td>\n",
       "      <td>CAD</td>\n",
       "      <td>-175,883.4370</td>\n",
       "    </tr>\n",
       "    <tr>\n",
       "      <th>3</th>\n",
       "      <td>GBPJPY 5M Forward</td>\n",
       "      <td>2024-06-03</td>\n",
       "      <td>2024-11-04</td>\n",
       "      <td>ForeignLeg</td>\n",
       "      <td>177,353.8317</td>\n",
       "      <td>CAD</td>\n",
       "      <td>177,353.8317</td>\n",
       "    </tr>\n",
       "  </tbody>\n",
       "</table>\n",
       "</div>"
      ],
      "text/plain": [
       "  Instrument/CoreData/Name Instrument/CoreData/StartDate  \\\n",
       "0        GBPJPY 6M Forward                    2024-06-03   \n",
       "1        GBPJPY 6M Forward                    2024-06-03   \n",
       "2        GBPJPY 5M Forward                    2024-06-03   \n",
       "3        GBPJPY 5M Forward                    2024-06-03   \n",
       "\n",
       "  Instrument/CoreData/MaturityDate Valuation/LegIdentifier  Valuation/PV  \\\n",
       "0                       2024-12-03             DomesticLeg -175,786.4687   \n",
       "1                       2024-12-03              ForeignLeg  177,359.8191   \n",
       "2                       2024-11-04             DomesticLeg -175,883.4370   \n",
       "3                       2024-11-04              ForeignLeg  177,353.8317   \n",
       "\n",
       "  Valuation/PV/Ccy  Valuation/PvInReportCcy  \n",
       "0              CAD            -175,786.4687  \n",
       "1              CAD             177,359.8191  \n",
       "2              CAD            -175,883.4370  \n",
       "3              CAD             177,353.8317  "
      ]
     },
     "metadata": {},
     "output_type": "display_data"
    }
   ],
   "source": [
    "valuation_df = get_daily_valuation(\n",
    "    market_data_scope=market_data_scope,\n",
    "    date=valuation_date,\n",
    "    recipe_code=recipe_code,\n",
    "    report_currency=\"CAD\",\n",
    ")\n",
    "\n",
    "display(valuation_df)"
   ]
  },
  {
   "cell_type": "markdown",
   "metadata": {},
   "source": [
    "Summing the PVs of the domestic and foreign legs gives net valuations for the 6M and 5M forwards respectively as"
   ]
  },
  {
   "cell_type": "code",
   "execution_count": 161,
   "metadata": {},
   "outputs": [
    {
     "data": {
      "text/plain": [
       "'Net PV 6M: 1573.3503999999957 CAD'"
      ]
     },
     "metadata": {},
     "output_type": "display_data"
    },
    {
     "data": {
      "text/plain": [
       "'Net PV 5M: 1470.3947000000044 CAD'"
      ]
     },
     "metadata": {},
     "output_type": "display_data"
    }
   ],
   "source": [
    "net_pv_6m = 177_359.8191 - 175_786.4687\n",
    "display(f\"Net PV 6M: {net_pv_6m} CAD\")\n",
    "\n",
    "net_pv_5m = 177_353.8317 - 175_883.4370\n",
    "display(f\"Net PV 5M: {net_pv_5m} CAD\")"
   ]
  },
  {
   "cell_type": "markdown",
   "metadata": {},
   "source": [
    "Note that these two valuations are different since the calculation is based on 5M and 6M forward rates from the CADGBP and CADJPY forward curves, rather than the spot rates. Now we infer the forward rates used from the individual leg valuations and show how these can be determined using linear interpolation on the forward curves. For each leg, the inferred forward rate is simply the leg valuation in the report currency divided by the leg amount in the forward definition."
   ]
  },
  {
   "cell_type": "code",
   "execution_count": 162,
   "metadata": {},
   "outputs": [
    {
     "data": {
      "text/plain": [
       "'Forward rate CADGBP 5M: 0.5685583685745236'"
      ]
     },
     "metadata": {},
     "output_type": "display_data"
    },
    {
     "data": {
      "text/plain": [
       "'Forward rate CADGBP 6M: 0.5688719998731051'"
      ]
     },
     "metadata": {},
     "output_type": "display_data"
    },
    {
     "data": {
      "text/plain": [
       "'Forward rate CADJPY 5M: 107.13047368572866'"
      ]
     },
     "metadata": {},
     "output_type": "display_data"
    },
    {
     "data": {
      "text/plain": [
       "'Forward rate CADJPY 6M: 107.12685712251046'"
      ]
     },
     "metadata": {},
     "output_type": "display_data"
    }
   ],
   "source": [
    "def inferred_forward_rates():\n",
    "    fwd_cadgbp_5m = -100_000 / -175_883.4370\n",
    "    fwd_cadgbp_6m = -100_000 / -175_786.4687\n",
    "    fwd_cadjpy_5m = 19_000_000 / 177_353.8317\n",
    "    fwd_cadjpy_6m = 19_000_000 / 177_359.8191\n",
    "\n",
    "    display(f\"Forward rate CADGBP 5M: {fwd_cadgbp_5m}\")\n",
    "    display(f\"Forward rate CADGBP 6M: {fwd_cadgbp_6m}\")\n",
    "    display(f\"Forward rate CADJPY 5M: {fwd_cadjpy_5m}\")\n",
    "    display(f\"Forward rate CADJPY 6M: {fwd_cadjpy_6m}\")\n",
    "\n",
    "\n",
    "inferred_forward_rates()"
   ]
  },
  {
   "cell_type": "markdown",
   "metadata": {},
   "source": [
    "We now derive the forward rates using linear interpolation on the forward curves and observe these are consistent with the forward rates inferred from the valuations.\n",
    "\n",
    "The 5M maturity date (Mon 04/11/24) falls between the 2W and 1M tenors and the 6M maturity date (Tue 03/12/24) falls between the 1M and 2M tenors.\n",
    "\n",
    "**2W:** 14 days after the spot date of Wed 16/10/24 is Wed 30/10/24. This is 5 days before the 5M maturity.\n",
    "\n",
    "**1M:** Adding one month to the spot date (Wed 16/10/24) and rolling forward over the weekend gives the 1M tenor date as Mon 18/11/24. This is 14 days after the 5M maturity date and 15 days before the 6M maturity date.\n",
    "\n",
    "**2M:** Adding one month to the spot date (Wed 16/10/24) gives the 2M tenor date as Mon 16/12/24. This is 13 days after the 6M maturity."
   ]
  },
  {
   "cell_type": "code",
   "execution_count": 163,
   "metadata": {},
   "outputs": [
    {
     "data": {
      "text/plain": [
       "'Interpolated forward rate CADGBP 5M maturity: 0.5685583684210527'"
      ]
     },
     "metadata": {},
     "output_type": "display_data"
    },
    {
     "data": {
      "text/plain": [
       "'Interpolated forward rate CADGBP 6M maturity: 0.5688719999999999'"
      ]
     },
     "metadata": {},
     "output_type": "display_data"
    },
    {
     "data": {
      "text/plain": [
       "'Interpolated forward rate CADJPY 5M maturity: 107.13047368421053'"
      ]
     },
     "metadata": {},
     "output_type": "display_data"
    },
    {
     "data": {
      "text/plain": [
       "'Interpolated forward rate CADJPY 6M maturity: 107.12685714285715'"
      ]
     },
     "metadata": {},
     "output_type": "display_data"
    }
   ],
   "source": [
    "def curve_forward_rates():\n",
    "    fwd_cadgbp_2w = 0.568516\n",
    "    fwd_cadgbp_1m = 0.568677\n",
    "    fwd_cadgbp_2m = 0.569041\n",
    "    fwd_cadgbp_interpolated_5m = (14 * fwd_cadgbp_2w + 5 * fwd_cadgbp_1m) / 19\n",
    "    display(\n",
    "        f\"Interpolated forward rate CADGBP 5M maturity: {fwd_cadgbp_interpolated_5m}\"\n",
    "    )\n",
    "    fwd_cadgbp_interpolated_6m = (13 * fwd_cadgbp_1m + 15 * fwd_cadgbp_2m) / 28\n",
    "    display(\n",
    "        f\"Interpolated forward rate CADGBP 6M maturity: {fwd_cadgbp_interpolated_6m}\"\n",
    "    )\n",
    "\n",
    "    fwd_cadjpy_2w = 107.131\n",
    "    fwd_cadjpy_1m = 107.129\n",
    "    fwd_cadjpy_2m = 107.125\n",
    "    fwd_cadjpy_interpolated_5m = (14 * fwd_cadjpy_2w + 5 * fwd_cadjpy_1m) / 19\n",
    "    display(\n",
    "        f\"Interpolated forward rate CADJPY 5M maturity: {fwd_cadjpy_interpolated_5m}\"\n",
    "    )\n",
    "    fwd_cadjpy_interpolated_6m = (13 * fwd_cadjpy_1m + 15 * fwd_cadjpy_2m) / 28\n",
    "    display(\n",
    "        f\"Interpolated forward rate CADJPY 6M maturity: {fwd_cadjpy_interpolated_6m}\"\n",
    "    )\n",
    "\n",
    "\n",
    "curve_forward_rates()"
   ]
  },
  {
   "cell_type": "markdown",
   "metadata": {},
   "source": [
    "Now clean up and remove the 5M forward from the portfolio."
   ]
  },
  {
   "cell_type": "code",
   "execution_count": 164,
   "metadata": {},
   "outputs": [
    {
     "data": {
      "text/plain": [
       "'Transaction successfully updated at time 2024-09-27 12:25:12.516610+00:00'"
      ]
     },
     "metadata": {},
     "output_type": "display_data"
    }
   ],
   "source": [
    "# Cleanup\n",
    "stock_in_txn = lm.TransactionRequest(\n",
    "    transaction_id=\"TXN002\",\n",
    "    type=\"StockIn\",\n",
    "    instrument_identifiers={\"Instrument/default/ClientInternal\": forward_identifier},\n",
    "    transaction_date=trade_date.isoformat(),\n",
    "    settlement_date=settlement_date.isoformat(),\n",
    "    units=0,\n",
    "    transaction_price=lm.TransactionPrice(price=0, type=\"Price\"),\n",
    "    total_consideration=lm.CurrencyAndAmount(amount=0, currency=pf_ccy),\n",
    "    exchange_rate=1,\n",
    "    transaction_currency=pf_ccy,\n",
    ")\n",
    "\n",
    "# Upsert StockIn transaction\n",
    "try:\n",
    "    response = transaction_portfolios_api.upsert_transactions(\n",
    "        scope=pf_scope, code=pf_code, transaction_request=[stock_in_txn]\n",
    "    )\n",
    "    display(f\"Transaction successfully updated at time {response.version.as_at_date}\")\n",
    "\n",
    "except lusid.ApiException as e:\n",
    "    body = json.loads(e.body)\n",
    "    display(\n",
    "        f\"Failed to upsert transaction - Title: {body['title']}, Details: {body['detail']}, Errors: {body['errors']}\"\n",
    "    )"
   ]
  },
  {
   "cell_type": "markdown",
   "metadata": {},
   "source": [
    "## 4. Forward Rates and Undiscounted Models\n",
    "\n",
    "When valuing a portfolio with two FX forwards with the same maturities and the same values for `fgn_ccy` and `fgn_amount` using an undiscounted model, such as `ForwardFromCurveUndiscounted`, together with the `convert_to_report_ccy=False` model option, the PVs of the foreign legs in the foreign currency may differ between the two forwards. The example below shows a GBPJPY forward and a USDJPY forward with the same JPY leg amount and we will see that the valuations of the JPY legs are different for each forward. This occurs because we use forward rates to calculate the leg PVs in `dom_ccy`, then the PV of the foreign leg in `fgn_ccy` is calculated using a spot rate DOMFGN. "
   ]
  },
  {
   "cell_type": "code",
   "execution_count": 165,
   "metadata": {},
   "outputs": [
    {
     "data": {
      "text/plain": [
       "'Success! Upserted instrument LUID_000185GO'"
      ]
     },
     "metadata": {},
     "output_type": "display_data"
    }
   ],
   "source": [
    "forward_name = \"USDJPY 6M Forward\"\n",
    "forward_identifier = \"FWD-USDJPY6M\"\n",
    "\n",
    "start_date = datetime(2024, 6, 3, tzinfo=pytz.utc)\n",
    "maturity_date = datetime(2024, 12, 3, tzinfo=pytz.utc)\n",
    "dom_amount = -126_666\n",
    "dom_ccy = \"USD\"\n",
    "fgn_amount = 19_000_000\n",
    "fgn_ccy = \"JPY\"\n",
    "\n",
    "# Create FX forward definition\n",
    "fx_forward = lm.FxForward(\n",
    "    start_date=start_date.isoformat(),\n",
    "    maturity_date=maturity_date.isoformat(),\n",
    "    dom_amount=dom_amount,\n",
    "    dom_ccy=dom_ccy,\n",
    "    fgn_amount=fgn_amount,\n",
    "    fgn_ccy=fgn_ccy,\n",
    "    instrument_type=\"FxForward\",\n",
    ")\n",
    "\n",
    "# Create LUSID instrument definition\n",
    "forward_definition = lm.InstrumentDefinition(\n",
    "    name=forward_name,\n",
    "    identifiers={\"ClientInternal\": lm.InstrumentIdValue(value=forward_identifier)},\n",
    "    definition=fx_forward,\n",
    ")\n",
    "\n",
    "# Upsert FX forward instrument\n",
    "try:\n",
    "    upsert_response = instruments_api.upsert_instruments(\n",
    "        request_body={forward_identifier: forward_definition}\n",
    "    )\n",
    "    luid = upsert_response.values[forward_identifier].lusid_instrument_id\n",
    "    display(f\"Success! Upserted instrument {luid}\")\n",
    "except KeyError as e:\n",
    "    display(\n",
    "        f\"Failed to upsert instrument {forward_identifier}. Details: {upsert_response.failed[forward_identifier].detail}\"\n",
    "    )\n",
    "except lusid.ApiException as e:\n",
    "    body = json.loads(e.body)\n",
    "    display(\n",
    "        f\"Title: {body['title']}, Details: {body['detail']}, Errors: {body['errors']}\"\n",
    "    )"
   ]
  },
  {
   "cell_type": "markdown",
   "metadata": {},
   "source": [
    "Having created and upserted the USDJPY FX forward, we now add a `StockIn` transaction to create a position of one unit of the forward without incurring any costs which would affect the cash holding."
   ]
  },
  {
   "cell_type": "code",
   "execution_count": 166,
   "metadata": {},
   "outputs": [
    {
     "data": {
      "text/plain": [
       "'Transaction successfully updated at time 2024-09-27 12:25:13.268462+00:00'"
      ]
     },
     "metadata": {},
     "output_type": "display_data"
    }
   ],
   "source": [
    "# Trade variables\n",
    "settle_days = 2\n",
    "trade_date = start_date\n",
    "settlement_date = start_date + timedelta(days=settle_days)\n",
    "\n",
    "# Create StockIn transaction\n",
    "stock_in_txn = lm.TransactionRequest(\n",
    "    transaction_id=\"TXN003\",\n",
    "    type=\"StockIn\",\n",
    "    instrument_identifiers={\"Instrument/default/ClientInternal\": forward_identifier},\n",
    "    transaction_date=trade_date.isoformat(),\n",
    "    settlement_date=settlement_date.isoformat(),\n",
    "    units=1,\n",
    "    transaction_price=lm.TransactionPrice(price=0, type=\"Price\"),\n",
    "    total_consideration=lm.CurrencyAndAmount(amount=0, currency=pf_ccy),\n",
    "    exchange_rate=1,\n",
    "    transaction_currency=pf_ccy,\n",
    ")\n",
    "\n",
    "# Upsert StockIn transaction\n",
    "try:\n",
    "    response = transaction_portfolios_api.upsert_transactions(\n",
    "        scope=pf_scope, code=pf_code, transaction_request=[stock_in_txn]\n",
    "    )\n",
    "    display(f\"Transaction successfully updated at time {response.version.as_at_date}\")\n",
    "\n",
    "except lusid.ApiException as e:\n",
    "    body = json.loads(e.body)\n",
    "    display(\n",
    "        f\"Failed to upsert transaction - Title: {body['title']}, Details: {body['detail']}, Errors: {body['errors']}\"\n",
    "    )"
   ]
  },
  {
   "cell_type": "markdown",
   "metadata": {},
   "source": [
    "Now create the pricing recipes using the `convert_to_report_ccy=False` option."
   ]
  },
  {
   "cell_type": "code",
   "execution_count": 167,
   "metadata": {},
   "outputs": [],
   "source": [
    "# Create market context\n",
    "market_data_scope = \"fx-forward-undiscounted-leg-level\"\n",
    "market_context = create_market_context(\n",
    "    scope=market_data_scope,\n",
    "    market_rules=[\n",
    "        # Market data rule for resolving FX spot rates\n",
    "        lm.MarketDataKeyRule(\n",
    "            key=\"Fx.*.*\",\n",
    "            supplier=\"Lusid\",\n",
    "            data_scope=market_data_scope,\n",
    "            quote_type=\"Rate\",\n",
    "            field=\"mid\",\n",
    "            quote_interval=\"5D.0D\",\n",
    "        ),\n",
    "        # Market data rule for resolving forward rates curves\n",
    "        lm.MarketDataKeyRule(\n",
    "            key=\"FxForwards.*.*.FxFwdCurve\",\n",
    "            supplier=\"Lusid\",\n",
    "            data_scope=market_data_scope,\n",
    "            quote_type=\"Rate\",\n",
    "            field=\"mid\",\n",
    "            quote_interval=\"1Y.0D\",\n",
    "        ),\n",
    "    ],\n",
    ")\n",
    "\n",
    "# Create pricing context\n",
    "pricing_context = lm.PricingContext(\n",
    "    model_rules=[\n",
    "        lm.VendorModelRule(\n",
    "            supplier=market_supplier,\n",
    "            model_name=\"ForwardFromCurveUndiscounted\",\n",
    "            instrument_type=\"FxForward\",\n",
    "            model_options=lm.FxForwardModelOptions(\n",
    "                model_options_type=\"FxForwardModelOptions\",\n",
    "                convert_to_report_ccy=False,\n",
    "                discounting_method=\"Invalid\",\n",
    "                forward_rate_observable_type=\"FxForwardCurve\",\n",
    "            ),\n",
    "        )\n",
    "    ],\n",
    "    options=lm.PricingOptions(produce_separate_result_for_linear_otc_legs=False),\n",
    ")\n",
    "\n",
    "recipe_code = \"curve-undiscounted-leg-level\"\n",
    "pricing_recipe = lm.ConfigurationRecipe(\n",
    "    scope=market_data_scope,\n",
    "    code=recipe_code,\n",
    "    description=\"FX forward curve, no discounting\",\n",
    "    market=market_context,\n",
    "    pricing=pricing_context,\n",
    ")\n",
    "\n",
    "upsert_recipe(pricing_recipe)\n",
    "\n",
    "pricing_context_split = lm.PricingContext(\n",
    "    model_rules=[\n",
    "        lm.VendorModelRule(\n",
    "            supplier=market_supplier,\n",
    "            model_name=\"ForwardFromCurveUndiscounted\",\n",
    "            instrument_type=\"FxForward\",\n",
    "            model_options=lm.FxForwardModelOptions(\n",
    "                model_options_type=\"FxForwardModelOptions\",\n",
    "                convert_to_report_ccy=False,\n",
    "                discounting_method=\"Invalid\",\n",
    "                forward_rate_observable_type=\"FxForwardCurve\",\n",
    "            ),\n",
    "        )\n",
    "    ],\n",
    "    options=lm.PricingOptions(produce_separate_result_for_linear_otc_legs=True),\n",
    ")\n",
    "\n",
    "recipe_code_split = \"curve-undiscounted-leg-level-split\"\n",
    "pricing_recipe_split = lm.ConfigurationRecipe(\n",
    "    scope=market_data_scope,\n",
    "    code=recipe_code_split,\n",
    "    description=\"FX forward curve, no discounting, split by legs\",\n",
    "    market=market_context,\n",
    "    pricing=pricing_context_split,\n",
    ")\n",
    "\n",
    "upsert_recipe(pricing_recipe_split)"
   ]
  },
  {
   "cell_type": "markdown",
   "metadata": {},
   "source": [
    "Next, we upsert spot rate quotes and forward rate tenor curves. We will need a GBPJPY forward rates curve for the GBPJPY forward and a USDJPY forward rate curve for the USDJPY forward. For the GBPJPY forward, we will also need spot rate quotes for GBPJPY and JPYGBP. For the USDJPY forward, we will need a USDJPY spot rate and a USDGBP spot rate to convert to the portfolio currency."
   ]
  },
  {
   "cell_type": "code",
   "execution_count": 168,
   "metadata": {},
   "outputs": [
    {
     "data": {
      "text/plain": [
       "'Quotes successfully loaded into LUSID. 4 quotes upserted.'"
      ]
     },
     "metadata": {},
     "output_type": "display_data"
    },
    {
     "data": {
      "text/plain": [
       "'Quotes successfully loaded into LUSID. 1 quotes upserted.'"
      ]
     },
     "metadata": {},
     "output_type": "display_data"
    },
    {
     "data": {
      "text/plain": [
       "'Quotes successfully loaded into LUSID. 1 quotes upserted.'"
      ]
     },
     "metadata": {},
     "output_type": "display_data"
    }
   ],
   "source": [
    "# Upsert market data\n",
    "spot_rate_gbpjpy = 188.5\n",
    "quote_gbp_jpy = lm.UpsertQuoteRequest(\n",
    "    quote_id=lm.QuoteId(\n",
    "        quote_series_id=lm.QuoteSeriesId(\n",
    "            provider=\"Lusid\",\n",
    "            instrument_id=\"GBP/JPY\",\n",
    "            instrument_id_type=\"CurrencyPair\",\n",
    "            quote_type=\"Price\",\n",
    "            field=\"mid\",\n",
    "        ),\n",
    "        effective_at=valuation_date.isoformat(),\n",
    "    ),\n",
    "    metric_value=lm.MetricValue(value=spot_rate_gbpjpy, unit=\"rate\"),\n",
    "    lineage=\"InternalSystem\",\n",
    ")\n",
    "\n",
    "spot_rate_jpygbp = 1 / 188.5\n",
    "quote_jpy_gbp = lm.UpsertQuoteRequest(\n",
    "    quote_id=lm.QuoteId(\n",
    "        quote_series_id=lm.QuoteSeriesId(\n",
    "            provider=\"Lusid\",\n",
    "            instrument_id=\"JPY/GBP\",\n",
    "            instrument_id_type=\"CurrencyPair\",\n",
    "            quote_type=\"Price\",\n",
    "            field=\"mid\",\n",
    "        ),\n",
    "        effective_at=valuation_date.isoformat(),\n",
    "    ),\n",
    "    metric_value=lm.MetricValue(value=spot_rate_jpygbp, unit=\"rate\"),\n",
    "    lineage=\"InternalSystem\",\n",
    ")\n",
    "\n",
    "spot_rate_usdjpy = 146.5\n",
    "quote_usd_jpy = lm.UpsertQuoteRequest(\n",
    "    quote_id=lm.QuoteId(\n",
    "        quote_series_id=lm.QuoteSeriesId(\n",
    "            provider=\"Lusid\",\n",
    "            instrument_id=\"USD/JPY\",\n",
    "            instrument_id_type=\"CurrencyPair\",\n",
    "            quote_type=\"Price\",\n",
    "            field=\"mid\",\n",
    "        ),\n",
    "        effective_at=valuation_date.isoformat(),\n",
    "    ),\n",
    "    metric_value=lm.MetricValue(value=spot_rate_usdjpy, unit=\"rate\"),\n",
    "    lineage=\"InternalSystem\",\n",
    ")\n",
    "\n",
    "spot_rate_usdgbp = spot_rate_usdjpy / spot_rate_gbpjpy\n",
    "quote_usd_gbp = lm.UpsertQuoteRequest(\n",
    "    quote_id=lm.QuoteId(\n",
    "        quote_series_id=lm.QuoteSeriesId(\n",
    "            provider=\"Lusid\",\n",
    "            instrument_id=\"USD/GBP\",\n",
    "            instrument_id_type=\"CurrencyPair\",\n",
    "            quote_type=\"Price\",\n",
    "            field=\"mid\",\n",
    "        ),\n",
    "        effective_at=valuation_date.isoformat(),\n",
    "    ),\n",
    "    metric_value=lm.MetricValue(value=spot_rate_usdgbp, unit=\"rate\"),\n",
    "    lineage=\"InternalSystem\",\n",
    ")\n",
    "\n",
    "upsert_quotes(\n",
    "    scope=market_data_scope,\n",
    "    quotes=[quote_gbp_jpy, quote_jpy_gbp, quote_usd_jpy, quote_usd_gbp],\n",
    ")\n",
    "\n",
    "\n",
    "# FX forward tenor curve GBPJPY\n",
    "forward_curve_data = lm.FxForwardTenorCurveData(\n",
    "    market_data_type=\"FxForwardTenorCurveData\",\n",
    "    base_date=valuation_date.isoformat(),\n",
    "    dom_ccy=\"GBP\",\n",
    "    fgn_ccy=\"JPY\",\n",
    "    tenors=[\"1W\", \"2W\", \"1M\", \"2M\", \"3M\"],\n",
    "    rates=[188.32, 188.14, 187.67, 186.93, 186.11],\n",
    ")\n",
    "\n",
    "fwd_curve_id = lm.ComplexMarketDataId(\n",
    "    provider=\"Lusid\",\n",
    "    price_source=None,\n",
    "    effective_at=valuation_date.isoformat(),\n",
    "    market_asset=\"GBP/JPY/FxFwdCurve\",\n",
    ")\n",
    "\n",
    "complex_market_data_request = lm.UpsertComplexMarketDataRequest(\n",
    "    market_data_id=fwd_curve_id,\n",
    "    market_data=forward_curve_data,\n",
    ")\n",
    "\n",
    "# Upsert forward curve into LUSID\n",
    "response = upsert_complex_market_data(\n",
    "    scope=market_data_scope, request=complex_market_data_request\n",
    ")\n",
    "\n",
    "\n",
    "# FX forward tenor curve USDJPY\n",
    "forward_curve_data = lm.FxForwardTenorCurveData(\n",
    "    market_data_type=\"FxForwardTenorCurveData\",\n",
    "    base_date=valuation_date.isoformat(),\n",
    "    dom_ccy=\"USD\",\n",
    "    fgn_ccy=\"JPY\",\n",
    "    tenors=[\"1W\", \"2W\", \"1M\", \"2M\", \"3M\"],\n",
    "    rates=[146.35, 146.19, 145.77, 145.21, 144.60],\n",
    ")\n",
    "\n",
    "fwd_curve_id = lm.ComplexMarketDataId(\n",
    "    provider=\"Lusid\",\n",
    "    price_source=None,\n",
    "    effective_at=valuation_date.isoformat(),\n",
    "    market_asset=\"USD/JPY/FxFwdCurve\",\n",
    ")\n",
    "\n",
    "complex_market_data_request = lm.UpsertComplexMarketDataRequest(\n",
    "    market_data_id=fwd_curve_id,\n",
    "    market_data=forward_curve_data,\n",
    ")\n",
    "\n",
    "# Upsert forward curve into LUSID\n",
    "response = upsert_complex_market_data(\n",
    "    scope=market_data_scope, request=complex_market_data_request\n",
    ")"
   ]
  },
  {
   "cell_type": "markdown",
   "metadata": {},
   "source": [
    "Now, we value the portfolio with both recipes, producing a net valuation for each forward, then a valuation for each individual leg of the forwards."
   ]
  },
  {
   "cell_type": "code",
   "execution_count": 169,
   "metadata": {},
   "outputs": [
    {
     "data": {
      "text/html": [
       "<div>\n",
       "<style scoped>\n",
       "    .dataframe tbody tr th:only-of-type {\n",
       "        vertical-align: middle;\n",
       "    }\n",
       "\n",
       "    .dataframe tbody tr th {\n",
       "        vertical-align: top;\n",
       "    }\n",
       "\n",
       "    .dataframe thead th {\n",
       "        text-align: right;\n",
       "    }\n",
       "</style>\n",
       "<table border=\"1\" class=\"dataframe\">\n",
       "  <thead>\n",
       "    <tr style=\"text-align: right;\">\n",
       "      <th></th>\n",
       "      <th>Instrument/CoreData/Name</th>\n",
       "      <th>Instrument/CoreData/StartDate</th>\n",
       "      <th>Instrument/CoreData/MaturityDate</th>\n",
       "      <th>Valuation/LegIdentifier</th>\n",
       "      <th>Valuation/PV</th>\n",
       "      <th>Valuation/PV/Ccy</th>\n",
       "      <th>Valuation/PvInReportCcy</th>\n",
       "    </tr>\n",
       "  </thead>\n",
       "  <tbody>\n",
       "    <tr>\n",
       "      <th>0</th>\n",
       "      <td>GBPJPY 6M Forward</td>\n",
       "      <td>2024-06-03</td>\n",
       "      <td>2024-12-03</td>\n",
       "      <td>None</td>\n",
       "      <td>1,455.8534</td>\n",
       "      <td>GBP</td>\n",
       "      <td>1,455.8534</td>\n",
       "    </tr>\n",
       "    <tr>\n",
       "      <th>1</th>\n",
       "      <td>USDJPY 6M Forward</td>\n",
       "      <td>2024-06-03</td>\n",
       "      <td>2024-12-03</td>\n",
       "      <td>None</td>\n",
       "      <td>3,945.1226</td>\n",
       "      <td>USD</td>\n",
       "      <td>3,066.1032</td>\n",
       "    </tr>\n",
       "  </tbody>\n",
       "</table>\n",
       "</div>"
      ],
      "text/plain": [
       "  Instrument/CoreData/Name Instrument/CoreData/StartDate  \\\n",
       "0        GBPJPY 6M Forward                    2024-06-03   \n",
       "1        USDJPY 6M Forward                    2024-06-03   \n",
       "\n",
       "  Instrument/CoreData/MaturityDate Valuation/LegIdentifier  Valuation/PV  \\\n",
       "0                       2024-12-03                    None    1,455.8534   \n",
       "1                       2024-12-03                    None    3,945.1226   \n",
       "\n",
       "  Valuation/PV/Ccy  Valuation/PvInReportCcy  \n",
       "0              GBP               1,455.8534  \n",
       "1              USD               3,066.1032  "
      ]
     },
     "metadata": {},
     "output_type": "display_data"
    }
   ],
   "source": [
    "valuation_df = get_daily_valuation(\n",
    "    market_data_scope=market_data_scope, date=valuation_date, recipe_code=recipe_code\n",
    ")\n",
    "\n",
    "display(valuation_df)"
   ]
  },
  {
   "cell_type": "code",
   "execution_count": 170,
   "metadata": {},
   "outputs": [
    {
     "data": {
      "text/html": [
       "<div>\n",
       "<style scoped>\n",
       "    .dataframe tbody tr th:only-of-type {\n",
       "        vertical-align: middle;\n",
       "    }\n",
       "\n",
       "    .dataframe tbody tr th {\n",
       "        vertical-align: top;\n",
       "    }\n",
       "\n",
       "    .dataframe thead th {\n",
       "        text-align: right;\n",
       "    }\n",
       "</style>\n",
       "<table border=\"1\" class=\"dataframe\">\n",
       "  <thead>\n",
       "    <tr style=\"text-align: right;\">\n",
       "      <th></th>\n",
       "      <th>Instrument/CoreData/Name</th>\n",
       "      <th>Instrument/CoreData/StartDate</th>\n",
       "      <th>Instrument/CoreData/MaturityDate</th>\n",
       "      <th>Valuation/LegIdentifier</th>\n",
       "      <th>Valuation/PV</th>\n",
       "      <th>Valuation/PV/Ccy</th>\n",
       "      <th>Valuation/PvInReportCcy</th>\n",
       "    </tr>\n",
       "  </thead>\n",
       "  <tbody>\n",
       "    <tr>\n",
       "      <th>0</th>\n",
       "      <td>GBPJPY 6M Forward</td>\n",
       "      <td>2024-06-03</td>\n",
       "      <td>2024-12-03</td>\n",
       "      <td>DomesticLeg</td>\n",
       "      <td>-100,000.0000</td>\n",
       "      <td>GBP</td>\n",
       "      <td>-100,000.0000</td>\n",
       "    </tr>\n",
       "    <tr>\n",
       "      <th>1</th>\n",
       "      <td>GBPJPY 6M Forward</td>\n",
       "      <td>2024-06-03</td>\n",
       "      <td>2024-12-03</td>\n",
       "      <td>ForeignLeg</td>\n",
       "      <td>19,124,428.3573</td>\n",
       "      <td>JPY</td>\n",
       "      <td>101,455.8534</td>\n",
       "    </tr>\n",
       "    <tr>\n",
       "      <th>2</th>\n",
       "      <td>USDJPY 6M Forward</td>\n",
       "      <td>2024-06-03</td>\n",
       "      <td>2024-12-03</td>\n",
       "      <td>DomesticLeg</td>\n",
       "      <td>-126,666.0000</td>\n",
       "      <td>USD</td>\n",
       "      <td>-98,443.3369</td>\n",
       "    </tr>\n",
       "    <tr>\n",
       "      <th>3</th>\n",
       "      <td>USDJPY 6M Forward</td>\n",
       "      <td>2024-06-03</td>\n",
       "      <td>2024-12-03</td>\n",
       "      <td>ForeignLeg</td>\n",
       "      <td>19,134,529.4562</td>\n",
       "      <td>JPY</td>\n",
       "      <td>101,509.4401</td>\n",
       "    </tr>\n",
       "  </tbody>\n",
       "</table>\n",
       "</div>"
      ],
      "text/plain": [
       "  Instrument/CoreData/Name Instrument/CoreData/StartDate  \\\n",
       "0        GBPJPY 6M Forward                    2024-06-03   \n",
       "1        GBPJPY 6M Forward                    2024-06-03   \n",
       "2        USDJPY 6M Forward                    2024-06-03   \n",
       "3        USDJPY 6M Forward                    2024-06-03   \n",
       "\n",
       "  Instrument/CoreData/MaturityDate Valuation/LegIdentifier    Valuation/PV  \\\n",
       "0                       2024-12-03             DomesticLeg   -100,000.0000   \n",
       "1                       2024-12-03              ForeignLeg 19,124,428.3573   \n",
       "2                       2024-12-03             DomesticLeg   -126,666.0000   \n",
       "3                       2024-12-03              ForeignLeg 19,134,529.4562   \n",
       "\n",
       "  Valuation/PV/Ccy  Valuation/PvInReportCcy  \n",
       "0              GBP            -100,000.0000  \n",
       "1              JPY             101,455.8534  \n",
       "2              USD             -98,443.3369  \n",
       "3              JPY             101,509.4401  "
      ]
     },
     "metadata": {},
     "output_type": "display_data"
    }
   ],
   "source": [
    "valuation_df_split = get_daily_valuation(\n",
    "    market_data_scope=market_data_scope,\n",
    "    date=valuation_date,\n",
    "    recipe_code=recipe_code_split,\n",
    ")\n",
    "\n",
    "display(valuation_df_split)"
   ]
  },
  {
   "cell_type": "markdown",
   "metadata": {},
   "source": [
    "Note that the present values of the JPY legs do not have the same value, though we may expect that in an undiscounted world both would still be the original foreign amount of 19,000,000 JPY. The reason for this difference, and the difference between the GBPJPY foreign leg and the USDJPY foreign leg, is that the foreign leg price is calculated as\n",
    "`fgn_leg_price = (fgn_amount / fwd_rate) * spot_rate`.\n",
    "\n",
    "In this example, `fgn_leg_price = 19,124,428.3573`, `spot_rate = 188.5` and the forward rate will be estimated from the curve below using linear interpolation. The maturity date (Tue 03/12/24) falls between the 1M and 2M tenor dates.\n",
    "\n",
    "**1M:** Adding one month to the spot date (Wed 16/10/24) and rolling forward over the weekend gives the 1M tenor date as Mon 18/11/24. This is 15 days before the 6M maturity date.\n",
    "\n",
    "**2M:** Adding one month to the spot date (Wed 16/10/24) gives the 2M tenor date as Mon 16/12/24. This is 13 days after the 6M maturity.\n",
    "\n",
    "Therefore, the interpolated GBPJPY forward rate on the valuation date is given by\n",
    "```\n",
    "interpolated_fwd_rate = (13 * fwd_rate_1M + 15 * fwd_rate_2M) / (13 + 15)\n",
    "```"
   ]
  },
  {
   "cell_type": "code",
   "execution_count": 171,
   "metadata": {},
   "outputs": [
    {
     "data": {
      "text/plain": [
       "'Interpolated GBPJPY forward rate: 187.27357142857142'"
      ]
     },
     "metadata": {},
     "output_type": "display_data"
    },
    {
     "data": {
      "text/plain": [
       "'Foreign leg PV in GBP: 101455.85335433648'"
      ]
     },
     "metadata": {},
     "output_type": "display_data"
    },
    {
     "data": {
      "text/plain": [
       "'Foreign leg PV in JPY: 19124428.357292425'"
      ]
     },
     "metadata": {},
     "output_type": "display_data"
    }
   ],
   "source": [
    "def demo_leg_level_pv():\n",
    "    # Calculate forward rate from curve by interpolation\n",
    "    gbpjpy_1m = 187.67\n",
    "    gbpjpy_2m = 186.93\n",
    "    spot_gbpjpy = 188.5\n",
    "    interpolated_fwd_rate = (13 * gbpjpy_1m + 15 * gbpjpy_2m) / 28\n",
    "    display(f\"Interpolated GBPJPY forward rate: {interpolated_fwd_rate}\")\n",
    "\n",
    "    fgn_leg_gbp = 19_000_000 / interpolated_fwd_rate\n",
    "    display(f\"Foreign leg PV in GBP: {fgn_leg_gbp}\")\n",
    "\n",
    "    fgn_leg_jpy = fgn_leg_gbp * spot_gbpjpy\n",
    "    display(f\"Foreign leg PV in JPY: {fgn_leg_jpy}\")\n",
    "\n",
    "\n",
    "demo_leg_level_pv()"
   ]
  },
  {
   "cell_type": "markdown",
   "metadata": {},
   "source": [
    "Finally, clean up and remove the USDJPY forward from the portfolio."
   ]
  },
  {
   "cell_type": "code",
   "execution_count": 172,
   "metadata": {},
   "outputs": [
    {
     "data": {
      "text/plain": [
       "'Transaction successfully updated at time 2024-09-27 12:25:16.022790+00:00'"
      ]
     },
     "metadata": {},
     "output_type": "display_data"
    }
   ],
   "source": [
    "# Create StockIn transaction\n",
    "stock_in_txn = lm.TransactionRequest(\n",
    "    transaction_id=\"TXN003\",\n",
    "    type=\"StockIn\",\n",
    "    instrument_identifiers={\"Instrument/default/ClientInternal\": forward_identifier},\n",
    "    transaction_date=trade_date.isoformat(),\n",
    "    settlement_date=settlement_date.isoformat(),\n",
    "    units=0,\n",
    "    transaction_price=lm.TransactionPrice(price=0, type=\"Price\"),\n",
    "    total_consideration=lm.CurrencyAndAmount(amount=0, currency=pf_ccy),\n",
    "    exchange_rate=1,\n",
    "    transaction_currency=pf_ccy,\n",
    ")\n",
    "\n",
    "# Upsert StockIn transaction\n",
    "try:\n",
    "    response = transaction_portfolios_api.upsert_transactions(\n",
    "        scope=pf_scope, code=pf_code, transaction_request=[stock_in_txn]\n",
    "    )\n",
    "    display(f\"Transaction successfully updated at time {response.version.as_at_date}\")\n",
    "\n",
    "except lusid.ApiException as e:\n",
    "    body = json.loads(e.body)\n",
    "    display(\n",
    "        f\"Failed to upsert transaction - Title: {body['title']}, Details: {body['detail']}, Errors: {body['errors']}\"\n",
    "    )"
   ]
  },
  {
   "cell_type": "markdown",
   "metadata": {},
   "source": [
    "## 5. Interpolation on Forward Curves\n",
    "\n",
    "Forward rate curves or forward points curves are defined by a list of dates or tenors together with a list of corresponding rates or forward points. For curves created based on tenors, using `FxForwardTenorCurveData`, the tenors are internally converted to dates. Rates or points for dates not in the given curve data are inferred using linear interpolation and extrapolation. For points between the earliest and the latest date, linear interpolation is used based on the latest date on the curve before the current date and the earliest date on the curve after the current date. For points lying outside this range, extrapolation is used and different extrapolation methods can be used for the 'front' and the 'back' of a curve.\n",
    "\n",
    "The _front_ of a curve is the region up to the earliest date on the curve and the _back_ of a curve is the region after the latest date on the curve. The `ExtrapolationType` can be specified independently for the back and the front of the curve, as shown in the code snippet below. The available extrapolation types are: `None`, `Flat` and `Linear`. The front and back extrapolation types default to `Flat` if not specified.\n",
    "\n",
    "- **ExtrapolationType.Flat (Default):** Points outside the interpolation region are given the value of the closest point on the curve within the interpolation region. If the front extrapolation type is `Flat`, points before the first date of the curve have the same value as the first date on the curve. If the back extrapolation type is flat, points after the last date on the curve are given the value at the last date on the curve.\n",
    "- **ExtrapolationType.Linear:** Points outside the interpolation region are given by extending linearly using the last two data points at the boundary.\n",
    "- **ExtrapolationType.None:** An error is thrown if extrapolation is attempted. That is, if points before the first date on the curve or after the last date on the curve are requested."
   ]
  },
  {
   "cell_type": "code",
   "execution_count": 173,
   "metadata": {},
   "outputs": [],
   "source": [
    "dates = [\n",
    "    datetime(2024, 8, 1, tzinfo=pytz.utc).isoformat(),  # Thu 01 August 2024\n",
    "    datetime(2024, 8, 15, tzinfo=pytz.utc).isoformat(),  # Thu 15 August 2024\n",
    "    datetime(2024, 8, 29, tzinfo=pytz.utc).isoformat(),  # Thu 29 August 2024\n",
    "]\n",
    "\n",
    "rates = [192.4610, 188.8650, 190.5450]\n",
    "\n",
    "forward_curve_data = lm.FxForwardCurveData(\n",
    "    market_data_type=\"FxForwardCurveData\",\n",
    "    base_date=valuation_date.isoformat(),\n",
    "    dom_ccy=\"GBP\",\n",
    "    fgn_ccy=\"JPY\",\n",
    "    dates=dates,\n",
    "    rates=rates,\n",
    "    market_data_options=lm.CurveOptions(\n",
    "        market_data_options_type=\"CurveOptions\",\n",
    "        front_extrapolation_type=\"Flat\",\n",
    "        back_extrapolation_type=\"Linear\",\n",
    "    ),\n",
    ")"
   ]
  },
  {
   "cell_type": "markdown",
   "metadata": {},
   "source": [
    "In the example above, we have set `front_extrapolation_type=\"Flat\"` and `back_extrapolation_type=\"Linear\"` and the first point on the curve is (01/08/24, 192.4610) and the last point is (29/08/24, 190.5450). This means that dates before Thu 01/08/24 are given the boundary value 192.4610 and the values for dates after Thu 29/08/24 are given by extending linearly using the last two points on the curve `r1=(15/08/24, 188.8650)` and `r2=(29/08/24, 190.5450)`. The value given for Thu 05/09/24 by linear extrapolation is `r = 190.5450 + 7 * (190.5450 - 188.8650) / 14 = 191.3850`.\n",
    "\n",
    "The linear interpolation methodology is standard. Suppose we are given are forward rates curve specified using dates and we are given a date `d` between the earliest and the latest dates on the curve. Let `d1` be the latest date on the curve before `d` and let `d2` be the earliest date on the curve after `d`, so `d1` and `d2` are the closest points on the curve to `d`. Let `a` be the number of calendar days from `d1` to `d` (Thursday to Thursday counts as 7 days) and let `b` be the number of calendar days from `d` to `d2`. The total number of days in the period `(d1, d2)` is `a + b`. Then the value of the curve at `d` given by linear interpolation is `r(d) = r(d1) + (a / (a + b)) * (r(d2) - r(d1))` or, equivalently `r(d) = (b / (a + b)) * r(d1) + (a / (a + b)) * r(d2)`, where `r(d)` denotes the value of the curve at `d`.\n",
    "\n",
    "For example, if `d` is Fri 16/08/24, then the closest points on the curve are Thu 15/08/24 (`d1`) and Thu 29/08/24 (`d2`), with values `188.8650` and `190.5450` respectively. There is 1 day from `d1` to `d` and 13 days from `d` to `d2`, with 14 days from `d1` to `d2`. The value of the curve for Fri 16/08/24 is therefore `r = (13 / 14) * 188.8650 + (1 / 14) * 190.5450 = 188.985`."
   ]
  }
 ],
 "metadata": {
  "kernelspec": {
   "display_name": ".VENV",
   "language": "python",
   "name": "python3"
  },
  "language_info": {
   "codemirror_mode": {
    "name": "ipython",
    "version": 3
   },
   "file_extension": ".py",
   "mimetype": "text/x-python",
   "name": "python",
   "nbconvert_exporter": "python",
   "pygments_lexer": "ipython3",
   "version": "3.12.4"
  }
 },
 "nbformat": 4,
 "nbformat_minor": 2
}
