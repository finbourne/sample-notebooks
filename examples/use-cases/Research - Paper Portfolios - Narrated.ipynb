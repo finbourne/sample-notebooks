{
 "cells": [
  {
   "cell_type": "markdown",
   "metadata": {},
   "source": [
    "## The Challenge"
   ]
  },
  {
   "cell_type": "markdown",
   "metadata": {},
   "source": [
    "We have a research analyst team who provide recommendations to our portfolio managers. Unfortunately not all of these recommendations lead to a positive outcome. We need a better way to stress test the recommendations of our analyst team in a live environment to ensure that they are robust before they are passed onto our portfolio managers.\n",
    "\n",
    "We also need to understand what information an analyst was presented with when they made a recommendation. This will allow us to understand the reasoning behind the decision at the time that it was made. This has been very difficult for us to determine previously."
   ]
  },
  {
   "cell_type": "markdown",
   "metadata": {},
   "source": [
    "## The Solution"
   ]
  },
  {
   "cell_type": "markdown",
   "metadata": {},
   "source": [
    "Using LUSID we can construct a \"paper portfolio\" for each member of our analyst team. Using this paper portfolio they will be able to make trades based on their own recommendations to see how they would have performed under close to real market conditions. We can do this by:\n",
    "\n",
    "1) Creating a logically separate environment for each analyst\n",
    "\n",
    "2) Creating our tradeable instrument universe for each analyst\n",
    "\n",
    "3) Creating a transaction portfolio for each analyst to hold their tradeable instrument universe and creating a reference portfolio for each analyst which contains the index of their tradeable instrument universe and can be used as a benchmark for performance\n",
    "\n",
    "4) Populating each analyst's portfolio with a starting cash balance\n",
    "\n",
    "5) Populating each analyst's reference portfolio with the weights for each constituent of their index\n",
    "\n",
    "6) Allowing our analysts to trade across their tradeable instrument universe and add their transactions to their transaction portfolio\n",
    "\n",
    "7) Creating an analytics store to hold the latest prices of our tradeable instrument universe\n",
    "\n",
    "8) Valuing our analyst's portfolio using our analytics store\n",
    "\n",
    "9) Creating an index from our reference portfolio and building a benchmark for our analyst's to compare their performance against"
   ]
  },
  {
   "cell_type": "markdown",
   "metadata": {},
   "source": [
    "*To initialise our LUSID environment run the cell below*"
   ]
  },
  {
   "cell_type": "code",
   "execution_count": 1,
   "metadata": {},
   "outputs": [
    {
     "name": "stdout",
     "output_type": "stream",
     "text": [
      "LUSID Environment Initialised\n"
     ]
    }
   ],
   "source": [
    "# Import LUSID\n",
    "import lusid.models as models\n",
    "import lusid_sample_data as import_data\n",
    "\n",
    "# Import Libraries\n",
    "import pprint\n",
    "from datetime import datetime, timedelta, time\n",
    "import pytz\n",
    "import printer as prettyprint\n",
    "\n",
    "# Authenticate our user and create our API client\n",
    "client = import_data.authenticate_secrets()\n",
    "\n",
    "print ('LUSID Environment Initialised')"
   ]
  },
  {
   "cell_type": "markdown",
   "metadata": {},
   "source": [
    "![Scopes](img/paper-lusid.gif)"
   ]
  },
  {
   "cell_type": "markdown",
   "metadata": {},
   "source": [
    "## 1) Creating a logically separated environment for each analyst"
   ]
  },
  {
   "cell_type": "markdown",
   "metadata": {},
   "source": [
    "In LUSID we can create separate environments for each of our analysts using scopes. A scope is a container for LUSID objects and can be thought of as a separate identity namespace. Using LUSID's entitlements engine we can ensure that an analyst can only interact with objects inside their scope. Furthermore no other analyst or other stakeholder inside the organisation can access this scope unless explicitly given permission. \n",
    "\n",
    "For this example we will create a scope for a single analyst. \n",
    "\n",
    "*Run the cell below to initialise our scope. Note that the scope will have a unique 4 character code appended to it to make the name more unique.*"
   ]
  },
  {
   "cell_type": "code",
   "execution_count": 2,
   "metadata": {},
   "outputs": [
    {
     "name": "stdout",
     "output_type": "stream",
     "text": [
      "\u001b[1mAnalyst Scope Code: \u001b[0manalyst-paper-ec4a\n"
     ]
    }
   ],
   "source": [
    "# Fetch our scopes\n",
    "scope_id = import_data.create_scope_ids(1)\n",
    "analyst_scope_code = 'analyst-paper-{}'.format(scope_id[0])\n",
    "\n",
    "prettyprint.heading('Analyst Scope Code', analyst_scope_code)"
   ]
  },
  {
   "cell_type": "markdown",
   "metadata": {},
   "source": [
    "*Our LUSID environment now looks like the below. We will update this with each step.*"
   ]
  },
  {
   "cell_type": "markdown",
   "metadata": {},
   "source": [
    "![Scopes](img/paper-scopes.gif)"
   ]
  },
  {
   "cell_type": "markdown",
   "metadata": {},
   "source": [
    "## 2) Creating our tradeable instrument universe for each analyst"
   ]
  },
  {
   "cell_type": "markdown",
   "metadata": {},
   "source": [
    "Before we can set-up our transaction and reference portfolios we need to define the tradeable instrument universe for our analyst. In this case let us assume that the analyst has been tasked with making recommendations to buy or sell equities from the London Stock Exchange FTSE techMark Focus index.\n",
    "\n",
    "*Run the cell below to import our instrument universe*"
   ]
  },
  {
   "cell_type": "code",
   "execution_count": 3,
   "metadata": {},
   "outputs": [
    {
     "name": "stdout",
     "output_type": "stream",
     "text": [
      "AVEVA GRP: \u001b[1mFigi - BBG000C21Y87\u001b[0m\n",
      "BAE SYS.: \u001b[1mFigi - BBG000BD5TW4\u001b[0m\n",
      "BATM ADVANCED: \u001b[1mFigi - BBG000BFJD77\u001b[0m\n",
      "BTG: \u001b[1mFigi - BBG000BZZK79\u001b[0m\n",
      "COBHAM: \u001b[1mFigi - BBG000BS6810\u001b[0m\n",
      "COMPUTACENTER: \u001b[1mFigi - BBG000BN7CL9\u001b[0m\n",
      "CONSORT MED.: \u001b[1mFigi - BBG000BD8278\u001b[0m\n",
      "DIALIGHT: \u001b[1mFigi - BBG000BLQNG4\u001b[0m\n",
      "GENUS: \u001b[1mFigi - BBG000CTMKX7\u001b[0m\n",
      "GRESHAM TECH: \u001b[1mFigi - BBG000BS2592\u001b[0m\n",
      "KCOM GRP: \u001b[1mFigi - BBG000BYWT85\u001b[0m\n",
      "MEGGITT: \u001b[1mFigi - BBG000BDT1M0\u001b[0m\n",
      "MICRO FOCUS: \u001b[1mFigi - BBG000G4KJC6\u001b[0m\n",
      "MICROGEN: \u001b[1mFigi - BBG000BDSS88\u001b[0m\n",
      "NCC GRP: \u001b[1mFigi - BBG000BS8WF0\u001b[0m\n",
      "OXFORD BIOMED.: \u001b[1mFigi - BBG000BMB7T9\u001b[0m\n",
      "OXFORD INSTRMNT: \u001b[1mFigi - BBG000BDWZZ7\u001b[0m\n",
      "PADDY PWR BET: \u001b[1mFigi - BBG000N8GHT0\u001b[0m\n",
      "QINETIQ: \u001b[1mFigi - BBG000HF3Y54\u001b[0m\n",
      "RENISHAW: \u001b[1mFigi - BBG000BDZTQ8\u001b[0m\n",
      "RICARDO: \u001b[1mFigi - BBG000BDYQS3\u001b[0m\n",
      "SAGE GRP.: \u001b[1mFigi - BBG000BN0PP3\u001b[0m\n",
      "SDL: \u001b[1mFigi - BBG000C4HGK1\u001b[0m\n",
      "SMITH&NEPHEW: \u001b[1mFigi - BBG000BF21F2\u001b[0m\n",
      "SPECTRIS: \u001b[1mFigi - BBG000CNV8Z5\u001b[0m\n",
      "SPIRENT: \u001b[1mFigi - BBG000C4LV50\u001b[0m\n",
      "TRIAD GRP.: \u001b[1mFigi - BBG000BL9R74\u001b[0m\n",
      "ULTRA ELEC.: \u001b[1mFigi - BBG000HHH4C3\u001b[0m\n",
      "VECTURA: \u001b[1mFigi - BBG000PRWXX8\u001b[0m\n",
      "XAAR: \u001b[1mFigi - BBG000BVKQF2\u001b[0m\n",
      "XP POWER: \u001b[1mFigi - BBG000BZMBQ2\u001b[0m\n"
     ]
    }
   ],
   "source": [
    "instrument_universe = import_data.fetch_instrument_universe(\n",
    "    'paper-instruments.csv', \n",
    "    paper=True)\n",
    "\n",
    "prettyprint.instruments(instrument_universe, 'Figi')"
   ]
  },
  {
   "cell_type": "markdown",
   "metadata": {},
   "source": [
    "Now that we have our instruments, we can upsert our instruments in a batch. You can read more about upserting instruments in the LUSID API documentation - [LUSID API Docs: Upserting Instruments](https://docs.lusid.com/#operation/UpsertInstruments)\n",
    "\n",
    "*Run the cell below to upsert our instruments into LUSID*"
   ]
  },
  {
   "cell_type": "code",
   "execution_count": 4,
   "metadata": {},
   "outputs": [
    {
     "name": "stdout",
     "output_type": "stream",
     "text": [
      "\u001b[1mInstrument Successfully Upserted: \u001b[0mTRIAD GRP.\n",
      "\u001b[1mFigi ID: \u001b[0mBBG000BL9R74\n",
      "\u001b[1mLUSID Instrument ID: \u001b[0mLUID_LR5ET8PZ\n",
      "\n",
      "\n",
      "\u001b[1mInstrument Successfully Upserted: \u001b[0mCOBHAM\n",
      "\u001b[1mFigi ID: \u001b[0mBBG000BS6810\n",
      "\u001b[1mLUSID Instrument ID: \u001b[0mLUID_2X18R9IK\n",
      "\n",
      "\n",
      "\u001b[1mInstrument Successfully Upserted: \u001b[0mSDL\n",
      "\u001b[1mFigi ID: \u001b[0mBBG000C4HGK1\n",
      "\u001b[1mLUSID Instrument ID: \u001b[0mLUID_2ECEHQEH\n",
      "\n",
      "\n",
      "\u001b[1mInstrument Successfully Upserted: \u001b[0mSMITH&NEPHEW\n",
      "\u001b[1mFigi ID: \u001b[0mBBG000BF21F2\n",
      "\u001b[1mLUSID Instrument ID: \u001b[0mLUID_ZM1SI6QC\n",
      "\n",
      "\n",
      "\u001b[1mInstrument Successfully Upserted: \u001b[0mVECTURA\n",
      "\u001b[1mFigi ID: \u001b[0mBBG000PRWXX8\n",
      "\u001b[1mLUSID Instrument ID: \u001b[0mLUID_DU44SE3A\n",
      "\n",
      "\n",
      "\u001b[1mInstrument Successfully Upserted: \u001b[0mBAE SYS.\n",
      "\u001b[1mFigi ID: \u001b[0mBBG000BD5TW4\n",
      "\u001b[1mLUSID Instrument ID: \u001b[0mLUID_99SV40PB\n",
      "\n",
      "\n",
      "\u001b[1mInstrument Successfully Upserted: \u001b[0mOXFORD BIOMED.\n",
      "\u001b[1mFigi ID: \u001b[0mBBG000BMB7T9\n",
      "\u001b[1mLUSID Instrument ID: \u001b[0mLUID_IVR0TVNL\n",
      "\n",
      "\n",
      "\u001b[1mInstrument Successfully Upserted: \u001b[0mNCC GRP\n",
      "\u001b[1mFigi ID: \u001b[0mBBG000BS8WF0\n",
      "\u001b[1mLUSID Instrument ID: \u001b[0mLUID_JKS4UYOQ\n",
      "\n",
      "\n",
      "\u001b[1mInstrument Successfully Upserted: \u001b[0mMICRO FOCUS\n",
      "\u001b[1mFigi ID: \u001b[0mBBG000G4KJC6\n",
      "\u001b[1mLUSID Instrument ID: \u001b[0mLUID_LU19QSZV\n",
      "\n",
      "\n",
      "\u001b[1mInstrument Successfully Upserted: \u001b[0mSPECTRIS\n",
      "\u001b[1mFigi ID: \u001b[0mBBG000CNV8Z5\n",
      "\u001b[1mLUSID Instrument ID: \u001b[0mLUID_KYXYUGO7\n",
      "\n",
      "\n",
      "\u001b[1mInstrument Successfully Upserted: \u001b[0mAVEVA GRP\n",
      "\u001b[1mFigi ID: \u001b[0mBBG000C21Y87\n",
      "\u001b[1mLUSID Instrument ID: \u001b[0mLUID_C2G6UXB1\n",
      "\n",
      "\n",
      "\u001b[1mInstrument Successfully Upserted: \u001b[0mXAAR\n",
      "\u001b[1mFigi ID: \u001b[0mBBG000BVKQF2\n",
      "\u001b[1mLUSID Instrument ID: \u001b[0mLUID_KA3S9XLZ\n",
      "\n",
      "\n",
      "\u001b[1mInstrument Successfully Upserted: \u001b[0mGRESHAM TECH\n",
      "\u001b[1mFigi ID: \u001b[0mBBG000BS2592\n",
      "\u001b[1mLUSID Instrument ID: \u001b[0mLUID_Y4R8RLXK\n",
      "\n",
      "\n",
      "\u001b[1mInstrument Successfully Upserted: \u001b[0mBTG\n",
      "\u001b[1mFigi ID: \u001b[0mBBG000BZZK79\n",
      "\u001b[1mLUSID Instrument ID: \u001b[0mLUID_EKJN8O19\n",
      "\n",
      "\n",
      "\u001b[1mInstrument Successfully Upserted: \u001b[0mCOMPUTACENTER\n",
      "\u001b[1mFigi ID: \u001b[0mBBG000BN7CL9\n",
      "\u001b[1mLUSID Instrument ID: \u001b[0mLUID_VB0W6R8R\n",
      "\n",
      "\n",
      "\u001b[1mInstrument Successfully Upserted: \u001b[0mSPIRENT\n",
      "\u001b[1mFigi ID: \u001b[0mBBG000C4LV50\n",
      "\u001b[1mLUSID Instrument ID: \u001b[0mLUID_FMEJVLHI\n",
      "\n",
      "\n",
      "\u001b[1mInstrument Successfully Upserted: \u001b[0mMEGGITT\n",
      "\u001b[1mFigi ID: \u001b[0mBBG000BDT1M0\n",
      "\u001b[1mLUSID Instrument ID: \u001b[0mLUID_IS8O0NPO\n",
      "\n",
      "\n",
      "\u001b[1mInstrument Successfully Upserted: \u001b[0mDIALIGHT\n",
      "\u001b[1mFigi ID: \u001b[0mBBG000BLQNG4\n",
      "\u001b[1mLUSID Instrument ID: \u001b[0mLUID_8W2UDUJ0\n",
      "\n",
      "\n",
      "\u001b[1mInstrument Successfully Upserted: \u001b[0mBATM ADVANCED\n",
      "\u001b[1mFigi ID: \u001b[0mBBG000BFJD77\n",
      "\u001b[1mLUSID Instrument ID: \u001b[0mLUID_0L5AS1JO\n",
      "\n",
      "\n",
      "\u001b[1mInstrument Successfully Upserted: \u001b[0mOXFORD INSTRMNT\n",
      "\u001b[1mFigi ID: \u001b[0mBBG000BDWZZ7\n",
      "\u001b[1mLUSID Instrument ID: \u001b[0mLUID_6AO46VL8\n",
      "\n",
      "\n",
      "\u001b[1mInstrument Successfully Upserted: \u001b[0mRENISHAW\n",
      "\u001b[1mFigi ID: \u001b[0mBBG000BDZTQ8\n",
      "\u001b[1mLUSID Instrument ID: \u001b[0mLUID_G5OMBNL4\n",
      "\n",
      "\n",
      "\u001b[1mInstrument Successfully Upserted: \u001b[0mKCOM GRP\n",
      "\u001b[1mFigi ID: \u001b[0mBBG000BYWT85\n",
      "\u001b[1mLUSID Instrument ID: \u001b[0mLUID_V8E59UIX\n",
      "\n",
      "\n",
      "\u001b[1mInstrument Successfully Upserted: \u001b[0mSAGE GRP.\n",
      "\u001b[1mFigi ID: \u001b[0mBBG000BN0PP3\n",
      "\u001b[1mLUSID Instrument ID: \u001b[0mLUID_K499YGKV\n",
      "\n",
      "\n",
      "\u001b[1mInstrument Successfully Upserted: \u001b[0mGENUS\n",
      "\u001b[1mFigi ID: \u001b[0mBBG000CTMKX7\n",
      "\u001b[1mLUSID Instrument ID: \u001b[0mLUID_NV3D9039\n",
      "\n",
      "\n",
      "\u001b[1mInstrument Successfully Upserted: \u001b[0mPADDY PWR BET\n",
      "\u001b[1mFigi ID: \u001b[0mBBG000N8GHT0\n",
      "\u001b[1mLUSID Instrument ID: \u001b[0mLUID_L5J8JP01\n",
      "\n",
      "\n",
      "\u001b[1mInstrument Successfully Upserted: \u001b[0mULTRA ELEC.\n",
      "\u001b[1mFigi ID: \u001b[0mBBG000HHH4C3\n",
      "\u001b[1mLUSID Instrument ID: \u001b[0mLUID_VO28IAUC\n",
      "\n",
      "\n",
      "\u001b[1mInstrument Successfully Upserted: \u001b[0mMICROGEN\n",
      "\u001b[1mFigi ID: \u001b[0mBBG000BDSS88\n",
      "\u001b[1mLUSID Instrument ID: \u001b[0mLUID_42QU0Z23\n",
      "\n",
      "\n",
      "\u001b[1mInstrument Successfully Upserted: \u001b[0mCONSORT MED.\n",
      "\u001b[1mFigi ID: \u001b[0mBBG000BD8278\n",
      "\u001b[1mLUSID Instrument ID: \u001b[0mLUID_6QBS2E6F\n",
      "\n",
      "\n",
      "\u001b[1mInstrument Successfully Upserted: \u001b[0mXP POWER\n",
      "\u001b[1mFigi ID: \u001b[0mBBG000BZMBQ2\n",
      "\u001b[1mLUSID Instrument ID: \u001b[0mLUID_7AJLUKPO\n",
      "\n",
      "\n",
      "\u001b[1mInstrument Successfully Upserted: \u001b[0mRICARDO\n",
      "\u001b[1mFigi ID: \u001b[0mBBG000BDYQS3\n",
      "\u001b[1mLUSID Instrument ID: \u001b[0mLUID_9W5VPPUW\n",
      "\n",
      "\n",
      "\u001b[1mInstrument Successfully Upserted: \u001b[0mQINETIQ\n",
      "\u001b[1mFigi ID: \u001b[0mBBG000HF3Y54\n",
      "\u001b[1mLUSID Instrument ID: \u001b[0mLUID_WS2AQ3EJ\n",
      "\n",
      "\n",
      "31  instruments upserted successfully\n",
      "0  instrument upsert failures\n"
     ]
    }
   ],
   "source": [
    "# Initialise our batch upsert request\n",
    "batch_upsert_request = {}\n",
    "# Using our instrument universe create our batch request\n",
    "for instrument_name, instrument in instrument_universe.items():\n",
    "    # Add the ISIN to our instrument as a property\n",
    "    isin_property = models.InstrumentProperty(\n",
    "        \"Instrument/default/Isin\", \n",
    "        models.PropertyValue(instrument['identifiers']['Isin']))\n",
    "    # Add the Sedol to our instrument as a property\n",
    "    sedol_property = models.InstrumentProperty(\n",
    "        \"Instrument/default/Sedol\", \n",
    "        models.PropertyValue(instrument['identifiers']['Sedol']))\n",
    "    # Add the instrument to our batch request using the FIGI as the main unique identifier\n",
    "    batch_upsert_request[instrument_name] = models.InstrumentDefinition(\n",
    "        name=instrument_name,\n",
    "        identifiers={'Figi': instrument['identifiers']['Figi']},\n",
    "        properties=[isin_property, sedol_property])\n",
    "                                                                           \n",
    "# Call LUSID to upsert our batch\n",
    "instrument_response = client.upsert_instruments(requests=batch_upsert_request)\n",
    "\n",
    "# Pretty print the response from LUSID\n",
    "prettyprint.instrument_response(instrument_response, identifier='Figi')"
   ]
  },
  {
   "cell_type": "markdown",
   "metadata": {},
   "source": [
    "Our LUSID environment now has an instrument master containing all of our instruments that we will be trading."
   ]
  },
  {
   "cell_type": "markdown",
   "metadata": {},
   "source": [
    "![Scopes](img/paper-instrumentmaster.gif)"
   ]
  },
  {
   "cell_type": "markdown",
   "metadata": {},
   "source": [
    "During the upsertion process you may have noticed that that every instrument that is created in LUSID given a unique LUSID Instrument Id or LUID for short. This ID is used for many methods and is how LUSID uniquely identifies an instrument.\n",
    "\n",
    "We therefore want to add our newly created LUIDs to our instrument list so that we can easily reference our instruments in future.\n",
    "\n",
    "Note that in addition to our instruments, there is also cash in our holdings. Instruments that represent cash are already set-up in LUSID by default. In LUSID the LUID for cash is the prefix CCY_ followed by the ISO4217 currency code. For example British Pounds have a LUID of CCY_GBP. We will add these to our local instrument universe so that we can reference them.\n",
    "\n",
    "*Run the cell below to add our LUIDs and cash to our local instrument universe*"
   ]
  },
  {
   "cell_type": "code",
   "execution_count": 5,
   "metadata": {},
   "outputs": [
    {
     "name": "stdout",
     "output_type": "stream",
     "text": [
      "AVEVA GRP: \u001b[1mLUID - LUID_C2G6UXB1\u001b[0m\n",
      "BAE SYS.: \u001b[1mLUID - LUID_99SV40PB\u001b[0m\n",
      "BATM ADVANCED: \u001b[1mLUID - LUID_0L5AS1JO\u001b[0m\n",
      "BTG: \u001b[1mLUID - LUID_EKJN8O19\u001b[0m\n",
      "COBHAM: \u001b[1mLUID - LUID_2X18R9IK\u001b[0m\n",
      "COMPUTACENTER: \u001b[1mLUID - LUID_VB0W6R8R\u001b[0m\n",
      "CONSORT MED.: \u001b[1mLUID - LUID_6QBS2E6F\u001b[0m\n",
      "DIALIGHT: \u001b[1mLUID - LUID_8W2UDUJ0\u001b[0m\n",
      "GENUS: \u001b[1mLUID - LUID_NV3D9039\u001b[0m\n",
      "GRESHAM TECH: \u001b[1mLUID - LUID_Y4R8RLXK\u001b[0m\n",
      "KCOM GRP: \u001b[1mLUID - LUID_V8E59UIX\u001b[0m\n",
      "MEGGITT: \u001b[1mLUID - LUID_IS8O0NPO\u001b[0m\n",
      "MICRO FOCUS: \u001b[1mLUID - LUID_LU19QSZV\u001b[0m\n",
      "MICROGEN: \u001b[1mLUID - LUID_42QU0Z23\u001b[0m\n",
      "NCC GRP: \u001b[1mLUID - LUID_JKS4UYOQ\u001b[0m\n",
      "OXFORD BIOMED.: \u001b[1mLUID - LUID_IVR0TVNL\u001b[0m\n",
      "OXFORD INSTRMNT: \u001b[1mLUID - LUID_6AO46VL8\u001b[0m\n",
      "PADDY PWR BET: \u001b[1mLUID - LUID_L5J8JP01\u001b[0m\n",
      "QINETIQ: \u001b[1mLUID - LUID_WS2AQ3EJ\u001b[0m\n",
      "RENISHAW: \u001b[1mLUID - LUID_G5OMBNL4\u001b[0m\n",
      "RICARDO: \u001b[1mLUID - LUID_9W5VPPUW\u001b[0m\n",
      "SAGE GRP.: \u001b[1mLUID - LUID_K499YGKV\u001b[0m\n",
      "SDL: \u001b[1mLUID - LUID_2ECEHQEH\u001b[0m\n",
      "SMITH&NEPHEW: \u001b[1mLUID - LUID_ZM1SI6QC\u001b[0m\n",
      "SPECTRIS: \u001b[1mLUID - LUID_KYXYUGO7\u001b[0m\n",
      "SPIRENT: \u001b[1mLUID - LUID_FMEJVLHI\u001b[0m\n",
      "TRIAD GRP.: \u001b[1mLUID - LUID_LR5ET8PZ\u001b[0m\n",
      "ULTRA ELEC.: \u001b[1mLUID - LUID_VO28IAUC\u001b[0m\n",
      "VECTURA: \u001b[1mLUID - LUID_DU44SE3A\u001b[0m\n",
      "XAAR: \u001b[1mLUID - LUID_KA3S9XLZ\u001b[0m\n",
      "XP POWER: \u001b[1mLUID - LUID_7AJLUKPO\u001b[0m\n",
      "GBP_Cash: \u001b[1mLUID - CCY_GBP\u001b[0m\n"
     ]
    }
   ],
   "source": [
    "# Loop over our recently upserted instruments\n",
    "for instrument_name, instrument in instrument_response.values.items():\n",
    "    # Add our LUID as a new identifier so that we can use it in our calls later\n",
    "    instrument_universe[instrument_name]['identifiers']['LUID'] = instrument.lusid_instrument_id\n",
    "    \n",
    "# We will also add some cash instruments to our universe\n",
    "instrument_universe['GBP_Cash'] = {\n",
    "    'identifiers': {'LUID': 'CCY_GBP'},\n",
    "    'currency': 'GBP'}\n",
    "\n",
    "# Pretty print our updated local instrument universe\n",
    "prettyprint.instruments(instrument_universe, 'LUID')"
   ]
  },
  {
   "cell_type": "markdown",
   "metadata": {},
   "source": [
    "## 3) Creating a transactions portfolio for each analyst to hold their tradeable instrument universe and creating a reference portfolo for each analyst which contains the index of their tradeable instrument universe and can be used as a benchmark for performance"
   ]
  },
  {
   "cell_type": "markdown",
   "metadata": {},
   "source": [
    "Now that we have populated our tradeable instrument universe, we need to create our analyst's transaction portfolio for making trades and their reference portfolio for tracking the index. Each portfolio can be referenced by its unique 'code'. Let us define the code for our two portfolios.\n",
    "\n",
    "*Run the cell below to define our portfolio codes*"
   ]
  },
  {
   "cell_type": "code",
   "execution_count": 6,
   "metadata": {},
   "outputs": [
    {
     "name": "stdout",
     "output_type": "stream",
     "text": [
      "\u001b[1mTransaction Portfolio Code: \u001b[0mLSE_FTSE_techMarkFocus_transactions\n",
      "\u001b[1mReference Portfolio Code: \u001b[0mLSE_FTSE_techMarkFocus_reference\n"
     ]
    }
   ],
   "source": [
    "# Define unique codes for each of our portfolios\n",
    "transaction_portfolio_code = 'LSE_FTSE_techMarkFocus_transactions'\n",
    "reference_portfolio_code = 'LSE_FTSE_techMarkFocus_reference'\n",
    "# Pretty print our codes\n",
    "prettyprint.heading('Transaction Portfolio Code', transaction_portfolio_code)\n",
    "prettyprint.heading('Reference Portfolio Code', reference_portfolio_code)"
   ]
  },
  {
   "cell_type": "markdown",
   "metadata": {},
   "source": [
    "Now that we have the code for our portfolios we can go ahead and create them in LUSID. Let us first create our transaction portfolio. Note that we will create both portfolios as being available as of 3 days ago. This will allow us to add backdated transactions and compute backdated valuations.\n",
    "\n",
    "You can read more about creating transaction portfolios in the LUSID API documentation: [LUSID API Docs: Creating Transaction Portfolios](https://docs.lusid.com/#operation/CreatePortfolio)\n",
    "\n",
    "*Run the cell below to create our transaction portfolio*"
   ]
  },
  {
   "cell_type": "code",
   "execution_count": 7,
   "metadata": {},
   "outputs": [
    {
     "name": "stdout",
     "output_type": "stream",
     "text": [
      "\u001b[1mPortfolio Created\u001b[0m\n",
      "\u001b[1mScope: \u001b[0manalyst-paper-ec4a\n",
      "\u001b[1mCode: \u001b[0mLSE_FTSE_techMarkFocus_transactions\n",
      "\u001b[1mPortfolio Effective From: \u001b[0m2019-01-25 16:44:13.713512+00:00\n",
      "\u001b[1mPortfolio Created On: \u001b[0m2019-01-28 16:44:14.104959+00:00\n",
      "\n"
     ]
    }
   ],
   "source": [
    "# The date our portfolios were first created\n",
    "portfolio_creation_date = (datetime.now(pytz.UTC) - timedelta(days=3))\n",
    "\n",
    "# Create the request to add our portfolio\n",
    "transaction_portfolio_request = models.CreateTransactionPortfolioRequest(\n",
    "    display_name=transaction_portfolio_code,\n",
    "    code=transaction_portfolio_code,\n",
    "    base_currency='GBP',\n",
    "    description='Paper transaction portfolio',\n",
    "    created=portfolio_creation_date)\n",
    "\n",
    "# Call LUSID to create our portfolio\n",
    "portfolio_response = client.create_portfolio(\n",
    "    scope=analyst_scope_code,\n",
    "    create_request=transaction_portfolio_request)\n",
    "\n",
    "# Pretty print the response from LUSID\n",
    "prettyprint.portfolio_response(portfolio_response)"
   ]
  },
  {
   "cell_type": "markdown",
   "metadata": {},
   "source": [
    "![Scopes](img/paper-transactionsportfolio.gif)"
   ]
  },
  {
   "cell_type": "markdown",
   "metadata": {},
   "source": [
    "Now that we have created our transaction portfolio we can also create our referene portfolio to track the techMarkFocus index. \n",
    "\n",
    "You can read more about creating reference portfolios in the LUSID API documentation: [LUSID API Docs: Creating Reference Portfolios](https://docs.lusid.com/#operation/CreateReferencePortfolio)\n",
    "\n",
    "*Run the cell below to create our reference portfolio*"
   ]
  },
  {
   "cell_type": "code",
   "execution_count": 8,
   "metadata": {},
   "outputs": [
    {
     "name": "stdout",
     "output_type": "stream",
     "text": [
      "\u001b[1mPortfolio Created\u001b[0m\n",
      "\u001b[1mScope: \u001b[0manalyst-paper-ec4a\n",
      "\u001b[1mCode: \u001b[0mLSE_FTSE_techMarkFocus_reference\n",
      "\u001b[1mPortfolio Effective From: \u001b[0m2019-01-25 16:44:14.329771+00:00\n",
      "\u001b[1mPortfolio Created On: \u001b[0m2019-01-28 16:44:15.595961+00:00\n",
      "\n"
     ]
    }
   ],
   "source": [
    "# The date our portfolios were first created\n",
    "portfolio_creation_date = (datetime.now(pytz.UTC) - timedelta(days=3))\n",
    "\n",
    "# Create the request to add our portfolio\n",
    "reference_portfolio_request = models.CreateReferencePortfolioRequest(\n",
    "    display_name=reference_portfolio_code,\n",
    "    code=reference_portfolio_code,\n",
    "    description='Paper reference portfolio',\n",
    "    created=portfolio_creation_date)\n",
    "\n",
    "# Call LUSID to create our reference portfolio\n",
    "portfolio_response = client.create_reference_portfolio(\n",
    "    scope=analyst_scope_code,\n",
    "    reference_portfolio=reference_portfolio_request)\n",
    "\n",
    "# Pretty print our response from LUSID\n",
    "prettyprint.portfolio_response(portfolio_response)"
   ]
  },
  {
   "cell_type": "markdown",
   "metadata": {},
   "source": [
    "Our LUSID environment is now populated with our two portfolios. One for our analyst to make trades across and the other to track the weights of the index of the tradeable instrument universe to produce a benchmark."
   ]
  },
  {
   "cell_type": "markdown",
   "metadata": {},
   "source": [
    "![Scopes](img/paper-referenceportfolio.gif)"
   ]
  },
  {
   "cell_type": "markdown",
   "metadata": {},
   "source": [
    "## 4) Populating our analyst's portfolio with a starting cash balance"
   ]
  },
  {
   "cell_type": "markdown",
   "metadata": {},
   "source": [
    "To set our starting cash balance we use LUSID's 'Set Holdings' capability. This allows us to set the holdings of a portfolio to a given state. In this case we will add in a starting cash balance. Let us give the analyst a starting cash balance of £30,000,000. We will make this balance effective from just after the creation of our portfolio. \n",
    "\n",
    "*Run the cell below to set our starting cash balance*"
   ]
  },
  {
   "cell_type": "code",
   "execution_count": 9,
   "metadata": {},
   "outputs": [
    {
     "name": "stdout",
     "output_type": "stream",
     "text": [
      "\u001b[1mHoldings Successfully Set for Portfolio\u001b[0m\n",
      "\u001b[1mScope: \u001b[0manalyst-paper-ec4a\n",
      "\u001b[1mCode: \u001b[0mLSE_FTSE_techMarkFocus_transactions\n",
      "\u001b[1mHoldings Effective From: \u001b[0m2019-01-25 19:08:15.799201+00:00\n",
      "\u001b[1mHoldings Created On: \u001b[0m2019-01-28 16:44:16.295804+00:00\n",
      "\n"
     ]
    }
   ],
   "source": [
    "# Set the date from which the cash balance will apply to be just after portfolio creation\n",
    "holdings_effective_date = (datetime.now(pytz.UTC) - timedelta(days=2.9))\n",
    "# Define our initial cash balance\n",
    "initial_cash_balance = 30000000\n",
    "\n",
    "# Create a holding adjustment to set our initial cash balance\n",
    "holding_adjustment = [\n",
    "    models.AdjustHoldingRequest(\n",
    "        instrument_uid='CCY_GBP',\n",
    "        tax_lots=[\n",
    "            models.TargetTaxLotRequest(\n",
    "                units=initial_cash_balance,\n",
    "                cost=models.CurrencyAndAmount(\n",
    "                    amount=initial_cash_balance,\n",
    "                    currency='GBP'),\n",
    "                portfolio_cost=initial_cash_balance,\n",
    "                price=1)\n",
    "                ]\n",
    "    )\n",
    "]\n",
    "\n",
    "# Call LUSID to set our initial cash balance\n",
    "set_holdings_response = client.set_holdings(\n",
    "    scope=analyst_scope_code,\n",
    "    code=transaction_portfolio_code,\n",
    "    effective_at=holdings_effective_date,\n",
    "    holding_adjustments=holding_adjustment)\n",
    "\n",
    "# Pretty print our response from LUSID\n",
    "prettyprint.set_holdings_response(\n",
    "    set_holdings_response, \n",
    "    analyst_scope_code, \n",
    "    transaction_portfolio_code)"
   ]
  },
  {
   "cell_type": "markdown",
   "metadata": {},
   "source": [
    "Our transactions portfolio is now populated with an initial cash balance and is no longer empty."
   ]
  },
  {
   "cell_type": "markdown",
   "metadata": {},
   "source": [
    "![Scopes](img/paper-transactionsportfoliofilled.gif)"
   ]
  },
  {
   "cell_type": "markdown",
   "metadata": {},
   "source": [
    "## 5) Populating our reference portfolio with the correct weights so that it tracks the index as closely as possible"
   ]
  },
  {
   "cell_type": "markdown",
   "metadata": {},
   "source": [
    "To set up our reference portfolio we need to initialise it with the constituents that make up the index as well as their weight. In this case we are going to weight the consitutents based on their market capitalisation. We will import their market capitalisation from a CSV file generated from one of our internal systems. We will also configure our reference portfolio to be updated once a quarter. We could update this more frequently if we wished. \n",
    "\n",
    "*Run the cell below to import our market capitalisation figures for our instruments*"
   ]
  },
  {
   "cell_type": "code",
   "execution_count": 10,
   "metadata": {},
   "outputs": [
    {
     "name": "stdout",
     "output_type": "stream",
     "text": [
      "\u001b[1mAVEVA GRP: \u001b[0m£4502.68 (millions)\n",
      "\u001b[1mBAE SYS.: \u001b[0m£16349.66 (millions)\n",
      "\u001b[1mBATM ADVANCED: \u001b[0m£185.25 (millions)\n",
      "\u001b[1mBTG: \u001b[0m£3202.2 (millions)\n",
      "\u001b[1mCOBHAM: \u001b[0m£2579.9 (millions)\n",
      "\u001b[1mCOMPUTACENTER: \u001b[0m£1161.96 (millions)\n",
      "\u001b[1mCONSORT MED.: \u001b[0m£422.56 (millions)\n",
      "\u001b[1mDIALIGHT: \u001b[0m£133.39 (millions)\n",
      "\u001b[1mGENUS: \u001b[0m£1455.72 (millions)\n",
      "\u001b[1mGRESHAM TECH: \u001b[0m£64.34 (millions)\n",
      "\u001b[1mKCOM GRP: \u001b[0m£359.04 (millions)\n",
      "\u001b[1mMEGGITT: \u001b[0m£3937.11 (millions)\n",
      "\u001b[1mMICRO FOCUS: \u001b[0m£6199.1 (millions)\n",
      "\u001b[1mMICROGEN: \u001b[0m£238.57 (millions)\n",
      "\u001b[1mNCC GRP: \u001b[0m£503.69 (millions)\n",
      "\u001b[1mOXFORD BIOMED.: \u001b[0m£449.57 (millions)\n",
      "\u001b[1mOXFORD INSTRMNT: \u001b[0m£496.87 (millions)\n",
      "\u001b[1mPADDY PWR BET: \u001b[0m£4912.58 (millions)\n",
      "\u001b[1mQINETIQ: \u001b[0m£1732.29 (millions)\n",
      "\u001b[1mRENISHAW: \u001b[0m£3054.21 (millions)\n",
      "\u001b[1mRICARDO: \u001b[0m£331.12 (millions)\n",
      "\u001b[1mSAGE GRP.: \u001b[0m£6769.89 (millions)\n",
      "\u001b[1mSDL: \u001b[0m£505.93 (millions)\n",
      "\u001b[1mSMITH&NEPHEW: \u001b[0m£12646.09 (millions)\n",
      "\u001b[1mSPECTRIS: \u001b[0m£2831.96 (millions)\n",
      "\u001b[1mSPIRENT: \u001b[0m£867.45 (millions)\n",
      "\u001b[1mTRIAD GRP.: \u001b[0m£5.46 (millions)\n",
      "\u001b[1mULTRA ELEC.: \u001b[0m£931.48 (millions)\n",
      "\u001b[1mVECTURA: \u001b[0m£490.72 (millions)\n",
      "\u001b[1mXAAR: \u001b[0m£118.58 (millions)\n",
      "\u001b[1mXP POWER: \u001b[0m£402.01 (millions)\n"
     ]
    }
   ],
   "source": [
    "# Import the market capitalisation of each of our instruments in the index\n",
    "instrument_market_cap = import_data.fetch_instrument_market_cap('paper-weights.csv')\n",
    "# Pretty print the market caps\n",
    "prettyprint.instruments_market_cap(instrument_market_cap)"
   ]
  },
  {
   "cell_type": "markdown",
   "metadata": {},
   "source": [
    "Now that we have our market capitalisation figures we can upsert our constituents into the reference portfolio. We can add the weights in any format and LUSID will normalise them to equal 1. \n",
    "\n",
    "You can read more about upserting constituents in the LUSID API documentation: [LUSID API Docs: Upserting Constituents to a Reference Portfolio](https://docs.lusid.com/#operation/UpsertReferencePortfolioConstituents)\n",
    "\n",
    "*Run the cell below to upsert our constituents*"
   ]
  },
  {
   "cell_type": "code",
   "execution_count": 11,
   "metadata": {},
   "outputs": [
    {
     "name": "stdout",
     "output_type": "stream",
     "text": [
      "Constituents Upserted\n"
     ]
    }
   ],
   "source": [
    "# Initialise a list to hold our constituents\n",
    "constituents = []\n",
    "# Work out the total market capitalisation of the entire index\n",
    "total = sum(instrument_market_cap.values())\n",
    "\n",
    "# Iterate over instrument unvierse to add each constituent to our list\n",
    "for instrument_name, instrument in instrument_universe.items():\n",
    "    # Skip cash instruments\n",
    "    if 'Cash' in instrument_name:\n",
    "        continue\n",
    "    # Calculate our constituents weight based on market cap and add it to our list\n",
    "    constituents.append(models.ReferencePortfolioConstituentRequest(\n",
    "        instrument_uid=instrument['identifiers']['LUID'],\n",
    "        weight=instrument_market_cap[instrument_name]/total,\n",
    "        currency=instrument['currency']))\n",
    "\n",
    "# Create our request to add our constituents\n",
    "constituents_request = models.UpsertReferencePortfolioConstituentsRequest(\n",
    "    effective_from=holdings_effective_date,\n",
    "    weight_type=\"Periodical\",\n",
    "    period_type=\"Quarterly\",\n",
    "    period_count=4,\n",
    "    constituents=constituents)\n",
    "\n",
    "# Call LUSID to upsert our constituents into our reference portfolio\n",
    "response = client.upsert_reference_portfolio_constituents(\n",
    "    scope=analyst_scope_code,\n",
    "    code=reference_portfolio_code,\n",
    "    constituents=constituents_request)\n",
    "\n",
    "print ('Constituents Upserted')"
   ]
  },
  {
   "cell_type": "markdown",
   "metadata": {},
   "source": [
    "Our reference portfolio is no longer empty and now contains the weights for each instrument in our index against which the analyst's performance will be compared."
   ]
  },
  {
   "cell_type": "markdown",
   "metadata": {},
   "source": [
    "![Scopes](img/paper-referenceportfoliofilled.gif)"
   ]
  },
  {
   "cell_type": "markdown",
   "metadata": {},
   "source": [
    "## 6) Allow our analysts to trade across their tradeable instrument universe and add their transactions to their transaction portfolio"
   ]
  },
  {
   "cell_type": "markdown",
   "metadata": {},
   "source": [
    "Now that we have set up our portfolios we can add in our analyst's trades. These would likel be populated from an order management or similar system. In this case we are going to import the trades over the last two days from a CSV file.\n",
    "\n",
    "*Run the cell below to import our transactions*"
   ]
  },
  {
   "cell_type": "code",
   "execution_count": 12,
   "metadata": {},
   "outputs": [
    {
     "name": "stdout",
     "output_type": "stream",
     "text": [
      "\u001b[1mTransaction: \u001b[0mtid_124398219481\n",
      "\u001b[1mPortfolio: \u001b[0mLSE_FTSE_techMarkFocus_transactions\n",
      "\u001b[1mInstrument Name: \u001b[0mAVEVA GRP\n",
      "\u001b[1mInstrument LUID: \u001b[0mLUID_C2G6UXB1\n",
      "\u001b[1mType: \u001b[0mBuy\n",
      "\u001b[1mUnits: \u001b[0m265600\n",
      "\u001b[1mPrice: \u001b[0m28.94\n",
      "\u001b[1mTotal Cost: \u001b[0m7686464.0\n",
      "\u001b[1mCurrency: \u001b[0mGBP\n",
      "\u001b[1mTransaction Date: \u001b[0m2019-01-27T11:35:15.394524+00:00\n",
      "\u001b[1mSettlement Date: \u001b[0m2019-01-29T11:35:15.394524+00:00\n",
      "\u001b[1mStrategy: \u001b[0mquantitativeSignal\n",
      "\n",
      "\u001b[1mTransaction: \u001b[0mtid_339423984894\n",
      "\u001b[1mPortfolio: \u001b[0mLSE_FTSE_techMarkFocus_transactions\n",
      "\u001b[1mInstrument Name: \u001b[0mGBP_Cash\n",
      "\u001b[1mInstrument LUID: \u001b[0mCCY_GBP\n",
      "\u001b[1mType: \u001b[0mFundsOut\n",
      "\u001b[1mUnits: \u001b[0m265600\n",
      "\u001b[1mPrice: \u001b[0m0.005788000000000001\n",
      "\u001b[1mTotal Cost: \u001b[0m1537.2928\n",
      "\u001b[1mCurrency: \u001b[0mGBP\n",
      "\u001b[1mTransaction Date: \u001b[0m2019-01-27T09:27:23.356699+00:00\n",
      "\u001b[1mSettlement Date: \u001b[0m2019-01-29T09:27:23.356699+00:00\n",
      "\u001b[1mStrategy: \u001b[0mquantitativeSignal\n",
      "\n",
      "\u001b[1mTransaction: \u001b[0mtid_339423984896\n",
      "\u001b[1mPortfolio: \u001b[0mLSE_FTSE_techMarkFocus_transactions\n",
      "\u001b[1mInstrument Name: \u001b[0mGBP_Cash\n",
      "\u001b[1mInstrument LUID: \u001b[0mCCY_GBP\n",
      "\u001b[1mType: \u001b[0mFundsOut\n",
      "\u001b[1mUnits: \u001b[0m265600\n",
      "\u001b[1mPrice: \u001b[0m0.014469999999999998\n",
      "\u001b[1mTotal Cost: \u001b[0m3843.232\n",
      "\u001b[1mCurrency: \u001b[0mGBP\n",
      "\u001b[1mTransaction Date: \u001b[0m2019-01-27T12:38:40.079779+00:00\n",
      "\u001b[1mSettlement Date: \u001b[0m2019-01-29T12:38:40.079779+00:00\n",
      "\u001b[1mStrategy: \u001b[0mquantitativeSignal\n",
      "\n",
      "\u001b[1mTransaction: \u001b[0mtid_359231290933\n",
      "\u001b[1mPortfolio: \u001b[0mLSE_FTSE_techMarkFocus_transactions\n",
      "\u001b[1mInstrument Name: \u001b[0mBATM ADVANCED\n",
      "\u001b[1mInstrument LUID: \u001b[0mLUID_0L5AS1JO\n",
      "\u001b[1mType: \u001b[0mBuy\n",
      "\u001b[1mUnits: \u001b[0m750000\n",
      "\u001b[1mPrice: \u001b[0m0.46299999999999997\n",
      "\u001b[1mTotal Cost: \u001b[0m347250.0\n",
      "\u001b[1mCurrency: \u001b[0mGBP\n",
      "\u001b[1mTransaction Date: \u001b[0m2019-01-26T11:51:59.413690+00:00\n",
      "\u001b[1mSettlement Date: \u001b[0m2019-01-28T11:51:59.413690+00:00\n",
      "\u001b[1mStrategy: \u001b[0mfundamentalAnalysis\n",
      "\n",
      "\u001b[1mTransaction: \u001b[0mtid_223239424244\n",
      "\u001b[1mPortfolio: \u001b[0mLSE_FTSE_techMarkFocus_transactions\n",
      "\u001b[1mInstrument Name: \u001b[0mGBP_Cash\n",
      "\u001b[1mInstrument LUID: \u001b[0mCCY_GBP\n",
      "\u001b[1mType: \u001b[0mFundsOut\n",
      "\u001b[1mUnits: \u001b[0m750000\n",
      "\u001b[1mPrice: \u001b[0m9.259999999999999e-05\n",
      "\u001b[1mTotal Cost: \u001b[0m69.45\n",
      "\u001b[1mCurrency: \u001b[0mGBP\n",
      "\u001b[1mTransaction Date: \u001b[0m2019-01-26T15:23:52.755228+00:00\n",
      "\u001b[1mSettlement Date: \u001b[0m2019-01-28T15:23:52.755228+00:00\n",
      "\u001b[1mStrategy: \u001b[0mfundamentalAnalysis\n",
      "\n",
      "\u001b[1mTransaction: \u001b[0mtid_354242442211\n",
      "\u001b[1mPortfolio: \u001b[0mLSE_FTSE_techMarkFocus_transactions\n",
      "\u001b[1mInstrument Name: \u001b[0mGBP_Cash\n",
      "\u001b[1mInstrument LUID: \u001b[0mCCY_GBP\n",
      "\u001b[1mType: \u001b[0mFundsOut\n",
      "\u001b[1mUnits: \u001b[0m750000\n",
      "\u001b[1mPrice: \u001b[0m0.0002315\n",
      "\u001b[1mTotal Cost: \u001b[0m173.625\n",
      "\u001b[1mCurrency: \u001b[0mGBP\n",
      "\u001b[1mTransaction Date: \u001b[0m2019-01-26T12:30:24.984253+00:00\n",
      "\u001b[1mSettlement Date: \u001b[0m2019-01-28T12:30:24.984253+00:00\n",
      "\u001b[1mStrategy: \u001b[0mfundamentalAnalysis\n",
      "\n",
      "\u001b[1mTransaction: \u001b[0mtid_342398989895\n",
      "\u001b[1mPortfolio: \u001b[0mLSE_FTSE_techMarkFocus_transactions\n",
      "\u001b[1mInstrument Name: \u001b[0mCOMPUTACENTER\n",
      "\u001b[1mInstrument LUID: \u001b[0mLUID_VB0W6R8R\n",
      "\u001b[1mType: \u001b[0mSellShort\n",
      "\u001b[1mUnits: \u001b[0m150000\n",
      "\u001b[1mPrice: \u001b[0m10.5\n",
      "\u001b[1mTotal Cost: \u001b[0m1575000.0\n",
      "\u001b[1mCurrency: \u001b[0mGBP\n",
      "\u001b[1mTransaction Date: \u001b[0m2019-01-27T10:19:00.832168+00:00\n",
      "\u001b[1mSettlement Date: \u001b[0m2019-01-29T10:19:00.832168+00:00\n",
      "\u001b[1mStrategy: \u001b[0mfundamentalAnalysis\n",
      "\n",
      "\u001b[1mTransaction: \u001b[0mtid_384809092344\n",
      "\u001b[1mPortfolio: \u001b[0mLSE_FTSE_techMarkFocus_transactions\n",
      "\u001b[1mInstrument Name: \u001b[0mGBP_Cash\n",
      "\u001b[1mInstrument LUID: \u001b[0mCCY_GBP\n",
      "\u001b[1mType: \u001b[0mFundsOut\n",
      "\u001b[1mUnits: \u001b[0m150000\n",
      "\u001b[1mPrice: \u001b[0m0.0021\n",
      "\u001b[1mTotal Cost: \u001b[0m315.0\n",
      "\u001b[1mCurrency: \u001b[0mGBP\n",
      "\u001b[1mTransaction Date: \u001b[0m2019-01-26T10:15:46.134196+00:00\n",
      "\u001b[1mSettlement Date: \u001b[0m2019-01-28T10:15:46.134196+00:00\n",
      "\u001b[1mStrategy: \u001b[0mfundamentalAnalysis\n",
      "\n",
      "\u001b[1mTransaction: \u001b[0mtid_348234938244\n",
      "\u001b[1mPortfolio: \u001b[0mLSE_FTSE_techMarkFocus_transactions\n",
      "\u001b[1mInstrument Name: \u001b[0mGBP_Cash\n",
      "\u001b[1mInstrument LUID: \u001b[0mCCY_GBP\n",
      "\u001b[1mType: \u001b[0mFundsOut\n",
      "\u001b[1mUnits: \u001b[0m150000\n",
      "\u001b[1mPrice: \u001b[0m0.00525\n",
      "\u001b[1mTotal Cost: \u001b[0m787.5\n",
      "\u001b[1mCurrency: \u001b[0mGBP\n",
      "\u001b[1mTransaction Date: \u001b[0m2019-01-27T16:45:10.986833+00:00\n",
      "\u001b[1mSettlement Date: \u001b[0m2019-01-29T16:45:10.986833+00:00\n",
      "\u001b[1mStrategy: \u001b[0mfundamentalAnalysis\n",
      "\n",
      "\u001b[1mTransaction: \u001b[0mtid_239394829484\n",
      "\u001b[1mPortfolio: \u001b[0mLSE_FTSE_techMarkFocus_transactions\n",
      "\u001b[1mInstrument Name: \u001b[0mDIALIGHT\n",
      "\u001b[1mInstrument LUID: \u001b[0mLUID_8W2UDUJ0\n",
      "\u001b[1mType: \u001b[0mBuy\n",
      "\u001b[1mUnits: \u001b[0m1500000\n",
      "\u001b[1mPrice: \u001b[0m4.18\n",
      "\u001b[1mTotal Cost: \u001b[0m6270000.0\n",
      "\u001b[1mCurrency: \u001b[0mGBP\n",
      "\u001b[1mTransaction Date: \u001b[0m2019-01-27T11:42:05.419097+00:00\n",
      "\u001b[1mSettlement Date: \u001b[0m2019-01-29T11:42:05.419097+00:00\n",
      "\u001b[1mStrategy: \u001b[0mquantitativeSignal\n",
      "\n",
      "\u001b[1mTransaction: \u001b[0mtid_345798978924\n",
      "\u001b[1mPortfolio: \u001b[0mLSE_FTSE_techMarkFocus_transactions\n",
      "\u001b[1mInstrument Name: \u001b[0mGBP_Cash\n",
      "\u001b[1mInstrument LUID: \u001b[0mCCY_GBP\n",
      "\u001b[1mType: \u001b[0mFundsOut\n",
      "\u001b[1mUnits: \u001b[0m1500000\n",
      "\u001b[1mPrice: \u001b[0m0.0008359999999999999\n",
      "\u001b[1mTotal Cost: \u001b[0m1254.0\n",
      "\u001b[1mCurrency: \u001b[0mGBP\n",
      "\u001b[1mTransaction Date: \u001b[0m2019-01-27T14:56:01.578190+00:00\n",
      "\u001b[1mSettlement Date: \u001b[0m2019-01-29T14:56:01.578190+00:00\n",
      "\u001b[1mStrategy: \u001b[0mquantitativeSignal\n",
      "\n",
      "\u001b[1mTransaction: \u001b[0mtid_354982424555\n",
      "\u001b[1mPortfolio: \u001b[0mLSE_FTSE_techMarkFocus_transactions\n",
      "\u001b[1mInstrument Name: \u001b[0mGBP_Cash\n",
      "\u001b[1mInstrument LUID: \u001b[0mCCY_GBP\n",
      "\u001b[1mType: \u001b[0mFundsOut\n",
      "\u001b[1mUnits: \u001b[0m1500000\n",
      "\u001b[1mPrice: \u001b[0m0.00209\n",
      "\u001b[1mTotal Cost: \u001b[0m3135.0\n",
      "\u001b[1mCurrency: \u001b[0mGBP\n",
      "\u001b[1mTransaction Date: \u001b[0m2019-01-26T08:19:55.332135+00:00\n",
      "\u001b[1mSettlement Date: \u001b[0m2019-01-28T08:19:55.332135+00:00\n",
      "\u001b[1mStrategy: \u001b[0mquantitativeSignal\n",
      "\n",
      "\u001b[1mTransaction: \u001b[0mtid_352909238244\n",
      "\u001b[1mPortfolio: \u001b[0mLSE_FTSE_techMarkFocus_transactions\n",
      "\u001b[1mInstrument Name: \u001b[0mGENUS\n",
      "\u001b[1mInstrument LUID: \u001b[0mLUID_NV3D9039\n",
      "\u001b[1mType: \u001b[0mBuy\n",
      "\u001b[1mUnits: \u001b[0m345000\n",
      "\u001b[1mPrice: \u001b[0m22.0\n",
      "\u001b[1mTotal Cost: \u001b[0m7590000.0\n",
      "\u001b[1mCurrency: \u001b[0mGBP\n",
      "\u001b[1mTransaction Date: \u001b[0m2019-01-27T14:16:37.752407+00:00\n",
      "\u001b[1mSettlement Date: \u001b[0m2019-01-29T14:16:37.752407+00:00\n",
      "\u001b[1mStrategy: \u001b[0mtechnicalAnalysis\n",
      "\n",
      "\u001b[1mTransaction: \u001b[0mtid_394892482455\n",
      "\u001b[1mPortfolio: \u001b[0mLSE_FTSE_techMarkFocus_transactions\n",
      "\u001b[1mInstrument Name: \u001b[0mGBP_Cash\n",
      "\u001b[1mInstrument LUID: \u001b[0mCCY_GBP\n",
      "\u001b[1mType: \u001b[0mFundsOut\n",
      "\u001b[1mUnits: \u001b[0m345000\n",
      "\u001b[1mPrice: \u001b[0m0.0044\n",
      "\u001b[1mTotal Cost: \u001b[0m1518.0\n",
      "\u001b[1mCurrency: \u001b[0mGBP\n",
      "\u001b[1mTransaction Date: \u001b[0m2019-01-27T08:17:51.057067+00:00\n",
      "\u001b[1mSettlement Date: \u001b[0m2019-01-29T08:17:51.057067+00:00\n",
      "\u001b[1mStrategy: \u001b[0mtechnicalAnalysis\n",
      "\n",
      "\u001b[1mTransaction: \u001b[0mtid_342398598555\n",
      "\u001b[1mPortfolio: \u001b[0mLSE_FTSE_techMarkFocus_transactions\n",
      "\u001b[1mInstrument Name: \u001b[0mGBP_Cash\n",
      "\u001b[1mInstrument LUID: \u001b[0mCCY_GBP\n",
      "\u001b[1mType: \u001b[0mFundsOut\n",
      "\u001b[1mUnits: \u001b[0m345000\n",
      "\u001b[1mPrice: \u001b[0m0.011000000000000001\n",
      "\u001b[1mTotal Cost: \u001b[0m3795.0\n",
      "\u001b[1mCurrency: \u001b[0mGBP\n",
      "\u001b[1mTransaction Date: \u001b[0m2019-01-26T15:38:10.566321+00:00\n",
      "\u001b[1mSettlement Date: \u001b[0m2019-01-28T15:38:10.566321+00:00\n",
      "\u001b[1mStrategy: \u001b[0mtechnicalAnalysis\n",
      "\n",
      "\u001b[1mTransaction: \u001b[0mtid_334250655566\n",
      "\u001b[1mPortfolio: \u001b[0mLSE_FTSE_techMarkFocus_transactions\n",
      "\u001b[1mInstrument Name: \u001b[0mMICROGEN\n",
      "\u001b[1mInstrument LUID: \u001b[0mLUID_42QU0Z23\n",
      "\u001b[1mType: \u001b[0mBuy\n",
      "\u001b[1mUnits: \u001b[0m234000\n",
      "\u001b[1mPrice: \u001b[0m3.92\n",
      "\u001b[1mTotal Cost: \u001b[0m917280.0\n",
      "\u001b[1mCurrency: \u001b[0mGBP\n",
      "\u001b[1mTransaction Date: \u001b[0m2019-01-27T16:04:26.807277+00:00\n",
      "\u001b[1mSettlement Date: \u001b[0m2019-01-29T16:04:26.807277+00:00\n",
      "\u001b[1mStrategy: \u001b[0mquantitativeSignal\n",
      "\n",
      "\u001b[1mTransaction: \u001b[0mtid_345090989054\n",
      "\u001b[1mPortfolio: \u001b[0mLSE_FTSE_techMarkFocus_transactions\n",
      "\u001b[1mInstrument Name: \u001b[0mGBP_Cash\n",
      "\u001b[1mInstrument LUID: \u001b[0mCCY_GBP\n",
      "\u001b[1mType: \u001b[0mFundsOut\n",
      "\u001b[1mUnits: \u001b[0m234000\n",
      "\u001b[1mPrice: \u001b[0m0.000784\n",
      "\u001b[1mTotal Cost: \u001b[0m183.456\n",
      "\u001b[1mCurrency: \u001b[0mGBP\n",
      "\u001b[1mTransaction Date: \u001b[0m2019-01-27T16:48:48.573874+00:00\n",
      "\u001b[1mSettlement Date: \u001b[0m2019-01-29T16:48:48.573874+00:00\n",
      "\u001b[1mStrategy: \u001b[0mquantitativeSignal\n",
      "\n",
      "\u001b[1mTransaction: \u001b[0mtid_324599699055\n",
      "\u001b[1mPortfolio: \u001b[0mLSE_FTSE_techMarkFocus_transactions\n",
      "\u001b[1mInstrument Name: \u001b[0mGBP_Cash\n",
      "\u001b[1mInstrument LUID: \u001b[0mCCY_GBP\n",
      "\u001b[1mType: \u001b[0mFundsOut\n",
      "\u001b[1mUnits: \u001b[0m234000\n",
      "\u001b[1mPrice: \u001b[0m0.00196\n",
      "\u001b[1mTotal Cost: \u001b[0m458.64\n",
      "\u001b[1mCurrency: \u001b[0mGBP\n",
      "\u001b[1mTransaction Date: \u001b[0m2019-01-26T11:04:58.550362+00:00\n",
      "\u001b[1mSettlement Date: \u001b[0m2019-01-28T11:04:58.550362+00:00\n",
      "\u001b[1mStrategy: \u001b[0mquantitativeSignal\n",
      "\n",
      "\u001b[1mTransaction: \u001b[0mtid_343356386885\n",
      "\u001b[1mPortfolio: \u001b[0mLSE_FTSE_techMarkFocus_transactions\n",
      "\u001b[1mInstrument Name: \u001b[0mMICRO FOCUS\n",
      "\u001b[1mInstrument LUID: \u001b[0mLUID_LU19QSZV\n",
      "\u001b[1mType: \u001b[0mSellShort\n",
      "\u001b[1mUnits: \u001b[0m543000\n",
      "\u001b[1mPrice: \u001b[0m13.6\n",
      "\u001b[1mTotal Cost: \u001b[0m7384800.0\n",
      "\u001b[1mCurrency: \u001b[0mGBP\n",
      "\u001b[1mTransaction Date: \u001b[0m2019-01-27T15:52:58.509902+00:00\n",
      "\u001b[1mSettlement Date: \u001b[0m2019-01-29T15:52:58.509902+00:00\n",
      "\u001b[1mStrategy: \u001b[0mtechnicalAnalysis\n",
      "\n",
      "\u001b[1mTransaction: \u001b[0mtid_343430098090\n",
      "\u001b[1mPortfolio: \u001b[0mLSE_FTSE_techMarkFocus_transactions\n",
      "\u001b[1mInstrument Name: \u001b[0mGBP_Cash\n",
      "\u001b[1mInstrument LUID: \u001b[0mCCY_GBP\n",
      "\u001b[1mType: \u001b[0mFundsOut\n",
      "\u001b[1mUnits: \u001b[0m543000\n",
      "\u001b[1mPrice: \u001b[0m0.0027199999999999998\n",
      "\u001b[1mTotal Cost: \u001b[0m1476.96\n",
      "\u001b[1mCurrency: \u001b[0mGBP\n",
      "\u001b[1mTransaction Date: \u001b[0m2019-01-27T13:08:59.872369+00:00\n",
      "\u001b[1mSettlement Date: \u001b[0m2019-01-29T13:08:59.872369+00:00\n",
      "\u001b[1mStrategy: \u001b[0mtechnicalAnalysis\n",
      "\n",
      "\u001b[1mTransaction: \u001b[0mtid_342453598349\n",
      "\u001b[1mPortfolio: \u001b[0mLSE_FTSE_techMarkFocus_transactions\n",
      "\u001b[1mInstrument Name: \u001b[0mGBP_Cash\n",
      "\u001b[1mInstrument LUID: \u001b[0mCCY_GBP\n",
      "\u001b[1mType: \u001b[0mFundsOut\n",
      "\u001b[1mUnits: \u001b[0m543000\n",
      "\u001b[1mPrice: \u001b[0m0.0068\n",
      "\u001b[1mTotal Cost: \u001b[0m3692.4\n",
      "\u001b[1mCurrency: \u001b[0mGBP\n",
      "\u001b[1mTransaction Date: \u001b[0m2019-01-26T13:58:32.121022+00:00\n",
      "\u001b[1mSettlement Date: \u001b[0m2019-01-28T13:58:32.121022+00:00\n",
      "\u001b[1mStrategy: \u001b[0mtechnicalAnalysis\n",
      "\n",
      "\u001b[1mTransaction: \u001b[0mtid_359898999484\n",
      "\u001b[1mPortfolio: \u001b[0mLSE_FTSE_techMarkFocus_transactions\n",
      "\u001b[1mInstrument Name: \u001b[0mSDL\n",
      "\u001b[1mInstrument LUID: \u001b[0mLUID_2ECEHQEH\n",
      "\u001b[1mType: \u001b[0mBuy\n",
      "\u001b[1mUnits: \u001b[0m55000\n",
      "\u001b[1mPrice: \u001b[0m5.55\n",
      "\u001b[1mTotal Cost: \u001b[0m305250.0\n",
      "\u001b[1mCurrency: \u001b[0mGBP\n",
      "\u001b[1mTransaction Date: \u001b[0m2019-01-26T12:39:52.393025+00:00\n",
      "\u001b[1mSettlement Date: \u001b[0m2019-01-28T12:39:52.393025+00:00\n",
      "\u001b[1mStrategy: \u001b[0mnewsSentiment\n",
      "\n",
      "\u001b[1mTransaction: \u001b[0mtid_859898955943\n",
      "\u001b[1mPortfolio: \u001b[0mLSE_FTSE_techMarkFocus_transactions\n",
      "\u001b[1mInstrument Name: \u001b[0mGBP_Cash\n",
      "\u001b[1mInstrument LUID: \u001b[0mCCY_GBP\n",
      "\u001b[1mType: \u001b[0mFundsOut\n",
      "\u001b[1mUnits: \u001b[0m55000\n",
      "\u001b[1mPrice: \u001b[0m0.0011099999999999999\n",
      "\u001b[1mTotal Cost: \u001b[0m61.05\n",
      "\u001b[1mCurrency: \u001b[0mGBP\n",
      "\u001b[1mTransaction Date: \u001b[0m2019-01-26T15:23:47.905230+00:00\n",
      "\u001b[1mSettlement Date: \u001b[0m2019-01-28T15:23:47.905230+00:00\n",
      "\u001b[1mStrategy: \u001b[0mnewsSentiment\n",
      "\n",
      "\u001b[1mTransaction: \u001b[0mtid_598398948934\n",
      "\u001b[1mPortfolio: \u001b[0mLSE_FTSE_techMarkFocus_transactions\n",
      "\u001b[1mInstrument Name: \u001b[0mGBP_Cash\n",
      "\u001b[1mInstrument LUID: \u001b[0mCCY_GBP\n",
      "\u001b[1mType: \u001b[0mFundsOut\n",
      "\u001b[1mUnits: \u001b[0m55000\n",
      "\u001b[1mPrice: \u001b[0m0.002775\n",
      "\u001b[1mTotal Cost: \u001b[0m152.625\n",
      "\u001b[1mCurrency: \u001b[0mGBP\n",
      "\u001b[1mTransaction Date: \u001b[0m2019-01-26T15:16:03.859295+00:00\n",
      "\u001b[1mSettlement Date: \u001b[0m2019-01-28T15:16:03.859295+00:00\n",
      "\u001b[1mStrategy: \u001b[0mnewsSentiment\n",
      "\n",
      "\u001b[1mTransaction: \u001b[0mtid_938598989484\n",
      "\u001b[1mPortfolio: \u001b[0mLSE_FTSE_techMarkFocus_transactions\n",
      "\u001b[1mInstrument Name: \u001b[0mULTRA ELEC.\n",
      "\u001b[1mInstrument LUID: \u001b[0mLUID_VO28IAUC\n",
      "\u001b[1mType: \u001b[0mBuy\n",
      "\u001b[1mUnits: \u001b[0m120000\n",
      "\u001b[1mPrice: \u001b[0m13.19\n",
      "\u001b[1mTotal Cost: \u001b[0m1582800.0\n",
      "\u001b[1mCurrency: \u001b[0mGBP\n",
      "\u001b[1mTransaction Date: \u001b[0m2019-01-26T09:19:40.127469+00:00\n",
      "\u001b[1mSettlement Date: \u001b[0m2019-01-28T09:19:40.127469+00:00\n",
      "\u001b[1mStrategy: \u001b[0mtechnicalAnalysis\n",
      "\n",
      "\u001b[1mTransaction: \u001b[0mtid_353090960355\n",
      "\u001b[1mPortfolio: \u001b[0mLSE_FTSE_techMarkFocus_transactions\n",
      "\u001b[1mInstrument Name: \u001b[0mGBP_Cash\n",
      "\u001b[1mInstrument LUID: \u001b[0mCCY_GBP\n",
      "\u001b[1mType: \u001b[0mFundsOut\n",
      "\u001b[1mUnits: \u001b[0m120000\n",
      "\u001b[1mPrice: \u001b[0m0.0026379999999999997\n",
      "\u001b[1mTotal Cost: \u001b[0m316.56\n",
      "\u001b[1mCurrency: \u001b[0mGBP\n",
      "\u001b[1mTransaction Date: \u001b[0m2019-01-27T08:07:03.008377+00:00\n",
      "\u001b[1mSettlement Date: \u001b[0m2019-01-29T08:07:03.008377+00:00\n",
      "\u001b[1mStrategy: \u001b[0mtechnicalAnalysis\n",
      "\n",
      "\u001b[1mTransaction: \u001b[0mtid_498964842353\n",
      "\u001b[1mPortfolio: \u001b[0mLSE_FTSE_techMarkFocus_transactions\n",
      "\u001b[1mInstrument Name: \u001b[0mGBP_Cash\n",
      "\u001b[1mInstrument LUID: \u001b[0mCCY_GBP\n",
      "\u001b[1mType: \u001b[0mFundsOut\n",
      "\u001b[1mUnits: \u001b[0m120000\n",
      "\u001b[1mPrice: \u001b[0m0.006595\n",
      "\u001b[1mTotal Cost: \u001b[0m791.4\n",
      "\u001b[1mCurrency: \u001b[0mGBP\n",
      "\u001b[1mTransaction Date: \u001b[0m2019-01-27T15:13:05.828509+00:00\n",
      "\u001b[1mSettlement Date: \u001b[0m2019-01-29T15:13:05.828509+00:00\n",
      "\u001b[1mStrategy: \u001b[0mtechnicalAnalysis\n",
      "\n",
      "\u001b[1mTransaction: \u001b[0mtid_984983948343\n",
      "\u001b[1mPortfolio: \u001b[0mLSE_FTSE_techMarkFocus_transactions\n",
      "\u001b[1mInstrument Name: \u001b[0mSAGE GRP.\n",
      "\u001b[1mInstrument LUID: \u001b[0mLUID_K499YGKV\n",
      "\u001b[1mType: \u001b[0mSellShort\n",
      "\u001b[1mUnits: \u001b[0m98000\n",
      "\u001b[1mPrice: \u001b[0m5.89\n",
      "\u001b[1mTotal Cost: \u001b[0m577220.0\n",
      "\u001b[1mCurrency: \u001b[0mGBP\n",
      "\u001b[1mTransaction Date: \u001b[0m2019-01-26T15:56:31.983032+00:00\n",
      "\u001b[1mSettlement Date: \u001b[0m2019-01-28T15:56:31.983032+00:00\n",
      "\u001b[1mStrategy: \u001b[0mfundamentalAnalysis\n",
      "\n",
      "\u001b[1mTransaction: \u001b[0mtid_982938935892\n",
      "\u001b[1mPortfolio: \u001b[0mLSE_FTSE_techMarkFocus_transactions\n",
      "\u001b[1mInstrument Name: \u001b[0mGBP_Cash\n",
      "\u001b[1mInstrument LUID: \u001b[0mCCY_GBP\n",
      "\u001b[1mType: \u001b[0mFundsOut\n",
      "\u001b[1mUnits: \u001b[0m98000\n",
      "\u001b[1mPrice: \u001b[0m0.001178\n",
      "\u001b[1mTotal Cost: \u001b[0m115.444\n",
      "\u001b[1mCurrency: \u001b[0mGBP\n",
      "\u001b[1mTransaction Date: \u001b[0m2019-01-27T09:06:41.217423+00:00\n",
      "\u001b[1mSettlement Date: \u001b[0m2019-01-29T09:06:41.217423+00:00\n",
      "\u001b[1mStrategy: \u001b[0mfundamentalAnalysis\n",
      "\n",
      "\u001b[1mTransaction: \u001b[0mtid_342509090592\n",
      "\u001b[1mPortfolio: \u001b[0mLSE_FTSE_techMarkFocus_transactions\n",
      "\u001b[1mInstrument Name: \u001b[0mGBP_Cash\n",
      "\u001b[1mInstrument LUID: \u001b[0mCCY_GBP\n",
      "\u001b[1mType: \u001b[0mFundsOut\n",
      "\u001b[1mUnits: \u001b[0m98000\n",
      "\u001b[1mPrice: \u001b[0m0.002945\n",
      "\u001b[1mTotal Cost: \u001b[0m288.61\n",
      "\u001b[1mCurrency: \u001b[0mGBP\n",
      "\u001b[1mTransaction Date: \u001b[0m2019-01-26T16:40:25.213593+00:00\n",
      "\u001b[1mSettlement Date: \u001b[0m2019-01-28T16:40:25.213593+00:00\n",
      "\u001b[1mStrategy: \u001b[0mfundamentalAnalysis\n",
      "\n",
      "\u001b[1mTransaction: \u001b[0mtid_345208095205\n",
      "\u001b[1mPortfolio: \u001b[0mLSE_FTSE_techMarkFocus_transactions\n",
      "\u001b[1mInstrument Name: \u001b[0mXP POWER\n",
      "\u001b[1mInstrument LUID: \u001b[0mLUID_7AJLUKPO\n",
      "\u001b[1mType: \u001b[0mBuy\n",
      "\u001b[1mUnits: \u001b[0m98000\n",
      "\u001b[1mPrice: \u001b[0m22.0\n",
      "\u001b[1mTotal Cost: \u001b[0m2156000.0\n",
      "\u001b[1mCurrency: \u001b[0mGBP\n",
      "\u001b[1mTransaction Date: \u001b[0m2019-01-27T16:28:43.537388+00:00\n",
      "\u001b[1mSettlement Date: \u001b[0m2019-01-29T16:28:43.537388+00:00\n",
      "\u001b[1mStrategy: \u001b[0mquantitativeSignal\n",
      "\n",
      "\u001b[1mTransaction: \u001b[0mtid_345098250255\n",
      "\u001b[1mPortfolio: \u001b[0mLSE_FTSE_techMarkFocus_transactions\n",
      "\u001b[1mInstrument Name: \u001b[0mGBP_Cash\n",
      "\u001b[1mInstrument LUID: \u001b[0mCCY_GBP\n",
      "\u001b[1mType: \u001b[0mFundsOut\n",
      "\u001b[1mUnits: \u001b[0m98000\n",
      "\u001b[1mPrice: \u001b[0m0.0044\n",
      "\u001b[1mTotal Cost: \u001b[0m431.2\n",
      "\u001b[1mCurrency: \u001b[0mGBP\n",
      "\u001b[1mTransaction Date: \u001b[0m2019-01-27T13:23:07.617792+00:00\n",
      "\u001b[1mSettlement Date: \u001b[0m2019-01-29T13:23:07.617792+00:00\n",
      "\u001b[1mStrategy: \u001b[0mquantitativeSignal\n",
      "\n",
      "\u001b[1mTransaction: \u001b[0mtid_345092090592\n",
      "\u001b[1mPortfolio: \u001b[0mLSE_FTSE_techMarkFocus_transactions\n",
      "\u001b[1mInstrument Name: \u001b[0mGBP_Cash\n",
      "\u001b[1mInstrument LUID: \u001b[0mCCY_GBP\n",
      "\u001b[1mType: \u001b[0mFundsOut\n",
      "\u001b[1mUnits: \u001b[0m98000\n",
      "\u001b[1mPrice: \u001b[0m0.011000000000000001\n",
      "\u001b[1mTotal Cost: \u001b[0m1078.0\n",
      "\u001b[1mCurrency: \u001b[0mGBP\n",
      "\u001b[1mTransaction Date: \u001b[0m2019-01-27T08:12:57.561451+00:00\n",
      "\u001b[1mSettlement Date: \u001b[0m2019-01-29T08:12:57.561451+00:00\n",
      "\u001b[1mStrategy: \u001b[0mquantitativeSignal\n",
      "\n",
      "\n",
      "\n"
     ]
    }
   ],
   "source": [
    "# Import our analyst's trades from a CSV file\n",
    "analyst_transactions = import_data.fetch_client_transactions(\n",
    "    'paper-transactions.csv', \n",
    "    instrument_universe,\n",
    "    days_back=2)\n",
    "\n",
    "# Pretty print their activity\n",
    "prettyprint.transactions_strategy(analyst_transactions)"
   ]
  },
  {
   "cell_type": "markdown",
   "metadata": {},
   "source": [
    "We can set custom properties on our transactions. In this case we are going to create a strategy property which allows the analyst to note what strategy they were following when they made the trade. These will help us justify their trades and recommendations when it comes to making them for real. \n",
    "\n",
    "You can read more about creating properties in the LUSID API documentation: [LUSID API Docs: Defining a new Property](https://docs.lusid.com/#operation/CreatePropertyDefinition)\n",
    "\n",
    "*Run the cell below to create our transaction strategy property*"
   ]
  },
  {
   "cell_type": "code",
   "execution_count": 13,
   "metadata": {},
   "outputs": [
    {
     "name": "stdout",
     "output_type": "stream",
     "text": [
      "\u001b[1mStrategy Property Key: : \u001b[0mTrade/analyst-paper-ec4a/strategy\n"
     ]
    }
   ],
   "source": [
    "# Create a request to define our strategy property\n",
    "property_request = models.CreatePropertyDefinitionRequest(\n",
    "    domain='Trade',\n",
    "    scope=analyst_scope_code,\n",
    "    code='strategy',\n",
    "    value_required=False,\n",
    "    display_name='strategy',\n",
    "    data_type_id=models.ResourceId(\n",
    "        scope='default',\n",
    "        code='string')\n",
    ")\n",
    "\n",
    "# Call LUSID to create our new property\n",
    "property_response = client.create_property_definition(definition=property_request)\n",
    "\n",
    "# Grab the key off the response to use when referencing this property in other LUSID calls\n",
    "strategy_property_key = property_response.key\n",
    "\n",
    "# Pretty print our strategy property key\n",
    "prettyprint.heading('Strategy Property Key: ', strategy_property_key)"
   ]
  },
  {
   "cell_type": "markdown",
   "metadata": {},
   "source": [
    "Now that we have our trades imported and our property created we can upsert them into LUSID. Read more about adding transactions in the LUSID API documentation: [LUSID API Docs: Upserting Transactions](https://docs.lusid.com/#operation/UpsertTransactions)\n",
    "\n",
    "*Run the cell below to upsert our transactions into our transactions portfolio*"
   ]
  },
  {
   "cell_type": "code",
   "execution_count": 14,
   "metadata": {},
   "outputs": [
    {
     "name": "stdout",
     "output_type": "stream",
     "text": [
      "\u001b[1mTransactions Successfully Upserted into Portfolio\u001b[0m\n",
      "\u001b[1mScope: \u001b[0manalyst-paper-ec4a\n",
      "\u001b[1mCode: \u001b[0mLSE_FTSE_techMarkFocus_transactions\n",
      "\u001b[1mTransactions Effective From: \u001b[0m2019-01-27 16:48:48.573874+00:00\n",
      "\u001b[1mTransactions Created On: \u001b[0m2019-01-28 16:44:18.112951+00:00\n",
      "\n"
     ]
    }
   ],
   "source": [
    "# Initialise a list to hold our transactions\n",
    "batch_transaction_requests = []\n",
    "\n",
    "# Iterate over the transactions for each portfolio\n",
    "for transaction_id, transaction in analyst_transactions.items():\n",
    "    \n",
    "    batch_transaction_requests.append(\n",
    "        models.TransactionRequest(\n",
    "            transaction_id=transaction_id,\n",
    "            type=transaction['type'],\n",
    "            instrument_uid=transaction['instrument_uid'],\n",
    "            transaction_date=transaction['transaction_date'],\n",
    "            settlement_date=transaction['settlement_date'],\n",
    "            units=transaction['units'],\n",
    "            transaction_price=models.TransactionPrice(\n",
    "                price=transaction['transaction_price'],\n",
    "                type='Price'),\n",
    "            total_consideration=models.CurrencyAndAmount(\n",
    "                amount=transaction['total_cost'],\n",
    "                currency=transaction['transaction_currency']),\n",
    "            source='Client',\n",
    "            transaction_currency=transaction['transaction_currency'],\n",
    "            properties={\n",
    "                strategy_property_key: models.PropertyValue(\n",
    "                    label_value=transaction['strategy'])}\n",
    "             ))\n",
    "\n",
    "# Call LUSID to upsert our transactions\n",
    "transaction_response = client.upsert_transactions(\n",
    "    scope=analyst_scope_code,\n",
    "    code=transaction_portfolio_code,\n",
    "    transactions=batch_transaction_requests)\n",
    "\n",
    "# Pretty print the response from LUSID\n",
    "prettyprint.transactions_response(\n",
    "    transaction_response,\n",
    "    analyst_scope_code, \n",
    "    transaction_portfolio_code)"
   ]
  },
  {
   "cell_type": "markdown",
   "metadata": {},
   "source": [
    "Our transaction portfolio is now populated with our analyst's paper trades."
   ]
  },
  {
   "cell_type": "markdown",
   "metadata": {},
   "source": [
    "## 7) Create an analytics store to hold the latest prices of our tradeable instrument universe"
   ]
  },
  {
   "cell_type": "markdown",
   "metadata": {},
   "source": [
    "To value our portfolios we need current prices. We store these prices in an analytics store. There are a number of different ways and sources that we can get our pricing information. In this case we are going to load the prices when we set up our portfolios and the current prices from a CSV file.\n",
    "\n",
    "*Run the cell below to import our pricing information*"
   ]
  },
  {
   "cell_type": "code",
   "execution_count": 15,
   "metadata": {},
   "outputs": [
    {
     "name": "stdout",
     "output_type": "stream",
     "text": [
      "\u001b[1mInstrument :\u001b[0mAVEVA GRP\n",
      "\u001b[1mPrice 3 Days Ago :\u001b[0m£27.84\n",
      "\u001b[1mPrice Today :\u001b[0m£30.32\n",
      "\n",
      "\u001b[1mInstrument :\u001b[0mBAE SYS.\n",
      "\u001b[1mPrice 3 Days Ago :\u001b[0m£5.15\n",
      "\u001b[1mPrice Today :\u001b[0m£4.78\n",
      "\n",
      "\u001b[1mInstrument :\u001b[0mBATM ADVANCED\n",
      "\u001b[1mPrice 3 Days Ago :\u001b[0m£0.46\n",
      "\u001b[1mPrice Today :\u001b[0m£0.42\n",
      "\n",
      "\u001b[1mInstrument :\u001b[0mBTG\n",
      "\u001b[1mPrice 3 Days Ago :\u001b[0m£8.28\n",
      "\u001b[1mPrice Today :\u001b[0m£8.97\n",
      "\n",
      "\u001b[1mInstrument :\u001b[0mCOBHAM\n",
      "\u001b[1mPrice 3 Days Ago :\u001b[0m£1.07\n",
      "\u001b[1mPrice Today :\u001b[0m£1.02\n",
      "\n",
      "\u001b[1mInstrument :\u001b[0mCOMPUTACENTER\n",
      "\u001b[1mPrice 3 Days Ago :\u001b[0m£10.68\n",
      "\u001b[1mPrice Today :\u001b[0m£11.46\n",
      "\n",
      "\u001b[1mInstrument :\u001b[0mCONSORT MED.\n",
      "\u001b[1mPrice 3 Days Ago :\u001b[0m£8.7\n",
      "\u001b[1mPrice Today :\u001b[0m£9.31\n",
      "\n",
      "\u001b[1mInstrument :\u001b[0mDIALIGHT\n",
      "\u001b[1mPrice 3 Days Ago :\u001b[0m£3.92\n",
      "\u001b[1mPrice Today :\u001b[0m£3.55\n",
      "\n",
      "\u001b[1mInstrument :\u001b[0mGENUS\n",
      "\u001b[1mPrice 3 Days Ago :\u001b[0m£22.46\n",
      "\u001b[1mPrice Today :\u001b[0m£20.6\n",
      "\n",
      "\u001b[1mInstrument :\u001b[0mGRESHAM TECH\n",
      "\u001b[1mPrice 3 Days Ago :\u001b[0m£0.94\n",
      "\u001b[1mPrice Today :\u001b[0m£1.0\n",
      "\n",
      "\u001b[1mInstrument :\u001b[0mKCOM GRP\n",
      "\u001b[1mPrice 3 Days Ago :\u001b[0m£0.7\n",
      "\u001b[1mPrice Today :\u001b[0m£0.73\n",
      "\n",
      "\u001b[1mInstrument :\u001b[0mMEGGITT\n",
      "\u001b[1mPrice 3 Days Ago :\u001b[0m£5.04\n",
      "\u001b[1mPrice Today :\u001b[0m£4.8\n",
      "\n",
      "\u001b[1mInstrument :\u001b[0mMICRO FOCUS\n",
      "\u001b[1mPrice 3 Days Ago :\u001b[0m£14.79\n",
      "\u001b[1mPrice Today :\u001b[0m£13.82\n",
      "\n",
      "\u001b[1mInstrument :\u001b[0mMICROGEN\n",
      "\u001b[1mPrice 3 Days Ago :\u001b[0m£3.87\n",
      "\u001b[1mPrice Today :\u001b[0m£3.6\n",
      "\n",
      "\u001b[1mInstrument :\u001b[0mNCC GRP\n",
      "\u001b[1mPrice 3 Days Ago :\u001b[0m£1.81\n",
      "\u001b[1mPrice Today :\u001b[0m£1.81\n",
      "\n",
      "\u001b[1mInstrument :\u001b[0mOXFORD BIOMED.\n",
      "\u001b[1mPrice 3 Days Ago :\u001b[0m£6.84\n",
      "\u001b[1mPrice Today :\u001b[0m£6.29\n",
      "\n",
      "\u001b[1mInstrument :\u001b[0mOXFORD INSTRMNT\n",
      "\u001b[1mPrice 3 Days Ago :\u001b[0m£8.67\n",
      "\u001b[1mPrice Today :\u001b[0m£9.48\n",
      "\n",
      "\u001b[1mInstrument :\u001b[0mPADDY PWR BET\n",
      "\u001b[1mPrice 3 Days Ago :\u001b[0m£61.5\n",
      "\u001b[1mPrice Today :\u001b[0m£62.55\n",
      "\n",
      "\u001b[1mInstrument :\u001b[0mQINETIQ\n",
      "\u001b[1mPrice 3 Days Ago :\u001b[0m£3.01\n",
      "\u001b[1mPrice Today :\u001b[0m£3.29\n",
      "\n",
      "\u001b[1mInstrument :\u001b[0mRENISHAW\n",
      "\u001b[1mPrice 3 Days Ago :\u001b[0m£41.28\n",
      "\u001b[1mPrice Today :\u001b[0m£38.6\n",
      "\n",
      "\u001b[1mInstrument :\u001b[0mRICARDO\n",
      "\u001b[1mPrice 3 Days Ago :\u001b[0m£6.06\n",
      "\u001b[1mPrice Today :\u001b[0m£5.55\n",
      "\n",
      "\u001b[1mInstrument :\u001b[0mSAGE GRP.\n",
      "\u001b[1mPrice 3 Days Ago :\u001b[0m£6.19\n",
      "\u001b[1mPrice Today :\u001b[0m£6.57\n",
      "\n",
      "\u001b[1mInstrument :\u001b[0mSDL\n",
      "\u001b[1mPrice 3 Days Ago :\u001b[0m£5.52\n",
      "\u001b[1mPrice Today :\u001b[0m£5.6\n",
      "\n",
      "\u001b[1mInstrument :\u001b[0mSMITH&NEPHEW\n",
      "\u001b[1mPrice 3 Days Ago :\u001b[0m£14.36\n",
      "\u001b[1mPrice Today :\u001b[0m£14.57\n",
      "\n",
      "\u001b[1mInstrument :\u001b[0mSPECTRIS\n",
      "\u001b[1mPrice 3 Days Ago :\u001b[0m£23.82\n",
      "\u001b[1mPrice Today :\u001b[0m£26.08\n",
      "\n",
      "\u001b[1mInstrument :\u001b[0mSPIRENT\n",
      "\u001b[1mPrice 3 Days Ago :\u001b[0m£1.4\n",
      "\u001b[1mPrice Today :\u001b[0m£1.51\n",
      "\n",
      "\u001b[1mInstrument :\u001b[0mTRIAD GRP.\n",
      "\u001b[1mPrice 3 Days Ago :\u001b[0m£0.34\n",
      "\u001b[1mPrice Today :\u001b[0m£0.35\n",
      "\n",
      "\u001b[1mInstrument :\u001b[0mULTRA ELEC.\n",
      "\u001b[1mPrice 3 Days Ago :\u001b[0m£13.27\n",
      "\u001b[1mPrice Today :\u001b[0m£13.36\n",
      "\n",
      "\u001b[1mInstrument :\u001b[0mVECTURA\n",
      "\u001b[1mPrice 3 Days Ago :\u001b[0m£0.75\n",
      "\u001b[1mPrice Today :\u001b[0m£0.7\n",
      "\n",
      "\u001b[1mInstrument :\u001b[0mXAAR\n",
      "\u001b[1mPrice 3 Days Ago :\u001b[0m£1.55\n",
      "\u001b[1mPrice Today :\u001b[0m£1.68\n",
      "\n",
      "\u001b[1mInstrument :\u001b[0mXP POWER\n",
      "\u001b[1mPrice 3 Days Ago :\u001b[0m£20.8\n",
      "\u001b[1mPrice Today :\u001b[0m£19.51\n",
      "\n"
     ]
    }
   ],
   "source": [
    "# Import our instrument prices from a CSV file\n",
    "instrument_prices = import_data.fetch_instrument_analytics('paper-analytics.csv')\n",
    "# Pretty print our pricing\n",
    "prettyprint.instrument_prices(instrument_prices)"
   ]
  },
  {
   "cell_type": "markdown",
   "metadata": {},
   "source": [
    "Now that we have our pricing information we can store this data inside LUSID in an analytics store. We will create two stores one for the prices from 3 days ago when we originally set-up the portfolios and one for the current prices.\n",
    "\n",
    "You can read more abouy creating and setting analytics stores in the LUSID API documentation: [LUSID API Docs: Creating an Analytics Store](https://docs.lusid.com/#operation/CreateAnalyticStore) & [LUSID API Docs: Setting Analytic Data](https://docs.lusid.com/#operation/SetAnalytics)\n",
    "\n",
    "*Run the cell below to set-up our analytics stores and set our analytic data*"
   ]
  },
  {
   "cell_type": "code",
   "execution_count": 16,
   "metadata": {},
   "outputs": [
    {
     "name": "stdout",
     "output_type": "stream",
     "text": [
      "Analytics Set\n"
     ]
    }
   ],
   "source": [
    "# Set our analytics effective dates\n",
    "analytics_effective_date = datetime.now(pytz.UTC) - timedelta(days=3)\n",
    "today = datetime.now(pytz.UTC)\n",
    "analytics_store_dates = [analytics_effective_date, today]\n",
    "\n",
    "# Create prices via instrument, analytic\n",
    "instrument_analytics_setup = []\n",
    "instrument_analytics_today = []\n",
    "\n",
    "# Create dummy prices of 1 for all instruments except cash\n",
    "for instrument_name, instrument_analytics in instrument_prices.items():\n",
    "    if 'Cash' in instrument_name:\n",
    "        continue\n",
    "        \n",
    "    instrument_analytics_setup.append(models.InstrumentAnalytic(\n",
    "        instrument_uid=instrument_universe[instrument_name]['identifiers']['LUID'],\n",
    "        value=instrument_analytics[0]))\n",
    "    \n",
    "    instrument_analytics_today.append(models.InstrumentAnalytic(\n",
    "        instrument_uid=instrument_universe[instrument_name]['identifiers']['LUID'],\n",
    "        value=instrument_analytics[1]))\n",
    "    \n",
    "instrument_analytics = [instrument_analytics_setup, instrument_analytics_today]\n",
    "    \n",
    "for date, instrument_analytic_set in zip(analytics_store_dates, instrument_analytics):\n",
    "    \n",
    "    # Create analytics store request\n",
    "    analytics_store_request = models.CreateAnalyticStoreRequest(scope=analyst_scope_code,\n",
    "                                                                date_property=date.isoformat())\n",
    "\n",
    "    # Call LUSID to create our analytics store\n",
    "    client.create_analytic_store(request=analytics_store_request)\n",
    "\n",
    "    # Call LUSID to set up our newly created analytics store with our prices\n",
    "    client.set_analytics(scope=analyst_scope_code,\n",
    "                         year=date.year,\n",
    "                         month=date.month,\n",
    "                         day=date.day,\n",
    "                         data=instrument_analytic_set)\n",
    "    \n",
    "print ('Analytics Set')"
   ]
  },
  {
   "cell_type": "markdown",
   "metadata": {},
   "source": [
    "Our LUSID environment now looks like the below. We have a reference portfolio to hold our index which will act as a benchmark, we have a transaction portfolio for our analyst to make paper trades and we have an analytics store to value our portfolios."
   ]
  },
  {
   "cell_type": "markdown",
   "metadata": {},
   "source": [
    "![Scopes](img/paper-analyticsstore.gif)"
   ]
  },
  {
   "cell_type": "markdown",
   "metadata": {},
   "source": [
    "## 8) Value each portfolio using our analytics store"
   ]
  },
  {
   "cell_type": "markdown",
   "metadata": {},
   "source": [
    "We can now value our portfolios to see if the analyst has been making good decisions. Let us start by valuing our transaction portfolio to find out what our absolute return is across our tradeable instrument universe. \n",
    "\n",
    "We do this by making an aggregation request to LUSID. We will aggregate by instrument against the number of units, cost, present value and price. \n",
    "\n",
    "You can read more about aggregation in the LUSID API documentation: [LUSID API Docs: Aggregate Data in a Portfolio](https://docs.lusid.com/#operation/GetAggregationByPortfolio)\n",
    "\n",
    "*Run the cell below to make our aggregation request on our transaction portfolio and see how our analyst is performing*"
   ]
  },
  {
   "cell_type": "code",
   "execution_count": 17,
   "metadata": {},
   "outputs": [
    {
     "name": "stdout",
     "output_type": "stream",
     "text": [
      "\u001b[1mInstrument :\u001b[0mLusidInstrumentId=LUID_VO28IAUC/GBP\n",
      "\u001b[1mUnits :\u001b[0m120000.0\n",
      "\u001b[1mCurrent Price :£\u001b[0m13.36\n",
      "\u001b[1mPresent Value :\u001b[0m£1603546.8\n",
      "\u001b[1mCost :\u001b[0m£1582800.0\n",
      "\u001b[1mReturn :\u001b[0m1.3108%\n",
      "\n",
      "\u001b[1mInstrument :\u001b[0mLusidInstrumentId=LUID_0L5AS1JO/GBP\n",
      "\u001b[1mUnits :\u001b[0m750000.0\n",
      "\u001b[1mCurrent Price :£\u001b[0m0.42\n",
      "\u001b[1mPresent Value :\u001b[0m£318431.25\n",
      "\u001b[1mCost :\u001b[0m£347250.0\n",
      "\u001b[1mReturn :\u001b[0m-8.2991%\n",
      "\n",
      "\u001b[1mInstrument :\u001b[0mLusidInstrumentId=LUID_2ECEHQEH/GBP\n",
      "\u001b[1mUnits :\u001b[0m55000.0\n",
      "\u001b[1mCurrent Price :£\u001b[0m5.6\n",
      "\u001b[1mPresent Value :\u001b[0m£308154.0\n",
      "\u001b[1mCost :\u001b[0m£305250.0\n",
      "\u001b[1mReturn :\u001b[0m0.9514%\n",
      "\n",
      "\u001b[1mInstrument :\u001b[0mLusidInstrumentId=LUID_K499YGKV/GBP\n",
      "\u001b[1mUnits :\u001b[0m-98000.0\n",
      "\u001b[1mCurrent Price :£\u001b[0m6.57\n",
      "\u001b[1mPresent Value :\u001b[0m£-643432.72\n",
      "\u001b[1mCost :\u001b[0m£-577220.0\n",
      "\u001b[1mReturn :\u001b[0m-11.471%\n",
      "\n",
      "\u001b[1mInstrument :\u001b[0mLusidInstrumentId=LUID_VB0W6R8R/GBP\n",
      "\u001b[1mUnits :\u001b[0m-150000.0\n",
      "\u001b[1mCurrent Price :£\u001b[0m11.46\n",
      "\u001b[1mPresent Value :\u001b[0m£-1718946.0\n",
      "\u001b[1mCost :\u001b[0m£-1575000.0\n",
      "\u001b[1mReturn :\u001b[0m-9.1394%\n",
      "\n",
      "\u001b[1mInstrument :\u001b[0mLusidInstrumentId=LUID_C2G6UXB1/GBP\n",
      "\u001b[1mUnits :\u001b[0m265600.0\n",
      "\u001b[1mCurrent Price :£\u001b[0m30.32\n",
      "\u001b[1mPresent Value :\u001b[0m£8052397.06\n",
      "\u001b[1mCost :\u001b[0m£7686464.0\n",
      "\u001b[1mReturn :\u001b[0m4.7607%\n",
      "\n",
      "\u001b[1mInstrument :\u001b[0mLusidInstrumentId=LUID_8W2UDUJ0/GBP\n",
      "\u001b[1mUnits :\u001b[0m1500000.0\n",
      "\u001b[1mCurrent Price :£\u001b[0m3.55\n",
      "\u001b[1mPresent Value :\u001b[0m£5327280.0\n",
      "\u001b[1mCost :\u001b[0m£6270000.0\n",
      "\u001b[1mReturn :\u001b[0m-15.0354%\n",
      "\n",
      "\u001b[1mInstrument :\u001b[0mLusidInstrumentId=LUID_NV3D9039/GBP\n",
      "\u001b[1mUnits :\u001b[0m345000.0\n",
      "\u001b[1mCurrent Price :£\u001b[0m20.6\n",
      "\u001b[1mPresent Value :\u001b[0m£7105557.9\n",
      "\u001b[1mCost :\u001b[0m£7590000.0\n",
      "\u001b[1mReturn :\u001b[0m-6.3826%\n",
      "\n",
      "\u001b[1mInstrument :\u001b[0mLusidInstrumentId=LUID_LU19QSZV/GBP\n",
      "\u001b[1mUnits :\u001b[0m-543000.0\n",
      "\u001b[1mCurrent Price :£\u001b[0m13.82\n",
      "\u001b[1mPresent Value :\u001b[0m£-7503461.79\n",
      "\u001b[1mCost :\u001b[0m£-7384800.0\n",
      "\u001b[1mReturn :\u001b[0m-1.6068%\n",
      "\n",
      "\u001b[1mInstrument :\u001b[0mLusidInstrumentId=LUID_42QU0Z23/GBP\n",
      "\u001b[1mUnits :\u001b[0m234000.0\n",
      "\u001b[1mCurrent Price :£\u001b[0m3.6\n",
      "\u001b[1mPresent Value :\u001b[0m£843094.98\n",
      "\u001b[1mCost :\u001b[0m£917280.0\n",
      "\u001b[1mReturn :\u001b[0m-8.0875%\n",
      "\n",
      "\u001b[1mInstrument :\u001b[0mLusidInstrumentId=LUID_7AJLUKPO/GBP\n",
      "\u001b[1mUnits :\u001b[0m98000.0\n",
      "\u001b[1mCurrent Price :£\u001b[0m19.51\n",
      "\u001b[1mPresent Value :\u001b[0m£1912019.2\n",
      "\u001b[1mCost :\u001b[0m£2156000.0\n",
      "\u001b[1mReturn :\u001b[0m-11.3164%\n",
      "\n",
      "\u001b[1mTOTAL RETURN: \u001b[0m-9.8936%\n"
     ]
    }
   ],
   "source": [
    "# Create our aggregation request\n",
    "aggregation_request = models.AggregationRequest(\n",
    "    recipe_id=models.ResourceId(\n",
    "        scope=analyst_scope_code,\n",
    "        code='default'),\n",
    "        effective_at=today,\n",
    "        metrics=[\n",
    "            models.AggregateSpec(\n",
    "                key='Holding/default/SubHoldingKey',\n",
    "                op='value'),\n",
    "            models.AggregateSpec(\n",
    "                key='Holding/default/Units',\n",
    "                op='sum'),\n",
    "            models.AggregateSpec(\n",
    "                key='Holding/default/Cost',\n",
    "                op='sum'),\n",
    "            models.AggregateSpec(\n",
    "                key='Holding/default/PV',\n",
    "                op='sum'),\n",
    "           models.AggregateSpec(\n",
    "               key='Holding/default/Price',\n",
    "               op='sum') \n",
    "        ])\n",
    "                                                        \n",
    "# Call LUSID to aggregate across all of our portfolios\n",
    "aggregated_portfolio = client.get_aggregation_by_portfolio(scope=analyst_scope_code,\n",
    "                                                                code=transaction_portfolio_code,\n",
    "                                                                request=aggregation_request)\n",
    "\n",
    "prettyprint.aggregation_response_paper(aggregated_portfolio)"
   ]
  },
  {
   "cell_type": "markdown",
   "metadata": {},
   "source": [
    "## 9) Compare performance across the analyst's reference and transaction portfolios"
   ]
  },
  {
   "cell_type": "markdown",
   "metadata": {},
   "source": [
    "Now that we have got our analyst's absolute return we want to see how this compares to their benchmark. In LUSID we can't value our reference portfolio directly as all it contains is weights. What we can is decide on an arbitary index level (in this case we will start with 1000), create a new transaction portfolio to hold our index and then populate it based on the weights from our reference portfolio.\n",
    "\n",
    "First things first, let us give our index portfolio a code.\n",
    "\n",
    "*Run the cell below to create a unique code for our index portfolio*"
   ]
  },
  {
   "cell_type": "code",
   "execution_count": 18,
   "metadata": {},
   "outputs": [
    {
     "name": "stdout",
     "output_type": "stream",
     "text": [
      "\u001b[1mIndex Portfolio Code: \u001b[0mLSE_FTSE_techMarkFocus_index\n"
     ]
    }
   ],
   "source": [
    "index_portfolio_code = 'LSE_FTSE_techMarkFocus_index'\n",
    "prettyprint.heading('Index Portfolio Code', index_portfolio_code)"
   ]
  },
  {
   "cell_type": "markdown",
   "metadata": {},
   "source": [
    "Now we can create our index portfolio\n",
    "\n",
    "*Run the cell below to create our index portfolio*"
   ]
  },
  {
   "cell_type": "code",
   "execution_count": 19,
   "metadata": {},
   "outputs": [
    {
     "name": "stdout",
     "output_type": "stream",
     "text": [
      "\u001b[1mPortfolio Created\u001b[0m\n",
      "\u001b[1mScope: \u001b[0manalyst-paper-ec4a\n",
      "\u001b[1mCode: \u001b[0mLSE_FTSE_techMarkFocus_index\n",
      "\u001b[1mPortfolio Effective From: \u001b[0m2019-01-25 16:44:14.329771+00:00\n",
      "\u001b[1mPortfolio Created On: \u001b[0m2019-01-28 16:44:22.257219+00:00\n",
      "\n"
     ]
    }
   ],
   "source": [
    "# Create the request to add our portfolio\n",
    "transaction_portfolio_request = models.CreateTransactionPortfolioRequest(\n",
    "    display_name=index_portfolio_code,\n",
    "    code=index_portfolio_code,\n",
    "    base_currency='GBP',\n",
    "    description='Index transaction portfolio',\n",
    "    created=portfolio_creation_date)\n",
    "\n",
    "# Create our portfolio\n",
    "portfolio_response = client.create_portfolio(\n",
    "    scope=analyst_scope_code,\n",
    "    create_request=transaction_portfolio_request)\n",
    "\n",
    "prettyprint.portfolio_response(portfolio_response)"
   ]
  },
  {
   "cell_type": "markdown",
   "metadata": {},
   "source": [
    "We now have an index portfolio that we can use to hold our index and obtain our benchmark."
   ]
  },
  {
   "cell_type": "markdown",
   "metadata": {},
   "source": [
    "![Scopes](img/paper-indexportfolio.gif)"
   ]
  },
  {
   "cell_type": "code",
   "execution_count": 20,
   "metadata": {},
   "outputs": [],
   "source": [
    "# Set an arbitary index level to start our index with\n",
    "index_level = 1000\n",
    "# Call LUSID - get the constituents of our index from our reference portfolio\n",
    "constituents = client.get_reference_portfolio_constituents(\n",
    "    scope=analyst_scope_code,\n",
    "    code=reference_portfolio_code,\n",
    "    effective_at=datetime.now(pytz.UTC))\n",
    "# Initialise our list to hold the adjustments we need to make to our index to set it up\n",
    "index_setup = []\n",
    "# Get our weights from the constituents into a better format to work with\n",
    "weights = {constituent.instrument_uid:constituent.weight for constituent in constituents.constituents}\n",
    "# Iterate over our pricing analytics\n",
    "for instrument_name, instrument_analytics in instrument_prices.items():\n",
    "    # Get our Lusid Unique Identifier\n",
    "    Luid = instrument_universe[instrument_name]['identifiers']['LUID']\n",
    "    # Get the initial price for each constituent of the index from our analytics store\n",
    "    index_price = instrument_analytics[0]\n",
    "    # Work out how much of the index this constituent should make up using its w\n",
    "    index_cost = weights[Luid] * index_level\n",
    "    # Work out how many units we should therefore buy\n",
    "    index_units = index_cost / index_price\n",
    "    # Create our request for this instrument \n",
    "    index_setup.append(\n",
    "        models.AdjustHoldingRequest(\n",
    "            instrument_uid=Luid,\n",
    "            tax_lots=[\n",
    "                models.TargetTaxLotRequest(\n",
    "                units=index_units,\n",
    "                cost=models.CurrencyAndAmount(\n",
    "                    amount=index_cost,\n",
    "                    currency='GBP'),\n",
    "                portfolio_cost=index_cost,\n",
    "                price=index_price)\n",
    "            ]\n",
    "        )\n",
    "    )\n",
    "# Call LUSID to set all of our holdings to the initial index level\n",
    "adjust_holdings_response = client.set_holdings(\n",
    "                              scope=analyst_scope_code,\n",
    "                              code=index_portfolio_code,\n",
    "                              effective_at=portfolio_creation_date,\n",
    "                              holding_adjustments=index_setup)"
   ]
  },
  {
   "cell_type": "markdown",
   "metadata": {},
   "source": [
    "We now have an index portfolio that we can value."
   ]
  },
  {
   "cell_type": "markdown",
   "metadata": {},
   "source": [
    "![Scopes](img/paper-indexportfoliofilled.gif)"
   ]
  },
  {
   "cell_type": "code",
   "execution_count": 21,
   "metadata": {},
   "outputs": [
    {
     "name": "stdout",
     "output_type": "stream",
     "text": [
      "\u001b[1mInitial Index Level :\u001b[0m1000.0\n",
      "\u001b[1mCurrent Index Level :\u001b[0m995.97\n",
      "\u001b[1mReturn :\u001b[0m-0.4033%\n"
     ]
    }
   ],
   "source": [
    "# Create our aggregation request\n",
    "aggregation_request = models.AggregationRequest(\n",
    "    recipe_id=models.ResourceId(\n",
    "        scope=analyst_scope_code,\n",
    "        code='default'),\n",
    "        effective_at=today,\n",
    "        metrics=[\n",
    "            models.AggregateSpec(\n",
    "                key='Holding/default/PV',\n",
    "                op='sum'),\n",
    "            models.AggregateSpec(\n",
    "                key='Holding/default/Cost',\n",
    "                op='sum')\n",
    "        ],\n",
    "group_by=['Portfolio/default/Name'])\n",
    "                                                        \n",
    "# Call LUSID to aggregate across all of our portfolios\n",
    "aggregated_portfolio = client.get_aggregation_by_portfolio(\n",
    "    scope=analyst_scope_code,\n",
    "    code=index_portfolio_code,\n",
    "    request=aggregation_request\n",
    ")\n",
    "\n",
    "# Pretty print the response from LUSID\n",
    "prettyprint.aggregation_response_index(aggregated_portfolio)"
   ]
  }
 ],
 "metadata": {
  "kernelspec": {
   "display_name": "Python 3",
   "language": "python",
   "name": "python3"
  },
  "language_info": {
   "codemirror_mode": {
    "name": "ipython",
    "version": 3
   },
   "file_extension": ".py",
   "mimetype": "text/x-python",
   "name": "python",
   "nbconvert_exporter": "python",
   "pygments_lexer": "ipython3",
   "version": "3.6.6"
  }
 },
 "nbformat": 4,
 "nbformat_minor": 2
}
