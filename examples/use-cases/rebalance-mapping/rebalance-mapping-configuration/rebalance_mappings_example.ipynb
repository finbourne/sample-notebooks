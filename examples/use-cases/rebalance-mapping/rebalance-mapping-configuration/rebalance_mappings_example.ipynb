{
 "cells": [
  {
   "cell_type": "markdown",
   "metadata": {},
   "source": [
    "# Rebalance mappings\n",
    "\n",
    "This notebook is a complete setup of a transaction portfolio and reference portfolio\n",
    "which are configured to allow for the transaction portfolio to rebalance upon a \n",
    "change of weights in the reference portfolio.\n",
    "\n",
    "NOTE: This is an Alpha release of the rebalance mapping functionality \n",
    "as it currently sits outside of our core API, and the underlying endpoints \n",
    "will be prone to changes. Please do not use this for critical infrastructure.\n",
    "\n"
   ]
  },
  {
   "cell_type": "markdown",
   "metadata": {},
   "source": [
    "# 1. Setup\n",
    "---\n",
    "\n",
    "This notebook begins be setting up the requirements to run LUSID.\n",
    "\n",
    "## 1.1 Imports and LUSID Dependencies"
   ]
  },
  {
   "cell_type": "code",
   "execution_count": null,
   "metadata": {},
   "outputs": [],
   "source": [
    "import os\n",
    "from pprint import pprint\n",
    "from rebalance_mappings_module import RebalanceMappingsApi, RebalanceMappingsConfiguration, RebalanceTargetWeight\n",
    "from lusidjam.refreshing_token import RefreshingToken\n",
    "from lusidtools.cocoon.cocoon import load_from_data_frame\n",
    "import lusid.models as models\n",
    "import lusid\n",
    "import os\n",
    "import json\n",
    "import pandas as pd\n",
    "# Authenticate our user and create our API client\n",
    "secrets_path = os.getenv(\"FBN_SECRETS_PATH\")\n",
    "\n",
    "# Initiate an API Factory which is the client side object for interacting with LUSID APIs\n",
    "api_factory = lusid.utilities.ApiClientFactory(\n",
    "    token=RefreshingToken(),\n",
    "    api_secrets_filename=secrets_path,\n",
    "    app_name=\"LusidJupyterNotebook\",\n",
    ")\n",
    "\n",
    "api_status = pd.DataFrame(\n",
    "    api_factory.build(lusid.ApplicationMetadataApi).get_lusid_versions().to_dict()\n",
    ")\n",
    "\n",
    "display(api_status)  # Authenticate our user and create our API client"
   ]
  },
  {
   "cell_type": "markdown",
   "metadata": {},
   "source": [
    "## 1.2 Define Global Variables\n",
    "\n",
    "### 1.2.1 Specify Notebook Scope and Start Date\n",
    "\n",
    "The `scope` and  `start_date` will be used gloabally accross the Notebook."
   ]
  },
  {
   "cell_type": "code",
   "execution_count": null,
   "metadata": {},
   "outputs": [],
   "source": [
    "# Define a scope to hold data\n",
    "example_scope = \"example-ukIBOR\"\n",
    "start_date = \"2010-01-01\""
   ]
  },
  {
   "cell_type": "markdown",
   "metadata": {},
   "source": [
    "### 1.2.2 Define LUSID API's"
   ]
  },
  {
   "cell_type": "code",
   "execution_count": null,
   "metadata": {},
   "outputs": [],
   "source": [
    "configuration_recipe_api = api_factory.build(lusid.ConfigurationRecipeApi)\n",
    "reference_portfolios_api = api_factory.build(lusid.ReferencePortfolioApi)\n",
    "instruments_api = api_factory.build(lusid.InstrumentsApi)\n",
    "portfolios_api = api_factory.build(lusid.PortfoliosApi)"
   ]
  },
  {
   "cell_type": "markdown",
   "metadata": {},
   "source": [
    "# 2. Load Instrument Master\n",
    "---\n",
    "\n",
    "Our instrument master data will be loaded from `\"data/benchmark/uk-stocks.csv\"` which contains UK equities.\n",
    "\n",
    "## 2.1 Load the Instruments\n",
    "\n",
    "We begin by loading our instruments and mapping the accompanying identifiers and required fields to LUSID.\n",
    "\n",
    "Our portfolio consists of a collection of various UK equities, weighted according to their proportion of the underlying portfolio. Each entry contains a `\"Name\"` attribute and a corresponding `\"Sector\"` property. We also have three identifiers for each equity, a `\"Ticker\"`, `\"ISIN\"` and `\"SEDOL\"`. Each of this fields can be mapped to a properties in LUSID. We be able to access each equity by it's `\"Ticker\"` value, which we will map to `\"ClientInternal\"` in LUSID.\n",
    "\n",
    "### 2.1.1 Read Equity CSV File"
   ]
  },
  {
   "cell_type": "code",
   "execution_count": null,
   "metadata": {},
   "outputs": [],
   "source": [
    "instrument_master = pd.read_csv(\"data/benchmark/uk-stocks.csv\")\n",
    "instrument_master.head(3)"
   ]
  },
  {
   "cell_type": "markdown",
   "metadata": {},
   "source": [
    "### 2.1.2 Load Equity Data to LUSID"
   ]
  },
  {
   "cell_type": "code",
   "execution_count": null,
   "metadata": {},
   "outputs": [],
   "source": [
    "instrument_identifier_mapping = {\n",
    "    \"Figi\": \"Figi\",\n",
    "    \"Ticker\": \"Ticker\",\n",
    "    \"Isin\": \"ISIN\",\n",
    "    \"Sedol\": \"SEDOL\",\n",
    "}\n",
    "\n",
    "instrument_mapping_required = {\"name\": \"Name\"}\n",
    "\n",
    "instrument_mapping_optional = {}\n",
    "\n",
    "instrument_mapping_response = load_from_data_frame(\n",
    "    api_factory=api_factory,\n",
    "    scope=example_scope,\n",
    "    data_frame=instrument_master,\n",
    "    mapping_required=instrument_mapping_required,\n",
    "    mapping_optional=instrument_mapping_optional,\n",
    "    file_type=\"instrument\",\n",
    "    identifier_mapping=instrument_identifier_mapping,\n",
    "    property_columns=[\"Sector\"],\n",
    ")"
   ]
  },
  {
   "cell_type": "markdown",
   "metadata": {},
   "source": [
    "## 3.1 Load CSV files of transaction and constituent data"
   ]
  },
  {
   "cell_type": "code",
   "execution_count": null,
   "metadata": {},
   "outputs": [],
   "source": [
    "# Load csv file of transactions\n",
    "transaction_portfolio_data_csv = r\"data/rebalancer/transaction_portfolio_cash.csv\"\n",
    "transaction_portfolio_df = pd.read_csv(transaction_portfolio_data_csv)"
   ]
  },
  {
   "cell_type": "code",
   "execution_count": null,
   "metadata": {},
   "outputs": [],
   "source": [
    "# Load CSV file of constituents\n",
    "constituent_file_csv = r\"data/rebalancer/equity_constituents.csv\"\n",
    "constituent_df = pd.read_csv(constituent_file_csv)"
   ]
  },
  {
   "cell_type": "markdown",
   "metadata": {},
   "source": [
    "## 3.2 Create transaction portfolio"
   ]
  },
  {
   "cell_type": "code",
   "execution_count": null,
   "metadata": {},
   "outputs": [],
   "source": [
    "#Define mapping for transaction portfolio creationb\n",
    "\n",
    "transaction_portfolio_mapping_required = {\n",
    "    \"display_name\": \"fund_code\",\n",
    "    \"code\": \"fund_code\",\n",
    "    \"base_currency\": \"currency\",\n",
    "}\n",
    "\n",
    "transaction_portfolio_mapping_optional = {\"created\": \"$2000-01-01\"}\n",
    "\n",
    "# Use the load_from_data_frame method from LUSID's Python cocoon package to upload the portfolio\n",
    "\n",
    "transaction_portfolio_response = load_from_data_frame(\n",
    "    api_factory=api_factory,\n",
    "    scope=example_scope,\n",
    "    data_frame=transaction_portfolio_df,\n",
    "    property_columns=[],\n",
    "    mapping_required=transaction_portfolio_mapping_required,\n",
    "    mapping_optional=transaction_portfolio_mapping_optional,\n",
    "    file_type=\"portfolios\",\n",
    ")"
   ]
  },
  {
   "cell_type": "markdown",
   "metadata": {},
   "source": [
    "### 3.2.1 Upload Cash"
   ]
  },
  {
   "cell_type": "code",
   "execution_count": null,
   "metadata": {},
   "outputs": [],
   "source": [
    "mapping = {\n",
    "    \"transactions\": {\n",
    "        \"identifier_mapping\": {\"Currency\": \"currency\"},\n",
    "        \"required\": {\n",
    "            \"code\": \"fund_code\",\n",
    "            \"transaction_id\": \"txn_id\",\n",
    "            \"type\": \"txn_type\",\n",
    "            \"transaction_price.price\": \"txn_price\",\n",
    "            \"transaction_price.type\": \"$Price\",\n",
    "            \"total_consideration.amount\": \"txn_consideration\",\n",
    "            \"units\": \"txn_units\",\n",
    "            \"transaction_date\": \"txn_settle_date\",\n",
    "            \"total_consideration.currency\": \"currency\",\n",
    "            \"settlement_date\": \"txn_settle_date\",\n",
    "        },\n",
    "    }\n",
    "}\n",
    "\n",
    "upload_cash_result = load_from_data_frame(\n",
    "    api_factory=api_factory,\n",
    "    scope=example_scope,\n",
    "    data_frame=transaction_portfolio_df,\n",
    "    mapping_required=mapping[\"transactions\"][\"required\"],\n",
    "    mapping_optional={},\n",
    "    file_type=\"transactions\",\n",
    "    identifier_mapping=mapping[\"transactions\"][\"identifier_mapping\"],\n",
    "    property_columns=[],\n",
    "    properties_scope=example_scope,\n",
    ")"
   ]
  },
  {
   "cell_type": "markdown",
   "metadata": {},
   "source": [
    "## 3.3 Create reference portfolio"
   ]
  },
  {
   "cell_type": "code",
   "execution_count": null,
   "metadata": {},
   "outputs": [],
   "source": [
    "reference_portfolio_name = 'exampleReferencePortfolio'\n",
    "start_date = '2010-01-01'\n",
    "\n",
    "try:\n",
    "\n",
    "    response = reference_portfolios_api.create_reference_portfolio(\n",
    "        scope=example_scope,\n",
    "        create_reference_portfolio_request=models.CreateReferencePortfolioRequest(\n",
    "            display_name=reference_portfolio_name,\n",
    "            code=reference_portfolio_name,\n",
    "            created=start_date,\n",
    "            instrument_scopes=[example_scope],\n",
    "            base_currency='GBP'  # I need to do this programatically\n",
    "        ),\n",
    "    )\n",
    "\n",
    "except lusid.ApiException as e:\n",
    "    print(json.loads(e.body)[\"title\"])"
   ]
  },
  {
   "cell_type": "markdown",
   "metadata": {},
   "source": [
    "## 4.1 Securitise the reference portfolios\n",
    "\n",
    "We now securitise the reference portfolio. The reference portfolio can be configured to automatically float the weights of the underlying assets (the securitised reference portfolio constituents) so that they move in line with the movements of the index.\n",
    "\n",
    "For additional information on the Securitisation of Reference Portfolios, please see the following [KB article](https://support.lusid.com/knowledgebase/article/KA-01852/en-us)"
   ]
  },
  {
   "cell_type": "code",
   "execution_count": null,
   "metadata": {},
   "outputs": [],
   "source": [
    "response = instruments_api.upsert_instruments(\n",
    "    scope=example_scope,\n",
    "    request_body={\n",
    "        f\"upsert_instrument_{reference_portfolio_name}\": models.InstrumentDefinition(\n",
    "            name=reference_portfolio_name,\n",
    "            identifiers={\n",
    "                \"ClientInternal\": models.InstrumentIdValue(value=f\"inst_{reference_portfolio_name}\"),\n",
    "            },\n",
    "            look_through_portfolio_id=models.ResourceId(\n",
    "                scope=example_scope,\n",
    "                code=reference_portfolio_name,\n",
    "            ),\n",
    "        )\n",
    "    }\n",
    ")"
   ]
  },
  {
   "cell_type": "markdown",
   "metadata": {},
   "source": [
    "## 4.2 Load constituents for FI and EQ reference portfolios\n",
    "\n",
    "We now create Index constituents for the time period in consideration the reference portfolio\n",
    "\n",
    "These constituents should not overlap (i.e. be on the same instrument) with any existing constituents."
   ]
  },
  {
   "cell_type": "code",
   "execution_count": null,
   "metadata": {},
   "outputs": [],
   "source": [
    "reference_porfolio_currency = \"GBP\"\n",
    "\n",
    "constituents = [\n",
    "    models.ReferencePortfolioConstituentRequest(\n",
    "        instrument_identifiers={\n",
    "            \"Instrument/default/Figi\": row[\"Figi\"]\n",
    "        },\n",
    "        weight=row[\"Weighting\"],\n",
    "        currency=reference_porfolio_currency,\n",
    "    ) for _, row in instrument_master.iterrows()\n",
    "]\n",
    "\n",
    "# Create our request to add our constituents\n",
    "constituents_request = models.UpsertReferencePortfolioConstituentsRequest(\n",
    "    effective_from=start_date,\n",
    "    weight_type=\"Periodical\",\n",
    "    period_type=\"Quarterly\",\n",
    "    period_count=1,\n",
    "    constituents=constituents,\n",
    ")\n",
    "\n",
    "# Call LUSID to upsert our constituents into our reference portfolio\n",
    "response = reference_portfolios_api.upsert_reference_portfolio_constituents(\n",
    "    scope=example_scope,\n",
    "    code=reference_portfolio_name,\n",
    "    upsert_reference_portfolio_constituents_request=constituents_request,\n",
    ")\n",
    "\n",
    "print(f\"Constituents Upserted for {reference_portfolio_name}\")"
   ]
  },
  {
   "cell_type": "markdown",
   "metadata": {},
   "source": [
    "## 5. Rebalance Mapping\n",
    "In order to define a rebalance mapping, we need to: \n",
    "1. create a recipe to perform valuations\n",
    "2. setup a property definition for rebalancing\n",
    "3. use these alongside the reference portfolio and transaction portfolio created in previous steps to create a rebalance mapping\n",
    "\n",
    "\n"
   ]
  },
  {
   "cell_type": "markdown",
   "metadata": {},
   "source": [
    "### 5.1 Create a recipe to perform a valuation"
   ]
  },
  {
   "cell_type": "code",
   "execution_count": null,
   "metadata": {},
   "outputs": [],
   "source": [
    "recipe_scope = \"example_valuations\"\n",
    "recipe_code = \"example_market_value\"\n",
    "\n",
    "configuration_recipe = models.ConfigurationRecipe(\n",
    "    scope=recipe_scope,\n",
    "    code=recipe_code,\n",
    "    market=models.MarketContext(\n",
    "        market_rules=[\n",
    "            models.MarketDataKeyRule(\n",
    "                key=\"Quote.LusidInstrumentId.*\",\n",
    "                supplier=\"DataScope\",\n",
    "                data_scope=example_scope,\n",
    "                quote_type=\"Price\",\n",
    "                field=\"Mid\",\n",
    "            )\n",
    "        ],\n",
    "        suppliers=models.MarketContextSuppliers(\n",
    "            commodity=\"DataScope\",\n",
    "            credit=\"DataScope\",\n",
    "            equity=\"DataScope\",\n",
    "            fx=\"DataScope\",\n",
    "            rates=\"DataScope\",\n",
    "        ),\n",
    "        options=models.MarketOptions(\n",
    "            default_supplier=\"DataScope\",\n",
    "            default_instrument_code_type=\"LusidInstrumentId\",\n",
    "            default_scope=example_scope,\n",
    "        ),\n",
    "    ),\n",
    ")\n",
    "\n",
    "upsert_configuration_recipe_response = (\n",
    "    configuration_recipe_api.upsert_configuration_recipe(\n",
    "        upsert_recipe_request=models.UpsertRecipeRequest(\n",
    "            configuration_recipe=configuration_recipe\n",
    "        )\n",
    "    )\n",
    ")"
   ]
  },
  {
   "cell_type": "markdown",
   "metadata": {},
   "source": [
    "### 5.2 Setup the property definition"
   ]
  },
  {
   "cell_type": "code",
   "execution_count": null,
   "metadata": {},
   "outputs": [],
   "source": [
    "property_scope = 'example_properties'\n",
    "property_code = \"rebalance_property\"\n",
    "\n",
    "property_definitions_api = api_factory.build(lusid.api.PropertyDefinitionsApi)\n",
    "\n",
    "\n",
    "def create_property(property_scope, property_code):\n",
    "    # Create the property definition request\n",
    "    property_definition = models.CreatePropertyDefinitionRequest(\n",
    "        domain=\"Portfolio\",\n",
    "        scope=property_scope,\n",
    "        code=property_code,\n",
    "        display_name=f\"exampleproperty-{property_code}\",\n",
    "        # Set the constraint style to 'Collection'\n",
    "        constraint_style=\"Collection\",\n",
    "        data_type_id=lusid.ResourceId(scope=\"system\", code=\"string\"),\n",
    "    )\n",
    "\n",
    "    # create property definition\n",
    "    try:\n",
    "        property_definitions_api.create_property_definition(\n",
    "            create_property_definition_request=property_definition\n",
    "        )\n",
    "    except lusid.ApiException as e:\n",
    "        if json.loads(e.body)[\"name\"] == \"PropertyAlreadyExists\":\n",
    "            print(\n",
    "                f\"Property {property_definition.domain}/{property_definition.scope}/{property_definition.code} already exists\"\n",
    "            )\n",
    "    return property_definition\n",
    "\n",
    "\n",
    "property_definition = create_property(property_scope, property_code)"
   ]
  },
  {
   "cell_type": "markdown",
   "metadata": {},
   "source": [
    "### 5.3 Setup the rebalance mapping\n",
    "\n",
    "NOTE: This is an Alpha release of the rebalance mapping functionality as it currently sits outside of our core API, and the underlying endpoints will be prone to changes. Please do not use this for critical infrastructure."
   ]
  },
  {
   "cell_type": "code",
   "execution_count": null,
   "metadata": {},
   "outputs": [],
   "source": [
    "rebalance_mappings_api = RebalanceMappingsApi(api_factory)\n",
    "\n",
    "config = RebalanceMappingsConfiguration(\n",
    "    name=\"ExamplePortfolioMapping\",\n",
    "    recipe_scope=recipe_scope,\n",
    "    recipe_code=recipe_code,\n",
    "    rebalance_configuration_scope=\"rebalance\",\n",
    "    rebalance_configuration_code=\"default\",\n",
    "    benchmark_scope=example_scope,\n",
    "    benchmark_code=reference_portfolio_name,\n",
    "    link_type=\"InstrumentProperty\"\n",
    ")\n",
    "\n",
    "weight = RebalanceTargetWeight(\n",
    "    reference_portfolio_scope=example_scope,\n",
    "    reference_portfolio_code=reference_portfolio_name,\n",
    "    weight=100,\n",
    "    link=\"Instrument/default/LusidInstrumentId\",\n",
    "    link_value=reference_portfolio_name\n",
    ")\n",
    "\n",
    "result = rebalance_mappings_api.upsert_rebalance_mappings(\n",
    "    example_scope, reference_portfolio_name,\n",
    "    rebalance_mappings_configuration=config,\n",
    "    rebalance_target_weights=[weight]\n",
    ")\n",
    "\n",
    "pprint(result)"
   ]
  }
 ],
 "metadata": {
  "kernelspec": {
   "display_name": "venv",
   "language": "python",
   "name": "python3"
  },
  "language_info": {
   "codemirror_mode": {
    "name": "ipython",
    "version": 3
   },
   "file_extension": ".py",
   "mimetype": "text/x-python",
   "name": "python",
   "nbconvert_exporter": "python",
   "pygments_lexer": "ipython3",
   "version": "3.11.7"
  }
 },
 "nbformat": 4,
 "nbformat_minor": 2
}
