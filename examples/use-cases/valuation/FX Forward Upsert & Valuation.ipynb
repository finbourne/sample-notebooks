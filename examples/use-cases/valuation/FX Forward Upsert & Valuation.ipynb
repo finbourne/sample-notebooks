{
 "cells": [
  {
   "cell_type": "markdown",
   "id": "cultural-kennedy",
   "metadata": {},
   "source": [
    "## Fx Forward Upsert and Valuation example notebook"
   ]
  },
  {
   "cell_type": "markdown",
   "id": "independent-afghanistan",
   "metadata": {},
   "source": [
    "This notebook displays the upsert and valuation functionality in Lusid in the context of FX fowards."
   ]
  },
  {
   "cell_type": "code",
   "execution_count": 2,
   "id": "worthy-collaboration",
   "metadata": {},
   "outputs": [
    {
     "data": {
      "text/html": [
       "\n",
       "    <form action=\"javascript:code_toggle()\"><input type=\"submit\" id=\"toggleButton\" value=\"Toggle Docstring\"></form>\n",
       "    \n",
       "         <script>\n",
       "         function code_toggle() {\n",
       "             if ($('div.cell.code_cell.rendered.selected div.input').css('display')!='none'){\n",
       "                 $('div.cell.code_cell.rendered.selected div.input').hide();\n",
       "             } else {\n",
       "                 $('div.cell.code_cell.rendered.selected div.input').show();\n",
       "             }\n",
       "         }\n",
       "         </script>\n",
       "\n",
       "     "
      ],
      "text/plain": [
       "<IPython.core.display.HTML object>"
      ]
     },
     "metadata": {},
     "output_type": "display_data"
    }
   ],
   "source": [
    "from lusidtools.jupyter_tools import toggle_code\n",
    "\n",
    "\"\"\"Fx Forward upsert and valuation in Lusid\n",
    "\n",
    "Attributes\n",
    "----------\n",
    "Transaction Portfolios\n",
    "Quotes\n",
    "Holdings\n",
    "Transactions\n",
    "Valuation\n",
    "\"\"\"\n",
    "\n",
    "toggle_code(\"Toggle Docstring\")\n"
   ]
  },
  {
   "cell_type": "code",
   "execution_count": 10,
   "id": "skilled-dressing",
   "metadata": {},
   "outputs": [],
   "source": [
    "import os\n",
    "import lusid\n",
    "import lusid.models as lm\n",
    "from lusid.utilities import ApiClientFactory\n",
    "from lusid import api\n",
    "from lusidjam import RefreshingToken\n",
    "import pandas as pd\n",
    "import datetime\n",
    "from datetime import date\n",
    "from lusidtools.pandas_utils.lusid_pandas import lusid_response_to_data_frame\n",
    "import uuid\n",
    "import json\n",
    "from lusid import ApiException"
   ]
  },
  {
   "cell_type": "code",
   "execution_count": 4,
   "id": "flush-affairs",
   "metadata": {},
   "outputs": [],
   "source": [
    "# Authenticate our user and create our API client\n",
    "secrets_path = os.getenv(\"FBN_SECRETS_PATH\")\n",
    "\n",
    "api_factory = lusid.utilities.ApiClientFactory(\n",
    "    token=RefreshingToken(),\n",
    "    api_secrets_filename=secrets_path,\n",
    "    app_name=\"LusidJupyterNotebook\",)\n",
    "\n",
    "transactions_api= api_factory.build(lusid.TransactionPortfoliosApi)\n",
    "quotes_api = api_factory.build(lusid.QuotesApi)\n",
    "instruments_api = api_factory.build(lusid.InstrumentsApi)\n",
    "configuration_recipe_api = api_factory.build(lusid.ConfigurationRecipeApi)\n",
    "\n",
    "\n",
    "scope='Fwd_Example'"
   ]
  },
  {
   "cell_type": "markdown",
   "id": "indoor-parks",
   "metadata": {},
   "source": [
    "# 1.Create a portfolio"
   ]
  },
  {
   "cell_type": "markdown",
   "id": "stupid-automation",
   "metadata": {},
   "source": [
    "Create a portfolio in Lusid to hold the Fx Forwards. To do this, we use the <a id='https://www.lusid.com/docs/api#tag/Transaction-Portfolios'>Transaction Portfolios API</a>."
   ]
  },
  {
   "cell_type": "code",
   "execution_count": 13,
   "id": "overhead-remainder",
   "metadata": {},
   "outputs": [],
   "source": [
    "def create_portfolio(scope='',display_name='',base_currency='GBP'):\n",
    "    Port_code='Fx_Port'\n",
    "    request= lm.CreateTransactionPortfolioRequest(\n",
    "        display_name=display_name,\n",
    "        code=Port_code,\n",
    "        base_currency=base_currency,\n",
    "        created=str(date(2020,1,1)))\n",
    "    try:\n",
    "        result = transactions_api.create_portfolio(\n",
    "            scope=scope,\n",
    "            create_transaction_portfolio_request=request)\n",
    "        return result\n",
    "    except ApiException as e:\n",
    "        display(json.loads(e.body)[\"title\"])"
   ]
  },
  {
   "cell_type": "code",
   "execution_count": 14,
   "id": "literary-filling",
   "metadata": {},
   "outputs": [
    {
     "data": {
      "text/plain": [
       "'Could not create a portfolio with id Fx_Port because it already exists in scope FX_FW_Transact.'"
      ]
     },
     "metadata": {},
     "output_type": "display_data"
    },
    {
     "data": {
      "text/plain": [
       "'Fx_Port'"
      ]
     },
     "metadata": {},
     "output_type": "display_data"
    }
   ],
   "source": [
    "Port1_details= create_portfolio(scope='FX_FW_Transact',display_name='Swap_Transaction',base_currency='GBP')\n",
    "Port1_Code= 'Fx_Port'\n",
    "display(Port1_Code)"
   ]
  },
  {
   "cell_type": "markdown",
   "id": "excited-dimension",
   "metadata": {},
   "source": [
    "## 2. Fund Portfolio with cash"
   ]
  },
  {
   "cell_type": "markdown",
   "id": "sixth-school",
   "metadata": {},
   "source": [
    "Fund portfolio with initial an cash balance. This is done by upserting a 'FundsIn' transaction of 10000 units of GBP"
   ]
  },
  {
   "cell_type": "code",
   "execution_count": 11,
   "id": "distinct-tender",
   "metadata": {},
   "outputs": [],
   "source": [
    "def fund_portfolio(port_code):\n",
    "    request=lm.TransactionRequest(\n",
    "    transaction_id='Intial_funding',\n",
    "    type='FundsIn',\n",
    "    instrument_identifiers= {\"Instrument/default/Currency\":'GBP'},\n",
    "    transaction_date= str(date(2020,1,1)),\n",
    "    settlement_date= str(date(2020,1,1)),\n",
    "    units=10000,\n",
    "    total_consideration= lm.CurrencyAndAmount(10000,'GBP')\n",
    "    )\n",
    "    response = transactions_api.upsert_transactions('FX_FW_Transact',\n",
    "                                                   Port1_Code,\n",
    "                                                   transaction_request=[request])\n",
    "    response= response.to_dict()\n",
    "    \n",
    "    return {'response link':response['links'][2]['href']}\n",
    "       "
   ]
  },
  {
   "cell_type": "code",
   "execution_count": 12,
   "id": "involved-thinking",
   "metadata": {},
   "outputs": [
    {
     "data": {
      "text/plain": [
       "{'response link': 'http://omar.lusid.com/app/insights/logs/0HM7R8JIF192E:00000004'}"
      ]
     },
     "execution_count": 12,
     "metadata": {},
     "output_type": "execute_result"
    }
   ],
   "source": [
    "fund_portfolio(Port1_Code)"
   ]
  },
  {
   "cell_type": "markdown",
   "id": "intense-collection",
   "metadata": {},
   "source": [
    "## 3. Upsert FX Forward position as Transaction"
   ]
  },
  {
   "cell_type": "markdown",
   "id": "reverse-stack",
   "metadata": {},
   "source": [
    "Function to upsert an fx forward position as a transaction to the portfolio created above. This will create\n",
    "seperate cash balances with holding type F which will be booked at maturity."
   ]
  },
  {
   "cell_type": "code",
   "execution_count": 15,
   "id": "married-subscription",
   "metadata": {},
   "outputs": [],
   "source": [
    "def upsert_fx(filename):\n",
    "    swap_df=pd.read_csv(filename)\n",
    "    T_id= 'Transaction_1'\n",
    "    request= lm.TransactionRequest(\n",
    "    transaction_id=T_id,\n",
    "    type=\"FwdFxBuy\",\n",
    "    instrument_identifiers={\"Instrument/default/Currency\": swap_df['Ccy'].item()},\n",
    "    transaction_date=str(date(2021,4,1)) ,\n",
    "    settlement_date=str(date(2021,5,1)),\n",
    "    units=swap_df['CcyAmount'].item(),\n",
    "    transaction_price=lm.TransactionPrice(1,'Price'),\n",
    "    total_consideration=lm.CurrencyAndAmount(swap_df['Ccy2Amount'].item(),swap_df['Ccy2'].item()))\n",
    "    response= transactions_api.upsert_transactions('FX_FW_Transact',\n",
    "                                                   Port1_Code,\n",
    "                                                   transaction_request=[request])\n",
    "    response= response.to_dict()\n",
    "    return {'response link':response['links'][2]['href']}"
   ]
  },
  {
   "cell_type": "code",
   "execution_count": 16,
   "id": "ordinary-worry",
   "metadata": {},
   "outputs": [
    {
     "data": {
      "text/plain": [
       "{'response link': 'http://omar.lusid.com/app/insights/logs/0HM7R8JJJG3OE:00000006'}"
      ]
     },
     "execution_count": 16,
     "metadata": {},
     "output_type": "execute_result"
    }
   ],
   "source": [
    "upsert_fx('fx_fwd_sample.csv')"
   ]
  },
  {
   "cell_type": "markdown",
   "id": "equivalent-memory",
   "metadata": {},
   "source": [
    "## 4. Load Fx Forward as Holding"
   ]
  },
  {
   "cell_type": "markdown",
   "id": "closing-petite",
   "metadata": {},
   "source": [
    "Load FX Forward as holdings- each leg of the forward is loaded in as a tax lot, joined by \"Holding/default/ForwardTransactionId\" property. This is done using  <a id='https://www.lusid.com/docs/api#operation/AdjustHoldings'>Adjust Holdings</a> you can learn more about the Transaction Portfolios data model <a id='https://www.lusid.com/docs/api#section/Data-Model/Transaction-Portfolios'>here</a>."
   ]
  },
  {
   "cell_type": "code",
   "execution_count": 16,
   "id": "scientific-insulation",
   "metadata": {},
   "outputs": [],
   "source": [
    "class FxForwardHoldingLoader():\n",
    "    \n",
    "    def __init__(self, filename,api_factory, scope, portfolio, property_scope):\n",
    "        self.filename = filename\n",
    "        self.scope = scope\n",
    "        self.portfolio = portfolio\n",
    "        self.property_scope = property_scope\n",
    "        self.transaction_portfolios_api = api_factory.build(api.TransactionPortfoliosApi)\n",
    "\n",
    "        fwd_leg_df= pd.read_csv(self.filename)\n",
    "    \n",
    "    '''Submit adjust fx forward holdings requests'''\n",
    "    def adjust_fx_forward_holdings(self, effective_at, adjust_holdings_requests):\n",
    "        display(\"-------------\")\n",
    "        display(lusid_response_to_data_frame(adjust_holdings_requests))\n",
    "        if PUSH_TO_LUSID:\n",
    "            response = self.transaction_portfolios_api.adjust_holdings(\n",
    "                scope=self.scope,\n",
    "                code=self.portfolio,\n",
    "                effective_at = effective_at,\n",
    "                adjust_holding_request=adjust_holdings_requests,\n",
    "                reconciliation_methods=[\"FxForward\"]\n",
    "            )\n",
    "            response= response.to_dict()\n",
    "            display({'response link':response['links'][2]['href']})\n",
    "\n",
    "\n",
    "    ''' Create fx forward adjust holding requests from a single Tradar entry for a Fwd'''\n",
    "    def _create_adjust_holdings_requests(self, fx_fwd):\n",
    "        adjust_holdings_requests = [\n",
    "            # create dom ccy fwd request\n",
    "            self._create_adj_holding_request(fx_fwd, True),\n",
    "            # create dom ccy fgn request\n",
    "            self._create_adj_holding_request(fx_fwd, False)\n",
    "        ]\n",
    "        return adjust_holdings_requests;\n",
    "\n",
    "    def _create_adj_holding_request(self, fwd_leg_df, is_dom=True):\n",
    "        ccy = fwd_leg_df[\"Ccy\"] if is_dom else fwd_leg_df[\"Ccy2\"]\n",
    "        purchase_date = pd.to_datetime(fwd_leg_df['TradeDate'], utc=True, format=DATE_FORMAT).isoformat()\n",
    "        settlement_date = pd.to_datetime(fwd_leg_df['SettlementDate'], utc=True, format=DATE_FORMAT).isoformat()\n",
    "        instrument_identifiers = {\n",
    "            'Instrument/default/Currency': ccy\n",
    "        }\n",
    "        properties = {\n",
    "            # crucial fxforward property to link both legs of fx forward\n",
    "            \"Holding/default/ForwardTransactionId\":\n",
    "                self._create_perp_property(\"Holding/default/ForwardTransactionId\", fwd_leg_df[\"TradeNumber\"])\n",
    "        }\n",
    "        tax_lots = [\n",
    "\n",
    "            # leg\n",
    "            lm.TargetTaxLotRequest(\n",
    "                units=(fwd_leg_df[\"CcyAmount\"]*-1) if is_dom else fwd_leg_df[\"Ccy2Amount\"],\n",
    "                cost=lm.CurrencyAndAmount((fwd_leg_df[\"CcyAmount\"]*-1), fwd_leg_df[\"Ccy\"]) if is_dom else lm.CurrencyAndAmount(\n",
    "                    fwd_leg_df[\"Ccy2Amount\"], fwd_leg_df[\"Ccy2\"]),\n",
    "                portfolio_cost=fwd_leg_df[\"CostFC\"],\n",
    "                price=fwd_leg_df[\"Price\"],\n",
    "                purchase_date=purchase_date,\n",
    "                settlement_date=settlement_date,\n",
    "            )\n",
    "        ]\n",
    "        sub_holding_keys=None\n",
    "        return lm.AdjustHoldingRequest(\n",
    "            instrument_identifiers,\n",
    "            sub_holding_keys,\n",
    "            properties,\n",
    "            tax_lots\n",
    "        )\n",
    "\n",
    "    def _create_perp_property(self, key, value):\n",
    "        return  lm.PerpetualProperty(key, lm.PropertyValue(label_value=value))"
   ]
  },
  {
   "cell_type": "code",
   "execution_count": 17,
   "id": "southern-horror",
   "metadata": {},
   "outputs": [
    {
     "data": {
      "text/plain": [
       "'-------------'"
      ]
     },
     "metadata": {},
     "output_type": "display_data"
    },
    {
     "data": {
      "text/html": [
       "<div>\n",
       "<style scoped>\n",
       "    .dataframe tbody tr th:only-of-type {\n",
       "        vertical-align: middle;\n",
       "    }\n",
       "\n",
       "    .dataframe tbody tr th {\n",
       "        vertical-align: top;\n",
       "    }\n",
       "\n",
       "    .dataframe thead th {\n",
       "        text-align: right;\n",
       "    }\n",
       "</style>\n",
       "<table border=\"1\" class=\"dataframe\">\n",
       "  <thead>\n",
       "    <tr style=\"text-align: right;\">\n",
       "      <th></th>\n",
       "      <th>instrument_identifiers.Instrument/default/Currency</th>\n",
       "      <th>properties.Holding/default/ForwardTransactionId.key</th>\n",
       "      <th>properties.Holding/default/ForwardTransactionId.value.label_value</th>\n",
       "      <th>tax_lots.0.units</th>\n",
       "      <th>tax_lots.0.cost.amount</th>\n",
       "      <th>tax_lots.0.cost.currency</th>\n",
       "      <th>tax_lots.0.portfolio_cost</th>\n",
       "      <th>tax_lots.0.price</th>\n",
       "      <th>tax_lots.0.purchase_date</th>\n",
       "      <th>tax_lots.0.settlement_date</th>\n",
       "    </tr>\n",
       "  </thead>\n",
       "  <tbody>\n",
       "    <tr>\n",
       "      <th>0</th>\n",
       "      <td>GBP</td>\n",
       "      <td>Holding/default/ForwardTransactionId</td>\n",
       "      <td>101</td>\n",
       "      <td>-5000</td>\n",
       "      <td>-5000</td>\n",
       "      <td>GBP</td>\n",
       "      <td>6850</td>\n",
       "      <td>1.37</td>\n",
       "      <td>2021-01-01T00:00:00+00:00</td>\n",
       "      <td>2021-02-01T00:00:00+00:00</td>\n",
       "    </tr>\n",
       "    <tr>\n",
       "      <th>1</th>\n",
       "      <td>USD</td>\n",
       "      <td>Holding/default/ForwardTransactionId</td>\n",
       "      <td>101</td>\n",
       "      <td>6850</td>\n",
       "      <td>6850</td>\n",
       "      <td>USD</td>\n",
       "      <td>6850</td>\n",
       "      <td>1.37</td>\n",
       "      <td>2021-01-01T00:00:00+00:00</td>\n",
       "      <td>2021-02-01T00:00:00+00:00</td>\n",
       "    </tr>\n",
       "  </tbody>\n",
       "</table>\n",
       "</div>"
      ],
      "text/plain": [
       "  instrument_identifiers.Instrument/default/Currency  \\\n",
       "0                                                GBP   \n",
       "1                                                USD   \n",
       "\n",
       "  properties.Holding/default/ForwardTransactionId.key  \\\n",
       "0               Holding/default/ForwardTransactionId    \n",
       "1               Holding/default/ForwardTransactionId    \n",
       "\n",
       "   properties.Holding/default/ForwardTransactionId.value.label_value  \\\n",
       "0                                                101                   \n",
       "1                                                101                   \n",
       "\n",
       "   tax_lots.0.units  tax_lots.0.cost.amount tax_lots.0.cost.currency  \\\n",
       "0             -5000                   -5000                      GBP   \n",
       "1              6850                    6850                      USD   \n",
       "\n",
       "   tax_lots.0.portfolio_cost  tax_lots.0.price   tax_lots.0.purchase_date  \\\n",
       "0                       6850              1.37  2021-01-01T00:00:00+00:00   \n",
       "1                       6850              1.37  2021-01-01T00:00:00+00:00   \n",
       "\n",
       "  tax_lots.0.settlement_date  \n",
       "0  2021-02-01T00:00:00+00:00  \n",
       "1  2021-02-01T00:00:00+00:00  "
      ]
     },
     "metadata": {},
     "output_type": "display_data"
    },
    {
     "data": {
      "text/plain": [
       "{'response link': 'http://omar.lusid.com/app/insights/logs/0HM7TNLNI8DAJ:00000010'}"
      ]
     },
     "metadata": {},
     "output_type": "display_data"
    }
   ],
   "source": [
    "PUSH_TO_LUSID = True\n",
    "DATE_FORMAT = '%d/%m/%Y'\n",
    "\n",
    "filename='fx_fwd_sample.csv'\n",
    "Port_scope='FX_FW_Transact'\n",
    "Holding_scope='Swap_Holding'\n",
    "\n",
    "# setup loader\n",
    "fx_forward_holding_loaders = FxForwardHoldingLoader(filename,\n",
    "                                                    api_factory, \n",
    "                                                    Port_scope, \n",
    "                                                    Port1_Code, \n",
    "                                                    Holding_scope)\n",
    "# read in sample fx fwds\n",
    "fx_fwds = pd.read_csv(filename)\n",
    "\n",
    "# construct fx fwd requests\n",
    "effective_at = None\n",
    "fx_fwd_requests = []\n",
    "for i, fx_fwd in fx_fwds.iterrows():\n",
    "    effective_at = str(date(2021,4,5))\n",
    "    fx_fwd_requests.extend(fx_forward_holding_loaders._create_adjust_holdings_requests(fx_fwd))\n",
    "\n",
    "# submit fx fwd requests as adjustments (not setting holdings)\n",
    "fx_forward_holding_loaders.adjust_fx_forward_holdings(effective_at, fx_fwd_requests)"
   ]
  },
  {
   "cell_type": "markdown",
   "id": "executive-treasury",
   "metadata": {},
   "source": [
    "## 5 Upsert FX Fwd Qoutes for valuation"
   ]
  },
  {
   "cell_type": "markdown",
   "id": "cleared-residence",
   "metadata": {},
   "source": [
    "Upsert quotes for fwd rates, this will be an input for the valuation"
   ]
  },
  {
   "cell_type": "markdown",
   "id": "competent-aside",
   "metadata": {},
   "source": [
    "### 5a) Quote FWD Rate"
   ]
  },
  {
   "cell_type": "code",
   "execution_count": 32,
   "id": "twelve-substance",
   "metadata": {},
   "outputs": [
    {
     "data": {
      "text/html": [
       "<div>\n",
       "<style scoped>\n",
       "    .dataframe tbody tr th:only-of-type {\n",
       "        vertical-align: middle;\n",
       "    }\n",
       "\n",
       "    .dataframe tbody tr th {\n",
       "        vertical-align: top;\n",
       "    }\n",
       "\n",
       "    .dataframe thead th {\n",
       "        text-align: right;\n",
       "    }\n",
       "</style>\n",
       "<table border=\"1\" class=\"dataframe\">\n",
       "  <thead>\n",
       "    <tr style=\"text-align: right;\">\n",
       "      <th></th>\n",
       "      <th>response_values</th>\n",
       "    </tr>\n",
       "  </thead>\n",
       "  <tbody>\n",
       "    <tr>\n",
       "      <th>href</th>\n",
       "      <td>None</td>\n",
       "    </tr>\n",
       "    <tr>\n",
       "      <th>values.1.quote_id.quote_series_id.provider</th>\n",
       "      <td>Lusid</td>\n",
       "    </tr>\n",
       "    <tr>\n",
       "      <th>values.1.quote_id.quote_series_id.price_source</th>\n",
       "      <td>None</td>\n",
       "    </tr>\n",
       "    <tr>\n",
       "      <th>values.1.quote_id.quote_series_id.instrument_id</th>\n",
       "      <td>GBP/USD/FxFwdRate/20210501</td>\n",
       "    </tr>\n",
       "    <tr>\n",
       "      <th>values.1.quote_id.quote_series_id.instrument_id_type</th>\n",
       "      <td>LusidInstrumentId</td>\n",
       "    </tr>\n",
       "    <tr>\n",
       "      <th>values.1.quote_id.quote_series_id.quote_type</th>\n",
       "      <td>Price</td>\n",
       "    </tr>\n",
       "    <tr>\n",
       "      <th>values.1.quote_id.quote_series_id.field</th>\n",
       "      <td>mid</td>\n",
       "    </tr>\n",
       "    <tr>\n",
       "      <th>values.1.quote_id.effective_at</th>\n",
       "      <td>2021-04-01T00:00:00.0000000+00:00</td>\n",
       "    </tr>\n",
       "    <tr>\n",
       "      <th>values.1.metric_value.value</th>\n",
       "      <td>1.6</td>\n",
       "    </tr>\n",
       "    <tr>\n",
       "      <th>values.1.metric_value.unit</th>\n",
       "      <td>USD</td>\n",
       "    </tr>\n",
       "    <tr>\n",
       "      <th>values.1.lineage</th>\n",
       "      <td>default</td>\n",
       "    </tr>\n",
       "    <tr>\n",
       "      <th>values.1.cut_label</th>\n",
       "      <td></td>\n",
       "    </tr>\n",
       "    <tr>\n",
       "      <th>values.1.uploaded_by</th>\n",
       "      <td>00uacifx9jHZdKKho2p7</td>\n",
       "    </tr>\n",
       "    <tr>\n",
       "      <th>values.1.as_at</th>\n",
       "      <td>2021-04-09 13:01:12.584467+00:00</td>\n",
       "    </tr>\n",
       "    <tr>\n",
       "      <th>values.1.scale_factor</th>\n",
       "      <td>None</td>\n",
       "    </tr>\n",
       "    <tr>\n",
       "      <th>failed</th>\n",
       "      <td>{}</td>\n",
       "    </tr>\n",
       "    <tr>\n",
       "      <th>links.0.relation</th>\n",
       "      <td>RequestLogs</td>\n",
       "    </tr>\n",
       "    <tr>\n",
       "      <th>links.0.href</th>\n",
       "      <td>http://omar.lusid.com/app/insights/logs/0HM7R8...</td>\n",
       "    </tr>\n",
       "    <tr>\n",
       "      <th>links.0.description</th>\n",
       "      <td>A link to the LUSID Insights website showing a...</td>\n",
       "    </tr>\n",
       "    <tr>\n",
       "      <th>links.0.method</th>\n",
       "      <td>GET</td>\n",
       "    </tr>\n",
       "  </tbody>\n",
       "</table>\n",
       "</div>"
      ],
      "text/plain": [
       "                                                                                      response_values\n",
       "href                                                                                             None\n",
       "values.1.quote_id.quote_series_id.provider                                                      Lusid\n",
       "values.1.quote_id.quote_series_id.price_source                                                   None\n",
       "values.1.quote_id.quote_series_id.instrument_id                            GBP/USD/FxFwdRate/20210501\n",
       "values.1.quote_id.quote_series_id.instrument_id...                                  LusidInstrumentId\n",
       "values.1.quote_id.quote_series_id.quote_type                                                    Price\n",
       "values.1.quote_id.quote_series_id.field                                                           mid\n",
       "values.1.quote_id.effective_at                                      2021-04-01T00:00:00.0000000+00:00\n",
       "values.1.metric_value.value                                                                       1.6\n",
       "values.1.metric_value.unit                                                                        USD\n",
       "values.1.lineage                                                                              default\n",
       "values.1.cut_label                                                                                   \n",
       "values.1.uploaded_by                                                             00uacifx9jHZdKKho2p7\n",
       "values.1.as_at                                                       2021-04-09 13:01:12.584467+00:00\n",
       "values.1.scale_factor                                                                            None\n",
       "failed                                                                                             {}\n",
       "links.0.relation                                                                          RequestLogs\n",
       "links.0.href                                        http://omar.lusid.com/app/insights/logs/0HM7R8...\n",
       "links.0.description                                 A link to the LUSID Insights website showing a...\n",
       "links.0.method                                                                                    GET"
      ]
     },
     "metadata": {},
     "output_type": "display_data"
    }
   ],
   "source": [
    "# set up the quotes\n",
    "effective_date = str(date(2021, 4, 1))\n",
    "fxfwdSeriesId = lm.QuoteSeriesId(\n",
    "    provider=\"Lusid\",\n",
    "    instrument_id=\"GBP/USD/FxFwdRate/20210501\",\n",
    "    instrument_id_type=\"LusidInstrumentId\",\n",
    "    quote_type=\"Price\",\n",
    "    field=\"mid\"\n",
    ")\n",
    "\n",
    "FXFWDQuote = lm.QuoteId(\n",
    "    quote_series_id=fxfwdSeriesId,\n",
    "    effective_at=effective_date\n",
    ")\n",
    "\n",
    "FXFWDQuoteRequest = lm.UpsertQuoteRequest(\n",
    "    quote_id=FXFWDQuote,\n",
    "    metric_value=lm.MetricValue(\n",
    "        value=1.6, unit=\"USD\"),\n",
    "    lineage=\"default\"\n",
    ")\n",
    "\n",
    "response = quotes_api.upsert_quotes(scope=\"FxData\",\n",
    "                                     request_body={\"1\": FXFWDQuoteRequest}\n",
    "                                     )\n",
    "display(lusid_response_to_data_frame(response))"
   ]
  },
  {
   "cell_type": "markdown",
   "id": "retained-morocco",
   "metadata": {},
   "source": [
    "### 5b) Quote for spot"
   ]
  },
  {
   "cell_type": "code",
   "execution_count": 34,
   "id": "drawn-jason",
   "metadata": {},
   "outputs": [
    {
     "data": {
      "text/html": [
       "<div>\n",
       "<style scoped>\n",
       "    .dataframe tbody tr th:only-of-type {\n",
       "        vertical-align: middle;\n",
       "    }\n",
       "\n",
       "    .dataframe tbody tr th {\n",
       "        vertical-align: top;\n",
       "    }\n",
       "\n",
       "    .dataframe thead th {\n",
       "        text-align: right;\n",
       "    }\n",
       "</style>\n",
       "<table border=\"1\" class=\"dataframe\">\n",
       "  <thead>\n",
       "    <tr style=\"text-align: right;\">\n",
       "      <th></th>\n",
       "      <th>response_values</th>\n",
       "    </tr>\n",
       "  </thead>\n",
       "  <tbody>\n",
       "    <tr>\n",
       "      <th>href</th>\n",
       "      <td>None</td>\n",
       "    </tr>\n",
       "    <tr>\n",
       "      <th>values.1.quote_id.quote_series_id.provider</th>\n",
       "      <td>Lusid</td>\n",
       "    </tr>\n",
       "    <tr>\n",
       "      <th>values.1.quote_id.quote_series_id.price_source</th>\n",
       "      <td>None</td>\n",
       "    </tr>\n",
       "    <tr>\n",
       "      <th>values.1.quote_id.quote_series_id.instrument_id</th>\n",
       "      <td>GBP/USD</td>\n",
       "    </tr>\n",
       "    <tr>\n",
       "      <th>values.1.quote_id.quote_series_id.instrument_id_type</th>\n",
       "      <td>CurrencyPair</td>\n",
       "    </tr>\n",
       "    <tr>\n",
       "      <th>values.1.quote_id.quote_series_id.quote_type</th>\n",
       "      <td>Price</td>\n",
       "    </tr>\n",
       "    <tr>\n",
       "      <th>values.1.quote_id.quote_series_id.field</th>\n",
       "      <td>mid</td>\n",
       "    </tr>\n",
       "    <tr>\n",
       "      <th>values.1.quote_id.effective_at</th>\n",
       "      <td>2021-05-01T00:00:00.0000000+00:00</td>\n",
       "    </tr>\n",
       "    <tr>\n",
       "      <th>values.1.metric_value.value</th>\n",
       "      <td>1.41</td>\n",
       "    </tr>\n",
       "    <tr>\n",
       "      <th>values.1.metric_value.unit</th>\n",
       "      <td>USD</td>\n",
       "    </tr>\n",
       "    <tr>\n",
       "      <th>values.1.lineage</th>\n",
       "      <td>default</td>\n",
       "    </tr>\n",
       "    <tr>\n",
       "      <th>values.1.cut_label</th>\n",
       "      <td></td>\n",
       "    </tr>\n",
       "    <tr>\n",
       "      <th>values.1.uploaded_by</th>\n",
       "      <td>00uacifx9jHZdKKho2p7</td>\n",
       "    </tr>\n",
       "    <tr>\n",
       "      <th>values.1.as_at</th>\n",
       "      <td>2021-04-09 13:02:11.778194+00:00</td>\n",
       "    </tr>\n",
       "    <tr>\n",
       "      <th>values.1.scale_factor</th>\n",
       "      <td>None</td>\n",
       "    </tr>\n",
       "    <tr>\n",
       "      <th>failed</th>\n",
       "      <td>{}</td>\n",
       "    </tr>\n",
       "    <tr>\n",
       "      <th>links.0.relation</th>\n",
       "      <td>RequestLogs</td>\n",
       "    </tr>\n",
       "    <tr>\n",
       "      <th>links.0.href</th>\n",
       "      <td>http://omar.lusid.com/app/insights/logs/0HM7R8...</td>\n",
       "    </tr>\n",
       "    <tr>\n",
       "      <th>links.0.description</th>\n",
       "      <td>A link to the LUSID Insights website showing a...</td>\n",
       "    </tr>\n",
       "    <tr>\n",
       "      <th>links.0.method</th>\n",
       "      <td>GET</td>\n",
       "    </tr>\n",
       "  </tbody>\n",
       "</table>\n",
       "</div>"
      ],
      "text/plain": [
       "                                                                                      response_values\n",
       "href                                                                                             None\n",
       "values.1.quote_id.quote_series_id.provider                                                      Lusid\n",
       "values.1.quote_id.quote_series_id.price_source                                                   None\n",
       "values.1.quote_id.quote_series_id.instrument_id                                               GBP/USD\n",
       "values.1.quote_id.quote_series_id.instrument_id...                                       CurrencyPair\n",
       "values.1.quote_id.quote_series_id.quote_type                                                    Price\n",
       "values.1.quote_id.quote_series_id.field                                                           mid\n",
       "values.1.quote_id.effective_at                                      2021-05-01T00:00:00.0000000+00:00\n",
       "values.1.metric_value.value                                                                      1.41\n",
       "values.1.metric_value.unit                                                                        USD\n",
       "values.1.lineage                                                                              default\n",
       "values.1.cut_label                                                                                   \n",
       "values.1.uploaded_by                                                             00uacifx9jHZdKKho2p7\n",
       "values.1.as_at                                                       2021-04-09 13:02:11.778194+00:00\n",
       "values.1.scale_factor                                                                            None\n",
       "failed                                                                                             {}\n",
       "links.0.relation                                                                          RequestLogs\n",
       "links.0.href                                        http://omar.lusid.com/app/insights/logs/0HM7R8...\n",
       "links.0.description                                 A link to the LUSID Insights website showing a...\n",
       "links.0.method                                                                                    GET"
      ]
     },
     "metadata": {},
     "output_type": "display_data"
    }
   ],
   "source": [
    "# set up the quotes\n",
    "effective_date = str(date(2021, 5, 1))\n",
    "fxfwdSeriesId = lm.QuoteSeriesId(\n",
    "    provider=\"Lusid\",\n",
    "    instrument_id=\"GBP/USD\",\n",
    "    instrument_id_type=\"CurrencyPair\",\n",
    "    quote_type=\"Price\",\n",
    "    field=\"mid\"\n",
    ")\n",
    "\n",
    "FXFWDQuote = lm.QuoteId(\n",
    "    quote_series_id=fxfwdSeriesId,\n",
    "    effective_at=effective_date\n",
    ")\n",
    "\n",
    "FXFWDQuoteRequest = lm.UpsertQuoteRequest(\n",
    "    quote_id=FXFWDQuote,\n",
    "    metric_value=lm.MetricValue(\n",
    "        value=1.41, unit=\"USD\"),\n",
    "    lineage=\"default\"\n",
    ")\n",
    "\n",
    "response = quotes_api.upsert_quotes(scope=\"FxData\",\n",
    "                                     request_body={\"1\": FXFWDQuoteRequest}\n",
    "                                     )\n",
    "display(lusid_response_to_data_frame(response))"
   ]
  },
  {
   "cell_type": "markdown",
   "id": "legal-enclosure",
   "metadata": {},
   "source": [
    "## 6. Define Recipie for valuation"
   ]
  },
  {
   "cell_type": "markdown",
   "id": "different-myanmar",
   "metadata": {},
   "source": [
    "Define the Recipie that will be used by the Aggregation engine to calculate a valuation for the portfolio."
   ]
  },
  {
   "cell_type": "code",
   "execution_count": 36,
   "id": "computational-given",
   "metadata": {},
   "outputs": [
    {
     "data": {
      "text/html": [
       "<div>\n",
       "<style scoped>\n",
       "    .dataframe tbody tr th:only-of-type {\n",
       "        vertical-align: middle;\n",
       "    }\n",
       "\n",
       "    .dataframe tbody tr th {\n",
       "        vertical-align: top;\n",
       "    }\n",
       "\n",
       "    .dataframe thead th {\n",
       "        text-align: right;\n",
       "    }\n",
       "</style>\n",
       "<table border=\"1\" class=\"dataframe\">\n",
       "  <thead>\n",
       "    <tr style=\"text-align: right;\">\n",
       "      <th></th>\n",
       "      <th>response_values</th>\n",
       "    </tr>\n",
       "  </thead>\n",
       "  <tbody>\n",
       "    <tr>\n",
       "      <th>href</th>\n",
       "      <td>None</td>\n",
       "    </tr>\n",
       "    <tr>\n",
       "      <th>value</th>\n",
       "      <td>2021-04-09 13:29:17.265485+00:00</td>\n",
       "    </tr>\n",
       "    <tr>\n",
       "      <th>links.0.relation</th>\n",
       "      <td>RequestLogs</td>\n",
       "    </tr>\n",
       "    <tr>\n",
       "      <th>links.0.href</th>\n",
       "      <td>http://omar.lusid.com/app/insights/logs/0HM7R8...</td>\n",
       "    </tr>\n",
       "    <tr>\n",
       "      <th>links.0.description</th>\n",
       "      <td>A link to the LUSID Insights website showing a...</td>\n",
       "    </tr>\n",
       "    <tr>\n",
       "      <th>links.0.method</th>\n",
       "      <td>GET</td>\n",
       "    </tr>\n",
       "  </tbody>\n",
       "</table>\n",
       "</div>"
      ],
      "text/plain": [
       "                                                       response_values\n",
       "href                                                              None\n",
       "value                                 2021-04-09 13:29:17.265485+00:00\n",
       "links.0.relation                                           RequestLogs\n",
       "links.0.href         http://omar.lusid.com/app/insights/logs/0HM7R8...\n",
       "links.0.description  A link to the LUSID Insights website showing a...\n",
       "links.0.method                                                     GET"
      ]
     },
     "metadata": {},
     "output_type": "display_data"
    }
   ],
   "source": [
    "recipe_scope=\"Finbourne-Examples\"\n",
    "recipe_code=\"FxForwards\"\n",
    "\n",
    "config_recipe = lm.ConfigurationRecipe(\n",
    "        scope=recipe_scope,\n",
    "        code=recipe_code,\n",
    "        market=lm.MarketContext(\n",
    "            market_rules=[\n",
    "                lm.MarketDataKeyRule(\n",
    "                    key='Fx.CurrencyPair.*',\n",
    "                    data_scope='FxData',\n",
    "                    supplier='Lusid',\n",
    "                    quote_type='Price',\n",
    "                    quote_interval='1D.0D',\n",
    "                    field='close'),\n",
    "                lm.MarketDataKeyRule(\n",
    "                    key='Fx.*.*',\n",
    "                    data_scope='FxData',\n",
    "                    supplier='Lusid',\n",
    "                    quote_type='Price',\n",
    "                    quote_interval='1D.0D',\n",
    "                    field='mid'),\n",
    "                  lm.MarketDataKeyRule(\n",
    "                    key='Equity.*.*',\n",
    "                    data_scope='FxData',\n",
    "                    supplier='Lusid',\n",
    "                    quote_type='Price',\n",
    "                    quote_interval='1D.0D',\n",
    "                    field='mid'), \n",
    "            ],\n",
    "            suppliers=lm.MarketContextSuppliers(\n",
    "                commodity='Lusid',\n",
    "                credit='Lusid',\n",
    "                equity='Lusid',\n",
    "                fx='Lusid',\n",
    "                rates='Lusid'),\n",
    "            options=lm.MarketOptions(\n",
    "                default_supplier='Lusid',\n",
    "                default_instrument_code_type='Figi',\n",
    "                default_scope='Lusid',\n",
    "                attempt_to_infer_missing_fx=True\n",
    "            ),\n",
    "        ),\n",
    "        pricing=lm.PricingContext(\n",
    "            options=lm.PricingOptions(\n",
    "                model_selection=lm.ModelSelection(\n",
    "                    library=\"Lusid\",\n",
    "                    model=\"ForwardSpecifiedRateUndiscounted\"\n",
    "                ),\n",
    "                use_instrument_type_to_determine_pricer=False,\n",
    "                allow_any_instruments_with_sec_uid_to_price_off_lookup=False,\n",
    "                produce_separate_result_for_linear_otc_legs=True,\n",
    "                allow_partially_successful_evaluation=False,\n",
    "                enable_use_of_cached_unit_results=False,\n",
    "                window_valuation_on_instrument_start_end=False,\n",
    "                remove_contingent_cashflows_in_payment_diary=False,\n",
    "                use_child_sub_holding_keys_for_portfolio_expansion=False\n",
    "            )),\n",
    "        description=\"ifrs test\"\n",
    "    )\n",
    "\n",
    "response = configuration_recipe_api.upsert_configuration_recipe(\n",
    "    lm.UpsertRecipeRequest(configuration_recipe=config_recipe)\n",
    ")\n",
    "display(lusid_response_to_data_frame(response))"
   ]
  },
  {
   "cell_type": "markdown",
   "id": "chronic-bidder",
   "metadata": {},
   "source": [
    "## 7. Run Valuation"
   ]
  },
  {
   "cell_type": "markdown",
   "id": "vocational-holiday",
   "metadata": {},
   "source": [
    "Construct a valuation request specifying which metrics we would like included. This request is then passed to the Lusid aggregation API."
   ]
  },
  {
   "cell_type": "code",
   "execution_count": 39,
   "id": "general-accounting",
   "metadata": {},
   "outputs": [],
   "source": [
    "recipe_scope=\"Finbourne-Examples\"\n",
    "recipe_code=\"FxForwards\"\n",
    "\n",
    "valuation_date = str(date(2021, 4, 1))\n",
    "\n",
    "# Create the valuation request\n",
    "valuation_request = lm.ValuationRequest(\n",
    "    recipe_id= lm.ResourceId(scope= recipe_scope, code=recipe_code),\n",
    "    metrics=[\n",
    "        lm.AggregateSpec(\"Instrument/default/Name\", \"Sum\"),\n",
    "        lm.AggregateSpec(\"Holding/default/Type\", \"Value\"),\n",
    "        lm.AggregateSpec(\"Holding/default/PV\", \"Sum\"),\n",
    "    ],\n",
    "    group_by=[\"Instrument/default/Name\",\"Holding/default/Type\"],\n",
    "    portfolio_entity_ids=[lm.PortfolioEntityId(\n",
    "        scope='FX_FW_Transact', \n",
    "        code=Port1_Code)\n",
    "                         ],\n",
    "    valuation_schedule=lm.ValuationSchedule(effective_at=valuation_date)\n",
    ")\n",
    "\n",
    "# Perform a valuation\n",
    "valuation = api_factory.build(lusid.api.AggregationApi).get_valuation(\n",
    "    valuation_request=valuation_request)\n",
    "\n",
    "#print(valuation)\n",
    "Valuations = pd.DataFrame(valuation.data)"
   ]
  },
  {
   "cell_type": "markdown",
   "id": "computational-branch",
   "metadata": {},
   "source": [
    "## Output"
   ]
  },
  {
   "cell_type": "markdown",
   "id": "clear-tribune",
   "metadata": {},
   "source": [
    "Returns the valuation metrics as a dataframe. PV of the forward position is shown in forward space (valuation is converted back to GBP using the fwd rate)."
   ]
  },
  {
   "cell_type": "code",
   "execution_count": 40,
   "id": "german-thomson",
   "metadata": {
    "scrolled": true
   },
   "outputs": [
    {
     "data": {
      "text/html": [
       "<div>\n",
       "<style scoped>\n",
       "    .dataframe tbody tr th:only-of-type {\n",
       "        vertical-align: middle;\n",
       "    }\n",
       "\n",
       "    .dataframe tbody tr th {\n",
       "        vertical-align: top;\n",
       "    }\n",
       "\n",
       "    .dataframe thead th {\n",
       "        text-align: right;\n",
       "    }\n",
       "</style>\n",
       "<table border=\"1\" class=\"dataframe\">\n",
       "  <thead>\n",
       "    <tr style=\"text-align: right;\">\n",
       "      <th></th>\n",
       "      <th>Sum(Instrument/default/Name)</th>\n",
       "      <th>Holding/default/Type</th>\n",
       "      <th>Sum(Holding/default/PV)</th>\n",
       "    </tr>\n",
       "  </thead>\n",
       "  <tbody>\n",
       "    <tr>\n",
       "      <th>0</th>\n",
       "      <td>GBP</td>\n",
       "      <td>Balance</td>\n",
       "      <td>10000.00</td>\n",
       "    </tr>\n",
       "    <tr>\n",
       "      <th>1</th>\n",
       "      <td>GBP</td>\n",
       "      <td>ForwardFx</td>\n",
       "      <td>718.75</td>\n",
       "    </tr>\n",
       "  </tbody>\n",
       "</table>\n",
       "</div>"
      ],
      "text/plain": [
       "  Sum(Instrument/default/Name) Holding/default/Type  Sum(Holding/default/PV)\n",
       "0                          GBP              Balance                 10000.00\n",
       "1                          GBP            ForwardFx                   718.75"
      ]
     },
     "execution_count": 40,
     "metadata": {},
     "output_type": "execute_result"
    }
   ],
   "source": [
    "Valuations"
   ]
  },
  {
   "cell_type": "code",
   "execution_count": null,
   "id": "underlying-elephant",
   "metadata": {},
   "outputs": [],
   "source": []
  }
 ],
 "metadata": {
  "kernelspec": {
   "display_name": "Python 3",
   "language": "python",
   "name": "python3"
  },
  "language_info": {
   "codemirror_mode": {
    "name": "ipython",
    "version": 3
   },
   "file_extension": ".py",
   "mimetype": "text/x-python",
   "name": "python",
   "nbconvert_exporter": "python",
   "pygments_lexer": "ipython3",
   "version": "3.7.3"
  }
 },
 "nbformat": 4,
 "nbformat_minor": 5
}