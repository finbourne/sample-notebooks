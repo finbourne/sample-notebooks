{
 "cells": [
  {
   "cell_type": "markdown",
   "id": "cultural-kennedy",
   "metadata": {},
   "source": [
    "## Fx Forward Upsert and Valuation example notebook"
   ]
  },
  {
   "cell_type": "markdown",
   "id": "independent-afghanistan",
   "metadata": {},
   "source": [
    "This notebook displays the upsert and valuation functionality in Lusid in the context of FX forwards. We will be upserting the forwards as transactions and as holdings. Finally, we will define a LUSID recipe and run a valuation\n",
    "\n",
    "## Table of contents\n",
    "\n",
    "- 1. [Setup](#1.Setup)\n",
    "   * [1.1 Create Portfolio](#1.1-Create-portfolio)\n",
    "   * [1.2 Fund portfolio with cash](#1.2-Fund-Portfolio-with-cash)\n",
    "- 2. [2.Upsert as transaction](#2.Upsert-FX-Forward-position-as-Transaction)\n",
    "- 3. [3.Upsert as holding](##3.-Load-Fx-Forward-as-Holding)\n",
    "- 4. [Valuation](##-4.-Valuation)\n",
    "   * [4.1 Upsert Fwd quote](###-4.1-Quote-FWD-Rate)\n",
    "   * [4.2 Upsert Spot quote](###-4.2-Quote-for-spot)\n",
    "   * [4.3 Define Recipe for valuation](##-4.3-Define-Recipe-for-valuation)\n",
    "   * [4.4 Run valuation](##-4.4.-Run-Valuation)"
   ]
  },
  {
   "cell_type": "code",
   "execution_count": 16,
   "id": "worthy-collaboration",
   "metadata": {},
   "outputs": [
    {
     "data": {
      "text/plain": "<IPython.core.display.HTML object>",
      "text/html": "\n    <form action=\"javascript:code_toggle()\"><input type=\"submit\" id=\"toggleButton\" value=\"Toggle Docstring\"></form>\n    \n         <script>\n         function code_toggle() {\n             if ($('div.cell.code_cell.rendered.selected div.input').css('display')!='none'){\n                 $('div.cell.code_cell.rendered.selected div.input').hide();\n             } else {\n                 $('div.cell.code_cell.rendered.selected div.input').show();\n             }\n         }\n         </script>\n\n     "
     },
     "metadata": {},
     "output_type": "display_data"
    }
   ],
   "source": [
    "from lusidtools.jupyter_tools import toggle_code\n",
    "\n",
    "\"\"\"Fx Forward upsert and valuation in Lusid\n",
    "\n",
    "Attributes\n",
    "----------\n",
    "Transaction Portfolios\n",
    "Quotes\n",
    "Holdings\n",
    "Transactions\n",
    "Valuation\n",
    "\"\"\"\n",
    "\n",
    "toggle_code(\"Toggle Docstring\")\n"
   ]
  },
  {
   "cell_type": "code",
   "execution_count": 17,
   "id": "skilled-dressing",
   "metadata": {},
   "outputs": [],
   "source": [
    "import os\n",
    "import lusid\n",
    "import lusid.models as lm\n",
    "from lusid.utilities import ApiClientFactory\n",
    "from lusid import api\n",
    "from lusidjam import RefreshingToken\n",
    "import pandas as pd\n",
    "from datetime import date\n",
    "from lusidtools.pandas_utils.lusid_pandas import lusid_response_to_data_frame\n",
    "import json\n",
    "from lusid import ApiException"
   ]
  },
  {
   "cell_type": "code",
   "execution_count": 18,
   "id": "flush-affairs",
   "metadata": {},
   "outputs": [
    {
     "ename": "ValueError",
     "evalue": "The fields ['api_url', 'password', 'username', 'client_id', 'client_secret', 'token_url'] on the ApiConfiguration are set to None, please ensure that you have provided them directly, via a secrets file or environment variables",
     "output_type": "error",
     "traceback": [
      "\u001B[1;31m---------------------------------------------------------------------------\u001B[0m",
      "\u001B[1;31mValueError\u001B[0m                                Traceback (most recent call last)",
      "\u001B[1;32m<ipython-input-18-50e472806fe3>\u001B[0m in \u001B[0;36m<module>\u001B[1;34m\u001B[0m\n\u001B[0;32m      2\u001B[0m \u001B[0msecrets_path\u001B[0m \u001B[1;33m=\u001B[0m \u001B[0mos\u001B[0m\u001B[1;33m.\u001B[0m\u001B[0mgetenv\u001B[0m\u001B[1;33m(\u001B[0m\u001B[1;34m\"FBN_SECRETS_PATH\"\u001B[0m\u001B[1;33m)\u001B[0m\u001B[1;33m\u001B[0m\u001B[1;33m\u001B[0m\u001B[0m\n\u001B[0;32m      3\u001B[0m \u001B[1;33m\u001B[0m\u001B[0m\n\u001B[1;32m----> 4\u001B[1;33m api_factory = lusid.utilities.ApiClientFactory(\n\u001B[0m\u001B[0;32m      5\u001B[0m     \u001B[0mtoken\u001B[0m\u001B[1;33m=\u001B[0m\u001B[0mRefreshingToken\u001B[0m\u001B[1;33m(\u001B[0m\u001B[1;33m)\u001B[0m\u001B[1;33m,\u001B[0m\u001B[1;33m\u001B[0m\u001B[1;33m\u001B[0m\u001B[0m\n\u001B[0;32m      6\u001B[0m     \u001B[0mapi_secrets_filename\u001B[0m\u001B[1;33m=\u001B[0m\u001B[0msecrets_path\u001B[0m\u001B[1;33m,\u001B[0m\u001B[1;33m\u001B[0m\u001B[1;33m\u001B[0m\u001B[0m\n",
      "\u001B[1;32mc:\\codebase\\enviroments\\envo1\\lib\\site-packages\\lusid\\utilities\\api_client_factory.py\u001B[0m in \u001B[0;36m__init__\u001B[1;34m(self, **kwargs)\u001B[0m\n\u001B[0;32m     57\u001B[0m \u001B[1;33m\u001B[0m\u001B[0m\n\u001B[0;32m     58\u001B[0m         \u001B[1;31m# Call the client builder, this will result in using either a token, secrets file or environment variables\u001B[0m\u001B[1;33m\u001B[0m\u001B[1;33m\u001B[0m\u001B[1;33m\u001B[0m\u001B[0m\n\u001B[1;32m---> 59\u001B[1;33m         \u001B[0mself\u001B[0m\u001B[1;33m.\u001B[0m\u001B[0mapi_client\u001B[0m \u001B[1;33m=\u001B[0m \u001B[0mApiClientBuilder\u001B[0m\u001B[1;33m.\u001B[0m\u001B[0mbuild\u001B[0m\u001B[1;33m(\u001B[0m\u001B[1;33m**\u001B[0m\u001B[0mbuilder_kwargs\u001B[0m\u001B[1;33m)\u001B[0m\u001B[1;33m\u001B[0m\u001B[1;33m\u001B[0m\u001B[0m\n\u001B[0m\u001B[0;32m     60\u001B[0m \u001B[1;33m\u001B[0m\u001B[0m\n\u001B[0;32m     61\u001B[0m     \u001B[1;32mdef\u001B[0m \u001B[0mbuild\u001B[0m\u001B[1;33m(\u001B[0m\u001B[0mself\u001B[0m\u001B[1;33m,\u001B[0m \u001B[0mmetaclass\u001B[0m\u001B[1;33m)\u001B[0m\u001B[1;33m:\u001B[0m\u001B[1;33m\u001B[0m\u001B[1;33m\u001B[0m\u001B[0m\n",
      "\u001B[1;32mc:\\codebase\\enviroments\\envo1\\lib\\site-packages\\lusid\\utilities\\api_client_builder.py\u001B[0m in \u001B[0;36mbuild\u001B[1;34m(cls, api_secrets_filename, id_provider_response_handler, api_configuration, token, correlation_id)\u001B[0m\n\u001B[0;32m     65\u001B[0m         \u001B[1;32melse\u001B[0m\u001B[1;33m:\u001B[0m\u001B[1;33m\u001B[0m\u001B[1;33m\u001B[0m\u001B[0m\n\u001B[0;32m     66\u001B[0m             \u001B[1;31m# Check that all the required fields for generating a token exist\u001B[0m\u001B[1;33m\u001B[0m\u001B[1;33m\u001B[0m\u001B[1;33m\u001B[0m\u001B[0m\n\u001B[1;32m---> 67\u001B[1;33m             cls.__check_required_fields(configuration, [\n\u001B[0m\u001B[0;32m     68\u001B[0m                 \u001B[1;34m\"api_url\"\u001B[0m\u001B[1;33m,\u001B[0m\u001B[1;33m\u001B[0m\u001B[1;33m\u001B[0m\u001B[0m\n\u001B[0;32m     69\u001B[0m                 \u001B[1;34m\"password\"\u001B[0m\u001B[1;33m,\u001B[0m\u001B[1;33m\u001B[0m\u001B[1;33m\u001B[0m\u001B[0m\n",
      "\u001B[1;32mc:\\codebase\\enviroments\\envo1\\lib\\site-packages\\lusid\\utilities\\api_client_builder.py\u001B[0m in \u001B[0;36m__check_required_fields\u001B[1;34m(object_to_check, fields)\u001B[0m\n\u001B[0;32m     31\u001B[0m         \u001B[1;31m# Raise an error if any fields have a value of None\u001B[0m\u001B[1;33m\u001B[0m\u001B[1;33m\u001B[0m\u001B[1;33m\u001B[0m\u001B[0m\n\u001B[0;32m     32\u001B[0m         \u001B[1;32mif\u001B[0m \u001B[0mlen\u001B[0m\u001B[1;33m(\u001B[0m\u001B[0mmissing_fields\u001B[0m\u001B[1;33m)\u001B[0m \u001B[1;33m>\u001B[0m \u001B[1;36m0\u001B[0m\u001B[1;33m:\u001B[0m\u001B[1;33m\u001B[0m\u001B[1;33m\u001B[0m\u001B[0m\n\u001B[1;32m---> 33\u001B[1;33m             raise ValueError(\n\u001B[0m\u001B[0;32m     34\u001B[0m                 \u001B[1;34mf\"The fields {str(missing_fields)} on the {object_to_check.__class__.__name__} are set to None, \"\u001B[0m\u001B[1;33m\u001B[0m\u001B[1;33m\u001B[0m\u001B[0m\n\u001B[0;32m     35\u001B[0m                 \u001B[1;34mf\"please ensure that you have provided them directly, via a secrets file or environment \"\u001B[0m\u001B[1;33m\u001B[0m\u001B[1;33m\u001B[0m\u001B[0m\n",
      "\u001B[1;31mValueError\u001B[0m: The fields ['api_url', 'password', 'username', 'client_id', 'client_secret', 'token_url'] on the ApiConfiguration are set to None, please ensure that you have provided them directly, via a secrets file or environment variables"
     ]
    }
   ],
   "source": [
    "# Authenticate our user and create our API client\n",
    "secrets_path = os.getenv(\"FBN_SECRETS_PATH\")\n",
    "\n",
    "api_factory = lusid.utilities.ApiClientFactory(\n",
    "    token=RefreshingToken(),\n",
    "    api_secrets_filename=secrets_path,\n",
    "    app_name=\"LusidJupyterNotebook\",)\n",
    "\n",
    "transactions_api= api_factory.build(lusid.TransactionPortfoliosApi)\n",
    "quotes_api = api_factory.build(lusid.QuotesApi)\n",
    "instruments_api = api_factory.build(lusid.InstrumentsApi)\n",
    "configuration_recipe_api = api_factory.build(lusid.ConfigurationRecipeApi)\n",
    "portfolios_api=api_factory.build(lusid.PortfoliosApi)\n",
    "file_path= 'data/Fwd_data/fx_fwd_sample.csv'"
   ]
  },
  {
   "cell_type": "markdown",
   "id": "indoor-parks",
   "metadata": {},
   "source": [
    "# 1.Setup"
   ]
  },
  {
   "cell_type": "markdown",
   "id": "8f833824",
   "metadata": {},
   "source": [
    "## 1.1 Create portfolio"
   ]
  },
  {
   "cell_type": "markdown",
   "id": "stupid-automation",
   "metadata": {},
   "source": [
    "Create a portfolio in Lusid to hold the Fx Forwards. To do this, we use the <a id='https://www.lusid.com/docs/api#tag/Transaction-Portfolios'>Transaction Portfolios API</a>."
   ]
  },
  {
   "cell_type": "code",
   "execution_count": null,
   "id": "129f8a0a",
   "metadata": {},
   "outputs": [],
   "source": [
    "def check_portfolio(code,scope):\n",
    "    try:\n",
    "        result= portfolios_api.delete_portfolio(code=code,scope=scope)\n",
    "        return 'Portfolio successfully deleted'\n",
    "    except ApiException as e:\n",
    "        return 'Portfolio does not yet exist'        "
   ]
  },
  {
   "cell_type": "code",
   "execution_count": null,
   "id": "c7c94b23",
   "metadata": {},
   "outputs": [],
   "source": [
    "Port_scope='FX_FW_Transact'\n",
    "Holding_scope= Port_scope\n",
    "Port1_Code= 'Fx_Port'"
   ]
  },
  {
   "cell_type": "code",
   "execution_count": null,
   "id": "overhead-remainder",
   "metadata": {},
   "outputs": [],
   "source": [
    "def create_portfolio(scope='',display_name='',base_currency='GBP'):\n",
    "    Port_code=Port1_Code\n",
    "    check_portfolio(Port_code,scope)\n",
    "    request= lm.CreateTransactionPortfolioRequest(\n",
    "        display_name=display_name,\n",
    "        code=Port_code,\n",
    "        base_currency=base_currency,\n",
    "        created=str(date(2020,1,1)))\n",
    "    try:\n",
    "        result = transactions_api.create_portfolio(\n",
    "            scope=scope,\n",
    "            create_transaction_portfolio_request=request)\n",
    "        return result\n",
    "    except ApiException as e:\n",
    "        display(json.loads(e.body)[\"title\"])"
   ]
  },
  {
   "cell_type": "code",
   "execution_count": null,
   "id": "literary-filling",
   "metadata": {},
   "outputs": [],
   "source": [
    "Port1_details= create_portfolio(scope=Port_scope,display_name='Transaction_Port',base_currency='GBP')"
   ]
  },
  {
   "cell_type": "markdown",
   "id": "excited-dimension",
   "metadata": {},
   "source": [
    "## 1.2 Fund Portfolio with cash"
   ]
  },
  {
   "cell_type": "markdown",
   "id": "sixth-school",
   "metadata": {},
   "source": [
    "Fund portfolio with initial an cash balance. This is done by upserting a 'FundsIn' transaction of 10000 units of GBP"
   ]
  },
  {
   "cell_type": "code",
   "execution_count": null,
   "id": "distinct-tender",
   "metadata": {},
   "outputs": [],
   "source": [
    "def fund_portfolio(port_code):\n",
    "    request=lm.TransactionRequest(\n",
    "    transaction_id='Intial_funding',\n",
    "    type='FundsIn',\n",
    "    instrument_identifiers= {\"Instrument/default/Currency\":'GBP'},\n",
    "    transaction_date= str(date(2020,1,1)),\n",
    "    settlement_date= str(date(2020,1,1)),\n",
    "    units=10000,\n",
    "    total_consideration= lm.CurrencyAndAmount(10000,'GBP')\n",
    "    )\n",
    "    response = transactions_api.upsert_transactions('FX_FW_Transact',\n",
    "                                                   Port1_Code,\n",
    "                                                   transaction_request=[request])\n",
    "    response= response.to_dict()\n",
    "    \n",
    "    return {'response link':response['links'][2]['href']}\n",
    "       "
   ]
  },
  {
   "cell_type": "code",
   "execution_count": null,
   "id": "involved-thinking",
   "metadata": {},
   "outputs": [],
   "source": [
    "fund_portfolio(Port1_Code)"
   ]
  },
  {
   "cell_type": "markdown",
   "id": "aed6bfdb",
   "metadata": {},
   "source": [
    "## 2. Load Fx Forward as Holding"
   ]
  },
  {
   "cell_type": "markdown",
   "id": "dfee0da5",
   "metadata": {},
   "source": [
    "Load FX Forward as holdings- each leg of the forward is loaded in as a tax lot, joined by \"Holding/default/ForwardTransactionId\" property. This is done using  <a id='https://www.lusid.com/docs/api#operation/AdjustHoldings'>Adjust Holdings</a> . you can learn more about the Transaction Portfolios data model <a id='https://www.lusid.com/docs/api#section/Data-Model/Transaction-Portfolios'>here</a>."
   ]
  },
  {
   "cell_type": "code",
   "execution_count": null,
   "id": "1f08617a",
   "metadata": {},
   "outputs": [],
   "source": [
    "class FxForwardHoldingLoader():\n",
    "    \n",
    "    def __init__(self, filename,api_factory, scope, portfolio, property_scope):\n",
    "        self.filename = filename\n",
    "        self.scope = scope\n",
    "        self.portfolio = portfolio\n",
    "        self.property_scope = property_scope\n",
    "        self.transaction_portfolios_api = api_factory.build(api.TransactionPortfoliosApi)\n",
    "\n",
    "        fwd_leg_df= pd.read_csv(self.filename)\n",
    "    \n",
    "    '''Submit adjust fx forward holdings requests'''\n",
    "    def adjust_fx_forward_holdings(self, effective_at, adjust_holdings_requests):\n",
    "        display(lusid_response_to_data_frame(adjust_holdings_requests))\n",
    "        response = self.transaction_portfolios_api.adjust_holdings(\n",
    "                scope=self.scope,\n",
    "                code=self.portfolio,\n",
    "                effective_at = effective_at,\n",
    "                adjust_holding_request=adjust_holdings_requests,\n",
    "                reconciliation_methods=[\"FxForward\"]\n",
    "            )\n",
    "        response= response.to_dict()\n",
    "        display({'response link':response['links'][2]['href']})\n",
    "\n",
    "\n",
    "    ''' Create fx forward adjust holding requests from a single Tradar entry for a Fwd'''\n",
    "    def _create_adjust_holdings_requests(self, fx_fwd):\n",
    "        adjust_holdings_requests = [\n",
    "            # create dom ccy fwd request\n",
    "            self._create_adj_holding_request(fx_fwd, True),\n",
    "            # create dom ccy fgn request\n",
    "            self._create_adj_holding_request(fx_fwd, False)\n",
    "        ]\n",
    "        return adjust_holdings_requests;\n",
    "\n",
    "    def _create_adj_holding_request(self, fwd_leg_df, is_dom=True):\n",
    "        ccy = fwd_leg_df[\"Ccy\"] if is_dom else fwd_leg_df[\"Ccy2\"]\n",
    "        purchase_date = pd.to_datetime(fwd_leg_df['TradeDate'], utc=True, format=DATE_FORMAT).isoformat()\n",
    "        settlement_date = pd.to_datetime('1/5/2021', utc=True, format=DATE_FORMAT).isoformat()\n",
    "        instrument_identifiers = {\n",
    "            'Instrument/default/Currency': ccy\n",
    "        }\n",
    "        properties = {\n",
    "            # crucial fxforward property to link both legs of fx forward\n",
    "            \"Holding/default/ForwardTransactionId\":\n",
    "                self._create_perp_property(\"Holding/default/ForwardTransactionId\", fwd_leg_df[\"TradeNumber\"])\n",
    "        }\n",
    "        tax_lots = [\n",
    "\n",
    "            # leg\n",
    "            lm.TargetTaxLotRequest(\n",
    "                ####The number of units of the instrument in this tax-lot.\n",
    "                units=(fwd_leg_df[\"CcyAmount\"]*-1) if not is_dom else fwd_leg_df[\"Ccy2Amount\"],\n",
    "                #### Cost- An amount of a specific currency, specifying a value and an associated unit\n",
    "                cost=lm.CurrencyAndAmount((fwd_leg_df[\"CcyAmount\"]*-1), fwd_leg_df[\"Ccy\"]) if not is_dom else lm.CurrencyAndAmount(\n",
    "                    fwd_leg_df[\"Ccy2Amount\"], fwd_leg_df[\"Ccy2\"]),\n",
    "                ###The total cost of the tax-lot in the transaction portfolio's base currency.\n",
    "                portfolio_cost=fwd_leg_df[\"CostFC\"],\n",
    "                #### The purchase price of each unit of the instrument held in this tax-lot. This forms part of the unique key required for multiple tax-lots.\n",
    "                price=fwd_leg_df[\"Price\"],\n",
    "                #### The purchase date of this tax-lot. This forms part of the unique key required for multiple tax-lots.\n",
    "                purchase_date=purchase_date,\n",
    "                #####The settlement date of the tax-lot's opening transaction.\n",
    "                settlement_date=settlement_date,\n",
    "            )\n",
    "        ]\n",
    "        sub_holding_keys=None\n",
    "        return lm.AdjustHoldingRequest(\n",
    "            instrument_identifiers,\n",
    "            sub_holding_keys,\n",
    "            properties,\n",
    "            tax_lots\n",
    "        )\n",
    "\n",
    "    def _create_perp_property(self, key, value):\n",
    "        return  lm.PerpetualProperty(key, lm.PropertyValue(label_value=value))"
   ]
  },
  {
   "cell_type": "code",
   "execution_count": null,
   "id": "6f9a7d0e",
   "metadata": {},
   "outputs": [],
   "source": [
    "DATE_FORMAT = '%d/%m/%Y'\n",
    "\n",
    "Port_scope='FX_FW_Transact'\n",
    "Holding_scope= Port_scope\n",
    "\n",
    "# setup loader\n",
    "fx_forward_holding_loaders = FxForwardHoldingLoader(file_path,\n",
    "                                                    api_factory, \n",
    "                                                    Port_scope, \n",
    "                                                    'Fx_Port', \n",
    "                                                    Holding_scope)\n",
    "fx_fwds=pd.read_csv(file_path)\n",
    "# construct fx fwd requests\n",
    "\n",
    "effective_at = str(date(2021,3,28))\n",
    "fx_fwd_requests = [fx_forward_holding_loaders._create_adjust_holdings_requests(fx_fwd) \n",
    "                   for i, fx_fwd in fx_fwds.iterrows()][0]\n",
    "    \n",
    "# submit fx fwd requests as adjustments (not setting holdings)\n",
    "fx_forward_holding_loaders.adjust_fx_forward_holdings(effective_at, fx_fwd_requests)"
   ]
  },
  {
   "cell_type": "markdown",
   "id": "intense-collection",
   "metadata": {},
   "source": [
    "## 3. Upsert FX Forward position as Transaction"
   ]
  },
  {
   "cell_type": "markdown",
   "id": "reverse-stack",
   "metadata": {},
   "source": [
    "Function to upsert an fx forward position as a transaction to the portfolio created above. This will create\n",
    "separate cash balances with holding type F which will be booked at maturity."
   ]
  },
  {
   "cell_type": "code",
   "execution_count": null,
   "id": "married-subscription",
   "metadata": {},
   "outputs": [],
   "source": [
    "def upsert_fx(filename):\n",
    "    swap_df=pd.read_csv(filename)\n",
    "    T_id= 'Transaction_1'\n",
    "    request= lm.TransactionRequest(\n",
    "    transaction_id=T_id,\n",
    "    type=\"FwdFxBuy\",\n",
    "    instrument_identifiers={\"Instrument/default/Currency\": swap_df['Ccy'].item()},\n",
    "    transaction_date=str(date(2021,4,1)) ,\n",
    "    settlement_date=str(date(2021,5,1)),\n",
    "    units=swap_df['CcyAmount'].item(),\n",
    "    transaction_price=lm.TransactionPrice(1,'Price'),\n",
    "    total_consideration=lm.CurrencyAndAmount(swap_df['Ccy2Amount'].item(),swap_df['Ccy2'].item()))\n",
    "    response= transactions_api.upsert_transactions('FX_FW_Transact',\n",
    "                                                   Port1_Code,\n",
    "                                                   transaction_request=[request])\n",
    "    response= response.to_dict()\n",
    "    return {'response link':response['links'][2]['href']}"
   ]
  },
  {
   "cell_type": "code",
   "execution_count": null,
   "id": "ordinary-worry",
   "metadata": {},
   "outputs": [],
   "source": [
    "upsert_fx(file_path)"
   ]
  },
  {
   "cell_type": "markdown",
   "id": "executive-treasury",
   "metadata": {},
   "source": [
    "## 4. Valuation"
   ]
  },
  {
   "cell_type": "markdown",
   "id": "cleared-residence",
   "metadata": {},
   "source": [
    "Upsert quotes for fwd rates this will be an input for the valuation we are running at the end"
   ]
  },
  {
   "cell_type": "markdown",
   "id": "competent-aside",
   "metadata": {},
   "source": [
    "### 4.1 Load FWD Rate"
   ]
  },
  {
   "cell_type": "code",
   "execution_count": null,
   "id": "twelve-substance",
   "metadata": {},
   "outputs": [],
   "source": [
    "# set up the quotes\n",
    "DATE_FORMAT = '%d/%m/%Y'\n",
    "effective_date = pd.to_datetime('1/4/2021', utc=True, format=DATE_FORMAT).isoformat()\n",
    "fx_fwd_series_id = lm.QuoteSeriesId(\n",
    "    provider=\"Lusid\",\n",
    "    instrument_id=\"GBP/USD/FxFwdRate/20210501\",\n",
    "    instrument_id_type=\"LusidInstrumentId\",\n",
    "    quote_type=\"Price\",\n",
    "    field=\"mid\"\n",
    ")\n",
    "\n",
    "fx_fwd_quote = lm.QuoteId(\n",
    "    quote_series_id=fx_fwd_series_id,\n",
    "    effective_at=effective_date\n",
    ")\n",
    "\n",
    "fx_fwd_quote_request = lm.UpsertQuoteRequest(\n",
    "    quote_id=fx_fwd_quote,\n",
    "    metric_value=lm.MetricValue(\n",
    "        value=1.6, unit=\"USD\"),\n",
    "    lineage=\"default\"\n",
    ")\n",
    "\n",
    "response = quotes_api.upsert_quotes(scope=\"FxData\",\n",
    "                                     request_body={\"1\": fx_fwd_quote_request}\n",
    "                                     )\n",
    "display(lusid_response_to_data_frame(response))"
   ]
  },
  {
   "cell_type": "code",
   "execution_count": null,
   "id": "28bc433e",
   "metadata": {},
   "outputs": [],
   "source": [
    "# set up the quotes\n",
    "effective_date = pd.to_datetime('3/4/2021', utc=True, format=DATE_FORMAT).isoformat()\n",
    "fx_fwd_series_id = lm.QuoteSeriesId(\n",
    "    provider=\"Lusid\",\n",
    "    instrument_id=\"GBP/USD/FxFwdRate/20210501\",\n",
    "    instrument_id_type=\"LusidInstrumentId\",\n",
    "    quote_type=\"Price\",\n",
    "    field=\"mid\"\n",
    ")\n",
    "\n",
    "fx_fwd_quote = lm.QuoteId(\n",
    "    quote_series_id=fx_fwd_series_id,\n",
    "    effective_at=effective_date\n",
    ")\n",
    "\n",
    "fx_fwd_quote_request = lm.UpsertQuoteRequest(\n",
    "    quote_id=fx_fwd_quote,\n",
    "    metric_value=lm.MetricValue(\n",
    "        value=1.6, unit=\"USD\"),\n",
    "    lineage=\"default\"\n",
    ")\n",
    "\n",
    "response = quotes_api.upsert_quotes(scope=\"FxData\",\n",
    "                                     request_body={\"1\": fx_fwd_quote_request}\n",
    "                                     )\n",
    "display(lusid_response_to_data_frame(response))"
   ]
  },
  {
   "cell_type": "markdown",
   "id": "retained-morocco",
   "metadata": {},
   "source": [
    "### 4.2 Quote for spot"
   ]
  },
  {
   "cell_type": "code",
   "execution_count": null,
   "id": "drawn-jason",
   "metadata": {},
   "outputs": [],
   "source": [
    "# set up the quotes\n",
    "effective_date = str(date(2021, 5, 1))\n",
    "fx_fwd_series_id = lm.QuoteSeriesId(\n",
    "    provider=\"Lusid\",\n",
    "    instrument_id=\"GBP/USD\",\n",
    "    instrument_id_type=\"CurrencyPair\",\n",
    "    quote_type=\"Price\",\n",
    "    field=\"mid\"\n",
    ")\n",
    "\n",
    "fx_fwd_quote = lm.QuoteId(\n",
    "    quote_series_id=fx_fwd_series_id,\n",
    "    effective_at=effective_date\n",
    ")\n",
    "\n",
    "fx_fwd_quote_request = lm.UpsertQuoteRequest(\n",
    "    quote_id=fx_fwd_quote,\n",
    "    metric_value=lm.MetricValue(\n",
    "        value=1.41, unit=\"USD\"),\n",
    "    lineage=\"default\"\n",
    ")\n",
    "\n",
    "response = quotes_api.upsert_quotes(scope=\"FxData\",\n",
    "                                     request_body={\"1\": fx_fwd_quote_request}\n",
    "                                     )\n",
    "display(lusid_response_to_data_frame(response))"
   ]
  },
  {
   "cell_type": "markdown",
   "id": "legal-enclosure",
   "metadata": {},
   "source": [
    "## 4.3 Define Recipe for valuation"
   ]
  },
  {
   "cell_type": "markdown",
   "id": "different-myanmar",
   "metadata": {},
   "source": [
    "Define the Recipe that will be used by the Aggregation engine to calculate a valuation for the portfolio. You can learn more about recipes <a id='https://support.lusid.com/knowledgebase/article/KA-01895/en-us'>here</a>."
   ]
  },
  {
   "cell_type": "code",
   "execution_count": null,
   "id": "computational-given",
   "metadata": {},
   "outputs": [],
   "source": [
    "recipe_scope=\"Finbourne-Examples\"\n",
    "recipe_code=\"FxForwards\"\n",
    "\n",
    "config_recipe = lm.ConfigurationRecipe(\n",
    "        scope=recipe_scope,\n",
    "        code=recipe_code,\n",
    "        market=lm.MarketContext(\n",
    "            market_rules=[\n",
    "                lm.MarketDataKeyRule(\n",
    "                    key='Fx.CurrencyPair.*',\n",
    "                    data_scope='FxData',\n",
    "                    supplier='Lusid',\n",
    "                    quote_type='Price',\n",
    "                    quote_interval='1D.0D',\n",
    "                    field='mid'),\n",
    "                lm.MarketDataKeyRule(\n",
    "                    key='Fx.*.*',\n",
    "                    data_scope='FxData',\n",
    "                    supplier='Lusid',\n",
    "                    quote_type='Price',\n",
    "                    quote_interval='1D.0D',\n",
    "                    field='mid'),\n",
    "                  lm.MarketDataKeyRule(\n",
    "                    key='Equity.*.*',\n",
    "                    data_scope='FxData',\n",
    "                    supplier='Lusid',\n",
    "                    quote_type='Price',\n",
    "                    quote_interval='1D.0D',\n",
    "                    field='mid'), \n",
    "            ],\n",
    "            options=lm.MarketOptions(\n",
    "                default_supplier='Lusid',\n",
    "                default_instrument_code_type='Figi',\n",
    "                default_scope='Lusid',\n",
    "                attempt_to_infer_missing_fx=True\n",
    "            ),\n",
    "        ),\n",
    "        pricing=lm.PricingContext(\n",
    "            options=lm.PricingOptions(\n",
    "                model_selection=lm.ModelSelection(\n",
    "                    library=\"Lusid\",\n",
    "                    model=\"ForwardSpecifiedRateUndiscounted\"\n",
    "                ),\n",
    "                produce_separate_result_for_linear_otc_legs=True,\n",
    "            )),\n",
    "        description=\"ifrs test\"\n",
    "    )\n",
    "\n",
    "response = configuration_recipe_api.upsert_configuration_recipe(\n",
    "    lm.UpsertRecipeRequest(configuration_recipe=config_recipe)\n",
    ")\n",
    "display(lusid_response_to_data_frame(response))"
   ]
  },
  {
   "cell_type": "markdown",
   "id": "chronic-bidder",
   "metadata": {},
   "source": [
    "## 4.4. Run Valuation"
   ]
  },
  {
   "cell_type": "markdown",
   "id": "vocational-holiday",
   "metadata": {},
   "source": [
    "Construct a valuation request specifying which metrics we would like included. This request is then passed to the Lusid aggregation API."
   ]
  },
  {
   "cell_type": "code",
   "execution_count": null,
   "id": "general-accounting",
   "metadata": {},
   "outputs": [],
   "source": [
    "valuation_date = str(date(2021, 4, 4))\n",
    "\n",
    "# Create the valuation request\n",
    "valuation_request = lm.ValuationRequest(\n",
    "    recipe_id= lm.ResourceId(scope= recipe_scope, code=recipe_code),\n",
    "    metrics=[\n",
    "        lm.AggregateSpec(\"Holding/default/PV\", \"Value\"),\n",
    "        lm.AggregateSpec(\"Valuation/PV/Ccy\", \"Value\"),\n",
    "    ],\n",
    "#     group_by=[\"Valuation/PV/Ccy\",\"Instrument/OTC/InstrumentLeg/DomCcy\", \"Instrument/OTC/InstrumentLeg/PayReceive\"],\n",
    "    portfolio_entity_ids=[lm.PortfolioEntityId(\n",
    "        scope='FX_FW_Transact', \n",
    "        code=Port1_Code)\n",
    "                         ],\n",
    "    valuation_schedule=lm.ValuationSchedule(effective_at=valuation_date)\n",
    ")\n",
    "\n",
    "# Perform a valuation\n",
    "valuation = api_factory.build(lusid.api.AggregationApi).get_valuation(\n",
    "    valuation_request=valuation_request)\n",
    "\n",
    "#print(valuation)\n",
    "Valuations = pd.DataFrame(valuation.data)"
   ]
  },
  {
   "cell_type": "markdown",
   "id": "computational-branch",
   "metadata": {},
   "source": [
    "## Valuation Output"
   ]
  },
  {
   "cell_type": "markdown",
   "id": "clear-tribune",
   "metadata": {},
   "source": [
    "Returns the valuation metrics as a dataframe. PV of the forward position is shown in forward space (valuation is converted back to GBP using the fwd rate)."
   ]
  },
  {
   "cell_type": "code",
   "execution_count": null,
   "id": "german-thomson",
   "metadata": {
    "scrolled": true
   },
   "outputs": [],
   "source": [
    "Valuations"
   ]
  },
  {
   "cell_type": "markdown",
   "id": "ee037913",
   "metadata": {},
   "source": [
    "# Get Holdings"
   ]
  },
  {
   "cell_type": "code",
   "execution_count": null,
   "id": "f52c5861",
   "metadata": {},
   "outputs": [],
   "source": [
    "df=lusid_response_to_data_frame(transactions_api.get_holdings(scope='FX_FW_Transact',code='Fx_Port',effective_at=date(2021, 4, 4)))\n",
    "\n",
    "df=df[['holding_type','units', 'settled_units', 'currency','transaction.settlement_date', 'transaction.properties']]\n",
    "df"
   ]
  },
  {
   "cell_type": "code",
   "execution_count": null,
   "id": "7586c130",
   "metadata": {},
   "outputs": [],
   "source": [
    "##Querying for holdings after the settlement date of the forwards, notice how LUSID has automatically moved the cash into settled cash buckets\n",
    "\n",
    "df=lusid_response_to_data_frame(transactions_api.get_holdings(scope='FX_FW_Transact',code='Fx_Port',effective_at=date(2021, 5, 2)))\n",
    "\n",
    "df=df[['holding_type','units', 'settled_units', 'currency']]\n",
    "df"
   ]
  },
  {
   "cell_type": "code",
   "execution_count": null,
   "id": "f4b913a0",
   "metadata": {},
   "outputs": [],
   "source": []
  }
 ],
 "metadata": {
  "kernelspec": {
   "display_name": "Python 3 (ipykernel)",
   "language": "python",
   "name": "python3"
  },
  "language_info": {
   "codemirror_mode": {
    "name": "ipython",
    "version": 3
   },
   "file_extension": ".py",
   "mimetype": "text/x-python",
   "name": "python",
   "nbconvert_exporter": "python",
   "pygments_lexer": "ipython3",
   "version": "3.7.3"
  }
 },
 "nbformat": 4,
 "nbformat_minor": 5
}