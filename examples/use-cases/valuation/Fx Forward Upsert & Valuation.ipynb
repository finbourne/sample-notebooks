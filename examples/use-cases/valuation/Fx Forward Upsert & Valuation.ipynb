{
 "cells": [
  {
   "cell_type": "markdown",
   "id": "f71b39ad",
   "metadata": {},
   "source": [
    "# Fx Forward Upsert and Valuation example notebook"
   ]
  },
  {
   "cell_type": "markdown",
   "id": "b0e2ab0f",
   "metadata": {},
   "source": [
    "This notebook displays the upsert and valuation functionality in Lusid in the context of FX forwards. We will be upserting the forwards as transactions and as holdings. Finally, we will define a LUSID recipe and run valuations"
   ]
  },
  {
   "cell_type": "markdown",
   "id": "1c624521",
   "metadata": {},
   "source": [
    "**Table of contents**<a id='toc0_'></a>    \n",
    "1. [Setup](#toc1_)    \n",
    "1.1. [Create portfolio](#toc1_1_)    \n",
    "1.2. [Fund Portfolio with cash](#toc1_2_)    \n",
    "2. [Load Fx Forward as Holding](#toc2_)    \n",
    "3. [Upsert FX Forward position as Transaction](#toc3_)    \n",
    "4. [Upsert Quotes and Rates](#toc4_)    \n",
    "4.1. [Load FWD Rate](#toc4_1_)    \n",
    "4.2. [Quote for spot](#toc4_2_)    \n",
    "5. [Valuation](#toc5_)    \n",
    "5.1. [Define Recipes for valuation](#toc5_1_)    \n",
    "5.2. [Valuation Function](#toc5_2_)    \n",
    "5.3. [Run valuation](#toc5_3_)    \n",
    "5.4. [Run valuation with seperate results for Linear Legs](#toc5_4_)    \n",
    "6. [Fx Forward as Cash](#toc6_)    \n",
    "\n",
    "<!-- vscode-jupyter-toc-config\n",
    "\tnumbering=true\n",
    "\tanchor=true\n",
    "\tflat=true\n",
    "\tminLevel=2\n",
    "\tmaxLevel=3\n",
    "\t/vscode-jupyter-toc-config -->\n",
    "<!-- THIS CELL WILL BE REPLACED ON TOC UPDATE. DO NOT WRITE YOUR TEXT IN THIS CELL -->"
   ]
  },
  {
   "cell_type": "code",
   "execution_count": null,
   "id": "edc2ae49",
   "metadata": {},
   "outputs": [],
   "source": [
    "from lusidtools.jupyter_tools import toggle_code\n",
    "\n",
    "\"\"\"Fx Forward upsert and valuation in Lusid\n",
    "\n",
    "Attributes\n",
    "----------\n",
    "Transaction Portfolios\n",
    "Quotes\n",
    "Holdings\n",
    "Transactions\n",
    "Valuation\n",
    "\"\"\"\n",
    "\n",
    "toggle_code(\"Toggle Docstring\")\n"
   ]
  },
  {
   "cell_type": "code",
   "execution_count": null,
   "id": "74d57b2f",
   "metadata": {},
   "outputs": [],
   "source": [
    "import os\n",
    "import lusid\n",
    "import lusid.models as lm\n",
    "from lusid.utilities import ApiClientFactory\n",
    "from lusid import api\n",
    "from lusidjam import RefreshingToken\n",
    "import pandas as pd\n",
    "from datetime import date\n",
    "from lusidtools.pandas_utils.lusid_pandas import lusid_response_to_data_frame\n",
    "import json\n",
    "from lusid import ApiException"
   ]
  },
  {
   "cell_type": "code",
   "execution_count": null,
   "id": "0c3a03bb",
   "metadata": {},
   "outputs": [],
   "source": [
    "# Authenticate our user and create our API client\n",
    "secrets_path = os.getenv(\"FBN_SECRETS_PATH\")\n",
    "\n",
    "api_factory = lusid.utilities.ApiClientFactory(\n",
    "    token=RefreshingToken(),\n",
    "    api_secrets_filename=secrets_path,\n",
    "    app_name=\"LusidJupyterNotebook\",)\n",
    "\n",
    "transactions_api= api_factory.build(lusid.TransactionPortfoliosApi)\n",
    "quotes_api = api_factory.build(lusid.QuotesApi)\n",
    "instruments_api = api_factory.build(lusid.InstrumentsApi)\n",
    "configuration_recipe_api = api_factory.build(lusid.ConfigurationRecipeApi)\n",
    "portfolios_api=api_factory.build(lusid.PortfoliosApi)\n",
    "file_path= 'data/Fwd_data/fx_fwd_sample.csv'"
   ]
  },
  {
   "cell_type": "markdown",
   "id": "63e53cae",
   "metadata": {},
   "source": [
    "## 1. <a id='toc1_'></a>[Setup](#toc0_)"
   ]
  },
  {
   "cell_type": "markdown",
   "id": "1311126c",
   "metadata": {},
   "source": [
    "### 1.1. <a id='toc1_1_'></a>[Create portfolio](#toc0_)"
   ]
  },
  {
   "cell_type": "markdown",
   "id": "9745b43c",
   "metadata": {},
   "source": [
    "Create a portfolio in Lusid to hold the Fx Forwards. To do this, we use the <a id='https://www.lusid.com/docs/api#tag/Transaction-Portfolios'>Transaction Portfolios API</a>."
   ]
  },
  {
   "cell_type": "code",
   "execution_count": null,
   "id": "755cf9ba",
   "metadata": {},
   "outputs": [],
   "source": [
    "def check_portfolio(code,scope):\n",
    "    try:\n",
    "        result= portfolios_api.delete_portfolio(code=code,scope=scope)\n",
    "        return 'Portfolio successfully deleted'\n",
    "    except ApiException as e:\n",
    "        return 'Portfolio does not yet exist'        "
   ]
  },
  {
   "cell_type": "code",
   "execution_count": null,
   "id": "8031b003",
   "metadata": {},
   "outputs": [],
   "source": [
    "Port_scope='FX_FW_Transact'\n",
    "Holding_scope= Port_scope\n",
    "Port1_Code= 'Fx_Port'"
   ]
  },
  {
   "cell_type": "code",
   "execution_count": null,
   "id": "980abed1",
   "metadata": {},
   "outputs": [],
   "source": [
    "def create_portfolio(scope='',display_name='',base_currency='GBP'):\n",
    "    Port_code=Port1_Code\n",
    "    check_portfolio(Port_code,scope)\n",
    "    request= lm.CreateTransactionPortfolioRequest(\n",
    "        display_name=display_name,\n",
    "        code=Port_code,\n",
    "        base_currency=base_currency,\n",
    "        created=str(date(2020,1,1)))\n",
    "    try:\n",
    "        result = transactions_api.create_portfolio(\n",
    "            scope=scope,\n",
    "            create_transaction_portfolio_request=request)\n",
    "        return result\n",
    "    except ApiException as e:\n",
    "        display(json.loads(e.body)[\"title\"])"
   ]
  },
  {
   "cell_type": "code",
   "execution_count": null,
   "id": "eef04655",
   "metadata": {},
   "outputs": [],
   "source": [
    "Port1_details= create_portfolio(scope=Port_scope,display_name='Transaction_Port',base_currency='GBP')"
   ]
  },
  {
   "cell_type": "markdown",
   "id": "25ec41fc",
   "metadata": {},
   "source": [
    "### 1.2. <a id='toc1_2_'></a>[Fund Portfolio with cash](#toc0_)"
   ]
  },
  {
   "cell_type": "markdown",
   "id": "35380c6c",
   "metadata": {},
   "source": [
    "Fund portfolio with initial an cash balance. This is done by upserting a 'FundsIn' transaction of 10000 units of GBP"
   ]
  },
  {
   "cell_type": "code",
   "execution_count": null,
   "id": "e0acfcea",
   "metadata": {},
   "outputs": [],
   "source": [
    "def fund_portfolio(port_code):\n",
    "    request=lm.TransactionRequest(\n",
    "    transaction_id='Intial_funding',\n",
    "    type='FundsIn',\n",
    "    instrument_identifiers= {\"Instrument/default/Currency\":'GBP'},\n",
    "    transaction_date= str(date(2020,1,1)),\n",
    "    settlement_date= str(date(2020,1,1)),\n",
    "    units=10000,\n",
    "    total_consideration= lm.CurrencyAndAmount(10000,'GBP')\n",
    "    )\n",
    "    response = transactions_api.upsert_transactions('FX_FW_Transact',\n",
    "                                                   Port1_Code,\n",
    "                                                   transaction_request=[request])\n",
    "    response= response.to_dict()\n",
    "    \n",
    "    return {'response link':response['links'][2]['href']}\n",
    "       "
   ]
  },
  {
   "cell_type": "code",
   "execution_count": null,
   "id": "3bcee3f4",
   "metadata": {},
   "outputs": [],
   "source": [
    "fund_portfolio(Port1_Code)"
   ]
  },
  {
   "cell_type": "markdown",
   "id": "45f0b16e",
   "metadata": {},
   "source": [
    "## 2. <a id='toc2_'></a>[Load Fx Forward as Holding](#toc0_)"
   ]
  },
  {
   "cell_type": "markdown",
   "id": "8289bccf",
   "metadata": {},
   "source": [
    "Load FX Forward as holdings - each leg of the forward is loaded in as a tax lot, joined by \"Holding/default/ForwardTransactionId\" property. This is done using  <a id='https://www.lusid.com/docs/api#operation/AdjustHoldings'>Adjust Holdings</a>. you can learn more about the Transaction Portfolios data model <a id='https://www.lusid.com/docs/api#section/Data-Model/Transaction-Portfolios'>here</a>."
   ]
  },
  {
   "cell_type": "code",
   "execution_count": null,
   "id": "28cea8c3",
   "metadata": {},
   "outputs": [],
   "source": [
    "class FxForwardHoldingLoader():\n",
    "    \n",
    "    def __init__(self, filename,api_factory, scope, portfolio, property_scope):\n",
    "        self.filename = filename\n",
    "        self.scope = scope\n",
    "        self.portfolio = portfolio\n",
    "        self.property_scope = property_scope\n",
    "        self.transaction_portfolios_api = api_factory.build(api.TransactionPortfoliosApi)\n",
    "\n",
    "        fwd_leg_df= pd.read_csv(self.filename)\n",
    "    \n",
    "    '''Submit adjust fx forward holdings requests'''\n",
    "    def adjust_fx_forward_holdings(self, effective_at, adjust_holdings_requests):\n",
    "        display(lusid_response_to_data_frame(adjust_holdings_requests))\n",
    "        response = self.transaction_portfolios_api.adjust_holdings(\n",
    "                scope=self.scope,\n",
    "                code=self.portfolio,\n",
    "                effective_at = effective_at,\n",
    "                adjust_holding_request=adjust_holdings_requests,\n",
    "                reconciliation_methods=[\"FxForward\"]\n",
    "            )\n",
    "        response= response.to_dict()\n",
    "        display({'response link':response['links'][2]['href']})\n",
    "\n",
    "\n",
    "    ''' Create fx forward adjust holding requests from a single Tradar entry for a Fwd'''\n",
    "    def _create_adjust_holdings_requests(self, fx_fwd):\n",
    "        adjust_holdings_requests = [\n",
    "            # create dom ccy fwd request\n",
    "            self._create_adj_holding_request(fx_fwd, True),\n",
    "            # create dom ccy fgn request\n",
    "            self._create_adj_holding_request(fx_fwd, False)\n",
    "        ]\n",
    "        return adjust_holdings_requests;\n",
    "\n",
    "    def _create_adj_holding_request(self, fwd_leg_df, is_dom=True):\n",
    "        ccy = fwd_leg_df[\"Ccy\"] if is_dom else fwd_leg_df[\"Ccy2\"]\n",
    "        purchase_date = pd.to_datetime(fwd_leg_df['TradeDate'], utc=True, format=DATE_FORMAT).isoformat()\n",
    "        settlement_date = pd.to_datetime('1/5/2021', utc=True, format=DATE_FORMAT).isoformat()\n",
    "        instrument_identifiers = {\n",
    "            'Instrument/default/Currency': ccy\n",
    "        }\n",
    "        properties = {\n",
    "            # crucial fxforward property to link both legs of fx forward\n",
    "            \"Holding/default/ForwardTransactionId\":\n",
    "                self._create_perp_property(\"Holding/default/ForwardTransactionId\", fwd_leg_df[\"TradeNumber\"])\n",
    "        }\n",
    "        tax_lots = [\n",
    "\n",
    "            # leg\n",
    "            lm.TargetTaxLotRequest(\n",
    "                ####The number of units of the instrument in this tax-lot.\n",
    "                units=(fwd_leg_df[\"CcyAmount\"]*-1) if not is_dom else fwd_leg_df[\"Ccy2Amount\"],\n",
    "                #### Cost- An amount of a specific currency, specifying a value and an associated unit\n",
    "                cost=lm.CurrencyAndAmount((fwd_leg_df[\"CcyAmount\"]*-1), fwd_leg_df[\"Ccy\"]) if not is_dom else lm.CurrencyAndAmount(\n",
    "                    fwd_leg_df[\"Ccy2Amount\"], fwd_leg_df[\"Ccy2\"]),\n",
    "                ###The total cost of the tax-lot in the transaction portfolio's base currency.\n",
    "                portfolio_cost=fwd_leg_df[\"CostFC\"],\n",
    "                #### The purchase price of each unit of the instrument held in this tax-lot. This forms part of the unique key required for multiple tax-lots.\n",
    "                price=fwd_leg_df[\"Price\"],\n",
    "                #### The purchase date of this tax-lot. This forms part of the unique key required for multiple tax-lots.\n",
    "                purchase_date=purchase_date,\n",
    "                #####The settlement date of the tax-lot's opening transaction.\n",
    "                settlement_date=settlement_date,\n",
    "            )\n",
    "        ]\n",
    "        sub_holding_keys=None\n",
    "        return lm.AdjustHoldingRequest(\n",
    "            instrument_identifiers,\n",
    "            sub_holding_keys,\n",
    "            properties,\n",
    "            tax_lots\n",
    "        )\n",
    "\n",
    "    def _create_perp_property(self, key, value):\n",
    "        return  lm.PerpetualProperty(key, lm.PropertyValue(label_value=value))"
   ]
  },
  {
   "cell_type": "code",
   "execution_count": null,
   "id": "33ea5ecd",
   "metadata": {},
   "outputs": [],
   "source": [
    "DATE_FORMAT = '%d/%m/%Y'\n",
    "\n",
    "Port_scope='FX_FW_Transact'\n",
    "Holding_scope= Port_scope\n",
    "\n",
    "# setup loader\n",
    "fx_forward_holding_loaders = FxForwardHoldingLoader(file_path,\n",
    "                                                    api_factory, \n",
    "                                                    Port_scope, \n",
    "                                                    'Fx_Port', \n",
    "                                                    Holding_scope)\n",
    "fx_fwds=pd.read_csv(file_path)\n",
    "# construct fx fwd requests\n",
    "\n",
    "effective_at = str(date(2021,3,28))\n",
    "fx_fwd_requests = [fx_forward_holding_loaders._create_adjust_holdings_requests(fx_fwd) \n",
    "                   for i, fx_fwd in fx_fwds.iterrows()][0]\n",
    "    \n",
    "# submit fx fwd requests as adjustments (not setting holdings)\n",
    "fx_forward_holding_loaders.adjust_fx_forward_holdings(effective_at, fx_fwd_requests)"
   ]
  },
  {
   "cell_type": "markdown",
   "id": "fe60153d",
   "metadata": {},
   "source": [
    "## 3. <a id='toc3_'></a>[Upsert FX Forward position as Transaction](#toc0_)"
   ]
  },
  {
   "cell_type": "markdown",
   "id": "d4a47c03",
   "metadata": {},
   "source": [
    "Function to upsert an fx forward position as a transaction to the portfolio created above. This will create\n",
    "separate cash balances with holding type F which will be booked at maturity."
   ]
  },
  {
   "cell_type": "code",
   "execution_count": null,
   "id": "aacfbb97",
   "metadata": {},
   "outputs": [],
   "source": [
    "def upsert_fx(filename):\n",
    "    swap_df=pd.read_csv(filename)\n",
    "    T_id= 'Transaction_1'\n",
    "    request= lm.TransactionRequest(\n",
    "    transaction_id=T_id,\n",
    "    type=\"FwdFxBuy\",\n",
    "    instrument_identifiers={\"Instrument/default/Currency\": swap_df['Ccy'].item()},\n",
    "    transaction_date=str(date(2021,4,1)) ,\n",
    "    settlement_date=str(date(2021,5,1)),\n",
    "    units=swap_df['CcyAmount'].item(),\n",
    "    transaction_price=lm.TransactionPrice(1,'Price'),\n",
    "    total_consideration=lm.CurrencyAndAmount(swap_df['Ccy2Amount'].item(),swap_df['Ccy2'].item()))\n",
    "    response= transactions_api.upsert_transactions('FX_FW_Transact',\n",
    "                                                   Port1_Code,\n",
    "                                                   transaction_request=[request])\n",
    "    response= response.to_dict()\n",
    "    return {\"response link\": response[\"links\"][2][\"href\"], \"transaction_id\": T_id}"
   ]
  },
  {
   "cell_type": "code",
   "execution_count": null,
   "id": "4a31b99b",
   "metadata": {},
   "outputs": [],
   "source": [
    "fx_upsert_res = upsert_fx(file_path)"
   ]
  },
  {
   "cell_type": "markdown",
   "id": "b62028c5",
   "metadata": {},
   "source": [
    "## 4. <a id='toc4_'></a>[Upsert Quotes and Rates](#toc0_)"
   ]
  },
  {
   "cell_type": "markdown",
   "id": "da92240b",
   "metadata": {},
   "source": [
    "Upsert quotes for fwd rates this will be an input for the valuation we are running at the end"
   ]
  },
  {
   "cell_type": "markdown",
   "id": "ab9750db",
   "metadata": {},
   "source": [
    "### 4.1. <a id='toc4_1_'></a>[Load FWD Rate](#toc0_)"
   ]
  },
  {
   "cell_type": "code",
   "execution_count": null,
   "id": "04257261",
   "metadata": {},
   "outputs": [],
   "source": [
    "# set up the quotes\n",
    "effective_date = str(date(2021, 4, 4))\n",
    "fx_fwd_series_id = lm.QuoteSeriesId(\n",
    "    provider=\"Lusid\",\n",
    "    instrument_id=\"GBP/USD/FxFwdRate/20210501\",\n",
    "    instrument_id_type=\"LusidInstrumentId\",\n",
    "    quote_type=\"Price\",\n",
    "    field=\"mid\"\n",
    ")\n",
    "\n",
    "fx_fwd_quote = lm.QuoteId(\n",
    "    quote_series_id=fx_fwd_series_id,\n",
    "    effective_at=effective_date\n",
    ")\n",
    "\n",
    "fx_fwd_quote_request = lm.UpsertQuoteRequest(\n",
    "    quote_id=fx_fwd_quote,\n",
    "    metric_value=lm.MetricValue(\n",
    "        value=1.6, unit=\"USD\"),\n",
    "    lineage=\"default\"\n",
    ")\n",
    "\n",
    "response = quotes_api.upsert_quotes(scope=\"FxData\",\n",
    "                                     request_body={\"1\": fx_fwd_quote_request}\n",
    "                                     )\n",
    "display(lusid_response_to_data_frame(response))"
   ]
  },
  {
   "cell_type": "markdown",
   "id": "8fde3c04",
   "metadata": {},
   "source": [
    "### 4.2. <a id='toc4_2_'></a>[Quote for spot](#toc0_)"
   ]
  },
  {
   "cell_type": "code",
   "execution_count": null,
   "id": "06efcb0a",
   "metadata": {},
   "outputs": [],
   "source": [
    "# set up the quotes\n",
    "effective_date = str(date(2021, 4, 4))\n",
    "fx_fwd_series_id = lm.QuoteSeriesId(\n",
    "    provider=\"Lusid\",\n",
    "    instrument_id=\"GBP/USD\",\n",
    "    instrument_id_type=\"CurrencyPair\",\n",
    "    quote_type=\"Price\",\n",
    "    field=\"mid\"\n",
    ")\n",
    "\n",
    "fx_fwd_quote = lm.QuoteId(\n",
    "    quote_series_id=fx_fwd_series_id,\n",
    "    effective_at=effective_date\n",
    ")\n",
    "\n",
    "fx_fwd_quote_request = lm.UpsertQuoteRequest(\n",
    "    quote_id=fx_fwd_quote,\n",
    "    metric_value=lm.MetricValue(\n",
    "        value=1.41, unit=\"USD\"),\n",
    "    lineage=\"default\"\n",
    ")\n",
    "\n",
    "response = quotes_api.upsert_quotes(scope=\"FxData\",\n",
    "                                     request_body={\"1\": fx_fwd_quote_request}\n",
    "                                     )\n",
    "display(lusid_response_to_data_frame(response))"
   ]
  },
  {
   "cell_type": "markdown",
   "id": "5a69f4a5",
   "metadata": {},
   "source": [
    "## 5. <a id='toc5_'></a>[Valuation](#toc0_)"
   ]
  },
  {
   "cell_type": "markdown",
   "id": "2e1c1a9e",
   "metadata": {},
   "source": [
    "### 5.1. <a id='toc5_1_'></a>[Define Recipes for valuation](#toc0_)"
   ]
  },
  {
   "cell_type": "markdown",
   "id": "16708fa2",
   "metadata": {},
   "source": [
    "In this step we define the Recipe that will be used by the Aggregation engine to calculate a valuation for the portfolio. You can learn more about recipes <a id='https://support.lusid.com/knowledgebase/article/KA-01895/en-us'>here</a>."
   ]
  },
  {
   "cell_type": "markdown",
   "id": "4ead0409",
   "metadata": {},
   "source": [
    "First, we define a helper function that stores the common characteristics between both recipes:"
   ]
  },
  {
   "cell_type": "code",
   "execution_count": null,
   "id": "6473df41",
   "metadata": {},
   "outputs": [],
   "source": [
    "def upsert_recipe(recipe_code, produce_separate_result_for_linear_otc_legs=False):\n",
    "    recipe_scope = \"Finbourne-Examples\"\n",
    "\n",
    "    rules = [\n",
    "        lm.VendorModelRule(\n",
    "            supplier=\"Lusid\",\n",
    "            model_name=\"ForwardSpecifiedRateUndiscounted\",\n",
    "            instrument_type=\"Future\",\n",
    "            parameters=\"{}\",\n",
    "        ),\n",
    "        lm.VendorModelRule(\n",
    "            supplier=\"Lusid\",\n",
    "            model_name=\"ConstantTimeValueOfMoney\",\n",
    "            instrument_type=\"CashSettled\",\n",
    "            parameters=\"{}\",\n",
    "        ),\n",
    "    ]\n",
    "\n",
    "    config_recipe = lm.ConfigurationRecipe(\n",
    "        scope=recipe_scope,\n",
    "        code=recipe_code,\n",
    "        market=lm.MarketContext(\n",
    "            market_rules=[\n",
    "                lm.MarketDataKeyRule(\n",
    "                    key=\"Fx.CurrencyPair.*\",\n",
    "                    data_scope=\"FxData\",\n",
    "                    supplier=\"Lusid\",\n",
    "                    quote_type=\"Price\",\n",
    "                    quote_interval=\"1D.0D\",\n",
    "                    field=\"mid\",\n",
    "                ),\n",
    "                lm.MarketDataKeyRule(\n",
    "                    key=\"Fx.*.*\",\n",
    "                    data_scope=\"FxData\",\n",
    "                    supplier=\"Lusid\",\n",
    "                    quote_type=\"Price\",\n",
    "                    quote_interval=\"1D.0D\",\n",
    "                    field=\"mid\",\n",
    "                ),\n",
    "                lm.MarketDataKeyRule(\n",
    "                    key=\"Quote.*.*\",\n",
    "                    data_scope=\"FxData\",\n",
    "                    supplier=\"Lusid\",\n",
    "                    quote_type=\"Price\",\n",
    "                    quote_interval=\"1D.0D\",\n",
    "                    field=\"mid\",\n",
    "                ),\n",
    "            ],\n",
    "            options=lm.MarketOptions(\n",
    "                default_supplier=\"Lusid\",\n",
    "                default_instrument_code_type=\"Figi\",\n",
    "                default_scope=\"Lusid\",\n",
    "                attempt_to_infer_missing_fx=True,\n",
    "            ),\n",
    "        ),\n",
    "        pricing=lm.PricingContext(\n",
    "            options=lm.PricingOptions(\n",
    "                model_selection=lm.ModelSelection(\n",
    "                    library=\"Lusid\", model=\"ForwardSpecifiedRateUndiscounted\"\n",
    "                ),\n",
    "                produce_separate_result_for_linear_otc_legs=produce_separate_result_for_linear_otc_legs,\n",
    "            ),\n",
    "            model_rules=rules,\n",
    "        ),\n",
    "        description=\"ifrs test\",\n",
    "    )\n",
    "\n",
    "    response = configuration_recipe_api.upsert_configuration_recipe(\n",
    "        lm.UpsertRecipeRequest(configuration_recipe=config_recipe)\n",
    "    )\n",
    "    display(lusid_response_to_data_frame(response))\n"
   ]
  },
  {
   "cell_type": "markdown",
   "id": "9bbf2fdc",
   "metadata": {},
   "source": [
    "#### Upsert recipe that produces combined results for linear OTC legs"
   ]
  },
  {
   "cell_type": "code",
   "execution_count": null,
   "id": "467505c3",
   "metadata": {},
   "outputs": [],
   "source": [
    "standard_recipe_code = \"FxForwards\"\n",
    "upsert_recipe(standard_recipe_code)"
   ]
  },
  {
   "cell_type": "markdown",
   "id": "346ba50e",
   "metadata": {},
   "source": [
    "#### Upsert recipe that produces separate results for linear OTC legs"
   ]
  },
  {
   "cell_type": "code",
   "execution_count": null,
   "id": "c2e276c3",
   "metadata": {},
   "outputs": [],
   "source": [
    "split_leg_recipe_code = \"FxForwards_split_leg\"\n",
    "upsert_recipe(split_leg_recipe_code, produce_separate_result_for_linear_otc_legs=True)"
   ]
  },
  {
   "cell_type": "markdown",
   "id": "2f7b5ca9",
   "metadata": {},
   "source": [
    "### 5.2. <a id='toc5_2_'></a>[Valuation Function](#toc0_)"
   ]
  },
  {
   "cell_type": "markdown",
   "id": "232f7a31",
   "metadata": {},
   "source": [
    "Construct a valuation request function specifying which metrics we would like included. This provides a reusable template for a request is then passed to the Lusid aggregation API.\n",
    "\n",
    "The function returns the valuation metrics as a dataframe. PV of the forward position is shown in forward space (valuation is converted back to GBP using the fwd rate)."
   ]
  },
  {
   "cell_type": "code",
   "execution_count": null,
   "id": "ed51c5c8",
   "metadata": {},
   "outputs": [],
   "source": [
    "# Create the valuation request\n",
    "def get_valuation_for_date(valuation_date, recipe_code, no_quotes_available=False):\n",
    "    recipe_scope = \"Finbourne-Examples\"\n",
    "\n",
    "    if no_quotes_available==False:\n",
    "        valuation_metrics = [\n",
    "                lm.AggregateSpec(\"Instrument/default/Name\", \"Value\"),\n",
    "                lm.AggregateSpec(\"Valuation/PV\", \"Value\"),\n",
    "                lm.AggregateSpec(\"Holding/default/PV\", \"Proportion\"),\n",
    "                lm.AggregateSpec(\"Holding/default/Units\", \"Value\"),\n",
    "                lm.AggregateSpec(\"Valuation/PV/Amount\", \"Value\"),\n",
    "                lm.AggregateSpec(\"Valuation/PV/Ccy\", \"Value\"),\n",
    "                lm.AggregateSpec(\"Transaction/SettlementDate\", \"Value\"),\n",
    "                lm.AggregateSpec(\"Holding/default/Currency\", \"Value\"),\n",
    "                lm.AggregateSpec(\"Holding/SettledUnits\", \"Value\"),\n",
    "                lm.AggregateSpec(\"Holding/Units\", \"Value\"),\n",
    "                lm.AggregateSpec(\"Holding/HoldingType\", \"Value\")\n",
    "                # lm.AggregateSpec(\"Aggregation/Errors\", \"Value\"),\n",
    "            ]\n",
    "    else:\n",
    "        valuation_metrics = [\n",
    "            lm.AggregateSpec(\"Instrument/default/Name\", \"Value\"),\n",
    "            lm.AggregateSpec(\"Holding/HoldingType\", \"Value\"),\n",
    "            lm.AggregateSpec(\"Holding/default/Units\", \"Value\"),\n",
    "            lm.AggregateSpec(\"Holding/SettledUnits\", \"Value\"),\n",
    "            lm.AggregateSpec(\"Holding/default/Currency\", \"Value\")\n",
    "        ]\n",
    "\n",
    "    valuation_request = lm.ValuationRequest(\n",
    "        recipe_id=lm.ResourceId(scope=recipe_scope, code=recipe_code),\n",
    "        metrics=valuation_metrics,\n",
    "        portfolio_entity_ids=[\n",
    "            lm.PortfolioEntityId(scope=\"FX_FW_Transact\", code=Port1_Code)\n",
    "        ],\n",
    "        valuation_schedule=lm.ValuationSchedule(effective_at=valuation_date),\n",
    "    )\n",
    "\n",
    "    # Perform a valuation\n",
    "    valuation = api_factory.build(lusid.api.AggregationApi).get_valuation(\n",
    "        valuation_request=valuation_request\n",
    "    )\n",
    "\n",
    "    return valuation"
   ]
  },
  {
   "cell_type": "markdown",
   "id": "c600ba36",
   "metadata": {},
   "source": [
    "### 5.3. <a id='toc5_3_'></a>[Run valuation](#toc0_)"
   ]
  },
  {
   "cell_type": "markdown",
   "id": "410a7aef",
   "metadata": {},
   "source": [
    "##### Make a valuation request for the portfolio start date"
   ]
  },
  {
   "cell_type": "code",
   "execution_count": null,
   "id": "a74961bc",
   "metadata": {},
   "outputs": [],
   "source": [
    "recipe_code = standard_recipe_code"
   ]
  },
  {
   "cell_type": "code",
   "execution_count": null,
   "id": "a76411e1",
   "metadata": {},
   "outputs": [],
   "source": [
    "valuation_date = str(date(2021, 4, 4))\n",
    "valuation = get_valuation_for_date(valuation_date, recipe_code)\n",
    "Valuations = pd.DataFrame(valuation.data)\n",
    "Valuations"
   ]
  },
  {
   "cell_type": "markdown",
   "id": "10fbe271",
   "metadata": {},
   "source": [
    "##### Make a valuation request after the settlement date of the forwards\n",
    "Notice how LUSID automatically moves the cash into settled cash buckets"
   ]
  },
  {
   "cell_type": "code",
   "execution_count": null,
   "id": "8b902956",
   "metadata": {},
   "outputs": [],
   "source": [
    "valuation_date = str(date(2021, 5, 2))\n",
    "valuation = get_valuation_for_date(valuation_date, recipe_code, no_quotes_available=True)\n",
    "Valuations = pd.DataFrame(valuation.data)\n",
    "Valuations"
   ]
  },
  {
   "cell_type": "markdown",
   "id": "d7a10f2d",
   "metadata": {},
   "source": [
    "### 5.4. <a id='toc5_4_'></a>[Run valuation with seperate results for Linear Legs](#toc0_)\n",
    "\n",
    "Now we demonstrate how to value the portfolio with [leg-level valuation](https://support.lusid.com/docs/how-does-lusid-handle-instrument-legs)"
   ]
  },
  {
   "cell_type": "code",
   "execution_count": null,
   "id": "ee754fa5",
   "metadata": {},
   "outputs": [],
   "source": [
    "recipe_code = split_leg_recipe_code"
   ]
  },
  {
   "cell_type": "markdown",
   "id": "6c486c4d",
   "metadata": {},
   "source": [
    "#### Make a valuation request for the portfolio start date"
   ]
  },
  {
   "cell_type": "code",
   "execution_count": null,
   "id": "190bf9dd",
   "metadata": {},
   "outputs": [],
   "source": [
    "valuation_date = str(date(2021, 4, 4))\n",
    "valuation = get_valuation_for_date(valuation_date, recipe_code)\n",
    "Valuations = pd.DataFrame(valuation.data)\n",
    "Valuations"
   ]
  },
  {
   "cell_type": "markdown",
   "id": "3f1708d8",
   "metadata": {},
   "source": [
    "#### Make a valuation request after the settlement date of the forwards"
   ]
  },
  {
   "cell_type": "code",
   "execution_count": null,
   "id": "81caa0bf",
   "metadata": {},
   "outputs": [],
   "source": [
    "valuation_date = str(date(2021, 5, 2))\n",
    "valuation = get_valuation_for_date(valuation_date, recipe_code, no_quotes_available=True)\n",
    "Valuations = pd.DataFrame(valuation.data)\n",
    "Valuations"
   ]
  }
 ],
 "metadata": {
  "kernelspec": {
   "display_name": "Python 3 (ipykernel)",
   "language": "python",
   "name": "python3"
  },
  "language_info": {
   "codemirror_mode": {
    "name": "ipython",
    "version": 3
   },
   "file_extension": ".py",
   "mimetype": "text/x-python",
   "name": "python",
   "nbconvert_exporter": "python",
   "pygments_lexer": "ipython3",
   "version": "3.12.3"
  }
 },
 "nbformat": 4,
 "nbformat_minor": 5
}
