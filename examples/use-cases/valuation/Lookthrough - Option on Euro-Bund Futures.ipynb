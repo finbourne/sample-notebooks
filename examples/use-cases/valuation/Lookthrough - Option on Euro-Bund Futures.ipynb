{
 "cells": [
  {
   "cell_type": "code",
   "execution_count": 1,
   "id": "1fe9ce55",
   "metadata": {},
   "outputs": [
    {
     "data": {
      "text/html": [
       "\n",
       "    <form action=\"javascript:code_toggle()\"><input type=\"submit\" id=\"toggleButton\" value=\"Hide docstring\"></form>\n",
       "    \n",
       "         <script>\n",
       "         function code_toggle() {\n",
       "             if ($('div.cell.code_cell.rendered.selected div.input').css('display')!='none'){\n",
       "                 $('div.cell.code_cell.rendered.selected div.input').hide();\n",
       "             } else {\n",
       "                 $('div.cell.code_cell.rendered.selected div.input').show();\n",
       "             }\n",
       "         }\n",
       "         </script>\n",
       "\n",
       "     "
      ],
      "text/plain": [
       "<IPython.core.display.HTML object>"
      ]
     },
     "metadata": {},
     "output_type": "display_data"
    }
   ],
   "source": [
    "from lusidtools.jupyter_tools import toggle_code\n",
    "\n",
    "\"\"\"Lookthrough - Option on Euro-Bund Futures\n",
    "\n",
    "Attributes\n",
    "----------\n",
    "valuation\n",
    "transactions\n",
    "instruments\n",
    "recipes\n",
    "options\n",
    "futures\n",
    "bonds\n",
    "securitised portfolios\n",
    "exposure\n",
    "lookthrough\n",
    "\"\"\"\n",
    "\n",
    "toggle_code(\"Hide docstring\")"
   ]
  },
  {
   "cell_type": "markdown",
   "id": "c8877920",
   "metadata": {},
   "source": [
    "The Euro-Bund is a futures contract assigned by the Federal Republic of Germany, and traded on the Eurex Exchange.\n",
    "\n",
    "In this notebook, we demonstrate the booking of Options on Euro-Bund contracts via instrument references, as well as how we can net the option's exposure to the bond price against the exposure due to any units of the bond that are directly held.\n",
    "\n",
    "This demonstrates a few technical features:\n",
    "- Specify underlyings of derivatives via reference to a ClientInternalId or LusidInstrumentId ticker\n",
    "- Nested lookthrough via ReferenceInstrument\n",
    "- Net exposure to underlyings of derivatives"
   ]
  },
  {
   "cell_type": "code",
   "execution_count": 2,
   "id": "ca70d297",
   "metadata": {},
   "outputs": [
    {
     "name": "stdout",
     "output_type": "stream",
     "text": [
      "LUSID Environment Initialised\n",
      "LUSID API Version : 0.6.11013.0\n"
     ]
    }
   ],
   "source": [
    "# Import system packages\n",
    "\n",
    "# Import lusid specific packages\n",
    "# These are the core lusid packages for interacting with the API via Python\n",
    "import lusid\n",
    "import lusid.models as models\n",
    "import json\n",
    "import pytz\n",
    "import uuid\n",
    "from datetime import datetime, timedelta\n",
    "from lusid.utilities import ApiClientFactory\n",
    "from lusidjam.refreshing_token import RefreshingToken\n",
    "from flatten_json import flatten\n",
    "\n",
    "import os\n",
    "import pandas as pd\n",
    "import math\n",
    "\n",
    "# Set pandas dataframe display formatting\n",
    "pd.set_option('display.max_columns', None)\n",
    "pd.options.display.float_format = '{:,.2f}'.format\n",
    "\n",
    "# Authenticate our user and create our API client\n",
    "secrets_path = os.getenv(\"FBN_SECRETS_PATH\")\n",
    "\n",
    "# Initiate an API Factory which is the client side object for interacting with LUSID APIs\n",
    "api_factory = lusid.utilities.ApiClientFactory(\n",
    "    token=RefreshingToken(),\n",
    "    api_secrets_filename = secrets_path,\n",
    "    app_name=\"LusidJupyterNotebook\")\n",
    "\n",
    "#Load LUSID API Components\n",
    "portfolio_api = api_factory.build(lusid.api.PortfoliosApi)\n",
    "properties_api = api_factory.build(lusid.api.PropertyDefinitionsApi)\n",
    "transaction_portfolio_api = api_factory.build(lusid.api.TransactionPortfoliosApi)\n",
    "reference_portfolio_api = api_factory.build(lusid.api.ReferencePortfolioApi)\n",
    "instruments_api = api_factory.build(lusid.api.InstrumentsApi)\n",
    "quotes_api = api_factory.build(lusid.api.QuotesApi)\n",
    "complex_market_data_api = api_factory.build(lusid.api.ComplexMarketDataApi)\n",
    "configuration_recipe_api = api_factory.build(lusid.api.ConfigurationRecipeApi)\n",
    "system_configuration_api = api_factory.build(lusid.api.SystemConfigurationApi)\n",
    "aggregration_api = api_factory.build(lusid.api.AggregationApi)\n",
    "\n",
    "# Set Global Scope\n",
    "global_scope = \"OptionOnFutureOnBond\"\n",
    "pricing_date = datetime(2023, 1, 17, tzinfo=pytz.utc)\n",
    "\n",
    "print ('LUSID Environment Initialised')\n",
    "print ('LUSID API Version :', api_factory.build(lusid.api.ApplicationMetadataApi).get_lusid_versions().build_version)"
   ]
  },
  {
   "cell_type": "code",
   "execution_count": 3,
   "id": "83604883",
   "metadata": {},
   "outputs": [],
   "source": [
    "def upsert_instrument(name, client_id, defn):\n",
    "    response = instruments_api.upsert_instruments(\n",
    "        request_body={\n",
    "            client_id: models.InstrumentDefinition(\n",
    "                name=name,\n",
    "                identifiers={\n",
    "                    \"ClientInternal\": models.InstrumentIdValue(value=client_id)\n",
    "                },\n",
    "                definition=defn,\n",
    "            )\n",
    "        },\n",
    "        scope = global_scope\n",
    "    )\n",
    "    luid = response.values[client_id].lusid_instrument_id\n",
    "    print(f\"{name} = \" + luid)\n",
    "    return luid"
   ]
  },
  {
   "cell_type": "code",
   "execution_count": 4,
   "id": "a1b85f60",
   "metadata": {},
   "outputs": [
    {
     "name": "stdout",
     "output_type": "stream",
     "text": [
      "DBR 0 02/15/32 = LUID_00004A81\n"
     ]
    }
   ],
   "source": [
    "# define a bond\n",
    "def create_flow_conventions(currency, payment_frequency):\n",
    "    return models.FlowConventions(\n",
    "        currency=currency,\n",
    "        payment_frequency=payment_frequency,\n",
    "        roll_convention=\"None\",\n",
    "        day_count_convention=\"ActAct\",\n",
    "        payment_calendars=[],\n",
    "        reset_calendars=[],\n",
    "        settle_days=0,\n",
    "        reset_days=0)\n",
    "    \n",
    "def create_bond(\n",
    "    currency,\n",
    "    payment_frequency,\n",
    "    start_date,\n",
    "    maturity_date,\n",
    "    principal,\n",
    "    coupon_rate,\n",
    "    bond_identifier,\n",
    "    identifier_type,\n",
    "):\n",
    "    flow_conventions = create_flow_conventions(currency, payment_frequency)\n",
    "    \n",
    "    return models.Bond(\n",
    "        start_date=start_date,\n",
    "        maturity_date=maturity_date,\n",
    "        dom_ccy=currency,\n",
    "        principal=principal,\n",
    "        coupon_rate=coupon_rate,\n",
    "        flow_conventions=flow_conventions,\n",
    "        identifiers={identifier_type: bond_identifier},\n",
    "        instrument_type=\"Bond\",\n",
    "        calculation_type=\"Standard\",\n",
    "    )\n",
    "\n",
    "currency = \"EUR\"\n",
    "payment_frequency = \"1Y\"\n",
    "start_date = datetime(2021, 2, 15, tzinfo=pytz.utc)\n",
    "maturity_date = datetime(2032, 2, 15, tzinfo=pytz.utc)\n",
    "principal = 100_000\n",
    "coupon_rate = 6.0\n",
    "bond_identifier = \"DE0001102580\"\n",
    "identifier_type = \"Isin\"\n",
    "\n",
    "bond_definition = create_bond(\n",
    "    currency,\n",
    "    payment_frequency,\n",
    "    start_date,\n",
    "    maturity_date,\n",
    "    principal,\n",
    "    coupon_rate,\n",
    "    bond_identifier,\n",
    "    identifier_type,\n",
    ")\n",
    "\n",
    "bond_luid = upsert_instrument(\"DBR 0 02/15/32\", \"MyBond\", bond_definition)"
   ]
  },
  {
   "cell_type": "code",
   "execution_count": 5,
   "id": "6d2a33f2",
   "metadata": {},
   "outputs": [
    {
     "name": "stdout",
     "output_type": "stream",
     "text": [
      "RXH3 Comdty Future = LUID_00004A82\n"
     ]
    }
   ],
   "source": [
    "# Define a EURO-BUND future specifying the bond (via its ClientInternalId) as its underlying\n",
    "# This ignores some subtleties such as cheapest-to-deliver and conversion factors\n",
    "\n",
    "ref_to_bond = models.ReferenceInstrument(\n",
    "        instrument_type = \"ReferenceInstrument\",\n",
    "        scope = global_scope,\n",
    "        instrument_id_type = \"ClientInternal\",\n",
    "        instrument_id = \"MyBond\"\n",
    "    )\n",
    "\n",
    "future_definition = models.Future(\n",
    "    instrument_type = \"Future\",\n",
    "    start_date = datetime(2022, 6, 8, tzinfo=pytz.utc),\n",
    "    maturity_date = datetime(2023, 3, 10, tzinfo=pytz.utc),\n",
    "    identifiers = {\"Isin\": \"DE000C6YTCM4\"},\n",
    "    contract_details = models.FuturesContractDetails(dom_ccy = \"EUR\",\n",
    "                                                    asset_class = \"InterestRates\",\n",
    "                                                    contract_code = \"FGBL\",\n",
    "                                                    contract_month = \"H\", # March\n",
    "                                                    contract_size = 100_000,\n",
    "                                                    exchange_code = \"EUX\"),\n",
    "    contracts = 1,\n",
    "    ref_spot_price = 138.27,\n",
    "    underlying = ref_to_bond\n",
    ")\n",
    "\n",
    "future_luid = upsert_instrument(\"RXH3 Comdty Future\", \"MyFuture\", future_definition)"
   ]
  },
  {
   "cell_type": "code",
   "execution_count": 6,
   "id": "58d15386",
   "metadata": {},
   "outputs": [
    {
     "name": "stdout",
     "output_type": "stream",
     "text": [
      "RXH3C 138 Call Option = LUID_00004A83\n"
     ]
    }
   ],
   "source": [
    "# Define an exchange-traded option specifying the future (via its LusidInstrumentId) as its underlying\n",
    "option_definition = models.ExchangeTradedOption(\n",
    "    instrument_type = \"ExchangeTradedOption\",\n",
    "    start_date = pricing_date,\n",
    "    contract_details = models.ExchangeTradedOptionContractDetails(\n",
    "        dom_ccy = \"EUR\",\n",
    "        option_code = \"OGBL\",\n",
    "        underlying_code = \"FGBL\",\n",
    "        strike = 138.0,\n",
    "        contract_size = 100_000,\n",
    "        country = \"Germany\",\n",
    "        delivery_type = \"Physical\",\n",
    "        description = \"some description\",\n",
    "        exchange_code = \"OGBL\",\n",
    "        exercise_date = datetime(2023, 2, 24, tzinfo=pytz.utc),\n",
    "        exercise_type = \"American\",\n",
    "        option_type = \"Call\",\n",
    "        underlying = models.ReferenceInstrument(\n",
    "            instrument_type = \"ReferenceInstrument\",\n",
    "            scope = global_scope,\n",
    "            instrument_id_type = \"LusidInstrumentId\",\n",
    "            instrument_id = future_luid\n",
    "        )\n",
    "    ),\n",
    "    contracts = 1,\n",
    "    ref_spot_price = 2.00\n",
    ")\n",
    "\n",
    "option_luid = upsert_instrument(\"RXH3C 138 Call Option\", \"MyOption\", option_definition)"
   ]
  },
  {
   "cell_type": "code",
   "execution_count": 7,
   "id": "af0e37c1",
   "metadata": {},
   "outputs": [
    {
     "name": "stdout",
     "output_type": "stream",
     "text": [
      "Quotes upserted!\n"
     ]
    }
   ],
   "source": [
    "# Upsert equity quotes into LUSID\n",
    "def upsert_quote(ticker, ticker_type, price, scale_factor = 1):\n",
    "    instrument_quotes = {\n",
    "    ticker: models.UpsertQuoteRequest(\n",
    "            quote_id=models.QuoteId(\n",
    "                quote_series_id=models.QuoteSeriesId(\n",
    "                    provider=\"Lusid\",\n",
    "                    instrument_id=ticker,\n",
    "                    instrument_id_type=ticker_type,\n",
    "                    quote_type=\"Price\",\n",
    "                    field=\"mid\",\n",
    "                ),\n",
    "                effective_at=pricing_date.isoformat(),\n",
    "            ),\n",
    "            metric_value=models.MetricValue(value=price, unit=\"EUR\"),   \n",
    "            scale_factor = scale_factor\n",
    "        )\n",
    "    }\n",
    "    \n",
    "    response = quotes_api.upsert_quotes(scope=global_scope, request_body=instrument_quotes) \n",
    "\n",
    "def upsert_hacky_quote(ticker, ticker_type, price, quote_type = \"Price\", scale_factor = 1):\n",
    "    instrument_quotes = {\n",
    "    ticker: models.UpsertQuoteRequest(\n",
    "            quote_id=models.QuoteId(\n",
    "                quote_series_id=models.QuoteSeriesId(\n",
    "                    provider=\"Lusid\",\n",
    "                    instrument_id=ticker,\n",
    "                    instrument_id_type=ticker_type,\n",
    "                    quote_type=quote_type,\n",
    "                    field=\"mid\",\n",
    "                ),\n",
    "                effective_at=pricing_date.isoformat(),\n",
    "            ),\n",
    "            metric_value=models.MetricValue(value=price, unit=\"EUR\"),\n",
    "            scale_factor = scale_factor\n",
    "        )\n",
    "    }\n",
    "    \n",
    "    response = quotes_api.upsert_quotes(scope=\"hacky_scope\", request_body=instrument_quotes) \n",
    "\n",
    "upsert_quote(option_luid, \"LusidInstrumentId\", 2.00) # simple-static ETO base dependency\n",
    "upsert_quote(future_luid, \"LusidInstrumentId\", 138.27) # future price\n",
    "upsert_quote(bond_luid, \"LusidInstrumentId\", 82.7885, scale_factor = 100) # bond price\n",
    "\n",
    "upsert_hacky_quote(\"FGBL\", \"LusidInstrumentId\", 2.00) # simple-static ETO extra dependency\n",
    "upsert_hacky_quote(\"Delta/OGBL\", \"LusidInstrumentId\", 0.5300, \"Delta\") # SS ETO extra dependency (Bloomberg: 53.00)\n",
    "print(\"Quotes upserted!\")"
   ]
  },
  {
   "cell_type": "code",
   "execution_count": 8,
   "id": "ec7894ff",
   "metadata": {},
   "outputs": [
    {
     "name": "stdout",
     "output_type": "stream",
     "text": [
      "Could not create a portfolio with id 'OptionPortfolio' because it already exists in scope 'OptionOnFutureOnBond'.\n",
      "Transactions successfully updated at time: 2023-01-18 11:52:24.170137+00:00\n"
     ]
    }
   ],
   "source": [
    "# Place the option in a portfolio\n",
    "portfolio_code = \"OptionPortfolio\"\n",
    "\n",
    "try:\n",
    "    create_portfolio = transaction_portfolio_api.create_portfolio(\n",
    "        scope=global_scope,\n",
    "        create_transaction_portfolio_request=models.CreateTransactionPortfolioRequest(\n",
    "            display_name=portfolio_code,\n",
    "            code=portfolio_code,\n",
    "            base_currency=\"EUR\",\n",
    "            created=pricing_date,\n",
    "            sub_holding_keys=[],\n",
    "            instrument_scopes=[global_scope]\n",
    "        ),\n",
    "    )\n",
    "except lusid.ApiException as e:\n",
    "    print(json.loads(e.body)[\"title\"])\n",
    "    \n",
    "# Set trade variables\n",
    "trade_date = pricing_date\n",
    "settle_days = 0\n",
    "\n",
    "def create_transaction_request(transaction_id, luid, units):\n",
    "    return models.TransactionRequest(\n",
    "    transaction_id=transaction_id,\n",
    "    type=\"StockIn\",\n",
    "    instrument_identifiers={\"Instrument/default/LusidInstrumentId\": luid},\n",
    "    transaction_date=trade_date.isoformat(),\n",
    "    settlement_date=(trade_date + timedelta(days=settle_days)).isoformat(),\n",
    "    units=units,\n",
    "    transaction_price=models.TransactionPrice(price=1,type=\"Price\"),\n",
    "    total_consideration=models.CurrencyAndAmount(amount=1,currency=\"EUR\"),\n",
    "    exchange_rate=1,\n",
    "    transaction_currency=\"EUR\"\n",
    ")\n",
    "\n",
    "option_txn = create_transaction_request(\"TXN001\", option_luid, 1)\n",
    "\n",
    "response = transaction_portfolio_api.upsert_transactions(scope=global_scope,\n",
    "                                                    code=portfolio_code,\n",
    "                                                    transaction_request=[option_txn])\n",
    "\n",
    "print(f\"Transactions successfully updated at time: {response.version.as_at_date}\")"
   ]
  },
  {
   "cell_type": "markdown",
   "id": "bbc07123",
   "metadata": {},
   "source": [
    "We need to instruct the configuration recipe via a model rule to expand the exchange-traded option into its underlying future, and another mode rule to expand the future into its underlying bond. Here, we choose the expansion methodology 'Sum', and in the pricing options specify exposure as quantity to conserve. This essentially means that the option will display as an equivalent number of units of the bond, such that the exposure of the option is conserved."
   ]
  },
  {
   "cell_type": "code",
   "execution_count": 9,
   "id": "074e4408",
   "metadata": {},
   "outputs": [
    {
     "name": "stdout",
     "output_type": "stream",
     "text": [
      "Recipes upserted!\n"
     ]
    }
   ],
   "source": [
    "def UpsertRecipe(recipe_code, conserved_quantity):\n",
    "    if conserved_quantity is not None:\n",
    "        expansion_options = models.IndexModelOptions(portfolio_scaling=\"Sum\", model_options_type=\"IndexModelOptions\")\n",
    "    else:\n",
    "        expansion_options = None\n",
    "    model_rules=[]\n",
    "    model_rules.append(models.VendorModelRule(\n",
    "        supplier=\"Lusid\",\n",
    "        model_name=\"SimpleStatic\",\n",
    "        instrument_type=\"ExchangeTradedOption\",\n",
    "        model_options=expansion_options))\n",
    "    model_rules.append(models.VendorModelRule(\n",
    "        supplier=\"Lusid\",\n",
    "        model_name=\"SimpleStatic\",\n",
    "        instrument_type=\"Future\",\n",
    "        model_options=expansion_options))\n",
    "    model_rules.append(models.VendorModelRule(\n",
    "        supplier=\"Lusid\",\n",
    "        model_name=\"SimpleStatic\",\n",
    "        instrument_type=\"Bond\"))\n",
    "    \n",
    "    configuration_recipe = models.ConfigurationRecipe(\n",
    "        scope=global_scope,\n",
    "        code=recipe_code,\n",
    "        market=models.MarketContext(\n",
    "            market_rules=[\n",
    "                models.MarketDataKeyRule(\n",
    "                    key=\"Quote.RIC.*\",\n",
    "                    supplier=\"Lusid\",\n",
    "                    data_scope=global_scope,\n",
    "                    quote_type=\"Price\",\n",
    "                    field=\"mid\",\n",
    "                ),\n",
    "                models.MarketDataKeyRule(\n",
    "                    key=\"Quote.ClientInternal.*\",\n",
    "                    supplier=\"Lusid\",\n",
    "                    data_scope=global_scope,\n",
    "                    quote_type=\"Price\",\n",
    "                    field=\"mid\",\n",
    "                ),\n",
    "                models.MarketDataKeyRule(\n",
    "                    key=\"Quote.LusidInstrumentId.*\",\n",
    "                    supplier=\"Lusid\",\n",
    "                    data_scope=global_scope,\n",
    "                    quote_type=\"Price\",\n",
    "                    field=\"mid\",\n",
    "                ),\n",
    "                models.MarketDataKeyRule(\n",
    "                    key=\"Quote.LusidInstrumentId.*\",\n",
    "                    supplier=\"Lusid\",\n",
    "                    data_scope=\"hacky_scope\", # SHOULD BE REMOVED\n",
    "                    quote_type=\"Price\",\n",
    "                    field=\"mid\",\n",
    "                ),\n",
    "                models.MarketDataKeyRule(\n",
    "                    key=\"Quote.LusidInstrumentId.*\",\n",
    "                    supplier=\"Lusid\",\n",
    "                    data_scope=\"hacky_scope\", # SHOULD BE REMOVED\n",
    "                    quote_type=\"Delta\",\n",
    "                    field=\"mid\",\n",
    "                ),\n",
    "            ],\n",
    "            options=models.MarketOptions(\n",
    "                default_supplier=\"Lusid\",\n",
    "                default_instrument_code_type=\"ClientInternal\",\n",
    "                default_scope=global_scope,\n",
    "                attempt_to_infer_missing_fx=True             \n",
    "            ),\n",
    "        ),\n",
    "        pricing=models.PricingContext(\n",
    "            model_rules=model_rules,\n",
    "            options=models.PricingOptions(\n",
    "                conserved_quantity_for_lookthrough_expansion=conserved_quantity)\n",
    "        ),    \n",
    "    )\n",
    "\n",
    "    upsert_configuration_recipe_response = (\n",
    "        configuration_recipe_api.upsert_configuration_recipe(\n",
    "            upsert_recipe_request=models.UpsertRecipeRequest(\n",
    "                configuration_recipe=configuration_recipe\n",
    "            )\n",
    "        )\n",
    "    )\n",
    "    \n",
    "UpsertRecipe(\"ExpandByExposureRecipe\", \"Exposure\")\n",
    "UpsertRecipe(\"DontExpandRecipe\", None)\n",
    "\n",
    "print(\"Recipes upserted!\")"
   ]
  },
  {
   "cell_type": "code",
   "execution_count": 10,
   "id": "c774a7ef",
   "metadata": {},
   "outputs": [],
   "source": [
    "# Create a valuation function allowing users to specify the look-through recipe\n",
    "def get_daily_val(date, portfolio_code, recipe_code, group_by = None):\n",
    "    group_by = [group_by] if group_by else []\n",
    "    metricsList = []\n",
    "    columnsToRename={\n",
    "            f\"Instrument/default/Name\": \"Instrument Name\",\n",
    "            f\"Instrument/default/LusidInstrumentId\": \"LUID\",\n",
    "            f\"Sum(Valuation/PvInReportCcy)\": \"PV (Reporting Ccy)\",\n",
    "            f\"Sum(Valuation/ExposureInReportCcy)\": \"Exposure (Reporting Ccy)\",\n",
    "            f\"Holding/default/FundLineage\": \"Fund Lineage\",\n",
    "            f\"Sum(Holding/default/Units)\": \"Implied Holding Units\"\n",
    "        }\n",
    "    \n",
    "    metricsList.extend([\n",
    "            models.AggregateSpec(f\"Instrument/default/Name\", \"Value\"),\n",
    "            models.AggregateSpec(f\"Instrument/default/LusidInstrumentId\", \"Value\"),\n",
    "            models.AggregateSpec(f\"Holding/default/FundLineage\", \"Value\"),\n",
    "            models.AggregateSpec(f\"Holding/default/Units\", \"Sum\"),\n",
    "            models.AggregateSpec(f\"Valuation/UltimateUnderlying\", \"Value\"),\n",
    "            models.AggregateSpec(f\"Valuation/PvInReportCcy\", \"Sum\"),        \n",
    "            models.AggregateSpec(f\"Valuation/ExposureInReportCcy\", \"Sum\"),\n",
    "        ])\n",
    "          \n",
    "    # Build and run valuation request\n",
    "    valuation_request = models.ValuationRequest(\n",
    "        recipe_id=models.ResourceId(scope=global_scope, code=recipe_code),\n",
    "        metrics=metricsList,\n",
    "        group_by=group_by,\n",
    "        portfolio_entity_ids=[\n",
    "            models.PortfolioEntityId(scope=global_scope, code=portfolio_code)\n",
    "        ],\n",
    "        valuation_schedule=models.ValuationSchedule(effective_at=date.isoformat()),\n",
    "        report_currency = \"EUR\"\n",
    "    )\n",
    "\n",
    "    val_data = aggregration_api.get_valuation(valuation_request=valuation_request).data\n",
    "    vals_df = pd.DataFrame(val_data)\n",
    "\n",
    "    vals_df.rename(\n",
    "        columns=columnsToRename,\n",
    "        inplace=True,\n",
    "    )\n",
    "\n",
    "    return vals_df"
   ]
  },
  {
   "cell_type": "code",
   "execution_count": 11,
   "id": "491ede32",
   "metadata": {
    "scrolled": true
   },
   "outputs": [
    {
     "data": {
      "text/html": [
       "<div>\n",
       "<style scoped>\n",
       "    .dataframe tbody tr th:only-of-type {\n",
       "        vertical-align: middle;\n",
       "    }\n",
       "\n",
       "    .dataframe tbody tr th {\n",
       "        vertical-align: top;\n",
       "    }\n",
       "\n",
       "    .dataframe thead th {\n",
       "        text-align: right;\n",
       "    }\n",
       "</style>\n",
       "<table border=\"1\" class=\"dataframe\">\n",
       "  <thead>\n",
       "    <tr style=\"text-align: right;\">\n",
       "      <th></th>\n",
       "      <th>Instrument Name</th>\n",
       "      <th>LUID</th>\n",
       "      <th>Fund Lineage</th>\n",
       "      <th>Implied Holding Units</th>\n",
       "      <th>Valuation/UltimateUnderlying</th>\n",
       "      <th>PV (Reporting Ccy)</th>\n",
       "      <th>Exposure (Reporting Ccy)</th>\n",
       "    </tr>\n",
       "  </thead>\n",
       "  <tbody>\n",
       "    <tr>\n",
       "      <th>0</th>\n",
       "      <td>RXH3C 138 Call Option</td>\n",
       "      <td>LUID_00004A83</td>\n",
       "      <td>OptionPortfolio</td>\n",
       "      <td>1.00</td>\n",
       "      <td>{ ClientInternal : MyBond }</td>\n",
       "      <td>200,000.00</td>\n",
       "      <td>106,000.00</td>\n",
       "    </tr>\n",
       "  </tbody>\n",
       "</table>\n",
       "</div>"
      ],
      "text/plain": [
       "         Instrument Name           LUID     Fund Lineage  \\\n",
       "0  RXH3C 138 Call Option  LUID_00004A83  OptionPortfolio   \n",
       "\n",
       "   Implied Holding Units Valuation/UltimateUnderlying  PV (Reporting Ccy)  \\\n",
       "0                   1.00  { ClientInternal : MyBond }          200,000.00   \n",
       "\n",
       "   Exposure (Reporting Ccy)  \n",
       "0                106,000.00  "
      ]
     },
     "execution_count": 11,
     "metadata": {},
     "output_type": "execute_result"
    }
   ],
   "source": [
    "# when pricing the option, we can see that a bond is the ultimate underlying\n",
    "get_daily_val(pricing_date, \"OptionPortfolio\", \"DontExpandRecipe\")"
   ]
  },
  {
   "cell_type": "code",
   "execution_count": 12,
   "id": "fd637793",
   "metadata": {},
   "outputs": [
    {
     "data": {
      "text/html": [
       "<div>\n",
       "<style scoped>\n",
       "    .dataframe tbody tr th:only-of-type {\n",
       "        vertical-align: middle;\n",
       "    }\n",
       "\n",
       "    .dataframe tbody tr th {\n",
       "        vertical-align: top;\n",
       "    }\n",
       "\n",
       "    .dataframe thead th {\n",
       "        text-align: right;\n",
       "    }\n",
       "</style>\n",
       "<table border=\"1\" class=\"dataframe\">\n",
       "  <thead>\n",
       "    <tr style=\"text-align: right;\">\n",
       "      <th></th>\n",
       "      <th>Instrument Name</th>\n",
       "      <th>LUID</th>\n",
       "      <th>Fund Lineage</th>\n",
       "      <th>Implied Holding Units</th>\n",
       "      <th>Valuation/UltimateUnderlying</th>\n",
       "      <th>PV (Reporting Ccy)</th>\n",
       "      <th>Exposure (Reporting Ccy)</th>\n",
       "    </tr>\n",
       "  </thead>\n",
       "  <tbody>\n",
       "    <tr>\n",
       "      <th>0</th>\n",
       "      <td>DBR 0 02/15/32</td>\n",
       "      <td>LUID_00004A81</td>\n",
       "      <td>OptionPortfolio/LUID_00004A82/LUID_00004A81</td>\n",
       "      <td>1.28</td>\n",
       "      <td>{ ClientInternal : MyBond }</td>\n",
       "      <td>813,185.77</td>\n",
       "      <td>106,000.00</td>\n",
       "    </tr>\n",
       "  </tbody>\n",
       "</table>\n",
       "</div>"
      ],
      "text/plain": [
       "  Instrument Name           LUID                                 Fund Lineage  \\\n",
       "0  DBR 0 02/15/32  LUID_00004A81  OptionPortfolio/LUID_00004A82/LUID_00004A81   \n",
       "\n",
       "   Implied Holding Units Valuation/UltimateUnderlying  PV (Reporting Ccy)  \\\n",
       "0                   1.28  { ClientInternal : MyBond }          813,185.77   \n",
       "\n",
       "   Exposure (Reporting Ccy)  \n",
       "0                106,000.00  "
      ]
     },
     "execution_count": 12,
     "metadata": {},
     "output_type": "execute_result"
    }
   ],
   "source": [
    "# perform lookthrough on the option while preserving exposure \n",
    "# as with the no-lookthrough case, this tells us our exposure to the underlying\n",
    "# it also tells us the number of units of the underlying that that exposure implies\n",
    "get_daily_val(pricing_date, \"OptionPortfolio\", \"ExpandByExposureRecipe\")"
   ]
  },
  {
   "cell_type": "code",
   "execution_count": 13,
   "id": "5ff05c1f",
   "metadata": {},
   "outputs": [
    {
     "name": "stdout",
     "output_type": "stream",
     "text": [
      "Underlying bond added to portfolio!\n"
     ]
    }
   ],
   "source": [
    "# using the implied units from the previous API call, \n",
    "# we can hedge our exposure by booking an opposing number of units of the underlying\n",
    "bond_txn = create_transaction_request(\"TXN002\", bond_luid, -1.28)\n",
    "bond_txn_response = transaction_portfolio_api.upsert_transactions(scope=global_scope,\n",
    "                                                    code=portfolio_code,\n",
    "                                                    transaction_request=[bond_txn])\n",
    "\n",
    "print(\"Underlying bond added to portfolio!\")"
   ]
  },
  {
   "cell_type": "code",
   "execution_count": 14,
   "id": "79fbb163",
   "metadata": {},
   "outputs": [
    {
     "data": {
      "text/html": [
       "<div>\n",
       "<style scoped>\n",
       "    .dataframe tbody tr th:only-of-type {\n",
       "        vertical-align: middle;\n",
       "    }\n",
       "\n",
       "    .dataframe tbody tr th {\n",
       "        vertical-align: top;\n",
       "    }\n",
       "\n",
       "    .dataframe thead th {\n",
       "        text-align: right;\n",
       "    }\n",
       "</style>\n",
       "<table border=\"1\" class=\"dataframe\">\n",
       "  <thead>\n",
       "    <tr style=\"text-align: right;\">\n",
       "      <th></th>\n",
       "      <th>Instrument Name</th>\n",
       "      <th>LUID</th>\n",
       "      <th>Fund Lineage</th>\n",
       "      <th>Implied Holding Units</th>\n",
       "      <th>Valuation/UltimateUnderlying</th>\n",
       "      <th>PV (Reporting Ccy)</th>\n",
       "      <th>Exposure (Reporting Ccy)</th>\n",
       "    </tr>\n",
       "  </thead>\n",
       "  <tbody>\n",
       "    <tr>\n",
       "      <th>0</th>\n",
       "      <td>DBR 0 02/15/32</td>\n",
       "      <td>LUID_00004A81</td>\n",
       "      <td>None</td>\n",
       "      <td>0.00</td>\n",
       "      <td>{ ClientInternal : MyBond }</td>\n",
       "      <td>235.67</td>\n",
       "      <td>30.72</td>\n",
       "    </tr>\n",
       "  </tbody>\n",
       "</table>\n",
       "</div>"
      ],
      "text/plain": [
       "  Instrument Name           LUID Fund Lineage  Implied Holding Units  \\\n",
       "0  DBR 0 02/15/32  LUID_00004A81         None                   0.00   \n",
       "\n",
       "  Valuation/UltimateUnderlying  PV (Reporting Ccy)  Exposure (Reporting Ccy)  \n",
       "0  { ClientInternal : MyBond }              235.67                     30.72  "
      ]
     },
     "execution_count": 14,
     "metadata": {},
     "output_type": "execute_result"
    }
   ],
   "source": [
    "# at that point, we can re-price our portfolio and group by the underlying to show a net exposure near zero\n",
    "get_daily_val(pricing_date, \"OptionPortfolio\", \"ExpandByExposureRecipe\", \"Instrument/default/LusidInstrumentId\")"
   ]
  },
  {
   "cell_type": "code",
   "execution_count": 15,
   "id": "03438c29",
   "metadata": {},
   "outputs": [
    {
     "name": "stdout",
     "output_type": "stream",
     "text": [
      "Underlying bond removed from portfolio!\n"
     ]
    }
   ],
   "source": [
    "cancel_bond_txn = transaction_portfolio_api.cancel_transactions(scope=global_scope,\n",
    "                                                    code=portfolio_code,\n",
    "                                                    transaction_ids=[\"TXN002\"])\n",
    "\n",
    "print(\"Underlying bond removed from portfolio!\")"
   ]
  },
  {
   "cell_type": "code",
   "execution_count": null,
   "id": "f248f956",
   "metadata": {},
   "outputs": [],
   "source": []
  }
 ],
 "metadata": {
  "kernelspec": {
   "display_name": "Python 3 (ipykernel)",
   "language": "python",
   "name": "python3"
  },
  "language_info": {
   "codemirror_mode": {
    "name": "ipython",
    "version": 3
   },
   "file_extension": ".py",
   "mimetype": "text/x-python",
   "name": "python",
   "nbconvert_exporter": "python",
   "pygments_lexer": "ipython3",
   "version": "3.9.7"
  },
  "toc": {
   "base_numbering": 1,
   "nav_menu": {},
   "number_sections": false,
   "sideBar": true,
   "skip_h1_title": false,
   "title_cell": "Table of Contents",
   "title_sidebar": "Contents",
   "toc_cell": false,
   "toc_position": {},
   "toc_section_display": true,
   "toc_window_display": false
  },
  "varInspector": {
   "cols": {
    "lenName": 16,
    "lenType": 16,
    "lenVar": 40
   },
   "kernels_config": {
    "python": {
     "delete_cmd_postfix": "",
     "delete_cmd_prefix": "del ",
     "library": "var_list.py",
     "varRefreshCmd": "print(var_dic_list())"
    },
    "r": {
     "delete_cmd_postfix": ") ",
     "delete_cmd_prefix": "rm(",
     "library": "var_list.r",
     "varRefreshCmd": "cat(var_dic_list()) "
    }
   },
   "types_to_exclude": [
    "module",
    "function",
    "builtin_function_or_method",
    "instance",
    "_Feature"
   ],
   "window_display": false
  }
 },
 "nbformat": 4,
 "nbformat_minor": 5
}
