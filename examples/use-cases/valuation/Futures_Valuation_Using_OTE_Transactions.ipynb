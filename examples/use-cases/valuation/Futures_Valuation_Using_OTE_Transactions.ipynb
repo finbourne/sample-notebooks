{
 "cells": [
  {
   "cell_type": "code",
   "execution_count": 1,
   "id": "26378a15",
   "metadata": {},
   "outputs": [
    {
     "data": {
      "text/html": [
       "\n",
       "    <form action=\"javascript:code_toggle()\"><input type=\"submit\" id=\"toggleButton\" value=\"Toggle Docstring\"></form>\n",
       "    \n",
       "         <script>\n",
       "         function code_toggle() {\n",
       "             if ($('div.cell.code_cell.rendered.selected div.input').css('display')!='none'){\n",
       "                 $('div.cell.code_cell.rendered.selected div.input').hide();\n",
       "             } else {\n",
       "                 $('div.cell.code_cell.rendered.selected div.input').show();\n",
       "             }\n",
       "         }\n",
       "         </script>\n",
       "\n",
       "     "
      ],
      "text/plain": [
       "<IPython.core.display.HTML object>"
      ]
     },
     "metadata": {},
     "output_type": "display_data"
    }
   ],
   "source": [
    "from lusidtools.jupyter_tools import toggle_code\n",
    "\n",
    "\"\"\"Futures Valuation Workflow\n",
    "\n",
    "Attributes\n",
    "----------\n",
    "futures\n",
    "transaction types\n",
    "recipes\n",
    "valuations\n",
    "\"\"\"\n",
    "\n",
    "toggle_code(\"Toggle Docstring\")"
   ]
  },
  {
   "cell_type": "markdown",
   "id": "debbd60e",
   "metadata": {},
   "source": [
    "# Futures Valuation Using OTE Transactions"
   ]
  },
  {
   "cell_type": "markdown",
   "id": "8aef3862",
   "metadata": {},
   "source": [
    "This notebook shows a futures valuation workflow through the creation of two hypothetical futures contracts, one for coffee (Coffee 'C') and one for orange juice (FCOJ-A). These two futures contracts are booked into a new portfolio and valuations are run over 4 days to demonstrate the varying realised and unrealised profits and losses."
   ]
  },
  {
   "cell_type": "code",
   "execution_count": 2,
   "id": "a470a33c",
   "metadata": {},
   "outputs": [
    {
     "data": {
      "text/html": [
       "<style>.container { width:90% !important; }</style>"
      ],
      "text/plain": [
       "<IPython.core.display.HTML object>"
      ]
     },
     "metadata": {},
     "output_type": "display_data"
    }
   ],
   "source": [
    "# Import generic non-LUSID packages\n",
    "import os\n",
    "import pandas as pd\n",
    "import numpy as np\n",
    "from datetime import datetime\n",
    "import json\n",
    "import pytz\n",
    "import time\n",
    "from IPython.core.display import HTML\n",
    "\n",
    "# Import key modules from the LUSID package\n",
    "import lusid\n",
    "import lusid.models as models\n",
    "\n",
    "# Import key functions from Lusid-Python-Tools and other packages\n",
    "from lusidtools.pandas_utils.lusid_pandas import lusid_response_to_data_frame\n",
    "from lusidtools.cocoon.transaction_type_upload import upsert_transaction_type_alias\n",
    "from lusidjam import RefreshingToken\n",
    "\n",
    "# Set DataFrame display formats\n",
    "pd.set_option(\"display.max_columns\", None)\n",
    "pd.set_option(\"display.max_rows\", None)\n",
    "pd.options.display.float_format = \"{:,.2f}\".format\n",
    "display(HTML(\"<style>.container { width:90% !important; }</style>\"))\n",
    "\n",
    "# Create API client\n",
    "api_factory = lusid.utilities.ApiClientFactory(\n",
    "    token=RefreshingToken(), app_name=\"futuresLoader\"\n",
    ")"
   ]
  },
  {
   "cell_type": "code",
   "execution_count": 3,
   "id": "fc19ead1",
   "metadata": {},
   "outputs": [],
   "source": [
    "# LUSID Variable Definitions\n",
    "portfolio_api = api_factory.build(lusid.api.PortfoliosApi)\n",
    "properties_api = api_factory.build(lusid.api.PropertyDefinitionsApi)\n",
    "transaction_portfolio_api = api_factory.build(lusid.api.TransactionPortfoliosApi)\n",
    "instruments_api = api_factory.build(lusid.api.InstrumentsApi)\n",
    "quotes_api = api_factory.build(lusid.api.QuotesApi)\n",
    "configuration_recipe_api = api_factory.build(lusid.api.ConfigurationRecipeApi)\n",
    "system_configuration_api = api_factory.build(lusid.api.SystemConfigurationApi)\n",
    "aggregration_api = api_factory.build(lusid.api.AggregationApi)"
   ]
  },
  {
   "cell_type": "code",
   "execution_count": 4,
   "id": "eb7978c3",
   "metadata": {},
   "outputs": [],
   "source": [
    "# Define scopes\n",
    "scope = \"ibor\"\n",
    "quotes_scope = \"ibor\""
   ]
  },
  {
   "cell_type": "markdown",
   "id": "d6779f88",
   "metadata": {},
   "source": [
    "## 1. Create Portfolio"
   ]
  },
  {
   "cell_type": "code",
   "execution_count": 5,
   "id": "2bbb866d",
   "metadata": {},
   "outputs": [
    {
     "ename": "JSONDecodeError",
     "evalue": "Expecting value: line 1 column 1 (char 0)",
     "output_type": "error",
     "traceback": [
      "\u001b[0;31m---------------------------------------------------------------------------\u001b[0m",
      "\u001b[0;31mJSONDecodeError\u001b[0m                           Traceback (most recent call last)",
      "\u001b[0;32m/tmp/ipykernel_5090/1222700795.py\u001b[0m in \u001b[0;36m<module>\u001b[0;34m\u001b[0m\n\u001b[1;32m     14\u001b[0m \u001b[0;34m\u001b[0m\u001b[0m\n\u001b[1;32m     15\u001b[0m \u001b[0;32mexcept\u001b[0m \u001b[0mlusid\u001b[0m\u001b[0;34m.\u001b[0m\u001b[0mApiException\u001b[0m \u001b[0;32mas\u001b[0m \u001b[0me\u001b[0m\u001b[0;34m:\u001b[0m\u001b[0;34m\u001b[0m\u001b[0;34m\u001b[0m\u001b[0m\n\u001b[0;32m---> 16\u001b[0;31m     \u001b[0mprint\u001b[0m\u001b[0;34m(\u001b[0m\u001b[0mjson\u001b[0m\u001b[0;34m.\u001b[0m\u001b[0mloads\u001b[0m\u001b[0;34m(\u001b[0m\u001b[0me\u001b[0m\u001b[0;34m.\u001b[0m\u001b[0mbody\u001b[0m\u001b[0;34m)\u001b[0m\u001b[0;34m[\u001b[0m\u001b[0;34m\"title\"\u001b[0m\u001b[0;34m]\u001b[0m\u001b[0;34m)\u001b[0m\u001b[0;34m\u001b[0m\u001b[0;34m\u001b[0m\u001b[0m\n\u001b[0m",
      "\u001b[0;32m/opt/conda/lib/python3.7/json/__init__.py\u001b[0m in \u001b[0;36mloads\u001b[0;34m(s, encoding, cls, object_hook, parse_float, parse_int, parse_constant, object_pairs_hook, **kw)\u001b[0m\n\u001b[1;32m    346\u001b[0m             \u001b[0mparse_int\u001b[0m \u001b[0;32mis\u001b[0m \u001b[0;32mNone\u001b[0m \u001b[0;32mand\u001b[0m \u001b[0mparse_float\u001b[0m \u001b[0;32mis\u001b[0m \u001b[0;32mNone\u001b[0m \u001b[0;32mand\u001b[0m\u001b[0;34m\u001b[0m\u001b[0;34m\u001b[0m\u001b[0m\n\u001b[1;32m    347\u001b[0m             parse_constant is None and object_pairs_hook is None and not kw):\n\u001b[0;32m--> 348\u001b[0;31m         \u001b[0;32mreturn\u001b[0m \u001b[0m_default_decoder\u001b[0m\u001b[0;34m.\u001b[0m\u001b[0mdecode\u001b[0m\u001b[0;34m(\u001b[0m\u001b[0ms\u001b[0m\u001b[0;34m)\u001b[0m\u001b[0;34m\u001b[0m\u001b[0;34m\u001b[0m\u001b[0m\n\u001b[0m\u001b[1;32m    349\u001b[0m     \u001b[0;32mif\u001b[0m \u001b[0mcls\u001b[0m \u001b[0;32mis\u001b[0m \u001b[0;32mNone\u001b[0m\u001b[0;34m:\u001b[0m\u001b[0;34m\u001b[0m\u001b[0;34m\u001b[0m\u001b[0m\n\u001b[1;32m    350\u001b[0m         \u001b[0mcls\u001b[0m \u001b[0;34m=\u001b[0m \u001b[0mJSONDecoder\u001b[0m\u001b[0;34m\u001b[0m\u001b[0;34m\u001b[0m\u001b[0m\n",
      "\u001b[0;32m/opt/conda/lib/python3.7/json/decoder.py\u001b[0m in \u001b[0;36mdecode\u001b[0;34m(self, s, _w)\u001b[0m\n\u001b[1;32m    335\u001b[0m \u001b[0;34m\u001b[0m\u001b[0m\n\u001b[1;32m    336\u001b[0m         \"\"\"\n\u001b[0;32m--> 337\u001b[0;31m         \u001b[0mobj\u001b[0m\u001b[0;34m,\u001b[0m \u001b[0mend\u001b[0m \u001b[0;34m=\u001b[0m \u001b[0mself\u001b[0m\u001b[0;34m.\u001b[0m\u001b[0mraw_decode\u001b[0m\u001b[0;34m(\u001b[0m\u001b[0ms\u001b[0m\u001b[0;34m,\u001b[0m \u001b[0midx\u001b[0m\u001b[0;34m=\u001b[0m\u001b[0m_w\u001b[0m\u001b[0;34m(\u001b[0m\u001b[0ms\u001b[0m\u001b[0;34m,\u001b[0m \u001b[0;36m0\u001b[0m\u001b[0;34m)\u001b[0m\u001b[0;34m.\u001b[0m\u001b[0mend\u001b[0m\u001b[0;34m(\u001b[0m\u001b[0;34m)\u001b[0m\u001b[0;34m)\u001b[0m\u001b[0;34m\u001b[0m\u001b[0;34m\u001b[0m\u001b[0m\n\u001b[0m\u001b[1;32m    338\u001b[0m         \u001b[0mend\u001b[0m \u001b[0;34m=\u001b[0m \u001b[0m_w\u001b[0m\u001b[0;34m(\u001b[0m\u001b[0ms\u001b[0m\u001b[0;34m,\u001b[0m \u001b[0mend\u001b[0m\u001b[0;34m)\u001b[0m\u001b[0;34m.\u001b[0m\u001b[0mend\u001b[0m\u001b[0;34m(\u001b[0m\u001b[0;34m)\u001b[0m\u001b[0;34m\u001b[0m\u001b[0;34m\u001b[0m\u001b[0m\n\u001b[1;32m    339\u001b[0m         \u001b[0;32mif\u001b[0m \u001b[0mend\u001b[0m \u001b[0;34m!=\u001b[0m \u001b[0mlen\u001b[0m\u001b[0;34m(\u001b[0m\u001b[0ms\u001b[0m\u001b[0;34m)\u001b[0m\u001b[0;34m:\u001b[0m\u001b[0;34m\u001b[0m\u001b[0;34m\u001b[0m\u001b[0m\n",
      "\u001b[0;32m/opt/conda/lib/python3.7/json/decoder.py\u001b[0m in \u001b[0;36mraw_decode\u001b[0;34m(self, s, idx)\u001b[0m\n\u001b[1;32m    353\u001b[0m             \u001b[0mobj\u001b[0m\u001b[0;34m,\u001b[0m \u001b[0mend\u001b[0m \u001b[0;34m=\u001b[0m \u001b[0mself\u001b[0m\u001b[0;34m.\u001b[0m\u001b[0mscan_once\u001b[0m\u001b[0;34m(\u001b[0m\u001b[0ms\u001b[0m\u001b[0;34m,\u001b[0m \u001b[0midx\u001b[0m\u001b[0;34m)\u001b[0m\u001b[0;34m\u001b[0m\u001b[0;34m\u001b[0m\u001b[0m\n\u001b[1;32m    354\u001b[0m         \u001b[0;32mexcept\u001b[0m \u001b[0mStopIteration\u001b[0m \u001b[0;32mas\u001b[0m \u001b[0merr\u001b[0m\u001b[0;34m:\u001b[0m\u001b[0;34m\u001b[0m\u001b[0;34m\u001b[0m\u001b[0m\n\u001b[0;32m--> 355\u001b[0;31m             \u001b[0;32mraise\u001b[0m \u001b[0mJSONDecodeError\u001b[0m\u001b[0;34m(\u001b[0m\u001b[0;34m\"Expecting value\"\u001b[0m\u001b[0;34m,\u001b[0m \u001b[0ms\u001b[0m\u001b[0;34m,\u001b[0m \u001b[0merr\u001b[0m\u001b[0;34m.\u001b[0m\u001b[0mvalue\u001b[0m\u001b[0;34m)\u001b[0m \u001b[0;32mfrom\u001b[0m \u001b[0;32mNone\u001b[0m\u001b[0;34m\u001b[0m\u001b[0;34m\u001b[0m\u001b[0m\n\u001b[0m\u001b[1;32m    356\u001b[0m         \u001b[0;32mreturn\u001b[0m \u001b[0mobj\u001b[0m\u001b[0;34m,\u001b[0m \u001b[0mend\u001b[0m\u001b[0;34m\u001b[0m\u001b[0;34m\u001b[0m\u001b[0m\n",
      "\u001b[0;31mJSONDecodeError\u001b[0m: Expecting value: line 1 column 1 (char 0)"
     ]
    }
   ],
   "source": [
    "portfolio_code = \"FuturesPortfolio\"\n",
    "\n",
    "try:\n",
    "    transaction_portfolio_api.create_portfolio(\n",
    "        scope=scope,\n",
    "        create_transaction_portfolio_request=models.CreateTransactionPortfolioRequest(\n",
    "            display_name=portfolio_code,\n",
    "            code=portfolio_code,\n",
    "            base_currency=\"USD\",\n",
    "            created=\"2010-01-01\",\n",
    "            sub_holding_keys=[f\"Transaction/{scope}/FutType\"],\n",
    "        ),\n",
    "    )\n",
    "\n",
    "except lusid.ApiException as e:\n",
    "    print(json.loads(e.body)[\"title\"])"
   ]
  },
  {
   "cell_type": "markdown",
   "id": "900e73b8",
   "metadata": {},
   "source": [
    "## 2. Create New Property"
   ]
  },
  {
   "cell_type": "code",
   "execution_count": null,
   "id": "d485d1f9",
   "metadata": {},
   "outputs": [],
   "source": [
    "properties = [\n",
    "    (\"FutType\", \"string\"),\n",
    "]"
   ]
  },
  {
   "cell_type": "code",
   "execution_count": null,
   "id": "ab1c890c",
   "metadata": {},
   "outputs": [],
   "source": [
    "for property_code, dtype in properties:\n",
    "    try:\n",
    "        properties_api.create_property_definition(\n",
    "            create_property_definition_request=models.CreatePropertyDefinitionRequest(\n",
    "                domain=\"Transaction\",\n",
    "                scope=scope,\n",
    "                code=property_code,\n",
    "                display_name=property_code,\n",
    "                data_type_id=models.ResourceId(code=dtype, scope=\"system\"),\n",
    "            )\n",
    "        )\n",
    "    except lusid.ApiException as e:\n",
    "        print(json.loads(e.body)[\"title\"])"
   ]
  },
  {
   "cell_type": "markdown",
   "id": "e3e5fb2d",
   "metadata": {},
   "source": [
    "## 3. Create Futures"
   ]
  },
  {
   "cell_type": "code",
   "execution_count": null,
   "id": "5a4ac0a0",
   "metadata": {},
   "outputs": [],
   "source": [
    "# Define function that creates futures\n",
    "def create_futures_contract(\n",
    "    dom_ccy,\n",
    "    contract_code,\n",
    "    contract_month,\n",
    "    contract_size,\n",
    "    convention,\n",
    "    country_id,\n",
    "    fut_name,\n",
    "    exchange_code,\n",
    "    exchange_name,\n",
    "    ticker_step,\n",
    "    unit_value,\n",
    "    start_date,\n",
    "    maturity_date,\n",
    "    fut_identifier,\n",
    "):\n",
    "    ctc = models.FuturesContractDetails(\n",
    "        dom_ccy=dom_ccy,\n",
    "        contract_code=contract_code,\n",
    "        contract_month=contract_month,\n",
    "        contract_size=contract_size,\n",
    "        convention=convention,\n",
    "        country=country_id,\n",
    "        description=fut_name,\n",
    "        exchange_code=exchange_code,\n",
    "        exchange_name=exchange_name,\n",
    "        ticker_step=ticker_step,\n",
    "        unit_value=unit_value,\n",
    "    )\n",
    "    futuredef = models.Future(\n",
    "        start_date=start_date,\n",
    "        maturity_date=maturity_date,\n",
    "        identifiers={},\n",
    "        contract_details=ctc,\n",
    "        contracts=1,\n",
    "        ref_spot_price=100,\n",
    "        underlying=models.ExoticInstrument(\n",
    "            instrument_format=models.InstrumentDefinitionFormat(\n",
    "                \"custom\", \"custom\", \"0.0.0\"\n",
    "            ),\n",
    "            content=\"{}\",\n",
    "            instrument_type=\"ExoticInstrument\",\n",
    "        ),\n",
    "        instrument_type=\"Future\",\n",
    "    )\n",
    "    # persist the instrument\n",
    "    futureDefinition = models.InstrumentDefinition(\n",
    "        name=fut_name,\n",
    "        identifiers={\"ClientInternal\": models.InstrumentIdValue(fut_identifier)},\n",
    "        definition=futuredef,\n",
    "    )\n",
    "    batchUpsertRequest = {fut_identifier: futureDefinition}\n",
    "    upsertResponse = instruments_api.upsert_instruments(request_body=batchUpsertRequest)\n",
    "    futLuid = upsertResponse.values[fut_identifier].lusid_instrument_id\n",
    "    print(futLuid)"
   ]
  },
  {
   "cell_type": "markdown",
   "id": "34640e9a",
   "metadata": {},
   "source": [
    "### 3.1 Create Futures Contract 1 - FCOJ-A"
   ]
  },
  {
   "cell_type": "code",
   "execution_count": null,
   "id": "3482b1a6",
   "metadata": {},
   "outputs": [],
   "source": [
    "# Variable definitions for use in create_futures_contract function call 1 (FCOJ-A)\n",
    "start_date = datetime(2021, 1, 1, tzinfo=pytz.utc)\n",
    "effectiveAt = datetime(2021, 1, 1, tzinfo=pytz.utc)\n",
    "maturity_date = datetime(2021, 12, 31, tzinfo=pytz.utc)\n",
    "\n",
    "dom_ccy = \"USD\"\n",
    "convention = \"ActualActual\"\n",
    "contract_code = \"OJ\"\n",
    "contract_month = \"H\"\n",
    "contract_size = 1000\n",
    "country_id = \"US\"\n",
    "fut_name = \"FCOJ-A Futures\"\n",
    "exchange_code = \"ICE\"\n",
    "exchange_name = \"ICE\"\n",
    "ticker_step = 0.01\n",
    "unit_value = 1\n",
    "identifier = \"FUT_ICEOJZDEC21\"\n",
    "\n",
    "\n",
    "# Create Futures Contract function call 1 (FCOJ-A)\n",
    "create_futures_contract(\n",
    "    dom_ccy,\n",
    "    contract_code,\n",
    "    contract_month,\n",
    "    contract_size,\n",
    "    convention,\n",
    "    country_id,\n",
    "    fut_name,\n",
    "    exchange_code,\n",
    "    exchange_name,\n",
    "    unit_value,\n",
    "    ticker_step,\n",
    "    start_date,\n",
    "    maturity_date,\n",
    "    identifier,\n",
    ")"
   ]
  },
  {
   "cell_type": "markdown",
   "id": "c25203a6",
   "metadata": {},
   "source": [
    "### 3.2 Create Futures Contract 2 - Coffee 'C'"
   ]
  },
  {
   "cell_type": "code",
   "execution_count": null,
   "id": "334e2c74",
   "metadata": {},
   "outputs": [],
   "source": [
    "# Variable definitions for use in create_futures_contract function call 2 (Coffee 'C')\n",
    "start_date = datetime(2021, 1, 1, tzinfo=pytz.utc)\n",
    "effectiveAt = datetime(2021, 1, 1, tzinfo=pytz.utc)\n",
    "maturity_date = datetime(2021, 12, 31, tzinfo=pytz.utc)\n",
    "\n",
    "dom_ccy = \"USD\"\n",
    "convention = \"ActualActual\"\n",
    "contract_code = \"KC\"\n",
    "contract_month = \"H\"\n",
    "contract_size = 1000\n",
    "country_id = \"US\"\n",
    "fut_name = \"Coffee 'C' Futures\"\n",
    "exchange_code = \"ICE\"\n",
    "exchange_name = \"ICE\"\n",
    "ticker_step = 0.01\n",
    "unit_value = 1\n",
    "identifier = \"FUT_ICEKCZDEC21\"\n",
    "\n",
    "# Create Futures Contract function call 2 (Coffee 'C')\n",
    "create_futures_contract(\n",
    "    dom_ccy,\n",
    "    contract_code,\n",
    "    contract_month,\n",
    "    contract_size,\n",
    "    convention,\n",
    "    country_id,\n",
    "    fut_name,\n",
    "    exchange_code,\n",
    "    exchange_name,\n",
    "    unit_value,\n",
    "    ticker_step,\n",
    "    start_date,\n",
    "    maturity_date,\n",
    "    identifier,\n",
    ")"
   ]
  },
  {
   "cell_type": "markdown",
   "id": "905fce44",
   "metadata": {},
   "source": [
    "## 4. Transactions"
   ]
  },
  {
   "cell_type": "markdown",
   "id": "09ca8d6d",
   "metadata": {},
   "source": [
    "### 4.1 Create a transaction configuration for buying futures"
   ]
  },
  {
   "cell_type": "code",
   "execution_count": null,
   "id": "211e2a6d",
   "metadata": {},
   "outputs": [],
   "source": [
    "new_transaction_config = [\n",
    "    models.TransactionConfigurationDataRequest(\n",
    "        aliases=[\n",
    "            models.TransactionConfigurationTypeAlias(\n",
    "                type=\"BuyFut\",\n",
    "                description=\"An BuyFut transaction type\",\n",
    "                transaction_class=\"default\",\n",
    "                transaction_group=\"default\",\n",
    "                transaction_roles=\"Longer\",\n",
    "            )\n",
    "        ],\n",
    "        movements=[\n",
    "            models.TransactionConfigurationMovementDataRequest(\n",
    "                movement_types=\"StockMovement\",\n",
    "                side=\"Side1\",\n",
    "                direction=1,\n",
    "                properties=None,\n",
    "                mappings=[\n",
    "                                        models.TransactionPropertyMappingRequest(\n",
    "                        property_key=f\"Transaction/{scope}/FutType\",\n",
    "                        set_to=f\"Future\")\n",
    "                ]),\n",
    "                        models.TransactionConfigurationMovementDataRequest(\n",
    "                movement_types=\"CashCommitment\",\n",
    "                side=\"Side2\",\n",
    "                direction=-1,\n",
    "                properties=None,\n",
    "                mappings=[\n",
    "                                        models.TransactionPropertyMappingRequest(\n",
    "                        property_key=f\"Transaction/{scope}/FutType\",\n",
    "                         map_from=f\"Transaction/{scope}/FutType\")\n",
    "                ])\n",
    "        ],\n",
    "        properties=None,\n",
    "    )\n",
    "]\n",
    "\n",
    "new_txn_config = upsert_transaction_type_alias(\n",
    "    api_factory, new_transaction_config=new_transaction_config\n",
    ")"
   ]
  },
  {
   "cell_type": "markdown",
   "id": "6f8adcda",
   "metadata": {},
   "source": [
    "### 4.2 Create a transaction configuration for selling futures"
   ]
  },
  {
   "cell_type": "code",
   "execution_count": null,
   "id": "97acc028",
   "metadata": {},
   "outputs": [],
   "source": [
    "new_transaction_config = [\n",
    "    models.TransactionConfigurationDataRequest(\n",
    "        aliases=[\n",
    "            models.TransactionConfigurationTypeAlias(\n",
    "                type=\"SellFut\",\n",
    "                description=\"An SellFut transaction type\",\n",
    "                transaction_class=\"default\",\n",
    "                transaction_group=\"default\",\n",
    "                transaction_roles=\"Longer\",\n",
    "            )\n",
    "        ],\n",
    "        movements=[\n",
    "            models.TransactionConfigurationMovementDataRequest(\n",
    "                movement_types=\"StockMovement\",\n",
    "                side=\"Side1\",\n",
    "                direction=-1,\n",
    "                properties=None,\n",
    "                mappings=[\n",
    "                                        models.TransactionPropertyMappingRequest(\n",
    "                        property_key=f\"Transaction/{scope}/FutType\",\n",
    "                        set_to=f\"Future\")\n",
    "                ]),\n",
    "                        models.TransactionConfigurationMovementDataRequest(\n",
    "                movement_types=\"CashCommitment\",\n",
    "                side=\"Side2\",\n",
    "                direction=1,\n",
    "                properties=None,\n",
    "                mappings=[\n",
    "                                        models.TransactionPropertyMappingRequest(\n",
    "                        property_key=f\"Transaction/{scope}/FutType\",\n",
    "                         map_from=f\"Transaction/{scope}/FutType\")\n",
    "                ])\n",
    "        ],\n",
    "        properties=None,\n",
    "    )\n",
    "]\n",
    "\n",
    "new_txn_config = upsert_transaction_type_alias(\n",
    "    api_factory, new_transaction_config=new_transaction_config\n",
    ")"
   ]
  },
  {
   "cell_type": "markdown",
   "id": "162ee4c4",
   "metadata": {},
   "source": [
    "### 4.3 Book transactions"
   ]
  },
  {
   "cell_type": "code",
   "execution_count": null,
   "id": "d4b971da",
   "metadata": {},
   "outputs": [],
   "source": [
    "# Read in transaction data read from file\n",
    "futures_transactions = pd.read_excel(\"data/futures_data.xlsx\", sheet_name=\"transactions\")\n",
    "\n",
    "# Output transaction data\n",
    "futures_transactions"
   ]
  },
  {
   "cell_type": "code",
   "execution_count": null,
   "id": "0a2a8741",
   "metadata": {},
   "outputs": [],
   "source": [
    "for index, row in futures_transactions.iterrows():\n",
    "\n",
    "    upsert_transactions = transaction_portfolio_api.upsert_transactions(\n",
    "        scope=scope,\n",
    "        code=portfolio_code,\n",
    "        transaction_request=[\n",
    "            models.TransactionRequest(\n",
    "                transaction_id=row[\"txn_id\"],\n",
    "                type=row[\"txn_type\"],\n",
    "                instrument_identifiers={\n",
    "                    \"Instrument/default/ClientInternal\": row[\"client_id\"]\n",
    "                },\n",
    "                transaction_date=row[\"trade_date\"],\n",
    "                settlement_date=row[\"trade_date\"],\n",
    "                units=row[\"quantity\"],\n",
    "                transaction_price=models.TransactionPrice(\n",
    "                    price=row[\"price\"], type=\"Price\"\n",
    "                ),\n",
    "                total_consideration=models.CurrencyAndAmount(\n",
    "                    amount=row[\"tc\"], currency=\"USD\"\n",
    "                ),\n",
    "                properties = {f\"Transaction/{scope}/FutType\": models.PerpetualProperty(\n",
    "                        key=f\"Transaction/{scope}/FutType\",\n",
    "                        value=models.PropertyValue(label_value=row[\"FutType\"]),\n",
    "                    )},\n",
    "            )\n",
    "        ],\n",
    "    )"
   ]
  },
  {
   "cell_type": "markdown",
   "id": "e73507b6",
   "metadata": {},
   "source": [
    "## 5. Quotes"
   ]
  },
  {
   "cell_type": "code",
   "execution_count": null,
   "id": "23c23322",
   "metadata": {},
   "outputs": [],
   "source": [
    "# Read in futures data from file\n",
    "futures_prices = pd.read_excel(\"data/futures_data.xlsx\", sheet_name=\"prices\")\n",
    "# Output futures data\n",
    "futures_prices"
   ]
  },
  {
   "cell_type": "markdown",
   "id": "3301ee5d",
   "metadata": {},
   "source": [
    "### 5.1 Book quotes"
   ]
  },
  {
   "cell_type": "code",
   "execution_count": null,
   "id": "f26a47b0",
   "metadata": {},
   "outputs": [],
   "source": [
    "for index, row in futures_prices.iterrows():\n",
    "\n",
    "    instrument_quotes = {\n",
    "        \"upsert_request_1\": models.UpsertQuoteRequest(\n",
    "            quote_id=models.QuoteId(\n",
    "                quote_series_id=models.QuoteSeriesId(\n",
    "                    provider=\"Lusid\",\n",
    "                    instrument_id=row[\"luid\"],\n",
    "                    instrument_id_type=\"ClientInternal\",\n",
    "                    quote_type=\"Price\",\n",
    "                    field=\"mid\",\n",
    "                ),\n",
    "                effective_at=row[\"date\"],\n",
    "            ),\n",
    "            metric_value=models.MetricValue(value=row[\"prices\"], unit=\"USD\"),\n",
    "        )\n",
    "    }\n",
    "\n",
    "    # Upsert the quotes into LUSID\n",
    "    response = quotes_api.upsert_quotes(\n",
    "        scope=quotes_scope, request_body=instrument_quotes\n",
    "    )"
   ]
  },
  {
   "cell_type": "markdown",
   "id": "c9e66cb0",
   "metadata": {},
   "source": [
    "## 6. Valuations"
   ]
  },
  {
   "cell_type": "markdown",
   "id": "13b05de3",
   "metadata": {},
   "source": [
    "### 6.1 Create valuation recipe"
   ]
  },
  {
   "cell_type": "code",
   "execution_count": null,
   "id": "3369f9cf",
   "metadata": {},
   "outputs": [],
   "source": [
    "# Create a recipe to perform a valuation\n",
    "configuration_recipe = models.ConfigurationRecipe(\n",
    "    scope=scope,\n",
    "    code=\"futuresValuation\",\n",
    "    market=models.MarketContext(\n",
    "        market_rules=[\n",
    "            models.MarketDataKeyRule(\n",
    "                key=\"Equity.ClientInternal.*\",\n",
    "                supplier=\"Lusid\",\n",
    "                data_scope=scope,\n",
    "                quote_type=\"Price\",\n",
    "                field=\"mid\",\n",
    "                quote_interval=\"0D.5D\",\n",
    "            )\n",
    "        ],\n",
    "        suppliers=models.MarketContextSuppliers(\n",
    "            commodity=\"Lusid\", credit=\"Lusid\", equity=\"Lusid\", fx=\"Lusid\", rates=\"Lusid\"\n",
    "        ),\n",
    "        options=models.MarketOptions(\n",
    "            default_supplier=\"Lusid\",\n",
    "            default_instrument_code_type=\"ClientInternal\",\n",
    "            default_scope=scope,\n",
    "        ),\n",
    "    ),\n",
    "    pricing=models.PricingContext(\n",
    "        model_rules=[\n",
    "            models.VendorModelRule(\n",
    "                supplier=\"Lusid\",\n",
    "                model_name=\"SimpleStatic\",\n",
    "                instrument_type=\"Future\",\n",
    "                parameters=\"{}\",\n",
    "            )\n",
    "        ]\n",
    "    ),\n",
    ")\n",
    "\n",
    "upsert_configuration_recipe_response = (\n",
    "    configuration_recipe_api.upsert_configuration_recipe(\n",
    "        upsert_recipe_request=models.UpsertRecipeRequest(\n",
    "            configuration_recipe=configuration_recipe\n",
    "        )\n",
    "    )\n",
    ")"
   ]
  },
  {
   "cell_type": "markdown",
   "id": "6d790295",
   "metadata": {},
   "source": [
    "### 6.2 Create daily valuation function"
   ]
  },
  {
   "cell_type": "markdown",
   "id": "053520ca",
   "metadata": {},
   "source": [
    "The get_daily_fut_val() function when given a date & time along with a portfolio returns a valuation of the held instruments with an indicator of their price relative to the agreed future price. This valuation therefore enables you to know if your futures are worth more or less than you agreed to pay for them at any given time."
   ]
  },
  {
   "cell_type": "code",
   "execution_count": null,
   "id": "670de96c",
   "metadata": {},
   "outputs": [],
   "source": [
    "def get_daily_fut_val(date, portfolio_code):\n",
    "\n",
    "    valuation_request = models.ValuationRequest(\n",
    "        recipe_id=models.ResourceId(scope=scope, code=\"futuresValuation\"),\n",
    "        metrics=[\n",
    "            models.AggregateSpec(\"Instrument/default/Name\", \"Value\"),\n",
    "            models.AggregateSpec(\"Instrument/default/ClientInternal\", \"Value\"),\n",
    "            models.AggregateSpec(f\"Transaction/{scope}/FutType\", \"Value\"),\n",
    "            models.AggregateSpec(\"Instrument/Definition/ContractSize\", \"Value\"),\n",
    "            models.AggregateSpec(\"Quotes/Price\", \"Value\"),\n",
    "            models.AggregateSpec(\"Holding/default/Units\", \"Value\"),\n",
    "            models.AggregateSpec(\"Valuation/PV/Amount\", \"Value\"),\n",
    "            # models.AggregateSpec(\"Valuation/Exposure/Amount\", \"Value\"),\n",
    "            \n",
    "        ],\n",
    "        group_by=[\"Instrument/default/Name\", f\"Transaction/{scope}/FutType\"],\n",
    "        portfolio_entity_ids=[\n",
    "            models.PortfolioEntityId(scope=scope, code=portfolio_code)\n",
    "        ],\n",
    "        valuation_schedule=models.ValuationSchedule(effective_at=date),\n",
    "    )\n",
    "\n",
    "    val_data = aggregration_api.get_valuation(valuation_request=valuation_request).data\n",
    "\n",
    "    vals_df = pd.DataFrame(val_data)\n",
    "\n",
    "    vals_df.rename(\n",
    "        columns={\n",
    "            \"Instrument/default/Name\": \"InstrumentName\",\n",
    "            \"Instrument/default/ClientInternal\": \"ClientInternal\",\n",
    "            \"Valuation/PV/Amount\": \"Value\",\n",
    "            \"Valuation/Exposure/Amount\": \"Exposure\",\n",
    "            \"Transaction/ibor/FutType\": \"FutType\",\n",
    "            \"Instrument/Definition/ContractSize\": \"ContractSize\",\n",
    "            \n",
    "        },\n",
    "        inplace=True,\n",
    "    )\n",
    "\n",
    "    dftotal = vals_df['Value'].sum()\n",
    "    new_row = {'Value': dftotal, '': \"SUBTOTAL\"}\n",
    "    vals_df = vals_df.append(new_row, ignore_index=True)\n",
    "    vals_df = vals_df.fillna(\"\")\n",
    "    \n",
    "    columns_titles = [\"\",\"Value\", \"InstrumentName\", \"ClientInternal\", \"FutType\", \"ContractSize\", \"Quotes/Price\", \"Holding/default/Units\"]\n",
    "    vals_df=vals_df.reindex(columns=columns_titles)\n",
    "    return vals_df"
   ]
  },
  {
   "cell_type": "markdown",
   "id": "6a34f880",
   "metadata": {},
   "source": [
    "### 6.3 Daily Valuations"
   ]
  },
  {
   "cell_type": "markdown",
   "id": "5c18eae8",
   "metadata": {},
   "source": [
    "Note: The final row of each valuation table shows the subtotal of the values column and thus shows the combined profits/losses both realisesd and unrealised.\n",
    "\n",
    "#### Day 1\n",
    "\n",
    "At 9AM on Day 1 we enter into two new Futures contracts: OJ and Coffee. Throughout Day 1, the contract prices move. We then run a Valuation at end of Day 1. This valuation shows that the Coffee 'C' Future Contract position is \"in the money\" with an unrealised profit of $10,000."
   ]
  },
  {
   "cell_type": "code",
   "execution_count": null,
   "id": "bed71deb",
   "metadata": {},
   "outputs": [],
   "source": [
    "get_daily_fut_val(\"2021-01-01T09:00:00Z\", portfolio_code)"
   ]
  },
  {
   "cell_type": "code",
   "execution_count": null,
   "id": "12485182",
   "metadata": {},
   "outputs": [],
   "source": [
    "get_daily_fut_val(\"2021-01-01T18:00:00Z\", portfolio_code)"
   ]
  },
  {
   "cell_type": "markdown",
   "id": "37957952",
   "metadata": {},
   "source": [
    "#### Day 2\n",
    "\n",
    "Throughout Day 2, the contract prices move again and we run the valuation again at the end of the day. This valuation shows that both the Coffee 'C' and FCOJ-A are both now \"out of the money\" with unrealised losses of \\\\$20,000 and \\\\$30,000 respectively."
   ]
  },
  {
   "cell_type": "code",
   "execution_count": null,
   "id": "bef004f2",
   "metadata": {},
   "outputs": [],
   "source": [
    "get_daily_fut_val(\"2021-01-02T18:00:00Z\", portfolio_code)"
   ]
  },
  {
   "cell_type": "markdown",
   "id": "541527f0",
   "metadata": {},
   "source": [
    "#### Day 3\n",
    "\n",
    "Throughout Day 3, the contract prices move again and we run the valuation again at the end of the day. This valuation shows that both the Coffee 'C' and FCOJ-A have both returned to positions that are \"in the money\" with unrealised profits of \\\\$10,000 and \\\\$20,000 respectively."
   ]
  },
  {
   "cell_type": "code",
   "execution_count": null,
   "id": "307f4ef7",
   "metadata": {},
   "outputs": [],
   "source": [
    "get_daily_fut_val(\"2021-01-03T18:00:00Z\", portfolio_code)"
   ]
  },
  {
   "cell_type": "markdown",
   "id": "997df1ff",
   "metadata": {},
   "source": [
    "#### Day 4\n",
    "\n",
    "Throughout Day 4, the contract prices move again and we run the valuation again at the end of the day. This valuation shows that both the Coffee 'C' and FCOJ-A have both remained in positions that are \"in the money\" with increased unrealised profits of \\\\$30,000 and \\\\$35,000 respectively (Not \\\\$70,000 as 5 units were sold). Due to the positive price movements in the last 24 hours, half of the FCOJ-A Units were sold at a value of 106 relative to the contracted future price resulting in \\\\$30,000 in realised profits."
   ]
  },
  {
   "cell_type": "code",
   "execution_count": null,
   "id": "aa33d482",
   "metadata": {},
   "outputs": [],
   "source": [
    "get_daily_fut_val(\"2021-01-04T18:00:00Z\", portfolio_code)"
   ]
  },
  {
   "cell_type": "code",
   "execution_count": null,
   "id": "f6e1ff19",
   "metadata": {},
   "outputs": [],
   "source": []
  }
 ],
 "metadata": {
  "kernelspec": {
   "display_name": "Python 3 (ipykernel)",
   "language": "python",
   "name": "python3"
  },
  "language_info": {
   "codemirror_mode": {
    "name": "ipython",
    "version": 3
   },
   "file_extension": ".py",
   "mimetype": "text/x-python",
   "name": "python",
   "nbconvert_exporter": "python",
   "pygments_lexer": "ipython3",
   "version": "3.7.3"
  }
 },
 "nbformat": 4,
 "nbformat_minor": 5
}
