{
 "cells": [
  {
   "cell_type": "markdown",
   "id": "37bd1f1d",
   "metadata": {},
   "source": [
    "# SRS Example"
   ]
  },
  {
   "cell_type": "markdown",
   "id": "beeead54",
   "metadata": {},
   "source": [
    "This notebook will walk through an example of upserting data to the [Structured Results Store](https://www.lusid.com/docs/api#tag/Structured-Result-Data)  mapping the fields in LUSID and running a valuation."
   ]
  },
  {
   "cell_type": "markdown",
   "id": "529bc9a7",
   "metadata": {},
   "source": [
    "## Import Modules"
   ]
  },
  {
   "cell_type": "code",
   "execution_count": 1,
   "id": "6335e54d",
   "metadata": {},
   "outputs": [
    {
     "name": "stderr",
     "output_type": "stream",
     "text": [
      "WARNING:root:Provided secrets file of secrets.json can not be found, please ensure you have correctly specified the full path to the file or don't provide a secrets file to use environment variables instead.\n"
     ]
    }
   ],
   "source": [
    "from datetime import datetime\n",
    "from pstats import SortKey\n",
    "import pytz\n",
    "import uuid\n",
    "\n",
    "from lusid import models\n",
    "from lusid.utilities import ApiClientFactory\n",
    "from lusid.api import (\n",
    "    InstrumentsApi,\n",
    "    ConfigurationRecipeApi,\n",
    "    PortfoliosApi,\n",
    "    TransactionPortfoliosApi,\n",
    "    StructuredResultDataApi,\n",
    "    AggregationApi\n",
    ")\n",
    "\n",
    "from lusidjam import RefreshingToken\n",
    "\n",
    "api_factory = ApiClientFactory(\n",
    "    token=RefreshingToken(),\n",
    "    api_secrets_filename = \"secrets.json\",\n",
    "    app_name=\"jv-test-app\")\n",
    "\n",
    "instruments_api = api_factory.build(InstrumentsApi)\n",
    "transaction_portfolios_api = api_factory.build(TransactionPortfoliosApi)\n",
    "transaction_portfolios_api = api_factory.build(TransactionPortfoliosApi)\n",
    "results_api = api_factory.build(StructuredResultDataApi)\n",
    "agg_api = api_factory.build(AggregationApi)"
   ]
  },
  {
   "cell_type": "code",
   "execution_count": 2,
   "id": "82a23fa4",
   "metadata": {},
   "outputs": [],
   "source": [
    "eff_date1 = datetime(2018, 1, 1, tzinfo=pytz.utc)\n",
    "eff_date2 = datetime(2018, 1, 2, tzinfo=pytz.utc)\n",
    "eff_date3 = datetime(2018, 1, 3, tzinfo=pytz.utc)\n",
    "scope1 = \"scope1\"\n",
    "scope2 = \"scope2\"\n",
    "docScope = uuid.uuid4().__str__()\n",
    "commonScope = uuid.uuid4().__str__()\n",
    "pfCode1 = \"pf1\"\n",
    "pfCode2 = \"pf2\""
   ]
  },
  {
   "cell_type": "code",
   "execution_count": 3,
   "id": "42ba62b7",
   "metadata": {},
   "outputs": [
    {
     "data": {
      "text/plain": [
       "{'failed': {},\n",
       " 'href': None,\n",
       " 'links': [{'description': None,\n",
       "            'href': 'https://omar.lusid.com/api/api/schemas/entities/UpsertInstrumentsResponse',\n",
       "            'method': 'GET',\n",
       "            'relation': 'EntitySchema'},\n",
       "           {'description': 'A link to the LUSID Insights website showing all '\n",
       "                           'logs related to this request',\n",
       "            'href': 'http://omar.lusid.com/app/insights/logs/0HMALQPJF4FNG:00000001',\n",
       "            'method': 'GET',\n",
       "            'relation': 'RequestLogs'}],\n",
       " 'values': {'1': {'href': 'https://omar.lusid.com/api/api/instruments/LusidInstrumentId/CCY_GBP',\n",
       "                  'identifiers': {'Currency': 'GBP',\n",
       "                                  'LusidInstrumentId': 'CCY_GBP'},\n",
       "                  'instrument_definition': None,\n",
       "                  'links': None,\n",
       "                  'lookthrough_portfolio': None,\n",
       "                  'lusid_instrument_id': 'CCY_GBP',\n",
       "                  'name': 'GBP',\n",
       "                  'properties': [],\n",
       "                  'state': 'Active',\n",
       "                  'version': {'as_at_date': datetime.datetime(2021, 3, 25, 17, 44, 47, 356896, tzinfo=tzlocal()),\n",
       "                              'effective_from': datetime.datetime(1, 1, 1, 0, 0, tzinfo=tzlocal())}},\n",
       "            '2': {'href': 'https://omar.lusid.com/api/api/instruments/LusidInstrumentId/CCY_USD',\n",
       "                  'identifiers': {'Currency': 'USD',\n",
       "                                  'LusidInstrumentId': 'CCY_USD'},\n",
       "                  'instrument_definition': None,\n",
       "                  'links': None,\n",
       "                  'lookthrough_portfolio': None,\n",
       "                  'lusid_instrument_id': 'CCY_USD',\n",
       "                  'name': 'USD',\n",
       "                  'properties': [],\n",
       "                  'state': 'Active',\n",
       "                  'version': {'as_at_date': datetime.datetime(2021, 3, 25, 17, 44, 47, 356896, tzinfo=tzlocal()),\n",
       "                              'effective_from': datetime.datetime(1, 1, 1, 0, 0, tzinfo=tzlocal())}},\n",
       "            '3': {'href': 'https://omar.lusid.com/api/api/instruments/LusidInstrumentId/CCY_EUR',\n",
       "                  'identifiers': {'Currency': 'EUR',\n",
       "                                  'LusidInstrumentId': 'CCY_EUR'},\n",
       "                  'instrument_definition': None,\n",
       "                  'links': None,\n",
       "                  'lookthrough_portfolio': None,\n",
       "                  'lusid_instrument_id': 'CCY_EUR',\n",
       "                  'name': 'EUR',\n",
       "                  'properties': [],\n",
       "                  'state': 'Active',\n",
       "                  'version': {'as_at_date': datetime.datetime(2021, 3, 25, 17, 44, 47, 356896, tzinfo=tzlocal()),\n",
       "                              'effective_from': datetime.datetime(1, 1, 1, 0, 0, tzinfo=tzlocal())}},\n",
       "            '4': {'href': 'https://omar.lusid.com/api/api/instruments/LusidInstrumentId/CCY_JPY',\n",
       "                  'identifiers': {'Currency': 'JPY',\n",
       "                                  'LusidInstrumentId': 'CCY_JPY'},\n",
       "                  'instrument_definition': None,\n",
       "                  'links': None,\n",
       "                  'lookthrough_portfolio': None,\n",
       "                  'lusid_instrument_id': 'CCY_JPY',\n",
       "                  'name': 'JPY',\n",
       "                  'properties': [],\n",
       "                  'state': 'Active',\n",
       "                  'version': {'as_at_date': datetime.datetime(2021, 3, 25, 17, 44, 47, 356896, tzinfo=tzlocal()),\n",
       "                              'effective_from': datetime.datetime(1, 1, 1, 0, 0, tzinfo=tzlocal())}},\n",
       "            '5': {'href': 'https://omar.lusid.com/api/api/instruments/LusidInstrumentId/CCY_ZZZ',\n",
       "                  'identifiers': {'Currency': 'ZZZ',\n",
       "                                  'LusidInstrumentId': 'CCY_ZZZ'},\n",
       "                  'instrument_definition': None,\n",
       "                  'links': None,\n",
       "                  'lookthrough_portfolio': None,\n",
       "                  'lusid_instrument_id': 'CCY_ZZZ',\n",
       "                  'name': 'ZZZ',\n",
       "                  'properties': [],\n",
       "                  'state': 'Active',\n",
       "                  'version': {'as_at_date': datetime.datetime(2021, 3, 25, 17, 44, 47, 356896, tzinfo=tzlocal()),\n",
       "                              'effective_from': datetime.datetime(1, 1, 1, 0, 0, tzinfo=tzlocal())}}}}"
      ]
     },
     "execution_count": 3,
     "metadata": {},
     "output_type": "execute_result"
    }
   ],
   "source": [
    "#Instruments must be created when running locally\n",
    "instruments = {\n",
    "    \"1\": models.InstrumentDefinition(name=\"GBP\", identifiers={\"Currency\": models.InstrumentIdValue(\"GBP\")}),\n",
    "    \"2\": models.InstrumentDefinition(name=\"USD\", identifiers={\"Currency\": models.InstrumentIdValue(\"USD\")}),\n",
    "    \"3\": models.InstrumentDefinition(name=\"EUR\", identifiers={\"Currency\": models.InstrumentIdValue(\"EUR\")}),\n",
    "    \"4\": models.InstrumentDefinition(name=\"JPY\", identifiers={\"Currency\": models.InstrumentIdValue(\"JPY\")}),\n",
    "    \"5\": models.InstrumentDefinition(name=\"ZZZ\", identifiers={\"Currency\": models.InstrumentIdValue(\"ZZZ\")}),\n",
    "}\n",
    "\n",
    "instruments_api.upsert_instruments(instruments)"
   ]
  },
  {
   "cell_type": "markdown",
   "id": "b15808e4",
   "metadata": {},
   "source": [
    "# Create two portfolios"
   ]
  },
  {
   "cell_type": "code",
   "execution_count": 4,
   "id": "ea349a0a",
   "metadata": {},
   "outputs": [
    {
     "name": "stdout",
     "output_type": "stream",
     "text": [
      "pf already created (400)\n",
      "Reason: Bad Request\n",
      "HTTP response headers: HTTPHeaderDict({'Date': 'Tue, 03 Aug 2021 09:23:55 GMT', 'Content-Type': 'application/problem+json', 'Transfer-Encoding': 'chunked', 'Connection': 'keep-alive', 'X-Rate-Limit-Limit': '1m', 'X-Rate-Limit-Remaining': '4996', 'X-Rate-Limit-Reset': '2021-08-03T09:24:36.8283806Z', 'lusid-meta-success': 'False', 'lusid-meta-requestId': '0HMALQPJF4FNI:00000001', 'lusid-meta-correlationId': '0HMALQPJF4FNI:00000001', 'lusid-meta-duration': '189', 'Strict-Transport-Security': 'max-age=15724800; includeSubDomains', 'Server': 'FINBOURNE', 'Content-Security-Policy': \"default-src 'self' https://*.lusid.com https://*.finbourne.com; script-src 'unsafe-inline' 'self' https://*.lusid.com https://*.finbourne.com; font-src 'self' fonts.googleapis.com; img-src data: 'self' https://*.lusid.com https://*.finbourne.com; style-src 'unsafe-inline' 'self' https://*.lusid.com https://*.finbourne.com; report-uri https://lusid.report-uri.com/r/d/csp/enforce\", 'X-Frame-Options': 'SAMEORIGIN', 'Feature-Policy': \"fullscreen 'self'; geolocation 'self'; autoplay 'self'; accelerometer 'none'; ambient-light-sensor 'none'; battery 'none'; camera 'none'; display-capture 'none'; document-domain 'none'; encrypted-media 'none'; execution-while-not-rendered 'none'; execution-while-out-of-viewport 'none'; gyroscope 'none'; layout-animations 'none'; legacy-image-formats 'none'; magnetometer 'none'; microphone 'none'; midi 'none'; navigation-override 'none'; oversized-images 'none'; payment 'none'; picture-in-picture 'none'; publickey-credentials-get 'none'; sync-xhr 'none'; usb 'none'; vr 'none'; wake-lock 'none'; screen-wake-lock 'none'; web-share 'none'; xr-spatial-tracking 'none'\", 'Referrer-Policy': 'strict-origin-when-cross-origin', 'X-XSS-Protection': '1; mode=block', 'X-Content-Type-Options': 'nosniff', 'Expect-CT': \"max-age=3600, enforce, report-uri='https://lusid.report-uri.com/r/d/ct/enforce'\"})\n",
      "HTTP response body: b'{\"name\":\"PortfolioWithIdAlreadyExists\",\"errorDetails\":[],\"code\":112,\"type\":\"https://docs.lusid.com/#section/Error-Codes/112\",\"title\":\"Could not create a portfolio with id pf1 because it already exists in scope scope1.\",\"status\":400,\"detail\":\"Error creating portfolio with id pf1 in scope scope1 effective at 2018-01-01T00:00:00.0000000+00:00 because it already exists.\",\"instance\":\"https://omar.lusid.com/app/insights/logs/0HMALQPJF4FNI:00000001\",\"extensions\":{}}'\n",
      "\n"
     ]
    }
   ],
   "source": [
    "try:\n",
    "    transaction_portfolios_api.create_portfolio(\n",
    "        scope=scope1,\n",
    "        create_transaction_portfolio_request=models.CreateTransactionPortfolioRequest(\n",
    "            display_name=\"pf1\",\n",
    "            description=\"description pf1\",\n",
    "            code=pfCode1,\n",
    "            created=eff_date1,\n",
    "            base_currency=\"USD\"\n",
    "        )\n",
    "    )\n",
    "except Exception as e:\n",
    "    print(\"pf already created\", e)"
   ]
  },
  {
   "cell_type": "code",
   "execution_count": 5,
   "id": "cdb92a02",
   "metadata": {},
   "outputs": [
    {
     "name": "stdout",
     "output_type": "stream",
     "text": [
      "pf already created (400)\n",
      "Reason: Bad Request\n",
      "HTTP response headers: HTTPHeaderDict({'Date': 'Tue, 03 Aug 2021 09:23:55 GMT', 'Content-Type': 'application/problem+json', 'Transfer-Encoding': 'chunked', 'Connection': 'keep-alive', 'X-Rate-Limit-Limit': '1m', 'X-Rate-Limit-Remaining': '4995', 'X-Rate-Limit-Reset': '2021-08-03T09:24:36.8283806Z', 'lusid-meta-success': 'False', 'lusid-meta-requestId': '0HMALQPJF4FNJ:00000001', 'lusid-meta-correlationId': '0HMALQPJF4FNJ:00000001', 'lusid-meta-duration': '117', 'Strict-Transport-Security': 'max-age=15724800; includeSubDomains', 'Server': 'FINBOURNE', 'Content-Security-Policy': \"default-src 'self' https://*.lusid.com https://*.finbourne.com; script-src 'unsafe-inline' 'self' https://*.lusid.com https://*.finbourne.com; font-src 'self' fonts.googleapis.com; img-src data: 'self' https://*.lusid.com https://*.finbourne.com; style-src 'unsafe-inline' 'self' https://*.lusid.com https://*.finbourne.com; report-uri https://lusid.report-uri.com/r/d/csp/enforce\", 'X-Frame-Options': 'SAMEORIGIN', 'Feature-Policy': \"fullscreen 'self'; geolocation 'self'; autoplay 'self'; accelerometer 'none'; ambient-light-sensor 'none'; battery 'none'; camera 'none'; display-capture 'none'; document-domain 'none'; encrypted-media 'none'; execution-while-not-rendered 'none'; execution-while-out-of-viewport 'none'; gyroscope 'none'; layout-animations 'none'; legacy-image-formats 'none'; magnetometer 'none'; microphone 'none'; midi 'none'; navigation-override 'none'; oversized-images 'none'; payment 'none'; picture-in-picture 'none'; publickey-credentials-get 'none'; sync-xhr 'none'; usb 'none'; vr 'none'; wake-lock 'none'; screen-wake-lock 'none'; web-share 'none'; xr-spatial-tracking 'none'\", 'Referrer-Policy': 'strict-origin-when-cross-origin', 'X-XSS-Protection': '1; mode=block', 'X-Content-Type-Options': 'nosniff', 'Expect-CT': \"max-age=3600, enforce, report-uri='https://lusid.report-uri.com/r/d/ct/enforce'\"})\n",
      "HTTP response body: b'{\"name\":\"PortfolioWithIdAlreadyExists\",\"errorDetails\":[],\"code\":112,\"type\":\"https://docs.lusid.com/#section/Error-Codes/112\",\"title\":\"Could not create a portfolio with id pf2 because it already exists in scope scope2.\",\"status\":400,\"detail\":\"Error creating portfolio with id pf2 in scope scope2 effective at 2018-01-01T00:00:00.0000000+00:00 because it already exists.\",\"instance\":\"https://omar.lusid.com/app/insights/logs/0HMALQPJF4FNJ:00000001\",\"extensions\":{}}'\n",
      "\n"
     ]
    }
   ],
   "source": [
    "try:\n",
    "    transaction_portfolios_api.create_portfolio(\n",
    "        scope=scope2,\n",
    "        create_transaction_portfolio_request=models.CreateTransactionPortfolioRequest(\n",
    "            display_name=\"pf2\",\n",
    "            description=\"description pf2\",\n",
    "            code=pfCode2,\n",
    "            created=eff_date1,\n",
    "            base_currency=\"USD\"\n",
    "        )\n",
    "    )\n",
    "except  Exception as e:\n",
    "    print(\"pf already created\",  e)"
   ]
  },
  {
   "cell_type": "markdown",
   "id": "852e18d1",
   "metadata": {},
   "source": [
    "## Create some instruments"
   ]
  },
  {
   "cell_type": "code",
   "execution_count": 6,
   "id": "49ee22e1",
   "metadata": {},
   "outputs": [
    {
     "data": {
      "text/plain": [
       "{'failed': {},\n",
       " 'href': None,\n",
       " 'links': [{'description': None,\n",
       "            'href': 'https://omar.lusid.com/api/api/schemas/entities/UpsertInstrumentsResponse',\n",
       "            'method': 'GET',\n",
       "            'relation': 'EntitySchema'},\n",
       "           {'description': 'A link to the LUSID Insights website showing all '\n",
       "                           'logs related to this request',\n",
       "            'href': 'http://omar.lusid.com/app/insights/logs/0HMALQP2R122H:00000001',\n",
       "            'method': 'GET',\n",
       "            'relation': 'RequestLogs'}],\n",
       " 'values': {'inst1': {'href': 'https://omar.lusid.com/api/api/instruments/LusidInstrumentId/LUID_ELKI0MLN',\n",
       "                      'identifiers': {'ClientInternal': '3e54b856-f838-4d4b-9f31-e8f67cea0349',\n",
       "                                      'LusidInstrumentId': 'LUID_ELKI0MLN'},\n",
       "                      'instrument_definition': None,\n",
       "                      'links': None,\n",
       "                      'lookthrough_portfolio': None,\n",
       "                      'lusid_instrument_id': 'LUID_ELKI0MLN',\n",
       "                      'name': 'inst1',\n",
       "                      'properties': [],\n",
       "                      'state': 'Active',\n",
       "                      'version': {'as_at_date': datetime.datetime(2021, 8, 3, 9, 23, 56, 43041, tzinfo=tzlocal()),\n",
       "                                  'effective_from': datetime.datetime(1, 1, 1, 0, 0, tzinfo=tzlocal())}},\n",
       "            'inst2': {'href': 'https://omar.lusid.com/api/api/instruments/LusidInstrumentId/LUID_9IPFXUU0',\n",
       "                      'identifiers': {'ClientInternal': '7a67ed0a-4810-4a17-bd1c-d936e655b724',\n",
       "                                      'LusidInstrumentId': 'LUID_9IPFXUU0'},\n",
       "                      'instrument_definition': None,\n",
       "                      'links': None,\n",
       "                      'lookthrough_portfolio': None,\n",
       "                      'lusid_instrument_id': 'LUID_9IPFXUU0',\n",
       "                      'name': 'inst2',\n",
       "                      'properties': [],\n",
       "                      'state': 'Active',\n",
       "                      'version': {'as_at_date': datetime.datetime(2021, 8, 3, 9, 23, 56, 43041, tzinfo=tzlocal()),\n",
       "                                  'effective_from': datetime.datetime(1, 1, 1, 0, 0, tzinfo=tzlocal())}}}}"
      ]
     },
     "execution_count": 6,
     "metadata": {},
     "output_type": "execute_result"
    }
   ],
   "source": [
    "inst1 = uuid.uuid4().__str__()\n",
    "inst2 = uuid.uuid4().__str__()\n",
    "txn1 = uuid.uuid4().__str__()\n",
    "txn2 = uuid.uuid4().__str__()\n",
    "\n",
    "instruments = {\n",
    "    \"inst1\": models.InstrumentDefinition(name=\"inst1\", identifiers={\"ClientInternal\": models.InstrumentIdValue(inst1)}),\n",
    "    \"inst2\": models.InstrumentDefinition(name=\"inst2\", identifiers={\"ClientInternal\": models.InstrumentIdValue(inst2)}),\n",
    "}\n",
    "instruments_api.upsert_instruments(instruments)"
   ]
  },
  {
   "cell_type": "markdown",
   "id": "d88e5c9a",
   "metadata": {},
   "source": [
    "## Create the transactions"
   ]
  },
  {
   "cell_type": "code",
   "execution_count": 7,
   "id": "a00e5d56",
   "metadata": {},
   "outputs": [
    {
     "data": {
      "text/plain": [
       "{'href': 'https://omar.lusid.com/api/api/transactionportfolios/scope2/pf2/transactions?asAt=2021-08-03T09%3A23%3A57.0315530%2B00%3A00',\n",
       " 'links': [{'description': None,\n",
       "            'href': 'https://omar.lusid.com/api/api/portfolios/scope2/pf2?effectiveAt=2018-01-01T00%3A00%3A00.0000000%2B00%3A00&asAt=2021-08-03T09%3A23%3A57.0315530%2B00%3A00',\n",
       "            'method': 'GET',\n",
       "            'relation': 'Root'},\n",
       "           {'description': None,\n",
       "            'href': 'https://omar.lusid.com/api/api/schemas/entities/UpsertPortfolioTransactionsResponse',\n",
       "            'method': 'GET',\n",
       "            'relation': 'EntitySchema'},\n",
       "           {'description': 'A link to the LUSID Insights website showing all '\n",
       "                           'logs related to this request',\n",
       "            'href': 'http://omar.lusid.com/app/insights/logs/0HMALQP2R122I:00000001',\n",
       "            'method': 'GET',\n",
       "            'relation': 'RequestLogs'}],\n",
       " 'version': {'as_at_date': datetime.datetime(2021, 8, 3, 9, 23, 57, 31553, tzinfo=tzlocal()),\n",
       "             'effective_from': datetime.datetime(2018, 1, 1, 0, 0, tzinfo=tzlocal())}}"
      ]
     },
     "execution_count": 7,
     "metadata": {},
     "output_type": "execute_result"
    }
   ],
   "source": [
    "# create some transactions\n",
    "txn1 = models.TransactionRequest(\n",
    "    transaction_id=txn1,\n",
    "    type=\"Buy\",\n",
    "    instrument_identifiers={\"Instrument/default/ClientInternal\": inst1},\n",
    "    transaction_date=eff_date1,\n",
    "    settlement_date=eff_date1,\n",
    "    units=100,\n",
    "    transaction_price=models.TransactionPrice(12.3),\n",
    "    total_consideration=models.CurrencyAndAmount(1230, \"USD\"),\n",
    "    source=\"Client\"\n",
    ")\n",
    "\n",
    "txn2 = models.TransactionRequest(\n",
    "    transaction_id=txn2,\n",
    "    type=\"Buy\",\n",
    "    instrument_identifiers={\"Instrument/default/ClientInternal\": inst2},\n",
    "    transaction_date=eff_date1,\n",
    "    settlement_date=eff_date1,\n",
    "    units=100,\n",
    "    transaction_price=models.TransactionPrice(12.3),\n",
    "    total_consideration=models.CurrencyAndAmount(1230, \"USD\"),\n",
    "    source=\"Client\"\n",
    ")\n",
    "\n",
    "transaction_portfolios_api.upsert_transactions(\n",
    "    scope=scope1,\n",
    "    code=pfCode1,\n",
    "    transaction_request=[txn1]\n",
    ")\n",
    "\n",
    "transaction_portfolios_api.upsert_transactions(\n",
    "    scope=scope2,\n",
    "    code=pfCode2,\n",
    "    transaction_request=[txn2]\n",
    ")"
   ]
  },
  {
   "cell_type": "markdown",
   "id": "5ee43a9a",
   "metadata": {},
   "source": [
    "## DataMap"
   ]
  },
  {
   "cell_type": "code",
   "execution_count": 14,
   "id": "8082c388",
   "metadata": {},
   "outputs": [],
   "source": [
    "version = \"1.0.1\"\n",
    "# create a datamap\n",
    "data_map_key_daily = models.DataMapKey(\n",
    "    code = \"sample-returns-daily-gross-total\",\n",
    "    version = version\n",
    ")\n",
    "\n",
    "try:\n",
    "    results_api.create_data_map(\n",
    "        scope = docScope,\n",
    "        request_body = {\n",
    "            \"data-map\": models.CreateDataMapRequest(\n",
    "                id=data_map_key_daily,\n",
    "                data=models.DataMapping(data_definitions=[\n",
    "                    models.DataDefinition(address=\"UnitResult/PortfolioCode\", data_type=\"string\", name=\".pfCode\", key_type=\"PartOfUnique\"),\n",
    "                    models.DataDefinition(address=\"UnitResult/PortfolioScope\", data_type=\"string\", name=\".pfScope\", key_type=\"PartOfUnique\"),\n",
    "                    models.DataDefinition(address=\"UnitResult/Returns/Daily/Gross/Total/RateOfReturn\", data_type=\"decimal\", name=\".rateOfReturn\", key_type=\"Leaf\"),\n",
    "                    models.DataDefinition(address=\"UnitResult/Returns/Daily/Gross/Total/BeginMarketValue\", data_type=\"decimal\", name=\".beginMarketValue\", key_type=\"Leaf\"),\n",
    "                    models.DataDefinition(address=\"UnitResult/Returns/Daily/Gross/Total/EndMarketValue\", data_type=\"decimal\", name=\".endMarketValue\", key_type=\"Leaf\"),\n",
    "                    models.DataDefinition(address=\"UnitResult/Returns/Daily/Gross/Total/NetCashFlow\", data_type=\"decimal\", name=\".netCashFlow\", key_type=\"Leaf\"),\n",
    "                ])\n",
    "            )\n",
    "        }\n",
    "    )\n",
    "except:\n",
    "    print(\"DataMaps are immutable - a datamap under this key already exists\")\n",
    "\n",
    "data_map_key_monthly = models.DataMapKey(\n",
    "    code = \"sample-returns-monthly-gross-total\",\n",
    "    version = version\n",
    ")\n",
    "\n",
    "try:\n",
    "    results_api.create_data_map(\n",
    "        scope = docScope,\n",
    "        request_body = {\n",
    "            \"data-map\": models.CreateDataMapRequest(\n",
    "                id=data_map_key_monthly,\n",
    "                data=models.DataMapping(data_definitions=[\n",
    "                    models.DataDefinition(address=\"UnitResult/PortfolioCode\", data_type=\"string\", name=\".pfCode\", key_type=\"PartOfUnique\"),\n",
    "                    models.DataDefinition(address=\"UnitResult/PortfolioScope\", data_type=\"string\", name=\".pfScope\", key_type=\"PartOfUnique\"),\n",
    "                    models.DataDefinition(address=\"UnitResult/Returns/Monthly/Gross/Total/RateOfReturn\", data_type=\"decimal\", name=\".rateOfReturn\", key_type=\"Leaf\"),\n",
    "                    models.DataDefinition(address=\"UnitResult/Returns/Monthly/Gross/Total/BeginMarketValue\", data_type=\"decimal\", name=\".beginMarketValue\", key_type=\"Leaf\"),\n",
    "                    models.DataDefinition(address=\"UnitResult/Returns/Monthly/Gross/Total/EndMarketValue\", data_type=\"decimal\", name=\".endMarketValue\", key_type=\"Leaf\"),\n",
    "                    models.DataDefinition(address=\"UnitResult/Returns/Monthly/Gross/Total/NetCashFlow\", data_type=\"decimal\", name=\".netCashFlow\", key_type=\"Leaf\"),\n",
    "                ])\n",
    "            )\n",
    "        }\n",
    "    )\n",
    "except:\n",
    "    print(\"DataMaps are immutable - a datamap under this key already exists\")"
   ]
  },
  {
   "cell_type": "markdown",
   "id": "562d6611",
   "metadata": {},
   "source": [
    "## Upsert Results"
   ]
  },
  {
   "cell_type": "code",
   "execution_count": 15,
   "id": "2418aa72",
   "metadata": {},
   "outputs": [],
   "source": [
    "daily0603 = open(\"perf_daily_20210603.json\").read()\n",
    "daily0604 = open(\"perf_daily_20210604.json\").read()\n",
    "monthly0601 = open(\"perf_monthly_20210601.json\").read()\n",
    "\n",
    "docName_daily = \"daily-gross-returns\"\n",
    "result_id1 = models.StructuredResultDataId(\n",
    "    source = \"Client\",\n",
    "    code = docName_daily,\n",
    "    effective_at = datetime(2021, 6, 3, tzinfo=pytz.utc), \n",
    "    result_type = \"UnitResult/Grouped\"\n",
    ")\n",
    "\n",
    "result_data1 = models.StructuredResultData(\n",
    "    document_format = \"Json\",\n",
    "    version = version,\n",
    "    name = \"some metadata name\",\n",
    "    document = daily0603,\n",
    "    data_map_key = data_map_key_daily\n",
    ")\n",
    "\n",
    "result_id2 = models.StructuredResultDataId(\n",
    "    source = \"Client\",\n",
    "    code = docName_daily,\n",
    "    effective_at = datetime(2021, 6, 4, tzinfo=pytz.utc), \n",
    "    result_type = \"UnitResult/Grouped\"\n",
    ")\n",
    "\n",
    "result_data2 = models.StructuredResultData(\n",
    "    document_format = \"Json\",\n",
    "    version = version,\n",
    "    name = \"some metadata name\",\n",
    "    document = daily0604,\n",
    "    data_map_key = data_map_key_daily\n",
    ")\n",
    "\n",
    "docName_monthly = \"monthly-gross-returns\"\n",
    "result_id3 = models.StructuredResultDataId(\n",
    "    source = \"Client\",\n",
    "    code = docName_monthly,\n",
    "    effective_at = datetime(2021, 6, 1, tzinfo=pytz.utc), \n",
    "    result_type = \"UnitResult/Grouped\"\n",
    ")\n",
    "result_data3 = models.StructuredResultData(\n",
    "    document_format = \"Json\",\n",
    "    version = version,\n",
    "    name = \"some metadata name\",\n",
    "    document = monthly0601,\n",
    "    data_map_key = data_map_key_monthly\n",
    ")\n",
    "\n",
    "usrd = results_api.upsert_structured_result_data(\n",
    "    scope = docScope,\n",
    "    request_body = {\n",
    "        \"data1\": models.UpsertStructuredResultDataRequest(id=result_id1, data=result_data1),\n",
    "        \"data2\": models.UpsertStructuredResultDataRequest(id=result_id2, data=result_data2),\n",
    "        \"data3\": models.UpsertStructuredResultDataRequest(id=result_id3, data=result_data3)\n",
    "    }\n",
    ")\n"
   ]
  },
  {
   "cell_type": "markdown",
   "id": "d03ec8c1",
   "metadata": {},
   "source": [
    "## Define recipie for valuation"
   ]
  },
  {
   "cell_type": "code",
   "execution_count": 16,
   "id": "238619e5",
   "metadata": {},
   "outputs": [
    {
     "data": {
      "text/plain": [
       "{'href': None,\n",
       " 'links': [{'description': 'A link to the LUSID Insights website showing all '\n",
       "                           'logs related to this request',\n",
       "            'href': 'http://omar.lusid.com/app/insights/logs/0HMALQP2R14VP:00000001',\n",
       "            'method': 'GET',\n",
       "            'relation': 'RequestLogs'}],\n",
       " 'value': datetime.datetime(2021, 8, 3, 10, 25, 34, 711092, tzinfo=tzlocal())}"
      ]
     },
     "execution_count": 16,
     "metadata": {},
     "output_type": "execute_result"
    }
   ],
   "source": [
    "api_factory.build(ConfigurationRecipeApi).upsert_configuration_recipe(\n",
    "    models.UpsertRecipeRequest(\n",
    "        configuration_recipe=models.ConfigurationRecipe(\n",
    "        scope=commonScope,\n",
    "        code=\"lookup-grouped-results\",\n",
    "        pricing=models.PricingContext(\n",
    "            options={\n",
    "                \"AllowPartiallySuccessfulEvaluation\": True\n",
    "            },\n",
    "            result_data_rules=[\n",
    "                models.ResultDataKeyRule(\n",
    "                    resource_key=\"UnitResult/Returns/Daily/*\",\n",
    "                    supplier=\"Client\",\n",
    "                    data_scope=docScope,\n",
    "                    document_code=docName_daily,\n",
    "                ),\n",
    "                models.ResultDataKeyRule(\n",
    "                    resource_key=\"UnitResult/Returns/Monthly/*\",\n",
    "                    supplier=\"Client\",\n",
    "                    data_scope=docScope,\n",
    "                    document_code=docName_monthly,\n",
    "                )]\n",
    "            )\n",
    "        )\n",
    "    )\n",
    ")"
   ]
  },
  {
   "cell_type": "markdown",
   "id": "49562712",
   "metadata": {},
   "source": [
    "## Run Valuation"
   ]
  },
  {
   "cell_type": "code",
   "execution_count": 17,
   "id": "3ea38d33",
   "metadata": {},
   "outputs": [
    {
     "name": "stdout",
     "output_type": "stream",
     "text": [
      "  Portfolio/default/Id     Analytic/default/ValuationDate  UnitResult/Returns/Daily/Gross/Total/RateOfReturn  UnitResult/Returns/Daily/Gross/Total/BeginMarketValue  UnitResult/Returns/Daily/Gross/Total/EndMarketValue  UnitResult/Returns/Daily/Gross/Total/NetCashFlow  UnitResult/Returns/Monthly/Gross/Total/RateOfReturn  UnitResult/Returns/Monthly/Gross/Total/BeginMarketValue  UnitResult/Returns/Monthly/Gross/Total/EndMarketValue  UnitResult/Returns/Monthly/Gross/Total/NetCashFlow\n",
      "0                  pf2  2021-06-04T00:00:00.0000000+00:00                                              31.30                                        3010.324322                                            3010.324322                                         1501.324322                                              45.30                                          4510.324322                                              4510.324322                                            1601.324322 \n",
      "1                  pf2  2021-06-03T00:00:00.0000000+00:00                                              30.30                                        3000.324322                                            3000.324322                                         1500.324322                                              45.30                                          4510.324322                                              4510.324322                                            1601.324322 \n",
      "2                  pf1  2021-06-04T00:00:00.0000000+00:00                                              36.35                                        3635.324322                                            3635.324322                                         1435.324322                                              40.35                                          4035.324322                                              4035.324322                                            1335.324322 \n",
      "3                  pf1  2021-06-03T00:00:00.0000000+00:00                                              37.35                                        3735.324322                                            3735.324322                                         1535.324322                                              40.35                                          4035.324322                                              4035.324322                                            1335.324322 \n"
     ]
    }
   ],
   "source": [
    "valReq = models.ValuationRequest(\n",
    "    recipe_id= models.ResourceId(scope=commonScope, code='lookup-grouped-results'),\n",
    "    metrics=[\n",
    "        models.AggregateSpec(key='Portfolio/default/Id', op='Value'),\n",
    "        models.AggregateSpec(key='Analytic/default/ValuationDate', op='Value'),\n",
    "        models.AggregateSpec(key='UnitResult/Returns/Daily/Gross/Total/RateOfReturn', op='Value'),\n",
    "        models.AggregateSpec(key='UnitResult/Returns/Daily/Gross/Total/BeginMarketValue', op='Value'),\n",
    "        models.AggregateSpec(key='UnitResult/Returns/Daily/Gross/Total/EndMarketValue',  op='Value'),\n",
    "        models.AggregateSpec(key='UnitResult/Returns/Daily/Gross/Total/NetCashFlow',  op='Value'),\n",
    "        models.AggregateSpec(key='UnitResult/Returns/Monthly/Gross/Total/RateOfReturn', op='Value'),\n",
    "        models.AggregateSpec(key='UnitResult/Returns/Monthly/Gross/Total/BeginMarketValue', op='Value'),\n",
    "        models.AggregateSpec(key='UnitResult/Returns/Monthly/Gross/Total/EndMarketValue',  op='Value'),\n",
    "        models.AggregateSpec(key='UnitResult/Returns/Monthly/Gross/Total/NetCashFlow',  op='Value'),\n",
    "    ],\n",
    "    group_by=[\n",
    "        'Portfolio/default/Id', \n",
    "        'Analytic/default/ValuationDate'\n",
    "    ],\n",
    "    sort = [\n",
    "        models.OrderBySpec(\"Portfolio/default/Id\", \"Descending\"), \n",
    "        models.OrderBySpec(\"Analytic/default/ValuationDate\", \"Descending\")\n",
    "    ],\n",
    "    report_currency=\"USD\",\n",
    "    portfolio_entity_ids=[\n",
    "        models.PortfolioEntityId(scope=scope1, code=pfCode1),\n",
    "        models.PortfolioEntityId(scope=scope2, code=pfCode2),\n",
    "    ],\n",
    "    valuation_schedule=models.ValuationSchedule(\n",
    "        effective_at=eff_date1,\n",
    "        valuation_date_times=[datetime(2021, 6, 3, tzinfo=pytz.utc), datetime(2021, 6, 4, tzinfo=pytz.utc)]\n",
    "    )\n",
    ")\n",
    "\n",
    "import pandas as pd\n",
    "\n",
    "resp = agg_api.get_valuation(valuation_request=valReq)\n",
    "pd.set_option('display.max_columns', 20)\n",
    "pd.set_option('display.expand_frame_repr', False)\n",
    "data = pd.DataFrame(resp.data)\n",
    "\n",
    "print(data)"
   ]
  },
  {
   "cell_type": "code",
   "execution_count": null,
   "id": "27504118",
   "metadata": {},
   "outputs": [],
   "source": []
  }
 ],
 "metadata": {
  "kernelspec": {
   "display_name": "Python 3 (ipykernel)",
   "language": "python",
   "name": "python3"
  },
  "language_info": {
   "codemirror_mode": {
    "name": "ipython",
    "version": 3
   },
   "file_extension": ".py",
   "mimetype": "text/x-python",
   "name": "python",
   "nbconvert_exporter": "python",
   "pygments_lexer": "ipython3",
   "version": "3.7.3"
  }
 },
 "nbformat": 4,
 "nbformat_minor": 5
}
