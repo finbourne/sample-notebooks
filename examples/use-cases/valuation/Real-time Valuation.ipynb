{
 "cells": [
  {
   "cell_type": "code",
   "execution_count": 1,
   "metadata": {},
   "outputs": [
    {
     "data": {
      "text/html": [
       "\n",
       "    <form action=\"javascript:code_toggle()\"><input type=\"submit\" id=\"toggleButton\" value=\"Hide docstring\"></form>\n",
       "    \n",
       "         <script>\n",
       "         function code_toggle() {\n",
       "             if ($('div.cell.code_cell.rendered.selected div.input').css('display')!='none'){\n",
       "                 $('div.cell.code_cell.rendered.selected div.input').hide();\n",
       "             } else {\n",
       "                 $('div.cell.code_cell.rendered.selected div.input').show();\n",
       "             }\n",
       "         }\n",
       "         </script>\n",
       "\n",
       "     "
      ],
      "text/plain": [
       "<IPython.core.display.HTML object>"
      ]
     },
     "metadata": {},
     "output_type": "display_data"
    }
   ],
   "source": [
    "from lusidtools.jupyter_tools import toggle_code\n",
    "\n",
    "\"\"\"Real-time valuation using streamed market data\n",
    "\n",
    "This notebook shows how to value a portfolio using real-time streamed market data\n",
    "\n",
    "Attributes\n",
    "----------\n",
    "valuation\n",
    "recipes\n",
    "\"\"\"\n",
    "\n",
    "toggle_code(\"Hide docstring\")"
   ]
  },
  {
   "attachments": {},
   "cell_type": "markdown",
   "metadata": {},
   "source": [
    "# Real-time Valuation\n",
    "\n",
    "## Introduction\n",
    "\n",
    "This notebook demonstrates how to configure LUSID to perform a real-time [*GetValuation*](https://www.lusid.com/docs/api/#operation/GetValuation) call.\n",
    "\n",
    "### Instrument universe\n",
    "\n",
    "This notebook requires an instrument universe to be populated in a file at the location `data/real-time-valuation/SIX-CROSSREFERENCE.csv`.  The `template` file in the same directory indicates the required columns.  The easiest way to create this file is using the CROSSREFERENCE dataset provided by SIX.  This can be accessed using Luminesce using a query like below in a LUSID environment which is entitled to access SIX data.\n",
    "\n",
    "For each instrument you will need a identifier and the BC (exchange) code.\n",
    "\n",
    "```\n",
    "values\n",
    "  ('1222171'),                -- A set of instrument identifiers\n",
    "  ('2340545');\n",
    "\n",
    "@dataQuery = select\n",
    "  'CH' AS identifierScheme,  -- SIX-specific identifier type code\n",
    "  column1 AS identifier,\n",
    "  '4' as bc                  -- SIX-specific exchange code\n",
    "from @data;\n",
    "\n",
    "Select * from Six.Flex where IncludeDataSetId = TRUE\n",
    "AND IncludeStatus = TRUE\n",
    "AND PackageId = 'CrossReference'\n",
    "AND Request = @dataQuery;\n",
    "\n",
    "```"
   ]
  },
  {
   "cell_type": "code",
   "execution_count": 2,
   "metadata": {},
   "outputs": [
    {
     "name": "stdout",
     "output_type": "stream",
     "text": [
      "LUSID Environment : https://steco.lusid.com/\n"
     ]
    }
   ],
   "source": [
    "# Import system packages\n",
    "import os\n",
    "import pandas as pd\n",
    "import random\n",
    "from datetime import timedelta\n",
    "from IPython.core.display import HTML\n",
    "\n",
    "\n",
    "# Import lusid specific packages\n",
    "# These are the core lusid packages for interacting with the API via Python\n",
    "\n",
    "import lusid\n",
    "import lusid.models as models\n",
    "from lusid.utilities import ApiClientFactory\n",
    "from lusidjam.refreshing_token import RefreshingToken\n",
    "from lusidtools.cocoon.cocoon import load_from_data_frame\n",
    "from lusidtools.cocoon.cocoon_printer import (\n",
    "    format_instruments_response,\n",
    "    format_portfolios_response,\n",
    "    format_holdings_response,\n",
    "    format_quotes_response,\n",
    ")\n",
    "from lusidtools.pandas_utils.lusid_pandas import lusid_response_to_data_frame\n",
    "\n",
    "# Set pandas dataframe display formatting\n",
    "pd.set_option('display.max_columns', None)\n",
    "pd.options.display.float_format = '{:,.2f}'.format\n",
    "\n",
    "# Authenticate our user and create our API client\n",
    "secrets_path = os.getenv(\"FBN_SECRETS_PATH\")\n",
    "\n",
    "# Initiate an API Factory which is the client side object for interacting with LUSID APIs\n",
    "api_factory = lusid.utilities.ApiClientFactory(\n",
    "    token=RefreshingToken(),\n",
    "    api_secrets_filename = secrets_path,\n",
    "    app_name=\"LusidJupyterNotebook\")\n",
    "api_url = api_factory.api_client.configuration._base_path.replace(\"api\",\"\")\n",
    "print ('LUSID Environment :', api_url)"
   ]
  },
  {
   "cell_type": "code",
   "execution_count": 3,
   "metadata": {},
   "outputs": [],
   "source": [
    "configuration_recipe_api = api_factory.build(lusid.api.ConfigurationRecipeApi)\n",
    "aggregation_api = api_factory.build(lusid.AggregationApi)\n",
    "quotes_api = api_factory.build(lusid.QuotesApi)\n",
    "instruments_api = api_factory.build(lusid.InstrumentsApi)"
   ]
  },
  {
   "cell_type": "code",
   "execution_count": 4,
   "metadata": {},
   "outputs": [],
   "source": [
    "scope = \"realtime-valuation\"\n",
    "portfolio_code = \"portfolio\"\n",
    "recipe_code = \"SixStreaming-Valoren\"\n",
    "default_currency = \"GBP\""
   ]
  },
  {
   "cell_type": "markdown",
   "metadata": {},
   "source": [
    "## 1. Setup\n",
    "\n",
    "The SIX realtime pricing feed relies on at least one of SIX-specific instrument identifiers being configured in your LUSID instance.  If the cell below shows an error then please contact support@lusid.com to request the additional instrument identifiers be added to your account."
   ]
  },
  {
   "cell_type": "code",
   "execution_count": 5,
   "metadata": {},
   "outputs": [],
   "source": [
    "required_id_types = set([\n",
    "    'SixIsin_BC',\n",
    "    'SixValoren_BC',\n",
    "    'SixSedol_BC',\n",
    "    'SixCusip_BC',\n",
    "    'SixTicker_BC'\n",
    "])\n",
    "\n",
    "instrument_id_types = instruments_api.get_instrument_identifier_types()\n",
    "domain_id_types = set([id.identifier_type for id in instrument_id_types.values if id.identifier_type.endswith(\"_BC\")])\n",
    "\n",
    "missing_id_types = required_id_types - domain_id_types\n",
    "\n",
    "if len(missing_id_types) > 0:\n",
    "    print(f\"The following SIX Instrument identifier types need to be setup in {api_url}: {missing_id_types}\")"
   ]
  },
  {
   "cell_type": "markdown",
   "metadata": {},
   "source": [
    "## 2. Load Data\n",
    "\n",
    "### 2.1 Instruments "
   ]
  },
  {
   "cell_type": "code",
   "execution_count": 6,
   "metadata": {},
   "outputs": [],
   "source": [
    "def add_BC(row, identifier_type):\n",
    "    if not pd.isnull(row[identifier_type]):\n",
    "        return str(row[identifier_type]) + '_' + str(row['BC'])\n",
    "\n",
    "    return None\n",
    "\n",
    "# Read a standard SIX CROSSREFERENCE file\n",
    "# In real use case the user is expected to provide the SIX-CROSSREFERENCE.csv file based on client-specific licences\n",
    "# When running in a pipeline the file won't exist to revert to the (empty) template\n",
    "filename = \"data/real-time-valuation/SIX-CROSSREFERENCE.csv\"\n",
    "\n",
    "if os.path.isfile(filename):\n",
    "  instruments_df = pd.read_csv(filename)\n",
    "else:\n",
    "  instruments_df = pd.read_csv( \"data/real-time-valuation/SIX-CROSSREFERENCE.template.csv\")\n",
    "\n",
    "# Add required columns\n",
    "instruments_df[\"ISIN_BC\"] = instruments_df.apply(lambda row: add_BC(row, 'ISIN'), axis=1)\n",
    "instruments_df['tradingSymbol_BC'] = instruments_df.apply(lambda row: add_BC(row, 'tradingSymbol'), axis=1)\n",
    "instruments_df['swissValorNumber_BC'] = instruments_df.apply(lambda row: add_BC(row, 'swissValorNumber'), axis=1)\n",
    "instruments_df['multipleSEDOL_BC'] = instruments_df.apply(lambda row: add_BC(row, 'multipleSEDOL'), axis=1)\n",
    "instruments_df['USCUSIP_BC'] = instruments_df.apply(lambda row: add_BC(row, 'USCUSIP'), axis=1)\n",
    "\n",
    "#instruments_df"
   ]
  },
  {
   "cell_type": "markdown",
   "metadata": {},
   "source": [
    "Create a mapping schema for the instruments using the provided FIGIs as the instrument identifiers. The instruments file is loaded into LUSID. "
   ]
  },
  {
   "cell_type": "code",
   "execution_count": 7,
   "metadata": {},
   "outputs": [
    {
     "name": "stderr",
     "output_type": "stream",
     "text": [
      "/opt/conda/lib/python3.11/site-packages/lusidtools/cocoon/cocoon.py:1720: FutureWarning: DataFrame.applymap has been deprecated. Use DataFrame.map instead.\n",
      "  data_frame = data_frame.applymap(cocoon.utilities.convert_cell_value_to_string)\n"
     ]
    },
    {
     "data": {
      "text/html": [
       "<div>\n",
       "<style scoped>\n",
       "    .dataframe tbody tr th:only-of-type {\n",
       "        vertical-align: middle;\n",
       "    }\n",
       "\n",
       "    .dataframe tbody tr th {\n",
       "        vertical-align: top;\n",
       "    }\n",
       "\n",
       "    .dataframe thead th {\n",
       "        text-align: right;\n",
       "    }\n",
       "</style>\n",
       "<table border=\"1\" class=\"dataframe\">\n",
       "  <thead>\n",
       "    <tr style=\"text-align: right;\">\n",
       "      <th></th>\n",
       "      <th>success</th>\n",
       "      <th>failed</th>\n",
       "      <th>errors</th>\n",
       "    </tr>\n",
       "  </thead>\n",
       "  <tbody>\n",
       "    <tr>\n",
       "      <th>0</th>\n",
       "      <td>0</td>\n",
       "      <td>0</td>\n",
       "      <td>0</td>\n",
       "    </tr>\n",
       "  </tbody>\n",
       "</table>\n",
       "</div>"
      ],
      "text/plain": [
       "   success  failed  errors\n",
       "0        0       0       0"
      ]
     },
     "execution_count": 7,
     "metadata": {},
     "output_type": "execute_result"
    }
   ],
   "source": [
    "instrument_mapping = {\n",
    "    \"identifier_mapping\": {\n",
    "        \"ClientInternal\": \"swissValorNumber\",\n",
    "        \"Figi\" : \"FIGIGlobalShareClassId\",\n",
    "        \"Isin\" : \"ISIN\",\n",
    "        \"SixIsin_BC\" : \"ISIN_BC\",\n",
    "        \"Ticker\" : \"tradingSymbol\",\n",
    "        \"SixTicker_BC\" : \"tradingSymbol_BC\",\n",
    "        \"SixValoren_BC\" : \"swissValorNumber_BC\",\n",
    "        \"Sedol\" : \"multipleSEDOL\",\n",
    "        \"SixSedol_BC\" : \"multipleSEDOL_BC\",\n",
    "        \"Cusip\" : \"USCUSIP\",\n",
    "        \"SixCusip_BC\" : \"USCUSIP_BC\",\n",
    "    },\n",
    "    \"required\": {\n",
    "        \"name\": \"FISNSIX\"\n",
    "    },\n",
    "}\n",
    "\n",
    "# Instruments can be loaded using a dataframe with file_type set to \"instruments\"\n",
    "result = load_from_data_frame(\n",
    "    api_factory=api_factory,\n",
    "    scope=scope,\n",
    "    data_frame=instruments_df,\n",
    "    mapping_required=instrument_mapping[\"required\"],\n",
    "    mapping_optional={},\n",
    "    file_type=\"instruments\",\n",
    "    identifier_mapping=instrument_mapping[\"identifier_mapping\"],\n",
    ")\n",
    "\n",
    "succ, failed, errors = format_instruments_response(result)\n",
    "pd.DataFrame(data=[{\"success\": len(succ), \"failed\": len(failed), \"errors\": len(errors)}])"
   ]
  },
  {
   "cell_type": "markdown",
   "metadata": {},
   "source": [
    "### 1.2 Portfolio\n",
    "\n",
    "Create a portfolio and populate with simulated holdings for the Instruments loaded above"
   ]
  },
  {
   "cell_type": "code",
   "execution_count": 8,
   "metadata": {},
   "outputs": [
    {
     "name": "stderr",
     "output_type": "stream",
     "text": [
      "/opt/conda/lib/python3.11/site-packages/lusidtools/cocoon/cocoon.py:1720: FutureWarning: DataFrame.applymap has been deprecated. Use DataFrame.map instead.\n",
      "  data_frame = data_frame.applymap(cocoon.utilities.convert_cell_value_to_string)\n"
     ]
    },
    {
     "data": {
      "text/html": [
       "<div>\n",
       "<style scoped>\n",
       "    .dataframe tbody tr th:only-of-type {\n",
       "        vertical-align: middle;\n",
       "    }\n",
       "\n",
       "    .dataframe tbody tr th {\n",
       "        vertical-align: top;\n",
       "    }\n",
       "\n",
       "    .dataframe thead th {\n",
       "        text-align: right;\n",
       "    }\n",
       "</style>\n",
       "<table border=\"1\" class=\"dataframe\">\n",
       "  <thead>\n",
       "    <tr style=\"text-align: right;\">\n",
       "      <th></th>\n",
       "      <th>success</th>\n",
       "      <th>failed</th>\n",
       "      <th>errors</th>\n",
       "    </tr>\n",
       "  </thead>\n",
       "  <tbody>\n",
       "    <tr>\n",
       "      <th>0</th>\n",
       "      <td>1</td>\n",
       "      <td>0</td>\n",
       "      <td>0</td>\n",
       "    </tr>\n",
       "  </tbody>\n",
       "</table>\n",
       "</div>"
      ],
      "text/plain": [
       "   success  failed  errors\n",
       "0        1       0       0"
      ]
     },
     "execution_count": 8,
     "metadata": {},
     "output_type": "execute_result"
    }
   ],
   "source": [
    "# A portfolio can be loaded using a dataframe with file_type = \"portfolios\"\n",
    "portfolio_mapping = {\n",
    "    \"required\": {\n",
    "        \"code\": f\"${portfolio_code}\",\n",
    "        \"display_name\": \"$Realtime Test Portfolio\",\n",
    "        \"base_currency\": f\"${default_currency}\",\n",
    "    },\n",
    "    \"optional\": {\"created\": \"$2020-01-01T00:00:00+00:00\"},\n",
    "}\n",
    "\n",
    "result = load_from_data_frame(\n",
    "    api_factory=api_factory,\n",
    "    scope=scope,\n",
    "    data_frame=pd.DataFrame(['1']),\n",
    "    mapping_required=portfolio_mapping[\"required\"],\n",
    "    mapping_optional=portfolio_mapping[\"optional\"],\n",
    "    file_type=\"portfolios\",\n",
    "    sub_holding_keys=[],\n",
    ")\n",
    "\n",
    "succ, failed = format_portfolios_response(result)\n",
    "pd.DataFrame(data=[{\"success\": len(succ), \"failed\": len(failed), \"errors\": len(errors)}])"
   ]
  },
  {
   "cell_type": "markdown",
   "metadata": {},
   "source": [
    "### 1.3 Holdings"
   ]
  },
  {
   "cell_type": "code",
   "execution_count": 9,
   "metadata": {},
   "outputs": [],
   "source": [
    "# Here we generate a Holdings dataset from the Instrument universe with fake holdings\n",
    "# For simplicity, always use the same set of random numbers\n",
    "rand = random.Random()\n",
    "rand.seed(\"test\")\n",
    "\n",
    "holdings_df = instruments_df[['swissValorNumber']].copy()\n",
    "holdings_df['swissValorNumber'] = holdings_df['swissValorNumber'].astype(str)\n",
    "holdings_df['units'] = [rand.randrange(100,1000) for r in range(0,len(holdings_df))]\n",
    "holdings_df['cost'] = [rand.randrange(1000,10000) for r in range(0,len(holdings_df))]\n",
    "holdings_df['price'] = holdings_df['cost'] / holdings_df['units']\n",
    "\n",
    "#holdings_df"
   ]
  },
  {
   "cell_type": "code",
   "execution_count": 10,
   "metadata": {},
   "outputs": [
    {
     "name": "stderr",
     "output_type": "stream",
     "text": [
      "/opt/conda/lib/python3.11/site-packages/lusidtools/cocoon/cocoon.py:1720: FutureWarning: DataFrame.applymap has been deprecated. Use DataFrame.map instead.\n",
      "  data_frame = data_frame.applymap(cocoon.utilities.convert_cell_value_to_string)\n"
     ]
    },
    {
     "data": {
      "text/html": [
       "<div>\n",
       "<style scoped>\n",
       "    .dataframe tbody tr th:only-of-type {\n",
       "        vertical-align: middle;\n",
       "    }\n",
       "\n",
       "    .dataframe tbody tr th {\n",
       "        vertical-align: top;\n",
       "    }\n",
       "\n",
       "    .dataframe thead th {\n",
       "        text-align: right;\n",
       "    }\n",
       "</style>\n",
       "<table border=\"1\" class=\"dataframe\">\n",
       "  <thead>\n",
       "    <tr style=\"text-align: right;\">\n",
       "      <th></th>\n",
       "      <th>success</th>\n",
       "      <th>failed</th>\n",
       "      <th>errors</th>\n",
       "    </tr>\n",
       "  </thead>\n",
       "  <tbody>\n",
       "    <tr>\n",
       "      <th>0</th>\n",
       "      <td>0</td>\n",
       "      <td>0</td>\n",
       "      <td>0</td>\n",
       "    </tr>\n",
       "  </tbody>\n",
       "</table>\n",
       "</div>"
      ],
      "text/plain": [
       "   success  failed  errors\n",
       "0        0       0       0"
      ]
     },
     "metadata": {},
     "output_type": "display_data"
    }
   ],
   "source": [
    "holdings_mapping = {\n",
    "    \"identifier_mapping\": {\n",
    "        \"ClientInternal\": \"swissValorNumber\"\n",
    "    },\n",
    "    \"required\": {\n",
    "        \"effective_at\": \"$2020-01-01\",\n",
    "        \"code\": f\"${portfolio_code}\",\n",
    "        \"tax_lots.units\": \"units\",\n",
    "        \"tax_lots.portfolio_cost\": \"cost\",\n",
    "        \"tax_lots.cost.currency\": f\"${default_currency}\",\n",
    "        \"tax_lots.cost.amount\": \"cost\"\n",
    "    },\n",
    "    \"optional\": {}\n",
    "}\n",
    "\n",
    "result = load_from_data_frame(\n",
    "    api_factory=api_factory,\n",
    "    scope=scope,\n",
    "    data_frame=holdings_df,\n",
    "    mapping_required=holdings_mapping[\"required\"],\n",
    "    mapping_optional=holdings_mapping[\"optional\"],\n",
    "    file_type=\"holdings\",\n",
    "    identifier_mapping=holdings_mapping[\"identifier_mapping\"],\n",
    ")\n",
    "\n",
    "succ, failed = format_holdings_response(result)\n",
    "display(pd.DataFrame(data=[{\"success\": len(succ), \"failed\": len(failed), \"errors\": len(errors)}]))"
   ]
  },
  {
   "cell_type": "markdown",
   "metadata": {},
   "source": [
    "### 1.4 Prices\n",
    "\n",
    "Load prices here to fall back on if the SIX feed is not streaming - typically because the market is closed."
   ]
  },
  {
   "cell_type": "code",
   "execution_count": 11,
   "metadata": {},
   "outputs": [
    {
     "name": "stderr",
     "output_type": "stream",
     "text": [
      "/opt/conda/lib/python3.11/site-packages/lusidtools/cocoon/cocoon.py:1720: FutureWarning: DataFrame.applymap has been deprecated. Use DataFrame.map instead.\n",
      "  data_frame = data_frame.applymap(cocoon.utilities.convert_cell_value_to_string)\n"
     ]
    },
    {
     "data": {
      "text/html": [
       "<div>\n",
       "<style scoped>\n",
       "    .dataframe tbody tr th:only-of-type {\n",
       "        vertical-align: middle;\n",
       "    }\n",
       "\n",
       "    .dataframe tbody tr th {\n",
       "        vertical-align: top;\n",
       "    }\n",
       "\n",
       "    .dataframe thead th {\n",
       "        text-align: right;\n",
       "    }\n",
       "</style>\n",
       "<table border=\"1\" class=\"dataframe\">\n",
       "  <thead>\n",
       "    <tr style=\"text-align: right;\">\n",
       "      <th></th>\n",
       "      <th>success</th>\n",
       "      <th>failed</th>\n",
       "      <th>errors</th>\n",
       "    </tr>\n",
       "  </thead>\n",
       "  <tbody>\n",
       "    <tr>\n",
       "      <th>0</th>\n",
       "      <td>0</td>\n",
       "      <td>0</td>\n",
       "      <td>0</td>\n",
       "    </tr>\n",
       "  </tbody>\n",
       "</table>\n",
       "</div>"
      ],
      "text/plain": [
       "   success  failed  errors\n",
       "0        0       0       0"
      ]
     },
     "metadata": {},
     "output_type": "display_data"
    }
   ],
   "source": [
    "quotes_supplier = \"Lusid\"\n",
    "quotes_field = \"mid\"\n",
    "quotes_instrument_id = \"ClientInternal\"\n",
    "\n",
    "quotes_mapping = {\n",
    "    \"quote_id.quote_series_id.instrument_id_type\": f\"${quotes_instrument_id}\",\n",
    "    \"quote_id.effective_at\": \"$2024-02-01\",\n",
    "    \"quote_id.quote_series_id.provider\": f\"${quotes_supplier}\",\n",
    "    \"quote_id.quote_series_id.quote_type\": \"$Price\",\n",
    "    \"quote_id.quote_series_id.instrument_id\": \"swissValorNumber\",\n",
    "    \"quote_id.quote_series_id.field\" : f\"${quotes_field}\",\n",
    "    \"metric_value.unit\": f\"${default_currency}\",\n",
    "    \"metric_value.value\": \"price\"\n",
    "}\n",
    "\n",
    "result = load_from_data_frame(\n",
    "        api_factory=api_factory,\n",
    "        scope=scope,\n",
    "        data_frame=holdings_df,\n",
    "        mapping_required=quotes_mapping,\n",
    "        mapping_optional={},\n",
    "        file_type=\"quotes\",\n",
    ")\n",
    "\n",
    "succ, failed, errors = format_quotes_response(result)\n",
    "display(pd.DataFrame(data=[{\"success\": len(succ), \"failed\": len(failed), \"errors\": len(errors)}]))"
   ]
  },
  {
   "cell_type": "markdown",
   "metadata": {},
   "source": [
    "### 1.5 Exchange Rates"
   ]
  },
  {
   "cell_type": "code",
   "execution_count": 12,
   "metadata": {},
   "outputs": [
    {
     "name": "stderr",
     "output_type": "stream",
     "text": [
      "/opt/conda/lib/python3.11/site-packages/lusidtools/cocoon/cocoon.py:1720: FutureWarning: DataFrame.applymap has been deprecated. Use DataFrame.map instead.\n",
      "  data_frame = data_frame.applymap(cocoon.utilities.convert_cell_value_to_string)\n"
     ]
    },
    {
     "data": {
      "text/html": [
       "<div>\n",
       "<style scoped>\n",
       "    .dataframe tbody tr th:only-of-type {\n",
       "        vertical-align: middle;\n",
       "    }\n",
       "\n",
       "    .dataframe tbody tr th {\n",
       "        vertical-align: top;\n",
       "    }\n",
       "\n",
       "    .dataframe thead th {\n",
       "        text-align: right;\n",
       "    }\n",
       "</style>\n",
       "<table border=\"1\" class=\"dataframe\">\n",
       "  <thead>\n",
       "    <tr style=\"text-align: right;\">\n",
       "      <th></th>\n",
       "      <th>success</th>\n",
       "      <th>failed</th>\n",
       "      <th>errors</th>\n",
       "    </tr>\n",
       "  </thead>\n",
       "  <tbody>\n",
       "    <tr>\n",
       "      <th>0</th>\n",
       "      <td>3</td>\n",
       "      <td>0</td>\n",
       "      <td>0</td>\n",
       "    </tr>\n",
       "  </tbody>\n",
       "</table>\n",
       "</div>"
      ],
      "text/plain": [
       "   success  failed  errors\n",
       "0        3       0       0"
      ]
     },
     "metadata": {},
     "output_type": "display_data"
    }
   ],
   "source": [
    "# Create dummy rates from GBP and CHF\n",
    "rates = [\n",
    "    ['GBP/USD', 1.26], \n",
    "    ['GBP/EUR', 1.17], \n",
    "    ['USD/CHF', 0.87],\n",
    "]\n",
    " \n",
    "instrument_id_type = \"CurrencyPair\"\n",
    "value = \"Rate\"\n",
    "\n",
    "rates_df = pd.DataFrame(rates, columns=[instrument_id_type, value])\n",
    " \n",
    "rates_mapping = {\n",
    "    \"quote_id.quote_series_id.instrument_id_type\": \"$CurrencyPair\",\n",
    "    \"quote_id.effective_at\": \"$2024-02-01\",\n",
    "    \"quote_id.quote_series_id.provider\": f\"${quotes_supplier}\",\n",
    "    \"quote_id.quote_series_id.quote_type\": \"$Rate\",\n",
    "    \"quote_id.quote_series_id.instrument_id\": instrument_id_type,\n",
    "    \"quote_id.quote_series_id.field\" : f\"${quotes_field}\",\n",
    "    \"metric_value.unit\": instrument_id_type,\n",
    "    \"metric_value.value\": value\n",
    "}\n",
    "\n",
    "\n",
    "result = load_from_data_frame(\n",
    "        api_factory=api_factory,\n",
    "        scope=scope,\n",
    "        data_frame=rates_df,\n",
    "        mapping_required=rates_mapping,\n",
    "        mapping_optional={},\n",
    "        file_type=\"quotes\",\n",
    ")\n",
    "\n",
    "succ, failed, errors = format_quotes_response(result)\n",
    "display(pd.DataFrame(data=[{\"success\": len(succ), \"failed\": len(failed), \"errors\": len(errors)}]))"
   ]
  },
  {
   "cell_type": "markdown",
   "metadata": {},
   "source": [
    "## 2. Run valuation"
   ]
  },
  {
   "cell_type": "code",
   "execution_count": 13,
   "metadata": {},
   "outputs": [],
   "source": [
    "configuration_recipe = models.ConfigurationRecipe(\n",
    "        scope=scope,\n",
    "        code=recipe_code,\n",
    "        market=models.MarketContext(\n",
    "            market_rules=[\n",
    "                # First source is real-time\n",
    "                models.MarketDataKeyRule(\n",
    "                    key=\"Quote.SixValoren_BC.*\",\n",
    "                    supplier=\"SIX\",\n",
    "                    quote_type=\"Price\",\n",
    "                    data_scope=\"NotUsed\",\n",
    "                    field=\"Last\",\n",
    "                    price_source=\"\",\n",
    "                    source_system=\"SIX/Streaming\"\n",
    "                ),\n",
    "                # Fall back to stored quotes\n",
    "                models.MarketDataKeyRule(\n",
    "                    key=\"Quote.ClientInternal.*\",\n",
    "                    supplier=quotes_supplier,\n",
    "                    quote_type=\"Price\",\n",
    "                    data_scope=scope,\n",
    "                    field=quotes_field,\n",
    "                    quote_interval=\"1Y.0D\"\n",
    "                ),\n",
    "                # \n",
    "                models.MarketDataKeyRule(\n",
    "                    key='Fx.CurrencyPair.*',\n",
    "                    data_scope=scope,\n",
    "                    supplier='Lusid',\n",
    "                    quote_type='Rate',\n",
    "                    quote_interval='1Y.0D',\n",
    "                    field=\"mid\"\n",
    "                )\n",
    "            ],\n",
    "            options=models.MarketOptions(\n",
    "                default_supplier=\"Lusid\",\n",
    "                default_instrument_code_type=\"LusidInstrumentId\",\n",
    "                default_scope=scope,\n",
    "                attempt_to_infer_missing_fx=True\n",
    "            ),\n",
    "        ),\n",
    "        pricing=models.PricingContext(\n",
    "            options={\"AllowPartiallySuccessfulEvaluation\": True},\n",
    "        ),\n",
    "    )\n",
    "\n",
    "upsert_configuration_recipe_response = configuration_recipe_api.upsert_configuration_recipe(\n",
    "    upsert_recipe_request=models.UpsertRecipeRequest(\n",
    "        configuration_recipe=configuration_recipe\n",
    "    )\n",
    ")"
   ]
  },
  {
   "cell_type": "code",
   "execution_count": 14,
   "metadata": {},
   "outputs": [],
   "source": [
    "# Pull the data aggregation by passing the effectiveAt date\n",
    "def aggregation_request(effectiveAt):\n",
    "    return models.ValuationRequest( \n",
    "        recipe_id = models.ResourceId(\n",
    "            scope = scope,\n",
    "            code = recipe_code\n",
    "        ),\n",
    "        metrics = [\n",
    "            models.AggregateSpec(\"Instrument/default/Name\", \"Value\"),\n",
    "            models.AggregateSpec(\"Valuation/PV\", \"Proportion\"),\n",
    "            models.AggregateSpec(\"Valuation/PV\", \"Sum\"),\n",
    "            models.AggregateSpec(\"Holding/default/Units\", \"Sum\"),\n",
    "            models.AggregateSpec(\"Quotes/Price\", \"Value\"),\n",
    "            models.AggregateSpec(\"Quotes/Price/EffectiveAt\", \"Value\"),\n",
    "        ],\n",
    "        group_by=[\"Instrument/default/Name\"],\n",
    "        # choose the valuation date for the request - set using effectiveAt\n",
    "        valuation_schedule=models.ValuationSchedule(effective_at=effectiveAt),\n",
    "        portfolio_entity_ids = [models.PortfolioEntityId(\n",
    "                                                        scope = scope,\n",
    "                                                        code = portfolio_code,\n",
    "                                                        portfolio_entity_type=\"SinglePortfolio\" \n",
    "            )]\n",
    "        )\n",
    "\n",
    "aggregation = aggregation_api.get_valuation(\n",
    "  valuation_request=aggregation_request(\"2020-08-24T01:01:00.000Z\")\n",
    ")\n",
    "#pd.DataFrame(aggregation.data)"
   ]
  },
  {
   "cell_type": "code",
   "execution_count": 15,
   "metadata": {},
   "outputs": [
    {
     "data": {
      "text/html": [
       "<h1>Links</h1>"
      ],
      "text/plain": [
       "<IPython.core.display.HTML object>"
      ]
     },
     "metadata": {},
     "output_type": "display_data"
    },
    {
     "data": {
      "text/html": [
       "\n",
       "  <a href=\"https://steco.lusid.com/app/dashboard/holdings?scope=realtime-valuation&code=portfolio&entityType=Portfolio&recipeScope=realtime-valuation&recipeCode=SixStreaming-Valoren\"\n",
       "  target=\"_blank\">\n",
       "    Holdings\n",
       "  </a>"
      ],
      "text/plain": [
       "<IPython.core.display.HTML object>"
      ]
     },
     "metadata": {},
     "output_type": "display_data"
    },
    {
     "data": {
      "text/html": [
       "\n",
       "  <a href=\"https://steco.lusid.com/app/dashboard/valuations?scope=realtime-valuation&code=portfolio&entityType=Portfolio&recipeScope=realtime-valuation&recipeCode=SixStreaming-Valoren\"\n",
       "  target=\"_blank\">\n",
       "    Valuation with real-time prices\n",
       "  </a>"
      ],
      "text/plain": [
       "<IPython.core.display.HTML object>"
      ]
     },
     "metadata": {},
     "output_type": "display_data"
    }
   ],
   "source": [
    "display(HTML(\"<h1>Links</h1>\"))\n",
    "\n",
    "display(HTML(f'''\n",
    "  <a href=\"{api_url}app/dashboard/holdings?scope={scope}&code={portfolio_code}&entityType=Portfolio&recipeScope={scope}&recipeCode={recipe_code}\"\n",
    "  target=\"_blank\">\n",
    "    Holdings\n",
    "  </a>'''))\n",
    "\n",
    "display(HTML(f'''\n",
    "  <a href=\"{api_url}app/dashboard/valuations?scope={scope}&code={portfolio_code}&entityType=Portfolio&recipeScope={scope}&recipeCode={recipe_code}\"\n",
    "  target=\"_blank\">\n",
    "    Valuation with real-time prices\n",
    "  </a>'''))"
   ]
  }
 ],
 "metadata": {
  "kernelspec": {
   "display_name": "Python 3 (ipykernel)",
   "language": "python",
   "name": "python3"
  },
  "language_info": {
   "codemirror_mode": {
    "name": "ipython",
    "version": 3
   },
   "file_extension": ".py",
   "mimetype": "text/x-python",
   "name": "python",
   "nbconvert_exporter": "python",
   "pygments_lexer": "ipython3",
   "version": "3.11.6"
  },
  "toc": {
   "base_numbering": 1,
   "nav_menu": {},
   "number_sections": false,
   "sideBar": true,
   "skip_h1_title": false,
   "title_cell": "Table of Contents",
   "title_sidebar": "Contents",
   "toc_cell": false,
   "toc_position": {},
   "toc_section_display": true,
   "toc_window_display": false
  },
  "varInspector": {
   "cols": {
    "lenName": 16,
    "lenType": 16,
    "lenVar": 40
   },
   "kernels_config": {
    "python": {
     "delete_cmd_postfix": "",
     "delete_cmd_prefix": "del ",
     "library": "var_list.py",
     "varRefreshCmd": "print(var_dic_list())"
    },
    "r": {
     "delete_cmd_postfix": ") ",
     "delete_cmd_prefix": "rm(",
     "library": "var_list.r",
     "varRefreshCmd": "cat(var_dic_list()) "
    }
   },
   "types_to_exclude": [
    "module",
    "function",
    "builtin_function_or_method",
    "instance",
    "_Feature"
   ],
   "window_display": false
  },
  "vscode": {
   "interpreter": {
    "hash": "2631b36fd78b5e9ba2bda367fd8deaf1b7c0a55746e49610a3543f723e389a55"
   }
  }
 },
 "nbformat": 4,
 "nbformat_minor": 4
}
