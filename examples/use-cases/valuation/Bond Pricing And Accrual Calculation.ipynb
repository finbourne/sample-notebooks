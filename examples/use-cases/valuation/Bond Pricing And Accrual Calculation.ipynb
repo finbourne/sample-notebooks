{
 "cells": [
  {
   "cell_type": "markdown",
   "metadata": {
    "collapsed": true,
    "pycharm": {
     "name": "#%% md\n"
    }
   },
   "source": [
    "# (WIP) Bond Pricing And Accrual Calculation\n",
    "\n",
    "This notebook will run through the following business use cases :\n",
    "* Pricing a Bond using the built-in discounting LUSID model fed with a user supplied OIS yield curve.\n",
    "* Calculating the accrued interest between coupon dates based on user defined Bond instrument parameters such as the day count convention.\n",
    "* Adding a transaction in a user defined Bond Instrument to a portfolio and subsequently valuing our portfolio.\n",
    "* Overriding the calculated accrued interest with user provided value and feeding it in to our Bond valuation.\n",
    "* <REMOVE - awaiting change. right now feeding in face value makes no real sense> Retrieving Bond PV that has been provided to LUSID (e.g. from a market price source).\n",
    "\n",
    "In doing so we'll cover the following LUSID concepts :\n",
    "* Defining a LUSID internal representation of a Bond instrument based on user provided parameters.\n",
    "* Using the StructureMarketData store to hold your OIS yield curve data in way that enables it to be discovered during the Bond valuation process.\n",
    "* Configuring recipes to run built in LUSID Bond valuation models that make use of the structured data (OIS Yield Curve) you provided.\n",
    "* Using aggregation requests to return the accrued interest as well as the PV of the Bond based on our instrument definition.\n",
    "* Using the StructuredResultData store to override the accrued interest calculation and instead use supplied static values.\n",
    "* Updating our recipes to make use of the StructuredResultData entries in your valuations as oppose to calculating.\n",
    "* <REMOVE - as above >Upserting Bond market prices as quotes and configuring recipes that value bonds by simply using the quotes.\n",
    "\n",
    "For this notebook example we'll work with an example Gilt 1.5% 47s:\n",
    "* Coupon Rate : 1.5%\n",
    "* Maturity Date: 22 Jul 2047\n",
    "* Issue Date: 21 Sep 2016\n",
    "* Coupon Dates : 22 Jan, 22 Jun\n",
    "* Face Value : £1"
   ]
  },
  {
   "cell_type": "markdown",
   "source": [
    "## Setup LUSID"
   ],
   "metadata": {
    "collapsed": false,
    "pycharm": {
     "name": "#%% md\n"
    }
   }
  },
  {
   "cell_type": "code",
   "execution_count": 1,
   "outputs": [
    {
     "name": "stdout",
     "output_type": "stream",
     "text": [
      "LUSID Environment Initialised\n",
      "LUSID SDK Version:  0.6.4695.0\n"
     ]
    }
   ],
   "source": [
    "import os\n",
    "from datetime import datetime, timedelta\n",
    "\n",
    "import lusid\n",
    "import pandas as pd\n",
    "import pytz\n",
    "from lusid import models\n",
    "from lusid.utilities import ApiClientFactory\n",
    "from lusidjam import RefreshingToken\n",
    "\n",
    "\n",
    "# Authenticate our user and create our API client\n",
    "from lusidtools.cocoon import load_from_data_frame\n",
    "secrets_path = os.getenv(\"FBN_SECRETS_PATH\")\n",
    "\n",
    "# Initiate an API Factory which is the client side object for interacting with LUSID APIs\n",
    "api_factory = lusid.utilities.ApiClientFactory(\n",
    "    token=RefreshingToken(),\n",
    "    api_secrets_filename=secrets_path,\n",
    "    app_name=\"LusidJupyterNotebook\",\n",
    ")\n",
    "\n",
    "print ('LUSID Environment Initialised')\n",
    "print ('LUSID SDK Version: ', api_factory.build(lusid.api.ApplicationMetadataApi).get_lusid_versions().build_version)\n",
    "\n",
    "# setup the apis we'll use in this notebook:\n",
    "instruments_api = api_factory.build(lusid.api.InstrumentsApi)\n",
    "configuration_recipe_api = api_factory.build(lusid.api.ConfigurationRecipeApi)\n",
    "structured_market_data_api = api_factory.build(lusid.api.StructuredMarketDataApi)\n",
    "structured_result_data_api = api_factory.build(lusid.api.StructuredResultDataApi)"
   ],
   "metadata": {
    "collapsed": false,
    "pycharm": {
     "name": "#%%\n"
    }
   }
  },
  {
   "cell_type": "code",
   "execution_count": 127,
   "outputs": [],
   "source": [
    "# Setup the scope we'll use for this notebook\n",
    "scope = \"test-bond-pricing-nb\"\n",
    "\n",
    "# Utility function to help display aggregation results clearly\n",
    "def aggregation_result_to_dataframe(aggregation_results):\n",
    "    return pd.DataFrame(aggregation_results, columns = ['Name', 'Effective At', 'Value'])\n"
   ],
   "metadata": {
    "collapsed": false,
    "pycharm": {
     "name": "#%%\n"
    }
   }
  },
  {
   "cell_type": "markdown",
   "source": [
    "## Define our Gilt as a Bond Instrument in LUSID\n",
    "\n",
    "Let's start by defining our Bond instrument in LUSID via the BondInstrument class in the models of the SDKs. Take a look\n",
    "in the models package for other instruments currently supported (or see the [BondInstrument Specification](https://www.lusid.com/api/swagger/index.html#model-BondInstrument)).\n",
    "\n",
    "Start by initialising the basic bond parameters for our Gilt:"
   ],
   "metadata": {
    "collapsed": false,
    "pycharm": {
     "name": "#%% md\n"
    }
   }
  },
  {
   "cell_type": "code",
   "execution_count": 13,
   "outputs": [],
   "source": [
    "coupon_rate = 0.015\n",
    "start_date = datetime(2016, 9, 21, tzinfo=pytz.utc)\n",
    "maturity_date = datetime(2047, 7, 22, tzinfo=pytz.utc)\n",
    "dom_ccy = \"GBP\"\n",
    "face_value = 1\n",
    "\n",
    "# we will experiment with effective_at data further in notebook when working with accruals between coupon payments.\n",
    "trade_date = datetime(2020, 6, 22, tzinfo=pytz.utc)\n",
    "effective_at = datetime(2020, 6, 23, tzinfo=pytz.utc)"
   ],
   "metadata": {
    "collapsed": false,
    "pycharm": {
     "name": "#%%\n"
    }
   }
  },
  {
   "cell_type": "markdown",
   "source": [
    "Let's now move onto describing the conventions our bond instrument follows. Specifically we'll set up the behaviour of\n",
    "our cash flows date schedule which includes setting the day count convention for calculating accrued interest and\n",
    "handling cash flows landing on non business days.\n",
    "\n",
    "All this is behaviour is described  in a FlowConventions object:"
   ],
   "metadata": {
    "collapsed": false,
    "pycharm": {
     "name": "#%% md\n"
    }
   }
  },
  {
   "cell_type": "code",
   "execution_count": 4,
   "outputs": [],
   "source": [
    "gilt_flow_conventions = models.FlowConventions(\n",
    "        # coupon payment currency\n",
    "        currency=\"GBP\",\n",
    "        # semi-annual coupon payments\n",
    "        payment_frequency=models.Tenor(value=6, unit=\"M\"),\n",
    "        # using an Actual/365 day count convention (other options : Act360, ActAct, ...\n",
    "        day_count_convention=\"Act365\",\n",
    "        # modified following rolling convention (other options : ModifiedPrevious, NoAdjustment, EndOfMonth,...)\n",
    "        roll_convention=\"ModifiedFollowing\",\n",
    "        # no holiday calendar supplied\n",
    "        holiday_calendars=[]\n",
    "    )"
   ],
   "metadata": {
    "collapsed": false,
    "pycharm": {
     "name": "#%%\n"
    }
   }
  },
  {
   "cell_type": "markdown",
   "source": [
    "For details on supported tenors, day count and roll conventions see the [BondInstrument Specification](https://www.lusid.com/api/swagger/index.html#model-BondInstrument).\n",
    "\n",
    "We now have all we need to describe our Gilt as a LUSID instrument:"
   ],
   "metadata": {
    "collapsed": false,
    "pycharm": {
     "name": "#%% md\n"
    }
   }
  },
  {
   "cell_type": "code",
   "execution_count": 14,
   "outputs": [
    {
     "name": "stdout",
     "output_type": "stream",
     "text": [
      "{'coupon_rate': 0.015,\n",
      " 'dom_ccy': 'GBP',\n",
      " 'flow_conventions': {'currency': 'GBP',\n",
      "                      'day_count_convention': 'Act365',\n",
      "                      'holiday_calendars': [],\n",
      "                      'payment_frequency': {'unit': 'M', 'value': 6},\n",
      "                      'roll_convention': 'ModifiedFollowing'},\n",
      " 'identifiers': None,\n",
      " 'instrument_type': 'Bond',\n",
      " 'maturity_date': '2047-07-22T00:00:00+00:00',\n",
      " 'principal': 1,\n",
      " 'start_date': '2016-09-21T00:00:00+00:00'}\n"
     ]
    }
   ],
   "source": [
    "def create_bond_instrument_definition(start_date, maturity_date, dom_ccy, coupon_rate, face_value, flow_conventions):\n",
    "    instrument = models.BondInstrument(\n",
    "        start_date=start_date.isoformat(),\n",
    "        maturity_date=maturity_date.isoformat(),\n",
    "        dom_ccy=dom_ccy,\n",
    "        coupon_rate=coupon_rate,\n",
    "        principal=face_value,\n",
    "        flow_conventions=flow_conventions,\n",
    "        instrument_type=\"Bond\"\n",
    "    )\n",
    "    return instrument\n",
    "\n",
    "bond_instrument_definition = create_bond_instrument_definition(start_date, maturity_date, dom_ccy, coupon_rate, face_value, gilt_flow_conventions)\n",
    "print(bond_instrument_definition)"
   ],
   "metadata": {
    "collapsed": false,
    "pycharm": {
     "name": "#%%\n"
    }
   }
  },
  {
   "cell_type": "markdown",
   "source": [
    "Let's use our Bond instrument definition to create an instance of our Gilt 1.5% 47 and upsert it as an instrument into LUSID."
   ],
   "metadata": {
    "collapsed": false
   }
  },
  {
   "cell_type": "code",
   "execution_count": 15,
   "outputs": [
    {
     "name": "stdout",
     "output_type": "stream",
     "text": [
      "{'failed': {},\n",
      " 'href': None,\n",
      " 'links': [{'description': None,\n",
      "            'href': 'https://khalid-local-dev.lusid.com/api/api/schemas/entities/UpsertInstrumentsResponse',\n",
      "            'method': 'GET',\n",
      "            'relation': 'EntitySchema'},\n",
      "           {'description': 'A link to the LUSID Insights website showing all '\n",
      "                           'logs related to this request',\n",
      "            'href': 'http://khalid-local-dev.lusid.com/app/insights/logs/0HM0RH35Q600E:00000001',\n",
      "            'method': 'GET',\n",
      "            'relation': 'RequestLogs'}],\n",
      " 'values': {'gilt2047s': {'href': 'https://khalid-local-dev.lusid.com/api/api/instruments/LusidInstrumentId/LUID_I1RHNWII',\n",
      "                          'identifiers': {'ClientInternal': 'gilt2047s',\n",
      "                                          'LusidInstrumentId': 'LUID_I1RHNWII'},\n",
      "                          'instrument_definition': {'content': '{\\n'\n",
      "                                                               '  \"startDate\": '\n",
      "                                                               '\"2016-09-21T00:00:00+00:00\",\\n'\n",
      "                                                               '  '\n",
      "                                                               '\"maturityDate\": '\n",
      "                                                               '\"2047-07-22T00:00:00+00:00\",\\n'\n",
      "                                                               '  \"domCcy\": '\n",
      "                                                               '\"GBP\",\\n'\n",
      "                                                               '  '\n",
      "                                                               '\"couponRate\": '\n",
      "                                                               '0.015,\\n'\n",
      "                                                               '  \"principal\": '\n",
      "                                                               '1.0,\\n'\n",
      "                                                               '  '\n",
      "                                                               '\"flowConventions\": '\n",
      "                                                               '{\\n'\n",
      "                                                               '    '\n",
      "                                                               '\"currency\": '\n",
      "                                                               '\"GBP\",\\n'\n",
      "                                                               '    '\n",
      "                                                               '\"paymentFrequency\": '\n",
      "                                                               '{\\n'\n",
      "                                                               '      \"value\": '\n",
      "                                                               '6.0,\\n'\n",
      "                                                               '      \"unit\": '\n",
      "                                                               '4\\n'\n",
      "                                                               '    },\\n'\n",
      "                                                               '    '\n",
      "                                                               '\"dayCountConvention\": '\n",
      "                                                               '1,\\n'\n",
      "                                                               '    '\n",
      "                                                               '\"rollConvention\": '\n",
      "                                                               '4,\\n'\n",
      "                                                               '    '\n",
      "                                                               '\"holidayCalendars\": '\n",
      "                                                               '[]\\n'\n",
      "                                                               '  },\\n'\n",
      "                                                               '  '\n",
      "                                                               '\"identifiers\": '\n",
      "                                                               '{},\\n'\n",
      "                                                               '  '\n",
      "                                                               '\"instrumentType\": '\n",
      "                                                               '\"Bond\"\\n'\n",
      "                                                               '}',\n",
      "                                                    'instrument_format': 'Lusid'},\n",
      "                          'links': None,\n",
      "                          'lookthrough_portfolio': None,\n",
      "                          'lusid_instrument_id': 'LUID_I1RHNWII',\n",
      "                          'name': 'gilt 1.5% 47s',\n",
      "                          'properties': [],\n",
      "                          'state': 'Active',\n",
      "                          'version': {'as_at_date': datetime.datetime(2020, 6, 29, 8, 56, 16, 879547, tzinfo=tzutc()),\n",
      "                                      'effective_from': datetime.datetime(1, 1, 1, 0, 0, tzinfo=tzutc())}}}}\n"
     ]
    }
   ],
   "source": [
    "def upsert_bond_instrument(instrument_id, instrument_name, instrument_definition):\n",
    "    bond_instrument_request = {instrument_id: models.LusidInstrumentDefinition(\n",
    "        name=instrument_name,\n",
    "        identifiers={\"ClientInternal\": models.InstrumentIdValue(instrument_id)},\n",
    "        definition=instrument_definition\n",
    "    )}\n",
    "    # Using upsert_lusid_instrument and not upset_instrument as we're creating an instrument based\n",
    "    # on a user defined instrument definition.\n",
    "    return instruments_api.upsert_lusid_instruments(bond_instrument_request)\n",
    "\n",
    "instrument_upsert_response = upsert_bond_instrument(\"gilt2047s\", \"gilt 1.5% 47s\", bond_instrument_definition)\n",
    "# retrieve the instrument id of our gilt to be used later when adding market quotes.\n",
    "gilt_2047_LUID = instrument_upsert_response.values['gilt2047s'].lusid_instrument_id\n"
   ],
   "metadata": {
    "collapsed": false,
    "pycharm": {
     "name": "#%%\n"
    }
   }
  },
  {
   "cell_type": "markdown",
   "source": [
    "## Defining the Bond valuation\n",
    "\n",
    "Now that we have our Bond instrument defined and upserted into LUSID we can move onto preparing to execute aggregations\n",
    "in LUSID to value our Bond holdings.\n",
    "\n",
    "Aggregations are configured in LUSID through the use of [Recipes](\"https://support.finbourne.com/what-is-a-lusid-recipe-and-how-is-it-used\") which allow you to configure behaviour. Examples of the type\n",
    "of configurations include sources market data for specific asset classes, which pricing models to use and where to locate static values that may\n",
    "be used in calculations.\n",
    "\n",
    "We'll start with a recipe that simply informs the aggregation engine of which model to use price our Bond. In this notebook\n",
    "we'll use LUSID's built-in \"Discounting\" model that prices our bond using an OIS yield curve. But before we run our valuation\n",
    "we need to supply our yield curve.\n",
    "\n",
    "\n",
    "### Structured Market Data\n",
    "\n",
    "[Structured market data](\"https://support.finbourne.com/how-do-i-store-and-tr\") expands on the simple uploading of market\n",
    "quotes by allowing you to supply more complex market data into LUSID in a format it can understand.\n",
    "\n",
    "In the case of our gilt we would like to price it using an OIS yield curve. The source file is in the 'data/GBPOIS50.json' and\n",
    "consists of a set of discount factors across the maturities of the OIS term structure. While we've hardcoded the rates\n",
    "in this example LUSID also supports supplying instrument identifiers.#TODO checkthis?\n",
    "\n",
    "Let's now load in the yield curves:"
   ],
   "metadata": {
    "collapsed": false,
    "pycharm": {
     "name": "#%% md\n"
    }
   }
  },
  {
   "cell_type": "code",
   "execution_count": 117,
   "outputs": [
    {
     "name": "stdout",
     "output_type": "stream",
     "text": [
      "{'failed': {},\n",
      " 'href': None,\n",
      " 'links': [{'description': 'A link to the LUSID Insights website showing all '\n",
      "                           'logs related to this request',\n",
      "            'href': 'http://khalid-local-dev.lusid.com/app/insights/logs/0HM0S5UJ4J3FI:00000001',\n",
      "            'method': 'GET',\n",
      "            'relation': 'RequestLogs'}],\n",
      " 'values': {'GBP': datetime.datetime(2020, 6, 29, 14, 19, 50, 509352, tzinfo=tzutc())}}\n",
      "{'failed': {},\n",
      " 'href': None,\n",
      " 'links': [{'description': 'A link to the LUSID Insights website showing all '\n",
      "                           'logs related to this request',\n",
      "            'href': 'http://khalid-local-dev.lusid.com/app/insights/logs/0HM0S5UJ4J3FI:00000002',\n",
      "            'method': 'GET',\n",
      "            'relation': 'RequestLogs'}],\n",
      " 'values': {'GBP': datetime.datetime(2020, 6, 29, 14, 19, 50, 810147, tzinfo=tzutc())}}\n"
     ]
    }
   ],
   "source": [
    "# TODO expand as to why this different from other scope\n",
    "market_data_scope = \"FinbourneMarketData\"\n",
    "#\n",
    "market_supplier = 'Lusid'\n",
    "\n",
    "def upsert_ois_yield_curve(ois_curve_json, scope, effective_at, market_asset, ccy):\n",
    "\n",
    "    ## TODO clean up and elaborate as this currently too messy\n",
    "    ## a lot going on here we need to describe\n",
    "\n",
    "    # create request\n",
    "    structuredDoc = models.StructuredMarketData(document_format=\"Json\", version=\"1.0.0\",\n",
    "                                                name=\"DFEUROISCurve\", document=ois_curve_json)\n",
    "    structuredId = models.StructuredMarketDataId(provider=\"Lusid\",price_source=None,\n",
    "                                                 lineage=\"MyDemoData\", effective_at=effective_at,\n",
    "                                                 market_element_type=\"ZeroCurve\",\n",
    "                                                 market_asset=market_asset)\n",
    "    smdRequest = models.UpsertStructuredMarketDataRequest(market_data_id=structuredId,\n",
    "                                                          market_data=structuredDoc)\n",
    "\n",
    "    response = structured_market_data_api.upsert_structured_market_data(\n",
    "        scope=scope,\n",
    "        request_body={ccy : smdRequest}\n",
    "    )\n",
    "    print(response)\n",
    "\n",
    "def load_ois_curve_json():\n",
    "    with open('data/GBPOIS50.json', \"r\") as myfile:\n",
    "        return myfile.read()\n",
    "\n",
    "ois_curve_json = load_ois_curve_json()\n",
    "upsert_ois_yield_curve(ois_curve_json, market_data_scope, effective_at, \"GBP/GBPOIS\", \"GBP\")\n",
    "upsert_ois_yield_curve(ois_curve_json, market_data_scope, effective_at, \"GBP/6M\", \"GBP\")"
   ],
   "metadata": {
    "collapsed": false,
    "pycharm": {
     "name": "#%%\n"
    }
   }
  },
  {
   "cell_type": "markdown",
   "source": [
    "### What Bond Pricing Model To Use?\n",
    "To value our Gilt we need to tell LUSID how to answer the following questions - What Bond pricing model to use? And where\n",
    "should LUSID source the market data to required to properly execute the model? To do so we define a Recipe that has two\n",
    "main constituents, the PricingContext and the MarketContext.\n",
    "\n",
    "We start with the PricingContext which is used to select the pricing model and add any additional parameters that configure the\n",
    "model behaviour. See the [Swagger spec](\"https://www.lusid.com/api/swagger/index.html#model-PricingContext\") for more details."
   ],
   "metadata": {
    "collapsed": false,
    "pycharm": {
     "name": "#%% md\n"
    }
   }
  },
  {
   "cell_type": "code",
   "execution_count": 8,
   "outputs": [],
   "source": [
    "#TODO explain more of these arguments\n",
    "\n",
    "def create_discounting_bond_pricing_context():\n",
    "    return models.PricingContext(\n",
    "        options=models.PricingOptions(\n",
    "            allow_any_instruments_with_sec_uid_to_price_off_lookup=True,\n",
    "            produce_separate_result_for_linear_otc_legs=False,\n",
    "            allow_partially_successful_evaluation=True\n",
    "        ),\n",
    "        model_rules=[\n",
    "            models.VendorModelRule(\n",
    "                supplier=\"Lusid\",\n",
    "                model_name=\"Discounting\",\n",
    "                instrument_type=\"Bond\",\n",
    "                parameters=\"{}\"\n",
    "            )\n",
    "        ]\n",
    "    )\n",
    "\n",
    "pricing_context = create_discounting_bond_pricing_context()"
   ],
   "metadata": {
    "collapsed": false,
    "pycharm": {
     "name": "#%%\n"
    }
   }
  },
  {
   "cell_type": "markdown",
   "source": [
    "### Where should Market Data be sourced?\n",
    "\n",
    "The MarketContext is how we inform LUSID where to retrieve market data for a given aggregation. In our case we need to\n",
    "tell LUSID where our OIS yield curve was stored (the market data scope and supplier). See the [Swagger spec](\"https://www.lusid.com/api/swagger/index.html#model-MarketContext\")\n",
    "for more details."
   ],
   "metadata": {
    "collapsed": false,
    "pycharm": {
     "name": "#%% md\n"
    }
   }
  },
  {
   "cell_type": "code",
   "execution_count": 118,
   "outputs": [],
   "source": [
    "def create_market_context():\n",
    "    return models.MarketContext(\n",
    "        market_rules=[\n",
    "            models.MarketDataKeyRule(\n",
    "                key=\"Rates.*.*\",\n",
    "                data_scope=market_data_scope,\n",
    "                supplier=market_supplier,\n",
    "                quote_type='Rate',\n",
    "                field='Mid')\n",
    "        ],\n",
    "        options=models.MarketOptions(\n",
    "            default_supplier=market_supplier,\n",
    "            default_scope=market_data_scope)\n",
    "    )\n",
    "\n",
    "    return market_context\n",
    "\n",
    "market_context = create_market_context()"
   ],
   "metadata": {
    "collapsed": false,
    "pycharm": {
     "name": "#%%\n"
    }
   }
  },
  {
   "cell_type": "markdown",
   "source": [
    "### Configure our Bond Pricing Recipe\n",
    "\n",
    "With our PricingContext and MarketContext defined we're now ready to configure our Bond valuation recipe:"
   ],
   "metadata": {
    "collapsed": false,
    "pycharm": {
     "name": "#%% md\n"
    }
   }
  },
  {
   "cell_type": "code",
   "execution_count": 138,
   "outputs": [
    {
     "name": "stdout",
     "output_type": "stream",
     "text": [
      "{'href': None,\n",
      " 'links': [{'description': 'A link to the LUSID Insights website showing all '\n",
      "                           'logs related to this request',\n",
      "            'href': 'http://khalid-local-dev.lusid.com/app/insights/logs/0HM0S5UJ4J4RL:00000001',\n",
      "            'method': 'GET',\n",
      "            'relation': 'RequestLogs'}],\n",
      " 'value': datetime.datetime(2020, 6, 29, 15, 44, 44, 716301, tzinfo=tzutc())}\n"
     ]
    }
   ],
   "source": [
    "def create_discount_bond_pricing_recipe(scope, recipe_name, market_context, pricing_context):\n",
    "\n",
    "    discount_bond_pricing_config_recpie = models.ConfigurationRecipe(\n",
    "        scope=scope,\n",
    "        code=recipe_name,\n",
    "        description=\"Price bond using discounting model\",\n",
    "        market=market_context,\n",
    "        pricing=pricing_context\n",
    "    )\n",
    "\n",
    "\n",
    "    #upsert the recipe\n",
    "    response = configuration_recipe_api.upsert_configuration_recipe(\n",
    "        upsert_recipe_request=models.UpsertRecipeRequest(configuration_recipe=discount_bond_pricing_config_recpie)\n",
    "    )\n",
    "\n",
    "    print(response)\n",
    "\n",
    "    return discount_bond_pricing_config_recpie\n",
    "\n",
    "discounting_bond_recipe_name = \"test-discounting-bond\"\n",
    "discount_bond_pricing_config_recpie = create_discount_bond_pricing_recipe(scope, discounting_bond_recipe_name, market_context, pricing_context)"
   ],
   "metadata": {
    "collapsed": false,
    "pycharm": {
     "name": "#%%\n"
    }
   }
  },
  {
   "cell_type": "markdown",
   "source": [
    "## Pricing our Bond\n",
    "\n",
    "Let's quickly summarise our current state:\n",
    " * We've defined a Gilt 1.5% 47s bond (including defining it's date conventions).\n",
    " * We've loaded the OIS yield curve into the Structure Market Data store.\n",
    " * We've setup our Recipe configuring of how we would like to price our bond and where to source our required market data.\n",
    "\n",
    "At this point we hold no position in the Bond in our portfolio but would simply like to value it using our internal Bond\n",
    "pricing model as we defined in the recipe.\n"
   ],
   "metadata": {
    "collapsed": false,
    "pycharm": {
     "name": "#%% md\n"
    }
   }
  },
  {
   "cell_type": "code",
   "execution_count": null,
   "outputs": [],
   "source": [
    "# create aggregation request\n",
    "\n",
    "# def create_aggregation_request(inlineCfgRecipe, effective_date, include_cashflows=True):\n",
    "#\n",
    "#     # fill in the common bits of an aggregation request\n",
    "#     aggregateSpecList = [\n",
    "#         models.AggregateSpec(key='Analytic/default/ValuationDate', op='Value'),\n",
    "#         models.AggregateSpec(key='Holding/default/PV', op='Value'),\n",
    "#         models.AggregateSpec(key='Holding/default/Accrual', op='Value')\n",
    "#     ]\n",
    "#     if include_cashflows: aggregateSpecList.append(\n",
    "#         models.AggregateSpec(key='Analytic/default/HoldingCashflows', op='Value'))\n",
    "#\n",
    "#     aggregationRequestResource = models.AggregationRequest(\n",
    "#         inline_recipe=inlineCfgRecipe,\n",
    "#         effective_at=effective_date.isoformat(),\n",
    "#         metrics=aggregateSpecList\n",
    "#     )\n",
    "#     return aggregationRequestResource\n",
    "#\n",
    "# aggregationRequestResource = create_aggregation_request(\n",
    "#     cfgRecipe, effectiveAt, include_cashflows=False)\n",
    "#\n",
    "# weightedInstrument_gilt = models.WeightedInstrument(quantity=1, holding_identifier=\"myholding_gilt\",\n",
    "#                                                     instrument=gilt_2047s)\n",
    "#\n",
    "# inlineRequestGilt = models.InlineAggregationRequest(\n",
    "#     request=aggregationRequestResource, instruments=[weightedInstrument_gilt]\n",
    "# )\n",
    "#\n",
    "# # Call LUSID to perform the aggregation\n",
    "# response = api_factory.build(lusid.api.AggregationApi).get_aggregation_of_weighted_instruments(\n",
    "#     market_data_scope, inline_request=inlineRequestGilt\n",
    "# )"
   ],
   "metadata": {
    "collapsed": false,
    "pycharm": {
     "name": "#%%\n"
    }
   }
  },
  {
   "cell_type": "code",
   "execution_count": 128,
   "outputs": [
    {
     "name": "stdout",
     "output_type": "stream",
     "text": [
      "      Name              Effective At     Value\n",
      "0  Bond PV 2020-06-23 00:00:00+00:00  1.386649\n"
     ]
    }
   ],
   "source": [
    "def run_bond_pricing_aggregation(bond_instrument_definition, discount_bond_pricing_config_recpie, effective_at):\n",
    "    ## TODO why we need weighted insturments\n",
    "    weighted_instrument_gilt = models.WeightedInstrument(quantity=1, instrument=bond_instrument_definition, holding_identifier=\"myholding_gilt\")\n",
    "\n",
    "    aggregation_request = models.AggregationRequest(\n",
    "        effective_at=effective_at.isoformat(),\n",
    "        inline_recipe=discount_bond_pricing_config_recpie,\n",
    "        metrics=[\n",
    "            # TODO called holding even if we don't have one. Dummy it with weigted instrument. Speak with Riz\n",
    "            models.AggregateSpec(key='Holding/default/PV', op='Value'),\n",
    "        ]\n",
    "    )\n",
    "\n",
    "    ## TODO why we include inline\n",
    "    inline_aggregation_request = models.InlineAggregationRequest(\n",
    "        request=aggregation_request, instruments=[weighted_instrument_gilt]\n",
    "    )\n",
    "\n",
    "    return api_factory.build(lusid.api.AggregationApi).get_aggregation_of_weighted_instruments(\n",
    "        market_data_scope, inline_aggregation_request=inline_aggregation_request)\n",
    "\n",
    "\n",
    "\n",
    "result = run_bond_pricing_aggregation(bond_instrument_definition, discount_bond_pricing_config_recpie, effective_at)\n",
    "bond_pv = result.data[0]['Holding/default/PV']\n",
    "#print(f\"Bond PV (as at {effective_at}) : {bond_pv}\")\n",
    "print(aggregation_result_to_dataframe([\n",
    "    ['Bond PV', effective_at, bond_pv]\n",
    "]))"
   ],
   "metadata": {
    "collapsed": false,
    "pycharm": {
     "name": "#%%\n"
    }
   }
  },
  {
   "cell_type": "markdown",
   "source": [
    "We've now priced our Gilt using the LUSID internal Bond \"Discounting\" model. As our recipe is already setup\n",
    "we can seamlessly reprice our bond for the following day:"
   ],
   "metadata": {
    "collapsed": false,
    "pycharm": {
     "name": "#%% md\n"
    }
   }
  },
  {
   "cell_type": "code",
   "execution_count": 129,
   "outputs": [
    {
     "name": "stdout",
     "output_type": "stream",
     "text": [
      "      Name              Effective At     Value\n",
      "0  Bond PV 2020-06-23 00:00:00+00:00  1.386649\n",
      "1  Bond PV 2020-06-24 00:00:00+00:00  1.386690\n"
     ]
    }
   ],
   "source": [
    "effective_at_t_plus_one = effective_at + timedelta(days=1)\n",
    "aggregation_result = run_bond_pricing_aggregation(bond_instrument_definition, discount_bond_pricing_config_recpie, effective_at_t_plus_one)\n",
    "bond_pv_at_t_plus_one = aggregation_result.data[0]['Holding/default/PV']\n",
    "#print(f\"Bonds PV (as at {effective_at_plus_one}) : {bond_pv}\")\n",
    "\n",
    "print(aggregation_result_to_dataframe([\n",
    "    ['Bond PV', effective_at, bond_pv],\n",
    "    ['Bond PV', effective_at_t_plus_one, bond_pv_at_t_plus_one]\n",
    "]))"
   ],
   "metadata": {
    "collapsed": false,
    "pycharm": {
     "name": "#%%\n"
    }
   }
  },
  {
   "cell_type": "markdown",
   "source": [
    "## Accrued Interest\n",
    "\n",
    "The above example shows our Bond price changing from one day to the next using the Discounting model. This can be explained by the accrued\n",
    "interest on the Gilt. Recall that when we defined our gilt we set FlowConventions that contain all the information needed to calculate\n",
    "accrued interest between coupon dates.\n",
    "\n",
    "Note that the The 'Holding/default/PV' aggregation firstly generates a clean price using the \"Discounting\" model before\n",
    "calculating and adding the accrued interest. To get back the accrued interest taht was calculated we simply need to update\n",
    "our aggregation request to include 'Holding/default/Accrual':"
   ],
   "metadata": {
    "collapsed": false,
    "pycharm": {
     "name": "#%% md\n"
    }
   }
  },
  {
   "cell_type": "code",
   "execution_count": 141,
   "outputs": [
    {
     "name": "stdout",
     "output_type": "stream",
     "text": [
      "                   Name              Effective At     Value\n",
      "0               Bond PV 2020-06-23 00:00:00+00:00  1.386649\n",
      "1      Accrued Interest 2020-06-23 00:00:00+00:00  0.006288\n",
      "2               Bond PV 2020-06-24 00:00:00+00:00  1.386690\n",
      "3      Accrued Interest 2020-06-24 00:00:00+00:00  0.006329\n",
      "4           Bond PV Dtd 2020-06-24 00:00:00+00:00  0.000041\n",
      "5  Accrued Interest Dtd 2020-06-24 00:00:00+00:00  0.000041\n"
     ]
    }
   ],
   "source": [
    "def run_bond_pricing_aggregation_and_accrued(bond_instrument_definition, discount_bond_pricing_config_recpie, effective_at):\n",
    "    ## TODO why we need weighted insturments\n",
    "    weighted_instrument_gilt = models.WeightedInstrument(quantity=1, instrument=bond_instrument_definition, holding_identifier=\"myholding_gilt\")\n",
    "\n",
    "    aggregation_request = models.AggregationRequest(\n",
    "        effective_at=effective_at.isoformat(),\n",
    "        inline_recipe=discount_bond_pricing_config_recpie,\n",
    "        metrics=[\n",
    "            models.AggregateSpec(key='Holding/default/PV', op='Value'),\n",
    "            # Ensure the calculated accrual is returned.\n",
    "            models.AggregateSpec(key='Holding/default/Accrual', op='Value')\n",
    "        ]\n",
    "    )\n",
    "\n",
    "    ## TODO why we include inline\n",
    "    inline_aggregation_request = models.InlineAggregationRequest(\n",
    "        request=aggregation_request, instruments=[weighted_instrument_gilt]\n",
    "    )\n",
    "\n",
    "    return api_factory.build(lusid.api.AggregationApi).get_aggregation_of_weighted_instruments(\n",
    "        market_data_scope, inline_aggregation_request=inline_aggregation_request)\n",
    "\n",
    "\n",
    "# bond pv and accrued interest at effective date\n",
    "aggregation_result = run_bond_pricing_aggregation_and_accrued(bond_instrument_definition, discount_bond_pricing_config_recpie, effective_at)\n",
    "bond_pv = aggregation_result.data[0]['Holding/default/PV']\n",
    "accrued_interest = aggregation_result.data[0]['Holding/default/Accrual']\n",
    "\n",
    "# bond pv and accrued interest day after\n",
    "aggregation_result = run_bond_pricing_aggregation_and_accrued(bond_instrument_definition, discount_bond_pricing_config_recpie, effective_at_t_plus_one)\n",
    "bond_pv_t_plus_one = aggregation_result.data[0]['Holding/default/PV']\n",
    "accrued_interest_t_plus_one = aggregation_result.data[0]['Holding/default/Accrual']\n",
    "\n",
    "print(aggregation_result_to_dataframe([\n",
    "    ['Bond PV', effective_at, bond_pv],\n",
    "    ['Accrued Interest', effective_at, accrued_interest],\n",
    "    ['Bond PV', effective_at_t_plus_one, bond_pv_t_plus_one],\n",
    "    ['Accrued Interest', effective_at_t_plus_one, accrued_interest_t_plus_one],\n",
    "    ['Bond PV Dtd', effective_at_t_plus_one, bond_pv_t_plus_one-bond_pv],\n",
    "    ['Accrued Interest Dtd', effective_at_t_plus_one, accrued_interest_t_plus_one-accrued_interest]\n",
    "]))"
   ],
   "metadata": {
    "collapsed": false,
    "pycharm": {
     "name": "#%%\n"
    }
   }
  },
  {
   "cell_type": "markdown",
   "source": [
    "## Adding a Bond Position to our Portfolio\n",
    "\n",
    "Now that we've covered how to define and price a bond instrument let's move onto adding a bond position to our portfolio.\n",
    "We'll then use the same recipe we defined to price the bond but this time use it to value our entire bond position within\n",
    "our portfolio. So we're using the same Recipe (i.e same Bond pricing model and data sources) but different aggregation parameters\n",
    "\n",
    "Brief summary of what we'll aim to do:\n",
    "* Create a portfolio to hold our Bond position.\n",
    "* Create a buy transaction on our holding. We'll also make use of the accrual calculation we just covered to help us\n",
    "setup a realistic transaction price and consideration for our test case.\n",
    "* Run an aggregation to calculate the value of our portfolio with the accrued interest. We'll also review how this aggregation\n",
    "on our portfolio differs to the the previous inline aggregation.\n",
    "\n",
    "But first to begin with let's setup our test portfolio:"
   ],
   "metadata": {
    "collapsed": false
   }
  },
  {
   "cell_type": "code",
   "execution_count": 134,
   "outputs": [
    {
     "name": "stdout",
     "output_type": "stream",
     "text": [
      "{'portfolios': {'errors': [], 'success': [{'base_currency': 'GBP',\n",
      " 'created': datetime.datetime(2020, 1, 1, 0, 0, tzinfo=tzutc()),\n",
      " 'description': None,\n",
      " 'display_name': 'simple-bond-portfolio-01',\n",
      " 'href': 'https://khalid-local-dev.lusid.com/api/api/portfolios/test-bond-pricing-nb/simple-bond-portfolio-01?asAt=2020-06-29T15%3A33%3A42.5770640%2B00%3A00',\n",
      " 'id': {'code': 'simple-bond-portfolio-01', 'scope': 'test-bond-pricing-nb'},\n",
      " 'is_derived': False,\n",
      " 'links': [{'description': None,\n",
      "            'href': 'https://khalid-local-dev.lusid.com/api/api/portfolios/test-bond-pricing-nb/simple-bond-portfolio-01/properties?effectiveAt=2020-01-01T00%3A00%3A00.0000000%2B00%3A00&asAt=2020-06-29T15%3A33%3A42.5770640%2B00%3A00',\n",
      "            'method': 'GET',\n",
      "            'relation': 'Properties'},\n",
      "           {'description': None,\n",
      "            'href': 'https://khalid-local-dev.lusid.com/api/api/portfolios/test-bond-pricing-nb/simple-bond-portfolio-01/commands?toAsAt=2020-06-29T15%3A33%3A42.5770640%2B00%3A00',\n",
      "            'method': 'GET',\n",
      "            'relation': 'Commands'},\n",
      "           {'description': None,\n",
      "            'href': 'https://khalid-local-dev.lusid.com/api/api/transactionportfolios/test-bond-pricing-nb/simple-bond-portfolio-01/details?effectiveAt=2020-01-01T00%3A00%3A00.0000000%2B00%3A00&asAt=2020-06-29T15%3A33%3A42.5770640%2B00%3A00',\n",
      "            'method': 'GET',\n",
      "            'relation': 'Details'},\n",
      "           {'description': None,\n",
      "            'href': 'https://khalid-local-dev.lusid.com/api/api/transactionportfolios/test-bond-pricing-nb/simple-bond-portfolio-01/transactions?effectiveAt=2020-01-01T00%3A00%3A00.0000000%2B00%3A00&asAt=2020-06-29T15%3A33%3A42.5770640%2B00%3A00',\n",
      "            'method': 'GET',\n",
      "            'relation': 'Transactions'},\n",
      "           {'description': None,\n",
      "            'href': 'https://khalid-local-dev.lusid.com/api/api/transactionportfolios/test-bond-pricing-nb/simple-bond-portfolio-01/holdings?effectiveAt=2020-01-01T00%3A00%3A00.0000000%2B00%3A00&asAt=2020-06-29T15%3A33%3A42.5770640%2B00%3A00',\n",
      "            'method': 'GET',\n",
      "            'relation': 'Holdings'},\n",
      "           {'description': None,\n",
      "            'href': 'https://khalid-local-dev.lusid.com/api/api/transactionportfolios/test-bond-pricing-nb/simple-bond-portfolio-01/holdingsadjustments/2020-01-01T00%3A00%3A00.0000000%2B00%3A00?asAt=2020-06-29T15%3A33%3A42.5770640%2B00%3A00',\n",
      "            'method': 'GET',\n",
      "            'relation': 'HoldingsAdjustments'},\n",
      "           {'description': None,\n",
      "            'href': 'https://khalid-local-dev.lusid.com/api/api/schemas/entities/Portfolio',\n",
      "            'method': 'GET',\n",
      "            'relation': 'EntitySchema'},\n",
      "           {'description': 'A link to the LUSID Insights website showing all '\n",
      "                           'logs related to this request',\n",
      "            'href': 'http://khalid-local-dev.lusid.com/app/insights/logs/0HM0S5UDO75G8:00000001',\n",
      "            'method': 'GET',\n",
      "            'relation': 'RequestLogs'}],\n",
      " 'parent_portfolio_id': None,\n",
      " 'properties': None,\n",
      " 'type': 'Transaction',\n",
      " 'version': {'as_at_date': datetime.datetime(2020, 6, 29, 15, 33, 42, 577064, tzinfo=tzutc()),\n",
      "             'effective_from': datetime.datetime(2020, 1, 1, 0, 0, tzinfo=tzutc())}}]}}\n"
     ]
    }
   ],
   "source": [
    "portfolio = \"simple-bond-portfolio-01\"\n",
    "\n",
    "def create_portfolio(scope, portfolio_code, portfolio_name, portfolio_ccy):\n",
    "    pfs = [[portfolio_code, portfolio_name, portfolio_ccy]]\n",
    "    pf_df = pd.DataFrame(pfs, columns=['portfolio_code', 'portfolio_name', 'base_currency'])\n",
    "\n",
    "    portfolio_mapping = {\n",
    "        \"required\": {\n",
    "            \"code\": \"portfolio_code\",\n",
    "            \"display_name\": \"portfolio_name\",\n",
    "            \"base_currency\": \"base_currency\",\n",
    "        },\n",
    "        \"optional\": {\"created\": \"$2020-01-01T00:00:00+00:00\"},\n",
    "    }\n",
    "    result = load_from_data_frame(\n",
    "        api_factory=api_factory,\n",
    "        scope=scope,\n",
    "        data_frame=pf_df,\n",
    "        mapping_required=portfolio_mapping[\"required\"],\n",
    "        mapping_optional=portfolio_mapping[\"optional\"],\n",
    "        file_type=\"portfolios\",\n",
    "        sub_holding_keys=[],\n",
    "    )\n",
    "    print(result)\n",
    "\n",
    "create_portfolio(scope, portfolio, portfolio, \"GBP\")"
   ],
   "metadata": {
    "collapsed": false,
    "pycharm": {
     "name": "#%%\n"
    }
   }
  },
  {
   "cell_type": "markdown",
   "source": [
    "### Setting up our Transaction\n",
    "\n",
    "We now need to create and upsert our buy transaction. Earlier we priced the Present Value of our Bond (approx 1.38) which\n",
    "included accrued interest of around 0.00062. For our example transaction let's set a market price of 1.37 and we're looking\n",
    "for a position size with a notional of 75,000,000. We'll use the accrued interest calculated by LUSID to come up with a dirty price\n",
    "and consideration for this particular example:"
   ],
   "metadata": {
    "collapsed": false
   }
  },
  {
   "cell_type": "code",
   "execution_count": 159,
   "outputs": [],
   "source": [
    "# retrieve accrued interest\n",
    "aggregation_result = run_bond_pricing_aggregation_and_accrued(bond_instrument_definition, discount_bond_pricing_config_recpie, effective_at)\n",
    "bond_unit_pv = aggregation_result.data[0]['Holding/default/PV']\n",
    "accrued_unit_interest = aggregation_result.data[0]['Holding/default/Accrual']\n",
    "\n",
    "# setup our transaction\n",
    "notional = 75000000\n",
    "clean_price = 1.37\n",
    "dirty_price = clean_price + accrued_unit_interest\n",
    "consideration = notional * dirty_price\n",
    "\n",
    "def upsert_buy_transaction(scope, txn_id, instrument_id, trade_date, effective_at, portfolio, clean_price, dirty_price):\n",
    "    gilt_transaction_request = models.TransactionRequest(\n",
    "        transaction_id=txn_id,\n",
    "        type=\"Buy\",\n",
    "        instrument_identifiers={\"Instrument/default/ClientInternal\": instrument_id},\n",
    "        transaction_date=trade_date.isoformat(),\n",
    "        settlement_date=effective_at.isoformat(),\n",
    "        units=notional,\n",
    "        transaction_price=models.TransactionPrice(price=clean_price, type=\"Price\"),\n",
    "        total_consideration=models.CurrencyAndAmount(amount=consideration, currency=\"GBP\"),\n",
    "        exchange_rate=1,\n",
    "        transaction_currency=\"GBP\"\n",
    "    )\n",
    "\n",
    "    response = api_factory.build(lusid.api.TransactionPortfoliosApi).upsert_transactions(scope=scope,\n",
    "                                                                                         code=portfolio,\n",
    "                                                                                         transaction_request=[gilt_transaction_request])\n",
    "\n",
    "upsert_buy_transaction(scope, \"GiltTXN001\", \"gilt2047s\", trade_date, effective_at, portfolio, clean_price, dirty_price)\n"
   ],
   "metadata": {
    "collapsed": false,
    "pycharm": {
     "name": "#%%\n"
    }
   }
  },
  {
   "cell_type": "markdown",
   "source": [
    "## Valuing our Portfolio\n",
    "\n",
    "We're now ready to run our aggregation and value our Bond portfolio. It's important to note that this is no longer an\n",
    "inline aggregation. This means the aggregation we're now running isn't only against the bond instrument definition, but instead\n",
    "is being run against a portfolio within a specific scope. For this reason we no longer require the use of a weighted instrument\n",
    "or the need to generate a specific inline aggregation request.\n",
    "\n",
    "Our request is simpler. We just need to provide our recipe, the portfolio and the scope:"
   ],
   "metadata": {
    "collapsed": false
   }
  },
  {
   "cell_type": "code",
   "execution_count": 142,
   "outputs": [
    {
     "name": "stdout",
     "output_type": "stream",
     "text": [
      "                         Name              Effective At         Value\n",
      "0                Portfolio PV 2020-06-23 00:00:00+00:00  1.039986e+08\n",
      "1  Portfolio Accrued Interest 2020-06-23 00:00:00+00:00  4.715753e+05\n"
     ]
    }
   ],
   "source": [
    "def run_bond_pricing_aggregation_on_portfolio(scope, portfolio, recipe, effective_at):\n",
    "    aggregation_request = models.AggregationRequest(\n",
    "        effective_at=effective_at.isoformat(),\n",
    "        recipe_id=models.ResourceId(scope=scope, code=recipe),\n",
    "        metrics=[\n",
    "            models.AggregateSpec(key='Holding/default/PV', op='Value'),\n",
    "            models.AggregateSpec(key='Holding/default/Accrual', op='Value')\n",
    "        ]\n",
    "    )\n",
    "\n",
    "    return api_factory.build(lusid.api.AggregationApi).get_aggregation(scope=scope, code=portfolio,\n",
    "                                                             aggregation_request=aggregation_request)\n",
    "\n",
    "\n",
    "\n",
    "results = run_bond_pricing_aggregation_on_portfolio(scope, portfolio, discounting_bond_recipe_name, effective_at)\n",
    "bond_pv = results.data[0]['Holding/default/PV']\n",
    "#print(f\"Bonds Holdings (as at {effective_at}) : {bond_holdings}\")\n",
    "accrued_interest = results.data[0]['Holding/default/Accrual']\n",
    "#print(f\"Accrued Interest (as at {effective_at}) : {accrued_interest}\")\n",
    "\n",
    "print(aggregation_result_to_dataframe([\n",
    "    ['Portfolio PV', effective_at, bond_pv],\n",
    "    ['Portfolio Accrued Interest', effective_at, accrued_interest]\n",
    "]))"
   ],
   "metadata": {
    "collapsed": false,
    "pycharm": {
     "name": "#%%\n"
    }
   }
  },
  {
   "cell_type": "markdown",
   "source": [
    "As in our previous example let's move forward a day to view the change in our Portfolio PV and Accrued Interest:"
   ],
   "metadata": {
    "collapsed": false
   }
  },
  {
   "cell_type": "code",
   "execution_count": 143,
   "outputs": [
    {
     "name": "stdout",
     "output_type": "stream",
     "text": [
      "                             Name              Effective At         Value\n",
      "0                    Portfolio PV 2020-06-23 00:00:00+00:00  1.039986e+08\n",
      "1      Portfolio Accrued Interest 2020-06-23 00:00:00+00:00  4.715753e+05\n",
      "2                    Portfolio PV 2020-06-24 00:00:00+00:00  1.040017e+08\n",
      "3      Portfolio Accrued Interest 2020-06-24 00:00:00+00:00  4.746575e+05\n",
      "4                Portfolio PV Dtd 2020-06-24 00:00:00+00:00  3.082192e+03\n",
      "5  Portfolio Accrued Interest Dtd 2020-06-24 00:00:00+00:00  3.082192e+03\n"
     ]
    }
   ],
   "source": [
    "effective_at_plus_one = effective_at + timedelta(days=1)\n",
    "results = run_bond_pricing_aggregation_on_portfolio(scope, portfolio, discounting_bond_recipe_name, effective_at_plus_one)\n",
    "bond_pv_t_plus_one = results.data[0]['Holding/default/PV']\n",
    "accrued_interest_t_plus_one = results.data[0]['Holding/default/Accrual']\n",
    "#print(f\"Bonds Holdings (as at {effective_at}) : {bond_holdings}\")\n",
    "#print(f\"Bonds Holdings (as at {effective_at_plus_one}) : {bond_holdings_t_1} (dtd: {bond_holdings_t_1-bond_holdings})\")\n",
    "#print(f\"Accrued Interest (as at {effective_at}) : {accrued_interest}\")\n",
    "#print(f\"Accrued Interest (as at {effective_at_plus_one}) : {accrued_interest_t_1} (dtd: {accrued_interest_t_1-accrued_interest})\")\n",
    "\n",
    "\n",
    "print(aggregation_result_to_dataframe([\n",
    "    ['Portfolio PV', effective_at, bond_pv],\n",
    "    ['Portfolio Accrued Interest', effective_at, accrued_interest],\n",
    "    ['Portfolio PV', effective_at_t_plus_one, bond_pv_t_plus_one],\n",
    "    ['Portfolio Accrued Interest', effective_at_t_plus_one, accrued_interest_t_plus_one],\n",
    "    ['Portfolio PV Dtd', effective_at_t_plus_one, bond_pv_t_plus_one - bond_pv],\n",
    "    ['Portfolio Accrued Interest Dtd', effective_at_t_plus_one, accrued_interest_t_plus_one - accrued_interest]\n",
    "]))"
   ],
   "metadata": {
    "collapsed": false,
    "pycharm": {
     "name": "#%%\n"
    }
   }
  },
  {
   "cell_type": "markdown",
   "source": [
    "## Accrual Overrides\n",
    "\n",
    "Up until now we have relied on LUSID to run it's internal bond pricing model as well as calculate accruals based on the\n",
    "conventions we defined in the Gilt instrument definition. However you may need to use a different value for accrued interest - one\n",
    "that has been calculated externally for example. To do so we need to address two concerns. How do we load a one off accrual\n",
    "into LUSID? And how do we ensure LUSID uses that accrual during aggregation as oppose to reverting to calculating it\n",
    "on the fly as in the previous examples.\n",
    "\n",
    "### Structured Result Store\n",
    "\n",
    "The [Structured Result Store](\"https://support.finbourne.com/how-do-i-store-and-retrieve-structured-market-data-documents\") is\n",
    "a location to store non quote data that may nevertheless be used in an aggregation. Examples include YTD performance on\n",
    "an Index, sensitivities of a Swap, or in our case the accrued interest.\n",
    "\n",
    "Just as with we did with our OIS yield curves in the Structured Market Data store we need to ensure that the Results we\n",
    "upsert can be resolved by LUSID during an aggregation. To do so all entries into the Result store must be defined with a\n",
    "corresponding key that uniquely identifies what the value relates to."
   ],
   "metadata": {
    "collapsed": false,
    "pycharm": {
     "name": "#%% md\n"
    }
   }
  },
  {
   "cell_type": "code",
   "execution_count": 145,
   "outputs": [
    {
     "name": "stdout",
     "output_type": "stream",
     "text": [
      "{'failed': {},\n",
      " 'href': None,\n",
      " 'links': [{'description': 'A link to the LUSID Insights website showing all '\n",
      "                           'logs related to this request',\n",
      "            'href': 'http://khalid-local-dev.lusid.com/app/insights/logs/0HM0S5UMP53CU:00000001',\n",
      "            'method': 'GET',\n",
      "            'relation': 'RequestLogs'}],\n",
      " 'values': {'AccrualOR1': datetime.datetime(2020, 6, 29, 15, 57, 36, 622966, tzinfo=tzutc())}}\n"
     ]
    }
   ],
   "source": [
    "result_data_scope = \"Finbourne-Examples\"\n",
    "accrual_result_id = \"GiltAccrual\"\n",
    "\n",
    "def upsert_structured_result_data_overrides(effective_at, accrual_result_id, instrument_id):\n",
    "    accrual_document = \"LusidInstrumentId,Accrual\" + \"\\r\\n\" + f\"{instrument_id},0.069109979\"\n",
    "\n",
    "    accrual_result = models.StructuredResultData(\n",
    "        # TODO change to JSON\n",
    "        document_format=\"CSV\",\n",
    "        version=\"1.0.0\",\n",
    "        name=\"IRS accrual\",\n",
    "        document=accrual_document\n",
    "    )\n",
    "\n",
    "    # create identifier\n",
    "    accrual_result_id = models.StructuredResultDataId(\n",
    "        source=\"Client\",\n",
    "        code=accrual_result_id,\n",
    "        effective_at=effective_at.isoformat(),\n",
    "        result_type=\"UnitResult/Analytic\"\n",
    "    )\n",
    "\n",
    "    # create structured request\n",
    "    structured_request = models.UpsertStructuredResultDataRequest(\n",
    "        id=accrual_result_id,\n",
    "        data=accrual_result\n",
    "    )\n",
    "\n",
    "    # upsert\n",
    "    response = structured_result_data_api.upsert_structured_result_data(\n",
    "        scope=result_data_scope,\n",
    "        request_body={\"AccrualOR1\": structured_request}\n",
    "    )\n",
    "\n",
    "    print(response)\n",
    "\n",
    "upsert_structured_result_data_overrides(effective_at, accrual_result_id, gilt_2047_LUID)"
   ],
   "metadata": {
    "collapsed": false,
    "pycharm": {
     "name": "#%%\n"
    }
   }
  },
  {
   "cell_type": "markdown",
   "source": [
    "Now that the accrual override is in LUSID we need to address our second concern of notifying the aggregation to override the\n",
    "accrual calculation with our value when required. We can achieve this via the use of a \"Result Data Rule\". These rules\n",
    "rely on a pattern that when matched signals to the aggregation that the stored result data should be used over any\n",
    "calculated value."
   ],
   "metadata": {
    "collapsed": false,
    "pycharm": {
     "name": "#%% md\n"
    }
   }
  },
  {
   "cell_type": "code",
   "execution_count": 53,
   "outputs": [],
   "source": [
    "def create_accrual_result_data_rule(result_data_scope, accrual_result_id):\n",
    "    # TODO exaplin this key in more detail not making much sense why it maps to accrual specifically\n",
    "    accrual_key_rule = models.ResultDataKeyRule(\n",
    "        resource_key=\"UnitResult/Isin/Yield\",\n",
    "        supplier=\"Client\",\n",
    "        data_scope=result_data_scope,\n",
    "        document_code=accrual_result_id\n",
    "    )\n",
    "\n",
    "    return accrual_key_rule\n",
    "\n",
    "\n",
    "accrual_key_rule = create_accrual_result_data_rule(result_data_scope, accrual_result_id)"
   ],
   "metadata": {
    "collapsed": false,
    "pycharm": {
     "name": "#%%\n"
    }
   }
  },
  {
   "cell_type": "markdown",
   "source": [
    "Wit the rule create we need to instruct LUSID to apply this rule. To do so we simply add our rule to a an updated PricingContext definition\n",
    "(which you recall tells LUSID what models to use for the aggregation)."
   ],
   "metadata": {
    "collapsed": false,
    "pycharm": {
     "name": "#%% md\n"
    }
   }
  },
  {
   "cell_type": "code",
   "execution_count": 146,
   "outputs": [],
   "source": [
    "def create_discounting_bond_pricing_context_with_accrual_override(accrual_key_rule):\n",
    "    return models.PricingContext(\n",
    "        options=models.PricingOptions(\n",
    "            allow_any_instruments_with_sec_uid_to_price_off_lookup=True,\n",
    "            produce_separate_result_for_linear_otc_legs=False,\n",
    "            allow_partially_successful_evaluation=True\n",
    "        ),\n",
    "        model_rules=[\n",
    "            models.VendorModelRule(\n",
    "                supplier=\"Lusid\",\n",
    "                model_name=\"Discounting\",\n",
    "                instrument_type=\"Bond\",\n",
    "                parameters=\"{}\"\n",
    "            )\n",
    "        ],\n",
    "        result_data_rules=[accrual_key_rule]\n",
    "    )\n",
    "\n",
    "accrual_override_pricing_context = create_discounting_bond_pricing_context_with_accrual_override(accrual_key_rule)"
   ],
   "metadata": {
    "collapsed": false,
    "pycharm": {
     "name": "#%%\n"
    }
   }
  },
  {
   "cell_type": "markdown",
   "source": [
    "As we've updated the pricing context we need to generate a new recipe for our portfolio valuation :"
   ],
   "metadata": {
    "collapsed": false,
    "pycharm": {
     "name": "#%% md\n"
    }
   }
  },
  {
   "cell_type": "code",
   "execution_count": 147,
   "outputs": [
    {
     "name": "stdout",
     "output_type": "stream",
     "text": [
      "{'href': None,\n",
      " 'links': [{'description': 'A link to the LUSID Insights website showing all '\n",
      "                           'logs related to this request',\n",
      "            'href': 'http://khalid-local-dev.lusid.com/app/insights/logs/0HM0S5UECBBUE:00000002',\n",
      "            'method': 'GET',\n",
      "            'relation': 'RequestLogs'}],\n",
      " 'value': datetime.datetime(2020, 6, 29, 16, 0, 38, 782694, tzinfo=tzutc())}\n"
     ]
    }
   ],
   "source": [
    "\n",
    "def create_bond_pricing_recipe_with_accrual_override(scope, recipe_name, market_context, pricing_context):\n",
    "\n",
    "    discount_bond_pricing_config_recpie = models.ConfigurationRecipe(\n",
    "        scope=scope,\n",
    "        code=recipe_name,\n",
    "        description=\"Price bond using discounting model but override accurals\",\n",
    "        market=market_context,\n",
    "        pricing=pricing_context\n",
    "    )\n",
    "\n",
    "\n",
    "    #upsert the recipe\n",
    "    response = configuration_recipe_api.upsert_configuration_recipe(\n",
    "        upsert_recipe_request=models.UpsertRecipeRequest(configuration_recipe=discount_bond_pricing_config_recpie)\n",
    "    )\n",
    "\n",
    "    print(response)\n",
    "\n",
    "    return discount_bond_pricing_config_recpie\n",
    "\n",
    "accrual_override_recipe_name = \"test-discounting-bond-acc-override\"\n",
    "accrual_override_config_recipe = create_bond_pricing_recipe_with_accrual_override(scope, accrual_override_recipe_name, market_context, accrual_override_pricing_context)"
   ],
   "metadata": {
    "collapsed": false,
    "pycharm": {
     "name": "#%%\n"
    }
   }
  },
  {
   "cell_type": "markdown",
   "source": [
    "Let's rerun the portfolio aggregation but this time with our accrual override and compare the results to running without an override"
   ],
   "metadata": {
    "collapsed": false,
    "pycharm": {
     "name": "#%% md\n"
    }
   }
  },
  {
   "cell_type": "code",
   "execution_count": 148,
   "outputs": [
    {
     "name": "stdout",
     "output_type": "stream",
     "text": [
      "Bonds Holdings With Override (as at 2020-06-23 00:00:00+00:00) : 108710319.79728633\n",
      "Accrued Interest With Override (as at 2020-06-23 00:00:00+00:00) : 5183248.425\n",
      "Bonds Holdings No Override (as at 2020-06-23 00:00:00+00:00) : 103998646.71475208\n",
      "Accrued Interest No Override (as at 2020-06-23 00:00:00+00:00) : 471575.34246575343\n",
      "                                          Name              Effective At  \\\n",
      "0                 Portfolio PV (With Override) 2020-06-23 00:00:00+00:00   \n",
      "1  Portfolio Accrued Interest  (With Override) 2020-06-23 00:00:00+00:00   \n",
      "2                   Portfolio PV (No Override) 2020-06-23 00:00:00+00:00   \n",
      "3     Portfolio Accrued Interest (No Override) 2020-06-23 00:00:00+00:00   \n",
      "\n",
      "          Value  \n",
      "0  1.087103e+08  \n",
      "1  5.183248e+06  \n",
      "2  1.039986e+08  \n",
      "3  4.715753e+05  \n"
     ]
    }
   ],
   "source": [
    "# run the aggregation with overrie (using accrual override recipe)\n",
    "results_with_override = run_bond_pricing_aggregation_on_portfolio(scope, portfolio, accrual_override_recipe_name, effective_at)\n",
    "portfolio_pv_with_override = results_with_override.data[0]['Holding/default/PV']\n",
    "#print(f\"Bonds Holdings With Override (as at {effective_at}) : {portfolio_pv_with_override}\")\n",
    "accrued_interest_with_override = results_with_override.data[0]['Holding/default/Accrual']\n",
    "#print(f\"Accrued Interest With Override (as at {effective_at}) : {accrued_interest_with_override}\")\n",
    "\n",
    "# and now run without an override (using previously configured recipe).\n",
    "results_no_override = run_bond_pricing_aggregation_on_portfolio(scope, portfolio, discounting_bond_recipe_name, effective_at)\n",
    "portfolio_pv_no_override = results_no_override.data[0]['Holding/default/PV']\n",
    "#print(f\"Bonds Holdings No Override (as at {effective_at}) : {portfolio_pv_no_override}\")\n",
    "accrued_interest_no_override = results_no_override.data[0]['Holding/default/Accrual']\n",
    "#print(f\"Accrued Interest No Override (as at {effective_at}) : {accrued_interest_no_override}\")\n",
    "\n",
    "\n",
    "print(aggregation_result_to_dataframe([\n",
    "    ['Portfolio PV (With Override)', effective_at, portfolio_pv_with_override],\n",
    "    ['Portfolio Accrued Interest  (With Override)', effective_at, accrued_interest_with_override],\n",
    "    ['Portfolio PV (No Override)', effective_at, portfolio_pv_no_override],\n",
    "    ['Portfolio Accrued Interest (No Override)', effective_at, accrued_interest_no_override],\n",
    "]))"
   ],
   "metadata": {
    "collapsed": false,
    "pycharm": {
     "name": "#%%\n"
    }
   }
  },
  {
   "cell_type": "markdown",
   "source": [
    "## Bond Price Override\n",
    "\n",
    "Up until now we have priced our bond portfolio using LUSID's internal \"Discounting\" model. We'll now take a different approach and\n",
    "upsert the market price into LUSID as quote. Continuing with our previous example where we processed a transaction at a clean price of 1.37,\n",
    "now assume the market price of the bond has dropped to 1.35\n",
    "\n",
    "Let's firstly upsert the latest market price as a quote into LUSID ensuring we map it to our specific Gilt via the instrument identifier:"
   ],
   "metadata": {
    "collapsed": false,
    "pycharm": {
     "name": "#%% md\n"
    }
   }
  },
  {
   "cell_type": "code",
   "execution_count": 155,
   "outputs": [
    {
     "name": "stdout",
     "output_type": "stream",
     "text": [
      "{'failed': {},\n",
      " 'href': None,\n",
      " 'links': [{'description': 'A link to the LUSID Insights website showing all '\n",
      "                           'logs related to this request',\n",
      "            'href': 'http://khalid-local-dev.lusid.com/app/insights/logs/0HM0S5UCPLPU8:00000001',\n",
      "            'method': 'GET',\n",
      "            'relation': 'RequestLogs'}],\n",
      " 'values': {'1': {'as_at': datetime.datetime(2020, 6, 29, 16, 23, 3, 788406, tzinfo=tzutc()),\n",
      "                  'cut_label': '',\n",
      "                  'lineage': 'InternalSystem',\n",
      "                  'metric_value': {'unit': 'GBP', 'value': 1.35},\n",
      "                  'quote_id': {'effective_at': '2020-06-23T00:00:00.0000000+00:00',\n",
      "                               'quote_series_id': {'field': 'Mid',\n",
      "                                                   'instrument_id': 'LUID_I1RHNWII',\n",
      "                                                   'instrument_id_type': 'LusidInstrumentId',\n",
      "                                                   'price_source': None,\n",
      "                                                   'provider': 'Lusid',\n",
      "                                                   'quote_type': 'Price'}},\n",
      "                  'uploaded_by': '00u78w98jnujIujIc2p7'}}}\n"
     ]
    }
   ],
   "source": [
    "def upsert_external_bond_price_as_quote(bond_price):\n",
    "    spot_quote = models.UpsertQuoteRequest(\n",
    "        quote_id=models.QuoteId(\n",
    "            quote_series_id=models.QuoteSeriesId(\n",
    "                provider=market_supplier,\n",
    "                instrument_id=gilt_2047_LUID,\n",
    "                instrument_id_type='LusidInstrumentId',\n",
    "                quote_type='Price',\n",
    "                field='Mid'),\n",
    "            effective_at=effective_at,\n",
    "        ),\n",
    "        metric_value=models.MetricValue(\n",
    "            value=bond_price,\n",
    "            unit='GBP'),\n",
    "        #TODO describe lineage\n",
    "        lineage='InternalSystem')\n",
    "\n",
    "    response = api_factory.build(lusid.api.QuotesApi).upsert_quotes(\n",
    "        scope=market_data_scope,\n",
    "        request_body={\"1\": spot_quote})\n",
    "\n",
    "    print(response)\n",
    "\n",
    "upsert_external_bond_price_as_quote(1.35)"
   ],
   "metadata": {
    "collapsed": false,
    "pycharm": {
     "name": "#%%\n"
    }
   }
  },
  {
   "cell_type": "markdown",
   "source": [
    "As we now want to run a portfolio valuation using a different pricing model for Bonds we need a new recipe. Recall the two key components of the recipe\n",
    "are the MaketContext and PricingContext. As we now have a new source of Market data, the quote we've inserted, we need to inform LUSID of where to locate it\n",
    "during an aggregation. So in addition to the Rate rule we had in our precious MarketContext definition we add a new market rule for \"Price\":"
   ],
   "metadata": {
    "collapsed": false,
    "pycharm": {
     "name": "#%% md\n"
    }
   }
  },
  {
   "cell_type": "code",
   "execution_count": 152,
   "outputs": [],
   "source": [
    "def create_static_bond_pricing_market_context():\n",
    "    return models.MarketContext(\n",
    "        market_rules=[\n",
    "            models.MarketDataKeyRule(\n",
    "                key='Equity.LusidInstrumentId.*',\n",
    "                supplier=market_supplier,\n",
    "                data_scope=market_data_scope,\n",
    "                quote_type='Price',\n",
    "                field='Mid'),\n",
    "            models.MarketDataKeyRule(\n",
    "                key=\"Rates.*.*\",\n",
    "                data_scope=market_data_scope,\n",
    "                supplier=market_supplier,\n",
    "                quote_type='Rate',\n",
    "                field='Mid')\n",
    "        ],\n",
    "        options=models.MarketOptions(\n",
    "            default_supplier=market_supplier,\n",
    "            default_scope=market_data_scope,\n",
    "            manifest_level_of_detail=\"Full\")\n",
    "    )\n",
    "\n",
    "    return market_context\n",
    "\n",
    "static_bond_pricing_market_context = create_static_bond_pricing_market_context()"
   ],
   "metadata": {
    "collapsed": false,
    "pycharm": {
     "name": "#%%\n"
    }
   }
  },
  {
   "cell_type": "markdown",
   "source": [
    "And we need to tell LUSID that we would like to used the quoted price of the bond and not use\n",
    "the \"Discounting\" model. So we create a new PricingContext that uses a \"SimpleStatic\" model. To calculate PV of our bond\n",
    "this model simply retrieves the market price and then adds the accrued interest (which itself could either be calculated or loaded\n",
    "from the Structured Result Store as we covered earlier).\n"
   ],
   "metadata": {
    "collapsed": false,
    "pycharm": {
     "name": "#%% md\n"
    }
   }
  },
  {
   "cell_type": "code",
   "execution_count": 153,
   "outputs": [],
   "source": [
    "def create_static_bond_pricing_context():\n",
    "    return models.PricingContext(\n",
    "        options=models.PricingOptions(\n",
    "            allow_any_instruments_with_sec_uid_to_price_off_lookup=True,\n",
    "            produce_separate_result_for_linear_otc_legs=False,\n",
    "            allow_partially_successful_evaluation=True\n",
    "        ),\n",
    "        model_rules=[\n",
    "            models.VendorModelRule(\n",
    "                supplier=\"Lusid\",\n",
    "                model_name=\"SimpleStatic\",\n",
    "                instrument_type=\"Bond\",\n",
    "                parameters=\"{}\"\n",
    "            )\n",
    "        ]\n",
    "    )\n",
    "\n",
    "static_bond_pricing_context = create_static_bond_pricing_context()"
   ],
   "metadata": {
    "collapsed": false,
    "pycharm": {
     "name": "#%%\n"
    }
   }
  },
  {
   "cell_type": "markdown",
   "source": [
    "With our updated Market and Pricing Contexts we can now generate a new recipe:"
   ],
   "metadata": {
    "collapsed": false
   }
  },
  {
   "cell_type": "code",
   "execution_count": 154,
   "outputs": [
    {
     "name": "stdout",
     "output_type": "stream",
     "text": [
      "{'href': None,\n",
      " 'links': [{'description': 'A link to the LUSID Insights website showing all '\n",
      "                           'logs related to this request',\n",
      "            'href': 'http://khalid-local-dev.lusid.com/app/insights/logs/0HM0S5UGBFQCN:00000001',\n",
      "            'method': 'GET',\n",
      "            'relation': 'RequestLogs'}],\n",
      " 'value': datetime.datetime(2020, 6, 29, 16, 22, 32, 68298, tzinfo=tzutc())}\n"
     ]
    },
    {
     "data": {
      "text/plain": "{'aggregation': None,\n 'code': 'test-static-bond',\n 'description': 'Price bond using prices from the quote store.',\n 'inherited_recipes': None,\n 'market': {'market_rules': [{'as_at': None,\n                              'data_scope': 'FinbourneMarketData',\n                              'field': 'Mid',\n                              'key': 'Equity.LusidInstrumentId.*',\n                              'price_source': None,\n                              'quote_interval': None,\n                              'quote_type': 'Price',\n                              'supplier': 'Lusid'},\n                             {'as_at': None,\n                              'data_scope': 'FinbourneMarketData',\n                              'field': 'Mid',\n                              'key': 'Rates.*.*',\n                              'price_source': None,\n                              'quote_interval': None,\n                              'quote_type': 'Rate',\n                              'supplier': 'Lusid'}],\n            'options': {'attempt_to_infer_missing_fx': None,\n                        'default_instrument_code_type': None,\n                        'default_scope': 'FinbourneMarketData',\n                        'default_supplier': 'Lusid',\n                        'manifest_level_of_detail': 'Full'},\n            'suppliers': None},\n 'pricing': {'model_choice': None,\n             'model_rules': [{'instrument_type': 'Bond',\n                              'model_name': 'SimpleStatic',\n                              'parameters': '{}',\n                              'supplier': 'Lusid'}],\n             'options': {'allow_any_instruments_with_sec_uid_to_price_off_lookup': True,\n                         'allow_partially_successful_evaluation': True,\n                         'enable_use_of_cached_unit_results': None,\n                         'model_selection': None,\n                         'produce_separate_result_for_linear_otc_legs': False,\n                         'remove_contingent_cashflows_in_payment_diary': None,\n                         'use_child_sub_holding_keys_for_portfolio_expansion': None,\n                         'use_instrument_type_to_determine_pricer': None,\n                         'window_valuation_on_instrument_start_end': None},\n             'result_data_rules': None},\n 'scope': 'test-bond-pricing-nb'}"
     },
     "execution_count": 154,
     "metadata": {},
     "output_type": "execute_result"
    }
   ],
   "source": [
    "def create_static_bond_pricing_recipe(scope, recipe_name, market_context, pricing_context):\n",
    "\n",
    "    static_bond_price_recipe = models.ConfigurationRecipe(\n",
    "        scope=scope,\n",
    "        code=recipe_name,\n",
    "        description=\"Price bond using prices from the quote store.\",\n",
    "        market=market_context,\n",
    "        pricing=pricing_context\n",
    "    )\n",
    "\n",
    "\n",
    "    #upsert the recipe\n",
    "    response = configuration_recipe_api.upsert_configuration_recipe(\n",
    "        upsert_recipe_request=models.UpsertRecipeRequest(configuration_recipe=static_bond_price_recipe)\n",
    "    )\n",
    "\n",
    "    print(response)\n",
    "\n",
    "    return static_bond_price_recipe\n",
    "\n",
    "static_bond_price_recipe_name = \"test-static-bond\"\n",
    "create_static_bond_pricing_recipe(scope, static_bond_price_recipe_name, static_bond_pricing_market_context, static_bond_pricing_context)"
   ],
   "metadata": {
    "collapsed": false,
    "pycharm": {
     "name": "#%%\n"
    }
   }
  },
  {
   "cell_type": "markdown",
   "source": [
    "Let's rerun our portfolio valuation using our static bond price model and compare the results to the valuations using our discounting model:"
   ],
   "metadata": {
    "collapsed": false
   }
  },
  {
   "cell_type": "code",
   "execution_count": 156,
   "outputs": [
    {
     "name": "stdout",
     "output_type": "stream",
     "text": [
      "Bonds Holdings With Static Bond Price (as at 2020-06-23 00:00:00+00:00) : 101721575.34246576\n",
      "Accrued Interest With Static Bond Price (as at 2020-06-23 00:00:00+00:00) : 471575.34246575343\n",
      "Bonds Holdings Discounting Price (as at 2020-06-23 00:00:00+00:00) : 103998646.71475208\n",
      "Accrued Interest Discounting Price (as at 2020-06-23 00:00:00+00:00) : 471575.34246575343\n",
      "                                            Name              Effective At  \\\n",
      "0                    Portfolio PV (Static Model) 2020-06-23 00:00:00+00:00   \n",
      "1     Portfolio Accrued Interest  (Static Model) 2020-06-23 00:00:00+00:00   \n",
      "2               Portfolio PV (Discounting Model) 2020-06-23 00:00:00+00:00   \n",
      "3  Portfolio Accrued Interest (Discounting Mode) 2020-06-23 00:00:00+00:00   \n",
      "\n",
      "          Value  \n",
      "0  1.017216e+08  \n",
      "1  4.715753e+05  \n",
      "2  1.039986e+08  \n",
      "3  4.715753e+05  \n"
     ]
    }
   ],
   "source": [
    "results_using_static_price = run_bond_pricing_aggregation_on_portfolio(scope, portfolio, static_bond_price_recipe_name, effective_at)\n",
    "portfolio_pv_with_static_price = results_using_static_price.data[0]['Holding/default/PV']\n",
    "print(f\"Bonds Holdings With Static Bond Price (as at {effective_at}) : {portfolio_pv_with_static_price}\")\n",
    "accrued_interest_with_static_price = results_using_static_price.data[0]['Holding/default/Accrual']\n",
    "print(f\"Accrued Interest With Static Bond Price (as at {effective_at}) : {accrued_interest_with_static_price}\")\n",
    "\n",
    "results_using_discounting = run_bond_pricing_aggregation_on_portfolio(scope, portfolio, discounting_bond_recipe_name, effective_at)\n",
    "portfolio_pv_with_discounting = results_using_discounting.data[0]['Holding/default/PV']\n",
    "print(f\"Bonds Holdings Discounting Price (as at {effective_at}) : {portfolio_pv_with_discounting}\")\n",
    "accrued_interest_with_discounting = results_using_discounting.data[0]['Holding/default/Accrual']\n",
    "print(f\"Accrued Interest Discounting Price (as at {effective_at}) : {accrued_interest_with_discounting}\")\n",
    "\n",
    "print(aggregation_result_to_dataframe([\n",
    "    ['Portfolio PV (Static Model)', effective_at, portfolio_pv_with_static_price],\n",
    "    ['Portfolio Accrued Interest  (Static Model)', effective_at, accrued_interest_with_static_price],\n",
    "    ['Portfolio PV (Discounting Model)', effective_at, portfolio_pv_with_discounting],\n",
    "    ['Portfolio Accrued Interest (Discounting Mode)', effective_at, accrued_interest_with_discounting],\n",
    "]))"
   ],
   "metadata": {
    "collapsed": false,
    "pycharm": {
     "name": "#%%\n"
    }
   }
  },
  {
   "cell_type": "markdown",
   "source": [
    "Update the market price of the bond to 1.39"
   ],
   "metadata": {
    "collapsed": false,
    "pycharm": {
     "name": "#%% md\n"
    }
   }
  },
  {
   "cell_type": "code",
   "execution_count": 157,
   "outputs": [
    {
     "name": "stdout",
     "output_type": "stream",
     "text": [
      "{'failed': {},\n",
      " 'href': None,\n",
      " 'links': [{'description': 'A link to the LUSID Insights website showing all '\n",
      "                           'logs related to this request',\n",
      "            'href': 'http://khalid-local-dev.lusid.com/app/insights/logs/0HM0S5UGBFQE6:00000001',\n",
      "            'method': 'GET',\n",
      "            'relation': 'RequestLogs'}],\n",
      " 'values': {'1': {'as_at': datetime.datetime(2020, 6, 29, 16, 25, 46, 940956, tzinfo=tzutc()),\n",
      "                  'cut_label': '',\n",
      "                  'lineage': 'InternalSystem',\n",
      "                  'metric_value': {'unit': 'GBP', 'value': 1.39},\n",
      "                  'quote_id': {'effective_at': '2020-06-23T00:00:00.0000000+00:00',\n",
      "                               'quote_series_id': {'field': 'Mid',\n",
      "                                                   'instrument_id': 'LUID_I1RHNWII',\n",
      "                                                   'instrument_id_type': 'LusidInstrumentId',\n",
      "                                                   'price_source': None,\n",
      "                                                   'provider': 'Lusid',\n",
      "                                                   'quote_type': 'Price'}},\n",
      "                  'uploaded_by': '00u78w98jnujIujIc2p7'}}}\n",
      "Bonds Holdings With Static Bond Price (as at 2020-06-23 00:00:00+00:00) : 104721575.34246576\n",
      "Accrued Interest With Static Bond Price (as at 2020-06-23 00:00:00+00:00) : 471575.34246575343\n",
      "                                            Name              Effective At  \\\n",
      "0                    Portfolio PV (Static Model) 2020-06-23 00:00:00+00:00   \n",
      "1     Portfolio Accrued Interest  (Static Model) 2020-06-23 00:00:00+00:00   \n",
      "2               Portfolio PV (Discounting Model) 2020-06-23 00:00:00+00:00   \n",
      "3  Portfolio Accrued Interest (Discounting Mode) 2020-06-23 00:00:00+00:00   \n",
      "\n",
      "          Value  \n",
      "0  1.047216e+08  \n",
      "1  4.715753e+05  \n",
      "2  1.039986e+08  \n",
      "3  4.715753e+05  \n"
     ]
    }
   ],
   "source": [
    "upsert_external_bond_price_as_quote(1.39)\n",
    "\n",
    "results_using_static_price = run_bond_pricing_aggregation_on_portfolio(scope, portfolio, static_bond_price_recipe_name, effective_at)\n",
    "portfolio_pv_with_static_price = results_using_static_price.data[0]['Holding/default/PV']\n",
    "print(f\"Bonds Holdings With Static Bond Price (as at {effective_at}) : {portfolio_pv_with_static_price}\")\n",
    "accrued_interest_with_static_price = results_using_static_price.data[0]['Holding/default/Accrual']\n",
    "print(f\"Accrued Interest With Static Bond Price (as at {effective_at}) : {accrued_interest_with_static_price}\")\n",
    "\n",
    "print(aggregation_result_to_dataframe([\n",
    "    ['Portfolio PV (Static Model)', effective_at, portfolio_pv_with_static_price],\n",
    "    ['Portfolio Accrued Interest  (Static Model)', effective_at, accrued_interest_with_static_price],\n",
    "    ['Portfolio PV (Discounting Model)', effective_at, portfolio_pv_with_discounting],\n",
    "    ['Portfolio Accrued Interest (Discounting Mode)', effective_at, accrued_interest_with_discounting],\n",
    "]))"
   ],
   "metadata": {
    "collapsed": false,
    "pycharm": {
     "name": "#%%\n"
    }
   }
  },
  {
   "cell_type": "markdown",
   "source": [
    "Finally let's update the market price to equal the clean price as per the \"Discounting\" model. In this case we arrive at\n",
    "the same portfolio PV using two different Bond Pricing models"
   ],
   "metadata": {
    "collapsed": false,
    "pycharm": {
     "name": "#%% md\n"
    }
   }
  },
  {
   "cell_type": "code",
   "execution_count": 161,
   "outputs": [
    {
     "name": "stdout",
     "output_type": "stream",
     "text": [
      "{'failed': {},\n",
      " 'href': None,\n",
      " 'links': [{'description': 'A link to the LUSID Insights website showing all '\n",
      "                           'logs related to this request',\n",
      "            'href': 'http://khalid-local-dev.lusid.com/app/insights/logs/0HM0S5UECBCE5:00000001',\n",
      "            'method': 'GET',\n",
      "            'relation': 'RequestLogs'}],\n",
      " 'values': {'1': {'as_at': datetime.datetime(2020, 6, 29, 16, 32, 21, 406857, tzinfo=tzutc()),\n",
      "                  'cut_label': '',\n",
      "                  'lineage': 'InternalSystem',\n",
      "                  'metric_value': {'unit': 'GBP', 'value': 1.3803609516304842},\n",
      "                  'quote_id': {'effective_at': '2020-06-23T00:00:00.0000000+00:00',\n",
      "                               'quote_series_id': {'field': 'Mid',\n",
      "                                                   'instrument_id': 'LUID_I1RHNWII',\n",
      "                                                   'instrument_id_type': 'LusidInstrumentId',\n",
      "                                                   'price_source': None,\n",
      "                                                   'provider': 'Lusid',\n",
      "                                                   'quote_type': 'Price'}},\n",
      "                  'uploaded_by': '00u78w98jnujIujIc2p7'}}}\n",
      "Bonds Holdings With Static Bond Price (as at 2020-06-23 00:00:00+00:00) : 103998646.71475206\n",
      "Accrued Interest With Static Bond Price (as at 2020-06-23 00:00:00+00:00) : 471575.34246575343\n",
      "                                            Name              Effective At  \\\n",
      "0                    Portfolio PV (Static Model) 2020-06-23 00:00:00+00:00   \n",
      "1     Portfolio Accrued Interest  (Static Model) 2020-06-23 00:00:00+00:00   \n",
      "2               Portfolio PV (Discounting Model) 2020-06-23 00:00:00+00:00   \n",
      "3  Portfolio Accrued Interest (Discounting Mode) 2020-06-23 00:00:00+00:00   \n",
      "\n",
      "          Value  \n",
      "0  1.039986e+08  \n",
      "1  4.715753e+05  \n",
      "2  1.039986e+08  \n",
      "3  4.715753e+05  \n"
     ]
    }
   ],
   "source": [
    "# retrieve unit pv and accrued interest\n",
    "aggregation_result = run_bond_pricing_aggregation_and_accrued(bond_instrument_definition, discount_bond_pricing_config_recpie, effective_at)\n",
    "clean_as_per_disc_model = aggregation_result.data[0]['Holding/default/PV'] - aggregation_result.data[0]['Holding/default/Accrual']\n",
    "upsert_external_bond_price_as_quote(clean_as_per_disc_model)\n",
    "\n",
    "results_using_static_price = run_bond_pricing_aggregation_on_portfolio(scope, portfolio, static_bond_price_recipe_name, effective_at)\n",
    "portfolio_pv_with_static_price = results_using_static_price.data[0]['Holding/default/PV']\n",
    "#print(f\"Bonds Holdings With Static Bond Price (as at {effective_at}) : {portfolio_pv_with_static_price}\")\n",
    "accrued_interest_with_static_price = results_using_static_price.data[0]['Holding/default/Accrual']\n",
    "#print(f\"Accrued Interest With Static Bond Price (as at {effective_at}) : {accrued_interest_with_static_price}\")\n",
    "\n",
    "\n",
    "print(aggregation_result_to_dataframe([\n",
    "    ['Portfolio PV (Static Model)', effective_at, portfolio_pv_with_static_price],\n",
    "    ['Portfolio Accrued Interest  (Static Model)', effective_at, accrued_interest_with_static_price],\n",
    "    ['Portfolio PV (Discounting Model)', effective_at, portfolio_pv_with_discounting],\n",
    "    ['Portfolio Accrued Interest (Discounting Mode)', effective_at, accrued_interest_with_discounting],\n",
    "]))"
   ],
   "metadata": {
    "collapsed": false,
    "pycharm": {
     "name": "#%%\n"
    }
   }
  }
 ],
 "metadata": {
  "kernelspec": {
   "display_name": "Python 3",
   "language": "python",
   "name": "python3"
  },
  "language_info": {
   "codemirror_mode": {
    "name": "ipython",
    "version": 2
   },
   "file_extension": ".py",
   "mimetype": "text/x-python",
   "name": "python",
   "nbconvert_exporter": "python",
   "pygments_lexer": "ipython2",
   "version": "2.7.6"
  }
 },
 "nbformat": 4,
 "nbformat_minor": 0
}