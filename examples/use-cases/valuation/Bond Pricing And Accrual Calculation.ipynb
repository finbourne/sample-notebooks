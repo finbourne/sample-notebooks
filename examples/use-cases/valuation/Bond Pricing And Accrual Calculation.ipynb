{
 "cells": [
  {
   "cell_type": "markdown",
   "metadata": {
    "collapsed": true,
    "pycharm": {
     "name": "#%% md\n"
    }
   },
   "source": [
    "# (WIP) Bond Pricing And Accrual Calculation\n",
    "\n",
    "This notebook will run through the following business use cases :\n",
    "* Pricing a Bond using the built-in discounting LUSID model fed with a user supplied OIS yield curve.\n",
    "* Calculating the accrued interest between coupon dates based on user defined Bond instrument parameters such as the day count convention.\n",
    "* Overriding the calculated accrued interest with user provided value and feeding it in to our Bond valuation.\n",
    "* <REMOVE - awaiting change. right now feeding in face value makes no real sense> Retrieving Bond PV that has been provided to LUSID (e.g. from a market price source). <>\n",
    "\n",
    "In doing so we'll cover the following LUSID concepts :\n",
    "* Defining a LUSID internal representation of a Bond instrument based on user provided parameters.\n",
    "* Using the StructureMarketData store to hold your OIS yield curve data in way that enables it to be discovered during the Bond valuation process.\n",
    "* Configuring recipes to run built in LUSID Bond valuation models that make use of the structured data (OIS Yield Curve) you provided.\n",
    "* Using aggregation requests to return the accrued interest as well as the PV of the Bond based on our instrument definition.\n",
    "* Using the StructuredResultData store to override the accrued interest calculation and instead use supplied static values.\n",
    "* Updating our recipes to make use of the StructuredResultData entries in your valuations as oppose to calculating.\n",
    "* <REMOVE - as above >Upserting Bond market prices as quotes and configuring recipes that value bonds by simply using the quotes.\n",
    "\n",
    "For this notebook example we'll work with an example Gilt 1.5% 47s:\n",
    "* Coupon Rate : 1.5%\n",
    "* Maturity Date: 22 Jul 2047\n",
    "* Issue Date: 21 Sep 2016\n",
    "* Coupon Dates : 22 Jan, 22 Jun\n",
    "* Face Value : £75,000,000"
   ]
  },
  {
   "cell_type": "markdown",
   "source": [
    "## Setup LUSID"
   ],
   "metadata": {
    "collapsed": false,
    "pycharm": {
     "name": "#%% md\n"
    }
   }
  },
  {
   "cell_type": "code",
   "execution_count": 42,
   "outputs": [
    {
     "name": "stdout",
     "output_type": "stream",
     "text": [
      "LUSID Environment Initialised\n",
      "LUSID SDK Version:  0.6.4688.0\n"
     ]
    }
   ],
   "source": [
    "import os\n",
    "from datetime import datetime, timedelta\n",
    "\n",
    "import lusid\n",
    "import pandas as pd\n",
    "import pytz\n",
    "from lusid import models\n",
    "from lusid.utilities import ApiClientFactory\n",
    "from lusidjam import RefreshingToken\n",
    "\n",
    "\n",
    "# Authenticate our user and create our API client\n",
    "from lusidtools.cocoon import load_from_data_frame\n",
    "secrets_path = os.getenv(\"FBN_SECRETS_PATH\")\n",
    "\n",
    "# Initiate an API Factory which is the client side object for interacting with LUSID APIs\n",
    "api_factory = lusid.utilities.ApiClientFactory(\n",
    "    token=RefreshingToken(),\n",
    "    api_secrets_filename=secrets_path,\n",
    "    app_name=\"LusidJupyterNotebook\",\n",
    ")\n",
    "\n",
    "print ('LUSID Environment Initialised')\n",
    "print ('LUSID SDK Version: ', api_factory.build(lusid.api.ApplicationMetadataApi).get_lusid_versions().build_version)\n",
    "\n",
    "# setup the apis we'll use in this notebook:\n",
    "instruments_api = api_factory.build(lusid.api.InstrumentsApi)\n",
    "configuration_recipe_api = api_factory.build(lusid.api.ConfigurationRecipeApi)\n",
    "structured_market_data_api = api_factory.build(lusid.api.StructuredMarketDataApi)\n",
    "structured_result_data_api = api_factory.build(lusid.api.StructuredResultDataApi)"
   ],
   "metadata": {
    "collapsed": false,
    "pycharm": {
     "name": "#%%\n"
    }
   }
  },
  {
   "cell_type": "markdown",
   "source": [
    "## Test Data Setup\n",
    "\n",
    "Before we get started let's first setup our test environment data. We'll setup a specific scope for this notebook only\n",
    "work with a simple transaction portfolio in that scope."
   ],
   "metadata": {
    "collapsed": false,
    "pycharm": {
     "name": "#%% md\n"
    }
   }
  },
  {
   "cell_type": "code",
   "execution_count": 9,
   "outputs": [
    {
     "name": "stdout",
     "output_type": "stream",
     "text": [
      "{'portfolios': {'errors': [], 'success': [{'base_currency': 'GBP',\n",
      " 'created': datetime.datetime(2020, 1, 1, 0, 0, tzinfo=tzutc()),\n",
      " 'description': None,\n",
      " 'display_name': 'single-bond-portfolio-01',\n",
      " 'href': 'https://khalid-local-dev.lusid.com/api/api/portfolios/test-bond-pricing-nb/single-bond-portfolio-01?effectiveAt=2020-06-26T13%3A11%3A26.6120950%2B00%3A00&asAt=2020-06-26T13%3A11%3A26.2664920%2B00%3A00',\n",
      " 'id': {'code': 'single-bond-portfolio-01', 'scope': 'test-bond-pricing-nb'},\n",
      " 'is_derived': False,\n",
      " 'links': [{'description': None,\n",
      "            'href': 'https://khalid-local-dev.lusid.com/api/api/portfolios/test-bond-pricing-nb/single-bond-portfolio-01/properties?effectiveAt=2020-06-26T13%3A11%3A26.6120950%2B00%3A00&asAt=2020-06-26T13%3A11%3A26.2664920%2B00%3A00',\n",
      "            'method': 'GET',\n",
      "            'relation': 'Properties'},\n",
      "           {'description': None,\n",
      "            'href': 'https://khalid-local-dev.lusid.com/api/api/portfolios/test-bond-pricing-nb/single-bond-portfolio-01/commands?toAsAt=2020-06-26T13%3A11%3A26.2664920%2B00%3A00',\n",
      "            'method': 'GET',\n",
      "            'relation': 'Commands'},\n",
      "           {'description': None,\n",
      "            'href': 'https://khalid-local-dev.lusid.com/api/api/transactionportfolios/test-bond-pricing-nb/single-bond-portfolio-01/details?effectiveAt=2020-06-26T13%3A11%3A26.6120950%2B00%3A00&asAt=2020-06-26T13%3A11%3A26.2664920%2B00%3A00',\n",
      "            'method': 'GET',\n",
      "            'relation': 'Details'},\n",
      "           {'description': None,\n",
      "            'href': 'https://khalid-local-dev.lusid.com/api/api/transactionportfolios/test-bond-pricing-nb/single-bond-portfolio-01/transactions?effectiveAt=2020-06-26T13%3A11%3A26.6120950%2B00%3A00&asAt=2020-06-26T13%3A11%3A26.2664920%2B00%3A00',\n",
      "            'method': 'GET',\n",
      "            'relation': 'Transactions'},\n",
      "           {'description': None,\n",
      "            'href': 'https://khalid-local-dev.lusid.com/api/api/transactionportfolios/test-bond-pricing-nb/single-bond-portfolio-01/holdings?effectiveAt=2020-06-26T13%3A11%3A26.6120950%2B00%3A00&asAt=2020-06-26T13%3A11%3A26.2664920%2B00%3A00',\n",
      "            'method': 'GET',\n",
      "            'relation': 'Holdings'},\n",
      "           {'description': None,\n",
      "            'href': 'https://khalid-local-dev.lusid.com/api/api/transactionportfolios/test-bond-pricing-nb/single-bond-portfolio-01/holdingsadjustments/2020-06-26T13%3A11%3A26.6120950%2B00%3A00?asAt=2020-06-26T13%3A11%3A26.2664920%2B00%3A00',\n",
      "            'method': 'GET',\n",
      "            'relation': 'HoldingsAdjustments'},\n",
      "           {'description': None,\n",
      "            'href': 'https://khalid-local-dev.lusid.com/api/api/schemas/entities/Portfolio',\n",
      "            'method': 'GET',\n",
      "            'relation': 'EntitySchema'},\n",
      "           {'description': 'A link to the LUSID Insights website showing all '\n",
      "                           'logs related to this request',\n",
      "            'href': 'http://khalid-local-dev.lusid.com/app/insights/logs/0HM0POAOE7SNU:00000002',\n",
      "            'method': 'GET',\n",
      "            'relation': 'RequestLogs'}],\n",
      " 'parent_portfolio_id': None,\n",
      " 'properties': {},\n",
      " 'type': 'Transaction',\n",
      " 'version': {'as_at_date': datetime.datetime(2020, 6, 26, 13, 11, 26, 266492, tzinfo=tzutc()),\n",
      "             'effective_from': datetime.datetime(2020, 6, 26, 13, 11, 26, 612095, tzinfo=tzutc())}}]}}\n"
     ]
    }
   ],
   "source": [
    "scope = \"test-bond-pricing-nb\"\n",
    "portfolio = \"single-bond-portfolio-01\"\n",
    "\n",
    "def create_portfolio(scope, portfolio_code, portfolio_name, portfolio_ccy):\n",
    "    pfs = [[portfolio_code, portfolio_name, portfolio_ccy]]\n",
    "    pf_df = pd.DataFrame(pfs, columns=['portfolio_code', 'portfolio_name', 'base_currency'])\n",
    "\n",
    "    portfolio_mapping = {\n",
    "        \"required\": {\n",
    "            \"code\": \"portfolio_code\",\n",
    "            \"display_name\": \"portfolio_name\",\n",
    "            \"base_currency\": \"base_currency\",\n",
    "        },\n",
    "        \"optional\": {\"created\": \"$2020-01-01T00:00:00+00:00\"},\n",
    "    }\n",
    "    result = load_from_data_frame(\n",
    "        api_factory=api_factory,\n",
    "        scope=scope,\n",
    "        data_frame=pf_df,\n",
    "        mapping_required=portfolio_mapping[\"required\"],\n",
    "        mapping_optional=portfolio_mapping[\"optional\"],\n",
    "        file_type=\"portfolios\",\n",
    "        sub_holding_keys=[],\n",
    "    )\n",
    "    print(result)\n",
    "\n",
    "create_portfolio(scope, portfolio, portfolio, \"GBP\")"
   ],
   "metadata": {
    "collapsed": false,
    "pycharm": {
     "name": "#%%\n"
    }
   }
  },
  {
   "cell_type": "markdown",
   "source": [
    "## Define our Gilt as a Bond Instrument in LUSID\n",
    "\n",
    "Let's start by defining our Bond instrument in LUSID via the BondInstrument class in the models of the SDKs. Take a look\n",
    "in the models package for other instruments currently supported (or see the [BondInstrument Specification](https://www.lusid.com/api/swagger/index.html#model-BondInstrument)).\n",
    "\n",
    "Start by initialising the basic bond parameters for our Gilt:"
   ],
   "metadata": {
    "collapsed": false,
    "pycharm": {
     "name": "#%% md\n"
    }
   }
  },
  {
   "cell_type": "code",
   "execution_count": 11,
   "outputs": [],
   "source": [
    "coupon_rate = 0.015\n",
    "start_date = datetime(2016, 9, 21, tzinfo=pytz.utc)\n",
    "maturity_date = datetime(2047, 7, 22, tzinfo=pytz.utc)\n",
    "dom_ccy = \"GBP\"\n",
    "face_value = 75000000\n",
    "\n",
    "# we will experiment with effective_at data further in notebook when working with accruals between coupon payments.\n",
    "trade_date = datetime(2020, 6, 22, tzinfo=pytz.utc)\n",
    "effective_at = datetime(2020, 6, 23, tzinfo=pytz.utc)"
   ],
   "metadata": {
    "collapsed": false,
    "pycharm": {
     "name": "#%%\n"
    }
   }
  },
  {
   "cell_type": "markdown",
   "source": [
    "Let's now move onto describing the conventions our bond instrument follows. Specifically we'll set the behaviour of\n",
    "our cash flows date schedule which includes setting the day count convention for calculating accrued interest and\n",
    "handling cash flows landing on non business days.\n",
    "\n",
    "All this is behaviour is described  in a FlowConventions object:"
   ],
   "metadata": {
    "collapsed": false,
    "pycharm": {
     "name": "#%% md\n"
    }
   }
  },
  {
   "cell_type": "code",
   "execution_count": 12,
   "outputs": [],
   "source": [
    "gilt_flow_conventions = models.FlowConventions(\n",
    "        # coupon payment currency\n",
    "        currency=\"GBP\",\n",
    "        # semi-annual coupon payments\n",
    "        payment_frequency=models.Tenor(value=6, unit=\"M\"),\n",
    "        # using an Actual/365 day count convention (other options : Act360, ActAct, ...\n",
    "        day_count_convention=\"Act365\",\n",
    "        # modified following rolling convention (other options : ModifiedPrevious, NoAdjustment, EndOfMonth,...)\n",
    "        roll_convention=\"ModifiedFollowing\",\n",
    "        # no holiday calendar supplied\n",
    "        holiday_calendars=[]\n",
    "    )"
   ],
   "metadata": {
    "collapsed": false,
    "pycharm": {
     "name": "#%%\n"
    }
   }
  },
  {
   "cell_type": "markdown",
   "source": [
    "For details on supported tenors, day count and roll conventions see the [BondInstrument Specification](https://www.lusid.com/api/swagger/index.html#model-BondInstrument).\n",
    "\n",
    "We now have all we need to describe our Gilt as a LUSID instrument:"
   ],
   "metadata": {
    "collapsed": false,
    "pycharm": {
     "name": "#%% md\n"
    }
   }
  },
  {
   "cell_type": "code",
   "execution_count": 13,
   "outputs": [
    {
     "name": "stdout",
     "output_type": "stream",
     "text": [
      "{'coupon_rate': 0.015,\n",
      " 'dom_ccy': 'GBP',\n",
      " 'flow_conventions': {'currency': 'GBP',\n",
      "                      'day_count_convention': 'Act365',\n",
      "                      'holiday_calendars': [],\n",
      "                      'payment_frequency': {'unit': 'M', 'value': 6},\n",
      "                      'roll_convention': 'ModifiedFollowing'},\n",
      " 'identifiers': None,\n",
      " 'instrument_type': 'Bond',\n",
      " 'maturity_date': '2047-07-22T00:00:00+00:00',\n",
      " 'principal': 75000000,\n",
      " 'start_date': '2016-09-21T00:00:00+00:00'}\n"
     ]
    }
   ],
   "source": [
    "def create_bond_instrument_definition(start_date, maturity_date, dom_ccy, coupon_rate, face_value, flow_conventions):\n",
    "    instrument = models.BondInstrument(\n",
    "        start_date=start_date.isoformat(),\n",
    "        maturity_date=maturity_date.isoformat(),\n",
    "        dom_ccy=dom_ccy,\n",
    "        coupon_rate=coupon_rate,\n",
    "        principal=face_value,\n",
    "        flow_conventions=flow_conventions,\n",
    "        instrument_type=\"Bond\"\n",
    "    )\n",
    "    return instrument\n",
    "\n",
    "bond_instrument_definition = create_bond_instrument_definition(start_date, maturity_date, dom_ccy, coupon_rate, face_value, gilt_flow_conventions)\n",
    "print(bond_instrument_definition)"
   ],
   "metadata": {
    "collapsed": false,
    "pycharm": {
     "name": "#%%\n"
    }
   }
  },
  {
   "cell_type": "markdown",
   "source": [
    "Let's use our Bond instrument definition to create an instance of our Gilt 1.5% 47 and upsert it as an instrument into LUSID."
   ],
   "metadata": {
    "collapsed": false
   }
  },
  {
   "cell_type": "code",
   "execution_count": 15,
   "outputs": [
    {
     "name": "stdout",
     "output_type": "stream",
     "text": [
      "{'failed': {},\n",
      " 'href': None,\n",
      " 'links': [{'description': None,\n",
      "            'href': 'https://khalid-local-dev.lusid.com/api/api/schemas/entities/UpsertInstrumentsResponse',\n",
      "            'method': 'GET',\n",
      "            'relation': 'EntitySchema'},\n",
      "           {'description': 'A link to the LUSID Insights website showing all '\n",
      "                           'logs related to this request',\n",
      "            'href': 'http://khalid-local-dev.lusid.com/app/insights/logs/0HM0POAKOJLLH:00000002',\n",
      "            'method': 'GET',\n",
      "            'relation': 'RequestLogs'}],\n",
      " 'values': {'gilt2047s': {'href': 'https://khalid-local-dev.lusid.com/api/api/instruments/LusidInstrumentId/LUID_I1RHNWII',\n",
      "                          'identifiers': {'ClientInternal': 'gilt2047s',\n",
      "                                          'LusidInstrumentId': 'LUID_I1RHNWII'},\n",
      "                          'instrument_definition': {'content': '{\\n'\n",
      "                                                               '  \"startDate\": '\n",
      "                                                               '\"2016-09-21T00:00:00+00:00\",\\n'\n",
      "                                                               '  '\n",
      "                                                               '\"maturityDate\": '\n",
      "                                                               '\"2047-07-22T00:00:00+00:00\",\\n'\n",
      "                                                               '  \"domCcy\": '\n",
      "                                                               '\"GBP\",\\n'\n",
      "                                                               '  '\n",
      "                                                               '\"couponRate\": '\n",
      "                                                               '0.015,\\n'\n",
      "                                                               '  \"principal\": '\n",
      "                                                               '75000000.0,\\n'\n",
      "                                                               '  '\n",
      "                                                               '\"flowConventions\": '\n",
      "                                                               '{\\n'\n",
      "                                                               '    '\n",
      "                                                               '\"currency\": '\n",
      "                                                               '\"GBP\",\\n'\n",
      "                                                               '    '\n",
      "                                                               '\"paymentFrequency\": '\n",
      "                                                               '{\\n'\n",
      "                                                               '      \"value\": '\n",
      "                                                               '6.0,\\n'\n",
      "                                                               '      \"unit\": '\n",
      "                                                               '4\\n'\n",
      "                                                               '    },\\n'\n",
      "                                                               '    '\n",
      "                                                               '\"dayCountConvention\": '\n",
      "                                                               '1,\\n'\n",
      "                                                               '    '\n",
      "                                                               '\"rollConvention\": '\n",
      "                                                               '4,\\n'\n",
      "                                                               '    '\n",
      "                                                               '\"holidayCalendars\": '\n",
      "                                                               '[]\\n'\n",
      "                                                               '  },\\n'\n",
      "                                                               '  '\n",
      "                                                               '\"identifiers\": '\n",
      "                                                               '{},\\n'\n",
      "                                                               '  '\n",
      "                                                               '\"instrumentType\": '\n",
      "                                                               '\"Bond\"\\n'\n",
      "                                                               '}',\n",
      "                                                    'instrument_format': 'Lusid'},\n",
      "                          'links': None,\n",
      "                          'lookthrough_portfolio': None,\n",
      "                          'lusid_instrument_id': 'LUID_I1RHNWII',\n",
      "                          'name': 'gilt 1.5% 47s',\n",
      "                          'properties': [],\n",
      "                          'state': 'Active',\n",
      "                          'version': {'as_at_date': datetime.datetime(2020, 6, 25, 10, 35, 52, 437119, tzinfo=tzutc()),\n",
      "                                      'effective_from': datetime.datetime(1, 1, 1, 0, 0, tzinfo=tzutc())}}}}\n"
     ]
    }
   ],
   "source": [
    "def upsert_bond_instrument(instrument_id, instrument_name, instrument_definition):\n",
    "    bond_instrument_request = {instrument_id: models.LusidInstrumentDefinition(\n",
    "        name=instrument_name,\n",
    "        identifiers={\"ClientInternal\": models.InstrumentIdValue(instrument_id)},\n",
    "        definition=instrument_definition\n",
    "    )}\n",
    "    # Using upsert_lusid_instrument and not upset_instrument as we're creating an instrument based\n",
    "    # on a user defined instrument definition.\n",
    "    response = instruments_api.upsert_lusid_instruments(bond_instrument_request)\n",
    "    print(response)\n",
    "    return response\n",
    "\n",
    "response = upsert_bond_instrument(\"gilt2047s\", \"gilt 1.5% 47s\", bond_instrument_definition)\n",
    "\n",
    "# retrieve the instrument id of our upserted gilt to be used later in the notebook\n",
    "gilt_2047_LUID = response.values['gilt2047s'].lusid_instrument_id"
   ],
   "metadata": {
    "collapsed": false,
    "pycharm": {
     "name": "#%%\n"
    }
   }
  },
  {
   "cell_type": "markdown",
   "source": [
    "Before moving on to valuing our bond let's first open a position in the Gilt by supplying LUSID with a transaction for\n",
    "a single bond assuming the price was at Par:"
   ],
   "metadata": {
    "collapsed": false,
    "pycharm": {
     "name": "#%% md\n"
    }
   }
  },
  {
   "cell_type": "code",
   "execution_count": 16,
   "outputs": [
    {
     "name": "stdout",
     "output_type": "stream",
     "text": [
      "{'href': 'https://khalid-local-dev.lusid.com/api/api/transactionportfolios/test-bond-pricing-nb/single-bond-portfolio-01/transactions?asAt=2020-06-26T13%3A17%3A56.8126900%2B00%3A00',\n",
      " 'links': [{'description': None,\n",
      "            'href': 'https://khalid-local-dev.lusid.com/api/api/portfolios/test-bond-pricing-nb/single-bond-portfolio-01?effectiveAt=2020-06-22T00%3A00%3A00.0000000%2B00%3A00&asAt=2020-06-26T13%3A17%3A56.8126900%2B00%3A00',\n",
      "            'method': 'GET',\n",
      "            'relation': 'Root'},\n",
      "           {'description': None,\n",
      "            'href': 'https://khalid-local-dev.lusid.com/api/api/schemas/entities/UpsertPortfolioTransactionsResponse',\n",
      "            'method': 'GET',\n",
      "            'relation': 'EntitySchema'},\n",
      "           {'description': 'A link to the LUSID Insights website showing all '\n",
      "                           'logs related to this request',\n",
      "            'href': 'http://khalid-local-dev.lusid.com/app/insights/logs/0HM0POAKEHJVC:00000001',\n",
      "            'method': 'GET',\n",
      "            'relation': 'RequestLogs'}],\n",
      " 'version': {'as_at_date': datetime.datetime(2020, 6, 26, 13, 17, 56, 812690, tzinfo=tzutc()),\n",
      "             'effective_from': datetime.datetime(2020, 6, 22, 0, 0, tzinfo=tzutc())}}\n"
     ]
    }
   ],
   "source": [
    "def upsert_buy_transaction(scope, txn_id, instrument_id, trade_date, effective_at, portfolio):\n",
    "    gilt_transaction_request = models.TransactionRequest(\n",
    "        transaction_id=txn_id,\n",
    "        type=\"Buy\",\n",
    "        instrument_identifiers={\"Instrument/default/ClientInternal\": instrument_id},\n",
    "        transaction_date=trade_date.isoformat(),\n",
    "        settlement_date=effective_at.isoformat(),\n",
    "        units=1,\n",
    "        transaction_price=models.TransactionPrice(price=75000000, type=\"Price\"),\n",
    "        total_consideration=models.CurrencyAndAmount(amount=75000000, currency=\"GBP\"),\n",
    "        exchange_rate=1,\n",
    "        transaction_currency=\"GBP\"\n",
    "    )\n",
    "\n",
    "    response = api_factory.build(lusid.api.TransactionPortfoliosApi).upsert_transactions(scope=scope,\n",
    "                                                                                         code=portfolio,\n",
    "                                                                                         transaction_request=[gilt_transaction_request])\n",
    "    print(response)\n",
    "\n",
    "upsert_buy_transaction(scope, \"GiltTXN001\", \"gilt2047s\", trade_date, effective_at, portfolio)"
   ],
   "metadata": {
    "collapsed": false,
    "pycharm": {
     "name": "#%%\n"
    }
   }
  },
  {
   "cell_type": "markdown",
   "source": [
    "## Defining the Bond valuation\n",
    "\n",
    "Now that we have our Bond instrument defined and upserted into LUSID we can move onto preparing to execute aggregations\n",
    "in LUSID to value our Bond holdings.\n",
    "\n",
    "Aggregations are configured in LUSID through the use of [Recipes](\"https://support.finbourne.com/what-is-a-lusid-recipe-and-how-is-it-used\") which allow you to configure behaviour. Examples of the type\n",
    "of configurations include sources market data for specific asset classes, which pricing models to use and where to locate static values that may\n",
    "be used in calculations.\n",
    "\n",
    "We'll start with a recipe that simply informs the aggregation engine of which model to use price our Bond. In this notebook\n",
    "we'll use LUSID's built-in \"Discounting\" model that prices our bond using an OIS yield curve. But before we run our valuation\n",
    "we need to supply our yield curve.\n",
    "\n",
    "\n",
    "### Structured Market Data\n",
    "\n",
    "[Structured market data](\"https://support.finbourne.com/how-do-i-store-and-tr\") expands on the simple uploading of market\n",
    "quotes by allowing you to supply more complex market data into LUSID in a format it can understand.\n",
    "\n",
    "In the case of our gilt we would like to price it using an OIS yield curve. The source file is in the 'data/GBPOIS50.json' and\n",
    "consists of a set of discount factors across the maturities of the OIS term structure. While we've hardcoded the rates\n",
    "in this example LUSID also supports supplying instrument ids or RICs.\n",
    "\n",
    "<Speak Rz> As well as providing discount factors LUSID also supports forward rate agreements and Swap factors\n",
    "\n",
    "Let's now load in the yield curves:"
   ],
   "metadata": {
    "collapsed": false,
    "pycharm": {
     "name": "#%% md\n"
    }
   }
  },
  {
   "cell_type": "code",
   "execution_count": 17,
   "outputs": [
    {
     "name": "stdout",
     "output_type": "stream",
     "text": [
      "{'failed': {},\n",
      " 'href': None,\n",
      " 'links': [{'description': 'A link to the LUSID Insights website showing all '\n",
      "                           'logs related to this request',\n",
      "            'href': 'http://khalid-local-dev.lusid.com/app/insights/logs/0HM0POASAC3DH:00000001',\n",
      "            'method': 'GET',\n",
      "            'relation': 'RequestLogs'}],\n",
      " 'values': {'GBP': datetime.datetime(2020, 6, 26, 13, 18, 55, 731562, tzinfo=tzutc())}}\n",
      "{'failed': {},\n",
      " 'href': None,\n",
      " 'links': [{'description': 'A link to the LUSID Insights website showing all '\n",
      "                           'logs related to this request',\n",
      "            'href': 'http://khalid-local-dev.lusid.com/app/insights/logs/0HM0POAKEHJVC:00000003',\n",
      "            'method': 'GET',\n",
      "            'relation': 'RequestLogs'}],\n",
      " 'values': {'GBP': datetime.datetime(2020, 6, 26, 13, 18, 56, 243931, tzinfo=tzutc())}}\n"
     ]
    }
   ],
   "source": [
    "# TODO expand as to why this different from other scope\n",
    "marketDataScope = \"FinbourneMarketData\"\n",
    "#\n",
    "marketSupplier = 'Lusid'\n",
    "\n",
    "def upsert_ois_yield_curve(ois_curve_json, scope, effective_at, market_asset, ccy):\n",
    "\n",
    "    ## TODO clean up and elaborate as this currently too messy\n",
    "    ## a lot going on here we need to describe\n",
    "\n",
    "    # create request\n",
    "    structuredDoc = models.StructuredMarketData(document_format=\"Json\", version=\"1.0.0\",\n",
    "                                                name=\"DFEUROISCurve\", document=ois_curve_json)\n",
    "    structuredId = models.StructuredMarketDataId(provider=\"Lusid\",price_source=None,\n",
    "                                                 lineage=\"MyDemoData\", effective_at=effective_at,\n",
    "                                                 market_element_type=\"ZeroCurve\",\n",
    "                                                 market_asset=market_asset)\n",
    "    smdRequest = models.UpsertStructuredMarketDataRequest(market_data_id=structuredId,\n",
    "                                                          market_data=structuredDoc)\n",
    "\n",
    "    response = structured_market_data_api.upsert_structured_market_data(\n",
    "        scope=scope,\n",
    "        request_body={ccy : smdRequest}\n",
    "    )\n",
    "    print(response)\n",
    "\n",
    "def load_ois_curve_json():\n",
    "    with open('data/GBPOIS50.json', \"r\") as myfile:\n",
    "        return myfile.read()\n",
    "\n",
    "ois_curve_json = load_ois_curve_json()\n",
    "upsert_ois_yield_curve(ois_curve_json, marketDataScope, effective_at, \"GBP/GBPOIS\", \"GBP\")\n",
    "upsert_ois_yield_curve(ois_curve_json, marketDataScope, effective_at, \"GBP/6M\", \"GBP\")"
   ],
   "metadata": {
    "collapsed": false,
    "pycharm": {
     "name": "#%%\n"
    }
   }
  },
  {
   "cell_type": "markdown",
   "source": [
    "### What Bond Pricing Model To Use?\n",
    "With our yield curve loaded in and our holding in the bond ready. We're almost ready to run our valuation. We just need to\n",
    "give LUSID a couple of key instructions to be able to value our bond holding - What Bond pricing model to use? And where\n",
    "should the aggregatoin engine source it's market data to execute the model? To do so we'll create a simple recipe that\n",
    "will instruct the LUSID aggregation engine to use the in built LUSID \"Discounting\" model.\n",
    "\n",
    "The PricingContext is used to select the pricing model as well offering the options of additional parameters that configure the\n",
    "model behaviour. See the [Swagger spec](\"https://www.lusid.com/api/swagger/index.html#model-PricingContext\") for more details."
   ],
   "metadata": {
    "collapsed": false,
    "pycharm": {
     "name": "#%% md\n"
    }
   }
  },
  {
   "cell_type": "code",
   "execution_count": 18,
   "outputs": [],
   "source": [
    "#TODO explain more of these arguments\n",
    "\n",
    "def create_discounting_bond_pricing_context():\n",
    "    return models.PricingContext(\n",
    "        options=models.PricingOptions(\n",
    "            allow_any_instruments_with_sec_uid_to_price_off_lookup=True,\n",
    "            produce_separate_result_for_linear_otc_legs=False,\n",
    "            allow_partially_successful_evaluation=True\n",
    "        ),\n",
    "        model_rules=[\n",
    "            models.VendorModelRule(\n",
    "                supplier=\"Lusid\",\n",
    "                model_name=\"Discounting\",\n",
    "                instrument_type=\"Bond\",\n",
    "                parameters=\"{}\"\n",
    "            )\n",
    "        ]\n",
    "    )\n",
    "\n",
    "pricing_context = create_discounting_bond_pricing_context()"
   ],
   "metadata": {
    "collapsed": false,
    "pycharm": {
     "name": "#%%\n"
    }
   }
  },
  {
   "cell_type": "markdown",
   "source": [
    "### What Market Data Should the Model Use?\n",
    "\n",
    "The MarketContext is how we inform LUSID where to retrieve market data for a given aggregatoin. In our case we need to\n",
    "tell LUSID where our OIS yield curve was stored (the market_data_scope and supplier). See the [Swagger spec](\"https://www.lusid.com/api/swagger/index.html#model-MarketContext\")\n",
    "for more details."
   ],
   "metadata": {
    "collapsed": false,
    "pycharm": {
     "name": "#%% md\n"
    }
   }
  },
  {
   "cell_type": "code",
   "execution_count": 30,
   "outputs": [],
   "source": [
    "def create_market_context():\n",
    "    return models.MarketContext(\n",
    "        market_rules=[\n",
    "            models.MarketDataKeyRule(\n",
    "                key=\"Rates.*.*\",\n",
    "                data_scope=marketDataScope,\n",
    "                supplier=marketSupplier,\n",
    "                quote_type='Rate',\n",
    "                field='Mid')\n",
    "        ],\n",
    "        options=models.MarketOptions(\n",
    "            default_supplier=marketSupplier,\n",
    "            default_scope=marketDataScope,\n",
    "            # TODO describ manifest or further down??\n",
    "            manifest_level_of_detail=\"Full\")\n",
    "    )\n",
    "\n",
    "    return market_context\n",
    "\n",
    "market_context = create_market_context()"
   ],
   "metadata": {
    "collapsed": false,
    "pycharm": {
     "name": "#%%\n"
    }
   }
  },
  {
   "cell_type": "markdown",
   "source": [
    "And now we can create our recipe:"
   ],
   "metadata": {
    "collapsed": false,
    "pycharm": {
     "name": "#%% md\n"
    }
   }
  },
  {
   "cell_type": "code",
   "execution_count": 31,
   "outputs": [
    {
     "name": "stdout",
     "output_type": "stream",
     "text": [
      "{'href': None,\n",
      " 'links': [{'description': 'A link to the LUSID Insights website showing all '\n",
      "                           'logs related to this request',\n",
      "            'href': 'http://khalid-local-dev.lusid.com/app/insights/logs/0HM0POAOE7T8P:00000001',\n",
      "            'method': 'GET',\n",
      "            'relation': 'RequestLogs'}],\n",
      " 'value': datetime.datetime(2020, 6, 26, 13, 42, 35, 561560, tzinfo=tzutc())}\n"
     ]
    }
   ],
   "source": [
    "def upsert_discount_bond_pricing_recipe(scope, recipe_name, market_context, pricing_context):\n",
    "\n",
    "    cfgRecipe = models.ConfigurationRecipe(\n",
    "        scope=scope,\n",
    "        code=recipe_name,\n",
    "        description=\"Price bond using discounting model\",\n",
    "        market=market_context,\n",
    "        pricing=pricing_context\n",
    "    )\n",
    "\n",
    "\n",
    "    #upsert the recipe\n",
    "    response = configuration_recipe_api.upsert_configuration_recipe(\n",
    "        upsert_recipe_request=models.UpsertRecipeRequest(configuration_recipe=cfgRecipe)\n",
    "    )\n",
    "\n",
    "    print(response)\n",
    "\n",
    "discounting_bond_recipe = \"test-discounting-bond\"\n",
    "upsert_discount_bond_pricing_recipe(scope, discounting_bond_recipe, market_context, pricing_context)"
   ],
   "metadata": {
    "collapsed": false,
    "pycharm": {
     "name": "#%%\n"
    }
   }
  },
  {
   "cell_type": "markdown",
   "source": [
    "## Valuing our Bond Holdings\n",
    "\n",
    "Let's quickly summarise our current state:\n",
    " * We've defined a Gilt 1.5% 47s bond (including defining it's date conventions)\n",
    " * We've loaded our OIS yield curve into the Structure Market Data store.\n",
    " * We've setup our Recipe configuring how we would like to value our bond.\n",
    " * We have a holding of 1 unit of the Gilt in our portfolio.\n",
    "\n",
    "We're now ready to run our aggregation and value our Bond holdings. We simply need to inform LUSID what values we\n",
    "would like to aggregate. In our case our entire portfolio is made up of one unit of the Gilt so we simply require\n",
    "the PV of the holding."
   ],
   "metadata": {
    "collapsed": false,
    "pycharm": {
     "name": "#%% md\n"
    }
   }
  },
  {
   "cell_type": "code",
   "execution_count": 34,
   "outputs": [
    {
     "name": "stdout",
     "output_type": "stream",
     "text": [
      "Bonds Holdings (as at 2020-06-23 00:00:00+00:00) : 103998646.71475208\n"
     ]
    }
   ],
   "source": [
    "def run_bond_pricing_aggregation(scope, recipe, effective_at):\n",
    "    aggregation_request = models.AggregationRequest(\n",
    "        effective_at=effective_at.isoformat(),\n",
    "        recipe_id=models.ResourceId(scope=scope, code=recipe),\n",
    "        metrics=[\n",
    "            models.AggregateSpec(key='Holding/default/PV', op='Value'),\n",
    "        ]\n",
    "    )\n",
    "\n",
    "    return api_factory.build(lusid.api.AggregationApi).get_aggregation(scope=scope, code=portfolio,\n",
    "                                                             aggregation_request=aggregation_request)\n",
    "\n",
    "\n",
    "\n",
    "aggregation_result = run_bond_pricing_aggregation(scope, discounting_bond_recipe, effective_at)\n",
    "bond_holdings = aggregation_result.data[0]['Holding/default/PV']\n",
    "print(f\"Bonds Holdings (as at {effective_at}) : {bond_holdings}\")\n"
   ],
   "metadata": {
    "collapsed": false,
    "pycharm": {
     "name": "#%%\n"
    }
   }
  },
  {
   "cell_type": "markdown",
   "source": [
    "We've now priced our Gilt holdings using the LUSID internal Bond \"Discounting\" model. As our recipe is already setup\n",
    "we can very seamlessly revalue our bond holdings for the following day:"
   ],
   "metadata": {
    "collapsed": false,
    "pycharm": {
     "name": "#%% md\n"
    }
   }
  },
  {
   "cell_type": "code",
   "execution_count": 37,
   "outputs": [
    {
     "name": "stdout",
     "output_type": "stream",
     "text": [
      "Bonds Holdings (as at 2020-06-23 00:00:00+00:00) : 104001728.9065329\n"
     ]
    }
   ],
   "source": [
    "effective_at_plus_one = effective_at + timedelta(days=1)\n",
    "aggregation_result = run_bond_pricing_aggregation(scope, discounting_bond_recipe, effective_at_plus_one)\n",
    "bond_holdings = aggregation_result.data[0]['Holding/default/PV']\n",
    "print(f\"Bonds Holdings (as at {effective_at_plus_one}) : {bond_holdings}\")"
   ],
   "metadata": {
    "collapsed": false,
    "pycharm": {
     "name": "#%%\n"
    }
   }
  },
  {
   "cell_type": "markdown",
   "source": [
    "## Accrued Interest\n",
    "\n",
    "The above example shows our Bond holding changed from one day to the next. This can be explained by the accrued\n",
    "interest on the Gilt. Recall that when we defined our gilt we set FlowConventions that contain all the information needed to calculate\n",
    "accrued interest between coupon dates. The 'Holding/default/PV' aggregation generates a clean price using the \"Discounting\" model before\n",
    "calculating and adding accrued interest.\n",
    "\n",
    "\n",
    "To display the accrued interest we simply add the request the next time we run an aggregation:"
   ],
   "metadata": {
    "collapsed": false,
    "pycharm": {
     "name": "#%% md\n"
    }
   }
  },
  {
   "cell_type": "code",
   "execution_count": 41,
   "outputs": [
    {
     "name": "stdout",
     "output_type": "stream",
     "text": [
      "Bonds Holdings (as at 2020-06-23 00:00:00+00:00) : 103998646.71475208\n",
      "Accrued Interest (as at 2020-06-23 00:00:00+00:00) : 471575.34246575343\n",
      "Bonds Holdings (as at 2020-06-24 00:00:00+00:00) : 104001728.9065329 (dtd: 3082.191780820489)\n",
      "Accrued Interest (as at 2020-06-24 00:00:00+00:00) : 474657.5342465753 (dtd: change: 3082.191780821886)\n"
     ]
    }
   ],
   "source": [
    "def run_bond_pricing_aggregation_and_accrued(scope, recipe, effective_at, ):\n",
    "    aggregation_request = models.AggregationRequest(\n",
    "        effective_at=effective_at.isoformat(),\n",
    "        recipe_id=models.ResourceId(scope=scope, code=recipe),\n",
    "        metrics=[\n",
    "            models.AggregateSpec(key='Holding/default/PV', op='Value'),\n",
    "            models.AggregateSpec(key='Holding/default/Accrual', op='Value')\n",
    "        ]\n",
    "    )\n",
    "\n",
    "    return api_factory.build(lusid.api.AggregationApi).get_aggregation(scope=scope, code=portfolio,\n",
    "                                                             aggregation_request=aggregation_request)\n",
    "\n",
    "aggregation_result = run_bond_pricing_aggregation_and_accrued(scope, discounting_bond_recipe, effective_at)\n",
    "bond_holdings = aggregation_result.data[0]['Holding/default/PV']\n",
    "accrued_interest = aggregation_result.data[0]['Holding/default/Accrual']\n",
    "print(f\"Bonds Holdings (as at {effective_at}) : {bond_holdings}\")\n",
    "print(f\"Accrued Interest (as at {effective_at}) : {accrued_interest}\")\n",
    "\n",
    "aggregation_result = run_bond_pricing_aggregation_and_accrued(scope, discounting_bond_recipe, effective_at_plus_one)\n",
    "bond_holdings_t_1 = aggregation_result.data[0]['Holding/default/PV']\n",
    "accrued_interest_t_1 = aggregation_result.data[0]['Holding/default/Accrual']\n",
    "print(f\"Bonds Holdings (as at {effective_at_plus_one}) : p{bond_holdings_t_1} (dtd: {bond_holdings_t_1-bond_holdings})\")\n",
    "print(f\"Accrued Interest (as at {effective_at_plus_one}) : {accrued_interest_t_1} (dtd: {accrued_interest_t_1-accrued_interest})\")"
   ],
   "metadata": {
    "collapsed": false,
    "pycharm": {
     "name": "#%%\n"
    }
   }
  },
  {
   "cell_type": "markdown",
   "source": [
    "## Accrual Override\n",
    "\n",
    "Up until now we have relied on LUSID to run it's internal bond pricing model as well as calculate accruals based on\n",
    "conventions defined in the Gilt instrument. However you may require to use a different value for accrued interest - one\n",
    "that has been calculated externally for example. To do so we need to address two concerns. How do we load a one off accrual\n",
    "into LUSID? And how do we ensure LUSID uses that accrual during aggregation as oppose to reverting to a calculating it\n",
    "on the fly as in the previous examples.\n",
    "\n",
    "### Structured Result Store\n",
    "\n",
    "The [Structured Result Store](\"https://support.finbourne.com/how-do-i-store-and-retrieve-structured-market-data-documents\") is\n",
    "a location to store non quote data that may nevertheless be used in an aggregation. Examples include YTD performance on\n",
    "an index, sensitivties of a swap or in our case the accrued interest.\n",
    "\n",
    "Just as with the structured market data store when results need to ensure they can be retrieved by LUSID during\n",
    "an aggregation which is why we must specific a key that uniquely identifies the data"
   ],
   "metadata": {
    "collapsed": false,
    "pycharm": {
     "name": "#%% md\n"
    }
   }
  },
  {
   "cell_type": "code",
   "execution_count": null,
   "outputs": [],
   "source": [
    "result_data_scope = \"Finbourne-Examples\"\n",
    "\n",
    "def get_accrual_csv_output(instrument_id, accrual):\n",
    "    return \"LusidInstrumentId,Accrual\" + \"\\r\\n\" + f\"{instrument_id},0.069109979\"\n",
    "\n",
    "\n",
    "def upsert_structured_result_data_overrides(effective_at,instrument_id):\n",
    "    accrual_document = get_accrual_csv_output(instrument_id, '0.069109979')\n",
    "\n",
    "    accrual_result = models.StructuredResultData(\n",
    "        # TODO change to JSON\n",
    "        document_format=\"CSV\",\n",
    "        version=\"1.0.0\",\n",
    "        name=\"IRS accrual\",\n",
    "        document=accrual_document\n",
    "    )\n",
    "\n",
    "    # create identifier\n",
    "    accrual_result_id = models.StructuredResultDataId(\n",
    "        source=\"Client\",\n",
    "        code=\"GiltAccrual\",\n",
    "        effective_at=effective_at.isoformat(),\n",
    "        result_type=\"UnitResult/Analytic\"\n",
    "    )\n",
    "\n",
    "    # create structured request\n",
    "    structured_request = models.UpsertStructuredResultDataRequest(\n",
    "        id=accrual_result_id,\n",
    "        data=accrual_result\n",
    "    )\n",
    "\n",
    "    # upsert\n",
    "    response = structured_result_data_api.upsert_structured_result_data(\n",
    "        scope=result_data_scope,\n",
    "        request_body={\"AccrualOR1\": structured_request}\n",
    "    )\n",
    "\n",
    "    print(response)"
   ],
   "metadata": {
    "collapsed": false,
    "pycharm": {
     "name": "#%%\n"
    }
   }
  },
  {
   "cell_type": "markdown",
   "source": [
    "Now that the accrual is in LUSID we need to address our second concern of notifying the aggregation to override the\n",
    "accrual calculation with our value when required. We can achieve this via the use of a Result Data Rules. These rules\n",
    "rely on a pattern that when matched signals to the aggregation that the stored result data should be used over any\n",
    "calculated value."
   ],
   "metadata": {
    "collapsed": false,
    "pycharm": {
     "name": "#%% md\n"
    }
   }
  },
  {
   "cell_type": "code",
   "execution_count": null,
   "outputs": [],
   "source": [
    "def create_accrual_result_data_rule(result_data_scope):\n",
    "    # TODO exaplin this key in more detail not making much sense why it maps to accrual specifically\n",
    "    accrual_key_rule = models.ResultDataKeyRule(\n",
    "        resource_key=\"UnitResult/Isin/Yield\",\n",
    "        supplier=\"Client\",\n",
    "        data_scope=result_data_scope,\n",
    "        document_code=\"GiltAccrual\"\n",
    "    )\n",
    "\n",
    "    return accrual_key_rule\n",
    "\n",
    "\n",
    "create_accrual_result_data_rule(result_data_scope)"
   ],
   "metadata": {
    "collapsed": false,
    "pycharm": {
     "name": "#%%\n"
    }
   }
  },
  {
   "cell_type": "markdown",
   "source": [
    "We know need to let LUSID know to apply this rule. To do so we simply add our rule to a pricing context definition which\n",
    "you call informs LUSID on what models to use for the aggregation."
   ],
   "metadata": {
    "collapsed": false,
    "pycharm": {
     "name": "#%% md\n"
    }
   }
  },
  {
   "cell_type": "code",
   "execution_count": null,
   "outputs": [],
   "source": [
    "def create_discounting_bond_pricing_context_with_accrual_override(accrual_key_rule):\n",
    "    return models.PricingContext(\n",
    "        options=models.PricingOptions(\n",
    "            allow_any_instruments_with_sec_uid_to_price_off_lookup=True,\n",
    "            produce_separate_result_for_linear_otc_legs=False,\n",
    "            allow_partially_successful_evaluation=True\n",
    "        ),\n",
    "        model_rules=[\n",
    "            models.VendorModelRule(\n",
    "                supplier=\"Lusid\",\n",
    "                model_name=\"Discounting\",\n",
    "                instrument_type=\"Bond\",\n",
    "                parameters=\"{}\"\n",
    "            )\n",
    "        ],\n",
    "        result_data_rules=[accrual_key_rule]\n",
    "    )\n",
    "\n",
    "create_discounting_bond_pricing_context_with_accrual_override(accrual_key_rule)"
   ],
   "metadata": {
    "collapsed": false,
    "pycharm": {
     "name": "#%%\n"
    }
   }
  },
  {
   "cell_type": "code",
   "execution_count": null,
   "outputs": [],
   "source": [
    "# def create_accrued_interest_config_recipe():\n",
    "#     cfgRecipe = models.ConfigurationRecipe(\n",
    "#         #scope=\"Finbourne-Examples\",# added by KK -> onl on updates sdk\n",
    "#         code=\"AccruedInterestOnly\",\n",
    "#         description=\"Calculate the accrued interest\"\n",
    "#     )\n",
    "#\n",
    "#\n",
    "#     #upsert the recipe\n",
    "#     response = api_factory.build(lusid.api.ConfigurationRecipeApi).upsert_configuration_recipe(\n",
    "#         scope=\"Finbourne-Examples\",\n",
    "#         structured_data=models.UpsertRecipeRequest(code=recipe_code,\n",
    "#                                                    configuration_recipe=cfgRecipe)\n",
    "#     )"
   ],
   "metadata": {
    "collapsed": false,
    "pycharm": {
     "name": "#%%\n"
    }
   }
  }
 ],
 "metadata": {
  "kernelspec": {
   "display_name": "Python 3",
   "language": "python",
   "name": "python3"
  },
  "language_info": {
   "codemirror_mode": {
    "name": "ipython",
    "version": 2
   },
   "file_extension": ".py",
   "mimetype": "text/x-python",
   "name": "python",
   "nbconvert_exporter": "python",
   "pygments_lexer": "ipython2",
   "version": "2.7.6"
  }
 },
 "nbformat": 4,
 "nbformat_minor": 0
}