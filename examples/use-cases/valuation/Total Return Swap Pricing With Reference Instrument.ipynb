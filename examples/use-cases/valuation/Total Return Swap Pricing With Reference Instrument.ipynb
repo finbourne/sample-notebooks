{
 "cells": [
  {
   "cell_type": "code",
   "execution_count": 117,
   "outputs": [
    {
     "data": {
      "text/plain": "<IPython.core.display.HTML object>",
      "text/html": "\n    <form action=\"javascript:code_toggle()\"><input type=\"submit\" id=\"toggleButton\" value=\"Hide docstring\"></form>\n    \n         <script>\n         function code_toggle() {\n             if ($('div.cell.code_cell.rendered.selected div.input').css('display')!='none'){\n                 $('div.cell.code_cell.rendered.selected div.input').hide();\n             } else {\n                 $('div.cell.code_cell.rendered.selected div.input').show();\n             }\n         }\n         </script>\n\n     "
     },
     "metadata": {},
     "output_type": "display_data"
    }
   ],
   "source": [
    "from lusidtools.jupyter_tools import toggle_code\n",
    "\n",
    "\"\"\"Total Return Swap Pricing With Reference Instrument\n",
    "\n",
    "Demonstrates pricing of an Total Return Swap with AssetLeg having the ReferenceInstrument as underlying.\n",
    "\n",
    "Attributes\n",
    "----------\n",
    "instruments\n",
    "valuation\n",
    "reference-instrument\n",
    "\"\"\"\n",
    "\n",
    "toggle_code(\"Hide docstring\")"
   ],
   "metadata": {
    "collapsed": false,
    "ExecuteTime": {
     "end_time": "2024-03-12T11:38:14.093360Z",
     "start_time": "2024-03-12T11:38:14.048293Z"
    }
   },
   "id": "707e7707c87a6ea2"
  },
  {
   "cell_type": "markdown",
   "source": [
    "## Setup LUSID and LUSID API objects."
   ],
   "metadata": {
    "collapsed": false
   },
   "id": "cc1054789e670651"
  },
  {
   "cell_type": "code",
   "execution_count": 118,
   "outputs": [
    {
     "name": "stdout",
     "output_type": "stream",
     "text": [
      "LUSID Environment Initialised\n",
      "LUSID SDK Version:  0.6.12724.0\n"
     ]
    }
   ],
   "source": [
    "import os\n",
    "from datetime import datetime, timedelta\n",
    "import lusid\n",
    "import json\n",
    "import pandas as pd\n",
    "import pytz\n",
    "from lusid import models\n",
    "from lusid.utilities import ApiClientFactory\n",
    "from lusidjam import RefreshingToken\n",
    "\n",
    "\n",
    "# Authenticate our user and create our API client\n",
    "secrets_path = os.getenv(\"FBN_SECRETS_PATH\")\n",
    "\n",
    "# Initiate an API Factory which is the client side object for interacting with LUSID APIs\n",
    "api_factory = lusid.utilities.ApiClientFactory(\n",
    "    token=RefreshingToken(),\n",
    "    api_secrets_filename=secrets_path,\n",
    "    app_name=\"LusidJupyterNotebook\",\n",
    ")\n",
    "\n",
    "print ('LUSID Environment Initialised')\n",
    "print ('LUSID SDK Version: ', api_factory.build(lusid.api.ApplicationMetadataApi).get_lusid_versions().build_version)\n",
    "\n",
    "# Setup the apis we'll use in this notebook:\n",
    "instruments_api = api_factory.build(lusid.api.InstrumentsApi)\n",
    "complex_market_data_api = api_factory.build(lusid.api.ComplexMarketDataApi)\n",
    "structured_result_data_api = api_factory.build(lusid.api.StructuredResultDataApi)\n",
    "transaction_portfolios_api = api_factory.build(lusid.api.TransactionPortfoliosApi)\n",
    "aggregation_api = api_factory.build(lusid.api.AggregationApi)\n",
    "\n"
   ],
   "metadata": {
    "collapsed": false,
    "ExecuteTime": {
     "end_time": "2024-03-12T11:38:15.441453Z",
     "start_time": "2024-03-12T11:38:14.093059Z"
    }
   },
   "id": "381e2ac63f3b696a"
  },
  {
   "cell_type": "code",
   "execution_count": 119,
   "outputs": [],
   "source": [
    "# Setup the scope we'll use in this notebook:\n",
    "scope = \"trs-pricing-scope\"\n",
    "code = \"trs-pricing-code\"\n",
    "\n",
    "coupon_rate = 0.015\n",
    "start_date = datetime(2016, 9, 21, tzinfo=pytz.utc)\n",
    "maturity_date = datetime(2047, 7, 22, tzinfo=pytz.utc)\n",
    "dom_ccy = \"GBP\"\n",
    "face_value = 1000\n",
    "\n",
    "trade_date = datetime(2020, 6, 22, tzinfo=pytz.utc)\n",
    "effective_at = datetime(2020, 6, 23, tzinfo=pytz.utc)"
   ],
   "metadata": {
    "collapsed": false,
    "ExecuteTime": {
     "end_time": "2024-03-12T11:38:15.442040Z",
     "start_time": "2024-03-12T11:38:15.437390Z"
    }
   },
   "id": "384429388f3ae588"
  },
  {
   "cell_type": "markdown",
   "source": [
    "## Creating portfolio\n",
    "We start by creating a portfolio which will consist of TotalReturnSwap only."
   ],
   "metadata": {
    "collapsed": false
   },
   "id": "31bbaab26df540e3"
  },
  {
   "cell_type": "code",
   "execution_count": 120,
   "outputs": [
    {
     "name": "stdout",
     "output_type": "stream",
     "text": [
      "Portfolio with this id already exists.\n"
     ]
    }
   ],
   "source": [
    "try:\n",
    "    transaction_portfolios_api.create_portfolio(\n",
    "        scope=scope,\n",
    "        create_transaction_portfolio_request=lusid.CreateTransactionPortfolioRequest(\n",
    "            display_name=code,\n",
    "            code=code,\n",
    "            base_currency=dom_ccy,\n",
    "            created=start_date,\n",
    "            instrument_scopes=[scope]\n",
    "        ),\n",
    "    )\n",
    "\n",
    "except lusid.ApiException as e:\n",
    "    if json.loads(e.body)['name'] == \"PortfolioWithIdAlreadyExists\":\n",
    "        print(\"Portfolio with this id already exists.\")\n",
    "    else:\n",
    "        raise e"
   ],
   "metadata": {
    "collapsed": false,
    "ExecuteTime": {
     "end_time": "2024-03-12T11:38:16.959285Z",
     "start_time": "2024-03-12T11:38:15.440255Z"
    }
   },
   "id": "d56123295914f9d7"
  },
  {
   "cell_type": "markdown",
   "source": [
    "## Creating Instruments\n",
    "A TotalReturnSwap is mainly composed of 2 parts, the AssetLeg and the FundingLeg. The AssetLeg is composed of direction (Pay/Receive) and the underlying instrument, that instrument could be inline definition of a Bond or ComplexBond or a ReferenceInstrument referencing already upserted Bond or ComplexBond. The second part is the FundingLeg which has to be either FixedLeg instrument or FloatLeg instrument inline.\n",
    "\n",
    "One can insert a definition of a Bond or ComplexBond into TotalReturnSwap's AssetLeg directly without upserting it first, this is fairly common across Lusid. Upserting a ReferenceInstrument instead that references already existing instrument is new however and this is what will be focused on here. To do this, we will first upsert a Bond and then create a ReferenceInstrument that will point to it."
   ],
   "metadata": {
    "collapsed": false
   },
   "id": "c034f69ca946a00"
  },
  {
   "cell_type": "code",
   "execution_count": 121,
   "outputs": [],
   "source": [
    "# Create and upsert a bond\n",
    "bond_definition = models.Bond(\n",
    "    start_date=start_date.isoformat(),\n",
    "    maturity_date=maturity_date.isoformat(),\n",
    "    dom_ccy=dom_ccy,\n",
    "    coupon_rate=coupon_rate,\n",
    "    principal=face_value,\n",
    "    flow_conventions=models.FlowConventions(\n",
    "        # coupon payment currency\n",
    "        currency=\"GBP\",\n",
    "        # semi-annual coupon payments\n",
    "        payment_frequency= \"6M\",\n",
    "        # using an Actual/365 day count convention (other options : Act360, ActAct, ...\n",
    "        day_count_convention=\"Act365\",\n",
    "        # modified following rolling convention (other options : ModifiedPrevious, NoAdjustment, EndOfMonth,...)\n",
    "        roll_convention=\"ModifiedFollowing\",\n",
    "        # no holiday calendar supplied\n",
    "        payment_calendars=[],\n",
    "        reset_calendars=[],\n",
    "        settle_days=2,\n",
    "        reset_days=2,\n",
    "    ),\n",
    "    identifiers={},\n",
    "    instrument_type=\"Bond\"\n",
    ")\n",
    "bond_id = \"gilt2047s\"\n",
    "bond_upsert = instruments_api.upsert_instruments(request_body={bond_id: models.InstrumentDefinition(\n",
    "    # instrument display name\n",
    "    name=\"gilt 1.5% 47s\",\n",
    "    # unique instrument identifier\n",
    "    identifiers={\"ClientInternal\": models.InstrumentIdValue(bond_id)},\n",
    "    # our gilt instrument definition\n",
    "    definition=bond_definition\n",
    ")})\n",
    "bond_luid = bond_upsert.values[bond_id].lusid_instrument_id\n",
    "\n",
    "# Create ReferenceInstrument that points to the already upserted Bond.\n",
    "reference_instrument = lusid.ReferenceInstrument(instrument_id=bond_id, scope=\"default\", instrument_id_type=\"ClientInternal\", instrument_type=\"ReferenceInstrument\")\n"
   ],
   "metadata": {
    "collapsed": false,
    "ExecuteTime": {
     "end_time": "2024-03-12T11:38:17.347977Z",
     "start_time": "2024-03-12T11:38:16.957888Z"
    }
   },
   "id": "344eaa14e341de72"
  },
  {
   "cell_type": "code",
   "execution_count": 122,
   "outputs": [],
   "source": [
    "# Create a FixedLeg for the TotalReturnSwap\n",
    "flow_conv = lusid.FlowConventions(\n",
    "    currency=dom_ccy,\n",
    "    payment_frequency=\"6M\",\n",
    "    day_count_convention=\"Act365\",\n",
    "    roll_convention=\"ModifiedFollowing\",\n",
    "    payment_calendars=[],\n",
    "    reset_calendars=[],\n",
    "    settle_days=0,\n",
    "    reset_days=0\n",
    ")\n",
    "\n",
    "fixed_leg_definition = lusid.LegDefinition(\n",
    "    rate_or_spread=0.02,\n",
    "    pay_receive=\"Receive\",\n",
    "    conventions=flow_conv,\n",
    "    stub_type=\"ShortFront\",\n",
    "    notional_exchange_type=\"None\"\n",
    ")\n",
    "\n",
    "fixed_leg = lusid.FixedLeg(\n",
    "    start_date=start_date,\n",
    "    maturity_date=maturity_date,\n",
    "    notional=2*face_value,\n",
    "    leg_definition=fixed_leg_definition,\n",
    "    instrument_type=\"FixedLeg\"\n",
    ")"
   ],
   "metadata": {
    "collapsed": false,
    "ExecuteTime": {
     "end_time": "2024-03-12T11:38:17.353994Z",
     "start_time": "2024-03-12T11:38:17.349357Z"
    }
   },
   "id": "15d1c970dde50a88"
  },
  {
   "cell_type": "code",
   "execution_count": 123,
   "outputs": [],
   "source": [
    "# Create and upsert TRS\n",
    "trs_definition = lusid.TotalReturnSwap(\n",
    "    start_date=start_date,\n",
    "    maturity_date=maturity_date,\n",
    "    asset_leg=lusid.AssetLeg(pay_receive=\"Pay\", asset=reference_instrument),\n",
    "    instrument_type=\"TotalReturnSwap\",\n",
    "    funding_leg=fixed_leg\n",
    ")\n",
    "trs_id = \"gilt2047sTrs\"\n",
    "trs_upsert = instruments_api.upsert_instruments(\n",
    "    {\n",
    "        trs_id: models.InstrumentDefinition(\n",
    "        # instrument display name\n",
    "        name=\"MyTRS\",\n",
    "        # unique instrument identifier\n",
    "        identifiers={\"ClientInternal\": models.InstrumentIdValue(trs_id)},\n",
    "        # our gilt instrument definition\n",
    "        definition=trs_definition\n",
    "    )})\n",
    "\n",
    "    "
   ],
   "metadata": {
    "collapsed": false,
    "ExecuteTime": {
     "end_time": "2024-03-12T11:38:17.449506Z",
     "start_time": "2024-03-12T11:38:17.352636Z"
    }
   },
   "id": "bc38309c483738fc"
  },
  {
   "cell_type": "markdown",
   "source": [
    "## Creating Transaction"
   ],
   "metadata": {
    "collapsed": false
   },
   "id": "bd5224fd2adb2586"
  },
  {
   "cell_type": "code",
   "execution_count": 124,
   "outputs": [],
   "source": [
    "\n",
    "txn = lusid.TransactionRequest(\n",
    "    transaction_id= trs_id,\n",
    "    type=\"Buy\",\n",
    "    instrument_identifiers={\"Instrument/default/ClientInternal\": trs_id},\n",
    "    transaction_date=trade_date.isoformat(),\n",
    "    settlement_date=(trade_date + timedelta(days = 2)).isoformat(),\n",
    "    units=1,\n",
    "    transaction_price=lusid.TransactionPrice(price=1,type=\"Price\"),\n",
    "    total_consideration=lusid.CurrencyAndAmount(amount=1,currency=dom_ccy),\n",
    "    exchange_rate=1,\n",
    "    transaction_currency=dom_ccy\n",
    ")\n",
    "\n",
    "upsert_txn = transaction_portfolios_api.upsert_transactions(scope=scope,\n",
    "                                                          code=code,\n",
    "                                                          transaction_request=[txn])"
   ],
   "metadata": {
    "collapsed": false,
    "ExecuteTime": {
     "end_time": "2024-03-12T11:38:19.921189Z",
     "start_time": "2024-03-12T11:38:17.451505Z"
    }
   },
   "id": "4c47363f43ae4ce6"
  },
  {
   "cell_type": "markdown",
   "source": [
    "## Creating ConfigurationRecipe"
   ],
   "metadata": {
    "collapsed": false
   },
   "id": "5341463e6737cb07"
  },
  {
   "cell_type": "code",
   "execution_count": 125,
   "outputs": [],
   "source": [
    "market_supplier = \"Lusid\"\n",
    "recipe = models.ConfigurationRecipe(\n",
    "    scope=scope,\n",
    "    code=code,\n",
    "    description=\"Price bond using discounting model\",\n",
    "    market=lusid.MarketContext(\n",
    "        market_rules=[\n",
    "            lusid.MarketDataKeyRule(\n",
    "                key=\"Rates.*.*\",\n",
    "                supplier=market_supplier,\n",
    "                data_scope=\"default\",\n",
    "                price_source=market_supplier,\n",
    "                quote_type=\"Price\",\n",
    "                field=\"mid\",\n",
    "                quote_interval=\"100D\",\n",
    "            ),\n",
    "        ],\n",
    "        options=lusid.MarketOptions(\n",
    "            default_scope = scope,\n",
    "            attempt_to_infer_missing_fx=True\n",
    "        ),\n",
    "    ),\n",
    "    pricing=models.PricingContext(\n",
    "        # select the \"Discounting\" model for bond pricing\n",
    "        model_rules=[\n",
    "            models.VendorModelRule(\n",
    "                supplier=\"Lusid\",\n",
    "                model_name=\"ConstantTimeValueOfMoney\",\n",
    "                instrument_type=\"Bond\",\n",
    "                parameters=\"{}\"\n",
    "            ),\n",
    "            models.VendorModelRule(\n",
    "                supplier=\"Lusid\",\n",
    "                model_name=\"ConstantTimeValueOfMoney\",\n",
    "                instrument_type=\"FixedLeg\",\n",
    "                parameters=\"{}\"\n",
    "            ),\n",
    "        ],\n",
    "        options=models.PricingOptions(model_selection=models.ModelSelection(library=\"Lusid\", model=\"ConstantTimeValueOfMoney\"))\n",
    "    )\n",
    ")\n",
    "\n",
    "# Upsert recipe to LUSID\n",
    "upsert_recipe_request = models.UpsertRecipeRequest(configuration_recipe=recipe)\n",
    "response = api_factory.build(lusid.api.ConfigurationRecipeApi).upsert_configuration_recipe(upsert_recipe_request)"
   ],
   "metadata": {
    "collapsed": false,
    "ExecuteTime": {
     "end_time": "2024-03-12T11:38:20.131152Z",
     "start_time": "2024-03-12T11:38:19.924349Z"
    }
   },
   "id": "ff73181e6cbd5b1e"
  },
  {
   "cell_type": "markdown",
   "source": [
    "## Performing valuation\n",
    "Now that we have a portfolio with valid TotalReturnSwap we can perform a valuation on it. The ReferenceInstrument will be resolved automatically."
   ],
   "metadata": {
    "collapsed": false
   },
   "id": "42f1de350ea5cc8b"
  },
  {
   "cell_type": "code",
   "execution_count": 126,
   "outputs": [
    {
     "data": {
      "text/plain": "   Valuation/PV/Amount Instrument/default/Name  Valuation/InstrumentAccrued\n0           -865.19863                   MyTRS                     2.054795",
      "text/html": "<div>\n<style scoped>\n    .dataframe tbody tr th:only-of-type {\n        vertical-align: middle;\n    }\n\n    .dataframe tbody tr th {\n        vertical-align: top;\n    }\n\n    .dataframe thead th {\n        text-align: right;\n    }\n</style>\n<table border=\"1\" class=\"dataframe\">\n  <thead>\n    <tr style=\"text-align: right;\">\n      <th></th>\n      <th>Valuation/PV/Amount</th>\n      <th>Instrument/default/Name</th>\n      <th>Valuation/InstrumentAccrued</th>\n    </tr>\n  </thead>\n  <tbody>\n    <tr>\n      <th>0</th>\n      <td>-865.19863</td>\n      <td>MyTRS</td>\n      <td>2.054795</td>\n    </tr>\n  </tbody>\n</table>\n</div>"
     },
     "metadata": {},
     "output_type": "display_data"
    }
   ],
   "source": [
    "def run_valuation(date):\n",
    "    metrics = [\n",
    "        lusid.AggregateSpec(\"Instrument/default/Name\", \"Value\"),\n",
    "        lusid.AggregateSpec(\"Valuation/PV/Amount\", \"Value\"),\n",
    "        lusid.AggregateSpec(\"Valuation/InstrumentAccrued\", \"Value\")\n",
    "    ]\n",
    "\n",
    "    group_by = []\n",
    "\n",
    "    valuation_request = lusid.ValuationRequest(\n",
    "        recipe_id=lusid.ResourceId(scope=scope, code=code),\n",
    "        metrics=metrics,\n",
    "        group_by=group_by,\n",
    "        portfolio_entity_ids=[\n",
    "            lusid.PortfolioEntityId(scope=scope, code=code)\n",
    "        ],\n",
    "        valuation_schedule=lusid.ValuationSchedule(effective_at=date),\n",
    "    )\n",
    "\n",
    "    val_data = aggregation_api.get_valuation(valuation_request=valuation_request).data\n",
    " \n",
    "    vals_df = pd.DataFrame(val_data)\n",
    "\n",
    "    vals_df.fillna(\"\", inplace=True)\n",
    "\n",
    "    return vals_df\n",
    "\n",
    "pricing_date = trade_date + timedelta(weeks=52)\n",
    "valuation = run_valuation(pricing_date.isoformat())\n",
    "display(valuation.head(1))"
   ],
   "metadata": {
    "collapsed": false,
    "ExecuteTime": {
     "end_time": "2024-03-12T11:38:24.242072Z",
     "start_time": "2024-03-12T11:38:20.133369Z"
    }
   },
   "id": "3edf9d400685591f"
  }
 ],
 "metadata": {
  "kernelspec": {
   "display_name": "Python 3",
   "language": "python",
   "name": "python3"
  },
  "language_info": {
   "codemirror_mode": {
    "name": "ipython",
    "version": 2
   },
   "file_extension": ".py",
   "mimetype": "text/x-python",
   "name": "python",
   "nbconvert_exporter": "python",
   "pygments_lexer": "ipython2",
   "version": "2.7.6"
  }
 },
 "nbformat": 4,
 "nbformat_minor": 5
}
