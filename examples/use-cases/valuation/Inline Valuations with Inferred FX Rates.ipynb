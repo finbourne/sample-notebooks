{
 "cells": [
  {
   "cell_type": "markdown",
   "metadata": {
    "pycharm": {
     "name": "#%% md\n"
    }
   },
   "source": [
    "# Valuation using Inferred FX Rates (for an inline portfolio)\n",
    "\n",
    "This notebook shows you how to value an inline portfolio using recipes with FX rates inferred and not explicitly loaded into the quotes store. The notebook shows the following workflow:\n",
    "\n",
    "- We run a valuation on an inline portfolio which has a base currency of GBP\n",
    "- In the same portfolio, LUSID values the JPY instruments by inverting the provided JPY/GBP FX rate.\n",
    "- LUSID then values the AUD instruments by triangulating the provided GBP/USD and AUD/USD FX rates.\n",
    "\n",
    "For some background, an inline portfolio is not a \"real\" portfolio in LUSID per se. Rather the inline portfolio holdings (instruments and weights) are defined in the inline valuation request. This allows users to run ad-hoc valuations on a set of weighted instruments without requiring a full portfolio setup."
   ]
  },
  {
   "cell_type": "markdown",
   "metadata": {},
   "source": [
    "## 1. Setup LUSID"
   ]
  },
  {
   "cell_type": "code",
   "execution_count": 1,
   "metadata": {},
   "outputs": [],
   "source": [
    "# Import lusid specific packages\n",
    "# These are the core lusid packages for interacting with the API via Python\n",
    "import lusid\n",
    "import lusid.models as models\n",
    "from lusidjam.refreshing_token import RefreshingToken\n",
    "from lusidtools.pandas_utils.lusid_pandas import lusid_response_to_data_frame\n",
    "import fbnsdkutilities.utilities as utils\n",
    "\n",
    "import os\n",
    "import pandas as pd\n",
    "import pytz\n",
    "from datetime import datetime\n",
    "\n",
    "pd.set_option(\"display.max_columns\", None)\n",
    "\n",
    "# Authenticate our user and create our API client\n",
    "secrets_path = os.getenv(\"FBN_SECRETS_PATH\")\n",
    "\n",
    "# Initiate an API Factory which is the client side object for interacting with LUSID APIs\n",
    "api_factory = utils.ApiClientFactory(\n",
    "    lusid,\n",
    "    token=RefreshingToken(),\n",
    "    api_secrets_filename=secrets_path,\n",
    "    app_name=\"LusidJupyterNotebook\",\n",
    ")"
   ]
  },
  {
   "cell_type": "code",
   "execution_count": 2,
   "metadata": {},
   "outputs": [],
   "source": [
    "# define the apis\n",
    "aggregation_api = api_factory.build(lusid.AggregationApi)\n",
    "quotes_api = api_factory.build(lusid.QuotesApi)\n",
    "configuration_recipe_api = api_factory.build(lusid.api.ConfigurationRecipeApi)"
   ]
  },
  {
   "cell_type": "code",
   "execution_count": 3,
   "metadata": {},
   "outputs": [],
   "source": [
    "# Defining variables\n",
    "valuation_date = datetime(year=2022, month=3, day=8, tzinfo=pytz.UTC).isoformat()\n",
    "scope = \"Ibor\"\n",
    "portfolio_code = \"FX_Conversion_NB\""
   ]
  },
  {
   "cell_type": "markdown",
   "metadata": {},
   "source": [
    "## 2. Load Quotes"
   ]
  },
  {
   "cell_type": "markdown",
   "metadata": {},
   "source": [
    "### 2.1 Instrument Value Quotes"
   ]
  },
  {
   "cell_type": "markdown",
   "metadata": {},
   "source": [
    "Load 5 prices into the quotes store with associated instrument 'ClientInternal' identifiers. These will be linked to the weighted instruments created below in Section 3."
   ]
  },
  {
   "cell_type": "code",
   "execution_count": 4,
   "metadata": {},
   "outputs": [],
   "source": [
    "values = [20, 50, 100, 75, 60]\n",
    "\n",
    "for i in range(1,6):\n",
    "    quotes_api.upsert_quotes(\n",
    "        scope = scope,\n",
    "        request_body = {f\"quote_{i}\": models.UpsertQuoteRequest(\n",
    "            quote_id=models.QuoteId(\n",
    "                models.QuoteSeriesId(\n",
    "                    provider=\"Lusid\",\n",
    "                    instrument_id=f\"client_internal_{i}\",\n",
    "                    instrument_id_type=\"ClientInternal\",\n",
    "                    quote_type=\"Price\",\n",
    "                    field=\"mid\"\n",
    "                \n",
    "                ),\n",
    "                effective_at = valuation_date\n",
    "            ),\n",
    "            metric_value=models.MetricValue(\n",
    "                value=values[i-1],\n",
    "                unit=\"GBP\"\n",
    "            )\n",
    "        )}\n",
    "        \n",
    "    )"
   ]
  },
  {
   "cell_type": "markdown",
   "metadata": {},
   "source": [
    "### 2.2 FX Rate Quotes"
   ]
  },
  {
   "cell_type": "markdown",
   "metadata": {},
   "source": [
    "Load FX rates required for FX rate inference into the quotes store."
   ]
  },
  {
   "cell_type": "code",
   "execution_count": 5,
   "metadata": {},
   "outputs": [],
   "source": [
    "def spot_request(from_ccy, to_ccy, rate, valuation_date):\n",
    "            return models.UpsertQuoteRequest(\n",
    "                       quote_id=models.QuoteId(\n",
    "                           models.QuoteSeriesId(\n",
    "                               provider='Lusid',\n",
    "                               instrument_id=f'{from_ccy}/{to_ccy}',\n",
    "                               instrument_id_type='CurrencyPair',\n",
    "                               quote_type='Rate',\n",
    "                               field='mid'\n",
    "                           ),\n",
    "                           effective_at=valuation_date\n",
    "                       ),\n",
    "                       metric_value=models.MetricValue(\n",
    "                           value=rate,\n",
    "                           unit=f'{from_ccy}/{to_ccy}'\n",
    "                       ),\n",
    "                       lineage='None'\n",
    "            )"
   ]
  },
  {
   "cell_type": "markdown",
   "metadata": {},
   "source": [
    "#### JPY/GBP FX Rate Quote"
   ]
  },
  {
   "cell_type": "markdown",
   "metadata": {},
   "source": [
    "Load JPY/GBP FX rate into the quotes store for the valuation date."
   ]
  },
  {
   "cell_type": "code",
   "execution_count": 6,
   "metadata": {},
   "outputs": [],
   "source": [
    "response = quotes_api.upsert_quotes(scope=scope,\n",
    "                                   request_body={\"1\": spot_request(\"JPY\", \"GBP\", 0.006618, valuation_date)})"
   ]
  },
  {
   "cell_type": "markdown",
   "metadata": {},
   "source": [
    "#### GBP/USD FX Rate Quote"
   ]
  },
  {
   "cell_type": "markdown",
   "metadata": {},
   "source": [
    "Load GBP/USD FX rate into the quotes store for the valuation date."
   ]
  },
  {
   "cell_type": "code",
   "execution_count": 7,
   "metadata": {},
   "outputs": [],
   "source": [
    "response = quotes_api.upsert_quotes(scope=scope,\n",
    "                                   request_body={\"1\": spot_request(\"GBP\", \"USD\", 1.3106, valuation_date)})"
   ]
  },
  {
   "cell_type": "markdown",
   "metadata": {},
   "source": [
    "#### AUD/USD FX Rate Quote"
   ]
  },
  {
   "cell_type": "markdown",
   "metadata": {},
   "source": [
    "Load AUD/USD FX rate into the quotes store for the valuation date."
   ]
  },
  {
   "cell_type": "code",
   "execution_count": 8,
   "metadata": {},
   "outputs": [],
   "source": [
    "response = quotes_api.upsert_quotes(scope=scope,\n",
    "                                   request_body={\"1\": spot_request(\"AUD\", \"USD\", 0.7319, valuation_date)})"
   ]
  },
  {
   "cell_type": "markdown",
   "metadata": {},
   "source": [
    "## 3. Define Weighted Instruments"
   ]
  },
  {
   "cell_type": "markdown",
   "metadata": {},
   "source": [
    "Define 5 weighted equity instruments with the same 'ClientInternal' identifiers as those of the 5 quotes, a quantity of 1 and a currency of GBP (same as for the quotes). Put these 5 definitions into a list to be passed into the inline valuations request in Section 4."
   ]
  },
  {
   "cell_type": "code",
   "execution_count": 9,
   "metadata": {},
   "outputs": [],
   "source": [
    "weighted_instruments = []\n",
    "\n",
    "for i in range(1, 6):\n",
    "    weighted_instrument = lusid.WeightedInstrument(\n",
    "        quantity=1,\n",
    "        holding_identifier=f\"client_internal_{i}\",\n",
    "        instrument=models.Equity(\n",
    "            identifiers= lusid.EquityAllOfIdentifiers(\n",
    "                client_internal=f\"client_internal_{i}\",\n",
    "            ),\n",
    "            dom_ccy=\"GBP\",\n",
    "            instrument_type=\"Equity\",\n",
    "        ), \n",
    "    )\n",
    "        \n",
    "    \n",
    "    weighted_instruments.append(weighted_instrument)"
   ]
  },
  {
   "cell_type": "markdown",
   "metadata": {},
   "source": [
    "## 4. Create Valuation Recipe"
   ]
  },
  {
   "cell_type": "markdown",
   "metadata": {},
   "source": [
    "Define a valuation recipe to use the quotes loaded into the quotes store. \n",
    "\n",
    "*** Important *** - The attempt_to_infer_missing_fx option is set to True on line 36 below enabling LUSID to attempt to determine missing FX rates from rates in the quotes store."
   ]
  },
  {
   "cell_type": "code",
   "execution_count": 10,
   "metadata": {},
   "outputs": [],
   "source": [
    "# Create recipes\n",
    "recipe_scope=\"FX_Conversion_NB\"\n",
    "recipe_code=\"FX_Conversion_NB\"\n",
    "\n",
    "\n",
    "# Create a recipe to perform a valuation\n",
    "configuration_recipe = models.ConfigurationRecipe(\n",
    "    scope=recipe_scope,\n",
    "    code=recipe_code,\n",
    "    market=models.MarketContext(\n",
    "        market_rules=[\n",
    "            # define how to resolve the quotes\n",
    "            models.MarketDataKeyRule(\n",
    "                key=\"Equity.ClientInternal.*\",\n",
    "                supplier=\"Lusid\",\n",
    "                data_scope=scope,\n",
    "                quote_type=\"Price\",\n",
    "                field=\"mid\",\n",
    "            ),\n",
    "            models.MarketDataKeyRule(\n",
    "                key='Fx.CurrencyPair.*',\n",
    "                data_scope=scope,\n",
    "                supplier='Lusid',\n",
    "                quote_type='Rate',\n",
    "                quote_interval='1D.0D',\n",
    "                field=\"mid\"\n",
    "            )\n",
    "        ],\n",
    "        options=models.MarketOptions(\n",
    "            default_supplier=\"Lusid\",\n",
    "            default_instrument_code_type=\"Isin\",\n",
    "            default_scope='Lusid',\n",
    "        ### IMPORTANT ###\n",
    "        # This enables FX rate inference\n",
    "        #------------------------------------\n",
    "            attempt_to_infer_missing_fx=True,\n",
    "#             save_inferred_missing_fx=True,\n",
    "        #------------------------------------\n",
    "        ),\n",
    "    ),\n",
    "    pricing=models.PricingContext(\n",
    "        options={\"AllowPartiallySuccessfulEvaluation\": True},\n",
    "    ),\n",
    ")\n",
    "\n",
    "upsert_configuration_recipe_response = configuration_recipe_api.upsert_configuration_recipe(\n",
    "    upsert_recipe_request=models.UpsertRecipeRequest(\n",
    "        configuration_recipe=configuration_recipe\n",
    "    )\n",
    ")"
   ]
  },
  {
   "cell_type": "markdown",
   "metadata": {},
   "source": [
    "## 5. Run Inline Valuation Requests"
   ]
  },
  {
   "cell_type": "markdown",
   "metadata": {},
   "source": [
    "Create valuation requests for the predefined weighted instruments with JPY & AUD report currencies (no explicit FX rates from GBP to these in the quotes store). "
   ]
  },
  {
   "cell_type": "markdown",
   "metadata": {},
   "source": [
    "### 5.1 Define Inline Valuation Request Function"
   ]
  },
  {
   "cell_type": "code",
   "execution_count": 11,
   "metadata": {},
   "outputs": [],
   "source": [
    "def generate_valuation_request(valuation_effectiveAt, report_currency, instruments):\n",
    "\n",
    "    # Create the valuation request\n",
    "    valuation_request = models.InlineValuationRequest(\n",
    "        recipe_id=models.ResourceId(\n",
    "            scope=recipe_scope, code=recipe_code\n",
    "        ),\n",
    "        metrics=[\n",
    "            models.AggregateSpec(\"Valuation/PvInReportCcy\", \"Value\"),\n",
    "            models.AggregateSpec(\"Valuation/PvInReportCcy/Ccy\", \"Value\"),\n",
    "            models.AggregateSpec(\"Analytic/default/InstrumentTag\", \"Value\"),\n",
    "            models.AggregateSpec(\"Quotes/FxRate/DomReport\", \"Value\"),\n",
    "            models.AggregateSpec(\"Quotes/Price\", \"Value\"),\n",
    "            models.AggregateSpec(\"Quotes/Price/Ccy\", \"Value\")\n",
    "        ],\n",
    "        report_currency = report_currency,\n",
    "        valuation_schedule=models.ValuationSchedule(\n",
    "            effective_at=valuation_effectiveAt\n",
    "        ),\n",
    "        instruments=instruments\n",
    "    )\n",
    "\n",
    "    return valuation_request"
   ]
  },
  {
   "cell_type": "markdown",
   "metadata": {},
   "source": [
    "### 5.2 Run Inline Valuation in JPY (FX Rate Inversion)"
   ]
  },
  {
   "cell_type": "markdown",
   "metadata": {},
   "source": [
    "The explicit GBP/JPY FX rate does not exist in the quotes store and so LUSID inverts the JPY/GBP FX rate via the API call. This functionality is enabled by setting \"attempt_to_infer_missing_fx\" to true in the valuation recipe (see above)."
   ]
  },
  {
   "cell_type": "code",
   "execution_count": 12,
   "metadata": {},
   "outputs": [
    {
     "data": {
      "text/html": [
       "<div>\n",
       "<style scoped>\n",
       "    .dataframe tbody tr th:only-of-type {\n",
       "        vertical-align: middle;\n",
       "    }\n",
       "\n",
       "    .dataframe tbody tr th {\n",
       "        vertical-align: top;\n",
       "    }\n",
       "\n",
       "    .dataframe thead th {\n",
       "        text-align: right;\n",
       "    }\n",
       "</style>\n",
       "<table border=\"1\" class=\"dataframe\">\n",
       "  <thead>\n",
       "    <tr style=\"text-align: right;\">\n",
       "      <th></th>\n",
       "      <th>Valuation/PvInReportCcy/Ccy</th>\n",
       "      <th>Valuation/PvInReportCcy</th>\n",
       "      <th>Analytic/default/InstrumentTag</th>\n",
       "      <th>Quotes/FxRate/DomReport</th>\n",
       "      <th>Quotes/Price</th>\n",
       "      <th>Quotes/Price/Ccy</th>\n",
       "    </tr>\n",
       "  </thead>\n",
       "  <tbody>\n",
       "    <tr>\n",
       "      <th>0</th>\n",
       "      <td>JPY</td>\n",
       "      <td>3022.061046</td>\n",
       "      <td>client_internal_1</td>\n",
       "      <td>151.103052</td>\n",
       "      <td>20.0</td>\n",
       "      <td>GBP</td>\n",
       "    </tr>\n",
       "    <tr>\n",
       "      <th>1</th>\n",
       "      <td>JPY</td>\n",
       "      <td>7555.152614</td>\n",
       "      <td>client_internal_2</td>\n",
       "      <td>151.103052</td>\n",
       "      <td>50.0</td>\n",
       "      <td>GBP</td>\n",
       "    </tr>\n",
       "    <tr>\n",
       "      <th>2</th>\n",
       "      <td>JPY</td>\n",
       "      <td>15110.305228</td>\n",
       "      <td>client_internal_3</td>\n",
       "      <td>151.103052</td>\n",
       "      <td>100.0</td>\n",
       "      <td>GBP</td>\n",
       "    </tr>\n",
       "    <tr>\n",
       "      <th>3</th>\n",
       "      <td>JPY</td>\n",
       "      <td>11332.728921</td>\n",
       "      <td>client_internal_4</td>\n",
       "      <td>151.103052</td>\n",
       "      <td>75.0</td>\n",
       "      <td>GBP</td>\n",
       "    </tr>\n",
       "    <tr>\n",
       "      <th>4</th>\n",
       "      <td>JPY</td>\n",
       "      <td>9066.183137</td>\n",
       "      <td>client_internal_5</td>\n",
       "      <td>151.103052</td>\n",
       "      <td>60.0</td>\n",
       "      <td>GBP</td>\n",
       "    </tr>\n",
       "  </tbody>\n",
       "</table>\n",
       "</div>"
      ],
      "text/plain": [
       "  Valuation/PvInReportCcy/Ccy  Valuation/PvInReportCcy   \n",
       "0                         JPY              3022.061046  \\\n",
       "1                         JPY              7555.152614   \n",
       "2                         JPY             15110.305228   \n",
       "3                         JPY             11332.728921   \n",
       "4                         JPY              9066.183137   \n",
       "\n",
       "  Analytic/default/InstrumentTag  Quotes/FxRate/DomReport  Quotes/Price   \n",
       "0              client_internal_1               151.103052          20.0  \\\n",
       "1              client_internal_2               151.103052          50.0   \n",
       "2              client_internal_3               151.103052         100.0   \n",
       "3              client_internal_4               151.103052          75.0   \n",
       "4              client_internal_5               151.103052          60.0   \n",
       "\n",
       "  Quotes/Price/Ccy  \n",
       "0              GBP  \n",
       "1              GBP  \n",
       "2              GBP  \n",
       "3              GBP  \n",
       "4              GBP  "
      ]
     },
     "execution_count": 12,
     "metadata": {},
     "output_type": "execute_result"
    }
   ],
   "source": [
    "aggregation = aggregation_api.get_valuation_of_weighted_instruments(\n",
    "    inline_valuation_request=generate_valuation_request(\n",
    "        valuation_date, \"JPY\", weighted_instruments\n",
    "    )\n",
    ")\n",
    "\n",
    "output = pd.DataFrame(aggregation.data)\n",
    "output"
   ]
  },
  {
   "cell_type": "markdown",
   "metadata": {},
   "source": [
    "### 5.3 Run Inline Valuation in AUD (FX Rate Triangulation)"
   ]
  },
  {
   "cell_type": "markdown",
   "metadata": {},
   "source": [
    "The explicit GBP/AUD FX rate does not exist in the quotes store and so LUSID triangulates it from the GBP/USD and AUD/USD FX rates. This functionality is enabled by setting \"attempt_to_infer_missing_fx\" to true in the valuation recipe (see above)."
   ]
  },
  {
   "cell_type": "code",
   "execution_count": 13,
   "metadata": {},
   "outputs": [
    {
     "data": {
      "text/html": [
       "<div>\n",
       "<style scoped>\n",
       "    .dataframe tbody tr th:only-of-type {\n",
       "        vertical-align: middle;\n",
       "    }\n",
       "\n",
       "    .dataframe tbody tr th {\n",
       "        vertical-align: top;\n",
       "    }\n",
       "\n",
       "    .dataframe thead th {\n",
       "        text-align: right;\n",
       "    }\n",
       "</style>\n",
       "<table border=\"1\" class=\"dataframe\">\n",
       "  <thead>\n",
       "    <tr style=\"text-align: right;\">\n",
       "      <th></th>\n",
       "      <th>Valuation/PvInReportCcy/Ccy</th>\n",
       "      <th>Valuation/PvInReportCcy</th>\n",
       "      <th>Analytic/default/InstrumentTag</th>\n",
       "      <th>Quotes/FxRate/DomReport</th>\n",
       "      <th>Quotes/Price</th>\n",
       "      <th>Quotes/Price/Ccy</th>\n",
       "    </tr>\n",
       "  </thead>\n",
       "  <tbody>\n",
       "    <tr>\n",
       "      <th>0</th>\n",
       "      <td>AUD</td>\n",
       "      <td>35.813636</td>\n",
       "      <td>client_internal_1</td>\n",
       "      <td>1.790682</td>\n",
       "      <td>20.0</td>\n",
       "      <td>GBP</td>\n",
       "    </tr>\n",
       "    <tr>\n",
       "      <th>1</th>\n",
       "      <td>AUD</td>\n",
       "      <td>89.534089</td>\n",
       "      <td>client_internal_2</td>\n",
       "      <td>1.790682</td>\n",
       "      <td>50.0</td>\n",
       "      <td>GBP</td>\n",
       "    </tr>\n",
       "    <tr>\n",
       "      <th>2</th>\n",
       "      <td>AUD</td>\n",
       "      <td>179.068179</td>\n",
       "      <td>client_internal_3</td>\n",
       "      <td>1.790682</td>\n",
       "      <td>100.0</td>\n",
       "      <td>GBP</td>\n",
       "    </tr>\n",
       "    <tr>\n",
       "      <th>3</th>\n",
       "      <td>AUD</td>\n",
       "      <td>134.301134</td>\n",
       "      <td>client_internal_4</td>\n",
       "      <td>1.790682</td>\n",
       "      <td>75.0</td>\n",
       "      <td>GBP</td>\n",
       "    </tr>\n",
       "    <tr>\n",
       "      <th>4</th>\n",
       "      <td>AUD</td>\n",
       "      <td>107.440907</td>\n",
       "      <td>client_internal_5</td>\n",
       "      <td>1.790682</td>\n",
       "      <td>60.0</td>\n",
       "      <td>GBP</td>\n",
       "    </tr>\n",
       "  </tbody>\n",
       "</table>\n",
       "</div>"
      ],
      "text/plain": [
       "  Valuation/PvInReportCcy/Ccy  Valuation/PvInReportCcy   \n",
       "0                         AUD                35.813636  \\\n",
       "1                         AUD                89.534089   \n",
       "2                         AUD               179.068179   \n",
       "3                         AUD               134.301134   \n",
       "4                         AUD               107.440907   \n",
       "\n",
       "  Analytic/default/InstrumentTag  Quotes/FxRate/DomReport  Quotes/Price   \n",
       "0              client_internal_1                 1.790682          20.0  \\\n",
       "1              client_internal_2                 1.790682          50.0   \n",
       "2              client_internal_3                 1.790682         100.0   \n",
       "3              client_internal_4                 1.790682          75.0   \n",
       "4              client_internal_5                 1.790682          60.0   \n",
       "\n",
       "  Quotes/Price/Ccy  \n",
       "0              GBP  \n",
       "1              GBP  \n",
       "2              GBP  \n",
       "3              GBP  \n",
       "4              GBP  "
      ]
     },
     "execution_count": 13,
     "metadata": {},
     "output_type": "execute_result"
    }
   ],
   "source": [
    "aggregation = aggregation_api.get_valuation_of_weighted_instruments(\n",
    "    inline_valuation_request=generate_valuation_request(\n",
    "        valuation_date, \"AUD\", weighted_instruments\n",
    "    )\n",
    ")\n",
    "\n",
    "output = pd.DataFrame(aggregation.data)\n",
    "output"
   ]
  }
 ],
 "metadata": {
  "kernelspec": {
   "display_name": "Python 3 (ipykernel)",
   "language": "python",
   "name": "python3"
  },
  "language_info": {
   "codemirror_mode": {
    "name": "ipython",
    "version": 3
   },
   "file_extension": ".py",
   "mimetype": "text/x-python",
   "name": "python",
   "nbconvert_exporter": "python",
   "pygments_lexer": "ipython3",
   "version": "3.10.10"
  },
  "vscode": {
   "interpreter": {
    "hash": "9b2ad45377be23472136155f9be1fd1f9127868d50a62bcbda4e8cdcd384c3ac"
   }
  }
 },
 "nbformat": 4,
 "nbformat_minor": 2
}
