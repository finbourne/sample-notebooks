{
 "cells": [
  {
   "cell_type": "markdown",
   "metadata": {
    "pycharm": {
     "name": "#%% md\n"
    }
   },
   "source": [
    "# Inline Valuation of Weighted Instruments with Inferred FX Rates\n",
    "\n",
    "This notebooks shows how to value weighted instruments using recipes with FX rates inferred and not explicitly loaded into the quotes store.\n",
    "\n",
    "- Weighted instruments are priced in GBP.\n",
    "- LUSID performs an inline valuation in JPY by inverting the provided JPY/GBP FX rate.\n",
    "- LUSID then performs an inline valuation in AUD by triangulating the provided GBP/USD and AUD/USD FX rates.\n"
   ]
  },
  {
   "cell_type": "markdown",
   "metadata": {},
   "source": [
    "## 1. Setup LUSID"
   ]
  },
  {
   "cell_type": "code",
   "execution_count": 1,
   "metadata": {},
   "outputs": [
    {
     "name": "stderr",
     "output_type": "stream",
     "text": [
      "/opt/conda/lib/python3.9/site-packages/requests/__init__.py:89: RequestsDependencyWarning: urllib3 (1.26.9) or chardet (3.0.4) doesn't match a supported version!\n",
      "  warnings.warn(\"urllib3 ({}) or chardet ({}) doesn't match a supported \"\n"
     ]
    }
   ],
   "source": [
    "# Import lusid specific packages\n",
    "# These are the core lusid packages for interacting with the API via Python\n",
    "import lusid\n",
    "import lusid.models as models\n",
    "from lusid.utilities import ApiClientFactory\n",
    "from lusidjam.refreshing_token import RefreshingToken\n",
    "from lusidtools.pandas_utils.lusid_pandas import lusid_response_to_data_frame\n",
    "\n",
    "import os\n",
    "import pandas as pd\n",
    "# import json\n",
    "import pytz\n",
    "from datetime import datetime\n",
    "\n",
    "pd.set_option(\"display.max_columns\", None)\n",
    "\n",
    "# Authenticate our user and create our API client\n",
    "secrets_path = os.getenv(\"FBN_SECRETS_PATH\")\n",
    "\n",
    "# Initiate an API Factory which is the client side object for interacting with LUSID APIs\n",
    "api_factory = lusid.utilities.ApiClientFactory(\n",
    "    token=RefreshingToken(),\n",
    "    api_secrets_filename=secrets_path,\n",
    "    app_name=\"LusidJupyterNotebook\",\n",
    ")"
   ]
  },
  {
   "cell_type": "code",
   "execution_count": 2,
   "metadata": {},
   "outputs": [],
   "source": [
    "# define the apis\n",
    "aggregation_api = api_factory.build(lusid.AggregationApi)\n",
    "quotes_api = api_factory.build(lusid.QuotesApi)\n",
    "configuration_recipe_api = api_factory.build(lusid.api.ConfigurationRecipeApi)"
   ]
  },
  {
   "cell_type": "code",
   "execution_count": 3,
   "metadata": {},
   "outputs": [],
   "source": [
    "# Defining variables\n",
    "valuation_date = datetime(year=2022, month=3, day=8, tzinfo=pytz.UTC)\n",
    "scope = \"FX_Conversion_NB\"\n",
    "portfolio_code = \"FX_Conversion_NB\""
   ]
  },
  {
   "cell_type": "markdown",
   "metadata": {},
   "source": [
    "## 2. Load Quotes"
   ]
  },
  {
   "cell_type": "markdown",
   "metadata": {},
   "source": [
    "### 2.1 Instrument Value Quotes"
   ]
  },
  {
   "cell_type": "markdown",
   "metadata": {},
   "source": [
    "5 quotes are loaded into the quotes store with associated instrument client internal values."
   ]
  },
  {
   "cell_type": "code",
   "execution_count": 4,
   "metadata": {},
   "outputs": [],
   "source": [
    "values = [20, 50, 100, 75, 60]\n",
    "\n",
    "for i in range(1,6):\n",
    "    quotes_api.upsert_quotes(\n",
    "        scope = scope,\n",
    "        request_body = {f\"quote_{i}\": models.UpsertQuoteRequest(\n",
    "            quote_id=models.QuoteId(\n",
    "                models.QuoteSeriesId(\n",
    "                    provider=\"Lusid\",\n",
    "                    instrument_id=f\"client_internal_{i}\",\n",
    "                    instrument_id_type=\"ClientInternal\",\n",
    "                    quote_type=\"Price\",\n",
    "                    field=\"mid\"\n",
    "                \n",
    "                ),\n",
    "                effective_at = valuation_date\n",
    "            ),\n",
    "            metric_value=models.MetricValue(\n",
    "                value=values[i-1],\n",
    "                unit=\"GBP\"\n",
    "            )\n",
    "        )}\n",
    "        \n",
    "    )"
   ]
  },
  {
   "cell_type": "markdown",
   "metadata": {},
   "source": [
    "### 2.2 FX Rate Quotes"
   ]
  },
  {
   "cell_type": "markdown",
   "metadata": {},
   "source": [
    "FX rates are loaded into the scope."
   ]
  },
  {
   "cell_type": "code",
   "execution_count": 5,
   "metadata": {},
   "outputs": [],
   "source": [
    "def spot_request(from_ccy, to_ccy, rate, valuation_date):\n",
    "            return models.UpsertQuoteRequest(\n",
    "                       quote_id=models.QuoteId(\n",
    "                           models.QuoteSeriesId(\n",
    "                               provider='Lusid',\n",
    "                               instrument_id=f'{from_ccy}/{to_ccy}',\n",
    "                               instrument_id_type='CurrencyPair',\n",
    "                               quote_type='Rate',\n",
    "                               field='mid'\n",
    "                           ),\n",
    "                           effective_at=valuation_date\n",
    "                       ),\n",
    "                       metric_value=models.MetricValue(\n",
    "                           value=rate,\n",
    "                           unit=f'{from_ccy}/{to_ccy}'\n",
    "                       ),\n",
    "                       lineage='None'\n",
    "            )"
   ]
  },
  {
   "cell_type": "markdown",
   "metadata": {},
   "source": [
    "#### JYP/GBP FX Rate Quote"
   ]
  },
  {
   "cell_type": "code",
   "execution_count": 6,
   "metadata": {},
   "outputs": [],
   "source": [
    "response = quotes_api.upsert_quotes(scope=scope,\n",
    "                                   request_body={\"1\": spot_request(\"JPY\", \"GBP\", 0.006618, valuation_date)})\n",
    "\n",
    "# display(lusid_response_to_data_frame(response))"
   ]
  },
  {
   "cell_type": "markdown",
   "metadata": {},
   "source": [
    "#### GBP/USD FX Rate Quote"
   ]
  },
  {
   "cell_type": "code",
   "execution_count": 7,
   "metadata": {},
   "outputs": [],
   "source": [
    "response = quotes_api.upsert_quotes(scope=scope,\n",
    "                                   request_body={\"1\": spot_request(\"GBP\", \"USD\", 1.3106, valuation_date)})\n",
    "\n",
    "# display(lusid_response_to_data_frame(response))"
   ]
  },
  {
   "cell_type": "markdown",
   "metadata": {},
   "source": [
    "#### AUD/USD FX Rate Quote"
   ]
  },
  {
   "cell_type": "code",
   "execution_count": 8,
   "metadata": {},
   "outputs": [],
   "source": [
    "response = quotes_api.upsert_quotes(scope=scope,\n",
    "                                   request_body={\"1\": spot_request(\"AUD\", \"USD\", 0.7319, valuation_date)})\n",
    "\n",
    "# display(lusid_response_to_data_frame(response))"
   ]
  },
  {
   "cell_type": "markdown",
   "metadata": {},
   "source": [
    "## 3. Define Weighted Instruments"
   ]
  },
  {
   "cell_type": "markdown",
   "metadata": {},
   "source": [
    "5 weighted equity instruments are defined and put into a list ready for inline valuation."
   ]
  },
  {
   "cell_type": "code",
   "execution_count": 9,
   "metadata": {},
   "outputs": [],
   "source": [
    "weighted_instruments = []\n",
    "\n",
    "for i in range(1, 6):\n",
    "    weighted_instrument = lusid.WeightedInstrument(\n",
    "        quantity=1,\n",
    "        holding_identifier=f\"client_internal_{i}\",\n",
    "        instrument=models.Equity(\n",
    "            identifiers= lusid.EquityAllOfIdentifiers(\n",
    "                client_internal=f\"client_internal_{i}\",\n",
    "            ),\n",
    "            dom_ccy=\"GBP\",\n",
    "            instrument_type=\"Equity\",\n",
    "        ), \n",
    "    )\n",
    "        \n",
    "    \n",
    "    weighted_instruments.append(weighted_instrument)"
   ]
  },
  {
   "cell_type": "markdown",
   "metadata": {},
   "source": [
    "## 4. Inline Valuation"
   ]
  },
  {
   "cell_type": "markdown",
   "metadata": {},
   "source": [
    "### 4.1 Valuation Recipe"
   ]
  },
  {
   "cell_type": "markdown",
   "metadata": {},
   "source": [
    "An inline valuation is carried out on the weighted instruments with inferred FX rates."
   ]
  },
  {
   "cell_type": "code",
   "execution_count": 10,
   "metadata": {},
   "outputs": [],
   "source": [
    "# Create recipes\n",
    "recipe_scope=\"FX_Conversion_NB\"\n",
    "recipe_code=\"FX_Conversion_NB\"\n",
    "\n",
    "\n",
    "# Create a recipe to perform a valuation\n",
    "configuration_recipe = models.ConfigurationRecipe(\n",
    "    scope=recipe_scope,\n",
    "    code=recipe_code,\n",
    "    market=models.MarketContext(\n",
    "        market_rules=[\n",
    "            # define how to resolve the quotes\n",
    "            models.MarketDataKeyRule(\n",
    "                key=\"Equity.ClientInternal.*\",\n",
    "                supplier=\"Lusid\",\n",
    "                data_scope=scope,\n",
    "                quote_type=\"Price\",\n",
    "                field=\"mid\",\n",
    "            ),\n",
    "            models.MarketDataKeyRule(\n",
    "                key='Fx.CurrencyPair.*',\n",
    "                data_scope=scope,\n",
    "                supplier='Lusid',\n",
    "                quote_type='Rate',\n",
    "                quote_interval='1D.0D',\n",
    "                field=\"mid\"\n",
    "            )\n",
    "        ],\n",
    "        options=models.MarketOptions(\n",
    "            default_supplier=\"Lusid\",\n",
    "            default_instrument_code_type=\"Isin\",\n",
    "            default_scope='Lusid',\n",
    "        ### IMPORTANT ###\n",
    "        # This enables FX rate inference\n",
    "        #------------------------------------\n",
    "            attempt_to_infer_missing_fx=True,\n",
    "#             save_inferred_missing_fx=True,\n",
    "        #------------------------------------\n",
    "        ),\n",
    "    ),\n",
    "    pricing=models.PricingContext(\n",
    "        options={\"AllowPartiallySuccessfulEvaluation\": True},\n",
    "    ),\n",
    ")\n",
    "\n",
    "upsert_configuration_recipe_response = configuration_recipe_api.upsert_configuration_recipe(\n",
    "    upsert_recipe_request=models.UpsertRecipeRequest(\n",
    "        configuration_recipe=configuration_recipe\n",
    "    )\n",
    ")"
   ]
  },
  {
   "cell_type": "markdown",
   "metadata": {},
   "source": [
    "### 4.2 Inline Valuation Request"
   ]
  },
  {
   "cell_type": "code",
   "execution_count": 11,
   "metadata": {},
   "outputs": [],
   "source": [
    "def generate_valuation_request(valuation_effectiveAt, report_currency, instruments):\n",
    "\n",
    "    # Create the valuation request\n",
    "    valuation_request = models.InlineValuationRequest(\n",
    "        recipe_id=models.ResourceId(\n",
    "            scope=recipe_scope, code=recipe_code\n",
    "        ),\n",
    "        metrics=[\n",
    "            models.AggregateSpec(\"Valuation/PvInReportCcy\", \"Value\"),\n",
    "            models.AggregateSpec(\"Valuation/PvInReportCcy/Ccy\", \"Value\"),\n",
    "            models.AggregateSpec(\"Analytic/default/InstrumentTag\", \"Value\"),\n",
    "            models.AggregateSpec(\"Quotes/FxRate/DomReport\", \"Value\"),\n",
    "            models.AggregateSpec(\"Quotes/Price\", \"Value\"),\n",
    "            models.AggregateSpec(\"Quotes/Price/Ccy\", \"Value\")\n",
    "        ],\n",
    "        report_currency = report_currency,\n",
    "        valuation_schedule=models.ValuationSchedule(\n",
    "            effective_at=valuation_effectiveAt.isoformat()\n",
    "        ),\n",
    "        instruments=instruments\n",
    "    )\n",
    "\n",
    "    return valuation_request"
   ]
  },
  {
   "cell_type": "markdown",
   "metadata": {},
   "source": [
    "### 4.3 Inline Valuation in JPY (FX Rate Inversion)"
   ]
  },
  {
   "cell_type": "markdown",
   "metadata": {},
   "source": [
    "The GBP/JPY FX rate has not been explicitly defined and so LUSID inverts the JPY/GBP FX rate via the API call. This functionality was enabled by setting \"attempt_to_infer_missing_fx\" to true in the valuation recipe (see above)."
   ]
  },
  {
   "cell_type": "code",
   "execution_count": 12,
   "metadata": {},
   "outputs": [
    {
     "name": "stdout",
     "output_type": "stream",
     "text": [
      "<class 'lusid.models.list_aggregation_response.ListAggregationResponse'>\n"
     ]
    }
   ],
   "source": [
    "aggregation = aggregation_api.get_valuation_of_weighted_instruments(\n",
    "    inline_valuation_request=generate_valuation_request(\n",
    "        valuation_date, \"JPY\", weighted_instruments\n",
    "    )\n",
    ")\n",
    "\n",
    "output = pd.DataFrame(aggregation.data)\n",
    "output"
   ]
  },
  {
   "cell_type": "markdown",
   "metadata": {},
   "source": [
    "### 4.4 Inline Valuation in AUD (FX Rate Triangulation)"
   ]
  },
  {
   "cell_type": "markdown",
   "metadata": {},
   "source": [
    "The GBP/AUD FX rate has not been explicitly defined and so LUSID triangulates it from the GBP/USD and AUD/USD FX rates. This functionality was enabled by setting \"attempt_to_infer_missing_fx\" to true in the valuation recipe (see above)."
   ]
  },
  {
   "cell_type": "code",
   "execution_count": 13,
   "metadata": {},
   "outputs": [
    {
     "data": {
      "text/html": [
       "<div>\n",
       "<style scoped>\n",
       "    .dataframe tbody tr th:only-of-type {\n",
       "        vertical-align: middle;\n",
       "    }\n",
       "\n",
       "    .dataframe tbody tr th {\n",
       "        vertical-align: top;\n",
       "    }\n",
       "\n",
       "    .dataframe thead th {\n",
       "        text-align: right;\n",
       "    }\n",
       "</style>\n",
       "<table border=\"1\" class=\"dataframe\">\n",
       "  <thead>\n",
       "    <tr style=\"text-align: right;\">\n",
       "      <th></th>\n",
       "      <th>Valuation/PvInReportCcy/Ccy</th>\n",
       "      <th>Valuation/PvInReportCcy</th>\n",
       "      <th>Analytic/default/InstrumentTag</th>\n",
       "      <th>Quotes/FxRate/DomReport</th>\n",
       "      <th>Quotes/Price</th>\n",
       "      <th>Quotes/Price/Ccy</th>\n",
       "    </tr>\n",
       "  </thead>\n",
       "  <tbody>\n",
       "    <tr>\n",
       "      <th>0</th>\n",
       "      <td>AUD</td>\n",
       "      <td>35.813636</td>\n",
       "      <td>client_internal_1</td>\n",
       "      <td>1.790682</td>\n",
       "      <td>20.0</td>\n",
       "      <td>GBP</td>\n",
       "    </tr>\n",
       "    <tr>\n",
       "      <th>1</th>\n",
       "      <td>AUD</td>\n",
       "      <td>89.534089</td>\n",
       "      <td>client_internal_2</td>\n",
       "      <td>1.790682</td>\n",
       "      <td>50.0</td>\n",
       "      <td>GBP</td>\n",
       "    </tr>\n",
       "    <tr>\n",
       "      <th>2</th>\n",
       "      <td>AUD</td>\n",
       "      <td>179.068179</td>\n",
       "      <td>client_internal_3</td>\n",
       "      <td>1.790682</td>\n",
       "      <td>100.0</td>\n",
       "      <td>GBP</td>\n",
       "    </tr>\n",
       "    <tr>\n",
       "      <th>3</th>\n",
       "      <td>AUD</td>\n",
       "      <td>134.301134</td>\n",
       "      <td>client_internal_4</td>\n",
       "      <td>1.790682</td>\n",
       "      <td>75.0</td>\n",
       "      <td>GBP</td>\n",
       "    </tr>\n",
       "    <tr>\n",
       "      <th>4</th>\n",
       "      <td>AUD</td>\n",
       "      <td>107.440907</td>\n",
       "      <td>client_internal_5</td>\n",
       "      <td>1.790682</td>\n",
       "      <td>60.0</td>\n",
       "      <td>GBP</td>\n",
       "    </tr>\n",
       "  </tbody>\n",
       "</table>\n",
       "</div>"
      ],
      "text/plain": [
       "  Valuation/PvInReportCcy/Ccy  Valuation/PvInReportCcy  \\\n",
       "0                         AUD                35.813636   \n",
       "1                         AUD                89.534089   \n",
       "2                         AUD               179.068179   \n",
       "3                         AUD               134.301134   \n",
       "4                         AUD               107.440907   \n",
       "\n",
       "  Analytic/default/InstrumentTag  Quotes/FxRate/DomReport  Quotes/Price  \\\n",
       "0              client_internal_1                 1.790682          20.0   \n",
       "1              client_internal_2                 1.790682          50.0   \n",
       "2              client_internal_3                 1.790682         100.0   \n",
       "3              client_internal_4                 1.790682          75.0   \n",
       "4              client_internal_5                 1.790682          60.0   \n",
       "\n",
       "  Quotes/Price/Ccy  \n",
       "0              GBP  \n",
       "1              GBP  \n",
       "2              GBP  \n",
       "3              GBP  \n",
       "4              GBP  "
      ]
     },
     "execution_count": 13,
     "metadata": {},
     "output_type": "execute_result"
    }
   ],
   "source": [
    "aggregation = aggregation_api.get_valuation_of_weighted_instruments(\n",
    "    inline_valuation_request=generate_valuation_request(\n",
    "        valuation_date, \"AUD\", weighted_instruments\n",
    "    )\n",
    ")\n",
    "\n",
    "output = pd.DataFrame(aggregation.data)\n",
    "output"
   ]
  }
 ],
 "metadata": {
  "kernelspec": {
   "display_name": "Python 3 (ipykernel)",
   "language": "python",
   "name": "python3"
  },
  "language_info": {
   "codemirror_mode": {
    "name": "ipython",
    "version": 3
   },
   "file_extension": ".py",
   "mimetype": "text/x-python",
   "name": "python",
   "nbconvert_exporter": "python",
   "pygments_lexer": "ipython3",
   "version": "3.9.7"
  }
 },
 "nbformat": 4,
 "nbformat_minor": 2
}
