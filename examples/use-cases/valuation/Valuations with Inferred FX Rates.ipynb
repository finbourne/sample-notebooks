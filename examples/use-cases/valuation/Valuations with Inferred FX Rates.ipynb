{
 "cells": [
  {
   "cell_type": "markdown",
   "metadata": {
    "pycharm": {
     "name": "#%% md\n"
    }
   },
   "source": [
    "# Valuation with Inferred FX Rates\n",
    "\n",
    "This notebooks shows how to value a portfolio using recipes with FX rates inferred and not explicitly loaded into the quotes store.\n",
    "\n",
    "- Instruments are priced in GBP.\n",
    "- LUSID performs a valuation in JPY by inverting the provided JPY/GBP FX rate.\n",
    "- LUSID then performs a valuation in AUD by triangulating the provided GBP/USD and AUD/USD FX rates.\n"
   ]
  },
  {
   "cell_type": "markdown",
   "metadata": {},
   "source": [
    "## 1. Setup LUSID"
   ]
  },
  {
   "cell_type": "code",
   "execution_count": 1,
   "metadata": {},
   "outputs": [],
   "source": [
    "# Import lusid specific packages\n",
    "# These are the core lusid packages for interacting with the API via Python\n",
    "import lusid\n",
    "import lusid.models as models\n",
    "from lusidjam.refreshing_token import RefreshingToken\n",
    "from lusidtools.pandas_utils.lusid_pandas import lusid_response_to_data_frame\n",
    "import fbnsdkutilities.utilities as utils\n",
    "\n",
    "import os\n",
    "import pandas as pd\n",
    "import json\n",
    "import pytz\n",
    "from datetime import datetime\n",
    "\n",
    "pd.set_option(\"display.max_columns\", None)\n",
    "\n",
    "# Authenticate our user and create our API client\n",
    "secrets_path = os.getenv(\"FBN_SECRETS_PATH\")\n",
    "\n",
    "# Initiate an API Factory which is the client side object for interacting with LUSID APIs\n",
    "api_factory = utils.ApiClientFactory(\n",
    "    lusid,\n",
    "    token=RefreshingToken(),\n",
    "    api_secrets_filename=secrets_path,\n",
    "    app_name=\"LusidJupyterNotebook\",\n",
    ")"
   ]
  },
  {
   "cell_type": "code",
   "execution_count": 2,
   "metadata": {},
   "outputs": [],
   "source": [
    "# define the apis\n",
    "aggregation_api = api_factory.build(lusid.AggregationApi)\n",
    "quotes_api = api_factory.build(lusid.QuotesApi)\n",
    "configuration_recipe_api = api_factory.build(lusid.api.ConfigurationRecipeApi)\n",
    "instruments_api = api_factory.build(lusid.InstrumentsApi)\n",
    "transaction_portfolios_api = api_factory.build(lusid.TransactionPortfoliosApi)"
   ]
  },
  {
   "cell_type": "code",
   "execution_count": 3,
   "metadata": {},
   "outputs": [],
   "source": [
    "# Defining variables\n",
    "valuation_date = datetime(year=2022, month=3, day=8, tzinfo=pytz.UTC)\n",
    "valuation_date_later = datetime(year=2022, month=3, day=8, minute=1, tzinfo=pytz.UTC)\n",
    "scope = \"FX_Conversion_NB\"\n",
    "portfolio_code = \"FX_Conversion_NB\""
   ]
  },
  {
   "cell_type": "markdown",
   "metadata": {},
   "source": [
    "## 2. Create Portfolio"
   ]
  },
  {
   "cell_type": "code",
   "execution_count": 4,
   "metadata": {},
   "outputs": [
    {
     "name": "stdout",
     "output_type": "stream",
     "text": [
      "Could not create a portfolio with id 'FX_Conversion_NB' because it already exists in scope 'FX_Conversion_NB'.\n"
     ]
    }
   ],
   "source": [
    "try: \n",
    "    transaction_portfolios_api.create_portfolio(\n",
    "        scope=scope,\n",
    "        create_transaction_portfolio_request=models.CreateTransactionPortfolioRequest(\n",
    "            display_name=\"FX_Conversion_NB\",\n",
    "            code=portfolio_code,\n",
    "            created=\"2020-01-01T00:00:00+00:00\",\n",
    "            base_currency=\"GBP\"\n",
    "        )\n",
    "    )\n",
    "    \n",
    "except lusid.ApiException as e:\n",
    "    print(json.loads(e.body)[\"title\"])"
   ]
  },
  {
   "cell_type": "markdown",
   "metadata": {},
   "source": [
    "## 3. Load Instruments"
   ]
  },
  {
   "cell_type": "markdown",
   "metadata": {},
   "source": [
    "Create 5 instruments with unique 'ClientInternal' identifiers."
   ]
  },
  {
   "cell_type": "code",
   "execution_count": 5,
   "metadata": {},
   "outputs": [],
   "source": [
    "for i in range(1, 6):\n",
    "    instrument_body = models.InstrumentDefinition(\n",
    "        name=f\"instrument_{i}\",\n",
    "        identifiers={\"ClientInternal\": models.InstrumentIdValue(value=f\"client_internal_{i}\")}\n",
    "    )\n",
    "    \n",
    "    reponse = instruments_api.upsert_instruments(\n",
    "        request_body={\n",
    "            \"request_id_1\": instrument_body\n",
    "        }\n",
    "    )"
   ]
  },
  {
   "cell_type": "markdown",
   "metadata": {},
   "source": [
    "## 4. Load Quotes"
   ]
  },
  {
   "cell_type": "markdown",
   "metadata": {},
   "source": [
    "### 4.1 Instrument Value Quotes"
   ]
  },
  {
   "cell_type": "markdown",
   "metadata": {},
   "source": [
    "Load a selection of prices for the 5 instruments into the quotes store with the same 'ClientInternal' identifiers as those of the instruments created."
   ]
  },
  {
   "cell_type": "code",
   "execution_count": 6,
   "metadata": {},
   "outputs": [],
   "source": [
    "values = [20, 50, 100, 75, 50]\n",
    "\n",
    "for i in range(1, 6):\n",
    "    quotes_api.upsert_quotes(\n",
    "        scope = scope,\n",
    "        request_body = {f\"quote_{i}\": models.UpsertQuoteRequest(\n",
    "            quote_id=models.QuoteId(\n",
    "                models.QuoteSeriesId(\n",
    "                    provider=\"Lusid\",\n",
    "                    instrument_id=f\"client_internal_{i}\",\n",
    "                    instrument_id_type=\"ClientInternal\",\n",
    "                    quote_type=\"Price\",\n",
    "                    field=\"mid\"\n",
    "                \n",
    "                ),\n",
    "                effective_at = valuation_date.isoformat()\n",
    "            ),\n",
    "            metric_value=models.MetricValue(\n",
    "                value=values[i-1],\n",
    "                unit=\"GBP\"\n",
    "            )\n",
    "        )}\n",
    "        \n",
    "    )"
   ]
  },
  {
   "cell_type": "markdown",
   "metadata": {},
   "source": [
    "### 4.2 FX Rate Quotes"
   ]
  },
  {
   "cell_type": "markdown",
   "metadata": {},
   "source": [
    "Load FX rates required for FX rate inference into the quotes store."
   ]
  },
  {
   "cell_type": "code",
   "execution_count": 7,
   "metadata": {},
   "outputs": [],
   "source": [
    "def spot_request(from_ccy, to_ccy, rate, valuation_date):\n",
    "            return models.UpsertQuoteRequest(\n",
    "                       quote_id=models.QuoteId(\n",
    "                           models.QuoteSeriesId(\n",
    "                               provider='Lusid',\n",
    "                               instrument_id=f'{from_ccy}/{to_ccy}',\n",
    "                               instrument_id_type='CurrencyPair',\n",
    "                               quote_type='Rate',\n",
    "                               field='mid'\n",
    "                           ),\n",
    "                           effective_at=valuation_date.isoformat()\n",
    "                       ),\n",
    "                       metric_value=models.MetricValue(\n",
    "                           value=rate,\n",
    "                           unit=f'{from_ccy}/{to_ccy}'\n",
    "                       ),\n",
    "                       lineage='None'\n",
    "            )"
   ]
  },
  {
   "cell_type": "markdown",
   "metadata": {},
   "source": [
    "#### JYP/GBP FX Rate Quote"
   ]
  },
  {
   "cell_type": "markdown",
   "metadata": {},
   "source": [
    "Load JPY/GBP FX rate into the quotes store for the valuation date."
   ]
  },
  {
   "cell_type": "code",
   "execution_count": 8,
   "metadata": {},
   "outputs": [],
   "source": [
    "response = quotes_api.upsert_quotes(scope=scope,\n",
    "                                   request_body={\"1\": spot_request(\"JPY\", \"GBP\", 0.006618, valuation_date)})\n",
    "\n",
    "# display(lusid_response_to_data_frame(response))"
   ]
  },
  {
   "cell_type": "markdown",
   "metadata": {},
   "source": [
    "#### GBP/USD FX Rate Quote"
   ]
  },
  {
   "cell_type": "markdown",
   "metadata": {},
   "source": [
    "Load GBP/USD FX rate into the quotes store for the valuation date."
   ]
  },
  {
   "cell_type": "code",
   "execution_count": 9,
   "metadata": {},
   "outputs": [],
   "source": [
    "response = quotes_api.upsert_quotes(scope=scope,\n",
    "                                   request_body={\"1\": spot_request(\"GBP\", \"USD\", 1.3106, valuation_date)})\n",
    "\n",
    "# display(lusid_response_to_data_frame(response))"
   ]
  },
  {
   "cell_type": "markdown",
   "metadata": {},
   "source": [
    "#### AUD/USD FX Rate Quote"
   ]
  },
  {
   "cell_type": "markdown",
   "metadata": {},
   "source": [
    "Load AUD/USD FX rate into the quotes store for the valuation date."
   ]
  },
  {
   "cell_type": "code",
   "execution_count": 10,
   "metadata": {},
   "outputs": [],
   "source": [
    "response = quotes_api.upsert_quotes(scope=scope,\n",
    "                                   request_body={\"1\": spot_request(\"AUD\", \"USD\", 0.7319, valuation_date_later)})\n",
    "\n",
    "# display(lusid_response_to_data_frame(response))"
   ]
  },
  {
   "cell_type": "markdown",
   "metadata": {},
   "source": [
    "## 5. Set Holdings"
   ]
  },
  {
   "cell_type": "markdown",
   "metadata": {},
   "source": [
    "Set holdings of 1 unit for each of the 5 instruments in the portfolio."
   ]
  },
  {
   "cell_type": "code",
   "execution_count": 11,
   "metadata": {},
   "outputs": [],
   "source": [
    "for i in range(1, 6):\n",
    "    response = transaction_portfolios_api.adjust_holdings(\n",
    "        scope = scope,\n",
    "        code = portfolio_code,\n",
    "        effective_at = valuation_date,\n",
    "        adjust_holding_request = [\n",
    "            models.AdjustHoldingRequest(\n",
    "                instrument_identifiers={\n",
    "                    \"instrument/default/ClientInternal\": f\"client_internal_{i}\"\n",
    "                },\n",
    "                tax_lots= [\n",
    "                    models.TargetTaxLotRequest(\n",
    "                        units=1\n",
    "                    )\n",
    "                ]\n",
    "            )\n",
    "        ]\n",
    "    )"
   ]
  },
  {
   "cell_type": "markdown",
   "metadata": {},
   "source": [
    "## 6. Valuation"
   ]
  },
  {
   "cell_type": "markdown",
   "metadata": {},
   "source": [
    "Complete a valuation on the instruments with inferred FX rates."
   ]
  },
  {
   "cell_type": "markdown",
   "metadata": {},
   "source": [
    "### 6.1 Valuation Recipe"
   ]
  },
  {
   "cell_type": "markdown",
   "metadata": {},
   "source": [
    "Define a valuation recipe to use the quotes loaded into the quotes store. \n",
    "\n",
    "*** Important *** - The attempt_to_infer_missing_fx option is set to True on line 36 below enabling LUSID to attempt to determine missing FX rates from rates in the quotes store."
   ]
  },
  {
   "cell_type": "code",
   "execution_count": 12,
   "metadata": {},
   "outputs": [],
   "source": [
    "# Create recipes\n",
    "recipe_scope=\"FX_Conversion_NB\"\n",
    "recipe_code=\"FX_Conversion_NB\"\n",
    "\n",
    "\n",
    "# Create a recipe to perform a valuation\n",
    "configuration_recipe = models.ConfigurationRecipe(\n",
    "    scope=recipe_scope,\n",
    "    code=recipe_code,\n",
    "    market=models.MarketContext(\n",
    "        market_rules=[\n",
    "            # define how to resolve the quotes\n",
    "            models.MarketDataKeyRule(\n",
    "                key=\"Equity.ClientInternal.*\",\n",
    "                supplier=\"Lusid\",\n",
    "                data_scope=scope,\n",
    "                quote_type=\"Price\",\n",
    "                field=\"mid\",\n",
    "            ),\n",
    "            models.MarketDataKeyRule(\n",
    "                key='Fx.CurrencyPair.*',\n",
    "                data_scope=scope,\n",
    "                supplier='Lusid',\n",
    "                quote_type='Rate',\n",
    "                quote_interval='1D.0D',\n",
    "                field=\"mid\"\n",
    "            )\n",
    "        ],\n",
    "        options=models.MarketOptions(\n",
    "            default_supplier=\"Lusid\",\n",
    "            default_instrument_code_type=\"Isin\",\n",
    "            default_scope='Lusid',\n",
    "        ### IMPORTANT ###\n",
    "        # This enables FX rate inference\n",
    "        #------------------------------------\n",
    "            attempt_to_infer_missing_fx=True,\n",
    "#             save_inferred_missing_fx=True,\n",
    "        #------------------------------------\n",
    "        ),\n",
    "    ),\n",
    "    pricing=models.PricingContext(\n",
    "        options={\"AllowPartiallySuccessfulEvaluation\": True},\n",
    "    ),\n",
    ")\n",
    "\n",
    "upsert_configuration_recipe_response = configuration_recipe_api.upsert_configuration_recipe(\n",
    "    upsert_recipe_request=models.UpsertRecipeRequest(\n",
    "        configuration_recipe=configuration_recipe\n",
    "    )\n",
    ")"
   ]
  },
  {
   "cell_type": "markdown",
   "metadata": {},
   "source": [
    "### 6.2 Valuation Request"
   ]
  },
  {
   "cell_type": "markdown",
   "metadata": {},
   "source": [
    "Create valuation requests for the holdings with JPY & AUD report currencies (no explicit FX rates from GBP to these in the quotes store). "
   ]
  },
  {
   "cell_type": "code",
   "execution_count": 13,
   "metadata": {},
   "outputs": [],
   "source": [
    "def generate_valuation_request(valuation_effectiveAt: datetime, report_currency: str):\n",
    "\n",
    "    # Create the valuation request\n",
    "    valuation_request = models.ValuationRequest(\n",
    "        recipe_id=models.ResourceId(\n",
    "            scope=recipe_scope, code=recipe_code\n",
    "        ),\n",
    "        metrics=[\n",
    "            models.AggregateSpec(\"Instrument/default/Name\", \"Value\"),\n",
    "            models.AggregateSpec(\"Valuation/PvInReportCcy\", \"Value\"),\n",
    "            models.AggregateSpec(\"Valuation/PvInReportCcy/Ccy\", \"Value\"),\n",
    "            models.AggregateSpec(\"Valuation/PvInPortfolioCcy\", \"Value\"),\n",
    "            models.AggregateSpec(\"Valuation/PvInPortfolioCcy/Ccy\", \"Value\"),\n",
    "            models.AggregateSpec(\"Valuation/PvInReportCcy\", \"Proportion\"),\n",
    "            models.AggregateSpec(\"Holding/Units\", \"Value\"),\n",
    "            models.AggregateSpec(\"Aggregation/Errors\", \"Value\"),\n",
    "        ],\n",
    "        group_by=[\"Instrument/default/Name\"],\n",
    "        report_currency = report_currency,\n",
    "        portfolio_entity_ids=[\n",
    "            models.PortfolioEntityId(scope=scope, code=portfolio_code)\n",
    "        ],\n",
    "        valuation_schedule=models.ValuationSchedule(\n",
    "            effective_at=valuation_effectiveAt.isoformat()\n",
    "        ),\n",
    "    )\n",
    "\n",
    "    return valuation_request"
   ]
  },
  {
   "cell_type": "markdown",
   "metadata": {},
   "source": [
    "### 6.3 Valuation - Infering FX Rate - Inversion"
   ]
  },
  {
   "cell_type": "markdown",
   "metadata": {},
   "source": [
    "The explicit GBP/JPY FX rate does not exist in the quotes store and so LUSID inverts the JPY/GBP FX rate via the API call. This functionality is enabled by setting \"attempt_to_infer_missing_fx\" to true in the valuation recipe (see above)."
   ]
  },
  {
   "cell_type": "code",
   "execution_count": 14,
   "metadata": {},
   "outputs": [
    {
     "data": {
      "text/html": [
       "<div>\n",
       "<style scoped>\n",
       "    .dataframe tbody tr th:only-of-type {\n",
       "        vertical-align: middle;\n",
       "    }\n",
       "\n",
       "    .dataframe tbody tr th {\n",
       "        vertical-align: top;\n",
       "    }\n",
       "\n",
       "    .dataframe thead th {\n",
       "        text-align: right;\n",
       "    }\n",
       "</style>\n",
       "<table border=\"1\" class=\"dataframe\">\n",
       "  <thead>\n",
       "    <tr style=\"text-align: right;\">\n",
       "      <th></th>\n",
       "      <th>Valuation/PvInReportCcy/Ccy</th>\n",
       "      <th>Valuation/PvInPortfolioCcy/Ccy</th>\n",
       "      <th>Instrument/default/Name</th>\n",
       "      <th>Valuation/PvInReportCcy</th>\n",
       "      <th>Valuation/PvInPortfolioCcy</th>\n",
       "      <th>Proportion(Valuation/PvInReportCcy)</th>\n",
       "      <th>Holding/Units</th>\n",
       "      <th>Aggregation/Errors</th>\n",
       "    </tr>\n",
       "  </thead>\n",
       "  <tbody>\n",
       "    <tr>\n",
       "      <th>0</th>\n",
       "      <td>JPY</td>\n",
       "      <td>GBP</td>\n",
       "      <td>instrument_5</td>\n",
       "      <td>7555.152614</td>\n",
       "      <td>50.0</td>\n",
       "      <td>0.169492</td>\n",
       "      <td>1.0</td>\n",
       "      <td>[]</td>\n",
       "    </tr>\n",
       "    <tr>\n",
       "      <th>1</th>\n",
       "      <td>JPY</td>\n",
       "      <td>GBP</td>\n",
       "      <td>instrument_4</td>\n",
       "      <td>11332.728921</td>\n",
       "      <td>75.0</td>\n",
       "      <td>0.254237</td>\n",
       "      <td>1.0</td>\n",
       "      <td>[]</td>\n",
       "    </tr>\n",
       "    <tr>\n",
       "      <th>2</th>\n",
       "      <td>JPY</td>\n",
       "      <td>GBP</td>\n",
       "      <td>instrument_3</td>\n",
       "      <td>15110.305228</td>\n",
       "      <td>100.0</td>\n",
       "      <td>0.338983</td>\n",
       "      <td>1.0</td>\n",
       "      <td>[]</td>\n",
       "    </tr>\n",
       "    <tr>\n",
       "      <th>3</th>\n",
       "      <td>JPY</td>\n",
       "      <td>GBP</td>\n",
       "      <td>instrument_2</td>\n",
       "      <td>7555.152614</td>\n",
       "      <td>50.0</td>\n",
       "      <td>0.169492</td>\n",
       "      <td>1.0</td>\n",
       "      <td>[]</td>\n",
       "    </tr>\n",
       "    <tr>\n",
       "      <th>4</th>\n",
       "      <td>JPY</td>\n",
       "      <td>GBP</td>\n",
       "      <td>instrument_1</td>\n",
       "      <td>3022.061046</td>\n",
       "      <td>20.0</td>\n",
       "      <td>0.067797</td>\n",
       "      <td>1.0</td>\n",
       "      <td>[]</td>\n",
       "    </tr>\n",
       "  </tbody>\n",
       "</table>\n",
       "</div>"
      ],
      "text/plain": [
       "  Valuation/PvInReportCcy/Ccy Valuation/PvInPortfolioCcy/Ccy   \n",
       "0                         JPY                            GBP  \\\n",
       "1                         JPY                            GBP   \n",
       "2                         JPY                            GBP   \n",
       "3                         JPY                            GBP   \n",
       "4                         JPY                            GBP   \n",
       "\n",
       "  Instrument/default/Name  Valuation/PvInReportCcy   \n",
       "0            instrument_5              7555.152614  \\\n",
       "1            instrument_4             11332.728921   \n",
       "2            instrument_3             15110.305228   \n",
       "3            instrument_2              7555.152614   \n",
       "4            instrument_1              3022.061046   \n",
       "\n",
       "   Valuation/PvInPortfolioCcy  Proportion(Valuation/PvInReportCcy)   \n",
       "0                        50.0                             0.169492  \\\n",
       "1                        75.0                             0.254237   \n",
       "2                       100.0                             0.338983   \n",
       "3                        50.0                             0.169492   \n",
       "4                        20.0                             0.067797   \n",
       "\n",
       "   Holding/Units Aggregation/Errors  \n",
       "0            1.0                 []  \n",
       "1            1.0                 []  \n",
       "2            1.0                 []  \n",
       "3            1.0                 []  \n",
       "4            1.0                 []  "
      ]
     },
     "execution_count": 14,
     "metadata": {},
     "output_type": "execute_result"
    }
   ],
   "source": [
    "aggregation = aggregation_api.get_valuation(\n",
    "    valuation_request=generate_valuation_request(\n",
    "        valuation_date, \"JPY\"\n",
    "    )\n",
    ")\n",
    "\n",
    "output = pd.DataFrame(aggregation.data)\n",
    "output"
   ]
  },
  {
   "cell_type": "markdown",
   "metadata": {},
   "source": [
    "### 6.4 Valuation - Infering FX Rate - Triangulation"
   ]
  },
  {
   "cell_type": "markdown",
   "metadata": {},
   "source": [
    "The explicit GBP/AUD FX rate does not exist in the quotes store and so LUSID triangulates it from the GBP/USD and AUD/USD FX rates. This functionality is enabled by setting \"attempt_to_infer_missing_fx\" to true in the valuation recipe (see above)."
   ]
  },
  {
   "cell_type": "code",
   "execution_count": 15,
   "metadata": {},
   "outputs": [
    {
     "data": {
      "text/html": [
       "<div>\n",
       "<style scoped>\n",
       "    .dataframe tbody tr th:only-of-type {\n",
       "        vertical-align: middle;\n",
       "    }\n",
       "\n",
       "    .dataframe tbody tr th {\n",
       "        vertical-align: top;\n",
       "    }\n",
       "\n",
       "    .dataframe thead th {\n",
       "        text-align: right;\n",
       "    }\n",
       "</style>\n",
       "<table border=\"1\" class=\"dataframe\">\n",
       "  <thead>\n",
       "    <tr style=\"text-align: right;\">\n",
       "      <th></th>\n",
       "      <th>Valuation/PvInReportCcy/Ccy</th>\n",
       "      <th>Valuation/PvInPortfolioCcy/Ccy</th>\n",
       "      <th>Instrument/default/Name</th>\n",
       "      <th>Valuation/PvInReportCcy</th>\n",
       "      <th>Valuation/PvInPortfolioCcy</th>\n",
       "      <th>Proportion(Valuation/PvInReportCcy)</th>\n",
       "      <th>Holding/Units</th>\n",
       "      <th>Aggregation/Errors</th>\n",
       "    </tr>\n",
       "  </thead>\n",
       "  <tbody>\n",
       "    <tr>\n",
       "      <th>0</th>\n",
       "      <td>AUD</td>\n",
       "      <td>GBP</td>\n",
       "      <td>instrument_5</td>\n",
       "      <td>89.534089</td>\n",
       "      <td>50.0</td>\n",
       "      <td>0.169492</td>\n",
       "      <td>1.0</td>\n",
       "      <td>[]</td>\n",
       "    </tr>\n",
       "    <tr>\n",
       "      <th>1</th>\n",
       "      <td>AUD</td>\n",
       "      <td>GBP</td>\n",
       "      <td>instrument_4</td>\n",
       "      <td>134.301134</td>\n",
       "      <td>75.0</td>\n",
       "      <td>0.254237</td>\n",
       "      <td>1.0</td>\n",
       "      <td>[]</td>\n",
       "    </tr>\n",
       "    <tr>\n",
       "      <th>2</th>\n",
       "      <td>AUD</td>\n",
       "      <td>GBP</td>\n",
       "      <td>instrument_3</td>\n",
       "      <td>179.068179</td>\n",
       "      <td>100.0</td>\n",
       "      <td>0.338983</td>\n",
       "      <td>1.0</td>\n",
       "      <td>[]</td>\n",
       "    </tr>\n",
       "    <tr>\n",
       "      <th>3</th>\n",
       "      <td>AUD</td>\n",
       "      <td>GBP</td>\n",
       "      <td>instrument_2</td>\n",
       "      <td>89.534089</td>\n",
       "      <td>50.0</td>\n",
       "      <td>0.169492</td>\n",
       "      <td>1.0</td>\n",
       "      <td>[]</td>\n",
       "    </tr>\n",
       "    <tr>\n",
       "      <th>4</th>\n",
       "      <td>AUD</td>\n",
       "      <td>GBP</td>\n",
       "      <td>instrument_1</td>\n",
       "      <td>35.813636</td>\n",
       "      <td>20.0</td>\n",
       "      <td>0.067797</td>\n",
       "      <td>1.0</td>\n",
       "      <td>[]</td>\n",
       "    </tr>\n",
       "  </tbody>\n",
       "</table>\n",
       "</div>"
      ],
      "text/plain": [
       "  Valuation/PvInReportCcy/Ccy Valuation/PvInPortfolioCcy/Ccy   \n",
       "0                         AUD                            GBP  \\\n",
       "1                         AUD                            GBP   \n",
       "2                         AUD                            GBP   \n",
       "3                         AUD                            GBP   \n",
       "4                         AUD                            GBP   \n",
       "\n",
       "  Instrument/default/Name  Valuation/PvInReportCcy   \n",
       "0            instrument_5                89.534089  \\\n",
       "1            instrument_4               134.301134   \n",
       "2            instrument_3               179.068179   \n",
       "3            instrument_2                89.534089   \n",
       "4            instrument_1                35.813636   \n",
       "\n",
       "   Valuation/PvInPortfolioCcy  Proportion(Valuation/PvInReportCcy)   \n",
       "0                        50.0                             0.169492  \\\n",
       "1                        75.0                             0.254237   \n",
       "2                       100.0                             0.338983   \n",
       "3                        50.0                             0.169492   \n",
       "4                        20.0                             0.067797   \n",
       "\n",
       "   Holding/Units Aggregation/Errors  \n",
       "0            1.0                 []  \n",
       "1            1.0                 []  \n",
       "2            1.0                 []  \n",
       "3            1.0                 []  \n",
       "4            1.0                 []  "
      ]
     },
     "execution_count": 15,
     "metadata": {},
     "output_type": "execute_result"
    }
   ],
   "source": [
    "aggregation = aggregation_api.get_valuation(\n",
    "    valuation_request=generate_valuation_request(\n",
    "        valuation_date_later, \"AUD\"\n",
    "    )\n",
    ")\n",
    "\n",
    "output = pd.DataFrame(aggregation.data)\n",
    "output"
   ]
  }
 ],
 "metadata": {
  "kernelspec": {
   "display_name": "Python 3 (ipykernel)",
   "language": "python",
   "name": "python3"
  },
  "language_info": {
   "codemirror_mode": {
    "name": "ipython",
    "version": 3
   },
   "file_extension": ".py",
   "mimetype": "text/x-python",
   "name": "python",
   "nbconvert_exporter": "python",
   "pygments_lexer": "ipython3",
   "version": "3.10.10"
  },
  "vscode": {
   "interpreter": {
    "hash": "2631b36fd78b5e9ba2bda367fd8deaf1b7c0a55746e49610a3543f723e389a55"
   }
  }
 },
 "nbformat": 4,
 "nbformat_minor": 4
}
