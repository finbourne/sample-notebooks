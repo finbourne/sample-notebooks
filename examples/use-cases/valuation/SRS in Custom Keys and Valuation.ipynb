{
 "cells": [
  {
   "cell_type": "markdown",
   "id": "3ed1c6a1",
   "metadata": {},
   "source": [
    "## Configuring SRS\n",
    "In this example we demonstrate the configuration SRS (structured result data) you can upsert any valid content, but the SRS is designed to store external result data that can feed into LUSID valuation operations. "
   ]
  },
  {
   "cell_type": "markdown",
   "id": "ff67e09e",
   "metadata": {},
   "source": [
    "## Imports"
   ]
  },
  {
   "cell_type": "code",
   "execution_count": 9,
   "id": "dc03b889",
   "metadata": {
    "ExecuteTime": {
     "end_time": "2024-02-02T09:02:21.584428Z",
     "start_time": "2024-02-02T09:02:19.710511Z"
    }
   },
   "outputs": [
    {
     "data": {
      "text/html": [
       "<style>.container { width:90% !important; }</style>"
      ],
      "text/plain": [
       "<IPython.core.display.HTML object>"
      ]
     },
     "metadata": {},
     "output_type": "display_data"
    },
    {
     "data": {
      "text/html": [
       "<div>\n",
       "<style scoped>\n",
       "    .dataframe tbody tr th:only-of-type {\n",
       "        vertical-align: middle;\n",
       "    }\n",
       "\n",
       "    .dataframe tbody tr th {\n",
       "        vertical-align: top;\n",
       "    }\n",
       "\n",
       "    .dataframe thead th {\n",
       "        text-align: right;\n",
       "    }\n",
       "</style>\n",
       "<table border=\"1\" class=\"dataframe\">\n",
       "  <thead>\n",
       "    <tr style=\"text-align: right;\">\n",
       "      <th></th>\n",
       "      <th>api_version</th>\n",
       "      <th>build_version</th>\n",
       "      <th>excel_version</th>\n",
       "      <th>links</th>\n",
       "    </tr>\n",
       "  </thead>\n",
       "  <tbody>\n",
       "    <tr>\n",
       "      <th>0</th>\n",
       "      <td>v0</td>\n",
       "      <td>0.6.12546.0</td>\n",
       "      <td>0.5.3481</td>\n",
       "      <td>{'relation': 'RequestLogs', 'href': 'https://f...</td>\n",
       "    </tr>\n",
       "  </tbody>\n",
       "</table>\n",
       "</div>"
      ],
      "text/plain": [
       "  api_version build_version excel_version  \\\n",
       "0          v0   0.6.12546.0      0.5.3481   \n",
       "\n",
       "                                               links  \n",
       "0  {'relation': 'RequestLogs', 'href': 'https://f...  "
      ]
     },
     "metadata": {},
     "output_type": "display_data"
    }
   ],
   "source": [
    "\n",
    "import io\n",
    "import os\n",
    "import pandas as pd\n",
    "pd.options.mode.chained_assignment = None\n",
    "import json\n",
    "import pytz\n",
    "from IPython.core.display import HTML\n",
    "from datetime import datetime\n",
    "\n",
    "# Then import the key modules from the LUSID package (i.e. The LUSID SDK)\n",
    "import lusid\n",
    "import lusid as lu\n",
    "import lusid.api as la\n",
    "import lusid.models as lm\n",
    "from lusidtools.pandas_utils.lusid_pandas import lusid_response_to_data_frame\n",
    "\n",
    "# And use absolute imports to import key functions from Lusid-Python-Tools and other helper package\n",
    "\n",
    "from lusid.utilities import ApiClientFactory\n",
    "from lusidjam import RefreshingToken\n",
    "\n",
    "\n",
    "# Set DataFrame display formats\n",
    "pd.set_option(\"display.max_columns\", None)\n",
    "pd.set_option(\"display.max_rows\", None)\n",
    "pd.options.display.float_format = \"{:.2f}\".format\n",
    "display(HTML(\"<style>.container { width:90% !important; }</style>\"))\n",
    "\n",
    "# Authenticate our user and create our API client\n",
    "secrets_path = os.getenv(\"FBN_SECRETS_PATH\")\n",
    "\n",
    "if secrets_path is None:\n",
    "    secrets_path = os.path.join(os.path.dirname(os.getcwd()), \"secrets.json\")\n",
    "\n",
    "api_factory = ApiClientFactory(\n",
    "    token=RefreshingToken(),\n",
    "    api_secrets_filename=secrets_path,\n",
    "    app_name=\"LusidJupyterNotebook\",\n",
    ")\n",
    "\n",
    "api_status = pd.DataFrame(\n",
    "    api_factory.build(lu.ApplicationMetadataApi).get_lusid_versions().to_dict()\n",
    ")\n",
    "\n",
    "display(api_status)"
   ]
  },
  {
   "cell_type": "markdown",
   "id": "8cdf3b52",
   "metadata": {},
   "source": [
    "# Setup\n",
    "\n",
    "We must first set up some parameters and initialize the LUSID APIs. Then we will upload the instruments master, create the properties and portfolios and finally upload the holdings."
   ]
  },
  {
   "cell_type": "code",
   "execution_count": 10,
   "id": "2621719b",
   "metadata": {
    "ExecuteTime": {
     "end_time": "2024-02-02T09:05:33.931824Z",
     "start_time": "2024-02-02T09:05:33.898519Z"
    }
   },
   "outputs": [],
   "source": [
    "scope = \"srs-demo-feb-2024\"\n",
    "test_bond_client_internal1 = \"XS1698906259\"\n",
    "test_bond_client_internal2 = \"XS2062820290\"\n",
    "test_bond_client_internal3 = \"XS2163089563\"\n",
    "\n",
    "portfolio_code = \"SRS-Instrument-Test\"\n",
    "\n",
    "holdings_api = api_factory.build(lu.TransactionPortfoliosApi)\n",
    "srs_api = api_factory.build(lu.StructuredResultDataApi)\n",
    "instruments_api = api_factory.build(lu.InstrumentsApi)\n",
    "aggregation_api = api_factory.build(lu.AggregationApi)\n",
    "configuration_recipe_api = api_factory.build(lu.ConfigurationRecipeApi)\n",
    "property_definitions_api = api_factory.build(lu.PropertyDefinitionsApi)"
   ]
  },
  {
   "cell_type": "markdown",
   "id": "1765f208-f332-4596-81f8-566faccc5728",
   "metadata": {},
   "source": [
    "# Create instrument"
   ]
  },
  {
   "cell_type": "code",
   "execution_count": 11,
   "id": "0326d9a2-bb6b-49b4-bc63-8eda34fa4f51",
   "metadata": {
    "ExecuteTime": {
     "end_time": "2024-02-02T09:05:37.703808Z",
     "start_time": "2024-02-02T09:05:35.585412Z"
    }
   },
   "outputs": [
    {
     "data": {
      "text/html": [
       "<div>\n",
       "<style scoped>\n",
       "    .dataframe tbody tr th:only-of-type {\n",
       "        vertical-align: middle;\n",
       "    }\n",
       "\n",
       "    .dataframe tbody tr th {\n",
       "        vertical-align: top;\n",
       "    }\n",
       "\n",
       "    .dataframe thead th {\n",
       "        text-align: right;\n",
       "    }\n",
       "</style>\n",
       "<table border=\"1\" class=\"dataframe\">\n",
       "  <thead>\n",
       "    <tr style=\"text-align: right;\">\n",
       "      <th></th>\n",
       "      <th>name</th>\n",
       "      <th>lusid_instrument_id</th>\n",
       "    </tr>\n",
       "  </thead>\n",
       "  <tbody>\n",
       "    <tr>\n",
       "      <th>0</th>\n",
       "      <td>ABDNLN 4 1/4 06/30/28</td>\n",
       "      <td>LUID_00003D9Y</td>\n",
       "    </tr>\n",
       "    <tr>\n",
       "      <th>1</th>\n",
       "      <td>TSCOLN 2 3/4 04/27/30</td>\n",
       "      <td>LUID_00003D9W</td>\n",
       "    </tr>\n",
       "    <tr>\n",
       "      <th>2</th>\n",
       "      <td>CDTFIN 2 1/4 10/10/35</td>\n",
       "      <td>LUID_00003D9X</td>\n",
       "    </tr>\n",
       "  </tbody>\n",
       "</table>\n",
       "</div>"
      ],
      "text/plain": [
       "                    name lusid_instrument_id\n",
       "0  ABDNLN 4 1/4 06/30/28       LUID_00003D9Y\n",
       "1  TSCOLN 2 3/4 04/27/30       LUID_00003D9W\n",
       "2  CDTFIN 2 1/4 10/10/35       LUID_00003D9X"
      ]
     },
     "metadata": {},
     "output_type": "display_data"
    }
   ],
   "source": [
    "\"\"\"\n",
    "-----------\n",
    "Create Bond\n",
    "-----------\n",
    "\n",
    "PREREQUISITE: Run the code in the 'Creating an API Factory' snippet to create an API factory.\n",
    "\n",
    "In this snippet we create a Bond using the UpsertInstruments endpoint:\n",
    "\n",
    "https://www.lusid.com/docs/api/#operation/UpsertInstruments\n",
    "\n",
    "\"\"\"\n",
    "\n",
    "bond_definition1 = lm.Bond(\n",
    "    start_date=\"2023-11-01\",\n",
    "    maturity_date=\"2028-06-30\",\n",
    "    dom_ccy=\"GBP\",\n",
    "    flow_conventions=lm.FlowConventions(\n",
    "        currency=\"GBP\",\n",
    "        payment_frequency=\"6M\",\n",
    "        day_count_convention=\"Act365\",\n",
    "        roll_convention=\"None\",\n",
    "        payment_calendars=[],\n",
    "        reset_calendars=[],\n",
    "        settle_days=2,\n",
    "        reset_days=2,\n",
    "    ),\n",
    "    principal=1,\n",
    "    coupon_rate=0.04,\n",
    "    identifiers={},\n",
    "    instrument_type=\"Bond\",\n",
    ")\n",
    "\n",
    "bond_definition2 = lm.Bond(\n",
    "    start_date=\"2023-11-01\",\n",
    "    maturity_date=\"2035-10-10\",\n",
    "    dom_ccy=\"GBP\",\n",
    "    flow_conventions=lm.FlowConventions(\n",
    "        currency=\"GBP\",\n",
    "        payment_frequency=\"6M\",\n",
    "        day_count_convention=\"Act365\",\n",
    "        roll_convention=\"ModifiedFollowing\",\n",
    "        payment_calendars=[],\n",
    "        reset_calendars=[],\n",
    "        settle_days=2,\n",
    "        reset_days=2,\n",
    "    ),\n",
    "    principal=1,\n",
    "    coupon_rate=0.02,\n",
    "    identifiers={},\n",
    "    instrument_type=\"Bond\",\n",
    ")\n",
    "\n",
    "bond_definition3 = lm.Bond(\n",
    "    start_date=\"2023-11-01\",\n",
    "    maturity_date=\"2030-04-27\",\n",
    "    dom_ccy=\"GBP\",\n",
    "    flow_conventions=lm.FlowConventions(\n",
    "        currency=\"GBP\",\n",
    "        payment_frequency=\"6M\",\n",
    "        day_count_convention=\"Act365\",\n",
    "        roll_convention=\"None\",\n",
    "        payment_calendars=[],\n",
    "        reset_calendars=[],\n",
    "        settle_days=2,\n",
    "        reset_days=2,\n",
    "    ),\n",
    "    principal=1,\n",
    "    coupon_rate=0.03,\n",
    "    identifiers={},\n",
    "    instrument_type=\"Bond\",\n",
    ")\n",
    "\n",
    "\n",
    "upsert_instrument = instruments_api.upsert_instruments(\n",
    "    request_body={\n",
    "        \"ABDNLN 4 1/4 06/30/28\": lm.InstrumentDefinition(\n",
    "            name=\"ABDNLN 4 1/4 06/30/28\",\n",
    "            identifiers={\"ClientInternal\": lm.InstrumentIdValue(value=\"XS1698906259\")},\n",
    "            definition=bond_definition1),\n",
    "            \"CDTFIN 2 1/4 10/10/35\": lm.InstrumentDefinition(\n",
    "            name=\"CDTFIN 2 1/4 10/10/35\",\n",
    "            identifiers={\"ClientInternal\": lm.InstrumentIdValue(value=\"XS2062820290\")},\n",
    "            definition=bond_definition2),\n",
    "         \"TSCOLN 2 3/4 04/27/30\": lm.InstrumentDefinition(\n",
    "            name=\"TSCOLN 2 3/4 04/27/30\",\n",
    "            identifiers={\"ClientInternal\": lm.InstrumentIdValue(value=\"XS2163089563\")},\n",
    "            definition=bond_definition3),\n",
    "    }\n",
    ")\n",
    "\n",
    "\n",
    "upsert_instruments_response_df = lusid_response_to_data_frame(list(upsert_instrument.values.values()))\n",
    "display(upsert_instruments_response_df[[\"name\", \"lusid_instrument_id\"]])"
   ]
  },
  {
   "cell_type": "markdown",
   "id": "552a4344-6bd5-485c-bfb9-2d048bdfe4b2",
   "metadata": {},
   "source": [
    "## Create portfolio"
   ]
  },
  {
   "cell_type": "code",
   "execution_count": 12,
   "id": "b3582df5-f224-4de5-8702-22ff4083ac49",
   "metadata": {
    "ExecuteTime": {
     "end_time": "2024-02-02T09:07:00.749506Z",
     "start_time": "2024-02-02T09:07:00.027591Z"
    }
   },
   "outputs": [
    {
     "name": "stdout",
     "output_type": "stream",
     "text": [
      "Could not create a portfolio with id 'SRS-Instrument-Test' because it already exists in scope 'srs-demo-feb-2024'.\n"
     ]
    }
   ],
   "source": [
    "\"\"\"\n",
    "-------------------------------\n",
    "Create a Transaction Portfolio:\n",
    "-------------------------------\n",
    "\n",
    "PREREQUISITE: Run the code in the 'Creating an API Factory' snippet to create an API factory.\n",
    "\n",
    "In this snippet we create a Transaction Portfolio using the CreatePortfolio endpoint:\n",
    "\n",
    "https://www.lusid.com/docs/api/#operation/CreatePortfolio\n",
    "\n",
    "\"\"\"\n",
    "\n",
    "\n",
    "# Create a Transactions Portfolios API\n",
    "transaction_portfolio_api = api_factory.build(la.TransactionPortfoliosApi)\n",
    "\n",
    "# Attempt to create a Transaction Portfolio\n",
    "try:\n",
    "    create_portfolio_response = transaction_portfolio_api.create_portfolio(\n",
    "        scope=scope,\n",
    "        create_transaction_portfolio_request=lm.CreateTransactionPortfolioRequest(\n",
    "            display_name=portfolio_code,\n",
    "            code=portfolio_code,\n",
    "            base_currency=\"GBP\",\n",
    "            created=\"2010-01-01\",\n",
    "            sub_holding_keys=[],\n",
    "        ),\n",
    "    )\n",
    "\n",
    "    print(create_portfolio_response)\n",
    "\n",
    "except lusid.ApiException as e:\n",
    "    print(json.loads(e.body)[\"title\"])\n"
   ]
  },
  {
   "cell_type": "markdown",
   "id": "81cf4dc1-b7ef-4f59-9357-9ddba73cfdae",
   "metadata": {},
   "source": [
    "# Set holding"
   ]
  },
  {
   "cell_type": "code",
   "execution_count": 13,
   "id": "fffbc9e6-a2ed-4899-a959-eee83b0a7287",
   "metadata": {
    "ExecuteTime": {
     "end_time": "2024-02-02T09:07:03.385255Z",
     "start_time": "2024-02-02T09:07:02.669790Z"
    }
   },
   "outputs": [
    {
     "name": "stdout",
     "output_type": "stream",
     "text": [
      "{'href': 'https://fbn-oscar.lusid.com/api/api/transactionportfolios/srs-demo-feb-2024/SRS-Instrument-Test/holdings?asAt=2024-02-05T14%3A42%3A32.6973310%2B00%3A00',\n",
      " 'links': [{'description': None,\n",
      "            'href': 'https://fbn-oscar.lusid.com/api/api/portfolios/srs-demo-feb-2024/SRS-Instrument-Test?effectiveAt=2010-01-01T00%3A00%3A00.0000000%2B00%3A00&asAt=2024-02-05T14%3A42%3A32.6973310%2B00%3A00',\n",
      "            'method': 'GET',\n",
      "            'relation': 'Root'},\n",
      "           {'description': None,\n",
      "            'href': 'https://fbn-oscar.lusid.com/api/api/transactionportfolios/srs-demo-feb-2024/SRS-Instrument-Test/holdings?effectiveAt=2010-01-01T00%3A00%3A00.0000000%2B00%3A00&asAt=2024-02-05T14%3A42%3A32.6973310%2B00%3A00',\n",
      "            'method': 'GET',\n",
      "            'relation': 'Holdings'},\n",
      "           {'description': 'A link to the LUSID Insights website showing all '\n",
      "                           'logs related to this request',\n",
      "            'href': 'https://fbn-oscar.lusid.com/app/insights/logs/0HN16H2J3C1RU:00000087',\n",
      "            'method': 'GET',\n",
      "            'relation': 'RequestLogs'}],\n",
      " 'metadata': {},\n",
      " 'version': {'as_at_created': None,\n",
      "             'as_at_date': datetime.datetime(2024, 2, 6, 9, 23, 37, 624377, tzinfo=tzlocal()),\n",
      "             'as_at_modified': None,\n",
      "             'as_at_version_number': None,\n",
      "             'effective_from': datetime.datetime(2010, 1, 1, 0, 0, tzinfo=tzlocal()),\n",
      "             'request_id_created': None,\n",
      "             'request_id_modified': None,\n",
      "             'user_id_created': None,\n",
      "             'user_id_modified': None}}\n"
     ]
    }
   ],
   "source": [
    "transaction_portfolio_api = api_factory.build(la.TransactionPortfoliosApi)\n",
    "\n",
    "try:\n",
    "    set_holdings = transaction_portfolio_api.set_holdings(\n",
    "        scope=scope,\n",
    "        code=portfolio_code,\n",
    "        effective_at=\"2024-01-01\",\n",
    "        adjust_holding_request=[\n",
    "            lm.AdjustHoldingRequest(\n",
    "                instrument_identifiers={\"Instrument/default/ClientInternal\": test_bond_client_internal1},\n",
    "                sub_holding_keys=None,\n",
    "                properties=None,\n",
    "                tax_lots=[lm.TargetTaxLotRequest(units=10000)],\n",
    "                currency=\"GBP\",\n",
    "            ),\n",
    "             lm.AdjustHoldingRequest(\n",
    "                instrument_identifiers={\"Instrument/default/ClientInternal\": test_bond_client_internal2},\n",
    "                sub_holding_keys=None,\n",
    "                properties=None,\n",
    "                tax_lots=[lm.TargetTaxLotRequest(units=5000)],\n",
    "                currency=\"GBP\",\n",
    "            ),\n",
    "             lm.AdjustHoldingRequest(\n",
    "                instrument_identifiers={\"Instrument/default/ClientInternal\": test_bond_client_internal3},\n",
    "                sub_holding_keys=None,\n",
    "                properties=None,\n",
    "                tax_lots=[lm.TargetTaxLotRequest(units=3000)],\n",
    "                currency=\"GBP\",\n",
    "            )\n",
    "        ]\n",
    "    )\n",
    "\n",
    "    print(set_holdings)\n",
    "\n",
    "except lusid.ApiException as e:\n",
    "    print(json.loads(e.body)[\"title\"])\n"
   ]
  },
  {
   "cell_type": "markdown",
   "id": "845d070f-b9e9-45a6-a409-b861369c637b",
   "metadata": {},
   "source": [
    "# Data map"
   ]
  },
  {
   "cell_type": "markdown",
   "id": "47c02b82",
   "metadata": {},
   "source": [
    "Now that we have our dataset with our in-house valuations (the MV and GainLoss columns above), we can map these and upload them to Lusid."
   ]
  },
  {
   "cell_type": "code",
   "execution_count": 14,
   "id": "1929eb44",
   "metadata": {
    "ExecuteTime": {
     "end_time": "2024-02-02T09:10:38.634518Z",
     "start_time": "2024-02-02T09:10:37.905494Z"
    }
   },
   "outputs": [
    {
     "data": {
      "text/plain": [
       "'DataMaps are immutable - a datamap under this key already exists'"
      ]
     },
     "metadata": {},
     "output_type": "display_data"
    }
   ],
   "source": [
    "srs_data_map = lm.DataMapping(\n",
    "    data_definitions=[\n",
    "        # Define key to identify a single result\n",
    "        ## This address key can be what ever we want\n",
    "        lm.DataDefinition(address=\"UnitResult/LusidInstrumentId\", data_type=\"string\", name=\"LUID\", key_type=\"Unique\"),\n",
    "        \n",
    "        lm.DataDefinition(address=\"UnitResult/Spread\", name=\"Spread\", data_type=\"decimal\", key_type=\"Leaf\"),\n",
    "        lm.DataDefinition(address=\"UnitResult/Duration\", name=\"Duration\", data_type=\"decimal\", key_type=\"Leaf\"),\n",
    "        lm.DataDefinition(address=\"UnitResult/YTM\", name=\"YTM\", data_type=\"decimal\", key_type=\"Leaf\"),\n",
    "        lm.DataDefinition(address=\"UnitResult/DTM\", name=\"DTM\", data_type=\"decimal\", key_type=\"Leaf\"),\n",
    "        lm.DataDefinition(address=\"UnitResult/AccruedFactor\", name=\"AccruedFactor\", data_type=\"decimal\", key_type=\"Leaf\"),\n",
    "        lm.DataDefinition(address=\"UnitResult/AccruedDays\", name=\"AccruedDays\", data_type=\"decimal\", key_type=\"Leaf\"),\n",
    "        \n",
    "        lm.DataDefinition(address=\"UnitResult/Valuation/PV\", data_type=\"Result0D\", key_type=\"CompositeLeaf\"),\n",
    "        lm.DataDefinition(address=\"UnitResult/Valuation/PV/Amnt\", data_type=\"decimal\", key_type=\"Leaf\", name=\"NAV\"),\n",
    "        lm.DataDefinition(address=\"UnitResult/Valuation/PV/Ccy\", data_type=\"string\", key_type=\"Leaf\", name=\"NAVCcy\"),\n",
    "        lm.DataDefinition(address=\"UnitResult/Valuation/Exposure\", data_type=\"Result0D\", key_type=\"CompositeLeaf\"),\n",
    "        lm.DataDefinition(address=\"UnitResult/Valuation/Exposure/Amount\", data_type=\"decimal\", key_type=\"Leaf\", name=\"ExposureAmount\"),\n",
    "        lm.DataDefinition(address=\"UnitResult/Valuation/Exposure/Ccy\", data_type=\"string\", key_type=\"Leaf\", name=\"ExposureCcy\"),\n",
    "        \n",
    "    ]\n",
    ")\n",
    "\n",
    "# Because the data maps are immutable, we must increase the version number each time we make any changes and upload a new version\n",
    "srs_data_map_key = lm.DataMapKey(version=\"0.0.13\", code=\"srs-test-2024-01-29\")\n",
    "\n",
    "# Once the map has been completed   , we will create the data map in LUSID\n",
    "try:\n",
    "    response = srs_api.create_data_map(\n",
    "        scope=scope,\n",
    "        request_body={\n",
    "            \"market-valuation-map\": lm.CreateDataMapRequest(\n",
    "                id=srs_data_map_key,\n",
    "                data=srs_data_map\n",
    "            )\n",
    "        }\n",
    "    )\n",
    "    display(response)    \n",
    "except lu.ApiException as e:\n",
    "    if json.loads(e.body)[\"code\"] == 461:\n",
    "        display(\"DataMaps are immutable - a datamap under this key already exists\")\n",
    "    else:\n",
    "        display(json.loads(e.body))"
   ]
  },
  {
   "cell_type": "markdown",
   "id": "8c858018",
   "metadata": {},
   "source": [
    "## Upsert Data\n",
    "adding market data values for 2 different dates"
   ]
  },
  {
   "cell_type": "code",
   "execution_count": 15,
   "id": "7d1aa406-cf30-4937-8e34-8fb43712034e",
   "metadata": {
    "ExecuteTime": {
     "end_time": "2024-02-02T09:11:31.479589Z",
     "start_time": "2024-02-02T09:11:31.434243Z"
    }
   },
   "outputs": [
    {
     "data": {
      "text/html": [
       "<div>\n",
       "<style scoped>\n",
       "    .dataframe tbody tr th:only-of-type {\n",
       "        vertical-align: middle;\n",
       "    }\n",
       "\n",
       "    .dataframe tbody tr th {\n",
       "        vertical-align: top;\n",
       "    }\n",
       "\n",
       "    .dataframe thead th {\n",
       "        text-align: right;\n",
       "    }\n",
       "</style>\n",
       "<table border=\"1\" class=\"dataframe\">\n",
       "  <thead>\n",
       "    <tr style=\"text-align: right;\">\n",
       "      <th></th>\n",
       "      <th>LUID</th>\n",
       "      <th>Duration</th>\n",
       "      <th>Spread</th>\n",
       "      <th>YTM</th>\n",
       "      <th>DTM</th>\n",
       "      <th>AccruedFactor</th>\n",
       "      <th>AccruedDays</th>\n",
       "      <th>NAV</th>\n",
       "      <th>NAVCcy</th>\n",
       "      <th>ExposureAmount</th>\n",
       "      <th>ExposureCcy</th>\n",
       "    </tr>\n",
       "  </thead>\n",
       "  <tbody>\n",
       "    <tr>\n",
       "      <th>0</th>\n",
       "      <td>LUID_00003D9Y</td>\n",
       "      <td>4.00</td>\n",
       "      <td>1.20</td>\n",
       "      <td>0.60</td>\n",
       "      <td>5.70</td>\n",
       "      <td>1.34</td>\n",
       "      <td>25</td>\n",
       "      <td>123456</td>\n",
       "      <td>GBP</td>\n",
       "      <td>654321</td>\n",
       "      <td>GBP</td>\n",
       "    </tr>\n",
       "    <tr>\n",
       "      <th>1</th>\n",
       "      <td>LUID_00003D9W</td>\n",
       "      <td>9.91</td>\n",
       "      <td>2.30</td>\n",
       "      <td>0.70</td>\n",
       "      <td>10.10</td>\n",
       "      <td>1.43</td>\n",
       "      <td>24</td>\n",
       "      <td>654321</td>\n",
       "      <td>GBP</td>\n",
       "      <td>123456</td>\n",
       "      <td>GBP</td>\n",
       "    </tr>\n",
       "    <tr>\n",
       "      <th>2</th>\n",
       "      <td>LUID_00003D9X</td>\n",
       "      <td>5.70</td>\n",
       "      <td>1.90</td>\n",
       "      <td>0.80</td>\n",
       "      <td>6.70</td>\n",
       "      <td>1.30</td>\n",
       "      <td>15</td>\n",
       "      <td>13540</td>\n",
       "      <td>GBP</td>\n",
       "      <td>135400</td>\n",
       "      <td>GBP</td>\n",
       "    </tr>\n",
       "  </tbody>\n",
       "</table>\n",
       "</div>"
      ],
      "text/plain": [
       "            LUID  Duration  Spread  YTM   DTM  AccruedFactor  AccruedDays  \\\n",
       "0  LUID_00003D9Y      4.00    1.20 0.60  5.70           1.34           25   \n",
       "1  LUID_00003D9W      9.91    2.30 0.70 10.10           1.43           24   \n",
       "2  LUID_00003D9X      5.70    1.90 0.80  6.70           1.30           15   \n",
       "\n",
       "      NAV NAVCcy  ExposureAmount ExposureCcy  \n",
       "0  123456    GBP          654321         GBP  \n",
       "1  654321    GBP          123456         GBP  \n",
       "2   13540    GBP          135400         GBP  "
      ]
     },
     "execution_count": 15,
     "metadata": {},
     "output_type": "execute_result"
    }
   ],
   "source": [
    "data = {\n",
    "    #bond 1, bond 2, bond 3\n",
    "    \"LUID\": upsert_instruments_response_df['lusid_instrument_id'],\n",
    "    \"Duration\": [4, 9.91, 5.7],\n",
    "    \"Spread\": [1.2, 2.3, 1.9],\n",
    "    \"YTM\": [0.6, 0.7, 0.8],\n",
    "    \"DTM\": [5.7, 10.1, 6.7],\n",
    "    \"AccruedFactor\": [1.343, 1.43, 1.3],\n",
    "    \"AccruedDays\" : [25, 24, 15],\n",
    "    \"NAV\" : [123456, 654321, 13540],\n",
    "    \"NAVCcy\" : ['GBP', 'GBP', 'GBP'],\n",
    "    \"ExposureAmount\" : [654321, 123456, 135400],\n",
    "    \"ExposureCcy\" : ['GBP','GBP', 'GBP']\n",
    "}\n",
    "\n",
    "srs_df = pd.DataFrame(data)\n",
    "\n",
    "srs_df"
   ]
  },
  {
   "cell_type": "code",
   "execution_count": 16,
   "id": "a4af736d",
   "metadata": {
    "ExecuteTime": {
     "end_time": "2024-02-02T09:10:47.160441Z",
     "start_time": "2024-02-02T09:10:46.223926Z"
    }
   },
   "outputs": [
    {
     "data": {
      "text/plain": [
       "{'failed': {},\n",
       " 'href': None,\n",
       " 'links': [{'description': 'A link to the LUSID Insights website showing all '\n",
       "                           'logs related to this request',\n",
       "            'href': 'https://fbn-oscar.lusid.com/app/insights/logs/0HN16H2J3C1CP:00000257',\n",
       "            'method': 'GET',\n",
       "            'relation': 'RequestLogs'}],\n",
       " 'values': {'data': datetime.datetime(2024, 2, 6, 9, 23, 46, 65098, tzinfo=tzlocal())}}"
      ]
     },
     "execution_count": 16,
     "metadata": {},
     "output_type": "execute_result"
    }
   ],
   "source": [
    "effective_at = \"2024-01-01\"\n",
    "document_code = \"MarketValuation001\"\n",
    "result_type = \"UnitResult/Analytic\"\n",
    "source = \"Client\"\n",
    "\n",
    "srs_data_id = lm.StructuredResultDataId(\n",
    "    source = source,\n",
    "    code = document_code,\n",
    "    effective_at = effective_at,\n",
    "    result_type = result_type\n",
    ")\n",
    "\n",
    "\n",
    "srs_data = lm.StructuredResultData(\n",
    "    document_format=\"Csv\",\n",
    "    version=\"0.0.1\",\n",
    "    name=\"Market valuations\",\n",
    "    data_map_key=srs_data_map_key,\n",
    "    document=srs_df.to_csv(index=False)      \n",
    ")\n",
    "\n",
    "srs_api.upsert_structured_result_data(\n",
    "    scope=scope, \n",
    "    request_body={ \n",
    "        \"data\": lm.UpsertStructuredResultDataRequest(\n",
    "            id=srs_data_id, \n",
    "            data=srs_data\n",
    "        )\n",
    "    }\n",
    ")"
   ]
  },
  {
   "cell_type": "code",
   "execution_count": 17,
   "id": "4193e0e26855ef35",
   "metadata": {
    "ExecuteTime": {
     "end_time": "2024-02-02T09:13:16.126989Z",
     "start_time": "2024-02-02T09:13:16.109782Z"
    }
   },
   "outputs": [
    {
     "data": {
      "text/html": [
       "<div>\n",
       "<style scoped>\n",
       "    .dataframe tbody tr th:only-of-type {\n",
       "        vertical-align: middle;\n",
       "    }\n",
       "\n",
       "    .dataframe tbody tr th {\n",
       "        vertical-align: top;\n",
       "    }\n",
       "\n",
       "    .dataframe thead th {\n",
       "        text-align: right;\n",
       "    }\n",
       "</style>\n",
       "<table border=\"1\" class=\"dataframe\">\n",
       "  <thead>\n",
       "    <tr style=\"text-align: right;\">\n",
       "      <th></th>\n",
       "      <th>LUID</th>\n",
       "      <th>Duration</th>\n",
       "      <th>Spread</th>\n",
       "      <th>YTM</th>\n",
       "      <th>DTM</th>\n",
       "      <th>AccruedFactor</th>\n",
       "      <th>AccruedDays</th>\n",
       "      <th>NAV</th>\n",
       "      <th>NAVCcy</th>\n",
       "      <th>ExposureAmount</th>\n",
       "      <th>ExposureCcy</th>\n",
       "    </tr>\n",
       "  </thead>\n",
       "  <tbody>\n",
       "    <tr>\n",
       "      <th>0</th>\n",
       "      <td>LUID_00003D9Y</td>\n",
       "      <td>3.00</td>\n",
       "      <td>1.20</td>\n",
       "      <td>0.60</td>\n",
       "      <td>5.70</td>\n",
       "      <td>1.32</td>\n",
       "      <td>25</td>\n",
       "      <td>123356</td>\n",
       "      <td>GBP</td>\n",
       "      <td>653321</td>\n",
       "      <td>GBP</td>\n",
       "    </tr>\n",
       "    <tr>\n",
       "      <th>1</th>\n",
       "      <td>LUID_00003D9W</td>\n",
       "      <td>9.80</td>\n",
       "      <td>2.30</td>\n",
       "      <td>0.70</td>\n",
       "      <td>10.10</td>\n",
       "      <td>1.43</td>\n",
       "      <td>24</td>\n",
       "      <td>654121</td>\n",
       "      <td>GBP</td>\n",
       "      <td>122456</td>\n",
       "      <td>GBP</td>\n",
       "    </tr>\n",
       "    <tr>\n",
       "      <th>2</th>\n",
       "      <td>LUID_00003D9X</td>\n",
       "      <td>5.70</td>\n",
       "      <td>1.90</td>\n",
       "      <td>0.80</td>\n",
       "      <td>6.70</td>\n",
       "      <td>1.30</td>\n",
       "      <td>15</td>\n",
       "      <td>13140</td>\n",
       "      <td>GBP</td>\n",
       "      <td>134400</td>\n",
       "      <td>GBP</td>\n",
       "    </tr>\n",
       "  </tbody>\n",
       "</table>\n",
       "</div>"
      ],
      "text/plain": [
       "            LUID  Duration  Spread  YTM   DTM  AccruedFactor  AccruedDays  \\\n",
       "0  LUID_00003D9Y      3.00    1.20 0.60  5.70           1.32           25   \n",
       "1  LUID_00003D9W      9.80    2.30 0.70 10.10           1.43           24   \n",
       "2  LUID_00003D9X      5.70    1.90 0.80  6.70           1.30           15   \n",
       "\n",
       "      NAV NAVCcy  ExposureAmount ExposureCcy  \n",
       "0  123356    GBP          653321         GBP  \n",
       "1  654121    GBP          122456         GBP  \n",
       "2   13140    GBP          134400         GBP  "
      ]
     },
     "execution_count": 17,
     "metadata": {},
     "output_type": "execute_result"
    }
   ],
   "source": [
    "data2 = {\n",
    "    #bond 1, bond 2, bond 3\n",
    "    \"LUID\": upsert_instruments_response_df['lusid_instrument_id'],\n",
    "    \"Duration\": [3, 9.8, 5.7],\n",
    "    \"Spread\": [1.2, 2.3, 1.9],\n",
    "    \"YTM\": [0.6, 0.7, 0.8],\n",
    "    \"DTM\": [5.7, 10.1, 6.7],\n",
    "    \"AccruedFactor\": [1.323, 1.43, 1.3],\n",
    "    \"AccruedDays\" : [25, 24, 15],\n",
    "    \"NAV\" : [123356, 654121, 13140],\n",
    "    \"NAVCcy\" : ['GBP', 'GBP', 'GBP'],\n",
    "    \"ExposureAmount\" : [653321, 122456, 134400],\n",
    "    \"ExposureCcy\" : ['GBP','GBP', 'GBP']\n",
    "}\n",
    "\n",
    "srs_df2 = pd.DataFrame(data2)\n",
    "\n",
    "srs_df2"
   ]
  },
  {
   "cell_type": "code",
   "execution_count": 18,
   "id": "52090e7cfdc02ccd",
   "metadata": {
    "ExecuteTime": {
     "end_time": "2024-02-02T09:13:19.527676Z",
     "start_time": "2024-02-02T09:13:18.304956Z"
    }
   },
   "outputs": [
    {
     "data": {
      "text/plain": [
       "{'failed': {},\n",
       " 'href': None,\n",
       " 'links': [{'description': 'A link to the LUSID Insights website showing all '\n",
       "                           'logs related to this request',\n",
       "            'href': 'https://fbn-oscar.lusid.com/app/insights/logs/0HN16G2J880M7:00000007',\n",
       "            'method': 'GET',\n",
       "            'relation': 'RequestLogs'}],\n",
       " 'values': {'data': datetime.datetime(2024, 2, 6, 9, 23, 49, 336277, tzinfo=tzlocal())}}"
      ]
     },
     "execution_count": 18,
     "metadata": {},
     "output_type": "execute_result"
    }
   ],
   "source": [
    "effective_at = \"2024-01-02\"\n",
    "document_code = \"MarketValuation001\"\n",
    "result_type = \"UnitResult/Analytic\"\n",
    "source = \"Client\"\n",
    "\n",
    "srs_data_id = lm.StructuredResultDataId(\n",
    "    source = source,\n",
    "    code = document_code,\n",
    "    effective_at = effective_at,\n",
    "    result_type = result_type\n",
    ")\n",
    "\n",
    "\n",
    "srs_data = lm.StructuredResultData(\n",
    "    document_format=\"Csv\",\n",
    "    version=\"0.0.1\",\n",
    "    name=\"Market valuations\",\n",
    "    data_map_key=srs_data_map_key,\n",
    "    document=srs_df.to_csv(index=False)      \n",
    ")\n",
    "\n",
    "srs_api.upsert_structured_result_data(\n",
    "    scope=scope, \n",
    "    request_body={ \n",
    "        \"data\": lm.UpsertStructuredResultDataRequest(\n",
    "            id=srs_data_id, \n",
    "            data=srs_data\n",
    "        )\n",
    "    }\n",
    ")"
   ]
  },
  {
   "cell_type": "markdown",
   "id": "af978e05",
   "metadata": {},
   "source": [
    "## Read from SRS"
   ]
  },
  {
   "cell_type": "markdown",
   "id": "9d399621",
   "metadata": {},
   "source": [
    "We check if everything has been uploaded correctly by retrieving the previously uploaded data.\n",
    "Here we can see that our upload was successful and the structured results store contains our data.\n",
    "\n",
    "The Structured Result Store allows us to upsert structured results, but to give them structure we must first define a Data Mapping,\n",
    "\n",
    "You can think of a Data Mapping as defining the columns and the column types for each row that gets upserted into the SRS using a specific Data Map\n",
    "\n",
    "Each \"row\" can have multiple keys and when difining the data map there are 4 different key types, Unique, PartOfUnique, Leaf, and CompositeLeaf\n",
    "\n",
    "\n",
    "Unique\n",
    "A primary key that will throw a unique key constraint if multiple equal values are upserted for a single specific result type\n",
    "\n",
    "\n",
    "Part of Unique\n",
    "A key that will be considered as part of the compoisite primary key for an entity\n",
    "\n",
    "\n",
    "Leaf\n",
    "Leaf define a value that wont be considered as part of the primary or primary composite key.\n",
    "\n",
    "\n",
    "Composite Leaf\n",
    "CompositeLeaf is an abstraction that allows the user to specify which Leafs should be connected, they define data types rather than names of entities as they represent a group of entities. E.g. If we have an Accural we can define a composite leaf as two leafs of amount and currency\n",
    "\n",
    "\n",
    "\"UnitResult/Accrual\"\n",
    "DataDefinition(address=\"UnitResult/Accrual\", dataType= \"Result0D\", keyType=\"CompositeLeaf\")\n",
    "\n",
    "\"UnitResult/Accrual/Amount\"\n",
    "DataDefinition(address=\"UnitResult/Accrual/Amount\", name=\"Accrual\", dataType= \"decimal\", keyType=\"Leaf\")\n",
    "\n",
    "\"UnitResult/Accrual/Ccy\"\n",
    "DataDefinition(address=\"UnitResult/Accrual/AmountCcy\", name=\"AccrualCcy\", dataType= \"string\", keyType=\"Leaf\")"
   ]
  },
  {
   "cell_type": "code",
   "execution_count": 19,
   "id": "7841d86a-d348-4da7-95f3-9ad8b4178346",
   "metadata": {
    "ExecuteTime": {
     "end_time": "2024-02-02T09:13:35.162455Z",
     "start_time": "2024-02-02T09:13:35.158512Z"
    }
   },
   "outputs": [
    {
     "data": {
      "text/plain": [
       "{'code': 'MarketValuation001',\n",
       " 'effective_at': '2024-01-02',\n",
       " 'result_type': 'UnitResult/Analytic',\n",
       " 'source': 'Client'}"
      ]
     },
     "execution_count": 19,
     "metadata": {},
     "output_type": "execute_result"
    }
   ],
   "source": [
    "srs_data_id"
   ]
  },
  {
   "cell_type": "code",
   "execution_count": 20,
   "id": "7aff75dd-0791-4397-82f2-9b8634d11702",
   "metadata": {
    "ExecuteTime": {
     "end_time": "2024-01-30T13:55:50.516718Z",
     "start_time": "2024-01-30T13:55:50.508031Z"
    }
   },
   "outputs": [
    {
     "data": {
      "text/plain": [
       "'srs-demo-feb-2024'"
      ]
     },
     "execution_count": 20,
     "metadata": {},
     "output_type": "execute_result"
    }
   ],
   "source": [
    "scope"
   ]
  },
  {
   "cell_type": "code",
   "execution_count": 40,
   "id": "15af8869b2089ffe",
   "metadata": {
    "ExecuteTime": {
     "end_time": "2024-01-30T12:22:05.666036Z",
     "start_time": "2024-01-30T12:22:05.519017Z"
    }
   },
   "outputs": [
    {
     "data": {
      "text/plain": [
       "{'id1': {'data_definitions': [{'address': 'UnitResult/LusidInstrumentId',\n",
       "                        'allow_missing': False,\n",
       "                        'allow_null': False,\n",
       "                        'data_type': 'Unique',\n",
       "                        'key_type': 'String',\n",
       "                        'name': 'LUID'},\n",
       "                       {'address': 'UnitResult/Spread',\n",
       "                        'allow_missing': False,\n",
       "                        'allow_null': False,\n",
       "                        'data_type': 'Leaf',\n",
       "                        'key_type': 'Decimal',\n",
       "                        'name': 'Spread'},\n",
       "                       {'address': 'UnitResult/Duration',\n",
       "                        'allow_missing': False,\n",
       "                        'allow_null': False,\n",
       "                        'data_type': 'Leaf',\n",
       "                        'key_type': 'Decimal',\n",
       "                        'name': 'Duration'},\n",
       "                       {'address': 'UnitResult/YTM',\n",
       "                        'allow_missing': False,\n",
       "                        'allow_null': False,\n",
       "                        'data_type': 'Leaf',\n",
       "                        'key_type': 'Decimal',\n",
       "                        'name': 'YTM'},\n",
       "                       {'address': 'UnitResult/DTM',\n",
       "                        'allow_missing': False,\n",
       "                        'allow_null': False,\n",
       "                        'data_type': 'Leaf',\n",
       "                        'key_type': 'Decimal',\n",
       "                        'name': 'DTM'},\n",
       "                       {'address': 'UnitResult/AccruedFactor',\n",
       "                        'allow_missing': False,\n",
       "                        'allow_null': False,\n",
       "                        'data_type': 'Leaf',\n",
       "                        'key_type': 'Decimal',\n",
       "                        'name': 'AccruedFactor'},\n",
       "                       {'address': 'UnitResult/AccruedDays',\n",
       "                        'allow_missing': False,\n",
       "                        'allow_null': False,\n",
       "                        'data_type': 'Leaf',\n",
       "                        'key_type': 'Decimal',\n",
       "                        'name': 'AccruedDays'},\n",
       "                       {'address': 'UnitResult/Valuation/PV',\n",
       "                        'allow_missing': False,\n",
       "                        'allow_null': False,\n",
       "                        'data_type': 'CompositeLeaf',\n",
       "                        'key_type': 'Result0D',\n",
       "                        'name': None},\n",
       "                       {'address': 'UnitResult/Valuation/PV/Amnt',\n",
       "                        'allow_missing': False,\n",
       "                        'allow_null': False,\n",
       "                        'data_type': 'Leaf',\n",
       "                        'key_type': 'Decimal',\n",
       "                        'name': 'NAV'},\n",
       "                       {'address': 'UnitResult/Valuation/PV/Ccy',\n",
       "                        'allow_missing': False,\n",
       "                        'allow_null': False,\n",
       "                        'data_type': 'Leaf',\n",
       "                        'key_type': 'String',\n",
       "                        'name': 'NAVCcy'},\n",
       "                       {'address': 'UnitResult/Valuation/Exposure',\n",
       "                        'allow_missing': False,\n",
       "                        'allow_null': False,\n",
       "                        'data_type': 'CompositeLeaf',\n",
       "                        'key_type': 'Result0D',\n",
       "                        'name': None},\n",
       "                       {'address': 'UnitResult/Valuation/Exposure/Amount',\n",
       "                        'allow_missing': False,\n",
       "                        'allow_null': False,\n",
       "                        'data_type': 'Leaf',\n",
       "                        'key_type': 'Decimal',\n",
       "                        'name': 'ExposureAmount'},\n",
       "                       {'address': 'UnitResult/Valuation/Exposure/Ccy',\n",
       "                        'allow_missing': False,\n",
       "                        'allow_null': False,\n",
       "                        'data_type': 'Leaf',\n",
       "                        'key_type': 'String',\n",
       "                        'name': 'ExposureCcy'}]}}"
      ]
     },
     "metadata": {},
     "output_type": "display_data"
    }
   ],
   "source": [
    "#datamap that defines a key for each column\n",
    "display(srs_api.get_data_map(scope=scope, request_body={\"id1\": srs_data_map_key}).values)\n"
   ]
  },
  {
   "cell_type": "code",
   "execution_count": 22,
   "id": "646d190b",
   "metadata": {
    "ExecuteTime": {
     "end_time": "2024-02-02T09:13:24.838835Z",
     "start_time": "2024-02-02T09:13:24.466375Z"
    }
   },
   "outputs": [
    {
     "data": {
      "text/html": [
       "<div>\n",
       "<style scoped>\n",
       "    .dataframe tbody tr th:only-of-type {\n",
       "        vertical-align: middle;\n",
       "    }\n",
       "\n",
       "    .dataframe tbody tr th {\n",
       "        vertical-align: top;\n",
       "    }\n",
       "\n",
       "    .dataframe thead th {\n",
       "        text-align: right;\n",
       "    }\n",
       "</style>\n",
       "<table border=\"1\" class=\"dataframe\">\n",
       "  <thead>\n",
       "    <tr style=\"text-align: right;\">\n",
       "      <th></th>\n",
       "      <th>LUID</th>\n",
       "      <th>Duration</th>\n",
       "      <th>Spread</th>\n",
       "      <th>YTM</th>\n",
       "      <th>DTM</th>\n",
       "      <th>AccruedFactor</th>\n",
       "      <th>AccruedDays</th>\n",
       "      <th>NAV</th>\n",
       "      <th>NAVCcy</th>\n",
       "      <th>ExposureAmount</th>\n",
       "      <th>ExposureCcy</th>\n",
       "    </tr>\n",
       "  </thead>\n",
       "  <tbody>\n",
       "    <tr>\n",
       "      <th>0</th>\n",
       "      <td>LUID_00003D9Y</td>\n",
       "      <td>4.00</td>\n",
       "      <td>1.20</td>\n",
       "      <td>0.60</td>\n",
       "      <td>5.70</td>\n",
       "      <td>1.34</td>\n",
       "      <td>25</td>\n",
       "      <td>123456</td>\n",
       "      <td>GBP</td>\n",
       "      <td>654321</td>\n",
       "      <td>GBP</td>\n",
       "    </tr>\n",
       "    <tr>\n",
       "      <th>1</th>\n",
       "      <td>LUID_00003D9W</td>\n",
       "      <td>9.91</td>\n",
       "      <td>2.30</td>\n",
       "      <td>0.70</td>\n",
       "      <td>10.10</td>\n",
       "      <td>1.43</td>\n",
       "      <td>24</td>\n",
       "      <td>654321</td>\n",
       "      <td>GBP</td>\n",
       "      <td>123456</td>\n",
       "      <td>GBP</td>\n",
       "    </tr>\n",
       "    <tr>\n",
       "      <th>2</th>\n",
       "      <td>LUID_00003D9X</td>\n",
       "      <td>5.70</td>\n",
       "      <td>1.90</td>\n",
       "      <td>0.80</td>\n",
       "      <td>6.70</td>\n",
       "      <td>1.30</td>\n",
       "      <td>15</td>\n",
       "      <td>13540</td>\n",
       "      <td>GBP</td>\n",
       "      <td>135400</td>\n",
       "      <td>GBP</td>\n",
       "    </tr>\n",
       "  </tbody>\n",
       "</table>\n",
       "</div>"
      ],
      "text/plain": [
       "            LUID  Duration  Spread  YTM   DTM  AccruedFactor  AccruedDays  \\\n",
       "0  LUID_00003D9Y      4.00    1.20 0.60  5.70           1.34           25   \n",
       "1  LUID_00003D9W      9.91    2.30 0.70 10.10           1.43           24   \n",
       "2  LUID_00003D9X      5.70    1.90 0.80  6.70           1.30           15   \n",
       "\n",
       "      NAV NAVCcy  ExposureAmount ExposureCcy  \n",
       "0  123456    GBP          654321         GBP  \n",
       "1  654321    GBP          123456         GBP  \n",
       "2   13540    GBP          135400         GBP  "
      ]
     },
     "metadata": {},
     "output_type": "display_data"
    }
   ],
   "source": [
    "#display SRS data values\n",
    "key = f\"{srs_data_id.code}-{effective_at}\"\n",
    "\n",
    "values = srs_api.get_structured_result_data(\n",
    "    scope=scope, \n",
    "    request_body={\n",
    "        key: srs_data_id\n",
    "    }\n",
    ")\n",
    "\n",
    "s = io.StringIO(values.values[key].document)\n",
    "\n",
    "values_df = pd.read_csv(s)\n",
    "display(values_df)"
   ]
  },
  {
   "cell_type": "code",
   "execution_count": 23,
   "id": "4c609126-7644-4f40-9e69-4ba294a325b1",
   "metadata": {},
   "outputs": [
    {
     "data": {
      "text/html": [
       "<div>\n",
       "<style scoped>\n",
       "    .dataframe tbody tr th:only-of-type {\n",
       "        vertical-align: middle;\n",
       "    }\n",
       "\n",
       "    .dataframe tbody tr th {\n",
       "        vertical-align: top;\n",
       "    }\n",
       "\n",
       "    .dataframe thead th {\n",
       "        text-align: right;\n",
       "    }\n",
       "</style>\n",
       "<table border=\"1\" class=\"dataframe\">\n",
       "  <thead>\n",
       "    <tr style=\"text-align: right;\">\n",
       "      <th></th>\n",
       "      <th>Scope</th>\n",
       "      <th>Code</th>\n",
       "      <th>Name</th>\n",
       "      <th>Source</th>\n",
       "      <th>ResultType</th>\n",
       "      <th>EffectiveAt</th>\n",
       "      <th>Version</th>\n",
       "      <th>Document</th>\n",
       "      <th>Format</th>\n",
       "      <th>DataMapCode</th>\n",
       "      <th>DataMapVersion</th>\n",
       "      <th>Error</th>\n",
       "    </tr>\n",
       "  </thead>\n",
       "  <tbody>\n",
       "    <tr>\n",
       "      <th>0</th>\n",
       "      <td>srs-example</td>\n",
       "      <td>MarketValuation001</td>\n",
       "      <td>NaN</td>\n",
       "      <td>Client</td>\n",
       "      <td>UnitResult/Analytic</td>\n",
       "      <td>2024-01-01</td>\n",
       "      <td>NaN</td>\n",
       "      <td>NaN</td>\n",
       "      <td>Unknown</td>\n",
       "      <td>NaN</td>\n",
       "      <td>NaN</td>\n",
       "      <td>NaN</td>\n",
       "    </tr>\n",
       "  </tbody>\n",
       "</table>\n",
       "</div>"
      ],
      "text/plain": [
       "         Scope                Code  Name  Source           ResultType  \\\n",
       "0  srs-example  MarketValuation001   NaN  Client  UnitResult/Analytic   \n",
       "\n",
       "  EffectiveAt  Version  Document   Format  DataMapCode  DataMapVersion  Error  \n",
       "0  2024-01-01      NaN       NaN  Unknown          NaN             NaN    NaN  "
      ]
     },
     "execution_count": 23,
     "metadata": {},
     "output_type": "execute_result"
    }
   ],
   "source": [
    "%%luminesce\n",
    "\n",
    "@lookup_table = \n",
    "select 'srs-example' as Scope, \n",
    "'MarketValuation001' as Code, \n",
    "'Client' as Source, \n",
    "'UnitResult/Analytic' as ResultType, \n",
    "#2024-01-01# as EffectiveAt;\n",
    "select * from Lusid.UnitResult.StructuredResult where toLookUp = @lookup_table;"
   ]
  },
  {
   "cell_type": "markdown",
   "id": "eb2e75e7",
   "metadata": {},
   "source": [
    "# Valuation Engine\n",
    "Now we will call the GetValuation API to perform a valuation where i can request metrics from the SRS as well or instead of built-in LUSID. "
   ]
  },
  {
   "cell_type": "code",
   "execution_count": 24,
   "id": "9160873e",
   "metadata": {
    "ExecuteTime": {
     "end_time": "2024-01-30T13:56:17.186565Z",
     "start_time": "2024-01-30T13:56:16.638668Z"
    }
   },
   "outputs": [],
   "source": [
    "\n",
    "recipe_code = \"MarketValuation\"\n",
    "\n",
    "recipe = lm.ConfigurationRecipe(\n",
    "    scope=scope,\n",
    "    code=recipe_code,\n",
    "    pricing=lm.PricingContext(\n",
    "        result_data_rules=[\n",
    "            lm.ResultDataKeyRule(\n",
    "                resource_key=\"UnitResult/*\",\n",
    "                supplier=source,\n",
    "                data_scope=scope,\n",
    "                document_code=document_code,\n",
    "                quote_interval=\"5D\",\n",
    "                document_result_type=result_type,\n",
    "                result_key_rule_type=\"ResultDataKeyRule\"\n",
    "            )\n",
    "        ],\n",
    "        options = lm.PricingOptions(\n",
    "            allow_partially_successful_evaluation=True,\n",
    "            allow_any_instruments_with_sec_uid_to_price_off_lookup=False\n",
    "        )                              \n",
    "    )\n",
    ")\n",
    "\n",
    "upsert_configuration_recipe_response = configuration_recipe_api.upsert_configuration_recipe(\n",
    "    upsert_recipe_request = lm.UpsertRecipeRequest(\n",
    "        configuration_recipe = recipe\n",
    "    )\n",
    ")"
   ]
  },
  {
   "cell_type": "code",
   "execution_count": 25,
   "id": "e062c9e0",
   "metadata": {
    "ExecuteTime": {
     "end_time": "2024-01-30T13:56:20.964165Z",
     "start_time": "2024-01-30T13:56:20.950539Z"
    }
   },
   "outputs": [],
   "source": [
    "def run_valuation(portfolio_code, effective_at):\n",
    "    \n",
    "    valuation_request = lm.ValuationRequest(\n",
    "        recipe_id=lm.ResourceId(scope=scope, code=recipe_code),\n",
    "        portfolio_entity_ids=[\n",
    "            lm.PortfolioEntityId(scope=scope, code=portfolio_code)\n",
    "        ],\n",
    "        valuation_schedule=lm.ValuationSchedule(effective_at=effective_at.isoformat()),\n",
    "        metrics=[\n",
    "            lm.AggregateSpec(\"Instrument/default/LusidInstrumentId\", \"Value\"),\n",
    "            lm.AggregateSpec(\"UnitResult/ModifiedDuration\", \"Value\"),\n",
    "            lm.AggregateSpec(\"UnitResult/Spread\", \"Value\"),\n",
    "            lm.AggregateSpec(\"UnitResult/YTM\", \"Value\"),\n",
    "            # lm.AggregateSpec(\"UnitResult/Analytic/ModifiedDuration\", \"Value\"),\n",
    "            # lm.AggregateSpec(\"Analytic/ModifiedDuration\", \"Value\")\n",
    "        ]\n",
    "    )\n",
    "    \n",
    "    return aggregation_api.get_valuation(valuation_request=valuation_request)"
   ]
  },
  {
   "cell_type": "code",
   "execution_count": 26,
   "id": "53a12886-d84f-4978-890c-0e37b0ba2ef7",
   "metadata": {},
   "outputs": [
    {
     "data": {
      "text/plain": [
       "'MarketValuation'"
      ]
     },
     "execution_count": 26,
     "metadata": {},
     "output_type": "execute_result"
    }
   ],
   "source": [
    "recipe_code"
   ]
  },
  {
   "cell_type": "code",
   "execution_count": 28,
   "id": "97a7c4a1",
   "metadata": {
    "ExecuteTime": {
     "end_time": "2024-01-30T13:56:50.116607Z",
     "start_time": "2024-01-30T13:56:49.427543Z"
    }
   },
   "outputs": [
    {
     "data": {
      "text/html": [
       "<div>\n",
       "<style scoped>\n",
       "    .dataframe tbody tr th:only-of-type {\n",
       "        vertical-align: middle;\n",
       "    }\n",
       "\n",
       "    .dataframe tbody tr th {\n",
       "        vertical-align: top;\n",
       "    }\n",
       "\n",
       "    .dataframe thead th {\n",
       "        text-align: right;\n",
       "    }\n",
       "</style>\n",
       "<table border=\"1\" class=\"dataframe\">\n",
       "  <thead>\n",
       "    <tr style=\"text-align: right;\">\n",
       "      <th></th>\n",
       "      <th>Instrument/default/LusidInstrumentId</th>\n",
       "      <th>UnitResult/ModifiedDuration</th>\n",
       "      <th>UnitResult/Spread</th>\n",
       "      <th>UnitResult/YTM</th>\n",
       "      <th>Aggregation/Errors</th>\n",
       "    </tr>\n",
       "  </thead>\n",
       "  <tbody>\n",
       "    <tr>\n",
       "      <th>0</th>\n",
       "      <td>LUID_00003D9Y</td>\n",
       "      <td>None</td>\n",
       "      <td>1.20</td>\n",
       "      <td>0.60</td>\n",
       "      <td>[UnitResult/ModifiedDuration:UnitResult/Portfo...</td>\n",
       "    </tr>\n",
       "    <tr>\n",
       "      <th>1</th>\n",
       "      <td>LUID_00003D9X</td>\n",
       "      <td>None</td>\n",
       "      <td>1.90</td>\n",
       "      <td>0.80</td>\n",
       "      <td>[UnitResult/ModifiedDuration:UnitResult/Portfo...</td>\n",
       "    </tr>\n",
       "    <tr>\n",
       "      <th>2</th>\n",
       "      <td>LUID_00003D9W</td>\n",
       "      <td>None</td>\n",
       "      <td>2.30</td>\n",
       "      <td>0.70</td>\n",
       "      <td>[UnitResult/ModifiedDuration:UnitResult/Portfo...</td>\n",
       "    </tr>\n",
       "  </tbody>\n",
       "</table>\n",
       "</div>"
      ],
      "text/plain": [
       "  Instrument/default/LusidInstrumentId UnitResult/ModifiedDuration  \\\n",
       "0                        LUID_00003D9Y                        None   \n",
       "1                        LUID_00003D9X                        None   \n",
       "2                        LUID_00003D9W                        None   \n",
       "\n",
       "   UnitResult/Spread  UnitResult/YTM  \\\n",
       "0               1.20            0.60   \n",
       "1               1.90            0.80   \n",
       "2               2.30            0.70   \n",
       "\n",
       "                                  Aggregation/Errors  \n",
       "0  [UnitResult/ModifiedDuration:UnitResult/Portfo...  \n",
       "1  [UnitResult/ModifiedDuration:UnitResult/Portfo...  \n",
       "2  [UnitResult/ModifiedDuration:UnitResult/Portfo...  "
      ]
     },
     "execution_count": 28,
     "metadata": {},
     "output_type": "execute_result"
    }
   ],
   "source": [
    "day1 = datetime(2024, 1, 1, tzinfo=pytz.utc)\n",
    "\n",
    "valuation=run_valuation(portfolio_code, day1)\n",
    "pd.DataFrame(valuation.data)"
   ]
  },
  {
   "cell_type": "code",
   "execution_count": null,
   "id": "2a59b93d-dc0f-4a55-80f1-e2d26dcac256",
   "metadata": {},
   "outputs": [],
   "source": []
  },
  {
   "cell_type": "code",
   "execution_count": null,
   "id": "65dbe637",
   "metadata": {},
   "outputs": [],
   "source": []
  }
 ],
 "metadata": {
  "kernelspec": {
   "display_name": "Python 3 (ipykernel)",
   "language": "python",
   "name": "python3"
  },
  "language_info": {
   "codemirror_mode": {
    "name": "ipython",
    "version": 3
   },
   "file_extension": ".py",
   "mimetype": "text/x-python",
   "name": "python",
   "nbconvert_exporter": "python",
   "pygments_lexer": "ipython3",
   "version": "3.11.5"
  },
  "varInspector": {
   "cols": {
    "lenName": 16,
    "lenType": 16,
    "lenVar": 40
   },
   "kernels_config": {
    "python": {
     "delete_cmd_postfix": "",
     "delete_cmd_prefix": "del ",
     "library": "var_list.py",
     "varRefreshCmd": "print(var_dic_list())"
    },
    "r": {
     "delete_cmd_postfix": ") ",
     "delete_cmd_prefix": "rm(",
     "library": "var_list.r",
     "varRefreshCmd": "cat(var_dic_list()) "
    }
   },
   "types_to_exclude": [
    "module",
    "function",
    "builtin_function_or_method",
    "instance",
    "_Feature"
   ],
   "window_display": false
  }
 },
 "nbformat": 4,
 "nbformat_minor": 5
}
