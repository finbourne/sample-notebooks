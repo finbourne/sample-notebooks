{
 "cells": [
  {
   "cell_type": "markdown",
   "metadata": {},
   "source": [
    "# Initialising LUSID"
   ]
  },
  {
   "cell_type": "code",
   "execution_count": 1,
   "metadata": {
    "pycharm": {
     "is_executing": false
    },
    "scrolled": false
   },
   "outputs": [
    {
     "name": "stdout",
     "output_type": "stream",
     "text": [
      "LUSID Environment Initialised\n",
      "LUSID API Version:  0.5.3313.0\n"
     ]
    }
   ],
   "source": [
    "# Import LUSID\n",
    "import lusid.models as models\n",
    "import lusid_sample_data as import_data\n",
    "\n",
    "# Import Libraries\n",
    "import pprint\n",
    "from datetime import datetime, timedelta, time\n",
    "import pytz\n",
    "import printer as prettyprint\n",
    "import pandas as pd\n",
    "\n",
    "import helper_functions as fun \n",
    "\n",
    "# Authenticate our user and create our API client\n",
    "client = import_data.authenticate_secrets()\n",
    "\n",
    "print ('LUSID Environment Initialised')\n",
    "print ('LUSID API Version: ', client.metadata.get_lusid_versions().build_version)"
   ]
  },
  {
   "cell_type": "code",
   "execution_count": null,
   "metadata": {},
   "outputs": [],
   "source": [
    "# CAUTION: this block is only for experimental domains and should ony be used to de-clutter your domain\n",
    "\n",
    "# WARNING: this deletes ALL existing portfolios FROM ALL SCOPES\n",
    "# fun.delete_all_current_portfolios(client)\n",
    "\n",
    "# WARNING: this deletes ALL existing instruments FROM ALL SCOPES\n",
    "# fun.delete_all_current_instruments(client)"
   ]
  },
  {
   "cell_type": "markdown",
   "metadata": {},
   "source": [
    "![Scopes](img/paper-lusid.gif)"
   ]
  },
  {
   "cell_type": "markdown",
   "metadata": {},
   "source": [
    "## 1) Creating a logically separated environment for each analyst"
   ]
  },
  {
   "cell_type": "code",
   "execution_count": 2,
   "metadata": {
    "pycharm": {
     "is_executing": false
    }
   },
   "outputs": [
    {
     "name": "stdout",
     "output_type": "stream",
     "text": [
      "\u001b[1mAnalyst Scope Code: \u001b[0manalyst-paper-37c5-b819-20df-54\n"
     ]
    }
   ],
   "source": [
    "# Fetch our scopes\n",
    "analyst_scope_code = fun.create_analyst_scope()\n"
   ]
  },
  {
   "cell_type": "markdown",
   "metadata": {},
   "source": [
    "*Our LUSID environment now looks like the below. We will update this with each step.*"
   ]
  },
  {
   "cell_type": "markdown",
   "metadata": {},
   "source": [
    "![Scopes](img/paper-scopes.gif)"
   ]
  },
  {
   "cell_type": "markdown",
   "metadata": {},
   "source": [
    "## 2) Creating our tradeable instrument universe for each analyst"
   ]
  },
  {
   "cell_type": "code",
   "execution_count": 3,
   "metadata": {
    "pycharm": {
     "is_executing": false
    }
   },
   "outputs": [
    {
     "data": {
      "text/html": [
       "<div>\n",
       "<style scoped>\n",
       "    .dataframe tbody tr th:only-of-type {\n",
       "        vertical-align: middle;\n",
       "    }\n",
       "\n",
       "    .dataframe tbody tr th {\n",
       "        vertical-align: top;\n",
       "    }\n",
       "\n",
       "    .dataframe thead th {\n",
       "        text-align: right;\n",
       "    }\n",
       "</style>\n",
       "<table border=\"1\" class=\"dataframe\">\n",
       "  <thead>\n",
       "    <tr style=\"text-align: right;\">\n",
       "      <th></th>\n",
       "      <th>instrument_name</th>\n",
       "      <th>currency</th>\n",
       "      <th>figi</th>\n",
       "      <th>ticker</th>\n",
       "      <th>isin</th>\n",
       "      <th>sedol</th>\n",
       "      <th>client_internal</th>\n",
       "    </tr>\n",
       "  </thead>\n",
       "  <tbody>\n",
       "    <tr>\n",
       "      <td>0</td>\n",
       "      <td>AVEVA GRP</td>\n",
       "      <td>GBP</td>\n",
       "      <td>BBG000C21Y87</td>\n",
       "      <td>AVV</td>\n",
       "      <td>GB00BBG9VN75</td>\n",
       "      <td>BBG9VN7</td>\n",
       "      <td>imd_56344535</td>\n",
       "    </tr>\n",
       "    <tr>\n",
       "      <td>1</td>\n",
       "      <td>BAE SYS.</td>\n",
       "      <td>GBP</td>\n",
       "      <td>BBG000BD5TW4</td>\n",
       "      <td>BA.</td>\n",
       "      <td>GB0002634946</td>\n",
       "      <td>263494</td>\n",
       "      <td>imd_56344983</td>\n",
       "    </tr>\n",
       "    <tr>\n",
       "      <td>2</td>\n",
       "      <td>BATM ADVANCED</td>\n",
       "      <td>GBP</td>\n",
       "      <td>BBG000BFJD77</td>\n",
       "      <td>BVC</td>\n",
       "      <td>IL0010849045</td>\n",
       "      <td>911146</td>\n",
       "      <td>imd_56344098</td>\n",
       "    </tr>\n",
       "    <tr>\n",
       "      <td>3</td>\n",
       "      <td>BTG</td>\n",
       "      <td>GBP</td>\n",
       "      <td>BBG000BZZK79</td>\n",
       "      <td>BTG</td>\n",
       "      <td>GB0001001592</td>\n",
       "      <td>100159</td>\n",
       "      <td>imd_56344345</td>\n",
       "    </tr>\n",
       "    <tr>\n",
       "      <td>4</td>\n",
       "      <td>COBHAM</td>\n",
       "      <td>GBP</td>\n",
       "      <td>BBG000BS6810</td>\n",
       "      <td>COB</td>\n",
       "      <td>GB00B07KD360</td>\n",
       "      <td>B07KD36</td>\n",
       "      <td>imd_56344363</td>\n",
       "    </tr>\n",
       "    <tr>\n",
       "      <td>5</td>\n",
       "      <td>COMPUTACENTER</td>\n",
       "      <td>GBP</td>\n",
       "      <td>BBG000BN7CL9</td>\n",
       "      <td>CCC</td>\n",
       "      <td>GB00BV9FP302</td>\n",
       "      <td>BV9FP30</td>\n",
       "      <td>imd_56344296</td>\n",
       "    </tr>\n",
       "    <tr>\n",
       "      <td>6</td>\n",
       "      <td>CONSORT MED.</td>\n",
       "      <td>GBP</td>\n",
       "      <td>BBG000BD8278</td>\n",
       "      <td>CSRT</td>\n",
       "      <td>GB0000946276</td>\n",
       "      <td>94627</td>\n",
       "      <td>imd_56344187</td>\n",
       "    </tr>\n",
       "    <tr>\n",
       "      <td>7</td>\n",
       "      <td>DIALIGHT</td>\n",
       "      <td>GBP</td>\n",
       "      <td>BBG000BLQNG4</td>\n",
       "      <td>DIA</td>\n",
       "      <td>GB0033057794</td>\n",
       "      <td>3305779</td>\n",
       "      <td>imd_56344572</td>\n",
       "    </tr>\n",
       "    <tr>\n",
       "      <td>8</td>\n",
       "      <td>GENUS</td>\n",
       "      <td>GBP</td>\n",
       "      <td>BBG000CTMKX7</td>\n",
       "      <td>GNS</td>\n",
       "      <td>GB0002074580</td>\n",
       "      <td>207458</td>\n",
       "      <td>imd_56344789</td>\n",
       "    </tr>\n",
       "    <tr>\n",
       "      <td>9</td>\n",
       "      <td>GRESHAM TECH</td>\n",
       "      <td>GBP</td>\n",
       "      <td>BBG000BS2592</td>\n",
       "      <td>GHT</td>\n",
       "      <td>GB0008808825</td>\n",
       "      <td>880882</td>\n",
       "      <td>imd_56344132</td>\n",
       "    </tr>\n",
       "  </tbody>\n",
       "</table>\n",
       "</div>"
      ],
      "text/plain": [
       "  instrument_name currency          figi ticker          isin    sedol  \\\n",
       "0       AVEVA GRP      GBP  BBG000C21Y87    AVV  GB00BBG9VN75  BBG9VN7   \n",
       "1        BAE SYS.      GBP  BBG000BD5TW4    BA.  GB0002634946   263494   \n",
       "2   BATM ADVANCED      GBP  BBG000BFJD77    BVC  IL0010849045   911146   \n",
       "3             BTG      GBP  BBG000BZZK79    BTG  GB0001001592   100159   \n",
       "4          COBHAM      GBP  BBG000BS6810    COB  GB00B07KD360  B07KD36   \n",
       "5   COMPUTACENTER      GBP  BBG000BN7CL9    CCC  GB00BV9FP302  BV9FP30   \n",
       "6    CONSORT MED.      GBP  BBG000BD8278   CSRT  GB0000946276    94627   \n",
       "7        DIALIGHT      GBP  BBG000BLQNG4    DIA  GB0033057794  3305779   \n",
       "8           GENUS      GBP  BBG000CTMKX7    GNS  GB0002074580   207458   \n",
       "9    GRESHAM TECH      GBP  BBG000BS2592    GHT  GB0008808825   880882   \n",
       "\n",
       "  client_internal  \n",
       "0    imd_56344535  \n",
       "1    imd_56344983  \n",
       "2    imd_56344098  \n",
       "3    imd_56344345  \n",
       "4    imd_56344363  \n",
       "5    imd_56344296  \n",
       "6    imd_56344187  \n",
       "7    imd_56344572  \n",
       "8    imd_56344789  \n",
       "9    imd_56344132  "
      ]
     },
     "execution_count": 3,
     "metadata": {},
     "output_type": "execute_result"
    }
   ],
   "source": [
    "# Import our instrument universe from a CSV file using Pandas\n",
    "instrument_universe = pd.read_csv('data/paper-instruments.csv')\n",
    "# Look at the first 10 instruments\n",
    "instrument_universe.head(n=10)"
   ]
  },
  {
   "cell_type": "code",
   "execution_count": 4,
   "metadata": {
    "scrolled": false
   },
   "outputs": [
    {
     "name": "stdout",
     "output_type": "stream",
     "text": [
      "\u001b[91m\u001b[1mInstruments Successfully Upserted: \u001b[0m\n"
     ]
    }
   ],
   "source": [
    "batch_upsert_request = fun.batch_upsert(instrument_universe, \n",
    "                 client)   "
   ]
  },
  {
   "cell_type": "code",
   "execution_count": 5,
   "metadata": {
    "scrolled": true
   },
   "outputs": [
    {
     "name": "stdout",
     "output_type": "stream",
     "text": [
      "\u001b[91m\u001b[1mInstruments Successfully Upserted: \u001b[0m\n"
     ]
    },
    {
     "data": {
      "text/html": [
       "<div>\n",
       "<style scoped>\n",
       "    .dataframe tbody tr th:only-of-type {\n",
       "        vertical-align: middle;\n",
       "    }\n",
       "\n",
       "    .dataframe tbody tr th {\n",
       "        vertical-align: top;\n",
       "    }\n",
       "\n",
       "    .dataframe thead th {\n",
       "        text-align: right;\n",
       "    }\n",
       "</style>\n",
       "<table border=\"1\" class=\"dataframe\">\n",
       "  <thead>\n",
       "    <tr style=\"text-align: right;\">\n",
       "      <th></th>\n",
       "      <th>Instrument</th>\n",
       "      <th>Figi ID</th>\n",
       "      <th>LUSID Instrument ID</th>\n",
       "    </tr>\n",
       "  </thead>\n",
       "  <tbody>\n",
       "    <tr>\n",
       "      <td>0</td>\n",
       "      <td>SDL</td>\n",
       "      <td>BBG000C4HGK1</td>\n",
       "      <td>LUID_NBBPEAXL</td>\n",
       "    </tr>\n",
       "    <tr>\n",
       "      <td>1</td>\n",
       "      <td>SPIRENT</td>\n",
       "      <td>BBG000C4LV50</td>\n",
       "      <td>LUID_OZ9NME0G</td>\n",
       "    </tr>\n",
       "    <tr>\n",
       "      <td>2</td>\n",
       "      <td>CONSORT MED.</td>\n",
       "      <td>BBG000BD8278</td>\n",
       "      <td>LUID_TYAPFP0Q</td>\n",
       "    </tr>\n",
       "    <tr>\n",
       "      <td>3</td>\n",
       "      <td>XP POWER</td>\n",
       "      <td>BBG000BZMBQ2</td>\n",
       "      <td>LUID_88ZHDL5K</td>\n",
       "    </tr>\n",
       "    <tr>\n",
       "      <td>4</td>\n",
       "      <td>GRESHAM TECH</td>\n",
       "      <td>BBG000BS2592</td>\n",
       "      <td>LUID_REHCWF6R</td>\n",
       "    </tr>\n",
       "    <tr>\n",
       "      <td>5</td>\n",
       "      <td>AVEVA GRP</td>\n",
       "      <td>BBG000C21Y87</td>\n",
       "      <td>LUID_XA08PQYW</td>\n",
       "    </tr>\n",
       "    <tr>\n",
       "      <td>6</td>\n",
       "      <td>VECTURA</td>\n",
       "      <td>BBG000PRWXX8</td>\n",
       "      <td>LUID_YZJASMKH</td>\n",
       "    </tr>\n",
       "    <tr>\n",
       "      <td>7</td>\n",
       "      <td>SPECTRIS</td>\n",
       "      <td>BBG000CNV8Z5</td>\n",
       "      <td>LUID_M8EP0KPM</td>\n",
       "    </tr>\n",
       "    <tr>\n",
       "      <td>8</td>\n",
       "      <td>SAGE GRP.</td>\n",
       "      <td>BBG000BN0PP3</td>\n",
       "      <td>LUID_X6QSC75W</td>\n",
       "    </tr>\n",
       "    <tr>\n",
       "      <td>9</td>\n",
       "      <td>RENISHAW</td>\n",
       "      <td>BBG000BDZTQ8</td>\n",
       "      <td>LUID_XQBD5OMX</td>\n",
       "    </tr>\n",
       "    <tr>\n",
       "      <td>10</td>\n",
       "      <td>TRIAD GRP.</td>\n",
       "      <td>BBG000BL9R74</td>\n",
       "      <td>LUID_5SK6NUKH</td>\n",
       "    </tr>\n",
       "    <tr>\n",
       "      <td>11</td>\n",
       "      <td>PADDY PWR BET</td>\n",
       "      <td>BBG000N8GHT0</td>\n",
       "      <td>LUID_KVXJDSSY</td>\n",
       "    </tr>\n",
       "    <tr>\n",
       "      <td>12</td>\n",
       "      <td>KCOM GRP</td>\n",
       "      <td>BBG000BYWT85</td>\n",
       "      <td>LUID_7GLK4IY5</td>\n",
       "    </tr>\n",
       "    <tr>\n",
       "      <td>13</td>\n",
       "      <td>BTG</td>\n",
       "      <td>BBG000BZZK79</td>\n",
       "      <td>LUID_2BLUHB4J</td>\n",
       "    </tr>\n",
       "    <tr>\n",
       "      <td>14</td>\n",
       "      <td>MICRO FOCUS</td>\n",
       "      <td>BBG000G4KJC6</td>\n",
       "      <td>LUID_NHW7YM30</td>\n",
       "    </tr>\n",
       "    <tr>\n",
       "      <td>15</td>\n",
       "      <td>RICARDO</td>\n",
       "      <td>BBG000BDYQS3</td>\n",
       "      <td>LUID_H47DB20N</td>\n",
       "    </tr>\n",
       "    <tr>\n",
       "      <td>16</td>\n",
       "      <td>OXFORD INSTRMNT</td>\n",
       "      <td>BBG000BDWZZ7</td>\n",
       "      <td>LUID_WBYRWORI</td>\n",
       "    </tr>\n",
       "    <tr>\n",
       "      <td>17</td>\n",
       "      <td>GENUS</td>\n",
       "      <td>BBG000CTMKX7</td>\n",
       "      <td>LUID_418ZP2DT</td>\n",
       "    </tr>\n",
       "    <tr>\n",
       "      <td>18</td>\n",
       "      <td>DIALIGHT</td>\n",
       "      <td>BBG000BLQNG4</td>\n",
       "      <td>LUID_JNTQR7TW</td>\n",
       "    </tr>\n",
       "    <tr>\n",
       "      <td>19</td>\n",
       "      <td>ULTRA ELEC.</td>\n",
       "      <td>BBG000HHH4C3</td>\n",
       "      <td>LUID_CTAHUMVG</td>\n",
       "    </tr>\n",
       "    <tr>\n",
       "      <td>20</td>\n",
       "      <td>COBHAM</td>\n",
       "      <td>BBG000BS6810</td>\n",
       "      <td>LUID_4CAFJNZ2</td>\n",
       "    </tr>\n",
       "    <tr>\n",
       "      <td>21</td>\n",
       "      <td>COMPUTACENTER</td>\n",
       "      <td>BBG000BN7CL9</td>\n",
       "      <td>LUID_HCRNBC2M</td>\n",
       "    </tr>\n",
       "    <tr>\n",
       "      <td>22</td>\n",
       "      <td>QINETIQ</td>\n",
       "      <td>BBG000HF3Y54</td>\n",
       "      <td>LUID_ZZP07ZEP</td>\n",
       "    </tr>\n",
       "    <tr>\n",
       "      <td>23</td>\n",
       "      <td>OXFORD BIOMED.</td>\n",
       "      <td>BBG000BMB7T9</td>\n",
       "      <td>LUID_DUDERW1J</td>\n",
       "    </tr>\n",
       "    <tr>\n",
       "      <td>24</td>\n",
       "      <td>MICROGEN</td>\n",
       "      <td>BBG000BDSS88</td>\n",
       "      <td>LUID_B0M9JZ9D</td>\n",
       "    </tr>\n",
       "    <tr>\n",
       "      <td>25</td>\n",
       "      <td>MEGGITT</td>\n",
       "      <td>BBG000BDT1M0</td>\n",
       "      <td>LUID_LGEA91LC</td>\n",
       "    </tr>\n",
       "    <tr>\n",
       "      <td>26</td>\n",
       "      <td>BATM ADVANCED</td>\n",
       "      <td>BBG000BFJD77</td>\n",
       "      <td>LUID_IZWNK5CJ</td>\n",
       "    </tr>\n",
       "    <tr>\n",
       "      <td>27</td>\n",
       "      <td>BAE SYS.</td>\n",
       "      <td>BBG000BD5TW4</td>\n",
       "      <td>LUID_WZUC3UZ3</td>\n",
       "    </tr>\n",
       "    <tr>\n",
       "      <td>28</td>\n",
       "      <td>SMITH&amp;NEPHEW</td>\n",
       "      <td>BBG000BF21F2</td>\n",
       "      <td>LUID_MKZHMKB5</td>\n",
       "    </tr>\n",
       "    <tr>\n",
       "      <td>29</td>\n",
       "      <td>NCC GRP</td>\n",
       "      <td>BBG000BS8WF0</td>\n",
       "      <td>LUID_ZX6JYR0T</td>\n",
       "    </tr>\n",
       "    <tr>\n",
       "      <td>30</td>\n",
       "      <td>XAAR</td>\n",
       "      <td>BBG000BVKQF2</td>\n",
       "      <td>LUID_IF1R9YP9</td>\n",
       "    </tr>\n",
       "  </tbody>\n",
       "</table>\n",
       "</div>"
      ],
      "text/plain": [
       "         Instrument       Figi ID LUSID Instrument ID\n",
       "0               SDL  BBG000C4HGK1       LUID_NBBPEAXL\n",
       "1           SPIRENT  BBG000C4LV50       LUID_OZ9NME0G\n",
       "2      CONSORT MED.  BBG000BD8278       LUID_TYAPFP0Q\n",
       "3          XP POWER  BBG000BZMBQ2       LUID_88ZHDL5K\n",
       "4      GRESHAM TECH  BBG000BS2592       LUID_REHCWF6R\n",
       "5         AVEVA GRP  BBG000C21Y87       LUID_XA08PQYW\n",
       "6           VECTURA  BBG000PRWXX8       LUID_YZJASMKH\n",
       "7          SPECTRIS  BBG000CNV8Z5       LUID_M8EP0KPM\n",
       "8         SAGE GRP.  BBG000BN0PP3       LUID_X6QSC75W\n",
       "9          RENISHAW  BBG000BDZTQ8       LUID_XQBD5OMX\n",
       "10       TRIAD GRP.  BBG000BL9R74       LUID_5SK6NUKH\n",
       "11    PADDY PWR BET  BBG000N8GHT0       LUID_KVXJDSSY\n",
       "12         KCOM GRP  BBG000BYWT85       LUID_7GLK4IY5\n",
       "13              BTG  BBG000BZZK79       LUID_2BLUHB4J\n",
       "14      MICRO FOCUS  BBG000G4KJC6       LUID_NHW7YM30\n",
       "15          RICARDO  BBG000BDYQS3       LUID_H47DB20N\n",
       "16  OXFORD INSTRMNT  BBG000BDWZZ7       LUID_WBYRWORI\n",
       "17            GENUS  BBG000CTMKX7       LUID_418ZP2DT\n",
       "18         DIALIGHT  BBG000BLQNG4       LUID_JNTQR7TW\n",
       "19      ULTRA ELEC.  BBG000HHH4C3       LUID_CTAHUMVG\n",
       "20           COBHAM  BBG000BS6810       LUID_4CAFJNZ2\n",
       "21    COMPUTACENTER  BBG000BN7CL9       LUID_HCRNBC2M\n",
       "22          QINETIQ  BBG000HF3Y54       LUID_ZZP07ZEP\n",
       "23   OXFORD BIOMED.  BBG000BMB7T9       LUID_DUDERW1J\n",
       "24         MICROGEN  BBG000BDSS88       LUID_B0M9JZ9D\n",
       "25          MEGGITT  BBG000BDT1M0       LUID_LGEA91LC\n",
       "26    BATM ADVANCED  BBG000BFJD77       LUID_IZWNK5CJ\n",
       "27         BAE SYS.  BBG000BD5TW4       LUID_WZUC3UZ3\n",
       "28     SMITH&NEPHEW  BBG000BF21F2       LUID_MKZHMKB5\n",
       "29          NCC GRP  BBG000BS8WF0       LUID_ZX6JYR0T\n",
       "30             XAAR  BBG000BVKQF2       LUID_IF1R9YP9"
      ]
     },
     "execution_count": 5,
     "metadata": {},
     "output_type": "execute_result"
    }
   ],
   "source": [
    "# Call LUSID to upsert our batch\n",
    "instrument_response = client.instruments.upsert_instruments(\n",
    "    requests=batch_upsert_request)\n",
    "\n",
    "# Pretty print the response from LUSID\n",
    "prettyprint.instrument_response(instrument_response, identifier='Figi')"
   ]
  },
  {
   "cell_type": "markdown",
   "metadata": {},
   "source": [
    "Our LUSID environment now has an instrument master containing all of our instruments that we will be trading."
   ]
  },
  {
   "cell_type": "markdown",
   "metadata": {},
   "source": [
    "![Scopes](img/paper-instrumentmaster.gif)"
   ]
  },
  {
   "cell_type": "markdown",
   "metadata": {},
   "source": [
    "## 3) Creating a transactions portfolio for each analyst to hold their tradeable instrument universe and creating a reference portfolo for each analyst which contains the index of their tradeable instrument universe and can be used as a benchmark for performance"
   ]
  },
  {
   "cell_type": "code",
   "execution_count": 6,
   "metadata": {
    "pycharm": {
     "is_executing": false
    },
    "scrolled": true
   },
   "outputs": [
    {
     "name": "stdout",
     "output_type": "stream",
     "text": [
      "\u001b[1mTransaction Portfolio Code: \u001b[0mLSE_FTSE_techMarkFocus_transactions_DEMO\n",
      "\u001b[1mReference Portfolio Code: \u001b[0mLSE_FTSE_techMarkFocus_reference_DEMO\n",
      "\u001b[1mPortfolio Created\u001b[0m\n",
      "\u001b[1mScope: \u001b[0manalyst-paper-37c5-b819-20df-54\n",
      "\u001b[1mCode: \u001b[0mLSE_FTSE_techMarkFocus_transactions_DEMO\n",
      "\u001b[1mPortfolio Effective From: \u001b[0m2019-09-27 13:57:15.231965+00:00\n",
      "\u001b[1mPortfolio Created On: \u001b[0m2019-09-30 13:57:15.478709+00:00\n",
      "\n"
     ]
    }
   ],
   "source": [
    "# Define unique codes for each of our portfolios\n",
    "transaction_portfolio_code = 'LSE_FTSE_techMarkFocus_transactions_DEMO'\n",
    "reference_portfolio_code = 'LSE_FTSE_techMarkFocus_reference_DEMO'\n",
    "# Pretty print our codes\n",
    "prettyprint.heading('Transaction Portfolio Code', transaction_portfolio_code)\n",
    "prettyprint.heading('Reference Portfolio Code', reference_portfolio_code)\n",
    "\n",
    "# The date our portfolios were first created\n",
    "portfolio_creation_date = (datetime.now(pytz.UTC) - timedelta(days=3))\n",
    "\n",
    "description = 'Paper transaction portfolio_DEMO'\n",
    "fun.request_transaction_portfolio_creation(transaction_portfolio_code, \n",
    "                                           portfolio_creation_date, \n",
    "                                           analyst_scope_code, \n",
    "                                           description,\n",
    "                                           client)"
   ]
  },
  {
   "cell_type": "markdown",
   "metadata": {},
   "source": [
    "![Scopes](img/paper-transactionsportfolio.gif)"
   ]
  },
  {
   "cell_type": "code",
   "execution_count": 7,
   "metadata": {
    "pycharm": {
     "is_executing": false
    }
   },
   "outputs": [
    {
     "name": "stdout",
     "output_type": "stream",
     "text": [
      "\u001b[1mPortfolio Created\u001b[0m\n",
      "\u001b[1mScope: \u001b[0manalyst-paper-37c5-b819-20df-54\n",
      "\u001b[1mCode: \u001b[0mLSE_FTSE_techMarkFocus_reference_DEMO\n",
      "\u001b[1mPortfolio Effective From: \u001b[0m2019-09-27 13:57:17.996804+00:00\n",
      "\u001b[1mPortfolio Created On: \u001b[0m2019-09-30 13:57:18.368997+00:00\n",
      "\n"
     ]
    }
   ],
   "source": [
    "# The date our portfolios were first created\n",
    "portfolio_creation_date = (datetime.now(pytz.UTC) - timedelta(days=3))\n",
    "\n",
    "fun.request_reference_portfolio_creation(reference_portfolio_code, \n",
    "                                         portfolio_creation_date, \n",
    "                                         analyst_scope_code, \n",
    "                                         client)\n"
   ]
  },
  {
   "cell_type": "markdown",
   "metadata": {},
   "source": [
    "![Scopes](img/paper-referenceportfolio.gif)"
   ]
  },
  {
   "cell_type": "markdown",
   "metadata": {},
   "source": [
    "## 4) Populating our analyst's portfolio with a starting cash balance"
   ]
  },
  {
   "cell_type": "code",
   "execution_count": 8,
   "metadata": {
    "pycharm": {
     "is_executing": false
    },
    "scrolled": true
   },
   "outputs": [
    {
     "name": "stdout",
     "output_type": "stream",
     "text": [
      "\u001b[1mHoldings Successfully Set for Portfolio\u001b[0m\n",
      "\u001b[1mScope: \u001b[0manalyst-paper-37c5-b819-20df-54\n",
      "\u001b[1mCode: \u001b[0mLSE_FTSE_techMarkFocus_transactions_DEMO\n",
      "\u001b[1mHoldings Effective From: \u001b[0m2019-09-27 16:21:21.437131+00:00\n",
      "\u001b[1mHoldings Created On: \u001b[0m2019-09-30 13:57:21.764164+00:00\n",
      "\n"
     ]
    }
   ],
   "source": [
    "# Set the date from which the cash balance will apply to be just after portfolio creation\n",
    "holdings_effective_date = (datetime.now(pytz.UTC) - timedelta(days=2.9))\n",
    "# Define our initial cash balance\n",
    "initial_cash_balance = 30000000\n",
    "\n",
    "# # Create a holding adjustment to set our initial cash balance\n",
    "fun.populate_with_cash(holdings_effective_date, \n",
    "                       initial_cash_balance, \n",
    "                       analyst_scope_code, \n",
    "                       transaction_portfolio_code, \n",
    "                       client)\n"
   ]
  },
  {
   "cell_type": "markdown",
   "metadata": {},
   "source": [
    "Our transactions portfolio is now populated with an initial cash balance and is no longer empty."
   ]
  },
  {
   "cell_type": "markdown",
   "metadata": {},
   "source": [
    "![Scopes](img/paper-transactionsportfoliofilled.gif)"
   ]
  },
  {
   "cell_type": "markdown",
   "metadata": {},
   "source": [
    "## 5) Populating our reference portfolio with the correct weights so that it tracks the index as closely as possible"
   ]
  },
  {
   "cell_type": "code",
   "execution_count": 9,
   "metadata": {
    "pycharm": {
     "is_executing": false
    }
   },
   "outputs": [
    {
     "data": {
      "text/html": [
       "<div>\n",
       "<style scoped>\n",
       "    .dataframe tbody tr th:only-of-type {\n",
       "        vertical-align: middle;\n",
       "    }\n",
       "\n",
       "    .dataframe tbody tr th {\n",
       "        vertical-align: top;\n",
       "    }\n",
       "\n",
       "    .dataframe thead th {\n",
       "        text-align: right;\n",
       "    }\n",
       "</style>\n",
       "<table border=\"1\" class=\"dataframe\">\n",
       "  <thead>\n",
       "    <tr style=\"text-align: right;\">\n",
       "      <th></th>\n",
       "      <th>instrument_name</th>\n",
       "      <th>currency</th>\n",
       "      <th>figi</th>\n",
       "      <th>ticker</th>\n",
       "      <th>isin</th>\n",
       "      <th>sedol</th>\n",
       "      <th>marketcap</th>\n",
       "    </tr>\n",
       "  </thead>\n",
       "  <tbody>\n",
       "    <tr>\n",
       "      <td>0</td>\n",
       "      <td>AVEVA GRP</td>\n",
       "      <td>GBP</td>\n",
       "      <td>BBG000C21Y87</td>\n",
       "      <td>AVV</td>\n",
       "      <td>GB00BBG9VN75</td>\n",
       "      <td>BBG9VN7</td>\n",
       "      <td>4502.68</td>\n",
       "    </tr>\n",
       "    <tr>\n",
       "      <td>1</td>\n",
       "      <td>BAE SYS.</td>\n",
       "      <td>GBP</td>\n",
       "      <td>BBG000BD5TW4</td>\n",
       "      <td>BA.</td>\n",
       "      <td>GB0002634946</td>\n",
       "      <td>0263494</td>\n",
       "      <td>16349.66</td>\n",
       "    </tr>\n",
       "    <tr>\n",
       "      <td>2</td>\n",
       "      <td>BATM ADVANCED</td>\n",
       "      <td>GBP</td>\n",
       "      <td>BBG000BFJD77</td>\n",
       "      <td>BVC</td>\n",
       "      <td>IL0010849045</td>\n",
       "      <td>911146</td>\n",
       "      <td>185.25</td>\n",
       "    </tr>\n",
       "    <tr>\n",
       "      <td>3</td>\n",
       "      <td>BTG</td>\n",
       "      <td>GBP</td>\n",
       "      <td>BBG000BZZK79</td>\n",
       "      <td>BTG</td>\n",
       "      <td>GB0001001592</td>\n",
       "      <td>100159</td>\n",
       "      <td>3202.20</td>\n",
       "    </tr>\n",
       "    <tr>\n",
       "      <td>4</td>\n",
       "      <td>COBHAM</td>\n",
       "      <td>GBP</td>\n",
       "      <td>BBG000BS6810</td>\n",
       "      <td>COB</td>\n",
       "      <td>GB00B07KD360</td>\n",
       "      <td>B07KD36</td>\n",
       "      <td>2579.90</td>\n",
       "    </tr>\n",
       "    <tr>\n",
       "      <td>5</td>\n",
       "      <td>COMPUTACENTER</td>\n",
       "      <td>GBP</td>\n",
       "      <td>BBG000BN7CL9</td>\n",
       "      <td>CCC</td>\n",
       "      <td>GB00BV9FP302</td>\n",
       "      <td>BV9FP30</td>\n",
       "      <td>1161.96</td>\n",
       "    </tr>\n",
       "    <tr>\n",
       "      <td>6</td>\n",
       "      <td>CONSORT MED.</td>\n",
       "      <td>GBP</td>\n",
       "      <td>BBG000BD8278</td>\n",
       "      <td>CSRT</td>\n",
       "      <td>GB0000946276</td>\n",
       "      <td>0094627</td>\n",
       "      <td>422.56</td>\n",
       "    </tr>\n",
       "    <tr>\n",
       "      <td>7</td>\n",
       "      <td>DIALIGHT</td>\n",
       "      <td>GBP</td>\n",
       "      <td>BBG000BLQNG4</td>\n",
       "      <td>DIA</td>\n",
       "      <td>GB0033057794</td>\n",
       "      <td>3305779</td>\n",
       "      <td>133.39</td>\n",
       "    </tr>\n",
       "    <tr>\n",
       "      <td>8</td>\n",
       "      <td>GENUS</td>\n",
       "      <td>GBP</td>\n",
       "      <td>BBG000CTMKX7</td>\n",
       "      <td>GNS</td>\n",
       "      <td>GB0002074580</td>\n",
       "      <td>0207458</td>\n",
       "      <td>1455.72</td>\n",
       "    </tr>\n",
       "    <tr>\n",
       "      <td>9</td>\n",
       "      <td>GRESHAM TECH</td>\n",
       "      <td>GBP</td>\n",
       "      <td>BBG000BS2592</td>\n",
       "      <td>GHT</td>\n",
       "      <td>GB0008808825</td>\n",
       "      <td>0880882</td>\n",
       "      <td>64.34</td>\n",
       "    </tr>\n",
       "  </tbody>\n",
       "</table>\n",
       "</div>"
      ],
      "text/plain": [
       "  instrument_name currency          figi ticker          isin    sedol  \\\n",
       "0       AVEVA GRP      GBP  BBG000C21Y87    AVV  GB00BBG9VN75  BBG9VN7   \n",
       "1        BAE SYS.      GBP  BBG000BD5TW4    BA.  GB0002634946  0263494   \n",
       "2   BATM ADVANCED      GBP  BBG000BFJD77    BVC  IL0010849045   911146   \n",
       "3             BTG      GBP  BBG000BZZK79    BTG  GB0001001592   100159   \n",
       "4          COBHAM      GBP  BBG000BS6810    COB  GB00B07KD360  B07KD36   \n",
       "5   COMPUTACENTER      GBP  BBG000BN7CL9    CCC  GB00BV9FP302  BV9FP30   \n",
       "6    CONSORT MED.      GBP  BBG000BD8278   CSRT  GB0000946276  0094627   \n",
       "7        DIALIGHT      GBP  BBG000BLQNG4    DIA  GB0033057794  3305779   \n",
       "8           GENUS      GBP  BBG000CTMKX7    GNS  GB0002074580  0207458   \n",
       "9    GRESHAM TECH      GBP  BBG000BS2592    GHT  GB0008808825  0880882   \n",
       "\n",
       "   marketcap  \n",
       "0    4502.68  \n",
       "1   16349.66  \n",
       "2     185.25  \n",
       "3    3202.20  \n",
       "4    2579.90  \n",
       "5    1161.96  \n",
       "6     422.56  \n",
       "7     133.39  \n",
       "8    1455.72  \n",
       "9      64.34  "
      ]
     },
     "execution_count": 9,
     "metadata": {},
     "output_type": "execute_result"
    }
   ],
   "source": [
    "# Import the market capitalisation of each of our instruments in the index\n",
    "instrument_market_cap = pd.read_csv('data/paper-weights.csv')\n",
    "# Take a look at the first 10 market capitalisations\n",
    "instrument_market_cap.head(n=10)"
   ]
  },
  {
   "cell_type": "code",
   "execution_count": 10,
   "metadata": {},
   "outputs": [
    {
     "name": "stdout",
     "output_type": "stream",
     "text": [
      "Constituents Upserted\n"
     ]
    }
   ],
   "source": [
    "# upsert contituents to LUSID\n",
    "fun.upsert_constituents(instrument_market_cap, \n",
    "                        holdings_effective_date, \n",
    "                        analyst_scope_code, \n",
    "                        reference_portfolio_code, \n",
    "                        client)"
   ]
  },
  {
   "cell_type": "markdown",
   "metadata": {},
   "source": [
    "![Scopes](img/paper-referenceportfoliofilled.gif)"
   ]
  },
  {
   "cell_type": "markdown",
   "metadata": {},
   "source": [
    "## 6) Allow our analysts to trade across their tradeable instrument universe and add their transactions to their transaction portfolio"
   ]
  },
  {
   "cell_type": "code",
   "execution_count": 11,
   "metadata": {
    "pycharm": {
     "is_executing": false
    },
    "scrolled": true
   },
   "outputs": [
    {
     "name": "stdout",
     "output_type": "stream",
     "text": [
      "\u001b[1mStrategy Property Key: : \u001b[0mTransaction/analyst-paper-37c5-b819-20df-54/strategy\n"
     ]
    }
   ],
   "source": [
    "# Import our analyst's trades from a CSV file\n",
    "analyst_transactions = import_data.fetch_client_transactions(\n",
    "    'paper-transactions.csv',\n",
    "    days_back=2)\n",
    "analyst_transactions.head(n=20)\n",
    "\n",
    "# Create a request to define our strategy property\n",
    "domain = 'Transaction'\n",
    "scope = analyst_scope_code\n",
    "code='strategy'\n",
    "display_name='strategy'\n",
    "\n",
    "strategy_property_key = fun.request_define_property(domain, \n",
    "                                                    scope, \n",
    "                                                    code, \n",
    "                                                    display_name, \n",
    "                                                    client)\n"
   ]
  },
  {
   "cell_type": "code",
   "execution_count": 12,
   "metadata": {},
   "outputs": [
    {
     "name": "stdout",
     "output_type": "stream",
     "text": [
      "\u001b[1mTransactions Successfully Upserted into Portfolio\u001b[0m\n",
      "\u001b[1mScope: \u001b[0manalyst-paper-37c5-b819-20df-54\n",
      "\u001b[1mCode: \u001b[0mLSE_FTSE_techMarkFocus_transactions_DEMO\n",
      "\u001b[1mTransactions Effective From: \u001b[0m2019-09-29 16:21:46.074797+00:00\n",
      "\u001b[1mTransactions Created On: \u001b[0m2019-09-30 13:57:33.310661+00:00\n",
      "\n"
     ]
    }
   ],
   "source": [
    "# upsert all analyist transactions to LUSID\n",
    "fun.upsert_trades(analyst_transactions, \n",
    "                  strategy_property_key, \n",
    "                  analyst_scope_code, \n",
    "                  transaction_portfolio_code, \n",
    "                  client)"
   ]
  },
  {
   "cell_type": "markdown",
   "metadata": {},
   "source": [
    "Our transaction portfolio is now populated with our analyst's paper trades."
   ]
  },
  {
   "cell_type": "markdown",
   "metadata": {},
   "source": [
    "## 7) Create an analytics store to hold the latest prices of our tradeable instrument universe"
   ]
  },
  {
   "cell_type": "code",
   "execution_count": 13,
   "metadata": {
    "pycharm": {
     "is_executing": false
    }
   },
   "outputs": [
    {
     "data": {
      "text/html": [
       "<div>\n",
       "<style scoped>\n",
       "    .dataframe tbody tr th:only-of-type {\n",
       "        vertical-align: middle;\n",
       "    }\n",
       "\n",
       "    .dataframe tbody tr th {\n",
       "        vertical-align: top;\n",
       "    }\n",
       "\n",
       "    .dataframe thead th {\n",
       "        text-align: right;\n",
       "    }\n",
       "</style>\n",
       "<table border=\"1\" class=\"dataframe\">\n",
       "  <thead>\n",
       "    <tr style=\"text-align: right;\">\n",
       "      <th></th>\n",
       "      <th>instrument_name</th>\n",
       "      <th>currency</th>\n",
       "      <th>figi</th>\n",
       "      <th>price_original</th>\n",
       "      <th>price_current</th>\n",
       "      <th>ticker</th>\n",
       "      <th>isin</th>\n",
       "      <th>sedol</th>\n",
       "    </tr>\n",
       "  </thead>\n",
       "  <tbody>\n",
       "    <tr>\n",
       "      <td>0</td>\n",
       "      <td>AVEVA GRP</td>\n",
       "      <td>GBP</td>\n",
       "      <td>BBG000C21Y87</td>\n",
       "      <td>27.84</td>\n",
       "      <td>30.32</td>\n",
       "      <td>AVV</td>\n",
       "      <td>GB00BBG9VN75</td>\n",
       "      <td>BBG9VN7</td>\n",
       "    </tr>\n",
       "    <tr>\n",
       "      <td>1</td>\n",
       "      <td>BAE SYS.</td>\n",
       "      <td>GBP</td>\n",
       "      <td>BBG000BD5TW4</td>\n",
       "      <td>5.15</td>\n",
       "      <td>4.78</td>\n",
       "      <td>BA.</td>\n",
       "      <td>GB0002634946</td>\n",
       "      <td>263494</td>\n",
       "    </tr>\n",
       "    <tr>\n",
       "      <td>2</td>\n",
       "      <td>BATM ADVANCED</td>\n",
       "      <td>GBP</td>\n",
       "      <td>BBG000BFJD77</td>\n",
       "      <td>0.46</td>\n",
       "      <td>0.42</td>\n",
       "      <td>BVC</td>\n",
       "      <td>IL0010849045</td>\n",
       "      <td>911146</td>\n",
       "    </tr>\n",
       "    <tr>\n",
       "      <td>3</td>\n",
       "      <td>BTG</td>\n",
       "      <td>GBP</td>\n",
       "      <td>BBG000BZZK79</td>\n",
       "      <td>8.28</td>\n",
       "      <td>8.97</td>\n",
       "      <td>BTG</td>\n",
       "      <td>GB0001001592</td>\n",
       "      <td>100159</td>\n",
       "    </tr>\n",
       "    <tr>\n",
       "      <td>4</td>\n",
       "      <td>COBHAM</td>\n",
       "      <td>GBP</td>\n",
       "      <td>BBG000BS6810</td>\n",
       "      <td>1.07</td>\n",
       "      <td>1.02</td>\n",
       "      <td>COB</td>\n",
       "      <td>GB00B07KD360</td>\n",
       "      <td>B07KD36</td>\n",
       "    </tr>\n",
       "    <tr>\n",
       "      <td>5</td>\n",
       "      <td>COMPUTACENTER</td>\n",
       "      <td>GBP</td>\n",
       "      <td>BBG000BN7CL9</td>\n",
       "      <td>10.68</td>\n",
       "      <td>11.46</td>\n",
       "      <td>CCC</td>\n",
       "      <td>GB00BV9FP302</td>\n",
       "      <td>BV9FP30</td>\n",
       "    </tr>\n",
       "    <tr>\n",
       "      <td>6</td>\n",
       "      <td>CONSORT MED.</td>\n",
       "      <td>GBP</td>\n",
       "      <td>BBG000BD8278</td>\n",
       "      <td>8.70</td>\n",
       "      <td>9.31</td>\n",
       "      <td>CSRT</td>\n",
       "      <td>GB0000946276</td>\n",
       "      <td>94627</td>\n",
       "    </tr>\n",
       "    <tr>\n",
       "      <td>7</td>\n",
       "      <td>DIALIGHT</td>\n",
       "      <td>GBP</td>\n",
       "      <td>BBG000BLQNG4</td>\n",
       "      <td>3.92</td>\n",
       "      <td>3.55</td>\n",
       "      <td>DIA</td>\n",
       "      <td>GB0033057794</td>\n",
       "      <td>3305779</td>\n",
       "    </tr>\n",
       "    <tr>\n",
       "      <td>8</td>\n",
       "      <td>GENUS</td>\n",
       "      <td>GBP</td>\n",
       "      <td>BBG000CTMKX7</td>\n",
       "      <td>22.46</td>\n",
       "      <td>20.60</td>\n",
       "      <td>GNS</td>\n",
       "      <td>GB0002074580</td>\n",
       "      <td>207458</td>\n",
       "    </tr>\n",
       "    <tr>\n",
       "      <td>9</td>\n",
       "      <td>GRESHAM TECH</td>\n",
       "      <td>GBP</td>\n",
       "      <td>BBG000BS2592</td>\n",
       "      <td>0.94</td>\n",
       "      <td>1.00</td>\n",
       "      <td>GHT</td>\n",
       "      <td>GB0008808825</td>\n",
       "      <td>880882</td>\n",
       "    </tr>\n",
       "  </tbody>\n",
       "</table>\n",
       "</div>"
      ],
      "text/plain": [
       "  instrument_name currency          figi  price_original  price_current  \\\n",
       "0       AVEVA GRP      GBP  BBG000C21Y87           27.84          30.32   \n",
       "1        BAE SYS.      GBP  BBG000BD5TW4            5.15           4.78   \n",
       "2   BATM ADVANCED      GBP  BBG000BFJD77            0.46           0.42   \n",
       "3             BTG      GBP  BBG000BZZK79            8.28           8.97   \n",
       "4          COBHAM      GBP  BBG000BS6810            1.07           1.02   \n",
       "5   COMPUTACENTER      GBP  BBG000BN7CL9           10.68          11.46   \n",
       "6    CONSORT MED.      GBP  BBG000BD8278            8.70           9.31   \n",
       "7        DIALIGHT      GBP  BBG000BLQNG4            3.92           3.55   \n",
       "8           GENUS      GBP  BBG000CTMKX7           22.46          20.60   \n",
       "9    GRESHAM TECH      GBP  BBG000BS2592            0.94           1.00   \n",
       "\n",
       "  ticker          isin    sedol  \n",
       "0    AVV  GB00BBG9VN75  BBG9VN7  \n",
       "1    BA.  GB0002634946   263494  \n",
       "2    BVC  IL0010849045   911146  \n",
       "3    BTG  GB0001001592   100159  \n",
       "4    COB  GB00B07KD360  B07KD36  \n",
       "5    CCC  GB00BV9FP302  BV9FP30  \n",
       "6   CSRT  GB0000946276    94627  \n",
       "7    DIA  GB0033057794  3305779  \n",
       "8    GNS  GB0002074580   207458  \n",
       "9    GHT  GB0008808825   880882  "
      ]
     },
     "execution_count": 13,
     "metadata": {},
     "output_type": "execute_result"
    }
   ],
   "source": [
    "# Import our instrument prices from a CSV file\n",
    "instrument_prices = pd.read_csv('data/paper-analytics.csv')\n",
    "# Pretty print our pricing\n",
    "instrument_prices.head(n=10)"
   ]
  },
  {
   "cell_type": "code",
   "execution_count": 14,
   "metadata": {},
   "outputs": [
    {
     "name": "stdout",
     "output_type": "stream",
     "text": [
      "Analytics Set\n"
     ]
    }
   ],
   "source": [
    "# Set our analytics effective dates\n",
    "analytics_effective_date = datetime.now(pytz.UTC) - timedelta(days=3)\n",
    "today = datetime.now(pytz.UTC)\n",
    "analytics_store_dates = [analytics_effective_date, today]\n",
    "\n",
    "fun.create_instrument_analytics(analytics_effective_date, \n",
    "                                today, \n",
    "                                analytics_store_dates, \n",
    "                                instrument_prices, \n",
    "                                analyst_scope_code, \n",
    "                                client)\n",
    "    "
   ]
  },
  {
   "cell_type": "markdown",
   "metadata": {},
   "source": [
    "![Scopes](img/paper-analyticsstore.gif)"
   ]
  },
  {
   "cell_type": "markdown",
   "metadata": {},
   "source": [
    "## 8) Value each portfolio using our analytics store"
   ]
  },
  {
   "cell_type": "code",
   "execution_count": 15,
   "metadata": {
    "pycharm": {
     "is_executing": false
    },
    "scrolled": true
   },
   "outputs": [
    {
     "name": "stdout",
     "output_type": "stream",
     "text": [
      "\u001b[1mInstrument :\u001b[0mLusidInstrumentId=LUID_X6QSC75W/GBP\n",
      "\u001b[1mUnits :\u001b[0m-98000.0\n",
      "\u001b[1mCurrent Price :£\u001b[0m6.57\n",
      "\u001b[1mPresent Value :\u001b[0m£-643432.72\n",
      "\u001b[1mCost :\u001b[0m£-577220.0\n",
      "\u001b[1mReturn :\u001b[0m-11.471%\n",
      "\n",
      "\u001b[1mInstrument :\u001b[0mLusidInstrumentId=LUID_JNTQR7TW/GBP\n",
      "\u001b[1mUnits :\u001b[0m1500000.0\n",
      "\u001b[1mCurrent Price :£\u001b[0m3.55\n",
      "\u001b[1mPresent Value :\u001b[0m£5327280.0\n",
      "\u001b[1mCost :\u001b[0m£6270000.0\n",
      "\u001b[1mReturn :\u001b[0m-15.0354%\n",
      "\n",
      "\u001b[1mInstrument :\u001b[0mLusidInstrumentId=LUID_XA08PQYW/GBP\n",
      "\u001b[1mUnits :\u001b[0m265600.0\n",
      "\u001b[1mCurrent Price :£\u001b[0m30.32\n",
      "\u001b[1mPresent Value :\u001b[0m£8052397.06\n",
      "\u001b[1mCost :\u001b[0m£7686464.0\n",
      "\u001b[1mReturn :\u001b[0m4.7607%\n",
      "\n",
      "\u001b[1mInstrument :\u001b[0mLusidInstrumentId=LUID_418ZP2DT/GBP\n",
      "\u001b[1mUnits :\u001b[0m345000.0\n",
      "\u001b[1mCurrent Price :£\u001b[0m20.6\n",
      "\u001b[1mPresent Value :\u001b[0m£7105557.9\n",
      "\u001b[1mCost :\u001b[0m£7590000.0\n",
      "\u001b[1mReturn :\u001b[0m-6.3826%\n",
      "\n",
      "\u001b[1mInstrument :\u001b[0mLusidInstrumentId=LUID_NHW7YM30/GBP\n",
      "\u001b[1mUnits :\u001b[0m-543000.0\n",
      "\u001b[1mCurrent Price :£\u001b[0m13.82\n",
      "\u001b[1mPresent Value :\u001b[0m£-7503461.79\n",
      "\u001b[1mCost :\u001b[0m£-7384800.0\n",
      "\u001b[1mReturn :\u001b[0m-1.6068%\n",
      "\n",
      "\u001b[1mInstrument :\u001b[0mLusidInstrumentId=LUID_88ZHDL5K/GBP\n",
      "\u001b[1mUnits :\u001b[0m98000.0\n",
      "\u001b[1mCurrent Price :£\u001b[0m19.51\n",
      "\u001b[1mPresent Value :\u001b[0m£1912019.2\n",
      "\u001b[1mCost :\u001b[0m£2156000.0\n",
      "\u001b[1mReturn :\u001b[0m-11.3164%\n",
      "\n",
      "\u001b[1mInstrument :\u001b[0mLusidInstrumentId=LUID_CTAHUMVG/GBP\n",
      "\u001b[1mUnits :\u001b[0m120000.0\n",
      "\u001b[1mCurrent Price :£\u001b[0m13.36\n",
      "\u001b[1mPresent Value :\u001b[0m£1603546.8\n",
      "\u001b[1mCost :\u001b[0m£1582800.0\n",
      "\u001b[1mReturn :\u001b[0m1.3108%\n",
      "\n",
      "\u001b[1mInstrument :\u001b[0mLusidInstrumentId=LUID_B0M9JZ9D/GBP\n",
      "\u001b[1mUnits :\u001b[0m234000.0\n",
      "\u001b[1mCurrent Price :£\u001b[0m3.6\n",
      "\u001b[1mPresent Value :\u001b[0m£843094.98\n",
      "\u001b[1mCost :\u001b[0m£917280.0\n",
      "\u001b[1mReturn :\u001b[0m-8.0875%\n",
      "\n",
      "\u001b[1mInstrument :\u001b[0mLusidInstrumentId=LUID_HCRNBC2M/GBP\n",
      "\u001b[1mUnits :\u001b[0m-150000.0\n",
      "\u001b[1mCurrent Price :£\u001b[0m11.46\n",
      "\u001b[1mPresent Value :\u001b[0m£-1718946.0\n",
      "\u001b[1mCost :\u001b[0m£-1575000.0\n",
      "\u001b[1mReturn :\u001b[0m-9.1394%\n",
      "\n",
      "\u001b[1mInstrument :\u001b[0mLusidInstrumentId=LUID_NBBPEAXL/GBP\n",
      "\u001b[1mUnits :\u001b[0m55000.0\n",
      "\u001b[1mCurrent Price :£\u001b[0m5.6\n",
      "\u001b[1mPresent Value :\u001b[0m£308154.0\n",
      "\u001b[1mCost :\u001b[0m£305250.0\n",
      "\u001b[1mReturn :\u001b[0m0.9514%\n",
      "\n",
      "\u001b[1mInstrument :\u001b[0mLusidInstrumentId=LUID_IZWNK5CJ/GBP\n",
      "\u001b[1mUnits :\u001b[0m750000.0\n",
      "\u001b[1mCurrent Price :£\u001b[0m0.42\n",
      "\u001b[1mPresent Value :\u001b[0m£318431.25\n",
      "\u001b[1mCost :\u001b[0m£347250.0\n",
      "\u001b[1mReturn :\u001b[0m-8.2991%\n",
      "\n",
      "\u001b[1mTOTAL RETURN: \u001b[0m-9.8936%\n"
     ]
    }
   ],
   "source": [
    "# create aggregation request\n",
    "aggregation_request = fun.create_aggregation_request(analyst_scope_code, today, transaction_portfolio_code, client)\n",
    "\n",
    "# Call LUSID to aggregate across all of our portfolios\n",
    "aggregated_portfolio = client.aggregation.get_aggregation_by_portfolio(\n",
    "    scope=analyst_scope_code,\n",
    "    code=transaction_portfolio_code,\n",
    "    request=aggregation_request)\n",
    "\n",
    "prettyprint.aggregation_response_paper(aggregated_portfolio)"
   ]
  },
  {
   "cell_type": "markdown",
   "metadata": {},
   "source": [
    "## 9) Compare performance across the analyst's reference and transaction portfolios"
   ]
  },
  {
   "cell_type": "code",
   "execution_count": 16,
   "metadata": {
    "pycharm": {
     "is_executing": false
    }
   },
   "outputs": [
    {
     "name": "stdout",
     "output_type": "stream",
     "text": [
      "\u001b[1mIndex Portfolio Code: \u001b[0mLSE_FTSE_techMarkFocus_index_DEMO\n",
      "\u001b[1mPortfolio Created\u001b[0m\n",
      "\u001b[1mScope: \u001b[0manalyst-paper-37c5-b819-20df-54\n",
      "\u001b[1mCode: \u001b[0mLSE_FTSE_techMarkFocus_index_DEMO\n",
      "\u001b[1mPortfolio Effective From: \u001b[0m2019-09-27 13:57:17.996804+00:00\n",
      "\u001b[1mPortfolio Created On: \u001b[0m2019-09-30 13:57:49.511764+00:00\n",
      "\n"
     ]
    }
   ],
   "source": [
    "# create index portfolio\n",
    "index_portfolio_code = 'LSE_FTSE_techMarkFocus_index_DEMO'\n",
    "prettyprint.heading('Index Portfolio Code', index_portfolio_code)\n",
    "\n",
    "description = 'Index transaction portfolio_DEMO'\n",
    "fun.request_transaction_portfolio_creation(index_portfolio_code, \n",
    "                                           portfolio_creation_date, \n",
    "                                           analyst_scope_code, \n",
    "                                           description,\n",
    "                                           client)\n"
   ]
  },
  {
   "cell_type": "markdown",
   "metadata": {},
   "source": [
    "We now have an index portfolio that we can use to hold our index and obtain our benchmark."
   ]
  },
  {
   "cell_type": "markdown",
   "metadata": {},
   "source": [
    "![Scopes](img/paper-indexportfolio.gif)"
   ]
  },
  {
   "cell_type": "code",
   "execution_count": 17,
   "metadata": {
    "scrolled": true
   },
   "outputs": [
    {
     "name": "stdout",
     "output_type": "stream",
     "text": [
      "\u001b[1mHoldings Successfully Set for Portfolio\u001b[0m\n",
      "\u001b[1mScope: \u001b[0manalyst-paper-37c5-b819-20df-54\n",
      "\u001b[1mCode: \u001b[0mLSE_FTSE_techMarkFocus_index_DEMO\n",
      "\u001b[1mHoldings Effective From: \u001b[0m2019-09-27 13:57:17.996804+00:00\n",
      "\u001b[1mHoldings Created On: \u001b[0m2019-09-30 13:57:55.976065+00:00\n",
      "\n"
     ]
    }
   ],
   "source": [
    "# setup an index portfolio\n",
    "index_setup = fun.setup_index(analyst_scope_code, reference_portfolio_code, instrument_prices, client)\n",
    "\n",
    "# Call LUSID to set all of our holdings to the initial index level\n",
    "adjust_holdings_response = client.transaction_portfolios.set_holdings(\n",
    "    scope=analyst_scope_code,\n",
    "    code=index_portfolio_code,\n",
    "    effective_at=portfolio_creation_date,\n",
    "    holding_adjustments=index_setup)\n",
    "\n",
    "prettyprint.set_holdings_response(\n",
    "    adjust_holdings_response, \n",
    "    analyst_scope_code, \n",
    "    index_portfolio_code)"
   ]
  },
  {
   "cell_type": "markdown",
   "metadata": {},
   "source": [
    "We now have an index portfolio that we can value."
   ]
  },
  {
   "cell_type": "markdown",
   "metadata": {},
   "source": [
    "![Scopes](img/paper-indexportfoliofilled.gif)"
   ]
  },
  {
   "cell_type": "code",
   "execution_count": 18,
   "metadata": {
    "pycharm": {
     "is_executing": false
    }
   },
   "outputs": [
    {
     "name": "stdout",
     "output_type": "stream",
     "text": [
      "\u001b[1mInitial Index Level :\u001b[0m999.98\n",
      "\u001b[1mCurrent Index Level :\u001b[0m995.97\n",
      "\u001b[1mReturn :\u001b[0m-0.4013%\n"
     ]
    }
   ],
   "source": [
    "fun.create_analytics_aggregation_request(analyst_scope_code, index_portfolio_code, today, client)\n"
   ]
  }
 ],
 "metadata": {
  "kernelspec": {
   "display_name": "Python 3",
   "language": "python",
   "name": "python3"
  },
  "language_info": {
   "codemirror_mode": {
    "name": "ipython",
    "version": 3
   },
   "file_extension": ".py",
   "mimetype": "text/x-python",
   "name": "python",
   "nbconvert_exporter": "python",
   "pygments_lexer": "ipython3",
   "version": "3.6.6"
  },
  "pycharm": {
   "stem_cell": {
    "cell_type": "raw",
    "metadata": {
     "collapsed": false
    },
    "source": []
   }
  }
 },
 "nbformat": 4,
 "nbformat_minor": 2
}
