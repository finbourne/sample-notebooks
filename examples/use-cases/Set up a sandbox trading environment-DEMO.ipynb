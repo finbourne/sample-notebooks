{
 "cells": [
  {
   "cell_type": "markdown",
   "metadata": {},
   "source": [
    "# Initialising LUSID"
   ]
  },
  {
   "cell_type": "code",
   "execution_count": 1,
   "metadata": {
    "pycharm": {
     "is_executing": false
    },
    "scrolled": false
   },
   "outputs": [
    {
     "name": "stdout",
     "output_type": "stream",
     "text": [
      "LUSID Environment Initialised\n",
      "LUSID API Version:  0.5.3337.0\n"
     ]
    }
   ],
   "source": [
    "# Import LUSID\n",
    "import lusid.models as models\n",
    "import lusid_sample_data as import_data\n",
    "\n",
    "# Import Libraries\n",
    "import pprint\n",
    "from datetime import datetime, timedelta, time\n",
    "import pytz\n",
    "import printer as prettyprint\n",
    "import pandas as pd\n",
    "\n",
    "import helper_functions as fun \n",
    "\n",
    "# Authenticate our user and create our API client\n",
    "client = import_data.authenticate_secrets()\n",
    "\n",
    "print ('LUSID Environment Initialised')\n",
    "print ('LUSID API Version: ', client.metadata.get_lusid_versions().build_version)"
   ]
  },
  {
   "cell_type": "markdown",
   "metadata": {},
   "source": [
    "![Scopes](img/paper-lusid.gif)"
   ]
  },
  {
   "cell_type": "markdown",
   "metadata": {},
   "source": [
    "## 1) Creating a logically separated environment for each analyst"
   ]
  },
  {
   "cell_type": "code",
   "execution_count": 2,
   "metadata": {
    "pycharm": {
     "is_executing": false
    }
   },
   "outputs": [
    {
     "name": "stdout",
     "output_type": "stream",
     "text": [
      "\u001b[1mAnalyst Scope Code: \u001b[0manalyst-paper-37c7-6237-a461-e4\n"
     ]
    }
   ],
   "source": [
    "# Fetch our scopes\n",
    "analyst_scope_code = fun.create_analyst_scope()\n"
   ]
  },
  {
   "cell_type": "markdown",
   "metadata": {},
   "source": [
    "*Our LUSID environment now looks like the below. We will update this with each step.*"
   ]
  },
  {
   "cell_type": "markdown",
   "metadata": {},
   "source": [
    "![Scopes](img/paper-scopes.gif)"
   ]
  },
  {
   "cell_type": "markdown",
   "metadata": {},
   "source": [
    "## 2) Creating our tradeable instrument universe for each analyst"
   ]
  },
  {
   "cell_type": "code",
   "execution_count": 3,
   "metadata": {
    "pycharm": {
     "is_executing": false
    }
   },
   "outputs": [
    {
     "data": {
      "text/html": [
       "<div>\n",
       "<style scoped>\n",
       "    .dataframe tbody tr th:only-of-type {\n",
       "        vertical-align: middle;\n",
       "    }\n",
       "\n",
       "    .dataframe tbody tr th {\n",
       "        vertical-align: top;\n",
       "    }\n",
       "\n",
       "    .dataframe thead th {\n",
       "        text-align: right;\n",
       "    }\n",
       "</style>\n",
       "<table border=\"1\" class=\"dataframe\">\n",
       "  <thead>\n",
       "    <tr style=\"text-align: right;\">\n",
       "      <th></th>\n",
       "      <th>instrument_name</th>\n",
       "      <th>currency</th>\n",
       "      <th>figi</th>\n",
       "      <th>ticker</th>\n",
       "      <th>isin</th>\n",
       "      <th>sedol</th>\n",
       "      <th>client_internal</th>\n",
       "    </tr>\n",
       "  </thead>\n",
       "  <tbody>\n",
       "    <tr>\n",
       "      <td>0</td>\n",
       "      <td>AVEVA GRP</td>\n",
       "      <td>GBP</td>\n",
       "      <td>BBG000C21Y87</td>\n",
       "      <td>AVV</td>\n",
       "      <td>GB00BBG9VN75</td>\n",
       "      <td>BBG9VN7</td>\n",
       "      <td>imd_56344535</td>\n",
       "    </tr>\n",
       "    <tr>\n",
       "      <td>1</td>\n",
       "      <td>BAE SYS.</td>\n",
       "      <td>GBP</td>\n",
       "      <td>BBG000BD5TW4</td>\n",
       "      <td>BA.</td>\n",
       "      <td>GB0002634946</td>\n",
       "      <td>263494</td>\n",
       "      <td>imd_56344983</td>\n",
       "    </tr>\n",
       "    <tr>\n",
       "      <td>2</td>\n",
       "      <td>BATM ADVANCED</td>\n",
       "      <td>GBP</td>\n",
       "      <td>BBG000BFJD77</td>\n",
       "      <td>BVC</td>\n",
       "      <td>IL0010849045</td>\n",
       "      <td>911146</td>\n",
       "      <td>imd_56344098</td>\n",
       "    </tr>\n",
       "    <tr>\n",
       "      <td>3</td>\n",
       "      <td>BTG</td>\n",
       "      <td>GBP</td>\n",
       "      <td>BBG000BZZK79</td>\n",
       "      <td>BTG</td>\n",
       "      <td>GB0001001592</td>\n",
       "      <td>100159</td>\n",
       "      <td>imd_56344345</td>\n",
       "    </tr>\n",
       "    <tr>\n",
       "      <td>4</td>\n",
       "      <td>COBHAM</td>\n",
       "      <td>GBP</td>\n",
       "      <td>BBG000BS6810</td>\n",
       "      <td>COB</td>\n",
       "      <td>GB00B07KD360</td>\n",
       "      <td>B07KD36</td>\n",
       "      <td>imd_56344363</td>\n",
       "    </tr>\n",
       "    <tr>\n",
       "      <td>5</td>\n",
       "      <td>COMPUTACENTER</td>\n",
       "      <td>GBP</td>\n",
       "      <td>BBG000BN7CL9</td>\n",
       "      <td>CCC</td>\n",
       "      <td>GB00BV9FP302</td>\n",
       "      <td>BV9FP30</td>\n",
       "      <td>imd_56344296</td>\n",
       "    </tr>\n",
       "    <tr>\n",
       "      <td>6</td>\n",
       "      <td>CONSORT MED.</td>\n",
       "      <td>GBP</td>\n",
       "      <td>BBG000BD8278</td>\n",
       "      <td>CSRT</td>\n",
       "      <td>GB0000946276</td>\n",
       "      <td>94627</td>\n",
       "      <td>imd_56344187</td>\n",
       "    </tr>\n",
       "    <tr>\n",
       "      <td>7</td>\n",
       "      <td>DIALIGHT</td>\n",
       "      <td>GBP</td>\n",
       "      <td>BBG000BLQNG4</td>\n",
       "      <td>DIA</td>\n",
       "      <td>GB0033057794</td>\n",
       "      <td>3305779</td>\n",
       "      <td>imd_56344572</td>\n",
       "    </tr>\n",
       "    <tr>\n",
       "      <td>8</td>\n",
       "      <td>GENUS</td>\n",
       "      <td>GBP</td>\n",
       "      <td>BBG000CTMKX7</td>\n",
       "      <td>GNS</td>\n",
       "      <td>GB0002074580</td>\n",
       "      <td>207458</td>\n",
       "      <td>imd_56344789</td>\n",
       "    </tr>\n",
       "    <tr>\n",
       "      <td>9</td>\n",
       "      <td>GRESHAM TECH</td>\n",
       "      <td>GBP</td>\n",
       "      <td>BBG000BS2592</td>\n",
       "      <td>GHT</td>\n",
       "      <td>GB0008808825</td>\n",
       "      <td>880882</td>\n",
       "      <td>imd_56344132</td>\n",
       "    </tr>\n",
       "  </tbody>\n",
       "</table>\n",
       "</div>"
      ],
      "text/plain": [
       "  instrument_name currency          figi ticker          isin    sedol  \\\n",
       "0       AVEVA GRP      GBP  BBG000C21Y87    AVV  GB00BBG9VN75  BBG9VN7   \n",
       "1        BAE SYS.      GBP  BBG000BD5TW4    BA.  GB0002634946   263494   \n",
       "2   BATM ADVANCED      GBP  BBG000BFJD77    BVC  IL0010849045   911146   \n",
       "3             BTG      GBP  BBG000BZZK79    BTG  GB0001001592   100159   \n",
       "4          COBHAM      GBP  BBG000BS6810    COB  GB00B07KD360  B07KD36   \n",
       "5   COMPUTACENTER      GBP  BBG000BN7CL9    CCC  GB00BV9FP302  BV9FP30   \n",
       "6    CONSORT MED.      GBP  BBG000BD8278   CSRT  GB0000946276    94627   \n",
       "7        DIALIGHT      GBP  BBG000BLQNG4    DIA  GB0033057794  3305779   \n",
       "8           GENUS      GBP  BBG000CTMKX7    GNS  GB0002074580   207458   \n",
       "9    GRESHAM TECH      GBP  BBG000BS2592    GHT  GB0008808825   880882   \n",
       "\n",
       "  client_internal  \n",
       "0    imd_56344535  \n",
       "1    imd_56344983  \n",
       "2    imd_56344098  \n",
       "3    imd_56344345  \n",
       "4    imd_56344363  \n",
       "5    imd_56344296  \n",
       "6    imd_56344187  \n",
       "7    imd_56344572  \n",
       "8    imd_56344789  \n",
       "9    imd_56344132  "
      ]
     },
     "execution_count": 3,
     "metadata": {},
     "output_type": "execute_result"
    }
   ],
   "source": [
    "# Import our instrument universe from a CSV file using Pandas\n",
    "instrument_universe = pd.read_csv('data/paper-instruments.csv')\n",
    "# Look at the first 10 instruments\n",
    "instrument_universe.sort_values(by=\"instrument_name\").head(n=10)"
   ]
  },
  {
   "cell_type": "code",
   "execution_count": 4,
   "metadata": {
    "scrolled": false
   },
   "outputs": [
    {
     "name": "stdout",
     "output_type": "stream",
     "text": [
      "\u001b[91m\u001b[1mInstruments Successfully Upserted: \u001b[0m\n"
     ]
    }
   ],
   "source": [
    "batch_upsert_request = fun.batch_upsert(instrument_universe, \n",
    "                 client)   "
   ]
  },
  {
   "cell_type": "code",
   "execution_count": 5,
   "metadata": {
    "scrolled": false
   },
   "outputs": [
    {
     "name": "stdout",
     "output_type": "stream",
     "text": [
      "\u001b[91m\u001b[1mInstruments Successfully Upserted: \u001b[0m\n"
     ]
    },
    {
     "data": {
      "text/html": [
       "<div>\n",
       "<style scoped>\n",
       "    .dataframe tbody tr th:only-of-type {\n",
       "        vertical-align: middle;\n",
       "    }\n",
       "\n",
       "    .dataframe tbody tr th {\n",
       "        vertical-align: top;\n",
       "    }\n",
       "\n",
       "    .dataframe thead th {\n",
       "        text-align: right;\n",
       "    }\n",
       "</style>\n",
       "<table border=\"1\" class=\"dataframe\">\n",
       "  <thead>\n",
       "    <tr style=\"text-align: right;\">\n",
       "      <th></th>\n",
       "      <th>Instrument</th>\n",
       "      <th>Figi ID</th>\n",
       "      <th>LUSID Instrument ID</th>\n",
       "    </tr>\n",
       "  </thead>\n",
       "  <tbody>\n",
       "    <tr>\n",
       "      <td>11</td>\n",
       "      <td>AVEVA GRP</td>\n",
       "      <td>BBG000C21Y87</td>\n",
       "      <td>LUID_C63M3W9L</td>\n",
       "    </tr>\n",
       "    <tr>\n",
       "      <td>28</td>\n",
       "      <td>BAE SYS.</td>\n",
       "      <td>BBG000BD5TW4</td>\n",
       "      <td>LUID_PZY35CYB</td>\n",
       "    </tr>\n",
       "    <tr>\n",
       "      <td>14</td>\n",
       "      <td>BATM ADVANCED</td>\n",
       "      <td>BBG000BFJD77</td>\n",
       "      <td>LUID_RN4DVOPG</td>\n",
       "    </tr>\n",
       "    <tr>\n",
       "      <td>5</td>\n",
       "      <td>BTG</td>\n",
       "      <td>BBG000BZZK79</td>\n",
       "      <td>LUID_9G72A4LZ</td>\n",
       "    </tr>\n",
       "    <tr>\n",
       "      <td>17</td>\n",
       "      <td>COBHAM</td>\n",
       "      <td>BBG000BS6810</td>\n",
       "      <td>LUID_4S3J1BCC</td>\n",
       "    </tr>\n",
       "    <tr>\n",
       "      <td>21</td>\n",
       "      <td>COMPUTACENTER</td>\n",
       "      <td>BBG000BN7CL9</td>\n",
       "      <td>LUID_0ZN4YO4U</td>\n",
       "    </tr>\n",
       "    <tr>\n",
       "      <td>15</td>\n",
       "      <td>CONSORT MED.</td>\n",
       "      <td>BBG000BD8278</td>\n",
       "      <td>LUID_JCNUA8A4</td>\n",
       "    </tr>\n",
       "    <tr>\n",
       "      <td>26</td>\n",
       "      <td>DIALIGHT</td>\n",
       "      <td>BBG000BLQNG4</td>\n",
       "      <td>LUID_3G6G53QI</td>\n",
       "    </tr>\n",
       "    <tr>\n",
       "      <td>7</td>\n",
       "      <td>GENUS</td>\n",
       "      <td>BBG000CTMKX7</td>\n",
       "      <td>LUID_NM4VWVZG</td>\n",
       "    </tr>\n",
       "    <tr>\n",
       "      <td>1</td>\n",
       "      <td>GRESHAM TECH</td>\n",
       "      <td>BBG000BS2592</td>\n",
       "      <td>LUID_TCDOZL9W</td>\n",
       "    </tr>\n",
       "  </tbody>\n",
       "</table>\n",
       "</div>"
      ],
      "text/plain": [
       "       Instrument       Figi ID LUSID Instrument ID\n",
       "11      AVEVA GRP  BBG000C21Y87       LUID_C63M3W9L\n",
       "28       BAE SYS.  BBG000BD5TW4       LUID_PZY35CYB\n",
       "14  BATM ADVANCED  BBG000BFJD77       LUID_RN4DVOPG\n",
       "5             BTG  BBG000BZZK79       LUID_9G72A4LZ\n",
       "17         COBHAM  BBG000BS6810       LUID_4S3J1BCC\n",
       "21  COMPUTACENTER  BBG000BN7CL9       LUID_0ZN4YO4U\n",
       "15   CONSORT MED.  BBG000BD8278       LUID_JCNUA8A4\n",
       "26       DIALIGHT  BBG000BLQNG4       LUID_3G6G53QI\n",
       "7           GENUS  BBG000CTMKX7       LUID_NM4VWVZG\n",
       "1    GRESHAM TECH  BBG000BS2592       LUID_TCDOZL9W"
      ]
     },
     "execution_count": 5,
     "metadata": {},
     "output_type": "execute_result"
    }
   ],
   "source": [
    "# Call LUSID to upsert our batch\n",
    "instrument_response = client.instruments.upsert_instruments(\n",
    "    instruments=batch_upsert_request)\n",
    "\n",
    "# Pretty print the response from LUSID\n",
    "prettyprint.instrument_response(instrument_response, identifier='Figi').sort_values(by=\"Instrument\").head(10)"
   ]
  },
  {
   "cell_type": "markdown",
   "metadata": {},
   "source": [
    "Our LUSID environment now has an instrument master containing all of our instruments that we will be trading."
   ]
  },
  {
   "cell_type": "markdown",
   "metadata": {},
   "source": [
    "![Scopes](img/paper-instrumentmaster.gif)"
   ]
  },
  {
   "cell_type": "markdown",
   "metadata": {},
   "source": [
    "## 3) Creating a transactions portfolio"
   ]
  },
  {
   "cell_type": "markdown",
   "metadata": {},
   "source": [
    "A transactions portfolio is initalised to hold all transactions made by an analyst. \n",
    "\n",
    "A second portfolio is also initalised which will store the index of the instrument universe to be used as a benchmark."
   ]
  },
  {
   "cell_type": "code",
   "execution_count": 6,
   "metadata": {
    "pycharm": {
     "is_executing": false
    },
    "scrolled": true
   },
   "outputs": [
    {
     "name": "stdout",
     "output_type": "stream",
     "text": [
      "\u001b[1mTransaction Portfolio Code: \u001b[0mLSE_FTSE_techMarkFocus_transactions_DEMO\n",
      "\u001b[1mReference Portfolio Code: \u001b[0mLSE_FTSE_techMarkFocus_reference_DEMO\n",
      "\u001b[1mPortfolio Created\u001b[0m\n",
      "\u001b[1mScope: \u001b[0manalyst-paper-37c7-6237-a461-e4\n",
      "\u001b[1mCode: \u001b[0mLSE_FTSE_techMarkFocus_transactions_DEMO\n",
      "\u001b[1mPortfolio Effective From: \u001b[0m2019-09-29 16:47:18.636765+00:00\n",
      "\u001b[1mPortfolio Created On: \u001b[0m2019-10-02 16:47:18.987260+00:00\n",
      "\n",
      "\u001b[1mPortfolio Created\u001b[0m\n",
      "\u001b[1mScope: \u001b[0manalyst-paper-37c7-6237-a461-e4\n",
      "\u001b[1mCode: \u001b[0mLSE_FTSE_techMarkFocus_reference_DEMO\n",
      "\u001b[1mPortfolio Effective From: \u001b[0m2019-09-29 16:47:19.075077+00:00\n",
      "\u001b[1mPortfolio Created On: \u001b[0m2019-10-02 16:47:19.424187+00:00\n",
      "\n"
     ]
    }
   ],
   "source": [
    "# Define unique codes for each of our portfolios\n",
    "transaction_portfolio_code = 'LSE_FTSE_techMarkFocus_transactions_DEMO'\n",
    "reference_portfolio_code = 'LSE_FTSE_techMarkFocus_reference_DEMO'\n",
    "# Pretty print our codes\n",
    "prettyprint.heading('Transaction Portfolio Code', transaction_portfolio_code)\n",
    "prettyprint.heading('Reference Portfolio Code', reference_portfolio_code)\n",
    "\n",
    "# The date our portfolios were first created\n",
    "portfolio_creation_date = (datetime.now(pytz.UTC) - timedelta(days=3))\n",
    "\n",
    "descriptions = \"Paper transaction portfolio_DEMO\"\n",
    "portfolio_codes = [transaction_portfolio_code, reference_portfolio_code]\n",
    "\n",
    "\n",
    "fun.request_transaction_portfolio_creation(transaction_portfolio_code, \n",
    "                                           portfolio_creation_date, \n",
    "                                           analyst_scope_code, \n",
    "                                           descriptions,\n",
    "                                           client)\n",
    "\n",
    "portfolio_creation_date = (datetime.now(pytz.UTC) - timedelta(days=3))\n",
    "\n",
    "fun.request_reference_portfolio_creation(reference_portfolio_code, \n",
    "                                         portfolio_creation_date, \n",
    "                                         analyst_scope_code, \n",
    "                                         client)"
   ]
  },
  {
   "cell_type": "markdown",
   "metadata": {},
   "source": [
    "![Scopes](img/paper-referenceportfolio.gif)"
   ]
  },
  {
   "cell_type": "markdown",
   "metadata": {},
   "source": [
    "## 4) Populating our analyst's portfolio with a starting cash balance"
   ]
  },
  {
   "cell_type": "code",
   "execution_count": 7,
   "metadata": {
    "pycharm": {
     "is_executing": false
    },
    "scrolled": true
   },
   "outputs": [
    {
     "name": "stdout",
     "output_type": "stream",
     "text": [
      "\u001b[1mHoldings Successfully Set for Portfolio\u001b[0m\n",
      "\u001b[1mScope: \u001b[0manalyst-paper-37c7-6237-a461-e4\n",
      "\u001b[1mCode: \u001b[0mLSE_FTSE_techMarkFocus_transactions_DEMO\n",
      "\u001b[1mHoldings Effective From: \u001b[0m2019-09-29 19:11:19.546257+00:00\n",
      "\u001b[1mHoldings Created On: \u001b[0m2019-10-02 16:47:19.911980+00:00\n",
      "\n"
     ]
    }
   ],
   "source": [
    "# Set the date from which the cash balance will apply to be just after portfolio creation\n",
    "holdings_effective_date = (datetime.now(pytz.UTC) - timedelta(days=2.9))\n",
    "# Define our initial cash balance\n",
    "initial_cash_balance = 30000000\n",
    "\n",
    "# # Create a holding adjustment to set our initial cash balance\n",
    "fun.populate_with_cash(holdings_effective_date, \n",
    "                       initial_cash_balance, \n",
    "                       analyst_scope_code, \n",
    "                       transaction_portfolio_code, \n",
    "                       client)\n"
   ]
  },
  {
   "cell_type": "markdown",
   "metadata": {},
   "source": [
    "Our transactions portfolio is now populated with an initial cash balance and is no longer empty."
   ]
  },
  {
   "cell_type": "markdown",
   "metadata": {},
   "source": [
    "![Scopes](img/paper-transactionsportfoliofilled.gif)"
   ]
  },
  {
   "cell_type": "markdown",
   "metadata": {},
   "source": [
    "## 5) Populating our reference portfolio "
   ]
  },
  {
   "cell_type": "markdown",
   "metadata": {},
   "source": [
    "The initaised reference portfolio is populated with correct weights such that it tracks the market as closely as possible."
   ]
  },
  {
   "cell_type": "code",
   "execution_count": 8,
   "metadata": {
    "pycharm": {
     "is_executing": false
    }
   },
   "outputs": [
    {
     "data": {
      "text/html": [
       "<div>\n",
       "<style scoped>\n",
       "    .dataframe tbody tr th:only-of-type {\n",
       "        vertical-align: middle;\n",
       "    }\n",
       "\n",
       "    .dataframe tbody tr th {\n",
       "        vertical-align: top;\n",
       "    }\n",
       "\n",
       "    .dataframe thead th {\n",
       "        text-align: right;\n",
       "    }\n",
       "</style>\n",
       "<table border=\"1\" class=\"dataframe\">\n",
       "  <thead>\n",
       "    <tr style=\"text-align: right;\">\n",
       "      <th></th>\n",
       "      <th>instrument_name</th>\n",
       "      <th>currency</th>\n",
       "      <th>figi</th>\n",
       "      <th>ticker</th>\n",
       "      <th>isin</th>\n",
       "      <th>sedol</th>\n",
       "      <th>marketcap</th>\n",
       "    </tr>\n",
       "  </thead>\n",
       "  <tbody>\n",
       "    <tr>\n",
       "      <td>0</td>\n",
       "      <td>AVEVA GRP</td>\n",
       "      <td>GBP</td>\n",
       "      <td>BBG000C21Y87</td>\n",
       "      <td>AVV</td>\n",
       "      <td>GB00BBG9VN75</td>\n",
       "      <td>BBG9VN7</td>\n",
       "      <td>4502.68</td>\n",
       "    </tr>\n",
       "    <tr>\n",
       "      <td>1</td>\n",
       "      <td>BAE SYS.</td>\n",
       "      <td>GBP</td>\n",
       "      <td>BBG000BD5TW4</td>\n",
       "      <td>BA.</td>\n",
       "      <td>GB0002634946</td>\n",
       "      <td>0263494</td>\n",
       "      <td>16349.66</td>\n",
       "    </tr>\n",
       "    <tr>\n",
       "      <td>2</td>\n",
       "      <td>BATM ADVANCED</td>\n",
       "      <td>GBP</td>\n",
       "      <td>BBG000BFJD77</td>\n",
       "      <td>BVC</td>\n",
       "      <td>IL0010849045</td>\n",
       "      <td>911146</td>\n",
       "      <td>185.25</td>\n",
       "    </tr>\n",
       "    <tr>\n",
       "      <td>3</td>\n",
       "      <td>BTG</td>\n",
       "      <td>GBP</td>\n",
       "      <td>BBG000BZZK79</td>\n",
       "      <td>BTG</td>\n",
       "      <td>GB0001001592</td>\n",
       "      <td>100159</td>\n",
       "      <td>3202.20</td>\n",
       "    </tr>\n",
       "    <tr>\n",
       "      <td>4</td>\n",
       "      <td>COBHAM</td>\n",
       "      <td>GBP</td>\n",
       "      <td>BBG000BS6810</td>\n",
       "      <td>COB</td>\n",
       "      <td>GB00B07KD360</td>\n",
       "      <td>B07KD36</td>\n",
       "      <td>2579.90</td>\n",
       "    </tr>\n",
       "    <tr>\n",
       "      <td>5</td>\n",
       "      <td>COMPUTACENTER</td>\n",
       "      <td>GBP</td>\n",
       "      <td>BBG000BN7CL9</td>\n",
       "      <td>CCC</td>\n",
       "      <td>GB00BV9FP302</td>\n",
       "      <td>BV9FP30</td>\n",
       "      <td>1161.96</td>\n",
       "    </tr>\n",
       "    <tr>\n",
       "      <td>6</td>\n",
       "      <td>CONSORT MED.</td>\n",
       "      <td>GBP</td>\n",
       "      <td>BBG000BD8278</td>\n",
       "      <td>CSRT</td>\n",
       "      <td>GB0000946276</td>\n",
       "      <td>0094627</td>\n",
       "      <td>422.56</td>\n",
       "    </tr>\n",
       "    <tr>\n",
       "      <td>7</td>\n",
       "      <td>DIALIGHT</td>\n",
       "      <td>GBP</td>\n",
       "      <td>BBG000BLQNG4</td>\n",
       "      <td>DIA</td>\n",
       "      <td>GB0033057794</td>\n",
       "      <td>3305779</td>\n",
       "      <td>133.39</td>\n",
       "    </tr>\n",
       "    <tr>\n",
       "      <td>8</td>\n",
       "      <td>GENUS</td>\n",
       "      <td>GBP</td>\n",
       "      <td>BBG000CTMKX7</td>\n",
       "      <td>GNS</td>\n",
       "      <td>GB0002074580</td>\n",
       "      <td>0207458</td>\n",
       "      <td>1455.72</td>\n",
       "    </tr>\n",
       "    <tr>\n",
       "      <td>9</td>\n",
       "      <td>GRESHAM TECH</td>\n",
       "      <td>GBP</td>\n",
       "      <td>BBG000BS2592</td>\n",
       "      <td>GHT</td>\n",
       "      <td>GB0008808825</td>\n",
       "      <td>0880882</td>\n",
       "      <td>64.34</td>\n",
       "    </tr>\n",
       "  </tbody>\n",
       "</table>\n",
       "</div>"
      ],
      "text/plain": [
       "  instrument_name currency          figi ticker          isin    sedol  \\\n",
       "0       AVEVA GRP      GBP  BBG000C21Y87    AVV  GB00BBG9VN75  BBG9VN7   \n",
       "1        BAE SYS.      GBP  BBG000BD5TW4    BA.  GB0002634946  0263494   \n",
       "2   BATM ADVANCED      GBP  BBG000BFJD77    BVC  IL0010849045   911146   \n",
       "3             BTG      GBP  BBG000BZZK79    BTG  GB0001001592   100159   \n",
       "4          COBHAM      GBP  BBG000BS6810    COB  GB00B07KD360  B07KD36   \n",
       "5   COMPUTACENTER      GBP  BBG000BN7CL9    CCC  GB00BV9FP302  BV9FP30   \n",
       "6    CONSORT MED.      GBP  BBG000BD8278   CSRT  GB0000946276  0094627   \n",
       "7        DIALIGHT      GBP  BBG000BLQNG4    DIA  GB0033057794  3305779   \n",
       "8           GENUS      GBP  BBG000CTMKX7    GNS  GB0002074580  0207458   \n",
       "9    GRESHAM TECH      GBP  BBG000BS2592    GHT  GB0008808825  0880882   \n",
       "\n",
       "   marketcap  \n",
       "0    4502.68  \n",
       "1   16349.66  \n",
       "2     185.25  \n",
       "3    3202.20  \n",
       "4    2579.90  \n",
       "5    1161.96  \n",
       "6     422.56  \n",
       "7     133.39  \n",
       "8    1455.72  \n",
       "9      64.34  "
      ]
     },
     "execution_count": 8,
     "metadata": {},
     "output_type": "execute_result"
    }
   ],
   "source": [
    "# Import the market capitalisation of each of our instruments in the index\n",
    "instrument_market_cap = pd.read_csv('data/paper-weights.csv')\n",
    "# Take a look at the first 10 market capitalisations\n",
    "instrument_market_cap.sort_values(by=\"instrument_name\").head(n=10)"
   ]
  },
  {
   "cell_type": "code",
   "execution_count": 9,
   "metadata": {},
   "outputs": [
    {
     "name": "stdout",
     "output_type": "stream",
     "text": [
      "Constituents Upserted\n"
     ]
    }
   ],
   "source": [
    "# upsert contituents to LUSID\n",
    "fun.upsert_constituents(instrument_market_cap, \n",
    "                        holdings_effective_date, \n",
    "                        analyst_scope_code, \n",
    "                        reference_portfolio_code, \n",
    "                        client)"
   ]
  },
  {
   "cell_type": "markdown",
   "metadata": {},
   "source": [
    "![Scopes](img/paper-referenceportfoliofilled.gif)"
   ]
  },
  {
   "cell_type": "markdown",
   "metadata": {},
   "source": [
    "## 6) Allow our analysts to trade across their tradeable instrument universe and add their transactions to their transaction portfolio"
   ]
  },
  {
   "cell_type": "code",
   "execution_count": 10,
   "metadata": {
    "pycharm": {
     "is_executing": false
    },
    "scrolled": true
   },
   "outputs": [
    {
     "data": {
      "text/html": [
       "<div>\n",
       "<style scoped>\n",
       "    .dataframe tbody tr th:only-of-type {\n",
       "        vertical-align: middle;\n",
       "    }\n",
       "\n",
       "    .dataframe tbody tr th {\n",
       "        vertical-align: top;\n",
       "    }\n",
       "\n",
       "    .dataframe thead th {\n",
       "        text-align: right;\n",
       "    }\n",
       "</style>\n",
       "<table border=\"1\" class=\"dataframe\">\n",
       "  <thead>\n",
       "    <tr style=\"text-align: right;\">\n",
       "      <th></th>\n",
       "      <th>transaction_id</th>\n",
       "      <th>type</th>\n",
       "      <th>portfolio</th>\n",
       "      <th>instrument_name</th>\n",
       "      <th>instrument_uid</th>\n",
       "      <th>transaction_date</th>\n",
       "      <th>settlement_date</th>\n",
       "      <th>units</th>\n",
       "      <th>transaction_price</th>\n",
       "      <th>transaction_currency</th>\n",
       "      <th>total_cost</th>\n",
       "      <th>strategy</th>\n",
       "      <th>description</th>\n",
       "    </tr>\n",
       "  </thead>\n",
       "  <tbody>\n",
       "    <tr>\n",
       "      <td>0</td>\n",
       "      <td>tid_124398219481</td>\n",
       "      <td>Buy</td>\n",
       "      <td>LSE_FTSE_techMarkFocus_transactions</td>\n",
       "      <td>AVEVA GRP</td>\n",
       "      <td>BBG000C21Y87</td>\n",
       "      <td>2019-10-01T11:37:41.760239+00:00</td>\n",
       "      <td>2019-10-03T11:37:41.760239+00:00</td>\n",
       "      <td>265600</td>\n",
       "      <td>28.94</td>\n",
       "      <td>GBP</td>\n",
       "      <td>7686464.00</td>\n",
       "      <td>quantitativeSignal</td>\n",
       "      <td>Purchase</td>\n",
       "    </tr>\n",
       "    <tr>\n",
       "      <td>4</td>\n",
       "      <td>tid_223239424244</td>\n",
       "      <td>FundsOut</td>\n",
       "      <td>LSE_FTSE_techMarkFocus_transactions</td>\n",
       "      <td>GBP_Cash</td>\n",
       "      <td>GBP</td>\n",
       "      <td>2019-10-01T10:22:42.386034+00:00</td>\n",
       "      <td>2019-10-03T10:22:42.386034+00:00</td>\n",
       "      <td>750000</td>\n",
       "      <td>0.00</td>\n",
       "      <td>GBP</td>\n",
       "      <td>69.45</td>\n",
       "      <td>fundamentalAnalysis</td>\n",
       "      <td>Brokerage Fees</td>\n",
       "    </tr>\n",
       "    <tr>\n",
       "      <td>9</td>\n",
       "      <td>tid_239394829484</td>\n",
       "      <td>Buy</td>\n",
       "      <td>LSE_FTSE_techMarkFocus_transactions</td>\n",
       "      <td>DIALIGHT</td>\n",
       "      <td>BBG000BLQNG4</td>\n",
       "      <td>2019-09-30T10:38:55.975166+00:00</td>\n",
       "      <td>2019-10-02T10:38:55.975166+00:00</td>\n",
       "      <td>1500000</td>\n",
       "      <td>4.18</td>\n",
       "      <td>GBP</td>\n",
       "      <td>6270000.00</td>\n",
       "      <td>quantitativeSignal</td>\n",
       "      <td>Purchase</td>\n",
       "    </tr>\n",
       "    <tr>\n",
       "      <td>17</td>\n",
       "      <td>tid_324599699055</td>\n",
       "      <td>FundsOut</td>\n",
       "      <td>LSE_FTSE_techMarkFocus_transactions</td>\n",
       "      <td>GBP_Cash</td>\n",
       "      <td>GBP</td>\n",
       "      <td>2019-10-01T09:34:07.904455+00:00</td>\n",
       "      <td>2019-10-03T09:34:07.904455+00:00</td>\n",
       "      <td>234000</td>\n",
       "      <td>0.00</td>\n",
       "      <td>GBP</td>\n",
       "      <td>458.64</td>\n",
       "      <td>quantitativeSignal</td>\n",
       "      <td>Stamp Duty</td>\n",
       "    </tr>\n",
       "    <tr>\n",
       "      <td>15</td>\n",
       "      <td>tid_334250655566</td>\n",
       "      <td>Buy</td>\n",
       "      <td>LSE_FTSE_techMarkFocus_transactions</td>\n",
       "      <td>MICROGEN</td>\n",
       "      <td>BBG000BDSS88</td>\n",
       "      <td>2019-09-30T14:27:13.854446+00:00</td>\n",
       "      <td>2019-10-02T14:27:13.854446+00:00</td>\n",
       "      <td>234000</td>\n",
       "      <td>3.92</td>\n",
       "      <td>GBP</td>\n",
       "      <td>917280.00</td>\n",
       "      <td>quantitativeSignal</td>\n",
       "      <td>Purchase</td>\n",
       "    </tr>\n",
       "    <tr>\n",
       "      <td>1</td>\n",
       "      <td>tid_339423984894</td>\n",
       "      <td>FundsOut</td>\n",
       "      <td>LSE_FTSE_techMarkFocus_transactions</td>\n",
       "      <td>GBP_Cash</td>\n",
       "      <td>GBP</td>\n",
       "      <td>2019-09-30T10:42:34.446313+00:00</td>\n",
       "      <td>2019-10-02T10:42:34.446313+00:00</td>\n",
       "      <td>265600</td>\n",
       "      <td>0.01</td>\n",
       "      <td>GBP</td>\n",
       "      <td>1537.29</td>\n",
       "      <td>quantitativeSignal</td>\n",
       "      <td>Brokerage Fees</td>\n",
       "    </tr>\n",
       "    <tr>\n",
       "      <td>2</td>\n",
       "      <td>tid_339423984896</td>\n",
       "      <td>FundsOut</td>\n",
       "      <td>LSE_FTSE_techMarkFocus_transactions</td>\n",
       "      <td>GBP_Cash</td>\n",
       "      <td>GBP</td>\n",
       "      <td>2019-10-01T16:08:47.320873+00:00</td>\n",
       "      <td>2019-10-03T16:08:47.320873+00:00</td>\n",
       "      <td>265600</td>\n",
       "      <td>0.01</td>\n",
       "      <td>GBP</td>\n",
       "      <td>3843.23</td>\n",
       "      <td>quantitativeSignal</td>\n",
       "      <td>Stamp Duty</td>\n",
       "    </tr>\n",
       "    <tr>\n",
       "      <td>14</td>\n",
       "      <td>tid_342398598555</td>\n",
       "      <td>FundsOut</td>\n",
       "      <td>LSE_FTSE_techMarkFocus_transactions</td>\n",
       "      <td>GBP_Cash</td>\n",
       "      <td>GBP</td>\n",
       "      <td>2019-09-30T11:29:12.978759+00:00</td>\n",
       "      <td>2019-10-02T11:29:12.978759+00:00</td>\n",
       "      <td>345000</td>\n",
       "      <td>0.01</td>\n",
       "      <td>GBP</td>\n",
       "      <td>3795.00</td>\n",
       "      <td>technicalAnalysis</td>\n",
       "      <td>Stamp Duty</td>\n",
       "    </tr>\n",
       "    <tr>\n",
       "      <td>6</td>\n",
       "      <td>tid_342398989895</td>\n",
       "      <td>SellShort</td>\n",
       "      <td>LSE_FTSE_techMarkFocus_transactions</td>\n",
       "      <td>COMPUTACENTER</td>\n",
       "      <td>BBG000BN7CL9</td>\n",
       "      <td>2019-09-30T12:17:55.880230+00:00</td>\n",
       "      <td>2019-10-02T12:17:55.880230+00:00</td>\n",
       "      <td>150000</td>\n",
       "      <td>10.50</td>\n",
       "      <td>GBP</td>\n",
       "      <td>1575000.00</td>\n",
       "      <td>fundamentalAnalysis</td>\n",
       "      <td>Purchase</td>\n",
       "    </tr>\n",
       "    <tr>\n",
       "      <td>20</td>\n",
       "      <td>tid_342453598349</td>\n",
       "      <td>FundsOut</td>\n",
       "      <td>LSE_FTSE_techMarkFocus_transactions</td>\n",
       "      <td>GBP_Cash</td>\n",
       "      <td>GBP</td>\n",
       "      <td>2019-10-01T14:17:52.073066+00:00</td>\n",
       "      <td>2019-10-03T14:17:52.073066+00:00</td>\n",
       "      <td>543000</td>\n",
       "      <td>0.01</td>\n",
       "      <td>GBP</td>\n",
       "      <td>3692.40</td>\n",
       "      <td>technicalAnalysis</td>\n",
       "      <td>Stamp Duty</td>\n",
       "    </tr>\n",
       "  </tbody>\n",
       "</table>\n",
       "</div>"
      ],
      "text/plain": [
       "      transaction_id       type                            portfolio  \\\n",
       "0   tid_124398219481        Buy  LSE_FTSE_techMarkFocus_transactions   \n",
       "4   tid_223239424244   FundsOut  LSE_FTSE_techMarkFocus_transactions   \n",
       "9   tid_239394829484        Buy  LSE_FTSE_techMarkFocus_transactions   \n",
       "17  tid_324599699055   FundsOut  LSE_FTSE_techMarkFocus_transactions   \n",
       "15  tid_334250655566        Buy  LSE_FTSE_techMarkFocus_transactions   \n",
       "1   tid_339423984894   FundsOut  LSE_FTSE_techMarkFocus_transactions   \n",
       "2   tid_339423984896   FundsOut  LSE_FTSE_techMarkFocus_transactions   \n",
       "14  tid_342398598555   FundsOut  LSE_FTSE_techMarkFocus_transactions   \n",
       "6   tid_342398989895  SellShort  LSE_FTSE_techMarkFocus_transactions   \n",
       "20  tid_342453598349   FundsOut  LSE_FTSE_techMarkFocus_transactions   \n",
       "\n",
       "   instrument_name instrument_uid                  transaction_date  \\\n",
       "0        AVEVA GRP   BBG000C21Y87  2019-10-01T11:37:41.760239+00:00   \n",
       "4         GBP_Cash            GBP  2019-10-01T10:22:42.386034+00:00   \n",
       "9         DIALIGHT   BBG000BLQNG4  2019-09-30T10:38:55.975166+00:00   \n",
       "17        GBP_Cash            GBP  2019-10-01T09:34:07.904455+00:00   \n",
       "15        MICROGEN   BBG000BDSS88  2019-09-30T14:27:13.854446+00:00   \n",
       "1         GBP_Cash            GBP  2019-09-30T10:42:34.446313+00:00   \n",
       "2         GBP_Cash            GBP  2019-10-01T16:08:47.320873+00:00   \n",
       "14        GBP_Cash            GBP  2019-09-30T11:29:12.978759+00:00   \n",
       "6    COMPUTACENTER   BBG000BN7CL9  2019-09-30T12:17:55.880230+00:00   \n",
       "20        GBP_Cash            GBP  2019-10-01T14:17:52.073066+00:00   \n",
       "\n",
       "                     settlement_date    units  transaction_price  \\\n",
       "0   2019-10-03T11:37:41.760239+00:00   265600              28.94   \n",
       "4   2019-10-03T10:22:42.386034+00:00   750000               0.00   \n",
       "9   2019-10-02T10:38:55.975166+00:00  1500000               4.18   \n",
       "17  2019-10-03T09:34:07.904455+00:00   234000               0.00   \n",
       "15  2019-10-02T14:27:13.854446+00:00   234000               3.92   \n",
       "1   2019-10-02T10:42:34.446313+00:00   265600               0.01   \n",
       "2   2019-10-03T16:08:47.320873+00:00   265600               0.01   \n",
       "14  2019-10-02T11:29:12.978759+00:00   345000               0.01   \n",
       "6   2019-10-02T12:17:55.880230+00:00   150000              10.50   \n",
       "20  2019-10-03T14:17:52.073066+00:00   543000               0.01   \n",
       "\n",
       "   transaction_currency  total_cost             strategy     description  \n",
       "0                   GBP  7686464.00   quantitativeSignal        Purchase  \n",
       "4                   GBP       69.45  fundamentalAnalysis  Brokerage Fees  \n",
       "9                   GBP  6270000.00   quantitativeSignal        Purchase  \n",
       "17                  GBP      458.64   quantitativeSignal      Stamp Duty  \n",
       "15                  GBP   917280.00   quantitativeSignal        Purchase  \n",
       "1                   GBP     1537.29   quantitativeSignal  Brokerage Fees  \n",
       "2                   GBP     3843.23   quantitativeSignal      Stamp Duty  \n",
       "14                  GBP     3795.00    technicalAnalysis      Stamp Duty  \n",
       "6                   GBP  1575000.00  fundamentalAnalysis        Purchase  \n",
       "20                  GBP     3692.40    technicalAnalysis      Stamp Duty  "
      ]
     },
     "execution_count": 10,
     "metadata": {},
     "output_type": "execute_result"
    }
   ],
   "source": [
    "# Import our analyst's trades from a CSV file\n",
    "analyst_transactions = import_data.fetch_client_transactions(\n",
    "    'paper-transactions.csv',\n",
    "    days_back=2)\n",
    "analyst_transactions.sort_values(by=\"transaction_id\").head(n=10)\n"
   ]
  },
  {
   "cell_type": "markdown",
   "metadata": {},
   "source": [
    "Custom properties can be defined in LUSID. In this example, a trading strategy is specified created as a **property**, this allows grouping of transactions for the purpose of measuring performance, valuation etc..."
   ]
  },
  {
   "cell_type": "code",
   "execution_count": 11,
   "metadata": {},
   "outputs": [
    {
     "name": "stdout",
     "output_type": "stream",
     "text": [
      "\u001b[1mStrategy Property Key: : \u001b[0mTransaction/analyst-paper-37c7-6237-a461-e4/strategy\n"
     ]
    }
   ],
   "source": [
    "# Create a request to define our strategy property\n",
    "strategy_property_key = fun.request_define_property(domain = 'Transaction', \n",
    "                                                    scope = analyst_scope_code, \n",
    "                                                    code = 'strategy', \n",
    "                                                    display_name='strategy', \n",
    "                                                    client=client)"
   ]
  },
  {
   "cell_type": "code",
   "execution_count": 12,
   "metadata": {},
   "outputs": [
    {
     "name": "stdout",
     "output_type": "stream",
     "text": [
      "\u001b[1mTransactions Successfully Upserted into Portfolio\u001b[0m\n",
      "\u001b[1mScope: \u001b[0manalyst-paper-37c7-6237-a461-e4\n",
      "\u001b[1mCode: \u001b[0mLSE_FTSE_techMarkFocus_transactions_DEMO\n",
      "\u001b[1mTransactions Effective From: \u001b[0m2019-10-01 16:37:15.721324+00:00\n",
      "\u001b[1mTransactions Created On: \u001b[0m2019-10-02 16:47:21.780356+00:00\n",
      "\n"
     ]
    }
   ],
   "source": [
    "# upsert all analyist transactions to LUSID\n",
    "fun.upsert_trades(analyst_transactions, \n",
    "                  strategy_property_key, \n",
    "                  analyst_scope_code, \n",
    "                  transaction_portfolio_code, \n",
    "                  client)"
   ]
  },
  {
   "cell_type": "markdown",
   "metadata": {},
   "source": [
    "Our transaction portfolio is now populated with our analyst's paper trades."
   ]
  },
  {
   "cell_type": "markdown",
   "metadata": {},
   "source": [
    "## 7) Create an analytics store to hold the latest prices of our tradeable instrument universe"
   ]
  },
  {
   "cell_type": "code",
   "execution_count": 13,
   "metadata": {
    "pycharm": {
     "is_executing": false
    }
   },
   "outputs": [
    {
     "data": {
      "text/html": [
       "<div>\n",
       "<style scoped>\n",
       "    .dataframe tbody tr th:only-of-type {\n",
       "        vertical-align: middle;\n",
       "    }\n",
       "\n",
       "    .dataframe tbody tr th {\n",
       "        vertical-align: top;\n",
       "    }\n",
       "\n",
       "    .dataframe thead th {\n",
       "        text-align: right;\n",
       "    }\n",
       "</style>\n",
       "<table border=\"1\" class=\"dataframe\">\n",
       "  <thead>\n",
       "    <tr style=\"text-align: right;\">\n",
       "      <th></th>\n",
       "      <th>instrument_name</th>\n",
       "      <th>currency</th>\n",
       "      <th>figi</th>\n",
       "      <th>price_original</th>\n",
       "      <th>price_current</th>\n",
       "      <th>ticker</th>\n",
       "      <th>isin</th>\n",
       "      <th>sedol</th>\n",
       "    </tr>\n",
       "  </thead>\n",
       "  <tbody>\n",
       "    <tr>\n",
       "      <td>0</td>\n",
       "      <td>AVEVA GRP</td>\n",
       "      <td>GBP</td>\n",
       "      <td>BBG000C21Y87</td>\n",
       "      <td>27.84</td>\n",
       "      <td>30.32</td>\n",
       "      <td>AVV</td>\n",
       "      <td>GB00BBG9VN75</td>\n",
       "      <td>BBG9VN7</td>\n",
       "    </tr>\n",
       "    <tr>\n",
       "      <td>1</td>\n",
       "      <td>BAE SYS.</td>\n",
       "      <td>GBP</td>\n",
       "      <td>BBG000BD5TW4</td>\n",
       "      <td>5.15</td>\n",
       "      <td>4.78</td>\n",
       "      <td>BA.</td>\n",
       "      <td>GB0002634946</td>\n",
       "      <td>263494</td>\n",
       "    </tr>\n",
       "    <tr>\n",
       "      <td>2</td>\n",
       "      <td>BATM ADVANCED</td>\n",
       "      <td>GBP</td>\n",
       "      <td>BBG000BFJD77</td>\n",
       "      <td>0.46</td>\n",
       "      <td>0.42</td>\n",
       "      <td>BVC</td>\n",
       "      <td>IL0010849045</td>\n",
       "      <td>911146</td>\n",
       "    </tr>\n",
       "    <tr>\n",
       "      <td>3</td>\n",
       "      <td>BTG</td>\n",
       "      <td>GBP</td>\n",
       "      <td>BBG000BZZK79</td>\n",
       "      <td>8.28</td>\n",
       "      <td>8.97</td>\n",
       "      <td>BTG</td>\n",
       "      <td>GB0001001592</td>\n",
       "      <td>100159</td>\n",
       "    </tr>\n",
       "    <tr>\n",
       "      <td>4</td>\n",
       "      <td>COBHAM</td>\n",
       "      <td>GBP</td>\n",
       "      <td>BBG000BS6810</td>\n",
       "      <td>1.07</td>\n",
       "      <td>1.02</td>\n",
       "      <td>COB</td>\n",
       "      <td>GB00B07KD360</td>\n",
       "      <td>B07KD36</td>\n",
       "    </tr>\n",
       "    <tr>\n",
       "      <td>5</td>\n",
       "      <td>COMPUTACENTER</td>\n",
       "      <td>GBP</td>\n",
       "      <td>BBG000BN7CL9</td>\n",
       "      <td>10.68</td>\n",
       "      <td>11.46</td>\n",
       "      <td>CCC</td>\n",
       "      <td>GB00BV9FP302</td>\n",
       "      <td>BV9FP30</td>\n",
       "    </tr>\n",
       "    <tr>\n",
       "      <td>6</td>\n",
       "      <td>CONSORT MED.</td>\n",
       "      <td>GBP</td>\n",
       "      <td>BBG000BD8278</td>\n",
       "      <td>8.70</td>\n",
       "      <td>9.31</td>\n",
       "      <td>CSRT</td>\n",
       "      <td>GB0000946276</td>\n",
       "      <td>94627</td>\n",
       "    </tr>\n",
       "    <tr>\n",
       "      <td>7</td>\n",
       "      <td>DIALIGHT</td>\n",
       "      <td>GBP</td>\n",
       "      <td>BBG000BLQNG4</td>\n",
       "      <td>3.92</td>\n",
       "      <td>3.55</td>\n",
       "      <td>DIA</td>\n",
       "      <td>GB0033057794</td>\n",
       "      <td>3305779</td>\n",
       "    </tr>\n",
       "    <tr>\n",
       "      <td>8</td>\n",
       "      <td>GENUS</td>\n",
       "      <td>GBP</td>\n",
       "      <td>BBG000CTMKX7</td>\n",
       "      <td>22.46</td>\n",
       "      <td>20.60</td>\n",
       "      <td>GNS</td>\n",
       "      <td>GB0002074580</td>\n",
       "      <td>207458</td>\n",
       "    </tr>\n",
       "    <tr>\n",
       "      <td>9</td>\n",
       "      <td>GRESHAM TECH</td>\n",
       "      <td>GBP</td>\n",
       "      <td>BBG000BS2592</td>\n",
       "      <td>0.94</td>\n",
       "      <td>1.00</td>\n",
       "      <td>GHT</td>\n",
       "      <td>GB0008808825</td>\n",
       "      <td>880882</td>\n",
       "    </tr>\n",
       "  </tbody>\n",
       "</table>\n",
       "</div>"
      ],
      "text/plain": [
       "  instrument_name currency          figi  price_original  price_current  \\\n",
       "0       AVEVA GRP      GBP  BBG000C21Y87           27.84          30.32   \n",
       "1        BAE SYS.      GBP  BBG000BD5TW4            5.15           4.78   \n",
       "2   BATM ADVANCED      GBP  BBG000BFJD77            0.46           0.42   \n",
       "3             BTG      GBP  BBG000BZZK79            8.28           8.97   \n",
       "4          COBHAM      GBP  BBG000BS6810            1.07           1.02   \n",
       "5   COMPUTACENTER      GBP  BBG000BN7CL9           10.68          11.46   \n",
       "6    CONSORT MED.      GBP  BBG000BD8278            8.70           9.31   \n",
       "7        DIALIGHT      GBP  BBG000BLQNG4            3.92           3.55   \n",
       "8           GENUS      GBP  BBG000CTMKX7           22.46          20.60   \n",
       "9    GRESHAM TECH      GBP  BBG000BS2592            0.94           1.00   \n",
       "\n",
       "  ticker          isin    sedol  \n",
       "0    AVV  GB00BBG9VN75  BBG9VN7  \n",
       "1    BA.  GB0002634946   263494  \n",
       "2    BVC  IL0010849045   911146  \n",
       "3    BTG  GB0001001592   100159  \n",
       "4    COB  GB00B07KD360  B07KD36  \n",
       "5    CCC  GB00BV9FP302  BV9FP30  \n",
       "6   CSRT  GB0000946276    94627  \n",
       "7    DIA  GB0033057794  3305779  \n",
       "8    GNS  GB0002074580   207458  \n",
       "9    GHT  GB0008808825   880882  "
      ]
     },
     "execution_count": 13,
     "metadata": {},
     "output_type": "execute_result"
    }
   ],
   "source": [
    "# Import our instrument prices from a CSV file\n",
    "instrument_prices = pd.read_csv('data/paper-analytics.csv')\n",
    "# Pretty print our pricing\n",
    "instrument_prices.sort_values(by=\"instrument_name\").head(n=10)"
   ]
  },
  {
   "cell_type": "code",
   "execution_count": 14,
   "metadata": {},
   "outputs": [
    {
     "name": "stdout",
     "output_type": "stream",
     "text": [
      "Analytics Set\n"
     ]
    }
   ],
   "source": [
    "# Set our analytics effective dates\n",
    "analytics_effective_date = datetime.now(pytz.UTC) - timedelta(days=3)\n",
    "today = datetime.now(pytz.UTC)\n",
    "analytics_store_dates = [analytics_effective_date, today]\n",
    "\n",
    "fun.create_instrument_analytics(analytics_effective_date, \n",
    "                                today, \n",
    "                                analytics_store_dates, \n",
    "                                instrument_prices, \n",
    "                                analyst_scope_code, \n",
    "                                client)\n",
    "    "
   ]
  },
  {
   "cell_type": "markdown",
   "metadata": {},
   "source": [
    "![Scopes](img/paper-analyticsstore.gif)"
   ]
  },
  {
   "cell_type": "markdown",
   "metadata": {},
   "source": [
    "## 8) Value each portfolio using our analytics store"
   ]
  },
  {
   "cell_type": "code",
   "execution_count": 15,
   "metadata": {
    "pycharm": {
     "is_executing": false
    },
    "scrolled": true
   },
   "outputs": [
    {
     "data": {
      "text/html": [
       "<div>\n",
       "<style scoped>\n",
       "    .dataframe tbody tr th:only-of-type {\n",
       "        vertical-align: middle;\n",
       "    }\n",
       "\n",
       "    .dataframe tbody tr th {\n",
       "        vertical-align: top;\n",
       "    }\n",
       "\n",
       "    .dataframe thead th {\n",
       "        text-align: right;\n",
       "    }\n",
       "</style>\n",
       "<table border=\"1\" class=\"dataframe\">\n",
       "  <thead>\n",
       "    <tr style=\"text-align: right;\">\n",
       "      <th></th>\n",
       "      <th>Holding/default/SubHoldingKey</th>\n",
       "      <th>Sum(Holding/default/Units)</th>\n",
       "      <th>Sum(Holding/default/Cost)</th>\n",
       "      <th>Sum(Holding/default/PV)</th>\n",
       "      <th>Sum(Holding/default/Price)</th>\n",
       "    </tr>\n",
       "  </thead>\n",
       "  <tbody>\n",
       "    <tr>\n",
       "      <td>0</td>\n",
       "      <td>Currency=GBP</td>\n",
       "      <td>4364776.00</td>\n",
       "      <td>4364776.00</td>\n",
       "      <td>4364776.00</td>\n",
       "      <td>19.00</td>\n",
       "    </tr>\n",
       "    <tr>\n",
       "      <td>1</td>\n",
       "      <td>LusidInstrumentId=LUID_3G6G53QI/GBP</td>\n",
       "      <td>1500000.00</td>\n",
       "      <td>6270000.00</td>\n",
       "      <td>5327280.00</td>\n",
       "      <td>3.55</td>\n",
       "    </tr>\n",
       "    <tr>\n",
       "      <td>2</td>\n",
       "      <td>LusidInstrumentId=LUID_05MDQMS5/GBP</td>\n",
       "      <td>120000.00</td>\n",
       "      <td>1582800.00</td>\n",
       "      <td>1603546.80</td>\n",
       "      <td>13.36</td>\n",
       "    </tr>\n",
       "    <tr>\n",
       "      <td>3</td>\n",
       "      <td>LusidInstrumentId=LUID_0ZN4YO4U/GBP</td>\n",
       "      <td>-150000.00</td>\n",
       "      <td>-1575000.00</td>\n",
       "      <td>-1718946.00</td>\n",
       "      <td>11.46</td>\n",
       "    </tr>\n",
       "    <tr>\n",
       "      <td>4</td>\n",
       "      <td>LusidInstrumentId=LUID_WJNQRY3P/GBP</td>\n",
       "      <td>98000.00</td>\n",
       "      <td>2156000.00</td>\n",
       "      <td>1912019.20</td>\n",
       "      <td>19.51</td>\n",
       "    </tr>\n",
       "    <tr>\n",
       "      <td>5</td>\n",
       "      <td>LusidInstrumentId=LUID_QQ3OG8O2/GBP</td>\n",
       "      <td>234000.00</td>\n",
       "      <td>917280.00</td>\n",
       "      <td>843094.98</td>\n",
       "      <td>3.60</td>\n",
       "    </tr>\n",
       "    <tr>\n",
       "      <td>6</td>\n",
       "      <td>LusidInstrumentId=LUID_NM4VWVZG/GBP</td>\n",
       "      <td>345000.00</td>\n",
       "      <td>7590000.00</td>\n",
       "      <td>7105557.90</td>\n",
       "      <td>20.60</td>\n",
       "    </tr>\n",
       "    <tr>\n",
       "      <td>7</td>\n",
       "      <td>LusidInstrumentId=LUID_XZ8VE9ED/GBP</td>\n",
       "      <td>55000.00</td>\n",
       "      <td>305250.00</td>\n",
       "      <td>308154.00</td>\n",
       "      <td>5.60</td>\n",
       "    </tr>\n",
       "    <tr>\n",
       "      <td>8</td>\n",
       "      <td>LusidInstrumentId=LUID_C63M3W9L/GBP</td>\n",
       "      <td>265600.00</td>\n",
       "      <td>7686464.00</td>\n",
       "      <td>8052397.06</td>\n",
       "      <td>30.32</td>\n",
       "    </tr>\n",
       "    <tr>\n",
       "      <td>9</td>\n",
       "      <td>LusidInstrumentId=LUID_RN4DVOPG/GBP</td>\n",
       "      <td>750000.00</td>\n",
       "      <td>347250.00</td>\n",
       "      <td>318431.25</td>\n",
       "      <td>0.42</td>\n",
       "    </tr>\n",
       "  </tbody>\n",
       "</table>\n",
       "</div>"
      ],
      "text/plain": [
       "         Holding/default/SubHoldingKey  Sum(Holding/default/Units)  \\\n",
       "0                         Currency=GBP                  4364776.00   \n",
       "1  LusidInstrumentId=LUID_3G6G53QI/GBP                  1500000.00   \n",
       "2  LusidInstrumentId=LUID_05MDQMS5/GBP                   120000.00   \n",
       "3  LusidInstrumentId=LUID_0ZN4YO4U/GBP                  -150000.00   \n",
       "4  LusidInstrumentId=LUID_WJNQRY3P/GBP                    98000.00   \n",
       "5  LusidInstrumentId=LUID_QQ3OG8O2/GBP                   234000.00   \n",
       "6  LusidInstrumentId=LUID_NM4VWVZG/GBP                   345000.00   \n",
       "7  LusidInstrumentId=LUID_XZ8VE9ED/GBP                    55000.00   \n",
       "8  LusidInstrumentId=LUID_C63M3W9L/GBP                   265600.00   \n",
       "9  LusidInstrumentId=LUID_RN4DVOPG/GBP                   750000.00   \n",
       "\n",
       "   Sum(Holding/default/Cost)  Sum(Holding/default/PV)  \\\n",
       "0                 4364776.00               4364776.00   \n",
       "1                 6270000.00               5327280.00   \n",
       "2                 1582800.00               1603546.80   \n",
       "3                -1575000.00              -1718946.00   \n",
       "4                 2156000.00               1912019.20   \n",
       "5                  917280.00                843094.98   \n",
       "6                 7590000.00               7105557.90   \n",
       "7                  305250.00                308154.00   \n",
       "8                 7686464.00               8052397.06   \n",
       "9                  347250.00                318431.25   \n",
       "\n",
       "   Sum(Holding/default/Price)  \n",
       "0                       19.00  \n",
       "1                        3.55  \n",
       "2                       13.36  \n",
       "3                       11.46  \n",
       "4                       19.51  \n",
       "5                        3.60  \n",
       "6                       20.60  \n",
       "7                        5.60  \n",
       "8                       30.32  \n",
       "9                        0.42  "
      ]
     },
     "execution_count": 15,
     "metadata": {},
     "output_type": "execute_result"
    }
   ],
   "source": [
    "# create aggregation request\n",
    "aggregation_request = fun.create_aggregation_request(analyst_scope_code, today, transaction_portfolio_code, client)\n",
    "\n",
    "# Call LUSID to aggregate across all of our portfolios\n",
    "aggregated_portfolio = client.aggregation.get_aggregation_by_portfolio(\n",
    "    scope=analyst_scope_code,\n",
    "    code=transaction_portfolio_code,\n",
    "    request=aggregation_request)\n",
    "\n",
    "aggregated_portfolio_df = pd.DataFrame(aggregated_portfolio.data)\n",
    "aggregated_portfolio_df.head(n=10)"
   ]
  },
  {
   "cell_type": "markdown",
   "metadata": {},
   "source": [
    "## 9) Compare performance across the analyst's reference and transaction portfolios"
   ]
  },
  {
   "cell_type": "code",
   "execution_count": 16,
   "metadata": {
    "pycharm": {
     "is_executing": false
    }
   },
   "outputs": [
    {
     "name": "stdout",
     "output_type": "stream",
     "text": [
      "\u001b[1mIndex Portfolio Code: \u001b[0mLSE_FTSE_techMarkFocus_index_DEMO\n",
      "\u001b[1mPortfolio Created\u001b[0m\n",
      "\u001b[1mScope: \u001b[0manalyst-paper-37c7-6237-a461-e4\n",
      "\u001b[1mCode: \u001b[0mLSE_FTSE_techMarkFocus_index_DEMO\n",
      "\u001b[1mPortfolio Effective From: \u001b[0m2019-09-29 16:47:19.075077+00:00\n",
      "\u001b[1mPortfolio Created On: \u001b[0m2019-10-02 16:47:29.579671+00:00\n",
      "\n"
     ]
    }
   ],
   "source": [
    "# create index portfolio\n",
    "index_portfolio_code = 'LSE_FTSE_techMarkFocus_index_DEMO'\n",
    "prettyprint.heading('Index Portfolio Code', index_portfolio_code)\n",
    "\n",
    "description = 'Index transaction portfolio_DEMO'\n",
    "fun.request_transaction_portfolio_creation(index_portfolio_code, \n",
    "                                           portfolio_creation_date, \n",
    "                                           analyst_scope_code, \n",
    "                                           description,\n",
    "                                           client)\n"
   ]
  },
  {
   "cell_type": "markdown",
   "metadata": {},
   "source": [
    "We now have an index portfolio that we can use to hold our index and obtain our benchmark."
   ]
  },
  {
   "cell_type": "markdown",
   "metadata": {},
   "source": [
    "![Scopes](img/paper-indexportfolio.gif)"
   ]
  },
  {
   "cell_type": "code",
   "execution_count": 17,
   "metadata": {
    "scrolled": true
   },
   "outputs": [
    {
     "name": "stdout",
     "output_type": "stream",
     "text": [
      "\u001b[1mHoldings Successfully Set for Portfolio\u001b[0m\n",
      "\u001b[1mScope: \u001b[0manalyst-paper-37c7-6237-a461-e4\n",
      "\u001b[1mCode: \u001b[0mLSE_FTSE_techMarkFocus_index_DEMO\n",
      "\u001b[1mHoldings Effective From: \u001b[0m2019-09-29 16:47:19.075077+00:00\n",
      "\u001b[1mHoldings Created On: \u001b[0m2019-10-02 16:47:32.789036+00:00\n",
      "\n"
     ]
    }
   ],
   "source": [
    "# setup an index portfolio\n",
    "index_setup = fun.setup_index(analyst_scope_code, reference_portfolio_code, instrument_prices, client)\n",
    "\n",
    "# Call LUSID to set all of our holdings to the initial index level\n",
    "adjust_holdings_response = client.transaction_portfolios.set_holdings(\n",
    "    scope=analyst_scope_code,\n",
    "    code=index_portfolio_code,\n",
    "    effective_at=portfolio_creation_date,\n",
    "    holding_adjustments=index_setup)\n",
    "\n",
    "prettyprint.set_holdings_response(\n",
    "    adjust_holdings_response, \n",
    "    analyst_scope_code, \n",
    "    index_portfolio_code)"
   ]
  },
  {
   "cell_type": "markdown",
   "metadata": {},
   "source": [
    "We now have an index portfolio that we can value."
   ]
  },
  {
   "cell_type": "markdown",
   "metadata": {},
   "source": [
    "![Scopes](img/paper-indexportfoliofilled.gif)"
   ]
  },
  {
   "cell_type": "code",
   "execution_count": 18,
   "metadata": {
    "pycharm": {
     "is_executing": false
    }
   },
   "outputs": [
    {
     "name": "stdout",
     "output_type": "stream",
     "text": [
      "\u001b[1mInitial Index Level :\u001b[0m999.98\n",
      "\u001b[1mCurrent Index Level :\u001b[0m995.97\n",
      "\u001b[1mReturn :\u001b[0m-0.4013%\n"
     ]
    }
   ],
   "source": [
    "fun.create_analytics_aggregation_request(analyst_scope_code, index_portfolio_code, today, client)\n"
   ]
  }
 ],
 "metadata": {
  "kernelspec": {
   "display_name": "Python 3",
   "language": "python",
   "name": "python3"
  },
  "language_info": {
   "codemirror_mode": {
    "name": "ipython",
    "version": 3
   },
   "file_extension": ".py",
   "mimetype": "text/x-python",
   "name": "python",
   "nbconvert_exporter": "python",
   "pygments_lexer": "ipython3",
   "version": "3.6.6"
  },
  "pycharm": {
   "stem_cell": {
    "cell_type": "raw",
    "source": [],
    "metadata": {
     "collapsed": false
    }
   }
  }
 },
 "nbformat": 4,
 "nbformat_minor": 2
}