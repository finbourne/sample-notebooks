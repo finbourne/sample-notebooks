{
 "cells": [
  {
   "cell_type": "markdown",
   "metadata": {},
   "source": [
    "## Sub Holding Keys\n",
    "\n",
    "By default, LUSID separates holdings by instrument. Sub-holding keys are labels which allow a more flexible grouping of holdings within instrument groups - this is useful for e.g. bucketing cash held in a single currency, since it allows one to track cash flows and logically partition holdings into sub-holdings.\n",
    "\n",
    "Portfolios can be initialised with a sub_holding_keys array, and transactions can be painted for bucketing with properties that contain matching keys.\n",
    "\n",
    "See more in the knowledge base: https://support.lusid.com/what-are-subholding-keys\n",
    "\n",
    "This use-case will demonstrate:\n",
    "\n",
    "1. The default behaviour of LUSID upon taking holdings\n",
    "2. The initialisation of a new portfolio with sub-holding keys\n",
    "3. The upsertion of properties to existing transactions\n",
    "4. The results of bucketing via sub-holding keys"
   ]
  },
  {
   "cell_type": "markdown",
   "metadata": {},
   "source": [
    "# 0. Initial Setup"
   ]
  },
  {
   "cell_type": "code",
   "execution_count": 1,
   "metadata": {},
   "outputs": [
    {
     "name": "stdout",
     "output_type": "stream",
     "text": [
      "LUSID Environment Initialised\n",
      "LUSID version :  0.5.3139.0\n"
     ]
    }
   ],
   "source": [
    "# Import LUSID\n",
    "import lusid\n",
    "import lusid.models as models\n",
    "import lusid_sample_data as import_data\n",
    "# Import Libraries\n",
    "import pprint\n",
    "from datetime import datetime, timedelta, time, date\n",
    "import pytz\n",
    "import uuid\n",
    "import printer as prettyprint\n",
    "from datetime import datetime\n",
    "import pandas as pd\n",
    "import numpy as np\n",
    "import os\n",
    "import json\n",
    "\n",
    "# Authenticate our user and create our API client\n",
    "client = import_data.authenticate_secrets()\n",
    "\n",
    "print('LUSID Environment Initialised')\n",
    "print('LUSID version : ', client.metadata.get_lusid_versions().build_version)"
   ]
  },
  {
   "cell_type": "markdown",
   "metadata": {},
   "source": [
    "# 1. LUSID Without Sub-holding Keys\n",
    "\n",
    "Define the parameters of a new portfolio, request it and create the portfolio in LUSID:"
   ]
  },
  {
   "cell_type": "code",
   "execution_count": 2,
   "metadata": {},
   "outputs": [],
   "source": [
    "# The following function creates a random alphanumeric code of 4 characters that can be appended to Ids\n",
    "# and Names to ensure they remain unique throughout multiple runs of this example\n",
    "def get_guid():\n",
    "    return str(uuid.uuid4())[:12]\n",
    "\n",
    "guid = get_guid()\n",
    "\n",
    "portfolio_code = 'SHKey_Demo'+\"-\"+guid\n",
    "portfolio_display_name = \"portfolio-{0}\".format(guid)\n",
    "\n",
    "scope = \"use-case-SHK\"\n",
    "\n",
    "# Set the creation date of the portfolio and today's date\n",
    "portfolio_date = datetime(2015, 1, 1, tzinfo=pytz.utc)\n",
    "today_date = date.today()"
   ]
  },
  {
   "cell_type": "code",
   "execution_count": 3,
   "metadata": {},
   "outputs": [],
   "source": [
    "# Set up the portfolio: CREATE a request\n",
    "request = models.CreateTransactionPortfolioRequest(\n",
    "    \n",
    "    # descriptive name for the portfolio\n",
    "    display_name=portfolio_display_name,\n",
    "\n",
    "    # unique portfolio code, portfolio codes must be unique across scopes\n",
    "    code=portfolio_code,\n",
    "    base_currency=\"GBP\",\n",
    "    created = portfolio_date)\n",
    "\n",
    "# and THEN submit response to lusid\n",
    "result = client.transaction_portfolios.create_portfolio(\n",
    "    scope = scope,\n",
    "    create_request=request)\n"
   ]
  },
  {
   "cell_type": "markdown",
   "metadata": {},
   "source": [
    "Begin our investment campaign with an initial sum of £2000:"
   ]
  },
  {
   "cell_type": "code",
   "execution_count": 4,
   "metadata": {},
   "outputs": [],
   "source": [
    "# Upsert an initial £2000 investment\n",
    "\n",
    "initial_fund_response = models.TransactionRequest(\n",
    "        # unique transaction id\n",
    "        transaction_id=get_guid(),\n",
    "\n",
    "        # transaction type, configured during system setup\n",
    "        type=\"FundsIn\",\n",
    "\n",
    "        # Cash instruments are identified using CCY_ followed by the ISO currency codes.\n",
    "        # Cash instruments do not need to be created before use\n",
    "        instrument_identifiers={\"Instrument/default/Currency\": \"GBP\"},\n",
    "\n",
    "        transaction_date=portfolio_date,\n",
    "        settlement_date=portfolio_date,\n",
    "        transaction_price=models.TransactionPrice(1),\n",
    "        units=2000,\n",
    "        total_consideration=models.CurrencyAndAmount(2000, \"GBP\"),\n",
    "        source=\"Client\")\n",
    "\n",
    "client.transaction_portfolios.upsert_transactions(\n",
    "    scope=scope,\n",
    "    code=portfolio_code,\n",
    "    transactions=[initial_fund_response]);"
   ]
  },
  {
   "cell_type": "markdown",
   "metadata": {},
   "source": [
    "## Add Transactions\n",
    "\n",
    "Suppose we hold some equity and some bonds. If the equity pays dividends and the bonds pay a coupon, then there are two separate cash flows into the portfolio from each of these sources. We'll represent purchase of the instruments and their corresponding cash incomes as transactions.\n",
    "\n",
    "Transactions for the purchase of instruments:"
   ]
  },
  {
   "cell_type": "code",
   "execution_count": 5,
   "metadata": {},
   "outputs": [],
   "source": [
    "transactions = []\n",
    "\n",
    "# A transaction to buy 100 units of Figi BBG000BKH1W6 (Kingfisher_LondonStockEx_KGF, pays dividends)\n",
    "\n",
    "KF_unit_price = 2.276\n",
    "KF_units = 100\n",
    "KF_total_price = KF_unit_price * KF_units\n",
    "\n",
    "# Date of equity purchase\n",
    "KF_date = datetime(2015, 9, 7, tzinfo=pytz.utc)\n",
    "\n",
    "Equity = models.TransactionRequest(\n",
    "\n",
    "    # unique transaction id\n",
    "    transaction_id=get_guid(),\n",
    "\n",
    "    # transaction type, configured during system setup\n",
    "    type=\"Buy\",\n",
    "    instrument_identifiers={\n",
    "        'Instrument/default/Figi': \"BBG000BKH1W6\"\n",
    "    },\n",
    "    transaction_date=KF_date,\n",
    "    settlement_date=KF_date,\n",
    "    units=KF_units,\n",
    "    transaction_price=models.TransactionPrice(price=KF_unit_price),\n",
    "    total_consideration=models.CurrencyAndAmount(amount=KF_total_price, currency=\"GBP\"),\n",
    "    source=\"Client\"\n",
    "    )\n",
    "\n",
    "transactions.append(Equity)\n",
    "\n",
    "# A second transaction to buy 10 units of Figi BBG0088JSC32 (UK GILT STOCK 2% 2025 Maturity)\n",
    "\n",
    "GILT_unit_price = 106.637\n",
    "GILT_units = 10\n",
    "GILT_total_price = GILT_unit_price*GILT_units\n",
    "\n",
    "# Date of bond purchase\n",
    "GILT_date = datetime(2015, 5, 13, tzinfo=pytz.utc)\n",
    "\n",
    "Bond = models.TransactionRequest(\n",
    "\n",
    "    # unique transaction id\n",
    "    transaction_id=get_guid(),\n",
    "\n",
    "    # transaction type, configured during system setup\n",
    "    type=\"Buy\",\n",
    "    instrument_identifiers={\n",
    "        'Instrument/default/Figi': \"BBG0088JSC32\"\n",
    "    },\n",
    "    transaction_date=GILT_date,\n",
    "    settlement_date=GILT_date,\n",
    "    units=GILT_units,\n",
    "    transaction_price=models.TransactionPrice(price=GILT_unit_price),\n",
    "    total_consideration=models.CurrencyAndAmount(amount=GILT_total_price, currency=\"GBP\"),\n",
    "    source=\"Client\"\n",
    "    )\n",
    "\n",
    "transactions.append(Bond)"
   ]
  },
  {
   "cell_type": "markdown",
   "metadata": {},
   "source": [
    "Transactions for cash incomes (coupon and dividend payments):"
   ]
  },
  {
   "cell_type": "code",
   "execution_count": 6,
   "metadata": {},
   "outputs": [],
   "source": [
    "# Transactions for the dividend cash flow\n",
    "\n",
    "# Dates on which dividends were payed\n",
    "div_dates = [datetime(2015,11,13, tzinfo=pytz.utc), datetime(2016,6,20, tzinfo=pytz.utc), datetime(2016,11,11, tzinfo=pytz.utc),\n",
    "              datetime(2017,6,19, tzinfo=pytz.utc), datetime(2017,11,10, tzinfo=pytz.utc), datetime(2018,6,18, tzinfo=pytz.utc),\n",
    "              datetime(2018,11,9, tzinfo=pytz.utc), datetime(2019,7,15, tzinfo=pytz.utc)]\n",
    "# Corresponding Rates\n",
    "dividend_rates = [3.18,6.92,3.25,7.15,3.33,7.49,3.33,7.49]\n",
    "\n",
    "for i in range(len(div_dates)):\n",
    "    transactions.append(models.TransactionRequest(\n",
    "            # unique transaction id\n",
    "            transaction_id=\"dividend\"+get_guid(),\n",
    "\n",
    "            # transaction type, configured during system setup\n",
    "            type=\"FundsIn\",\n",
    "\n",
    "            # Cash instruments are identified using CCY_ followed by the ISO currency codes.\n",
    "            # Cash instruments do not need to be created before use\n",
    "            instrument_identifiers={\"Instrument/default/Currency\": \"GBP\"},\n",
    "\n",
    "            transaction_date=div_dates[i],\n",
    "            settlement_date=div_dates[i],\n",
    "            transaction_price=models.TransactionPrice(1),\n",
    "            units=KF_units*dividend_rates[i]/100,\n",
    "            total_consideration=models.CurrencyAndAmount(KF_total_price*dividend_rates[i]/100, \"GBP\"),\n",
    "            source=\"Client\")\n",
    "        )\n",
    "    \n",
    "# Transactions for the coupon cash flow\n",
    "\n",
    "# Dates on which coupon payments were recieved\n",
    "coupon_dates = [datetime(2015,7,9, tzinfo=pytz.utc), datetime(2016,7,3, tzinfo=pytz.utc), datetime(2016,7,9, tzinfo=pytz.utc), \n",
    "               datetime(2017,7,3, tzinfo=pytz.utc), datetime(2017,7,9, tzinfo=pytz.utc), datetime(2018,7,3, tzinfo=pytz.utc), \n",
    "               datetime(2018,7,9, tzinfo=pytz.utc), datetime(2019,7,3, tzinfo=pytz.utc)]\n",
    "\n",
    "coupon_value = 2*GILT_units\n",
    "\n",
    "for i in range(len(coupon_dates)):\n",
    "    transactions.append(models.TransactionRequest(\n",
    "            # unique transaction id\n",
    "            transaction_id=\"coupon\"+get_guid(),\n",
    "\n",
    "            # transaction type, configured during system setup\n",
    "            type=\"FundsIn\",\n",
    "\n",
    "            # Cash instruments are identified using CCY_ followed by the ISO currency codes.\n",
    "            # Cash instruments do not need to be created before use\n",
    "            instrument_identifiers={\"Instrument/default/Currency\": \"GBP\"},\n",
    "\n",
    "            transaction_date=coupon_dates[i],\n",
    "            settlement_date=coupon_dates[i],\n",
    "            transaction_price=models.TransactionPrice(1),\n",
    "            units=coupon_value,\n",
    "            total_consideration=models.CurrencyAndAmount(coupon_value, \"GBP\"),\n",
    "            source=\"Client\")\n",
    "        )"
   ]
  },
  {
   "cell_type": "markdown",
   "metadata": {},
   "source": [
    "Upsert transactions and check response:"
   ]
  },
  {
   "cell_type": "code",
   "execution_count": 7,
   "metadata": {},
   "outputs": [
    {
     "name": "stdout",
     "output_type": "stream",
     "text": [
      "\u001b[1mTransactions Successfully Upserted into Portfolio\u001b[0m\n",
      "\u001b[1mScope: \u001b[0muse-case-SHK\n",
      "\u001b[1mCode: \u001b[0mSHKey_Demo-9d1a1f48-568\n",
      "\u001b[1mTransactions Effective From: \u001b[0m2019-07-15 00:00:00+00:00\n",
      "\u001b[1mTransactions Created On: \u001b[0m2019-08-23 13:35:41.597285+00:00\n",
      "\n"
     ]
    }
   ],
   "source": [
    "# Upsert Transactions to portfolio\n",
    "\n",
    "response = client.transaction_portfolios.upsert_transactions(\n",
    "    scope=scope,\n",
    "    code=portfolio_code,\n",
    "    transactions=transactions)\n",
    "\n",
    "#Print the response from LUSID using pretty formatting \n",
    "prettyprint.transactions_response(\n",
    "    response,\n",
    "    scope,\n",
    "    portfolio_code)"
   ]
  },
  {
   "cell_type": "markdown",
   "metadata": {},
   "source": [
    "Take holdings: This cell demonstrates that the default behaviour of lusid is to separate holdings at the instrument level, i.e. that all of our cash (from the initial investment and both coupon/dividend incomes) is grouped together."
   ]
  },
  {
   "cell_type": "code",
   "execution_count": 8,
   "metadata": {},
   "outputs": [
    {
     "data": {
      "text/html": [
       "<div>\n",
       "<style scoped>\n",
       "    .dataframe tbody tr th:only-of-type {\n",
       "        vertical-align: middle;\n",
       "    }\n",
       "\n",
       "    .dataframe tbody tr th {\n",
       "        vertical-align: top;\n",
       "    }\n",
       "\n",
       "    .dataframe thead th {\n",
       "        text-align: right;\n",
       "    }\n",
       "</style>\n",
       "<table border=\"1\" class=\"dataframe\">\n",
       "  <thead>\n",
       "    <tr style=\"text-align: right;\">\n",
       "      <th></th>\n",
       "      <th>Units</th>\n",
       "      <th>Cost</th>\n",
       "      <th>Currency</th>\n",
       "      <th>Instrument Id</th>\n",
       "    </tr>\n",
       "  </thead>\n",
       "  <tbody>\n",
       "    <tr>\n",
       "      <th>0</th>\n",
       "      <td>10.00</td>\n",
       "      <td>1066.37</td>\n",
       "      <td>GBP</td>\n",
       "      <td>LUID_ZTMR6A5H</td>\n",
       "    </tr>\n",
       "    <tr>\n",
       "      <th>1</th>\n",
       "      <td>100.00</td>\n",
       "      <td>227.60</td>\n",
       "      <td>GBP</td>\n",
       "      <td>LUID_H6LL1EIM</td>\n",
       "    </tr>\n",
       "    <tr>\n",
       "      <th>2</th>\n",
       "      <td>908.17</td>\n",
       "      <td>908.17</td>\n",
       "      <td>GBP</td>\n",
       "      <td>CCY_GBP</td>\n",
       "    </tr>\n",
       "  </tbody>\n",
       "</table>\n",
       "</div>"
      ],
      "text/plain": [
       "   Units    Cost Currency  Instrument Id\n",
       "0  10.00 1066.37      GBP  LUID_ZTMR6A5H\n",
       "1 100.00  227.60      GBP  LUID_H6LL1EIM\n",
       "2 908.17  908.17      GBP        CCY_GBP"
      ]
     },
     "execution_count": 8,
     "metadata": {},
     "output_type": "execute_result"
    }
   ],
   "source": [
    "holdings_response = client.transaction_portfolios.get_holdings(scope=scope, \n",
    "                                                               code=portfolio_code,\n",
    "                                                               effective_at=today_date)\n",
    "\n",
    "prettyprint.holdings_response_instrument_id(holdings_response)"
   ]
  },
  {
   "cell_type": "markdown",
   "metadata": {},
   "source": [
    "# 2. Portfolios With Sub-Holding Keys\n",
    "\n",
    "LUSID supports a more flexible bucketing of instruments into holdings. *Sub-Holding Keys* are labels which can be used to group instruments within a holding into separate buckets: sub-holdings.\n",
    "\n",
    "Portfolios must be initialised with a list of subholding keys, and these cannot be changed later. This is because they are central to the way LUSID responds to a get_holdings request.\n",
    "\n",
    "To demonstrate this feature, we will create a copy of our original portfolio (a derived transaction portfolio) and initialise it with subholding keys."
   ]
  },
  {
   "cell_type": "code",
   "execution_count": 9,
   "metadata": {},
   "outputs": [
    {
     "name": "stdout",
     "output_type": "stream",
     "text": [
      "\u001b[1mDerived Portfolio Created\u001b[0m\n",
      "\u001b[1mScope: \u001b[0muse-case-SHK\n",
      "\u001b[1mCode: \u001b[0mderived-SHKey_Demo-9d1a1f48-568\n",
      "\u001b[1mPortfolio Effective From: \u001b[0m2015-01-01 00:00:00+00:00\n",
      "\u001b[1mPortfolio Created On: \u001b[0m2019-08-23 13:35:42.036232+00:00\n",
      "\n",
      "\u001b[1m   Parent Portfolio Details\u001b[0m\n",
      "\u001b[1m   Scope: \u001b[0muse-case-SHK\n",
      "\u001b[1m   Code: \u001b[0mSHKey_Demo-9d1a1f48-568\n",
      "\n"
     ]
    }
   ],
   "source": [
    "# The keys that label the cash buckets\n",
    "sub_holding_keys = [\"Transaction/\"+scope+\"/coupon\", \"Transaction/\"+scope+\"/dividend\", \"Transaction/\"+scope+\"/fund\"]\n",
    "\n",
    "derived_portfolio_code = \"derived-\"+portfolio_code\n",
    "\n",
    "derived_portfolio_request = models.CreateDerivedTransactionPortfolioRequest(\n",
    "    # this uses the portfolio name\n",
    "    display_name=\"derived-\"+portfolio_display_name,\n",
    "    code=derived_portfolio_code,\n",
    "    parent_portfolio_id=models.ResourceId(\n",
    "        scope=scope,\n",
    "        code=portfolio_code),\n",
    "    description=\"portfolio with sub-holding keys\",\n",
    "    created=portfolio_date,\n",
    "    corporate_action_source_id=None,\n",
    "    accounting_method=None,\n",
    "    # Initialise with sub-holding keys\n",
    "    sub_holding_keys=sub_holding_keys)\n",
    "\n",
    "derived_portfolio = client.derived_transaction_portfolios.create_derived_portfolio(\n",
    "    scope=scope,\n",
    "    portfolio=derived_portfolio_request)\n",
    "\n",
    "prettyprint.portfolio_response(derived_portfolio)"
   ]
  },
  {
   "cell_type": "markdown",
   "metadata": {},
   "source": [
    "It's also possible to specify sub-holding keys for transaction portfolios that don't derive from other portfolios: this is done simply by initialising the portfolio request and passing an array to the sub_holding_keys optional argument, just like in the derived portfolio request above."
   ]
  },
  {
   "cell_type": "markdown",
   "metadata": {},
   "source": [
    "# 3. Transaction Properties"
   ]
  },
  {
   "cell_type": "markdown",
   "metadata": {},
   "source": [
    "## 3.1 Upsert Properties to Existing Transactions\n",
    "Create Properties to attach to coupon and dividend transactions:"
   ]
  },
  {
   "cell_type": "code",
   "execution_count": 10,
   "metadata": {},
   "outputs": [],
   "source": [
    "dividend_property_request = models.CreatePropertyDefinitionRequest(\n",
    "    domain='Transaction',\n",
    "    scope=scope,\n",
    "    code='dividend',\n",
    "    value_required=True,\n",
    "    display_name='dividend_cash',\n",
    "    life_time='Perpetual',\n",
    "    data_type_id=models.ResourceId(\n",
    "        scope='system', \n",
    "        code='string'))\n",
    "\n",
    "coupon_property_request = models.CreatePropertyDefinitionRequest(\n",
    "    domain='Transaction',\n",
    "    scope=scope,\n",
    "    code='coupon',\n",
    "    value_required=True,\n",
    "    display_name='equity_cash',\n",
    "    life_time='Perpetual',\n",
    "    data_type_id=models.ResourceId(\n",
    "        scope='system', \n",
    "        code='string'))"
   ]
  },
  {
   "cell_type": "code",
   "execution_count": 11,
   "metadata": {},
   "outputs": [
    {
     "name": "stdout",
     "output_type": "stream",
     "text": [
      "\u001b[1mProperty Response Details\u001b[0m\n",
      "\u001b[1mScope: \u001b[0muse-case-SHK\n",
      "\u001b[1mCode: \u001b[0mdividend\n",
      "\u001b[1mLifetime: \u001b[0mPerpetual\n",
      "\n",
      "\u001b[1mProperty Response Details\u001b[0m\n",
      "\u001b[1mScope: \u001b[0muse-case-SHK\n",
      "\u001b[1mCode: \u001b[0mcoupon\n",
      "\u001b[1mLifetime: \u001b[0mPerpetual\n",
      "\n"
     ]
    }
   ],
   "source": [
    "# Create property definitions from requests\n",
    "dividend_property_response = client.property_definitions.create_property_definition(\n",
    "    definition=dividend_property_request)\n",
    "\n",
    "coupon_property_response = client.property_definitions.create_property_definition(\n",
    "    definition=coupon_property_request)\n",
    "\n",
    "prettyprint.property_response(dividend_property_response)\n",
    "prettyprint.property_response(coupon_property_response)"
   ]
  },
  {
   "cell_type": "markdown",
   "metadata": {},
   "source": [
    "Now that we have the property definitions (the property_responses elements) we can actually build the properties:"
   ]
  },
  {
   "cell_type": "code",
   "execution_count": 12,
   "metadata": {},
   "outputs": [],
   "source": [
    "dividend_property =  models.PerpetualProperty(key=dividend_property_response.key,\n",
    "                                              value=models.PropertyValue(\n",
    "                                                  label_value=dividend_property_response.code))\n",
    "\n",
    "coupon_property =  models.PerpetualProperty(key=coupon_property_response.key,\n",
    "                                              value=models.PropertyValue(\n",
    "                                                  label_value=coupon_property_response.code))"
   ]
  },
  {
   "cell_type": "markdown",
   "metadata": {},
   "source": [
    "Upsert transaction properties:"
   ]
  },
  {
   "cell_type": "code",
   "execution_count": 13,
   "metadata": {},
   "outputs": [],
   "source": [
    "# LUSID doesn't directly support property upsertion to inherited transactions in a derived portfolio. Upsert properties to the\n",
    "# transactions in the parent portolio; the inherited transactions will be automatically updated with these changes.\n",
    "\n",
    "# Loop through transactions, check to see if they should be categorised as coupon or dividend.\n",
    "# If so, categorise by attaching a property.\n",
    "for each_transaction in transactions:\n",
    "    \n",
    "    if each_transaction.transaction_id.startswith(\"dividend\"):\n",
    "        client.transaction_portfolios.upsert_transaction_properties(scope=scope,\n",
    "                                           code=portfolio_code,\n",
    "                                           transaction_id=each_transaction.transaction_id,\n",
    "                                           transaction_properties={dividend_property_response.key:dividend_property} )\n",
    "        \n",
    "    if each_transaction.transaction_id.startswith(\"coupon\"):\n",
    "        client.transaction_portfolios.upsert_transaction_properties(scope=scope,\n",
    "                                           code=portfolio_code,\n",
    "                                           transaction_id=each_transaction.transaction_id,\n",
    "                                           transaction_properties={coupon_property_response.key:coupon_property} )"
   ]
  },
  {
   "cell_type": "markdown",
   "metadata": {},
   "source": [
    "Properties can also be attached to transactions upon initialisation (as optional arguments of the request call). As mentioned, non-derived portfolios can be initialised with sub-holding keys, so it is possible to use the functionality provided by LUSID's sub-holding keys from the outset (rather than via retrospect.)"
   ]
  },
  {
   "cell_type": "markdown",
   "metadata": {},
   "source": [
    "# 4. Take Holdings\n",
    "\n",
    "Now when we take holdings, notice that there are three cash buckets: coupons, dividends, and uncategorised (leftover cash.)"
   ]
  },
  {
   "cell_type": "code",
   "execution_count": 14,
   "metadata": {},
   "outputs": [
    {
     "data": {
      "text/html": [
       "<div>\n",
       "<style scoped>\n",
       "    .dataframe tbody tr th:only-of-type {\n",
       "        vertical-align: middle;\n",
       "    }\n",
       "\n",
       "    .dataframe tbody tr th {\n",
       "        vertical-align: top;\n",
       "    }\n",
       "\n",
       "    .dataframe thead th {\n",
       "        text-align: right;\n",
       "    }\n",
       "</style>\n",
       "<table border=\"1\" class=\"dataframe\">\n",
       "  <thead>\n",
       "    <tr style=\"text-align: right;\">\n",
       "      <th></th>\n",
       "      <th>Units</th>\n",
       "      <th>Cost</th>\n",
       "      <th>Currency</th>\n",
       "      <th>Instrument Id</th>\n",
       "      <th>Sub-holding Key</th>\n",
       "    </tr>\n",
       "  </thead>\n",
       "  <tbody>\n",
       "    <tr>\n",
       "      <th>0</th>\n",
       "      <td>10.00</td>\n",
       "      <td>1066.37</td>\n",
       "      <td>GBP</td>\n",
       "      <td>LUID_ZTMR6A5H</td>\n",
       "      <td>none</td>\n",
       "    </tr>\n",
       "    <tr>\n",
       "      <th>1</th>\n",
       "      <td>100.00</td>\n",
       "      <td>227.60</td>\n",
       "      <td>GBP</td>\n",
       "      <td>LUID_H6LL1EIM</td>\n",
       "      <td>none</td>\n",
       "    </tr>\n",
       "    <tr>\n",
       "      <th>2</th>\n",
       "      <td>706.03</td>\n",
       "      <td>706.03</td>\n",
       "      <td>GBP</td>\n",
       "      <td>CCY_GBP</td>\n",
       "      <td>none</td>\n",
       "    </tr>\n",
       "    <tr>\n",
       "      <th>3</th>\n",
       "      <td>160.00</td>\n",
       "      <td>160.00</td>\n",
       "      <td>GBP</td>\n",
       "      <td>CCY_GBP</td>\n",
       "      <td>coupon</td>\n",
       "    </tr>\n",
       "    <tr>\n",
       "      <th>4</th>\n",
       "      <td>42.14</td>\n",
       "      <td>42.14</td>\n",
       "      <td>GBP</td>\n",
       "      <td>CCY_GBP</td>\n",
       "      <td>dividend</td>\n",
       "    </tr>\n",
       "  </tbody>\n",
       "</table>\n",
       "</div>"
      ],
      "text/plain": [
       "   Units    Cost Currency  Instrument Id Sub-holding Key\n",
       "0  10.00 1066.37      GBP  LUID_ZTMR6A5H            none\n",
       "1 100.00  227.60      GBP  LUID_H6LL1EIM            none\n",
       "2 706.03  706.03      GBP        CCY_GBP            none\n",
       "3 160.00  160.00      GBP        CCY_GBP          coupon\n",
       "4  42.14   42.14      GBP        CCY_GBP        dividend"
      ]
     },
     "execution_count": 14,
     "metadata": {},
     "output_type": "execute_result"
    }
   ],
   "source": [
    "new_holdings_response = client.transaction_portfolios.get_holdings(scope=scope, \n",
    "                                                               code=derived_portfolio_code,\n",
    "                                                               effective_at=today_date)\n",
    "\n",
    "prettyprint.holdings_response_instrument_id_shk(response=new_holdings_response)"
   ]
  },
  {
   "cell_type": "markdown",
   "metadata": {},
   "source": [
    "Transactions can possess properties that match multiple sub-holding keys, meaning that they may be grouped into more than one sub-holding. This is how LUSID can provide more flexible accounting capabilities."
   ]
  },
  {
   "cell_type": "markdown",
   "metadata": {},
   "source": [
    "Tidy up; delete property definitions"
   ]
  },
  {
   "cell_type": "code",
   "execution_count": 15,
   "metadata": {},
   "outputs": [],
   "source": [
    "client.property_definitions.delete_property_definition(domain=\"Transaction\",scope=scope,code='dividend');\n",
    "client.property_definitions.delete_property_definition(domain=\"Transaction\",scope=scope,code='coupon');"
   ]
  }
 ],
 "metadata": {
  "kernelspec": {
   "display_name": "Python 3",
   "language": "python",
   "name": "python3"
  },
  "language_info": {
   "codemirror_mode": {
    "name": "ipython",
    "version": 3
   },
   "file_extension": ".py",
   "mimetype": "text/x-python",
   "name": "python",
   "nbconvert_exporter": "python",
   "pygments_lexer": "ipython3",
   "version": "3.7.3"
  }
 },
 "nbformat": 4,
 "nbformat_minor": 2
}
