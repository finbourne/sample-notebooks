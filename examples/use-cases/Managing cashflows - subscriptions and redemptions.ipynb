{
 "cells": [
  {
   "cell_type": "markdown",
   "metadata": {},
   "source": [
    "# Running a Fund with Investors"
   ]
  },
  {
   "cell_type": "markdown",
   "metadata": {},
   "source": [
    "# Set Up"
   ]
  },
  {
   "cell_type": "markdown",
   "metadata": {},
   "source": [
    "### Import the libraries"
   ]
  },
  {
   "cell_type": "code",
   "execution_count": 1,
   "metadata": {},
   "outputs": [
    {
     "name": "stdout",
     "output_type": "stream",
     "text": [
      "LUSID Environment Initialised\n",
      "LUSID API Version:  0.5.3653.0\n"
     ]
    }
   ],
   "source": [
    "# Import LUSID\n",
    "import lusid.models as models\n",
    "import lusid_sample_data as import_data\n",
    "from lusidjam import RefreshingToken\n",
    "\n",
    "# Import Libraries\n",
    "import pprint\n",
    "from datetime import datetime, timedelta, time\n",
    "import pytz\n",
    "import printer as prettyprint\n",
    "import pandas as pd\n",
    "import json\n",
    "import lusid\n",
    "import uuid\n",
    "import os\n",
    "\n",
    "# Authenticate our user and create our API client\n",
    "secrets_path = os.getenv(\"FBN_SECRETS_PATH\")\n",
    "\n",
    "api_factory = lusid.utilities.ApiClientFactory(\n",
    "    token=RefreshingToken(),\n",
    "    api_secrets_filename = secrets_path,\n",
    "    app_name=\"LusidJupyterNotebook\")\n",
    "\n",
    "\n",
    "print ('LUSID Environment Initialised')\n",
    "print ('LUSID API Version: ', api_factory.build(lusid.api.ApplicationMetadataApi).get_lusid_versions().build_version)"
   ]
  },
  {
   "cell_type": "markdown",
   "metadata": {},
   "source": [
    "![Init](img/fundoperations-lusidinit.gif)"
   ]
  },
  {
   "cell_type": "markdown",
   "metadata": {},
   "source": [
    "### Create a scope"
   ]
  },
  {
   "cell_type": "markdown",
   "metadata": {},
   "source": [
    "Here you can create a unique id for your scope to use to hold your fund and investor information.\n",
    "\n",
    "*Run the cell below to create an identifier for your fund operations scope*"
   ]
  },
  {
   "cell_type": "code",
   "execution_count": 2,
   "metadata": {},
   "outputs": [
    {
     "name": "stdout",
     "output_type": "stream",
     "text": [
      "\u001b[1mScope: \u001b[0mfund-operations-37fa-64ce-76e2-fe\n"
     ]
    }
   ],
   "source": [
    "# Generate a unique id for your scope\n",
    "scope_id = import_data.create_scope_id()\n",
    "# Set the name of your scope\n",
    "scope = 'fund-operations-{}'.format(scope_id)\n",
    "prettyprint.heading('Scope', scope)"
   ]
  },
  {
   "cell_type": "markdown",
   "metadata": {},
   "source": [
    "![Scope](img/fundoperations-scope.gif)"
   ]
  },
  {
   "cell_type": "markdown",
   "metadata": {},
   "source": [
    "### Create properties to hold important information"
   ]
  },
  {
   "cell_type": "markdown",
   "metadata": {},
   "source": [
    "As part of your fund operations there are a number of important pieces of information which need to be included on your transactions which are not tracked by LUSID by default. These are:\n",
    "\n",
    "- SubscriptionType: The type of subscription from an investor into a fund e.g. Committed or Capital\n",
    "- InvestorId: The identifier for the investor associated with the transaction\n",
    "- FundCode: The identifier for the fund code associated with the transacton\n",
    "- OperationStage: The status of the transaction e.g. Draft, Reviewed, Approved\n",
    "\n",
    "These can be created inside LUSID as [property definitions](https://support.lusid.com/what-is-a-property-definition). \n",
    "\n",
    "For further usage of the create property definition API call refer to the [LUSID API Docs: Create Property Definition](https://www.lusid.com/docs/api/#operation/CreatePropertyDefinition).\n",
    "\n",
    "*Run the cell below to create definitions for each of the properties*"
   ]
  },
  {
   "cell_type": "code",
   "execution_count": 3,
   "metadata": {},
   "outputs": [
    {
     "name": "stdout",
     "output_type": "stream",
     "text": [
      "\u001b[1mSubscriptionType Property Key: \u001b[0mTransaction/fund-operations-37fa-64ce-76e2-fe/SubscriptionType\n",
      "\u001b[1mInvestorId Property Key: \u001b[0mTransaction/fund-operations-37fa-64ce-76e2-fe/InvestorId\n",
      "\u001b[1mFundCode Property Key: \u001b[0mTransaction/fund-operations-37fa-64ce-76e2-fe/FundCode\n",
      "\u001b[1mOperationStage Property Key: \u001b[0mTransaction/fund-operations-37fa-64ce-76e2-fe/OperationStage\n"
     ]
    }
   ],
   "source": [
    "property_codes = [\"SubscriptionType\", \"InvestorId\", \"FundCode\", \"OperationStage\"]\n",
    "property_keys = {}\n",
    "\n",
    "for property_code in property_codes:\n",
    "    \n",
    "    # Create our request to define a new property\n",
    "    request = models.CreatePropertyDefinitionRequest(\n",
    "        domain='Transaction',\n",
    "        scope=scope,\n",
    "        code=property_code,\n",
    "        value_required=False,\n",
    "        display_name=property_code,\n",
    "        data_type_id=models.ResourceId(scope='system', code='string'))\n",
    "\n",
    "    # Call LUSID to create our new property\n",
    "    response = api_factory.build(lusid.api.PropertyDefinitionsApi).create_property_definition(\n",
    "        definition=request)\n",
    "\n",
    "    # Grab the key off the response to use when referencing this property in other LUSID calls\n",
    "    property_keys[property_code] = response.key\n",
    "\n",
    "    # Pretty print our key\n",
    "    prettyprint.heading(f'{property_code} Property Key', response.key)"
   ]
  },
  {
   "cell_type": "markdown",
   "metadata": {},
   "source": [
    "![Properties](img/fundoperations-properties.gif)"
   ]
  },
  {
   "cell_type": "markdown",
   "metadata": {},
   "source": [
    "### Create the investor's portfolio"
   ]
  },
  {
   "cell_type": "markdown",
   "metadata": {},
   "source": [
    "To hold information about your investor's account you need to create a portfolio for each of them.\n",
    "\n",
    "You start with a single investor which you call \"Investor1\".\n",
    "\n",
    "You can read more about creating transaction portfolios in the [LUSID API documentation: LUSID API Docs: Creating Transaction Portfolios](https://www.lusid.com/docs/api/#operation/CreatePortfolio).\n",
    "\n",
    "*Run the cell below to create a portfolio for your investor*"
   ]
  },
  {
   "cell_type": "code",
   "execution_count": 4,
   "metadata": {},
   "outputs": [
    {
     "name": "stdout",
     "output_type": "stream",
     "text": [
      "\u001b[1mPortfolio Created\u001b[0m\n",
      "\u001b[1mScope: \u001b[0mfund-operations-37fa-64ce-76e2-fe\n",
      "\u001b[1mCode: \u001b[0mInvestor1\n",
      "\u001b[1mPortfolio Effective From: \u001b[0m2017-01-18 14:44:19.299795+00:00\n",
      "\u001b[1mPortfolio Created On: \u001b[0m2019-12-06 14:44:19.420942+00:00\n",
      "\n"
     ]
    }
   ],
   "source": [
    "# Set the code of your portfolio\n",
    "investor_portfolio_code = 'Investor1'\n",
    "\n",
    "# Set the creation date of your portfolio \n",
    "portfolio_creation_date = datetime.now(pytz.UTC) - timedelta(days=1052)\n",
    "\n",
    "# Build your request to create your portfolio\n",
    "request = models.CreateTransactionPortfolioRequest(\n",
    "    display_name=investor_portfolio_code,\n",
    "    code=investor_portfolio_code,\n",
    "    base_currency='AUD',\n",
    "    description=None,\n",
    "    created=portfolio_creation_date,\n",
    "    corporate_action_source_id=None,\n",
    "    accounting_method='AverageCost',\n",
    "    sub_holding_keys=[property_keys[\"SubscriptionType\"], property_keys[\"FundCode\"]],\n",
    "    properties=None)\n",
    "\n",
    "# Call LUSID to create your portfolio\n",
    "response = api_factory.build(lusid.api.TransactionPortfoliosApi).create_portfolio(\n",
    "    scope=scope,\n",
    "    transaction_portfolio=request)\n",
    "\n",
    "# Pretty print the response\n",
    "prettyprint.portfolio_response(response)"
   ]
  },
  {
   "cell_type": "markdown",
   "metadata": {},
   "source": [
    "![Investor1](img/fundoperations-investor1.gif)"
   ]
  },
  {
   "cell_type": "markdown",
   "metadata": {},
   "source": [
    "### Create the fund portfolio"
   ]
  },
  {
   "cell_type": "markdown",
   "metadata": {},
   "source": [
    "You also need a portfolio to hold your funds. You also start with a single fund called the \"Pacific-Infrastructure-Fund\".\n",
    "\n",
    "*Run the cell below to create a portfolio for your fund*"
   ]
  },
  {
   "cell_type": "code",
   "execution_count": 5,
   "metadata": {},
   "outputs": [
    {
     "name": "stdout",
     "output_type": "stream",
     "text": [
      "\u001b[1mPortfolio Created\u001b[0m\n",
      "\u001b[1mScope: \u001b[0mfund-operations-37fa-64ce-76e2-fe\n",
      "\u001b[1mCode: \u001b[0mPacfic-Infrastructure-Fund\n",
      "\u001b[1mPortfolio Effective From: \u001b[0m2017-01-18 14:44:19.515205+00:00\n",
      "\u001b[1mPortfolio Created On: \u001b[0m2019-12-06 14:44:19.636537+00:00\n",
      "\n"
     ]
    }
   ],
   "source": [
    "# Set the code of your portfolio\n",
    "fund_portfolio_code = 'Pacfic-Infrastructure-Fund'\n",
    "\n",
    "# Set the creation date of your portfolio \n",
    "portfolio_creation_date = datetime.now(pytz.UTC) - timedelta(days=1052)\n",
    "\n",
    "# Build your request to create your portfolio\n",
    "request = models.CreateTransactionPortfolioRequest(\n",
    "    display_name=fund_portfolio_code,\n",
    "    code=fund_portfolio_code,\n",
    "    base_currency='AUD',\n",
    "    description=None,\n",
    "    created=portfolio_creation_date,\n",
    "    corporate_action_source_id=None,\n",
    "    accounting_method='AverageCost',\n",
    "    sub_holding_keys=[property_keys[\"SubscriptionType\"], property_keys[\"InvestorId\"]],\n",
    "    properties=None)\n",
    "\n",
    "# Call LUSID to create your portfolio\n",
    "response = api_factory.build(lusid.api.TransactionPortfoliosApi).create_portfolio(\n",
    "    scope=scope,\n",
    "    transaction_portfolio=request)\n",
    "\n",
    "# Pretty print the response\n",
    "prettyprint.portfolio_response(response)"
   ]
  },
  {
   "cell_type": "markdown",
   "metadata": {},
   "source": [
    "![Fund](img/fundoperations-fund.gif)"
   ]
  },
  {
   "cell_type": "markdown",
   "metadata": {},
   "source": [
    "### Set up the default transaction mapping"
   ]
  },
  {
   "cell_type": "markdown",
   "metadata": {},
   "source": [
    "Before you can add any transactions to LUSID you need to set up a transaction type configuration. This allows the LUSID movement engine to correctly decompose each transaction into its underlying economic movements. Read more about configuring transaction types here [LUSID Knowledge Base: Configuring Transaction Types](https://support.lusid.com/configuring-transaction-types) and movements in LUSID here [LUSID Knowledge Base: Movements](https://support.lusid.com/what-is-a-movement-in-lusid). \n",
    "\n",
    "You will import the default LUSID transaction type configuration from a JSON file and then use this to set your configuration inside LUSID.\n",
    "\n",
    "*Run the cell below to import the LUSID default transaction mapping configuration and set it*"
   ]
  },
  {
   "cell_type": "code",
   "execution_count": 6,
   "metadata": {},
   "outputs": [
    {
     "name": "stdout",
     "output_type": "stream",
     "text": [
      "Default Transaction Types Set\n"
     ]
    }
   ],
   "source": [
    "# Import the default transaction type configuration and load it into a dictionary \n",
    "default_transaction_mapping=open('data/default_transaction_mapping.json').read()\n",
    "default_transaction_mapping = json.loads(default_transaction_mapping)\n",
    "\n",
    "# Initialise your list of configuration requests, one for each transaction type\n",
    "configuration_requests = []\n",
    "\n",
    "# Iterate over your configurations in the default mapping\n",
    "for configuration in default_transaction_mapping['transactionConfigRequests']:\n",
    "    \n",
    "    # Initialise your list of aliases for this configuration\n",
    "    aliases = []\n",
    "    \n",
    "    # Iterate over the aliases in the imported config \n",
    "    for alias in configuration['aliases']:\n",
    "        # Append the alias to your list\n",
    "        aliases.append(\n",
    "            models.TransactionConfigurationTypeAlias(\n",
    "                type=alias['type'],\n",
    "                description=alias['description'],\n",
    "                transaction_class=alias['transactionClass'],\n",
    "                transaction_group=alias['transactionGroup'],\n",
    "                transaction_roles=alias['transactionRoles']))\n",
    "        \n",
    "        \n",
    "    # Initialise your list of movements for this configuration\n",
    "    movements = []\n",
    "    \n",
    "    # Iterate over the movements in the impoted config\n",
    "    for movement in configuration['movements']:\n",
    "        \n",
    "        # Add properties if they exist in the config\n",
    "        if len (movement['properties']) > 0:\n",
    "            key = movement['properties'][0]['key']\n",
    "            value = models.PropertyValue(label_value=movement['properties'][0]['value'])\n",
    "            properties={key: models.PerpetualProperty(\n",
    "                key=key,\n",
    "                value=value)}                                    \n",
    "        else:\n",
    "            properties=None\n",
    "            \n",
    "        # Append the movement to your list\n",
    "        movements.append(\n",
    "            models.TransactionConfigurationMovementDataRequest(\n",
    "                movement_types=movement['movementTypes'],\n",
    "                side=movement['side'],\n",
    "                direction=movement['direction'],\n",
    "                properties=properties,\n",
    "                mappings=None))\n",
    "    \n",
    "    # Build your configuration for this transaction type\n",
    "    configuration_requests.append(\n",
    "        models.TransactionConfigurationDataRequest(\n",
    "        aliases=aliases,\n",
    "        movements=movements,\n",
    "        properties=None))\n",
    "\n",
    "# Call LUSID to set your configuration for our transaction types\n",
    "default_transaction_mapping['transactionConfigRequests'] = configuration_requests\n",
    "response = api_factory.build(lusid.api.SystemConfigurationApi).set_configuration_transaction_types(\n",
    "    types=default_transaction_mapping)\n",
    "\n",
    "print (\"Default Transaction Types Set\")"
   ]
  },
  {
   "cell_type": "markdown",
   "metadata": {},
   "source": [
    "![Default Transaction Mapping](img/fundoperations-transactiontypeconfig.gif)"
   ]
  },
  {
   "cell_type": "markdown",
   "metadata": {},
   "source": [
    "## Add transaction types for Fund Operations"
   ]
  },
  {
   "cell_type": "markdown",
   "metadata": {},
   "source": [
    "By default LUSID likely is not familar with the different types of transactions that you have in operating your fund. \n",
    "\n",
    "Rather than having to map your transaction types into LUSID transaction types. You can create your own transaction types and define their economic meaning.\n",
    "\n",
    "You will do this for each of the transaction types below."
   ]
  },
  {
   "cell_type": "markdown",
   "metadata": {},
   "source": [
    "### Commitment"
   ]
  },
  {
   "cell_type": "markdown",
   "metadata": {},
   "source": [
    "A commitment is when an investor commits cash to one of your funds. You don't require this cash just yet, but you want to note that it has been committed by the investor and is available to you upon the issuance of a Capital Call.\n",
    "\n",
    "You define two transaction types below.\n",
    "\n",
    "- One for the fund which indicates that you have a commitment from the investor associated with the transaction\n",
    "- One for the investor which indicates that this investor has a commitment to the fund associated with the transaction\n",
    "\n",
    "When you have a commitment transaction both of these transaction types will be used.\n",
    "\n",
    "*Run the cell below to create your two transaction types*"
   ]
  },
  {
   "cell_type": "code",
   "execution_count": 7,
   "metadata": {},
   "outputs": [
    {
     "name": "stdout",
     "output_type": "stream",
     "text": [
      "\u001b[1m\u001b[4mTransaction Configuration #20\u001b[0m\n",
      "\n",
      "\u001b[1m\u001b[91mTransaction Type Aliases\u001b[0m\n",
      "\u001b[1mTransaction Type: \u001b[0m\u001b[91mCommitment\u001b[0m\n",
      "\u001b[1mAlias Description: \u001b[0mThe commitment of funds by an investor\n",
      "\u001b[1mTransaction Class: \u001b[0mFundOperations\n",
      "\u001b[1mTransaction Group: \u001b[0mFundOperations-Investor\n",
      "\u001b[1mTransaction Roles: \u001b[0mLonger\n",
      "\n",
      "\n",
      "\u001b[1m\u001b[91mTransaction Movements\u001b[0m\n",
      "\u001b[1mMovement Types: \u001b[0mCashCommitment\n",
      "\u001b[1mSide: \u001b[0mSide2\n",
      "\u001b[1mDirection: \u001b[0m1\n",
      "\n",
      "\n",
      "\n",
      "\u001b[1m\u001b[4mTransaction Configuration #21\u001b[0m\n",
      "\n",
      "\u001b[1m\u001b[91mTransaction Type Aliases\u001b[0m\n",
      "\u001b[1mTransaction Type: \u001b[0m\u001b[91mCommitment\u001b[0m\n",
      "\u001b[1mAlias Description: \u001b[0mThe commitment of funds by an investor\n",
      "\u001b[1mTransaction Class: \u001b[0mFundOperations\n",
      "\u001b[1mTransaction Group: \u001b[0mFundOperations-Fund\n",
      "\u001b[1mTransaction Roles: \u001b[0mLonger\n",
      "\n",
      "\n",
      "\u001b[1m\u001b[91mTransaction Movements\u001b[0m\n",
      "\u001b[1mMovement Types: \u001b[0mCashCommitment\n",
      "\u001b[1mSide: \u001b[0mSide2\n",
      "\u001b[1mDirection: \u001b[0m-1\n",
      "\u001b[1mMovement Types: \u001b[0mCashCommitment\n",
      "\u001b[1mSide: \u001b[0mSide2\n",
      "\u001b[1mDirection: \u001b[0m1\n",
      "\n",
      "\n",
      "\n"
     ]
    }
   ],
   "source": [
    "# Call LUSID to create your transaction type\n",
    "response = api_factory.build(lusid.api.SystemConfigurationApi).create_configuration_transaction_type(\n",
    "    type = models.TransactionConfigurationDataRequest(\n",
    "        aliases=[\n",
    "            models.TransactionConfigurationTypeAlias(\n",
    "                type='Commitment',\n",
    "                description='The commitment of funds by an investor',\n",
    "                transaction_class='FundOperations',\n",
    "                transaction_group='FundOperations-Investor',\n",
    "                transaction_roles='Longer')\n",
    "        ],\n",
    "        movements=[\n",
    "            models.TransactionConfigurationMovementDataRequest(\n",
    "                movement_types='CashCommitment',\n",
    "                side='Side2',\n",
    "                direction=1,\n",
    "                properties=None,\n",
    "                mappings=[\n",
    "                    models.TransactionPropertyMappingRequest(\n",
    "                        property_key=property_keys[\"SubscriptionType\"],\n",
    "                        set_to=\"Committed\")\n",
    "                ]\n",
    "            )\n",
    "        ],\n",
    "        properties=None))\n",
    "\n",
    "# Call LUSID to create your transaction type\n",
    "response = api_factory.build(lusid.api.SystemConfigurationApi).create_configuration_transaction_type(\n",
    "    type = models.TransactionConfigurationDataRequest(\n",
    "        aliases=[\n",
    "            models.TransactionConfigurationTypeAlias(\n",
    "                type='Commitment',\n",
    "                description='The commitment of funds by an investor',\n",
    "                transaction_class='FundOperations',\n",
    "                transaction_group='FundOperations-Fund',\n",
    "                transaction_roles='Longer')\n",
    "        ],\n",
    "        movements=[\n",
    "            models.TransactionConfigurationMovementDataRequest(\n",
    "                movement_types='CashCommitment',\n",
    "                side='Side2',\n",
    "                direction=-1,\n",
    "                properties=None,\n",
    "                mappings=[\n",
    "                    models.TransactionPropertyMappingRequest(\n",
    "                        property_key=property_keys[\"SubscriptionType\"],\n",
    "                        set_to=\"Committed\")\n",
    "                ]),\n",
    "            models.TransactionConfigurationMovementDataRequest(\n",
    "                movement_types='CashCommitment',\n",
    "                side='Side2',\n",
    "                direction=1,\n",
    "                properties=None,\n",
    "                mappings=[\n",
    "                    models.TransactionPropertyMappingRequest(\n",
    "                        property_key=property_keys[\"SubscriptionType\"],\n",
    "                        set_to=\"Committed\"),\n",
    "                    models.TransactionPropertyMappingRequest(\n",
    "                        property_key=property_keys[\"InvestorId\"],\n",
    "                        set_to=\"\")\n",
    "                ]\n",
    "            )\n",
    "        ],\n",
    "        properties=None))\n",
    "\n",
    "prettyprint.transaction_type_response(response, filters=['Commitment'])"
   ]
  },
  {
   "cell_type": "markdown",
   "metadata": {},
   "source": [
    "![Add Transaction Mapping](img/fundoperations-addtype.gif)"
   ]
  },
  {
   "cell_type": "markdown",
   "metadata": {},
   "source": [
    "### Capital call"
   ]
  },
  {
   "cell_type": "markdown",
   "metadata": {},
   "source": [
    "A capital call is when you ask your investors to provide the capital that they have previously committed to the fund associated with the capital call.\n",
    "\n",
    "You define two transaction types below.\n",
    "\n",
    "- One for the fund which moves the committed balance for the investor associated with the capital call to a capital balance which can be used for transactions\n",
    "- One for the investor which moves the committed balance for the fund associated with the capital call to a capital balance which has been provided to the fund to use for transactions\n",
    "\n",
    "When you issue a capital call both of these transaction types will be used.\n",
    "\n",
    "*Run the cell below to create your two transaction types*"
   ]
  },
  {
   "cell_type": "code",
   "execution_count": 8,
   "metadata": {},
   "outputs": [
    {
     "name": "stdout",
     "output_type": "stream",
     "text": [
      "\u001b[1m\u001b[4mTransaction Configuration #22\u001b[0m\n",
      "\n",
      "\u001b[1m\u001b[91mTransaction Type Aliases\u001b[0m\n",
      "\u001b[1mTransaction Type: \u001b[0m\u001b[91mCapital call\u001b[0m\n",
      "\u001b[1mAlias Description: \u001b[0mThe provision of funds by an investor in response to a capital call\n",
      "\u001b[1mTransaction Class: \u001b[0mFundOperations\n",
      "\u001b[1mTransaction Group: \u001b[0mFundOperations-Investor\n",
      "\u001b[1mTransaction Roles: \u001b[0mLongShorter\n",
      "\n",
      "\n",
      "\u001b[1m\u001b[91mTransaction Movements\u001b[0m\n",
      "\u001b[1mMovement Types: \u001b[0mCashSettlement\n",
      "\u001b[1mSide: \u001b[0mSide2\n",
      "\u001b[1mDirection: \u001b[0m-1\n",
      "\u001b[1mMovement Types: \u001b[0mCashCommitment\n",
      "\u001b[1mSide: \u001b[0mSide2\n",
      "\u001b[1mDirection: \u001b[0m1\n",
      "\n",
      "\n",
      "\n",
      "\u001b[1m\u001b[4mTransaction Configuration #23\u001b[0m\n",
      "\n",
      "\u001b[1m\u001b[91mTransaction Type Aliases\u001b[0m\n",
      "\u001b[1mTransaction Type: \u001b[0m\u001b[91mCapital call\u001b[0m\n",
      "\u001b[1mAlias Description: \u001b[0mThe provision of funds by an investor in response to a capital call\n",
      "\u001b[1mTransaction Class: \u001b[0mFundOperations\n",
      "\u001b[1mTransaction Group: \u001b[0mFundOperations-Fund\n",
      "\u001b[1mTransaction Roles: \u001b[0mLonger\n",
      "\n",
      "\n",
      "\u001b[1m\u001b[91mTransaction Movements\u001b[0m\n",
      "\u001b[1mMovement Types: \u001b[0mCashSettlement\n",
      "\u001b[1mSide: \u001b[0mSide2\n",
      "\u001b[1mDirection: \u001b[0m1\n",
      "\u001b[1mMovement Types: \u001b[0mCashSettlement\n",
      "\u001b[1mSide: \u001b[0mSide2\n",
      "\u001b[1mDirection: \u001b[0m-1\n",
      "\u001b[1mMovement Types: \u001b[0mCashSettlement\n",
      "\u001b[1mSide: \u001b[0mSide2\n",
      "\u001b[1mDirection: \u001b[0m-1\n",
      "\u001b[1mMovement Types: \u001b[0mCashSettlement\n",
      "\u001b[1mSide: \u001b[0mSide2\n",
      "\u001b[1mDirection: \u001b[0m1\n",
      "\n",
      "\n",
      "\n"
     ]
    }
   ],
   "source": [
    "# Call LUSID to create your transaction type\n",
    "response = api_factory.build(lusid.api.SystemConfigurationApi).create_configuration_transaction_type(\n",
    "    type = models.TransactionConfigurationDataRequest(\n",
    "        aliases=[\n",
    "            models.TransactionConfigurationTypeAlias(\n",
    "                type='Capital call',\n",
    "                description='The provision of funds by an investor in response to a capital call',\n",
    "                transaction_class='FundOperations',\n",
    "                transaction_group='FundOperations-Investor',\n",
    "                transaction_roles='LongShorter')\n",
    "        ],\n",
    "        movements=[\n",
    "            models.TransactionConfigurationMovementDataRequest(\n",
    "                movement_types='CashSettlement',\n",
    "                side='Side2',\n",
    "                direction=-1,\n",
    "                properties=None,\n",
    "                mappings=[\n",
    "                    models.TransactionPropertyMappingRequest(\n",
    "                        property_key=property_keys[\"SubscriptionType\"],\n",
    "                        set_to=\"Committed\")\n",
    "                ]),\n",
    "            models.TransactionConfigurationMovementDataRequest(\n",
    "                movement_types='CashCommitment',\n",
    "                side='Side2',\n",
    "                direction=1,\n",
    "                properties=None,\n",
    "                mappings=[\n",
    "                    models.TransactionPropertyMappingRequest(\n",
    "                        property_key=property_keys[\"SubscriptionType\"],\n",
    "                        set_to=\"Capital\")\n",
    "                ]\n",
    "            )\n",
    "        ],\n",
    "        properties=None))\n",
    "\n",
    "# Call LUSID to create your transaction type\n",
    "response = api_factory.build(lusid.api.SystemConfigurationApi).create_configuration_transaction_type(\n",
    "    type = models.TransactionConfigurationDataRequest(\n",
    "        aliases=[\n",
    "            models.TransactionConfigurationTypeAlias(\n",
    "                type='Capital call',\n",
    "                description='The provision of funds by an investor in response to a capital call',\n",
    "                transaction_class='FundOperations',\n",
    "                transaction_group='FundOperations-Fund',\n",
    "                transaction_roles='Longer')\n",
    "        ],\n",
    "        movements=[\n",
    "            models.TransactionConfigurationMovementDataRequest(\n",
    "                movement_types='CashSettlement',\n",
    "                side='Side2',\n",
    "                direction=1,\n",
    "                properties=None,\n",
    "                mappings=[\n",
    "                    models.TransactionPropertyMappingRequest(\n",
    "                        property_key=property_keys[\"SubscriptionType\"],\n",
    "                        set_to=\"Committed\")\n",
    "                ]),\n",
    "             models.TransactionConfigurationMovementDataRequest(\n",
    "                movement_types='CashSettlement',\n",
    "                side='Side2',\n",
    "                direction=-1,\n",
    "                properties=None,\n",
    "                mappings=[\n",
    "                    models.TransactionPropertyMappingRequest(\n",
    "                        property_key=property_keys[\"SubscriptionType\"],\n",
    "                        set_to=\"Capital\")\n",
    "                ]),\n",
    "            models.TransactionConfigurationMovementDataRequest(\n",
    "                movement_types='CashSettlement',\n",
    "                side='Side2',\n",
    "                direction=-1,\n",
    "                properties=None,\n",
    "                mappings=[\n",
    "                    models.TransactionPropertyMappingRequest(\n",
    "                        property_key=property_keys[\"SubscriptionType\"],\n",
    "                        set_to=\"Committed\"),\n",
    "                    models.TransactionPropertyMappingRequest(\n",
    "                        property_key=property_keys[\"InvestorId\"],\n",
    "                        set_to=\"\")\n",
    "                ]),\n",
    "            models.TransactionConfigurationMovementDataRequest(\n",
    "                movement_types='CashSettlement',\n",
    "                side='Side2',\n",
    "                direction=1,\n",
    "                properties=None,\n",
    "                mappings=[\n",
    "                    models.TransactionPropertyMappingRequest(\n",
    "                        property_key=property_keys[\"SubscriptionType\"],\n",
    "                        set_to=\"Capital\"),\n",
    "                    models.TransactionPropertyMappingRequest(\n",
    "                        property_key=property_keys[\"InvestorId\"],\n",
    "                        set_to=\"\")\n",
    "                ]\n",
    "            )\n",
    "        ],\n",
    "        properties=None))\n",
    "\n",
    "prettyprint.transaction_type_response(response, filters=['Capital call'])"
   ]
  },
  {
   "cell_type": "markdown",
   "metadata": {},
   "source": [
    "### Distribution"
   ]
  },
  {
   "cell_type": "markdown",
   "metadata": {},
   "source": [
    "A distribution is when income is distributed from the fund to investors. \n",
    "\n",
    "You define two transaction types below.\n",
    "\n",
    "- One for the fund which generates a distribution of income against the investor associated with the distribution\n",
    "- One for the investor which receives a distribution of income from to fund associated with the distribution\n",
    "\n",
    "When you have a distribution event both of these transaction types will be used.\n",
    "\n",
    "*Run the cell below to create your two transaction types*"
   ]
  },
  {
   "cell_type": "code",
   "execution_count": 9,
   "metadata": {},
   "outputs": [
    {
     "name": "stdout",
     "output_type": "stream",
     "text": [
      "\u001b[1m\u001b[4mTransaction Configuration #24\u001b[0m\n",
      "\n",
      "\u001b[1m\u001b[91mTransaction Type Aliases\u001b[0m\n",
      "\u001b[1mTransaction Type: \u001b[0m\u001b[91mDistribution\u001b[0m\n",
      "\u001b[1mAlias Description: \u001b[0mIncome distributed from a fund\n",
      "\u001b[1mTransaction Class: \u001b[0mFundOperations\n",
      "\u001b[1mTransaction Group: \u001b[0mFundOperations-Investor\n",
      "\u001b[1mTransaction Roles: \u001b[0mLonger\n",
      "\n",
      "\n",
      "\u001b[1m\u001b[91mTransaction Movements\u001b[0m\n",
      "\u001b[1mMovement Types: \u001b[0mCashCommitment\n",
      "\u001b[1mSide: \u001b[0mSide2\n",
      "\u001b[1mDirection: \u001b[0m1\n",
      "\n",
      "\n",
      "\n",
      "\u001b[1m\u001b[4mTransaction Configuration #25\u001b[0m\n",
      "\n",
      "\u001b[1m\u001b[91mTransaction Type Aliases\u001b[0m\n",
      "\u001b[1mTransaction Type: \u001b[0m\u001b[91mDistribution\u001b[0m\n",
      "\u001b[1mAlias Description: \u001b[0mIncome distributed from a fund\n",
      "\u001b[1mTransaction Class: \u001b[0mFundOperations\n",
      "\u001b[1mTransaction Group: \u001b[0mFundOperations-Fund\n",
      "\u001b[1mTransaction Roles: \u001b[0mShorter\n",
      "\n",
      "\n",
      "\u001b[1m\u001b[91mTransaction Movements\u001b[0m\n",
      "\u001b[1mMovement Types: \u001b[0mCashCommitment\n",
      "\u001b[1mSide: \u001b[0mSide2\n",
      "\u001b[1mDirection: \u001b[0m-1\n",
      "\n",
      "\n",
      "\n"
     ]
    }
   ],
   "source": [
    "# Call LUSID to create your transaction type\n",
    "response = api_factory.build(lusid.api.SystemConfigurationApi).create_configuration_transaction_type(\n",
    "    type = models.TransactionConfigurationDataRequest(\n",
    "        aliases=[\n",
    "            models.TransactionConfigurationTypeAlias(\n",
    "                type='Distribution',\n",
    "                description='Income distributed from a fund',\n",
    "                transaction_class='FundOperations',\n",
    "                transaction_group='FundOperations-Investor',\n",
    "                transaction_roles='Longer')\n",
    "        ],\n",
    "        movements=[\n",
    "            models.TransactionConfigurationMovementDataRequest(\n",
    "                movement_types='CashCommitment',\n",
    "                side='Side2',\n",
    "                direction=1,\n",
    "                properties=None,\n",
    "                mappings=[\n",
    "                    models.TransactionPropertyMappingRequest(\n",
    "                        property_key=property_keys[\"SubscriptionType\"],\n",
    "                        set_to=\"Income\")\n",
    "                ]\n",
    "            )\n",
    "        ],\n",
    "        properties=None))\n",
    "\n",
    "\n",
    "# Call LUSID to create your transaction type\n",
    "response = api_factory.build(lusid.api.SystemConfigurationApi).create_configuration_transaction_type(\n",
    "    type = models.TransactionConfigurationDataRequest(\n",
    "        aliases=[\n",
    "            models.TransactionConfigurationTypeAlias(\n",
    "                type='Distribution',\n",
    "                description='Income distributed from a fund',\n",
    "                transaction_class='FundOperations',\n",
    "                transaction_group='FundOperations-Fund',\n",
    "                transaction_roles='Shorter')\n",
    "        ],\n",
    "        movements=[\n",
    "            models.TransactionConfigurationMovementDataRequest(\n",
    "                movement_types='CashCommitment',\n",
    "                side='Side2',\n",
    "                direction=-1,\n",
    "                properties=None,\n",
    "                mappings=[\n",
    "                    models.TransactionPropertyMappingRequest(\n",
    "                        property_key=property_keys[\"SubscriptionType\"],\n",
    "                        set_to=\"Income\")\n",
    "                ]\n",
    "            )\n",
    "        ],\n",
    "        properties=None))\n",
    "\n",
    "\n",
    "prettyprint.transaction_type_response(response, filters=['Distribution'])"
   ]
  },
  {
   "cell_type": "markdown",
   "metadata": {},
   "source": [
    "## Add transaction types for Asset Transactions"
   ]
  },
  {
   "cell_type": "markdown",
   "metadata": {},
   "source": [
    "### Initial investment"
   ]
  },
  {
   "cell_type": "markdown",
   "metadata": {},
   "source": [
    "An initial investment in an asset.\n",
    "\n",
    "This is only a single transaction type which reduces the amount of capital cash and increases the amount of the asset held in the fund associated with the transaction.\n",
    "\n",
    "*Run the cell below to create your transaction type*"
   ]
  },
  {
   "cell_type": "code",
   "execution_count": 10,
   "metadata": {},
   "outputs": [
    {
     "name": "stdout",
     "output_type": "stream",
     "text": [
      "\u001b[1m\u001b[4mTransaction Configuration #26\u001b[0m\n",
      "\n",
      "\u001b[1m\u001b[91mTransaction Type Aliases\u001b[0m\n",
      "\u001b[1mTransaction Type: \u001b[0m\u001b[91mInitial investment\u001b[0m\n",
      "\u001b[1mAlias Description: \u001b[0mThe purchase of a security\n",
      "\u001b[1mTransaction Class: \u001b[0mAssetTransactions\n",
      "\u001b[1mTransaction Group: \u001b[0mAssetTransactions\n",
      "\u001b[1mTransaction Roles: \u001b[0mLonger\n",
      "\n",
      "\n",
      "\u001b[1m\u001b[91mTransaction Movements\u001b[0m\n",
      "\u001b[1mMovement Types: \u001b[0mStockMovement\n",
      "\u001b[1mSide: \u001b[0mSide1\n",
      "\u001b[1mDirection: \u001b[0m1\n",
      "\u001b[1mMovement Types: \u001b[0mCashCommitment\n",
      "\u001b[1mSide: \u001b[0mSide2\n",
      "\u001b[1mDirection: \u001b[0m-1\n",
      "\n",
      "\n",
      "\n"
     ]
    }
   ],
   "source": [
    "# Call LUSID to create your transaction type\n",
    "response = api_factory.build(lusid.api.SystemConfigurationApi).create_configuration_transaction_type(\n",
    "    type = models.TransactionConfigurationDataRequest(\n",
    "        aliases=[\n",
    "            models.TransactionConfigurationTypeAlias(\n",
    "                type='Initial investment',\n",
    "                description='The purchase of a security',\n",
    "                transaction_class='AssetTransactions',\n",
    "                transaction_group='AssetTransactions',\n",
    "                transaction_roles='Longer')\n",
    "        ],\n",
    "        movements=[\n",
    "            models.TransactionConfigurationMovementDataRequest(\n",
    "                movement_types='StockMovement',\n",
    "                side='Side1',\n",
    "                direction=1,\n",
    "                properties=None,\n",
    "                mappings=[\n",
    "                    models.TransactionPropertyMappingRequest(\n",
    "                        property_key=property_keys[\"InvestorId\"],\n",
    "                        set_to=\"\"),\n",
    "                    models.TransactionPropertyMappingRequest(\n",
    "                        property_key=property_keys[\"SubscriptionType\"],\n",
    "                        set_to=\"Capital\")\n",
    "                ]\n",
    "            ),\n",
    "            models.TransactionConfigurationMovementDataRequest(\n",
    "                movement_types='CashCommitment',\n",
    "                side='Side2',\n",
    "                direction=-1,\n",
    "                properties=None,\n",
    "                mappings=[\n",
    "                    models.TransactionPropertyMappingRequest(\n",
    "                        property_key=property_keys[\"SubscriptionType\"],\n",
    "                        set_to=\"Capital\"),\n",
    "                    models.TransactionPropertyMappingRequest(\n",
    "                        property_key=property_keys[\"InvestorId\"],\n",
    "                        set_to=\"\")\n",
    "                ]\n",
    "            )\n",
    "        ],\n",
    "        properties=None))\n",
    "\n",
    "prettyprint.transaction_type_response(response, filters=['Initial investment'])"
   ]
  },
  {
   "cell_type": "markdown",
   "metadata": {},
   "source": [
    "### Distribution"
   ]
  },
  {
   "cell_type": "markdown",
   "metadata": {},
   "source": [
    "A distribution from an asset.\n",
    "\n",
    "This is only a single transaction type which increases the amount of capital cash held in the fund associated with the transaction.\n",
    "\n",
    "*Run the cell below to create the transaction*"
   ]
  },
  {
   "cell_type": "code",
   "execution_count": 11,
   "metadata": {},
   "outputs": [
    {
     "name": "stdout",
     "output_type": "stream",
     "text": [
      "\u001b[1m\u001b[4mTransaction Configuration #24\u001b[0m\n",
      "\n",
      "\u001b[1m\u001b[91mTransaction Type Aliases\u001b[0m\n",
      "\u001b[1mTransaction Type: \u001b[0m\u001b[91mDistribution\u001b[0m\n",
      "\u001b[1mAlias Description: \u001b[0mIncome distributed from a fund\n",
      "\u001b[1mTransaction Class: \u001b[0mFundOperations\n",
      "\u001b[1mTransaction Group: \u001b[0mFundOperations-Investor\n",
      "\u001b[1mTransaction Roles: \u001b[0mLonger\n",
      "\n",
      "\n",
      "\u001b[1m\u001b[91mTransaction Movements\u001b[0m\n",
      "\u001b[1mMovement Types: \u001b[0mCashCommitment\n",
      "\u001b[1mSide: \u001b[0mSide2\n",
      "\u001b[1mDirection: \u001b[0m1\n",
      "\n",
      "\n",
      "\n",
      "\u001b[1m\u001b[4mTransaction Configuration #25\u001b[0m\n",
      "\n",
      "\u001b[1m\u001b[91mTransaction Type Aliases\u001b[0m\n",
      "\u001b[1mTransaction Type: \u001b[0m\u001b[91mDistribution\u001b[0m\n",
      "\u001b[1mAlias Description: \u001b[0mIncome distributed from a fund\n",
      "\u001b[1mTransaction Class: \u001b[0mFundOperations\n",
      "\u001b[1mTransaction Group: \u001b[0mFundOperations-Fund\n",
      "\u001b[1mTransaction Roles: \u001b[0mShorter\n",
      "\n",
      "\n",
      "\u001b[1m\u001b[91mTransaction Movements\u001b[0m\n",
      "\u001b[1mMovement Types: \u001b[0mCashCommitment\n",
      "\u001b[1mSide: \u001b[0mSide2\n",
      "\u001b[1mDirection: \u001b[0m-1\n",
      "\n",
      "\n",
      "\n",
      "\u001b[1m\u001b[4mTransaction Configuration #27\u001b[0m\n",
      "\n",
      "\u001b[1m\u001b[91mTransaction Type Aliases\u001b[0m\n",
      "\u001b[1mTransaction Type: \u001b[0m\u001b[91mDistribution\u001b[0m\n",
      "\u001b[1mAlias Description: \u001b[0mIncome distributed from an infrastructure or real asset\n",
      "\u001b[1mTransaction Class: \u001b[0mAssetTransactions\n",
      "\u001b[1mTransaction Group: \u001b[0mAssetTransactions\n",
      "\u001b[1mTransaction Roles: \u001b[0mLonger\n",
      "\n",
      "\n",
      "\u001b[1m\u001b[91mTransaction Movements\u001b[0m\n",
      "\u001b[1mMovement Types: \u001b[0mCashCommitment\n",
      "\u001b[1mSide: \u001b[0mSide2\n",
      "\u001b[1mDirection: \u001b[0m1\n",
      "\n",
      "\n",
      "\n"
     ]
    }
   ],
   "source": [
    "# Call LUSID to create your transaction type\n",
    "response = api_factory.build(lusid.api.SystemConfigurationApi).create_configuration_transaction_type(\n",
    "    type = models.TransactionConfigurationDataRequest(\n",
    "        aliases=[\n",
    "            models.TransactionConfigurationTypeAlias(\n",
    "                type='Distribution',\n",
    "                description='Income distributed from an infrastructure or real asset',\n",
    "                transaction_class='AssetTransactions',\n",
    "                transaction_group='AssetTransactions',\n",
    "                transaction_roles='Longer')\n",
    "        ],\n",
    "        movements=[\n",
    "            models.TransactionConfigurationMovementDataRequest(\n",
    "                movement_types='CashCommitment',\n",
    "                side='Side2',\n",
    "                direction=1,\n",
    "                properties=None,\n",
    "                mappings=[\n",
    "                    models.TransactionPropertyMappingRequest(\n",
    "                        property_key=property_keys[\"SubscriptionType\"],\n",
    "                        set_to=\"Income\"),\n",
    "                    models.TransactionPropertyMappingRequest(\n",
    "                        property_key=property_keys[\"InvestorId\"],\n",
    "                        set_to=\"\")\n",
    "                ]\n",
    "            )\n",
    "        ],\n",
    "        properties=None))\n",
    "\n",
    "prettyprint.transaction_type_response(response, filters=['Distribution'])"
   ]
  },
  {
   "cell_type": "markdown",
   "metadata": {},
   "source": [
    "![Final Transaction Mapping](img/fundoperations-finaltypes.gif)"
   ]
  },
  {
   "cell_type": "markdown",
   "metadata": {},
   "source": [
    "### Set up dates to work with"
   ]
  },
  {
   "cell_type": "code",
   "execution_count": 12,
   "metadata": {},
   "outputs": [],
   "source": [
    "current_time = datetime.now(pytz.UTC)\n",
    "day_1 = current_time - timedelta(days=6)\n",
    "day_2 = current_time - timedelta(days=5)\n",
    "day_3 = current_time - timedelta(days=4)\n",
    "day_4 = current_time - timedelta(days=3)\n",
    "day_5 = current_time - timedelta(days=2)\n",
    "day_6 = current_time - timedelta(days=1)"
   ]
  },
  {
   "cell_type": "markdown",
   "metadata": {},
   "source": [
    "### Create a function to make fund operation transactions"
   ]
  },
  {
   "cell_type": "code",
   "execution_count": 13,
   "metadata": {},
   "outputs": [],
   "source": [
    "def subscription_transaction(date, units, transaction_type, investor_portfolio_code, fund_portfolio_code, status=None):\n",
    "    \"\"\"\n",
    "    This function creates subscription transactions for committing to a fund as well as provisioning capital via\n",
    "    a capital call. \n",
    "    \n",
    "    param date (datetime): The datetime to upsert the transactions at\n",
    "    param units (float): The number of units in the transaction\n",
    "    param transaction_type (str): The code for the transaction type for this subscription transaction\n",
    "    param investor_portfolio_code (str): The code for the investor's portfolio\n",
    "    param fund_portfolio_code (str): The code for the fund portfolio\n",
    "    \n",
    "    return unique_transaction_id (str): The unique id for the transactions\n",
    "    \"\"\"\n",
    "    \n",
    "    transactions = {}\n",
    "    \n",
    "    unique_transaction_id = str(uuid.uuid4())\n",
    "    \n",
    "    investor_properties = {\n",
    "        property_keys['FundCode']: models.ModelProperty(\n",
    "            key=property_keys['FundCode'],\n",
    "            value=models.PropertyValue(\n",
    "                label_value=fund_portfolio_code)\n",
    "        )\n",
    "    }\n",
    "    \n",
    "    if type(status) is not type(None):\n",
    "        investor_properties[property_keys['OperationStage']] = models.ModelProperty(\n",
    "            key=property_keys['OperationStage'],\n",
    "            value=models.PropertyValue(\n",
    "                label_value=status)\n",
    "        )\n",
    "            \n",
    "            \n",
    "    # Construct the transaction for the investor's portfolio\n",
    "    transactions[investor_portfolio_code] = models.TransactionRequest(\n",
    "        transaction_id=unique_transaction_id,\n",
    "        type=transaction_type,\n",
    "        instrument_identifiers={\n",
    "            'Instrument/default/Currency': 'AUD'\n",
    "        },\n",
    "        transaction_date=date,\n",
    "        settlement_date=date,\n",
    "        units=units,\n",
    "        transaction_price=models.TransactionPrice(\n",
    "            price=1,\n",
    "            type='Price'),\n",
    "        total_consideration=models.CurrencyAndAmount(\n",
    "            amount=units,\n",
    "            currency='AUD'),\n",
    "        source='FundOperations-Investor',\n",
    "        transaction_currency='AUD',\n",
    "        properties=investor_properties)\n",
    "    \n",
    "    # Construct the transaction for the fund's portfolio\n",
    "    transactions[fund_portfolio_code] = models.TransactionRequest(\n",
    "        transaction_id=unique_transaction_id,\n",
    "        type=transaction_type,\n",
    "        instrument_identifiers={\n",
    "            'Instrument/default/Currency': 'AUD'\n",
    "        },\n",
    "        transaction_date=date,\n",
    "        settlement_date=date,\n",
    "        units=units,\n",
    "        transaction_price=models.TransactionPrice(\n",
    "            price=1,\n",
    "            type='Price'),\n",
    "        total_consideration=models.CurrencyAndAmount(\n",
    "            amount=units,\n",
    "            currency='AUD'),\n",
    "        source='FundOperations-Fund',\n",
    "        transaction_currency='AUD',\n",
    "        properties={\n",
    "            property_keys['InvestorId'] : models.ModelProperty(\n",
    "                key=property_keys['InvestorId'],\n",
    "                value=models.PropertyValue(\n",
    "                    label_value=investor_portfolio_code)\n",
    "            )\n",
    "        })\n",
    "\n",
    "    # Loop over the portfolios\n",
    "    for portfolio_code, transaction in transactions.items():\n",
    "        \n",
    "        # Call LUSID to upsert the transactions\n",
    "        response = api_factory.build(lusid.api.TransactionPortfoliosApi).upsert_transactions(\n",
    "            scope=scope,\n",
    "            code=portfolio_code,\n",
    "            transactions=[transaction])\n",
    "\n",
    "        # Print the response from LUSID using pretty formatting \n",
    "        prettyprint.transactions_response(\n",
    "            response,\n",
    "            scope,\n",
    "            portfolio_code)\n",
    "    \n",
    "    return unique_transaction_id"
   ]
  },
  {
   "cell_type": "markdown",
   "metadata": {},
   "source": [
    "# Day 1 - Investor commits AUD10,000,000 to the fund"
   ]
  },
  {
   "cell_type": "markdown",
   "metadata": {},
   "source": [
    "### Make the commitment transaction"
   ]
  },
  {
   "cell_type": "markdown",
   "metadata": {},
   "source": [
    "\"Investor1\" commits AUD$10,000,000 to the \"Pacfic-Infrastructure-Fund\" fund.\n",
    "\n",
    "Because of the transaction types you configured earlier this is logged as a commitment to the \"Pacfic-Infrastructure-Fund\" in Investor1's portfolio and a commitment from \"Investor1\" in the Pacific-Infrastructure-Fund portfolio.\n",
    "\n",
    "*Run the cell below to make the commitment transaction from Investor1 for the Pacific-Infrastructure-Fund*"
   ]
  },
  {
   "cell_type": "code",
   "execution_count": 14,
   "metadata": {},
   "outputs": [
    {
     "name": "stdout",
     "output_type": "stream",
     "text": [
      "\u001b[1mTransactions Successfully Upserted into Portfolio\u001b[0m\n",
      "\u001b[1mScope: \u001b[0mfund-operations-37fa-64ce-76e2-fe\n",
      "\u001b[1mCode: \u001b[0mInvestor1\n",
      "\u001b[1mTransactions Effective From: \u001b[0m2019-11-30 14:44:21.119050+00:00\n",
      "\u001b[1mTransactions Created On: \u001b[0m2019-12-06 14:44:21.405623+00:00\n",
      "\n",
      "\u001b[1mTransactions Successfully Upserted into Portfolio\u001b[0m\n",
      "\u001b[1mScope: \u001b[0mfund-operations-37fa-64ce-76e2-fe\n",
      "\u001b[1mCode: \u001b[0mPacfic-Infrastructure-Fund\n",
      "\u001b[1mTransactions Effective From: \u001b[0m2019-11-30 14:44:21.119050+00:00\n",
      "\u001b[1mTransactions Created On: \u001b[0m2019-12-06 14:44:21.703401+00:00\n",
      "\n"
     ]
    },
    {
     "data": {
      "text/plain": [
       "'47b37e6c-0c08-48fd-9fef-d9edcdfaa6db'"
      ]
     },
     "execution_count": 14,
     "metadata": {},
     "output_type": "execute_result"
    }
   ],
   "source": [
    "subscription_transaction(\n",
    "    date=day_1, \n",
    "    units=10000000, \n",
    "    transaction_type='Commitment',\n",
    "    investor_portfolio_code=investor_portfolio_code,\n",
    "    fund_portfolio_code=fund_portfolio_code)"
   ]
  },
  {
   "cell_type": "markdown",
   "metadata": {},
   "source": [
    "![Comittment Transaction](img/fundoperations-day1commitment.gif)"
   ]
  },
  {
   "cell_type": "markdown",
   "metadata": {},
   "source": [
    "### Get the holdings of the investor's portfolio"
   ]
  },
  {
   "cell_type": "markdown",
   "metadata": {},
   "source": [
    "Here you can see that Investor1 has a commitment logged against the Pacific-Infrastructure-Fund in their account.\n",
    "\n",
    "*Run the cell below to generate the holdings for Investor1*"
   ]
  },
  {
   "cell_type": "code",
   "execution_count": 15,
   "metadata": {},
   "outputs": [
    {
     "data": {
      "text/html": [
       "<div>\n",
       "<style scoped>\n",
       "    .dataframe tbody tr th:only-of-type {\n",
       "        vertical-align: middle;\n",
       "    }\n",
       "\n",
       "    .dataframe tbody tr th {\n",
       "        vertical-align: top;\n",
       "    }\n",
       "\n",
       "    .dataframe thead th {\n",
       "        text-align: right;\n",
       "    }\n",
       "</style>\n",
       "<table border=\"1\" class=\"dataframe\">\n",
       "  <thead>\n",
       "    <tr style=\"text-align: right;\">\n",
       "      <th></th>\n",
       "      <th>Lusid Unique Instrument Id</th>\n",
       "      <th>Units</th>\n",
       "      <th>Transaction/FundCode</th>\n",
       "      <th>Transaction/SubscriptionType</th>\n",
       "      <th>Instrument_Name</th>\n",
       "      <th>Total Cost</th>\n",
       "      <th>Currency</th>\n",
       "    </tr>\n",
       "  </thead>\n",
       "  <tbody>\n",
       "    <tr>\n",
       "      <th>0</th>\n",
       "      <td>CCY_AUD</td>\n",
       "      <td>10000000.00</td>\n",
       "      <td>Pacfic-Infrastructure-Fund</td>\n",
       "      <td>Committed</td>\n",
       "      <td>CCY_AUD</td>\n",
       "      <td>10000000.00</td>\n",
       "      <td>AUD</td>\n",
       "    </tr>\n",
       "  </tbody>\n",
       "</table>\n",
       "</div>"
      ],
      "text/plain": [
       "  Lusid Unique Instrument Id       Units        Transaction/FundCode  \\\n",
       "0                    CCY_AUD 10000000.00  Pacfic-Infrastructure-Fund   \n",
       "\n",
       "  Transaction/SubscriptionType Instrument_Name  Total Cost Currency  \n",
       "0                    Committed         CCY_AUD 10000000.00      AUD  "
      ]
     },
     "execution_count": 15,
     "metadata": {},
     "output_type": "execute_result"
    }
   ],
   "source": [
    "holdings = api_factory.build(lusid.api.TransactionPortfoliosApi).get_holdings(\n",
    "    scope=scope,\n",
    "    code=investor_portfolio_code,\n",
    "    property_keys=['Instrument/default/Name'])\n",
    "\n",
    "prettyprint.sub_holdings(holdings)"
   ]
  },
  {
   "cell_type": "markdown",
   "metadata": {},
   "source": [
    "![Comittment Holdings](img/fundoperations-day1holding.gif)"
   ]
  },
  {
   "cell_type": "markdown",
   "metadata": {},
   "source": [
    "### Get the holdings of the fund portfolio"
   ]
  },
  {
   "cell_type": "markdown",
   "metadata": {},
   "source": [
    "Here you can see that the Pacific-Infrastructure-Fund has a commitment asset and a commitment liability logged against Investor1.\n",
    "\n",
    "*Run the cell below to generate the holdings for the Pacific-Infrastructure-Fund*"
   ]
  },
  {
   "cell_type": "code",
   "execution_count": 16,
   "metadata": {},
   "outputs": [
    {
     "data": {
      "text/html": [
       "<div>\n",
       "<style scoped>\n",
       "    .dataframe tbody tr th:only-of-type {\n",
       "        vertical-align: middle;\n",
       "    }\n",
       "\n",
       "    .dataframe tbody tr th {\n",
       "        vertical-align: top;\n",
       "    }\n",
       "\n",
       "    .dataframe thead th {\n",
       "        text-align: right;\n",
       "    }\n",
       "</style>\n",
       "<table border=\"1\" class=\"dataframe\">\n",
       "  <thead>\n",
       "    <tr style=\"text-align: right;\">\n",
       "      <th></th>\n",
       "      <th>Lusid Unique Instrument Id</th>\n",
       "      <th>Units</th>\n",
       "      <th>Transaction/SubscriptionType</th>\n",
       "      <th>Transaction/InvestorId</th>\n",
       "      <th>Instrument_Name</th>\n",
       "      <th>Total Cost</th>\n",
       "      <th>Currency</th>\n",
       "    </tr>\n",
       "  </thead>\n",
       "  <tbody>\n",
       "    <tr>\n",
       "      <th>0</th>\n",
       "      <td>CCY_AUD</td>\n",
       "      <td>-10000000.00</td>\n",
       "      <td>Committed</td>\n",
       "      <td>Investor1</td>\n",
       "      <td>CCY_AUD</td>\n",
       "      <td>-10000000.00</td>\n",
       "      <td>AUD</td>\n",
       "    </tr>\n",
       "    <tr>\n",
       "      <th>1</th>\n",
       "      <td>CCY_AUD</td>\n",
       "      <td>10000000.00</td>\n",
       "      <td>Committed</td>\n",
       "      <td></td>\n",
       "      <td>CCY_AUD</td>\n",
       "      <td>10000000.00</td>\n",
       "      <td>AUD</td>\n",
       "    </tr>\n",
       "  </tbody>\n",
       "</table>\n",
       "</div>"
      ],
      "text/plain": [
       "  Lusid Unique Instrument Id        Units Transaction/SubscriptionType  \\\n",
       "0                    CCY_AUD -10000000.00                    Committed   \n",
       "1                    CCY_AUD  10000000.00                    Committed   \n",
       "\n",
       "  Transaction/InvestorId Instrument_Name   Total Cost Currency  \n",
       "0              Investor1         CCY_AUD -10000000.00      AUD  \n",
       "1                                CCY_AUD  10000000.00      AUD  "
      ]
     },
     "execution_count": 16,
     "metadata": {},
     "output_type": "execute_result"
    }
   ],
   "source": [
    "holdings = api_factory.build(lusid.api.TransactionPortfoliosApi).get_holdings(\n",
    "    scope=scope,\n",
    "    code=fund_portfolio_code,\n",
    "    property_keys=['Instrument/default/Name'])\n",
    "\n",
    "prettyprint.sub_holdings(holdings)"
   ]
  },
  {
   "cell_type": "markdown",
   "metadata": {},
   "source": [
    "# Day 2 - The fund makes a capital call of AUD5,000,000 to the investor"
   ]
  },
  {
   "cell_type": "markdown",
   "metadata": {},
   "source": [
    "### The investor responds to the capital call and provides the funds"
   ]
  },
  {
   "cell_type": "markdown",
   "metadata": {},
   "source": [
    "Here the Pacific-Infrastructure-Fund issue a capital call which Investor1 responds to. \n",
    "\n",
    "This has the effect of moving the commitment balance to being a capital balance across both Investor1's account and the fund's account.\n",
    "\n",
    "*Run the cell below to issue the capital call*"
   ]
  },
  {
   "cell_type": "code",
   "execution_count": 17,
   "metadata": {},
   "outputs": [
    {
     "name": "stdout",
     "output_type": "stream",
     "text": [
      "\u001b[1mTransactions Successfully Upserted into Portfolio\u001b[0m\n",
      "\u001b[1mScope: \u001b[0mfund-operations-37fa-64ce-76e2-fe\n",
      "\u001b[1mCode: \u001b[0mInvestor1\n",
      "\u001b[1mTransactions Effective From: \u001b[0m2019-12-01 14:44:21.119050+00:00\n",
      "\u001b[1mTransactions Created On: \u001b[0m2019-12-06 14:44:22.308488+00:00\n",
      "\n",
      "\u001b[1mTransactions Successfully Upserted into Portfolio\u001b[0m\n",
      "\u001b[1mScope: \u001b[0mfund-operations-37fa-64ce-76e2-fe\n",
      "\u001b[1mCode: \u001b[0mPacfic-Infrastructure-Fund\n",
      "\u001b[1mTransactions Effective From: \u001b[0m2019-12-01 14:44:21.119050+00:00\n",
      "\u001b[1mTransactions Created On: \u001b[0m2019-12-06 14:44:22.535234+00:00\n",
      "\n"
     ]
    },
    {
     "data": {
      "text/plain": [
       "'8744596d-bf90-42ee-b8be-067411ff1b13'"
      ]
     },
     "execution_count": 17,
     "metadata": {},
     "output_type": "execute_result"
    }
   ],
   "source": [
    "subscription_transaction(\n",
    "    date=day_2, \n",
    "    units=5000000, \n",
    "    transaction_type='Capital call',\n",
    "    investor_portfolio_code=investor_portfolio_code,\n",
    "    fund_portfolio_code=fund_portfolio_code)"
   ]
  },
  {
   "cell_type": "markdown",
   "metadata": {},
   "source": [
    "### See the updated investor's holdings"
   ]
  },
  {
   "cell_type": "markdown",
   "metadata": {},
   "source": [
    "Here you can see the updated holdings of the investor in which AUD$5,000,000 has moved from being committed to being capital.\n",
    "\n",
    "*Run the cell below to generate Investor1's updated holdings after the capital call*"
   ]
  },
  {
   "cell_type": "code",
   "execution_count": 18,
   "metadata": {},
   "outputs": [
    {
     "data": {
      "text/html": [
       "<div>\n",
       "<style scoped>\n",
       "    .dataframe tbody tr th:only-of-type {\n",
       "        vertical-align: middle;\n",
       "    }\n",
       "\n",
       "    .dataframe tbody tr th {\n",
       "        vertical-align: top;\n",
       "    }\n",
       "\n",
       "    .dataframe thead th {\n",
       "        text-align: right;\n",
       "    }\n",
       "</style>\n",
       "<table border=\"1\" class=\"dataframe\">\n",
       "  <thead>\n",
       "    <tr style=\"text-align: right;\">\n",
       "      <th></th>\n",
       "      <th>Lusid Unique Instrument Id</th>\n",
       "      <th>Units</th>\n",
       "      <th>Transaction/SubscriptionType</th>\n",
       "      <th>Transaction/FundCode</th>\n",
       "      <th>Instrument_Name</th>\n",
       "      <th>Total Cost</th>\n",
       "      <th>Currency</th>\n",
       "    </tr>\n",
       "  </thead>\n",
       "  <tbody>\n",
       "    <tr>\n",
       "      <th>0</th>\n",
       "      <td>CCY_AUD</td>\n",
       "      <td>5000000.00</td>\n",
       "      <td>Committed</td>\n",
       "      <td>Pacfic-Infrastructure-Fund</td>\n",
       "      <td>CCY_AUD</td>\n",
       "      <td>5000000.00</td>\n",
       "      <td>AUD</td>\n",
       "    </tr>\n",
       "    <tr>\n",
       "      <th>1</th>\n",
       "      <td>CCY_AUD</td>\n",
       "      <td>5000000.00</td>\n",
       "      <td>Capital</td>\n",
       "      <td>Pacfic-Infrastructure-Fund</td>\n",
       "      <td>CCY_AUD</td>\n",
       "      <td>5000000.00</td>\n",
       "      <td>AUD</td>\n",
       "    </tr>\n",
       "  </tbody>\n",
       "</table>\n",
       "</div>"
      ],
      "text/plain": [
       "  Lusid Unique Instrument Id      Units Transaction/SubscriptionType  \\\n",
       "0                    CCY_AUD 5000000.00                    Committed   \n",
       "1                    CCY_AUD 5000000.00                      Capital   \n",
       "\n",
       "         Transaction/FundCode Instrument_Name  Total Cost Currency  \n",
       "0  Pacfic-Infrastructure-Fund         CCY_AUD  5000000.00      AUD  \n",
       "1  Pacfic-Infrastructure-Fund         CCY_AUD  5000000.00      AUD  "
      ]
     },
     "execution_count": 18,
     "metadata": {},
     "output_type": "execute_result"
    }
   ],
   "source": [
    "holdings = api_factory.build(lusid.api.TransactionPortfoliosApi).get_holdings(\n",
    "    scope=scope,\n",
    "    code=investor_portfolio_code,\n",
    "    property_keys=['Instrument/default/Name'])\n",
    "\n",
    "prettyprint.sub_holdings(holdings)"
   ]
  },
  {
   "cell_type": "markdown",
   "metadata": {},
   "source": [
    "![Capital Call Holdings](img/fundoperations-day2holding.gif)"
   ]
  },
  {
   "cell_type": "markdown",
   "metadata": {},
   "source": [
    "### The fund tracks this response"
   ]
  },
  {
   "cell_type": "markdown",
   "metadata": {},
   "source": [
    "Here you can see the updated holdings of the Pacific-Infrastructure-Fund in which AUD$5,000,000 has moved from being committed to being capital.\n",
    "\n",
    "*Run the cell below to generate the funds's updated holdings after the capital call*"
   ]
  },
  {
   "cell_type": "code",
   "execution_count": 19,
   "metadata": {},
   "outputs": [
    {
     "data": {
      "text/html": [
       "<div>\n",
       "<style scoped>\n",
       "    .dataframe tbody tr th:only-of-type {\n",
       "        vertical-align: middle;\n",
       "    }\n",
       "\n",
       "    .dataframe tbody tr th {\n",
       "        vertical-align: top;\n",
       "    }\n",
       "\n",
       "    .dataframe thead th {\n",
       "        text-align: right;\n",
       "    }\n",
       "</style>\n",
       "<table border=\"1\" class=\"dataframe\">\n",
       "  <thead>\n",
       "    <tr style=\"text-align: right;\">\n",
       "      <th></th>\n",
       "      <th>Lusid Unique Instrument Id</th>\n",
       "      <th>Units</th>\n",
       "      <th>Transaction/SubscriptionType</th>\n",
       "      <th>Transaction/InvestorId</th>\n",
       "      <th>Instrument_Name</th>\n",
       "      <th>Total Cost</th>\n",
       "      <th>Currency</th>\n",
       "    </tr>\n",
       "  </thead>\n",
       "  <tbody>\n",
       "    <tr>\n",
       "      <th>0</th>\n",
       "      <td>CCY_AUD</td>\n",
       "      <td>-5000000.00</td>\n",
       "      <td>Committed</td>\n",
       "      <td>Investor1</td>\n",
       "      <td>CCY_AUD</td>\n",
       "      <td>-5000000.00</td>\n",
       "      <td>AUD</td>\n",
       "    </tr>\n",
       "    <tr>\n",
       "      <th>1</th>\n",
       "      <td>CCY_AUD</td>\n",
       "      <td>5000000.00</td>\n",
       "      <td>Committed</td>\n",
       "      <td></td>\n",
       "      <td>CCY_AUD</td>\n",
       "      <td>5000000.00</td>\n",
       "      <td>AUD</td>\n",
       "    </tr>\n",
       "    <tr>\n",
       "      <th>2</th>\n",
       "      <td>CCY_AUD</td>\n",
       "      <td>-5000000.00</td>\n",
       "      <td>Capital</td>\n",
       "      <td>Investor1</td>\n",
       "      <td>CCY_AUD</td>\n",
       "      <td>-5000000.00</td>\n",
       "      <td>AUD</td>\n",
       "    </tr>\n",
       "    <tr>\n",
       "      <th>3</th>\n",
       "      <td>CCY_AUD</td>\n",
       "      <td>5000000.00</td>\n",
       "      <td>Capital</td>\n",
       "      <td></td>\n",
       "      <td>CCY_AUD</td>\n",
       "      <td>5000000.00</td>\n",
       "      <td>AUD</td>\n",
       "    </tr>\n",
       "  </tbody>\n",
       "</table>\n",
       "</div>"
      ],
      "text/plain": [
       "  Lusid Unique Instrument Id       Units Transaction/SubscriptionType  \\\n",
       "0                    CCY_AUD -5000000.00                    Committed   \n",
       "1                    CCY_AUD  5000000.00                    Committed   \n",
       "2                    CCY_AUD -5000000.00                      Capital   \n",
       "3                    CCY_AUD  5000000.00                      Capital   \n",
       "\n",
       "  Transaction/InvestorId Instrument_Name  Total Cost Currency  \n",
       "0              Investor1         CCY_AUD -5000000.00      AUD  \n",
       "1                                CCY_AUD  5000000.00      AUD  \n",
       "2              Investor1         CCY_AUD -5000000.00      AUD  \n",
       "3                                CCY_AUD  5000000.00      AUD  "
      ]
     },
     "execution_count": 19,
     "metadata": {},
     "output_type": "execute_result"
    }
   ],
   "source": [
    "holdings = api_factory.build(lusid.api.TransactionPortfoliosApi).get_holdings(\n",
    "    scope=scope,\n",
    "    code=fund_portfolio_code,\n",
    "    property_keys=['Instrument/default/Name'])\n",
    "\n",
    "prettyprint.sub_holdings(holdings)"
   ]
  },
  {
   "cell_type": "markdown",
   "metadata": {},
   "source": [
    "# Day 3 - The fund purchases an alternative physical asset"
   ]
  },
  {
   "cell_type": "markdown",
   "metadata": {},
   "source": [
    "### Add the alternative asset to the LUSID instrument master"
   ]
  },
  {
   "cell_type": "markdown",
   "metadata": {},
   "source": [
    "You want to purchase a shopping centre for the Pacific Infrastructure Fund. Although you usually invest in ports and power stations, this investment was just too good for you to pass up.\n",
    "\n",
    "Before you can log a transaction against this asset you need to add it to your security master.\n",
    "\n",
    "*Run the cell below to add the shopping centre to your security master*"
   ]
  },
  {
   "cell_type": "code",
   "execution_count": 20,
   "metadata": {},
   "outputs": [
    {
     "name": "stdout",
     "output_type": "stream",
     "text": [
      "\u001b[91m\u001b[1mInstruments Successfully Upserted: \u001b[0m\n"
     ]
    },
    {
     "data": {
      "text/html": [
       "<div>\n",
       "<style scoped>\n",
       "    .dataframe tbody tr th:only-of-type {\n",
       "        vertical-align: middle;\n",
       "    }\n",
       "\n",
       "    .dataframe tbody tr th {\n",
       "        vertical-align: top;\n",
       "    }\n",
       "\n",
       "    .dataframe thead th {\n",
       "        text-align: right;\n",
       "    }\n",
       "</style>\n",
       "<table border=\"1\" class=\"dataframe\">\n",
       "  <thead>\n",
       "    <tr style=\"text-align: right;\">\n",
       "      <th></th>\n",
       "      <th>Instrument</th>\n",
       "      <th>ClientInternal ID</th>\n",
       "      <th>LUSID Instrument ID</th>\n",
       "    </tr>\n",
       "  </thead>\n",
       "  <tbody>\n",
       "    <tr>\n",
       "      <th>0</th>\n",
       "      <td>shopping_centre</td>\n",
       "      <td>SYD_241232</td>\n",
       "      <td>LUID_FD2YQ7EQ</td>\n",
       "    </tr>\n",
       "  </tbody>\n",
       "</table>\n",
       "</div>"
      ],
      "text/plain": [
       "        Instrument ClientInternal ID LUSID Instrument ID\n",
       "0  shopping_centre        SYD_241232       LUID_FD2YQ7EQ"
      ]
     },
     "execution_count": 20,
     "metadata": {},
     "output_type": "execute_result"
    }
   ],
   "source": [
    "# Create the bespoke hedge contract definition\n",
    "shopping_centre_asset = {\n",
    "    \"identifier\": \"SYD_241232\",\n",
    "    \"no_units\": 76,\n",
    "    \"average_retail_lease\": \"2.3 years\",\n",
    "    \"term\": \"5yr\",\n",
    "    \"freq\": \"Quarterly\",\n",
    "    \"rating\": \"B1\"\n",
    "}\n",
    "\n",
    "# Create the definition for your instrument, attaching the bespoke contract\n",
    "shopping_centre_asset_instrument = models.InstrumentDefinition(\n",
    "    name='Sydney_Bondi_Junc_Westfield',\n",
    "    identifiers={\n",
    "        'ClientInternal': models.InstrumentIdValue(\n",
    "            value=shopping_centre_asset[\"identifier\"])},\n",
    "    definition=models.InstrumentEconomicDefinition(\n",
    "        instrument_format='JSON',\n",
    "        content=json.dumps(shopping_centre_asset)\n",
    "    )\n",
    ")\n",
    "\n",
    "response = api_factory.build(lusid.api.InstrumentsApi).upsert_instruments(\n",
    "    instruments={\"shopping_centre\": shopping_centre_asset_instrument})\n",
    "\n",
    "prettyprint.instrument_response(response)"
   ]
  },
  {
   "cell_type": "markdown",
   "metadata": {},
   "source": [
    "### Purchase the asset"
   ]
  },
  {
   "cell_type": "markdown",
   "metadata": {},
   "source": [
    "You can now purchase the asset using the capital you have raised from Investor1.\n",
    "\n",
    "*Run the cell below to purchase the asset*"
   ]
  },
  {
   "cell_type": "code",
   "execution_count": 21,
   "metadata": {},
   "outputs": [
    {
     "name": "stdout",
     "output_type": "stream",
     "text": [
      "\u001b[1mTransactions Successfully Upserted into Portfolio\u001b[0m\n",
      "\u001b[1mScope: \u001b[0mfund-operations-37fa-64ce-76e2-fe\n",
      "\u001b[1mCode: \u001b[0mPacfic-Infrastructure-Fund\n",
      "\u001b[1mTransactions Effective From: \u001b[0m2019-12-02 14:44:21.119050+00:00\n",
      "\u001b[1mTransactions Created On: \u001b[0m2019-12-06 14:44:23.318939+00:00\n",
      "\n"
     ]
    }
   ],
   "source": [
    "transaction = models.TransactionRequest(\n",
    "    transaction_id='Purchase_22319041341',\n",
    "    type='Initial investment',\n",
    "    instrument_identifiers={\n",
    "        'Instrument/default/ClientInternal': 'SYD_241232'\n",
    "    },\n",
    "    transaction_date=day_3,\n",
    "    settlement_date=day_3,\n",
    "    units=1,\n",
    "    transaction_price=models.TransactionPrice(\n",
    "        price=5000000,\n",
    "        type='Price'),\n",
    "    total_consideration=models.CurrencyAndAmount(\n",
    "        amount=5000000,\n",
    "        currency='AUD'),\n",
    "    source='AssetTransactions',\n",
    "    transaction_currency='AUD')\n",
    "\n",
    "# Call LUSID to upsert your transactions for this portfolio\n",
    "response = api_factory.build(lusid.api.TransactionPortfoliosApi).upsert_transactions(\n",
    "    scope=scope,\n",
    "    code=fund_portfolio_code,\n",
    "    transactions=[transaction])\n",
    "\n",
    "# Print the response from LUSID using pretty formatting \n",
    "prettyprint.transactions_response(\n",
    "    response,\n",
    "    scope,\n",
    "    fund_portfolio_code)"
   ]
  },
  {
   "cell_type": "markdown",
   "metadata": {},
   "source": [
    "### See the updated fund holdings"
   ]
  },
  {
   "cell_type": "markdown",
   "metadata": {},
   "source": [
    "With the asset purchased you can now see it in the fund's updated holdings.\n",
    "\n",
    "*Run the cell below to get the fund's updated holdings*"
   ]
  },
  {
   "cell_type": "code",
   "execution_count": 22,
   "metadata": {},
   "outputs": [
    {
     "data": {
      "text/html": [
       "<div>\n",
       "<style scoped>\n",
       "    .dataframe tbody tr th:only-of-type {\n",
       "        vertical-align: middle;\n",
       "    }\n",
       "\n",
       "    .dataframe tbody tr th {\n",
       "        vertical-align: top;\n",
       "    }\n",
       "\n",
       "    .dataframe thead th {\n",
       "        text-align: right;\n",
       "    }\n",
       "</style>\n",
       "<table border=\"1\" class=\"dataframe\">\n",
       "  <thead>\n",
       "    <tr style=\"text-align: right;\">\n",
       "      <th></th>\n",
       "      <th>Lusid Unique Instrument Id</th>\n",
       "      <th>Units</th>\n",
       "      <th>Transaction/SubscriptionType</th>\n",
       "      <th>Transaction/InvestorId</th>\n",
       "      <th>Instrument_Name</th>\n",
       "      <th>Total Cost</th>\n",
       "      <th>Currency</th>\n",
       "    </tr>\n",
       "  </thead>\n",
       "  <tbody>\n",
       "    <tr>\n",
       "      <th>0</th>\n",
       "      <td>LUID_FD2YQ7EQ</td>\n",
       "      <td>1.00</td>\n",
       "      <td>Capital</td>\n",
       "      <td></td>\n",
       "      <td>Sydney_Bondi_Junc_Westfield</td>\n",
       "      <td>5000000.00</td>\n",
       "      <td>AUD</td>\n",
       "    </tr>\n",
       "    <tr>\n",
       "      <th>1</th>\n",
       "      <td>CCY_AUD</td>\n",
       "      <td>-5000000.00</td>\n",
       "      <td>Committed</td>\n",
       "      <td>Investor1</td>\n",
       "      <td>CCY_AUD</td>\n",
       "      <td>-5000000.00</td>\n",
       "      <td>AUD</td>\n",
       "    </tr>\n",
       "    <tr>\n",
       "      <th>2</th>\n",
       "      <td>CCY_AUD</td>\n",
       "      <td>5000000.00</td>\n",
       "      <td>Committed</td>\n",
       "      <td></td>\n",
       "      <td>CCY_AUD</td>\n",
       "      <td>5000000.00</td>\n",
       "      <td>AUD</td>\n",
       "    </tr>\n",
       "    <tr>\n",
       "      <th>3</th>\n",
       "      <td>CCY_AUD</td>\n",
       "      <td>-5000000.00</td>\n",
       "      <td>Capital</td>\n",
       "      <td>Investor1</td>\n",
       "      <td>CCY_AUD</td>\n",
       "      <td>-5000000.00</td>\n",
       "      <td>AUD</td>\n",
       "    </tr>\n",
       "  </tbody>\n",
       "</table>\n",
       "</div>"
      ],
      "text/plain": [
       "  Lusid Unique Instrument Id       Units Transaction/SubscriptionType  \\\n",
       "0              LUID_FD2YQ7EQ        1.00                      Capital   \n",
       "1                    CCY_AUD -5000000.00                    Committed   \n",
       "2                    CCY_AUD  5000000.00                    Committed   \n",
       "3                    CCY_AUD -5000000.00                      Capital   \n",
       "\n",
       "  Transaction/InvestorId              Instrument_Name  Total Cost Currency  \n",
       "0                         Sydney_Bondi_Junc_Westfield  5000000.00      AUD  \n",
       "1              Investor1                      CCY_AUD -5000000.00      AUD  \n",
       "2                                             CCY_AUD  5000000.00      AUD  \n",
       "3              Investor1                      CCY_AUD -5000000.00      AUD  "
      ]
     },
     "execution_count": 22,
     "metadata": {},
     "output_type": "execute_result"
    }
   ],
   "source": [
    "holdings = api_factory.build(lusid.api.TransactionPortfoliosApi).get_holdings(\n",
    "    scope=scope,\n",
    "    code=fund_portfolio_code,\n",
    "    property_keys=['Instrument/default/Name'])\n",
    "\n",
    "prettyprint.sub_holdings(holdings)"
   ]
  },
  {
   "cell_type": "markdown",
   "metadata": {},
   "source": [
    "# Day 4 - Investor 2 Makes AUD2,500,000 committment "
   ]
  },
  {
   "cell_type": "markdown",
   "metadata": {},
   "source": [
    "### Create a portfolio for the new investor"
   ]
  },
  {
   "cell_type": "code",
   "execution_count": 23,
   "metadata": {},
   "outputs": [
    {
     "name": "stdout",
     "output_type": "stream",
     "text": [
      "\u001b[1mPortfolio Created\u001b[0m\n",
      "\u001b[1mScope: \u001b[0mfund-operations-37fa-64ce-76e2-fe\n",
      "\u001b[1mCode: \u001b[0mInvestor2\n",
      "\u001b[1mPortfolio Effective From: \u001b[0m2017-01-18 14:44:23.533069+00:00\n",
      "\u001b[1mPortfolio Created On: \u001b[0m2019-12-06 14:44:23.607256+00:00\n",
      "\n"
     ]
    }
   ],
   "source": [
    "# Set the code of your portfolio\n",
    "investor2_portfolio_code = 'Investor2'\n",
    "\n",
    "# Set the creation date of your portfolio \n",
    "portfolio_creation_date = datetime.now(pytz.UTC) - timedelta(days=1052)\n",
    "\n",
    "# Build your request to create your portfolio\n",
    "request = models.CreateTransactionPortfolioRequest(\n",
    "    display_name=investor2_portfolio_code,\n",
    "    code=investor2_portfolio_code,\n",
    "    base_currency='AUD',\n",
    "    description=None,\n",
    "    created=portfolio_creation_date,\n",
    "    corporate_action_source_id=None,\n",
    "    accounting_method='AverageCost',\n",
    "    sub_holding_keys=[property_keys[\"SubscriptionType\"], property_keys[\"FundCode\"], property_keys[\"OperationStage\"]],\n",
    "    properties=None)\n",
    "\n",
    "# Call LUSID to create your portfolio\n",
    "response = api_factory.build(lusid.api.TransactionPortfoliosApi).create_portfolio(\n",
    "    scope=scope,\n",
    "    transaction_portfolio=request)\n",
    "\n",
    "# Pretty print the response\n",
    "prettyprint.portfolio_response(response)"
   ]
  },
  {
   "cell_type": "markdown",
   "metadata": {},
   "source": [
    "### Create a commitment for the investor"
   ]
  },
  {
   "cell_type": "markdown",
   "metadata": {},
   "source": [
    "Investor2 commits AUD$2,500,000 to the Pacific-Infrastructure-Fund. \n",
    "\n",
    "Unlike Investor1 his commitment is not automatically approved and is marked as being in DRAFT status.\n",
    "\n",
    "*Run the cell below to create the draft commitment*"
   ]
  },
  {
   "cell_type": "code",
   "execution_count": 24,
   "metadata": {},
   "outputs": [
    {
     "name": "stdout",
     "output_type": "stream",
     "text": [
      "\u001b[1mTransactions Successfully Upserted into Portfolio\u001b[0m\n",
      "\u001b[1mScope: \u001b[0mfund-operations-37fa-64ce-76e2-fe\n",
      "\u001b[1mCode: \u001b[0mInvestor2\n",
      "\u001b[1mTransactions Effective From: \u001b[0m2019-12-03 14:44:21.119050+00:00\n",
      "\u001b[1mTransactions Created On: \u001b[0m2019-12-06 14:44:23.866810+00:00\n",
      "\n",
      "\u001b[1mTransactions Successfully Upserted into Portfolio\u001b[0m\n",
      "\u001b[1mScope: \u001b[0mfund-operations-37fa-64ce-76e2-fe\n",
      "\u001b[1mCode: \u001b[0mPacfic-Infrastructure-Fund\n",
      "\u001b[1mTransactions Effective From: \u001b[0m2019-12-03 14:44:21.119050+00:00\n",
      "\u001b[1mTransactions Created On: \u001b[0m2019-12-06 14:44:24.084516+00:00\n",
      "\n"
     ]
    }
   ],
   "source": [
    "transaction_id = subscription_transaction(\n",
    "    date=day_4, \n",
    "    units=2500000, \n",
    "    transaction_type='Commitment',\n",
    "    investor_portfolio_code=investor2_portfolio_code,\n",
    "    fund_portfolio_code=fund_portfolio_code,\n",
    "    status='Draft')"
   ]
  },
  {
   "cell_type": "markdown",
   "metadata": {},
   "source": [
    "You can see the Draft commitment by looking at the holdings of Investor2's account.\n",
    "\n",
    "*Run the cell below to see Investor2's holdings*"
   ]
  },
  {
   "cell_type": "code",
   "execution_count": 25,
   "metadata": {},
   "outputs": [
    {
     "data": {
      "text/html": [
       "<div>\n",
       "<style scoped>\n",
       "    .dataframe tbody tr th:only-of-type {\n",
       "        vertical-align: middle;\n",
       "    }\n",
       "\n",
       "    .dataframe tbody tr th {\n",
       "        vertical-align: top;\n",
       "    }\n",
       "\n",
       "    .dataframe thead th {\n",
       "        text-align: right;\n",
       "    }\n",
       "</style>\n",
       "<table border=\"1\" class=\"dataframe\">\n",
       "  <thead>\n",
       "    <tr style=\"text-align: right;\">\n",
       "      <th></th>\n",
       "      <th>Lusid Unique Instrument Id</th>\n",
       "      <th>Units</th>\n",
       "      <th>Transaction/OperationStage</th>\n",
       "      <th>Transaction/FundCode</th>\n",
       "      <th>Transaction/SubscriptionType</th>\n",
       "      <th>Instrument_Name</th>\n",
       "      <th>Total Cost</th>\n",
       "      <th>Currency</th>\n",
       "    </tr>\n",
       "  </thead>\n",
       "  <tbody>\n",
       "    <tr>\n",
       "      <th>0</th>\n",
       "      <td>CCY_AUD</td>\n",
       "      <td>2500000.00</td>\n",
       "      <td>Draft</td>\n",
       "      <td>Pacfic-Infrastructure-Fund</td>\n",
       "      <td>Committed</td>\n",
       "      <td>CCY_AUD</td>\n",
       "      <td>2500000.00</td>\n",
       "      <td>AUD</td>\n",
       "    </tr>\n",
       "  </tbody>\n",
       "</table>\n",
       "</div>"
      ],
      "text/plain": [
       "  Lusid Unique Instrument Id      Units Transaction/OperationStage  \\\n",
       "0                    CCY_AUD 2500000.00                      Draft   \n",
       "\n",
       "         Transaction/FundCode Transaction/SubscriptionType Instrument_Name  \\\n",
       "0  Pacfic-Infrastructure-Fund                    Committed         CCY_AUD   \n",
       "\n",
       "   Total Cost Currency  \n",
       "0  2500000.00      AUD  "
      ]
     },
     "execution_count": 25,
     "metadata": {},
     "output_type": "execute_result"
    }
   ],
   "source": [
    "holdings = api_factory.build(lusid.api.TransactionPortfoliosApi).get_holdings(\n",
    "    scope=scope,\n",
    "    code=investor2_portfolio_code,\n",
    "    property_keys=['Instrument/default/Name'])\n",
    "\n",
    "prettyprint.sub_holdings(holdings)"
   ]
  },
  {
   "cell_type": "markdown",
   "metadata": {},
   "source": [
    "## Investor2's commitment is flagged for review"
   ]
  },
  {
   "cell_type": "markdown",
   "metadata": {},
   "source": [
    "The commitment by Investor2 is flagged for review, while this review process is ongoing the status of the commitment is updated.\n",
    "\n",
    "*Run the cell below to update the commitment status to \"Review\"*"
   ]
  },
  {
   "cell_type": "code",
   "execution_count": 26,
   "metadata": {},
   "outputs": [
    {
     "name": "stdout",
     "output_type": "stream",
     "text": [
      "\u001b[1mAdded transaction properties asAt: \u001b[0m2019-12-06 14:44:24.412947+00:00\n"
     ]
    }
   ],
   "source": [
    "response = api_factory.build(lusid.api.TransactionPortfoliosApi).upsert_transaction_properties(\n",
    "    scope=scope,\n",
    "    code=investor2_portfolio_code,\n",
    "    transaction_id=transaction_id,\n",
    "    transaction_properties={property_keys['OperationStage']: models.ModelProperty(\n",
    "        key=property_keys['OperationStage'],\n",
    "        value=models.PropertyValue(\n",
    "            label_value='Review')\n",
    "    )})\n",
    "\n",
    "prettyprint.add_transaction_property(response)"
   ]
  },
  {
   "cell_type": "markdown",
   "metadata": {},
   "source": [
    "You can see the commitment has been moved to \"Review\" status by looking at the holdings of Investor2's account.\n",
    "\n",
    "*Run the cell below to see Investor2's holdings*"
   ]
  },
  {
   "cell_type": "code",
   "execution_count": 27,
   "metadata": {},
   "outputs": [
    {
     "data": {
      "text/html": [
       "<div>\n",
       "<style scoped>\n",
       "    .dataframe tbody tr th:only-of-type {\n",
       "        vertical-align: middle;\n",
       "    }\n",
       "\n",
       "    .dataframe tbody tr th {\n",
       "        vertical-align: top;\n",
       "    }\n",
       "\n",
       "    .dataframe thead th {\n",
       "        text-align: right;\n",
       "    }\n",
       "</style>\n",
       "<table border=\"1\" class=\"dataframe\">\n",
       "  <thead>\n",
       "    <tr style=\"text-align: right;\">\n",
       "      <th></th>\n",
       "      <th>Lusid Unique Instrument Id</th>\n",
       "      <th>Units</th>\n",
       "      <th>Transaction/SubscriptionType</th>\n",
       "      <th>Transaction/OperationStage</th>\n",
       "      <th>Transaction/FundCode</th>\n",
       "      <th>Instrument_Name</th>\n",
       "      <th>Total Cost</th>\n",
       "      <th>Currency</th>\n",
       "    </tr>\n",
       "  </thead>\n",
       "  <tbody>\n",
       "    <tr>\n",
       "      <th>0</th>\n",
       "      <td>CCY_AUD</td>\n",
       "      <td>2500000.00</td>\n",
       "      <td>Committed</td>\n",
       "      <td>Review</td>\n",
       "      <td>Pacfic-Infrastructure-Fund</td>\n",
       "      <td>CCY_AUD</td>\n",
       "      <td>2500000.00</td>\n",
       "      <td>AUD</td>\n",
       "    </tr>\n",
       "  </tbody>\n",
       "</table>\n",
       "</div>"
      ],
      "text/plain": [
       "  Lusid Unique Instrument Id      Units Transaction/SubscriptionType  \\\n",
       "0                    CCY_AUD 2500000.00                    Committed   \n",
       "\n",
       "  Transaction/OperationStage        Transaction/FundCode Instrument_Name  \\\n",
       "0                     Review  Pacfic-Infrastructure-Fund         CCY_AUD   \n",
       "\n",
       "   Total Cost Currency  \n",
       "0  2500000.00      AUD  "
      ]
     },
     "execution_count": 27,
     "metadata": {},
     "output_type": "execute_result"
    }
   ],
   "source": [
    "holdings = api_factory.build(lusid.api.TransactionPortfoliosApi).get_holdings(\n",
    "    scope=scope,\n",
    "    code=investor2_portfolio_code,\n",
    "    property_keys=['Instrument/default/Name'])\n",
    "\n",
    "prettyprint.sub_holdings(holdings)"
   ]
  },
  {
   "cell_type": "markdown",
   "metadata": {},
   "source": [
    "Finally the commitment by Investor2 is approved.\n",
    "\n",
    "*Run the cell below to update the commitment status to \"Approved\"*"
   ]
  },
  {
   "cell_type": "code",
   "execution_count": 28,
   "metadata": {},
   "outputs": [
    {
     "name": "stdout",
     "output_type": "stream",
     "text": [
      "\u001b[1mAdded transaction properties asAt: \u001b[0m2019-12-06 14:44:24.825113+00:00\n"
     ]
    }
   ],
   "source": [
    "response = api_factory.build(lusid.api.TransactionPortfoliosApi).upsert_transaction_properties(\n",
    "    scope=scope,\n",
    "    code=investor2_portfolio_code,\n",
    "    transaction_id=transaction_id,\n",
    "    transaction_properties={property_keys['OperationStage']: models.ModelProperty(\n",
    "        key=property_keys['OperationStage'],\n",
    "        value=models.PropertyValue(\n",
    "            label_value='Approved')\n",
    "    )})\n",
    "\n",
    "prettyprint.add_transaction_property(response)"
   ]
  },
  {
   "cell_type": "markdown",
   "metadata": {},
   "source": [
    "You can see the commitment has been moved to \"Approved\" status by looking at the holdings of Investor2's account.\n",
    "\n",
    "*Run the cell below to see Investor2's holdings*"
   ]
  },
  {
   "cell_type": "code",
   "execution_count": 29,
   "metadata": {},
   "outputs": [
    {
     "data": {
      "text/html": [
       "<div>\n",
       "<style scoped>\n",
       "    .dataframe tbody tr th:only-of-type {\n",
       "        vertical-align: middle;\n",
       "    }\n",
       "\n",
       "    .dataframe tbody tr th {\n",
       "        vertical-align: top;\n",
       "    }\n",
       "\n",
       "    .dataframe thead th {\n",
       "        text-align: right;\n",
       "    }\n",
       "</style>\n",
       "<table border=\"1\" class=\"dataframe\">\n",
       "  <thead>\n",
       "    <tr style=\"text-align: right;\">\n",
       "      <th></th>\n",
       "      <th>Lusid Unique Instrument Id</th>\n",
       "      <th>Units</th>\n",
       "      <th>Transaction/OperationStage</th>\n",
       "      <th>Transaction/FundCode</th>\n",
       "      <th>Transaction/SubscriptionType</th>\n",
       "      <th>Instrument_Name</th>\n",
       "      <th>Total Cost</th>\n",
       "      <th>Currency</th>\n",
       "    </tr>\n",
       "  </thead>\n",
       "  <tbody>\n",
       "    <tr>\n",
       "      <th>0</th>\n",
       "      <td>CCY_AUD</td>\n",
       "      <td>2500000.00</td>\n",
       "      <td>Approved</td>\n",
       "      <td>Pacfic-Infrastructure-Fund</td>\n",
       "      <td>Committed</td>\n",
       "      <td>CCY_AUD</td>\n",
       "      <td>2500000.00</td>\n",
       "      <td>AUD</td>\n",
       "    </tr>\n",
       "  </tbody>\n",
       "</table>\n",
       "</div>"
      ],
      "text/plain": [
       "  Lusid Unique Instrument Id      Units Transaction/OperationStage  \\\n",
       "0                    CCY_AUD 2500000.00                   Approved   \n",
       "\n",
       "         Transaction/FundCode Transaction/SubscriptionType Instrument_Name  \\\n",
       "0  Pacfic-Infrastructure-Fund                    Committed         CCY_AUD   \n",
       "\n",
       "   Total Cost Currency  \n",
       "0  2500000.00      AUD  "
      ]
     },
     "execution_count": 29,
     "metadata": {},
     "output_type": "execute_result"
    }
   ],
   "source": [
    "holdings = api_factory.build(lusid.api.TransactionPortfoliosApi).get_holdings(\n",
    "    scope=scope,\n",
    "    code=investor2_portfolio_code,\n",
    "    property_keys=['Instrument/default/Name'])\n",
    "\n",
    "prettyprint.sub_holdings(holdings)"
   ]
  },
  {
   "cell_type": "markdown",
   "metadata": {},
   "source": [
    "### Issue a capital call"
   ]
  },
  {
   "cell_type": "markdown",
   "metadata": {},
   "source": [
    "You now issue a second capital call. This time it is for AUD$2,500,000 to Investor2 for the Pacific-Infrastructure-Fund.\n",
    "\n",
    "*Run the cell below to issue the second capital call*"
   ]
  },
  {
   "cell_type": "code",
   "execution_count": 30,
   "metadata": {},
   "outputs": [
    {
     "name": "stdout",
     "output_type": "stream",
     "text": [
      "\u001b[1mTransactions Successfully Upserted into Portfolio\u001b[0m\n",
      "\u001b[1mScope: \u001b[0mfund-operations-37fa-64ce-76e2-fe\n",
      "\u001b[1mCode: \u001b[0mInvestor2\n",
      "\u001b[1mTransactions Effective From: \u001b[0m2019-12-03 14:44:21.119050+00:00\n",
      "\u001b[1mTransactions Created On: \u001b[0m2019-12-06 14:44:25.286569+00:00\n",
      "\n",
      "\u001b[1mTransactions Successfully Upserted into Portfolio\u001b[0m\n",
      "\u001b[1mScope: \u001b[0mfund-operations-37fa-64ce-76e2-fe\n",
      "\u001b[1mCode: \u001b[0mPacfic-Infrastructure-Fund\n",
      "\u001b[1mTransactions Effective From: \u001b[0m2019-12-03 14:44:21.119050+00:00\n",
      "\u001b[1mTransactions Created On: \u001b[0m2019-12-06 14:44:25.578935+00:00\n",
      "\n"
     ]
    },
    {
     "data": {
      "text/plain": [
       "'5154654d-2554-4896-8b2a-e77ed6c196dc'"
      ]
     },
     "execution_count": 30,
     "metadata": {},
     "output_type": "execute_result"
    }
   ],
   "source": [
    "subscription_transaction(\n",
    "    date=day_4, \n",
    "    units=2500000, \n",
    "    transaction_type='Capital call',\n",
    "    investor_portfolio_code=investor2_portfolio_code,\n",
    "    fund_portfolio_code=fund_portfolio_code,\n",
    "    status='Approved')"
   ]
  },
  {
   "cell_type": "markdown",
   "metadata": {},
   "source": [
    "### See the updated fund holdings"
   ]
  },
  {
   "cell_type": "markdown",
   "metadata": {},
   "source": [
    "You can see now in the fund's holdings capital from both Investor1 and Investor2.\n",
    "\n",
    "*Run the cell below to generate the updated holdings for the fund*"
   ]
  },
  {
   "cell_type": "code",
   "execution_count": 31,
   "metadata": {},
   "outputs": [
    {
     "data": {
      "text/html": [
       "<div>\n",
       "<style scoped>\n",
       "    .dataframe tbody tr th:only-of-type {\n",
       "        vertical-align: middle;\n",
       "    }\n",
       "\n",
       "    .dataframe tbody tr th {\n",
       "        vertical-align: top;\n",
       "    }\n",
       "\n",
       "    .dataframe thead th {\n",
       "        text-align: right;\n",
       "    }\n",
       "</style>\n",
       "<table border=\"1\" class=\"dataframe\">\n",
       "  <thead>\n",
       "    <tr style=\"text-align: right;\">\n",
       "      <th></th>\n",
       "      <th>Lusid Unique Instrument Id</th>\n",
       "      <th>Units</th>\n",
       "      <th>Transaction/SubscriptionType</th>\n",
       "      <th>Transaction/InvestorId</th>\n",
       "      <th>Instrument_Name</th>\n",
       "      <th>Total Cost</th>\n",
       "      <th>Currency</th>\n",
       "    </tr>\n",
       "  </thead>\n",
       "  <tbody>\n",
       "    <tr>\n",
       "      <th>0</th>\n",
       "      <td>LUID_FD2YQ7EQ</td>\n",
       "      <td>1.00</td>\n",
       "      <td>Capital</td>\n",
       "      <td></td>\n",
       "      <td>Sydney_Bondi_Junc_Westfield</td>\n",
       "      <td>5000000.00</td>\n",
       "      <td>AUD</td>\n",
       "    </tr>\n",
       "    <tr>\n",
       "      <th>1</th>\n",
       "      <td>CCY_AUD</td>\n",
       "      <td>-5000000.00</td>\n",
       "      <td>Committed</td>\n",
       "      <td>Investor1</td>\n",
       "      <td>CCY_AUD</td>\n",
       "      <td>-5000000.00</td>\n",
       "      <td>AUD</td>\n",
       "    </tr>\n",
       "    <tr>\n",
       "      <th>2</th>\n",
       "      <td>CCY_AUD</td>\n",
       "      <td>5000000.00</td>\n",
       "      <td>Committed</td>\n",
       "      <td></td>\n",
       "      <td>CCY_AUD</td>\n",
       "      <td>5000000.00</td>\n",
       "      <td>AUD</td>\n",
       "    </tr>\n",
       "    <tr>\n",
       "      <th>3</th>\n",
       "      <td>CCY_AUD</td>\n",
       "      <td>-5000000.00</td>\n",
       "      <td>Capital</td>\n",
       "      <td>Investor1</td>\n",
       "      <td>CCY_AUD</td>\n",
       "      <td>-5000000.00</td>\n",
       "      <td>AUD</td>\n",
       "    </tr>\n",
       "    <tr>\n",
       "      <th>4</th>\n",
       "      <td>CCY_AUD</td>\n",
       "      <td>2500000.00</td>\n",
       "      <td>Capital</td>\n",
       "      <td></td>\n",
       "      <td>CCY_AUD</td>\n",
       "      <td>2500000.00</td>\n",
       "      <td>AUD</td>\n",
       "    </tr>\n",
       "    <tr>\n",
       "      <th>5</th>\n",
       "      <td>CCY_AUD</td>\n",
       "      <td>-2500000.00</td>\n",
       "      <td>Capital</td>\n",
       "      <td>Investor2</td>\n",
       "      <td>CCY_AUD</td>\n",
       "      <td>-2500000.00</td>\n",
       "      <td>AUD</td>\n",
       "    </tr>\n",
       "  </tbody>\n",
       "</table>\n",
       "</div>"
      ],
      "text/plain": [
       "  Lusid Unique Instrument Id       Units Transaction/SubscriptionType  \\\n",
       "0              LUID_FD2YQ7EQ        1.00                      Capital   \n",
       "1                    CCY_AUD -5000000.00                    Committed   \n",
       "2                    CCY_AUD  5000000.00                    Committed   \n",
       "3                    CCY_AUD -5000000.00                      Capital   \n",
       "4                    CCY_AUD  2500000.00                      Capital   \n",
       "5                    CCY_AUD -2500000.00                      Capital   \n",
       "\n",
       "  Transaction/InvestorId              Instrument_Name  Total Cost Currency  \n",
       "0                         Sydney_Bondi_Junc_Westfield  5000000.00      AUD  \n",
       "1              Investor1                      CCY_AUD -5000000.00      AUD  \n",
       "2                                             CCY_AUD  5000000.00      AUD  \n",
       "3              Investor1                      CCY_AUD -5000000.00      AUD  \n",
       "4                                             CCY_AUD  2500000.00      AUD  \n",
       "5              Investor2                      CCY_AUD -2500000.00      AUD  "
      ]
     },
     "execution_count": 31,
     "metadata": {},
     "output_type": "execute_result"
    }
   ],
   "source": [
    "holdings = api_factory.build(lusid.api.TransactionPortfoliosApi).get_holdings(\n",
    "    scope=scope,\n",
    "    code=fund_portfolio_code,\n",
    "    property_keys=['Instrument/default/Name'])\n",
    "\n",
    "prettyprint.sub_holdings(holdings)"
   ]
  },
  {
   "cell_type": "markdown",
   "metadata": {},
   "source": [
    "# Day 5 - Income is generated from the asset"
   ]
  },
  {
   "cell_type": "markdown",
   "metadata": {},
   "source": [
    "### Log the income transaction"
   ]
  },
  {
   "cell_type": "markdown",
   "metadata": {},
   "source": [
    "The shopping centre returns income of AUD$50,000 via rental income.\n",
    "\n",
    "*Run the cell below to generate the rental income*"
   ]
  },
  {
   "cell_type": "code",
   "execution_count": 32,
   "metadata": {},
   "outputs": [
    {
     "name": "stdout",
     "output_type": "stream",
     "text": [
      "\u001b[1mTransactions Successfully Upserted into Portfolio\u001b[0m\n",
      "\u001b[1mScope: \u001b[0mfund-operations-37fa-64ce-76e2-fe\n",
      "\u001b[1mCode: \u001b[0mPacfic-Infrastructure-Fund\n",
      "\u001b[1mTransactions Effective From: \u001b[0m2019-12-04 14:44:21.119050+00:00\n",
      "\u001b[1mTransactions Created On: \u001b[0m2019-12-06 14:44:26.010405+00:00\n",
      "\n"
     ]
    }
   ],
   "source": [
    "transaction = models.TransactionRequest(\n",
    "    transaction_id='Income_22319041341',\n",
    "    type='Distribution',\n",
    "    instrument_identifiers={\n",
    "        'Instrument/default/ClientInternal': 'SYD_241232'\n",
    "    },\n",
    "    transaction_date=day_5,\n",
    "    settlement_date=day_5,\n",
    "    units=1,\n",
    "    transaction_price=models.TransactionPrice(\n",
    "        price=50000,\n",
    "        type='Price'),\n",
    "    total_consideration=models.CurrencyAndAmount(\n",
    "        amount=50000,\n",
    "        currency='AUD'),\n",
    "    source='AssetTransactions',\n",
    "    transaction_currency='AUD',\n",
    "    properties={property_keys['OperationStage']: models.ModelProperty(\n",
    "        key=property_keys['OperationStage'],\n",
    "        value=models.PropertyValue(\n",
    "            label_value='Approved')\n",
    "    )})\n",
    "\n",
    "# Call LUSID to upsert your transactions for this portfolio\n",
    "response = api_factory.build(lusid.api.TransactionPortfoliosApi).upsert_transactions(\n",
    "    scope=scope,\n",
    "    code=fund_portfolio_code,\n",
    "    transactions=[transaction])\n",
    "\n",
    "# Print the response from LUSID using pretty formatting \n",
    "prettyprint.transactions_response(\n",
    "    response,\n",
    "    scope,\n",
    "    fund_portfolio_code)"
   ]
  },
  {
   "cell_type": "markdown",
   "metadata": {},
   "source": [
    "### Get the updated fund holdings"
   ]
  },
  {
   "cell_type": "markdown",
   "metadata": {},
   "source": [
    "You can see this income in the fund where it has not yet been allocated to any investors.\n",
    "\n",
    "*Run the cell below to get the updated fund holdings*"
   ]
  },
  {
   "cell_type": "code",
   "execution_count": 33,
   "metadata": {},
   "outputs": [
    {
     "data": {
      "text/html": [
       "<div>\n",
       "<style scoped>\n",
       "    .dataframe tbody tr th:only-of-type {\n",
       "        vertical-align: middle;\n",
       "    }\n",
       "\n",
       "    .dataframe tbody tr th {\n",
       "        vertical-align: top;\n",
       "    }\n",
       "\n",
       "    .dataframe thead th {\n",
       "        text-align: right;\n",
       "    }\n",
       "</style>\n",
       "<table border=\"1\" class=\"dataframe\">\n",
       "  <thead>\n",
       "    <tr style=\"text-align: right;\">\n",
       "      <th></th>\n",
       "      <th>Lusid Unique Instrument Id</th>\n",
       "      <th>Units</th>\n",
       "      <th>Transaction/SubscriptionType</th>\n",
       "      <th>Transaction/InvestorId</th>\n",
       "      <th>Instrument_Name</th>\n",
       "      <th>Total Cost</th>\n",
       "      <th>Currency</th>\n",
       "    </tr>\n",
       "  </thead>\n",
       "  <tbody>\n",
       "    <tr>\n",
       "      <th>0</th>\n",
       "      <td>LUID_FD2YQ7EQ</td>\n",
       "      <td>1.00</td>\n",
       "      <td>Capital</td>\n",
       "      <td></td>\n",
       "      <td>Sydney_Bondi_Junc_Westfield</td>\n",
       "      <td>5000000.00</td>\n",
       "      <td>AUD</td>\n",
       "    </tr>\n",
       "    <tr>\n",
       "      <th>1</th>\n",
       "      <td>CCY_AUD</td>\n",
       "      <td>-5000000.00</td>\n",
       "      <td>Committed</td>\n",
       "      <td>Investor1</td>\n",
       "      <td>CCY_AUD</td>\n",
       "      <td>-5000000.00</td>\n",
       "      <td>AUD</td>\n",
       "    </tr>\n",
       "    <tr>\n",
       "      <th>2</th>\n",
       "      <td>CCY_AUD</td>\n",
       "      <td>5000000.00</td>\n",
       "      <td>Committed</td>\n",
       "      <td></td>\n",
       "      <td>CCY_AUD</td>\n",
       "      <td>5000000.00</td>\n",
       "      <td>AUD</td>\n",
       "    </tr>\n",
       "    <tr>\n",
       "      <th>3</th>\n",
       "      <td>CCY_AUD</td>\n",
       "      <td>-5000000.00</td>\n",
       "      <td>Capital</td>\n",
       "      <td>Investor1</td>\n",
       "      <td>CCY_AUD</td>\n",
       "      <td>-5000000.00</td>\n",
       "      <td>AUD</td>\n",
       "    </tr>\n",
       "    <tr>\n",
       "      <th>4</th>\n",
       "      <td>CCY_AUD</td>\n",
       "      <td>2500000.00</td>\n",
       "      <td>Capital</td>\n",
       "      <td></td>\n",
       "      <td>CCY_AUD</td>\n",
       "      <td>2500000.00</td>\n",
       "      <td>AUD</td>\n",
       "    </tr>\n",
       "    <tr>\n",
       "      <th>5</th>\n",
       "      <td>CCY_AUD</td>\n",
       "      <td>-2500000.00</td>\n",
       "      <td>Capital</td>\n",
       "      <td>Investor2</td>\n",
       "      <td>CCY_AUD</td>\n",
       "      <td>-2500000.00</td>\n",
       "      <td>AUD</td>\n",
       "    </tr>\n",
       "    <tr>\n",
       "      <th>6</th>\n",
       "      <td>CCY_AUD</td>\n",
       "      <td>50000.00</td>\n",
       "      <td>Income</td>\n",
       "      <td></td>\n",
       "      <td>CCY_AUD</td>\n",
       "      <td>50000.00</td>\n",
       "      <td>AUD</td>\n",
       "    </tr>\n",
       "  </tbody>\n",
       "</table>\n",
       "</div>"
      ],
      "text/plain": [
       "  Lusid Unique Instrument Id       Units Transaction/SubscriptionType  \\\n",
       "0              LUID_FD2YQ7EQ        1.00                      Capital   \n",
       "1                    CCY_AUD -5000000.00                    Committed   \n",
       "2                    CCY_AUD  5000000.00                    Committed   \n",
       "3                    CCY_AUD -5000000.00                      Capital   \n",
       "4                    CCY_AUD  2500000.00                      Capital   \n",
       "5                    CCY_AUD -2500000.00                      Capital   \n",
       "6                    CCY_AUD    50000.00                       Income   \n",
       "\n",
       "  Transaction/InvestorId              Instrument_Name  Total Cost Currency  \n",
       "0                         Sydney_Bondi_Junc_Westfield  5000000.00      AUD  \n",
       "1              Investor1                      CCY_AUD -5000000.00      AUD  \n",
       "2                                             CCY_AUD  5000000.00      AUD  \n",
       "3              Investor1                      CCY_AUD -5000000.00      AUD  \n",
       "4                                             CCY_AUD  2500000.00      AUD  \n",
       "5              Investor2                      CCY_AUD -2500000.00      AUD  \n",
       "6                                             CCY_AUD    50000.00      AUD  "
      ]
     },
     "execution_count": 33,
     "metadata": {},
     "output_type": "execute_result"
    }
   ],
   "source": [
    "holdings = api_factory.build(lusid.api.TransactionPortfoliosApi).get_holdings(\n",
    "    scope=scope,\n",
    "    code=fund_portfolio_code,\n",
    "    property_keys=['Instrument/default/Name'])\n",
    "\n",
    "prettyprint.sub_holdings(holdings)"
   ]
  },
  {
   "cell_type": "markdown",
   "metadata": {},
   "source": [
    "# Day 6 - Income is distributed to investors"
   ]
  },
  {
   "cell_type": "markdown",
   "metadata": {},
   "source": [
    "You decide to distribute the recent income from the shopping centre to the two investors, who you (perhaps unfairly and in error) award an equal share of the proceeds.\n",
    "\n",
    "*Run the cell below to distribute the income*"
   ]
  },
  {
   "cell_type": "code",
   "execution_count": 34,
   "metadata": {},
   "outputs": [
    {
     "name": "stdout",
     "output_type": "stream",
     "text": [
      "\u001b[1mTransactions Successfully Upserted into Portfolio\u001b[0m\n",
      "\u001b[1mScope: \u001b[0mfund-operations-37fa-64ce-76e2-fe\n",
      "\u001b[1mCode: \u001b[0mInvestor1\n",
      "\u001b[1mTransactions Effective From: \u001b[0m2019-12-05 14:44:21.119050+00:00\n",
      "\u001b[1mTransactions Created On: \u001b[0m2019-12-06 14:44:26.407612+00:00\n",
      "\n",
      "\u001b[1mTransactions Successfully Upserted into Portfolio\u001b[0m\n",
      "\u001b[1mScope: \u001b[0mfund-operations-37fa-64ce-76e2-fe\n",
      "\u001b[1mCode: \u001b[0mPacfic-Infrastructure-Fund\n",
      "\u001b[1mTransactions Effective From: \u001b[0m2019-12-05 14:44:21.119050+00:00\n",
      "\u001b[1mTransactions Created On: \u001b[0m2019-12-06 14:44:26.617764+00:00\n",
      "\n",
      "\u001b[1mTransactions Successfully Upserted into Portfolio\u001b[0m\n",
      "\u001b[1mScope: \u001b[0mfund-operations-37fa-64ce-76e2-fe\n",
      "\u001b[1mCode: \u001b[0mInvestor2\n",
      "\u001b[1mTransactions Effective From: \u001b[0m2019-12-05 14:44:21.119050+00:00\n",
      "\u001b[1mTransactions Created On: \u001b[0m2019-12-06 14:44:26.819413+00:00\n",
      "\n",
      "\u001b[1mTransactions Successfully Upserted into Portfolio\u001b[0m\n",
      "\u001b[1mScope: \u001b[0mfund-operations-37fa-64ce-76e2-fe\n",
      "\u001b[1mCode: \u001b[0mPacfic-Infrastructure-Fund\n",
      "\u001b[1mTransactions Effective From: \u001b[0m2019-12-05 14:44:21.119050+00:00\n",
      "\u001b[1mTransactions Created On: \u001b[0m2019-12-06 14:44:27.045843+00:00\n",
      "\n"
     ]
    },
    {
     "data": {
      "text/plain": [
       "'7fb16dfe-b5b3-40ac-85e0-957c348636ff'"
      ]
     },
     "execution_count": 34,
     "metadata": {},
     "output_type": "execute_result"
    }
   ],
   "source": [
    "subscription_transaction(\n",
    "    date=day_6, \n",
    "    units=25000, \n",
    "    transaction_type='Distribution',\n",
    "    investor_portfolio_code=investor_portfolio_code,\n",
    "    fund_portfolio_code=fund_portfolio_code,\n",
    "    status='Approved')\n",
    "\n",
    "subscription_transaction(\n",
    "    date=day_6, \n",
    "    units=25000, \n",
    "    transaction_type='Distribution',\n",
    "    investor_portfolio_code=investor2_portfolio_code,\n",
    "    fund_portfolio_code=fund_portfolio_code,\n",
    "    status='Approved')"
   ]
  },
  {
   "cell_type": "markdown",
   "metadata": {},
   "source": [
    "You can now see the update fund holdings representing the income being transferred to the investors.\n",
    "\n",
    "*Run the cell below to see the updated fund holdings*"
   ]
  },
  {
   "cell_type": "code",
   "execution_count": 35,
   "metadata": {},
   "outputs": [
    {
     "data": {
      "text/html": [
       "<div>\n",
       "<style scoped>\n",
       "    .dataframe tbody tr th:only-of-type {\n",
       "        vertical-align: middle;\n",
       "    }\n",
       "\n",
       "    .dataframe tbody tr th {\n",
       "        vertical-align: top;\n",
       "    }\n",
       "\n",
       "    .dataframe thead th {\n",
       "        text-align: right;\n",
       "    }\n",
       "</style>\n",
       "<table border=\"1\" class=\"dataframe\">\n",
       "  <thead>\n",
       "    <tr style=\"text-align: right;\">\n",
       "      <th></th>\n",
       "      <th>Lusid Unique Instrument Id</th>\n",
       "      <th>Units</th>\n",
       "      <th>Transaction/SubscriptionType</th>\n",
       "      <th>Transaction/InvestorId</th>\n",
       "      <th>Instrument_Name</th>\n",
       "      <th>Total Cost</th>\n",
       "      <th>Currency</th>\n",
       "    </tr>\n",
       "  </thead>\n",
       "  <tbody>\n",
       "    <tr>\n",
       "      <th>0</th>\n",
       "      <td>LUID_FD2YQ7EQ</td>\n",
       "      <td>1.00</td>\n",
       "      <td>Capital</td>\n",
       "      <td></td>\n",
       "      <td>Sydney_Bondi_Junc_Westfield</td>\n",
       "      <td>5000000.00</td>\n",
       "      <td>AUD</td>\n",
       "    </tr>\n",
       "    <tr>\n",
       "      <th>1</th>\n",
       "      <td>CCY_AUD</td>\n",
       "      <td>-5000000.00</td>\n",
       "      <td>Committed</td>\n",
       "      <td>Investor1</td>\n",
       "      <td>CCY_AUD</td>\n",
       "      <td>-5000000.00</td>\n",
       "      <td>AUD</td>\n",
       "    </tr>\n",
       "    <tr>\n",
       "      <th>2</th>\n",
       "      <td>CCY_AUD</td>\n",
       "      <td>5000000.00</td>\n",
       "      <td>Committed</td>\n",
       "      <td></td>\n",
       "      <td>CCY_AUD</td>\n",
       "      <td>5000000.00</td>\n",
       "      <td>AUD</td>\n",
       "    </tr>\n",
       "    <tr>\n",
       "      <th>3</th>\n",
       "      <td>CCY_AUD</td>\n",
       "      <td>-5000000.00</td>\n",
       "      <td>Capital</td>\n",
       "      <td>Investor1</td>\n",
       "      <td>CCY_AUD</td>\n",
       "      <td>-5000000.00</td>\n",
       "      <td>AUD</td>\n",
       "    </tr>\n",
       "    <tr>\n",
       "      <th>4</th>\n",
       "      <td>CCY_AUD</td>\n",
       "      <td>2500000.00</td>\n",
       "      <td>Capital</td>\n",
       "      <td></td>\n",
       "      <td>CCY_AUD</td>\n",
       "      <td>2500000.00</td>\n",
       "      <td>AUD</td>\n",
       "    </tr>\n",
       "    <tr>\n",
       "      <th>5</th>\n",
       "      <td>CCY_AUD</td>\n",
       "      <td>-2500000.00</td>\n",
       "      <td>Capital</td>\n",
       "      <td>Investor2</td>\n",
       "      <td>CCY_AUD</td>\n",
       "      <td>-2500000.00</td>\n",
       "      <td>AUD</td>\n",
       "    </tr>\n",
       "    <tr>\n",
       "      <th>6</th>\n",
       "      <td>CCY_AUD</td>\n",
       "      <td>50000.00</td>\n",
       "      <td>Income</td>\n",
       "      <td></td>\n",
       "      <td>CCY_AUD</td>\n",
       "      <td>50000.00</td>\n",
       "      <td>AUD</td>\n",
       "    </tr>\n",
       "    <tr>\n",
       "      <th>7</th>\n",
       "      <td>CCY_AUD</td>\n",
       "      <td>-25000.00</td>\n",
       "      <td>Income</td>\n",
       "      <td>Investor1</td>\n",
       "      <td>CCY_AUD</td>\n",
       "      <td>-25000.00</td>\n",
       "      <td>AUD</td>\n",
       "    </tr>\n",
       "    <tr>\n",
       "      <th>8</th>\n",
       "      <td>CCY_AUD</td>\n",
       "      <td>-25000.00</td>\n",
       "      <td>Income</td>\n",
       "      <td>Investor2</td>\n",
       "      <td>CCY_AUD</td>\n",
       "      <td>-25000.00</td>\n",
       "      <td>AUD</td>\n",
       "    </tr>\n",
       "  </tbody>\n",
       "</table>\n",
       "</div>"
      ],
      "text/plain": [
       "  Lusid Unique Instrument Id       Units Transaction/SubscriptionType  \\\n",
       "0              LUID_FD2YQ7EQ        1.00                      Capital   \n",
       "1                    CCY_AUD -5000000.00                    Committed   \n",
       "2                    CCY_AUD  5000000.00                    Committed   \n",
       "3                    CCY_AUD -5000000.00                      Capital   \n",
       "4                    CCY_AUD  2500000.00                      Capital   \n",
       "5                    CCY_AUD -2500000.00                      Capital   \n",
       "6                    CCY_AUD    50000.00                       Income   \n",
       "7                    CCY_AUD   -25000.00                       Income   \n",
       "8                    CCY_AUD   -25000.00                       Income   \n",
       "\n",
       "  Transaction/InvestorId              Instrument_Name  Total Cost Currency  \n",
       "0                         Sydney_Bondi_Junc_Westfield  5000000.00      AUD  \n",
       "1              Investor1                      CCY_AUD -5000000.00      AUD  \n",
       "2                                             CCY_AUD  5000000.00      AUD  \n",
       "3              Investor1                      CCY_AUD -5000000.00      AUD  \n",
       "4                                             CCY_AUD  2500000.00      AUD  \n",
       "5              Investor2                      CCY_AUD -2500000.00      AUD  \n",
       "6                                             CCY_AUD    50000.00      AUD  \n",
       "7              Investor1                      CCY_AUD   -25000.00      AUD  \n",
       "8              Investor2                      CCY_AUD   -25000.00      AUD  "
      ]
     },
     "execution_count": 35,
     "metadata": {},
     "output_type": "execute_result"
    }
   ],
   "source": [
    "holdings = api_factory.build(lusid.api.TransactionPortfoliosApi).get_holdings(\n",
    "    scope=scope,\n",
    "    code=fund_portfolio_code,\n",
    "    property_keys=['Instrument/default/Name'])\n",
    "\n",
    "prettyprint.sub_holdings(holdings)"
   ]
  },
  {
   "cell_type": "markdown",
   "metadata": {},
   "source": [
    "You can see this income now appear in both investors accounts.\n",
    "\n",
    "*Run the cell below to see the income in Investor2's account*"
   ]
  },
  {
   "cell_type": "code",
   "execution_count": 36,
   "metadata": {},
   "outputs": [
    {
     "data": {
      "text/html": [
       "<div>\n",
       "<style scoped>\n",
       "    .dataframe tbody tr th:only-of-type {\n",
       "        vertical-align: middle;\n",
       "    }\n",
       "\n",
       "    .dataframe tbody tr th {\n",
       "        vertical-align: top;\n",
       "    }\n",
       "\n",
       "    .dataframe thead th {\n",
       "        text-align: right;\n",
       "    }\n",
       "</style>\n",
       "<table border=\"1\" class=\"dataframe\">\n",
       "  <thead>\n",
       "    <tr style=\"text-align: right;\">\n",
       "      <th></th>\n",
       "      <th>Lusid Unique Instrument Id</th>\n",
       "      <th>Units</th>\n",
       "      <th>Transaction/OperationStage</th>\n",
       "      <th>Transaction/FundCode</th>\n",
       "      <th>Transaction/SubscriptionType</th>\n",
       "      <th>Instrument_Name</th>\n",
       "      <th>Total Cost</th>\n",
       "      <th>Currency</th>\n",
       "    </tr>\n",
       "  </thead>\n",
       "  <tbody>\n",
       "    <tr>\n",
       "      <th>0</th>\n",
       "      <td>CCY_AUD</td>\n",
       "      <td>2500000.00</td>\n",
       "      <td>Approved</td>\n",
       "      <td>Pacfic-Infrastructure-Fund</td>\n",
       "      <td>Capital</td>\n",
       "      <td>CCY_AUD</td>\n",
       "      <td>2500000.00</td>\n",
       "      <td>AUD</td>\n",
       "    </tr>\n",
       "    <tr>\n",
       "      <th>1</th>\n",
       "      <td>CCY_AUD</td>\n",
       "      <td>25000.00</td>\n",
       "      <td>Approved</td>\n",
       "      <td>Pacfic-Infrastructure-Fund</td>\n",
       "      <td>Income</td>\n",
       "      <td>CCY_AUD</td>\n",
       "      <td>25000.00</td>\n",
       "      <td>AUD</td>\n",
       "    </tr>\n",
       "  </tbody>\n",
       "</table>\n",
       "</div>"
      ],
      "text/plain": [
       "  Lusid Unique Instrument Id      Units Transaction/OperationStage  \\\n",
       "0                    CCY_AUD 2500000.00                   Approved   \n",
       "1                    CCY_AUD   25000.00                   Approved   \n",
       "\n",
       "         Transaction/FundCode Transaction/SubscriptionType Instrument_Name  \\\n",
       "0  Pacfic-Infrastructure-Fund                      Capital         CCY_AUD   \n",
       "1  Pacfic-Infrastructure-Fund                       Income         CCY_AUD   \n",
       "\n",
       "   Total Cost Currency  \n",
       "0  2500000.00      AUD  \n",
       "1    25000.00      AUD  "
      ]
     },
     "execution_count": 36,
     "metadata": {},
     "output_type": "execute_result"
    }
   ],
   "source": [
    "holdings = api_factory.build(lusid.api.TransactionPortfoliosApi).get_holdings(\n",
    "    scope=scope,\n",
    "    code=investor2_portfolio_code,\n",
    "    property_keys=['Instrument/default/Name'])\n",
    "\n",
    "prettyprint.sub_holdings(holdings)"
   ]
  }
 ],
 "metadata": {
  "kernelspec": {
   "display_name": "Python 3",
   "language": "python",
   "name": "python3"
  },
  "language_info": {
   "codemirror_mode": {
    "name": "ipython",
    "version": 3
   },
   "file_extension": ".py",
   "mimetype": "text/x-python",
   "name": "python",
   "nbconvert_exporter": "python",
   "pygments_lexer": "ipython3",
   "version": "3.8.1"
  }
 },
 "nbformat": 4,
 "nbformat_minor": 2
}
