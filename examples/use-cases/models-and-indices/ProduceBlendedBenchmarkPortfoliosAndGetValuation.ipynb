{
 "cells": [
  {
   "cell_type": "code",
   "execution_count": null,
   "id": "56d036dd-242a-49a1-86a8-2deb2497c4e1",
   "metadata": {},
   "outputs": [],
   "source": [
    "# To begin, we initialize global variables, objects and datasets. \n",
    "# We also load the variouse packages required for constructing our examples:\n",
    "\n",
    "# Import general purpose packages\n",
    "import os\n",
    "import json\n",
    "import pandas as pd\n",
    "import numpy as np\n",
    "import datetime\n",
    "import pytz\n",
    "import warnings\n",
    "import pprint\n",
    "\n",
    "warnings.filterwarnings(\"ignore\", module=\"matplotlib*\")\n",
    "\n",
    "import matplotlib.pyplot as plt\n",
    "\n",
    "from datetime import datetime, timedelta\n",
    "from pandas import json_normalize\n",
    "from flatten_json import flatten\n",
    "\n",
    "# Import lusid specific packages\n",
    "import lusid\n",
    "import lusid.models as models\n",
    "from lusidtools.cocoon.cocoon import load_from_data_frame\n",
    "\n",
    "from lusid.utilities import ApiClientFactory\n",
    "from lusidjam.refreshing_token import RefreshingToken\n",
    "\n",
    "# Set display configuration\n",
    "pd.set_option(\"display.max_columns\", None)\n",
    "pd.set_option(\"display.float_format\", lambda x: \"%.5f\" % x)\n",
    "pd.set_option(\"display.max_rows\", 3500)\n",
    "pd.set_option(\"max_colwidth\", 20)\n",
    "\n",
    "# Use line magic function to enable matplotlib to work interactively with iPython\n",
    "%matplotlib inline\n",
    "\n",
    "# Set style to fivethirtyeight to create clean and clear looking graphs\n",
    "plt.style.use(\"fivethirtyeight\")\n",
    "\n",
    "# Define a dictionary containing default plotting configurations\n",
    "params = {\n",
    "    \"legend.fontsize\": \"small\",\n",
    "    \"figure.figsize\": (12, 4.5),\n",
    "    \"axes.labelsize\": \"small\",\n",
    "    \"axes.titlesize\": \"medium\",\n",
    "    \"xtick.labelsize\": \"small\",\n",
    "    \"ytick.labelsize\": \"small\",\n",
    "}\n",
    "\n",
    "plt.rcParams.update(params)\n",
    "\n",
    "# Authenticate our user and create our API client\n",
    "# secrets_path = os.getenv(\"FBN_SECRETS_PATH\")\n",
    "\n",
    "# Initiate an API Factory which is the client side object for interacting with LUSID APIs\n",
    "# api_factory = lusid.utilities.ApiClientFactory(\n",
    "#     token=RefreshingToken(),\n",
    "#     api_secrets_filename=secrets_path,\n",
    "#     app_name=\"LusidJupyterNotebook\",\n",
    "# )\n",
    "\n",
    "api_factory = ApiClientFactory(token=RefreshingToken())\n",
    "\n",
    "api_status = pd.DataFrame(\n",
    "    api_factory.build(lusid.ApplicationMetadataApi).get_lusid_versions().to_dict()\n",
    ")\n",
    "\n",
    "display(api_status)"
   ]
  },
  {
   "cell_type": "markdown",
   "id": "ccae8651-3603-468f-9e36-9c35bb285e60",
   "metadata": {},
   "source": [
    "# 1.2 Define Global Variables\n",
    "## 1.2.1 Specify Notebook Scope and Start Date\n",
    "The ```scope``` and ```start_date```will be used globally accross the Notebook."
   ]
  },
  {
   "cell_type": "code",
   "execution_count": null,
   "id": "f9248420-af68-4172-81bf-ecfc776b6f00",
   "metadata": {},
   "outputs": [],
   "source": [
    "# Define a scope to hold data\n",
    "scope = \"ukIBOR\"\n",
    "start_date = \"2021-01-01\""
   ]
  },
  {
   "cell_type": "markdown",
   "id": "bf5c273f-56f1-4e1f-b277-ac2a6733bd39",
   "metadata": {},
   "source": [
    "## 1.2.2 Define LUSID API's"
   ]
  },
  {
   "cell_type": "code",
   "execution_count": null,
   "id": "307e881e-7c83-4f9a-97af-ef42ce29d572",
   "metadata": {},
   "outputs": [],
   "source": [
    "# Define the APIs we use\n",
    "configuration_recipe_api = api_factory.build(lusid.ConfigurationRecipeApi)\n",
    "reference_portfolios_api = api_factory.build(lusid.ReferencePortfolioApi)\n",
    "aggregation_api = api_factory.build(lusid.AggregationApi)\n",
    "instruments_api = api_factory.build(lusid.InstrumentsApi)\n",
    "portfolios_api = api_factory.build(lusid.PortfoliosApi)\n",
    "quotes_api = api_factory.build(lusid.QuotesApi)"
   ]
  },
  {
   "cell_type": "markdown",
   "id": "a9d64f68-f202-44a1-81d1-58976ba4ef68",
   "metadata": {},
   "source": [
    "# 2. Load Instrument Master\n",
    "Our instrument master data will be loaded from two separate data sources, each used in a different reference portfolio. Each data source containing a different class of instrument:\n",
    "\n",
    "The first containing UK equities, loaded form \"data/benchmark/uk-stocks.csv\"\n",
    "The second containing UK fixed income, loaded from \"data/benchmark/uk-bonds.csv\"\n",
    "\n",
    "## 2.1 Load the Equity Instruments\n",
    "\n",
    "We begin by loading our equity instruments and mapping the accompanying identifiers and required fields to LUSID.\n",
    "\n",
    "Our portfolio consists of a collection of various UK equities, weighted according to their proportion of the underlying portfolio. Each entry contains a \"Name\" attribute and a corresponding \"Sector\" property. We also have three identifiers for each equity, a \"Ticker\", \"ISIN\" and \"SEDOL\". Each of this fields can be mapped to a properties in LUSID. We be able to access each equity by it's \"Ticker\" value, which we will map to \"ClientInternal\" in LUSID.\n",
    "\n",
    "## 2.1.1 Read Equity CSV File"
   ]
  },
  {
   "cell_type": "code",
   "execution_count": null,
   "id": "821f555a-fdcd-44a3-a3c5-c370be73b2fd",
   "metadata": {},
   "outputs": [],
   "source": [
    "uk_stocks = pd.read_csv(\"data/benchmark/uk-stocks.csv\")\n",
    "uk_stocks_test = uk_stocks.head(3)"
   ]
  },
  {
   "cell_type": "markdown",
   "id": "414177dd-f34a-46fc-801f-e078dfb58b91",
   "metadata": {},
   "source": [
    "## 2.1.2 Load Equity Data to LUSID"
   ]
  },
  {
   "cell_type": "code",
   "execution_count": null,
   "id": "7b768847-90c5-49a5-90db-c1fa5aaa338c",
   "metadata": {},
   "outputs": [],
   "source": [
    "# Load the instruments into LUSID\n",
    "\n",
    "instrument_identifier_mapping = {\n",
    "    \"Figi\": \"Figi\",\n",
    "    \"Ticker\": \"Ticker\",\n",
    "    \"Isin\": \"ISIN\",\n",
    "    \"Sedol\": \"SEDOL\",\n",
    "    \"Currency\": \"Currency\",\n",
    "}\n",
    "\n",
    "instrument_mapping_required = {\"name\": \"Name\"}\n",
    "\n",
    "instrument_mapping_optional = {}\n",
    "\n",
    "responses = load_from_data_frame(\n",
    "    api_factory=api_factory,\n",
    "    # scope=scope,\n",
    "    scope=\"ukIBOR\",\n",
    "    # scope=\"default\",\n",
    "    # mapping\n",
    "    data_frame=uk_stocks,\n",
    "    mapping_required=instrument_mapping_required,\n",
    "    mapping_optional=instrument_mapping_optional,\n",
    "    file_type=\"instrument\",\n",
    "    identifier_mapping=instrument_identifier_mapping,\n",
    "    property_columns=[\"Sector\"],\n",
    ")"
   ]
  },
  {
   "cell_type": "code",
   "execution_count": null,
   "id": "ecfeb4a8-9387-4e60-84ff-6b1aa71a396f",
   "metadata": {
    "scrolled": true
   },
   "outputs": [],
   "source": [
    "definitions = {}\n",
    "\n",
    "for index, row in uk_stocks.iterrows():\n",
    "    definitions[row[\"Name\"]] = models.InstrumentDefinition(\n",
    "        name = row[\"Name\"],\n",
    "        identifiers = {\n",
    "            \"Figi\": models.InstrumentIdValue(value = row[\"Figi\"]),\n",
    "            \"Isin\": models.InstrumentIdValue(value = row[\"ISIN\"]),\n",
    "            \"Sedol\": models.InstrumentIdValue(value = row[\"SEDOL\"]),\n",
    "            \"Ticker\": models.InstrumentIdValue(value = row[\"Ticker\"])\n",
    "        },\n",
    "        definition = models.Equity(\n",
    "            instrument_type = \"Equity\",\n",
    "            dom_ccy = row[\"Currency\"],\n",
    "            identifiers = {}\n",
    "        ))\n",
    "    \n",
    "upsert_instruments_response = instruments_api.upsert_instruments(\n",
    "    request_body = definitions,\n",
    "    scope = scope,\n",
    ")\n",
    "\n",
    "pprint.pprint(upsert_instruments_response)"
   ]
  },
  {
   "cell_type": "markdown",
   "id": "977b054d-6e27-4b9e-91f6-b9c45eeb4a84",
   "metadata": {},
   "source": [
    "## 2.2 Load the Fixed Income instruments\n",
    "In a similar fashion, we continue by loading our fixed income data to LUSID. Our fixed income data comes with only a single identifying field - \"ISIN\" - as well as a \"Name\" and \"Sector\" property.\n",
    "\n",
    "### 2.2.1 Read Fixed Income CSV File"
   ]
  },
  {
   "cell_type": "code",
   "execution_count": null,
   "id": "48cea0b5-25f8-494b-a1a4-b08abcad21de",
   "metadata": {},
   "outputs": [],
   "source": [
    "uk_bonds = pd.read_csv(\"data/benchmark/uk-bonds.csv\")\n",
    "uk_bonds.head(3)"
   ]
  },
  {
   "cell_type": "markdown",
   "id": "7cffba35-2926-4772-a3fb-748865c88a56",
   "metadata": {},
   "source": [
    "### 2.2.2 Load Fixed Income Data to LUSID"
   ]
  },
  {
   "cell_type": "code",
   "execution_count": null,
   "id": "d99f61ba-84fb-4330-9a96-7c6c02937e98",
   "metadata": {},
   "outputs": [],
   "source": [
    "# Load the instruments into LUSID\n",
    "\n",
    "instrument_identifier_mapping = {\n",
    "    \"Figi\": \"Figi\",\n",
    "    \"Isin\": \"ISIN\",\n",
    "}\n",
    "\n",
    "instrument_mapping_required = {\"name\": \"Name\"}\n",
    "\n",
    "instrument_mapping_optional = {}\n",
    "\n",
    "responses = load_from_data_frame(\n",
    "    api_factory=api_factory,\n",
    "    scope=scope,\n",
    "    data_frame=uk_bonds,\n",
    "    mapping_required=instrument_mapping_required,\n",
    "    mapping_optional=instrument_mapping_optional,\n",
    "    file_type=\"instrument\",\n",
    "    identifier_mapping=instrument_identifier_mapping,\n",
    "    property_columns=[\"Sector\"],\n",
    ")"
   ]
  },
  {
   "cell_type": "code",
   "execution_count": null,
   "id": "dd3f8336-b841-4406-81d5-33c0a3ea2f01",
   "metadata": {
    "scrolled": true
   },
   "outputs": [],
   "source": [
    "definitions = {}\n",
    "\n",
    "for index, row in uk_bonds.iterrows():\n",
    "    definitions[row[\"Name\"]] = models.InstrumentDefinition(\n",
    "        name = row[\"Name\"],\n",
    "        identifiers = {\n",
    "            \"Figi\": models.InstrumentIdValue(value = row[\"Figi\"]),\n",
    "            \"Isin\": models.InstrumentIdValue(value = row[\"ISIN\"])\n",
    "        },\n",
    "        definition = models.Bond(\n",
    "            start_date = \"2024-05-22T00:00:00.0000000+00:00\",\n",
    "            maturity_date=\"2026-10-22T00:00:00.0000000+00:00\",\n",
    "            instrument_type = \"Bond\",\n",
    "            dom_ccy = row[\"Currency\"],\n",
    "            flow_conventions = models.FlowConventions(\n",
    "                currency = row[\"Currency\"],\n",
    "                payment_frequency = \"1M\",\n",
    "                day_count_convention = \"Actual360\",\n",
    "                roll_convention = \"1\",\n",
    "                payment_calendars = [\"GBP\"],\n",
    "                reset_calendars = []\n",
    "            ),\n",
    "            principal = 100,\n",
    "            coupon_rate = 0.015,\n",
    "            identifiers = {}\n",
    "        ))\n",
    "    \n",
    "upsert_instruments_response = instruments_api.upsert_instruments(\n",
    "    request_body = definitions,\n",
    "    scope = scope,\n",
    ")\n",
    "\n",
    "pprint.pprint(upsert_instruments_response)"
   ]
  },
  {
   "cell_type": "markdown",
   "id": "0474e3f5-f951-4799-a7c6-aa36b771def7",
   "metadata": {},
   "source": [
    "## Load Instrument Data into Lusid"
   ]
  },
  {
   "cell_type": "markdown",
   "id": "27686d33-5f78-43d7-9cec-96fe1df68f5c",
   "metadata": {},
   "source": [
    "# 3. Create reference portfolios\n",
    "Next, we construct our reference portfolios. These include:\n",
    "\n",
    "Our UK Equity portfolio, consisting of various weights of UK equities\n",
    "Our UK Fixed Income portfolio, consisting of variouse weights of UK Bonds\n",
    "And our Blended Portfolio, which constitutes some portion of our Equity and Fixed Income portfolios\n",
    "## 3.1 Define Names for Reference Portfolios"
   ]
  },
  {
   "cell_type": "code",
   "execution_count": null,
   "id": "536fbf80-82a3-409c-a0fe-0ac8541d7c8b",
   "metadata": {},
   "outputs": [],
   "source": [
    "uk_bond_index = \"uKBondIndex\"\n",
    "uk_equity_index = \"uKEquityIndex\"\n",
    "uk_blended_index = \"ukBlendedIndex\"\n",
    "\n",
    "# Define our list of Reference portfolios\n",
    "reference_portfolios = [uk_bond_index, uk_equity_index, uk_blended_index]"
   ]
  },
  {
   "cell_type": "markdown",
   "id": "ac447ca4-9df7-4f17-baed-4c0e95b78792",
   "metadata": {},
   "source": [
    "## 3.2 Create Reference Portfolios\n",
    "For each reference portfolio create an instance of the portfolio in LUSID. Specify the scope and time created to be the values specified globally in our Notebook. A reference portfolio in LUSID allows the storage of a portfolio which contains a set of constituent instruments and weights which can change over time.\n",
    "\n",
    "For additional information on Reference Portfolios, please see the following KB article.\n",
    "\n",
    "NOTE: The time when a portfolio is created must occur before or at the point when that any of it's constituents are upserted"
   ]
  },
  {
   "cell_type": "code",
   "execution_count": null,
   "id": "ca9853a1-0f4b-4b4f-8c61-99fd59507b2e",
   "metadata": {},
   "outputs": [],
   "source": [
    "# The `create_reference_portfolio()` method implements LUSID API `CreateReferencePortfolio` method. \n",
    "# More information on this API method can be found in the following [LUSID API Docs](https://www.lusid.com/docs/api/#tag/Reference-Portfolio)\n",
    "\n",
    "for portfolio in reference_portfolios:\n",
    "\n",
    "    try:\n",
    "\n",
    "        response = reference_portfolios_api.create_reference_portfolio(\n",
    "            scope=scope,\n",
    "            create_reference_portfolio_request=models.CreateReferencePortfolioRequest(\n",
    "                display_name=portfolio, \n",
    "                code=portfolio, \n",
    "                created=\"2010-01-01\", \n",
    "                instrument_scopes=[scope],\n",
    "                base_currency=\"GBP\",\n",
    "            ),\n",
    "        )\n",
    "\n",
    "    except lusid.ApiException as e:\n",
    "        print(json.loads(e.body)[\"title\"])"
   ]
  },
  {
   "cell_type": "markdown",
   "id": "57dfef83-3792-4514-9ba8-19d92af55a63",
   "metadata": {},
   "source": [
    "# 4. Load constituents\n",
    "## 4.1 Securitise the reference portfolios\n",
    "We now securitise each of the reference portfolios, allowing us to generate a blended benchmark containing multiple reference portfolios reperesented in LUSID. The reference portfolio can be configured to automatically float the weights of the underlying indices (the securitised reference portfolio constituents) so that they move in line with the movements of the index.\n",
    "\n",
    "For additional information on the Securitisation of Reference Portfolios, please see the following KB article"
   ]
  },
  {
   "cell_type": "code",
   "execution_count": null,
   "id": "e8270872-a6fc-4410-a4a5-fda0fcdb2cc7",
   "metadata": {},
   "outputs": [],
   "source": [
    "response = instruments_api.upsert_instruments(\n",
    "    scope=scope,\n",
    "    request_body={\n",
    "        f\"upsert_instrument_{portfolio}\": models.InstrumentDefinition(\n",
    "            name=portfolio,\n",
    "            identifiers={\n",
    "                \"ClientInternal\": models.InstrumentIdValue(value=f\"inst_{portfolio}\"),\n",
    "            },\n",
    "            look_through_portfolio_id=models.ResourceId(\n",
    "                scope=scope, \n",
    "                code=portfolio,\n",
    "            ),\n",
    "        ) for portfolio in reference_portfolios\n",
    "    }\n",
    ")"
   ]
  },
  {
   "cell_type": "markdown",
   "id": "fdc9da81-0807-4341-b595-b77823a3c79d",
   "metadata": {},
   "source": [
    "## 4.2 Load constituents for FI and EQ reference portfolios\n",
    "We now create Index constituents for the time period in consideration for each of the reference portfolios.\n",
    "\n",
    "These constituents should not overlap (i.e. be on the same instrument) with any existing constituents."
   ]
  },
  {
   "cell_type": "code",
   "execution_count": null,
   "id": "53b43fac-65c2-41bd-83de-5980a1524f34",
   "metadata": {},
   "outputs": [],
   "source": [
    "# Add uk bond index constituents\n",
    "constituents = [\n",
    "    models.ReferencePortfolioConstituentRequest(\n",
    "        instrument_identifiers={\n",
    "            \"Instrument/default/Figi\": row[\"Figi\"]\n",
    "        },\n",
    "        weight=row[\"Weighting\"],\n",
    "        currency=\"GBP\",\n",
    "    ) for _, row in uk_bonds.iterrows()\n",
    "]\n",
    "\n",
    "# Create our request to add our constituents\n",
    "constituents_request = models.UpsertReferencePortfolioConstituentsRequest(\n",
    "    effective_from=start_date,\n",
    "    weight_type=\"Periodical\",\n",
    "    period_type=\"Quarterly\",\n",
    "    period_count=1,\n",
    "    constituents=constituents,\n",
    ")\n",
    "\n",
    "# Call LUSID to upsert our constituents into our reference portfolio\n",
    "response = reference_portfolios_api.upsert_reference_portfolio_constituents(\n",
    "    scope=scope,\n",
    "    code=uk_bond_index,\n",
    "    upsert_reference_portfolio_constituents_request=constituents_request,\n",
    ")\n",
    "\n",
    "print(f\"Constituents Upserted for {uk_bond_index}\")"
   ]
  },
  {
   "cell_type": "code",
   "execution_count": null,
   "id": "8dc8ce5c-3721-4377-98bd-ff37649fda64",
   "metadata": {},
   "outputs": [],
   "source": [
    "# Add uk equity index constituents\n",
    "constituents = [\n",
    "    models.ReferencePortfolioConstituentRequest(\n",
    "        instrument_identifiers={\n",
    "            \"Instrument/default/Figi\": row[\"Figi\"]\n",
    "        },\n",
    "        weight=row[\"Weighting\"],\n",
    "        currency=\"GBP\",\n",
    "    ) for _, row in uk_stocks.iterrows()\n",
    "]\n",
    "\n",
    "# Create our request to add our constituents\n",
    "constituents_request = models.UpsertReferencePortfolioConstituentsRequest(\n",
    "    effective_from=start_date,\n",
    "    weight_type=\"Periodical\",\n",
    "    period_type=\"Quarterly\",\n",
    "    period_count=1,\n",
    "    constituents=constituents,\n",
    ")\n",
    "\n",
    "# Call LUSID to upsert our constituents into our reference portfolio\n",
    "response = reference_portfolios_api.upsert_reference_portfolio_constituents(\n",
    "    scope=scope,\n",
    "    code=uk_equity_index,\n",
    "    upsert_reference_portfolio_constituents_request=constituents_request,\n",
    ")\n",
    "\n",
    "print(f\"Constituents Upserted for {uk_equity_index}\")"
   ]
  },
  {
   "cell_type": "markdown",
   "id": "6e2c1528-7ca3-430a-a5ef-03359a123ca1",
   "metadata": {},
   "source": [
    "## 4.3 Load constituents for blended benchmark\n",
    "Now, we create a set of constituents for our blended benchmark reference portfolio. The blended portfolio is made up by 60% of the UK bond portfolio and 40% of the UK equity portfolio. So we wish to re distribute our portfolio holding to meet the specified weighing values. We also model the constituent rule to be applied periodically on a quaterly bases."
   ]
  },
  {
   "cell_type": "code",
   "execution_count": null,
   "id": "ec3b3f4f-01de-4dc3-8812-a52675683974",
   "metadata": {},
   "outputs": [],
   "source": [
    "weightings = [(uk_bond_index, 0.6), (uk_equity_index, 0.4)]"
   ]
  },
  {
   "cell_type": "code",
   "execution_count": null,
   "id": "6c045aef-f7ff-4d2e-a760-5e01855c1b6e",
   "metadata": {},
   "outputs": [],
   "source": [
    "# We specify quarterly rebalancing of the blended benchmark indexby specifying `weight_type` and `period_type` as shown. \n",
    "# The period count specifies how many `period_type` duration must pass before portfolio is rebalanced. \n",
    "# Additional details on reference portfolio constituents can be found in the following [KB Article](https://support.lusid.com/knowledgebase/article/KA-01852/en-us)\n",
    "\n",
    "# create reference portfolio constituents\n",
    "constituents = [\n",
    "    models.ReferencePortfolioConstituentRequest(\n",
    "        instrument_identifiers={\"Instrument/default/ClientInternal\": f\"inst_{port}\"},\n",
    "        weight=weighting,\n",
    "        currency=\"GBP\",\n",
    "    ) for port, weighting in weightings\n",
    "]\n",
    "\n",
    "# Create our request to add our constituents\n",
    "constituents_request = models.UpsertReferencePortfolioConstituentsRequest(\n",
    "    effective_from=start_date,\n",
    "    weight_type=\"Periodical\",\n",
    "    period_type=\"Quarterly\",\n",
    "    period_count=1,\n",
    "    constituents=constituents,\n",
    ")\n",
    "\n",
    "# Call LUSID to upsert our constituents into our reference portfolio\n",
    "response = reference_portfolios_api.upsert_reference_portfolio_constituents(\n",
    "    scope=scope,\n",
    "    code=uk_blended_index,\n",
    "    upsert_reference_portfolio_constituents_request=constituents_request,\n",
    ")\n",
    "\n",
    "print(f\"Constituents Upserted for {weightings[0][0]} and {weightings[1][0]}\")"
   ]
  },
  {
   "cell_type": "markdown",
   "id": "2675ac42-46ba-4722-86a7-10cf620ec25d",
   "metadata": {},
   "source": [
    "# 5. Upsert quotes\n",
    "We now load in the relevant market prices from 1st of Jan to 1st of Apr 2021."
   ]
  },
  {
   "cell_type": "code",
   "execution_count": null,
   "id": "89746502-ec59-440b-9738-8366cb7c959a",
   "metadata": {},
   "outputs": [],
   "source": [
    "# instruments_ids = [uk_bond_index, uk_equity_index, uk_blended_index]\n",
    "instruments_ids = [f\"inst_{code}\" for code in reference_portfolios]\n",
    "\n",
    "# Use dictionary comprehension to generate dictionary of Luids\n",
    "luids = {\n",
    "    instrument_id: instruments_api.get_instrument(\n",
    "        identifier_type=\"ClientInternal\",\n",
    "        identifier=instrument_id,\n",
    "        scope=scope,\n",
    "    ).lusid_instrument_id\n",
    "    for instrument_id in instruments_ids\n",
    "}"
   ]
  },
  {
   "cell_type": "code",
   "execution_count": null,
   "id": "54a48bac-1ca6-4162-b7a6-19903adfc0f0",
   "metadata": {},
   "outputs": [],
   "source": [
    "instrument_data = {\n",
    "    1: {\"date\": \"2021-01-01\", \"instrument\": uk_bond_index, \"price\": 100},\n",
    "    2: {\"date\": \"2021-01-31\", \"instrument\": uk_bond_index, \"price\": 130},\n",
    "    3: {\"date\": \"2021-03-31\", \"instrument\": uk_bond_index, \"price\": 129},\n",
    "    4: {\"date\": \"2021-04-01\", \"instrument\": uk_bond_index, \"price\": 136},\n",
    "    5: {\"date\": \"2021-01-01\", \"instrument\": uk_equity_index, \"price\": 100},\n",
    "    6: {\"date\": \"2021-01-31\", \"instrument\": uk_equity_index, \"price\": 80},\n",
    "    7: {\"date\": \"2021-03-31\", \"instrument\": uk_equity_index, \"price\": 90},\n",
    "    8: {\"date\": \"2021-04-01\", \"instrument\": uk_equity_index, \"price\": 86},\n",
    "}\n",
    "\n",
    "# Create quote requests\n",
    "instrument_quotes = {\n",
    "    f\"upsert_request_{key}\": models.UpsertQuoteRequest(\n",
    "        quote_id=models.QuoteId(\n",
    "            quote_series_id=models.QuoteSeriesId(\n",
    "                provider=\"Lusid\",\n",
    "                instrument_id=luids[f'inst_{data[\"instrument\"]}'],\n",
    "                instrument_id_type=\"LusidInstrumentId\",\n",
    "                quote_type=\"Price\",\n",
    "                field=\"mid\",\n",
    "            ),\n",
    "            effective_at=data[\"date\"],\n",
    "        ),\n",
    "        metric_value=models.MetricValue(value=data[\"price\"], unit=\"GBP\"),\n",
    "    ) for key, data in instrument_data.items()\n",
    "}\n",
    "\n",
    "# Upsert the quotes into LUSID\n",
    "response = quotes_api.upsert_quotes(scope=scope, request_body=instrument_quotes)"
   ]
  },
  {
   "cell_type": "markdown",
   "id": "726eab6e-feb1-4ea0-bec1-7ff2b596bb5d",
   "metadata": {},
   "source": [
    "# 6. Get blended index floating weight over timeline\n",
    "In this section, we track the benchmark weights across a Q1 timeline, with the floating weights resetting on 1 April.\n",
    "\n",
    "## 6.1 Get weights for 1 Jan\n",
    "On the 1 Jan, which is Day 1 for the portfolio, the fixed weight is equal to the floating weight"
   ]
  },
  {
   "cell_type": "code",
   "execution_count": null,
   "id": "85fbe1e3-86b8-44b7-a1bc-f3943d91e805",
   "metadata": {},
   "outputs": [],
   "source": [
    "get_constituents = reference_portfolios_api.get_reference_portfolio_constituents(\n",
    "    scope=scope,\n",
    "    code=uk_blended_index,\n",
    "    effective_at=\"2021-01-01\",\n",
    ")\n",
    "\n",
    "pd.DataFrame([flatten(item.to_dict()) for item in get_constituents.constituents])"
   ]
  },
  {
   "cell_type": "markdown",
   "id": "b05ed59c-7ebc-4b9d-9e80-3b3a579520d2",
   "metadata": {},
   "source": [
    "## 6.2 Get weights for 31 Jan\n",
    "The floating weights have moved as the underlying indicies have moved\n",
    "The bond portfolio has performed well, meaning the float weight has jumpted from 60% to ~ 70%\n",
    "The equity portfolio has not performed as well, meaning its floating weight has dropped to ~30%"
   ]
  },
  {
   "cell_type": "code",
   "execution_count": null,
   "id": "8be6bb36-b538-4256-a871-60ba933cfa21",
   "metadata": {},
   "outputs": [],
   "source": [
    "get_constituents = reference_portfolios_api.get_reference_portfolio_constituents(\n",
    "    scope=scope, \n",
    "    code=uk_blended_index, \n",
    "    effective_at=\"2021-01-31\",\n",
    ")\n",
    "\n",
    "pd.DataFrame([flatten(item.to_dict()) for item in get_constituents.constituents])"
   ]
  },
  {
   "cell_type": "markdown",
   "id": "602232da-0215-4702-843b-fba8c516b5a4",
   "metadata": {},
   "source": [
    "## 6.3 Get weights for 31 March\n",
    "The floating weights have continued to move"
   ]
  },
  {
   "cell_type": "code",
   "execution_count": null,
   "id": "c36d40c3-200f-4794-98f0-8e179e6015e6",
   "metadata": {},
   "outputs": [],
   "source": [
    "get_constituents = reference_portfolios_api.get_reference_portfolio_constituents(\n",
    "    scope=scope, \n",
    "    code=uk_blended_index, \n",
    "    effective_at=\"2021-03-31\",\n",
    ")\n",
    "\n",
    "pd.DataFrame([flatten(item.to_dict()) for item in get_constituents.constituents])"
   ]
  },
  {
   "cell_type": "markdown",
   "id": "bf4cb889-fc3c-4274-a8d5-d2e686f312d8",
   "metadata": {},
   "source": [
    "## 6.4 Weights are reset on 1 April\n",
    "On the 1 April, the weights are reset, and the weight and floating rate are equal. This is driven by the period type which we set to \"Quarterly\" in LUSID."
   ]
  },
  {
   "cell_type": "code",
   "execution_count": null,
   "id": "02c148dd-7536-42c9-a729-559fbda0be76",
   "metadata": {},
   "outputs": [],
   "source": [
    "get_constituents = reference_portfolios_api.get_reference_portfolio_constituents(\n",
    "    scope=scope, \n",
    "    code=uk_blended_index, \n",
    "    effective_at=\"2021-04-01\",\n",
    ")\n",
    "\n",
    "pd.DataFrame([flatten(item.to_dict()) for item in get_constituents.constituents])"
   ]
  },
  {
   "cell_type": "markdown",
   "id": "83fe5aa0-1452-4b61-82ee-6dda2ae57c10",
   "metadata": {},
   "source": [
    "# Produce Look-through recipe"
   ]
  },
  {
   "cell_type": "code",
   "execution_count": null,
   "id": "5d19c381-e840-4114-898f-1f8ded84c9eb",
   "metadata": {},
   "outputs": [],
   "source": [
    "# Create look-through-enabled recipe\n",
    "lookthrough_config_recipe = models.ConfigurationRecipe(\n",
    "    scope=scope,\n",
    "    code=\"lookthrough\",\n",
    "    market=models.MarketContext(\n",
    "        market_rules=[\n",
    "            models.MarketDataKeyRule(\n",
    "                key=\"Quote.*.*\",\n",
    "                supplier=\"Lusid\",\n",
    "                data_scope=scope,\n",
    "                quote_type=\"Price\",\n",
    "                field=\"mid\",\n",
    "            ),\n",
    "            models.MarketDataKeyRule(\n",
    "                key=\"FX.CurrencyPair.*\",\n",
    "                supplier=\"Lusid\",\n",
    "                data_scope=scope,\n",
    "                quote_type=\"Rate\",\n",
    "                field=\"mid\",\n",
    "            ),\n",
    "        ],\n",
    "        options=models.MarketOptions(\n",
    "            default_supplier=\"Lusid\",\n",
    "            default_instrument_code_type=\"ClientInternal\",\n",
    "            default_scope=scope,\n",
    "            attempt_to_infer_missing_fx=True,\n",
    "        ),\n",
    "    ),\n",
    "    pricing=models.PricingContext(\n",
    "        options={\"AllowPartiallySuccessfulEvaluation\": False},\n",
    "        # toggle look through\n",
    "        model_rules=[\n",
    "            models.VendorModelRule(\n",
    "                supplier=\"Lusid\",\n",
    "                model_name=\"SimpleStatic\",\n",
    "                instrument_type=\"SimpleInstrument\",\n",
    "                model_options=models.IndexModelOptions(portfolio_scaling=\"Sum\", model_options_type=\"IndexModelOptions\"),\n",
    "            )\n",
    "        ],\n",
    "    ),\n",
    ")\n",
    "\n",
    "upsert_configuration_recipe_response = (\n",
    "    configuration_recipe_api.upsert_configuration_recipe(\n",
    "        upsert_recipe_request=models.UpsertRecipeRequest(\n",
    "            configuration_recipe=lookthrough_config_recipe\n",
    "        )\n",
    "    )\n",
    ")"
   ]
  },
  {
   "cell_type": "markdown",
   "id": "563ab32d-7b12-4a5e-9945-365570563184",
   "metadata": {},
   "source": [
    "# Get Valuation"
   ]
  },
  {
   "cell_type": "code",
   "execution_count": null,
   "id": "af0f4e5c-c633-49f7-8b4b-13e3718a27f6",
   "metadata": {},
   "outputs": [],
   "source": [
    "recipe_scope = \"ukIBOR\"\n",
    "recipe_code = \"lookthrough\"\n",
    "\n",
    "portfolio_scope = \"ukIBOR\"\n",
    "\n",
    "# portfolio_code = uk_bond_index\n",
    "# portfolio_code = uk_equity_index\n",
    "portfolio_code = uk_blended_index\n",
    "\n",
    "valuation_request = models.ValuationRequest(\n",
    "    recipe_id={\"scope\":recipe_scope,\"code\":recipe_code},\n",
    "    metrics=[{\"key\":\"Instrument/default/Name\",\"op\":\"Value\",\"options\":{}},\n",
    "             {\"key\":\"Instrument/default/LusidInstrumentId\",\"op\":\"Value\",\"options\":{}},\n",
    "             {\"key\":\"Valuation/PV\",\"op\":\"Value\",\"options\":{}},\n",
    "             {\"key\":\"Lookthrough/LookthroughWeight\",\"op\":\"Value\",\"options\":{}}\n",
    "             # {\"key\":\"Aggregation/GrossExposureWeight\",\"op\":\"Value\",\"options\":{}},\n",
    "             # {\"key\":\"Aggregation/NetExposureWeight\",\"op\":\"Value\",\"options\":{}}\n",
    "            ],\n",
    "    group_by=[\"Instrument/default/Name\"],\n",
    "    report_currency=\"GBP\",\n",
    "    equip_with_subtotals=False,\n",
    "    return_result_as_expanded_types=False,\n",
    "    portfolio_entity_ids=[{\"scope\":portfolio_scope,\"code\":portfolio_code,\"portfolioEntityType\":\"SinglePortfolio\"}],\n",
    "    valuation_schedule={\n",
    "                          \"effectiveAt\":\"2024-05-22T00:00:00.0000000+00:00\",\n",
    "                          \"tenor\":\"1D\",\"rollConvention\":\"None\",\n",
    "                          \"holidayCalendars\":[],\n",
    "                          \"valuationDateTimes\":[],\n",
    "                          \"businessDayConvention\":\"F\"})\n",
    "\n",
    "try:\n",
    "    # GetValuation: Perform valuation for a list of portfolios and/or portfolio groups\n",
    "    api_response = aggregation_api.get_valuation(valuation_request=valuation_request)\n",
    "    pprint.pprint(api_response)\n",
    "except Exception as e:\n",
    "    print(\"Exception when calling AggregationApi->get_valuation: %s\\n\" % e)\n"
   ]
  },
  {
   "cell_type": "code",
   "execution_count": null,
   "id": "cab4e116-5333-425e-9304-f41470baab7b",
   "metadata": {},
   "outputs": [],
   "source": []
  }
 ],
 "metadata": {
  "kernelspec": {
   "display_name": "Python (SDK v1)",
   "language": "python",
   "name": "v1sdkenv"
  },
  "language_info": {
   "codemirror_mode": {
    "name": "ipython",
    "version": 3
   },
   "file_extension": ".py",
   "mimetype": "text/x-python",
   "name": "python",
   "nbconvert_exporter": "python",
   "pygments_lexer": "ipython3",
   "version": "3.11.5"
  }
 },
 "nbformat": 4,
 "nbformat_minor": 5
}
