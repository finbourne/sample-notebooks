{
 "cells": [
  {
   "cell_type": "code",
   "execution_count": 1,
   "metadata": {},
   "outputs": [
    {
     "data": {
      "text/html": [
       "\n",
       "    <form action=\"javascript:code_toggle()\"><input type=\"submit\" id=\"toggleButton\" value=\"Toggle Docstring\"></form>\n",
       "    \n",
       "         <script>\n",
       "         function code_toggle() {\n",
       "             if ($('div.cell.code_cell.rendered.selected div.input').css('display')!='none'){\n",
       "                 $('div.cell.code_cell.rendered.selected div.input').hide();\n",
       "             } else {\n",
       "                 $('div.cell.code_cell.rendered.selected div.input').show();\n",
       "             }\n",
       "         }\n",
       "         </script>\n",
       "\n",
       "     "
      ],
      "text/plain": [
       "<IPython.core.display.HTML object>"
      ]
     },
     "metadata": {},
     "output_type": "display_data"
    }
   ],
   "source": [
    "from lusidtools.jupyter_tools import toggle_code\n",
    "\n",
    "\"\"\"Setting up a blended benchmark\n",
    "\n",
    "Demonstration of how to load a blended benchmark. \n",
    "We also show how floating weights with a periodic reset.\n",
    "\n",
    "Attributes\n",
    "----------\n",
    "Reference portfolios\n",
    "Securitised portfolios\n",
    "Weights\n",
    "Floating weights\n",
    "\"\"\"\n",
    "\n",
    "toggle_code(\"Toggle Docstring\")"
   ]
  },
  {
   "cell_type": "markdown",
   "metadata": {},
   "source": [
    "# 1. Setup"
   ]
  },
  {
   "cell_type": "code",
   "execution_count": 2,
   "metadata": {},
   "outputs": [
    {
     "data": {
      "text/html": [
       "<div>\n",
       "<style scoped>\n",
       "    .dataframe tbody tr th:only-of-type {\n",
       "        vertical-align: middle;\n",
       "    }\n",
       "\n",
       "    .dataframe tbody tr th {\n",
       "        vertical-align: top;\n",
       "    }\n",
       "\n",
       "    .dataframe thead th {\n",
       "        text-align: right;\n",
       "    }\n",
       "</style>\n",
       "<table border=\"1\" class=\"dataframe\">\n",
       "  <thead>\n",
       "    <tr style=\"text-align: right;\">\n",
       "      <th></th>\n",
       "      <th>api_version</th>\n",
       "      <th>build_version</th>\n",
       "      <th>excel_version</th>\n",
       "      <th>links</th>\n",
       "    </tr>\n",
       "  </thead>\n",
       "  <tbody>\n",
       "    <tr>\n",
       "      <th>0</th>\n",
       "      <td>v0</td>\n",
       "      <td>0.6.7274.0</td>\n",
       "      <td>0.5.2222</td>\n",
       "      <td>{'relation': 'Re...</td>\n",
       "    </tr>\n",
       "  </tbody>\n",
       "</table>\n",
       "</div>"
      ],
      "text/plain": [
       "  api_version build_version excel_version                links\n",
       "0          v0    0.6.7274.0      0.5.2222  {'relation': 'Re..."
      ]
     },
     "metadata": {},
     "output_type": "display_data"
    }
   ],
   "source": [
    "# Import general purpose packages\n",
    "import os\n",
    "import json\n",
    "import pandas as pd\n",
    "import numpy as np\n",
    "import datetime\n",
    "import pytz\n",
    "import warnings\n",
    "\n",
    "warnings.filterwarnings(\"ignore\", module=\"matplotlib*\")\n",
    "\n",
    "import matplotlib.pyplot as plt\n",
    "\n",
    "from datetime import datetime, timedelta\n",
    "from pandas import json_normalize\n",
    "from flatten_json import flatten\n",
    "\n",
    "# Import lusid specific packages\n",
    "import lusid\n",
    "import lusid.models as models\n",
    "from lusidtools.cocoon.cocoon import load_from_data_frame\n",
    "\n",
    "from lusid.utilities import ApiClientFactory\n",
    "from lusidjam.refreshing_token import RefreshingToken\n",
    "\n",
    "# Set display configuration\n",
    "pd.set_option(\"display.max_columns\", None)\n",
    "pd.set_option(\"display.float_format\", lambda x: \"%.5f\" % x)\n",
    "pd.set_option(\"display.max_rows\", 3500)\n",
    "pd.set_option(\"max_colwidth\", 20)\n",
    "\n",
    "# Use line magic function to enable matplotlib to work interactively with iPython\n",
    "%matplotlib inline\n",
    "\n",
    "# Set style to fivethirtyeight to create clean and clear looking graphs\n",
    "plt.style.use(\"fivethirtyeight\")\n",
    "\n",
    "# Define a dictionary containing default plotting configurations\n",
    "params = {\n",
    "    \"legend.fontsize\": \"small\",\n",
    "    \"figure.figsize\": (12, 4.5),\n",
    "    \"axes.labelsize\": \"small\",\n",
    "    \"axes.titlesize\": \"medium\",\n",
    "    \"xtick.labelsize\": \"small\",\n",
    "    \"ytick.labelsize\": \"small\",\n",
    "}\n",
    "\n",
    "plt.rcParams.update(params)\n",
    "\n",
    "# Authenticate our user and create our API client\n",
    "secrets_path = os.getenv(\"FBN_SECRETS_PATH\")\n",
    "\n",
    "# Initiate an API Factory which is the client side object for interacting with LUSID APIs\n",
    "api_factory = lusid.utilities.ApiClientFactory(\n",
    "    token=RefreshingToken(),\n",
    "    api_secrets_filename=secrets_path,\n",
    "    app_name=\"LusidJupyterNotebook\",\n",
    ")\n",
    "\n",
    "api_status = pd.DataFrame(\n",
    "    api_factory.build(lusid.api.ApplicationMetadataApi).get_lusid_versions().to_dict()\n",
    ")\n",
    "\n",
    "display(api_status)\n",
    "\n",
    "# %load_ext lab_black\n",
    "# %load_ext nb_black"
   ]
  },
  {
   "cell_type": "code",
   "execution_count": 3,
   "metadata": {},
   "outputs": [],
   "source": [
    "# Define a scope to hold data\n",
    "\n",
    "scope = \"ukIBOR\"\n",
    "start_date = \"2021-01-01\""
   ]
  },
  {
   "cell_type": "code",
   "execution_count": 4,
   "metadata": {},
   "outputs": [],
   "source": [
    "# Define the APIs we use\n",
    "\n",
    "reference_portfolios_api = api_factory.build(lusid.api.ReferencePortfolioApi)\n",
    "instruments_api = api_factory.build(lusid.api.InstrumentsApi)\n",
    "quotes_api = api_factory.build(lusid.api.QuotesApi)"
   ]
  },
  {
   "cell_type": "markdown",
   "metadata": {},
   "source": [
    "# 2. Load instrument master\n",
    "\n",
    "## 2.1 Load the equity instruments"
   ]
  },
  {
   "cell_type": "code",
   "execution_count": 5,
   "metadata": {},
   "outputs": [
    {
     "data": {
      "text/html": [
       "<div>\n",
       "<style scoped>\n",
       "    .dataframe tbody tr th:only-of-type {\n",
       "        vertical-align: middle;\n",
       "    }\n",
       "\n",
       "    .dataframe tbody tr th {\n",
       "        vertical-align: top;\n",
       "    }\n",
       "\n",
       "    .dataframe thead th {\n",
       "        text-align: right;\n",
       "    }\n",
       "</style>\n",
       "<table border=\"1\" class=\"dataframe\">\n",
       "  <thead>\n",
       "    <tr style=\"text-align: right;\">\n",
       "      <th></th>\n",
       "      <th>Ticker</th>\n",
       "      <th>Name</th>\n",
       "      <th>Sector</th>\n",
       "      <th>ISIN</th>\n",
       "      <th>SEDOL</th>\n",
       "      <th>Weighting</th>\n",
       "    </tr>\n",
       "  </thead>\n",
       "  <tbody>\n",
       "    <tr>\n",
       "      <th>0</th>\n",
       "      <td>III LN</td>\n",
       "      <td>3i</td>\n",
       "      <td>Financial Services</td>\n",
       "      <td>GB00B1YW4409</td>\n",
       "      <td>B1YW440</td>\n",
       "      <td>0.04000</td>\n",
       "    </tr>\n",
       "    <tr>\n",
       "      <th>1</th>\n",
       "      <td>BKG LN</td>\n",
       "      <td>Berkeley Group H...</td>\n",
       "      <td>Household Goods ...</td>\n",
       "      <td>GB00B02L3W35</td>\n",
       "      <td>B02L3W3</td>\n",
       "      <td>0.04000</td>\n",
       "    </tr>\n",
       "    <tr>\n",
       "      <th>2</th>\n",
       "      <td>BATS LN</td>\n",
       "      <td>British American...</td>\n",
       "      <td>Tobacco</td>\n",
       "      <td>GB0002875804</td>\n",
       "      <td>287580</td>\n",
       "      <td>0.04000</td>\n",
       "    </tr>\n",
       "  </tbody>\n",
       "</table>\n",
       "</div>"
      ],
      "text/plain": [
       "    Ticker                 Name               Sector          ISIN    SEDOL  \\\n",
       "0   III LN                   3i   Financial Services  GB00B1YW4409  B1YW440   \n",
       "1   BKG LN  Berkeley Group H...  Household Goods ...  GB00B02L3W35  B02L3W3   \n",
       "2  BATS LN  British American...              Tobacco  GB0002875804   287580   \n",
       "\n",
       "   Weighting  \n",
       "0    0.04000  \n",
       "1    0.04000  \n",
       "2    0.04000  "
      ]
     },
     "execution_count": 5,
     "metadata": {},
     "output_type": "execute_result"
    }
   ],
   "source": [
    "uk_stocks = pd.read_csv(\"data/benchmark/uk-stocks.csv\")\n",
    "uk_stocks.head(3)"
   ]
  },
  {
   "cell_type": "code",
   "execution_count": 6,
   "metadata": {},
   "outputs": [],
   "source": [
    "# Load the instruments into LUSID\n",
    "\n",
    "instrument_identifier_mapping = {\n",
    "    \"ClientInternal\": \"Ticker\",\n",
    "    \"Isin\": \"ISIN\",\n",
    "    \"Sedol\": \"SEDOL\",\n",
    "}\n",
    "\n",
    "instrument_mapping_required = {\"name\": \"Name\"}\n",
    "\n",
    "instrument_mapping_optional = {}\n",
    "\n",
    "responses = load_from_data_frame(\n",
    "    api_factory=api_factory,\n",
    "    scope=scope,\n",
    "    data_frame=uk_stocks,\n",
    "    mapping_required=instrument_mapping_required,\n",
    "    mapping_optional=instrument_mapping_optional,\n",
    "    file_type=\"instrument\",\n",
    "    identifier_mapping=instrument_identifier_mapping,\n",
    "    property_columns=[\"Sector\"],\n",
    ")"
   ]
  },
  {
   "cell_type": "markdown",
   "metadata": {},
   "source": [
    "## 2.2 Load the FI instruments"
   ]
  },
  {
   "cell_type": "code",
   "execution_count": 7,
   "metadata": {},
   "outputs": [
    {
     "data": {
      "text/html": [
       "<div>\n",
       "<style scoped>\n",
       "    .dataframe tbody tr th:only-of-type {\n",
       "        vertical-align: middle;\n",
       "    }\n",
       "\n",
       "    .dataframe tbody tr th {\n",
       "        vertical-align: top;\n",
       "    }\n",
       "\n",
       "    .dataframe thead th {\n",
       "        text-align: right;\n",
       "    }\n",
       "</style>\n",
       "<table border=\"1\" class=\"dataframe\">\n",
       "  <thead>\n",
       "    <tr style=\"text-align: right;\">\n",
       "      <th></th>\n",
       "      <th>ISIN</th>\n",
       "      <th>Name</th>\n",
       "      <th>Sector</th>\n",
       "      <th>Weighting</th>\n",
       "    </tr>\n",
       "  </thead>\n",
       "  <tbody>\n",
       "    <tr>\n",
       "      <th>0</th>\n",
       "      <td>GB00BNNGP668</td>\n",
       "      <td>UKT 0 ⅜ 10/22/26</td>\n",
       "      <td>Government Bond</td>\n",
       "      <td>0.05000</td>\n",
       "    </tr>\n",
       "    <tr>\n",
       "      <th>1</th>\n",
       "      <td>GB00BNNGP775</td>\n",
       "      <td>UKT 0 ⅞ 01/31/46</td>\n",
       "      <td>Government Bond</td>\n",
       "      <td>0.10000</td>\n",
       "    </tr>\n",
       "    <tr>\n",
       "      <th>2</th>\n",
       "      <td>GB00BMBL1F74</td>\n",
       "      <td>UKT 0 ⅝ 10/22/50</td>\n",
       "      <td>Government Bond</td>\n",
       "      <td>0.15000</td>\n",
       "    </tr>\n",
       "  </tbody>\n",
       "</table>\n",
       "</div>"
      ],
      "text/plain": [
       "           ISIN              Name           Sector  Weighting\n",
       "0  GB00BNNGP668  UKT 0 ⅜ 10/22/26  Government Bond    0.05000\n",
       "1  GB00BNNGP775  UKT 0 ⅞ 01/31/46  Government Bond    0.10000\n",
       "2  GB00BMBL1F74  UKT 0 ⅝ 10/22/50  Government Bond    0.15000"
      ]
     },
     "execution_count": 7,
     "metadata": {},
     "output_type": "execute_result"
    }
   ],
   "source": [
    "uk_bonds = pd.read_csv(\"data/benchmark/uk-bonds.csv\")\n",
    "uk_bonds.head(3)"
   ]
  },
  {
   "cell_type": "code",
   "execution_count": 8,
   "metadata": {},
   "outputs": [],
   "source": [
    "# Load the instruments into LUSID\n",
    "\n",
    "instrument_identifier_mapping = {\n",
    "    \"ClientInternal\": \"ISIN\",\n",
    "    \"Isin\": \"ISIN\",\n",
    "}\n",
    "\n",
    "instrument_mapping_required = {\"name\": \"Name\"}\n",
    "\n",
    "instrument_mapping_optional = {}\n",
    "\n",
    "responses = load_from_data_frame(\n",
    "    api_factory=api_factory,\n",
    "    scope=scope,\n",
    "    data_frame=uk_bonds,\n",
    "    mapping_required=instrument_mapping_required,\n",
    "    mapping_optional=instrument_mapping_optional,\n",
    "    file_type=\"instrument\",\n",
    "    identifier_mapping=instrument_identifier_mapping,\n",
    "    property_columns=[\"Sector\"],\n",
    ")"
   ]
  },
  {
   "cell_type": "markdown",
   "metadata": {},
   "source": [
    "# 3. Create reference portfolios"
   ]
  },
  {
   "cell_type": "code",
   "execution_count": 9,
   "metadata": {},
   "outputs": [],
   "source": [
    "uk_bond_index = \"uKBondIndex\"\n",
    "uk_equity_index = \"uKEquityIndex\"\n",
    "uk_blended_index = \"ukBlendedIndex\""
   ]
  },
  {
   "cell_type": "code",
   "execution_count": 10,
   "metadata": {},
   "outputs": [],
   "source": [
    "reference_portfolios = [uk_bond_index, uk_equity_index, uk_blended_index]"
   ]
  },
  {
   "cell_type": "code",
   "execution_count": 11,
   "metadata": {},
   "outputs": [],
   "source": [
    "for portfolio in reference_portfolios:\n",
    "\n",
    "    try:\n",
    "\n",
    "        response = reference_portfolios_api.create_reference_portfolio(\n",
    "            scope=scope,\n",
    "            create_reference_portfolio_request=models.CreateReferencePortfolioRequest(\n",
    "                display_name=portfolio, code=portfolio, created=\"2010-01-01\"\n",
    "            ),\n",
    "        )\n",
    "\n",
    "    except lusid.ApiException as e:\n",
    "        print(json.loads(e.body)[\"title\"])"
   ]
  },
  {
   "cell_type": "markdown",
   "metadata": {},
   "source": [
    "# 4. Securitise the reference portfolios"
   ]
  },
  {
   "cell_type": "code",
   "execution_count": 12,
   "metadata": {},
   "outputs": [],
   "source": [
    "for portfolio in reference_portfolios:\n",
    "\n",
    "    response = instruments_api.upsert_instruments(\n",
    "        request_body={\n",
    "            \"upsert_instrument\": models.InstrumentDefinition(\n",
    "                name=portfolio,\n",
    "                identifiers={\n",
    "                    \"ClientInternal\": models.InstrumentIdValue(value=portfolio)\n",
    "                },\n",
    "                look_through_portfolio_id=models.ResourceId(\n",
    "                    scope=scope, code=portfolio\n",
    "                ),\n",
    "            )\n",
    "        }\n",
    "    )"
   ]
  },
  {
   "cell_type": "markdown",
   "metadata": {},
   "source": [
    "# 5. Load constituents\n",
    "\n",
    "## 5.1 Load constituents for FI and EQ reference portfolios"
   ]
  },
  {
   "cell_type": "code",
   "execution_count": 13,
   "metadata": {},
   "outputs": [
    {
     "name": "stdout",
     "output_type": "stream",
     "text": [
      "Constituents Upserted for uKBondIndex\n",
      "Constituents Upserted for uKEquityIndex\n"
     ]
    }
   ],
   "source": [
    "for portfolio, df, instrument_id in [\n",
    "    (uk_bond_index, uk_bonds, \"ISIN\"),\n",
    "    (uk_equity_index, uk_stocks, \"Ticker\"),\n",
    "]:\n",
    "\n",
    "    # Initialise a list to hold our constituents\n",
    "    constituents = []\n",
    "\n",
    "    # Iterate over instrument unvierse to add each constituent to our list\n",
    "    for _, row in df.iterrows():\n",
    "        constituents.append(\n",
    "            models.ReferencePortfolioConstituentRequest(\n",
    "                instrument_identifiers={\n",
    "                    \"Instrument/default/ClientInternal\": row[instrument_id]\n",
    "                },\n",
    "                weight=row[\"Weighting\"],\n",
    "                currency=\"GBP\",\n",
    "            )\n",
    "        )\n",
    "\n",
    "    # Create our request to add our constituents\n",
    "    constituents_request = models.UpsertReferencePortfolioConstituentsRequest(\n",
    "        effective_from=start_date,\n",
    "        weight_type=\"Periodical\",\n",
    "        period_type=\"Quarterly\",\n",
    "        period_count=1,\n",
    "        constituents=constituents,\n",
    "    )\n",
    "\n",
    "    # Call LUSID to upsert our constituents into our reference portfolio\n",
    "    response = api_factory.build(\n",
    "        lusid.api.ReferencePortfolioApi\n",
    "    ).upsert_reference_portfolio_constituents(\n",
    "        scope=scope,\n",
    "        code=portfolio,\n",
    "        upsert_reference_portfolio_constituents_request=constituents_request,\n",
    "    )\n",
    "\n",
    "    print(f\"Constituents Upserted for {portfolio}\")"
   ]
  },
  {
   "cell_type": "markdown",
   "metadata": {},
   "source": [
    "## 5.2 Load constituents for blended benchmark"
   ]
  },
  {
   "cell_type": "code",
   "execution_count": 14,
   "metadata": {},
   "outputs": [],
   "source": [
    "weightings = [(uk_bond_index, 0.6), (uk_equity_index, 0.4)]"
   ]
  },
  {
   "cell_type": "code",
   "execution_count": 15,
   "metadata": {},
   "outputs": [
    {
     "name": "stdout",
     "output_type": "stream",
     "text": [
      "Constituents Upserted for uKEquityIndex\n"
     ]
    }
   ],
   "source": [
    "# Initialise a list to hold our constituents\n",
    "constituents = []\n",
    "\n",
    "# Iterate over instrument unvierse to add each constituent to our list\n",
    "for port, weighting in weightings:\n",
    "    constituents.append(\n",
    "        models.ReferencePortfolioConstituentRequest(\n",
    "            instrument_identifiers={\"Instrument/default/ClientInternal\": port},\n",
    "            weight=weighting,\n",
    "            currency=\"GBP\",\n",
    "        )\n",
    "    )\n",
    "\n",
    "# Create our request to add our constituents\n",
    "constituents_request = models.UpsertReferencePortfolioConstituentsRequest(\n",
    "    effective_from=start_date,\n",
    "    weight_type=\"Periodical\",\n",
    "    period_type=\"Quarterly\",\n",
    "    period_count=1,\n",
    "    constituents=constituents,\n",
    ")\n",
    "\n",
    "# Call LUSID to upsert our constituents into our reference portfolio\n",
    "response = api_factory.build(\n",
    "    lusid.api.ReferencePortfolioApi\n",
    ").upsert_reference_portfolio_constituents(\n",
    "    scope=scope,\n",
    "    code=uk_blended_index,\n",
    "    upsert_reference_portfolio_constituents_request=constituents_request,\n",
    ")\n",
    "\n",
    "print(f\"Constituents Upserted for {portfolio}\")"
   ]
  },
  {
   "cell_type": "markdown",
   "metadata": {},
   "source": [
    "# 6. Upsert quotes"
   ]
  },
  {
   "cell_type": "code",
   "execution_count": 16,
   "metadata": {},
   "outputs": [],
   "source": [
    "luids = {}\n",
    "\n",
    "for instrument_id in [uk_bond_index, uk_equity_index]:\n",
    "\n",
    "    get_luid = instruments_api.get_instrument(\n",
    "        identifier_type=\"ClientInternal\", identifier=instrument_id\n",
    "    ).lusid_instrument_id\n",
    "\n",
    "    luids[instrument_id] = get_luid"
   ]
  },
  {
   "cell_type": "code",
   "execution_count": 17,
   "metadata": {},
   "outputs": [],
   "source": [
    "for date, instrument, price in [\n",
    "    (\"2021-01-01\", uk_bond_index, 100),\n",
    "    (\"2021-01-31\", uk_bond_index, 130),\n",
    "    (\"2021-03-31\", uk_bond_index, 129),\n",
    "    (\"2021-04-01\", uk_bond_index, 136),\n",
    "    (\"2021-01-01\", uk_equity_index, 100),\n",
    "    (\"2021-01-31\", uk_equity_index, 80),\n",
    "    (\"2021-03-31\", uk_equity_index, 90),\n",
    "    (\"2021-04-01\", uk_equity_index, 86),\n",
    "]:\n",
    "\n",
    "    # Create quote requests\n",
    "    instrument_quotes = {\n",
    "        \"upsert_request_1\": models.UpsertQuoteRequest(\n",
    "            quote_id=models.QuoteId(\n",
    "                quote_series_id=models.QuoteSeriesId(\n",
    "                    provider=\"Lusid\",\n",
    "                    instrument_id=luids[instrument],\n",
    "                    instrument_id_type=\"LusidInstrumentId\",\n",
    "                    quote_type=\"Price\",\n",
    "                    field=\"mid\",\n",
    "                ),\n",
    "                effective_at=date,\n",
    "            ),\n",
    "            metric_value=models.MetricValue(value=price, unit=\"GBP\"),\n",
    "        )\n",
    "    }\n",
    "\n",
    "    # Upsert the quotes into LUSID\n",
    "    response = quotes_api.upsert_quotes(scope=scope, request_body=instrument_quotes)"
   ]
  },
  {
   "cell_type": "markdown",
   "metadata": {},
   "source": [
    "# 7. Get blended index floating weight over timeline\n",
    "\n",
    "In this section, we track the benchmark weights across a Q1 timeline, with the floating weights resetting on 1 April.\n",
    "\n",
    "# 7.1 Get weights for 1 Jan\n",
    "\n",
    "* On the 1 Jan, which is Day 1 for the portfolio, the fixed weight is equal to the floating weight"
   ]
  },
  {
   "cell_type": "code",
   "execution_count": 18,
   "metadata": {},
   "outputs": [
    {
     "data": {
      "text/html": [
       "<div>\n",
       "<style scoped>\n",
       "    .dataframe tbody tr th:only-of-type {\n",
       "        vertical-align: middle;\n",
       "    }\n",
       "\n",
       "    .dataframe tbody tr th {\n",
       "        vertical-align: top;\n",
       "    }\n",
       "\n",
       "    .dataframe thead th {\n",
       "        text-align: right;\n",
       "    }\n",
       "</style>\n",
       "<table border=\"1\" class=\"dataframe\">\n",
       "  <thead>\n",
       "    <tr style=\"text-align: right;\">\n",
       "      <th></th>\n",
       "      <th>instrument_identifiers_Instrument/default/ClientInternal</th>\n",
       "      <th>instrument_uid</th>\n",
       "      <th>currency</th>\n",
       "      <th>properties</th>\n",
       "      <th>weight</th>\n",
       "      <th>floating_weight</th>\n",
       "    </tr>\n",
       "  </thead>\n",
       "  <tbody>\n",
       "    <tr>\n",
       "      <th>0</th>\n",
       "      <td>uKBondIndex</td>\n",
       "      <td>LUID_HQ605RXU</td>\n",
       "      <td>GBP</td>\n",
       "      <td>{}</td>\n",
       "      <td>0.60000</td>\n",
       "      <td>0.60000</td>\n",
       "    </tr>\n",
       "    <tr>\n",
       "      <th>1</th>\n",
       "      <td>uKEquityIndex</td>\n",
       "      <td>LUID_VPAOW273</td>\n",
       "      <td>GBP</td>\n",
       "      <td>{}</td>\n",
       "      <td>0.40000</td>\n",
       "      <td>0.40000</td>\n",
       "    </tr>\n",
       "  </tbody>\n",
       "</table>\n",
       "</div>"
      ],
      "text/plain": [
       "  instrument_identifiers_Instrument/default/ClientInternal instrument_uid  \\\n",
       "0          uKBondIndex                                      LUID_HQ605RXU   \n",
       "1        uKEquityIndex                                      LUID_VPAOW273   \n",
       "\n",
       "  currency properties  weight  floating_weight  \n",
       "0      GBP         {} 0.60000          0.60000  \n",
       "1      GBP         {} 0.40000          0.40000  "
      ]
     },
     "execution_count": 18,
     "metadata": {},
     "output_type": "execute_result"
    }
   ],
   "source": [
    "get_constituents = reference_portfolios_api.get_reference_portfolio_constituents(\n",
    "    scope=scope, code=uk_blended_index, effective_at=\"2021-01-01\"\n",
    ")\n",
    "\n",
    "pd.DataFrame([flatten(item.to_dict()) for item in get_constituents.constituents])"
   ]
  },
  {
   "cell_type": "markdown",
   "metadata": {},
   "source": [
    "## 7.2 Get weights for 31 Jan\n",
    "\n",
    "* The floating weights have moved as the underlying indicies have moved\n",
    "    * The bond portfolio has performed well, meaning the float weight has jumpted from 60% to ~ 70%\n",
    "    * The equity portfolio has not performed as well, meaning its floating weight has dropped to ~30%"
   ]
  },
  {
   "cell_type": "code",
   "execution_count": 19,
   "metadata": {},
   "outputs": [
    {
     "data": {
      "text/html": [
       "<div>\n",
       "<style scoped>\n",
       "    .dataframe tbody tr th:only-of-type {\n",
       "        vertical-align: middle;\n",
       "    }\n",
       "\n",
       "    .dataframe tbody tr th {\n",
       "        vertical-align: top;\n",
       "    }\n",
       "\n",
       "    .dataframe thead th {\n",
       "        text-align: right;\n",
       "    }\n",
       "</style>\n",
       "<table border=\"1\" class=\"dataframe\">\n",
       "  <thead>\n",
       "    <tr style=\"text-align: right;\">\n",
       "      <th></th>\n",
       "      <th>instrument_identifiers_Instrument/default/ClientInternal</th>\n",
       "      <th>instrument_uid</th>\n",
       "      <th>currency</th>\n",
       "      <th>properties</th>\n",
       "      <th>weight</th>\n",
       "      <th>floating_weight</th>\n",
       "    </tr>\n",
       "  </thead>\n",
       "  <tbody>\n",
       "    <tr>\n",
       "      <th>0</th>\n",
       "      <td>uKBondIndex</td>\n",
       "      <td>LUID_HQ605RXU</td>\n",
       "      <td>GBP</td>\n",
       "      <td>{}</td>\n",
       "      <td>0.60000</td>\n",
       "      <td>0.70909</td>\n",
       "    </tr>\n",
       "    <tr>\n",
       "      <th>1</th>\n",
       "      <td>uKEquityIndex</td>\n",
       "      <td>LUID_VPAOW273</td>\n",
       "      <td>GBP</td>\n",
       "      <td>{}</td>\n",
       "      <td>0.40000</td>\n",
       "      <td>0.29091</td>\n",
       "    </tr>\n",
       "  </tbody>\n",
       "</table>\n",
       "</div>"
      ],
      "text/plain": [
       "  instrument_identifiers_Instrument/default/ClientInternal instrument_uid  \\\n",
       "0          uKBondIndex                                      LUID_HQ605RXU   \n",
       "1        uKEquityIndex                                      LUID_VPAOW273   \n",
       "\n",
       "  currency properties  weight  floating_weight  \n",
       "0      GBP         {} 0.60000          0.70909  \n",
       "1      GBP         {} 0.40000          0.29091  "
      ]
     },
     "execution_count": 19,
     "metadata": {},
     "output_type": "execute_result"
    }
   ],
   "source": [
    "get_constituents = reference_portfolios_api.get_reference_portfolio_constituents(\n",
    "    scope=scope, code=uk_blended_index, effective_at=\"2021-01-31\"\n",
    ")\n",
    "\n",
    "pd.DataFrame([flatten(item.to_dict()) for item in get_constituents.constituents])"
   ]
  },
  {
   "cell_type": "markdown",
   "metadata": {},
   "source": [
    "## 7.3 Get weights for 31 March\n",
    "\n",
    "* The floating weights have continued to move"
   ]
  },
  {
   "cell_type": "code",
   "execution_count": 20,
   "metadata": {},
   "outputs": [
    {
     "data": {
      "text/html": [
       "<div>\n",
       "<style scoped>\n",
       "    .dataframe tbody tr th:only-of-type {\n",
       "        vertical-align: middle;\n",
       "    }\n",
       "\n",
       "    .dataframe tbody tr th {\n",
       "        vertical-align: top;\n",
       "    }\n",
       "\n",
       "    .dataframe thead th {\n",
       "        text-align: right;\n",
       "    }\n",
       "</style>\n",
       "<table border=\"1\" class=\"dataframe\">\n",
       "  <thead>\n",
       "    <tr style=\"text-align: right;\">\n",
       "      <th></th>\n",
       "      <th>instrument_identifiers_Instrument/default/ClientInternal</th>\n",
       "      <th>instrument_uid</th>\n",
       "      <th>currency</th>\n",
       "      <th>properties</th>\n",
       "      <th>weight</th>\n",
       "      <th>floating_weight</th>\n",
       "    </tr>\n",
       "  </thead>\n",
       "  <tbody>\n",
       "    <tr>\n",
       "      <th>0</th>\n",
       "      <td>uKBondIndex</td>\n",
       "      <td>LUID_HQ605RXU</td>\n",
       "      <td>GBP</td>\n",
       "      <td>{}</td>\n",
       "      <td>0.60000</td>\n",
       "      <td>0.68254</td>\n",
       "    </tr>\n",
       "    <tr>\n",
       "      <th>1</th>\n",
       "      <td>uKEquityIndex</td>\n",
       "      <td>LUID_VPAOW273</td>\n",
       "      <td>GBP</td>\n",
       "      <td>{}</td>\n",
       "      <td>0.40000</td>\n",
       "      <td>0.31746</td>\n",
       "    </tr>\n",
       "  </tbody>\n",
       "</table>\n",
       "</div>"
      ],
      "text/plain": [
       "  instrument_identifiers_Instrument/default/ClientInternal instrument_uid  \\\n",
       "0          uKBondIndex                                      LUID_HQ605RXU   \n",
       "1        uKEquityIndex                                      LUID_VPAOW273   \n",
       "\n",
       "  currency properties  weight  floating_weight  \n",
       "0      GBP         {} 0.60000          0.68254  \n",
       "1      GBP         {} 0.40000          0.31746  "
      ]
     },
     "execution_count": 20,
     "metadata": {},
     "output_type": "execute_result"
    }
   ],
   "source": [
    "get_constituents = reference_portfolios_api.get_reference_portfolio_constituents(\n",
    "    scope=scope, code=uk_blended_index, effective_at=\"2021-03-31\"\n",
    ")\n",
    "\n",
    "pd.DataFrame([flatten(item.to_dict()) for item in get_constituents.constituents])"
   ]
  },
  {
   "cell_type": "markdown",
   "metadata": {},
   "source": [
    "## 7.4 Weights are reset on 1 April\n",
    "\n",
    "On the 1 April, the weights are reset, and the weight and floating rate are equal."
   ]
  },
  {
   "cell_type": "code",
   "execution_count": 21,
   "metadata": {},
   "outputs": [
    {
     "data": {
      "text/html": [
       "<div>\n",
       "<style scoped>\n",
       "    .dataframe tbody tr th:only-of-type {\n",
       "        vertical-align: middle;\n",
       "    }\n",
       "\n",
       "    .dataframe tbody tr th {\n",
       "        vertical-align: top;\n",
       "    }\n",
       "\n",
       "    .dataframe thead th {\n",
       "        text-align: right;\n",
       "    }\n",
       "</style>\n",
       "<table border=\"1\" class=\"dataframe\">\n",
       "  <thead>\n",
       "    <tr style=\"text-align: right;\">\n",
       "      <th></th>\n",
       "      <th>instrument_identifiers_Instrument/default/ClientInternal</th>\n",
       "      <th>instrument_uid</th>\n",
       "      <th>currency</th>\n",
       "      <th>properties</th>\n",
       "      <th>weight</th>\n",
       "      <th>floating_weight</th>\n",
       "    </tr>\n",
       "  </thead>\n",
       "  <tbody>\n",
       "    <tr>\n",
       "      <th>0</th>\n",
       "      <td>uKBondIndex</td>\n",
       "      <td>LUID_HQ605RXU</td>\n",
       "      <td>GBP</td>\n",
       "      <td>{}</td>\n",
       "      <td>0.60000</td>\n",
       "      <td>0.60000</td>\n",
       "    </tr>\n",
       "    <tr>\n",
       "      <th>1</th>\n",
       "      <td>uKEquityIndex</td>\n",
       "      <td>LUID_VPAOW273</td>\n",
       "      <td>GBP</td>\n",
       "      <td>{}</td>\n",
       "      <td>0.40000</td>\n",
       "      <td>0.40000</td>\n",
       "    </tr>\n",
       "  </tbody>\n",
       "</table>\n",
       "</div>"
      ],
      "text/plain": [
       "  instrument_identifiers_Instrument/default/ClientInternal instrument_uid  \\\n",
       "0          uKBondIndex                                      LUID_HQ605RXU   \n",
       "1        uKEquityIndex                                      LUID_VPAOW273   \n",
       "\n",
       "  currency properties  weight  floating_weight  \n",
       "0      GBP         {} 0.60000          0.60000  \n",
       "1      GBP         {} 0.40000          0.40000  "
      ]
     },
     "execution_count": 21,
     "metadata": {},
     "output_type": "execute_result"
    }
   ],
   "source": [
    "get_constituents = reference_portfolios_api.get_reference_portfolio_constituents(\n",
    "    scope=scope, code=uk_blended_index, effective_at=\"2021-04-01\"\n",
    ")\n",
    "\n",
    "pd.DataFrame([flatten(item.to_dict()) for item in get_constituents.constituents])"
   ]
  }
 ],
 "metadata": {
  "kernelspec": {
   "display_name": "Python 3",
   "language": "python",
   "name": "python3"
  },
  "language_info": {
   "codemirror_mode": {
    "name": "ipython",
    "version": 3
   },
   "file_extension": ".py",
   "mimetype": "text/x-python",
   "name": "python",
   "nbconvert_exporter": "python",
   "pygments_lexer": "ipython3",
   "version": "3.8.5"
  }
 },
 "nbformat": 4,
 "nbformat_minor": 4
}
