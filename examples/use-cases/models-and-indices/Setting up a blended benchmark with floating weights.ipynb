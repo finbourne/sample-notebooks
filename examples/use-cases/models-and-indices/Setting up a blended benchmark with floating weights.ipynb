{
 "cells": [
  {
   "cell_type": "code",
   "execution_count": 1,
   "metadata": {},
   "outputs": [
    {
     "data": {
      "text/html": [
       "\n",
       "    <form action=\"javascript:code_toggle()\"><input type=\"submit\" id=\"toggleButton\" value=\"Toggle Docstring\"></form>\n",
       "    \n",
       "         <script>\n",
       "         function code_toggle() {\n",
       "             if ($('div.cell.code_cell.rendered.selected div.input').css('display')!='none'){\n",
       "                 $('div.cell.code_cell.rendered.selected div.input').hide();\n",
       "             } else {\n",
       "                 $('div.cell.code_cell.rendered.selected div.input').show();\n",
       "             }\n",
       "         }\n",
       "         </script>\n",
       "\n",
       "     "
      ],
      "text/plain": [
       "<IPython.core.display.HTML object>"
      ]
     },
     "metadata": {},
     "output_type": "display_data"
    }
   ],
   "source": [
    "from lusidtools.jupyter_tools import toggle_code\n",
    "\n",
    "\"\"\"Setting up a blended benchmark\n",
    "\n",
    "Demonstration of how to load a blended benchmark. \n",
    "We also show how floating weights with a periodic reset.\n",
    "\n",
    "Attributes\n",
    "----------\n",
    "Reference portfolios\n",
    "Securitised portfolios\n",
    "Weights\n",
    "Floating weights\n",
    "\"\"\"\n",
    "\n",
    "toggle_code(\"Toggle Docstring\")"
   ]
  },
  {
   "cell_type": "markdown",
   "metadata": {},
   "source": [
    "# Setting up a Blended Benchmark with Floating Weights\n",
    "---\n",
    "\n",
    "## Table of Contents\n",
    "\n",
    "- 1. [Setup](#1.-Setup)\n",
    "    * [1.1 Imports and LUSID Dependencies](#1.1-Imports-and-LUSID-Dependencies)\n",
    "    * [1.2 Define Global Variables](#1.2-Define-Global-Variables)\n",
    "        * [1.2.1 Specify Project Scope and Start Date](#1.2.1-Specify-Project-Scope-and-Start-Date)\n",
    "        * [1.2.2 Define LUSID API's](#1.2.2-Define-LUSID-API's)\n",
    "\n",
    "- 2. [Load Instrument Master](#2.-Load-Instrument-Master)\n",
    "    * [2.1 Load the Equity Instruments](#2.1-Load-the-Equity-Instruments)\n",
    "        * [2.1.1 Read Equity CSV File](#2.1.1-Read–Equity-CSV-File)\n",
    "        * [2.1.2 Load Equity Data to LUSID](#2.1.2-Load-Equity-Data-to-LUSID)\n",
    "    * [2.2 Load the Fixed Income instruments](#2.2-Load-the-Fixed-Income-instruments)\n",
    "        * [2.2.1 Read Fixed Income CSV File](#2.2.1-Read-Fixed-Income-CSV-File)\n",
    "        * [2.2.2 Load Fixed Income Data to LUSID](#2.2.2–Load-Fixed-Income-Data-to-LUSID)\n",
    "\n",
    "- 3. [Create reference portfolios](#3.-Create-reference-portfolios)\n",
    "    * [3.1 Define Names for Reference Portfolios](#3.1-Define-Names-for-Reference-Portfolios)\n",
    "    * [3.2 Create Reference Portfolios](#3.2-Create-Reference-Portfolios)\n",
    "\n",
    "- 4. [Load constituents](#4.-Load-constituents)\n",
    "    * [4.1 Securitise the reference portfolios](#4.1-Securitise-the-reference-portfolios)\n",
    "    * [4.2 Load constituents for FI and EQ reference portfolios](#4.2-Load-constituents-for-FI-and-EQ-reference-portfolios)\n",
    "    * [4.3 Load constituents for blended benchmark](#4.3-Load-constituents-for-blended-benchmark)\n",
    "\n",
    "- 5. [Upsert quotes](#5.-Upsert-quotes)\n",
    "\n",
    "- 6. [Get blended index floating weight over timeline](#6.-Get-blended-index-floating-weight-over-timeline)\n",
    "    * [6.1 Get weights for 1 Jan](#6.1-Get-weights-for-1-Jan)\n",
    "    * [6.2 Get weights for 31 Jan](#6.2-Get-weights-for-31-Jan)\n",
    "    * [6.3 Get weights for 31 March](#6.3-Get-weights-for-31-March)\n",
    "    * [6.4 Weights are reset on 1 April](#6.4-Weights-are-reset-on-1-April)\n",
    "\n",
    "## Overview\n",
    "\n",
    "This notebook shows how to setup a blended benchmark in LUSID with floating weights, using [reference portfolios](https://support.lusid.com/knowledgebase/article/KA-01852/en-us). In the example, the blended benchmark is a reference portfolio which holds two other constituent securitised portfolios. We show how the floating weights of the constituents change over time. We also show how you can configure the floating weights to reset/re-balance on a set date.\n",
    "\n",
    "Section (1) and (2) will walk you through the process of setting up the variables, instruments and environment required for creating reference portfolios in LUSID. If instrument masters already exists in LUSID then skip to section (3) where the reference portfolios are created.\n",
    "\n",
    "![Init](img/BlendedBenchmarkReferencePortfolioImage.png)"
   ]
  },
  {
   "cell_type": "markdown",
   "metadata": {},
   "source": [
    "# 1. Setup\n",
    "---\n",
    "\n",
    "This notebook begins be setting up the requirements to run LUSID.\n",
    "\n",
    "## 1.1 Imports and LUSID Dependencies"
   ]
  },
  {
   "cell_type": "code",
   "execution_count": 2,
   "metadata": {},
   "outputs": [
    {
     "data": {
      "text/html": [
       "<div>\n",
       "<style scoped>\n",
       "    .dataframe tbody tr th:only-of-type {\n",
       "        vertical-align: middle;\n",
       "    }\n",
       "\n",
       "    .dataframe tbody tr th {\n",
       "        vertical-align: top;\n",
       "    }\n",
       "\n",
       "    .dataframe thead th {\n",
       "        text-align: right;\n",
       "    }\n",
       "</style>\n",
       "<table border=\"1\" class=\"dataframe\">\n",
       "  <thead>\n",
       "    <tr style=\"text-align: right;\">\n",
       "      <th></th>\n",
       "      <th>api_version</th>\n",
       "      <th>build_version</th>\n",
       "      <th>excel_version</th>\n",
       "      <th>links</th>\n",
       "    </tr>\n",
       "  </thead>\n",
       "  <tbody>\n",
       "    <tr>\n",
       "      <th>0</th>\n",
       "      <td>v0</td>\n",
       "      <td>0.6.10015.0</td>\n",
       "      <td>0.5.3015</td>\n",
       "      <td>{'relation': 'Re...</td>\n",
       "    </tr>\n",
       "  </tbody>\n",
       "</table>\n",
       "</div>"
      ],
      "text/plain": [
       "  api_version build_version excel_version                links\n",
       "0          v0   0.6.10015.0      0.5.3015  {'relation': 'Re..."
      ]
     },
     "metadata": {},
     "output_type": "display_data"
    }
   ],
   "source": [
    "# To begin, we initialize global variables, objects and datasets. \n",
    "# We also load the variouse packages required for constructing our examples:\n",
    "\n",
    "# Import general purpose packages\n",
    "import os\n",
    "import json\n",
    "import pandas as pd\n",
    "import numpy as np\n",
    "import datetime\n",
    "import pytz\n",
    "import warnings\n",
    "\n",
    "warnings.filterwarnings(\"ignore\", module=\"matplotlib*\")\n",
    "\n",
    "import matplotlib.pyplot as plt\n",
    "\n",
    "from datetime import datetime, timedelta\n",
    "from pandas import json_normalize\n",
    "from flatten_json import flatten\n",
    "\n",
    "# Import lusid specific packages\n",
    "import lusid\n",
    "import lusid.models as models\n",
    "from lusidtools.cocoon.cocoon import load_from_data_frame\n",
    "\n",
    "from lusid.utilities import ApiClientFactory\n",
    "from lusidjam.refreshing_token import RefreshingToken\n",
    "\n",
    "# Set display configuration\n",
    "pd.set_option(\"display.max_columns\", None)\n",
    "pd.set_option(\"display.float_format\", lambda x: \"%.5f\" % x)\n",
    "pd.set_option(\"display.max_rows\", 3500)\n",
    "pd.set_option(\"max_colwidth\", 20)\n",
    "\n",
    "# Use line magic function to enable matplotlib to work interactively with iPython\n",
    "%matplotlib inline\n",
    "\n",
    "# Set style to fivethirtyeight to create clean and clear looking graphs\n",
    "plt.style.use(\"fivethirtyeight\")\n",
    "\n",
    "# Define a dictionary containing default plotting configurations\n",
    "params = {\n",
    "    \"legend.fontsize\": \"small\",\n",
    "    \"figure.figsize\": (12, 4.5),\n",
    "    \"axes.labelsize\": \"small\",\n",
    "    \"axes.titlesize\": \"medium\",\n",
    "    \"xtick.labelsize\": \"small\",\n",
    "    \"ytick.labelsize\": \"small\",\n",
    "}\n",
    "\n",
    "plt.rcParams.update(params)\n",
    "\n",
    "# Authenticate our user and create our API client\n",
    "secrets_path = os.getenv(\"FBN_SECRETS_PATH\")\n",
    "\n",
    "# Initiate an API Factory which is the client side object for interacting with LUSID APIs\n",
    "api_factory = lusid.utilities.ApiClientFactory(\n",
    "    token=RefreshingToken(),\n",
    "    api_secrets_filename=secrets_path,\n",
    "    app_name=\"LusidJupyterNotebook\",\n",
    ")\n",
    "\n",
    "api_status = pd.DataFrame(\n",
    "    api_factory.build(lusid.ApplicationMetadataApi).get_lusid_versions().to_dict()\n",
    ")\n",
    "\n",
    "display(api_status)\n",
    "\n",
    "# %load_ext lab_black\n",
    "# %load_ext nb_black"
   ]
  },
  {
   "cell_type": "markdown",
   "metadata": {},
   "source": [
    "## 1.2 Define Global Variables\n",
    "\n",
    "### 1.2.1 Specify Notebook Scope and Start Date\n",
    "\n",
    "The `scope` and  `start_date` will be used gloabally accross the Notebook."
   ]
  },
  {
   "cell_type": "code",
   "execution_count": 3,
   "metadata": {},
   "outputs": [],
   "source": [
    "# Define a scope to hold data\n",
    "scope = \"ukIBOR\"\n",
    "start_date = \"2021-01-01\""
   ]
  },
  {
   "cell_type": "markdown",
   "metadata": {},
   "source": [
    "### 1.2.2 Define LUSID API's"
   ]
  },
  {
   "cell_type": "code",
   "execution_count": 4,
   "metadata": {},
   "outputs": [],
   "source": [
    "# Define the APIs we use\n",
    "configuration_recipe_api = api_factory.build(lusid.ConfigurationRecipeApi)\n",
    "reference_portfolios_api = api_factory.build(lusid.ReferencePortfolioApi)\n",
    "aggregation_api = api_factory.build(lusid.AggregationApi)\n",
    "instruments_api = api_factory.build(lusid.InstrumentsApi)\n",
    "portfolios_api = api_factory.build(lusid.PortfoliosApi)\n",
    "quotes_api = api_factory.build(lusid.QuotesApi)"
   ]
  },
  {
   "cell_type": "markdown",
   "metadata": {},
   "source": [
    "# 2. Load Instrument Master\n",
    "---\n",
    "\n",
    "Our instrument master data will be loaded from two separate data sources, each used in a different reference portfolio. Each data source containing a different class of instrument:\n",
    "\n",
    "1. The first containing UK equities, loaded form `\"data/benchmark/uk-stocks.csv\"`\n",
    "2. The second containing UK fixed income, loaded from `\"data/benchmark/uk-bonds.csv\"`\n",
    "\n",
    "## 2.1 Load the Equity Instruments\n",
    "\n",
    "We begin by loading our equity instruments and mapping the accompanying identifiers and required fields to LUSID.\n",
    "\n",
    "Our portfolio consists of a collection of various UK equities, weighted according to their proportion of the underlying portfolio. Each entry contains a `\"Name\"` attribute and a corresponding `\"Sector\"` property. We also have three identifiers for each equity, a `\"Ticker\"`, `\"ISIN\"` and `\"SEDOL\"`. Each of this fields can be mapped to a properties in LUSID. We be able to access each equity by it's `\"Ticker\"` value, which we will map to `\"ClientInternal\"` in LUSID.\n",
    "\n",
    "### 2.1.1 Read Equity CSV File"
   ]
  },
  {
   "cell_type": "code",
   "execution_count": 5,
   "metadata": {},
   "outputs": [
    {
     "data": {
      "text/html": [
       "<div>\n",
       "<style scoped>\n",
       "    .dataframe tbody tr th:only-of-type {\n",
       "        vertical-align: middle;\n",
       "    }\n",
       "\n",
       "    .dataframe tbody tr th {\n",
       "        vertical-align: top;\n",
       "    }\n",
       "\n",
       "    .dataframe thead th {\n",
       "        text-align: right;\n",
       "    }\n",
       "</style>\n",
       "<table border=\"1\" class=\"dataframe\">\n",
       "  <thead>\n",
       "    <tr style=\"text-align: right;\">\n",
       "      <th></th>\n",
       "      <th>Ticker</th>\n",
       "      <th>Name</th>\n",
       "      <th>Sector</th>\n",
       "      <th>ISIN</th>\n",
       "      <th>SEDOL</th>\n",
       "      <th>Weighting</th>\n",
       "      <th>Figi</th>\n",
       "    </tr>\n",
       "  </thead>\n",
       "  <tbody>\n",
       "    <tr>\n",
       "      <th>0</th>\n",
       "      <td>III LN</td>\n",
       "      <td>3i</td>\n",
       "      <td>Financial Services</td>\n",
       "      <td>GB00B1YW4409</td>\n",
       "      <td>B1YW440</td>\n",
       "      <td>0.04000</td>\n",
       "      <td>BBG000BZZ876</td>\n",
       "    </tr>\n",
       "    <tr>\n",
       "      <th>1</th>\n",
       "      <td>BKG LN</td>\n",
       "      <td>Berkeley Group H...</td>\n",
       "      <td>Household Goods ...</td>\n",
       "      <td>GB00B02L3W35</td>\n",
       "      <td>B02L3W3</td>\n",
       "      <td>0.04000</td>\n",
       "      <td>BBG000H6ZKT3</td>\n",
       "    </tr>\n",
       "    <tr>\n",
       "      <th>2</th>\n",
       "      <td>BATS LN</td>\n",
       "      <td>British American...</td>\n",
       "      <td>Tobacco</td>\n",
       "      <td>GB0002875804</td>\n",
       "      <td>287580</td>\n",
       "      <td>0.04000</td>\n",
       "      <td>BBG000BG9N74</td>\n",
       "    </tr>\n",
       "  </tbody>\n",
       "</table>\n",
       "</div>"
      ],
      "text/plain": [
       "    Ticker                 Name               Sector          ISIN    SEDOL  \\\n",
       "0   III LN                   3i   Financial Services  GB00B1YW4409  B1YW440   \n",
       "1   BKG LN  Berkeley Group H...  Household Goods ...  GB00B02L3W35  B02L3W3   \n",
       "2  BATS LN  British American...              Tobacco  GB0002875804   287580   \n",
       "\n",
       "   Weighting          Figi  \n",
       "0    0.04000  BBG000BZZ876  \n",
       "1    0.04000  BBG000H6ZKT3  \n",
       "2    0.04000  BBG000BG9N74  "
      ]
     },
     "execution_count": 5,
     "metadata": {},
     "output_type": "execute_result"
    }
   ],
   "source": [
    "uk_stocks = pd.read_csv(\"data/benchmark/uk-stocks.csv\")\n",
    "uk_stocks.head(3)"
   ]
  },
  {
   "cell_type": "markdown",
   "metadata": {},
   "source": [
    "### 2.1.2 Load Equity Data to LUSID"
   ]
  },
  {
   "cell_type": "code",
   "execution_count": 6,
   "metadata": {},
   "outputs": [],
   "source": [
    "# Load the instruments into LUSID\n",
    "\n",
    "instrument_identifier_mapping = {\n",
    "    \"Figi\": \"Figi\",\n",
    "    \"Ticker\": \"Ticker\",\n",
    "    \"Isin\": \"ISIN\",\n",
    "    \"Sedol\": \"SEDOL\",\n",
    "}\n",
    "\n",
    "instrument_mapping_required = {\"name\": \"Name\"}\n",
    "\n",
    "instrument_mapping_optional = {}\n",
    "\n",
    "responses = load_from_data_frame(\n",
    "    api_factory=api_factory,\n",
    "    scope=scope,\n",
    "    data_frame=uk_stocks,\n",
    "    mapping_required=instrument_mapping_required,\n",
    "    mapping_optional=instrument_mapping_optional,\n",
    "    file_type=\"instrument\",\n",
    "    identifier_mapping=instrument_identifier_mapping,\n",
    "    property_columns=[\"Sector\"],\n",
    ")"
   ]
  },
  {
   "cell_type": "markdown",
   "metadata": {},
   "source": [
    "## 2.2 Load the Fixed Income instruments\n",
    "\n",
    "In a similar fashion, we continue by loading our fixed income data to LUSID. Our fixed income data comes with only a single identifying field - `\"ISIN\"` - as well as a `\"Name\"` and `\"Sector\"` property.\n",
    "\n",
    "### 2.2.1 Read Fixed Income CSV File"
   ]
  },
  {
   "cell_type": "code",
   "execution_count": 7,
   "metadata": {},
   "outputs": [
    {
     "data": {
      "text/html": [
       "<div>\n",
       "<style scoped>\n",
       "    .dataframe tbody tr th:only-of-type {\n",
       "        vertical-align: middle;\n",
       "    }\n",
       "\n",
       "    .dataframe tbody tr th {\n",
       "        vertical-align: top;\n",
       "    }\n",
       "\n",
       "    .dataframe thead th {\n",
       "        text-align: right;\n",
       "    }\n",
       "</style>\n",
       "<table border=\"1\" class=\"dataframe\">\n",
       "  <thead>\n",
       "    <tr style=\"text-align: right;\">\n",
       "      <th></th>\n",
       "      <th>ISIN</th>\n",
       "      <th>Name</th>\n",
       "      <th>Sector</th>\n",
       "      <th>Weighting</th>\n",
       "      <th>Figi</th>\n",
       "    </tr>\n",
       "  </thead>\n",
       "  <tbody>\n",
       "    <tr>\n",
       "      <th>0</th>\n",
       "      <td>GB00BNNGP668</td>\n",
       "      <td>UKT 0 ⅜ 10/22/26</td>\n",
       "      <td>Government Bond</td>\n",
       "      <td>0.05000</td>\n",
       "      <td>BBG00ZF1T9P5</td>\n",
       "    </tr>\n",
       "    <tr>\n",
       "      <th>1</th>\n",
       "      <td>GB00BNNGP775</td>\n",
       "      <td>UKT 0 ⅞ 01/31/46</td>\n",
       "      <td>Government Bond</td>\n",
       "      <td>0.10000</td>\n",
       "      <td>BBG00YY9ZP86</td>\n",
       "    </tr>\n",
       "    <tr>\n",
       "      <th>2</th>\n",
       "      <td>GB00BMBL1F74</td>\n",
       "      <td>UKT 0 ⅝ 10/22/50</td>\n",
       "      <td>Government Bond</td>\n",
       "      <td>0.15000</td>\n",
       "      <td>BBG00V5L55N7</td>\n",
       "    </tr>\n",
       "  </tbody>\n",
       "</table>\n",
       "</div>"
      ],
      "text/plain": [
       "           ISIN              Name           Sector  Weighting          Figi\n",
       "0  GB00BNNGP668  UKT 0 ⅜ 10/22/26  Government Bond    0.05000  BBG00ZF1T9P5\n",
       "1  GB00BNNGP775  UKT 0 ⅞ 01/31/46  Government Bond    0.10000  BBG00YY9ZP86\n",
       "2  GB00BMBL1F74  UKT 0 ⅝ 10/22/50  Government Bond    0.15000  BBG00V5L55N7"
      ]
     },
     "execution_count": 7,
     "metadata": {},
     "output_type": "execute_result"
    }
   ],
   "source": [
    "uk_bonds = pd.read_csv(\"data/benchmark/uk-bonds.csv\")\n",
    "uk_bonds.head(3)"
   ]
  },
  {
   "cell_type": "markdown",
   "metadata": {},
   "source": [
    "### 2.2.2 Load Fixed Income Data to LUSID"
   ]
  },
  {
   "cell_type": "code",
   "execution_count": 8,
   "metadata": {},
   "outputs": [],
   "source": [
    "# Load the instruments into LUSID\n",
    "\n",
    "instrument_identifier_mapping = {\n",
    "    \"Figi\": \"Figi\",\n",
    "    \"Isin\": \"ISIN\",\n",
    "}\n",
    "\n",
    "instrument_mapping_required = {\"name\": \"Name\"}\n",
    "\n",
    "instrument_mapping_optional = {}\n",
    "\n",
    "responses = load_from_data_frame(\n",
    "    api_factory=api_factory,\n",
    "    scope=scope,\n",
    "    data_frame=uk_bonds,\n",
    "    mapping_required=instrument_mapping_required,\n",
    "    mapping_optional=instrument_mapping_optional,\n",
    "    file_type=\"instrument\",\n",
    "    identifier_mapping=instrument_identifier_mapping,\n",
    "    property_columns=[\"Sector\"],\n",
    ")"
   ]
  },
  {
   "cell_type": "markdown",
   "metadata": {},
   "source": [
    "# 3. Create reference portfolios\n",
    "---\n",
    "\n",
    "Next, we construct our reference portfolios. These include:\n",
    "\n",
    "1. Our UK Equity portfolio, consisting of various weights of UK equities\n",
    "2. Our UK Fixed Income portfolio, consisting of variouse weights of UK Bonds\n",
    "3. And our Blended Portfolio, which constitutes some portion of our Equity and Fixed Income portfolios\n",
    "\n",
    "## 3.1 Define Names for Reference Portfolios"
   ]
  },
  {
   "cell_type": "code",
   "execution_count": 9,
   "metadata": {},
   "outputs": [],
   "source": [
    "uk_bond_index = \"uKBondIndex\"\n",
    "uk_equity_index = \"uKEquityIndex\"\n",
    "uk_blended_index = \"ukBlendedIndex\"\n",
    "\n",
    "# Define our list of Reference portfolios\n",
    "reference_portfolios = [uk_bond_index, uk_equity_index, uk_blended_index]"
   ]
  },
  {
   "cell_type": "markdown",
   "metadata": {},
   "source": [
    "## 3.2 Create Reference Portfolios\n",
    "\n",
    "For each reference portfolio create an instance of the portfolio in LUSID. Specify the `scope` and time `created` to be the values specified globally in our Notebook. A reference portfolio in LUSID allows the storage of a portfolio which contains a set of constituent instruments and weights which can change over time.\n",
    "\n",
    "For additional information on Reference Portfolios, please see the following [KB article](https://support.lusid.com/knowledgebase/article/KA-01852/en-us).\n",
    "\n",
    "> NOTE: The time when a portfolio is `created` must occur before or at the point when that any of it's constituents are upserted"
   ]
  },
  {
   "cell_type": "code",
   "execution_count": 10,
   "metadata": {},
   "outputs": [
    {
     "name": "stdout",
     "output_type": "stream",
     "text": [
      "Could not create a portfolio with id 'uKBondIndex' because it already exists in scope 'ukIBOR'.\n",
      "Could not create a portfolio with id 'uKEquityIndex' because it already exists in scope 'ukIBOR'.\n",
      "Could not create a portfolio with id 'ukBlendedIndex' because it already exists in scope 'ukIBOR'.\n"
     ]
    }
   ],
   "source": [
    "# The `create_reference_portfolio()` method implements LUSID API `CreateReferencePortfolio` method. \n",
    "# More information on this API method can be found in the following [LUSID API Docs](https://www.lusid.com/docs/api/#tag/Reference-Portfolio)\n",
    "\n",
    "for portfolio in reference_portfolios:\n",
    "\n",
    "    try:\n",
    "\n",
    "        response = reference_portfolios_api.create_reference_portfolio(\n",
    "            scope=scope,\n",
    "            create_reference_portfolio_request=models.CreateReferencePortfolioRequest(\n",
    "                display_name=portfolio, \n",
    "                code=portfolio, \n",
    "                created=\"2010-01-01\", \n",
    "                instrument_scopes=[scope],\n",
    "            ),\n",
    "        )\n",
    "\n",
    "    except lusid.ApiException as e:\n",
    "        print(json.loads(e.body)[\"title\"])"
   ]
  },
  {
   "cell_type": "markdown",
   "metadata": {},
   "source": [
    "# 4. Load constituents\n",
    "---\n",
    "\n",
    "## 4.1 Securitise the reference portfolios\n",
    "\n",
    "We now securitise each of the reference portfolios, allowing us to generate a blended benchmark containing multiple reference portfolios reperesented in LUSID. The reference portfolio can be configured to automatically float the weights of the underlying indices (the securitised reference portfolio constituents) so that they move in line with the movements of the index.\n",
    "\n",
    "For additional information on the Securitisation of Reference Portfolios, please see the following [KB article](https://support.lusid.com/knowledgebase/article/KA-01852/en-us)"
   ]
  },
  {
   "cell_type": "code",
   "execution_count": 11,
   "metadata": {},
   "outputs": [],
   "source": [
    "response = instruments_api.upsert_instruments(\n",
    "    scope=scope,\n",
    "    request_body={\n",
    "        f\"upsert_instrument_{portfolio}\": models.InstrumentDefinition(\n",
    "            name=portfolio,\n",
    "            identifiers={\n",
    "                \"ClientInternal\": models.InstrumentIdValue(value=f\"inst_{portfolio}\"),\n",
    "            },\n",
    "            look_through_portfolio_id=models.ResourceId(\n",
    "                scope=scope, \n",
    "                code=portfolio,\n",
    "            ),\n",
    "        ) for portfolio in reference_portfolios\n",
    "    }\n",
    ")"
   ]
  },
  {
   "cell_type": "markdown",
   "metadata": {},
   "source": [
    "\n",
    "## 4.2 Load constituents for FI and EQ reference portfolios\n",
    "\n",
    "We now create Index constituents for the time period in consideration for each of the reference portfolios. \n",
    "\n",
    "These constituents should not overlap (i.e. be on the same instrument) with any existing constituents."
   ]
  },
  {
   "cell_type": "code",
   "execution_count": 12,
   "metadata": {},
   "outputs": [
    {
     "name": "stdout",
     "output_type": "stream",
     "text": [
      "Constituents Upserted for uKBondIndex\n"
     ]
    }
   ],
   "source": [
    "# Add uk bond index constituents\n",
    "constituents = [\n",
    "    models.ReferencePortfolioConstituentRequest(\n",
    "        instrument_identifiers={\n",
    "            \"Instrument/default/Figi\": row[\"Figi\"]\n",
    "        },\n",
    "        weight=row[\"Weighting\"],\n",
    "        currency=\"GBP\",\n",
    "    ) for _, row in uk_bonds.iterrows()\n",
    "]\n",
    "\n",
    "# Create our request to add our constituents\n",
    "constituents_request = models.UpsertReferencePortfolioConstituentsRequest(\n",
    "    effective_from=start_date,\n",
    "    weight_type=\"Periodical\",\n",
    "    period_type=\"Quarterly\",\n",
    "    period_count=1,\n",
    "    constituents=constituents,\n",
    ")\n",
    "\n",
    "# Call LUSID to upsert our constituents into our reference portfolio\n",
    "response = reference_portfolios_api.upsert_reference_portfolio_constituents(\n",
    "    scope=scope,\n",
    "    code=uk_bond_index,\n",
    "    upsert_reference_portfolio_constituents_request=constituents_request,\n",
    ")\n",
    "\n",
    "print(f\"Constituents Upserted for {uk_bond_index}\")"
   ]
  },
  {
   "cell_type": "code",
   "execution_count": 13,
   "metadata": {},
   "outputs": [
    {
     "name": "stdout",
     "output_type": "stream",
     "text": [
      "Constituents Upserted for uKEquityIndex\n"
     ]
    }
   ],
   "source": [
    "# Add uk equity index constituents\n",
    "constituents = [\n",
    "    models.ReferencePortfolioConstituentRequest(\n",
    "        instrument_identifiers={\n",
    "            \"Instrument/default/Figi\": row[\"Figi\"]\n",
    "        },\n",
    "        weight=row[\"Weighting\"],\n",
    "        currency=\"GBP\",\n",
    "    ) for _, row in uk_stocks.iterrows()\n",
    "]\n",
    "\n",
    "# Create our request to add our constituents\n",
    "constituents_request = models.UpsertReferencePortfolioConstituentsRequest(\n",
    "    effective_from=start_date,\n",
    "    weight_type=\"Periodical\",\n",
    "    period_type=\"Quarterly\",\n",
    "    period_count=1,\n",
    "    constituents=constituents,\n",
    ")\n",
    "\n",
    "# Call LUSID to upsert our constituents into our reference portfolio\n",
    "response = reference_portfolios_api.upsert_reference_portfolio_constituents(\n",
    "    scope=scope,\n",
    "    code=uk_equity_index,\n",
    "    upsert_reference_portfolio_constituents_request=constituents_request,\n",
    ")\n",
    "\n",
    "print(f\"Constituents Upserted for {uk_equity_index}\")"
   ]
  },
  {
   "cell_type": "markdown",
   "metadata": {},
   "source": [
    "## 4.3 Load constituents for blended benchmark\n",
    "\n",
    "Now, we create a set of constituents for our blended benchmark reference portfolio. The blended portfolio is made up by 60% of the UK bond portfolio and 40% of the UK equity portfolio. So we wish to re distribute our portfolio holding to meet the specified weighing values. We also model the constituent rule to be applied periodically on a quaterly bases."
   ]
  },
  {
   "cell_type": "code",
   "execution_count": 14,
   "metadata": {},
   "outputs": [],
   "source": [
    "weightings = [(uk_bond_index, 0.6), (uk_equity_index, 0.4)]"
   ]
  },
  {
   "cell_type": "code",
   "execution_count": 15,
   "metadata": {},
   "outputs": [
    {
     "name": "stdout",
     "output_type": "stream",
     "text": [
      "Constituents Upserted for uKBondIndex and uKEquityIndex\n"
     ]
    }
   ],
   "source": [
    "# We specify quarterly rebalancing of the blended benchmark indexby specifying `weight_type` and `period_type` as shown. \n",
    "# The period count specifies how many `period_type` duration must pass before portfolio is rebalanced. \n",
    "# Additional details on reference portfolio constituents can be found in the following [KB Article](https://support.lusid.com/knowledgebase/article/KA-01852/en-us)\n",
    "\n",
    "# create reference portfolio constituents\n",
    "constituents = [\n",
    "    models.ReferencePortfolioConstituentRequest(\n",
    "        instrument_identifiers={\"Instrument/default/ClientInternal\": f\"inst_{port}\"},\n",
    "        weight=weighting,\n",
    "        currency=\"GBP\",\n",
    "    ) for port, weighting in weightings\n",
    "]\n",
    "\n",
    "# Create our request to add our constituents\n",
    "constituents_request = models.UpsertReferencePortfolioConstituentsRequest(\n",
    "    effective_from=start_date,\n",
    "    weight_type=\"Periodical\",\n",
    "    period_type=\"Quarterly\",\n",
    "    period_count=1,\n",
    "    constituents=constituents,\n",
    ")\n",
    "\n",
    "# Call LUSID to upsert our constituents into our reference portfolio\n",
    "response = reference_portfolios_api.upsert_reference_portfolio_constituents(\n",
    "    scope=scope,\n",
    "    code=uk_blended_index,\n",
    "    upsert_reference_portfolio_constituents_request=constituents_request,\n",
    ")\n",
    "\n",
    "print(f\"Constituents Upserted for {weightings[0][0]} and {weightings[1][0]}\")"
   ]
  },
  {
   "cell_type": "markdown",
   "metadata": {},
   "source": [
    "# 5. Upsert quotes\n",
    "---\n",
    "\n",
    "We now load in the relevant market prices from 1st of Jan to 1st of Apr 2021."
   ]
  },
  {
   "cell_type": "code",
   "execution_count": 16,
   "metadata": {},
   "outputs": [],
   "source": [
    "# instruments_ids = [uk_bond_index, uk_equity_index, uk_blended_index]\n",
    "instruments_ids = [f\"inst_{code}\" for code in reference_portfolios]\n",
    "\n",
    "# Use dictionary comprehension to generate dictionary of Luids\n",
    "luids = {\n",
    "    instrument_id: instruments_api.get_instrument(\n",
    "        identifier_type=\"ClientInternal\",\n",
    "        identifier=instrument_id,\n",
    "        scope=scope,\n",
    "    ).lusid_instrument_id\n",
    "    for instrument_id in instruments_ids\n",
    "}"
   ]
  },
  {
   "cell_type": "code",
   "execution_count": 17,
   "metadata": {},
   "outputs": [],
   "source": [
    "instrument_data = {\n",
    "    1: {\"date\": \"2021-01-01\", \"instrument\": uk_bond_index, \"price\": 100},\n",
    "    2: {\"date\": \"2021-01-31\", \"instrument\": uk_bond_index, \"price\": 130},\n",
    "    3: {\"date\": \"2021-03-31\", \"instrument\": uk_bond_index, \"price\": 129},\n",
    "    4: {\"date\": \"2021-04-01\", \"instrument\": uk_bond_index, \"price\": 136},\n",
    "    5: {\"date\": \"2021-01-01\", \"instrument\": uk_equity_index, \"price\": 100},\n",
    "    6: {\"date\": \"2021-01-31\", \"instrument\": uk_equity_index, \"price\": 80},\n",
    "    7: {\"date\": \"2021-03-31\", \"instrument\": uk_equity_index, \"price\": 90},\n",
    "    8: {\"date\": \"2021-04-01\", \"instrument\": uk_equity_index, \"price\": 86},\n",
    "}\n",
    "\n",
    "# Create quote requests\n",
    "instrument_quotes = {\n",
    "    f\"upsert_request_{key}\": models.UpsertQuoteRequest(\n",
    "        quote_id=models.QuoteId(\n",
    "            quote_series_id=models.QuoteSeriesId(\n",
    "                provider=\"Lusid\",\n",
    "                instrument_id=luids[f'inst_{data[\"instrument\"]}'],\n",
    "                instrument_id_type=\"LusidInstrumentId\",\n",
    "                quote_type=\"Price\",\n",
    "                field=\"mid\",\n",
    "            ),\n",
    "            effective_at=data[\"date\"],\n",
    "        ),\n",
    "        metric_value=models.MetricValue(value=data[\"price\"], unit=\"GBP\"),\n",
    "    ) for key, data in instrument_data.items()\n",
    "}\n",
    "\n",
    "# Upsert the quotes into LUSID\n",
    "response = quotes_api.upsert_quotes(scope=scope, request_body=instrument_quotes)"
   ]
  },
  {
   "cell_type": "markdown",
   "metadata": {},
   "source": [
    "# 6. Get blended index floating weight over timeline\n",
    "---\n",
    "\n",
    "In this section, we track the benchmark weights across a Q1 timeline, with the floating weights resetting on 1 April.\n",
    "\n",
    "## 6.1 Get weights for 1 Jan\n",
    "\n",
    "* On the 1 Jan, which is Day 1 for the portfolio, the fixed weight is equal to the floating weight"
   ]
  },
  {
   "cell_type": "code",
   "execution_count": 18,
   "metadata": {},
   "outputs": [
    {
     "data": {
      "text/html": [
       "<div>\n",
       "<style scoped>\n",
       "    .dataframe tbody tr th:only-of-type {\n",
       "        vertical-align: middle;\n",
       "    }\n",
       "\n",
       "    .dataframe tbody tr th {\n",
       "        vertical-align: top;\n",
       "    }\n",
       "\n",
       "    .dataframe thead th {\n",
       "        text-align: right;\n",
       "    }\n",
       "</style>\n",
       "<table border=\"1\" class=\"dataframe\">\n",
       "  <thead>\n",
       "    <tr style=\"text-align: right;\">\n",
       "      <th></th>\n",
       "      <th>instrument_identifiers_Instrument/default/ClientInternal</th>\n",
       "      <th>instrument_uid</th>\n",
       "      <th>currency</th>\n",
       "      <th>properties</th>\n",
       "      <th>weight</th>\n",
       "      <th>floating_weight</th>\n",
       "      <th>instrument_scope</th>\n",
       "    </tr>\n",
       "  </thead>\n",
       "  <tbody>\n",
       "    <tr>\n",
       "      <th>0</th>\n",
       "      <td>inst_uKBondIndex</td>\n",
       "      <td>LUID_00003DZZ</td>\n",
       "      <td>GBP</td>\n",
       "      <td>{}</td>\n",
       "      <td>0.60000</td>\n",
       "      <td>0.60000</td>\n",
       "      <td>ukIBOR</td>\n",
       "    </tr>\n",
       "    <tr>\n",
       "      <th>1</th>\n",
       "      <td>inst_uKEquityIndex</td>\n",
       "      <td>LUID_00003DZY</td>\n",
       "      <td>GBP</td>\n",
       "      <td>{}</td>\n",
       "      <td>0.40000</td>\n",
       "      <td>0.40000</td>\n",
       "      <td>ukIBOR</td>\n",
       "    </tr>\n",
       "  </tbody>\n",
       "</table>\n",
       "</div>"
      ],
      "text/plain": [
       "  instrument_identifiers_Instrument/default/ClientInternal instrument_uid  \\\n",
       "0     inst_uKBondIndex                                      LUID_00003DZZ   \n",
       "1   inst_uKEquityIndex                                      LUID_00003DZY   \n",
       "\n",
       "  currency properties  weight  floating_weight instrument_scope  \n",
       "0      GBP         {} 0.60000          0.60000           ukIBOR  \n",
       "1      GBP         {} 0.40000          0.40000           ukIBOR  "
      ]
     },
     "execution_count": 18,
     "metadata": {},
     "output_type": "execute_result"
    }
   ],
   "source": [
    "get_constituents = reference_portfolios_api.get_reference_portfolio_constituents(\n",
    "    scope=scope,\n",
    "    code=uk_blended_index,\n",
    "    effective_at=\"2021-01-01\",\n",
    ")\n",
    "\n",
    "pd.DataFrame([flatten(item.to_dict()) for item in get_constituents.constituents])"
   ]
  },
  {
   "cell_type": "markdown",
   "metadata": {},
   "source": [
    "## 6.2 Get weights for 31 Jan\n",
    "\n",
    "* The floating weights have moved as the underlying indicies have moved\n",
    "    * The bond portfolio has performed well, meaning the float weight has jumpted from 60% to ~ 70%\n",
    "    * The equity portfolio has not performed as well, meaning its floating weight has dropped to ~30%"
   ]
  },
  {
   "cell_type": "code",
   "execution_count": 19,
   "metadata": {},
   "outputs": [
    {
     "data": {
      "text/html": [
       "<div>\n",
       "<style scoped>\n",
       "    .dataframe tbody tr th:only-of-type {\n",
       "        vertical-align: middle;\n",
       "    }\n",
       "\n",
       "    .dataframe tbody tr th {\n",
       "        vertical-align: top;\n",
       "    }\n",
       "\n",
       "    .dataframe thead th {\n",
       "        text-align: right;\n",
       "    }\n",
       "</style>\n",
       "<table border=\"1\" class=\"dataframe\">\n",
       "  <thead>\n",
       "    <tr style=\"text-align: right;\">\n",
       "      <th></th>\n",
       "      <th>instrument_identifiers_Instrument/default/ClientInternal</th>\n",
       "      <th>instrument_uid</th>\n",
       "      <th>currency</th>\n",
       "      <th>properties</th>\n",
       "      <th>weight</th>\n",
       "      <th>floating_weight</th>\n",
       "      <th>instrument_scope</th>\n",
       "    </tr>\n",
       "  </thead>\n",
       "  <tbody>\n",
       "    <tr>\n",
       "      <th>0</th>\n",
       "      <td>inst_uKBondIndex</td>\n",
       "      <td>LUID_00003DZZ</td>\n",
       "      <td>GBP</td>\n",
       "      <td>{}</td>\n",
       "      <td>0.60000</td>\n",
       "      <td>0.70909</td>\n",
       "      <td>ukIBOR</td>\n",
       "    </tr>\n",
       "    <tr>\n",
       "      <th>1</th>\n",
       "      <td>inst_uKEquityIndex</td>\n",
       "      <td>LUID_00003DZY</td>\n",
       "      <td>GBP</td>\n",
       "      <td>{}</td>\n",
       "      <td>0.40000</td>\n",
       "      <td>0.29091</td>\n",
       "      <td>ukIBOR</td>\n",
       "    </tr>\n",
       "  </tbody>\n",
       "</table>\n",
       "</div>"
      ],
      "text/plain": [
       "  instrument_identifiers_Instrument/default/ClientInternal instrument_uid  \\\n",
       "0     inst_uKBondIndex                                      LUID_00003DZZ   \n",
       "1   inst_uKEquityIndex                                      LUID_00003DZY   \n",
       "\n",
       "  currency properties  weight  floating_weight instrument_scope  \n",
       "0      GBP         {} 0.60000          0.70909           ukIBOR  \n",
       "1      GBP         {} 0.40000          0.29091           ukIBOR  "
      ]
     },
     "execution_count": 19,
     "metadata": {},
     "output_type": "execute_result"
    }
   ],
   "source": [
    "get_constituents = reference_portfolios_api.get_reference_portfolio_constituents(\n",
    "    scope=scope, \n",
    "    code=uk_blended_index, \n",
    "    effective_at=\"2021-01-31\",\n",
    ")\n",
    "\n",
    "pd.DataFrame([flatten(item.to_dict()) for item in get_constituents.constituents])"
   ]
  },
  {
   "cell_type": "markdown",
   "metadata": {},
   "source": [
    "## 6.3 Get weights for 31 March\n",
    "\n",
    "* The floating weights have continued to move"
   ]
  },
  {
   "cell_type": "code",
   "execution_count": 20,
   "metadata": {},
   "outputs": [
    {
     "data": {
      "text/html": [
       "<div>\n",
       "<style scoped>\n",
       "    .dataframe tbody tr th:only-of-type {\n",
       "        vertical-align: middle;\n",
       "    }\n",
       "\n",
       "    .dataframe tbody tr th {\n",
       "        vertical-align: top;\n",
       "    }\n",
       "\n",
       "    .dataframe thead th {\n",
       "        text-align: right;\n",
       "    }\n",
       "</style>\n",
       "<table border=\"1\" class=\"dataframe\">\n",
       "  <thead>\n",
       "    <tr style=\"text-align: right;\">\n",
       "      <th></th>\n",
       "      <th>instrument_identifiers_Instrument/default/ClientInternal</th>\n",
       "      <th>instrument_uid</th>\n",
       "      <th>currency</th>\n",
       "      <th>properties</th>\n",
       "      <th>weight</th>\n",
       "      <th>floating_weight</th>\n",
       "      <th>instrument_scope</th>\n",
       "    </tr>\n",
       "  </thead>\n",
       "  <tbody>\n",
       "    <tr>\n",
       "      <th>0</th>\n",
       "      <td>inst_uKBondIndex</td>\n",
       "      <td>LUID_00003DZZ</td>\n",
       "      <td>GBP</td>\n",
       "      <td>{}</td>\n",
       "      <td>0.60000</td>\n",
       "      <td>0.68254</td>\n",
       "      <td>ukIBOR</td>\n",
       "    </tr>\n",
       "    <tr>\n",
       "      <th>1</th>\n",
       "      <td>inst_uKEquityIndex</td>\n",
       "      <td>LUID_00003DZY</td>\n",
       "      <td>GBP</td>\n",
       "      <td>{}</td>\n",
       "      <td>0.40000</td>\n",
       "      <td>0.31746</td>\n",
       "      <td>ukIBOR</td>\n",
       "    </tr>\n",
       "  </tbody>\n",
       "</table>\n",
       "</div>"
      ],
      "text/plain": [
       "  instrument_identifiers_Instrument/default/ClientInternal instrument_uid  \\\n",
       "0     inst_uKBondIndex                                      LUID_00003DZZ   \n",
       "1   inst_uKEquityIndex                                      LUID_00003DZY   \n",
       "\n",
       "  currency properties  weight  floating_weight instrument_scope  \n",
       "0      GBP         {} 0.60000          0.68254           ukIBOR  \n",
       "1      GBP         {} 0.40000          0.31746           ukIBOR  "
      ]
     },
     "execution_count": 20,
     "metadata": {},
     "output_type": "execute_result"
    }
   ],
   "source": [
    "get_constituents = reference_portfolios_api.get_reference_portfolio_constituents(\n",
    "    scope=scope, \n",
    "    code=uk_blended_index, \n",
    "    effective_at=\"2021-03-31\",\n",
    ")\n",
    "\n",
    "pd.DataFrame([flatten(item.to_dict()) for item in get_constituents.constituents])"
   ]
  },
  {
   "cell_type": "markdown",
   "metadata": {},
   "source": [
    "## 6.4 Weights are reset on 1 April\n",
    "\n",
    "On the 1 April, the weights are reset, and the weight and floating rate are equal. This is driven by the period type which we set to \"Quarterly\" in LUSID."
   ]
  },
  {
   "cell_type": "code",
   "execution_count": 21,
   "metadata": {},
   "outputs": [
    {
     "data": {
      "text/html": [
       "<div>\n",
       "<style scoped>\n",
       "    .dataframe tbody tr th:only-of-type {\n",
       "        vertical-align: middle;\n",
       "    }\n",
       "\n",
       "    .dataframe tbody tr th {\n",
       "        vertical-align: top;\n",
       "    }\n",
       "\n",
       "    .dataframe thead th {\n",
       "        text-align: right;\n",
       "    }\n",
       "</style>\n",
       "<table border=\"1\" class=\"dataframe\">\n",
       "  <thead>\n",
       "    <tr style=\"text-align: right;\">\n",
       "      <th></th>\n",
       "      <th>instrument_identifiers_Instrument/default/ClientInternal</th>\n",
       "      <th>instrument_uid</th>\n",
       "      <th>currency</th>\n",
       "      <th>properties</th>\n",
       "      <th>weight</th>\n",
       "      <th>floating_weight</th>\n",
       "      <th>instrument_scope</th>\n",
       "    </tr>\n",
       "  </thead>\n",
       "  <tbody>\n",
       "    <tr>\n",
       "      <th>0</th>\n",
       "      <td>inst_uKBondIndex</td>\n",
       "      <td>LUID_00003DZZ</td>\n",
       "      <td>GBP</td>\n",
       "      <td>{}</td>\n",
       "      <td>0.60000</td>\n",
       "      <td>0.60000</td>\n",
       "      <td>ukIBOR</td>\n",
       "    </tr>\n",
       "    <tr>\n",
       "      <th>1</th>\n",
       "      <td>inst_uKEquityIndex</td>\n",
       "      <td>LUID_00003DZY</td>\n",
       "      <td>GBP</td>\n",
       "      <td>{}</td>\n",
       "      <td>0.40000</td>\n",
       "      <td>0.40000</td>\n",
       "      <td>ukIBOR</td>\n",
       "    </tr>\n",
       "  </tbody>\n",
       "</table>\n",
       "</div>"
      ],
      "text/plain": [
       "  instrument_identifiers_Instrument/default/ClientInternal instrument_uid  \\\n",
       "0     inst_uKBondIndex                                      LUID_00003DZZ   \n",
       "1   inst_uKEquityIndex                                      LUID_00003DZY   \n",
       "\n",
       "  currency properties  weight  floating_weight instrument_scope  \n",
       "0      GBP         {} 0.60000          0.60000           ukIBOR  \n",
       "1      GBP         {} 0.40000          0.40000           ukIBOR  "
      ]
     },
     "execution_count": 21,
     "metadata": {},
     "output_type": "execute_result"
    }
   ],
   "source": [
    "get_constituents = reference_portfolios_api.get_reference_portfolio_constituents(\n",
    "    scope=scope, \n",
    "    code=uk_blended_index, \n",
    "    effective_at=\"2021-04-01\",\n",
    ")\n",
    "\n",
    "pd.DataFrame([flatten(item.to_dict()) for item in get_constituents.constituents])"
   ]
  },
  {
   "cell_type": "markdown",
   "metadata": {},
   "source": [
    "# 7. Delete Portfolios\n",
    "\n",
    "Run below code to delete Reference and Securitised Portfolios.\n",
    "\n",
    "> Note: uncomment code below to delete data from LUSID and clear environment"
   ]
  },
  {
   "cell_type": "code",
   "execution_count": 22,
   "metadata": {},
   "outputs": [],
   "source": [
    "# try:\n",
    "#     # Delete each of the reference portfolios\n",
    "#     for ref_code in reference_portfolios:\n",
    "#         portfolios_api.delete_portfolio(\n",
    "#             scope=scope, \n",
    "#             code=ref_code,\n",
    "#         )\n",
    "\n",
    "#     # Delete each of the securitized portfolio\n",
    "#     for inst_code in instruments_ids:\n",
    "#         instruments_api.delete_instrument(\n",
    "#             scope=scope,\n",
    "#             identifier_type=\"ClientInternal\",\n",
    "#             identifier=inst_code,\n",
    "#         )\n",
    "\n",
    "# except lusid.ApiException as e:\n",
    "#     print(json.loads(e.body)[\"title\"])"
   ]
  }
 ],
 "metadata": {
  "interpreter": {
   "hash": "0b1a8f40ac34a0a7180ca16e2fc61472e328a883cde40034bd253e0b81ec5e34"
  },
  "kernelspec": {
   "display_name": "Python 3 (ipykernel)",
   "language": "python",
   "name": "python3"
  },
  "language_info": {
   "codemirror_mode": {
    "name": "ipython",
    "version": 3
   },
   "file_extension": ".py",
   "mimetype": "text/x-python",
   "name": "python",
   "nbconvert_exporter": "python",
   "pygments_lexer": "ipython3",
   "version": "3.9.7"
  }
 },
 "nbformat": 4,
 "nbformat_minor": 4
}
