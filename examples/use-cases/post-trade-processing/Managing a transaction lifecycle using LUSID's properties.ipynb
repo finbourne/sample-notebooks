{
 "cells": [
  {
   "cell_type": "markdown",
   "metadata": {},
   "source": [
    "## Managing the transaction lifecycle on LUSID\n",
    "\n",
    "In this notebook we show how you can use properties to manage the transaction lifecycle. For the purposes of this demonstration, we're using the [transaction](https://support.finbourne.com/what-is-a-transaction) entity but the same principles could be applied to LUSID's orders and allocations, or indeed any data entity which has properties. "
   ]
  },
  {
   "cell_type": "markdown",
   "metadata": {},
   "source": [
    "### Setup LUSID"
   ]
  },
  {
   "cell_type": "code",
   "execution_count": 1,
   "metadata": {},
   "outputs": [
    {
     "name": "stdout",
     "output_type": "stream",
     "text": [
      "LUSID Environment Initialised\n",
      "LUSID API Version:  0.5.4275.0\n"
     ]
    }
   ],
   "source": [
    "# Import LUSID\n",
    "import lusid.models as models\n",
    "from lusidjam import RefreshingToken\n",
    "\n",
    "# Import Libraries\n",
    "import pprint\n",
    "from datetime import datetime, timedelta, time\n",
    "import pytz\n",
    "import pandas as pd\n",
    "import numpy as np\n",
    "import json\n",
    "import requests\n",
    "import os\n",
    "import lusid\n",
    "import lusidtools.cocoon.cocoon as cocoon\n",
    "from lusidtools.cocoon.utilities import create_scope_id\n",
    "from lusidtools.cocoon.seed_sample_data import seed_data\n",
    "from lusidtools.pandas_utils.lusid_pandas import lusid_response_to_data_frame\n",
    "import uuid\n",
    "\n",
    "# Authenticate our user and create our API client\n",
    "secrets_path = os.getenv(\"FBN_SECRETS_PATH\")\n",
    "\n",
    "api_factory = lusid.utilities.ApiClientFactory(\n",
    "    token=RefreshingToken(),\n",
    "    api_secrets_filename=secrets_path,\n",
    "    app_name=\"LusidJupyterNotebook\",\n",
    ")\n",
    "\n",
    "print(\"LUSID Environment Initialised\")\n",
    "print(\n",
    "    \"LUSID API Version: \",\n",
    "    api_factory.build(lusid.api.ApplicationMetadataApi)\n",
    "    .get_lusid_versions()\n",
    "    .build_version,\n",
    ")"
   ]
  },
  {
   "cell_type": "code",
   "execution_count": 2,
   "metadata": {},
   "outputs": [],
   "source": [
    "# define a unqique scope\n",
    "\n",
    "scope = create_scope_id()\n",
    "portfolio_code = \"EQUITY_UK\"\n",
    "\n",
    "# Load a mapping file for formatting DataFrame columns\n",
    "\n",
    "with open(r\"config/transaction_status.json\") as mappings_file:\n",
    "    transaction_status_mapping = json.load(mappings_file)"
   ]
  },
  {
   "cell_type": "markdown",
   "metadata": {},
   "source": [
    "### 1) Introduction to transaction statuses\n",
    "\n",
    "In the code below, we're going to assign some statuses to a transaction. For the purposes of this demo, we will use 4 statuses listed below. As with all LUSID properties, you are free to assign your own codes and values."
   ]
  },
  {
   "cell_type": "markdown",
   "metadata": {},
   "source": [
    "| Transaction Status  | Status description |\n",
    "| :------------- | :------------- |\n",
    "| Executed  | The transaction has been executed on the market|\n",
    "| ComplianceReview  | The transaction might go to the Compliance team to review  |\n",
    "| Confirmed  | Transaction details have been confirmed with the counterparty  |\n",
    "| Settled  | Transaction has settled at the custodian/clearer  |\n",
    "\n",
    "<br>"
   ]
  },
  {
   "cell_type": "markdown",
   "metadata": {},
   "source": [
    "### 2) Create a new data type to hold acceptable values for the status\n",
    "\n",
    "In this section, we create a new LUSID data type object to hold the list of acceptable values: Executed, ComplianceReview, Confirmed, and Settled. This data type will be used when creating the <b>transaction_status</b> property definition."
   ]
  },
  {
   "cell_type": "code",
   "execution_count": 3,
   "metadata": {},
   "outputs": [
    {
     "name": "stdout",
     "output_type": "stream",
     "text": [
      "Data Type Created\n"
     ]
    }
   ],
   "source": [
    "try:\n",
    "\n",
    "    create_request = lusid.models.CreateDataTypeRequest(\n",
    "        scope=scope,\n",
    "        code=\"TxnStatusCodes\",\n",
    "        type_value_range=\"Closed\",\n",
    "        display_name=\"Available transaction status codes\",\n",
    "        description=\"List of allowable transaction status codes\",\n",
    "        value_type=\"String\",\n",
    "        acceptable_values=[\"Executed\", \"ComplianceReview\", \"Confirmed\", \"Settled\"],\n",
    "    )\n",
    "\n",
    "    response = api_factory.build(lusid.api.DataTypesApi).create_data_type(\n",
    "        request=create_request\n",
    "    )\n",
    "\n",
    "    print(\"Data Type Created\")\n",
    "\n",
    "except:\n",
    "\n",
    "    response = api_factory.build(lusid.api.DataTypesApi).get_data_type(\n",
    "        scope=scope, code=\"TxnStatusCodes\"\n",
    "    )\n",
    "\n",
    "    print(response)"
   ]
  },
  {
   "cell_type": "markdown",
   "metadata": {},
   "source": [
    "### 3) Create a new property definition of transaction_status\n",
    "\n",
    "Next we define a new <b>transaction_status</b> property which will be used on the transaction to set the allowed statuses. As you can see, we have passed the <b>data_type_id</b> which we created above."
   ]
  },
  {
   "cell_type": "code",
   "execution_count": 4,
   "metadata": {},
   "outputs": [],
   "source": [
    "try:\n",
    "    api_factory.build(lusid.api.PropertyDefinitionsApi).create_property_definition(\n",
    "        lusid.models.CreatePropertyDefinitionRequest(\n",
    "            domain=\"Transaction\",\n",
    "            scope=scope,\n",
    "            code=\"transaction_status\",\n",
    "            value_required=None,\n",
    "            display_name=\"Transaction Status\",\n",
    "            data_type_id=lusid.ResourceId(scope=scope, code=\"TxnStatusCodes\"),\n",
    "            life_time=None,\n",
    "        )\n",
    "    )\n",
    "except:\n",
    "    pass"
   ]
  },
  {
   "cell_type": "markdown",
   "metadata": {},
   "source": [
    "### 4) Create new portfolio with transactions\n",
    "\n",
    "In the code below, we create a new portfolio called <b>EQUITY_UK</b> with two transactions from the <i>equity_transactions.csv</i> file. There is one equity trade and one subsciption of cash. The transactions have the <b>transaction_status</b> of <i>Executed</i> and <i>Confirmed</i> which are allowed values per the data type above."
   ]
  },
  {
   "cell_type": "code",
   "execution_count": 5,
   "metadata": {},
   "outputs": [
    {
     "data": {
      "text/html": [
       "<div>\n",
       "<style scoped>\n",
       "    .dataframe tbody tr th:only-of-type {\n",
       "        vertical-align: middle;\n",
       "    }\n",
       "\n",
       "    .dataframe tbody tr th {\n",
       "        vertical-align: top;\n",
       "    }\n",
       "\n",
       "    .dataframe thead th {\n",
       "        text-align: right;\n",
       "    }\n",
       "</style>\n",
       "<table border=\"1\" class=\"dataframe\">\n",
       "  <thead>\n",
       "    <tr style=\"text-align: right;\">\n",
       "      <th></th>\n",
       "      <th>portfolio_code</th>\n",
       "      <th>portfolio_name</th>\n",
       "      <th>portfolio_base_currency</th>\n",
       "      <th>ticker</th>\n",
       "      <th>sedol</th>\n",
       "      <th>instrument_type</th>\n",
       "      <th>instrument_id</th>\n",
       "      <th>name</th>\n",
       "      <th>txn_id</th>\n",
       "      <th>txn_type</th>\n",
       "      <th>txn_trade_date</th>\n",
       "      <th>txn_settle_date</th>\n",
       "      <th>txn_units</th>\n",
       "      <th>txn_price</th>\n",
       "      <th>txn_consideration</th>\n",
       "      <th>currency</th>\n",
       "      <th>transaction_status</th>\n",
       "      <th>cash_transactions</th>\n",
       "    </tr>\n",
       "  </thead>\n",
       "  <tbody>\n",
       "    <tr>\n",
       "      <th>0</th>\n",
       "      <td>EQUITY_UK</td>\n",
       "      <td>LUSID's top 10 FTSE stock portfolio</td>\n",
       "      <td>GBP</td>\n",
       "      <td>GB0002162385</td>\n",
       "      <td>SEDOL1</td>\n",
       "      <td>equity</td>\n",
       "      <td>EQ_1234</td>\n",
       "      <td>Aviva</td>\n",
       "      <td>trd_0001</td>\n",
       "      <td>Buy</td>\n",
       "      <td>02/01/2020</td>\n",
       "      <td>04/01/2020</td>\n",
       "      <td>120000</td>\n",
       "      <td>5</td>\n",
       "      <td>600000</td>\n",
       "      <td>GBP</td>\n",
       "      <td>Executed</td>\n",
       "      <td>NaN</td>\n",
       "    </tr>\n",
       "    <tr>\n",
       "      <th>1</th>\n",
       "      <td>EQUITY_UK</td>\n",
       "      <td>LUSID's top 10 FTSE stock portfolio</td>\n",
       "      <td>GBP</td>\n",
       "      <td>GBP</td>\n",
       "      <td>GBP</td>\n",
       "      <td>cash</td>\n",
       "      <td>GBP</td>\n",
       "      <td>GBP Cash</td>\n",
       "      <td>trd_0021</td>\n",
       "      <td>FundsIn</td>\n",
       "      <td>02/01/2020</td>\n",
       "      <td>04/01/2020</td>\n",
       "      <td>12000000</td>\n",
       "      <td>1</td>\n",
       "      <td>12000000</td>\n",
       "      <td>GBP</td>\n",
       "      <td>Confirmed</td>\n",
       "      <td>GBP</td>\n",
       "    </tr>\n",
       "  </tbody>\n",
       "</table>\n",
       "</div>"
      ],
      "text/plain": [
       "  portfolio_code                       portfolio_name portfolio_base_currency  \\\n",
       "0      EQUITY_UK  LUSID's top 10 FTSE stock portfolio                     GBP   \n",
       "1      EQUITY_UK  LUSID's top 10 FTSE stock portfolio                     GBP   \n",
       "\n",
       "         ticker   sedol instrument_type instrument_id      name    txn_id  \\\n",
       "0  GB0002162385  SEDOL1          equity       EQ_1234     Aviva  trd_0001   \n",
       "1           GBP     GBP            cash           GBP  GBP Cash  trd_0021   \n",
       "\n",
       "  txn_type txn_trade_date txn_settle_date  txn_units  txn_price  \\\n",
       "0      Buy     02/01/2020      04/01/2020     120000          5   \n",
       "1  FundsIn     02/01/2020      04/01/2020   12000000          1   \n",
       "\n",
       "   txn_consideration currency transaction_status cash_transactions  \n",
       "0             600000      GBP           Executed               NaN  \n",
       "1           12000000      GBP          Confirmed               GBP  "
      ]
     },
     "execution_count": 5,
     "metadata": {},
     "output_type": "execute_result"
    }
   ],
   "source": [
    "transactions_file = r\"data/equity_transactions.csv\"\n",
    "transactions_df = pd.read_csv(transactions_file)\n",
    "transactions_df[\"portfolio_code\"] = portfolio_code\n",
    "transactions_df"
   ]
  },
  {
   "cell_type": "code",
   "execution_count": 6,
   "metadata": {},
   "outputs": [
    {
     "name": "stdout",
     "output_type": "stream",
     "text": [
      "Portfolio EQUITY_UK has been created with transactions.\n"
     ]
    }
   ],
   "source": [
    "# The seed_data() function takes a file of transaction data\n",
    "# and loads portfolios, instruments, and transactions into LUSID\n",
    "# We use this function as a quick way of generating a demo portfolio\n",
    "\n",
    "seed_data(\n",
    "    api_factory,\n",
    "    [\"portfolios\", \"instruments\", \"transactions\"],\n",
    "    scope,\n",
    "    transactions_file,\n",
    "    \"csv\",\n",
    "    mappings=transaction_status_mapping,\n",
    ")\n",
    "\n",
    "print(f\"Portfolio {portfolio_code} has been created with transactions.\")"
   ]
  },
  {
   "cell_type": "markdown",
   "metadata": {},
   "source": [
    "### 5) Check transactions were loaded successfully\n",
    "\n",
    "Check that the transactions loaded correctly by calling the [get transactions](https://www.lusid.com/docs/api/#operation/GetTransactions) method on the TransactionPortfolios API."
   ]
  },
  {
   "cell_type": "code",
   "execution_count": 7,
   "metadata": {},
   "outputs": [
    {
     "data": {
      "text/html": [
       "<div>\n",
       "<style scoped>\n",
       "    .dataframe tbody tr th:only-of-type {\n",
       "        vertical-align: middle;\n",
       "    }\n",
       "\n",
       "    .dataframe tbody tr th {\n",
       "        vertical-align: top;\n",
       "    }\n",
       "\n",
       "    .dataframe thead th {\n",
       "        text-align: right;\n",
       "    }\n",
       "</style>\n",
       "<table border=\"1\" class=\"dataframe\">\n",
       "  <thead>\n",
       "    <tr style=\"text-align: right;\">\n",
       "      <th></th>\n",
       "      <th>transaction_id</th>\n",
       "      <th>type</th>\n",
       "      <th>instrument_identifiers.Instrument/default/ClientInternal</th>\n",
       "      <th>instrument_uid</th>\n",
       "      <th>transaction_date</th>\n",
       "      <th>settlement_date</th>\n",
       "      <th>units</th>\n",
       "      <th>transaction_price.price</th>\n",
       "      <th>transaction_price.type</th>\n",
       "      <th>total_consideration.amount</th>\n",
       "      <th>total_consideration.currency</th>\n",
       "      <th>exchange_rate</th>\n",
       "      <th>transaction_currency</th>\n",
       "      <th>SourcePortfolioId(default-Properties)</th>\n",
       "      <th>SourcePortfolioScope(default-Properties)</th>\n",
       "      <th>transaction_status(385c-a208-deb2-78-Properties)</th>\n",
       "      <th>instrument_identifiers.Instrument/default/Currency</th>\n",
       "    </tr>\n",
       "  </thead>\n",
       "  <tbody>\n",
       "    <tr>\n",
       "      <th>0</th>\n",
       "      <td>trd_0001</td>\n",
       "      <td>Buy</td>\n",
       "      <td>EQ_1234</td>\n",
       "      <td>LUID_ATFGUBHS</td>\n",
       "      <td>2020-01-02 00:00:00+00:00</td>\n",
       "      <td>2020-01-04 00:00:00+00:00</td>\n",
       "      <td>120000.0</td>\n",
       "      <td>5.0</td>\n",
       "      <td>Price</td>\n",
       "      <td>600000.0</td>\n",
       "      <td>GBP</td>\n",
       "      <td>1.0</td>\n",
       "      <td>GBP</td>\n",
       "      <td>EQUITY_UK</td>\n",
       "      <td>385c-a208-deb2-78</td>\n",
       "      <td>Executed</td>\n",
       "      <td>NaN</td>\n",
       "    </tr>\n",
       "    <tr>\n",
       "      <th>1</th>\n",
       "      <td>trd_0021</td>\n",
       "      <td>FundsIn</td>\n",
       "      <td>NaN</td>\n",
       "      <td>CCY_GBP</td>\n",
       "      <td>2020-01-02 00:00:00+00:00</td>\n",
       "      <td>2020-01-04 00:00:00+00:00</td>\n",
       "      <td>12000000.0</td>\n",
       "      <td>1.0</td>\n",
       "      <td>Price</td>\n",
       "      <td>12000000.0</td>\n",
       "      <td>GBP</td>\n",
       "      <td>1.0</td>\n",
       "      <td>GBP</td>\n",
       "      <td>EQUITY_UK</td>\n",
       "      <td>385c-a208-deb2-78</td>\n",
       "      <td>Confirmed</td>\n",
       "      <td>GBP</td>\n",
       "    </tr>\n",
       "  </tbody>\n",
       "</table>\n",
       "</div>"
      ],
      "text/plain": [
       "  transaction_id     type  \\\n",
       "0       trd_0001      Buy   \n",
       "1       trd_0021  FundsIn   \n",
       "\n",
       "  instrument_identifiers.Instrument/default/ClientInternal instrument_uid  \\\n",
       "0                                            EQ_1234        LUID_ATFGUBHS   \n",
       "1                                                NaN              CCY_GBP   \n",
       "\n",
       "           transaction_date           settlement_date       units  \\\n",
       "0 2020-01-02 00:00:00+00:00 2020-01-04 00:00:00+00:00    120000.0   \n",
       "1 2020-01-02 00:00:00+00:00 2020-01-04 00:00:00+00:00  12000000.0   \n",
       "\n",
       "   transaction_price.price transaction_price.type  total_consideration.amount  \\\n",
       "0                      5.0                  Price                    600000.0   \n",
       "1                      1.0                  Price                  12000000.0   \n",
       "\n",
       "  total_consideration.currency  exchange_rate transaction_currency  \\\n",
       "0                          GBP            1.0                  GBP   \n",
       "1                          GBP            1.0                  GBP   \n",
       "\n",
       "  SourcePortfolioId(default-Properties)  \\\n",
       "0                             EQUITY_UK   \n",
       "1                             EQUITY_UK   \n",
       "\n",
       "  SourcePortfolioScope(default-Properties)  \\\n",
       "0                        385c-a208-deb2-78   \n",
       "1                        385c-a208-deb2-78   \n",
       "\n",
       "  transaction_status(385c-a208-deb2-78-Properties)  \\\n",
       "0                                         Executed   \n",
       "1                                        Confirmed   \n",
       "\n",
       "  instrument_identifiers.Instrument/default/Currency  \n",
       "0                                                NaN  \n",
       "1                                                GBP  "
      ]
     },
     "execution_count": 7,
     "metadata": {},
     "output_type": "execute_result"
    }
   ],
   "source": [
    "# Define the transactions portfolio API\n",
    "transaction_portfolio_api = api_factory.build(lusid.api.TransactionPortfoliosApi)\n",
    "\n",
    "# Call the get transactions method \n",
    "get_transaction_response = transaction_portfolio_api.get_transactions(\n",
    "    scope=scope, code=portfolio_code)\n",
    "\n",
    "# Scrape the response into a DataFrame\n",
    "get_transactions_df = lusid_response_to_data_frame(\n",
    "    get_transaction_response, rename_properties=True)\n",
    "\n",
    "# Print the DataFrame\n",
    "get_transactions_df"
   ]
  },
  {
   "cell_type": "markdown",
   "metadata": {},
   "source": [
    "### 6) Correct the transaction status to <i>Matched</i> - this is an invalid value \n",
    "\n",
    "To show the data validation on <b>transaction_status</b> field, we now want to add an unacceptable value. For the purposes of this demo, we will correct the <b>transaction_status</b> to <i>Matched</i> which is not one of the 4 acceptable values."
   ]
  },
  {
   "cell_type": "code",
   "execution_count": 8,
   "metadata": {},
   "outputs": [
    {
     "data": {
      "text/html": [
       "<div>\n",
       "<style scoped>\n",
       "    .dataframe tbody tr th:only-of-type {\n",
       "        vertical-align: middle;\n",
       "    }\n",
       "\n",
       "    .dataframe tbody tr th {\n",
       "        vertical-align: top;\n",
       "    }\n",
       "\n",
       "    .dataframe thead th {\n",
       "        text-align: right;\n",
       "    }\n",
       "</style>\n",
       "<table border=\"1\" class=\"dataframe\">\n",
       "  <thead>\n",
       "    <tr style=\"text-align: right;\">\n",
       "      <th></th>\n",
       "      <th>portfolio_code</th>\n",
       "      <th>portfolio_name</th>\n",
       "      <th>portfolio_base_currency</th>\n",
       "      <th>ticker</th>\n",
       "      <th>sedol</th>\n",
       "      <th>instrument_type</th>\n",
       "      <th>instrument_id</th>\n",
       "      <th>name</th>\n",
       "      <th>txn_id</th>\n",
       "      <th>txn_type</th>\n",
       "      <th>txn_trade_date</th>\n",
       "      <th>txn_settle_date</th>\n",
       "      <th>txn_units</th>\n",
       "      <th>txn_price</th>\n",
       "      <th>txn_consideration</th>\n",
       "      <th>currency</th>\n",
       "      <th>transaction_status</th>\n",
       "      <th>cash_transactions</th>\n",
       "    </tr>\n",
       "  </thead>\n",
       "  <tbody>\n",
       "    <tr>\n",
       "      <th>0</th>\n",
       "      <td>EQUITY_UK</td>\n",
       "      <td>LUSID's top 10 FTSE stock portfolio</td>\n",
       "      <td>GBP</td>\n",
       "      <td>GB0002162385</td>\n",
       "      <td>SEDOL1</td>\n",
       "      <td>equity</td>\n",
       "      <td>EQ_1234</td>\n",
       "      <td>Aviva</td>\n",
       "      <td>trd_0001</td>\n",
       "      <td>Buy</td>\n",
       "      <td>02/01/2020</td>\n",
       "      <td>04/01/2020</td>\n",
       "      <td>120000</td>\n",
       "      <td>5</td>\n",
       "      <td>600000</td>\n",
       "      <td>GBP</td>\n",
       "      <td>Matched</td>\n",
       "      <td>NaN</td>\n",
       "    </tr>\n",
       "    <tr>\n",
       "      <th>1</th>\n",
       "      <td>EQUITY_UK</td>\n",
       "      <td>LUSID's top 10 FTSE stock portfolio</td>\n",
       "      <td>GBP</td>\n",
       "      <td>GBP</td>\n",
       "      <td>GBP</td>\n",
       "      <td>cash</td>\n",
       "      <td>GBP</td>\n",
       "      <td>GBP Cash</td>\n",
       "      <td>trd_0021</td>\n",
       "      <td>FundsIn</td>\n",
       "      <td>02/01/2020</td>\n",
       "      <td>04/01/2020</td>\n",
       "      <td>12000000</td>\n",
       "      <td>1</td>\n",
       "      <td>12000000</td>\n",
       "      <td>GBP</td>\n",
       "      <td>Confirmed</td>\n",
       "      <td>GBP</td>\n",
       "    </tr>\n",
       "  </tbody>\n",
       "</table>\n",
       "</div>"
      ],
      "text/plain": [
       "  portfolio_code                       portfolio_name portfolio_base_currency  \\\n",
       "0      EQUITY_UK  LUSID's top 10 FTSE stock portfolio                     GBP   \n",
       "1      EQUITY_UK  LUSID's top 10 FTSE stock portfolio                     GBP   \n",
       "\n",
       "         ticker   sedol instrument_type instrument_id      name    txn_id  \\\n",
       "0  GB0002162385  SEDOL1          equity       EQ_1234     Aviva  trd_0001   \n",
       "1           GBP     GBP            cash           GBP  GBP Cash  trd_0021   \n",
       "\n",
       "  txn_type txn_trade_date txn_settle_date  txn_units  txn_price  \\\n",
       "0      Buy     02/01/2020      04/01/2020     120000          5   \n",
       "1  FundsIn     02/01/2020      04/01/2020   12000000          1   \n",
       "\n",
       "   txn_consideration currency transaction_status cash_transactions  \n",
       "0             600000      GBP            Matched               NaN  \n",
       "1           12000000      GBP          Confirmed               GBP  "
      ]
     },
     "execution_count": 8,
     "metadata": {},
     "output_type": "execute_result"
    }
   ],
   "source": [
    "transactions_df.at[0, \"transaction_status\"] = \"Matched\"\n",
    "transactions_df"
   ]
  },
  {
   "cell_type": "markdown",
   "metadata": {},
   "source": [
    "As you can see, the request fails with an <b>InvalidTransactions</b> error: "
   ]
  },
  {
   "cell_type": "code",
   "execution_count": 9,
   "metadata": {},
   "outputs": [
    {
     "name": "stdout",
     "output_type": "stream",
     "text": [
      "Error type:  InvalidTransactions \n",
      "\n",
      "Transaction ID which created error:  trd_0001 \n",
      "\n",
      "Error details:  Invalid value 'Matched' supplied to the field of data type 385c-a208-deb2-78/TxnStatusCodes. Validation error: The value is not in the list of acceptable values \n",
      "\n"
     ]
    }
   ],
   "source": [
    "result = cocoon.load_from_data_frame(\n",
    "    api_factory=api_factory,\n",
    "    scope=scope,\n",
    "    data_frame=transactions_df,\n",
    "    mapping_required=transaction_status_mapping[\"transactions\"][\"required\"],\n",
    "    mapping_optional=transaction_status_mapping[\"transactions\"][\"optional\"],\n",
    "    file_type=\"transactions\",\n",
    "    identifier_mapping=transaction_status_mapping[\"transactions\"][\"identifier_mapping\"],\n",
    "    property_columns=transaction_status_mapping[\"transactions\"][\"properties\"],\n",
    "    properties_scope=scope,\n",
    ")\n",
    "\n",
    "error_response = result[\"transactions\"][\"errors\"][0].body\n",
    "print(\"Error type: \", json.loads(error_response)[\"name\"],\"\\n\")\n",
    "print(\"Transaction ID which created error: \", json.loads(error_response)[\"errorDetails\"][0][\"id\"],\"\\n\")\n",
    "print(\"Error details: \", json.loads(error_response)[\"errorDetails\"][0][\"detail\"],\"\\n\")"
   ]
  }
 ],
 "metadata": {
  "kernelspec": {
   "display_name": "Python 3",
   "language": "python",
   "name": "python3"
  },
  "language_info": {
   "codemirror_mode": {
    "name": "ipython",
    "version": 3
   },
   "file_extension": ".py",
   "mimetype": "text/x-python",
   "name": "python",
   "nbconvert_exporter": "python",
   "pygments_lexer": "ipython3",
   "version": "3.7.3"
  }
 },
 "nbformat": 4,
 "nbformat_minor": 2
}
