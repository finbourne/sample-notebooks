{
 "cells": [
  {
   "cell_type": "markdown",
   "metadata": {},
   "source": [
    "## The Challenge"
   ]
  },
  {
   "cell_type": "markdown",
   "metadata": {},
   "source": [
    "We are an asset manager who has just taken on a new client. The client has given us a number of mandates on how to manage their assets and we have assigned each of these to a different portfolio manager.\n",
    "\n",
    "Even though there are a number of different mandates, some of the strategies that we are using are common across mandates. We really need to be able to see how each strategy is performing across all of our client's holdings, rather than just looking at a single portfolio in isolation."
   ]
  },
  {
   "cell_type": "markdown",
   "metadata": {},
   "source": [
    "## The Solution"
   ]
  },
  {
   "cell_type": "markdown",
   "metadata": {},
   "source": [
    "Using LUSID we have the ability to add a strategy label to each transaction that we make. We can then aggregate across these labels to get a holistic view into how a strategy is performing. We can do this by:\n",
    "\n",
    "1. Creating a portfolio for each mandate that our client has given us and group them in a portfolio group\n",
    "2. Loading our instrument universe \n",
    "3. Adding our take on balances for each portfolio which have been provided to us by a transition manager\n",
    "4. Creating a strategy tag that we can use to tag our transactions with the strategy used to make the trade\n",
    "5. Adding the first trades that have been made by our portfolio managers inlcuding the strategy that they were following when they made them\n",
    "6. Creating an analytics store so that we can aggregate across our client's portfolios\n",
    "7. Aggregate across all of our client's portfolios to see the overall position\n",
    "8. Aggregate across all of our client's portfolios by strategy to our position per strategy\n",
    "\n",
    "First things first though, we need to initialise our LUSID environment. \n",
    "\n",
    "*To initialise our LUSID environment run the cell below*"
   ]
  },
  {
   "cell_type": "code",
   "execution_count": 1,
   "metadata": {},
   "outputs": [
    {
     "name": "stdout",
     "output_type": "stream",
     "text": [
      "LUSID Environment Initialised\n",
      "LUSID API Version:  0.5.2549.0\n"
     ]
    }
   ],
   "source": [
    "# Import LUSID\n",
    "import lusid.models as models\n",
    "import lusid_sample_data as import_data\n",
    "\n",
    "# Import Libraries\n",
    "import pprint\n",
    "from datetime import datetime, timedelta, time\n",
    "import pytz\n",
    "import printer as prettyprint\n",
    "\n",
    "# Authenticate our user and create our API client\n",
    "client = import_data.authenticate_secrets()\n",
    "\n",
    "print ('LUSID Environment Initialised')\n",
    "print ('LUSID API Version: ', client.metadata.get_lusid_versions().build_version)"
   ]
  },
  {
   "cell_type": "markdown",
   "metadata": {},
   "source": [
    "We now have an empty LUSID environment initialised"
   ]
  },
  {
   "cell_type": "markdown",
   "metadata": {},
   "source": [
    "![Scopes](img/strategies-lusid.gif)"
   ]
  },
  {
   "cell_type": "markdown",
   "metadata": {},
   "source": [
    "### 1) Creating a portfolio for each mandate and grouping them in a portfolio group"
   ]
  },
  {
   "cell_type": "markdown",
   "metadata": {},
   "source": [
    "In LUSID we can create separate environments for each of our clients using scopes. A scope is a container for LUSID objects and can be thought of as a separate identity namespace. Using LUSID's entitlements engine we can ensure that only the right people can access a given scope. Furthermore we can ensure that only the right people can access the right objects inside a given scope. LUSID allows for entitlements down to the most granular level. \n",
    "\n",
    "For this example we will create a scope for our new client. Let us assume that our new client is a pension fund for a large high street retailer which we will call 'high_street_pension_fund'.\n",
    "\n",
    "*Run the cell below to initialise our scope. Note that the scope will have a unique 4 character code appended to it to make the name more unique.*"
   ]
  },
  {
   "cell_type": "code",
   "execution_count": 6,
   "metadata": {},
   "outputs": [
    {
     "name": "stdout",
     "output_type": "stream",
     "text": [
      "\u001b[1mNew Client Scope Code: \u001b[0mclient-high_street_pension_fund-6910\n"
     ]
    }
   ],
   "source": [
    "# Fetch our scopes\n",
    "scope_id = import_data.create_scope_ids(1)\n",
    "client_scope_code = 'client-high_street_pension_fund-{}'.format(scope_id[0])\n",
    "# Pretty print our scope\n",
    "prettyprint.heading('New Client Scope Code', client_scope_code)"
   ]
  },
  {
   "cell_type": "markdown",
   "metadata": {},
   "source": [
    "We now have a scope for our client inside our LUSID environment. "
   ]
  },
  {
   "cell_type": "markdown",
   "metadata": {},
   "source": [
    "![Scopes](img/strategies-scope.gif)"
   ]
  },
  {
   "cell_type": "markdown",
   "metadata": {},
   "source": [
    "Now that we have our scope we can create our portfolios.\n",
    "\n",
    "The first thing that we need to do here is give each portfolio a unique name. In LUSID these are refered to as 'codes'. Almost every object in LUSID can be refered to by the combination of the scope that it is contained in and its code. The code must be unique to the scope.\n",
    "\n",
    "Our pension fund has five mandates and thus five portfolios. \n",
    "\n",
    "In LUSID we can use portfolio groups to group the different portfolios of each of our clients together. This allows us to easily keep track of and work with the holdings of each of our clients.\n",
    "\n",
    "*Run the cell below to import the name for our portfolio group and its corresponding portfolios.*"
   ]
  },
  {
   "cell_type": "code",
   "execution_count": 7,
   "metadata": {},
   "outputs": [
    {
     "name": "stdout",
     "output_type": "stream",
     "text": [
      "\u001b[1mPortfolio group: \u001b[0mhigh_street_pension_fund-portfolios\n",
      "   \u001b[1mPortfolio: \u001b[0mmandate-balanced\n",
      "   \u001b[1mPortfolio: \u001b[0mmandate-energy\n",
      "   \u001b[1mPortfolio: \u001b[0mmandate-fixedincome\n",
      "   \u001b[1mPortfolio: \u001b[0mmandate-international\n",
      "   \u001b[1mPortfolio: \u001b[0mmandate-usgovt\n",
      "\n",
      "\n"
     ]
    }
   ],
   "source": [
    "client_portfolios = import_data.fetch_portfolio_names('strategy-portfolios.csv')\n",
    "client_group_code = list(client_portfolios.keys())[0]\n",
    "prettyprint.portfolios(client_portfolios)"
   ]
  },
  {
   "cell_type": "markdown",
   "metadata": {},
   "source": [
    "Note that in LUSID we can only create one portfolio at a time. \n",
    "        \n",
    "We will thus create each of the portfolios for our client one after the other and then we will create the portfolio group that binds them together.\n",
    "        \n",
    "We on-boarded this clients 5 days ago. When we create the portfolios we can set the creation date using the 'created' argument. This will allow us to backdate holdings and transactions.\n",
    "\n",
    "You can read more about creating a portfolio in the LUSID API documentation: [LUSID API Docs: Creating a Portfolio](https://docs.lusid.com/#operation/CreatePortfolio)\n",
    "\n",
    "You can also read more about creating a portfolio group in the LUSID API documentation:\n",
    "\n",
    "[LUSID API Docs: Creating a Portfolio Group](https://docs.lusid.com/#operation/CreatePortfolioGroup)\n",
    "\n",
    "*Run the cell below to create our portfolios and group them together*"
   ]
  },
  {
   "cell_type": "code",
   "execution_count": 8,
   "metadata": {},
   "outputs": [
    {
     "name": "stdout",
     "output_type": "stream",
     "text": [
      "\u001b[1mPortfolio Created\u001b[0m\n",
      "\u001b[1mScope: \u001b[0mclient-high_street_pension_fund-6910\n",
      "\u001b[1mCode: \u001b[0mmandate-balanced\n",
      "\u001b[1mPortfolio Effective From: \u001b[0m2019-04-24 11:04:17.763042+00:00\n",
      "\u001b[1mPortfolio Created On: \u001b[0m2019-04-29 11:04:18.399421+00:00\n",
      "\n",
      "\u001b[1mPortfolio Created\u001b[0m\n",
      "\u001b[1mScope: \u001b[0mclient-high_street_pension_fund-6910\n",
      "\u001b[1mCode: \u001b[0mmandate-energy\n",
      "\u001b[1mPortfolio Effective From: \u001b[0m2019-04-24 11:04:17.763042+00:00\n",
      "\u001b[1mPortfolio Created On: \u001b[0m2019-04-29 11:04:19.372523+00:00\n",
      "\n",
      "\u001b[1mPortfolio Created\u001b[0m\n",
      "\u001b[1mScope: \u001b[0mclient-high_street_pension_fund-6910\n",
      "\u001b[1mCode: \u001b[0mmandate-fixedincome\n",
      "\u001b[1mPortfolio Effective From: \u001b[0m2019-04-24 11:04:17.763042+00:00\n",
      "\u001b[1mPortfolio Created On: \u001b[0m2019-04-29 11:04:19.689198+00:00\n",
      "\n",
      "\u001b[1mPortfolio Created\u001b[0m\n",
      "\u001b[1mScope: \u001b[0mclient-high_street_pension_fund-6910\n",
      "\u001b[1mCode: \u001b[0mmandate-international\n",
      "\u001b[1mPortfolio Effective From: \u001b[0m2019-04-24 11:04:17.763042+00:00\n",
      "\u001b[1mPortfolio Created On: \u001b[0m2019-04-29 11:04:19.937539+00:00\n",
      "\n",
      "\u001b[1mPortfolio Created\u001b[0m\n",
      "\u001b[1mScope: \u001b[0mclient-high_street_pension_fund-6910\n",
      "\u001b[1mCode: \u001b[0mmandate-usgovt\n",
      "\u001b[1mPortfolio Effective From: \u001b[0m2019-04-24 11:04:17.763042+00:00\n",
      "\u001b[1mPortfolio Created On: \u001b[0m2019-04-29 11:04:20.244052+00:00\n",
      "\n",
      "\u001b[91m\u001b[1mPortfolio Group Created\u001b[0m\n",
      "\u001b[1mName: \u001b[0mhigh_street_pension_fund-portfolios\n",
      "\u001b[1mScope: \u001b[0mclient-high_street_pension_fund-6910\n",
      "\u001b[1mCode: \u001b[0mhigh_street_pension_fund-portfolios\n",
      "\u001b[1mPortfolios Inside Group: \u001b[0m\n",
      "mandate-balanced\n",
      "mandate-energy\n",
      "mandate-fixedincome\n",
      "mandate-international\n",
      "mandate-usgovt\n",
      "\n",
      "\n"
     ]
    }
   ],
   "source": [
    "# Set the creation date of our portfolio\n",
    "created_date = datetime.now(pytz.UTC) - timedelta(days=5)\n",
    "\n",
    "# Initialise a list to hold the ids of our portfolios for use in creating our portfolio group\n",
    "portfolio_resourceids = []\n",
    "\n",
    "# Loop over our portfolios\n",
    "for portfolio_code in client_portfolios[client_group_code]:\n",
    "    # Create the request to add our portfolio\n",
    "    portfolio_request = models.CreateTransactionPortfolioRequest(\n",
    "        display_name=portfolio_code,\n",
    "        code=portfolio_code,\n",
    "        base_currency='GBP',\n",
    "        description=portfolio_code,\n",
    "        created=created_date)\n",
    "    \n",
    "    # Call LUSID to create our portfolio\n",
    "    response = client.transaction_portfolios.create_portfolio(\n",
    "        scope=client_scope_code,\n",
    "        create_request=portfolio_request)\n",
    "\n",
    "    # Print the response from LUSID using pretty formatting\n",
    "    prettyprint.portfolio_response(response)\n",
    "\n",
    "    # Add the portfolio to our list of portfolios for the portfolio group\n",
    "    portfolio_resourceids.append(\n",
    "        models.ResourceId(scope=client_scope_code, code=portfolio_code))\n",
    "\n",
    "# Create our portfolio group request\n",
    "portfolio_group_request = models.CreatePortfolioGroupRequest(\n",
    "    id=client_group_code,\n",
    "    display_name=client_group_code,\n",
    "    values=portfolio_resourceids,\n",
    "    description='Grouping all of {}'.format(client_group_code))\n",
    "\n",
    "# Call LUSID to create our portfolio group\n",
    "response = client.portfolio_groups.create_portfolio_group(\n",
    "    scope=client_scope_code,\n",
    "    request=portfolio_group_request)\n",
    "\n",
    "# Print the response from LUSID using pretty formatting\n",
    "prettyprint.portfolio_group_response(response, 'created')"
   ]
  },
  {
   "cell_type": "markdown",
   "metadata": {},
   "source": [
    "Our scope for our new client is now populated with our portfolios which are grouped together in a portfolio group. All of our portfolios are currently empty."
   ]
  },
  {
   "cell_type": "markdown",
   "metadata": {},
   "source": [
    "![Scopes](img/strategies-portfolios.gif)"
   ]
  },
  {
   "cell_type": "markdown",
   "metadata": {},
   "source": [
    "### 2) Adding our instrument universe"
   ]
  },
  {
   "cell_type": "markdown",
   "metadata": {},
   "source": [
    "Before we can load our take on balances we first need to add securities to our instrument master in LUSID. \n",
    "        \n",
    "The instrument master contains the details of all of the securities that we hold or trade in. Any time that we conduct a trade or add a holding of a security we refer to it in the instrument master. \n",
    "\n",
    "Below we can import our universe of instruments which all of our holdings are made up of. Using LUSID this universe can be pre-populated in advance with your entire instrument universe so that we don't have to keep adding new instruments when we make a trade or update a holding. \n",
    "\n",
    "*Run the cell below to import our instrument universe*"
   ]
  },
  {
   "cell_type": "code",
   "execution_count": 9,
   "metadata": {},
   "outputs": [
    {
     "name": "stdout",
     "output_type": "stream",
     "text": [
      "Amazon_Nasdaq_AMZN: \u001b[1mClientInternal - imd_34634534\u001b[0m\n",
      "Apple_Nasdaq_AAPL: \u001b[1mClientInternal - imd_35345345\u001b[0m\n",
      "BP_LondonStockEx_BP: \u001b[1mClientInternal - imd_43535553\u001b[0m\n",
      "BurfordCapital_LondonStockEx_BUR: \u001b[1mClientInternal - imd_43534356\u001b[0m\n",
      "EKFDiagnostics_LondonStockEx_EKF: \u001b[1mClientInternal - imd_34535355\u001b[0m\n",
      "Glencore_LondonStockEx_GLEN: \u001b[1mClientInternal - imd_34534555\u001b[0m\n",
      "JustEat_LondonStockEx_JE: \u001b[1mClientInternal - imd_35436366\u001b[0m\n",
      "Kingfisher_LondonStockEx_KGF: \u001b[1mClientInternal - imd_34535552\u001b[0m\n",
      "MicroFocus_LondonStockEx_MCRO: \u001b[1mClientInternal - imd_34567338\u001b[0m\n",
      "RELXGroup_LondonStockEx_REL: \u001b[1mClientInternal - imd_43532542\u001b[0m\n",
      "Sage_LondonStockEx_SGE: \u001b[1mClientInternal - imd_23536673\u001b[0m\n",
      "TESCO_LondonStockEx_TSCO: \u001b[1mClientInternal - imd_34634673\u001b[0m\n",
      "UKGiltTreasury_2.0_2025: \u001b[1mClientInternal - imd_34534536\u001b[0m\n",
      "UKGiltTreasury_3.5_2045: \u001b[1mClientInternal - imd_54234532\u001b[0m\n",
      "UKGiltTreasury_3.75_2021: \u001b[1mClientInternal - imd_34643653\u001b[0m\n",
      "UKGiltTreasury_4.5_2034: \u001b[1mClientInternal - imd_34534534\u001b[0m\n",
      "USTreasury_2.00_2021: \u001b[1mClientInternal - imd_34535347\u001b[0m\n",
      "USTreasury_6.875_2025: \u001b[1mClientInternal - imd_34534539\u001b[0m\n",
      "WPP_LondonStockEx_WPP: \u001b[1mClientInternal - imd_34536734\u001b[0m\n",
      "Whitebread_LondonStockEx_WTB: \u001b[1mClientInternal - imd_35349900\u001b[0m\n"
     ]
    }
   ],
   "source": [
    "instrument_universe = import_data.fetch_instrument_universe('instruments.csv')\n",
    "prettyprint.instruments(instrument_universe, 'ClientInternal')"
   ]
  },
  {
   "cell_type": "markdown",
   "metadata": {},
   "source": [
    "Now that we have our instruments we can add them to LUSID.\n",
    "\n",
    "To add securities to the instrument master in LUSID we use an upsert method. This method will insert a new record if it does not exist and update the existing record if it does exist. This allows us to add instruments more simply than have to check if an instrument exists before we insert it. \n",
    "\n",
    "We can upsert our instruments individually or in a batch. You can read more about upserting instruments\n",
    "in the LUSID API Documentation: [LUSID API Docs: Upserting Instruments](https://docs.lusid.com/#operation/UpsertInstruments)\n",
    "\n",
    "*Run the cell below to upsert our instrument universe*"
   ]
  },
  {
   "cell_type": "code",
   "execution_count": 10,
   "metadata": {},
   "outputs": [
    {
     "name": "stdout",
     "output_type": "stream",
     "text": [
      "\u001b[1mInstrument Successfully Upserted: \u001b[0mUSTreasury_2.00_2021\n",
      "\u001b[1mClientInternal ID: \u001b[0mimd_34535347\n",
      "\u001b[1mLUSID Instrument ID: \u001b[0mLUID_YROXMJS6\n",
      "\n",
      "\n",
      "\u001b[1mInstrument Successfully Upserted: \u001b[0mGlencore_LondonStockEx_GLEN\n",
      "\u001b[1mClientInternal ID: \u001b[0mimd_34534555\n",
      "\u001b[1mLUSID Instrument ID: \u001b[0mLUID_3BSQ9305\n",
      "\n",
      "\n",
      "\u001b[1mInstrument Successfully Upserted: \u001b[0mMicroFocus_LondonStockEx_MCRO\n",
      "\u001b[1mClientInternal ID: \u001b[0mimd_34567338\n",
      "\u001b[1mLUSID Instrument ID: \u001b[0mLUID_JGEC3JQT\n",
      "\n",
      "\n",
      "\u001b[1mInstrument Successfully Upserted: \u001b[0mKingfisher_LondonStockEx_KGF\n",
      "\u001b[1mClientInternal ID: \u001b[0mimd_34535552\n",
      "\u001b[1mLUSID Instrument ID: \u001b[0mLUID_EUGPTWNK\n",
      "\n",
      "\n",
      "\u001b[1mInstrument Successfully Upserted: \u001b[0mUKGiltTreasury_3.75_2021\n",
      "\u001b[1mClientInternal ID: \u001b[0mimd_34643653\n",
      "\u001b[1mLUSID Instrument ID: \u001b[0mLUID_DR62R28L\n",
      "\n",
      "\n",
      "\u001b[1mInstrument Successfully Upserted: \u001b[0mWhitebread_LondonStockEx_WTB\n",
      "\u001b[1mClientInternal ID: \u001b[0mimd_35349900\n",
      "\u001b[1mLUSID Instrument ID: \u001b[0mLUID_WLUSTPQ4\n",
      "\n",
      "\n",
      "\u001b[1mInstrument Successfully Upserted: \u001b[0mUKGiltTreasury_4.5_2034\n",
      "\u001b[1mClientInternal ID: \u001b[0mimd_34534534\n",
      "\u001b[1mLUSID Instrument ID: \u001b[0mLUID_80786YTE\n",
      "\n",
      "\n",
      "\u001b[1mInstrument Successfully Upserted: \u001b[0mUKGiltTreasury_2.0_2025\n",
      "\u001b[1mClientInternal ID: \u001b[0mimd_34534536\n",
      "\u001b[1mLUSID Instrument ID: \u001b[0mLUID_WIHP08GH\n",
      "\n",
      "\n",
      "\u001b[1mInstrument Successfully Upserted: \u001b[0mRELXGroup_LondonStockEx_REL\n",
      "\u001b[1mClientInternal ID: \u001b[0mimd_43532542\n",
      "\u001b[1mLUSID Instrument ID: \u001b[0mLUID_H43TISS0\n",
      "\n",
      "\n",
      "\u001b[1mInstrument Successfully Upserted: \u001b[0mWPP_LondonStockEx_WPP\n",
      "\u001b[1mClientInternal ID: \u001b[0mimd_34536734\n",
      "\u001b[1mLUSID Instrument ID: \u001b[0mLUID_3IIPT8VI\n",
      "\n",
      "\n",
      "\u001b[1mInstrument Successfully Upserted: \u001b[0mBurfordCapital_LondonStockEx_BUR\n",
      "\u001b[1mClientInternal ID: \u001b[0mimd_43534356\n",
      "\u001b[1mLUSID Instrument ID: \u001b[0mLUID_ASOQJGBU\n",
      "\n",
      "\n",
      "\u001b[1mInstrument Successfully Upserted: \u001b[0mApple_Nasdaq_AAPL\n",
      "\u001b[1mClientInternal ID: \u001b[0mimd_35345345\n",
      "\u001b[1mLUSID Instrument ID: \u001b[0mLUID_N7OVHW9M\n",
      "\n",
      "\n",
      "\u001b[1mInstrument Successfully Upserted: \u001b[0mJustEat_LondonStockEx_JE\n",
      "\u001b[1mClientInternal ID: \u001b[0mimd_35436366\n",
      "\u001b[1mLUSID Instrument ID: \u001b[0mLUID_9EKWUQAH\n",
      "\n",
      "\n",
      "\u001b[1mInstrument Successfully Upserted: \u001b[0mBP_LondonStockEx_BP\n",
      "\u001b[1mClientInternal ID: \u001b[0mimd_43535553\n",
      "\u001b[1mLUSID Instrument ID: \u001b[0mLUID_9NTDBNOH\n",
      "\n",
      "\n",
      "\u001b[1mInstrument Successfully Upserted: \u001b[0mUKGiltTreasury_3.5_2045\n",
      "\u001b[1mClientInternal ID: \u001b[0mimd_54234532\n",
      "\u001b[1mLUSID Instrument ID: \u001b[0mLUID_4N44DU25\n",
      "\n",
      "\n",
      "\u001b[1mInstrument Successfully Upserted: \u001b[0mUSTreasury_6.875_2025\n",
      "\u001b[1mClientInternal ID: \u001b[0mimd_34534539\n",
      "\u001b[1mLUSID Instrument ID: \u001b[0mLUID_HS1IOV9Z\n",
      "\n",
      "\n",
      "\u001b[1mInstrument Successfully Upserted: \u001b[0mAmazon_Nasdaq_AMZN\n",
      "\u001b[1mClientInternal ID: \u001b[0mimd_34634534\n",
      "\u001b[1mLUSID Instrument ID: \u001b[0mLUID_OFJ2K7PF\n",
      "\n",
      "\n",
      "\u001b[1mInstrument Successfully Upserted: \u001b[0mEKFDiagnostics_LondonStockEx_EKF\n",
      "\u001b[1mClientInternal ID: \u001b[0mimd_34535355\n",
      "\u001b[1mLUSID Instrument ID: \u001b[0mLUID_LOJTHIYF\n",
      "\n",
      "\n",
      "\u001b[1mInstrument Successfully Upserted: \u001b[0mTESCO_LondonStockEx_TSCO\n",
      "\u001b[1mClientInternal ID: \u001b[0mimd_34634673\n",
      "\u001b[1mLUSID Instrument ID: \u001b[0mLUID_O71TJYK1\n",
      "\n",
      "\n",
      "\u001b[1mInstrument Successfully Upserted: \u001b[0mSage_LondonStockEx_SGE\n",
      "\u001b[1mClientInternal ID: \u001b[0mimd_23536673\n",
      "\u001b[1mLUSID Instrument ID: \u001b[0mLUID_6GNWPINU\n",
      "\n",
      "\n",
      "20  instruments upserted successfully\n",
      "0  instrument upsert failures\n"
     ]
    }
   ],
   "source": [
    "# Initialise our batch upsert request\n",
    "batch_upsert_request = {}\n",
    "# Using our instrument universe create our batch request\n",
    "for instrument_name, instrument in instrument_universe.items():\n",
    "    batch_upsert_request[instrument_name] = models.InstrumentDefinition(\n",
    "        name=instrument_name,\n",
    "        identifiers={\n",
    "            'ClientInternal': models.InstrumentIdValue(\n",
    "                value=instrument['identifiers']['ClientInternal'])\n",
    "        }\n",
    "    )\n",
    "    \n",
    "# Call LUSID to upsert our batch\n",
    "instrument_upsert_response = client.instruments.upsert_instruments(\n",
    "    requests=batch_upsert_request)\n",
    "\n",
    "# Print the response from LUSID using pretty formatting\n",
    "prettyprint.instrument_response(instrument_upsert_response)"
   ]
  },
  {
   "cell_type": "markdown",
   "metadata": {},
   "source": [
    "Our LUSID environment now has an instrument master containing all of our instruments that we will be trading."
   ]
  },
  {
   "cell_type": "markdown",
   "metadata": {},
   "source": [
    "![Scopes](img/strategies-instrumentmaster.gif)"
   ]
  },
  {
   "cell_type": "markdown",
   "metadata": {},
   "source": [
    "During the upsertion process you may have noticed that that every instrument that is created in LUSID given a unique LUSID Instrument Id or LUID for short. This ID is used for many methods and is how LUSID uniquely identifies an instrument.\n",
    "\n",
    "We therefore want to add our newly created LUIDs to our instrument list so that we can easily reference our instruments in future.\n",
    "\n",
    "Note that in addition to our instruments, there is also cash in our holdings. Instruments that represent cash are already set-up in LUSID by default. In LUSID the identifier for cash is the prefix the ISO4217 currency code. For example British Pounds have am identifier of GBP. We will add these to our local instrument universe so that we can reference them.\n",
    "\n",
    "*Run the cell below to add our LUIDs and cash to our local instrument universe.*"
   ]
  },
  {
   "cell_type": "code",
   "execution_count": 11,
   "metadata": {},
   "outputs": [
    {
     "name": "stdout",
     "output_type": "stream",
     "text": [
      "Amazon_Nasdaq_AMZN: \u001b[1mLUID - LUID_OFJ2K7PF\u001b[0m\n",
      "Apple_Nasdaq_AAPL: \u001b[1mLUID - LUID_N7OVHW9M\u001b[0m\n",
      "BP_LondonStockEx_BP: \u001b[1mLUID - LUID_9NTDBNOH\u001b[0m\n",
      "BurfordCapital_LondonStockEx_BUR: \u001b[1mLUID - LUID_ASOQJGBU\u001b[0m\n",
      "EKFDiagnostics_LondonStockEx_EKF: \u001b[1mLUID - LUID_LOJTHIYF\u001b[0m\n",
      "Glencore_LondonStockEx_GLEN: \u001b[1mLUID - LUID_3BSQ9305\u001b[0m\n",
      "JustEat_LondonStockEx_JE: \u001b[1mLUID - LUID_9EKWUQAH\u001b[0m\n",
      "Kingfisher_LondonStockEx_KGF: \u001b[1mLUID - LUID_EUGPTWNK\u001b[0m\n",
      "MicroFocus_LondonStockEx_MCRO: \u001b[1mLUID - LUID_JGEC3JQT\u001b[0m\n",
      "RELXGroup_LondonStockEx_REL: \u001b[1mLUID - LUID_H43TISS0\u001b[0m\n",
      "Sage_LondonStockEx_SGE: \u001b[1mLUID - LUID_6GNWPINU\u001b[0m\n",
      "TESCO_LondonStockEx_TSCO: \u001b[1mLUID - LUID_O71TJYK1\u001b[0m\n",
      "UKGiltTreasury_2.0_2025: \u001b[1mLUID - LUID_WIHP08GH\u001b[0m\n",
      "UKGiltTreasury_3.5_2045: \u001b[1mLUID - LUID_4N44DU25\u001b[0m\n",
      "UKGiltTreasury_3.75_2021: \u001b[1mLUID - LUID_DR62R28L\u001b[0m\n",
      "UKGiltTreasury_4.5_2034: \u001b[1mLUID - LUID_80786YTE\u001b[0m\n",
      "USTreasury_2.00_2021: \u001b[1mLUID - LUID_YROXMJS6\u001b[0m\n",
      "USTreasury_6.875_2025: \u001b[1mLUID - LUID_HS1IOV9Z\u001b[0m\n",
      "WPP_LondonStockEx_WPP: \u001b[1mLUID - LUID_3IIPT8VI\u001b[0m\n",
      "Whitebread_LondonStockEx_WTB: \u001b[1mLUID - LUID_WLUSTPQ4\u001b[0m\n",
      "GBP_Cash: \u001b[1mLUID - GBP\u001b[0m\n",
      "USD_Cash: \u001b[1mLUID - USD\u001b[0m\n"
     ]
    }
   ],
   "source": [
    "# Loop over our recently upserted instruments\n",
    "for instrument_name, instrument in instrument_upsert_response.values.items():\n",
    "    # Add our LUID as a new identifier so that we can use it in our calls later\n",
    "    instrument_universe[instrument_name]['identifiers']['LUID'] = instrument.lusid_instrument_id\n",
    "    \n",
    "# We will also add some cash instruments to our universe\n",
    "instrument_universe['GBP_Cash'] = {\n",
    "    'identifiers': {'LUID': 'GBP'},\n",
    "    'currency': 'GBP'}\n",
    "\n",
    "instrument_universe['USD_Cash'] = {\n",
    "    'identifiers': {'LUID': 'USD'},\n",
    "    'currency': 'USD'}\n",
    "            \n",
    "prettyprint.instruments(instrument_universe, 'LUID')"
   ]
  },
  {
   "cell_type": "markdown",
   "metadata": {},
   "source": [
    "Now that we have added the LUSID Instrument Id to our local instrument universe we are ready to set our take on balances."
   ]
  },
  {
   "cell_type": "markdown",
   "metadata": {},
   "source": [
    "### 3) Adding our take on balances for each portfolio which have been provided to us by a transition manager"
   ]
  },
  {
   "cell_type": "markdown",
   "metadata": {},
   "source": [
    "We have been advised by a transition manager on the holdings that we will be taking on for our new client. They have provided these initial holdings to us in a CSV.\n",
    "\n",
    "Let us load our take on balances. \n",
    "\n",
    "*Run the cell below to import our initial holdings information*"
   ]
  },
  {
   "cell_type": "code",
   "execution_count": 12,
   "metadata": {},
   "outputs": [
    {
     "name": "stdout",
     "output_type": "stream",
     "text": [
      "\u001b[1mPortfolio: \u001b[0mmandate-balanced\n",
      "\n",
      "\u001b[1mInstrument Name: \u001b[0mKingfisher_LondonStockEx_KGF\n",
      "\u001b[1mQuantity: \u001b[0m1362038\n",
      "\u001b[1mCostPrice: \u001b[0m2.276\n",
      "\n",
      "\u001b[1mInstrument Name: \u001b[0mJustEat_LondonStockEx_JE\n",
      "\u001b[1mQuantity: \u001b[0m834553\n",
      "\u001b[1mCostPrice: \u001b[0m5.4639999999999995\n",
      "\n",
      "\u001b[1mInstrument Name: \u001b[0mRELXGroup_LondonStockEx_REL\n",
      "\u001b[1mQuantity: \u001b[0m494343\n",
      "\u001b[1mCostPrice: \u001b[0m15.98\n",
      "\n",
      "\u001b[1mInstrument Name: \u001b[0mUKGiltTreasury_4.5_2034\n",
      "\u001b[1mQuantity: \u001b[0m77481\n",
      "\u001b[1mCostPrice: \u001b[0m140.572\n",
      "\n",
      "\u001b[1mInstrument Name: \u001b[0mGBP_Cash\n",
      "\u001b[1mQuantity: \u001b[0m952000\n",
      "\u001b[1mCostPrice: \u001b[0m1.0\n",
      "\n",
      "\n",
      "\n",
      "\n",
      "\u001b[1mPortfolio: \u001b[0mmandate-energy\n",
      "\n",
      "\u001b[1mInstrument Name: \u001b[0mGlencore_LondonStockEx_GLEN\n",
      "\u001b[1mQuantity: \u001b[0m905141\n",
      "\u001b[1mCostPrice: \u001b[0m2.762\n",
      "\n",
      "\u001b[1mInstrument Name: \u001b[0mBP_LondonStockEx_BP\n",
      "\u001b[1mQuantity: \u001b[0m1713922\n",
      "\u001b[1mCostPrice: \u001b[0m5.114\n",
      "\n",
      "\u001b[1mInstrument Name: \u001b[0mGBP_Cash\n",
      "\u001b[1mQuantity: \u001b[0m2200000\n",
      "\u001b[1mCostPrice: \u001b[0m1.0\n",
      "\n",
      "\n",
      "\n",
      "\n",
      "\u001b[1mPortfolio: \u001b[0mmandate-fixedincome\n",
      "\n",
      "\u001b[1mInstrument Name: \u001b[0mUKGiltTreasury_3.5_2045\n",
      "\u001b[1mQuantity: \u001b[0m266169\n",
      "\u001b[1mCostPrice: \u001b[0m134.433\n",
      "\n",
      "\u001b[1mInstrument Name: \u001b[0mUKGiltTreasury_2.0_2025\n",
      "\u001b[1mQuantity: \u001b[0m405589\n",
      "\u001b[1mCostPrice: \u001b[0m106.637\n",
      "\n",
      "\u001b[1mInstrument Name: \u001b[0mUKGiltTreasury_3.75_2021\n",
      "\u001b[1mQuantity: \u001b[0m174800\n",
      "\u001b[1mCostPrice: \u001b[0m108.126\n",
      "\n",
      "\u001b[1mInstrument Name: \u001b[0mUSTreasury_2.00_2021\n",
      "\u001b[1mQuantity: \u001b[0m357507\n",
      "\u001b[1mCostPrice: \u001b[0m97.9\n",
      "\n",
      "\u001b[1mInstrument Name: \u001b[0mGBP_Cash\n",
      "\u001b[1mQuantity: \u001b[0m3450000\n",
      "\u001b[1mCostPrice: \u001b[0m1.0\n",
      "\n",
      "\u001b[1mInstrument Name: \u001b[0mUSD_Cash\n",
      "\u001b[1mQuantity: \u001b[0m1200000\n",
      "\u001b[1mCostPrice: \u001b[0m1.0\n",
      "\n",
      "\n",
      "\n",
      "\n",
      "\u001b[1mPortfolio: \u001b[0mmandate-international\n",
      "\n",
      "\u001b[1mInstrument Name: \u001b[0mUSTreasury_2.00_2021\n",
      "\u001b[1mQuantity: \u001b[0m357507\n",
      "\u001b[1mCostPrice: \u001b[0m97.9\n",
      "\n",
      "\u001b[1mInstrument Name: \u001b[0mApple_Nasdaq_AAPL\n",
      "\u001b[1mQuantity: \u001b[0m504481\n",
      "\u001b[1mCostPrice: \u001b[0m168.49\n",
      "\n",
      "\u001b[1mInstrument Name: \u001b[0mAmazon_Nasdaq_AMZN\n",
      "\u001b[1mQuantity: \u001b[0m38671\n",
      "\u001b[1mCostPrice: \u001b[0m1629.13\n",
      "\n",
      "\u001b[1mInstrument Name: \u001b[0mUSD_Cash\n",
      "\u001b[1mQuantity: \u001b[0m1400000\n",
      "\u001b[1mCostPrice: \u001b[0m1.0\n",
      "\n",
      "\n",
      "\n",
      "\n",
      "\u001b[1mPortfolio: \u001b[0mmandate-usgovt\n",
      "\n",
      "\u001b[1mInstrument Name: \u001b[0mUSTreasury_2.00_2021\n",
      "\u001b[1mQuantity: \u001b[0m286006\n",
      "\u001b[1mCostPrice: \u001b[0m97.9\n",
      "\n",
      "\u001b[1mInstrument Name: \u001b[0mUSTreasury_6.875_2025\n",
      "\u001b[1mQuantity: \u001b[0m256986\n",
      "\u001b[1mCostPrice: \u001b[0m124.52\n",
      "\n",
      "\u001b[1mInstrument Name: \u001b[0mUSD_Cash\n",
      "\u001b[1mQuantity: \u001b[0m23000000\n",
      "\u001b[1mCostPrice: \u001b[0m1.0\n",
      "\n",
      "\n",
      "\n",
      "\n"
     ]
    }
   ],
   "source": [
    "client_holdings = import_data.fetch_client_take_on_balances('strategy-holdings.csv')\n",
    "prettyprint.holdings(client_holdings)"
   ]
  },
  {
   "cell_type": "markdown",
   "metadata": {},
   "source": [
    "To set our holdings in LUSID we use the set holdings method. This method takes a list of adjustment requests. Using these requests LUSID will determine what transactions are required to update our portfolios so that they have the desired holdings.\n",
    "\n",
    "We will make our holdings effecitve as of five days ago as this was when we on-boarded the client. \n",
    "\n",
    "Just like when we created our portfolios we can only set the holdings one portfolio at a time. \n",
    "\n",
    "You can read more about setting the holdings on a portfolio in the LUSID API Documentation: [LUSID API Docs: Setting the Holdings on a Portfolio](https://docs.lusid.com/#operation/SetHoldings)\n",
    "\n",
    "*Run the cell below to set our take on balances*"
   ]
  },
  {
   "cell_type": "code",
   "execution_count": 13,
   "metadata": {},
   "outputs": [
    {
     "name": "stdout",
     "output_type": "stream",
     "text": [
      "\u001b[1mHoldings Successfully Set for Portfolio\u001b[0m\n",
      "\u001b[1mScope: \u001b[0mclient-high_street_pension_fund-6910\n",
      "\u001b[1mCode: \u001b[0mmandate-balanced\n",
      "\u001b[1mHoldings Effective From: \u001b[0m2019-04-24 11:04:51.788729+00:00\n",
      "\u001b[1mHoldings Created On: \u001b[0m2019-04-29 11:04:52.539098+00:00\n",
      "\n",
      "\u001b[1mHoldings Successfully Set for Portfolio\u001b[0m\n",
      "\u001b[1mScope: \u001b[0mclient-high_street_pension_fund-6910\n",
      "\u001b[1mCode: \u001b[0mmandate-energy\n",
      "\u001b[1mHoldings Effective From: \u001b[0m2019-04-24 11:04:51.788729+00:00\n",
      "\u001b[1mHoldings Created On: \u001b[0m2019-04-29 11:04:53.400262+00:00\n",
      "\n",
      "\u001b[1mHoldings Successfully Set for Portfolio\u001b[0m\n",
      "\u001b[1mScope: \u001b[0mclient-high_street_pension_fund-6910\n",
      "\u001b[1mCode: \u001b[0mmandate-fixedincome\n",
      "\u001b[1mHoldings Effective From: \u001b[0m2019-04-24 11:04:51.788729+00:00\n",
      "\u001b[1mHoldings Created On: \u001b[0m2019-04-29 11:04:53.750161+00:00\n",
      "\n",
      "\u001b[1mHoldings Successfully Set for Portfolio\u001b[0m\n",
      "\u001b[1mScope: \u001b[0mclient-high_street_pension_fund-6910\n",
      "\u001b[1mCode: \u001b[0mmandate-international\n",
      "\u001b[1mHoldings Effective From: \u001b[0m2019-04-24 11:04:51.788729+00:00\n",
      "\u001b[1mHoldings Created On: \u001b[0m2019-04-29 11:04:54.098272+00:00\n",
      "\n",
      "\u001b[1mHoldings Successfully Set for Portfolio\u001b[0m\n",
      "\u001b[1mScope: \u001b[0mclient-high_street_pension_fund-6910\n",
      "\u001b[1mCode: \u001b[0mmandate-usgovt\n",
      "\u001b[1mHoldings Effective From: \u001b[0m2019-04-24 11:04:51.788729+00:00\n",
      "\u001b[1mHoldings Created On: \u001b[0m2019-04-29 11:04:54.485809+00:00\n",
      "\n",
      "Holdings have been set for all Portfolios\n"
     ]
    }
   ],
   "source": [
    "holdings_effective_date = (datetime.now(pytz.UTC) - timedelta(days=5))\n",
    "\n",
    "# Iterate over our portfolios\n",
    "for portfolio_name, portfolio in client_holdings.items():\n",
    "    \n",
    "    # Initialise our list to hold the holding adjustments\n",
    "    holding_adjustments = []\n",
    "\n",
    "    # Iterate over the holdings in each portfolio\n",
    "    for instrument_name, holding in portfolio.items():\n",
    "        if 'Cash' in instrument_name:\n",
    "            identifier_key = 'Instrument/default/Currency'\n",
    "        else:\n",
    "            identifier_key = 'Instrument/default/LusidInstrumentId'\n",
    "            \n",
    "        Luid = instrument_universe[instrument_name]['identifiers']['LUID']\n",
    "\n",
    "        # Create our adjust holdings request using our instrument universe to get the LUID identifier for the instrument\n",
    "        holding_adjustments.append(\n",
    "            models.AdjustHoldingRequest(\n",
    "                instrument_identifiers={\n",
    "                    identifier_key: Luid},\n",
    "                tax_lots=[\n",
    "                    models.TargetTaxLotRequest(\n",
    "                        units=holding['quantity'],\n",
    "                        cost=models.CurrencyAndAmount(\n",
    "                            amount=holding['quantity'] * holding['price'],\n",
    "                            currency=instrument_universe[instrument_name]['currency']),\n",
    "                        portfolio_cost=holding['quantity'] * holding['price'],\n",
    "                        price=holding['price'])\n",
    "                ])\n",
    "        )\n",
    "    \n",
    "    # Call LUSID to set our holdings\n",
    "    set_holdings_response = client.transaction_portfolios.set_holdings(\n",
    "        scope=client_scope_code,\n",
    "        code=portfolio_name,\n",
    "        effective_at=holdings_effective_date,\n",
    "        holding_adjustments=holding_adjustments)\n",
    "    \n",
    "    # Print the response from LUSID using pretty formatting\n",
    "    prettyprint.set_holdings_response(\n",
    "        set_holdings_response, \n",
    "        client_scope_code, \n",
    "        portfolio_name)\n",
    "\n",
    "print ('Holdings have been set for all Portfolios')"
   ]
  },
  {
   "cell_type": "markdown",
   "metadata": {},
   "source": [
    "Our portfolios are no longer empty and now contain the initial holdings for our new client."
   ]
  },
  {
   "cell_type": "markdown",
   "metadata": {},
   "source": [
    "![Scopes](img/strategies-holdings.gif)"
   ]
  },
  {
   "cell_type": "markdown",
   "metadata": {},
   "source": [
    "### 4) Creating a strategy tag that we can use to tag our transactions with the strategy used to make the trade"
   ]
  },
  {
   "cell_type": "markdown",
   "metadata": {},
   "source": [
    "We want to be able to track what strategies our portfolio managers were following when they made an investment decision. To do this in LUSID we can use properties. We can define a property and attach it to almost any object in LUSID. \n",
    "\n",
    "In this case we can create a 'strategy' property that we can attach to our transactions. This property will take the form of a string which will be the name of the strategy that the portfolio manager followed. Examples of strategies in this case are 'quantitativeSignal', 'fundamentalAnalysis' etc.\n",
    "\n",
    "You can read more about defining new properties in the LUSID API documentation: [LUSID API Docs: Creating a New Property Definition](https://docs.lusid.com/#operation/CreatePropertyDefinition)\n",
    "\n",
    "*Run the cell below to create our strategy property*"
   ]
  },
  {
   "cell_type": "code",
   "execution_count": 14,
   "metadata": {},
   "outputs": [
    {
     "name": "stdout",
     "output_type": "stream",
     "text": [
      "\u001b[1mStrategy Property Key: \u001b[0mTrade/client-high_street_pension_fund-6910/strategy\n"
     ]
    }
   ],
   "source": [
    "# Create our request to define a new property\n",
    "property_request = models.CreatePropertyDefinitionRequest(\n",
    "    domain='Trade',\n",
    "    scope=client_scope_code,\n",
    "    code='strategy',\n",
    "    value_required=False,\n",
    "    display_name='strategy',\n",
    "    data_type_id=models.ResourceId(scope='default', code='string'))\n",
    "\n",
    "# Call LUSID to create our new property\n",
    "property_response = client.property_definitions.create_property_definition(\n",
    "    definition=property_request)\n",
    "\n",
    "# Grab the key off the response to use when referencing this property in other LUSID calls\n",
    "strategy_property_key = property_response.key\n",
    "\n",
    "# Pretty print our key\n",
    "prettyprint.heading('Strategy Property Key', strategy_property_key)"
   ]
  },
  {
   "cell_type": "markdown",
   "metadata": {},
   "source": [
    "We now have a strategy property that we can set on each of our transactions which is referenced by our strategy property key."
   ]
  },
  {
   "cell_type": "markdown",
   "metadata": {},
   "source": [
    "![Scopes](img/strategies-strategypropertykey.gif)"
   ]
  },
  {
   "cell_type": "markdown",
   "metadata": {},
   "source": [
    "### 5) Adding the first trades that have been made by our portfolio managers inlcuding the strategy that they were following when they made them"
   ]
  },
  {
   "cell_type": "markdown",
   "metadata": {},
   "source": [
    "Now that we have our transaction property defined we can load our transactions. We will load these from a CSV file. In practice these are likely to come from our order management system. You can see from looking at the transaction dates that these transactions have all occured over the last 4 days.\n",
    "\n",
    "*Run the cell below to import our transactions*"
   ]
  },
  {
   "cell_type": "code",
   "execution_count": 15,
   "metadata": {},
   "outputs": [
    {
     "name": "stdout",
     "output_type": "stream",
     "text": [
      "\u001b[1mPortfolio: \u001b[0mmandate-balanced\n",
      "\n",
      "\u001b[1mTransaction: \u001b[0mtid_329432525234324\n",
      "\u001b[1mInstrument Name: \u001b[0mKingfisher_LondonStockEx_KGF\n",
      "\u001b[1mInstrument Id: \u001b[0mLUID_EUGPTWNK\n",
      "\u001b[1mType: \u001b[0mSell\n",
      "\u001b[1mUnits: \u001b[0m325000\n",
      "\u001b[1mPrice: \u001b[0m2.345\n",
      "\u001b[1mTotal Cost: \u001b[0m762125.0\n",
      "\u001b[1mCurrency: \u001b[0mGBP\n",
      "\u001b[1mTransaction Date: \u001b[0m2019-04-25T10:43:51.476927+00:00\n",
      "\u001b[1mSettlement Date: \u001b[0m2019-04-27T10:43:51.476927+00:00\n",
      "\u001b[1mDescription: \u001b[0mEquity Sale\n",
      "\u001b[1mStrategy: \u001b[0mquantitativeSignal\n",
      "\n",
      "\u001b[1mTransaction: \u001b[0mtid_325452342424500\n",
      "\u001b[1mInstrument Name: \u001b[0mUKGiltTreasury_4.5_2034\n",
      "\u001b[1mInstrument Id: \u001b[0mLUID_80786YTE\n",
      "\u001b[1mType: \u001b[0mBuy\n",
      "\u001b[1mUnits: \u001b[0m10501\n",
      "\u001b[1mPrice: \u001b[0m140.572\n",
      "\u001b[1mTotal Cost: \u001b[0m1476146.572\n",
      "\u001b[1mCurrency: \u001b[0mGBP\n",
      "\u001b[1mTransaction Date: \u001b[0m2019-04-26T08:58:36.623922+00:00\n",
      "\u001b[1mSettlement Date: \u001b[0m2019-04-28T08:58:36.623922+00:00\n",
      "\u001b[1mDescription: \u001b[0mEquity Purchase\n",
      "\u001b[1mStrategy: \u001b[0mincomeRequirements\n",
      "\n",
      "\n",
      "\n",
      "\u001b[1mPortfolio: \u001b[0mmandate-fixedincome\n",
      "\n",
      "\u001b[1mTransaction: \u001b[0mtid_234295929052090\n",
      "\u001b[1mInstrument Name: \u001b[0mUKGiltTreasury_3.75_2021\n",
      "\u001b[1mInstrument Id: \u001b[0mLUID_DR62R28L\n",
      "\u001b[1mType: \u001b[0mBuy\n",
      "\u001b[1mUnits: \u001b[0m24000\n",
      "\u001b[1mPrice: \u001b[0m109.126\n",
      "\u001b[1mTotal Cost: \u001b[0m2619024.0\n",
      "\u001b[1mCurrency: \u001b[0mGBP\n",
      "\u001b[1mTransaction Date: \u001b[0m2019-04-26T09:13:23.157451+00:00\n",
      "\u001b[1mSettlement Date: \u001b[0m2019-04-28T09:13:23.157451+00:00\n",
      "\u001b[1mDescription: \u001b[0mEquity Purchase\n",
      "\u001b[1mStrategy: \u001b[0mincomeRequirements\n",
      "\n",
      "\u001b[1mTransaction: \u001b[0mtid_234942982496001\n",
      "\u001b[1mInstrument Name: \u001b[0mUSTreasury_2.00_2021\n",
      "\u001b[1mInstrument Id: \u001b[0mLUID_YROXMJS6\n",
      "\u001b[1mType: \u001b[0mSell\n",
      "\u001b[1mUnits: \u001b[0m57000\n",
      "\u001b[1mPrice: \u001b[0m97.8\n",
      "\u001b[1mTotal Cost: \u001b[0m5574600.0\n",
      "\u001b[1mCurrency: \u001b[0mUSD\n",
      "\u001b[1mTransaction Date: \u001b[0m2019-04-28T11:50:43.513347+00:00\n",
      "\u001b[1mSettlement Date: \u001b[0m2019-04-30T11:50:43.513347+00:00\n",
      "\u001b[1mDescription: \u001b[0mEquity Sale\n",
      "\u001b[1mStrategy: \u001b[0minternationalExposure\n",
      "\n",
      "\n",
      "\n",
      "\u001b[1mPortfolio: \u001b[0mmandate-energy\n",
      "\n",
      "\u001b[1mTransaction: \u001b[0mtid_239491298599900\n",
      "\u001b[1mInstrument Name: \u001b[0mGlencore_LondonStockEx_GLEN\n",
      "\u001b[1mInstrument Id: \u001b[0mLUID_3BSQ9305\n",
      "\u001b[1mType: \u001b[0mSell\n",
      "\u001b[1mUnits: \u001b[0m120000\n",
      "\u001b[1mPrice: \u001b[0m2.6\n",
      "\u001b[1mTotal Cost: \u001b[0m312000.0\n",
      "\u001b[1mCurrency: \u001b[0mGBP\n",
      "\u001b[1mTransaction Date: \u001b[0m2019-04-25T13:56:00.195504+00:00\n",
      "\u001b[1mSettlement Date: \u001b[0m2019-04-27T13:56:00.195504+00:00\n",
      "\u001b[1mDescription: \u001b[0mEquity Sale\n",
      "\u001b[1mStrategy: \u001b[0mfundamentalAnalysis\n",
      "\n",
      "\u001b[1mTransaction: \u001b[0mtid_121309590059995\n",
      "\u001b[1mInstrument Name: \u001b[0mBP_LondonStockEx_BP\n",
      "\u001b[1mInstrument Id: \u001b[0mLUID_9NTDBNOH\n",
      "\u001b[1mType: \u001b[0mBuy\n",
      "\u001b[1mUnits: \u001b[0m50000\n",
      "\u001b[1mPrice: \u001b[0m5.287000000000001\n",
      "\u001b[1mTotal Cost: \u001b[0m264350.0\n",
      "\u001b[1mCurrency: \u001b[0mGBP\n",
      "\u001b[1mTransaction Date: \u001b[0m2019-04-25T14:01:40.553271+00:00\n",
      "\u001b[1mSettlement Date: \u001b[0m2019-04-27T14:01:40.553271+00:00\n",
      "\u001b[1mDescription: \u001b[0mEquity Purchase\n",
      "\u001b[1mStrategy: \u001b[0mfundamentalAnalysis\n",
      "\n",
      "\n",
      "\n",
      "\u001b[1mPortfolio: \u001b[0mmandate-usgovt\n",
      "\n",
      "\u001b[1mTransaction: \u001b[0mtid_124319009950924\n",
      "\u001b[1mInstrument Name: \u001b[0mUSTreasury_2.00_2021\n",
      "\u001b[1mInstrument Id: \u001b[0mLUID_YROXMJS6\n",
      "\u001b[1mType: \u001b[0mSell\n",
      "\u001b[1mUnits: \u001b[0m28000\n",
      "\u001b[1mPrice: \u001b[0m98.1\n",
      "\u001b[1mTotal Cost: \u001b[0m2746800.0\n",
      "\u001b[1mCurrency: \u001b[0mUSD\n",
      "\u001b[1mTransaction Date: \u001b[0m2019-04-26T08:18:19.988213+00:00\n",
      "\u001b[1mSettlement Date: \u001b[0m2019-04-28T08:18:19.988213+00:00\n",
      "\u001b[1mDescription: \u001b[0mEquity Sale\n",
      "\u001b[1mStrategy: \u001b[0mincomeRequirements\n",
      "\n",
      "\n",
      "\n",
      "\u001b[1mPortfolio: \u001b[0mmandate-international\n",
      "\n",
      "\u001b[1mTransaction: \u001b[0mtid_212390582999593\n",
      "\u001b[1mInstrument Name: \u001b[0mApple_Nasdaq_AAPL\n",
      "\u001b[1mInstrument Id: \u001b[0mLUID_N7OVHW9M\n",
      "\u001b[1mType: \u001b[0mBuy\n",
      "\u001b[1mUnits: \u001b[0m15000\n",
      "\u001b[1mPrice: \u001b[0m168.49\n",
      "\u001b[1mTotal Cost: \u001b[0m2527350.0\n",
      "\u001b[1mCurrency: \u001b[0mGBP\n",
      "\u001b[1mTransaction Date: \u001b[0m2019-04-25T12:33:11.745420+00:00\n",
      "\u001b[1mSettlement Date: \u001b[0m2019-04-27T12:33:11.745420+00:00\n",
      "\u001b[1mDescription: \u001b[0mEquity Purchase\n",
      "\u001b[1mStrategy: \u001b[0mnewsSentiment\n",
      "\n",
      "\n",
      "\n"
     ]
    }
   ],
   "source": [
    "client_transactions = import_data.fetch_client_transactions('strategy-transactions.csv', \n",
    "                                                            instrument_universe,\n",
    "                                                            days_back=4,\n",
    "                                                            portfolios=True)\n",
    "\n",
    "prettyprint.transactions_strategy(client_transactions, portfolios=True)"
   ]
  },
  {
   "cell_type": "markdown",
   "metadata": {},
   "source": [
    "Now that we have our transactions we can upsert them into LUSID. We can only upsert transactions for one portfolio at time. Therefore we will upsert our transactions in batches. Each batch contains all the transactions for a given portfolio. \n",
    "\n",
    "You can read more about upserting transactions in the LUSID API documentation: [LUSID API Docs: Upserting Transactions](https://docs.lusid.com/#operation/UpsertTransactions)\n",
    "\n",
    "*Run the cell below to upsert our transactions*"
   ]
  },
  {
   "cell_type": "code",
   "execution_count": 16,
   "metadata": {},
   "outputs": [
    {
     "name": "stdout",
     "output_type": "stream",
     "text": [
      "\u001b[1mTransactions Successfully Upserted into Portfolio\u001b[0m\n",
      "\u001b[1mScope: \u001b[0mclient-high_street_pension_fund-6910\n",
      "\u001b[1mCode: \u001b[0mmandate-balanced\n",
      "\u001b[1mTransactions Effective From: \u001b[0m2019-04-26 08:58:36.623922+00:00\n",
      "\u001b[1mTransactions Created On: \u001b[0m2019-04-29 11:05:17.364762+00:00\n",
      "\n",
      "\u001b[1mTransactions Successfully Upserted into Portfolio\u001b[0m\n",
      "\u001b[1mScope: \u001b[0mclient-high_street_pension_fund-6910\n",
      "\u001b[1mCode: \u001b[0mmandate-fixedincome\n",
      "\u001b[1mTransactions Effective From: \u001b[0m2019-04-28 11:50:43.513347+00:00\n",
      "\u001b[1mTransactions Created On: \u001b[0m2019-04-29 11:05:17.862804+00:00\n",
      "\n",
      "\u001b[1mTransactions Successfully Upserted into Portfolio\u001b[0m\n",
      "\u001b[1mScope: \u001b[0mclient-high_street_pension_fund-6910\n",
      "\u001b[1mCode: \u001b[0mmandate-energy\n",
      "\u001b[1mTransactions Effective From: \u001b[0m2019-04-25 14:01:40.553271+00:00\n",
      "\u001b[1mTransactions Created On: \u001b[0m2019-04-29 11:05:18.283844+00:00\n",
      "\n",
      "\u001b[1mTransactions Successfully Upserted into Portfolio\u001b[0m\n",
      "\u001b[1mScope: \u001b[0mclient-high_street_pension_fund-6910\n",
      "\u001b[1mCode: \u001b[0mmandate-usgovt\n",
      "\u001b[1mTransactions Effective From: \u001b[0m2019-04-26 08:18:19.988213+00:00\n",
      "\u001b[1mTransactions Created On: \u001b[0m2019-04-29 11:05:18.691243+00:00\n",
      "\n",
      "\u001b[1mTransactions Successfully Upserted into Portfolio\u001b[0m\n",
      "\u001b[1mScope: \u001b[0mclient-high_street_pension_fund-6910\n",
      "\u001b[1mCode: \u001b[0mmandate-international\n",
      "\u001b[1mTransactions Effective From: \u001b[0m2019-04-25 12:33:11.745420+00:00\n",
      "\u001b[1mTransactions Created On: \u001b[0m2019-04-29 11:05:19.981288+00:00\n",
      "\n"
     ]
    }
   ],
   "source": [
    "# Iterate over our portfolios\n",
    "for portfolio_name, transactions in client_transactions.items():\n",
    "    # Initialise a list to hold our transactions for each portfolio\n",
    "    batch_transaction_requests = []\n",
    "    # Iterate over the transactions for each portfolio\n",
    "    for transaction_id, transaction in transactions.items():\n",
    "        # Append the transaction to our request, note the use of the 'properties' argument\n",
    "        batch_transaction_requests.append(\n",
    "            models.TransactionRequest(\n",
    "                transaction_id=transaction_id,\n",
    "                type=transaction['type'],\n",
    "                instrument_identifiers={\n",
    "                    'Instrument/default/LusidInstrumentId': transaction['instrument_uid']},\n",
    "                transaction_date=transaction['transaction_date'],\n",
    "                settlement_date=transaction['settlement_date'],\n",
    "                units=transaction['units'],\n",
    "                transaction_price=models.TransactionPrice(\n",
    "                  price=transaction['transaction_price'],\n",
    "                  type='Price'),\n",
    "                total_consideration=models.CurrencyAndAmount(\n",
    "                  amount=transaction['total_cost'],\n",
    "                  currency=transaction['transaction_currency']),\n",
    "                 source='Client',\n",
    "                 transaction_currency=transaction['transaction_currency'],\n",
    "                 properties={\n",
    "                     strategy_property_key: models.PropertyValue(\n",
    "                         label_value=transaction['strategy'])}\n",
    "              ))\n",
    "            \n",
    "    # Call LUSID to upsert our transactions\n",
    "    transaction_response = client.transaction_portfolios.upsert_transactions(\n",
    "        scope=client_scope_code,\n",
    "        code=portfolio_name,\n",
    "        transactions=batch_transaction_requests)\n",
    "    \n",
    "    # Print the response from LUSID using pretty formatting \n",
    "    prettyprint.transactions_response(\n",
    "        transaction_response,\n",
    "        client_scope_code,\n",
    "        portfolio_name)"
   ]
  },
  {
   "cell_type": "markdown",
   "metadata": {},
   "source": [
    "Now each of our portfolios contains a list of transactions, the first are 'StockIn' transactions generated by LUSID to set our holdings, the second set are the transactions from our portfolio managers which are tagged with a strategy."
   ]
  },
  {
   "cell_type": "markdown",
   "metadata": {},
   "source": [
    "![Scopes](img/strategies-transactions.gif)"
   ]
  },
  {
   "cell_type": "markdown",
   "metadata": {},
   "source": [
    "### 6) Creating an analytics store so that we can aggregate across our client's portfolios"
   ]
  },
  {
   "cell_type": "markdown",
   "metadata": {},
   "source": [
    "Now that we have populated our portfolios we want to aggregate across them to see both our client's overall position as well as our exposure as the result of each strategy that our portfolio managers are using. \n",
    "\n",
    "To this we first need to create an analytics store. This holds the result of our aggregation queries as well as the prices of our instruments.\n",
    "\n",
    "You can read more about creating an analytics store in the LUSID API documentation: [LUSID API Docs: Creating an Analytics Store](https://docs.lusid.com/#operation/CreateAnalyticStore)\n",
    "\n",
    "*Run the cell below to create our analytics store*"
   ]
  },
  {
   "cell_type": "code",
   "execution_count": 17,
   "metadata": {},
   "outputs": [
    {
     "name": "stdout",
     "output_type": "stream",
     "text": [
      "\u001b[1mAnalytic Store Created\u001b[0m\n",
      "\u001b[1mScope: \u001b[0mclient-high_street_pension_fund-6910\n",
      "\u001b[1mEffective From: \u001b[0m2019-04-29T00:00:00+00:00\n"
     ]
    }
   ],
   "source": [
    "# Set our analytics effective date to be from now\n",
    "analytics_effective_date = datetime.now(pytz.UTC)\n",
    "\n",
    "# Create analytics store request\n",
    "analytics_store_request = models.CreateAnalyticStoreRequest(\n",
    "    scope=client_scope_code,\n",
    "    date=analytics_effective_date)\n",
    "\n",
    "# Call LUSID to create our analytics store\n",
    "analytic_store = client.analytics_stores.create_analytic_store(\n",
    "    request=analytics_store_request)\n",
    "\n",
    "# Pretty print the response from LUSID\n",
    "prettyprint.analytic_store(analytic_store)"
   ]
  },
  {
   "cell_type": "markdown",
   "metadata": {},
   "source": [
    "Now that we have created our analytic store we need to populate it with prices. As we are not going to be valuing our portfolios at this time we will give each instrument a dummy price of 1. \n",
    "\n",
    "You can read more about setting analytics in the LUSID API documentation: [LUSID API Docs: Setting Analytics](https://docs.lusid.com/#operation/SetAnalytics)\n",
    "\n",
    "*Run the cell below to set our instrument analytics*"
   ]
  },
  {
   "cell_type": "code",
   "execution_count": 18,
   "metadata": {},
   "outputs": [
    {
     "name": "stdout",
     "output_type": "stream",
     "text": [
      "\u001b[1mAnalytics Set\u001b[0m\n",
      "\u001b[1mScope: \u001b[0mclient-high_street_pension_fund-6910\n",
      "\u001b[1mEffective From: \u001b[0m2019-04-29T00:00:00+00:00\n"
     ]
    }
   ],
   "source": [
    "# Create prices via instrument, analytic\n",
    "instrument_analytics = []\n",
    "\n",
    "# Create dummy prices of 1 for all instruments except cash which we will ignore\n",
    "for instrument_name, instrument in instrument_universe.items():\n",
    "    if 'Cash' in instrument_name:\n",
    "        continue\n",
    "    instrument_analytics.append(\n",
    "        models.InstrumentAnalytic(\n",
    "            instrument_uid=instrument['identifiers']['LUID'],\n",
    "            value=1))\n",
    "\n",
    "# Call LUSID to set up our newly created analytics store\n",
    "analytics = client.analytics_stores.set_analytics(\n",
    "    scope=client_scope_code,\n",
    "    year=analytics_effective_date.year,\n",
    "    month=analytics_effective_date.month,\n",
    "    day=analytics_effective_date.day,\n",
    "    data=instrument_analytics)\n",
    "\n",
    "# Pretty print the response from LUSID\n",
    "prettyprint.analytic_store(analytics, True)"
   ]
  },
  {
   "cell_type": "markdown",
   "metadata": {},
   "source": [
    "We now have an analytics store in our new client's scope that we can use for our aggregation requests."
   ]
  },
  {
   "cell_type": "markdown",
   "metadata": {},
   "source": [
    "![Scopes](img/strategies-analyticsstore.gif)"
   ]
  },
  {
   "cell_type": "markdown",
   "metadata": {},
   "source": [
    "### 7) Aggregate across all of our client's portfolios to see the overall position"
   ]
  },
  {
   "cell_type": "markdown",
   "metadata": {},
   "source": [
    "The first thing we want to do is aggregate across our client's entire group of portfolios to see their overall poistion. We can do this by aggregating the holdings by the portfolio group. We will sum the units and the cost of each instrument across the group.\n",
    "\n",
    "You can read more about creating by portfolio group in the LUSID API documentation: [LUSID API Docs: Aggregate by Portfolio Group](https://docs.lusid.com/#operation/GetAggregationByGroup)\n",
    "\n",
    "*Run the cell below to aggregate across all of our client's portfolios*"
   ]
  },
  {
   "cell_type": "code",
   "execution_count": 19,
   "metadata": {},
   "outputs": [
    {
     "name": "stdout",
     "output_type": "stream",
     "text": [
      "\u001b[1mLUSID Instrument Id: \u001b[0mLUID_EUGPTWNK\n",
      "\u001b[1mInstrument Name: \u001b[0mKingfisher_LondonStockEx_KGF\n",
      "\u001b[1mInstrument Units: \u001b[0m1037038.0\n",
      "\u001b[1mInstrument Cost: \u001b[0m2360298.49\n",
      "\u001b[1mInstrument Currency: \u001b[0mGBP\n",
      "\n",
      "\u001b[1mLUSID Instrument Id: \u001b[0mLUID_9EKWUQAH\n",
      "\u001b[1mInstrument Name: \u001b[0mJustEat_LondonStockEx_JE\n",
      "\u001b[1mInstrument Units: \u001b[0m834553.0\n",
      "\u001b[1mInstrument Cost: \u001b[0m4559997.59\n",
      "\u001b[1mInstrument Currency: \u001b[0mGBP\n",
      "\n",
      "\u001b[1mLUSID Instrument Id: \u001b[0mLUID_H43TISS0\n",
      "\u001b[1mInstrument Name: \u001b[0mRELXGroup_LondonStockEx_REL\n",
      "\u001b[1mInstrument Units: \u001b[0m494343.0\n",
      "\u001b[1mInstrument Cost: \u001b[0m7899601.14\n",
      "\u001b[1mInstrument Currency: \u001b[0mGBP\n",
      "\n",
      "\u001b[1mLUSID Instrument Id: \u001b[0mLUID_80786YTE\n",
      "\u001b[1mInstrument Name: \u001b[0mUKGiltTreasury_4.5_2034\n",
      "\u001b[1mInstrument Units: \u001b[0m87982.0\n",
      "\u001b[1mInstrument Cost: \u001b[0m12367805.7\n",
      "\u001b[1mInstrument Currency: \u001b[0mGBP\n",
      "\n",
      "\u001b[1mLUSID Instrument Id: \u001b[0mCCY_GBP\n",
      "\u001b[1mInstrument Name: \u001b[0mCash\n",
      "\u001b[1mInstrument Units: \u001b[0m789254.43\n",
      "\u001b[1mInstrument Cost: \u001b[0m789254.43\n",
      "\u001b[1mInstrument Currency: \u001b[0mGBP\n",
      "\n",
      "\u001b[1mLUSID Instrument Id: \u001b[0mLUID_3BSQ9305\n",
      "\u001b[1mInstrument Name: \u001b[0mGlencore_LondonStockEx_GLEN\n",
      "\u001b[1mInstrument Units: \u001b[0m785141.0\n",
      "\u001b[1mInstrument Cost: \u001b[0m2168559.44\n",
      "\u001b[1mInstrument Currency: \u001b[0mGBP\n",
      "\n",
      "\u001b[1mLUSID Instrument Id: \u001b[0mLUID_9NTDBNOH\n",
      "\u001b[1mInstrument Name: \u001b[0mBP_LondonStockEx_BP\n",
      "\u001b[1mInstrument Units: \u001b[0m1763922.0\n",
      "\u001b[1mInstrument Cost: \u001b[0m9029347.11\n",
      "\u001b[1mInstrument Currency: \u001b[0mGBP\n",
      "\n",
      "\u001b[1mLUSID Instrument Id: \u001b[0mLUID_4N44DU25\n",
      "\u001b[1mInstrument Name: \u001b[0mUKGiltTreasury_3.5_2045\n",
      "\u001b[1mInstrument Units: \u001b[0m266169.0\n",
      "\u001b[1mInstrument Cost: \u001b[0m35781897.18\n",
      "\u001b[1mInstrument Currency: \u001b[0mGBP\n",
      "\n",
      "\u001b[1mLUSID Instrument Id: \u001b[0mLUID_WIHP08GH\n",
      "\u001b[1mInstrument Name: \u001b[0mUKGiltTreasury_2.0_2025\n",
      "\u001b[1mInstrument Units: \u001b[0m405589.0\n",
      "\u001b[1mInstrument Cost: \u001b[0m43250794.19\n",
      "\u001b[1mInstrument Currency: \u001b[0mGBP\n",
      "\n",
      "\u001b[1mLUSID Instrument Id: \u001b[0mLUID_DR62R28L\n",
      "\u001b[1mInstrument Name: \u001b[0mUKGiltTreasury_3.75_2021\n",
      "\u001b[1mInstrument Units: \u001b[0m198800.0\n",
      "\u001b[1mInstrument Cost: \u001b[0m21519448.8\n",
      "\u001b[1mInstrument Currency: \u001b[0mGBP\n",
      "\n",
      "\u001b[1mLUSID Instrument Id: \u001b[0mLUID_YROXMJS6\n",
      "\u001b[1mInstrument Name: \u001b[0mUSTreasury_2.00_2021\n",
      "\u001b[1mInstrument Units: \u001b[0m916020.0\n",
      "\u001b[1mInstrument Cost: \u001b[0m89678358.0\n",
      "\u001b[1mInstrument Currency: \u001b[0mUSD\n",
      "\n",
      "\u001b[1mLUSID Instrument Id: \u001b[0mCCY_USD\n",
      "\u001b[1mInstrument Name: \u001b[0mCash\n",
      "\u001b[1mInstrument Units: \u001b[0m33921400.0\n",
      "\u001b[1mInstrument Cost: \u001b[0m33921400.0\n",
      "\u001b[1mInstrument Currency: \u001b[0mUSD\n",
      "\n",
      "\u001b[1mLUSID Instrument Id: \u001b[0mLUID_N7OVHW9M\n",
      "\u001b[1mInstrument Name: \u001b[0mApple_Nasdaq_AAPL\n",
      "\u001b[1mInstrument Units: \u001b[0m504481.0\n",
      "\u001b[1mInstrument Cost: \u001b[0m85000003.69\n",
      "\u001b[1mInstrument Currency: \u001b[0mUSD\n",
      "\n",
      "\u001b[1mLUSID Instrument Id: \u001b[0mLUID_N7OVHW9M\n",
      "\u001b[1mInstrument Name: \u001b[0mApple_Nasdaq_AAPL\n",
      "\u001b[1mInstrument Units: \u001b[0m15000.0\n",
      "\u001b[1mInstrument Cost: \u001b[0m2527350.0\n",
      "\u001b[1mInstrument Currency: \u001b[0mGBP\n",
      "\n",
      "\u001b[1mLUSID Instrument Id: \u001b[0mLUID_OFJ2K7PF\n",
      "\u001b[1mInstrument Name: \u001b[0mAmazon_Nasdaq_AMZN\n",
      "\u001b[1mInstrument Units: \u001b[0m38671.0\n",
      "\u001b[1mInstrument Cost: \u001b[0m63000086.23\n",
      "\u001b[1mInstrument Currency: \u001b[0mUSD\n",
      "\n",
      "\u001b[1mLUSID Instrument Id: \u001b[0mLUID_HS1IOV9Z\n",
      "\u001b[1mInstrument Name: \u001b[0mUSTreasury_6.875_2025\n",
      "\u001b[1mInstrument Units: \u001b[0m256986.0\n",
      "\u001b[1mInstrument Cost: \u001b[0m31999896.72\n",
      "\u001b[1mInstrument Currency: \u001b[0mUSD\n",
      "\n"
     ]
    }
   ],
   "source": [
    "# Create our aggregation request\n",
    "aggregation_request = models.AggregationRequest(\n",
    "    recipe_id=models.ResourceId(\n",
    "        scope=client_scope_code,\n",
    "        code='default'),\n",
    "        effective_at=datetime.now(pytz.UTC),\n",
    "        metrics=[\n",
    "            models.AggregateSpec(key='Holding/default/SubHoldingKey',\n",
    "            op='Value'),\n",
    "            models.AggregateSpec(key='Instrument/default/Name',\n",
    "            op='Value'),\n",
    "            models.AggregateSpec(key='Holding/default/Units',\n",
    "            op='Sum'),\n",
    "            models.AggregateSpec(key='Holding/default/Cost',\n",
    "            op='Sum')\n",
    "        ],\n",
    "        group_by=[\n",
    "            'Holding/default/SubHoldingKey'\n",
    "        ])\n",
    "\n",
    "# Call LUSID to aggregate across all of our portfolios\n",
    "aggregated_group = client.aggregation.get_aggregation_by_group(\n",
    "    scope=client_scope_code,\n",
    "    code=client_group_code,\n",
    "    request=aggregation_request)\n",
    "\n",
    "# Pretty print our response from LUSID\n",
    "prettyprint.aggregation_response(aggregated_group)"
   ]
  },
  {
   "cell_type": "markdown",
   "metadata": {},
   "source": [
    "Now we have a view of our client's holdings across their entire group of portfolios."
   ]
  },
  {
   "cell_type": "markdown",
   "metadata": {},
   "source": [
    "![Scopes](img/strategies-aggregatedportfoliogroup.gif)"
   ]
  },
  {
   "cell_type": "markdown",
   "metadata": {},
   "source": [
    "### 8) Aggregate across all of our client's portfolios by strategy to our position per strategy"
   ]
  },
  {
   "cell_type": "markdown",
   "metadata": {},
   "source": [
    "Now that we have a view of our client's overall position we want to get a sense as to what strategies our portfolio manager's have been using to make their trades and how our position looks by strategy.\n",
    "\n",
    "To do this we will make us of Derived Portfolios. \n",
    "\n",
    "A derived portfolio is a portfolio that is derived from a parent portfolio. It inherits all of its transactions from the parent portfolio. We can make use of derived portfolios to apply sub-holding keys to our holdings. In this case we will use our transaction strategy property as our sub-holding key.\n",
    "\n",
    "We will create a new scope to hold our derived portfolios. This will allow us to give them the same name as the parent portfolio.\n",
    "\n",
    "*Run the cell below to create our new scope*"
   ]
  },
  {
   "cell_type": "code",
   "execution_count": 20,
   "metadata": {},
   "outputs": [
    {
     "name": "stdout",
     "output_type": "stream",
     "text": [
      "\u001b[1mNew Client Strategy Scope Code: \u001b[0mclient-high_street_pension_fund-6910\n"
     ]
    }
   ],
   "source": [
    "# Fetch our scopes\n",
    "scope_id = import_data.create_scope_ids(1)\n",
    "client_strategy_scope_code = 'client-strategy-high_street_pension_fund-{}'.format(scope_id[0])\n",
    "# Pretty print our scope\n",
    "prettyprint.heading('New Client Strategy Scope Code', client_scope_code)"
   ]
  },
  {
   "cell_type": "markdown",
   "metadata": {},
   "source": [
    "Now that we have our new scope we can create our derived portfolios. We will create one for each of the corresponding parent portfolios. We will also group our derived portfolios together so that we can aggregate across the group.\n",
    "\n",
    "Note that we use the same creation date for the derived portfolios as we did for the parent portfolio. \n",
    "\n",
    "You can read more about creating a derived portfolio in the LUSID API documentation: [LUSID API Docs: Creating a Derived Portfolio](https://docs.lusid.com/#operation/CreateDerivedPortfolio)\n",
    "\n",
    "*Run the cell below to create and group our derived portfolios*"
   ]
  },
  {
   "cell_type": "code",
   "execution_count": 21,
   "metadata": {},
   "outputs": [
    {
     "name": "stdout",
     "output_type": "stream",
     "text": [
      "\u001b[1mDerived Portfolio Created\u001b[0m\n",
      "\u001b[1mScope: \u001b[0mclient-strategy-high_street_pension_fund-f437\n",
      "\u001b[1mCode: \u001b[0mmandate-balanced\n",
      "\u001b[1mPortfolio Effective From: \u001b[0m2019-04-24 11:04:17.763042+00:00\n",
      "\u001b[1mPortfolio Created On: \u001b[0m2019-04-29 11:06:09.203426+00:00\n",
      "\n",
      "\u001b[1m   Parent Portfolio Details\u001b[0m\n",
      "\u001b[1m   Scope: \u001b[0mclient-high_street_pension_fund-6910\n",
      "\u001b[1m   Code: \u001b[0mmandate-balanced\n",
      "\n",
      "\u001b[1mDerived Portfolio Created\u001b[0m\n",
      "\u001b[1mScope: \u001b[0mclient-strategy-high_street_pension_fund-f437\n",
      "\u001b[1mCode: \u001b[0mmandate-energy\n",
      "\u001b[1mPortfolio Effective From: \u001b[0m2019-04-24 11:04:17.763042+00:00\n",
      "\u001b[1mPortfolio Created On: \u001b[0m2019-04-29 11:06:09.584669+00:00\n",
      "\n",
      "\u001b[1m   Parent Portfolio Details\u001b[0m\n",
      "\u001b[1m   Scope: \u001b[0mclient-high_street_pension_fund-6910\n",
      "\u001b[1m   Code: \u001b[0mmandate-energy\n",
      "\n",
      "\u001b[1mDerived Portfolio Created\u001b[0m\n",
      "\u001b[1mScope: \u001b[0mclient-strategy-high_street_pension_fund-f437\n",
      "\u001b[1mCode: \u001b[0mmandate-fixedincome\n",
      "\u001b[1mPortfolio Effective From: \u001b[0m2019-04-24 11:04:17.763042+00:00\n",
      "\u001b[1mPortfolio Created On: \u001b[0m2019-04-29 11:06:10.011918+00:00\n",
      "\n",
      "\u001b[1m   Parent Portfolio Details\u001b[0m\n",
      "\u001b[1m   Scope: \u001b[0mclient-high_street_pension_fund-6910\n",
      "\u001b[1m   Code: \u001b[0mmandate-fixedincome\n",
      "\n",
      "\u001b[1mDerived Portfolio Created\u001b[0m\n",
      "\u001b[1mScope: \u001b[0mclient-strategy-high_street_pension_fund-f437\n",
      "\u001b[1mCode: \u001b[0mmandate-international\n",
      "\u001b[1mPortfolio Effective From: \u001b[0m2019-04-24 11:04:17.763042+00:00\n",
      "\u001b[1mPortfolio Created On: \u001b[0m2019-04-29 11:06:10.357939+00:00\n",
      "\n",
      "\u001b[1m   Parent Portfolio Details\u001b[0m\n",
      "\u001b[1m   Scope: \u001b[0mclient-high_street_pension_fund-6910\n",
      "\u001b[1m   Code: \u001b[0mmandate-international\n",
      "\n",
      "\u001b[1mDerived Portfolio Created\u001b[0m\n",
      "\u001b[1mScope: \u001b[0mclient-strategy-high_street_pension_fund-f437\n",
      "\u001b[1mCode: \u001b[0mmandate-usgovt\n",
      "\u001b[1mPortfolio Effective From: \u001b[0m2019-04-24 11:04:17.763042+00:00\n",
      "\u001b[1mPortfolio Created On: \u001b[0m2019-04-29 11:06:10.689181+00:00\n",
      "\n",
      "\u001b[1m   Parent Portfolio Details\u001b[0m\n",
      "\u001b[1m   Scope: \u001b[0mclient-high_street_pension_fund-6910\n",
      "\u001b[1m   Code: \u001b[0mmandate-usgovt\n",
      "\n",
      "\u001b[91m\u001b[1mPortfolio Group Created\u001b[0m\n",
      "\u001b[1mName: \u001b[0mhigh_street_pension_fund-portfolios\n",
      "\u001b[1mScope: \u001b[0mclient-strategy-high_street_pension_fund-f437\n",
      "\u001b[1mCode: \u001b[0mhigh_street_pension_fund-portfolios\n",
      "\u001b[1mPortfolios Inside Group: \u001b[0m\n",
      "mandate-balanced\n",
      "mandate-energy\n",
      "mandate-fixedincome\n",
      "mandate-international\n",
      "mandate-usgovt\n",
      "\n",
      "\n"
     ]
    }
   ],
   "source": [
    "# Initialise a list to hold the ids of our portfolios for use in creating our portfolio group\n",
    "portfolio_resourceids = []\n",
    "\n",
    "# Loop over our portfolios\n",
    "for portfolio_code in client_portfolios[client_group_code]:\n",
    "    # Create the request to add our portfolio\n",
    "    portfolio_request = models.CreateDerivedTransactionPortfolioRequest(\n",
    "        display_name=portfolio_code,\n",
    "        code=portfolio_code,\n",
    "        parent_portfolio_id=models.ResourceId(\n",
    "            scope=client_scope_code,\n",
    "            code=portfolio_code),\n",
    "        description=portfolio_code,\n",
    "        created=created_date,\n",
    "        sub_holding_keys=[strategy_property_key])\n",
    "    \n",
    "    # Call LUSID to create our portfolio\n",
    "    portfolio_response = client.derived_transaction_portfolios.create_derived_portfolio(\n",
    "        scope=client_strategy_scope_code,\n",
    "        portfolio=portfolio_request)\n",
    "    \n",
    "    # Print the response from LUSID using pretty formatting\n",
    "    prettyprint.portfolio_response(portfolio_response)\n",
    "\n",
    "    # Add the portfolio to our list of portfolios for the portfolio group\n",
    "    portfolio_resourceids.append(\n",
    "        models.ResourceId(\n",
    "            scope=client_strategy_scope_code, \n",
    "            code=portfolio_code))\n",
    "\n",
    "# Create our portfolio group request\n",
    "portfolio_group_request = models.CreatePortfolioGroupRequest(\n",
    "    id=client_group_code,\n",
    "    display_name=client_group_code,\n",
    "    values=portfolio_resourceids,\n",
    "    description='Grouping all of {}'.format(client_group_code))\n",
    "\n",
    "# Call LUSID to create our portfolio group\n",
    "response = client.portfolio_groups.create_portfolio_group(\n",
    "    scope=client_strategy_scope_code,\n",
    "    request=portfolio_group_request)\n",
    "\n",
    "# Print the response from LUSID using pretty formatting\n",
    "prettyprint.portfolio_group_response(response, 'created')"
   ]
  },
  {
   "cell_type": "markdown",
   "metadata": {},
   "source": [
    "![Scopes](img/strategies-derived.gif)"
   ]
  },
  {
   "cell_type": "markdown",
   "metadata": {},
   "source": [
    "Now that we have created our derived portfolios we can aggregate across our group of derived portfolios. Note that we can use the analytic store from the previous aggregation in our main scope as we only had dummy prices in there.\n",
    "\n",
    "*Run the cell below to aggregate by strategy across our client's holdings*"
   ]
  },
  {
   "cell_type": "code",
   "execution_count": 22,
   "metadata": {},
   "outputs": [],
   "source": [
    "aggregation_request = models.AggregationRequest(\n",
    "    recipe_id=models.ResourceId(\n",
    "        scope=client_scope_code,\n",
    "        code='default'),\n",
    "    effective_at=datetime.now(pytz.UTC),\n",
    "    metrics=[\n",
    "        models.AggregateSpec(\n",
    "            key=strategy_property_key,\n",
    "            op='Value'),\n",
    "        models.AggregateSpec(\n",
    "            key='Holding/default/Cost',\n",
    "            op='Sum')],\n",
    "    group_by=[\n",
    "        strategy_property_key],\n",
    "    filters=[\n",
    "        models.PropertyFilter(\n",
    "            left=strategy_property_key,\n",
    "            operator='NotEquals',\n",
    "            right='<Not Classified>',\n",
    "            right_operand_type='Absolute'),\n",
    "        models.PropertyFilter(\n",
    "            left='Instrument/default/Name',\n",
    "            operator='NotEquals',\n",
    "            right='<Unknown>',\n",
    "            right_operand_type='Absolute')\n",
    "    ]\n",
    "    )\n",
    "\n",
    "aggregated_group = client.aggregation.get_aggregation_by_group(\n",
    "    scope=client_strategy_scope_code,\n",
    "    code=client_group_code,\n",
    "    request=aggregation_request)"
   ]
  },
  {
   "cell_type": "code",
   "execution_count": 23,
   "metadata": {},
   "outputs": [
    {
     "name": "stdout",
     "output_type": "stream",
     "text": [
      "\u001b[1mStrategy: \u001b[0mquantitativeSignal\n",
      "\u001b[1mStrategy Cost: \u001b[0m-762125.0\n",
      "\n",
      "\u001b[1mStrategy: \u001b[0mincomeRequirements\n",
      "\u001b[1mStrategy Cost: \u001b[0m1348370.57\n",
      "\n",
      "\u001b[1mStrategy: \u001b[0mfundamentalAnalysis\n",
      "\u001b[1mStrategy Cost: \u001b[0m-47650.0\n",
      "\n",
      "\u001b[1mStrategy: \u001b[0minternationalExposure\n",
      "\u001b[1mStrategy Cost: \u001b[0m-5574600.0\n",
      "\n",
      "\u001b[1mStrategy: \u001b[0mnewsSentiment\n",
      "\u001b[1mStrategy Cost: \u001b[0m2527350.0\n",
      "\n"
     ]
    }
   ],
   "source": [
    "# Pretty print our response from LUSID\n",
    "prettyprint.aggregation_response_strategy(aggregated_group, strategy_property_key)"
   ]
  },
  {
   "cell_type": "markdown",
   "metadata": {},
   "source": [
    "We can now see how much we have invested into each of the different investment strategies. Our final state looks like the below."
   ]
  },
  {
   "cell_type": "markdown",
   "metadata": {},
   "source": [
    "![Scopes](img/strategies-strategyaggregation.gif)"
   ]
  }
 ],
 "metadata": {
  "kernelspec": {
   "display_name": "Python 3",
   "language": "python",
   "name": "python3"
  },
  "language_info": {
   "codemirror_mode": {
    "name": "ipython",
    "version": 3
   },
   "file_extension": ".py",
   "mimetype": "text/x-python",
   "name": "python",
   "nbconvert_exporter": "python",
   "pygments_lexer": "ipython3",
   "version": "3.6.6"
  }
 },
 "nbformat": 4,
 "nbformat_minor": 2
}
