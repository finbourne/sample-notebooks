{
 "cells": [
  {
   "cell_type": "code",
   "execution_count": null,
   "id": "f991e27e",
   "metadata": {},
   "outputs": [],
   "source": [
    "from lusidtools.jupyter_tools import toggle_code\n",
    "\n",
    "\"\"\"Requesting details of inline valuation operations using the insights API\n",
    "\n",
    "Attributes\n",
    "----------\n",
    "Insights\n",
    "Request Logs\n",
    "\"\"\"\n",
    "\n",
    "toggle_code(\"Toggle Docstring\")"
   ]
  },
  {
   "cell_type": "markdown",
   "id": "da2c6c59",
   "metadata": {},
   "source": [
    "# Requesting log details using the Insights API\n",
    "\n",
    "This notebook demonstrates the basic usage of the Insights API to request logs and the detailed request/response bodies for a given operation. In this notebook, we will perform the following workflow:\n",
    "\n",
    "- We run a valuation of an inline GBP portfolio with a reporting currency of JPY whereby we provide the requisite JPY/GBP FX rate and weighted instruments to ensure our valuation runs successfully.\n",
    "- In the same portfolio, we attempt to run the valuation with a reporting currency of AUD but where we don't provide any  weighted instruments for the valuation. This valuation will fail.\n",
    "- We then use the Insights Requests API to retreive all weighted instrument valuation requests from the previous 5 minutes for this session and display them along with any errors in a data frame.\n",
    "\n",
    "The reason that an inline valuation is used in this instance is to make the notebook easier to re-run and that meaningful data can be extracted from the response body to indicate the success or failure of the operation."
   ]
  },
  {
   "cell_type": "markdown",
   "id": "d93eef1e",
   "metadata": {},
   "source": [
    "## 1. Setup LUSID and Insights\n",
    "\n",
    "This section will load the relevant Python packages as well as create the LUSID and Insights API clients. The LUSID API clients will be used to create the valuation whereas the Insights API client will be used to request the logs and request/response bodies. \n",
    "\n",
    "A unique correlation ID will also be set here when the Lusid API factory is constructed. The correlation ID is attached to all request logs created by the API object and will be used by the insights API later in the notebook to find logs related to this session. More can be found on correlation IDs under this [knowledge base article](https://support.lusid.com/knowledgebase/article/KA-01714/en-us)"
   ]
  },
  {
   "cell_type": "code",
   "execution_count": null,
   "id": "610ed425",
   "metadata": {
    "code_folding": []
   },
   "outputs": [],
   "source": [
    "# Import Insights specific packages\n",
    "from finbourne_insights import api as ia\n",
    "import finbourne_insights\n",
    "import fbnsdkutilities\n",
    "\n",
    "# Import lusid specific packages\n",
    "# These are the core lusid packages for interacting with the API via Python\n",
    "import lusid\n",
    "import lusid.models as models\n",
    "from lusid.utilities import ApiClientFactory\n",
    "from lusidjam import RefreshingToken\n",
    "\n",
    "#Import system packages\n",
    "import json\n",
    "import pytz\n",
    "from IPython.core.display import HTML\n",
    "import uuid\n",
    "from datetime import datetime, timedelta\n",
    "import time\n",
    "from flatten_json import flatten\n",
    "import os\n",
    "import pandas as pd\n",
    "import math\n",
    "from pprint import pprint\n",
    "import backoff\n",
    "\n",
    "# Set pandas dataframe display formatting\n",
    "pd.set_option('display.max_columns', None)\n",
    "pd.options.display.float_format = '{:,.2f}'.format\n",
    "\n",
    "# Get secrets path for API client\n",
    "secrets_path = os.getenv(\"FBN_SECRETS_PATH\")\n",
    "\n",
    "# Set a correlation ID in order to find all logs related to this session\n",
    "correlation_id = str(uuid.uuid4())\n",
    "\n",
    "# Initiate a Lusid API Factory which is the client side object for interacting with Lusid APIs\n",
    "l_api_factory = lusid.utilities.ApiClientFactory(\n",
    "    token=RefreshingToken(),\n",
    "    api_secrets_filename=secrets_path,\n",
    "    app_name=\"LusidJupyterNotebook\",\n",
    "    correlation_id = correlation_id\n",
    ")\n",
    "\n",
    "# Load LUSID API Components\n",
    "aggregation_api = l_api_factory.build(lusid.api.AggregationApi)\n",
    "quotes_api = l_api_factory.build(lusid.api.QuotesApi)\n",
    "configuration_recipe_api = l_api_factory.build(lusid.api.ConfigurationRecipeApi)\n",
    "\n",
    "lusid_api_url = l_api_factory.api_client.configuration.host\n",
    "insights_api_url = lusid_api_url[: lusid_api_url.rfind(\"/\") + 1] + \"insights\"\n",
    "\n",
    "# Initiate an Insights API Factory which is the client side object for interacting with Insight APIs\n",
    "i_api_factory = fbnsdkutilities.ApiClientFactory(\n",
    "    finbourne_insights,\n",
    "    token=RefreshingToken(),\n",
    "    api_secrets_filename=secrets_path,\n",
    "    api_url = insights_api_url,\n",
    "    app_name = \"LusidJupyterNotebook\"\n",
    ")\n",
    "\n",
    "# Build insight API components\n",
    "i_requests_api = i_api_factory.build(ia.RequestsApi)\n",
    "\n",
    "# Set Global scope\n",
    "global_scope = \"Insights_Inline_valuation_NB\"\n",
    "\n",
    "# Defining variables\n",
    "valuation_date = datetime(year=2023, month=1, day=26, tzinfo=pytz.UTC).isoformat()"
   ]
  },
  {
   "cell_type": "markdown",
   "id": "aade11d4",
   "metadata": {},
   "source": [
    "## 2. Load quotes"
   ]
  },
  {
   "cell_type": "markdown",
   "id": "486ca461",
   "metadata": {},
   "source": [
    "### 2.1 Instrument Value Quotes"
   ]
  },
  {
   "cell_type": "markdown",
   "id": "f2ec74c4",
   "metadata": {},
   "source": [
    "Load 5 prices into the quotes store with associated instrument 'ClientInternal' identifiers. These will be linked to the weighted instruments created below in Section 3."
   ]
  },
  {
   "cell_type": "code",
   "execution_count": null,
   "id": "4599a7ac",
   "metadata": {},
   "outputs": [],
   "source": [
    "values = [20, 50, 100, 75, 60]\n",
    "\n",
    "for i in range(1,6):\n",
    "    quotes_api.upsert_quotes(\n",
    "        scope = global_scope,\n",
    "        request_body = {f\"quote_{i}\": models.UpsertQuoteRequest(\n",
    "            quote_id=models.QuoteId(\n",
    "                models.QuoteSeriesId(\n",
    "                    provider=\"Lusid\",\n",
    "                    instrument_id=f\"client_internal_{i}\",\n",
    "                    instrument_id_type=\"ClientInternal\",\n",
    "                    quote_type=\"Price\",\n",
    "                    field=\"mid\"             \n",
    "                ),\n",
    "                effective_at = valuation_date\n",
    "            ),\n",
    "            metric_value=models.MetricValue(\n",
    "                value=values[i-1],\n",
    "                unit=\"GBP\"\n",
    "            )\n",
    "        )}        \n",
    "    )"
   ]
  },
  {
   "cell_type": "markdown",
   "id": "5d933d9f",
   "metadata": {},
   "source": [
    "## 2.2 FX Rate quotes"
   ]
  },
  {
   "cell_type": "markdown",
   "id": "31c94f65",
   "metadata": {},
   "source": [
    "Load FX rates required for FX rate inference into the quotes store."
   ]
  },
  {
   "cell_type": "code",
   "execution_count": null,
   "id": "0e48fe19",
   "metadata": {},
   "outputs": [],
   "source": [
    "def spot_request(from_ccy, to_ccy, rate, valuation_date):\n",
    "    return models.UpsertQuoteRequest(\n",
    "               quote_id=models.QuoteId(\n",
    "                   models.QuoteSeriesId(\n",
    "                       provider='Lusid',\n",
    "                       instrument_id=f'{from_ccy}/{to_ccy}',\n",
    "                       instrument_id_type='CurrencyPair',\n",
    "                       quote_type='Rate',\n",
    "                       field='mid'\n",
    "                   ),\n",
    "                   effective_at=valuation_date\n",
    "               ),\n",
    "               metric_value=models.MetricValue(\n",
    "                   value=rate,\n",
    "                   unit=f'{from_ccy}/{to_ccy}'\n",
    "               ),\n",
    "               lineage='None'\n",
    "    )\n",
    "\n",
    "# JPY/GBP FX rate quote\n",
    "response = quotes_api.upsert_quotes(scope=global_scope,\n",
    "                                   request_body={\"1\": spot_request(\"JPY\", \"GBP\", 0.006618, valuation_date)})                                  \n",
    "# AUD/GBP FX rate quote\n",
    "response = quotes_api.upsert_quotes(scope=global_scope,\n",
    "                                   request_body={\"1\": spot_request(\"AUD\", \"GBP\", 0.7319, valuation_date)})"
   ]
  },
  {
   "cell_type": "markdown",
   "id": "eaa0340d",
   "metadata": {},
   "source": [
    "## 3. Define Weighted Instruments"
   ]
  },
  {
   "cell_type": "markdown",
   "id": "7dc53f03",
   "metadata": {},
   "source": [
    "Define 5 weighted equity instruments with the same 'ClientInternal' identifiers as those of the 5 quotes, a quantity of 1 and a currency of GBP (same as for the quotes). Put these 5 definitions into a list to be passed into the successful inline valuation request in Section 5."
   ]
  },
  {
   "cell_type": "code",
   "execution_count": null,
   "id": "d2ee4951",
   "metadata": {},
   "outputs": [],
   "source": [
    "weighted_instruments = []\n",
    "\n",
    "for i in range(1, 6):\n",
    "    weighted_instrument = lusid.WeightedInstrument(\n",
    "        quantity=1,\n",
    "        holding_identifier=f\"client_internal_{i}\",\n",
    "        instrument=models.Equity(\n",
    "            identifiers= lusid.EquityAllOfIdentifiers(\n",
    "                client_internal=f\"client_internal_{i}\",\n",
    "            ),\n",
    "            dom_ccy=\"GBP\",\n",
    "            instrument_type=\"Equity\",\n",
    "        ), \n",
    "    )      \n",
    "    \n",
    "    weighted_instruments.append(weighted_instrument)"
   ]
  },
  {
   "cell_type": "markdown",
   "id": "6e3ca651",
   "metadata": {},
   "source": [
    "## 4. Create Valuation Recipe"
   ]
  },
  {
   "cell_type": "markdown",
   "id": "31d847ad",
   "metadata": {},
   "source": [
    "Define a valuation recipe to use the quotes loaded into the quotes store. "
   ]
  },
  {
   "cell_type": "code",
   "execution_count": null,
   "id": "095a9e4e",
   "metadata": {},
   "outputs": [],
   "source": [
    "# Create recipes\n",
    "recipe_scope=\"Insights_Inline_valuation_NB\"\n",
    "recipe_code=\"Insights_Inline_valuation_NB\"\n",
    "\n",
    "# Create a recipe to perform a valuation\n",
    "configuration_recipe = models.ConfigurationRecipe(\n",
    "    scope=recipe_scope,\n",
    "    code=recipe_code,\n",
    "    market=models.MarketContext(\n",
    "        market_rules=[\n",
    "            # Define how to resolve the quotes\n",
    "            models.MarketDataKeyRule(\n",
    "                key=\"Equity.ClientInternal.*\",\n",
    "                supplier=\"Lusid\",\n",
    "                data_scope=global_scope,\n",
    "                quote_type=\"Price\",\n",
    "                field=\"mid\",\n",
    "            ),\n",
    "            models.MarketDataKeyRule(\n",
    "                key='Fx.CurrencyPair.*',\n",
    "                data_scope=global_scope,\n",
    "                supplier='Lusid',\n",
    "                quote_type='Rate',\n",
    "                quote_interval='1D.0D',\n",
    "                field=\"mid\"\n",
    "            )\n",
    "        ],\n",
    "        options=models.MarketOptions(\n",
    "            default_supplier=\"Lusid\",\n",
    "            default_instrument_code_type=\"Isin\",\n",
    "            default_scope='Lusid',\n",
    "            attempt_to_infer_missing_fx=True,\n",
    "        ),\n",
    "    ),\n",
    "    pricing=models.PricingContext(\n",
    "        options={\"AllowPartiallySuccessfulEvaluation\": True},\n",
    "    ),\n",
    ")\n",
    "\n",
    "upsert_configuration_recipe_response = configuration_recipe_api.upsert_configuration_recipe(\n",
    "    upsert_recipe_request=models.UpsertRecipeRequest(\n",
    "        configuration_recipe=configuration_recipe\n",
    "    )\n",
    ")"
   ]
  },
  {
   "cell_type": "markdown",
   "id": "3949f5fa",
   "metadata": {},
   "source": [
    "## 5. Run Inline Valuation Requests"
   ]
  },
  {
   "cell_type": "markdown",
   "id": "16abd8cf",
   "metadata": {},
   "source": [
    "Attempt to create valuation requests for the predefined weighted instruments with JPY & AUD report currencies."
   ]
  },
  {
   "cell_type": "markdown",
   "id": "0100b083",
   "metadata": {},
   "source": [
    "### 5.1 Define Inline Valuation Request Function"
   ]
  },
  {
   "cell_type": "code",
   "execution_count": null,
   "id": "05d76256",
   "metadata": {},
   "outputs": [],
   "source": [
    "def generate_valuation_request(valuation_effectiveAt, report_currency, instruments):\n",
    "\n",
    "    # Create the valuation request\n",
    "    valuation_request = models.InlineValuationRequest(\n",
    "        recipe_id=models.ResourceId(\n",
    "            scope=recipe_scope, code=recipe_code\n",
    "        ),\n",
    "        metrics=[\n",
    "            models.AggregateSpec(\"Valuation/PvInReportCcy\", \"Value\"),\n",
    "            models.AggregateSpec(\"Valuation/PvInReportCcy/Ccy\", \"Value\"),\n",
    "            models.AggregateSpec(\"Analytic/default/InstrumentTag\", \"Value\"),\n",
    "            models.AggregateSpec(\"Quotes/FxRate/DomReport\", \"Value\"),\n",
    "            models.AggregateSpec(\"Quotes/Price\", \"Value\"),\n",
    "            models.AggregateSpec(\"Quotes/Price/Ccy\", \"Value\")\n",
    "        ],\n",
    "        report_currency = report_currency,\n",
    "        valuation_schedule=models.ValuationSchedule(\n",
    "            effective_at=valuation_effectiveAt\n",
    "        ),\n",
    "        instruments=instruments\n",
    "    )\n",
    "\n",
    "    return valuation_request"
   ]
  },
  {
   "cell_type": "markdown",
   "id": "3d592738",
   "metadata": {},
   "source": [
    "### 5.2 Run Inline Valuation in JPY"
   ]
  },
  {
   "cell_type": "markdown",
   "id": "e4bbd073",
   "metadata": {},
   "source": [
    "This valuation will return successful results."
   ]
  },
  {
   "cell_type": "code",
   "execution_count": null,
   "id": "7a370790",
   "metadata": {},
   "outputs": [],
   "source": [
    "# Run inline valuation in JPY\n",
    "aggregation = aggregation_api.get_valuation_of_weighted_instruments(\n",
    "    inline_valuation_request=generate_valuation_request(\n",
    "        valuation_date, \"JPY\", weighted_instruments\n",
    "    )\n",
    ")\n",
    "\n",
    "output = pd.DataFrame(aggregation.data)\n",
    "output"
   ]
  },
  {
   "cell_type": "markdown",
   "id": "fd8c2831",
   "metadata": {},
   "source": [
    "### 5.3 Run Inline Valuation in AUD"
   ]
  },
  {
   "cell_type": "markdown",
   "id": "b287a430",
   "metadata": {},
   "source": [
    "Here we do not specify the weighted instruments and as such an API exception is returned."
   ]
  },
  {
   "cell_type": "code",
   "execution_count": null,
   "id": "a5ac921b",
   "metadata": {},
   "outputs": [],
   "source": [
    "# Run inline Valuation for AUD with an empty list of instruments\n",
    "try :\n",
    "    aggregation = aggregation_api.get_valuation_of_weighted_instruments(\n",
    "        inline_valuation_request=generate_valuation_request(\n",
    "            valuation_date, \"AUD\", []\n",
    "        )\n",
    "    )\n",
    "except lusid.ApiException as e:\n",
    "    print(\"ERROR : \" + json.loads(e.body)[\"title\"])"
   ]
  },
  {
   "cell_type": "markdown",
   "id": "747ffff6",
   "metadata": {},
   "source": [
    "## 6. Get the valuation requests using Insights"
   ]
  },
  {
   "cell_type": "markdown",
   "id": "01d21212",
   "metadata": {},
   "source": [
    "### 6.1 Get the request logs"
   ]
  },
  {
   "cell_type": "markdown",
   "id": "12fae8ea",
   "metadata": {},
   "source": [
    "Now that we have a successful and unsuccesful request in the system, we can request the logs which will give us an overview of each operation. Here we use the insights API's list_request_logs function which can request the top-level information from the request logs. We then filter the request for all weighted instrument valuations made in the last 5 minutes. We also provide the correlation ID which was set in section 1 to filter for only transactions from this session."
   ]
  },
  {
   "cell_type": "code",
   "execution_count": null,
   "id": "a3268f11",
   "metadata": {
    "scrolled": true
   },
   "outputs": [],
   "source": [
    "# Logs are written asynchronously and there may be a lag for them to be queryable after writing. \n",
    "# This function will keep polling until it finds both logs for the 2 valuations from the previous steps.\n",
    "\n",
    "@backoff.on_predicate(backoff.expo, lambda x: len(x.values) < 2, max_tries=5)\n",
    "def insights_log_requests(operation, timestamp_diff_lower, timestamp_diff_upper):\n",
    "    # Define filter\n",
    "    timestamp_lower = (datetime.now() - timedelta(minutes=timestamp_diff_lower)).strftime(f\"%Y-%m-%dT%H:%M:%S\")\n",
    "    timestamp_upper = (datetime.now() - timedelta(minutes=timestamp_diff_upper)).strftime(f\"%Y-%m-%dT%H:%M:%S\")\n",
    "\n",
    "    filter= f\"timestamp gt {timestamp_lower} and timestamp lt {timestamp_upper} and operation eq '{operation}' and CorrelationId eq '{correlation_id}' \"\n",
    "\n",
    "    # Request the logs that satisfy the filter\n",
    "    return i_requests_api.list_request_logs(filter=filter)\n",
    "\n",
    "i_response = insights_log_requests(\"GetValuationOfWeightedInstruments\", 5, 0)"
   ]
  },
  {
   "cell_type": "markdown",
   "id": "362a3494",
   "metadata": {},
   "source": [
    "### 6.2 Get the details for each operation "
   ]
  },
  {
   "cell_type": "markdown",
   "id": "8575149e",
   "metadata": {},
   "source": [
    "Using the logs which were retrieved in the previous section, we can take the Request IDs and construct a dataframe which displays the request/response bodies along with error details if the request was unsuccessful."
   ]
  },
  {
   "cell_type": "code",
   "execution_count": null,
   "id": "25145612",
   "metadata": {
    "scrolled": true
   },
   "outputs": [],
   "source": [
    "# The request and response bodies are written asynchronously and seperate to the request logs, so they may be a further\n",
    "# delay after the initial logs are retrieved.\n",
    "# This function will keep trying to request the request and response bodies until neither request returns an exception.\n",
    "@backoff.on_exception(backoff.expo, finbourne_insights.ApiException, max_time=120 )\n",
    "def request_response_reqs(id):\n",
    "    request = i_requests_api.get_request(id)\n",
    "    response = i_requests_api.get_response(id)\n",
    "    \n",
    "    return (request,response)\n",
    "\n",
    "# Function to construct a data frame out of the request and response bodies.\n",
    "def request_response_bodies(req_logs):\n",
    "\n",
    "    rr_bodies = []\n",
    "\n",
    "    for row in req_logs.values:\n",
    "        req_resp = request_response_reqs(row.id)\n",
    "        request_body = json.loads(req_resp[0].body)\n",
    "        response_body = json.loads(req_resp[1].body)\n",
    "        error = None\n",
    "        error_details = None\n",
    "        if row.http_status_code == 400 : \n",
    "            error  = response_body[\"name\"]\n",
    "            error_details = response_body[\"errorDetails\"]\n",
    "        rr_bodies.append({\"id\" : row.id,\n",
    "                        \"timestamp\" : row.timestamp, \n",
    "                        \"outcome\" : row.outcome,\n",
    "                        \"error\" : error,\n",
    "                        \"error_details\" : error_details,\n",
    "                        \"request_body\" : request_body,\n",
    "                        \"response_body\" : response_body,})\n",
    "    return rr_bodies\n",
    "\n",
    "request_bodies_df = pd.DataFrame(request_response_bodies(i_response))\n",
    "request_bodies_df"
   ]
  },
  {
   "cell_type": "markdown",
   "id": "44d67320",
   "metadata": {},
   "source": [
    "If we want to examine the errors further, we can drill down into the error details by walking through the JSON. This will vary based on the type of error returned, but here is an example for the InvalidParameterValue error returned above:"
   ]
  },
  {
   "cell_type": "code",
   "execution_count": null,
   "id": "1f493f3d",
   "metadata": {
    "scrolled": true
   },
   "outputs": [],
   "source": [
    "for index, row in request_bodies_df.iterrows() :\n",
    "    if row['error'] : \n",
    "        print(f\"\\\n",
    "For message ID {row.id}, error type {row['error']} \\\n",
    "was returned for the {row['response_body']['errorDetails'][0]['id']} parameter. \\\n",
    "The error message was '{row['response_body']['errorDetails'][0]['detail']}'\")"
   ]
  }
 ],
 "metadata": {
  "kernelspec": {
   "display_name": "Python 3 (ipykernel)",
   "language": "python",
   "name": "python3"
  },
  "language_info": {
   "codemirror_mode": {
    "name": "ipython",
    "version": 3
   },
   "file_extension": ".py",
   "mimetype": "text/x-python",
   "name": "python",
   "nbconvert_exporter": "python",
   "pygments_lexer": "ipython3",
   "version": "3.9.7"
  },
  "toc": {
   "base_numbering": 1,
   "nav_menu": {},
   "number_sections": false,
   "sideBar": true,
   "skip_h1_title": false,
   "title_cell": "Table of Contents",
   "title_sidebar": "Contents",
   "toc_cell": false,
   "toc_position": {},
   "toc_section_display": true,
   "toc_window_display": false
  },
  "varInspector": {
   "cols": {
    "lenName": 16,
    "lenType": 16,
    "lenVar": 40
   },
   "kernels_config": {
    "python": {
     "delete_cmd_postfix": "",
     "delete_cmd_prefix": "del ",
     "library": "var_list.py",
     "varRefreshCmd": "print(var_dic_list())"
    },
    "r": {
     "delete_cmd_postfix": ") ",
     "delete_cmd_prefix": "rm(",
     "library": "var_list.r",
     "varRefreshCmd": "cat(var_dic_list()) "
    }
   },
   "types_to_exclude": [
    "module",
    "function",
    "builtin_function_or_method",
    "instance",
    "_Feature"
   ],
   "window_display": false
  }
 },
 "nbformat": 4,
 "nbformat_minor": 5
}
