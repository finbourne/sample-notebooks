{
 "cells": [
  {
   "cell_type": "code",
   "execution_count": null,
   "outputs": [],
   "source": [
    "\"\"\"Bespoke asset classes\n",
    "\n",
    "Demonstration of how to create your own custom instrument inside LUSID, create a transaction against it and value it.\n",
    "\n",
    "Attributes\n",
    "----------\n",
    "instruments\n",
    "transactions\n",
    "properties\n",
    "quotes\n",
    "aggregation\n",
    "\"\"\""
   ],
   "metadata": {
    "collapsed": false,
    "pycharm": {
     "name": "#%%\n"
    }
   }
  },
  {
   "cell_type": "markdown",
   "metadata": {},
   "source": [
    "A common frustration with investment technology platforms is that there is always an asset class in the client security universe that is unsupported and requires bespoke handling.\n",
    "\n",
    "For most institutions, trading in new asset classes is restricted until a front-to-back technology solution is built to support them.\n",
    "\n",
    "Fortunately, LUSID was designed with this ability in mind.\n",
    "\n",
    "Using LUSID you can easily create bespoke assets. This is ideal for alternative investments such as complex derivatives, loan products or even purchases of real estate (which we’ll use in this example).\n",
    "In this notebook you will learn how to create your own custom instrument inside LUSID, create a transaction against it to add it to a portfolio and finally value it.\n",
    "\n",
    "*First of all, run the cell below to initialise LUSID and import the relevant libraries*"
   ]
  },
  {
   "cell_type": "code",
   "execution_count": 1,
   "metadata": {},
   "outputs": [
    {
     "name": "stdout",
     "output_type": "stream",
     "text": [
      "LUSID Environment Initialised\n",
      "LUSID SDK Version:  0.5.3640.0\n"
     ]
    }
   ],
   "source": [
    "# Import LUSID\n",
    "import lusid.models as models\n",
    "import lusid\n",
    "import lusid_sample_data as import_data\n",
    "from lusidjam import RefreshingToken\n",
    "\n",
    "# Import Libraries\n",
    "import pprint\n",
    "from datetime import datetime, timedelta, time\n",
    "import pytz\n",
    "import printer as prettyprint\n",
    "import pandas as pd\n",
    "import numpy as np\n",
    "import json\n",
    "import uuid\n",
    "import os\n",
    "\n",
    "# Authenticate our user and create our API client\n",
    "secrets_path = os.getenv(\"FBN_SECRETS_PATH\")\n",
    "\n",
    "api_factory = lusid.utilities.ApiClientFactory(\n",
    "    token=RefreshingToken(),\n",
    "    api_secrets_filename = secrets_path,\n",
    "    app_name=\"LusidJupyterNotebook\")\n",
    "\n",
    "print ('LUSID Environment Initialised')\n",
    "print ('LUSID SDK Version: ', api_factory.build(lusid.api.ApplicationMetadataApi).get_lusid_versions().build_version)"
   ]
  },
  {
   "cell_type": "markdown",
   "metadata": {},
   "source": [
    "![Scopes](img/paper-lusid.gif)"
   ]
  },
  {
   "cell_type": "markdown",
   "metadata": {},
   "source": [
    "In LUSID you can create separate environments using scopes. A scope is a container for LUSID objects and can be thought of as a separate identity namespace. Using LUSID's entitlements engine you can ensure that a user can only interact with objects inside their scope. Furthermore no other stakeholder inside the organisation can access this scope unless explicitly given permission. \n",
    "\n",
    "For this example you will create a scope to hold your commercial real estate assets.\n",
    "\n",
    "*Run the cell below to initialise your scope. Note that the scope will have a unique 4 character code appended to it to make the name more unique.*"
   ]
  },
  {
   "cell_type": "code",
   "execution_count": 2,
   "metadata": {},
   "outputs": [
    {
     "name": "stdout",
     "output_type": "stream",
     "text": [
      "\u001B[1mScope: \u001B[0mCommercial-Real-Estate-37f8-d467-64c5-28\n"
     ]
    }
   ],
   "source": [
    "scope = 'Commercial-Real-Estate-' + import_data.create_scope_id()\n",
    "prettyprint.heading('Scope', scope)"
   ]
  },
  {
   "cell_type": "markdown",
   "metadata": {},
   "source": [
    "![Scopes](img/complexinstruments-scope.gif)"
   ]
  },
  {
   "cell_type": "markdown",
   "metadata": {},
   "source": [
    "Now that you have a scope you can create your custom asset. In this situation you have just purchased a shopping centre in Sydney. You have some of the important details of the asset in a small JSON file. You haven't been able to enter this into your internal systems (yet) as there are no fields available for some of the more specific information such as the average retail lease. \n",
    "\n",
    "With LUSID you can create an instrument for this asset and attach all of this information to it without any modification.\n",
    "\n",
    "*Run the cell below to upsert the instrument into LUSID with the attached bespoke information*"
   ]
  },
  {
   "cell_type": "code",
   "execution_count": 3,
   "metadata": {},
   "outputs": [
    {
     "name": "stdout",
     "output_type": "stream",
     "text": [
      "\u001B[91m\u001B[1mInstruments Successfully Upserted: \u001B[0m\n"
     ]
    },
    {
     "data": {
      "text/html": [
       "<div>\n",
       "<style scoped>\n",
       "    .dataframe tbody tr th:only-of-type {\n",
       "        vertical-align: middle;\n",
       "    }\n",
       "\n",
       "    .dataframe tbody tr th {\n",
       "        vertical-align: top;\n",
       "    }\n",
       "\n",
       "    .dataframe thead th {\n",
       "        text-align: right;\n",
       "    }\n",
       "</style>\n",
       "<table border=\"1\" class=\"dataframe\">\n",
       "  <thead>\n",
       "    <tr style=\"text-align: right;\">\n",
       "      <th></th>\n",
       "      <th>Instrument</th>\n",
       "      <th>ClientInternal ID</th>\n",
       "      <th>LUSID Instrument ID</th>\n",
       "    </tr>\n",
       "  </thead>\n",
       "  <tbody>\n",
       "    <tr>\n",
       "      <th>0</th>\n",
       "      <td>shopping_centre</td>\n",
       "      <td>SYD_241232</td>\n",
       "      <td>LUID_FD2YQ7EQ</td>\n",
       "    </tr>\n",
       "  </tbody>\n",
       "</table>\n",
       "</div>"
      ],
      "text/plain": [
       "        Instrument ClientInternal ID LUSID Instrument ID\n",
       "0  shopping_centre        SYD_241232       LUID_FD2YQ7EQ"
      ]
     },
     "execution_count": 3,
     "metadata": {},
     "output_type": "execute_result"
    }
   ],
   "source": [
    "# Create the bespoke hedge contract definition\n",
    "shopping_centre_asset = {\n",
    "    \"identifier\": \"SYD_241232\",\n",
    "    \"no_units\": 76,\n",
    "    \"average_retail_lease\": \"2.3 years\",\n",
    "    \"term\": \"5yr\",\n",
    "    \"freq\": \"Quarterly\",\n",
    "    \"rating\": \"B1\"\n",
    "}\n",
    "\n",
    "# Create the definition for your instrument, attaching the bespoke contract\n",
    "shopping_centre_asset_instrument = models.InstrumentDefinition(\n",
    "    name='Sydney_Bondi_Junc_Westfield',\n",
    "    identifiers={\n",
    "        'ClientInternal': models.InstrumentIdValue(\n",
    "            value=shopping_centre_asset[\"identifier\"])},\n",
    "    definition=models.InstrumentEconomicDefinition(\n",
    "        instrument_format='JSON',\n",
    "        content=json.dumps(shopping_centre_asset)\n",
    "    )\n",
    ")\n",
    "\n",
    "response = api_factory.build(lusid.api.InstrumentsApi).upsert_instruments(\n",
    "    instruments={\"shopping_centre\": shopping_centre_asset_instrument})\n",
    "\n",
    "prettyprint.instrument_response(response)"
   ]
  },
  {
   "cell_type": "markdown",
   "metadata": {},
   "source": [
    "![Scopes](img/complexinstruments-instrumentmaster.gif)"
   ]
  },
  {
   "cell_type": "markdown",
   "metadata": {},
   "source": [
    "You can check that the instrument has been created in your instrument master inside LUSID by retrieving it. \n",
    "\n",
    "*Run the cell below to get the instrument from the instrument master*"
   ]
  },
  {
   "cell_type": "code",
   "execution_count": 4,
   "metadata": {},
   "outputs": [
    {
     "name": "stdout",
     "output_type": "stream",
     "text": [
      "Instrument Name: Sydney_Bondi_Junc_Westfield\n",
      " ClientInternal: SYD_241232\n",
      " Lusid Instrument ID: LUID_FD2YQ7EQ\n",
      " Instrument Definition:\n",
      "{\"identifier\": \"SYD_241232\", \"no_units\": 76, \"average_retail_lease\": \"2.3 years\", \"term\": \"5yr\", \"freq\": \"Quarterly\", \"rating\": \"B1\"}\n"
     ]
    }
   ],
   "source": [
    "response = api_factory.build(lusid.api.InstrumentsApi).get_instrument(\n",
    "    identifier_type='ClientInternal',\n",
    "    identifier=shopping_centre_asset[\"identifier\"])\n",
    "\n",
    "# Print the response\n",
    "print('Instrument Name: ' + response.name + '\\n', \n",
    "      'ClientInternal: ' + response.identifiers['ClientInternal'] + '\\n',\n",
    "      'Lusid Instrument ID: ' + response.lusid_instrument_id + '\\n',\n",
    "      'Instrument Definition:' + '\\n' + response.instrument_definition.content)\n",
    "\n",
    "luid = response.lusid_instrument_id"
   ]
  },
  {
   "cell_type": "markdown",
   "metadata": {},
   "source": [
    "Now that you've created the instrument, it would be great if you could split out some of the properties such as the average retail lease into a more structured schema so that you can access it more easily, search by it etc.\n",
    "\n",
    "In LUSID you have complete control over the schema you'd like to set up for your instruments. In this case you can take each bit of important information from the details about the asset and create properties for them.\n",
    "\n",
    "Unlike the unstructured instrument definition, these properties have a defined data type, and you can enforce different types of validation on them.\n",
    "\n",
    "*Run the cell below to extract the important details from the assets definition and create them as properties with a defined data type*"
   ]
  },
  {
   "cell_type": "code",
   "execution_count": 5,
   "metadata": {},
   "outputs": [
    {
     "name": "stdout",
     "output_type": "stream",
     "text": [
      "\u001B[1midentifier Property Key: \u001B[0mInstrument/Commercial-Real-Estate-37f8-d467-64c5-28/identifier\n",
      "\u001B[1mno_units Property Key: \u001B[0mInstrument/Commercial-Real-Estate-37f8-d467-64c5-28/no_units\n",
      "\u001B[1maverage_retail_lease Property Key: \u001B[0mInstrument/Commercial-Real-Estate-37f8-d467-64c5-28/average_retail_lease\n",
      "\u001B[1mterm Property Key: \u001B[0mInstrument/Commercial-Real-Estate-37f8-d467-64c5-28/term\n",
      "\u001B[1mfreq Property Key: \u001B[0mInstrument/Commercial-Real-Estate-37f8-d467-64c5-28/freq\n",
      "\u001B[1mrating Property Key: \u001B[0mInstrument/Commercial-Real-Estate-37f8-d467-64c5-28/rating\n"
     ]
    }
   ],
   "source": [
    "properties = []\n",
    "property_keys = {}\n",
    "\n",
    "for key, value in shopping_centre_asset.items():\n",
    "    \n",
    "    if type(value) in ['int', 'float']:\n",
    "        data_type = 'number'\n",
    "        property_value = models.PropertyValue(\n",
    "            metric_value=models.MetricValue(value=value)\n",
    "        )\n",
    "\n",
    "    else:\n",
    "        data_type = 'string'\n",
    "        property_value = models.PropertyValue(\n",
    "            label_value=value)\n",
    "\n",
    "    # Create your request to define a new property\n",
    "    property_request = models.CreatePropertyDefinitionRequest(\n",
    "        domain='Instrument',\n",
    "        scope=scope,\n",
    "        code=key,\n",
    "        value_required=False,\n",
    "        display_name=key,\n",
    "        data_type_id=models.ResourceId(\n",
    "            scope='system', \n",
    "            code=data_type)\n",
    "    )\n",
    "\n",
    "    # Call LUSID to create uour new property\n",
    "    response = api_factory.build(lusid.api.PropertyDefinitionsApi).create_property_definition(\n",
    "        definition=property_request)\n",
    "\n",
    "    # Grab the key off the response to use when referencing this property in other LUSID calls\n",
    "    property_key = response.key\n",
    "    \n",
    "    property_keys[key] = property_key\n",
    "    \n",
    "    # Pretty print your key\n",
    "    prettyprint.heading('{} Property Key'.format(key), property_key)\n",
    "    \n",
    "    properties.append(models.ModelProperty(\n",
    "        key=property_key,\n",
    "        value=property_value\n",
    "    ))    \n",
    "\n",
    "# Call the LUSID API to add our property across all instruments\n",
    "response = api_factory.build(lusid.api.InstrumentsApi).upsert_instruments_properties(\n",
    "    instrument_properties=[\n",
    "        models.UpsertInstrumentPropertyRequest(\n",
    "            identifier_type=\"LusidInstrumentId\",\n",
    "            identifier=luid,\n",
    "            properties=properties)\n",
    "    ])"
   ]
  },
  {
   "cell_type": "markdown",
   "metadata": {},
   "source": [
    "Now that you've created these properties, they can be used for similar instruments. You can pull the relevant properties off each instrument with ease now. For example perhaps you are only interested in the rating and the term of this particular piece of commerial real estate.\n",
    "\n",
    "*Run the cell below to pick off the relevant properties for your instrument*"
   ]
  },
  {
   "cell_type": "code",
   "execution_count": 6,
   "metadata": {},
   "outputs": [
    {
     "name": "stdout",
     "output_type": "stream",
     "text": [
      "Instrument Name: Sydney_Bondi_Junc_Westfield\n",
      " ClientInternal ID: SYD_241232\n",
      " Lusid Instrument ID: LUID_FD2YQ7EQ\n",
      " rating: B1\n",
      " term: 5yr\n"
     ]
    }
   ],
   "source": [
    "response = api_factory.build(lusid.api.InstrumentsApi).get_instrument(\n",
    "    identifier_type='ClientInternal',\n",
    "    identifier=shopping_centre_asset[\"identifier\"],\n",
    "    property_keys=[property_keys['rating'], property_keys['term']]\n",
    ")\n",
    "\n",
    "# Print the response\n",
    "print('Instrument Name: ' + response.name + '\\n', \n",
    "      'ClientInternal ID: ' + response.identifiers['ClientInternal'] + '\\n',\n",
    "      'Lusid Instrument ID: ' + response.lusid_instrument_id)\n",
    "\n",
    "for property in response.properties:\n",
    "    print(' {}: '.format(property.key.split('/')[2]) + property.value.label_value)"
   ]
  },
  {
   "cell_type": "markdown",
   "metadata": {},
   "source": [
    "Now that you've created the instrument with its entire definition attached, as well as creating custom properties to more easily access the important information, you can hold this instrument in a portfolio.\n",
    "\n",
    "In this case let's create a new portolio to hold the asset.\n",
    "\n",
    "*Run the cell below to create a portfolio*"
   ]
  },
  {
   "cell_type": "code",
   "execution_count": 7,
   "metadata": {},
   "outputs": [
    {
     "name": "stdout",
     "output_type": "stream",
     "text": [
      "\u001B[1mPortfolio Created\u001B[0m\n",
      "\u001B[1mScope: \u001B[0mCommercial-Real-Estate-37f8-d467-64c5-28\n",
      "\u001B[1mCode: \u001B[0mfb48b445-7e90-4cd8-bad8-1da138ba0f39\n",
      "\u001B[1mPortfolio Effective From: \u001B[0m2019-12-01 14:58:08.732654+00:00\n",
      "\u001B[1mPortfolio Created On: \u001B[0m2019-12-04 14:58:08.901748+00:00\n",
      "\n"
     ]
    }
   ],
   "source": [
    "portfolio_code = str(uuid.uuid4())\n",
    "\n",
    "# The date our portfolios were first created\n",
    "portfolio_creation_date = (datetime.now(pytz.UTC) - timedelta(days=3))\n",
    "\n",
    "# Create the request to add our portfolio\n",
    "transaction_portfolio_request = models.CreateTransactionPortfolioRequest(\n",
    "    display_name='CommercialRealEstate',\n",
    "    code=portfolio_code,\n",
    "    base_currency='AUD',\n",
    "    description='Commercial Real Estate Assets including Shopping Centres',\n",
    "    created=portfolio_creation_date)\n",
    "\n",
    "# Call LUSID to create our portfolio\n",
    "portfolio_response = api_factory.build(lusid.api.TransactionPortfoliosApi).create_portfolio(\n",
    "    scope=scope,\n",
    "    transaction_portfolio=transaction_portfolio_request)\n",
    "\n",
    "# Pretty print the response from LUSID\n",
    "prettyprint.portfolio_response(portfolio_response)"
   ]
  },
  {
   "cell_type": "markdown",
   "metadata": {},
   "source": [
    "![Scopes](img/complexinstruments-portfolio.gif)"
   ]
  },
  {
   "cell_type": "markdown",
   "metadata": {},
   "source": [
    "Now that you have a portfolio to hold the asset, you can create a transaction. You will create a 'StockIn' transaction which moves the asset into the portfolio.\n",
    "\n",
    "*Run the cell below to create a transaction for the asset*"
   ]
  },
  {
   "cell_type": "code",
   "execution_count": 8,
   "metadata": {},
   "outputs": [
    {
     "name": "stdout",
     "output_type": "stream",
     "text": [
      "\u001B[1mTransactions Successfully Upserted into Portfolio\u001B[0m\n",
      "\u001B[1mScope: \u001B[0mCommercial-Real-Estate-37f8-d467-64c5-28\n",
      "\u001B[1mCode: \u001B[0mfb48b445-7e90-4cd8-bad8-1da138ba0f39\n",
      "\u001B[1mTransactions Effective From: \u001B[0m2019-12-02 14:58:08.956384+00:00\n",
      "\u001B[1mTransactions Created On: \u001B[0m2019-12-04 14:58:09.160452+00:00\n",
      "\n"
     ]
    }
   ],
   "source": [
    "take_on_transaction = models.TransactionRequest(\n",
    "    transaction_id='39iw-090f9f9s',\n",
    "    type=\"StockIn\",\n",
    "    instrument_identifiers={\n",
    "        \"Instrument/default/LusidInstrumentId\": luid},\n",
    "    transaction_date=datetime.now(pytz.UTC)-timedelta(days=2),\n",
    "    settlement_date=datetime.now(pytz.UTC),\n",
    "    units=1,\n",
    "    transaction_price=models.TransactionPrice(\n",
    "        price=18000000,\n",
    "        type='Price'),\n",
    "    total_consideration=models.CurrencyAndAmount(\n",
    "        amount=18000000,\n",
    "        currency='AUD'),\n",
    "    source='Client',\n",
    "    transaction_currency='AUD')\n",
    "\n",
    "# Call LUSID to upsert our transactions\n",
    "response = api_factory.build(lusid.api.TransactionPortfoliosApi).upsert_transactions(\n",
    "    scope=scope,\n",
    "    code=portfolio_code,\n",
    "    transactions=[take_on_transaction])\n",
    "\n",
    "# Pretty print the response from LUSID\n",
    "prettyprint.transactions_response(\n",
    "    response,\n",
    "    scope, \n",
    "    portfolio_code)"
   ]
  },
  {
   "cell_type": "markdown",
   "metadata": {},
   "source": [
    "You can now check the holdings of the portfolio to see if the asset has been added.\n",
    "\n",
    "*Run the cell below to get the holdings of the portfolio to check that the asset has been added via the StockIn transaction*"
   ]
  },
  {
   "cell_type": "code",
   "execution_count": 9,
   "metadata": {},
   "outputs": [
    {
     "name": "stdout",
     "output_type": "stream",
     "text": [
      "\u001B[1mHoldings for Portfolio\u001B[0m\n",
      "\u001B[1mScope: \u001B[0mCommercial-Real-Estate-37f8-d467-64c5-28\n",
      "\u001B[1mCode: \u001B[0mfb48b445-7e90-4cd8-bad8-1da138ba0f39\n",
      "\n"
     ]
    },
    {
     "data": {
      "text/html": [
       "<div>\n",
       "<style scoped>\n",
       "    .dataframe tbody tr th:only-of-type {\n",
       "        vertical-align: middle;\n",
       "    }\n",
       "\n",
       "    .dataframe tbody tr th {\n",
       "        vertical-align: top;\n",
       "    }\n",
       "\n",
       "    .dataframe thead th {\n",
       "        text-align: right;\n",
       "    }\n",
       "</style>\n",
       "<table border=\"1\" class=\"dataframe\">\n",
       "  <thead>\n",
       "    <tr style=\"text-align: right;\">\n",
       "      <th></th>\n",
       "      <th>Instrument/default/Name</th>\n",
       "      <th>Units</th>\n",
       "      <th>Cost</th>\n",
       "      <th>Currency</th>\n",
       "      <th>Unsettled Transaction Id</th>\n",
       "      <th>Settlement Date</th>\n",
       "    </tr>\n",
       "  </thead>\n",
       "  <tbody>\n",
       "    <tr>\n",
       "      <th>0</th>\n",
       "      <td>Sydney_Bondi_Junc_Westfield</td>\n",
       "      <td>1.00</td>\n",
       "      <td>18000000.00</td>\n",
       "      <td>AUD</td>\n",
       "      <td>-</td>\n",
       "      <td>-</td>\n",
       "    </tr>\n",
       "  </tbody>\n",
       "</table>\n",
       "</div>"
      ],
      "text/plain": [
       "       Instrument/default/Name  Units        Cost Currency  \\\n",
       "0  Sydney_Bondi_Junc_Westfield   1.00 18000000.00      AUD   \n",
       "\n",
       "  Unsettled Transaction Id Settlement Date  \n",
       "0                        -               -  "
      ]
     },
     "execution_count": 9,
     "metadata": {},
     "output_type": "execute_result"
    }
   ],
   "source": [
    "response = api_factory.build(lusid.api.TransactionPortfoliosApi).get_holdings(\n",
    "    scope=scope,\n",
    "    code=portfolio_code,\n",
    "    property_keys=['Instrument/default/Name'])\n",
    "\n",
    "prettyprint.holdings_response(response, scope, portfolio_code)"
   ]
  },
  {
   "cell_type": "markdown",
   "metadata": {},
   "source": [
    "Perhaps as part of the take on process of this asset, you have completed an independent valuation of it. You want to add the valuation to LUSID so that you can compare it with the cost price. You can do this using the quote store.\n",
    "\n",
    "*Run the cell below to upsert a quote for the recent independent valuation*"
   ]
  },
  {
   "cell_type": "code",
   "execution_count": 10,
   "metadata": {},
   "outputs": [
    {
     "data": {
      "text/html": [
       "<div>\n",
       "<style scoped>\n",
       "    .dataframe tbody tr th:only-of-type {\n",
       "        vertical-align: middle;\n",
       "    }\n",
       "\n",
       "    .dataframe tbody tr th {\n",
       "        vertical-align: top;\n",
       "    }\n",
       "\n",
       "    .dataframe thead th {\n",
       "        text-align: right;\n",
       "    }\n",
       "</style>\n",
       "<table border=\"1\" class=\"dataframe\">\n",
       "  <thead>\n",
       "    <tr style=\"text-align: right;\">\n",
       "      <th></th>\n",
       "      <th>_lineage</th>\n",
       "      <th>_cut_label</th>\n",
       "      <th>_uploaded_by</th>\n",
       "      <th>_as_at</th>\n",
       "      <th>discriminator</th>\n",
       "      <th>_provider</th>\n",
       "      <th>_price_source</th>\n",
       "      <th>_instrument_id</th>\n",
       "      <th>_instrument_id_type</th>\n",
       "      <th>_quote_type</th>\n",
       "      <th>_field</th>\n",
       "      <th>_value</th>\n",
       "      <th>_unit</th>\n",
       "      <th>status</th>\n",
       "    </tr>\n",
       "  </thead>\n",
       "  <tbody>\n",
       "    <tr>\n",
       "      <th>0</th>\n",
       "      <td>InternalSystem</td>\n",
       "      <td></td>\n",
       "      <td>00u4edwdnnCS5aFsN2p7</td>\n",
       "      <td>2019-12-04 14:58:09.390204+00:00</td>\n",
       "      <td>None</td>\n",
       "      <td>DataScope</td>\n",
       "      <td>None</td>\n",
       "      <td>LUID_FD2YQ7EQ</td>\n",
       "      <td>LusidInstrumentId</td>\n",
       "      <td>Price</td>\n",
       "      <td>Mid</td>\n",
       "      <td>18500000.00</td>\n",
       "      <td>AUD</td>\n",
       "      <td>Success</td>\n",
       "    </tr>\n",
       "  </tbody>\n",
       "</table>\n",
       "</div>"
      ],
      "text/plain": [
       "         _lineage _cut_label          _uploaded_by  \\\n",
       "0  InternalSystem             00u4edwdnnCS5aFsN2p7   \n",
       "\n",
       "                            _as_at discriminator  _provider _price_source  \\\n",
       "0 2019-12-04 14:58:09.390204+00:00          None  DataScope          None   \n",
       "\n",
       "  _instrument_id _instrument_id_type _quote_type _field      _value _unit  \\\n",
       "0  LUID_FD2YQ7EQ   LusidInstrumentId       Price    Mid 18500000.00   AUD   \n",
       "\n",
       "    status  \n",
       "0  Success  "
      ]
     },
     "execution_count": 10,
     "metadata": {},
     "output_type": "execute_result"
    }
   ],
   "source": [
    "# Create a quote for the unit price of the base fund\n",
    "instrument_quote = models.UpsertQuoteRequest(\n",
    "    quote_id=models.QuoteId(\n",
    "        quote_series_id=models.QuoteSeriesId(\n",
    "            provider='DataScope',\n",
    "            instrument_id=luid,\n",
    "            instrument_id_type='LusidInstrumentId',\n",
    "            quote_type='Price',\n",
    "            field='Mid'\n",
    "            ),\n",
    "        effective_at=datetime.now(pytz.UTC)\n",
    "        ),\n",
    "    metric_value=models.MetricValue(\n",
    "        value=18500000,\n",
    "        unit='AUD'),\n",
    "    lineage='InternalSystem'\n",
    ")\n",
    "\n",
    "# Call LUSID to upsert the quote\n",
    "response = api_factory.build(lusid.api.QuotesApi).upsert_quotes(\n",
    "    scope=scope,\n",
    "    quotes={\n",
    "        \"price\": instrument_quote\n",
    "    })\n",
    "\n",
    "prettyprint.upsert_quotes_response(response)"
   ]
  },
  {
   "cell_type": "markdown",
   "metadata": {},
   "source": [
    "With this valuation stored as a quote in LUSID you can now aggregate across your portfolio to compare the cost of your asset with its current valuation. This is something that can be run manually or automated based on when the valuation is updated.\n",
    "\n",
    "*Run the cell below to perform a valuation of your portfolio to compare the cost and value of your asset*"
   ]
  },
  {
   "cell_type": "code",
   "execution_count": 11,
   "metadata": {},
   "outputs": [
    {
     "name": "stdout",
     "output_type": "stream",
     "text": [
      "\u001B[1mAggregation Results: \u001B[0m\n",
      "Holding/default/SubHoldingKey: LusidInstrumentId=LUID_FD2YQ7EQ/AUD\n",
      "Instrument/default/Name: Sydney_Bondi_Junc_Westfield\n",
      "Sum(Holding/default/Units): 1.0\n",
      "Sum(Holding/default/Cost): 18000000.0\n",
      "Sum(Holding/default/PV): 18500000.0\n",
      "\n",
      "\n"
     ]
    }
   ],
   "source": [
    "inline_recipe = models.ConfigurationRecipe(\n",
    "    code='quotes_recipe',\n",
    "    pricing=models.PricingContext(\n",
    "        options=models.PricingOptions(\n",
    "            allow_any_instruments_with_sec_uid_to_price_off_lookup=True)),\n",
    "    market=models.MarketContext(\n",
    "        market_rules=[\n",
    "           models.MarketDataKeyRule(\n",
    "               key='Equity.LusidInstrumentId.*',\n",
    "               supplier='DataScope',\n",
    "               data_scope=scope,\n",
    "               quote_type='Price',\n",
    "               field='Mid'),\n",
    "            models.MarketDataKeyRule(\n",
    "               key='Fx.CurrencyPair.*',\n",
    "               supplier='DataScope',\n",
    "               data_scope=scope,\n",
    "               quote_type='Rate',\n",
    "               field='Mid')\n",
    "        ],\n",
    "        suppliers=models.MarketContextSuppliers(\n",
    "            commodity='DataScope',\n",
    "            credit='DataScope',\n",
    "            equity='DataScope',\n",
    "            fx='DataScope',\n",
    "            rates='DataScope'),\n",
    "        options=models.MarketOptions(\n",
    "            default_supplier='DataScope',\n",
    "            default_instrument_code_type='LusidInstrumentId',\n",
    "            default_scope=scope)\n",
    "    )\n",
    ")  \n",
    "\n",
    "# Create the aggregation request\n",
    "aggregation_request = models.AggregationRequest(\n",
    "    inline_recipe=inline_recipe,\n",
    "    effective_at=datetime.now(pytz.UTC),\n",
    "    metrics=[\n",
    "        models.AggregateSpec(key='Holding/default/SubHoldingKey',\n",
    "        op='Value'),\n",
    "        models.AggregateSpec(key='Instrument/default/Name',\n",
    "        op='Value'),\n",
    "        models.AggregateSpec(key='Holding/default/Units',\n",
    "        op='Sum'),\n",
    "        models.AggregateSpec(key='Holding/default/Cost',\n",
    "        op='Sum'),\n",
    "        models.AggregateSpec(key='Holding/default/PV',\n",
    "        op='Sum'),\n",
    "    ],\n",
    "    group_by=[\n",
    "        'Holding/default/SubHoldingKey'\n",
    "    ])\n",
    "\n",
    "# Call LUSID to perform the aggregation\n",
    "response = api_factory.build(lusid.api.AggregationApi).get_aggregation_by_portfolio(\n",
    "    scope=scope,\n",
    "    code=portfolio_code,\n",
    "    request=aggregation_request)\n",
    "\n",
    "# Pretty print the response\n",
    "prettyprint.aggregation_response_generic(response)"
   ]
  },
  {
   "cell_type": "markdown",
   "metadata": {},
   "source": [
    "Now you have created a bespoke instrument inside LUSID, created a custom schema to represent its important properties which can be extended to other similar assets, added it to a portfolio via a transaction and valued it."
   ]
  }
 ],
 "metadata": {
  "kernelspec": {
   "display_name": "Python 3",
   "language": "python",
   "name": "python3"
  },
  "language_info": {
   "codemirror_mode": {
    "name": "ipython",
    "version": 3
   },
   "file_extension": ".py",
   "mimetype": "text/x-python",
   "name": "python",
   "nbconvert_exporter": "python",
   "pygments_lexer": "ipython3",
   "version": "3.8.1"
  }
 },
 "nbformat": 4,
 "nbformat_minor": 2
}