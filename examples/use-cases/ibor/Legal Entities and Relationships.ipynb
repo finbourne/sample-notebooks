{
 "cells": [
  {
   "cell_type": "code",
   "execution_count": 1,
   "metadata": {},
   "outputs": [
    {
     "data": {
      "text/html": [
       "\n",
       "    <form action=\"javascript:code_toggle()\"><input type=\"submit\" id=\"toggleButton\" value=\"Toggle Docstring\"></form>\n",
       "    \n",
       "         <script>\n",
       "         function code_toggle() {\n",
       "             if ($('div.cell.code_cell.rendered.selected div.input').css('display')!='none'){\n",
       "                 $('div.cell.code_cell.rendered.selected div.input').hide();\n",
       "             } else {\n",
       "                 $('div.cell.code_cell.rendered.selected div.input').show();\n",
       "             }\n",
       "         }\n",
       "         </script>\n",
       "\n",
       "     "
      ],
      "text/plain": [
       "<IPython.core.display.HTML object>"
      ]
     },
     "metadata": {},
     "output_type": "display_data"
    }
   ],
   "source": [
    "from lusidtools.jupyter_tools import toggle_code\n",
    "\n",
    "\"\"\"Legal Entities - Creating Legal Entities and Relationships\n",
    "\n",
    "Attributes\n",
    "----------\n",
    "legal entity\n",
    "relationship\n",
    "custodian\n",
    "portfolios\n",
    "\"\"\"\n",
    "\n",
    "toggle_code(\"Toggle Docstring\")"
   ]
  },
  {
   "cell_type": "markdown",
   "metadata": {},
   "source": [
    "# Creating Legal Entities and Relationships\n",
    "\n",
    "In this notebook, we demonstrate how you can set up a legal entity and link it with various assets using relationships.\n",
    "We will create a Custodian legal entity that we then connect to our portfolio. This way, you can request a portfolio's relationships and see what entity is its custodian.\n",
    "For more information regarding the representation of institutions through legal entities, please refer to https://support.lusid.com/knowledgebase/article/KA-01948/en-us.\n",
    "For a detailed dive into relationships, you may find this article in our knowledge base helpful: https://support.lusid.com/knowledgebase/article/KA-01679/en-us.\n",
    "\n",
    "## Table of Contents:\n",
    "* [1. Create Entity Properties](#1.-Create-Entity-Properties)\n",
    "* [2. Create a Legal Entity](#2.-Create-a-Legal-Entity)\n",
    "* [3. Create a Portfolio](#3.-Create-a-Portfolio)\n",
    "* [4. Create and Set up Relationships](#4.-Create-and-Set-up-Relationships)"
   ]
  },
  {
   "cell_type": "code",
   "execution_count": 2,
   "metadata": {},
   "outputs": [
    {
     "name": "stdout",
     "output_type": "stream",
     "text": [
      "LUSID Environment Initialised\n",
      "LUSID API Version : 0.6.10321.0\n"
     ]
    }
   ],
   "source": [
    "# Import generic non-LUSID packages\n",
    "import os\n",
    "import pandas as pd\n",
    "import numpy as np\n",
    "from datetime import datetime\n",
    "import json\n",
    "import pytz\n",
    "import time\n",
    "from IPython.core.display import HTML\n",
    "\n",
    "# Import key modules from the LUSID package\n",
    "import lusid as lu\n",
    "import lusid.models as lm\n",
    "\n",
    "# Import key functions from Lusid-Python-Tools and other packages\n",
    "from lusidtools.pandas_utils.lusid_pandas import lusid_response_to_data_frame\n",
    "from lusidtools.cocoon.transaction_type_upload import upsert_transaction_type_alias\n",
    "from lusidtools.lpt.lpt import to_date\n",
    "from lusidjam import RefreshingToken\n",
    "\n",
    "\n",
    "# Set DataFrame display formats\n",
    "pd.set_option(\"display.max_columns\", None)\n",
    "pd.set_option(\"display.max_rows\", None)\n",
    "pd.options.display.float_format = \"{:,.2f}\".format\n",
    "\n",
    "# display(HTML(\"<style>.container { width:90% !important; }</style>\"))\n",
    "\n",
    "# Set the secrets path\n",
    "secrets_path = os.getenv(\"FBN_SECRETS_PATH\")\n",
    "\n",
    "# For running the notebook locally\n",
    "if secrets_path is None:\n",
    "    secrets_path = os.path.join(os.path.dirname(os.getcwd()), \"secrets.json\")\n",
    "\n",
    "# Authenticate our user and create our API client\n",
    "api_factory = lu.utilities.ApiClientFactory(\n",
    "    token=RefreshingToken(), api_secrets_filename=secrets_path\n",
    ")\n",
    "\n",
    "print(\"LUSID Environment Initialised\")\n",
    "print(\n",
    "    \"LUSID API Version :\",\n",
    "    api_factory.build(lu.api.ApplicationMetadataApi).get_lusid_versions().build_version,\n",
    ")"
   ]
  },
  {
   "cell_type": "code",
   "execution_count": 3,
   "metadata": {},
   "outputs": [],
   "source": [
    "scope = \"legalEntitiesNotebook\""
   ]
  },
  {
   "cell_type": "code",
   "execution_count": 4,
   "metadata": {},
   "outputs": [],
   "source": [
    "relationship_definitions_api = api_factory.build(lu.RelationshipDefinitionsApi)\n",
    "relationships_api = api_factory.build(lu.RelationshipsApi)\n",
    "property_definitions_api = api_factory.build(lu.api.PropertyDefinitionsApi)\n",
    "transaction_portfolios_api = api_factory.build(lu.api.TransactionPortfoliosApi)\n",
    "portfolios_api = api_factory.build(lu.api.PortfoliosApi)\n",
    "legal_entities_api = api_factory.build(lu.api.LegalEntitiesApi)"
   ]
  },
  {
   "cell_type": "markdown",
   "metadata": {},
   "source": [
    "A Legal Entity is LUSID is lightweight entity, only requiring an identifier, a displayName and a description. LUSID Properties are used to add any additional fields that are required. Here we create the definitions for these properties."
   ]
  },
  {
   "cell_type": "markdown",
   "metadata": {},
   "source": [
    "## 1. Create Entity Properties"
   ]
  },
  {
   "cell_type": "markdown",
   "metadata": {},
   "source": [
    "### Create identifier property\n",
    "\n",
    "There are two things to look out for here, we must set the domain to \"LegalEntity\" and the constraint style to \"Identifier\" so that lusid knows this is meant to be an identifier property for a legal entity."
   ]
  },
  {
   "cell_type": "code",
   "execution_count": 13,
   "metadata": {},
   "outputs": [],
   "source": [
    "def create_property_identifier(code, display_name):\n",
    "    try:\n",
    "        property_definitions_api.create_property_definition(\n",
    "            create_property_definition_request=lm.CreatePropertyDefinitionRequest(\n",
    "                domain=\"LegalEntity\",\n",
    "                scope=scope,\n",
    "                code=code,\n",
    "                value_required=None,\n",
    "                display_name=display_name,\n",
    "                data_type_id=lm.ResourceId(scope=\"system\", code=\"string\"),\n",
    "                life_time=\"Perpetual\",\n",
    "                constraint_style=\"Identifier\"\n",
    "            )\n",
    "        )\n",
    "    except:\n",
    "       print(\"Property already exists\")"
   ]
  },
  {
   "cell_type": "markdown",
   "metadata": {},
   "source": [
    "Here we create a property identifier called Custodian, so that we can make legal entities out of our custodians later on."
   ]
  },
  {
   "cell_type": "code",
   "execution_count": 6,
   "metadata": {},
   "outputs": [],
   "source": [
    "create_property_identifier(\"Custodian\", \"Custodian\")"
   ]
  },
  {
   "cell_type": "markdown",
   "metadata": {},
   "source": [
    "Once we have created the identifier 'Custodian' we can now create some properties to fill in later that will be part of the legal entity."
   ]
  },
  {
   "cell_type": "code",
   "execution_count": 7,
   "metadata": {},
   "outputs": [],
   "source": [
    "def create_property(domain, dtype, code, display_name):\n",
    "    try:\n",
    "        property_definitions_api.create_property_definition(\n",
    "            create_property_definition_request=lm.CreatePropertyDefinitionRequest(\n",
    "                domain=domain,\n",
    "                scope=scope,\n",
    "                code=code,\n",
    "                value_required=None,\n",
    "                display_name=display_name,\n",
    "                data_type_id=lm.ResourceId(scope=\"system\", code=dtype),\n",
    "                life_time=\"Perpetual\",\n",
    "            )\n",
    "        )\n",
    "    except:\n",
    "       print(\"Property already exists\")"
   ]
  },
  {
   "cell_type": "markdown",
   "metadata": {},
   "source": [
    "Our legal entities will have three properties in this example; a code to refer to the custodian internally, the name of the custodian and the country the custodian operates in."
   ]
  },
  {
   "cell_type": "code",
   "execution_count": 17,
   "metadata": {},
   "outputs": [
    {
     "name": "stdout",
     "output_type": "stream",
     "text": [
      "Property already exists\n"
     ]
    }
   ],
   "source": [
    "create_property(\"LegalEntity\", \"string\", \"custodian_code\", \"Custodian Code\")\n",
    "create_property(\"LegalEntity\", \"string\", \"custodian_name\", \"Custodian Name\")\n",
    "create_property(\"LegalEntity\", \"string\", \"country\", \"Country\")"
   ]
  },
  {
   "cell_type": "markdown",
   "metadata": {},
   "source": [
    "## 2. Create a Legal Entity"
   ]
  },
  {
   "cell_type": "code",
   "execution_count": 9,
   "metadata": {},
   "outputs": [],
   "source": [
    "def create_legal_entity(identifier_property, custodian_code, custodian_name, country):\n",
    "\n",
    "    legal_entity_request= lm.UpsertLegalEntityRequest(\n",
    "    identifiers = {f\"LegalEntity/{scope}/{identifier_property}\": lm.PerpetualProperty(\n",
    "        key=f\"LegalEntity/{scope}/{identifier_property}\",\n",
    "        value=lm.PropertyValue(\n",
    "            label_value=custodian_code\n",
    "        )\n",
    "    )},\n",
    "    properties = {\n",
    "        f\"LegalEntity/{scope}/custodian_code\":\n",
    "        lm.PerpetualProperty(\n",
    "            key=f\"LegalEntity/{scope}/custodian_code\",\n",
    "            value=lm.PropertyValue(\n",
    "                label_value=custodian_code\n",
    "            )\n",
    "        ),\n",
    "        f\"LegalEntity/{scope}/custodian_name\":\n",
    "        lm.PerpetualProperty(\n",
    "            key=f\"LegalEntity/{scope}/custodian_name\",\n",
    "            value=lm.PropertyValue(\n",
    "                label_value=custodian_name\n",
    "            )\n",
    "        ),\n",
    "        f\"LegalEntity/{scope}/country\":\n",
    "        lm.PerpetualProperty(\n",
    "            key=f\"LegalEntity/{scope}/country\",\n",
    "            value=lm.PropertyValue(\n",
    "                label_value=country\n",
    "            )\n",
    "        ),\n",
    "    },\n",
    "    display_name = identifier_property +\" \"+ custodian_name,\n",
    "    description = None,\n",
    "    counterparty_risk_information = None,\n",
    "    )\n",
    "\n",
    "    legal_entities_api.upsert_legal_entity(legal_entity_request)\n",
    "    print(\"created legal entity \"+ custodian_code)"
   ]
  },
  {
   "cell_type": "code",
   "execution_count": 10,
   "metadata": {},
   "outputs": [
    {
     "name": "stdout",
     "output_type": "stream",
     "text": [
      "created legal entity CITI\n",
      "created legal entity SSTREET\n",
      "created legal entity BNYM\n"
     ]
    }
   ],
   "source": [
    "create_legal_entity(\"Custodian\", \"CITI\", \"Citi\", \"US\")\n",
    "create_legal_entity(\"Custodian\", \"SSTREET\", \"State Street\", \"US\")\n",
    "create_legal_entity(\"Custodian\", \"BNYM\", \"Bank of New York Mellon\", \"US\")"
   ]
  },
  {
   "cell_type": "markdown",
   "metadata": {},
   "source": [
    "## 3. Create a Portfolio"
   ]
  },
  {
   "cell_type": "markdown",
   "metadata": {},
   "source": [
    "We now have our legal entities ready to be linked to portfolios or other entities within LUSID. Let's create a portfolio and set up a relationship with one of our new custodian legal entities."
   ]
  },
  {
   "cell_type": "code",
   "execution_count": 11,
   "metadata": {},
   "outputs": [
    {
     "name": "stdout",
     "output_type": "stream",
     "text": [
      "Could not create a portfolio with id 'legalEntitiesNotebookPortfolio' because it already exists in scope 'legalEntitiesNotebook'.\n"
     ]
    }
   ],
   "source": [
    "try:\n",
    "    transaction_portfolios_api.create_portfolio(\n",
    "        scope=scope,\n",
    "        create_transaction_portfolio_request=lm.CreateTransactionPortfolioRequest(\n",
    "            display_name=\"Legal Entities Notebook Test Portfolio\",\n",
    "            code=\"legalEntitiesNotebookPortfolio\",\n",
    "            base_currency=\"USD\",\n",
    "            created=\"2022-01-01\",\n",
    "            sub_holding_keys=[],\n",
    "        ),\n",
    "    )\n",
    "\n",
    "except lu.ApiException as e:\n",
    "    print(json.loads(e.body)[\"title\"])"
   ]
  },
  {
   "cell_type": "markdown",
   "metadata": {},
   "source": [
    "## 4. Create and Set up Relationships"
   ]
  },
  {
   "cell_type": "markdown",
   "metadata": {},
   "source": [
    "Now that we have the legal entity and the portfolio, let's describe to LUSID what a relationship is between a portfolio and a custodian. Here, we specify the source and target of the relationship as LegalEntity and Portfolio to establish a relationship between a Custodian entity and our portfolio. Using this API, we could create a relationship between various types of entity in LUSID such as Portfolios, Portfolio Groups, Legal Entities, Persons and more. For more information surrounding relationships, have a look at https://support.lusid.com/knowledgebase/article/KA-01679/en-us."
   ]
  },
  {
   "cell_type": "code",
   "execution_count": 12,
   "metadata": {},
   "outputs": [],
   "source": [
    "def create_relationship_definition(code, display_name, outward_description, inward_description):\n",
    "    try:\n",
    "        relationship_definitions_api.create_relationship_definition(\n",
    "            create_relationship_definition_request=lu.CreateRelationshipDefinitionRequest(\n",
    "                scope=scope,\n",
    "                code=code,\n",
    "                source_entity_type=\"LegalEntity\", \n",
    "                target_entity_type=\"Portfolio\", \n",
    "                display_name=display_name, \n",
    "                outward_description=outward_description, \n",
    "                inward_description=inward_description, \n",
    "                life_time=\"TimeVariant\"\n",
    "            )\n",
    "        )\n",
    "        print(f\"created relation {scope}/{code}\")\n",
    "    except lu.ApiException as e:\n",
    "        body = json.loads(e.body)\n",
    "        if body[\"code\"] != 667:  # RelationDefinitionAlreadyExists\n",
    "            print(body)\n",
    "        else:\n",
    "            print(f\"relation {scope}/{code} already exists\")"
   ]
  },
  {
   "cell_type": "code",
   "execution_count": 13,
   "metadata": {},
   "outputs": [
    {
     "name": "stdout",
     "output_type": "stream",
     "text": [
      "relation legalEntitiesNotebook/custodian already exists\n"
     ]
    }
   ],
   "source": [
    "create_relationship_definition(\"custodian\", \"Custodian link to portfolio\", \"Custodian of\", \"Portfolio in custody by\")"
   ]
  },
  {
   "cell_type": "markdown",
   "metadata": {},
   "source": [
    "Now that we have defined a relationship to a custodian, we can now set up one between our custodian BNYM and the portfolio."
   ]
  },
  {
   "cell_type": "code",
   "execution_count": 14,
   "metadata": {},
   "outputs": [],
   "source": [
    "def create_custodian_relationship(relation, id_code, id_value, to_portfolio):\n",
    "    relationships_api.create_relationship(\n",
    "        \n",
    "        # the scope/code of the RelationDefinition to be created\n",
    "        scope=scope,\n",
    "        code=relation,\n",
    "        \n",
    "        create_relationship_request=lm.CreateRelationshipRequest(\n",
    "            source_entity_id={\n",
    "                # the fields the uniquely identify the source entity\n",
    "                \"idTypeScope\": scope,\n",
    "                \"idTypeCode\": id_code,\n",
    "                \"code\": id_value\n",
    "            }, \n",
    "            target_entity_id={\n",
    "                # the fields the uniquely identify the target entity\n",
    "                \"scope\": scope,\n",
    "                \"code\": to_portfolio\n",
    "            },\n",
    "            effective_from='2022-01-01T00:00:00+00:00'\n",
    "            ),\n",
    "    )"
   ]
  },
  {
   "cell_type": "code",
   "execution_count": 15,
   "metadata": {},
   "outputs": [],
   "source": [
    "create_custodian_relationship(\"custodian\", \"Custodian\", \"BNYM\", \"legalEntitiesNotebookPortfolio\")"
   ]
  },
  {
   "cell_type": "markdown",
   "metadata": {},
   "source": [
    "We now have a custodian as a legal entity called BNYM, we have a portfolio and we have a relationship between the portfolio and the custodian legal entity. We can display this by calling the get_portfolio_relationships() endpoint of the portfolios API."
   ]
  },
  {
   "cell_type": "code",
   "execution_count": 16,
   "metadata": {},
   "outputs": [
    {
     "data": {
      "text/html": [
       "<div>\n",
       "<style scoped>\n",
       "    .dataframe tbody tr th:only-of-type {\n",
       "        vertical-align: middle;\n",
       "    }\n",
       "\n",
       "    .dataframe tbody tr th {\n",
       "        vertical-align: top;\n",
       "    }\n",
       "\n",
       "    .dataframe thead th {\n",
       "        text-align: right;\n",
       "    }\n",
       "</style>\n",
       "<table border=\"1\" class=\"dataframe\">\n",
       "  <thead>\n",
       "    <tr style=\"text-align: right;\">\n",
       "      <th></th>\n",
       "      <th>relationship_definition_id.scope</th>\n",
       "      <th>relationship_definition_id.code</th>\n",
       "      <th>related_entity.entity_type</th>\n",
       "      <th>related_entity.entity_id.idTypeScope</th>\n",
       "      <th>related_entity.entity_id.idTypeCode</th>\n",
       "      <th>related_entity.entity_id.code</th>\n",
       "      <th>related_entity.display_name</th>\n",
       "      <th>related_entity.properties</th>\n",
       "      <th>traversal_direction</th>\n",
       "      <th>traversal_description</th>\n",
       "      <th>effective_from</th>\n",
       "    </tr>\n",
       "  </thead>\n",
       "  <tbody>\n",
       "    <tr>\n",
       "      <th>0</th>\n",
       "      <td>legalEntitiesNotebook</td>\n",
       "      <td>custodian</td>\n",
       "      <td>LegalEntity</td>\n",
       "      <td>legalEntitiesNotebook</td>\n",
       "      <td>Custodian</td>\n",
       "      <td>BNYM</td>\n",
       "      <td>Custodian Bank of New York Mellon</td>\n",
       "      <td>{}</td>\n",
       "      <td>In</td>\n",
       "      <td>Portfolio in custody by</td>\n",
       "      <td>2022-01-01 00:00:00+00:00</td>\n",
       "    </tr>\n",
       "  </tbody>\n",
       "</table>\n",
       "</div>"
      ],
      "text/plain": [
       "  relationship_definition_id.scope relationship_definition_id.code  \\\n",
       "0            legalEntitiesNotebook                       custodian   \n",
       "\n",
       "  related_entity.entity_type related_entity.entity_id.idTypeScope  \\\n",
       "0                LegalEntity                legalEntitiesNotebook   \n",
       "\n",
       "  related_entity.entity_id.idTypeCode related_entity.entity_id.code  \\\n",
       "0                           Custodian                          BNYM   \n",
       "\n",
       "         related_entity.display_name related_entity.properties  \\\n",
       "0  Custodian Bank of New York Mellon                        {}   \n",
       "\n",
       "  traversal_direction    traversal_description            effective_from  \n",
       "0                  In  Portfolio in custody by 2022-01-01 00:00:00+00:00  "
      ]
     },
     "execution_count": 16,
     "metadata": {},
     "output_type": "execute_result"
    }
   ],
   "source": [
    "relationships = portfolios_api.get_portfolio_relationships(\n",
    "    scope=scope,\n",
    "    code=\"legalEntitiesNotebookPortfolio\"\n",
    ")\n",
    "\n",
    "relationships_table = lusid_response_to_data_frame(relationships)\n",
    "relationships_table"
   ]
  },
  {
   "cell_type": "markdown",
   "metadata": {},
   "source": [
    "We can make the relationship even easier to see if we just call the traversal description and the entity name of the table above. We can then see that our portfolio \"legalEntitiesNotebookPortfolio\" is a portoflio in custody by Bank of New York Mellon."
   ]
  },
  {
   "cell_type": "code",
   "execution_count": 17,
   "metadata": {},
   "outputs": [
    {
     "data": {
      "text/html": [
       "<div>\n",
       "<style scoped>\n",
       "    .dataframe tbody tr th:only-of-type {\n",
       "        vertical-align: middle;\n",
       "    }\n",
       "\n",
       "    .dataframe tbody tr th {\n",
       "        vertical-align: top;\n",
       "    }\n",
       "\n",
       "    .dataframe thead th {\n",
       "        text-align: right;\n",
       "    }\n",
       "</style>\n",
       "<table border=\"1\" class=\"dataframe\">\n",
       "  <thead>\n",
       "    <tr style=\"text-align: right;\">\n",
       "      <th></th>\n",
       "      <th>traversal_description</th>\n",
       "      <th>related_entity.display_name</th>\n",
       "    </tr>\n",
       "  </thead>\n",
       "  <tbody>\n",
       "    <tr>\n",
       "      <th>0</th>\n",
       "      <td>Portfolio in custody by</td>\n",
       "      <td>Custodian Bank of New York Mellon</td>\n",
       "    </tr>\n",
       "  </tbody>\n",
       "</table>\n",
       "</div>"
      ],
      "text/plain": [
       "     traversal_description        related_entity.display_name\n",
       "0  Portfolio in custody by  Custodian Bank of New York Mellon"
      ]
     },
     "execution_count": 17,
     "metadata": {},
     "output_type": "execute_result"
    }
   ],
   "source": [
    "relationships_table[['traversal_description', 'related_entity.display_name']]"
   ]
  }
 ],
 "metadata": {
  "interpreter": {
   "hash": "9650cb4e16cdd4a8e8e2d128bf38d875813998db22a3c986335f89e0cb4d7bb2"
  },
  "kernelspec": {
   "display_name": "Python 3.8.0 64-bit",
   "language": "python",
   "name": "python3"
  },
  "language_info": {
   "codemirror_mode": {
    "name": "ipython",
    "version": 3
   },
   "file_extension": ".py",
   "mimetype": "text/x-python",
   "name": "python",
   "nbconvert_exporter": "python",
   "pygments_lexer": "ipython3",
   "version": "3.8.0"
  },
  "orig_nbformat": 4
 },
 "nbformat": 4,
 "nbformat_minor": 2
}
