{
 "cells": [
  {
   "cell_type": "code",
   "execution_count": 76,
   "id": "eb2cd336",
   "metadata": {},
   "outputs": [
    {
     "data": {
      "text/html": [
       "<style>.container { width:90% !important; }</style>"
      ],
      "text/plain": [
       "<IPython.core.display.HTML object>"
      ]
     },
     "metadata": {},
     "output_type": "display_data"
    },
    {
     "name": "stdout",
     "output_type": "stream",
     "text": [
      "LUSID Environment Initialised\n",
      "LUSID version :  0.6.7133.0\n"
     ]
    }
   ],
   "source": [
    "import lusid\n",
    "import lusid.models as models\n",
    "from lusidjam import RefreshingToken\n",
    "\n",
    "from lusidtools.cocoon.cocoon import load_from_data_frame\n",
    "from lusidtools.cocoon.utilities import identify_cash_items\n",
    "from lusidtools.cocoon.transaction_type_upload import upsert_transaction_type_alias\n",
    "from lusidtools.pandas_utils.lusid_pandas import lusid_response_to_data_frame\n",
    "from lusidtools.cocoon.cocoon_printer import (\n",
    "    format_instruments_response,\n",
    "    format_portfolios_response,\n",
    "    format_transactions_response,\n",
    "    format_quotes_response,\n",
    "    format_holdings_response\n",
    ")\n",
    "\n",
    "# Import Libraries\n",
    "from datetime import datetime, timedelta, time\n",
    "import pytz\n",
    "import uuid\n",
    "from datetime import datetime, timezone\n",
    "import pandas as pd\n",
    "import numpy as np\n",
    "import os\n",
    "import json\n",
    "import requests\n",
    "from IPython.core.display import display, HTML\n",
    "\n",
    "# pandas config\n",
    "pd.set_option(\"display.max_rows\", None)\n",
    "pd.set_option(\"display.max_columns\", None)\n",
    "pd.set_option(\"display.max_colwidth\", None)\n",
    "\n",
    "# Authenticate our user and create our API client\n",
    "secrets_path = os.getenv(\"FBN_SECRETS_PATH\")\n",
    "\n",
    "api_factory = lusid.utilities.ApiClientFactory(\n",
    "    token=RefreshingToken(),\n",
    "    api_secrets_filename=secrets_path,\n",
    "    app_name=\"LusidJupyterNotebook\",\n",
    ")\n",
    "\n",
    "display(HTML(\"<style>.container { width:90% !important; }</style>\"))\n",
    "\n",
    "# pandas config\n",
    "pd.set_option(\"display.max_rows\", None)\n",
    "pd.set_option(\"display.max_columns\", None)\n",
    "pd.set_option(\"display.max_colwidth\", None)\n",
    "\n",
    "\n",
    "print(\"LUSID Environment Initialised\")\n",
    "print(\n",
    "    \"LUSID version : \",\n",
    "    api_factory.build(lusid.api.ApplicationMetadataApi)\n",
    "    .get_lusid_versions()\n",
    "    .build_version)"
   ]
  },
  {
   "cell_type": "code",
   "execution_count": 77,
   "id": "b828624f",
   "metadata": {},
   "outputs": [],
   "source": [
    "transaction_portfolios_api = api_factory.build(lusid.api.TransactionPortfoliosApi)\n",
    "portfolios_api = api_factory.build(lusid.api.PortfoliosApi)\n",
    "corporate_actions_sources_api = api_factory.build(lusid.api.CorporateActionSourcesApi)\n",
    "instruments_api = api_factory.build(lusid.api.InstrumentsApi)\n",
    "system_configuration_api = api_factory.build(lusid.api.SystemConfigurationApi)\n",
    "configuration_recipe_api = api_factory.build(lusid.api.ConfigurationRecipeApi)"
   ]
  },
  {
   "cell_type": "code",
   "execution_count": 78,
   "id": "f5ed5b79",
   "metadata": {},
   "outputs": [],
   "source": [
    "scope = \"TakeoverExample\"\n",
    "fund_code = \"EquityFund\""
   ]
  },
  {
   "cell_type": "code",
   "execution_count": 79,
   "id": "a5288e5c",
   "metadata": {},
   "outputs": [
    {
     "data": {
      "text/html": [
       "<div>\n",
       "<style scoped>\n",
       "    .dataframe tbody tr th:only-of-type {\n",
       "        vertical-align: middle;\n",
       "    }\n",
       "\n",
       "    .dataframe tbody tr th {\n",
       "        vertical-align: top;\n",
       "    }\n",
       "\n",
       "    .dataframe thead th {\n",
       "        text-align: right;\n",
       "    }\n",
       "</style>\n",
       "<table border=\"1\" class=\"dataframe\">\n",
       "  <thead>\n",
       "    <tr style=\"text-align: right;\">\n",
       "      <th></th>\n",
       "      <th>FIGI</th>\n",
       "      <th>Ticker</th>\n",
       "      <th>Name</th>\n",
       "    </tr>\n",
       "  </thead>\n",
       "  <tbody>\n",
       "    <tr>\n",
       "      <th>0</th>\n",
       "      <td>BBG000BMFD58</td>\n",
       "      <td>AMTD US</td>\n",
       "      <td>TD AMERITRADE HOLDING CORP</td>\n",
       "    </tr>\n",
       "    <tr>\n",
       "      <th>1</th>\n",
       "      <td>BBG000BSLZY7</td>\n",
       "      <td>SCHW US</td>\n",
       "      <td>SCHWAB (CHARLES) CORP</td>\n",
       "    </tr>\n",
       "  </tbody>\n",
       "</table>\n",
       "</div>"
      ],
      "text/plain": [
       "           FIGI   Ticker                        Name\n",
       "0  BBG000BMFD58  AMTD US  TD AMERITRADE HOLDING CORP\n",
       "1  BBG000BSLZY7  SCHW US       SCHWAB (CHARLES) CORP"
      ]
     },
     "execution_count": 79,
     "metadata": {},
     "output_type": "execute_result"
    }
   ],
   "source": [
    "instrument_master = pd.read_csv(\"data/takeover_instruments.csv\")\n",
    "instrument_master = instrument_master\n",
    "instrument_master"
   ]
  },
  {
   "cell_type": "code",
   "execution_count": 80,
   "id": "e0f83453",
   "metadata": {},
   "outputs": [
    {
     "data": {
      "text/html": [
       "<div>\n",
       "<style scoped>\n",
       "    .dataframe tbody tr th:only-of-type {\n",
       "        vertical-align: middle;\n",
       "    }\n",
       "\n",
       "    .dataframe tbody tr th {\n",
       "        vertical-align: top;\n",
       "    }\n",
       "\n",
       "    .dataframe thead th {\n",
       "        text-align: right;\n",
       "    }\n",
       "</style>\n",
       "<table border=\"1\" class=\"dataframe\">\n",
       "  <thead>\n",
       "    <tr style=\"text-align: right;\">\n",
       "      <th></th>\n",
       "      <th>success</th>\n",
       "      <th>failed</th>\n",
       "      <th>errors</th>\n",
       "    </tr>\n",
       "  </thead>\n",
       "  <tbody>\n",
       "    <tr>\n",
       "      <th>0</th>\n",
       "      <td>2</td>\n",
       "      <td>0</td>\n",
       "      <td>0</td>\n",
       "    </tr>\n",
       "  </tbody>\n",
       "</table>\n",
       "</div>"
      ],
      "text/plain": [
       "   success  failed  errors\n",
       "0        2       0       0"
      ]
     },
     "execution_count": 80,
     "metadata": {},
     "output_type": "execute_result"
    }
   ],
   "source": [
    "# Load the instrument into LUSID\n",
    "\n",
    "instrument_identifier_mapping = {\n",
    "    \"Figi\": \"FIGI\",\n",
    "    \"ClientInternal\": \"Ticker\",\n",
    "}\n",
    "\n",
    "instrument_mapping_required = {\"name\": \"Name\"}\n",
    "instrument_mapping_optional = {}\n",
    "\n",
    "responses = load_from_data_frame(\n",
    "    api_factory=api_factory,\n",
    "    scope=scope,\n",
    "    data_frame=instrument_master,\n",
    "    mapping_required=instrument_mapping_required,\n",
    "    mapping_optional=instrument_mapping_optional,\n",
    "    file_type=\"instrument\",\n",
    "    identifier_mapping=instrument_identifier_mapping,\n",
    ")\n",
    "\n",
    "succ, failed, errors = format_instruments_response(responses)\n",
    "pd.DataFrame(\n",
    "    data=[{\"success\": len(succ), \"failed\": len(failed), \"errors\": len(errors)}]\n",
    ")"
   ]
  },
  {
   "cell_type": "code",
   "execution_count": 81,
   "id": "f58400e1",
   "metadata": {},
   "outputs": [
    {
     "data": {
      "text/html": [
       "<div>\n",
       "<style scoped>\n",
       "    .dataframe tbody tr th:only-of-type {\n",
       "        vertical-align: middle;\n",
       "    }\n",
       "\n",
       "    .dataframe tbody tr th {\n",
       "        vertical-align: top;\n",
       "    }\n",
       "\n",
       "    .dataframe thead th {\n",
       "        text-align: right;\n",
       "    }\n",
       "</style>\n",
       "<table border=\"1\" class=\"dataframe\">\n",
       "  <thead>\n",
       "    <tr style=\"text-align: right;\">\n",
       "      <th></th>\n",
       "      <th>success</th>\n",
       "      <th>failed</th>\n",
       "    </tr>\n",
       "  </thead>\n",
       "  <tbody>\n",
       "    <tr>\n",
       "      <th>0</th>\n",
       "      <td>1</td>\n",
       "      <td>0</td>\n",
       "    </tr>\n",
       "  </tbody>\n",
       "</table>\n",
       "</div>"
      ],
      "text/plain": [
       "   success  failed\n",
       "0        1       0"
      ]
     },
     "metadata": {},
     "output_type": "display_data"
    }
   ],
   "source": [
    "# Create the portfolio\n",
    "pf_df = pd.DataFrame(\n",
    "    [{\"code\": fund_code, \"currency\": \"USD\", \"name\": fund_code,}]\n",
    ")\n",
    "\n",
    "portfolio_mapping = {\n",
    "    \"required\": {\"code\": \"code\", \"display_name\": \"name\", \"base_currency\": \"currency\",},\n",
    "    \"optional\": {\"created\": \"$2019-01-01T00:00:00+00:00\"},\n",
    "}\n",
    "\n",
    "result = load_from_data_frame(\n",
    "    api_factory=api_factory,\n",
    "    scope=scope,\n",
    "    data_frame=pf_df,\n",
    "    mapping_required=portfolio_mapping[\"required\"],\n",
    "    mapping_optional=portfolio_mapping[\"optional\"],\n",
    "    file_type=\"portfolios\",\n",
    ")\n",
    "\n",
    "succ, failed = format_portfolios_response(result)\n",
    "display(pd.DataFrame(data=[{\"success\": len(succ), \"failed\": len(failed)}]))"
   ]
  },
  {
   "cell_type": "code",
   "execution_count": 82,
   "id": "6a3fbe95",
   "metadata": {
    "scrolled": true
   },
   "outputs": [
    {
     "data": {
      "text/html": [
       "<div>\n",
       "<style scoped>\n",
       "    .dataframe tbody tr th:only-of-type {\n",
       "        vertical-align: middle;\n",
       "    }\n",
       "\n",
       "    .dataframe tbody tr th {\n",
       "        vertical-align: top;\n",
       "    }\n",
       "\n",
       "    .dataframe thead th {\n",
       "        text-align: right;\n",
       "    }\n",
       "</style>\n",
       "<table border=\"1\" class=\"dataframe\">\n",
       "  <thead>\n",
       "    <tr style=\"text-align: right;\">\n",
       "      <th></th>\n",
       "      <th>portfolio_code</th>\n",
       "      <th>transaction_id</th>\n",
       "      <th>figi</th>\n",
       "      <th>ticker</th>\n",
       "      <th>name</th>\n",
       "      <th>transaction_type</th>\n",
       "      <th>transaction_date</th>\n",
       "      <th>settlement_date</th>\n",
       "      <th>transaction_units</th>\n",
       "      <th>transaction_price</th>\n",
       "      <th>total_consideration</th>\n",
       "      <th>transaction_currency</th>\n",
       "    </tr>\n",
       "  </thead>\n",
       "  <tbody>\n",
       "    <tr>\n",
       "      <th>0</th>\n",
       "      <td>EquityFund</td>\n",
       "      <td>TX001</td>\n",
       "      <td>BBG000BMFD58</td>\n",
       "      <td>AMTD US</td>\n",
       "      <td>TD AMERITRADE HOLDING CORP</td>\n",
       "      <td>StockIn</td>\n",
       "      <td>10/10/2019</td>\n",
       "      <td>11/10/2019</td>\n",
       "      <td>35000</td>\n",
       "      <td>34.49</td>\n",
       "      <td>1,207,150.00</td>\n",
       "      <td>USD</td>\n",
       "    </tr>\n",
       "  </tbody>\n",
       "</table>\n",
       "</div>"
      ],
      "text/plain": [
       "  portfolio_code transaction_id          figi   ticker  \\\n",
       "0     EquityFund          TX001  BBG000BMFD58  AMTD US   \n",
       "\n",
       "                         name transaction_type transaction_date  \\\n",
       "0  TD AMERITRADE HOLDING CORP          StockIn       10/10/2019   \n",
       "\n",
       "  settlement_date  transaction_units  transaction_price total_consideration  \\\n",
       "0      11/10/2019              35000              34.49        1,207,150.00   \n",
       "\n",
       "  transaction_currency  \n",
       "0                  USD  "
      ]
     },
     "execution_count": 82,
     "metadata": {},
     "output_type": "execute_result"
    }
   ],
   "source": [
    "# upsert transactions\n",
    "transactions = pd.read_csv(\"data/takeover_transactions.csv\")\n",
    "transactions"
   ]
  },
  {
   "cell_type": "code",
   "execution_count": 83,
   "id": "7d5bf2cf",
   "metadata": {},
   "outputs": [],
   "source": [
    "# map the transactions file\n",
    "\n",
    "transaction_field_mapping_required = {\n",
    "    \"code\": \"portfolio_code\",\n",
    "    \"transaction_id\": \"transaction_id\",\n",
    "    \"type\": \"transaction_type\",\n",
    "    \"transaction_date\": \"transaction_date\",\n",
    "    \"settlement_date\": \"settlement_date\",\n",
    "    \"units\": \"transaction_units\",\n",
    "    \"transaction_price.price\": \"transaction_price\",\n",
    "    \"transaction_price.type\": \"$Price\",\n",
    "    \"total_consideration.amount\": \"total_consideration\",\n",
    "    \"total_consideration.currency\": \"transaction_currency\",\n",
    "    \"transaction_currency\": \"transaction_currency\",\n",
    "}\n",
    "\n",
    "\n",
    "transaction_identifier_mapping = {\n",
    "    \"Figi\": \"figi\",\n",
    "    \"ClientInternal\": \"ticker\",\n",
    "}\n",
    "\n"
   ]
  },
  {
   "cell_type": "code",
   "execution_count": 84,
   "id": "478b7ee8",
   "metadata": {},
   "outputs": [
    {
     "data": {
      "text/html": [
       "<div>\n",
       "<style scoped>\n",
       "    .dataframe tbody tr th:only-of-type {\n",
       "        vertical-align: middle;\n",
       "    }\n",
       "\n",
       "    .dataframe tbody tr th {\n",
       "        vertical-align: top;\n",
       "    }\n",
       "\n",
       "    .dataframe thead th {\n",
       "        text-align: right;\n",
       "    }\n",
       "</style>\n",
       "<table border=\"1\" class=\"dataframe\">\n",
       "  <thead>\n",
       "    <tr style=\"text-align: right;\">\n",
       "      <th></th>\n",
       "      <th>success</th>\n",
       "      <th>failed</th>\n",
       "    </tr>\n",
       "  </thead>\n",
       "  <tbody>\n",
       "    <tr>\n",
       "      <th>0</th>\n",
       "      <td>1</td>\n",
       "      <td>0</td>\n",
       "    </tr>\n",
       "  </tbody>\n",
       "</table>\n",
       "</div>"
      ],
      "text/plain": [
       "   success  failed\n",
       "0        1       0"
      ]
     },
     "metadata": {},
     "output_type": "display_data"
    }
   ],
   "source": [
    "responses = load_from_data_frame(\n",
    "    api_factory=api_factory,\n",
    "    scope=scope,\n",
    "    data_frame=transactions,\n",
    "    mapping_required=transaction_field_mapping_required,\n",
    "    mapping_optional={},\n",
    "    identifier_mapping=transaction_identifier_mapping,\n",
    "    file_type=\"transaction\",\n",
    ")\n",
    "\n",
    "succ, failed = format_transactions_response(responses)\n",
    "display(pd.DataFrame(data=[{\"success\": len(succ), \"failed\": len(failed)}]))"
   ]
  },
  {
   "cell_type": "code",
   "execution_count": 85,
   "id": "ae1c4e16",
   "metadata": {},
   "outputs": [],
   "source": [
    "# Define details for the corporate action.\n",
    "instrument_name = \"TD AMERITRADE HOLDING CORP\"\n",
    "instrument_original_figi = \"BBG000BMFD58\"\n",
    "instrument_updated_figi = \"BBG000BSLZY7\"\n",
    "effective_at_date = datetime(2020, 10, 6, tzinfo=pytz.utc)\n",
    "corporate_action_source_code = \"takeover-example-source\"\n",
    "corporate_action_code = \"takeover-corporate-action\""
   ]
  },
  {
   "cell_type": "code",
   "execution_count": 86,
   "id": "26ff7455",
   "metadata": {},
   "outputs": [
    {
     "name": "stdout",
     "output_type": "stream",
     "text": [
      "Already exists\n"
     ]
    }
   ],
   "source": [
    "# Create a corporate actions source.\n",
    "corporate_action_source = models.CreateCorporateActionSourceRequest(\n",
    "            scope=scope,\n",
    "            code=corporate_action_source_code,\n",
    "            display_name=corporate_action_source_code,\n",
    "            description=\"Takeover Example Corporate Actions Source\",\n",
    "        )\n",
    "\n",
    "try: \n",
    "    corporate_actions_sources_api.create_corporate_action_source(\n",
    "            create_corporate_action_source_request=corporate_action_source\n",
    "        )\n",
    "except: \n",
    "    print(\"Already exists\")"
   ]
  },
  {
   "cell_type": "code",
   "execution_count": 87,
   "id": "f7cd1c62",
   "metadata": {},
   "outputs": [
    {
     "data": {
      "text/plain": [
       "{'base_currency': 'USD',\n",
       " 'corporate_action_source_id': {'code': 'takeover-example-source',\n",
       "                                'scope': 'TakeoverExample'},\n",
       " 'href': 'https://lorenzdec.lusid.com/api/api/transactionportfolios/TakeoverExample/EquityFund/details?effectiveAt=2019-01-01T00%3A00%3A00.0000000%2B00%3A00&asAt=2021-06-01T14%3A49%3A47.5708740%2B00%3A00',\n",
       " 'links': [{'description': None,\n",
       "            'href': 'https://lorenzdec.lusid.com/api/api/portfolios/TakeoverExample/EquityFund?effectiveAt=2019-01-01T00%3A00%3A00.0000000%2B00%3A00&asAt=2021-06-01T14%3A49%3A47.5708740%2B00%3A00',\n",
       "            'method': 'GET',\n",
       "            'relation': 'Root'},\n",
       "           {'description': 'A link to the LUSID Insights website showing all '\n",
       "                           'logs related to this request',\n",
       "            'href': 'http://lorenzdec.lusid.com/app/insights/logs/0HM94R4S1P06K:00000001',\n",
       "            'method': 'GET',\n",
       "            'relation': 'RequestLogs'}],\n",
       " 'origin_portfolio_id': {'code': 'EquityFund', 'scope': 'TakeoverExample'},\n",
       " 'sub_holding_keys': [],\n",
       " 'version': {'as_at_date': datetime.datetime(2021, 6, 1, 14, 49, 47, 570874, tzinfo=tzlocal()),\n",
       "             'effective_from': datetime.datetime(2019, 1, 1, 0, 0, tzinfo=tzlocal())}}"
      ]
     },
     "execution_count": 87,
     "metadata": {},
     "output_type": "execute_result"
    }
   ],
   "source": [
    "# Apply the corporate actions source to the transaction portfolio.\n",
    "transaction_portfolios_api.upsert_portfolio_details(\n",
    "    scope=scope,\n",
    "        code=fund_code,\n",
    "        effective_at=effective_at_date,\n",
    "        create_portfolio_details=models.CreatePortfolioDetails(\n",
    "            corporate_action_source_id=models.ResourceId(\n",
    "                scope=scope,\n",
    "                code=corporate_action_source_code,\n",
    "            )\n",
    "        ),\n",
    ")"
   ]
  },
  {
   "cell_type": "code",
   "execution_count": 88,
   "id": "bd6567d4",
   "metadata": {},
   "outputs": [],
   "source": [
    "# Create a transition which applies to the original instrument above\n",
    "transition_in = models.CorporateActionTransitionComponentRequest(\n",
    "    instrument_identifiers={\n",
    "        \"Instrument/default/Figi\": instrument_original_figi\n",
    "    },\n",
    "    cost_factor=1,\n",
    "    units_factor=1,\n",
    ")\n",
    "\n",
    "# and has the effect of changing its FIGI to the updated FIGI and shares\n",
    "rename_figi_transition = models.CorporateActionTransitionComponentRequest(\n",
    "    instrument_identifiers={\n",
    "        \"Instrument/default/Figi\": instrument_updated_figi\n",
    "    },\n",
    "    cost_factor=1,\n",
    "    units_factor=1.0837,\n",
    ")\n",
    "\n",
    "#   while zeroing the original instrument's position.\n",
    "zero_previous_position_transition = (\n",
    "    models.CorporateActionTransitionComponentRequest(\n",
    "        instrument_identifiers={\n",
    "            \"Instrument/default/Figi\": instrument_original_figi\n",
    "        },\n",
    "        cost_factor=0,\n",
    "        units_factor=0,\n",
    "    )\n",
    ")\n",
    "\n",
    "# The effect of the corporate action is the transition which\n",
    "# combines the input transition and the output transitions.\n",
    "transition = models.CorporateActionTransitionRequest(\n",
    "    input_transition=transition_in,\n",
    "    output_transitions=[\n",
    "        rename_figi_transition,\n",
    "        zero_previous_position_transition,\n",
    "    ],\n",
    ")\n",
    "\n",
    "# Create a request to upsert a corporate action with the transition above.\n",
    "corporate_action_request = models.UpsertCorporateActionRequest(\n",
    "    corporate_action_code=corporate_action_code,\n",
    "    announcement_date=effective_at_date,\n",
    "    ex_date=effective_at_date,\n",
    "    record_date=effective_at_date,\n",
    "    payment_date=effective_at_date,\n",
    "    transitions=[transition],\n",
    ")"
   ]
  },
  {
   "cell_type": "code",
   "execution_count": 89,
   "id": "e02ac431",
   "metadata": {},
   "outputs": [],
   "source": [
    "# Make the request through the CorporateActionSourcesApi.\n",
    "upsert_corp_act_response = corporate_actions_sources_api.batch_upsert_corporate_actions(\n",
    "    scope=scope,\n",
    "    code=corporate_action_source_code,\n",
    "    upsert_corporate_action_request=[corporate_action_request],\n",
    ")"
   ]
  },
  {
   "cell_type": "markdown",
   "id": "61a5d00e",
   "metadata": {},
   "source": [
    "# Quotes"
   ]
  },
  {
   "cell_type": "code",
   "execution_count": 90,
   "id": "daa6a622",
   "metadata": {},
   "outputs": [
    {
     "data": {
      "text/html": [
       "<div>\n",
       "<style scoped>\n",
       "    .dataframe tbody tr th:only-of-type {\n",
       "        vertical-align: middle;\n",
       "    }\n",
       "\n",
       "    .dataframe tbody tr th {\n",
       "        vertical-align: top;\n",
       "    }\n",
       "\n",
       "    .dataframe thead th {\n",
       "        text-align: right;\n",
       "    }\n",
       "</style>\n",
       "<table border=\"1\" class=\"dataframe\">\n",
       "  <thead>\n",
       "    <tr style=\"text-align: right;\">\n",
       "      <th></th>\n",
       "      <th>date</th>\n",
       "      <th>figi</th>\n",
       "      <th>close_price</th>\n",
       "      <th>currency</th>\n",
       "    </tr>\n",
       "  </thead>\n",
       "  <tbody>\n",
       "    <tr>\n",
       "      <th>0</th>\n",
       "      <td>10/10/2019</td>\n",
       "      <td>BBG000BMFD58</td>\n",
       "      <td>34.49</td>\n",
       "      <td>USD</td>\n",
       "    </tr>\n",
       "  </tbody>\n",
       "</table>\n",
       "</div>"
      ],
      "text/plain": [
       "         date          figi  close_price currency\n",
       "0  10/10/2019  BBG000BMFD58        34.49      USD"
      ]
     },
     "execution_count": 90,
     "metadata": {},
     "output_type": "execute_result"
    }
   ],
   "source": [
    "quotes_df = pd.read_csv(\"data/takeover_quotes.csv\")\n",
    "quotes_df.head(1)"
   ]
  },
  {
   "cell_type": "code",
   "execution_count": 91,
   "id": "7934f598",
   "metadata": {},
   "outputs": [],
   "source": [
    "quotes_mapping = {\n",
    "    \"quote_id.quote_series_id.instrument_id_type\": \"$Figi\",\n",
    "    \"quote_id.effective_at\": \"date\",\n",
    "    \"quote_id.quote_series_id.provider\": \"$Lusid\",\n",
    "    \"quote_id.quote_series_id.quote_type\": \"$Price\",\n",
    "    \"quote_id.quote_series_id.instrument_id\": \"figi\",\n",
    "    \"metric_value.unit\": \"currency\",\n",
    "    \"quote_id.quote_series_id.field\": \"$mid\",\n",
    "    \"metric_value.value\": \"close_price\",\n",
    "}"
   ]
  },
  {
   "cell_type": "code",
   "execution_count": 92,
   "id": "1a8d93d6",
   "metadata": {},
   "outputs": [
    {
     "data": {
      "text/html": [
       "<div>\n",
       "<style scoped>\n",
       "    .dataframe tbody tr th:only-of-type {\n",
       "        vertical-align: middle;\n",
       "    }\n",
       "\n",
       "    .dataframe tbody tr th {\n",
       "        vertical-align: top;\n",
       "    }\n",
       "\n",
       "    .dataframe thead th {\n",
       "        text-align: right;\n",
       "    }\n",
       "</style>\n",
       "<table border=\"1\" class=\"dataframe\">\n",
       "  <thead>\n",
       "    <tr style=\"text-align: right;\">\n",
       "      <th></th>\n",
       "      <th>success</th>\n",
       "      <th>failed</th>\n",
       "      <th>errors</th>\n",
       "    </tr>\n",
       "  </thead>\n",
       "  <tbody>\n",
       "    <tr>\n",
       "      <th>0</th>\n",
       "      <td>411</td>\n",
       "      <td>0</td>\n",
       "      <td>0</td>\n",
       "    </tr>\n",
       "  </tbody>\n",
       "</table>\n",
       "</div>"
      ],
      "text/plain": [
       "   success  failed  errors\n",
       "0      411       0       0"
      ]
     },
     "metadata": {},
     "output_type": "display_data"
    }
   ],
   "source": [
    "result = load_from_data_frame(\n",
    "    api_factory=api_factory,\n",
    "    scope=\"ExampleQuotes\",\n",
    "    data_frame=quotes_df,\n",
    "    mapping_required=quotes_mapping,\n",
    "    mapping_optional={},\n",
    "    file_type=\"quotes\",\n",
    ")\n",
    "\n",
    "succ, failed, errors = format_quotes_response(result)\n",
    "display(\n",
    "    pd.DataFrame(\n",
    "        data=[{\"success\": len(succ), \"failed\": len(failed), \"errors\": len(errors)}]\n",
    "    )\n",
    ")"
   ]
  },
  {
   "cell_type": "code",
   "execution_count": 93,
   "id": "6caffe9f",
   "metadata": {},
   "outputs": [
    {
     "name": "stdout",
     "output_type": "stream",
     "text": [
      "Uploaded recipe: TakeOverRecipe\n"
     ]
    }
   ],
   "source": [
    "# Create a recipe to perform a valuation\n",
    "\n",
    "data_scope = \"ExampleQuotes\"\n",
    "recipe_code = \"TakeOverRecipe\"\n",
    "\n",
    "configuration_recipe = models.ConfigurationRecipe(\n",
    "        scope=\"ExampleRecipe\",\n",
    "        code=\"TakeOverRecipe\",\n",
    "        market=models.MarketContext(\n",
    "            market_rules=[\n",
    "                models.MarketDataKeyRule(\n",
    "                    key=\"Equity.Figi.*\",\n",
    "                    supplier=\"Lusid\",\n",
    "                    data_scope=data_scope,\n",
    "                    quote_type=\"Price\",\n",
    "                    field=\"mid\",\n",
    "                ),\n",
    "            ],\n",
    "            suppliers=models.MarketContextSuppliers(\n",
    "                commodity=\"Lusid\",\n",
    "                credit=\"Lusid\",\n",
    "                equity=\"Lusid\",\n",
    "                fx=\"Lusid\",\n",
    "                rates=\"Lusid\",\n",
    "            ),\n",
    "            options=models.MarketOptions(\n",
    "                default_supplier=\"Lusid\",\n",
    "                default_instrument_code_type=\"Figi\",\n",
    "                default_scope=scope,\n",
    "                attempt_to_infer_missing_fx=True,\n",
    "            ),\n",
    "        ),\n",
    "    )\n",
    "\n",
    "upsert_configuration_recipe_response = configuration_recipe_api.upsert_configuration_recipe(\n",
    "    upsert_recipe_request=models.UpsertRecipeRequest(\n",
    "        configuration_recipe=configuration_recipe\n",
    "    )\n",
    ")\n",
    "\n",
    "print(f\"Uploaded recipe: {recipe_code}\")"
   ]
  }
 ],
 "metadata": {
  "kernelspec": {
   "display_name": "Python 3",
   "language": "python",
   "name": "python3"
  },
  "language_info": {
   "codemirror_mode": {
    "name": "ipython",
    "version": 3
   },
   "file_extension": ".py",
   "mimetype": "text/x-python",
   "name": "python",
   "nbconvert_exporter": "python",
   "pygments_lexer": "ipython3",
   "version": "3.7.3"
  }
 },
 "nbformat": 4,
 "nbformat_minor": 5
}
