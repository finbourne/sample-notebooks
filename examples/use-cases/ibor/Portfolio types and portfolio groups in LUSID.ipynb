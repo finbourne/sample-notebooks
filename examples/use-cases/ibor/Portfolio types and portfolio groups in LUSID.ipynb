{
 "cells": [
  {
   "cell_type": "code",
   "execution_count": 1,
   "source": [
    "\"\"\"Portfolios and Portfolio Groups\r\n",
    "\r\n",
    "Demonstrates how to do various operations with portfolios and portfolio groups.\r\n",
    "Attributes\r\n",
    "----------\r\n",
    "transactions\r\n",
    "portfolios\r\n",
    "portfolio groups\r\n",
    "corporate actions\r\n",
    "commands\r\n",
    "\"\"\""
   ],
   "outputs": [
    {
     "output_type": "execute_result",
     "data": {
      "text/plain": [
       "'Portfolios and Portfolio Groups\\n\\nDemonstrates how to do various operations with portfolios and portfolio groups.\\nAttributes\\n----------\\ntransactions\\nportfolios\\nportfolio groups\\ncorporate actions\\ncommands\\n'"
      ]
     },
     "metadata": {},
     "execution_count": 1
    }
   ],
   "metadata": {
    "pycharm": {
     "name": "#%%\n"
    }
   }
  },
  {
   "cell_type": "markdown",
   "source": [
    "## Portfolios and Portfolio Groups"
   ],
   "metadata": {}
  },
  {
   "cell_type": "markdown",
   "source": [
    "Portfolios in LUSID are used to contain transactions, and come in multiple forms based on hierarchy and use case. The basic portfolio types are :\n",
    "- Transaction Portfolios\n",
    "- Reference Portfolios\n",
    "- Derived Portfolios\n",
    "\n",
    "[LUSID Knowledge Base: Portfolios](https://support.lusid.com/what-is-2)\n",
    "\n",
    "These portfolios can then be grouped, where portfolio operations on the group are applied to an aggregated set of portfolios in the hierarchy. \n",
    "\n",
    "[LUSID Knowledge Base: Portfolio Groups](https://support.lusid.com/how-do-you-group-and-aggregate-portfolios)\n",
    "\n",
    "This example will show how to :\n",
    "1. Create Transactions Portfolios\n",
    "2. Create Derived Portfolios\n",
    "3. Portfolio Details\n",
    "    - 3.1. Get Details\n",
    "    - 3.2. Add/Modify Details\n",
    "    - 3.3. Delete Details\n",
    "4. Create Portfolio Groups\n",
    "5. Add Portfolios to a Group\n",
    "6. Get Portfolio Group Details\n",
    "7. Add a Group to a Group (Creation of Subgroups)\n",
    "8. Modify Groups\n",
    "9. Get Full Expansion of Group\n",
    "10. Remove Portfolios and Subgroups from Groups\n",
    "11. Delete Groups\n",
    "12. Get Group Commands\n",
    "13. List Groups in Scope\n",
    "14. List Portfolios in Scope\n",
    "15. Delete Portfolios"
   ],
   "metadata": {}
  },
  {
   "cell_type": "markdown",
   "source": [
    "Initialise our environment and connect to LUSID\n",
    "\n",
    "*Run the cell below to initialise the environment*"
   ],
   "metadata": {}
  },
  {
   "cell_type": "code",
   "execution_count": 2,
   "source": [
    "# Import LUSID\r\n",
    "import lusid\r\n",
    "import lusid.models as models\r\n",
    "import lusid_sample_data as import_data\r\n",
    "from lusidtools.cocoon.utilities import create_scope_id\r\n",
    "from lusidjam import RefreshingToken\r\n",
    "\r\n",
    "# Import Libraries\r\n",
    "import pprint\r\n",
    "from datetime import datetime, timedelta, time\r\n",
    "import pytz\r\n",
    "import printer as prettyprint\r\n",
    "from datetime import datetime\r\n",
    "import pandas as pd\r\n",
    "import numpy as np\r\n",
    "import os\r\n",
    "\r\n",
    "# Authenticate our user and create our API client\r\n",
    "secrets_path = os.getenv(\"FBN_SECRETS_PATH\")\r\n",
    "\r\n",
    "api_factory = lusid.utilities.ApiClientFactory(\r\n",
    "    token=RefreshingToken(),\r\n",
    "    api_secrets_filename = secrets_path,\r\n",
    "    app_name=\"LusidJupyterNotebook\")\r\n",
    "\r\n",
    "print('LUSID Environment Initialised')\r\n",
    "print('LUSID version : ', api_factory.build(lusid.api.ApplicationMetadataApi).get_lusid_versions().build_version)"
   ],
   "outputs": [
    {
     "output_type": "stream",
     "name": "stdout",
     "text": [
      "LUSID Environment Initialised\n",
      "LUSID version :  0.6.4789.0\n"
     ]
    }
   ],
   "metadata": {}
  },
  {
   "cell_type": "markdown",
   "source": [
    "First we start by loading some default portfolios, we will put them in two different scopes to demonstrate the separation between scopes and the usage of different scopes within portfolio groups.\n",
    "\n",
    "- Note: In order to demonstrate the deletion more clearly at then end of this example, run the portfolio creation more than once, and the derived portfolio creation 2-3 times as well, this will create a population of unnecessary portfolios that can be safely removed without affecting the portfolios of interest. It is not necessary to do this, the deletion example still works with a single set of portfolios"
   ],
   "metadata": {}
  },
  {
   "cell_type": "markdown",
   "source": [
    "### Initial Setup\n",
    "*Run the cell below to load a csv of portfolio names*"
   ],
   "metadata": {}
  },
  {
   "cell_type": "code",
   "execution_count": 3,
   "source": [
    "# Use pandas to read a csv containing the information needed to create some portfolios\r\n",
    "df = pd.read_csv(\"data/dummy_portfolios_names.csv\")\r\n",
    "df.head()"
   ],
   "outputs": [
    {
     "output_type": "execute_result",
     "data": {
      "text/html": [
       "<div>\n",
       "<style scoped>\n",
       "    .dataframe tbody tr th:only-of-type {\n",
       "        vertical-align: middle;\n",
       "    }\n",
       "\n",
       "    .dataframe tbody tr th {\n",
       "        vertical-align: top;\n",
       "    }\n",
       "\n",
       "    .dataframe thead th {\n",
       "        text-align: right;\n",
       "    }\n",
       "</style>\n",
       "<table border=\"1\" class=\"dataframe\">\n",
       "  <thead>\n",
       "    <tr style=\"text-align: right;\">\n",
       "      <th></th>\n",
       "      <th>display_name</th>\n",
       "      <th>base_currency</th>\n",
       "    </tr>\n",
       "  </thead>\n",
       "  <tbody>\n",
       "    <tr>\n",
       "      <th>0</th>\n",
       "      <td>portfolio-A</td>\n",
       "      <td>GBP</td>\n",
       "    </tr>\n",
       "    <tr>\n",
       "      <th>1</th>\n",
       "      <td>portfolio-B</td>\n",
       "      <td>GBP</td>\n",
       "    </tr>\n",
       "    <tr>\n",
       "      <th>2</th>\n",
       "      <td>portfolio-C</td>\n",
       "      <td>GBP</td>\n",
       "    </tr>\n",
       "    <tr>\n",
       "      <th>3</th>\n",
       "      <td>portfolio-D</td>\n",
       "      <td>GBP</td>\n",
       "    </tr>\n",
       "    <tr>\n",
       "      <th>4</th>\n",
       "      <td>portfolio-E</td>\n",
       "      <td>GBP</td>\n",
       "    </tr>\n",
       "  </tbody>\n",
       "</table>\n",
       "</div>"
      ],
      "text/plain": [
       "  display_name base_currency\n",
       "0  portfolio-A           GBP\n",
       "1  portfolio-B           GBP\n",
       "2  portfolio-C           GBP\n",
       "3  portfolio-D           GBP\n",
       "4  portfolio-E           GBP"
      ]
     },
     "metadata": {},
     "execution_count": 3
    }
   ],
   "metadata": {}
  },
  {
   "cell_type": "code",
   "execution_count": 4,
   "source": [
    "# Create Two Scopes\r\n",
    "scope1 = f'portfolio_demo_{create_scope_id()}'\r\n",
    "scope2 = f'portfolio_demo_xyz_{create_scope_id()}'\r\n",
    "print(\"Scope1 : \", scope1)\r\n",
    "print(\"Scope2 : \", scope2)"
   ],
   "outputs": [
    {
     "output_type": "stream",
     "name": "stdout",
     "text": [
      "Scope1 :  portfolio_demo_38a5-0a6e-84e1-90\n",
      "Scope2 :  portfolio_demo_xyz_38a5-0a6e-84e1-90\n"
     ]
    }
   ],
   "metadata": {}
  },
  {
   "cell_type": "markdown",
   "source": [
    "The cell below contains a number of helper functions used throughout this notebook - these are not necessary for any of the methods demonstrated, but simplify the readability and usability of this module"
   ],
   "metadata": {}
  },
  {
   "cell_type": "code",
   "execution_count": 5,
   "source": [
    "# The following function extracts resource ids from a list of portfolios\r\n",
    "def get_resource_ids_from_response(responses):\r\n",
    "    resource_id_list = []\r\n",
    "    for portfolio in responses:\r\n",
    "        resource_id_list.append(portfolio.id)\r\n",
    "    return resource_id_list"
   ],
   "outputs": [],
   "metadata": {}
  },
  {
   "cell_type": "markdown",
   "source": [
    "## 1. Create Transactions Portfolios\n",
    "We begin by upserting the csv data into LUSID in the form of new transaction portfolios\n",
    "\n",
    "*Run the cell below to create portfolios and print their information*"
   ],
   "metadata": {}
  },
  {
   "cell_type": "code",
   "execution_count": 6,
   "source": [
    "# Create our portfolios from the loaded CSV data\r\n",
    "effective_date = datetime(2018, 1, 1, tzinfo=pytz.utc).isoformat()\r\n",
    "created_portfolios = []\r\n",
    "for index, row in df.iterrows():\r\n",
    "    print(\"Creating portfolio \", index)\r\n",
    "    # Select the scope for each portfolio based on currency, for demonstration purposes we will\r\n",
    "    # split GBP based portfolios into scope 1 and USD based portfolios into scope 2\r\n",
    "    if row['base_currency'] == 'USD':\r\n",
    "        portfolio_scope = scope2\r\n",
    "    else:\r\n",
    "        portfolio_scope = scope1\r\n",
    "    # Next we create a request for the portfolio\r\n",
    "    request = models.CreateTransactionPortfolioRequest(\r\n",
    "        code=row['display_name'],\r\n",
    "        display_name=row['display_name'],\r\n",
    "        base_currency=row['base_currency'],\r\n",
    "        created=effective_date,\r\n",
    "        description=None,\r\n",
    "        corporate_action_source_id=None,\r\n",
    "        accounting_method=None,\r\n",
    "        sub_holding_keys=None,\r\n",
    "        properties=None)\r\n",
    "    # And finally we can upsert the portfolio creation request to LUSID\r\n",
    "    result = api_factory.build(lusid.api.TransactionPortfoliosApi).create_portfolio(\r\n",
    "        scope=portfolio_scope,\r\n",
    "        create_transaction_portfolio_request=request)\r\n",
    "    # Save the portfolio to a list for easy access later on\r\n",
    "    created_portfolios.append(result)\r\n",
    "    print('...')\r\n",
    "\r\n",
    "# we can now prettyprint all our portfolio responses to see the info on each new portfolio\r\n",
    "for portfolio in created_portfolios:\r\n",
    "    prettyprint.portfolio_response(portfolio)"
   ],
   "outputs": [
    {
     "output_type": "stream",
     "name": "stdout",
     "text": [
      "Creating portfolio  0\n",
      "...\n",
      "Creating portfolio  1\n",
      "...\n",
      "Creating portfolio  2\n",
      "...\n",
      "Creating portfolio  3\n",
      "...\n",
      "Creating portfolio  4\n",
      "...\n",
      "Creating portfolio  5\n",
      "...\n",
      "Creating portfolio  6\n",
      "...\n",
      "Creating portfolio  7\n",
      "...\n",
      "\u001b[1mPortfolio Created\u001b[0m\n",
      "\u001b[1mScope: \u001b[0mportfolio_demo_38a5-0a6e-84e1-90\n",
      "\u001b[1mCode: \u001b[0mportfolio-A-0d361b51-ffb8-4e9c-98b9-97f4afe07e08\n",
      "\u001b[1mPortfolio Effective From: \u001b[0m2018-01-01 00:00:00+00:00\n",
      "\u001b[1mPortfolio Created On: \u001b[0m2020-07-10 18:38:11.530048+00:00\n",
      "\n",
      "\u001b[1mPortfolio Created\u001b[0m\n",
      "\u001b[1mScope: \u001b[0mportfolio_demo_38a5-0a6e-84e1-90\n",
      "\u001b[1mCode: \u001b[0mportfolio-B-48505cdd-a70e-4335-98e8-9aa53beeda19\n",
      "\u001b[1mPortfolio Effective From: \u001b[0m2018-01-01 00:00:00+00:00\n",
      "\u001b[1mPortfolio Created On: \u001b[0m2020-07-10 18:38:12.270559+00:00\n",
      "\n",
      "\u001b[1mPortfolio Created\u001b[0m\n",
      "\u001b[1mScope: \u001b[0mportfolio_demo_38a5-0a6e-84e1-90\n",
      "\u001b[1mCode: \u001b[0mportfolio-C-83ddedf3-dbe8-465a-a51f-f8092ae0bd7f\n",
      "\u001b[1mPortfolio Effective From: \u001b[0m2018-01-01 00:00:00+00:00\n",
      "\u001b[1mPortfolio Created On: \u001b[0m2020-07-10 18:38:13.138666+00:00\n",
      "\n",
      "\u001b[1mPortfolio Created\u001b[0m\n",
      "\u001b[1mScope: \u001b[0mportfolio_demo_38a5-0a6e-84e1-90\n",
      "\u001b[1mCode: \u001b[0mportfolio-D-d8480b12-1891-49ea-82c3-f622fd652ebb\n",
      "\u001b[1mPortfolio Effective From: \u001b[0m2018-01-01 00:00:00+00:00\n",
      "\u001b[1mPortfolio Created On: \u001b[0m2020-07-10 18:38:13.897665+00:00\n",
      "\n",
      "\u001b[1mPortfolio Created\u001b[0m\n",
      "\u001b[1mScope: \u001b[0mportfolio_demo_38a5-0a6e-84e1-90\n",
      "\u001b[1mCode: \u001b[0mportfolio-E-eedd3eed-015e-4071-b1e7-0db8d5c4c572\n",
      "\u001b[1mPortfolio Effective From: \u001b[0m2018-01-01 00:00:00+00:00\n",
      "\u001b[1mPortfolio Created On: \u001b[0m2020-07-10 18:38:14.529720+00:00\n",
      "\n",
      "\u001b[1mPortfolio Created\u001b[0m\n",
      "\u001b[1mScope: \u001b[0mportfolio_demo_38a5-0a6e-84e1-90\n",
      "\u001b[1mCode: \u001b[0mportfolio-F-707ff0a2-c025-41e6-b8b3-c9b92f429210\n",
      "\u001b[1mPortfolio Effective From: \u001b[0m2018-01-01 00:00:00+00:00\n",
      "\u001b[1mPortfolio Created On: \u001b[0m2020-07-10 18:38:15.420870+00:00\n",
      "\n",
      "\u001b[1mPortfolio Created\u001b[0m\n",
      "\u001b[1mScope: \u001b[0mportfolio_demo_xyz_38a5-0a6e-84e1-90\n",
      "\u001b[1mCode: \u001b[0mportfolio-X-6af65d97-8e74-4a3c-94ad-414fc7296d93\n",
      "\u001b[1mPortfolio Effective From: \u001b[0m2018-01-01 00:00:00+00:00\n",
      "\u001b[1mPortfolio Created On: \u001b[0m2020-07-10 18:38:16.434430+00:00\n",
      "\n",
      "\u001b[1mPortfolio Created\u001b[0m\n",
      "\u001b[1mScope: \u001b[0mportfolio_demo_xyz_38a5-0a6e-84e1-90\n",
      "\u001b[1mCode: \u001b[0mportfolio-Y-0e12296d-722d-41a4-ae80-6f906d9f02f9\n",
      "\u001b[1mPortfolio Effective From: \u001b[0m2018-01-01 00:00:00+00:00\n",
      "\u001b[1mPortfolio Created On: \u001b[0m2020-07-10 18:38:17.189518+00:00\n",
      "\n"
     ]
    }
   ],
   "metadata": {}
  },
  {
   "cell_type": "markdown",
   "source": [
    "## 2. Create Derived Portfolio\n",
    "We then create one derived portfolio from the first transaction portfolio created.\n",
    "\n",
    "[LUSID Knowledge Base: Derived Portfolio](https://support.lusid.com/what-is-a-derived-portfolio-and-how-are-they-used) \n",
    "\n",
    "*Run the cell below to create a derived portfolio and print its information*"
   ],
   "metadata": {}
  },
  {
   "cell_type": "code",
   "execution_count": 7,
   "source": [
    "# Create derived transaction portfolio from the first portfolio in the list\r\n",
    "\r\n",
    "derived_portfolio_request = models.CreateDerivedTransactionPortfolioRequest(\r\n",
    "    # this uses the portfolio name\r\n",
    "    display_name=\"derived-\"+created_portfolios[0].display_name,\r\n",
    "    code=\"derived-\"+created_portfolios[0].display_name,\r\n",
    "    parent_portfolio_id=models.ResourceId(\r\n",
    "        scope=created_portfolios[0].id.scope,\r\n",
    "        code=created_portfolios[0].id.code),\r\n",
    "    description=\"derived_portfolio_description\",\r\n",
    "    created=created_portfolios[0].created,\r\n",
    "    corporate_action_source_id=None,\r\n",
    "    accounting_method=None,\r\n",
    "    sub_holding_keys=None)\r\n",
    "\r\n",
    "derived_portfolio = api_factory.build(lusid.api.DerivedTransactionPortfoliosApi).create_derived_portfolio(\r\n",
    "    scope=scope1,\r\n",
    "    create_derived_transaction_portfolio_request=derived_portfolio_request)\r\n",
    "\r\n",
    "prettyprint.portfolio_response(derived_portfolio)"
   ],
   "outputs": [
    {
     "output_type": "stream",
     "name": "stdout",
     "text": [
      "\u001b[1mDerived Portfolio Created\u001b[0m\n",
      "\u001b[1mScope: \u001b[0mportfolio_demo_38a5-0a6e-84e1-90\n",
      "\u001b[1mCode: \u001b[0mderived-portfolio-A-35b88f95-22aa-41e0-9685-ee94b920f9ec\n",
      "\u001b[1mPortfolio Effective From: \u001b[0m2018-01-01 00:00:00+00:00\n",
      "\u001b[1mPortfolio Created On: \u001b[0m2020-07-10 18:38:18.294584+00:00\n",
      "\n",
      "\u001b[1m   Parent Portfolio Details\u001b[0m\n",
      "\u001b[1m   Scope: \u001b[0mportfolio_demo_38a5-0a6e-84e1-90\n",
      "\u001b[1m   Code: \u001b[0mportfolio-A-0d361b51-ffb8-4e9c-98b9-97f4afe07e08\n",
      "\n"
     ]
    }
   ],
   "metadata": {
    "raw_mimetype": "text/x-python"
   }
  },
  {
   "cell_type": "markdown",
   "source": [
    "## 3. Portfolio Details\n",
    "#### 3.1 Get Details\n",
    "A derived portfolio will automatically inherit all of the parent portfolio's details if they are not specified. These details can be modified and/or deleted. \n",
    "Modifying the details on a derived portfolio will not affect the parent portfolio. This is demonstrated in the following cells\n",
    "\n",
    "*Run the cell below to get details on the derived portfolio*"
   ],
   "metadata": {}
  },
  {
   "cell_type": "code",
   "execution_count": 8,
   "source": [
    "# First we will get the details for our new derived portfolio\r\n",
    "# and check they match with the parent portfolio\r\n",
    "derived_details = api_factory.build(lusid.api.TransactionPortfoliosApi).get_details(\r\n",
    "    scope=scope1,\r\n",
    "    code=derived_portfolio.id.code)\r\n",
    "print(\"Derived Portfolio Details : \")\r\n",
    "prettyprint.portfolio_details_response(derived_details)\r\n",
    "\r\n",
    "print(\"Parent Portfolio Details : \")\r\n",
    "parent_details = api_factory.build(lusid.api.TransactionPortfoliosApi).get_details(\r\n",
    "    scope=scope1,\r\n",
    "    code=created_portfolios[0].id.code)\r\n",
    "prettyprint.portfolio_details_response(parent_details)"
   ],
   "outputs": [
    {
     "output_type": "stream",
     "name": "stdout",
     "text": [
      "Derived Portfolio Details : \n",
      "\u001b[91m\u001b[1mPortfolio Details: \u001b[0m\n",
      "\u001b[1mDetail Origin Portfolio Scope: \u001b[0mportfolio_demo_38a5-0a6e-84e1-90\n",
      "\u001b[1mDetail Origin Portfolio Code: \u001b[0mderived-portfolio-A-35b88f95-22aa-41e0-9685-ee94b920f9ec\n",
      "\u001b[1mBase Currency: \u001b[0mGBP\n",
      "\u001b[1mCorporate Action Source Id: \u001b[0mNone\n",
      "\n",
      "\n",
      "Parent Portfolio Details : \n",
      "\u001b[91m\u001b[1mPortfolio Details: \u001b[0m\n",
      "\u001b[1mDetail Origin Portfolio Scope: \u001b[0mportfolio_demo_38a5-0a6e-84e1-90\n",
      "\u001b[1mDetail Origin Portfolio Code: \u001b[0mportfolio-A-0d361b51-ffb8-4e9c-98b9-97f4afe07e08\n",
      "\u001b[1mBase Currency: \u001b[0mGBP\n",
      "\u001b[1mCorporate Action Source Id: \u001b[0mNone\n",
      "\n",
      "\n"
     ]
    }
   ],
   "metadata": {}
  },
  {
   "cell_type": "markdown",
   "source": [
    "#### 3.2 Add/Modify Details\n",
    "Now we can modify the derived portfolio details by adding a Corporate Action Source so it no longer matches the parent portfolio\n",
    "\n",
    "*Run the cell below to modify the details of the derived portfolio*"
   ],
   "metadata": {}
  },
  {
   "cell_type": "code",
   "execution_count": 9,
   "source": [
    "response = api_factory.build(lusid.api.CorporateActionSourcesApi).create_corporate_action_source(\r\n",
    "    create_corporate_action_source_request=models.CreateCorporateActionSourceRequest(\r\n",
    "        scope=scope1,\r\n",
    "        code=derived_portfolio.id.code,\r\n",
    "        display_name=f\"Corporate Actions for {derived_portfolio.id.code}\")\r\n",
    ")\r\n",
    "\r\n",
    "request = models.CreatePortfolioDetails(\r\n",
    "    corporate_action_source_id=models.ResourceId(\r\n",
    "        scope=scope1,\r\n",
    "        code=derived_portfolio.id.code)\r\n",
    ")\r\n",
    "\r\n",
    "response = api_factory.build(lusid.api.TransactionPortfoliosApi).upsert_portfolio_details(\r\n",
    "    scope=scope1,\r\n",
    "    code=derived_portfolio.id.code,\r\n",
    "    create_portfolio_details=request)\r\n",
    "print(\"Derived Portfolio Details : \")\r\n",
    "prettyprint.portfolio_details_response(response)\r\n",
    "\r\n",
    "print(\"Parent Portfolio Details : \")\r\n",
    "parent_details = api_factory.build(lusid.api.TransactionPortfoliosApi).get_details(\r\n",
    "    scope=scope1,\r\n",
    "    code=created_portfolios[0].id.code)\r\n",
    "prettyprint.portfolio_details_response(parent_details)"
   ],
   "outputs": [
    {
     "output_type": "stream",
     "name": "stdout",
     "text": [
      "Derived Portfolio Details : \n",
      "\u001b[91m\u001b[1mPortfolio Details: \u001b[0m\n",
      "\u001b[1mDetail Origin Portfolio Scope: \u001b[0mportfolio_demo_38a5-0a6e-84e1-90\n",
      "\u001b[1mDetail Origin Portfolio Code: \u001b[0mderived-portfolio-A-35b88f95-22aa-41e0-9685-ee94b920f9ec\n",
      "\u001b[1mBase Currency: \u001b[0mGBP\n",
      "\u001b[1mCorporate Action Source Id: \u001b[0m{'code': 'derived-portfolio-A-35b88f95-22aa-41e0-9685-ee94b920f9ec',\n",
      " 'scope': 'portfolio_demo_38a5-0a6e-84e1-90'}\n",
      "\n",
      "\n",
      "Parent Portfolio Details : \n",
      "\u001b[91m\u001b[1mPortfolio Details: \u001b[0m\n",
      "\u001b[1mDetail Origin Portfolio Scope: \u001b[0mportfolio_demo_38a5-0a6e-84e1-90\n",
      "\u001b[1mDetail Origin Portfolio Code: \u001b[0mportfolio-A-0d361b51-ffb8-4e9c-98b9-97f4afe07e08\n",
      "\u001b[1mBase Currency: \u001b[0mGBP\n",
      "\u001b[1mCorporate Action Source Id: \u001b[0mNone\n",
      "\n",
      "\n"
     ]
    }
   ],
   "metadata": {}
  },
  {
   "cell_type": "markdown",
   "source": [
    "#### 3.3 Delete Details\n",
    "Now we can delete portfolio details. Note how after deleting the details on the derived portfolio, the response returns the scope and code of the parent portfolio, since `get_details` only returns the id of the portfolio from which the details originate - not the portfolio being queried.\n",
    "\n",
    "*Run the cell below to delete the details of the derived portfolio*"
   ],
   "metadata": {}
  },
  {
   "cell_type": "code",
   "execution_count": 10,
   "source": [
    "response = api_factory.build(lusid.api.DerivedTransactionPortfoliosApi).delete_derived_portfolio_details(\r\n",
    "    scope=scope1,\r\n",
    "    code=derived_portfolio.id.code\r\n",
    ")\r\n",
    "\r\n",
    "derived_details = api_factory.build(lusid.api.TransactionPortfoliosApi).get_details(\r\n",
    "    scope=scope1,\r\n",
    "    code=derived_portfolio.id.code)\r\n",
    "\r\n",
    "print(\"Derived Portfolio Details : \")\r\n",
    "prettyprint.portfolio_details_response(derived_details)\r\n",
    "\r\n",
    "print(\"Parent Portfolio Details : \")\r\n",
    "parent_details = api_factory.build(lusid.api.TransactionPortfoliosApi).get_details(\r\n",
    "    scope=scope1,\r\n",
    "    code=created_portfolios[0].id.code)\r\n",
    "prettyprint.portfolio_details_response(parent_details)"
   ],
   "outputs": [
    {
     "output_type": "stream",
     "name": "stdout",
     "text": [
      "Derived Portfolio Details : \n",
      "\u001b[91m\u001b[1mPortfolio Details: \u001b[0m\n",
      "\u001b[1mDetail Origin Portfolio Scope: \u001b[0mportfolio_demo_38a5-0a6e-84e1-90\n",
      "\u001b[1mDetail Origin Portfolio Code: \u001b[0mderived-portfolio-A-35b88f95-22aa-41e0-9685-ee94b920f9ec\n",
      "\u001b[1mBase Currency: \u001b[0mGBP\n",
      "\u001b[1mCorporate Action Source Id: \u001b[0mNone\n",
      "\n",
      "\n",
      "Parent Portfolio Details : \n",
      "\u001b[91m\u001b[1mPortfolio Details: \u001b[0m\n",
      "\u001b[1mDetail Origin Portfolio Scope: \u001b[0mportfolio_demo_38a5-0a6e-84e1-90\n",
      "\u001b[1mDetail Origin Portfolio Code: \u001b[0mportfolio-A-0d361b51-ffb8-4e9c-98b9-97f4afe07e08\n",
      "\u001b[1mBase Currency: \u001b[0mGBP\n",
      "\u001b[1mCorporate Action Source Id: \u001b[0mNone\n",
      "\n",
      "\n"
     ]
    }
   ],
   "metadata": {}
  },
  {
   "cell_type": "markdown",
   "source": [
    "## 4. Create Portfolio Group\n",
    "Next we can create some portfolio groups. We will then demonstrate the process of adding portfolios to a group, creating subgroups, and modifying group information.\n",
    "\n",
    "To begin with, let's create a group in our main scope that contains all the GBP parent portfolios.\n",
    "\n",
    "Note that the second group will be in a different scope to the first, it is entirely possible to combine portfolios and groups in different scopes.\n",
    "\n",
    "*Run the cell below to create a pre-populate portfolio group*"
   ],
   "metadata": {}
  },
  {
   "cell_type": "code",
   "execution_count": 11,
   "source": [
    "# Create a portfolio group -- create two\r\n",
    "# -- The first group we will create with all the portfolios in the first scope\r\n",
    "# -- we can use a helper function to obtain a list of resource ids for this\r\n",
    "scope_1_portfolios = [(x) for x in created_portfolios if x.id.scope == scope1]\r\n",
    "scope_1_resource_ids = get_resource_ids_from_response(scope_1_portfolios)\r\n",
    "\r\n",
    "# Create group 1 with the parent portfolios of scope 1 in it\r\n",
    "\r\n",
    "group_request1 = models.CreatePortfolioGroupRequest(\r\n",
    "    code=\"portfolio_group_code_1\",\r\n",
    "    display_name=\"portfolio_group1_name\",\r\n",
    "    created=effective_date,\r\n",
    "    values=scope_1_resource_ids,\r\n",
    "    sub_groups=None,\r\n",
    "    description=None)\r\n",
    "\r\n",
    "portfolio_group1 = api_factory.build(lusid.api.PortfolioGroupsApi).create_portfolio_group(\r\n",
    "    scope=scope1,\r\n",
    "    create_portfolio_group_request=group_request1)\r\n",
    "\r\n",
    "prettyprint.portfolio_group_response(portfolio_group1, 'created')"
   ],
   "outputs": [
    {
     "output_type": "stream",
     "name": "stdout",
     "text": [
      "\u001b[91m\u001b[1mPortfolio Group Created\u001b[0m\n",
      "\u001b[1mName: \u001b[0mportfolio_group1_name\n",
      "\u001b[1mScope: \u001b[0mportfolio_demo_38a5-0a6e-84e1-90\n",
      "\u001b[1mCode: \u001b[0mportfolio_group-c0bd3b5f-20cf-4254-8fab-101c1aca7a48\n",
      "\u001b[1mPortfolios Inside Group: \u001b[0m\n",
      "portfolio-F-707ff0a2-c025-41e6-b8b3-c9b92f429210\n",
      "portfolio-A-0d361b51-ffb8-4e9c-98b9-97f4afe07e08\n",
      "portfolio-E-eedd3eed-015e-4071-b1e7-0db8d5c4c572\n",
      "portfolio-B-48505cdd-a70e-4335-98e8-9aa53beeda19\n",
      "portfolio-D-d8480b12-1891-49ea-82c3-f622fd652ebb\n",
      "portfolio-C-83ddedf3-dbe8-465a-a51f-f8092ae0bd7f\n",
      "\n",
      "\n"
     ]
    }
   ],
   "metadata": {}
  },
  {
   "cell_type": "markdown",
   "source": [
    "## 5. Add Portfolio To Group\n",
    "So we have one group pre-populated with the portfolios in the first scope `portfolio_demo_abc`. Since the derived portfolio hasn't been included in the first group, we can add it in now to Group 1.\n",
    "\n",
    "*Run the cell below to add the derived portfolio to group 1*"
   ],
   "metadata": {}
  },
  {
   "cell_type": "code",
   "execution_count": 12,
   "source": [
    "# adding the derived portfolio to group 1 :\r\n",
    "add_response = api_factory.build(lusid.api.PortfolioGroupsApi).add_portfolio_to_group(\r\n",
    "    scope=portfolio_group1.id.scope,\r\n",
    "    code=portfolio_group1.id.code,\r\n",
    "    resource_id=derived_portfolio.id,\r\n",
    "    effective_at=portfolio_group1.created)\r\n",
    "\r\n",
    "prettyprint.get_portfolio_group_response(add_response)"
   ],
   "outputs": [
    {
     "output_type": "stream",
     "name": "stdout",
     "text": [
      "\u001b[91m\u001b[1mPortfolio Group: \u001b[0m\n",
      "\u001b[1mName: \u001b[0mportfolio_group1_name\n",
      "\u001b[1mScope: \u001b[0mportfolio_demo_38a5-0a6e-84e1-90\n",
      "\u001b[1mCode: \u001b[0mportfolio_group-c0bd3b5f-20cf-4254-8fab-101c1aca7a48\n",
      "\u001b[1mPortfolios Inside Group: \u001b[0m\n",
      "derived-portfolio-A-35b88f95-22aa-41e0-9685-ee94b920f9ec\n",
      "portfolio-E-eedd3eed-015e-4071-b1e7-0db8d5c4c572\n",
      "portfolio-C-83ddedf3-dbe8-465a-a51f-f8092ae0bd7f\n",
      "portfolio-D-d8480b12-1891-49ea-82c3-f622fd652ebb\n",
      "portfolio-A-0d361b51-ffb8-4e9c-98b9-97f4afe07e08\n",
      "portfolio-F-707ff0a2-c025-41e6-b8b3-c9b92f429210\n",
      "portfolio-B-48505cdd-a70e-4335-98e8-9aa53beeda19\n",
      "\u001b[94m\u001b[1mSubgroups Inside Group: \u001b[0m\n",
      "\n",
      "\n"
     ]
    }
   ],
   "metadata": {}
  },
  {
   "cell_type": "markdown",
   "source": [
    "## 6. Get Portfolio Group Details\n",
    "We can now compare two methods of obtaining groups from LUSID. The first is `get portfolio group` while the second is `get portfolio group expansion`. The difference here is that the first method will return only information about the specified group, including the ids of the portfolios and subgroups it contains, but not any further details of its portfolios and subgroups. The second method will not only return this basic information, but also the full details of each portfolio in the group and each portfolio in every subgroup as well. "
   ],
   "metadata": {}
  },
  {
   "cell_type": "markdown",
   "source": [
    "First we compare group 1 at the time of creation and at the most up-to-date time below, so we can see the changes that have been made to it since we created it using `get portfolio group`. The only expected difference right now will be the added derived portfolio. We will demonstrate the expanded method further on.\n",
    "\n",
    "*Run the cell below to compare the group info now and at time of creation*"
   ],
   "metadata": {}
  },
  {
   "cell_type": "code",
   "execution_count": 13,
   "source": [
    "# Get portfolio group now\r\n",
    "updated_group1 = api_factory.build(lusid.api.PortfolioGroupsApi).get_portfolio_group(\r\n",
    "    scope=portfolio_group1.id.scope,\r\n",
    "    code=portfolio_group1.id.code)\r\n",
    "\r\n",
    "# Get portfolio group 1 prior to the update\r\n",
    "original_group1 = api_factory.build(lusid.api.PortfolioGroupsApi).get_portfolio_group(\r\n",
    "    scope=portfolio_group1.id.scope,\r\n",
    "    code=portfolio_group1.id.code,\r\n",
    "    as_at=portfolio_group1.version.as_at_date)\r\n",
    "\r\n",
    "print('Group 1 at time of creation')\r\n",
    "prettyprint.get_portfolio_group_response(original_group1)\r\n",
    "print('')\r\n",
    "print('Group 1 at latest time')\r\n",
    "prettyprint.get_portfolio_group_response(updated_group1)"
   ],
   "outputs": [
    {
     "output_type": "stream",
     "name": "stdout",
     "text": [
      "Group 1 at time of creation\n",
      "\u001b[91m\u001b[1mPortfolio Group: \u001b[0m\n",
      "\u001b[1mName: \u001b[0mportfolio_group1_name\n",
      "\u001b[1mScope: \u001b[0mportfolio_demo_38a5-0a6e-84e1-90\n",
      "\u001b[1mCode: \u001b[0mportfolio_group-c0bd3b5f-20cf-4254-8fab-101c1aca7a48\n",
      "\u001b[1mPortfolios Inside Group: \u001b[0m\n",
      "portfolio-F-707ff0a2-c025-41e6-b8b3-c9b92f429210\n",
      "portfolio-A-0d361b51-ffb8-4e9c-98b9-97f4afe07e08\n",
      "portfolio-E-eedd3eed-015e-4071-b1e7-0db8d5c4c572\n",
      "portfolio-B-48505cdd-a70e-4335-98e8-9aa53beeda19\n",
      "portfolio-D-d8480b12-1891-49ea-82c3-f622fd652ebb\n",
      "portfolio-C-83ddedf3-dbe8-465a-a51f-f8092ae0bd7f\n",
      "\u001b[94m\u001b[1mSubgroups Inside Group: \u001b[0m\n",
      "\n",
      "\n",
      "\n",
      "Group 1 at latest time\n",
      "\u001b[91m\u001b[1mPortfolio Group: \u001b[0m\n",
      "\u001b[1mName: \u001b[0mportfolio_group1_name\n",
      "\u001b[1mScope: \u001b[0mportfolio_demo_38a5-0a6e-84e1-90\n",
      "\u001b[1mCode: \u001b[0mportfolio_group-c0bd3b5f-20cf-4254-8fab-101c1aca7a48\n",
      "\u001b[1mPortfolios Inside Group: \u001b[0m\n",
      "portfolio-A-0d361b51-ffb8-4e9c-98b9-97f4afe07e08\n",
      "portfolio-F-707ff0a2-c025-41e6-b8b3-c9b92f429210\n",
      "portfolio-D-d8480b12-1891-49ea-82c3-f622fd652ebb\n",
      "portfolio-C-83ddedf3-dbe8-465a-a51f-f8092ae0bd7f\n",
      "derived-portfolio-A-35b88f95-22aa-41e0-9685-ee94b920f9ec\n",
      "portfolio-E-eedd3eed-015e-4071-b1e7-0db8d5c4c572\n",
      "portfolio-B-48505cdd-a70e-4335-98e8-9aa53beeda19\n",
      "\u001b[94m\u001b[1mSubgroups Inside Group: \u001b[0m\n",
      "\n",
      "\n"
     ]
    }
   ],
   "metadata": {}
  },
  {
   "cell_type": "markdown",
   "source": [
    "This leaves the two portfolios in Scope 2. Since they are in another scope and based in a different currency, it makes sense to place them in a separate group to the first one (although they could also be added to the first groups regardless of scope being different). This time we create an empty group, then populate it separately. We follow this process as opposed to creating a pre-populated group (such as group 1 above) to demonstrate how empty groups can be created and how to upsert multiple portfolios to a group.\n",
    "\n",
    "*Run the cell below to create a second group containing no portfolios, and subsequently add portfolios in a separate command*"
   ],
   "metadata": {}
  },
  {
   "cell_type": "code",
   "execution_count": 14,
   "source": [
    "# Create group 2 with no portfolios\r\n",
    "\r\n",
    "group_request2 = models.CreatePortfolioGroupRequest(\r\n",
    "    code=\"portfolio_group_code_2\",\r\n",
    "    display_name=\"portfolio_group2_name\",\r\n",
    "    values=None,\r\n",
    "    sub_groups=None,\r\n",
    "    description=None)\r\n",
    "\r\n",
    "portfolio_group2 = api_factory.build(lusid.api.PortfolioGroupsApi).create_portfolio_group(\r\n",
    "    scope=scope2, \r\n",
    "    create_portfolio_group_request=group_request2)\r\n",
    "\r\n",
    "# Print the newly created group info\r\n",
    "prettyprint.portfolio_group_response(portfolio_group2, 'created')\r\n",
    "\r\n",
    "# Add portfolios to groups\r\n",
    "# Once again we get a list of resource ids for the portfolios in scope 2 this time\r\n",
    "scope_2_portfolios = [(x) for x in created_portfolios if x.id.scope == scope2]\r\n",
    "scope_2_resource_ids = get_resource_ids_from_response(scope_2_portfolios)\r\n",
    "\r\n",
    "# Then to add multiple portfolios to group 2, we have to iterate over the list of ids, since they have to\r\n",
    "# be added one by one.\r\n",
    "for resource_id in scope_2_resource_ids:\r\n",
    "    api_factory.build(lusid.api.PortfolioGroupsApi).add_portfolio_to_group(\r\n",
    "        scope=portfolio_group2.id.scope,\r\n",
    "        code=portfolio_group2.id.code,\r\n",
    "        resource_id=resource_id,\r\n",
    "        effective_at=portfolio_group2.created)\r\n",
    "\r\n",
    "populated_group2 = api_factory.build(lusid.api.PortfolioGroupsApi).get_portfolio_group(\r\n",
    "    scope=portfolio_group2.id.scope,\r\n",
    "    code=portfolio_group2.id.code)\r\n",
    "\r\n",
    "prettyprint.get_portfolio_group_response(populated_group2)"
   ],
   "outputs": [
    {
     "output_type": "stream",
     "name": "stdout",
     "text": [
      "\u001b[91m\u001b[1mPortfolio Group Created\u001b[0m\n",
      "\u001b[1mName: \u001b[0mportfolio_group2_name\n",
      "\u001b[1mScope: \u001b[0mportfolio_demo_xyz_38a5-0a6e-84e1-90\n",
      "\u001b[1mCode: \u001b[0mportfolio_group-fd5076f3-8e6b-4e00-b5f5-7eff09d99e9f\n",
      "\u001b[1mPortfolios Inside Group: \u001b[0m\n",
      "\n",
      "\n",
      "\u001b[91m\u001b[1mPortfolio Group: \u001b[0m\n",
      "\u001b[1mName: \u001b[0mportfolio_group2_name\n",
      "\u001b[1mScope: \u001b[0mportfolio_demo_xyz_38a5-0a6e-84e1-90\n",
      "\u001b[1mCode: \u001b[0mportfolio_group-fd5076f3-8e6b-4e00-b5f5-7eff09d99e9f\n",
      "\u001b[1mPortfolios Inside Group: \u001b[0m\n",
      "portfolio-Y-0e12296d-722d-41a4-ae80-6f906d9f02f9\n",
      "portfolio-X-6af65d97-8e74-4a3c-94ad-414fc7296d93\n",
      "\u001b[94m\u001b[1mSubgroups Inside Group: \u001b[0m\n",
      "\n",
      "\n"
     ]
    }
   ],
   "metadata": {}
  },
  {
   "cell_type": "markdown",
   "source": [
    "## 7. Add Group To Group (Create Subgroup)\n",
    "We can also combine groups into each other to create sub-groups. We will add group 2 as a subgroup in group 1.\n",
    "\n",
    "*Run the cell below to add Group 2 as a subgroup to Group 1*"
   ],
   "metadata": {}
  },
  {
   "cell_type": "code",
   "execution_count": 15,
   "source": [
    "# Add group to group\r\n",
    "add_response = api_factory.build(lusid.api.PortfolioGroupsApi).add_sub_group_to_group(\r\n",
    "    scope=portfolio_group1.id.scope,\r\n",
    "    code=portfolio_group1.id.code,\r\n",
    "    resource_id=portfolio_group2.id,\r\n",
    "    effective_at=portfolio_group2.created)\r\n",
    "\r\n",
    "prettyprint.get_portfolio_group_response(add_response)"
   ],
   "outputs": [
    {
     "output_type": "stream",
     "name": "stdout",
     "text": [
      "\u001b[91m\u001b[1mPortfolio Group: \u001b[0m\n",
      "\u001b[1mName: \u001b[0mportfolio_group1_name\n",
      "\u001b[1mScope: \u001b[0mportfolio_demo_38a5-0a6e-84e1-90\n",
      "\u001b[1mCode: \u001b[0mportfolio_group-c0bd3b5f-20cf-4254-8fab-101c1aca7a48\n",
      "\u001b[1mPortfolios Inside Group: \u001b[0m\n",
      "portfolio-A-0d361b51-ffb8-4e9c-98b9-97f4afe07e08\n",
      "portfolio-F-707ff0a2-c025-41e6-b8b3-c9b92f429210\n",
      "portfolio-D-d8480b12-1891-49ea-82c3-f622fd652ebb\n",
      "portfolio-C-83ddedf3-dbe8-465a-a51f-f8092ae0bd7f\n",
      "derived-portfolio-A-35b88f95-22aa-41e0-9685-ee94b920f9ec\n",
      "portfolio-E-eedd3eed-015e-4071-b1e7-0db8d5c4c572\n",
      "portfolio-B-48505cdd-a70e-4335-98e8-9aa53beeda19\n",
      "\u001b[94m\u001b[1mSubgroups Inside Group: \u001b[0m\n",
      "portfolio_group-fd5076f3-8e6b-4e00-b5f5-7eff09d99e9f\n",
      "\n",
      "\n"
     ]
    }
   ],
   "metadata": {}
  },
  {
   "cell_type": "markdown",
   "source": [
    "## 8. Modify Group\n",
    "Since group 2 is now a subgroup, we can update its display name to reflect this\n",
    "\n",
    "*Run the cell below to modify the group name*"
   ],
   "metadata": {}
  },
  {
   "cell_type": "code",
   "execution_count": 16,
   "source": [
    "# Update group request\r\n",
    "group_update_request = models.UpdatePortfolioGroupRequest(\r\n",
    "    display_name=\"Group1_Subgroup\",\r\n",
    "    description=None)\r\n",
    "\r\n",
    "# Update group\r\n",
    "update_response = api_factory.build(lusid.api.PortfolioGroupsApi).update_portfolio_group(\r\n",
    "    scope=portfolio_group2.id.scope,\r\n",
    "    code=portfolio_group2.id.code,\r\n",
    "    update_portfolio_group_request=group_update_request,\r\n",
    "    effective_at=portfolio_group2.created)\r\n",
    "\r\n",
    "prettyprint.portfolio_group_response(update_response, 'Updated')"
   ],
   "outputs": [
    {
     "output_type": "stream",
     "name": "stdout",
     "text": [
      "\u001b[91m\u001b[1mPortfolio Group\u001b[0m\n",
      "\u001b[1mName: \u001b[0mGroup1_Subgroup\n",
      "\u001b[1mScope: \u001b[0mportfolio_demo_xyz_38a5-0a6e-84e1-90\n",
      "\u001b[1mCode: \u001b[0mportfolio_group-fd5076f3-8e6b-4e00-b5f5-7eff09d99e9f\n",
      "\u001b[1mPortfolios Inside Group: \u001b[0m\n",
      "portfolio-Y-0e12296d-722d-41a4-ae80-6f906d9f02f9\n",
      "portfolio-X-6af65d97-8e74-4a3c-94ad-414fc7296d93\n",
      "\n",
      "\n"
     ]
    }
   ],
   "metadata": {}
  },
  {
   "cell_type": "markdown",
   "source": [
    "## 9. Get Full Expansion of a Group\n",
    "We can now compare the `get _portfolio_group` method with getting the full expansion of a group. You will see that on top of a list of portfolios and subgroups, the full expansion also returns all the information for the portfolios similar to running the `get_portfolio` method on each portfolio in the group and groubgroup.\n",
    "\n",
    "*Run the cell below to get the full expansion of Group 1*"
   ],
   "metadata": {}
  },
  {
   "cell_type": "code",
   "execution_count": 17,
   "source": [
    "# Get the basic group information for group 1 again:\r\n",
    "updated_group1 = api_factory.build(lusid.api.PortfolioGroupsApi).get_portfolio_group(\r\n",
    "    scope=portfolio_group1.id.scope,\r\n",
    "    code=portfolio_group1.id.code)\r\n",
    "\r\n",
    "print('Group 1 at latest time with basic GET method : ')\r\n",
    "prettyprint.get_portfolio_group_response(updated_group1)\r\n",
    "\r\n",
    "# Get full expansion of portfolio group 1:\r\n",
    "expansion = api_factory.build(lusid.api.PortfolioGroupsApi).get_portfolio_group_expansion(\r\n",
    "    scope=portfolio_group1.id.scope,\r\n",
    "    code=portfolio_group1.id.code)\r\n",
    "print('Group 1 at latest time with full expansion method : ')\r\n",
    "prettyprint.expanded_portfolio_group_response(expansion)"
   ],
   "outputs": [
    {
     "output_type": "stream",
     "name": "stdout",
     "text": [
      "Group 1 at latest time with basic GET method : \n",
      "\u001b[91m\u001b[1mPortfolio Group: \u001b[0m\n",
      "\u001b[1mName: \u001b[0mportfolio_group1_name\n",
      "\u001b[1mScope: \u001b[0mportfolio_demo_38a5-0a6e-84e1-90\n",
      "\u001b[1mCode: \u001b[0mportfolio_group-c0bd3b5f-20cf-4254-8fab-101c1aca7a48\n",
      "\u001b[1mPortfolios Inside Group: \u001b[0m\n",
      "derived-portfolio-A-35b88f95-22aa-41e0-9685-ee94b920f9ec\n",
      "portfolio-E-eedd3eed-015e-4071-b1e7-0db8d5c4c572\n",
      "portfolio-C-83ddedf3-dbe8-465a-a51f-f8092ae0bd7f\n",
      "portfolio-D-d8480b12-1891-49ea-82c3-f622fd652ebb\n",
      "portfolio-A-0d361b51-ffb8-4e9c-98b9-97f4afe07e08\n",
      "portfolio-F-707ff0a2-c025-41e6-b8b3-c9b92f429210\n",
      "portfolio-B-48505cdd-a70e-4335-98e8-9aa53beeda19\n",
      "\u001b[94m\u001b[1mSubgroups Inside Group: \u001b[0m\n",
      "portfolio_group-fd5076f3-8e6b-4e00-b5f5-7eff09d99e9f\n",
      "\n",
      "\n",
      "Group 1 at latest time with full expansion method : \n",
      "\u001b[91m\u001b[1mPortfolio Group Full Details : \u001b[0m\n",
      "\u001b[1mScope: \u001b[0mportfolio_demo_38a5-0a6e-84e1-90\n",
      "\u001b[1mCode: \u001b[0mportfolio_group-c0bd3b5f-20cf-4254-8fab-101c1aca7a48\n",
      "\u001b[94m\u001b[1mPortfolios Inside Group: \u001b[0m\n",
      "\u001b[1mPortfolio \u001b[0m\n",
      "\u001b[1mScope: \u001b[0mportfolio_demo_38a5-0a6e-84e1-90\n",
      "\u001b[1mCode: \u001b[0mportfolio-F-707ff0a2-c025-41e6-b8b3-c9b92f429210\n",
      "\u001b[1mPortfolio Effective From: \u001b[0m2018-01-01 00:00:00+00:00\n",
      "\u001b[1mPortfolio Created On: \u001b[0m2020-07-10 18:38:28.034425+00:00\n",
      "\n",
      "\u001b[1mPortfolio \u001b[0m\n",
      "\u001b[1mScope: \u001b[0mportfolio_demo_38a5-0a6e-84e1-90\n",
      "\u001b[1mCode: \u001b[0mportfolio-A-0d361b51-ffb8-4e9c-98b9-97f4afe07e08\n",
      "\u001b[1mPortfolio Effective From: \u001b[0m2018-01-01 00:00:00+00:00\n",
      "\u001b[1mPortfolio Created On: \u001b[0m2020-07-10 18:38:28.034425+00:00\n",
      "\n",
      "\u001b[1mPortfolio \u001b[0m\n",
      "\u001b[1mScope: \u001b[0mportfolio_demo_38a5-0a6e-84e1-90\n",
      "\u001b[1mCode: \u001b[0mportfolio-E-eedd3eed-015e-4071-b1e7-0db8d5c4c572\n",
      "\u001b[1mPortfolio Effective From: \u001b[0m2018-01-01 00:00:00+00:00\n",
      "\u001b[1mPortfolio Created On: \u001b[0m2020-07-10 18:38:28.034425+00:00\n",
      "\n",
      "\u001b[1mPortfolio \u001b[0m\n",
      "\u001b[1mScope: \u001b[0mportfolio_demo_38a5-0a6e-84e1-90\n",
      "\u001b[1mCode: \u001b[0mportfolio-B-48505cdd-a70e-4335-98e8-9aa53beeda19\n",
      "\u001b[1mPortfolio Effective From: \u001b[0m2018-01-01 00:00:00+00:00\n",
      "\u001b[1mPortfolio Created On: \u001b[0m2020-07-10 18:38:28.034425+00:00\n",
      "\n",
      "\u001b[1mPortfolio \u001b[0m\n",
      "\u001b[1mScope: \u001b[0mportfolio_demo_38a5-0a6e-84e1-90\n",
      "\u001b[1mCode: \u001b[0mportfolio-D-d8480b12-1891-49ea-82c3-f622fd652ebb\n",
      "\u001b[1mPortfolio Effective From: \u001b[0m2018-01-01 00:00:00+00:00\n",
      "\u001b[1mPortfolio Created On: \u001b[0m2020-07-10 18:38:28.034425+00:00\n",
      "\n",
      "\u001b[1mDerived Portfolio \u001b[0m\n",
      "\u001b[1mScope: \u001b[0mportfolio_demo_38a5-0a6e-84e1-90\n",
      "\u001b[1mCode: \u001b[0mderived-portfolio-A-35b88f95-22aa-41e0-9685-ee94b920f9ec\n",
      "\u001b[1mPortfolio Effective From: \u001b[0m2018-01-01 00:00:00+00:00\n",
      "\u001b[1mPortfolio Created On: \u001b[0m2020-07-10 18:38:28.034425+00:00\n",
      "\n",
      "\u001b[1m   Parent Portfolio Details\u001b[0m\n",
      "\u001b[1m   Scope: \u001b[0mportfolio_demo_38a5-0a6e-84e1-90\n",
      "\u001b[1m   Code: \u001b[0mportfolio-A-0d361b51-ffb8-4e9c-98b9-97f4afe07e08\n",
      "\n",
      "\u001b[1mPortfolio \u001b[0m\n",
      "\u001b[1mScope: \u001b[0mportfolio_demo_38a5-0a6e-84e1-90\n",
      "\u001b[1mCode: \u001b[0mportfolio-C-83ddedf3-dbe8-465a-a51f-f8092ae0bd7f\n",
      "\u001b[1mPortfolio Effective From: \u001b[0m2018-01-01 00:00:00+00:00\n",
      "\u001b[1mPortfolio Created On: \u001b[0m2020-07-10 18:38:28.034425+00:00\n",
      "\n",
      "\u001b[94m\u001b[1mSubgroups Inside Group: \u001b[0m\n",
      "\u001b[1mName: \u001b[0mGroup1_Subgroup\n",
      "\u001b[1mScope: \u001b[0mportfolio_demo_xyz_38a5-0a6e-84e1-90\n",
      "\u001b[1mCode: \u001b[0mportfolio_group-fd5076f3-8e6b-4e00-b5f5-7eff09d99e9f\n",
      "\u001b[94m\u001b[1mPortfolios Inside SubGroup: \u001b[0m\n",
      "\u001b[1mPortfolio \u001b[0m\n",
      "\u001b[1mScope: \u001b[0mportfolio_demo_xyz_38a5-0a6e-84e1-90\n",
      "\u001b[1mCode: \u001b[0mportfolio-X-6af65d97-8e74-4a3c-94ad-414fc7296d93\n",
      "\u001b[1mPortfolio Effective From: \u001b[0m2018-01-01 00:00:00+00:00\n",
      "\u001b[1mPortfolio Created On: \u001b[0m2020-07-10 18:38:28.034425+00:00\n",
      "\n",
      "\u001b[1mPortfolio \u001b[0m\n",
      "\u001b[1mScope: \u001b[0mportfolio_demo_xyz_38a5-0a6e-84e1-90\n",
      "\u001b[1mCode: \u001b[0mportfolio-Y-0e12296d-722d-41a4-ae80-6f906d9f02f9\n",
      "\u001b[1mPortfolio Effective From: \u001b[0m2018-01-01 00:00:00+00:00\n",
      "\u001b[1mPortfolio Created On: \u001b[0m2020-07-10 18:38:28.034425+00:00\n",
      "\n",
      "\n",
      "\n"
     ]
    }
   ],
   "metadata": {}
  },
  {
   "cell_type": "markdown",
   "source": [
    "## 10. Remove Portfolios and Subgroups from Group\n",
    "In LUSID it is possible to delete a populated group without deleting the portfolios, they will simply be removed from the group hierarchy and will remain ungrouped in their respective scopes. Our Subgroup contains two portfolios, so for demonstration purposes we are carrying out each step individually of removing the portfolios from the group, removing the subgroup from the main group, and then deleting it as it is no longer needed.\n",
    "\n",
    "*Run the cell below to remove portfolios from Group 2*"
   ],
   "metadata": {}
  },
  {
   "cell_type": "code",
   "execution_count": 18,
   "source": [
    "# 1. Removal of portfolios from a group has to be done one portfolio at a time (deleting the group will \r\n",
    "# remove all of them in one go as mentioned in the cell above), thus we can loop through the list of \r\n",
    "# portfolios in scope 2 since they are all contained in the subgroup\r\n",
    "\r\n",
    "# first we print out the details of group 2\r\n",
    "original_group2 = api_factory.build(lusid.api.PortfolioGroupsApi).get_portfolio_group(\r\n",
    "    scope=portfolio_group2.id.scope,\r\n",
    "    code=portfolio_group2.id.code)\r\n",
    "\r\n",
    "prettyprint.get_portfolio_group_response(original_group2)\r\n",
    "print('')\r\n",
    "\r\n",
    "# then we proceed with removing each portfolio in the group, you will see each printed response will have\r\n",
    "# one fewer portfolio ids attached to the group.\r\n",
    "for portfolio_id in scope_2_resource_ids:\r\n",
    "    portfolio_removal = api_factory.build(lusid.api.PortfolioGroupsApi).delete_portfolio_from_group(\r\n",
    "        scope=portfolio_group2.id.scope,\r\n",
    "        code=portfolio_group2.id.code,\r\n",
    "        portfolio_scope=portfolio_id.scope,\r\n",
    "        portfolio_code=portfolio_id.code,\r\n",
    "        effective_at=portfolio_group2.created)\r\n",
    "    prettyprint.portfolio_group_response(portfolio_removal, 'none')"
   ],
   "outputs": [
    {
     "output_type": "stream",
     "name": "stdout",
     "text": [
      "\u001b[91m\u001b[1mPortfolio Group: \u001b[0m\n",
      "\u001b[1mName: \u001b[0mGroup1_Subgroup\n",
      "\u001b[1mScope: \u001b[0mportfolio_demo_xyz_38a5-0a6e-84e1-90\n",
      "\u001b[1mCode: \u001b[0mportfolio_group-fd5076f3-8e6b-4e00-b5f5-7eff09d99e9f\n",
      "\u001b[1mPortfolios Inside Group: \u001b[0m\n",
      "portfolio-Y-0e12296d-722d-41a4-ae80-6f906d9f02f9\n",
      "portfolio-X-6af65d97-8e74-4a3c-94ad-414fc7296d93\n",
      "\u001b[94m\u001b[1mSubgroups Inside Group: \u001b[0m\n",
      "\n",
      "\n",
      "\n",
      "\u001b[91m\u001b[1mPortfolio Group\u001b[0m\n",
      "\u001b[1mName: \u001b[0mGroup1_Subgroup\n",
      "\u001b[1mScope: \u001b[0mportfolio_demo_xyz_38a5-0a6e-84e1-90\n",
      "\u001b[1mCode: \u001b[0mportfolio_group-fd5076f3-8e6b-4e00-b5f5-7eff09d99e9f\n",
      "\u001b[1mPortfolios Inside Group: \u001b[0m\n",
      "portfolio-Y-0e12296d-722d-41a4-ae80-6f906d9f02f9\n",
      "\n",
      "\n",
      "\u001b[91m\u001b[1mPortfolio Group\u001b[0m\n",
      "\u001b[1mName: \u001b[0mGroup1_Subgroup\n",
      "\u001b[1mScope: \u001b[0mportfolio_demo_xyz_38a5-0a6e-84e1-90\n",
      "\u001b[1mCode: \u001b[0mportfolio_group-fd5076f3-8e6b-4e00-b5f5-7eff09d99e9f\n",
      "\u001b[1mPortfolios Inside Group: \u001b[0m\n",
      "\n",
      "\n"
     ]
    }
   ],
   "metadata": {}
  },
  {
   "cell_type": "markdown",
   "source": [
    "*Run the cell below to remove Group 2 from Group 1*"
   ],
   "metadata": {}
  },
  {
   "cell_type": "code",
   "execution_count": 19,
   "source": [
    "# 2. Remove group from group\r\n",
    "group_removal = api_factory.build(lusid.api.PortfolioGroupsApi).delete_sub_group_from_group(\r\n",
    "    scope=portfolio_group1.id.scope,\r\n",
    "    code=portfolio_group1.id.code,\r\n",
    "    subgroup_scope=portfolio_group2.id.scope,\r\n",
    "    subgroup_code=portfolio_group2.id.code,\r\n",
    "    effective_at=portfolio_group1.created)\r\n",
    "\r\n",
    "prettyprint.portfolio_group_response(group_removal, 'none')\r\n",
    "print('Remaining Sub Groups : ', group_removal.sub_groups)"
   ],
   "outputs": [
    {
     "output_type": "stream",
     "name": "stdout",
     "text": [
      "\u001b[91m\u001b[1mPortfolio Group\u001b[0m\n",
      "\u001b[1mName: \u001b[0mportfolio_group1_name\n",
      "\u001b[1mScope: \u001b[0mportfolio_demo_38a5-0a6e-84e1-90\n",
      "\u001b[1mCode: \u001b[0mportfolio_group-c0bd3b5f-20cf-4254-8fab-101c1aca7a48\n",
      "\u001b[1mPortfolios Inside Group: \u001b[0m\n",
      "derived-portfolio-A-35b88f95-22aa-41e0-9685-ee94b920f9ec\n",
      "portfolio-E-eedd3eed-015e-4071-b1e7-0db8d5c4c572\n",
      "portfolio-C-83ddedf3-dbe8-465a-a51f-f8092ae0bd7f\n",
      "portfolio-D-d8480b12-1891-49ea-82c3-f622fd652ebb\n",
      "portfolio-A-0d361b51-ffb8-4e9c-98b9-97f4afe07e08\n",
      "portfolio-F-707ff0a2-c025-41e6-b8b3-c9b92f429210\n",
      "portfolio-B-48505cdd-a70e-4335-98e8-9aa53beeda19\n",
      "\n",
      "\n",
      "Remaining Sub Groups :  []\n"
     ]
    }
   ],
   "metadata": {}
  },
  {
   "cell_type": "markdown",
   "source": [
    "## 11. Delete Group\n",
    "*Run the cell below to delete group 2*"
   ],
   "metadata": {}
  },
  {
   "cell_type": "code",
   "execution_count": 20,
   "source": [
    "# 3. Delete group\r\n",
    "group_deletion = api_factory.build(lusid.api.PortfolioGroupsApi).delete_portfolio_group(\r\n",
    "    scope=portfolio_group2.id.scope,\r\n",
    "    code=portfolio_group2.id.code)"
   ],
   "outputs": [],
   "metadata": {}
  },
  {
   "cell_type": "markdown",
   "source": [
    "## 12. Get Group Commands\n",
    "We can now check what operations have been applied to each of our groups, including an already deleted group, by using the `get portfolio group commands` method, as below.\n",
    "\n",
    "*Run the cell below to get all commands from groups 1 and 2*"
   ],
   "metadata": {}
  },
  {
   "cell_type": "code",
   "execution_count": 21,
   "source": [
    "# Get commands\r\n",
    "group1_commands = api_factory.build(lusid.api.PortfolioGroupsApi).get_portfolio_group_commands(\r\n",
    "    scope=portfolio_group1.id.scope,\r\n",
    "    code=portfolio_group1.id.code)\r\n",
    "\r\n",
    "group2_commands = api_factory.build(lusid.api.PortfolioGroupsApi).get_portfolio_group_commands(\r\n",
    "    scope=portfolio_group2.id.scope,\r\n",
    "    code=portfolio_group2.id.code)\r\n",
    "\r\n",
    "prettyprint.group_commands(group1_commands, portfolio_group1.display_name)\r\n",
    "\r\n",
    "prettyprint.group_commands(group2_commands, portfolio_group2.display_name)"
   ],
   "outputs": [
    {
     "output_type": "stream",
     "name": "stdout",
     "text": [
      "\u001b[1mCommands Applied To Group portfolio_group1_name\u001b[0m\n",
      "\u001b[1mNumber of commands : \u001b[0m2\n",
      "\u001b[1mDescription : \u001b[0mCreate portfolio group\n",
      "\u001b[1mAt Time : \u001b[0m2020-07-10 18:38:22.597270+00:00\n",
      "\n",
      "\n",
      "\u001b[1mDescription : \u001b[0mAdd portfolio to group\n",
      "\u001b[1mAt Time : \u001b[0m2020-07-10 18:38:23.206472+00:00\n",
      "\n",
      "\n",
      "\u001b[1mDescription : \u001b[0mAdd subgroup to group\n",
      "\u001b[1mAt Time : \u001b[0m2020-07-10 18:38:27.258429+00:00\n",
      "\n",
      "\n",
      "\u001b[1mDescription : \u001b[0mDelete subgroup from group\n",
      "\u001b[1mAt Time : \u001b[0m2020-07-10 18:38:33.427782+00:00\n",
      "\n",
      "\n",
      "\u001b[1mCommands Applied To Group portfolio_group2_name\u001b[0m\n",
      "\u001b[1mNumber of commands : \u001b[0m2\n",
      "\u001b[1mDescription : \u001b[0mCreate portfolio group\n",
      "\u001b[1mAt Time : \u001b[0m2020-07-10 18:38:24.026617+00:00\n",
      "\n",
      "\n",
      "\u001b[1mDescription : \u001b[0mAdd portfolio to group\n",
      "\u001b[1mAt Time : \u001b[0m2020-07-10 18:38:24.686701+00:00\n",
      "\n",
      "\n",
      "\u001b[1mDescription : \u001b[0mAdd portfolio to group\n",
      "\u001b[1mAt Time : \u001b[0m2020-07-10 18:38:25.274428+00:00\n",
      "\n",
      "\n",
      "\u001b[1mDescription : \u001b[0mUpdate portfolio group\n",
      "\u001b[1mAt Time : \u001b[0m2020-07-10 18:38:27.953089+00:00\n",
      "\n",
      "\n",
      "\u001b[1mDescription : \u001b[0mDelete portfolio from group\n",
      "\u001b[1mAt Time : \u001b[0m2020-07-10 18:38:31.926426+00:00\n",
      "\n",
      "\n",
      "\u001b[1mDescription : \u001b[0mDelete portfolio from group\n",
      "\u001b[1mAt Time : \u001b[0m2020-07-10 18:38:32.649497+00:00\n",
      "\n",
      "\n",
      "\u001b[1mDescription : \u001b[0mDelete portfolio group\n",
      "\u001b[1mAt Time : \u001b[0m2020-07-10 18:38:33.934442+00:00\n",
      "\n",
      "\n"
     ]
    }
   ],
   "metadata": {}
  },
  {
   "cell_type": "markdown",
   "source": [
    "## 13. List Groups in Scope\n",
    "We can now verify that the group has indeed been deleted from our scope by getting all groups in each of our scopes, the second of which should be empty now.\n",
    "\n",
    "Note : Scope 1 may have groups remaining from previous runs of this notebook example\n",
    "\n",
    "*Run the cell below to list all groups in scopes 1 and 2*"
   ],
   "metadata": {}
  },
  {
   "cell_type": "code",
   "execution_count": 22,
   "source": [
    "# List groups in scope - show one scope with no groups\r\n",
    "scope1_groups = api_factory.build(lusid.api.PortfolioGroupsApi).list_portfolio_groups(\r\n",
    "    scope=scope1)\r\n",
    "\r\n",
    "scope2_groups = api_factory.build(lusid.api.PortfolioGroupsApi).list_portfolio_groups(\r\n",
    "    scope=scope2)\r\n",
    "\r\n",
    "prettyprint.groups_in_scope(scope1_groups)\r\n",
    "prettyprint.groups_in_scope(scope2_groups)"
   ],
   "outputs": [
    {
     "output_type": "stream",
     "name": "stdout",
     "text": [
      "\u001b[91m\u001b[1mGroups in Scope: \u001b[0m\n",
      "\u001b[1mScope : \u001b[0mportfolio_demo_38a5-0a6e-84e1-90\n",
      "\u001b[1mCode : \u001b[0mportfolio_group-c0bd3b5f-20cf-4254-8fab-101c1aca7a48\n",
      "\u001b[91m\u001b[1mGroups in Scope: \u001b[0m\n"
     ]
    }
   ],
   "metadata": {}
  },
  {
   "cell_type": "markdown",
   "source": [
    "In case any extra groups are hanging around, the next cell will remove all groups. This will also remove Group 1 in Scope 1, which is still populated, showing how the portfolios remain in the scope and ungrouped following this operation.\n",
    "\n",
    "*Run the cell below to remove any remaining groups in both scopes*"
   ],
   "metadata": {}
  },
  {
   "cell_type": "code",
   "execution_count": 23,
   "source": [
    "# create a list of all groups in both scopes\r\n",
    "groups_to_delete = []\r\n",
    "for group in scope1_groups.values:\r\n",
    "    groups_to_delete.append(group.id)\r\n",
    "for group in scope2_groups.values:\r\n",
    "    groups_to_delete.append(group.id)\r\n",
    "\r\n",
    "# loop through the list of groups and delete each one, one by one\r\n",
    "for group in groups_to_delete:\r\n",
    "    api_factory.build(lusid.api.PortfolioGroupsApi).delete_portfolio_group(\r\n",
    "        scope=group.scope,\r\n",
    "        code=group.code)\r\n",
    "\r\n",
    "# List groups in scope - both will now be empty\r\n",
    "scope1_groups = api_factory.build(lusid.api.PortfolioGroupsApi).list_portfolio_groups(\r\n",
    "    scope=scope1)\r\n",
    "\r\n",
    "scope2_groups = api_factory.build(lusid.api.PortfolioGroupsApi).list_portfolio_groups(\r\n",
    "    scope=scope2)\r\n",
    "\r\n",
    "prettyprint.groups_in_scope(scope1_groups)\r\n",
    "prettyprint.groups_in_scope(scope2_groups)"
   ],
   "outputs": [
    {
     "output_type": "stream",
     "name": "stdout",
     "text": [
      "\u001b[91m\u001b[1mGroups in Scope: \u001b[0m\n",
      "\u001b[91m\u001b[1mGroups in Scope: \u001b[0m\n"
     ]
    }
   ],
   "metadata": {}
  },
  {
   "cell_type": "markdown",
   "source": [
    "## 14. List Portfolios in Scope\n",
    "If we list all the portfolios in our scopes we will see that they are all still there. There may be extra portfolios not created in this example, if this is the case, we can delete all these extra portfolios and keep only those we are interested in. \n",
    "\n",
    "*Run the cell below to list all the portfolios in both scopes*"
   ],
   "metadata": {}
  },
  {
   "cell_type": "code",
   "execution_count": 24,
   "source": [
    "scope1_portfolios_list_response = api_factory.build(lusid.api.PortfoliosApi).list_portfolios_for_scope(\r\n",
    "    scope=scope1)\r\n",
    "\r\n",
    "scope2_portfolios_list_response = api_factory.build(lusid.api.PortfoliosApi).list_portfolios_for_scope(\r\n",
    "    scope=scope2)\r\n",
    "\r\n",
    "print('Portfolios remaining in scope ', scope1, ' :\\n')\r\n",
    "for portfolio in scope1_portfolios_list_response.values:\r\n",
    "    prettyprint.expansion_portfolio_response(portfolio)\r\n",
    "\r\n",
    "print('Portfolios remaining in scope ', scope2, ' :\\n')\r\n",
    "for portfolio in scope2_portfolios_list_response.values:\r\n",
    "    prettyprint.expansion_portfolio_response(portfolio)"
   ],
   "outputs": [
    {
     "output_type": "stream",
     "name": "stdout",
     "text": [
      "Portfolios remaining in scope  portfolio_demo_38a5-0a6e-84e1-90  :\n",
      "\n",
      "\u001b[1mDerived Portfolio \u001b[0m\n",
      "\u001b[1mScope: \u001b[0mportfolio_demo_38a5-0a6e-84e1-90\n",
      "\u001b[1mCode: \u001b[0mderived-portfolio-A-35b88f95-22aa-41e0-9685-ee94b920f9ec\n",
      "\u001b[1mPortfolio Effective From: \u001b[0m2018-01-01 00:00:00+00:00\n",
      "\u001b[1mPortfolio Created On: \u001b[0m2020-07-10 18:38:35.845334+00:00\n",
      "\n",
      "\u001b[1m   Parent Portfolio Details\u001b[0m\n",
      "\u001b[1m   Scope: \u001b[0mportfolio_demo_38a5-0a6e-84e1-90\n",
      "\u001b[1m   Code: \u001b[0mportfolio-A-0d361b51-ffb8-4e9c-98b9-97f4afe07e08\n",
      "\n",
      "\u001b[1mPortfolio \u001b[0m\n",
      "\u001b[1mScope: \u001b[0mportfolio_demo_38a5-0a6e-84e1-90\n",
      "\u001b[1mCode: \u001b[0mportfolio-A-0d361b51-ffb8-4e9c-98b9-97f4afe07e08\n",
      "\u001b[1mPortfolio Effective From: \u001b[0m2018-01-01 00:00:00+00:00\n",
      "\u001b[1mPortfolio Created On: \u001b[0m2020-07-10 18:38:35.845334+00:00\n",
      "\n",
      "\u001b[1mPortfolio \u001b[0m\n",
      "\u001b[1mScope: \u001b[0mportfolio_demo_38a5-0a6e-84e1-90\n",
      "\u001b[1mCode: \u001b[0mportfolio-B-48505cdd-a70e-4335-98e8-9aa53beeda19\n",
      "\u001b[1mPortfolio Effective From: \u001b[0m2018-01-01 00:00:00+00:00\n",
      "\u001b[1mPortfolio Created On: \u001b[0m2020-07-10 18:38:35.845334+00:00\n",
      "\n",
      "\u001b[1mPortfolio \u001b[0m\n",
      "\u001b[1mScope: \u001b[0mportfolio_demo_38a5-0a6e-84e1-90\n",
      "\u001b[1mCode: \u001b[0mportfolio-C-83ddedf3-dbe8-465a-a51f-f8092ae0bd7f\n",
      "\u001b[1mPortfolio Effective From: \u001b[0m2018-01-01 00:00:00+00:00\n",
      "\u001b[1mPortfolio Created On: \u001b[0m2020-07-10 18:38:35.845334+00:00\n",
      "\n",
      "\u001b[1mPortfolio \u001b[0m\n",
      "\u001b[1mScope: \u001b[0mportfolio_demo_38a5-0a6e-84e1-90\n",
      "\u001b[1mCode: \u001b[0mportfolio-D-d8480b12-1891-49ea-82c3-f622fd652ebb\n",
      "\u001b[1mPortfolio Effective From: \u001b[0m2018-01-01 00:00:00+00:00\n",
      "\u001b[1mPortfolio Created On: \u001b[0m2020-07-10 18:38:35.845334+00:00\n",
      "\n",
      "\u001b[1mPortfolio \u001b[0m\n",
      "\u001b[1mScope: \u001b[0mportfolio_demo_38a5-0a6e-84e1-90\n",
      "\u001b[1mCode: \u001b[0mportfolio-E-eedd3eed-015e-4071-b1e7-0db8d5c4c572\n",
      "\u001b[1mPortfolio Effective From: \u001b[0m2018-01-01 00:00:00+00:00\n",
      "\u001b[1mPortfolio Created On: \u001b[0m2020-07-10 18:38:35.845334+00:00\n",
      "\n",
      "\u001b[1mPortfolio \u001b[0m\n",
      "\u001b[1mScope: \u001b[0mportfolio_demo_38a5-0a6e-84e1-90\n",
      "\u001b[1mCode: \u001b[0mportfolio-F-707ff0a2-c025-41e6-b8b3-c9b92f429210\n",
      "\u001b[1mPortfolio Effective From: \u001b[0m2018-01-01 00:00:00+00:00\n",
      "\u001b[1mPortfolio Created On: \u001b[0m2020-07-10 18:38:35.845334+00:00\n",
      "\n",
      "Portfolios remaining in scope  portfolio_demo_xyz_38a5-0a6e-84e1-90  :\n",
      "\n",
      "\u001b[1mPortfolio \u001b[0m\n",
      "\u001b[1mScope: \u001b[0mportfolio_demo_xyz_38a5-0a6e-84e1-90\n",
      "\u001b[1mCode: \u001b[0mportfolio-X-6af65d97-8e74-4a3c-94ad-414fc7296d93\n",
      "\u001b[1mPortfolio Effective From: \u001b[0m2018-01-01 00:00:00+00:00\n",
      "\u001b[1mPortfolio Created On: \u001b[0m2020-07-10 18:38:37.966429+00:00\n",
      "\n",
      "\u001b[1mPortfolio \u001b[0m\n",
      "\u001b[1mScope: \u001b[0mportfolio_demo_xyz_38a5-0a6e-84e1-90\n",
      "\u001b[1mCode: \u001b[0mportfolio-Y-0e12296d-722d-41a4-ae80-6f906d9f02f9\n",
      "\u001b[1mPortfolio Effective From: \u001b[0m2018-01-01 00:00:00+00:00\n",
      "\u001b[1mPortfolio Created On: \u001b[0m2020-07-10 18:38:37.966429+00:00\n",
      "\n"
     ]
    }
   ],
   "metadata": {}
  },
  {
   "cell_type": "markdown",
   "source": [
    "## 15. Delete Portfolios\n",
    "The cells below allow us to delete the extra portfolios in the scope. Keep in mind, derived portfolios must be deleted first, as if a parent portfolio still contains a child, the deletion will fail.\n",
    "\n",
    "*Run the cell below to create some helper functions*"
   ],
   "metadata": {}
  },
  {
   "cell_type": "code",
   "execution_count": 25,
   "source": [
    "# Helper functions to filter out unwanted portfolios\r\n",
    "def extract_ids(portfolioList):\r\n",
    "    parent_ids = []\r\n",
    "    derived_ids = []\r\n",
    "    for folio in portfolioList:\r\n",
    "        if folio.is_derived:\r\n",
    "            derived_ids.append((folio.id.scope, folio.id.code))\r\n",
    "        else:\r\n",
    "            parent_ids.append((folio.id.scope, folio.id.code))\r\n",
    "    return (parent_ids, derived_ids)\r\n",
    "\r\n",
    "\r\n",
    "def return_not_matches(a, b):\r\n",
    "    if type(b) is not tuple:\r\n",
    "        return [x for x in a if x not in b]\r\n",
    "    else:\r\n",
    "        return [x for x in a if x not in [b]]"
   ],
   "outputs": [],
   "metadata": {}
  },
  {
   "cell_type": "markdown",
   "source": [
    "Now we select the parent/derived portfolios we wish to keep or delete. Currently `portfolios_to_keep` is hardcoded to keep the derived portfolio that we created at the beginning of this example, and its parent portfolio.\n",
    "\n",
    "*Run the cell below to filter and separate portfolios to keep and delete in each scope*"
   ],
   "metadata": {}
  },
  {
   "cell_type": "code",
   "execution_count": 26,
   "source": [
    "# first combine all the portfolios in our two scopes\r\n",
    "all_portfolios_in_scopes = extract_ids(scope1_portfolios_list_response.values\r\n",
    "                                       + scope2_portfolios_list_response.values)\r\n",
    "parent_portfolios = all_portfolios_in_scopes[0]\r\n",
    "derived_portfolios = all_portfolios_in_scopes[1]\r\n",
    "\r\n",
    "# then combine the portfolios we're interested in keeping into a list\r\n",
    "# - just the first portfolio we created and its derived portfolio\r\n",
    "parents_to_keep = (derived_portfolio.parent_portfolio_id.scope, derived_portfolio.parent_portfolio_id.code)\r\n",
    "derived_to_keep = (derived_portfolio.id.scope, derived_portfolio.id.code)\r\n",
    "\r\n",
    "# we can now exclude portfolios to keep from the full list\r\n",
    "parents_to_delete = return_not_matches(parent_portfolios, parents_to_keep)\r\n",
    "derived_to_delete = return_not_matches(derived_portfolios, derived_to_keep)\r\n",
    "\r\n",
    "prettyprint.portfolio_filtering(\r\n",
    "    parents_to_keep, derived_to_keep, parents_to_delete, derived_to_delete)"
   ],
   "outputs": [
    {
     "output_type": "stream",
     "name": "stdout",
     "text": [
      "\u001b[91m\u001b[1mKeeping : \u001b[0m\n",
      "\u001b[94m\u001b[1m    Parents: \u001b[0m\n",
      "\u001b[1m    Scope : \u001b[0mportfolio_demo_38a5-0a6e-84e1-90\n",
      "\u001b[1m    Code : \u001b[0mportfolio-A-0d361b51-ffb8-4e9c-98b9-97f4afe07e08\n",
      "\n",
      "\u001b[94m\u001b[1m    Derived: \u001b[0m\n",
      "\u001b[1m    Scope : \u001b[0mportfolio_demo_38a5-0a6e-84e1-90\n",
      "\u001b[1m    Code : \u001b[0mderived-portfolio-A-35b88f95-22aa-41e0-9685-ee94b920f9ec\n",
      "\n",
      "\u001b[91m\u001b[1mDeleting : \u001b[0m\n",
      "\u001b[94m\u001b[1m    Parents: \u001b[0m\n",
      "\u001b[1m    Scope : \u001b[0mportfolio_demo_38a5-0a6e-84e1-90\n",
      "\u001b[1m    Code : \u001b[0mportfolio-B-48505cdd-a70e-4335-98e8-9aa53beeda19\n",
      "\n",
      "\u001b[1m    Scope : \u001b[0mportfolio_demo_38a5-0a6e-84e1-90\n",
      "\u001b[1m    Code : \u001b[0mportfolio-C-83ddedf3-dbe8-465a-a51f-f8092ae0bd7f\n",
      "\n",
      "\u001b[1m    Scope : \u001b[0mportfolio_demo_38a5-0a6e-84e1-90\n",
      "\u001b[1m    Code : \u001b[0mportfolio-D-d8480b12-1891-49ea-82c3-f622fd652ebb\n",
      "\n",
      "\u001b[1m    Scope : \u001b[0mportfolio_demo_38a5-0a6e-84e1-90\n",
      "\u001b[1m    Code : \u001b[0mportfolio-E-eedd3eed-015e-4071-b1e7-0db8d5c4c572\n",
      "\n",
      "\u001b[1m    Scope : \u001b[0mportfolio_demo_38a5-0a6e-84e1-90\n",
      "\u001b[1m    Code : \u001b[0mportfolio-F-707ff0a2-c025-41e6-b8b3-c9b92f429210\n",
      "\n",
      "\u001b[1m    Scope : \u001b[0mportfolio_demo_xyz_38a5-0a6e-84e1-90\n",
      "\u001b[1m    Code : \u001b[0mportfolio-X-6af65d97-8e74-4a3c-94ad-414fc7296d93\n",
      "\n",
      "\u001b[1m    Scope : \u001b[0mportfolio_demo_xyz_38a5-0a6e-84e1-90\n",
      "\u001b[1m    Code : \u001b[0mportfolio-Y-0e12296d-722d-41a4-ae80-6f906d9f02f9\n",
      "\n",
      "\u001b[94m\u001b[1m    Derived: \u001b[0m\n"
     ]
    }
   ],
   "metadata": {}
  },
  {
   "cell_type": "markdown",
   "source": [
    "With this filtering done, we can proceed with deleting unwanted portfolios. Deletion is done one portfolio at a time, therefore we must loop through the list of portfolios to delete. Derived portfolios are deleted first, followed by a separate loop to delete parent (top level - they may never have had derived portfolios attached) portfolios.\n",
    "\n",
    "*Run the cell below to delete all portfolios that are not being kept*"
   ],
   "metadata": {}
  },
  {
   "cell_type": "code",
   "execution_count": 27,
   "source": [
    "# Next we delete the derived portfolios first\r\n",
    "print(\"Deleting Derived Portfolios ... \")\r\n",
    "for portfolio in derived_to_delete:\r\n",
    "    response = api_factory.build(lusid.api.PortfoliosApi).delete_portfolio(\r\n",
    "        scope=portfolio[0],\r\n",
    "        code=portfolio[1])\r\n",
    "    print('Portfolio deleted : ', portfolio[0], portfolio[1])\r\n",
    "    print('At time : ', str(response.as_at))\r\n",
    "\r\n",
    "\r\n",
    "print(\"Deleting remaining Portfolios ... \")\r\n",
    "# Then we proceed with deleting the remaining parent portfolios\r\n",
    "for portfolio in parents_to_delete:\r\n",
    "    response = api_factory.build(lusid.api.PortfoliosApi).delete_portfolio(\r\n",
    "        scope=portfolio[0],\r\n",
    "        code=portfolio[1])\r\n",
    "    print('Portfolio deleted : ', portfolio[0], portfolio[1])\r\n",
    "    print('At time : ', str(response.as_at))"
   ],
   "outputs": [
    {
     "output_type": "stream",
     "name": "stdout",
     "text": [
      "Deleting Derived Portfolios ... \n",
      "Deleting remaining Portfolios ... \n",
      "Portfolio deleted :  portfolio_demo_38a5-0a6e-84e1-90 portfolio-B-48505cdd-a70e-4335-98e8-9aa53beeda19\n",
      "At time :  2020-07-10 18:38:38.962238+00:00\n",
      "Portfolio deleted :  portfolio_demo_38a5-0a6e-84e1-90 portfolio-C-83ddedf3-dbe8-465a-a51f-f8092ae0bd7f\n",
      "At time :  2020-07-10 18:38:40.022434+00:00\n",
      "Portfolio deleted :  portfolio_demo_38a5-0a6e-84e1-90 portfolio-D-d8480b12-1891-49ea-82c3-f622fd652ebb\n",
      "At time :  2020-07-10 18:38:40.994423+00:00\n",
      "Portfolio deleted :  portfolio_demo_38a5-0a6e-84e1-90 portfolio-E-eedd3eed-015e-4071-b1e7-0db8d5c4c572\n",
      "At time :  2020-07-10 18:38:41.894427+00:00\n",
      "Portfolio deleted :  portfolio_demo_38a5-0a6e-84e1-90 portfolio-F-707ff0a2-c025-41e6-b8b3-c9b92f429210\n",
      "At time :  2020-07-10 18:38:42.849627+00:00\n",
      "Portfolio deleted :  portfolio_demo_xyz_38a5-0a6e-84e1-90 portfolio-X-6af65d97-8e74-4a3c-94ad-414fc7296d93\n",
      "At time :  2020-07-10 18:38:43.916388+00:00\n",
      "Portfolio deleted :  portfolio_demo_xyz_38a5-0a6e-84e1-90 portfolio-Y-0e12296d-722d-41a4-ae80-6f906d9f02f9\n",
      "At time :  2020-07-10 18:38:44.366425+00:00\n"
     ]
    }
   ],
   "metadata": {}
  },
  {
   "cell_type": "markdown",
   "source": [
    "If we now re-list the portfolios in our scopes, we will see that only our two original portfolios remain, and one derived portfolio.  Note that scope 2 is now completely empty of portfolios.\n",
    "\n",
    "*Run the cell below to list all portfolios in both scopes at the latest time*"
   ],
   "metadata": {}
  },
  {
   "cell_type": "code",
   "execution_count": 28,
   "source": [
    "# We can re-run the list portfolios command to check what portfolios remain in each scope\r\n",
    "scope1_portfolios_list_response = api_factory.build(lusid.api.PortfoliosApi).list_portfolios_for_scope(\r\n",
    "    scope=scope1)\r\n",
    "\r\n",
    "scope2_portfolios_list_response = api_factory.build(lusid.api.PortfoliosApi).list_portfolios_for_scope(\r\n",
    "    scope=scope2)\r\n",
    "\r\n",
    "prettyprint.remaining_portfolios(scope1_portfolios_list_response, scope1)\r\n",
    "prettyprint.remaining_portfolios(scope2_portfolios_list_response, scope2)"
   ],
   "outputs": [
    {
     "output_type": "stream",
     "name": "stdout",
     "text": [
      "\u001b[91m\u001b[1mPortfolios remaining in scope: \u001b[0mportfolio_demo_38a5-0a6e-84e1-90:\n",
      "\u001b[1mDerived Portfolio Created\u001b[0m\n",
      "\u001b[1mScope: \u001b[0mportfolio_demo_38a5-0a6e-84e1-90\n",
      "\u001b[1mCode: \u001b[0mderived-portfolio-A-35b88f95-22aa-41e0-9685-ee94b920f9ec\n",
      "\u001b[1mPortfolio Effective From: \u001b[0m2018-01-01 00:00:00+00:00\n",
      "\u001b[1mPortfolio Created On: \u001b[0m2020-07-10 18:38:44.366425+00:00\n",
      "\n",
      "\u001b[1m   Parent Portfolio Details\u001b[0m\n",
      "\u001b[1m   Scope: \u001b[0mportfolio_demo_38a5-0a6e-84e1-90\n",
      "\u001b[1m   Code: \u001b[0mportfolio-A-0d361b51-ffb8-4e9c-98b9-97f4afe07e08\n",
      "\n",
      "\u001b[1mPortfolio Created\u001b[0m\n",
      "\u001b[1mScope: \u001b[0mportfolio_demo_38a5-0a6e-84e1-90\n",
      "\u001b[1mCode: \u001b[0mportfolio-A-0d361b51-ffb8-4e9c-98b9-97f4afe07e08\n",
      "\u001b[1mPortfolio Effective From: \u001b[0m2018-01-01 00:00:00+00:00\n",
      "\u001b[1mPortfolio Created On: \u001b[0m2020-07-10 18:38:44.366425+00:00\n",
      "\n",
      "\u001b[91m\u001b[1mPortfolios remaining in scope: \u001b[0mportfolio_demo_xyz_38a5-0a6e-84e1-90:\n"
     ]
    }
   ],
   "metadata": {}
  }
 ],
 "metadata": {
  "celltoolbar": "Raw Cell Format",
  "kernelspec": {
   "display_name": "Python 3",
   "language": "python",
   "name": "python3"
  },
  "language_info": {
   "codemirror_mode": {
    "name": "ipython",
    "version": 3
   },
   "file_extension": ".py",
   "mimetype": "text/x-python",
   "name": "python",
   "nbconvert_exporter": "python",
   "pygments_lexer": "ipython3",
   "version": "3.7.6"
  }
 },
 "nbformat": 4,
 "nbformat_minor": 2
}