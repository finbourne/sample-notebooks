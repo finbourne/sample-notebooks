{
 "cells": [
  {
   "cell_type": "code",
   "execution_count": 1,
   "metadata": {
    "pycharm": {
     "name": "#%%\n"
    }
   },
   "outputs": [
    {
     "data": {
      "text/plain": [
       "'Portfolios and Portfolio Groups\\n\\nDemonstrates how to do various operations with portfolios and portfolio groups.\\nAttributes\\n----------\\ntransactions\\nportfolios\\nportfolio groups\\ncorporate actions\\ncommands\\n'"
      ]
     },
     "execution_count": 1,
     "metadata": {},
     "output_type": "execute_result"
    }
   ],
   "source": [
    "\"\"\"Portfolios and Portfolio Groups\n",
    "\n",
    "Demonstrates how to do various operations with portfolios and portfolio groups.\n",
    "Attributes\n",
    "----------\n",
    "transactions\n",
    "portfolios\n",
    "portfolio groups\n",
    "corporate actions\n",
    "commands\n",
    "\"\"\""
   ]
  },
  {
   "cell_type": "markdown",
   "metadata": {},
   "source": [
    "## Portfolios and Portfolio Groups"
   ]
  },
  {
   "cell_type": "markdown",
   "metadata": {},
   "source": [
    "Portfolios in LUSID are used to contain transactions, and come in multiple forms based on hierarchy and use case. The basic portfolio types are :\n",
    "- Transaction Portfolios\n",
    "- Reference Portfolios\n",
    "- Derived Portfolios\n",
    "\n",
    "[LUSID Knowledge Base: Portfolios](https://support.lusid.com/what-is-2)\n",
    "\n",
    "These portfolios can then be grouped, where portfolio operations on the group are applied to an aggregated set of portfolios in the hierarchy. \n",
    "\n",
    "[LUSID Knowledge Base: Portfolio Groups](https://support.lusid.com/how-do-you-group-and-aggregate-portfolios)\n",
    "\n",
    "This example will show how to :\n",
    "1. Create Transactions Portfolios\n",
    "2. Create Derived Portfolios\n",
    "3. Portfolio Details\n",
    "    - 3.1. Get Details\n",
    "    - 3.2. Add/Modify Details\n",
    "    - 3.3. Delete Details\n",
    "4. Create Portfolio Groups\n",
    "5. Add Portfolios to a Group\n",
    "6. Get Portfolio Group Details\n",
    "7. Add a Group to a Group (Creation of Subgroups)\n",
    "8. Modify Groups\n",
    "9. Get Full Expansion of Group\n",
    "10. Remove Portfolios and Subgroups from Groups\n",
    "11. Delete Groups\n",
    "12. Get Group Commands\n",
    "13. List Groups in Scope\n",
    "14. List Portfolios in Scope\n",
    "15. Delete Portfolios"
   ]
  },
  {
   "cell_type": "markdown",
   "metadata": {},
   "source": [
    "Initialise our environment and connect to LUSID\n",
    "\n",
    "*Run the cell below to initialise the environment*"
   ]
  },
  {
   "cell_type": "code",
   "execution_count": 2,
   "metadata": {},
   "outputs": [
    {
     "name": "stdout",
     "output_type": "stream",
     "text": [
      "LUSID Environment Initialised\n",
      "LUSID version :  0.6.4789.0\n"
     ]
    }
   ],
   "source": [
    "# Import LUSID\n",
    "import lusid\n",
    "import lusid.models as models\n",
    "import lusid_sample_data as import_data\n",
    "from lusidtools.cocoon.utilities import create_scope_id\n",
    "from lusidjam import RefreshingToken\n",
    "\n",
    "# Import Libraries\n",
    "import pprint\n",
    "from datetime import datetime, timedelta, time\n",
    "import pytz\n",
    "import uuid\n",
    "import printer as prettyprint\n",
    "from datetime import datetime\n",
    "import pandas as pd\n",
    "import numpy as np\n",
    "import os\n",
    "\n",
    "# Authenticate our user and create our API client\n",
    "secrets_path = os.getenv(\"FBN_SECRETS_PATH\")\n",
    "\n",
    "api_factory = lusid.utilities.ApiClientFactory(\n",
    "    token=RefreshingToken(),\n",
    "    api_secrets_filename = secrets_path,\n",
    "    app_name=\"LusidJupyterNotebook\")\n",
    "\n",
    "print('LUSID Environment Initialised')\n",
    "print('LUSID version : ', api_factory.build(lusid.api.ApplicationMetadataApi).get_lusid_versions().build_version)"
   ]
  },
  {
   "cell_type": "markdown",
   "metadata": {},
   "source": [
    "First we start by loading some default portfolios, we will put them in two different scopes to demonstrate the separation between scopes and the usage of different scopes within portfolio groups.\n",
    "\n",
    "- Note: In order to demonstrate the deletion more clearly at then end of this example, run the portfolio creation more than once, and the derived portfolio creation 2-3 times as well, this will create a population of unnecessary portfolios that can be safely removed without affecting the portfolios of interest. It is not necessary to do this, the deletion example still works with a single set of portfolios"
   ]
  },
  {
   "cell_type": "markdown",
   "metadata": {},
   "source": [
    "### Initial Setup\n",
    "*Run the cell below to load a csv of portfolio names*"
   ]
  },
  {
   "cell_type": "code",
   "execution_count": 3,
   "metadata": {},
   "outputs": [
    {
     "data": {
      "text/html": [
       "<div>\n",
       "<style scoped>\n",
       "    .dataframe tbody tr th:only-of-type {\n",
       "        vertical-align: middle;\n",
       "    }\n",
       "\n",
       "    .dataframe tbody tr th {\n",
       "        vertical-align: top;\n",
       "    }\n",
       "\n",
       "    .dataframe thead th {\n",
       "        text-align: right;\n",
       "    }\n",
       "</style>\n",
       "<table border=\"1\" class=\"dataframe\">\n",
       "  <thead>\n",
       "    <tr style=\"text-align: right;\">\n",
       "      <th></th>\n",
       "      <th>display_name</th>\n",
       "      <th>base_currency</th>\n",
       "    </tr>\n",
       "  </thead>\n",
       "  <tbody>\n",
       "    <tr>\n",
       "      <th>0</th>\n",
       "      <td>portfolio-A</td>\n",
       "      <td>GBP</td>\n",
       "    </tr>\n",
       "    <tr>\n",
       "      <th>1</th>\n",
       "      <td>portfolio-B</td>\n",
       "      <td>GBP</td>\n",
       "    </tr>\n",
       "    <tr>\n",
       "      <th>2</th>\n",
       "      <td>portfolio-C</td>\n",
       "      <td>GBP</td>\n",
       "    </tr>\n",
       "    <tr>\n",
       "      <th>3</th>\n",
       "      <td>portfolio-D</td>\n",
       "      <td>GBP</td>\n",
       "    </tr>\n",
       "    <tr>\n",
       "      <th>4</th>\n",
       "      <td>portfolio-E</td>\n",
       "      <td>GBP</td>\n",
       "    </tr>\n",
       "  </tbody>\n",
       "</table>\n",
       "</div>"
      ],
      "text/plain": [
       "  display_name base_currency\n",
       "0  portfolio-A           GBP\n",
       "1  portfolio-B           GBP\n",
       "2  portfolio-C           GBP\n",
       "3  portfolio-D           GBP\n",
       "4  portfolio-E           GBP"
      ]
     },
     "execution_count": 3,
     "metadata": {},
     "output_type": "execute_result"
    }
   ],
   "source": [
    "# Use pandas to read a csv containing the information needed to create some portfolios\n",
    "df = pd.read_csv(\"data/dummy_portfolios_names.csv\")\n",
    "df.head()"
   ]
  },
  {
   "cell_type": "code",
   "execution_count": 4,
   "metadata": {},
   "outputs": [
    {
     "name": "stdout",
     "output_type": "stream",
     "text": [
      "Scope1 :  portfolio_demo_38a5-0a6e-84e1-90\n",
      "Scope2 :  portfolio_demo_xyz_38a5-0a6e-84e1-90\n"
     ]
    }
   ],
   "source": [
    "# Create Two Scopes\n",
    "scope1 = f'portfolio_demo_{create_scope_id()}'\n",
    "scope2 = f'portfolio_demo_xyz_{create_scope_id()}'\n",
    "print(\"Scope1 : \", scope1)\n",
    "print(\"Scope2 : \", scope2)"
   ]
  },
  {
   "cell_type": "markdown",
   "metadata": {},
   "source": [
    "The cell below contains a number of helper functions used throughout this notebook - these are not necessary for any of the methods demonstrated, but simplify the readability and usability of this module"
   ]
  },
  {
   "cell_type": "code",
   "execution_count": 5,
   "metadata": {},
   "outputs": [],
   "source": [
    "# The following function creates a random alphanumeric code of 4 characters that can be appended to Ids\n",
    "# and Names to ensure they remain unique throughout multiple runs of this example\n",
    "def get_guid():\n",
    "    return str(uuid.uuid4())\n",
    "\n",
    "# The following function extracts resource ids from a list of portfolios\n",
    "def get_resource_ids_from_response(responses):\n",
    "    resource_id_list = []\n",
    "    for portfolio in responses:\n",
    "        resource_id_list.append(portfolio.id)\n",
    "    return resource_id_list"
   ]
  },
  {
   "cell_type": "markdown",
   "metadata": {},
   "source": [
    "## 1. Create Transactions Portfolios\n",
    "We begin by upserting the csv data into LUSID in the form of new transaction portfolios\n",
    "\n",
    "*Run the cell below to create portfolios and print their information*"
   ]
  },
  {
   "cell_type": "code",
   "execution_count": 6,
   "metadata": {},
   "outputs": [
    {
     "name": "stdout",
     "output_type": "stream",
     "text": [
      "Creating portfolio  0\n",
      "...\n",
      "Creating portfolio  1\n",
      "...\n",
      "Creating portfolio  2\n",
      "...\n",
      "Creating portfolio  3\n",
      "...\n",
      "Creating portfolio  4\n",
      "...\n",
      "Creating portfolio  5\n",
      "...\n",
      "Creating portfolio  6\n",
      "...\n",
      "Creating portfolio  7\n",
      "...\n",
      "\u001b[1mPortfolio Created\u001b[0m\n",
      "\u001b[1mScope: \u001b[0mportfolio_demo_38a5-0a6e-84e1-90\n",
      "\u001b[1mCode: \u001b[0mportfolio-A-0d361b51-ffb8-4e9c-98b9-97f4afe07e08\n",
      "\u001b[1mPortfolio Effective From: \u001b[0m2018-01-01 00:00:00+00:00\n",
      "\u001b[1mPortfolio Created On: \u001b[0m2020-07-10 18:38:11.530048+00:00\n",
      "\n",
      "\u001b[1mPortfolio Created\u001b[0m\n",
      "\u001b[1mScope: \u001b[0mportfolio_demo_38a5-0a6e-84e1-90\n",
      "\u001b[1mCode: \u001b[0mportfolio-B-48505cdd-a70e-4335-98e8-9aa53beeda19\n",
      "\u001b[1mPortfolio Effective From: \u001b[0m2018-01-01 00:00:00+00:00\n",
      "\u001b[1mPortfolio Created On: \u001b[0m2020-07-10 18:38:12.270559+00:00\n",
      "\n",
      "\u001b[1mPortfolio Created\u001b[0m\n",
      "\u001b[1mScope: \u001b[0mportfolio_demo_38a5-0a6e-84e1-90\n",
      "\u001b[1mCode: \u001b[0mportfolio-C-83ddedf3-dbe8-465a-a51f-f8092ae0bd7f\n",
      "\u001b[1mPortfolio Effective From: \u001b[0m2018-01-01 00:00:00+00:00\n",
      "\u001b[1mPortfolio Created On: \u001b[0m2020-07-10 18:38:13.138666+00:00\n",
      "\n",
      "\u001b[1mPortfolio Created\u001b[0m\n",
      "\u001b[1mScope: \u001b[0mportfolio_demo_38a5-0a6e-84e1-90\n",
      "\u001b[1mCode: \u001b[0mportfolio-D-d8480b12-1891-49ea-82c3-f622fd652ebb\n",
      "\u001b[1mPortfolio Effective From: \u001b[0m2018-01-01 00:00:00+00:00\n",
      "\u001b[1mPortfolio Created On: \u001b[0m2020-07-10 18:38:13.897665+00:00\n",
      "\n",
      "\u001b[1mPortfolio Created\u001b[0m\n",
      "\u001b[1mScope: \u001b[0mportfolio_demo_38a5-0a6e-84e1-90\n",
      "\u001b[1mCode: \u001b[0mportfolio-E-eedd3eed-015e-4071-b1e7-0db8d5c4c572\n",
      "\u001b[1mPortfolio Effective From: \u001b[0m2018-01-01 00:00:00+00:00\n",
      "\u001b[1mPortfolio Created On: \u001b[0m2020-07-10 18:38:14.529720+00:00\n",
      "\n",
      "\u001b[1mPortfolio Created\u001b[0m\n",
      "\u001b[1mScope: \u001b[0mportfolio_demo_38a5-0a6e-84e1-90\n",
      "\u001b[1mCode: \u001b[0mportfolio-F-707ff0a2-c025-41e6-b8b3-c9b92f429210\n",
      "\u001b[1mPortfolio Effective From: \u001b[0m2018-01-01 00:00:00+00:00\n",
      "\u001b[1mPortfolio Created On: \u001b[0m2020-07-10 18:38:15.420870+00:00\n",
      "\n",
      "\u001b[1mPortfolio Created\u001b[0m\n",
      "\u001b[1mScope: \u001b[0mportfolio_demo_xyz_38a5-0a6e-84e1-90\n",
      "\u001b[1mCode: \u001b[0mportfolio-X-6af65d97-8e74-4a3c-94ad-414fc7296d93\n",
      "\u001b[1mPortfolio Effective From: \u001b[0m2018-01-01 00:00:00+00:00\n",
      "\u001b[1mPortfolio Created On: \u001b[0m2020-07-10 18:38:16.434430+00:00\n",
      "\n",
      "\u001b[1mPortfolio Created\u001b[0m\n",
      "\u001b[1mScope: \u001b[0mportfolio_demo_xyz_38a5-0a6e-84e1-90\n",
      "\u001b[1mCode: \u001b[0mportfolio-Y-0e12296d-722d-41a4-ae80-6f906d9f02f9\n",
      "\u001b[1mPortfolio Effective From: \u001b[0m2018-01-01 00:00:00+00:00\n",
      "\u001b[1mPortfolio Created On: \u001b[0m2020-07-10 18:38:17.189518+00:00\n",
      "\n"
     ]
    }
   ],
   "source": [
    "# Create our portfolios from the loaded CSV data\n",
    "effective_date = datetime(2018, 1, 1, tzinfo=pytz.utc).isoformat()\n",
    "created_portfolios = []\n",
    "for index, row in df.iterrows():\n",
    "    print(\"Creating portfolio \", index)\n",
    "    guid = get_guid()\n",
    "    # Select the scope for each portfolio based on currency, for demonstration purposes we will\n",
    "    # split GBP based portfolios into scope 1 and USD based portfolios into scope 2\n",
    "    if row['base_currency'] == 'USD':\n",
    "        portfolio_scope = scope2\n",
    "    else:\n",
    "        portfolio_scope = scope1\n",
    "    # Next we create a request for the portfolio\n",
    "    request = models.CreateTransactionPortfolioRequest(\n",
    "        code=row['display_name']+'-'+guid,\n",
    "        display_name=row['display_name'],\n",
    "        base_currency=row['base_currency'],\n",
    "        created=effective_date,\n",
    "        description=None,\n",
    "        corporate_action_source_id=None,\n",
    "        accounting_method=None,\n",
    "        sub_holding_keys=None,\n",
    "        properties=None)\n",
    "    # And finally we can upsert the portfolio creation request to LUSID\n",
    "    result = api_factory.build(lusid.api.TransactionPortfoliosApi).create_portfolio(\n",
    "        scope=portfolio_scope,\n",
    "        create_transaction_portfolio_request=request)\n",
    "    # Save the portfolio to a list for easy access later on\n",
    "    created_portfolios.append(result)\n",
    "    print('...')\n",
    "\n",
    "# we can now prettyprint all our portfolio responses to see the info on each new portfolio\n",
    "for portfolio in created_portfolios:\n",
    "    prettyprint.portfolio_response(portfolio)"
   ]
  },
  {
   "cell_type": "markdown",
   "metadata": {},
   "source": [
    "## 2. Create Derived Portfolio\n",
    "We then create one derived portfolio from the first transaction portfolio created.\n",
    "\n",
    "[LUSID Knowledge Base: Derived Portfolio](https://support.lusid.com/what-is-a-derived-portfolio-and-how-are-they-used) \n",
    "\n",
    "*Run the cell below to create a derived portfolio and print its information*"
   ]
  },
  {
   "cell_type": "code",
   "execution_count": 7,
   "metadata": {
    "raw_mimetype": "text/x-python"
   },
   "outputs": [
    {
     "name": "stdout",
     "output_type": "stream",
     "text": [
      "\u001b[1mDerived Portfolio Created\u001b[0m\n",
      "\u001b[1mScope: \u001b[0mportfolio_demo_38a5-0a6e-84e1-90\n",
      "\u001b[1mCode: \u001b[0mderived-portfolio-A-35b88f95-22aa-41e0-9685-ee94b920f9ec\n",
      "\u001b[1mPortfolio Effective From: \u001b[0m2018-01-01 00:00:00+00:00\n",
      "\u001b[1mPortfolio Created On: \u001b[0m2020-07-10 18:38:18.294584+00:00\n",
      "\n",
      "\u001b[1m   Parent Portfolio Details\u001b[0m\n",
      "\u001b[1m   Scope: \u001b[0mportfolio_demo_38a5-0a6e-84e1-90\n",
      "\u001b[1m   Code: \u001b[0mportfolio-A-0d361b51-ffb8-4e9c-98b9-97f4afe07e08\n",
      "\n"
     ]
    }
   ],
   "source": [
    "# Create derived transaction portfolio from the first portfolio in the list\n",
    "guid = get_guid()\n",
    "\n",
    "derived_portfolio_request = models.CreateDerivedTransactionPortfolioRequest(\n",
    "    # this uses the portfolio name\n",
    "    display_name=\"derived-\"+created_portfolios[0].display_name,\n",
    "    code=\"derived-\"+created_portfolios[0].display_name+'-'+guid,\n",
    "    parent_portfolio_id=models.ResourceId(\n",
    "        scope=created_portfolios[0].id.scope,\n",
    "        code=created_portfolios[0].id.code),\n",
    "    description=\"derived_portfolio_description\",\n",
    "    created=created_portfolios[0].created,\n",
    "    corporate_action_source_id=None,\n",
    "    accounting_method=None,\n",
    "    sub_holding_keys=None)\n",
    "\n",
    "derived_portfolio = api_factory.build(lusid.api.DerivedTransactionPortfoliosApi).create_derived_portfolio(\n",
    "    scope=scope1,\n",
    "    create_derived_transaction_portfolio_request=derived_portfolio_request)\n",
    "\n",
    "prettyprint.portfolio_response(derived_portfolio)"
   ]
  },
  {
   "cell_type": "markdown",
   "metadata": {},
   "source": [
    "## 3. Portfolio Details\n",
    "#### 3.1 Get Details\n",
    "A derived portfolio will automatically inherit all of the parent portfolio's details if they are not specified. These details can be modified and/or deleted. \n",
    "Modifying the details on a derived portfolio will not affect the parent portfolio. This is demonstrated in the following cells\n",
    "\n",
    "*Run the cell below to get details on the derived portfolio*"
   ]
  },
  {
   "cell_type": "code",
   "execution_count": 8,
   "metadata": {},
   "outputs": [
    {
     "name": "stdout",
     "output_type": "stream",
     "text": [
      "Derived Portfolio Details : \n",
      "\u001b[91m\u001b[1mPortfolio Details: \u001b[0m\n",
      "\u001b[1mDetail Origin Portfolio Scope: \u001b[0mportfolio_demo_38a5-0a6e-84e1-90\n",
      "\u001b[1mDetail Origin Portfolio Code: \u001b[0mderived-portfolio-A-35b88f95-22aa-41e0-9685-ee94b920f9ec\n",
      "\u001b[1mBase Currency: \u001b[0mGBP\n",
      "\u001b[1mCorporate Action Source Id: \u001b[0mNone\n",
      "\n",
      "\n",
      "Parent Portfolio Details : \n",
      "\u001b[91m\u001b[1mPortfolio Details: \u001b[0m\n",
      "\u001b[1mDetail Origin Portfolio Scope: \u001b[0mportfolio_demo_38a5-0a6e-84e1-90\n",
      "\u001b[1mDetail Origin Portfolio Code: \u001b[0mportfolio-A-0d361b51-ffb8-4e9c-98b9-97f4afe07e08\n",
      "\u001b[1mBase Currency: \u001b[0mGBP\n",
      "\u001b[1mCorporate Action Source Id: \u001b[0mNone\n",
      "\n",
      "\n"
     ]
    }
   ],
   "source": [
    "# First we will get the details for our new derived portfolio\n",
    "# and check they match with the parent portfolio\n",
    "derived_details = api_factory.build(lusid.api.TransactionPortfoliosApi).get_details(\n",
    "    scope=scope1,\n",
    "    code=derived_portfolio.id.code)\n",
    "print(\"Derived Portfolio Details : \")\n",
    "prettyprint.portfolio_details_response(derived_details)\n",
    "\n",
    "print(\"Parent Portfolio Details : \")\n",
    "parent_details = api_factory.build(lusid.api.TransactionPortfoliosApi).get_details(\n",
    "    scope=scope1,\n",
    "    code=created_portfolios[0].id.code)\n",
    "prettyprint.portfolio_details_response(parent_details)"
   ]
  },
  {
   "cell_type": "markdown",
   "metadata": {},
   "source": [
    "#### 3.2 Add/Modify Details\n",
    "Now we can modify the derived portfolio details by adding a Corporate Action Source so it no longer matches the parent portfolio\n",
    "\n",
    "*Run the cell below to modify the details of the derived portfolio*"
   ]
  },
  {
   "cell_type": "code",
   "execution_count": 9,
   "metadata": {},
   "outputs": [
    {
     "name": "stdout",
     "output_type": "stream",
     "text": [
      "Derived Portfolio Details : \n",
      "\u001b[91m\u001b[1mPortfolio Details: \u001b[0m\n",
      "\u001b[1mDetail Origin Portfolio Scope: \u001b[0mportfolio_demo_38a5-0a6e-84e1-90\n",
      "\u001b[1mDetail Origin Portfolio Code: \u001b[0mderived-portfolio-A-35b88f95-22aa-41e0-9685-ee94b920f9ec\n",
      "\u001b[1mBase Currency: \u001b[0mGBP\n",
      "\u001b[1mCorporate Action Source Id: \u001b[0m{'code': 'derived-portfolio-A-35b88f95-22aa-41e0-9685-ee94b920f9ec',\n",
      " 'scope': 'portfolio_demo_38a5-0a6e-84e1-90'}\n",
      "\n",
      "\n",
      "Parent Portfolio Details : \n",
      "\u001b[91m\u001b[1mPortfolio Details: \u001b[0m\n",
      "\u001b[1mDetail Origin Portfolio Scope: \u001b[0mportfolio_demo_38a5-0a6e-84e1-90\n",
      "\u001b[1mDetail Origin Portfolio Code: \u001b[0mportfolio-A-0d361b51-ffb8-4e9c-98b9-97f4afe07e08\n",
      "\u001b[1mBase Currency: \u001b[0mGBP\n",
      "\u001b[1mCorporate Action Source Id: \u001b[0mNone\n",
      "\n",
      "\n"
     ]
    }
   ],
   "source": [
    "response = api_factory.build(lusid.api.CorporateActionSourcesApi).create_corporate_action_source(\n",
    "    create_corporate_action_source_request=models.CreateCorporateActionSourceRequest(\n",
    "        scope=scope1,\n",
    "        code=derived_portfolio.id.code,\n",
    "        display_name=f\"Corporate Actions for {derived_portfolio.id.code}\")\n",
    ")\n",
    "\n",
    "request = models.CreatePortfolioDetails(\n",
    "    corporate_action_source_id=models.ResourceId(\n",
    "        scope=scope1,\n",
    "        code=derived_portfolio.id.code)\n",
    ")\n",
    "\n",
    "response = api_factory.build(lusid.api.TransactionPortfoliosApi).upsert_portfolio_details(\n",
    "    scope=scope1,\n",
    "    code=derived_portfolio.id.code,\n",
    "    create_portfolio_details=request)\n",
    "print(\"Derived Portfolio Details : \")\n",
    "prettyprint.portfolio_details_response(response)\n",
    "\n",
    "print(\"Parent Portfolio Details : \")\n",
    "parent_details = api_factory.build(lusid.api.TransactionPortfoliosApi).get_details(\n",
    "    scope=scope1,\n",
    "    code=created_portfolios[0].id.code)\n",
    "prettyprint.portfolio_details_response(parent_details)"
   ]
  },
  {
   "cell_type": "markdown",
   "metadata": {},
   "source": [
    "#### 3.3 Delete Details\n",
    "Now we can delete portfolio details. Note how after deleting the details on the derived portfolio, the response returns the scope and code of the parent portfolio, since `get_details` only returns the id of the portfolio from which the details originate - not the portfolio being queried.\n",
    "\n",
    "*Run the cell below to delete the details of the derived portfolio*"
   ]
  },
  {
   "cell_type": "code",
   "execution_count": 10,
   "metadata": {},
   "outputs": [
    {
     "name": "stdout",
     "output_type": "stream",
     "text": [
      "Derived Portfolio Details : \n",
      "\u001b[91m\u001b[1mPortfolio Details: \u001b[0m\n",
      "\u001b[1mDetail Origin Portfolio Scope: \u001b[0mportfolio_demo_38a5-0a6e-84e1-90\n",
      "\u001b[1mDetail Origin Portfolio Code: \u001b[0mderived-portfolio-A-35b88f95-22aa-41e0-9685-ee94b920f9ec\n",
      "\u001b[1mBase Currency: \u001b[0mGBP\n",
      "\u001b[1mCorporate Action Source Id: \u001b[0mNone\n",
      "\n",
      "\n",
      "Parent Portfolio Details : \n",
      "\u001b[91m\u001b[1mPortfolio Details: \u001b[0m\n",
      "\u001b[1mDetail Origin Portfolio Scope: \u001b[0mportfolio_demo_38a5-0a6e-84e1-90\n",
      "\u001b[1mDetail Origin Portfolio Code: \u001b[0mportfolio-A-0d361b51-ffb8-4e9c-98b9-97f4afe07e08\n",
      "\u001b[1mBase Currency: \u001b[0mGBP\n",
      "\u001b[1mCorporate Action Source Id: \u001b[0mNone\n",
      "\n",
      "\n"
     ]
    }
   ],
   "source": [
    "response = api_factory.build(lusid.api.DerivedTransactionPortfoliosApi).delete_derived_portfolio_details(\n",
    "    scope=scope1,\n",
    "    code=derived_portfolio.id.code\n",
    ")\n",
    "\n",
    "derived_details = api_factory.build(lusid.api.TransactionPortfoliosApi).get_details(\n",
    "    scope=scope1,\n",
    "    code=derived_portfolio.id.code)\n",
    "\n",
    "print(\"Derived Portfolio Details : \")\n",
    "prettyprint.portfolio_details_response(derived_details)\n",
    "\n",
    "print(\"Parent Portfolio Details : \")\n",
    "parent_details = api_factory.build(lusid.api.TransactionPortfoliosApi).get_details(\n",
    "    scope=scope1,\n",
    "    code=created_portfolios[0].id.code)\n",
    "prettyprint.portfolio_details_response(parent_details)"
   ]
  },
  {
   "cell_type": "markdown",
   "metadata": {},
   "source": [
    "## 4. Create Portfolio Group\n",
    "Next we can create some portfolio groups. We will then demonstrate the process of adding portfolios to a group, creating subgroups, and modifying group information.\n",
    "\n",
    "To begin with, let's create a group in our main scope that contains all the GBP parent portfolios.\n",
    "\n",
    "Note that the second group will be in a different scope to the first, it is entirely possible to combine portfolios and groups in different scopes.\n",
    "\n",
    "*Run the cell below to create a pre-populate portfolio group*"
   ]
  },
  {
   "cell_type": "code",
   "execution_count": 11,
   "metadata": {},
   "outputs": [
    {
     "name": "stdout",
     "output_type": "stream",
     "text": [
      "\u001b[91m\u001b[1mPortfolio Group Created\u001b[0m\n",
      "\u001b[1mName: \u001b[0mportfolio_group1_name\n",
      "\u001b[1mScope: \u001b[0mportfolio_demo_38a5-0a6e-84e1-90\n",
      "\u001b[1mCode: \u001b[0mportfolio_group-c0bd3b5f-20cf-4254-8fab-101c1aca7a48\n",
      "\u001b[1mPortfolios Inside Group: \u001b[0m\n",
      "portfolio-F-707ff0a2-c025-41e6-b8b3-c9b92f429210\n",
      "portfolio-A-0d361b51-ffb8-4e9c-98b9-97f4afe07e08\n",
      "portfolio-E-eedd3eed-015e-4071-b1e7-0db8d5c4c572\n",
      "portfolio-B-48505cdd-a70e-4335-98e8-9aa53beeda19\n",
      "portfolio-D-d8480b12-1891-49ea-82c3-f622fd652ebb\n",
      "portfolio-C-83ddedf3-dbe8-465a-a51f-f8092ae0bd7f\n",
      "\n",
      "\n"
     ]
    }
   ],
   "source": [
    "# Create a portfolio group -- create two\n",
    "# -- The first group we will create with all the portfolios in the first scope\n",
    "# -- we can use a helper function to obtain a list of resource ids for this\n",
    "scope_1_portfolios = [(x) for x in created_portfolios if x.id.scope == scope1]\n",
    "scope_1_resource_ids = get_resource_ids_from_response(scope_1_portfolios)\n",
    "\n",
    "# Create group 1 with the parent portfolios of scope 1 in it\n",
    "guid = get_guid()\n",
    "\n",
    "group_request1 = models.CreatePortfolioGroupRequest(\n",
    "    code=\"portfolio_group-{0}\".format(guid),\n",
    "    display_name=\"portfolio_group1_name\",\n",
    "    created=effective_date,\n",
    "    values=scope_1_resource_ids,\n",
    "    sub_groups=None,\n",
    "    description=None)\n",
    "\n",
    "portfolio_group1 = api_factory.build(lusid.api.PortfolioGroupsApi).create_portfolio_group(\n",
    "    scope=scope1,\n",
    "    create_portfolio_group_request=group_request1)\n",
    "\n",
    "prettyprint.portfolio_group_response(portfolio_group1, 'created')"
   ]
  },
  {
   "cell_type": "markdown",
   "metadata": {},
   "source": [
    "## 5. Add Portfolio To Group\n",
    "So we have one group pre-populated with the portfolios in the first scope `portfolio_demo_abc`. Since the derived portfolio hasn't been included in the first group, we can add it in now to Group 1.\n",
    "\n",
    "*Run the cell below to add the derived portfolio to group 1*"
   ]
  },
  {
   "cell_type": "code",
   "execution_count": 12,
   "metadata": {},
   "outputs": [
    {
     "name": "stdout",
     "output_type": "stream",
     "text": [
      "\u001b[91m\u001b[1mPortfolio Group: \u001b[0m\n",
      "\u001b[1mName: \u001b[0mportfolio_group1_name\n",
      "\u001b[1mScope: \u001b[0mportfolio_demo_38a5-0a6e-84e1-90\n",
      "\u001b[1mCode: \u001b[0mportfolio_group-c0bd3b5f-20cf-4254-8fab-101c1aca7a48\n",
      "\u001b[1mPortfolios Inside Group: \u001b[0m\n",
      "derived-portfolio-A-35b88f95-22aa-41e0-9685-ee94b920f9ec\n",
      "portfolio-E-eedd3eed-015e-4071-b1e7-0db8d5c4c572\n",
      "portfolio-C-83ddedf3-dbe8-465a-a51f-f8092ae0bd7f\n",
      "portfolio-D-d8480b12-1891-49ea-82c3-f622fd652ebb\n",
      "portfolio-A-0d361b51-ffb8-4e9c-98b9-97f4afe07e08\n",
      "portfolio-F-707ff0a2-c025-41e6-b8b3-c9b92f429210\n",
      "portfolio-B-48505cdd-a70e-4335-98e8-9aa53beeda19\n",
      "\u001b[94m\u001b[1mSubgroups Inside Group: \u001b[0m\n",
      "\n",
      "\n"
     ]
    }
   ],
   "source": [
    "# adding the derived portfolio to group 1 :\n",
    "add_response = api_factory.build(lusid.api.PortfolioGroupsApi).add_portfolio_to_group(\n",
    "    scope=portfolio_group1.id.scope,\n",
    "    code=portfolio_group1.id.code,\n",
    "    resource_id=derived_portfolio.id,\n",
    "    effective_at=portfolio_group1.created)\n",
    "\n",
    "prettyprint.get_portfolio_group_response(add_response)"
   ]
  },
  {
   "cell_type": "markdown",
   "metadata": {},
   "source": [
    "## 6. Get Portfolio Group Details\n",
    "We can now compare two methods of obtaining groups from LUSID. The first is `get portfolio group` while the second is `get portfolio group expansion`. The difference here is that the first method will return only information about the specified group, including the ids of the portfolios and subgroups it contains, but not any further details of its portfolios and subgroups. The second method will not only return this basic information, but also the full details of each portfolio in the group and each portfolio in every subgroup as well. "
   ]
  },
  {
   "cell_type": "markdown",
   "metadata": {},
   "source": [
    "First we compare group 1 at the time of creation and at the most up-to-date time below, so we can see the changes that have been made to it since we created it using `get portfolio group`. The only expected difference right now will be the added derived portfolio. We will demonstrate the expanded method further on.\n",
    "\n",
    "*Run the cell below to compare the group info now and at time of creation*"
   ]
  },
  {
   "cell_type": "code",
   "execution_count": 13,
   "metadata": {},
   "outputs": [
    {
     "name": "stdout",
     "output_type": "stream",
     "text": [
      "Group 1 at time of creation\n",
      "\u001b[91m\u001b[1mPortfolio Group: \u001b[0m\n",
      "\u001b[1mName: \u001b[0mportfolio_group1_name\n",
      "\u001b[1mScope: \u001b[0mportfolio_demo_38a5-0a6e-84e1-90\n",
      "\u001b[1mCode: \u001b[0mportfolio_group-c0bd3b5f-20cf-4254-8fab-101c1aca7a48\n",
      "\u001b[1mPortfolios Inside Group: \u001b[0m\n",
      "portfolio-F-707ff0a2-c025-41e6-b8b3-c9b92f429210\n",
      "portfolio-A-0d361b51-ffb8-4e9c-98b9-97f4afe07e08\n",
      "portfolio-E-eedd3eed-015e-4071-b1e7-0db8d5c4c572\n",
      "portfolio-B-48505cdd-a70e-4335-98e8-9aa53beeda19\n",
      "portfolio-D-d8480b12-1891-49ea-82c3-f622fd652ebb\n",
      "portfolio-C-83ddedf3-dbe8-465a-a51f-f8092ae0bd7f\n",
      "\u001b[94m\u001b[1mSubgroups Inside Group: \u001b[0m\n",
      "\n",
      "\n",
      "\n",
      "Group 1 at latest time\n",
      "\u001b[91m\u001b[1mPortfolio Group: \u001b[0m\n",
      "\u001b[1mName: \u001b[0mportfolio_group1_name\n",
      "\u001b[1mScope: \u001b[0mportfolio_demo_38a5-0a6e-84e1-90\n",
      "\u001b[1mCode: \u001b[0mportfolio_group-c0bd3b5f-20cf-4254-8fab-101c1aca7a48\n",
      "\u001b[1mPortfolios Inside Group: \u001b[0m\n",
      "portfolio-A-0d361b51-ffb8-4e9c-98b9-97f4afe07e08\n",
      "portfolio-F-707ff0a2-c025-41e6-b8b3-c9b92f429210\n",
      "portfolio-D-d8480b12-1891-49ea-82c3-f622fd652ebb\n",
      "portfolio-C-83ddedf3-dbe8-465a-a51f-f8092ae0bd7f\n",
      "derived-portfolio-A-35b88f95-22aa-41e0-9685-ee94b920f9ec\n",
      "portfolio-E-eedd3eed-015e-4071-b1e7-0db8d5c4c572\n",
      "portfolio-B-48505cdd-a70e-4335-98e8-9aa53beeda19\n",
      "\u001b[94m\u001b[1mSubgroups Inside Group: \u001b[0m\n",
      "\n",
      "\n"
     ]
    }
   ],
   "source": [
    "# Get portfolio group now\n",
    "updated_group1 = api_factory.build(lusid.api.PortfolioGroupsApi).get_portfolio_group(\n",
    "    scope=portfolio_group1.id.scope,\n",
    "    code=portfolio_group1.id.code)\n",
    "\n",
    "# Get portfolio group 1 prior to the update\n",
    "original_group1 = api_factory.build(lusid.api.PortfolioGroupsApi).get_portfolio_group(\n",
    "    scope=portfolio_group1.id.scope,\n",
    "    code=portfolio_group1.id.code,\n",
    "    as_at=portfolio_group1.version.as_at_date)\n",
    "\n",
    "print('Group 1 at time of creation')\n",
    "prettyprint.get_portfolio_group_response(original_group1)\n",
    "print('')\n",
    "print('Group 1 at latest time')\n",
    "prettyprint.get_portfolio_group_response(updated_group1)"
   ]
  },
  {
   "cell_type": "markdown",
   "metadata": {},
   "source": [
    "This leaves the two portfolios in Scope 2. Since they are in another scope and based in a different currency, it makes sense to place them in a separate group to the first one (although they could also be added to the first groups regardless of scope being different). This time we create an empty group, then populate it separately. We follow this process as opposed to creating a pre-populated group (such as group 1 above) to demonstrate how empty groups can be created and how to upsert multiple portfolios to a group.\n",
    "\n",
    "*Run the cell below to create a second group containing no portfolios, and subsequently add portfolios in a separate command*"
   ]
  },
  {
   "cell_type": "code",
   "execution_count": 14,
   "metadata": {},
   "outputs": [
    {
     "name": "stdout",
     "output_type": "stream",
     "text": [
      "\u001b[91m\u001b[1mPortfolio Group Created\u001b[0m\n",
      "\u001b[1mName: \u001b[0mportfolio_group2_name\n",
      "\u001b[1mScope: \u001b[0mportfolio_demo_xyz_38a5-0a6e-84e1-90\n",
      "\u001b[1mCode: \u001b[0mportfolio_group-fd5076f3-8e6b-4e00-b5f5-7eff09d99e9f\n",
      "\u001b[1mPortfolios Inside Group: \u001b[0m\n",
      "\n",
      "\n",
      "\u001b[91m\u001b[1mPortfolio Group: \u001b[0m\n",
      "\u001b[1mName: \u001b[0mportfolio_group2_name\n",
      "\u001b[1mScope: \u001b[0mportfolio_demo_xyz_38a5-0a6e-84e1-90\n",
      "\u001b[1mCode: \u001b[0mportfolio_group-fd5076f3-8e6b-4e00-b5f5-7eff09d99e9f\n",
      "\u001b[1mPortfolios Inside Group: \u001b[0m\n",
      "portfolio-Y-0e12296d-722d-41a4-ae80-6f906d9f02f9\n",
      "portfolio-X-6af65d97-8e74-4a3c-94ad-414fc7296d93\n",
      "\u001b[94m\u001b[1mSubgroups Inside Group: \u001b[0m\n",
      "\n",
      "\n"
     ]
    }
   ],
   "source": [
    "# Create group 2 with no portfolios\n",
    "guid = get_guid()\n",
    "\n",
    "group_request2 = models.CreatePortfolioGroupRequest(\n",
    "    code=\"portfolio_group-{0}\".format(guid),\n",
    "    display_name=\"portfolio_group2_name\",\n",
    "    values=None,\n",
    "    sub_groups=None,\n",
    "    description=None)\n",
    "\n",
    "portfolio_group2 = api_factory.build(lusid.api.PortfolioGroupsApi).create_portfolio_group(\n",
    "    scope=scope2, \n",
    "    create_portfolio_group_request=group_request2)\n",
    "\n",
    "# Print the newly created group info\n",
    "prettyprint.portfolio_group_response(portfolio_group2, 'created')\n",
    "\n",
    "# Add portfolios to groups\n",
    "# Once again we get a list of resource ids for the portfolios in scope 2 this time\n",
    "scope_2_portfolios = [(x) for x in created_portfolios if x.id.scope == scope2]\n",
    "scope_2_resource_ids = get_resource_ids_from_response(scope_2_portfolios)\n",
    "\n",
    "# Then to add multiple portfolios to group 2, we have to iterate over the list of ids, since they have to\n",
    "# be added one by one.\n",
    "for resource_id in scope_2_resource_ids:\n",
    "    api_factory.build(lusid.api.PortfolioGroupsApi).add_portfolio_to_group(\n",
    "        scope=portfolio_group2.id.scope,\n",
    "        code=portfolio_group2.id.code,\n",
    "        resource_id=resource_id,\n",
    "        effective_at=portfolio_group2.created)\n",
    "\n",
    "populated_group2 = api_factory.build(lusid.api.PortfolioGroupsApi).get_portfolio_group(\n",
    "    scope=portfolio_group2.id.scope,\n",
    "    code=portfolio_group2.id.code)\n",
    "\n",
    "prettyprint.get_portfolio_group_response(populated_group2)"
   ]
  },
  {
   "cell_type": "markdown",
   "metadata": {},
   "source": [
    "## 7. Add Group To Group (Create Subgroup)\n",
    "We can also combine groups into each other to create sub-groups. We will add group 2 as a subgroup in group 1.\n",
    "\n",
    "*Run the cell below to add Group 2 as a subgroup to Group 1*"
   ]
  },
  {
   "cell_type": "code",
   "execution_count": 15,
   "metadata": {},
   "outputs": [
    {
     "name": "stdout",
     "output_type": "stream",
     "text": [
      "\u001b[91m\u001b[1mPortfolio Group: \u001b[0m\n",
      "\u001b[1mName: \u001b[0mportfolio_group1_name\n",
      "\u001b[1mScope: \u001b[0mportfolio_demo_38a5-0a6e-84e1-90\n",
      "\u001b[1mCode: \u001b[0mportfolio_group-c0bd3b5f-20cf-4254-8fab-101c1aca7a48\n",
      "\u001b[1mPortfolios Inside Group: \u001b[0m\n",
      "portfolio-A-0d361b51-ffb8-4e9c-98b9-97f4afe07e08\n",
      "portfolio-F-707ff0a2-c025-41e6-b8b3-c9b92f429210\n",
      "portfolio-D-d8480b12-1891-49ea-82c3-f622fd652ebb\n",
      "portfolio-C-83ddedf3-dbe8-465a-a51f-f8092ae0bd7f\n",
      "derived-portfolio-A-35b88f95-22aa-41e0-9685-ee94b920f9ec\n",
      "portfolio-E-eedd3eed-015e-4071-b1e7-0db8d5c4c572\n",
      "portfolio-B-48505cdd-a70e-4335-98e8-9aa53beeda19\n",
      "\u001b[94m\u001b[1mSubgroups Inside Group: \u001b[0m\n",
      "portfolio_group-fd5076f3-8e6b-4e00-b5f5-7eff09d99e9f\n",
      "\n",
      "\n"
     ]
    }
   ],
   "source": [
    "# Add group to group\n",
    "add_response = api_factory.build(lusid.api.PortfolioGroupsApi).add_sub_group_to_group(\n",
    "    scope=portfolio_group1.id.scope,\n",
    "    code=portfolio_group1.id.code,\n",
    "    resource_id=portfolio_group2.id,\n",
    "    effective_at=portfolio_group2.created)\n",
    "\n",
    "prettyprint.get_portfolio_group_response(add_response)"
   ]
  },
  {
   "cell_type": "markdown",
   "metadata": {},
   "source": [
    "## 8. Modify Group\n",
    "Since group 2 is now a subgroup, we can update its display name to reflect this\n",
    "\n",
    "*Run the cell below to modify the group name*"
   ]
  },
  {
   "cell_type": "code",
   "execution_count": 16,
   "metadata": {},
   "outputs": [
    {
     "name": "stdout",
     "output_type": "stream",
     "text": [
      "\u001b[91m\u001b[1mPortfolio Group\u001b[0m\n",
      "\u001b[1mName: \u001b[0mGroup1_Subgroup\n",
      "\u001b[1mScope: \u001b[0mportfolio_demo_xyz_38a5-0a6e-84e1-90\n",
      "\u001b[1mCode: \u001b[0mportfolio_group-fd5076f3-8e6b-4e00-b5f5-7eff09d99e9f\n",
      "\u001b[1mPortfolios Inside Group: \u001b[0m\n",
      "portfolio-Y-0e12296d-722d-41a4-ae80-6f906d9f02f9\n",
      "portfolio-X-6af65d97-8e74-4a3c-94ad-414fc7296d93\n",
      "\n",
      "\n"
     ]
    }
   ],
   "source": [
    "# Update group request\n",
    "group_update_request = models.UpdatePortfolioGroupRequest(\n",
    "    display_name=\"Group1_Subgroup\",\n",
    "    description=None)\n",
    "\n",
    "# Update group\n",
    "update_response = api_factory.build(lusid.api.PortfolioGroupsApi).update_portfolio_group(\n",
    "    scope=portfolio_group2.id.scope,\n",
    "    code=portfolio_group2.id.code,\n",
    "    update_portfolio_group_request=group_update_request,\n",
    "    effective_at=portfolio_group2.created)\n",
    "\n",
    "prettyprint.portfolio_group_response(update_response, 'Updated')"
   ]
  },
  {
   "cell_type": "markdown",
   "metadata": {},
   "source": [
    "## 9. Get Full Expansion of a Group\n",
    "We can now compare the `get _portfolio_group` method with getting the full expansion of a group. You will see that on top of a list of portfolios and subgroups, the full expansion also returns all the information for the portfolios similar to running the `get_portfolio` method on each portfolio in the group and groubgroup.\n",
    "\n",
    "*Run the cell below to get the full expansion of Group 1*"
   ]
  },
  {
   "cell_type": "code",
   "execution_count": 17,
   "metadata": {},
   "outputs": [
    {
     "name": "stdout",
     "output_type": "stream",
     "text": [
      "Group 1 at latest time with basic GET method : \n",
      "\u001b[91m\u001b[1mPortfolio Group: \u001b[0m\n",
      "\u001b[1mName: \u001b[0mportfolio_group1_name\n",
      "\u001b[1mScope: \u001b[0mportfolio_demo_38a5-0a6e-84e1-90\n",
      "\u001b[1mCode: \u001b[0mportfolio_group-c0bd3b5f-20cf-4254-8fab-101c1aca7a48\n",
      "\u001b[1mPortfolios Inside Group: \u001b[0m\n",
      "derived-portfolio-A-35b88f95-22aa-41e0-9685-ee94b920f9ec\n",
      "portfolio-E-eedd3eed-015e-4071-b1e7-0db8d5c4c572\n",
      "portfolio-C-83ddedf3-dbe8-465a-a51f-f8092ae0bd7f\n",
      "portfolio-D-d8480b12-1891-49ea-82c3-f622fd652ebb\n",
      "portfolio-A-0d361b51-ffb8-4e9c-98b9-97f4afe07e08\n",
      "portfolio-F-707ff0a2-c025-41e6-b8b3-c9b92f429210\n",
      "portfolio-B-48505cdd-a70e-4335-98e8-9aa53beeda19\n",
      "\u001b[94m\u001b[1mSubgroups Inside Group: \u001b[0m\n",
      "portfolio_group-fd5076f3-8e6b-4e00-b5f5-7eff09d99e9f\n",
      "\n",
      "\n",
      "Group 1 at latest time with full expansion method : \n",
      "\u001b[91m\u001b[1mPortfolio Group Full Details : \u001b[0m\n",
      "\u001b[1mScope: \u001b[0mportfolio_demo_38a5-0a6e-84e1-90\n",
      "\u001b[1mCode: \u001b[0mportfolio_group-c0bd3b5f-20cf-4254-8fab-101c1aca7a48\n",
      "\u001b[94m\u001b[1mPortfolios Inside Group: \u001b[0m\n",
      "\u001b[1mPortfolio \u001b[0m\n",
      "\u001b[1mScope: \u001b[0mportfolio_demo_38a5-0a6e-84e1-90\n",
      "\u001b[1mCode: \u001b[0mportfolio-F-707ff0a2-c025-41e6-b8b3-c9b92f429210\n",
      "\u001b[1mPortfolio Effective From: \u001b[0m2018-01-01 00:00:00+00:00\n",
      "\u001b[1mPortfolio Created On: \u001b[0m2020-07-10 18:38:28.034425+00:00\n",
      "\n",
      "\u001b[1mPortfolio \u001b[0m\n",
      "\u001b[1mScope: \u001b[0mportfolio_demo_38a5-0a6e-84e1-90\n",
      "\u001b[1mCode: \u001b[0mportfolio-A-0d361b51-ffb8-4e9c-98b9-97f4afe07e08\n",
      "\u001b[1mPortfolio Effective From: \u001b[0m2018-01-01 00:00:00+00:00\n",
      "\u001b[1mPortfolio Created On: \u001b[0m2020-07-10 18:38:28.034425+00:00\n",
      "\n",
      "\u001b[1mPortfolio \u001b[0m\n",
      "\u001b[1mScope: \u001b[0mportfolio_demo_38a5-0a6e-84e1-90\n",
      "\u001b[1mCode: \u001b[0mportfolio-E-eedd3eed-015e-4071-b1e7-0db8d5c4c572\n",
      "\u001b[1mPortfolio Effective From: \u001b[0m2018-01-01 00:00:00+00:00\n",
      "\u001b[1mPortfolio Created On: \u001b[0m2020-07-10 18:38:28.034425+00:00\n",
      "\n",
      "\u001b[1mPortfolio \u001b[0m\n",
      "\u001b[1mScope: \u001b[0mportfolio_demo_38a5-0a6e-84e1-90\n",
      "\u001b[1mCode: \u001b[0mportfolio-B-48505cdd-a70e-4335-98e8-9aa53beeda19\n",
      "\u001b[1mPortfolio Effective From: \u001b[0m2018-01-01 00:00:00+00:00\n",
      "\u001b[1mPortfolio Created On: \u001b[0m2020-07-10 18:38:28.034425+00:00\n",
      "\n",
      "\u001b[1mPortfolio \u001b[0m\n",
      "\u001b[1mScope: \u001b[0mportfolio_demo_38a5-0a6e-84e1-90\n",
      "\u001b[1mCode: \u001b[0mportfolio-D-d8480b12-1891-49ea-82c3-f622fd652ebb\n",
      "\u001b[1mPortfolio Effective From: \u001b[0m2018-01-01 00:00:00+00:00\n",
      "\u001b[1mPortfolio Created On: \u001b[0m2020-07-10 18:38:28.034425+00:00\n",
      "\n",
      "\u001b[1mDerived Portfolio \u001b[0m\n",
      "\u001b[1mScope: \u001b[0mportfolio_demo_38a5-0a6e-84e1-90\n",
      "\u001b[1mCode: \u001b[0mderived-portfolio-A-35b88f95-22aa-41e0-9685-ee94b920f9ec\n",
      "\u001b[1mPortfolio Effective From: \u001b[0m2018-01-01 00:00:00+00:00\n",
      "\u001b[1mPortfolio Created On: \u001b[0m2020-07-10 18:38:28.034425+00:00\n",
      "\n",
      "\u001b[1m   Parent Portfolio Details\u001b[0m\n",
      "\u001b[1m   Scope: \u001b[0mportfolio_demo_38a5-0a6e-84e1-90\n",
      "\u001b[1m   Code: \u001b[0mportfolio-A-0d361b51-ffb8-4e9c-98b9-97f4afe07e08\n",
      "\n",
      "\u001b[1mPortfolio \u001b[0m\n",
      "\u001b[1mScope: \u001b[0mportfolio_demo_38a5-0a6e-84e1-90\n",
      "\u001b[1mCode: \u001b[0mportfolio-C-83ddedf3-dbe8-465a-a51f-f8092ae0bd7f\n",
      "\u001b[1mPortfolio Effective From: \u001b[0m2018-01-01 00:00:00+00:00\n",
      "\u001b[1mPortfolio Created On: \u001b[0m2020-07-10 18:38:28.034425+00:00\n",
      "\n",
      "\u001b[94m\u001b[1mSubgroups Inside Group: \u001b[0m\n",
      "\u001b[1mName: \u001b[0mGroup1_Subgroup\n",
      "\u001b[1mScope: \u001b[0mportfolio_demo_xyz_38a5-0a6e-84e1-90\n",
      "\u001b[1mCode: \u001b[0mportfolio_group-fd5076f3-8e6b-4e00-b5f5-7eff09d99e9f\n",
      "\u001b[94m\u001b[1mPortfolios Inside SubGroup: \u001b[0m\n",
      "\u001b[1mPortfolio \u001b[0m\n",
      "\u001b[1mScope: \u001b[0mportfolio_demo_xyz_38a5-0a6e-84e1-90\n",
      "\u001b[1mCode: \u001b[0mportfolio-X-6af65d97-8e74-4a3c-94ad-414fc7296d93\n",
      "\u001b[1mPortfolio Effective From: \u001b[0m2018-01-01 00:00:00+00:00\n",
      "\u001b[1mPortfolio Created On: \u001b[0m2020-07-10 18:38:28.034425+00:00\n",
      "\n",
      "\u001b[1mPortfolio \u001b[0m\n",
      "\u001b[1mScope: \u001b[0mportfolio_demo_xyz_38a5-0a6e-84e1-90\n",
      "\u001b[1mCode: \u001b[0mportfolio-Y-0e12296d-722d-41a4-ae80-6f906d9f02f9\n",
      "\u001b[1mPortfolio Effective From: \u001b[0m2018-01-01 00:00:00+00:00\n",
      "\u001b[1mPortfolio Created On: \u001b[0m2020-07-10 18:38:28.034425+00:00\n",
      "\n",
      "\n",
      "\n"
     ]
    }
   ],
   "source": [
    "# Get the basic group information for group 1 again:\n",
    "updated_group1 = api_factory.build(lusid.api.PortfolioGroupsApi).get_portfolio_group(\n",
    "    scope=portfolio_group1.id.scope,\n",
    "    code=portfolio_group1.id.code)\n",
    "\n",
    "print('Group 1 at latest time with basic GET method : ')\n",
    "prettyprint.get_portfolio_group_response(updated_group1)\n",
    "\n",
    "# Get full expansion of portfolio group 1:\n",
    "expansion = api_factory.build(lusid.api.PortfolioGroupsApi).get_portfolio_group_expansion(\n",
    "    scope=portfolio_group1.id.scope,\n",
    "    code=portfolio_group1.id.code)\n",
    "print('Group 1 at latest time with full expansion method : ')\n",
    "prettyprint.expanded_portfolio_group_response(expansion)"
   ]
  },
  {
   "cell_type": "markdown",
   "metadata": {},
   "source": [
    "## 10. Remove Portfolios and Subgroups from Group\n",
    "In LUSID it is possible to delete a populated group without deleting the portfolios, they will simply be removed from the group hierarchy and will remain ungrouped in their respective scopes. Our Subgroup contains two portfolios, so for demonstration purposes we are carrying out each step individually of removing the portfolios from the group, removing the subgroup from the main group, and then deleting it as it is no longer needed.\n",
    "\n",
    "*Run the cell below to remove portfolios from Group 2*"
   ]
  },
  {
   "cell_type": "code",
   "execution_count": 18,
   "metadata": {},
   "outputs": [
    {
     "name": "stdout",
     "output_type": "stream",
     "text": [
      "\u001b[91m\u001b[1mPortfolio Group: \u001b[0m\n",
      "\u001b[1mName: \u001b[0mGroup1_Subgroup\n",
      "\u001b[1mScope: \u001b[0mportfolio_demo_xyz_38a5-0a6e-84e1-90\n",
      "\u001b[1mCode: \u001b[0mportfolio_group-fd5076f3-8e6b-4e00-b5f5-7eff09d99e9f\n",
      "\u001b[1mPortfolios Inside Group: \u001b[0m\n",
      "portfolio-Y-0e12296d-722d-41a4-ae80-6f906d9f02f9\n",
      "portfolio-X-6af65d97-8e74-4a3c-94ad-414fc7296d93\n",
      "\u001b[94m\u001b[1mSubgroups Inside Group: \u001b[0m\n",
      "\n",
      "\n",
      "\n",
      "\u001b[91m\u001b[1mPortfolio Group\u001b[0m\n",
      "\u001b[1mName: \u001b[0mGroup1_Subgroup\n",
      "\u001b[1mScope: \u001b[0mportfolio_demo_xyz_38a5-0a6e-84e1-90\n",
      "\u001b[1mCode: \u001b[0mportfolio_group-fd5076f3-8e6b-4e00-b5f5-7eff09d99e9f\n",
      "\u001b[1mPortfolios Inside Group: \u001b[0m\n",
      "portfolio-Y-0e12296d-722d-41a4-ae80-6f906d9f02f9\n",
      "\n",
      "\n",
      "\u001b[91m\u001b[1mPortfolio Group\u001b[0m\n",
      "\u001b[1mName: \u001b[0mGroup1_Subgroup\n",
      "\u001b[1mScope: \u001b[0mportfolio_demo_xyz_38a5-0a6e-84e1-90\n",
      "\u001b[1mCode: \u001b[0mportfolio_group-fd5076f3-8e6b-4e00-b5f5-7eff09d99e9f\n",
      "\u001b[1mPortfolios Inside Group: \u001b[0m\n",
      "\n",
      "\n"
     ]
    }
   ],
   "source": [
    "# 1. Removal of portfolios from a group has to be done one portfolio at a time (deleting the group will \n",
    "# remove all of them in one go as mentioned in the cell above), thus we can loop through the list of \n",
    "# portfolios in scope 2 since they are all contained in the subgroup\n",
    "\n",
    "# first we print out the details of group 2\n",
    "original_group2 = api_factory.build(lusid.api.PortfolioGroupsApi).get_portfolio_group(\n",
    "    scope=portfolio_group2.id.scope,\n",
    "    code=portfolio_group2.id.code)\n",
    "\n",
    "prettyprint.get_portfolio_group_response(original_group2)\n",
    "print('')\n",
    "\n",
    "# then we proceed with removing each portfolio in the group, you will see each printed response will have\n",
    "# one fewer portfolio ids attached to the group.\n",
    "for portfolio_id in scope_2_resource_ids:\n",
    "    portfolio_removal = api_factory.build(lusid.api.PortfolioGroupsApi).delete_portfolio_from_group(\n",
    "        scope=portfolio_group2.id.scope,\n",
    "        code=portfolio_group2.id.code,\n",
    "        portfolio_scope=portfolio_id.scope,\n",
    "        portfolio_code=portfolio_id.code,\n",
    "        effective_at=portfolio_group2.created)\n",
    "    prettyprint.portfolio_group_response(portfolio_removal, 'none')"
   ]
  },
  {
   "cell_type": "markdown",
   "metadata": {},
   "source": [
    "*Run the cell below to remove Group 2 from Group 1*"
   ]
  },
  {
   "cell_type": "code",
   "execution_count": 19,
   "metadata": {},
   "outputs": [
    {
     "name": "stdout",
     "output_type": "stream",
     "text": [
      "\u001b[91m\u001b[1mPortfolio Group\u001b[0m\n",
      "\u001b[1mName: \u001b[0mportfolio_group1_name\n",
      "\u001b[1mScope: \u001b[0mportfolio_demo_38a5-0a6e-84e1-90\n",
      "\u001b[1mCode: \u001b[0mportfolio_group-c0bd3b5f-20cf-4254-8fab-101c1aca7a48\n",
      "\u001b[1mPortfolios Inside Group: \u001b[0m\n",
      "derived-portfolio-A-35b88f95-22aa-41e0-9685-ee94b920f9ec\n",
      "portfolio-E-eedd3eed-015e-4071-b1e7-0db8d5c4c572\n",
      "portfolio-C-83ddedf3-dbe8-465a-a51f-f8092ae0bd7f\n",
      "portfolio-D-d8480b12-1891-49ea-82c3-f622fd652ebb\n",
      "portfolio-A-0d361b51-ffb8-4e9c-98b9-97f4afe07e08\n",
      "portfolio-F-707ff0a2-c025-41e6-b8b3-c9b92f429210\n",
      "portfolio-B-48505cdd-a70e-4335-98e8-9aa53beeda19\n",
      "\n",
      "\n",
      "Remaining Sub Groups :  []\n"
     ]
    }
   ],
   "source": [
    "# 2. Remove group from group\n",
    "group_removal = api_factory.build(lusid.api.PortfolioGroupsApi).delete_sub_group_from_group(\n",
    "    scope=portfolio_group1.id.scope,\n",
    "    code=portfolio_group1.id.code,\n",
    "    subgroup_scope=portfolio_group2.id.scope,\n",
    "    subgroup_code=portfolio_group2.id.code,\n",
    "    effective_at=portfolio_group1.created)\n",
    "\n",
    "prettyprint.portfolio_group_response(group_removal, 'none')\n",
    "print('Remaining Sub Groups : ', group_removal.sub_groups)"
   ]
  },
  {
   "cell_type": "markdown",
   "metadata": {},
   "source": [
    "## 11. Delete Group\n",
    "*Run the cell below to delete group 2*"
   ]
  },
  {
   "cell_type": "code",
   "execution_count": 20,
   "metadata": {},
   "outputs": [],
   "source": [
    "# 3. Delete group\n",
    "group_deletion = api_factory.build(lusid.api.PortfolioGroupsApi).delete_portfolio_group(\n",
    "    scope=portfolio_group2.id.scope,\n",
    "    code=portfolio_group2.id.code)"
   ]
  },
  {
   "cell_type": "markdown",
   "metadata": {},
   "source": [
    "## 12. Get Group Commands\n",
    "We can now check what operations have been applied to each of our groups, including an already deleted group, by using the `get portfolio group commands` method, as below.\n",
    "\n",
    "*Run the cell below to get all commands from groups 1 and 2*"
   ]
  },
  {
   "cell_type": "code",
   "execution_count": 21,
   "metadata": {},
   "outputs": [
    {
     "name": "stdout",
     "output_type": "stream",
     "text": [
      "\u001b[1mCommands Applied To Group portfolio_group1_name\u001b[0m\n",
      "\u001b[1mNumber of commands : \u001b[0m2\n",
      "\u001b[1mDescription : \u001b[0mCreate portfolio group\n",
      "\u001b[1mAt Time : \u001b[0m2020-07-10 18:38:22.597270+00:00\n",
      "\n",
      "\n",
      "\u001b[1mDescription : \u001b[0mAdd portfolio to group\n",
      "\u001b[1mAt Time : \u001b[0m2020-07-10 18:38:23.206472+00:00\n",
      "\n",
      "\n",
      "\u001b[1mDescription : \u001b[0mAdd subgroup to group\n",
      "\u001b[1mAt Time : \u001b[0m2020-07-10 18:38:27.258429+00:00\n",
      "\n",
      "\n",
      "\u001b[1mDescription : \u001b[0mDelete subgroup from group\n",
      "\u001b[1mAt Time : \u001b[0m2020-07-10 18:38:33.427782+00:00\n",
      "\n",
      "\n",
      "\u001b[1mCommands Applied To Group portfolio_group2_name\u001b[0m\n",
      "\u001b[1mNumber of commands : \u001b[0m2\n",
      "\u001b[1mDescription : \u001b[0mCreate portfolio group\n",
      "\u001b[1mAt Time : \u001b[0m2020-07-10 18:38:24.026617+00:00\n",
      "\n",
      "\n",
      "\u001b[1mDescription : \u001b[0mAdd portfolio to group\n",
      "\u001b[1mAt Time : \u001b[0m2020-07-10 18:38:24.686701+00:00\n",
      "\n",
      "\n",
      "\u001b[1mDescription : \u001b[0mAdd portfolio to group\n",
      "\u001b[1mAt Time : \u001b[0m2020-07-10 18:38:25.274428+00:00\n",
      "\n",
      "\n",
      "\u001b[1mDescription : \u001b[0mUpdate portfolio group\n",
      "\u001b[1mAt Time : \u001b[0m2020-07-10 18:38:27.953089+00:00\n",
      "\n",
      "\n",
      "\u001b[1mDescription : \u001b[0mDelete portfolio from group\n",
      "\u001b[1mAt Time : \u001b[0m2020-07-10 18:38:31.926426+00:00\n",
      "\n",
      "\n",
      "\u001b[1mDescription : \u001b[0mDelete portfolio from group\n",
      "\u001b[1mAt Time : \u001b[0m2020-07-10 18:38:32.649497+00:00\n",
      "\n",
      "\n",
      "\u001b[1mDescription : \u001b[0mDelete portfolio group\n",
      "\u001b[1mAt Time : \u001b[0m2020-07-10 18:38:33.934442+00:00\n",
      "\n",
      "\n"
     ]
    }
   ],
   "source": [
    "# Get commands\n",
    "group1_commands = api_factory.build(lusid.api.PortfolioGroupsApi).get_portfolio_group_commands(\n",
    "    scope=portfolio_group1.id.scope,\n",
    "    code=portfolio_group1.id.code)\n",
    "\n",
    "group2_commands = api_factory.build(lusid.api.PortfolioGroupsApi).get_portfolio_group_commands(\n",
    "    scope=portfolio_group2.id.scope,\n",
    "    code=portfolio_group2.id.code)\n",
    "\n",
    "prettyprint.group_commands(group1_commands, portfolio_group1.display_name)\n",
    "\n",
    "prettyprint.group_commands(group2_commands, portfolio_group2.display_name)"
   ]
  },
  {
   "cell_type": "markdown",
   "metadata": {},
   "source": [
    "## 13. List Groups in Scope\n",
    "We can now verify that the group has indeed been deleted from our scope by getting all groups in each of our scopes, the second of which should be empty now.\n",
    "\n",
    "Note : Scope 1 may have groups remaining from previous runs of this notebook example\n",
    "\n",
    "*Run the cell below to list all groups in scopes 1 and 2*"
   ]
  },
  {
   "cell_type": "code",
   "execution_count": 22,
   "metadata": {},
   "outputs": [
    {
     "name": "stdout",
     "output_type": "stream",
     "text": [
      "\u001b[91m\u001b[1mGroups in Scope: \u001b[0m\n",
      "\u001b[1mScope : \u001b[0mportfolio_demo_38a5-0a6e-84e1-90\n",
      "\u001b[1mCode : \u001b[0mportfolio_group-c0bd3b5f-20cf-4254-8fab-101c1aca7a48\n",
      "\u001b[91m\u001b[1mGroups in Scope: \u001b[0m\n"
     ]
    }
   ],
   "source": [
    "# List groups in scope - show one scope with no groups\n",
    "scope1_groups = api_factory.build(lusid.api.PortfolioGroupsApi).list_portfolio_groups(\n",
    "    scope=scope1)\n",
    "\n",
    "scope2_groups = api_factory.build(lusid.api.PortfolioGroupsApi).list_portfolio_groups(\n",
    "    scope=scope2)\n",
    "\n",
    "prettyprint.groups_in_scope(scope1_groups)\n",
    "prettyprint.groups_in_scope(scope2_groups)"
   ]
  },
  {
   "cell_type": "markdown",
   "metadata": {},
   "source": [
    "In case any extra groups are hanging around, the next cell will remove all groups. This will also remove Group 1 in Scope 1, which is still populated, showing how the portfolios remain in the scope and ungrouped following this operation.\n",
    "\n",
    "*Run the cell below to remove any remaining groups in both scopes*"
   ]
  },
  {
   "cell_type": "code",
   "execution_count": 23,
   "metadata": {},
   "outputs": [
    {
     "name": "stdout",
     "output_type": "stream",
     "text": [
      "\u001b[91m\u001b[1mGroups in Scope: \u001b[0m\n",
      "\u001b[91m\u001b[1mGroups in Scope: \u001b[0m\n"
     ]
    }
   ],
   "source": [
    "# create a list of all groups in both scopes\n",
    "groups_to_delete = []\n",
    "for group in scope1_groups.values:\n",
    "    groups_to_delete.append(group.id)\n",
    "for group in scope2_groups.values:\n",
    "    groups_to_delete.append(group.id)\n",
    "\n",
    "# loop through the list of groups and delete each one, one by one\n",
    "for group in groups_to_delete:\n",
    "    api_factory.build(lusid.api.PortfolioGroupsApi).delete_portfolio_group(\n",
    "        scope=group.scope,\n",
    "        code=group.code)\n",
    "\n",
    "# List groups in scope - both will now be empty\n",
    "scope1_groups = api_factory.build(lusid.api.PortfolioGroupsApi).list_portfolio_groups(\n",
    "    scope=scope1)\n",
    "\n",
    "scope2_groups = api_factory.build(lusid.api.PortfolioGroupsApi).list_portfolio_groups(\n",
    "    scope=scope2)\n",
    "\n",
    "prettyprint.groups_in_scope(scope1_groups)\n",
    "prettyprint.groups_in_scope(scope2_groups)"
   ]
  },
  {
   "cell_type": "markdown",
   "metadata": {},
   "source": [
    "## 14. List Portfolios in Scope\n",
    "If we list all the portfolios in our scopes we will see that they are all still there. There may be extra portfolios not created in this example, if this is the case, we can delete all these extra portfolios and keep only those we are interested in. \n",
    "\n",
    "*Run the cell below to list all the portfolios in both scopes*"
   ]
  },
  {
   "cell_type": "code",
   "execution_count": 24,
   "metadata": {},
   "outputs": [
    {
     "name": "stdout",
     "output_type": "stream",
     "text": [
      "Portfolios remaining in scope  portfolio_demo_38a5-0a6e-84e1-90  :\n",
      "\n",
      "\u001b[1mDerived Portfolio \u001b[0m\n",
      "\u001b[1mScope: \u001b[0mportfolio_demo_38a5-0a6e-84e1-90\n",
      "\u001b[1mCode: \u001b[0mderived-portfolio-A-35b88f95-22aa-41e0-9685-ee94b920f9ec\n",
      "\u001b[1mPortfolio Effective From: \u001b[0m2018-01-01 00:00:00+00:00\n",
      "\u001b[1mPortfolio Created On: \u001b[0m2020-07-10 18:38:35.845334+00:00\n",
      "\n",
      "\u001b[1m   Parent Portfolio Details\u001b[0m\n",
      "\u001b[1m   Scope: \u001b[0mportfolio_demo_38a5-0a6e-84e1-90\n",
      "\u001b[1m   Code: \u001b[0mportfolio-A-0d361b51-ffb8-4e9c-98b9-97f4afe07e08\n",
      "\n",
      "\u001b[1mPortfolio \u001b[0m\n",
      "\u001b[1mScope: \u001b[0mportfolio_demo_38a5-0a6e-84e1-90\n",
      "\u001b[1mCode: \u001b[0mportfolio-A-0d361b51-ffb8-4e9c-98b9-97f4afe07e08\n",
      "\u001b[1mPortfolio Effective From: \u001b[0m2018-01-01 00:00:00+00:00\n",
      "\u001b[1mPortfolio Created On: \u001b[0m2020-07-10 18:38:35.845334+00:00\n",
      "\n",
      "\u001b[1mPortfolio \u001b[0m\n",
      "\u001b[1mScope: \u001b[0mportfolio_demo_38a5-0a6e-84e1-90\n",
      "\u001b[1mCode: \u001b[0mportfolio-B-48505cdd-a70e-4335-98e8-9aa53beeda19\n",
      "\u001b[1mPortfolio Effective From: \u001b[0m2018-01-01 00:00:00+00:00\n",
      "\u001b[1mPortfolio Created On: \u001b[0m2020-07-10 18:38:35.845334+00:00\n",
      "\n",
      "\u001b[1mPortfolio \u001b[0m\n",
      "\u001b[1mScope: \u001b[0mportfolio_demo_38a5-0a6e-84e1-90\n",
      "\u001b[1mCode: \u001b[0mportfolio-C-83ddedf3-dbe8-465a-a51f-f8092ae0bd7f\n",
      "\u001b[1mPortfolio Effective From: \u001b[0m2018-01-01 00:00:00+00:00\n",
      "\u001b[1mPortfolio Created On: \u001b[0m2020-07-10 18:38:35.845334+00:00\n",
      "\n",
      "\u001b[1mPortfolio \u001b[0m\n",
      "\u001b[1mScope: \u001b[0mportfolio_demo_38a5-0a6e-84e1-90\n",
      "\u001b[1mCode: \u001b[0mportfolio-D-d8480b12-1891-49ea-82c3-f622fd652ebb\n",
      "\u001b[1mPortfolio Effective From: \u001b[0m2018-01-01 00:00:00+00:00\n",
      "\u001b[1mPortfolio Created On: \u001b[0m2020-07-10 18:38:35.845334+00:00\n",
      "\n",
      "\u001b[1mPortfolio \u001b[0m\n",
      "\u001b[1mScope: \u001b[0mportfolio_demo_38a5-0a6e-84e1-90\n",
      "\u001b[1mCode: \u001b[0mportfolio-E-eedd3eed-015e-4071-b1e7-0db8d5c4c572\n",
      "\u001b[1mPortfolio Effective From: \u001b[0m2018-01-01 00:00:00+00:00\n",
      "\u001b[1mPortfolio Created On: \u001b[0m2020-07-10 18:38:35.845334+00:00\n",
      "\n",
      "\u001b[1mPortfolio \u001b[0m\n",
      "\u001b[1mScope: \u001b[0mportfolio_demo_38a5-0a6e-84e1-90\n",
      "\u001b[1mCode: \u001b[0mportfolio-F-707ff0a2-c025-41e6-b8b3-c9b92f429210\n",
      "\u001b[1mPortfolio Effective From: \u001b[0m2018-01-01 00:00:00+00:00\n",
      "\u001b[1mPortfolio Created On: \u001b[0m2020-07-10 18:38:35.845334+00:00\n",
      "\n",
      "Portfolios remaining in scope  portfolio_demo_xyz_38a5-0a6e-84e1-90  :\n",
      "\n",
      "\u001b[1mPortfolio \u001b[0m\n",
      "\u001b[1mScope: \u001b[0mportfolio_demo_xyz_38a5-0a6e-84e1-90\n",
      "\u001b[1mCode: \u001b[0mportfolio-X-6af65d97-8e74-4a3c-94ad-414fc7296d93\n",
      "\u001b[1mPortfolio Effective From: \u001b[0m2018-01-01 00:00:00+00:00\n",
      "\u001b[1mPortfolio Created On: \u001b[0m2020-07-10 18:38:37.966429+00:00\n",
      "\n",
      "\u001b[1mPortfolio \u001b[0m\n",
      "\u001b[1mScope: \u001b[0mportfolio_demo_xyz_38a5-0a6e-84e1-90\n",
      "\u001b[1mCode: \u001b[0mportfolio-Y-0e12296d-722d-41a4-ae80-6f906d9f02f9\n",
      "\u001b[1mPortfolio Effective From: \u001b[0m2018-01-01 00:00:00+00:00\n",
      "\u001b[1mPortfolio Created On: \u001b[0m2020-07-10 18:38:37.966429+00:00\n",
      "\n"
     ]
    }
   ],
   "source": [
    "scope1_portfolios_list_response = api_factory.build(lusid.api.PortfoliosApi).list_portfolios_for_scope(\n",
    "    scope=scope1)\n",
    "\n",
    "scope2_portfolios_list_response = api_factory.build(lusid.api.PortfoliosApi).list_portfolios_for_scope(\n",
    "    scope=scope2)\n",
    "\n",
    "print('Portfolios remaining in scope ', scope1, ' :\\n')\n",
    "for portfolio in scope1_portfolios_list_response.values:\n",
    "    prettyprint.expansion_portfolio_response(portfolio)\n",
    "\n",
    "print('Portfolios remaining in scope ', scope2, ' :\\n')\n",
    "for portfolio in scope2_portfolios_list_response.values:\n",
    "    prettyprint.expansion_portfolio_response(portfolio)"
   ]
  },
  {
   "cell_type": "markdown",
   "metadata": {},
   "source": [
    "## 15. Delete Portfolios\n",
    "The cells below allow us to delete the extra portfolios in the scope. Keep in mind, derived portfolios must be deleted first, as if a parent portfolio still contains a child, the deletion will fail.\n",
    "\n",
    "*Run the cell below to create some helper functions*"
   ]
  },
  {
   "cell_type": "code",
   "execution_count": 25,
   "metadata": {},
   "outputs": [],
   "source": [
    "# Helper functions to filter out unwanted portfolios\n",
    "def extract_ids(portfolioList):\n",
    "    parent_ids = []\n",
    "    derived_ids = []\n",
    "    for folio in portfolioList:\n",
    "        if folio.is_derived:\n",
    "            derived_ids.append((folio.id.scope, folio.id.code))\n",
    "        else:\n",
    "            parent_ids.append((folio.id.scope, folio.id.code))\n",
    "    return (parent_ids, derived_ids)\n",
    "\n",
    "\n",
    "def return_not_matches(a, b):\n",
    "    if type(b) is not tuple:\n",
    "        return [x for x in a if x not in b]\n",
    "    else:\n",
    "        return [x for x in a if x not in [b]]"
   ]
  },
  {
   "cell_type": "markdown",
   "metadata": {},
   "source": [
    "Now we select the parent/derived portfolios we wish to keep or delete. Currently `portfolios_to_keep` is hardcoded to keep the derived portfolio that we created at the beginning of this example, and its parent portfolio.\n",
    "\n",
    "*Run the cell below to filter and separate portfolios to keep and delete in each scope*"
   ]
  },
  {
   "cell_type": "code",
   "execution_count": 26,
   "metadata": {},
   "outputs": [
    {
     "name": "stdout",
     "output_type": "stream",
     "text": [
      "\u001b[91m\u001b[1mKeeping : \u001b[0m\n",
      "\u001b[94m\u001b[1m    Parents: \u001b[0m\n",
      "\u001b[1m    Scope : \u001b[0mportfolio_demo_38a5-0a6e-84e1-90\n",
      "\u001b[1m    Code : \u001b[0mportfolio-A-0d361b51-ffb8-4e9c-98b9-97f4afe07e08\n",
      "\n",
      "\u001b[94m\u001b[1m    Derived: \u001b[0m\n",
      "\u001b[1m    Scope : \u001b[0mportfolio_demo_38a5-0a6e-84e1-90\n",
      "\u001b[1m    Code : \u001b[0mderived-portfolio-A-35b88f95-22aa-41e0-9685-ee94b920f9ec\n",
      "\n",
      "\u001b[91m\u001b[1mDeleting : \u001b[0m\n",
      "\u001b[94m\u001b[1m    Parents: \u001b[0m\n",
      "\u001b[1m    Scope : \u001b[0mportfolio_demo_38a5-0a6e-84e1-90\n",
      "\u001b[1m    Code : \u001b[0mportfolio-B-48505cdd-a70e-4335-98e8-9aa53beeda19\n",
      "\n",
      "\u001b[1m    Scope : \u001b[0mportfolio_demo_38a5-0a6e-84e1-90\n",
      "\u001b[1m    Code : \u001b[0mportfolio-C-83ddedf3-dbe8-465a-a51f-f8092ae0bd7f\n",
      "\n",
      "\u001b[1m    Scope : \u001b[0mportfolio_demo_38a5-0a6e-84e1-90\n",
      "\u001b[1m    Code : \u001b[0mportfolio-D-d8480b12-1891-49ea-82c3-f622fd652ebb\n",
      "\n",
      "\u001b[1m    Scope : \u001b[0mportfolio_demo_38a5-0a6e-84e1-90\n",
      "\u001b[1m    Code : \u001b[0mportfolio-E-eedd3eed-015e-4071-b1e7-0db8d5c4c572\n",
      "\n",
      "\u001b[1m    Scope : \u001b[0mportfolio_demo_38a5-0a6e-84e1-90\n",
      "\u001b[1m    Code : \u001b[0mportfolio-F-707ff0a2-c025-41e6-b8b3-c9b92f429210\n",
      "\n",
      "\u001b[1m    Scope : \u001b[0mportfolio_demo_xyz_38a5-0a6e-84e1-90\n",
      "\u001b[1m    Code : \u001b[0mportfolio-X-6af65d97-8e74-4a3c-94ad-414fc7296d93\n",
      "\n",
      "\u001b[1m    Scope : \u001b[0mportfolio_demo_xyz_38a5-0a6e-84e1-90\n",
      "\u001b[1m    Code : \u001b[0mportfolio-Y-0e12296d-722d-41a4-ae80-6f906d9f02f9\n",
      "\n",
      "\u001b[94m\u001b[1m    Derived: \u001b[0m\n"
     ]
    }
   ],
   "source": [
    "# first combine all the portfolios in our two scopes\n",
    "all_portfolios_in_scopes = extract_ids(scope1_portfolios_list_response.values\n",
    "                                       + scope2_portfolios_list_response.values)\n",
    "parent_portfolios = all_portfolios_in_scopes[0]\n",
    "derived_portfolios = all_portfolios_in_scopes[1]\n",
    "\n",
    "# then combine the portfolios we're interested in keeping into a list\n",
    "# - just the first portfolio we created and its derived portfolio\n",
    "parents_to_keep = (derived_portfolio.parent_portfolio_id.scope, derived_portfolio.parent_portfolio_id.code)\n",
    "derived_to_keep = (derived_portfolio.id.scope, derived_portfolio.id.code)\n",
    "\n",
    "# we can now exclude portfolios to keep from the full list\n",
    "parents_to_delete = return_not_matches(parent_portfolios, parents_to_keep)\n",
    "derived_to_delete = return_not_matches(derived_portfolios, derived_to_keep)\n",
    "\n",
    "prettyprint.portfolio_filtering(\n",
    "    parents_to_keep, derived_to_keep, parents_to_delete, derived_to_delete)"
   ]
  },
  {
   "cell_type": "markdown",
   "metadata": {},
   "source": [
    "With this filtering done, we can proceed with deleting unwanted portfolios. Deletion is done one portfolio at a time, therefore we must loop through the list of portfolios to delete. Derived portfolios are deleted first, followed by a separate loop to delete parent (top level - they may never have had derived portfolios attached) portfolios.\n",
    "\n",
    "*Run the cell below to delete all portfolios that are not being kept*"
   ]
  },
  {
   "cell_type": "code",
   "execution_count": 27,
   "metadata": {},
   "outputs": [
    {
     "name": "stdout",
     "output_type": "stream",
     "text": [
      "Deleting Derived Portfolios ... \n",
      "Deleting remaining Portfolios ... \n",
      "Portfolio deleted :  portfolio_demo_38a5-0a6e-84e1-90 portfolio-B-48505cdd-a70e-4335-98e8-9aa53beeda19\n",
      "At time :  2020-07-10 18:38:38.962238+00:00\n",
      "Portfolio deleted :  portfolio_demo_38a5-0a6e-84e1-90 portfolio-C-83ddedf3-dbe8-465a-a51f-f8092ae0bd7f\n",
      "At time :  2020-07-10 18:38:40.022434+00:00\n",
      "Portfolio deleted :  portfolio_demo_38a5-0a6e-84e1-90 portfolio-D-d8480b12-1891-49ea-82c3-f622fd652ebb\n",
      "At time :  2020-07-10 18:38:40.994423+00:00\n",
      "Portfolio deleted :  portfolio_demo_38a5-0a6e-84e1-90 portfolio-E-eedd3eed-015e-4071-b1e7-0db8d5c4c572\n",
      "At time :  2020-07-10 18:38:41.894427+00:00\n",
      "Portfolio deleted :  portfolio_demo_38a5-0a6e-84e1-90 portfolio-F-707ff0a2-c025-41e6-b8b3-c9b92f429210\n",
      "At time :  2020-07-10 18:38:42.849627+00:00\n",
      "Portfolio deleted :  portfolio_demo_xyz_38a5-0a6e-84e1-90 portfolio-X-6af65d97-8e74-4a3c-94ad-414fc7296d93\n",
      "At time :  2020-07-10 18:38:43.916388+00:00\n",
      "Portfolio deleted :  portfolio_demo_xyz_38a5-0a6e-84e1-90 portfolio-Y-0e12296d-722d-41a4-ae80-6f906d9f02f9\n",
      "At time :  2020-07-10 18:38:44.366425+00:00\n"
     ]
    }
   ],
   "source": [
    "# Next we delete the derived portfolios first\n",
    "print(\"Deleting Derived Portfolios ... \")\n",
    "for portfolio in derived_to_delete:\n",
    "    response = api_factory.build(lusid.api.PortfoliosApi).delete_portfolio(\n",
    "        scope=portfolio[0],\n",
    "        code=portfolio[1])\n",
    "    print('Portfolio deleted : ', portfolio[0], portfolio[1])\n",
    "    print('At time : ', str(response.as_at))\n",
    "\n",
    "\n",
    "print(\"Deleting remaining Portfolios ... \")\n",
    "# Then we proceed with deleting the remaining parent portfolios\n",
    "for portfolio in parents_to_delete:\n",
    "    response = api_factory.build(lusid.api.PortfoliosApi).delete_portfolio(\n",
    "        scope=portfolio[0],\n",
    "        code=portfolio[1])\n",
    "    print('Portfolio deleted : ', portfolio[0], portfolio[1])\n",
    "    print('At time : ', str(response.as_at))"
   ]
  },
  {
   "cell_type": "markdown",
   "metadata": {},
   "source": [
    "If we now re-list the portfolios in our scopes, we will see that only our two original portfolios remain, and one derived portfolio.  Note that scope 2 is now completely empty of portfolios.\n",
    "\n",
    "*Run the cell below to list all portfolios in both scopes at the latest time*"
   ]
  },
  {
   "cell_type": "code",
   "execution_count": 28,
   "metadata": {},
   "outputs": [
    {
     "name": "stdout",
     "output_type": "stream",
     "text": [
      "\u001b[91m\u001b[1mPortfolios remaining in scope: \u001b[0mportfolio_demo_38a5-0a6e-84e1-90:\n",
      "\u001b[1mDerived Portfolio Created\u001b[0m\n",
      "\u001b[1mScope: \u001b[0mportfolio_demo_38a5-0a6e-84e1-90\n",
      "\u001b[1mCode: \u001b[0mderived-portfolio-A-35b88f95-22aa-41e0-9685-ee94b920f9ec\n",
      "\u001b[1mPortfolio Effective From: \u001b[0m2018-01-01 00:00:00+00:00\n",
      "\u001b[1mPortfolio Created On: \u001b[0m2020-07-10 18:38:44.366425+00:00\n",
      "\n",
      "\u001b[1m   Parent Portfolio Details\u001b[0m\n",
      "\u001b[1m   Scope: \u001b[0mportfolio_demo_38a5-0a6e-84e1-90\n",
      "\u001b[1m   Code: \u001b[0mportfolio-A-0d361b51-ffb8-4e9c-98b9-97f4afe07e08\n",
      "\n",
      "\u001b[1mPortfolio Created\u001b[0m\n",
      "\u001b[1mScope: \u001b[0mportfolio_demo_38a5-0a6e-84e1-90\n",
      "\u001b[1mCode: \u001b[0mportfolio-A-0d361b51-ffb8-4e9c-98b9-97f4afe07e08\n",
      "\u001b[1mPortfolio Effective From: \u001b[0m2018-01-01 00:00:00+00:00\n",
      "\u001b[1mPortfolio Created On: \u001b[0m2020-07-10 18:38:44.366425+00:00\n",
      "\n",
      "\u001b[91m\u001b[1mPortfolios remaining in scope: \u001b[0mportfolio_demo_xyz_38a5-0a6e-84e1-90:\n"
     ]
    }
   ],
   "source": [
    "# We can re-run the list portfolios command to check what portfolios remain in each scope\n",
    "scope1_portfolios_list_response = api_factory.build(lusid.api.PortfoliosApi).list_portfolios_for_scope(\n",
    "    scope=scope1)\n",
    "\n",
    "scope2_portfolios_list_response = api_factory.build(lusid.api.PortfoliosApi).list_portfolios_for_scope(\n",
    "    scope=scope2)\n",
    "\n",
    "prettyprint.remaining_portfolios(scope1_portfolios_list_response, scope1)\n",
    "prettyprint.remaining_portfolios(scope2_portfolios_list_response, scope2)"
   ]
  }
 ],
 "metadata": {
  "celltoolbar": "Raw Cell Format",
  "kernelspec": {
   "display_name": "Python 3",
   "language": "python",
   "name": "python3"
  },
  "language_info": {
   "codemirror_mode": {
    "name": "ipython",
    "version": 3
   },
   "file_extension": ".py",
   "mimetype": "text/x-python",
   "name": "python",
   "nbconvert_exporter": "python",
   "pygments_lexer": "ipython3",
   "version": "3.7.6"
  }
 },
 "nbformat": 4,
 "nbformat_minor": 2
}
