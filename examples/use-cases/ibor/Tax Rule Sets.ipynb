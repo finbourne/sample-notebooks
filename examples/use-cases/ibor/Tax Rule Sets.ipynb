{
 "cells": [
  {
   "cell_type": "code",
   "execution_count": 3,
   "metadata": {
    "slideshow": {
     "slide_type": "skip"
    }
   },
   "outputs": [
    {
     "data": {
      "text/html": [
       "\n",
       "    <form action=\"javascript:code_toggle()\"><input type=\"submit\" id=\"toggleButton\" value=\"Toggle Docstring\"></form>\n",
       "    \n",
       "         <script>\n",
       "         function code_toggle() {\n",
       "             if ($('div.cell.code_cell.rendered.selected div.input').css('display')!='none'){\n",
       "                 $('div.cell.code_cell.rendered.selected div.input').hide();\n",
       "             } else {\n",
       "                 $('div.cell.code_cell.rendered.selected div.input').show();\n",
       "             }\n",
       "         }\n",
       "         </script>\n",
       "\n",
       "     "
      ],
      "text/plain": [
       "<IPython.core.display.HTML object>"
      ]
     },
     "metadata": {},
     "output_type": "display_data"
    }
   ],
   "source": [
    "from lusidtools.jupyter_tools import toggle_code\n",
    "\n",
    "\"\"\"Dividends & withholding taxes in LUSID\n",
    "\n",
    "Attributes\n",
    "----------\n",
    "corporate actions\n",
    "tax rule sets\n",
    "dividends\n",
    "\"\"\"\n",
    "\n",
    "toggle_code(\"Toggle Docstring\")"
   ]
  },
  {
   "cell_type": "markdown",
   "metadata": {
    "slideshow": {
     "slide_type": "skip"
    }
   },
   "source": [
    "_This notebook can be reviewed as as slideshow in Jupyter._\n",
    "\n",
    "_To view as slides, select View > Cell Toolbar > Slideshow._\n",
    "\n",
    "_Select the first cell in the notebook and click the 'Enter/Exit RISE Slideshow' button on the toolbar (it looks like a bar chart). Use the spacebar to progress through the slideshow._"
   ]
  },
  {
   "attachments": {},
   "cell_type": "markdown",
   "metadata": {
    "slideshow": {
     "slide_type": "skip"
    }
   },
   "source": [
    "## Table of Contents:\n",
    "\n",
    "- 1. [Setup LUSID](#1.-setup-lusid)\n",
    "- 2. [Create a Portfolio with associated Corporate Action Source](#2.-create-a-portfolio-with-associated-corporate-action-source)\n",
    "- 3. [Creating our Equity Instruments](#3.-creating-our-equity-instruments)\n",
    "  - 3.1. [Create the *CountryCode* property definition](#3.1.-create-the-*countrycode*-property-definition)\n",
    "  - 3.2. [Create the equities](#3.2.-create-the-equities)\n",
    "- 4. [Set our existing holdings](#4.-set-our-existing-holdings)\n",
    "  - 4.1. [Set holdings as cash amounts](#4.1.-set-holdings-as-cash-amounts)\n",
    "  - 4.2. [Add some Transactions to our portfolio](#4.2.-add-some-transactions-to-our-portfolio)\n",
    "- 5. [Dividends](#5.-dividends)\n",
    "- 6. [Taxing our dividends](#6.-taxing-our-dividends)\n",
    "  - 6.1. [Creating a TaxRuleSet with different rates over time](#6.1.-creating-a-taxruleset-with-different-rates-over-time)\n",
    "  - 6.2. [Dividends after tax](#6.2.-dividends-after-tax)\n",
    "- 7. [Tax rules are evaluated in turn until a match is found](#7.-tax-rules-are-evaluated-in-turn-until-a-match-is-found)\n",
    "  - 7.1. [Load our SBRY dividends](#7.1.-load-our-sbry-dividends)\n",
    "  - 7.2. [Add new instrument property and populate on our SBRY equity](#7.2.-add-new-instrument-property-and-populate-on-our-sbry-equity)\n",
    "  - 7.3. [Update our TaxRuleSet with an extra rule](#7.3.-update-our-taxruleset-with-an-extra-rule)\n",
    "- 8. [Adding another TaxRuleSet](#8.-adding-another-taxruleset)\n",
    "- 9. [Delete data this notebook has created](#9.-delete-data-this-notebook-has-created)"
   ]
  },
  {
   "attachments": {
    "Finbourne_logo.jpg": {
     "image/jpeg": "[encoded data removed]"
    }
   },
   "cell_type": "markdown",
   "metadata": {
    "slideshow": {
     "slide_type": "slide"
    }
   },
   "source": [
    "![Finbourne_logo.jpg](attachment:Finbourne_logo.jpg)"
   ]
  },
  {
   "cell_type": "markdown",
   "metadata": {
    "slideshow": {
     "slide_type": "-"
    }
   },
   "source": [
    "# Taxing dividends\n",
    "\n",
    "This notebook demonstrates how dividends can be taxed using TaxRuleSets in LUSID."
   ]
  },
  {
   "cell_type": "markdown",
   "metadata": {
    "slideshow": {
     "slide_type": "slide"
    }
   },
   "source": [
    "## 1. Setup LUSID"
   ]
  },
  {
   "cell_type": "code",
   "execution_count": 4,
   "metadata": {
    "slideshow": {
     "slide_type": "skip"
    }
   },
   "outputs": [
    {
     "name": "stdout",
     "output_type": "stream",
     "text": [
      "LUSID Environment Initialised\n",
      "LUSID API Version : 0.6.10595.0\n"
     ]
    }
   ],
   "source": [
    "# Import generic non-LUSID packages\n",
    "import os\n",
    "import pandas as pd\n",
    "import json\n",
    "import pytz\n",
    "\n",
    "# Import key modules from the LUSID package\n",
    "import lusid as lu\n",
    "import lusid.models as lm\n",
    "from lusid.utilities import ApiClientFactory\n",
    "from datetime import datetime\n",
    "\n",
    "# Import key functions from Lusid-Python-Tools and other packages\n",
    "from lusidtools.pandas_utils.lusid_pandas import lusid_response_to_data_frame\n",
    "from lusidjam import RefreshingToken\n",
    "\n",
    "# Set the secrets path\n",
    "secrets_path = os.getenv(\"FBN_SECRETS_PATH\")\n",
    "\n",
    "# For running the notebook locally\n",
    "if secrets_path is None:\n",
    "    secrets_path = os.path.join(os.path.dirname(os.getcwd()), \"secrets.json\")\n",
    "\n",
    "# Authenticate our user and create our API client\n",
    "api_factory = ApiClientFactory(\n",
    "    token=RefreshingToken(), api_secrets_filename=secrets_path\n",
    ")\n",
    "\n",
    "print(\"LUSID Environment Initialised\")\n",
    "print(\n",
    "    \"LUSID API Version :\",\n",
    "    api_factory.build(lu.api.ApplicationMetadataApi).get_lusid_versions().build_version,\n",
    ")"
   ]
  },
  {
   "cell_type": "code",
   "execution_count": 5,
   "metadata": {
    "slideshow": {
     "slide_type": "skip"
    }
   },
   "outputs": [],
   "source": [
    "# LUSID Variable Definitions\n",
    "corporate_action_sources_api = api_factory.build(lu.api.CorporateActionSourcesApi)\n",
    "transaction_portfolios_api = api_factory.build(lu.api.TransactionPortfoliosApi)\n",
    "property_definitions_api = api_factory.build(lu.api.PropertyDefinitionsApi)\n",
    "instruments_api = api_factory.build(lu.api.InstrumentsApi)\n",
    "tax_rules_api = api_factory.build(lu.api.TaxRuleSetsApi)\n",
    "portfolios_api = api_factory.build(lu.api.PortfoliosApi)"
   ]
  },
  {
   "cell_type": "code",
   "execution_count": 6,
   "metadata": {
    "slideshow": {
     "slide_type": "-"
    }
   },
   "outputs": [],
   "source": [
    "# Define scope and some other variables we'll use throughout the notebook\n",
    "scope = \"taxRuleSetSample\"\n",
    "ca_source_code = \"taxRuleSetSampleCAS\"\n",
    "portfolio_code = \"taxRuleSetSamplePortfolio\"\n",
    "\n",
    "withholding_output_property = \"withholdingTax\"\n",
    "relief_output_property = \"taxRelief\"\n",
    "\n",
    "tax_rule_set_withholding = \"grossWithholdingTaxRuleSet\"\n",
    "tax_rule_set_relief = \"reliefTaxRuleSet\""
   ]
  },
  {
   "cell_type": "code",
   "execution_count": 7,
   "metadata": {},
   "outputs": [],
   "source": [
    "# Define the files containing data we'll be using in this notebook\n",
    "\n",
    "# Transactions\n",
    "txns = pd.read_csv(\"data/taxrs_transactions.csv\")\n",
    "\n",
    "# Dividend data\n",
    "rr_dividends = pd.read_csv(\"data/taxrs_rr_dividends.csv\")\n",
    "sbry_dividends = pd.read_csv(\"data/taxrs_sbry_dividends.csv\")\n",
    "msft_dividends = pd.read_csv(\"data/taxrs_msft_dividends.csv\")"
   ]
  },
  {
   "cell_type": "markdown",
   "metadata": {
    "slideshow": {
     "slide_type": "slide"
    }
   },
   "source": [
    "## 2. Create a Portfolio with associated Corporate Action Source\n",
    "\n",
    "We first create a [`Corporate Actions Source`](https://support.lusid.com/knowledgebase/article/KA-01867). This will be linked to the [`Transaction Portfolio`](https://support.lusid.com/knowledgebase/article/KA-01851/) that we will put our equities in."
   ]
  },
  {
   "cell_type": "code",
   "execution_count": 8,
   "metadata": {
    "slideshow": {
     "slide_type": "subslide"
    }
   },
   "outputs": [
    {
     "name": "stdout",
     "output_type": "stream",
     "text": [
      "CorporateActionSource \"taxRuleSetSample/taxRuleSetSampleCAS\" already exists\n"
     ]
    }
   ],
   "source": [
    "try:\n",
    "\n",
    "    source_request = lm.CreateCorporateActionSourceRequest(\n",
    "        scope=scope,\n",
    "        code=ca_source_code,\n",
    "        display_name=\"CA Source - Tax Rules Sample\",\n",
    "        description=\"Corporate actions source for sample notebook\",\n",
    "        instrument_scopes=[f\"{scope}\"],\n",
    "    )\n",
    "\n",
    "    corporate_action_sources_api.create_corporate_action_source(\n",
    "        create_corporate_action_source_request=source_request\n",
    "    )\n",
    "    print(f'CorporateActionSource \"{scope}/{ca_source_code}\" created')\n",
    "\n",
    "except lu.ApiException as e:\n",
    "    detail = json.loads(e.body)\n",
    "    if detail[\"code\"] == 173:\n",
    "        print(f'CorporateActionSource \"{scope}/{ca_source_code}\" already exists')\n",
    "    else:\n",
    "        raise e"
   ]
  },
  {
   "cell_type": "markdown",
   "metadata": {
    "slideshow": {
     "slide_type": "subslide"
    }
   },
   "source": [
    "Now we create our `Transaction Portfolio`."
   ]
  },
  {
   "cell_type": "code",
   "execution_count": 9,
   "metadata": {
    "slideshow": {
     "slide_type": "-"
    }
   },
   "outputs": [
    {
     "name": "stdout",
     "output_type": "stream",
     "text": [
      "Portfolio \"taxRuleSetSample/taxRuleSetSamplePortfolio\" already exists\n"
     ]
    }
   ],
   "source": [
    "try:\n",
    "    transaction_portfolios_api.create_portfolio(\n",
    "        scope=scope,\n",
    "        create_transaction_portfolio_request=lm.CreateTransactionPortfolioRequest(\n",
    "            display_name=portfolio_code,\n",
    "            code=portfolio_code,\n",
    "            base_currency=\"GBP\",\n",
    "            created=datetime(year=2010, month=1, day=1, tzinfo=pytz.UTC),\n",
    "            corporate_action_source_id=lu.models.ResourceId(\n",
    "                scope=scope, code=ca_source_code\n",
    "            ),\n",
    "            instrument_scopes=[f\"{scope}\"],\n",
    "        ),\n",
    "    )\n",
    "    print(f'Portfolio \"{scope}/{portfolio_code}\" created')\n",
    "\n",
    "except lu.ApiException as e:\n",
    "    detail = json.loads(e.body)\n",
    "    if detail[\"code\"] == 112:\n",
    "        print(f'Portfolio \"{scope}/{portfolio_code}\" already exists')\n",
    "    else:\n",
    "        raise e"
   ]
  },
  {
   "cell_type": "markdown",
   "metadata": {
    "slideshow": {
     "slide_type": "slide"
    }
   },
   "source": [
    "## 3. Creating our Equity Instruments\n",
    "We will add 3 equity instruments to LUSID: 2 UK equities and 1 USA equity.\n",
    "\n",
    "On each we will set a *CountryCode* [property](https://support.lusid.com/knowledgebase/article/KA-01855/) that will be used to apply the correct tax rules for dividends."
   ]
  },
  {
   "cell_type": "markdown",
   "metadata": {
    "slideshow": {
     "slide_type": "subslide"
    }
   },
   "source": [
    "### 3.1 Create the *CountryCode* property definition\n",
    "First we create a [property definition](https://support.lusid.com/knowledgebase/article/KA-01856/en-us) for the *CountryCode* property."
   ]
  },
  {
   "cell_type": "code",
   "execution_count": 10,
   "metadata": {
    "slideshow": {
     "slide_type": "-"
    }
   },
   "outputs": [
    {
     "name": "stdout",
     "output_type": "stream",
     "text": [
      "Property \"taxRuleSetSample/CountryCode\" already exists\n"
     ]
    }
   ],
   "source": [
    "try:\n",
    "    property_definition_request = lm.CreatePropertyDefinitionRequest(\n",
    "        domain=\"Instrument\",\n",
    "        scope=scope,\n",
    "        code=\"CountryCode\",\n",
    "        display_name=\"Country Code\",\n",
    "        data_type_id=lm.ResourceId(\n",
    "            scope=\"system\",\n",
    "            code=\"string\",\n",
    "        ),\n",
    "        life_time=\"Perpetual\",\n",
    "    )\n",
    "\n",
    "    property_definitions_api.create_property_definition(\n",
    "        create_property_definition_request=property_definition_request\n",
    "    )\n",
    "    print(f'Property \"{scope}/CountryCode\" created')\n",
    "\n",
    "except lu.ApiException as e:\n",
    "    detail = json.loads(e.body)\n",
    "    if detail[\"code\"] == 124:\n",
    "        print(f'Property \"{scope}/CountryCode\" already exists')\n",
    "    else:\n",
    "        raise e"
   ]
  },
  {
   "cell_type": "markdown",
   "metadata": {
    "slideshow": {
     "slide_type": "subslide"
    }
   },
   "source": [
    "### 3.2 Create the equities"
   ]
  },
  {
   "cell_type": "markdown",
   "metadata": {
    "slideshow": {
     "slide_type": "skip"
    }
   },
   "source": [
    "First we create a function to help upsert equities into LUSID."
   ]
  },
  {
   "cell_type": "code",
   "execution_count": 11,
   "metadata": {
    "slideshow": {
     "slide_type": "skip"
    }
   },
   "outputs": [],
   "source": [
    "def create_equity(\n",
    "    name,\n",
    "    client_internal,\n",
    "    dom_ccy,\n",
    "    country_code,\n",
    "):\n",
    "\n",
    "    lusid_instrument = lm.Equity(\n",
    "        instrument_type=\"Equity\",\n",
    "        identifiers=lm.EquityAllOfIdentifiers(client_internal=client_internal),\n",
    "        dom_ccy=dom_ccy,\n",
    "    )\n",
    "\n",
    "    model_property = lm.ModelProperty(\n",
    "        key=f\"Instrument/{scope}/CountryCode\",\n",
    "        value=lm.PropertyValue(label_value=country_code),\n",
    "    )\n",
    "\n",
    "    instrument_definition = lm.InstrumentDefinition(\n",
    "        name=name,\n",
    "        identifiers={\"ClientInternal\": lm.InstrumentIdValue(value=client_internal)},\n",
    "        properties=[model_property],\n",
    "        definition=lusid_instrument,\n",
    "    )\n",
    "\n",
    "    # upsert the instrument\n",
    "    upsert_request = {client_internal: instrument_definition}\n",
    "    upsert_response = instruments_api.upsert_instruments(\n",
    "        scope=scope, request_body=upsert_request\n",
    "    )\n",
    "    equity_luid = upsert_response.values[client_internal].lusid_instrument_id\n",
    "    print(equity_luid)"
   ]
  },
  {
   "cell_type": "markdown",
   "metadata": {
    "slideshow": {
     "slide_type": "skip"
    }
   },
   "source": [
    "Now we load our 4 equities into LUSID."
   ]
  },
  {
   "cell_type": "code",
   "execution_count": 12,
   "metadata": {
    "slideshow": {
     "slide_type": "-"
    }
   },
   "outputs": [
    {
     "name": "stdout",
     "output_type": "stream",
     "text": [
      "LUID_00003D8I\n",
      "LUID_00003D8J\n",
      "LUID_00003D8K\n"
     ]
    }
   ],
   "source": [
    "name = \"Microsoft\"\n",
    "identifier = \"MSFT\"\n",
    "dom_ccy = \"USD\"\n",
    "country_code = \"USA\"\n",
    "create_equity(name, identifier, dom_ccy, country_code)\n",
    "\n",
    "name = \"Sainsbury\"\n",
    "identifier = \"SBRY\"\n",
    "dom_ccy = \"GBP\"\n",
    "country_code = \"UK\"\n",
    "create_equity(name, identifier, dom_ccy, country_code)\n",
    "\n",
    "name = \"Rolls Royce\"\n",
    "identifier = \"RR\"\n",
    "dom_ccy = \"GBP\"\n",
    "country_code = \"UK\"\n",
    "create_equity(name, identifier, dom_ccy, country_code)"
   ]
  },
  {
   "cell_type": "markdown",
   "metadata": {
    "slideshow": {
     "slide_type": "slide"
    }
   },
   "source": [
    "## 4. Set our existing holdings\n",
    "\n",
    "Our initial [`Holdings`](https://support.lusid.com/knowledgebase/article/KA-01882/en-us) will consist of some cash and equities."
   ]
  },
  {
   "cell_type": "markdown",
   "metadata": {
    "slideshow": {
     "slide_type": "skip"
    }
   },
   "source": [
    "### 4.1 Set holdings as cash amounts\n",
    "\n",
    "Let's start by adding some cash amounts into our portfolio.\n",
    "\n",
    "_We set the cash amounts here to values such that each is reduced to 100 after the transactions in the next section are added._"
   ]
  },
  {
   "cell_type": "code",
   "execution_count": 13,
   "metadata": {
    "slideshow": {
     "slide_type": "skip"
    }
   },
   "outputs": [],
   "source": [
    "# A function to help us set our holdings to cash amounts\n",
    "def add_cash_as_holding(cash_amounts):\n",
    "\n",
    "    holding_request = []\n",
    "    for ccy, amount in cash_amounts.items():\n",
    "        target_tax_lot_request = lm.TargetTaxLotRequest(units=amount)\n",
    "        holding_request.append(\n",
    "            lm.AdjustHoldingRequest(\n",
    "                instrument_identifiers={\"Instrument/default/Currency\": ccy},\n",
    "                tax_lots=[target_tax_lot_request],\n",
    "            )\n",
    "        )\n",
    "\n",
    "    transaction_portfolios_api.set_holdings(\n",
    "        scope=scope,\n",
    "        code=portfolio_code,\n",
    "        effective_at=datetime(year=2019, month=12, day=31, tzinfo=pytz.UTC),\n",
    "        adjust_holding_request=holding_request,\n",
    "    )\n",
    "\n",
    "\n",
    "cash_amounts = {\"GBP\": 327900, \"USD\": 318100}\n",
    "\n",
    "add_cash_as_holding(cash_amounts)"
   ]
  },
  {
   "cell_type": "markdown",
   "metadata": {
    "slideshow": {
     "slide_type": "skip"
    }
   },
   "source": [
    "### 4.2 Add some Transactions to our portfolio\n",
    "\n",
    "We now add some [`Transactions`](https://support.lusid.com/knowledgebase/article/KA-01868/en-us) to our portfolio to buy the equities."
   ]
  },
  {
   "cell_type": "code",
   "execution_count": 14,
   "metadata": {
    "slideshow": {
     "slide_type": "skip"
    }
   },
   "outputs": [
    {
     "data": {
      "text/html": [
       "<div>\n",
       "<style scoped>\n",
       "    .dataframe tbody tr th:only-of-type {\n",
       "        vertical-align: middle;\n",
       "    }\n",
       "\n",
       "    .dataframe tbody tr th {\n",
       "        vertical-align: top;\n",
       "    }\n",
       "\n",
       "    .dataframe thead th {\n",
       "        text-align: right;\n",
       "    }\n",
       "</style>\n",
       "<table border=\"1\" class=\"dataframe\">\n",
       "  <thead>\n",
       "    <tr style=\"text-align: right;\">\n",
       "      <th></th>\n",
       "      <th>txn_id</th>\n",
       "      <th>trade_date</th>\n",
       "      <th>transaction_type</th>\n",
       "      <th>inst_client_internal</th>\n",
       "      <th>instrument_currency</th>\n",
       "      <th>quantity</th>\n",
       "      <th>price</th>\n",
       "      <th>net_money</th>\n",
       "    </tr>\n",
       "  </thead>\n",
       "  <tbody>\n",
       "    <tr>\n",
       "      <th>0</th>\n",
       "      <td>tx_00001</td>\n",
       "      <td>2020-01-02T00:00:00.0000000+00:00</td>\n",
       "      <td>Buy</td>\n",
       "      <td>MSFT</td>\n",
       "      <td>USD</td>\n",
       "      <td>2000</td>\n",
       "      <td>159.00</td>\n",
       "      <td>318000</td>\n",
       "    </tr>\n",
       "    <tr>\n",
       "      <th>1</th>\n",
       "      <td>tx_00002</td>\n",
       "      <td>2020-01-02T00:00:00.0000000+00:00</td>\n",
       "      <td>Buy</td>\n",
       "      <td>SBRY</td>\n",
       "      <td>GBP</td>\n",
       "      <td>80000</td>\n",
       "      <td>2.32</td>\n",
       "      <td>185600</td>\n",
       "    </tr>\n",
       "    <tr>\n",
       "      <th>2</th>\n",
       "      <td>tx_00003</td>\n",
       "      <td>2020-01-02T00:00:00.0000000+00:00</td>\n",
       "      <td>Buy</td>\n",
       "      <td>RR</td>\n",
       "      <td>GBP</td>\n",
       "      <td>60000</td>\n",
       "      <td>2.37</td>\n",
       "      <td>142200</td>\n",
       "    </tr>\n",
       "  </tbody>\n",
       "</table>\n",
       "</div>"
      ],
      "text/plain": [
       "     txn_id                         trade_date transaction_type  \\\n",
       "0  tx_00001  2020-01-02T00:00:00.0000000+00:00              Buy   \n",
       "1  tx_00002  2020-01-02T00:00:00.0000000+00:00              Buy   \n",
       "2  tx_00003  2020-01-02T00:00:00.0000000+00:00              Buy   \n",
       "\n",
       "  inst_client_internal instrument_currency  quantity   price  net_money  \n",
       "0                 MSFT                 USD      2000  159.00     318000  \n",
       "1                 SBRY                 GBP     80000    2.32     185600  \n",
       "2                   RR                 GBP     60000    2.37     142200  "
      ]
     },
     "metadata": {},
     "output_type": "display_data"
    }
   ],
   "source": [
    "display(txns)"
   ]
  },
  {
   "cell_type": "code",
   "execution_count": 15,
   "metadata": {
    "slideshow": {
     "slide_type": "skip"
    }
   },
   "outputs": [
    {
     "name": "stdout",
     "output_type": "stream",
     "text": [
      "3 transactions upserted\n"
     ]
    }
   ],
   "source": [
    "# Upsert transactions\n",
    "transactions_request = []\n",
    "txn_response = []\n",
    "for row, txn in txns.iterrows():\n",
    "\n",
    "    # build request body\n",
    "    transactions_request.append(\n",
    "        lm.TransactionRequest(\n",
    "            transaction_id=txn[\"txn_id\"],\n",
    "            type=txn[\"transaction_type\"],\n",
    "            instrument_identifiers={\n",
    "                \"Instrument/default/ClientInternal\": txn[\"inst_client_internal\"]\n",
    "            },\n",
    "            transaction_date=txn[\"trade_date\"],\n",
    "            settlement_date=txn[\"trade_date\"],\n",
    "            units=txn[\"quantity\"],\n",
    "            transaction_price=lm.TransactionPrice(price=txn[\"price\"], type=\"Price\"),\n",
    "            total_consideration=lm.CurrencyAndAmount(\n",
    "                amount=txn[\"net_money\"], currency=txn[\"instrument_currency\"]\n",
    "            ),\n",
    "        )\n",
    "    )\n",
    "\n",
    "    # Make Upsert Transactions call to LUSID\n",
    "    txn_response.append(\n",
    "        transaction_portfolios_api.upsert_transactions(\n",
    "            scope=scope, code=portfolio_code, transaction_request=transactions_request\n",
    "        )\n",
    "    )\n",
    "\n",
    "print(f\"{len(txn_response)} transactions upserted\")"
   ]
  },
  {
   "cell_type": "code",
   "execution_count": 16,
   "metadata": {
    "slideshow": {
     "slide_type": "skip"
    }
   },
   "outputs": [],
   "source": [
    "def get_portfolio_holdings(y, m, d):\n",
    "\n",
    "    holdings = transaction_portfolios_api.get_holdings(\n",
    "        scope=scope,\n",
    "        code=portfolio_code,\n",
    "        effective_at=datetime(year=y, month=m, day=d, tzinfo=pytz.utc),\n",
    "        property_keys=[\"Instrument/default/Name\", f\"Instrument/{scope}/CountryCode\"],\n",
    "    )\n",
    "\n",
    "    # return holdings as dataframe\n",
    "    column_name_mapping = {\n",
    "        \"properties.Instrument/default/Name.value.label_value\": \"Instrument\",\n",
    "        f\"properties.Instrument/{scope}/CountryCode.value.label_value\": \"CountryCode\",\n",
    "        \"holding_type_name\": \"HoldingType\",\n",
    "        \"units\": \"Units\",\n",
    "    }\n",
    "\n",
    "    return lusid_response_to_data_frame(\n",
    "        holdings, column_name_mapping=column_name_mapping\n",
    "    )[[\"Instrument\", \"CountryCode\", \"Units\", \"HoldingType\"]]\n",
    "\n",
    "\n",
    "def get_portfolio_holdings_centeraligned(y, m, d):\n",
    "    return get_portfolio_holdings(y, m, d).style.set_properties(\n",
    "        **{\"text-align\": \"center\"}\n",
    "    )"
   ]
  },
  {
   "cell_type": "code",
   "execution_count": 17,
   "metadata": {
    "slideshow": {
     "slide_type": "-"
    }
   },
   "outputs": [
    {
     "data": {
      "text/html": [
       "<style type=\"text/css\">\n",
       "#T_88db0_row0_col0, #T_88db0_row0_col1, #T_88db0_row0_col2, #T_88db0_row0_col3, #T_88db0_row1_col0, #T_88db0_row1_col1, #T_88db0_row1_col2, #T_88db0_row1_col3, #T_88db0_row2_col0, #T_88db0_row2_col1, #T_88db0_row2_col2, #T_88db0_row2_col3, #T_88db0_row3_col0, #T_88db0_row3_col1, #T_88db0_row3_col2, #T_88db0_row3_col3, #T_88db0_row4_col0, #T_88db0_row4_col1, #T_88db0_row4_col2, #T_88db0_row4_col3 {\n",
       "  text-align: center;\n",
       "}\n",
       "</style>\n",
       "<table id=\"T_88db0\">\n",
       "  <thead>\n",
       "    <tr>\n",
       "      <th class=\"blank level0\" >&nbsp;</th>\n",
       "      <th id=\"T_88db0_level0_col0\" class=\"col_heading level0 col0\" >Instrument</th>\n",
       "      <th id=\"T_88db0_level0_col1\" class=\"col_heading level0 col1\" >CountryCode</th>\n",
       "      <th id=\"T_88db0_level0_col2\" class=\"col_heading level0 col2\" >Units</th>\n",
       "      <th id=\"T_88db0_level0_col3\" class=\"col_heading level0 col3\" >HoldingType</th>\n",
       "    </tr>\n",
       "  </thead>\n",
       "  <tbody>\n",
       "    <tr>\n",
       "      <th id=\"T_88db0_level0_row0\" class=\"row_heading level0 row0\" >0</th>\n",
       "      <td id=\"T_88db0_row0_col0\" class=\"data row0 col0\" >GBP</td>\n",
       "      <td id=\"T_88db0_row0_col1\" class=\"data row0 col1\" >nan</td>\n",
       "      <td id=\"T_88db0_row0_col2\" class=\"data row0 col2\" >100.000000</td>\n",
       "      <td id=\"T_88db0_row0_col3\" class=\"data row0 col3\" >Balance</td>\n",
       "    </tr>\n",
       "    <tr>\n",
       "      <th id=\"T_88db0_level0_row1\" class=\"row_heading level0 row1\" >1</th>\n",
       "      <td id=\"T_88db0_row1_col0\" class=\"data row1 col0\" >USD</td>\n",
       "      <td id=\"T_88db0_row1_col1\" class=\"data row1 col1\" >nan</td>\n",
       "      <td id=\"T_88db0_row1_col2\" class=\"data row1 col2\" >100.000000</td>\n",
       "      <td id=\"T_88db0_row1_col3\" class=\"data row1 col3\" >Balance</td>\n",
       "    </tr>\n",
       "    <tr>\n",
       "      <th id=\"T_88db0_level0_row2\" class=\"row_heading level0 row2\" >2</th>\n",
       "      <td id=\"T_88db0_row2_col0\" class=\"data row2 col0\" >Microsoft</td>\n",
       "      <td id=\"T_88db0_row2_col1\" class=\"data row2 col1\" >USA</td>\n",
       "      <td id=\"T_88db0_row2_col2\" class=\"data row2 col2\" >2000.000000</td>\n",
       "      <td id=\"T_88db0_row2_col3\" class=\"data row2 col3\" >Position</td>\n",
       "    </tr>\n",
       "    <tr>\n",
       "      <th id=\"T_88db0_level0_row3\" class=\"row_heading level0 row3\" >3</th>\n",
       "      <td id=\"T_88db0_row3_col0\" class=\"data row3 col0\" >Sainsbury</td>\n",
       "      <td id=\"T_88db0_row3_col1\" class=\"data row3 col1\" >UK</td>\n",
       "      <td id=\"T_88db0_row3_col2\" class=\"data row3 col2\" >80000.000000</td>\n",
       "      <td id=\"T_88db0_row3_col3\" class=\"data row3 col3\" >Position</td>\n",
       "    </tr>\n",
       "    <tr>\n",
       "      <th id=\"T_88db0_level0_row4\" class=\"row_heading level0 row4\" >4</th>\n",
       "      <td id=\"T_88db0_row4_col0\" class=\"data row4 col0\" >Rolls Royce</td>\n",
       "      <td id=\"T_88db0_row4_col1\" class=\"data row4 col1\" >UK</td>\n",
       "      <td id=\"T_88db0_row4_col2\" class=\"data row4 col2\" >60000.000000</td>\n",
       "      <td id=\"T_88db0_row4_col3\" class=\"data row4 col3\" >Position</td>\n",
       "    </tr>\n",
       "  </tbody>\n",
       "</table>\n"
      ],
      "text/plain": [
       "<pandas.io.formats.style.Styler at 0x2d4f294d690>"
      ]
     },
     "metadata": {},
     "output_type": "display_data"
    }
   ],
   "source": [
    "display(get_portfolio_holdings_centeraligned(2020, 1, 2))"
   ]
  },
  {
   "cell_type": "markdown",
   "metadata": {
    "slideshow": {
     "slide_type": "slide"
    }
   },
   "source": [
    "## 5. Dividends\n",
    "\n",
    "We will now add some dividends for Rolls Royce to our [`Corporate Action Source`](https://support.lusid.com/knowledgebase/article/KA-01867/en-us).\n",
    "\n",
    "_N.B. As well as the data required to add Rolls Royce dividends to our `Corporate Action Source` the CSV also includes columns that show our expected GBP cash amounts given the tax rates used in this notebook when only the RR dividends are in LUSID._"
   ]
  },
  {
   "cell_type": "code",
   "execution_count": 18,
   "metadata": {
    "slideshow": {
     "slide_type": "fragment"
    }
   },
   "outputs": [
    {
     "data": {
      "text/html": [
       "<style type=\"text/css\">\n",
       "#T_fb336_row0_col0, #T_fb336_row0_col1, #T_fb336_row0_col2, #T_fb336_row0_col3, #T_fb336_row0_col4, #T_fb336_row0_col5, #T_fb336_row0_col6, #T_fb336_row0_col7, #T_fb336_row0_col8, #T_fb336_row0_col9, #T_fb336_row0_col10, #T_fb336_row0_col11, #T_fb336_row0_col12, #T_fb336_row0_col13, #T_fb336_row0_col14, #T_fb336_row1_col0, #T_fb336_row1_col1, #T_fb336_row1_col2, #T_fb336_row1_col3, #T_fb336_row1_col4, #T_fb336_row1_col5, #T_fb336_row1_col6, #T_fb336_row1_col7, #T_fb336_row1_col8, #T_fb336_row1_col9, #T_fb336_row1_col10, #T_fb336_row1_col11, #T_fb336_row1_col12, #T_fb336_row1_col13, #T_fb336_row1_col14, #T_fb336_row2_col0, #T_fb336_row2_col1, #T_fb336_row2_col2, #T_fb336_row2_col3, #T_fb336_row2_col4, #T_fb336_row2_col5, #T_fb336_row2_col6, #T_fb336_row2_col7, #T_fb336_row2_col8, #T_fb336_row2_col9, #T_fb336_row2_col10, #T_fb336_row2_col11, #T_fb336_row2_col12, #T_fb336_row2_col13, #T_fb336_row2_col14, #T_fb336_row3_col0, #T_fb336_row3_col1, #T_fb336_row3_col2, #T_fb336_row3_col3, #T_fb336_row3_col4, #T_fb336_row3_col5, #T_fb336_row3_col6, #T_fb336_row3_col7, #T_fb336_row3_col8, #T_fb336_row3_col9, #T_fb336_row3_col10, #T_fb336_row3_col11, #T_fb336_row3_col12, #T_fb336_row3_col13, #T_fb336_row3_col14, #T_fb336_row4_col0, #T_fb336_row4_col1, #T_fb336_row4_col2, #T_fb336_row4_col3, #T_fb336_row4_col4, #T_fb336_row4_col5, #T_fb336_row4_col6, #T_fb336_row4_col7, #T_fb336_row4_col8, #T_fb336_row4_col9, #T_fb336_row4_col10, #T_fb336_row4_col11, #T_fb336_row4_col12, #T_fb336_row4_col13, #T_fb336_row4_col14 {\n",
       "  text-align: center;\n",
       "}\n",
       "</style>\n",
       "<table id=\"T_fb336\">\n",
       "  <thead>\n",
       "    <tr>\n",
       "      <th class=\"blank level0\" >&nbsp;</th>\n",
       "      <th id=\"T_fb336_level0_col0\" class=\"col_heading level0 col0\" >code</th>\n",
       "      <th id=\"T_fb336_level0_col1\" class=\"col_heading level0 col1\" >client_internal</th>\n",
       "      <th id=\"T_fb336_level0_col2\" class=\"col_heading level0 col2\" >div_amount</th>\n",
       "      <th id=\"T_fb336_level0_col3\" class=\"col_heading level0 col3\" >div_ccy</th>\n",
       "      <th id=\"T_fb336_level0_col4\" class=\"col_heading level0 col4\" >announcement_date</th>\n",
       "      <th id=\"T_fb336_level0_col5\" class=\"col_heading level0 col5\" >ex_date</th>\n",
       "      <th id=\"T_fb336_level0_col6\" class=\"col_heading level0 col6\" >record_date</th>\n",
       "      <th id=\"T_fb336_level0_col7\" class=\"col_heading level0 col7\" >payment_date</th>\n",
       "      <th id=\"T_fb336_level0_col8\" class=\"col_heading level0 col8\" >Holding</th>\n",
       "      <th id=\"T_fb336_level0_col9\" class=\"col_heading level0 col9\" >Expected Gross Dividend (div_amount * Holding)</th>\n",
       "      <th id=\"T_fb336_level0_col10\" class=\"col_heading level0 col10\" >Expected Tax Rate</th>\n",
       "      <th id=\"T_fb336_level0_col11\" class=\"col_heading level0 col11\" >Expected Tax Amount (Gross * Tax Rate)</th>\n",
       "      <th id=\"T_fb336_level0_col12\" class=\"col_heading level0 col12\" >Expected Net Dividend (Gross - Tax)</th>\n",
       "      <th id=\"T_fb336_level0_col13\" class=\"col_heading level0 col13\" >Expected cash prior to dividend</th>\n",
       "      <th id=\"T_fb336_level0_col14\" class=\"col_heading level0 col14\" >Expected cash after net dividend</th>\n",
       "    </tr>\n",
       "  </thead>\n",
       "  <tbody>\n",
       "    <tr>\n",
       "      <th id=\"T_fb336_level0_row0\" class=\"row_heading level0 row0\" >0</th>\n",
       "      <td id=\"T_fb336_row0_col0\" class=\"data row0 col0\" >RR_1_20200707</td>\n",
       "      <td id=\"T_fb336_row0_col1\" class=\"data row0 col1\" >RR</td>\n",
       "      <td id=\"T_fb336_row0_col2\" class=\"data row0 col2\" >0.037900</td>\n",
       "      <td id=\"T_fb336_row0_col3\" class=\"data row0 col3\" >GBP</td>\n",
       "      <td id=\"T_fb336_row0_col4\" class=\"data row0 col4\" >31-Mar-20</td>\n",
       "      <td id=\"T_fb336_row0_col5\" class=\"data row0 col5\" >28-Apr-20</td>\n",
       "      <td id=\"T_fb336_row0_col6\" class=\"data row0 col6\" >29-Apr-20</td>\n",
       "      <td id=\"T_fb336_row0_col7\" class=\"data row0 col7\" >07-Jul-20</td>\n",
       "      <td id=\"T_fb336_row0_col8\" class=\"data row0 col8\" >60000</td>\n",
       "      <td id=\"T_fb336_row0_col9\" class=\"data row0 col9\" >2274</td>\n",
       "      <td id=\"T_fb336_row0_col10\" class=\"data row0 col10\" >20%</td>\n",
       "      <td id=\"T_fb336_row0_col11\" class=\"data row0 col11\" >454.800000</td>\n",
       "      <td id=\"T_fb336_row0_col12\" class=\"data row0 col12\" >1819.200000</td>\n",
       "      <td id=\"T_fb336_row0_col13\" class=\"data row0 col13\" >100.000000</td>\n",
       "      <td id=\"T_fb336_row0_col14\" class=\"data row0 col14\" >1919.200000</td>\n",
       "    </tr>\n",
       "    <tr>\n",
       "      <th id=\"T_fb336_level0_row1\" class=\"row_heading level0 row1\" >1</th>\n",
       "      <td id=\"T_fb336_row1_col0\" class=\"data row1 col0\" >RR_2_20210107</td>\n",
       "      <td id=\"T_fb336_row1_col1\" class=\"data row1 col1\" >RR</td>\n",
       "      <td id=\"T_fb336_row1_col2\" class=\"data row1 col2\" >0.035000</td>\n",
       "      <td id=\"T_fb336_row1_col3\" class=\"data row1 col3\" >GBP</td>\n",
       "      <td id=\"T_fb336_row1_col4\" class=\"data row1 col4\" >01-Oct-20</td>\n",
       "      <td id=\"T_fb336_row1_col5\" class=\"data row1 col5\" >29-Oct-20</td>\n",
       "      <td id=\"T_fb336_row1_col6\" class=\"data row1 col6\" >30-Oct-20</td>\n",
       "      <td id=\"T_fb336_row1_col7\" class=\"data row1 col7\" >07-Jan-21</td>\n",
       "      <td id=\"T_fb336_row1_col8\" class=\"data row1 col8\" >60000</td>\n",
       "      <td id=\"T_fb336_row1_col9\" class=\"data row1 col9\" >2100</td>\n",
       "      <td id=\"T_fb336_row1_col10\" class=\"data row1 col10\" >20%</td>\n",
       "      <td id=\"T_fb336_row1_col11\" class=\"data row1 col11\" >420.000000</td>\n",
       "      <td id=\"T_fb336_row1_col12\" class=\"data row1 col12\" >1680.000000</td>\n",
       "      <td id=\"T_fb336_row1_col13\" class=\"data row1 col13\" >1919.200000</td>\n",
       "      <td id=\"T_fb336_row1_col14\" class=\"data row1 col14\" >3599.200000</td>\n",
       "    </tr>\n",
       "    <tr>\n",
       "      <th id=\"T_fb336_level0_row2\" class=\"row_heading level0 row2\" >2</th>\n",
       "      <td id=\"T_fb336_row2_col0\" class=\"data row2 col0\" >RR_3_20210707</td>\n",
       "      <td id=\"T_fb336_row2_col1\" class=\"data row2 col1\" >RR</td>\n",
       "      <td id=\"T_fb336_row2_col2\" class=\"data row2 col2\" >0.037500</td>\n",
       "      <td id=\"T_fb336_row2_col3\" class=\"data row2 col3\" >GBP</td>\n",
       "      <td id=\"T_fb336_row2_col4\" class=\"data row2 col4\" >31-Mar-21</td>\n",
       "      <td id=\"T_fb336_row2_col5\" class=\"data row2 col5\" >28-Apr-21</td>\n",
       "      <td id=\"T_fb336_row2_col6\" class=\"data row2 col6\" >29-Apr-21</td>\n",
       "      <td id=\"T_fb336_row2_col7\" class=\"data row2 col7\" >07-Jul-21</td>\n",
       "      <td id=\"T_fb336_row2_col8\" class=\"data row2 col8\" >60000</td>\n",
       "      <td id=\"T_fb336_row2_col9\" class=\"data row2 col9\" >2250</td>\n",
       "      <td id=\"T_fb336_row2_col10\" class=\"data row2 col10\" >22%</td>\n",
       "      <td id=\"T_fb336_row2_col11\" class=\"data row2 col11\" >495.000000</td>\n",
       "      <td id=\"T_fb336_row2_col12\" class=\"data row2 col12\" >1755.000000</td>\n",
       "      <td id=\"T_fb336_row2_col13\" class=\"data row2 col13\" >3599.200000</td>\n",
       "      <td id=\"T_fb336_row2_col14\" class=\"data row2 col14\" >5354.200000</td>\n",
       "    </tr>\n",
       "    <tr>\n",
       "      <th id=\"T_fb336_level0_row3\" class=\"row_heading level0 row3\" >3</th>\n",
       "      <td id=\"T_fb336_row3_col0\" class=\"data row3 col0\" >RR_4_20220107</td>\n",
       "      <td id=\"T_fb336_row3_col1\" class=\"data row3 col1\" >RR</td>\n",
       "      <td id=\"T_fb336_row3_col2\" class=\"data row3 col2\" >0.040200</td>\n",
       "      <td id=\"T_fb336_row3_col3\" class=\"data row3 col3\" >GBP</td>\n",
       "      <td id=\"T_fb336_row3_col4\" class=\"data row3 col4\" >01-Oct-21</td>\n",
       "      <td id=\"T_fb336_row3_col5\" class=\"data row3 col5\" >29-Oct-21</td>\n",
       "      <td id=\"T_fb336_row3_col6\" class=\"data row3 col6\" >01-Nov-21</td>\n",
       "      <td id=\"T_fb336_row3_col7\" class=\"data row3 col7\" >07-Jan-22</td>\n",
       "      <td id=\"T_fb336_row3_col8\" class=\"data row3 col8\" >60000</td>\n",
       "      <td id=\"T_fb336_row3_col9\" class=\"data row3 col9\" >2412</td>\n",
       "      <td id=\"T_fb336_row3_col10\" class=\"data row3 col10\" >22%</td>\n",
       "      <td id=\"T_fb336_row3_col11\" class=\"data row3 col11\" >530.640000</td>\n",
       "      <td id=\"T_fb336_row3_col12\" class=\"data row3 col12\" >1881.360000</td>\n",
       "      <td id=\"T_fb336_row3_col13\" class=\"data row3 col13\" >5354.200000</td>\n",
       "      <td id=\"T_fb336_row3_col14\" class=\"data row3 col14\" >7235.560000</td>\n",
       "    </tr>\n",
       "    <tr>\n",
       "      <th id=\"T_fb336_level0_row4\" class=\"row_heading level0 row4\" >4</th>\n",
       "      <td id=\"T_fb336_row4_col0\" class=\"data row4 col0\" >RR_5_20220807</td>\n",
       "      <td id=\"T_fb336_row4_col1\" class=\"data row4 col1\" >RR</td>\n",
       "      <td id=\"T_fb336_row4_col2\" class=\"data row4 col2\" >0.039900</td>\n",
       "      <td id=\"T_fb336_row4_col3\" class=\"data row4 col3\" >GBP</td>\n",
       "      <td id=\"T_fb336_row4_col4\" class=\"data row4 col4\" >31-Mar-22</td>\n",
       "      <td id=\"T_fb336_row4_col5\" class=\"data row4 col5\" >28-Apr-22</td>\n",
       "      <td id=\"T_fb336_row4_col6\" class=\"data row4 col6\" >29-Apr-22</td>\n",
       "      <td id=\"T_fb336_row4_col7\" class=\"data row4 col7\" >07-Jul-22</td>\n",
       "      <td id=\"T_fb336_row4_col8\" class=\"data row4 col8\" >60000</td>\n",
       "      <td id=\"T_fb336_row4_col9\" class=\"data row4 col9\" >2394</td>\n",
       "      <td id=\"T_fb336_row4_col10\" class=\"data row4 col10\" >24%</td>\n",
       "      <td id=\"T_fb336_row4_col11\" class=\"data row4 col11\" >574.560000</td>\n",
       "      <td id=\"T_fb336_row4_col12\" class=\"data row4 col12\" >1819.440000</td>\n",
       "      <td id=\"T_fb336_row4_col13\" class=\"data row4 col13\" >7235.560000</td>\n",
       "      <td id=\"T_fb336_row4_col14\" class=\"data row4 col14\" >9055.000000</td>\n",
       "    </tr>\n",
       "  </tbody>\n",
       "</table>\n"
      ],
      "text/plain": [
       "<pandas.io.formats.style.Styler at 0x2d4ff747fd0>"
      ]
     },
     "execution_count": 18,
     "metadata": {},
     "output_type": "execute_result"
    }
   ],
   "source": [
    "rr_dividends.style.set_properties(**{\"text-align\": \"center\"})"
   ]
  },
  {
   "cell_type": "code",
   "execution_count": 19,
   "metadata": {
    "slideshow": {
     "slide_type": "skip"
    }
   },
   "outputs": [],
   "source": [
    "def to_datetime(date):\n",
    "    datetime_date = datetime.strptime(date, \"%d-%b-%y\").replace(tzinfo=pytz.utc)\n",
    "    return datetime_date\n",
    "\n",
    "\n",
    "def load_dividends(dividends):\n",
    "    dividend_request = []\n",
    "\n",
    "    for i, r in dividends.iterrows():\n",
    "        dividend_request.append(\n",
    "            lm.UpsertCorporateActionRequest(\n",
    "                corporate_action_code=r[\"code\"],\n",
    "                announcement_date=to_datetime(r[\"announcement_date\"]),\n",
    "                ex_date=to_datetime(r[\"ex_date\"]),\n",
    "                record_date=to_datetime(r[\"record_date\"]),\n",
    "                payment_date=to_datetime(r[\"payment_date\"]),\n",
    "                transitions=[\n",
    "                    lm.CorporateActionTransition(\n",
    "                        input_transition=lm.CorporateActionTransitionComponentRequest(\n",
    "                            instrument_identifiers={\n",
    "                                \"Instrument/default/ClientInternal\": r[\n",
    "                                    \"client_internal\"\n",
    "                                ]\n",
    "                            },\n",
    "                            units_factor=1,\n",
    "                            cost_factor=0,\n",
    "                        ),\n",
    "                        output_transitions=[\n",
    "                            lm.CorporateActionTransitionComponentRequest(\n",
    "                                instrument_identifiers={\n",
    "                                    f\"Instrument/default/Currency\": r[\"div_ccy\"]\n",
    "                                },\n",
    "                                units_factor=float(r[\"div_amount\"]),\n",
    "                                cost_factor=0,\n",
    "                            )\n",
    "                        ],\n",
    "                    )\n",
    "                ],\n",
    "            )\n",
    "        )\n",
    "\n",
    "    corporate_action_sources_api.batch_upsert_corporate_actions(\n",
    "        scope=scope,\n",
    "        code=ca_source_code,\n",
    "        upsert_corporate_action_request=dividend_request,\n",
    "    )\n",
    "\n",
    "    print(f\"{len(dividend_request)} dividends created\")"
   ]
  },
  {
   "cell_type": "code",
   "execution_count": 20,
   "metadata": {
    "slideshow": {
     "slide_type": "skip"
    }
   },
   "outputs": [
    {
     "name": "stdout",
     "output_type": "stream",
     "text": [
      "5 dividends created\n"
     ]
    }
   ],
   "source": [
    "load_dividends(rr_dividends)"
   ]
  },
  {
   "cell_type": "markdown",
   "metadata": {
    "slideshow": {
     "slide_type": "slide"
    }
   },
   "source": [
    "## 6. Taxing our dividends\n",
    "\n",
    "In this section we will add a TaxRuleSet applicable to our Rolls Royce dividends."
   ]
  },
  {
   "cell_type": "markdown",
   "metadata": {
    "slideshow": {
     "slide_type": "-"
    }
   },
   "source": [
    "### 6.1 Creating a TaxRuleSet with different rates over time"
   ]
  },
  {
   "cell_type": "markdown",
   "metadata": {
    "slideshow": {
     "slide_type": "-"
    }
   },
   "source": [
    "We will create a TaxRuleSet targeting UK equity instruments with the following tax rates:\n",
    "\n",
    "| Effective Date* | Tax Rate |\n",
    "| -------------- | -------- |\n",
    "| 01 Jan 2020 | 20% |\n",
    "| 01 Jan 2021 | 22% |\n",
    "| 01 Jan 2022 | 24% |\n",
    "\n",
    "_*The dividend will be taxed at the rate in effect on the ex-date of that dividend._"
   ]
  },
  {
   "cell_type": "markdown",
   "metadata": {
    "slideshow": {
     "slide_type": "subslide"
    }
   },
   "source": [
    "First we'll create our _output_property_key_. This is the property used to attach the calculated tax to the [`Output Transaction`](#https://support.lusid.com/knowledgebase/article/KA-01869/en-us)."
   ]
  },
  {
   "cell_type": "code",
   "execution_count": 21,
   "metadata": {
    "slideshow": {
     "slide_type": "-"
    }
   },
   "outputs": [
    {
     "name": "stdout",
     "output_type": "stream",
     "text": [
      "Property \"taxRuleSetSample/withholdingTax\" already exists\n"
     ]
    }
   ],
   "source": [
    "try:\n",
    "    property_definition_request = lm.CreatePropertyDefinitionRequest(\n",
    "        domain=\"Transaction\",\n",
    "        scope=scope,\n",
    "        code=withholding_output_property,\n",
    "        display_name=withholding_output_property,\n",
    "        data_type_id=lm.ResourceId(\n",
    "            scope=\"system\",\n",
    "            code=\"number\",\n",
    "        ),\n",
    "        life_time=\"Perpetual\",\n",
    "    )\n",
    "\n",
    "    property_definitions_api.create_property_definition(\n",
    "        create_property_definition_request=property_definition_request\n",
    "    )\n",
    "    print(f'Property \"{scope}/{withholding_output_property}\" created')\n",
    "\n",
    "except lu.ApiException as e:\n",
    "    detail = json.loads(e.body)\n",
    "    if detail[\"code\"] == 124:\n",
    "        print(f'Property \"{scope}/{withholding_output_property}\" already exists')\n",
    "    else:\n",
    "        raise e"
   ]
  },
  {
   "cell_type": "markdown",
   "metadata": {
    "slideshow": {
     "slide_type": "subslide"
    }
   },
   "source": [
    "Now we'll add our TaxRuleSet."
   ]
  },
  {
   "cell_type": "markdown",
   "metadata": {
    "slideshow": {
     "slide_type": "skip"
    }
   },
   "source": [
    "First, we'll define helper functions to call either the Create or Update endpoints."
   ]
  },
  {
   "cell_type": "code",
   "execution_count": 22,
   "metadata": {
    "slideshow": {
     "slide_type": "skip"
    }
   },
   "outputs": [],
   "source": [
    "def tax_rules_set_exists(tax_rule_set_code):\n",
    "    try:\n",
    "        response = tax_rules_api.get_tax_rule_set(scope=scope, code=tax_rule_set_code)\n",
    "        return True\n",
    "\n",
    "    except lu.ApiException as e:\n",
    "        detail = json.loads(e.body)\n",
    "        if detail[\"code\"] == 796:  # error code for 'Tax rule set not found'\n",
    "            return False\n",
    "        else:\n",
    "            raise e\n",
    "\n",
    "\n",
    "def upsert_tax_rule_set(tax_rule_set_code, effective_at, output_property, rules):\n",
    "\n",
    "    display_name = output_property\n",
    "    description = f\"Tax Rule Set for {output_property}\"\n",
    "    output_property_key = f\"Transaction/{scope}/{output_property}\"\n",
    "\n",
    "    if tax_rules_set_exists(tax_rule_set_code):\n",
    "        # update existing\n",
    "\n",
    "        tax_rule_set_request = lm.UpdateTaxRuleSetRequest(\n",
    "            display_name=display_name,\n",
    "            description=description,\n",
    "            rules=rules,\n",
    "        )\n",
    "\n",
    "        tax_rules_api.update_tax_rule_set(\n",
    "            scope=scope,\n",
    "            code=tax_rule_set_code,\n",
    "            update_tax_rule_set_request=tax_rule_set_request,\n",
    "            effective_at=effective_at,\n",
    "        )\n",
    "\n",
    "        print(f\"{tax_rule_set_code} updated\")\n",
    "\n",
    "    else:\n",
    "        # create new\n",
    "\n",
    "        tax_rule_set_request = lm.CreateTaxRuleSetRequest(\n",
    "            id=lm.ResourceId(scope=scope, code=tax_rule_set_code),\n",
    "            display_name=display_name,\n",
    "            description=description,\n",
    "            output_property_key=output_property_key,\n",
    "            rules=rules,\n",
    "        )\n",
    "\n",
    "        tax_rules_api.create_tax_rule_set(\n",
    "            create_tax_rule_set_request=tax_rule_set_request, effective_at=effective_at\n",
    "        )\n",
    "\n",
    "        print(f\"{tax_rule_set_code} created\")"
   ]
  },
  {
   "cell_type": "markdown",
   "metadata": {
    "slideshow": {
     "slide_type": "skip"
    }
   },
   "source": [
    "The TaxRuleSet is now created and then updated with different rates for different effective_at dates."
   ]
  },
  {
   "cell_type": "code",
   "execution_count": 23,
   "metadata": {
    "slideshow": {
     "slide_type": "-"
    }
   },
   "outputs": [
    {
     "name": "stdout",
     "output_type": "stream",
     "text": [
      "grossWithholdingTaxRuleSet updated\n",
      "grossWithholdingTaxRuleSet updated\n",
      "grossWithholdingTaxRuleSet updated\n"
     ]
    }
   ],
   "source": [
    "def getRules(inst_property_name, inst_property_value, rate):\n",
    "    return [\n",
    "        lm.TaxRule(\n",
    "            name=f\"{inst_property_value}_TaxRule\",\n",
    "            description=f\"{inst_property_value} TaxRule\",\n",
    "            rate=rate,\n",
    "            match_criteria=[\n",
    "                lm.PropertyValueEquals(\n",
    "                    property_key=f\"Instrument/{scope}/{inst_property_name}\",\n",
    "                    value=inst_property_value,\n",
    "                    criterion_type=\"PropertyValueEquals\",\n",
    "                )\n",
    "            ],\n",
    "        )\n",
    "    ]\n",
    "\n",
    "\n",
    "rules = getRules(\"CountryCode\", \"UK\", 0.20)\n",
    "effective_at = datetime(year=2020, month=1, day=1, tzinfo=pytz.utc)\n",
    "upsert_tax_rule_set(\n",
    "    tax_rule_set_withholding, effective_at, withholding_output_property, rules\n",
    ")\n",
    "\n",
    "rules = getRules(\"CountryCode\", \"UK\", 0.22)\n",
    "effective_at = datetime(year=2021, month=1, day=1, tzinfo=pytz.utc)\n",
    "upsert_tax_rule_set(\n",
    "    tax_rule_set_withholding, effective_at, withholding_output_property, rules\n",
    ")\n",
    "\n",
    "rules = getRules(\"CountryCode\", \"UK\", 0.24)\n",
    "effective_at = datetime(year=2022, month=1, day=1, tzinfo=pytz.utc)\n",
    "upsert_tax_rule_set(\n",
    "    tax_rule_set_withholding, effective_at, withholding_output_property, rules\n",
    ")"
   ]
  },
  {
   "cell_type": "markdown",
   "metadata": {
    "slideshow": {
     "slide_type": "subslide"
    }
   },
   "source": [
    "### 6.2 Dividends after tax"
   ]
  },
  {
   "cell_type": "markdown",
   "metadata": {
    "slideshow": {
     "slide_type": "slide"
    }
   },
   "source": [
    "Let's remind ourselves of our first dividend."
   ]
  },
  {
   "cell_type": "code",
   "execution_count": 24,
   "metadata": {
    "slideshow": {
     "slide_type": "skip"
    }
   },
   "outputs": [],
   "source": [
    "div_cols_to_show = [\n",
    "    \"code\",\n",
    "    \"div_amount\",\n",
    "    \"ex_date\",\n",
    "    \"payment_date\",\n",
    "    \"Holding\",\n",
    "    \"Expected Gross Dividend (div_amount * Holding)\",\n",
    "    \"Expected Tax Rate\",\n",
    "    \"Expected Tax Amount (Gross * Tax Rate)\",\n",
    "    \"Expected Net Dividend (Gross - Tax)\",\n",
    "    \"Expected cash prior to dividend\",\n",
    "    \"Expected cash after net dividend\",\n",
    "]"
   ]
  },
  {
   "cell_type": "code",
   "execution_count": 25,
   "metadata": {
    "slideshow": {
     "slide_type": "-"
    }
   },
   "outputs": [
    {
     "data": {
      "text/html": [
       "<style type=\"text/css\">\n",
       "#T_62518_row0_col0, #T_62518_row0_col1, #T_62518_row0_col2, #T_62518_row0_col3, #T_62518_row0_col4, #T_62518_row0_col5, #T_62518_row0_col6, #T_62518_row0_col7, #T_62518_row0_col8, #T_62518_row0_col9, #T_62518_row0_col10 {\n",
       "  text-align: center;\n",
       "}\n",
       "</style>\n",
       "<table id=\"T_62518\">\n",
       "  <thead>\n",
       "    <tr>\n",
       "      <th class=\"blank level0\" >&nbsp;</th>\n",
       "      <th id=\"T_62518_level0_col0\" class=\"col_heading level0 col0\" >code</th>\n",
       "      <th id=\"T_62518_level0_col1\" class=\"col_heading level0 col1\" >div_amount</th>\n",
       "      <th id=\"T_62518_level0_col2\" class=\"col_heading level0 col2\" >ex_date</th>\n",
       "      <th id=\"T_62518_level0_col3\" class=\"col_heading level0 col3\" >payment_date</th>\n",
       "      <th id=\"T_62518_level0_col4\" class=\"col_heading level0 col4\" >Holding</th>\n",
       "      <th id=\"T_62518_level0_col5\" class=\"col_heading level0 col5\" >Expected Gross Dividend (div_amount * Holding)</th>\n",
       "      <th id=\"T_62518_level0_col6\" class=\"col_heading level0 col6\" >Expected Tax Rate</th>\n",
       "      <th id=\"T_62518_level0_col7\" class=\"col_heading level0 col7\" >Expected Tax Amount (Gross * Tax Rate)</th>\n",
       "      <th id=\"T_62518_level0_col8\" class=\"col_heading level0 col8\" >Expected Net Dividend (Gross - Tax)</th>\n",
       "      <th id=\"T_62518_level0_col9\" class=\"col_heading level0 col9\" >Expected cash prior to dividend</th>\n",
       "      <th id=\"T_62518_level0_col10\" class=\"col_heading level0 col10\" >Expected cash after net dividend</th>\n",
       "    </tr>\n",
       "  </thead>\n",
       "  <tbody>\n",
       "    <tr>\n",
       "      <th id=\"T_62518_level0_row0\" class=\"row_heading level0 row0\" >0</th>\n",
       "      <td id=\"T_62518_row0_col0\" class=\"data row0 col0\" >RR_1_20200707</td>\n",
       "      <td id=\"T_62518_row0_col1\" class=\"data row0 col1\" >0.037900</td>\n",
       "      <td id=\"T_62518_row0_col2\" class=\"data row0 col2\" >28-Apr-20</td>\n",
       "      <td id=\"T_62518_row0_col3\" class=\"data row0 col3\" >07-Jul-20</td>\n",
       "      <td id=\"T_62518_row0_col4\" class=\"data row0 col4\" >60000</td>\n",
       "      <td id=\"T_62518_row0_col5\" class=\"data row0 col5\" >2274</td>\n",
       "      <td id=\"T_62518_row0_col6\" class=\"data row0 col6\" >20%</td>\n",
       "      <td id=\"T_62518_row0_col7\" class=\"data row0 col7\" >454.800000</td>\n",
       "      <td id=\"T_62518_row0_col8\" class=\"data row0 col8\" >1819.200000</td>\n",
       "      <td id=\"T_62518_row0_col9\" class=\"data row0 col9\" >100.000000</td>\n",
       "      <td id=\"T_62518_row0_col10\" class=\"data row0 col10\" >1919.200000</td>\n",
       "    </tr>\n",
       "  </tbody>\n",
       "</table>\n"
      ],
      "text/plain": [
       "<pandas.io.formats.style.Styler at 0x2d4ff8ae9e0>"
      ]
     },
     "execution_count": 25,
     "metadata": {},
     "output_type": "execute_result"
    }
   ],
   "source": [
    "rr_dividends.loc[0:0, div_cols_to_show].style.set_properties(**{\"text-align\": \"center\"})"
   ]
  },
  {
   "cell_type": "markdown",
   "metadata": {
    "slideshow": {
     "slide_type": "fragment"
    }
   },
   "source": [
    "Examining our holdings between the first dividend ex-date and payment date we see the tax amount with [`holding type`](https://support.lusid.com/knowledgebase/article/KA-01880/) 'Receivable', as well as the gross dividend."
   ]
  },
  {
   "cell_type": "code",
   "execution_count": 26,
   "metadata": {
    "scrolled": true,
    "slideshow": {
     "slide_type": "-"
    }
   },
   "outputs": [
    {
     "data": {
      "text/html": [
       "<style type=\"text/css\">\n",
       "#T_4fa8d_row0_col0, #T_4fa8d_row0_col1, #T_4fa8d_row0_col2, #T_4fa8d_row0_col3, #T_4fa8d_row1_col0, #T_4fa8d_row1_col1, #T_4fa8d_row1_col2, #T_4fa8d_row1_col3, #T_4fa8d_row2_col0, #T_4fa8d_row2_col1, #T_4fa8d_row2_col2, #T_4fa8d_row2_col3, #T_4fa8d_row3_col0, #T_4fa8d_row3_col1, #T_4fa8d_row3_col2, #T_4fa8d_row3_col3, #T_4fa8d_row4_col0, #T_4fa8d_row4_col1, #T_4fa8d_row4_col2, #T_4fa8d_row4_col3, #T_4fa8d_row5_col0, #T_4fa8d_row5_col1, #T_4fa8d_row5_col2, #T_4fa8d_row5_col3, #T_4fa8d_row6_col0, #T_4fa8d_row6_col1, #T_4fa8d_row6_col2, #T_4fa8d_row6_col3 {\n",
       "  text-align: center;\n",
       "}\n",
       "</style>\n",
       "<table id=\"T_4fa8d\">\n",
       "  <thead>\n",
       "    <tr>\n",
       "      <th class=\"blank level0\" >&nbsp;</th>\n",
       "      <th id=\"T_4fa8d_level0_col0\" class=\"col_heading level0 col0\" >Instrument</th>\n",
       "      <th id=\"T_4fa8d_level0_col1\" class=\"col_heading level0 col1\" >CountryCode</th>\n",
       "      <th id=\"T_4fa8d_level0_col2\" class=\"col_heading level0 col2\" >Units</th>\n",
       "      <th id=\"T_4fa8d_level0_col3\" class=\"col_heading level0 col3\" >HoldingType</th>\n",
       "    </tr>\n",
       "  </thead>\n",
       "  <tbody>\n",
       "    <tr>\n",
       "      <th id=\"T_4fa8d_level0_row0\" class=\"row_heading level0 row0\" >0</th>\n",
       "      <td id=\"T_4fa8d_row0_col0\" class=\"data row0 col0\" >GBP</td>\n",
       "      <td id=\"T_4fa8d_row0_col1\" class=\"data row0 col1\" >nan</td>\n",
       "      <td id=\"T_4fa8d_row0_col2\" class=\"data row0 col2\" >100.000000</td>\n",
       "      <td id=\"T_4fa8d_row0_col3\" class=\"data row0 col3\" >Balance</td>\n",
       "    </tr>\n",
       "    <tr>\n",
       "      <th id=\"T_4fa8d_level0_row1\" class=\"row_heading level0 row1\" >1</th>\n",
       "      <td id=\"T_4fa8d_row1_col0\" class=\"data row1 col0\" >USD</td>\n",
       "      <td id=\"T_4fa8d_row1_col1\" class=\"data row1 col1\" >nan</td>\n",
       "      <td id=\"T_4fa8d_row1_col2\" class=\"data row1 col2\" >100.000000</td>\n",
       "      <td id=\"T_4fa8d_row1_col3\" class=\"data row1 col3\" >Balance</td>\n",
       "    </tr>\n",
       "    <tr>\n",
       "      <th id=\"T_4fa8d_level0_row2\" class=\"row_heading level0 row2\" >2</th>\n",
       "      <td id=\"T_4fa8d_row2_col0\" class=\"data row2 col0\" >Microsoft</td>\n",
       "      <td id=\"T_4fa8d_row2_col1\" class=\"data row2 col1\" >USA</td>\n",
       "      <td id=\"T_4fa8d_row2_col2\" class=\"data row2 col2\" >2000.000000</td>\n",
       "      <td id=\"T_4fa8d_row2_col3\" class=\"data row2 col3\" >Position</td>\n",
       "    </tr>\n",
       "    <tr>\n",
       "      <th id=\"T_4fa8d_level0_row3\" class=\"row_heading level0 row3\" >3</th>\n",
       "      <td id=\"T_4fa8d_row3_col0\" class=\"data row3 col0\" >Sainsbury</td>\n",
       "      <td id=\"T_4fa8d_row3_col1\" class=\"data row3 col1\" >UK</td>\n",
       "      <td id=\"T_4fa8d_row3_col2\" class=\"data row3 col2\" >80000.000000</td>\n",
       "      <td id=\"T_4fa8d_row3_col3\" class=\"data row3 col3\" >Position</td>\n",
       "    </tr>\n",
       "    <tr>\n",
       "      <th id=\"T_4fa8d_level0_row4\" class=\"row_heading level0 row4\" >4</th>\n",
       "      <td id=\"T_4fa8d_row4_col0\" class=\"data row4 col0\" >Rolls Royce</td>\n",
       "      <td id=\"T_4fa8d_row4_col1\" class=\"data row4 col1\" >UK</td>\n",
       "      <td id=\"T_4fa8d_row4_col2\" class=\"data row4 col2\" >60000.000000</td>\n",
       "      <td id=\"T_4fa8d_row4_col3\" class=\"data row4 col3\" >Position</td>\n",
       "    </tr>\n",
       "    <tr>\n",
       "      <th id=\"T_4fa8d_level0_row5\" class=\"row_heading level0 row5\" >5</th>\n",
       "      <td id=\"T_4fa8d_row5_col0\" class=\"data row5 col0\" >GBP</td>\n",
       "      <td id=\"T_4fa8d_row5_col1\" class=\"data row5 col1\" >nan</td>\n",
       "      <td id=\"T_4fa8d_row5_col2\" class=\"data row5 col2\" >2274.000000</td>\n",
       "      <td id=\"T_4fa8d_row5_col3\" class=\"data row5 col3\" >Accrual</td>\n",
       "    </tr>\n",
       "    <tr>\n",
       "      <th id=\"T_4fa8d_level0_row6\" class=\"row_heading level0 row6\" >6</th>\n",
       "      <td id=\"T_4fa8d_row6_col0\" class=\"data row6 col0\" >GBP</td>\n",
       "      <td id=\"T_4fa8d_row6_col1\" class=\"data row6 col1\" >nan</td>\n",
       "      <td id=\"T_4fa8d_row6_col2\" class=\"data row6 col2\" >-454.800000</td>\n",
       "      <td id=\"T_4fa8d_row6_col3\" class=\"data row6 col3\" >Receivable</td>\n",
       "    </tr>\n",
       "  </tbody>\n",
       "</table>\n"
      ],
      "text/plain": [
       "<pandas.io.formats.style.Styler at 0x2d4f29ac6a0>"
      ]
     },
     "execution_count": 26,
     "metadata": {},
     "output_type": "execute_result"
    }
   ],
   "source": [
    "get_portfolio_holdings_centeraligned(2020, 4, 29)"
   ]
  },
  {
   "cell_type": "markdown",
   "metadata": {
    "slideshow": {
     "slide_type": "fragment"
    }
   },
   "source": [
    "Examining our holdings after the first payment date we see our cash balance now reflects the net dividend amount."
   ]
  },
  {
   "cell_type": "code",
   "execution_count": 27,
   "metadata": {
    "slideshow": {
     "slide_type": "-"
    }
   },
   "outputs": [
    {
     "data": {
      "text/html": [
       "<style type=\"text/css\">\n",
       "#T_74d06_row0_col0, #T_74d06_row0_col1, #T_74d06_row0_col2, #T_74d06_row0_col3, #T_74d06_row1_col0, #T_74d06_row1_col1, #T_74d06_row1_col2, #T_74d06_row1_col3, #T_74d06_row2_col0, #T_74d06_row2_col1, #T_74d06_row2_col2, #T_74d06_row2_col3, #T_74d06_row3_col0, #T_74d06_row3_col1, #T_74d06_row3_col2, #T_74d06_row3_col3, #T_74d06_row4_col0, #T_74d06_row4_col1, #T_74d06_row4_col2, #T_74d06_row4_col3 {\n",
       "  text-align: center;\n",
       "}\n",
       "</style>\n",
       "<table id=\"T_74d06\">\n",
       "  <thead>\n",
       "    <tr>\n",
       "      <th class=\"blank level0\" >&nbsp;</th>\n",
       "      <th id=\"T_74d06_level0_col0\" class=\"col_heading level0 col0\" >Instrument</th>\n",
       "      <th id=\"T_74d06_level0_col1\" class=\"col_heading level0 col1\" >CountryCode</th>\n",
       "      <th id=\"T_74d06_level0_col2\" class=\"col_heading level0 col2\" >Units</th>\n",
       "      <th id=\"T_74d06_level0_col3\" class=\"col_heading level0 col3\" >HoldingType</th>\n",
       "    </tr>\n",
       "  </thead>\n",
       "  <tbody>\n",
       "    <tr>\n",
       "      <th id=\"T_74d06_level0_row0\" class=\"row_heading level0 row0\" >0</th>\n",
       "      <td id=\"T_74d06_row0_col0\" class=\"data row0 col0\" >GBP</td>\n",
       "      <td id=\"T_74d06_row0_col1\" class=\"data row0 col1\" >nan</td>\n",
       "      <td id=\"T_74d06_row0_col2\" class=\"data row0 col2\" >1919.200000</td>\n",
       "      <td id=\"T_74d06_row0_col3\" class=\"data row0 col3\" >Balance</td>\n",
       "    </tr>\n",
       "    <tr>\n",
       "      <th id=\"T_74d06_level0_row1\" class=\"row_heading level0 row1\" >1</th>\n",
       "      <td id=\"T_74d06_row1_col0\" class=\"data row1 col0\" >USD</td>\n",
       "      <td id=\"T_74d06_row1_col1\" class=\"data row1 col1\" >nan</td>\n",
       "      <td id=\"T_74d06_row1_col2\" class=\"data row1 col2\" >100.000000</td>\n",
       "      <td id=\"T_74d06_row1_col3\" class=\"data row1 col3\" >Balance</td>\n",
       "    </tr>\n",
       "    <tr>\n",
       "      <th id=\"T_74d06_level0_row2\" class=\"row_heading level0 row2\" >2</th>\n",
       "      <td id=\"T_74d06_row2_col0\" class=\"data row2 col0\" >Microsoft</td>\n",
       "      <td id=\"T_74d06_row2_col1\" class=\"data row2 col1\" >USA</td>\n",
       "      <td id=\"T_74d06_row2_col2\" class=\"data row2 col2\" >2000.000000</td>\n",
       "      <td id=\"T_74d06_row2_col3\" class=\"data row2 col3\" >Position</td>\n",
       "    </tr>\n",
       "    <tr>\n",
       "      <th id=\"T_74d06_level0_row3\" class=\"row_heading level0 row3\" >3</th>\n",
       "      <td id=\"T_74d06_row3_col0\" class=\"data row3 col0\" >Sainsbury</td>\n",
       "      <td id=\"T_74d06_row3_col1\" class=\"data row3 col1\" >UK</td>\n",
       "      <td id=\"T_74d06_row3_col2\" class=\"data row3 col2\" >80000.000000</td>\n",
       "      <td id=\"T_74d06_row3_col3\" class=\"data row3 col3\" >Position</td>\n",
       "    </tr>\n",
       "    <tr>\n",
       "      <th id=\"T_74d06_level0_row4\" class=\"row_heading level0 row4\" >4</th>\n",
       "      <td id=\"T_74d06_row4_col0\" class=\"data row4 col0\" >Rolls Royce</td>\n",
       "      <td id=\"T_74d06_row4_col1\" class=\"data row4 col1\" >UK</td>\n",
       "      <td id=\"T_74d06_row4_col2\" class=\"data row4 col2\" >60000.000000</td>\n",
       "      <td id=\"T_74d06_row4_col3\" class=\"data row4 col3\" >Position</td>\n",
       "    </tr>\n",
       "  </tbody>\n",
       "</table>\n"
      ],
      "text/plain": [
       "<pandas.io.formats.style.Styler at 0x2d4f2982050>"
      ]
     },
     "execution_count": 27,
     "metadata": {},
     "output_type": "execute_result"
    }
   ],
   "source": [
    "get_portfolio_holdings_centeraligned(2020, 7, 8)"
   ]
  },
  {
   "cell_type": "markdown",
   "metadata": {
    "slideshow": {
     "slide_type": "slide"
    }
   },
   "source": [
    "By examining our holdings after each ex-date and payment date we can see the gross dividend amounts and tax amounts calculated. Note how the tax rates used to determine our holdings change over time, as expected."
   ]
  },
  {
   "cell_type": "code",
   "execution_count": 28,
   "metadata": {
    "slideshow": {
     "slide_type": "skip"
    }
   },
   "outputs": [],
   "source": [
    "def get_holdings_over_time(holdingsDates):\n",
    "\n",
    "    df_all = pd.DataFrame()\n",
    "\n",
    "    for d in holdingsDates:\n",
    "        df = get_portfolio_holdings(d.year, d.month, d.day)\n",
    "        df[\"date\"] = d.date()\n",
    "        df_all = pd.concat([df, df_all], axis=\"rows\")\n",
    "\n",
    "    return df_all.pivot(\n",
    "        index=[\"Instrument\", \"CountryCode\", \"HoldingType\"],\n",
    "        columns=\"date\",\n",
    "        values=\"Units\",\n",
    "    )"
   ]
  },
  {
   "cell_type": "code",
   "execution_count": 29,
   "metadata": {
    "slideshow": {
     "slide_type": "skip"
    }
   },
   "outputs": [],
   "source": [
    "holdingsDates = [\n",
    "    datetime(year=2020, month=4, day=29, tzinfo=pytz.UTC),\n",
    "    datetime(year=2020, month=7, day=8, tzinfo=pytz.UTC),\n",
    "    datetime(year=2020, month=10, day=30, tzinfo=pytz.UTC),\n",
    "    datetime(year=2021, month=1, day=8, tzinfo=pytz.UTC),\n",
    "    datetime(year=2021, month=4, day=29, tzinfo=pytz.UTC),\n",
    "    datetime(year=2021, month=7, day=8, tzinfo=pytz.UTC),\n",
    "    datetime(year=2021, month=10, day=30, tzinfo=pytz.UTC),\n",
    "    datetime(year=2022, month=1, day=8, tzinfo=pytz.UTC),\n",
    "    datetime(year=2022, month=4, day=29, tzinfo=pytz.UTC),\n",
    "    datetime(year=2022, month=7, day=8, tzinfo=pytz.UTC),\n",
    "]"
   ]
  },
  {
   "cell_type": "code",
   "execution_count": 30,
   "metadata": {},
   "outputs": [
    {
     "data": {
      "text/html": [
       "<div>\n",
       "<style scoped>\n",
       "    .dataframe tbody tr th:only-of-type {\n",
       "        vertical-align: middle;\n",
       "    }\n",
       "\n",
       "    .dataframe tbody tr th {\n",
       "        vertical-align: top;\n",
       "    }\n",
       "\n",
       "    .dataframe thead th {\n",
       "        text-align: right;\n",
       "    }\n",
       "</style>\n",
       "<table border=\"1\" class=\"dataframe\">\n",
       "  <thead>\n",
       "    <tr style=\"text-align: right;\">\n",
       "      <th></th>\n",
       "      <th></th>\n",
       "      <th>date</th>\n",
       "      <th>2020-04-29</th>\n",
       "      <th>2020-07-08</th>\n",
       "      <th>2020-10-30</th>\n",
       "      <th>2021-01-08</th>\n",
       "      <th>2021-04-29</th>\n",
       "      <th>2021-07-08</th>\n",
       "      <th>2021-10-30</th>\n",
       "      <th>2022-01-08</th>\n",
       "      <th>2022-04-29</th>\n",
       "      <th>2022-07-08</th>\n",
       "    </tr>\n",
       "    <tr>\n",
       "      <th>Instrument</th>\n",
       "      <th>CountryCode</th>\n",
       "      <th>HoldingType</th>\n",
       "      <th></th>\n",
       "      <th></th>\n",
       "      <th></th>\n",
       "      <th></th>\n",
       "      <th></th>\n",
       "      <th></th>\n",
       "      <th></th>\n",
       "      <th></th>\n",
       "      <th></th>\n",
       "      <th></th>\n",
       "    </tr>\n",
       "  </thead>\n",
       "  <tbody>\n",
       "    <tr>\n",
       "      <th rowspan=\"3\" valign=\"top\">GBP</th>\n",
       "      <th rowspan=\"3\" valign=\"top\">NaN</th>\n",
       "      <th>Accrual</th>\n",
       "      <td>2274.0</td>\n",
       "      <td>NaN</td>\n",
       "      <td>2100.0</td>\n",
       "      <td>NaN</td>\n",
       "      <td>2250.0</td>\n",
       "      <td>NaN</td>\n",
       "      <td>2412.00</td>\n",
       "      <td>NaN</td>\n",
       "      <td>2394.00</td>\n",
       "      <td>NaN</td>\n",
       "    </tr>\n",
       "    <tr>\n",
       "      <th>Balance</th>\n",
       "      <td>100.0</td>\n",
       "      <td>1919.2</td>\n",
       "      <td>1919.2</td>\n",
       "      <td>3599.2</td>\n",
       "      <td>3599.2</td>\n",
       "      <td>5354.2</td>\n",
       "      <td>5354.20</td>\n",
       "      <td>7235.56</td>\n",
       "      <td>7235.56</td>\n",
       "      <td>9055.0</td>\n",
       "    </tr>\n",
       "    <tr>\n",
       "      <th>Receivable</th>\n",
       "      <td>-454.8</td>\n",
       "      <td>NaN</td>\n",
       "      <td>-420.0</td>\n",
       "      <td>NaN</td>\n",
       "      <td>-495.0</td>\n",
       "      <td>NaN</td>\n",
       "      <td>-530.64</td>\n",
       "      <td>NaN</td>\n",
       "      <td>-574.56</td>\n",
       "      <td>NaN</td>\n",
       "    </tr>\n",
       "    <tr>\n",
       "      <th>Microsoft</th>\n",
       "      <th>USA</th>\n",
       "      <th>Position</th>\n",
       "      <td>2000.0</td>\n",
       "      <td>2000.0</td>\n",
       "      <td>2000.0</td>\n",
       "      <td>2000.0</td>\n",
       "      <td>2000.0</td>\n",
       "      <td>2000.0</td>\n",
       "      <td>2000.00</td>\n",
       "      <td>2000.00</td>\n",
       "      <td>2000.00</td>\n",
       "      <td>2000.0</td>\n",
       "    </tr>\n",
       "    <tr>\n",
       "      <th>Rolls Royce</th>\n",
       "      <th>UK</th>\n",
       "      <th>Position</th>\n",
       "      <td>60000.0</td>\n",
       "      <td>60000.0</td>\n",
       "      <td>60000.0</td>\n",
       "      <td>60000.0</td>\n",
       "      <td>60000.0</td>\n",
       "      <td>60000.0</td>\n",
       "      <td>60000.00</td>\n",
       "      <td>60000.00</td>\n",
       "      <td>60000.00</td>\n",
       "      <td>60000.0</td>\n",
       "    </tr>\n",
       "    <tr>\n",
       "      <th>Sainsbury</th>\n",
       "      <th>UK</th>\n",
       "      <th>Position</th>\n",
       "      <td>80000.0</td>\n",
       "      <td>80000.0</td>\n",
       "      <td>80000.0</td>\n",
       "      <td>80000.0</td>\n",
       "      <td>80000.0</td>\n",
       "      <td>80000.0</td>\n",
       "      <td>80000.00</td>\n",
       "      <td>80000.00</td>\n",
       "      <td>80000.00</td>\n",
       "      <td>80000.0</td>\n",
       "    </tr>\n",
       "    <tr>\n",
       "      <th rowspan=\"2\" valign=\"top\">USD</th>\n",
       "      <th rowspan=\"2\" valign=\"top\">NaN</th>\n",
       "      <th>Accrual</th>\n",
       "      <td>NaN</td>\n",
       "      <td>NaN</td>\n",
       "      <td>NaN</td>\n",
       "      <td>NaN</td>\n",
       "      <td>NaN</td>\n",
       "      <td>NaN</td>\n",
       "      <td>NaN</td>\n",
       "      <td>NaN</td>\n",
       "      <td>1200.00</td>\n",
       "      <td>NaN</td>\n",
       "    </tr>\n",
       "    <tr>\n",
       "      <th>Balance</th>\n",
       "      <td>100.0</td>\n",
       "      <td>100.0</td>\n",
       "      <td>100.0</td>\n",
       "      <td>100.0</td>\n",
       "      <td>100.0</td>\n",
       "      <td>100.0</td>\n",
       "      <td>100.00</td>\n",
       "      <td>100.00</td>\n",
       "      <td>100.00</td>\n",
       "      <td>1300.0</td>\n",
       "    </tr>\n",
       "  </tbody>\n",
       "</table>\n",
       "</div>"
      ],
      "text/plain": [
       "date                                 2020-04-29  2020-07-08  2020-10-30  \\\n",
       "Instrument  CountryCode HoldingType                                       \n",
       "GBP         NaN         Accrual          2274.0         NaN      2100.0   \n",
       "                        Balance           100.0      1919.2      1919.2   \n",
       "                        Receivable       -454.8         NaN      -420.0   \n",
       "Microsoft   USA         Position         2000.0      2000.0      2000.0   \n",
       "Rolls Royce UK          Position        60000.0     60000.0     60000.0   \n",
       "Sainsbury   UK          Position        80000.0     80000.0     80000.0   \n",
       "USD         NaN         Accrual             NaN         NaN         NaN   \n",
       "                        Balance           100.0       100.0       100.0   \n",
       "\n",
       "date                                 2021-01-08  2021-04-29  2021-07-08  \\\n",
       "Instrument  CountryCode HoldingType                                       \n",
       "GBP         NaN         Accrual             NaN      2250.0         NaN   \n",
       "                        Balance          3599.2      3599.2      5354.2   \n",
       "                        Receivable          NaN      -495.0         NaN   \n",
       "Microsoft   USA         Position         2000.0      2000.0      2000.0   \n",
       "Rolls Royce UK          Position        60000.0     60000.0     60000.0   \n",
       "Sainsbury   UK          Position        80000.0     80000.0     80000.0   \n",
       "USD         NaN         Accrual             NaN         NaN         NaN   \n",
       "                        Balance           100.0       100.0       100.0   \n",
       "\n",
       "date                                 2021-10-30  2022-01-08  2022-04-29  \\\n",
       "Instrument  CountryCode HoldingType                                       \n",
       "GBP         NaN         Accrual         2412.00         NaN     2394.00   \n",
       "                        Balance         5354.20     7235.56     7235.56   \n",
       "                        Receivable      -530.64         NaN     -574.56   \n",
       "Microsoft   USA         Position        2000.00     2000.00     2000.00   \n",
       "Rolls Royce UK          Position       60000.00    60000.00    60000.00   \n",
       "Sainsbury   UK          Position       80000.00    80000.00    80000.00   \n",
       "USD         NaN         Accrual             NaN         NaN     1200.00   \n",
       "                        Balance          100.00      100.00      100.00   \n",
       "\n",
       "date                                 2022-07-08  \n",
       "Instrument  CountryCode HoldingType              \n",
       "GBP         NaN         Accrual             NaN  \n",
       "                        Balance          9055.0  \n",
       "                        Receivable          NaN  \n",
       "Microsoft   USA         Position         2000.0  \n",
       "Rolls Royce UK          Position        60000.0  \n",
       "Sainsbury   UK          Position        80000.0  \n",
       "USD         NaN         Accrual             NaN  \n",
       "                        Balance          1300.0  "
      ]
     },
     "metadata": {},
     "output_type": "display_data"
    }
   ],
   "source": [
    "display(get_holdings_over_time(holdingsDates))"
   ]
  },
  {
   "cell_type": "code",
   "execution_count": 31,
   "metadata": {},
   "outputs": [
    {
     "data": {
      "text/html": [
       "<div>\n",
       "<style scoped>\n",
       "    .dataframe tbody tr th:only-of-type {\n",
       "        vertical-align: middle;\n",
       "    }\n",
       "\n",
       "    .dataframe tbody tr th {\n",
       "        vertical-align: top;\n",
       "    }\n",
       "\n",
       "    .dataframe thead th {\n",
       "        text-align: right;\n",
       "    }\n",
       "</style>\n",
       "<table border=\"1\" class=\"dataframe\">\n",
       "  <thead>\n",
       "    <tr style=\"text-align: right;\">\n",
       "      <th></th>\n",
       "      <th>code</th>\n",
       "      <th>client_internal</th>\n",
       "      <th>div_amount</th>\n",
       "      <th>div_ccy</th>\n",
       "      <th>announcement_date</th>\n",
       "      <th>ex_date</th>\n",
       "      <th>record_date</th>\n",
       "      <th>payment_date</th>\n",
       "      <th>Holding</th>\n",
       "      <th>Expected Gross Dividend (div_amount * Holding)</th>\n",
       "      <th>Expected Tax Rate</th>\n",
       "      <th>Expected Tax Amount (Gross * Tax Rate)</th>\n",
       "      <th>Expected Net Dividend (Gross - Tax)</th>\n",
       "      <th>Expected cash prior to dividend</th>\n",
       "      <th>Expected cash after net dividend</th>\n",
       "    </tr>\n",
       "  </thead>\n",
       "  <tbody>\n",
       "    <tr>\n",
       "      <th>0</th>\n",
       "      <td>RR_1_20200707</td>\n",
       "      <td>RR</td>\n",
       "      <td>0.0379</td>\n",
       "      <td>GBP</td>\n",
       "      <td>31-Mar-20</td>\n",
       "      <td>28-Apr-20</td>\n",
       "      <td>29-Apr-20</td>\n",
       "      <td>07-Jul-20</td>\n",
       "      <td>60000</td>\n",
       "      <td>2274</td>\n",
       "      <td>20%</td>\n",
       "      <td>454.80</td>\n",
       "      <td>1819.20</td>\n",
       "      <td>100.00</td>\n",
       "      <td>1919.20</td>\n",
       "    </tr>\n",
       "    <tr>\n",
       "      <th>1</th>\n",
       "      <td>RR_2_20210107</td>\n",
       "      <td>RR</td>\n",
       "      <td>0.0350</td>\n",
       "      <td>GBP</td>\n",
       "      <td>01-Oct-20</td>\n",
       "      <td>29-Oct-20</td>\n",
       "      <td>30-Oct-20</td>\n",
       "      <td>07-Jan-21</td>\n",
       "      <td>60000</td>\n",
       "      <td>2100</td>\n",
       "      <td>20%</td>\n",
       "      <td>420.00</td>\n",
       "      <td>1680.00</td>\n",
       "      <td>1919.20</td>\n",
       "      <td>3599.20</td>\n",
       "    </tr>\n",
       "    <tr>\n",
       "      <th>2</th>\n",
       "      <td>RR_3_20210707</td>\n",
       "      <td>RR</td>\n",
       "      <td>0.0375</td>\n",
       "      <td>GBP</td>\n",
       "      <td>31-Mar-21</td>\n",
       "      <td>28-Apr-21</td>\n",
       "      <td>29-Apr-21</td>\n",
       "      <td>07-Jul-21</td>\n",
       "      <td>60000</td>\n",
       "      <td>2250</td>\n",
       "      <td>22%</td>\n",
       "      <td>495.00</td>\n",
       "      <td>1755.00</td>\n",
       "      <td>3599.20</td>\n",
       "      <td>5354.20</td>\n",
       "    </tr>\n",
       "    <tr>\n",
       "      <th>3</th>\n",
       "      <td>RR_4_20220107</td>\n",
       "      <td>RR</td>\n",
       "      <td>0.0402</td>\n",
       "      <td>GBP</td>\n",
       "      <td>01-Oct-21</td>\n",
       "      <td>29-Oct-21</td>\n",
       "      <td>01-Nov-21</td>\n",
       "      <td>07-Jan-22</td>\n",
       "      <td>60000</td>\n",
       "      <td>2412</td>\n",
       "      <td>22%</td>\n",
       "      <td>530.64</td>\n",
       "      <td>1881.36</td>\n",
       "      <td>5354.20</td>\n",
       "      <td>7235.56</td>\n",
       "    </tr>\n",
       "    <tr>\n",
       "      <th>4</th>\n",
       "      <td>RR_5_20220807</td>\n",
       "      <td>RR</td>\n",
       "      <td>0.0399</td>\n",
       "      <td>GBP</td>\n",
       "      <td>31-Mar-22</td>\n",
       "      <td>28-Apr-22</td>\n",
       "      <td>29-Apr-22</td>\n",
       "      <td>07-Jul-22</td>\n",
       "      <td>60000</td>\n",
       "      <td>2394</td>\n",
       "      <td>24%</td>\n",
       "      <td>574.56</td>\n",
       "      <td>1819.44</td>\n",
       "      <td>7235.56</td>\n",
       "      <td>9055.00</td>\n",
       "    </tr>\n",
       "  </tbody>\n",
       "</table>\n",
       "</div>"
      ],
      "text/plain": [
       "            code client_internal  div_amount div_ccy announcement_date  \\\n",
       "0  RR_1_20200707              RR      0.0379     GBP         31-Mar-20   \n",
       "1  RR_2_20210107              RR      0.0350     GBP         01-Oct-20   \n",
       "2  RR_3_20210707              RR      0.0375     GBP         31-Mar-21   \n",
       "3  RR_4_20220107              RR      0.0402     GBP         01-Oct-21   \n",
       "4  RR_5_20220807              RR      0.0399     GBP         31-Mar-22   \n",
       "\n",
       "     ex_date record_date payment_date  Holding  \\\n",
       "0  28-Apr-20   29-Apr-20    07-Jul-20    60000   \n",
       "1  29-Oct-20   30-Oct-20    07-Jan-21    60000   \n",
       "2  28-Apr-21   29-Apr-21    07-Jul-21    60000   \n",
       "3  29-Oct-21   01-Nov-21    07-Jan-22    60000   \n",
       "4  28-Apr-22   29-Apr-22    07-Jul-22    60000   \n",
       "\n",
       "   Expected Gross Dividend (div_amount * Holding) Expected Tax Rate  \\\n",
       "0                                            2274               20%   \n",
       "1                                            2100               20%   \n",
       "2                                            2250               22%   \n",
       "3                                            2412               22%   \n",
       "4                                            2394               24%   \n",
       "\n",
       "   Expected Tax Amount (Gross * Tax Rate)  \\\n",
       "0                                  454.80   \n",
       "1                                  420.00   \n",
       "2                                  495.00   \n",
       "3                                  530.64   \n",
       "4                                  574.56   \n",
       "\n",
       "   Expected Net Dividend (Gross - Tax)  Expected cash prior to dividend  \\\n",
       "0                              1819.20                           100.00   \n",
       "1                              1680.00                          1919.20   \n",
       "2                              1755.00                          3599.20   \n",
       "3                              1881.36                          5354.20   \n",
       "4                              1819.44                          7235.56   \n",
       "\n",
       "   Expected cash after net dividend  \n",
       "0                           1919.20  \n",
       "1                           3599.20  \n",
       "2                           5354.20  \n",
       "3                           7235.56  \n",
       "4                           9055.00  "
      ]
     },
     "metadata": {},
     "output_type": "display_data"
    }
   ],
   "source": [
    "display(rr_dividends)"
   ]
  },
  {
   "cell_type": "markdown",
   "metadata": {
    "slideshow": {
     "slide_type": "slide"
    }
   },
   "source": [
    "We now add a single MSFT dividend with ex-date and payment date the same as our final RR dividend."
   ]
  },
  {
   "cell_type": "code",
   "execution_count": 32,
   "metadata": {
    "slideshow": {
     "slide_type": "-"
    }
   },
   "outputs": [
    {
     "data": {
      "text/html": [
       "<style type=\"text/css\">\n",
       "#T_891fa_row0_col0, #T_891fa_row0_col1, #T_891fa_row0_col2, #T_891fa_row0_col3, #T_891fa_row0_col4, #T_891fa_row0_col5, #T_891fa_row0_col6, #T_891fa_row0_col7, #T_891fa_row0_col8, #T_891fa_row0_col9, #T_891fa_row0_col10, #T_891fa_row0_col11, #T_891fa_row0_col12, #T_891fa_row0_col13, #T_891fa_row0_col14 {\n",
       "  text-align: center;\n",
       "}\n",
       "</style>\n",
       "<table id=\"T_891fa\">\n",
       "  <thead>\n",
       "    <tr>\n",
       "      <th class=\"blank level0\" >&nbsp;</th>\n",
       "      <th id=\"T_891fa_level0_col0\" class=\"col_heading level0 col0\" >code</th>\n",
       "      <th id=\"T_891fa_level0_col1\" class=\"col_heading level0 col1\" >client_internal</th>\n",
       "      <th id=\"T_891fa_level0_col2\" class=\"col_heading level0 col2\" >div_amount</th>\n",
       "      <th id=\"T_891fa_level0_col3\" class=\"col_heading level0 col3\" >div_ccy</th>\n",
       "      <th id=\"T_891fa_level0_col4\" class=\"col_heading level0 col4\" >announcement_date</th>\n",
       "      <th id=\"T_891fa_level0_col5\" class=\"col_heading level0 col5\" >ex_date</th>\n",
       "      <th id=\"T_891fa_level0_col6\" class=\"col_heading level0 col6\" >record_date</th>\n",
       "      <th id=\"T_891fa_level0_col7\" class=\"col_heading level0 col7\" >payment_date</th>\n",
       "      <th id=\"T_891fa_level0_col8\" class=\"col_heading level0 col8\" >Holding</th>\n",
       "      <th id=\"T_891fa_level0_col9\" class=\"col_heading level0 col9\" >Gross Dividend</th>\n",
       "      <th id=\"T_891fa_level0_col10\" class=\"col_heading level0 col10\" >Tax Rate</th>\n",
       "      <th id=\"T_891fa_level0_col11\" class=\"col_heading level0 col11\" >Expected: Tax Amount (Gross * Tax Rate)</th>\n",
       "      <th id=\"T_891fa_level0_col12\" class=\"col_heading level0 col12\" >Expected: Gross - Tax</th>\n",
       "      <th id=\"T_891fa_level0_col13\" class=\"col_heading level0 col13\" >Starting cash</th>\n",
       "      <th id=\"T_891fa_level0_col14\" class=\"col_heading level0 col14\" >Expected: Holdings cash after net dividend</th>\n",
       "    </tr>\n",
       "  </thead>\n",
       "  <tbody>\n",
       "    <tr>\n",
       "      <th id=\"T_891fa_level0_row0\" class=\"row_heading level0 row0\" >0</th>\n",
       "      <td id=\"T_891fa_row0_col0\" class=\"data row0 col0\" >MSFT_1_20220807</td>\n",
       "      <td id=\"T_891fa_row0_col1\" class=\"data row0 col1\" >MSFT</td>\n",
       "      <td id=\"T_891fa_row0_col2\" class=\"data row0 col2\" >0.600000</td>\n",
       "      <td id=\"T_891fa_row0_col3\" class=\"data row0 col3\" >USD</td>\n",
       "      <td id=\"T_891fa_row0_col4\" class=\"data row0 col4\" >31-Mar-22</td>\n",
       "      <td id=\"T_891fa_row0_col5\" class=\"data row0 col5\" >28-Apr-22</td>\n",
       "      <td id=\"T_891fa_row0_col6\" class=\"data row0 col6\" >29-Apr-22</td>\n",
       "      <td id=\"T_891fa_row0_col7\" class=\"data row0 col7\" >07-Jul-22</td>\n",
       "      <td id=\"T_891fa_row0_col8\" class=\"data row0 col8\" >2000</td>\n",
       "      <td id=\"T_891fa_row0_col9\" class=\"data row0 col9\" >1200</td>\n",
       "      <td id=\"T_891fa_row0_col10\" class=\"data row0 col10\" >0%</td>\n",
       "      <td id=\"T_891fa_row0_col11\" class=\"data row0 col11\" >0</td>\n",
       "      <td id=\"T_891fa_row0_col12\" class=\"data row0 col12\" >1200</td>\n",
       "      <td id=\"T_891fa_row0_col13\" class=\"data row0 col13\" >100</td>\n",
       "      <td id=\"T_891fa_row0_col14\" class=\"data row0 col14\" >1300</td>\n",
       "    </tr>\n",
       "  </tbody>\n",
       "</table>\n"
      ],
      "text/plain": [
       "<pandas.io.formats.style.Styler at 0x2d4ff945210>"
      ]
     },
     "execution_count": 32,
     "metadata": {},
     "output_type": "execute_result"
    }
   ],
   "source": [
    "msft_dividends.style.set_properties(**{\"text-align\": \"center\"})"
   ]
  },
  {
   "cell_type": "code",
   "execution_count": 33,
   "metadata": {
    "slideshow": {
     "slide_type": "skip"
    }
   },
   "outputs": [
    {
     "name": "stdout",
     "output_type": "stream",
     "text": [
      "1 dividends created\n"
     ]
    }
   ],
   "source": [
    "load_dividends(msft_dividends)"
   ]
  },
  {
   "cell_type": "markdown",
   "metadata": {},
   "source": [
    "Our holdings reflect the gross MSFT dividend but it is not taxed because its _CountryCode_ (USA) does not fall within our TaxRuleSet's rules."
   ]
  },
  {
   "cell_type": "code",
   "execution_count": 34,
   "metadata": {
    "slideshow": {
     "slide_type": "-"
    }
   },
   "outputs": [
    {
     "data": {
      "text/html": [
       "<style type=\"text/css\">\n",
       "#T_6fe2b_row0_col0, #T_6fe2b_row0_col1, #T_6fe2b_row0_col2, #T_6fe2b_row0_col3, #T_6fe2b_row1_col0, #T_6fe2b_row1_col1, #T_6fe2b_row1_col2, #T_6fe2b_row1_col3, #T_6fe2b_row2_col0, #T_6fe2b_row2_col1, #T_6fe2b_row2_col2, #T_6fe2b_row2_col3, #T_6fe2b_row3_col0, #T_6fe2b_row3_col1, #T_6fe2b_row3_col2, #T_6fe2b_row3_col3, #T_6fe2b_row4_col0, #T_6fe2b_row4_col1, #T_6fe2b_row4_col2, #T_6fe2b_row4_col3, #T_6fe2b_row5_col0, #T_6fe2b_row5_col1, #T_6fe2b_row5_col2, #T_6fe2b_row5_col3, #T_6fe2b_row6_col0, #T_6fe2b_row6_col1, #T_6fe2b_row6_col2, #T_6fe2b_row6_col3, #T_6fe2b_row7_col0, #T_6fe2b_row7_col1, #T_6fe2b_row7_col2, #T_6fe2b_row7_col3 {\n",
       "  text-align: center;\n",
       "}\n",
       "</style>\n",
       "<table id=\"T_6fe2b\">\n",
       "  <thead>\n",
       "    <tr>\n",
       "      <th class=\"blank level0\" >&nbsp;</th>\n",
       "      <th id=\"T_6fe2b_level0_col0\" class=\"col_heading level0 col0\" >Instrument</th>\n",
       "      <th id=\"T_6fe2b_level0_col1\" class=\"col_heading level0 col1\" >CountryCode</th>\n",
       "      <th id=\"T_6fe2b_level0_col2\" class=\"col_heading level0 col2\" >Units</th>\n",
       "      <th id=\"T_6fe2b_level0_col3\" class=\"col_heading level0 col3\" >HoldingType</th>\n",
       "    </tr>\n",
       "  </thead>\n",
       "  <tbody>\n",
       "    <tr>\n",
       "      <th id=\"T_6fe2b_level0_row0\" class=\"row_heading level0 row0\" >0</th>\n",
       "      <td id=\"T_6fe2b_row0_col0\" class=\"data row0 col0\" >GBP</td>\n",
       "      <td id=\"T_6fe2b_row0_col1\" class=\"data row0 col1\" >nan</td>\n",
       "      <td id=\"T_6fe2b_row0_col2\" class=\"data row0 col2\" >7235.560000</td>\n",
       "      <td id=\"T_6fe2b_row0_col3\" class=\"data row0 col3\" >Balance</td>\n",
       "    </tr>\n",
       "    <tr>\n",
       "      <th id=\"T_6fe2b_level0_row1\" class=\"row_heading level0 row1\" >1</th>\n",
       "      <td id=\"T_6fe2b_row1_col0\" class=\"data row1 col0\" >USD</td>\n",
       "      <td id=\"T_6fe2b_row1_col1\" class=\"data row1 col1\" >nan</td>\n",
       "      <td id=\"T_6fe2b_row1_col2\" class=\"data row1 col2\" >100.000000</td>\n",
       "      <td id=\"T_6fe2b_row1_col3\" class=\"data row1 col3\" >Balance</td>\n",
       "    </tr>\n",
       "    <tr>\n",
       "      <th id=\"T_6fe2b_level0_row2\" class=\"row_heading level0 row2\" >2</th>\n",
       "      <td id=\"T_6fe2b_row2_col0\" class=\"data row2 col0\" >Microsoft</td>\n",
       "      <td id=\"T_6fe2b_row2_col1\" class=\"data row2 col1\" >USA</td>\n",
       "      <td id=\"T_6fe2b_row2_col2\" class=\"data row2 col2\" >2000.000000</td>\n",
       "      <td id=\"T_6fe2b_row2_col3\" class=\"data row2 col3\" >Position</td>\n",
       "    </tr>\n",
       "    <tr>\n",
       "      <th id=\"T_6fe2b_level0_row3\" class=\"row_heading level0 row3\" >3</th>\n",
       "      <td id=\"T_6fe2b_row3_col0\" class=\"data row3 col0\" >Sainsbury</td>\n",
       "      <td id=\"T_6fe2b_row3_col1\" class=\"data row3 col1\" >UK</td>\n",
       "      <td id=\"T_6fe2b_row3_col2\" class=\"data row3 col2\" >80000.000000</td>\n",
       "      <td id=\"T_6fe2b_row3_col3\" class=\"data row3 col3\" >Position</td>\n",
       "    </tr>\n",
       "    <tr>\n",
       "      <th id=\"T_6fe2b_level0_row4\" class=\"row_heading level0 row4\" >4</th>\n",
       "      <td id=\"T_6fe2b_row4_col0\" class=\"data row4 col0\" >Rolls Royce</td>\n",
       "      <td id=\"T_6fe2b_row4_col1\" class=\"data row4 col1\" >UK</td>\n",
       "      <td id=\"T_6fe2b_row4_col2\" class=\"data row4 col2\" >60000.000000</td>\n",
       "      <td id=\"T_6fe2b_row4_col3\" class=\"data row4 col3\" >Position</td>\n",
       "    </tr>\n",
       "    <tr>\n",
       "      <th id=\"T_6fe2b_level0_row5\" class=\"row_heading level0 row5\" >5</th>\n",
       "      <td id=\"T_6fe2b_row5_col0\" class=\"data row5 col0\" >GBP</td>\n",
       "      <td id=\"T_6fe2b_row5_col1\" class=\"data row5 col1\" >nan</td>\n",
       "      <td id=\"T_6fe2b_row5_col2\" class=\"data row5 col2\" >2394.000000</td>\n",
       "      <td id=\"T_6fe2b_row5_col3\" class=\"data row5 col3\" >Accrual</td>\n",
       "    </tr>\n",
       "    <tr>\n",
       "      <th id=\"T_6fe2b_level0_row6\" class=\"row_heading level0 row6\" >6</th>\n",
       "      <td id=\"T_6fe2b_row6_col0\" class=\"data row6 col0\" >GBP</td>\n",
       "      <td id=\"T_6fe2b_row6_col1\" class=\"data row6 col1\" >nan</td>\n",
       "      <td id=\"T_6fe2b_row6_col2\" class=\"data row6 col2\" >-574.560000</td>\n",
       "      <td id=\"T_6fe2b_row6_col3\" class=\"data row6 col3\" >Receivable</td>\n",
       "    </tr>\n",
       "    <tr>\n",
       "      <th id=\"T_6fe2b_level0_row7\" class=\"row_heading level0 row7\" >7</th>\n",
       "      <td id=\"T_6fe2b_row7_col0\" class=\"data row7 col0\" >USD</td>\n",
       "      <td id=\"T_6fe2b_row7_col1\" class=\"data row7 col1\" >nan</td>\n",
       "      <td id=\"T_6fe2b_row7_col2\" class=\"data row7 col2\" >1200.000000</td>\n",
       "      <td id=\"T_6fe2b_row7_col3\" class=\"data row7 col3\" >Accrual</td>\n",
       "    </tr>\n",
       "  </tbody>\n",
       "</table>\n"
      ],
      "text/plain": [
       "<pandas.io.formats.style.Styler at 0x2d4ff8af340>"
      ]
     },
     "execution_count": 34,
     "metadata": {},
     "output_type": "execute_result"
    }
   ],
   "source": [
    "get_portfolio_holdings_centeraligned(2022, 4, 29)"
   ]
  },
  {
   "cell_type": "markdown",
   "metadata": {
    "slideshow": {
     "slide_type": "slide"
    }
   },
   "source": [
    "## 7. Tax rules are evaluated in turn until a match is found"
   ]
  },
  {
   "cell_type": "markdown",
   "metadata": {
    "slideshow": {
     "slide_type": "-"
    }
   },
   "source": [
    "We will now add some dividends for our Sainsbury (SBRY) instrument.\n",
    "\n",
    "We will also add a new instrument [property](https://support.lusid.com/knowledgebase/article/KA-01855/) called _TaxClassification_. This will be set for SBRY, but not RR, such that SBRY will be caught by a new rule that we'll introduce before our existing (_CountryCode_=UK) rule in our TaxRuleSet."
   ]
  },
  {
   "cell_type": "markdown",
   "metadata": {
    "slideshow": {
     "slide_type": "subslide"
    }
   },
   "source": [
    "### 7.1 Load our SBRY dividends"
   ]
  },
  {
   "cell_type": "code",
   "execution_count": 35,
   "metadata": {
    "slideshow": {
     "slide_type": "-"
    }
   },
   "outputs": [
    {
     "data": {
      "text/html": [
       "<style type=\"text/css\">\n",
       "#T_49421_row0_col0, #T_49421_row0_col1, #T_49421_row0_col2, #T_49421_row0_col3, #T_49421_row0_col4, #T_49421_row0_col5, #T_49421_row0_col6, #T_49421_row0_col7, #T_49421_row0_col8, #T_49421_row0_col9, #T_49421_row0_col10, #T_49421_row0_col11, #T_49421_row0_col12, #T_49421_row1_col0, #T_49421_row1_col1, #T_49421_row1_col2, #T_49421_row1_col3, #T_49421_row1_col4, #T_49421_row1_col5, #T_49421_row1_col6, #T_49421_row1_col7, #T_49421_row1_col8, #T_49421_row1_col9, #T_49421_row1_col10, #T_49421_row1_col11, #T_49421_row1_col12 {\n",
       "  text-align: center;\n",
       "}\n",
       "</style>\n",
       "<table id=\"T_49421\">\n",
       "  <thead>\n",
       "    <tr>\n",
       "      <th class=\"blank level0\" >&nbsp;</th>\n",
       "      <th id=\"T_49421_level0_col0\" class=\"col_heading level0 col0\" >code</th>\n",
       "      <th id=\"T_49421_level0_col1\" class=\"col_heading level0 col1\" >client_internal</th>\n",
       "      <th id=\"T_49421_level0_col2\" class=\"col_heading level0 col2\" >div_amount</th>\n",
       "      <th id=\"T_49421_level0_col3\" class=\"col_heading level0 col3\" >div_ccy</th>\n",
       "      <th id=\"T_49421_level0_col4\" class=\"col_heading level0 col4\" >announcement_date</th>\n",
       "      <th id=\"T_49421_level0_col5\" class=\"col_heading level0 col5\" >ex_date</th>\n",
       "      <th id=\"T_49421_level0_col6\" class=\"col_heading level0 col6\" >record_date</th>\n",
       "      <th id=\"T_49421_level0_col7\" class=\"col_heading level0 col7\" >payment_date</th>\n",
       "      <th id=\"T_49421_level0_col8\" class=\"col_heading level0 col8\" >Holding</th>\n",
       "      <th id=\"T_49421_level0_col9\" class=\"col_heading level0 col9\" >Expected Gross Dividend (div_amount * Holding)</th>\n",
       "      <th id=\"T_49421_level0_col10\" class=\"col_heading level0 col10\" >Expected Tax Rate</th>\n",
       "      <th id=\"T_49421_level0_col11\" class=\"col_heading level0 col11\" >Expected Tax Amount (Gross * Tax Rate)</th>\n",
       "      <th id=\"T_49421_level0_col12\" class=\"col_heading level0 col12\" >Expected Net Dividend (Gross - Tax)</th>\n",
       "    </tr>\n",
       "  </thead>\n",
       "  <tbody>\n",
       "    <tr>\n",
       "      <th id=\"T_49421_level0_row0\" class=\"row_heading level0 row0\" >0</th>\n",
       "      <td id=\"T_49421_row0_col0\" class=\"data row0 col0\" >SBRY_1_20210315</td>\n",
       "      <td id=\"T_49421_row0_col1\" class=\"data row0 col1\" >SBRY</td>\n",
       "      <td id=\"T_49421_row0_col2\" class=\"data row0 col2\" >0.028000</td>\n",
       "      <td id=\"T_49421_row0_col3\" class=\"data row0 col3\" >GBP</td>\n",
       "      <td id=\"T_49421_row0_col4\" class=\"data row0 col4\" >18-Jan-21</td>\n",
       "      <td id=\"T_49421_row0_col5\" class=\"data row0 col5\" >15-Feb-21</td>\n",
       "      <td id=\"T_49421_row0_col6\" class=\"data row0 col6\" >16-Feb-21</td>\n",
       "      <td id=\"T_49421_row0_col7\" class=\"data row0 col7\" >15-Mar-21</td>\n",
       "      <td id=\"T_49421_row0_col8\" class=\"data row0 col8\" >80000</td>\n",
       "      <td id=\"T_49421_row0_col9\" class=\"data row0 col9\" >2240</td>\n",
       "      <td id=\"T_49421_row0_col10\" class=\"data row0 col10\" >22%</td>\n",
       "      <td id=\"T_49421_row0_col11\" class=\"data row0 col11\" >492.800000</td>\n",
       "      <td id=\"T_49421_row0_col12\" class=\"data row0 col12\" >1747.200000</td>\n",
       "    </tr>\n",
       "    <tr>\n",
       "      <th id=\"T_49421_level0_row1\" class=\"row_heading level0 row1\" >1</th>\n",
       "      <td id=\"T_49421_row1_col0\" class=\"data row1 col0\" >SBRY_2_20220315</td>\n",
       "      <td id=\"T_49421_row1_col1\" class=\"data row1 col1\" >SBRY</td>\n",
       "      <td id=\"T_49421_row1_col2\" class=\"data row1 col2\" >0.025000</td>\n",
       "      <td id=\"T_49421_row1_col3\" class=\"data row1 col3\" >GBP</td>\n",
       "      <td id=\"T_49421_row1_col4\" class=\"data row1 col4\" >18-Jan-22</td>\n",
       "      <td id=\"T_49421_row1_col5\" class=\"data row1 col5\" >15-Feb-22</td>\n",
       "      <td id=\"T_49421_row1_col6\" class=\"data row1 col6\" >16-Feb-22</td>\n",
       "      <td id=\"T_49421_row1_col7\" class=\"data row1 col7\" >15-Mar-22</td>\n",
       "      <td id=\"T_49421_row1_col8\" class=\"data row1 col8\" >80000</td>\n",
       "      <td id=\"T_49421_row1_col9\" class=\"data row1 col9\" >2000</td>\n",
       "      <td id=\"T_49421_row1_col10\" class=\"data row1 col10\" >30%</td>\n",
       "      <td id=\"T_49421_row1_col11\" class=\"data row1 col11\" >600.000000</td>\n",
       "      <td id=\"T_49421_row1_col12\" class=\"data row1 col12\" >1400.000000</td>\n",
       "    </tr>\n",
       "  </tbody>\n",
       "</table>\n"
      ],
      "text/plain": [
       "<pandas.io.formats.style.Styler at 0x2d4ff8afdf0>"
      ]
     },
     "execution_count": 35,
     "metadata": {},
     "output_type": "execute_result"
    }
   ],
   "source": [
    "sbry_dividends.style.set_properties(**{\"text-align\": \"center\"})"
   ]
  },
  {
   "cell_type": "code",
   "execution_count": 36,
   "metadata": {
    "slideshow": {
     "slide_type": "skip"
    }
   },
   "outputs": [
    {
     "name": "stdout",
     "output_type": "stream",
     "text": [
      "2 dividends created\n"
     ]
    }
   ],
   "source": [
    "load_dividends(sbry_dividends)"
   ]
  },
  {
   "cell_type": "markdown",
   "metadata": {
    "slideshow": {
     "slide_type": "slide"
    }
   },
   "source": [
    "### 7.2 Add new instrument property and populate on our SBRY equity"
   ]
  },
  {
   "cell_type": "markdown",
   "metadata": {
    "slideshow": {
     "slide_type": "fragment"
    }
   },
   "source": [
    "Create the property."
   ]
  },
  {
   "cell_type": "code",
   "execution_count": 37,
   "metadata": {
    "slideshow": {
     "slide_type": "-"
    }
   },
   "outputs": [
    {
     "name": "stdout",
     "output_type": "stream",
     "text": [
      "Property \"taxRuleSetSample/TaxCategory\" created\n"
     ]
    }
   ],
   "source": [
    "try:\n",
    "    property_definition_request = lm.CreatePropertyDefinitionRequest(\n",
    "        domain=\"Instrument\",\n",
    "        scope=scope,\n",
    "        code=\"TaxCategory\",\n",
    "        display_name=\"Tax Category\",\n",
    "        data_type_id=lm.ResourceId(\n",
    "            scope=\"system\",\n",
    "            code=\"string\",\n",
    "        ),\n",
    "        life_time=\"Perpetual\",\n",
    "    )\n",
    "\n",
    "    property_definitions_api.create_property_definition(\n",
    "        create_property_definition_request=property_definition_request\n",
    "    )\n",
    "    print(f'Property \"{scope}/TaxCategory\" created')\n",
    "\n",
    "except lu.ApiException as e:\n",
    "    detail = json.loads(e.body)\n",
    "    if detail[\"code\"] == 124:\n",
    "        print(f'Property \"{scope}/TaxCategory\" already exists')\n",
    "    else:\n",
    "        raise e"
   ]
  },
  {
   "cell_type": "markdown",
   "metadata": {
    "slideshow": {
     "slide_type": "subslide"
    }
   },
   "source": [
    "Populate the property on the SBRY instrument."
   ]
  },
  {
   "cell_type": "code",
   "execution_count": 38,
   "metadata": {
    "slideshow": {
     "slide_type": "-"
    }
   },
   "outputs": [
    {
     "name": "stdout",
     "output_type": "stream",
     "text": [
      "Property \"taxRuleSetSample/TaxCategory\" set on SBRY\n"
     ]
    }
   ],
   "source": [
    "try:\n",
    "    model_property = lm.ModelProperty(\n",
    "        key=f\"Instrument/{scope}/TaxCategory\",\n",
    "        value=lm.PropertyValue(label_value=\"ABC123\"),\n",
    "    )\n",
    "\n",
    "    upsert_instrument_property_request = lm.UpsertInstrumentPropertyRequest(\n",
    "        identifier_type=\"ClientInternal\", identifier=\"SBRY\", properties=[model_property]\n",
    "    )\n",
    "\n",
    "    instruments_api.upsert_instruments_properties(\n",
    "        upsert_instrument_property_request=[upsert_instrument_property_request],\n",
    "        scope=scope,\n",
    "    )\n",
    "\n",
    "    print(f'Property \"{scope}/TaxCategory\" set on SBRY')\n",
    "\n",
    "except lu.ApiException as e:\n",
    "    raise e"
   ]
  },
  {
   "cell_type": "markdown",
   "metadata": {
    "slideshow": {
     "slide_type": "slide"
    }
   },
   "source": [
    "### 7.3 Update our TaxRuleSet with an extra rule"
   ]
  },
  {
   "cell_type": "markdown",
   "metadata": {
    "slideshow": {
     "slide_type": "-"
    }
   },
   "source": [
    "Our TaxRuleSet currently taxes dividends for instruments whose _CountryCode_=UK.\n",
    "\n",
    "We will now add a rule **before** our existing rule, effective 01 Jan 2022, that will apply to instruments whose _TaxCategory_=ABC123. The tax rate will be 30%."
   ]
  },
  {
   "cell_type": "code",
   "execution_count": 39,
   "metadata": {
    "slideshow": {
     "slide_type": "-"
    }
   },
   "outputs": [
    {
     "name": "stdout",
     "output_type": "stream",
     "text": [
      "grossWithholdingTaxRuleSet updated\n"
     ]
    }
   ],
   "source": [
    "rules = [\n",
    "    lm.TaxRule(\n",
    "        name=\"category_TaxRule\",\n",
    "        description=\"Category TaxRule\",\n",
    "        rate=0.30,\n",
    "        match_criteria=[\n",
    "            lm.PropertyValueEquals(\n",
    "                property_key=f\"Instrument/{scope}/TaxCategory\",\n",
    "                value=\"ABC123\",\n",
    "                criterion_type=\"PropertyValueEquals\",\n",
    "            )\n",
    "        ],\n",
    "    ),\n",
    "    lm.TaxRule(\n",
    "        name=\"UK_TaxRule\",\n",
    "        description=\"UK TaxRule\",\n",
    "        rate=0.24,\n",
    "        match_criteria=[\n",
    "            lm.PropertyValueEquals(\n",
    "                property_key=f\"Instrument/{scope}/CountryCode\",\n",
    "                value=\"UK\",\n",
    "                criterion_type=\"PropertyValueEquals\",\n",
    "            )\n",
    "        ],\n",
    "    ),\n",
    "]\n",
    "\n",
    "upsert_tax_rule_set(\n",
    "    tax_rule_set_withholding, effective_at, withholding_output_property, rules\n",
    ")"
   ]
  },
  {
   "cell_type": "markdown",
   "metadata": {
    "slideshow": {
     "slide_type": "slide"
    }
   },
   "source": [
    "Examining our holdings after the first SBRY ex-date in 2021 we can see our SBRY dividend has been correctly taxed at 22% as per the rule in effect throughout 2021."
   ]
  },
  {
   "cell_type": "code",
   "execution_count": 40,
   "metadata": {
    "slideshow": {
     "slide_type": "skip"
    }
   },
   "outputs": [],
   "source": [
    "div_cols_to_show = [\n",
    "    \"code\",\n",
    "    \"div_amount\",\n",
    "    \"ex_date\",\n",
    "    \"payment_date\",\n",
    "    \"Holding\",\n",
    "    \"Expected Gross Dividend (div_amount * Holding)\",\n",
    "    \"Expected Tax Rate\",\n",
    "    \"Expected Tax Amount (Gross * Tax Rate)\",\n",
    "]"
   ]
  },
  {
   "cell_type": "code",
   "execution_count": 41,
   "metadata": {
    "slideshow": {
     "slide_type": "-"
    }
   },
   "outputs": [
    {
     "data": {
      "text/html": [
       "<style type=\"text/css\">\n",
       "#T_f0437_row0_col0, #T_f0437_row0_col1, #T_f0437_row0_col2, #T_f0437_row0_col3, #T_f0437_row0_col4, #T_f0437_row0_col5, #T_f0437_row0_col6, #T_f0437_row0_col7 {\n",
       "  text-align: center;\n",
       "}\n",
       "</style>\n",
       "<table id=\"T_f0437\">\n",
       "  <thead>\n",
       "    <tr>\n",
       "      <th class=\"blank level0\" >&nbsp;</th>\n",
       "      <th id=\"T_f0437_level0_col0\" class=\"col_heading level0 col0\" >code</th>\n",
       "      <th id=\"T_f0437_level0_col1\" class=\"col_heading level0 col1\" >div_amount</th>\n",
       "      <th id=\"T_f0437_level0_col2\" class=\"col_heading level0 col2\" >ex_date</th>\n",
       "      <th id=\"T_f0437_level0_col3\" class=\"col_heading level0 col3\" >payment_date</th>\n",
       "      <th id=\"T_f0437_level0_col4\" class=\"col_heading level0 col4\" >Holding</th>\n",
       "      <th id=\"T_f0437_level0_col5\" class=\"col_heading level0 col5\" >Expected Gross Dividend (div_amount * Holding)</th>\n",
       "      <th id=\"T_f0437_level0_col6\" class=\"col_heading level0 col6\" >Expected Tax Rate</th>\n",
       "      <th id=\"T_f0437_level0_col7\" class=\"col_heading level0 col7\" >Expected Tax Amount (Gross * Tax Rate)</th>\n",
       "    </tr>\n",
       "  </thead>\n",
       "  <tbody>\n",
       "    <tr>\n",
       "      <th id=\"T_f0437_level0_row0\" class=\"row_heading level0 row0\" >0</th>\n",
       "      <td id=\"T_f0437_row0_col0\" class=\"data row0 col0\" >SBRY_1_20210315</td>\n",
       "      <td id=\"T_f0437_row0_col1\" class=\"data row0 col1\" >0.028000</td>\n",
       "      <td id=\"T_f0437_row0_col2\" class=\"data row0 col2\" >15-Feb-21</td>\n",
       "      <td id=\"T_f0437_row0_col3\" class=\"data row0 col3\" >15-Mar-21</td>\n",
       "      <td id=\"T_f0437_row0_col4\" class=\"data row0 col4\" >80000</td>\n",
       "      <td id=\"T_f0437_row0_col5\" class=\"data row0 col5\" >2240</td>\n",
       "      <td id=\"T_f0437_row0_col6\" class=\"data row0 col6\" >22%</td>\n",
       "      <td id=\"T_f0437_row0_col7\" class=\"data row0 col7\" >492.800000</td>\n",
       "    </tr>\n",
       "  </tbody>\n",
       "</table>\n"
      ],
      "text/plain": [
       "<pandas.io.formats.style.Styler at 0x2d4ff8affa0>"
      ]
     },
     "execution_count": 41,
     "metadata": {},
     "output_type": "execute_result"
    }
   ],
   "source": [
    "sbry_dividends.loc[0:0, div_cols_to_show].style.set_properties(\n",
    "    **{\"text-align\": \"center\"}\n",
    ")"
   ]
  },
  {
   "cell_type": "code",
   "execution_count": 42,
   "metadata": {
    "slideshow": {
     "slide_type": "-"
    }
   },
   "outputs": [
    {
     "data": {
      "text/html": [
       "<style type=\"text/css\">\n",
       "#T_bb5a1_row0_col0, #T_bb5a1_row0_col1, #T_bb5a1_row0_col2, #T_bb5a1_row0_col3, #T_bb5a1_row1_col0, #T_bb5a1_row1_col1, #T_bb5a1_row1_col2, #T_bb5a1_row1_col3, #T_bb5a1_row2_col0, #T_bb5a1_row2_col1, #T_bb5a1_row2_col2, #T_bb5a1_row2_col3, #T_bb5a1_row3_col0, #T_bb5a1_row3_col1, #T_bb5a1_row3_col2, #T_bb5a1_row3_col3, #T_bb5a1_row4_col0, #T_bb5a1_row4_col1, #T_bb5a1_row4_col2, #T_bb5a1_row4_col3, #T_bb5a1_row5_col0, #T_bb5a1_row5_col1, #T_bb5a1_row5_col2, #T_bb5a1_row5_col3, #T_bb5a1_row6_col0, #T_bb5a1_row6_col1, #T_bb5a1_row6_col2, #T_bb5a1_row6_col3 {\n",
       "  text-align: center;\n",
       "}\n",
       "</style>\n",
       "<table id=\"T_bb5a1\">\n",
       "  <thead>\n",
       "    <tr>\n",
       "      <th class=\"blank level0\" >&nbsp;</th>\n",
       "      <th id=\"T_bb5a1_level0_col0\" class=\"col_heading level0 col0\" >Instrument</th>\n",
       "      <th id=\"T_bb5a1_level0_col1\" class=\"col_heading level0 col1\" >CountryCode</th>\n",
       "      <th id=\"T_bb5a1_level0_col2\" class=\"col_heading level0 col2\" >Units</th>\n",
       "      <th id=\"T_bb5a1_level0_col3\" class=\"col_heading level0 col3\" >HoldingType</th>\n",
       "    </tr>\n",
       "  </thead>\n",
       "  <tbody>\n",
       "    <tr>\n",
       "      <th id=\"T_bb5a1_level0_row0\" class=\"row_heading level0 row0\" >0</th>\n",
       "      <td id=\"T_bb5a1_row0_col0\" class=\"data row0 col0\" >GBP</td>\n",
       "      <td id=\"T_bb5a1_row0_col1\" class=\"data row0 col1\" >nan</td>\n",
       "      <td id=\"T_bb5a1_row0_col2\" class=\"data row0 col2\" >3599.200000</td>\n",
       "      <td id=\"T_bb5a1_row0_col3\" class=\"data row0 col3\" >Balance</td>\n",
       "    </tr>\n",
       "    <tr>\n",
       "      <th id=\"T_bb5a1_level0_row1\" class=\"row_heading level0 row1\" >1</th>\n",
       "      <td id=\"T_bb5a1_row1_col0\" class=\"data row1 col0\" >USD</td>\n",
       "      <td id=\"T_bb5a1_row1_col1\" class=\"data row1 col1\" >nan</td>\n",
       "      <td id=\"T_bb5a1_row1_col2\" class=\"data row1 col2\" >100.000000</td>\n",
       "      <td id=\"T_bb5a1_row1_col3\" class=\"data row1 col3\" >Balance</td>\n",
       "    </tr>\n",
       "    <tr>\n",
       "      <th id=\"T_bb5a1_level0_row2\" class=\"row_heading level0 row2\" >2</th>\n",
       "      <td id=\"T_bb5a1_row2_col0\" class=\"data row2 col0\" >Microsoft</td>\n",
       "      <td id=\"T_bb5a1_row2_col1\" class=\"data row2 col1\" >USA</td>\n",
       "      <td id=\"T_bb5a1_row2_col2\" class=\"data row2 col2\" >2000.000000</td>\n",
       "      <td id=\"T_bb5a1_row2_col3\" class=\"data row2 col3\" >Position</td>\n",
       "    </tr>\n",
       "    <tr>\n",
       "      <th id=\"T_bb5a1_level0_row3\" class=\"row_heading level0 row3\" >3</th>\n",
       "      <td id=\"T_bb5a1_row3_col0\" class=\"data row3 col0\" >Sainsbury</td>\n",
       "      <td id=\"T_bb5a1_row3_col1\" class=\"data row3 col1\" >UK</td>\n",
       "      <td id=\"T_bb5a1_row3_col2\" class=\"data row3 col2\" >80000.000000</td>\n",
       "      <td id=\"T_bb5a1_row3_col3\" class=\"data row3 col3\" >Position</td>\n",
       "    </tr>\n",
       "    <tr>\n",
       "      <th id=\"T_bb5a1_level0_row4\" class=\"row_heading level0 row4\" >4</th>\n",
       "      <td id=\"T_bb5a1_row4_col0\" class=\"data row4 col0\" >Rolls Royce</td>\n",
       "      <td id=\"T_bb5a1_row4_col1\" class=\"data row4 col1\" >UK</td>\n",
       "      <td id=\"T_bb5a1_row4_col2\" class=\"data row4 col2\" >60000.000000</td>\n",
       "      <td id=\"T_bb5a1_row4_col3\" class=\"data row4 col3\" >Position</td>\n",
       "    </tr>\n",
       "    <tr>\n",
       "      <th id=\"T_bb5a1_level0_row5\" class=\"row_heading level0 row5\" >5</th>\n",
       "      <td id=\"T_bb5a1_row5_col0\" class=\"data row5 col0\" >GBP</td>\n",
       "      <td id=\"T_bb5a1_row5_col1\" class=\"data row5 col1\" >nan</td>\n",
       "      <td id=\"T_bb5a1_row5_col2\" class=\"data row5 col2\" >2240.000000</td>\n",
       "      <td id=\"T_bb5a1_row5_col3\" class=\"data row5 col3\" >Accrual</td>\n",
       "    </tr>\n",
       "    <tr>\n",
       "      <th id=\"T_bb5a1_level0_row6\" class=\"row_heading level0 row6\" >6</th>\n",
       "      <td id=\"T_bb5a1_row6_col0\" class=\"data row6 col0\" >GBP</td>\n",
       "      <td id=\"T_bb5a1_row6_col1\" class=\"data row6 col1\" >nan</td>\n",
       "      <td id=\"T_bb5a1_row6_col2\" class=\"data row6 col2\" >-492.800000</td>\n",
       "      <td id=\"T_bb5a1_row6_col3\" class=\"data row6 col3\" >Receivable</td>\n",
       "    </tr>\n",
       "  </tbody>\n",
       "</table>\n"
      ],
      "text/plain": [
       "<pandas.io.formats.style.Styler at 0x2d4ff744ca0>"
      ]
     },
     "execution_count": 42,
     "metadata": {},
     "output_type": "execute_result"
    }
   ],
   "source": [
    "get_portfolio_holdings_centeraligned(2021, 2, 16)"
   ]
  },
  {
   "cell_type": "markdown",
   "metadata": {
    "slideshow": {
     "slide_type": "subslide"
    }
   },
   "source": [
    "If we also examine our holdings shortly after the second SBRY dividend ex-date, in 2022, we can see that our dividend has been taxed at 30% as it met the first of the 2 rules applicable in 2022."
   ]
  },
  {
   "cell_type": "code",
   "execution_count": 43,
   "metadata": {
    "slideshow": {
     "slide_type": "-"
    }
   },
   "outputs": [
    {
     "data": {
      "text/html": [
       "<style type=\"text/css\">\n",
       "#T_01e68_row0_col0, #T_01e68_row0_col1, #T_01e68_row0_col2, #T_01e68_row0_col3, #T_01e68_row0_col4, #T_01e68_row0_col5, #T_01e68_row0_col6, #T_01e68_row0_col7 {\n",
       "  text-align: center;\n",
       "}\n",
       "</style>\n",
       "<table id=\"T_01e68\">\n",
       "  <thead>\n",
       "    <tr>\n",
       "      <th class=\"blank level0\" >&nbsp;</th>\n",
       "      <th id=\"T_01e68_level0_col0\" class=\"col_heading level0 col0\" >code</th>\n",
       "      <th id=\"T_01e68_level0_col1\" class=\"col_heading level0 col1\" >div_amount</th>\n",
       "      <th id=\"T_01e68_level0_col2\" class=\"col_heading level0 col2\" >ex_date</th>\n",
       "      <th id=\"T_01e68_level0_col3\" class=\"col_heading level0 col3\" >payment_date</th>\n",
       "      <th id=\"T_01e68_level0_col4\" class=\"col_heading level0 col4\" >Holding</th>\n",
       "      <th id=\"T_01e68_level0_col5\" class=\"col_heading level0 col5\" >Expected Gross Dividend (div_amount * Holding)</th>\n",
       "      <th id=\"T_01e68_level0_col6\" class=\"col_heading level0 col6\" >Expected Tax Rate</th>\n",
       "      <th id=\"T_01e68_level0_col7\" class=\"col_heading level0 col7\" >Expected Tax Amount (Gross * Tax Rate)</th>\n",
       "    </tr>\n",
       "  </thead>\n",
       "  <tbody>\n",
       "    <tr>\n",
       "      <th id=\"T_01e68_level0_row0\" class=\"row_heading level0 row0\" >1</th>\n",
       "      <td id=\"T_01e68_row0_col0\" class=\"data row0 col0\" >SBRY_2_20220315</td>\n",
       "      <td id=\"T_01e68_row0_col1\" class=\"data row0 col1\" >0.025000</td>\n",
       "      <td id=\"T_01e68_row0_col2\" class=\"data row0 col2\" >15-Feb-22</td>\n",
       "      <td id=\"T_01e68_row0_col3\" class=\"data row0 col3\" >15-Mar-22</td>\n",
       "      <td id=\"T_01e68_row0_col4\" class=\"data row0 col4\" >80000</td>\n",
       "      <td id=\"T_01e68_row0_col5\" class=\"data row0 col5\" >2000</td>\n",
       "      <td id=\"T_01e68_row0_col6\" class=\"data row0 col6\" >30%</td>\n",
       "      <td id=\"T_01e68_row0_col7\" class=\"data row0 col7\" >600.000000</td>\n",
       "    </tr>\n",
       "  </tbody>\n",
       "</table>\n"
      ],
      "text/plain": [
       "<pandas.io.formats.style.Styler at 0x2d4ff9453c0>"
      ]
     },
     "execution_count": 43,
     "metadata": {},
     "output_type": "execute_result"
    }
   ],
   "source": [
    "sbry_dividends.loc[1:1, div_cols_to_show].style.set_properties(\n",
    "    **{\"text-align\": \"center\"}\n",
    ")"
   ]
  },
  {
   "cell_type": "code",
   "execution_count": 44,
   "metadata": {
    "slideshow": {
     "slide_type": "-"
    }
   },
   "outputs": [
    {
     "data": {
      "text/html": [
       "<style type=\"text/css\">\n",
       "#T_b364c_row0_col0, #T_b364c_row0_col1, #T_b364c_row0_col2, #T_b364c_row0_col3, #T_b364c_row1_col0, #T_b364c_row1_col1, #T_b364c_row1_col2, #T_b364c_row1_col3, #T_b364c_row2_col0, #T_b364c_row2_col1, #T_b364c_row2_col2, #T_b364c_row2_col3, #T_b364c_row3_col0, #T_b364c_row3_col1, #T_b364c_row3_col2, #T_b364c_row3_col3, #T_b364c_row4_col0, #T_b364c_row4_col1, #T_b364c_row4_col2, #T_b364c_row4_col3, #T_b364c_row5_col0, #T_b364c_row5_col1, #T_b364c_row5_col2, #T_b364c_row5_col3, #T_b364c_row6_col0, #T_b364c_row6_col1, #T_b364c_row6_col2, #T_b364c_row6_col3 {\n",
       "  text-align: center;\n",
       "}\n",
       "</style>\n",
       "<table id=\"T_b364c\">\n",
       "  <thead>\n",
       "    <tr>\n",
       "      <th class=\"blank level0\" >&nbsp;</th>\n",
       "      <th id=\"T_b364c_level0_col0\" class=\"col_heading level0 col0\" >Instrument</th>\n",
       "      <th id=\"T_b364c_level0_col1\" class=\"col_heading level0 col1\" >CountryCode</th>\n",
       "      <th id=\"T_b364c_level0_col2\" class=\"col_heading level0 col2\" >Units</th>\n",
       "      <th id=\"T_b364c_level0_col3\" class=\"col_heading level0 col3\" >HoldingType</th>\n",
       "    </tr>\n",
       "  </thead>\n",
       "  <tbody>\n",
       "    <tr>\n",
       "      <th id=\"T_b364c_level0_row0\" class=\"row_heading level0 row0\" >0</th>\n",
       "      <td id=\"T_b364c_row0_col0\" class=\"data row0 col0\" >GBP</td>\n",
       "      <td id=\"T_b364c_row0_col1\" class=\"data row0 col1\" >nan</td>\n",
       "      <td id=\"T_b364c_row0_col2\" class=\"data row0 col2\" >8982.760000</td>\n",
       "      <td id=\"T_b364c_row0_col3\" class=\"data row0 col3\" >Balance</td>\n",
       "    </tr>\n",
       "    <tr>\n",
       "      <th id=\"T_b364c_level0_row1\" class=\"row_heading level0 row1\" >1</th>\n",
       "      <td id=\"T_b364c_row1_col0\" class=\"data row1 col0\" >USD</td>\n",
       "      <td id=\"T_b364c_row1_col1\" class=\"data row1 col1\" >nan</td>\n",
       "      <td id=\"T_b364c_row1_col2\" class=\"data row1 col2\" >100.000000</td>\n",
       "      <td id=\"T_b364c_row1_col3\" class=\"data row1 col3\" >Balance</td>\n",
       "    </tr>\n",
       "    <tr>\n",
       "      <th id=\"T_b364c_level0_row2\" class=\"row_heading level0 row2\" >2</th>\n",
       "      <td id=\"T_b364c_row2_col0\" class=\"data row2 col0\" >Microsoft</td>\n",
       "      <td id=\"T_b364c_row2_col1\" class=\"data row2 col1\" >USA</td>\n",
       "      <td id=\"T_b364c_row2_col2\" class=\"data row2 col2\" >2000.000000</td>\n",
       "      <td id=\"T_b364c_row2_col3\" class=\"data row2 col3\" >Position</td>\n",
       "    </tr>\n",
       "    <tr>\n",
       "      <th id=\"T_b364c_level0_row3\" class=\"row_heading level0 row3\" >3</th>\n",
       "      <td id=\"T_b364c_row3_col0\" class=\"data row3 col0\" >Sainsbury</td>\n",
       "      <td id=\"T_b364c_row3_col1\" class=\"data row3 col1\" >UK</td>\n",
       "      <td id=\"T_b364c_row3_col2\" class=\"data row3 col2\" >80000.000000</td>\n",
       "      <td id=\"T_b364c_row3_col3\" class=\"data row3 col3\" >Position</td>\n",
       "    </tr>\n",
       "    <tr>\n",
       "      <th id=\"T_b364c_level0_row4\" class=\"row_heading level0 row4\" >4</th>\n",
       "      <td id=\"T_b364c_row4_col0\" class=\"data row4 col0\" >Rolls Royce</td>\n",
       "      <td id=\"T_b364c_row4_col1\" class=\"data row4 col1\" >UK</td>\n",
       "      <td id=\"T_b364c_row4_col2\" class=\"data row4 col2\" >60000.000000</td>\n",
       "      <td id=\"T_b364c_row4_col3\" class=\"data row4 col3\" >Position</td>\n",
       "    </tr>\n",
       "    <tr>\n",
       "      <th id=\"T_b364c_level0_row5\" class=\"row_heading level0 row5\" >5</th>\n",
       "      <td id=\"T_b364c_row5_col0\" class=\"data row5 col0\" >GBP</td>\n",
       "      <td id=\"T_b364c_row5_col1\" class=\"data row5 col1\" >nan</td>\n",
       "      <td id=\"T_b364c_row5_col2\" class=\"data row5 col2\" >2000.000000</td>\n",
       "      <td id=\"T_b364c_row5_col3\" class=\"data row5 col3\" >Accrual</td>\n",
       "    </tr>\n",
       "    <tr>\n",
       "      <th id=\"T_b364c_level0_row6\" class=\"row_heading level0 row6\" >6</th>\n",
       "      <td id=\"T_b364c_row6_col0\" class=\"data row6 col0\" >GBP</td>\n",
       "      <td id=\"T_b364c_row6_col1\" class=\"data row6 col1\" >nan</td>\n",
       "      <td id=\"T_b364c_row6_col2\" class=\"data row6 col2\" >-600.000000</td>\n",
       "      <td id=\"T_b364c_row6_col3\" class=\"data row6 col3\" >Receivable</td>\n",
       "    </tr>\n",
       "  </tbody>\n",
       "</table>\n"
      ],
      "text/plain": [
       "<pandas.io.formats.style.Styler at 0x2d4f435e020>"
      ]
     },
     "execution_count": 44,
     "metadata": {},
     "output_type": "execute_result"
    }
   ],
   "source": [
    "get_portfolio_holdings_centeraligned(2022, 2, 16)"
   ]
  },
  {
   "cell_type": "markdown",
   "metadata": {
    "slideshow": {
     "slide_type": "subslide"
    }
   },
   "source": [
    "Also in 2022 our final RR dividend is taxed at 24% as it is not caught by the first rule, but is caught by the second rule."
   ]
  },
  {
   "cell_type": "code",
   "execution_count": 45,
   "metadata": {
    "slideshow": {
     "slide_type": "-"
    }
   },
   "outputs": [
    {
     "data": {
      "text/html": [
       "<style type=\"text/css\">\n",
       "#T_16b37_row0_col0, #T_16b37_row0_col1, #T_16b37_row0_col2, #T_16b37_row0_col3, #T_16b37_row0_col4, #T_16b37_row0_col5, #T_16b37_row0_col6, #T_16b37_row0_col7 {\n",
       "  text-align: center;\n",
       "}\n",
       "</style>\n",
       "<table id=\"T_16b37\">\n",
       "  <thead>\n",
       "    <tr>\n",
       "      <th class=\"blank level0\" >&nbsp;</th>\n",
       "      <th id=\"T_16b37_level0_col0\" class=\"col_heading level0 col0\" >code</th>\n",
       "      <th id=\"T_16b37_level0_col1\" class=\"col_heading level0 col1\" >div_amount</th>\n",
       "      <th id=\"T_16b37_level0_col2\" class=\"col_heading level0 col2\" >ex_date</th>\n",
       "      <th id=\"T_16b37_level0_col3\" class=\"col_heading level0 col3\" >payment_date</th>\n",
       "      <th id=\"T_16b37_level0_col4\" class=\"col_heading level0 col4\" >Holding</th>\n",
       "      <th id=\"T_16b37_level0_col5\" class=\"col_heading level0 col5\" >Expected Gross Dividend (div_amount * Holding)</th>\n",
       "      <th id=\"T_16b37_level0_col6\" class=\"col_heading level0 col6\" >Expected Tax Rate</th>\n",
       "      <th id=\"T_16b37_level0_col7\" class=\"col_heading level0 col7\" >Expected Tax Amount (Gross * Tax Rate)</th>\n",
       "    </tr>\n",
       "  </thead>\n",
       "  <tbody>\n",
       "    <tr>\n",
       "      <th id=\"T_16b37_level0_row0\" class=\"row_heading level0 row0\" >4</th>\n",
       "      <td id=\"T_16b37_row0_col0\" class=\"data row0 col0\" >RR_5_20220807</td>\n",
       "      <td id=\"T_16b37_row0_col1\" class=\"data row0 col1\" >0.039900</td>\n",
       "      <td id=\"T_16b37_row0_col2\" class=\"data row0 col2\" >28-Apr-22</td>\n",
       "      <td id=\"T_16b37_row0_col3\" class=\"data row0 col3\" >07-Jul-22</td>\n",
       "      <td id=\"T_16b37_row0_col4\" class=\"data row0 col4\" >60000</td>\n",
       "      <td id=\"T_16b37_row0_col5\" class=\"data row0 col5\" >2394</td>\n",
       "      <td id=\"T_16b37_row0_col6\" class=\"data row0 col6\" >24%</td>\n",
       "      <td id=\"T_16b37_row0_col7\" class=\"data row0 col7\" >574.560000</td>\n",
       "    </tr>\n",
       "  </tbody>\n",
       "</table>\n"
      ],
      "text/plain": [
       "<pandas.io.formats.style.Styler at 0x2d4ff9034c0>"
      ]
     },
     "execution_count": 45,
     "metadata": {},
     "output_type": "execute_result"
    }
   ],
   "source": [
    "rr_dividends.loc[4:4, div_cols_to_show].style.set_properties(**{\"text-align\": \"center\"})"
   ]
  },
  {
   "cell_type": "code",
   "execution_count": 46,
   "metadata": {
    "slideshow": {
     "slide_type": "-"
    }
   },
   "outputs": [
    {
     "data": {
      "text/html": [
       "<style type=\"text/css\">\n",
       "#T_1846e_row0_col0, #T_1846e_row0_col1, #T_1846e_row0_col2, #T_1846e_row0_col3, #T_1846e_row1_col0, #T_1846e_row1_col1, #T_1846e_row1_col2, #T_1846e_row1_col3, #T_1846e_row2_col0, #T_1846e_row2_col1, #T_1846e_row2_col2, #T_1846e_row2_col3, #T_1846e_row3_col0, #T_1846e_row3_col1, #T_1846e_row3_col2, #T_1846e_row3_col3, #T_1846e_row4_col0, #T_1846e_row4_col1, #T_1846e_row4_col2, #T_1846e_row4_col3, #T_1846e_row5_col0, #T_1846e_row5_col1, #T_1846e_row5_col2, #T_1846e_row5_col3, #T_1846e_row6_col0, #T_1846e_row6_col1, #T_1846e_row6_col2, #T_1846e_row6_col3, #T_1846e_row7_col0, #T_1846e_row7_col1, #T_1846e_row7_col2, #T_1846e_row7_col3 {\n",
       "  text-align: center;\n",
       "}\n",
       "</style>\n",
       "<table id=\"T_1846e\">\n",
       "  <thead>\n",
       "    <tr>\n",
       "      <th class=\"blank level0\" >&nbsp;</th>\n",
       "      <th id=\"T_1846e_level0_col0\" class=\"col_heading level0 col0\" >Instrument</th>\n",
       "      <th id=\"T_1846e_level0_col1\" class=\"col_heading level0 col1\" >CountryCode</th>\n",
       "      <th id=\"T_1846e_level0_col2\" class=\"col_heading level0 col2\" >Units</th>\n",
       "      <th id=\"T_1846e_level0_col3\" class=\"col_heading level0 col3\" >HoldingType</th>\n",
       "    </tr>\n",
       "  </thead>\n",
       "  <tbody>\n",
       "    <tr>\n",
       "      <th id=\"T_1846e_level0_row0\" class=\"row_heading level0 row0\" >0</th>\n",
       "      <td id=\"T_1846e_row0_col0\" class=\"data row0 col0\" >GBP</td>\n",
       "      <td id=\"T_1846e_row0_col1\" class=\"data row0 col1\" >nan</td>\n",
       "      <td id=\"T_1846e_row0_col2\" class=\"data row0 col2\" >10382.760000</td>\n",
       "      <td id=\"T_1846e_row0_col3\" class=\"data row0 col3\" >Balance</td>\n",
       "    </tr>\n",
       "    <tr>\n",
       "      <th id=\"T_1846e_level0_row1\" class=\"row_heading level0 row1\" >1</th>\n",
       "      <td id=\"T_1846e_row1_col0\" class=\"data row1 col0\" >USD</td>\n",
       "      <td id=\"T_1846e_row1_col1\" class=\"data row1 col1\" >nan</td>\n",
       "      <td id=\"T_1846e_row1_col2\" class=\"data row1 col2\" >100.000000</td>\n",
       "      <td id=\"T_1846e_row1_col3\" class=\"data row1 col3\" >Balance</td>\n",
       "    </tr>\n",
       "    <tr>\n",
       "      <th id=\"T_1846e_level0_row2\" class=\"row_heading level0 row2\" >2</th>\n",
       "      <td id=\"T_1846e_row2_col0\" class=\"data row2 col0\" >Microsoft</td>\n",
       "      <td id=\"T_1846e_row2_col1\" class=\"data row2 col1\" >USA</td>\n",
       "      <td id=\"T_1846e_row2_col2\" class=\"data row2 col2\" >2000.000000</td>\n",
       "      <td id=\"T_1846e_row2_col3\" class=\"data row2 col3\" >Position</td>\n",
       "    </tr>\n",
       "    <tr>\n",
       "      <th id=\"T_1846e_level0_row3\" class=\"row_heading level0 row3\" >3</th>\n",
       "      <td id=\"T_1846e_row3_col0\" class=\"data row3 col0\" >Sainsbury</td>\n",
       "      <td id=\"T_1846e_row3_col1\" class=\"data row3 col1\" >UK</td>\n",
       "      <td id=\"T_1846e_row3_col2\" class=\"data row3 col2\" >80000.000000</td>\n",
       "      <td id=\"T_1846e_row3_col3\" class=\"data row3 col3\" >Position</td>\n",
       "    </tr>\n",
       "    <tr>\n",
       "      <th id=\"T_1846e_level0_row4\" class=\"row_heading level0 row4\" >4</th>\n",
       "      <td id=\"T_1846e_row4_col0\" class=\"data row4 col0\" >Rolls Royce</td>\n",
       "      <td id=\"T_1846e_row4_col1\" class=\"data row4 col1\" >UK</td>\n",
       "      <td id=\"T_1846e_row4_col2\" class=\"data row4 col2\" >60000.000000</td>\n",
       "      <td id=\"T_1846e_row4_col3\" class=\"data row4 col3\" >Position</td>\n",
       "    </tr>\n",
       "    <tr>\n",
       "      <th id=\"T_1846e_level0_row5\" class=\"row_heading level0 row5\" >5</th>\n",
       "      <td id=\"T_1846e_row5_col0\" class=\"data row5 col0\" >GBP</td>\n",
       "      <td id=\"T_1846e_row5_col1\" class=\"data row5 col1\" >nan</td>\n",
       "      <td id=\"T_1846e_row5_col2\" class=\"data row5 col2\" >2394.000000</td>\n",
       "      <td id=\"T_1846e_row5_col3\" class=\"data row5 col3\" >Accrual</td>\n",
       "    </tr>\n",
       "    <tr>\n",
       "      <th id=\"T_1846e_level0_row6\" class=\"row_heading level0 row6\" >6</th>\n",
       "      <td id=\"T_1846e_row6_col0\" class=\"data row6 col0\" >GBP</td>\n",
       "      <td id=\"T_1846e_row6_col1\" class=\"data row6 col1\" >nan</td>\n",
       "      <td id=\"T_1846e_row6_col2\" class=\"data row6 col2\" >-574.560000</td>\n",
       "      <td id=\"T_1846e_row6_col3\" class=\"data row6 col3\" >Receivable</td>\n",
       "    </tr>\n",
       "    <tr>\n",
       "      <th id=\"T_1846e_level0_row7\" class=\"row_heading level0 row7\" >7</th>\n",
       "      <td id=\"T_1846e_row7_col0\" class=\"data row7 col0\" >USD</td>\n",
       "      <td id=\"T_1846e_row7_col1\" class=\"data row7 col1\" >nan</td>\n",
       "      <td id=\"T_1846e_row7_col2\" class=\"data row7 col2\" >1200.000000</td>\n",
       "      <td id=\"T_1846e_row7_col3\" class=\"data row7 col3\" >Accrual</td>\n",
       "    </tr>\n",
       "  </tbody>\n",
       "</table>\n"
      ],
      "text/plain": [
       "<pandas.io.formats.style.Styler at 0x2d4ff8af880>"
      ]
     },
     "execution_count": 46,
     "metadata": {},
     "output_type": "execute_result"
    }
   ],
   "source": [
    "get_portfolio_holdings_centeraligned(2022, 4, 29)"
   ]
  },
  {
   "cell_type": "markdown",
   "metadata": {
    "slideshow": {
     "slide_type": "slide"
    }
   },
   "source": [
    "## 8. Adding another TaxRuleSet\n",
    "\n",
    "So far we have used a single TaxRuleSet to populate a single _output_property_key_. We will now add a second TaxRuleSet to simultaneously populate a second _output_property_key_ for the SBRY dividends.\n",
    "\n",
    "This TaxRuleSet will be applicable from 01 Jan 2022 and the rate will be -10%."
   ]
  },
  {
   "cell_type": "markdown",
   "metadata": {
    "slideshow": {
     "slide_type": "subslide"
    }
   },
   "source": [
    "First create the property."
   ]
  },
  {
   "cell_type": "code",
   "execution_count": 47,
   "metadata": {
    "slideshow": {
     "slide_type": "-"
    }
   },
   "outputs": [
    {
     "name": "stdout",
     "output_type": "stream",
     "text": [
      "Property \"taxRuleSetSample/taxRelief\" created\n"
     ]
    }
   ],
   "source": [
    "try:\n",
    "    property_definition_request = lm.CreatePropertyDefinitionRequest(\n",
    "        domain=\"Transaction\",\n",
    "        scope=scope,\n",
    "        code=relief_output_property,\n",
    "        display_name=\"Tax Relief\",\n",
    "        data_type_id=lm.ResourceId(\n",
    "            scope=\"system\",\n",
    "            code=\"number\",\n",
    "        ),\n",
    "        life_time=\"Perpetual\",\n",
    "    )\n",
    "\n",
    "    property_definitions_api.create_property_definition(\n",
    "        create_property_definition_request=property_definition_request\n",
    "    )\n",
    "    print(f'Property \"{scope}/{relief_output_property}\" created')\n",
    "\n",
    "except lu.ApiException as e:\n",
    "    detail = json.loads(e.body)\n",
    "    if detail[\"code\"] == 124:\n",
    "        print(f'Property \"{scope}/{relief_output_property}\" already exists')\n",
    "    else:\n",
    "        raise e"
   ]
  },
  {
   "cell_type": "markdown",
   "metadata": {
    "slideshow": {
     "slide_type": "subslide"
    }
   },
   "source": [
    "Now create the TaxRuleSet to populate that property."
   ]
  },
  {
   "cell_type": "code",
   "execution_count": 48,
   "metadata": {
    "slideshow": {
     "slide_type": "-"
    }
   },
   "outputs": [
    {
     "name": "stdout",
     "output_type": "stream",
     "text": [
      "reliefTaxRuleSet created\n"
     ]
    }
   ],
   "source": [
    "rules = getRules(\"TaxCategory\", \"ABC123\", -0.1)\n",
    "effective_at = datetime(year=2022, month=1, day=1, tzinfo=pytz.UTC)\n",
    "upsert_tax_rule_set(tax_rule_set_relief, effective_at, relief_output_property, rules)"
   ]
  },
  {
   "cell_type": "markdown",
   "metadata": {
    "slideshow": {
     "slide_type": "slide"
    }
   },
   "source": [
    "If we now inspect our final SBRY dividend after its ex-date we can see the 10% tax relief as well - a second holding of type `Receivable`."
   ]
  },
  {
   "cell_type": "code",
   "execution_count": 49,
   "metadata": {
    "slideshow": {
     "slide_type": "-"
    }
   },
   "outputs": [
    {
     "data": {
      "text/html": [
       "<style type=\"text/css\">\n",
       "#T_9f656_row0_col0, #T_9f656_row0_col1, #T_9f656_row0_col2, #T_9f656_row0_col3, #T_9f656_row0_col4, #T_9f656_row0_col5, #T_9f656_row0_col6, #T_9f656_row0_col7 {\n",
       "  text-align: center;\n",
       "}\n",
       "</style>\n",
       "<table id=\"T_9f656\">\n",
       "  <thead>\n",
       "    <tr>\n",
       "      <th class=\"blank level0\" >&nbsp;</th>\n",
       "      <th id=\"T_9f656_level0_col0\" class=\"col_heading level0 col0\" >code</th>\n",
       "      <th id=\"T_9f656_level0_col1\" class=\"col_heading level0 col1\" >div_amount</th>\n",
       "      <th id=\"T_9f656_level0_col2\" class=\"col_heading level0 col2\" >ex_date</th>\n",
       "      <th id=\"T_9f656_level0_col3\" class=\"col_heading level0 col3\" >payment_date</th>\n",
       "      <th id=\"T_9f656_level0_col4\" class=\"col_heading level0 col4\" >Holding</th>\n",
       "      <th id=\"T_9f656_level0_col5\" class=\"col_heading level0 col5\" >Expected Gross Dividend (div_amount * Holding)</th>\n",
       "      <th id=\"T_9f656_level0_col6\" class=\"col_heading level0 col6\" >Expected Tax Rate</th>\n",
       "      <th id=\"T_9f656_level0_col7\" class=\"col_heading level0 col7\" >Expected Tax Amount (Gross * Tax Rate)</th>\n",
       "    </tr>\n",
       "  </thead>\n",
       "  <tbody>\n",
       "    <tr>\n",
       "      <th id=\"T_9f656_level0_row0\" class=\"row_heading level0 row0\" >1</th>\n",
       "      <td id=\"T_9f656_row0_col0\" class=\"data row0 col0\" >SBRY_2_20220315</td>\n",
       "      <td id=\"T_9f656_row0_col1\" class=\"data row0 col1\" >0.025000</td>\n",
       "      <td id=\"T_9f656_row0_col2\" class=\"data row0 col2\" >15-Feb-22</td>\n",
       "      <td id=\"T_9f656_row0_col3\" class=\"data row0 col3\" >15-Mar-22</td>\n",
       "      <td id=\"T_9f656_row0_col4\" class=\"data row0 col4\" >80000</td>\n",
       "      <td id=\"T_9f656_row0_col5\" class=\"data row0 col5\" >2000</td>\n",
       "      <td id=\"T_9f656_row0_col6\" class=\"data row0 col6\" >30%</td>\n",
       "      <td id=\"T_9f656_row0_col7\" class=\"data row0 col7\" >600.000000</td>\n",
       "    </tr>\n",
       "  </tbody>\n",
       "</table>\n"
      ],
      "text/plain": [
       "<pandas.io.formats.style.Styler at 0x2d4ff945150>"
      ]
     },
     "execution_count": 49,
     "metadata": {},
     "output_type": "execute_result"
    }
   ],
   "source": [
    "sbry_dividends.loc[1:1, div_cols_to_show].style.set_properties(\n",
    "    **{\"text-align\": \"center\"}\n",
    ")"
   ]
  },
  {
   "cell_type": "code",
   "execution_count": 50,
   "metadata": {
    "slideshow": {
     "slide_type": "-"
    }
   },
   "outputs": [
    {
     "data": {
      "text/html": [
       "<style type=\"text/css\">\n",
       "#T_b3ef5_row0_col0, #T_b3ef5_row0_col1, #T_b3ef5_row0_col2, #T_b3ef5_row0_col3, #T_b3ef5_row1_col0, #T_b3ef5_row1_col1, #T_b3ef5_row1_col2, #T_b3ef5_row1_col3, #T_b3ef5_row2_col0, #T_b3ef5_row2_col1, #T_b3ef5_row2_col2, #T_b3ef5_row2_col3, #T_b3ef5_row3_col0, #T_b3ef5_row3_col1, #T_b3ef5_row3_col2, #T_b3ef5_row3_col3, #T_b3ef5_row4_col0, #T_b3ef5_row4_col1, #T_b3ef5_row4_col2, #T_b3ef5_row4_col3, #T_b3ef5_row5_col0, #T_b3ef5_row5_col1, #T_b3ef5_row5_col2, #T_b3ef5_row5_col3, #T_b3ef5_row6_col0, #T_b3ef5_row6_col1, #T_b3ef5_row6_col2, #T_b3ef5_row6_col3, #T_b3ef5_row7_col0, #T_b3ef5_row7_col1, #T_b3ef5_row7_col2, #T_b3ef5_row7_col3 {\n",
       "  text-align: center;\n",
       "}\n",
       "</style>\n",
       "<table id=\"T_b3ef5\">\n",
       "  <thead>\n",
       "    <tr>\n",
       "      <th class=\"blank level0\" >&nbsp;</th>\n",
       "      <th id=\"T_b3ef5_level0_col0\" class=\"col_heading level0 col0\" >Instrument</th>\n",
       "      <th id=\"T_b3ef5_level0_col1\" class=\"col_heading level0 col1\" >CountryCode</th>\n",
       "      <th id=\"T_b3ef5_level0_col2\" class=\"col_heading level0 col2\" >Units</th>\n",
       "      <th id=\"T_b3ef5_level0_col3\" class=\"col_heading level0 col3\" >HoldingType</th>\n",
       "    </tr>\n",
       "  </thead>\n",
       "  <tbody>\n",
       "    <tr>\n",
       "      <th id=\"T_b3ef5_level0_row0\" class=\"row_heading level0 row0\" >0</th>\n",
       "      <td id=\"T_b3ef5_row0_col0\" class=\"data row0 col0\" >GBP</td>\n",
       "      <td id=\"T_b3ef5_row0_col1\" class=\"data row0 col1\" >nan</td>\n",
       "      <td id=\"T_b3ef5_row0_col2\" class=\"data row0 col2\" >8982.760000</td>\n",
       "      <td id=\"T_b3ef5_row0_col3\" class=\"data row0 col3\" >Balance</td>\n",
       "    </tr>\n",
       "    <tr>\n",
       "      <th id=\"T_b3ef5_level0_row1\" class=\"row_heading level0 row1\" >1</th>\n",
       "      <td id=\"T_b3ef5_row1_col0\" class=\"data row1 col0\" >USD</td>\n",
       "      <td id=\"T_b3ef5_row1_col1\" class=\"data row1 col1\" >nan</td>\n",
       "      <td id=\"T_b3ef5_row1_col2\" class=\"data row1 col2\" >100.000000</td>\n",
       "      <td id=\"T_b3ef5_row1_col3\" class=\"data row1 col3\" >Balance</td>\n",
       "    </tr>\n",
       "    <tr>\n",
       "      <th id=\"T_b3ef5_level0_row2\" class=\"row_heading level0 row2\" >2</th>\n",
       "      <td id=\"T_b3ef5_row2_col0\" class=\"data row2 col0\" >Microsoft</td>\n",
       "      <td id=\"T_b3ef5_row2_col1\" class=\"data row2 col1\" >USA</td>\n",
       "      <td id=\"T_b3ef5_row2_col2\" class=\"data row2 col2\" >2000.000000</td>\n",
       "      <td id=\"T_b3ef5_row2_col3\" class=\"data row2 col3\" >Position</td>\n",
       "    </tr>\n",
       "    <tr>\n",
       "      <th id=\"T_b3ef5_level0_row3\" class=\"row_heading level0 row3\" >3</th>\n",
       "      <td id=\"T_b3ef5_row3_col0\" class=\"data row3 col0\" >Sainsbury</td>\n",
       "      <td id=\"T_b3ef5_row3_col1\" class=\"data row3 col1\" >UK</td>\n",
       "      <td id=\"T_b3ef5_row3_col2\" class=\"data row3 col2\" >80000.000000</td>\n",
       "      <td id=\"T_b3ef5_row3_col3\" class=\"data row3 col3\" >Position</td>\n",
       "    </tr>\n",
       "    <tr>\n",
       "      <th id=\"T_b3ef5_level0_row4\" class=\"row_heading level0 row4\" >4</th>\n",
       "      <td id=\"T_b3ef5_row4_col0\" class=\"data row4 col0\" >Rolls Royce</td>\n",
       "      <td id=\"T_b3ef5_row4_col1\" class=\"data row4 col1\" >UK</td>\n",
       "      <td id=\"T_b3ef5_row4_col2\" class=\"data row4 col2\" >60000.000000</td>\n",
       "      <td id=\"T_b3ef5_row4_col3\" class=\"data row4 col3\" >Position</td>\n",
       "    </tr>\n",
       "    <tr>\n",
       "      <th id=\"T_b3ef5_level0_row5\" class=\"row_heading level0 row5\" >5</th>\n",
       "      <td id=\"T_b3ef5_row5_col0\" class=\"data row5 col0\" >GBP</td>\n",
       "      <td id=\"T_b3ef5_row5_col1\" class=\"data row5 col1\" >nan</td>\n",
       "      <td id=\"T_b3ef5_row5_col2\" class=\"data row5 col2\" >2000.000000</td>\n",
       "      <td id=\"T_b3ef5_row5_col3\" class=\"data row5 col3\" >Accrual</td>\n",
       "    </tr>\n",
       "    <tr>\n",
       "      <th id=\"T_b3ef5_level0_row6\" class=\"row_heading level0 row6\" >6</th>\n",
       "      <td id=\"T_b3ef5_row6_col0\" class=\"data row6 col0\" >GBP</td>\n",
       "      <td id=\"T_b3ef5_row6_col1\" class=\"data row6 col1\" >nan</td>\n",
       "      <td id=\"T_b3ef5_row6_col2\" class=\"data row6 col2\" >200.000000</td>\n",
       "      <td id=\"T_b3ef5_row6_col3\" class=\"data row6 col3\" >Receivable</td>\n",
       "    </tr>\n",
       "    <tr>\n",
       "      <th id=\"T_b3ef5_level0_row7\" class=\"row_heading level0 row7\" >7</th>\n",
       "      <td id=\"T_b3ef5_row7_col0\" class=\"data row7 col0\" >GBP</td>\n",
       "      <td id=\"T_b3ef5_row7_col1\" class=\"data row7 col1\" >nan</td>\n",
       "      <td id=\"T_b3ef5_row7_col2\" class=\"data row7 col2\" >-600.000000</td>\n",
       "      <td id=\"T_b3ef5_row7_col3\" class=\"data row7 col3\" >Receivable</td>\n",
       "    </tr>\n",
       "  </tbody>\n",
       "</table>\n"
      ],
      "text/plain": [
       "<pandas.io.formats.style.Styler at 0x2d4ff9af490>"
      ]
     },
     "execution_count": 50,
     "metadata": {},
     "output_type": "execute_result"
    }
   ],
   "source": [
    "get_portfolio_holdings_centeraligned(2022, 2, 16)"
   ]
  },
  {
   "cell_type": "markdown",
   "metadata": {
    "slideshow": {
     "slide_type": "subslide"
    }
   },
   "source": [
    "This second TaxRuleSet did not affect our RR dividends as we can see by examining the holdings after the ex-date of the final RR dividend.\n",
    "\n",
    "There is only one holding of type `Receivable` - from the TaxRuleSet we created earlier (grossWithholdingTaxRuleSet) - not from the tax relief rule set (reliefTaxRuleSet)."
   ]
  },
  {
   "cell_type": "code",
   "execution_count": 51,
   "metadata": {
    "slideshow": {
     "slide_type": "-"
    }
   },
   "outputs": [
    {
     "data": {
      "text/html": [
       "<style type=\"text/css\">\n",
       "#T_547e5_row0_col0, #T_547e5_row0_col1, #T_547e5_row0_col2, #T_547e5_row0_col3, #T_547e5_row0_col4, #T_547e5_row0_col5, #T_547e5_row0_col6, #T_547e5_row0_col7 {\n",
       "  text-align: center;\n",
       "}\n",
       "</style>\n",
       "<table id=\"T_547e5\">\n",
       "  <thead>\n",
       "    <tr>\n",
       "      <th class=\"blank level0\" >&nbsp;</th>\n",
       "      <th id=\"T_547e5_level0_col0\" class=\"col_heading level0 col0\" >code</th>\n",
       "      <th id=\"T_547e5_level0_col1\" class=\"col_heading level0 col1\" >div_amount</th>\n",
       "      <th id=\"T_547e5_level0_col2\" class=\"col_heading level0 col2\" >ex_date</th>\n",
       "      <th id=\"T_547e5_level0_col3\" class=\"col_heading level0 col3\" >payment_date</th>\n",
       "      <th id=\"T_547e5_level0_col4\" class=\"col_heading level0 col4\" >Holding</th>\n",
       "      <th id=\"T_547e5_level0_col5\" class=\"col_heading level0 col5\" >Expected Gross Dividend (div_amount * Holding)</th>\n",
       "      <th id=\"T_547e5_level0_col6\" class=\"col_heading level0 col6\" >Expected Tax Rate</th>\n",
       "      <th id=\"T_547e5_level0_col7\" class=\"col_heading level0 col7\" >Expected Tax Amount (Gross * Tax Rate)</th>\n",
       "    </tr>\n",
       "  </thead>\n",
       "  <tbody>\n",
       "    <tr>\n",
       "      <th id=\"T_547e5_level0_row0\" class=\"row_heading level0 row0\" >4</th>\n",
       "      <td id=\"T_547e5_row0_col0\" class=\"data row0 col0\" >RR_5_20220807</td>\n",
       "      <td id=\"T_547e5_row0_col1\" class=\"data row0 col1\" >0.039900</td>\n",
       "      <td id=\"T_547e5_row0_col2\" class=\"data row0 col2\" >28-Apr-22</td>\n",
       "      <td id=\"T_547e5_row0_col3\" class=\"data row0 col3\" >07-Jul-22</td>\n",
       "      <td id=\"T_547e5_row0_col4\" class=\"data row0 col4\" >60000</td>\n",
       "      <td id=\"T_547e5_row0_col5\" class=\"data row0 col5\" >2394</td>\n",
       "      <td id=\"T_547e5_row0_col6\" class=\"data row0 col6\" >24%</td>\n",
       "      <td id=\"T_547e5_row0_col7\" class=\"data row0 col7\" >574.560000</td>\n",
       "    </tr>\n",
       "  </tbody>\n",
       "</table>\n"
      ],
      "text/plain": [
       "<pandas.io.formats.style.Styler at 0x2d4ff9af730>"
      ]
     },
     "execution_count": 51,
     "metadata": {},
     "output_type": "execute_result"
    }
   ],
   "source": [
    "rr_dividends.loc[4:4, div_cols_to_show].style.set_properties(**{\"text-align\": \"center\"})"
   ]
  },
  {
   "cell_type": "code",
   "execution_count": 52,
   "metadata": {
    "scrolled": true,
    "slideshow": {
     "slide_type": "-"
    }
   },
   "outputs": [
    {
     "data": {
      "text/html": [
       "<style type=\"text/css\">\n",
       "#T_877dd_row0_col0, #T_877dd_row0_col1, #T_877dd_row0_col2, #T_877dd_row0_col3, #T_877dd_row1_col0, #T_877dd_row1_col1, #T_877dd_row1_col2, #T_877dd_row1_col3, #T_877dd_row2_col0, #T_877dd_row2_col1, #T_877dd_row2_col2, #T_877dd_row2_col3, #T_877dd_row3_col0, #T_877dd_row3_col1, #T_877dd_row3_col2, #T_877dd_row3_col3, #T_877dd_row4_col0, #T_877dd_row4_col1, #T_877dd_row4_col2, #T_877dd_row4_col3, #T_877dd_row5_col0, #T_877dd_row5_col1, #T_877dd_row5_col2, #T_877dd_row5_col3, #T_877dd_row6_col0, #T_877dd_row6_col1, #T_877dd_row6_col2, #T_877dd_row6_col3, #T_877dd_row7_col0, #T_877dd_row7_col1, #T_877dd_row7_col2, #T_877dd_row7_col3 {\n",
       "  text-align: center;\n",
       "}\n",
       "</style>\n",
       "<table id=\"T_877dd\">\n",
       "  <thead>\n",
       "    <tr>\n",
       "      <th class=\"blank level0\" >&nbsp;</th>\n",
       "      <th id=\"T_877dd_level0_col0\" class=\"col_heading level0 col0\" >Instrument</th>\n",
       "      <th id=\"T_877dd_level0_col1\" class=\"col_heading level0 col1\" >CountryCode</th>\n",
       "      <th id=\"T_877dd_level0_col2\" class=\"col_heading level0 col2\" >Units</th>\n",
       "      <th id=\"T_877dd_level0_col3\" class=\"col_heading level0 col3\" >HoldingType</th>\n",
       "    </tr>\n",
       "  </thead>\n",
       "  <tbody>\n",
       "    <tr>\n",
       "      <th id=\"T_877dd_level0_row0\" class=\"row_heading level0 row0\" >0</th>\n",
       "      <td id=\"T_877dd_row0_col0\" class=\"data row0 col0\" >GBP</td>\n",
       "      <td id=\"T_877dd_row0_col1\" class=\"data row0 col1\" >nan</td>\n",
       "      <td id=\"T_877dd_row0_col2\" class=\"data row0 col2\" >10582.760000</td>\n",
       "      <td id=\"T_877dd_row0_col3\" class=\"data row0 col3\" >Balance</td>\n",
       "    </tr>\n",
       "    <tr>\n",
       "      <th id=\"T_877dd_level0_row1\" class=\"row_heading level0 row1\" >1</th>\n",
       "      <td id=\"T_877dd_row1_col0\" class=\"data row1 col0\" >USD</td>\n",
       "      <td id=\"T_877dd_row1_col1\" class=\"data row1 col1\" >nan</td>\n",
       "      <td id=\"T_877dd_row1_col2\" class=\"data row1 col2\" >100.000000</td>\n",
       "      <td id=\"T_877dd_row1_col3\" class=\"data row1 col3\" >Balance</td>\n",
       "    </tr>\n",
       "    <tr>\n",
       "      <th id=\"T_877dd_level0_row2\" class=\"row_heading level0 row2\" >2</th>\n",
       "      <td id=\"T_877dd_row2_col0\" class=\"data row2 col0\" >Microsoft</td>\n",
       "      <td id=\"T_877dd_row2_col1\" class=\"data row2 col1\" >USA</td>\n",
       "      <td id=\"T_877dd_row2_col2\" class=\"data row2 col2\" >2000.000000</td>\n",
       "      <td id=\"T_877dd_row2_col3\" class=\"data row2 col3\" >Position</td>\n",
       "    </tr>\n",
       "    <tr>\n",
       "      <th id=\"T_877dd_level0_row3\" class=\"row_heading level0 row3\" >3</th>\n",
       "      <td id=\"T_877dd_row3_col0\" class=\"data row3 col0\" >Sainsbury</td>\n",
       "      <td id=\"T_877dd_row3_col1\" class=\"data row3 col1\" >UK</td>\n",
       "      <td id=\"T_877dd_row3_col2\" class=\"data row3 col2\" >80000.000000</td>\n",
       "      <td id=\"T_877dd_row3_col3\" class=\"data row3 col3\" >Position</td>\n",
       "    </tr>\n",
       "    <tr>\n",
       "      <th id=\"T_877dd_level0_row4\" class=\"row_heading level0 row4\" >4</th>\n",
       "      <td id=\"T_877dd_row4_col0\" class=\"data row4 col0\" >Rolls Royce</td>\n",
       "      <td id=\"T_877dd_row4_col1\" class=\"data row4 col1\" >UK</td>\n",
       "      <td id=\"T_877dd_row4_col2\" class=\"data row4 col2\" >60000.000000</td>\n",
       "      <td id=\"T_877dd_row4_col3\" class=\"data row4 col3\" >Position</td>\n",
       "    </tr>\n",
       "    <tr>\n",
       "      <th id=\"T_877dd_level0_row5\" class=\"row_heading level0 row5\" >5</th>\n",
       "      <td id=\"T_877dd_row5_col0\" class=\"data row5 col0\" >GBP</td>\n",
       "      <td id=\"T_877dd_row5_col1\" class=\"data row5 col1\" >nan</td>\n",
       "      <td id=\"T_877dd_row5_col2\" class=\"data row5 col2\" >2394.000000</td>\n",
       "      <td id=\"T_877dd_row5_col3\" class=\"data row5 col3\" >Accrual</td>\n",
       "    </tr>\n",
       "    <tr>\n",
       "      <th id=\"T_877dd_level0_row6\" class=\"row_heading level0 row6\" >6</th>\n",
       "      <td id=\"T_877dd_row6_col0\" class=\"data row6 col0\" >GBP</td>\n",
       "      <td id=\"T_877dd_row6_col1\" class=\"data row6 col1\" >nan</td>\n",
       "      <td id=\"T_877dd_row6_col2\" class=\"data row6 col2\" >-574.560000</td>\n",
       "      <td id=\"T_877dd_row6_col3\" class=\"data row6 col3\" >Receivable</td>\n",
       "    </tr>\n",
       "    <tr>\n",
       "      <th id=\"T_877dd_level0_row7\" class=\"row_heading level0 row7\" >7</th>\n",
       "      <td id=\"T_877dd_row7_col0\" class=\"data row7 col0\" >USD</td>\n",
       "      <td id=\"T_877dd_row7_col1\" class=\"data row7 col1\" >nan</td>\n",
       "      <td id=\"T_877dd_row7_col2\" class=\"data row7 col2\" >1200.000000</td>\n",
       "      <td id=\"T_877dd_row7_col3\" class=\"data row7 col3\" >Accrual</td>\n",
       "    </tr>\n",
       "  </tbody>\n",
       "</table>\n"
      ],
      "text/plain": [
       "<pandas.io.formats.style.Styler at 0x2d4ff69f280>"
      ]
     },
     "execution_count": 52,
     "metadata": {},
     "output_type": "execute_result"
    }
   ],
   "source": [
    "get_portfolio_holdings_centeraligned(2022, 4, 29)"
   ]
  },
  {
   "cell_type": "markdown",
   "metadata": {
    "slideshow": {
     "slide_type": "skip"
    }
   },
   "source": [
    "## 9. Delete data this notebook has created\n",
    "\n",
    "So that this notebook can be run again we now delete some of the data it created."
   ]
  },
  {
   "cell_type": "markdown",
   "metadata": {
    "slideshow": {
     "slide_type": "skip"
    }
   },
   "source": [
    "`TaxRuleSet`"
   ]
  },
  {
   "cell_type": "code",
   "execution_count": 53,
   "metadata": {
    "slideshow": {
     "slide_type": "skip"
    }
   },
   "outputs": [
    {
     "name": "stdout",
     "output_type": "stream",
     "text": [
      "TaxRuleSet \"taxRuleSetSample/grossWithholdingTaxRuleSet\" deleted\n",
      "TaxRuleSet \"taxRuleSetSample/reliefTaxRuleSet\" deleted\n"
     ]
    }
   ],
   "source": [
    "def delete_old_tax_rule_set(rs):\n",
    "    try:\n",
    "        tax_rules_api.delete_tax_rule_set(scope=scope, code=rs)\n",
    "        print(f'TaxRuleSet \"{scope}/{rs}\" deleted')\n",
    "\n",
    "    except lu.ApiException as e:\n",
    "        detail = json.loads(e.body)\n",
    "        if detail[\"code\"] == 796:\n",
    "            print(f'TaxRuleSet \"{scope}/{rs}\" did not exist')\n",
    "        else:\n",
    "            raise e\n",
    "\n",
    "\n",
    "delete_old_tax_rule_set(tax_rule_set_withholding)\n",
    "delete_old_tax_rule_set(tax_rule_set_relief)"
   ]
  },
  {
   "cell_type": "markdown",
   "metadata": {
    "slideshow": {
     "slide_type": "skip"
    }
   },
   "source": [
    "`Portfolio`"
   ]
  },
  {
   "cell_type": "code",
   "execution_count": 54,
   "metadata": {
    "slideshow": {
     "slide_type": "skip"
    }
   },
   "outputs": [
    {
     "name": "stdout",
     "output_type": "stream",
     "text": [
      "Portfolio \"taxRuleSetSample/taxRuleSetSamplePortfolio\" deleted\n"
     ]
    }
   ],
   "source": [
    "try:\n",
    "    portfolios_api.delete_portfolio(scope=scope, code=portfolio_code)\n",
    "    print(f'Portfolio \"{scope}/{portfolio_code}\" deleted')\n",
    "\n",
    "except lu.ApiException as e:\n",
    "    detail = json.loads(e.body)\n",
    "    if detail[\"code\"] == 109:\n",
    "        print(f'Portfolio \"{scope}/{portfolio_code}\" did not exist')\n",
    "    else:\n",
    "        raise e"
   ]
  },
  {
   "cell_type": "markdown",
   "metadata": {
    "slideshow": {
     "slide_type": "skip"
    }
   },
   "source": [
    "`Corporate Action Source`"
   ]
  },
  {
   "cell_type": "code",
   "execution_count": 55,
   "metadata": {
    "slideshow": {
     "slide_type": "skip"
    }
   },
   "outputs": [
    {
     "name": "stdout",
     "output_type": "stream",
     "text": [
      "CorporateActionSource \"taxRuleSetSample/taxRuleSetSampleCAS\" deleted\n"
     ]
    }
   ],
   "source": [
    "try:\n",
    "    corporate_action_sources_api.delete_corporate_action_source(\n",
    "        scope=scope, code=ca_source_code\n",
    "    )\n",
    "    print(f'CorporateActionSource \"{scope}/{ca_source_code}\" deleted')\n",
    "\n",
    "except lu.ApiException as e:\n",
    "    detail = json.loads(e.body)\n",
    "    if detail[\"code\"] == 391:\n",
    "        print(f'CorporateActionSource \"{scope}/{ca_source_code}\" did not exist')\n",
    "    else:\n",
    "        raise e"
   ]
  },
  {
   "cell_type": "markdown",
   "metadata": {
    "slideshow": {
     "slide_type": "skip"
    }
   },
   "source": [
    "`Property Definition`"
   ]
  },
  {
   "cell_type": "code",
   "execution_count": 56,
   "metadata": {
    "slideshow": {
     "slide_type": "skip"
    }
   },
   "outputs": [
    {
     "name": "stdout",
     "output_type": "stream",
     "text": [
      "Instrument property \"taxRuleSetSample/CountryCode\" deleted\n",
      "Instrument property \"taxRuleSetSample/TaxCategory\" deleted\n",
      "Transaction property \"taxRuleSetSample/withholdingTax\" deleted\n",
      "Transaction property \"taxRuleSetSample/taxRelief\" deleted\n"
     ]
    }
   ],
   "source": [
    "def delete_property(domain, scope, code):\n",
    "    try:\n",
    "        property_definitions_api.delete_property_definition(\n",
    "            domain=domain, scope=scope, code=code\n",
    "        )\n",
    "        print(f'{domain} property \"{scope}/{code}\" deleted')\n",
    "\n",
    "    except lu.ApiException as e:\n",
    "        detail = json.loads(e.body)\n",
    "        if detail[\"code\"] == 121:\n",
    "            print(f'{domain} property \"{scope}/{code}\" did not exist')\n",
    "        else:\n",
    "            raise e\n",
    "\n",
    "\n",
    "delete_property(\"Instrument\", scope, \"CountryCode\")\n",
    "delete_property(\"Instrument\", scope, \"TaxCategory\")\n",
    "delete_property(\"Transaction\", scope, withholding_output_property)\n",
    "delete_property(\"Transaction\", scope, relief_output_property)"
   ]
  },
  {
   "cell_type": "markdown",
   "metadata": {
    "slideshow": {
     "slide_type": "slide"
    }
   },
   "source": [
    "# End"
   ]
  }
 ],
 "metadata": {
  "celltoolbar": "Slideshow",
  "kernelspec": {
   "display_name": "Python 3 (ipykernel)",
   "language": "python",
   "name": "python3"
  },
  "language_info": {
   "codemirror_mode": {
    "name": "ipython",
    "version": 3
   },
   "file_extension": ".py",
   "mimetype": "text/x-python",
   "name": "python",
   "nbconvert_exporter": "python",
   "pygments_lexer": "ipython3",
   "version": "3.10.8"
  },
  "toc": {
   "base_numbering": 1,
   "nav_menu": {
    "height": "585.99px",
    "width": "307.986px"
   },
   "number_sections": true,
   "sideBar": true,
   "skip_h1_title": false,
   "title_cell": "Table of Contents",
   "title_sidebar": "Contents",
   "toc_cell": false,
   "toc_position": {},
   "toc_section_display": true,
   "toc_window_display": false
  },
  "varInspector": {
   "cols": {
    "lenName": 16,
    "lenType": 16,
    "lenVar": 40
   },
   "kernels_config": {
    "python": {
     "delete_cmd_postfix": "",
     "delete_cmd_prefix": "del ",
     "library": "var_list.py",
     "varRefreshCmd": "print(var_dic_list())"
    },
    "r": {
     "delete_cmd_postfix": ") ",
     "delete_cmd_prefix": "rm(",
     "library": "var_list.r",
     "varRefreshCmd": "cat(var_dic_list()) "
    }
   },
   "types_to_exclude": [
    "module",
    "function",
    "builtin_function_or_method",
    "instance",
    "_Feature"
   ],
   "window_display": false
  },
  "vscode": {
   "interpreter": {
    "hash": "b85f25b42a0aa57e840f83865f6eb6e0ab82a33c02eb4ca8642dc3b6e659e4b7"
   }
  }
 },
 "nbformat": 4,
 "nbformat_minor": 2
}
