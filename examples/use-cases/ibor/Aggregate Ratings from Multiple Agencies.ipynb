{
 "cells": [
  {
   "cell_type": "markdown",
   "id": "dfcd079c",
   "metadata": {},
   "source": [
    "# Derive Ratings Values from Source Data\n",
    "This notebook provides a straight forward solution for gaining insight into the ratings across four different agencies. These are as follows:\n",
    "- Moodys\n",
    "- SP\n",
    "- Fitch\n",
    "- Internal Rating\n",
    "\n",
    "This notebook takes the alphabetical values used by these agencies and converts them into a numeric format, which then allows for greater insight as to the highest and lowest ratings for a given stock across the four agencies, along with the average rating."
   ]
  },
  {
   "cell_type": "markdown",
   "id": "275870a8",
   "metadata": {},
   "source": [
    "## Setup"
   ]
  },
  {
   "cell_type": "code",
   "execution_count": 1,
   "id": "6c13bb04",
   "metadata": {},
   "outputs": [
    {
     "name": "stdout",
     "output_type": "stream",
     "text": [
      "LUSID Environment Initialised\n",
      "LUSID API Version:  0.6.10790.0\n"
     ]
    }
   ],
   "source": [
    "# Import LUSID\n",
    "import lusid\n",
    "import lusid.models as models\n",
    "from lusidjam import RefreshingToken\n",
    "from lusidtools.pandas_utils.lusid_pandas import lusid_response_to_data_frame\n",
    "from lusidtools.cocoon import load_from_data_frame\n",
    "from lusidtools.cocoon.cocoon_printer import format_instruments_response\n",
    "\n",
    "# Import Libraries\n",
    "import pprint\n",
    "from datetime import datetime, timedelta, time\n",
    "import pytz\n",
    "import pandas as pd\n",
    "import json\n",
    "import lusid\n",
    "import os\n",
    "\n",
    "# Authenticate our user and create our API client\n",
    "secrets_path = os.getenv(\"FBN_SECRETS_PATH\")\n",
    "\n",
    "api_factory = lusid.utilities.ApiClientFactory(\n",
    "    token=RefreshingToken(),\n",
    "    api_secrets_filename = secrets_path,\n",
    "    app_name=\"LusidJupyterNotebook\")\n",
    "\n",
    "\n",
    "print ('LUSID Environment Initialised')\n",
    "print ('LUSID API Version: ', api_factory.build(lusid.api.ApplicationMetadataApi).get_lusid_versions().build_version)"
   ]
  },
  {
   "cell_type": "markdown",
   "id": "3125d311",
   "metadata": {},
   "source": [
    "## Loading Data into Lusid\n",
    "The intial data is loaded from a CSV file, this will then be upserted into Lusid. All of the stocks will be created as new instruments, with custom properties attached to allow for the various ratings."
   ]
  },
  {
   "cell_type": "code",
   "execution_count": 2,
   "id": "5466775b",
   "metadata": {},
   "outputs": [
    {
     "data": {
      "text/html": [
       "<div>\n",
       "<style scoped>\n",
       "    .dataframe tbody tr th:only-of-type {\n",
       "        vertical-align: middle;\n",
       "    }\n",
       "\n",
       "    .dataframe tbody tr th {\n",
       "        vertical-align: top;\n",
       "    }\n",
       "\n",
       "    .dataframe thead th {\n",
       "        text-align: right;\n",
       "    }\n",
       "</style>\n",
       "<table border=\"1\" class=\"dataframe\">\n",
       "  <thead>\n",
       "    <tr style=\"text-align: right;\">\n",
       "      <th></th>\n",
       "      <th>Ticker</th>\n",
       "      <th>Name</th>\n",
       "      <th>Sector</th>\n",
       "      <th>ISIN</th>\n",
       "      <th>SEDOL</th>\n",
       "      <th>Figi</th>\n",
       "      <th>Moodys</th>\n",
       "      <th>SP</th>\n",
       "      <th>Fitch</th>\n",
       "      <th>Internal</th>\n",
       "    </tr>\n",
       "  </thead>\n",
       "  <tbody>\n",
       "    <tr>\n",
       "      <th>0</th>\n",
       "      <td>III LN</td>\n",
       "      <td>3i</td>\n",
       "      <td>Financial Services</td>\n",
       "      <td>GB00B1YW4409</td>\n",
       "      <td>B1YW440</td>\n",
       "      <td>BBG000BZZ876</td>\n",
       "      <td>BBB+</td>\n",
       "      <td>A+</td>\n",
       "      <td>AA-</td>\n",
       "      <td>BBB</td>\n",
       "    </tr>\n",
       "    <tr>\n",
       "      <th>1</th>\n",
       "      <td>ADM LN</td>\n",
       "      <td>Admiral Group</td>\n",
       "      <td>Nonlife Insurance</td>\n",
       "      <td>GB00B02J6398</td>\n",
       "      <td>B02J639</td>\n",
       "      <td>BBG000PG2GZ0</td>\n",
       "      <td>NaN</td>\n",
       "      <td>A+</td>\n",
       "      <td>A</td>\n",
       "      <td>AA</td>\n",
       "    </tr>\n",
       "    <tr>\n",
       "      <th>2</th>\n",
       "      <td>AAL LN</td>\n",
       "      <td>Anglo American plc</td>\n",
       "      <td>Mining</td>\n",
       "      <td>GB00B1XZS820</td>\n",
       "      <td>B1XZS82</td>\n",
       "      <td>BBG000BBLDF4</td>\n",
       "      <td>BBB+</td>\n",
       "      <td>AA</td>\n",
       "      <td>AA</td>\n",
       "      <td>NaN</td>\n",
       "    </tr>\n",
       "    <tr>\n",
       "      <th>3</th>\n",
       "      <td>ANTO LN</td>\n",
       "      <td>Antofagasta</td>\n",
       "      <td>Mining</td>\n",
       "      <td>GB0000456144</td>\n",
       "      <td>45614</td>\n",
       "      <td>BBG000BD4SC9</td>\n",
       "      <td>AA</td>\n",
       "      <td>A-</td>\n",
       "      <td>A+</td>\n",
       "      <td>A+</td>\n",
       "    </tr>\n",
       "    <tr>\n",
       "      <th>4</th>\n",
       "      <td>AHT LN</td>\n",
       "      <td>Ashtead Group</td>\n",
       "      <td>Support Services</td>\n",
       "      <td>GB0000536739</td>\n",
       "      <td>53673</td>\n",
       "      <td>BBG000BD42C6</td>\n",
       "      <td>A</td>\n",
       "      <td>AA</td>\n",
       "      <td>BBB-</td>\n",
       "      <td>BBB+</td>\n",
       "    </tr>\n",
       "  </tbody>\n",
       "</table>\n",
       "</div>"
      ],
      "text/plain": [
       "    Ticker                Name              Sector          ISIN    SEDOL  \\\n",
       "0   III LN                  3i  Financial Services  GB00B1YW4409  B1YW440   \n",
       "1   ADM LN       Admiral Group   Nonlife Insurance  GB00B02J6398  B02J639   \n",
       "2   AAL LN  Anglo American plc              Mining  GB00B1XZS820  B1XZS82   \n",
       "3  ANTO LN         Antofagasta              Mining  GB0000456144    45614   \n",
       "4   AHT LN       Ashtead Group    Support Services  GB0000536739    53673   \n",
       "\n",
       "           Figi Moodys  SP Fitch Internal  \n",
       "0  BBG000BZZ876   BBB+  A+   AA-      BBB  \n",
       "1  BBG000PG2GZ0    NaN  A+     A       AA  \n",
       "2  BBG000BBLDF4   BBB+  AA    AA      NaN  \n",
       "3  BBG000BD4SC9     AA  A-    A+       A+  \n",
       "4  BBG000BD42C6      A  AA  BBB-     BBB+  "
      ]
     },
     "execution_count": 2,
     "metadata": {},
     "output_type": "execute_result"
    }
   ],
   "source": [
    "vals = pd.read_csv(\"uk_stocks_with_ratings.csv\")\n",
    "vals.head()"
   ]
  },
  {
   "cell_type": "code",
   "execution_count": 3,
   "id": "c6466fca",
   "metadata": {},
   "outputs": [],
   "source": [
    "# Create mapping for upsert\n",
    "instrument_mapping = {\n",
    "    \"identifiers\": {\n",
    "        \"Isin\": \"ISIN\",\n",
    "        \"Sedol\": \"SEDOL\",\n",
    "        \"Figi\": \"Figi\"\n",
    "    },\n",
    "    \"mapping_required\": {\n",
    "        \"name\": \"Name\",\n",
    "        \"definition.instrument_type\": \"$Equity\",\n",
    "        \"definition.dom_ccy\": \"$GBP\"\n",
    "    },\n",
    "    \"property_columns\": [\n",
    "        {\n",
    "            \"source\": \"Moodys\",\n",
    "            \"target\": \"Moodys Rating\",\n",
    "            \"scope\": \"moodys\",\n",
    "        },\n",
    "        {\n",
    "            \"source\": \"SP\",\n",
    "            \"target\": \"SP Rating\",\n",
    "            \"scope\": \"sp\"\n",
    "        },\n",
    "        {\n",
    "            \"source\": \"Fitch\",\n",
    "            \"target\": \"Fitch Rating\",\n",
    "            \"scope\": \"fitch\"\n",
    "        },\n",
    "        {\n",
    "            \"source\": \"Internal\",\n",
    "            \"target\": \"Internal Rating\",\n",
    "            \"scope\": \"internal_r\"\n",
    "        }\n",
    "    ]\n",
    "}"
   ]
  },
  {
   "cell_type": "code",
   "execution_count": 4,
   "id": "3142618d",
   "metadata": {
    "scrolled": true
   },
   "outputs": [
    {
     "data": {
      "text/plain": [
       "['LUID_00003DTU',\n",
       " 'LUID_00003DU1',\n",
       " 'LUID_00003DTK',\n",
       " 'LUID_00003GSO',\n",
       " 'LUID_00003GSQ',\n",
       " 'LUID_00003DVP',\n",
       " 'LUID_00003GSE',\n",
       " 'LUID_00003GSA',\n",
       " 'LUID_00003DVX',\n",
       " 'LUID_00003D8K',\n",
       " 'LUID_00003GSH',\n",
       " 'LUID_00003D86',\n",
       " 'LUID_00003DVH',\n",
       " 'LUID_00003D8F',\n",
       " 'LUID_00003GST',\n",
       " 'LUID_00003DVS',\n",
       " 'LUID_00003DU6',\n",
       " 'LUID_00003GS6',\n",
       " 'LUID_00003DVJ',\n",
       " 'LUID_00003GSM',\n",
       " 'LUID_00003DUE',\n",
       " 'LUID_00003DUV',\n",
       " 'LUID_00003GSX',\n",
       " 'LUID_00003DU9',\n",
       " 'LUID_00003DUN',\n",
       " 'LUID_00003DUX',\n",
       " 'LUID_00003DUW',\n",
       " 'LUID_00003DTM',\n",
       " 'LUID_00003DTG',\n",
       " 'LUID_00003DUR',\n",
       " 'LUID_00003GSI',\n",
       " 'LUID_00003DUO',\n",
       " 'LUID_00003DTP',\n",
       " 'LUID_00003D8E',\n",
       " 'LUID_00003DUU',\n",
       " 'LUID_00003GSJ',\n",
       " 'LUID_00003DTX',\n",
       " 'LUID_00003DVR',\n",
       " 'LUID_00003DTQ',\n",
       " 'LUID_00003GSL',\n",
       " 'LUID_00003DTV',\n",
       " 'LUID_00003GS7',\n",
       " 'LUID_00003GSB',\n",
       " 'LUID_00003DTF',\n",
       " 'LUID_00003DUI',\n",
       " 'LUID_00003GSD',\n",
       " 'LUID_00003DU5',\n",
       " 'LUID_00003GSP',\n",
       " 'LUID_00003DUZ',\n",
       " 'LUID_00003D8I',\n",
       " 'LUID_00003DV1',\n",
       " 'LUID_00003DUD',\n",
       " 'LUID_00003GSC',\n",
       " 'LUID_00003DTJ',\n",
       " 'LUID_00003DVC',\n",
       " 'LUID_00003DUA',\n",
       " 'LUID_00003DTS',\n",
       " 'LUID_00003DU0',\n",
       " 'LUID_00003DVD',\n",
       " 'LUID_00003GSV',\n",
       " 'LUID_00003DUG',\n",
       " 'LUID_00003GSS',\n",
       " 'LUID_00003GSF',\n",
       " 'LUID_00003GS9',\n",
       " 'LUID_00003DV7',\n",
       " 'LUID_00003DVZ',\n",
       " 'LUID_00003GSK',\n",
       " 'LUID_00003GSY',\n",
       " 'LUID_00003DVW',\n",
       " 'LUID_00003GSW',\n",
       " 'LUID_00003DUB',\n",
       " 'LUID_00003GSR',\n",
       " 'LUID_00003D8P',\n",
       " 'LUID_00003DUY',\n",
       " 'LUID_00003DVT',\n",
       " 'LUID_00003GSN',\n",
       " 'LUID_00003DTZ',\n",
       " 'LUID_00003DUL',\n",
       " 'LUID_00003DV9',\n",
       " 'LUID_00003GSU',\n",
       " 'LUID_00003DUF',\n",
       " 'LUID_00003DV4',\n",
       " 'LUID_00003DU4',\n",
       " 'LUID_00003DU7',\n",
       " 'LUID_00003DVL',\n",
       " 'LUID_00003DUJ',\n",
       " 'LUID_00003DV5',\n",
       " 'LUID_00003DVI',\n",
       " 'LUID_00003DTY',\n",
       " 'LUID_00003GS8',\n",
       " 'LUID_00003DUK',\n",
       " 'LUID_00003DTT',\n",
       " 'LUID_00003DTI',\n",
       " 'LUID_00003DVA',\n",
       " 'LUID_00003DTL',\n",
       " 'LUID_00003GS5',\n",
       " 'LUID_00003DTO',\n",
       " 'LUID_00003DUT',\n",
       " 'LUID_00003GSG',\n",
       " 'LUID_00003D8D']"
      ]
     },
     "execution_count": 4,
     "metadata": {},
     "output_type": "execute_result"
    }
   ],
   "source": [
    "# Upsert to lusid\n",
    "response = load_from_data_frame(\n",
    "    api_factory=api_factory,\n",
    "    scope=\"default\",\n",
    "    data_frame=vals,\n",
    "    mapping_required=instrument_mapping[\"mapping_required\"],\n",
    "    mapping_optional={},\n",
    "    file_type=\"instrument\",\n",
    "    identifier_mapping=instrument_mapping[\"identifiers\"],\n",
    "    property_columns=instrument_mapping[\"property_columns\"],\n",
    "    properties_scope=\"ratings\",\n",
    ")\n",
    "\n",
    "instrument_response_objs =  [ value.lusid_instrument_id for key, value in response['instruments']['success'][0].values.items()]\n",
    "instrument_response_objs"
   ]
  },
  {
   "cell_type": "markdown",
   "id": "491c2bd4",
   "metadata": {},
   "source": [
    "## Create Derived Properties for Average Rating"
   ]
  },
  {
   "cell_type": "code",
   "execution_count": 5,
   "id": "72af546b",
   "metadata": {},
   "outputs": [],
   "source": [
    "ratings_mapping = \"\"\"'AA'=90,\n",
    "    'AA-'=85,\n",
    "    'A+'=80,\n",
    "    'A'=75,\n",
    "    'A-'=70,\n",
    "    'BBB+'=65,\n",
    "    'BBB'=60,\n",
    "    'BBB-'=55\n",
    "\"\"\""
   ]
  },
  {
   "cell_type": "code",
   "execution_count": 6,
   "id": "97b9737a",
   "metadata": {},
   "outputs": [
    {
     "name": "stdout",
     "output_type": "stream",
     "text": [
      "Error creating Property Definition 'Instrument/ratings-scope/AverageRating' because it already exists.\n"
     ]
    }
   ],
   "source": [
    "# Create derived properties for ratings derivations: min, max, average\n",
    "# TODO can I round and then convert back to letters?\n",
    "try:\n",
    "    properties_response = api_factory.build(\n",
    "        lusid.api.PropertyDefinitionsApi\n",
    "    ).create_derived_property_definition(\n",
    "        create_derived_property_definition_request=lusid.models.CreateDerivedPropertyDefinitionRequest(\n",
    "            domain=\"Instrument\",\n",
    "            scope=\"ratings-scope\",\n",
    "            code=\"AverageRating\",\n",
    "            display_name=\"Average Rating\",\n",
    "            data_type_id=lusid.ResourceId(scope=\"system\", code=\"number\"),\n",
    "            derivation_formula=f\"average(map(Properties[Instrument/fitch/FitchRating]: {ratings_mapping}), map(Properties[Instrument/moodys/MoodysRating]: {ratings_mapping}), map(Properties[Instrument/sp/SPRating]: {ratings_mapping}), map(Properties[Instrument/internal_r/InternalRating]: {ratings_mapping}))\",\n",
    "        )\n",
    "    )\n",
    "    \n",
    "    properties_response\n",
    "except lusid.exceptions.ApiException as e:\n",
    "    print(json.loads(e.body)[\"title\"])"
   ]
  },
  {
   "cell_type": "code",
   "execution_count": 24,
   "id": "23878686",
   "metadata": {},
   "outputs": [
    {
     "ename": "TypeError",
     "evalue": "Cannot map response object to pandas DataFrame or Series. The LUSID response object must have\n                        either the values attribute or the to_dict() method, or be a list of objects with \n                        the to_dict() method",
     "output_type": "error",
     "traceback": [
      "\u001b[0;31m---------------------------------------------------------------------------\u001b[0m",
      "\u001b[0;31mTypeError\u001b[0m                                 Traceback (most recent call last)",
      "\u001b[0;32m/tmp/ipykernel_80/4220991007.py\u001b[0m in \u001b[0;36m<module>\u001b[0;34m\u001b[0m\n\u001b[1;32m     14\u001b[0m     )\n\u001b[1;32m     15\u001b[0m \u001b[0;34m\u001b[0m\u001b[0m\n\u001b[0;32m---> 16\u001b[0;31m \u001b[0minst_props_df\u001b[0m \u001b[0;34m=\u001b[0m \u001b[0mlusid_response_to_data_frame\u001b[0m\u001b[0;34m(\u001b[0m\u001b[0minstruments_properties_response\u001b[0m\u001b[0;34m.\u001b[0m\u001b[0mvalues\u001b[0m\u001b[0;34m)\u001b[0m\u001b[0;34m\u001b[0m\u001b[0;34m\u001b[0m\u001b[0m\n\u001b[0m\u001b[1;32m     17\u001b[0m \u001b[0;34m\u001b[0m\u001b[0m\n\u001b[1;32m     18\u001b[0m \u001b[0minstruments_properties_response\u001b[0m\u001b[0;34m\u001b[0m\u001b[0;34m\u001b[0m\u001b[0m\n",
      "\u001b[0;32m/opt/conda/lib/python3.9/site-packages/lusidtools/pandas_utils/lusid_pandas.py\u001b[0m in \u001b[0;36mlusid_response_to_data_frame\u001b[0;34m(lusid_response, rename_properties, column_name_mapping)\u001b[0m\n\u001b[1;32m     75\u001b[0m     \u001b[0;32melse\u001b[0m\u001b[0;34m:\u001b[0m\u001b[0;34m\u001b[0m\u001b[0;34m\u001b[0m\u001b[0m\n\u001b[1;32m     76\u001b[0m \u001b[0;34m\u001b[0m\u001b[0m\n\u001b[0;32m---> 77\u001b[0;31m         raise TypeError(\n\u001b[0m\u001b[1;32m     78\u001b[0m             \"\"\"Cannot map response object to pandas DataFrame or Series. The LUSID response object must have\n\u001b[1;32m     79\u001b[0m                         \u001b[0meither\u001b[0m \u001b[0mthe\u001b[0m \u001b[0mvalues\u001b[0m \u001b[0mattribute\u001b[0m \u001b[0;32mor\u001b[0m \u001b[0mthe\u001b[0m \u001b[0mto_dict\u001b[0m\u001b[0;34m(\u001b[0m\u001b[0;34m)\u001b[0m \u001b[0mmethod\u001b[0m\u001b[0;34m,\u001b[0m \u001b[0;32mor\u001b[0m \u001b[0mbe\u001b[0m \u001b[0ma\u001b[0m \u001b[0mlist\u001b[0m \u001b[0mof\u001b[0m \u001b[0mobjects\u001b[0m \u001b[0;32mwith\u001b[0m\u001b[0;34m\u001b[0m\u001b[0;34m\u001b[0m\u001b[0m\n",
      "\u001b[0;31mTypeError\u001b[0m: Cannot map response object to pandas DataFrame or Series. The LUSID response object must have\n                        either the values attribute or the to_dict() method, or be a list of objects with \n                        the to_dict() method"
     ]
    }
   ],
   "source": [
    "instruments_properties_response = api_factory.build(\n",
    "        lusid.api.InstrumentsApi\n",
    "    ).get_instruments(\n",
    "        scope=\"default\",\n",
    "        identifier_type=\"LusidInstrumentId\",\n",
    "        request_body=instrument_response_objs,\n",
    "        property_keys=[\n",
    "            \"Instrument/fitch/FitchRating\",\n",
    "            \"Instrument/moodys/MoodysRating\",\n",
    "            \"Instrument/sp/SPRating\",\n",
    "            \"Instrument/internal_r/InternalRating\",\n",
    "            \"Instrument/ratings-scope/AverageRating\"\n",
    "        ]\n",
    "    )\n",
    "\n",
    "inst_props_df = lusid_response_to_data_frame(instruments_properties_response.values)\n",
    "\n",
    "instruments_properties_response\n"
   ]
  }
 ],
 "metadata": {
  "kernelspec": {
   "display_name": "Python 3",
   "language": "python",
   "name": "python3"
  },
  "language_info": {
   "codemirror_mode": {
    "name": "ipython",
    "version": 3
   },
   "file_extension": ".py",
   "mimetype": "text/x-python",
   "name": "python",
   "nbconvert_exporter": "python",
   "pygments_lexer": "ipython3",
   "version": "3.10.7"
  },
  "toc": {
   "base_numbering": 1,
   "nav_menu": {},
   "number_sections": false,
   "sideBar": true,
   "skip_h1_title": false,
   "title_cell": "Table of Contents",
   "title_sidebar": "Contents",
   "toc_cell": false,
   "toc_position": {},
   "toc_section_display": true,
   "toc_window_display": false
  },
  "varInspector": {
   "cols": {
    "lenName": 16,
    "lenType": 16,
    "lenVar": 40
   },
   "kernels_config": {
    "python": {
     "delete_cmd_postfix": "",
     "delete_cmd_prefix": "del ",
     "library": "var_list.py",
     "varRefreshCmd": "print(var_dic_list())"
    },
    "r": {
     "delete_cmd_postfix": ") ",
     "delete_cmd_prefix": "rm(",
     "library": "var_list.r",
     "varRefreshCmd": "cat(var_dic_list()) "
    }
   },
   "types_to_exclude": [
    "module",
    "function",
    "builtin_function_or_method",
    "instance",
    "_Feature"
   ],
   "window_display": false
  },
  "vscode": {
   "interpreter": {
    "hash": "fbe58ca63fe33f9eeae9e71d10368d2b4a57f2b1b395836210cc60d362c66949"
   }
  }
 },
 "nbformat": 4,
 "nbformat_minor": 5
}
