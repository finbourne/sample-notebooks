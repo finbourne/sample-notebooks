{
 "cells": [
  {
   "cell_type": "code",
   "execution_count": 2,
   "metadata": {
    "pycharm": {
     "name": "#%%\n"
    }
   },
   "outputs": [
    {
     "data": {
      "text/plain": [
       "'Maintaining an instrument master\\n\\nDemonstrates how to import, update, retrieve, and delete instruments.\\n\\nAttributes\\n----------\\ninstruments\\nproperties\\nsearch\\n'"
      ]
     },
     "execution_count": 2,
     "metadata": {},
     "output_type": "execute_result"
    }
   ],
   "source": [
    "\"\"\"Maintaining an instrument master\n",
    "\n",
    "Demonstrates how to import, update, retrieve, and delete instruments.\n",
    "\n",
    "Attributes\n",
    "----------\n",
    "instruments\n",
    "properties\n",
    "search\n",
    "\"\"\""
   ]
  },
  {
   "cell_type": "markdown",
   "metadata": {},
   "source": [
    "## Instruments"
   ]
  },
  {
   "cell_type": "markdown",
   "metadata": {},
   "source": [
    "LUSID treats instruments as a first class object. They are at the core of much of LUSID's functionality and are required to post transactions and holdings. Read more about how instruments are treated inside LUSID here [LUSID Knowledge Base: Instruments](https://support.lusid.com/what-is-an-instrument).\n",
    "\n",
    "In this notebook we will cover how to work with instruments inside LUSID. We will:\n",
    "\n",
    "1) Locally import our instrument universe from a CSV file\n",
    "\n",
    "2) Determine what identifiers we can use for our instruments\n",
    "\n",
    "3) Upsert our instruments into LUSID\n",
    "\n",
    "4) Test that we can retrieve an instrument by its identifier\n",
    "\n",
    "5) Add some reference data to our instruments e.g. security type\n",
    "\n",
    "6) Search for all equity instruments using the security type reference data we added\n",
    "\n",
    "7) Update the identifier for one of our instruments\n",
    "\n",
    "8) Delete a handful of instruments \n",
    "\n",
    "*First things first, run the cell below to import the libraries and create the LUSID client*"
   ]
  },
  {
   "cell_type": "code",
   "execution_count": 2,
   "metadata": {
    "pycharm": {
     "is_executing": false
    },
    "tags": []
   },
   "outputs": [
    {
     "name": "stdout",
     "output_type": "stream",
     "text": [
      "LUSID Environment Initialised\n",
      "API Version:  0.6.5682.0\n"
     ]
    }
   ],
   "source": [
    "# Import LUSID\n",
    "import lusid\n",
    "import lusid.models as models\n",
    "import lusid_sample_data as import_data\n",
    "from lusidjam import RefreshingToken\n",
    "\n",
    "# Import Libraries\n",
    "import pprint\n",
    "from datetime import datetime, timedelta, time\n",
    "import pytz\n",
    "import printer as prettyprint\n",
    "import pandas as pd\n",
    "import uuid\n",
    "import os\n",
    "\n",
    "# Authenticate our user and create our API client\n",
    "secrets_path = os.getenv(\"FBN_SECRETS_PATH\")\n",
    "\n",
    "api_factory = lusid.utilities.ApiClientFactory(\n",
    "    token=RefreshingToken(),\n",
    "    api_secrets_filename = secrets_path,\n",
    "    app_name=\"LusidJupyterNotebook\")\n",
    "\n",
    "print ('LUSID Environment Initialised')\n",
    "print ('API Version: ', api_factory.build(lusid.api.ApplicationMetadataApi).get_lusid_versions().build_version)"
   ]
  },
  {
   "cell_type": "markdown",
   "metadata": {},
   "source": [
    "### 1) Import our instrument universe"
   ]
  },
  {
   "cell_type": "markdown",
   "metadata": {},
   "source": [
    "The first thing that we need to do is get the information about our instruments. In this case we are going to import our instrument universe from a CSV file which has been exported from another one of our systems. \n",
    "\n",
    "*Run the cell below to import our instruments and show the first 15 securities*"
   ]
  },
  {
   "cell_type": "code",
   "execution_count": 3,
   "metadata": {
    "pycharm": {
     "is_executing": false
    }
   },
   "outputs": [
    {
     "data": {
      "text/html": [
       "<div>\n",
       "<style scoped>\n",
       "    .dataframe tbody tr th:only-of-type {\n",
       "        vertical-align: middle;\n",
       "    }\n",
       "\n",
       "    .dataframe tbody tr th {\n",
       "        vertical-align: top;\n",
       "    }\n",
       "\n",
       "    .dataframe thead th {\n",
       "        text-align: right;\n",
       "    }\n",
       "</style>\n",
       "<table border=\"1\" class=\"dataframe\">\n",
       "  <thead>\n",
       "    <tr style=\"text-align: right;\">\n",
       "      <th></th>\n",
       "      <th>instrument_name</th>\n",
       "      <th>client_internal</th>\n",
       "      <th>currency</th>\n",
       "      <th>isin</th>\n",
       "      <th>figi</th>\n",
       "      <th>exchange_code</th>\n",
       "      <th>country_issue</th>\n",
       "      <th>ticker</th>\n",
       "      <th>market_sector</th>\n",
       "      <th>security_type</th>\n",
       "      <th>coupon</th>\n",
       "    </tr>\n",
       "  </thead>\n",
       "  <tbody>\n",
       "    <tr>\n",
       "      <th>0</th>\n",
       "      <td>Amazon_Nasdaq_AMZN</td>\n",
       "      <td>imd_34634534</td>\n",
       "      <td>USD</td>\n",
       "      <td>US0231351067</td>\n",
       "      <td>BBG000BVPXP1</td>\n",
       "      <td>UN</td>\n",
       "      <td>united_states_america</td>\n",
       "      <td>AMZN</td>\n",
       "      <td>equity</td>\n",
       "      <td>common_stock</td>\n",
       "      <td>nan</td>\n",
       "    </tr>\n",
       "    <tr>\n",
       "      <th>1</th>\n",
       "      <td>Apple_Nasdaq_AAPL</td>\n",
       "      <td>imd_35345345</td>\n",
       "      <td>USD</td>\n",
       "      <td>US0378331005</td>\n",
       "      <td>BBG000B9XVV8</td>\n",
       "      <td>UN</td>\n",
       "      <td>united_states_america</td>\n",
       "      <td>AAPL</td>\n",
       "      <td>equity</td>\n",
       "      <td>common_stock</td>\n",
       "      <td>nan</td>\n",
       "    </tr>\n",
       "    <tr>\n",
       "      <th>2</th>\n",
       "      <td>BP_LondonStockEx_BP</td>\n",
       "      <td>imd_43535553</td>\n",
       "      <td>GBP</td>\n",
       "      <td>GB0007980591</td>\n",
       "      <td>BBG000C05BD1</td>\n",
       "      <td>LN</td>\n",
       "      <td>united_kingdom</td>\n",
       "      <td>BP/</td>\n",
       "      <td>equity</td>\n",
       "      <td>common_stock</td>\n",
       "      <td>nan</td>\n",
       "    </tr>\n",
       "    <tr>\n",
       "      <th>3</th>\n",
       "      <td>BurfordCapital_LondonStockEx_BUR</td>\n",
       "      <td>imd_43534356</td>\n",
       "      <td>GBP</td>\n",
       "      <td>GG00B4L84979</td>\n",
       "      <td>BBG000PN88Q7</td>\n",
       "      <td>LN</td>\n",
       "      <td>united_kingdom</td>\n",
       "      <td>BUR</td>\n",
       "      <td>equity</td>\n",
       "      <td>common_stock</td>\n",
       "      <td>nan</td>\n",
       "    </tr>\n",
       "    <tr>\n",
       "      <th>4</th>\n",
       "      <td>EKFDiagnostics_LondonStockEx_EKF</td>\n",
       "      <td>imd_34535355</td>\n",
       "      <td>GBP</td>\n",
       "      <td>GB0031509804</td>\n",
       "      <td>BBG000BVNBN3</td>\n",
       "      <td>LN</td>\n",
       "      <td>united_kingdom</td>\n",
       "      <td>EKF</td>\n",
       "      <td>equity</td>\n",
       "      <td>common_stock</td>\n",
       "      <td>nan</td>\n",
       "    </tr>\n",
       "    <tr>\n",
       "      <th>5</th>\n",
       "      <td>Glencore_LondonStockEx_GLEN</td>\n",
       "      <td>imd_34534555</td>\n",
       "      <td>GBP</td>\n",
       "      <td>JE00B4T3BW64</td>\n",
       "      <td>BBG001MM1KV4</td>\n",
       "      <td>LN</td>\n",
       "      <td>united_kingdom</td>\n",
       "      <td>GLEN</td>\n",
       "      <td>equity</td>\n",
       "      <td>common_stock</td>\n",
       "      <td>nan</td>\n",
       "    </tr>\n",
       "    <tr>\n",
       "      <th>6</th>\n",
       "      <td>JustEat_LondonStockEx_JE</td>\n",
       "      <td>imd_35436366</td>\n",
       "      <td>GBP</td>\n",
       "      <td>GB00BKX5CN86</td>\n",
       "      <td>BBG0065YWM39</td>\n",
       "      <td>LN</td>\n",
       "      <td>united_kingdom</td>\n",
       "      <td>JE/</td>\n",
       "      <td>equity</td>\n",
       "      <td>common_stock</td>\n",
       "      <td>nan</td>\n",
       "    </tr>\n",
       "    <tr>\n",
       "      <th>7</th>\n",
       "      <td>Kingfisher_LondonStockEx_KGF</td>\n",
       "      <td>imd_34535552</td>\n",
       "      <td>GBP</td>\n",
       "      <td>GB0033195214</td>\n",
       "      <td>BBG000BKH1W6</td>\n",
       "      <td>LN</td>\n",
       "      <td>united_kingdom</td>\n",
       "      <td>KGF</td>\n",
       "      <td>equity</td>\n",
       "      <td>common_stock</td>\n",
       "      <td>nan</td>\n",
       "    </tr>\n",
       "    <tr>\n",
       "      <th>8</th>\n",
       "      <td>MicroFocus_LondonStockEx_MCRO</td>\n",
       "      <td>imd_34567338</td>\n",
       "      <td>GBP</td>\n",
       "      <td>GB00BD8YWM01</td>\n",
       "      <td>BBG000G4KKD2</td>\n",
       "      <td>LN</td>\n",
       "      <td>united_kingdom</td>\n",
       "      <td>MCRO</td>\n",
       "      <td>equity</td>\n",
       "      <td>common_stock</td>\n",
       "      <td>nan</td>\n",
       "    </tr>\n",
       "    <tr>\n",
       "      <th>9</th>\n",
       "      <td>RELXGroup_LondonStockEx_REL</td>\n",
       "      <td>imd_43532542</td>\n",
       "      <td>GBP</td>\n",
       "      <td>GB00B2B0DG97</td>\n",
       "      <td>BBG000D03XD4</td>\n",
       "      <td>LN</td>\n",
       "      <td>united_kingdom</td>\n",
       "      <td>REL</td>\n",
       "      <td>equity</td>\n",
       "      <td>common_stock</td>\n",
       "      <td>nan</td>\n",
       "    </tr>\n",
       "    <tr>\n",
       "      <th>10</th>\n",
       "      <td>Sage_LondonStockEx_SGE</td>\n",
       "      <td>imd_23536673</td>\n",
       "      <td>GBP</td>\n",
       "      <td>GB00B8C3BL03</td>\n",
       "      <td>BBG000BN0PP3</td>\n",
       "      <td>LN</td>\n",
       "      <td>united_kingdom</td>\n",
       "      <td>SGE</td>\n",
       "      <td>equity</td>\n",
       "      <td>common_stock</td>\n",
       "      <td>nan</td>\n",
       "    </tr>\n",
       "    <tr>\n",
       "      <th>11</th>\n",
       "      <td>TESCO_LondonStockEx_TSCO</td>\n",
       "      <td>imd_34634673</td>\n",
       "      <td>GBP</td>\n",
       "      <td>GB0008847096</td>\n",
       "      <td>BBG000BF46Y8</td>\n",
       "      <td>LN</td>\n",
       "      <td>united_kingdom</td>\n",
       "      <td>TSCO</td>\n",
       "      <td>equity</td>\n",
       "      <td>common_stock</td>\n",
       "      <td>nan</td>\n",
       "    </tr>\n",
       "    <tr>\n",
       "      <th>12</th>\n",
       "      <td>UKGiltTreasury_2.0_2025</td>\n",
       "      <td>imd_34534536</td>\n",
       "      <td>GBP</td>\n",
       "      <td>GB00BTHH2R79</td>\n",
       "      <td>BBG0088JSC32</td>\n",
       "      <td>LN</td>\n",
       "      <td>united_kingdom</td>\n",
       "      <td>UKT 2 09/07/25</td>\n",
       "      <td>govt</td>\n",
       "      <td>uk_gilt_stock</td>\n",
       "      <td>2.00</td>\n",
       "    </tr>\n",
       "    <tr>\n",
       "      <th>13</th>\n",
       "      <td>UKGiltTreasury_3.5_2045</td>\n",
       "      <td>imd_54234532</td>\n",
       "      <td>GBP</td>\n",
       "      <td>GB00BN65R313</td>\n",
       "      <td>BBG006N6HZM7</td>\n",
       "      <td>LN</td>\n",
       "      <td>united_kingdom</td>\n",
       "      <td>UKT 3.5 01/22/45</td>\n",
       "      <td>govt</td>\n",
       "      <td>uk_gilt_stock</td>\n",
       "      <td>3.50</td>\n",
       "    </tr>\n",
       "    <tr>\n",
       "      <th>14</th>\n",
       "      <td>UKGiltTreasury_3.75_2021</td>\n",
       "      <td>imd_34643653</td>\n",
       "      <td>GBP</td>\n",
       "      <td>GB00B4RMG977</td>\n",
       "      <td>BBG001KKJLR4</td>\n",
       "      <td>LN</td>\n",
       "      <td>united_kingdom</td>\n",
       "      <td>UKT 3.75 09/07/21</td>\n",
       "      <td>govt</td>\n",
       "      <td>uk_gilt_stock</td>\n",
       "      <td>3.75</td>\n",
       "    </tr>\n",
       "  </tbody>\n",
       "</table>\n",
       "</div>"
      ],
      "text/plain": [
       "                     instrument_name client_internal currency          isin  \\\n",
       "0                 Amazon_Nasdaq_AMZN    imd_34634534      USD  US0231351067   \n",
       "1                  Apple_Nasdaq_AAPL    imd_35345345      USD  US0378331005   \n",
       "2                BP_LondonStockEx_BP    imd_43535553      GBP  GB0007980591   \n",
       "3   BurfordCapital_LondonStockEx_BUR    imd_43534356      GBP  GG00B4L84979   \n",
       "4   EKFDiagnostics_LondonStockEx_EKF    imd_34535355      GBP  GB0031509804   \n",
       "5        Glencore_LondonStockEx_GLEN    imd_34534555      GBP  JE00B4T3BW64   \n",
       "6           JustEat_LondonStockEx_JE    imd_35436366      GBP  GB00BKX5CN86   \n",
       "7       Kingfisher_LondonStockEx_KGF    imd_34535552      GBP  GB0033195214   \n",
       "8      MicroFocus_LondonStockEx_MCRO    imd_34567338      GBP  GB00BD8YWM01   \n",
       "9        RELXGroup_LondonStockEx_REL    imd_43532542      GBP  GB00B2B0DG97   \n",
       "10            Sage_LondonStockEx_SGE    imd_23536673      GBP  GB00B8C3BL03   \n",
       "11          TESCO_LondonStockEx_TSCO    imd_34634673      GBP  GB0008847096   \n",
       "12           UKGiltTreasury_2.0_2025    imd_34534536      GBP  GB00BTHH2R79   \n",
       "13           UKGiltTreasury_3.5_2045    imd_54234532      GBP  GB00BN65R313   \n",
       "14          UKGiltTreasury_3.75_2021    imd_34643653      GBP  GB00B4RMG977   \n",
       "\n",
       "            figi exchange_code          country_issue             ticker  \\\n",
       "0   BBG000BVPXP1            UN  united_states_america               AMZN   \n",
       "1   BBG000B9XVV8            UN  united_states_america               AAPL   \n",
       "2   BBG000C05BD1            LN         united_kingdom                BP/   \n",
       "3   BBG000PN88Q7            LN         united_kingdom                BUR   \n",
       "4   BBG000BVNBN3            LN         united_kingdom                EKF   \n",
       "5   BBG001MM1KV4            LN         united_kingdom               GLEN   \n",
       "6   BBG0065YWM39            LN         united_kingdom                JE/   \n",
       "7   BBG000BKH1W6            LN         united_kingdom                KGF   \n",
       "8   BBG000G4KKD2            LN         united_kingdom               MCRO   \n",
       "9   BBG000D03XD4            LN         united_kingdom                REL   \n",
       "10  BBG000BN0PP3            LN         united_kingdom                SGE   \n",
       "11  BBG000BF46Y8            LN         united_kingdom               TSCO   \n",
       "12  BBG0088JSC32            LN         united_kingdom     UKT 2 09/07/25   \n",
       "13  BBG006N6HZM7            LN         united_kingdom   UKT 3.5 01/22/45   \n",
       "14  BBG001KKJLR4            LN         united_kingdom  UKT 3.75 09/07/21   \n",
       "\n",
       "   market_sector  security_type  coupon  \n",
       "0         equity   common_stock     nan  \n",
       "1         equity   common_stock     nan  \n",
       "2         equity   common_stock     nan  \n",
       "3         equity   common_stock     nan  \n",
       "4         equity   common_stock     nan  \n",
       "5         equity   common_stock     nan  \n",
       "6         equity   common_stock     nan  \n",
       "7         equity   common_stock     nan  \n",
       "8         equity   common_stock     nan  \n",
       "9         equity   common_stock     nan  \n",
       "10        equity   common_stock     nan  \n",
       "11        equity   common_stock     nan  \n",
       "12          govt  uk_gilt_stock    2.00  \n",
       "13          govt  uk_gilt_stock    3.50  \n",
       "14          govt  uk_gilt_stock    3.75  "
      ]
     },
     "execution_count": 3,
     "metadata": {},
     "output_type": "execute_result"
    }
   ],
   "source": [
    "# Import our instruments from a CSV file using Pandas\n",
    "instruments = pd.read_csv('data/instruments.csv')\n",
    "# View the first 15 instruments\n",
    "instruments.head(n=15)"
   ]
  },
  {
   "cell_type": "markdown",
   "metadata": {},
   "source": [
    "Here we can see that our instrument universe contains a mix of equities and bonds. Each instrument has a number of identifiers attached to it as well as some basic reference information. "
   ]
  },
  {
   "cell_type": "markdown",
   "metadata": {},
   "source": [
    "### 2) Get allowable instrument identifiers"
   ]
  },
  {
   "cell_type": "markdown",
   "metadata": {},
   "source": [
    "Great now we have our instrument information we want to add our instruments to LUSID.\n",
    "\n",
    "To add each instrument to LUSID we must have at least one unique identifier for it. \n",
    "\n",
    "This is because LUSID uses a bi-temporal data store, which means that no instrument is ever truly deleted. There are thus restrictions on what can and can't be used as a unique identifier. This ensures that there are no collisions between instruments which would arise from using an identifier which may be re-purposed. Read more about LUSID's bi-temporal data store here [LUSID Knowledge Base: Bi-Temporal Data Store](https://support.lusid.com/what-is-bi-temporal-data).\n",
    "\n",
    "We can call LUSID to find out what the allowable types of instrument indentifiers are. Read more about identifier schemes in LUSID here [LUSID Knowledge Base: Identifier Schemes](https://support.lusid.com/which-instrument-identifier-schemes-should-i-use-with-lusid). \n",
    "\n",
    "For further usage of the get instrument identifiers API call refer to the [LUSID API Docs: Get Allowable Instrument Identifiers](https://docs.lusid.com/#operation/GetInstrumentIdentifiers).\n",
    "\n",
    "*Run the cell below to get our allowable instrument identifiers*"
   ]
  },
  {
   "cell_type": "code",
   "execution_count": 4,
   "metadata": {
    "pycharm": {
     "is_executing": false
    },
    "tags": []
   },
   "outputs": [
    {
     "name": "stdout",
     "output_type": "stream",
     "text": [
      "\u001b[1m    Identifier Name : \u001b[0mEdiKey\n",
      "\u001b[1m    Is Unique Identifier : \u001b[0mTrue\n",
      "\u001b[1m    Identifier Property Key Value : \u001b[0mInstrument/default/EdiKey\n",
      "\n",
      "\n",
      "\u001b[1m    Identifier Name : \u001b[0mClientInternal\n",
      "\u001b[1m    Is Unique Identifier : \u001b[0mTrue\n",
      "\u001b[1m    Identifier Property Key Value : \u001b[0mInstrument/default/ClientInternal\n",
      "\n",
      "\n",
      "\u001b[1m    Identifier Name : \u001b[0mLusidInstrumentId\n",
      "\u001b[1m    Is Unique Identifier : \u001b[0mTrue\n",
      "\u001b[1m    Identifier Property Key Value : \u001b[0mInstrument/default/LusidInstrumentId\n",
      "\n",
      "\n",
      "\u001b[1m    Identifier Name : \u001b[0mFigi\n",
      "\u001b[1m    Is Unique Identifier : \u001b[0mTrue\n",
      "\u001b[1m    Identifier Property Key Value : \u001b[0mInstrument/default/Figi\n",
      "\n",
      "\n",
      "\u001b[1m    Identifier Name : \u001b[0mQuotePermId\n",
      "\u001b[1m    Is Unique Identifier : \u001b[0mTrue\n",
      "\u001b[1m    Identifier Property Key Value : \u001b[0mInstrument/default/QuotePermId\n",
      "\n",
      "\n",
      "\u001b[1m    Identifier Name : \u001b[0mCurrency\n",
      "\u001b[1m    Is Unique Identifier : \u001b[0mTrue\n",
      "\u001b[1m    Identifier Property Key Value : \u001b[0mInstrument/default/Currency\n",
      "\n",
      "\n"
     ]
    }
   ],
   "source": [
    "# Call LUSID to get our allowable instrument indentifiers\n",
    "response = api_factory.build(lusid.api.InstrumentsApi).get_instrument_identifier_types()\n",
    "\n",
    "# Extract the unique identifiers from the response and print them\n",
    "prettyprint.get_identifiers(response, unique=True)"
   ]
  },
  {
   "cell_type": "markdown",
   "metadata": {},
   "source": [
    "These are the unique identifiers that we can use when adding our instruments to LUSID. We must provide at least one of them for each instrument. \n",
    "\n",
    "We can also find the available non-unique identifiers.\n",
    "\n",
    "*Run the cell below to see the non-unique identifiers that are available*"
   ]
  },
  {
   "cell_type": "code",
   "execution_count": 5,
   "metadata": {
    "pycharm": {
     "is_executing": false
    },
    "tags": []
   },
   "outputs": [
    {
     "name": "stdout",
     "output_type": "stream",
     "text": [
      "\u001b[1m    Identifier Name : \u001b[0mCompositeFigi\n",
      "\u001b[1m    Is Unique Identifier : \u001b[0mFalse\n",
      "\u001b[1m    Identifier Property Key Value : \u001b[0mInstrument/default/CompositeFigi\n",
      "\n",
      "\n",
      "\u001b[1m    Identifier Name : \u001b[0mCusip\n",
      "\u001b[1m    Is Unique Identifier : \u001b[0mFalse\n",
      "\u001b[1m    Identifier Property Key Value : \u001b[0mInstrument/default/Cusip\n",
      "\n",
      "\n",
      "\u001b[1m    Identifier Name : \u001b[0mSedol\n",
      "\u001b[1m    Is Unique Identifier : \u001b[0mFalse\n",
      "\u001b[1m    Identifier Property Key Value : \u001b[0mInstrument/default/Sedol\n",
      "\n",
      "\n",
      "\u001b[1m    Identifier Name : \u001b[0mIsin\n",
      "\u001b[1m    Is Unique Identifier : \u001b[0mFalse\n",
      "\u001b[1m    Identifier Property Key Value : \u001b[0mInstrument/default/Isin\n",
      "\n",
      "\n",
      "\u001b[1m    Identifier Name : \u001b[0mTicker\n",
      "\u001b[1m    Is Unique Identifier : \u001b[0mFalse\n",
      "\u001b[1m    Identifier Property Key Value : \u001b[0mInstrument/default/Ticker\n",
      "\n",
      "\n",
      "\u001b[1m    Identifier Name : \u001b[0mShareClassFigi\n",
      "\u001b[1m    Is Unique Identifier : \u001b[0mFalse\n",
      "\u001b[1m    Identifier Property Key Value : \u001b[0mInstrument/default/ShareClassFigi\n",
      "\n",
      "\n",
      "\u001b[1m    Identifier Name : \u001b[0mWertpapier\n",
      "\u001b[1m    Is Unique Identifier : \u001b[0mFalse\n",
      "\u001b[1m    Identifier Property Key Value : \u001b[0mInstrument/default/Wertpapier\n",
      "\n",
      "\n",
      "\u001b[1m    Identifier Name : \u001b[0mRIC\n",
      "\u001b[1m    Is Unique Identifier : \u001b[0mFalse\n",
      "\u001b[1m    Identifier Property Key Value : \u001b[0mInstrument/default/RIC\n",
      "\n",
      "\n"
     ]
    }
   ],
   "source": [
    "# Extract the non-unique identifiers from the response and print them\n",
    "prettyprint.get_identifiers(response, unique=False)"
   ]
  },
  {
   "cell_type": "markdown",
   "metadata": {},
   "source": [
    "### 3) Upsert instruments"
   ]
  },
  {
   "cell_type": "markdown",
   "metadata": {},
   "source": [
    "Now that we know which instrument identifiers we can use, we can go ahead and create an instrument definition for each instrument. These can then be upserted into LUSID. Read about instrument definitions here [LUSID Knowledge Base: What is an Instrument?](https://support.lusid.com/what-is-an-instrument).\n",
    "\n",
    "As part of this definition we will also attach two alias identifiers to our instruments. Read more about alias identifiers here [LUSID Knowledge Base: What is an Alias Identifier?](https://support.lusid.com/alias-identifiers).\n",
    "\n",
    "We use an upsert method to add instrument definitions to the instrument universe. Read more about the behaviour of the upsert method here [LUSID Knowledge Base: Upsert](https://support.lusid.com/upsert-command).\n",
    "\n",
    "For further usage of the upsert instruments API call refer to the [LUSID API Docs: Upserting Instruments](https://docs.lusid.com/#operation/UpsertInstruments).\n",
    "\n",
    "*Run the cell below to upsert our instruments into LUSID*"
   ]
  },
  {
   "cell_type": "code",
   "execution_count": 6,
   "metadata": {
    "pycharm": {
     "is_executing": false
    },
    "tags": []
   },
   "outputs": [
    {
     "name": "stdout",
     "output_type": "stream",
     "text": [
      "Figi: TESCO_LondonStockEx_TSCO\n",
      " Instrument Name: TESCO_LondonStockEx_TSCO\n",
      " LUSID Instrument ID: LUID_GFXCSL8N\n",
      "\n",
      "\n",
      "Figi: EKFDiagnostics_LondonStockEx_EKF\n",
      " Instrument Name: EKFDiagnostics_LondonStockEx_EKF\n",
      " LUSID Instrument ID: LUID_96RJRKD4\n",
      "\n",
      "\n",
      "Figi: UKGiltTreasury_4.5_2034\n",
      " Instrument Name: UKGiltTreasury_4.5_2034\n",
      " LUSID Instrument ID: LUID_ZHNSK2TU\n",
      "\n",
      "\n",
      "Figi: UKGiltTreasury_3.5_2045\n",
      " Instrument Name: UKGiltTreasury_3.5_2045\n",
      " LUSID Instrument ID: LUID_KTD3ATV6\n",
      "\n",
      "\n",
      "Figi: Whitebread_LondonStockEx_WTB\n",
      " Instrument Name: Whitebread_LondonStockEx_WTB\n",
      " LUSID Instrument ID: LUID_H210FLMK\n",
      "\n",
      "\n",
      "Figi: Apple_Nasdaq_AAPL\n",
      " Instrument Name: Apple_Nasdaq_AAPL\n",
      " LUSID Instrument ID: LUID_9VGOFLB1\n",
      "\n",
      "\n",
      "Figi: RELXGroup_LondonStockEx_REL\n",
      " Instrument Name: RELXGroup_LondonStockEx_REL\n",
      " LUSID Instrument ID: LUID_S49ENIHS\n",
      "\n",
      "\n",
      "Figi: Glencore_LondonStockEx_GLEN\n",
      " Instrument Name: Glencore_LondonStockEx_GLEN\n",
      " LUSID Instrument ID: LUID_1B87RD93\n",
      "\n",
      "\n",
      "Figi: JustEat_LondonStockEx_JE\n",
      " Instrument Name: JustEat_LondonStockEx_JE\n",
      " LUSID Instrument ID: LUID_201SP5OC\n",
      "\n",
      "\n",
      "Figi: BP_LondonStockEx_BP\n",
      " Instrument Name: BP_LondonStockEx_BP\n",
      " LUSID Instrument ID: LUID_5D2FWP99\n",
      "\n",
      "\n",
      "Figi: Kingfisher_LondonStockEx_KGF\n",
      " Instrument Name: Kingfisher_LondonStockEx_KGF\n",
      " LUSID Instrument ID: LUID_208KRVJD\n",
      "\n",
      "\n",
      "Figi: UKGiltTreasury_2.0_2025\n",
      " Instrument Name: UKGiltTreasury_2.0_2025\n",
      " LUSID Instrument ID: LUID_15ZXVTMZ\n",
      "\n",
      "\n",
      "Figi: Sage_LondonStockEx_SGE\n",
      " Instrument Name: Sage_LondonStockEx_SGE\n",
      " LUSID Instrument ID: LUID_95HH6QDJ\n",
      "\n",
      "\n",
      "Figi: USTreasury_2.00_2021\n",
      " Instrument Name: USTreasury_2.00_2021\n",
      " LUSID Instrument ID: LUID_K6X0E6UU\n",
      "\n",
      "\n",
      "Figi: UKGiltTreasury_3.75_2021\n",
      " Instrument Name: UKGiltTreasury_3.75_2021\n",
      " LUSID Instrument ID: LUID_J6XD0XKK\n",
      "\n",
      "\n",
      "Figi: WPP_LondonStockEx_WPP\n",
      " Instrument Name: WPP_LondonStockEx_WPP\n",
      " LUSID Instrument ID: LUID_AVZ4TQ4O\n",
      "\n",
      "\n",
      "Figi: BurfordCapital_LondonStockEx_BUR\n",
      " Instrument Name: BurfordCapital_LondonStockEx_BUR\n",
      " LUSID Instrument ID: LUID_4I7BHQIG\n",
      "\n",
      "\n",
      "Figi: USTreasury_6.875_2025\n",
      " Instrument Name: USTreasury_6.875_2025\n",
      " LUSID Instrument ID: LUID_VRHS3CE7\n",
      "\n",
      "\n",
      "Figi: Amazon_Nasdaq_AMZN\n",
      " Instrument Name: Amazon_Nasdaq_AMZN\n",
      " LUSID Instrument ID: LUID_KVRBPDWS\n",
      "\n",
      "\n",
      "Figi: MicroFocus_LondonStockEx_MCRO\n",
      " Instrument Name: MicroFocus_LondonStockEx_MCRO\n",
      " LUSID Instrument ID: LUID_V9BGXJ1U\n",
      "\n",
      "\n"
     ]
    }
   ],
   "source": [
    "# Initialise dictionary to hold our instrument definitions\n",
    "definitions = {}\n",
    "\n",
    "# Iterate over each row in our instrument universe\n",
    "for row, instrument in instruments.iterrows():\n",
    "    \n",
    "    # Specify your identifier columns\n",
    "    identifier_columns = [\n",
    "        ('isin', 'Isin'), \n",
    "        ('figi', 'Figi'), \n",
    "        ('ticker', 'Ticker'),\n",
    "        ('client_internal', 'ClientInternal')\n",
    "    ]\n",
    "    \n",
    "    # Create your identifiers\n",
    "    identifiers = {}\n",
    "    for identifier in identifier_columns:\n",
    "        identifiers[identifier[1]] = models.InstrumentIdValue(\n",
    "            value=instrument[identifier[0]])\n",
    "    \n",
    "    # Create our definitions\n",
    "    definitions[instrument['instrument_name']] = models.InstrumentDefinition(\n",
    "        name=instrument['instrument_name'],\n",
    "        identifiers=identifiers)\n",
    "    \n",
    "# Call the LUSID API to upsert our instrument definitions\n",
    "response = api_factory.build(lusid.api.InstrumentsApi).upsert_instruments(request_body=definitions)\n",
    "\n",
    "# Print each the definition of each instrument returned in the response\n",
    "for figi, instrument in response.values.items():\n",
    "    print('Figi: ' + figi + '\\n',\n",
    "          'Instrument Name: ' + instrument.name + '\\n', \n",
    "          'LUSID Instrument ID: ' + instrument.lusid_instrument_id + '\\n'+'\\n')"
   ]
  },
  {
   "cell_type": "markdown",
   "metadata": {},
   "source": [
    "We have added our instruments to LUSID! We can now use these instruments to book trades and set holdings.\n",
    "\n",
    "As you can see every instrument that is upserted into LUSID is given a LUSID unique instrument Identifier. This is a globally unique identifier for the instrument and is used in some calls to LUSID. Read more about LUSID Unique Instrument Identifiers here [LUSID Knoweldge Base: LUSID Instrument Identifiers](https://support.lusid.com/what-is-a-lusid-unique-identifier-luid)."
   ]
  },
  {
   "cell_type": "markdown",
   "metadata": {},
   "source": [
    "### 4) Retrieve an Instrument by its Identifier"
   ]
  },
  {
   "cell_type": "markdown",
   "metadata": {},
   "source": [
    "In addition to listing all instruments we can also retrieve an instrument individually by searching for it by one of its unique identifiers. \n",
    "\n",
    "Here we can look up one of our instruments by its Financial Instrument Global Identifier (FIGI). \n",
    "\n",
    "For further usage of the get instrument API call refer to the [LUSID API Docs: Get Instrument Defintion](https://docs.lusid.com/#operation/GetInstrument).\n",
    "\n",
    "*Run the cell below to retrieve our instrument's definition by its FIGI*"
   ]
  },
  {
   "cell_type": "code",
   "execution_count": 7,
   "metadata": {
    "pycharm": {
     "is_executing": false
    },
    "tags": []
   },
   "outputs": [
    {
     "name": "stdout",
     "output_type": "stream",
     "text": [
      "Instrument Name: BP_LondonStockEx_BP\n",
      " FIGI: BBG000C05BD1\n",
      " ClientInternal: imd_43535553\n",
      " LUSID Instrument ID: LUID_5D2FWP99\n"
     ]
    }
   ],
   "source": [
    "# Call the LUSID API to retrieve an instrument by its FIGI\n",
    "response = api_factory.build(lusid.api.InstrumentsApi).get_instrument(\n",
    "    identifier_type='Figi',\n",
    "    identifier='BBG000C05BD1')\n",
    "\n",
    "# Print the response with our instrument definition\n",
    "print('Instrument Name: ' + response.name + '\\n', \n",
    "      'FIGI: ' + response.identifiers['Figi'] + '\\n',\n",
    "      'ClientInternal: ' + response.identifiers['ClientInternal'] + '\\n',\n",
    "      'LUSID Instrument ID: ' + response.lusid_instrument_id)"
   ]
  },
  {
   "cell_type": "markdown",
   "metadata": {},
   "source": [
    "As we gave each of our instruments two unique identifiers, i.e. a FIGI and a ClientInternal, we can also look up the same instrument by its ClientInternal identifier.\n",
    "\n",
    "*Run the cell below to retrieve our instrument definition by its ClientInternal identifier*"
   ]
  },
  {
   "cell_type": "code",
   "execution_count": 8,
   "metadata": {
    "pycharm": {
     "is_executing": false
    },
    "tags": []
   },
   "outputs": [
    {
     "name": "stdout",
     "output_type": "stream",
     "text": [
      "Instrument Name: BP_LondonStockEx_BP\n",
      " FIGI: BBG000C05BD1\n",
      " ClientInternal: imd_43535553\n",
      " LUSID Instrument ID: LUID_5D2FWP99\n"
     ]
    }
   ],
   "source": [
    "# Call the LUSID API to retrieve an instrument by its ClientInternal ID\n",
    "response = api_factory.build(lusid.api.InstrumentsApi).get_instrument(\n",
    "    identifier_type='ClientInternal',\n",
    "    identifier='imd_43535553')\n",
    "\n",
    "# Print the response with our instrument\n",
    "print('Instrument Name: ' + response.name + '\\n', \n",
    "      'FIGI: ' + response.identifiers['Figi'] + '\\n',\n",
    "      'ClientInternal: ' + response.identifiers['ClientInternal'] + '\\n',\n",
    "      'LUSID Instrument ID: ' + response.lusid_instrument_id)"
   ]
  },
  {
   "cell_type": "markdown",
   "metadata": {},
   "source": [
    "We can also retrieve multiple instruments by passing multiple values of a given identifier into the get instruments method. For further usage of the get instruments API call refer to the [LUSID API Docs: Get Instrument Defintion](https://docs.lusid.com/#operation/GetInstruments).\n",
    "\n",
    "*Run the cell below to retrieve multiple instrument definitions by their FIGI*"
   ]
  },
  {
   "cell_type": "code",
   "execution_count": 9,
   "metadata": {
    "pycharm": {
     "is_executing": false
    },
    "tags": []
   },
   "outputs": [
    {
     "name": "stdout",
     "output_type": "stream",
     "text": [
      "Instrument Name: BP_LondonStockEx_BP\n",
      " FIGI: BBG000C05BD1\n",
      " ClientInternal: imd_43535553\n",
      " LUSID Instrument ID: LUID_5D2FWP99\n",
      "\n",
      "Instrument Name: USTreasury_6.875_2025\n",
      " FIGI: BBG000DQQNJ8\n",
      " ClientInternal: imd_34534539\n",
      " LUSID Instrument ID: LUID_VRHS3CE7\n",
      "\n"
     ]
    }
   ],
   "source": [
    "# Call the LUSID API to retrieve all instruments with a Figi in the provided list\n",
    "response = api_factory.build(lusid.api.InstrumentsApi).get_instruments(\n",
    "    identifier_type='Figi',\n",
    "    request_body=['BBG000C05BD1', 'BBG000DQQNJ8'])\n",
    "\n",
    "# Print the response with our instrument definitions\n",
    "for figi, instrument in response.values.items():\n",
    "    print('Instrument Name: ' + instrument.name + '\\n', \n",
    "          'FIGI: ' + figi + '\\n',\n",
    "          'ClientInternal: ' + instrument.identifiers['ClientInternal'] + '\\n',\n",
    "          'LUSID Instrument ID: ' + instrument.lusid_instrument_id + '\\n')"
   ]
  },
  {
   "cell_type": "markdown",
   "metadata": {},
   "source": [
    "### 5) Upsert instrument properties"
   ]
  },
  {
   "cell_type": "markdown",
   "metadata": {},
   "source": [
    "In addition to our unique identifier and aliases we can also add properties to our instruments. \n",
    "\n",
    "To define a property we need to create a property definition and then call LUSID to create that property. Read more about property definitions here [LUSID Knowledge Base: Property Definitions](https://support.lusid.com/what-is-a-property-definition). \n",
    "\n",
    "Note that every property is defined by a data type which is referenced by a data type id. Read more about data types here [LUSID Knowledge Base: Data Types](https://support.lusid.com/what-is-a-data-type).\n",
    "\n",
    "Let us create a property to hold the asset class of our instrument.\n",
    "\n",
    "For further usage of the create property definition API call refer to the [LUSID API Docs: Create Property Definition](https://docs.lusid.com/#operation/CreatePropertyDefinition).\n",
    "\n",
    "*Run the cell below to create our security type property*"
   ]
  },
  {
   "cell_type": "code",
   "execution_count": 10,
   "metadata": {
    "pycharm": {
     "is_executing": false
    },
    "tags": []
   },
   "outputs": [
    {
     "name": "stdout",
     "output_type": "stream",
     "text": [
      "Instrument/custom_properties_510ea46c-75c7-4e43-950e-ebaacc57146e/asset_class\n"
     ]
    }
   ],
   "source": [
    "# Define the scope that we will use for our properties\n",
    "properties_scope = 'custom_properties_{}'.format(str(uuid.uuid4()))\n",
    "\n",
    "# Create the request for our new property\n",
    "property_request = models.CreatePropertyDefinitionRequest(\n",
    "    domain='Instrument',\n",
    "    scope=properties_scope,\n",
    "    code='asset_class',\n",
    "    value_required=True,\n",
    "    display_name='asset_class',\n",
    "    life_time='TimeVariant',\n",
    "    data_type_id=models.ResourceId(\n",
    "        scope='system', \n",
    "        code='string'))\n",
    "\n",
    "# Call LUSID to create our new property\n",
    "property_response = api_factory.build(lusid.api.PropertyDefinitionsApi).create_property_definition(\n",
    "    create_property_definition_request=property_request)\n",
    "\n",
    "# Grab the key off the response to use when referencing this property in other LUSID calls\n",
    "asset_class_property_key = property_response.key\n",
    "\n",
    "# Print our property key\n",
    "print (asset_class_property_key)"
   ]
  },
  {
   "cell_type": "markdown",
   "metadata": {},
   "source": [
    "As you can see from the call above every property is identified by its key. Read more about properties and their keys here [LUSID Knowledge Base: Properties](https://support.lusid.com/what-is-a-property-definition).\n",
    "\n",
    "We can now add this property to each of our instruments.\n",
    "\n",
    "For further usage of the upsert instrument properties API call refer to the [LUSID API Docs: Upserting Instrument Properties](https://docs.lusid.com/#operation/UpsertInstruments)\n",
    "\n",
    "*Run the cell below to set our asset class property for each of our instruments*"
   ]
  },
  {
   "cell_type": "markdown",
   "metadata": {},
   "source": [
    "Now that we have created our property we can set it across our instrument universe.\n",
    "\n",
    "*Run the cell below to set our asset class property for each of our instruments*"
   ]
  },
  {
   "cell_type": "code",
   "execution_count": 11,
   "metadata": {
    "pycharm": {
     "is_executing": false
    },
    "tags": []
   },
   "outputs": [
    {
     "name": "stdout",
     "output_type": "stream",
     "text": [
      "Instrument properties upserted at 2020-11-02 19:06:28.439083+00:00\n"
     ]
    }
   ],
   "source": [
    "requests = []\n",
    "\n",
    "for row in instruments.iterrows():\n",
    "    # Collect our instrument data from the row, note row[0] is the index of the row e.g. 3\n",
    "    instrument = row[1]\n",
    "    \n",
    "    # Create our security_type property for this instrument\n",
    "    asset_class_property = models.ModelProperty(\n",
    "        key=asset_class_property_key,\n",
    "        value=models.PropertyValue(\n",
    "            label_value=instrument['market_sector'])\n",
    "    )    \n",
    "    \n",
    "    # Build our request to set our property\n",
    "    requests.append(\n",
    "        models.UpsertInstrumentPropertyRequest(\n",
    "            identifier_type='Figi',\n",
    "            identifier=instrument['figi'],\n",
    "            properties=[asset_class_property]))\n",
    "\n",
    "# Call the LUSID API to add our property across all instruments\n",
    "response = api_factory.build(lusid.api.InstrumentsApi).upsert_instruments_properties(\n",
    "    upsert_instrument_property_request=requests)\n",
    "\n",
    "# Print our response\n",
    "\n",
    "print ('Instrument properties upserted at {}'.format(\n",
    "    response.as_at_date))"
   ]
  },
  {
   "cell_type": "markdown",
   "metadata": {},
   "source": [
    "We can now call LUSID to retrieve an instrument definition for one of our instruments with our user defined security type property attached. We do this by specifying the property key in the instrument_property_keys argument of the method. \n",
    "\n",
    "*Run the cell below to call LUSID and retrieve our instrument*"
   ]
  },
  {
   "cell_type": "code",
   "execution_count": 12,
   "metadata": {
    "pycharm": {
     "is_executing": false
    },
    "tags": []
   },
   "outputs": [
    {
     "name": "stdout",
     "output_type": "stream",
     "text": [
      "Instrument Name: BP_LondonStockEx_BP\n",
      " Figi: BBG000C05BD1\n",
      " ClientInternal: imd_43535553\n",
      " Isin: GB0007980591\n",
      " Ticker: BP/\n",
      " Lusid Instrument ID: LUID_5D2FWP99\n",
      " Asset Class: equity\n",
      "\n"
     ]
    }
   ],
   "source": [
    "# Call LUSID to get the ISIN and security type for one of our instruments\n",
    "response = api_factory.build(lusid.api.InstrumentsApi).get_instrument(\n",
    "    identifier_type='Figi',\n",
    "    identifier='BBG000C05BD1',\n",
    "    property_keys=[\n",
    "        asset_class_property_key\n",
    "    ])\n",
    "\n",
    "# Print the response\n",
    "print('Instrument Name: ' + response.name + '\\n', \n",
    "      'Figi: ' + response.identifiers['Figi'] + '\\n',\n",
    "      'ClientInternal: ' + response.identifiers['ClientInternal'] + '\\n',\n",
    "      'Isin: ' + response.identifiers['Isin'] + '\\n',\n",
    "      'Ticker: ' + response.identifiers['Ticker'] + '\\n',\n",
    "      'Lusid Instrument ID: ' + response.lusid_instrument_id + '\\n',\n",
    "      'Asset Class: ' + response.properties[0].value.label_value + '\\n')"
   ]
  },
  {
   "cell_type": "markdown",
   "metadata": {},
   "source": [
    "We can also delete a property using the same upsert properties endpoint. We do this by specifying the property key that we'd like to delete. \n",
    "\n",
    "*Run the cell below to delete the asset class property for one of our instruments*"
   ]
  },
  {
   "cell_type": "code",
   "execution_count": 13,
   "metadata": {
    "pycharm": {
     "is_executing": false
    },
    "tags": []
   },
   "outputs": [
    {
     "name": "stdout",
     "output_type": "stream",
     "text": [
      "Properties deleted at 2020-11-02 19:06:28.812355+00:00\n"
     ]
    }
   ],
   "source": [
    "\n",
    "# Call the LUSID API to add our property across all instruments\n",
    "response = api_factory.build(lusid.api.InstrumentsApi).delete_instrument_properties(\n",
    "    identifier_type='Figi',\n",
    "    identifier=\"BBG000C05BD1\",\n",
    "    request_body=[\n",
    "          asset_class_property_key\n",
    "    ],\n",
    "    effective_at=datetime.now(pytz.UTC).isoformat()\n",
    ")\n",
    "\n",
    "# Print our response\n",
    "print ('Properties deleted at {}'.format(\n",
    "    response.as_at))"
   ]
  },
  {
   "cell_type": "markdown",
   "metadata": {},
   "source": [
    "### 6) Search instruments"
   ]
  },
  {
   "cell_type": "markdown",
   "metadata": {},
   "source": [
    "Now that we have set some properties on our instruments, we can now go ahead and search our instrument universe that we've just created using these properties.\n",
    "\n",
    "In this case let's search for all equity instruments using our asset class property.\n",
    "\n",
    "For further usage of the instruments search API call refer to the [LUSID API Docs: Search Instruments](https://docs.lusid.com/#operation/InstrumentsSearch)\n",
    "\n",
    "*Run the cell below to search for all our equity securities*"
   ]
  },
  {
   "cell_type": "code",
   "execution_count": 14,
   "metadata": {
    "pycharm": {
     "is_executing": false
    },
    "tags": []
   },
   "outputs": [
    {
     "name": "stdout",
     "output_type": "stream",
     "text": [
      "Instrument Name: BP_LondonStockEx_BP\n",
      " Figi: BBG000C05BD1\n",
      " ClientInternal: imd_43535553\n",
      " LUSID Instrument ID: LUID_5D2FWP99\n",
      "\n",
      "Instrument Name: Whitebread_LondonStockEx_WTB\n",
      " Figi: BBG000BRVH05\n",
      " ClientInternal: imd_35349900\n",
      " LUSID Instrument ID: LUID_H210FLMK\n",
      "\n",
      "Instrument Name: WPP_LondonStockEx_WPP\n",
      " Figi: BBG000BF6B57\n",
      " ClientInternal: imd_34536734\n",
      " LUSID Instrument ID: LUID_AVZ4TQ4O\n",
      "\n",
      "Instrument Name: TESCO_LondonStockEx_TSCO\n",
      " Figi: BBG000BF46Y8\n",
      " ClientInternal: imd_34634673\n",
      " LUSID Instrument ID: LUID_GFXCSL8N\n",
      "\n",
      "Instrument Name: Sage_LondonStockEx_SGE\n",
      " Figi: BBG000BN0PP3\n",
      " ClientInternal: imd_23536673\n",
      " LUSID Instrument ID: LUID_95HH6QDJ\n",
      "\n",
      "Instrument Name: RELXGroup_LondonStockEx_REL\n",
      " Figi: BBG000D03XD4\n",
      " ClientInternal: imd_43532542\n",
      " LUSID Instrument ID: LUID_S49ENIHS\n",
      "\n",
      "Instrument Name: MicroFocus_LondonStockEx_MCRO\n",
      " Figi: BBG000G4KKD2\n",
      " ClientInternal: imd_34567338\n",
      " LUSID Instrument ID: LUID_V9BGXJ1U\n",
      "\n",
      "Instrument Name: Kingfisher_LondonStockEx_KGF\n",
      " Figi: BBG000BKH1W6\n",
      " ClientInternal: imd_34535552\n",
      " LUSID Instrument ID: LUID_208KRVJD\n",
      "\n",
      "Instrument Name: JustEat_LondonStockEx_JE\n",
      " Figi: BBG0065YWM39\n",
      " ClientInternal: imd_35436366\n",
      " LUSID Instrument ID: LUID_201SP5OC\n",
      "\n",
      "Instrument Name: Glencore_LondonStockEx_GLEN\n",
      " Figi: BBG001MM1KV4\n",
      " ClientInternal: imd_34534555\n",
      " LUSID Instrument ID: LUID_1B87RD93\n",
      "\n",
      "Instrument Name: EKFDiagnostics_LondonStockEx_EKF\n",
      " Figi: BBG000BVNBN3\n",
      " ClientInternal: imd_34535355\n",
      " LUSID Instrument ID: LUID_96RJRKD4\n",
      "\n",
      "Instrument Name: BurfordCapital_LondonStockEx_BUR\n",
      " Figi: BBG000PN88Q7\n",
      " ClientInternal: imd_43534356\n",
      " LUSID Instrument ID: LUID_4I7BHQIG\n",
      "\n",
      "Instrument Name: Apple_Nasdaq_AAPL\n",
      " Figi: BBG000B9XVV8\n",
      " ClientInternal: imd_35345345\n",
      " LUSID Instrument ID: LUID_9VGOFLB1\n",
      "\n",
      "Instrument Name: Amazon_Nasdaq_AMZN\n",
      " Figi: BBG000BVPXP1\n",
      " ClientInternal: imd_34634534\n",
      " LUSID Instrument ID: LUID_KVRBPDWS\n",
      "\n"
     ]
    }
   ],
   "source": [
    "# Build our serach request\n",
    "search_request_internal = models.InstrumentSearchProperty(\n",
    "    key=asset_class_property_key,\n",
    "    value='equity')\n",
    "\n",
    "# Call LUSID to search for instruments\n",
    "response = api_factory.build(lusid.api.SearchApi).instruments_search(\n",
    "    instrument_search_property=[search_request_internal],\n",
    "    mastered_only=True)\n",
    "\n",
    "# Print the instrument definitions from our response\n",
    "for instrument in response[0].mastered_instruments:\n",
    "    print('Instrument Name: ' + instrument.name + '\\n', \n",
    "          'Figi: ' + instrument.identifiers['Figi'].value + '\\n',\n",
    "          'ClientInternal: ' + instrument.identifiers['ClientInternal'].value + '\\n',\n",
    "          'LUSID Instrument ID: ' + instrument.identifiers['LusidInstrumentId'].value +'\\n')"
   ]
  },
  {
   "cell_type": "markdown",
   "metadata": {},
   "source": [
    "Using search we can also search for instruments that are not currently in the instrument universe inside LUSID. \n",
    "\n",
    "*Run the cell below to search for an instrument that is not in our instrument universe*"
   ]
  },
  {
   "cell_type": "code",
   "execution_count": 15,
   "metadata": {
    "pycharm": {
     "is_executing": false
    },
    "tags": []
   },
   "outputs": [
    {
     "name": "stdout",
     "output_type": "stream",
     "text": [
      "Instrument Name: BAE SYSTEMS PLC\n",
      " Figi: BBG000BD5TW4\n",
      "Instrument/default/CompositeFigi - BBG000BD5T18\n",
      "Instrument/default/ShareClassFigi - BBG001S615R1\n",
      "Instrument/default/Ticker - BA/\n",
      "\n",
      "\n"
     ]
    }
   ],
   "source": [
    "search_request_external = models.InstrumentSearchProperty(\n",
    "    key='Instrument/default/Figi',\n",
    "    value='BBG000BD5TW4')\n",
    "\n",
    "response = api_factory.build(lusid.api.SearchApi).instruments_search(\n",
    "    instrument_search_property=[search_request_external],\n",
    "    mastered_only=False)\n",
    "\n",
    "for instrument in response[0].external_instruments:\n",
    "    print ('Instrument Name: ' + instrument.name + '\\n', \n",
    "          'Figi: ' + instrument.identifiers['Figi'].value)\n",
    "    for _property in instrument.properties:\n",
    "        print (_property.key, '-', _property.value.label_value)\n",
    "    print ('\\n')"
   ]
  },
  {
   "cell_type": "markdown",
   "metadata": {},
   "source": [
    "We can also chain our search requests together. When we use multiple search requests LUSID uses OR logic.\n",
    "\n",
    "*Run the cell below to use both our search requests together*"
   ]
  },
  {
   "cell_type": "code",
   "execution_count": 16,
   "metadata": {
    "pycharm": {
     "is_executing": false
    },
    "tags": []
   },
   "outputs": [
    {
     "name": "stdout",
     "output_type": "stream",
     "text": [
      "Instrument Name: BP_LondonStockEx_BP\n",
      " Figi: BBG000C05BD1\n",
      " ClientInternal: imd_43535553\n",
      " LUSID Instrument ID: LUID_5D2FWP99\n",
      "\n",
      "Instrument Name: Whitebread_LondonStockEx_WTB\n",
      " Figi: BBG000BRVH05\n",
      " ClientInternal: imd_35349900\n",
      " LUSID Instrument ID: LUID_H210FLMK\n",
      "\n",
      "Instrument Name: WPP_LondonStockEx_WPP\n",
      " Figi: BBG000BF6B57\n",
      " ClientInternal: imd_34536734\n",
      " LUSID Instrument ID: LUID_AVZ4TQ4O\n",
      "\n",
      "Instrument Name: TESCO_LondonStockEx_TSCO\n",
      " Figi: BBG000BF46Y8\n",
      " ClientInternal: imd_34634673\n",
      " LUSID Instrument ID: LUID_GFXCSL8N\n",
      "\n",
      "Instrument Name: Sage_LondonStockEx_SGE\n",
      " Figi: BBG000BN0PP3\n",
      " ClientInternal: imd_23536673\n",
      " LUSID Instrument ID: LUID_95HH6QDJ\n",
      "\n",
      "Instrument Name: RELXGroup_LondonStockEx_REL\n",
      " Figi: BBG000D03XD4\n",
      " ClientInternal: imd_43532542\n",
      " LUSID Instrument ID: LUID_S49ENIHS\n",
      "\n",
      "Instrument Name: MicroFocus_LondonStockEx_MCRO\n",
      " Figi: BBG000G4KKD2\n",
      " ClientInternal: imd_34567338\n",
      " LUSID Instrument ID: LUID_V9BGXJ1U\n",
      "\n",
      "Instrument Name: Kingfisher_LondonStockEx_KGF\n",
      " Figi: BBG000BKH1W6\n",
      " ClientInternal: imd_34535552\n",
      " LUSID Instrument ID: LUID_208KRVJD\n",
      "\n",
      "Instrument Name: JustEat_LondonStockEx_JE\n",
      " Figi: BBG0065YWM39\n",
      " ClientInternal: imd_35436366\n",
      " LUSID Instrument ID: LUID_201SP5OC\n",
      "\n",
      "Instrument Name: Glencore_LondonStockEx_GLEN\n",
      " Figi: BBG001MM1KV4\n",
      " ClientInternal: imd_34534555\n",
      " LUSID Instrument ID: LUID_1B87RD93\n",
      "\n",
      "Instrument Name: EKFDiagnostics_LondonStockEx_EKF\n",
      " Figi: BBG000BVNBN3\n",
      " ClientInternal: imd_34535355\n",
      " LUSID Instrument ID: LUID_96RJRKD4\n",
      "\n",
      "Instrument Name: BurfordCapital_LondonStockEx_BUR\n",
      " Figi: BBG000PN88Q7\n",
      " ClientInternal: imd_43534356\n",
      " LUSID Instrument ID: LUID_4I7BHQIG\n",
      "\n",
      "Instrument Name: Apple_Nasdaq_AAPL\n",
      " Figi: BBG000B9XVV8\n",
      " ClientInternal: imd_35345345\n",
      " LUSID Instrument ID: LUID_9VGOFLB1\n",
      "\n",
      "Instrument Name: Amazon_Nasdaq_AMZN\n",
      " Figi: BBG000BVPXP1\n",
      " ClientInternal: imd_34634534\n",
      " LUSID Instrument ID: LUID_KVRBPDWS\n",
      "\n",
      "Instrument Name: BAE SYSTEMS PLC\n",
      " Figi: BBG000BD5TW4\n",
      "Instrument/default/CompositeFigi - BBG000BD5T18\n",
      "Instrument/default/ShareClassFigi - BBG001S615R1\n",
      "Instrument/default/Ticker - BA/\n",
      "\n",
      "\n"
     ]
    }
   ],
   "source": [
    "response = api_factory.build(lusid.api.SearchApi).instruments_search(\n",
    "    instrument_search_property=[search_request_internal, search_request_external],\n",
    "    mastered_only=False)\n",
    "\n",
    "for instrument in response[0].mastered_instruments:\n",
    "    print('Instrument Name: ' + instrument.name + '\\n', \n",
    "          'Figi: ' + instrument.identifiers['Figi'].value + '\\n',\n",
    "          'ClientInternal: ' + instrument.identifiers['ClientInternal'].value + '\\n',\n",
    "          'LUSID Instrument ID: ' + instrument.identifiers['LusidInstrumentId'].value +'\\n')\n",
    "\n",
    "for instrument in response[1].external_instruments:\n",
    "    print ('Instrument Name: ' + instrument.name + '\\n', \n",
    "          'Figi: ' + instrument.identifiers['Figi'].value)\n",
    "    for _property in instrument.properties:\n",
    "        print (_property.key, '-', _property.value.label_value)\n",
    "    print ('\\n')"
   ]
  },
  {
   "cell_type": "markdown",
   "metadata": {},
   "source": [
    "### 7) Update instrument identifier"
   ]
  },
  {
   "cell_type": "markdown",
   "metadata": {},
   "source": [
    "We can also update an instruments identifiers. For further usage of the update instrument identifier API call refer to the [LUSID API Docs: Update an Instrument Identifier](https://docs.lusid.com/#operation/UpdateInstrumentIdentifier).\n",
    "\n",
    "*Run the cell below to update the Client Internal Id for one of our instruments*"
   ]
  },
  {
   "cell_type": "code",
   "execution_count": 17,
   "metadata": {
    "pycharm": {
     "is_executing": false
    },
    "tags": []
   },
   "outputs": [
    {
     "name": "stdout",
     "output_type": "stream",
     "text": [
      "Instrument Name: BP_LondonStockEx_BP\n",
      " Figi: BBG000C05BD1\n",
      " ClientInternal: imd_43535553\n",
      " Isin: GB0007980591\n",
      " Ticker: BP/\n",
      " Lusid Instrument ID: LUID_5D2FWP99\n",
      "\n"
     ]
    }
   ],
   "source": [
    "request = models.UpdateInstrumentIdentifierRequest(\n",
    "    type='ClientInternal',\n",
    "    value='imd_43535554',\n",
    "    effective_at=None)\n",
    "\n",
    "response = api_factory.build(lusid.api.InstrumentsApi).update_instrument_identifier(\n",
    "    identifier_type='Figi',\n",
    "    identifier='BBG000C05BD1',\n",
    "    update_instrument_identifier_request=request)\n",
    "\n",
    "# Print the response showing the updated ClientInternal ID\n",
    "print('Instrument Name: ' + response.name + '\\n', \n",
    "      'Figi: ' + response.identifiers['Figi'] + '\\n',\n",
    "      'ClientInternal: ' + response.identifiers['ClientInternal'] + '\\n',\n",
    "      'Isin: ' + response.identifiers['Isin']+ '\\n',\n",
    "      'Ticker: ' + response.identifiers['Ticker'] + '\\n',\n",
    "      'Lusid Instrument ID: ' + response.lusid_instrument_id + '\\n')"
   ]
  }
 ],
 "metadata": {
  "kernelspec": {
   "display_name": "Python 3",
   "language": "python",
   "name": "python3"
  },
  "language_info": {
   "codemirror_mode": {
    "name": "ipython",
    "version": 3
   },
   "file_extension": ".py",
   "mimetype": "text/x-python",
   "name": "python",
   "nbconvert_exporter": "python",
   "pygments_lexer": "ipython3",
   "version": "3.8.5"
  }
 },
 "nbformat": 4,
 "nbformat_minor": 2
}
