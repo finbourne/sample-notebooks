{
 "cells": [
  {
   "cell_type": "code",
   "source": [
    "from lusidtools.jupyter_tools import toggle_code\n",
    "\n",
    "\"\"\" Creating portfolios with different tax lot management methods\n",
    "\n",
    "This notebook demonstrates how to create transaction portfolios under different tax lot accounting methodologies.\n",
    "\n",
    "Attributes\n",
    "----------\n",
    "transactions\n",
    "holdings\n",
    "taxlots\n",
    "accounting\n",
    "\"\"\"\n",
    "\n",
    "toggle_code(\"Toggle Docstring\")"
   ],
   "metadata": {
    "collapsed": false,
    "pycharm": {
     "name": "#%%\n"
    }
   },
   "execution_count": 1,
   "outputs": [
    {
     "data": {
      "text/plain": "<IPython.core.display.HTML object>",
      "text/html": "\n    <form action=\"javascript:code_toggle()\"><input type=\"submit\" id=\"toggleButton\" value=\"Toggle Docstring\"></form>\n    \n         <script>\n         function code_toggle() {\n             if ($('div.cell.code_cell.rendered.selected div.input').css('display')!='none'){\n                 $('div.cell.code_cell.rendered.selected div.input').hide();\n             } else {\n                 $('div.cell.code_cell.rendered.selected div.input').show();\n             }\n         }\n         </script>\n\n     "
     },
     "metadata": {},
     "output_type": "display_data"
    }
   ]
  },
  {
   "cell_type": "markdown",
   "source": [
    "# Tax Lot Management"
   ],
   "metadata": {
    "collapsed": false
   }
  },
  {
   "cell_type": "markdown",
   "source": [
    "\n",
    "Portfolios in LUSID can be created using any of the following tax lot accounting methods:\n",
    "- First In First Out (FIFO)\n",
    "- Last In First Out (LIFO)\n",
    "- Average Cost (default in LUSID)\n",
    "- Lowest First\n",
    "- Highest First\n",
    "\n",
    "These will determine how tax lots are used to update the cost basis of a transaction portfolio when booking various transactions.\n",
    "Helpful KB articles:\n",
    "- [What are the supported tax-lot accounting methods in LUSID?](https://support.lusid.com/knowledgebase/article/KA-01886/en-us)\n",
    "- [How do I handle different tax lot accounting conventions?](https://support.lusid.com/knowledgebase/article/KA-01887/en-us)"
   ],
   "metadata": {
    "collapsed": false
   }
  },
  {
   "cell_type": "markdown",
   "source": [
    "## 1. Initial Setup\n",
    "This section will set up the parameters and methods used in section 2 to compare accounting methods."
   ],
   "metadata": {
    "collapsed": false,
    "pycharm": {
     "name": "#%% md\n"
    }
   }
  },
  {
   "cell_type": "code",
   "execution_count": 2,
   "outputs": [
    {
     "name": "stdout",
     "output_type": "stream",
     "text": [
      "LUSID Environment Initialised\n",
      "LUSID version :  0.6.10970.0\n"
     ]
    }
   ],
   "source": [
    "# Import LUSID\n",
    "import lusid\n",
    "import lusid.models as models\n",
    "import pandas as pd\n",
    "\n",
    "# Import Libraries\n",
    "import pytz\n",
    "from lusidjam import RefreshingToken\n",
    "import json\n",
    "import os\n",
    "from datetime import datetime\n",
    "\n",
    "# Authenticate our user and create our API client\n",
    "secrets_path = os.getenv(\"FBN_SECRETS_PATH\")\n",
    "\n",
    "pd.set_option('display.float_format', lambda x: f'{x:,.1f}')\n",
    "\n",
    "api_factory = lusid.utilities.ApiClientFactory(\n",
    "    token=RefreshingToken(),\n",
    "    api_secrets_filename = secrets_path,\n",
    "    app_name=\"LusidJupyterNotebook\")\n",
    "\n",
    "print('LUSID Environment Initialised')\n",
    "print('LUSID version : ', api_factory.build(lusid.api.ApplicationMetadataApi).get_lusid_versions().build_version)"
   ],
   "metadata": {
    "collapsed": false,
    "pycharm": {
     "name": "#%%\n"
    }
   }
  },
  {
   "cell_type": "markdown",
   "source": [],
   "metadata": {
    "collapsed": false
   }
  },
  {
   "cell_type": "code",
   "execution_count": 3,
   "outputs": [],
   "source": [
    "# Create necessary API factories\n",
    "transaction_portfolios_api = api_factory.build(lusid.api.TransactionPortfoliosApi)\n",
    "property_definitions_api = api_factory.build(lusid.api.PropertyDefinitionsApi)\n",
    "instruments_api = api_factory.build(lusid.api.InstrumentsApi)"
   ],
   "metadata": {
    "collapsed": false,
    "pycharm": {
     "name": "#%%\n"
    }
   }
  },
  {
   "cell_type": "markdown",
   "source": [
    "# 2. Loading our Data"
   ],
   "metadata": {
    "collapsed": false,
    "pycharm": {
     "name": "#%% md\n"
    }
   }
  },
  {
   "cell_type": "code",
   "execution_count": 4,
   "outputs": [
    {
     "data": {
      "text/plain": "  transaction_id     type           units  transaction_price transaction_date  \\\n0        txn_000  FundsIn  33,000,000,000                1.0       2020-03-04   \n1        txn_001      Buy       1,000,000               10.0       2020-03-05   \n2        txn_002      Buy      1,000,000                12.0       2020-03-06   \n3        txn_003      Buy       1,000,000               11.0       2020-03-07   \n4        txn_004     Sell       1,500,000               12.5       2020-03-08   \n\n  settlement_date total_consideration client_internal  \n0      2020-03-05      33,000,000,000        cash_USD  \n1      2020-03-08         10,000,000     example_inst  \n2      2020-03-09         12,000,000     example_inst  \n3      2020-03-10         11,000,000     example_inst  \n4      2020-03-11          18,750,000    example_inst  ",
      "text/html": "<div>\n<style scoped>\n    .dataframe tbody tr th:only-of-type {\n        vertical-align: middle;\n    }\n\n    .dataframe tbody tr th {\n        vertical-align: top;\n    }\n\n    .dataframe thead th {\n        text-align: right;\n    }\n</style>\n<table border=\"1\" class=\"dataframe\">\n  <thead>\n    <tr style=\"text-align: right;\">\n      <th></th>\n      <th>transaction_id</th>\n      <th>type</th>\n      <th>units</th>\n      <th>transaction_price</th>\n      <th>transaction_date</th>\n      <th>settlement_date</th>\n      <th>total_consideration</th>\n      <th>client_internal</th>\n    </tr>\n  </thead>\n  <tbody>\n    <tr>\n      <th>0</th>\n      <td>txn_000</td>\n      <td>FundsIn</td>\n      <td>33,000,000,000</td>\n      <td>1.0</td>\n      <td>2020-03-04</td>\n      <td>2020-03-05</td>\n      <td>33,000,000,000</td>\n      <td>cash_USD</td>\n    </tr>\n    <tr>\n      <th>1</th>\n      <td>txn_001</td>\n      <td>Buy</td>\n      <td>1,000,000</td>\n      <td>10.0</td>\n      <td>2020-03-05</td>\n      <td>2020-03-08</td>\n      <td>10,000,000</td>\n      <td>example_inst</td>\n    </tr>\n    <tr>\n      <th>2</th>\n      <td>txn_002</td>\n      <td>Buy</td>\n      <td>1,000,000</td>\n      <td>12.0</td>\n      <td>2020-03-06</td>\n      <td>2020-03-09</td>\n      <td>12,000,000</td>\n      <td>example_inst</td>\n    </tr>\n    <tr>\n      <th>3</th>\n      <td>txn_003</td>\n      <td>Buy</td>\n      <td>1,000,000</td>\n      <td>11.0</td>\n      <td>2020-03-07</td>\n      <td>2020-03-10</td>\n      <td>11,000,000</td>\n      <td>example_inst</td>\n    </tr>\n    <tr>\n      <th>4</th>\n      <td>txn_004</td>\n      <td>Sell</td>\n      <td>1,500,000</td>\n      <td>12.5</td>\n      <td>2020-03-08</td>\n      <td>2020-03-11</td>\n      <td>18,750,000</td>\n      <td>example_inst</td>\n    </tr>\n  </tbody>\n</table>\n</div>"
     },
     "execution_count": 4,
     "metadata": {},
     "output_type": "execute_result"
    }
   ],
   "source": [
    "# Specify scope and load data\n",
    "txns = pd.read_csv(\"data/taxlot_accounting_transactions.csv\").replace('T00:00:00.0000000\\+00:00','', regex=True)\n",
    "txns\n",
    "scope = \"taxlot_management_examplenb\"\n",
    "txns.drop('instrument_uid', axis=1)"
   ],
   "metadata": {
    "collapsed": false,
    "pycharm": {
     "name": "#%%\n"
    }
   }
  },
  {
   "cell_type": "markdown",
   "source": [
    "## 2.1 Create Portfolio\n",
    "When creating the transaction portfolio in LUSID we pass in a parameter of the accounting method type to determine how the tax lots are calculated. If not specified, **Average Cost** is the default method used."
   ],
   "metadata": {
    "collapsed": false,
    "pycharm": {
     "name": "#%% md\n"
    }
   }
  },
  {
   "cell_type": "code",
   "execution_count": 5,
   "outputs": [],
   "source": [
    "def create_upload_portfolio(name, accounting_method):\n",
    "    try:\n",
    "        created_date = \"2010-01-01T00:00:00.000000+00:00\"\n",
    "\n",
    "        # Create request body\n",
    "        portfolio_request = models.CreateTransactionPortfolioRequest(\n",
    "            display_name=f\"Tax Lot Management Example - {accounting_method}\",\n",
    "            code=name,\n",
    "            accounting_method=accounting_method,\n",
    "            base_currency=\"USD\",\n",
    "            created=created_date,\n",
    "        )\n",
    "\n",
    "        # Upload new portfolio to LUSID\n",
    "        response = transaction_portfolios_api.create_portfolio(\n",
    "            scope=scope, create_transaction_portfolio_request=portfolio_request\n",
    "        )\n",
    "\n",
    "        created = response.version.effective_from\n",
    "        print(\n",
    "        f\"portfolio '{response.id.code}', in scope {scope} created effective from: \"\n",
    "        f\"{created.year}/\"\n",
    "        f\"{created.month}/\"\n",
    "        f\"{created.day}\")\n",
    "    except lusid.ApiException as e:\n",
    "        print(json.loads(e.body)[\"title\"])"
   ],
   "metadata": {
    "collapsed": false,
    "pycharm": {
     "name": "#%%\n"
    }
   }
  },
  {
   "cell_type": "code",
   "execution_count": 6,
   "outputs": [
    {
     "name": "stdout",
     "output_type": "stream",
     "text": [
      "Could not create a portfolio with id 'tax-lot-avgcost' because it already exists in scope 'taxlot_management_examplenb'.\n",
      "Could not create a portfolio with id 'tax-lot-fifo' because it already exists in scope 'taxlot_management_examplenb'.\n",
      "Could not create a portfolio with id 'tax-lot-lifo' because it already exists in scope 'taxlot_management_examplenb'.\n",
      "Could not create a portfolio with id 'tax-lot-highestcost' because it already exists in scope 'taxlot_management_examplenb'.\n",
      "Could not create a portfolio with id 'tax-lot-lowestcost' because it already exists in scope 'taxlot_management_examplenb'.\n"
     ]
    }
   ],
   "source": [
    "portfolio_name_avg = \"tax-lot-avgcost\"\n",
    "create_upload_portfolio(portfolio_name_avg, \"AverageCost\")\n",
    "\n",
    "portfolio_name_fifo = \"tax-lot-fifo\"\n",
    "create_upload_portfolio(portfolio_name_fifo, \"FirstInFirstOut\")\n",
    "\n",
    "portfolio_name_lifo = \"tax-lot-lifo\"\n",
    "create_upload_portfolio(portfolio_name_lifo, \"LastInFirstOut\")\n",
    "\n",
    "portfolio_name_high = \"tax-lot-highestcost\"\n",
    "create_upload_portfolio(portfolio_name_high, \"HighestCostFirst\")\n",
    "\n",
    "portfolio_name_low = \"tax-lot-lowestcost\"\n",
    "create_upload_portfolio(portfolio_name_low, \"LowestCostFirst\")"
   ],
   "metadata": {
    "collapsed": false,
    "pycharm": {
     "name": "#%%\n"
    }
   }
  },
  {
   "cell_type": "markdown",
   "source": [
    "## 2.2 Create Instruments"
   ],
   "metadata": {
    "collapsed": false,
    "pycharm": {
     "name": "#%% md\n"
    }
   }
  },
  {
   "cell_type": "code",
   "execution_count": 7,
   "outputs": [],
   "source": [
    "# Create instrument\n",
    "instr_name=  \"Example Instrument\"\n",
    "client_internal = \"example_inst\"\n",
    "ticker= \"XMPL\"\n",
    "\n",
    "batch_upsert_request = {\n",
    "    \"Example_Equity\": models.InstrumentDefinition(\n",
    "        name=instr_name,\n",
    "        identifiers={ \"ClientInternal\": models.InstrumentIdValue(value=client_internal),\n",
    "                      \"Ticker\": models.InstrumentIdValue(value=ticker)},\n",
    "    )\n",
    "}\n",
    "\n",
    "# Upsert new instruments to LUSID\n",
    "instrument_response = instruments_api.upsert_instruments(\n",
    "    request_body=batch_upsert_request\n",
    ")\n",
    "\n",
    "# Check response was successful\n",
    "if len(instrument_response.failed) > 0:\n",
    "    raise AssertionError(\"Instruments upsert failed. Inspect response for more detail\")"
   ],
   "metadata": {
    "collapsed": false,
    "pycharm": {
     "name": "#%%\n"
    }
   }
  },
  {
   "cell_type": "markdown",
   "source": [
    "## 2.3 Upload Transactions"
   ],
   "metadata": {
    "collapsed": false,
    "pycharm": {
     "name": "#%% md\n"
    }
   }
  },
  {
   "cell_type": "code",
   "execution_count": 8,
   "outputs": [],
   "source": [
    "def upload_transactions_to_portfolio(portfolio_name, transactions):\n",
    "    # Upsert transactions\n",
    "    transactions_request = []\n",
    "    txn_response = []\n",
    "\n",
    "    for row, transactions in txns.iterrows():\n",
    "\n",
    "        if transactions[\"client_internal\"].startswith(\"cash\"):\n",
    "            instrument_identifier = {\"Instrument/default/Currency\": \"USD\"}\n",
    "\n",
    "        else:\n",
    "            instrument_identifier = {\n",
    "                    \"Instrument/default/ClientInternal\": transactions[\"client_internal\"]\n",
    "                }\n",
    "\n",
    "        # Build request body\n",
    "        transactions_request.append(\n",
    "            models.TransactionRequest(\n",
    "                transaction_id=transactions[\"transaction_id\"],\n",
    "                type=transactions[\"type\"],\n",
    "                instrument_identifiers=instrument_identifier,\n",
    "                transaction_date=transactions[\"transaction_date\"],\n",
    "                settlement_date=transactions[\"settlement_date\"],\n",
    "                units=transactions[\"units\"],\n",
    "                transaction_price=models.TransactionPrice(price=transactions[\"transaction_price\"], type=\"Price\"),\n",
    "                total_consideration=models.CurrencyAndAmount(\n",
    "                    amount=transactions[\"total_consideration\"], currency=\"USD\"\n",
    "                ),\n",
    "            )\n",
    "        )\n",
    "\n",
    "        # Make upsert transactions call to LUSID\n",
    "        txn_response.append(\n",
    "            transaction_portfolios_api.upsert_transactions(\n",
    "                scope=scope, code=portfolio_name, transaction_request=transactions_request\n",
    "            )\n",
    "        )\n",
    "\n",
    "    print(f\"{len(txn_response)} transactions upserted to protfolio: {portfolio_name}\")"
   ],
   "metadata": {
    "collapsed": false,
    "pycharm": {
     "name": "#%%\n"
    }
   }
  },
  {
   "cell_type": "code",
   "execution_count": 9,
   "outputs": [
    {
     "name": "stdout",
     "output_type": "stream",
     "text": [
      "5 transactions upserted to protfolio: tax-lot-avgcost\n",
      "5 transactions upserted to protfolio: tax-lot-fifo\n",
      "5 transactions upserted to protfolio: tax-lot-lifo\n",
      "5 transactions upserted to protfolio: tax-lot-highestcost\n",
      "5 transactions upserted to protfolio: tax-lot-lowestcost\n"
     ]
    }
   ],
   "source": [
    "upload_transactions_to_portfolio(portfolio_name_avg, txns)\n",
    "upload_transactions_to_portfolio(portfolio_name_fifo, txns)\n",
    "upload_transactions_to_portfolio(portfolio_name_lifo, txns)\n",
    "upload_transactions_to_portfolio(portfolio_name_high, txns)\n",
    "upload_transactions_to_portfolio(portfolio_name_low, txns)"
   ],
   "metadata": {
    "collapsed": false,
    "pycharm": {
     "name": "#%%\n"
    }
   }
  },
  {
   "cell_type": "code",
   "execution_count": 10,
   "outputs": [
    {
     "data": {
      "text/plain": "  transaction_id     type           units  transaction_price transaction_date  \\\n0        txn_000  FundsIn  33,000,000,000                1.0       2020-03-04   \n1        txn_001      Buy       1,000,000               10.0       2020-03-05   \n2        txn_002      Buy      1,000,000                12.0       2020-03-06   \n3        txn_003      Buy       1,000,000               11.0       2020-03-07   \n4        txn_004     Sell       1,500,000               12.5       2020-03-08   \n\n  settlement_date total_consideration client_internal  \n0      2020-03-05      33,000,000,000        cash_USD  \n1      2020-03-08         10,000,000     example_inst  \n2      2020-03-09         12,000,000     example_inst  \n3      2020-03-10         11,000,000     example_inst  \n4      2020-03-11          18,750,000    example_inst  ",
      "text/html": "<div>\n<style scoped>\n    .dataframe tbody tr th:only-of-type {\n        vertical-align: middle;\n    }\n\n    .dataframe tbody tr th {\n        vertical-align: top;\n    }\n\n    .dataframe thead th {\n        text-align: right;\n    }\n</style>\n<table border=\"1\" class=\"dataframe\">\n  <thead>\n    <tr style=\"text-align: right;\">\n      <th></th>\n      <th>transaction_id</th>\n      <th>type</th>\n      <th>units</th>\n      <th>transaction_price</th>\n      <th>transaction_date</th>\n      <th>settlement_date</th>\n      <th>total_consideration</th>\n      <th>client_internal</th>\n    </tr>\n  </thead>\n  <tbody>\n    <tr>\n      <th>0</th>\n      <td>txn_000</td>\n      <td>FundsIn</td>\n      <td>33,000,000,000</td>\n      <td>1.0</td>\n      <td>2020-03-04</td>\n      <td>2020-03-05</td>\n      <td>33,000,000,000</td>\n      <td>cash_USD</td>\n    </tr>\n    <tr>\n      <th>1</th>\n      <td>txn_001</td>\n      <td>Buy</td>\n      <td>1,000,000</td>\n      <td>10.0</td>\n      <td>2020-03-05</td>\n      <td>2020-03-08</td>\n      <td>10,000,000</td>\n      <td>example_inst</td>\n    </tr>\n    <tr>\n      <th>2</th>\n      <td>txn_002</td>\n      <td>Buy</td>\n      <td>1,000,000</td>\n      <td>12.0</td>\n      <td>2020-03-06</td>\n      <td>2020-03-09</td>\n      <td>12,000,000</td>\n      <td>example_inst</td>\n    </tr>\n    <tr>\n      <th>3</th>\n      <td>txn_003</td>\n      <td>Buy</td>\n      <td>1,000,000</td>\n      <td>11.0</td>\n      <td>2020-03-07</td>\n      <td>2020-03-10</td>\n      <td>11,000,000</td>\n      <td>example_inst</td>\n    </tr>\n    <tr>\n      <th>4</th>\n      <td>txn_004</td>\n      <td>Sell</td>\n      <td>1,500,000</td>\n      <td>12.5</td>\n      <td>2020-03-08</td>\n      <td>2020-03-11</td>\n      <td>18,750,000</td>\n      <td>example_inst</td>\n    </tr>\n  </tbody>\n</table>\n</div>"
     },
     "execution_count": 10,
     "metadata": {},
     "output_type": "execute_result"
    }
   ],
   "source": [
    "# Show transactions in chronological order\n",
    "txns.sort_values('transaction_date',ascending=True).drop('instrument_uid', axis=1).replace(\"T00:00:00.0000000+00:00\",\"\")"
   ],
   "metadata": {
    "collapsed": false,
    "pycharm": {
     "name": "#%%\n"
    }
   }
  },
  {
   "cell_type": "markdown",
   "source": [
    "# 3. Cost Basis Comparison\n",
    "Holdings before our sell transaction show the three distinct tax lots and corresponding transactions. We can see that each tax lot has a distinct cost basis based on the transaction price and total consideration of each transaction.\n",
    "\n",
    "When calling `get_holdings()` in the `display_holding_positions_by_taxlot` method, setting the flag `by_taxlots=true` returns the holdings seperated by tax lots - as seen by running the next cell below."
   ],
   "metadata": {
    "collapsed": false,
    "pycharm": {
     "name": "#%% md\n"
    }
   }
  },
  {
   "cell_type": "code",
   "execution_count": 11,
   "outputs": [],
   "source": [
    "# Prints quick summary from a get_holdings() response of positions for a given effective_at date broken down by tax lots\n",
    "def display_holding_positions_by_taxlot(effective_at, portfolio_name, show_taxlots = True):\n",
    "    # Get holdings\n",
    "    response = transaction_portfolios_api.get_holdings(\n",
    "    scope=scope,\n",
    "    code=portfolio_name,\n",
    "    effective_at = effective_at.isoformat(),\n",
    "    property_keys=[\"Instrument/default/Name\"],\n",
    "    by_taxlots=show_taxlots\n",
    "    )\n",
    "\n",
    "    # Inspect holdings response for the given effective_at day\n",
    "    hld = [i for i in response.values]\n",
    "\n",
    "    names = []\n",
    "    cost = []\n",
    "    units = []\n",
    "    txnid = []\n",
    "    pchprice = []\n",
    "    pchdate = []\n",
    "\n",
    "    for item in hld:\n",
    "        if item.holding_type_name == \"Position\":\n",
    "            names.append(item.properties[\"Instrument/default/Name\"].value.label_value)\n",
    "            cost.append(item.cost.amount)\n",
    "            units.append(item.units)\n",
    "            if show_taxlots:\n",
    "                txnid.append(item.properties[\"Holding/default/TaxlotId\"].value.label_value)\n",
    "                pchprice.append(item.properties[\"Holding/default/TaxlotPurchasePrice\"].value.metric_value.value)\n",
    "                pchdate.append(item.properties[\"Holding/default/TaxlotPurchaseDate\"].value.label_value.replace(\"T00:00:00.0000000+00:00\",\"\"))\n",
    "\n",
    "    data = {\"cost_basis\": cost, \"units\": units}\n",
    "    if show_taxlots:\n",
    "        data = {\"transaction_id\": txnid, **data , \"purchase_price\":pchprice, \"purchase_date\":pchdate}\n",
    "\n",
    "    summary = pd.DataFrame(data=data, index=names)\n",
    "    return summary"
   ],
   "metadata": {
    "collapsed": false,
    "pycharm": {
     "name": "#%%\n"
    }
   }
  },
  {
   "cell_type": "code",
   "execution_count": 12,
   "outputs": [
    {
     "data": {
      "text/plain": "                   transaction_id   cost_basis       units  purchase_price  \\\nExample Instrument        txn_001 10,000,000.0 1,000,000.0            10.0   \nExample Instrument        txn_002 12,000,000.0 1,000,000.0            12.0   \nExample Instrument        txn_003 11,000,000.0 1,000,000.0            11.0   \n\n                   purchase_date  \nExample Instrument    2020-03-05  \nExample Instrument    2020-03-06  \nExample Instrument    2020-03-07  ",
      "text/html": "<div>\n<style scoped>\n    .dataframe tbody tr th:only-of-type {\n        vertical-align: middle;\n    }\n\n    .dataframe tbody tr th {\n        vertical-align: top;\n    }\n\n    .dataframe thead th {\n        text-align: right;\n    }\n</style>\n<table border=\"1\" class=\"dataframe\">\n  <thead>\n    <tr style=\"text-align: right;\">\n      <th></th>\n      <th>transaction_id</th>\n      <th>cost_basis</th>\n      <th>units</th>\n      <th>purchase_price</th>\n      <th>purchase_date</th>\n    </tr>\n  </thead>\n  <tbody>\n    <tr>\n      <th>Example Instrument</th>\n      <td>txn_001</td>\n      <td>10,000,000.0</td>\n      <td>1,000,000.0</td>\n      <td>10.0</td>\n      <td>2020-03-05</td>\n    </tr>\n    <tr>\n      <th>Example Instrument</th>\n      <td>txn_002</td>\n      <td>12,000,000.0</td>\n      <td>1,000,000.0</td>\n      <td>12.0</td>\n      <td>2020-03-06</td>\n    </tr>\n    <tr>\n      <th>Example Instrument</th>\n      <td>txn_003</td>\n      <td>11,000,000.0</td>\n      <td>1,000,000.0</td>\n      <td>11.0</td>\n      <td>2020-03-07</td>\n    </tr>\n  </tbody>\n</table>\n</div>"
     },
     "execution_count": 12,
     "metadata": {},
     "output_type": "execute_result"
    }
   ],
   "source": [
    "display_holding_positions_by_taxlot(datetime(year=2020, month=3, day=7, tzinfo=pytz.UTC), portfolio_name_fifo)"
   ],
   "metadata": {
    "collapsed": false,
    "pycharm": {
     "name": "#%%\n"
    }
   }
  },
  {
   "cell_type": "markdown",
   "source": [
    "The following sections will look at the final holdings positions for portfolios using 5 different accounting methods after 1,500,000 units have been sold in a single sell transaction.\n",
    "\n",
    "## 3.1 Average Cost\n",
    "Average cost uses the average price of the final holdings of our portfolios which, in this example, is $ \\frac{33,000,000}{3,000,000} = 11.$\n",
    "When using the **Average Cost** method, our cost basis is averaged across all transactions. Splitting out our holdings by tax lot is thus not applicable. The total cost basis after the sale will be calculated as $11 \\times 1,500,000 = 16,500,000$.\n",
    "**Average Cost** is the default accounting method for a portfolio created in LUSID."
   ],
   "metadata": {
    "collapsed": false
   }
  },
  {
   "cell_type": "code",
   "execution_count": 13,
   "outputs": [
    {
     "data": {
      "text/plain": "                     cost_basis       units\nExample Instrument 16,500,000.0 1,500,000.0",
      "text/html": "<div>\n<style scoped>\n    .dataframe tbody tr th:only-of-type {\n        vertical-align: middle;\n    }\n\n    .dataframe tbody tr th {\n        vertical-align: top;\n    }\n\n    .dataframe thead th {\n        text-align: right;\n    }\n</style>\n<table border=\"1\" class=\"dataframe\">\n  <thead>\n    <tr style=\"text-align: right;\">\n      <th></th>\n      <th>cost_basis</th>\n      <th>units</th>\n    </tr>\n  </thead>\n  <tbody>\n    <tr>\n      <th>Example Instrument</th>\n      <td>16,500,000.0</td>\n      <td>1,500,000.0</td>\n    </tr>\n  </tbody>\n</table>\n</div>"
     },
     "execution_count": 13,
     "metadata": {},
     "output_type": "execute_result"
    }
   ],
   "source": [
    "display_holding_positions_by_taxlot(datetime(year=2020, month=3, day=14, tzinfo=pytz.UTC), portfolio_name_avg, show_taxlots=False)"
   ],
   "metadata": {
    "collapsed": false,
    "pycharm": {
     "name": "#%%\n"
    }
   }
  },
  {
   "cell_type": "markdown",
   "source": [
    "## 3.2 First In First Out (FIFO)\n",
    "Using FIFO, our first tax lot (all 1,000,000 units coming from `txn_001`) will be sold, while half of our second tax lot (500,000 units coming from `txn_002`) will be sold.  Below we show the remaining holdings with 500,000 units bought in `txn_002` and all the units bought in `txn_003` in separate tax lots."
   ],
   "metadata": {
    "collapsed": false
   }
  },
  {
   "cell_type": "code",
   "execution_count": 14,
   "outputs": [
    {
     "data": {
      "text/plain": "                   transaction_id   cost_basis       units  purchase_price  \\\nExample Instrument        txn_002  6,000,000.0   500,000.0            12.0   \nExample Instrument        txn_003 11,000,000.0 1,000,000.0            11.0   \n\n                   purchase_date  \nExample Instrument    2020-03-06  \nExample Instrument    2020-03-07  ",
      "text/html": "<div>\n<style scoped>\n    .dataframe tbody tr th:only-of-type {\n        vertical-align: middle;\n    }\n\n    .dataframe tbody tr th {\n        vertical-align: top;\n    }\n\n    .dataframe thead th {\n        text-align: right;\n    }\n</style>\n<table border=\"1\" class=\"dataframe\">\n  <thead>\n    <tr style=\"text-align: right;\">\n      <th></th>\n      <th>transaction_id</th>\n      <th>cost_basis</th>\n      <th>units</th>\n      <th>purchase_price</th>\n      <th>purchase_date</th>\n    </tr>\n  </thead>\n  <tbody>\n    <tr>\n      <th>Example Instrument</th>\n      <td>txn_002</td>\n      <td>6,000,000.0</td>\n      <td>500,000.0</td>\n      <td>12.0</td>\n      <td>2020-03-06</td>\n    </tr>\n    <tr>\n      <th>Example Instrument</th>\n      <td>txn_003</td>\n      <td>11,000,000.0</td>\n      <td>1,000,000.0</td>\n      <td>11.0</td>\n      <td>2020-03-07</td>\n    </tr>\n  </tbody>\n</table>\n</div>"
     },
     "execution_count": 14,
     "metadata": {},
     "output_type": "execute_result"
    }
   ],
   "source": [
    "display_holding_positions_by_taxlot(datetime(year=2020, month=3, day=14, tzinfo=pytz.UTC), portfolio_name_fifo)"
   ],
   "metadata": {
    "collapsed": false,
    "pycharm": {
     "name": "#%%\n"
    }
   }
  },
  {
   "cell_type": "markdown",
   "source": [
    "## 3.3 Last In Last Out (LIFO)\n",
    "Using LIFO, our first tax lot (all 1,000,000 units coming from `txn_003`) will be fully sold, while half of our second tax lot (500,000 units coming from `txn_002`) will be sold.\n",
    "The difference in the cost basis compared to the **FIFO** method is due to the difference in total consideration between `txn_001` and `txn_003`."
   ],
   "metadata": {
    "collapsed": false
   }
  },
  {
   "cell_type": "code",
   "execution_count": 15,
   "outputs": [
    {
     "data": {
      "text/plain": "                   transaction_id   cost_basis       units  purchase_price  \\\nExample Instrument        txn_001 10,000,000.0 1,000,000.0            10.0   \nExample Instrument        txn_002  6,000,000.0   500,000.0            12.0   \n\n                   purchase_date  \nExample Instrument    2020-03-05  \nExample Instrument    2020-03-06  ",
      "text/html": "<div>\n<style scoped>\n    .dataframe tbody tr th:only-of-type {\n        vertical-align: middle;\n    }\n\n    .dataframe tbody tr th {\n        vertical-align: top;\n    }\n\n    .dataframe thead th {\n        text-align: right;\n    }\n</style>\n<table border=\"1\" class=\"dataframe\">\n  <thead>\n    <tr style=\"text-align: right;\">\n      <th></th>\n      <th>transaction_id</th>\n      <th>cost_basis</th>\n      <th>units</th>\n      <th>purchase_price</th>\n      <th>purchase_date</th>\n    </tr>\n  </thead>\n  <tbody>\n    <tr>\n      <th>Example Instrument</th>\n      <td>txn_001</td>\n      <td>10,000,000.0</td>\n      <td>1,000,000.0</td>\n      <td>10.0</td>\n      <td>2020-03-05</td>\n    </tr>\n    <tr>\n      <th>Example Instrument</th>\n      <td>txn_002</td>\n      <td>6,000,000.0</td>\n      <td>500,000.0</td>\n      <td>12.0</td>\n      <td>2020-03-06</td>\n    </tr>\n  </tbody>\n</table>\n</div>"
     },
     "execution_count": 15,
     "metadata": {},
     "output_type": "execute_result"
    }
   ],
   "source": [
    "display_holding_positions_by_taxlot(datetime(year=2020, month=3, day=14, tzinfo=pytz.UTC), portfolio_name_lifo)"
   ],
   "metadata": {
    "collapsed": false,
    "pycharm": {
     "name": "#%%\n"
    }
   }
  },
  {
   "cell_type": "markdown",
   "source": [
    "## 3.4 Highest First\n",
    "Using Highest First, the equities with the highest transaction price will be sold first. So in the sell transaction of 1,500,000 units, 1,000,000 units of equities from `txn_002` and 500,000 units of `txn_003`. All units from `txn_001` and 500,000 units from `txn_003` remain in the cost basis as shown in the display below."
   ],
   "metadata": {
    "collapsed": false,
    "pycharm": {
     "name": "#%% md\n"
    }
   }
  },
  {
   "cell_type": "code",
   "execution_count": 16,
   "outputs": [
    {
     "data": {
      "text/plain": "                   transaction_id   cost_basis       units  purchase_price  \\\nExample Instrument        txn_001 10,000,000.0 1,000,000.0            10.0   \nExample Instrument        txn_003  5,500,000.0   500,000.0            11.0   \n\n                   purchase_date  \nExample Instrument    2020-03-05  \nExample Instrument    2020-03-07  ",
      "text/html": "<div>\n<style scoped>\n    .dataframe tbody tr th:only-of-type {\n        vertical-align: middle;\n    }\n\n    .dataframe tbody tr th {\n        vertical-align: top;\n    }\n\n    .dataframe thead th {\n        text-align: right;\n    }\n</style>\n<table border=\"1\" class=\"dataframe\">\n  <thead>\n    <tr style=\"text-align: right;\">\n      <th></th>\n      <th>transaction_id</th>\n      <th>cost_basis</th>\n      <th>units</th>\n      <th>purchase_price</th>\n      <th>purchase_date</th>\n    </tr>\n  </thead>\n  <tbody>\n    <tr>\n      <th>Example Instrument</th>\n      <td>txn_001</td>\n      <td>10,000,000.0</td>\n      <td>1,000,000.0</td>\n      <td>10.0</td>\n      <td>2020-03-05</td>\n    </tr>\n    <tr>\n      <th>Example Instrument</th>\n      <td>txn_003</td>\n      <td>5,500,000.0</td>\n      <td>500,000.0</td>\n      <td>11.0</td>\n      <td>2020-03-07</td>\n    </tr>\n  </tbody>\n</table>\n</div>"
     },
     "execution_count": 16,
     "metadata": {},
     "output_type": "execute_result"
    }
   ],
   "source": [
    "display_holding_positions_by_taxlot(datetime(year=2020, month=3, day=14, tzinfo=pytz.UTC), portfolio_name_high)"
   ],
   "metadata": {
    "collapsed": false,
    "pycharm": {
     "name": "#%%\n"
    }
   }
  },
  {
   "cell_type": "markdown",
   "source": [
    "## 3.5 Lowest First\n",
    "Using Lowest First, the equities with the lowest transaction price will be sold first. So in the sell transaction of 1,500,000 units,  1,000,000 of the equities in `txn_001` and 500,000 units of `txn_003`. All units from `txn_002` and 500,000 units from `txn_003` remain in the cost basis as shown in the display below.\n",
    "The difference in the cost basis compared to the **Highest First** method is due to the difference in total consideration between `txn_001` and `txn_003`."
   ],
   "metadata": {
    "collapsed": false
   }
  },
  {
   "cell_type": "code",
   "execution_count": 17,
   "outputs": [
    {
     "data": {
      "text/plain": "                   transaction_id   cost_basis       units  purchase_price  \\\nExample Instrument        txn_002 12,000,000.0 1,000,000.0            12.0   \nExample Instrument        txn_003  5,500,000.0   500,000.0            11.0   \n\n                   purchase_date  \nExample Instrument    2020-03-06  \nExample Instrument    2020-03-07  ",
      "text/html": "<div>\n<style scoped>\n    .dataframe tbody tr th:only-of-type {\n        vertical-align: middle;\n    }\n\n    .dataframe tbody tr th {\n        vertical-align: top;\n    }\n\n    .dataframe thead th {\n        text-align: right;\n    }\n</style>\n<table border=\"1\" class=\"dataframe\">\n  <thead>\n    <tr style=\"text-align: right;\">\n      <th></th>\n      <th>transaction_id</th>\n      <th>cost_basis</th>\n      <th>units</th>\n      <th>purchase_price</th>\n      <th>purchase_date</th>\n    </tr>\n  </thead>\n  <tbody>\n    <tr>\n      <th>Example Instrument</th>\n      <td>txn_002</td>\n      <td>12,000,000.0</td>\n      <td>1,000,000.0</td>\n      <td>12.0</td>\n      <td>2020-03-06</td>\n    </tr>\n    <tr>\n      <th>Example Instrument</th>\n      <td>txn_003</td>\n      <td>5,500,000.0</td>\n      <td>500,000.0</td>\n      <td>11.0</td>\n      <td>2020-03-07</td>\n    </tr>\n  </tbody>\n</table>\n</div>"
     },
     "execution_count": 17,
     "metadata": {},
     "output_type": "execute_result"
    }
   ],
   "source": [
    "display_holding_positions_by_taxlot(datetime(year=2020, month=3, day=14, tzinfo=pytz.UTC), portfolio_name_low)"
   ],
   "metadata": {
    "collapsed": false,
    "pycharm": {
     "name": "#%%\n"
    }
   }
  }
 ],
 "metadata": {
  "kernelspec": {
   "display_name": "Python 3",
   "language": "python",
   "name": "python3"
  },
  "language_info": {
   "codemirror_mode": {
    "name": "ipython",
    "version": 2
   },
   "file_extension": ".py",
   "mimetype": "text/x-python",
   "name": "python",
   "nbconvert_exporter": "python",
   "pygments_lexer": "ipython2",
   "version": "2.7.6"
  }
 },
 "nbformat": 4,
 "nbformat_minor": 0
}