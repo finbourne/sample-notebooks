{
 "cells": [
  {
   "cell_type": "code",
   "execution_count": 17,
   "metadata": {
    "pycharm": {
     "name": "#%%\n"
    }
   },
   "outputs": [
    {
     "data": {
      "text/plain": "<IPython.core.display.HTML object>",
      "text/html": "\n    <form action=\"javascript:code_toggle()\"><input type=\"submit\" id=\"toggleButton\" value=\"Toggle Docstring\"></form>\n    \n         <script>\n         function code_toggle() {\n             if ($('div.cell.code_cell.rendered.selected div.input').css('display')!='none'){\n                 $('div.cell.code_cell.rendered.selected div.input').hide();\n             } else {\n                 $('div.cell.code_cell.rendered.selected div.input').show();\n             }\n         }\n         </script>\n\n     "
     },
     "metadata": {},
     "output_type": "display_data"
    }
   ],
   "source": [
    "from lusidtools.jupyter_tools import toggle_code\n",
    "from IPython.core.display import HTML\n",
    "\n",
    "\"\"\" Creating portfolios with different tax lot management methods\n",
    "\n",
    "This notebook demonstrates how to create transaction portfolios under different tax lot accounting methodologies.\n",
    "\n",
    "Attributes\n",
    "----------\n",
    "transactions\n",
    "holdings\n",
    "taxlots\n",
    "accounting\n",
    "\"\"\"\n",
    "\n",
    "toggle_code(\"Toggle Docstring\")"
   ]
  },
  {
   "cell_type": "markdown",
   "metadata": {},
   "source": [
    "# Tax Lot Management"
   ]
  },
  {
   "cell_type": "markdown",
   "metadata": {},
   "source": [
    "Contents: \n",
    "\n",
    "* [1. Initial Setup](#1.-Initial-Setup)\n",
    "* [2. Loading our Data](#2.-Loading-our-Data)\n",
    "    * [2.1 Create Portfolio](#2.1-Create-Portfolio)\n",
    "    * [2.2 Create Instruments](#2.2-Create-Instruments)\n",
    "    * [2.3 Upload Transactions](#2.3-Upload-Transactions)\n",
    "* [3. Cost Basis Comparison](#3.-Cost-Basis-Comparison)\n",
    "    * [3.1 Average Cost](#3.1-Average-Cost)\n",
    "    * [3.2 First In First Out](#3.2-First-In-First-Out-(FIFO)) \n",
    "    * [3.3 Last In Last Out](#3.3-Last-In-Last-Out-(LIFO))\n",
    "    * [3.4 Highest First](#3.4-Highest-First) \n",
    "    * [3.5 Lowest First](#3.5-Lowest-First)"
   ]
  },
  {
   "cell_type": "markdown",
   "metadata": {},
   "source": [
    "\n",
    "Portfolios in LUSID can be created using any of the following tax lot accounting methods:\n",
    "- Average Cost (default in LUSID)\n",
    "- First In First Out (FIFO)\n",
    "- Last In First Out (LIFO)\n",
    "- Lowest First\n",
    "- Highest First\n",
    "\n",
    "These will determine how tax lots are used to update the cost basis of a transaction portfolio when booking various transactions.\n",
    "Helpful KB articles:\n",
    "- [What are the supported tax-lot accounting methods in LUSID?](https://support.lusid.com/knowledgebase/article/KA-01886/en-us)\n",
    "- [How do I handle different tax lot accounting conventions?](https://support.lusid.com/knowledgebase/article/KA-01887/en-us)"
   ]
  },
  {
   "cell_type": "markdown",
   "metadata": {
    "pycharm": {
     "name": "#%% md\n"
    }
   },
   "source": [
    "## 1. Initial Setup<a name=\"initialsetup\"></a>\n",
    "This section will set up the parameters and methods used in section 2, to compare accounting methods."
   ]
  },
  {
   "cell_type": "code",
   "execution_count": 18,
   "metadata": {
    "pycharm": {
     "name": "#%%\n"
    }
   },
   "outputs": [
    {
     "name": "stdout",
     "output_type": "stream",
     "text": [
      "LUSID Environment Initialised\n",
      "LUSID version :  0.6.11051.0\n"
     ]
    }
   ],
   "source": [
    "# Import LUSID\n",
    "import lusid\n",
    "import lusid.models as models\n",
    "import pandas as pd\n",
    "\n",
    "# Import Libraries\n",
    "import pytz\n",
    "from lusidjam import RefreshingToken\n",
    "import json\n",
    "import os\n",
    "from datetime import datetime\n",
    "from dateutil.parser import parse\n",
    "\n",
    "# Authenticate our user and create our API client\n",
    "secrets_path = os.getenv(\"FBN_SECRETS_PATH\")\n",
    "\n",
    "pd.set_option('display.float_format', lambda x: f'{x:,.1f}')\n",
    "\n",
    "api_factory = lusid.utilities.ApiClientFactory(\n",
    "    token=RefreshingToken(),\n",
    "    api_secrets_filename = secrets_path,\n",
    "    app_name=\"LusidJupyterNotebook\")\n",
    "\n",
    "print('LUSID Environment Initialised')\n",
    "print('LUSID version : ', api_factory.build(lusid.api.ApplicationMetadataApi).get_lusid_versions().build_version)"
   ]
  },
  {
   "cell_type": "code",
   "execution_count": 19,
   "metadata": {
    "pycharm": {
     "name": "#%%\n"
    }
   },
   "outputs": [],
   "source": [
    "# Create necessary API factories\n",
    "transaction_portfolios_api = api_factory.build(lusid.api.TransactionPortfoliosApi)\n",
    "derived_portfolios_api = api_factory.build(lusid.api.DerivedTransactionPortfoliosApi)\n",
    "property_definitions_api = api_factory.build(lusid.api.PropertyDefinitionsApi)\n",
    "instruments_api = api_factory.build(lusid.api.InstrumentsApi)"
   ]
  },
  {
   "cell_type": "markdown",
   "metadata": {
    "pycharm": {
     "name": "#%% md\n"
    }
   },
   "source": [
    "# 2. Loading our Data<a name = \"loading-our-data\"></a>"
   ]
  },
  {
   "cell_type": "code",
   "execution_count": 20,
   "metadata": {
    "pycharm": {
     "name": "#%%\n"
    }
   },
   "outputs": [
    {
     "data": {
      "text/plain": "  transaction_id     type        units  transaction_price transaction_date  \\\n0        txn_000  FundsIn   33,000,000                1.0       2020-03-04   \n1        txn_001      Buy    1,000,000               10.0       2020-03-05   \n2        txn_002      Buy   1,000,000                12.0       2020-03-06   \n3        txn_003      Buy    1,000,000               11.0       2020-03-07   \n4        txn_004     Sell    1,500,000               12.5       2020-03-08   \n\n  settlement_date total_consideration client_internal  \n0      2020-03-05      33,000,000,000        cash_USD  \n1      2020-03-08         10,000,000     example_inst  \n2      2020-03-09         12,000,000     example_inst  \n3      2020-03-10         11,000,000     example_inst  \n4      2020-03-11          18,750,000    example_inst  ",
      "text/html": "<div>\n<style scoped>\n    .dataframe tbody tr th:only-of-type {\n        vertical-align: middle;\n    }\n\n    .dataframe tbody tr th {\n        vertical-align: top;\n    }\n\n    .dataframe thead th {\n        text-align: right;\n    }\n</style>\n<table border=\"1\" class=\"dataframe\">\n  <thead>\n    <tr style=\"text-align: right;\">\n      <th></th>\n      <th>transaction_id</th>\n      <th>type</th>\n      <th>units</th>\n      <th>transaction_price</th>\n      <th>transaction_date</th>\n      <th>settlement_date</th>\n      <th>total_consideration</th>\n      <th>client_internal</th>\n    </tr>\n  </thead>\n  <tbody>\n    <tr>\n      <th>0</th>\n      <td>txn_000</td>\n      <td>FundsIn</td>\n      <td>33,000,000</td>\n      <td>1.0</td>\n      <td>2020-03-04</td>\n      <td>2020-03-05</td>\n      <td>33,000,000,000</td>\n      <td>cash_USD</td>\n    </tr>\n    <tr>\n      <th>1</th>\n      <td>txn_001</td>\n      <td>Buy</td>\n      <td>1,000,000</td>\n      <td>10.0</td>\n      <td>2020-03-05</td>\n      <td>2020-03-08</td>\n      <td>10,000,000</td>\n      <td>example_inst</td>\n    </tr>\n    <tr>\n      <th>2</th>\n      <td>txn_002</td>\n      <td>Buy</td>\n      <td>1,000,000</td>\n      <td>12.0</td>\n      <td>2020-03-06</td>\n      <td>2020-03-09</td>\n      <td>12,000,000</td>\n      <td>example_inst</td>\n    </tr>\n    <tr>\n      <th>3</th>\n      <td>txn_003</td>\n      <td>Buy</td>\n      <td>1,000,000</td>\n      <td>11.0</td>\n      <td>2020-03-07</td>\n      <td>2020-03-10</td>\n      <td>11,000,000</td>\n      <td>example_inst</td>\n    </tr>\n    <tr>\n      <th>4</th>\n      <td>txn_004</td>\n      <td>Sell</td>\n      <td>1,500,000</td>\n      <td>12.5</td>\n      <td>2020-03-08</td>\n      <td>2020-03-11</td>\n      <td>18,750,000</td>\n      <td>example_inst</td>\n    </tr>\n  </tbody>\n</table>\n</div>"
     },
     "execution_count": 20,
     "metadata": {},
     "output_type": "execute_result"
    }
   ],
   "source": [
    "# Specify scope and load data\n",
    "txns = pd.read_csv(\"data/taxlot_accounting_transactions.csv\",parse_dates=['transaction_date','settlement_date'], date_parser = lambda x : parse(x).strftime('%Y-%m-%d'))\n",
    "scope = \"taxlot_management_examplenb\"\n",
    "txns.drop('instrument_uid', axis=1)"
   ]
  },
  {
   "cell_type": "markdown",
   "metadata": {
    "pycharm": {
     "name": "#%% md\n"
    }
   },
   "source": [
    "## 2.1 Create Portfolio<a name = \"create-portfolio\"></a>\n",
    "When creating a transaction portfolio in LUSID, we pass in a parameter of the `accounting_method` to determine how the tax lots are calculated. If not specified, **Average Cost** is the default method used in LUSID."
   ]
  },
  {
   "cell_type": "code",
   "execution_count": 21,
   "metadata": {
    "pycharm": {
     "name": "#%%\n"
    }
   },
   "outputs": [],
   "source": [
    "def create_upload_portfolio(name, accounting_method):\n",
    "    try:\n",
    "        created_date = \"2010-01-01T00:00:00.000000+00:00\"\n",
    "\n",
    "        # Create request body\n",
    "        portfolio_request = models.CreateTransactionPortfolioRequest(\n",
    "            display_name=f\"Tax Lot Management Example - {accounting_method}\",\n",
    "            code=name,\n",
    "            base_currency=\"USD\",\n",
    "            accounting_method=accounting_method, # If not specified - AverageCost is the default accounting method.\n",
    "            created=created_date,\n",
    "        )\n",
    "\n",
    "        # Upload new portfolio to LUSID\n",
    "        response = transaction_portfolios_api.create_portfolio(\n",
    "            scope=scope, create_transaction_portfolio_request=portfolio_request\n",
    "        )\n",
    "\n",
    "        created = response.version.effective_from\n",
    "        print(\n",
    "        f\"Portfolio '{response.id.code}', in scope {scope} created effective from: \"\n",
    "        f\"{created.year}/\"\n",
    "        f\"{created.month}/\"\n",
    "        f\"{created.day}\")\n",
    "    except lusid.ApiException as e:\n",
    "        print(json.loads(e.body)[\"title\"])"
   ]
  },
  {
   "cell_type": "code",
   "execution_count": 22,
   "metadata": {
    "pycharm": {
     "name": "#%%\n"
    }
   },
   "outputs": [],
   "source": [
    "def create_derived_portfolio(portfolio_code, parent_code, accounting_method):\n",
    "    try:\n",
    "        derived_portfolio_request = models.CreateDerivedTransactionPortfolioRequest(\n",
    "            display_name=f\"Tax Lot Management Example - {accounting_method}\",\n",
    "            code=portfolio_code,\n",
    "            parent_portfolio_id=models.ResourceId(scope=scope, code= parent_code),\n",
    "            created=\"2020-01-01\",\n",
    "            corporate_action_source_id=None,\n",
    "            accounting_method=accounting_method,\n",
    "            sub_holding_keys=None,\n",
    "        )\n",
    "        response = derived_portfolios_api.create_derived_portfolio(\n",
    "            scope=scope,\n",
    "            create_derived_transaction_portfolio_request = derived_portfolio_request)\n",
    "        created = response.version.effective_from\n",
    "        print(\n",
    "        f\"Derived portfolio '{response.id.code}', in scope {scope} created effective from: \"\n",
    "        f\"{created.year}/\"\n",
    "        f\"{created.month}/\"\n",
    "        f\"{created.day}\")\n",
    "\n",
    "    except lusid.ApiException as e:\n",
    "        print(json.loads(e.body)[\"title\"])"
   ]
  },
  {
   "cell_type": "code",
   "execution_count": 23,
   "metadata": {
    "pycharm": {
     "name": "#%%\n"
    }
   },
   "outputs": [
    {
     "name": "stdout",
     "output_type": "stream",
     "text": [
      "Could not create a portfolio with id 'tax-lot-avgcost' because it already exists in scope 'taxlot_management_examplenb'.\n"
     ]
    }
   ],
   "source": [
    "# Create a parent portfolio.\n",
    "portfolio_name_avg = \"tax-lot-avgcost\"\n",
    "create_upload_portfolio(portfolio_name_avg, \"AverageCost\")"
   ]
  },
  {
   "cell_type": "code",
   "execution_count": 24,
   "metadata": {
    "pycharm": {
     "name": "#%%\n"
    }
   },
   "outputs": [
    {
     "name": "stdout",
     "output_type": "stream",
     "text": [
      "Could not create a portfolio with id 'tax-lot-fifo' because it already exists in scope 'taxlot_management_examplenb'.\n",
      "Could not create a portfolio with id 'tax-lot-lifo' because it already exists in scope 'taxlot_management_examplenb'.\n",
      "Could not create a portfolio with id 'tax-lot-highestcost' because it already exists in scope 'taxlot_management_examplenb'.\n",
      "Could not create a portfolio with id 'tax-lot-lowestcost' because it already exists in scope 'taxlot_management_examplenb'.\n"
     ]
    }
   ],
   "source": [
    "# Create portfolios derived from the AverageCost portfolio. (Tax lot type of the parent portfolio does not affect the derived\n",
    "# portfolios.)\n",
    "portfolio_name_fifo = \"tax-lot-fifo\"\n",
    "create_derived_portfolio(portfolio_name_fifo, portfolio_name_avg, \"FirstInFirstOut\")\n",
    "\n",
    "portfolio_name_lifo = \"tax-lot-lifo\"\n",
    "create_derived_portfolio(portfolio_name_lifo, portfolio_name_avg, \"LastInFirstOut\")\n",
    "\n",
    "portfolio_name_high = \"tax-lot-highestcost\"\n",
    "create_derived_portfolio(portfolio_name_high, portfolio_name_avg, \"HighestCostFirst\")\n",
    "\n",
    "portfolio_name_low = \"tax-lot-lowestcost\"\n",
    "create_derived_portfolio(portfolio_name_low, portfolio_name_avg, \"LowestCostFirst\")"
   ]
  },
  {
   "cell_type": "markdown",
   "metadata": {
    "pycharm": {
     "name": "#%% md\n"
    }
   },
   "source": [
    "## 2.2 Create Instruments<a name = \"create-instruments\"></a>"
   ]
  },
  {
   "cell_type": "code",
   "execution_count": 25,
   "metadata": {
    "pycharm": {
     "name": "#%%\n"
    }
   },
   "outputs": [],
   "source": [
    "# Create instrument\n",
    "instr_name=  \"Example Instrument\"\n",
    "client_internal = \"example_inst\"\n",
    "ticker= \"XMPL\"\n",
    "\n",
    "batch_upsert_request = {\n",
    "    \"Example_Equity\": models.InstrumentDefinition(\n",
    "        name=instr_name,\n",
    "        identifiers={ \"ClientInternal\": models.InstrumentIdValue(value=client_internal),\n",
    "                      \"Ticker\": models.InstrumentIdValue(value=ticker)},\n",
    "    )\n",
    "}\n",
    "\n",
    "# Upsert new instruments to LUSID\n",
    "instrument_response = instruments_api.upsert_instruments(\n",
    "    request_body=batch_upsert_request\n",
    ")\n",
    "\n",
    "# Check response was successful\n",
    "if len(instrument_response.failed) > 0:\n",
    "    raise AssertionError(\"Instruments upsert failed. Inspect response for more detail\")"
   ]
  },
  {
   "cell_type": "markdown",
   "metadata": {
    "pycharm": {
     "name": "#%% md\n"
    }
   },
   "source": [
    "## 2.3 Upload Transactions<a name = \"upload-transactions\"></a>"
   ]
  },
  {
   "cell_type": "code",
   "execution_count": 26,
   "metadata": {
    "pycharm": {
     "name": "#%%\n"
    }
   },
   "outputs": [],
   "source": [
    "def upload_transactions_to_portfolio(portfolio_name, transactions):\n",
    "    # Upsert transactions\n",
    "    transactions_request = []\n",
    "    txn_response = []\n",
    "\n",
    "    for row, transactions in txns.iterrows():\n",
    "\n",
    "        if transactions[\"client_internal\"].startswith(\"cash\"):\n",
    "            instrument_identifier = {\"Instrument/default/Currency\": \"USD\"}\n",
    "\n",
    "        else:\n",
    "            instrument_identifier = {\n",
    "                    \"Instrument/default/ClientInternal\": transactions[\"client_internal\"]\n",
    "                }\n",
    "\n",
    "        # Build request body\n",
    "        transactions_request.append(\n",
    "            models.TransactionRequest(\n",
    "                transaction_id=transactions[\"transaction_id\"],\n",
    "                type=transactions[\"type\"],\n",
    "                instrument_identifiers=instrument_identifier,\n",
    "                transaction_date=transactions[\"transaction_date\"].strftime(\"%Y-%m-%d\"),\n",
    "                settlement_date=transactions[\"settlement_date\"].strftime(\"%Y-%m-%d\"),\n",
    "                units=transactions[\"units\"],\n",
    "                transaction_price=models.TransactionPrice(price=transactions[\"transaction_price\"], type=\"Price\"),\n",
    "                total_consideration=models.CurrencyAndAmount(\n",
    "                    amount=transactions[\"total_consideration\"], currency=\"USD\"\n",
    "                ),\n",
    "            )\n",
    "        )\n",
    "\n",
    "        # Make upsert transactions call to LUSID\n",
    "        txn_response.append(\n",
    "            transaction_portfolios_api.upsert_transactions(\n",
    "                scope=scope, code=portfolio_name, transaction_request=transactions_request\n",
    "            )\n",
    "        )\n",
    "\n",
    "    print(f\"{len(txn_response)} transactions upserted to portfolio: {portfolio_name}\")"
   ]
  },
  {
   "cell_type": "code",
   "execution_count": 27,
   "metadata": {
    "pycharm": {
     "name": "#%%\n"
    }
   },
   "outputs": [
    {
     "name": "stdout",
     "output_type": "stream",
     "text": [
      "5 transactions upserted to portfolio: tax-lot-avgcost\n"
     ]
    }
   ],
   "source": [
    "# Upload transactions to parent portfolio. The transactions will be automatically added to the derived portfolios.\n",
    "upload_transactions_to_portfolio(portfolio_name_avg, txns)"
   ]
  },
  {
   "cell_type": "code",
   "execution_count": 28,
   "metadata": {
    "pycharm": {
     "name": "#%%\n"
    }
   },
   "outputs": [
    {
     "data": {
      "text/plain": "  transaction_id     type        units  transaction_price transaction_date  \\\n0        txn_000  FundsIn   33,000,000                1.0       2020-03-04   \n1        txn_001      Buy    1,000,000               10.0       2020-03-05   \n2        txn_002      Buy   1,000,000                12.0       2020-03-06   \n3        txn_003      Buy    1,000,000               11.0       2020-03-07   \n4        txn_004     Sell    1,500,000               12.5       2020-03-08   \n\n  settlement_date total_consideration client_internal  \n0      2020-03-05      33,000,000,000        cash_USD  \n1      2020-03-08         10,000,000     example_inst  \n2      2020-03-09         12,000,000     example_inst  \n3      2020-03-10         11,000,000     example_inst  \n4      2020-03-11          18,750,000    example_inst  ",
      "text/html": "<div>\n<style scoped>\n    .dataframe tbody tr th:only-of-type {\n        vertical-align: middle;\n    }\n\n    .dataframe tbody tr th {\n        vertical-align: top;\n    }\n\n    .dataframe thead th {\n        text-align: right;\n    }\n</style>\n<table border=\"1\" class=\"dataframe\">\n  <thead>\n    <tr style=\"text-align: right;\">\n      <th></th>\n      <th>transaction_id</th>\n      <th>type</th>\n      <th>units</th>\n      <th>transaction_price</th>\n      <th>transaction_date</th>\n      <th>settlement_date</th>\n      <th>total_consideration</th>\n      <th>client_internal</th>\n    </tr>\n  </thead>\n  <tbody>\n    <tr>\n      <th>0</th>\n      <td>txn_000</td>\n      <td>FundsIn</td>\n      <td>33,000,000</td>\n      <td>1.0</td>\n      <td>2020-03-04</td>\n      <td>2020-03-05</td>\n      <td>33,000,000,000</td>\n      <td>cash_USD</td>\n    </tr>\n    <tr>\n      <th>1</th>\n      <td>txn_001</td>\n      <td>Buy</td>\n      <td>1,000,000</td>\n      <td>10.0</td>\n      <td>2020-03-05</td>\n      <td>2020-03-08</td>\n      <td>10,000,000</td>\n      <td>example_inst</td>\n    </tr>\n    <tr>\n      <th>2</th>\n      <td>txn_002</td>\n      <td>Buy</td>\n      <td>1,000,000</td>\n      <td>12.0</td>\n      <td>2020-03-06</td>\n      <td>2020-03-09</td>\n      <td>12,000,000</td>\n      <td>example_inst</td>\n    </tr>\n    <tr>\n      <th>3</th>\n      <td>txn_003</td>\n      <td>Buy</td>\n      <td>1,000,000</td>\n      <td>11.0</td>\n      <td>2020-03-07</td>\n      <td>2020-03-10</td>\n      <td>11,000,000</td>\n      <td>example_inst</td>\n    </tr>\n    <tr>\n      <th>4</th>\n      <td>txn_004</td>\n      <td>Sell</td>\n      <td>1,500,000</td>\n      <td>12.5</td>\n      <td>2020-03-08</td>\n      <td>2020-03-11</td>\n      <td>18,750,000</td>\n      <td>example_inst</td>\n    </tr>\n  </tbody>\n</table>\n</div>"
     },
     "execution_count": 28,
     "metadata": {},
     "output_type": "execute_result"
    }
   ],
   "source": [
    "# Show transactions in chronological order\n",
    "txns.sort_values('transaction_date',ascending=True).drop('instrument_uid', axis=1)"
   ]
  },
  {
   "cell_type": "markdown",
   "metadata": {
    "pycharm": {
     "name": "#%% md\n"
    }
   },
   "source": [
    "# 3. Cost Basis Comparison<a name = \"cost-basis-comp\"></a>\n",
    "Holdings before our sell transaction show the three distinct tax lots and corresponding transactions. We can see that each tax lot has a distinct cost basis based on the transaction price and total consideration of each transaction.\n",
    "\n",
    "When calling `get_holdings()` in the `display_holding_positions_by_taxlot` method, setting the flag `by_taxlots=true` returns the holdings separated by tax lots, as shown below."
   ]
  },
  {
   "cell_type": "code",
   "execution_count": 29,
   "metadata": {
    "pycharm": {
     "name": "#%%\n"
    },
    "scrolled": true
   },
   "outputs": [],
   "source": [
    "# Prints quick summary from a get_holdings() response of positions for a given effective_at date broken down by tax lots\n",
    "def display_holding_positions_by_taxlot(effective_at, portfolio_name, show_taxlots = True):\n",
    "    # Get holdings\n",
    "    response = transaction_portfolios_api.get_holdings(\n",
    "    scope=scope,\n",
    "    code=portfolio_name,\n",
    "    effective_at = effective_at.isoformat(),\n",
    "    property_keys=[\"Instrument/default/Name\"],\n",
    "    by_taxlots=show_taxlots\n",
    "    )\n",
    "\n",
    "    # Inspect holdings response for the given effective_at day\n",
    "    hld = [i for i in response.values]\n",
    "\n",
    "    names = []\n",
    "    cost = []\n",
    "    units = []\n",
    "    txnid = []\n",
    "    pchprice = []\n",
    "    pchdate = []\n",
    "\n",
    "    for item in hld:\n",
    "        if item.holding_type_name == \"Position\":\n",
    "            names.append(item.properties[\"Instrument/default/Name\"].value.label_value)\n",
    "            cost.append(item.cost.amount)\n",
    "            units.append(item.units)\n",
    "            if show_taxlots:\n",
    "                txnid.append(item.properties[\"Holding/default/TaxlotId\"].value.label_value)\n",
    "                pchprice.append(item.properties[\"Holding/default/TaxlotPurchasePrice\"].value.metric_value.value)\n",
    "                pchdate.append(item.properties[\"Holding/default/TaxlotPurchaseDate\"].value.label_value.replace(\"T00:00:00.0000000+00:00\",\"\"))\n",
    "                \n",
    "    data = {\"cost_basis\": cost, \"units\": units}\n",
    "    if show_taxlots:\n",
    "        data = {\"transaction_id\": txnid, **data , \"purchase_price\":pchprice, \"purchase_date\":pchdate}\n",
    "    summary = pd.DataFrame(data=data, index=names)\n",
    "    \n",
    "    date = effective_at.strftime('%Y-%m-%d')\n",
    "    api_url = api_factory.api_client.configuration._base_path.replace(\"api\",\"\")\n",
    "    display(HTML(f'<a href=\"{api_url}app/dashboard/holdings?scope=taxlot_management_examplenb&code={portfolio_name_fifo}&entityType=Portfolio&taxLots=true&effectiveDate={date}\" target=\"_blank\">See holdings positions by tax lot in LUSID</a>'))\n",
    "    display(summary)"
   ]
  },
  {
   "cell_type": "code",
   "execution_count": 30,
   "metadata": {
    "pycharm": {
     "name": "#%%\n"
    }
   },
   "outputs": [
    {
     "data": {
      "text/plain": "<IPython.core.display.HTML object>",
      "text/html": "<a href=\"https://liberty.lusid.com/app/dashboard/holdings?scope=taxlot_management_examplenb&code=tax-lot-fifo&entityType=Portfolio&taxLots=true&effectiveDate=2020-03-07\" target=\"_blank\">See holdings positions by tax lot in LUSID</a>"
     },
     "metadata": {},
     "output_type": "display_data"
    },
    {
     "data": {
      "text/plain": "                   transaction_id   cost_basis       units  purchase_price  \\\nExample Instrument        txn_001 10,000,000.0 1,000,000.0            10.0   \nExample Instrument        txn_002 12,000,000.0 1,000,000.0            12.0   \nExample Instrument        txn_003 11,000,000.0 1,000,000.0            11.0   \n\n                   purchase_date  \nExample Instrument    2020-03-05  \nExample Instrument    2020-03-06  \nExample Instrument    2020-03-07  ",
      "text/html": "<div>\n<style scoped>\n    .dataframe tbody tr th:only-of-type {\n        vertical-align: middle;\n    }\n\n    .dataframe tbody tr th {\n        vertical-align: top;\n    }\n\n    .dataframe thead th {\n        text-align: right;\n    }\n</style>\n<table border=\"1\" class=\"dataframe\">\n  <thead>\n    <tr style=\"text-align: right;\">\n      <th></th>\n      <th>transaction_id</th>\n      <th>cost_basis</th>\n      <th>units</th>\n      <th>purchase_price</th>\n      <th>purchase_date</th>\n    </tr>\n  </thead>\n  <tbody>\n    <tr>\n      <th>Example Instrument</th>\n      <td>txn_001</td>\n      <td>10,000,000.0</td>\n      <td>1,000,000.0</td>\n      <td>10.0</td>\n      <td>2020-03-05</td>\n    </tr>\n    <tr>\n      <th>Example Instrument</th>\n      <td>txn_002</td>\n      <td>12,000,000.0</td>\n      <td>1,000,000.0</td>\n      <td>12.0</td>\n      <td>2020-03-06</td>\n    </tr>\n    <tr>\n      <th>Example Instrument</th>\n      <td>txn_003</td>\n      <td>11,000,000.0</td>\n      <td>1,000,000.0</td>\n      <td>11.0</td>\n      <td>2020-03-07</td>\n    </tr>\n  </tbody>\n</table>\n</div>"
     },
     "metadata": {},
     "output_type": "display_data"
    }
   ],
   "source": [
    "display_holding_positions_by_taxlot(datetime(year=2020, month=3, day=7, tzinfo=pytz.UTC), portfolio_name_fifo)"
   ]
  },
  {
   "cell_type": "markdown",
   "metadata": {},
   "source": [
    "We'll now look at the final positions of our portfolios under the 5 accounting methods described above following a sale of 1,500,000 units in a single sell transaction.\n",
    "\n",
    "## 3.1 Average Cost\n",
    "Average Cost uses the average price of the final holdings of our portfolios which, in this example, is $ \\frac{33,000,000}{3,000,000} = 11.$\n",
    "When using the **Average Cost** method, our cost basis is averaged across all transactions. Splitting out our holdings by tax lot is thus not applicable. The total cost basis after the sale will be calculated as $11 \\times 1,500,000 = 16,500,000$.\n",
    "**Average Cost** is the default accounting method for a portfolio created in LUSID."
   ]
  },
  {
   "cell_type": "code",
   "execution_count": 31,
   "metadata": {
    "pycharm": {
     "name": "#%%\n"
    }
   },
   "outputs": [
    {
     "data": {
      "text/plain": "<IPython.core.display.HTML object>",
      "text/html": "<a href=\"https://liberty.lusid.com/app/dashboard/holdings?scope=taxlot_management_examplenb&code=tax-lot-fifo&entityType=Portfolio&taxLots=true&effectiveDate=2020-03-14\" target=\"_blank\">See holdings positions by tax lot in LUSID</a>"
     },
     "metadata": {},
     "output_type": "display_data"
    },
    {
     "data": {
      "text/plain": "                     cost_basis       units\nExample Instrument 16,500,000.0 1,500,000.0",
      "text/html": "<div>\n<style scoped>\n    .dataframe tbody tr th:only-of-type {\n        vertical-align: middle;\n    }\n\n    .dataframe tbody tr th {\n        vertical-align: top;\n    }\n\n    .dataframe thead th {\n        text-align: right;\n    }\n</style>\n<table border=\"1\" class=\"dataframe\">\n  <thead>\n    <tr style=\"text-align: right;\">\n      <th></th>\n      <th>cost_basis</th>\n      <th>units</th>\n    </tr>\n  </thead>\n  <tbody>\n    <tr>\n      <th>Example Instrument</th>\n      <td>16,500,000.0</td>\n      <td>1,500,000.0</td>\n    </tr>\n  </tbody>\n</table>\n</div>"
     },
     "metadata": {},
     "output_type": "display_data"
    }
   ],
   "source": [
    "display_holding_positions_by_taxlot(datetime(year=2020, month=3, day=14, tzinfo=pytz.UTC), portfolio_name_avg, show_taxlots=False)"
   ]
  },
  {
   "cell_type": "markdown",
   "metadata": {},
   "source": [
    "## 3.2 First In First Out (FIFO)\n",
    "Using FIFO, our first tax lot (all 1,000,000 units coming from `txn_001`) will be fully liquidated, while half of our second tax lot (500,000 units coming from `txn_002`) will be liquidated. Below we show the remaining holdings with 500,000 units bought in `txn_002` and all the units bought in `txn_003` in separate tax lots."
   ]
  },
  {
   "cell_type": "code",
   "execution_count": 32,
   "metadata": {
    "pycharm": {
     "name": "#%%\n"
    }
   },
   "outputs": [
    {
     "data": {
      "text/plain": "<IPython.core.display.HTML object>",
      "text/html": "<a href=\"https://liberty.lusid.com/app/dashboard/holdings?scope=taxlot_management_examplenb&code=tax-lot-fifo&entityType=Portfolio&taxLots=true&effectiveDate=2020-03-14\" target=\"_blank\">See holdings positions by tax lot in LUSID</a>"
     },
     "metadata": {},
     "output_type": "display_data"
    },
    {
     "data": {
      "text/plain": "                   transaction_id   cost_basis       units  purchase_price  \\\nExample Instrument        txn_002  6,000,000.0   500,000.0            12.0   \nExample Instrument        txn_003 11,000,000.0 1,000,000.0            11.0   \n\n                   purchase_date  \nExample Instrument    2020-03-06  \nExample Instrument    2020-03-07  ",
      "text/html": "<div>\n<style scoped>\n    .dataframe tbody tr th:only-of-type {\n        vertical-align: middle;\n    }\n\n    .dataframe tbody tr th {\n        vertical-align: top;\n    }\n\n    .dataframe thead th {\n        text-align: right;\n    }\n</style>\n<table border=\"1\" class=\"dataframe\">\n  <thead>\n    <tr style=\"text-align: right;\">\n      <th></th>\n      <th>transaction_id</th>\n      <th>cost_basis</th>\n      <th>units</th>\n      <th>purchase_price</th>\n      <th>purchase_date</th>\n    </tr>\n  </thead>\n  <tbody>\n    <tr>\n      <th>Example Instrument</th>\n      <td>txn_002</td>\n      <td>6,000,000.0</td>\n      <td>500,000.0</td>\n      <td>12.0</td>\n      <td>2020-03-06</td>\n    </tr>\n    <tr>\n      <th>Example Instrument</th>\n      <td>txn_003</td>\n      <td>11,000,000.0</td>\n      <td>1,000,000.0</td>\n      <td>11.0</td>\n      <td>2020-03-07</td>\n    </tr>\n  </tbody>\n</table>\n</div>"
     },
     "metadata": {},
     "output_type": "display_data"
    }
   ],
   "source": [
    "display_holding_positions_by_taxlot(datetime(year=2020, month=3, day=14, tzinfo=pytz.UTC), portfolio_name_fifo)"
   ]
  },
  {
   "cell_type": "markdown",
   "metadata": {},
   "source": [
    "## 3.3 Last In Last Out (LIFO)\n",
    "Using LIFO, our first tax lot (all 1,000,000 units coming from `txn_003`) will be fully sold, while half of our second tax lot (500,000 units coming from `txn_002`) will be sold.\n",
    "The difference in the total cost basis compared to the **FIFO** method, is due to the difference in total consideration between `txn_001` and `txn_003`."
   ]
  },
  {
   "cell_type": "code",
   "execution_count": 33,
   "metadata": {
    "pycharm": {
     "name": "#%%\n"
    }
   },
   "outputs": [
    {
     "data": {
      "text/plain": "<IPython.core.display.HTML object>",
      "text/html": "<a href=\"https://liberty.lusid.com/app/dashboard/holdings?scope=taxlot_management_examplenb&code=tax-lot-fifo&entityType=Portfolio&taxLots=true&effectiveDate=2020-03-14\" target=\"_blank\">See holdings positions by tax lot in LUSID</a>"
     },
     "metadata": {},
     "output_type": "display_data"
    },
    {
     "data": {
      "text/plain": "                   transaction_id   cost_basis       units  purchase_price  \\\nExample Instrument        txn_001 10,000,000.0 1,000,000.0            10.0   \nExample Instrument        txn_002  6,000,000.0   500,000.0            12.0   \n\n                   purchase_date  \nExample Instrument    2020-03-05  \nExample Instrument    2020-03-06  ",
      "text/html": "<div>\n<style scoped>\n    .dataframe tbody tr th:only-of-type {\n        vertical-align: middle;\n    }\n\n    .dataframe tbody tr th {\n        vertical-align: top;\n    }\n\n    .dataframe thead th {\n        text-align: right;\n    }\n</style>\n<table border=\"1\" class=\"dataframe\">\n  <thead>\n    <tr style=\"text-align: right;\">\n      <th></th>\n      <th>transaction_id</th>\n      <th>cost_basis</th>\n      <th>units</th>\n      <th>purchase_price</th>\n      <th>purchase_date</th>\n    </tr>\n  </thead>\n  <tbody>\n    <tr>\n      <th>Example Instrument</th>\n      <td>txn_001</td>\n      <td>10,000,000.0</td>\n      <td>1,000,000.0</td>\n      <td>10.0</td>\n      <td>2020-03-05</td>\n    </tr>\n    <tr>\n      <th>Example Instrument</th>\n      <td>txn_002</td>\n      <td>6,000,000.0</td>\n      <td>500,000.0</td>\n      <td>12.0</td>\n      <td>2020-03-06</td>\n    </tr>\n  </tbody>\n</table>\n</div>"
     },
     "metadata": {},
     "output_type": "display_data"
    }
   ],
   "source": [
    "display_holding_positions_by_taxlot(datetime(year=2020, month=3, day=14, tzinfo=pytz.UTC), portfolio_name_lifo)"
   ]
  },
  {
   "cell_type": "markdown",
   "metadata": {
    "pycharm": {
     "name": "#%% md\n"
    }
   },
   "source": [
    "## 3.4 Highest First\n",
    "Using Highest First, the equities with the highest transaction price will be sold first. So in the sell transaction of 1,500,000 units, all units from `txn_002` and 500,000 units of `txn_003`. All units from `txn_001` and 500,000 units from `txn_003` remain in the cost basis as shown in the display below."
   ]
  },
  {
   "cell_type": "code",
   "execution_count": 34,
   "metadata": {
    "pycharm": {
     "name": "#%%\n"
    }
   },
   "outputs": [
    {
     "data": {
      "text/plain": "<IPython.core.display.HTML object>",
      "text/html": "<a href=\"https://liberty.lusid.com/app/dashboard/holdings?scope=taxlot_management_examplenb&code=tax-lot-fifo&entityType=Portfolio&taxLots=true&effectiveDate=2020-03-14\" target=\"_blank\">See holdings positions by tax lot in LUSID</a>"
     },
     "metadata": {},
     "output_type": "display_data"
    },
    {
     "data": {
      "text/plain": "                   transaction_id   cost_basis       units  purchase_price  \\\nExample Instrument        txn_001 10,000,000.0 1,000,000.0            10.0   \nExample Instrument        txn_003  5,500,000.0   500,000.0            11.0   \n\n                   purchase_date  \nExample Instrument    2020-03-05  \nExample Instrument    2020-03-07  ",
      "text/html": "<div>\n<style scoped>\n    .dataframe tbody tr th:only-of-type {\n        vertical-align: middle;\n    }\n\n    .dataframe tbody tr th {\n        vertical-align: top;\n    }\n\n    .dataframe thead th {\n        text-align: right;\n    }\n</style>\n<table border=\"1\" class=\"dataframe\">\n  <thead>\n    <tr style=\"text-align: right;\">\n      <th></th>\n      <th>transaction_id</th>\n      <th>cost_basis</th>\n      <th>units</th>\n      <th>purchase_price</th>\n      <th>purchase_date</th>\n    </tr>\n  </thead>\n  <tbody>\n    <tr>\n      <th>Example Instrument</th>\n      <td>txn_001</td>\n      <td>10,000,000.0</td>\n      <td>1,000,000.0</td>\n      <td>10.0</td>\n      <td>2020-03-05</td>\n    </tr>\n    <tr>\n      <th>Example Instrument</th>\n      <td>txn_003</td>\n      <td>5,500,000.0</td>\n      <td>500,000.0</td>\n      <td>11.0</td>\n      <td>2020-03-07</td>\n    </tr>\n  </tbody>\n</table>\n</div>"
     },
     "metadata": {},
     "output_type": "display_data"
    }
   ],
   "source": [
    "display_holding_positions_by_taxlot(datetime(year=2020, month=3, day=14, tzinfo=pytz.UTC), portfolio_name_high)"
   ]
  },
  {
   "cell_type": "markdown",
   "metadata": {},
   "source": [
    "## 3.5 Lowest First\n",
    "Using Lowest First, the equities with the lowest transaction price will be sold first. So in the sell transaction of 1,500,000 units, all units from `txn_001` and 500,000 units of `txn_003`. All units from `txn_002` and 500,000 units from `txn_003` remain in the cost basis as shown in the display below.\n",
    "The difference in the cost basis compared to the **Highest First** method, is due to the difference in total consideration between `txn_001` and `txn_003`."
   ]
  },
  {
   "cell_type": "code",
   "execution_count": 35,
   "metadata": {
    "pycharm": {
     "name": "#%%\n"
    }
   },
   "outputs": [
    {
     "data": {
      "text/plain": "<IPython.core.display.HTML object>",
      "text/html": "<a href=\"https://liberty.lusid.com/app/dashboard/holdings?scope=taxlot_management_examplenb&code=tax-lot-fifo&entityType=Portfolio&taxLots=true&effectiveDate=2020-03-14\" target=\"_blank\">See holdings positions by tax lot in LUSID</a>"
     },
     "metadata": {},
     "output_type": "display_data"
    },
    {
     "data": {
      "text/plain": "                   transaction_id   cost_basis       units  purchase_price  \\\nExample Instrument        txn_002 12,000,000.0 1,000,000.0            12.0   \nExample Instrument        txn_003  5,500,000.0   500,000.0            11.0   \n\n                   purchase_date  \nExample Instrument    2020-03-06  \nExample Instrument    2020-03-07  ",
      "text/html": "<div>\n<style scoped>\n    .dataframe tbody tr th:only-of-type {\n        vertical-align: middle;\n    }\n\n    .dataframe tbody tr th {\n        vertical-align: top;\n    }\n\n    .dataframe thead th {\n        text-align: right;\n    }\n</style>\n<table border=\"1\" class=\"dataframe\">\n  <thead>\n    <tr style=\"text-align: right;\">\n      <th></th>\n      <th>transaction_id</th>\n      <th>cost_basis</th>\n      <th>units</th>\n      <th>purchase_price</th>\n      <th>purchase_date</th>\n    </tr>\n  </thead>\n  <tbody>\n    <tr>\n      <th>Example Instrument</th>\n      <td>txn_002</td>\n      <td>12,000,000.0</td>\n      <td>1,000,000.0</td>\n      <td>12.0</td>\n      <td>2020-03-06</td>\n    </tr>\n    <tr>\n      <th>Example Instrument</th>\n      <td>txn_003</td>\n      <td>5,500,000.0</td>\n      <td>500,000.0</td>\n      <td>11.0</td>\n      <td>2020-03-07</td>\n    </tr>\n  </tbody>\n</table>\n</div>"
     },
     "metadata": {},
     "output_type": "display_data"
    }
   ],
   "source": [
    "display_holding_positions_by_taxlot(datetime(year=2020, month=3, day=14, tzinfo=pytz.UTC), portfolio_name_low)"
   ]
  }
 ],
 "metadata": {
  "kernelspec": {
   "display_name": "Python 3 (ipykernel)",
   "language": "python",
   "name": "python3"
  },
  "language_info": {
   "codemirror_mode": {
    "name": "ipython",
    "version": 3
   },
   "file_extension": ".py",
   "mimetype": "text/x-python",
   "name": "python",
   "nbconvert_exporter": "python",
   "pygments_lexer": "ipython3",
   "version": "3.9.7"
  },
  "toc": {
   "base_numbering": 1,
   "nav_menu": {},
   "number_sections": false,
   "sideBar": true,
   "skip_h1_title": false,
   "title_cell": "Table of Contents",
   "title_sidebar": "Contents",
   "toc_cell": false,
   "toc_position": {},
   "toc_section_display": true,
   "toc_window_display": false
  },
  "varInspector": {
   "cols": {
    "lenName": 16,
    "lenType": 16,
    "lenVar": 40
   },
   "kernels_config": {
    "python": {
     "delete_cmd_postfix": "",
     "delete_cmd_prefix": "del ",
     "library": "var_list.py",
     "varRefreshCmd": "print(var_dic_list())"
    },
    "r": {
     "delete_cmd_postfix": ") ",
     "delete_cmd_prefix": "rm(",
     "library": "var_list.r",
     "varRefreshCmd": "cat(var_dic_list()) "
    }
   },
   "types_to_exclude": [
    "module",
    "function",
    "builtin_function_or_method",
    "instance",
    "_Feature"
   ],
   "window_display": false
  }
 },
 "nbformat": 4,
 "nbformat_minor": 1
}