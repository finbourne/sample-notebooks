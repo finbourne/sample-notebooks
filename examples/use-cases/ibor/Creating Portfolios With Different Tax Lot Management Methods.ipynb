{
 "cells": [
  {
   "cell_type": "code",
   "execution_count": 1,
   "metadata": {
    "pycharm": {
     "name": "#%%\n"
    }
   },
   "outputs": [
    {
     "data": {
      "text/html": [
       "\n",
       "    <form action=\"javascript:code_toggle()\"><input type=\"submit\" id=\"toggleButton\" value=\"Toggle Docstring\"></form>\n",
       "    \n",
       "         <script>\n",
       "         function code_toggle() {\n",
       "             if ($('div.cell.code_cell.rendered.selected div.input').css('display')!='none'){\n",
       "                 $('div.cell.code_cell.rendered.selected div.input').hide();\n",
       "             } else {\n",
       "                 $('div.cell.code_cell.rendered.selected div.input').show();\n",
       "             }\n",
       "         }\n",
       "         </script>\n",
       "\n",
       "     "
      ],
      "text/plain": [
       "<IPython.core.display.HTML object>"
      ]
     },
     "metadata": {},
     "output_type": "display_data"
    }
   ],
   "source": [
    "from lusidtools.jupyter_tools import toggle_code\n",
    "from IPython.core.display import HTML\n",
    "\n",
    "\"\"\" Creating portfolios with different tax lot management methods\n",
    "\n",
    "This notebook demonstrates how to create transaction portfolios under different tax lot accounting methodologies.\n",
    "\n",
    "Attributes\n",
    "----------\n",
    "transactions\n",
    "holdings\n",
    "taxlots\n",
    "accounting\n",
    "corporate actions\n",
    "\"\"\"\n",
    "\n",
    "toggle_code(\"Toggle Docstring\")"
   ]
  },
  {
   "cell_type": "markdown",
   "metadata": {},
   "source": [
    "# Tax Lot Management"
   ]
  },
  {
   "cell_type": "markdown",
   "metadata": {},
   "source": [
    "Contents: \n",
    "\n",
    "* [1. Initial Setup](#1.-Initial-Setup)\n",
    "* [2. Loading our Data](#2.-Loading-our-Data)\n",
    "    * [2.1 Create Portfolio](#2.1-Create-Portfolio)\n",
    "    * [2.2 Create Instruments](#2.2-Create-Instruments)\n",
    "    * [2.3 Upload Transactions](#2.3-Upload-Transactions)\n",
    "* [3. Cost Basis Comparison](#3.-Cost-Basis-Comparison)\n",
    "    * [3.1 Average Cost](#3.1-Average-Cost)\n",
    "    * [3.2 First In First Out](#3.2-First-In-First-Out-(FIFO)) \n",
    "    * [3.3 Last In Last Out](#3.3-Last-In-Last-Out-(LIFO))\n",
    "    * [3.4 Highest First](#3.4-Highest-First) \n",
    "    * [3.5 Lowest First](#3.5-Lowest-First)\n",
    "* [4. Corporate Actions](#4.-Corporate-Actions)\n",
    "* [5. Demo Walkthrough](#5.-Demo-Walkthrough)\n",
    "* [6. Backdating](#6.-Backdating)\n",
    "    * [6.1 Closed Book Positions](#6.1-Closed-Book-Positions)\n",
    "    * [6.2 Backdated Activity](#6.2-Backdated-Activity)\n",
    "    * [6.3 Backdated Sale](#6.3-Backdated-Sale)\n",
    "    * [6.4 Backdated Price Correction](#6.4-Backdated-Price-Correction)"
   ]
  },
  {
   "cell_type": "markdown",
   "metadata": {},
   "source": [
    "\n",
    "Portfolios in LUSID can be created using any of the following tax lot accounting methods:\n",
    "- Average Cost (default in LUSID)\n",
    "- First In First Out (FIFO)\n",
    "- Last In First Out (LIFO)\n",
    "- Lowest Cost First\n",
    "- Highest Cost First\n",
    "\n",
    "These will determine how tax lots are used to update the cost basis of a transaction portfolio when booking various transactions.\n",
    "Helpful KB articles:\n",
    "- [What are the supported tax-lot accounting methods in LUSID?](https://support.lusid.com/knowledgebase/article/KA-01886/en-us)\n",
    "- [How do I handle different tax lot accounting conventions?](https://support.lusid.com/knowledgebase/article/KA-01887/en-us)"
   ]
  },
  {
   "cell_type": "markdown",
   "metadata": {
    "pycharm": {
     "name": "#%% md\n"
    }
   },
   "source": [
    "## 1. Initial Setup<a name=\"initialsetup\"></a>\n",
    "This section will set up the parameters and methods used in section 2, to compare accounting methods."
   ]
  },
  {
   "cell_type": "code",
   "execution_count": 2,
   "metadata": {
    "pycharm": {
     "name": "#%%\n"
    }
   },
   "outputs": [
    {
     "name": "stdout",
     "output_type": "stream",
     "text": [
      "LUSID Environment Initialised\n",
      "LUSID version :  0.6.11644.0\n"
     ]
    }
   ],
   "source": [
    "# Import LUSID\n",
    "import lusid\n",
    "import lusid.models as models\n",
    "import pandas as pd\n",
    "from IPython.core.display import HTML\n",
    "\n",
    "# Import Libraries\n",
    "import pytz\n",
    "from lusidjam import RefreshingToken\n",
    "from lusidtools.pandas_utils.lusid_pandas import lusid_response_to_data_frame\n",
    "import json\n",
    "import os\n",
    "from datetime import datetime\n",
    "from dateutil.parser import parse\n",
    "from enum import Enum\n",
    "from datetime import timedelta\n",
    "\n",
    "# Authenticate our user and create our API client\n",
    "secrets_path = os.getenv(\"FBN_SECRETS_PATH\")\n",
    "\n",
    "pd.set_option('display.float_format', lambda x: f'{x:,.1f}')\n",
    "\n",
    "api_factory = lusid.utilities.ApiClientFactory(\n",
    "    token=RefreshingToken(),\n",
    "    api_secrets_filename = secrets_path,\n",
    "    app_name=\"LusidJupyterNotebook\")\n",
    "\n",
    "print('LUSID Environment Initialised')\n",
    "print('LUSID version : ', api_factory.build(lusid.api.ApplicationMetadataApi).get_lusid_versions().build_version)"
   ]
  },
  {
   "cell_type": "code",
   "execution_count": 3,
   "metadata": {
    "pycharm": {
     "name": "#%%\n"
    }
   },
   "outputs": [],
   "source": [
    "# Create necessary API factories\n",
    "transaction_portfolios_api = api_factory.build(lusid.api.TransactionPortfoliosApi)\n",
    "portfolios_api = api_factory.build(lusid.api.PortfoliosApi)\n",
    "derived_portfolios_api = api_factory.build(lusid.api.DerivedTransactionPortfoliosApi)\n",
    "property_definitions_api = api_factory.build(lusid.api.PropertyDefinitionsApi)\n",
    "instruments_api = api_factory.build(lusid.api.InstrumentsApi)\n",
    "corporate_action_sources_api = api_factory.build(lusid.api.CorporateActionSourcesApi)\n",
    "quotes_api = api_factory.build(lusid.api.QuotesApi)"
   ]
  },
  {
   "cell_type": "markdown",
   "metadata": {
    "pycharm": {
     "name": "#%% md\n"
    }
   },
   "source": [
    "# 2. Loading our Data<a name = \"loading-our-data\"></a>"
   ]
  },
  {
   "cell_type": "code",
   "execution_count": 4,
   "metadata": {
    "pycharm": {
     "name": "#%%\n"
    }
   },
   "outputs": [
    {
     "data": {
      "text/html": [
       "<div>\n",
       "<style scoped>\n",
       "    .dataframe tbody tr th:only-of-type {\n",
       "        vertical-align: middle;\n",
       "    }\n",
       "\n",
       "    .dataframe tbody tr th {\n",
       "        vertical-align: top;\n",
       "    }\n",
       "\n",
       "    .dataframe thead th {\n",
       "        text-align: right;\n",
       "    }\n",
       "</style>\n",
       "<table border=\"1\" class=\"dataframe\">\n",
       "  <thead>\n",
       "    <tr style=\"text-align: right;\">\n",
       "      <th></th>\n",
       "      <th>transaction_id</th>\n",
       "      <th>type</th>\n",
       "      <th>units</th>\n",
       "      <th>transaction_price</th>\n",
       "      <th>transaction_date</th>\n",
       "      <th>settlement_date</th>\n",
       "      <th>total_consideration</th>\n",
       "      <th>client_internal</th>\n",
       "      <th>ticker</th>\n",
       "      <th>name</th>\n",
       "      <th>sleeve</th>\n",
       "      <th>trade_to_portfolio_rate</th>\n",
       "    </tr>\n",
       "  </thead>\n",
       "  <tbody>\n",
       "    <tr>\n",
       "      <th>0</th>\n",
       "      <td>txn_000</td>\n",
       "      <td>FundsIn</td>\n",
       "      <td>80,000,000</td>\n",
       "      <td>1.0</td>\n",
       "      <td>2020-03-04</td>\n",
       "      <td>2020-03-05</td>\n",
       "      <td>80,000,000</td>\n",
       "      <td>CASH_USD</td>\n",
       "      <td>USD</td>\n",
       "      <td>Cash USD</td>\n",
       "      <td>Sleeve 1</td>\n",
       "      <td>0.8</td>\n",
       "    </tr>\n",
       "    <tr>\n",
       "      <th>1</th>\n",
       "      <td>txn_001</td>\n",
       "      <td>FundsIn</td>\n",
       "      <td>95,000,000</td>\n",
       "      <td>1.0</td>\n",
       "      <td>2020-03-04</td>\n",
       "      <td>2020-03-05</td>\n",
       "      <td>95,000,000</td>\n",
       "      <td>CASH_USD</td>\n",
       "      <td>USD</td>\n",
       "      <td>Cash USD</td>\n",
       "      <td>Sleeve 2</td>\n",
       "      <td>0.8</td>\n",
       "    </tr>\n",
       "    <tr>\n",
       "      <th>2</th>\n",
       "      <td>txn_002</td>\n",
       "      <td>Buy</td>\n",
       "      <td>100,000</td>\n",
       "      <td>167.6</td>\n",
       "      <td>2020-03-05</td>\n",
       "      <td>2020-03-08</td>\n",
       "      <td>16,763,000</td>\n",
       "      <td>EQUITY_APPL</td>\n",
       "      <td>AAPL</td>\n",
       "      <td>Apple</td>\n",
       "      <td>Sleeve 1</td>\n",
       "      <td>0.8</td>\n",
       "    </tr>\n",
       "    <tr>\n",
       "      <th>3</th>\n",
       "      <td>txn_003</td>\n",
       "      <td>Buy</td>\n",
       "      <td>100,000</td>\n",
       "      <td>163.0</td>\n",
       "      <td>2020-03-06</td>\n",
       "      <td>2020-03-09</td>\n",
       "      <td>16,298,000</td>\n",
       "      <td>EQUITY_APPL</td>\n",
       "      <td>AAPL</td>\n",
       "      <td>Apple</td>\n",
       "      <td>Sleeve 1</td>\n",
       "      <td>0.8</td>\n",
       "    </tr>\n",
       "    <tr>\n",
       "      <th>4</th>\n",
       "      <td>txn_004</td>\n",
       "      <td>Buy</td>\n",
       "      <td>100,000</td>\n",
       "      <td>165.4</td>\n",
       "      <td>2020-03-07</td>\n",
       "      <td>2020-03-10</td>\n",
       "      <td>16,542,000</td>\n",
       "      <td>EQUITY_APPL</td>\n",
       "      <td>AAPL</td>\n",
       "      <td>Apple</td>\n",
       "      <td>Sleeve 1</td>\n",
       "      <td>0.8</td>\n",
       "    </tr>\n",
       "  </tbody>\n",
       "</table>\n",
       "</div>"
      ],
      "text/plain": [
       "  transaction_id     type       units  transaction_price transaction_date  \\\n",
       "0        txn_000  FundsIn  80,000,000                1.0       2020-03-04   \n",
       "1        txn_001  FundsIn  95,000,000                1.0       2020-03-04   \n",
       "2        txn_002      Buy     100,000              167.6       2020-03-05   \n",
       "3        txn_003      Buy     100,000              163.0       2020-03-06   \n",
       "4        txn_004      Buy     100,000              165.4       2020-03-07   \n",
       "\n",
       "  settlement_date total_consideration client_internal ticker      name  \\\n",
       "0      2020-03-05          80,000,000        CASH_USD    USD  Cash USD   \n",
       "1      2020-03-05          95,000,000        CASH_USD    USD  Cash USD   \n",
       "2      2020-03-08          16,763,000     EQUITY_APPL   AAPL     Apple   \n",
       "3      2020-03-09          16,298,000     EQUITY_APPL   AAPL     Apple   \n",
       "4      2020-03-10          16,542,000     EQUITY_APPL   AAPL     Apple   \n",
       "\n",
       "     sleeve  trade_to_portfolio_rate  \n",
       "0  Sleeve 1                      0.8  \n",
       "1  Sleeve 2                      0.8  \n",
       "2  Sleeve 1                      0.8  \n",
       "3  Sleeve 1                      0.8  \n",
       "4  Sleeve 1                      0.8  "
      ]
     },
     "execution_count": 4,
     "metadata": {},
     "output_type": "execute_result"
    }
   ],
   "source": [
    "# Specify scope and load data\n",
    "txns = pd.read_csv(\"data/taxlot_accounting_transactions.csv\",parse_dates=['transaction_date','settlement_date'], date_parser = lambda x : parse(x).strftime('%Y-%m-%d'))\n",
    "scope = \"taxlot_management_examplenb\"\n",
    "txns.head()"
   ]
  },
  {
   "cell_type": "markdown",
   "metadata": {
    "pycharm": {
     "name": "#%% md\n"
    }
   },
   "source": [
    "## 2.1 Create Portfolio<a name = \"create-portfolio\"></a>\n",
    "When creating a transaction portfolio in LUSID, we pass in a parameter of the `accounting_method` to determine how the tax lots are calculated. If not specified, **Average Cost** is the default method used in LUSID."
   ]
  },
  {
   "cell_type": "code",
   "execution_count": 5,
   "metadata": {},
   "outputs": [],
   "source": [
    "# Create corporate action source, this is covered further in section 4\n",
    "ca_code = \"tax_lot_stock_split\"\n",
    "try:\n",
    "\n",
    "    source_request = models.CreateCorporateActionSourceRequest(\n",
    "        scope=scope,\n",
    "        code=ca_code,\n",
    "        display_name=\"Tax Lot Corporate Action Source\",\n",
    "        description=\"Corporate Actions source for tax lot sample notebook\",\n",
    "    )\n",
    "\n",
    "    corporate_action_sources_api.create_corporate_action_source(\n",
    "        create_corporate_action_source_request=source_request\n",
    "    )\n",
    "\n",
    "except lusid.ApiException as e:\n",
    "    print(json.loads(e.body)[\"title\"])"
   ]
  },
  {
   "cell_type": "code",
   "execution_count": 6,
   "metadata": {},
   "outputs": [
    {
     "name": "stdout",
     "output_type": "stream",
     "text": [
      "Transaction/taxlot_management_examplenb/sleeve property created\n"
     ]
    }
   ],
   "source": [
    "# Create sleeve property for sub-holding key\n",
    "try:\n",
    "    resp = property_definitions_api.create_property_definition(\n",
    "        create_property_definition_request=models.CreatePropertyDefinitionRequest(\n",
    "            domain=\"Transaction\",\n",
    "            scope=scope,\n",
    "            code=\"sleeve\",\n",
    "            value_required=None,\n",
    "            display_name=\"Sleeve\",\n",
    "            data_type_id=models.ResourceId(scope=\"system\", code=\"string\"),\n",
    "            life_time=None,\n",
    "        )\n",
    "    )\n",
    "    print(f\"{resp.key} property created\")\n",
    "    \n",
    "except lusid.ApiException as e:\n",
    "    if json.loads(e.body)[\"code\"] == 124: # PropertyAlreadyExists\n",
    "        print(json.loads(e.body)[\"title\"])\n",
    "    else:\n",
    "        raise e"
   ]
  },
  {
   "cell_type": "code",
   "execution_count": 7,
   "metadata": {
    "pycharm": {
     "name": "#%%\n"
    }
   },
   "outputs": [],
   "source": [
    "def create_upload_portfolio(name, accounting_method):\n",
    "    try:\n",
    "        created_date = \"2010-01-01T00:00:00.000000+00:00\"\n",
    "\n",
    "        # Create request body\n",
    "        portfolio_request = models.CreateTransactionPortfolioRequest(\n",
    "            display_name=f\"Tax Lot Management Example - {accounting_method}\",\n",
    "            code=name,\n",
    "            base_currency=\"GBP\",\n",
    "            corporate_action_source_id=lusid.ResourceId(scope=scope, code=ca_code),\n",
    "            accounting_method=accounting_method, # If not specified - AverageCost is the default accounting method.\n",
    "            created=created_date,\n",
    "            sub_holding_keys=[f\"Transaction/{scope}/sleeve\"],\n",
    "        )\n",
    "\n",
    "        # Upload new portfolio to LUSID\n",
    "        response = transaction_portfolios_api.create_portfolio(\n",
    "            scope=scope, create_transaction_portfolio_request=portfolio_request\n",
    "        )\n",
    "\n",
    "        created = response.version.effective_from\n",
    "        print(\n",
    "        f\"Portfolio '{response.id.code}', in scope {scope} created effective from: \"\n",
    "        f\"{created.year}/\"\n",
    "        f\"{created.month}/\"\n",
    "        f\"{created.day}\")\n",
    "    except lusid.ApiException as e:\n",
    "        print(json.loads(e.body)[\"title\"])"
   ]
  },
  {
   "cell_type": "code",
   "execution_count": 8,
   "metadata": {
    "pycharm": {
     "name": "#%%\n"
    }
   },
   "outputs": [],
   "source": [
    "def create_derived_portfolio(portfolio_code, parent_code, accounting_method, ca_code):\n",
    "    try:\n",
    "        derived_portfolio_request = models.CreateDerivedTransactionPortfolioRequest(\n",
    "            display_name=f\"Tax Lot Management Example - {accounting_method}\",\n",
    "            code=portfolio_code,\n",
    "            parent_portfolio_id=models.ResourceId(scope=scope, code= parent_code),\n",
    "            created=\"2020-01-01\",\n",
    "            corporate_action_source_id=lusid.ResourceId(scope=scope, code=ca_code),\n",
    "            accounting_method=accounting_method,\n",
    "            sub_holding_keys=[f\"Transaction/{scope}/sleeve\"],\n",
    "        )\n",
    "        response = derived_portfolios_api.create_derived_portfolio(\n",
    "            scope=scope,\n",
    "            create_derived_transaction_portfolio_request = derived_portfolio_request)\n",
    "        created = response.version.effective_from\n",
    "        print(\n",
    "        f\"Derived portfolio '{response.id.code}', in scope {scope} created effective from: \"\n",
    "        f\"{created.year}/\"\n",
    "        f\"{created.month}/\"\n",
    "        f\"{created.day}\")\n",
    "\n",
    "    except lusid.ApiException as e:\n",
    "        print(json.loads(e.body)[\"title\"])"
   ]
  },
  {
   "cell_type": "code",
   "execution_count": 9,
   "metadata": {
    "pycharm": {
     "name": "#%%\n"
    }
   },
   "outputs": [
    {
     "name": "stdout",
     "output_type": "stream",
     "text": [
      "Portfolio 'tax-lot-avgcost', in scope taxlot_management_examplenb created effective from: 2010/1/1\n"
     ]
    }
   ],
   "source": [
    "# Create a parent portfolio.\n",
    "portfolio_name_avg = \"tax-lot-avgcost\"\n",
    "create_upload_portfolio(portfolio_name_avg, \"AverageCost\")"
   ]
  },
  {
   "cell_type": "code",
   "execution_count": 10,
   "metadata": {
    "pycharm": {
     "name": "#%%\n"
    }
   },
   "outputs": [
    {
     "name": "stdout",
     "output_type": "stream",
     "text": [
      "Derived portfolio 'tax-lot-fifo', in scope taxlot_management_examplenb created effective from: 2010/1/1\n",
      "Derived portfolio 'tax-lot-lifo', in scope taxlot_management_examplenb created effective from: 2010/1/1\n",
      "Derived portfolio 'tax-lot-highestcost', in scope taxlot_management_examplenb created effective from: 2010/1/1\n",
      "Derived portfolio 'tax-lot-lowestcost', in scope taxlot_management_examplenb created effective from: 2010/1/1\n"
     ]
    }
   ],
   "source": [
    "# Create portfolios derived from the AverageCost portfolio. (Tax lot type of the parent portfolio does not affect the derived\n",
    "# portfolios.)\n",
    "portfolio_name_fifo = \"tax-lot-fifo\"\n",
    "create_derived_portfolio(portfolio_name_fifo, portfolio_name_avg, \"FirstInFirstOut\", ca_code)\n",
    "\n",
    "portfolio_name_lifo = \"tax-lot-lifo\"\n",
    "create_derived_portfolio(portfolio_name_lifo, portfolio_name_avg, \"LastInFirstOut\", ca_code)\n",
    "\n",
    "portfolio_name_high = \"tax-lot-highestcost\"\n",
    "create_derived_portfolio(portfolio_name_high, portfolio_name_avg, \"HighestCostFirst\", ca_code)\n",
    "\n",
    "portfolio_name_low = \"tax-lot-lowestcost\"\n",
    "create_derived_portfolio(portfolio_name_low, portfolio_name_avg, \"LowestCostFirst\", ca_code)"
   ]
  },
  {
   "cell_type": "markdown",
   "metadata": {
    "pycharm": {
     "name": "#%% md\n"
    }
   },
   "source": [
    "## 2.2 Create Instruments<a name = \"create-instruments\"></a>"
   ]
  },
  {
   "cell_type": "code",
   "execution_count": 11,
   "metadata": {
    "pycharm": {
     "name": "#%%\n"
    }
   },
   "outputs": [
    {
     "name": "stdout",
     "output_type": "stream",
     "text": [
      "6 instruments uploaded\n"
     ]
    }
   ],
   "source": [
    "# Create instruments\n",
    "batch_upsert_request = {}\n",
    "uploaded = []\n",
    "\n",
    "for index, row in txns.iterrows():\n",
    "    client_internal = row['client_internal']\n",
    "    ticker = row['ticker']\n",
    "    name = row['name']\n",
    "    \n",
    "    if client_internal.startswith(\"CASH\") or client_internal in uploaded:\n",
    "        continue\n",
    "    else:\n",
    "        batch_upsert_request[client_internal] = models.InstrumentDefinition(\n",
    "            name=name,\n",
    "            identifiers={ \n",
    "                \"ClientInternal\": models.InstrumentIdValue(value=client_internal),\n",
    "                \"Ticker\": models.InstrumentIdValue(value=ticker)\n",
    "            },\n",
    "            definition=models.Equity(\n",
    "                instrument_type=\"Equity\",\n",
    "                dom_ccy=\"USD\"\n",
    "            )\n",
    "        )\n",
    "        uploaded.append(client_internal)\n",
    "        \n",
    "\n",
    "# Upsert new instruments to LUSID\n",
    "instrument_response = instruments_api.upsert_instruments(\n",
    "    request_body=batch_upsert_request\n",
    ")\n",
    "\n",
    "# Check response was successful\n",
    "if len(instrument_response.failed) > 0:\n",
    "    raise AssertionError(\"Instruments upsert failed. Inspect response for more detail\")\n",
    "    \n",
    "print(f\"{len(instrument_response.values)} instruments uploaded\")"
   ]
  },
  {
   "cell_type": "markdown",
   "metadata": {
    "pycharm": {
     "name": "#%% md\n"
    }
   },
   "source": [
    "## 2.3 Upload Transactions<a name = \"upload-transactions\"></a>"
   ]
  },
  {
   "cell_type": "code",
   "execution_count": 12,
   "metadata": {
    "pycharm": {
     "name": "#%%\n"
    }
   },
   "outputs": [],
   "source": [
    "def upload_transactions_to_portfolio(portfolio_name, transactions):\n",
    "    # Upsert transactions\n",
    "    transactions_request = []\n",
    "\n",
    "    for index, row in transactions.iterrows():\n",
    "\n",
    "        if row[\"client_internal\"].startswith(\"CASH\"):\n",
    "            instrument_identifier = {\"Instrument/default/Currency\": \"USD\"}\n",
    "\n",
    "        else:\n",
    "            instrument_identifier = {\n",
    "                    \"Instrument/default/ClientInternal\": row[\"client_internal\"]\n",
    "                }\n",
    "\n",
    "        # Build request body\n",
    "        transactions_request.append(\n",
    "            models.TransactionRequest(\n",
    "                transaction_id=row[\"transaction_id\"],\n",
    "                type=row[\"type\"],\n",
    "                instrument_identifiers=instrument_identifier,\n",
    "                transaction_date=row[\"transaction_date\"].isoformat() + \"Z\",\n",
    "                settlement_date=row[\"settlement_date\"].isoformat() + \"Z\",\n",
    "                units=row[\"units\"],\n",
    "                transaction_price=models.TransactionPrice(price=row[\"transaction_price\"], type=\"Price\"),\n",
    "                total_consideration=models.CurrencyAndAmount(\n",
    "                    amount=row[\"total_consideration\"], currency=\"USD\"\n",
    "                ),\n",
    "                properties={\n",
    "                    f\"Transaction/{scope}/sleeve\": \n",
    "                    models.PerpetualProperty(\n",
    "                        key=f\"Transaction/{scope}/sleeve\",\n",
    "                        value=models.PropertyValue(label_value=row['sleeve'])\n",
    "                    ),\n",
    "                    f\"Transaction/default/TradeToPortfolioRate\": \n",
    "                    models.PerpetualProperty(\n",
    "                        key=f\"Transaction/default/TradeToPortfolioRate\",\n",
    "                        value=models.PropertyValue(\n",
    "                            metric_value=models.MetricValue(value=row[\"trade_to_portfolio_rate\"])\n",
    "                        )\n",
    "                    )\n",
    "                }\n",
    "            )\n",
    "        )\n",
    "\n",
    "    # Make upsert transactions call to LUSID\n",
    "    txn_response = transaction_portfolios_api.upsert_transactions(\n",
    "            scope=scope, code=portfolio_name, transaction_request=transactions_request\n",
    "    )\n",
    "\n",
    "    print(f\"{len(transactions_request)} transactions upserted to portfolio: {portfolio_name}\")\n",
    "    \n",
    "    return txn_response"
   ]
  },
  {
   "cell_type": "code",
   "execution_count": 13,
   "metadata": {
    "pycharm": {
     "name": "#%%\n"
    }
   },
   "outputs": [
    {
     "name": "stdout",
     "output_type": "stream",
     "text": [
      "28 transactions upserted to portfolio: tax-lot-avgcost\n"
     ]
    }
   ],
   "source": [
    "# Upload transactions to parent portfolio. The transactions will be automatically added to the derived portfolios.\n",
    "original_transactions_response = upload_transactions_to_portfolio(portfolio_name_avg, txns)"
   ]
  },
  {
   "cell_type": "code",
   "execution_count": 14,
   "metadata": {
    "pycharm": {
     "name": "#%%\n"
    }
   },
   "outputs": [
    {
     "data": {
      "text/html": [
       "<div>\n",
       "<style scoped>\n",
       "    .dataframe tbody tr th:only-of-type {\n",
       "        vertical-align: middle;\n",
       "    }\n",
       "\n",
       "    .dataframe tbody tr th {\n",
       "        vertical-align: top;\n",
       "    }\n",
       "\n",
       "    .dataframe thead th {\n",
       "        text-align: right;\n",
       "    }\n",
       "</style>\n",
       "<table border=\"1\" class=\"dataframe\">\n",
       "  <thead>\n",
       "    <tr style=\"text-align: right;\">\n",
       "      <th></th>\n",
       "      <th>transaction_id</th>\n",
       "      <th>type</th>\n",
       "      <th>units</th>\n",
       "      <th>transaction_price</th>\n",
       "      <th>transaction_date</th>\n",
       "      <th>settlement_date</th>\n",
       "      <th>total_consideration</th>\n",
       "      <th>client_internal</th>\n",
       "      <th>ticker</th>\n",
       "      <th>name</th>\n",
       "      <th>sleeve</th>\n",
       "      <th>trade_to_portfolio_rate</th>\n",
       "    </tr>\n",
       "  </thead>\n",
       "  <tbody>\n",
       "    <tr>\n",
       "      <th>0</th>\n",
       "      <td>txn_000</td>\n",
       "      <td>FundsIn</td>\n",
       "      <td>80,000,000</td>\n",
       "      <td>1.0</td>\n",
       "      <td>2020-03-04</td>\n",
       "      <td>2020-03-05</td>\n",
       "      <td>80,000,000</td>\n",
       "      <td>CASH_USD</td>\n",
       "      <td>USD</td>\n",
       "      <td>Cash USD</td>\n",
       "      <td>Sleeve 1</td>\n",
       "      <td>0.8</td>\n",
       "    </tr>\n",
       "    <tr>\n",
       "      <th>1</th>\n",
       "      <td>txn_001</td>\n",
       "      <td>FundsIn</td>\n",
       "      <td>95,000,000</td>\n",
       "      <td>1.0</td>\n",
       "      <td>2020-03-04</td>\n",
       "      <td>2020-03-05</td>\n",
       "      <td>95,000,000</td>\n",
       "      <td>CASH_USD</td>\n",
       "      <td>USD</td>\n",
       "      <td>Cash USD</td>\n",
       "      <td>Sleeve 2</td>\n",
       "      <td>0.8</td>\n",
       "    </tr>\n",
       "    <tr>\n",
       "      <th>6</th>\n",
       "      <td>txn_006</td>\n",
       "      <td>Buy</td>\n",
       "      <td>70,000</td>\n",
       "      <td>288.4</td>\n",
       "      <td>2020-03-04</td>\n",
       "      <td>2020-03-08</td>\n",
       "      <td>20,191,500</td>\n",
       "      <td>EQUITY_MSFT</td>\n",
       "      <td>MSFT</td>\n",
       "      <td>Microsoft</td>\n",
       "      <td>Sleeve 2</td>\n",
       "      <td>0.8</td>\n",
       "    </tr>\n",
       "    <tr>\n",
       "      <th>18</th>\n",
       "      <td>txn_018</td>\n",
       "      <td>Buy</td>\n",
       "      <td>25,000</td>\n",
       "      <td>162.5</td>\n",
       "      <td>2020-03-05</td>\n",
       "      <td>2020-03-08</td>\n",
       "      <td>4,063,250</td>\n",
       "      <td>EQUITY_JNJ</td>\n",
       "      <td>JNJ</td>\n",
       "      <td>Johnson &amp; Johnson</td>\n",
       "      <td>Sleeve 1</td>\n",
       "      <td>0.8</td>\n",
       "    </tr>\n",
       "    <tr>\n",
       "      <th>14</th>\n",
       "      <td>txn_014</td>\n",
       "      <td>Buy</td>\n",
       "      <td>18,000</td>\n",
       "      <td>279.3</td>\n",
       "      <td>2020-03-05</td>\n",
       "      <td>2020-03-08</td>\n",
       "      <td>5,027,580</td>\n",
       "      <td>EQUITY_NVDA</td>\n",
       "      <td>NVDA</td>\n",
       "      <td>NVIDIA</td>\n",
       "      <td>Sleeve 2</td>\n",
       "      <td>0.8</td>\n",
       "    </tr>\n",
       "  </tbody>\n",
       "</table>\n",
       "</div>"
      ],
      "text/plain": [
       "   transaction_id     type       units  transaction_price transaction_date  \\\n",
       "0         txn_000  FundsIn  80,000,000                1.0       2020-03-04   \n",
       "1         txn_001  FundsIn  95,000,000                1.0       2020-03-04   \n",
       "6         txn_006      Buy      70,000              288.4       2020-03-04   \n",
       "18        txn_018      Buy      25,000              162.5       2020-03-05   \n",
       "14        txn_014      Buy      18,000              279.3       2020-03-05   \n",
       "\n",
       "   settlement_date total_consideration client_internal ticker  \\\n",
       "0       2020-03-05          80,000,000        CASH_USD    USD   \n",
       "1       2020-03-05          95,000,000        CASH_USD    USD   \n",
       "6       2020-03-08          20,191,500     EQUITY_MSFT   MSFT   \n",
       "18      2020-03-08           4,063,250      EQUITY_JNJ    JNJ   \n",
       "14      2020-03-08           5,027,580     EQUITY_NVDA   NVDA   \n",
       "\n",
       "                 name    sleeve  trade_to_portfolio_rate  \n",
       "0            Cash USD  Sleeve 1                      0.8  \n",
       "1            Cash USD  Sleeve 2                      0.8  \n",
       "6           Microsoft  Sleeve 2                      0.8  \n",
       "18  Johnson & Johnson  Sleeve 1                      0.8  \n",
       "14             NVIDIA  Sleeve 2                      0.8  "
      ]
     },
     "execution_count": 14,
     "metadata": {},
     "output_type": "execute_result"
    }
   ],
   "source": [
    "# Show transactions in chronological order\n",
    "txns.sort_values('transaction_date',ascending=True).head()"
   ]
  },
  {
   "cell_type": "markdown",
   "metadata": {
    "pycharm": {
     "name": "#%% md\n"
    }
   },
   "source": [
    "# 3. Cost Basis Comparison<a name = \"cost-basis-comp\"></a>\n",
    "Holdings before our sell transaction show the three distinct tax lots and corresponding transactions. We can see that each tax lot has a distinct cost basis based on the transaction price and total consideration of each transaction.\n",
    "\n",
    "When calling `get_holdings()` in the `display_holding_positions_by_taxlot` method, setting the flag `by_taxlots=true` returns the holdings separated by tax lots, as shown below."
   ]
  },
  {
   "cell_type": "code",
   "execution_count": 15,
   "metadata": {
    "pycharm": {
     "name": "#%%\n"
    },
    "scrolled": true
   },
   "outputs": [],
   "source": [
    "# Prints quick summary from a get_holdings() response of positions for a given effective_at date broken down by tax lots\n",
    "def display_holding_positions_by_taxlot(effective_at, portfolio_name, show_taxlots = True, as_at = None):\n",
    "    # Get holdings\n",
    "    response = transaction_portfolios_api.get_holdings(\n",
    "        scope=scope,\n",
    "        code=portfolio_name,\n",
    "        effective_at = effective_at.isoformat(),\n",
    "        as_at = as_at,\n",
    "        property_keys=[\"Instrument/default/Name\"],\n",
    "        by_taxlots=show_taxlots\n",
    "    )\n",
    "\n",
    "    # Inspect holdings response for the given effective_at day\n",
    "    hld = [i for i in response.values]\n",
    "\n",
    "    names = []\n",
    "    cost = []\n",
    "    units = []\n",
    "    txnid = []\n",
    "    pchprice = []\n",
    "    pchdate = []\n",
    "\n",
    "    for item in hld:\n",
    "        if item.holding_type_name == \"Position\":\n",
    "            names.append(item.properties[\"Instrument/default/Name\"].value.label_value)\n",
    "            cost.append(item.cost.amount)\n",
    "            units.append(item.units)\n",
    "            if show_taxlots:\n",
    "                txnid.append(item.properties[\"Holding/default/TaxlotId\"].value.label_value)\n",
    "                pchprice.append(item.properties[\"Holding/default/TaxlotPurchasePrice\"].value.metric_value.value)\n",
    "                pchdate.append(item.properties[\"Holding/default/TaxlotPurchaseDate\"].value.label_value.replace(\"T00:00:00.0000000+00:00\",\"\"))\n",
    "                \n",
    "    data = {\"cost_basis\": cost, \"units\": units}\n",
    "    if show_taxlots:\n",
    "        data = {\"transaction_id\": txnid, **data , \"purchase_price\":pchprice, \"purchase_date\":pchdate}\n",
    "    return pd.DataFrame(data=data, index=names)"
   ]
  },
  {
   "cell_type": "code",
   "execution_count": 16,
   "metadata": {
    "pycharm": {
     "name": "#%%\n"
    }
   },
   "outputs": [],
   "source": [
    "# Displays a link to view portfolio in LUSID\n",
    "def print_url_to_holdings(effective_at, portfolio_name):\n",
    "    date = effective_at.strftime('%Y-%m-%d')\n",
    "    api_url = api_factory.api_client.configuration._base_path.replace(\"api\",\"\")\n",
    "    display(HTML(f'<a href=\"{api_url}app/dashboard/holdings?scope=taxlot_management_examplenb&code={portfolio_name}&entityType=Portfolio&taxLots=true&effectiveDate={date}\" target=\"_blank\">See holdings positions by tax lot in LUSID</a>'))"
   ]
  },
  {
   "cell_type": "code",
   "execution_count": 17,
   "metadata": {
    "pycharm": {
     "name": "#%%\n"
    }
   },
   "outputs": [
    {
     "data": {
      "text/html": [
       "<div>\n",
       "<style scoped>\n",
       "    .dataframe tbody tr th:only-of-type {\n",
       "        vertical-align: middle;\n",
       "    }\n",
       "\n",
       "    .dataframe tbody tr th {\n",
       "        vertical-align: top;\n",
       "    }\n",
       "\n",
       "    .dataframe thead th {\n",
       "        text-align: right;\n",
       "    }\n",
       "</style>\n",
       "<table border=\"1\" class=\"dataframe\">\n",
       "  <thead>\n",
       "    <tr style=\"text-align: right;\">\n",
       "      <th></th>\n",
       "      <th>transaction_id</th>\n",
       "      <th>cost_basis</th>\n",
       "      <th>units</th>\n",
       "      <th>purchase_price</th>\n",
       "      <th>purchase_date</th>\n",
       "    </tr>\n",
       "  </thead>\n",
       "  <tbody>\n",
       "    <tr>\n",
       "      <th>Microsoft</th>\n",
       "      <td>txn_006</td>\n",
       "      <td>20,191,500.0</td>\n",
       "      <td>70,000.0</td>\n",
       "      <td>288.4</td>\n",
       "      <td>2020-03-04</td>\n",
       "    </tr>\n",
       "    <tr>\n",
       "      <th>Microsoft</th>\n",
       "      <td>txn_007</td>\n",
       "      <td>19,903,800.0</td>\n",
       "      <td>70,000.0</td>\n",
       "      <td>284.3</td>\n",
       "      <td>2020-03-05</td>\n",
       "    </tr>\n",
       "    <tr>\n",
       "      <th>Microsoft</th>\n",
       "      <td>txn_008</td>\n",
       "      <td>9,816,100.0</td>\n",
       "      <td>70,000.0</td>\n",
       "      <td>140.2</td>\n",
       "      <td>2020-03-07</td>\n",
       "    </tr>\n",
       "    <tr>\n",
       "      <th>Apple</th>\n",
       "      <td>txn_002</td>\n",
       "      <td>16,763,000.0</td>\n",
       "      <td>100,000.0</td>\n",
       "      <td>167.6</td>\n",
       "      <td>2020-03-05</td>\n",
       "    </tr>\n",
       "    <tr>\n",
       "      <th>Apple</th>\n",
       "      <td>txn_003</td>\n",
       "      <td>16,298,000.0</td>\n",
       "      <td>100,000.0</td>\n",
       "      <td>163.0</td>\n",
       "      <td>2020-03-06</td>\n",
       "    </tr>\n",
       "    <tr>\n",
       "      <th>Apple</th>\n",
       "      <td>txn_004</td>\n",
       "      <td>16,542,000.0</td>\n",
       "      <td>100,000.0</td>\n",
       "      <td>165.4</td>\n",
       "      <td>2020-03-07</td>\n",
       "    </tr>\n",
       "    <tr>\n",
       "      <th>Berkshire Hathaway</th>\n",
       "      <td>txn_010</td>\n",
       "      <td>3,230,900.0</td>\n",
       "      <td>10,000.0</td>\n",
       "      <td>323.1</td>\n",
       "      <td>2020-03-05</td>\n",
       "    </tr>\n",
       "    <tr>\n",
       "      <th>Berkshire Hathaway</th>\n",
       "      <td>txn_011</td>\n",
       "      <td>3,202,000.0</td>\n",
       "      <td>10,000.0</td>\n",
       "      <td>320.2</td>\n",
       "      <td>2020-03-06</td>\n",
       "    </tr>\n",
       "    <tr>\n",
       "      <th>Berkshire Hathaway</th>\n",
       "      <td>txn_012</td>\n",
       "      <td>3,256,800.0</td>\n",
       "      <td>10,000.0</td>\n",
       "      <td>325.7</td>\n",
       "      <td>2020-03-07</td>\n",
       "    </tr>\n",
       "    <tr>\n",
       "      <th>NVIDIA</th>\n",
       "      <td>txn_014</td>\n",
       "      <td>5,027,580.0</td>\n",
       "      <td>18,000.0</td>\n",
       "      <td>279.3</td>\n",
       "      <td>2020-03-05</td>\n",
       "    </tr>\n",
       "    <tr>\n",
       "      <th>NVIDIA</th>\n",
       "      <td>txn_015</td>\n",
       "      <td>3,323,760.0</td>\n",
       "      <td>12,000.0</td>\n",
       "      <td>277.0</td>\n",
       "      <td>2020-03-06</td>\n",
       "    </tr>\n",
       "    <tr>\n",
       "      <th>NVIDIA</th>\n",
       "      <td>txn_016</td>\n",
       "      <td>551,760.0</td>\n",
       "      <td>2,000.0</td>\n",
       "      <td>275.9</td>\n",
       "      <td>2020-03-07</td>\n",
       "    </tr>\n",
       "    <tr>\n",
       "      <th>Johnson &amp; Johnson</th>\n",
       "      <td>txn_018</td>\n",
       "      <td>4,063,250.0</td>\n",
       "      <td>25,000.0</td>\n",
       "      <td>162.5</td>\n",
       "      <td>2020-03-05</td>\n",
       "    </tr>\n",
       "    <tr>\n",
       "      <th>Johnson &amp; Johnson</th>\n",
       "      <td>txn_019</td>\n",
       "      <td>4,085,500.0</td>\n",
       "      <td>25,000.0</td>\n",
       "      <td>163.4</td>\n",
       "      <td>2020-03-06</td>\n",
       "    </tr>\n",
       "    <tr>\n",
       "      <th>Johnson &amp; Johnson</th>\n",
       "      <td>txn_020</td>\n",
       "      <td>4,063,250.0</td>\n",
       "      <td>25,000.0</td>\n",
       "      <td>162.5</td>\n",
       "      <td>2020-03-05</td>\n",
       "    </tr>\n",
       "    <tr>\n",
       "      <th>Johnson &amp; Johnson</th>\n",
       "      <td>txn_021</td>\n",
       "      <td>4,085,500.0</td>\n",
       "      <td>25,000.0</td>\n",
       "      <td>163.4</td>\n",
       "      <td>2020-03-06</td>\n",
       "    </tr>\n",
       "    <tr>\n",
       "      <th>Pepsico</th>\n",
       "      <td>txn_024</td>\n",
       "      <td>1,847,200.0</td>\n",
       "      <td>10,000.0</td>\n",
       "      <td>184.7</td>\n",
       "      <td>2020-03-05</td>\n",
       "    </tr>\n",
       "    <tr>\n",
       "      <th>Pepsico</th>\n",
       "      <td>txn_025</td>\n",
       "      <td>1,867,000.0</td>\n",
       "      <td>10,000.0</td>\n",
       "      <td>186.7</td>\n",
       "      <td>2020-03-06</td>\n",
       "    </tr>\n",
       "    <tr>\n",
       "      <th>Pepsico</th>\n",
       "      <td>txn_026</td>\n",
       "      <td>1,856,400.0</td>\n",
       "      <td>10,000.0</td>\n",
       "      <td>185.6</td>\n",
       "      <td>2020-03-07</td>\n",
       "    </tr>\n",
       "  </tbody>\n",
       "</table>\n",
       "</div>"
      ],
      "text/plain": [
       "                   transaction_id   cost_basis     units  purchase_price  \\\n",
       "Microsoft                 txn_006 20,191,500.0  70,000.0           288.4   \n",
       "Microsoft                 txn_007 19,903,800.0  70,000.0           284.3   \n",
       "Microsoft                 txn_008  9,816,100.0  70,000.0           140.2   \n",
       "Apple                     txn_002 16,763,000.0 100,000.0           167.6   \n",
       "Apple                     txn_003 16,298,000.0 100,000.0           163.0   \n",
       "Apple                     txn_004 16,542,000.0 100,000.0           165.4   \n",
       "Berkshire Hathaway        txn_010  3,230,900.0  10,000.0           323.1   \n",
       "Berkshire Hathaway        txn_011  3,202,000.0  10,000.0           320.2   \n",
       "Berkshire Hathaway        txn_012  3,256,800.0  10,000.0           325.7   \n",
       "NVIDIA                    txn_014  5,027,580.0  18,000.0           279.3   \n",
       "NVIDIA                    txn_015  3,323,760.0  12,000.0           277.0   \n",
       "NVIDIA                    txn_016    551,760.0   2,000.0           275.9   \n",
       "Johnson & Johnson         txn_018  4,063,250.0  25,000.0           162.5   \n",
       "Johnson & Johnson         txn_019  4,085,500.0  25,000.0           163.4   \n",
       "Johnson & Johnson         txn_020  4,063,250.0  25,000.0           162.5   \n",
       "Johnson & Johnson         txn_021  4,085,500.0  25,000.0           163.4   \n",
       "Pepsico                   txn_024  1,847,200.0  10,000.0           184.7   \n",
       "Pepsico                   txn_025  1,867,000.0  10,000.0           186.7   \n",
       "Pepsico                   txn_026  1,856,400.0  10,000.0           185.6   \n",
       "\n",
       "                   purchase_date  \n",
       "Microsoft             2020-03-04  \n",
       "Microsoft             2020-03-05  \n",
       "Microsoft             2020-03-07  \n",
       "Apple                 2020-03-05  \n",
       "Apple                 2020-03-06  \n",
       "Apple                 2020-03-07  \n",
       "Berkshire Hathaway    2020-03-05  \n",
       "Berkshire Hathaway    2020-03-06  \n",
       "Berkshire Hathaway    2020-03-07  \n",
       "NVIDIA                2020-03-05  \n",
       "NVIDIA                2020-03-06  \n",
       "NVIDIA                2020-03-07  \n",
       "Johnson & Johnson     2020-03-05  \n",
       "Johnson & Johnson     2020-03-06  \n",
       "Johnson & Johnson     2020-03-05  \n",
       "Johnson & Johnson     2020-03-06  \n",
       "Pepsico               2020-03-05  \n",
       "Pepsico               2020-03-06  \n",
       "Pepsico               2020-03-07  "
      ]
     },
     "execution_count": 17,
     "metadata": {},
     "output_type": "execute_result"
    }
   ],
   "source": [
    "display_holding_positions_by_taxlot(datetime(year=2020, month=3, day=7, tzinfo=pytz.UTC), portfolio_name_fifo)"
   ]
  },
  {
   "cell_type": "code",
   "execution_count": 18,
   "metadata": {
    "pycharm": {
     "is_executing": true,
     "name": "#%%\n"
    }
   },
   "outputs": [
    {
     "data": {
      "text/html": [
       "<a href=\"https://demo.lusid.com/app/dashboard/holdings?scope=taxlot_management_examplenb&code=tax-lot-fifo&entityType=Portfolio&taxLots=true&effectiveDate=2020-03-07\" target=\"_blank\">See holdings positions by tax lot in LUSID</a>"
      ],
      "text/plain": [
       "<IPython.core.display.HTML object>"
      ]
     },
     "metadata": {},
     "output_type": "display_data"
    }
   ],
   "source": [
    "print_url_to_holdings(datetime(year=2020, month=3, day=7, tzinfo=pytz.UTC), portfolio_name_fifo)"
   ]
  },
  {
   "cell_type": "markdown",
   "metadata": {},
   "source": [
    "We'll now look at the final positions of our portfolios under the 5 accounting methods described above. The units sold for each quity can be seen in the 'units' column.\n",
    "\n",
    "## 3.1 Average Cost\n",
    "Average Cost uses the average price of the final holdings of our portfolios. In the case of **Apple**, for example, this is $ \\frac{49,603,000}{300,000} = 165.34.$\n",
    "When using the **Average Cost** method, our cost basis is averaged across all transactions. Splitting out our holdings by tax lot is thus not applicable. The total cost basis after the sale will be calculated as $165.34 \\times 150,000 = 24,801,500$.\n",
    "**Average Cost** is the default accounting method for a portfolio created in LUSID."
   ]
  },
  {
   "cell_type": "code",
   "execution_count": 19,
   "metadata": {
    "pycharm": {
     "name": "#%%\n"
    }
   },
   "outputs": [
    {
     "data": {
      "text/html": [
       "<div>\n",
       "<style scoped>\n",
       "    .dataframe tbody tr th:only-of-type {\n",
       "        vertical-align: middle;\n",
       "    }\n",
       "\n",
       "    .dataframe tbody tr th {\n",
       "        vertical-align: top;\n",
       "    }\n",
       "\n",
       "    .dataframe thead th {\n",
       "        text-align: right;\n",
       "    }\n",
       "</style>\n",
       "<table border=\"1\" class=\"dataframe\">\n",
       "  <thead>\n",
       "    <tr style=\"text-align: right;\">\n",
       "      <th></th>\n",
       "      <th>cost_basis</th>\n",
       "      <th>units</th>\n",
       "    </tr>\n",
       "  </thead>\n",
       "  <tbody>\n",
       "    <tr>\n",
       "      <th>Microsoft</th>\n",
       "      <td>11,883,666.7</td>\n",
       "      <td>50,000.0</td>\n",
       "    </tr>\n",
       "    <tr>\n",
       "      <th>Apple</th>\n",
       "      <td>24,801,500.0</td>\n",
       "      <td>150,000.0</td>\n",
       "    </tr>\n",
       "    <tr>\n",
       "      <th>Berkshire Hathaway</th>\n",
       "      <td>4,844,850.0</td>\n",
       "      <td>15,000.0</td>\n",
       "    </tr>\n",
       "    <tr>\n",
       "      <th>NVIDIA</th>\n",
       "      <td>556,443.8</td>\n",
       "      <td>2,000.0</td>\n",
       "    </tr>\n",
       "    <tr>\n",
       "      <th>Johnson &amp; Johnson</th>\n",
       "      <td>4,074,375.0</td>\n",
       "      <td>25,000.0</td>\n",
       "    </tr>\n",
       "    <tr>\n",
       "      <th>Johnson &amp; Johnson</th>\n",
       "      <td>4,074,375.0</td>\n",
       "      <td>25,000.0</td>\n",
       "    </tr>\n",
       "    <tr>\n",
       "      <th>Pepsico</th>\n",
       "      <td>1,847,200.0</td>\n",
       "      <td>10,000.0</td>\n",
       "    </tr>\n",
       "  </tbody>\n",
       "</table>\n",
       "</div>"
      ],
      "text/plain": [
       "                     cost_basis     units\n",
       "Microsoft          11,883,666.7  50,000.0\n",
       "Apple              24,801,500.0 150,000.0\n",
       "Berkshire Hathaway  4,844,850.0  15,000.0\n",
       "NVIDIA                556,443.8   2,000.0\n",
       "Johnson & Johnson   4,074,375.0  25,000.0\n",
       "Johnson & Johnson   4,074,375.0  25,000.0\n",
       "Pepsico             1,847,200.0  10,000.0"
      ]
     },
     "execution_count": 19,
     "metadata": {},
     "output_type": "execute_result"
    }
   ],
   "source": [
    "display_holding_positions_by_taxlot(datetime(year=2020, month=3, day=14, tzinfo=pytz.UTC), portfolio_name_avg, show_taxlots=False)"
   ]
  },
  {
   "cell_type": "code",
   "execution_count": 20,
   "metadata": {
    "pycharm": {
     "is_executing": true,
     "name": "#%%\n"
    }
   },
   "outputs": [
    {
     "data": {
      "text/html": [
       "<a href=\"https://demo.lusid.com/app/dashboard/holdings?scope=taxlot_management_examplenb&code=tax-lot-avgcost&entityType=Portfolio&taxLots=true&effectiveDate=2020-03-07\" target=\"_blank\">See holdings positions by tax lot in LUSID</a>"
      ],
      "text/plain": [
       "<IPython.core.display.HTML object>"
      ]
     },
     "metadata": {},
     "output_type": "display_data"
    }
   ],
   "source": [
    "print_url_to_holdings(datetime(year=2020, month=3, day=7, tzinfo=pytz.UTC), portfolio_name_avg)"
   ]
  },
  {
   "cell_type": "markdown",
   "metadata": {},
   "source": [
    "## 3.2 First In First Out (FIFO)\n",
    "For **Apple**, using FIFO, our first tax lot (all 100,000 units coming from `txn_002`) will be fully sold, while half of our second tax lot (50,000 units coming from `txn_003`) will be sold. Below we show the remaining holdings with 50,000 units bought in `txn_003` and all the units bought in `txn_004` in separate tax lots."
   ]
  },
  {
   "cell_type": "code",
   "execution_count": 21,
   "metadata": {
    "pycharm": {
     "name": "#%%\n"
    }
   },
   "outputs": [
    {
     "data": {
      "text/html": [
       "<div>\n",
       "<style scoped>\n",
       "    .dataframe tbody tr th:only-of-type {\n",
       "        vertical-align: middle;\n",
       "    }\n",
       "\n",
       "    .dataframe tbody tr th {\n",
       "        vertical-align: top;\n",
       "    }\n",
       "\n",
       "    .dataframe thead th {\n",
       "        text-align: right;\n",
       "    }\n",
       "</style>\n",
       "<table border=\"1\" class=\"dataframe\">\n",
       "  <thead>\n",
       "    <tr style=\"text-align: right;\">\n",
       "      <th></th>\n",
       "      <th>transaction_id</th>\n",
       "      <th>cost_basis</th>\n",
       "      <th>units</th>\n",
       "      <th>purchase_price</th>\n",
       "      <th>purchase_date</th>\n",
       "    </tr>\n",
       "  </thead>\n",
       "  <tbody>\n",
       "    <tr>\n",
       "      <th>Microsoft</th>\n",
       "      <td>txn_008</td>\n",
       "      <td>7,011,500.0</td>\n",
       "      <td>50,000.0</td>\n",
       "      <td>140.2</td>\n",
       "      <td>2020-03-07</td>\n",
       "    </tr>\n",
       "    <tr>\n",
       "      <th>Apple</th>\n",
       "      <td>txn_003</td>\n",
       "      <td>8,149,000.0</td>\n",
       "      <td>50,000.0</td>\n",
       "      <td>163.0</td>\n",
       "      <td>2020-03-06</td>\n",
       "    </tr>\n",
       "    <tr>\n",
       "      <th>Apple</th>\n",
       "      <td>txn_004</td>\n",
       "      <td>16,542,000.0</td>\n",
       "      <td>100,000.0</td>\n",
       "      <td>165.4</td>\n",
       "      <td>2020-03-07</td>\n",
       "    </tr>\n",
       "    <tr>\n",
       "      <th>Berkshire Hathaway</th>\n",
       "      <td>txn_011</td>\n",
       "      <td>1,601,000.0</td>\n",
       "      <td>5,000.0</td>\n",
       "      <td>320.2</td>\n",
       "      <td>2020-03-06</td>\n",
       "    </tr>\n",
       "    <tr>\n",
       "      <th>Berkshire Hathaway</th>\n",
       "      <td>txn_012</td>\n",
       "      <td>3,256,800.0</td>\n",
       "      <td>10,000.0</td>\n",
       "      <td>325.7</td>\n",
       "      <td>2020-03-07</td>\n",
       "    </tr>\n",
       "    <tr>\n",
       "      <th>NVIDIA</th>\n",
       "      <td>txn_016</td>\n",
       "      <td>551,760.0</td>\n",
       "      <td>2,000.0</td>\n",
       "      <td>275.9</td>\n",
       "      <td>2020-03-07</td>\n",
       "    </tr>\n",
       "    <tr>\n",
       "      <th>Johnson &amp; Johnson</th>\n",
       "      <td>txn_019</td>\n",
       "      <td>4,085,500.0</td>\n",
       "      <td>25,000.0</td>\n",
       "      <td>163.4</td>\n",
       "      <td>2020-03-06</td>\n",
       "    </tr>\n",
       "    <tr>\n",
       "      <th>Johnson &amp; Johnson</th>\n",
       "      <td>txn_021</td>\n",
       "      <td>4,085,500.0</td>\n",
       "      <td>25,000.0</td>\n",
       "      <td>163.4</td>\n",
       "      <td>2020-03-06</td>\n",
       "    </tr>\n",
       "    <tr>\n",
       "      <th>Pepsico</th>\n",
       "      <td>txn_024</td>\n",
       "      <td>1,847,200.0</td>\n",
       "      <td>10,000.0</td>\n",
       "      <td>184.7</td>\n",
       "      <td>2020-03-05</td>\n",
       "    </tr>\n",
       "  </tbody>\n",
       "</table>\n",
       "</div>"
      ],
      "text/plain": [
       "                   transaction_id   cost_basis     units  purchase_price  \\\n",
       "Microsoft                 txn_008  7,011,500.0  50,000.0           140.2   \n",
       "Apple                     txn_003  8,149,000.0  50,000.0           163.0   \n",
       "Apple                     txn_004 16,542,000.0 100,000.0           165.4   \n",
       "Berkshire Hathaway        txn_011  1,601,000.0   5,000.0           320.2   \n",
       "Berkshire Hathaway        txn_012  3,256,800.0  10,000.0           325.7   \n",
       "NVIDIA                    txn_016    551,760.0   2,000.0           275.9   \n",
       "Johnson & Johnson         txn_019  4,085,500.0  25,000.0           163.4   \n",
       "Johnson & Johnson         txn_021  4,085,500.0  25,000.0           163.4   \n",
       "Pepsico                   txn_024  1,847,200.0  10,000.0           184.7   \n",
       "\n",
       "                   purchase_date  \n",
       "Microsoft             2020-03-07  \n",
       "Apple                 2020-03-06  \n",
       "Apple                 2020-03-07  \n",
       "Berkshire Hathaway    2020-03-06  \n",
       "Berkshire Hathaway    2020-03-07  \n",
       "NVIDIA                2020-03-07  \n",
       "Johnson & Johnson     2020-03-06  \n",
       "Johnson & Johnson     2020-03-06  \n",
       "Pepsico               2020-03-05  "
      ]
     },
     "execution_count": 21,
     "metadata": {},
     "output_type": "execute_result"
    }
   ],
   "source": [
    "display_holding_positions_by_taxlot(datetime(year=2020, month=3, day=14, tzinfo=pytz.UTC), portfolio_name_fifo)"
   ]
  },
  {
   "cell_type": "code",
   "execution_count": 22,
   "metadata": {
    "pycharm": {
     "is_executing": true,
     "name": "#%%\n"
    }
   },
   "outputs": [
    {
     "data": {
      "text/html": [
       "<a href=\"https://demo.lusid.com/app/dashboard/holdings?scope=taxlot_management_examplenb&code=tax-lot-fifo&entityType=Portfolio&taxLots=true&effectiveDate=2020-03-07\" target=\"_blank\">See holdings positions by tax lot in LUSID</a>"
      ],
      "text/plain": [
       "<IPython.core.display.HTML object>"
      ]
     },
     "metadata": {},
     "output_type": "display_data"
    }
   ],
   "source": [
    "print_url_to_holdings(datetime(year=2020, month=3, day=7, tzinfo=pytz.UTC), portfolio_name_fifo)"
   ]
  },
  {
   "cell_type": "markdown",
   "metadata": {},
   "source": [
    "## 3.3 Last In Last Out (LIFO)\n",
    "For **Apple**, using LIFO, our first tax lot (all 100,000 units coming from `txn_004`) will be fully sold, while half of our second tax lot (50,000 units coming from `txn_003`) will be sold.\n",
    "The difference in the total cost basis compared to the **FIFO** method, is due to the difference in total consideration between `txn_002` and `txn_004`."
   ]
  },
  {
   "cell_type": "code",
   "execution_count": 23,
   "metadata": {
    "pycharm": {
     "name": "#%%\n"
    }
   },
   "outputs": [
    {
     "data": {
      "text/html": [
       "<div>\n",
       "<style scoped>\n",
       "    .dataframe tbody tr th:only-of-type {\n",
       "        vertical-align: middle;\n",
       "    }\n",
       "\n",
       "    .dataframe tbody tr th {\n",
       "        vertical-align: top;\n",
       "    }\n",
       "\n",
       "    .dataframe thead th {\n",
       "        text-align: right;\n",
       "    }\n",
       "</style>\n",
       "<table border=\"1\" class=\"dataframe\">\n",
       "  <thead>\n",
       "    <tr style=\"text-align: right;\">\n",
       "      <th></th>\n",
       "      <th>transaction_id</th>\n",
       "      <th>cost_basis</th>\n",
       "      <th>units</th>\n",
       "      <th>purchase_price</th>\n",
       "      <th>purchase_date</th>\n",
       "    </tr>\n",
       "  </thead>\n",
       "  <tbody>\n",
       "    <tr>\n",
       "      <th>Microsoft</th>\n",
       "      <td>txn_006</td>\n",
       "      <td>14,422,500.0</td>\n",
       "      <td>50,000.0</td>\n",
       "      <td>288.4</td>\n",
       "      <td>2020-03-04</td>\n",
       "    </tr>\n",
       "    <tr>\n",
       "      <th>Apple</th>\n",
       "      <td>txn_002</td>\n",
       "      <td>16,763,000.0</td>\n",
       "      <td>100,000.0</td>\n",
       "      <td>167.6</td>\n",
       "      <td>2020-03-05</td>\n",
       "    </tr>\n",
       "    <tr>\n",
       "      <th>Apple</th>\n",
       "      <td>txn_003</td>\n",
       "      <td>8,149,000.0</td>\n",
       "      <td>50,000.0</td>\n",
       "      <td>163.0</td>\n",
       "      <td>2020-03-06</td>\n",
       "    </tr>\n",
       "    <tr>\n",
       "      <th>Berkshire Hathaway</th>\n",
       "      <td>txn_010</td>\n",
       "      <td>3,230,900.0</td>\n",
       "      <td>10,000.0</td>\n",
       "      <td>323.1</td>\n",
       "      <td>2020-03-05</td>\n",
       "    </tr>\n",
       "    <tr>\n",
       "      <th>Berkshire Hathaway</th>\n",
       "      <td>txn_011</td>\n",
       "      <td>1,601,000.0</td>\n",
       "      <td>5,000.0</td>\n",
       "      <td>320.2</td>\n",
       "      <td>2020-03-06</td>\n",
       "    </tr>\n",
       "    <tr>\n",
       "      <th>NVIDIA</th>\n",
       "      <td>txn_014</td>\n",
       "      <td>558,620.0</td>\n",
       "      <td>2,000.0</td>\n",
       "      <td>279.3</td>\n",
       "      <td>2020-03-05</td>\n",
       "    </tr>\n",
       "    <tr>\n",
       "      <th>Johnson &amp; Johnson</th>\n",
       "      <td>txn_018</td>\n",
       "      <td>4,063,250.0</td>\n",
       "      <td>25,000.0</td>\n",
       "      <td>162.5</td>\n",
       "      <td>2020-03-05</td>\n",
       "    </tr>\n",
       "    <tr>\n",
       "      <th>Johnson &amp; Johnson</th>\n",
       "      <td>txn_020</td>\n",
       "      <td>4,063,250.0</td>\n",
       "      <td>25,000.0</td>\n",
       "      <td>162.5</td>\n",
       "      <td>2020-03-05</td>\n",
       "    </tr>\n",
       "    <tr>\n",
       "      <th>Pepsico</th>\n",
       "      <td>txn_024</td>\n",
       "      <td>1,847,200.0</td>\n",
       "      <td>10,000.0</td>\n",
       "      <td>184.7</td>\n",
       "      <td>2020-03-05</td>\n",
       "    </tr>\n",
       "  </tbody>\n",
       "</table>\n",
       "</div>"
      ],
      "text/plain": [
       "                   transaction_id   cost_basis     units  purchase_price  \\\n",
       "Microsoft                 txn_006 14,422,500.0  50,000.0           288.4   \n",
       "Apple                     txn_002 16,763,000.0 100,000.0           167.6   \n",
       "Apple                     txn_003  8,149,000.0  50,000.0           163.0   \n",
       "Berkshire Hathaway        txn_010  3,230,900.0  10,000.0           323.1   \n",
       "Berkshire Hathaway        txn_011  1,601,000.0   5,000.0           320.2   \n",
       "NVIDIA                    txn_014    558,620.0   2,000.0           279.3   \n",
       "Johnson & Johnson         txn_018  4,063,250.0  25,000.0           162.5   \n",
       "Johnson & Johnson         txn_020  4,063,250.0  25,000.0           162.5   \n",
       "Pepsico                   txn_024  1,847,200.0  10,000.0           184.7   \n",
       "\n",
       "                   purchase_date  \n",
       "Microsoft             2020-03-04  \n",
       "Apple                 2020-03-05  \n",
       "Apple                 2020-03-06  \n",
       "Berkshire Hathaway    2020-03-05  \n",
       "Berkshire Hathaway    2020-03-06  \n",
       "NVIDIA                2020-03-05  \n",
       "Johnson & Johnson     2020-03-05  \n",
       "Johnson & Johnson     2020-03-05  \n",
       "Pepsico               2020-03-05  "
      ]
     },
     "execution_count": 23,
     "metadata": {},
     "output_type": "execute_result"
    }
   ],
   "source": [
    "display_holding_positions_by_taxlot(datetime(year=2020, month=3, day=14, tzinfo=pytz.UTC), portfolio_name_lifo)"
   ]
  },
  {
   "cell_type": "code",
   "execution_count": 24,
   "metadata": {
    "pycharm": {
     "is_executing": true,
     "name": "#%%\n"
    }
   },
   "outputs": [
    {
     "data": {
      "text/html": [
       "<a href=\"https://demo.lusid.com/app/dashboard/holdings?scope=taxlot_management_examplenb&code=tax-lot-lifo&entityType=Portfolio&taxLots=true&effectiveDate=2020-03-07\" target=\"_blank\">See holdings positions by tax lot in LUSID</a>"
      ],
      "text/plain": [
       "<IPython.core.display.HTML object>"
      ]
     },
     "metadata": {},
     "output_type": "display_data"
    }
   ],
   "source": [
    "print_url_to_holdings(datetime(year=2020, month=3, day=7, tzinfo=pytz.UTC), portfolio_name_lifo)"
   ]
  },
  {
   "cell_type": "markdown",
   "metadata": {
    "pycharm": {
     "name": "#%% md\n"
    }
   },
   "source": [
    "## 3.4 Highest First\n",
    "Using Highest First, the equities with the highest transaction price will be sold first. Take **Apple** for example, in the sell transaction of 150,000 units, all units from `txn_002` and 50,000 units of `txn_004` will be sold. All units from `txn_003` and 50,000 units from `txn_004` remain in the cost basis as shown in the display below."
   ]
  },
  {
   "cell_type": "code",
   "execution_count": 25,
   "metadata": {
    "pycharm": {
     "name": "#%%\n"
    }
   },
   "outputs": [
    {
     "data": {
      "text/html": [
       "<div>\n",
       "<style scoped>\n",
       "    .dataframe tbody tr th:only-of-type {\n",
       "        vertical-align: middle;\n",
       "    }\n",
       "\n",
       "    .dataframe tbody tr th {\n",
       "        vertical-align: top;\n",
       "    }\n",
       "\n",
       "    .dataframe thead th {\n",
       "        text-align: right;\n",
       "    }\n",
       "</style>\n",
       "<table border=\"1\" class=\"dataframe\">\n",
       "  <thead>\n",
       "    <tr style=\"text-align: right;\">\n",
       "      <th></th>\n",
       "      <th>transaction_id</th>\n",
       "      <th>cost_basis</th>\n",
       "      <th>units</th>\n",
       "      <th>purchase_price</th>\n",
       "      <th>purchase_date</th>\n",
       "    </tr>\n",
       "  </thead>\n",
       "  <tbody>\n",
       "    <tr>\n",
       "      <th>Microsoft</th>\n",
       "      <td>txn_008</td>\n",
       "      <td>7,011,500.0</td>\n",
       "      <td>50,000.0</td>\n",
       "      <td>140.2</td>\n",
       "      <td>2020-03-07</td>\n",
       "    </tr>\n",
       "    <tr>\n",
       "      <th>Apple</th>\n",
       "      <td>txn_003</td>\n",
       "      <td>16,298,000.0</td>\n",
       "      <td>100,000.0</td>\n",
       "      <td>163.0</td>\n",
       "      <td>2020-03-06</td>\n",
       "    </tr>\n",
       "    <tr>\n",
       "      <th>Apple</th>\n",
       "      <td>txn_004</td>\n",
       "      <td>8,271,000.0</td>\n",
       "      <td>50,000.0</td>\n",
       "      <td>165.4</td>\n",
       "      <td>2020-03-07</td>\n",
       "    </tr>\n",
       "    <tr>\n",
       "      <th>Berkshire Hathaway</th>\n",
       "      <td>txn_010</td>\n",
       "      <td>1,615,450.0</td>\n",
       "      <td>5,000.0</td>\n",
       "      <td>323.1</td>\n",
       "      <td>2020-03-05</td>\n",
       "    </tr>\n",
       "    <tr>\n",
       "      <th>Berkshire Hathaway</th>\n",
       "      <td>txn_011</td>\n",
       "      <td>3,202,000.0</td>\n",
       "      <td>10,000.0</td>\n",
       "      <td>320.2</td>\n",
       "      <td>2020-03-06</td>\n",
       "    </tr>\n",
       "    <tr>\n",
       "      <th>NVIDIA</th>\n",
       "      <td>txn_016</td>\n",
       "      <td>551,760.0</td>\n",
       "      <td>2,000.0</td>\n",
       "      <td>275.9</td>\n",
       "      <td>2020-03-07</td>\n",
       "    </tr>\n",
       "    <tr>\n",
       "      <th>Johnson &amp; Johnson</th>\n",
       "      <td>txn_018</td>\n",
       "      <td>4,063,250.0</td>\n",
       "      <td>25,000.0</td>\n",
       "      <td>162.5</td>\n",
       "      <td>2020-03-05</td>\n",
       "    </tr>\n",
       "    <tr>\n",
       "      <th>Johnson &amp; Johnson</th>\n",
       "      <td>txn_020</td>\n",
       "      <td>4,063,250.0</td>\n",
       "      <td>25,000.0</td>\n",
       "      <td>162.5</td>\n",
       "      <td>2020-03-05</td>\n",
       "    </tr>\n",
       "    <tr>\n",
       "      <th>Pepsico</th>\n",
       "      <td>txn_024</td>\n",
       "      <td>1,847,200.0</td>\n",
       "      <td>10,000.0</td>\n",
       "      <td>184.7</td>\n",
       "      <td>2020-03-05</td>\n",
       "    </tr>\n",
       "  </tbody>\n",
       "</table>\n",
       "</div>"
      ],
      "text/plain": [
       "                   transaction_id   cost_basis     units  purchase_price  \\\n",
       "Microsoft                 txn_008  7,011,500.0  50,000.0           140.2   \n",
       "Apple                     txn_003 16,298,000.0 100,000.0           163.0   \n",
       "Apple                     txn_004  8,271,000.0  50,000.0           165.4   \n",
       "Berkshire Hathaway        txn_010  1,615,450.0   5,000.0           323.1   \n",
       "Berkshire Hathaway        txn_011  3,202,000.0  10,000.0           320.2   \n",
       "NVIDIA                    txn_016    551,760.0   2,000.0           275.9   \n",
       "Johnson & Johnson         txn_018  4,063,250.0  25,000.0           162.5   \n",
       "Johnson & Johnson         txn_020  4,063,250.0  25,000.0           162.5   \n",
       "Pepsico                   txn_024  1,847,200.0  10,000.0           184.7   \n",
       "\n",
       "                   purchase_date  \n",
       "Microsoft             2020-03-07  \n",
       "Apple                 2020-03-06  \n",
       "Apple                 2020-03-07  \n",
       "Berkshire Hathaway    2020-03-05  \n",
       "Berkshire Hathaway    2020-03-06  \n",
       "NVIDIA                2020-03-07  \n",
       "Johnson & Johnson     2020-03-05  \n",
       "Johnson & Johnson     2020-03-05  \n",
       "Pepsico               2020-03-05  "
      ]
     },
     "execution_count": 25,
     "metadata": {},
     "output_type": "execute_result"
    }
   ],
   "source": [
    "display_holding_positions_by_taxlot(datetime(year=2020, month=3, day=14, tzinfo=pytz.UTC), portfolio_name_high)"
   ]
  },
  {
   "cell_type": "code",
   "execution_count": 26,
   "metadata": {
    "pycharm": {
     "is_executing": true,
     "name": "#%%\n"
    }
   },
   "outputs": [
    {
     "data": {
      "text/html": [
       "<a href=\"https://demo.lusid.com/app/dashboard/holdings?scope=taxlot_management_examplenb&code=tax-lot-highestcost&entityType=Portfolio&taxLots=true&effectiveDate=2020-03-07\" target=\"_blank\">See holdings positions by tax lot in LUSID</a>"
      ],
      "text/plain": [
       "<IPython.core.display.HTML object>"
      ]
     },
     "metadata": {},
     "output_type": "display_data"
    }
   ],
   "source": [
    "print_url_to_holdings(datetime(year=2020, month=3, day=7, tzinfo=pytz.UTC), portfolio_name_high)"
   ]
  },
  {
   "cell_type": "markdown",
   "metadata": {},
   "source": [
    "## 3.5 Lowest First\n",
    "Using Lowest First, the equities with the lowest transaction price will be sold first. For **Apple**, in the sell transaction of 150,000 units, all units from `txn_003` and 50,000 units of `txn_004`. All units from `txn_002` and 50,000 units from `txn_004` remain in the cost basis as shown in the display below.\n",
    "The difference in the cost basis compared to the **Highest First** method, is due to the difference in total consideration between `txn_002` and `txn_004`."
   ]
  },
  {
   "cell_type": "code",
   "execution_count": 27,
   "metadata": {
    "pycharm": {
     "name": "#%%\n"
    }
   },
   "outputs": [
    {
     "data": {
      "text/html": [
       "<div>\n",
       "<style scoped>\n",
       "    .dataframe tbody tr th:only-of-type {\n",
       "        vertical-align: middle;\n",
       "    }\n",
       "\n",
       "    .dataframe tbody tr th {\n",
       "        vertical-align: top;\n",
       "    }\n",
       "\n",
       "    .dataframe thead th {\n",
       "        text-align: right;\n",
       "    }\n",
       "</style>\n",
       "<table border=\"1\" class=\"dataframe\">\n",
       "  <thead>\n",
       "    <tr style=\"text-align: right;\">\n",
       "      <th></th>\n",
       "      <th>transaction_id</th>\n",
       "      <th>cost_basis</th>\n",
       "      <th>units</th>\n",
       "      <th>purchase_price</th>\n",
       "      <th>purchase_date</th>\n",
       "    </tr>\n",
       "  </thead>\n",
       "  <tbody>\n",
       "    <tr>\n",
       "      <th>Microsoft</th>\n",
       "      <td>txn_006</td>\n",
       "      <td>14,422,500.0</td>\n",
       "      <td>50,000.0</td>\n",
       "      <td>288.4</td>\n",
       "      <td>2020-03-04</td>\n",
       "    </tr>\n",
       "    <tr>\n",
       "      <th>Apple</th>\n",
       "      <td>txn_002</td>\n",
       "      <td>16,763,000.0</td>\n",
       "      <td>100,000.0</td>\n",
       "      <td>167.6</td>\n",
       "      <td>2020-03-05</td>\n",
       "    </tr>\n",
       "    <tr>\n",
       "      <th>Apple</th>\n",
       "      <td>txn_004</td>\n",
       "      <td>8,271,000.0</td>\n",
       "      <td>50,000.0</td>\n",
       "      <td>165.4</td>\n",
       "      <td>2020-03-07</td>\n",
       "    </tr>\n",
       "    <tr>\n",
       "      <th>Berkshire Hathaway</th>\n",
       "      <td>txn_010</td>\n",
       "      <td>1,615,450.0</td>\n",
       "      <td>5,000.0</td>\n",
       "      <td>323.1</td>\n",
       "      <td>2020-03-05</td>\n",
       "    </tr>\n",
       "    <tr>\n",
       "      <th>Berkshire Hathaway</th>\n",
       "      <td>txn_012</td>\n",
       "      <td>3,256,800.0</td>\n",
       "      <td>10,000.0</td>\n",
       "      <td>325.7</td>\n",
       "      <td>2020-03-07</td>\n",
       "    </tr>\n",
       "    <tr>\n",
       "      <th>NVIDIA</th>\n",
       "      <td>txn_014</td>\n",
       "      <td>558,620.0</td>\n",
       "      <td>2,000.0</td>\n",
       "      <td>279.3</td>\n",
       "      <td>2020-03-05</td>\n",
       "    </tr>\n",
       "    <tr>\n",
       "      <th>Johnson &amp; Johnson</th>\n",
       "      <td>txn_019</td>\n",
       "      <td>4,085,500.0</td>\n",
       "      <td>25,000.0</td>\n",
       "      <td>163.4</td>\n",
       "      <td>2020-03-06</td>\n",
       "    </tr>\n",
       "    <tr>\n",
       "      <th>Johnson &amp; Johnson</th>\n",
       "      <td>txn_021</td>\n",
       "      <td>4,085,500.0</td>\n",
       "      <td>25,000.0</td>\n",
       "      <td>163.4</td>\n",
       "      <td>2020-03-06</td>\n",
       "    </tr>\n",
       "    <tr>\n",
       "      <th>Pepsico</th>\n",
       "      <td>txn_024</td>\n",
       "      <td>1,847,200.0</td>\n",
       "      <td>10,000.0</td>\n",
       "      <td>184.7</td>\n",
       "      <td>2020-03-05</td>\n",
       "    </tr>\n",
       "  </tbody>\n",
       "</table>\n",
       "</div>"
      ],
      "text/plain": [
       "                   transaction_id   cost_basis     units  purchase_price  \\\n",
       "Microsoft                 txn_006 14,422,500.0  50,000.0           288.4   \n",
       "Apple                     txn_002 16,763,000.0 100,000.0           167.6   \n",
       "Apple                     txn_004  8,271,000.0  50,000.0           165.4   \n",
       "Berkshire Hathaway        txn_010  1,615,450.0   5,000.0           323.1   \n",
       "Berkshire Hathaway        txn_012  3,256,800.0  10,000.0           325.7   \n",
       "NVIDIA                    txn_014    558,620.0   2,000.0           279.3   \n",
       "Johnson & Johnson         txn_019  4,085,500.0  25,000.0           163.4   \n",
       "Johnson & Johnson         txn_021  4,085,500.0  25,000.0           163.4   \n",
       "Pepsico                   txn_024  1,847,200.0  10,000.0           184.7   \n",
       "\n",
       "                   purchase_date  \n",
       "Microsoft             2020-03-04  \n",
       "Apple                 2020-03-05  \n",
       "Apple                 2020-03-07  \n",
       "Berkshire Hathaway    2020-03-05  \n",
       "Berkshire Hathaway    2020-03-07  \n",
       "NVIDIA                2020-03-05  \n",
       "Johnson & Johnson     2020-03-06  \n",
       "Johnson & Johnson     2020-03-06  \n",
       "Pepsico               2020-03-05  "
      ]
     },
     "execution_count": 27,
     "metadata": {},
     "output_type": "execute_result"
    }
   ],
   "source": [
    "display_holding_positions_by_taxlot(datetime(year=2020, month=3, day=14, tzinfo=pytz.UTC), portfolio_name_low)"
   ]
  },
  {
   "cell_type": "code",
   "execution_count": 28,
   "metadata": {
    "pycharm": {
     "is_executing": true,
     "name": "#%%\n"
    }
   },
   "outputs": [
    {
     "data": {
      "text/html": [
       "<a href=\"https://demo.lusid.com/app/dashboard/holdings?scope=taxlot_management_examplenb&code=tax-lot-lowestcost&entityType=Portfolio&taxLots=true&effectiveDate=2020-03-07\" target=\"_blank\">See holdings positions by tax lot in LUSID</a>"
      ],
      "text/plain": [
       "<IPython.core.display.HTML object>"
      ]
     },
     "metadata": {},
     "output_type": "display_data"
    }
   ],
   "source": [
    "print_url_to_holdings(datetime(year=2020, month=3, day=7, tzinfo=pytz.UTC), portfolio_name_low)"
   ]
  },
  {
   "cell_type": "markdown",
   "metadata": {},
   "source": [
    "## 4. Corporate Actions\n",
    "\n",
    "Below, we apply a 2 for 1 stock split corporate action on Microsoft shares. This has the effect of doubling the units of an equity that we hold."
   ]
  },
  {
   "cell_type": "code",
   "execution_count": 29,
   "metadata": {},
   "outputs": [],
   "source": [
    "# Set conditions of Corporate Action\n",
    "transitions = [\n",
    "    models.CorporateActionTransition(\n",
    "        input_transition=models.CorporateActionTransitionComponentRequest(\n",
    "            instrument_identifiers={\n",
    "                \"Instrument/default/ClientInternal\": \"EQUITY_MSFT\"\n",
    "            },\n",
    "            units_factor=1,\n",
    "            cost_factor=1,\n",
    "        ),\n",
    "        output_transitions=[\n",
    "            models.CorporateActionTransitionComponentRequest(\n",
    "                instrument_identifiers={\n",
    "                    \"Instrument/default/ClientInternal\": \"EQUITY_MSFT\"\n",
    "                },\n",
    "                units_factor=2,\n",
    "                cost_factor=1,\n",
    "            )\n",
    "        ],\n",
    "    )\n",
    "]\n",
    "\n",
    "# Create Corporate Action\n",
    "split_request = models.UpsertCorporateActionRequest(\n",
    "    corporate_action_code=\"SS001\",\n",
    "    announcement_date=datetime(year=2020, month=3, day=5, tzinfo=pytz.UTC),\n",
    "    ex_date=datetime(year=2020, month=3, day=6, tzinfo=pytz.UTC),\n",
    "    record_date=datetime(year=2020, month=3, day=6, tzinfo=pytz.UTC),\n",
    "    payment_date=datetime(year=2020, month=3, day=6, tzinfo=pytz.UTC),\n",
    "    transitions=transitions,\n",
    ")\n",
    "\n",
    "result = corporate_action_sources_api.batch_upsert_corporate_actions(\n",
    "    scope=scope, code=ca_code, upsert_corporate_action_request=[split_request]\n",
    ")"
   ]
  },
  {
   "cell_type": "markdown",
   "metadata": {},
   "source": [
    "Before the stock split."
   ]
  },
  {
   "cell_type": "code",
   "execution_count": 30,
   "metadata": {},
   "outputs": [
    {
     "data": {
      "text/html": [
       "<div>\n",
       "<style scoped>\n",
       "    .dataframe tbody tr th:only-of-type {\n",
       "        vertical-align: middle;\n",
       "    }\n",
       "\n",
       "    .dataframe tbody tr th {\n",
       "        vertical-align: top;\n",
       "    }\n",
       "\n",
       "    .dataframe thead th {\n",
       "        text-align: right;\n",
       "    }\n",
       "</style>\n",
       "<table border=\"1\" class=\"dataframe\">\n",
       "  <thead>\n",
       "    <tr style=\"text-align: right;\">\n",
       "      <th></th>\n",
       "      <th>transaction_id</th>\n",
       "      <th>cost_basis</th>\n",
       "      <th>units</th>\n",
       "      <th>purchase_price</th>\n",
       "      <th>purchase_date</th>\n",
       "    </tr>\n",
       "  </thead>\n",
       "  <tbody>\n",
       "    <tr>\n",
       "      <th>Microsoft</th>\n",
       "      <td>txn_006</td>\n",
       "      <td>20,191,500.0</td>\n",
       "      <td>70,000.0</td>\n",
       "      <td>288.4</td>\n",
       "      <td>2020-03-04</td>\n",
       "    </tr>\n",
       "    <tr>\n",
       "      <th>Microsoft</th>\n",
       "      <td>txn_007</td>\n",
       "      <td>19,903,800.0</td>\n",
       "      <td>70,000.0</td>\n",
       "      <td>284.3</td>\n",
       "      <td>2020-03-05</td>\n",
       "    </tr>\n",
       "  </tbody>\n",
       "</table>\n",
       "</div>"
      ],
      "text/plain": [
       "          transaction_id   cost_basis    units  purchase_price purchase_date\n",
       "Microsoft        txn_006 20,191,500.0 70,000.0           288.4    2020-03-04\n",
       "Microsoft        txn_007 19,903,800.0 70,000.0           284.3    2020-03-05"
      ]
     },
     "execution_count": 30,
     "metadata": {},
     "output_type": "execute_result"
    }
   ],
   "source": [
    "display_holding_positions_by_taxlot(datetime(year=2020, month=3, day=5, tzinfo=pytz.UTC), portfolio_name_low).query(\"index == 'Microsoft'\")"
   ]
  },
  {
   "cell_type": "markdown",
   "metadata": {},
   "source": [
    "After the stock split. Note how the units have doubled for Microsoft."
   ]
  },
  {
   "cell_type": "code",
   "execution_count": 31,
   "metadata": {},
   "outputs": [
    {
     "data": {
      "text/html": [
       "<div>\n",
       "<style scoped>\n",
       "    .dataframe tbody tr th:only-of-type {\n",
       "        vertical-align: middle;\n",
       "    }\n",
       "\n",
       "    .dataframe tbody tr th {\n",
       "        vertical-align: top;\n",
       "    }\n",
       "\n",
       "    .dataframe thead th {\n",
       "        text-align: right;\n",
       "    }\n",
       "</style>\n",
       "<table border=\"1\" class=\"dataframe\">\n",
       "  <thead>\n",
       "    <tr style=\"text-align: right;\">\n",
       "      <th></th>\n",
       "      <th>transaction_id</th>\n",
       "      <th>cost_basis</th>\n",
       "      <th>units</th>\n",
       "      <th>purchase_price</th>\n",
       "      <th>purchase_date</th>\n",
       "    </tr>\n",
       "  </thead>\n",
       "  <tbody>\n",
       "    <tr>\n",
       "      <th>Microsoft</th>\n",
       "      <td>txn_006</td>\n",
       "      <td>20,191,500.0</td>\n",
       "      <td>140,000.0</td>\n",
       "      <td>288.4</td>\n",
       "      <td>2020-03-04</td>\n",
       "    </tr>\n",
       "    <tr>\n",
       "      <th>Microsoft</th>\n",
       "      <td>txn_007</td>\n",
       "      <td>19,903,800.0</td>\n",
       "      <td>140,000.0</td>\n",
       "      <td>284.3</td>\n",
       "      <td>2020-03-05</td>\n",
       "    </tr>\n",
       "    <tr>\n",
       "      <th>Microsoft</th>\n",
       "      <td>txn_008</td>\n",
       "      <td>9,816,100.0</td>\n",
       "      <td>70,000.0</td>\n",
       "      <td>140.2</td>\n",
       "      <td>2020-03-07</td>\n",
       "    </tr>\n",
       "  </tbody>\n",
       "</table>\n",
       "</div>"
      ],
      "text/plain": [
       "          transaction_id   cost_basis     units  purchase_price purchase_date\n",
       "Microsoft        txn_006 20,191,500.0 140,000.0           288.4    2020-03-04\n",
       "Microsoft        txn_007 19,903,800.0 140,000.0           284.3    2020-03-05\n",
       "Microsoft        txn_008  9,816,100.0  70,000.0           140.2    2020-03-07"
      ]
     },
     "execution_count": 31,
     "metadata": {},
     "output_type": "execute_result"
    }
   ],
   "source": [
    "display_holding_positions_by_taxlot(datetime(year=2020, month=3, day=7, tzinfo=pytz.UTC), portfolio_name_low).query(\"index == 'Microsoft'\")"
   ]
  },
  {
   "cell_type": "markdown",
   "metadata": {},
   "source": [
    "## 5. Demo Walkthrough\n",
    "\n",
    "This sections details some useful links and data that helps to illustrate the taxlot offering we can provide.\n",
    "\n",
    "1. [Initialise Functions](#5.1-Initialise-Functions)\n",
    "2. [Show Holdings](#5.2-Show-Holdings)\n",
    "3. [Show Transactions](#5.3-Show-Transactions)\n",
    "4. [Corporate Actions](#5.4-Corporate-Actions)\n",
    "5. [Gain and Loss](#5.5-Gain-and-Loss)\n",
    "\n",
    "Key Dates:\n",
    "- **04/03/2020** : Cash paid in and first transaction for MSFT only\n",
    "- **05/03/2020** : Cash settles and majority of equities get first transaction\n",
    "- **06/03/2020** : Corporate action stock split (2 for 1) for Microsoft\n",
    "- **07/03/2020** : Final Buy transactions executed\n",
    "- **08/03/2020** : All sell transactions executed\n",
    "- **10/03/2020** : All Buy transactions settled\n",
    "- **11/03/2020** : All Sell transactions settled"
   ]
  },
  {
   "cell_type": "markdown",
   "metadata": {},
   "source": [
    "## 5.1 Initialise Functions\n",
    "\n",
    "Declare the functions that we will use throughout this demo. We have done this at the top of this section to help with readibility."
   ]
  },
  {
   "cell_type": "code",
   "execution_count": 32,
   "metadata": {},
   "outputs": [],
   "source": [
    "# Demo class for below function\n",
    "class Demo(Enum):\n",
    "    HOLDINGS = \"holdings\"\n",
    "    TRANSACTIONS = \"transactions\"\n",
    "    CORPORATE_ACTIONS = \"actions\"\n",
    "    \n",
    "# Generate links for each demo type\n",
    "def generate_href(demo_type, effective_at, portfolio_list=None, as_at=None):\n",
    "    # Get users domain from API Factory\n",
    "    api_url = api_factory.api_client.configuration._base_path.replace(\"api\",\"\")\n",
    "    # Create URLs\n",
    "    if demo_type.name != \"HOLDINGS\":\n",
    "        from_date = (effective_at - timedelta(60)).strftime('%Y-%m-%d')\n",
    "        to_date = effective_at.strftime('%Y-%m-%d')\n",
    "        # Create link for Corporate Actions\n",
    "        if demo_type.name == \"CORPORATE_ACTIONS\":\n",
    "            display(HTML(f'''<b>Corporate Actions:</b> <a href=\"{api_url}app/data-management/actions?actionsDateFrom={from_date}&actionsDateTo={to_date}&corporateSourceScope=taxlot_management_examplenb&corporateSourceCode=tax_lot_stock_split&corporateSourceName=Tax Lot Corporate Action Source\" target=\"_blank\">See corporate actions in LUSID</a>'''))\n",
    "            return\n",
    "        # Format date for Transactions\n",
    "        date_string = f\"dateFrom={from_date}&dateTo={to_date}\"\n",
    "    else:\n",
    "        # Format date for Holdings\n",
    "        date_string = f\"effectiveDate={effective_at.strftime('%Y-%m-%d')}\"\n",
    "\n",
    "    if as_at is not None:\n",
    "        as_at = as_at + timedelta(milliseconds=1)  # manually round up as web can only handle milliseconds\n",
    "        date_string += f\"&asAt={as_at.isoformat(timespec='milliseconds').replace('+00:00', 'Z')}\"\n",
    "    \n",
    "    # Create links for Holdings and Transactions        \n",
    "    if portfolio_list:\n",
    "        for portfolio_name in portfolio_list:\n",
    "            display(HTML(f'''<b>{portfolio_name[0]}:</b> <a href=\"{api_url}app/dashboard/{demo_type.value}?scope=taxlot_management_examplenb&code={portfolio_name[1]}&entityType=Portfolio&taxLots=true&{date_string}\" target=\"_blank\">See {demo_type.value} by tax lot in LUSID</a>'''))\n",
    "    else:\n",
    "        raise Exception(f\"Parameter 'portfolio_list' cannot be None for {demo_type}\")\n",
    "\n",
    "# Get the gain and loss data\n",
    "def get_gl(val, pricing=False):\n",
    "    if not pricing:\n",
    "        return val.realised_gain_loss[0]\n",
    "    else:\n",
    "        sell_units = val.realised_gain_loss[0].units\n",
    "        sell_amount = val.realised_gain_loss[0].cost_portfolio_ccy.amount\n",
    "        return sell_amount/sell_units\n",
    "\n",
    "# Get name of instrument\n",
    "def get_name(val):\n",
    "    if 'Instrument/default/ClientInternal' in val.instrument_identifiers:\n",
    "        return val.instrument_identifiers['Instrument/default/ClientInternal']\n",
    "    elif 'Instrument/default/Currency' in val.instrument_identifiers:\n",
    "        return val.instrument_identifiers['Instrument/default/Currency']\n",
    "\n",
    "# Get gain & loss data by building transactions\n",
    "def build_transactions(effective_at, portfolio_name, as_at=None):\n",
    "    from_date = (effective_at - timedelta(60)).strftime('%Y-%m-%d')\n",
    "    to_date = effective_at.strftime('%Y-%m-%d')\n",
    "    sleeve_key = 'Transaction/taxlot_management_examplenb/sleeve'\n",
    "\n",
    "    result = transaction_portfolios_api.build_transactions(\n",
    "        scope=scope,\n",
    "        code=portfolio_name,\n",
    "        as_at=as_at,\n",
    "        transaction_query_parameters=models.TransactionQueryParameters(\n",
    "            start_date=from_date,\n",
    "            end_date=to_date\n",
    "        )\n",
    "    )\n",
    "\n",
    "    vals = result.values # for readibility\n",
    "    gain_loss_data = {\n",
    "        \"Name\": [get_name(val) for val in vals],\n",
    "        \"Type\": [val.type for val in vals],\n",
    "        \"TxnId\": [val.transaction_id for val in vals],\n",
    "        \"Transaction Date\": [val.transaction_date.date() for val in vals],\n",
    "        \"Cost Holding Ccy (USD)\": [sum(gl.cost_trade_ccy.amount for gl in val.realised_gain_loss) if val.realised_gain_loss else None for val in vals],\n",
    "        \"Realised Trade Ccy (USD)\": [sum(gl.realised_trade_ccy.amount for gl in val.realised_gain_loss) if val.realised_gain_loss else None for val in vals],\n",
    "        \"Cost Portfolio Ccy (GBP)\": [sum(gl.cost_portfolio_ccy.amount for gl in val.realised_gain_loss) if val.realised_gain_loss else None for val in vals],\n",
    "        \"Realised Trade Ccy - Market Component (GBP)\": [sum(gl.realised_market.amount for gl in val.realised_gain_loss) if val.realised_gain_loss else None for val in vals],\n",
    "        \"Realised Trade Ccy - Currency Component (GBP)\": [sum(gl.realised_currency.amount for gl in val.realised_gain_loss) if val.realised_gain_loss else None for val in vals],\n",
    "        \"Realised Trade Ccy - Total (GBP)\": [sum(gl.realised_total.amount for gl in val.realised_gain_loss) if val.realised_gain_loss else None for val in vals],\n",
    "    }\n",
    "    return pd.DataFrame(data=gain_loss_data).sort_values(by=['Name', 'Transaction Date'])"
   ]
  },
  {
   "cell_type": "code",
   "execution_count": 33,
   "metadata": {},
   "outputs": [],
   "source": [
    "portfolio_list = [\n",
    "    [\"Average Cost\", portfolio_name_avg],\n",
    "    [\"FIFO\", portfolio_name_fifo],\n",
    "    [\"LIFO\", portfolio_name_lifo],\n",
    "    [\"Highest First\", portfolio_name_high],\n",
    "    [\"Lowest First\", portfolio_name_low]\n",
    "]"
   ]
  },
  {
   "cell_type": "markdown",
   "metadata": {},
   "source": [
    "## 5.2 Show Holdings\n",
    "\n",
    "Holdings links (with taxlots on). Try grouping by instrument and then by sleeve."
   ]
  },
  {
   "cell_type": "code",
   "execution_count": 34,
   "metadata": {},
   "outputs": [
    {
     "data": {
      "text/html": [
       "<b>Average Cost:</b> <a href=\"https://demo.lusid.com/app/dashboard/holdings?scope=taxlot_management_examplenb&code=tax-lot-avgcost&entityType=Portfolio&taxLots=true&effectiveDate=2020-03-11&asAt=2023-07-25T03:14:31.707Z\" target=\"_blank\">See holdings by tax lot in LUSID</a>"
      ],
      "text/plain": [
       "<IPython.core.display.HTML object>"
      ]
     },
     "metadata": {},
     "output_type": "display_data"
    },
    {
     "data": {
      "text/html": [
       "<b>FIFO:</b> <a href=\"https://demo.lusid.com/app/dashboard/holdings?scope=taxlot_management_examplenb&code=tax-lot-fifo&entityType=Portfolio&taxLots=true&effectiveDate=2020-03-11&asAt=2023-07-25T03:14:31.707Z\" target=\"_blank\">See holdings by tax lot in LUSID</a>"
      ],
      "text/plain": [
       "<IPython.core.display.HTML object>"
      ]
     },
     "metadata": {},
     "output_type": "display_data"
    },
    {
     "data": {
      "text/html": [
       "<b>LIFO:</b> <a href=\"https://demo.lusid.com/app/dashboard/holdings?scope=taxlot_management_examplenb&code=tax-lot-lifo&entityType=Portfolio&taxLots=true&effectiveDate=2020-03-11&asAt=2023-07-25T03:14:31.707Z\" target=\"_blank\">See holdings by tax lot in LUSID</a>"
      ],
      "text/plain": [
       "<IPython.core.display.HTML object>"
      ]
     },
     "metadata": {},
     "output_type": "display_data"
    },
    {
     "data": {
      "text/html": [
       "<b>Highest First:</b> <a href=\"https://demo.lusid.com/app/dashboard/holdings?scope=taxlot_management_examplenb&code=tax-lot-highestcost&entityType=Portfolio&taxLots=true&effectiveDate=2020-03-11&asAt=2023-07-25T03:14:31.707Z\" target=\"_blank\">See holdings by tax lot in LUSID</a>"
      ],
      "text/plain": [
       "<IPython.core.display.HTML object>"
      ]
     },
     "metadata": {},
     "output_type": "display_data"
    },
    {
     "data": {
      "text/html": [
       "<b>Lowest First:</b> <a href=\"https://demo.lusid.com/app/dashboard/holdings?scope=taxlot_management_examplenb&code=tax-lot-lowestcost&entityType=Portfolio&taxLots=true&effectiveDate=2020-03-11&asAt=2023-07-25T03:14:31.707Z\" target=\"_blank\">See holdings by tax lot in LUSID</a>"
      ],
      "text/plain": [
       "<IPython.core.display.HTML object>"
      ]
     },
     "metadata": {},
     "output_type": "display_data"
    }
   ],
   "source": [
    "generate_href(Demo.HOLDINGS, datetime(year=2020, month=3, day=11, tzinfo=pytz.UTC), portfolio_list,\n",
    "             as_at=original_transactions_response.version.as_at_date)"
   ]
  },
  {
   "cell_type": "markdown",
   "metadata": {},
   "source": [
    "## 5.3 Show Transactions\n",
    "\n",
    "We recommend filtering for a single equity (eg. Pepsico) and showing how its transactions vary depending on the tax lot."
   ]
  },
  {
   "cell_type": "code",
   "execution_count": 35,
   "metadata": {},
   "outputs": [
    {
     "data": {
      "text/html": [
       "<b>Average Cost:</b> <a href=\"https://demo.lusid.com/app/dashboard/transactions?scope=taxlot_management_examplenb&code=tax-lot-avgcost&entityType=Portfolio&taxLots=true&dateFrom=2020-01-11&dateTo=2020-03-11&asAt=2023-07-25T03:14:31.707Z\" target=\"_blank\">See transactions by tax lot in LUSID</a>"
      ],
      "text/plain": [
       "<IPython.core.display.HTML object>"
      ]
     },
     "metadata": {},
     "output_type": "display_data"
    },
    {
     "data": {
      "text/html": [
       "<b>FIFO:</b> <a href=\"https://demo.lusid.com/app/dashboard/transactions?scope=taxlot_management_examplenb&code=tax-lot-fifo&entityType=Portfolio&taxLots=true&dateFrom=2020-01-11&dateTo=2020-03-11&asAt=2023-07-25T03:14:31.707Z\" target=\"_blank\">See transactions by tax lot in LUSID</a>"
      ],
      "text/plain": [
       "<IPython.core.display.HTML object>"
      ]
     },
     "metadata": {},
     "output_type": "display_data"
    },
    {
     "data": {
      "text/html": [
       "<b>LIFO:</b> <a href=\"https://demo.lusid.com/app/dashboard/transactions?scope=taxlot_management_examplenb&code=tax-lot-lifo&entityType=Portfolio&taxLots=true&dateFrom=2020-01-11&dateTo=2020-03-11&asAt=2023-07-25T03:14:31.707Z\" target=\"_blank\">See transactions by tax lot in LUSID</a>"
      ],
      "text/plain": [
       "<IPython.core.display.HTML object>"
      ]
     },
     "metadata": {},
     "output_type": "display_data"
    },
    {
     "data": {
      "text/html": [
       "<b>Highest First:</b> <a href=\"https://demo.lusid.com/app/dashboard/transactions?scope=taxlot_management_examplenb&code=tax-lot-highestcost&entityType=Portfolio&taxLots=true&dateFrom=2020-01-11&dateTo=2020-03-11&asAt=2023-07-25T03:14:31.707Z\" target=\"_blank\">See transactions by tax lot in LUSID</a>"
      ],
      "text/plain": [
       "<IPython.core.display.HTML object>"
      ]
     },
     "metadata": {},
     "output_type": "display_data"
    },
    {
     "data": {
      "text/html": [
       "<b>Lowest First:</b> <a href=\"https://demo.lusid.com/app/dashboard/transactions?scope=taxlot_management_examplenb&code=tax-lot-lowestcost&entityType=Portfolio&taxLots=true&dateFrom=2020-01-11&dateTo=2020-03-11&asAt=2023-07-25T03:14:31.707Z\" target=\"_blank\">See transactions by tax lot in LUSID</a>"
      ],
      "text/plain": [
       "<IPython.core.display.HTML object>"
      ]
     },
     "metadata": {},
     "output_type": "display_data"
    }
   ],
   "source": [
    "generate_href(Demo.TRANSACTIONS, datetime(year=2020, month=3, day=11, tzinfo=pytz.UTC), portfolio_list,\n",
    "             as_at=original_transactions_response.version.as_at_date)                                "
   ]
  },
  {
   "cell_type": "markdown",
   "metadata": {},
   "source": [
    "## 5.4 Corporate Actions\n",
    "\n",
    "\n",
    "First, view the corporate actions in the corporate actions screen. You should see the Microsoft equity being impacted."
   ]
  },
  {
   "cell_type": "code",
   "execution_count": 36,
   "metadata": {},
   "outputs": [
    {
     "data": {
      "text/html": [
       "<b>Corporate Actions:</b> <a href=\"https://demo.lusid.com/app/data-management/actions?actionsDateFrom=2020-01-11&actionsDateTo=2020-03-11&corporateSourceScope=taxlot_management_examplenb&corporateSourceCode=tax_lot_stock_split&corporateSourceName=Tax Lot Corporate Action Source\" target=\"_blank\">See corporate actions in LUSID</a>"
      ],
      "text/plain": [
       "<IPython.core.display.HTML object>"
      ]
     },
     "metadata": {},
     "output_type": "display_data"
    }
   ],
   "source": [
    "generate_href(Demo.CORPORATE_ACTIONS, datetime(year=2020, month=3, day=11, tzinfo=pytz.UTC),\n",
    "             as_at=original_transactions_response.version.as_at_date) "
   ]
  },
  {
   "cell_type": "markdown",
   "metadata": {},
   "source": [
    "Next, view the corporate actions within the transaction screen. To find them, filter your transactions for Microsoft and look for an \"Adjustment Increase\" transaction type. See how the values vary between the average tax lot and the rest."
   ]
  },
  {
   "cell_type": "code",
   "execution_count": 37,
   "metadata": {},
   "outputs": [
    {
     "data": {
      "text/html": [
       "<b>Average Cost:</b> <a href=\"https://demo.lusid.com/app/dashboard/transactions?scope=taxlot_management_examplenb&code=tax-lot-avgcost&entityType=Portfolio&taxLots=true&dateFrom=2020-01-11&dateTo=2020-03-11&asAt=2023-07-25T03:14:31.707Z\" target=\"_blank\">See transactions by tax lot in LUSID</a>"
      ],
      "text/plain": [
       "<IPython.core.display.HTML object>"
      ]
     },
     "metadata": {},
     "output_type": "display_data"
    },
    {
     "data": {
      "text/html": [
       "<b>FIFO:</b> <a href=\"https://demo.lusid.com/app/dashboard/transactions?scope=taxlot_management_examplenb&code=tax-lot-fifo&entityType=Portfolio&taxLots=true&dateFrom=2020-01-11&dateTo=2020-03-11&asAt=2023-07-25T03:14:31.707Z\" target=\"_blank\">See transactions by tax lot in LUSID</a>"
      ],
      "text/plain": [
       "<IPython.core.display.HTML object>"
      ]
     },
     "metadata": {},
     "output_type": "display_data"
    },
    {
     "data": {
      "text/html": [
       "<b>LIFO:</b> <a href=\"https://demo.lusid.com/app/dashboard/transactions?scope=taxlot_management_examplenb&code=tax-lot-lifo&entityType=Portfolio&taxLots=true&dateFrom=2020-01-11&dateTo=2020-03-11&asAt=2023-07-25T03:14:31.707Z\" target=\"_blank\">See transactions by tax lot in LUSID</a>"
      ],
      "text/plain": [
       "<IPython.core.display.HTML object>"
      ]
     },
     "metadata": {},
     "output_type": "display_data"
    },
    {
     "data": {
      "text/html": [
       "<b>Highest First:</b> <a href=\"https://demo.lusid.com/app/dashboard/transactions?scope=taxlot_management_examplenb&code=tax-lot-highestcost&entityType=Portfolio&taxLots=true&dateFrom=2020-01-11&dateTo=2020-03-11&asAt=2023-07-25T03:14:31.707Z\" target=\"_blank\">See transactions by tax lot in LUSID</a>"
      ],
      "text/plain": [
       "<IPython.core.display.HTML object>"
      ]
     },
     "metadata": {},
     "output_type": "display_data"
    },
    {
     "data": {
      "text/html": [
       "<b>Lowest First:</b> <a href=\"https://demo.lusid.com/app/dashboard/transactions?scope=taxlot_management_examplenb&code=tax-lot-lowestcost&entityType=Portfolio&taxLots=true&dateFrom=2020-01-11&dateTo=2020-03-11&asAt=2023-07-25T03:14:31.707Z\" target=\"_blank\">See transactions by tax lot in LUSID</a>"
      ],
      "text/plain": [
       "<IPython.core.display.HTML object>"
      ]
     },
     "metadata": {},
     "output_type": "display_data"
    }
   ],
   "source": [
    "generate_href(Demo.TRANSACTIONS, datetime(year=2020, month=3, day=11, tzinfo=pytz.UTC), portfolio_list,\n",
    "             as_at=original_transactions_response.version.as_at_date)                                "
   ]
  },
  {
   "cell_type": "markdown",
   "metadata": {},
   "source": [
    "## 5.5 Gain and Loss"
   ]
  },
  {
   "cell_type": "markdown",
   "metadata": {},
   "source": [
    "Below, we get the gain and loss of each strategy for a single equity, and present it in a DataFrame. You can adjust which equity is being compared by modifying the `conditions` variable"
   ]
  },
  {
   "cell_type": "code",
   "execution_count": 38,
   "metadata": {},
   "outputs": [
    {
     "data": {
      "text/plain": [
       "'Average tax lot'"
      ]
     },
     "metadata": {},
     "output_type": "display_data"
    },
    {
     "data": {
      "text/html": [
       "<div>\n",
       "<style scoped>\n",
       "    .dataframe tbody tr th:only-of-type {\n",
       "        vertical-align: middle;\n",
       "    }\n",
       "\n",
       "    .dataframe tbody tr th {\n",
       "        vertical-align: top;\n",
       "    }\n",
       "\n",
       "    .dataframe thead th {\n",
       "        text-align: right;\n",
       "    }\n",
       "</style>\n",
       "<table border=\"1\" class=\"dataframe\">\n",
       "  <thead>\n",
       "    <tr style=\"text-align: right;\">\n",
       "      <th></th>\n",
       "      <th>Name</th>\n",
       "      <th>Type</th>\n",
       "      <th>TxnId</th>\n",
       "      <th>Transaction Date</th>\n",
       "      <th>Cost Holding Ccy (USD)</th>\n",
       "      <th>Realised Trade Ccy (USD)</th>\n",
       "      <th>Cost Portfolio Ccy (GBP)</th>\n",
       "      <th>Realised Trade Ccy - Market Component (GBP)</th>\n",
       "      <th>Realised Trade Ccy - Currency Component (GBP)</th>\n",
       "      <th>Realised Trade Ccy - Total (GBP)</th>\n",
       "    </tr>\n",
       "  </thead>\n",
       "  <tbody>\n",
       "    <tr>\n",
       "      <th>23</th>\n",
       "      <td>EQUITY_MSFT</td>\n",
       "      <td>Sell</td>\n",
       "      <td>txn_009</td>\n",
       "      <td>2020-03-08</td>\n",
       "      <td>22,816,640.0</td>\n",
       "      <td>-11,651,840.0</td>\n",
       "      <td>17,655,545.3</td>\n",
       "      <td>-8,929,445.8</td>\n",
       "      <td>-169,899.2</td>\n",
       "      <td>-9,099,345.0</td>\n",
       "    </tr>\n",
       "  </tbody>\n",
       "</table>\n",
       "</div>"
      ],
      "text/plain": [
       "           Name  Type    TxnId Transaction Date  Cost Holding Ccy (USD)  \\\n",
       "23  EQUITY_MSFT  Sell  txn_009       2020-03-08            22,816,640.0   \n",
       "\n",
       "    Realised Trade Ccy (USD)  Cost Portfolio Ccy (GBP)  \\\n",
       "23             -11,651,840.0              17,655,545.3   \n",
       "\n",
       "    Realised Trade Ccy - Market Component (GBP)  \\\n",
       "23                                 -8,929,445.8   \n",
       "\n",
       "    Realised Trade Ccy - Currency Component (GBP)  \\\n",
       "23                                     -169,899.2   \n",
       "\n",
       "    Realised Trade Ccy - Total (GBP)  \n",
       "23                      -9,099,345.0  "
      ]
     },
     "metadata": {},
     "output_type": "display_data"
    },
    {
     "data": {
      "text/plain": [
       "'FIFO tax lot'"
      ]
     },
     "metadata": {},
     "output_type": "display_data"
    },
    {
     "data": {
      "text/html": [
       "<div>\n",
       "<style scoped>\n",
       "    .dataframe tbody tr th:only-of-type {\n",
       "        vertical-align: middle;\n",
       "    }\n",
       "\n",
       "    .dataframe tbody tr th {\n",
       "        vertical-align: top;\n",
       "    }\n",
       "\n",
       "    .dataframe thead th {\n",
       "        text-align: right;\n",
       "    }\n",
       "</style>\n",
       "<table border=\"1\" class=\"dataframe\">\n",
       "  <thead>\n",
       "    <tr style=\"text-align: right;\">\n",
       "      <th></th>\n",
       "      <th>Name</th>\n",
       "      <th>Type</th>\n",
       "      <th>TxnId</th>\n",
       "      <th>Transaction Date</th>\n",
       "      <th>Cost Holding Ccy (USD)</th>\n",
       "      <th>Realised Trade Ccy (USD)</th>\n",
       "      <th>Cost Portfolio Ccy (GBP)</th>\n",
       "      <th>Realised Trade Ccy - Market Component (GBP)</th>\n",
       "      <th>Realised Trade Ccy - Currency Component (GBP)</th>\n",
       "      <th>Realised Trade Ccy - Total (GBP)</th>\n",
       "    </tr>\n",
       "  </thead>\n",
       "  <tbody>\n",
       "    <tr>\n",
       "      <th>24</th>\n",
       "      <td>EQUITY_MSFT</td>\n",
       "      <td>Sell</td>\n",
       "      <td>txn_009</td>\n",
       "      <td>2020-03-08</td>\n",
       "      <td>23,034,900.0</td>\n",
       "      <td>-11,870,100.0</td>\n",
       "      <td>17,920,283.2</td>\n",
       "      <td>-9,096,710.5</td>\n",
       "      <td>-267,372.4</td>\n",
       "      <td>-9,364,082.9</td>\n",
       "    </tr>\n",
       "  </tbody>\n",
       "</table>\n",
       "</div>"
      ],
      "text/plain": [
       "           Name  Type    TxnId Transaction Date  Cost Holding Ccy (USD)  \\\n",
       "24  EQUITY_MSFT  Sell  txn_009       2020-03-08            23,034,900.0   \n",
       "\n",
       "    Realised Trade Ccy (USD)  Cost Portfolio Ccy (GBP)  \\\n",
       "24             -11,870,100.0              17,920,283.2   \n",
       "\n",
       "    Realised Trade Ccy - Market Component (GBP)  \\\n",
       "24                                 -9,096,710.5   \n",
       "\n",
       "    Realised Trade Ccy - Currency Component (GBP)  \\\n",
       "24                                     -267,372.4   \n",
       "\n",
       "    Realised Trade Ccy - Total (GBP)  \n",
       "24                      -9,364,082.9  "
      ]
     },
     "metadata": {},
     "output_type": "display_data"
    },
    {
     "data": {
      "text/plain": [
       "'LIFO tax lot'"
      ]
     },
     "metadata": {},
     "output_type": "display_data"
    },
    {
     "data": {
      "text/html": [
       "<div>\n",
       "<style scoped>\n",
       "    .dataframe tbody tr th:only-of-type {\n",
       "        vertical-align: middle;\n",
       "    }\n",
       "\n",
       "    .dataframe tbody tr th {\n",
       "        vertical-align: top;\n",
       "    }\n",
       "\n",
       "    .dataframe thead th {\n",
       "        text-align: right;\n",
       "    }\n",
       "</style>\n",
       "<table border=\"1\" class=\"dataframe\">\n",
       "  <thead>\n",
       "    <tr style=\"text-align: right;\">\n",
       "      <th></th>\n",
       "      <th>Name</th>\n",
       "      <th>Type</th>\n",
       "      <th>TxnId</th>\n",
       "      <th>Transaction Date</th>\n",
       "      <th>Cost Holding Ccy (USD)</th>\n",
       "      <th>Realised Trade Ccy (USD)</th>\n",
       "      <th>Cost Portfolio Ccy (GBP)</th>\n",
       "      <th>Realised Trade Ccy - Market Component (GBP)</th>\n",
       "      <th>Realised Trade Ccy - Currency Component (GBP)</th>\n",
       "      <th>Realised Trade Ccy - Total (GBP)</th>\n",
       "    </tr>\n",
       "  </thead>\n",
       "  <tbody>\n",
       "    <tr>\n",
       "      <th>24</th>\n",
       "      <td>EQUITY_MSFT</td>\n",
       "      <td>Sell</td>\n",
       "      <td>txn_009</td>\n",
       "      <td>2020-03-08</td>\n",
       "      <td>22,611,400.0</td>\n",
       "      <td>-11,446,600.0</td>\n",
       "      <td>17,406,539.1</td>\n",
       "      <td>-8,772,159.2</td>\n",
       "      <td>-78,179.6</td>\n",
       "      <td>-8,850,338.8</td>\n",
       "    </tr>\n",
       "  </tbody>\n",
       "</table>\n",
       "</div>"
      ],
      "text/plain": [
       "           Name  Type    TxnId Transaction Date  Cost Holding Ccy (USD)  \\\n",
       "24  EQUITY_MSFT  Sell  txn_009       2020-03-08            22,611,400.0   \n",
       "\n",
       "    Realised Trade Ccy (USD)  Cost Portfolio Ccy (GBP)  \\\n",
       "24             -11,446,600.0              17,406,539.1   \n",
       "\n",
       "    Realised Trade Ccy - Market Component (GBP)  \\\n",
       "24                                 -8,772,159.2   \n",
       "\n",
       "    Realised Trade Ccy - Currency Component (GBP)  \\\n",
       "24                                      -78,179.6   \n",
       "\n",
       "    Realised Trade Ccy - Total (GBP)  \n",
       "24                      -8,850,338.8  "
      ]
     },
     "metadata": {},
     "output_type": "display_data"
    },
    {
     "data": {
      "text/plain": [
       "'Highest tax lot'"
      ]
     },
     "metadata": {},
     "output_type": "display_data"
    },
    {
     "data": {
      "text/html": [
       "<div>\n",
       "<style scoped>\n",
       "    .dataframe tbody tr th:only-of-type {\n",
       "        vertical-align: middle;\n",
       "    }\n",
       "\n",
       "    .dataframe tbody tr th {\n",
       "        vertical-align: top;\n",
       "    }\n",
       "\n",
       "    .dataframe thead th {\n",
       "        text-align: right;\n",
       "    }\n",
       "</style>\n",
       "<table border=\"1\" class=\"dataframe\">\n",
       "  <thead>\n",
       "    <tr style=\"text-align: right;\">\n",
       "      <th></th>\n",
       "      <th>Name</th>\n",
       "      <th>Type</th>\n",
       "      <th>TxnId</th>\n",
       "      <th>Transaction Date</th>\n",
       "      <th>Cost Holding Ccy (USD)</th>\n",
       "      <th>Realised Trade Ccy (USD)</th>\n",
       "      <th>Cost Portfolio Ccy (GBP)</th>\n",
       "      <th>Realised Trade Ccy - Market Component (GBP)</th>\n",
       "      <th>Realised Trade Ccy - Currency Component (GBP)</th>\n",
       "      <th>Realised Trade Ccy - Total (GBP)</th>\n",
       "    </tr>\n",
       "  </thead>\n",
       "  <tbody>\n",
       "    <tr>\n",
       "      <th>24</th>\n",
       "      <td>EQUITY_MSFT</td>\n",
       "      <td>Sell</td>\n",
       "      <td>txn_009</td>\n",
       "      <td>2020-03-08</td>\n",
       "      <td>23,034,900.0</td>\n",
       "      <td>-11,870,100.0</td>\n",
       "      <td>17,920,283.2</td>\n",
       "      <td>-9,096,710.5</td>\n",
       "      <td>-267,372.4</td>\n",
       "      <td>-9,364,082.9</td>\n",
       "    </tr>\n",
       "  </tbody>\n",
       "</table>\n",
       "</div>"
      ],
      "text/plain": [
       "           Name  Type    TxnId Transaction Date  Cost Holding Ccy (USD)  \\\n",
       "24  EQUITY_MSFT  Sell  txn_009       2020-03-08            23,034,900.0   \n",
       "\n",
       "    Realised Trade Ccy (USD)  Cost Portfolio Ccy (GBP)  \\\n",
       "24             -11,870,100.0              17,920,283.2   \n",
       "\n",
       "    Realised Trade Ccy - Market Component (GBP)  \\\n",
       "24                                 -9,096,710.5   \n",
       "\n",
       "    Realised Trade Ccy - Currency Component (GBP)  \\\n",
       "24                                     -267,372.4   \n",
       "\n",
       "    Realised Trade Ccy - Total (GBP)  \n",
       "24                      -9,364,082.9  "
      ]
     },
     "metadata": {},
     "output_type": "display_data"
    },
    {
     "data": {
      "text/plain": [
       "'Lowest tax lot'"
      ]
     },
     "metadata": {},
     "output_type": "display_data"
    },
    {
     "data": {
      "text/html": [
       "<div>\n",
       "<style scoped>\n",
       "    .dataframe tbody tr th:only-of-type {\n",
       "        vertical-align: middle;\n",
       "    }\n",
       "\n",
       "    .dataframe tbody tr th {\n",
       "        vertical-align: top;\n",
       "    }\n",
       "\n",
       "    .dataframe thead th {\n",
       "        text-align: right;\n",
       "    }\n",
       "</style>\n",
       "<table border=\"1\" class=\"dataframe\">\n",
       "  <thead>\n",
       "    <tr style=\"text-align: right;\">\n",
       "      <th></th>\n",
       "      <th>Name</th>\n",
       "      <th>Type</th>\n",
       "      <th>TxnId</th>\n",
       "      <th>Transaction Date</th>\n",
       "      <th>Cost Holding Ccy (USD)</th>\n",
       "      <th>Realised Trade Ccy (USD)</th>\n",
       "      <th>Cost Portfolio Ccy (GBP)</th>\n",
       "      <th>Realised Trade Ccy - Market Component (GBP)</th>\n",
       "      <th>Realised Trade Ccy - Currency Component (GBP)</th>\n",
       "      <th>Realised Trade Ccy - Total (GBP)</th>\n",
       "    </tr>\n",
       "  </thead>\n",
       "  <tbody>\n",
       "    <tr>\n",
       "      <th>24</th>\n",
       "      <td>EQUITY_MSFT</td>\n",
       "      <td>Sell</td>\n",
       "      <td>txn_009</td>\n",
       "      <td>2020-03-08</td>\n",
       "      <td>22,611,400.0</td>\n",
       "      <td>-11,446,600.0</td>\n",
       "      <td>17,406,539.1</td>\n",
       "      <td>-8,772,159.2</td>\n",
       "      <td>-78,179.6</td>\n",
       "      <td>-8,850,338.8</td>\n",
       "    </tr>\n",
       "  </tbody>\n",
       "</table>\n",
       "</div>"
      ],
      "text/plain": [
       "           Name  Type    TxnId Transaction Date  Cost Holding Ccy (USD)  \\\n",
       "24  EQUITY_MSFT  Sell  txn_009       2020-03-08            22,611,400.0   \n",
       "\n",
       "    Realised Trade Ccy (USD)  Cost Portfolio Ccy (GBP)  \\\n",
       "24             -11,446,600.0              17,406,539.1   \n",
       "\n",
       "    Realised Trade Ccy - Market Component (GBP)  \\\n",
       "24                                 -8,772,159.2   \n",
       "\n",
       "    Realised Trade Ccy - Currency Component (GBP)  \\\n",
       "24                                      -78,179.6   \n",
       "\n",
       "    Realised Trade Ccy - Total (GBP)  \n",
       "24                      -8,850,338.8  "
      ]
     },
     "metadata": {},
     "output_type": "display_data"
    }
   ],
   "source": [
    "# change condition to view other equities eg. EQUITY_MSFT etc.\n",
    "conditions = 'Name == \"EQUITY_MSFT\" and Type == \"Sell\"'\n",
    "\n",
    "effective_at = datetime(year=2020, month=3, day=14, tzinfo=pytz.UTC)\n",
    "\n",
    "avg_df = build_transactions(effective_at, portfolio_name_avg).query(conditions)\n",
    "fifo_df = build_transactions(effective_at, portfolio_name_fifo).query(conditions)\n",
    "lifo_df = build_transactions(effective_at, portfolio_name_lifo).query(conditions)\n",
    "high_df = build_transactions(effective_at, portfolio_name_high).query(conditions)\n",
    "low_df = build_transactions(effective_at, portfolio_name_low).query(conditions)\n",
    "\n",
    "display(\"Average tax lot\", avg_df)\n",
    "display(\"FIFO tax lot\", fifo_df)\n",
    "display(\"LIFO tax lot\", lifo_df)\n",
    "display(\"Highest tax lot\", high_df)\n",
    "display(\"Lowest tax lot\", low_df)\n"
   ]
  },
  {
   "cell_type": "markdown",
   "metadata": {},
   "source": [
    "You can also view the gain and loss by accessing the transactions screen and clicking on the +/- icon on the sell transactions. Use the links below."
   ]
  },
  {
   "cell_type": "code",
   "execution_count": 39,
   "metadata": {},
   "outputs": [
    {
     "data": {
      "text/html": [
       "<b>Average Cost:</b> <a href=\"https://demo.lusid.com/app/dashboard/transactions?scope=taxlot_management_examplenb&code=tax-lot-avgcost&entityType=Portfolio&taxLots=true&dateFrom=2020-01-11&dateTo=2020-03-11&asAt=2023-07-25T03:14:31.707Z\" target=\"_blank\">See transactions by tax lot in LUSID</a>"
      ],
      "text/plain": [
       "<IPython.core.display.HTML object>"
      ]
     },
     "metadata": {},
     "output_type": "display_data"
    },
    {
     "data": {
      "text/html": [
       "<b>FIFO:</b> <a href=\"https://demo.lusid.com/app/dashboard/transactions?scope=taxlot_management_examplenb&code=tax-lot-fifo&entityType=Portfolio&taxLots=true&dateFrom=2020-01-11&dateTo=2020-03-11&asAt=2023-07-25T03:14:31.707Z\" target=\"_blank\">See transactions by tax lot in LUSID</a>"
      ],
      "text/plain": [
       "<IPython.core.display.HTML object>"
      ]
     },
     "metadata": {},
     "output_type": "display_data"
    },
    {
     "data": {
      "text/html": [
       "<b>LIFO:</b> <a href=\"https://demo.lusid.com/app/dashboard/transactions?scope=taxlot_management_examplenb&code=tax-lot-lifo&entityType=Portfolio&taxLots=true&dateFrom=2020-01-11&dateTo=2020-03-11&asAt=2023-07-25T03:14:31.707Z\" target=\"_blank\">See transactions by tax lot in LUSID</a>"
      ],
      "text/plain": [
       "<IPython.core.display.HTML object>"
      ]
     },
     "metadata": {},
     "output_type": "display_data"
    },
    {
     "data": {
      "text/html": [
       "<b>Highest First:</b> <a href=\"https://demo.lusid.com/app/dashboard/transactions?scope=taxlot_management_examplenb&code=tax-lot-highestcost&entityType=Portfolio&taxLots=true&dateFrom=2020-01-11&dateTo=2020-03-11&asAt=2023-07-25T03:14:31.707Z\" target=\"_blank\">See transactions by tax lot in LUSID</a>"
      ],
      "text/plain": [
       "<IPython.core.display.HTML object>"
      ]
     },
     "metadata": {},
     "output_type": "display_data"
    },
    {
     "data": {
      "text/html": [
       "<b>Lowest First:</b> <a href=\"https://demo.lusid.com/app/dashboard/transactions?scope=taxlot_management_examplenb&code=tax-lot-lowestcost&entityType=Portfolio&taxLots=true&dateFrom=2020-01-11&dateTo=2020-03-11&asAt=2023-07-25T03:14:31.707Z\" target=\"_blank\">See transactions by tax lot in LUSID</a>"
      ],
      "text/plain": [
       "<IPython.core.display.HTML object>"
      ]
     },
     "metadata": {},
     "output_type": "display_data"
    }
   ],
   "source": [
    "generate_href(Demo.TRANSACTIONS, datetime(year=2020, month=3, day=11, tzinfo=pytz.UTC), portfolio_list,\n",
    "             as_at=original_transactions_response.version.as_at_date)                                "
   ]
  },
  {
   "cell_type": "markdown",
   "metadata": {},
   "source": [
    "## 6. Backdating"
   ]
  },
  {
   "cell_type": "markdown",
   "metadata": {},
   "source": [
    "We can also explore the effects of backdating activity under each of our accounting methods.\n",
    "\n",
    "For example for let us consider that for our holding of Apple:\n",
    "\n",
    "**1)** We have missed a sale transaction which we need to backdate into the Portfolio\n",
    "\n",
    "**2)** We need to correct the price on the purchase under txn_004 from `$165.42` to `$164.86`\n",
    "\n",
    "Let's use our First in First Out (FIFO) Portfolio as an example to understand how this backdated activity impacts our tax lots. "
   ]
  },
  {
   "cell_type": "code",
   "execution_count": 40,
   "metadata": {},
   "outputs": [],
   "source": [
    "# Change this to the accounting method to explore the effect of backdating under\n",
    "acounting_method = portfolio_name_fifo "
   ]
  },
  {
   "cell_type": "markdown",
   "metadata": {},
   "source": [
    "### 6.1 Closed Book Positions"
   ]
  },
  {
   "cell_type": "markdown",
   "metadata": {},
   "source": [
    "Let's start with our closed book positions on the 14th March 2020 before any backdating has occurred. We'll look at our current holdings and our gain and loss."
   ]
  },
  {
   "cell_type": "code",
   "execution_count": 41,
   "metadata": {},
   "outputs": [
    {
     "data": {
      "text/html": [
       "<div>\n",
       "<style scoped>\n",
       "    .dataframe tbody tr th:only-of-type {\n",
       "        vertical-align: middle;\n",
       "    }\n",
       "\n",
       "    .dataframe tbody tr th {\n",
       "        vertical-align: top;\n",
       "    }\n",
       "\n",
       "    .dataframe thead th {\n",
       "        text-align: right;\n",
       "    }\n",
       "</style>\n",
       "<table border=\"1\" class=\"dataframe\">\n",
       "  <thead>\n",
       "    <tr style=\"text-align: right;\">\n",
       "      <th></th>\n",
       "      <th>transaction_id</th>\n",
       "      <th>cost_basis</th>\n",
       "      <th>units</th>\n",
       "      <th>purchase_price</th>\n",
       "      <th>purchase_date</th>\n",
       "    </tr>\n",
       "  </thead>\n",
       "  <tbody>\n",
       "    <tr>\n",
       "      <th>Microsoft</th>\n",
       "      <td>txn_008</td>\n",
       "      <td>7,011,500.0</td>\n",
       "      <td>50,000.0</td>\n",
       "      <td>140.2</td>\n",
       "      <td>2020-03-07</td>\n",
       "    </tr>\n",
       "    <tr>\n",
       "      <th>Apple</th>\n",
       "      <td>txn_003</td>\n",
       "      <td>8,149,000.0</td>\n",
       "      <td>50,000.0</td>\n",
       "      <td>163.0</td>\n",
       "      <td>2020-03-06</td>\n",
       "    </tr>\n",
       "    <tr>\n",
       "      <th>Apple</th>\n",
       "      <td>txn_004</td>\n",
       "      <td>16,542,000.0</td>\n",
       "      <td>100,000.0</td>\n",
       "      <td>165.4</td>\n",
       "      <td>2020-03-07</td>\n",
       "    </tr>\n",
       "    <tr>\n",
       "      <th>Berkshire Hathaway</th>\n",
       "      <td>txn_011</td>\n",
       "      <td>1,601,000.0</td>\n",
       "      <td>5,000.0</td>\n",
       "      <td>320.2</td>\n",
       "      <td>2020-03-06</td>\n",
       "    </tr>\n",
       "    <tr>\n",
       "      <th>Berkshire Hathaway</th>\n",
       "      <td>txn_012</td>\n",
       "      <td>3,256,800.0</td>\n",
       "      <td>10,000.0</td>\n",
       "      <td>325.7</td>\n",
       "      <td>2020-03-07</td>\n",
       "    </tr>\n",
       "    <tr>\n",
       "      <th>NVIDIA</th>\n",
       "      <td>txn_016</td>\n",
       "      <td>551,760.0</td>\n",
       "      <td>2,000.0</td>\n",
       "      <td>275.9</td>\n",
       "      <td>2020-03-07</td>\n",
       "    </tr>\n",
       "    <tr>\n",
       "      <th>Johnson &amp; Johnson</th>\n",
       "      <td>txn_019</td>\n",
       "      <td>4,085,500.0</td>\n",
       "      <td>25,000.0</td>\n",
       "      <td>163.4</td>\n",
       "      <td>2020-03-06</td>\n",
       "    </tr>\n",
       "    <tr>\n",
       "      <th>Johnson &amp; Johnson</th>\n",
       "      <td>txn_021</td>\n",
       "      <td>4,085,500.0</td>\n",
       "      <td>25,000.0</td>\n",
       "      <td>163.4</td>\n",
       "      <td>2020-03-06</td>\n",
       "    </tr>\n",
       "    <tr>\n",
       "      <th>Pepsico</th>\n",
       "      <td>txn_024</td>\n",
       "      <td>1,847,200.0</td>\n",
       "      <td>10,000.0</td>\n",
       "      <td>184.7</td>\n",
       "      <td>2020-03-05</td>\n",
       "    </tr>\n",
       "  </tbody>\n",
       "</table>\n",
       "</div>"
      ],
      "text/plain": [
       "                   transaction_id   cost_basis     units  purchase_price  \\\n",
       "Microsoft                 txn_008  7,011,500.0  50,000.0           140.2   \n",
       "Apple                     txn_003  8,149,000.0  50,000.0           163.0   \n",
       "Apple                     txn_004 16,542,000.0 100,000.0           165.4   \n",
       "Berkshire Hathaway        txn_011  1,601,000.0   5,000.0           320.2   \n",
       "Berkshire Hathaway        txn_012  3,256,800.0  10,000.0           325.7   \n",
       "NVIDIA                    txn_016    551,760.0   2,000.0           275.9   \n",
       "Johnson & Johnson         txn_019  4,085,500.0  25,000.0           163.4   \n",
       "Johnson & Johnson         txn_021  4,085,500.0  25,000.0           163.4   \n",
       "Pepsico                   txn_024  1,847,200.0  10,000.0           184.7   \n",
       "\n",
       "                   purchase_date  \n",
       "Microsoft             2020-03-07  \n",
       "Apple                 2020-03-06  \n",
       "Apple                 2020-03-07  \n",
       "Berkshire Hathaway    2020-03-06  \n",
       "Berkshire Hathaway    2020-03-07  \n",
       "NVIDIA                2020-03-07  \n",
       "Johnson & Johnson     2020-03-06  \n",
       "Johnson & Johnson     2020-03-06  \n",
       "Pepsico               2020-03-05  "
      ]
     },
     "execution_count": 41,
     "metadata": {},
     "output_type": "execute_result"
    }
   ],
   "source": [
    "effective_at = datetime(year=2020, month=3, day=14, tzinfo=pytz.UTC)\n",
    "\n",
    "display_holding_positions_by_taxlot(\n",
    "    effective_at,\n",
    "    acounting_method,\n",
    "    as_at=original_transactions_response.version.as_at_date\n",
    ")"
   ]
  },
  {
   "cell_type": "code",
   "execution_count": 42,
   "metadata": {},
   "outputs": [
    {
     "data": {
      "text/plain": [
       "'tax-lot-fifo'"
      ]
     },
     "metadata": {},
     "output_type": "display_data"
    },
    {
     "data": {
      "text/html": [
       "<div>\n",
       "<style scoped>\n",
       "    .dataframe tbody tr th:only-of-type {\n",
       "        vertical-align: middle;\n",
       "    }\n",
       "\n",
       "    .dataframe tbody tr th {\n",
       "        vertical-align: top;\n",
       "    }\n",
       "\n",
       "    .dataframe thead th {\n",
       "        text-align: right;\n",
       "    }\n",
       "</style>\n",
       "<table border=\"1\" class=\"dataframe\">\n",
       "  <thead>\n",
       "    <tr style=\"text-align: right;\">\n",
       "      <th></th>\n",
       "      <th>Name</th>\n",
       "      <th>Type</th>\n",
       "      <th>TxnId</th>\n",
       "      <th>Transaction Date</th>\n",
       "      <th>Cost Holding Ccy (USD)</th>\n",
       "      <th>Realised Trade Ccy (USD)</th>\n",
       "      <th>Cost Portfolio Ccy (GBP)</th>\n",
       "      <th>Realised Trade Ccy - Market Component (GBP)</th>\n",
       "      <th>Realised Trade Ccy - Currency Component (GBP)</th>\n",
       "      <th>Realised Trade Ccy - Total (GBP)</th>\n",
       "    </tr>\n",
       "  </thead>\n",
       "  <tbody>\n",
       "    <tr>\n",
       "      <th>21</th>\n",
       "      <td>EQUITY_APPL</td>\n",
       "      <td>Sell</td>\n",
       "      <td>txn_005</td>\n",
       "      <td>2020-03-08</td>\n",
       "      <td>24,912,000.0</td>\n",
       "      <td>46,500.0</td>\n",
       "      <td>19,181,516.6</td>\n",
       "      <td>35,635.5</td>\n",
       "      <td>-90,080.9</td>\n",
       "      <td>-54,445.3</td>\n",
       "    </tr>\n",
       "  </tbody>\n",
       "</table>\n",
       "</div>"
      ],
      "text/plain": [
       "           Name  Type    TxnId Transaction Date  Cost Holding Ccy (USD)  \\\n",
       "21  EQUITY_APPL  Sell  txn_005       2020-03-08            24,912,000.0   \n",
       "\n",
       "    Realised Trade Ccy (USD)  Cost Portfolio Ccy (GBP)  \\\n",
       "21                  46,500.0              19,181,516.6   \n",
       "\n",
       "    Realised Trade Ccy - Market Component (GBP)  \\\n",
       "21                                     35,635.5   \n",
       "\n",
       "    Realised Trade Ccy - Currency Component (GBP)  \\\n",
       "21                                      -90,080.9   \n",
       "\n",
       "    Realised Trade Ccy - Total (GBP)  \n",
       "21                         -54,445.3  "
      ]
     },
     "metadata": {},
     "output_type": "display_data"
    }
   ],
   "source": [
    "pl_df = build_transactions(\n",
    "    effective_at,\n",
    "    acounting_method, \n",
    "    as_at=original_transactions_response.version.as_at_date).query('Name == \"EQUITY_APPL\" and Type == \"Sell\"')\n",
    "\n",
    "display(acounting_method, pl_df)"
   ]
  },
  {
   "cell_type": "code",
   "execution_count": 43,
   "metadata": {},
   "outputs": [
    {
     "data": {
      "text/html": [
       "<b>tax-lot-fifo:</b> <a href=\"https://demo.lusid.com/app/dashboard/holdings?scope=taxlot_management_examplenb&code=tax-lot-fifo&entityType=Portfolio&taxLots=true&effectiveDate=2020-03-14&asAt=2023-07-25T03:14:31.707Z\" target=\"_blank\">See holdings by tax lot in LUSID</a>"
      ],
      "text/plain": [
       "<IPython.core.display.HTML object>"
      ]
     },
     "metadata": {},
     "output_type": "display_data"
    },
    {
     "data": {
      "text/html": [
       "<b>tax-lot-fifo:</b> <a href=\"https://demo.lusid.com/app/dashboard/transactions?scope=taxlot_management_examplenb&code=tax-lot-fifo&entityType=Portfolio&taxLots=true&dateFrom=2020-01-14&dateTo=2020-03-14&asAt=2023-07-25T03:14:31.707Z\" target=\"_blank\">See transactions by tax lot in LUSID</a>"
      ],
      "text/plain": [
       "<IPython.core.display.HTML object>"
      ]
     },
     "metadata": {},
     "output_type": "display_data"
    }
   ],
   "source": [
    "generate_href(\n",
    "    Demo.HOLDINGS, \n",
    "    effective_at, \n",
    "    [[acounting_method, acounting_method]],\n",
    "    as_at=original_transactions_response.version.as_at_date\n",
    ")\n",
    "\n",
    "generate_href(\n",
    "    Demo.TRANSACTIONS, \n",
    "    effective_at, \n",
    "    [[acounting_method, acounting_method]],\n",
    "    as_at=original_transactions_response.version.as_at_date\n",
    ")"
   ]
  },
  {
   "cell_type": "markdown",
   "metadata": {},
   "source": [
    "### 6.2 Backdated Activity"
   ]
  },
  {
   "cell_type": "code",
   "execution_count": 44,
   "metadata": {},
   "outputs": [],
   "source": [
    "backdated_txns = pd.read_csv(\"data/taxlot_accounting_backdated_transactions.csv\", parse_dates=[\n",
    "    \"transaction_date\", \"settlement_date\"\n",
    "])"
   ]
  },
  {
   "cell_type": "markdown",
   "metadata": {},
   "source": [
    "### 6.3 Backdated Sale"
   ]
  },
  {
   "cell_type": "code",
   "execution_count": 45,
   "metadata": {},
   "outputs": [
    {
     "data": {
      "text/html": [
       "<div>\n",
       "<style scoped>\n",
       "    .dataframe tbody tr th:only-of-type {\n",
       "        vertical-align: middle;\n",
       "    }\n",
       "\n",
       "    .dataframe tbody tr th {\n",
       "        vertical-align: top;\n",
       "    }\n",
       "\n",
       "    .dataframe thead th {\n",
       "        text-align: right;\n",
       "    }\n",
       "</style>\n",
       "<table border=\"1\" class=\"dataframe\">\n",
       "  <thead>\n",
       "    <tr style=\"text-align: right;\">\n",
       "      <th></th>\n",
       "      <th>transaction_id</th>\n",
       "      <th>type</th>\n",
       "      <th>units</th>\n",
       "      <th>transaction_price</th>\n",
       "      <th>transaction_date</th>\n",
       "      <th>settlement_date</th>\n",
       "      <th>total_consideration</th>\n",
       "      <th>client_internal</th>\n",
       "      <th>ticker</th>\n",
       "      <th>name</th>\n",
       "      <th>sleeve</th>\n",
       "      <th>trade_to_portfolio_rate</th>\n",
       "    </tr>\n",
       "  </thead>\n",
       "  <tbody>\n",
       "    <tr>\n",
       "      <th>0</th>\n",
       "      <td>txn_backdated_sale</td>\n",
       "      <td>Sell</td>\n",
       "      <td>100,000</td>\n",
       "      <td>167.0</td>\n",
       "      <td>2020-03-07 12:00:00</td>\n",
       "      <td>2020-03-11</td>\n",
       "      <td>16697000</td>\n",
       "      <td>EQUITY_APPL</td>\n",
       "      <td>AAPL</td>\n",
       "      <td>Apple</td>\n",
       "      <td>Sleeve 1</td>\n",
       "      <td>0.8</td>\n",
       "    </tr>\n",
       "  </tbody>\n",
       "</table>\n",
       "</div>"
      ],
      "text/plain": [
       "       transaction_id  type    units  transaction_price    transaction_date  \\\n",
       "0  txn_backdated_sale  Sell  100,000              167.0 2020-03-07 12:00:00   \n",
       "\n",
       "  settlement_date  total_consideration client_internal ticker   name  \\\n",
       "0      2020-03-11             16697000     EQUITY_APPL   AAPL  Apple   \n",
       "\n",
       "     sleeve  trade_to_portfolio_rate  \n",
       "0  Sleeve 1                      0.8  "
      ]
     },
     "execution_count": 45,
     "metadata": {},
     "output_type": "execute_result"
    }
   ],
   "source": [
    "backdated_transaction = backdated_txns.iloc[0:1]\n",
    "backdated_transaction.head()"
   ]
  },
  {
   "cell_type": "code",
   "execution_count": 46,
   "metadata": {},
   "outputs": [
    {
     "name": "stdout",
     "output_type": "stream",
     "text": [
      "1 transactions upserted to portfolio: tax-lot-avgcost\n"
     ]
    }
   ],
   "source": [
    "backdated_sale_txn_response = upload_transactions_to_portfolio(portfolio_name_avg, backdated_transaction)"
   ]
  },
  {
   "cell_type": "markdown",
   "metadata": {},
   "source": [
    "With the backdated sale of Apple and using FIFO, our first tax lot (all 100,000 units coming from txn_002) will continue to be fully sold, however instead of half of our second tax lot (50,000 units coming from txn_003) being sold, the entire tax lot has now been sold, half from our original sale, and half from our backdated sale.\n",
    "\n",
    "Below we show the remaining holdings with only half the units bought in txn_004 remaining. "
   ]
  },
  {
   "cell_type": "code",
   "execution_count": 47,
   "metadata": {},
   "outputs": [
    {
     "data": {
      "text/html": [
       "<div>\n",
       "<style scoped>\n",
       "    .dataframe tbody tr th:only-of-type {\n",
       "        vertical-align: middle;\n",
       "    }\n",
       "\n",
       "    .dataframe tbody tr th {\n",
       "        vertical-align: top;\n",
       "    }\n",
       "\n",
       "    .dataframe thead th {\n",
       "        text-align: right;\n",
       "    }\n",
       "</style>\n",
       "<table border=\"1\" class=\"dataframe\">\n",
       "  <thead>\n",
       "    <tr style=\"text-align: right;\">\n",
       "      <th></th>\n",
       "      <th>transaction_id</th>\n",
       "      <th>cost_basis</th>\n",
       "      <th>units</th>\n",
       "      <th>purchase_price</th>\n",
       "      <th>purchase_date</th>\n",
       "    </tr>\n",
       "  </thead>\n",
       "  <tbody>\n",
       "    <tr>\n",
       "      <th>Microsoft</th>\n",
       "      <td>txn_007</td>\n",
       "      <td>17,060,400.0</td>\n",
       "      <td>120,000.0</td>\n",
       "      <td>284.3</td>\n",
       "      <td>2020-03-05</td>\n",
       "    </tr>\n",
       "    <tr>\n",
       "      <th>Microsoft</th>\n",
       "      <td>txn_008</td>\n",
       "      <td>9,816,100.0</td>\n",
       "      <td>70,000.0</td>\n",
       "      <td>140.2</td>\n",
       "      <td>2020-03-07</td>\n",
       "    </tr>\n",
       "    <tr>\n",
       "      <th>Apple</th>\n",
       "      <td>txn_004</td>\n",
       "      <td>8,271,000.0</td>\n",
       "      <td>50,000.0</td>\n",
       "      <td>165.4</td>\n",
       "      <td>2020-03-07</td>\n",
       "    </tr>\n",
       "    <tr>\n",
       "      <th>Berkshire Hathaway</th>\n",
       "      <td>txn_011</td>\n",
       "      <td>1,601,000.0</td>\n",
       "      <td>5,000.0</td>\n",
       "      <td>320.2</td>\n",
       "      <td>2020-03-06</td>\n",
       "    </tr>\n",
       "    <tr>\n",
       "      <th>Berkshire Hathaway</th>\n",
       "      <td>txn_012</td>\n",
       "      <td>3,256,800.0</td>\n",
       "      <td>10,000.0</td>\n",
       "      <td>325.7</td>\n",
       "      <td>2020-03-07</td>\n",
       "    </tr>\n",
       "    <tr>\n",
       "      <th>NVIDIA</th>\n",
       "      <td>txn_016</td>\n",
       "      <td>551,760.0</td>\n",
       "      <td>2,000.0</td>\n",
       "      <td>275.9</td>\n",
       "      <td>2020-03-07</td>\n",
       "    </tr>\n",
       "    <tr>\n",
       "      <th>Johnson &amp; Johnson</th>\n",
       "      <td>txn_019</td>\n",
       "      <td>4,085,500.0</td>\n",
       "      <td>25,000.0</td>\n",
       "      <td>163.4</td>\n",
       "      <td>2020-03-06</td>\n",
       "    </tr>\n",
       "    <tr>\n",
       "      <th>Johnson &amp; Johnson</th>\n",
       "      <td>txn_021</td>\n",
       "      <td>4,085,500.0</td>\n",
       "      <td>25,000.0</td>\n",
       "      <td>163.4</td>\n",
       "      <td>2020-03-06</td>\n",
       "    </tr>\n",
       "    <tr>\n",
       "      <th>Pepsico</th>\n",
       "      <td>txn_024</td>\n",
       "      <td>1,847,200.0</td>\n",
       "      <td>10,000.0</td>\n",
       "      <td>184.7</td>\n",
       "      <td>2020-03-05</td>\n",
       "    </tr>\n",
       "  </tbody>\n",
       "</table>\n",
       "</div>"
      ],
      "text/plain": [
       "                   transaction_id   cost_basis     units  purchase_price  \\\n",
       "Microsoft                 txn_007 17,060,400.0 120,000.0           284.3   \n",
       "Microsoft                 txn_008  9,816,100.0  70,000.0           140.2   \n",
       "Apple                     txn_004  8,271,000.0  50,000.0           165.4   \n",
       "Berkshire Hathaway        txn_011  1,601,000.0   5,000.0           320.2   \n",
       "Berkshire Hathaway        txn_012  3,256,800.0  10,000.0           325.7   \n",
       "NVIDIA                    txn_016    551,760.0   2,000.0           275.9   \n",
       "Johnson & Johnson         txn_019  4,085,500.0  25,000.0           163.4   \n",
       "Johnson & Johnson         txn_021  4,085,500.0  25,000.0           163.4   \n",
       "Pepsico                   txn_024  1,847,200.0  10,000.0           184.7   \n",
       "\n",
       "                   purchase_date  \n",
       "Microsoft             2020-03-05  \n",
       "Microsoft             2020-03-07  \n",
       "Apple                 2020-03-07  \n",
       "Berkshire Hathaway    2020-03-06  \n",
       "Berkshire Hathaway    2020-03-07  \n",
       "NVIDIA                2020-03-07  \n",
       "Johnson & Johnson     2020-03-06  \n",
       "Johnson & Johnson     2020-03-06  \n",
       "Pepsico               2020-03-05  "
      ]
     },
     "execution_count": 47,
     "metadata": {},
     "output_type": "execute_result"
    }
   ],
   "source": [
    "display_holding_positions_by_taxlot(\n",
    "    effective_at, \n",
    "    acounting_method,\n",
    "    as_at=backdated_sale_txn_response.version.as_at_date)"
   ]
  },
  {
   "cell_type": "markdown",
   "metadata": {},
   "source": [
    "Instead of one, we have two sales with their own realised gain/loss. Note that the sale on the 8th of March 2020 has had an increase in its realised gain.\n",
    "\n",
    "This is because the backdated sale slotted in before the sale on the 8th of March and therefore under FIFO sold the earlier tax lots with a higher puchase price. This left tax lots with a lower purchase price to be sold by the sale on the 8th of March, leading to an increase in the profit on this sale."
   ]
  },
  {
   "cell_type": "code",
   "execution_count": 48,
   "metadata": {},
   "outputs": [
    {
     "data": {
      "text/plain": [
       "'tax-lot-fifo'"
      ]
     },
     "metadata": {},
     "output_type": "display_data"
    },
    {
     "data": {
      "text/html": [
       "<div>\n",
       "<style scoped>\n",
       "    .dataframe tbody tr th:only-of-type {\n",
       "        vertical-align: middle;\n",
       "    }\n",
       "\n",
       "    .dataframe tbody tr th {\n",
       "        vertical-align: top;\n",
       "    }\n",
       "\n",
       "    .dataframe thead th {\n",
       "        text-align: right;\n",
       "    }\n",
       "</style>\n",
       "<table border=\"1\" class=\"dataframe\">\n",
       "  <thead>\n",
       "    <tr style=\"text-align: right;\">\n",
       "      <th></th>\n",
       "      <th>Name</th>\n",
       "      <th>Type</th>\n",
       "      <th>TxnId</th>\n",
       "      <th>Transaction Date</th>\n",
       "      <th>Cost Holding Ccy (USD)</th>\n",
       "      <th>Realised Trade Ccy (USD)</th>\n",
       "      <th>Cost Portfolio Ccy (GBP)</th>\n",
       "      <th>Realised Trade Ccy - Market Component (GBP)</th>\n",
       "      <th>Realised Trade Ccy - Currency Component (GBP)</th>\n",
       "      <th>Realised Trade Ccy - Total (GBP)</th>\n",
       "    </tr>\n",
       "  </thead>\n",
       "  <tbody>\n",
       "    <tr>\n",
       "      <th>23</th>\n",
       "      <td>EQUITY_APPL</td>\n",
       "      <td>Sell</td>\n",
       "      <td>txn_backdated_sale</td>\n",
       "      <td>2020-03-07</td>\n",
       "      <td>16,763,000.0</td>\n",
       "      <td>-66,000.0</td>\n",
       "      <td>12,948,998.4</td>\n",
       "      <td>-50,579.4</td>\n",
       "      <td>-102,589.6</td>\n",
       "      <td>-153,169.0</td>\n",
       "    </tr>\n",
       "    <tr>\n",
       "      <th>24</th>\n",
       "      <td>EQUITY_APPL</td>\n",
       "      <td>Sell</td>\n",
       "      <td>txn_005</td>\n",
       "      <td>2020-03-08</td>\n",
       "      <td>24,569,000.0</td>\n",
       "      <td>389,500.0</td>\n",
       "      <td>18,803,451.0</td>\n",
       "      <td>298,495.3</td>\n",
       "      <td>25,125.0</td>\n",
       "      <td>323,620.2</td>\n",
       "    </tr>\n",
       "  </tbody>\n",
       "</table>\n",
       "</div>"
      ],
      "text/plain": [
       "           Name  Type               TxnId Transaction Date  \\\n",
       "23  EQUITY_APPL  Sell  txn_backdated_sale       2020-03-07   \n",
       "24  EQUITY_APPL  Sell             txn_005       2020-03-08   \n",
       "\n",
       "    Cost Holding Ccy (USD)  Realised Trade Ccy (USD)  \\\n",
       "23            16,763,000.0                 -66,000.0   \n",
       "24            24,569,000.0                 389,500.0   \n",
       "\n",
       "    Cost Portfolio Ccy (GBP)  Realised Trade Ccy - Market Component (GBP)  \\\n",
       "23              12,948,998.4                                    -50,579.4   \n",
       "24              18,803,451.0                                    298,495.3   \n",
       "\n",
       "    Realised Trade Ccy - Currency Component (GBP)  \\\n",
       "23                                     -102,589.6   \n",
       "24                                       25,125.0   \n",
       "\n",
       "    Realised Trade Ccy - Total (GBP)  \n",
       "23                        -153,169.0  \n",
       "24                         323,620.2  "
      ]
     },
     "metadata": {},
     "output_type": "display_data"
    }
   ],
   "source": [
    "pl_df = build_transactions(\n",
    "    effective_at, \n",
    "    acounting_method,\n",
    "    as_at=backdated_sale_txn_response.version.as_at_date\n",
    ").query('Name == \"EQUITY_APPL\" and Type == \"Sell\"')\n",
    "\n",
    "display(acounting_method, pl_df)"
   ]
  },
  {
   "cell_type": "code",
   "execution_count": 49,
   "metadata": {},
   "outputs": [
    {
     "data": {
      "text/html": [
       "<b>tax-lot-fifo:</b> <a href=\"https://demo.lusid.com/app/dashboard/holdings?scope=taxlot_management_examplenb&code=tax-lot-fifo&entityType=Portfolio&taxLots=true&effectiveDate=2020-03-14&asAt=2023-07-25T03:14:40.233Z\" target=\"_blank\">See holdings by tax lot in LUSID</a>"
      ],
      "text/plain": [
       "<IPython.core.display.HTML object>"
      ]
     },
     "metadata": {},
     "output_type": "display_data"
    },
    {
     "data": {
      "text/html": [
       "<b>tax-lot-fifo:</b> <a href=\"https://demo.lusid.com/app/dashboard/transactions?scope=taxlot_management_examplenb&code=tax-lot-fifo&entityType=Portfolio&taxLots=true&dateFrom=2020-01-14&dateTo=2020-03-14&asAt=2023-07-25T03:14:40.233Z\" target=\"_blank\">See transactions by tax lot in LUSID</a>"
      ],
      "text/plain": [
       "<IPython.core.display.HTML object>"
      ]
     },
     "metadata": {},
     "output_type": "display_data"
    }
   ],
   "source": [
    "generate_href(\n",
    "    Demo.HOLDINGS, \n",
    "    effective_at, \n",
    "    [[acounting_method, acounting_method]],\n",
    "    as_at=backdated_sale_txn_response.version.as_at_date\n",
    ")\n",
    "\n",
    "generate_href(\n",
    "    Demo.TRANSACTIONS, \n",
    "    effective_at, \n",
    "    [[acounting_method, acounting_method]],\n",
    "    as_at=backdated_sale_txn_response.version.as_at_date\n",
    ")"
   ]
  },
  {
   "cell_type": "markdown",
   "metadata": {},
   "source": [
    "### 6.4 Backdated Price Correction"
   ]
  },
  {
   "cell_type": "code",
   "execution_count": 50,
   "metadata": {},
   "outputs": [
    {
     "data": {
      "text/html": [
       "<div>\n",
       "<style scoped>\n",
       "    .dataframe tbody tr th:only-of-type {\n",
       "        vertical-align: middle;\n",
       "    }\n",
       "\n",
       "    .dataframe tbody tr th {\n",
       "        vertical-align: top;\n",
       "    }\n",
       "\n",
       "    .dataframe thead th {\n",
       "        text-align: right;\n",
       "    }\n",
       "</style>\n",
       "<table border=\"1\" class=\"dataframe\">\n",
       "  <thead>\n",
       "    <tr style=\"text-align: right;\">\n",
       "      <th></th>\n",
       "      <th>transaction_id</th>\n",
       "      <th>type</th>\n",
       "      <th>units</th>\n",
       "      <th>transaction_price</th>\n",
       "      <th>transaction_date</th>\n",
       "      <th>settlement_date</th>\n",
       "      <th>total_consideration</th>\n",
       "      <th>client_internal</th>\n",
       "      <th>ticker</th>\n",
       "      <th>name</th>\n",
       "      <th>sleeve</th>\n",
       "      <th>trade_to_portfolio_rate</th>\n",
       "    </tr>\n",
       "  </thead>\n",
       "  <tbody>\n",
       "    <tr>\n",
       "      <th>1</th>\n",
       "      <td>txn_004</td>\n",
       "      <td>Buy</td>\n",
       "      <td>100,000</td>\n",
       "      <td>164.9</td>\n",
       "      <td>2020-03-07</td>\n",
       "      <td>2020-03-10</td>\n",
       "      <td>16486000</td>\n",
       "      <td>EQUITY_APPL</td>\n",
       "      <td>AAPL</td>\n",
       "      <td>Apple</td>\n",
       "      <td>Sleeve 1</td>\n",
       "      <td>0.8</td>\n",
       "    </tr>\n",
       "  </tbody>\n",
       "</table>\n",
       "</div>"
      ],
      "text/plain": [
       "  transaction_id type    units  transaction_price transaction_date  \\\n",
       "1        txn_004  Buy  100,000              164.9       2020-03-07   \n",
       "\n",
       "  settlement_date  total_consideration client_internal ticker   name  \\\n",
       "1      2020-03-10             16486000     EQUITY_APPL   AAPL  Apple   \n",
       "\n",
       "     sleeve  trade_to_portfolio_rate  \n",
       "1  Sleeve 1                      0.8  "
      ]
     },
     "execution_count": 50,
     "metadata": {},
     "output_type": "execute_result"
    }
   ],
   "source": [
    "backdated_price_correction_txn = backdated_txns.iloc[1:2]\n",
    "backdated_price_correction_txn.head()"
   ]
  },
  {
   "cell_type": "code",
   "execution_count": 51,
   "metadata": {},
   "outputs": [
    {
     "name": "stdout",
     "output_type": "stream",
     "text": [
      "1 transactions upserted to portfolio: tax-lot-avgcost\n"
     ]
    }
   ],
   "source": [
    "backdated_price_correction_txn_response = upload_transactions_to_portfolio(\n",
    "    portfolio_name_avg, \n",
    "    backdated_price_correction_txn\n",
    ")"
   ]
  },
  {
   "cell_type": "markdown",
   "metadata": {},
   "source": [
    "With the backdated correction of the purhase price of Apple in txn_004, we can see that our cost basis for Apple made up of the remaining half of the txn_004 tax lot has been reduced from `$8,271,000.00` to `$8,243,000.00` to reflect the corrected price. \n",
    "\n",
    "This is a change of (`$8,271,000.00` - `$8,243,000.00`) / `50,000` = `$0.56` per share which is equal to our change in purchase price of `$165.42` - `$164.86` = `$0.56`."
   ]
  },
  {
   "cell_type": "code",
   "execution_count": 52,
   "metadata": {},
   "outputs": [
    {
     "data": {
      "text/html": [
       "<div>\n",
       "<style scoped>\n",
       "    .dataframe tbody tr th:only-of-type {\n",
       "        vertical-align: middle;\n",
       "    }\n",
       "\n",
       "    .dataframe tbody tr th {\n",
       "        vertical-align: top;\n",
       "    }\n",
       "\n",
       "    .dataframe thead th {\n",
       "        text-align: right;\n",
       "    }\n",
       "</style>\n",
       "<table border=\"1\" class=\"dataframe\">\n",
       "  <thead>\n",
       "    <tr style=\"text-align: right;\">\n",
       "      <th></th>\n",
       "      <th>transaction_id</th>\n",
       "      <th>cost_basis</th>\n",
       "      <th>units</th>\n",
       "      <th>purchase_price</th>\n",
       "      <th>purchase_date</th>\n",
       "    </tr>\n",
       "  </thead>\n",
       "  <tbody>\n",
       "    <tr>\n",
       "      <th>Microsoft</th>\n",
       "      <td>txn_007</td>\n",
       "      <td>17,060,400.0</td>\n",
       "      <td>120,000.0</td>\n",
       "      <td>284.3</td>\n",
       "      <td>2020-03-05</td>\n",
       "    </tr>\n",
       "    <tr>\n",
       "      <th>Microsoft</th>\n",
       "      <td>txn_008</td>\n",
       "      <td>9,816,100.0</td>\n",
       "      <td>70,000.0</td>\n",
       "      <td>140.2</td>\n",
       "      <td>2020-03-07</td>\n",
       "    </tr>\n",
       "    <tr>\n",
       "      <th>Apple</th>\n",
       "      <td>txn_004</td>\n",
       "      <td>8,243,000.0</td>\n",
       "      <td>50,000.0</td>\n",
       "      <td>164.9</td>\n",
       "      <td>2020-03-07</td>\n",
       "    </tr>\n",
       "    <tr>\n",
       "      <th>Berkshire Hathaway</th>\n",
       "      <td>txn_011</td>\n",
       "      <td>1,601,000.0</td>\n",
       "      <td>5,000.0</td>\n",
       "      <td>320.2</td>\n",
       "      <td>2020-03-06</td>\n",
       "    </tr>\n",
       "    <tr>\n",
       "      <th>Berkshire Hathaway</th>\n",
       "      <td>txn_012</td>\n",
       "      <td>3,256,800.0</td>\n",
       "      <td>10,000.0</td>\n",
       "      <td>325.7</td>\n",
       "      <td>2020-03-07</td>\n",
       "    </tr>\n",
       "    <tr>\n",
       "      <th>NVIDIA</th>\n",
       "      <td>txn_016</td>\n",
       "      <td>551,760.0</td>\n",
       "      <td>2,000.0</td>\n",
       "      <td>275.9</td>\n",
       "      <td>2020-03-07</td>\n",
       "    </tr>\n",
       "    <tr>\n",
       "      <th>Johnson &amp; Johnson</th>\n",
       "      <td>txn_019</td>\n",
       "      <td>4,085,500.0</td>\n",
       "      <td>25,000.0</td>\n",
       "      <td>163.4</td>\n",
       "      <td>2020-03-06</td>\n",
       "    </tr>\n",
       "    <tr>\n",
       "      <th>Johnson &amp; Johnson</th>\n",
       "      <td>txn_021</td>\n",
       "      <td>4,085,500.0</td>\n",
       "      <td>25,000.0</td>\n",
       "      <td>163.4</td>\n",
       "      <td>2020-03-06</td>\n",
       "    </tr>\n",
       "    <tr>\n",
       "      <th>Pepsico</th>\n",
       "      <td>txn_024</td>\n",
       "      <td>1,847,200.0</td>\n",
       "      <td>10,000.0</td>\n",
       "      <td>184.7</td>\n",
       "      <td>2020-03-05</td>\n",
       "    </tr>\n",
       "  </tbody>\n",
       "</table>\n",
       "</div>"
      ],
      "text/plain": [
       "                   transaction_id   cost_basis     units  purchase_price  \\\n",
       "Microsoft                 txn_007 17,060,400.0 120,000.0           284.3   \n",
       "Microsoft                 txn_008  9,816,100.0  70,000.0           140.2   \n",
       "Apple                     txn_004  8,243,000.0  50,000.0           164.9   \n",
       "Berkshire Hathaway        txn_011  1,601,000.0   5,000.0           320.2   \n",
       "Berkshire Hathaway        txn_012  3,256,800.0  10,000.0           325.7   \n",
       "NVIDIA                    txn_016    551,760.0   2,000.0           275.9   \n",
       "Johnson & Johnson         txn_019  4,085,500.0  25,000.0           163.4   \n",
       "Johnson & Johnson         txn_021  4,085,500.0  25,000.0           163.4   \n",
       "Pepsico                   txn_024  1,847,200.0  10,000.0           184.7   \n",
       "\n",
       "                   purchase_date  \n",
       "Microsoft             2020-03-05  \n",
       "Microsoft             2020-03-07  \n",
       "Apple                 2020-03-07  \n",
       "Berkshire Hathaway    2020-03-06  \n",
       "Berkshire Hathaway    2020-03-07  \n",
       "NVIDIA                2020-03-07  \n",
       "Johnson & Johnson     2020-03-06  \n",
       "Johnson & Johnson     2020-03-06  \n",
       "Pepsico               2020-03-05  "
      ]
     },
     "execution_count": 52,
     "metadata": {},
     "output_type": "execute_result"
    }
   ],
   "source": [
    "display_holding_positions_by_taxlot(\n",
    "    effective_at, \n",
    "    acounting_method,\n",
    "    as_at=backdated_price_correction_txn_response.version.as_at_date\n",
    ")"
   ]
  },
  {
   "cell_type": "markdown",
   "metadata": {},
   "source": [
    "With the backdated price correction on txn_004 we can see that our realised gain has increased for our sale on the 8th of March 2023. This is because the cost price has gone down leading to a greater profit for the sale out of this tax lot.\n",
    "\n",
    "The backdated sale is unaffected as it sold out of earlier tax lots which are unaffected by the price change."
   ]
  },
  {
   "cell_type": "code",
   "execution_count": 53,
   "metadata": {},
   "outputs": [
    {
     "data": {
      "text/plain": [
       "'tax-lot-fifo'"
      ]
     },
     "metadata": {},
     "output_type": "display_data"
    },
    {
     "data": {
      "text/html": [
       "<div>\n",
       "<style scoped>\n",
       "    .dataframe tbody tr th:only-of-type {\n",
       "        vertical-align: middle;\n",
       "    }\n",
       "\n",
       "    .dataframe tbody tr th {\n",
       "        vertical-align: top;\n",
       "    }\n",
       "\n",
       "    .dataframe thead th {\n",
       "        text-align: right;\n",
       "    }\n",
       "</style>\n",
       "<table border=\"1\" class=\"dataframe\">\n",
       "  <thead>\n",
       "    <tr style=\"text-align: right;\">\n",
       "      <th></th>\n",
       "      <th>Name</th>\n",
       "      <th>Type</th>\n",
       "      <th>TxnId</th>\n",
       "      <th>Transaction Date</th>\n",
       "      <th>Cost Holding Ccy (USD)</th>\n",
       "      <th>Realised Trade Ccy (USD)</th>\n",
       "      <th>Cost Portfolio Ccy (GBP)</th>\n",
       "      <th>Realised Trade Ccy - Market Component (GBP)</th>\n",
       "      <th>Realised Trade Ccy - Currency Component (GBP)</th>\n",
       "      <th>Realised Trade Ccy - Total (GBP)</th>\n",
       "    </tr>\n",
       "  </thead>\n",
       "  <tbody>\n",
       "    <tr>\n",
       "      <th>23</th>\n",
       "      <td>EQUITY_APPL</td>\n",
       "      <td>Sell</td>\n",
       "      <td>txn_backdated_sale</td>\n",
       "      <td>2020-03-07</td>\n",
       "      <td>16,763,000.0</td>\n",
       "      <td>-66,000.0</td>\n",
       "      <td>12,948,998.4</td>\n",
       "      <td>-50,579.4</td>\n",
       "      <td>-102,589.6</td>\n",
       "      <td>-153,169.0</td>\n",
       "    </tr>\n",
       "    <tr>\n",
       "      <th>24</th>\n",
       "      <td>EQUITY_APPL</td>\n",
       "      <td>Sell</td>\n",
       "      <td>txn_005</td>\n",
       "      <td>2020-03-08</td>\n",
       "      <td>24,541,000.0</td>\n",
       "      <td>417,500.0</td>\n",
       "      <td>18,781,993.5</td>\n",
       "      <td>319,953.2</td>\n",
       "      <td>25,124.6</td>\n",
       "      <td>345,077.8</td>\n",
       "    </tr>\n",
       "  </tbody>\n",
       "</table>\n",
       "</div>"
      ],
      "text/plain": [
       "           Name  Type               TxnId Transaction Date  \\\n",
       "23  EQUITY_APPL  Sell  txn_backdated_sale       2020-03-07   \n",
       "24  EQUITY_APPL  Sell             txn_005       2020-03-08   \n",
       "\n",
       "    Cost Holding Ccy (USD)  Realised Trade Ccy (USD)  \\\n",
       "23            16,763,000.0                 -66,000.0   \n",
       "24            24,541,000.0                 417,500.0   \n",
       "\n",
       "    Cost Portfolio Ccy (GBP)  Realised Trade Ccy - Market Component (GBP)  \\\n",
       "23              12,948,998.4                                    -50,579.4   \n",
       "24              18,781,993.5                                    319,953.2   \n",
       "\n",
       "    Realised Trade Ccy - Currency Component (GBP)  \\\n",
       "23                                     -102,589.6   \n",
       "24                                       25,124.6   \n",
       "\n",
       "    Realised Trade Ccy - Total (GBP)  \n",
       "23                        -153,169.0  \n",
       "24                         345,077.8  "
      ]
     },
     "metadata": {},
     "output_type": "display_data"
    }
   ],
   "source": [
    "pl_df = build_transactions(\n",
    "    effective_at,\n",
    "    acounting_method,\n",
    "    as_at=backdated_price_correction_txn_response.version.as_at_date\n",
    ").query('Name == \"EQUITY_APPL\" and Type == \"Sell\"')\n",
    "\n",
    "display(acounting_method, pl_df)"
   ]
  },
  {
   "cell_type": "code",
   "execution_count": 54,
   "metadata": {},
   "outputs": [
    {
     "data": {
      "text/html": [
       "<b>tax-lot-fifo:</b> <a href=\"https://demo.lusid.com/app/dashboard/holdings?scope=taxlot_management_examplenb&code=tax-lot-fifo&entityType=Portfolio&taxLots=true&effectiveDate=2020-03-14&asAt=2023-07-25T03:14:41.948Z\" target=\"_blank\">See holdings by tax lot in LUSID</a>"
      ],
      "text/plain": [
       "<IPython.core.display.HTML object>"
      ]
     },
     "metadata": {},
     "output_type": "display_data"
    },
    {
     "data": {
      "text/html": [
       "<b>tax-lot-fifo:</b> <a href=\"https://demo.lusid.com/app/dashboard/transactions?scope=taxlot_management_examplenb&code=tax-lot-fifo&entityType=Portfolio&taxLots=true&dateFrom=2020-01-14&dateTo=2020-03-14&asAt=2023-07-25T03:14:41.948Z\" target=\"_blank\">See transactions by tax lot in LUSID</a>"
      ],
      "text/plain": [
       "<IPython.core.display.HTML object>"
      ]
     },
     "metadata": {},
     "output_type": "display_data"
    }
   ],
   "source": [
    "generate_href(\n",
    "    Demo.HOLDINGS, \n",
    "    effective_at, \n",
    "    [[acounting_method, acounting_method]],\n",
    "    as_at=backdated_price_correction_txn_response.version.as_at_date\n",
    ")\n",
    "\n",
    "generate_href(\n",
    "    Demo.TRANSACTIONS, \n",
    "    effective_at, \n",
    "    [[acounting_method, acounting_method]],\n",
    "    as_at=backdated_price_correction_txn_response.version.as_at_date\n",
    ")"
   ]
  },
  {
   "cell_type": "markdown",
   "metadata": {},
   "source": [
    "## Extra: Data Cleanup\n",
    "\n",
    "The following cell will delete the data that is added to LUSID throughout this notebook."
   ]
  },
  {
   "cell_type": "code",
   "execution_count": 55,
   "metadata": {},
   "outputs": [
    {
     "name": "stdout",
     "output_type": "stream",
     "text": [
      "DELETED: Corporate Actions Source 'taxlot_management_examplenb/tax_lot_stock_split'\n",
      "DELETED: Property 'Transaction/taxlot_management_examplenb/sleeve'\n",
      "DELETED: Portfolio 'tax-lot-fifo'\n",
      "DELETED: Portfolio 'tax-lot-lifo'\n",
      "DELETED: Portfolio 'tax-lot-highestcost'\n",
      "DELETED: Portfolio 'tax-lot-lowestcost'\n",
      "DELETED: Portfolio 'tax-lot-avgcost'\n",
      "DELETED: Instruments '['LUID_0000P9DK', 'LUID_0000P9DL', 'LUID_0000P9DM', 'LUID_0000P9DN', 'LUID_0000P9DO', 'LUID_0000P9DP']'\n"
     ]
    }
   ],
   "source": [
    "# Delete Corporate Action Source & Action\n",
    "try:\n",
    "    resp = corporate_action_sources_api.delete_corporate_action_source(\n",
    "        scope=scope,\n",
    "        code=ca_code\n",
    "    )\n",
    "    if resp:\n",
    "        print(f\"DELETED: Corporate Actions Source '{scope}/{ca_code}'\")\n",
    "except lusid.ApiException as e:\n",
    "    print(json.loads(e.body)[\"title\"])\n",
    "\n",
    "# Delete Properties\n",
    "try:\n",
    "    resp = property_definitions_api.delete_property_definition(\n",
    "        domain=\"Transaction\",\n",
    "        scope=scope,\n",
    "        code=\"sleeve\"\n",
    "    )\n",
    "    if resp:\n",
    "        print(f\"DELETED: Property 'Transaction/{scope}/sleeve'\")\n",
    "except lusid.ApiException as e:\n",
    "    print(json.loads(e.body)[\"title\"])\n",
    "\n",
    "# Delete Portfolios\n",
    "for code in [\"tax-lot-fifo\", \"tax-lot-lifo\", \"tax-lot-highestcost\", \"tax-lot-lowestcost\", \"tax-lot-avgcost\"]:\n",
    "    try:\n",
    "        resp = portfolios_api.delete_portfolio(\n",
    "            scope=scope,\n",
    "            code=code\n",
    "        )\n",
    "        if resp:\n",
    "            print(f\"DELETED: Portfolio '{code}'\")\n",
    "    except lusid.ApiException as e:\n",
    "        print(json.loads(e.body)[\"title\"])\n",
    "\n",
    "# Delete Instruments\n",
    "luids_to_delete = [instrument_response.values[val].lusid_instrument_id for val in instrument_response.values]\n",
    "try:\n",
    "    resp = instruments_api.delete_instruments(\n",
    "        request_body=luids_to_delete,\n",
    "        delete_mode='Hard'\n",
    "    )\n",
    "    if resp:\n",
    "        print(f\"DELETED: Instruments '{luids_to_delete}'\")\n",
    "except lusid.ApiException as e:\n",
    "    print(json.loads(e.body)[\"title\"])\n"
   ]
  }
 ],
 "metadata": {
  "kernelspec": {
   "display_name": "Python 3 (ipykernel)",
   "language": "python",
   "name": "python3"
  },
  "language_info": {
   "codemirror_mode": {
    "name": "ipython",
    "version": 3
   },
   "file_extension": ".py",
   "mimetype": "text/x-python",
   "name": "python",
   "nbconvert_exporter": "python",
   "pygments_lexer": "ipython3",
   "version": "3.9.7"
  },
  "toc": {
   "base_numbering": 1,
   "nav_menu": {},
   "number_sections": false,
   "sideBar": true,
   "skip_h1_title": false,
   "title_cell": "Table of Contents",
   "title_sidebar": "Contents",
   "toc_cell": false,
   "toc_position": {},
   "toc_section_display": true,
   "toc_window_display": false
  },
  "varInspector": {
   "cols": {
    "lenName": 16,
    "lenType": 16,
    "lenVar": 40
   },
   "kernels_config": {
    "python": {
     "delete_cmd_postfix": "",
     "delete_cmd_prefix": "del ",
     "library": "var_list.py",
     "varRefreshCmd": "print(var_dic_list())"
    },
    "r": {
     "delete_cmd_postfix": ") ",
     "delete_cmd_prefix": "rm(",
     "library": "var_list.r",
     "varRefreshCmd": "cat(var_dic_list()) "
    }
   },
   "types_to_exclude": [
    "module",
    "function",
    "builtin_function_or_method",
    "instance",
    "_Feature"
   ],
   "window_display": false
  }
 },
 "nbformat": 4,
 "nbformat_minor": 1
}
