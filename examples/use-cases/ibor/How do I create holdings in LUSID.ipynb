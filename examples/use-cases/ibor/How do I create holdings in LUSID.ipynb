{
 "cells": [
  {
   "cell_type": "markdown",
   "metadata": {},
   "source": [
    "## How do I create holdings in LUSID?\n",
    "\n",
    "This notebook provides a reference implementation to the [\"How do I create holdings in LUSID?\"](https://support.finbourne.com/how-do-i-create-holdings) document which demonstrates the process of loading transactions into LUSID to produce holdings.\n",
    "\n",
    "While we use Python to interact with the LUSID API here, the models and methods are also available through our other maintained SDKs in [C#](https://github.com/finbourne/lusid-sdk-csharp), [Java](https://github.com/finbourne/lusid-sdk-java) and [JavaScript](https://github.com/finbourne/lusid-sdk-js). "
   ]
  },
  {
   "cell_type": "markdown",
   "metadata": {},
   "source": [
    "## Setup LUSID"
   ]
  },
  {
   "cell_type": "code",
   "execution_count": 1,
   "metadata": {
    "pycharm": {
     "is_executing": false
    },
    "scrolled": true
   },
   "outputs": [
    {
     "name": "stdout",
     "output_type": "stream",
     "text": [
      "LUSID Environment Initialised\n",
      "LUSID SDK Version:  0.5.4231.0\n"
     ]
    }
   ],
   "source": [
    "import os\n",
    "import lusid\n",
    "import json\n",
    "from lusid import models\n",
    "import pandas as pd\n",
    "from lusid.utilities import ApiClientFactory\n",
    "from pathlib import Path\n",
    "from lusidjam import RefreshingToken\n",
    "import pickle\n",
    "import pprint\n",
    "from lusidtools.cocoon.utilities import create_scope_id\n",
    "\n",
    "\n",
    "# Authenticate our user and create our API client\n",
    "secrets_path = os.getenv(\"FBN_SECRETS_PATH\")\n",
    "\n",
    "# Initiate an API Factory which is the client side object for interacting with LUSID APIs\n",
    "api_factory = lusid.utilities.ApiClientFactory(\n",
    "    token=RefreshingToken(),\n",
    "    api_secrets_filename=secrets_path,\n",
    "    app_name=\"LusidJupyterNotebook\",\n",
    ")\n",
    "    \n",
    "print ('LUSID Environment Initialised')\n",
    "print ('LUSID SDK Version: ', api_factory.build(lusid.api.ApplicationMetadataApi).get_lusid_versions().build_version)"
   ]
  },
  {
   "cell_type": "code",
   "execution_count": 2,
   "metadata": {},
   "outputs": [],
   "source": [
    "# Build the APIs we are going to use\n",
    "\n",
    "transaction_portfolios_api= api_factory.build(lusid.api.TransactionPortfoliosApi)\n",
    "portfolios_api = api_factory.build(lusid.api.PortfoliosApi)\n",
    "property_definitions_api= api_factory.build(lusid.api.PropertyDefinitionsApi)\n",
    "instruments_api  = api_factory.build(lusid.api.InstrumentsApi)\n",
    "system_configuration_api= api_factory.build(lusid.api.SystemConfigurationApi)"
   ]
  },
  {
   "cell_type": "markdown",
   "metadata": {},
   "source": [
    "## Load Data files"
   ]
  },
  {
   "cell_type": "code",
   "execution_count": 3,
   "metadata": {
    "pycharm": {
     "is_executing": false
    },
    "scrolled": true
   },
   "outputs": [
    {
     "data": {
      "text/html": [
       "<div>\n",
       "<style scoped>\n",
       "    .dataframe tbody tr th:only-of-type {\n",
       "        vertical-align: middle;\n",
       "    }\n",
       "\n",
       "    .dataframe tbody tr th {\n",
       "        vertical-align: top;\n",
       "    }\n",
       "\n",
       "    .dataframe thead th {\n",
       "        text-align: right;\n",
       "    }\n",
       "</style>\n",
       "<table border=\"1\" class=\"dataframe\">\n",
       "  <thead>\n",
       "    <tr style=\"text-align: right;\">\n",
       "      <th></th>\n",
       "      <th>txn_id</th>\n",
       "      <th>trade_date</th>\n",
       "      <th>transaction_type</th>\n",
       "      <th>instrument_desc</th>\n",
       "      <th>client_internal</th>\n",
       "      <th>instrument_currency</th>\n",
       "      <th>instrument_id</th>\n",
       "      <th>quantity</th>\n",
       "      <th>price</th>\n",
       "      <th>net_money</th>\n",
       "      <th>portfolio</th>\n",
       "      <th>base_currency</th>\n",
       "      <th>portfolio_manager_name</th>\n",
       "      <th>Broker</th>\n",
       "    </tr>\n",
       "  </thead>\n",
       "  <tbody>\n",
       "    <tr>\n",
       "      <th>0</th>\n",
       "      <td>tx_00001</td>\n",
       "      <td>2020-01-01T00:00:00.0000000+00:00</td>\n",
       "      <td>FundsIn</td>\n",
       "      <td>CASH_GBP</td>\n",
       "      <td>cash</td>\n",
       "      <td>GBP</td>\n",
       "      <td>Cash in GBP</td>\n",
       "      <td>1000000</td>\n",
       "      <td>1.00</td>\n",
       "      <td>1000000</td>\n",
       "      <td>UK_EQUITY</td>\n",
       "      <td>GBP</td>\n",
       "      <td>John Smith</td>\n",
       "      <td>NaN</td>\n",
       "    </tr>\n",
       "    <tr>\n",
       "      <th>1</th>\n",
       "      <td>tx_00002</td>\n",
       "      <td>2020-01-01T00:00:00.0000000+00:00</td>\n",
       "      <td>Buy</td>\n",
       "      <td>Tesco</td>\n",
       "      <td>EQ_001</td>\n",
       "      <td>GBP</td>\n",
       "      <td>TSCO</td>\n",
       "      <td>100000</td>\n",
       "      <td>2.56</td>\n",
       "      <td>256000</td>\n",
       "      <td>UK_EQUITY</td>\n",
       "      <td>GBP</td>\n",
       "      <td>John Smith</td>\n",
       "      <td>NaN</td>\n",
       "    </tr>\n",
       "    <tr>\n",
       "      <th>2</th>\n",
       "      <td>tx_00003</td>\n",
       "      <td>2020-01-02T00:00:00.0000000+00:00</td>\n",
       "      <td>Buy</td>\n",
       "      <td>Morrisons</td>\n",
       "      <td>EQ_002</td>\n",
       "      <td>GBP</td>\n",
       "      <td>MRW</td>\n",
       "      <td>120000</td>\n",
       "      <td>1.92</td>\n",
       "      <td>230400</td>\n",
       "      <td>UK_EQUITY</td>\n",
       "      <td>GBP</td>\n",
       "      <td>John Smith</td>\n",
       "      <td>NaN</td>\n",
       "    </tr>\n",
       "    <tr>\n",
       "      <th>3</th>\n",
       "      <td>tx_00004</td>\n",
       "      <td>2020-01-02T00:00:00.0000000+00:00</td>\n",
       "      <td>Buy</td>\n",
       "      <td>Sainsbury's</td>\n",
       "      <td>EQ_003</td>\n",
       "      <td>GBP</td>\n",
       "      <td>SBRY</td>\n",
       "      <td>200000</td>\n",
       "      <td>2.26</td>\n",
       "      <td>452000</td>\n",
       "      <td>UK_EQUITY</td>\n",
       "      <td>GBP</td>\n",
       "      <td>John Smith</td>\n",
       "      <td>NaN</td>\n",
       "    </tr>\n",
       "    <tr>\n",
       "      <th>4</th>\n",
       "      <td>tx_00005</td>\n",
       "      <td>2020-01-03T00:00:00.0000000+00:00</td>\n",
       "      <td>Buy</td>\n",
       "      <td>Tesco</td>\n",
       "      <td>EQ_001</td>\n",
       "      <td>GBP</td>\n",
       "      <td>TSCO</td>\n",
       "      <td>20000</td>\n",
       "      <td>2.60</td>\n",
       "      <td>52000</td>\n",
       "      <td>UK_EQUITY</td>\n",
       "      <td>GBP</td>\n",
       "      <td>John Smith</td>\n",
       "      <td>NaN</td>\n",
       "    </tr>\n",
       "  </tbody>\n",
       "</table>\n",
       "</div>"
      ],
      "text/plain": [
       "     txn_id                         trade_date transaction_type  \\\n",
       "0  tx_00001  2020-01-01T00:00:00.0000000+00:00          FundsIn   \n",
       "1  tx_00002  2020-01-01T00:00:00.0000000+00:00              Buy   \n",
       "2  tx_00003  2020-01-02T00:00:00.0000000+00:00              Buy   \n",
       "3  tx_00004  2020-01-02T00:00:00.0000000+00:00              Buy   \n",
       "4  tx_00005  2020-01-03T00:00:00.0000000+00:00              Buy   \n",
       "\n",
       "  instrument_desc client_internal instrument_currency instrument_id  quantity  \\\n",
       "0        CASH_GBP            cash                 GBP   Cash in GBP   1000000   \n",
       "1           Tesco          EQ_001                 GBP          TSCO    100000   \n",
       "2       Morrisons          EQ_002                 GBP           MRW    120000   \n",
       "3     Sainsbury's          EQ_003                 GBP          SBRY    200000   \n",
       "4           Tesco          EQ_001                 GBP          TSCO     20000   \n",
       "\n",
       "   price  net_money  portfolio base_currency portfolio_manager_name  Broker  \n",
       "0   1.00    1000000  UK_EQUITY           GBP             John Smith     NaN  \n",
       "1   2.56     256000  UK_EQUITY           GBP             John Smith     NaN  \n",
       "2   1.92     230400  UK_EQUITY           GBP             John Smith     NaN  \n",
       "3   2.26     452000  UK_EQUITY           GBP             John Smith     NaN  \n",
       "4   2.60      52000  UK_EQUITY           GBP             John Smith     NaN  "
      ]
     },
     "execution_count": 3,
     "metadata": {},
     "output_type": "execute_result"
    }
   ],
   "source": [
    "txns = pd.read_csv(\"data/tutorial/tutorial-transactions.csv\")\n",
    "txns"
   ]
  },
  {
   "cell_type": "markdown",
   "metadata": {},
   "source": [
    "## Prepare portfolio and properties"
   ]
  },
  {
   "cell_type": "markdown",
   "metadata": {},
   "source": [
    "We begin by specifying a scope for loading the data. We also define the portfolio code which will be used to store transactions and holdings. "
   ]
  },
  {
   "cell_type": "code",
   "execution_count": 4,
   "metadata": {
    "pycharm": {
     "is_executing": false
    },
    "scrolled": false
   },
   "outputs": [
    {
     "name": "stdout",
     "output_type": "stream",
     "text": [
      "life_of_a_txn-3857-1c04-076c-94\n",
      "UK_EQUITY\n"
     ]
    }
   ],
   "source": [
    "scope = \"life_of_a_txn-\" + create_scope_id()\n",
    "portfolio_code = \"UK_EQUITY\"\n",
    "\n",
    "print(scope)\n",
    "print(portfolio_code)"
   ]
  },
  {
   "cell_type": "code",
   "execution_count": 5,
   "metadata": {},
   "outputs": [
    {
     "name": "stdout",
     "output_type": "stream",
     "text": [
      "Created new property Portfolio/life_of_a_txn-3857-1c04-076c-94/portfolio_manager_name\n"
     ]
    }
   ],
   "source": [
    "# Call LUSID to create a property\n",
    "property_response = property_definitions_api.create_property_definition(\n",
    "definition=models.CreatePropertyDefinitionRequest(\n",
    "        domain=\"Portfolio\",\n",
    "        scope=scope,\n",
    "        code=\"portfolio_manager_name\",\n",
    "        value_required=False,\n",
    "        display_name=\"portfolio_manager_name\",\n",
    "        data_type_id=models.ResourceId(\n",
    "            scope='system',\n",
    "            code='string'\n",
    "        )\n",
    "    )\n",
    ")\n",
    "\n",
    "print(f\"Created new property {property_response.key}\")"
   ]
  },
  {
   "cell_type": "markdown",
   "metadata": {},
   "source": [
    "## Create Portfolio in LUSID\n",
    "\n",
    "(See [Section 4](https://support.finbourne.com/how-do-i-create-holdings#load-portfolios) of linked tutorial)"
   ]
  },
  {
   "cell_type": "code",
   "execution_count": 6,
   "metadata": {
    "scrolled": true
   },
   "outputs": [
    {
     "name": "stdout",
     "output_type": "stream",
     "text": [
      "portfolio 'UK_EQUITY', in scope life_of_a_txn-3857-1c04-076c-94 created effective from: 2010/1/1\n"
     ]
    }
   ],
   "source": [
    "# Create portfolio with properties\n",
    "subholding_key={}\n",
    "created_date=\"2010-01-01T00:00:00.000000+00:00\"\n",
    "\n",
    "# create request body\n",
    "portfolio_request = models.CreateTransactionPortfolioRequest(\n",
    "    display_name=\"Life of a transaction\",\n",
    "    code = portfolio_code,\n",
    "    base_currency=\"GBP\",\n",
    "    created=created_date,\n",
    "    properties=\n",
    "        {\n",
    "        f\"Portfolio/{scope}/portfolio_manager_name\" : models.ModelProperty(\n",
    "                                                            key=f\"Portfolio/{scope}/portfolio_manager_name\",\n",
    "                                                            value=models.PropertyValue(\n",
    "                                                                    label_value=\"Active\"\n",
    "                                                                )\n",
    "                                                            )\n",
    "        },\n",
    ")\n",
    "\n",
    "# Upload new portfolio to LUSID\n",
    "response = transaction_portfolios_api.create_portfolio(\n",
    "    scope=scope,\n",
    "    transaction_portfolio=portfolio_request\n",
    ")\n",
    "\n",
    "created = response.version.effective_from\n",
    "print(f\"portfolio '{response.id.code}', in scope {scope} created effective from: \"\n",
    "      f\"{created.year}/\"\n",
    "      f\"{created.month}/\"\n",
    "      f\"{created.day}\"\n",
    "     )"
   ]
  },
  {
   "cell_type": "markdown",
   "metadata": {},
   "source": [
    "## Load Instruments\n",
    "\n",
    "(See [Section 5](https://support.finbourne.com/how-do-i-create-holdings#load-instruments) of linked tutorial)"
   ]
  },
  {
   "cell_type": "code",
   "execution_count": 7,
   "metadata": {
    "scrolled": true
   },
   "outputs": [
    {
     "name": "stdout",
     "output_type": "stream",
     "text": [
      "Created new property Instrument/life_of_a_txn-3857-1c04-076c-94/portfolio_manager_name\n"
     ]
    }
   ],
   "source": [
    "# Call LUSID to create a property\n",
    "property_response = property_definitions_api.create_property_definition(\n",
    "definition=models.CreatePropertyDefinitionRequest(\n",
    "            domain=\"Instrument\",\n",
    "            scope=scope,\n",
    "            code=\"portfolio_manager_name\",\n",
    "            value_required=False,\n",
    "            display_name=\"portfolio_manager_name\",\n",
    "            data_type_id=models.ResourceId(\n",
    "                scope='system',\n",
    "                code='string'\n",
    "            )\n",
    "        )\n",
    "    )\n",
    "\n",
    "print(f\"Created new property {property_response.key}\")"
   ]
  },
  {
   "cell_type": "markdown",
   "metadata": {},
   "source": [
    "Each instrument definition needs to be given an identifier. For equities this could be an Isin or Figi, alternatively for cash this must be \"Currency\"."
   ]
  },
  {
   "cell_type": "code",
   "execution_count": 8,
   "metadata": {
    "scrolled": false
   },
   "outputs": [],
   "source": [
    "# remove duplicate values\n",
    "txns.drop_duplicates(subset=\"client_internal\")\n",
    "batch_upsert_request = {}\n",
    "\n",
    "for row, instr in txns.iterrows():\n",
    "    identifiers={}\n",
    "    if instr[\"client_internal\"] == \"cash\":\n",
    "        \n",
    "        # if the current row is a currency, give it a currency identifier\n",
    "        identifiers[\"Currency\"] = models.InstrumentIdValue(value=instr[\"instrument_currency\"])\n",
    "    else:\n",
    "        \n",
    "        # if the current row is not a currency, just use the Client Internal ID \n",
    "        identifiers[\"ClientInternal\"] = models.InstrumentIdValue(value=instr[\"client_internal\"])\n",
    "\n",
    "    batch_upsert_request[instr['instrument_desc']] = models.InstrumentDefinition(\n",
    "        name=instr['instrument_desc'],\n",
    "        identifiers=identifiers,\n",
    "        properties=[\n",
    "            models.ModelProperty(\n",
    "                key=f\"Instrument/{scope}/portfolio_manager_name\",\n",
    "                value=models.PropertyValue(\n",
    "                    label_value=instr[\"portfolio_manager_name\"]\n",
    "                )\n",
    "            )\n",
    "        ]\n",
    "    )\n",
    "\n",
    "# Upsert new instruments to LUSID\n",
    "instrument_response = instruments_api.upsert_instruments(\n",
    "    instruments=batch_upsert_request)\n",
    "\n",
    "# check response was successful\n",
    "\n",
    "if len(instrument_response.failed) > 0:\n",
    "        raise AssertionError(\"Instruments upsert failed. Inspect response for more detail\")"
   ]
  },
  {
   "cell_type": "markdown",
   "metadata": {},
   "source": [
    "## Loading a Transaction File\n",
    "\n",
    "(See [Section 6](https://support.finbourne.com/how-do-i-create-holdings#load-txn-file) of linked tutorial)"
   ]
  },
  {
   "cell_type": "code",
   "execution_count": 9,
   "metadata": {},
   "outputs": [
    {
     "name": "stdout",
     "output_type": "stream",
     "text": [
      "Created new property Transaction/life_of_a_txn-3857-1c04-076c-94/portfolio_manager_name\n"
     ]
    }
   ],
   "source": [
    "# Call LUSID to create a property\n",
    "property_response = property_definitions_api.create_property_definition(\n",
    "definition=models.CreatePropertyDefinitionRequest(\n",
    "            domain=\"Transaction\",\n",
    "            scope=scope,\n",
    "            code=\"portfolio_manager_name\",\n",
    "            value_required=False,\n",
    "            display_name=\"portfolio_manager_name\",\n",
    "            data_type_id=models.ResourceId(\n",
    "                scope='system',\n",
    "                code='string'\n",
    "            )\n",
    "        )\n",
    "    )\n",
    "\n",
    "print(f\"Created new property {property_response.key}\")"
   ]
  },
  {
   "cell_type": "code",
   "execution_count": 10,
   "metadata": {},
   "outputs": [
    {
     "name": "stdout",
     "output_type": "stream",
     "text": [
      "5 transactions upserted\n"
     ]
    }
   ],
   "source": [
    "# Upsert transactions\n",
    "transactions_request=[]\n",
    "txn_response=[]\n",
    "for row, txn in txns.iterrows():\n",
    "    \n",
    "    if txn[\"client_internal\"] == \"cash\":\n",
    "        instrument_identifier={\"Instrument/default/Currency\": \"GBP\"}\n",
    "    else:\n",
    "        instrument_identifier={\"Instrument/default/ClientInternal\": txn[\"client_internal\"]}\n",
    "    \n",
    "    # build request body\n",
    "    transactions_request.append(\n",
    "        models.TransactionRequest(\n",
    "            transaction_id=txn[\"txn_id\"],\n",
    "            type=txn[\"transaction_type\"],\n",
    "            instrument_identifiers=instrument_identifier,\n",
    "            transaction_date=txn[\"trade_date\"],\n",
    "            settlement_date=txn[\"trade_date\"],\n",
    "            units=txn[\"quantity\"],\n",
    "            transaction_price=models.TransactionPrice(\n",
    "                price=txn[\"price\"],\n",
    "                type=\"Price\"\n",
    "            ),\n",
    "            total_consideration=models.CurrencyAndAmount(\n",
    "                amount=txn[\"net_money\"],\n",
    "                currency=txn[\"instrument_currency\"]\n",
    "            ),\n",
    "            properties=\n",
    "            {\n",
    "                f\"Transaction/{scope}/portfolio_manager_name\":\n",
    "                    models.PerpetualProperty(\n",
    "                        key=f\"Transaction/{scope}/portfolio_manager_name\",\n",
    "                        value=models.PropertyValue(\n",
    "                            label_value=txn[\"portfolio_manager_name\"]\n",
    "                        )\n",
    "                    )\n",
    "            }\n",
    "        )\n",
    "    )\n",
    "    \n",
    "    # Make Upsert Transactions call to LUSID\n",
    "    txn_response.append(\n",
    "        transaction_portfolios_api.upsert_transactions(\n",
    "            scope=scope,\n",
    "            code=portfolio_code,\n",
    "            transactions=transactions_request\n",
    "        )\n",
    "    )\n",
    "    \n",
    "print(f\"{len(txn_response)} transactions upserted\")"
   ]
  },
  {
   "cell_type": "markdown",
   "metadata": {},
   "source": [
    "## Configuring Transaction Types\n",
    "\n",
    "(See [Section 7](https://support.finbourne.com/how-do-i-create-holdings#config-txn-types) of linked tutorial)"
   ]
  },
  {
   "cell_type": "markdown",
   "metadata": {},
   "source": [
    "In this section we will start by getting the current transaction and side configurations and saving them to a local file so that we reset the original values at the end of the notebook. Setting the transaction configurations will replace any existing configuration so we will begin by saving the existing configuration locally. We recommend that once you have saved this file you also save a backup copy if you accidentally overwrite this file. \n",
    "\n",
    "####  <font color='darkred'>WARNING: We recomend you backup and rename this configuration file</font> "
   ]
  },
  {
   "cell_type": "code",
   "execution_count": 11,
   "metadata": {},
   "outputs": [],
   "source": [
    "# get current Configuration\n",
    "default_types = system_configuration_api.list_configuration_transaction_types()\n",
    "\n",
    "# Save config to .pkl file so that we can reset default values if needed\n",
    "with open('default_config.pkl', 'wb') as output:\n",
    "    pickle.dump(default_types, output, pickle.HIGHEST_PROTOCOL)\n"
   ]
  },
  {
   "cell_type": "code",
   "execution_count": 12,
   "metadata": {},
   "outputs": [],
   "source": [
    "new_config = models.TransactionSetConfigurationDataRequest(\n",
    "    transaction_config_requests=[\n",
    "        models.TransactionConfigurationDataRequest(\n",
    "            aliases=\n",
    "            [\n",
    "                models.TransactionConfigurationTypeAlias(\n",
    "                    type=\"Buy\",\n",
    "                    description=\"A purchase transaction from System X\",\n",
    "                    transaction_class=\"Basic\",\n",
    "                    transaction_group=\"default\",\n",
    "                    transaction_roles=\"LongLonger\"\n",
    "                ),\n",
    "                models.TransactionConfigurationTypeAlias(\n",
    "                    type=\"B\",\n",
    "                    description=\"A purchase transaction from System X\",\n",
    "                    transaction_class=\"Basic\",\n",
    "                    transaction_group=\"alt1\",\n",
    "                    transaction_roles=\"LongLonger\"\n",
    "                ),\n",
    "            ],\n",
    "            movements=\n",
    "            [\n",
    "                models.TransactionConfigurationMovementData(\n",
    "                    movement_types=\"StockMovement\",\n",
    "                    side=\"Side1\", \n",
    "                    direction=1,\n",
    "                    properties={},\n",
    "                    mappings=[]\n",
    "                ),\n",
    "                models.TransactionConfigurationMovementData(\n",
    "                    movement_types=\"CashCommitment\",\n",
    "                    side=\"Side2\",\n",
    "                    direction=-1,\n",
    "                    properties={},\n",
    "                    mappings=[]\n",
    "                ),\n",
    "                models.TransactionConfigurationMovementData(\n",
    "                    movement_types=\"CashCommitment\",\n",
    "                    side=\"TradeCommissions\",\n",
    "                    direction=-1,\n",
    "                    properties={},\n",
    "                    mappings=[\n",
    "                        models.TransactionPropertyMappingRequest(\n",
    "                            property_key=f\"Transaction/{scope}/Broker_2\",\n",
    "                            set_to=\"Commission\"\n",
    "                        )\n",
    "                    ]\n",
    "                )\n",
    "            ],\n",
    "        properties={}\n",
    "        ),\n",
    "        models.TransactionConfigurationDataRequest(\n",
    "            aliases=\n",
    "            [\n",
    "                models.TransactionConfigurationTypeAlias(\n",
    "                    type=\"FundsIn\",\n",
    "                    description=\"Deposit New Funds\",\n",
    "                    transaction_class=\"CashTransfers\",\n",
    "                    transaction_group=\"default\",\n",
    "                    transaction_roles=\"Longer\"\n",
    "                ),\n",
    "                models.TransactionConfigurationTypeAlias(\n",
    "                    type=\"FI\",\n",
    "                    description=\"Deposit New Funds\",\n",
    "                    transaction_class=\"CashTransfers\",\n",
    "                    transaction_group=\"alt1\",\n",
    "                    transaction_roles=\"Longer\"\n",
    "                ),\n",
    "            ],\n",
    "            movements=\n",
    "            [\n",
    "                models.TransactionConfigurationMovementData(\n",
    "                    movement_types=\"CashAccrual\",\n",
    "                    side=\"Side1\", \n",
    "                    direction=1,\n",
    "                    properties={},\n",
    "                    mappings=[]\n",
    "                ),\n",
    "            ],\n",
    "        properties={}\n",
    "        )\n",
    "    ],\n",
    "    side_config_requests=[\n",
    "        models.SideConfigurationDataRequest(\n",
    "            side=\"Side1\",\n",
    "            security=\"Txn:LusidInstrumentId\",\n",
    "            currency=\"Txn:TradeCurrency\",\n",
    "            rate=\"Txn:TradeToPortfolioRate\",\n",
    "            units=\"Txn:Units\",\n",
    "            amount=\"Txn:TradeAmount\"\n",
    "        ),\n",
    "        models.SideConfigurationDataRequest(\n",
    "            side=\"Side2\",\n",
    "            security=\"Txn:SettleCcy\",\n",
    "            currency=\"Txn:SettlementCurrency\",\n",
    "            rate=\"SettledToPortfolioRate\",\n",
    "            units=\"Txn:TotalConsideration\",\n",
    "            amount=\"Txn:TotalConsideration\"\n",
    "        ),\n",
    "        models.SideConfigurationDataRequest(\n",
    "            side=\"TradeCommissions\",\n",
    "            security=\"Txn:SettleCcy\",\n",
    "            currency=\"Txn:SettlementCurrency\",\n",
    "            rate=\"SettledToPortfolioRate\",\n",
    "            units=f\"Transaction/{scope}/Comms2\",\n",
    "            amount=f\"Transaction/{scope}/Comms2\"\n",
    "        )\n",
    "    ]\n",
    ")\n",
    "\n",
    "# Set our LUSID environment to use the new transaction configuration\n",
    "response = system_configuration_api.set_configuration_transaction_types(\n",
    "    types = new_config,\n",
    ")"
   ]
  },
  {
   "cell_type": "markdown",
   "metadata": {},
   "source": [
    "## Get Holdings\n",
    "\n",
    "(See [Section 8](https://support.finbourne.com/how-do-i-create-holdings#get-holdings) of linked tutorial)"
   ]
  },
  {
   "cell_type": "code",
   "execution_count": 13,
   "metadata": {},
   "outputs": [],
   "source": [
    "# Prints the name and a quick summary from a get_holdings() response \n",
    "def display_holdings_summary(response):\n",
    "    # inspect holdings response for today\n",
    "    hld = [i for i in response.values]\n",
    "    \n",
    "    names=[]\n",
    "    amount=[]\n",
    "    units=[]\n",
    "    shks=[]\n",
    "    \n",
    "    \n",
    "    for item in hld:\n",
    "        \n",
    "        names.append(item.properties['Instrument/default/Name'].value.label_value)\n",
    "        amount.append(item.cost.amount)\n",
    "        units.append(item.units)\n",
    "        shks.append([item.sub_holding_keys[key].value.label_value for key in item.sub_holding_keys.keys()])\n",
    "        \n",
    "    data={\n",
    "        \"names\" : names,\n",
    "        \"amount\" : amount,\n",
    "        \"units\" : units,\n",
    "        \"shks\" : shks\n",
    "    }\n",
    "    \n",
    "    summary = pd.DataFrame(data=data)\n",
    "    return summary"
   ]
  },
  {
   "cell_type": "markdown",
   "metadata": {},
   "source": [
    "#### Get holdings with todays effective date"
   ]
  },
  {
   "cell_type": "code",
   "execution_count": 14,
   "metadata": {},
   "outputs": [
    {
     "data": {
      "text/html": [
       "<div>\n",
       "<style scoped>\n",
       "    .dataframe tbody tr th:only-of-type {\n",
       "        vertical-align: middle;\n",
       "    }\n",
       "\n",
       "    .dataframe tbody tr th {\n",
       "        vertical-align: top;\n",
       "    }\n",
       "\n",
       "    .dataframe thead th {\n",
       "        text-align: right;\n",
       "    }\n",
       "</style>\n",
       "<table border=\"1\" class=\"dataframe\">\n",
       "  <thead>\n",
       "    <tr style=\"text-align: right;\">\n",
       "      <th></th>\n",
       "      <th>names</th>\n",
       "      <th>amount</th>\n",
       "      <th>units</th>\n",
       "      <th>shks</th>\n",
       "    </tr>\n",
       "  </thead>\n",
       "  <tbody>\n",
       "    <tr>\n",
       "      <th>0</th>\n",
       "      <td>Tesco</td>\n",
       "      <td>308000.0</td>\n",
       "      <td>120000.0</td>\n",
       "      <td>[]</td>\n",
       "    </tr>\n",
       "    <tr>\n",
       "      <th>1</th>\n",
       "      <td>Morrisons</td>\n",
       "      <td>230400.0</td>\n",
       "      <td>120000.0</td>\n",
       "      <td>[]</td>\n",
       "    </tr>\n",
       "    <tr>\n",
       "      <th>2</th>\n",
       "      <td>Sainsbury's</td>\n",
       "      <td>452000.0</td>\n",
       "      <td>200000.0</td>\n",
       "      <td>[]</td>\n",
       "    </tr>\n",
       "    <tr>\n",
       "      <th>3</th>\n",
       "      <td>CCY_GBP</td>\n",
       "      <td>9600.0</td>\n",
       "      <td>9600.0</td>\n",
       "      <td>[]</td>\n",
       "    </tr>\n",
       "  </tbody>\n",
       "</table>\n",
       "</div>"
      ],
      "text/plain": [
       "         names    amount     units shks\n",
       "0        Tesco  308000.0  120000.0   []\n",
       "1    Morrisons  230400.0  120000.0   []\n",
       "2  Sainsbury's  452000.0  200000.0   []\n",
       "3      CCY_GBP    9600.0    9600.0   []"
      ]
     },
     "execution_count": 14,
     "metadata": {},
     "output_type": "execute_result"
    }
   ],
   "source": [
    "holdings_response_today = transaction_portfolios_api.get_holdings(\n",
    "    scope=scope, \n",
    "    code=portfolio_code,\n",
    "    property_keys=[\"Instrument/default/Name\"]\n",
    ")\n",
    "\n",
    "summary = display_holdings_summary(holdings_response_today)\n",
    "summary"
   ]
  },
  {
   "cell_type": "markdown",
   "metadata": {},
   "source": [
    "#### Get holdings effective 1st January 2020 (the trade date of the first transactions)"
   ]
  },
  {
   "cell_type": "code",
   "execution_count": 15,
   "metadata": {},
   "outputs": [
    {
     "data": {
      "text/html": [
       "<div>\n",
       "<style scoped>\n",
       "    .dataframe tbody tr th:only-of-type {\n",
       "        vertical-align: middle;\n",
       "    }\n",
       "\n",
       "    .dataframe tbody tr th {\n",
       "        vertical-align: top;\n",
       "    }\n",
       "\n",
       "    .dataframe thead th {\n",
       "        text-align: right;\n",
       "    }\n",
       "</style>\n",
       "<table border=\"1\" class=\"dataframe\">\n",
       "  <thead>\n",
       "    <tr style=\"text-align: right;\">\n",
       "      <th></th>\n",
       "      <th>names</th>\n",
       "      <th>amount</th>\n",
       "      <th>units</th>\n",
       "      <th>shks</th>\n",
       "    </tr>\n",
       "  </thead>\n",
       "  <tbody>\n",
       "    <tr>\n",
       "      <th>0</th>\n",
       "      <td>Tesco</td>\n",
       "      <td>256000.0</td>\n",
       "      <td>100000.0</td>\n",
       "      <td>[]</td>\n",
       "    </tr>\n",
       "    <tr>\n",
       "      <th>1</th>\n",
       "      <td>CCY_GBP</td>\n",
       "      <td>744000.0</td>\n",
       "      <td>744000.0</td>\n",
       "      <td>[]</td>\n",
       "    </tr>\n",
       "  </tbody>\n",
       "</table>\n",
       "</div>"
      ],
      "text/plain": [
       "     names    amount     units shks\n",
       "0    Tesco  256000.0  100000.0   []\n",
       "1  CCY_GBP  744000.0  744000.0   []"
      ]
     },
     "execution_count": 15,
     "metadata": {},
     "output_type": "execute_result"
    }
   ],
   "source": [
    "holdings_response_1st_jan = transaction_portfolios_api.get_holdings(\n",
    "    scope=scope, \n",
    "    code=portfolio_code,\n",
    "    effective_at=\"2020-01-01T00:00:01.0000000+00:00\",\n",
    "    property_keys=[\"Instrument/default/Name\"]\n",
    ")\n",
    "\n",
    "display_holdings_summary(holdings_response_1st_jan)"
   ]
  },
  {
   "cell_type": "markdown",
   "metadata": {},
   "source": [
    "#### Get holdings effective 1st March (after the trade date of the last transaction)"
   ]
  },
  {
   "cell_type": "code",
   "execution_count": 16,
   "metadata": {},
   "outputs": [
    {
     "data": {
      "text/html": [
       "<div>\n",
       "<style scoped>\n",
       "    .dataframe tbody tr th:only-of-type {\n",
       "        vertical-align: middle;\n",
       "    }\n",
       "\n",
       "    .dataframe tbody tr th {\n",
       "        vertical-align: top;\n",
       "    }\n",
       "\n",
       "    .dataframe thead th {\n",
       "        text-align: right;\n",
       "    }\n",
       "</style>\n",
       "<table border=\"1\" class=\"dataframe\">\n",
       "  <thead>\n",
       "    <tr style=\"text-align: right;\">\n",
       "      <th></th>\n",
       "      <th>names</th>\n",
       "      <th>amount</th>\n",
       "      <th>units</th>\n",
       "      <th>shks</th>\n",
       "    </tr>\n",
       "  </thead>\n",
       "  <tbody>\n",
       "    <tr>\n",
       "      <th>0</th>\n",
       "      <td>Tesco</td>\n",
       "      <td>308000.0</td>\n",
       "      <td>120000.0</td>\n",
       "      <td>[]</td>\n",
       "    </tr>\n",
       "    <tr>\n",
       "      <th>1</th>\n",
       "      <td>Morrisons</td>\n",
       "      <td>230400.0</td>\n",
       "      <td>120000.0</td>\n",
       "      <td>[]</td>\n",
       "    </tr>\n",
       "    <tr>\n",
       "      <th>2</th>\n",
       "      <td>Sainsbury's</td>\n",
       "      <td>452000.0</td>\n",
       "      <td>200000.0</td>\n",
       "      <td>[]</td>\n",
       "    </tr>\n",
       "    <tr>\n",
       "      <th>3</th>\n",
       "      <td>CCY_GBP</td>\n",
       "      <td>9600.0</td>\n",
       "      <td>9600.0</td>\n",
       "      <td>[]</td>\n",
       "    </tr>\n",
       "  </tbody>\n",
       "</table>\n",
       "</div>"
      ],
      "text/plain": [
       "         names    amount     units shks\n",
       "0        Tesco  308000.0  120000.0   []\n",
       "1    Morrisons  230400.0  120000.0   []\n",
       "2  Sainsbury's  452000.0  200000.0   []\n",
       "3      CCY_GBP    9600.0    9600.0   []"
      ]
     },
     "execution_count": 16,
     "metadata": {},
     "output_type": "execute_result"
    }
   ],
   "source": [
    "holdings_response_1st_Mar = transaction_portfolios_api.get_holdings(\n",
    "    scope=scope, \n",
    "    code=portfolio_code,\n",
    "    property_keys=[\"Instrument/default/Name\"],\n",
    "    effective_at=\"2020-03-01T00:00:01.0000000+00:00\"\n",
    ")\n",
    "\n",
    "display_holdings_summary(holdings_response_1st_Mar)"
   ]
  },
  {
   "cell_type": "markdown",
   "metadata": {},
   "source": [
    "## Sub-holding Keys\n",
    "\n",
    "(See [Section 9](https://support.finbourne.com/how-do-i-create-holdings#shk) of linked tutorial)"
   ]
  },
  {
   "cell_type": "markdown",
   "metadata": {},
   "source": [
    "In order to segregate our new portfolio that includes Sub-holding Keys (SHKs), we will use a different scope."
   ]
  },
  {
   "cell_type": "code",
   "execution_count": 17,
   "metadata": {},
   "outputs": [],
   "source": [
    "txns_strat = pd.read_csv(\"data/tutorial/txn_strategy.csv\")"
   ]
  },
  {
   "cell_type": "code",
   "execution_count": 18,
   "metadata": {},
   "outputs": [
    {
     "name": "stdout",
     "output_type": "stream",
     "text": [
      "life_of_a_txn-3857-1c04-076c-94-stratategy-tagging\n"
     ]
    }
   ],
   "source": [
    "scope_shk = scope + \"-stratategy-tagging\"\n",
    "print(scope_shk)"
   ]
  },
  {
   "cell_type": "markdown",
   "metadata": {},
   "source": [
    "#### create the property for `StrategyTag`"
   ]
  },
  {
   "cell_type": "code",
   "execution_count": 19,
   "metadata": {},
   "outputs": [
    {
     "name": "stdout",
     "output_type": "stream",
     "text": [
      "Created new property Transaction/life_of_a_txn-3857-1c04-076c-94-stratategy-tagging/StrategyTag\n"
     ]
    }
   ],
   "source": [
    "# Call LUSID to create our new property\n",
    "# this property willbe used as our SHK\n",
    "property_response = property_definitions_api.create_property_definition(\n",
    "    definition=models.CreatePropertyDefinitionRequest(\n",
    "            domain=\"Transaction\",\n",
    "            scope=scope_shk,\n",
    "            code=\"StrategyTag\",\n",
    "            value_required=False,\n",
    "            display_name=\"StrategyTag\",\n",
    "            data_type_id=models.ResourceId(\n",
    "                scope='system',\n",
    "                code='string'\n",
    "            )\n",
    "        )\n",
    "    )\n",
    "\n",
    "print(f\"Created new property {property_response.key}\")"
   ]
  },
  {
   "cell_type": "markdown",
   "metadata": {},
   "source": [
    "#### Assign property to portfolio (or derived portfolio) as SHK"
   ]
  },
  {
   "cell_type": "code",
   "execution_count": 20,
   "metadata": {},
   "outputs": [
    {
     "name": "stdout",
     "output_type": "stream",
     "text": [
      "portfolio 'UK_EQUITY', in scope life_of_a_txn-3857-1c04-076c-94-stratategy-tagging created effective from: 2010/1/1\n"
     ]
    }
   ],
   "source": [
    "# Create portfolio with properties\n",
    "created_date=\"2010-01-01T00:00:00.000000+00:00\"\n",
    "\n",
    "# create request body\n",
    "portfolio_request = models.CreateTransactionPortfolioRequest(\n",
    "    display_name=\"Life of a transaction - stratategy tagging\",\n",
    "    code = portfolio_code,\n",
    "    base_currency=\"GBP\",\n",
    "    created=created_date,\n",
    "    sub_holding_keys=[\n",
    "        f\"Transaction/{scope_shk}/StrategyTag\"\n",
    "    ]\n",
    ")\n",
    "\n",
    "# Upload new portfolio to LUSID\n",
    "response = transaction_portfolios_api.create_portfolio(\n",
    "    scope=scope_shk,\n",
    "    transaction_portfolio=portfolio_request\n",
    ")\n",
    "\n",
    "created = response.version.effective_from\n",
    "print(f\"portfolio '{response.id.code}', in scope {scope_shk} created effective from: \"\n",
    "      f\"{created.year}/\"\n",
    "      f\"{created.month}/\"\n",
    "      f\"{created.day}\"\n",
    "     )"
   ]
  },
  {
   "cell_type": "markdown",
   "metadata": {},
   "source": [
    "#### Upload transactions with properties for SHK"
   ]
  },
  {
   "cell_type": "code",
   "execution_count": 21,
   "metadata": {
    "scrolled": true
   },
   "outputs": [
    {
     "name": "stdout",
     "output_type": "stream",
     "text": [
      "5 transactions upserted\n"
     ]
    }
   ],
   "source": [
    "# Upsert transactions\n",
    "transactions_request=[]\n",
    "txn_response=[]\n",
    "for row, txn in txns_strat.iterrows():\n",
    "    \n",
    "    if txn[\"client_internal\"] == \"cash\":\n",
    "        instrument_identifier={\"Instrument/default/Currency\": \"GBP\"}\n",
    "    else:\n",
    "        instrument_identifier={\"Instrument/default/ClientInternal\": txn[\"client_internal\"]}\n",
    "    \n",
    "    # build request body\n",
    "    transactions_request.append(\n",
    "        models.TransactionRequest(\n",
    "            transaction_id=txn[\"txn_id\"],\n",
    "            type=txn[\"transaction_type\"],\n",
    "            instrument_identifiers=instrument_identifier,\n",
    "            transaction_date=txn[\"trade_date\"],\n",
    "            settlement_date=txn[\"trade_date\"],\n",
    "            units=txn[\"quantity\"],\n",
    "            transaction_price=models.TransactionPrice(\n",
    "                price=txn[\"price\"],\n",
    "                type=\"Price\"\n",
    "            ),\n",
    "            total_consideration=models.CurrencyAndAmount(\n",
    "                amount=txn[\"net_money\"],\n",
    "                currency=txn[\"instrument_currency\"]\n",
    "            ),\n",
    "            properties=\n",
    "            {\n",
    "                f\"Transaction/{scope_shk}/StrategyTag\":\n",
    "                    models.PerpetualProperty(\n",
    "                        key=f\"Transaction/{scope_shk}/StrategyTag\",\n",
    "                        value=models.PropertyValue(\n",
    "                            label_value=txn[\"StrategyTag\"]\n",
    "                        )\n",
    "                    ),\n",
    "            }\n",
    "        )\n",
    "    )\n",
    "    \n",
    "    \n",
    "    # Make Upsert Transactions call to LUSID\n",
    "    txn_response.append(\n",
    "        transaction_portfolios_api.upsert_transactions(\n",
    "            scope=scope_shk,\n",
    "            code=portfolio_code,\n",
    "            transactions=transactions_request\n",
    "        )\n",
    "    )\n",
    "    \n",
    "print(f\"{len(txn_response)} transactions upserted\")"
   ]
  },
  {
   "cell_type": "markdown",
   "metadata": {},
   "source": [
    "### Get Holdings from new portfolio with SHK"
   ]
  },
  {
   "cell_type": "markdown",
   "metadata": {},
   "source": [
    "Now when we get holdings, the result will be segregated by any specified Sub-holding Keys that we specified on the portfolio. "
   ]
  },
  {
   "cell_type": "code",
   "execution_count": 22,
   "metadata": {},
   "outputs": [
    {
     "data": {
      "text/html": [
       "<div>\n",
       "<style scoped>\n",
       "    .dataframe tbody tr th:only-of-type {\n",
       "        vertical-align: middle;\n",
       "    }\n",
       "\n",
       "    .dataframe tbody tr th {\n",
       "        vertical-align: top;\n",
       "    }\n",
       "\n",
       "    .dataframe thead th {\n",
       "        text-align: right;\n",
       "    }\n",
       "</style>\n",
       "<table border=\"1\" class=\"dataframe\">\n",
       "  <thead>\n",
       "    <tr style=\"text-align: right;\">\n",
       "      <th></th>\n",
       "      <th>names</th>\n",
       "      <th>amount</th>\n",
       "      <th>units</th>\n",
       "      <th>shks</th>\n",
       "    </tr>\n",
       "  </thead>\n",
       "  <tbody>\n",
       "    <tr>\n",
       "      <th>0</th>\n",
       "      <td>Tesco</td>\n",
       "      <td>256000.0</td>\n",
       "      <td>100000.0</td>\n",
       "      <td>[benchmarkRebalance]</td>\n",
       "    </tr>\n",
       "    <tr>\n",
       "      <th>1</th>\n",
       "      <td>Tesco</td>\n",
       "      <td>52000.0</td>\n",
       "      <td>20000.0</td>\n",
       "      <td>[quantitativeSignal]</td>\n",
       "    </tr>\n",
       "    <tr>\n",
       "      <th>2</th>\n",
       "      <td>Morrisons</td>\n",
       "      <td>230400.0</td>\n",
       "      <td>120000.0</td>\n",
       "      <td>[benchmarkRebalance]</td>\n",
       "    </tr>\n",
       "    <tr>\n",
       "      <th>3</th>\n",
       "      <td>Sainsbury's</td>\n",
       "      <td>452000.0</td>\n",
       "      <td>200000.0</td>\n",
       "      <td>[benchmarkRebalance]</td>\n",
       "    </tr>\n",
       "    <tr>\n",
       "      <th>4</th>\n",
       "      <td>CCY_GBP</td>\n",
       "      <td>61600.0</td>\n",
       "      <td>61600.0</td>\n",
       "      <td>[benchmarkRebalance]</td>\n",
       "    </tr>\n",
       "    <tr>\n",
       "      <th>5</th>\n",
       "      <td>CCY_GBP</td>\n",
       "      <td>-52000.0</td>\n",
       "      <td>-52000.0</td>\n",
       "      <td>[quantitativeSignal]</td>\n",
       "    </tr>\n",
       "  </tbody>\n",
       "</table>\n",
       "</div>"
      ],
      "text/plain": [
       "         names    amount     units                  shks\n",
       "0        Tesco  256000.0  100000.0  [benchmarkRebalance]\n",
       "1        Tesco   52000.0   20000.0  [quantitativeSignal]\n",
       "2    Morrisons  230400.0  120000.0  [benchmarkRebalance]\n",
       "3  Sainsbury's  452000.0  200000.0  [benchmarkRebalance]\n",
       "4      CCY_GBP   61600.0   61600.0  [benchmarkRebalance]\n",
       "5      CCY_GBP  -52000.0  -52000.0  [quantitativeSignal]"
      ]
     },
     "execution_count": 22,
     "metadata": {},
     "output_type": "execute_result"
    }
   ],
   "source": [
    "holdings_response_1st_Mar = transaction_portfolios_api.get_holdings(\n",
    "    scope=scope_shk, \n",
    "    code=portfolio_code,\n",
    "    property_keys=[\n",
    "        \"Instrument/default/Name\",\n",
    "    ],\n",
    "    effective_at=\"2020-03-01T00:00:01.0000000+00:00\"\n",
    ")\n",
    "\n",
    "display_holdings_summary(holdings_response_1st_Mar)"
   ]
  },
  {
   "cell_type": "code",
   "execution_count": 23,
   "metadata": {
    "scrolled": true
   },
   "outputs": [
    {
     "data": {
      "text/html": [
       "<div>\n",
       "<style scoped>\n",
       "    .dataframe tbody tr th:only-of-type {\n",
       "        vertical-align: middle;\n",
       "    }\n",
       "\n",
       "    .dataframe tbody tr th {\n",
       "        vertical-align: top;\n",
       "    }\n",
       "\n",
       "    .dataframe thead th {\n",
       "        text-align: right;\n",
       "    }\n",
       "</style>\n",
       "<table border=\"1\" class=\"dataframe\">\n",
       "  <thead>\n",
       "    <tr style=\"text-align: right;\">\n",
       "      <th></th>\n",
       "      <th>names</th>\n",
       "      <th>amount</th>\n",
       "      <th>units</th>\n",
       "      <th>shks</th>\n",
       "    </tr>\n",
       "  </thead>\n",
       "  <tbody>\n",
       "    <tr>\n",
       "      <th>0</th>\n",
       "      <td>Tesco</td>\n",
       "      <td>256000.0</td>\n",
       "      <td>100000.0</td>\n",
       "      <td>[benchmarkRebalance]</td>\n",
       "    </tr>\n",
       "    <tr>\n",
       "      <th>1</th>\n",
       "      <td>CCY_GBP</td>\n",
       "      <td>744000.0</td>\n",
       "      <td>744000.0</td>\n",
       "      <td>[benchmarkRebalance]</td>\n",
       "    </tr>\n",
       "  </tbody>\n",
       "</table>\n",
       "</div>"
      ],
      "text/plain": [
       "     names    amount     units                  shks\n",
       "0    Tesco  256000.0  100000.0  [benchmarkRebalance]\n",
       "1  CCY_GBP  744000.0  744000.0  [benchmarkRebalance]"
      ]
     },
     "execution_count": 23,
     "metadata": {},
     "output_type": "execute_result"
    }
   ],
   "source": [
    "holdings_response_1st_jan = transaction_portfolios_api.get_holdings(\n",
    "    scope=scope_shk, \n",
    "    code=portfolio_code,\n",
    "    effective_at=\"2020-01-01T00:00:01.0000000+00:00\",\n",
    "    property_keys=[\n",
    "        \"Instrument/default/Name\",\n",
    "    ],\n",
    ")\n",
    "\n",
    "display_holdings_summary(holdings_response_1st_jan)"
   ]
  },
  {
   "cell_type": "markdown",
   "metadata": {},
   "source": [
    "## Footnote: Resetting the original transaction configuration\n",
    "\n",
    "Now that we have demonstrated how to set custom transaction configurations, we will reset the original configurations using the pickle file we saved earlier. If you have accidentally overwritten this file then replace “default_config.pkl” with your renamed backup file."
   ]
  },
  {
   "cell_type": "code",
   "execution_count": 24,
   "metadata": {},
   "outputs": [],
   "source": [
    "# Load config from the .pkl file we saved\n",
    "with open('default_config.pkl', 'rb') as inpt:\n",
    "    saved_config=pickle.load(inpt)\n",
    "\n",
    "# Get Transaction configs and side configs from original config\n",
    "transaction_config_requests = [\n",
    "    models.TransactionConfigurationDataRequest(\n",
    "        aliases=saved_config.transaction_configs[i].aliases,\n",
    "        movements=saved_config.transaction_configs[i].movements,\n",
    "        properties=saved_config.transaction_configs[i].properties\n",
    "    )\n",
    "    for i in range(len(saved_config.transaction_configs))\n",
    "]\n",
    "\n",
    "side_config_requests = [\n",
    "    models.SideConfigurationDataRequest(\n",
    "        side=saved_config.side_definitions[i].side,\n",
    "        security=saved_config.side_definitions[i].security,\n",
    "        currency=saved_config.side_definitions[i].currency,\n",
    "        rate=saved_config.side_definitions[i].rate,\n",
    "        units=saved_config.side_definitions[i].units,\n",
    "        amount=saved_config.side_definitions[i].amount\n",
    "    )\n",
    "    for i in range(len(saved_config.side_definitions))\n",
    "]\n",
    "\n",
    "response = system_configuration_api.set_configuration_transaction_types(\n",
    "    types = models.TransactionSetConfigurationDataRequest(\n",
    "        transaction_config_requests=transaction_config_requests,\n",
    "        side_config_requests=side_config_requests\n",
    "    ),\n",
    ")"
   ]
  }
 ],
 "metadata": {
  "kernelspec": {
   "display_name": "Python 3",
   "language": "python",
   "name": "python3"
  },
  "language_info": {
   "codemirror_mode": {
    "name": "ipython",
    "version": 3
   },
   "file_extension": ".py",
   "mimetype": "text/x-python",
   "name": "python",
   "nbconvert_exporter": "python",
   "pygments_lexer": "ipython3",
   "version": "3.7.3"
  },
  "pycharm": {
   "stem_cell": {
    "cell_type": "raw",
    "metadata": {
     "collapsed": false
    },
    "source": []
   }
  }
 },
 "nbformat": 4,
 "nbformat_minor": 4
}
