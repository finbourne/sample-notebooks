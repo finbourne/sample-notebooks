{
 "cells": [
  {
   "cell_type": "code",
   "source": [
    "from lusidtools.jupyter_tools import toggle_code\n",
    "\n",
    "\"\"\" Creating portfolios with different taxlot management methods\n",
    "\n",
    "This notebook demonstrates how to create portfolios with different taxlot management methods and effect of the taxlot accounting method on the holdings generated.\n",
    "\n",
    "Attributes\n",
    "----------\n",
    "transactions\n",
    "holdings\n",
    "taxlots\n",
    "accounting\n",
    "\"\"\"\n",
    "\n",
    "toggle_code(\"Toggle Docstring\")"
   ],
   "metadata": {
    "collapsed": false,
    "pycharm": {
     "name": "#%%\n"
    }
   },
   "execution_count": 35,
   "outputs": [
    {
     "data": {
      "text/plain": "<IPython.core.display.HTML object>",
      "text/html": "\n    <form action=\"javascript:code_toggle()\"><input type=\"submit\" id=\"toggleButton\" value=\"Toggle Docstring\"></form>\n    \n         <script>\n         function code_toggle() {\n             if ($('div.cell.code_cell.rendered.selected div.input').css('display')!='none'){\n                 $('div.cell.code_cell.rendered.selected div.input').hide();\n             } else {\n                 $('div.cell.code_cell.rendered.selected div.input').show();\n             }\n         }\n         </script>\n\n     "
     },
     "metadata": {},
     "output_type": "display_data"
    }
   ]
  },
  {
   "cell_type": "markdown",
   "source": [
    "# Taxlot management"
   ],
   "metadata": {
    "collapsed": false
   }
  },
  {
   "cell_type": "markdown",
   "source": [
    "\n",
    "Portfolios in LUSID can be created to use any of the following taxlot accounting methods:\n",
    "- First in first out (FIFO)\n",
    "- Last in first out (LIFO)\n",
    "- Average cost (default in LUSID)\n",
    "- Lowest cost first\n",
    "- Highest cost first\n",
    "\n",
    "These will determine how taxlots are updated transactions in the portfolio. This notebook will compare the holdings of portfolios for each of these accounting methods.\n",
    "\n",
    "Helpful KB articles:\n",
    "- [What are the supported tax-lot accounting methods in LUSID?](https://support.lusid.com/knowledgebase/article/KA-01886/en-us)\n",
    "- [How do I handle different tax lot accounting conventions?](https://support.lusid.com/knowledgebase/article/KA-01887/en-us)\n"
   ],
   "metadata": {
    "collapsed": false
   }
  },
  {
   "cell_type": "markdown",
   "source": [
    "## 1. Initial Setup\n",
    "This section will set up the parameters and methods used in section 2 to compare accounting methods."
   ],
   "metadata": {
    "collapsed": false,
    "pycharm": {
     "name": "#%% md\n"
    }
   }
  },
  {
   "cell_type": "code",
   "execution_count": 36,
   "outputs": [
    {
     "name": "stdout",
     "output_type": "stream",
     "text": [
      "LUSID Environment Initialised\n",
      "LUSID version :  0.6.10884.0\n"
     ]
    }
   ],
   "source": [
    "# Import LUSID\n",
    "import lusid\n",
    "import lusid.models as models\n",
    "import pandas as pd\n",
    "\n",
    "# Import Libraries\n",
    "import pytz\n",
    "from lusidjam import RefreshingToken\n",
    "import json\n",
    "import os\n",
    "from datetime import datetime\n",
    "\n",
    "# Authenticate our user and create our API client\n",
    "secrets_path = os.getenv(\"FBN_SECRETS_PATH\")\n",
    "\n",
    "pd.set_option('display.float_format', lambda x: f'{x:,.0f}')\n",
    "\n",
    "api_factory = lusid.utilities.ApiClientFactory(\n",
    "    token=RefreshingToken(),\n",
    "    api_secrets_filename = secrets_path,\n",
    "    app_name=\"LusidJupyterNotebook\")\n",
    "\n",
    "print('LUSID Environment Initialised')\n",
    "print('LUSID version : ', api_factory.build(lusid.api.ApplicationMetadataApi).get_lusid_versions().build_version)"
   ],
   "metadata": {
    "collapsed": false,
    "pycharm": {
     "name": "#%%\n"
    }
   }
  },
  {
   "cell_type": "markdown",
   "source": [],
   "metadata": {
    "collapsed": false
   }
  },
  {
   "cell_type": "code",
   "execution_count": 37,
   "outputs": [],
   "source": [
    "# Create necessary API factories\n",
    "transaction_portfolios_api = api_factory.build(lusid.api.TransactionPortfoliosApi)\n",
    "property_definitions_api = api_factory.build(lusid.api.PropertyDefinitionsApi)\n",
    "instruments_api = api_factory.build(lusid.api.InstrumentsApi)"
   ],
   "metadata": {
    "collapsed": false,
    "pycharm": {
     "name": "#%%\n"
    }
   }
  },
  {
   "cell_type": "markdown",
   "source": [
    "# 2. Loading our Data"
   ],
   "metadata": {
    "collapsed": false,
    "pycharm": {
     "name": "#%% md\n"
    }
   }
  },
  {
   "cell_type": "code",
   "execution_count": 38,
   "outputs": [],
   "source": [
    "# Specify scope and load data\n",
    "txns = pd.read_csv(\"data/taxlot_accounting_transactions.csv\")\n",
    "scope = \"taxlot_management_examplenb\""
   ],
   "metadata": {
    "collapsed": false,
    "pycharm": {
     "name": "#%%\n"
    }
   }
  },
  {
   "cell_type": "markdown",
   "source": [
    "## 2.1 Create portfolio"
   ],
   "metadata": {
    "collapsed": false,
    "pycharm": {
     "name": "#%% md\n"
    }
   }
  },
  {
   "cell_type": "code",
   "execution_count": 39,
   "outputs": [],
   "source": [
    "def create_upload_portfolio(name, accounting_method):\n",
    "    try:\n",
    "        created_date = \"2010-01-01T00:00:00.000000+00:00\"\n",
    "\n",
    "        # Create request body\n",
    "        portfolio_request = models.CreateTransactionPortfolioRequest(\n",
    "            display_name=f\"Taxlot Management Example - {accounting_method}\",\n",
    "            code=name,\n",
    "            accounting_method=accounting_method,\n",
    "            base_currency=\"USD\",\n",
    "            created=created_date,\n",
    "        )\n",
    "\n",
    "        # Upload new portfolio to LUSID\n",
    "        response = transaction_portfolios_api.create_portfolio(\n",
    "            scope=scope, create_transaction_portfolio_request=portfolio_request\n",
    "        )\n",
    "\n",
    "        created = response.version.effective_from\n",
    "        print(\n",
    "        f\"portfolio '{response.id.code}', in scope {scope} created effective from: \"\n",
    "        f\"{created.year}/\"\n",
    "        f\"{created.month}/\"\n",
    "        f\"{created.day}\")\n",
    "    except lusid.ApiException as e:\n",
    "        print(json.loads(e.body)[\"title\"])"
   ],
   "metadata": {
    "collapsed": false,
    "pycharm": {
     "name": "#%%\n"
    }
   }
  },
  {
   "cell_type": "code",
   "execution_count": 40,
   "outputs": [
    {
     "name": "stdout",
     "output_type": "stream",
     "text": [
      "Could not create a portfolio with id 'tax-lot-avgcost' because it already exists in scope 'taxlot_management_examplenb'.\n",
      "Could not create a portfolio with id 'tax-lot-fifo' because it already exists in scope 'taxlot_management_examplenb'.\n",
      "Could not create a portfolio with id 'tax-lot-lifo' because it already exists in scope 'taxlot_management_examplenb'.\n",
      "Could not create a portfolio with id 'tax-lot-highestcost' because it already exists in scope 'taxlot_management_examplenb'.\n",
      "Could not create a portfolio with id 'tax-lot-lowestcost' because it already exists in scope 'taxlot_management_examplenb'.\n"
     ]
    }
   ],
   "source": [
    "portfolio_name_avg = \"tax-lot-avgcost\"\n",
    "create_upload_portfolio(portfolio_name_avg, \"AverageCost\")\n",
    "\n",
    "portfolio_name_fifo = \"tax-lot-fifo\"\n",
    "create_upload_portfolio(portfolio_name_fifo, \"FirstInFirstOut\")\n",
    "\n",
    "portfolio_name_lifo = \"tax-lot-lifo\"\n",
    "create_upload_portfolio(portfolio_name_lifo, \"LastInFirstOut\")\n",
    "\n",
    "portfolio_name_high = \"tax-lot-highestcost\"\n",
    "create_upload_portfolio(portfolio_name_high, \"HighestCostFirst\")\n",
    "\n",
    "portfolio_name_low = \"tax-lot-lowestcost\"\n",
    "create_upload_portfolio(portfolio_name_low, \"LowestCostFirst\")"
   ],
   "metadata": {
    "collapsed": false,
    "pycharm": {
     "name": "#%%\n"
    }
   }
  },
  {
   "cell_type": "markdown",
   "source": [
    "## 2.2 Create Instruments"
   ],
   "metadata": {
    "collapsed": false,
    "pycharm": {
     "name": "#%% md\n"
    }
   }
  },
  {
   "cell_type": "code",
   "execution_count": 41,
   "outputs": [],
   "source": [
    "# Create instrument\n",
    "instr_name=  \"Apple Inc\"\n",
    "client_internal = \"inst_AAPL\"\n",
    "ticker= \"AAPL\"\n",
    "\n",
    "batch_upsert_request = {\n",
    "    \"Apple_Equity\": models.InstrumentDefinition(\n",
    "        name=\"Apple_Inc\",\n",
    "        identifiers={ \"ClientInternal\": models.InstrumentIdValue(value=client_internal),\n",
    "                      \"Ticker\": models.InstrumentIdValue(value=ticker)},\n",
    "    )\n",
    "}\n",
    "\n",
    "# Upsert new instruments to LUSID\n",
    "instrument_response = instruments_api.upsert_instruments(\n",
    "    request_body=batch_upsert_request\n",
    ")\n",
    "\n",
    "# Check response was successful\n",
    "if len(instrument_response.failed) > 0:\n",
    "    raise AssertionError(\"Instruments upsert failed. Inspect response for more detail\")"
   ],
   "metadata": {
    "collapsed": false,
    "pycharm": {
     "name": "#%%\n"
    }
   }
  },
  {
   "cell_type": "markdown",
   "source": [
    "## 2.3 Upload transactions"
   ],
   "metadata": {
    "collapsed": false,
    "pycharm": {
     "name": "#%% md\n"
    }
   }
  },
  {
   "cell_type": "code",
   "execution_count": 42,
   "outputs": [],
   "source": [
    "def upload_transactions_to_portfolio(portfolio_name):\n",
    "    # Upsert transactions\n",
    "    transactions_request = []\n",
    "    txn_response = []\n",
    "\n",
    "    for row, txn in txns.iterrows():\n",
    "\n",
    "        if txn[\"client_internal\"].startswith(\"cash\"):\n",
    "            instrument_identifier = {\"Instrument/default/Currency\": \"USD\"}\n",
    "\n",
    "        else:\n",
    "            instrument_identifier = {\n",
    "                    \"Instrument/default/ClientInternal\": txn[\"client_internal\"]\n",
    "                }\n",
    "        # build request body\n",
    "        transactions_request.append(\n",
    "            models.TransactionRequest(\n",
    "                transaction_id=txn[\"transaction_id\"],\n",
    "                type=txn[\"type\"],\n",
    "                instrument_identifiers=instrument_identifier,\n",
    "                transaction_date=txn[\"transaction_date\"],\n",
    "                settlement_date=txn[\"settlement_date\"],\n",
    "                units=txn[\"units\"],\n",
    "                transaction_price=models.TransactionPrice(price=txn[\"transaction_price\"], type=\"Price\"),\n",
    "                total_consideration=models.CurrencyAndAmount(\n",
    "                    amount=txn[\"total_consideration\"], currency=\"USD\"\n",
    "                ),\n",
    "            )\n",
    "        )\n",
    "\n",
    "        # Make Upsert Transactions call to LUSID\n",
    "        txn_response.append(\n",
    "            transaction_portfolios_api.upsert_transactions(\n",
    "                scope=scope, code=portfolio_name, transaction_request=transactions_request\n",
    "            )\n",
    "        )\n",
    "\n",
    "    print(f\"{len(txn_response)} transactions upserted\")"
   ],
   "metadata": {
    "collapsed": false,
    "pycharm": {
     "name": "#%%\n"
    }
   }
  },
  {
   "cell_type": "code",
   "execution_count": 43,
   "outputs": [
    {
     "name": "stdout",
     "output_type": "stream",
     "text": [
      "5 transactions upserted\n",
      "5 transactions upserted\n",
      "5 transactions upserted\n",
      "5 transactions upserted\n",
      "5 transactions upserted\n"
     ]
    }
   ],
   "source": [
    "upload_transactions_to_portfolio(portfolio_name_avg)\n",
    "upload_transactions_to_portfolio(portfolio_name_fifo)\n",
    "upload_transactions_to_portfolio(portfolio_name_lifo)\n",
    "upload_transactions_to_portfolio(portfolio_name_high)\n",
    "upload_transactions_to_portfolio(portfolio_name_low)"
   ],
   "metadata": {
    "collapsed": false,
    "pycharm": {
     "name": "#%%\n"
    }
   }
  },
  {
   "cell_type": "code",
   "execution_count": 44,
   "outputs": [
    {
     "data": {
      "text/plain": "  transaction_id                    type           units  transaction_price  \\\n0        txn_000  LUID_00000X3Z  FundsIn  33,000,000,000                  1   \n1        txn_001  LUID_00003D4V      Buy          1,000                  10   \n2        txn_002  LUID_00003D4V      Buy          1,000                  12   \n3        txn_003  LUID_00003D4V      Buy          1,000                  11   \n4        txn_004  LUID_00003D4V     Sell          1,500                  12   \n\n                    transaction_date                    settlement_date  \\\n0  2020-03-04T00:00:00.0000000+00:00  2020-03-05T00:00:00.0000000+00:00   \n1  2020-03-05T00:00:00.0000000+00:00  2020-03-08T00:00:00.0000000+00:00   \n2  2020-03-06T00:00:00.0000000+00:00  2020-03-09T00:00:00.0000000+00:00   \n3  2020-03-07T00:00:00.0000000+00:00  2020-03-10T00:00:00.0000000+00:00   \n4  2020-03-08T00:00:00.0000000+00:00  2020-03-11T00:00:00.0000000+00:00   \n\n  total_consideration client_internal  \n0      33,000,000,000        cash_USD  \n1     10,000,000,000        inst_AAPL  \n2     12,000,000,000        inst_AAPL  \n3     11,000,000,000        inst_AAPL  \n4      18,750,000,000       inst_AAPL  ",
      "text/html": "<div>\n<style scoped>\n    .dataframe tbody tr th:only-of-type {\n        vertical-align: middle;\n    }\n\n    .dataframe tbody tr th {\n        vertical-align: top;\n    }\n\n    .dataframe thead th {\n        text-align: right;\n    }\n</style>\n<table border=\"1\" class=\"dataframe\">\n  <thead>\n    <tr style=\"text-align: right;\">\n      <th></th>\n      <th>transaction_id</th>\n      <th></th>\n      <th>type</th>\n      <th>units</th>\n      <th>transaction_price</th>\n      <th>transaction_date</th>\n      <th>settlement_date</th>\n      <th>total_consideration</th>\n      <th>client_internal</th>\n    </tr>\n  </thead>\n  <tbody>\n    <tr>\n      <th>0</th>\n      <td>txn_000</td>\n      <td>LUID_00000X3Z</td>\n      <td>FundsIn</td>\n      <td>33,000,000,000</td>\n      <td>1</td>\n      <td>2020-03-04T00:00:00.0000000+00:00</td>\n      <td>2020-03-05T00:00:00.0000000+00:00</td>\n      <td>33,000,000,000</td>\n      <td>cash_USD</td>\n    </tr>\n    <tr>\n      <th>1</th>\n      <td>txn_001</td>\n      <td>LUID_00003D4V</td>\n      <td>Buy</td>\n      <td>1,000</td>\n      <td>10</td>\n      <td>2020-03-05T00:00:00.0000000+00:00</td>\n      <td>2020-03-08T00:00:00.0000000+00:00</td>\n      <td>10,000,000,000</td>\n      <td>inst_AAPL</td>\n    </tr>\n    <tr>\n      <th>2</th>\n      <td>txn_002</td>\n      <td>LUID_00003D4V</td>\n      <td>Buy</td>\n      <td>1,000</td>\n      <td>12</td>\n      <td>2020-03-06T00:00:00.0000000+00:00</td>\n      <td>2020-03-09T00:00:00.0000000+00:00</td>\n      <td>12,000,000,000</td>\n      <td>inst_AAPL</td>\n    </tr>\n    <tr>\n      <th>3</th>\n      <td>txn_003</td>\n      <td>LUID_00003D4V</td>\n      <td>Buy</td>\n      <td>1,000</td>\n      <td>11</td>\n      <td>2020-03-07T00:00:00.0000000+00:00</td>\n      <td>2020-03-10T00:00:00.0000000+00:00</td>\n      <td>11,000,000,000</td>\n      <td>inst_AAPL</td>\n    </tr>\n    <tr>\n      <th>4</th>\n      <td>txn_004</td>\n      <td>LUID_00003D4V</td>\n      <td>Sell</td>\n      <td>1,500</td>\n      <td>12</td>\n      <td>2020-03-08T00:00:00.0000000+00:00</td>\n      <td>2020-03-11T00:00:00.0000000+00:00</td>\n      <td>18,750,000,000</td>\n      <td>inst_AAPL</td>\n    </tr>\n  </tbody>\n</table>\n</div>"
     },
     "execution_count": 44,
     "metadata": {},
     "output_type": "execute_result"
    }
   ],
   "source": [
    "# Show transactions in chronological order\n",
    "txns.sort_values('transaction_date',ascending=True)"
   ],
   "metadata": {
    "collapsed": false,
    "pycharm": {
     "name": "#%%\n"
    }
   }
  },
  {
   "cell_type": "markdown",
   "source": [
    "# 3. Cost Basis Comparison\n",
    "## 3.1 Before sell\n",
    "Holdings before the sell transaction displayed by taxlot show the 3 distinct taxlot transactions. We can see, by running the cells below, that in this example each taxlot has a different cost basis for the same number of units, therefore a different price per unit in each taxlot."
   ],
   "metadata": {
    "collapsed": false,
    "pycharm": {
     "name": "#%% md\n"
    }
   }
  },
  {
   "cell_type": "code",
   "execution_count": 45,
   "outputs": [],
   "source": [
    "# Prints quick summary from a get_holdings() response of positions for a given effective_at date broken down by taxlots\n",
    "def display_holding_positions_by_taxlot(effective_at, portfolio_name):\n",
    "    # get holdings\n",
    "    response = transaction_portfolios_api.get_holdings(\n",
    "    scope=scope,\n",
    "    code=portfolio_name,\n",
    "    effective_at = effective_at.isoformat(),\n",
    "    property_keys=[\"Instrument/default/Name\"],\n",
    "     by_taxlots\t=True\n",
    "    )\n",
    "\n",
    "    # inspect holdings response for today\n",
    "    hld = [i for i in response.values]\n",
    "\n",
    "    names = []\n",
    "    cost = []\n",
    "    units = []\n",
    "\n",
    "    for item in hld:\n",
    "        if item.holding_type_name == \"Position\":\n",
    "            names.append(item.properties[\"Instrument/default/Name\"].value.label_value)\n",
    "            cost.append(item.cost.amount)\n",
    "            units.append(item.units)\n",
    "\n",
    "    data = {\"cost_basis\": cost, \"units\": units}\n",
    "\n",
    "    summary = pd.DataFrame(data=data, index=names)\n",
    "    return summary"
   ],
   "metadata": {
    "collapsed": false,
    "pycharm": {
     "name": "#%%\n"
    }
   }
  },
  {
   "cell_type": "code",
   "execution_count": 46,
   "outputs": [
    {
     "data": {
      "text/plain": "              cost_basis  units\nApple_Inc 10,000,000,000  1,000\nApple_Inc 12,000,000,000  1,000\nApple_Inc 11,000,000,000  1,000",
      "text/html": "<div>\n<style scoped>\n    .dataframe tbody tr th:only-of-type {\n        vertical-align: middle;\n    }\n\n    .dataframe tbody tr th {\n        vertical-align: top;\n    }\n\n    .dataframe thead th {\n        text-align: right;\n    }\n</style>\n<table border=\"1\" class=\"dataframe\">\n  <thead>\n    <tr style=\"text-align: right;\">\n      <th></th>\n      <th>cost_basis</th>\n      <th>units</th>\n    </tr>\n  </thead>\n  <tbody>\n    <tr>\n      <th>Apple_Inc</th>\n      <td>10,000,000,000</td>\n      <td>1,000</td>\n    </tr>\n    <tr>\n      <th>Apple_Inc</th>\n      <td>12,000,000,000</td>\n      <td>1,000</td>\n    </tr>\n    <tr>\n      <th>Apple_Inc</th>\n      <td>11,000,000,000</td>\n      <td>1,000</td>\n    </tr>\n  </tbody>\n</table>\n</div>"
     },
     "execution_count": 46,
     "metadata": {},
     "output_type": "execute_result"
    }
   ],
   "source": [
    "display_holding_positions_by_taxlot(datetime(year=2020, month=3, day=7, tzinfo=pytz.UTC), portfolio_name_fifo)"
   ],
   "metadata": {
    "collapsed": false,
    "pycharm": {
     "name": "#%%\n"
    }
   }
  },
  {
   "cell_type": "markdown",
   "source": [
    "The following sections will look at the final holdings positions for portfolios using 5 different accounting methods after 1,500 units have been sold in a single sell transaction.\n",
    "\n",
    "## 3.2 Average Cost\n",
    "Average cost uses the average price of the shares, which in this example is $ \\frac{33,000,000,000}{3,000} = 11,000.$\n",
    "As shown by running the cell below, the portfolios are part of the same taxlot when using the *Average Cost* accounting method. The total cost basis after the sale will be calculated as $11,000 \\times 1,500 = 16,500,000,000$.\n",
    "This is the default accounting method for a portfolio created in LUSID."
   ],
   "metadata": {
    "collapsed": false
   }
  },
  {
   "cell_type": "code",
   "execution_count": 53,
   "outputs": [
    {
     "data": {
      "text/plain": "              cost_basis  units\nApple_Inc 16,500,000,000  1,500",
      "text/html": "<div>\n<style scoped>\n    .dataframe tbody tr th:only-of-type {\n        vertical-align: middle;\n    }\n\n    .dataframe tbody tr th {\n        vertical-align: top;\n    }\n\n    .dataframe thead th {\n        text-align: right;\n    }\n</style>\n<table border=\"1\" class=\"dataframe\">\n  <thead>\n    <tr style=\"text-align: right;\">\n      <th></th>\n      <th>cost_basis</th>\n      <th>units</th>\n    </tr>\n  </thead>\n  <tbody>\n    <tr>\n      <th>Apple_Inc</th>\n      <td>16,500,000,000</td>\n      <td>1,500</td>\n    </tr>\n  </tbody>\n</table>\n</div>"
     },
     "execution_count": 53,
     "metadata": {},
     "output_type": "execute_result"
    }
   ],
   "source": [
    "display_holding_positions_by_taxlot(datetime(year=2020, month=3, day=14, tzinfo=pytz.UTC), portfolio_name_avg)"
   ],
   "metadata": {
    "collapsed": false,
    "pycharm": {
     "name": "#%%\n"
    }
   }
  },
  {
   "cell_type": "markdown",
   "source": [
    "## 3.3 First In First Out (FIFO)\n",
    "Using FIFO, the equities brought in the first buy transaction `txn_001` and 500 units of the equities brought in `txn_002` will be sold.\n",
    "The display from the cell below, shows the remaining holdings with 500 units of the equities bought in `txn_002` and all the equities brought in `txn_003` in separate tax lots."
   ],
   "metadata": {
    "collapsed": false
   }
  },
  {
   "cell_type": "code",
   "execution_count": 58,
   "outputs": [
    {
     "data": {
      "text/plain": "              cost_basis  units\nApple_Inc  6,000,000,000    500\nApple_Inc 11,000,000,000  1,000",
      "text/html": "<div>\n<style scoped>\n    .dataframe tbody tr th:only-of-type {\n        vertical-align: middle;\n    }\n\n    .dataframe tbody tr th {\n        vertical-align: top;\n    }\n\n    .dataframe thead th {\n        text-align: right;\n    }\n</style>\n<table border=\"1\" class=\"dataframe\">\n  <thead>\n    <tr style=\"text-align: right;\">\n      <th></th>\n      <th>cost_basis</th>\n      <th>units</th>\n    </tr>\n  </thead>\n  <tbody>\n    <tr>\n      <th>Apple_Inc</th>\n      <td>6,000,000,000</td>\n      <td>500</td>\n    </tr>\n    <tr>\n      <th>Apple_Inc</th>\n      <td>11,000,000,000</td>\n      <td>1,000</td>\n    </tr>\n  </tbody>\n</table>\n</div>"
     },
     "execution_count": 58,
     "metadata": {},
     "output_type": "execute_result"
    }
   ],
   "source": [
    "display_holding_positions_by_taxlot(datetime(year=2020, month=3, day=14, tzinfo=pytz.UTC), portfolio_name_fifo)"
   ],
   "metadata": {
    "collapsed": false,
    "pycharm": {
     "name": "#%%\n"
    }
   }
  },
  {
   "cell_type": "markdown",
   "source": [
    "## 3.4 Last In Last Out (LIFO)\n",
    "Using LIFO, the equities brought in the buy transaction `txn_003` and equities brought in `txn_002`. The display below shows the remaining cost basis which consists of 1,000 units of the equities brought in `txn_001` and 500 of the equities brought in `txn_002` in separate tax lots.\n",
    "The difference in the cost basis compared to the **FIFO** method is due to the difference in total consideration between `txn_001` and `txn_003`.\n"
   ],
   "metadata": {
    "collapsed": false
   }
  },
  {
   "cell_type": "code",
   "execution_count": 55,
   "outputs": [
    {
     "data": {
      "text/plain": "              cost_basis  units\nApple_Inc 10,000,000,000  1,000\nApple_Inc  6,000,000,000    500",
      "text/html": "<div>\n<style scoped>\n    .dataframe tbody tr th:only-of-type {\n        vertical-align: middle;\n    }\n\n    .dataframe tbody tr th {\n        vertical-align: top;\n    }\n\n    .dataframe thead th {\n        text-align: right;\n    }\n</style>\n<table border=\"1\" class=\"dataframe\">\n  <thead>\n    <tr style=\"text-align: right;\">\n      <th></th>\n      <th>cost_basis</th>\n      <th>units</th>\n    </tr>\n  </thead>\n  <tbody>\n    <tr>\n      <th>Apple_Inc</th>\n      <td>10,000,000,000</td>\n      <td>1,000</td>\n    </tr>\n    <tr>\n      <th>Apple_Inc</th>\n      <td>6,000,000,000</td>\n      <td>500</td>\n    </tr>\n  </tbody>\n</table>\n</div>"
     },
     "execution_count": 55,
     "metadata": {},
     "output_type": "execute_result"
    }
   ],
   "source": [
    "display_holding_positions_by_taxlot(datetime(year=2020, month=3, day=14, tzinfo=pytz.UTC), portfolio_name_lifo)"
   ],
   "metadata": {
    "collapsed": false,
    "pycharm": {
     "name": "#%%\n"
    }
   }
  },
  {
   "cell_type": "markdown",
   "source": [
    "## 3.5 Highest First\n",
    "Using Highest First, the equities with the highest transaction price will be sold first. So in the sell transaction of 1,500 units, 1,000 units of equities from `txn_002` and 500 units of `txn_003`. The equities from `txn_001` and 500 units from `txn_003` remain in the cost basis as shown in the display below."
   ],
   "metadata": {
    "collapsed": false,
    "pycharm": {
     "name": "#%% md\n"
    }
   }
  },
  {
   "cell_type": "code",
   "execution_count": 56,
   "outputs": [
    {
     "data": {
      "text/plain": "              cost_basis  units\nApple_Inc 10,000,000,000  1,000\nApple_Inc  5,500,000,000    500",
      "text/html": "<div>\n<style scoped>\n    .dataframe tbody tr th:only-of-type {\n        vertical-align: middle;\n    }\n\n    .dataframe tbody tr th {\n        vertical-align: top;\n    }\n\n    .dataframe thead th {\n        text-align: right;\n    }\n</style>\n<table border=\"1\" class=\"dataframe\">\n  <thead>\n    <tr style=\"text-align: right;\">\n      <th></th>\n      <th>cost_basis</th>\n      <th>units</th>\n    </tr>\n  </thead>\n  <tbody>\n    <tr>\n      <th>Apple_Inc</th>\n      <td>10,000,000,000</td>\n      <td>1,000</td>\n    </tr>\n    <tr>\n      <th>Apple_Inc</th>\n      <td>5,500,000,000</td>\n      <td>500</td>\n    </tr>\n  </tbody>\n</table>\n</div>"
     },
     "execution_count": 56,
     "metadata": {},
     "output_type": "execute_result"
    }
   ],
   "source": [
    "display_holding_positions_by_taxlot(datetime(year=2020, month=3, day=14, tzinfo=pytz.UTC), portfolio_name_high)"
   ],
   "metadata": {
    "collapsed": false,
    "pycharm": {
     "name": "#%%\n"
    }
   }
  },
  {
   "cell_type": "markdown",
   "source": [
    "## 3.6 Lowest First\n",
    "Using Lowest First, the equities with the lowest transaction price will be sold first. So in the sell transaction of 1,500 units,  1,000 of the equities in `txn_001` and 500 units of `txn_003`. The equities from `txn_002` and 500 units from `txn_003` remain in the cost basis as shown in the display below.\n",
    "The difference in total consideration between `txn_001` and `txn_002` is show in the difference in cost basis compared to **Highest First** method."
   ],
   "metadata": {
    "collapsed": false
   }
  },
  {
   "cell_type": "code",
   "execution_count": 57,
   "outputs": [
    {
     "data": {
      "text/plain": "              cost_basis  units\nApple_Inc 12,000,000,000  1,000\nApple_Inc  5,500,000,000    500",
      "text/html": "<div>\n<style scoped>\n    .dataframe tbody tr th:only-of-type {\n        vertical-align: middle;\n    }\n\n    .dataframe tbody tr th {\n        vertical-align: top;\n    }\n\n    .dataframe thead th {\n        text-align: right;\n    }\n</style>\n<table border=\"1\" class=\"dataframe\">\n  <thead>\n    <tr style=\"text-align: right;\">\n      <th></th>\n      <th>cost_basis</th>\n      <th>units</th>\n    </tr>\n  </thead>\n  <tbody>\n    <tr>\n      <th>Apple_Inc</th>\n      <td>12,000,000,000</td>\n      <td>1,000</td>\n    </tr>\n    <tr>\n      <th>Apple_Inc</th>\n      <td>5,500,000,000</td>\n      <td>500</td>\n    </tr>\n  </tbody>\n</table>\n</div>"
     },
     "execution_count": 57,
     "metadata": {},
     "output_type": "execute_result"
    }
   ],
   "source": [
    "display_holding_positions_by_taxlot(datetime(year=2020, month=3, day=14, tzinfo=pytz.UTC), portfolio_name_low)"
   ],
   "metadata": {
    "collapsed": false,
    "pycharm": {
     "name": "#%%\n"
    }
   }
  }
 ],
 "metadata": {
  "kernelspec": {
   "display_name": "Python 3",
   "language": "python",
   "name": "python3"
  },
  "language_info": {
   "codemirror_mode": {
    "name": "ipython",
    "version": 2
   },
   "file_extension": ".py",
   "mimetype": "text/x-python",
   "name": "python",
   "nbconvert_exporter": "python",
   "pygments_lexer": "ipython2",
   "version": "2.7.6"
  }
 },
 "nbformat": 4,
 "nbformat_minor": 0
}