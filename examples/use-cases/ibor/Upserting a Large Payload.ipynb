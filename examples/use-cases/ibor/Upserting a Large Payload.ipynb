{
 "cells": [
  {
   "cell_type": "markdown",
   "metadata": {},
   "source": [
    "# Upserting a Large Payload of Holdings\n",
    "\n",
    "In this notebook, we will demonstrate how you can divide a larger holdings payload into smaller chunks. This can be useful in case you hit the payload limit in a Set Holdings or Adjust Holdings call.\n",
    "\n",
    "## Table of Contents:\n",
    "- 1. [Creating Sample Holdings Data](#1.-Creating-Sample-Holdings-Data)\n",
    "- 2. [Dividing the Data](#2.-Dividing-the-Data)\n",
    "- 3. [Upserting the Parts](#3.-Upserting-the-Parts)"
   ]
  },
  {
   "cell_type": "code",
   "execution_count": 1,
   "metadata": {},
   "outputs": [
    {
     "name": "stdout",
     "output_type": "stream",
     "text": [
      "LUSID Environment Initialised\n",
      "LUSID API Version : 0.6.11244.0\n"
     ]
    }
   ],
   "source": [
    "# Import generic non-LUSID packages\n",
    "import os\n",
    "import pandas as pd\n",
    "import numpy as np\n",
    "from datetime import datetime, timedelta, time\n",
    "\n",
    "import random\n",
    "import json\n",
    "import pytz\n",
    "import time\n",
    "from IPython.core.display import HTML\n",
    "\n",
    "# Import key modules from the LUSID package\n",
    "import lusid as lu\n",
    "import lusid.models as lm\n",
    "import fbnsdkutilities.utilities as utils\n",
    "\n",
    "# Import key functions from Lusid-Python-Tools and other packages\n",
    "from lusidtools.cocoon.cocoon import load_from_data_frame\n",
    "from lusidtools.cocoon.cocoon_printer import (\n",
    "    format_instruments_response,\n",
    ")\n",
    "from lusidjam import RefreshingToken\n",
    "\n",
    "\n",
    "# Set DataFrame display formats\n",
    "pd.set_option(\"display.max_columns\", None)\n",
    "pd.set_option(\"display.max_rows\", None)\n",
    "pd.options.display.float_format = \"{:,.2f}\".format\n",
    "# display(HTML(\"<style>.container { width:90% !important; }</style>\"))\n",
    "\n",
    "# Set the secrets path\n",
    "secrets_path = os.getenv(\"FBN_SECRETS_PATH\")\n",
    "\n",
    "# For running the notebook locally\n",
    "if secrets_path is None:\n",
    "    secrets_path = os.path.join(os.path.dirname(os.getcwd()), \"secrets.json\")\n",
    "\n",
    "# Authenticate our user and create our API client\n",
    "api_factory = utils.ApiClientFactory(\n",
    "    lu, token=RefreshingToken(), api_secrets_filename=secrets_path\n",
    ")\n",
    "\n",
    "print(\"LUSID Environment Initialised\")\n",
    "print(\n",
    "    \"LUSID API Version :\",\n",
    "    api_factory.build(lu.api.ApplicationMetadataApi).get_lusid_versions().build_version,\n",
    ")\n"
   ]
  },
  {
   "cell_type": "code",
   "execution_count": 2,
   "metadata": {},
   "outputs": [],
   "source": [
    "portfolio_api = api_factory.build(lu.api.PortfoliosApi)\n",
    "transaction_portfolios_api = api_factory.build(lu.api.TransactionPortfoliosApi)\n",
    "instruments_api = api_factory.build(lu.api.InstrumentsApi)"
   ]
  },
  {
   "cell_type": "markdown",
   "metadata": {},
   "source": [
    "# 1. Creating Sample Holdings Data\n",
    "\n",
    "We will first set up some parameters, here we can alter the example of the notebook. n_instruments sets how many securities we wish to upsert holdings of. n_max_holdings will determine how large our parts can be when we later divide the total set of holdings."
   ]
  },
  {
   "cell_type": "code",
   "execution_count": 3,
   "metadata": {},
   "outputs": [],
   "source": [
    "scope = \"largePayload\"\n",
    "portfolio_code = \"largePayLoadPortfolio\"\n",
    "n_instruments = 5000\n",
    "n_max_holdings = 1000"
   ]
  },
  {
   "cell_type": "markdown",
   "metadata": {},
   "source": [
    "We also create an example portfolio to hold the data."
   ]
  },
  {
   "cell_type": "code",
   "execution_count": 4,
   "metadata": {},
   "outputs": [],
   "source": [
    "try:\n",
    "    transaction_portfolios_api.create_portfolio(\n",
    "        scope=scope,\n",
    "        create_transaction_portfolio_request=lm.CreateTransactionPortfolioRequest(\n",
    "            display_name=portfolio_code,\n",
    "            code=portfolio_code,\n",
    "            base_currency=\"USD\",\n",
    "            created=\"2010-01-01\",\n",
    "            sub_holding_keys=[],\n",
    "        ),\n",
    "    )\n",
    "\n",
    "except lu.ApiException as e:\n",
    "\n",
    "        if \"PortfolioWithIdAlreadyExists\" not in str(e.body):\n",
    "\n",
    "          print(e)"
   ]
  },
  {
   "cell_type": "markdown",
   "metadata": {},
   "source": [
    "We will now create a function that will generate a pandas dataframe with n number of instruments. This number is determined above and in our case is 5000. This also determines the number of holdings we will be upserting. Our quantity and costs will be randomly generated."
   ]
  },
  {
   "cell_type": "code",
   "execution_count": 5,
   "metadata": {},
   "outputs": [
    {
     "data": {
      "text/html": [
       "<div>\n",
       "<style scoped>\n",
       "    .dataframe tbody tr th:only-of-type {\n",
       "        vertical-align: middle;\n",
       "    }\n",
       "\n",
       "    .dataframe tbody tr th {\n",
       "        vertical-align: top;\n",
       "    }\n",
       "\n",
       "    .dataframe thead th {\n",
       "        text-align: right;\n",
       "    }\n",
       "</style>\n",
       "<table border=\"1\" class=\"dataframe\">\n",
       "  <thead>\n",
       "    <tr style=\"text-align: right;\">\n",
       "      <th></th>\n",
       "      <th>client_internal</th>\n",
       "      <th>quantity</th>\n",
       "      <th>cost</th>\n",
       "      <th>total_cost</th>\n",
       "      <th>currency</th>\n",
       "    </tr>\n",
       "  </thead>\n",
       "  <tbody>\n",
       "    <tr>\n",
       "      <th>4995</th>\n",
       "      <td>instrument4995</td>\n",
       "      <td>49.00</td>\n",
       "      <td>69.72</td>\n",
       "      <td>3,416.28</td>\n",
       "      <td>USD</td>\n",
       "    </tr>\n",
       "    <tr>\n",
       "      <th>4996</th>\n",
       "      <td>instrument4996</td>\n",
       "      <td>292.00</td>\n",
       "      <td>68.90</td>\n",
       "      <td>20,118.80</td>\n",
       "      <td>USD</td>\n",
       "    </tr>\n",
       "    <tr>\n",
       "      <th>4997</th>\n",
       "      <td>instrument4997</td>\n",
       "      <td>131.00</td>\n",
       "      <td>75.89</td>\n",
       "      <td>9,941.59</td>\n",
       "      <td>USD</td>\n",
       "    </tr>\n",
       "    <tr>\n",
       "      <th>4998</th>\n",
       "      <td>instrument4998</td>\n",
       "      <td>117.00</td>\n",
       "      <td>21.64</td>\n",
       "      <td>2,531.88</td>\n",
       "      <td>USD</td>\n",
       "    </tr>\n",
       "    <tr>\n",
       "      <th>4999</th>\n",
       "      <td>instrument4999</td>\n",
       "      <td>200.00</td>\n",
       "      <td>95.63</td>\n",
       "      <td>19,126.00</td>\n",
       "      <td>USD</td>\n",
       "    </tr>\n",
       "  </tbody>\n",
       "</table>\n",
       "</div>"
      ],
      "text/plain": [
       "     client_internal  quantity  cost  total_cost currency\n",
       "4995  instrument4995     49.00 69.72    3,416.28      USD\n",
       "4996  instrument4996    292.00 68.90   20,118.80      USD\n",
       "4997  instrument4997    131.00 75.89    9,941.59      USD\n",
       "4998  instrument4998    117.00 21.64    2,531.88      USD\n",
       "4999  instrument4999    200.00 95.63   19,126.00      USD"
      ]
     },
     "execution_count": 5,
     "metadata": {},
     "output_type": "execute_result"
    }
   ],
   "source": [
    "# Create a function to generate a row\n",
    "def add_row(instrument, quantity, cost, currency):\n",
    "    new_row = {'client_internal': instrument,\n",
    "           'quantity': quantity,\n",
    "           'cost': cost,\n",
    "           'total_cost': quantity*cost,\n",
    "           'currency': currency}\n",
    "    return new_row\n",
    "\n",
    "# Create a dictionary with the data for the dataframe\n",
    "data = {'client_internal': [],\n",
    "        'quantity': [],\n",
    "        'cost': [],\n",
    "        'total_cost': [],\n",
    "        'currency': []}\n",
    "\n",
    "# Create the dataframe\n",
    "holdings = pd.DataFrame(data)\n",
    "\n",
    "# Create the example data\n",
    "to_append = []\n",
    "for i in range(0, n_instruments):  \n",
    "    to_append.append(add_row(f\"instrument{i}\", random.randint(10, 400), round(random.uniform(5, 100), 2), \"USD\"))\n",
    "\n",
    "holdings = pd.concat([holdings, pd.DataFrame(to_append)], ignore_index=True)\n",
    "\n",
    "holdings.tail()"
   ]
  },
  {
   "cell_type": "markdown",
   "metadata": {},
   "source": [
    "In order for the instruments to be recognised, they must be upserted to the instrument master first."
   ]
  },
  {
   "cell_type": "code",
   "execution_count": 6,
   "metadata": {},
   "outputs": [
    {
     "data": {
      "text/html": [
       "<div>\n",
       "<style scoped>\n",
       "    .dataframe tbody tr th:only-of-type {\n",
       "        vertical-align: middle;\n",
       "    }\n",
       "\n",
       "    .dataframe tbody tr th {\n",
       "        vertical-align: top;\n",
       "    }\n",
       "\n",
       "    .dataframe thead th {\n",
       "        text-align: right;\n",
       "    }\n",
       "</style>\n",
       "<table border=\"1\" class=\"dataframe\">\n",
       "  <thead>\n",
       "    <tr style=\"text-align: right;\">\n",
       "      <th></th>\n",
       "      <th>success</th>\n",
       "      <th>failed</th>\n",
       "      <th>errors</th>\n",
       "    </tr>\n",
       "  </thead>\n",
       "  <tbody>\n",
       "    <tr>\n",
       "      <th>0</th>\n",
       "      <td>5000</td>\n",
       "      <td>0</td>\n",
       "      <td>0</td>\n",
       "    </tr>\n",
       "  </tbody>\n",
       "</table>\n",
       "</div>"
      ],
      "text/plain": [
       "   success  failed  errors\n",
       "0     5000       0       0"
      ]
     },
     "execution_count": 6,
     "metadata": {},
     "output_type": "execute_result"
    }
   ],
   "source": [
    "instrument_mapping_required = {\n",
    "    \"name\": \"client_internal\",\n",
    "    \"currency\": \"currency\"\n",
    "}\n",
    "\n",
    "response = load_from_data_frame(\n",
    "    scope = scope,\n",
    "    api_factory=api_factory, \n",
    "    data_frame=holdings, \n",
    "    identifier_mapping={\"ClientInternal\": \"client_internal\"}, \n",
    "    mapping_required=instrument_mapping_required,\n",
    "    mapping_optional={},\n",
    "    file_type='instruments',\n",
    ")\n",
    "\n",
    "succ, failed, errors = format_instruments_response(response)\n",
    "pd.DataFrame(\n",
    "    data=[{\"success\": len(succ), \"failed\": len(failed), \"errors\": len(errors)}]\n",
    ")"
   ]
  },
  {
   "cell_type": "markdown",
   "metadata": {},
   "source": [
    "Finally, we generate our list of holdings that will be upserted. In this case, it will generate 5000 holdings."
   ]
  },
  {
   "cell_type": "code",
   "execution_count": 7,
   "metadata": {},
   "outputs": [],
   "source": [
    "holding_adjustments = []\n",
    "\n",
    "# Iterate over your holdings\n",
    "for index, holding in holdings.iterrows():\n",
    "\n",
    "    # Create a holding adjustment for this holding\n",
    "    holding_adjustments.append(\n",
    "        lm.AdjustHoldingRequest(\n",
    "            instrument_identifiers={\"Instrument/default/ClientInternal\": holding[\"client_internal\"]},\n",
    "            tax_lots=[\n",
    "                lm.TargetTaxLotRequest(\n",
    "                    units=holding[\"quantity\"],\n",
    "                    cost=lm.CurrencyAndAmount(\n",
    "                        amount=holding[\"total_cost\"], currency=holding[\"currency\"]\n",
    "                    ),\n",
    "                    portfolio_cost=holding[\"total_cost\"],\n",
    "                    price=holding[\"cost\"]\n",
    "                )\n",
    "            ],\n",
    "        )\n",
    "    )"
   ]
  },
  {
   "cell_type": "markdown",
   "metadata": {},
   "source": [
    "# 2. Dividing the Data\n",
    "\n",
    "Now that we have our example data, we will write a function that takes in an array and divides it into smaller parts given the max amount of holdings one part may have. We set the max amount of holdings to the n_max_holdings number we determined earlier. In our case this will be 1000 and therefore will split the array of 5000 holdings into 5 arrays with 1000 holdings."
   ]
  },
  {
   "cell_type": "code",
   "execution_count": 8,
   "metadata": {},
   "outputs": [],
   "source": [
    "def split_array(input_array, n):\n",
    "    \n",
    "    length = len(input_array)\n",
    "    \n",
    "    # get the number of sub arrays\n",
    "    num_subarrays = length // n\n",
    "    \n",
    "    subarrays = []\n",
    "    for i in range(num_subarrays):\n",
    "        # get the start and end indices for the subarray\n",
    "        start = i * n\n",
    "        end = (i + 1) * n\n",
    "        # get the subarray and append it to the list of subarrays\n",
    "        subarrays.append(input_array[start:end])\n",
    "    \n",
    "    # create an additional subarray with the remaining elements\n",
    "    if length % n != 0:\n",
    "        subarrays.append(input_array[num_subarrays * n:])\n",
    "    \n",
    "    return subarrays"
   ]
  },
  {
   "cell_type": "code",
   "execution_count": 9,
   "metadata": {},
   "outputs": [],
   "source": [
    "sub_arrays = split_array(holding_adjustments, n_max_holdings)"
   ]
  },
  {
   "cell_type": "markdown",
   "metadata": {},
   "source": [
    "# 3. Upserting the Parts\n",
    "\n",
    "Now that we have an array that contains 5 smaller sub arrays with 1000 values each, we can loop through this array and upsert each of the 5 smaller subarrays. This will result in 5 batches being upserted one at a time with a lower payload."
   ]
  },
  {
   "cell_type": "code",
   "execution_count": 10,
   "metadata": {},
   "outputs": [
    {
     "name": "stdout",
     "output_type": "stream",
     "text": [
      "Batch 1 upserted.\n",
      "Batch 2 upserted.\n",
      "Batch 3 upserted.\n",
      "Batch 4 upserted.\n",
      "Batch 5 upserted.\n"
     ]
    }
   ],
   "source": [
    "effective_date = datetime.now(pytz.UTC)\n",
    "\n",
    "counter = 1\n",
    "for array in sub_arrays:\n",
    "    response = transaction_portfolios_api.adjust_holdings(\n",
    "        scope=scope,\n",
    "        code=\"largePayLoadPortfolio\",\n",
    "        effective_at=effective_date,\n",
    "        adjust_holding_request=array)\n",
    "    print(f\"Batch {counter} upserted.\")\n",
    "    counter +=1\n"
   ]
  },
  {
   "cell_type": "markdown",
   "metadata": {},
   "source": [
    "Now that we have upserted the 5 batches, we want to verify the total number of holdings uploaded. Let's call the holdings of the portfolio and return the length of the list. This should equal to 5000 as we just uploaded 5 batches of 1000 holdings. "
   ]
  },
  {
   "cell_type": "code",
   "execution_count": 11,
   "metadata": {},
   "outputs": [
    {
     "data": {
      "text/plain": [
       "5000"
      ]
     },
     "execution_count": 11,
     "metadata": {},
     "output_type": "execute_result"
    }
   ],
   "source": [
    "holdings = transaction_portfolios_api.get_holdings(scope=scope, code=portfolio_code)\n",
    "len(holdings.values)"
   ]
  }
 ],
 "metadata": {
  "kernelspec": {
   "display_name": "Python 3 (ipykernel)",
   "language": "python",
   "name": "python3"
  },
  "language_info": {
   "codemirror_mode": {
    "name": "ipython",
    "version": 3
   },
   "file_extension": ".py",
   "mimetype": "text/x-python",
   "name": "python",
   "nbconvert_exporter": "python",
   "pygments_lexer": "ipython3",
   "version": "3.10.10"
  },
  "vscode": {
   "interpreter": {
    "hash": "9650cb4e16cdd4a8e8e2d128bf38d875813998db22a3c986335f89e0cb4d7bb2"
   }
  }
 },
 "nbformat": 4,
 "nbformat_minor": 2
}
