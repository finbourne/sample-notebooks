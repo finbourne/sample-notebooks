{
 "cells": [
  {
   "cell_type": "code",
   "execution_count": 2,
   "metadata": {},
   "outputs": [
    {
     "data": {
      "text/html": [
       "\n",
       "    <form action=\"javascript:code_toggle()\"><input type=\"submit\" id=\"toggleButton\" value=\"Toggle Docstring\"></form>\n",
       "    \n",
       "         <script>\n",
       "         function code_toggle() {\n",
       "             if ($('div.cell.code_cell.rendered.selected div.input').css('display')!='none'){\n",
       "                 $('div.cell.code_cell.rendered.selected div.input').hide();\n",
       "             } else {\n",
       "                 $('div.cell.code_cell.rendered.selected div.input').show();\n",
       "             }\n",
       "         }\n",
       "         </script>\n",
       "\n",
       "     "
      ],
      "text/plain": [
       "<IPython.core.display.HTML object>"
      ]
     },
     "metadata": {},
     "output_type": "display_data"
    }
   ],
   "source": [
    "from lusidtools.jupyter_tools import toggle_code\n",
    "\n",
    "\"\"\"Bonds - Computing P&L and Accrued Interest for Bonds\n",
    "\n",
    "Attributes\n",
    "----------\n",
    "bond\n",
    "bonds\n",
    "recipes\n",
    "valuations\n",
    "accrued interest\n",
    "P&L\n",
    "\"\"\"\n",
    "\n",
    "toggle_code(\"Toggle Docstring\")"
   ]
  },
  {
   "cell_type": "markdown",
   "metadata": {},
   "source": [
    "# Computing P&L and Accrued Interest for Inflation Linked Bonds\n",
    "\n",
    "In this notebook, we demonstrate how P&L and accrued interests can be computed for Inflation Linked Bond instruments as well as how to book in bond coupons to our cash position. \n",
    "\n",
    "## Table of Contents:\n",
    "- 1. [Create a portfolio](#1.-Create-Portfolio)\n",
    "- 2. [Create an Inflation Linked Bond](#2.-Create-Inflation-Linked-Bond)\n",
    "- 3. [Transactions](#3.-Transactions)\n",
    "- 4. [Quotes](#4.-Quotes)\n",
    "- 5. [Valuation & PnL](#5.-Valuations-&-PnL)"
   ]
  },
  {
   "cell_type": "code",
   "execution_count": 3,
   "metadata": {},
   "outputs": [
    {
     "name": "stdout",
     "output_type": "stream",
     "text": [
      "LUSID Environment Initialised\n",
      "LUSID API Version : 0.6.10416.0\n"
     ]
    }
   ],
   "source": [
    "# Import generic non-LUSID packages\n",
    "import os\n",
    "import pandas as pd\n",
    "import numpy as np\n",
    "from datetime import datetime\n",
    "import json\n",
    "import pytz\n",
    "import time\n",
    "from IPython.core.display import HTML\n",
    "from utilities.formatting_tools import cashladder_to_df\n",
    "\n",
    "# Import key modules from the LUSID package\n",
    "import lusid as lu\n",
    "import lusid.models as lm\n",
    "\n",
    "# Import key functions from Lusid-Python-Tools and other packages\n",
    "from lusidtools.pandas_utils.lusid_pandas import lusid_response_to_data_frame\n",
    "from lusidtools.cocoon.transaction_type_upload import upsert_transaction_type_alias\n",
    "from lusidtools.lpt.lpt import to_date\n",
    "from lusidjam import RefreshingToken\n",
    "\n",
    "\n",
    "# Set DataFrame display formats\n",
    "pd.set_option(\"display.max_columns\", None)\n",
    "pd.set_option(\"display.max_rows\", None)\n",
    "pd.options.display.float_format = \"{:,.2f}\".format\n",
    "# display(HTML(\"<style>.container { width:90% !important; }</style>\"))\n",
    "\n",
    "# Set the secrets path\n",
    "secrets_path = os.getenv(\"FBN_SECRETS_PATH\")\n",
    "\n",
    "# For running the notebook locally\n",
    "if secrets_path is None:\n",
    "    secrets_path = os.path.join(os.path.dirname(os.getcwd()), \"secrets.json\")\n",
    "\n",
    "# Authenticate our user and create our API client\n",
    "api_factory = lu.utilities.ApiClientFactory(\n",
    "    token=RefreshingToken(), api_secrets_filename=secrets_path\n",
    ")\n",
    "\n",
    "print(\"LUSID Environment Initialised\")\n",
    "print(\n",
    "    \"LUSID API Version :\",\n",
    "    api_factory.build(lu.api.ApplicationMetadataApi).get_lusid_versions().build_version,\n",
    ")"
   ]
  },
  {
   "cell_type": "code",
   "execution_count": 4,
   "metadata": {},
   "outputs": [],
   "source": [
    "# LUSID Variable Definitions\n",
    "portfolio_api = api_factory.build(lu.api.PortfoliosApi)\n",
    "transaction_portfolios_api = api_factory.build(lu.api.TransactionPortfoliosApi)\n",
    "instruments_api = api_factory.build(lu.api.InstrumentsApi)\n",
    "quotes_api = api_factory.build(lu.api.QuotesApi)\n",
    "configuration_recipe_api = api_factory.build(lu.api.ConfigurationRecipeApi)\n",
    "system_configuration_api = api_factory.build(lu.api.SystemConfigurationApi)\n",
    "aggregration_api = api_factory.build(lu.api.AggregationApi)"
   ]
  },
  {
   "cell_type": "code",
   "execution_count": 8,
   "metadata": {},
   "outputs": [],
   "source": [
    "# Define scopes\n",
    "scope = \"ibor\"\n",
    "quotes_scope = \"ibor\"\n",
    "portfolio_code = \"inflationBondPortfolio\""
   ]
  },
  {
   "cell_type": "markdown",
   "metadata": {},
   "source": [
    "# 1. Create Portfolio\n",
    "\n",
    "We must first create a portfolio to keep our inflation linked bond in, this will allow us to perform a valuation and inspect the cash flows at a later stage."
   ]
  },
  {
   "cell_type": "code",
   "execution_count": 83,
   "metadata": {},
   "outputs": [
    {
     "name": "stdout",
     "output_type": "stream",
     "text": [
      "Could not create a portfolio with id 'inflationBondPortfolio' because it already exists in scope 'ibor'.\n"
     ]
    }
   ],
   "source": [
    "try:\n",
    "    transaction_portfolios_api.create_portfolio(\n",
    "        scope=scope,\n",
    "        create_transaction_portfolio_request=lm.CreateTransactionPortfolioRequest(\n",
    "            display_name=portfolio_code,\n",
    "            code=portfolio_code,\n",
    "            base_currency=\"GBP\",\n",
    "            created=\"2010-01-01\",\n",
    "            sub_holding_keys=[],\n",
    "        ),\n",
    "    )\n",
    "\n",
    "except lu.ApiException as e:\n",
    "    print(json.loads(e.body)[\"title\"])"
   ]
  },
  {
   "cell_type": "markdown",
   "metadata": {},
   "source": [
    "# 2. Create Inflation Linked Bond\n",
    "\n",
    "We create a function that takes in our variables and upserts an inflation linked bond to LUSID."
   ]
  },
  {
   "cell_type": "code",
   "execution_count": 84,
   "metadata": {},
   "outputs": [],
   "source": [
    "def create_il_bond(\n",
    "    currency,\n",
    "    payment_frequency,\n",
    "    roll_convention,\n",
    "    day_count_convention,\n",
    "    payment_calendars,\n",
    "    reset_calendars,\n",
    "    settle_days,\n",
    "    reset_days,\n",
    "    start_date,\n",
    "    maturity_date,\n",
    "    dom_ccy,\n",
    "    principal,\n",
    "    coupon_rate,\n",
    "    inflation_index,\n",
    "    observation_lag,\n",
    "    bond_identifier,\n",
    "    bond_name,\n",
    "):\n",
    "\n",
    "    flow_conventions = lm.FlowConventions(\n",
    "        currency=currency,\n",
    "        payment_frequency=payment_frequency,\n",
    "        roll_convention=roll_convention,\n",
    "        day_count_convention=day_count_convention,\n",
    "        payment_calendars=payment_calendars,\n",
    "        reset_calendars=reset_calendars,\n",
    "        settle_days=settle_days,\n",
    "        reset_days=reset_days,\n",
    "    )\n",
    "\n",
    "    inflation_linked_bond = lm.InflationLinkedBond(\n",
    "        start_date=start_date, #\n",
    "        maturity_date=maturity_date, #\n",
    "        dom_ccy=dom_ccy, #\n",
    "        principal=principal, #\n",
    "        coupon_rate=coupon_rate, #\n",
    "        flow_conventions=flow_conventions, #\n",
    "        identifiers={}, #\n",
    "        instrument_type=\"InflationLinkedBond\",\n",
    "        calculation_type=\"Standard\",\n",
    "        inflation_index_name = inflation_index,\n",
    "        observation_lag = observation_lag,\n",
    "        index_precision = 9\n",
    "    )\n",
    "\n",
    "    # define the instrument to be upserted\n",
    "    il_bond_definition = lm.InstrumentDefinition(\n",
    "        name=bond_name,\n",
    "        identifiers={\"ClientInternal\": lm.InstrumentIdValue(bond_identifier)},\n",
    "        definition=inflation_linked_bond,\n",
    "    )\n",
    "\n",
    "    # upsert the instrument\n",
    "    upsert_request = {bond_identifier: il_bond_definition}\n",
    "    upsert_response = instruments_api.upsert_instruments(request_body=upsert_request)\n",
    "    bond_luid = upsert_response.values[bond_identifier].lusid_instrument_id\n",
    "    print(bond_luid)"
   ]
  },
  {
   "cell_type": "markdown",
   "metadata": {},
   "source": [
    "# 2.1 Upsert a bond\n",
    "\n",
    "We can now set the variables of the bond and upsert it into LUSID using the function we built in the cell above."
   ]
  },
  {
   "cell_type": "code",
   "execution_count": 85,
   "metadata": {},
   "outputs": [
    {
     "name": "stdout",
     "output_type": "stream",
     "text": [
      "LUID_00003DDB\n"
     ]
    }
   ],
   "source": [
    "currency = \"GBP\"\n",
    "payment_frequency = \"6M\"\n",
    "roll_convention = \"none\"\n",
    "day_count_convention = \"ActualActual\"\n",
    "payment_calendars = []\n",
    "reset_calendars = []\n",
    "settle_days = 0\n",
    "reset_days = 0\n",
    "start_date = datetime(2009, 7, 24, 00, tzinfo=pytz.utc)\n",
    "maturity_date = datetime(2042, 11, 22, 00, tzinfo=pytz.utc)\n",
    "dom_ccy = \"GBP\"\n",
    "principal = 1\n",
    "coupon_rate = 0.00625\n",
    "inflation_index = \"UKRPI\"\n",
    "observation_lag = \"3M\"\n",
    "bond_identifier = \"GB00B3MYD345 UKTI 0 5/8 11/22/42\"\n",
    "bond_name = \"UKTI 0 5/8 11/22/42\"\n",
    "\n",
    "\n",
    "create_il_bond(\n",
    "    currency,\n",
    "    payment_frequency,\n",
    "    roll_convention,\n",
    "    day_count_convention,\n",
    "    payment_calendars,\n",
    "    reset_calendars,\n",
    "    settle_days,\n",
    "    reset_days,\n",
    "    start_date,\n",
    "    maturity_date,\n",
    "    dom_ccy,\n",
    "    principal,\n",
    "    coupon_rate,\n",
    "    inflation_index,\n",
    "    observation_lag,\n",
    "    bond_identifier,\n",
    "    bond_name,\n",
    ")"
   ]
  },
  {
   "cell_type": "markdown",
   "metadata": {},
   "source": [
    "# 3. Transactions"
   ]
  },
  {
   "cell_type": "markdown",
   "metadata": {},
   "source": [
    "## 3.1 Create Transaction Request\n",
    "\n",
    "Once the inflation linked bond has been created, we can generate a transaction that adds it to our portfolio."
   ]
  },
  {
   "cell_type": "code",
   "execution_count": 86,
   "metadata": {},
   "outputs": [
    {
     "data": {
      "text/html": [
       "<div>\n",
       "<style scoped>\n",
       "    .dataframe tbody tr th:only-of-type {\n",
       "        vertical-align: middle;\n",
       "    }\n",
       "\n",
       "    .dataframe tbody tr th {\n",
       "        vertical-align: top;\n",
       "    }\n",
       "\n",
       "    .dataframe thead th {\n",
       "        text-align: right;\n",
       "    }\n",
       "</style>\n",
       "<table border=\"1\" class=\"dataframe\">\n",
       "  <thead>\n",
       "    <tr style=\"text-align: right;\">\n",
       "      <th></th>\n",
       "      <th>txn_id</th>\n",
       "      <th>type</th>\n",
       "      <th>client_id</th>\n",
       "      <th>trade_date</th>\n",
       "      <th>settlement_date</th>\n",
       "      <th>quantity</th>\n",
       "      <th>price</th>\n",
       "      <th>total_consideration</th>\n",
       "      <th>currency</th>\n",
       "      <th>portfolio</th>\n",
       "    </tr>\n",
       "  </thead>\n",
       "  <tbody>\n",
       "    <tr>\n",
       "      <th>0</th>\n",
       "      <td>txn001</td>\n",
       "      <td>StockIn</td>\n",
       "      <td>GB00B3MYD345 UKTI 0 5/8 11/22/42</td>\n",
       "      <td>2019-04-19T10:00:00Z</td>\n",
       "      <td>2019-04-20T10:00:00Z</td>\n",
       "      <td>1000000</td>\n",
       "      <td>152.30</td>\n",
       "      <td>1523000</td>\n",
       "      <td>GBP</td>\n",
       "      <td>inflationBondPortfolio</td>\n",
       "    </tr>\n",
       "  </tbody>\n",
       "</table>\n",
       "</div>"
      ],
      "text/plain": [
       "   txn_id     type                         client_id            trade_date  \\\n",
       "0  txn001  StockIn  GB00B3MYD345 UKTI 0 5/8 11/22/42  2019-04-19T10:00:00Z   \n",
       "\n",
       "        settlement_date  quantity  price  total_consideration currency  \\\n",
       "0  2019-04-20T10:00:00Z   1000000 152.30              1523000      GBP   \n",
       "\n",
       "                portfolio  \n",
       "0  inflationBondPortfolio  "
      ]
     },
     "execution_count": 86,
     "metadata": {},
     "output_type": "execute_result"
    }
   ],
   "source": [
    "transactions = pd.read_csv(\"data/il_bond_transaction_data.csv\")\n",
    "transactions"
   ]
  },
  {
   "cell_type": "code",
   "execution_count": 87,
   "metadata": {},
   "outputs": [
    {
     "name": "stdout",
     "output_type": "stream",
     "text": [
      "Transactions succesfully updated at time: 2022-12-05 17:17:24.836502+00:00\n"
     ]
    }
   ],
   "source": [
    "for portfolio_code, grouped_df in transactions.groupby(\"portfolio\"):\n",
    "\n",
    "    transaction_request = [\n",
    "        lm.TransactionRequest(\n",
    "            transaction_id=row[\"txn_id\"],\n",
    "            type=row[\"type\"],\n",
    "            instrument_identifiers={\n",
    "                \"Instrument/default/ClientInternal\": row[\"client_id\"]\n",
    "            },\n",
    "            transaction_date=row[\"trade_date\"],\n",
    "            settlement_date=row[\"settlement_date\"],\n",
    "            units=row[\"quantity\"],\n",
    "            transaction_price=lm.TransactionPrice(price=row[\"price\"], type=\"Price\"),\n",
    "            total_consideration=lm.CurrencyAndAmount(\n",
    "                amount=row[\"total_consideration\"], currency=row[\"currency\"]\n",
    "            ),\n",
    "        )\n",
    "        for index, row in grouped_df.iterrows()\n",
    "    ]\n",
    "\n",
    "    response = transaction_portfolios_api.upsert_transactions(\n",
    "        scope=scope, code=portfolio_code, transaction_request=transaction_request\n",
    "    )\n",
    "\n",
    "    print(f\"Transactions succesfully updated at time: {response.version.as_at_date}\")"
   ]
  },
  {
   "cell_type": "markdown",
   "metadata": {},
   "source": [
    "# 4. Quotes"
   ]
  },
  {
   "cell_type": "markdown",
   "metadata": {},
   "source": [
    "The bond is in our portfolio, but currently lacks pricing. We will thus upsert quotes for the bond that we retrieved from our market data system. We upload prices from when the bond was purchased until today (at the time of writing, 05 December 2022). Below we can see the last 5 of the ~ 1000 quotes that were uploaded."
   ]
  },
  {
   "cell_type": "code",
   "execution_count": 224,
   "metadata": {},
   "outputs": [
    {
     "data": {
      "text/html": [
       "<div>\n",
       "<style scoped>\n",
       "    .dataframe tbody tr th:only-of-type {\n",
       "        vertical-align: middle;\n",
       "    }\n",
       "\n",
       "    .dataframe tbody tr th {\n",
       "        vertical-align: top;\n",
       "    }\n",
       "\n",
       "    .dataframe thead th {\n",
       "        text-align: right;\n",
       "    }\n",
       "</style>\n",
       "<table border=\"1\" class=\"dataframe\">\n",
       "  <thead>\n",
       "    <tr style=\"text-align: right;\">\n",
       "      <th></th>\n",
       "      <th>client_internal</th>\n",
       "      <th>date</th>\n",
       "      <th>price</th>\n",
       "      <th>currency</th>\n",
       "    </tr>\n",
       "  </thead>\n",
       "  <tbody>\n",
       "    <tr>\n",
       "      <th>941</th>\n",
       "      <td>GB00B3MYD345 UKTI 0 5/8 11/22/42</td>\n",
       "      <td>29/11/2022</td>\n",
       "      <td>112.62</td>\n",
       "      <td>GBP</td>\n",
       "    </tr>\n",
       "    <tr>\n",
       "      <th>942</th>\n",
       "      <td>GB00B3MYD345 UKTI 0 5/8 11/22/42</td>\n",
       "      <td>30/11/2022</td>\n",
       "      <td>112.04</td>\n",
       "      <td>GBP</td>\n",
       "    </tr>\n",
       "    <tr>\n",
       "      <th>943</th>\n",
       "      <td>GB00B3MYD345 UKTI 0 5/8 11/22/42</td>\n",
       "      <td>01/12/2022</td>\n",
       "      <td>113.05</td>\n",
       "      <td>GBP</td>\n",
       "    </tr>\n",
       "    <tr>\n",
       "      <th>944</th>\n",
       "      <td>GB00B3MYD345 UKTI 0 5/8 11/22/42</td>\n",
       "      <td>02/12/2022</td>\n",
       "      <td>110.99</td>\n",
       "      <td>GBP</td>\n",
       "    </tr>\n",
       "    <tr>\n",
       "      <th>945</th>\n",
       "      <td>GB00B3MYD345 UKTI 0 5/8 11/22/42</td>\n",
       "      <td>05/12/2022</td>\n",
       "      <td>111.22</td>\n",
       "      <td>GBP</td>\n",
       "    </tr>\n",
       "  </tbody>\n",
       "</table>\n",
       "</div>"
      ],
      "text/plain": [
       "                      client_internal        date  price currency\n",
       "941  GB00B3MYD345 UKTI 0 5/8 11/22/42  29/11/2022 112.62      GBP\n",
       "942  GB00B3MYD345 UKTI 0 5/8 11/22/42  30/11/2022 112.04      GBP\n",
       "943  GB00B3MYD345 UKTI 0 5/8 11/22/42  01/12/2022 113.05      GBP\n",
       "944  GB00B3MYD345 UKTI 0 5/8 11/22/42  02/12/2022 110.99      GBP\n",
       "945  GB00B3MYD345 UKTI 0 5/8 11/22/42  05/12/2022 111.22      GBP"
      ]
     },
     "execution_count": 224,
     "metadata": {},
     "output_type": "execute_result"
    }
   ],
   "source": [
    "bond_prices = pd.read_csv(\"data/il_bond_quotes_data.csv\")\n",
    "bond_prices.tail()"
   ]
  },
  {
   "cell_type": "code",
   "execution_count": 225,
   "metadata": {},
   "outputs": [
    {
     "name": "stdout",
     "output_type": "stream",
     "text": [
      "Quote successfully loaded into LUSID. 946 quotes loaded.\n"
     ]
    }
   ],
   "source": [
    "# Create quotes request\n",
    "instrument_quotes = {\n",
    "    index: lm.UpsertQuoteRequest(\n",
    "        quote_id=lm.QuoteId(\n",
    "            quote_series_id=lm.QuoteSeriesId(\n",
    "                provider=\"Lusid\",\n",
    "                instrument_id=row[\"client_internal\"],\n",
    "                instrument_id_type=\"ClientInternal\",\n",
    "                quote_type=\"Price\",\n",
    "                field=\"mid\",\n",
    "            ),\n",
    "            effective_at=to_date(row[\"date\"]),\n",
    "        ),\n",
    "        metric_value=lm.MetricValue(value=row[\"price\"], unit=row[\"currency\"]),\n",
    "        scale_factor=100,\n",
    "    )\n",
    "    for index, row in bond_prices.iterrows()\n",
    "}\n",
    "\n",
    "# Upsert the quotes into LUSID\n",
    "response = quotes_api.upsert_quotes(scope=scope, request_body=instrument_quotes)\n",
    "\n",
    "if response.failed == {}:\n",
    "    print(f\"Quote successfully loaded into LUSID. {len(response.values)} quotes loaded.\")\n",
    "\n",
    "else:\n",
    "    print(f\"Some failures occurred during quotes upsertion, {len(response.failed)} did not get loaded into LUSID.\")"
   ]
  },
  {
   "cell_type": "markdown",
   "metadata": {},
   "source": [
    "For an inflation linked bond, we will also need the monthly index reset values. Here we upsert the UKRPI monthly resets from the inception of our bond in 2009 until today."
   ]
  },
  {
   "cell_type": "code",
   "execution_count": 227,
   "metadata": {},
   "outputs": [
    {
     "data": {
      "text/html": [
       "<div>\n",
       "<style scoped>\n",
       "    .dataframe tbody tr th:only-of-type {\n",
       "        vertical-align: middle;\n",
       "    }\n",
       "\n",
       "    .dataframe tbody tr th {\n",
       "        vertical-align: top;\n",
       "    }\n",
       "\n",
       "    .dataframe thead th {\n",
       "        text-align: right;\n",
       "    }\n",
       "</style>\n",
       "<table border=\"1\" class=\"dataframe\">\n",
       "  <thead>\n",
       "    <tr style=\"text-align: right;\">\n",
       "      <th></th>\n",
       "      <th>Date</th>\n",
       "      <th>Rate</th>\n",
       "      <th>Index</th>\n",
       "    </tr>\n",
       "  </thead>\n",
       "  <tbody>\n",
       "    <tr>\n",
       "      <th>0</th>\n",
       "      <td>2022-08-01</td>\n",
       "      <td>345.20</td>\n",
       "      <td>UKRPI</td>\n",
       "    </tr>\n",
       "    <tr>\n",
       "      <th>1</th>\n",
       "      <td>2022-07-01</td>\n",
       "      <td>343.20</td>\n",
       "      <td>UKRPI</td>\n",
       "    </tr>\n",
       "    <tr>\n",
       "      <th>2</th>\n",
       "      <td>2022-06-01</td>\n",
       "      <td>340.00</td>\n",
       "      <td>UKRPI</td>\n",
       "    </tr>\n",
       "    <tr>\n",
       "      <th>3</th>\n",
       "      <td>2022-05-01</td>\n",
       "      <td>337.10</td>\n",
       "      <td>UKRPI</td>\n",
       "    </tr>\n",
       "    <tr>\n",
       "      <th>4</th>\n",
       "      <td>2022-04-01</td>\n",
       "      <td>334.60</td>\n",
       "      <td>UKRPI</td>\n",
       "    </tr>\n",
       "  </tbody>\n",
       "</table>\n",
       "</div>"
      ],
      "text/plain": [
       "         Date   Rate  Index\n",
       "0  2022-08-01 345.20  UKRPI\n",
       "1  2022-07-01 343.20  UKRPI\n",
       "2  2022-06-01 340.00  UKRPI\n",
       "3  2022-05-01 337.10  UKRPI\n",
       "4  2022-04-01 334.60  UKRPI"
      ]
     },
     "execution_count": 227,
     "metadata": {},
     "output_type": "execute_result"
    }
   ],
   "source": [
    "# Read in from file\n",
    "resets_df = pd.read_csv(\"data/il_resets.csv\")\n",
    "resets_df.head()"
   ]
  },
  {
   "cell_type": "code",
   "execution_count": 139,
   "metadata": {},
   "outputs": [
    {
     "name": "stdout",
     "output_type": "stream",
     "text": [
      "Quote successfully loaded into LUSID. 8 quotes loaded.\n"
     ]
    }
   ],
   "source": [
    "# Create quotes request\n",
    "instrument_quotes = {\n",
    "    index: lm.UpsertQuoteRequest(\n",
    "        quote_id=lm.QuoteId(\n",
    "            quote_series_id=lm.QuoteSeriesId(\n",
    "                    provider=\"Lusid\",\n",
    "                    instrument_id=row[\"Index\"],\n",
    "                    instrument_id_type=\"ClientInternal\",\n",
    "                    quote_type=\"Index\",\n",
    "                    field=\"mid\",\n",
    "            ),\n",
    "            effective_at=to_date(row[\"Date\"]),\n",
    "        ),\n",
    "        metric_value=lm.MetricValue(value=row[\"Rate\"], unit=\"rate\"),\n",
    "    )\n",
    "    for index, row in resets_df.iterrows()\n",
    "}\n",
    "\n",
    "# Upsert the quotes into LUSID\n",
    "response = quotes_api.upsert_quotes(scope=scope, request_body=instrument_quotes)\n",
    "\n",
    "if response.failed == {}:\n",
    "    print(f\"Quote successfully loaded into LUSID. {len(response.values)} quotes loaded.\")\n",
    "\n",
    "else:\n",
    "    print(f\"Some failures occurred during quotes upsertion, {len(response.failed)} did not get loaded into LUSID.\")"
   ]
  },
  {
   "cell_type": "markdown",
   "metadata": {},
   "source": [
    "# 5. Valuations & PnL\n",
    "\n",
    "Once we have the bond booked into a portfolio as well as the quotes and index resets upserted, we can now value it. The recipe below describes how we will go about valuing the credit instruments in our portfolio (in this case just our bond). It details which model we will be using, SimpleStatic, which is supplied by Lusid.\n",
    "\n",
    "It also specifies where to find the Inflation Index resets under the key \"Inflation.\\*\" and the bond's quotes under the key \"Quote.\\*\""
   ]
  },
  {
   "cell_type": "markdown",
   "metadata": {},
   "source": [
    "## 5.1 Create valuation recipe"
   ]
  },
  {
   "cell_type": "code",
   "execution_count": 181,
   "metadata": {},
   "outputs": [],
   "source": [
    "# Create a recipe to perform a valuation\n",
    "configuration_recipe = lm.ConfigurationRecipe(\n",
    "    scope=scope,\n",
    "    code=\"ilBondValuation\",\n",
    "    market=lm.MarketContext(\n",
    "        market_rules=[\n",
    "            lm.MarketDataKeyRule(\n",
    "                key=\"Inflation.*.*\",\n",
    "                data_scope=scope,\n",
    "                supplier=\"Lusid\",\n",
    "                quote_type='Index',\n",
    "                field='mid',\n",
    "                quote_interval=\"1M\"\n",
    "                ),\n",
    "            lm.MarketDataKeyRule(\n",
    "                key=\"Quote.*.*\",\n",
    "                supplier=\"Lusid\",\n",
    "                data_scope=scope,\n",
    "                quote_type=\"Price\",\n",
    "                field=\"mid\",\n",
    "                quote_interval=\"10D\",\n",
    "            ),\n",
    "        ],\n",
    "        options=lm.MarketOptions(\n",
    "            default_supplier=\"Lusid\",\n",
    "            default_instrument_code_type=\"ClientInternal\",\n",
    "            default_scope=scope,\n",
    "        ),\n",
    "    ),\n",
    "    pricing=lm.PricingContext(\n",
    "        model_rules=[\n",
    "            lm.VendorModelRule(\n",
    "                supplier=\"Lusid\",\n",
    "                model_name=\"SimpleStatic\",\n",
    "                instrument_type=\"InflationLinkedBond\",\n",
    "                parameters=\"{}\",\n",
    "            )\n",
    "        ],\n",
    "        options=lm.PricingOptions(allow_partially_successful_evaluation=True)\n",
    "    ),\n",
    ")\n",
    "\n",
    "upsert_configuration_recipe_response = (\n",
    "    configuration_recipe_api.upsert_configuration_recipe(\n",
    "        upsert_recipe_request=lm.UpsertRecipeRequest(\n",
    "            configuration_recipe=configuration_recipe\n",
    "        )\n",
    "    )\n",
    ")"
   ]
  },
  {
   "cell_type": "markdown",
   "metadata": {},
   "source": [
    "## 5.2 Create daily valuation function\n",
    "\n",
    "Once we have made a recipe, we can now create a function that outputs a dataframe with the valuation of our portfolio. We choose to display PV, Accrued Interest and PnL as well as some instrument identifiers."
   ]
  },
  {
   "cell_type": "code",
   "execution_count": 6,
   "metadata": {},
   "outputs": [],
   "source": [
    "def get_val(date, portfolio_code):\n",
    "\n",
    "    valuation_request = lm.ValuationRequest(\n",
    "        recipe_id=lm.ResourceId(scope=scope, code=\"ilBondValuation\"),\n",
    "        metrics=[\n",
    "            lm.AggregateSpec(\"Instrument/default/Name\", \"Value\"),\n",
    "            lm.AggregateSpec(\"Instrument/default/ClientInternal\", \"Value\"),\n",
    "            lm.AggregateSpec(\"Quotes/Price\", \"Value\"),\n",
    "            lm.AggregateSpec(\"Holding/default/Units\", \"Value\"),\n",
    "            lm.AggregateSpec(\"Valuation/PV/Amount\", \"Value\"),\n",
    "            lm.AggregateSpec(\"Holding/default/Accrual\", \"Value\"),\n",
    "            lm.AggregateSpec(\"Valuation/PnL/Tm1\", \"Value\"),\n",
    "        ],\n",
    "        group_by=[\"Instrument/default/Name\"],\n",
    "        portfolio_entity_ids=[lm.PortfolioEntityId(scope=scope, code=portfolio_code)],\n",
    "        valuation_schedule=lm.ValuationSchedule(effective_at=date),\n",
    "    )\n",
    "\n",
    "    val_data = aggregration_api.get_valuation(valuation_request=valuation_request).data\n",
    "\n",
    "    vals_df = pd.DataFrame(val_data)\n",
    "\n",
    "    vals_df.rename(\n",
    "        columns={\n",
    "            \"Instrument/default/Name\": \"InstrumentName\",\n",
    "            \"Instrument/default/ClientInternal\": \"ClientInternal\",\n",
    "            \"Valuation/PV/Amount\": \"Present Value\",\n",
    "            \"Valuation/PnL/Tm1\": \"PnL (1-day)\",\n",
    "            \"Holding/default/Accrual\": \"Accrued Interest\",\n",
    "        },\n",
    "        inplace=True,\n",
    "    )\n",
    "    try:\n",
    "        return vals_df.drop(\"Aggregation/Errors\", axis=1)\n",
    "    except:\n",
    "        return vals_df"
   ]
  },
  {
   "cell_type": "markdown",
   "metadata": {},
   "source": [
    "We will now display the first few days in the lifecycle of our bond. Recall that we have bought this bond on Friday 19 April 2019 and this bond will only settle by Monday 22 April. Day 1 in our scenario is thus 22 April 2019."
   ]
  },
  {
   "cell_type": "markdown",
   "metadata": {},
   "source": [
    "## Day 1\n",
    "\n",
    "At 10AM on day 1, once our bond has settled, we value our bond position with the SimpleStatic model and find that it is worth USD 1,719,499.86. This value includes about five months worth of accrued interest as the last coupon was on 2018-11-22 and we are now valuing it on 2019-04-22."
   ]
  },
  {
   "cell_type": "code",
   "execution_count": 228,
   "metadata": {},
   "outputs": [
    {
     "data": {
      "text/html": [
       "<div>\n",
       "<style scoped>\n",
       "    .dataframe tbody tr th:only-of-type {\n",
       "        vertical-align: middle;\n",
       "    }\n",
       "\n",
       "    .dataframe tbody tr th {\n",
       "        vertical-align: top;\n",
       "    }\n",
       "\n",
       "    .dataframe thead th {\n",
       "        text-align: right;\n",
       "    }\n",
       "</style>\n",
       "<table border=\"1\" class=\"dataframe\">\n",
       "  <thead>\n",
       "    <tr style=\"text-align: right;\">\n",
       "      <th></th>\n",
       "      <th>Present Value</th>\n",
       "      <th>InstrumentName</th>\n",
       "      <th>ClientInternal</th>\n",
       "      <th>Quotes/Price</th>\n",
       "      <th>Holding/default/Units</th>\n",
       "      <th>Accrued Interest</th>\n",
       "      <th>PnL (1-day)</th>\n",
       "    </tr>\n",
       "  </thead>\n",
       "  <tbody>\n",
       "    <tr>\n",
       "      <th>0</th>\n",
       "      <td>1,719,499.86</td>\n",
       "      <td>UKTI 0 5/8 11/22/42</td>\n",
       "      <td>GB00B3MYD345 UKTI 0 5/8 11/22/42</td>\n",
       "      <td>171.60</td>\n",
       "      <td>1,000,000.00</td>\n",
       "      <td>3,489.86</td>\n",
       "      <td>None</td>\n",
       "    </tr>\n",
       "  </tbody>\n",
       "</table>\n",
       "</div>"
      ],
      "text/plain": [
       "   Present Value       InstrumentName                    ClientInternal  \\\n",
       "0   1,719,499.86  UKTI 0 5/8 11/22/42  GB00B3MYD345 UKTI 0 5/8 11/22/42   \n",
       "\n",
       "   Quotes/Price  Holding/default/Units  Accrued Interest PnL (1-day)  \n",
       "0        171.60           1,000,000.00          3,489.86        None  "
      ]
     },
     "execution_count": 228,
     "metadata": {},
     "output_type": "execute_result"
    }
   ],
   "source": [
    "get_val(\"2019-04-22T10:00:00Z\", portfolio_code)"
   ]
  },
  {
   "cell_type": "markdown",
   "metadata": {},
   "source": [
    "## Day 2\n",
    "\n",
    "On day 2, we run our valuation again and find that our accrued interest increased and the price has moved down. Our position is now worth USD 4,339.33 less than on day 1. Our PnL after 1 day is thus USD -4,339.33 on this position."
   ]
  },
  {
   "cell_type": "code",
   "execution_count": 229,
   "metadata": {},
   "outputs": [
    {
     "data": {
      "text/html": [
       "<div>\n",
       "<style scoped>\n",
       "    .dataframe tbody tr th:only-of-type {\n",
       "        vertical-align: middle;\n",
       "    }\n",
       "\n",
       "    .dataframe tbody tr th {\n",
       "        vertical-align: top;\n",
       "    }\n",
       "\n",
       "    .dataframe thead th {\n",
       "        text-align: right;\n",
       "    }\n",
       "</style>\n",
       "<table border=\"1\" class=\"dataframe\">\n",
       "  <thead>\n",
       "    <tr style=\"text-align: right;\">\n",
       "      <th></th>\n",
       "      <th>Present Value</th>\n",
       "      <th>InstrumentName</th>\n",
       "      <th>ClientInternal</th>\n",
       "      <th>Quotes/Price</th>\n",
       "      <th>Holding/default/Units</th>\n",
       "      <th>Accrued Interest</th>\n",
       "      <th>PnL (1-day)</th>\n",
       "    </tr>\n",
       "  </thead>\n",
       "  <tbody>\n",
       "    <tr>\n",
       "      <th>0</th>\n",
       "      <td>1,715,160.53</td>\n",
       "      <td>UKTI 0 5/8 11/22/42</td>\n",
       "      <td>GB00B3MYD345 UKTI 0 5/8 11/22/42</td>\n",
       "      <td>171.16</td>\n",
       "      <td>1,000,000.00</td>\n",
       "      <td>3,513.79</td>\n",
       "      <td>-4,339.33</td>\n",
       "    </tr>\n",
       "  </tbody>\n",
       "</table>\n",
       "</div>"
      ],
      "text/plain": [
       "   Present Value       InstrumentName                    ClientInternal  \\\n",
       "0   1,715,160.53  UKTI 0 5/8 11/22/42  GB00B3MYD345 UKTI 0 5/8 11/22/42   \n",
       "\n",
       "   Quotes/Price  Holding/default/Units  Accrued Interest  PnL (1-day)  \n",
       "0        171.16           1,000,000.00          3,513.79    -4,339.33  "
      ]
     },
     "execution_count": 229,
     "metadata": {},
     "output_type": "execute_result"
    }
   ],
   "source": [
    "get_val(\"2019-04-23T10:00:00Z\", portfolio_code)"
   ]
  },
  {
   "cell_type": "markdown",
   "metadata": {},
   "source": [
    "## Coupon date"
   ]
  },
  {
   "cell_type": "markdown",
   "metadata": {},
   "source": [
    "One day before the coupon date, we see the accrued interest approaching the coupon value. When the coupon date hits, the accrued interest will reset to zero."
   ]
  },
  {
   "cell_type": "code",
   "execution_count": 10,
   "metadata": {},
   "outputs": [
    {
     "data": {
      "text/html": [
       "<div>\n",
       "<style scoped>\n",
       "    .dataframe tbody tr th:only-of-type {\n",
       "        vertical-align: middle;\n",
       "    }\n",
       "\n",
       "    .dataframe tbody tr th {\n",
       "        vertical-align: top;\n",
       "    }\n",
       "\n",
       "    .dataframe thead th {\n",
       "        text-align: right;\n",
       "    }\n",
       "</style>\n",
       "<table border=\"1\" class=\"dataframe\">\n",
       "  <thead>\n",
       "    <tr style=\"text-align: right;\">\n",
       "      <th></th>\n",
       "      <th>Present Value</th>\n",
       "      <th>InstrumentName</th>\n",
       "      <th>ClientInternal</th>\n",
       "      <th>Quotes/Price</th>\n",
       "      <th>Holding/default/Units</th>\n",
       "      <th>Accrued Interest</th>\n",
       "      <th>PnL (1-day)</th>\n",
       "    </tr>\n",
       "  </thead>\n",
       "  <tbody>\n",
       "    <tr>\n",
       "      <th>0</th>\n",
       "      <td>1,913,726.34</td>\n",
       "      <td>UKTI 0 5/8 11/22/42</td>\n",
       "      <td>GB00B3MYD345 UKTI 0 5/8 11/22/42</td>\n",
       "      <td>190.94</td>\n",
       "      <td>1,000,000.00</td>\n",
       "      <td>4,276.34</td>\n",
       "      <td>15,743.91</td>\n",
       "    </tr>\n",
       "  </tbody>\n",
       "</table>\n",
       "</div>"
      ],
      "text/plain": [
       "   Present Value       InstrumentName                    ClientInternal  \\\n",
       "0   1,913,726.34  UKTI 0 5/8 11/22/42  GB00B3MYD345 UKTI 0 5/8 11/22/42   \n",
       "\n",
       "   Quotes/Price  Holding/default/Units  Accrued Interest  PnL (1-day)  \n",
       "0        190.94           1,000,000.00          4,276.34    15,743.91  "
      ]
     },
     "execution_count": 10,
     "metadata": {},
     "output_type": "execute_result"
    }
   ],
   "source": [
    "get_val(\"2020-05-21T10:00:00Z\", portfolio_code)"
   ]
  },
  {
   "cell_type": "code",
   "execution_count": 14,
   "metadata": {},
   "outputs": [
    {
     "data": {
      "text/html": [
       "<div>\n",
       "<style scoped>\n",
       "    .dataframe tbody tr th:only-of-type {\n",
       "        vertical-align: middle;\n",
       "    }\n",
       "\n",
       "    .dataframe tbody tr th {\n",
       "        vertical-align: top;\n",
       "    }\n",
       "\n",
       "    .dataframe thead th {\n",
       "        text-align: right;\n",
       "    }\n",
       "</style>\n",
       "<table border=\"1\" class=\"dataframe\">\n",
       "  <thead>\n",
       "    <tr style=\"text-align: right;\">\n",
       "      <th></th>\n",
       "      <th>Present Value</th>\n",
       "      <th>InstrumentName</th>\n",
       "      <th>ClientInternal</th>\n",
       "      <th>Quotes/Price</th>\n",
       "      <th>Holding/default/Units</th>\n",
       "      <th>Accrued Interest</th>\n",
       "      <th>PnL (1-day)</th>\n",
       "    </tr>\n",
       "  </thead>\n",
       "  <tbody>\n",
       "    <tr>\n",
       "      <th>0</th>\n",
       "      <td>1,897,200.00</td>\n",
       "      <td>UKTI 0 5/8 11/22/42</td>\n",
       "      <td>GB00B3MYD345 UKTI 0 5/8 11/22/42</td>\n",
       "      <td>189.72</td>\n",
       "      <td>1,000,000.00</td>\n",
       "      <td>0.00</td>\n",
       "      <td>-16,526.34</td>\n",
       "    </tr>\n",
       "  </tbody>\n",
       "</table>\n",
       "</div>"
      ],
      "text/plain": [
       "   Present Value       InstrumentName                    ClientInternal  \\\n",
       "0   1,897,200.00  UKTI 0 5/8 11/22/42  GB00B3MYD345 UKTI 0 5/8 11/22/42   \n",
       "\n",
       "   Quotes/Price  Holding/default/Units  Accrued Interest  PnL (1-day)  \n",
       "0        189.72           1,000,000.00              0.00   -16,526.34  "
      ]
     },
     "execution_count": 14,
     "metadata": {},
     "output_type": "execute_result"
    }
   ],
   "source": [
    "get_val(\"2020-05-22T01:00:00Z\", portfolio_code)"
   ]
  }
 ],
 "metadata": {
  "kernelspec": {
   "display_name": "Python 3.8.0 64-bit",
   "language": "python",
   "name": "python3"
  },
  "language_info": {
   "codemirror_mode": {
    "name": "ipython",
    "version": 3
   },
   "file_extension": ".py",
   "mimetype": "text/x-python",
   "name": "python",
   "nbconvert_exporter": "python",
   "pygments_lexer": "ipython3",
   "version": "3.8.0"
  },
  "vscode": {
   "interpreter": {
    "hash": "9650cb4e16cdd4a8e8e2d128bf38d875813998db22a3c986335f89e0cb4d7bb2"
   }
  }
 },
 "nbformat": 4,
 "nbformat_minor": 2
}
