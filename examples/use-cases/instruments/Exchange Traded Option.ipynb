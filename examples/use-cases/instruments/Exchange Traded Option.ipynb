{
 "cells": [
  {
   "cell_type": "code",
   "execution_count": 29,
   "metadata": {},
   "outputs": [
    {
     "data": {
      "text/plain": "<IPython.core.display.HTML object>",
      "text/html": "\n    <form action=\"javascript:code_toggle()\"><input type=\"submit\" id=\"toggleButton\" value=\"Toggle Docstring\"></form>\n    \n         <script>\n         function code_toggle() {\n             if ($('div.cell.code_cell.rendered.selected div.input').css('display')!='none'){\n                 $('div.cell.code_cell.rendered.selected div.input').hide();\n             } else {\n                 $('div.cell.code_cell.rendered.selected div.input').show();\n             }\n         }\n         </script>\n\n     "
     },
     "metadata": {},
     "output_type": "display_data"
    }
   ],
   "source": [
    "from lusidtools.jupyter_tools import toggle_code\n",
    "\n",
    "\"\"\"Exchange Traded Option - Valuation Workflow\n",
    "\n",
    "Attributes\n",
    "----------\n",
    "exchange traded options\n",
    "options on bond futures\n",
    "transaction types\n",
    "recipes\n",
    "valuations\n",
    "\"\"\"\n",
    "\n",
    "toggle_code(\"Toggle Docstring\")"
   ]
  },
  {
   "cell_type": "markdown",
   "metadata": {},
   "source": [
    "# Booking and valuing an Exchange Traded Option\n",
    "\n",
    "In this notebook, we demonstrate how an exchange traded option can be booked in LUSID, and extend it to use cases such as running a standard valuation and calculating PnL.\n",
    "\n",
    "**Table of Contents:**\n",
    "-  [1. Create Portfolio](#1.-Create-Portfolio)\n",
    "-  [2. Create Instrument](#2.-Create-Instrument)\n",
    "-  [3. Upsert Transactions](#3.-Upsert-Transactions)\n",
    "-  [4. Upsert Quotes](#4.-Upsert-Quotes)\n",
    "-  [5. Create Configuration Recipe](#5.-Create-Configuration-Recipe)\n",
    "-  [6. Valuation](#6.-Valuation)"
   ]
  },
  {
   "cell_type": "code",
   "execution_count": 30,
   "metadata": {
    "pycharm": {
     "name": "#%%\n"
    }
   },
   "outputs": [
    {
     "data": {
      "text/plain": "<IPython.core.display.HTML object>",
      "text/html": "<style>.container { width:90% !important; }</style>"
     },
     "metadata": {},
     "output_type": "display_data"
    },
    {
     "name": "stdout",
     "output_type": "stream",
     "text": [
      "LUSID Environment Initialised\n",
      "LUSID API Version : 0.6.8179.0\n"
     ]
    }
   ],
   "source": [
    "# Import generic non-LUSID packages\n",
    "import os\n",
    "import pandas as pd\n",
    "from datetime import datetime, timedelta\n",
    "from dateutil.parser import parse\n",
    "import json\n",
    "import pytz\n",
    "from IPython.core.display import HTML\n",
    "\n",
    "# Import key modules from the LUSID package\n",
    "import lusid\n",
    "import lusid.models as lm\n",
    "import lusid.api as la\n",
    "from lusid.utilities import ApiClientFactory\n",
    "\n",
    "# Import key functions from Lusid-Python-Tools and other packages\n",
    "from lusidjam import RefreshingToken\n",
    "\n",
    "# Set DataFrame display formats\n",
    "pd.set_option(\"display.max_columns\", None)\n",
    "pd.set_option(\"display.max_rows\", None)\n",
    "pd.options.display.float_format = \"{:,.2f}\".format\n",
    "display(HTML(\"<style>.container { width:90% !important; }</style>\"))\n",
    "\n",
    "# Set the secrets path\n",
    "secrets_path = os.getenv(\"FBN_SECRETS_PATH\")\n",
    "\n",
    "# For running the notebook locally\n",
    "if secrets_path is None:\n",
    "    secrets_path = os.path.join(os.path.dirname(os.getcwd()), \"secrets.json\")\n",
    "\n",
    "# Authenticate our user and create our API client\n",
    "api_factory = ApiClientFactory(\n",
    "    token=RefreshingToken(),\n",
    "    api_secrets_filename = secrets_path)\n",
    "\n",
    "# Set pandas dataframe display formatting\n",
    "pd.set_option('display.max_columns', None)\n",
    "pd.options.display.float_format = '{:,.2f}'.format\n",
    "\n",
    "print ('LUSID Environment Initialised')\n",
    "print ('LUSID API Version :', api_factory.build(lusid.api.ApplicationMetadataApi).get_lusid_versions().build_version)\n",
    "\n",
    "# Set APIs\n",
    "portfolio_api = api_factory.build(lusid.api.PortfoliosApi)\n",
    "transaction_portfolios_api = api_factory.build(lusid.api.TransactionPortfoliosApi)\n",
    "instruments_api = api_factory.build(lusid.api.InstrumentsApi)\n",
    "quotes_api = api_factory.build(lusid.api.QuotesApi)\n",
    "configuration_recipe_api = api_factory.build(lusid.api.ConfigurationRecipeApi)\n",
    "aggregration_api = api_factory.build(lusid.api.AggregationApi)"
   ]
  },
  {
   "cell_type": "code",
   "execution_count": 31,
   "outputs": [],
   "source": [
    "# Define scopes\n",
    "scope = \"ibor\"\n",
    "market_data_scope = \"ibor\""
   ],
   "metadata": {
    "collapsed": false,
    "pycharm": {
     "name": "#%%\n"
    }
   }
  },
  {
   "cell_type": "markdown",
   "source": [
    "# 1. Create Portfolio\n",
    "\n",
    "Create the portfolio that will contain the option position."
   ],
   "metadata": {
    "collapsed": false
   }
  },
  {
   "cell_type": "code",
   "execution_count": 32,
   "outputs": [
    {
     "name": "stdout",
     "output_type": "stream",
     "text": [
      "Could not create a portfolio with id ExchangeTradedOption because it already exists in scope ibor.\n"
     ]
    }
   ],
   "source": [
    "portfolio_code = \"ExchangeTradedOption\"\n",
    "\n",
    "try:\n",
    "    transaction_portfolios_api.create_portfolio(\n",
    "        scope=scope,\n",
    "        create_transaction_portfolio_request=lm.CreateTransactionPortfolioRequest(\n",
    "            display_name=portfolio_code,\n",
    "            code=portfolio_code,\n",
    "            base_currency=\"USD\",\n",
    "            created=\"2010-01-01\",\n",
    "            sub_holding_keys=[],\n",
    "        ),\n",
    "    )\n",
    "\n",
    "except lusid.ApiException as e:\n",
    "    print(json.loads(e.body)[\"title\"])"
   ],
   "metadata": {
    "collapsed": false,
    "pycharm": {
     "name": "#%%\n"
    }
   }
  },
  {
   "cell_type": "markdown",
   "metadata": {},
   "source": [
    "# 2. Create Instrument\n",
    "\n",
    "Using the below method we can reference the SDK models to populate the required parameters for creating an exchange traded option. We then populate the instrument variables, and make a call to persist the instrument in LUSID."
   ]
  },
  {
   "cell_type": "code",
   "execution_count": 33,
   "metadata": {},
   "outputs": [],
   "source": [
    "# Define function that creates futures\n",
    "def create_exchange_option(\n",
    "        description,\n",
    "        start_date,\n",
    "        exercise_date,\n",
    "        dom_ccy,\n",
    "        strike,\n",
    "        contract_size,\n",
    "        country_id,\n",
    "        delivery_type,\n",
    "        exchange_code,\n",
    "        exercise_type,\n",
    "        option_code,\n",
    "        option_type,\n",
    "        underlying_code,\n",
    "        ref_spot_price,\n",
    "):\n",
    "    contract_details = lm.ExchangeTradedOptionContractDetails(\n",
    "        dom_ccy=dom_ccy,\n",
    "        strike=strike,\n",
    "        contract_size=contract_size,\n",
    "        country=country_id,\n",
    "        delivery_type=delivery_type,\n",
    "        description=description,\n",
    "        exchange_code=exchange_code,\n",
    "        exercise_date=exercise_date,\n",
    "        exercise_type=exercise_type,\n",
    "        option_code=option_code,\n",
    "        option_type=option_type,\n",
    "        underlying=lm.ExoticInstrument(\n",
    "            instrument_format=lm.InstrumentDefinitionFormat(\n",
    "                \"custom\", \"custom\", \"0.0.0\"\n",
    "            ),\n",
    "            content=\"{}\",\n",
    "            instrument_type=\"ExoticInstrument\",\n",
    "        ),\n",
    "        underlying_code=underlying_code,\n",
    "    )\n",
    "    \n",
    "    return lm.ExchangeTradedOption(\n",
    "        start_date=start_date,\n",
    "        contract_details=contract_details,\n",
    "        contracts=1,\n",
    "        ref_spot_price=ref_spot_price,\n",
    "\n",
    "        instrument_type=\"ExchangeTradedOption\",\n",
    "    )\n",
    "\n",
    "\n",
    "# Define a function to upsert instrument\n",
    "def upsert_instrument_to_lusid(instrument_definition, name, identifier, identifier_type):\n",
    "        return instruments_api.upsert_instruments(\n",
    "            request_body={\n",
    "                identifier: lm.InstrumentDefinition(\n",
    "                    name=name,\n",
    "                    identifiers={\n",
    "                        identifier_type: lm.InstrumentIdValue(value=identifier)\n",
    "                    },\n",
    "                    definition=instrument_definition,\n",
    "                )\n",
    "            }\n",
    "        )\n"
   ]
  },
  {
   "cell_type": "markdown",
   "metadata": {
    "pycharm": {
     "name": "#%% md\n"
    }
   },
   "source": [
    "In this example, we will be looking to create a CME call option with an underlying of a 10Y US Treasury bond future. \n",
    "\n",
    "- Underlying: US 10Y Treasury Bond Future\n",
    "- Strike: 130.25\n",
    "- Option Type: Call\n",
    "- Excercise Type: American\n",
    "- Contract Size: USD 100,000"
   ]
  },
  {
   "cell_type": "code",
   "execution_count": 34,
   "outputs": [],
   "source": [
    "# Set the instrument variables\n",
    "option_name = \"US BOND FUTR OPTN Dec21C\"\n",
    "option_identifier = \"OPT-USZ1C15721\"\n",
    "identifier_type = \"ClientInternal\"\n",
    "description = \"130.25 Call US 10Y Bond Future\"\n",
    "start_date = datetime(2021, 2, 22, tzinfo=pytz.utc)\n",
    "exercise_date= datetime(2021, 10, 29, tzinfo=pytz.utc)\n",
    "dom_ccy = \"USD\"\n",
    "strike = 130.25\n",
    "contract_size=100000\n",
    "country_id = \"US\"\n",
    "delivery_type = \"Cash\"\n",
    "exchange_code = \"CBOT\"\n",
    "exercise_type = \"American\"\n",
    "option_code = \"US\"\n",
    "option_type = \"Call\"\n",
    "underlying_code = \"TY\"\n",
    "contracts = 1\n",
    "ref_spot_price = 130.875"
   ],
   "metadata": {
    "collapsed": false,
    "pycharm": {
     "name": "#%%\n"
    }
   }
  },
  {
   "cell_type": "code",
   "execution_count": 35,
   "metadata": {},
   "outputs": [
    {
     "name": "stdout",
     "output_type": "stream",
     "text": [
      "LUID_0000BOXN\n"
     ]
    }
   ],
   "source": [
    "# Create the Instrument\n",
    "option_definition = create_exchange_option(\n",
    "    description=description,\n",
    "    start_date=start_date,\n",
    "    exercise_date=exercise_date,\n",
    "    dom_ccy=dom_ccy,\n",
    "    strike=strike,\n",
    "    contract_size=contract_size,\n",
    "    country_id=country_id,\n",
    "    delivery_type=delivery_type,\n",
    "    exchange_code=exchange_code,\n",
    "    exercise_type=exercise_type,\n",
    "    option_code=option_code,\n",
    "    option_type=option_type,\n",
    "    underlying_code=underlying_code,\n",
    "    ref_spot_price=ref_spot_price,\n",
    ")\n",
    "\n",
    "# Upsert the instrument\n",
    "upsert_response = upsert_instrument_to_lusid(option_definition, option_name, option_identifier, identifier_type)\n",
    "luid = upsert_response.values[option_identifier].lusid_instrument_id\n",
    "print(luid)"
   ]
  },
  {
   "cell_type": "markdown",
   "metadata": {
    "pycharm": {
     "name": "#%% md\n"
    }
   },
   "source": [
    "# 3. Upsert transactions\n",
    "\n",
    "Having created the portfolio, we add a simple _Buy_ transaction against the option to create a position. In this case we book the total consideration or cost of the transaction as the cost amount, whereas the premium is going to be booked as a reference price for the transaction."
   ]
  },
  {
   "cell_type": "code",
   "execution_count": 36,
   "outputs": [
    {
     "name": "stdout",
     "output_type": "stream",
     "text": [
      "Transaction succesfully updated at time: 2021-10-27 14:39:36.330481+00:00\n"
     ]
    }
   ],
   "source": [
    "# Set trade variables\n",
    "trade_date = datetime(2021, 9, 25, tzinfo=pytz.utc)\n",
    "settle_days = 2\n",
    "premium = 0.859375\n",
    "units = 100\n",
    "cost_amount = premium/100 * units * contract_size\n",
    "\n",
    "# Book a buy transaction against the option\n",
    "opt_txn = lm.TransactionRequest(\n",
    "    transaction_id=\"TXN001\",\n",
    "    type=\"Buy\",\n",
    "    instrument_identifiers={\"Instrument/default/ClientInternal\": option_identifier},\n",
    "    transaction_date=trade_date,\n",
    "    settlement_date=trade_date + timedelta(days=settle_days),\n",
    "    units=units,\n",
    "    transaction_price=lm.TransactionPrice(price=premium,type=\"Price\"),\n",
    "    total_consideration=lm.CurrencyAndAmount(amount=cost_amount,currency=\"USD\"),\n",
    "    exchange_rate=1,\n",
    "    transaction_currency=\"USD\"\n",
    ")\n",
    "\n",
    "response = transaction_portfolios_api.upsert_transactions(scope=scope,\n",
    "                                                    code=portfolio_code,\n",
    "                                                    transaction_request=[opt_txn])\n",
    "\n",
    "print(f\"Transaction succesfully updated at time: {response.version.as_at_date}\")"
   ],
   "metadata": {
    "collapsed": false,
    "pycharm": {
     "name": "#%%\n"
    }
   }
  },
  {
   "cell_type": "markdown",
   "source": [
    "# 4. Upsert Quotes\n",
    "\n",
    "In order to conduct a valuation, we will be loading prices for the option into the market data store. In this particular example, we are simply using quotes provided by the exchange which represent the daily value of the option contract. For exchange traded options, these are readily available for contracts that have non-zero open interest.\n",
    "\n",
    "Notice the premiums should represent percentages, so we also add a `scale_factor` of a 100 to each quote."
   ],
   "metadata": {
    "collapsed": false
   }
  },
  {
   "cell_type": "code",
   "execution_count": 37,
   "outputs": [
    {
     "data": {
      "text/plain": "                       Date  Price      Identifier\n0 2021-09-25 00:00:00+00:00   0.86  OPT-USZ1C15721\n1 2021-09-26 00:00:00+00:00   0.84  OPT-USZ1C15721\n2 2021-09-27 00:00:00+00:00   0.91  OPT-USZ1C15721\n3 2021-09-28 00:00:00+00:00   0.90  OPT-USZ1C15721\n4 2021-09-29 00:00:00+00:00   0.90  OPT-USZ1C15721",
      "text/html": "<div>\n<style scoped>\n    .dataframe tbody tr th:only-of-type {\n        vertical-align: middle;\n    }\n\n    .dataframe tbody tr th {\n        vertical-align: top;\n    }\n\n    .dataframe thead th {\n        text-align: right;\n    }\n</style>\n<table border=\"1\" class=\"dataframe\">\n  <thead>\n    <tr style=\"text-align: right;\">\n      <th></th>\n      <th>Date</th>\n      <th>Price</th>\n      <th>Identifier</th>\n    </tr>\n  </thead>\n  <tbody>\n    <tr>\n      <th>0</th>\n      <td>2021-09-25 00:00:00+00:00</td>\n      <td>0.86</td>\n      <td>OPT-USZ1C15721</td>\n    </tr>\n    <tr>\n      <th>1</th>\n      <td>2021-09-26 00:00:00+00:00</td>\n      <td>0.84</td>\n      <td>OPT-USZ1C15721</td>\n    </tr>\n    <tr>\n      <th>2</th>\n      <td>2021-09-27 00:00:00+00:00</td>\n      <td>0.91</td>\n      <td>OPT-USZ1C15721</td>\n    </tr>\n    <tr>\n      <th>3</th>\n      <td>2021-09-28 00:00:00+00:00</td>\n      <td>0.90</td>\n      <td>OPT-USZ1C15721</td>\n    </tr>\n    <tr>\n      <th>4</th>\n      <td>2021-09-29 00:00:00+00:00</td>\n      <td>0.90</td>\n      <td>OPT-USZ1C15721</td>\n    </tr>\n  </tbody>\n</table>\n</div>"
     },
     "execution_count": 37,
     "metadata": {},
     "output_type": "execute_result"
    }
   ],
   "source": [
    "# Read quotes and make datetimes timezone aware\n",
    "quotes_df = pd.read_csv(\"data/opt_quotes.csv\")\n",
    "quotes_df[\"Date\"] = quotes_df[\"Date\"].apply(lambda x: parse(x).replace(tzinfo=pytz.utc))\n",
    "quotes_df.head()"
   ],
   "metadata": {
    "collapsed": false,
    "pycharm": {
     "name": "#%%\n"
    }
   }
  },
  {
   "cell_type": "code",
   "execution_count": 38,
   "outputs": [
    {
     "name": "stdout",
     "output_type": "stream",
     "text": [
      "Quotes successfully loaded into LUSID. 5 quotes loaded.\n"
     ]
    }
   ],
   "source": [
    "# Set the quote scale factor to 100\n",
    "scale_factor = 100\n",
    "\n",
    "# Create quotes request\n",
    "instrument_quotes = {\n",
    "            index: lm.UpsertQuoteRequest(\n",
    "            quote_id=lm.QuoteId(\n",
    "                quote_series_id=lm.QuoteSeriesId(\n",
    "                    provider=\"Lusid\",\n",
    "                    instrument_id=row[\"Identifier\"],\n",
    "                    instrument_id_type=\"ClientInternal\",\n",
    "                    quote_type=\"Price\",\n",
    "                    field=\"mid\",\n",
    "                ),\n",
    "                effective_at=row[\"Date\"],\n",
    "            ),\n",
    "            metric_value=lm.MetricValue(value=row[\"Price\"], unit=\"USD\"),\n",
    "            scale_factor=scale_factor\n",
    "        )\n",
    "    for index, row in quotes_df.iterrows()\n",
    "}\n",
    "\n",
    "# Upsert quotes into LUSID\n",
    "response = quotes_api.upsert_quotes(\n",
    "    scope=market_data_scope, request_body=instrument_quotes\n",
    ")\n",
    "\n",
    "if response.failed == {}:\n",
    "    print(f\"Quotes successfully loaded into LUSID. {len(response.values)} quotes loaded.\")\n",
    "else:\n",
    "    print(f\"Some failures occurred during quotes upsertion, {len(response.failed)} did not get loaded into LUSID.\")"
   ],
   "metadata": {
    "collapsed": false,
    "pycharm": {
     "name": "#%%\n"
    }
   }
  },
  {
   "cell_type": "markdown",
   "source": [
    "# 5. Create configuration recipe\n",
    "\n",
    "Next, we will create a configuration recipe that will drive how the valuation is conducted. That is, where to derive quotes from in the market data store and what valuation method to use.\n",
    "\n",
    "In case of an exchange traded option, the natural model choice is `SimpleStatic`, as prices are readily available from the exchange. Within the market context, we set the sources of market data to be used.\n",
    "\n",
    "This will result in the following computation for the option's market value on a given day:\n",
    "\n",
    "- `PV = P /SF * Q`\n",
    "- `P = Price`\n",
    "- `SF = Scale Factor`\n",
    "- `Q = Quantity or Notional`\n",
    "\n",
    "It is worth noting a quote's default scale factor is 1 when not specified, however for the listed option in question a value of `100` was provided.\n"
   ],
   "metadata": {
    "collapsed": false,
    "pycharm": {
     "name": "#%% md\n"
    }
   }
  },
  {
   "cell_type": "code",
   "execution_count": 39,
   "outputs": [
    {
     "name": "stdout",
     "output_type": "stream",
     "text": [
      "Configuration recipe loaded into LUSID at time 2021-11-17 16:24:24.048433+00:00.\n"
     ]
    }
   ],
   "source": [
    "# Set recipe code\n",
    "recipe_code = \"exchangeTradedOptValuation\"\n",
    "\n",
    "# Populate recipe parameters\n",
    "configuration_recipe = lm.ConfigurationRecipe(\n",
    "    scope=scope,\n",
    "    code=recipe_code,\n",
    "    market=lm.MarketContext(\n",
    "        market_rules=[\n",
    "            lm.MarketDataKeyRule(\n",
    "                key=\"Equity.ClientInternal.*\",\n",
    "                supplier=\"Lusid\",\n",
    "                data_scope=market_data_scope,\n",
    "                quote_type=\"Price\",\n",
    "                field=\"mid\",\n",
    "                quote_interval=\"5D.0D\"\n",
    "            )\n",
    "        ],\n",
    "    ),\n",
    "    pricing=lm.PricingContext(\n",
    "        model_rules=[\n",
    "            lm.VendorModelRule(\n",
    "                supplier=\"Lusid\",\n",
    "                model_name=\"SimpleStatic\",\n",
    "                instrument_type=\"ExchangeTradedOption\",\n",
    "                parameters=\"{}\",\n",
    "            )\n",
    "        ]\n",
    "    ),\n",
    ")\n",
    "\n",
    "response = configuration_recipe_api.upsert_configuration_recipe(\n",
    "        upsert_recipe_request=lm.UpsertRecipeRequest(\n",
    "            configuration_recipe=configuration_recipe\n",
    "        )\n",
    "    )\n",
    "\n",
    "\n",
    "print(f\"Configuration recipe loaded into LUSID at time {response.value}.\")"
   ],
   "metadata": {
    "collapsed": false,
    "pycharm": {
     "name": "#%%\n"
    }
   }
  },
  {
   "cell_type": "markdown",
   "source": [
    "# 6. Valuation\n",
    "\n",
    "For valuing the portfolio, we will need to create a valuation request that specifies the metrics that are to be returned, and reference our previously setup portfolio and recipe on a given date. The following method will return the results in form of a data frame."
   ],
   "metadata": {
    "collapsed": false,
    "pycharm": {
     "name": "#%% md\n"
    }
   }
  },
  {
   "cell_type": "code",
   "execution_count": 40,
   "outputs": [],
   "source": [
    "def get_daily_valuation(date, portfolio_code):\n",
    "\n",
    "    valuation_request = lm.ValuationRequest(\n",
    "        recipe_id=lm.ResourceId(scope=scope, code=recipe_code),\n",
    "        metrics=[\n",
    "            lm.AggregateSpec(\"Instrument/default/Name\", \"Value\"),\n",
    "            lm.AggregateSpec(\"Instrument/default/ClientInternal\", \"Value\"),\n",
    "            lm.AggregateSpec(\"Instrument/Definition/ContractSize\", \"Value\"),\n",
    "            lm.AggregateSpec(\"Quotes/Price\", \"Value\"),\n",
    "            lm.AggregateSpec(\"Holding/default/Units\", \"Value\"),\n",
    "            lm.AggregateSpec(\"Valuation/PV/Amount\", \"Value\"),\n",
    "            lm.AggregateSpec(\"Valuation/Exposure\", \"Value\"),\n",
    "            lm.AggregateSpec(\"Valuation/PnL/Tm1\", \"Value\"),\n",
    "        ],\n",
    "        group_by=[\"Instrument/default/Name\"],\n",
    "        portfolio_entity_ids=[\n",
    "            lm.PortfolioEntityId(scope=scope, code=portfolio_code)\n",
    "        ],\n",
    "        valuation_schedule=lm.ValuationSchedule(effective_at=date),\n",
    "    )\n",
    "\n",
    "    val_data = aggregration_api.get_valuation(valuation_request=valuation_request).data\n",
    "\n",
    "    vals_df = pd.DataFrame(val_data)\n",
    "\n",
    "    vals_df.rename(\n",
    "        columns={\n",
    "            \"Instrument/default/Name\": \"InstrumentName\",\n",
    "            \"Instrument/default/ClientInternal\": \"ClientInternal\",\n",
    "            \"Valuation/PV\": \"Value\",\n",
    "            \"Valuation/PnL/Tm1\": \"PnL (1-day)\",\n",
    "        },\n",
    "        inplace=True,\n",
    "    )\n",
    "\n",
    "    return vals_df"
   ],
   "metadata": {
    "collapsed": false,
    "pycharm": {
     "name": "#%%\n"
    }
   }
  },
  {
   "cell_type": "markdown",
   "source": [
    "# 6.1 Daily Valuation and PnL\n",
    "\n",
    "# Day 1\n",
    "\n",
    "We begin by valuing the position as of the trade date, where based on the available quotes we can observe the following market value for our option. Notice, that given the daily quote is the same as the cost amount quoted in our transaction, we also have a matching cash outflow within our portfolio."
   ],
   "metadata": {
    "collapsed": false,
    "pycharm": {
     "name": "#%% md\n"
    }
   }
  },
  {
   "cell_type": "code",
   "execution_count": 41,
   "outputs": [
    {
     "data": {
      "text/plain": "   Valuation/PV/Amount            InstrumentName  ClientInternal  \\\n0            85,937.50  US BOND FUTR OPTN Dec21C  OPT-USZ1C15721   \n1           -85,937.50                       USD            None   \n\n   Instrument/Definition/ContractSize  Quotes/Price  Holding/default/Units  \\\n0                          100,000.00          0.86                 100.00   \n1                                1.00           nan             -85,937.50   \n\n   Valuation/Exposure  PnL (1-day)  \n0           85,937.50          nan  \n1          -85,937.50         0.00  ",
      "text/html": "<div>\n<style scoped>\n    .dataframe tbody tr th:only-of-type {\n        vertical-align: middle;\n    }\n\n    .dataframe tbody tr th {\n        vertical-align: top;\n    }\n\n    .dataframe thead th {\n        text-align: right;\n    }\n</style>\n<table border=\"1\" class=\"dataframe\">\n  <thead>\n    <tr style=\"text-align: right;\">\n      <th></th>\n      <th>Valuation/PV/Amount</th>\n      <th>InstrumentName</th>\n      <th>ClientInternal</th>\n      <th>Instrument/Definition/ContractSize</th>\n      <th>Quotes/Price</th>\n      <th>Holding/default/Units</th>\n      <th>Valuation/Exposure</th>\n      <th>PnL (1-day)</th>\n    </tr>\n  </thead>\n  <tbody>\n    <tr>\n      <th>0</th>\n      <td>85,937.50</td>\n      <td>US BOND FUTR OPTN Dec21C</td>\n      <td>OPT-USZ1C15721</td>\n      <td>100,000.00</td>\n      <td>0.86</td>\n      <td>100.00</td>\n      <td>85,937.50</td>\n      <td>nan</td>\n    </tr>\n    <tr>\n      <th>1</th>\n      <td>-85,937.50</td>\n      <td>USD</td>\n      <td>None</td>\n      <td>1.00</td>\n      <td>nan</td>\n      <td>-85,937.50</td>\n      <td>-85,937.50</td>\n      <td>0.00</td>\n    </tr>\n  </tbody>\n</table>\n</div>"
     },
     "execution_count": 41,
     "metadata": {},
     "output_type": "execute_result"
    }
   ],
   "source": [
    "df = get_daily_valuation(trade_date, portfolio_code)\n",
    "df.drop('Aggregation/Errors', axis=1, inplace=True)\n",
    "df"
   ],
   "metadata": {
    "collapsed": false,
    "pycharm": {
     "name": "#%%\n"
    }
   }
  },
  {
   "cell_type": "markdown",
   "source": [
    "# Day 2\n",
    "\n",
    "On the following date, we observe a new market value and also observe a daily PnL as a result of a price change against the previous day's market value. We also query the price on the quotes store for the security, where we observe a new price of 0.84 resulting in the loss."
   ],
   "metadata": {
    "collapsed": false,
    "pycharm": {
     "name": "#%% md\n"
    }
   },
   "outputs": [
    {
     "ename": "SyntaxError",
     "evalue": "invalid syntax (<ipython-input-254-c2e8c84756c4>, line 3)",
     "output_type": "error",
     "traceback": [
      "\u001B[1;36m  File \u001B[1;32m\"<ipython-input-254-c2e8c84756c4>\"\u001B[1;36m, line \u001B[1;32m3\u001B[0m\n\u001B[1;33m    On the following date, we observe a new market value and also observe a daily PnL as a result of a price change against the previous day's market value.\u001B[0m\n\u001B[1;37m       ^\u001B[0m\n\u001B[1;31mSyntaxError\u001B[0m\u001B[1;31m:\u001B[0m invalid syntax\n"
     ]
    }
   ],
   "execution_count": 254
  },
  {
   "cell_type": "code",
   "execution_count": 42,
   "outputs": [
    {
     "data": {
      "text/plain": "   Valuation/PV/Amount            InstrumentName  ClientInternal  \\\n0            84,375.00  US BOND FUTR OPTN Dec21C  OPT-USZ1C15721   \n1           -85,937.50                       USD            None   \n\n   Instrument/Definition/ContractSize  Quotes/Price  Holding/default/Units  \\\n0                          100,000.00          0.84                 100.00   \n1                                1.00           nan             -85,937.50   \n\n   Valuation/Exposure  PnL (1-day)  \n0           84,375.00    -1,562.50  \n1          -85,937.50         0.00  ",
      "text/html": "<div>\n<style scoped>\n    .dataframe tbody tr th:only-of-type {\n        vertical-align: middle;\n    }\n\n    .dataframe tbody tr th {\n        vertical-align: top;\n    }\n\n    .dataframe thead th {\n        text-align: right;\n    }\n</style>\n<table border=\"1\" class=\"dataframe\">\n  <thead>\n    <tr style=\"text-align: right;\">\n      <th></th>\n      <th>Valuation/PV/Amount</th>\n      <th>InstrumentName</th>\n      <th>ClientInternal</th>\n      <th>Instrument/Definition/ContractSize</th>\n      <th>Quotes/Price</th>\n      <th>Holding/default/Units</th>\n      <th>Valuation/Exposure</th>\n      <th>PnL (1-day)</th>\n    </tr>\n  </thead>\n  <tbody>\n    <tr>\n      <th>0</th>\n      <td>84,375.00</td>\n      <td>US BOND FUTR OPTN Dec21C</td>\n      <td>OPT-USZ1C15721</td>\n      <td>100,000.00</td>\n      <td>0.84</td>\n      <td>100.00</td>\n      <td>84,375.00</td>\n      <td>-1,562.50</td>\n    </tr>\n    <tr>\n      <th>1</th>\n      <td>-85,937.50</td>\n      <td>USD</td>\n      <td>None</td>\n      <td>1.00</td>\n      <td>nan</td>\n      <td>-85,937.50</td>\n      <td>-85,937.50</td>\n      <td>0.00</td>\n    </tr>\n  </tbody>\n</table>\n</div>"
     },
     "execution_count": 42,
     "metadata": {},
     "output_type": "execute_result"
    }
   ],
   "source": [
    "df = get_daily_valuation(trade_date + timedelta(days=1), portfolio_code)\n",
    "df"
   ],
   "metadata": {
    "collapsed": false,
    "pycharm": {
     "name": "#%%\n"
    }
   }
  },
  {
   "cell_type": "markdown",
   "source": [
    "# Day 3\n",
    "\n",
    "On day 3, we again run the same query and observe a daily gain, as well as the latest market value and price."
   ],
   "metadata": {
    "collapsed": false
   }
  },
  {
   "cell_type": "code",
   "execution_count": 43,
   "outputs": [
    {
     "data": {
      "text/plain": "   Valuation/PV/Amount            InstrumentName  ClientInternal  \\\n0            90,625.00  US BOND FUTR OPTN Dec21C  OPT-USZ1C15721   \n1           -85,937.50                       USD            None   \n\n   Instrument/Definition/ContractSize  Quotes/Price  Holding/default/Units  \\\n0                          100,000.00          0.91                 100.00   \n1                                1.00           nan             -85,937.50   \n\n   Valuation/Exposure  PnL (1-day)  \n0           90,625.00     6,250.00  \n1          -85,937.50         0.00  ",
      "text/html": "<div>\n<style scoped>\n    .dataframe tbody tr th:only-of-type {\n        vertical-align: middle;\n    }\n\n    .dataframe tbody tr th {\n        vertical-align: top;\n    }\n\n    .dataframe thead th {\n        text-align: right;\n    }\n</style>\n<table border=\"1\" class=\"dataframe\">\n  <thead>\n    <tr style=\"text-align: right;\">\n      <th></th>\n      <th>Valuation/PV/Amount</th>\n      <th>InstrumentName</th>\n      <th>ClientInternal</th>\n      <th>Instrument/Definition/ContractSize</th>\n      <th>Quotes/Price</th>\n      <th>Holding/default/Units</th>\n      <th>Valuation/Exposure</th>\n      <th>PnL (1-day)</th>\n    </tr>\n  </thead>\n  <tbody>\n    <tr>\n      <th>0</th>\n      <td>90,625.00</td>\n      <td>US BOND FUTR OPTN Dec21C</td>\n      <td>OPT-USZ1C15721</td>\n      <td>100,000.00</td>\n      <td>0.91</td>\n      <td>100.00</td>\n      <td>90,625.00</td>\n      <td>6,250.00</td>\n    </tr>\n    <tr>\n      <th>1</th>\n      <td>-85,937.50</td>\n      <td>USD</td>\n      <td>None</td>\n      <td>1.00</td>\n      <td>nan</td>\n      <td>-85,937.50</td>\n      <td>-85,937.50</td>\n      <td>0.00</td>\n    </tr>\n  </tbody>\n</table>\n</div>"
     },
     "execution_count": 43,
     "metadata": {},
     "output_type": "execute_result"
    }
   ],
   "source": [
    "df = get_daily_valuation(trade_date + timedelta(days=2), portfolio_code)\n",
    "df\n"
   ],
   "metadata": {
    "collapsed": false,
    "pycharm": {
     "name": "#%%\n"
    }
   }
  }
 ],
 "metadata": {
  "kernelspec": {
   "display_name": "Python 3",
   "language": "python",
   "name": "python3"
  },
  "language_info": {
   "codemirror_mode": {
    "name": "ipython",
    "version": 3
   },
   "file_extension": ".py",
   "mimetype": "text/x-python",
   "name": "python",
   "nbconvert_exporter": "python",
   "pygments_lexer": "ipython3",
   "version": "3.8.5"
  }
 },
 "nbformat": 4,
 "nbformat_minor": 1
}