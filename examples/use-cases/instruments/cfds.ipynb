{
 "cells": [
  {
   "cell_type": "code",
   "execution_count": 39,
   "metadata": {},
   "outputs": [],
   "source": [
    "from lusidtools.jupyter_tools import toggle_code"
   ]
  },
  {
   "cell_type": "markdown",
   "metadata": {},
   "source": [
    "# Calculating Intraday P&L for CFD's with and without Daily Close outs"
   ]
  },
  {
   "cell_type": "markdown",
   "metadata": {},
   "source": [
    "In this notebook, we demonstrate how a Contract for Difference (CFD) can be booked in LUSID.\n",
    "We will also demonstrate how you can then value this instrument and calculate it's PnL in both the non-close out and close out method.\n",
    "\n",
    "## AMZN CFD with Unrealized P&L ('non-close out')\n",
    "For our non-close out CFD we will create a CFD on Amazon stock. This will just have a regular valuation and the PnL will be unrealized.\n",
    "\n",
    "## AAPL CFD with Realized P&L ('close out)\n",
    "For our close out CFD we will create a CFD on Apple stock. This will \"realize\" the PnL every day, and book it as a cash position while raising the cost basis of the Apple CFD to reflect the action of taking out the realized PnL."
   ]
  },
  {
   "cell_type": "code",
   "execution_count": 40,
   "metadata": {},
   "outputs": [
    {
     "name": "stdout",
     "output_type": "stream",
     "text": [
      "LUSID Environment Initialised\n",
      "LUSID API Version : 0.6.8297.0\n"
     ]
    }
   ],
   "source": [
    "# Import generic non-LUSID packages\n",
    "import os\n",
    "import pandas as pd\n",
    "import numpy as np\n",
    "from datetime import datetime\n",
    "import json\n",
    "import pytz\n",
    "import time\n",
    "from IPython.core.display import HTML\n",
    "\n",
    "# Import key modules from the LUSID package\n",
    "import lusid as lu\n",
    "import lusid.models as lm\n",
    "\n",
    "# Import key functions from Lusid-Python-Tools and other packages\n",
    "from lusidtools.pandas_utils.lusid_pandas import lusid_response_to_data_frame\n",
    "from lusidtools.cocoon.transaction_type_upload import upsert_transaction_type_alias\n",
    "from lusidtools.lpt.lpt import to_date\n",
    "from lusidjam import RefreshingToken\n",
    "\n",
    "\n",
    "# Set DataFrame display formats\n",
    "pd.set_option(\"display.max_columns\", None)\n",
    "pd.set_option(\"display.max_rows\", None)\n",
    "pd.options.display.float_format = \"{:,.2f}\".format\n",
    "# display(HTML(\"<style>.container { width:90% !important; }</style>\"))\n",
    "\n",
    "# Set the secrets path\n",
    "secrets_path = os.getenv(\"FBN_SECRETS_PATH\")\n",
    "\n",
    "# For running the notebook locally\n",
    "if secrets_path is None:\n",
    "    secrets_path = os.path.join(os.path.dirname(os.getcwd()), \"secrets.json\")\n",
    "\n",
    "# Authenticate our user and create our API client\n",
    "api_factory = lu.utilities.ApiClientFactory(\n",
    "    token=RefreshingToken(), api_secrets_filename=secrets_path\n",
    ")\n",
    "\n",
    "print(\"LUSID Environment Initialised\")\n",
    "print(\n",
    "    \"LUSID API Version :\",\n",
    "    api_factory.build(lu.api.ApplicationMetadataApi).get_lusid_versions().build_version,\n",
    ")"
   ]
  },
  {
   "cell_type": "code",
   "execution_count": 41,
   "metadata": {},
   "outputs": [],
   "source": [
    "# LUSID Variable Definitions\n",
    "portfolio_api = api_factory.build(lu.api.PortfoliosApi)\n",
    "transaction_portfolios_api = api_factory.build(lu.api.TransactionPortfoliosApi)\n",
    "instruments_api = api_factory.build(lu.api.InstrumentsApi)\n",
    "quotes_api = api_factory.build(lu.api.QuotesApi)\n",
    "configuration_recipe_api = api_factory.build(lu.api.ConfigurationRecipeApi)\n",
    "system_configuration_api = api_factory.build(lu.api.SystemConfigurationApi)\n",
    "aggregration_api = api_factory.build(lu.api.AggregationApi)"
   ]
  },
  {
   "cell_type": "code",
   "execution_count": 42,
   "metadata": {},
   "outputs": [],
   "source": [
    "# Define scopes\n",
    "scope = \"ibor\"\n",
    "quotes_scope = \"ibor\"\n",
    "portfolio_code = \"CFDPortfolioForPnLCalc\""
   ]
  },
  {
   "cell_type": "markdown",
   "metadata": {},
   "source": [
    "# 1. Create Portfolio\n",
    "\n",
    "Create the portfolio that will contain the CFDs."
   ]
  },
  {
   "cell_type": "code",
   "execution_count": 43,
   "metadata": {},
   "outputs": [],
   "source": [
    "portfolio_code = \"CFDPortfolioForPnLCalc\"\n",
    "\n",
    "try:\n",
    "    transaction_portfolios_api.create_portfolio(\n",
    "        scope=scope,\n",
    "        create_transaction_portfolio_request=lm.CreateTransactionPortfolioRequest(\n",
    "            display_name=portfolio_code,\n",
    "            code=portfolio_code,\n",
    "            base_currency=\"USD\",\n",
    "            created=\"2010-01-01\",\n",
    "            sub_holding_keys=[],\n",
    "        ),\n",
    "    )\n",
    "\n",
    "except lu.ApiException as e:\n",
    "    print(json.loads(e.body)[\"title\"])"
   ]
  },
  {
   "cell_type": "markdown",
   "metadata": {},
   "source": [
    "# 2. Create Instruments\n",
    "\n",
    "## 2.1 Create the underlying instruments\n",
    "\n",
    "In order to create a derivative on an instrument, we must first create that underlying instrument. As we are planning to create CFDs based on Amazon and Apple, we will upsert the underlying stocks first."
   ]
  },
  {
   "cell_type": "code",
   "execution_count": 44,
   "metadata": {},
   "outputs": [
    {
     "name": "stdout",
     "output_type": "stream",
     "text": [
      "LUID_0000CZRI\n",
      "LUID_0000D662\n"
     ]
    }
   ],
   "source": [
    "# upload AMZN and AAPL Equities\n",
    "\n",
    "equity = lm.SimpleInstrument(\n",
    "    instrument_type=\"SimpleInstrument\", \n",
    "    dom_ccy=\"USD\", \n",
    "    asset_class=\"Equities\", \n",
    "    simple_instrument_type=\"Equity\"\n",
    ")\n",
    "\n",
    "equity_definition = lm.InstrumentDefinition(\n",
    "    name=\"Amazon.com\",\n",
    "    identifiers={\"ClientInternal\": lm.InstrumentIdValue(\"AMZN\"), \"RIC\": lm.InstrumentIdValue(\"AMZN\")},\n",
    "    definition=equity,\n",
    ")\n",
    "\n",
    "# upsert the instrument\n",
    "upsert_request = {\"AMZN\": equity_definition}\n",
    "upsert_response = instruments_api.upsert_instruments(request_body=upsert_request)\n",
    "equity_luid = upsert_response.values[\"AMZN\"].lusid_instrument_id\n",
    "print(equity_luid)\n",
    "\n",
    "equity = lm.SimpleInstrument(\n",
    "    instrument_type=\"SimpleInstrument\", \n",
    "    dom_ccy=\"USD\", \n",
    "    asset_class=\"Equities\", \n",
    "    simple_instrument_type=\"Equity\"\n",
    ")\n",
    "\n",
    "equity_definition = lm.InstrumentDefinition(\n",
    "    name=\"Apple\",\n",
    "    identifiers={\"ClientInternal\": lm.InstrumentIdValue(\"AAPL\")},\n",
    "    definition=equity,\n",
    ")\n",
    "\n",
    "# upsert the instrument\n",
    "upsert_request = {\"AAPL\": equity_definition}\n",
    "upsert_response = instruments_api.upsert_instruments(request_body=upsert_request)\n",
    "equity_luid = upsert_response.values[\"AAPL\"].lusid_instrument_id\n",
    "print(equity_luid)"
   ]
  },
  {
   "cell_type": "markdown",
   "metadata": {},
   "source": [
    "## 2.2 Create the CFDs\n",
    "\n",
    "Now that we have created the underlying stocks, we can create a function to upsert CFDs in LUSID."
   ]
  },
  {
   "cell_type": "code",
   "execution_count": 45,
   "metadata": {},
   "outputs": [],
   "source": [
    "def create_cfd(\n",
    "    cfd_name, \n",
    "    cfd_identifier, \n",
    "    start_date,\n",
    "    contract_size, \n",
    "    pay_ccy, \n",
    "    underlying_ccy, \n",
    "    underlying_code,\n",
    "    underlying_identifier,\n",
    "    reference_rate, \n",
    "):\n",
    "\n",
    "    cfd = lm.ContractForDifference( \n",
    "        start_date=start_date,\n",
    "        contract_size=contract_size,\n",
    "        pay_ccy=pay_ccy,\n",
    "        underlying_ccy=underlying_ccy,\n",
    "        code=underlying_code,\n",
    "        underlying_identifier=underlying_identifier,\n",
    "        reference_rate=reference_rate,\n",
    "        type=\"Cash\",\n",
    "        instrument_type=\"ContractForDifference\",\n",
    "    )\n",
    "\n",
    "    # define the instrument to be upserted\n",
    "    cfd_definition = lm.InstrumentDefinition(\n",
    "        name=cfd_name,\n",
    "        identifiers={\"ClientInternal\": lm.InstrumentIdValue(cfd_identifier)},\n",
    "        definition=cfd,\n",
    "    )\n",
    "\n",
    "    # upsert the instrument\n",
    "    upsert_request = {cfd_identifier: cfd_definition}\n",
    "    upsert_response = instruments_api.upsert_instruments(request_body=upsert_request)\n",
    "    cfd_luid = upsert_response.values[cfd_identifier].lusid_instrument_id\n",
    "    print(cfd_luid)"
   ]
  },
  {
   "cell_type": "markdown",
   "metadata": {},
   "source": [
    "After creating the function that will upsert CFDs, we can now use this function to create an Amazon and Apple CFD. We open our Amazon contract at a price of USD 3,479, this means that if the price of Amazon goes above that reference rate our contract will be profitable. The CFD tracks the difference in price from a starting point, that starting point is our reference rate."
   ]
  },
  {
   "cell_type": "code",
   "execution_count": 46,
   "metadata": {},
   "outputs": [
    {
     "name": "stdout",
     "output_type": "stream",
     "text": [
      "LUID_0000CZRJ\n"
     ]
    }
   ],
   "source": [
    "    cfd_name = \"AMZN CFD\"\n",
    "    cfd_identifier = \"AMZN_CFD\"\n",
    "    start_date = datetime(2021, 9, 1, 00, tzinfo=pytz.utc)\n",
    "    contract_size = 50\n",
    "    pay_ccy = \"USD\"\n",
    "    underlying_ccy = \"USD\"\n",
    "    underlying_code = \"LUID_0000CZRI\"\n",
    "    underlying_identifier = \"LusidInstrumentId\"\n",
    "    reference_rate = 3479\n",
    "\n",
    "    create_cfd(\n",
    "        cfd_name, \n",
    "        cfd_identifier, \n",
    "        start_date,\n",
    "        contract_size, \n",
    "        pay_ccy, \n",
    "        underlying_ccy, \n",
    "        underlying_code,\n",
    "        underlying_identifier, \n",
    "        reference_rate\n",
    "    )\n"
   ]
  },
  {
   "cell_type": "markdown",
   "metadata": {},
   "source": [
    "Note that for the AAPL CFD, we will use a close-out method to realize our PnL on a monthly basis. To accomplish this, we have to set the reference rate to 0."
   ]
  },
  {
   "cell_type": "code",
   "execution_count": 47,
   "metadata": {},
   "outputs": [
    {
     "name": "stdout",
     "output_type": "stream",
     "text": [
      "LUID_0000D663\n"
     ]
    }
   ],
   "source": [
    "    cfd_name = \"AAPL CFD\"\n",
    "    cfd_identifier = \"AAPL_CFD\"\n",
    "    start_date = datetime(2021, 9, 1, 00, tzinfo=pytz.utc)\n",
    "    contract_size = 100\n",
    "    pay_ccy = \"USD\"\n",
    "    underlying_ccy = \"USD\"\n",
    "    underlying_code = \"LUID_0000D662\"\n",
    "    underlying_identifier = \"LusidInstrumentId\"\n",
    "    reference_rate = 0\n",
    "\n",
    "    create_cfd(\n",
    "        cfd_name, \n",
    "        cfd_identifier, \n",
    "        start_date,\n",
    "        contract_size, \n",
    "        pay_ccy, \n",
    "        underlying_ccy, \n",
    "        underlying_code,\n",
    "        underlying_identifier, \n",
    "        reference_rate\n",
    "    )"
   ]
  },
  {
   "cell_type": "markdown",
   "metadata": {},
   "source": [
    "# 3. Transactions\n",
    "\n",
    "We have to generate transaction types to reflect the opening of a new CFD contract and to realise a change in PnL for the close out CFD.\n",
    "\n",
    "LUSID allows us to use custom movements, we structure the OpenContract type which just has to add the contract to our portfolio. We also create the RealisePnLIncrease type, which will increase the cost basis of our position and increase the cash by the realized PnL of that day."
   ]
  },
  {
   "cell_type": "markdown",
   "metadata": {},
   "source": [
    "## 3.1 Create Transaction Types"
   ]
  },
  {
   "cell_type": "code",
   "execution_count": 48,
   "metadata": {},
   "outputs": [],
   "source": [
    "new_transaction_config = [\n",
    "    lm.TransactionConfigurationDataRequest(\n",
    "        aliases=[\n",
    "            lm.TransactionConfigurationTypeAlias(\n",
    "                type=\"OpenContract\",\n",
    "                description=\"A CFD transaction type\",\n",
    "                transaction_class=\"default\",\n",
    "                transaction_group=\"default\",\n",
    "                transaction_roles=\"Longer\",\n",
    "            )\n",
    "        ],\n",
    "        movements=[\n",
    "            lm.TransactionConfigurationMovementDataRequest(\n",
    "                movement_types=\"StockMovement\",\n",
    "                side=\"Side1\",\n",
    "                direction=1,\n",
    "                properties=None,\n",
    "                mappings=[],\n",
    "            )\n",
    "        ],\n",
    "        properties=None,\n",
    "    ),\n",
    "    lm.TransactionConfigurationDataRequest(    \n",
    "        aliases=[        \n",
    "            lm.TransactionConfigurationTypeAlias(\n",
    "                type=\"RealisePnLIncrease\",\n",
    "                description=\"Increase cost basis and adjust cash\",\n",
    "                transaction_class=\"default\",\n",
    "                transaction_group=\"default\",\n",
    "                transaction_roles=\"Longer\",\n",
    "            )\n",
    "        ],\n",
    "        movements=[\n",
    "            lm.TransactionConfigurationMovementDataRequest(\n",
    "                movement_types=\"StockMovement\",\n",
    "                side=\"Side1\",\n",
    "                direction=1,\n",
    "                properties=None,\n",
    "                mappings=[],\n",
    "            ),lm.TransactionConfigurationMovementDataRequest(\n",
    "                movement_types=\"CashReceivable\",\n",
    "                side=\"Side2\",\n",
    "                direction=1,\n",
    "                properties=None,\n",
    "                mappings=[],\n",
    "            )\n",
    "        ],\n",
    "        properties=None,\n",
    "    ),\n",
    "    lm.TransactionConfigurationDataRequest(    \n",
    "        aliases=[        \n",
    "            lm.TransactionConfigurationTypeAlias(\n",
    "                type=\"RealisePnLDecrease\",\n",
    "                description=\"Decrease cost basis and adjust cash\",\n",
    "                transaction_class=\"default\",\n",
    "                transaction_group=\"default\",\n",
    "                transaction_roles=\"Longer\",\n",
    "            )\n",
    "        ],\n",
    "        movements=[\n",
    "            lm.TransactionConfigurationMovementDataRequest(\n",
    "                movement_types=\"StockMovement\",\n",
    "                side=\"Side1\",\n",
    "                direction=-1,\n",
    "                properties=None,\n",
    "                mappings=[],\n",
    "            ),lm.TransactionConfigurationMovementDataRequest(\n",
    "                movement_types=\"CashReceivable\",\n",
    "                side=\"Side2\",\n",
    "                direction=-1,\n",
    "                properties=None,\n",
    "                mappings=[],\n",
    "            )\n",
    "        ],\n",
    "        properties=None,\n",
    "    )\n",
    "]\n",
    "\n",
    "new_txn_config = upsert_transaction_type_alias(\n",
    "    api_factory, new_transaction_config=new_transaction_config\n",
    ")"
   ]
  },
  {
   "cell_type": "markdown",
   "metadata": {},
   "source": [
    "## 3.2 Book Transactions"
   ]
  },
  {
   "cell_type": "markdown",
   "metadata": {},
   "source": [
    "We book in our transactions, note that we close out our Apple position on a monthly basis, so once acquired we use our RealisePnLIncrease/Decrease transaction type each month to Realize the PnL of the previous month."
   ]
  },
  {
   "cell_type": "code",
   "execution_count": 49,
   "metadata": {},
   "outputs": [
    {
     "data": {
      "text/html": [
       "<div>\n",
       "<style scoped>\n",
       "    .dataframe tbody tr th:only-of-type {\n",
       "        vertical-align: middle;\n",
       "    }\n",
       "\n",
       "    .dataframe tbody tr th {\n",
       "        vertical-align: top;\n",
       "    }\n",
       "\n",
       "    .dataframe thead th {\n",
       "        text-align: right;\n",
       "    }\n",
       "</style>\n",
       "<table border=\"1\" class=\"dataframe\">\n",
       "  <thead>\n",
       "    <tr style=\"text-align: right;\">\n",
       "      <th></th>\n",
       "      <th>txn_id</th>\n",
       "      <th>type</th>\n",
       "      <th>client_id</th>\n",
       "      <th>trade_date</th>\n",
       "      <th>settlement_date</th>\n",
       "      <th>quantity</th>\n",
       "      <th>price</th>\n",
       "      <th>total_consideration</th>\n",
       "      <th>currency</th>\n",
       "      <th>portfolio</th>\n",
       "    </tr>\n",
       "  </thead>\n",
       "  <tbody>\n",
       "    <tr>\n",
       "      <th>0</th>\n",
       "      <td>txn001</td>\n",
       "      <td>OpenContract</td>\n",
       "      <td>AMZN_CFD</td>\n",
       "      <td>2021-09-01T08:00:00Z</td>\n",
       "      <td>2021-09-01T08:00:00Z</td>\n",
       "      <td>100</td>\n",
       "      <td>3,479.00</td>\n",
       "      <td>17,395,000.00</td>\n",
       "      <td>USD</td>\n",
       "      <td>CFDPortfolioForPnLCalc</td>\n",
       "    </tr>\n",
       "    <tr>\n",
       "      <th>1</th>\n",
       "      <td>co_txn001</td>\n",
       "      <td>OpenContract</td>\n",
       "      <td>AAPL_CFD</td>\n",
       "      <td>2021-09-01T08:00:00Z</td>\n",
       "      <td>2021-09-01T08:00:00Z</td>\n",
       "      <td>100</td>\n",
       "      <td>152</td>\n",
       "      <td>1,520,000.00</td>\n",
       "      <td>USD</td>\n",
       "      <td>CFDPortfolioForPnLCalc</td>\n",
       "    </tr>\n",
       "  </tbody>\n",
       "</table>\n",
       "</div>"
      ],
      "text/plain": [
       "      txn_id          type client_id            trade_date  \\\n",
       "0     txn001  OpenContract  AMZN_CFD  2021-09-01T08:00:00Z   \n",
       "1  co_txn001  OpenContract  AAPL_CFD  2021-09-01T08:00:00Z   \n",
       "\n",
       "        settlement_date  quantity     price total_consideration currency  \\\n",
       "0  2021-09-01T08:00:00Z       100  3,479.00       17,395,000.00      USD   \n",
       "1  2021-09-01T08:00:00Z       100       152        1,520,000.00      USD   \n",
       "\n",
       "                portfolio  \n",
       "0  CFDPortfolioForPnLCalc  \n",
       "1  CFDPortfolioForPnLCalc  "
      ]
     },
     "execution_count": 49,
     "metadata": {},
     "output_type": "execute_result"
    }
   ],
   "source": [
    "transactions = pd.read_csv(\"data/cfd_transaction_data.csv\")\n",
    "transactions"
   ]
  },
  {
   "cell_type": "code",
   "execution_count": 50,
   "metadata": {},
   "outputs": [
    {
     "name": "stdout",
     "output_type": "stream",
     "text": [
      "Transactions succesfully updated at time: 2021-12-07 16:30:02.843187+00:00\n"
     ]
    }
   ],
   "source": [
    "for portfolio_code, grouped_df in transactions.groupby('portfolio'):\n",
    "\n",
    "    transaction_request=[\n",
    "            lm.TransactionRequest(\n",
    "                transaction_id=row[\"txn_id\"],\n",
    "                type=row[\"type\"],\n",
    "                instrument_identifiers={\n",
    "                    \"Instrument/default/ClientInternal\" :row[\"client_id\"]\n",
    "                },\n",
    "                transaction_date=row[\"trade_date\"],\n",
    "                settlement_date=row[\"settlement_date\"],\n",
    "                units=row[\"quantity\"],\n",
    "                transaction_price=lm.TransactionPrice(\n",
    "                    price=row[\"price\"], type=\"Price\"\n",
    "                ),\n",
    "                total_consideration=lm.CurrencyAndAmount(\n",
    "                    amount=row[\"total_consideration\"], currency=row[\"currency\"]\n",
    "                ),\n",
    "            ) for index, row in grouped_df.iterrows()\n",
    "        ]\n",
    "\n",
    "    response = transaction_portfolios_api.upsert_transactions(\n",
    "        scope=scope,\n",
    "        code=portfolio_code,\n",
    "        transaction_request=transaction_request\n",
    "      )\n",
    "\n",
    "    print(f\"Transactions succesfully updated at time: {response.version.as_at_date}\")"
   ]
  },
  {
   "cell_type": "markdown",
   "metadata": {},
   "source": [
    "# 4. Quotes"
   ]
  },
  {
   "cell_type": "markdown",
   "metadata": {},
   "source": [
    "For our CFD to work, we will need quotes for the underlying instruments. Here, we will upload quotes for Amazon and Apple 3 times a day (at 8:00, 12:00 and 17:00). We use the Luid's we generated when creating the instrument in part 2.1 of this notebook."
   ]
  },
  {
   "cell_type": "code",
   "execution_count": 51,
   "metadata": {},
   "outputs": [
    {
     "data": {
      "text/html": [
       "<div>\n",
       "<style scoped>\n",
       "    .dataframe tbody tr th:only-of-type {\n",
       "        vertical-align: middle;\n",
       "    }\n",
       "\n",
       "    .dataframe tbody tr th {\n",
       "        vertical-align: top;\n",
       "    }\n",
       "\n",
       "    .dataframe thead th {\n",
       "        text-align: right;\n",
       "    }\n",
       "</style>\n",
       "<table border=\"1\" class=\"dataframe\">\n",
       "  <thead>\n",
       "    <tr style=\"text-align: right;\">\n",
       "      <th></th>\n",
       "      <th>luid</th>\n",
       "      <th>date</th>\n",
       "      <th>price</th>\n",
       "      <th>currency</th>\n",
       "    </tr>\n",
       "  </thead>\n",
       "  <tbody>\n",
       "    <tr>\n",
       "      <th>0</th>\n",
       "      <td>LUID_0000CZRI</td>\n",
       "      <td>2021-09-01T08:00:00Z</td>\n",
       "      <td>3,479.00</td>\n",
       "      <td>USD</td>\n",
       "    </tr>\n",
       "    <tr>\n",
       "      <th>1</th>\n",
       "      <td>LUID_0000CZRI</td>\n",
       "      <td>2021-09-02T08:00:00Z</td>\n",
       "      <td>3,480.00</td>\n",
       "      <td>USD</td>\n",
       "    </tr>\n",
       "    <tr>\n",
       "      <th>2</th>\n",
       "      <td>LUID_0000CZRI</td>\n",
       "      <td>2021-09-30T08:00:00Z</td>\n",
       "      <td>3,250.00</td>\n",
       "      <td>USD</td>\n",
       "    </tr>\n",
       "    <tr>\n",
       "      <th>3</th>\n",
       "      <td>LUID_0000CZRI</td>\n",
       "      <td>2021-10-30T08:00:00Z</td>\n",
       "      <td>3,450.00</td>\n",
       "      <td>USD</td>\n",
       "    </tr>\n",
       "    <tr>\n",
       "      <th>4</th>\n",
       "      <td>LUID_0000D662</td>\n",
       "      <td>2021-09-01T08:00:00Z</td>\n",
       "      <td>152</td>\n",
       "      <td>USD</td>\n",
       "    </tr>\n",
       "  </tbody>\n",
       "</table>\n",
       "</div>"
      ],
      "text/plain": [
       "            luid                  date     price currency\n",
       "0  LUID_0000CZRI  2021-09-01T08:00:00Z  3,479.00      USD\n",
       "1  LUID_0000CZRI  2021-09-02T08:00:00Z  3,480.00      USD\n",
       "2  LUID_0000CZRI  2021-09-30T08:00:00Z  3,250.00      USD\n",
       "3  LUID_0000CZRI  2021-10-30T08:00:00Z  3,450.00      USD\n",
       "4  LUID_0000D662  2021-09-01T08:00:00Z       152      USD"
      ]
     },
     "execution_count": 51,
     "metadata": {},
     "output_type": "execute_result"
    }
   ],
   "source": [
    "underlying_prices = pd.read_csv(\"data/cfd_underlying_quotes_data.csv\")\n",
    "underlying_prices.head()"
   ]
  },
  {
   "cell_type": "code",
   "execution_count": 52,
   "metadata": {},
   "outputs": [
    {
     "name": "stdout",
     "output_type": "stream",
     "text": [
      "Quote successfully loaded into LUSID. 8 quotes loaded.\n"
     ]
    }
   ],
   "source": [
    "# Create quotes request\n",
    "instrument_quotes = {\n",
    "    index: lm.UpsertQuoteRequest(\n",
    "        quote_id=lm.QuoteId(\n",
    "            quote_series_id=lm.QuoteSeriesId(\n",
    "                provider=\"Lusid\",\n",
    "                instrument_id=row[\"luid\"],\n",
    "                instrument_id_type=\"LusidInstrumentId\",\n",
    "                quote_type=\"Price\",\n",
    "                field=\"mid\",\n",
    "            ),\n",
    "            effective_at=to_date(row[\"date\"]),\n",
    "        ),\n",
    "        metric_value=lm.MetricValue(value=row[\"price\"], unit=row[\"currency\"]),\n",
    "    )\n",
    "    for index, row in underlying_prices.iterrows()\n",
    "}\n",
    "\n",
    "# Upsert the quotes into LUSID\n",
    "response = quotes_api.upsert_quotes(scope=scope, request_body=instrument_quotes)\n",
    "\n",
    "if response.failed == {}:\n",
    "    print(\n",
    "        f\"Quote successfully loaded into LUSID. {len(response.values)} quotes loaded.\"\n",
    "    )\n",
    "\n",
    "else:\n",
    "    print(\n",
    "        f\"Some failures occurred during quotes upsertion, {len(response.failed)} did not get loaded into LUSID.\"\n",
    "    )"
   ]
  },
  {
   "cell_type": "markdown",
   "metadata": {},
   "source": [
    "# 5. Valuations\n",
    "\n",
    "Once we have created the CFDs and loaded them in our portfolio, we can now value the portfolio. The recipe below describes how we will go about valuing these instruments. It details which model we are using, in this case the \"Constant Time Value of Money\" model supplied by Lusid."
   ]
  },
  {
   "cell_type": "markdown",
   "metadata": {},
   "source": [
    "## 5.1 Create Valuation Recipe"
   ]
  },
  {
   "cell_type": "code",
   "execution_count": 53,
   "metadata": {},
   "outputs": [],
   "source": [
    "# Create a recipe to perform a valuation\n",
    "configuration_recipe = lm.ConfigurationRecipe(\n",
    "    scope=scope,\n",
    "    code=\"cfdValuation\",\n",
    "    market=lm.MarketContext(\n",
    "        market_rules=[\n",
    "            lm.MarketDataKeyRule(\n",
    "                key=\"Equity.*.*\",\n",
    "                supplier=\"Lusid\",\n",
    "                data_scope=scope,\n",
    "                quote_type=\"Price\",\n",
    "                field=\"mid\",\n",
    "                quote_interval=\"5D.0D\",\n",
    "            )\n",
    "        ],\n",
    "        suppliers=lm.MarketContextSuppliers(\n",
    "            commodity=\"Lusid\", credit=\"Lusid\", equity=\"Lusid\", fx=\"Lusid\", rates=\"Lusid\"\n",
    "        ),\n",
    "        options=lm.MarketOptions(\n",
    "            default_supplier=\"Lusid\",\n",
    "            default_instrument_code_type=\"LusidInstrumentId\",\n",
    "            default_scope=scope,\n",
    "        ),\n",
    "    ),\n",
    "    pricing=lm.PricingContext(\n",
    "        model_rules=[\n",
    "            lm.VendorModelRule(\n",
    "                supplier=\"Lusid\",                \n",
    "                model_name=\"ConstantTimeValueOfMoney\",\n",
    "                instrument_type=\"ContractForDifference\",\n",
    "                parameters=\"{}\",\n",
    "            )\n",
    "        ]\n",
    "    ),\n",
    ")\n",
    "\n",
    "upsert_configuration_recipe_response = (\n",
    "    configuration_recipe_api.upsert_configuration_recipe(\n",
    "        upsert_recipe_request=lm.UpsertRecipeRequest(\n",
    "            configuration_recipe=configuration_recipe\n",
    "        )\n",
    "    )\n",
    ")"
   ]
  },
  {
   "cell_type": "markdown",
   "metadata": {},
   "source": [
    "## 5.2 Create Valuation Function\n",
    "\n",
    "Once we have made a recipe, we can now create a function that outputs a dataframe with the valuation of our portfolio."
   ]
  },
  {
   "cell_type": "code",
   "execution_count": 54,
   "metadata": {},
   "outputs": [],
   "source": [
    "def get_daily_cfd_val(date, portfolio_code):\n",
    "\n",
    "    valuation_request = lm.ValuationRequest(\n",
    "        recipe_id=lm.ResourceId(scope=scope, code=\"cfdValuation\"),\n",
    "        metrics=[\n",
    "            lm.AggregateSpec(\"Instrument/default/Name\", \"Value\"),\n",
    "            lm.AggregateSpec(\"Instrument/Definition/ContractSize\", \"Value\"),\n",
    "            lm.AggregateSpec(\"Quotes/Price\", \"Value\"),\n",
    "            lm.AggregateSpec(\"Holding/default/Units\", \"Value\"),\n",
    "            lm.AggregateSpec(\"Valuation/PV/Amount\", \"Value\"),\n",
    "            lm.AggregateSpec(\"Valuation/Exposure/Amount\", \"Value\"),\n",
    "            lm.AggregateSpec(\"Valuation/PnL/Tm1\", \"Value\"),\n",
    "            lm.AggregateSpec(\"Holding/default/Cost\", \"Value\"),\n",
    "        ],\n",
    "        group_by=[\"Instrument/default/Name\"],\n",
    "        portfolio_entity_ids=[\n",
    "            lm.PortfolioEntityId(scope=scope, code=portfolio_code)\n",
    "        ],\n",
    "        valuation_schedule=lm.ValuationSchedule(effective_at=date),\n",
    "    )\n",
    "\n",
    "    val_data = aggregration_api.get_valuation(valuation_request=valuation_request).data\n",
    "\n",
    "    vals_df = pd.DataFrame(val_data)\n",
    "\n",
    "    vals_df.rename(\n",
    "        columns={\n",
    "            \"Instrument/default/Name\": \"InstrumentName\",\n",
    "            \"Valuation/PV/Amount\": \"Present Value\",\n",
    "            \"Valuation/Exposure/Amount\": \"Exposure\",\n",
    "            \"Valuation/PnL/Tm1\": \"PnL (1-day)\",\n",
    "        },\n",
    "        inplace=True,\n",
    "    )\n",
    "\n",
    "    try:\n",
    "        return vals_df.drop(\"Aggregation/Errors\", axis=1)\n",
    "    except:\n",
    "        return vals_df"
   ]
  },
  {
   "cell_type": "markdown",
   "metadata": {},
   "source": [
    "## 5.3 Valuations"
   ]
  },
  {
   "cell_type": "markdown",
   "metadata": {},
   "source": [
    "### Day 1\n",
    "\n"
   ]
  },
  {
   "cell_type": "markdown",
   "metadata": {},
   "source": [
    "On day one, both our CFDs are valued at a PV of 0. This is because the price has not moved yet from the price at which we opened these contracts. "
   ]
  },
  {
   "cell_type": "code",
   "execution_count": 55,
   "metadata": {},
   "outputs": [
    {
     "data": {
      "text/html": [
       "<div>\n",
       "<style scoped>\n",
       "    .dataframe tbody tr th:only-of-type {\n",
       "        vertical-align: middle;\n",
       "    }\n",
       "\n",
       "    .dataframe tbody tr th {\n",
       "        vertical-align: top;\n",
       "    }\n",
       "\n",
       "    .dataframe thead th {\n",
       "        text-align: right;\n",
       "    }\n",
       "</style>\n",
       "<table border=\"1\" class=\"dataframe\">\n",
       "  <thead>\n",
       "    <tr style=\"text-align: right;\">\n",
       "      <th></th>\n",
       "      <th>Present Value</th>\n",
       "      <th>Exposure</th>\n",
       "      <th>InstrumentName</th>\n",
       "      <th>Instrument/Definition/ContractSize</th>\n",
       "      <th>Quotes/Price</th>\n",
       "      <th>Holding/default/Units</th>\n",
       "      <th>PnL (1-day)</th>\n",
       "      <th>Holding/default/Cost</th>\n",
       "    </tr>\n",
       "  </thead>\n",
       "  <tbody>\n",
       "    <tr>\n",
       "      <th>0</th>\n",
       "      <td>0.00</td>\n",
       "      <td>0.00</td>\n",
       "      <td>AMZN CFD</td>\n",
       "      <td>50.00</td>\n",
       "      <td>3,479.00</td>\n",
       "      <td>100.00</td>\n",
       "      <td>None</td>\n",
       "      <td>17,395,000.00</td>\n",
       "    </tr>\n",
       "    <tr>\n",
       "      <th>1</th>\n",
       "      <td>0.00</td>\n",
       "      <td>0.00</td>\n",
       "      <td>AAPL CFD</td>\n",
       "      <td>100.00</td>\n",
       "      <td>152.00</td>\n",
       "      <td>100.00</td>\n",
       "      <td>None</td>\n",
       "      <td>1,520,000.00</td>\n",
       "    </tr>\n",
       "  </tbody>\n",
       "</table>\n",
       "</div>"
      ],
      "text/plain": [
       "   Present Value  Exposure InstrumentName  Instrument/Definition/ContractSize  \\\n",
       "0           0.00      0.00       AMZN CFD                               50.00   \n",
       "1           0.00      0.00       AAPL CFD                              100.00   \n",
       "\n",
       "   Quotes/Price  Holding/default/Units PnL (1-day)  Holding/default/Cost  \n",
       "0      3,479.00                 100.00        None         17,395,000.00  \n",
       "1        152.00                 100.00        None          1,520,000.00  "
      ]
     },
     "execution_count": 55,
     "metadata": {},
     "output_type": "execute_result"
    }
   ],
   "source": [
    "get_daily_cfd_val(\"2021-09-01T08:00:00Z\", portfolio_code)"
   ]
  },
  {
   "cell_type": "markdown",
   "metadata": {},
   "source": [
    "### Day 2"
   ]
  },
  {
   "cell_type": "markdown",
   "metadata": {},
   "source": [
    "A day later, the prices of our underlying instruments have changed and thus we have an impact on the PnL and PV of our contracts. We can see that our AMZN CFD has a PV of USD 5,000. This is since the price moved by USD 1, with contract size of 50 and we hold 100 contracts. USD 1 * 50 * 100 = USD 5,000. For our AAPL CFD we have the same situation, but here we have a contract size of 100 thus it becomes USD 1 * 100 * 100 = USD 10,000."
   ]
  },
  {
   "cell_type": "code",
   "execution_count": 56,
   "metadata": {},
   "outputs": [
    {
     "data": {
      "text/html": [
       "<div>\n",
       "<style scoped>\n",
       "    .dataframe tbody tr th:only-of-type {\n",
       "        vertical-align: middle;\n",
       "    }\n",
       "\n",
       "    .dataframe tbody tr th {\n",
       "        vertical-align: top;\n",
       "    }\n",
       "\n",
       "    .dataframe thead th {\n",
       "        text-align: right;\n",
       "    }\n",
       "</style>\n",
       "<table border=\"1\" class=\"dataframe\">\n",
       "  <thead>\n",
       "    <tr style=\"text-align: right;\">\n",
       "      <th></th>\n",
       "      <th>Present Value</th>\n",
       "      <th>Exposure</th>\n",
       "      <th>InstrumentName</th>\n",
       "      <th>Instrument/Definition/ContractSize</th>\n",
       "      <th>Quotes/Price</th>\n",
       "      <th>Holding/default/Units</th>\n",
       "      <th>PnL (1-day)</th>\n",
       "      <th>Holding/default/Cost</th>\n",
       "    </tr>\n",
       "  </thead>\n",
       "  <tbody>\n",
       "    <tr>\n",
       "      <th>0</th>\n",
       "      <td>5,000.00</td>\n",
       "      <td>5,000.00</td>\n",
       "      <td>AMZN CFD</td>\n",
       "      <td>50.00</td>\n",
       "      <td>3,480.00</td>\n",
       "      <td>100.00</td>\n",
       "      <td>5,000.00</td>\n",
       "      <td>17,395,000.00</td>\n",
       "    </tr>\n",
       "    <tr>\n",
       "      <th>1</th>\n",
       "      <td>10,000.00</td>\n",
       "      <td>10,000.00</td>\n",
       "      <td>AAPL CFD</td>\n",
       "      <td>100.00</td>\n",
       "      <td>153.00</td>\n",
       "      <td>100.00</td>\n",
       "      <td>10,000.00</td>\n",
       "      <td>1,520,000.00</td>\n",
       "    </tr>\n",
       "  </tbody>\n",
       "</table>\n",
       "</div>"
      ],
      "text/plain": [
       "   Present Value  Exposure InstrumentName  Instrument/Definition/ContractSize  \\\n",
       "0       5,000.00  5,000.00       AMZN CFD                               50.00   \n",
       "1      10,000.00 10,000.00       AAPL CFD                              100.00   \n",
       "\n",
       "   Quotes/Price  Holding/default/Units  PnL (1-day)  Holding/default/Cost  \n",
       "0      3,480.00                 100.00     5,000.00         17,395,000.00  \n",
       "1        153.00                 100.00    10,000.00          1,520,000.00  "
      ]
     },
     "execution_count": 56,
     "metadata": {},
     "output_type": "execute_result"
    }
   ],
   "source": [
    "get_daily_cfd_val(\"2021-09-02T08:00:00Z\", portfolio_code)"
   ]
  },
  {
   "cell_type": "markdown",
   "metadata": {},
   "source": [
    "### A month later"
   ]
  },
  {
   "cell_type": "markdown",
   "metadata": {},
   "source": [
    "Once the first month has passed, we can see a loss on our AMZN CFD position as the price has moved down from USD 3,479 to USD 3,250. Multiplied by contract size and units we can find our PV which is USD 229 * 50 * USD 1,145,000. We don't close out this position on a monthly basis and this is thus our unrealized PnL.\n",
    "\n",
    "The AAPL CFD however, we close out on a monthly basis and thus book in our PnLDecrease transaction. This results in subtracting the P&L of 1 month from our PV and then adding it as cash. The PnL is USD 12 * 100 * 100 = USD 120,000.\n",
    "We remove the loss from our AAPL CFD position, altering our cost basis and creating a negative cash position of USD 120,000. We book in the close out for October at the same time, which we can see the calculation of a few cells below."
   ]
  },
  {
   "cell_type": "code",
   "execution_count": 57,
   "metadata": {},
   "outputs": [
    {
     "data": {
      "text/html": [
       "<div>\n",
       "<style scoped>\n",
       "    .dataframe tbody tr th:only-of-type {\n",
       "        vertical-align: middle;\n",
       "    }\n",
       "\n",
       "    .dataframe tbody tr th {\n",
       "        vertical-align: top;\n",
       "    }\n",
       "\n",
       "    .dataframe thead th {\n",
       "        text-align: right;\n",
       "    }\n",
       "</style>\n",
       "<table border=\"1\" class=\"dataframe\">\n",
       "  <thead>\n",
       "    <tr style=\"text-align: right;\">\n",
       "      <th></th>\n",
       "      <th>txn_id</th>\n",
       "      <th>type</th>\n",
       "      <th>client_id</th>\n",
       "      <th>trade_date</th>\n",
       "      <th>settlement_date</th>\n",
       "      <th>quantity</th>\n",
       "      <th>price</th>\n",
       "      <th>total_consideration</th>\n",
       "      <th>currency</th>\n",
       "      <th>portfolio</th>\n",
       "    </tr>\n",
       "  </thead>\n",
       "  <tbody>\n",
       "    <tr>\n",
       "      <th>0</th>\n",
       "      <td>co_rpnlb_txn001</td>\n",
       "      <td>RealisePnLDecrease</td>\n",
       "      <td>AAPL_CFD</td>\n",
       "      <td>2021-09-30T08:00:00Z</td>\n",
       "      <td>2021-09-30T08:00:00Z</td>\n",
       "      <td>0</td>\n",
       "      <td>0</td>\n",
       "      <td>120,000.00</td>\n",
       "      <td>USD</td>\n",
       "      <td>CFDPortfolioForPnLCalc</td>\n",
       "    </tr>\n",
       "    <tr>\n",
       "      <th>1</th>\n",
       "      <td>co_rpnlb_txn002</td>\n",
       "      <td>RealisePnLIncrease</td>\n",
       "      <td>AAPL_CFD</td>\n",
       "      <td>2021-10-30T08:00:00Z</td>\n",
       "      <td>2021-10-30T08:00:00Z</td>\n",
       "      <td>0</td>\n",
       "      <td>0</td>\n",
       "      <td>140,000.00</td>\n",
       "      <td>USD</td>\n",
       "      <td>CFDPortfolioForPnLCalc</td>\n",
       "    </tr>\n",
       "  </tbody>\n",
       "</table>\n",
       "</div>"
      ],
      "text/plain": [
       "            txn_id                type client_id            trade_date  \\\n",
       "0  co_rpnlb_txn001  RealisePnLDecrease  AAPL_CFD  2021-09-30T08:00:00Z   \n",
       "1  co_rpnlb_txn002  RealisePnLIncrease  AAPL_CFD  2021-10-30T08:00:00Z   \n",
       "\n",
       "        settlement_date  quantity  price total_consideration currency  \\\n",
       "0  2021-09-30T08:00:00Z         0      0          120,000.00      USD   \n",
       "1  2021-10-30T08:00:00Z         0      0          140,000.00      USD   \n",
       "\n",
       "                portfolio  \n",
       "0  CFDPortfolioForPnLCalc  \n",
       "1  CFDPortfolioForPnLCalc  "
      ]
     },
     "execution_count": 57,
     "metadata": {},
     "output_type": "execute_result"
    }
   ],
   "source": [
    "co_transactions = pd.read_csv(\"data/cfd_close_out_transactions.csv\")\n",
    "co_transactions"
   ]
  },
  {
   "cell_type": "code",
   "execution_count": 58,
   "metadata": {},
   "outputs": [
    {
     "name": "stdout",
     "output_type": "stream",
     "text": [
      "Transactions succesfully updated at time: 2021-12-07 16:30:06.524513+00:00\n"
     ]
    }
   ],
   "source": [
    "for portfolio_code, grouped_df in co_transactions.groupby('portfolio'):\n",
    "\n",
    "    transaction_request=[\n",
    "            lm.TransactionRequest(\n",
    "                transaction_id=row[\"txn_id\"],\n",
    "                type=row[\"type\"],\n",
    "                instrument_identifiers={\n",
    "                    \"Instrument/default/ClientInternal\" :row[\"client_id\"]\n",
    "                },\n",
    "                transaction_date=row[\"trade_date\"],\n",
    "                settlement_date=row[\"settlement_date\"],\n",
    "                units=row[\"quantity\"],\n",
    "                transaction_price=lm.TransactionPrice(\n",
    "                    price=row[\"price\"], type=\"Price\"\n",
    "                ),\n",
    "                total_consideration=lm.CurrencyAndAmount(\n",
    "                    amount=row[\"total_consideration\"], currency=row[\"currency\"]\n",
    "                ),\n",
    "            ) for index, row in grouped_df.iterrows()\n",
    "        ]\n",
    "\n",
    "    response = transaction_portfolios_api.upsert_transactions(\n",
    "        scope=scope,\n",
    "        code=portfolio_code,\n",
    "        transaction_request=transaction_request\n",
    "      )\n",
    "\n",
    "    print(f\"Transactions succesfully updated at time: {response.version.as_at_date}\")"
   ]
  },
  {
   "cell_type": "code",
   "execution_count": 59,
   "metadata": {},
   "outputs": [
    {
     "data": {
      "text/html": [
       "<div>\n",
       "<style scoped>\n",
       "    .dataframe tbody tr th:only-of-type {\n",
       "        vertical-align: middle;\n",
       "    }\n",
       "\n",
       "    .dataframe tbody tr th {\n",
       "        vertical-align: top;\n",
       "    }\n",
       "\n",
       "    .dataframe thead th {\n",
       "        text-align: right;\n",
       "    }\n",
       "</style>\n",
       "<table border=\"1\" class=\"dataframe\">\n",
       "  <thead>\n",
       "    <tr style=\"text-align: right;\">\n",
       "      <th></th>\n",
       "      <th>Present Value</th>\n",
       "      <th>Exposure</th>\n",
       "      <th>InstrumentName</th>\n",
       "      <th>Instrument/Definition/ContractSize</th>\n",
       "      <th>Quotes/Price</th>\n",
       "      <th>Holding/default/Units</th>\n",
       "      <th>PnL (1-day)</th>\n",
       "      <th>Holding/default/Cost</th>\n",
       "    </tr>\n",
       "  </thead>\n",
       "  <tbody>\n",
       "    <tr>\n",
       "      <th>0</th>\n",
       "      <td>-1,145,000.00</td>\n",
       "      <td>-1,145,000.00</td>\n",
       "      <td>AMZN CFD</td>\n",
       "      <td>50.00</td>\n",
       "      <td>3,250.00</td>\n",
       "      <td>100.00</td>\n",
       "      <td>-255,600.00</td>\n",
       "      <td>17,395,000.00</td>\n",
       "    </tr>\n",
       "    <tr>\n",
       "      <th>1</th>\n",
       "      <td>0.00</td>\n",
       "      <td>0.00</td>\n",
       "      <td>AAPL CFD</td>\n",
       "      <td>100.00</td>\n",
       "      <td>140.00</td>\n",
       "      <td>100.00</td>\n",
       "      <td>-28,300.00</td>\n",
       "      <td>1,400,000.00</td>\n",
       "    </tr>\n",
       "    <tr>\n",
       "      <th>2</th>\n",
       "      <td>-120,000.00</td>\n",
       "      <td>-120,000.00</td>\n",
       "      <td>USD</td>\n",
       "      <td>1.00</td>\n",
       "      <td>nan</td>\n",
       "      <td>-120,000.00</td>\n",
       "      <td>0.00</td>\n",
       "      <td>-120,000.00</td>\n",
       "    </tr>\n",
       "  </tbody>\n",
       "</table>\n",
       "</div>"
      ],
      "text/plain": [
       "   Present Value      Exposure InstrumentName  \\\n",
       "0  -1,145,000.00 -1,145,000.00       AMZN CFD   \n",
       "1           0.00          0.00       AAPL CFD   \n",
       "2    -120,000.00   -120,000.00            USD   \n",
       "\n",
       "   Instrument/Definition/ContractSize  Quotes/Price  Holding/default/Units  \\\n",
       "0                               50.00      3,250.00                 100.00   \n",
       "1                              100.00        140.00                 100.00   \n",
       "2                                1.00           nan            -120,000.00   \n",
       "\n",
       "   PnL (1-day)  Holding/default/Cost  \n",
       "0  -255,600.00         17,395,000.00  \n",
       "1   -28,300.00          1,400,000.00  \n",
       "2         0.00           -120,000.00  "
      ]
     },
     "execution_count": 59,
     "metadata": {},
     "output_type": "execute_result"
    }
   ],
   "source": [
    "get_daily_cfd_val(\"2021-09-30T08:00:00Z\", portfolio_code)"
   ]
  },
  {
   "cell_type": "markdown",
   "metadata": {},
   "source": [
    "### Two months later"
   ]
  },
  {
   "cell_type": "markdown",
   "metadata": {},
   "source": [
    "Two months later, we can see we still have a loss on our AMZN CFD position, however it has decreased quite a lot.\n",
    "\n",
    "Our AAPL CFD position however, has now become profitable and we have to perform another monthly close out. The price moved from USD 140 to USD 154 which results in an impact on our PnL of USD 14 * 100 * 100 = USD 140,000. We add this to our prior cash position of USD -120,000 and we get a realized PnL of USD 20,000. The contract itself resets its PV to 0 once again."
   ]
  },
  {
   "cell_type": "code",
   "execution_count": 60,
   "metadata": {},
   "outputs": [
    {
     "data": {
      "text/html": [
       "<div>\n",
       "<style scoped>\n",
       "    .dataframe tbody tr th:only-of-type {\n",
       "        vertical-align: middle;\n",
       "    }\n",
       "\n",
       "    .dataframe tbody tr th {\n",
       "        vertical-align: top;\n",
       "    }\n",
       "\n",
       "    .dataframe thead th {\n",
       "        text-align: right;\n",
       "    }\n",
       "</style>\n",
       "<table border=\"1\" class=\"dataframe\">\n",
       "  <thead>\n",
       "    <tr style=\"text-align: right;\">\n",
       "      <th></th>\n",
       "      <th>Present Value</th>\n",
       "      <th>Exposure</th>\n",
       "      <th>InstrumentName</th>\n",
       "      <th>Instrument/Definition/ContractSize</th>\n",
       "      <th>Quotes/Price</th>\n",
       "      <th>Holding/default/Units</th>\n",
       "      <th>PnL (1-day)</th>\n",
       "      <th>Holding/default/Cost</th>\n",
       "    </tr>\n",
       "  </thead>\n",
       "  <tbody>\n",
       "    <tr>\n",
       "      <th>0</th>\n",
       "      <td>-145,000.00</td>\n",
       "      <td>-145,000.00</td>\n",
       "      <td>AMZN CFD</td>\n",
       "      <td>50.00</td>\n",
       "      <td>3,450.00</td>\n",
       "      <td>100.00</td>\n",
       "      <td>nan</td>\n",
       "      <td>17,395,000.00</td>\n",
       "    </tr>\n",
       "    <tr>\n",
       "      <th>1</th>\n",
       "      <td>0.00</td>\n",
       "      <td>0.00</td>\n",
       "      <td>AAPL CFD</td>\n",
       "      <td>100.00</td>\n",
       "      <td>154.00</td>\n",
       "      <td>100.00</td>\n",
       "      <td>42,000.00</td>\n",
       "      <td>1,540,000.00</td>\n",
       "    </tr>\n",
       "    <tr>\n",
       "      <th>2</th>\n",
       "      <td>20,000.00</td>\n",
       "      <td>20,000.00</td>\n",
       "      <td>USD</td>\n",
       "      <td>1.00</td>\n",
       "      <td>nan</td>\n",
       "      <td>20,000.00</td>\n",
       "      <td>0.00</td>\n",
       "      <td>20,000.00</td>\n",
       "    </tr>\n",
       "  </tbody>\n",
       "</table>\n",
       "</div>"
      ],
      "text/plain": [
       "   Present Value    Exposure InstrumentName  \\\n",
       "0    -145,000.00 -145,000.00       AMZN CFD   \n",
       "1           0.00        0.00       AAPL CFD   \n",
       "2      20,000.00   20,000.00            USD   \n",
       "\n",
       "   Instrument/Definition/ContractSize  Quotes/Price  Holding/default/Units  \\\n",
       "0                               50.00      3,450.00                 100.00   \n",
       "1                              100.00        154.00                 100.00   \n",
       "2                                1.00           nan              20,000.00   \n",
       "\n",
       "   PnL (1-day)  Holding/default/Cost  \n",
       "0          nan         17,395,000.00  \n",
       "1    42,000.00          1,540,000.00  \n",
       "2         0.00             20,000.00  "
      ]
     },
     "execution_count": 60,
     "metadata": {},
     "output_type": "execute_result"
    }
   ],
   "source": [
    "get_daily_cfd_val(\"2021-10-30T08:00:00Z\", portfolio_code)"
   ]
  }
 ],
 "metadata": {
  "interpreter": {
   "hash": "2db524e06e9f5f4ffedc911c917cb75e12dbc923643829bf417064a77eb14d37"
  },
  "kernelspec": {
   "display_name": "Python 3.8.0 64-bit",
   "name": "python3"
  },
  "language_info": {
   "codemirror_mode": {
    "name": "ipython",
    "version": 3
   },
   "file_extension": ".py",
   "mimetype": "text/x-python",
   "name": "python",
   "nbconvert_exporter": "python",
   "pygments_lexer": "ipython3",
   "version": "3.8.0"
  },
  "orig_nbformat": 4
 },
 "nbformat": 4,
 "nbformat_minor": 2
}
