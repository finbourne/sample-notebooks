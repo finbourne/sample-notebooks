{
 "cells": [
  {
   "cell_type": "markdown",
   "metadata": {},
   "source": [
    "# FX Option 2 Trade Comparison\n",
    "\n",
    "This notebook allows the user to set up different types of FXOption with different styles (Digital or American for example), and show impact on valuation over spot and time. The notebook is designed more for testing of different combinations of products.\n",
    "\n",
    "**Table of Contents:**\n",
    "- [1. Create Portfolio](#1.-Create-Portfolio)\n",
    "- [2. Create Instrument](#2.-Create-Instrument)\n",
    "- [3. Upsert Transactions](#3.-Upsert-Transactions)\n",
    "- [4. Upsert FX Market Data](#4.-Upsert-FX-Market-Data)\n",
    "- [5. Create Configuration Recipe](#5.-Create-Configuration-Recipe)\n",
    "- [6. Valuation](#6.-Valuation)\n",
    "- [7. Spot Ladder](#7.-Spot-Ladder)\n"
   ]
  },
  {
   "cell_type": "code",
   "execution_count": 1,
   "metadata": {
    "pycharm": {
     "name": "#%%\n"
    }
   },
   "outputs": [
    {
     "data": {
      "text/html": [
       "<style>.container { width:90% !important; }</style>"
      ],
      "text/plain": [
       "<IPython.core.display.HTML object>"
      ]
     },
     "metadata": {},
     "output_type": "display_data"
    },
    {
     "name": "stdout",
     "output_type": "stream",
     "text": [
      "LUSID Environment Initialised\n",
      "LUSID API Version : 0.6.10089.0\n"
     ]
    }
   ],
   "source": [
    "# Import generic non-LUSID packages\n",
    "import os\n",
    "import pandas as pd\n",
    "from datetime import datetime, timedelta\n",
    "import re\n",
    "import matplotlib.pyplot as plt\n",
    "from matplotlib import cm\n",
    "%matplotlib inline\n",
    "import json\n",
    "import pytz\n",
    "import numpy as np\n",
    "from IPython.core.display import HTML\n",
    "\n",
    "# Import key modules from the LUSID package\n",
    "import lusid\n",
    "import lusid.models as lm\n",
    "import lusid.api as la\n",
    "from lusid.utilities import ApiClientFactory\n",
    "from lusidtools.pandas_utils.lusid_pandas import lusid_response_to_data_frame\n",
    "\n",
    "# Import key functions from Lusid-Python-Tools and other packages\n",
    "from lusidjam import RefreshingToken\n",
    "\n",
    "# Set DataFrame display formats\n",
    "pd.set_option(\"display.max_columns\", None)\n",
    "pd.set_option(\"display.max_rows\", None)\n",
    "pd.options.display.float_format = \"{:,.4f}\".format\n",
    "display(HTML(\"<style>.container { width:90% !important; }</style>\"))\n",
    "\n",
    "# Set the secrets path\n",
    "secrets_path = os.getenv(\"FBN_SECRETS_PATH\")\n",
    "\n",
    "# For running the notebook locally\n",
    "if secrets_path is None:\n",
    "    secrets_path = os.path.join(os.path.dirname(os.getcwd()), \"secrets.json\")\n",
    "\n",
    "# Authenticate our user and create our API client\n",
    "api_factory = ApiClientFactory(\n",
    "    token=RefreshingToken(),\n",
    "    api_secrets_filename = secrets_path)\n",
    "\n",
    "print ('LUSID Environment Initialised')\n",
    "print ('LUSID API Version :', api_factory.build(lusid.api.ApplicationMetadataApi).get_lusid_versions().build_version)"
   ]
  },
  {
   "cell_type": "code",
   "execution_count": 2,
   "metadata": {
    "pycharm": {
     "name": "#%%\n"
    }
   },
   "outputs": [],
   "source": [
    "# Set required APIs\n",
    "portfolio_api = api_factory.build(lusid.api.PortfoliosApi)\n",
    "transaction_portfolios_api = api_factory.build(lusid.api.TransactionPortfoliosApi)\n",
    "instruments_api = api_factory.build(lusid.api.InstrumentsApi)\n",
    "quotes_api = api_factory.build(lusid.api.QuotesApi)\n",
    "configuration_recipe_api = api_factory.build(lusid.api.ConfigurationRecipeApi)\n",
    "complex_market_data_api = api_factory.build(lusid.api.ComplexMarketDataApi)\n",
    "aggregation_api = api_factory.build(lusid.api.AggregationApi)"
   ]
  },
  {
   "cell_type": "code",
   "execution_count": 3,
   "metadata": {
    "pycharm": {
     "name": "#%%\n"
    }
   },
   "outputs": [],
   "source": [
    "# Define scopes\n",
    "scope = \"ibor-option-2\"\n",
    "market_data_scope = \"ibor-opt\"\n",
    "market_supplier = \"Lusid\""
   ]
  },
  {
   "cell_type": "markdown",
   "metadata": {},
   "source": [
    "# 1. Create Portfolio\n",
    "\n",
    "We begin by creating a portfolio that will contain the FX option instruments that we will be looking to price. We will be grouping the OTC deals using a sub-holding key, this will then keep the transactions associated with a particular deal (and not instrument which is the default LUSID behaviour) linked."
   ]
  },
  {
   "cell_type": "code",
   "execution_count": 4,
   "metadata": {},
   "outputs": [
    {
     "name": "stdout",
     "output_type": "stream",
     "text": [
      "Property definition with the following key already exists: Transaction/ibor-option-2/DealId\n"
     ]
    }
   ],
   "source": [
    "# Obtain the LUSID Property Definition API\n",
    "property_definition_api = api_factory.build(la.PropertyDefinitionsApi)\n",
    "\n",
    "# Create a property definition for the SHK in the 'Transaction' domain, with a unique scope and code\n",
    "property_definition = lm.CreatePropertyDefinitionRequest(\n",
    "    domain = \"Transaction\",\n",
    "    scope = scope,\n",
    "    code = \"DealId\",\n",
    "    display_name = \"Deal ID\",\n",
    "    data_type_id = lm.ResourceId(\n",
    "        scope = \"system\",\n",
    "        code = \"string\"\n",
    "    )\n",
    ")\n",
    "\n",
    "# Upsert property definition to LUSID\n",
    "try:\n",
    "    upsert_property_definition_response = property_definition_api.create_property_definition(\n",
    "        create_property_definition_request = property_definition\n",
    "    )\n",
    "    print(f\"Property definition created with the following key: {upsert_property_definition_response.key}\")\n",
    "except lusid.ApiException as e:\n",
    "    if json.loads(e.body)[\"name\"] == \"PropertyAlreadyExists\":\n",
    "            print(f\"Property definition with the following key already exists: {property_definition.domain}/{property_definition.scope}/{property_definition.code}\")\n",
    "\n",
    "# Capture SHK 3-stage property key for future use\n",
    "sub_holding_key = f\"{property_definition.domain}/{property_definition.scope}/{property_definition.code}\""
   ]
  },
  {
   "cell_type": "code",
   "execution_count": 5,
   "metadata": {},
   "outputs": [],
   "source": [
    "def create_portfolio (portfolio_name):\n",
    "   \n",
    "    try:\n",
    "        transaction_portfolios_api.create_portfolio(\n",
    "            scope=scope,\n",
    "            create_transaction_portfolio_request=lm.CreateTransactionPortfolioRequest(\n",
    "                display_name=portfolio_name,\n",
    "                code=portfolio_name,\n",
    "                base_currency=\"EUR\",\n",
    "                created=\"2010-01-01\",\n",
    "                # Register the SHK property with the portfolio\n",
    "                sub_holding_keys = [sub_holding_key],\n",
    "                instrument_scopes=[scope]\n",
    "            ),\n",
    "        )\n",
    "\n",
    "    except lusid.ApiException as e:\n",
    "        print(e.body) "
   ]
  },
  {
   "cell_type": "code",
   "execution_count": 6,
   "metadata": {
    "pycharm": {
     "name": "#%%\n"
    }
   },
   "outputs": [
    {
     "name": "stdout",
     "output_type": "stream",
     "text": [
      "{\"name\":\"PortfolioWithIdAlreadyExists\",\"errorDetails\":[],\"code\":112,\"type\":\"https://docs.lusid.com/#section/Error-Codes/112\",\"title\":\"Could not create a portfolio with id 'fxOption1' because it already exists in scope 'ibor-option-2'.\",\"status\":400,\"detail\":\"Error creating portfolio with id 'fxOption1' in scope 'ibor-option-2' effective at 2010-01-01T00:00:00.0000000+00:00 because it already exists.\",\"instance\":\"https://andrewp.lusid.com/app/insights/logs/0HML73NCNHER2:00000030\",\"extensions\":{}}\n",
      "{\"name\":\"PortfolioWithIdAlreadyExists\",\"errorDetails\":[],\"code\":112,\"type\":\"https://docs.lusid.com/#section/Error-Codes/112\",\"title\":\"Could not create a portfolio with id 'fxOption2' because it already exists in scope 'ibor-option-2'.\",\"status\":400,\"detail\":\"Error creating portfolio with id 'fxOption2' in scope 'ibor-option-2' effective at 2010-01-01T00:00:00.0000000+00:00 because it already exists.\",\"instance\":\"https://andrewp.lusid.com/app/insights/logs/0HML73NCNHER2:00000031\",\"extensions\":{}}\n"
     ]
    }
   ],
   "source": [
    "portfolio_code_opt1 = \"fxOption1\"\n",
    "portfolio_code_opt2 = \"fxOption2\"\n",
    "\n",
    "create_portfolio(portfolio_code_opt1)\n",
    "create_portfolio(portfolio_code_opt2)"
   ]
  },
  {
   "cell_type": "markdown",
   "metadata": {},
   "source": [
    "# 2. Create Instrument\n",
    "\n",
    "We create a helper function to create and upsert the fxOption instrument into LUCID, this will reference the SDK models to populate the required parameters for creating an FX Option. We then populate the instrument variables, and make a call to persist the instrument in LUSID."
   ]
  },
  {
   "cell_type": "code",
   "execution_count": 7,
   "metadata": {
    "pycharm": {
     "name": "#%%\n"
    }
   },
   "outputs": [],
   "source": [
    "# Define function that creates an FX option\n",
    "\n",
    "def create_fx_option(strike, dom_ccy, fgn_ccy, start_date, maturity_date, settlement_date, is_call, is_fx_delivery = True, is_payoff_digital = False, exercise_type = \"European\"):\n",
    "    \n",
    "    return lm.FxOption(\n",
    "        strike = strike,\n",
    "        dom_ccy = dom_ccy,\n",
    "        fgn_ccy = fgn_ccy,\n",
    "        start_date = start_date,\n",
    "        option_maturity_date = maturity_date,\n",
    "        option_settlement_date = settlement_date,\n",
    "        is_call_not_put = is_call,\n",
    "        is_delivery_not_cash = is_fx_delivery,\n",
    "        is_payoff_digital = is_payoff_digital,\n",
    "        instrument_type = \"FxOption\",\n",
    "        dom_amount = 1,\n",
    "        exercise_type = exercise_type\n",
    "    )\n",
    "\n",
    "# Define a function to upsert instrument\n",
    "def upsert_instrument_to_lusid(scope, instrument_definition, name, identifier, identifier_type):\n",
    "        return instruments_api.upsert_instruments(\n",
    "            request_body={\n",
    "                identifier: lm.InstrumentDefinition(\n",
    "                    name=name,\n",
    "                    identifiers={\n",
    "                        identifier_type: lm.InstrumentIdValue(value=identifier)\n",
    "                    },\n",
    "                    definition=instrument_definition,\n",
    "                )\n",
    "            },\n",
    "            scope = scope\n",
    "        )"
   ]
  },
  {
   "cell_type": "markdown",
   "metadata": {},
   "source": [
    "## 2.1 Create Instruments\n",
    "\n",
    "All the informaton about the 2 FXOptions are contained in the next 2 cells, including the pricing model so that all of this data is together.\n",
    "\n",
    "Change this data as you see fit to understand how the different Option types work in LUSID. The table below shows the different model and PayOff Combinations"
   ]
  },
  {
   "cell_type": "markdown",
   "metadata": {},
   "source": [
    "![Init](img/FXOptionSummary.PNG)"
   ]
  },
  {
   "cell_type": "code",
   "execution_count": 8,
   "metadata": {},
   "outputs": [
    {
     "name": "stdout",
     "output_type": "stream",
     "text": [
      "Instrument successfully loaded into LUSID. LUID_00003G7T : EURUSDOption1Demo\n"
     ]
    }
   ],
   "source": [
    "# Set common  trade variables\n",
    "trade_date = datetime(2021, 1, 20, tzinfo=pytz.utc)\n",
    "start_date = trade_date\n",
    "settle_days = 2\n",
    "units = 1000000\n",
    "dom_ccy = \"EUR\"\n",
    "fgn_ccy = \"USD\"\n",
    "strike = 1.2050\n",
    "premium_currency = \"EUR\"\n",
    "identifier_type = \"ClientInternal\"\n",
    "valuation_model_opt1 = \"BlackScholesDigital\"\n",
    "\n",
    "# Option_1:  Choose your parameters.....\n",
    "maturity_date = trade_date + timedelta(days = 30)\n",
    "settlement_date = maturity_date + timedelta(days = 2)\n",
    "\n",
    "option_1_name = \"EUR/USD FX Option \" + maturity_date.strftime(\"%m/%d/%Y\")  + \" \" + str(strike)\n",
    "option_1_identifier = \"EURUSDOption1Demo\"\n",
    "\n",
    "# Create the Instrument\n",
    "option_1_definition = create_fx_option(\n",
    "    strike = strike,\n",
    "    dom_ccy = dom_ccy,\n",
    "    fgn_ccy = fgn_ccy,\n",
    "    start_date = start_date,\n",
    "    maturity_date = maturity_date,\n",
    "    settlement_date = settlement_date,\n",
    "    is_call = False,\n",
    "    is_fx_delivery = False,\n",
    "    is_payoff_digital = True,\n",
    "    exercise_type = \"European\"\n",
    ")\n",
    "\n",
    "# Upsert the instrument\n",
    "response = upsert_instrument_to_lusid(scope, option_1_definition, option_1_name, option_1_identifier, identifier_type)\n",
    "\n",
    "if response.failed == {}:\n",
    "    luid = response.values[option_1_identifier].lusid_instrument_id\n",
    "    print(f\"Instrument successfully loaded into LUSID. {luid} : {option_1_identifier}\")\n",
    "else:\n",
    "    print(f\"Failures occurred during instrument upsertion, {response.failed}\")"
   ]
  },
  {
   "cell_type": "code",
   "execution_count": 9,
   "metadata": {},
   "outputs": [
    {
     "name": "stdout",
     "output_type": "stream",
     "text": [
      "Instrument successfully loaded into LUSID. LUID_00003G6Y : EURUSDOption2Demo\n"
     ]
    }
   ],
   "source": [
    "#Option_2: Choose your parameters.....\n",
    "maturity_date = trade_date + timedelta(days = 30)\n",
    "settlement_date = maturity_date + timedelta(days = 2)\n",
    "\n",
    "option_2_name = \"EUR/USD FX Option \" + maturity_date.strftime(\"%m/%d/%Y\")  + \" \" + str(strike)\n",
    "option_2_identifier = \"EURUSDOption2Demo\"\n",
    "valuation_model_opt2 = \"BjerksundStensland1993\"\n",
    "\n",
    "# Create the Instrument\n",
    "option_2_definition = create_fx_option(\n",
    "    strike = strike,\n",
    "    dom_ccy = dom_ccy,\n",
    "    fgn_ccy = fgn_ccy,\n",
    "    start_date = start_date,\n",
    "    maturity_date = maturity_date,\n",
    "    settlement_date = settlement_date,\n",
    "    is_call = False,\n",
    "    is_fx_delivery = True,\n",
    "    is_payoff_digital = False,\n",
    "    exercise_type = \"American\"\n",
    ")\n",
    "\n",
    "# Upsert the instrument\n",
    "response = upsert_instrument_to_lusid(scope, option_2_definition, option_2_name, option_2_identifier, identifier_type)\n",
    "\n",
    "if response.failed == {}:\n",
    "    luid = response.values[option_2_identifier].lusid_instrument_id\n",
    "    print(f\"Instrument successfully loaded into LUSID. {luid} : {option_2_identifier}\")\n",
    "else:\n",
    "    print(f\"Failures occurred during instrument upsertion, {response.failed}\")"
   ]
  },
  {
   "cell_type": "markdown",
   "metadata": {},
   "source": [
    "# 3. Upsert Transactions\n",
    "\n",
    "Having created the portfolio and the Instruments, we add a Buy transaction against the option to create a position with the costs incurred representing the premium for the option."
   ]
  },
  {
   "cell_type": "code",
   "execution_count": 10,
   "metadata": {
    "pycharm": {
     "name": "#%%\n"
    }
   },
   "outputs": [
    {
     "name": "stdout",
     "output_type": "stream",
     "text": [
      "Transaction successfully updated at time: 2022-09-30 09:47:42.298522+00:00\n"
     ]
    }
   ],
   "source": [
    "# Book a Buy transaction against Option_1. The option here has a premium of 0.02 / notional.\n",
    "premium = 0.02\n",
    "option_1_version = 1\n",
    "deal_1_id = \"TXN001\"\n",
    "\n",
    "opt_txn = lm.TransactionRequest(\n",
    "    transaction_id= deal_1_id + \".\" + str(option_1_version),\n",
    "    type=\"Buy\",\n",
    "    instrument_identifiers={\"Instrument/default/ClientInternal\": option_1_identifier},\n",
    "    transaction_date=trade_date,\n",
    "    settlement_date=trade_date + timedelta(days = settle_days),\n",
    "    units=units,\n",
    "    transaction_price=lm.TransactionPrice(price=premium,type=\"Price\"),\n",
    "    total_consideration=lm.CurrencyAndAmount(amount=premium*units,currency=premium_currency),\n",
    "    exchange_rate=1,\n",
    "    transaction_currency=premium_currency,\n",
    "    # Assign the SHK property to each transaction so it is loaded against each deal_id\n",
    "    properties = {\n",
    "        f\"{sub_holding_key}\": lm.PerpetualProperty(\n",
    "            key = f\"{sub_holding_key}\",\n",
    "            value = lm.PropertyValue(label_value = deal_1_id)\n",
    "        )\n",
    "    },\n",
    ")\n",
    "\n",
    "response = transaction_portfolios_api.upsert_transactions(scope=scope,\n",
    "                                                    code=portfolio_code_opt1,\n",
    "                                                    transaction_request=[opt_txn])\n",
    "\n",
    "print(f\"Transaction successfully updated at time: {response.version.as_at_date}\")\n",
    "\n",
    "option_1_version+=1"
   ]
  },
  {
   "cell_type": "code",
   "execution_count": 11,
   "metadata": {},
   "outputs": [
    {
     "name": "stdout",
     "output_type": "stream",
     "text": [
      "Transaction successfully updated at time: 2022-09-30 09:47:42.589571+00:00\n"
     ]
    }
   ],
   "source": [
    "# Book a Buy transaction against Option_1. The option here has a premium of 0.02 / notional (same as the above option as we want to compare the pay offs)\n",
    "premium = 0.02\n",
    "option_2_version = 1\n",
    "deal_2_id = \"TXN002\"\n",
    "\n",
    "opt_txn = lm.TransactionRequest(\n",
    "    transaction_id= deal_2_id + \".\" + str(option_2_version),\n",
    "    type=\"Buy\",\n",
    "    instrument_identifiers={\"Instrument/default/ClientInternal\": option_2_identifier},\n",
    "    transaction_date=trade_date,\n",
    "    settlement_date=trade_date + timedelta(days = settle_days),\n",
    "    units=units,\n",
    "    transaction_price=lm.TransactionPrice(price=premium,type=\"Price\"),\n",
    "    total_consideration=lm.CurrencyAndAmount(amount=premium*units,currency=premium_currency),\n",
    "    exchange_rate=1,\n",
    "    transaction_currency=premium_currency,\n",
    "    # Assign the SHK property to each transaction so it is loaded against each deal_id\n",
    "    properties = {\n",
    "        f\"{sub_holding_key}\": lm.PerpetualProperty(\n",
    "            key = f\"{sub_holding_key}\",\n",
    "            value = lm.PropertyValue(label_value = deal_2_id)\n",
    "        )\n",
    "    },\n",
    ")\n",
    "\n",
    "response = transaction_portfolios_api.upsert_transactions(scope=scope,\n",
    "                                                    code=portfolio_code_opt2,\n",
    "                                                    transaction_request=[opt_txn])\n",
    "\n",
    "print(f\"Transaction successfully updated at time: {response.version.as_at_date}\")\n",
    "\n",
    "option_2_version+=1"
   ]
  },
  {
   "cell_type": "markdown",
   "metadata": {},
   "source": [
    "# 4. Upsert FX Market Data\n",
    "\n",
    "Next we will be loading the required marked data into the quotes store. In this particular example to value an option, we will be using the standard Black-Scholes pricing model. This model requires the following data:\n",
    "1. EUR/USD Spot Rates - this is the value of the underlying of the option\n",
    "2. EUR and USD discount curves - these curves are required for 2 things: to calculate the implied fx forward rate; and as the option is expiring and maturing in the future, to discount future cash flows\n",
    "3. EURUSD volatility surface - the value of an option is closely related to the expected volatility of the underlying over the period of the option"
   ]
  },
  {
   "cell_type": "markdown",
   "metadata": {
    "pycharm": {
     "name": "#%% md\n"
    }
   },
   "source": [
    "## 4.1 FX Spot Rates\n",
    "\n",
    "We begin by adding the FX spot rates."
   ]
  },
  {
   "cell_type": "code",
   "execution_count": 12,
   "metadata": {
    "pycharm": {
     "name": "#%%\n"
    }
   },
   "outputs": [
    {
     "data": {
      "text/html": [
       "<div>\n",
       "<style scoped>\n",
       "    .dataframe tbody tr th:only-of-type {\n",
       "        vertical-align: middle;\n",
       "    }\n",
       "\n",
       "    .dataframe tbody tr th {\n",
       "        vertical-align: top;\n",
       "    }\n",
       "\n",
       "    .dataframe thead th {\n",
       "        text-align: right;\n",
       "    }\n",
       "</style>\n",
       "<table border=\"1\" class=\"dataframe\">\n",
       "  <thead>\n",
       "    <tr style=\"text-align: right;\">\n",
       "      <th></th>\n",
       "      <th>Date</th>\n",
       "      <th>Rate</th>\n",
       "      <th>Pair</th>\n",
       "    </tr>\n",
       "  </thead>\n",
       "  <tbody>\n",
       "    <tr>\n",
       "      <th>0</th>\n",
       "      <td>2020-07-13 00:00:00+00:00</td>\n",
       "      <td>1.2215</td>\n",
       "      <td>EUR/USD</td>\n",
       "    </tr>\n",
       "    <tr>\n",
       "      <th>1</th>\n",
       "      <td>2020-07-14 00:00:00+00:00</td>\n",
       "      <td>1.2248</td>\n",
       "      <td>EUR/USD</td>\n",
       "    </tr>\n",
       "    <tr>\n",
       "      <th>2</th>\n",
       "      <td>2020-07-15 00:00:00+00:00</td>\n",
       "      <td>1.2298</td>\n",
       "      <td>EUR/USD</td>\n",
       "    </tr>\n",
       "    <tr>\n",
       "      <th>3</th>\n",
       "      <td>2020-07-16 00:00:00+00:00</td>\n",
       "      <td>1.2327</td>\n",
       "      <td>EUR/USD</td>\n",
       "    </tr>\n",
       "    <tr>\n",
       "      <th>4</th>\n",
       "      <td>2020-07-17 00:00:00+00:00</td>\n",
       "      <td>1.2272</td>\n",
       "      <td>EUR/USD</td>\n",
       "    </tr>\n",
       "  </tbody>\n",
       "</table>\n",
       "</div>"
      ],
      "text/plain": [
       "                       Date   Rate     Pair\n",
       "0 2020-07-13 00:00:00+00:00 1.2215  EUR/USD\n",
       "1 2020-07-14 00:00:00+00:00 1.2248  EUR/USD\n",
       "2 2020-07-15 00:00:00+00:00 1.2298  EUR/USD\n",
       "3 2020-07-16 00:00:00+00:00 1.2327  EUR/USD\n",
       "4 2020-07-17 00:00:00+00:00 1.2272  EUR/USD"
      ]
     },
     "execution_count": 12,
     "metadata": {},
     "output_type": "execute_result"
    }
   ],
   "source": [
    "# Read fx spot rates and make datetimes timezone aware\n",
    "quotes_df = pd.read_csv(\"data/eurusd_spot.csv\")\n",
    "quotes_df[\"Date\"] = pd.to_datetime(quotes_df[\"Date\"], dayfirst=True)\n",
    "quotes_df[\"Date\"] = quotes_df[\"Date\"].apply(lambda x: x.replace(tzinfo=pytz.utc))\n",
    "quotes_df.head()"
   ]
  },
  {
   "cell_type": "code",
   "execution_count": 13,
   "metadata": {
    "pycharm": {
     "name": "#%%\n"
    }
   },
   "outputs": [
    {
     "name": "stdout",
     "output_type": "stream",
     "text": [
      "Quotes successfully loaded into LUSID. 739 quotes loaded.\n"
     ]
    }
   ],
   "source": [
    "# Create quotes request\n",
    "instrument_quotes = {\n",
    "            index: lm.UpsertQuoteRequest(\n",
    "            quote_id=lm.QuoteId(\n",
    "                quote_series_id=lm.QuoteSeriesId(\n",
    "                    provider=market_supplier,\n",
    "                    instrument_id=row[\"Pair\"],\n",
    "                    instrument_id_type=\"CurrencyPair\",\n",
    "                    quote_type=\"Rate\",\n",
    "                    field=\"mid\",\n",
    "                ),\n",
    "                effective_at=row[\"Date\"],\n",
    "            ),\n",
    "            metric_value=lm.MetricValue(value=row[\"Rate\"], unit=row[\"Pair\"]),\n",
    "        )\n",
    "    for index, row in quotes_df.iterrows()\n",
    "}\n",
    "\n",
    "# Upsert quotes into LUSID\n",
    "response = quotes_api.upsert_quotes(\n",
    "    scope=market_data_scope, request_body=instrument_quotes\n",
    ")\n",
    "\n",
    "if response.failed == {}:\n",
    "    print(f\"Quotes successfully loaded into LUSID. {len(response.values)} quotes loaded.\")\n",
    "else:\n",
    "    print(f\"Some failures occurred during quotes upsertion, {len(response.failed)} did not get loaded into LUSID.\")"
   ]
  },
  {
   "cell_type": "markdown",
   "metadata": {
    "pycharm": {
     "name": "#%% md\n"
    }
   },
   "source": [
    "## 4.2 EUR & USD Discount curves\n",
    "\n",
    "Next we will read in the EUR and USD Discount factors and create separate OIS curves."
   ]
  },
  {
   "cell_type": "code",
   "execution_count": 14,
   "metadata": {
    "pycharm": {
     "name": "#%%\n"
    }
   },
   "outputs": [
    {
     "data": {
      "text/html": [
       "<div>\n",
       "<style scoped>\n",
       "    .dataframe tbody tr th:only-of-type {\n",
       "        vertical-align: middle;\n",
       "    }\n",
       "\n",
       "    .dataframe tbody tr th {\n",
       "        vertical-align: top;\n",
       "    }\n",
       "\n",
       "    .dataframe thead th {\n",
       "        text-align: right;\n",
       "    }\n",
       "</style>\n",
       "<table border=\"1\" class=\"dataframe\">\n",
       "  <thead>\n",
       "    <tr style=\"text-align: right;\">\n",
       "      <th></th>\n",
       "      <th>index</th>\n",
       "      <th>Tenor</th>\n",
       "      <th>Days</th>\n",
       "      <th>EUR-Rates</th>\n",
       "      <th>USD-Rates</th>\n",
       "      <th>EURdf</th>\n",
       "      <th>USDdf</th>\n",
       "      <th>Vol25D</th>\n",
       "      <th>ATM</th>\n",
       "      <th>Vol75D</th>\n",
       "      <th>Strike25D</th>\n",
       "      <th>StrikeATM</th>\n",
       "      <th>Strike75D</th>\n",
       "    </tr>\n",
       "  </thead>\n",
       "  <tbody>\n",
       "    <tr>\n",
       "      <th>0</th>\n",
       "      <td>0</td>\n",
       "      <td>1M</td>\n",
       "      <td>30</td>\n",
       "      <td>0.2200</td>\n",
       "      <td>1.2200</td>\n",
       "      <td>0.9998</td>\n",
       "      <td>0.9990</td>\n",
       "      <td>0.1200</td>\n",
       "      <td>0.1000</td>\n",
       "      <td>0.1100</td>\n",
       "      <td>1.1850</td>\n",
       "      <td>1.2000</td>\n",
       "      <td>1.2150</td>\n",
       "    </tr>\n",
       "    <tr>\n",
       "      <th>1</th>\n",
       "      <td>1</td>\n",
       "      <td>2M</td>\n",
       "      <td>60</td>\n",
       "      <td>0.3700</td>\n",
       "      <td>1.3700</td>\n",
       "      <td>0.9994</td>\n",
       "      <td>0.9978</td>\n",
       "      <td>0.1205</td>\n",
       "      <td>0.1010</td>\n",
       "      <td>0.1105</td>\n",
       "      <td>1.1850</td>\n",
       "      <td>1.2000</td>\n",
       "      <td>1.2150</td>\n",
       "    </tr>\n",
       "    <tr>\n",
       "      <th>2</th>\n",
       "      <td>2</td>\n",
       "      <td>3M</td>\n",
       "      <td>90</td>\n",
       "      <td>0.5300</td>\n",
       "      <td>1.5300</td>\n",
       "      <td>0.9987</td>\n",
       "      <td>0.9962</td>\n",
       "      <td>0.1210</td>\n",
       "      <td>0.1020</td>\n",
       "      <td>0.1110</td>\n",
       "      <td>1.1850</td>\n",
       "      <td>1.2000</td>\n",
       "      <td>1.2150</td>\n",
       "    </tr>\n",
       "    <tr>\n",
       "      <th>3</th>\n",
       "      <td>3</td>\n",
       "      <td>6M</td>\n",
       "      <td>180</td>\n",
       "      <td>0.9500</td>\n",
       "      <td>1.9500</td>\n",
       "      <td>0.9953</td>\n",
       "      <td>0.9904</td>\n",
       "      <td>0.1215</td>\n",
       "      <td>0.1030</td>\n",
       "      <td>0.1115</td>\n",
       "      <td>1.1850</td>\n",
       "      <td>1.2000</td>\n",
       "      <td>1.2150</td>\n",
       "    </tr>\n",
       "    <tr>\n",
       "      <th>4</th>\n",
       "      <td>4</td>\n",
       "      <td>1Y</td>\n",
       "      <td>365</td>\n",
       "      <td>1.3000</td>\n",
       "      <td>2.3000</td>\n",
       "      <td>0.9871</td>\n",
       "      <td>0.9773</td>\n",
       "      <td>0.1220</td>\n",
       "      <td>0.1040</td>\n",
       "      <td>0.1120</td>\n",
       "      <td>1.1850</td>\n",
       "      <td>1.2000</td>\n",
       "      <td>1.2150</td>\n",
       "    </tr>\n",
       "    <tr>\n",
       "      <th>5</th>\n",
       "      <td>5</td>\n",
       "      <td>18M</td>\n",
       "      <td>547</td>\n",
       "      <td>1.5000</td>\n",
       "      <td>2.5000</td>\n",
       "      <td>0.9778</td>\n",
       "      <td>0.9632</td>\n",
       "      <td>0.1225</td>\n",
       "      <td>0.1050</td>\n",
       "      <td>0.1125</td>\n",
       "      <td>1.1850</td>\n",
       "      <td>1.2000</td>\n",
       "      <td>1.2150</td>\n",
       "    </tr>\n",
       "    <tr>\n",
       "      <th>6</th>\n",
       "      <td>6</td>\n",
       "      <td>2Y</td>\n",
       "      <td>730</td>\n",
       "      <td>1.5000</td>\n",
       "      <td>2.5000</td>\n",
       "      <td>0.9705</td>\n",
       "      <td>0.9513</td>\n",
       "      <td>0.1230</td>\n",
       "      <td>0.1060</td>\n",
       "      <td>0.1130</td>\n",
       "      <td>1.1850</td>\n",
       "      <td>1.2000</td>\n",
       "      <td>1.2150</td>\n",
       "    </tr>\n",
       "    <tr>\n",
       "      <th>7</th>\n",
       "      <td>7</td>\n",
       "      <td>3Y</td>\n",
       "      <td>1095</td>\n",
       "      <td>1.4300</td>\n",
       "      <td>2.4300</td>\n",
       "      <td>0.9580</td>\n",
       "      <td>0.9297</td>\n",
       "      <td>0.1235</td>\n",
       "      <td>0.1070</td>\n",
       "      <td>0.1135</td>\n",
       "      <td>1.1850</td>\n",
       "      <td>1.2000</td>\n",
       "      <td>1.2150</td>\n",
       "    </tr>\n",
       "    <tr>\n",
       "      <th>8</th>\n",
       "      <td>8</td>\n",
       "      <td>4Y</td>\n",
       "      <td>1460</td>\n",
       "      <td>1.3700</td>\n",
       "      <td>2.3700</td>\n",
       "      <td>0.9467</td>\n",
       "      <td>0.9096</td>\n",
       "      <td>0.1240</td>\n",
       "      <td>0.1080</td>\n",
       "      <td>0.1140</td>\n",
       "      <td>1.1850</td>\n",
       "      <td>1.2000</td>\n",
       "      <td>1.2150</td>\n",
       "    </tr>\n",
       "    <tr>\n",
       "      <th>9</th>\n",
       "      <td>9</td>\n",
       "      <td>5Y</td>\n",
       "      <td>1825</td>\n",
       "      <td>1.3100</td>\n",
       "      <td>2.3100</td>\n",
       "      <td>0.9366</td>\n",
       "      <td>0.8909</td>\n",
       "      <td>0.1245</td>\n",
       "      <td>0.1090</td>\n",
       "      <td>0.1145</td>\n",
       "      <td>1.1850</td>\n",
       "      <td>1.2000</td>\n",
       "      <td>1.2150</td>\n",
       "    </tr>\n",
       "  </tbody>\n",
       "</table>\n",
       "</div>"
      ],
      "text/plain": [
       "   index Tenor  Days  EUR-Rates  USD-Rates  EURdf  USDdf  Vol25D    ATM  \\\n",
       "0      0    1M    30     0.2200     1.2200 0.9998 0.9990  0.1200 0.1000   \n",
       "1      1    2M    60     0.3700     1.3700 0.9994 0.9978  0.1205 0.1010   \n",
       "2      2    3M    90     0.5300     1.5300 0.9987 0.9962  0.1210 0.1020   \n",
       "3      3    6M   180     0.9500     1.9500 0.9953 0.9904  0.1215 0.1030   \n",
       "4      4    1Y   365     1.3000     2.3000 0.9871 0.9773  0.1220 0.1040   \n",
       "5      5   18M   547     1.5000     2.5000 0.9778 0.9632  0.1225 0.1050   \n",
       "6      6    2Y   730     1.5000     2.5000 0.9705 0.9513  0.1230 0.1060   \n",
       "7      7    3Y  1095     1.4300     2.4300 0.9580 0.9297  0.1235 0.1070   \n",
       "8      8    4Y  1460     1.3700     2.3700 0.9467 0.9096  0.1240 0.1080   \n",
       "9      9    5Y  1825     1.3100     2.3100 0.9366 0.8909  0.1245 0.1090   \n",
       "\n",
       "   Vol75D  Strike25D  StrikeATM  Strike75D  \n",
       "0  0.1100     1.1850     1.2000     1.2150  \n",
       "1  0.1105     1.1850     1.2000     1.2150  \n",
       "2  0.1110     1.1850     1.2000     1.2150  \n",
       "3  0.1115     1.1850     1.2000     1.2150  \n",
       "4  0.1120     1.1850     1.2000     1.2150  \n",
       "5  0.1125     1.1850     1.2000     1.2150  \n",
       "6  0.1130     1.1850     1.2000     1.2150  \n",
       "7  0.1135     1.1850     1.2000     1.2150  \n",
       "8  0.1140     1.1850     1.2000     1.2150  \n",
       "9  0.1145     1.1850     1.2000     1.2150  "
      ]
     },
     "execution_count": 14,
     "metadata": {},
     "output_type": "execute_result"
    }
   ],
   "source": [
    "# Read FX market data - showing first 10 terms\n",
    "df_market_data = pd.read_csv(\"data/EURUSD-MarketData.csv\")\n",
    "df_market_data[\"Days\"]= df_market_data[\"Days\"].astype(int)\n",
    "df_market_data = df_market_data.reset_index()\n",
    "df_market_data.head(10)"
   ]
  },
  {
   "cell_type": "code",
   "execution_count": 15,
   "metadata": {},
   "outputs": [],
   "source": [
    "# Set up the OIS curves loader function\n",
    "def upsert_discount_factors(scope, effective_at, market_asset, dates, dfs):\n",
    "\n",
    "    complex_market_data = lm.DiscountFactorCurveData(\n",
    "        base_date=effective_at,\n",
    "        dates=dates,\n",
    "        discount_factors = dfs,\n",
    "        market_data_type=\"DiscountFactorCurveData\"\n",
    "    )\n",
    "\n",
    "    # create a unique identifier for our OIS yield curves\n",
    "    complex_id = lm.ComplexMarketDataId(\n",
    "        provider=market_supplier,\n",
    "        price_source = market_supplier,\n",
    "        effective_at=effective_at,\n",
    "        market_asset=market_asset,\n",
    "    )\n",
    "    \n",
    "    upsert_request = lm.UpsertComplexMarketDataRequest(\n",
    "        market_data_id=complex_id, market_data=complex_market_data\n",
    "    )\n",
    "\n",
    "\n",
    "    response = complex_market_data_api.upsert_complex_market_data(\n",
    "        scope=scope, request_body={market_asset: upsert_request}\n",
    "    )\n",
    "    \n",
    "    if response.failed:\n",
    "        print(f\"Failed to upload yield curve {response.failed}\")\n",
    "\n",
    "    print(f\"{market_asset} yield curve uploaded into scope={scope}\")\n",
    "    \n",
    "    return complex_id"
   ]
  },
  {
   "cell_type": "code",
   "execution_count": 16,
   "metadata": {
    "pycharm": {
     "name": "#%%\n"
    }
   },
   "outputs": [
    {
     "name": "stdout",
     "output_type": "stream",
     "text": [
      "EUR/EUROIS yield curve uploaded into scope=ibor-opt\n",
      "USD/USDOIS yield curve uploaded into scope=ibor-opt\n"
     ]
    }
   ],
   "source": [
    "# Set up the OIS curves\n",
    "base_date = trade_date\n",
    "dates = []\n",
    "dfs = []\n",
    "\n",
    "# loading the data for EUR OIS discount curve\n",
    "for index, row in df_market_data.iterrows():\n",
    "    dates.append(base_date + timedelta(days=row[\"Days\"]))\n",
    "    dfs.append(row[\"EURdf\"])\n",
    "\n",
    "curve_id_EUR = upsert_discount_factors(market_data_scope, base_date, \"EUR/EUROIS\", dates, dfs)\n",
    "\n",
    "\n",
    "dates = []\n",
    "dfs = []\n",
    "\n",
    "# loading the data for USD OIS discount curve\n",
    "for index, row in df_market_data.iterrows():\n",
    "    dates.append(base_date + timedelta(days=row[\"Days\"]))\n",
    "    dfs.append(row[\"USDdf\"])\n",
    "    \n",
    "curve_id_USD = upsert_discount_factors(market_data_scope, base_date, \"USD/USDOIS\", dates, dfs)"
   ]
  },
  {
   "cell_type": "markdown",
   "metadata": {
    "pycharm": {
     "name": "#%% md\n"
    }
   },
   "source": [
    "We can also use the _ComplexMarketDataApi_ to retrieve the data as it's been stored in LUSID. See below for the returned object, and a plot showing both OIS discount curves."
   ]
  },
  {
   "cell_type": "code",
   "execution_count": 17,
   "metadata": {
    "pycharm": {
     "name": "#%%\n"
    }
   },
   "outputs": [
    {
     "data": {
      "image/png": "[encoded data removed]",
      "text/plain": [
       "<Figure size 640x480 with 1 Axes>"
      ]
     },
     "metadata": {},
     "output_type": "display_data"
    }
   ],
   "source": [
    "# Retrieve the two curves from LUSID to demonstrate graphically the data we have laoded\n",
    "EUR_OIS_curve = complex_market_data_api.get_complex_market_data(\n",
    "    scope=market_data_scope,\n",
    "    request_body= {\"1\": curve_id_EUR}\n",
    ")\n",
    "\n",
    "USD_OIS_curve = complex_market_data_api.get_complex_market_data(\n",
    "    scope=market_data_scope,\n",
    "    request_body= {\"1\": curve_id_USD}\n",
    ")\n",
    "\n",
    "# Get axis data and create plot\n",
    "plt.plot(df_market_data[\"Days\"],EUR_OIS_curve.values[\"1\"].discount_factors, color='#ff5200' , marker='o', markersize=5, linestyle='--', linewidth=1, label=\"EUR_OIS\")\n",
    "plt.plot(df_market_data[\"Days\"],USD_OIS_curve.values[\"1\"].discount_factors, color='#4b6dd1' , marker='o', markersize=5, linestyle='--', linewidth=1, label=\"USD_OIS\")\n",
    "plt.yticks( color = '#4b6dd1')\n",
    "plt.xticks(df_market_data[\"Days\"], df_market_data[\"Tenor\"], rotation='vertical', color = '#4b6dd1')\n",
    "plt.title('EUR & USD Discount factors', color = '#4b6dd1')\n",
    "plt.ylabel('Discount_factor', color = '#4b6dd1')\n",
    "plt.xlim([0, 1000]), plt.ylim([.925, 1.005])\n",
    "plt.legend(loc=\"upper right\")\n",
    "plt.show()"
   ]
  },
  {
   "cell_type": "markdown",
   "metadata": {},
   "source": [
    "## 4.3 FX Volatility Surface\n",
    "Next we will read in our FX Vol surface data, and need to create a set of vanilla option instruments representing the FX Option for each tenor in the market data. The volatility curve is constructed using a set of liquid market instruments for vanilla options with different expiry dates, all with a start date of the current date (in this workbook the base_date). Traders would observe option premium prices in the market, and determine the volatility (by solving using the Black-Scholes formula) to allow the volatility curve to be created. Ordinarily a volatility surface is created with a number (usually 3 or 5) of different in and out of the money options being used at each expiry date, with a 'Smile Model' used to interpolate between these points. LUSID provides a more basic interpolation between the data points currently.\n",
    "\n",
    "To set up a Vol curve you need to abide by the following constraints in LUSID:\n",
    "1. The vol surface needs to have at least 2 different strikes at each tenor, these strikes must be consistent across all tenors\n",
    "2. An instrument representing the vanilla fx option needs to be created for each tenor / strike combination\n",
    "3. Quotes need to be loaded for all tenor / strike combinations\n",
    "\n",
    "Below I demonstrate setting up a simple 3 point smile in LUSID - before loading this data into LUSID, lets visualise the data we are loading."
   ]
  },
  {
   "cell_type": "code",
   "execution_count": 18,
   "metadata": {},
   "outputs": [
    {
     "data": {
      "image/png": "[encoded data removed]",
      "text/plain": [
       "<Figure size 600x600 with 1 Axes>"
      ]
     },
     "metadata": {},
     "output_type": "display_data"
    }
   ],
   "source": [
    "Xs = []\n",
    "Ys = []\n",
    "Zs = []\n",
    "\n",
    "for index, row in df_market_data.iterrows():\n",
    "    Xs.append(row[\"Strike25D\"])\n",
    "    Ys.append(row[\"Days\"])\n",
    "    Zs.append(row[\"Vol25D\"])\n",
    "    \n",
    "for index, row in df_market_data.iterrows():\n",
    "    Xs.append(row[\"StrikeATM\"])\n",
    "    Ys.append(row[\"Days\"])\n",
    "    Zs.append(row[\"ATM\"])\n",
    "    \n",
    "for index, row in df_market_data.iterrows():\n",
    "    Xs.append(row[\"Strike75D\"])\n",
    "    Ys.append(row[\"Days\"])\n",
    "    Zs.append(row[\"Vol75D\"])\n",
    "    \n",
    "fig = plt.figure(figsize=(6,6))\n",
    "ax = fig.add_subplot(111, projection='3d')\n",
    "ax.set_xlabel('Strike', fontweight ='bold')\n",
    "ax.set_ylabel('Tenor', fontweight ='bold')\n",
    "ax.set_zlabel('Implied Vol', fontweight ='bold')\n",
    "surf = ax.plot_trisurf(Xs, Ys, Zs, linewidth=0.1)\n",
    "plt.yticks(df_market_data[\"Days\"], df_market_data[\"Tenor\"], rotation='vertical', color = '#4b6dd1')\n",
    "plt.show()"
   ]
  },
  {
   "cell_type": "markdown",
   "metadata": {},
   "source": [
    "### 4.3.1 Create the curve instruments\n",
    "\n",
    "In this section we create and upsert the curve instruments used in the volatility curve."
   ]
  },
  {
   "cell_type": "code",
   "execution_count": 19,
   "metadata": {},
   "outputs": [],
   "source": [
    "def upsert_fxoption_curve_instruments (df_vol_data):\n",
    "\n",
    "    for index, row in df_vol_data.iterrows():\n",
    "\n",
    "        option_expiry = base_date + timedelta(days=row[\"Days\"])\n",
    "\n",
    "        # Create the Instrument\n",
    "        option_definition = create_fx_option(\n",
    "            strike = row[\"Strike\"],\n",
    "            dom_ccy = dom_ccy,\n",
    "            fgn_ccy = fgn_ccy,\n",
    "            start_date = base_date,\n",
    "            maturity_date = option_expiry,\n",
    "            settlement_date =option_expiry + timedelta(days=2),\n",
    "            is_call = True,\n",
    "            is_payoff_digital = False,\n",
    "            is_fx_delivery = True,\n",
    "        )\n",
    "\n",
    "        option_name = \"EUR/USD \" + \" FX Option \" + option_expiry.strftime(\"%m/%d/%Y\")\n",
    "        option_identifier = (f\"EURUSDVolCurve{index}:{row['Strike']}\")\n",
    "\n",
    "        curve_map.append({option_name : option_identifier})\n",
    "        curve_instruments.append(option_definition)\n",
    "\n",
    "        # Upsert the instrument\n",
    "        upsert_response = upsert_instrument_to_lusid(scope, option_definition, option_name, option_identifier, identifier_type)\n",
    "        curve_instruments_id.append(upsert_response.values[option_identifier].lusid_instrument_id)"
   ]
  },
  {
   "cell_type": "code",
   "execution_count": 20,
   "metadata": {},
   "outputs": [
    {
     "name": "stdout",
     "output_type": "stream",
     "text": [
      "30 instruments uploaded to create the vol curve\n"
     ]
    }
   ],
   "source": [
    "curve_instruments = []\n",
    "curve_instruments_id = []\n",
    "curve_map = []\n",
    "\n",
    "upsert_fxoption_curve_instruments (df_market_data[[\"Days\", \"Strike25D\"]].rename(columns={\"Strike25D\" : \"Strike\"}))\n",
    "upsert_fxoption_curve_instruments (df_market_data[[\"Days\", \"StrikeATM\"]].rename(columns={\"StrikeATM\" : \"Strike\"}))\n",
    "upsert_fxoption_curve_instruments (df_market_data[[\"Days\", \"Strike75D\"]].rename(columns={\"Strike75D\" : \"Strike\"}))\n",
    "\n",
    "print(f\"{len(curve_instruments)} instruments uploaded to create the vol curve\")"
   ]
  },
  {
   "cell_type": "markdown",
   "metadata": {},
   "source": [
    "### 4.3.2 Upload Volatility surface\n",
    "\n",
    "Next we create the volatility surface in LUSID, associating volatility quotes with each of the instruments we have loaded"
   ]
  },
  {
   "cell_type": "code",
   "execution_count": 21,
   "metadata": {},
   "outputs": [],
   "source": [
    "# Function to load the surface into Lusid\n",
    "def upsert_fx_vol(scope, effective_at, market_asset, instruments, vols_low_strike, vols_atm, vols_high_strike):\n",
    "\n",
    "    market_data_id = lm.ComplexMarketDataId(\n",
    "        provider=market_supplier,\n",
    "        price_source=\"Lusid\",\n",
    "        effective_at=effective_at,\n",
    "        market_asset=market_asset,\n",
    "    )\n",
    "    \n",
    "    quotes = []\n",
    "    \n",
    "    for vol in vols_low_strike:\n",
    "        quotes.append(lm.MarketQuote(quote_type=\"LogNormalVol\", value=vol))\n",
    "        \n",
    "    for vol in vols_atm:\n",
    "        quotes.append(lm.MarketQuote(quote_type=\"LogNormalVol\", value=vol))   \n",
    "                \n",
    "    for vol in vols_high_strike:\n",
    "        quotes.append(lm.MarketQuote(quote_type=\"LogNormalVol\", value=vol))   \n",
    "\n",
    "    fx_vol_surface_data = lm.FxVolSurfaceData(\n",
    "        base_date=effective_at,\n",
    "        instruments=instruments,\n",
    "        quotes=quotes,\n",
    "        market_data_type=\"FxVolSurfaceData\"\n",
    "    )  \n",
    "    \n",
    "    response = complex_market_data_api.upsert_complex_market_data(\n",
    "        scope=scope,\n",
    "        request_body={\n",
    "            market_asset: lm.UpsertComplexMarketDataRequest(\n",
    "                market_data_id=market_data_id, market_data=fx_vol_surface_data\n",
    "            )\n",
    "        },\n",
    "    )\n",
    "    \n",
    "    if len(response.failed) == 0:\n",
    "        print(f\"Quote successfully loaded into LUSID. {len(response.values)} quotes loaded.\")\n",
    "\n",
    "    else:\n",
    "        print(f\"Some failures occurred during quotes upsertion, {len(response.failed)} did not get loaded into LUSID.\")\n",
    "        \n",
    "    return market_data_id"
   ]
  },
  {
   "cell_type": "code",
   "execution_count": 22,
   "metadata": {},
   "outputs": [
    {
     "name": "stdout",
     "output_type": "stream",
     "text": [
      "Quote successfully loaded into LUSID. 1 quotes loaded.\n"
     ]
    }
   ],
   "source": [
    "# Actual load of the data into LUSID\n",
    "EURUSD_vol_curve_id = upsert_fx_vol(market_data_scope, base_date, \"EUR/USD/LN\", curve_instruments, df_market_data[\"Vol25D\"], df_market_data[\"ATM\"], df_market_data[\"Vol75D\"])"
   ]
  },
  {
   "cell_type": "markdown",
   "metadata": {},
   "source": [
    "# 5. Create Configuration Recipe\n",
    "\n",
    "In order to run a valuation, LUSID will require a recipe that drives how a valuation will be conducted. The below recipe defines what model and market data to use in this context.\n"
   ]
  },
  {
   "cell_type": "code",
   "execution_count": 23,
   "metadata": {},
   "outputs": [],
   "source": [
    "def create_configuration_recipe(recipe_code, model_name):\n",
    "    # Populate recipe parameters\n",
    "    configuration_recipe = lm.ConfigurationRecipe(\n",
    "        scope=market_data_scope,\n",
    "        code=recipe_code,\n",
    "        market=lm.MarketContext(\n",
    "            market_rules=[\n",
    "                lm.MarketDataKeyRule(\n",
    "                        key=\"FX.CurrencyPair.*\",\n",
    "                        supplier=market_supplier,\n",
    "                        data_scope=market_data_scope,\n",
    "                        quote_type=\"Rate\",\n",
    "                        field=\"mid\",\n",
    "                        quote_interval=\"100D\"\n",
    "                    ),\n",
    "                lm.MarketDataKeyRule(\n",
    "                    key=\"FXVol.*.*.*\",\n",
    "                    supplier=market_supplier,\n",
    "                    data_scope=market_data_scope,\n",
    "                    price_source=market_supplier,\n",
    "                    quote_type=\"Price\",\n",
    "                    field=\"mid\",\n",
    "                    quote_interval=\"100D\",\n",
    "                ),\n",
    "                lm.MarketDataKeyRule(\n",
    "                    key=\"Rates.*.*\",\n",
    "                    supplier=market_supplier,\n",
    "                    data_scope=market_data_scope,\n",
    "                    price_source=market_supplier,\n",
    "                    quote_type=\"Price\",\n",
    "                    field=\"mid\",\n",
    "                    quote_interval=\"100D\",\n",
    "                ),\n",
    "            ],\n",
    "            options=lm.MarketOptions(\n",
    "                default_scope = market_data_scope,\n",
    "                attempt_to_infer_missing_fx=True\n",
    "            ),\n",
    "        ),\n",
    "        pricing=lm.PricingContext(\n",
    "            model_rules=[\n",
    "                lm.VendorModelRule(\n",
    "                    supplier=\"Lusid\",\n",
    "                    model_name=model_name,\n",
    "                    instrument_type=\"FXOption\",\n",
    "                    parameters=\"{}\",\n",
    "                )\n",
    "            ],\n",
    "            options = lm.PricingOptions(\n",
    "                allow_partially_successful_evaluation = True\n",
    "            )\n",
    "        ),\n",
    "    )\n",
    "\n",
    "    response = configuration_recipe_api.upsert_configuration_recipe(\n",
    "        upsert_recipe_request=lm.UpsertRecipeRequest(\n",
    "            configuration_recipe=configuration_recipe\n",
    "        )\n",
    "    )\n",
    "\n",
    "    print(f\"Configuration recipe loaded into LUSID at time {response.value}.\")"
   ]
  },
  {
   "cell_type": "code",
   "execution_count": 24,
   "metadata": {},
   "outputs": [
    {
     "name": "stdout",
     "output_type": "stream",
     "text": [
      "Configuration recipe loaded into LUSID at time 2022-10-06 10:48:07.455097+00:00.\n",
      "Configuration recipe loaded into LUSID at time 2022-10-06 10:48:07.581810+00:00.\n"
     ]
    }
   ],
   "source": [
    "# Set recipe code\n",
    "recipe_code_opt1 = \"Opt1Valuation\"\n",
    "create_configuration_recipe (recipe_code_opt1, valuation_model_opt1)\n",
    "\n",
    "# Set recipe code\n",
    "recipe_code_opt2 = \"Opt2Valuation\"\n",
    "create_configuration_recipe (recipe_code_opt2, valuation_model_opt2)\n"
   ]
  },
  {
   "cell_type": "markdown",
   "metadata": {},
   "source": [
    "# 6. Valuation\n",
    "\n",
    "Value the portfolio using the Black Scholes model"
   ]
  },
  {
   "cell_type": "code",
   "execution_count": 25,
   "metadata": {},
   "outputs": [],
   "source": [
    "def run_valuation(date, portfolio_code, recipe_code):\n",
    "\n",
    "    metrics = [\n",
    "        lm.AggregateSpec(\"Instrument/default/Name\", \"Value\"),\n",
    "        lm.AggregateSpec(\"Instrument/default/ClientInternal\", \"Value\"),\n",
    "        lm.AggregateSpec(\"Holding/Units\", \"Value\"),\n",
    "        lm.AggregateSpec(\"Valuation/PV/Amount\", \"Value\"),\n",
    "        lm.AggregateSpec(\"Valuation/PvInPortfolioCcy\", \"Value\"),\n",
    "        lm.AggregateSpec(\"Valuation/Delta\", \"Value\"),\n",
    "        lm.AggregateSpec(\"Valuation/Risk/SpotDelta\", \"Value\"),      \n",
    "    ]\n",
    "\n",
    "    group_by =[]\n",
    "\n",
    "    valuation_request = lm.ValuationRequest(\n",
    "        recipe_id=lm.ResourceId(scope=market_data_scope, code=recipe_code),\n",
    "        metrics=metrics,\n",
    "        group_by=group_by,\n",
    "        portfolio_entity_ids=[\n",
    "            lm.PortfolioEntityId(scope=scope, code=portfolio_code)\n",
    "        ],\n",
    "        valuation_schedule=lm.ValuationSchedule(effective_at=date),\n",
    "    )\n",
    "\n",
    "    val_data = aggregation_api.get_valuation(valuation_request=valuation_request).data\n",
    "    \n",
    "    vals_df = pd.DataFrame(val_data)\n",
    "\n",
    "    vals_df.rename(\n",
    "        columns={\n",
    "            \"Instrument/default/Name\": \"InstrumentName\",\n",
    "            \"Instrument/default/ClientInternal\": \"ClientInternal\",\n",
    "            \"Valuation/PvInPortfolioCcy\": \"Market Value\",\n",
    "            \"Valuation/Diagnostics/FxForwardRate\": \"Forward Rate (Interpolated)\",\n",
    "            \"Quotes/FxRate/DomFgn\": \"FX Spot Rate\",\n",
    "            \"Valuation/PnL/Tm1/Pfolio\": \"PnL (1-day)\"\n",
    "        },\n",
    "        inplace=True,\n",
    "    )\n",
    "\n",
    "    return vals_df"
   ]
  },
  {
   "cell_type": "code",
   "execution_count": 26,
   "metadata": {},
   "outputs": [
    {
     "data": {
      "text/html": [
       "<div>\n",
       "<style scoped>\n",
       "    .dataframe tbody tr th:only-of-type {\n",
       "        vertical-align: middle;\n",
       "    }\n",
       "\n",
       "    .dataframe tbody tr th {\n",
       "        vertical-align: top;\n",
       "    }\n",
       "\n",
       "    .dataframe thead th {\n",
       "        text-align: right;\n",
       "    }\n",
       "</style>\n",
       "<table border=\"1\" class=\"dataframe\">\n",
       "  <thead>\n",
       "    <tr style=\"text-align: right;\">\n",
       "      <th></th>\n",
       "      <th>Valuation/PV/Amount</th>\n",
       "      <th>InstrumentName</th>\n",
       "      <th>ClientInternal</th>\n",
       "      <th>Holding/Units</th>\n",
       "      <th>Market Value</th>\n",
       "      <th>Valuation/Delta</th>\n",
       "      <th>Valuation/Risk/SpotDelta</th>\n",
       "    </tr>\n",
       "  </thead>\n",
       "  <tbody>\n",
       "    <tr>\n",
       "      <th>0</th>\n",
       "      <td>840,664.6063</td>\n",
       "      <td>EUR/USD FX Option 02/19/2021 1.205</td>\n",
       "      <td>EURUSDOption1Demo</td>\n",
       "      <td>1,000,000.0000</td>\n",
       "      <td>840,664.6063</td>\n",
       "      <td>None</td>\n",
       "      <td>None</td>\n",
       "    </tr>\n",
       "    <tr>\n",
       "      <th>1</th>\n",
       "      <td>-20,000.0000</td>\n",
       "      <td>EUR</td>\n",
       "      <td>None</td>\n",
       "      <td>-20,000.0000</td>\n",
       "      <td>-20,000.0000</td>\n",
       "      <td>None</td>\n",
       "      <td>None</td>\n",
       "    </tr>\n",
       "  </tbody>\n",
       "</table>\n",
       "</div>"
      ],
      "text/plain": [
       "   Valuation/PV/Amount                      InstrumentName     ClientInternal  \\\n",
       "0         840,664.6063  EUR/USD FX Option 02/19/2021 1.205  EURUSDOption1Demo   \n",
       "1         -20,000.0000                                 EUR               None   \n",
       "\n",
       "   Holding/Units  Market Value Valuation/Delta Valuation/Risk/SpotDelta  \n",
       "0 1,000,000.0000  840,664.6063            None                     None  \n",
       "1   -20,000.0000  -20,000.0000            None                     None  "
      ]
     },
     "metadata": {},
     "output_type": "display_data"
    }
   ],
   "source": [
    "valuation = run_valuation(base_date, portfolio_code_opt1, recipe_code_opt1)\n",
    "display(valuation)"
   ]
  },
  {
   "cell_type": "code",
   "execution_count": 27,
   "metadata": {},
   "outputs": [
    {
     "data": {
      "text/html": [
       "<div>\n",
       "<style scoped>\n",
       "    .dataframe tbody tr th:only-of-type {\n",
       "        vertical-align: middle;\n",
       "    }\n",
       "\n",
       "    .dataframe tbody tr th {\n",
       "        vertical-align: top;\n",
       "    }\n",
       "\n",
       "    .dataframe thead th {\n",
       "        text-align: right;\n",
       "    }\n",
       "</style>\n",
       "<table border=\"1\" class=\"dataframe\">\n",
       "  <thead>\n",
       "    <tr style=\"text-align: right;\">\n",
       "      <th></th>\n",
       "      <th>Valuation/PV/Amount</th>\n",
       "      <th>InstrumentName</th>\n",
       "      <th>ClientInternal</th>\n",
       "      <th>Holding/Units</th>\n",
       "      <th>Market Value</th>\n",
       "      <th>Valuation/Delta</th>\n",
       "      <th>Valuation/Risk/SpotDelta</th>\n",
       "    </tr>\n",
       "  </thead>\n",
       "  <tbody>\n",
       "    <tr>\n",
       "      <th>0</th>\n",
       "      <td>37,594.1460</td>\n",
       "      <td>EUR/USD FX Option 02/19/2021 1.205</td>\n",
       "      <td>EURUSDOption2Demo</td>\n",
       "      <td>1,000,000.0000</td>\n",
       "      <td>37,594.1460</td>\n",
       "      <td>None</td>\n",
       "      <td>None</td>\n",
       "    </tr>\n",
       "    <tr>\n",
       "      <th>1</th>\n",
       "      <td>-20,000.0000</td>\n",
       "      <td>EUR</td>\n",
       "      <td>None</td>\n",
       "      <td>-20,000.0000</td>\n",
       "      <td>-20,000.0000</td>\n",
       "      <td>None</td>\n",
       "      <td>None</td>\n",
       "    </tr>\n",
       "  </tbody>\n",
       "</table>\n",
       "</div>"
      ],
      "text/plain": [
       "   Valuation/PV/Amount                      InstrumentName     ClientInternal  \\\n",
       "0          37,594.1460  EUR/USD FX Option 02/19/2021 1.205  EURUSDOption2Demo   \n",
       "1         -20,000.0000                                 EUR               None   \n",
       "\n",
       "   Holding/Units  Market Value Valuation/Delta Valuation/Risk/SpotDelta  \n",
       "0 1,000,000.0000   37,594.1460            None                     None  \n",
       "1   -20,000.0000  -20,000.0000            None                     None  "
      ]
     },
     "metadata": {},
     "output_type": "display_data"
    }
   ],
   "source": [
    "valuation = run_valuation(base_date, portfolio_code_opt2, recipe_code_opt2)\n",
    "display(valuation)"
   ]
  },
  {
   "cell_type": "markdown",
   "metadata": {},
   "source": [
    "# 7. Spot Ladder\n",
    "\n",
    "This demonstrates how to produce a spot ladder to show the PV of the options as the underlying (FX Spot) changes. This is a standard report required by any risk manager looking at an option portfolio, and requires the risk engine to change the spot rate and revalue the portfolio multiple times. For the digital options the spot ladder is run at two different valuation dates, showing the effect as the option gets close to expiry. The methodology to do this is as follows:\n",
    "\n",
    "1. Obtain and store the spot rate on the day we want to value the portfolio (so we can set the spot rate back to what it was originally)\n",
    "\n",
    "\n",
    "2. Next run a simple loop to generate the spot ladder, in the loop we:\n",
    "\n",
    "    a. Calculate the spot level on the ladder    \n",
    "    \n",
    "    b. Set this spot rate in the quote store in LUSID\n",
    "    \n",
    "    c. Run a valuation and store the results\n",
    "    \n",
    "    \n",
    "3. Finally we put the spot rate back to the original value (so that the normal 'market PV' is then obtained by the next user)"
   ]
  },
  {
   "cell_type": "code",
   "execution_count": 28,
   "metadata": {},
   "outputs": [],
   "source": [
    "# get the base spot rate for the calculation date (23rd-Jan-2021)\n",
    "calculation_date = datetime(2021, 1, 23, tzinfo=pytz.utc)\n",
    "\n",
    "quotes = lm.QuoteSeriesId(\n",
    "    provider=market_supplier,\n",
    "    instrument_id=\"EUR/USD\",\n",
    "    instrument_id_type=\"CurrencyPair\",\n",
    "    quote_type=\"Rate\",\n",
    "    field=\"mid\")\n",
    "\n",
    "quotes_response = quotes_api.get_quotes(\n",
    "    scope = market_data_scope,\n",
    "    effective_at = calculation_date,\n",
    "    request_body = {\"1\" : quotes}\n",
    ")\n",
    "                                         \n",
    "base_spot_rate = quotes_response.values[\"1\"].metric_value.value"
   ]
  },
  {
   "cell_type": "code",
   "execution_count": 29,
   "metadata": {},
   "outputs": [],
   "source": [
    "# create a function to upsert the spot rate\n",
    "def upsert_single_quote (spot, calculation_date):\n",
    "    # Create quotes request\n",
    "    instrument_quotes = {\n",
    "            \"1\" : lm.UpsertQuoteRequest(\n",
    "            quote_id=lm.QuoteId(\n",
    "                quote_series_id=lm.QuoteSeriesId(\n",
    "                    provider=market_supplier,\n",
    "                    instrument_id=\"EUR/USD\",\n",
    "                    instrument_id_type=\"CurrencyPair\",\n",
    "                    quote_type=\"Rate\",\n",
    "                    field=\"mid\",\n",
    "                ),\n",
    "                effective_at=calculation_date,\n",
    "            ),\n",
    "            metric_value=lm.MetricValue(value=spot, unit=\"EUR/USD\"),\n",
    "        )\n",
    "    }\n",
    "\n",
    "    # Upsert quotes into LUSID\n",
    "    response = quotes_api.upsert_quotes(\n",
    "        scope=market_data_scope, request_body=instrument_quotes\n",
    "    )\n",
    "\n",
    "    if response.failed != {}:\n",
    "        print(f\"Some failures occurred during quotes upsertion, {len(response.failed)} did not get loaded into LUSID.\")"
   ]
  },
  {
   "cell_type": "markdown",
   "metadata": {},
   "source": [
    "## 7.1 Spot Ladder Calculation\n",
    "\n",
    "The next section is the actual calculation of the spot ladder."
   ]
  },
  {
   "cell_type": "code",
   "execution_count": 30,
   "metadata": {},
   "outputs": [],
   "source": [
    "# now run the spot ladder\n",
    "bump = 0.01\n",
    "spot_ladder_pvs_opt1 = pd.DataFrame()\n",
    "spot_ladder_pvs_opt2 = pd.DataFrame()\n",
    "\n",
    "for i in range (-10 , 5):\n",
    "    rung_spot = base_spot_rate + (i * bump)\n",
    "    upsert_single_quote (rung_spot, calculation_date)\n",
    "    valuation = run_valuation(calculation_date, portfolio_code_opt1, recipe_code_opt1)\n",
    "    valuation[\"spot_rate\"] = rung_spot\n",
    "    spot_ladder_pvs_opt1 = pd.concat([spot_ladder_pvs_opt1, valuation], axis=0)\n",
    "    \n",
    "    valuation = run_valuation(calculation_date, portfolio_code_opt2, recipe_code_opt2)\n",
    "    valuation[\"spot_rate\"] = rung_spot\n",
    "    spot_ladder_pvs_opt2 = pd.concat([spot_ladder_pvs_opt2, valuation], axis=0)\n",
    "    \n",
    "\n",
    "#tidy up and reset the spot rate\n",
    "upsert_single_quote (base_spot_rate, calculation_date)\n",
    "\n",
    "#sum the results for the portfolio (we need to do this as there are multiple results returned for some models incorrectly)\n",
    "portfolio_results_opt1 = spot_ladder_pvs_opt1.groupby([\"spot_rate\"])[\"Market Value\"].sum().reset_index()\n",
    "portfolio_results_opt2 = spot_ladder_pvs_opt2.groupby([\"spot_rate\"])[\"Market Value\"].sum().reset_index()"
   ]
  },
  {
   "cell_type": "markdown",
   "metadata": {},
   "source": [
    "Displaying the PV results graphically for the portfolio"
   ]
  },
  {
   "cell_type": "code",
   "execution_count": 31,
   "metadata": {},
   "outputs": [
    {
     "data": {
      "image/png": "[encoded data removed]",
      "text/plain": [
       "<Figure size 640x480 with 1 Axes>"
      ]
     },
     "metadata": {},
     "output_type": "display_data"
    }
   ],
   "source": [
    "# Get axis data and create plot of the PV\n",
    "plt.plot(portfolio_results_opt1[\"spot_rate\"],portfolio_results_opt1[\"Market Value\"], color='#ff5200' , marker='o', markersize=5, linestyle='--', linewidth=1, label=\"Option 1\")\n",
    "plt.plot(portfolio_results_opt2[\"spot_rate\"],portfolio_results_opt2[\"Market Value\"], color='#4b6dd1' , marker='o', markersize=5, linestyle='--', linewidth=1, label=\"Option 2\")\n",
    "\n",
    "plt.title('Spot Ladder for both Options', color = '#4b6dd1')\n",
    "plt.ylabel('PV', color = '#4b6dd1')\n",
    "plt.xlabel('EURUSD Spot', color = '#4b6dd1')\n",
    "plt.xticks(color = '#4b6dd1')\n",
    "plt.yticks(color = '#4b6dd1')\n",
    "plt.legend(loc=\"upper left\")\n",
    "plt.show()"
   ]
  },
  {
   "cell_type": "markdown",
   "metadata": {},
   "source": [
    "## 7.2 Spot Ladder at a different valuation date"
   ]
  },
  {
   "cell_type": "code",
   "execution_count": 32,
   "metadata": {},
   "outputs": [],
   "source": [
    "#Now move the calcuation date forward\n",
    "calculation_date = datetime(2021, 2, 14, tzinfo=pytz.utc)\n",
    "quotes = lm.QuoteSeriesId(\n",
    "    provider=market_supplier,\n",
    "    instrument_id=\"EUR/USD\",\n",
    "    instrument_id_type=\"CurrencyPair\",\n",
    "    quote_type=\"Rate\",\n",
    "    field=\"mid\")\n",
    "\n",
    "quotes_response = quotes_api.get_quotes(\n",
    "    scope = market_data_scope,\n",
    "    effective_at = calculation_date,\n",
    "    request_body = {\"1\" : quotes}\n",
    ")\n",
    "                                         \n",
    "base_spot_rate = quotes_response.values[\"1\"].metric_value.value"
   ]
  },
  {
   "cell_type": "code",
   "execution_count": 33,
   "metadata": {},
   "outputs": [],
   "source": [
    "# now run the spot ladder\n",
    "bump = 0.01\n",
    "spot_ladder_pvs_opt1 = pd.DataFrame()\n",
    "spot_ladder_pvs_opt2 = pd.DataFrame()\n",
    "\n",
    "for i in range (-7 , 8):\n",
    "    rung_spot = base_spot_rate + (i * bump)\n",
    "    upsert_single_quote (rung_spot, calculation_date)\n",
    "    valuation = run_valuation(calculation_date, portfolio_code_opt1, recipe_code_opt1)\n",
    "    valuation[\"spot_rate\"] = rung_spot\n",
    "    spot_ladder_pvs_opt1 = pd.concat([spot_ladder_pvs_opt1, valuation], axis=0)\n",
    "    \n",
    "    valuation = run_valuation(calculation_date, portfolio_code_opt2, recipe_code_opt2)\n",
    "    valuation[\"spot_rate\"] = rung_spot\n",
    "    spot_ladder_pvs_opt2 = pd.concat([spot_ladder_pvs_opt2, valuation], axis=0)\n",
    "\n",
    "#tidy up and reset the spot rate\n",
    "upsert_single_quote (base_spot_rate, calculation_date)\n",
    "    \n",
    "#sum the results for the portfolio\n",
    "portfolio_results_opt1_t1 = spot_ladder_pvs_opt1.groupby([\"spot_rate\"])[\"Market Value\"].sum().reset_index()\n",
    "portfolio_results_opt2_t1 = spot_ladder_pvs_opt2.groupby([\"spot_rate\"])[\"Market Value\"].sum().reset_index()"
   ]
  },
  {
   "cell_type": "code",
   "execution_count": 34,
   "metadata": {},
   "outputs": [
    {
     "data": {
      "image/png": "[encoded data removed]",
      "text/plain": [
       "<Figure size 640x480 with 1 Axes>"
      ]
     },
     "metadata": {},
     "output_type": "display_data"
    }
   ],
   "source": [
    "# Get axis data and create plot of the PV\n",
    "plt.plot(portfolio_results_opt1[\"spot_rate\"],portfolio_results_opt1[\"Market Value\"], color='#ff5200' , marker='o', markersize=5, linestyle='--', linewidth=1, label=\"Valuation @23-01-2021\")\n",
    "plt.plot(portfolio_results_opt1_t1[\"spot_rate\"],portfolio_results_opt1_t1[\"Market Value\"], color='#4b6dd1' , marker='o', markersize=5, linestyle='--', linewidth=1, label=\"Valuation @14-02-2021\")\n",
    "\n",
    "plt.title('Spot Ladder for Option1 at 2 time points', color = '#4b6dd1')\n",
    "plt.ylabel('PV', color = '#4b6dd1')\n",
    "plt.xlabel('EURUSD Spot', color = '#4b6dd1')\n",
    "plt.xticks(color = '#4b6dd1')\n",
    "plt.yticks(color = '#4b6dd1')\n",
    "plt.legend(loc=\"upper left\")\n",
    "plt.show()"
   ]
  },
  {
   "cell_type": "code",
   "execution_count": 35,
   "metadata": {},
   "outputs": [
    {
     "data": {
      "image/png": "[encoded data removed]",
      "text/plain": [
       "<Figure size 640x480 with 1 Axes>"
      ]
     },
     "metadata": {},
     "output_type": "display_data"
    }
   ],
   "source": [
    "# Get axis data and create plot of the PV\n",
    "plt.plot(portfolio_results_opt2[\"spot_rate\"],portfolio_results_opt2[\"Market Value\"], color='#ff5200' , marker='o', markersize=5, linestyle='--', linewidth=1, label=\"Valuation @23-01-2021\")\n",
    "plt.plot(portfolio_results_opt2_t1[\"spot_rate\"],portfolio_results_opt2_t1[\"Market Value\"], color='#4b6dd1' , marker='o', markersize=5, linestyle='--', linewidth=1, label=\"Valuation @14-02-2021\")\n",
    "\n",
    "plt.title('Spot Ladder for Option2 at 2 time points', color = '#4b6dd1')\n",
    "plt.ylabel('PV', color = '#4b6dd1')\n",
    "plt.xlabel('EURUSD Spot', color = '#4b6dd1')\n",
    "plt.xticks(color = '#4b6dd1')\n",
    "plt.yticks(color = '#4b6dd1')\n",
    "plt.legend(loc=\"upper left\")\n",
    "plt.show()"
   ]
  },
  {
   "cell_type": "markdown",
   "metadata": {},
   "source": [
    "# 8. Check upsertable cashflows"
   ]
  },
  {
   "cell_type": "markdown",
   "metadata": {},
   "source": [
    "## 8.1 Option 1 "
   ]
  },
  {
   "cell_type": "code",
   "execution_count": 36,
   "metadata": {},
   "outputs": [
    {
     "data": {
      "text/html": [
       "<div>\n",
       "<style scoped>\n",
       "    .dataframe tbody tr th:only-of-type {\n",
       "        vertical-align: middle;\n",
       "    }\n",
       "\n",
       "    .dataframe tbody tr th {\n",
       "        vertical-align: top;\n",
       "    }\n",
       "\n",
       "    .dataframe thead th {\n",
       "        text-align: right;\n",
       "    }\n",
       "</style>\n",
       "<table border=\"1\" class=\"dataframe\">\n",
       "  <thead>\n",
       "    <tr style=\"text-align: right;\">\n",
       "      <th></th>\n",
       "      <th>Valuation/PV/Amount</th>\n",
       "      <th>InstrumentName</th>\n",
       "      <th>ClientInternal</th>\n",
       "      <th>Holding/Units</th>\n",
       "      <th>Market Value</th>\n",
       "      <th>Valuation/Delta</th>\n",
       "      <th>Valuation/Risk/SpotDelta</th>\n",
       "    </tr>\n",
       "  </thead>\n",
       "  <tbody>\n",
       "    <tr>\n",
       "      <th>0</th>\n",
       "      <td>1,000,000.0000</td>\n",
       "      <td>EUR/USD FX Option 02/19/2021 1.205</td>\n",
       "      <td>EURUSDOption1Demo</td>\n",
       "      <td>1,000,000.0000</td>\n",
       "      <td>1,000,000.0000</td>\n",
       "      <td>None</td>\n",
       "      <td>None</td>\n",
       "    </tr>\n",
       "    <tr>\n",
       "      <th>1</th>\n",
       "      <td>-20,000.0000</td>\n",
       "      <td>EUR</td>\n",
       "      <td>None</td>\n",
       "      <td>-20,000.0000</td>\n",
       "      <td>-20,000.0000</td>\n",
       "      <td>None</td>\n",
       "      <td>None</td>\n",
       "    </tr>\n",
       "  </tbody>\n",
       "</table>\n",
       "</div>"
      ],
      "text/plain": [
       "   Valuation/PV/Amount                      InstrumentName     ClientInternal  \\\n",
       "0       1,000,000.0000  EUR/USD FX Option 02/19/2021 1.205  EURUSDOption1Demo   \n",
       "1         -20,000.0000                                 EUR               None   \n",
       "\n",
       "   Holding/Units   Market Value Valuation/Delta Valuation/Risk/SpotDelta  \n",
       "0 1,000,000.0000 1,000,000.0000            None                     None  \n",
       "1   -20,000.0000   -20,000.0000            None                     None  "
      ]
     },
     "metadata": {},
     "output_type": "display_data"
    }
   ],
   "source": [
    "# get valuation at expiry\n",
    "valuation = run_valuation(trade_date + timedelta(days = 30), portfolio_code_opt1, recipe_code_opt1)\n",
    "display(valuation)"
   ]
  },
  {
   "cell_type": "code",
   "execution_count": 37,
   "metadata": {},
   "outputs": [
    {
     "data": {
      "text/html": [
       "<div>\n",
       "<style scoped>\n",
       "    .dataframe tbody tr th:only-of-type {\n",
       "        vertical-align: middle;\n",
       "    }\n",
       "\n",
       "    .dataframe tbody tr th {\n",
       "        vertical-align: top;\n",
       "    }\n",
       "\n",
       "    .dataframe thead th {\n",
       "        text-align: right;\n",
       "    }\n",
       "</style>\n",
       "<table border=\"1\" class=\"dataframe\">\n",
       "  <thead>\n",
       "    <tr style=\"text-align: right;\">\n",
       "      <th></th>\n",
       "      <th>transaction_id</th>\n",
       "      <th>type</th>\n",
       "      <th>instrument_identifiers.Instrument/default/LusidInstrumentId</th>\n",
       "      <th>instrument_scope</th>\n",
       "      <th>instrument_uid</th>\n",
       "      <th>transaction_date</th>\n",
       "      <th>settlement_date</th>\n",
       "      <th>units</th>\n",
       "      <th>transaction_price.price</th>\n",
       "      <th>transaction_price.type</th>\n",
       "      <th>total_consideration.amount</th>\n",
       "      <th>total_consideration.currency</th>\n",
       "      <th>exchange_rate</th>\n",
       "      <th>transaction_currency</th>\n",
       "      <th>properties.Transaction/ibor-option-2/DealId.key</th>\n",
       "      <th>properties.Transaction/ibor-option-2/DealId.value.label_value</th>\n",
       "      <th>source</th>\n",
       "      <th>entry_date_time</th>\n",
       "      <th>transaction_status</th>\n",
       "    </tr>\n",
       "  </thead>\n",
       "  <tbody>\n",
       "    <tr>\n",
       "      <th>0</th>\n",
       "      <td>TXN001.1-LUID_00003G7T-20210221-Principal-EUR-Pay</td>\n",
       "      <td>CashFlow</td>\n",
       "      <td>LUID_00003G7T</td>\n",
       "      <td>ibor-option-2</td>\n",
       "      <td>LUID_00003G7T</td>\n",
       "      <td>2021-02-21 00:00:00+00:00</td>\n",
       "      <td>2021-02-21 00:00:00+00:00</td>\n",
       "      <td>-39,958.5743</td>\n",
       "      <td>1.0000</td>\n",
       "      <td>Price</td>\n",
       "      <td>-39,958.5743</td>\n",
       "      <td>EUR</td>\n",
       "      <td>1.0000</td>\n",
       "      <td>EUR</td>\n",
       "      <td>Transaction/ibor-option-2/DealId</td>\n",
       "      <td>TXN001</td>\n",
       "      <td>default</td>\n",
       "      <td>0001-01-01 00:00:00+00:00</td>\n",
       "      <td>Active</td>\n",
       "    </tr>\n",
       "  </tbody>\n",
       "</table>\n",
       "</div>"
      ],
      "text/plain": [
       "                                      transaction_id      type  \\\n",
       "0  TXN001.1-LUID_00003G7T-20210221-Principal-EUR-Pay  CashFlow   \n",
       "\n",
       "  instrument_identifiers.Instrument/default/LusidInstrumentId  \\\n",
       "0                                      LUID_00003G7T            \n",
       "\n",
       "  instrument_scope instrument_uid          transaction_date  \\\n",
       "0    ibor-option-2  LUID_00003G7T 2021-02-21 00:00:00+00:00   \n",
       "\n",
       "            settlement_date        units  transaction_price.price  \\\n",
       "0 2021-02-21 00:00:00+00:00 -39,958.5743                   1.0000   \n",
       "\n",
       "  transaction_price.type  total_consideration.amount  \\\n",
       "0                  Price                -39,958.5743   \n",
       "\n",
       "  total_consideration.currency  exchange_rate transaction_currency  \\\n",
       "0                          EUR         1.0000                  EUR   \n",
       "\n",
       "  properties.Transaction/ibor-option-2/DealId.key  \\\n",
       "0                Transaction/ibor-option-2/DealId   \n",
       "\n",
       "  properties.Transaction/ibor-option-2/DealId.value.label_value   source  \\\n",
       "0                                             TXN001             default   \n",
       "\n",
       "             entry_date_time transaction_status  \n",
       "0  0001-01-01 00:00:00+00:00             Active  "
      ]
     },
     "execution_count": 37,
     "metadata": {},
     "output_type": "execute_result"
    }
   ],
   "source": [
    "option_exercise_date = datetime(2021, 2, 19, tzinfo=pytz.utc)\n",
    "# Getting the cashflows as a result of Option_1 exercising.\n",
    "exercise_cash_flows = transaction_portfolios_api.get_upsertable_portfolio_cash_flows(\n",
    "    scope=scope,\n",
    "    code=portfolio_code_opt1,\n",
    "    effective_at=option_exercise_date,\n",
    "    window_start=option_exercise_date,\n",
    "    window_end=option_exercise_date + timedelta(days=2),\n",
    "    recipe_id_scope=market_data_scope,\n",
    "    recipe_id_code=recipe_code_opt1\n",
    ")\n",
    "\n",
    "# we create a dataframe out of the cash flows table\n",
    "cash_flow_table = lusid_response_to_data_frame(exercise_cash_flows)\n",
    "cash_flow_table"
   ]
  },
  {
   "cell_type": "markdown",
   "metadata": {},
   "source": [
    "## 8.2 Option 2 "
   ]
  },
  {
   "cell_type": "code",
   "execution_count": 38,
   "metadata": {},
   "outputs": [
    {
     "data": {
      "text/html": [
       "<div>\n",
       "<style scoped>\n",
       "    .dataframe tbody tr th:only-of-type {\n",
       "        vertical-align: middle;\n",
       "    }\n",
       "\n",
       "    .dataframe tbody tr th {\n",
       "        vertical-align: top;\n",
       "    }\n",
       "\n",
       "    .dataframe thead th {\n",
       "        text-align: right;\n",
       "    }\n",
       "</style>\n",
       "<table border=\"1\" class=\"dataframe\">\n",
       "  <thead>\n",
       "    <tr style=\"text-align: right;\">\n",
       "      <th></th>\n",
       "      <th>Valuation/PV/Amount</th>\n",
       "      <th>InstrumentName</th>\n",
       "      <th>ClientInternal</th>\n",
       "      <th>Holding/Units</th>\n",
       "      <th>Market Value</th>\n",
       "      <th>Valuation/Delta</th>\n",
       "      <th>Valuation/Risk/SpotDelta</th>\n",
       "    </tr>\n",
       "  </thead>\n",
       "  <tbody>\n",
       "    <tr>\n",
       "      <th>0</th>\n",
       "      <td>48,269.1357</td>\n",
       "      <td>EUR/USD FX Option 02/19/2021 1.205</td>\n",
       "      <td>EURUSDOption2Demo</td>\n",
       "      <td>1,000,000.0000</td>\n",
       "      <td>48,269.1357</td>\n",
       "      <td>None</td>\n",
       "      <td>None</td>\n",
       "    </tr>\n",
       "    <tr>\n",
       "      <th>1</th>\n",
       "      <td>-20,000.0000</td>\n",
       "      <td>EUR</td>\n",
       "      <td>None</td>\n",
       "      <td>-20,000.0000</td>\n",
       "      <td>-20,000.0000</td>\n",
       "      <td>None</td>\n",
       "      <td>None</td>\n",
       "    </tr>\n",
       "  </tbody>\n",
       "</table>\n",
       "</div>"
      ],
      "text/plain": [
       "   Valuation/PV/Amount                      InstrumentName     ClientInternal  \\\n",
       "0          48,269.1357  EUR/USD FX Option 02/19/2021 1.205  EURUSDOption2Demo   \n",
       "1         -20,000.0000                                 EUR               None   \n",
       "\n",
       "   Holding/Units  Market Value Valuation/Delta Valuation/Risk/SpotDelta  \n",
       "0 1,000,000.0000   48,269.1357            None                     None  \n",
       "1   -20,000.0000  -20,000.0000            None                     None  "
      ]
     },
     "metadata": {},
     "output_type": "display_data"
    }
   ],
   "source": [
    "# get valuation at expiry\n",
    "valuation = run_valuation(trade_date + timedelta(days = 29), portfolio_code_opt2, recipe_code_opt2)\n",
    "display(valuation)"
   ]
  },
  {
   "cell_type": "code",
   "execution_count": 39,
   "metadata": {},
   "outputs": [
    {
     "data": {
      "text/html": [
       "<div>\n",
       "<style scoped>\n",
       "    .dataframe tbody tr th:only-of-type {\n",
       "        vertical-align: middle;\n",
       "    }\n",
       "\n",
       "    .dataframe tbody tr th {\n",
       "        vertical-align: top;\n",
       "    }\n",
       "\n",
       "    .dataframe thead th {\n",
       "        text-align: right;\n",
       "    }\n",
       "</style>\n",
       "<table border=\"1\" class=\"dataframe\">\n",
       "  <thead>\n",
       "    <tr style=\"text-align: right;\">\n",
       "      <th></th>\n",
       "      <th>transaction_id</th>\n",
       "      <th>type</th>\n",
       "      <th>instrument_identifiers.Instrument/default/LusidInstrumentId</th>\n",
       "      <th>instrument_scope</th>\n",
       "      <th>instrument_uid</th>\n",
       "      <th>transaction_date</th>\n",
       "      <th>settlement_date</th>\n",
       "      <th>units</th>\n",
       "      <th>transaction_price.price</th>\n",
       "      <th>transaction_price.type</th>\n",
       "      <th>total_consideration.amount</th>\n",
       "      <th>total_consideration.currency</th>\n",
       "      <th>exchange_rate</th>\n",
       "      <th>transaction_currency</th>\n",
       "      <th>properties.Transaction/ibor-option-2/DealId.key</th>\n",
       "      <th>properties.Transaction/ibor-option-2/DealId.value.label_value</th>\n",
       "      <th>source</th>\n",
       "      <th>entry_date_time</th>\n",
       "      <th>transaction_status</th>\n",
       "    </tr>\n",
       "  </thead>\n",
       "  <tbody>\n",
       "    <tr>\n",
       "      <th>0</th>\n",
       "      <td>TXN002.1-LUID_00003G6Y-20210221-Principal-EUR-Pay</td>\n",
       "      <td>CashFlow</td>\n",
       "      <td>LUID_00003G6Y</td>\n",
       "      <td>ibor-option-2</td>\n",
       "      <td>LUID_00003G6Y</td>\n",
       "      <td>2021-02-21 00:00:00+00:00</td>\n",
       "      <td>2021-02-21 00:00:00+00:00</td>\n",
       "      <td>-1,000,000.0000</td>\n",
       "      <td>1.0000</td>\n",
       "      <td>Price</td>\n",
       "      <td>-1,000,000.0000</td>\n",
       "      <td>EUR</td>\n",
       "      <td>1.0000</td>\n",
       "      <td>EUR</td>\n",
       "      <td>Transaction/ibor-option-2/DealId</td>\n",
       "      <td>TXN002</td>\n",
       "      <td>default</td>\n",
       "      <td>0001-01-01 00:00:00+00:00</td>\n",
       "      <td>Active</td>\n",
       "    </tr>\n",
       "    <tr>\n",
       "      <th>1</th>\n",
       "      <td>TXN002.1-LUID_00003G6Y-20210221-Principal-USD-...</td>\n",
       "      <td>CashFlow</td>\n",
       "      <td>LUID_00003G6Y</td>\n",
       "      <td>ibor-option-2</td>\n",
       "      <td>LUID_00003G6Y</td>\n",
       "      <td>2021-02-21 00:00:00+00:00</td>\n",
       "      <td>2021-02-21 00:00:00+00:00</td>\n",
       "      <td>1,205,000.0000</td>\n",
       "      <td>1.0000</td>\n",
       "      <td>Price</td>\n",
       "      <td>1,205,000.0000</td>\n",
       "      <td>USD</td>\n",
       "      <td>1.0000</td>\n",
       "      <td>USD</td>\n",
       "      <td>Transaction/ibor-option-2/DealId</td>\n",
       "      <td>TXN002</td>\n",
       "      <td>default</td>\n",
       "      <td>0001-01-01 00:00:00+00:00</td>\n",
       "      <td>Active</td>\n",
       "    </tr>\n",
       "  </tbody>\n",
       "</table>\n",
       "</div>"
      ],
      "text/plain": [
       "                                      transaction_id      type  \\\n",
       "0  TXN002.1-LUID_00003G6Y-20210221-Principal-EUR-Pay  CashFlow   \n",
       "1  TXN002.1-LUID_00003G6Y-20210221-Principal-USD-...  CashFlow   \n",
       "\n",
       "  instrument_identifiers.Instrument/default/LusidInstrumentId  \\\n",
       "0                                      LUID_00003G6Y            \n",
       "1                                      LUID_00003G6Y            \n",
       "\n",
       "  instrument_scope instrument_uid          transaction_date  \\\n",
       "0    ibor-option-2  LUID_00003G6Y 2021-02-21 00:00:00+00:00   \n",
       "1    ibor-option-2  LUID_00003G6Y 2021-02-21 00:00:00+00:00   \n",
       "\n",
       "            settlement_date           units  transaction_price.price  \\\n",
       "0 2021-02-21 00:00:00+00:00 -1,000,000.0000                   1.0000   \n",
       "1 2021-02-21 00:00:00+00:00  1,205,000.0000                   1.0000   \n",
       "\n",
       "  transaction_price.type  total_consideration.amount  \\\n",
       "0                  Price             -1,000,000.0000   \n",
       "1                  Price              1,205,000.0000   \n",
       "\n",
       "  total_consideration.currency  exchange_rate transaction_currency  \\\n",
       "0                          EUR         1.0000                  EUR   \n",
       "1                          USD         1.0000                  USD   \n",
       "\n",
       "  properties.Transaction/ibor-option-2/DealId.key  \\\n",
       "0                Transaction/ibor-option-2/DealId   \n",
       "1                Transaction/ibor-option-2/DealId   \n",
       "\n",
       "  properties.Transaction/ibor-option-2/DealId.value.label_value   source  \\\n",
       "0                                             TXN002             default   \n",
       "1                                             TXN002             default   \n",
       "\n",
       "             entry_date_time transaction_status  \n",
       "0  0001-01-01 00:00:00+00:00             Active  \n",
       "1  0001-01-01 00:00:00+00:00             Active  "
      ]
     },
     "execution_count": 39,
     "metadata": {},
     "output_type": "execute_result"
    }
   ],
   "source": [
    "option_exercise_date = datetime(2021, 2, 19, tzinfo=pytz.utc)\n",
    "# Getting the cashflows as a result of Option_1 exercising.\n",
    "exercise_cash_flows = transaction_portfolios_api.get_upsertable_portfolio_cash_flows(\n",
    "    scope=scope,\n",
    "    code=portfolio_code_opt2,\n",
    "    effective_at=option_exercise_date,\n",
    "    window_start=option_exercise_date,\n",
    "    window_end=option_exercise_date + timedelta(days=2),\n",
    "    recipe_id_scope=market_data_scope,\n",
    "    recipe_id_code=recipe_code_opt2\n",
    ")\n",
    "\n",
    "# we create a dataframe out of the cash flows table\n",
    "cash_flow_table = lusid_response_to_data_frame(exercise_cash_flows)\n",
    "cash_flow_table"
   ]
  },
  {
   "cell_type": "code",
   "execution_count": 40,
   "metadata": {},
   "outputs": [
    {
     "name": "stdout",
     "output_type": "stream",
     "text": [
      "Spot rate at expiry: 1.1587\n"
     ]
    }
   ],
   "source": [
    "quotes = lm.QuoteSeriesId(\n",
    "    provider=market_supplier,\n",
    "    instrument_id=\"EUR/USD\",\n",
    "    instrument_id_type=\"CurrencyPair\",\n",
    "    quote_type=\"Rate\",\n",
    "    field=\"mid\")\n",
    "\n",
    "quotes_response = quotes_api.get_quotes(\n",
    "    scope = market_data_scope,\n",
    "    effective_at = option_exercise_date,\n",
    "    request_body = {\"1\" : quotes}\n",
    ")\n",
    "                                         \n",
    "spot_rate = quotes_response.values[\"1\"].metric_value.value\n",
    "print(f\"Spot rate at expiry: {spot_rate}\")"
   ]
  }
 ],
 "metadata": {
  "kernelspec": {
   "display_name": "Python 3 (ipykernel)",
   "language": "python",
   "name": "python3"
  },
  "language_info": {
   "codemirror_mode": {
    "name": "ipython",
    "version": 3
   },
   "file_extension": ".py",
   "mimetype": "text/x-python",
   "name": "python",
   "nbconvert_exporter": "python",
   "pygments_lexer": "ipython3",
   "version": "3.9.7"
  }
 },
 "nbformat": 4,
 "nbformat_minor": 1
}
