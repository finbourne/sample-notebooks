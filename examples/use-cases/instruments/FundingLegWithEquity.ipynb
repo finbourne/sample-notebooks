{
 "cells": [
  {
   "cell_type": "code",
   "execution_count": 1,
   "id": "9dc53fde",
   "metadata": {},
   "outputs": [
    {
     "data": {
      "text/plain": "<IPython.core.display.HTML object>",
      "text/html": "\n    <form action=\"javascript:code_toggle()\"><input type=\"submit\" id=\"toggleButton\" value=\"Hide docstring\"></form>\n    \n         <script>\n         function code_toggle() {\n             if ($('div.cell.code_cell.rendered.selected div.input').css('display')!='none'){\n                 $('div.cell.code_cell.rendered.selected div.input').hide();\n             } else {\n                 $('div.cell.code_cell.rendered.selected div.input').show();\n             }\n         }\n         </script>\n\n     "
     },
     "metadata": {},
     "output_type": "display_data"
    }
   ],
   "source": [
    "import pandas\n",
    "from lusidtools.jupyter_tools import toggle_code\n",
    "\n",
    "\"\"\"Variable Funding Leg + Equity or Cash Instrument\n",
    "\n",
    "Demonstrates creation and pricing of a funding leg with \n",
    "variable notional and constructing a related position in\n",
    "an stock or underlying instrument. This construct can be used\n",
    "to represent the mechanics of a total return or equity swap.\n",
    "\n",
    "Attributes\n",
    "----------\n",
    "instruments\n",
    "aggregation\n",
    "market data store\n",
    "results store\n",
    "quotes\n",
    "\"\"\"\n",
    "\n",
    "toggle_code(\"Hide docstring\")"
   ]
  },
  {
   "cell_type": "markdown",
   "id": "5d0d3cd1",
   "metadata": {},
   "source": [
    "### Pricing a Funding Leg with an Equity Position"
   ]
  },
  {
   "cell_type": "code",
   "execution_count": 2,
   "id": "f84b2d3f",
   "metadata": {},
   "outputs": [
    {
     "name": "stdout",
     "output_type": "stream",
     "text": [
      "LUSID Environment Initialised\n",
      "LUSID SDK Version:  0.6.8411.0\n"
     ]
    }
   ],
   "source": [
    "# Import LUSID\n",
    "import lusid\n",
    "import lusid.models as lm\n",
    "from lusidtools.cocoon.cocoon import load_from_data_frame\n",
    "from lusidtools.cocoon.cocoon_printer import (\n",
    "    format_portfolios_response,\n",
    "    format_quotes_response,\n",
    ")\n",
    "\n",
    "# Import notebook specific utilities\n",
    "from utilities.instrument_utils import (\n",
    "    add_utc_to_df,\n",
    "    valuation_response_to_df,\n",
    "    upsert_instrument,\n",
    "    create_property,\n",
    "    equity_swap_transaction\n",
    ")\n",
    "\n",
    "from lusidtools.pandas_utils.lusid_pandas import lusid_response_to_data_frame\n",
    "\n",
    "# Import Libraries\n",
    "from datetime import datetime, timedelta, time\n",
    "from dateutil.parser import parse\n",
    "import pytz\n",
    "import pandas as pd\n",
    "from lusidjam.refreshing_token import RefreshingToken\n",
    "import os\n",
    "\n",
    "# Set the secrets path\n",
    "secrets_path = os.getenv(\"FBN_SECRETS_PATH\")\n",
    "\n",
    "# For running the notebook locally\n",
    "if secrets_path is None:\n",
    "    secrets_path = os.path.join(os.path.dirname(os.getcwd()), \"secrets.json\")\n",
    "\n",
    "api_factory = lusid.utilities.ApiClientFactory(\n",
    "        token=RefreshingToken(),\n",
    "        api_secrets_filename = secrets_path,\n",
    "        app_name=\"LusidJupyterNotebook\")\n",
    "\n",
    "# Set DataFrame display formats\n",
    "pd.set_option(\"display.max_columns\", None)\n",
    "pd.set_option(\"display.max_rows\", None)\n",
    "pd.options.display.float_format = \"{:,.2f}\".format\n",
    "\n",
    "print ('LUSID Environment Initialised')\n",
    "print ('LUSID SDK Version: ', api_factory.build(lusid.api.ApplicationMetadataApi).get_lusid_versions().build_version)"
   ]
  },
  {
   "cell_type": "code",
   "execution_count": 3,
   "id": "7c32fe38",
   "metadata": {},
   "outputs": [],
   "source": [
    "# Setup the apis we'll use in this notebook:\n",
    "aggregation_api = api_factory.build(lusid.AggregationApi)\n",
    "quotes_api = api_factory.build(lusid.api.QuotesApi)\n",
    "transaction_portfolios_api = api_factory.build(lusid.api.TransactionPortfoliosApi)\n",
    "configuration_recipe_api = api_factory.build(lusid.ConfigurationRecipeApi)\n",
    "\n",
    "# Set the scope we'll use in this notebook:\n",
    "scope = \"variable-funding-leg\""
   ]
  },
  {
   "cell_type": "markdown",
   "id": "645b805b",
   "metadata": {},
   "source": [
    "# 1. Setup"
   ]
  },
  {
   "cell_type": "markdown",
   "id": "791043e8",
   "metadata": {},
   "source": [
    "## 1.1 Create Instruments\n",
    "\n",
    "We begin by defining the details of the funding leg with the following characteristics:\n",
    "\n",
    "- Inception Date: 2021-04-05\n",
    "- Maturity Date: 2022-04-05\n",
    "- Currency: USD\n",
    "- Initial Notional: 0\n",
    "- Index: USD 3M Libor\n",
    "- Spread: 25 bp\n",
    "\n",
    "\n",
    "Notice that the initial notional is set to zero, as we will be booking this later on in the transactions. For accruals, the funding leg will store the notional history and accrue accordingly."
   ]
  },
  {
   "cell_type": "code",
   "execution_count": 4,
   "id": "f3fa9583",
   "metadata": {},
   "outputs": [],
   "source": [
    "# Set swap details for start date and maturity\n",
    "start_date = datetime(2021, 4, 5, 0, 0, tzinfo=pytz.utc)\n",
    "\n",
    "effective_delta = 1\n",
    "\n",
    "# Create a 1y 'USD' Funding leg specifications\n",
    "effective_at = start_date\n",
    "end_date = datetime(2022, 4, 5, 0, 0, tzinfo=pytz.utc)\n",
    "currency = \"USD\"\n",
    "initial_notional = 0\n",
    "spread = 0.0025\n",
    "leg_identifier=\"FundingLeg001\"\n",
    "leg_name = \"Variable Funding Leg\""
   ]
  },
  {
   "cell_type": "code",
   "execution_count": 5,
   "id": "9d954c33",
   "metadata": {},
   "outputs": [
    {
     "name": "stdout",
     "output_type": "stream",
     "text": [
      "Instrument Variable Funding Leg was successfully upserted into LUSID\n",
      "Instrument created with LUID:LUID_IJ2ZEC61\n"
     ]
    }
   ],
   "source": [
    "# Define the flow conventions of the floating leg\n",
    "floating_leg_convention = lm.FlowConventions(\n",
    "    currency=currency,\n",
    "    payment_frequency=\"3M\",\n",
    "    day_count_convention=\"Act360\",\n",
    "    roll_convention=\"ModifiedFollowing\",\n",
    "    payment_calendars=[],\n",
    "    reset_calendars=[],\n",
    "    settle_days=0,\n",
    "    reset_days=0\n",
    ")\n",
    "\n",
    "# Define the flow conventions of the underlying index\n",
    "floating_leg_idx_convention = lm.IndexConvention(\n",
    "    currency=currency,\n",
    "    code=\"LIBOR\",\n",
    "    payment_tenor=\"3M\",\n",
    "    fixing_reference=\"USD3M\",\n",
    "    publication_day_lag=0,\n",
    "    day_count_convention=\"Act360\"\n",
    ")\n",
    "\n",
    "# Set the leg definition and side\n",
    "floating_leg_definition = lm.LegDefinition(\n",
    "    conventions=floating_leg_convention,\n",
    "    index_convention = floating_leg_idx_convention,\n",
    "    notional_exchange_type = \"None\",\n",
    "    pay_receive = \"Pay\",\n",
    "    rate_or_spread = spread,\n",
    "    stub_type = \"Back\"\n",
    ")\n",
    "\n",
    "# Define the funding leg\n",
    "funding_leg = lm.FundingLeg(\n",
    "    start_date=start_date,\n",
    "    maturity_date=end_date,\n",
    "    notional=initial_notional,\n",
    "    leg_definition=floating_leg_definition,\n",
    "    instrument_type=\"FundingLeg\"\n",
    ")\n",
    "\n",
    "# Upsert the instrument to LUSID\n",
    "upsert_instrument(api_factory=api_factory, name=leg_name, identifier=leg_identifier, definition=funding_leg)"
   ]
  },
  {
   "cell_type": "markdown",
   "id": "ac7ff6b6",
   "metadata": {},
   "source": [
    "Next we will define and upsert the equity that will be paired with the funding leg to construct the swap. In this case we will be using an **AMZN** stock as the example."
   ]
  },
  {
   "cell_type": "code",
   "execution_count": 6,
   "id": "2088bd35",
   "metadata": {},
   "outputs": [],
   "source": [
    "# Set the details of the stock\n",
    "equity_name = \"Amazon\"\n",
    "equity_identifier = \"AMZN\"\n",
    "dom_ccy = \"USD\""
   ]
  },
  {
   "cell_type": "code",
   "execution_count": 7,
   "id": "f93df0b4",
   "metadata": {},
   "outputs": [
    {
     "name": "stdout",
     "output_type": "stream",
     "text": [
      "Instrument Amazon was successfully upserted into LUSID\n",
      "Instrument created with LUID:LUID_0000CZRI\n"
     ]
    }
   ],
   "source": [
    "# Define the instrument\n",
    "equity = lm.SimpleInstrument(\n",
    "    instrument_type=\"SimpleInstrument\",\n",
    "    dom_ccy=dom_ccy,\n",
    "    asset_class=\"Equities\",\n",
    "    simple_instrument_type=\"Equity\",\n",
    ")\n",
    "\n",
    "# Upsert the instrument\n",
    "upsert_instrument(api_factory=api_factory, name=equity_name, identifier=equity_identifier, definition=equity)"
   ]
  },
  {
   "cell_type": "markdown",
   "id": "98105d49",
   "metadata": {},
   "source": [
    "## 1.2 Setting up Market Data"
   ]
  },
  {
   "cell_type": "code",
   "execution_count": 8,
   "id": "dd46c124",
   "metadata": {},
   "outputs": [],
   "source": [
    "# Scope used to store our market data\n",
    "market_data_scope = \"FBN\"\n",
    "# The market data supplier\n",
    "market_supplier = 'Lusid'"
   ]
  },
  {
   "cell_type": "markdown",
   "id": "5c1176ea",
   "metadata": {},
   "source": [
    "## 1.3 Equity Quotes"
   ]
  },
  {
   "cell_type": "code",
   "execution_count": 9,
   "id": "caf38b8f",
   "metadata": {},
   "outputs": [
    {
     "data": {
      "text/plain": "                       Date    Price Ticker\n0 2020-12-15 00:00:00+00:00 3,165.12   AMZN\n1 2020-12-16 00:00:00+00:00 3,240.96   AMZN\n2 2020-12-17 00:00:00+00:00 3,236.08   AMZN\n3 2020-12-18 00:00:00+00:00 3,201.65   AMZN\n4 2020-12-21 00:00:00+00:00 3,206.18   AMZN",
      "text/html": "<div>\n<style scoped>\n    .dataframe tbody tr th:only-of-type {\n        vertical-align: middle;\n    }\n\n    .dataframe tbody tr th {\n        vertical-align: top;\n    }\n\n    .dataframe thead th {\n        text-align: right;\n    }\n</style>\n<table border=\"1\" class=\"dataframe\">\n  <thead>\n    <tr style=\"text-align: right;\">\n      <th></th>\n      <th>Date</th>\n      <th>Price</th>\n      <th>Ticker</th>\n    </tr>\n  </thead>\n  <tbody>\n    <tr>\n      <th>0</th>\n      <td>2020-12-15 00:00:00+00:00</td>\n      <td>3,165.12</td>\n      <td>AMZN</td>\n    </tr>\n    <tr>\n      <th>1</th>\n      <td>2020-12-16 00:00:00+00:00</td>\n      <td>3,240.96</td>\n      <td>AMZN</td>\n    </tr>\n    <tr>\n      <th>2</th>\n      <td>2020-12-17 00:00:00+00:00</td>\n      <td>3,236.08</td>\n      <td>AMZN</td>\n    </tr>\n    <tr>\n      <th>3</th>\n      <td>2020-12-18 00:00:00+00:00</td>\n      <td>3,201.65</td>\n      <td>AMZN</td>\n    </tr>\n    <tr>\n      <th>4</th>\n      <td>2020-12-21 00:00:00+00:00</td>\n      <td>3,206.18</td>\n      <td>AMZN</td>\n    </tr>\n  </tbody>\n</table>\n</div>"
     },
     "execution_count": 9,
     "metadata": {},
     "output_type": "execute_result"
    }
   ],
   "source": [
    "# Read quotes and adjust date objects\n",
    "df = pd.read_csv(\"data/amzn_prices.csv\")\n",
    "df[\"Date\"] = pd.to_datetime(df[\"Date\"], dayfirst=True)\n",
    "add_utc_to_df(df)\n",
    "df.head()"
   ]
  },
  {
   "cell_type": "code",
   "execution_count": 10,
   "id": "0c0dc9f8",
   "metadata": {},
   "outputs": [
    {
     "data": {
      "text/plain": "   success  failed  errors\n0      253       0       0",
      "text/html": "<div>\n<style scoped>\n    .dataframe tbody tr th:only-of-type {\n        vertical-align: middle;\n    }\n\n    .dataframe tbody tr th {\n        vertical-align: top;\n    }\n\n    .dataframe thead th {\n        text-align: right;\n    }\n</style>\n<table border=\"1\" class=\"dataframe\">\n  <thead>\n    <tr style=\"text-align: right;\">\n      <th></th>\n      <th>success</th>\n      <th>failed</th>\n      <th>errors</th>\n    </tr>\n  </thead>\n  <tbody>\n    <tr>\n      <th>0</th>\n      <td>253</td>\n      <td>0</td>\n      <td>0</td>\n    </tr>\n  </tbody>\n</table>\n</div>"
     },
     "metadata": {},
     "output_type": "display_data"
    }
   ],
   "source": [
    "# Create a quotes mapping for Lusid Python Tools\n",
    "quotes_mapping = {\n",
    "    \"quote_id.quote_series_id.instrument_id_type\": \"$ClientInternal\",\n",
    "    \"quote_id.effective_at\": \"Date\",\n",
    "    \"quote_id.quote_series_id.field\": \"$mid\",\n",
    "    \"quote_id.quote_series_id.provider\": \"$Lusid\",\n",
    "    \"quote_id.quote_series_id.quote_type\": \"$Price\",\n",
    "    \"quote_id.quote_series_id.instrument_id\": \"Ticker\",\n",
    "    \"metric_value.value\": \"Price\",\n",
    "    \"metric_value.unit\": \"$USD\",\n",
    "}\n",
    "\n",
    "result = load_from_data_frame(\n",
    "    api_factory = api_factory,\n",
    "    scope=market_data_scope,\n",
    "    data_frame=df,\n",
    "    mapping_required=quotes_mapping,\n",
    "    mapping_optional={},\n",
    "    file_type=\"quotes\"\n",
    ")\n",
    "\n",
    "succ, failed, errors = format_quotes_response(result)\n",
    "display(pd.DataFrame(data=[{\"success\": len(succ), \"failed\": len(failed), \"errors\": len(errors)}]))"
   ]
  },
  {
   "cell_type": "markdown",
   "id": "3ae177a1",
   "metadata": {},
   "source": [
    "## 1.4 Funding Leg Rates\n",
    "\n",
    "For valuation, we will also require some simple market data, or quotes. In this particular case, we will need USD3M Libor resets for our swaps inception date and for the valuation date (`effective_at`)."
   ]
  },
  {
   "cell_type": "code",
   "execution_count": 11,
   "id": "64c4d75f",
   "metadata": {},
   "outputs": [
    {
     "name": "stdout",
     "output_type": "stream",
     "text": [
      "Quotes successfully upserted into LUSID. 1 quotes upserted.\n"
     ]
    }
   ],
   "source": [
    "fix_date_1 = start_date\n",
    "fixing = 0.0173\n",
    "\n",
    "reset_series_id = lm.QuoteSeriesId(\n",
    "    provider=\"Lusid\",\n",
    "    price_source=None,\n",
    "    instrument_id=\"USD3M\",\n",
    "    instrument_id_type=\"RIC\",\n",
    "    quote_type=\"Rate\",\n",
    "    field=\"mid\"\n",
    ")\n",
    "\n",
    "\n",
    "QuoteId = lm.QuoteId(\n",
    "    quote_series_id=reset_series_id,\n",
    "    effective_at=fix_date_1.isoformat()\n",
    ")\n",
    "USD3mQuoteRequest = lm.UpsertQuoteRequest(\n",
    "    quote_id=QuoteId,\n",
    "    metric_value=lm.MetricValue(\n",
    "        value=fixing, unit=\"rate\"),\n",
    "    lineage=\"USD libor\"\n",
    ")\n",
    "\n",
    "quotes_request = {fix_date_1.isoformat(): USD3mQuoteRequest}\n",
    "\n",
    "response = quotes_api.upsert_quotes(scope=market_data_scope,\n",
    "                      request_body=quotes_request)\n",
    "\n",
    "if response.failed == {}:\n",
    "    print(f\"Quotes successfully upserted into LUSID. {len(quotes_request)} quotes upserted.\")\n",
    "else:\n",
    "    print(f\"An error occurred with the above upsert_quotes call for fixing, see response:\")\n",
    "    print(response)"
   ]
  },
  {
   "cell_type": "markdown",
   "id": "a8925044",
   "metadata": {},
   "source": [
    "Likewise, we will need quotes for our underlying index, in order to determine the equity leg accruals. For this example we upload 1 year's worth of _SPX Index_ quotes, which will cover the full life cycle of our swap. For larger datasets, we can use [`lusidtools`](https://github.com/finbourne/lusid-python-tools/wiki) which allow us to use a mapping schema to read our data using a pandas dataframe."
   ]
  },
  {
   "cell_type": "markdown",
   "id": "c58b7bda",
   "metadata": {},
   "source": [
    "## 1.5 Create Portfolio and sub-holding key\n",
    "\n",
    "We continue using the `load_from_data_frame` tool, but in this case use it to first build out a portfolio under the scope setup below.\n",
    "\n",
    "We will also have to create the `LinkId` property, which is to be used as a sub-holding key for the portfolio that links the equity and funding leg component together."
   ]
  },
  {
   "cell_type": "code",
   "execution_count": 12,
   "id": "f9fda634",
   "metadata": {},
   "outputs": [
    {
     "name": "stdout",
     "output_type": "stream",
     "text": [
      "Property Transaction/common/LinkId already exists\n"
     ]
    }
   ],
   "source": [
    "create_property(api_factory=api_factory, name=\"Linking ID\", domain=\"Transaction\", scope=\"common\", code=\"LinkId\", data_type=\"string\")"
   ]
  },
  {
   "cell_type": "code",
   "execution_count": 13,
   "outputs": [],
   "source": [
    "# Setup scope and code for the portfolio\n",
    "trading_scope = \"Finbourne-Examples\"\n",
    "trading_code = \"FundingLegWithEquity\"\n",
    "\n",
    "# Set sub-holding keys\n",
    "sub_holding_keys = [\"LinkId\"]\n",
    "\n",
    "# Setup a dataframe from which we will creat the portfolio\n",
    "data = {'portfolio_code':  [trading_code],\n",
    "        'portfolio_name': [trading_code],\n",
    "       }\n",
    "\n",
    "portfolio_df= pd.DataFrame(data, columns=['portfolio_code','portfolio_name'])\n",
    "\n",
    "# Create a mapping schema for the portfolio\n",
    "portfolio_mapping = {\n",
    "    \"required\": {\n",
    "        \"code\": \"portfolio_code\",\n",
    "        \"display_name\": \"portfolio_name\",\n",
    "        \"base_currency\": \"$USD\",\n",
    "    },\n",
    "    \"optional\": {\"created\": \"$2019-01-01T00:00:00+00:00\"},\n",
    "}"
   ],
   "metadata": {
    "collapsed": false,
    "pycharm": {
     "name": "#%%\n"
    }
   }
  },
  {
   "cell_type": "code",
   "execution_count": 14,
   "id": "c028792e",
   "metadata": {},
   "outputs": [
    {
     "data": {
      "text/plain": "   success  failed\n0        1       0",
      "text/html": "<div>\n<style scoped>\n    .dataframe tbody tr th:only-of-type {\n        vertical-align: middle;\n    }\n\n    .dataframe tbody tr th {\n        vertical-align: top;\n    }\n\n    .dataframe thead th {\n        text-align: right;\n    }\n</style>\n<table border=\"1\" class=\"dataframe\">\n  <thead>\n    <tr style=\"text-align: right;\">\n      <th></th>\n      <th>success</th>\n      <th>failed</th>\n    </tr>\n  </thead>\n  <tbody>\n    <tr>\n      <th>0</th>\n      <td>1</td>\n      <td>0</td>\n    </tr>\n  </tbody>\n</table>\n</div>"
     },
     "execution_count": 14,
     "metadata": {},
     "output_type": "execute_result"
    }
   ],
   "source": [
    "# A portfolio can be loaded using a dataframe by setting file_type to \"portfolios\"\n",
    "result = load_from_data_frame(\n",
    "    api_factory=api_factory,\n",
    "    scope=trading_scope,\n",
    "    data_frame=portfolio_df,\n",
    "    mapping_required=portfolio_mapping[\"required\"],\n",
    "    mapping_optional=portfolio_mapping[\"optional\"],\n",
    "    file_type=\"portfolios\",\n",
    "    sub_holding_keys=sub_holding_keys,\n",
    "    sub_holding_keys_scope=\"common\"\n",
    ")\n",
    "\n",
    "succ, failed = format_portfolios_response(result)\n",
    "pd.DataFrame(data=[{\"success\": len(succ), \"failed\": len(failed)}])"
   ]
  },
  {
   "cell_type": "markdown",
   "id": "c426e1ef",
   "metadata": {},
   "source": [
    "# 1.6 Book Transactions"
   ]
  },
  {
   "cell_type": "markdown",
   "id": "5a92e243",
   "metadata": {},
   "source": [
    "With the portfolio in LUSID, we can book a transaction against our swap. For this we can use the [TransactionPortfoliosApi](https://www.lusid.com/docs/api#operation/UpsertTransactions).\n",
    "\n",
    "For uploading the transactions we will use a utility function `equity_swap_transaction`, that is defined in a parallel file under utilities directory.\n",
    "\n",
    "The transaction will package the two separate equity and funding leg transactions into one, with the direction being set by the directional indicator `S` or `L`. In LUSID this simply defines whether or not the transaction will book notional with a `StockIn` or `StockOut` transaction code.\n",
    "\n",
    "Additionally, we pass a `linkId` which can be used the 2 components together, as will be shown later when valuing the instrument."
   ]
  },
  {
   "cell_type": "code",
   "execution_count": 15,
   "id": "b34c73c9",
   "metadata": {},
   "outputs": [
    {
     "data": {
      "text/plain": "  transaction_id  notional equity_identifier funding_leg_identifier  \\\n0         TXN001    200000              AMZN          FundingLeg001   \n1         TXN002    100000              AMZN          FundingLeg001   \n2         TXN003    100000              AMZN          FundingLeg001   \n3         TXN004    200000              AMZN          FundingLeg001   \n\n  transaction_currency direction                trade_date      linking_id  \\\n0                  USD         S 2021-04-05 00:00:00+00:00  EQ-SW-001-AMZN   \n1                  USD         S 2021-04-07 00:00:00+00:00  EQ-SW-001-AMZN   \n2                  USD         L 2021-04-09 00:00:00+00:00  EQ-SW-001-AMZN   \n3                  USD         L 2021-04-14 00:00:00+00:00  EQ-SW-001-AMZN   \n\n  identifier_type  \n0  ClientInternal  \n1  ClientInternal  \n2  ClientInternal  \n3  ClientInternal  ",
      "text/html": "<div>\n<style scoped>\n    .dataframe tbody tr th:only-of-type {\n        vertical-align: middle;\n    }\n\n    .dataframe tbody tr th {\n        vertical-align: top;\n    }\n\n    .dataframe thead th {\n        text-align: right;\n    }\n</style>\n<table border=\"1\" class=\"dataframe\">\n  <thead>\n    <tr style=\"text-align: right;\">\n      <th></th>\n      <th>transaction_id</th>\n      <th>notional</th>\n      <th>equity_identifier</th>\n      <th>funding_leg_identifier</th>\n      <th>transaction_currency</th>\n      <th>direction</th>\n      <th>trade_date</th>\n      <th>linking_id</th>\n      <th>identifier_type</th>\n    </tr>\n  </thead>\n  <tbody>\n    <tr>\n      <th>0</th>\n      <td>TXN001</td>\n      <td>200000</td>\n      <td>AMZN</td>\n      <td>FundingLeg001</td>\n      <td>USD</td>\n      <td>S</td>\n      <td>2021-04-05 00:00:00+00:00</td>\n      <td>EQ-SW-001-AMZN</td>\n      <td>ClientInternal</td>\n    </tr>\n    <tr>\n      <th>1</th>\n      <td>TXN002</td>\n      <td>100000</td>\n      <td>AMZN</td>\n      <td>FundingLeg001</td>\n      <td>USD</td>\n      <td>S</td>\n      <td>2021-04-07 00:00:00+00:00</td>\n      <td>EQ-SW-001-AMZN</td>\n      <td>ClientInternal</td>\n    </tr>\n    <tr>\n      <th>2</th>\n      <td>TXN003</td>\n      <td>100000</td>\n      <td>AMZN</td>\n      <td>FundingLeg001</td>\n      <td>USD</td>\n      <td>L</td>\n      <td>2021-04-09 00:00:00+00:00</td>\n      <td>EQ-SW-001-AMZN</td>\n      <td>ClientInternal</td>\n    </tr>\n    <tr>\n      <th>3</th>\n      <td>TXN004</td>\n      <td>200000</td>\n      <td>AMZN</td>\n      <td>FundingLeg001</td>\n      <td>USD</td>\n      <td>L</td>\n      <td>2021-04-14 00:00:00+00:00</td>\n      <td>EQ-SW-001-AMZN</td>\n      <td>ClientInternal</td>\n    </tr>\n  </tbody>\n</table>\n</div>"
     },
     "execution_count": 15,
     "metadata": {},
     "output_type": "execute_result"
    }
   ],
   "source": [
    "txn_df = pd.read_csv(\"data/equity_swap_trades.csv\")\n",
    "txn_df[\"trade_date\"] = pd.to_datetime(txn_df[\"trade_date\"], dayfirst=True)\n",
    "add_utc_to_df(txn_df)\n",
    "txn_df"
   ]
  },
  {
   "cell_type": "code",
   "execution_count": 16,
   "id": "a2a29478",
   "metadata": {},
   "outputs": [
    {
     "name": "stdout",
     "output_type": "stream",
     "text": [
      "Equity and Funding Leg transactions loaded into portfolio with scope Finbourne-Examples and code FundingLegWithEquity.\n",
      "Equity and Funding Leg transactions loaded into portfolio with scope Finbourne-Examples and code FundingLegWithEquity.\n",
      "Equity and Funding Leg transactions loaded into portfolio with scope Finbourne-Examples and code FundingLegWithEquity.\n",
      "Equity and Funding Leg transactions loaded into portfolio with scope Finbourne-Examples and code FundingLegWithEquity.\n"
     ]
    }
   ],
   "source": [
    "link_id_property_key = \"Transaction/common/LinkId\"\n",
    "\n",
    "for i, row in txn_df.iterrows():\n",
    "    equity_swap_transaction(\n",
    "        api_factory=api_factory,\n",
    "        portfolio_scope=trading_scope,\n",
    "        portfolio_code=trading_code,\n",
    "        notional=row[\"notional\"],\n",
    "        equity_identifier=row[\"equity_identifier\"],\n",
    "        funding_leg_identifier=row[\"funding_leg_identifier\"],\n",
    "        transaction_currency=row[\"transaction_currency\"],\n",
    "        direction=row[\"direction\"],\n",
    "        trade_date=row[\"trade_date\"],\n",
    "        transaction_id=row[\"transaction_id\"],\n",
    "        linking_id=row[\"linking_id\"],\n",
    "        linking_id_property=link_id_property_key,\n",
    "        \n",
    "    )"
   ]
  },
  {
   "cell_type": "markdown",
   "id": "ce3e544b",
   "metadata": {},
   "source": [
    "# 2. Valuation\n",
    "For interacting with the valuation engine, we will need a configuration recipe, which are a set of steps that define how a valuation is to be carried out. Generally, this is part of LUSID configuration that requires a one time setup, below we will be focusing on the _FundingLeg_ instrument.\n",
    "\n",
    "## 2.1 Configure the valuation recipe\n",
    "We begin by defining the pricing context under which valuation will be done, this allows to select the model under which we can value the instrument. In our case we have selected _\"ConstantTimeValueOfMoney\"_, which will use a deterministic pricer to calculate our portfolio PV/Accrual."
   ]
  },
  {
   "cell_type": "code",
   "execution_count": 17,
   "id": "46e4a999",
   "metadata": {},
   "outputs": [],
   "source": [
    "# Define instrument model config\n",
    "instrument_models = {\n",
    "    \"FundingLeg\": \"ConstantTimeValueOfMoney\",\n",
    "    \"SimpleInstrument\": \"SimpleStatic\"\n",
    "}\n",
    "\n",
    "def create_pricing_context(market_supplier: str, instrument_model_config: dict):\n",
    "    \n",
    "    model_rules = [\n",
    "        lm.VendorModelRule(\n",
    "                supplier=market_supplier,\n",
    "                model_name=model,\n",
    "                instrument_type=instrument_type,\n",
    "                parameters=\"{}\",\n",
    "            )\n",
    "        for instrument_type, model in instrument_model_config.items()\n",
    "    ]\n",
    "    \n",
    "    return lm.PricingContext(\n",
    "        model_rules = model_rules,\n",
    "         options=lm.PricingOptions(\n",
    "            model_selection=lm.ModelSelection(\n",
    "                        library=market_supplier,\n",
    "                        model=\"SimpleStatic\"\n",
    "                    )\n",
    "         )\n",
    "    )\n",
    "\n",
    "# Create the pricing context for the recipe\n",
    "pricing_context = create_pricing_context(market_supplier, instrument_models)"
   ]
  },
  {
   "cell_type": "markdown",
   "id": "42839d15",
   "metadata": {},
   "source": [
    "Next, we need to define the market data context that will be used by the valuation engine. In this case we will set the market data provider as 'Lusid' and use our `market_data_scope`, as set previously.\n",
    "\n",
    "Moreover, within our market_rules, we need to specify the keys by which the valuation engine will resolve the discount curves and USD Libor fixings."
   ]
  },
  {
   "cell_type": "code",
   "execution_count": 18,
   "id": "fe6dc1c9",
   "metadata": {},
   "outputs": [],
   "source": [
    "def create_market_context(market_data_scope, supplier):\n",
    "    return lm.MarketContext(\n",
    "        # Set rules for where we should resolve our rates and equity data.\n",
    "        market_rules=[\n",
    "            lm.MarketDataKeyRule(\n",
    "                key='Equity.ClientInternal.*',\n",
    "                data_scope=market_data_scope,\n",
    "                supplier=supplier,\n",
    "                quote_type='Price',\n",
    "                field='mid',\n",
    "                quote_interval=\"2D.0D\"),\n",
    "             lm.MarketDataKeyRule(\n",
    "                key='Equity.RIC.*',\n",
    "                data_scope=market_data_scope,\n",
    "                supplier=supplier,\n",
    "                quote_type='Rate',\n",
    "                field='mid',\n",
    "                quote_interval=\"2D.0D\"),\n",
    "            lm.MarketDataKeyRule(\n",
    "                key='Equity.RIC.*',\n",
    "                data_scope=market_data_scope,\n",
    "                supplier=supplier,\n",
    "                quote_type='Price',\n",
    "                field='mid',\n",
    "                quote_interval=\"2D.0D\"),\n",
    "\n",
    "        ],\n",
    "        # Control default options for resolving market data.\n",
    "        options=lm.MarketOptions(\n",
    "            default_supplier=supplier,\n",
    "            default_instrument_code_type=\"ClientInternal\",\n",
    "            default_scope=market_data_scope)\n",
    "     )\n",
    "\n",
    "    return market_context\n",
    "\n",
    "# In our case simply default to the LUSID market_supplier.\n",
    "market_context = create_market_context(market_data_scope, market_supplier)"
   ]
  },
  {
   "cell_type": "markdown",
   "id": "36f00edc",
   "metadata": {},
   "source": [
    "With both the pricing model and market data defintions setup in the above models, we can finalize the pricing recipe as shown below using the [`ConfigurationRecipe`](https://github.com/finbourne/lusid-sdk-python-preview/blob/master/sdk/lusid/models/configuration_recipe.py) model. We will again set the market data scopes, as well as give our recipe a name/code and brief description."
   ]
  },
  {
   "cell_type": "code",
   "execution_count": 19,
   "id": "56457ebc",
   "metadata": {},
   "outputs": [],
   "source": [
    "def create_pricing_recipe(scope, market_context, pricing_context):\n",
    "\n",
    "    return lm.ConfigurationRecipe(\n",
    "        scope=scope,\n",
    "        code=\"FundingLeg\",\n",
    "        description=\"Funding leg pricing recipe\",\n",
    "        market=market_context,\n",
    "        pricing=pricing_context\n",
    "    )\n",
    "\n",
    "# Create the funding leg pricing recipe using our market_data_scope\n",
    "pricing_recipe = create_pricing_recipe(market_data_scope, market_context, pricing_context)"
   ]
  },
  {
   "cell_type": "code",
   "execution_count": 20,
   "id": "e81fc720",
   "metadata": {},
   "outputs": [
    {
     "name": "stdout",
     "output_type": "stream",
     "text": [
      "Recipe upserted at 2022-01-05 14:40:03.909901+00:00\n"
     ]
    }
   ],
   "source": [
    "def upsert_recipe(recipe):\n",
    "    recipe_request = lm.UpsertRecipeRequest(\n",
    "        configuration_recipe = recipe\n",
    "    )\n",
    "    \n",
    "    return configuration_recipe_api.upsert_configuration_recipe(\n",
    "    upsert_recipe_request = recipe_request)\n",
    "\n",
    "# Upsert the previously created recipe to be used in valuation\n",
    "response = upsert_recipe(pricing_recipe)\n",
    "print(f\"Recipe upserted at {response.value}\")"
   ]
  },
  {
   "cell_type": "markdown",
   "id": "1bf1be0f",
   "metadata": {},
   "source": [
    "## 2.2 Aggregation\n",
    "With the recipes and configurations set for our swap book, we can query the valuation engine for accruals and market values of the instruments. This can be done using the [`AggregationApi`](https://www.lusid.com/docs/api#tag/Aggregation), as shown below."
   ]
  },
  {
   "cell_type": "code",
   "execution_count": 21,
   "id": "fe76f8cb",
   "metadata": {},
   "outputs": [],
   "source": [
    "def aggregate_pricing(portfolio_scope, portfolio_code, recipe_scope, recipe_code, metrics, effective_at, effective_from=None, group_by=[]):\n",
    "    valuation_request = lm.ValuationRequest(\n",
    "        recipe_id=lm.ResourceId(\n",
    "            scope=recipe_scope,\n",
    "            code=recipe_code\n",
    "        ),\n",
    "        metrics=metrics,\n",
    "            portfolio_entity_ids=[\n",
    "                lm.PortfolioEntityId(scope=portfolio_scope, code=portfolio_code)\n",
    "            ],\n",
    "            valuation_schedule=lm.ValuationSchedule(\n",
    "                effective_from=effective_from,\n",
    "                effective_at=effective_at\n",
    "            ),\n",
    "        sort=[\n",
    "            lm.OrderBySpec(key='Analytic/default/ValuationDate',\n",
    "            sort_order='Ascending')\n",
    "        ],\n",
    "        group_by=group_by\n",
    "        )\n",
    "    return aggregation_api.get_valuation(\n",
    "    valuation_request= valuation_request\n",
    "    )"
   ]
  },
  {
   "cell_type": "code",
   "execution_count": 22,
   "outputs": [],
   "source": [
    "# Create the metrics list for the desired data\n",
    "metrics = [\n",
    "        lm.AggregateSpec(key='Valuation/PV',\n",
    "                             op='Value'),\n",
    "        lm.AggregateSpec(key='Instrument/default/Name',\n",
    "                             op='Value'),\n",
    "        lm.AggregateSpec(key='Holding/default/Units',\n",
    "                             op='Value'),\n",
    "        lm.AggregateSpec(key='Valuation/Accrued',\n",
    "                             op='Value'),\n",
    "        lm.AggregateSpec(key='Analytic/default/ValuationDate',\n",
    "                             op='Value'),\n",
    "        ]\n",
    "# Store results\n",
    "results = aggregate_pricing(trading_scope, trading_code, market_data_scope, \"FundingLeg\", metrics, start_date + timedelta(days=8), start_date)"
   ],
   "metadata": {
    "collapsed": false,
    "pycharm": {
     "name": "#%%%\n"
    }
   }
  },
  {
   "cell_type": "markdown",
   "source": [
    "As seen below, we have successfully generated a series of valuations for the swap including the position PVs and accruals for the funding leg. We can also notice how the daily accrual changes as we increase or decrease the notional against the funding leg."
   ],
   "metadata": {
    "collapsed": false,
    "pycharm": {
     "name": "#%% md\n"
    }
   }
  },
  {
   "cell_type": "code",
   "execution_count": 23,
   "id": "a2f7d72a",
   "metadata": {
    "pycharm": {
     "name": "#%%\n"
    }
   },
   "outputs": [
    {
     "data": {
      "text/plain": "                                Holding/default/Units    Valuation/PV  \\\nAnalytic/default/ValuationDate                                          \n05/04/2021                                -200,000.00        1,381.56   \n05/04/2021                                -200,000.00 -645,346,000.00   \n06/04/2021                                -200,000.00        1,381.56   \n06/04/2021                                -200,000.00 -644,764,000.00   \n07/04/2021                                -300,000.00        2,061.33   \n07/04/2021                                -300,000.00 -983,817,000.00   \n08/04/2021                                -300,000.00        2,061.33   \n08/04/2021                                -300,000.00 -989,790,000.00   \n09/04/2021                                -200,000.00        1,392.56   \n09/04/2021                                -200,000.00 -674,440,000.00   \n12/04/2021                                -200,000.00        1,392.56   \n12/04/2021                                -200,000.00 -675,878,000.00   \n13/04/2021                                -200,000.00        1,392.56   \n13/04/2021                                -200,000.00 -680,000,000.00   \n\n                                Valuation/Accrued Instrument/default/Name  \nAnalytic/default/ValuationDate                                             \n05/04/2021                                   0.00    Variable Funding Leg  \n05/04/2021                                   0.00                  Amazon  \n06/04/2021                                 -11.00    Variable Funding Leg  \n06/04/2021                                   0.00                  Amazon  \n07/04/2021                                 -22.00    Variable Funding Leg  \n07/04/2021                                   0.00                  Amazon  \n08/04/2021                                 -38.50    Variable Funding Leg  \n08/04/2021                                   0.00                  Amazon  \n09/04/2021                                 -55.00    Variable Funding Leg  \n09/04/2021                                   0.00                  Amazon  \n12/04/2021                                 -88.00    Variable Funding Leg  \n12/04/2021                                   0.00                  Amazon  \n13/04/2021                                 -99.00    Variable Funding Leg  \n13/04/2021                                   0.00                  Amazon  ",
      "text/html": "<div>\n<style scoped>\n    .dataframe tbody tr th:only-of-type {\n        vertical-align: middle;\n    }\n\n    .dataframe tbody tr th {\n        vertical-align: top;\n    }\n\n    .dataframe thead th {\n        text-align: right;\n    }\n</style>\n<table border=\"1\" class=\"dataframe\">\n  <thead>\n    <tr style=\"text-align: right;\">\n      <th></th>\n      <th>Holding/default/Units</th>\n      <th>Valuation/PV</th>\n      <th>Valuation/Accrued</th>\n      <th>Instrument/default/Name</th>\n    </tr>\n    <tr>\n      <th>Analytic/default/ValuationDate</th>\n      <th></th>\n      <th></th>\n      <th></th>\n      <th></th>\n    </tr>\n  </thead>\n  <tbody>\n    <tr>\n      <th>05/04/2021</th>\n      <td>-200,000.00</td>\n      <td>1,381.56</td>\n      <td>0.00</td>\n      <td>Variable Funding Leg</td>\n    </tr>\n    <tr>\n      <th>05/04/2021</th>\n      <td>-200,000.00</td>\n      <td>-645,346,000.00</td>\n      <td>0.00</td>\n      <td>Amazon</td>\n    </tr>\n    <tr>\n      <th>06/04/2021</th>\n      <td>-200,000.00</td>\n      <td>1,381.56</td>\n      <td>-11.00</td>\n      <td>Variable Funding Leg</td>\n    </tr>\n    <tr>\n      <th>06/04/2021</th>\n      <td>-200,000.00</td>\n      <td>-644,764,000.00</td>\n      <td>0.00</td>\n      <td>Amazon</td>\n    </tr>\n    <tr>\n      <th>07/04/2021</th>\n      <td>-300,000.00</td>\n      <td>2,061.33</td>\n      <td>-22.00</td>\n      <td>Variable Funding Leg</td>\n    </tr>\n    <tr>\n      <th>07/04/2021</th>\n      <td>-300,000.00</td>\n      <td>-983,817,000.00</td>\n      <td>0.00</td>\n      <td>Amazon</td>\n    </tr>\n    <tr>\n      <th>08/04/2021</th>\n      <td>-300,000.00</td>\n      <td>2,061.33</td>\n      <td>-38.50</td>\n      <td>Variable Funding Leg</td>\n    </tr>\n    <tr>\n      <th>08/04/2021</th>\n      <td>-300,000.00</td>\n      <td>-989,790,000.00</td>\n      <td>0.00</td>\n      <td>Amazon</td>\n    </tr>\n    <tr>\n      <th>09/04/2021</th>\n      <td>-200,000.00</td>\n      <td>1,392.56</td>\n      <td>-55.00</td>\n      <td>Variable Funding Leg</td>\n    </tr>\n    <tr>\n      <th>09/04/2021</th>\n      <td>-200,000.00</td>\n      <td>-674,440,000.00</td>\n      <td>0.00</td>\n      <td>Amazon</td>\n    </tr>\n    <tr>\n      <th>12/04/2021</th>\n      <td>-200,000.00</td>\n      <td>1,392.56</td>\n      <td>-88.00</td>\n      <td>Variable Funding Leg</td>\n    </tr>\n    <tr>\n      <th>12/04/2021</th>\n      <td>-200,000.00</td>\n      <td>-675,878,000.00</td>\n      <td>0.00</td>\n      <td>Amazon</td>\n    </tr>\n    <tr>\n      <th>13/04/2021</th>\n      <td>-200,000.00</td>\n      <td>1,392.56</td>\n      <td>-99.00</td>\n      <td>Variable Funding Leg</td>\n    </tr>\n    <tr>\n      <th>13/04/2021</th>\n      <td>-200,000.00</td>\n      <td>-680,000,000.00</td>\n      <td>0.00</td>\n      <td>Amazon</td>\n    </tr>\n  </tbody>\n</table>\n</div>"
     },
     "metadata": {},
     "output_type": "display_data"
    }
   ],
   "source": [
    "# Display PVs\n",
    "valuations = valuation_response_to_df(results)\n",
    "valuations['Analytic/default/ValuationDate'] = valuations['Analytic/default/ValuationDate'].apply(lambda x : parse(x).strftime('%d/%m/%Y'))\n",
    "valuations.set_index('Analytic/default/ValuationDate', inplace=True)\n",
    "display(valuations)"
   ]
  },
  {
   "cell_type": "markdown",
   "source": [
    "Similarly, we can also group the valuations by the previously created `linkId`, so that the equity swap package gets valued as a single line for each date.\n",
    "\n",
    "This is illustrated below, notice we group by both the sub-holding key and the valuation date in our request."
   ],
   "metadata": {
    "collapsed": false,
    "pycharm": {
     "name": "#%% md\n"
    }
   }
  },
  {
   "cell_type": "code",
   "execution_count": 24,
   "outputs": [],
   "source": [
    "# Create a new metrics list, changing the op to 'Sum'\n",
    "metrics = [\n",
    "        lm.AggregateSpec(key='Valuation/PV',\n",
    "                             op='Sum'),\n",
    "        lm.AggregateSpec(key='Transaction/common/LinkId',\n",
    "                             op='Value'),\n",
    "        lm.AggregateSpec(key='Valuation/Accrued',\n",
    "                             op='Sum'),\n",
    "        lm.AggregateSpec(key='Analytic/default/ValuationDate',\n",
    "                             op='Value'),\n",
    "        ]\n",
    "# Store results\n",
    "results = aggregate_pricing(trading_scope, trading_code, market_data_scope, \"FundingLeg\", metrics, start_date + timedelta(days=8), start_date, group_by=['Transaction/common/LinkId', 'Analytic/default/ValuationDate'])"
   ],
   "metadata": {
    "collapsed": false,
    "pycharm": {
     "name": "#%%\n"
    }
   }
  },
  {
   "cell_type": "code",
   "execution_count": 25,
   "outputs": [
    {
     "data": {
      "text/plain": "                               Transaction/common/LinkId  \\\nAnalytic/default/ValuationDate                             \n05/04/2021                                EQ-SW-001-AMZN   \n06/04/2021                                EQ-SW-001-AMZN   \n07/04/2021                                EQ-SW-001-AMZN   \n08/04/2021                                EQ-SW-001-AMZN   \n09/04/2021                                EQ-SW-001-AMZN   \n12/04/2021                                EQ-SW-001-AMZN   \n13/04/2021                                EQ-SW-001-AMZN   \n\n                                Sum(Valuation/Accrued)  Sum(Valuation/PV)  \nAnalytic/default/ValuationDate                                             \n05/04/2021                                        0.00    -645,344,618.44  \n06/04/2021                                      -11.00    -644,762,618.44  \n07/04/2021                                      -22.00    -983,814,938.67  \n08/04/2021                                      -38.50    -989,787,938.67  \n09/04/2021                                      -55.00    -674,438,607.44  \n12/04/2021                                      -88.00    -675,876,607.44  \n13/04/2021                                      -99.00    -679,998,607.44  ",
      "text/html": "<div>\n<style scoped>\n    .dataframe tbody tr th:only-of-type {\n        vertical-align: middle;\n    }\n\n    .dataframe tbody tr th {\n        vertical-align: top;\n    }\n\n    .dataframe thead th {\n        text-align: right;\n    }\n</style>\n<table border=\"1\" class=\"dataframe\">\n  <thead>\n    <tr style=\"text-align: right;\">\n      <th></th>\n      <th>Transaction/common/LinkId</th>\n      <th>Sum(Valuation/Accrued)</th>\n      <th>Sum(Valuation/PV)</th>\n    </tr>\n    <tr>\n      <th>Analytic/default/ValuationDate</th>\n      <th></th>\n      <th></th>\n      <th></th>\n    </tr>\n  </thead>\n  <tbody>\n    <tr>\n      <th>05/04/2021</th>\n      <td>EQ-SW-001-AMZN</td>\n      <td>0.00</td>\n      <td>-645,344,618.44</td>\n    </tr>\n    <tr>\n      <th>06/04/2021</th>\n      <td>EQ-SW-001-AMZN</td>\n      <td>-11.00</td>\n      <td>-644,762,618.44</td>\n    </tr>\n    <tr>\n      <th>07/04/2021</th>\n      <td>EQ-SW-001-AMZN</td>\n      <td>-22.00</td>\n      <td>-983,814,938.67</td>\n    </tr>\n    <tr>\n      <th>08/04/2021</th>\n      <td>EQ-SW-001-AMZN</td>\n      <td>-38.50</td>\n      <td>-989,787,938.67</td>\n    </tr>\n    <tr>\n      <th>09/04/2021</th>\n      <td>EQ-SW-001-AMZN</td>\n      <td>-55.00</td>\n      <td>-674,438,607.44</td>\n    </tr>\n    <tr>\n      <th>12/04/2021</th>\n      <td>EQ-SW-001-AMZN</td>\n      <td>-88.00</td>\n      <td>-675,876,607.44</td>\n    </tr>\n    <tr>\n      <th>13/04/2021</th>\n      <td>EQ-SW-001-AMZN</td>\n      <td>-99.00</td>\n      <td>-679,998,607.44</td>\n    </tr>\n  </tbody>\n</table>\n</div>"
     },
     "metadata": {},
     "output_type": "display_data"
    }
   ],
   "source": [
    "# Display PVs\n",
    "valuations = valuation_response_to_df(results)\n",
    "valuations['Analytic/default/ValuationDate'] = valuations['Analytic/default/ValuationDate'].apply(lambda x : parse(x).strftime('%d/%m/%Y'))\n",
    "valuations.set_index('Analytic/default/ValuationDate', inplace=True)\n",
    "display(valuations)"
   ],
   "metadata": {
    "collapsed": false,
    "pycharm": {
     "name": "#%%\n"
    }
   }
  }
 ],
 "metadata": {
  "kernelspec": {
   "display_name": "Python 3 (ipykernel)",
   "language": "python",
   "name": "python3"
  },
  "language_info": {
   "codemirror_mode": {
    "name": "ipython",
    "version": 3
   },
   "file_extension": ".py",
   "mimetype": "text/x-python",
   "name": "python",
   "nbconvert_exporter": "python",
   "pygments_lexer": "ipython3",
   "version": "3.9.7"
  }
 },
 "nbformat": 4,
 "nbformat_minor": 5
}