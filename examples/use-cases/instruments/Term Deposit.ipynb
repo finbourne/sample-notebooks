{
 "cells": [
  {
   "cell_type": "code",
   "execution_count": 1,
   "metadata": {
    "pycharm": {
     "name": "#%%\n"
    }
   },
   "outputs": [
    {
     "data": {
      "text/plain": "<IPython.core.display.HTML object>",
      "text/html": "\n    <form action=\"javascript:code_toggle()\"><input type=\"submit\" id=\"toggleButton\" value=\"Hide docstring\"></form>\n    \n         <script>\n         function code_toggle() {\n             if ($('div.cell.code_cell.rendered.selected div.input').css('display')!='none'){\n                 $('div.cell.code_cell.rendered.selected div.input').hide();\n             } else {\n                 $('div.cell.code_cell.rendered.selected div.input').show();\n             }\n         }\n         </script>\n\n     "
     },
     "metadata": {},
     "output_type": "display_data"
    }
   ],
   "source": [
    "from lusidtools.jupyter_tools import toggle_code\n",
    "\n",
    "\"\"\"Term Deposit Valuation\n",
    "\n",
    "Demonstrates pricing of a Term Deposit Investment.\n",
    "\n",
    "Attributes\n",
    "----------\n",
    "instruments\n",
    "valuation\n",
    "lifecycle events\n",
    "market data store\n",
    "results store\n",
    "quotes\n",
    "\"\"\"\n",
    "\n",
    "toggle_code(\"Hide docstring\")"
   ]
  },
  {
   "cell_type": "markdown",
   "metadata": {
    "pycharm": {
     "name": "#%% md\n"
    }
   },
   "source": [
    "# Valuing and Rolling Term Deposits\n",
    "In this notebook, we demonstrate how Term Deposits are handled in LUSID. We will show how to roll Term Deposits, represent cashflow payments and perform valuations.\n",
    "\n",
    "Contents:\n",
    "* [1. Initial Setup](#1.-Initial-Setup)\n",
    "* [2. Create Portfolio](#2.-Create-Portfolio)\n",
    "* [3. Create Term Deposit Instrument](#3.-Create-Term-Deposit-Instrument)\n",
    "* [4. Add Transactions](#4.-Add-Transactions)\n",
    "* [5. Get Holdings](#5.-Get-Holdings)\n",
    "* [6. Rolling a Term Deposit](#6.-Rolling-a-Term-Deposit)\n",
    "    * [6.1 Rolling Full Term Deposit Maturity Amount](#6.1-Rolling-full-term-deposit-maturity-amount)\n",
    "    * [6.2 Rolling the Notional for the Term Deposit](#6.2-Rolling-the-Notional-for-the-Term-Deposit)\n",
    "## 1. Initial Setup"
   ]
  },
  {
   "cell_type": "code",
   "execution_count": 2,
   "metadata": {
    "pycharm": {
     "name": "#%%\n"
    }
   },
   "outputs": [],
   "source": [
    "# Import LUSID libraries\n",
    "import lusid as lu\n",
    "import lusid.models as lm\n",
    "from lusidtools.pandas_utils.lusid_pandas import lusid_response_to_data_frame\n",
    "from lusidjam.refreshing_token import RefreshingToken\n",
    "from IPython.display import display\n",
    "\n",
    "# Import Libraries\n",
    "from datetime import datetime, timedelta\n",
    "import pytz\n",
    "import pandas as pd\n",
    "import json\n",
    "import os"
   ]
  },
  {
   "cell_type": "code",
   "execution_count": 5,
   "metadata": {
    "pycharm": {
     "name": "#%%\n"
    }
   },
   "outputs": [
    {
     "ename": "ValueError",
     "evalue": "The fields ['api_url', 'password', 'username', 'client_id', 'client_secret', 'token_url'] on the ApiConfiguration are set to None, please ensure that you have provided them directly, via a secrets file or environment variables",
     "output_type": "error",
     "traceback": [
      "\u001B[0;31m---------------------------------------------------------------------------\u001B[0m",
      "\u001B[0;31mValueError\u001B[0m                                Traceback (most recent call last)",
      "Input \u001B[0;32mIn [5]\u001B[0m, in \u001B[0;36m<module>\u001B[0;34m\u001B[0m\n\u001B[1;32m      7\u001B[0m \u001B[38;5;28;01mif\u001B[39;00m secrets_path \u001B[38;5;129;01mis\u001B[39;00m \u001B[38;5;28;01mNone\u001B[39;00m:\n\u001B[1;32m      8\u001B[0m     secrets_path \u001B[38;5;241m=\u001B[39m os\u001B[38;5;241m.\u001B[39mpath\u001B[38;5;241m.\u001B[39mjoin(os\u001B[38;5;241m.\u001B[39mpath\u001B[38;5;241m.\u001B[39mdirname(os\u001B[38;5;241m.\u001B[39mgetcwd()), \u001B[38;5;124m\"\u001B[39m\u001B[38;5;124msecrets.json\u001B[39m\u001B[38;5;124m\"\u001B[39m)\n\u001B[0;32m---> 10\u001B[0m api_factory \u001B[38;5;241m=\u001B[39m \u001B[43mlu\u001B[49m\u001B[38;5;241;43m.\u001B[39;49m\u001B[43mutilities\u001B[49m\u001B[38;5;241;43m.\u001B[39;49m\u001B[43mApiClientFactory\u001B[49m\u001B[43m(\u001B[49m\n\u001B[1;32m     11\u001B[0m \u001B[43m        \u001B[49m\u001B[43mtoken\u001B[49m\u001B[38;5;241;43m=\u001B[39;49m\u001B[43mRefreshingToken\u001B[49m\u001B[43m(\u001B[49m\u001B[43m)\u001B[49m\u001B[43m,\u001B[49m\n\u001B[1;32m     12\u001B[0m \u001B[43m        \u001B[49m\u001B[43mapi_secrets_filename\u001B[49m\u001B[43m \u001B[49m\u001B[38;5;241;43m=\u001B[39;49m\u001B[43m \u001B[49m\u001B[43msecrets_path\u001B[49m\u001B[43m,\u001B[49m\n\u001B[1;32m     13\u001B[0m \u001B[43m        \u001B[49m\u001B[43mapp_name\u001B[49m\u001B[38;5;241;43m=\u001B[39;49m\u001B[38;5;124;43m\"\u001B[39;49m\u001B[38;5;124;43mLusidJupyterNotebook\u001B[39;49m\u001B[38;5;124;43m\"\u001B[39;49m\u001B[43m)\u001B[49m\n\u001B[1;32m     15\u001B[0m \u001B[38;5;28mprint\u001B[39m (\u001B[38;5;124m'\u001B[39m\u001B[38;5;124mLUSID Environment Initialised\u001B[39m\u001B[38;5;124m'\u001B[39m)\n\u001B[1;32m     16\u001B[0m \u001B[38;5;28mprint\u001B[39m (\u001B[38;5;124m'\u001B[39m\u001B[38;5;124mLUSID SDK Version: \u001B[39m\u001B[38;5;124m'\u001B[39m, api_factory\u001B[38;5;241m.\u001B[39mbuild(lu\u001B[38;5;241m.\u001B[39mapi\u001B[38;5;241m.\u001B[39mApplicationMetadataApi)\u001B[38;5;241m.\u001B[39mget_lusid_versions()\u001B[38;5;241m.\u001B[39mbuild_version)\n",
      "File \u001B[0;32m/usr/local/lib/python3.9/site-packages/lusid/utilities/api_client_factory.py:66\u001B[0m, in \u001B[0;36mApiClientFactory.__init__\u001B[0;34m(self, **kwargs)\u001B[0m\n\u001B[1;32m     63\u001B[0m builder_kwargs[\u001B[38;5;124m\"\u001B[39m\u001B[38;5;124mtcp_keep_alive\u001B[39m\u001B[38;5;124m\"\u001B[39m] \u001B[38;5;241m=\u001B[39m kwargs\u001B[38;5;241m.\u001B[39mget(\u001B[38;5;124m\"\u001B[39m\u001B[38;5;124mtcp_keep_alive\u001B[39m\u001B[38;5;124m\"\u001B[39m, \u001B[38;5;28;01mFalse\u001B[39;00m)\n\u001B[1;32m     65\u001B[0m \u001B[38;5;66;03m# Call the client builder, this will result in using either a token, secrets file or environment variables\u001B[39;00m\n\u001B[0;32m---> 66\u001B[0m \u001B[38;5;28mself\u001B[39m\u001B[38;5;241m.\u001B[39mapi_client \u001B[38;5;241m=\u001B[39m \u001B[43mApiClientBuilder\u001B[49m\u001B[38;5;241;43m.\u001B[39;49m\u001B[43mbuild\u001B[49m\u001B[43m(\u001B[49m\u001B[38;5;241;43m*\u001B[39;49m\u001B[38;5;241;43m*\u001B[39;49m\u001B[43mbuilder_kwargs\u001B[49m\u001B[43m)\u001B[49m\n",
      "File \u001B[0;32m/usr/local/lib/python3.9/site-packages/lusid/utilities/api_client_builder.py:115\u001B[0m, in \u001B[0;36mApiClientBuilder.build\u001B[0;34m(cls, api_secrets_filename, id_provider_response_handler, api_configuration, token, correlation_id, tcp_keep_alive)\u001B[0m\n\u001B[1;32m    112\u001B[0m         \u001B[38;5;28;01mif\u001B[39;00m value \u001B[38;5;129;01mis\u001B[39;00m \u001B[38;5;129;01mnot\u001B[39;00m \u001B[38;5;28;01mNone\u001B[39;00m:\n\u001B[1;32m    113\u001B[0m             \u001B[38;5;28msetattr\u001B[39m(configuration, key, value)\n\u001B[0;32m--> 115\u001B[0m api_token \u001B[38;5;241m=\u001B[39m \u001B[38;5;28;43mcls\u001B[39;49m\u001B[38;5;241;43m.\u001B[39;49m\u001B[43mresolve_api_token\u001B[49m\u001B[43m(\u001B[49m\u001B[43mtoken\u001B[49m\u001B[43m,\u001B[49m\u001B[43m \u001B[49m\u001B[43mconfiguration\u001B[49m\u001B[43m,\u001B[49m\u001B[43m \u001B[49m\u001B[43mid_provider_response_handler\u001B[49m\u001B[43m)\u001B[49m\n\u001B[1;32m    117\u001B[0m \u001B[38;5;66;03m# Initialise the API client using the token so that it can be included in all future requests\u001B[39;00m\n\u001B[1;32m    118\u001B[0m config \u001B[38;5;241m=\u001B[39m Configuration(tcp_keep_alive\u001B[38;5;241m=\u001B[39mtcp_keep_alive)\n",
      "File \u001B[0;32m/usr/local/lib/python3.9/site-packages/lusid/utilities/api_client_builder.py:75\u001B[0m, in \u001B[0;36mApiClientBuilder.resolve_api_token\u001B[0;34m(cls, token, configuration, id_provider_response_handler)\u001B[0m\n\u001B[1;32m     70\u001B[0m     api_token \u001B[38;5;241m=\u001B[39m configuration\u001B[38;5;241m.\u001B[39maccess_token\n\u001B[1;32m     72\u001B[0m \u001B[38;5;66;03m# Otherwise generate an access token from Okta and use a RefreshingToken going forward\u001B[39;00m\n\u001B[1;32m     73\u001B[0m \u001B[38;5;28;01melse\u001B[39;00m:\n\u001B[1;32m     74\u001B[0m     \u001B[38;5;66;03m# Check that all the required fields for generating a token exist\u001B[39;00m\n\u001B[0;32m---> 75\u001B[0m     \u001B[38;5;28;43mcls\u001B[39;49m\u001B[38;5;241;43m.\u001B[39;49m\u001B[43m__check_required_fields\u001B[49m\u001B[43m(\u001B[49m\u001B[43mconfiguration\u001B[49m\u001B[43m,\u001B[49m\u001B[43m \u001B[49m\u001B[43m[\u001B[49m\n\u001B[1;32m     76\u001B[0m \u001B[43m        \u001B[49m\u001B[38;5;124;43m\"\u001B[39;49m\u001B[38;5;124;43mapi_url\u001B[39;49m\u001B[38;5;124;43m\"\u001B[39;49m\u001B[43m,\u001B[49m\n\u001B[1;32m     77\u001B[0m \u001B[43m        \u001B[49m\u001B[38;5;124;43m\"\u001B[39;49m\u001B[38;5;124;43mpassword\u001B[39;49m\u001B[38;5;124;43m\"\u001B[39;49m\u001B[43m,\u001B[49m\n\u001B[1;32m     78\u001B[0m \u001B[43m        \u001B[49m\u001B[38;5;124;43m\"\u001B[39;49m\u001B[38;5;124;43musername\u001B[39;49m\u001B[38;5;124;43m\"\u001B[39;49m\u001B[43m,\u001B[49m\n\u001B[1;32m     79\u001B[0m \u001B[43m        \u001B[49m\u001B[38;5;124;43m\"\u001B[39;49m\u001B[38;5;124;43mclient_id\u001B[39;49m\u001B[38;5;124;43m\"\u001B[39;49m\u001B[43m,\u001B[49m\n\u001B[1;32m     80\u001B[0m \u001B[43m        \u001B[49m\u001B[38;5;124;43m\"\u001B[39;49m\u001B[38;5;124;43mclient_secret\u001B[39;49m\u001B[38;5;124;43m\"\u001B[39;49m\u001B[43m,\u001B[49m\n\u001B[1;32m     81\u001B[0m \u001B[43m        \u001B[49m\u001B[38;5;124;43m\"\u001B[39;49m\u001B[38;5;124;43mtoken_url\u001B[39;49m\u001B[38;5;124;43m\"\u001B[39;49m\u001B[43m]\u001B[49m\u001B[43m)\u001B[49m\n\u001B[1;32m     83\u001B[0m     \u001B[38;5;66;03m# Generate an access token\u001B[39;00m\n\u001B[1;32m     84\u001B[0m     api_token \u001B[38;5;241m=\u001B[39m RefreshingToken(\n\u001B[1;32m     85\u001B[0m         api_configuration\u001B[38;5;241m=\u001B[39mconfiguration,\n\u001B[1;32m     86\u001B[0m         id_provider_response_handler\u001B[38;5;241m=\u001B[39mid_provider_response_handler\n\u001B[1;32m     87\u001B[0m     )\n",
      "File \u001B[0;32m/usr/local/lib/python3.9/site-packages/lusid/utilities/api_client_builder.py:33\u001B[0m, in \u001B[0;36mApiClientBuilder.__check_required_fields\u001B[0;34m(object_to_check, fields)\u001B[0m\n\u001B[1;32m     31\u001B[0m \u001B[38;5;66;03m# Raise an error if any fields have a value of None\u001B[39;00m\n\u001B[1;32m     32\u001B[0m \u001B[38;5;28;01mif\u001B[39;00m \u001B[38;5;28mlen\u001B[39m(missing_fields) \u001B[38;5;241m>\u001B[39m \u001B[38;5;241m0\u001B[39m:\n\u001B[0;32m---> 33\u001B[0m     \u001B[38;5;28;01mraise\u001B[39;00m \u001B[38;5;167;01mValueError\u001B[39;00m(\n\u001B[1;32m     34\u001B[0m         \u001B[38;5;124mf\u001B[39m\u001B[38;5;124m\"\u001B[39m\u001B[38;5;124mThe fields \u001B[39m\u001B[38;5;132;01m{\u001B[39;00m\u001B[38;5;28mstr\u001B[39m(missing_fields)\u001B[38;5;132;01m}\u001B[39;00m\u001B[38;5;124m on the \u001B[39m\u001B[38;5;132;01m{\u001B[39;00mobject_to_check\u001B[38;5;241m.\u001B[39m\u001B[38;5;18m__class__\u001B[39m\u001B[38;5;241m.\u001B[39m\u001B[38;5;18m__name__\u001B[39m\u001B[38;5;132;01m}\u001B[39;00m\u001B[38;5;124m are set to None, \u001B[39m\u001B[38;5;124m\"\u001B[39m\n\u001B[1;32m     35\u001B[0m         \u001B[38;5;124mf\u001B[39m\u001B[38;5;124m\"\u001B[39m\u001B[38;5;124mplease ensure that you have provided them directly, via a secrets file or environment \u001B[39m\u001B[38;5;124m\"\u001B[39m\n\u001B[1;32m     36\u001B[0m         \u001B[38;5;124mf\u001B[39m\u001B[38;5;124m\"\u001B[39m\u001B[38;5;124mvariables\u001B[39m\u001B[38;5;124m\"\u001B[39m)\n",
      "\u001B[0;31mValueError\u001B[0m: The fields ['api_url', 'password', 'username', 'client_id', 'client_secret', 'token_url'] on the ApiConfiguration are set to None, please ensure that you have provided them directly, via a secrets file or environment variables"
     ]
    }
   ],
   "source": [
    "# Settings and utility functions to display objects and responses more clearly.\n",
    "pd.set_option('float_format', '{:,.4f}'.format)\n",
    "\n",
    "# Set the secrets path\n",
    "secrets_path = os.getenv(\"FBN_SECRETS_PATH\")\n",
    "\n",
    "if secrets_path is None:\n",
    "    secrets_path = os.path.join(os.path.dirname(os.getcwd()), \"secrets.json\")\n",
    "\n",
    "api_factory = lu.utilities.ApiClientFactory(\n",
    "        token=RefreshingToken(),\n",
    "        api_secrets_filename = secrets_path,\n",
    "        app_name=\"LusidJupyterNotebook\")\n",
    "\n",
    "print ('LUSID Environment Initialised')\n",
    "print ('LUSID SDK Version: ', api_factory.build(lu.api.ApplicationMetadataApi).get_lusid_versions().build_version)"
   ]
  },
  {
   "cell_type": "code",
   "execution_count": 6,
   "metadata": {
    "pycharm": {
     "name": "#%%\n"
    }
   },
   "outputs": [
    {
     "ename": "NameError",
     "evalue": "name 'api_factory' is not defined",
     "output_type": "error",
     "traceback": [
      "\u001B[0;31m---------------------------------------------------------------------------\u001B[0m",
      "\u001B[0;31mNameError\u001B[0m                                 Traceback (most recent call last)",
      "Input \u001B[0;32mIn [6]\u001B[0m, in \u001B[0;36m<module>\u001B[0;34m\u001B[0m\n\u001B[1;32m      1\u001B[0m \u001B[38;5;66;03m# Initiate the LUSID APIs required for the notebook\u001B[39;00m\n\u001B[0;32m----> 2\u001B[0m instruments_api \u001B[38;5;241m=\u001B[39m \u001B[43mapi_factory\u001B[49m\u001B[38;5;241m.\u001B[39mbuild(lu\u001B[38;5;241m.\u001B[39mapi\u001B[38;5;241m.\u001B[39mInstrumentsApi)\n\u001B[1;32m      3\u001B[0m transaction_portfolios_api \u001B[38;5;241m=\u001B[39m api_factory\u001B[38;5;241m.\u001B[39mbuild(lu\u001B[38;5;241m.\u001B[39mapi\u001B[38;5;241m.\u001B[39mTransactionPortfoliosApi)\n\u001B[1;32m      4\u001B[0m configuration_recipe_api \u001B[38;5;241m=\u001B[39m api_factory\u001B[38;5;241m.\u001B[39mbuild(lu\u001B[38;5;241m.\u001B[39mapi\u001B[38;5;241m.\u001B[39mConfigurationRecipeApi)\n",
      "\u001B[0;31mNameError\u001B[0m: name 'api_factory' is not defined"
     ]
    }
   ],
   "source": [
    "# Initiate the LUSID APIs required for the notebook\n",
    "instruments_api = api_factory.build(lu.api.InstrumentsApi)\n",
    "transaction_portfolios_api = api_factory.build(lu.api.TransactionPortfoliosApi)\n",
    "configuration_recipe_api = api_factory.build(lu.api.ConfigurationRecipeApi)\n",
    "aggregation_api = api_factory.build(lu.AggregationApi)\n",
    "quotes_api = api_factory.build(lu.QuotesApi)"
   ]
  },
  {
   "cell_type": "code",
   "execution_count": null,
   "metadata": {
    "pycharm": {
     "name": "#%%\n"
    }
   },
   "outputs": [],
   "source": [
    "# Define scopes\n",
    "scope = \"ibor\"\n",
    "portfolio_code = \"TermDepositExamplePortfolio\""
   ]
  },
  {
   "cell_type": "markdown",
   "metadata": {
    "pycharm": {
     "name": "#%% md\n"
    }
   },
   "source": [
    "# 2. Create Portfolio\n",
    "In this section we will create a portfolio in LUSID to store the term deposits in."
   ]
  },
  {
   "cell_type": "code",
   "execution_count": null,
   "metadata": {
    "pycharm": {
     "name": "#%%\n"
    }
   },
   "outputs": [],
   "source": [
    "try:\n",
    "    transaction_portfolios_api.create_portfolio(\n",
    "        scope=scope,\n",
    "        create_transaction_portfolio_request=lm.CreateTransactionPortfolioRequest(\n",
    "            display_name=portfolio_code,\n",
    "            code=portfolio_code,\n",
    "            base_currency=\"USD\",\n",
    "            created=\"2010-01-01\",\n",
    "            sub_holding_keys=[],\n",
    "        ),\n",
    "    )\n",
    "\n",
    "except lu.ApiException as e:\n",
    "    print(e.body)\n",
    "#     print(json.loads(e.body)[\"title\"])"
   ]
  },
  {
   "cell_type": "markdown",
   "metadata": {
    "pycharm": {
     "name": "#%% md\n"
    }
   },
   "source": [
    "## 3. Create Term Deposit Instrument\n",
    "Next we must create an instrument to represent the Term Deposit.\n",
    "In LUSID the rate of the Term Deposit must be defined at creation and cannot be adjusted."
   ]
  },
  {
   "cell_type": "code",
   "execution_count": null,
   "metadata": {
    "pycharm": {
     "name": "#%%\n"
    }
   },
   "outputs": [],
   "source": [
    "# Helper method to create Term Deposit instrument\n",
    "def create_td_instrument(\n",
    "    name,\n",
    "    identifier,\n",
    "    start_date,\n",
    "    maturity_date,\n",
    "    flow_convention,\n",
    "    rate\n",
    "):\n",
    "    td_instrument = lm.TermDeposit(\n",
    "        start_date=start_date,\n",
    "        maturity_date=maturity_date,\n",
    "        contract_size=1,\n",
    "        flow_convention=flow_convention,\n",
    "        rate=rate,\n",
    "        dom_ccy=\"USD\",\n",
    "        instrument_type=\"TermDeposit\",\n",
    "        local_vars_configuration=None)\n",
    "\n",
    "    td_definition = lm.InstrumentDefinition(\n",
    "        name=name,\n",
    "        identifiers={\"ClientInternal\": lm.InstrumentIdValue(identifier)},\n",
    "        definition=td_instrument\n",
    "    )\n",
    "\n",
    "    upsert_request = {identifier: td_definition}\n",
    "    upsert_response = instruments_api.upsert_instruments(request_body=upsert_request)\n",
    "    td_luid = upsert_response.values[identifier]\n",
    "    print(f\"Created instrument with LUID:{td_luid.lusid_instrument_id} and ClientInternal:{identifier}\")\n",
    "    return td_luid.lusid_instrument_id"
   ]
  },
  {
   "cell_type": "markdown",
   "metadata": {
    "pycharm": {
     "name": "#%% md\n"
    }
   },
   "source": [
    "The flow convention defines the payment schedule for the Term Deposit, this example pays every 6 months."
   ]
  },
  {
   "cell_type": "code",
   "execution_count": null,
   "metadata": {
    "pycharm": {
     "name": "#%%\n"
    }
   },
   "outputs": [],
   "source": [
    "flow_conventions = lm.FlowConventions(\n",
    "    currency=\"USD\",\n",
    "    payment_frequency=\"6M\",\n",
    "    roll_convention=\"F\",\n",
    "    day_count_convention=\"Actual360\",\n",
    "    payment_calendars=[],\n",
    "    reset_calendars=[],\n",
    "    settle_days=0,\n",
    "    reset_days=0,\n",
    ")"
   ]
  },
  {
   "cell_type": "markdown",
   "metadata": {},
   "source": [
    "The Term Deposit Instrument A created below has a maturity time of 6 months and 3% interest rate."
   ]
  },
  {
   "cell_type": "code",
   "execution_count": null,
   "metadata": {
    "pycharm": {
     "name": "#%%\n"
    }
   },
   "outputs": [],
   "source": [
    "start_date = datetime(2020, 3, 18, 00, tzinfo=pytz.utc)\n",
    "maturity_date_A = datetime(2020, 9, 18, 00, tzinfo=pytz.utc)"
   ]
  },
  {
   "cell_type": "code",
   "execution_count": null,
   "metadata": {
    "pycharm": {
     "name": "#%%\n"
    }
   },
   "outputs": [],
   "source": [
    "td_client_a = \"TD_Inst_A\"\n",
    "td_luid_a = create_td_instrument(\n",
    "    name=\"Term Deposit Instrument A\",\n",
    "    identifier=td_client_a,\n",
    "    start_date=start_date,\n",
    "    maturity_date=maturity_date_A,\n",
    "    flow_convention=flow_conventions,\n",
    "    rate=0.03\n",
    ")"
   ]
  },
  {
   "cell_type": "markdown",
   "metadata": {
    "pycharm": {
     "name": "#%% md\n"
    }
   },
   "source": [
    "## 4. Setup Transactions and Holdings\n",
    "### 4.1 Transaction\n",
    "In this section we will setup the initial transactions in the portfolio."
   ]
  },
  {
   "cell_type": "code",
   "execution_count": null,
   "metadata": {
    "pycharm": {
     "name": "#%%\n"
    }
   },
   "outputs": [],
   "source": [
    "# Helper method to upsert transactions into LUSID\n",
    "def upsert_transaction(txn_id, type, luid, client_internal, txn_date, total_consideration):\n",
    "    txn = lm.TransactionRequest(\n",
    "    transaction_id=txn_id,\n",
    "    type=type,\n",
    "    instrument_identifiers={\"Instrument/default/LusidInstrumentId\": luid,\n",
    "                            \"Instrument/default/ClientInternal\": client_internal},\n",
    "    transaction_date=  txn_date.isoformat(),\n",
    "    settlement_date=(txn_date+settlement_time).isoformat(),\n",
    "    units=total_consideration,\n",
    "    transaction_price=lm.TransactionPrice(price=1, type=\"Price\"),\n",
    "    total_consideration=lm.CurrencyAndAmount(amount=total_consideration,currency=\"USD\")\n",
    "    )\n",
    "\n",
    "    transaction_portfolios_api.upsert_transactions(\n",
    "        scope=scope, code=portfolio_code, transaction_request=[txn]\n",
    "    )\n",
    "    return view_transaction_in_lusid(txn_id)\n",
    "\n",
    "def view_transaction_in_lusid(txn_id):\n",
    "    df = lusid_response_to_data_frame(transaction_portfolios_api.get_transactions(scope,portfolio_code))\n",
    "    return df[['transaction_id','type','instrument_identifiers.Instrument/default/ClientInternal','instrument_uid','transaction_price.price','total_consideration.amount','units','transaction_date','settlement_date']][df['transaction_id'] == txn_id]"
   ]
  },
  {
   "cell_type": "code",
   "execution_count": null,
   "metadata": {
    "pycharm": {
     "name": "#%%\n"
    }
   },
   "outputs": [],
   "source": [
    "# In this notebook all transactions will have a 3 day settlement period.\n",
    "settlement_time = timedelta(3)"
   ]
  },
  {
   "cell_type": "markdown",
   "metadata": {
    "pycharm": {
     "name": "#%% md\n"
    }
   },
   "source": [
    "We will first add an intial cash deposit of $1,000,000 to our portfolio."
   ]
  },
  {
   "cell_type": "code",
   "execution_count": null,
   "metadata": {
    "pycharm": {
     "name": "#%%\n"
    }
   },
   "outputs": [],
   "source": [
    "txn = lm.TransactionRequest(\n",
    "    transaction_id=\"txn000\",\n",
    "    type=\"FundsIn\",\n",
    "    instrument_identifiers={\"Instrument/default/Currency\": \"USD\",\n",
    "                            \"Instrument/default/ClientInternal\": \"cash_USD\"},\n",
    "    transaction_date=(datetime(2020, 3, 10, 00, tzinfo=pytz.utc)).isoformat(),\n",
    "    settlement_date=(datetime(2020, 3, 10, 00, tzinfo=pytz.utc) + settlement_time).isoformat(),\n",
    "    units=1000000,\n",
    "    transaction_price=lm.TransactionPrice(price=1,type=\"Price\"),\n",
    "    total_consideration=lm.CurrencyAndAmount(amount=1,currency=\"USD\")\n",
    "    )\n",
    "\n",
    "resp = transaction_portfolios_api.upsert_transactions(\n",
    "    scope=scope, code=portfolio_code, transaction_request=[txn]\n",
    ")\n",
    "\n",
    "view_transaction_in_lusid(\"txn000\")"
   ]
  },
  {
   "cell_type": "markdown",
   "metadata": {
    "pycharm": {
     "name": "#%% md\n"
    }
   },
   "source": [
    "The next transaction is Buying `Term Deposit Instrument A`, in LUSID this transaction represents investing $1,000,000 in a Term Deposit."
   ]
  },
  {
   "cell_type": "code",
   "execution_count": null,
   "metadata": {
    "pycharm": {
     "name": "#%%\n"
    }
   },
   "outputs": [],
   "source": [
    "upsert_transaction(\n",
    "    txn_id=\"txn001\", \n",
    "    type=\"Buy\", \n",
    "    luid=td_luid_a, \n",
    "    client_internal=td_client_a, \n",
    "    txn_date=start_date, \n",
    "    total_consideration=1000000)"
   ]
  },
  {
   "cell_type": "code",
   "execution_count": null,
   "metadata": {
    "pycharm": {
     "name": "#%%\n"
    }
   },
   "outputs": [],
   "source": [
    "# Helper method to view the transaction in LUSID up to a specific date\n",
    "def get_transactions_todate(to_transaction_date):\n",
    "    get_transactions_reponse = transaction_portfolios_api.get_transactions(\n",
    "        scope = scope,\n",
    "        code = portfolio_code,\n",
    "        to_transaction_date=to_transaction_date\n",
    "    )\n",
    "    df = lusid_response_to_data_frame(get_transactions_reponse).sort_values('transaction_id', ascending=True)\n",
    "    subdf = df[['transaction_id','type','instrument_identifiers.Instrument/default/ClientInternal','instrument_uid','total_consideration.amount','units','transaction_date','settlement_date','transaction_price.price']]\n",
    "    return subdf.rename(columns={\"instrument_identifiers.Instrument/default/ClientInternal\":\"ClientInternal\",\"instrument_uid\":\"LusidInstrumentId\"})"
   ]
  },
  {
   "cell_type": "markdown",
   "metadata": {
    "pycharm": {
     "name": "#%% md\n"
    }
   },
   "source": [
    "Running the cell below shows all the transactions that have occurred in the portfolio in LUSID at the start of `Term Deposit A`."
   ]
  },
  {
   "cell_type": "code",
   "execution_count": null,
   "metadata": {
    "pycharm": {
     "name": "#%%\n"
    }
   },
   "outputs": [],
   "source": [
    "get_transactions_todate(start_date)"
   ]
  },
  {
   "cell_type": "markdown",
   "metadata": {},
   "source": [
    "## 4.2. Holdings\n",
    "In this section we will view the portfolio holdings in LUSID."
   ]
  },
  {
   "cell_type": "code",
   "execution_count": null,
   "metadata": {
    "pycharm": {
     "name": "#%%\n"
    }
   },
   "outputs": [],
   "source": [
    "# Helper method to view holdings in LUSID\n",
    "def get_holdings(date):\n",
    "    resp = transaction_portfolios_api.get_holdings(scope=scope,\n",
    "                                         code=portfolio_code,\n",
    "                                         property_keys=[\"Instrument/default/ClientInternal\",\"Instrument/default/Name\"],\n",
    "                                        effective_at=date)\n",
    "    df = lusid_response_to_data_frame(resp)\n",
    "    return df[[\"instrument_scope\",\"instrument_uid\",\"properties.Instrument/default/ClientInternal.value.label_value\",\"properties.Instrument/default/Name.value.label_value\",\"units\",\"cost.amount\",\"holding_type_name\"]]"
   ]
  },
  {
   "cell_type": "markdown",
   "metadata": {
    "pycharm": {
     "name": "#%% md\n"
    }
   },
   "source": [
    "Running the cell below shows, after the initial buy transaction has settled `Term Deposit A` is in the portfolio. There is no cash balance as all the cash in the portfolio has been invested in `Term Deposit A`."
   ]
  },
  {
   "cell_type": "code",
   "execution_count": null,
   "metadata": {
    "pycharm": {
     "name": "#%%\n"
    }
   },
   "outputs": [],
   "source": [
    "get_holdings(start_date+settlement_time)"
   ]
  },
  {
   "cell_type": "markdown",
   "metadata": {
    "pycharm": {
     "name": "#%% md\n"
    }
   },
   "source": [
    "# 5. Running a Valuation\n",
    "In this section we will setup and run valuations on our portfolio\n",
    "\n",
    "## 5.1 Setup recipe\n",
    "To run a valuation in LUSID we must first define a recipe.\n",
    "The helper method below defines a recipe for a Term Deposit instrument by passing in `instrument_type=\"TermDeposit\"` to the `VendorModelRule` parameter."
   ]
  },
  {
   "cell_type": "code",
   "execution_count": null,
   "metadata": {
    "pycharm": {
     "name": "#%%\n"
    }
   },
   "outputs": [],
   "source": [
    "def create_recipe(recipe_code, scope, model):\n",
    "    # Populate recipe parameters\n",
    "    recipe = lm.ConfigurationRecipe(\n",
    "        scope=scope,\n",
    "        code=recipe_code,\n",
    "        market=lm.MarketContext(\n",
    "            market_rules=[\n",
    "                lm.MarketDataKeyRule(\n",
    "                    key=\"Quote.ClientInternal.*\",\n",
    "                    supplier=\"Lusid\",\n",
    "                    data_scope=scope,\n",
    "                    price_source=\"Lusid\",\n",
    "                    quote_type=\"Price\",\n",
    "                    field=\"mid\",\n",
    "                    quote_interval=\"1M\"\n",
    "                )\n",
    "            ],\n",
    "            options=lm.MarketOptions(\n",
    "                attempt_to_infer_missing_fx=True,\n",
    "                default_scope=scope,\n",
    "                default_instrument_code_type=\"ClientInternal\"\n",
    "            )\n",
    "        ),\n",
    "        # Set the valuation model - curve with no discounting\n",
    "        pricing=lm.PricingContext(\n",
    "            model_rules=[\n",
    "                lm.VendorModelRule(\n",
    "                    supplier=\"Lusid\",\n",
    "                    model_name=model,\n",
    "                    instrument_type=\"TermDeposit\",\n",
    "                    parameters=\"{}\",\n",
    "                )\n",
    "            ],\n",
    "            options=lm.PricingOptions(\n",
    "                produce_separate_result_for_linear_otc_legs=False\n",
    "            )\n",
    "        ),\n",
    "    )\n",
    "\n",
    "    response = configuration_recipe_api.upsert_configuration_recipe(\n",
    "                upsert_recipe_request=lm.UpsertRecipeRequest(\n",
    "                    configuration_recipe=recipe\n",
    "                )\n",
    "            )\n",
    "\n",
    "    return response"
   ]
  },
  {
   "cell_type": "markdown",
   "metadata": {
    "pycharm": {
     "name": "#%% md\n"
    }
   },
   "source": [
    "LUSID supports Simple Static, Discounting and Constant Time Value of Money pricing models for Term Deposits. In this notebook we will look at Simple Static and Constant Time Value of Money models."
   ]
  },
  {
   "cell_type": "code",
   "execution_count": null,
   "metadata": {
    "pycharm": {
     "name": "#%%\n"
    }
   },
   "outputs": [],
   "source": [
    "# Define recipe names\n",
    "CTVoMRecipe = \"TermDepositRecipeCTVoM\"\n",
    "SSRecipe = \"TermDepositRecipeSS\"\n",
    "\n",
    "# Create recipes in LUSID\n",
    "CTVoMResponse = create_recipe(CTVoMRecipe, scope, \"ConstantTimeValueOfMoney\")\n",
    "SSResponse = create_recipe(SSRecipe, scope, \"SimpleStatic\")"
   ]
  },
  {
   "cell_type": "code",
   "execution_count": null,
   "metadata": {
    "pycharm": {
     "name": "#%%\n"
    }
   },
   "outputs": [],
   "source": [
    "# Helper method runs a valuation on the portfolio for a given date and recipe\n",
    "def perform_valuation(recipe, date):\n",
    "    # Create valuation request\n",
    "    valuation_request = lm.ValuationRequest(\n",
    "        # Choose recipe to use\n",
    "        recipe_id = lm.ResourceId(scope = scope, code = recipe),\n",
    "        group_by = ['Instrument/default/ClientInternal'],\n",
    "        metrics = [\n",
    "        {\"key\": \"Instrument/default/ClientInternal\", \"op\": \"Value\"},\n",
    "        {\"key\": \"Instrument/default/Name\", \"op\": \"Value\"},              # Reports the friendly name of the underlying instrument\n",
    "        {\"key\": \"Analytic/default/ValuationDate\", \"op\": \"Value\"},       # Confirms the valuation date\n",
    "        {\"key\": \"Valuation/PV\", \"op\": \"Sum\"}],                          # Calculates cost in GBP (the portfolio currency)\n",
    "        # Identify portfolio to value\n",
    "        portfolio_entity_ids = [lm.PortfolioEntityId(scope = scope, code = portfolio_code)],\n",
    "        # Make date of valuation conditional on effective at date passed into function\n",
    "        valuation_schedule = lm.ValuationSchedule(effective_at=date.isoformat()),\n",
    "    )\n",
    "\n",
    "    # Get portfolio valuation\n",
    "    val_data = aggregation_api.get_valuation(valuation_request = valuation_request).data\n",
    "\n",
    "    # Turn valuation response into pandas dataframe\n",
    "    vals_df = pd.DataFrame(val_data)\n",
    "    try:\n",
    "        return vals_df.drop('Aggregation Errors', axis=1)\n",
    "    except:\n",
    "        return vals_df"
   ]
  },
  {
   "cell_type": "markdown",
   "metadata": {
    "pycharm": {
     "name": "#%% md\n"
    }
   },
   "source": [
    "Performing a valuation using Constant Time Value of Money (CTVoM) Model on the portfolio after the `Term Deposit A` settlement date, shows a valuation with a ~1.5% return of initial investment $1,000,000.\n",
    "This is due to the 3% return defined on the Term Deposit and 6 month maturity with a 6 month payment schedule, so if the deposit was held until maturity it would pay out 1/2 of 3%."
   ]
  },
  {
   "cell_type": "code",
   "execution_count": null,
   "metadata": {
    "pycharm": {
     "name": "#%%\n"
    }
   },
   "outputs": [],
   "source": [
    "perform_valuation(CTVoMRecipe,start_date)"
   ]
  },
  {
   "cell_type": "markdown",
   "metadata": {},
   "source": [
    "For Simple Static valuations in LUSID we must provide a quote for the instrument. The date of the quote should be within 5 days of the valuation date.\n",
    "In this example we will set the quote and valuation date at the start of the `Term Deposit A`."
   ]
  },
  {
   "cell_type": "code",
   "execution_count": null,
   "metadata": {
    "pycharm": {
     "name": "#%%\n"
    }
   },
   "outputs": [],
   "source": [
    "# Helper method to upsert a quote\n",
    "def upsert_quote(client_internal, date, rate):\n",
    "    quote_request = {\n",
    "       \"quote_request\" : lm.UpsertQuoteRequest(\n",
    "            quote_id=lm.QuoteId(\n",
    "                quote_series_id=lm.QuoteSeriesId(\n",
    "                    provider=\"Lusid\",\n",
    "                    instrument_id=client_internal,\n",
    "                    instrument_id_type=\"ClientInternal\",\n",
    "                    quote_type=\"Price\",\n",
    "                    field=\"mid\",\n",
    "                ),\n",
    "                effective_at=date.isoformat(),\n",
    "            ),\n",
    "            metric_value=lm.MetricValue(value=rate, unit=\"USD\"),\n",
    "        )}\n",
    "\n",
    "    # Upsert the quotes into LUSID\n",
    "    response = quotes_api.upsert_quotes(scope=scope, request_body=quote_request)\n",
    "    display( f\"Successfully upserted quote for instrument: {response.values['quote_request'].quote_id.quote_series_id.instrument_id} with date:{date}\")"
   ]
  },
  {
   "cell_type": "markdown",
   "metadata": {},
   "source": [
    " The quote defined below has a rate of 6%, this is defined by setting `value=1.06`."
   ]
  },
  {
   "cell_type": "code",
   "execution_count": null,
   "metadata": {
    "pycharm": {
     "name": "#%%\n"
    }
   },
   "outputs": [],
   "source": [
    "upsert_quote(td_client_a, start_date, 1.06)"
   ]
  },
  {
   "cell_type": "markdown",
   "metadata": {
    "pycharm": {
     "name": "#%% md\n"
    }
   },
   "source": [
    "Performing valuation using Constant Time Value of Money Model on the portfolio after the `Term Deposit A` settlement date shows a valuation with a ~6% return of initial investment $1,000,000.\n",
    "This is due to the 6% return defined on the quote definition above."
   ]
  },
  {
   "cell_type": "code",
   "execution_count": null,
   "metadata": {
    "pycharm": {
     "name": "#%%\n"
    }
   },
   "outputs": [],
   "source": [
    "perform_valuation(SSRecipe,start_date)"
   ]
  },
  {
   "cell_type": "markdown",
   "metadata": {
    "pycharm": {
     "name": "#%% md\n"
    }
   },
   "source": [
    "## 6. Rolling a Term Deposit\n",
    "In LUSID we handle rolling a Term Deposit by liquidating the Term Deposit before maturity and buying it back again in the form of new Term Deposit Instrument.\n",
    "This section will show 2 example scenarios:\n",
    "1. Rolling full term deposit maturity amount\n",
    "2. Rolling the notional for the term deposit"
   ]
  },
  {
   "cell_type": "markdown",
   "metadata": {
    "pycharm": {
     "name": "#%% md\n"
    }
   },
   "source": [
    "\n",
    "### 6.1 Rolling Full Term Deposit Maturity Amount\n",
    "In this example when a Term Deposit reaches maturity, we will roll the Term Deposit and reinvest all of the Term Deposit's return into another Term Deposit. The total invested in a Term Deposit will increase due to the interest returned at maturity.\n",
    "\n",
    "#### 6.1.1 Liquidate Term Deposit at Maturity\n",
    "When Term Deposit reaches maturity we will receive a payment of the `initial amount invested + interest`.\n",
    "In LUSID we can call the `get_upsertable_portfolio_cash_flows` to get a transaction which represents the cash returned to the portfolio when a Term Deposit reaches maturity.\n",
    "In this notebook we will always use CTVoM model for cashflow calculations."
   ]
  },
  {
   "cell_type": "code",
   "execution_count": null,
   "metadata": {
    "pycharm": {
     "name": "#%%\n"
    }
   },
   "outputs": [],
   "source": [
    "# Helper method to get cashflow in the portfolio over a given time period from start date to maturity.\n",
    "def get_cashflow(start_date, maturity_date, recipe=CTVoMRecipe):\n",
    "    resp = transaction_portfolios_api.get_upsertable_portfolio_cash_flows(\n",
    "        scope=scope,\n",
    "        code=portfolio_code,\n",
    "        effective_at=maturity_date- timedelta(days=1),\n",
    "        window_start=start_date,\n",
    "        window_end=maturity_date + timedelta(days=2),\n",
    "        recipe_id_scope=scope,\n",
    "        recipe_id_code=recipe\n",
    "    )\n",
    "    return resp.values"
   ]
  },
  {
   "cell_type": "markdown",
   "source": [
    "Next we get the cashflow for `Term Deposit A` at maturity and upsert the transaction to LUSID.\n",
    "The cashflow for `Term Deposit A`, with LUID `LUID_00003DET`, shows a total consideration with a 1.5% return of the initial amount invested. This is made up of \\$$ 1,000,000 from the initial investement and \\$ 15,333.33 accrued interest."
   ],
   "metadata": {
    "collapsed": false,
    "pycharm": {
     "name": "#%% md\n"
    }
   }
  },
  {
   "cell_type": "markdown",
   "source": [],
   "metadata": {
    "collapsed": false
   }
  },
  {
   "cell_type": "code",
   "execution_count": null,
   "metadata": {
    "pycharm": {
     "name": "#%%\n"
    }
   },
   "outputs": [],
   "source": [
    "cashflow_txn = get_cashflow(start_date, maturity_date_A)\n",
    "response = transaction_portfolios_api.upsert_transactions(\n",
    "    scope=scope,\n",
    "    code=portfolio_code,\n",
    "    transaction_request=cashflow_txn\n",
    ")\n",
    "view_transaction_in_lusid(cashflow_txn[0].transaction_id)"
   ]
  },
  {
   "cell_type": "markdown",
   "metadata": {
    "pycharm": {
     "name": "#%% md\n"
    }
   },
   "source": [
    "Now that `Term Deposit Instrument A` has matured we will remove this instrument from the portfolio. The `StockOut` transaction type has no effect on the cash balance, it just moves the instrument out of the portfolio."
   ]
  },
  {
   "cell_type": "code",
   "execution_count": null,
   "metadata": {
    "pycharm": {
     "name": "#%%\n"
    }
   },
   "outputs": [],
   "source": [
    "upsert_transaction(\n",
    "    txn_id=\"txn002\", \n",
    "    type=\"StockOut\", \n",
    "    luid=td_luid_a, \n",
    "    client_internal=td_client_a, \n",
    "    txn_date=maturity_date_A, \n",
    "    total_consideration=1000000)"
   ]
  },
  {
   "cell_type": "markdown",
   "metadata": {
    "pycharm": {
     "name": "#%% md\n"
    }
   },
   "source": [
    "### 6.1.2 Reinvest the Matured Term Deposit's Returns\n",
    "To represent rolling a Term Deposit in this section we will buy a new Term Deposit Instrument.\n",
    "The new instrument defined below, `Term Deposit B`, will have a new start and maturity date but will have the same maturity time as `Term Deposit A` and an interest rate of 4%."
   ]
  },
  {
   "cell_type": "code",
   "execution_count": null,
   "metadata": {
    "pycharm": {
     "name": "#%%\n"
    }
   },
   "outputs": [],
   "source": [
    "maturity_date_B = datetime(2021, 3, 18, 00, tzinfo=pytz.utc)"
   ]
  },
  {
   "cell_type": "code",
   "execution_count": null,
   "metadata": {
    "pycharm": {
     "name": "#%%\n"
    }
   },
   "outputs": [],
   "source": [
    "td_client_b = \"TD_Inst_B\"\n",
    "td_luid_b  = create_td_instrument(\n",
    "    name=\"Term Deposit Instrument B\",\n",
    "    identifier=td_client_b,\n",
    "    start_date=maturity_date_A,\n",
    "    maturity_date=maturity_date_B,\n",
    "    flow_convention=flow_conventions,\n",
    "    rate=0.04\n",
    ")"
   ]
  },
  {
   "cell_type": "markdown",
   "metadata": {
    "pycharm": {
     "name": "#%% md\n"
    }
   },
   "source": [
    "We will now invest all of the cash returned from `Term Deposit A` into `Term Deposit B`.\n",
    "In LUSID we show this by buying `Term Deposit B` instrument, with the total consideration equalling the returns from `Term Deposit A`."
   ]
  },
  {
   "cell_type": "code",
   "execution_count": null,
   "metadata": {
    "pycharm": {
     "name": "#%%\n"
    }
   },
   "outputs": [],
   "source": [
    "inst_A_cashflow_amount = cashflow_txn[0].total_consideration.amount\n",
    "\n",
    "upsert_transaction(\n",
    "    txn_id=\"txn003\", \n",
    "    type=\"Buy\", \n",
    "    luid=td_luid_b, \n",
    "    client_internal=td_client_b, \n",
    "    txn_date=maturity_date_A, \n",
    "    total_consideration=inst_A_cashflow_amount)"
   ]
  },
  {
   "cell_type": "markdown",
   "metadata": {
    "pycharm": {
     "name": "#%% md\n"
    }
   },
   "source": [
    "The transactions table below shows the transactions in the portoflio that have happened by the maturity date of `Term Deposit A`.\n",
    "We can see the `StockOut` transaction removing `Term Deposit A` from the portfolio at maturity and the `CashFlow` transaction which realises the cash value of the deposit. The `Buy` transaction represents reinvesting $1,015,333.3333 in `Term Deposit B`."
   ]
  },
  {
   "cell_type": "code",
   "execution_count": null,
   "metadata": {
    "pycharm": {
     "name": "#%%\n"
    }
   },
   "outputs": [],
   "source": [
    "get_transactions_todate(maturity_date_A)"
   ]
  },
  {
   "cell_type": "markdown",
   "metadata": {
    "pycharm": {
     "name": "#%% md\n"
    }
   },
   "source": [
    "The table below shows the holdings in the portfolio after the transactions have settled 3 days later.\n",
    "Here we can see the `Term Deposit Instrument A` is no longer in the portfolio and has been replaced by `Term Deposit Instrument B`."
   ]
  },
  {
   "cell_type": "code",
   "execution_count": null,
   "metadata": {
    "pycharm": {
     "name": "#%%\n"
    }
   },
   "outputs": [],
   "source": [
    "get_holdings(maturity_date_A + settlement_time)"
   ]
  },
  {
   "cell_type": "markdown",
   "metadata": {
    "pycharm": {
     "name": "#%% md\n"
    }
   },
   "source": [
    "The valuation below shows the valuation for `Term Deposit Instrument B` using the CTVoM model. This value is higher than the CTVoM valuation for `Term Deposit Instrument A` due to the higher initial investment."
   ]
  },
  {
   "cell_type": "code",
   "execution_count": null,
   "metadata": {
    "pycharm": {
     "name": "#%%\n"
    }
   },
   "outputs": [],
   "source": [
    "perform_valuation(CTVoMRecipe, maturity_date_A + settlement_time)"
   ]
  },
  {
   "cell_type": "markdown",
   "metadata": {
    "pycharm": {
     "name": "#%% md\n"
    }
   },
   "source": [
    "To perform another Simple Static valuation we must upsert a new quote for the new `Term Deposit instrument B` at the roll start date.\n",
    "The Simple Static valuation below wih a 6% return of the initial investment."
   ]
  },
  {
   "cell_type": "code",
   "execution_count": null,
   "metadata": {
    "pycharm": {
     "name": "#%%\n"
    }
   },
   "outputs": [],
   "source": [
    "upsert_quote(td_client_b, maturity_date_A, 1.06)\n",
    "upsert_quote(td_client_a, maturity_date_A, 1.06)"
   ]
  },
  {
   "cell_type": "code",
   "execution_count": null,
   "metadata": {
    "pycharm": {
     "name": "#%%\n"
    }
   },
   "outputs": [],
   "source": [
    "perform_valuation(SSRecipe,maturity_date_A)"
   ]
  },
  {
   "cell_type": "markdown",
   "metadata": {
    "pycharm": {
     "name": "#%% md\n"
    }
   },
   "source": [
    "## 6.2 Rolling the Notional for the Term Deposit\n",
    "In this example when a Term Deposit reaches maturity, we will roll a Term Deposit and reinvest $1,000,000 in another Term Deposit with a higher interest rate.\n",
    "\n",
    "### 6.2.1 Liquidate the Term Deposit at Maturity\n",
    "As in the previous example, we first upsert the cashflow transaction. The dates for the cashflow are over the investment period of `Term Deposit B`."
   ]
  },
  {
   "cell_type": "code",
   "execution_count": null,
   "metadata": {
    "pycharm": {
     "name": "#%%\n"
    }
   },
   "outputs": [],
   "source": [
    "txn = get_cashflow(maturity_date_A + settlement_time, maturity_date_B, CTVoMRecipe)\n",
    "response = transaction_portfolios_api.upsert_transactions(\n",
    "    scope=scope, code=portfolio_code, transaction_request=txn\n",
    ")\n",
    "view_transaction_in_lusid(txn[0].transaction_id)"
   ]
  },
  {
   "cell_type": "markdown",
   "metadata": {
    "pycharm": {
     "name": "#%% md\n"
    }
   },
   "source": [
    "Next we remove the `Term Deposit B` instrument from our portfolio."
   ]
  },
  {
   "cell_type": "code",
   "execution_count": null,
   "metadata": {
    "pycharm": {
     "name": "#%%\n"
    }
   },
   "outputs": [],
   "source": [
    "upsert_transaction(\n",
    "    txn_id=\"txn004\", \n",
    "    type=\"StockOut\", \n",
    "    luid=td_luid_b, \n",
    "    client_internal=td_client_b, \n",
    "    txn_date=maturity_date_B, \n",
    "    total_consideration=inst_A_cashflow_amount)"
   ]
  },
  {
   "cell_type": "markdown",
   "metadata": {
    "pycharm": {
     "name": "#%% md\n"
    }
   },
   "source": [
    "### 6.2.2 Buy Term Deposit back with an Increased Rate\n",
    "To roll the term deposit we will create a new instrument, `Term Deposit C`. It will have the same maturity time as the previous Term Deposits, with a higher rate of 5% and a new start and end date."
   ]
  },
  {
   "cell_type": "code",
   "execution_count": null,
   "metadata": {
    "pycharm": {
     "name": "#%%\n"
    }
   },
   "outputs": [],
   "source": [
    "maturity_date_C = datetime(2021, 9, 18, 00, tzinfo=pytz.utc)"
   ]
  },
  {
   "cell_type": "code",
   "execution_count": null,
   "metadata": {
    "pycharm": {
     "name": "#%%\n"
    }
   },
   "outputs": [],
   "source": [
    "# Define a new instrument with a higher rate\n",
    "td_client_c = \"TD_Inst_C\"\n",
    "td_luid_c = create_td_instrument(\n",
    "    name=\"Term Deposit Instrument C\",\n",
    "    identifier=td_client_c,\n",
    "    start_date=maturity_date_B,\n",
    "    maturity_date=maturity_date_C,\n",
    "    flow_convention=flow_conventions,\n",
    "    rate=0.05\n",
    ")"
   ]
  },
  {
   "cell_type": "markdown",
   "metadata": {
    "pycharm": {
     "name": "#%% md\n"
    }
   },
   "source": [
    "In this example we will only invest $1,000,000 into `Term Deposit C` and leave the remaining cash returned from `Term Deposit B` in the portfolio."
   ]
  },
  {
   "cell_type": "code",
   "execution_count": null,
   "metadata": {
    "pycharm": {
     "name": "#%%\n"
    }
   },
   "outputs": [],
   "source": [
    "upsert_transaction(\n",
    "    txn_id=\"txn005\", \n",
    "    type=\"Buy\", \n",
    "    luid=td_luid_c, \n",
    "    client_internal=td_client_c, \n",
    "    txn_date=maturity_date_B, \n",
    "    total_consideration=1000000)"
   ]
  },
  {
   "cell_type": "markdown",
   "metadata": {},
   "source": [
    "The cell below shows the transactions in the portfolio after Term Deposit B has been purchased"
   ]
  },
  {
   "cell_type": "code",
   "execution_count": null,
   "metadata": {
    "pycharm": {
     "name": "#%%\n"
    }
   },
   "outputs": [],
   "source": [
    "get_transactions_todate(maturity_date_B)"
   ]
  },
  {
   "cell_type": "markdown",
   "metadata": {
    "pycharm": {
     "name": "#%% md\n"
    }
   },
   "source": [
    "The table below shows the holdings in the portfolio after the transactions have settled 3 days later.\n",
    "Here we can see the `Term Deposit Instrument B` is no longer in the portfolio and has been replaced by `Term Deposit Instrument C` and there is an excess cash balance of $35,752.8148. The cash balance represents the interest returned from `Term Deposit B` which was not reinvested in `Term Deposit C`."
   ]
  },
  {
   "cell_type": "code",
   "execution_count": null,
   "metadata": {
    "pycharm": {
     "name": "#%%\n"
    }
   },
   "outputs": [],
   "source": [
    "get_holdings(maturity_date_B + timedelta(days=3))"
   ]
  },
  {
   "cell_type": "markdown",
   "metadata": {
    "pycharm": {
     "name": "#%% md\n"
    }
   },
   "source": [
    "The valuation below shows a PV with a ~2.5% return of the initial $1,000,000 invested in `Term Deposit C`. This reflects the 5% interest rate over the 6 month Term Deposit where 5/2= 2.5."
   ]
  },
  {
   "cell_type": "code",
   "execution_count": null,
   "metadata": {
    "pycharm": {
     "name": "#%%\n"
    }
   },
   "outputs": [],
   "source": [
    "perform_valuation(CTVoMRecipe, maturity_date_B)"
   ]
  },
  {
   "cell_type": "markdown",
   "metadata": {
    "pycharm": {
     "name": "#%% md\n"
    }
   },
   "source": [
    "To get a Simple Static valuation we will first upsert a quote for the new Term Deposit. This quote has an interest rate of 4%, we can see this reflected in a valuation with a 4% return on the initial investment. The interest rate of the `Term Deposit C` instrument does not effect the Simple Static valuation."
   ]
  },
  {
   "cell_type": "code",
   "execution_count": null,
   "metadata": {
    "pycharm": {
     "name": "#%%\n"
    }
   },
   "outputs": [],
   "source": [
    "upsert_quote(td_client_b, maturity_date_B, 1.04)\n",
    "upsert_quote(td_client_c, maturity_date_B, 1.04)"
   ]
  },
  {
   "cell_type": "code",
   "execution_count": null,
   "metadata": {
    "pycharm": {
     "name": "#%%\n"
    }
   },
   "outputs": [],
   "source": [
    "perform_valuation(SSRecipe, maturity_date_B)"
   ]
  }
 ],
 "metadata": {
  "kernelspec": {
   "display_name": "Python 3 (ipykernel)",
   "language": "python",
   "name": "python3"
  },
  "language_info": {
   "codemirror_mode": {
    "name": "ipython",
    "version": 3
   },
   "file_extension": ".py",
   "mimetype": "text/x-python",
   "name": "python",
   "nbconvert_exporter": "python",
   "pygments_lexer": "ipython3",
   "version": "3.9.7"
  },
  "toc": {
   "base_numbering": 1,
   "nav_menu": {},
   "number_sections": false,
   "sideBar": true,
   "skip_h1_title": false,
   "title_cell": "Table of Contents",
   "title_sidebar": "Contents",
   "toc_cell": false,
   "toc_position": {},
   "toc_section_display": true,
   "toc_window_display": false
  },
  "varInspector": {
   "cols": {
    "lenName": 16,
    "lenType": 16,
    "lenVar": 40
   },
   "kernels_config": {
    "python": {
     "delete_cmd_postfix": "",
     "delete_cmd_prefix": "del ",
     "library": "var_list.py",
     "varRefreshCmd": "print(var_dic_list())"
    },
    "r": {
     "delete_cmd_postfix": ") ",
     "delete_cmd_prefix": "rm(",
     "library": "var_list.r",
     "varRefreshCmd": "cat(var_dic_list()) "
    }
   },
   "types_to_exclude": [
    "module",
    "function",
    "builtin_function_or_method",
    "instance",
    "_Feature"
   ],
   "window_display": false
  }
 },
 "nbformat": 4,
 "nbformat_minor": 1
}