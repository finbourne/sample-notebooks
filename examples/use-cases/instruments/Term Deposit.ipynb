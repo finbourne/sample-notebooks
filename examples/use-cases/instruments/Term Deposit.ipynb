{
 "cells": [
  {
   "cell_type": "code",
   "execution_count": 53,
   "metadata": {
    "collapsed": true,
    "pycharm": {
     "name": "#%%\n"
    }
   },
   "outputs": [
    {
     "data": {
      "text/plain": "<IPython.core.display.HTML object>",
      "text/html": "\n    <form action=\"javascript:code_toggle()\"><input type=\"submit\" id=\"toggleButton\" value=\"Hide docstring\"></form>\n    \n         <script>\n         function code_toggle() {\n             if ($('div.cell.code_cell.rendered.selected div.input').css('display')!='none'){\n                 $('div.cell.code_cell.rendered.selected div.input').hide();\n             } else {\n                 $('div.cell.code_cell.rendered.selected div.input').show();\n             }\n         }\n         </script>\n\n     "
     },
     "metadata": {},
     "output_type": "display_data"
    }
   ],
   "source": [
    "from lusidtools.jupyter_tools import toggle_code\n",
    "\n",
    "\"\"\"Term Deposit Valuation\n",
    "\n",
    "Demonstrates pricing of a Term Deposit Investment.\n",
    "\n",
    "Attributes\n",
    "----------\n",
    "instruments\n",
    "valuation\n",
    "lifecycle events\n",
    "market data store\n",
    "results store\n",
    "quotes\n",
    "\"\"\"\n",
    "\n",
    "toggle_code(\"Hide docstring\")"
   ]
  },
  {
   "cell_type": "markdown",
   "source": [
    "# Valuing and Rolling Term Deposits\n",
    "In this notebook, we demonstrate how Term Deposits are handled in LUSID. We will show how to roll Term Deposits, represent cashflow payments and perform valuations.\n",
    "\n",
    "Contents:\n",
    "* [1. Initial Setup](#1.-Initial-Setup)\n",
    "* [2. Create Portfolio](#2.-Create-Portfolio)\n",
    "* [3. Create Term Deposit Instrument](#3.-Create-Term-Deposit-Instrument)\n",
    "* [4. Add Transactions](#4.-Add-Transactions)\n",
    "* [5. Get Holdings](#5.-Get-Holdings)\n",
    "* [6. Rolling a Term Deposit](#6.-Rolling-a-Term-Deposit)\n",
    "    * [6.1 Rolling with an increase to principal investment value](#6.1-Rolling-with-an-increase-to-principal-investment)\n",
    "    * [6.2 Rolling with an increase to interest](#6.2-Rolling-with-an-increase-to-interest)\n",
    "## 1. Initial Setup"
   ],
   "metadata": {
    "collapsed": false,
    "pycharm": {
     "name": "#%% md\n"
    }
   }
  },
  {
   "cell_type": "code",
   "execution_count": 54,
   "outputs": [],
   "source": [
    "# Import LUSID libraries\n",
    "import lusid as lu\n",
    "import lusid.models as lm\n",
    "from lusidtools.pandas_utils.lusid_pandas import lusid_response_to_data_frame\n",
    "from lusidjam.refreshing_token import RefreshingToken\n",
    "from IPython.core.display_functions import display\n",
    "\n",
    "# Import Libraries\n",
    "from datetime import datetime, timedelta\n",
    "import pytz\n",
    "import pandas as pd\n",
    "import json\n",
    "import os"
   ],
   "metadata": {
    "collapsed": false,
    "pycharm": {
     "name": "#%%\n"
    }
   }
  },
  {
   "cell_type": "code",
   "execution_count": 55,
   "outputs": [
    {
     "name": "stdout",
     "output_type": "stream",
     "text": [
      "LUSID Environment Initialised\n",
      "LUSID SDK Version:  0.6.11236.0\n"
     ]
    }
   ],
   "source": [
    "# Settings and utility functions to display objects and responses more clearly.\n",
    "pd.set_option('float_format', '{:,.4f}'.format)\n",
    "\n",
    "# Set the secrets path\n",
    "secrets_path = os.getenv(\"FBN_SECRETS_PATH\")\n",
    "\n",
    "if secrets_path is None:\n",
    "    secrets_path = os.path.join(os.path.dirname(os.getcwd()), \"secrets.json\")\n",
    "\n",
    "api_factory = lu.utilities.ApiClientFactory(\n",
    "        token=RefreshingToken(),\n",
    "        api_secrets_filename = secrets_path,\n",
    "        app_name=\"LusidJupyterNotebook\")\n",
    "\n",
    "print ('LUSID Environment Initialised')\n",
    "print ('LUSID SDK Version: ', api_factory.build(lu.api.ApplicationMetadataApi).get_lusid_versions().build_version)"
   ],
   "metadata": {
    "collapsed": false,
    "pycharm": {
     "name": "#%%\n"
    }
   }
  },
  {
   "cell_type": "code",
   "execution_count": 56,
   "outputs": [],
   "source": [
    "# Initiate the LUSID APIs required for the notebook\n",
    "instruments_api = api_factory.build(lu.api.InstrumentsApi)\n",
    "transaction_portfolios_api = api_factory.build(lu.api.TransactionPortfoliosApi)\n",
    "configuration_recipe_api = api_factory.build(lu.api.ConfigurationRecipeApi)\n",
    "aggregation_api = api_factory.build(lu.AggregationApi)\n",
    "quotes_api = api_factory.build(lu.QuotesApi)"
   ],
   "metadata": {
    "collapsed": false,
    "pycharm": {
     "name": "#%%\n"
    }
   }
  },
  {
   "cell_type": "code",
   "execution_count": 57,
   "outputs": [],
   "source": [
    "# Define scopes\n",
    "scope = \"ibor\"\n",
    "portfolio_code = \"TermDepositExamplePortfolio\""
   ],
   "metadata": {
    "collapsed": false,
    "pycharm": {
     "name": "#%%\n"
    }
   }
  },
  {
   "cell_type": "markdown",
   "source": [
    "# 2. Create Portfolio\n",
    "In this section we will create a portfolio in LUSID to store the term deposits in."
   ],
   "metadata": {
    "collapsed": false,
    "pycharm": {
     "name": "#%% md\n"
    }
   }
  },
  {
   "cell_type": "code",
   "execution_count": 58,
   "outputs": [
    {
     "name": "stdout",
     "output_type": "stream",
     "text": [
      "Could not create a portfolio with id 'TermDepositExamplePortfolio' because it already exists in scope 'ibor'.\n"
     ]
    }
   ],
   "source": [
    "try:\n",
    "    transaction_portfolios_api.create_portfolio(\n",
    "        scope=scope,\n",
    "        create_transaction_portfolio_request=lm.CreateTransactionPortfolioRequest(\n",
    "            display_name=portfolio_code,\n",
    "            code=portfolio_code,\n",
    "            base_currency=\"USD\",\n",
    "            created=\"2010-01-01\",\n",
    "            sub_holding_keys=[],\n",
    "        ),\n",
    "    )\n",
    "\n",
    "except lu.ApiException as e:\n",
    "    print(json.loads(e.body)[\"title\"])"
   ],
   "metadata": {
    "collapsed": false,
    "pycharm": {
     "name": "#%%\n"
    }
   }
  },
  {
   "cell_type": "markdown",
   "source": [
    "## 3. Create Term Deposit Instrument\n",
    "Next we must create an instrument to represent the Term Deposit.\n",
    "In LUSID the rate of the Term Deposit must be defined at creation and cannot be adjusted."
   ],
   "metadata": {
    "collapsed": false,
    "pycharm": {
     "name": "#%% md\n"
    }
   }
  },
  {
   "cell_type": "code",
   "execution_count": 59,
   "outputs": [],
   "source": [
    "# Helper method to create Term Deposit instrument\n",
    "def create_td_instrument(\n",
    "    name,\n",
    "    identifier,\n",
    "    start_date,\n",
    "    maturity_date,\n",
    "    contract_size,\n",
    "    flow_convention,\n",
    "    rate,\n",
    "    dom_ccy\n",
    "):\n",
    "    td_instrument = lm.TermDeposit(\n",
    "        start_date=start_date,\n",
    "        maturity_date=maturity_date,\n",
    "        contract_size=contract_size,\n",
    "        flow_convention=flow_convention,\n",
    "        rate=rate,\n",
    "        dom_ccy=dom_ccy,\n",
    "        instrument_type=\"TermDeposit\",\n",
    "        local_vars_configuration=None)\n",
    "\n",
    "    td_definition = lm.InstrumentDefinition(\n",
    "        name=name,\n",
    "        identifiers={\"ClientInternal\": lm.InstrumentIdValue(identifier)},\n",
    "        definition=td_instrument\n",
    "    )\n",
    "\n",
    "    upsert_request = {identifier: td_definition}\n",
    "    upsert_response = instruments_api.upsert_instruments(request_body=upsert_request)\n",
    "    td_luid = upsert_response.values[identifier]\n",
    "    print(f\"Created instrument with LUID:{td_luid.lusid_instrument_id} and ClientInternal:{identifier}\")\n",
    "    return td_luid.lusid_instrument_id"
   ],
   "metadata": {
    "collapsed": false,
    "pycharm": {
     "name": "#%%\n"
    }
   }
  },
  {
   "cell_type": "markdown",
   "source": [
    "The flow convention defines the payment schedule for the Term Deposit, this example pays every 6 months.\n",
    "The Term Deposit Instrument A created below has a maturity time of 6 months and 3% interest rate."
   ],
   "metadata": {
    "collapsed": false,
    "pycharm": {
     "name": "#%% md\n"
    }
   }
  },
  {
   "cell_type": "code",
   "execution_count": 60,
   "outputs": [],
   "source": [
    "flow_conventions = lm.FlowConventions(\n",
    "    currency=\"USD\",\n",
    "    payment_frequency=\"6M\",\n",
    "    roll_convention=\"F\",\n",
    "    day_count_convention=\"Actual360\",\n",
    "    payment_calendars=[],\n",
    "    reset_calendars=[],\n",
    "    settle_days=0,\n",
    "    reset_days=0,\n",
    ")"
   ],
   "metadata": {
    "collapsed": false,
    "pycharm": {
     "name": "#%%\n"
    }
   }
  },
  {
   "cell_type": "code",
   "execution_count": 61,
   "outputs": [],
   "source": [
    "# Define key dates for the Term Deposits\n",
    "start_date = datetime(2020, 3, 18, 00, tzinfo=pytz.utc)\n",
    "maturity_date_A = datetime(2020, 9, 18, 00, tzinfo=pytz.utc)"
   ],
   "metadata": {
    "collapsed": false,
    "pycharm": {
     "name": "#%%\n"
    }
   }
  },
  {
   "cell_type": "code",
   "execution_count": 62,
   "outputs": [
    {
     "name": "stdout",
     "output_type": "stream",
     "text": [
      "Created instrument with LUID:LUID_00003DET and ClientInternal:TD_Inst_A\n"
     ]
    }
   ],
   "source": [
    "td_client_a = \"TD_Inst_A\"\n",
    "td_luid_a = create_td_instrument(\n",
    "    \"Term Deposit Instrument A\",\n",
    "    td_client_a,\n",
    "    start_date,\n",
    "    maturity_date_A,\n",
    "    1,\n",
    "    flow_conventions,\n",
    "    0.03,\n",
    "    \"USD\"\n",
    ")"
   ],
   "metadata": {
    "collapsed": false,
    "pycharm": {
     "name": "#%%\n"
    }
   }
  },
  {
   "cell_type": "markdown",
   "source": [
    "## 4. Setup Transactions and Holdings\n",
    "### 4.1 Transaction\n",
    "In this section we will setup the initial transactions in the portfolio."
   ],
   "metadata": {
    "collapsed": false,
    "pycharm": {
     "name": "#%% md\n"
    }
   }
  },
  {
   "cell_type": "code",
   "execution_count": 63,
   "outputs": [],
   "source": [
    "# Helper method to upsert transactions into LUSID\n",
    "def upsert_transaction(txn_id, type, luid, client_internal, txn_date, total_consideration):\n",
    "    txn = lm.TransactionRequest(\n",
    "    transaction_id=txn_id,\n",
    "    type=type,\n",
    "    instrument_identifiers={\"Instrument/default/LusidInstrumentId\": luid,\n",
    "                            \"Instrument/default/ClientInternal\": client_internal},\n",
    "    transaction_date=  txn_date.isoformat(),\n",
    "    settlement_date=(txn_date+settlement_time).isoformat(),\n",
    "    units=total_consideration,\n",
    "    transaction_price=lm.TransactionPrice(price=1, type=\"Price\"),\n",
    "    total_consideration=lm.CurrencyAndAmount(amount=total_consideration,currency=\"USD\")\n",
    "    )\n",
    "\n",
    "    transaction_portfolios_api.upsert_transactions(\n",
    "        scope=scope, code=portfolio_code, transaction_request=[txn]\n",
    "    )\n",
    "    return view_transaction_in_lusid(txn_id)\n",
    "\n",
    "def view_transaction_in_lusid(txn_id):\n",
    "    df = lusid_response_to_data_frame(transaction_portfolios_api.get_transactions(scope,portfolio_code))\n",
    "    return df[['transaction_id','type','instrument_identifiers.Instrument/default/ClientInternal','instrument_uid','transaction_price.price','total_consideration.amount','units','transaction_date','settlement_date']][df['transaction_id'] == txn_id]"
   ],
   "metadata": {
    "collapsed": false,
    "pycharm": {
     "name": "#%%\n"
    }
   }
  },
  {
   "cell_type": "code",
   "execution_count": 64,
   "outputs": [],
   "source": [
    "# In this notebook all transactions will have a 3 day settlement period.\n",
    "settlement_time = timedelta(3)"
   ],
   "metadata": {
    "collapsed": false,
    "pycharm": {
     "name": "#%%\n"
    }
   }
  },
  {
   "cell_type": "markdown",
   "source": [
    "We will first add an intial cash deposit of $1,000,000 to our portfolio."
   ],
   "metadata": {
    "collapsed": false,
    "pycharm": {
     "name": "#%% md\n"
    }
   }
  },
  {
   "cell_type": "code",
   "source": [
    "txn = lm.TransactionRequest(\n",
    "transaction_id=\"txn000\",\n",
    "type=\"FundsIn\",\n",
    "instrument_identifiers={\"Instrument/default/Currency\": \"USD\",\n",
    "                        \"Instrument/default/ClientInternal\": \"cash_USD\"},\n",
    "transaction_date=(datetime(2020, 3, 10, 00, tzinfo=pytz.utc)).isoformat(),\n",
    "settlement_date=(datetime(2020, 3, 10, 00, tzinfo=pytz.utc) + settlement_time).isoformat(),\n",
    "units=1000000,\n",
    "transaction_price=lm.TransactionPrice(price=1,type=\"Price\"),\n",
    "total_consideration=lm.CurrencyAndAmount(amount=1,currency=\"USD\")\n",
    ")\n",
    "\n",
    "resp = transaction_portfolios_api.upsert_transactions(\n",
    "    scope=scope, code=portfolio_code, transaction_request=[txn]\n",
    ")\n",
    "\n",
    "view_transaction_in_lusid(\"txn000\")"
   ],
   "metadata": {
    "collapsed": false,
    "pycharm": {
     "name": "#%%\n"
    }
   },
   "execution_count": 65,
   "outputs": [
    {
     "data": {
      "text/plain": "  transaction_id     type  \\\n0         txn000  FundsIn   \n\n  instrument_identifiers.Instrument/default/ClientInternal instrument_uid  \\\n0                                           cash_USD              CCY_USD   \n\n   transaction_price.price  total_consideration.amount          units  \\\n0                   1.0000                      1.0000 1,000,000.0000   \n\n           transaction_date           settlement_date  \n0 2020-03-10 00:00:00+00:00 2020-03-13 00:00:00+00:00  ",
      "text/html": "<div>\n<style scoped>\n    .dataframe tbody tr th:only-of-type {\n        vertical-align: middle;\n    }\n\n    .dataframe tbody tr th {\n        vertical-align: top;\n    }\n\n    .dataframe thead th {\n        text-align: right;\n    }\n</style>\n<table border=\"1\" class=\"dataframe\">\n  <thead>\n    <tr style=\"text-align: right;\">\n      <th></th>\n      <th>transaction_id</th>\n      <th>type</th>\n      <th>instrument_identifiers.Instrument/default/ClientInternal</th>\n      <th>instrument_uid</th>\n      <th>transaction_price.price</th>\n      <th>total_consideration.amount</th>\n      <th>units</th>\n      <th>transaction_date</th>\n      <th>settlement_date</th>\n    </tr>\n  </thead>\n  <tbody>\n    <tr>\n      <th>0</th>\n      <td>txn000</td>\n      <td>FundsIn</td>\n      <td>cash_USD</td>\n      <td>CCY_USD</td>\n      <td>1.0000</td>\n      <td>1.0000</td>\n      <td>1,000,000.0000</td>\n      <td>2020-03-10 00:00:00+00:00</td>\n      <td>2020-03-13 00:00:00+00:00</td>\n    </tr>\n  </tbody>\n</table>\n</div>"
     },
     "execution_count": 65,
     "metadata": {},
     "output_type": "execute_result"
    }
   ]
  },
  {
   "cell_type": "markdown",
   "source": [
    "The next transaction is Buying `Term Deposit Instrument A`, in LUSID this transaction represents investing $1,000,000 in a Term Deposit."
   ],
   "metadata": {
    "collapsed": false,
    "pycharm": {
     "name": "#%% md\n"
    }
   }
  },
  {
   "cell_type": "code",
   "execution_count": 66,
   "outputs": [
    {
     "data": {
      "text/plain": "  transaction_id type  \\\n1         txn001  Buy   \n\n  instrument_identifiers.Instrument/default/ClientInternal instrument_uid  \\\n1                                          TD_Inst_A        LUID_00003DET   \n\n   transaction_price.price  total_consideration.amount          units  \\\n1                   1.0000              1,000,000.0000 1,000,000.0000   \n\n           transaction_date           settlement_date  \n1 2020-03-18 00:00:00+00:00 2020-03-21 00:00:00+00:00  ",
      "text/html": "<div>\n<style scoped>\n    .dataframe tbody tr th:only-of-type {\n        vertical-align: middle;\n    }\n\n    .dataframe tbody tr th {\n        vertical-align: top;\n    }\n\n    .dataframe thead th {\n        text-align: right;\n    }\n</style>\n<table border=\"1\" class=\"dataframe\">\n  <thead>\n    <tr style=\"text-align: right;\">\n      <th></th>\n      <th>transaction_id</th>\n      <th>type</th>\n      <th>instrument_identifiers.Instrument/default/ClientInternal</th>\n      <th>instrument_uid</th>\n      <th>transaction_price.price</th>\n      <th>total_consideration.amount</th>\n      <th>units</th>\n      <th>transaction_date</th>\n      <th>settlement_date</th>\n    </tr>\n  </thead>\n  <tbody>\n    <tr>\n      <th>1</th>\n      <td>txn001</td>\n      <td>Buy</td>\n      <td>TD_Inst_A</td>\n      <td>LUID_00003DET</td>\n      <td>1.0000</td>\n      <td>1,000,000.0000</td>\n      <td>1,000,000.0000</td>\n      <td>2020-03-18 00:00:00+00:00</td>\n      <td>2020-03-21 00:00:00+00:00</td>\n    </tr>\n  </tbody>\n</table>\n</div>"
     },
     "execution_count": 66,
     "metadata": {},
     "output_type": "execute_result"
    }
   ],
   "source": [
    "upsert_transaction(\"txn001\", \"Buy\", td_luid_a, td_client_a, start_date, 1000000)"
   ],
   "metadata": {
    "collapsed": false,
    "pycharm": {
     "name": "#%%\n"
    }
   }
  },
  {
   "cell_type": "code",
   "execution_count": 67,
   "outputs": [],
   "source": [
    "# Helper method to view the transaction in LUSID up to a specific date\n",
    "def get_transactions_todate(to_transaction_date):\n",
    "    get_transactions_reponse = transaction_portfolios_api.get_transactions(\n",
    "        scope = scope,\n",
    "        code = portfolio_code,\n",
    "        to_transaction_date=to_transaction_date\n",
    "    )\n",
    "    df = lusid_response_to_data_frame(get_transactions_reponse).sort_values('transaction_id', ascending=True)\n",
    "    return df[['transaction_id','type','instrument_identifiers.Instrument/default/ClientInternal','instrument_uid','total_consideration.amount','units','transaction_date','settlement_date','transaction_price.price']]"
   ],
   "metadata": {
    "collapsed": false,
    "pycharm": {
     "name": "#%%\n"
    }
   }
  },
  {
   "cell_type": "markdown",
   "source": [
    "Running the cell below shows all the transactions that have occurred in the portfolio in LUSID at the start of `Term Deposit A`."
   ],
   "metadata": {
    "collapsed": false,
    "pycharm": {
     "name": "#%% md\n"
    }
   }
  },
  {
   "cell_type": "code",
   "execution_count": 68,
   "outputs": [
    {
     "data": {
      "text/plain": "  transaction_id     type  \\\n0         txn000  FundsIn   \n1         txn001      Buy   \n\n  instrument_identifiers.Instrument/default/ClientInternal instrument_uid  \\\n0                                           cash_USD              CCY_USD   \n1                                          TD_Inst_A        LUID_00003DET   \n\n   total_consideration.amount          units          transaction_date  \\\n0                      1.0000 1,000,000.0000 2020-03-10 00:00:00+00:00   \n1              1,000,000.0000 1,000,000.0000 2020-03-18 00:00:00+00:00   \n\n            settlement_date  transaction_price.price  \n0 2020-03-13 00:00:00+00:00                   1.0000  \n1 2020-03-21 00:00:00+00:00                   1.0000  ",
      "text/html": "<div>\n<style scoped>\n    .dataframe tbody tr th:only-of-type {\n        vertical-align: middle;\n    }\n\n    .dataframe tbody tr th {\n        vertical-align: top;\n    }\n\n    .dataframe thead th {\n        text-align: right;\n    }\n</style>\n<table border=\"1\" class=\"dataframe\">\n  <thead>\n    <tr style=\"text-align: right;\">\n      <th></th>\n      <th>transaction_id</th>\n      <th>type</th>\n      <th>instrument_identifiers.Instrument/default/ClientInternal</th>\n      <th>instrument_uid</th>\n      <th>total_consideration.amount</th>\n      <th>units</th>\n      <th>transaction_date</th>\n      <th>settlement_date</th>\n      <th>transaction_price.price</th>\n    </tr>\n  </thead>\n  <tbody>\n    <tr>\n      <th>0</th>\n      <td>txn000</td>\n      <td>FundsIn</td>\n      <td>cash_USD</td>\n      <td>CCY_USD</td>\n      <td>1.0000</td>\n      <td>1,000,000.0000</td>\n      <td>2020-03-10 00:00:00+00:00</td>\n      <td>2020-03-13 00:00:00+00:00</td>\n      <td>1.0000</td>\n    </tr>\n    <tr>\n      <th>1</th>\n      <td>txn001</td>\n      <td>Buy</td>\n      <td>TD_Inst_A</td>\n      <td>LUID_00003DET</td>\n      <td>1,000,000.0000</td>\n      <td>1,000,000.0000</td>\n      <td>2020-03-18 00:00:00+00:00</td>\n      <td>2020-03-21 00:00:00+00:00</td>\n      <td>1.0000</td>\n    </tr>\n  </tbody>\n</table>\n</div>"
     },
     "execution_count": 68,
     "metadata": {},
     "output_type": "execute_result"
    }
   ],
   "source": [
    "get_transactions_todate(start_date)"
   ],
   "metadata": {
    "collapsed": false,
    "pycharm": {
     "name": "#%%\n"
    }
   }
  },
  {
   "cell_type": "markdown",
   "source": [
    "## 4.2. Holdings\n",
    "In this section we will view the portfolio holdings in LUSID."
   ],
   "metadata": {
    "collapsed": false
   }
  },
  {
   "cell_type": "code",
   "execution_count": 69,
   "outputs": [],
   "source": [
    "# Helper method to view holdings in LUSID\n",
    "def get_holdings(date):\n",
    "    resp = transaction_portfolios_api.get_holdings(scope=scope,\n",
    "                                         code=portfolio_code,\n",
    "                                         property_keys=[\"Instrument/default/Name\"],\n",
    "                                        effective_at=date)\n",
    "    df = lusid_response_to_data_frame(resp)\n",
    "    return df[[\"instrument_scope\",\"instrument_uid\",\"properties.Instrument/default/Name.value.label_value\",\"units\",\"cost.amount\",\"holding_type_name\"]]"
   ],
   "metadata": {
    "collapsed": false,
    "pycharm": {
     "name": "#%%\n"
    }
   }
  },
  {
   "cell_type": "markdown",
   "source": [
    "Running the cell below shows after the initial buy transaction has settled `Term Deposit A` is in the portfolio. There is no cash balance as all the cash in the portfolio has bene invested in `Term Deposit A`."
   ],
   "metadata": {
    "collapsed": false,
    "pycharm": {
     "name": "#%% md\n"
    }
   }
  },
  {
   "cell_type": "code",
   "execution_count": 70,
   "outputs": [
    {
     "data": {
      "text/plain": "  instrument_scope instrument_uid  \\\n0          default  LUID_00003DET   \n\n  properties.Instrument/default/Name.value.label_value          units  \\\n0                          Term Deposit Instrument A   1,000,000.0000   \n\n     cost.amount holding_type_name  \n0 1,000,000.0000          Position  ",
      "text/html": "<div>\n<style scoped>\n    .dataframe tbody tr th:only-of-type {\n        vertical-align: middle;\n    }\n\n    .dataframe tbody tr th {\n        vertical-align: top;\n    }\n\n    .dataframe thead th {\n        text-align: right;\n    }\n</style>\n<table border=\"1\" class=\"dataframe\">\n  <thead>\n    <tr style=\"text-align: right;\">\n      <th></th>\n      <th>instrument_scope</th>\n      <th>instrument_uid</th>\n      <th>properties.Instrument/default/Name.value.label_value</th>\n      <th>units</th>\n      <th>cost.amount</th>\n      <th>holding_type_name</th>\n    </tr>\n  </thead>\n  <tbody>\n    <tr>\n      <th>0</th>\n      <td>default</td>\n      <td>LUID_00003DET</td>\n      <td>Term Deposit Instrument A</td>\n      <td>1,000,000.0000</td>\n      <td>1,000,000.0000</td>\n      <td>Position</td>\n    </tr>\n  </tbody>\n</table>\n</div>"
     },
     "execution_count": 70,
     "metadata": {},
     "output_type": "execute_result"
    }
   ],
   "source": [
    "get_holdings(start_date+settlement_time)"
   ],
   "metadata": {
    "collapsed": false,
    "pycharm": {
     "name": "#%%\n"
    }
   }
  },
  {
   "cell_type": "markdown",
   "source": [
    "# 5. Running a Valuation\n",
    "In this section we will setup and run valuations on our portfolio\n",
    "\n",
    "## 5.1 Setup recipe\n",
    "To run a valuation in LUSID we must first define a recipe.\n",
    "The helper method below defines a recipe for a Term Deposit instrument by passing in `instrument_type=\"TermDeposit\"` to the `VendorModelRule` parameter."
   ],
   "metadata": {
    "collapsed": false,
    "pycharm": {
     "name": "#%% md\n"
    }
   }
  },
  {
   "cell_type": "code",
   "execution_count": 71,
   "outputs": [],
   "source": [
    "def create_recipe(recipe_code, scope, model):\n",
    "    # Populate recipe parameters\n",
    "    recipe = lm.ConfigurationRecipe(\n",
    "        scope=scope,\n",
    "        code=recipe_code,\n",
    "        market=lm.MarketContext(\n",
    "            market_rules=[\n",
    "                lm.MarketDataKeyRule(\n",
    "                    key=\"Equity.ClientInternal.*\",\n",
    "                    supplier=\"Lusid\",\n",
    "                    data_scope=scope,\n",
    "                    quote_type=\"Price\",\n",
    "                    field=\"mid\",\n",
    "                    quote_interval=\"5D.0D\"\n",
    "                ),\n",
    "                lm.MarketDataKeyRule(\n",
    "                    key=\"FxForwards.*\",\n",
    "                    supplier=\"Lusid\",\n",
    "                    data_scope=scope,\n",
    "                    quote_type=\"Rate\",\n",
    "                    field=\"mid\",\n",
    "                    quote_interval=\"1Y.0D\"\n",
    "                )\n",
    "            ],\n",
    "            options=lm.MarketOptions(\n",
    "                attempt_to_infer_missing_fx=True,\n",
    "                default_scope=scope\n",
    "            )\n",
    "        ),\n",
    "        # Set the valuation model - curve with no discounting\n",
    "        pricing=lm.PricingContext(\n",
    "            model_rules=[\n",
    "                lm.VendorModelRule(\n",
    "                    supplier=\"Lusid\",\n",
    "                    model_name=model,\n",
    "                    instrument_type=\"TermDeposit\",\n",
    "                    parameters=\"{}\",\n",
    "                )\n",
    "            ],\n",
    "            options=lm.PricingOptions(\n",
    "                produce_separate_result_for_linear_otc_legs=False\n",
    "            )\n",
    "        ),\n",
    "    )\n",
    "\n",
    "    response = configuration_recipe_api.upsert_configuration_recipe(\n",
    "                upsert_recipe_request=lm.UpsertRecipeRequest(\n",
    "                    configuration_recipe=recipe\n",
    "                )\n",
    "            )\n",
    "\n",
    "    return response"
   ],
   "metadata": {
    "collapsed": false,
    "pycharm": {
     "name": "#%%\n"
    }
   }
  },
  {
   "cell_type": "markdown",
   "source": [
    "LUSID supports SimpleStatic, Discounting and ConstantTimeValueOfMoney pricing models for Term Deposits. In this notebook we will look at SimpleStatic and ConstantTimeValueOfMoney models."
   ],
   "metadata": {
    "collapsed": false,
    "pycharm": {
     "name": "#%% md\n"
    }
   }
  },
  {
   "cell_type": "code",
   "execution_count": 72,
   "outputs": [],
   "source": [
    "# Define recipe names\n",
    "CTVoMRecipe = \"TermDepositRecipeCTVoM\"\n",
    "SSRecipe = \"TermDepositRecipeSS\"\n",
    "\n",
    "# Create recipes in LUSID\n",
    "CTVoMResponse = create_recipe(CTVoMRecipe, scope, \"ConstantTimeValueOfMoney\")\n",
    "SSResponse = create_recipe(SSRecipe, scope, \"SimpleStatic\")"
   ],
   "metadata": {
    "collapsed": false,
    "pycharm": {
     "name": "#%%\n"
    }
   }
  },
  {
   "cell_type": "code",
   "execution_count": 73,
   "outputs": [],
   "source": [
    "# Helper method runs a valuation on the portfolio for a given date and recipe\n",
    "def perform_valuation(recipe, date):\n",
    "    # Create valuation request\n",
    "    valuation_request = lm.ValuationRequest(\n",
    "        # Choose recipe to use\n",
    "        recipe_id = lm.ResourceId(scope = scope, code = recipe),\n",
    "        group_by = ['Instrument/default/LusidInstrumentId'],\n",
    "        metrics = [\n",
    "        {\"key\": \"Instrument/default/LusidInstrumentId\", \"op\": \"Value\"},\n",
    "        {\"key\": \"Instrument/default/Name\", \"op\": \"Value\"},              # Reports the friendly name of the underlying instrument\n",
    "        {\"key\": \"Analytic/default/ValuationDate\", \"op\": \"Value\"},       # Confirms the valuation date\n",
    "        {\"key\": \"Valuation/PV\", \"op\": \"Sum\"}],                          # Calculates cost in GBP (the portfolio currency)\n",
    "        # Identify portfolio to value\n",
    "        portfolio_entity_ids = [lm.PortfolioEntityId(scope = scope, code = portfolio_code)],\n",
    "        # Make date of valuation conditional on effective at date passed into function\n",
    "        valuation_schedule = lm.ValuationSchedule(effective_at=date.isoformat()),\n",
    "    )\n",
    "\n",
    "    # Get portfolio valuation\n",
    "    val_data = aggregation_api.get_valuation(valuation_request = valuation_request).data\n",
    "\n",
    "    # Turn valuation response into pandas dataframe\n",
    "    vals_df = pd.DataFrame(val_data)\n",
    "    try:\n",
    "        return vals_df.drop('Aggregation Errors', axis=1)\n",
    "    except:\n",
    "        return vals_df"
   ],
   "metadata": {
    "collapsed": false,
    "pycharm": {
     "name": "#%%\n"
    }
   }
  },
  {
   "cell_type": "markdown",
   "source": [
    "Performing a valuation using Constant Time Value of Money (CTVoM) Model on the portfolio after the `Term Deposit A` settlement date, shows a valuation of ~101.5% of initial investment $1,000,000.\n",
    "This is due to the 3% return defined on the Term Deposit and 6 month maturity with a 6 month payment schedule, so if the deposit was held until maturity it would pay out 1/2 of 3%."
   ],
   "metadata": {
    "collapsed": false,
    "pycharm": {
     "name": "#%% md\n"
    }
   }
  },
  {
   "cell_type": "code",
   "execution_count": 74,
   "outputs": [
    {
     "data": {
      "text/plain": "  Instrument/default/LusidInstrumentId    Instrument/default/Name  \\\n0                              CCY_USD                        USD   \n1                        LUID_00003DET  Term Deposit Instrument A   \n\n      Analytic/default/ValuationDate  Sum(Valuation/PV)  \n0  2020-03-18T00:00:00.0000000+00:00             0.0000  \n1  2020-03-18T00:00:00.0000000+00:00     1,015,333.3333  ",
      "text/html": "<div>\n<style scoped>\n    .dataframe tbody tr th:only-of-type {\n        vertical-align: middle;\n    }\n\n    .dataframe tbody tr th {\n        vertical-align: top;\n    }\n\n    .dataframe thead th {\n        text-align: right;\n    }\n</style>\n<table border=\"1\" class=\"dataframe\">\n  <thead>\n    <tr style=\"text-align: right;\">\n      <th></th>\n      <th>Instrument/default/LusidInstrumentId</th>\n      <th>Instrument/default/Name</th>\n      <th>Analytic/default/ValuationDate</th>\n      <th>Sum(Valuation/PV)</th>\n    </tr>\n  </thead>\n  <tbody>\n    <tr>\n      <th>0</th>\n      <td>CCY_USD</td>\n      <td>USD</td>\n      <td>2020-03-18T00:00:00.0000000+00:00</td>\n      <td>0.0000</td>\n    </tr>\n    <tr>\n      <th>1</th>\n      <td>LUID_00003DET</td>\n      <td>Term Deposit Instrument A</td>\n      <td>2020-03-18T00:00:00.0000000+00:00</td>\n      <td>1,015,333.3333</td>\n    </tr>\n  </tbody>\n</table>\n</div>"
     },
     "execution_count": 74,
     "metadata": {},
     "output_type": "execute_result"
    }
   ],
   "source": [
    "perform_valuation(CTVoMRecipe,start_date)"
   ],
   "metadata": {
    "collapsed": false,
    "pycharm": {
     "name": "#%%\n"
    }
   }
  },
  {
   "cell_type": "markdown",
   "source": [
    "For Simple Static valuations in LUSID we must provide a quote for the instrument. The date of the quote should be within 5 days of the valuation date.\n",
    "In this example we will set the quote and valuation date at the start of the `Term Deposit A`. The quote will have a rate of 6%, this is defined by setting `value=1.06`."
   ],
   "metadata": {
    "collapsed": false
   }
  },
  {
   "cell_type": "code",
   "execution_count": 75,
   "outputs": [],
   "source": [
    "# Helper method to upsert a quote\n",
    "def upsert_quote(client_internal, date, rate):\n",
    "    quote_request = {\n",
    "       \"quote_request\" : lm.UpsertQuoteRequest(\n",
    "            quote_id=lm.QuoteId(\n",
    "                quote_series_id=lm.QuoteSeriesId(\n",
    "                    provider=\"Lusid\",\n",
    "                    instrument_id=client_internal,\n",
    "                    instrument_id_type=\"ClientInternal\",\n",
    "                    quote_type=\"Price\",\n",
    "                    field=\"mid\",\n",
    "                ),\n",
    "                effective_at=date,\n",
    "            ),\n",
    "            metric_value=lm.MetricValue(value=rate, unit=\"USD\"),\n",
    "        )}\n",
    "\n",
    "    # Upsert the quotes into LUSID\n",
    "    response = quotes_api.upsert_quotes(scope=scope, request_body=quote_request)\n",
    "    return f\"Successfully upserted quote for instrument: {response.values['quote_request'].quote_id.quote_series_id.instrument_id} with AsAt:{response.values['quote_request'].as_at}\""
   ],
   "metadata": {
    "collapsed": false,
    "pycharm": {
     "name": "#%%\n"
    }
   }
  },
  {
   "cell_type": "code",
   "execution_count": 76,
   "outputs": [
    {
     "data": {
      "text/plain": "'Successfully upserted quote for instrument: TD_Inst_A with AsAt:2023-05-03 10:08:51.347174+00:00'"
     },
     "execution_count": 76,
     "metadata": {},
     "output_type": "execute_result"
    }
   ],
   "source": [
    "upsert_quote(td_client_a, start_date, 1.06)"
   ],
   "metadata": {
    "collapsed": false,
    "pycharm": {
     "name": "#%%\n"
    }
   }
  },
  {
   "cell_type": "markdown",
   "source": [
    "Performing valuation using Constant Time Value of Money Model on the portfolio after the `Term Deposit A` settlement date shows a valuation of ~106% of initial investment $1,000,000.\n",
    "This is due to the 6% return defined on the quote definition above."
   ],
   "metadata": {
    "collapsed": false,
    "pycharm": {
     "name": "#%% md\n"
    }
   }
  },
  {
   "cell_type": "code",
   "execution_count": 77,
   "outputs": [
    {
     "data": {
      "text/plain": "  Instrument/default/LusidInstrumentId    Instrument/default/Name  \\\n0                        LUID_00003DET  Term Deposit Instrument A   \n\n      Analytic/default/ValuationDate  Sum(Valuation/PV)  \n0  2020-03-21T00:00:00.0000000+00:00     1,060,250.0000  ",
      "text/html": "<div>\n<style scoped>\n    .dataframe tbody tr th:only-of-type {\n        vertical-align: middle;\n    }\n\n    .dataframe tbody tr th {\n        vertical-align: top;\n    }\n\n    .dataframe thead th {\n        text-align: right;\n    }\n</style>\n<table border=\"1\" class=\"dataframe\">\n  <thead>\n    <tr style=\"text-align: right;\">\n      <th></th>\n      <th>Instrument/default/LusidInstrumentId</th>\n      <th>Instrument/default/Name</th>\n      <th>Analytic/default/ValuationDate</th>\n      <th>Sum(Valuation/PV)</th>\n    </tr>\n  </thead>\n  <tbody>\n    <tr>\n      <th>0</th>\n      <td>LUID_00003DET</td>\n      <td>Term Deposit Instrument A</td>\n      <td>2020-03-21T00:00:00.0000000+00:00</td>\n      <td>1,060,250.0000</td>\n    </tr>\n  </tbody>\n</table>\n</div>"
     },
     "execution_count": 77,
     "metadata": {},
     "output_type": "execute_result"
    }
   ],
   "source": [
    "perform_valuation(SSRecipe,start_date+settlement_time)"
   ],
   "metadata": {
    "collapsed": false,
    "pycharm": {
     "name": "#%%\n"
    }
   }
  },
  {
   "cell_type": "markdown",
   "source": [
    "## 6. Rolling a Term Deposit\n",
    "In LUSID we handle rolling a Term Deposit by liquidating the Term Deposit before maturity and buying it back again in the form of new Term Deposit Instrument.\n",
    "This section will show 2 example scenarios:\n",
    "1. Rolling with a increase to principal market value\n",
    "2. Rolling with an increase to interest"
   ],
   "metadata": {
    "collapsed": false,
    "pycharm": {
     "name": "#%% md\n"
    }
   }
  },
  {
   "cell_type": "markdown",
   "source": [
    "\n",
    "### 6.1 Rolling with an increase to principal investment value\n",
    "In this example when a Term Deposit reaches maturity, we will roll the Term Deposit and reinvest all of the Term Deposit's return into another Term Deposit. The total invested in a Term Deposit will increase due to the interest returned at maturity.\n",
    "\n",
    "#### 6.1.1 Liquidate Term Deposit at Maturity\n",
    "When Term Deposit reaches maturity we will receive a payment of the `initial amount invested + interest`.\n",
    "In LUSID we can call the `get_upsertable_portfolio_cash_flows` to get a transaction which represents the cash returned to the portfolio when a Term Deposit reaches maturity.\n",
    "In this notebook we will always use CTVoM model for cashflow calculations."
   ],
   "metadata": {
    "collapsed": false,
    "pycharm": {
     "name": "#%% md\n"
    }
   }
  },
  {
   "cell_type": "code",
   "execution_count": 78,
   "outputs": [],
   "source": [
    "# Helper method to get cashflow in the portfolio over a given time period from start date to maturity.\n",
    "def get_cashflow(start_date, maturity_date, recipe=CTVoMRecipe):\n",
    "    resp = transaction_portfolios_api.get_upsertable_portfolio_cash_flows(\n",
    "        scope=scope,\n",
    "        code=portfolio_code,\n",
    "        effective_at=maturity_date- timedelta(days=1),\n",
    "        window_start=start_date,\n",
    "        window_end=maturity_date + timedelta(days=2),\n",
    "        recipe_id_scope=scope,\n",
    "        recipe_id_code=recipe\n",
    "    )\n",
    "    return resp.values"
   ],
   "metadata": {
    "collapsed": false,
    "pycharm": {
     "name": "#%%\n"
    }
   }
  },
  {
   "cell_type": "markdown",
   "source": [
    "Next we get the cashflow for `Term Deposit A` at maturity and upsert the transaction to LUSID.\n",
    "The cashflow for `Term Deposit A`, with LUID `LUID_00003DET`, shows a total consideration of ~101.5% of the initial amount invested. This is made up of $\\$ 1,000,000 from the initial investement and \\$15,333.33 accrued interest."
   ],
   "metadata": {
    "collapsed": false,
    "pycharm": {
     "name": "#%% md\n"
    }
   }
  },
  {
   "cell_type": "code",
   "execution_count": 80,
   "outputs": [
    {
     "data": {
      "text/plain": "                                   transaction_id      type  \\\n2  txn001-LUID_00003DET-20200918-Cash-USD-Receive  CashFlow   \n\n  instrument_identifiers.Instrument/default/ClientInternal instrument_uid  \\\n2                                                NaN        LUID_00003DET   \n\n   transaction_price.price  total_consideration.amount          units  \\\n2                   1.0000              1,015,333.3333 1,015,333.3333   \n\n           transaction_date           settlement_date  \n2 2020-09-18 00:00:00+00:00 2020-09-18 00:00:00+00:00  ",
      "text/html": "<div>\n<style scoped>\n    .dataframe tbody tr th:only-of-type {\n        vertical-align: middle;\n    }\n\n    .dataframe tbody tr th {\n        vertical-align: top;\n    }\n\n    .dataframe thead th {\n        text-align: right;\n    }\n</style>\n<table border=\"1\" class=\"dataframe\">\n  <thead>\n    <tr style=\"text-align: right;\">\n      <th></th>\n      <th>transaction_id</th>\n      <th>type</th>\n      <th>instrument_identifiers.Instrument/default/ClientInternal</th>\n      <th>instrument_uid</th>\n      <th>transaction_price.price</th>\n      <th>total_consideration.amount</th>\n      <th>units</th>\n      <th>transaction_date</th>\n      <th>settlement_date</th>\n    </tr>\n  </thead>\n  <tbody>\n    <tr>\n      <th>2</th>\n      <td>txn001-LUID_00003DET-20200918-Cash-USD-Receive</td>\n      <td>CashFlow</td>\n      <td>NaN</td>\n      <td>LUID_00003DET</td>\n      <td>1.0000</td>\n      <td>1,015,333.3333</td>\n      <td>1,015,333.3333</td>\n      <td>2020-09-18 00:00:00+00:00</td>\n      <td>2020-09-18 00:00:00+00:00</td>\n    </tr>\n  </tbody>\n</table>\n</div>"
     },
     "execution_count": 80,
     "metadata": {},
     "output_type": "execute_result"
    }
   ],
   "source": [
    "txn = get_cashflow(start_date, maturity_date_A)\n",
    "response = transaction_portfolios_api.upsert_transactions(\n",
    "    scope=scope, code=portfolio_code, transaction_request=txn\n",
    ")\n",
    "view_transaction_in_lusid(txn[0].transaction_id)"
   ],
   "metadata": {
    "collapsed": false,
    "pycharm": {
     "name": "#%%\n"
    }
   }
  },
  {
   "cell_type": "markdown",
   "source": [
    "Now that `Term Deposit Instrument A` has matured we will remove this instrument from the portfolio. The `StockOut` transaction type has no effect on the cash balance, it just moves the instrument out of the portfolio."
   ],
   "metadata": {
    "collapsed": false,
    "pycharm": {
     "name": "#%% md\n"
    }
   }
  },
  {
   "cell_type": "code",
   "execution_count": 81,
   "outputs": [
    {
     "data": {
      "text/plain": "  transaction_id      type  \\\n3         txn002  StockOut   \n\n  instrument_identifiers.Instrument/default/ClientInternal instrument_uid  \\\n3                                          TD_Inst_A        LUID_00003DET   \n\n   transaction_price.price  total_consideration.amount          units  \\\n3                   1.0000              1,000,000.0000 1,000,000.0000   \n\n           transaction_date           settlement_date  \n3 2020-09-18 00:00:00+00:00 2020-09-21 00:00:00+00:00  ",
      "text/html": "<div>\n<style scoped>\n    .dataframe tbody tr th:only-of-type {\n        vertical-align: middle;\n    }\n\n    .dataframe tbody tr th {\n        vertical-align: top;\n    }\n\n    .dataframe thead th {\n        text-align: right;\n    }\n</style>\n<table border=\"1\" class=\"dataframe\">\n  <thead>\n    <tr style=\"text-align: right;\">\n      <th></th>\n      <th>transaction_id</th>\n      <th>type</th>\n      <th>instrument_identifiers.Instrument/default/ClientInternal</th>\n      <th>instrument_uid</th>\n      <th>transaction_price.price</th>\n      <th>total_consideration.amount</th>\n      <th>units</th>\n      <th>transaction_date</th>\n      <th>settlement_date</th>\n    </tr>\n  </thead>\n  <tbody>\n    <tr>\n      <th>3</th>\n      <td>txn002</td>\n      <td>StockOut</td>\n      <td>TD_Inst_A</td>\n      <td>LUID_00003DET</td>\n      <td>1.0000</td>\n      <td>1,000,000.0000</td>\n      <td>1,000,000.0000</td>\n      <td>2020-09-18 00:00:00+00:00</td>\n      <td>2020-09-21 00:00:00+00:00</td>\n    </tr>\n  </tbody>\n</table>\n</div>"
     },
     "execution_count": 81,
     "metadata": {},
     "output_type": "execute_result"
    }
   ],
   "source": [
    "upsert_transaction(\"txn002\", \"StockOut\", td_luid_a, td_client_a, maturity_date_A, 1000000)"
   ],
   "metadata": {
    "collapsed": false,
    "pycharm": {
     "name": "#%%\n"
    }
   }
  },
  {
   "cell_type": "markdown",
   "source": [
    "### 6.1.2 Reinvest the Matured Term Deposit's Returns\n",
    "To represent rolling a Term Deposit in this section we will buy a new Term Deposit Instrument.\n",
    "The new instrument defined below, `Term Deposit B`, will have a new start and maturity date but will have the same maturity time and interest rate as `Term Deposit A`."
   ],
   "metadata": {
    "collapsed": false,
    "pycharm": {
     "name": "#%% md\n"
    }
   }
  },
  {
   "cell_type": "code",
   "execution_count": 82,
   "outputs": [],
   "source": [
    "maturity_date_B = datetime(2021, 3, 18, 00, tzinfo=pytz.utc)"
   ],
   "metadata": {
    "collapsed": false,
    "pycharm": {
     "name": "#%%\n"
    }
   }
  },
  {
   "cell_type": "code",
   "execution_count": 83,
   "outputs": [
    {
     "name": "stdout",
     "output_type": "stream",
     "text": [
      "Created instrument with LUID:LUID_00003DEU and ClientInternal:TD_Inst_B\n"
     ]
    }
   ],
   "source": [
    "td_client_b = \"TD_Inst_B\"\n",
    "td_luid_b  = create_td_instrument(\n",
    "    \"Term Deposit Instrument B\",\n",
    "    td_client_b,\n",
    "    maturity_date_A,\n",
    "    maturity_date_B,\n",
    "    1,\n",
    "    flow_conventions,\n",
    "    0.03,\n",
    "    \"USD\"\n",
    ")"
   ],
   "metadata": {
    "collapsed": false,
    "pycharm": {
     "name": "#%%\n"
    }
   }
  },
  {
   "cell_type": "markdown",
   "source": [
    "We will now invest all of the cash returned from `Term Deposit A` into `Term Deposit B`.\n",
    "In LUSID we show this by buying `Term Deposit B` instrument, with the total consideration equalling the returns from `Term Deposit A`.\n",
    "Since the CTVoM model was used for the cashflow calculation, we can calculate the return by using the CTVoM recipe to value `Term Deposit A` at maturity."
   ],
   "metadata": {
    "collapsed": false,
    "pycharm": {
     "name": "#%% md\n"
    }
   }
  },
  {
   "cell_type": "code",
   "execution_count": 84,
   "outputs": [],
   "source": [
    "# Helper method gives a valuation of a specific instrument at a given date\n",
    "def get_instr_valuation(recipe, date, luid):\n",
    "    df = pd.DataFrame(perform_valuation(recipe, date))\n",
    "    instr_val = df[df[\"Instrument/default/LusidInstrumentId\"]==luid]\n",
    "    return instr_val.iloc[0][3]"
   ],
   "metadata": {
    "collapsed": false,
    "pycharm": {
     "name": "#%%\n"
    }
   }
  },
  {
   "cell_type": "code",
   "execution_count": 85,
   "outputs": [
    {
     "data": {
      "text/plain": "  transaction_id type  \\\n4         txn003  Buy   \n\n  instrument_identifiers.Instrument/default/ClientInternal instrument_uid  \\\n4                                          TD_Inst_B        LUID_00003DEU   \n\n   transaction_price.price  total_consideration.amount          units  \\\n4                   1.0000              1,015,333.3333 1,015,333.3333   \n\n           transaction_date           settlement_date  \n4 2020-09-18 00:00:00+00:00 2020-09-21 00:00:00+00:00  ",
      "text/html": "<div>\n<style scoped>\n    .dataframe tbody tr th:only-of-type {\n        vertical-align: middle;\n    }\n\n    .dataframe tbody tr th {\n        vertical-align: top;\n    }\n\n    .dataframe thead th {\n        text-align: right;\n    }\n</style>\n<table border=\"1\" class=\"dataframe\">\n  <thead>\n    <tr style=\"text-align: right;\">\n      <th></th>\n      <th>transaction_id</th>\n      <th>type</th>\n      <th>instrument_identifiers.Instrument/default/ClientInternal</th>\n      <th>instrument_uid</th>\n      <th>transaction_price.price</th>\n      <th>total_consideration.amount</th>\n      <th>units</th>\n      <th>transaction_date</th>\n      <th>settlement_date</th>\n    </tr>\n  </thead>\n  <tbody>\n    <tr>\n      <th>4</th>\n      <td>txn003</td>\n      <td>Buy</td>\n      <td>TD_Inst_B</td>\n      <td>LUID_00003DEU</td>\n      <td>1.0000</td>\n      <td>1,015,333.3333</td>\n      <td>1,015,333.3333</td>\n      <td>2020-09-18 00:00:00+00:00</td>\n      <td>2020-09-21 00:00:00+00:00</td>\n    </tr>\n  </tbody>\n</table>\n</div>"
     },
     "execution_count": 85,
     "metadata": {},
     "output_type": "execute_result"
    }
   ],
   "source": [
    "inst_A_val = get_instr_valuation(CTVoMRecipe, maturity_date_A - timedelta(1), td_luid_a)\n",
    "upsert_transaction(\"txn003\", \"Buy\", td_luid_b, td_client_b, maturity_date_A, inst_A_val)"
   ],
   "metadata": {
    "collapsed": false,
    "pycharm": {
     "name": "#%%\n"
    }
   }
  },
  {
   "cell_type": "markdown",
   "source": [
    "The transactions table below shows the transactions in the portoflio that have happened by the maturity date of `Term Deposit A`.\n",
    "We can see the `StockOut` transaction removing `Term Deposit A` from the portfolio at maturity and the `CashFlow` transaction which realises the cash value of the deposit. The `Buy` transaction represents reinvesting $1,015,333.3333 in `Term Deposit B`."
   ],
   "metadata": {
    "collapsed": false,
    "pycharm": {
     "name": "#%% md\n"
    }
   }
  },
  {
   "cell_type": "code",
   "execution_count": 86,
   "outputs": [
    {
     "data": {
      "text/plain": "                                   transaction_id      type  \\\n0                                          txn000   FundsIn   \n1                                          txn001       Buy   \n2  txn001-LUID_00003DET-20200918-Cash-USD-Receive  CashFlow   \n3                                          txn002  StockOut   \n4                                          txn003       Buy   \n\n  instrument_identifiers.Instrument/default/ClientInternal instrument_uid  \\\n0                                           cash_USD              CCY_USD   \n1                                          TD_Inst_A        LUID_00003DET   \n2                                                NaN        LUID_00003DET   \n3                                          TD_Inst_A        LUID_00003DET   \n4                                          TD_Inst_B        LUID_00003DEU   \n\n   total_consideration.amount          units          transaction_date  \\\n0                      1.0000 1,000,000.0000 2020-03-10 00:00:00+00:00   \n1              1,000,000.0000 1,000,000.0000 2020-03-18 00:00:00+00:00   \n2              1,015,333.3333 1,015,333.3333 2020-09-18 00:00:00+00:00   \n3              1,000,000.0000 1,000,000.0000 2020-09-18 00:00:00+00:00   \n4              1,015,333.3333 1,015,333.3333 2020-09-18 00:00:00+00:00   \n\n            settlement_date  transaction_price.price  \n0 2020-03-13 00:00:00+00:00                   1.0000  \n1 2020-03-21 00:00:00+00:00                   1.0000  \n2 2020-09-18 00:00:00+00:00                   1.0000  \n3 2020-09-21 00:00:00+00:00                   1.0000  \n4 2020-09-21 00:00:00+00:00                   1.0000  ",
      "text/html": "<div>\n<style scoped>\n    .dataframe tbody tr th:only-of-type {\n        vertical-align: middle;\n    }\n\n    .dataframe tbody tr th {\n        vertical-align: top;\n    }\n\n    .dataframe thead th {\n        text-align: right;\n    }\n</style>\n<table border=\"1\" class=\"dataframe\">\n  <thead>\n    <tr style=\"text-align: right;\">\n      <th></th>\n      <th>transaction_id</th>\n      <th>type</th>\n      <th>instrument_identifiers.Instrument/default/ClientInternal</th>\n      <th>instrument_uid</th>\n      <th>total_consideration.amount</th>\n      <th>units</th>\n      <th>transaction_date</th>\n      <th>settlement_date</th>\n      <th>transaction_price.price</th>\n    </tr>\n  </thead>\n  <tbody>\n    <tr>\n      <th>0</th>\n      <td>txn000</td>\n      <td>FundsIn</td>\n      <td>cash_USD</td>\n      <td>CCY_USD</td>\n      <td>1.0000</td>\n      <td>1,000,000.0000</td>\n      <td>2020-03-10 00:00:00+00:00</td>\n      <td>2020-03-13 00:00:00+00:00</td>\n      <td>1.0000</td>\n    </tr>\n    <tr>\n      <th>1</th>\n      <td>txn001</td>\n      <td>Buy</td>\n      <td>TD_Inst_A</td>\n      <td>LUID_00003DET</td>\n      <td>1,000,000.0000</td>\n      <td>1,000,000.0000</td>\n      <td>2020-03-18 00:00:00+00:00</td>\n      <td>2020-03-21 00:00:00+00:00</td>\n      <td>1.0000</td>\n    </tr>\n    <tr>\n      <th>2</th>\n      <td>txn001-LUID_00003DET-20200918-Cash-USD-Receive</td>\n      <td>CashFlow</td>\n      <td>NaN</td>\n      <td>LUID_00003DET</td>\n      <td>1,015,333.3333</td>\n      <td>1,015,333.3333</td>\n      <td>2020-09-18 00:00:00+00:00</td>\n      <td>2020-09-18 00:00:00+00:00</td>\n      <td>1.0000</td>\n    </tr>\n    <tr>\n      <th>3</th>\n      <td>txn002</td>\n      <td>StockOut</td>\n      <td>TD_Inst_A</td>\n      <td>LUID_00003DET</td>\n      <td>1,000,000.0000</td>\n      <td>1,000,000.0000</td>\n      <td>2020-09-18 00:00:00+00:00</td>\n      <td>2020-09-21 00:00:00+00:00</td>\n      <td>1.0000</td>\n    </tr>\n    <tr>\n      <th>4</th>\n      <td>txn003</td>\n      <td>Buy</td>\n      <td>TD_Inst_B</td>\n      <td>LUID_00003DEU</td>\n      <td>1,015,333.3333</td>\n      <td>1,015,333.3333</td>\n      <td>2020-09-18 00:00:00+00:00</td>\n      <td>2020-09-21 00:00:00+00:00</td>\n      <td>1.0000</td>\n    </tr>\n  </tbody>\n</table>\n</div>"
     },
     "execution_count": 86,
     "metadata": {},
     "output_type": "execute_result"
    }
   ],
   "source": [
    "get_transactions_todate(maturity_date_A)"
   ],
   "metadata": {
    "collapsed": false,
    "pycharm": {
     "name": "#%%\n"
    }
   }
  },
  {
   "cell_type": "markdown",
   "source": [
    "The table below shows the holdings in the portfolio after the transactions have settled 3 days later.\n",
    "Here we can see the `Term Deposit Instrument A` is no longer in the portfolio and has been replaced by `Term Deposit Instrument B`."
   ],
   "metadata": {
    "collapsed": false,
    "pycharm": {
     "name": "#%% md\n"
    }
   }
  },
  {
   "cell_type": "code",
   "execution_count": 87,
   "outputs": [
    {
     "data": {
      "text/plain": "  instrument_scope instrument_uid  \\\n0          default  LUID_00003DEU   \n\n  properties.Instrument/default/Name.value.label_value          units  \\\n0                          Term Deposit Instrument B   1,015,333.3333   \n\n     cost.amount holding_type_name  \n0 1,015,333.3300          Position  ",
      "text/html": "<div>\n<style scoped>\n    .dataframe tbody tr th:only-of-type {\n        vertical-align: middle;\n    }\n\n    .dataframe tbody tr th {\n        vertical-align: top;\n    }\n\n    .dataframe thead th {\n        text-align: right;\n    }\n</style>\n<table border=\"1\" class=\"dataframe\">\n  <thead>\n    <tr style=\"text-align: right;\">\n      <th></th>\n      <th>instrument_scope</th>\n      <th>instrument_uid</th>\n      <th>properties.Instrument/default/Name.value.label_value</th>\n      <th>units</th>\n      <th>cost.amount</th>\n      <th>holding_type_name</th>\n    </tr>\n  </thead>\n  <tbody>\n    <tr>\n      <th>0</th>\n      <td>default</td>\n      <td>LUID_00003DEU</td>\n      <td>Term Deposit Instrument B</td>\n      <td>1,015,333.3333</td>\n      <td>1,015,333.3300</td>\n      <td>Position</td>\n    </tr>\n  </tbody>\n</table>\n</div>"
     },
     "execution_count": 87,
     "metadata": {},
     "output_type": "execute_result"
    }
   ],
   "source": [
    "get_holdings(maturity_date_A + settlement_time)"
   ],
   "metadata": {
    "collapsed": false,
    "pycharm": {
     "name": "#%%\n"
    }
   }
  },
  {
   "cell_type": "markdown",
   "source": [
    "The valuation below shows the valuation for `Term Deposit Instrument B` using the CTVoM model. This value is higher than the CTVoM valuation for `Term Deposit Instrument A` due to the higher initial investment."
   ],
   "metadata": {
    "collapsed": false,
    "pycharm": {
     "name": "#%% md\n"
    }
   }
  },
  {
   "cell_type": "code",
   "execution_count": 88,
   "outputs": [
    {
     "data": {
      "text/plain": "  Instrument/default/LusidInstrumentId    Instrument/default/Name  \\\n0                        LUID_00003DEU  Term Deposit Instrument B   \n\n      Analytic/default/ValuationDate  Sum(Valuation/PV)  \n0  2020-09-21T00:00:00.0000000+00:00     1,030,647.9444  ",
      "text/html": "<div>\n<style scoped>\n    .dataframe tbody tr th:only-of-type {\n        vertical-align: middle;\n    }\n\n    .dataframe tbody tr th {\n        vertical-align: top;\n    }\n\n    .dataframe thead th {\n        text-align: right;\n    }\n</style>\n<table border=\"1\" class=\"dataframe\">\n  <thead>\n    <tr style=\"text-align: right;\">\n      <th></th>\n      <th>Instrument/default/LusidInstrumentId</th>\n      <th>Instrument/default/Name</th>\n      <th>Analytic/default/ValuationDate</th>\n      <th>Sum(Valuation/PV)</th>\n    </tr>\n  </thead>\n  <tbody>\n    <tr>\n      <th>0</th>\n      <td>LUID_00003DEU</td>\n      <td>Term Deposit Instrument B</td>\n      <td>2020-09-21T00:00:00.0000000+00:00</td>\n      <td>1,030,647.9444</td>\n    </tr>\n  </tbody>\n</table>\n</div>"
     },
     "execution_count": 88,
     "metadata": {},
     "output_type": "execute_result"
    }
   ],
   "source": [
    "perform_valuation(CTVoMRecipe, maturity_date_A + settlement_time)"
   ],
   "metadata": {
    "collapsed": false,
    "pycharm": {
     "name": "#%%\n"
    }
   }
  },
  {
   "cell_type": "markdown",
   "source": [
    "To perform another Simple Static valuation we must upsert a new quote for the new `Term Deposit instrument B` at the roll start date.\n",
    "The Simple Static valuation below is ~106% of the initial investment."
   ],
   "metadata": {
    "collapsed": false,
    "pycharm": {
     "name": "#%% md\n"
    }
   }
  },
  {
   "cell_type": "code",
   "execution_count": 89,
   "outputs": [
    {
     "data": {
      "text/plain": "'Successfully upserted quote for instrument: TD_Inst_B with AsAt:2023-05-03 10:12:15.709010+00:00'"
     },
     "execution_count": 89,
     "metadata": {},
     "output_type": "execute_result"
    }
   ],
   "source": [
    "upsert_quote(td_client_b, maturity_date_A + settlement_time, 1.06)"
   ],
   "metadata": {
    "collapsed": false,
    "pycharm": {
     "name": "#%%\n"
    }
   }
  },
  {
   "cell_type": "code",
   "execution_count": 90,
   "outputs": [
    {
     "data": {
      "text/plain": "  Instrument/default/LusidInstrumentId    Instrument/default/Name  \\\n0                        LUID_00003DEU  Term Deposit Instrument B   \n\n      Analytic/default/ValuationDate  Sum(Valuation/PV)  \n0  2020-09-21T00:00:00.0000000+00:00     1,076,507.1667  ",
      "text/html": "<div>\n<style scoped>\n    .dataframe tbody tr th:only-of-type {\n        vertical-align: middle;\n    }\n\n    .dataframe tbody tr th {\n        vertical-align: top;\n    }\n\n    .dataframe thead th {\n        text-align: right;\n    }\n</style>\n<table border=\"1\" class=\"dataframe\">\n  <thead>\n    <tr style=\"text-align: right;\">\n      <th></th>\n      <th>Instrument/default/LusidInstrumentId</th>\n      <th>Instrument/default/Name</th>\n      <th>Analytic/default/ValuationDate</th>\n      <th>Sum(Valuation/PV)</th>\n    </tr>\n  </thead>\n  <tbody>\n    <tr>\n      <th>0</th>\n      <td>LUID_00003DEU</td>\n      <td>Term Deposit Instrument B</td>\n      <td>2020-09-21T00:00:00.0000000+00:00</td>\n      <td>1,076,507.1667</td>\n    </tr>\n  </tbody>\n</table>\n</div>"
     },
     "execution_count": 90,
     "metadata": {},
     "output_type": "execute_result"
    }
   ],
   "source": [
    "perform_valuation(SSRecipe, maturity_date_A + settlement_time)"
   ],
   "metadata": {
    "collapsed": false,
    "pycharm": {
     "name": "#%%\n"
    }
   }
  },
  {
   "cell_type": "markdown",
   "source": [
    "## 6.2 Rolling with an increase to interest\n",
    "In this example when a Term Deposit reaches maturity, we will roll a Term Deposit and reinvest $1,000,000 in another Term Deposit with a higher interest rate.\n",
    "\n",
    "### 6.2.1 Liquidate the Term Deposit at Maturity\n",
    "As in the previous example, we first upsert the cashflow transaction. The dates for the cashflow are over the investment period of `Term Deposit B`."
   ],
   "metadata": {
    "collapsed": false,
    "pycharm": {
     "name": "#%% md\n"
    }
   }
  },
  {
   "cell_type": "code",
   "execution_count": 91,
   "outputs": [
    {
     "data": {
      "text/plain": "                                   transaction_id      type  \\\n5  txn003-LUID_00003DEU-20210318-Cash-USD-Receive  CashFlow   \n\n  instrument_identifiers.Instrument/default/ClientInternal instrument_uid  \\\n5                                                NaN        LUID_00003DEU   \n\n   transaction_price.price  total_consideration.amount          units  \\\n5                   1.0000              1,030,647.9444 1,030,647.9444   \n\n           transaction_date           settlement_date  \n5 2021-03-18 00:00:00+00:00 2021-03-18 00:00:00+00:00  ",
      "text/html": "<div>\n<style scoped>\n    .dataframe tbody tr th:only-of-type {\n        vertical-align: middle;\n    }\n\n    .dataframe tbody tr th {\n        vertical-align: top;\n    }\n\n    .dataframe thead th {\n        text-align: right;\n    }\n</style>\n<table border=\"1\" class=\"dataframe\">\n  <thead>\n    <tr style=\"text-align: right;\">\n      <th></th>\n      <th>transaction_id</th>\n      <th>type</th>\n      <th>instrument_identifiers.Instrument/default/ClientInternal</th>\n      <th>instrument_uid</th>\n      <th>transaction_price.price</th>\n      <th>total_consideration.amount</th>\n      <th>units</th>\n      <th>transaction_date</th>\n      <th>settlement_date</th>\n    </tr>\n  </thead>\n  <tbody>\n    <tr>\n      <th>5</th>\n      <td>txn003-LUID_00003DEU-20210318-Cash-USD-Receive</td>\n      <td>CashFlow</td>\n      <td>NaN</td>\n      <td>LUID_00003DEU</td>\n      <td>1.0000</td>\n      <td>1,030,647.9444</td>\n      <td>1,030,647.9444</td>\n      <td>2021-03-18 00:00:00+00:00</td>\n      <td>2021-03-18 00:00:00+00:00</td>\n    </tr>\n  </tbody>\n</table>\n</div>"
     },
     "execution_count": 91,
     "metadata": {},
     "output_type": "execute_result"
    }
   ],
   "source": [
    "txn = get_cashflow(maturity_date_A + settlement_time, maturity_date_B, CTVoMRecipe)\n",
    "response = transaction_portfolios_api.upsert_transactions(\n",
    "    scope=scope, code=portfolio_code, transaction_request=txn\n",
    ")\n",
    "view_transaction_in_lusid(txn[0].transaction_id)"
   ],
   "metadata": {
    "collapsed": false,
    "pycharm": {
     "name": "#%%\n"
    }
   }
  },
  {
   "cell_type": "markdown",
   "source": [
    "Next we remove the `Term Deposit B` instrument from our portfolio."
   ],
   "metadata": {
    "collapsed": false,
    "pycharm": {
     "name": "#%% md\n"
    }
   }
  },
  {
   "cell_type": "code",
   "execution_count": 92,
   "outputs": [
    {
     "data": {
      "text/plain": "  transaction_id      type  \\\n6         txn004  StockOut   \n\n  instrument_identifiers.Instrument/default/ClientInternal instrument_uid  \\\n6                                          TD_Inst_B        LUID_00003DEU   \n\n   transaction_price.price  total_consideration.amount          units  \\\n6                   1.0000              1,015,333.3333 1,015,333.3333   \n\n           transaction_date           settlement_date  \n6 2021-03-18 00:00:00+00:00 2021-03-21 00:00:00+00:00  ",
      "text/html": "<div>\n<style scoped>\n    .dataframe tbody tr th:only-of-type {\n        vertical-align: middle;\n    }\n\n    .dataframe tbody tr th {\n        vertical-align: top;\n    }\n\n    .dataframe thead th {\n        text-align: right;\n    }\n</style>\n<table border=\"1\" class=\"dataframe\">\n  <thead>\n    <tr style=\"text-align: right;\">\n      <th></th>\n      <th>transaction_id</th>\n      <th>type</th>\n      <th>instrument_identifiers.Instrument/default/ClientInternal</th>\n      <th>instrument_uid</th>\n      <th>transaction_price.price</th>\n      <th>total_consideration.amount</th>\n      <th>units</th>\n      <th>transaction_date</th>\n      <th>settlement_date</th>\n    </tr>\n  </thead>\n  <tbody>\n    <tr>\n      <th>6</th>\n      <td>txn004</td>\n      <td>StockOut</td>\n      <td>TD_Inst_B</td>\n      <td>LUID_00003DEU</td>\n      <td>1.0000</td>\n      <td>1,015,333.3333</td>\n      <td>1,015,333.3333</td>\n      <td>2021-03-18 00:00:00+00:00</td>\n      <td>2021-03-21 00:00:00+00:00</td>\n    </tr>\n  </tbody>\n</table>\n</div>"
     },
     "execution_count": 92,
     "metadata": {},
     "output_type": "execute_result"
    }
   ],
   "source": [
    "upsert_transaction(\"txn004\", \"StockOut\", td_luid_b, td_client_b, maturity_date_B, inst_A_val)"
   ],
   "metadata": {
    "collapsed": false,
    "pycharm": {
     "name": "#%%\n"
    }
   }
  },
  {
   "cell_type": "markdown",
   "source": [
    "### 6.2.2 Buy Term Deposit back with an Increased Rate\n",
    "To roll the term deposit we will create a new instrument, `Term Deposit C`. It will have the same maturity time as the previous Term Deposits, with a higher rate of 5% and a new start and end date."
   ],
   "metadata": {
    "collapsed": false,
    "pycharm": {
     "name": "#%% md\n"
    }
   }
  },
  {
   "cell_type": "code",
   "execution_count": 93,
   "outputs": [],
   "source": [
    "maturity_date_C = datetime(2021, 9, 18, 00, tzinfo=pytz.utc)"
   ],
   "metadata": {
    "collapsed": false,
    "pycharm": {
     "name": "#%%\n"
    }
   }
  },
  {
   "cell_type": "code",
   "execution_count": 94,
   "outputs": [
    {
     "name": "stdout",
     "output_type": "stream",
     "text": [
      "Created instrument with LUID:LUID_00003DEP and ClientInternal:TD_EXAMPLE_C\n"
     ]
    }
   ],
   "source": [
    "# Define a new instrument with a higher rate\n",
    "td_client_c = \"TD_EXAMPLE_C\"\n",
    "td_luid_c = create_td_instrument(\n",
    "    \"TD Example Instrument C\",\n",
    "    td_client_c,\n",
    "    maturity_date_B,\n",
    "    maturity_date_C,\n",
    "    1,\n",
    "    flow_conventions,\n",
    "    0.05,\n",
    "    \"GBP\"\n",
    ")"
   ],
   "metadata": {
    "collapsed": false,
    "pycharm": {
     "name": "#%%\n"
    }
   }
  },
  {
   "cell_type": "markdown",
   "source": [
    "In this example we will only invest $1,000,000 into `Term Deposit C` and leave the remaining cash returned from `Term Deposit B` in the portfolio."
   ],
   "metadata": {
    "collapsed": false,
    "pycharm": {
     "name": "#%% md\n"
    }
   }
  },
  {
   "cell_type": "code",
   "execution_count": 95,
   "outputs": [
    {
     "data": {
      "text/plain": "  transaction_id type  \\\n7         txn005  Buy   \n\n  instrument_identifiers.Instrument/default/ClientInternal instrument_uid  \\\n7                                       TD_EXAMPLE_C        LUID_00003DEP   \n\n   transaction_price.price  total_consideration.amount          units  \\\n7                   1.0000              1,000,000.0000 1,000,000.0000   \n\n           transaction_date           settlement_date  \n7 2021-03-18 00:00:00+00:00 2021-03-21 00:00:00+00:00  ",
      "text/html": "<div>\n<style scoped>\n    .dataframe tbody tr th:only-of-type {\n        vertical-align: middle;\n    }\n\n    .dataframe tbody tr th {\n        vertical-align: top;\n    }\n\n    .dataframe thead th {\n        text-align: right;\n    }\n</style>\n<table border=\"1\" class=\"dataframe\">\n  <thead>\n    <tr style=\"text-align: right;\">\n      <th></th>\n      <th>transaction_id</th>\n      <th>type</th>\n      <th>instrument_identifiers.Instrument/default/ClientInternal</th>\n      <th>instrument_uid</th>\n      <th>transaction_price.price</th>\n      <th>total_consideration.amount</th>\n      <th>units</th>\n      <th>transaction_date</th>\n      <th>settlement_date</th>\n    </tr>\n  </thead>\n  <tbody>\n    <tr>\n      <th>7</th>\n      <td>txn005</td>\n      <td>Buy</td>\n      <td>TD_EXAMPLE_C</td>\n      <td>LUID_00003DEP</td>\n      <td>1.0000</td>\n      <td>1,000,000.0000</td>\n      <td>1,000,000.0000</td>\n      <td>2021-03-18 00:00:00+00:00</td>\n      <td>2021-03-21 00:00:00+00:00</td>\n    </tr>\n  </tbody>\n</table>\n</div>"
     },
     "execution_count": 95,
     "metadata": {},
     "output_type": "execute_result"
    }
   ],
   "source": [
    "upsert_transaction(\"txn005\",\"Buy\", td_luid_c, td_client_c, maturity_date_B, 1000000)"
   ],
   "metadata": {
    "collapsed": false,
    "pycharm": {
     "name": "#%%\n"
    }
   }
  },
  {
   "cell_type": "markdown",
   "source": [
    "The table below shows the holding once the transactions which roll `Term Deposit B` have settled. We cna see the `Term Deposit B` instrument has been replaced by `Term Deposit C`. The cash balance represents the interest returned from `Term Deposit B` which was not reinvested in `Term Deposit C`."
   ],
   "metadata": {
    "collapsed": false,
    "pycharm": {
     "name": "#%% md\n"
    }
   }
  },
  {
   "cell_type": "markdown",
   "source": [
    "get_holdings(maturity_date_B + timedelta(days=3))"
   ],
   "metadata": {
    "collapsed": false,
    "pycharm": {
     "name": "#%% md\n"
    }
   }
  },
  {
   "cell_type": "markdown",
   "source": [
    "The valuation below shows a PV of ~102.5% of the initial $1,000,000 invested in `Term Deposit C`. This reflects the 5% interest rate over the 6 month Term Deposit where 5/2= 2.5."
   ],
   "metadata": {
    "collapsed": false,
    "pycharm": {
     "name": "#%% md\n"
    }
   }
  },
  {
   "cell_type": "code",
   "execution_count": 96,
   "outputs": [
    {
     "data": {
      "text/plain": "  Instrument/default/LusidInstrumentId  Instrument/default/Name  \\\n0                              CCY_USD                      USD   \n1                        LUID_00003DEP  TD Example Instrument C   \n\n      Analytic/default/ValuationDate  Sum(Valuation/PV)  \n0  2021-03-21T00:00:00.0000000+00:00        30,647.9444  \n1  2021-03-21T00:00:00.0000000+00:00     1,025,555.5556  ",
      "text/html": "<div>\n<style scoped>\n    .dataframe tbody tr th:only-of-type {\n        vertical-align: middle;\n    }\n\n    .dataframe tbody tr th {\n        vertical-align: top;\n    }\n\n    .dataframe thead th {\n        text-align: right;\n    }\n</style>\n<table border=\"1\" class=\"dataframe\">\n  <thead>\n    <tr style=\"text-align: right;\">\n      <th></th>\n      <th>Instrument/default/LusidInstrumentId</th>\n      <th>Instrument/default/Name</th>\n      <th>Analytic/default/ValuationDate</th>\n      <th>Sum(Valuation/PV)</th>\n    </tr>\n  </thead>\n  <tbody>\n    <tr>\n      <th>0</th>\n      <td>CCY_USD</td>\n      <td>USD</td>\n      <td>2021-03-21T00:00:00.0000000+00:00</td>\n      <td>30,647.9444</td>\n    </tr>\n    <tr>\n      <th>1</th>\n      <td>LUID_00003DEP</td>\n      <td>TD Example Instrument C</td>\n      <td>2021-03-21T00:00:00.0000000+00:00</td>\n      <td>1,025,555.5556</td>\n    </tr>\n  </tbody>\n</table>\n</div>"
     },
     "execution_count": 96,
     "metadata": {},
     "output_type": "execute_result"
    }
   ],
   "source": [
    "perform_valuation(CTVoMRecipe, maturity_date_B + settlement_time)"
   ],
   "metadata": {
    "collapsed": false,
    "pycharm": {
     "name": "#%%\n"
    }
   }
  },
  {
   "cell_type": "markdown",
   "source": [
    "To get a Simple Static valuation we will first upsert a quote for the new Term Deposit. This quote has an interest rate of 4%, we can see this reflected in a valuation of ~104% of the initial investment. The interest rate of the `Term Deposit C` instrument does not effect the Simple Static valuation."
   ],
   "metadata": {
    "collapsed": false,
    "pycharm": {
     "name": "#%% md\n"
    }
   }
  },
  {
   "cell_type": "code",
   "execution_count": 97,
   "outputs": [
    {
     "data": {
      "text/plain": "'Successfully upserted quote for instrument: TD_EXAMPLE_C with AsAt:2023-05-03 10:12:18.999820+00:00'"
     },
     "execution_count": 97,
     "metadata": {},
     "output_type": "execute_result"
    }
   ],
   "source": [
    "upsert_quote(td_client_c, maturity_date_B + settlement_time, 1.04)"
   ],
   "metadata": {
    "collapsed": false,
    "pycharm": {
     "name": "#%%\n"
    }
   }
  },
  {
   "cell_type": "code",
   "execution_count": 98,
   "outputs": [
    {
     "data": {
      "text/plain": "  Instrument/default/LusidInstrumentId  Instrument/default/Name  \\\n0                              CCY_USD                      USD   \n1                        LUID_00003DEP  TD Example Instrument C   \n\n      Analytic/default/ValuationDate  Sum(Valuation/PV)  \n0  2021-03-21T00:00:00.0000000+00:00        30,647.9444  \n1  2021-03-21T00:00:00.0000000+00:00     1,040,416.6667  ",
      "text/html": "<div>\n<style scoped>\n    .dataframe tbody tr th:only-of-type {\n        vertical-align: middle;\n    }\n\n    .dataframe tbody tr th {\n        vertical-align: top;\n    }\n\n    .dataframe thead th {\n        text-align: right;\n    }\n</style>\n<table border=\"1\" class=\"dataframe\">\n  <thead>\n    <tr style=\"text-align: right;\">\n      <th></th>\n      <th>Instrument/default/LusidInstrumentId</th>\n      <th>Instrument/default/Name</th>\n      <th>Analytic/default/ValuationDate</th>\n      <th>Sum(Valuation/PV)</th>\n    </tr>\n  </thead>\n  <tbody>\n    <tr>\n      <th>0</th>\n      <td>CCY_USD</td>\n      <td>USD</td>\n      <td>2021-03-21T00:00:00.0000000+00:00</td>\n      <td>30,647.9444</td>\n    </tr>\n    <tr>\n      <th>1</th>\n      <td>LUID_00003DEP</td>\n      <td>TD Example Instrument C</td>\n      <td>2021-03-21T00:00:00.0000000+00:00</td>\n      <td>1,040,416.6667</td>\n    </tr>\n  </tbody>\n</table>\n</div>"
     },
     "execution_count": 98,
     "metadata": {},
     "output_type": "execute_result"
    }
   ],
   "source": [
    "perform_valuation(SSRecipe, maturity_date_B + settlement_time)"
   ],
   "metadata": {
    "collapsed": false,
    "pycharm": {
     "name": "#%%\n"
    }
   }
  }
 ],
 "metadata": {
  "kernelspec": {
   "display_name": "Python 3",
   "language": "python",
   "name": "python3"
  },
  "language_info": {
   "codemirror_mode": {
    "name": "ipython",
    "version": 2
   },
   "file_extension": ".py",
   "mimetype": "text/x-python",
   "name": "python",
   "nbconvert_exporter": "python",
   "pygments_lexer": "ipython2",
   "version": "2.7.6"
  }
 },
 "nbformat": 4,
 "nbformat_minor": 0
}