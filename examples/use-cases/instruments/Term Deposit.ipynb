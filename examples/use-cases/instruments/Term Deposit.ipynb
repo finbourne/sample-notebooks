{
 "cells": [
  {
   "cell_type": "code",
   "execution_count": 168,
   "metadata": {
    "pycharm": {
     "name": "#%%\n"
    }
   },
   "outputs": [
    {
     "data": {
      "text/html": [
       "\n",
       "    <form action=\"javascript:code_toggle()\"><input type=\"submit\" id=\"toggleButton\" value=\"Hide docstring\"></form>\n",
       "    \n",
       "         <script>\n",
       "         function code_toggle() {\n",
       "             if ($('div.cell.code_cell.rendered.selected div.input').css('display')!='none'){\n",
       "                 $('div.cell.code_cell.rendered.selected div.input').hide();\n",
       "             } else {\n",
       "                 $('div.cell.code_cell.rendered.selected div.input').show();\n",
       "             }\n",
       "         }\n",
       "         </script>\n",
       "\n",
       "     "
      ],
      "text/plain": [
       "<IPython.core.display.HTML object>"
      ]
     },
     "metadata": {},
     "output_type": "display_data"
    }
   ],
   "source": [
    "from lusidtools.jupyter_tools import toggle_code\n",
    "\n",
    "\"\"\"Term Deposit Valuation\n",
    "\n",
    "Demonstrates pricing of a Term Deposit Investment.\n",
    "\n",
    "Attributes\n",
    "----------\n",
    "instruments\n",
    "valuation\n",
    "lifecycle events\n",
    "market data store\n",
    "results store\n",
    "quotes\n",
    "\"\"\"\n",
    "\n",
    "toggle_code(\"Hide docstring\")"
   ]
  },
  {
   "cell_type": "markdown",
   "metadata": {
    "pycharm": {
     "name": "#%% md\n"
    }
   },
   "source": [
    "# Valuing and Rolling Term Deposits\n",
    "In this notebook, we demonstrate how Term Deposits are handled in LUSID. We will show how to roll Term Deposits, represent cashflow payments and perform valuations.\n",
    "\n",
    "Contents:\n",
    "* [1. Initial Setup](#1.-Initial-Setup)\n",
    "* [2. Create Portfolio](#2.-Create-Portfolio)\n",
    "* [3. Create Term Deposit Instrument](#3.-Create-Term-Deposit-Instrument)\n",
    "* [4. Add Transactions](#4.-Add-Transactions)\n",
    "* [5. Get Holdings](#5.-Get-Holdings)\n",
    "* [6. Setup Cashflows](#6.-Setup-Cashflows)\n",
    "* [7. Rolling a Term Deposit](#7.-Rolling-a-Term-Deposit)\n",
    "    * [7.1 Rolling Full Term Deposit Maturity Amount](#7.1-Rolling-full-term-deposit-maturity-amount)\n",
    "    * [7.2 Rolling the Notional for the Term Deposit](#7.2-Rolling-the-Notional-for-the-Term-Deposit)\n",
    "## 1. Initial Setup"
   ]
  },
  {
   "cell_type": "code",
   "execution_count": 169,
   "metadata": {
    "pycharm": {
     "name": "#%%\n"
    }
   },
   "outputs": [],
   "source": [
    "# Import LUSID libraries\n",
    "import lusid as lu\n",
    "import lusid.models as lm\n",
    "from lusidtools.pandas_utils.lusid_pandas import lusid_response_to_data_frame\n",
    "from lusidjam.refreshing_token import RefreshingToken\n",
    "from IPython.display import display\n",
    "from lusidtools.cocoon.utilities import create_scope_id\n",
    "\n",
    "\n",
    "# Import Libraries\n",
    "from datetime import datetime, timedelta\n",
    "import pytz\n",
    "import pandas as pd\n",
    "import json\n",
    "import os"
   ]
  },
  {
   "cell_type": "code",
   "execution_count": 170,
   "metadata": {
    "pycharm": {
     "name": "#%%\n"
    }
   },
   "outputs": [
    {
     "name": "stdout",
     "output_type": "stream",
     "text": [
      "/Users/libertyaskew/fbn-projects/fbn-notebooks/sample-notebooks/examples/use-cases/secrets.json\n",
      "LUSID Environment Initialised\n",
      "LUSID SDK Version:  0.6.11424.0\n"
     ]
    }
   ],
   "source": [
    "# Settings and utility functions to display objects and responses more clearly.\n",
    "pd.set_option('float_format', '{:,.4f}'.format)\n",
    "\n",
    "# Set the secrets path\n",
    "#secrets_path = os.getenv(\"FBN_SECRETS_PATH\")\n",
    "\n",
    "secrets_path = os.path.join(os.path.dirname(os.getcwd()), \"secrets.json\")\n",
    "print(secrets_path)\n",
    "api_factory = lu.utilities.ApiClientFactory(\n",
    "        token=RefreshingToken(),\n",
    "        api_secrets_filename = secrets_path,\n",
    "        app_name=\"LusidJupyterNotebook\")\n",
    "\n",
    "print ('LUSID Environment Initialised')\n",
    "print ('LUSID SDK Version: ', api_factory.build(lu.api.ApplicationMetadataApi).get_lusid_versions().build_version)"
   ]
  },
  {
   "cell_type": "code",
   "execution_count": 171,
   "metadata": {
    "pycharm": {
     "name": "#%%\n"
    }
   },
   "outputs": [],
   "source": [
    "# Initiate the LUSID APIs required for the notebook\n",
    "instruments_api = api_factory.build(lu.api.InstrumentsApi)\n",
    "transaction_portfolios_api = api_factory.build(lu.api.TransactionPortfoliosApi)\n",
    "configuration_recipe_api = api_factory.build(lu.api.ConfigurationRecipeApi)\n",
    "aggregation_api = api_factory.build(lu.AggregationApi)\n",
    "quotes_api = api_factory.build(lu.QuotesApi)\n",
    "transaction_configuration_api = api_factory.build(lu.api.TransactionConfigurationApi)"
   ]
  },
  {
   "cell_type": "code",
   "execution_count": 172,
   "metadata": {
    "pycharm": {
     "name": "#%%\n"
    }
   },
   "outputs": [],
   "source": [
    "# Define scopes\n",
    "scope = \"TermDepositNotebook\"\n",
    "portfolio_code = \"TermDepositExamplePortfolio\"\n",
    "transaction_type_scope= create_scope_id()"
   ]
  },
  {
   "cell_type": "markdown",
   "metadata": {
    "pycharm": {
     "name": "#%% md\n"
    }
   },
   "source": [
    "# 2. Create Portfolio\n",
    "In this section we will create a portfolio in LUSID to store the term deposits in."
   ]
  },
  {
   "cell_type": "code",
   "execution_count": 173,
   "metadata": {
    "pycharm": {
     "name": "#%%\n"
    }
   },
   "outputs": [
    {
     "name": "stdout",
     "output_type": "stream",
     "text": [
      "{\"name\":\"PortfolioWithIdAlreadyExists\",\"errorDetails\":[],\"code\":112,\"type\":\"https://docs.lusid.com/#section/Error-Codes/112\",\"title\":\"Could not create a portfolio with id 'TermDepositExamplePortfolio' because it already exists in scope 'TermDepositNotebook'.\",\"status\":400,\"detail\":\"Error creating portfolio with id 'TermDepositExamplePortfolio' in scope 'TermDepositNotebook' effective at 2010-01-01T00:00:00.0000000+00:00 because it already exists.\",\"instance\":\"https://liberty.lusid.com/app/insights/logs/0HMR6J4Q37FNS:0000002D\",\"extensions\":{}}\n"
     ]
    }
   ],
   "source": [
    "try:\n",
    "    transaction_portfolios_api.create_portfolio(\n",
    "        scope=scope,\n",
    "        create_transaction_portfolio_request=lm.CreateTransactionPortfolioRequest(\n",
    "            display_name=portfolio_code,\n",
    "            code=portfolio_code,\n",
    "            base_currency=\"USD\",\n",
    "            created=\"2010-01-01\",\n",
    "            sub_holding_keys=[]\n",
    "        ),\n",
    "    )\n",
    "\n",
    "except lu.ApiException as e:\n",
    "    print(e.body)\n",
    "#     print(json.loads(e.body)[\"title\"])"
   ]
  },
  {
   "cell_type": "markdown",
   "metadata": {
    "pycharm": {
     "name": "#%% md\n"
    }
   },
   "source": [
    "## 3. Create Term Deposit Instrument\n",
    "Next we must create an instrument to represent the Term Deposit.\n",
    "In LUSID the rate of the Term Deposit must be defined at creation and cannot be adjusted."
   ]
  },
  {
   "cell_type": "code",
   "execution_count": 174,
   "metadata": {
    "pycharm": {
     "name": "#%%\n"
    }
   },
   "outputs": [],
   "source": [
    "# Helper method to create Term Deposit instrument\n",
    "def create_td_instrument(\n",
    "    name,\n",
    "    identifier,\n",
    "    start_date,\n",
    "    maturity_date,\n",
    "    flow_convention,\n",
    "    rate\n",
    "):\n",
    "    td_instrument = lm.TermDeposit(\n",
    "        start_date=start_date,\n",
    "        maturity_date=maturity_date,\n",
    "        contract_size=1,\n",
    "        flow_convention=flow_convention,\n",
    "        rate=rate,\n",
    "        dom_ccy=\"USD\",\n",
    "        instrument_type=\"TermDeposit\",\n",
    "        local_vars_configuration=None)\n",
    "\n",
    "    td_definition = lm.InstrumentDefinition(\n",
    "        name=name,\n",
    "        identifiers={\"ClientInternal\": lm.InstrumentIdValue(identifier)},\n",
    "        definition=td_instrument,\n",
    "    )\n",
    "\n",
    "    upsert_request = {identifier: td_definition}\n",
    "    upsert_response = instruments_api.upsert_instruments(request_body=upsert_request, scope=scope)\n",
    "    td_luid = upsert_response.values[identifier]\n",
    "    print(f\"Created instrument with LUID:{td_luid.lusid_instrument_id} and ClientInternal:{identifier}\")\n",
    "    return td_luid.lusid_instrument_id"
   ]
  },
  {
   "cell_type": "markdown",
   "metadata": {
    "pycharm": {
     "name": "#%% md\n"
    }
   },
   "source": [
    "The flow convention defines the payment schedule for the Term Deposit, this example pays every 6 months."
   ]
  },
  {
   "cell_type": "code",
   "execution_count": 175,
   "metadata": {
    "pycharm": {
     "name": "#%%\n"
    }
   },
   "outputs": [],
   "source": [
    "flow_conventions = lm.FlowConventions(\n",
    "    currency=\"USD\",\n",
    "    payment_frequency=\"6M\",\n",
    "    roll_convention=\"F\",\n",
    "    day_count_convention=\"Actual360\",\n",
    "    payment_calendars=[],\n",
    "    reset_calendars=[],\n",
    "    settle_days=0,\n",
    "    reset_days=0,\n",
    ")"
   ]
  },
  {
   "cell_type": "markdown",
   "metadata": {},
   "source": [
    "The Term Deposit Instrument A created below has a maturity time of 6 months and 3% interest rate."
   ]
  },
  {
   "cell_type": "code",
   "execution_count": 176,
   "metadata": {
    "pycharm": {
     "name": "#%%\n"
    }
   },
   "outputs": [],
   "source": [
    "start_date = datetime(2020, 3, 18, 00, tzinfo=pytz.utc)\n",
    "maturity_date_A = datetime(2020, 9, 18, 00, tzinfo=pytz.utc)"
   ]
  },
  {
   "cell_type": "code",
   "execution_count": 177,
   "metadata": {
    "pycharm": {
     "name": "#%%\n"
    }
   },
   "outputs": [
    {
     "name": "stdout",
     "output_type": "stream",
     "text": [
      "Created instrument with LUID:LUID_00003DF3 and ClientInternal:TD_Inst_A\n"
     ]
    }
   ],
   "source": [
    "td_client_a = \"TD_Inst_A\"\n",
    "td_luid_a = create_td_instrument(\n",
    "    name=\"Term Deposit Instrument A\",\n",
    "    identifier=td_client_a,\n",
    "    start_date=start_date,\n",
    "    maturity_date=maturity_date_A,\n",
    "    flow_convention=flow_conventions,\n",
    "    rate=0.03\n",
    ")"
   ]
  },
  {
   "cell_type": "markdown",
   "metadata": {
    "pycharm": {
     "name": "#%% md\n"
    }
   },
   "source": [
    "## 4. Setup Transactions and Holdings\n",
    "### 4.1 Transaction\n",
    "In this section we will setup the initial transactions in the portfolio."
   ]
  },
  {
   "cell_type": "code",
   "execution_count": 178,
   "metadata": {
    "pycharm": {
     "name": "#%%\n"
    }
   },
   "outputs": [],
   "source": [
    "# Helper method to upsert transactions into LUSID\n",
    "def upsert_transaction(txn_id, type, luid, client_internal, txn_date, total_consideration):\n",
    "    txn = lm.TransactionRequest(\n",
    "    transaction_id=txn_id,\n",
    "    type=type,\n",
    "    instrument_identifiers={\"Instrument/default/LusidInstrumentId\": luid,\n",
    "                            \"Instrument/default/ClientInternal\": client_internal},\n",
    "    transaction_date=  txn_date.isoformat(),\n",
    "    settlement_date=(txn_date+settlement_time).isoformat(),\n",
    "    units=total_consideration,\n",
    "    transaction_price=lm.TransactionPrice(price=1, type=\"Price\"),\n",
    "    total_consideration=lm.CurrencyAndAmount(amount=total_consideration,currency=\"USD\")\n",
    "    )\n",
    "\n",
    "    transaction_portfolios_api.upsert_transactions(\n",
    "        scope=scope, code=portfolio_code, transaction_request=[txn]\n",
    "    )\n",
    "    return view_transaction_in_lusid(txn_id)\n",
    "\n",
    "def view_transaction_in_lusid(txn_ids):\n",
    "    if isinstance(txn_ids,str):\n",
    "        txn_ids = [txn_ids]\n",
    "    df = lusid_response_to_data_frame(transaction_portfolios_api.get_transactions(scope,portfolio_code))\n",
    "    return df[['transaction_id','type','instrument_identifiers.Instrument/default/ClientInternal','instrument_uid','transaction_price.price','total_consideration.amount','units','transaction_date','settlement_date']][df['transaction_id'].isin(txn_ids)]"
   ]
  },
  {
   "cell_type": "code",
   "execution_count": 179,
   "metadata": {
    "pycharm": {
     "name": "#%%\n"
    }
   },
   "outputs": [],
   "source": [
    "# In this notebook all transactions will have a 3 day settlement period.\n",
    "settlement_time = timedelta(3)"
   ]
  },
  {
   "cell_type": "markdown",
   "metadata": {
    "pycharm": {
     "name": "#%% md\n"
    }
   },
   "source": [
    "We will first add an intial cash deposit of $1,000,000 to our portfolio."
   ]
  },
  {
   "cell_type": "code",
   "execution_count": 180,
   "metadata": {
    "pycharm": {
     "name": "#%%\n"
    }
   },
   "outputs": [
    {
     "data": {
      "text/html": [
       "<div>\n",
       "<style scoped>\n",
       "    .dataframe tbody tr th:only-of-type {\n",
       "        vertical-align: middle;\n",
       "    }\n",
       "\n",
       "    .dataframe tbody tr th {\n",
       "        vertical-align: top;\n",
       "    }\n",
       "\n",
       "    .dataframe thead th {\n",
       "        text-align: right;\n",
       "    }\n",
       "</style>\n",
       "<table border=\"1\" class=\"dataframe\">\n",
       "  <thead>\n",
       "    <tr style=\"text-align: right;\">\n",
       "      <th></th>\n",
       "      <th>transaction_id</th>\n",
       "      <th>type</th>\n",
       "      <th>instrument_identifiers.Instrument/default/ClientInternal</th>\n",
       "      <th>instrument_uid</th>\n",
       "      <th>transaction_price.price</th>\n",
       "      <th>total_consideration.amount</th>\n",
       "      <th>units</th>\n",
       "      <th>transaction_date</th>\n",
       "      <th>settlement_date</th>\n",
       "    </tr>\n",
       "  </thead>\n",
       "  <tbody>\n",
       "    <tr>\n",
       "      <th>0</th>\n",
       "      <td>txn000</td>\n",
       "      <td>FundsIn</td>\n",
       "      <td>cash_USD</td>\n",
       "      <td>CCY_USD</td>\n",
       "      <td>1.0000</td>\n",
       "      <td>1.0000</td>\n",
       "      <td>1,000,000.0000</td>\n",
       "      <td>2020-03-10 00:00:00+00:00</td>\n",
       "      <td>2020-03-13 00:00:00+00:00</td>\n",
       "    </tr>\n",
       "  </tbody>\n",
       "</table>\n",
       "</div>"
      ],
      "text/plain": [
       "  transaction_id     type  \\\n",
       "0         txn000  FundsIn   \n",
       "\n",
       "  instrument_identifiers.Instrument/default/ClientInternal instrument_uid  \\\n",
       "0                                           cash_USD              CCY_USD   \n",
       "\n",
       "   transaction_price.price  total_consideration.amount          units  \\\n",
       "0                   1.0000                      1.0000 1,000,000.0000   \n",
       "\n",
       "           transaction_date           settlement_date  \n",
       "0 2020-03-10 00:00:00+00:00 2020-03-13 00:00:00+00:00  "
      ]
     },
     "execution_count": 180,
     "metadata": {},
     "output_type": "execute_result"
    }
   ],
   "source": [
    "txn = lm.TransactionRequest(\n",
    "    transaction_id=\"txn000\",\n",
    "    type=\"FundsIn\",\n",
    "    instrument_identifiers={\"Instrument/default/Currency\": \"USD\",\n",
    "                            \"Instrument/default/ClientInternal\": \"cash_USD\"},\n",
    "    transaction_date=(datetime(2020, 3, 10, 00, tzinfo=pytz.utc)).isoformat(),\n",
    "    settlement_date=(datetime(2020, 3, 10, 00, tzinfo=pytz.utc) + settlement_time).isoformat(),\n",
    "    units=1000000,\n",
    "    transaction_price=lm.TransactionPrice(price=1,type=\"Price\"),\n",
    "    total_consideration=lm.CurrencyAndAmount(amount=1,currency=\"USD\")\n",
    "    )\n",
    "\n",
    "resp = transaction_portfolios_api.upsert_transactions(\n",
    "    scope=scope, code=portfolio_code, transaction_request=[txn]\n",
    ")\n",
    "\n",
    "view_transaction_in_lusid(\"txn000\")"
   ]
  },
  {
   "cell_type": "markdown",
   "metadata": {
    "pycharm": {
     "name": "#%% md\n"
    }
   },
   "source": [
    "The next transaction is Buying `Term Deposit Instrument A`, in LUSID this transaction represents investing $\\$1,000,000 in a Term Deposit."
   ]
  },
  {
   "cell_type": "code",
   "execution_count": 181,
   "metadata": {
    "pycharm": {
     "name": "#%%\n"
    }
   },
   "outputs": [
    {
     "data": {
      "text/html": [
       "<div>\n",
       "<style scoped>\n",
       "    .dataframe tbody tr th:only-of-type {\n",
       "        vertical-align: middle;\n",
       "    }\n",
       "\n",
       "    .dataframe tbody tr th {\n",
       "        vertical-align: top;\n",
       "    }\n",
       "\n",
       "    .dataframe thead th {\n",
       "        text-align: right;\n",
       "    }\n",
       "</style>\n",
       "<table border=\"1\" class=\"dataframe\">\n",
       "  <thead>\n",
       "    <tr style=\"text-align: right;\">\n",
       "      <th></th>\n",
       "      <th>transaction_id</th>\n",
       "      <th>type</th>\n",
       "      <th>instrument_identifiers.Instrument/default/ClientInternal</th>\n",
       "      <th>instrument_uid</th>\n",
       "      <th>transaction_price.price</th>\n",
       "      <th>total_consideration.amount</th>\n",
       "      <th>units</th>\n",
       "      <th>transaction_date</th>\n",
       "      <th>settlement_date</th>\n",
       "    </tr>\n",
       "  </thead>\n",
       "  <tbody>\n",
       "    <tr>\n",
       "      <th>1</th>\n",
       "      <td>txn001</td>\n",
       "      <td>Buy</td>\n",
       "      <td>TD_Inst_A</td>\n",
       "      <td>LUID_00003DET</td>\n",
       "      <td>1.0000</td>\n",
       "      <td>1,000,000.0000</td>\n",
       "      <td>1,000,000.0000</td>\n",
       "      <td>2020-03-18 00:00:00+00:00</td>\n",
       "      <td>2020-03-21 00:00:00+00:00</td>\n",
       "    </tr>\n",
       "  </tbody>\n",
       "</table>\n",
       "</div>"
      ],
      "text/plain": [
       "  transaction_id type  \\\n",
       "1         txn001  Buy   \n",
       "\n",
       "  instrument_identifiers.Instrument/default/ClientInternal instrument_uid  \\\n",
       "1                                          TD_Inst_A        LUID_00003DET   \n",
       "\n",
       "   transaction_price.price  total_consideration.amount          units  \\\n",
       "1                   1.0000              1,000,000.0000 1,000,000.0000   \n",
       "\n",
       "           transaction_date           settlement_date  \n",
       "1 2020-03-18 00:00:00+00:00 2020-03-21 00:00:00+00:00  "
      ]
     },
     "execution_count": 181,
     "metadata": {},
     "output_type": "execute_result"
    }
   ],
   "source": [
    "upsert_transaction(\n",
    "    txn_id=\"txn001\", \n",
    "    type=\"Buy\", \n",
    "    luid=td_luid_a, \n",
    "    client_internal=td_client_a, \n",
    "    txn_date=start_date, \n",
    "    total_consideration=1000000)"
   ]
  },
  {
   "cell_type": "code",
   "execution_count": 182,
   "metadata": {
    "pycharm": {
     "name": "#%%\n"
    }
   },
   "outputs": [],
   "source": [
    "# Helper method to view the transaction in LUSID up to a specific date\n",
    "def get_transactions_todate(to_transaction_date):\n",
    "    get_transactions_reponse = transaction_portfolios_api.get_transactions(\n",
    "        scope = scope,\n",
    "        code = portfolio_code,\n",
    "        to_transaction_date=to_transaction_date\n",
    "    )\n",
    "    df = lusid_response_to_data_frame(get_transactions_reponse).sort_values('transaction_id', ascending=True)\n",
    "    subdf = df[['transaction_id','type','instrument_identifiers.Instrument/default/ClientInternal','instrument_uid','total_consideration.amount','units','transaction_date','settlement_date','transaction_price.price']]\n",
    "    return subdf.rename(columns={\"instrument_identifiers.Instrument/default/ClientInternal\":\"ClientInternal\",\"instrument_uid\":\"LusidInstrumentId\"})"
   ]
  },
  {
   "cell_type": "markdown",
   "metadata": {
    "pycharm": {
     "name": "#%% md\n"
    }
   },
   "source": [
    "Running the cell below shows all the transactions that have occurred in the portfolio in LUSID at the start of `Term Deposit A`."
   ]
  },
  {
   "cell_type": "code",
   "execution_count": 183,
   "metadata": {
    "pycharm": {
     "name": "#%%\n"
    }
   },
   "outputs": [
    {
     "data": {
      "text/html": [
       "<div>\n",
       "<style scoped>\n",
       "    .dataframe tbody tr th:only-of-type {\n",
       "        vertical-align: middle;\n",
       "    }\n",
       "\n",
       "    .dataframe tbody tr th {\n",
       "        vertical-align: top;\n",
       "    }\n",
       "\n",
       "    .dataframe thead th {\n",
       "        text-align: right;\n",
       "    }\n",
       "</style>\n",
       "<table border=\"1\" class=\"dataframe\">\n",
       "  <thead>\n",
       "    <tr style=\"text-align: right;\">\n",
       "      <th></th>\n",
       "      <th>transaction_id</th>\n",
       "      <th>type</th>\n",
       "      <th>ClientInternal</th>\n",
       "      <th>LusidInstrumentId</th>\n",
       "      <th>total_consideration.amount</th>\n",
       "      <th>units</th>\n",
       "      <th>transaction_date</th>\n",
       "      <th>settlement_date</th>\n",
       "      <th>transaction_price.price</th>\n",
       "    </tr>\n",
       "  </thead>\n",
       "  <tbody>\n",
       "    <tr>\n",
       "      <th>0</th>\n",
       "      <td>txn000</td>\n",
       "      <td>FundsIn</td>\n",
       "      <td>cash_USD</td>\n",
       "      <td>CCY_USD</td>\n",
       "      <td>1.0000</td>\n",
       "      <td>1,000,000.0000</td>\n",
       "      <td>2020-03-10 00:00:00+00:00</td>\n",
       "      <td>2020-03-13 00:00:00+00:00</td>\n",
       "      <td>1.0000</td>\n",
       "    </tr>\n",
       "    <tr>\n",
       "      <th>1</th>\n",
       "      <td>txn001</td>\n",
       "      <td>Buy</td>\n",
       "      <td>TD_Inst_A</td>\n",
       "      <td>LUID_00003DET</td>\n",
       "      <td>1,000,000.0000</td>\n",
       "      <td>1,000,000.0000</td>\n",
       "      <td>2020-03-18 00:00:00+00:00</td>\n",
       "      <td>2020-03-21 00:00:00+00:00</td>\n",
       "      <td>1.0000</td>\n",
       "    </tr>\n",
       "  </tbody>\n",
       "</table>\n",
       "</div>"
      ],
      "text/plain": [
       "  transaction_id     type ClientInternal LusidInstrumentId  \\\n",
       "0         txn000  FundsIn       cash_USD           CCY_USD   \n",
       "1         txn001      Buy      TD_Inst_A     LUID_00003DET   \n",
       "\n",
       "   total_consideration.amount          units          transaction_date  \\\n",
       "0                      1.0000 1,000,000.0000 2020-03-10 00:00:00+00:00   \n",
       "1              1,000,000.0000 1,000,000.0000 2020-03-18 00:00:00+00:00   \n",
       "\n",
       "            settlement_date  transaction_price.price  \n",
       "0 2020-03-13 00:00:00+00:00                   1.0000  \n",
       "1 2020-03-21 00:00:00+00:00                   1.0000  "
      ]
     },
     "execution_count": 183,
     "metadata": {},
     "output_type": "execute_result"
    }
   ],
   "source": [
    "get_transactions_todate(start_date)"
   ]
  },
  {
   "cell_type": "markdown",
   "metadata": {},
   "source": [
    "## 4.2. Holdings\n",
    "In this section we will view the portfolio holdings in LUSID."
   ]
  },
  {
   "cell_type": "code",
   "execution_count": 184,
   "metadata": {
    "pycharm": {
     "name": "#%%\n"
    }
   },
   "outputs": [],
   "source": [
    "# Helper method to view holdings in LUSID\n",
    "def get_holdings(date):\n",
    "    resp = transaction_portfolios_api.get_holdings(scope=scope,\n",
    "                                         code=portfolio_code,\n",
    "                                         property_keys=[\"Instrument/default/ClientInternal\",\"Instrument/default/Name\"],\n",
    "                                        effective_at=date)\n",
    "    df = lusid_response_to_data_frame(resp)\n",
    "    return df[[\"instrument_scope\",\"instrument_uid\",\"properties.Instrument/default/ClientInternal.value.label_value\",\"properties.Instrument/default/Name.value.label_value\",\"units\",\"cost.amount\",\"holding_type_name\"]]"
   ]
  },
  {
   "cell_type": "markdown",
   "metadata": {
    "pycharm": {
     "name": "#%% md\n"
    }
   },
   "source": [
    "Running the cell below shows, after the initial buy transaction has settled `Term Deposit A` is in the portfolio. There is no cash balance as all the cash in the portfolio has been invested in `Term Deposit A`."
   ]
  },
  {
   "cell_type": "code",
   "execution_count": 185,
   "metadata": {
    "pycharm": {
     "name": "#%%\n"
    }
   },
   "outputs": [
    {
     "data": {
      "text/html": [
       "<div>\n",
       "<style scoped>\n",
       "    .dataframe tbody tr th:only-of-type {\n",
       "        vertical-align: middle;\n",
       "    }\n",
       "\n",
       "    .dataframe tbody tr th {\n",
       "        vertical-align: top;\n",
       "    }\n",
       "\n",
       "    .dataframe thead th {\n",
       "        text-align: right;\n",
       "    }\n",
       "</style>\n",
       "<table border=\"1\" class=\"dataframe\">\n",
       "  <thead>\n",
       "    <tr style=\"text-align: right;\">\n",
       "      <th></th>\n",
       "      <th>instrument_scope</th>\n",
       "      <th>instrument_uid</th>\n",
       "      <th>properties.Instrument/default/ClientInternal.value.label_value</th>\n",
       "      <th>properties.Instrument/default/Name.value.label_value</th>\n",
       "      <th>units</th>\n",
       "      <th>cost.amount</th>\n",
       "      <th>holding_type_name</th>\n",
       "    </tr>\n",
       "  </thead>\n",
       "  <tbody>\n",
       "    <tr>\n",
       "      <th>0</th>\n",
       "      <td>default</td>\n",
       "      <td>LUID_00003DET</td>\n",
       "      <td>TD_Inst_A</td>\n",
       "      <td>Term Deposit Instrument A</td>\n",
       "      <td>1,000,000.0000</td>\n",
       "      <td>1,000,000.0000</td>\n",
       "      <td>Position</td>\n",
       "    </tr>\n",
       "  </tbody>\n",
       "</table>\n",
       "</div>"
      ],
      "text/plain": [
       "  instrument_scope instrument_uid  \\\n",
       "0          default  LUID_00003DET   \n",
       "\n",
       "  properties.Instrument/default/ClientInternal.value.label_value  \\\n",
       "0                                          TD_Inst_A               \n",
       "\n",
       "  properties.Instrument/default/Name.value.label_value          units  \\\n",
       "0                          Term Deposit Instrument A   1,000,000.0000   \n",
       "\n",
       "     cost.amount holding_type_name  \n",
       "0 1,000,000.0000          Position  "
      ]
     },
     "execution_count": 185,
     "metadata": {},
     "output_type": "execute_result"
    }
   ],
   "source": [
    "get_holdings(start_date+settlement_time)"
   ]
  },
  {
   "cell_type": "markdown",
   "metadata": {
    "pycharm": {
     "name": "#%% md\n"
    }
   },
   "source": [
    "# 5. Running a Valuation\n",
    "In this section we will setup and run valuations on our portfolio\n",
    "\n",
    "## 5.1 Setup recipe\n",
    "To run a valuation in LUSID we must first define a recipe.\n",
    "The helper method below defines a recipe for a Term Deposit instrument by passing in `instrument_type=\"TermDeposit\"` to the `VendorModelRule` parameter."
   ]
  },
  {
   "cell_type": "code",
   "execution_count": 186,
   "metadata": {
    "pycharm": {
     "name": "#%%\n"
    }
   },
   "outputs": [],
   "source": [
    "def create_recipe(recipe_code, model):\n",
    "    # Populate recipe parameters\n",
    "    recipe = lm.ConfigurationRecipe(\n",
    "        scope=scope,\n",
    "        code=recipe_code,\n",
    "        market=lm.MarketContext(\n",
    "            market_rules=[\n",
    "                lm.MarketDataKeyRule(\n",
    "                    key=\"Quote.ClientInternal.*\",\n",
    "                    supplier=\"Lusid\",\n",
    "                    data_scope=scope,\n",
    "                    price_source=\"Lusid\",\n",
    "                    quote_type=\"Price\",\n",
    "                    field=\"mid\",\n",
    "                    quote_interval=\"1M\"\n",
    "                )\n",
    "            ],\n",
    "            options=lm.MarketOptions(\n",
    "                attempt_to_infer_missing_fx=True,\n",
    "                default_scope=scope,\n",
    "                default_instrument_code_type=\"ClientInternal\"\n",
    "            )\n",
    "        ),\n",
    "        # Set the valuation model - curve with no discounting\n",
    "        pricing=lm.PricingContext(\n",
    "            model_rules=[\n",
    "                lm.VendorModelRule(\n",
    "                    supplier=\"Lusid\",\n",
    "                    model_name=model,\n",
    "                    instrument_type=\"TermDeposit\",\n",
    "                    parameters=\"{}\",\n",
    "                )\n",
    "            ],\n",
    "            options=lm.PricingOptions(\n",
    "                produce_separate_result_for_linear_otc_legs=False\n",
    "            )\n",
    "        ),\n",
    "    )\n",
    "\n",
    "    response = configuration_recipe_api.upsert_configuration_recipe(\n",
    "                upsert_recipe_request=lm.UpsertRecipeRequest(\n",
    "                    configuration_recipe=recipe\n",
    "                )\n",
    "            )\n",
    "\n",
    "    return response"
   ]
  },
  {
   "cell_type": "markdown",
   "metadata": {
    "pycharm": {
     "name": "#%% md\n"
    }
   },
   "source": [
    "LUSID supports Simple Static, Discounting and Constant Time Value of Money pricing models for Term Deposits. In this notebook we will look at Simple Static and Constant Time Value of Money models. See the [support page](https://support.lusid.com/knowledgebase/article/KA-01980/en-us) for more details."
   ]
  },
  {
   "cell_type": "code",
   "execution_count": 187,
   "metadata": {
    "pycharm": {
     "name": "#%%\n"
    }
   },
   "outputs": [],
   "source": [
    "# Define recipe names\n",
    "CTVoMRecipe = \"TermDepositRecipeCTVoM\"\n",
    "SSRecipe = \"TermDepositRecipeSS\"\n",
    "\n",
    "# Create recipes in LUSID\n",
    "CTVoMResponse = create_recipe(CTVoMRecipe, \"ConstantTimeValueOfMoney\")\n",
    "SSResponse = create_recipe(SSRecipe, \"SimpleStatic\")"
   ]
  },
  {
   "cell_type": "code",
   "execution_count": 188,
   "metadata": {
    "pycharm": {
     "name": "#%%\n"
    }
   },
   "outputs": [],
   "source": [
    "# Helper method runs a valuation on the portfolio for a given date and recipe\n",
    "def perform_valuation(recipe, date):\n",
    "    # Create valuation request\n",
    "    valuation_request = lm.ValuationRequest(\n",
    "        # Choose recipe to use\n",
    "        recipe_id = lm.ResourceId(scope = scope, code = recipe),\n",
    "        group_by = ['Instrument/default/ClientInternal'],\n",
    "        metrics = [\n",
    "        {\"key\": \"Instrument/default/ClientInternal\", \"op\": \"Value\"},\n",
    "        {\"key\": \"Instrument/default/Name\", \"op\": \"Value\"},              # Reports the friendly name of the underlying instrument\n",
    "        {\"key\": \"Analytic/default/ValuationDate\", \"op\": \"Value\"},       # Confirms the valuation date\n",
    "        {\"key\": \"Valuation/PV\", \"op\": \"Sum\"}],                          # Calculates cost in GBP (the portfolio currency)\n",
    "        # Identify portfolio to value\n",
    "        portfolio_entity_ids = [lm.PortfolioEntityId(scope = scope, code = portfolio_code)],\n",
    "        # Make date of valuation conditional on effective at date passed into function\n",
    "        valuation_schedule = lm.ValuationSchedule(effective_at=date.isoformat()),\n",
    "    )\n",
    "\n",
    "    # Get portfolio valuation\n",
    "    val_data = aggregation_api.get_valuation(valuation_request = valuation_request).data\n",
    "\n",
    "    # Turn valuation response into pandas dataframe\n",
    "    vals_df = pd.DataFrame(val_data)\n",
    "    try:\n",
    "        return vals_df.drop('Aggregation Errors', axis=1)\n",
    "    except:\n",
    "        return vals_df"
   ]
  },
  {
   "cell_type": "markdown",
   "metadata": {
    "pycharm": {
     "name": "#%% md\n"
    }
   },
   "source": [
    "Performing a valuation using Constant Time Value of Money (CTVoM) Model on the portfolio after the `Term Deposit A` settlement date, shows a valuation with a ~1.5% return of initial investment $\\$1,000,000.\n",
    "This is due to the 3% return defined on the Term Deposit and 6 month maturity with a 6 month payment schedule, so if the deposit was held until maturity it would pay out 1/2 of 3%."
   ]
  },
  {
   "cell_type": "code",
   "execution_count": 189,
   "metadata": {
    "pycharm": {
     "name": "#%%\n"
    }
   },
   "outputs": [
    {
     "data": {
      "text/html": [
       "<div>\n",
       "<style scoped>\n",
       "    .dataframe tbody tr th:only-of-type {\n",
       "        vertical-align: middle;\n",
       "    }\n",
       "\n",
       "    .dataframe tbody tr th {\n",
       "        vertical-align: top;\n",
       "    }\n",
       "\n",
       "    .dataframe thead th {\n",
       "        text-align: right;\n",
       "    }\n",
       "</style>\n",
       "<table border=\"1\" class=\"dataframe\">\n",
       "  <thead>\n",
       "    <tr style=\"text-align: right;\">\n",
       "      <th></th>\n",
       "      <th>Instrument/default/ClientInternal</th>\n",
       "      <th>Instrument/default/Name</th>\n",
       "      <th>Analytic/default/ValuationDate</th>\n",
       "      <th>Sum(Valuation/PV)</th>\n",
       "    </tr>\n",
       "  </thead>\n",
       "  <tbody>\n",
       "    <tr>\n",
       "      <th>0</th>\n",
       "      <td>None</td>\n",
       "      <td>USD</td>\n",
       "      <td>2020-03-18T00:00:00.0000000+00:00</td>\n",
       "      <td>0.0000</td>\n",
       "    </tr>\n",
       "    <tr>\n",
       "      <th>1</th>\n",
       "      <td>TD_Inst_A</td>\n",
       "      <td>Term Deposit Instrument A</td>\n",
       "      <td>2020-03-18T00:00:00.0000000+00:00</td>\n",
       "      <td>15,333.3333</td>\n",
       "    </tr>\n",
       "  </tbody>\n",
       "</table>\n",
       "</div>"
      ],
      "text/plain": [
       "  Instrument/default/ClientInternal    Instrument/default/Name  \\\n",
       "0                              None                        USD   \n",
       "1                         TD_Inst_A  Term Deposit Instrument A   \n",
       "\n",
       "      Analytic/default/ValuationDate  Sum(Valuation/PV)  \n",
       "0  2020-03-18T00:00:00.0000000+00:00             0.0000  \n",
       "1  2020-03-18T00:00:00.0000000+00:00        15,333.3333  "
      ]
     },
     "execution_count": 189,
     "metadata": {},
     "output_type": "execute_result"
    }
   ],
   "source": [
    "perform_valuation(CTVoMRecipe,start_date)"
   ]
  },
  {
   "cell_type": "markdown",
   "metadata": {},
   "source": [
    "For Simple Static valuations in LUSID we must provide a quote for the instrument. The date of the quote should be within 5 days of the valuation date.\n",
    "In this example we will set the quote and valuation date at the start of the `Term Deposit A`."
   ]
  },
  {
   "cell_type": "code",
   "execution_count": 190,
   "metadata": {
    "pycharm": {
     "name": "#%%\n"
    }
   },
   "outputs": [],
   "source": [
    "# Helper method to upsert a quote\n",
    "def upsert_quote(client_internal, date, rate):\n",
    "    quote_request = {\n",
    "       \"quote_request\" : lm.UpsertQuoteRequest(\n",
    "            quote_id=lm.QuoteId(\n",
    "                quote_series_id=lm.QuoteSeriesId(\n",
    "                    provider=\"Lusid\",\n",
    "                    instrument_id=client_internal,\n",
    "                    instrument_id_type=\"ClientInternal\",\n",
    "                    quote_type=\"Price\",\n",
    "                    field=\"mid\",\n",
    "                ),\n",
    "                effective_at=date.isoformat(),\n",
    "            ),\n",
    "            metric_value=lm.MetricValue(value=rate, unit=\"USD\"),\n",
    "        )}\n",
    "\n",
    "    # Upsert the quotes into LUSID\n",
    "    response = quotes_api.upsert_quotes(scope=scope, request_body=quote_request)\n",
    "    display( f\"Successfully upserted quote for instrument: {response.values['quote_request'].quote_id.quote_series_id.instrument_id} with date:{date}\")"
   ]
  },
  {
   "cell_type": "markdown",
   "metadata": {},
   "source": [
    " The quote defined below has a rate of 6%, this is defined by setting `value=1.06`."
   ]
  },
  {
   "cell_type": "code",
   "execution_count": 191,
   "metadata": {
    "pycharm": {
     "name": "#%%\n"
    }
   },
   "outputs": [
    {
     "data": {
      "text/plain": [
       "'Successfully upserted quote for instrument: TD_Inst_A with date:2020-03-18 00:00:00+00:00'"
      ]
     },
     "metadata": {},
     "output_type": "display_data"
    }
   ],
   "source": [
    "upsert_quote(td_client_a, start_date, 1.06)"
   ]
  },
  {
   "cell_type": "markdown",
   "metadata": {
    "pycharm": {
     "name": "#%% md\n"
    }
   },
   "source": [
    "Performing valuation using Constant Time Value of Money Model on the portfolio after the `Term Deposit A` settlement date shows a valuation with a ~6% return of initial investment $\\$1,000,000.\n",
    "This is due to the 6% return defined on the quote definition above."
   ]
  },
  {
   "cell_type": "code",
   "execution_count": 192,
   "metadata": {
    "pycharm": {
     "name": "#%%\n"
    }
   },
   "outputs": [
    {
     "data": {
      "text/html": [
       "<div>\n",
       "<style scoped>\n",
       "    .dataframe tbody tr th:only-of-type {\n",
       "        vertical-align: middle;\n",
       "    }\n",
       "\n",
       "    .dataframe tbody tr th {\n",
       "        vertical-align: top;\n",
       "    }\n",
       "\n",
       "    .dataframe thead th {\n",
       "        text-align: right;\n",
       "    }\n",
       "</style>\n",
       "<table border=\"1\" class=\"dataframe\">\n",
       "  <thead>\n",
       "    <tr style=\"text-align: right;\">\n",
       "      <th></th>\n",
       "      <th>Instrument/default/ClientInternal</th>\n",
       "      <th>Instrument/default/Name</th>\n",
       "      <th>Analytic/default/ValuationDate</th>\n",
       "      <th>Sum(Valuation/PV)</th>\n",
       "    </tr>\n",
       "  </thead>\n",
       "  <tbody>\n",
       "    <tr>\n",
       "      <th>0</th>\n",
       "      <td>None</td>\n",
       "      <td>USD</td>\n",
       "      <td>2020-03-18T00:00:00.0000000+00:00</td>\n",
       "      <td>0.0000</td>\n",
       "    </tr>\n",
       "    <tr>\n",
       "      <th>1</th>\n",
       "      <td>TD_Inst_A</td>\n",
       "      <td>Term Deposit Instrument A</td>\n",
       "      <td>2020-03-18T00:00:00.0000000+00:00</td>\n",
       "      <td>1,060,000.0000</td>\n",
       "    </tr>\n",
       "  </tbody>\n",
       "</table>\n",
       "</div>"
      ],
      "text/plain": [
       "  Instrument/default/ClientInternal    Instrument/default/Name  \\\n",
       "0                              None                        USD   \n",
       "1                         TD_Inst_A  Term Deposit Instrument A   \n",
       "\n",
       "      Analytic/default/ValuationDate  Sum(Valuation/PV)  \n",
       "0  2020-03-18T00:00:00.0000000+00:00             0.0000  \n",
       "1  2020-03-18T00:00:00.0000000+00:00     1,060,000.0000  "
      ]
     },
     "execution_count": 192,
     "metadata": {},
     "output_type": "execute_result"
    }
   ],
   "source": [
    "perform_valuation(SSRecipe,start_date)"
   ]
  },
  {
   "cell_type": "markdown",
   "metadata": {},
   "source": [
    "## 6. Setup Cashflows\n",
    "\n",
    "When Term Deposit reaches maturity we will receive a payment of the notional initial amount invested + interest. \n",
    "\n",
    "In LUSID we can call the `get_upsertable_portfolio_cash_flows` to get a transaction which represents the cash returned to the portfolio when a Term Deposit reaches maturity. This Cashflow for Term Deposits is represented in LUSID by 2 transactions: `Notional` and `Interest`.\n",
    "\n",
    "In this notebook we will always use CTVoM model for cashflow calculations."
   ]
  },
  {
   "cell_type": "code",
   "execution_count": 193,
   "metadata": {
    "pycharm": {
     "name": "#%%\n"
    }
   },
   "outputs": [],
   "source": [
    "# Helper method to get cashflow in the portfolio over a given time period from start date to maturity.\n",
    "def get_cashflow(start_date, maturity_date, recipe=CTVoMRecipe):\n",
    "    resp = transaction_portfolios_api.get_upsertable_portfolio_cash_flows(\n",
    "        scope=scope,\n",
    "        code=portfolio_code,\n",
    "        effective_at=maturity_date-timedelta(days=1),\n",
    "        window_start=start_date-timedelta(days=1),\n",
    "        window_end=maturity_date + timedelta(days=2),\n",
    "        recipe_id_scope=scope,\n",
    "        recipe_id_code=recipe\n",
    "    )\n",
    "    return resp.values"
   ]
  },
  {
   "cell_type": "markdown",
   "metadata": {},
   "source": [
    "In the cells below, we show how to add the `Notional` and `Interest` transaction type to the domain's transaction config and associate it to CashFlow with a special system property under the key `TransactionConfiguration/default/CashFlowType` ."
   ]
  },
  {
   "cell_type": "code",
   "execution_count": 194,
   "metadata": {
    "code_folding": [
     4
    ]
   },
   "outputs": [],
   "source": [
    "# First add default side definitions to the non-default transaction type scope.\n",
    "default_side_definitions = [\n",
    "    lm.SidesDefinitionRequest(\n",
    "        side=\"Side1\", \n",
    "        side_request=lm.SideDefinitionRequest(\n",
    "            security=\"Txn:LusidInstrumentId\",\n",
    "            currency=\"Txn:TradeCurrency\",\n",
    "            rate=\"Txn:TradeToPortfolioRate\",\n",
    "            units=\"Txn:Units\",\n",
    "            amount=\"Txn:TradeAmount\")),\n",
    "    lm.SidesDefinitionRequest(\n",
    "        side=\"Side2\", \n",
    "        side_request=lm.SideDefinitionRequest(\n",
    "            security=\"Txn:SettleCcy\",\n",
    "            currency=\"Txn:SettlementCurrency\",\n",
    "            rate=\"SettledToPortfolioRate\",\n",
    "            units=\"Txn:TotalConsideration\",\n",
    "            amount=\"Txn:TotalConsideration\"))\n",
    "]\n",
    "\n",
    "transaction_configuration_api.set_side_definitions(default_side_definitions, scope = transaction_type_scope)\n",
    "\n",
    "# Add default transaction types\n",
    "default_transaction_mapping=open('data/default_transaction_mapping.json').read()\n",
    "default_transaction_mapping = json.loads(default_transaction_mapping)\n",
    "\n",
    "def map_properties(properties):\n",
    "    return {property[\"key\"]: lm.PerpetualProperty(property[\"key\"], lm.PropertyValue(property[\"value\"])) for property in properties}\n",
    "def map_alias(alias):\n",
    "    return lm.TransactionTypeAlias(alias[\"type\"], alias[\"description\"], alias[\"transactionClass\"], alias[\"transactionRoles\"])\n",
    "def map_movement(movement):\n",
    "    return lm.TransactionTypeMovement(movement[\"movementTypes\"], movement[\"side\"], movement[\"direction\"], map_properties(movement[\"properties\"]))\n",
    "def map_transaction_type_request(transaction_type_request):\n",
    "    return lm.TransactionTypeRequest(\n",
    "        [map_alias(alias) for alias in transaction_type_request[\"aliases\"]],\n",
    "        [map_movement(movement) for movement in transaction_type_request[\"movements\"]],\n",
    "        map_properties(transaction_type_request[\"properties\"]))\n",
    "\n",
    "for configuration in default_transaction_mapping:\n",
    "    transaction_type_requests = [map_transaction_type_request(transaction_type_request) for transaction_type_request in configuration[\"transactionTypeRequests\"]]\n",
    "    \n",
    "    # Call LUSID to set your configuration for our transaction types\n",
    "    transaction_configuration_api.set_transaction_type_source(\n",
    "        source=configuration[\"source\"],\n",
    "        transaction_type_request=transaction_type_requests,\n",
    "        scope=transaction_type_scope\n",
    "    )\n",
    "\n",
    "# Create a transaction config request for Notional transaction type\n",
    "new_notional_transaction_config = lm.TransactionTypeRequest(\n",
    "    aliases=[\n",
    "        lm.TransactionTypeAlias(\n",
    "            type=\"Notional\",\n",
    "            description=\"A notional cashflow transaction for term instrument.\",\n",
    "            transaction_class=\"default\",\n",
    "            transaction_roles=\"AllRoles\",\n",
    "        )\n",
    "    ],\n",
    "    movements=[\n",
    "        # Carry movement to correctly attribute P&L\n",
    "        lm.TransactionTypeMovement(\n",
    "            movement_types=\"Carry\",\n",
    "            side=\"Side1\",\n",
    "            direction=1,\n",
    "            properties={},\n",
    "            mappings=[]\n",
    "        ),\n",
    "        # CashReceivable movement to increment cash by notional amount\n",
    "        lm.TransactionTypeMovement(\n",
    "            movement_types=\"CashReceivable\",\n",
    "            side=\"Side2\",\n",
    "            direction=1,\n",
    "            properties={},\n",
    "            mappings=[],\n",
    "        ),\n",
    "    ],\n",
    "    # Special internal property that associates the instrument to this movement\n",
    "    properties={\n",
    "                \"TransactionConfiguration/default/CashFlowType\": lm.PerpetualProperty(\n",
    "                    key=\"TransactionConfiguration/default/CashFlowType\",\n",
    "                    value=lm.PropertyValue(\n",
    "                        label_value=\"Notional\"\n",
    "                    )\n",
    "                )\n",
    "            },\n",
    ")\n",
    "\n",
    "# Upsert the Notional transaction type to LUSID\n",
    "new_notional_config = transaction_configuration_api.set_transaction_type(\n",
    "    source=\"default\",\n",
    "    type=\"Notional\",\n",
    "    transaction_type_request=new_notional_transaction_config,\n",
    "    scope=transaction_type_scope\n",
    ")"
   ]
  },
  {
   "cell_type": "code",
   "execution_count": 195,
   "metadata": {},
   "outputs": [],
   "source": [
    "# Create a transaction config request for Interest transaction type\n",
    "new_interest_transaction_config = lm.TransactionTypeRequest(\n",
    "    aliases=[\n",
    "        lm.TransactionTypeAlias(\n",
    "            type=\"Interest\",\n",
    "            description=\"A cashflow transaction for the interest of a term instrument.\",\n",
    "            transaction_class=\"default\",\n",
    "            transaction_roles=\"AllRoles\",\n",
    "        )\n",
    "    ],\n",
    "    movements=[\n",
    "        # Carry movement to correctly attribute P&L\n",
    "        lm.TransactionTypeMovement(\n",
    "            movement_types=\"Carry\",\n",
    "            side=\"Side1\",\n",
    "            direction=1,\n",
    "            properties={},\n",
    "            mappings=[]\n",
    "        ),\n",
    "        # CashReceivable movement to increment cash by notional amount\n",
    "        lm.TransactionTypeMovement(\n",
    "            movement_types=\"CashReceivable\",\n",
    "            side=\"Side2\",\n",
    "            direction=1,\n",
    "            properties={},\n",
    "            mappings=[],\n",
    "        ),\n",
    "    ],\n",
    "    # Special internal property that associates the instrument to this movement\n",
    "    properties={\n",
    "                \"TransactionConfiguration/default/CashFlowType\": lm.PerpetualProperty(\n",
    "                    key=\"TransactionConfiguration/default/CashFlowType\",\n",
    "                    value=lm.PropertyValue(\n",
    "                        label_value=\"Interest\"\n",
    "                    )\n",
    "                )\n",
    "            },\n",
    ")\n",
    "\n",
    "\n",
    "# Upsert the Interest transaction type to LUSID\n",
    "new_int_config = transaction_configuration_api.set_transaction_type(\n",
    "    source=\"default\",\n",
    "    type=\"Interest\",\n",
    "    transaction_type_request=new_interest_transaction_config,\n",
    "    scope=transaction_type_scope\n",
    ")\n",
    "\n",
    "\n",
    "# Having upserted the transaction types into a non-default scope, call LUSID to update the transaction type scope of your portfolio \n",
    "patch_document = [\n",
    "    {\n",
    "        \"value\": transaction_type_scope,\n",
    "        \"path\": \"/transactiontypescope\",\n",
    "        \"op\": \"add\"\n",
    "    }\n",
    "]\n",
    "patch_response = transaction_portfolios_api.patch_portfolio_details(\n",
    "    scope=scope,\n",
    "    code=portfolio_code,\n",
    "    operation=patch_document)"
   ]
  },
  {
   "cell_type": "markdown",
   "metadata": {
    "pycharm": {
     "name": "#%% md\n"
    }
   },
   "source": [
    "## 7. Rolling a Term Deposit\n",
    "In LUSID we handle rolling a Term Deposit by liquidating the Term Deposit before maturity and buying it back again in the form of new Term Deposit Instrument.\n",
    "This section will show 2 example scenarios:\n",
    "1. Rolling full term deposit maturity amount\n",
    "2. Rolling the notional for the term deposit"
   ]
  },
  {
   "cell_type": "markdown",
   "metadata": {
    "pycharm": {
     "name": "#%% md\n"
    }
   },
   "source": [
    "\n",
    "### 7.1 Rolling Full Term Deposit Maturity Amount\n",
    "In this example when a Term Deposit reaches maturity, we will roll the Term Deposit and reinvest all of the Term Deposit's return into another Term Deposit. The total invested in a Term Deposit will increase due to the interest returned at maturity.\n",
    "\n",
    "#### 7.1.1 Liquidate Term Deposit at Maturity\n",
    "When the Term Deposit matures in LUSID we will upsert a `Cashflow` transaction to represent the cash recieved at maturity and upsert a StockOut transaction to remove the Term Deposit from the portfolio.\n",
    "\n",
    "Running the cell below upserts the `Cashflow` transaction to LUSID. In the table below can see the Notional and Interest transactions, that we have configured previously.\n",
    "The Notional transaction returns the initial amount invested, which in this example is $\\$1,000,000.00.\n",
    "The Interest transaction returns the interest accrued on the Term Deposit, which in this example is $\\$15,333.33."
   ]
  },
  {
   "cell_type": "code",
   "execution_count": 196,
   "metadata": {
    "pycharm": {
     "name": "#%%\n"
    }
   },
   "outputs": [
    {
     "data": {
      "text/html": [
       "<div>\n",
       "<style scoped>\n",
       "    .dataframe tbody tr th:only-of-type {\n",
       "        vertical-align: middle;\n",
       "    }\n",
       "\n",
       "    .dataframe tbody tr th {\n",
       "        vertical-align: top;\n",
       "    }\n",
       "\n",
       "    .dataframe thead th {\n",
       "        text-align: right;\n",
       "    }\n",
       "</style>\n",
       "<table border=\"1\" class=\"dataframe\">\n",
       "  <thead>\n",
       "    <tr style=\"text-align: right;\">\n",
       "      <th></th>\n",
       "      <th>transaction_id</th>\n",
       "      <th>type</th>\n",
       "      <th>instrument_identifiers.Instrument/default/ClientInternal</th>\n",
       "      <th>instrument_uid</th>\n",
       "      <th>transaction_price.price</th>\n",
       "      <th>total_consideration.amount</th>\n",
       "      <th>units</th>\n",
       "      <th>transaction_date</th>\n",
       "      <th>settlement_date</th>\n",
       "    </tr>\n",
       "  </thead>\n",
       "  <tbody>\n",
       "    <tr>\n",
       "      <th>2</th>\n",
       "      <td>txn001-LUID_00003DET-20200918-Interest-USD-Rec...</td>\n",
       "      <td>Interest</td>\n",
       "      <td>NaN</td>\n",
       "      <td>LUID_00003DET</td>\n",
       "      <td>1.0000</td>\n",
       "      <td>15,333.3333</td>\n",
       "      <td>15,333.3333</td>\n",
       "      <td>2020-09-18 00:00:00+00:00</td>\n",
       "      <td>2020-09-18 00:00:00+00:00</td>\n",
       "    </tr>\n",
       "    <tr>\n",
       "      <th>3</th>\n",
       "      <td>txn001-LUID_00003DET-20200918-Notional-USD-Rec...</td>\n",
       "      <td>Notional</td>\n",
       "      <td>NaN</td>\n",
       "      <td>LUID_00003DET</td>\n",
       "      <td>1.0000</td>\n",
       "      <td>1,000,000.0000</td>\n",
       "      <td>1,000,000.0000</td>\n",
       "      <td>2020-09-18 00:00:00+00:00</td>\n",
       "      <td>2020-09-18 00:00:00+00:00</td>\n",
       "    </tr>\n",
       "  </tbody>\n",
       "</table>\n",
       "</div>"
      ],
      "text/plain": [
       "                                      transaction_id      type  \\\n",
       "2  txn001-LUID_00003DET-20200918-Interest-USD-Rec...  Interest   \n",
       "3  txn001-LUID_00003DET-20200918-Notional-USD-Rec...  Notional   \n",
       "\n",
       "  instrument_identifiers.Instrument/default/ClientInternal instrument_uid  \\\n",
       "2                                                NaN        LUID_00003DET   \n",
       "3                                                NaN        LUID_00003DET   \n",
       "\n",
       "   transaction_price.price  total_consideration.amount          units  \\\n",
       "2                   1.0000                 15,333.3333    15,333.3333   \n",
       "3                   1.0000              1,000,000.0000 1,000,000.0000   \n",
       "\n",
       "           transaction_date           settlement_date  \n",
       "2 2020-09-18 00:00:00+00:00 2020-09-18 00:00:00+00:00  \n",
       "3 2020-09-18 00:00:00+00:00 2020-09-18 00:00:00+00:00  "
      ]
     },
     "execution_count": 196,
     "metadata": {},
     "output_type": "execute_result"
    }
   ],
   "source": [
    "cashflow_txns = get_cashflow(start_date, maturity_date_A)\n",
    "response = transaction_portfolios_api.upsert_transactions(\n",
    "    scope=scope,\n",
    "    code=portfolio_code,\n",
    "    transaction_request=cashflow_txns\n",
    ")\n",
    "view_transaction_in_lusid([c.transaction_id for c in cashflow_txns])"
   ]
  },
  {
   "cell_type": "markdown",
   "metadata": {
    "pycharm": {
     "name": "#%% md\n"
    }
   },
   "source": [
    "Now that `Term Deposit Instrument A` has matured we will remove this instrument from the portfolio. The `StockOut` transaction type has no effect on the cash balance, it just moves the instrument out of the portfolio."
   ]
  },
  {
   "cell_type": "code",
   "execution_count": 197,
   "metadata": {
    "pycharm": {
     "name": "#%%\n"
    }
   },
   "outputs": [
    {
     "data": {
      "text/html": [
       "<div>\n",
       "<style scoped>\n",
       "    .dataframe tbody tr th:only-of-type {\n",
       "        vertical-align: middle;\n",
       "    }\n",
       "\n",
       "    .dataframe tbody tr th {\n",
       "        vertical-align: top;\n",
       "    }\n",
       "\n",
       "    .dataframe thead th {\n",
       "        text-align: right;\n",
       "    }\n",
       "</style>\n",
       "<table border=\"1\" class=\"dataframe\">\n",
       "  <thead>\n",
       "    <tr style=\"text-align: right;\">\n",
       "      <th></th>\n",
       "      <th>transaction_id</th>\n",
       "      <th>type</th>\n",
       "      <th>instrument_identifiers.Instrument/default/ClientInternal</th>\n",
       "      <th>instrument_uid</th>\n",
       "      <th>transaction_price.price</th>\n",
       "      <th>total_consideration.amount</th>\n",
       "      <th>units</th>\n",
       "      <th>transaction_date</th>\n",
       "      <th>settlement_date</th>\n",
       "    </tr>\n",
       "  </thead>\n",
       "  <tbody>\n",
       "    <tr>\n",
       "      <th>4</th>\n",
       "      <td>txn002</td>\n",
       "      <td>StockOut</td>\n",
       "      <td>TD_Inst_A</td>\n",
       "      <td>LUID_00003DET</td>\n",
       "      <td>1.0000</td>\n",
       "      <td>1,000,000.0000</td>\n",
       "      <td>1,000,000.0000</td>\n",
       "      <td>2020-09-18 00:00:00+00:00</td>\n",
       "      <td>2020-09-21 00:00:00+00:00</td>\n",
       "    </tr>\n",
       "  </tbody>\n",
       "</table>\n",
       "</div>"
      ],
      "text/plain": [
       "  transaction_id      type  \\\n",
       "4         txn002  StockOut   \n",
       "\n",
       "  instrument_identifiers.Instrument/default/ClientInternal instrument_uid  \\\n",
       "4                                          TD_Inst_A        LUID_00003DET   \n",
       "\n",
       "   transaction_price.price  total_consideration.amount          units  \\\n",
       "4                   1.0000              1,000,000.0000 1,000,000.0000   \n",
       "\n",
       "           transaction_date           settlement_date  \n",
       "4 2020-09-18 00:00:00+00:00 2020-09-21 00:00:00+00:00  "
      ]
     },
     "execution_count": 197,
     "metadata": {},
     "output_type": "execute_result"
    }
   ],
   "source": [
    "upsert_transaction(\n",
    "    txn_id=\"txn002\", \n",
    "    type=\"StockOut\", \n",
    "    luid=td_luid_a, \n",
    "    client_internal=td_client_a, \n",
    "    txn_date=maturity_date_A, \n",
    "    total_consideration=1000000)"
   ]
  },
  {
   "cell_type": "markdown",
   "metadata": {
    "pycharm": {
     "name": "#%% md\n"
    }
   },
   "source": [
    "#### 7.1.2 Reinvest the Matured Term Deposit's Returns\n",
    "To represent rolling a Term Deposit in this section we will buy a new Term Deposit Instrument.\n",
    "The new instrument defined below, `Term Deposit B`, will have a new start and maturity date but will have the same maturity time as `Term Deposit A` and an interest rate of 4%."
   ]
  },
  {
   "cell_type": "code",
   "execution_count": 198,
   "metadata": {
    "pycharm": {
     "name": "#%%\n"
    }
   },
   "outputs": [],
   "source": [
    "maturity_date_B = datetime(2021, 3, 18, 00, tzinfo=pytz.utc)"
   ]
  },
  {
   "cell_type": "code",
   "execution_count": 199,
   "metadata": {
    "pycharm": {
     "name": "#%%\n"
    }
   },
   "outputs": [
    {
     "name": "stdout",
     "output_type": "stream",
     "text": [
      "Created instrument with LUID:LUID_00003DF4 and ClientInternal:TD_Inst_B\n"
     ]
    }
   ],
   "source": [
    "td_client_b = \"TD_Inst_B\"\n",
    "td_luid_b  = create_td_instrument(\n",
    "    name=\"Term Deposit Instrument B\",\n",
    "    identifier=td_client_b,\n",
    "    start_date=maturity_date_A,\n",
    "    maturity_date=maturity_date_B,\n",
    "    flow_convention=flow_conventions,\n",
    "    rate=0.04\n",
    ")"
   ]
  },
  {
   "cell_type": "markdown",
   "metadata": {
    "pycharm": {
     "name": "#%% md\n"
    }
   },
   "source": [
    "We will now invest all of the cash returned from `Term Deposit A` into `Term Deposit B`.\n",
    "In LUSID we show this by buying `Term Deposit B` instrument, with the total consideration equalling the returns from `Term Deposit A`."
   ]
  },
  {
   "cell_type": "code",
   "execution_count": 200,
   "metadata": {
    "pycharm": {
     "name": "#%%\n"
    }
   },
   "outputs": [
    {
     "data": {
      "text/html": [
       "<div>\n",
       "<style scoped>\n",
       "    .dataframe tbody tr th:only-of-type {\n",
       "        vertical-align: middle;\n",
       "    }\n",
       "\n",
       "    .dataframe tbody tr th {\n",
       "        vertical-align: top;\n",
       "    }\n",
       "\n",
       "    .dataframe thead th {\n",
       "        text-align: right;\n",
       "    }\n",
       "</style>\n",
       "<table border=\"1\" class=\"dataframe\">\n",
       "  <thead>\n",
       "    <tr style=\"text-align: right;\">\n",
       "      <th></th>\n",
       "      <th>transaction_id</th>\n",
       "      <th>type</th>\n",
       "      <th>instrument_identifiers.Instrument/default/ClientInternal</th>\n",
       "      <th>instrument_uid</th>\n",
       "      <th>transaction_price.price</th>\n",
       "      <th>total_consideration.amount</th>\n",
       "      <th>units</th>\n",
       "      <th>transaction_date</th>\n",
       "      <th>settlement_date</th>\n",
       "    </tr>\n",
       "  </thead>\n",
       "  <tbody>\n",
       "    <tr>\n",
       "      <th>5</th>\n",
       "      <td>txn003</td>\n",
       "      <td>Buy</td>\n",
       "      <td>TD_Inst_B</td>\n",
       "      <td>LUID_00003DEU</td>\n",
       "      <td>1.0000</td>\n",
       "      <td>1,000,000.0000</td>\n",
       "      <td>1,000,000.0000</td>\n",
       "      <td>2020-09-18 00:00:00+00:00</td>\n",
       "      <td>2020-09-21 00:00:00+00:00</td>\n",
       "    </tr>\n",
       "  </tbody>\n",
       "</table>\n",
       "</div>"
      ],
      "text/plain": [
       "  transaction_id type  \\\n",
       "5         txn003  Buy   \n",
       "\n",
       "  instrument_identifiers.Instrument/default/ClientInternal instrument_uid  \\\n",
       "5                                          TD_Inst_B        LUID_00003DEU   \n",
       "\n",
       "   transaction_price.price  total_consideration.amount          units  \\\n",
       "5                   1.0000              1,000,000.0000 1,000,000.0000   \n",
       "\n",
       "           transaction_date           settlement_date  \n",
       "5 2020-09-18 00:00:00+00:00 2020-09-21 00:00:00+00:00  "
      ]
     },
     "execution_count": 200,
     "metadata": {},
     "output_type": "execute_result"
    }
   ],
   "source": [
    "inst_A_cashflow_amount = cashflow_txns[0].total_consideration.amount\n",
    "\n",
    "upsert_transaction(\n",
    "    txn_id=\"txn003\", \n",
    "    type=\"Buy\", \n",
    "    luid=td_luid_b, \n",
    "    client_internal=td_client_b, \n",
    "    txn_date=maturity_date_A, \n",
    "    total_consideration=inst_A_cashflow_amount)"
   ]
  },
  {
   "cell_type": "markdown",
   "metadata": {
    "pycharm": {
     "name": "#%% md\n"
    }
   },
   "source": [
    "The transactions table below shows the transactions in the portoflio that have happened by the maturity date of `Term Deposit A`.\n",
    "We can see the `StockOut` transaction removing `Term Deposit A` from the portfolio at maturity and the `CashFlow` transaction which realises the cash value of the deposit. The `Buy` transaction represents reinvesting $\\$1,015,333.3333 in `Term Deposit B`."
   ]
  },
  {
   "cell_type": "code",
   "execution_count": 201,
   "metadata": {
    "pycharm": {
     "name": "#%%\n"
    }
   },
   "outputs": [
    {
     "data": {
      "text/html": [
       "<div>\n",
       "<style scoped>\n",
       "    .dataframe tbody tr th:only-of-type {\n",
       "        vertical-align: middle;\n",
       "    }\n",
       "\n",
       "    .dataframe tbody tr th {\n",
       "        vertical-align: top;\n",
       "    }\n",
       "\n",
       "    .dataframe thead th {\n",
       "        text-align: right;\n",
       "    }\n",
       "</style>\n",
       "<table border=\"1\" class=\"dataframe\">\n",
       "  <thead>\n",
       "    <tr style=\"text-align: right;\">\n",
       "      <th></th>\n",
       "      <th>transaction_id</th>\n",
       "      <th>type</th>\n",
       "      <th>ClientInternal</th>\n",
       "      <th>LusidInstrumentId</th>\n",
       "      <th>total_consideration.amount</th>\n",
       "      <th>units</th>\n",
       "      <th>transaction_date</th>\n",
       "      <th>settlement_date</th>\n",
       "      <th>transaction_price.price</th>\n",
       "    </tr>\n",
       "  </thead>\n",
       "  <tbody>\n",
       "    <tr>\n",
       "      <th>0</th>\n",
       "      <td>txn000</td>\n",
       "      <td>FundsIn</td>\n",
       "      <td>cash_USD</td>\n",
       "      <td>CCY_USD</td>\n",
       "      <td>1.0000</td>\n",
       "      <td>1,000,000.0000</td>\n",
       "      <td>2020-03-10 00:00:00+00:00</td>\n",
       "      <td>2020-03-13 00:00:00+00:00</td>\n",
       "      <td>1.0000</td>\n",
       "    </tr>\n",
       "    <tr>\n",
       "      <th>1</th>\n",
       "      <td>txn001</td>\n",
       "      <td>Buy</td>\n",
       "      <td>TD_Inst_A</td>\n",
       "      <td>LUID_00003DET</td>\n",
       "      <td>1,000,000.0000</td>\n",
       "      <td>1,000,000.0000</td>\n",
       "      <td>2020-03-18 00:00:00+00:00</td>\n",
       "      <td>2020-03-21 00:00:00+00:00</td>\n",
       "      <td>1.0000</td>\n",
       "    </tr>\n",
       "    <tr>\n",
       "      <th>2</th>\n",
       "      <td>txn001-LUID_00003DET-20200918-Interest-USD-Rec...</td>\n",
       "      <td>Interest</td>\n",
       "      <td>NaN</td>\n",
       "      <td>LUID_00003DET</td>\n",
       "      <td>15,333.3333</td>\n",
       "      <td>15,333.3333</td>\n",
       "      <td>2020-09-18 00:00:00+00:00</td>\n",
       "      <td>2020-09-18 00:00:00+00:00</td>\n",
       "      <td>1.0000</td>\n",
       "    </tr>\n",
       "    <tr>\n",
       "      <th>3</th>\n",
       "      <td>txn001-LUID_00003DET-20200918-Notional-USD-Rec...</td>\n",
       "      <td>Notional</td>\n",
       "      <td>NaN</td>\n",
       "      <td>LUID_00003DET</td>\n",
       "      <td>1,000,000.0000</td>\n",
       "      <td>1,000,000.0000</td>\n",
       "      <td>2020-09-18 00:00:00+00:00</td>\n",
       "      <td>2020-09-18 00:00:00+00:00</td>\n",
       "      <td>1.0000</td>\n",
       "    </tr>\n",
       "    <tr>\n",
       "      <th>4</th>\n",
       "      <td>txn002</td>\n",
       "      <td>StockOut</td>\n",
       "      <td>TD_Inst_A</td>\n",
       "      <td>LUID_00003DET</td>\n",
       "      <td>1,000,000.0000</td>\n",
       "      <td>1,000,000.0000</td>\n",
       "      <td>2020-09-18 00:00:00+00:00</td>\n",
       "      <td>2020-09-21 00:00:00+00:00</td>\n",
       "      <td>1.0000</td>\n",
       "    </tr>\n",
       "    <tr>\n",
       "      <th>5</th>\n",
       "      <td>txn003</td>\n",
       "      <td>Buy</td>\n",
       "      <td>TD_Inst_B</td>\n",
       "      <td>LUID_00003DEU</td>\n",
       "      <td>1,000,000.0000</td>\n",
       "      <td>1,000,000.0000</td>\n",
       "      <td>2020-09-18 00:00:00+00:00</td>\n",
       "      <td>2020-09-21 00:00:00+00:00</td>\n",
       "      <td>1.0000</td>\n",
       "    </tr>\n",
       "  </tbody>\n",
       "</table>\n",
       "</div>"
      ],
      "text/plain": [
       "                                      transaction_id      type ClientInternal  \\\n",
       "0                                             txn000   FundsIn       cash_USD   \n",
       "1                                             txn001       Buy      TD_Inst_A   \n",
       "2  txn001-LUID_00003DET-20200918-Interest-USD-Rec...  Interest            NaN   \n",
       "3  txn001-LUID_00003DET-20200918-Notional-USD-Rec...  Notional            NaN   \n",
       "4                                             txn002  StockOut      TD_Inst_A   \n",
       "5                                             txn003       Buy      TD_Inst_B   \n",
       "\n",
       "  LusidInstrumentId  total_consideration.amount          units  \\\n",
       "0           CCY_USD                      1.0000 1,000,000.0000   \n",
       "1     LUID_00003DET              1,000,000.0000 1,000,000.0000   \n",
       "2     LUID_00003DET                 15,333.3333    15,333.3333   \n",
       "3     LUID_00003DET              1,000,000.0000 1,000,000.0000   \n",
       "4     LUID_00003DET              1,000,000.0000 1,000,000.0000   \n",
       "5     LUID_00003DEU              1,000,000.0000 1,000,000.0000   \n",
       "\n",
       "           transaction_date           settlement_date  transaction_price.price  \n",
       "0 2020-03-10 00:00:00+00:00 2020-03-13 00:00:00+00:00                   1.0000  \n",
       "1 2020-03-18 00:00:00+00:00 2020-03-21 00:00:00+00:00                   1.0000  \n",
       "2 2020-09-18 00:00:00+00:00 2020-09-18 00:00:00+00:00                   1.0000  \n",
       "3 2020-09-18 00:00:00+00:00 2020-09-18 00:00:00+00:00                   1.0000  \n",
       "4 2020-09-18 00:00:00+00:00 2020-09-21 00:00:00+00:00                   1.0000  \n",
       "5 2020-09-18 00:00:00+00:00 2020-09-21 00:00:00+00:00                   1.0000  "
      ]
     },
     "execution_count": 201,
     "metadata": {},
     "output_type": "execute_result"
    }
   ],
   "source": [
    "get_transactions_todate(maturity_date_A)"
   ]
  },
  {
   "cell_type": "markdown",
   "metadata": {
    "pycharm": {
     "name": "#%% md\n"
    }
   },
   "source": [
    "The table below shows the holdings in the portfolio after the transactions have settled 3 days later.\n",
    "Here we can see the `Term Deposit Instrument A` is no longer in the portfolio and has been replaced by `Term Deposit Instrument B`."
   ]
  },
  {
   "cell_type": "code",
   "execution_count": 202,
   "metadata": {
    "pycharm": {
     "name": "#%%\n"
    }
   },
   "outputs": [
    {
     "data": {
      "text/html": [
       "<div>\n",
       "<style scoped>\n",
       "    .dataframe tbody tr th:only-of-type {\n",
       "        vertical-align: middle;\n",
       "    }\n",
       "\n",
       "    .dataframe tbody tr th {\n",
       "        vertical-align: top;\n",
       "    }\n",
       "\n",
       "    .dataframe thead th {\n",
       "        text-align: right;\n",
       "    }\n",
       "</style>\n",
       "<table border=\"1\" class=\"dataframe\">\n",
       "  <thead>\n",
       "    <tr style=\"text-align: right;\">\n",
       "      <th></th>\n",
       "      <th>instrument_scope</th>\n",
       "      <th>instrument_uid</th>\n",
       "      <th>properties.Instrument/default/ClientInternal.value.label_value</th>\n",
       "      <th>properties.Instrument/default/Name.value.label_value</th>\n",
       "      <th>units</th>\n",
       "      <th>cost.amount</th>\n",
       "      <th>holding_type_name</th>\n",
       "    </tr>\n",
       "  </thead>\n",
       "  <tbody>\n",
       "    <tr>\n",
       "      <th>0</th>\n",
       "      <td>default</td>\n",
       "      <td>CCY_USD</td>\n",
       "      <td>NaN</td>\n",
       "      <td>USD</td>\n",
       "      <td>15,333.3333</td>\n",
       "      <td>15,333.3300</td>\n",
       "      <td>Balance</td>\n",
       "    </tr>\n",
       "    <tr>\n",
       "      <th>1</th>\n",
       "      <td>default</td>\n",
       "      <td>LUID_00003DEU</td>\n",
       "      <td>TD_Inst_B</td>\n",
       "      <td>Term Deposit Instrument B</td>\n",
       "      <td>1,000,000.0000</td>\n",
       "      <td>1,000,000.0000</td>\n",
       "      <td>Position</td>\n",
       "    </tr>\n",
       "  </tbody>\n",
       "</table>\n",
       "</div>"
      ],
      "text/plain": [
       "  instrument_scope instrument_uid  \\\n",
       "0          default        CCY_USD   \n",
       "1          default  LUID_00003DEU   \n",
       "\n",
       "  properties.Instrument/default/ClientInternal.value.label_value  \\\n",
       "0                                                NaN               \n",
       "1                                          TD_Inst_B               \n",
       "\n",
       "  properties.Instrument/default/Name.value.label_value          units  \\\n",
       "0                                                USD      15,333.3333   \n",
       "1                          Term Deposit Instrument B   1,000,000.0000   \n",
       "\n",
       "     cost.amount holding_type_name  \n",
       "0    15,333.3300           Balance  \n",
       "1 1,000,000.0000          Position  "
      ]
     },
     "execution_count": 202,
     "metadata": {},
     "output_type": "execute_result"
    }
   ],
   "source": [
    "get_holdings(maturity_date_A + settlement_time)"
   ]
  },
  {
   "cell_type": "markdown",
   "metadata": {
    "pycharm": {
     "name": "#%% md\n"
    }
   },
   "source": [
    "The valuation below shows the valuation for `Term Deposit Instrument B` using the CTVoM model. This value is higher than the CTVoM valuation for `Term Deposit Instrument A` due to the higher initial investment."
   ]
  },
  {
   "cell_type": "code",
   "execution_count": 203,
   "metadata": {
    "pycharm": {
     "name": "#%%\n"
    }
   },
   "outputs": [
    {
     "data": {
      "text/html": [
       "<div>\n",
       "<style scoped>\n",
       "    .dataframe tbody tr th:only-of-type {\n",
       "        vertical-align: middle;\n",
       "    }\n",
       "\n",
       "    .dataframe tbody tr th {\n",
       "        vertical-align: top;\n",
       "    }\n",
       "\n",
       "    .dataframe thead th {\n",
       "        text-align: right;\n",
       "    }\n",
       "</style>\n",
       "<table border=\"1\" class=\"dataframe\">\n",
       "  <thead>\n",
       "    <tr style=\"text-align: right;\">\n",
       "      <th></th>\n",
       "      <th>Instrument/default/ClientInternal</th>\n",
       "      <th>Instrument/default/Name</th>\n",
       "      <th>Analytic/default/ValuationDate</th>\n",
       "      <th>Sum(Valuation/PV)</th>\n",
       "    </tr>\n",
       "  </thead>\n",
       "  <tbody>\n",
       "    <tr>\n",
       "      <th>0</th>\n",
       "      <td>None</td>\n",
       "      <td>USD</td>\n",
       "      <td>2020-09-21T00:00:00.0000000+00:00</td>\n",
       "      <td>15,333.3333</td>\n",
       "    </tr>\n",
       "    <tr>\n",
       "      <th>1</th>\n",
       "      <td>TD_Inst_B</td>\n",
       "      <td>Term Deposit Instrument B</td>\n",
       "      <td>2020-09-21T00:00:00.0000000+00:00</td>\n",
       "      <td>1,020,111.1111</td>\n",
       "    </tr>\n",
       "  </tbody>\n",
       "</table>\n",
       "</div>"
      ],
      "text/plain": [
       "  Instrument/default/ClientInternal    Instrument/default/Name  \\\n",
       "0                              None                        USD   \n",
       "1                         TD_Inst_B  Term Deposit Instrument B   \n",
       "\n",
       "      Analytic/default/ValuationDate  Sum(Valuation/PV)  \n",
       "0  2020-09-21T00:00:00.0000000+00:00        15,333.3333  \n",
       "1  2020-09-21T00:00:00.0000000+00:00     1,020,111.1111  "
      ]
     },
     "execution_count": 203,
     "metadata": {},
     "output_type": "execute_result"
    }
   ],
   "source": [
    "perform_valuation(CTVoMRecipe, maturity_date_A + settlement_time)"
   ]
  },
  {
   "cell_type": "markdown",
   "metadata": {
    "pycharm": {
     "name": "#%% md\n"
    }
   },
   "source": [
    "To perform another Simple Static valuation we must upsert a new quote for the new `Term Deposit instrument B` at the roll start date.\n",
    "The Simple Static valuation below wih a 6% return of the initial investment."
   ]
  },
  {
   "cell_type": "code",
   "execution_count": 204,
   "metadata": {
    "pycharm": {
     "name": "#%%\n"
    }
   },
   "outputs": [
    {
     "data": {
      "text/plain": [
       "'Successfully upserted quote for instrument: TD_Inst_B with date:2020-09-18 00:00:00+00:00'"
      ]
     },
     "metadata": {},
     "output_type": "display_data"
    },
    {
     "data": {
      "text/plain": [
       "'Successfully upserted quote for instrument: TD_Inst_A with date:2020-09-18 00:00:00+00:00'"
      ]
     },
     "metadata": {},
     "output_type": "display_data"
    }
   ],
   "source": [
    "upsert_quote(td_client_b, maturity_date_A, 1.06)\n",
    "upsert_quote(td_client_a, maturity_date_A, 1.06)"
   ]
  },
  {
   "cell_type": "code",
   "execution_count": 205,
   "metadata": {
    "pycharm": {
     "name": "#%%\n"
    }
   },
   "outputs": [
    {
     "data": {
      "text/html": [
       "<div>\n",
       "<style scoped>\n",
       "    .dataframe tbody tr th:only-of-type {\n",
       "        vertical-align: middle;\n",
       "    }\n",
       "\n",
       "    .dataframe tbody tr th {\n",
       "        vertical-align: top;\n",
       "    }\n",
       "\n",
       "    .dataframe thead th {\n",
       "        text-align: right;\n",
       "    }\n",
       "</style>\n",
       "<table border=\"1\" class=\"dataframe\">\n",
       "  <thead>\n",
       "    <tr style=\"text-align: right;\">\n",
       "      <th></th>\n",
       "      <th>Instrument/default/ClientInternal</th>\n",
       "      <th>Instrument/default/Name</th>\n",
       "      <th>Analytic/default/ValuationDate</th>\n",
       "      <th>Sum(Valuation/PV)</th>\n",
       "    </tr>\n",
       "  </thead>\n",
       "  <tbody>\n",
       "    <tr>\n",
       "      <th>0</th>\n",
       "      <td>None</td>\n",
       "      <td>USD</td>\n",
       "      <td>2020-09-18T00:00:00.0000000+00:00</td>\n",
       "      <td>15,333.3333</td>\n",
       "    </tr>\n",
       "    <tr>\n",
       "      <th>1</th>\n",
       "      <td>TD_Inst_A</td>\n",
       "      <td>Term Deposit Instrument A</td>\n",
       "      <td>2020-09-18T00:00:00.0000000+00:00</td>\n",
       "      <td>0.0000</td>\n",
       "    </tr>\n",
       "    <tr>\n",
       "      <th>2</th>\n",
       "      <td>TD_Inst_B</td>\n",
       "      <td>Term Deposit Instrument B</td>\n",
       "      <td>2020-09-18T00:00:00.0000000+00:00</td>\n",
       "      <td>1,060,000.0000</td>\n",
       "    </tr>\n",
       "  </tbody>\n",
       "</table>\n",
       "</div>"
      ],
      "text/plain": [
       "  Instrument/default/ClientInternal    Instrument/default/Name  \\\n",
       "0                              None                        USD   \n",
       "1                         TD_Inst_A  Term Deposit Instrument A   \n",
       "2                         TD_Inst_B  Term Deposit Instrument B   \n",
       "\n",
       "      Analytic/default/ValuationDate  Sum(Valuation/PV)  \n",
       "0  2020-09-18T00:00:00.0000000+00:00        15,333.3333  \n",
       "1  2020-09-18T00:00:00.0000000+00:00             0.0000  \n",
       "2  2020-09-18T00:00:00.0000000+00:00     1,060,000.0000  "
      ]
     },
     "execution_count": 205,
     "metadata": {},
     "output_type": "execute_result"
    }
   ],
   "source": [
    "perform_valuation(SSRecipe,maturity_date_A)"
   ]
  },
  {
   "cell_type": "markdown",
   "metadata": {
    "pycharm": {
     "name": "#%% md\n"
    }
   },
   "source": [
    "## 7.2 Rolling the Notional for the Term Deposit\n",
    "In this example when a Term Deposit reaches maturity, we will roll a Term Deposit and reinvest $\\$1,000,000 in another Term Deposit with a higher interest rate.\n",
    "\n",
    "### 7.2.1 Liquidate the Term Deposit at Maturity\n",
    "As in the previous example, we first upsert the cashflow transaction. The dates for the cashflow are over the investment period of `Term Deposit B`."
   ]
  },
  {
   "cell_type": "code",
   "execution_count": 206,
   "metadata": {
    "pycharm": {
     "name": "#%%\n"
    }
   },
   "outputs": [
    {
     "data": {
      "text/html": [
       "<div>\n",
       "<style scoped>\n",
       "    .dataframe tbody tr th:only-of-type {\n",
       "        vertical-align: middle;\n",
       "    }\n",
       "\n",
       "    .dataframe tbody tr th {\n",
       "        vertical-align: top;\n",
       "    }\n",
       "\n",
       "    .dataframe thead th {\n",
       "        text-align: right;\n",
       "    }\n",
       "</style>\n",
       "<table border=\"1\" class=\"dataframe\">\n",
       "  <thead>\n",
       "    <tr style=\"text-align: right;\">\n",
       "      <th></th>\n",
       "      <th>transaction_id</th>\n",
       "      <th>type</th>\n",
       "      <th>instrument_identifiers.Instrument/default/ClientInternal</th>\n",
       "      <th>instrument_uid</th>\n",
       "      <th>transaction_price.price</th>\n",
       "      <th>total_consideration.amount</th>\n",
       "      <th>units</th>\n",
       "      <th>transaction_date</th>\n",
       "      <th>settlement_date</th>\n",
       "    </tr>\n",
       "  </thead>\n",
       "  <tbody>\n",
       "    <tr>\n",
       "      <th>6</th>\n",
       "      <td>txn003-LUID_00003DEU-20210318-Notional-USD-Rec...</td>\n",
       "      <td>Notional</td>\n",
       "      <td>NaN</td>\n",
       "      <td>LUID_00003DEU</td>\n",
       "      <td>1.0000</td>\n",
       "      <td>1,000,000.0000</td>\n",
       "      <td>1,000,000.0000</td>\n",
       "      <td>2021-03-18 00:00:00+00:00</td>\n",
       "      <td>2021-03-18 00:00:00+00:00</td>\n",
       "    </tr>\n",
       "    <tr>\n",
       "      <th>7</th>\n",
       "      <td>txn003-LUID_00003DEU-20210318-Interest-USD-Rec...</td>\n",
       "      <td>Interest</td>\n",
       "      <td>NaN</td>\n",
       "      <td>LUID_00003DEU</td>\n",
       "      <td>1.0000</td>\n",
       "      <td>20,111.1111</td>\n",
       "      <td>20,111.1111</td>\n",
       "      <td>2021-03-18 00:00:00+00:00</td>\n",
       "      <td>2021-03-18 00:00:00+00:00</td>\n",
       "    </tr>\n",
       "  </tbody>\n",
       "</table>\n",
       "</div>"
      ],
      "text/plain": [
       "                                      transaction_id      type  \\\n",
       "6  txn003-LUID_00003DEU-20210318-Notional-USD-Rec...  Notional   \n",
       "7  txn003-LUID_00003DEU-20210318-Interest-USD-Rec...  Interest   \n",
       "\n",
       "  instrument_identifiers.Instrument/default/ClientInternal instrument_uid  \\\n",
       "6                                                NaN        LUID_00003DEU   \n",
       "7                                                NaN        LUID_00003DEU   \n",
       "\n",
       "   transaction_price.price  total_consideration.amount          units  \\\n",
       "6                   1.0000              1,000,000.0000 1,000,000.0000   \n",
       "7                   1.0000                 20,111.1111    20,111.1111   \n",
       "\n",
       "           transaction_date           settlement_date  \n",
       "6 2021-03-18 00:00:00+00:00 2021-03-18 00:00:00+00:00  \n",
       "7 2021-03-18 00:00:00+00:00 2021-03-18 00:00:00+00:00  "
      ]
     },
     "execution_count": 206,
     "metadata": {},
     "output_type": "execute_result"
    }
   ],
   "source": [
    "cashflow_txns = get_cashflow(maturity_date_A + settlement_time, maturity_date_B, CTVoMRecipe)\n",
    "response = transaction_portfolios_api.upsert_transactions(\n",
    "    scope=scope, code=portfolio_code, transaction_request=cashflow_txns\n",
    ")\n",
    "view_transaction_in_lusid([c.transaction_id for c in cashflow_txns])"
   ]
  },
  {
   "cell_type": "markdown",
   "metadata": {
    "pycharm": {
     "name": "#%% md\n"
    }
   },
   "source": [
    "Next we remove the `Term Deposit B` instrument from our portfolio."
   ]
  },
  {
   "cell_type": "code",
   "execution_count": 207,
   "metadata": {
    "pycharm": {
     "name": "#%%\n"
    }
   },
   "outputs": [
    {
     "data": {
      "text/html": [
       "<div>\n",
       "<style scoped>\n",
       "    .dataframe tbody tr th:only-of-type {\n",
       "        vertical-align: middle;\n",
       "    }\n",
       "\n",
       "    .dataframe tbody tr th {\n",
       "        vertical-align: top;\n",
       "    }\n",
       "\n",
       "    .dataframe thead th {\n",
       "        text-align: right;\n",
       "    }\n",
       "</style>\n",
       "<table border=\"1\" class=\"dataframe\">\n",
       "  <thead>\n",
       "    <tr style=\"text-align: right;\">\n",
       "      <th></th>\n",
       "      <th>transaction_id</th>\n",
       "      <th>type</th>\n",
       "      <th>instrument_identifiers.Instrument/default/ClientInternal</th>\n",
       "      <th>instrument_uid</th>\n",
       "      <th>transaction_price.price</th>\n",
       "      <th>total_consideration.amount</th>\n",
       "      <th>units</th>\n",
       "      <th>transaction_date</th>\n",
       "      <th>settlement_date</th>\n",
       "    </tr>\n",
       "  </thead>\n",
       "  <tbody>\n",
       "    <tr>\n",
       "      <th>8</th>\n",
       "      <td>txn004</td>\n",
       "      <td>StockOut</td>\n",
       "      <td>TD_Inst_B</td>\n",
       "      <td>LUID_00003DEU</td>\n",
       "      <td>1.0000</td>\n",
       "      <td>1,000,000.0000</td>\n",
       "      <td>1,000,000.0000</td>\n",
       "      <td>2021-03-18 00:00:00+00:00</td>\n",
       "      <td>2021-03-21 00:00:00+00:00</td>\n",
       "    </tr>\n",
       "  </tbody>\n",
       "</table>\n",
       "</div>"
      ],
      "text/plain": [
       "  transaction_id      type  \\\n",
       "8         txn004  StockOut   \n",
       "\n",
       "  instrument_identifiers.Instrument/default/ClientInternal instrument_uid  \\\n",
       "8                                          TD_Inst_B        LUID_00003DEU   \n",
       "\n",
       "   transaction_price.price  total_consideration.amount          units  \\\n",
       "8                   1.0000              1,000,000.0000 1,000,000.0000   \n",
       "\n",
       "           transaction_date           settlement_date  \n",
       "8 2021-03-18 00:00:00+00:00 2021-03-21 00:00:00+00:00  "
      ]
     },
     "execution_count": 207,
     "metadata": {},
     "output_type": "execute_result"
    }
   ],
   "source": [
    "upsert_transaction(\n",
    "    txn_id=\"txn004\", \n",
    "    type=\"StockOut\", \n",
    "    luid=td_luid_b, \n",
    "    client_internal=td_client_b, \n",
    "    txn_date=maturity_date_B, \n",
    "    total_consideration=inst_A_cashflow_amount)"
   ]
  },
  {
   "cell_type": "markdown",
   "metadata": {
    "pycharm": {
     "name": "#%% md\n"
    }
   },
   "source": [
    "### 7.2.2 Buy Term Deposit back with an Increased Rate\n",
    "To roll the term deposit we will create a new instrument, `Term Deposit C`. It will have the same maturity time as the previous Term Deposits, with a higher rate of 5% and a new start and end date."
   ]
  },
  {
   "cell_type": "code",
   "execution_count": 208,
   "metadata": {
    "pycharm": {
     "name": "#%%\n"
    }
   },
   "outputs": [],
   "source": [
    "maturity_date_C = datetime(2021, 9, 18, 00, tzinfo=pytz.utc)"
   ]
  },
  {
   "cell_type": "code",
   "execution_count": 209,
   "metadata": {
    "pycharm": {
     "name": "#%%\n"
    }
   },
   "outputs": [
    {
     "name": "stdout",
     "output_type": "stream",
     "text": [
      "Created instrument with LUID:LUID_00003DF5 and ClientInternal:TD_Inst_C\n"
     ]
    }
   ],
   "source": [
    "# Define a new instrument with a higher rate\n",
    "td_client_c = \"TD_Inst_C\"\n",
    "td_luid_c = create_td_instrument(\n",
    "    name=\"Term Deposit Instrument C\",\n",
    "    identifier=td_client_c,\n",
    "    start_date=maturity_date_B,\n",
    "    maturity_date=maturity_date_C,\n",
    "    flow_convention=flow_conventions,\n",
    "    rate=0.05\n",
    ")"
   ]
  },
  {
   "cell_type": "markdown",
   "metadata": {
    "pycharm": {
     "name": "#%% md\n"
    }
   },
   "source": [
    "In this example we will only invest $\\$1,000,000 into `Term Deposit C` and leave the remaining cash returned from `Term Deposit B` in the portfolio."
   ]
  },
  {
   "cell_type": "code",
   "execution_count": 210,
   "metadata": {
    "pycharm": {
     "name": "#%%\n"
    }
   },
   "outputs": [
    {
     "data": {
      "text/html": [
       "<div>\n",
       "<style scoped>\n",
       "    .dataframe tbody tr th:only-of-type {\n",
       "        vertical-align: middle;\n",
       "    }\n",
       "\n",
       "    .dataframe tbody tr th {\n",
       "        vertical-align: top;\n",
       "    }\n",
       "\n",
       "    .dataframe thead th {\n",
       "        text-align: right;\n",
       "    }\n",
       "</style>\n",
       "<table border=\"1\" class=\"dataframe\">\n",
       "  <thead>\n",
       "    <tr style=\"text-align: right;\">\n",
       "      <th></th>\n",
       "      <th>transaction_id</th>\n",
       "      <th>type</th>\n",
       "      <th>instrument_identifiers.Instrument/default/ClientInternal</th>\n",
       "      <th>instrument_uid</th>\n",
       "      <th>transaction_price.price</th>\n",
       "      <th>total_consideration.amount</th>\n",
       "      <th>units</th>\n",
       "      <th>transaction_date</th>\n",
       "      <th>settlement_date</th>\n",
       "    </tr>\n",
       "  </thead>\n",
       "  <tbody>\n",
       "    <tr>\n",
       "      <th>9</th>\n",
       "      <td>txn005</td>\n",
       "      <td>Buy</td>\n",
       "      <td>TD_Inst_C</td>\n",
       "      <td>LUID_00003DEZ</td>\n",
       "      <td>1.0000</td>\n",
       "      <td>1,000,000.0000</td>\n",
       "      <td>1,000,000.0000</td>\n",
       "      <td>2021-03-18 00:00:00+00:00</td>\n",
       "      <td>2021-03-21 00:00:00+00:00</td>\n",
       "    </tr>\n",
       "  </tbody>\n",
       "</table>\n",
       "</div>"
      ],
      "text/plain": [
       "  transaction_id type  \\\n",
       "9         txn005  Buy   \n",
       "\n",
       "  instrument_identifiers.Instrument/default/ClientInternal instrument_uid  \\\n",
       "9                                          TD_Inst_C        LUID_00003DEZ   \n",
       "\n",
       "   transaction_price.price  total_consideration.amount          units  \\\n",
       "9                   1.0000              1,000,000.0000 1,000,000.0000   \n",
       "\n",
       "           transaction_date           settlement_date  \n",
       "9 2021-03-18 00:00:00+00:00 2021-03-21 00:00:00+00:00  "
      ]
     },
     "execution_count": 210,
     "metadata": {},
     "output_type": "execute_result"
    }
   ],
   "source": [
    "upsert_transaction(\n",
    "    txn_id=\"txn005\", \n",
    "    type=\"Buy\", \n",
    "    luid=td_luid_c, \n",
    "    client_internal=td_client_c, \n",
    "    txn_date=maturity_date_B, \n",
    "    total_consideration=1000000)"
   ]
  },
  {
   "cell_type": "markdown",
   "metadata": {},
   "source": [
    "The cell below shows the transactions in the portfolio after Term Deposit B has been purchased"
   ]
  },
  {
   "cell_type": "code",
   "execution_count": 211,
   "metadata": {
    "pycharm": {
     "name": "#%%\n"
    }
   },
   "outputs": [
    {
     "data": {
      "text/html": [
       "<div>\n",
       "<style scoped>\n",
       "    .dataframe tbody tr th:only-of-type {\n",
       "        vertical-align: middle;\n",
       "    }\n",
       "\n",
       "    .dataframe tbody tr th {\n",
       "        vertical-align: top;\n",
       "    }\n",
       "\n",
       "    .dataframe thead th {\n",
       "        text-align: right;\n",
       "    }\n",
       "</style>\n",
       "<table border=\"1\" class=\"dataframe\">\n",
       "  <thead>\n",
       "    <tr style=\"text-align: right;\">\n",
       "      <th></th>\n",
       "      <th>transaction_id</th>\n",
       "      <th>type</th>\n",
       "      <th>ClientInternal</th>\n",
       "      <th>LusidInstrumentId</th>\n",
       "      <th>total_consideration.amount</th>\n",
       "      <th>units</th>\n",
       "      <th>transaction_date</th>\n",
       "      <th>settlement_date</th>\n",
       "      <th>transaction_price.price</th>\n",
       "    </tr>\n",
       "  </thead>\n",
       "  <tbody>\n",
       "    <tr>\n",
       "      <th>0</th>\n",
       "      <td>txn000</td>\n",
       "      <td>FundsIn</td>\n",
       "      <td>cash_USD</td>\n",
       "      <td>CCY_USD</td>\n",
       "      <td>1.0000</td>\n",
       "      <td>1,000,000.0000</td>\n",
       "      <td>2020-03-10 00:00:00+00:00</td>\n",
       "      <td>2020-03-13 00:00:00+00:00</td>\n",
       "      <td>1.0000</td>\n",
       "    </tr>\n",
       "    <tr>\n",
       "      <th>1</th>\n",
       "      <td>txn001</td>\n",
       "      <td>Buy</td>\n",
       "      <td>TD_Inst_A</td>\n",
       "      <td>LUID_00003DET</td>\n",
       "      <td>1,000,000.0000</td>\n",
       "      <td>1,000,000.0000</td>\n",
       "      <td>2020-03-18 00:00:00+00:00</td>\n",
       "      <td>2020-03-21 00:00:00+00:00</td>\n",
       "      <td>1.0000</td>\n",
       "    </tr>\n",
       "    <tr>\n",
       "      <th>2</th>\n",
       "      <td>txn001-LUID_00003DET-20200918-Interest-USD-Rec...</td>\n",
       "      <td>Interest</td>\n",
       "      <td>NaN</td>\n",
       "      <td>LUID_00003DET</td>\n",
       "      <td>15,333.3333</td>\n",
       "      <td>15,333.3333</td>\n",
       "      <td>2020-09-18 00:00:00+00:00</td>\n",
       "      <td>2020-09-18 00:00:00+00:00</td>\n",
       "      <td>1.0000</td>\n",
       "    </tr>\n",
       "    <tr>\n",
       "      <th>3</th>\n",
       "      <td>txn001-LUID_00003DET-20200918-Notional-USD-Rec...</td>\n",
       "      <td>Notional</td>\n",
       "      <td>NaN</td>\n",
       "      <td>LUID_00003DET</td>\n",
       "      <td>1,000,000.0000</td>\n",
       "      <td>1,000,000.0000</td>\n",
       "      <td>2020-09-18 00:00:00+00:00</td>\n",
       "      <td>2020-09-18 00:00:00+00:00</td>\n",
       "      <td>1.0000</td>\n",
       "    </tr>\n",
       "    <tr>\n",
       "      <th>4</th>\n",
       "      <td>txn002</td>\n",
       "      <td>StockOut</td>\n",
       "      <td>TD_Inst_A</td>\n",
       "      <td>LUID_00003DET</td>\n",
       "      <td>1,000,000.0000</td>\n",
       "      <td>1,000,000.0000</td>\n",
       "      <td>2020-09-18 00:00:00+00:00</td>\n",
       "      <td>2020-09-21 00:00:00+00:00</td>\n",
       "      <td>1.0000</td>\n",
       "    </tr>\n",
       "    <tr>\n",
       "      <th>5</th>\n",
       "      <td>txn003</td>\n",
       "      <td>Buy</td>\n",
       "      <td>TD_Inst_B</td>\n",
       "      <td>LUID_00003DEU</td>\n",
       "      <td>1,000,000.0000</td>\n",
       "      <td>1,000,000.0000</td>\n",
       "      <td>2020-09-18 00:00:00+00:00</td>\n",
       "      <td>2020-09-21 00:00:00+00:00</td>\n",
       "      <td>1.0000</td>\n",
       "    </tr>\n",
       "    <tr>\n",
       "      <th>7</th>\n",
       "      <td>txn003-LUID_00003DEU-20210318-Interest-USD-Rec...</td>\n",
       "      <td>Interest</td>\n",
       "      <td>NaN</td>\n",
       "      <td>LUID_00003DEU</td>\n",
       "      <td>20,111.1111</td>\n",
       "      <td>20,111.1111</td>\n",
       "      <td>2021-03-18 00:00:00+00:00</td>\n",
       "      <td>2021-03-18 00:00:00+00:00</td>\n",
       "      <td>1.0000</td>\n",
       "    </tr>\n",
       "    <tr>\n",
       "      <th>6</th>\n",
       "      <td>txn003-LUID_00003DEU-20210318-Notional-USD-Rec...</td>\n",
       "      <td>Notional</td>\n",
       "      <td>NaN</td>\n",
       "      <td>LUID_00003DEU</td>\n",
       "      <td>1,000,000.0000</td>\n",
       "      <td>1,000,000.0000</td>\n",
       "      <td>2021-03-18 00:00:00+00:00</td>\n",
       "      <td>2021-03-18 00:00:00+00:00</td>\n",
       "      <td>1.0000</td>\n",
       "    </tr>\n",
       "    <tr>\n",
       "      <th>8</th>\n",
       "      <td>txn004</td>\n",
       "      <td>StockOut</td>\n",
       "      <td>TD_Inst_B</td>\n",
       "      <td>LUID_00003DEU</td>\n",
       "      <td>1,000,000.0000</td>\n",
       "      <td>1,000,000.0000</td>\n",
       "      <td>2021-03-18 00:00:00+00:00</td>\n",
       "      <td>2021-03-21 00:00:00+00:00</td>\n",
       "      <td>1.0000</td>\n",
       "    </tr>\n",
       "    <tr>\n",
       "      <th>9</th>\n",
       "      <td>txn005</td>\n",
       "      <td>Buy</td>\n",
       "      <td>TD_Inst_C</td>\n",
       "      <td>LUID_00003DEZ</td>\n",
       "      <td>1,000,000.0000</td>\n",
       "      <td>1,000,000.0000</td>\n",
       "      <td>2021-03-18 00:00:00+00:00</td>\n",
       "      <td>2021-03-21 00:00:00+00:00</td>\n",
       "      <td>1.0000</td>\n",
       "    </tr>\n",
       "  </tbody>\n",
       "</table>\n",
       "</div>"
      ],
      "text/plain": [
       "                                      transaction_id      type ClientInternal  \\\n",
       "0                                             txn000   FundsIn       cash_USD   \n",
       "1                                             txn001       Buy      TD_Inst_A   \n",
       "2  txn001-LUID_00003DET-20200918-Interest-USD-Rec...  Interest            NaN   \n",
       "3  txn001-LUID_00003DET-20200918-Notional-USD-Rec...  Notional            NaN   \n",
       "4                                             txn002  StockOut      TD_Inst_A   \n",
       "5                                             txn003       Buy      TD_Inst_B   \n",
       "7  txn003-LUID_00003DEU-20210318-Interest-USD-Rec...  Interest            NaN   \n",
       "6  txn003-LUID_00003DEU-20210318-Notional-USD-Rec...  Notional            NaN   \n",
       "8                                             txn004  StockOut      TD_Inst_B   \n",
       "9                                             txn005       Buy      TD_Inst_C   \n",
       "\n",
       "  LusidInstrumentId  total_consideration.amount          units  \\\n",
       "0           CCY_USD                      1.0000 1,000,000.0000   \n",
       "1     LUID_00003DET              1,000,000.0000 1,000,000.0000   \n",
       "2     LUID_00003DET                 15,333.3333    15,333.3333   \n",
       "3     LUID_00003DET              1,000,000.0000 1,000,000.0000   \n",
       "4     LUID_00003DET              1,000,000.0000 1,000,000.0000   \n",
       "5     LUID_00003DEU              1,000,000.0000 1,000,000.0000   \n",
       "7     LUID_00003DEU                 20,111.1111    20,111.1111   \n",
       "6     LUID_00003DEU              1,000,000.0000 1,000,000.0000   \n",
       "8     LUID_00003DEU              1,000,000.0000 1,000,000.0000   \n",
       "9     LUID_00003DEZ              1,000,000.0000 1,000,000.0000   \n",
       "\n",
       "           transaction_date           settlement_date  transaction_price.price  \n",
       "0 2020-03-10 00:00:00+00:00 2020-03-13 00:00:00+00:00                   1.0000  \n",
       "1 2020-03-18 00:00:00+00:00 2020-03-21 00:00:00+00:00                   1.0000  \n",
       "2 2020-09-18 00:00:00+00:00 2020-09-18 00:00:00+00:00                   1.0000  \n",
       "3 2020-09-18 00:00:00+00:00 2020-09-18 00:00:00+00:00                   1.0000  \n",
       "4 2020-09-18 00:00:00+00:00 2020-09-21 00:00:00+00:00                   1.0000  \n",
       "5 2020-09-18 00:00:00+00:00 2020-09-21 00:00:00+00:00                   1.0000  \n",
       "7 2021-03-18 00:00:00+00:00 2021-03-18 00:00:00+00:00                   1.0000  \n",
       "6 2021-03-18 00:00:00+00:00 2021-03-18 00:00:00+00:00                   1.0000  \n",
       "8 2021-03-18 00:00:00+00:00 2021-03-21 00:00:00+00:00                   1.0000  \n",
       "9 2021-03-18 00:00:00+00:00 2021-03-21 00:00:00+00:00                   1.0000  "
      ]
     },
     "execution_count": 211,
     "metadata": {},
     "output_type": "execute_result"
    }
   ],
   "source": [
    "get_transactions_todate(maturity_date_B)"
   ]
  },
  {
   "cell_type": "markdown",
   "metadata": {
    "pycharm": {
     "name": "#%% md\n"
    }
   },
   "source": [
    "The table below shows the holdings in the portfolio after the transactions have settled 3 days later.\n",
    "Here we can see the `Term Deposit Instrument B` is no longer in the portfolio and has been replaced by `Term Deposit Instrument C` and there is an excess cash balance of $\\$35,752.8148. The cash balance represents the interest returned from `Term Deposit B` which was not reinvested in `Term Deposit C`."
   ]
  },
  {
   "cell_type": "code",
   "execution_count": 212,
   "metadata": {
    "pycharm": {
     "name": "#%%\n"
    }
   },
   "outputs": [
    {
     "data": {
      "text/html": [
       "<div>\n",
       "<style scoped>\n",
       "    .dataframe tbody tr th:only-of-type {\n",
       "        vertical-align: middle;\n",
       "    }\n",
       "\n",
       "    .dataframe tbody tr th {\n",
       "        vertical-align: top;\n",
       "    }\n",
       "\n",
       "    .dataframe thead th {\n",
       "        text-align: right;\n",
       "    }\n",
       "</style>\n",
       "<table border=\"1\" class=\"dataframe\">\n",
       "  <thead>\n",
       "    <tr style=\"text-align: right;\">\n",
       "      <th></th>\n",
       "      <th>instrument_scope</th>\n",
       "      <th>instrument_uid</th>\n",
       "      <th>properties.Instrument/default/ClientInternal.value.label_value</th>\n",
       "      <th>properties.Instrument/default/Name.value.label_value</th>\n",
       "      <th>units</th>\n",
       "      <th>cost.amount</th>\n",
       "      <th>holding_type_name</th>\n",
       "    </tr>\n",
       "  </thead>\n",
       "  <tbody>\n",
       "    <tr>\n",
       "      <th>0</th>\n",
       "      <td>default</td>\n",
       "      <td>CCY_USD</td>\n",
       "      <td>NaN</td>\n",
       "      <td>USD</td>\n",
       "      <td>35,444.4444</td>\n",
       "      <td>35,444.4400</td>\n",
       "      <td>Balance</td>\n",
       "    </tr>\n",
       "    <tr>\n",
       "      <th>1</th>\n",
       "      <td>default</td>\n",
       "      <td>LUID_00003DEZ</td>\n",
       "      <td>TD_Inst_C</td>\n",
       "      <td>Term Deposit Instrument C</td>\n",
       "      <td>1,000,000.0000</td>\n",
       "      <td>1,000,000.0000</td>\n",
       "      <td>Position</td>\n",
       "    </tr>\n",
       "  </tbody>\n",
       "</table>\n",
       "</div>"
      ],
      "text/plain": [
       "  instrument_scope instrument_uid  \\\n",
       "0          default        CCY_USD   \n",
       "1          default  LUID_00003DEZ   \n",
       "\n",
       "  properties.Instrument/default/ClientInternal.value.label_value  \\\n",
       "0                                                NaN               \n",
       "1                                          TD_Inst_C               \n",
       "\n",
       "  properties.Instrument/default/Name.value.label_value          units  \\\n",
       "0                                                USD      35,444.4444   \n",
       "1                          Term Deposit Instrument C   1,000,000.0000   \n",
       "\n",
       "     cost.amount holding_type_name  \n",
       "0    35,444.4400           Balance  \n",
       "1 1,000,000.0000          Position  "
      ]
     },
     "execution_count": 212,
     "metadata": {},
     "output_type": "execute_result"
    }
   ],
   "source": [
    "get_holdings(maturity_date_B + timedelta(days=3))"
   ]
  },
  {
   "cell_type": "markdown",
   "metadata": {
    "pycharm": {
     "name": "#%% md\n"
    }
   },
   "source": [
    "The valuation below shows a PV with a ~2.5% return of the initial $\\$1,000,000 invested in `Term Deposit C`. This reflects the 5% interest rate over the 6 month Term Deposit where 5/2= 2.5."
   ]
  },
  {
   "cell_type": "code",
   "execution_count": 213,
   "metadata": {
    "pycharm": {
     "name": "#%%\n"
    }
   },
   "outputs": [
    {
     "data": {
      "text/html": [
       "<div>\n",
       "<style scoped>\n",
       "    .dataframe tbody tr th:only-of-type {\n",
       "        vertical-align: middle;\n",
       "    }\n",
       "\n",
       "    .dataframe tbody tr th {\n",
       "        vertical-align: top;\n",
       "    }\n",
       "\n",
       "    .dataframe thead th {\n",
       "        text-align: right;\n",
       "    }\n",
       "</style>\n",
       "<table border=\"1\" class=\"dataframe\">\n",
       "  <thead>\n",
       "    <tr style=\"text-align: right;\">\n",
       "      <th></th>\n",
       "      <th>Instrument/default/ClientInternal</th>\n",
       "      <th>Instrument/default/Name</th>\n",
       "      <th>Analytic/default/ValuationDate</th>\n",
       "      <th>Sum(Valuation/PV)</th>\n",
       "    </tr>\n",
       "  </thead>\n",
       "  <tbody>\n",
       "    <tr>\n",
       "      <th>0</th>\n",
       "      <td>None</td>\n",
       "      <td>USD</td>\n",
       "      <td>2021-03-18T00:00:00.0000000+00:00</td>\n",
       "      <td>35,444.4444</td>\n",
       "    </tr>\n",
       "    <tr>\n",
       "      <th>1</th>\n",
       "      <td>TD_Inst_B</td>\n",
       "      <td>Term Deposit Instrument B</td>\n",
       "      <td>2021-03-18T00:00:00.0000000+00:00</td>\n",
       "      <td>0.0000</td>\n",
       "    </tr>\n",
       "    <tr>\n",
       "      <th>2</th>\n",
       "      <td>TD_Inst_C</td>\n",
       "      <td>Term Deposit Instrument C</td>\n",
       "      <td>2021-03-18T00:00:00.0000000+00:00</td>\n",
       "      <td>25,555.5556</td>\n",
       "    </tr>\n",
       "  </tbody>\n",
       "</table>\n",
       "</div>"
      ],
      "text/plain": [
       "  Instrument/default/ClientInternal    Instrument/default/Name  \\\n",
       "0                              None                        USD   \n",
       "1                         TD_Inst_B  Term Deposit Instrument B   \n",
       "2                         TD_Inst_C  Term Deposit Instrument C   \n",
       "\n",
       "      Analytic/default/ValuationDate  Sum(Valuation/PV)  \n",
       "0  2021-03-18T00:00:00.0000000+00:00        35,444.4444  \n",
       "1  2021-03-18T00:00:00.0000000+00:00             0.0000  \n",
       "2  2021-03-18T00:00:00.0000000+00:00        25,555.5556  "
      ]
     },
     "execution_count": 213,
     "metadata": {},
     "output_type": "execute_result"
    }
   ],
   "source": [
    "perform_valuation(CTVoMRecipe, maturity_date_B)"
   ]
  },
  {
   "cell_type": "markdown",
   "metadata": {
    "pycharm": {
     "name": "#%% md\n"
    }
   },
   "source": [
    "To get a Simple Static valuation we will first upsert a quote for the new Term Deposit. This quote has an interest rate of 4%, we can see this reflected in a valuation with a 4% return on the initial investment. The interest rate of the `Term Deposit C` instrument does not effect the Simple Static valuation."
   ]
  },
  {
   "cell_type": "code",
   "execution_count": 214,
   "metadata": {
    "pycharm": {
     "name": "#%%\n"
    }
   },
   "outputs": [
    {
     "data": {
      "text/plain": [
       "'Successfully upserted quote for instrument: TD_Inst_B with date:2021-03-18 00:00:00+00:00'"
      ]
     },
     "metadata": {},
     "output_type": "display_data"
    },
    {
     "data": {
      "text/plain": [
       "'Successfully upserted quote for instrument: TD_Inst_C with date:2021-03-18 00:00:00+00:00'"
      ]
     },
     "metadata": {},
     "output_type": "display_data"
    }
   ],
   "source": [
    "upsert_quote(td_client_b, maturity_date_B, 1.04)\n",
    "upsert_quote(td_client_c, maturity_date_B, 1.04)"
   ]
  },
  {
   "cell_type": "code",
   "execution_count": 215,
   "metadata": {
    "pycharm": {
     "name": "#%%\n"
    },
    "scrolled": true
   },
   "outputs": [
    {
     "data": {
      "text/html": [
       "<div>\n",
       "<style scoped>\n",
       "    .dataframe tbody tr th:only-of-type {\n",
       "        vertical-align: middle;\n",
       "    }\n",
       "\n",
       "    .dataframe tbody tr th {\n",
       "        vertical-align: top;\n",
       "    }\n",
       "\n",
       "    .dataframe thead th {\n",
       "        text-align: right;\n",
       "    }\n",
       "</style>\n",
       "<table border=\"1\" class=\"dataframe\">\n",
       "  <thead>\n",
       "    <tr style=\"text-align: right;\">\n",
       "      <th></th>\n",
       "      <th>Instrument/default/ClientInternal</th>\n",
       "      <th>Instrument/default/Name</th>\n",
       "      <th>Analytic/default/ValuationDate</th>\n",
       "      <th>Sum(Valuation/PV)</th>\n",
       "    </tr>\n",
       "  </thead>\n",
       "  <tbody>\n",
       "    <tr>\n",
       "      <th>0</th>\n",
       "      <td>None</td>\n",
       "      <td>USD</td>\n",
       "      <td>2021-03-18T00:00:00.0000000+00:00</td>\n",
       "      <td>35,444.4444</td>\n",
       "    </tr>\n",
       "    <tr>\n",
       "      <th>1</th>\n",
       "      <td>TD_Inst_B</td>\n",
       "      <td>Term Deposit Instrument B</td>\n",
       "      <td>2021-03-18T00:00:00.0000000+00:00</td>\n",
       "      <td>0.0000</td>\n",
       "    </tr>\n",
       "    <tr>\n",
       "      <th>2</th>\n",
       "      <td>TD_Inst_C</td>\n",
       "      <td>Term Deposit Instrument C</td>\n",
       "      <td>2021-03-18T00:00:00.0000000+00:00</td>\n",
       "      <td>1,040,000.0000</td>\n",
       "    </tr>\n",
       "  </tbody>\n",
       "</table>\n",
       "</div>"
      ],
      "text/plain": [
       "  Instrument/default/ClientInternal    Instrument/default/Name  \\\n",
       "0                              None                        USD   \n",
       "1                         TD_Inst_B  Term Deposit Instrument B   \n",
       "2                         TD_Inst_C  Term Deposit Instrument C   \n",
       "\n",
       "      Analytic/default/ValuationDate  Sum(Valuation/PV)  \n",
       "0  2021-03-18T00:00:00.0000000+00:00        35,444.4444  \n",
       "1  2021-03-18T00:00:00.0000000+00:00             0.0000  \n",
       "2  2021-03-18T00:00:00.0000000+00:00     1,040,000.0000  "
      ]
     },
     "execution_count": 215,
     "metadata": {},
     "output_type": "execute_result"
    }
   ],
   "source": [
    "perform_valuation(SSRecipe, maturity_date_B)"
   ]
  }
 ],
 "metadata": {
  "kernelspec": {
   "display_name": "Python 3 (ipykernel)",
   "language": "python",
   "name": "python3"
  },
  "language_info": {
   "codemirror_mode": {
    "name": "ipython",
    "version": 3
   },
   "file_extension": ".py",
   "mimetype": "text/x-python",
   "name": "python",
   "nbconvert_exporter": "python",
   "pygments_lexer": "ipython3",
   "version": "3.9.7"
  },
  "toc": {
   "base_numbering": 1,
   "nav_menu": {},
   "number_sections": false,
   "sideBar": true,
   "skip_h1_title": false,
   "title_cell": "Table of Contents",
   "title_sidebar": "Contents",
   "toc_cell": false,
   "toc_position": {},
   "toc_section_display": true,
   "toc_window_display": false
  },
  "varInspector": {
   "cols": {
    "lenName": 16,
    "lenType": 16,
    "lenVar": 40
   },
   "kernels_config": {
    "python": {
     "delete_cmd_postfix": "",
     "delete_cmd_prefix": "del ",
     "library": "var_list.py",
     "varRefreshCmd": "print(var_dic_list())"
    },
    "r": {
     "delete_cmd_postfix": ") ",
     "delete_cmd_prefix": "rm(",
     "library": "var_list.r",
     "varRefreshCmd": "cat(var_dic_list()) "
    }
   },
   "types_to_exclude": [
    "module",
    "function",
    "builtin_function_or_method",
    "instance",
    "_Feature"
   ],
   "window_display": false
  }
 },
 "nbformat": 4,
 "nbformat_minor": 1
}
