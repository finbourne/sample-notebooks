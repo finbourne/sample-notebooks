{
 "cells": [
  {
   "cell_type": "code",
   "execution_count": 44,
   "metadata": {
    "pycharm": {
     "name": "#%%\n"
    }
   },
   "outputs": [
    {
     "data": {
      "text/html": [
       "\n",
       "    <form action=\"javascript:code_toggle()\"><input type=\"submit\" id=\"toggleButton\" value=\"Toggle Docstring\"></form>\n",
       "    \n",
       "         <script>\n",
       "         function code_toggle() {\n",
       "             if ($('div.cell.code_cell.rendered.selected div.input').css('display')!='none'){\n",
       "                 $('div.cell.code_cell.rendered.selected div.input').hide();\n",
       "             } else {\n",
       "                 $('div.cell.code_cell.rendered.selected div.input').show();\n",
       "             }\n",
       "         }\n",
       "         </script>\n",
       "\n",
       "     "
      ],
      "text/plain": [
       "<IPython.core.display.HTML object>"
      ]
     },
     "metadata": {},
     "output_type": "display_data"
    }
   ],
   "source": [
    "from lusidtools.jupyter_tools import toggle_code\n",
    "\n",
    "\"\"\"FX Forward - Valuation Workflow\n",
    "\n",
    "Attributes\n",
    "----------\n",
    "FX Forwards\n",
    "complex market data\n",
    "recipes\n",
    "valuations\n",
    "\"\"\"\n",
    "\n",
    "toggle_code(\"Toggle Docstring\")"
   ]
  },
  {
   "cell_type": "markdown",
   "metadata": {},
   "source": [
    "# Booking and valuing an FX Forward\n",
    "\n",
    "In this notebook, we demonstrate how an FX Forward can be booked in LUSID, and extend it to use cases such as running a standard valuation and calculating PnL.\n",
    "\n",
    "**Table of Contents:**\n",
    "- [1. Create Portfolio](#1.-Create-Portfolio)\n",
    "- [2. Create Instrument](#2.-Create-Instrument)\n",
    "- [3. Upsert Transactions](#3.-Upsert-Transactions)\n",
    "- [4. Upsert FX Market Data](#4.-Upsert-FX-Market-Data)\n",
    "- [5. Create Configuration Recipe](#5.-Create-Configuration-Recipe)\n",
    "- [6. Valuation](#6.-Valuation)\n",
    "- [7. Instrument Life Cycle](#7.-Instrument-Life-Cycle)"
   ]
  },
  {
   "cell_type": "code",
   "execution_count": 45,
   "metadata": {
    "pycharm": {
     "name": "#%%\n"
    }
   },
   "outputs": [
    {
     "data": {
      "text/html": [
       "<style>.container { width:90% !important; }</style>"
      ],
      "text/plain": [
       "<IPython.core.display.HTML object>"
      ]
     },
     "metadata": {},
     "output_type": "display_data"
    },
    {
     "name": "stdout",
     "output_type": "stream",
     "text": [
      "LUSID Environment Initialised\n",
      "LUSID API Version : 0.6.9676.0\n"
     ]
    }
   ],
   "source": [
    "# Import generic non-LUSID packages\n",
    "import os\n",
    "import pandas as pd\n",
    "from datetime import datetime, timedelta\n",
    "import re\n",
    "import matplotlib.pyplot as plt\n",
    "%matplotlib inline\n",
    "import json\n",
    "import pytz\n",
    "from IPython.core.display import HTML\n",
    "\n",
    "# Import key modules from the LUSID package\n",
    "import lusid\n",
    "import lusid.models as lm\n",
    "import lusid.api as la\n",
    "from lusid.utilities import ApiClientFactory\n",
    "from lusidtools.pandas_utils.lusid_pandas import lusid_response_to_data_frame\n",
    "\n",
    "# Import key functions from Lusid-Python-Tools and other packages\n",
    "from lusidjam import RefreshingToken\n",
    "\n",
    "# Set DataFrame display formats\n",
    "pd.set_option(\"display.max_columns\", None)\n",
    "pd.set_option(\"display.max_rows\", None)\n",
    "pd.options.display.float_format = \"{:,.4f}\".format\n",
    "display(HTML(\"<style>.container { width:90% !important; }</style>\"))\n",
    "\n",
    "# Set the secrets path\n",
    "secrets_path = os.getenv(\"FBN_SECRETS_PATH\")\n",
    "\n",
    "# For running the notebook locally\n",
    "if secrets_path is None:\n",
    "    secrets_path = os.path.join(os.path.dirname(os.getcwd()), \"secrets.json\")\n",
    "\n",
    "# Authenticate our user and create our API client\n",
    "api_factory = ApiClientFactory(\n",
    "    token=RefreshingToken(),\n",
    "    api_secrets_filename = secrets_path)\n",
    "\n",
    "print ('LUSID Environment Initialised')\n",
    "print ('LUSID API Version :', api_factory.build(lusid.api.ApplicationMetadataApi).get_lusid_versions().build_version)"
   ]
  },
  {
   "cell_type": "code",
   "execution_count": 46,
   "metadata": {
    "pycharm": {
     "name": "#%%\n"
    }
   },
   "outputs": [],
   "source": [
    "# Set required APIs\n",
    "portfolio_api = api_factory.build(lusid.api.PortfoliosApi)\n",
    "transaction_portfolios_api = api_factory.build(lusid.api.TransactionPortfoliosApi)\n",
    "instruments_api = api_factory.build(lusid.api.InstrumentsApi)\n",
    "quotes_api = api_factory.build(lusid.api.QuotesApi)\n",
    "configuration_recipe_api = api_factory.build(lusid.api.ConfigurationRecipeApi)\n",
    "complex_market_data_api = api_factory.build(lusid.api.ComplexMarketDataApi)\n",
    "aggregation_api = api_factory.build(lusid.api.AggregationApi)"
   ]
  },
  {
   "cell_type": "code",
   "execution_count": 47,
   "metadata": {
    "pycharm": {
     "name": "#%%\n"
    }
   },
   "outputs": [],
   "source": [
    "# Define a method to produce numeric axes\n",
    "def create_curve_axes(spot, rates, tenors, is_pips=False, return_pips=False):\n",
    "\n",
    "    # Process pips - note that pips are 1 hundredth of a %\n",
    "    if is_pips:\n",
    "        rates = [spot + i/10000 for i in rates]\n",
    "\n",
    "    # Convert tenors\n",
    "    tenors_in_days = []\n",
    "    conv_factors = {\n",
    "        \"D\": 1,\n",
    "        \"M\": 30,\n",
    "        \"W\": 7,\n",
    "        \"Y\": 365\n",
    "    }\n",
    "    for tenor in tenors:\n",
    "        temp = re.split('(\\d+)',tenor)\n",
    "        tenors_in_days.append(int(temp[1]) * conv_factors[temp[2]])\n",
    "\n",
    "    # Return either pips or outrights\n",
    "    if return_pips:\n",
    "        return tenors_in_days, rates\n",
    "\n",
    "    else:\n",
    "        # Initiate x, y arrays for spot\n",
    "        int_rates = [spot]\n",
    "        int_tenors = [0]\n",
    "\n",
    "        # Add numeric tenors and rates\n",
    "        int_rates.extend(rates)\n",
    "        int_tenors.extend(tenors_in_days)\n",
    "\n",
    "        return int_tenors, int_rates"
   ]
  },
  {
   "cell_type": "code",
   "execution_count": 48,
   "metadata": {
    "pycharm": {
     "name": "#%%\n"
    }
   },
   "outputs": [],
   "source": [
    "# Define scopes\n",
    "scope = \"ibor\"\n",
    "market_data_scope = \"ibor\""
   ]
  },
  {
   "cell_type": "markdown",
   "metadata": {},
   "source": [
    "# 1. Create Portfolio\n",
    "\n",
    "We begin by creating a portfolio that will contain the FX forward instrument that we will be looking to price."
   ]
  },
  {
   "cell_type": "code",
   "execution_count": 49,
   "metadata": {
    "pycharm": {
     "name": "#%%\n"
    }
   },
   "outputs": [
    {
     "name": "stdout",
     "output_type": "stream",
     "text": [
      "{\"name\":\"PortfolioWithIdAlreadyExists\",\"errorDetails\":[],\"code\":112,\"type\":\"https://docs.lusid.com/#section/Error-Codes/112\",\"title\":\"Could not create a portfolio with id 'FxForwardWithPipsCurve' because it already exists in scope 'ibor'.\",\"status\":400,\"detail\":\"Error creating portfolio with id 'FxForwardWithPipsCurve' in scope 'ibor' effective at 2010-01-01T00:00:00.0000000+00:00 because it already exists.\",\"instance\":\"https://andrewp.lusid.com/app/insights/logs/0HMJBUTALUPI8:0000002A\",\"extensions\":{}}\n"
     ]
    }
   ],
   "source": [
    "portfolio_code = \"FxForwardWithPipsCurve\"\n",
    "\n",
    "try:\n",
    "    transaction_portfolios_api.create_portfolio(\n",
    "        scope=scope,\n",
    "        create_transaction_portfolio_request=lm.CreateTransactionPortfolioRequest(\n",
    "            display_name=portfolio_code,\n",
    "            code=portfolio_code,\n",
    "            base_currency=\"EUR\",\n",
    "            created=\"2010-01-01\",\n",
    "            sub_holding_keys=[],\n",
    "        ),\n",
    "    )\n",
    "\n",
    "except lusid.ApiException as e:\n",
    "    print(e.body)"
   ]
  },
  {
   "cell_type": "markdown",
   "metadata": {},
   "source": [
    "# 2. Create Instrument\n",
    "\n",
    "Using the below method we can reference the SDK models to populate the required parameters for creating an FX forward. We then populate the instrument variables, and make a call to persist the instrument in LUSID."
   ]
  },
  {
   "cell_type": "code",
   "execution_count": 50,
   "metadata": {
    "pycharm": {
     "name": "#%%\n"
    }
   },
   "outputs": [],
   "source": [
    "# Define function that creates an FX forward\n",
    "\n",
    "def create_fx_forward(\n",
    "        dom_amount,\n",
    "        fgn_amount,\n",
    "        dom_ccy,\n",
    "        fgn_ccy,\n",
    "        start_date,\n",
    "        maturity_date\n",
    "):\n",
    "    return lm.FxForward(\n",
    "        dom_amount=dom_amount,\n",
    "        fgn_amount=fgn_amount,\n",
    "        dom_ccy=dom_ccy,\n",
    "        fgn_ccy=fgn_ccy,\n",
    "        start_date=start_date,\n",
    "        maturity_date=maturity_date,\n",
    "        instrument_type=\"FxForward\",\n",
    "    )\n",
    "\n",
    "# Define a function to upsert instrument\n",
    "def upsert_instrument_to_lusid(instrument_definition, name, identifier, identifier_type):\n",
    "        return instruments_api.upsert_instruments(\n",
    "            request_body={\n",
    "                identifier: lm.InstrumentDefinition(\n",
    "                    name=name,\n",
    "                    identifiers={\n",
    "                        identifier_type: lm.InstrumentIdValue(value=identifier)\n",
    "                    },\n",
    "                    definition=instrument_definition,\n",
    "                )\n",
    "            }\n",
    "        )"
   ]
  },
  {
   "cell_type": "markdown",
   "metadata": {
    "pycharm": {
     "name": "#%% md\n"
    }
   },
   "source": [
    "For this example we will be creating a 6M EUR/USD forward, with the following characteristics:\n",
    "- Forward Exchange Rate (Strike): 1.21552025\n",
    "- Buy/Receive: EUR\n",
    "- Sell/Pay: USD\n",
    "- Start Date: 20 Jan 2021\n",
    "- Maturity Date: 20 July 2021"
   ]
  },
  {
   "cell_type": "code",
   "execution_count": 51,
   "metadata": {
    "pycharm": {
     "name": "#%%\n"
    }
   },
   "outputs": [],
   "source": [
    "# Set the instrument variables\n",
    "forward_name = \"EUR/USD 6M FX Forward 20210720\"\n",
    "forward_identifier = \"FWD-EURUSD20210720\"\n",
    "identifier_type = \"ClientInternal\"\n",
    "description = \"EUR/USD FX Forward 20210720\"\n",
    "start_date = datetime(2021, 1, 20, tzinfo=pytz.utc)\n",
    "maturity_date = datetime(2021, 7, 20, tzinfo=pytz.utc)\n",
    "dom_ccy = \"EUR\"\n",
    "fgn_ccy = \"USD\"\n",
    "dom_amount = 1000000\n",
    "fgn_amount = -1215520.25"
   ]
  },
  {
   "cell_type": "code",
   "execution_count": 52,
   "metadata": {
    "pycharm": {
     "name": "#%%\n"
    }
   },
   "outputs": [
    {
     "name": "stdout",
     "output_type": "stream",
     "text": [
      "LUID_00003D8T\n"
     ]
    }
   ],
   "source": [
    "# Create the Instrument\n",
    "forward_definition = create_fx_forward(\n",
    "    dom_amount=dom_amount,\n",
    "    fgn_amount=fgn_amount,\n",
    "    dom_ccy=dom_ccy,\n",
    "    fgn_ccy=fgn_ccy,\n",
    "    start_date=start_date,\n",
    "    maturity_date=maturity_date\n",
    ")\n",
    "\n",
    "# Upsert the instrument\n",
    "upsert_response = upsert_instrument_to_lusid(forward_definition, forward_name, forward_identifier, identifier_type)\n",
    "luid = upsert_response.values[forward_identifier].lusid_instrument_id\n",
    "print(luid)"
   ]
  },
  {
   "cell_type": "markdown",
   "metadata": {},
   "source": [
    "# 3. Upsert Transactions\n",
    "\n",
    "Having created the portfolio, we add a _StockIn_ transaction against the forward to create a position without incurring any costs. Notice that this transaction type will simply increase our position by the given units, as opposed to a typical _Buy_/_Sell_, that would also impact cash."
   ]
  },
  {
   "cell_type": "code",
   "execution_count": 53,
   "metadata": {
    "pycharm": {
     "name": "#%%\n"
    }
   },
   "outputs": [
    {
     "name": "stdout",
     "output_type": "stream",
     "text": [
      "Transaction successfully updated at time: 2022-07-22 14:46:31.924696+00:00\n"
     ]
    }
   ],
   "source": [
    "# Set trade variables\n",
    "trade_date = datetime(2021, 1, 20, tzinfo=pytz.utc)\n",
    "settle_days = 2\n",
    "units = 1\n",
    "\n",
    "# Book a StockIn transaction against the forward\n",
    "fwd_txn = lm.TransactionRequest(\n",
    "    transaction_id=\"TXN001\",\n",
    "    type=\"StockIn\",\n",
    "    instrument_identifiers={\"Instrument/default/ClientInternal\": forward_identifier},\n",
    "    transaction_date=trade_date,\n",
    "    settlement_date=trade_date + timedelta(days=settle_days),\n",
    "    units=units,\n",
    "    transaction_price=lm.TransactionPrice(price=1,type=\"Price\"),\n",
    "    total_consideration=lm.CurrencyAndAmount(amount=1,currency=\"USD\"),\n",
    "    exchange_rate=1,\n",
    "    transaction_currency=\"USD\"\n",
    ")\n",
    "\n",
    "response = transaction_portfolios_api.upsert_transactions(scope=scope,\n",
    "                                                    code=portfolio_code,\n",
    "                                                    transaction_request=[fwd_txn])\n",
    "\n",
    "print(f\"Transaction successfully updated at time: {response.version.as_at_date}\")"
   ]
  },
  {
   "cell_type": "markdown",
   "metadata": {},
   "source": [
    "# 4. Upsert FX Market Data\n",
    "\n",
    "Next we will be loading the required marked data into the quotes store. In this particular example, we will be using both spot rates as well as an FX forward curve, where the latter will need to be loaded using LUSID's complex market data APIs."
   ]
  },
  {
   "cell_type": "markdown",
   "metadata": {
    "pycharm": {
     "name": "#%% md\n"
    }
   },
   "source": [
    "# 4.1 FX Spot Rates\n",
    "\n",
    "We begin by adding the FX spot rates, which are the first piece of market data required to value an FX forward on a given day."
   ]
  },
  {
   "cell_type": "code",
   "execution_count": 54,
   "metadata": {
    "pycharm": {
     "name": "#%%\n"
    }
   },
   "outputs": [
    {
     "data": {
      "text/html": [
       "<div>\n",
       "<style scoped>\n",
       "    .dataframe tbody tr th:only-of-type {\n",
       "        vertical-align: middle;\n",
       "    }\n",
       "\n",
       "    .dataframe tbody tr th {\n",
       "        vertical-align: top;\n",
       "    }\n",
       "\n",
       "    .dataframe thead th {\n",
       "        text-align: right;\n",
       "    }\n",
       "</style>\n",
       "<table border=\"1\" class=\"dataframe\">\n",
       "  <thead>\n",
       "    <tr style=\"text-align: right;\">\n",
       "      <th></th>\n",
       "      <th>Date</th>\n",
       "      <th>Rate</th>\n",
       "      <th>Pair</th>\n",
       "    </tr>\n",
       "  </thead>\n",
       "  <tbody>\n",
       "    <tr>\n",
       "      <th>0</th>\n",
       "      <td>2021-01-01 00:00:00+00:00</td>\n",
       "      <td>1.2215</td>\n",
       "      <td>EUR/USD</td>\n",
       "    </tr>\n",
       "    <tr>\n",
       "      <th>1</th>\n",
       "      <td>2021-01-04 00:00:00+00:00</td>\n",
       "      <td>1.2248</td>\n",
       "      <td>EUR/USD</td>\n",
       "    </tr>\n",
       "    <tr>\n",
       "      <th>2</th>\n",
       "      <td>2021-01-05 00:00:00+00:00</td>\n",
       "      <td>1.2298</td>\n",
       "      <td>EUR/USD</td>\n",
       "    </tr>\n",
       "    <tr>\n",
       "      <th>3</th>\n",
       "      <td>2021-01-06 00:00:00+00:00</td>\n",
       "      <td>1.2327</td>\n",
       "      <td>EUR/USD</td>\n",
       "    </tr>\n",
       "    <tr>\n",
       "      <th>4</th>\n",
       "      <td>2021-01-07 00:00:00+00:00</td>\n",
       "      <td>1.2272</td>\n",
       "      <td>EUR/USD</td>\n",
       "    </tr>\n",
       "  </tbody>\n",
       "</table>\n",
       "</div>"
      ],
      "text/plain": [
       "                       Date   Rate     Pair\n",
       "0 2021-01-01 00:00:00+00:00 1.2215  EUR/USD\n",
       "1 2021-01-04 00:00:00+00:00 1.2248  EUR/USD\n",
       "2 2021-01-05 00:00:00+00:00 1.2298  EUR/USD\n",
       "3 2021-01-06 00:00:00+00:00 1.2327  EUR/USD\n",
       "4 2021-01-07 00:00:00+00:00 1.2272  EUR/USD"
      ]
     },
     "execution_count": 54,
     "metadata": {},
     "output_type": "execute_result"
    }
   ],
   "source": [
    "# Read fx spot rates and make datetimes timezone aware\n",
    "quotes_df = pd.read_csv(\"data/eurusd_spot.csv\")\n",
    "quotes_df[\"Date\"] = pd.to_datetime(quotes_df[\"Date\"], dayfirst=True)\n",
    "quotes_df[\"Date\"] = quotes_df[\"Date\"].apply(lambda x: x.replace(tzinfo=pytz.utc))\n",
    "quotes_df.head()"
   ]
  },
  {
   "cell_type": "code",
   "execution_count": 55,
   "metadata": {
    "pycharm": {
     "name": "#%%\n"
    }
   },
   "outputs": [
    {
     "name": "stdout",
     "output_type": "stream",
     "text": [
      "Quotes successfully loaded into LUSID. 223 quotes loaded.\n"
     ]
    }
   ],
   "source": [
    "# Create quotes request\n",
    "instrument_quotes = {\n",
    "            index: lm.UpsertQuoteRequest(\n",
    "            quote_id=lm.QuoteId(\n",
    "                quote_series_id=lm.QuoteSeriesId(\n",
    "                    provider=\"Lusid\",\n",
    "                    instrument_id=row[\"Pair\"],\n",
    "                    instrument_id_type=\"CurrencyPair\",\n",
    "                    quote_type=\"Rate\",\n",
    "                    field=\"mid\",\n",
    "                ),\n",
    "                effective_at=row[\"Date\"],\n",
    "            ),\n",
    "            metric_value=lm.MetricValue(value=row[\"Rate\"], unit=row[\"Pair\"]),\n",
    "        )\n",
    "    for index, row in quotes_df.iterrows()\n",
    "}\n",
    "\n",
    "# Upsert quotes into LUSID\n",
    "response = quotes_api.upsert_quotes(\n",
    "    scope=market_data_scope, request_body=instrument_quotes\n",
    ")\n",
    "\n",
    "if response.failed == {}:\n",
    "    print(f\"Quotes successfully loaded into LUSID. {len(response.values)} quotes loaded.\")\n",
    "else:\n",
    "    print(f\"Some failures occurred during quotes upsertion, {len(response.failed)} did not get loaded into LUSID.\")"
   ]
  },
  {
   "cell_type": "markdown",
   "metadata": {
    "pycharm": {
     "name": "#%% md\n"
    }
   },
   "source": [
    "# 4.2 FX Forward Curve\n",
    "\n",
    "Next we will read in our FX forward curve data, and create a `ComplexMarketData` object that can be loaded into LUSID's market data store to be used for valuation. Notice, in this example our curve is composed of points rather than outrights, which are commonly referred to as pips as well. These will be added to the spot rate of the day a valuation is run, and need to be scaled so that they are in the correct order of magnitude."
   ]
  },
  {
   "cell_type": "code",
   "execution_count": 56,
   "metadata": {
    "pycharm": {
     "name": "#%%\n"
    }
   },
   "outputs": [
    {
     "data": {
      "text/html": [
       "<div>\n",
       "<style scoped>\n",
       "    .dataframe tbody tr th:only-of-type {\n",
       "        vertical-align: middle;\n",
       "    }\n",
       "\n",
       "    .dataframe tbody tr th {\n",
       "        vertical-align: top;\n",
       "    }\n",
       "\n",
       "    .dataframe thead th {\n",
       "        text-align: right;\n",
       "    }\n",
       "</style>\n",
       "<table border=\"1\" class=\"dataframe\">\n",
       "  <thead>\n",
       "    <tr style=\"text-align: right;\">\n",
       "      <th></th>\n",
       "      <th>Tenor</th>\n",
       "      <th>Points Mid</th>\n",
       "    </tr>\n",
       "  </thead>\n",
       "  <tbody>\n",
       "    <tr>\n",
       "      <th>0</th>\n",
       "      <td>1D</td>\n",
       "      <td>0.6375</td>\n",
       "    </tr>\n",
       "    <tr>\n",
       "      <th>1</th>\n",
       "      <td>1W</td>\n",
       "      <td>1.4975</td>\n",
       "    </tr>\n",
       "    <tr>\n",
       "      <th>2</th>\n",
       "      <td>2W</td>\n",
       "      <td>3.0275</td>\n",
       "    </tr>\n",
       "    <tr>\n",
       "      <th>3</th>\n",
       "      <td>3W</td>\n",
       "      <td>4.5625</td>\n",
       "    </tr>\n",
       "    <tr>\n",
       "      <th>4</th>\n",
       "      <td>1M</td>\n",
       "      <td>6.7525</td>\n",
       "    </tr>\n",
       "    <tr>\n",
       "      <th>5</th>\n",
       "      <td>2M</td>\n",
       "      <td>19.5125</td>\n",
       "    </tr>\n",
       "    <tr>\n",
       "      <th>6</th>\n",
       "      <td>3M</td>\n",
       "      <td>27.3225</td>\n",
       "    </tr>\n",
       "    <tr>\n",
       "      <th>7</th>\n",
       "      <td>4M</td>\n",
       "      <td>34.0625</td>\n",
       "    </tr>\n",
       "    <tr>\n",
       "      <th>8</th>\n",
       "      <td>5M</td>\n",
       "      <td>41.5175</td>\n",
       "    </tr>\n",
       "    <tr>\n",
       "      <th>9</th>\n",
       "      <td>6M</td>\n",
       "      <td>49.2025</td>\n",
       "    </tr>\n",
       "  </tbody>\n",
       "</table>\n",
       "</div>"
      ],
      "text/plain": [
       "  Tenor  Points Mid\n",
       "0    1D      0.6375\n",
       "1    1W      1.4975\n",
       "2    2W      3.0275\n",
       "3    3W      4.5625\n",
       "4    1M      6.7525\n",
       "5    2M     19.5125\n",
       "6    3M     27.3225\n",
       "7    4M     34.0625\n",
       "8    5M     41.5175\n",
       "9    6M     49.2025"
      ]
     },
     "execution_count": 56,
     "metadata": {},
     "output_type": "execute_result"
    }
   ],
   "source": [
    "# Read FX forward curve data - showing first 10 terms\n",
    "fwd_df = pd.read_csv(\"data/fwd_curve.csv\")\n",
    "fwd_df.head(10)"
   ]
  },
  {
   "cell_type": "code",
   "execution_count": 57,
   "metadata": {
    "pycharm": {
     "name": "#%%\n"
    }
   },
   "outputs": [
    {
     "name": "stdout",
     "output_type": "stream",
     "text": [
      "Curves successfully loaded into LUSID. 1 curves loaded.\n"
     ]
    }
   ],
   "source": [
    "# Set the curve variables\n",
    "market_data_type = \"FxForwardTenorPipsCurveData\"\n",
    "\n",
    "forward_curve_data = lm.FxForwardTenorPipsCurveData(\n",
    "    base_date=trade_date,\n",
    "    dom_ccy=\"EUR\",\n",
    "    fgn_ccy=\"USD\",\n",
    "    tenors=[row[\"Tenor\"] for i, row in fwd_df.iterrows()],\n",
    "    pip_rates=[row[\"Points Mid\"] for i, row in fwd_df.iterrows()],\n",
    "    market_data_type=market_data_type\n",
    ")\n",
    "\n",
    "forward_curve_id = lm.ComplexMarketDataId(\n",
    "    provider=\"Lusid\",\n",
    "    lineage=\"FxForwardCurveTenorPipsDemo\",\n",
    "    price_source=None,\n",
    "    effective_at=trade_date,\n",
    "    market_asset=\"EUR/USD/FxFwdCurve\"\n",
    ")\n",
    "\n",
    "complex_market_data_request = lm.UpsertComplexMarketDataRequest(\n",
    "    market_data_id=forward_curve_id,\n",
    "    market_data=forward_curve_data\n",
    ")\n",
    "\n",
    "# Upsert forward curve into LUSID\n",
    "response = complex_market_data_api.upsert_complex_market_data(\n",
    "    scope=market_data_scope,\n",
    "    request_body={\"1\": complex_market_data_request}\n",
    ")\n",
    "\n",
    "if response.failed == {}:\n",
    "    print(f\"Curves successfully loaded into LUSID. {len(response.values)} curves loaded.\")\n",
    "else:\n",
    "    print(f\"Some failures occurred during quotes upsertion, {len(response.failed)} did not get loaded into LUSID.\")"
   ]
  },
  {
   "cell_type": "markdown",
   "metadata": {
    "pycharm": {
     "name": "#%% md\n"
    }
   },
   "source": [
    "We can also use the _ComplexMarketDataApi_ to retrieve the data as it's been stored in LUSID. See below for the returned object, and a plot showing a dissection of the pips curve. Within LUSID, these pips will be overlaid on the effective spot rate in order to compute the forward rate."
   ]
  },
  {
   "cell_type": "code",
   "execution_count": 58,
   "metadata": {
    "pycharm": {
     "name": "#%%\n"
    }
   },
   "outputs": [
    {
     "data": {
      "image/png": "[encoded data removed]",
      "text/plain": [
       "<Figure size 432x288 with 1 Axes>"
      ]
     },
     "metadata": {
      "needs_background": "light"
     },
     "output_type": "display_data"
    }
   ],
   "source": [
    "# Retrieve curve\n",
    "forward_curve = complex_market_data_api.get_complex_market_data(\n",
    "    scope=market_data_scope,\n",
    "    request_body= {\"1\": forward_curve_id}\n",
    ")\n",
    "\n",
    "# Get axis data and create plot\n",
    "x, y = create_curve_axes(0, forward_curve.values[\"1\"].pip_rates, forward_curve.values[\"1\"].tenors, False, True)\n",
    "plt.plot(x,y, color='#ff5200' , marker='o', markersize=5, linestyle='--', linewidth=1, label=\"Pips\")\n",
    "x_tenors = forward_curve.values[\"1\"].tenors\n",
    "plt.xticks(x, x_tenors, rotation='vertical')\n",
    "plt.title('EUR/USD Forward Pips')\n",
    "plt.ylabel('EUR/USD')\n",
    "plt.xlim([30, 1000]), plt.ylim([0, 400])\n",
    "plt.legend(loc=\"upper left\")\n",
    "plt.show()"
   ]
  },
  {
   "cell_type": "markdown",
   "metadata": {},
   "source": [
    "# 5. Create Configuration Recipe\n",
    "\n",
    "In order to run a valuation, LUSID will require a recipe that drives how a valuation will be conducted. The below recipe defines what model and market data to use in this context.\n",
    "\n",
    "Within the market context we provide 2 rules, where the first defines a ruleset for spot rates and the other references our FX forward curve. Notice also that we have applied a long quote interval (1Y) for the forward curve, which defines the look-back period for reusing the data set on multiple valuation dates.\n",
    "\n",
    "For the valuation model we have selected `ForwardFromCurveUndiscounted`, which allows for the valuation of an FX forward using an FX forward curve. In our case it will also create the forward curve from the previously seen pips along with the daily spot. This model will calculate the forward's value on the fly by interpolating the matching point on the curve for the instrument's maturity, using the following formula.\n",
    "\n",
    "```\n",
    "PV = (S - K) / S * notionalBase\n",
    "\n",
    "Where;\n",
    "\n",
    "S = Interpolated Forward Rate\n",
    "\n",
    "K = Strike\n",
    "\n",
    "```\n",
    "\n",
    "As the name implies, this model doesn't apply any discounting in computing the instrument's market value. In LUSID this is supported using the model `ForwardFromCurve`, which would require the addition of a discount curve into the complex market data store."
   ]
  },
  {
   "cell_type": "code",
   "execution_count": 59,
   "metadata": {
    "pycharm": {
     "name": "#%%\n"
    }
   },
   "outputs": [],
   "source": [
    "# Define a method for creating the recipe\n",
    "def create_recipe(recipe_code, separate_otc_legs=False):\n",
    "\n",
    "    # Populate recipe parameters\n",
    "    return lm.ConfigurationRecipe(\n",
    "        scope=scope,\n",
    "        code=recipe_code,\n",
    "        market=lm.MarketContext(\n",
    "            market_rules=[\n",
    "                lm.MarketDataKeyRule(\n",
    "                    key=\"FX.CurrencyPair.*\",\n",
    "                    supplier=\"Lusid\",\n",
    "                    data_scope=market_data_scope,\n",
    "                    quote_type=\"Rate\",\n",
    "                    field=\"mid\",\n",
    "                    quote_interval=\"5D.0D\"\n",
    "                ),\n",
    "                lm.MarketDataKeyRule(\n",
    "                    key=\"FxForwards.*.*.*\",\n",
    "                    supplier=\"Lusid\",\n",
    "                    data_scope=market_data_scope,\n",
    "                    quote_type=\"Rate\",\n",
    "                    field=\"mid\",\n",
    "                    quote_interval=\"1Y.0D\"\n",
    "                )\n",
    "            ],\n",
    "            options=lm.MarketOptions(\n",
    "                attempt_to_infer_missing_fx=True,\n",
    "                default_scope=market_data_scope\n",
    "            )\n",
    "        ),\n",
    "        # Set the valuation model - curve with no discounting\n",
    "        pricing=lm.PricingContext(\n",
    "            model_rules=[\n",
    "                lm.VendorModelRule(\n",
    "                    supplier=\"Lusid\",\n",
    "                    model_name=\"ForwardFromCurveUndiscounted\",\n",
    "                    instrument_type=\"FxForward\",\n",
    "                    parameters=\"{}\",\n",
    "                    # Optional - will make FX conversion done using forward rate not spot\n",
    "                    model_options=lm.FxForwardModelOptions(\n",
    "                            forward_rate_observable_type=\"Invalid\",\n",
    "                            discounting_method=\"Invalid\",\n",
    "                            convert_to_report_ccy=True,\n",
    "                            model_options_type=\"FxForwardModelOptions\"\n",
    "                        )\n",
    "                ),\n",
    "            ],\n",
    "            options=lm.PricingOptions(\n",
    "                produce_separate_result_for_linear_otc_legs=separate_otc_legs\n",
    "            )\n",
    "        ),\n",
    "    )"
   ]
  },
  {
   "cell_type": "markdown",
   "metadata": {
    "pycharm": {
     "name": "#%% md\n"
    }
   },
   "source": [
    "By default, LUSID will price an _FxForward_ instrument as a single line-item, which yields the net market value. However, in some use cases it may be needed to produce the leg level market value, which can be managed in the recipe's pricing options.\n",
    "\n",
    "In this example we create 2 recipes, one that produces the net market value and another that splits the instrument to its leg components. This is driven by the `produce_separate_result_for_linear_otc_legs` parameter in the configuration recipe."
   ]
  },
  {
   "cell_type": "code",
   "execution_count": 60,
   "metadata": {
    "pycharm": {
     "name": "#%%\n"
    }
   },
   "outputs": [
    {
     "name": "stdout",
     "output_type": "stream",
     "text": [
      "Configuration recipe loaded into LUSID at time 2022-07-22 15:34:41.391549+00:00.\n",
      "Configuration recipe loaded into LUSID at time 2022-07-22 15:34:41.536783+00:00.\n"
     ]
    }
   ],
   "source": [
    "# Create recipes for net and leg level valuation\n",
    "net_recipe_code = \"FxForwardValuation\"\n",
    "sep_recipe_code = \"FxForwardValuationSeparated\"\n",
    "\n",
    "standard_recipe = create_recipe(net_recipe_code, False)\n",
    "separate_legs_recipe = create_recipe(sep_recipe_code, True)\n",
    "\n",
    "for recipe in [standard_recipe, separate_legs_recipe]:\n",
    "    response = configuration_recipe_api.upsert_configuration_recipe(\n",
    "            upsert_recipe_request=lm.UpsertRecipeRequest(\n",
    "                configuration_recipe=recipe\n",
    "            )\n",
    "        )\n",
    "\n",
    "    print(f\"Configuration recipe loaded into LUSID at time {response.value}.\")"
   ]
  },
  {
   "cell_type": "markdown",
   "metadata": {},
   "source": [
    "# 6. Valuation\n",
    "\n",
    "In order to value the portfolio, we will need to create a valuation request that specifies the metrics that are to be returned, and reference our previously setup portfolio and recipe on a given date. The following method will return the results in form of a data frame."
   ]
  },
  {
   "cell_type": "code",
   "execution_count": 61,
   "metadata": {
    "pycharm": {
     "name": "#%%\n"
    }
   },
   "outputs": [],
   "source": [
    "# Set the queryable metrics and operation to be applied on the group_by level\n",
    "metrics = [\n",
    "    lm.AggregateSpec(\"Instrument/default/Name\", \"Value\"),\n",
    "    lm.AggregateSpec(\"Instrument/default/ClientInternal\", \"Value\"),\n",
    "    lm.AggregateSpec(\"Valuation/PvInPortfolioCcy\", \"Value\"),\n",
    "    lm.AggregateSpec(\"Valuation/Diagnostics/FxForwardRate\", \"Value\"),\n",
    "    lm.AggregateSpec(\"Quotes/FxRate/DomFgn\", \"Value\"),\n",
    "    lm.AggregateSpec(\"Holding/default/Units\", \"Value\"),\n",
    "    lm.AggregateSpec(\"Valuation/PnL/Tm1/Pfolio\", \"Value\"),\n",
    "        ]\n",
    "\n",
    "# Method to query daily valuations\n",
    "def get_daily_valuation(date, portfolio_code, recipe_code, metrics, group_by=[\"Instrument/default/Name\"]):\n",
    "\n",
    "    valuation_request = lm.ValuationRequest(\n",
    "        recipe_id=lm.ResourceId(scope=scope, code=recipe_code),\n",
    "        metrics=metrics,\n",
    "        group_by=group_by,\n",
    "        portfolio_entity_ids=[\n",
    "            lm.PortfolioEntityId(scope=scope, code=portfolio_code)\n",
    "        ],\n",
    "        valuation_schedule=lm.ValuationSchedule(effective_at=date),\n",
    "    )\n",
    "\n",
    "    val_data = aggregation_api.get_valuation(valuation_request=valuation_request).data\n",
    "\n",
    "    vals_df = pd.DataFrame(val_data)\n",
    "\n",
    "    vals_df.rename(\n",
    "        columns={\n",
    "            \"Instrument/default/Name\": \"InstrumentName\",\n",
    "            \"Instrument/default/ClientInternal\": \"ClientInternal\",\n",
    "            \"Valuation/PvInPortfolioCcy\": \"Market Value\",\n",
    "            \"Valuation/Diagnostics/FxForwardRate\": \"Forward Rate (Interpolated)\",\n",
    "            \"Quotes/FxRate/DomFgn\": \"FX Spot Rate\",\n",
    "            \"Valuation/PnL/Tm1/Pfolio\": \"PnL (1-day)\"\n",
    "        },\n",
    "        inplace=True,\n",
    "    )\n",
    "\n",
    "    return vals_df"
   ]
  },
  {
   "cell_type": "markdown",
   "metadata": {},
   "source": [
    "# 6.1 Daily Valuation and PnL\n",
    "\n",
    "# Day 1\n",
    "\n",
    "We begin by valuing the position as of the trade date, where based on the available forward curve and spot rates, we can observe the following market values for the positions within the portfolio."
   ]
  },
  {
   "cell_type": "code",
   "execution_count": 62,
   "metadata": {
    "pycharm": {
     "name": "#%%\n"
    }
   },
   "outputs": [
    {
     "data": {
      "text/html": [
       "<div>\n",
       "<style scoped>\n",
       "    .dataframe tbody tr th:only-of-type {\n",
       "        vertical-align: middle;\n",
       "    }\n",
       "\n",
       "    .dataframe tbody tr th {\n",
       "        vertical-align: top;\n",
       "    }\n",
       "\n",
       "    .dataframe thead th {\n",
       "        text-align: right;\n",
       "    }\n",
       "</style>\n",
       "<table border=\"1\" class=\"dataframe\">\n",
       "  <thead>\n",
       "    <tr style=\"text-align: right;\">\n",
       "      <th></th>\n",
       "      <th>InstrumentName</th>\n",
       "      <th>ClientInternal</th>\n",
       "      <th>Market Value</th>\n",
       "      <th>Forward Rate (Interpolated)</th>\n",
       "      <th>FX Spot Rate</th>\n",
       "      <th>Holding/default/Units</th>\n",
       "      <th>PnL (1-day)</th>\n",
       "    </tr>\n",
       "  </thead>\n",
       "  <tbody>\n",
       "    <tr>\n",
       "      <th>0</th>\n",
       "      <td>EUR/USD 6M FX Forward 20210720</td>\n",
       "      <td>FWD-EURUSD20210720</td>\n",
       "      <td>0.0000</td>\n",
       "      <td>1.2155</td>\n",
       "      <td>1.2106</td>\n",
       "      <td>1.0000</td>\n",
       "      <td>None</td>\n",
       "    </tr>\n",
       "  </tbody>\n",
       "</table>\n",
       "</div>"
      ],
      "text/plain": [
       "                   InstrumentName      ClientInternal  Market Value  \\\n",
       "0  EUR/USD 6M FX Forward 20210720  FWD-EURUSD20210720        0.0000   \n",
       "\n",
       "   Forward Rate (Interpolated)  FX Spot Rate  Holding/default/Units  \\\n",
       "0                       1.2155        1.2106                 1.0000   \n",
       "\n",
       "  PnL (1-day)  \n",
       "0        None  "
      ]
     },
     "execution_count": 62,
     "metadata": {},
     "output_type": "execute_result"
    }
   ],
   "source": [
    "df = get_daily_valuation(trade_date, portfolio_code, net_recipe_code, metrics)\n",
    "df.drop('Aggregation/Errors', axis=1, inplace=True)\n",
    "df"
   ]
  },
  {
   "cell_type": "markdown",
   "metadata": {
    "pycharm": {
     "name": "#%% md\n"
    }
   },
   "source": [
    "As we can see, the current market value for the forward is zero. This is because our current implied forward rate is equal to the strike on our forward instrument. We can illustrate this on the curve, as seen below, with our instrument's forward rate highlighted in blue."
   ]
  },
  {
   "cell_type": "code",
   "execution_count": 63,
   "metadata": {
    "pycharm": {
     "name": "#%%\n"
    }
   },
   "outputs": [
    {
     "data": {
      "image/png": "[encoded data removed]",
      "text/plain": [
       "<Figure size 432x288 with 1 Axes>"
      ]
     },
     "metadata": {
      "needs_background": "light"
     },
     "output_type": "display_data"
    }
   ],
   "source": [
    "# Get axis data and create plot\n",
    "x, y = create_curve_axes(1.2106, forward_curve.values[\"1\"].pip_rates, forward_curve.values[\"1\"].tenors, True)\n",
    "plt.plot(x,y, color='#ff5200' , marker='o', markersize=5, linestyle='--', linewidth=1, label=\"Forwards\")\n",
    "plt.plot(180, 1.21552025,'s', label=\"Implied Forward\")\n",
    "plt.axhline(y=1.21552025, color='r', label=\"Strike\")\n",
    "x_tenors = [\"0D\"] + forward_curve.values[\"1\"].tenors\n",
    "plt.xticks(x, x_tenors, rotation='vertical')\n",
    "plt.title('EUR/USD Forward Curve')\n",
    "plt.ylabel('EUR/USD')\n",
    "plt.xlim([30, 365]), plt.ylim([1.21, 1.220])\n",
    "plt.legend(loc=\"upper left\")\n",
    "plt.show()"
   ]
  },
  {
   "cell_type": "markdown",
   "metadata": {},
   "source": [
    "# Day 2\n",
    "\n",
    "On the following date, we observe a new market value and also observe a daily PnL as a result of a price change against the previous day's market value.\n",
    "\n",
    "Notice that in this case we are re-using the curve upserted on the trade date, however, the market values are moving along with a change in the spot rate. Given we have a curve composed of points, rather than outrights, the fx forward curve will shift along with the spot rate. (In a real world implementation, it would be more accurate to update the curve daily.)"
   ]
  },
  {
   "cell_type": "code",
   "execution_count": 64,
   "metadata": {
    "pycharm": {
     "name": "#%%\n"
    }
   },
   "outputs": [
    {
     "data": {
      "text/html": [
       "<div>\n",
       "<style scoped>\n",
       "    .dataframe tbody tr th:only-of-type {\n",
       "        vertical-align: middle;\n",
       "    }\n",
       "\n",
       "    .dataframe tbody tr th {\n",
       "        vertical-align: top;\n",
       "    }\n",
       "\n",
       "    .dataframe thead th {\n",
       "        text-align: right;\n",
       "    }\n",
       "</style>\n",
       "<table border=\"1\" class=\"dataframe\">\n",
       "  <thead>\n",
       "    <tr style=\"text-align: right;\">\n",
       "      <th></th>\n",
       "      <th>InstrumentName</th>\n",
       "      <th>ClientInternal</th>\n",
       "      <th>Market Value</th>\n",
       "      <th>Forward Rate (Interpolated)</th>\n",
       "      <th>FX Spot Rate</th>\n",
       "      <th>Holding/default/Units</th>\n",
       "      <th>PnL (1-day)</th>\n",
       "    </tr>\n",
       "  </thead>\n",
       "  <tbody>\n",
       "    <tr>\n",
       "      <th>0</th>\n",
       "      <td>EUR/USD 6M FX Forward 20210720</td>\n",
       "      <td>FWD-EURUSD20210720</td>\n",
       "      <td>4,748.9592</td>\n",
       "      <td>1.2213</td>\n",
       "      <td>1.2164</td>\n",
       "      <td>1.0000</td>\n",
       "      <td>4,748.9592</td>\n",
       "    </tr>\n",
       "  </tbody>\n",
       "</table>\n",
       "</div>"
      ],
      "text/plain": [
       "                   InstrumentName      ClientInternal  Market Value  \\\n",
       "0  EUR/USD 6M FX Forward 20210720  FWD-EURUSD20210720    4,748.9592   \n",
       "\n",
       "   Forward Rate (Interpolated)  FX Spot Rate  Holding/default/Units  \\\n",
       "0                       1.2213        1.2164                 1.0000   \n",
       "\n",
       "   PnL (1-day)  \n",
       "0   4,748.9592  "
      ]
     },
     "execution_count": 64,
     "metadata": {},
     "output_type": "execute_result"
    }
   ],
   "source": [
    "df = get_daily_valuation(trade_date + timedelta(days=1), portfolio_code, net_recipe_code, metrics)\n",
    "df"
   ]
  },
  {
   "cell_type": "markdown",
   "metadata": {
    "pycharm": {
     "name": "#%% md\n"
    }
   },
   "source": [
    "As we can see, we have a positive market value which stems from the fact that the interpolated forward has moved above our strike, which means entering a similar contract today would be more expensive.\n",
    "\n",
    "Moreover, the PV in USD base terms is arrived to as follows:\n",
    "\n",
    "```\n",
    "PVlocal = (1.22132025 - 1.21552025) /1.22132025 * 1,000,000.00\n",
    "PVlocal = EUR 4748.9592\n",
    "\n",
    "```"
   ]
  },
  {
   "cell_type": "code",
   "execution_count": 65,
   "metadata": {
    "pycharm": {
     "name": "#%%\n"
    }
   },
   "outputs": [
    {
     "data": {
      "image/png": "[encoded data removed]",
      "text/plain": [
       "<Figure size 432x288 with 1 Axes>"
      ]
     },
     "metadata": {
      "needs_background": "light"
     },
     "output_type": "display_data"
    }
   ],
   "source": [
    "# Get axis data and create plot\n",
    "x, y = create_curve_axes(1.2164, forward_curve.values[\"1\"].pip_rates, forward_curve.values[\"1\"].tenors, True)\n",
    "plt.plot(x,y, color='#ff5200' , marker='o', markersize=5, linestyle='--', linewidth=1, label=\"Forwards\")\n",
    "plt.plot(179, 1.2213,'s',label=\"Implied Forward\")\n",
    "x_tenors = [\"0D\"] + forward_curve.values[\"1\"].tenors\n",
    "plt.xticks(x, x_tenors, rotation='vertical')\n",
    "plt.axhline(y=1.21552025, color='r', label=\"Strike\")\n",
    "plt.title('EUR/USD Forward Curve')\n",
    "plt.ylabel('EUR/USD')\n",
    "plt.xlim([30, 365]), plt.ylim([1.215, 1.225])\n",
    "plt.legend(loc=\"upper left\")\n",
    "plt.show()"
   ]
  },
  {
   "cell_type": "markdown",
   "metadata": {},
   "source": [
    "# Day 3\n",
    "\n",
    "On day 3, we again run the same query and observe a daily gain, as well as the latest market value and price."
   ]
  },
  {
   "cell_type": "code",
   "execution_count": 66,
   "metadata": {
    "pycharm": {
     "name": "#%%\n"
    }
   },
   "outputs": [
    {
     "data": {
      "text/html": [
       "<div>\n",
       "<style scoped>\n",
       "    .dataframe tbody tr th:only-of-type {\n",
       "        vertical-align: middle;\n",
       "    }\n",
       "\n",
       "    .dataframe tbody tr th {\n",
       "        vertical-align: top;\n",
       "    }\n",
       "\n",
       "    .dataframe thead th {\n",
       "        text-align: right;\n",
       "    }\n",
       "</style>\n",
       "<table border=\"1\" class=\"dataframe\">\n",
       "  <thead>\n",
       "    <tr style=\"text-align: right;\">\n",
       "      <th></th>\n",
       "      <th>InstrumentName</th>\n",
       "      <th>ClientInternal</th>\n",
       "      <th>Market Value</th>\n",
       "      <th>Forward Rate (Interpolated)</th>\n",
       "      <th>FX Spot Rate</th>\n",
       "      <th>Holding/default/Units</th>\n",
       "      <th>PnL (1-day)</th>\n",
       "    </tr>\n",
       "  </thead>\n",
       "  <tbody>\n",
       "    <tr>\n",
       "      <th>0</th>\n",
       "      <td>EUR/USD 6M FX Forward 20210720</td>\n",
       "      <td>FWD-EURUSD20210720</td>\n",
       "      <td>5,319.0608</td>\n",
       "      <td>1.2220</td>\n",
       "      <td>1.2171</td>\n",
       "      <td>1.0000</td>\n",
       "      <td>570.1016</td>\n",
       "    </tr>\n",
       "  </tbody>\n",
       "</table>\n",
       "</div>"
      ],
      "text/plain": [
       "                   InstrumentName      ClientInternal  Market Value  \\\n",
       "0  EUR/USD 6M FX Forward 20210720  FWD-EURUSD20210720    5,319.0608   \n",
       "\n",
       "   Forward Rate (Interpolated)  FX Spot Rate  Holding/default/Units  \\\n",
       "0                       1.2220        1.2171                 1.0000   \n",
       "\n",
       "   PnL (1-day)  \n",
       "0     570.1016  "
      ]
     },
     "execution_count": 66,
     "metadata": {},
     "output_type": "execute_result"
    }
   ],
   "source": [
    "df = get_daily_valuation(trade_date + timedelta(days=2), portfolio_code, net_recipe_code, metrics)\n",
    "df"
   ]
  },
  {
   "cell_type": "markdown",
   "metadata": {
    "pycharm": {
     "name": "#%% md\n"
    }
   },
   "source": [
    "We notice a daily PnL in the portfolio base currency, which is a result of:\n",
    "\n",
    "```\n",
    "PnL = (PV1local - PV0local)\n",
    "\n",
    "PnL = (5319.0608 - 4748.9592) = 570.1016\n",
    "```"
   ]
  },
  {
   "cell_type": "markdown",
   "metadata": {
    "pycharm": {
     "name": "#%% md\n"
    }
   },
   "source": [
    "# 6.2 Leg level valuation\n",
    "\n",
    "LUSID can also value OTC instruments that are composed of multiple legs at the individual leg level. We can see this here for Day 3, where we replace the recipe with the one that splits the instrument as shown below."
   ]
  },
  {
   "cell_type": "code",
   "execution_count": 67,
   "metadata": {
    "pycharm": {
     "name": "#%%\n"
    }
   },
   "outputs": [
    {
     "data": {
      "text/html": [
       "<div>\n",
       "<style scoped>\n",
       "    .dataframe tbody tr th:only-of-type {\n",
       "        vertical-align: middle;\n",
       "    }\n",
       "\n",
       "    .dataframe tbody tr th {\n",
       "        vertical-align: top;\n",
       "    }\n",
       "\n",
       "    .dataframe thead th {\n",
       "        text-align: right;\n",
       "    }\n",
       "</style>\n",
       "<table border=\"1\" class=\"dataframe\">\n",
       "  <thead>\n",
       "    <tr style=\"text-align: right;\">\n",
       "      <th></th>\n",
       "      <th>Valuation/PV/Ccy</th>\n",
       "      <th>InstrumentName</th>\n",
       "      <th>Market Value</th>\n",
       "      <th>Forward Rate (Interpolated)</th>\n",
       "      <th>FX Spot Rate</th>\n",
       "    </tr>\n",
       "  </thead>\n",
       "  <tbody>\n",
       "    <tr>\n",
       "      <th>0</th>\n",
       "      <td>EUR</td>\n",
       "      <td>EUR/USD 6M FX Forward 20210720</td>\n",
       "      <td>1,000,000.0000</td>\n",
       "      <td>1.2220</td>\n",
       "      <td>None</td>\n",
       "    </tr>\n",
       "    <tr>\n",
       "      <th>1</th>\n",
       "      <td>EUR</td>\n",
       "      <td>EUR/USD 6M FX Forward 20210720</td>\n",
       "      <td>-994,680.9392</td>\n",
       "      <td>1.2220</td>\n",
       "      <td>None</td>\n",
       "    </tr>\n",
       "  </tbody>\n",
       "</table>\n",
       "</div>"
      ],
      "text/plain": [
       "  Valuation/PV/Ccy                  InstrumentName   Market Value  \\\n",
       "0              EUR  EUR/USD 6M FX Forward 20210720 1,000,000.0000   \n",
       "1              EUR  EUR/USD 6M FX Forward 20210720  -994,680.9392   \n",
       "\n",
       "   Forward Rate (Interpolated) FX Spot Rate  \n",
       "0                       1.2220         None  \n",
       "1                       1.2220         None  "
      ]
     },
     "execution_count": 67,
     "metadata": {},
     "output_type": "execute_result"
    }
   ],
   "source": [
    "# Run with separate legs\n",
    "\n",
    "new_metrics = [\n",
    "    lm.AggregateSpec(\"Instrument/default/Name\", \"Value\"),\n",
    "    lm.AggregateSpec(\"Valuation/PV/Ccy\", \"Value\"),\n",
    "    lm.AggregateSpec(\"Valuation/PvInPortfolioCcy\", \"Value\"),\n",
    "    lm.AggregateSpec(\"Valuation/Diagnostics/FxForwardRate\", \"Value\"),\n",
    "    lm.AggregateSpec(\"Quotes/FxRate/DomFgn\", \"Value\"),\n",
    "        ]\n",
    "\n",
    "df = get_daily_valuation(trade_date + timedelta(days=3), portfolio_code, sep_recipe_code, new_metrics, [\"Instrument/default/Name\",  \"Valuation/PvInPortfolioCcy\"])\n",
    "df"
   ]
  },
  {
   "cell_type": "markdown",
   "metadata": {
    "pycharm": {
     "name": "#%% md\n"
    }
   },
   "source": [
    "# 7. Instrument Life Cycle"
   ]
  },
  {
   "cell_type": "markdown",
   "metadata": {},
   "source": [
    "# 7.1 Rolling over the contract\n",
    "\n",
    "As seen previously, the instrument we've held has a positive market value, which means we could unwind the position and realize a gain on any of day 2 or 3. If a hedge is still needed in place, this could be done by rolling over to a new forward.\n",
    "\n",
    "Rolling the forward contract can also be used dynamically to ensure periodic cash flows in foreign currencies remain hedged. Below we show an example of unwinding an existing forward, realising the gain/loss and entering a new contract. This is done using our previous example with 1M into the contracts life cycle."
   ]
  },
  {
   "cell_type": "code",
   "execution_count": 68,
   "metadata": {
    "pycharm": {
     "name": "#%%\n"
    }
   },
   "outputs": [
    {
     "data": {
      "text/html": [
       "<div>\n",
       "<style scoped>\n",
       "    .dataframe tbody tr th:only-of-type {\n",
       "        vertical-align: middle;\n",
       "    }\n",
       "\n",
       "    .dataframe tbody tr th {\n",
       "        vertical-align: top;\n",
       "    }\n",
       "\n",
       "    .dataframe thead th {\n",
       "        text-align: right;\n",
       "    }\n",
       "</style>\n",
       "<table border=\"1\" class=\"dataframe\">\n",
       "  <thead>\n",
       "    <tr style=\"text-align: right;\">\n",
       "      <th></th>\n",
       "      <th>InstrumentName</th>\n",
       "      <th>ClientInternal</th>\n",
       "      <th>Market Value</th>\n",
       "      <th>Forward Rate (Interpolated)</th>\n",
       "      <th>FX Spot Rate</th>\n",
       "      <th>Holding/default/Units</th>\n",
       "      <th>PnL (1-day)</th>\n",
       "    </tr>\n",
       "  </thead>\n",
       "  <tbody>\n",
       "    <tr>\n",
       "      <th>0</th>\n",
       "      <td>EUR/USD 6M FX Forward 20210720</td>\n",
       "      <td>FWD-EURUSD20210720</td>\n",
       "      <td>1,068.3583</td>\n",
       "      <td>1.2168</td>\n",
       "      <td>1.2119</td>\n",
       "      <td>1.0000</td>\n",
       "      <td>2,221.4566</td>\n",
       "    </tr>\n",
       "  </tbody>\n",
       "</table>\n",
       "</div>"
      ],
      "text/plain": [
       "                   InstrumentName      ClientInternal  Market Value  \\\n",
       "0  EUR/USD 6M FX Forward 20210720  FWD-EURUSD20210720    1,068.3583   \n",
       "\n",
       "   Forward Rate (Interpolated)  FX Spot Rate  Holding/default/Units  \\\n",
       "0                       1.2168        1.2119                 1.0000   \n",
       "\n",
       "   PnL (1-day)  \n",
       "0   2,221.4566  "
      ]
     },
     "execution_count": 68,
     "metadata": {},
     "output_type": "execute_result"
    }
   ],
   "source": [
    "# Query valuations as of day 30\n",
    "df = get_daily_valuation(trade_date + timedelta(days=30), portfolio_code, net_recipe_code, metrics)\n",
    "df"
   ]
  },
  {
   "cell_type": "markdown",
   "metadata": {},
   "source": [
    "In order to realize the gain/loss, we use the market value of the forward as the cost of the transaction unwinding our position."
   ]
  },
  {
   "cell_type": "code",
   "execution_count": 69,
   "metadata": {
    "pycharm": {
     "name": "#%%\n"
    }
   },
   "outputs": [
    {
     "name": "stdout",
     "output_type": "stream",
     "text": [
      "Transaction successfully updated at time: 2022-07-22 14:46:31.924696+00:00\n"
     ]
    }
   ],
   "source": [
    "# Store market value - to be realized as cash settlement\n",
    "market_val = df[\"Market Value\"][0]\n",
    "\n",
    "# Set trade parameters\n",
    "unwind_date = trade_date + timedelta(days=30, hours=12)\n",
    "\n",
    "# Book a sell transaction against the forward\n",
    "fwd_txn = lm.TransactionRequest(\n",
    "    transaction_id=\"TXN002\",\n",
    "    type=\"Sell\",\n",
    "    instrument_identifiers={\"Instrument/default/ClientInternal\": forward_identifier},\n",
    "    transaction_date=unwind_date,\n",
    "    settlement_date=unwind_date + timedelta(days=settle_days),\n",
    "    units=units,\n",
    "    transaction_price=lm.TransactionPrice(price=1,type=\"Price\"),\n",
    "    total_consideration=lm.CurrencyAndAmount(amount=market_val,currency=\"USD\"),\n",
    "    exchange_rate=1,\n",
    "    transaction_currency=\"USD\"\n",
    ")\n",
    "\n",
    "response = transaction_portfolios_api.upsert_transactions(scope=scope,\n",
    "                                                    code=portfolio_code,\n",
    "                                                    transaction_request=[fwd_txn])\n",
    "\n",
    "print(f\"Transaction successfully updated at time: {response.version.as_at_date}\")"
   ]
  },
  {
   "cell_type": "markdown",
   "metadata": {
    "pycharm": {
     "name": "#%% md\n"
    }
   },
   "source": [
    "Having unwound our position with our realized gain as cash, we can now enter a new forward with our counterparty, rolling the hedge forward. To this end we will create and book the following instrument:\n",
    "\n",
    "- Forward Exchange Rate (Strike): 1.2168\n",
    "- Buy/Receive: EUR\n",
    "- Sell/Pay: USD\n",
    "- Start Date: 19 Feb 2021\n",
    "- Maturity Date: 19 Aug 2021"
   ]
  },
  {
   "cell_type": "code",
   "execution_count": 70,
   "metadata": {
    "pycharm": {
     "name": "#%%\n"
    }
   },
   "outputs": [
    {
     "name": "stdout",
     "output_type": "stream",
     "text": [
      "LUID_00003D8U\n"
     ]
    }
   ],
   "source": [
    "# Set the instrument variables\n",
    "forward_name2 = \"EUR/USD 6M FX Forward 20210819\"\n",
    "forward_identifier2 = \"FWD-EURUSD20210819\"\n",
    "identifier_type = \"ClientInternal\"\n",
    "description = \"EUR/USD FX Forward 20210819\"\n",
    "start_date = datetime(2021, 2, 19, tzinfo=pytz.utc)\n",
    "maturity_date = datetime(2021, 8, 19, tzinfo=pytz.utc)\n",
    "dom_ccy = \"EUR\"\n",
    "fgn_ccy = \"USD\"\n",
    "dom_amount = 1000000\n",
    "fgn_amount = -1216800\n",
    "\n",
    "# Create the forward\n",
    "forward_definition = create_fx_forward(\n",
    "    dom_amount=dom_amount,\n",
    "    fgn_amount=fgn_amount,\n",
    "    dom_ccy=dom_ccy,\n",
    "    fgn_ccy=fgn_ccy,\n",
    "    start_date=start_date,\n",
    "    maturity_date=maturity_date\n",
    ")\n",
    "\n",
    "# Upsert the instrument\n",
    "upsert_response = upsert_instrument_to_lusid(forward_definition, forward_name2, forward_identifier2, identifier_type)\n",
    "luid = upsert_response.values[forward_identifier2].lusid_instrument_id\n",
    "print(luid)"
   ]
  },
  {
   "cell_type": "markdown",
   "metadata": {
    "pycharm": {
     "name": "#%% md\n"
    }
   },
   "source": [
    "We then enter the forward position with a _StockIn_, similar to what was done with our previous instrument."
   ]
  },
  {
   "cell_type": "code",
   "execution_count": 71,
   "metadata": {
    "pycharm": {
     "name": "#%%\n"
    }
   },
   "outputs": [
    {
     "name": "stdout",
     "output_type": "stream",
     "text": [
      "Transaction successfully updated at time: 2022-07-22 14:46:31.924696+00:00\n"
     ]
    }
   ],
   "source": [
    "# Book a StockIn transaction against the new forward\n",
    "fwd_txn = lm.TransactionRequest(\n",
    "    transaction_id=\"TXN003\",\n",
    "    type=\"StockIn\",\n",
    "    instrument_identifiers={\"Instrument/default/ClientInternal\": forward_identifier2},\n",
    "    transaction_date=unwind_date,\n",
    "    settlement_date=unwind_date + timedelta(days=settle_days),\n",
    "    units=units,\n",
    "    transaction_price=lm.TransactionPrice(price=1,type=\"Price\"),\n",
    "    total_consideration=lm.CurrencyAndAmount(amount=1,currency=\"USD\"),\n",
    "    exchange_rate=1,\n",
    "    transaction_currency=\"USD\"\n",
    ")\n",
    "\n",
    "response = transaction_portfolios_api.upsert_transactions(scope=scope,\n",
    "                                                    code=portfolio_code,\n",
    "                                                    transaction_request=[fwd_txn])\n",
    "\n",
    "print(f\"Transaction successfully updated at time: {response.version.as_at_date}\")\n"
   ]
  },
  {
   "cell_type": "markdown",
   "metadata": {
    "pycharm": {
     "name": "#%% md\n"
    }
   },
   "source": [
    "# 7.2 Upsertable Cash Flows\n",
    "\n",
    "For the instrument's life cycle events, LUSID has a native cash flows API end point that allows a user to query upcoming portfolio flows. The example below shows an example that retrieves the cash flows occurring at maturity for the FX forward, as shown below for both the EUR and USD legs.\n",
    "\n",
    "Notice that the results of the _UpsertableCashFlows_ call will be composed of headers that match an _UpsertTransactions_ payload, which means it can be used to execute life cycle events as part of a scripted process."
   ]
  },
  {
   "cell_type": "code",
   "execution_count": 72,
   "metadata": {
    "pycharm": {
     "name": "#%%\n"
    }
   },
   "outputs": [
    {
     "data": {
      "text/html": [
       "<div>\n",
       "<style scoped>\n",
       "    .dataframe tbody tr th:only-of-type {\n",
       "        vertical-align: middle;\n",
       "    }\n",
       "\n",
       "    .dataframe tbody tr th {\n",
       "        vertical-align: top;\n",
       "    }\n",
       "\n",
       "    .dataframe thead th {\n",
       "        text-align: right;\n",
       "    }\n",
       "</style>\n",
       "<table border=\"1\" class=\"dataframe\">\n",
       "  <thead>\n",
       "    <tr style=\"text-align: right;\">\n",
       "      <th></th>\n",
       "      <th>transaction_id</th>\n",
       "      <th>type</th>\n",
       "      <th>instrument_identifiers</th>\n",
       "      <th>instrument_scope</th>\n",
       "      <th>instrument_uid</th>\n",
       "      <th>transaction_date</th>\n",
       "      <th>settlement_date</th>\n",
       "      <th>units</th>\n",
       "      <th>transaction_price.price</th>\n",
       "      <th>transaction_price.type</th>\n",
       "      <th>total_consideration.amount</th>\n",
       "      <th>total_consideration.currency</th>\n",
       "      <th>exchange_rate</th>\n",
       "      <th>transaction_currency</th>\n",
       "      <th>properties</th>\n",
       "      <th>source</th>\n",
       "      <th>entry_date_time</th>\n",
       "      <th>transaction_status</th>\n",
       "    </tr>\n",
       "  </thead>\n",
       "  <tbody>\n",
       "    <tr>\n",
       "      <th>0</th>\n",
       "      <td>TXN002-LUID_00003D8T-20210720-Principal-EUR-Re...</td>\n",
       "      <td>CashFlow</td>\n",
       "      <td>{}</td>\n",
       "      <td>default</td>\n",
       "      <td>LUID_00003D8T</td>\n",
       "      <td>2021-07-20 00:00:00+00:00</td>\n",
       "      <td>2021-07-20 00:00:00+00:00</td>\n",
       "      <td>0.0000</td>\n",
       "      <td>1.0000</td>\n",
       "      <td>Price</td>\n",
       "      <td>0.0000</td>\n",
       "      <td>EUR</td>\n",
       "      <td>1.0000</td>\n",
       "      <td>EUR</td>\n",
       "      <td>{}</td>\n",
       "      <td>default</td>\n",
       "      <td>0001-01-01 00:00:00+00:00</td>\n",
       "      <td>Active</td>\n",
       "    </tr>\n",
       "    <tr>\n",
       "      <th>1</th>\n",
       "      <td>TXN002-LUID_00003D8T-20210720-Principal-USD-Pay</td>\n",
       "      <td>CashFlow</td>\n",
       "      <td>{}</td>\n",
       "      <td>default</td>\n",
       "      <td>LUID_00003D8T</td>\n",
       "      <td>2021-07-20 00:00:00+00:00</td>\n",
       "      <td>2021-07-20 00:00:00+00:00</td>\n",
       "      <td>0.0000</td>\n",
       "      <td>1.0000</td>\n",
       "      <td>Price</td>\n",
       "      <td>0.0000</td>\n",
       "      <td>USD</td>\n",
       "      <td>1.0000</td>\n",
       "      <td>USD</td>\n",
       "      <td>{}</td>\n",
       "      <td>default</td>\n",
       "      <td>0001-01-01 00:00:00+00:00</td>\n",
       "      <td>Active</td>\n",
       "    </tr>\n",
       "    <tr>\n",
       "      <th>2</th>\n",
       "      <td>TXN003-LUID_00003D8U-20210819-Principal-EUR-Re...</td>\n",
       "      <td>CashFlow</td>\n",
       "      <td>{}</td>\n",
       "      <td>default</td>\n",
       "      <td>LUID_00003D8U</td>\n",
       "      <td>2021-08-19 00:00:00+00:00</td>\n",
       "      <td>2021-08-19 00:00:00+00:00</td>\n",
       "      <td>1,000,000.0000</td>\n",
       "      <td>1.0000</td>\n",
       "      <td>Price</td>\n",
       "      <td>1,000,000.0000</td>\n",
       "      <td>EUR</td>\n",
       "      <td>1.0000</td>\n",
       "      <td>EUR</td>\n",
       "      <td>{}</td>\n",
       "      <td>default</td>\n",
       "      <td>0001-01-01 00:00:00+00:00</td>\n",
       "      <td>Active</td>\n",
       "    </tr>\n",
       "    <tr>\n",
       "      <th>3</th>\n",
       "      <td>TXN003-LUID_00003D8U-20210819-Principal-USD-Pay</td>\n",
       "      <td>CashFlow</td>\n",
       "      <td>{}</td>\n",
       "      <td>default</td>\n",
       "      <td>LUID_00003D8U</td>\n",
       "      <td>2021-08-19 00:00:00+00:00</td>\n",
       "      <td>2021-08-19 00:00:00+00:00</td>\n",
       "      <td>-1,216,800.0000</td>\n",
       "      <td>1.0000</td>\n",
       "      <td>Price</td>\n",
       "      <td>-1,216,800.0000</td>\n",
       "      <td>USD</td>\n",
       "      <td>1.0000</td>\n",
       "      <td>USD</td>\n",
       "      <td>{}</td>\n",
       "      <td>default</td>\n",
       "      <td>0001-01-01 00:00:00+00:00</td>\n",
       "      <td>Active</td>\n",
       "    </tr>\n",
       "  </tbody>\n",
       "</table>\n",
       "</div>"
      ],
      "text/plain": [
       "                                      transaction_id      type  \\\n",
       "0  TXN002-LUID_00003D8T-20210720-Principal-EUR-Re...  CashFlow   \n",
       "1    TXN002-LUID_00003D8T-20210720-Principal-USD-Pay  CashFlow   \n",
       "2  TXN003-LUID_00003D8U-20210819-Principal-EUR-Re...  CashFlow   \n",
       "3    TXN003-LUID_00003D8U-20210819-Principal-USD-Pay  CashFlow   \n",
       "\n",
       "  instrument_identifiers instrument_scope instrument_uid  \\\n",
       "0                     {}          default  LUID_00003D8T   \n",
       "1                     {}          default  LUID_00003D8T   \n",
       "2                     {}          default  LUID_00003D8U   \n",
       "3                     {}          default  LUID_00003D8U   \n",
       "\n",
       "           transaction_date           settlement_date           units  \\\n",
       "0 2021-07-20 00:00:00+00:00 2021-07-20 00:00:00+00:00          0.0000   \n",
       "1 2021-07-20 00:00:00+00:00 2021-07-20 00:00:00+00:00          0.0000   \n",
       "2 2021-08-19 00:00:00+00:00 2021-08-19 00:00:00+00:00  1,000,000.0000   \n",
       "3 2021-08-19 00:00:00+00:00 2021-08-19 00:00:00+00:00 -1,216,800.0000   \n",
       "\n",
       "   transaction_price.price transaction_price.type  total_consideration.amount  \\\n",
       "0                   1.0000                  Price                      0.0000   \n",
       "1                   1.0000                  Price                      0.0000   \n",
       "2                   1.0000                  Price              1,000,000.0000   \n",
       "3                   1.0000                  Price             -1,216,800.0000   \n",
       "\n",
       "  total_consideration.currency  exchange_rate transaction_currency properties  \\\n",
       "0                          EUR         1.0000                  EUR         {}   \n",
       "1                          USD         1.0000                  USD         {}   \n",
       "2                          EUR         1.0000                  EUR         {}   \n",
       "3                          USD         1.0000                  USD         {}   \n",
       "\n",
       "    source            entry_date_time transaction_status  \n",
       "0  default  0001-01-01 00:00:00+00:00             Active  \n",
       "1  default  0001-01-01 00:00:00+00:00             Active  \n",
       "2  default  0001-01-01 00:00:00+00:00             Active  \n",
       "3  default  0001-01-01 00:00:00+00:00             Active  "
      ]
     },
     "execution_count": 72,
     "metadata": {},
     "output_type": "execute_result"
    }
   ],
   "source": [
    "upsertable_cash_flows = transaction_portfolios_api.get_upsertable_portfolio_cash_flows(\n",
    "    scope=scope,\n",
    "    code=portfolio_code,\n",
    "    effective_at=unwind_date,\n",
    "    window_start=trade_date,\n",
    "    window_end=maturity_date,\n",
    "    recipe_id_scope=scope,\n",
    "    recipe_id_code=net_recipe_code\n",
    ")\n",
    "\n",
    "# we create a dataframe out of the cash flows table and drop some columns to improve readability\n",
    "cash_flow_table = lusid_response_to_data_frame(upsertable_cash_flows)\n",
    "if(not cash_flow_table.empty):\n",
    "    cash_flow_table.drop(['instrument_uid', 'properties', 'source', 'entry_date_time', 'transaction_currency', 'units', 'transaction_price.price', 'transaction_price.type', 'exchange_rate'], axis=1)\n",
    "cash_flow_table"
   ]
  },
  {
   "cell_type": "markdown",
   "metadata": {
    "pycharm": {
     "name": "#%% md\n"
    }
   },
   "source": [
    "# 7.3 At Maturity\n",
    "\n",
    "The previous cash flows output can also be ingested as transaction in order for the portfolio holdings to reflect the settlement of 2 instrument cash flows. These are not booked automatically, but the process can be scripted for where needed, and run as a scheduled job in LUSID. This process that can be run periodically would consist of the following steps:\n",
    "1. Retrieve upsertable cash flows.\n",
    "2. Remove the zero cash flows\n",
    "3. Book cash flows as transactions in order to adjust holdings.\n",
    "\n",
    "Below we upsert the previously seen cash flows below to show this taking place."
   ]
  },
  {
   "cell_type": "code",
   "execution_count": 73,
   "metadata": {
    "pycharm": {
     "name": "#%%\n"
    }
   },
   "outputs": [
    {
     "name": "stdout",
     "output_type": "stream",
     "text": [
      "Transaction successfully updated at time: 2022-07-22 14:46:31.924696+00:00\n"
     ]
    }
   ],
   "source": [
    "# Set the instrument identifiers\n",
    "non_zero_upsertable_cash_flows = []\n",
    "\n",
    "for x in upsertable_cash_flows.values:\n",
    "    if(x.units != 0):\n",
    "        x.instrument_identifiers = {\"Instrument/default/Currency\": x.transaction_currency}\n",
    "        non_zero_upsertable_cash_flows.append(x)\n",
    "\n",
    "        # Upsert the transactions\n",
    "response = transaction_portfolios_api.upsert_transactions(\n",
    "    scope=scope,\n",
    "    code=portfolio_code,\n",
    "    transaction_request=non_zero_upsertable_cash_flows\n",
    ")\n",
    "\n",
    "print(f\"Transaction successfully updated at time: {response.version.as_at_date}\")"
   ]
  },
  {
   "cell_type": "markdown",
   "metadata": {
    "pycharm": {
     "name": "#%% md\n"
    }
   },
   "source": [
    "With the cash transactions loaded into LUSID, we can now view our holdings as of the maturity date."
   ]
  },
  {
   "cell_type": "code",
   "execution_count": 74,
   "metadata": {
    "pycharm": {
     "name": "#%%\n"
    }
   },
   "outputs": [
    {
     "data": {
      "text/html": [
       "<div>\n",
       "<style scoped>\n",
       "    .dataframe tbody tr th:only-of-type {\n",
       "        vertical-align: middle;\n",
       "    }\n",
       "\n",
       "    .dataframe tbody tr th {\n",
       "        vertical-align: top;\n",
       "    }\n",
       "\n",
       "    .dataframe thead th {\n",
       "        text-align: right;\n",
       "    }\n",
       "</style>\n",
       "<table border=\"1\" class=\"dataframe\">\n",
       "  <thead>\n",
       "    <tr style=\"text-align: right;\">\n",
       "      <th></th>\n",
       "      <th>InstrumentName</th>\n",
       "      <th>ClientInternal</th>\n",
       "      <th>Market Value</th>\n",
       "      <th>Forward Rate (Interpolated)</th>\n",
       "      <th>FX Spot Rate</th>\n",
       "      <th>Holding/default/Units</th>\n",
       "      <th>PnL (1-day)</th>\n",
       "    </tr>\n",
       "  </thead>\n",
       "  <tbody>\n",
       "    <tr>\n",
       "      <th>0</th>\n",
       "      <td>EUR/USD 6M FX Forward 20210819</td>\n",
       "      <td>FWD-EURUSD20210819</td>\n",
       "      <td>-37,065.1653</td>\n",
       "      <td>1.1733</td>\n",
       "      <td>1.1675</td>\n",
       "      <td>1.0000</td>\n",
       "      <td>-3,172.2318</td>\n",
       "    </tr>\n",
       "    <tr>\n",
       "      <th>1</th>\n",
       "      <td>USD</td>\n",
       "      <td>None</td>\n",
       "      <td>-1,041,311.8987</td>\n",
       "      <td>NaN</td>\n",
       "      <td>NaN</td>\n",
       "      <td>-1,215,731.6417</td>\n",
       "      <td>0.0000</td>\n",
       "    </tr>\n",
       "    <tr>\n",
       "      <th>2</th>\n",
       "      <td>EUR</td>\n",
       "      <td>None</td>\n",
       "      <td>1,000,000.0000</td>\n",
       "      <td>NaN</td>\n",
       "      <td>NaN</td>\n",
       "      <td>1,000,000.0000</td>\n",
       "      <td>0.0000</td>\n",
       "    </tr>\n",
       "  </tbody>\n",
       "</table>\n",
       "</div>"
      ],
      "text/plain": [
       "                   InstrumentName      ClientInternal    Market Value  \\\n",
       "0  EUR/USD 6M FX Forward 20210819  FWD-EURUSD20210819    -37,065.1653   \n",
       "1                             USD                None -1,041,311.8987   \n",
       "2                             EUR                None  1,000,000.0000   \n",
       "\n",
       "   Forward Rate (Interpolated)  FX Spot Rate  Holding/default/Units  \\\n",
       "0                       1.1733        1.1675                 1.0000   \n",
       "1                          NaN           NaN        -1,215,731.6417   \n",
       "2                          NaN           NaN         1,000,000.0000   \n",
       "\n",
       "   PnL (1-day)  \n",
       "0  -3,172.2318  \n",
       "1       0.0000  \n",
       "2       0.0000  "
      ]
     },
     "execution_count": 74,
     "metadata": {},
     "output_type": "execute_result"
    }
   ],
   "source": [
    "df = get_daily_valuation(maturity_date, portfolio_code, net_recipe_code, metrics)\n",
    "df"
   ]
  },
  {
   "cell_type": "markdown",
   "metadata": {
    "pycharm": {
     "name": "#%% md\n"
    }
   },
   "source": [
    "As we can see, we now have our cash balances within our portfolio holdings. However, we still hold a position in the FX forward position with a negative market value.\n",
    "\n",
    "In order to remove the instrument from our holdings, we will need to add a transaction to reflect this. The default `StockOut` transaction can be used here as shown below."
   ]
  },
  {
   "cell_type": "code",
   "execution_count": 75,
   "metadata": {
    "pycharm": {
     "name": "#%%\n"
    }
   },
   "outputs": [
    {
     "name": "stdout",
     "output_type": "stream",
     "text": [
      "Transaction successfully updated at time: 2022-07-22 14:46:31.924696+00:00\n"
     ]
    }
   ],
   "source": [
    "#Set trade variables\n",
    "settle_days = 2\n",
    "units = 1\n",
    "\n",
    "# Book a StockOut transaction against the forward\n",
    "fwd_txn = lm.TransactionRequest(\n",
    "    transaction_id=\"TXN004\",\n",
    "    type=\"StockOut\",\n",
    "    instrument_identifiers={\"Instrument/default/ClientInternal\": forward_identifier2},\n",
    "    transaction_date=maturity_date + timedelta(days=1),\n",
    "    settlement_date=maturity_date + timedelta(days=settle_days),\n",
    "    units=units,\n",
    "    transaction_price=lm.TransactionPrice(price=1,type=\"Price\"),\n",
    "    total_consideration=lm.CurrencyAndAmount(amount=1,currency=\"USD\"),\n",
    "    exchange_rate=1,\n",
    "    transaction_currency=\"USD\"\n",
    ")\n",
    "\n",
    "response = transaction_portfolios_api.upsert_transactions(scope=scope,\n",
    "                                                    code=portfolio_code,\n",
    "                                                    transaction_request=[fwd_txn])\n",
    "\n",
    "print(f\"Transaction successfully updated at time: {response.version.as_at_date}\")"
   ]
  },
  {
   "cell_type": "markdown",
   "metadata": {
    "pycharm": {
     "name": "#%% md\n"
    }
   },
   "source": [
    "We can now observe our holdings within the portfolio that include only the cash balances and the market value of each position."
   ]
  },
  {
   "cell_type": "code",
   "execution_count": 76,
   "metadata": {
    "pycharm": {
     "name": "#%%\n"
    }
   },
   "outputs": [
    {
     "data": {
      "text/html": [
       "<div>\n",
       "<style scoped>\n",
       "    .dataframe tbody tr th:only-of-type {\n",
       "        vertical-align: middle;\n",
       "    }\n",
       "\n",
       "    .dataframe tbody tr th {\n",
       "        vertical-align: top;\n",
       "    }\n",
       "\n",
       "    .dataframe thead th {\n",
       "        text-align: right;\n",
       "    }\n",
       "</style>\n",
       "<table border=\"1\" class=\"dataframe\">\n",
       "  <thead>\n",
       "    <tr style=\"text-align: right;\">\n",
       "      <th></th>\n",
       "      <th>InstrumentName</th>\n",
       "      <th>ClientInternal</th>\n",
       "      <th>Market Value</th>\n",
       "      <th>Forward Rate (Interpolated)</th>\n",
       "      <th>FX Spot Rate</th>\n",
       "      <th>Holding/default/Units</th>\n",
       "      <th>PnL (1-day)</th>\n",
       "    </tr>\n",
       "  </thead>\n",
       "  <tbody>\n",
       "    <tr>\n",
       "      <th>0</th>\n",
       "      <td>USD</td>\n",
       "      <td>None</td>\n",
       "      <td>-1,039,264.5253</td>\n",
       "      <td>None</td>\n",
       "      <td>None</td>\n",
       "      <td>-1,215,731.6417</td>\n",
       "      <td>0.0000</td>\n",
       "    </tr>\n",
       "    <tr>\n",
       "      <th>1</th>\n",
       "      <td>EUR</td>\n",
       "      <td>None</td>\n",
       "      <td>1,000,000.0000</td>\n",
       "      <td>None</td>\n",
       "      <td>None</td>\n",
       "      <td>1,000,000.0000</td>\n",
       "      <td>0.0000</td>\n",
       "    </tr>\n",
       "  </tbody>\n",
       "</table>\n",
       "</div>"
      ],
      "text/plain": [
       "  InstrumentName ClientInternal    Market Value Forward Rate (Interpolated)  \\\n",
       "0            USD           None -1,039,264.5253                        None   \n",
       "1            EUR           None  1,000,000.0000                        None   \n",
       "\n",
       "  FX Spot Rate  Holding/default/Units  PnL (1-day)  \n",
       "0         None        -1,215,731.6417       0.0000  \n",
       "1         None         1,000,000.0000       0.0000  "
      ]
     },
     "execution_count": 76,
     "metadata": {},
     "output_type": "execute_result"
    }
   ],
   "source": [
    "df = get_daily_valuation(maturity_date + timedelta(days=settle_days), portfolio_code, net_recipe_code, metrics)\n",
    "df"
   ]
  }
 ],
 "metadata": {
  "kernelspec": {
   "display_name": "Python 3 (ipykernel)",
   "language": "python",
   "name": "python3"
  },
  "language_info": {
   "codemirror_mode": {
    "name": "ipython",
    "version": 3
   },
   "file_extension": ".py",
   "mimetype": "text/x-python",
   "name": "python",
   "nbconvert_exporter": "python",
   "pygments_lexer": "ipython3",
   "version": "3.9.7"
  }
 },
 "nbformat": 4,
 "nbformat_minor": 1
}
