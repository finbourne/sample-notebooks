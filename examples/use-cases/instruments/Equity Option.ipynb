{
 "cells": [
  {
   "cell_type": "code",
   "execution_count": 180,
   "metadata": {},
   "outputs": [],
   "source": [
    "from lusidtools.jupyter_tools import toggle_code"
   ]
  },
  {
   "cell_type": "markdown",
   "metadata": {},
   "source": [
    "# Booking and valuing an Equity Option with physical settlement"
   ]
  },
  {
   "cell_type": "markdown",
   "metadata": {},
   "source": [
    "In this notebook, we will demonstrate how you book can book in an equity option with physical settlement. We will calculate the present value of this option and show how the portfolio will look upon expiry date where we physically settle the instrument.\n",
    "\n",
    "## Table of Contents:\n",
    "* [1. Create a portfolio](#1.-Create-Portfolio)\n",
    "* [2. Creating an equity option](#2.-Create-Instruments)\n",
    "* [3. Transactions](#3.-Transactions)\n",
    "* [4. Quotes](#4.-Quotes)\n",
    "* [5. Valuation](#5.-Valuations)\n",
    "* [6. Physical Settlement](#6.-Physical-Settlement)"
   ]
  },
  {
   "cell_type": "code",
   "execution_count": 181,
   "metadata": {},
   "outputs": [
    {
     "name": "stdout",
     "output_type": "stream",
     "text": [
      "LUSID Environment Initialised\n",
      "LUSID API Version : 0.6.8241.0\n"
     ]
    }
   ],
   "source": [
    "# Import generic non-LUSID packages\n",
    "import os\n",
    "import pandas as pd\n",
    "import numpy as np\n",
    "from datetime import datetime\n",
    "import json\n",
    "import pytz\n",
    "import time\n",
    "from IPython.core.display import HTML\n",
    "\n",
    "# Import key modules from the LUSID package\n",
    "import lusid as lu\n",
    "import lusid.models as lm\n",
    "\n",
    "# Import key functions from Lusid-Python-Tools and other packages\n",
    "from lusidtools.pandas_utils.lusid_pandas import lusid_response_to_data_frame\n",
    "from lusidtools.cocoon.transaction_type_upload import upsert_transaction_type_alias\n",
    "from lusidtools.lpt.lpt import to_date\n",
    "from lusidjam import RefreshingToken\n",
    "\n",
    "\n",
    "# Set DataFrame display formats\n",
    "pd.set_option(\"display.max_columns\", None)\n",
    "pd.set_option(\"display.max_rows\", None)\n",
    "pd.options.display.float_format = \"{:,.2f}\".format\n",
    "# display(HTML(\"<style>.container { width:90% !important; }</style>\"))\n",
    "\n",
    "# Set the secrets path\n",
    "secrets_path = os.getenv(\"FBN_SECRETS_PATH\")\n",
    "\n",
    "# For running the notebook locally\n",
    "if secrets_path is None:\n",
    "    secrets_path = os.path.join(os.path.dirname(os.getcwd()), \"secrets.json\")\n",
    "\n",
    "# Authenticate our user and create our API client\n",
    "api_factory = lu.utilities.ApiClientFactory(\n",
    "    token=RefreshingToken(), api_secrets_filename=secrets_path\n",
    ")\n",
    "\n",
    "print(\"LUSID Environment Initialised\")\n",
    "print(\n",
    "    \"LUSID API Version :\",\n",
    "    api_factory.build(lu.api.ApplicationMetadataApi).get_lusid_versions().build_version,\n",
    ")"
   ]
  },
  {
   "cell_type": "code",
   "execution_count": 182,
   "metadata": {},
   "outputs": [],
   "source": [
    "# LUSID Variable Definitions\n",
    "portfolio_api = api_factory.build(lu.api.PortfoliosApi)\n",
    "transaction_portfolios_api = api_factory.build(lu.api.TransactionPortfoliosApi)\n",
    "instruments_api = api_factory.build(lu.api.InstrumentsApi)\n",
    "quotes_api = api_factory.build(lu.api.QuotesApi)\n",
    "configuration_recipe_api = api_factory.build(lu.api.ConfigurationRecipeApi)\n",
    "system_configuration_api = api_factory.build(lu.api.SystemConfigurationApi)\n",
    "aggregration_api = api_factory.build(lu.api.AggregationApi)"
   ]
  },
  {
   "cell_type": "code",
   "execution_count": 183,
   "metadata": {},
   "outputs": [],
   "source": [
    "# Define scopes\n",
    "scope = \"ibor\"\n",
    "quotes_scope = \"ibor\"\n",
    "portfolio_code = \"equityOptionPortfolio\""
   ]
  },
  {
   "cell_type": "markdown",
   "metadata": {},
   "source": [
    "# 1. Create Portfolio\n",
    "\n",
    "Create the portfolio that will contain the Equity Option."
   ]
  },
  {
   "cell_type": "code",
   "execution_count": 184,
   "metadata": {},
   "outputs": [],
   "source": [
    "try:\n",
    "    transaction_portfolios_api.create_portfolio(\n",
    "        scope=scope,\n",
    "        create_transaction_portfolio_request=lm.CreateTransactionPortfolioRequest(\n",
    "            display_name=portfolio_code,\n",
    "            code=portfolio_code,\n",
    "            base_currency=\"USD\",\n",
    "            created=\"2010-01-01\",\n",
    "            sub_holding_keys=[],\n",
    "        ),\n",
    "    )\n",
    "\n",
    "except lu.ApiException as e:\n",
    "    print(json.loads(e.body)[\"title\"])"
   ]
  },
  {
   "cell_type": "markdown",
   "metadata": {},
   "source": [
    "# 2. Create Instruments\n",
    "\n",
    "## 2.1 Create the underlying instruments\n",
    "\n",
    "In order to create a derivative on an instrument, we must first create that underlying instrument. As we are planning to create CFDs based on Amazon and Apple, we will upsert the underlying stocks first."
   ]
  },
  {
   "cell_type": "code",
   "execution_count": 185,
   "metadata": {},
   "outputs": [
    {
     "name": "stdout",
     "output_type": "stream",
     "text": [
      "LUID_0000CZRI\n"
     ]
    }
   ],
   "source": [
    "# upload AMZN and AAPL Equities\n",
    "\n",
    "equity = lm.SimpleInstrument(\n",
    "    instrument_type=\"SimpleInstrument\", \n",
    "    dom_ccy=\"USD\", \n",
    "    asset_class=\"Equities\", \n",
    "    simple_instrument_type=\"Equity\"\n",
    ")\n",
    "\n",
    "equity_definition = lm.InstrumentDefinition(\n",
    "    name=\"Amazon.com\",\n",
    "    identifiers={\"ClientInternal\": lm.InstrumentIdValue(\"AMZN\"), \"RIC\": lm.InstrumentIdValue(\"AMZN\")},\n",
    "    definition=equity,\n",
    ")\n",
    "\n",
    "# upsert the instrument\n",
    "upsert_request = {\"AMZN\": equity_definition}\n",
    "upsert_response = instruments_api.upsert_instruments(request_body=upsert_request)\n",
    "equity_luid = upsert_response.values[\"AMZN\"].lusid_instrument_id\n",
    "print(equity_luid)"
   ]
  },
  {
   "cell_type": "markdown",
   "metadata": {},
   "source": [
    "## 2.2 Create the Equity Option\n",
    "\n",
    "Now that we have created the underlying stocks, we can create a function to upsert equity options in LUSID."
   ]
  },
  {
   "cell_type": "code",
   "execution_count": 186,
   "metadata": {},
   "outputs": [],
   "source": [
    "def create_option(\n",
    "    option_name, \n",
    "    option_identifier, \n",
    "    start_date,\n",
    "    option_maturity_date, \n",
    "    option_settle_date, \n",
    "    delivery_type, \n",
    "    option_type, \n",
    "    strike, \n",
    "    dom_ccy,\n",
    "    underlying_code,\n",
    "    underlying_identifier,\n",
    "):\n",
    "\n",
    "    option = lm.EquityOption( \n",
    "        instrument_type=\"EquityOption\", \n",
    "        start_date=start_date, \n",
    "        option_maturity_date=option_maturity_date,\n",
    "        option_settlement_date=option_settle_date, \n",
    "        delivery_type=delivery_type, \n",
    "        option_type=option_type, \n",
    "        strike=strike, \n",
    "        dom_ccy=dom_ccy, \n",
    "        underlying_identifier=underlying_identifier, \n",
    "        code=underlying_code,\n",
    "    )\n",
    "\n",
    "    # define the instrument to be upserted\n",
    "    option_definition = lm.InstrumentDefinition(\n",
    "        name=option_name,\n",
    "        identifiers={\"ClientInternal\": lm.InstrumentIdValue(option_identifier)},\n",
    "        definition=option,\n",
    "    )\n",
    "\n",
    "    # upsert the instrument\n",
    "    upsert_request = {option_identifier: option_definition}\n",
    "    upsert_response = instruments_api.upsert_instruments(request_body=upsert_request)\n",
    "    option_luid = upsert_response.values[option_identifier].lusid_instrument_id\n",
    "    print(option_luid)"
   ]
  },
  {
   "cell_type": "markdown",
   "metadata": {},
   "source": [
    "After creating the function that will upsert equity options, we can now use this function to create an Amazon call."
   ]
  },
  {
   "cell_type": "code",
   "execution_count": 187,
   "metadata": {},
   "outputs": [
    {
     "name": "stdout",
     "output_type": "stream",
     "text": [
      "LUID_0000GXWC\n"
     ]
    }
   ],
   "source": [
    "option_name = \"AMZN 10/15/21 C3400\"\n",
    "option_identifier = \"AMZN_10/15/21_C3400\"\n",
    "start_date = datetime(2021, 9, 15, 00, tzinfo=pytz.utc)\n",
    "option_maturity_date = datetime(2021, 10, 15, 00, tzinfo=pytz.utc)\n",
    "option_settle_date = datetime(2021, 10, 15, 00, tzinfo=pytz.utc)\n",
    "delivery_type = \"Physical\"\n",
    "option_type = \"Call\"\n",
    "strike = 3400\n",
    "dom_ccy = \"USD\"\n",
    "underlying_code = \"AMZN\"\n",
    "underlying_identifier = \"RIC\"\n",
    "\n",
    "create_option(\n",
    "    option_name, \n",
    "    option_identifier, \n",
    "    start_date,\n",
    "    option_maturity_date, \n",
    "    option_settle_date, \n",
    "    delivery_type, \n",
    "    option_type, \n",
    "    strike, \n",
    "    dom_ccy,\n",
    "    underlying_code,\n",
    "    underlying_identifier,\n",
    ")\n"
   ]
  },
  {
   "cell_type": "markdown",
   "metadata": {},
   "source": [
    "# 3. Transactions"
   ]
  },
  {
   "cell_type": "markdown",
   "metadata": {},
   "source": [
    "## 3.2 Book Transactions"
   ]
  },
  {
   "cell_type": "markdown",
   "metadata": {},
   "source": []
  },
  {
   "cell_type": "code",
   "execution_count": 188,
   "metadata": {},
   "outputs": [
    {
     "data": {
      "text/html": [
       "<div>\n",
       "<style scoped>\n",
       "    .dataframe tbody tr th:only-of-type {\n",
       "        vertical-align: middle;\n",
       "    }\n",
       "\n",
       "    .dataframe tbody tr th {\n",
       "        vertical-align: top;\n",
       "    }\n",
       "\n",
       "    .dataframe thead th {\n",
       "        text-align: right;\n",
       "    }\n",
       "</style>\n",
       "<table border=\"1\" class=\"dataframe\">\n",
       "  <thead>\n",
       "    <tr style=\"text-align: right;\">\n",
       "      <th></th>\n",
       "      <th>txn_id</th>\n",
       "      <th>type</th>\n",
       "      <th>client_id</th>\n",
       "      <th>trade_date</th>\n",
       "      <th>settlement_date</th>\n",
       "      <th>quantity</th>\n",
       "      <th>price</th>\n",
       "      <th>total_consideration</th>\n",
       "      <th>currency</th>\n",
       "      <th>portfolio</th>\n",
       "    </tr>\n",
       "  </thead>\n",
       "  <tbody>\n",
       "    <tr>\n",
       "      <th>0</th>\n",
       "      <td>txn001</td>\n",
       "      <td>StockIn</td>\n",
       "      <td>AMZN_10/15/21_C3400</td>\n",
       "      <td>2021-09-16T08:00:00Z</td>\n",
       "      <td>2021-09-16T08:00:00Z</td>\n",
       "      <td>100</td>\n",
       "      <td>220</td>\n",
       "      <td>22,000.00</td>\n",
       "      <td>USD</td>\n",
       "      <td>equityOptionPortfolio</td>\n",
       "    </tr>\n",
       "  </tbody>\n",
       "</table>\n",
       "</div>"
      ],
      "text/plain": [
       "   txn_id     type            client_id            trade_date  \\\n",
       "0  txn001  StockIn  AMZN_10/15/21_C3400  2021-09-16T08:00:00Z   \n",
       "\n",
       "        settlement_date  quantity  price total_consideration currency  \\\n",
       "0  2021-09-16T08:00:00Z       100    220           22,000.00      USD   \n",
       "\n",
       "               portfolio  \n",
       "0  equityOptionPortfolio  "
      ]
     },
     "execution_count": 188,
     "metadata": {},
     "output_type": "execute_result"
    }
   ],
   "source": [
    "transactions = pd.read_csv(\"data/equity_option_transaction_data.csv\")\n",
    "transactions"
   ]
  },
  {
   "cell_type": "code",
   "execution_count": 189,
   "metadata": {},
   "outputs": [
    {
     "name": "stdout",
     "output_type": "stream",
     "text": [
      "Transactions succesfully updated at time: 2021-11-29 17:51:52.128671+00:00\n"
     ]
    }
   ],
   "source": [
    "for portfolio_code, grouped_df in transactions.groupby('portfolio'):\n",
    "\n",
    "    transaction_request=[\n",
    "            lm.TransactionRequest(\n",
    "                transaction_id=row[\"txn_id\"],\n",
    "                type=row[\"type\"],\n",
    "                instrument_identifiers={\n",
    "                    \"Instrument/default/ClientInternal\" :row[\"client_id\"]\n",
    "                },\n",
    "                transaction_date=row[\"trade_date\"],\n",
    "                settlement_date=row[\"settlement_date\"],\n",
    "                units=row[\"quantity\"],\n",
    "                transaction_price=lm.TransactionPrice(\n",
    "                    price=row[\"price\"], type=\"Price\"\n",
    "                ),\n",
    "                total_consideration=lm.CurrencyAndAmount(\n",
    "                    amount=row[\"total_consideration\"], currency=row[\"currency\"]\n",
    "                ),\n",
    "            ) for index, row in grouped_df.iterrows()\n",
    "        ]\n",
    "\n",
    "    response = transaction_portfolios_api.upsert_transactions(\n",
    "        scope=scope,\n",
    "        code=portfolio_code,\n",
    "        transaction_request=transaction_request\n",
    "      )\n",
    "\n",
    "    print(f\"Transactions succesfully updated at time: {response.version.as_at_date}\")"
   ]
  },
  {
   "cell_type": "markdown",
   "metadata": {},
   "source": [
    "# 4. Quotes"
   ]
  },
  {
   "cell_type": "markdown",
   "metadata": {},
   "source": []
  },
  {
   "cell_type": "code",
   "execution_count": 190,
   "metadata": {},
   "outputs": [
    {
     "data": {
      "text/html": [
       "<div>\n",
       "<style scoped>\n",
       "    .dataframe tbody tr th:only-of-type {\n",
       "        vertical-align: middle;\n",
       "    }\n",
       "\n",
       "    .dataframe tbody tr th {\n",
       "        vertical-align: top;\n",
       "    }\n",
       "\n",
       "    .dataframe thead th {\n",
       "        text-align: right;\n",
       "    }\n",
       "</style>\n",
       "<table border=\"1\" class=\"dataframe\">\n",
       "  <thead>\n",
       "    <tr style=\"text-align: right;\">\n",
       "      <th></th>\n",
       "      <th>RIC</th>\n",
       "      <th>date</th>\n",
       "      <th>price</th>\n",
       "      <th>currency</th>\n",
       "    </tr>\n",
       "  </thead>\n",
       "  <tbody>\n",
       "    <tr>\n",
       "      <th>0</th>\n",
       "      <td>AMZN</td>\n",
       "      <td>15/09/2021</td>\n",
       "      <td>3,475.79</td>\n",
       "      <td>USD</td>\n",
       "    </tr>\n",
       "    <tr>\n",
       "      <th>1</th>\n",
       "      <td>AMZN</td>\n",
       "      <td>16/09/2021</td>\n",
       "      <td>3,488.24</td>\n",
       "      <td>USD</td>\n",
       "    </tr>\n",
       "    <tr>\n",
       "      <th>2</th>\n",
       "      <td>AMZN</td>\n",
       "      <td>17/09/2021</td>\n",
       "      <td>3,462.52</td>\n",
       "      <td>USD</td>\n",
       "    </tr>\n",
       "    <tr>\n",
       "      <th>3</th>\n",
       "      <td>AMZN</td>\n",
       "      <td>18/09/2021</td>\n",
       "      <td>3,462.52</td>\n",
       "      <td>USD</td>\n",
       "    </tr>\n",
       "    <tr>\n",
       "      <th>4</th>\n",
       "      <td>AMZN</td>\n",
       "      <td>19/09/2021</td>\n",
       "      <td>3,462.52</td>\n",
       "      <td>USD</td>\n",
       "    </tr>\n",
       "  </tbody>\n",
       "</table>\n",
       "</div>"
      ],
      "text/plain": [
       "    RIC        date    price currency\n",
       "0  AMZN  15/09/2021 3,475.79      USD\n",
       "1  AMZN  16/09/2021 3,488.24      USD\n",
       "2  AMZN  17/09/2021 3,462.52      USD\n",
       "3  AMZN  18/09/2021 3,462.52      USD\n",
       "4  AMZN  19/09/2021 3,462.52      USD"
      ]
     },
     "execution_count": 190,
     "metadata": {},
     "output_type": "execute_result"
    }
   ],
   "source": [
    "prices = pd.read_csv(\"data/equity_option_quotes_data.csv\")\n",
    "prices.head()"
   ]
  },
  {
   "cell_type": "code",
   "execution_count": 191,
   "metadata": {},
   "outputs": [
    {
     "name": "stdout",
     "output_type": "stream",
     "text": [
      "Quote successfully loaded into LUSID. 31 quotes loaded.\n"
     ]
    }
   ],
   "source": [
    "# Create quotes request\n",
    "instrument_quotes = {\n",
    "    index: lm.UpsertQuoteRequest(\n",
    "        quote_id=lm.QuoteId(\n",
    "            quote_series_id=lm.QuoteSeriesId(\n",
    "                provider=\"Lusid\",\n",
    "                instrument_id=row[\"RIC\"],\n",
    "                instrument_id_type=\"RIC\",\n",
    "                quote_type=\"Price\",\n",
    "                field=\"mid\",\n",
    "            ),\n",
    "            effective_at=to_date(row[\"date\"]),\n",
    "        ),\n",
    "        metric_value=lm.MetricValue(value=row[\"price\"], unit=row[\"currency\"]),\n",
    "    )\n",
    "    for index, row in prices.iterrows()\n",
    "}\n",
    "\n",
    "# Upsert the quotes into LUSID\n",
    "response = quotes_api.upsert_quotes(scope=scope, request_body=instrument_quotes)\n",
    "\n",
    "if response.failed == {}:\n",
    "    print(\n",
    "        f\"Quote successfully loaded into LUSID. {len(response.values)} quotes loaded.\"\n",
    "    )\n",
    "\n",
    "else:\n",
    "    print(\n",
    "        f\"Some failures occurred during quotes upsertion, {len(response.failed)} did not get loaded into LUSID.\"\n",
    "    )"
   ]
  },
  {
   "cell_type": "markdown",
   "metadata": {},
   "source": [
    "# 5. Valuations\n",
    "\n"
   ]
  },
  {
   "cell_type": "markdown",
   "metadata": {},
   "source": [
    "## 5.1 Create Valuation Recipe"
   ]
  },
  {
   "cell_type": "code",
   "execution_count": 192,
   "metadata": {},
   "outputs": [
    {
     "name": "stdout",
     "output_type": "stream",
     "text": [
      "Configuration recipe loaded into LUSID at time 2021-11-29 17:51:52.596320+00:00.\n"
     ]
    }
   ],
   "source": [
    "# Set recipe code\n",
    "recipe_code = \"OptValuation\"\n",
    "\n",
    "# Populate recipe parameters\n",
    "configuration_recipe = lm.ConfigurationRecipe(\n",
    "    scope=scope,\n",
    "    code=recipe_code,\n",
    "    market=lm.MarketContext(\n",
    "        market_rules=[\n",
    "            lm.MarketDataKeyRule(\n",
    "                key=\"Equity.RIC.*\",\n",
    "                supplier=\"Lusid\",\n",
    "                data_scope=scope,\n",
    "                quote_type=\"Price\",\n",
    "                field=\"mid\",\n",
    "                quote_interval=\"5D.0D\",\n",
    "            )\n",
    "        ],\n",
    "    ),\n",
    "    pricing=lm.PricingContext(\n",
    "        model_rules=[\n",
    "            lm.VendorModelRule(\n",
    "                supplier=\"Lusid\",\n",
    "                model_name=\"ConstantTimeValueOfMoney\",\n",
    "                instrument_type=\"EquityOption\",\n",
    "                parameters=\"{}\",\n",
    "            )\n",
    "        ],\n",
    "    ),\n",
    ")\n",
    "\n",
    "response = configuration_recipe_api.upsert_configuration_recipe(\n",
    "        upsert_recipe_request=lm.UpsertRecipeRequest(\n",
    "            configuration_recipe=configuration_recipe\n",
    "        )\n",
    "    )\n",
    "\n",
    "\n",
    "print(f\"Configuration recipe loaded into LUSID at time {response.value}.\")"
   ]
  },
  {
   "cell_type": "markdown",
   "metadata": {},
   "source": [
    "## 5.2 Create Valuation Function\n",
    "\n",
    "Once we have made a recipe, we can now create a function that outputs a dataframe with the valuation of our portfolio."
   ]
  },
  {
   "cell_type": "code",
   "execution_count": 193,
   "metadata": {},
   "outputs": [],
   "source": [
    "def get_daily_option_val(date, portfolio_code):\n",
    "\n",
    "    valuation_request = lm.ValuationRequest(\n",
    "        recipe_id=lm.ResourceId(scope=scope, code=\"OptValuation\"),\n",
    "        metrics=[\n",
    "            lm.AggregateSpec(\"Instrument/default/Name\", \"Value\"),\n",
    "            lm.AggregateSpec(\"Instrument/Definition/ContractSize\", \"Value\"),\n",
    "            lm.AggregateSpec(\"Quotes/Price\", \"Value\"),\n",
    "            lm.AggregateSpec(\"Holding/default/Units\", \"Value\"),\n",
    "            lm.AggregateSpec(\"Valuation/PV/Amount\", \"Value\"),\n",
    "            lm.AggregateSpec(\"Valuation/Exposure/Amount\", \"Value\"),\n",
    "        ],\n",
    "        group_by=[\"Instrument/default/Name\"],\n",
    "        portfolio_entity_ids=[\n",
    "            lm.PortfolioEntityId(scope=scope, code=portfolio_code)\n",
    "        ],\n",
    "        valuation_schedule=lm.ValuationSchedule(effective_at=date),\n",
    "    )\n",
    "\n",
    "    val_data = aggregration_api.get_valuation(valuation_request=valuation_request).data\n",
    "\n",
    "    vals_df = pd.DataFrame(val_data)\n",
    "\n",
    "    vals_df.rename(\n",
    "        columns={\n",
    "            \"Instrument/default/Name\": \"InstrumentName\",\n",
    "            \"Valuation/PV/Amount\": \"Present Value\",\n",
    "            \"Valuation/Exposure/Amount\": \"Exposure\",\n",
    "        },\n",
    "        inplace=True,\n",
    "    )\n",
    "\n",
    "    return vals_df"
   ]
  },
  {
   "cell_type": "markdown",
   "metadata": {},
   "source": [
    "## 5.3 Valuations"
   ]
  },
  {
   "cell_type": "markdown",
   "metadata": {},
   "source": [
    "### Day 1\n",
    "\n"
   ]
  },
  {
   "cell_type": "markdown",
   "metadata": {},
   "source": [
    "On the first day, we notice that our option is \"in the money\" and thus has a PV. If the option would be \"out of the money\", it would be worthless as we wouldn't want to excercise it. The strike is at USD 3,400 thus this option will only be worth something if the price of Amazon, the underlying, is worth more than USD 3,400."
   ]
  },
  {
   "cell_type": "code",
   "execution_count": 194,
   "metadata": {},
   "outputs": [
    {
     "data": {
      "text/html": [
       "<div>\n",
       "<style scoped>\n",
       "    .dataframe tbody tr th:only-of-type {\n",
       "        vertical-align: middle;\n",
       "    }\n",
       "\n",
       "    .dataframe tbody tr th {\n",
       "        vertical-align: top;\n",
       "    }\n",
       "\n",
       "    .dataframe thead th {\n",
       "        text-align: right;\n",
       "    }\n",
       "</style>\n",
       "<table border=\"1\" class=\"dataframe\">\n",
       "  <thead>\n",
       "    <tr style=\"text-align: right;\">\n",
       "      <th></th>\n",
       "      <th>Present Value</th>\n",
       "      <th>Exposure</th>\n",
       "      <th>InstrumentName</th>\n",
       "      <th>Instrument/Definition/ContractSize</th>\n",
       "      <th>Quotes/Price</th>\n",
       "      <th>Holding/default/Units</th>\n",
       "    </tr>\n",
       "  </thead>\n",
       "  <tbody>\n",
       "    <tr>\n",
       "      <th>0</th>\n",
       "      <td>8,824.00</td>\n",
       "      <td>8,824.00</td>\n",
       "      <td>AMZN 10/15/21 C3400</td>\n",
       "      <td>1.00</td>\n",
       "      <td>3,488.24</td>\n",
       "      <td>100.00</td>\n",
       "    </tr>\n",
       "  </tbody>\n",
       "</table>\n",
       "</div>"
      ],
      "text/plain": [
       "   Present Value  Exposure       InstrumentName  \\\n",
       "0       8,824.00  8,824.00  AMZN 10/15/21 C3400   \n",
       "\n",
       "   Instrument/Definition/ContractSize  Quotes/Price  Holding/default/Units  \n",
       "0                                1.00      3,488.24                 100.00  "
      ]
     },
     "execution_count": 194,
     "metadata": {},
     "output_type": "execute_result"
    }
   ],
   "source": [
    "get_daily_option_val(\"2021-09-16T08:00:00Z\", portfolio_code)"
   ]
  },
  {
   "cell_type": "markdown",
   "metadata": {},
   "source": [
    "Given that we held this option in the past, we know what happened to the price of Amazon for the period we held the option. If we plot the Amazon quotes we uploaded above and the strike price, we can see when our option should be in the money or out of the money."
   ]
  },
  {
   "cell_type": "code",
   "execution_count": 195,
   "metadata": {},
   "outputs": [
    {
     "data": {
      "image/png": "[encoded data removed]",
      "text/plain": [
       "<Figure size 432x288 with 1 Axes>"
      ]
     },
     "metadata": {
      "needs_background": "light"
     },
     "output_type": "display_data"
    }
   ],
   "source": [
    "import matplotlib.pyplot as plt\n",
    "import numpy as np\n",
    "\n",
    "fig, ax = plt.subplots()\n",
    "ax.plot(prices['price'])\n",
    "ax.axhline(y=3400, color='r')\n",
    "\n",
    "ax.set(xlabel='Days', ylabel='Price', title='Strike and price of underlying')\n",
    "\n",
    "plt.show()"
   ]
  },
  {
   "cell_type": "markdown",
   "metadata": {},
   "source": [
    "We can see that the option starts out profitable, then goes through a period of being out of the money and finally expires just slightly into the money. We thus expect our valuations to present us with a positive PV at first, followed by a PV of 0 and finally a positive PV on the last day."
   ]
  },
  {
   "cell_type": "markdown",
   "metadata": {},
   "source": [
    "### 5 Days in"
   ]
  },
  {
   "cell_type": "markdown",
   "metadata": {},
   "source": [
    "We can see our first dip out of the money occurs around the 5 days mark, this would be the 21st of September. Below we run our valuation and find that indeed, the PV is 0."
   ]
  },
  {
   "cell_type": "code",
   "execution_count": 196,
   "metadata": {},
   "outputs": [
    {
     "data": {
      "text/html": [
       "<div>\n",
       "<style scoped>\n",
       "    .dataframe tbody tr th:only-of-type {\n",
       "        vertical-align: middle;\n",
       "    }\n",
       "\n",
       "    .dataframe tbody tr th {\n",
       "        vertical-align: top;\n",
       "    }\n",
       "\n",
       "    .dataframe thead th {\n",
       "        text-align: right;\n",
       "    }\n",
       "</style>\n",
       "<table border=\"1\" class=\"dataframe\">\n",
       "  <thead>\n",
       "    <tr style=\"text-align: right;\">\n",
       "      <th></th>\n",
       "      <th>Present Value</th>\n",
       "      <th>Exposure</th>\n",
       "      <th>InstrumentName</th>\n",
       "      <th>Instrument/Definition/ContractSize</th>\n",
       "      <th>Quotes/Price</th>\n",
       "      <th>Holding/default/Units</th>\n",
       "    </tr>\n",
       "  </thead>\n",
       "  <tbody>\n",
       "    <tr>\n",
       "      <th>0</th>\n",
       "      <td>0.00</td>\n",
       "      <td>0.00</td>\n",
       "      <td>AMZN 10/15/21 C3400</td>\n",
       "      <td>1.00</td>\n",
       "      <td>3,343.63</td>\n",
       "      <td>100.00</td>\n",
       "    </tr>\n",
       "  </tbody>\n",
       "</table>\n",
       "</div>"
      ],
      "text/plain": [
       "   Present Value  Exposure       InstrumentName  \\\n",
       "0           0.00      0.00  AMZN 10/15/21 C3400   \n",
       "\n",
       "   Instrument/Definition/ContractSize  Quotes/Price  Holding/default/Units  \n",
       "0                                1.00      3,343.63                 100.00  "
      ]
     },
     "execution_count": 196,
     "metadata": {},
     "output_type": "execute_result"
    }
   ],
   "source": [
    "get_daily_option_val(\"2021-09-21T08:00:00Z\", portfolio_code)"
   ]
  },
  {
   "cell_type": "markdown",
   "metadata": {},
   "source": [
    "### 20 Days in\n",
    "Checking for the second period of being out of the money, we find that our valuation also returns a PV of 0 about 20 days into holding this option."
   ]
  },
  {
   "cell_type": "code",
   "execution_count": 197,
   "metadata": {},
   "outputs": [
    {
     "data": {
      "text/html": [
       "<div>\n",
       "<style scoped>\n",
       "    .dataframe tbody tr th:only-of-type {\n",
       "        vertical-align: middle;\n",
       "    }\n",
       "\n",
       "    .dataframe tbody tr th {\n",
       "        vertical-align: top;\n",
       "    }\n",
       "\n",
       "    .dataframe thead th {\n",
       "        text-align: right;\n",
       "    }\n",
       "</style>\n",
       "<table border=\"1\" class=\"dataframe\">\n",
       "  <thead>\n",
       "    <tr style=\"text-align: right;\">\n",
       "      <th></th>\n",
       "      <th>Present Value</th>\n",
       "      <th>Exposure</th>\n",
       "      <th>InstrumentName</th>\n",
       "      <th>Instrument/Definition/ContractSize</th>\n",
       "      <th>Quotes/Price</th>\n",
       "      <th>Holding/default/Units</th>\n",
       "    </tr>\n",
       "  </thead>\n",
       "  <tbody>\n",
       "    <tr>\n",
       "      <th>0</th>\n",
       "      <td>0.00</td>\n",
       "      <td>0.00</td>\n",
       "      <td>AMZN 10/15/21 C3400</td>\n",
       "      <td>1.00</td>\n",
       "      <td>3,285.04</td>\n",
       "      <td>100.00</td>\n",
       "    </tr>\n",
       "  </tbody>\n",
       "</table>\n",
       "</div>"
      ],
      "text/plain": [
       "   Present Value  Exposure       InstrumentName  \\\n",
       "0           0.00      0.00  AMZN 10/15/21 C3400   \n",
       "\n",
       "   Instrument/Definition/ContractSize  Quotes/Price  Holding/default/Units  \n",
       "0                                1.00      3,285.04                 100.00  "
      ]
     },
     "execution_count": 197,
     "metadata": {},
     "output_type": "execute_result"
    }
   ],
   "source": [
    "get_daily_option_val(\"2021-10-05T08:00:00Z\", portfolio_code)"
   ]
  },
  {
   "cell_type": "markdown",
   "metadata": {},
   "source": [
    "## Expiry date"
   ]
  },
  {
   "cell_type": "code",
   "execution_count": 198,
   "metadata": {},
   "outputs": [
    {
     "data": {
      "text/html": [
       "<div>\n",
       "<style scoped>\n",
       "    .dataframe tbody tr th:only-of-type {\n",
       "        vertical-align: middle;\n",
       "    }\n",
       "\n",
       "    .dataframe tbody tr th {\n",
       "        vertical-align: top;\n",
       "    }\n",
       "\n",
       "    .dataframe thead th {\n",
       "        text-align: right;\n",
       "    }\n",
       "</style>\n",
       "<table border=\"1\" class=\"dataframe\">\n",
       "  <thead>\n",
       "    <tr style=\"text-align: right;\">\n",
       "      <th></th>\n",
       "      <th>Present Value</th>\n",
       "      <th>Exposure</th>\n",
       "      <th>InstrumentName</th>\n",
       "      <th>Instrument/Definition/ContractSize</th>\n",
       "      <th>Quotes/Price</th>\n",
       "      <th>Holding/default/Units</th>\n",
       "    </tr>\n",
       "  </thead>\n",
       "  <tbody>\n",
       "    <tr>\n",
       "      <th>0</th>\n",
       "      <td>902.00</td>\n",
       "      <td>902.00</td>\n",
       "      <td>AMZN 10/15/21 C3400</td>\n",
       "      <td>1.00</td>\n",
       "      <td>3,409.02</td>\n",
       "      <td>100.00</td>\n",
       "    </tr>\n",
       "  </tbody>\n",
       "</table>\n",
       "</div>"
      ],
      "text/plain": [
       "   Present Value  Exposure       InstrumentName  \\\n",
       "0         902.00    902.00  AMZN 10/15/21 C3400   \n",
       "\n",
       "   Instrument/Definition/ContractSize  Quotes/Price  Holding/default/Units  \n",
       "0                                1.00      3,409.02                 100.00  "
      ]
     },
     "execution_count": 198,
     "metadata": {},
     "output_type": "execute_result"
    }
   ],
   "source": [
    "get_daily_option_val(\"2021-10-15T08:00:00Z\", portfolio_code)"
   ]
  },
  {
   "cell_type": "markdown",
   "metadata": {},
   "source": [
    "## 6. Physical Settlement"
   ]
  },
  {
   "cell_type": "markdown",
   "metadata": {},
   "source": [
    "If we have a look at what cashflows are occuring on the date of expiry, we can see that there is a negative cash flow for USD -340,000, which is the price we have to pay for the physical delivery of the underlying. We must however manually book in the underlying itself. We will accomplish this with a StockIn transaction, which will give us 100 units of Amazon in return for the negative cashflow we incur. "
   ]
  },
  {
   "cell_type": "code",
   "execution_count": 199,
   "metadata": {},
   "outputs": [
    {
     "data": {
      "text/html": [
       "<div>\n",
       "<style scoped>\n",
       "    .dataframe tbody tr th:only-of-type {\n",
       "        vertical-align: middle;\n",
       "    }\n",
       "\n",
       "    .dataframe tbody tr th {\n",
       "        vertical-align: top;\n",
       "    }\n",
       "\n",
       "    .dataframe thead th {\n",
       "        text-align: right;\n",
       "    }\n",
       "</style>\n",
       "<table border=\"1\" class=\"dataframe\">\n",
       "  <thead>\n",
       "    <tr style=\"text-align: right;\">\n",
       "      <th></th>\n",
       "      <th>transaction_id</th>\n",
       "      <th>type</th>\n",
       "      <th>instrument_identifiers</th>\n",
       "      <th>instrument_uid</th>\n",
       "      <th>transaction_date</th>\n",
       "      <th>settlement_date</th>\n",
       "      <th>units</th>\n",
       "      <th>transaction_price.price</th>\n",
       "      <th>transaction_price.type</th>\n",
       "      <th>total_consideration.amount</th>\n",
       "      <th>total_consideration.currency</th>\n",
       "      <th>exchange_rate</th>\n",
       "      <th>transaction_currency</th>\n",
       "      <th>properties</th>\n",
       "      <th>source</th>\n",
       "      <th>entry_date_time</th>\n",
       "    </tr>\n",
       "  </thead>\n",
       "  <tbody>\n",
       "    <tr>\n",
       "      <th>0</th>\n",
       "      <td>-LUID_0000GXWC-USD-Receive</td>\n",
       "      <td>CashFlow</td>\n",
       "      <td>{}</td>\n",
       "      <td>LUID_0000GXWC</td>\n",
       "      <td>2021-10-15 00:00:00+00:00</td>\n",
       "      <td>2021-10-15 00:00:00+00:00</td>\n",
       "      <td>-340,000.00</td>\n",
       "      <td>1.00</td>\n",
       "      <td>Price</td>\n",
       "      <td>-340,000.00</td>\n",
       "      <td>USD</td>\n",
       "      <td>1.00</td>\n",
       "      <td>USD</td>\n",
       "      <td>{}</td>\n",
       "      <td></td>\n",
       "      <td>0001-01-01 00:00:00+00:00</td>\n",
       "    </tr>\n",
       "  </tbody>\n",
       "</table>\n",
       "</div>"
      ],
      "text/plain": [
       "               transaction_id      type instrument_identifiers instrument_uid  \\\n",
       "0  -LUID_0000GXWC-USD-Receive  CashFlow                     {}  LUID_0000GXWC   \n",
       "\n",
       "           transaction_date           settlement_date       units  \\\n",
       "0 2021-10-15 00:00:00+00:00 2021-10-15 00:00:00+00:00 -340,000.00   \n",
       "\n",
       "   transaction_price.price transaction_price.type  total_consideration.amount  \\\n",
       "0                     1.00                  Price                 -340,000.00   \n",
       "\n",
       "  total_consideration.currency  exchange_rate transaction_currency properties  \\\n",
       "0                          USD           1.00                  USD         {}   \n",
       "\n",
       "  source            entry_date_time  \n",
       "0         0001-01-01 00:00:00+00:00  "
      ]
     },
     "execution_count": 199,
     "metadata": {},
     "output_type": "execute_result"
    }
   ],
   "source": [
    "upsertable_cash_flows = transaction_portfolios_api.get_upsertable_portfolio_cash_flows(\n",
    "    scope=scope,\n",
    "    code=portfolio_code,\n",
    "    recipe_id_code=\"OptValuation\",\n",
    "    recipe_id_scope=scope,\n",
    "    effective_at=\"2021-10-10T10:00:00Z\",\n",
    "    window_start=\"2021-10-10T10:00:00Z\",\n",
    "    window_end=\"2021-10-15T10:00:00Z\",\n",
    ")\n",
    "\n",
    "lusid_response_to_data_frame(upsertable_cash_flows)"
   ]
  },
  {
   "cell_type": "markdown",
   "metadata": {},
   "source": [
    "To upsert this cash flow as a transaction, we must first add the identifier of the desired instrument we want to credit, in our case we want to subtract from our USD position. \n",
    "Once we have the full transaction request, we can simply upsert this."
   ]
  },
  {
   "cell_type": "code",
   "execution_count": 200,
   "metadata": {},
   "outputs": [],
   "source": [
    "for x in upsertable_cash_flows.values:\n",
    "    x.instrument_identifiers = {\"Instrument/default/Currency\": \"USD\"}"
   ]
  },
  {
   "cell_type": "code",
   "execution_count": 201,
   "metadata": {},
   "outputs": [],
   "source": [
    "upsert_transactions = transaction_portfolios_api.upsert_transactions(\n",
    "    scope=scope, code=portfolio_code, transaction_request=upsertable_cash_flows.values\n",
    ")"
   ]
  },
  {
   "cell_type": "markdown",
   "metadata": {},
   "source": [
    "Now that we have booked in our payment for the underlying, we have to add in a \"StockIn\" transaction, which will essentially add a position of Amazon to our books. In the case of our option, our contract size was 1 and the quantity was 100 thus we will add a position of 100 Amazon shares. We use a StockIn transaction for this as this will not create us a cost. We need this as we already booked the negative cashflow using the transaction in the cell above.\n",
    "\n",
    "Additionally, we should also remove the option itself, as it has expired. We accomplish this with a StockOut transaction."
   ]
  },
  {
   "cell_type": "code",
   "execution_count": 202,
   "metadata": {},
   "outputs": [
    {
     "data": {
      "text/html": [
       "<div>\n",
       "<style scoped>\n",
       "    .dataframe tbody tr th:only-of-type {\n",
       "        vertical-align: middle;\n",
       "    }\n",
       "\n",
       "    .dataframe tbody tr th {\n",
       "        vertical-align: top;\n",
       "    }\n",
       "\n",
       "    .dataframe thead th {\n",
       "        text-align: right;\n",
       "    }\n",
       "</style>\n",
       "<table border=\"1\" class=\"dataframe\">\n",
       "  <thead>\n",
       "    <tr style=\"text-align: right;\">\n",
       "      <th></th>\n",
       "      <th>txn_id</th>\n",
       "      <th>type</th>\n",
       "      <th>client_id</th>\n",
       "      <th>trade_date</th>\n",
       "      <th>settlement_date</th>\n",
       "      <th>quantity</th>\n",
       "      <th>price</th>\n",
       "      <th>total_consideration</th>\n",
       "      <th>currency</th>\n",
       "      <th>portfolio</th>\n",
       "    </tr>\n",
       "  </thead>\n",
       "  <tbody>\n",
       "    <tr>\n",
       "      <th>0</th>\n",
       "      <td>OptExp001</td>\n",
       "      <td>StockIn</td>\n",
       "      <td>AMZN</td>\n",
       "      <td>2021-10-15T00:00:00Z</td>\n",
       "      <td>2021-10-15T00:00:00Z</td>\n",
       "      <td>100</td>\n",
       "      <td>3400</td>\n",
       "      <td>340,000.00</td>\n",
       "      <td>USD</td>\n",
       "      <td>equityOptionPortfolio</td>\n",
       "    </tr>\n",
       "    <tr>\n",
       "      <th>1</th>\n",
       "      <td>OptExp002</td>\n",
       "      <td>StockOut</td>\n",
       "      <td>AMZN_10/15/21_C3400</td>\n",
       "      <td>2021-10-16T00:00:00Z</td>\n",
       "      <td>2021-10-16T00:00:00Z</td>\n",
       "      <td>100</td>\n",
       "      <td>220</td>\n",
       "      <td>22,000.00</td>\n",
       "      <td>USD</td>\n",
       "      <td>equityOptionPortfolio</td>\n",
       "    </tr>\n",
       "  </tbody>\n",
       "</table>\n",
       "</div>"
      ],
      "text/plain": [
       "      txn_id      type            client_id            trade_date  \\\n",
       "0  OptExp001   StockIn                 AMZN  2021-10-15T00:00:00Z   \n",
       "1  OptExp002  StockOut  AMZN_10/15/21_C3400  2021-10-16T00:00:00Z   \n",
       "\n",
       "        settlement_date  quantity  price total_consideration currency  \\\n",
       "0  2021-10-15T00:00:00Z       100   3400          340,000.00      USD   \n",
       "1  2021-10-16T00:00:00Z       100    220           22,000.00      USD   \n",
       "\n",
       "               portfolio  \n",
       "0  equityOptionPortfolio  \n",
       "1  equityOptionPortfolio  "
      ]
     },
     "execution_count": 202,
     "metadata": {},
     "output_type": "execute_result"
    }
   ],
   "source": [
    "expiry_transactions = pd.read_csv(\"data/option_expiry_transaction.csv\")\n",
    "expiry_transactions"
   ]
  },
  {
   "cell_type": "code",
   "execution_count": 203,
   "metadata": {},
   "outputs": [
    {
     "name": "stdout",
     "output_type": "stream",
     "text": [
      "Transactions succesfully updated at time: 2021-11-29 17:51:55.510905+00:00\n"
     ]
    }
   ],
   "source": [
    "for portfolio_code, grouped_df in expiry_transactions.groupby('portfolio'):\n",
    "\n",
    "    transaction_request=[\n",
    "            lm.TransactionRequest(\n",
    "                transaction_id=row[\"txn_id\"],\n",
    "                type=row[\"type\"],\n",
    "                instrument_identifiers={\n",
    "                    \"Instrument/default/ClientInternal\" :row[\"client_id\"]\n",
    "                },\n",
    "                transaction_date=row[\"trade_date\"],\n",
    "                settlement_date=row[\"settlement_date\"],\n",
    "                units=row[\"quantity\"],\n",
    "                transaction_price=lm.TransactionPrice(\n",
    "                    price=row[\"price\"], type=\"Price\"\n",
    "                ),\n",
    "                total_consideration=lm.CurrencyAndAmount(\n",
    "                    amount=row[\"total_consideration\"], currency=row[\"currency\"]\n",
    "                ),\n",
    "            ) for index, row in grouped_df.iterrows()\n",
    "        ]\n",
    "\n",
    "    response = transaction_portfolios_api.upsert_transactions(\n",
    "        scope=scope,\n",
    "        code=portfolio_code,\n",
    "        transaction_request=transaction_request\n",
    "      )\n",
    "\n",
    "    print(f\"Transactions succesfully updated at time: {response.version.as_at_date}\")"
   ]
  },
  {
   "cell_type": "markdown",
   "metadata": {},
   "source": [
    "Now we can see what our portfolio looks like after the expiry date when the physical settlement has happened. \n",
    "We have a negative cash position of USD 340,000 and a positive position of USD 340,902 worth of Amazon shares.\n",
    "\n",
    "This adds up to a present value of USD 902 for this portfolio, the value of our option upon expiry."
   ]
  },
  {
   "cell_type": "code",
   "execution_count": 204,
   "metadata": {},
   "outputs": [
    {
     "data": {
      "text/html": [
       "<div>\n",
       "<style scoped>\n",
       "    .dataframe tbody tr th:only-of-type {\n",
       "        vertical-align: middle;\n",
       "    }\n",
       "\n",
       "    .dataframe tbody tr th {\n",
       "        vertical-align: top;\n",
       "    }\n",
       "\n",
       "    .dataframe thead th {\n",
       "        text-align: right;\n",
       "    }\n",
       "</style>\n",
       "<table border=\"1\" class=\"dataframe\">\n",
       "  <thead>\n",
       "    <tr style=\"text-align: right;\">\n",
       "      <th></th>\n",
       "      <th>Present Value</th>\n",
       "      <th>Exposure</th>\n",
       "      <th>InstrumentName</th>\n",
       "      <th>Instrument/Definition/ContractSize</th>\n",
       "      <th>Quotes/Price</th>\n",
       "      <th>Holding/default/Units</th>\n",
       "    </tr>\n",
       "  </thead>\n",
       "  <tbody>\n",
       "    <tr>\n",
       "      <th>0</th>\n",
       "      <td>-340,000.00</td>\n",
       "      <td>-340,000.00</td>\n",
       "      <td>USD</td>\n",
       "      <td>1.00</td>\n",
       "      <td>nan</td>\n",
       "      <td>-340,000.00</td>\n",
       "    </tr>\n",
       "    <tr>\n",
       "      <th>1</th>\n",
       "      <td>340,902.00</td>\n",
       "      <td>340,902.00</td>\n",
       "      <td>Amazon.com</td>\n",
       "      <td>1.00</td>\n",
       "      <td>3,409.02</td>\n",
       "      <td>100.00</td>\n",
       "    </tr>\n",
       "  </tbody>\n",
       "</table>\n",
       "</div>"
      ],
      "text/plain": [
       "   Present Value    Exposure InstrumentName  \\\n",
       "0    -340,000.00 -340,000.00            USD   \n",
       "1     340,902.00  340,902.00     Amazon.com   \n",
       "\n",
       "   Instrument/Definition/ContractSize  Quotes/Price  Holding/default/Units  \n",
       "0                                1.00           nan            -340,000.00  \n",
       "1                                1.00      3,409.02                 100.00  "
      ]
     },
     "execution_count": 204,
     "metadata": {},
     "output_type": "execute_result"
    }
   ],
   "source": [
    "get_daily_option_val(\"2021-10-16T08:00:00Z\", portfolio_code)"
   ]
  }
 ],
 "metadata": {
  "interpreter": {
   "hash": "2db524e06e9f5f4ffedc911c917cb75e12dbc923643829bf417064a77eb14d37"
  },
  "kernelspec": {
   "display_name": "Python 3.8.0 64-bit",
   "name": "python3"
  },
  "language_info": {
   "codemirror_mode": {
    "name": "ipython",
    "version": 3
   },
   "file_extension": ".py",
   "mimetype": "text/x-python",
   "name": "python",
   "nbconvert_exporter": "python",
   "pygments_lexer": "ipython3",
   "version": "3.8.0"
  },
  "orig_nbformat": 4
 },
 "nbformat": 4,
 "nbformat_minor": 2
}
