{
 "cells": [
  {
   "cell_type": "markdown",
   "metadata": {},
   "source": [
    "# Booking and valuing a Forward Rate Agreement\n",
    "\n",
    "In this notebook, we demonstrate how a Forward Rate Agreement (FRA) can be booked in LUSID, and extend it to use cases such as running a standard valuation and calculating PnL.\n",
    "\n",
    "Information about FRAs can be found here: http://www.yieldcurve.com/Mktresearch/LearningCurve/FRAs.pdf\n",
    "\n",
    "**Table of Contents:**\n",
    "- [1. Create Portfolio](#1.-Create-Portfolio)\n",
    "- [2. Create Instrument](#2.-Create-Instrument)\n",
    "- [3. Upsert Transactions](#3.-Upsert-Transactions)\n",
    "- [4. Upsert FX Market Data](#4.-Upsert-FX-Market-Data)\n",
    "- [5. Create Configuration Recipe](#5.-Create-Configuration-Recipe)\n",
    "- [6. Valuation](#6.-Valuation)\n",
    "- [7. Instrument Lifecycle](#7.-Instrument-Lifecycle)"
   ]
  },
  {
   "cell_type": "code",
   "execution_count": 70,
   "metadata": {
    "pycharm": {
     "name": "#%%\n"
    }
   },
   "outputs": [
    {
     "data": {
      "text/html": [
       "<style>.container { width:90% !important; }</style>"
      ],
      "text/plain": [
       "<IPython.core.display.HTML object>"
      ]
     },
     "metadata": {},
     "output_type": "display_data"
    },
    {
     "name": "stdout",
     "output_type": "stream",
     "text": [
      "LUSID Environment Initialised\n",
      "LUSID API Version : 0.6.9861.0\n"
     ]
    }
   ],
   "source": [
    "# Import generic non-LUSID packages\n",
    "import os\n",
    "import pandas as pd\n",
    "from datetime import datetime, timedelta\n",
    "import re\n",
    "import matplotlib.pyplot as plt\n",
    "%matplotlib inline\n",
    "import json\n",
    "import pytz\n",
    "from IPython.core.display import HTML\n",
    "\n",
    "# Import key modules from the LUSID package\n",
    "import lusid\n",
    "import lusid.models as lm\n",
    "import lusid.api as la\n",
    "from lusid.utilities import ApiClientFactory\n",
    "from lusidtools.pandas_utils.lusid_pandas import lusid_response_to_data_frame\n",
    "\n",
    "# Import key functions from Lusid-Python-Tools and other packages\n",
    "from lusidjam import RefreshingToken\n",
    "\n",
    "from utilities.instrument_utils import (\n",
    "    add_utc_to_df,\n",
    "    create_property,\n",
    ")\n",
    "\n",
    "# Set DataFrame display formats\n",
    "pd.set_option(\"display.max_columns\", None)\n",
    "pd.set_option(\"display.max_rows\", None)\n",
    "pd.options.display.float_format = \"{:,.4f}\".format\n",
    "display(HTML(\"<style>.container { width:90% !important; }</style>\"))\n",
    "\n",
    "# Set the secrets path\n",
    "secrets_path = os.getenv(\"FBN_SECRETS_PATH\")\n",
    "\n",
    "# For running the notebook locally\n",
    "if secrets_path is None:\n",
    "    secrets_path = os.path.join(os.path.dirname(os.getcwd()), \"secrets.json\")\n",
    "\n",
    "# Authenticate our user and create our API client\n",
    "api_factory = ApiClientFactory(\n",
    "    token=RefreshingToken(),\n",
    "    api_secrets_filename = secrets_path)\n",
    "\n",
    "print ('LUSID Environment Initialised')\n",
    "print ('LUSID API Version :', api_factory.build(lusid.api.ApplicationMetadataApi).get_lusid_versions().build_version)"
   ]
  },
  {
   "cell_type": "code",
   "execution_count": 71,
   "metadata": {
    "pycharm": {
     "name": "#%%\n"
    }
   },
   "outputs": [],
   "source": [
    "# Set required APIs\n",
    "portfolio_api = api_factory.build(lusid.api.PortfoliosApi)\n",
    "transaction_portfolios_api = api_factory.build(lusid.api.TransactionPortfoliosApi)\n",
    "instruments_api = api_factory.build(lusid.api.InstrumentsApi)\n",
    "quotes_api = api_factory.build(lusid.api.QuotesApi)\n",
    "configuration_recipe_api = api_factory.build(lusid.api.ConfigurationRecipeApi)\n",
    "complex_market_data_api = api_factory.build(lusid.api.ComplexMarketDataApi)\n",
    "aggregation_api = api_factory.build(lusid.api.AggregationApi)"
   ]
  },
  {
   "cell_type": "code",
   "execution_count": 72,
   "metadata": {
    "pycharm": {
     "name": "#%%\n"
    }
   },
   "outputs": [],
   "source": [
    "# Define scopes\n",
    "scope = \"ibor\"\n",
    "market_data_scope = \"ibor\"\n",
    "market_supplier = \"Lusid\""
   ]
  },
  {
   "cell_type": "markdown",
   "metadata": {},
   "source": [
    "# 1. Create Portfolio\n",
    "\n",
    "We begin by creating a portfolio that will contain the FRA instrument that we will be looking to price."
   ]
  },
  {
   "cell_type": "code",
   "execution_count": 73,
   "metadata": {
    "pycharm": {
     "name": "#%%\n"
    }
   },
   "outputs": [
    {
     "name": "stdout",
     "output_type": "stream",
     "text": [
      "{\"name\":\"PortfolioWithIdAlreadyExists\",\"errorDetails\":[],\"code\":112,\"type\":\"https://docs.lusid.com/#section/Error-Codes/112\",\"title\":\"Could not create a portfolio with id 'fra' because it already exists in scope 'ibor'.\",\"status\":400,\"detail\":\"Error creating portfolio with id 'fra' in scope 'ibor' effective at 2010-01-01T00:00:00.0000000+00:00 because it already exists.\",\"instance\":\"https://andrewp.lusid.com/app/insights/logs/0HMK5OEUOSEK3:0000000D\",\"extensions\":{}}\n"
     ]
    }
   ],
   "source": [
    "portfolio_code = \"fra\"\n",
    "\n",
    "try:\n",
    "    transaction_portfolios_api.create_portfolio(\n",
    "        scope=scope,\n",
    "        create_transaction_portfolio_request=lm.CreateTransactionPortfolioRequest(\n",
    "            display_name=portfolio_code,\n",
    "            code=portfolio_code,\n",
    "            base_currency=\"EUR\",\n",
    "            created=\"2010-01-01\",\n",
    "            sub_holding_keys=[],\n",
    "            instrument_scopes=[scope]\n",
    "        ),\n",
    "    )\n",
    "\n",
    "except lusid.ApiException as e:\n",
    "    print(e.body)"
   ]
  },
  {
   "cell_type": "markdown",
   "metadata": {},
   "source": [
    "# 2. Create Instrument\n",
    "\n",
    "We create helper functions to create and upsert the FRA instrument into LUCID, this will reference the SDK models to populate the required parameters for creating a FRA. We then populate the instrument variables, and make a call to persist the instrument in LUSID."
   ]
  },
  {
   "cell_type": "code",
   "execution_count": 74,
   "metadata": {
    "pycharm": {
     "name": "#%%\n"
    }
   },
   "outputs": [],
   "source": [
    "# Define function that creates a FRA\n",
    "def create_forward_rate_agreement(dom_ccy, start_date, maturity_date, fixing_date, fra_rate, index_convention):\n",
    "    \n",
    "    return lm.ForwardRateAgreement (\n",
    "        instrument_type = \"ForwardRateAgreement\",\n",
    "        dom_ccy = dom_ccy,\n",
    "        start_date = start_date,\n",
    "        maturity_date = maturity_date, \n",
    "        fixing_date = fixing_date, \n",
    "        fra_rate = fra_rate,\n",
    "        notional = 1, #create unit instrument\n",
    "        index_convention = index_convention\n",
    "        )\n",
    "    \n",
    "# helper function to create the index convention\n",
    "def create_index_convention (fixing_reference, day_lag, tenor, day_count_convention, ccy, index_name, scope, code):\n",
    "    \n",
    "    return lm.IndexConvention (\n",
    "        fixing_reference=fixing_reference,\n",
    "        publication_day_lag=day_lag,\n",
    "        payment_tenor=tenor,\n",
    "        day_count_convention=day_count_convention,\n",
    "        currency=ccy,\n",
    "        index_name=index_name,\n",
    "        scope=scope,\n",
    "        code=code,\n",
    "    )\n",
    "\n",
    "# Define a function to upsert instrument\n",
    "def upsert_instrument_to_lusid(scope, instrument_definition, name, identifier, identifier_type):\n",
    "        return instruments_api.upsert_instruments(\n",
    "            request_body={\n",
    "                identifier: lm.InstrumentDefinition(\n",
    "                    name=name,\n",
    "                    identifiers={\n",
    "                        identifier_type: lm.InstrumentIdValue(value=identifier)\n",
    "                    },\n",
    "                    definition=instrument_definition,\n",
    "                )\n",
    "            },\n",
    "            scope = scope\n",
    "        )"
   ]
  },
  {
   "cell_type": "markdown",
   "metadata": {},
   "source": [
    "## 2.1 Create Instrument\n",
    "\n",
    "\n",
    "We are going to set up a 3 * 6 FRA. This would be used for the following scenario: A buyer of the FRA wants to hedge against a rise in interest rates for a 3 month loan, starting in 3 month's time. As such they transact a 3 against 6 FRA, also called a 3 * 6 or 3-v-6 FRA.\n",
    "\n",
    "This results in two 3 month periods on the product with the start_date representing the start of the hedging period which occurs 3 months after the trade_date. The maturity_date is 3 months after the start_date, and it is this second period of 3 months where the interest rates are hedged."
   ]
  },
  {
   "cell_type": "code",
   "execution_count": 75,
   "metadata": {},
   "outputs": [
    {
     "name": "stdout",
     "output_type": "stream",
     "text": [
      "LUID_00003FW3 : EURFRA3v6Demo\n"
     ]
    }
   ],
   "source": [
    "# Setup trade variables\n",
    "trade_date = datetime(2021, 1, 20, tzinfo=pytz.utc)\n",
    "start_date = trade_date + timedelta(days = 90)  #3M after trade_date\n",
    "maturity_date = start_date + timedelta(days = 90)  #3M after the start_date\n",
    "fixing_days = 2\n",
    "fixing_date = start_date - timedelta(days = fixing_days) #when there is a publication lag the fixing date occurs before the start_date of the FRA\n",
    "notional = 1000000\n",
    "instrument_ccy = \"EUR\"\n",
    "identifier_type = \"ClientInternal\"\n",
    "fra_rate = .33\n",
    "payment_tenor= \"3M\"\n",
    "reference_index = \"LIBOR\"\n",
    "day_count_convention = \"Actual360\"\n",
    "fra_name = \"EUR.FRA.3M.LIBOR\"\n",
    "fra_identifier = \"EURFRA3v6Demo\"\n",
    "\n",
    "# create the index convention\n",
    "index_convention = create_index_convention (reference_index, fixing_days, payment_tenor, day_count_convention, instrument_ccy, reference_index, scope, portfolio_code)\n",
    "\n",
    "# create the FRA instrument definition\n",
    "fra_definition = create_forward_rate_agreement (instrument_ccy, start_date, maturity_date, fixing_date, fra_rate, index_convention)\n",
    "\n",
    "# Upsert the instrument\n",
    "upsert_response = upsert_instrument_to_lusid(scope, fra_definition, fra_name, fra_identifier, identifier_type)\n",
    "luid = upsert_response.values[fra_identifier].lusid_instrument_id\n",
    "print(f\"{luid} : {fra_identifier}\")"
   ]
  },
  {
   "cell_type": "markdown",
   "metadata": {},
   "source": [
    "# 3. Upsert Transactions\n",
    "\n",
    "Having created the portfolio, we add a _StockIn_ transaction against the FRA to create a position without incurring any costs. Notice that this transaction type will simply increase our position by the given units, as opposed to a typical _Buy_/_Sell_, that would also impact cash.\n"
   ]
  },
  {
   "cell_type": "code",
   "execution_count": 76,
   "metadata": {
    "pycharm": {
     "name": "#%%\n"
    }
   },
   "outputs": [
    {
     "name": "stdout",
     "output_type": "stream",
     "text": [
      "Transaction successfully updated at time: 2022-08-24 12:07:24.680001+00:00\n"
     ]
    },
    {
     "data": {
      "text/plain": [
       "2"
      ]
     },
     "execution_count": 76,
     "metadata": {},
     "output_type": "execute_result"
    }
   ],
   "source": [
    "# Book a StockIn transaction against the fra\n",
    "fra_deal_id = \"TXN001\"\n",
    "fra_version = 1\n",
    "\n",
    "fra_txn = lm.TransactionRequest(\n",
    "    transaction_id=fra_deal_id + \".\" + str(fra_version),\n",
    "    type=\"StockIn\",\n",
    "    instrument_identifiers={\"Instrument/default/ClientInternal\": fra_identifier},\n",
    "    transaction_date=trade_date,\n",
    "    settlement_date=trade_date,\n",
    "    units=notional,\n",
    "    transaction_price=lm.TransactionPrice(price=0,type=\"Price\"),\n",
    "    total_consideration=lm.CurrencyAndAmount(amount=0,currency=\"EUR\"),\n",
    "    exchange_rate=1,\n",
    "    transaction_currency=\"EUR\"\n",
    ")\n",
    "\n",
    "response = transaction_portfolios_api.upsert_transactions(scope=scope,\n",
    "                                                    code=portfolio_code,\n",
    "                                                    transaction_request=[fra_txn])\n",
    "\n",
    "print(f\"Transaction successfully updated at time: {response.version.as_at_date}\")\n",
    "fra_version + 1\n"
   ]
  },
  {
   "cell_type": "markdown",
   "metadata": {},
   "source": [
    "# 4. Upsert Market Data\n",
    "\n",
    "Next we will be loading the required marked data into the quotes store. In this particular example, we will require the following data:\n",
    "1. EUR discount curve\n",
    "2. LIBOR 3M fixing values"
   ]
  },
  {
   "cell_type": "markdown",
   "metadata": {
    "pycharm": {
     "name": "#%% md\n"
    }
   },
   "source": [
    "## 4.1 EUR Discount curves\n",
    "\n",
    "We will read in the EUR Discount factors and create a EUR discount curve from this example data."
   ]
  },
  {
   "cell_type": "code",
   "execution_count": 77,
   "metadata": {
    "pycharm": {
     "name": "#%%\n"
    }
   },
   "outputs": [
    {
     "data": {
      "text/html": [
       "<div>\n",
       "<style scoped>\n",
       "    .dataframe tbody tr th:only-of-type {\n",
       "        vertical-align: middle;\n",
       "    }\n",
       "\n",
       "    .dataframe tbody tr th {\n",
       "        vertical-align: top;\n",
       "    }\n",
       "\n",
       "    .dataframe thead th {\n",
       "        text-align: right;\n",
       "    }\n",
       "</style>\n",
       "<table border=\"1\" class=\"dataframe\">\n",
       "  <thead>\n",
       "    <tr style=\"text-align: right;\">\n",
       "      <th></th>\n",
       "      <th>index</th>\n",
       "      <th>Tenor</th>\n",
       "      <th>Days</th>\n",
       "      <th>EUR-Rates</th>\n",
       "      <th>USD-Rates</th>\n",
       "      <th>EURdf</th>\n",
       "      <th>USDdf</th>\n",
       "    </tr>\n",
       "  </thead>\n",
       "  <tbody>\n",
       "    <tr>\n",
       "      <th>0</th>\n",
       "      <td>0</td>\n",
       "      <td>1M</td>\n",
       "      <td>30</td>\n",
       "      <td>0.2200</td>\n",
       "      <td>1.2200</td>\n",
       "      <td>0.9998</td>\n",
       "      <td>0.9990</td>\n",
       "    </tr>\n",
       "    <tr>\n",
       "      <th>1</th>\n",
       "      <td>1</td>\n",
       "      <td>2M</td>\n",
       "      <td>60</td>\n",
       "      <td>0.3700</td>\n",
       "      <td>1.3700</td>\n",
       "      <td>0.9994</td>\n",
       "      <td>0.9978</td>\n",
       "    </tr>\n",
       "    <tr>\n",
       "      <th>2</th>\n",
       "      <td>2</td>\n",
       "      <td>3M</td>\n",
       "      <td>90</td>\n",
       "      <td>0.5300</td>\n",
       "      <td>1.5300</td>\n",
       "      <td>0.9987</td>\n",
       "      <td>0.9962</td>\n",
       "    </tr>\n",
       "    <tr>\n",
       "      <th>3</th>\n",
       "      <td>3</td>\n",
       "      <td>6M</td>\n",
       "      <td>180</td>\n",
       "      <td>0.9500</td>\n",
       "      <td>1.9500</td>\n",
       "      <td>0.9953</td>\n",
       "      <td>0.9904</td>\n",
       "    </tr>\n",
       "    <tr>\n",
       "      <th>4</th>\n",
       "      <td>4</td>\n",
       "      <td>1Y</td>\n",
       "      <td>365</td>\n",
       "      <td>1.3000</td>\n",
       "      <td>2.3000</td>\n",
       "      <td>0.9871</td>\n",
       "      <td>0.9773</td>\n",
       "    </tr>\n",
       "    <tr>\n",
       "      <th>5</th>\n",
       "      <td>5</td>\n",
       "      <td>18M</td>\n",
       "      <td>547</td>\n",
       "      <td>1.5000</td>\n",
       "      <td>2.5000</td>\n",
       "      <td>0.9778</td>\n",
       "      <td>0.9632</td>\n",
       "    </tr>\n",
       "    <tr>\n",
       "      <th>6</th>\n",
       "      <td>6</td>\n",
       "      <td>2Y</td>\n",
       "      <td>730</td>\n",
       "      <td>1.5000</td>\n",
       "      <td>2.5000</td>\n",
       "      <td>0.9705</td>\n",
       "      <td>0.9513</td>\n",
       "    </tr>\n",
       "    <tr>\n",
       "      <th>7</th>\n",
       "      <td>7</td>\n",
       "      <td>3Y</td>\n",
       "      <td>1095</td>\n",
       "      <td>1.4300</td>\n",
       "      <td>2.4300</td>\n",
       "      <td>0.9580</td>\n",
       "      <td>0.9297</td>\n",
       "    </tr>\n",
       "    <tr>\n",
       "      <th>8</th>\n",
       "      <td>8</td>\n",
       "      <td>4Y</td>\n",
       "      <td>1460</td>\n",
       "      <td>1.3700</td>\n",
       "      <td>2.3700</td>\n",
       "      <td>0.9467</td>\n",
       "      <td>0.9096</td>\n",
       "    </tr>\n",
       "    <tr>\n",
       "      <th>9</th>\n",
       "      <td>9</td>\n",
       "      <td>5Y</td>\n",
       "      <td>1825</td>\n",
       "      <td>1.3100</td>\n",
       "      <td>2.3100</td>\n",
       "      <td>0.9366</td>\n",
       "      <td>0.8909</td>\n",
       "    </tr>\n",
       "  </tbody>\n",
       "</table>\n",
       "</div>"
      ],
      "text/plain": [
       "   index Tenor  Days  EUR-Rates  USD-Rates  EURdf  USDdf\n",
       "0      0    1M    30     0.2200     1.2200 0.9998 0.9990\n",
       "1      1    2M    60     0.3700     1.3700 0.9994 0.9978\n",
       "2      2    3M    90     0.5300     1.5300 0.9987 0.9962\n",
       "3      3    6M   180     0.9500     1.9500 0.9953 0.9904\n",
       "4      4    1Y   365     1.3000     2.3000 0.9871 0.9773\n",
       "5      5   18M   547     1.5000     2.5000 0.9778 0.9632\n",
       "6      6    2Y   730     1.5000     2.5000 0.9705 0.9513\n",
       "7      7    3Y  1095     1.4300     2.4300 0.9580 0.9297\n",
       "8      8    4Y  1460     1.3700     2.3700 0.9467 0.9096\n",
       "9      9    5Y  1825     1.3100     2.3100 0.9366 0.8909"
      ]
     },
     "execution_count": 77,
     "metadata": {},
     "output_type": "execute_result"
    }
   ],
   "source": [
    "# Read FX market data - showing first 10 terms\n",
    "df_market_data = pd.read_csv(\"data/EURUSD-MarketData.csv\")\n",
    "df_market_data[\"Days\"]= df_market_data[\"Days\"].astype(int)\n",
    "\n",
    "# remove volatility data from the dataframe as this is not used in this example notebook\n",
    "df_market_data = df_market_data.drop(columns=[\"Vol25D\", \"ATM\", \"Vol75D\", \"Strike25D\", \"StrikeATM\", \"Strike75D\"])\n",
    "df_market_data = df_market_data.reset_index()\n",
    "df_market_data.head(10)"
   ]
  },
  {
   "cell_type": "code",
   "execution_count": 78,
   "metadata": {},
   "outputs": [],
   "source": [
    "# Set up the OIS curves loader function\n",
    "def upsert_discount_factors(scope, effective_at, market_asset, dates, dfs):\n",
    "\n",
    "    complex_market_data = lm.DiscountFactorCurveData(\n",
    "        base_date=effective_at,\n",
    "        dates=dates,\n",
    "        discount_factors = dfs,\n",
    "        market_data_type=\"DiscountFactorCurveData\"\n",
    "    )\n",
    "\n",
    "    # create a unique identifier for our OIS yield curves\n",
    "    complex_id = lm.ComplexMarketDataId(\n",
    "        provider=market_supplier,\n",
    "        price_source = market_supplier,\n",
    "        effective_at=effective_at,\n",
    "        market_asset=market_asset,\n",
    "    )\n",
    "    \n",
    "    upsert_request = lm.UpsertComplexMarketDataRequest(\n",
    "        market_data_id=complex_id, market_data=complex_market_data\n",
    "    )\n",
    "\n",
    "\n",
    "    response = complex_market_data_api.upsert_complex_market_data(\n",
    "        scope=scope, request_body={market_asset: upsert_request}\n",
    "    )\n",
    "    \n",
    "    if response.failed:\n",
    "        print(f\"Failed to upload yield curve {response.failed}\")\n",
    "\n",
    "    print(f\"{market_asset} yield curve uploaded into scope={scope}\")\n",
    "    \n",
    "    return complex_id"
   ]
  },
  {
   "cell_type": "code",
   "execution_count": 79,
   "metadata": {
    "pycharm": {
     "name": "#%%\n"
    }
   },
   "outputs": [
    {
     "name": "stdout",
     "output_type": "stream",
     "text": [
      "EUR/EUROIS yield curve uploaded into scope=ibor\n"
     ]
    }
   ],
   "source": [
    "# To create the OIS curve, we will use the EURdf from the spreadsheet\n",
    "base_date = trade_date\n",
    "dates = []\n",
    "dfs = []\n",
    "\n",
    "for index, row in df_market_data.iterrows():\n",
    "    dates.append(base_date + timedelta(days=row[\"Days\"]))\n",
    "    dfs.append(row[\"EURdf\"])\n",
    "\n",
    "curve_id_EUR_OIS = upsert_discount_factors(market_data_scope, base_date, f\"EUR/EUROIS\", dates, dfs)"
   ]
  },
  {
   "cell_type": "code",
   "execution_count": 80,
   "metadata": {},
   "outputs": [
    {
     "name": "stdout",
     "output_type": "stream",
     "text": [
      "EUR/3M/LIBOR yield curve uploaded into scope=ibor\n"
     ]
    }
   ],
   "source": [
    "# To create the LIBOR curve, will use the EURdf from the spreadsheet with an additional spread of 0.01\n",
    "base_date = trade_date\n",
    "dates = []\n",
    "dfs = []\n",
    "\n",
    "for index, row in df_market_data.iterrows():\n",
    "    dates.append(base_date + timedelta(days=row[\"Days\"]))\n",
    "    dfs.append(row[\"EURdf\"] + 0.01)\n",
    "\n",
    "curve_id_EUR_LIBOR = upsert_discount_factors(market_data_scope, base_date, f\"EUR/{payment_tenor}/LIBOR\", dates, dfs)"
   ]
  },
  {
   "cell_type": "markdown",
   "metadata": {
    "pycharm": {
     "name": "#%% md\n"
    }
   },
   "source": [
    "We can also use the _ComplexMarketDataApi_ to retrieve the data as it's been stored in LUSID. See below for the returned object, and a plot showing both the OIS and LIBOR curves."
   ]
  },
  {
   "cell_type": "code",
   "execution_count": 81,
   "metadata": {
    "pycharm": {
     "name": "#%%\n"
    }
   },
   "outputs": [
    {
     "data": {
      "image/png": "[encoded data removed]",
      "text/plain": [
       "<Figure size 640x480 with 1 Axes>"
      ]
     },
     "metadata": {},
     "output_type": "display_data"
    }
   ],
   "source": [
    "# Retrieve each curve\n",
    "EUR_OIS_curve = complex_market_data_api.get_complex_market_data(\n",
    "    scope=market_data_scope,\n",
    "    request_body= {\"1\": curve_id_EUR_OIS}\n",
    ")\n",
    "\n",
    "EUR_LIBOR_curve = complex_market_data_api.get_complex_market_data(\n",
    "    scope=market_data_scope,\n",
    "    request_body= {\"1\": curve_id_EUR_LIBOR}\n",
    ")\n",
    "\n",
    "# Get axis data and create plot\n",
    "plt.plot(df_market_data[\"Days\"],EUR_OIS_curve.values[\"1\"].discount_factors, color='#ff5200' , marker='o', markersize=5, linestyle='--', linewidth=1, label=\"EUR_OIS\")\n",
    "plt.plot(df_market_data[\"Days\"],EUR_LIBOR_curve.values[\"1\"].discount_factors, color='#4b6dd1' , marker='o', markersize=5, linestyle='--', linewidth=1, label=\"EUR_LIBOR\")\n",
    "plt.yticks(color = '#4b6dd1')\n",
    "plt.xticks(df_market_data[\"Days\"], df_market_data[\"Tenor\"], rotation='vertical', color = '#4b6dd1')\n",
    "plt.title('EUR Discount factors', color = '#4b6dd1')\n",
    "plt.ylabel('Discount_factor', color = '#4b6dd1')\n",
    "plt.xlim([0, 1000]), plt.ylim([.955, 1.015])\n",
    "plt.legend(loc=\"upper right\")\n",
    "plt.show()"
   ]
  },
  {
   "cell_type": "markdown",
   "metadata": {},
   "source": [
    "## 4.2 LIBOR 3M Rates\n",
    "\n",
    "Next we will read in the LIBOR fixing data, this data is representing the daily LIBOR 3M fixings."
   ]
  },
  {
   "cell_type": "code",
   "execution_count": 82,
   "metadata": {},
   "outputs": [
    {
     "data": {
      "text/html": [
       "<div>\n",
       "<style scoped>\n",
       "    .dataframe tbody tr th:only-of-type {\n",
       "        vertical-align: middle;\n",
       "    }\n",
       "\n",
       "    .dataframe tbody tr th {\n",
       "        vertical-align: top;\n",
       "    }\n",
       "\n",
       "    .dataframe thead th {\n",
       "        text-align: right;\n",
       "    }\n",
       "</style>\n",
       "<table border=\"1\" class=\"dataframe\">\n",
       "  <thead>\n",
       "    <tr style=\"text-align: right;\">\n",
       "      <th></th>\n",
       "      <th>Date</th>\n",
       "      <th>Rate</th>\n",
       "      <th>Index</th>\n",
       "    </tr>\n",
       "  </thead>\n",
       "  <tbody>\n",
       "    <tr>\n",
       "      <th>0</th>\n",
       "      <td>2021-01-03 00:00:00+00:00</td>\n",
       "      <td>1.2025</td>\n",
       "      <td>LIBOR</td>\n",
       "    </tr>\n",
       "    <tr>\n",
       "      <th>1</th>\n",
       "      <td>2021-01-04 00:00:00+00:00</td>\n",
       "      <td>1.2050</td>\n",
       "      <td>LIBOR</td>\n",
       "    </tr>\n",
       "    <tr>\n",
       "      <th>2</th>\n",
       "      <td>2021-01-05 00:00:00+00:00</td>\n",
       "      <td>1.2062</td>\n",
       "      <td>LIBOR</td>\n",
       "    </tr>\n",
       "    <tr>\n",
       "      <th>3</th>\n",
       "      <td>2021-01-06 00:00:00+00:00</td>\n",
       "      <td>1.2038</td>\n",
       "      <td>LIBOR</td>\n",
       "    </tr>\n",
       "    <tr>\n",
       "      <th>4</th>\n",
       "      <td>2021-01-07 00:00:00+00:00</td>\n",
       "      <td>1.2011</td>\n",
       "      <td>LIBOR</td>\n",
       "    </tr>\n",
       "  </tbody>\n",
       "</table>\n",
       "</div>"
      ],
      "text/plain": [
       "                       Date   Rate  Index\n",
       "0 2021-01-03 00:00:00+00:00 1.2025  LIBOR\n",
       "1 2021-01-04 00:00:00+00:00 1.2050  LIBOR\n",
       "2 2021-01-05 00:00:00+00:00 1.2062  LIBOR\n",
       "3 2021-01-06 00:00:00+00:00 1.2038  LIBOR\n",
       "4 2021-01-07 00:00:00+00:00 1.2011  LIBOR"
      ]
     },
     "execution_count": 82,
     "metadata": {},
     "output_type": "execute_result"
    }
   ],
   "source": [
    "# Read fixings for LIBOR\n",
    "resets_df = pd.read_csv(\"data/LIBOR-rates.csv\")\n",
    "resets_df[\"Date\"] = pd.to_datetime(resets_df[\"Date\"],dayfirst=True)\n",
    "add_utc_to_df(resets_df)\n",
    "resets_df.head()"
   ]
  },
  {
   "cell_type": "code",
   "execution_count": 83,
   "metadata": {},
   "outputs": [
    {
     "name": "stdout",
     "output_type": "stream",
     "text": [
      "Quotes successfully loaded into LUSID. 118 quotes loaded.\n"
     ]
    }
   ],
   "source": [
    "# Create quotes request\n",
    "instrument_quotes = {\n",
    "            index: lm.UpsertQuoteRequest(\n",
    "            quote_id=lm.QuoteId(\n",
    "                quote_series_id=lm.QuoteSeriesId(\n",
    "                    provider=\"Lusid\",\n",
    "                    instrument_id=\"LIBOR\",\n",
    "                    instrument_id_type=\"RIC\",\n",
    "                    quote_type=\"Rate\",\n",
    "                    field=\"mid\",\n",
    "                ),\n",
    "                effective_at=row[\"Date\"],\n",
    "            ),\n",
    "            metric_value=lm.MetricValue(value=row[\"Rate\"], unit=\"rate\"),\n",
    "            scale_factor=100\n",
    "        )\n",
    "    for index, row in resets_df.iterrows()\n",
    "}\n",
    "\n",
    "# Upsert quotes into LUSID\n",
    "response = quotes_api.upsert_quotes(\n",
    "    scope=market_data_scope, request_body=instrument_quotes\n",
    ")\n",
    "\n",
    "\n",
    "if response.failed == {}:\n",
    "    print(f\"Quotes successfully loaded into LUSID. {len(response.values)} quotes loaded.\")\n",
    "else:\n",
    "    print(f\"Some failures occurred during quotes upsertion, {len(response.failed)} did not get loaded into LUSID.\")"
   ]
  },
  {
   "cell_type": "markdown",
   "metadata": {},
   "source": [
    "# 5. Create Configuration Recipe\n",
    "\n",
    "In order to run a valuation, LUSID will require a recipe that drives how a valuation will be conducted. The below recipe defines what model and market data to use in this context.\n"
   ]
  },
  {
   "cell_type": "code",
   "execution_count": 84,
   "metadata": {},
   "outputs": [
    {
     "name": "stdout",
     "output_type": "stream",
     "text": [
      "Configuration recipe loaded into LUSID at time 2022-08-24 12:07:28.541052+00:00.\n"
     ]
    }
   ],
   "source": [
    "# Set recipe code\n",
    "recipe_code = \"FraValuation\"\n",
    "\n",
    "# Populate recipe parameters\n",
    "configuration_recipe = lm.ConfigurationRecipe(\n",
    "    scope=market_data_scope,\n",
    "    code=recipe_code,\n",
    "    market=lm.MarketContext(\n",
    "        market_rules=[\n",
    "            lm.MarketDataKeyRule(\n",
    "                key=\"Quote.RIC.*\", # Ties back to LIBOR fixings\n",
    "                supplier=\"Lusid\",\n",
    "                data_scope=market_data_scope,\n",
    "                quote_type=\"Rate\",\n",
    "                field=\"mid\",\n",
    "                quote_interval=\"90D\",\n",
    "            ),\n",
    "            lm.MarketDataKeyRule(\n",
    "                key=\"Rates.*.*\",\n",
    "                supplier=market_supplier,\n",
    "                data_scope=market_data_scope,\n",
    "                price_source=market_supplier,\n",
    "                quote_type=\"Price\",\n",
    "                field=\"mid\",\n",
    "                quote_interval=\"100D\",\n",
    "            ),\n",
    "            lm.MarketDataKeyRule(\n",
    "                key=\"Rates.*.*.*\",\n",
    "                supplier=market_supplier,\n",
    "                data_scope=market_data_scope,\n",
    "                price_source=market_supplier,\n",
    "                quote_type=\"Price\",\n",
    "                field=\"mid\",\n",
    "                quote_interval=\"100D\",\n",
    "            ),\n",
    "        ],\n",
    "    ),\n",
    "    pricing=lm.PricingContext(\n",
    "        model_rules=[\n",
    "            lm.VendorModelRule(\n",
    "                supplier=\"Lusid\",\n",
    "                model_name=\"Discounting\",\n",
    "                instrument_type=\"ForwardRateAgreement\",\n",
    "                parameters=\"{}\",\n",
    "            )\n",
    "        ],\n",
    "    ),\n",
    ")\n",
    "\n",
    "response = configuration_recipe_api.upsert_configuration_recipe(\n",
    "    upsert_recipe_request=lm.UpsertRecipeRequest(\n",
    "        configuration_recipe=configuration_recipe\n",
    "    )\n",
    ")\n",
    "\n",
    "\n",
    "print(f\"Configuration recipe loaded into LUSID at time {response.value}.\")"
   ]
  },
  {
   "cell_type": "markdown",
   "metadata": {},
   "source": [
    "# 6. Valuation\n",
    "\n",
    "Value the trade using the Discounting model on the trade date"
   ]
  },
  {
   "cell_type": "code",
   "execution_count": 85,
   "metadata": {},
   "outputs": [],
   "source": [
    "def run_valuation(date, portfolio_code):\n",
    "\n",
    "    metrics = [\n",
    "        lm.AggregateSpec(\"Instrument/default/Name\", \"Value\"),\n",
    "        lm.AggregateSpec(\"Holding/default/PV\", \"Value\"),\n",
    "        lm.AggregateSpec(\"Valuation/PvInPortfolioCcy\", \"Value\"),\n",
    "        lm.AggregateSpec(\"Valuation/Accrued\", \"Value\"),\n",
    "        lm.AggregateSpec(\"Analytic/default/ValuationDate\", \"Value\")\n",
    "    ]\n",
    "\n",
    "    group_by =[]\n",
    "\n",
    "    valuation_request = lm.ValuationRequest(\n",
    "        recipe_id=lm.ResourceId(scope=market_data_scope, code=recipe_code),\n",
    "        metrics=metrics,\n",
    "        group_by=group_by,\n",
    "        portfolio_entity_ids=[\n",
    "            lm.PortfolioEntityId(scope=scope, code=portfolio_code)\n",
    "        ],\n",
    "        valuation_schedule=lm.ValuationSchedule(\n",
    "            effective_at=date\n",
    "        ),\n",
    "    )\n",
    "\n",
    "    val_data = aggregation_api.get_valuation(valuation_request=valuation_request).data\n",
    "    \n",
    "    vals_df = pd.DataFrame(val_data)\n",
    "    \n",
    "\n",
    "    vals_df.rename(\n",
    "        columns={\n",
    "            \"Instrument/default/Name\": \"InstrumentName\",\n",
    "            \"Valuation/PvInPortfolioCcy\": \"Market Value\",\n",
    "        },\n",
    "        inplace=True,\n",
    "    )\n",
    "\n",
    "    return vals_df"
   ]
  },
  {
   "cell_type": "code",
   "execution_count": 86,
   "metadata": {},
   "outputs": [
    {
     "data": {
      "text/html": [
       "<div>\n",
       "<style scoped>\n",
       "    .dataframe tbody tr th:only-of-type {\n",
       "        vertical-align: middle;\n",
       "    }\n",
       "\n",
       "    .dataframe tbody tr th {\n",
       "        vertical-align: top;\n",
       "    }\n",
       "\n",
       "    .dataframe thead th {\n",
       "        text-align: right;\n",
       "    }\n",
       "</style>\n",
       "<table border=\"1\" class=\"dataframe\">\n",
       "  <thead>\n",
       "    <tr style=\"text-align: right;\">\n",
       "      <th></th>\n",
       "      <th>InstrumentName</th>\n",
       "      <th>Holding/default/PV</th>\n",
       "      <th>Market Value</th>\n",
       "      <th>Valuation/Accrued</th>\n",
       "      <th>Analytic/default/ValuationDate</th>\n",
       "    </tr>\n",
       "  </thead>\n",
       "  <tbody>\n",
       "    <tr>\n",
       "      <th>0</th>\n",
       "      <td>EUR.FRA.3M.LIBOR</td>\n",
       "      <td>79,336.0792</td>\n",
       "      <td>79,336.0792</td>\n",
       "      <td>0.0000</td>\n",
       "      <td>2021-01-20T00:00:00.0000000+00:00</td>\n",
       "    </tr>\n",
       "  </tbody>\n",
       "</table>\n",
       "</div>"
      ],
      "text/plain": [
       "     InstrumentName  Holding/default/PV  Market Value  Valuation/Accrued  \\\n",
       "0  EUR.FRA.3M.LIBOR         79,336.0792   79,336.0792             0.0000   \n",
       "\n",
       "      Analytic/default/ValuationDate  \n",
       "0  2021-01-20T00:00:00.0000000+00:00  "
      ]
     },
     "metadata": {},
     "output_type": "display_data"
    }
   ],
   "source": [
    "valuation = run_valuation(trade_date, portfolio_code)\n",
    "display(valuation)"
   ]
  },
  {
   "cell_type": "markdown",
   "metadata": {},
   "source": [
    "## 6.1 Valuation over time\n",
    "\n",
    "Running the valuation over the lifetime of the FRA to show the impact of the cashflow being generated on the fixing date. The output below shows the PVs at different valuation dates."
   ]
  },
  {
   "cell_type": "code",
   "execution_count": 87,
   "metadata": {},
   "outputs": [],
   "source": [
    "def run_aggregate_valuations(start_date, end_date, tenor, portfolio_code):\n",
    "\n",
    "    metrics = [\n",
    "        lm.AggregateSpec(\"Instrument/default/Name\", \"Value\"),\n",
    "        lm.AggregateSpec(\"Holding/default/PV\", \"Value\"),\n",
    "        lm.AggregateSpec(\"Valuation/PvInPortfolioCcy\", \"Value\"),\n",
    "        lm.AggregateSpec(\"Valuation/Accrued\", \"Value\"),\n",
    "        lm.AggregateSpec(\"Analytic/default/ValuationDate\", \"Value\")\n",
    "    ]\n",
    "\n",
    "    group_by =[\"Analytic/default/ValuationDate\"]\n",
    "\n",
    "    valuation_request = lm.ValuationRequest(\n",
    "        recipe_id=lm.ResourceId(scope=market_data_scope, code=recipe_code),\n",
    "        metrics=metrics,\n",
    "        group_by=group_by,\n",
    "        portfolio_entity_ids=[\n",
    "            lm.PortfolioEntityId(scope=scope, code=portfolio_code)\n",
    "        ],\n",
    "        valuation_schedule=lm.ValuationSchedule(\n",
    "            effective_from = start_date,\n",
    "            effective_at = end_date,\n",
    "            tenor = tenor\n",
    "        ),\n",
    "    )\n",
    "\n",
    "    val_data = aggregation_api.get_valuation(valuation_request=valuation_request).data\n",
    "    \n",
    "    vals_df = pd.DataFrame(val_data)\n",
    "    \n",
    "\n",
    "    vals_df.rename(\n",
    "        columns={\n",
    "            \"Instrument/default/Name\": \"InstrumentName\",\n",
    "            \"Valuation/PvInPortfolioCcy\": \"Market Value\",\n",
    "        },\n",
    "        inplace=True,\n",
    "    )\n",
    "\n",
    "    return vals_df"
   ]
  },
  {
   "cell_type": "code",
   "execution_count": 104,
   "metadata": {},
   "outputs": [
    {
     "data": {
      "text/html": [
       "<div>\n",
       "<style scoped>\n",
       "    .dataframe tbody tr th:only-of-type {\n",
       "        vertical-align: middle;\n",
       "    }\n",
       "\n",
       "    .dataframe tbody tr th {\n",
       "        vertical-align: top;\n",
       "    }\n",
       "\n",
       "    .dataframe thead th {\n",
       "        text-align: right;\n",
       "    }\n",
       "</style>\n",
       "<table border=\"1\" class=\"dataframe\">\n",
       "  <thead>\n",
       "    <tr style=\"text-align: right;\">\n",
       "      <th></th>\n",
       "      <th>InstrumentName</th>\n",
       "      <th>Holding/default/PV</th>\n",
       "      <th>Market Value</th>\n",
       "      <th>Valuation/Accrued</th>\n",
       "      <th>Analytic/default/ValuationDate</th>\n",
       "    </tr>\n",
       "  </thead>\n",
       "  <tbody>\n",
       "    <tr>\n",
       "      <th>0</th>\n",
       "      <td>EUR.FRA.3M.LIBOR</td>\n",
       "      <td>79,336.0792</td>\n",
       "      <td>79,336.0792</td>\n",
       "      <td>0.0000</td>\n",
       "      <td>01/20/2021</td>\n",
       "    </tr>\n",
       "    <tr>\n",
       "      <th>1</th>\n",
       "      <td>EUR.FRA.3M.LIBOR</td>\n",
       "      <td>79,339.7820</td>\n",
       "      <td>79,339.7820</td>\n",
       "      <td>0.0000</td>\n",
       "      <td>01/27/2021</td>\n",
       "    </tr>\n",
       "    <tr>\n",
       "      <th>2</th>\n",
       "      <td>EUR.FRA.3M.LIBOR</td>\n",
       "      <td>79,343.4850</td>\n",
       "      <td>79,343.4850</td>\n",
       "      <td>0.0000</td>\n",
       "      <td>02/03/2021</td>\n",
       "    </tr>\n",
       "    <tr>\n",
       "      <th>3</th>\n",
       "      <td>EUR.FRA.3M.LIBOR</td>\n",
       "      <td>79,347.1881</td>\n",
       "      <td>79,347.1881</td>\n",
       "      <td>0.0000</td>\n",
       "      <td>02/10/2021</td>\n",
       "    </tr>\n",
       "    <tr>\n",
       "      <th>4</th>\n",
       "      <td>EUR.FRA.3M.LIBOR</td>\n",
       "      <td>79,350.8915</td>\n",
       "      <td>79,350.8915</td>\n",
       "      <td>0.0000</td>\n",
       "      <td>02/17/2021</td>\n",
       "    </tr>\n",
       "  </tbody>\n",
       "</table>\n",
       "</div>"
      ],
      "text/plain": [
       "     InstrumentName  Holding/default/PV  Market Value  Valuation/Accrued  \\\n",
       "0  EUR.FRA.3M.LIBOR         79,336.0792   79,336.0792             0.0000   \n",
       "1  EUR.FRA.3M.LIBOR         79,339.7820   79,339.7820             0.0000   \n",
       "2  EUR.FRA.3M.LIBOR         79,343.4850   79,343.4850             0.0000   \n",
       "3  EUR.FRA.3M.LIBOR         79,347.1881   79,347.1881             0.0000   \n",
       "4  EUR.FRA.3M.LIBOR         79,350.8915   79,350.8915             0.0000   \n",
       "\n",
       "  Analytic/default/ValuationDate  \n",
       "0                     01/20/2021  \n",
       "1                     01/27/2021  \n",
       "2                     02/03/2021  \n",
       "3                     02/10/2021  \n",
       "4                     02/17/2021  "
      ]
     },
     "execution_count": 104,
     "metadata": {},
     "output_type": "execute_result"
    }
   ],
   "source": [
    "valuation = run_aggregate_valuations(trade_date, start_date, \"1W\", portfolio_code)\n",
    "valuation[\"Analytic/default/ValuationDate\"] = (pd.to_datetime(valuation[\"Analytic/default/ValuationDate\"])).dt.strftime(\"%m/%d/%Y\")\n",
    "valuation.head()"
   ]
  },
  {
   "cell_type": "code",
   "execution_count": 105,
   "metadata": {},
   "outputs": [
    {
     "data": {
      "image/png": "[encoded data removed]",
      "text/plain": [
       "<Figure size 640x480 with 1 Axes>"
      ]
     },
     "metadata": {},
     "output_type": "display_data"
    }
   ],
   "source": [
    "# Get axis data and create plot\n",
    "plt.plot(valuation[\"Analytic/default/ValuationDate\"],valuation[\"Market Value\"], color='#ff5200' , marker='o', markersize=5, linestyle='--', linewidth=1, label=\"PV\")\n",
    "\n",
    "plt.xticks( color = '#4b6dd1', rotation='vertical')\n",
    "plt.yticks( color = '#4b6dd1')\n",
    "plt.title('FRA valuation over time', color = '#4b6dd1')\n",
    "plt.ylabel('PV', color = '#4b6dd1')\n",
    "plt.legend(loc=\"lower left\")\n",
    "plt.show()"
   ]
  },
  {
   "cell_type": "markdown",
   "metadata": {},
   "source": [
    "# 7. Instrument Lifecycle\n",
    "\n",
    "At the start date we would expect the trade to generate a cashflow equal to the interest earned over the FRA period, according to the difference between the FRA rate and the reference index (in this case LIBOR 3M). The cashflow is paid on the start_date of the FRA."
   ]
  },
  {
   "cell_type": "code",
   "execution_count": 107,
   "metadata": {},
   "outputs": [
    {
     "data": {
      "text/html": [
       "<div>\n",
       "<style scoped>\n",
       "    .dataframe tbody tr th:only-of-type {\n",
       "        vertical-align: middle;\n",
       "    }\n",
       "\n",
       "    .dataframe tbody tr th {\n",
       "        vertical-align: top;\n",
       "    }\n",
       "\n",
       "    .dataframe thead th {\n",
       "        text-align: right;\n",
       "    }\n",
       "</style>\n",
       "<table border=\"1\" class=\"dataframe\">\n",
       "  <thead>\n",
       "    <tr style=\"text-align: right;\">\n",
       "      <th></th>\n",
       "      <th>transaction_id</th>\n",
       "      <th>type</th>\n",
       "      <th>instrument_identifiers.Instrument/default/LusidInstrumentId</th>\n",
       "      <th>instrument_scope</th>\n",
       "      <th>instrument_uid</th>\n",
       "      <th>transaction_date</th>\n",
       "      <th>settlement_date</th>\n",
       "      <th>units</th>\n",
       "      <th>transaction_price.price</th>\n",
       "      <th>transaction_price.type</th>\n",
       "      <th>total_consideration.amount</th>\n",
       "      <th>total_consideration.currency</th>\n",
       "      <th>exchange_rate</th>\n",
       "      <th>transaction_currency</th>\n",
       "      <th>properties</th>\n",
       "      <th>source</th>\n",
       "      <th>entry_date_time</th>\n",
       "      <th>transaction_status</th>\n",
       "    </tr>\n",
       "  </thead>\n",
       "  <tbody>\n",
       "    <tr>\n",
       "      <th>0</th>\n",
       "      <td>TXN001.1-LUID_00003FW3-20210420-Cash-EUR-Receive</td>\n",
       "      <td>CashFlow</td>\n",
       "      <td>LUID_00003FW3</td>\n",
       "      <td>ibor</td>\n",
       "      <td>LUID_00003FW3</td>\n",
       "      <td>2021-04-20 00:00:00+00:00</td>\n",
       "      <td>2021-04-20 00:00:00+00:00</td>\n",
       "      <td>79,714.2842</td>\n",
       "      <td>1.0000</td>\n",
       "      <td>Price</td>\n",
       "      <td>79,714.2842</td>\n",
       "      <td>EUR</td>\n",
       "      <td>1.0000</td>\n",
       "      <td>EUR</td>\n",
       "      <td>{}</td>\n",
       "      <td>default</td>\n",
       "      <td>0001-01-01 00:00:00+00:00</td>\n",
       "      <td>Active</td>\n",
       "    </tr>\n",
       "  </tbody>\n",
       "</table>\n",
       "</div>"
      ],
      "text/plain": [
       "                                     transaction_id      type  \\\n",
       "0  TXN001.1-LUID_00003FW3-20210420-Cash-EUR-Receive  CashFlow   \n",
       "\n",
       "  instrument_identifiers.Instrument/default/LusidInstrumentId  \\\n",
       "0                                      LUID_00003FW3            \n",
       "\n",
       "  instrument_scope instrument_uid          transaction_date  \\\n",
       "0             ibor  LUID_00003FW3 2021-04-20 00:00:00+00:00   \n",
       "\n",
       "            settlement_date       units  transaction_price.price  \\\n",
       "0 2021-04-20 00:00:00+00:00 79,714.2842                   1.0000   \n",
       "\n",
       "  transaction_price.type  total_consideration.amount  \\\n",
       "0                  Price                 79,714.2842   \n",
       "\n",
       "  total_consideration.currency  exchange_rate transaction_currency properties  \\\n",
       "0                          EUR         1.0000                  EUR         {}   \n",
       "\n",
       "    source            entry_date_time transaction_status  \n",
       "0  default  0001-01-01 00:00:00+00:00             Active  "
      ]
     },
     "execution_count": 107,
     "metadata": {},
     "output_type": "execute_result"
    }
   ],
   "source": [
    "# get the cash flows\n",
    "fra_cash_flows = transaction_portfolios_api.get_upsertable_portfolio_cash_flows(\n",
    "    scope=scope,\n",
    "    code=portfolio_code,\n",
    "    effective_at=trade_date,\n",
    "    window_start=trade_date,\n",
    "    window_end=start_date,\n",
    "    recipe_id_scope=scope,\n",
    "    recipe_id_code=recipe_code\n",
    ")\n",
    "\n",
    "# we create a dataframe out of the cash flows table\n",
    "cash_flow_table = lusid_response_to_data_frame(fra_cash_flows)\n",
    "cash_flow_table"
   ]
  },
  {
   "cell_type": "markdown",
   "metadata": {
    "collapsed": true
   },
   "source": [
    "## Cash generation process\n",
    "\n",
    "On the start date the cashflows are know, and the FRA simply needs to pay out the net cashflow. We will therefore do 2 things:\n",
    "1. Book the resulting cashflow in the system\n",
    "2. Set the FRA position to 0"
   ]
  },
  {
   "cell_type": "code",
   "execution_count": 108,
   "metadata": {},
   "outputs": [
    {
     "name": "stdout",
     "output_type": "stream",
     "text": [
      "Cashflows successfully updated at time: 2022-08-24 11:10:44.881716+00:00\n"
     ]
    }
   ],
   "source": [
    "# Book the cash flow as a cash transactions\n",
    "non_zero_upsertable_cash_flows = []\n",
    "\n",
    "for x in fra_cash_flows.values:\n",
    "    if x.units != 0:\n",
    "        non_zero_upsertable_cash_flows.append(x)\n",
    "\n",
    "if len(non_zero_upsertable_cash_flows) > 0:\n",
    "    # Upsert the cash transactions\n",
    "    response = transaction_portfolios_api.upsert_transactions(\n",
    "        scope=scope,\n",
    "        code=portfolio_code,\n",
    "        transaction_request=non_zero_upsertable_cash_flows\n",
    "    )\n",
    "    print(f\"Cashflows successfully updated at time: {response.version.as_at_date}\")\n",
    "else:\n",
    "    print(f\"No cashflows to upload\")"
   ]
  },
  {
   "cell_type": "code",
   "execution_count": 109,
   "metadata": {},
   "outputs": [
    {
     "name": "stdout",
     "output_type": "stream",
     "text": [
      "Transaction successfully updated at time: 2022-08-24 12:16:25.712779+00:00\n"
     ]
    },
    {
     "data": {
      "text/plain": [
       "2"
      ]
     },
     "execution_count": 109,
     "metadata": {},
     "output_type": "execute_result"
    }
   ],
   "source": [
    "# Now book a StockOut to remove the FRA position\n",
    "fra_txn = lm.TransactionRequest(\n",
    "    transaction_id=fra_deal_id + \".\" + str(fra_version),\n",
    "    type=\"StockOut\",\n",
    "    instrument_identifiers={\"Instrument/default/ClientInternal\": fra_identifier},\n",
    "    transaction_date=fixing_date,\n",
    "    settlement_date=fixing_date,\n",
    "    units=notional,\n",
    "    transaction_price=lm.TransactionPrice(price=0,type=\"Price\"),\n",
    "    total_consideration=lm.CurrencyAndAmount(amount=0,currency=\"EUR\"),\n",
    "    exchange_rate=1,\n",
    "    transaction_currency=\"EUR\"\n",
    ")\n",
    "\n",
    "response = transaction_portfolios_api.upsert_transactions(scope=scope,\n",
    "                                                    code=portfolio_code,\n",
    "                                                    transaction_request=[fra_txn])\n",
    "\n",
    "print(f\"Transaction successfully updated at time: {response.version.as_at_date}\")\n",
    "fra_version +1\n"
   ]
  },
  {
   "cell_type": "code",
   "execution_count": 110,
   "metadata": {},
   "outputs": [
    {
     "data": {
      "text/html": [
       "<div>\n",
       "<style scoped>\n",
       "    .dataframe tbody tr th:only-of-type {\n",
       "        vertical-align: middle;\n",
       "    }\n",
       "\n",
       "    .dataframe tbody tr th {\n",
       "        vertical-align: top;\n",
       "    }\n",
       "\n",
       "    .dataframe thead th {\n",
       "        text-align: right;\n",
       "    }\n",
       "</style>\n",
       "<table border=\"1\" class=\"dataframe\">\n",
       "  <thead>\n",
       "    <tr style=\"text-align: right;\">\n",
       "      <th></th>\n",
       "      <th>InstrumentName</th>\n",
       "      <th>Holding/default/PV</th>\n",
       "      <th>Market Value</th>\n",
       "      <th>Valuation/Accrued</th>\n",
       "      <th>Analytic/default/ValuationDate</th>\n",
       "    </tr>\n",
       "  </thead>\n",
       "  <tbody>\n",
       "    <tr>\n",
       "      <th>0</th>\n",
       "      <td>EUR.FRA.3M.LIBOR</td>\n",
       "      <td>0.0000</td>\n",
       "      <td>0.0000</td>\n",
       "      <td>0.0000</td>\n",
       "      <td>2021-04-20T00:00:00.0000000+00:00</td>\n",
       "    </tr>\n",
       "    <tr>\n",
       "      <th>1</th>\n",
       "      <td>EUR</td>\n",
       "      <td>79,714.2842</td>\n",
       "      <td>79,714.2842</td>\n",
       "      <td>0.0000</td>\n",
       "      <td>2021-04-20T00:00:00.0000000+00:00</td>\n",
       "    </tr>\n",
       "  </tbody>\n",
       "</table>\n",
       "</div>"
      ],
      "text/plain": [
       "     InstrumentName  Holding/default/PV  Market Value  Valuation/Accrued  \\\n",
       "0  EUR.FRA.3M.LIBOR              0.0000        0.0000             0.0000   \n",
       "1               EUR         79,714.2842   79,714.2842             0.0000   \n",
       "\n",
       "      Analytic/default/ValuationDate  \n",
       "0  2021-04-20T00:00:00.0000000+00:00  \n",
       "1  2021-04-20T00:00:00.0000000+00:00  "
      ]
     },
     "metadata": {},
     "output_type": "display_data"
    }
   ],
   "source": [
    "# To check that the portfolio values correctly after these transactions\n",
    "valuation = run_valuation(start_date + timedelta(days=0), portfolio_code)\n",
    "display(valuation)"
   ]
  },
  {
   "cell_type": "markdown",
   "metadata": {},
   "source": [
    "# 8.A2B Report for P&L\n",
    "Next we are going to run a LUSID A2B report on the portfolio, which will break down the P&L of the position for a given window.\n",
    "\n",
    "The AtoB report will give a breakdown of each holding's P&L, including the flows (transactions) that have occurred in the selected window. Within the report you will find the following detail:\n",
    "\n",
    "Market Value (Start): The market value at the start of the window.\n",
    "Market Gain: Capital Gain, or gain due to asset appreciation based on available market data.\n",
    "Carry: Interest and dividend accruals where applicable, also known as carry return.\n",
    "Flows: Any transaction activity occurring in the period (buys, sells, etc.).\n",
    "Market Value (End): The market value of the security at the end of the window."
   ]
  },
  {
   "cell_type": "code",
   "execution_count": 111,
   "metadata": {},
   "outputs": [],
   "source": [
    "# Request A2B report\n",
    "a2b = transaction_portfolios_api.get_a2_b_data(\n",
    "    scope=scope,\n",
    "    code=portfolio_code,\n",
    "    from_effective_at=trade_date,\n",
    "    to_effective_at=start_date + timedelta(days=3),\n",
    "    recipe_id_scope=market_data_scope,\n",
    "    recipe_id_code=recipe_code,\n",
    "    property_keys=[\"Instrument/default/Name\"]\n",
    ")"
   ]
  },
  {
   "cell_type": "code",
   "execution_count": 112,
   "metadata": {},
   "outputs": [
    {
     "data": {
      "text/html": [
       "<div>\n",
       "<style scoped>\n",
       "    .dataframe tbody tr th:only-of-type {\n",
       "        vertical-align: middle;\n",
       "    }\n",
       "\n",
       "    .dataframe tbody tr th {\n",
       "        vertical-align: top;\n",
       "    }\n",
       "\n",
       "    .dataframe thead th {\n",
       "        text-align: right;\n",
       "    }\n",
       "</style>\n",
       "<table border=\"1\" class=\"dataframe\">\n",
       "  <thead>\n",
       "    <tr style=\"text-align: right;\">\n",
       "      <th></th>\n",
       "      <th>Portfolio Scope</th>\n",
       "      <th>Portfolio Code</th>\n",
       "      <th>Holding Type</th>\n",
       "      <th>Instrument ID</th>\n",
       "      <th>Instrument Name</th>\n",
       "      <th>Carry (Window)</th>\n",
       "      <th>Market Value (End)</th>\n",
       "    </tr>\n",
       "  </thead>\n",
       "  <tbody>\n",
       "    <tr>\n",
       "      <th>0</th>\n",
       "      <td>ibor</td>\n",
       "      <td>fra</td>\n",
       "      <td>B</td>\n",
       "      <td>CCY_EUR</td>\n",
       "      <td>EUR</td>\n",
       "      <td>NaN</td>\n",
       "      <td>79,714.2800</td>\n",
       "    </tr>\n",
       "    <tr>\n",
       "      <th>1</th>\n",
       "      <td>ibor</td>\n",
       "      <td>fra</td>\n",
       "      <td>P</td>\n",
       "      <td>LUID_00003FW3</td>\n",
       "      <td>EUR.FRA.3M.LIBOR</td>\n",
       "      <td>79,714.2800</td>\n",
       "      <td>0.0000</td>\n",
       "    </tr>\n",
       "  </tbody>\n",
       "</table>\n",
       "</div>"
      ],
      "text/plain": [
       "  Portfolio Scope Portfolio Code Holding Type  Instrument ID  \\\n",
       "0            ibor            fra            B        CCY_EUR   \n",
       "1            ibor            fra            P  LUID_00003FW3   \n",
       "\n",
       "    Instrument Name  Carry (Window)  Market Value (End)  \n",
       "0               EUR             NaN         79,714.2800  \n",
       "1  EUR.FRA.3M.LIBOR     79,714.2800              0.0000  "
      ]
     },
     "execution_count": 112,
     "metadata": {},
     "output_type": "execute_result"
    }
   ],
   "source": [
    "# Rename A2B columns in df\n",
    "rename_cols = {\n",
    "    \"portfolio_id.scope\": \"Portfolio Scope\",\n",
    "    \"portfolio_id.code\": \"Portfolio Code\",\n",
    "    \"holding_type\": \"Holding Type\",\n",
    "    \"instrument_uid\": \"Instrument ID\",\n",
    "    \"Name(default-Properties)\": \"Instrument Name\",\n",
    "    \"carry.portfolio_currency.total\": \"Carry (Window)\",\n",
    "    \"end.portfolio_currency.total\": \"Market Value (End)\"\n",
    "}\n",
    "\n",
    "# Format and filter A2B\n",
    "a2b_df = lusid_response_to_data_frame(a2b, rename_properties=True)\n",
    "\n",
    "#the renaming of the columns can fail depending on the results returned from the portfolio\n",
    "try:\n",
    "    col_filters = rename_cols.keys()\n",
    "    a2b_df = a2b_df[col_filters].copy()\n",
    "    a2b_df.rename(columns=rename_cols, inplace=True)\n",
    "except Exception as e:\n",
    "    print(f\"Can not rename columns {e}\")\n",
    "\n",
    "a2b_df"
   ]
  }
 ],
 "metadata": {
  "kernelspec": {
   "display_name": "Python 3 (ipykernel)",
   "language": "python",
   "name": "python3"
  },
  "language_info": {
   "codemirror_mode": {
    "name": "ipython",
    "version": 3
   },
   "file_extension": ".py",
   "mimetype": "text/x-python",
   "name": "python",
   "nbconvert_exporter": "python",
   "pygments_lexer": "ipython3",
   "version": "3.9.7"
  }
 },
 "nbformat": 4,
 "nbformat_minor": 1
}
