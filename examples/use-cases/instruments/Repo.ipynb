{
 "cells": [
  {
   "attachments": {},
   "cell_type": "markdown",
   "id": "1b817f80",
   "metadata": {},
   "source": [
    "# Repo Instrument Example\n",
    "\n",
    "In this notebook, we will book two different repo instruments into a portfolio, and then continue to roll the principal and interest rate of the two bonds indepenedently. "
   ]
  },
  {
   "cell_type": "markdown",
   "id": "3d9f3969",
   "metadata": {},
   "source": [
    "## Setup"
   ]
  },
  {
   "cell_type": "code",
   "execution_count": 1,
   "id": "e6665beb",
   "metadata": {},
   "outputs": [
    {
     "name": "stdout",
     "output_type": "stream",
     "text": [
      "LUSID Environment Initialised\n",
      "LUSID API Version : 0.6.11149.0\n"
     ]
    }
   ],
   "source": [
    "# Import generic non-LUSID packages\n",
    "import os\n",
    "import pandas as pd\n",
    "import numpy as np\n",
    "from datetime import datetime\n",
    "import json\n",
    "import pytz\n",
    "import time\n",
    "from IPython.core.display import HTML\n",
    "\n",
    "# Import key modules from the LUSID package\n",
    "import lusid as lu\n",
    "import lusid.models as lm\n",
    "\n",
    "# Import key functions from Lusid-Python-Tools and other packages\n",
    "from lusidtools.pandas_utils.lusid_pandas import lusid_response_to_data_frame\n",
    "from lusidtools.cocoon.transaction_type_upload import upsert_transaction_type_alias\n",
    "from lusidtools.lpt.lpt import to_date\n",
    "from lusidjam import RefreshingToken\n",
    "\n",
    "\n",
    "# Set DataFrame display formats\n",
    "pd.set_option(\"display.max_columns\", None)\n",
    "pd.set_option(\"display.max_rows\", None)\n",
    "pd.options.display.float_format = \"{:,.2f}\".format\n",
    "# display(HTML(\"<style>.container { width:90% !important; }</style>\"))\n",
    "\n",
    "# Set the secrets path\n",
    "secrets_path = os.getenv(\"FBN_SECRETS_PATH\")\n",
    "\n",
    "# For running the notebook locally\n",
    "if secrets_path is None:\n",
    "    secrets_path = os.path.join(os.path.dirname(os.getcwd()), \"secrets.json\")\n",
    "\n",
    "# Authenticate our user and create our API client\n",
    "api_factory = lu.utilities.ApiClientFactory(\n",
    "    token=RefreshingToken(), api_secrets_filename=secrets_path\n",
    ")\n",
    "\n",
    "print(\"LUSID Environment Initialised\")\n",
    "print(\n",
    "    \"LUSID API Version :\",\n",
    "    api_factory.build(lu.api.ApplicationMetadataApi).get_lusid_versions().build_version,\n",
    ")"
   ]
  },
  {
   "cell_type": "code",
   "execution_count": 2,
   "id": "49400dd3",
   "metadata": {},
   "outputs": [],
   "source": [
    "portfolio_api = api_factory.build(lu.api.PortfoliosApi)\n",
    "transaction_portfolios_api = api_factory.build(lu.api.TransactionPortfoliosApi)\n",
    "instruments_api = api_factory.build(lu.api.InstrumentsApi)\n",
    "quotes_api = api_factory.build(lu.api.QuotesApi)\n",
    "configuration_recipe_api = api_factory.build(lu.api.ConfigurationRecipeApi)\n",
    "system_configuration_api = api_factory.build(lu.api.SystemConfigurationApi)\n",
    "aggregration_api = api_factory.build(lu.api.AggregationApi)"
   ]
  },
  {
   "cell_type": "code",
   "execution_count": 3,
   "id": "81969a3f",
   "metadata": {},
   "outputs": [],
   "source": [
    "# Define scopes\n",
    "scope = \"ibor\"\n",
    "quotes_scope = \"ibor\"\n",
    "portfolio_code = \"repoExamplePortfolio\""
   ]
  },
  {
   "cell_type": "markdown",
   "id": "968331d0",
   "metadata": {},
   "source": [
    "## 1. Create a Portfolio\n",
    "\n",
    "We begin by creating a portfolio to store the two repo instruments."
   ]
  },
  {
   "cell_type": "code",
   "execution_count": 4,
   "id": "0ff1db77",
   "metadata": {},
   "outputs": [
    {
     "name": "stdout",
     "output_type": "stream",
     "text": [
      "Could not create a portfolio with id 'repoExamplePortfolio' because it already exists in scope 'ibor'.\n"
     ]
    }
   ],
   "source": [
    "try:\n",
    "    transaction_portfolios_api.create_portfolio(\n",
    "        scope=scope,\n",
    "        create_transaction_portfolio_request=lm.CreateTransactionPortfolioRequest(\n",
    "            display_name=portfolio_code,\n",
    "            code=portfolio_code,\n",
    "            base_currency=\"USD\",\n",
    "            created=\"2010-01-01\",\n",
    "            sub_holding_keys=[],\n",
    "        ),\n",
    "    )\n",
    "\n",
    "except lu.ApiException as e:\n",
    "    print(json.loads(e.body)[\"title\"])"
   ]
  },
  {
   "cell_type": "markdown",
   "id": "0efbd6a2",
   "metadata": {},
   "source": [
    "## Create Repo Instruments and Collateral\n",
    "\n",
    "We will now create two repo instruments and upsert these into Lusid. The two repo instruments are defined as follows:\n",
    "\n",
    "- Simple repo: no collateral definition\n",
    "- Repo with collateral: a bond definiton will be provided as collateral"
   ]
  },
  {
   "cell_type": "code",
   "execution_count": 5,
   "id": "1016b8f7",
   "metadata": {},
   "outputs": [],
   "source": [
    "def create_collateral_instrument_definition(\n",
    "    start_date,\n",
    "    maturity_date,\n",
    "    dom_ccy,\n",
    "    principal,\n",
    "    coupon_rate,\n",
    "    currency,\n",
    "    payment_frequency,\n",
    "    roll_convention,\n",
    "    day_count_convention,\n",
    "    payment_calendars,\n",
    "    reset_calendars,\n",
    "    settle_days,\n",
    "    reset_days\n",
    "):\n",
    "    flow_conventions = lm.FlowConventions(\n",
    "        currency=currency,\n",
    "        payment_frequency=payment_frequency,\n",
    "        roll_convention=roll_convention,\n",
    "        day_count_convention=day_count_convention,\n",
    "        payment_calendars=payment_calendars,\n",
    "        reset_calendars=reset_calendars,\n",
    "        settle_days=settle_days,\n",
    "        reset_days=reset_days,\n",
    "    )\n",
    "\n",
    "    bond = lm.Bond(\n",
    "        start_date=start_date,\n",
    "        maturity_date=maturity_date,\n",
    "        dom_ccy=dom_ccy,\n",
    "        principal=principal,\n",
    "        coupon_rate=coupon_rate,\n",
    "        flow_conventions=flow_conventions,\n",
    "        identifiers={},\n",
    "        instrument_type=\"Bond\",\n",
    "        calculation_type=\"Standard\",\n",
    "    )\n",
    "    \n",
    "    return bond"
   ]
  },
  {
   "cell_type": "code",
   "execution_count": 6,
   "id": "5bdc1541",
   "metadata": {},
   "outputs": [],
   "source": [
    "def create_repo_instrument(\n",
    "    name,\n",
    "    identifier,\n",
    "    start_date,\n",
    "    maturity_date,\n",
    "    dom_ccy,\n",
    "    accrual_basis,\n",
    "    purchase_price,\n",
    "    repo_rate,\n",
    "    collateral\n",
    "):\n",
    "    repo_instrument = lm.Repo(\n",
    "        instrument_type=\"Repo\",\n",
    "        start_date=start_date,\n",
    "        maturity_date=maturity_date,\n",
    "        dom_ccy=dom_ccy,\n",
    "        accrual_basis=accrual_basis,\n",
    "        purchase_price=purchase_price,\n",
    "        repo_rate=repo_rate,\n",
    "        collateral=collateral,\n",
    "    )\n",
    "    \n",
    "    repo_definition = lm.InstrumentDefinition(\n",
    "        name=name,\n",
    "        identifiers={\"ClientInternal\": lm.InstrumentIdValue(identifier)},\n",
    "        definition=repo_instrument\n",
    "    )\n",
    "    \n",
    "    upsert_request = {identifier: repo_definition}\n",
    "    upsert_response = instruments_api.upsert_instruments(request_body=upsert_request)\n",
    "    repo_luid = upsert_response.values[identifier]\n",
    "    print(repo_luid)"
   ]
  },
  {
   "cell_type": "code",
   "execution_count": 7,
   "id": "50b47d7f",
   "metadata": {},
   "outputs": [
    {
     "name": "stdout",
     "output_type": "stream",
     "text": [
      "{'calculation_type': 'Standard',\n",
      " 'coupon_rate': 0.03,\n",
      " 'dom_ccy': 'GBP',\n",
      " 'ex_dividend_days': None,\n",
      " 'first_coupon_pay_date': None,\n",
      " 'flow_conventions': {'accrual_date_adjustment': None,\n",
      "                      'code': None,\n",
      "                      'currency': 'GBP',\n",
      "                      'day_count_convention': 'Actual360',\n",
      "                      'leap_days_included': None,\n",
      "                      'payment_calendars': [],\n",
      "                      'payment_frequency': '6M',\n",
      "                      'reset_calendars': [],\n",
      "                      'reset_days': 0,\n",
      "                      'roll_convention': 'F',\n",
      "                      'scope': None,\n",
      "                      'settle_days': 0},\n",
      " 'identifiers': {},\n",
      " 'initial_coupon_date': None,\n",
      " 'instrument_type': 'Bond',\n",
      " 'maturity_date': datetime.datetime(2045, 1, 1, 0, 0, tzinfo=<UTC>),\n",
      " 'principal': 1.01,\n",
      " 'start_date': datetime.datetime(2015, 1, 1, 0, 0, tzinfo=<UTC>)}\n"
     ]
    }
   ],
   "source": [
    "# Create collateral instrument\n",
    "collateral_instrument = create_collateral_instrument_definition(\n",
    "    datetime(2015, 1, 1, 00, tzinfo=pytz.utc),\n",
    "    datetime(2045, 1, 1, 00, tzinfo=pytz.utc),\n",
    "    \"GBP\",\n",
    "    1.01,\n",
    "    0.03,\n",
    "    \"GBP\",\n",
    "    \"6M\",\n",
    "    \"F\",\n",
    "    \"Actual360\",\n",
    "    [],\n",
    "    [],\n",
    "    0,\n",
    "    0\n",
    ")\n",
    "print(collateral_instrument)"
   ]
  },
  {
   "cell_type": "code",
   "execution_count": 8,
   "id": "fcc8bd63",
   "metadata": {},
   "outputs": [
    {
     "name": "stdout",
     "output_type": "stream",
     "text": [
      "{'asset_class': 'InterestRates',\n",
      " 'dom_ccy': 'USD',\n",
      " 'href': 'https://fbn-ryan-g.lusid.com/api/api/instruments/LusidInstrumentId/LUID_00003JLC?scope=default',\n",
      " 'identifiers': {'ClientInternal': 'REPO_EXAMPLE_A',\n",
      "                 'LusidInstrumentId': 'LUID_00003JLC'},\n",
      " 'instrument_definition': {'accrual_basis': 'Actual360',\n",
      "                           'collateral': [],\n",
      "                           'collateral_value': None,\n",
      "                           'dom_ccy': 'USD',\n",
      "                           'haircut': None,\n",
      "                           'instrument_type': 'Repo',\n",
      "                           'margin': None,\n",
      "                           'maturity_date': datetime.datetime(2030, 1, 1, 0, 0, tzinfo=tzlocal()),\n",
      "                           'purchase_price': 2000.0,\n",
      "                           'repo_rate': 1.03,\n",
      "                           'repurchase_price': None,\n",
      "                           'start_date': datetime.datetime(2020, 1, 1, 0, 0, tzinfo=tzlocal())},\n",
      " 'links': None,\n",
      " 'lookthrough_portfolio': None,\n",
      " 'lusid_instrument_id': 'LUID_00003JLC',\n",
      " 'name': 'Repo Example Instrument A',\n",
      " 'properties': [],\n",
      " 'relationships': [],\n",
      " 'scope': 'default',\n",
      " 'state': 'Active',\n",
      " 'version': {'as_at_created': None,\n",
      "             'as_at_date': datetime.datetime(2023, 4, 18, 10, 9, 11, 724947, tzinfo=tzlocal()),\n",
      "             'as_at_modified': None,\n",
      "             'as_at_version_number': None,\n",
      "             'effective_from': datetime.datetime(1, 1, 1, 0, 0, tzinfo=tzlocal()),\n",
      "             'user_id_created': None,\n",
      "             'user_id_modified': None}}\n"
     ]
    }
   ],
   "source": [
    "repo_luid_a = create_repo_instrument(\n",
    "    \"Repo Example Instrument A\",\n",
    "    \"REPO_EXAMPLE_A\",\n",
    "    datetime(2020, 1, 1, 00, tzinfo=pytz.utc),\n",
    "    datetime(2030, 1, 1, 00, tzinfo=pytz.utc),\n",
    "    \"USD\",\n",
    "    \"Actual360\",\n",
    "    2000.00,\n",
    "    1.03,\n",
    "    []\n",
    ")"
   ]
  },
  {
   "cell_type": "code",
   "execution_count": 9,
   "id": "f3fc226c",
   "metadata": {},
   "outputs": [
    {
     "name": "stdout",
     "output_type": "stream",
     "text": [
      "{'asset_class': 'InterestRates',\n",
      " 'dom_ccy': 'USD',\n",
      " 'href': 'https://fbn-ryan-g.lusid.com/api/api/instruments/LusidInstrumentId/LUID_00003JLD?scope=default',\n",
      " 'identifiers': {'ClientInternal': 'REPO_EXAMPLE_B',\n",
      "                 'LusidInstrumentId': 'LUID_00003JLD'},\n",
      " 'instrument_definition': {'accrual_basis': 'Actual360',\n",
      "                           'collateral': [{'calculation_type': 'Standard',\n",
      "                                           'coupon_rate': 0.03,\n",
      "                                           'dom_ccy': 'GBP',\n",
      "                                           'ex_dividend_days': None,\n",
      "                                           'first_coupon_pay_date': None,\n",
      "                                           'flow_conventions': {'accrual_date_adjustment': 'Adjusted',\n",
      "                                                                'code': None,\n",
      "                                                                'currency': 'GBP',\n",
      "                                                                'day_count_convention': 'Actual360',\n",
      "                                                                'leap_days_included': True,\n",
      "                                                                'payment_calendars': [],\n",
      "                                                                'payment_frequency': '6M',\n",
      "                                                                'reset_calendars': [],\n",
      "                                                                'reset_days': 0,\n",
      "                                                                'roll_convention': 'F',\n",
      "                                                                'scope': None,\n",
      "                                                                'settle_days': 0},\n",
      "                                           'identifiers': {},\n",
      "                                           'initial_coupon_date': None,\n",
      "                                           'instrument_type': 'Bond',\n",
      "                                           'maturity_date': datetime.datetime(2045, 1, 1, 0, 0, tzinfo=tzlocal()),\n",
      "                                           'principal': 1.01,\n",
      "                                           'start_date': datetime.datetime(2015, 1, 1, 0, 0, tzinfo=tzlocal())}],\n",
      "                           'collateral_value': None,\n",
      "                           'dom_ccy': 'USD',\n",
      "                           'haircut': None,\n",
      "                           'instrument_type': 'Repo',\n",
      "                           'margin': None,\n",
      "                           'maturity_date': datetime.datetime(2035, 1, 1, 0, 0, tzinfo=tzlocal()),\n",
      "                           'purchase_price': 1000.0,\n",
      "                           'repo_rate': 1.02,\n",
      "                           'repurchase_price': None,\n",
      "                           'start_date': datetime.datetime(2025, 1, 1, 0, 0, tzinfo=tzlocal())},\n",
      " 'links': None,\n",
      " 'lookthrough_portfolio': None,\n",
      " 'lusid_instrument_id': 'LUID_00003JLD',\n",
      " 'name': 'Repo Example Instrument B',\n",
      " 'properties': [],\n",
      " 'relationships': [],\n",
      " 'scope': 'default',\n",
      " 'state': 'Active',\n",
      " 'version': {'as_at_created': None,\n",
      "             'as_at_date': datetime.datetime(2023, 4, 18, 10, 11, 28, 498163, tzinfo=tzlocal()),\n",
      "             'as_at_modified': None,\n",
      "             'as_at_version_number': None,\n",
      "             'effective_from': datetime.datetime(1, 1, 1, 0, 0, tzinfo=tzlocal()),\n",
      "             'user_id_created': None,\n",
      "             'user_id_modified': None}}\n"
     ]
    }
   ],
   "source": [
    "repo_luid_b = create_repo_instrument(\n",
    "    \"Repo Example Instrument B\",\n",
    "    \"REPO_EXAMPLE_B\",\n",
    "    datetime(2025, 1, 1, 00, tzinfo=pytz.utc),\n",
    "    datetime(2035, 1, 1, 00, tzinfo=pytz.utc),\n",
    "    \"USD\",\n",
    "    \"Actual360\",\n",
    "    1000.00,\n",
    "    1.02,\n",
    "    [collateral_instrument]\n",
    ")"
   ]
  },
  {
   "cell_type": "markdown",
   "id": "43c37a75",
   "metadata": {},
   "source": [
    "## Loading Repo Transactions in the Portfolio\n",
    "\n",
    "We will continue by loading in the two repos using the transactions below."
   ]
  },
  {
   "cell_type": "code",
   "execution_count": 10,
   "id": "e9acd8cd",
   "metadata": {},
   "outputs": [
    {
     "data": {
      "text/html": [
       "<div>\n",
       "<style scoped>\n",
       "    .dataframe tbody tr th:only-of-type {\n",
       "        vertical-align: middle;\n",
       "    }\n",
       "\n",
       "    .dataframe tbody tr th {\n",
       "        vertical-align: top;\n",
       "    }\n",
       "\n",
       "    .dataframe thead th {\n",
       "        text-align: right;\n",
       "    }\n",
       "</style>\n",
       "<table border=\"1\" class=\"dataframe\">\n",
       "  <thead>\n",
       "    <tr style=\"text-align: right;\">\n",
       "      <th></th>\n",
       "      <th>txn_id</th>\n",
       "      <th>type</th>\n",
       "      <th>client_id</th>\n",
       "      <th>trade_date</th>\n",
       "      <th>settlement_date</th>\n",
       "      <th>quantity</th>\n",
       "      <th>price</th>\n",
       "      <th>total_consideration</th>\n",
       "      <th>currency</th>\n",
       "      <th>portfolio</th>\n",
       "    </tr>\n",
       "  </thead>\n",
       "  <tbody>\n",
       "    <tr>\n",
       "      <th>0</th>\n",
       "      <td>txn001</td>\n",
       "      <td>StockIn</td>\n",
       "      <td>REPO_EXAMPLE_A</td>\n",
       "      <td>2020-01-01T00:00:00Z</td>\n",
       "      <td>2020-01-03T00:00:00Z</td>\n",
       "      <td>75</td>\n",
       "      <td>200</td>\n",
       "      <td>15,000.00</td>\n",
       "      <td>USD</td>\n",
       "      <td>repoExamplePortfolio</td>\n",
       "    </tr>\n",
       "    <tr>\n",
       "      <th>1</th>\n",
       "      <td>txn002</td>\n",
       "      <td>StockIn</td>\n",
       "      <td>REPO_EXAMPLE_B</td>\n",
       "      <td>2020-01-01T00:00:00Z</td>\n",
       "      <td>2020-01-03T00:00:00Z</td>\n",
       "      <td>100</td>\n",
       "      <td>220</td>\n",
       "      <td>22,000.00</td>\n",
       "      <td>USD</td>\n",
       "      <td>repoExamplePortfolio</td>\n",
       "    </tr>\n",
       "  </tbody>\n",
       "</table>\n",
       "</div>"
      ],
      "text/plain": [
       "   txn_id     type       client_id            trade_date  \\\n",
       "0  txn001  StockIn  REPO_EXAMPLE_A  2020-01-01T00:00:00Z   \n",
       "1  txn002  StockIn  REPO_EXAMPLE_B  2020-01-01T00:00:00Z   \n",
       "\n",
       "        settlement_date  quantity  price total_consideration currency  \\\n",
       "0  2020-01-03T00:00:00Z        75    200           15,000.00      USD   \n",
       "1  2020-01-03T00:00:00Z       100    220           22,000.00      USD   \n",
       "\n",
       "              portfolio  \n",
       "0  repoExamplePortfolio  \n",
       "1  repoExamplePortfolio  "
      ]
     },
     "execution_count": 10,
     "metadata": {},
     "output_type": "execute_result"
    }
   ],
   "source": [
    "transactions_df = pd.read_csv(\"repo_transactions.csv\")\n",
    "transactions_df.head()"
   ]
  },
  {
   "cell_type": "code",
   "execution_count": 11,
   "id": "bfc06bad",
   "metadata": {},
   "outputs": [
    {
     "name": "stdout",
     "output_type": "stream",
     "text": [
      "Transactions succesfully updated at time: 2023-04-18 10:11:29.040128+00:00\n"
     ]
    }
   ],
   "source": [
    "for portfolio_code, grouped_df in transactions_df.groupby(\"portfolio\"):\n",
    "\n",
    "    transaction_request = [\n",
    "        lm.TransactionRequest(\n",
    "            transaction_id=row[\"txn_id\"],\n",
    "            type=row[\"type\"],\n",
    "            instrument_identifiers={\n",
    "                \"Instrument/default/ClientInternal\": row[\"client_id\"]\n",
    "            },\n",
    "            transaction_date=to_date(row[\"trade_date\"]).isoformat(),\n",
    "            settlement_date=to_date(row[\"settlement_date\"]).isoformat(),\n",
    "            units=row[\"quantity\"],\n",
    "            transaction_price=lm.TransactionPrice(price=row[\"price\"], type=\"Price\"),\n",
    "            total_consideration=lm.CurrencyAndAmount(\n",
    "                amount=row[\"total_consideration\"], currency=row[\"currency\"]\n",
    "            ),\n",
    "        )\n",
    "        for index, row in grouped_df.iterrows()\n",
    "    ]\n",
    "\n",
    "    response = transaction_portfolios_api.upsert_transactions(\n",
    "        scope=scope, code=portfolio_code, transaction_request=transaction_request\n",
    "    )\n",
    "\n",
    "    print(f\"Transactions succesfully updated at time: {response.version.as_at_date}\")"
   ]
  },
  {
   "cell_type": "markdown",
   "id": "f40e9830",
   "metadata": {},
   "source": [
    "## Updating the Principal and the Repo Rate\n",
    "\n",
    "Now that the repos are loaded into the portfolio, we will update the repo rate of Repo A and reduce the principal of the collateral bond in Repo B."
   ]
  },
  {
   "cell_type": "code",
   "execution_count": 13,
   "id": "d4723270",
   "metadata": {},
   "outputs": [
    {
     "name": "stdout",
     "output_type": "stream",
     "text": [
      "{'asset_class': 'InterestRates',\n",
      " 'dom_ccy': 'USD',\n",
      " 'href': 'https://fbn-ryan-g.lusid.com/api/api/instruments/LusidInstrumentId/LUID_00003JLC?scope=default',\n",
      " 'identifiers': {'ClientInternal': 'REPO_EXAMPLE_A',\n",
      "                 'LusidInstrumentId': 'LUID_00003JLC'},\n",
      " 'instrument_definition': {'accrual_basis': 'Actual360',\n",
      "                           'collateral': [],\n",
      "                           'collateral_value': None,\n",
      "                           'dom_ccy': 'USD',\n",
      "                           'haircut': None,\n",
      "                           'instrument_type': 'Repo',\n",
      "                           'margin': None,\n",
      "                           'maturity_date': datetime.datetime(2030, 1, 1, 0, 0, tzinfo=tzlocal()),\n",
      "                           'purchase_price': 2000.0,\n",
      "                           'repo_rate': 1.03,\n",
      "                           'repurchase_price': None,\n",
      "                           'start_date': datetime.datetime(2020, 1, 1, 0, 0, tzinfo=tzlocal())},\n",
      " 'links': None,\n",
      " 'lookthrough_portfolio': None,\n",
      " 'lusid_instrument_id': 'LUID_00003JLC',\n",
      " 'name': 'Repo Example Instrument A',\n",
      " 'properties': [],\n",
      " 'relationships': [],\n",
      " 'scope': 'default',\n",
      " 'state': 'Active',\n",
      " 'version': {'as_at_created': None,\n",
      "             'as_at_date': datetime.datetime(2023, 4, 18, 10, 26, 52, 130117, tzinfo=tzlocal()),\n",
      "             'as_at_modified': None,\n",
      "             'as_at_version_number': None,\n",
      "             'effective_from': datetime.datetime(1, 1, 1, 0, 0, tzinfo=tzlocal()),\n",
      "             'user_id_created': None,\n",
      "             'user_id_modified': None}}\n"
     ]
    }
   ],
   "source": [
    "# how does this work\n",
    "\n",
    "updated_repo_a = create_repo_instrument(\n",
    "    \"Repo Example Instrument A\",\n",
    "    \"REPO_EXAMPLE_A\",\n",
    "    datetime(2020, 1, 1, 00, tzinfo=pytz.utc),\n",
    "    datetime(2030, 1, 1, 00, tzinfo=pytz.utc),\n",
    "    \"USD\",\n",
    "    \"Actual360\",\n",
    "    2000.00,\n",
    "    1.03,\n",
    "    []\n",
    ")"
   ]
  }
 ],
 "metadata": {
  "kernelspec": {
   "display_name": "Python 3 (ipykernel)",
   "language": "python",
   "name": "python3"
  },
  "language_info": {
   "codemirror_mode": {
    "name": "ipython",
    "version": 3
   },
   "file_extension": ".py",
   "mimetype": "text/x-python",
   "name": "python",
   "nbconvert_exporter": "python",
   "pygments_lexer": "ipython3",
   "version": "3.9.7"
  },
  "toc": {
   "base_numbering": 1,
   "nav_menu": {},
   "number_sections": false,
   "sideBar": true,
   "skip_h1_title": false,
   "title_cell": "Table of Contents",
   "title_sidebar": "Contents",
   "toc_cell": false,
   "toc_position": {},
   "toc_section_display": true,
   "toc_window_display": false
  },
  "varInspector": {
   "cols": {
    "lenName": 16,
    "lenType": 16,
    "lenVar": 40
   },
   "kernels_config": {
    "python": {
     "delete_cmd_postfix": "",
     "delete_cmd_prefix": "del ",
     "library": "var_list.py",
     "varRefreshCmd": "print(var_dic_list())"
    },
    "r": {
     "delete_cmd_postfix": ") ",
     "delete_cmd_prefix": "rm(",
     "library": "var_list.r",
     "varRefreshCmd": "cat(var_dic_list()) "
    }
   },
   "types_to_exclude": [
    "module",
    "function",
    "builtin_function_or_method",
    "instance",
    "_Feature"
   ],
   "window_display": false
  }
 },
 "nbformat": 4,
 "nbformat_minor": 5
}
