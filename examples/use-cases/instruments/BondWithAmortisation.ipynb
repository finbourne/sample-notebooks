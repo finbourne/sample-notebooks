{
 "cells": [
  {
   "cell_type": "code",
   "execution_count": 1,
   "metadata": {},
   "outputs": [
    {
     "data": {
      "text/html": [
       "\n",
       "    <form action=\"javascript:code_toggle()\"><input type=\"submit\" id=\"toggleButton\" value=\"Toggle Docstring\"></form>\n",
       "    \n",
       "         <script>\n",
       "         function code_toggle() {\n",
       "             if ($('div.cell.code_cell.rendered.selected div.input').css('display')!='none'){\n",
       "                 $('div.cell.code_cell.rendered.selected div.input').hide();\n",
       "             } else {\n",
       "                 $('div.cell.code_cell.rendered.selected div.input').show();\n",
       "             }\n",
       "         }\n",
       "         </script>\n",
       "\n",
       "     "
      ],
      "text/plain": [
       "<IPython.core.display.HTML object>"
      ]
     },
     "metadata": {},
     "output_type": "display_data"
    }
   ],
   "source": [
    "from lusidtools.jupyter_tools import toggle_code\n",
    "\n",
    "\"\"\"Bonds - Amortisation\n",
    "\n",
    "Attributes\n",
    "----------\n",
    "bond\n",
    "amortisation\n",
    "amortization\n",
    "a2b\n",
    "P&L\n",
    "\"\"\"\n",
    "\n",
    "toggle_code(\"Toggle Docstring\")"
   ]
  },
  {
   "cell_type": "markdown",
   "metadata": {},
   "source": [
    "# Bond Amoritsation\n",
    "\n",
    "In this notebook, we demonstrate how when a bond is purchased at a discount or a premium we can calculated the amortisation associated with the position. \n",
    "\n",
    "## Table of Contents:\n",
    "- 1. [Create portfolios](#1.-Create-Portfolios)\n",
    "- 2. [Creating Bonds](#2.-Create-Bonds)\n",
    "- 3. [Purchase with Discount/Premium](#3.-Buy-With-Discount/Premium)\n",
    "- 4. [Valuation](#4.-Valuation)\n",
    "- 5. [A2B](#5.-A2B)"
   ]
  },
  {
   "cell_type": "code",
   "execution_count": 2,
   "metadata": {},
   "outputs": [
    {
     "name": "stdout",
     "output_type": "stream",
     "text": [
      "LUSID Environment Initialised\n",
      "LUSID API Version : 0.6.11526.0\n"
     ]
    }
   ],
   "source": [
    "# Import generic non-LUSID packages\n",
    "import os\n",
    "import pandas as pd\n",
    "import numpy as np\n",
    "import matplotlib.pyplot as plt\n",
    "import numpy as np\n",
    "from datetime import datetime, timedelta\n",
    "import json\n",
    "import pytz\n",
    "import time\n",
    "from IPython.core.display import HTML\n",
    "from utilities.formatting_tools import cashladder_to_df\n",
    "\n",
    "# Import key modules from the LUSID package\n",
    "import lusid as lu\n",
    "import lusid.models as lm\n",
    "\n",
    "# Import key functions from Lusid-Python-Tools and other packages\n",
    "from lusidtools.pandas_utils.lusid_pandas import lusid_response_to_data_frame\n",
    "from lusidtools.cocoon.transaction_type_upload import upsert_transaction_type_alias\n",
    "from lusidtools.cocoon import load_from_data_frame\n",
    "from lusidtools.lpt.lpt import to_date\n",
    "from lusidjam import RefreshingToken\n",
    "\n",
    "# Set the secrets path\n",
    "secrets_path = os.getenv(\"FBN_SECRETS_PATH\")\n",
    "\n",
    "# For running the notebook locally\n",
    "if secrets_path is None:\n",
    "    secrets_path = os.path.join(os.path.dirname(os.getcwd()), \"secrets.json\")\n",
    "\n",
    "# Authenticate our user and create our API client\n",
    "api_factory = lu.utilities.ApiClientFactory(\n",
    "    token=RefreshingToken(), api_secrets_filename=secrets_path\n",
    ")\n",
    "\n",
    "print(\"LUSID Environment Initialised\")\n",
    "print(\n",
    "    \"LUSID API Version :\",\n",
    "    api_factory.build(lu.api.ApplicationMetadataApi).get_lusid_versions().build_version,\n",
    ")"
   ]
  },
  {
   "cell_type": "code",
   "execution_count": 3,
   "metadata": {},
   "outputs": [],
   "source": [
    "# LUSID Variable Definitions\n",
    "portfolio_api = api_factory.build(lu.api.PortfoliosApi)\n",
    "transaction_portfolios_api = api_factory.build(lu.api.TransactionPortfoliosApi)\n",
    "instruments_api = api_factory.build(lu.api.InstrumentsApi)\n",
    "configuration_recipe_api = api_factory.build(lu.api.ConfigurationRecipeApi)\n",
    "aggregration_api = api_factory.build(lu.api.AggregationApi)"
   ]
  },
  {
   "cell_type": "code",
   "execution_count": 4,
   "metadata": {},
   "outputs": [],
   "source": [
    "# Define scopes\n",
    "scope = \"ibor\""
   ]
  },
  {
   "cell_type": "markdown",
   "metadata": {},
   "source": [
    "# 1. Create Portfolios\n",
    "\n",
    "We must first create a portfolio to keep our bonds in. We will create two Portfolios with different amortisation methods of:\n",
    "\n",
    "- Straight Line\n",
    "- Effective Yield"
   ]
  },
  {
   "cell_type": "code",
   "execution_count": 5,
   "metadata": {},
   "outputs": [],
   "source": [
    "portfolio_code_straightline = \"BondPortfolioForAmortisationUsingStraightLine\"\n",
    "\n",
    "try:\n",
    "    transaction_portfolios_api.create_portfolio(\n",
    "        scope=scope,\n",
    "        create_transaction_portfolio_request=lm.CreateTransactionPortfolioRequest(\n",
    "            display_name=portfolio_code_straightline,\n",
    "            code=portfolio_code_straightline,\n",
    "            base_currency=\"USD\",\n",
    "            created=\"2010-01-01\",\n",
    "            amortisation_method=\"StraightLine\"\n",
    "        ),\n",
    "    )\n",
    "\n",
    "except lu.ApiException as e:\n",
    "    print(json.loads(e.body)[\"title\"])"
   ]
  },
  {
   "cell_type": "code",
   "execution_count": 6,
   "metadata": {},
   "outputs": [],
   "source": [
    "portfolio_code_effectiveyield = \"BondPortfolioForAmortisationUsingEffectiveYield\"\n",
    "\n",
    "try:\n",
    "    transaction_portfolios_api.create_portfolio(\n",
    "        scope=scope,\n",
    "        create_transaction_portfolio_request=lm.CreateTransactionPortfolioRequest(\n",
    "            display_name=portfolio_code_effectiveyield,\n",
    "            code=portfolio_code_effectiveyield,\n",
    "            base_currency=\"USD\",\n",
    "            created=\"2010-01-01\",\n",
    "            amortisation_method=\"EffectiveYield\"\n",
    "        ),\n",
    "    )\n",
    "\n",
    "except lu.ApiException as e:\n",
    "    print(json.loads(e.body)[\"title\"])"
   ]
  },
  {
   "cell_type": "markdown",
   "metadata": {},
   "source": [
    "# 2. Create Bonds\n",
    "\n",
    "We create a function that takes in our bond variables and upserts a bond into LUSID."
   ]
  },
  {
   "cell_type": "code",
   "execution_count": 7,
   "metadata": {},
   "outputs": [],
   "source": [
    "def create_bond(\n",
    "    bond_identifier,\n",
    "    bond_name,\n",
    "    coupon_rate,\n",
    "    start_date,\n",
    "    maturity_date,\n",
    "    currency=\"USD\",\n",
    "    payment_frequency=\"6M\",\n",
    "    roll_convention=\"none\",\n",
    "    day_count_convention=\"ActualActual\",\n",
    "    payment_calendars=[],\n",
    "    reset_calendars=[],\n",
    "    settle_days=0,\n",
    "    reset_days=0,\n",
    "    dom_ccy=\"USD\",\n",
    "    principal=100\n",
    "):\n",
    "\n",
    "    flow_conventions = lm.FlowConventions(\n",
    "        currency=currency,\n",
    "        payment_frequency=payment_frequency,\n",
    "        roll_convention=roll_convention,\n",
    "        day_count_convention=day_count_convention,\n",
    "        payment_calendars=payment_calendars,\n",
    "        reset_calendars=reset_calendars,\n",
    "        settle_days=settle_days,\n",
    "        reset_days=reset_days,\n",
    "    )\n",
    "\n",
    "    bond = lm.Bond(\n",
    "        start_date=start_date,\n",
    "        maturity_date=maturity_date,\n",
    "        dom_ccy=dom_ccy,\n",
    "        principal=principal,\n",
    "        coupon_rate=coupon_rate,\n",
    "        flow_conventions=flow_conventions,\n",
    "        identifiers={},\n",
    "        instrument_type=\"Bond\",\n",
    "        calculation_type=\"Standard\",\n",
    "    )\n",
    "\n",
    "    # define the instrument to be upserted\n",
    "    bond_definition = lm.InstrumentDefinition(\n",
    "        name=bond_name,\n",
    "        identifiers={\"ClientInternal\": lm.InstrumentIdValue(bond_identifier)},\n",
    "        definition=bond,\n",
    "    )\n",
    "\n",
    "    # upsert the instrument\n",
    "    upsert_request = {bond_identifier: bond_definition}\n",
    "    upsert_response = instruments_api.upsert_instruments(request_body=upsert_request)\n",
    "    if len(upsert_response.values) == 1:\n",
    "        return upsert_response\n",
    "    raise ApiException(f\"There were failures in upserting bonds due to {upsert_response.failed}\")"
   ]
  },
  {
   "cell_type": "markdown",
   "metadata": {},
   "source": [
    "# 2.1 Upsert bonds\n",
    "\n",
    "We can now set the variables of the bond and upsert it into LUSID using the function we built in the cell above. We are creating 3 bonds with different coupon rates but all with the same maturiy date."
   ]
  },
  {
   "cell_type": "code",
   "execution_count": 8,
   "metadata": {},
   "outputs": [],
   "source": [
    "bond_1 = create_bond(\n",
    "    bond_identifier=\"T_5_31/12/25\",\n",
    "    bond_name=\"T 5% 31/12/25\",\n",
    "    coupon_rate=0.05,\n",
    "    start_date=datetime(2019, 1, 1, 0, tzinfo=pytz.utc),\n",
    "    maturity_date=datetime(2025, 12, 31, 0, tzinfo=pytz.utc)\n",
    ")\n",
    "\n",
    "bond_2 = create_bond(\n",
    "    bond_identifier=\"T_10_31/12/25\",\n",
    "    bond_name=\"T 10% 31/12/25\",\n",
    "    coupon_rate=0.10,\n",
    "    start_date=datetime(2019, 1, 1, 0, tzinfo=pytz.utc),\n",
    "    maturity_date=datetime(2025, 12, 31, 0, tzinfo=pytz.utc)\n",
    ")\n",
    "\n",
    "bond_3 = create_bond(\n",
    "    bond_identifier=\"T_2_31/12/25\",\n",
    "    bond_name=\"T 2% 31/12/25\",\n",
    "    coupon_rate=0.02,\n",
    "    start_date=datetime(2019, 1, 1, 0, tzinfo=pytz.utc),\n",
    "    maturity_date=datetime(2025, 12, 31, 0, tzinfo=pytz.utc)\n",
    ")"
   ]
  },
  {
   "cell_type": "markdown",
   "metadata": {},
   "source": [
    "# 3. Buy With Discount/Premium"
   ]
  },
  {
   "cell_type": "markdown",
   "metadata": {},
   "source": [
    "## 3.1 Create Transaction Request\n",
    "\n",
    "Now that the bonds have been created, we can generate a transaction that adds them to our straight line and effective yield portfolios. We will purchase:\n",
    "\n",
    "- One at a premium\n",
    "- One at a discount\n",
    "- One at par value"
   ]
  },
  {
   "cell_type": "code",
   "execution_count": 9,
   "metadata": {},
   "outputs": [
    {
     "data": {
      "text/html": [
       "<div>\n",
       "<style scoped>\n",
       "    .dataframe tbody tr th:only-of-type {\n",
       "        vertical-align: middle;\n",
       "    }\n",
       "\n",
       "    .dataframe tbody tr th {\n",
       "        vertical-align: top;\n",
       "    }\n",
       "\n",
       "    .dataframe thead th {\n",
       "        text-align: right;\n",
       "    }\n",
       "</style>\n",
       "<table border=\"1\" class=\"dataframe\">\n",
       "  <thead>\n",
       "    <tr style=\"text-align: right;\">\n",
       "      <th></th>\n",
       "      <th>txn_id</th>\n",
       "      <th>bond_id</th>\n",
       "      <th>type</th>\n",
       "      <th>transaction_date</th>\n",
       "      <th>settlement_date</th>\n",
       "      <th>quantity</th>\n",
       "      <th>price</th>\n",
       "      <th>total_consideration</th>\n",
       "      <th>currency</th>\n",
       "      <th>portfolio</th>\n",
       "    </tr>\n",
       "  </thead>\n",
       "  <tbody>\n",
       "    <tr>\n",
       "      <th>0</th>\n",
       "      <td>Premium</td>\n",
       "      <td>T_10_31/12/25</td>\n",
       "      <td>Buy</td>\n",
       "      <td>2022-01-01</td>\n",
       "      <td>2022-01-01</td>\n",
       "      <td>500000</td>\n",
       "      <td>120</td>\n",
       "      <td>60000000</td>\n",
       "      <td>USD</td>\n",
       "      <td>BondPortfolioForAmortisationUsingStraightLine</td>\n",
       "    </tr>\n",
       "    <tr>\n",
       "      <th>1</th>\n",
       "      <td>Discount</td>\n",
       "      <td>T_5_31/12/25</td>\n",
       "      <td>Buy</td>\n",
       "      <td>2022-01-01</td>\n",
       "      <td>2022-01-01</td>\n",
       "      <td>500000</td>\n",
       "      <td>85</td>\n",
       "      <td>42500000</td>\n",
       "      <td>USD</td>\n",
       "      <td>BondPortfolioForAmortisationUsingStraightLine</td>\n",
       "    </tr>\n",
       "    <tr>\n",
       "      <th>2</th>\n",
       "      <td>Par</td>\n",
       "      <td>T_2_31/12/25</td>\n",
       "      <td>Buy</td>\n",
       "      <td>2022-01-01</td>\n",
       "      <td>2022-01-01</td>\n",
       "      <td>500000</td>\n",
       "      <td>100</td>\n",
       "      <td>50000000</td>\n",
       "      <td>USD</td>\n",
       "      <td>BondPortfolioForAmortisationUsingStraightLine</td>\n",
       "    </tr>\n",
       "    <tr>\n",
       "      <th>3</th>\n",
       "      <td>Premium</td>\n",
       "      <td>T_10_31/12/25</td>\n",
       "      <td>Buy</td>\n",
       "      <td>2022-01-01</td>\n",
       "      <td>2022-01-01</td>\n",
       "      <td>500000</td>\n",
       "      <td>120</td>\n",
       "      <td>60000000</td>\n",
       "      <td>USD</td>\n",
       "      <td>BondPortfolioForAmortisationUsingEffectiveYield</td>\n",
       "    </tr>\n",
       "    <tr>\n",
       "      <th>4</th>\n",
       "      <td>Discount</td>\n",
       "      <td>T_5_31/12/25</td>\n",
       "      <td>Buy</td>\n",
       "      <td>2022-01-01</td>\n",
       "      <td>2022-01-01</td>\n",
       "      <td>500000</td>\n",
       "      <td>85</td>\n",
       "      <td>42500000</td>\n",
       "      <td>USD</td>\n",
       "      <td>BondPortfolioForAmortisationUsingEffectiveYield</td>\n",
       "    </tr>\n",
       "    <tr>\n",
       "      <th>5</th>\n",
       "      <td>Par</td>\n",
       "      <td>T_2_31/12/25</td>\n",
       "      <td>Buy</td>\n",
       "      <td>2022-01-01</td>\n",
       "      <td>2022-01-01</td>\n",
       "      <td>500000</td>\n",
       "      <td>100</td>\n",
       "      <td>50000000</td>\n",
       "      <td>USD</td>\n",
       "      <td>BondPortfolioForAmortisationUsingEffectiveYield</td>\n",
       "    </tr>\n",
       "  </tbody>\n",
       "</table>\n",
       "</div>"
      ],
      "text/plain": [
       "     txn_id        bond_id type transaction_date settlement_date  quantity  \\\n",
       "0   Premium  T_10_31/12/25  Buy       2022-01-01      2022-01-01    500000   \n",
       "1  Discount   T_5_31/12/25  Buy       2022-01-01      2022-01-01    500000   \n",
       "2       Par   T_2_31/12/25  Buy       2022-01-01      2022-01-01    500000   \n",
       "3   Premium  T_10_31/12/25  Buy       2022-01-01      2022-01-01    500000   \n",
       "4  Discount   T_5_31/12/25  Buy       2022-01-01      2022-01-01    500000   \n",
       "5       Par   T_2_31/12/25  Buy       2022-01-01      2022-01-01    500000   \n",
       "\n",
       "   price  total_consideration currency  \\\n",
       "0    120             60000000      USD   \n",
       "1     85             42500000      USD   \n",
       "2    100             50000000      USD   \n",
       "3    120             60000000      USD   \n",
       "4     85             42500000      USD   \n",
       "5    100             50000000      USD   \n",
       "\n",
       "                                         portfolio  \n",
       "0    BondPortfolioForAmortisationUsingStraightLine  \n",
       "1    BondPortfolioForAmortisationUsingStraightLine  \n",
       "2    BondPortfolioForAmortisationUsingStraightLine  \n",
       "3  BondPortfolioForAmortisationUsingEffectiveYield  \n",
       "4  BondPortfolioForAmortisationUsingEffectiveYield  \n",
       "5  BondPortfolioForAmortisationUsingEffectiveYield  "
      ]
     },
     "execution_count": 9,
     "metadata": {},
     "output_type": "execute_result"
    }
   ],
   "source": [
    "transactions = pd.DataFrame({\n",
    "    \"txn_id\": [\"Premium\", \"Discount\", \"Par\"] * 2,\n",
    "    \"bond_id\": [\"T_10_31/12/25\", \"T_5_31/12/25\", \"T_2_31/12/25\"] * 2,\n",
    "    \"type\": \"Buy\",\n",
    "    \"transaction_date\": \"2022-01-01\",\n",
    "    \"settlement_date\": \"2022-01-01\",\n",
    "    \"quantity\": 500000,\n",
    "    \"price\": [120, 85, 100] * 2,\n",
    "    \"total_consideration\": [500000*120, 500000*85, 500000*100] * 2,\n",
    "    \"currency\": \"USD\",\n",
    "    \"portfolio\": [portfolio_code_straightline] * 3 + [portfolio_code_effectiveyield] * 3\n",
    "})\n",
    "\n",
    "transactions"
   ]
  },
  {
   "cell_type": "code",
   "execution_count": 10,
   "metadata": {},
   "outputs": [
    {
     "name": "stdout",
     "output_type": "stream",
     "text": [
      "[{'href': 'https://demo.lusid.com/api/api/transactionportfolios/ibor/BondPortfolioForAmortisationUsingStraightLine/transactions?asAt=2023-06-27T06%3A26%3A08.7955540%2B00%3A00',\n",
      " 'links': [{'description': None,\n",
      "            'href': 'https://demo.lusid.com/api/api/portfolios/ibor/BondPortfolioForAmortisationUsingStraightLine?effectiveAt=2022-01-01T00%3A00%3A00.0000000%2B00%3A00&asAt=2023-06-27T06%3A26%3A08.7955540%2B00%3A00',\n",
      "            'method': 'GET',\n",
      "            'relation': 'Root'},\n",
      "           {'description': None,\n",
      "            'href': 'https://demo.lusid.com/api/api/schemas/entities/UpsertPortfolioTransactionsResponse',\n",
      "            'method': 'GET',\n",
      "            'relation': 'EntitySchema'},\n",
      "           {'description': 'A link to the LUSID Insights website showing all '\n",
      "                           'logs related to this request',\n",
      "            'href': 'http://demo.lusid.com/app/insights/logs/0HMRMID8IBRRV:0000000E',\n",
      "            'method': 'GET',\n",
      "            'relation': 'RequestLogs'}],\n",
      " 'metadata': {},\n",
      " 'version': {'as_at_created': None,\n",
      "             'as_at_date': datetime.datetime(2023, 6, 27, 6, 26, 8, 795554, tzinfo=tzlocal()),\n",
      "             'as_at_modified': None,\n",
      "             'as_at_version_number': None,\n",
      "             'effective_from': datetime.datetime(2022, 1, 1, 0, 0, tzinfo=tzlocal()),\n",
      "             'user_id_created': None,\n",
      "             'user_id_modified': None}}, {'href': 'https://demo.lusid.com/api/api/transactionportfolios/ibor/BondPortfolioForAmortisationUsingEffectiveYield/transactions?asAt=2023-06-27T06%3A26%3A08.7623900%2B00%3A00',\n",
      " 'links': [{'description': None,\n",
      "            'href': 'https://demo.lusid.com/api/api/portfolios/ibor/BondPortfolioForAmortisationUsingEffectiveYield?effectiveAt=2022-01-01T00%3A00%3A00.0000000%2B00%3A00&asAt=2023-06-27T06%3A26%3A08.7623900%2B00%3A00',\n",
      "            'method': 'GET',\n",
      "            'relation': 'Root'},\n",
      "           {'description': None,\n",
      "            'href': 'https://demo.lusid.com/api/api/schemas/entities/UpsertPortfolioTransactionsResponse',\n",
      "            'method': 'GET',\n",
      "            'relation': 'EntitySchema'},\n",
      "           {'description': 'A link to the LUSID Insights website showing all '\n",
      "                           'logs related to this request',\n",
      "            'href': 'http://demo.lusid.com/app/insights/logs/0HMRMICNPTO79:000000A6',\n",
      "            'method': 'GET',\n",
      "            'relation': 'RequestLogs'}],\n",
      " 'metadata': {},\n",
      " 'version': {'as_at_created': None,\n",
      "             'as_at_date': datetime.datetime(2023, 6, 27, 6, 26, 8, 762390, tzinfo=tzlocal()),\n",
      "             'as_at_modified': None,\n",
      "             'as_at_version_number': None,\n",
      "             'effective_from': datetime.datetime(2022, 1, 1, 0, 0, tzinfo=tzlocal()),\n",
      "             'user_id_created': None,\n",
      "             'user_id_modified': None}}]\n"
     ]
    }
   ],
   "source": [
    "response = load_from_data_frame(\n",
    "    api_factory=api_factory,\n",
    "    scope=scope,\n",
    "    data_frame=transactions,\n",
    "    mapping_required={\n",
    "        \"code\": \"portfolio\",\n",
    "        \"transaction_id\": \"txn_id\",\n",
    "        \"type\": \"type\",\n",
    "        \"transaction_date\": \"transaction_date\",\n",
    "        \"settlement_date\": \"settlement_date\",\n",
    "        \"units\": \"quantity\",\n",
    "        \"total_consideration.amount\": \"total_consideration\",\n",
    "        \"total_consideration.currency\": \"currency\"\n",
    "    },\n",
    "    mapping_optional={\n",
    "        \"transaction_price.price\": \"price\",\n",
    "        \"transaction_price.type\": \"$Price\",\n",
    "        \"transaction_currency\": \"currency\"\n",
    "    },\n",
    "    file_type=\"transactions\",\n",
    "    identifier_mapping={\n",
    "        \"ClientInternal\": \"bond_id\"\n",
    "    }\n",
    ")\n",
    "\n",
    "if len(response[\"transactions\"][\"errors\"]) > 0:\n",
    "    raise ApiException(\"Transactions failed to load\")\n",
    "    \n",
    "print(response[\"transactions\"][\"success\"])"
   ]
  },
  {
   "cell_type": "markdown",
   "metadata": {},
   "source": [
    "# 4. Valuation\n",
    "\n",
    "Now that the bonds have been booked into our portfolios, we can produce the amortisation over time. The recipe below describes how we will go about valuing the credit instruments in our portfolio (in this case just our bond). We are going to make a simplifying assumption that the value of money over time is constant in order to value or bonds using their future cash flows without any discounting."
   ]
  },
  {
   "cell_type": "markdown",
   "metadata": {},
   "source": [
    "## 4.1 Create valuation recipe"
   ]
  },
  {
   "cell_type": "code",
   "execution_count": 11,
   "metadata": {
    "code_folding": []
   },
   "outputs": [],
   "source": [
    "# Create a recipe to perform a valuation\n",
    "configuration_recipe = lm.ConfigurationRecipe(\n",
    "    scope=scope,\n",
    "    code=\"bondValuationUsingConstantTimeValueOfMoney\",\n",
    "    market=lm.MarketContext(\n",
    "        options=lm.MarketOptions(\n",
    "            default_supplier=\"Lusid\",\n",
    "            default_instrument_code_type=\"ClientInternal\",\n",
    "            default_scope=scope,\n",
    "        ),\n",
    "    ),\n",
    "    pricing=lm.PricingContext(\n",
    "        model_rules=[\n",
    "            lm.VendorModelRule(\n",
    "                supplier=\"Lusid\",\n",
    "                model_name=\"ConstantTimeValueOfMoney\",\n",
    "                instrument_type=\"Bond\",\n",
    "                parameters=\"{}\",\n",
    "            )\n",
    "        ]\n",
    "    )\n",
    ")\n",
    "\n",
    "upsert_configuration_recipe_response = (\n",
    "    configuration_recipe_api.upsert_configuration_recipe(\n",
    "        upsert_recipe_request=lm.UpsertRecipeRequest(\n",
    "            configuration_recipe=configuration_recipe\n",
    "        )\n",
    "    )\n",
    ")"
   ]
  },
  {
   "cell_type": "code",
   "execution_count": 12,
   "metadata": {},
   "outputs": [
    {
     "data": {
      "text/plain": [
       "{'href': None,\n",
       " 'links': [{'description': 'A link to the LUSID Insights website showing all '\n",
       "                           'logs related to this request',\n",
       "            'href': 'http://demo.lusid.com/app/insights/logs/0HMRMICM13746:0000007A',\n",
       "            'method': 'GET',\n",
       "            'relation': 'RequestLogs'}],\n",
       " 'value': datetime.datetime(2023, 6, 27, 6, 26, 8, 994355, tzinfo=tzlocal())}"
      ]
     },
     "execution_count": 12,
     "metadata": {},
     "output_type": "execute_result"
    }
   ],
   "source": [
    "upsert_configuration_recipe_response"
   ]
  },
  {
   "cell_type": "markdown",
   "metadata": {},
   "source": [
    "## 4.2 Create daily valuation function\n",
    "\n",
    "Now that we have produced a recipe, we can now create a function that outputs a dataframe with the valuation of our portfolio with the amortisation values."
   ]
  },
  {
   "cell_type": "code",
   "execution_count": 13,
   "metadata": {},
   "outputs": [],
   "source": [
    "def get_amoritsation(portfolio_code):\n",
    "    \n",
    "    aggregationMetrics={\n",
    "        \"Instrument/default/Name\":\n",
    "        {\n",
    "            \"operation\": \"Value\",\n",
    "            \"display\": \"InstrumentName\",\n",
    "            \"groupby\": True\n",
    "        },\n",
    "        \"Instrument/default/ClientInternal\":\n",
    "        {\n",
    "            \"operation\": \"Value\",\n",
    "            \"display\": \"ClientInternalId\",\n",
    "            \"groupby\": False\n",
    "        },\n",
    "        \"Holding/TaxLotId\":\n",
    "        {\n",
    "            \"operation\": \"Value\",\n",
    "            \"display\": \"TaxLotId\",\n",
    "            \"groupby\": True\n",
    "        },\n",
    "        \"Holding/Amortisation\":\n",
    "        {\n",
    "            \"operation\": \"Value\",\n",
    "            \"display\": \"TotalAmortisation\",\n",
    "            \"groupby\": False\n",
    "        },\n",
    "        \"Analytic/default/ValuationDate\":\n",
    "        {\n",
    "            \"operation\": \"Value\",\n",
    "            \"display\": \"Date\",\n",
    "            \"groupby\": True\n",
    "        },\n",
    "    }\n",
    "    \n",
    "    valuation_request = lm.ValuationRequest(\n",
    "        recipe_id=lm.ResourceId(scope=scope, code=\"bondValuationUsingConstantTimeValueOfMoney\"),\n",
    "        metrics=[\n",
    "            lm.AggregateSpec(metric, d['operation'])\n",
    "            for metric,d in aggregationMetrics.items()\n",
    "        ],\n",
    "        group_by=[metric for metric,d in aggregationMetrics.items() if d['groupby']],\n",
    "        portfolio_entity_ids=[lm.PortfolioEntityId(scope=scope, \n",
    "                                                             code=portfolio_code,\n",
    "                                                            portfolio_entity_type = \"SinglePortfolio\" )],\n",
    "        valuation_schedule=lm.ValuationSchedule(\n",
    "            effective_at=datetime(2022, 1, 1, 0, tzinfo=pytz.utc).isoformat(), \n",
    "            valuation_date_times=[(datetime(2022, 1, 1, 0, tzinfo=pytz.utc)+timedelta(days=i)).isoformat() \n",
    "                                  for i in range((datetime(2025, 12, 31, 0, tzinfo=pytz.utc)-datetime(2022, 1, 1, 0, tzinfo=pytz.utc)).days)]),\n",
    "    )\n",
    "\n",
    "    val_data = aggregration_api.get_valuation(valuation_request=valuation_request).data\n",
    "\n",
    "    vals_df = pd.DataFrame(val_data)\n",
    "\n",
    "    vals_df.rename(\n",
    "        columns={metric: d['display']\n",
    "                 for metric,d in aggregationMetrics.items()},\n",
    "        inplace=True,\n",
    "    )\n",
    "    \n",
    "    return vals_df"
   ]
  },
  {
   "cell_type": "code",
   "execution_count": 14,
   "metadata": {},
   "outputs": [],
   "source": [
    "straight_line = get_amoritsation(portfolio_code_straightline)\n",
    "effective_yield = get_amoritsation(portfolio_code_effectiveyield)"
   ]
  },
  {
   "cell_type": "code",
   "execution_count": 15,
   "metadata": {},
   "outputs": [
    {
     "data": {
      "image/png": "[encoded data removed]",
      "text/plain": [
       "<Figure size 1296x1296 with 1 Axes>"
      ]
     },
     "metadata": {
      "needs_background": "light"
     },
     "output_type": "display_data"
    }
   ],
   "source": [
    "fig, ax = plt.subplots(figsize=(18,18))\n",
    "ax.yaxis.set_major_formatter('${x:,.0f}')\n",
    "ax.yaxis.set_tick_params(which='major',\n",
    "                         labelleft=True, labelright=True)\n",
    "ax.set_title(\"Bond Amoritsation\")\n",
    "\n",
    "# red dashes, blue squares and green triangles\n",
    "plt.plot(\n",
    "    straight_line.loc[straight_line[\"ClientInternalId\"] == \"T_5_31/12/25\", \"Date\"], \n",
    "    straight_line.loc[straight_line[\"ClientInternalId\"] == \"T_5_31/12/25\", \"TotalAmortisation\"], \n",
    "    'r-', \n",
    "    label=\"Discount - Straight Line\"\n",
    ")\n",
    "\n",
    "plt.plot(\n",
    "    straight_line.loc[straight_line[\"ClientInternalId\"] == \"T_10_31/12/25\", \"Date\"], \n",
    "    straight_line.loc[straight_line[\"ClientInternalId\"] == \"T_10_31/12/25\", \"TotalAmortisation\"], \n",
    "    'r--',\n",
    "    label=\"Premium - Straight Line\"\n",
    ")\n",
    "\n",
    "plt.plot(\n",
    "    straight_line.loc[straight_line[\"ClientInternalId\"] == \"T_2_31/12/25\", \"Date\"],  \n",
    "    straight_line.loc[straight_line[\"ClientInternalId\"] == \"T_2_31/12/25\", \"TotalAmortisation\"], \n",
    "    'r:',\n",
    "    label=\"Par - Straight Line\"\n",
    ")\n",
    "\n",
    "plt.plot(\n",
    "    effective_yield.loc[straight_line[\"ClientInternalId\"] == \"T_5_31/12/25\", \"Date\"], \n",
    "    effective_yield.loc[straight_line[\"ClientInternalId\"] == \"T_5_31/12/25\", \"TotalAmortisation\"], \n",
    "    'b-',\n",
    "    label=\"Discount - Effective Yield\"\n",
    ")\n",
    "\n",
    "plt.plot(\n",
    "    effective_yield.loc[straight_line[\"ClientInternalId\"] == \"T_10_31/12/25\", \"Date\"], \n",
    "    effective_yield.loc[straight_line[\"ClientInternalId\"] == \"T_10_31/12/25\", \"TotalAmortisation\"], \n",
    "    'b--',\n",
    "    label=\"Premium - Effective Yield\"\n",
    ")\n",
    "\n",
    "plt.plot(\n",
    "    effective_yield.loc[straight_line[\"ClientInternalId\"] == \"T_2_31/12/25\", \"Date\"],  \n",
    "    effective_yield.loc[straight_line[\"ClientInternalId\"] == \"T_2_31/12/25\", \"TotalAmortisation\"], \n",
    "    'b:',\n",
    "    label=\"Par - Effective Yield\"\n",
    ")\n",
    "\n",
    "ax.legend(loc=\"upper right\", fontsize=\"x-large\")\n",
    "\n",
    "plt.show()"
   ]
  },
  {
   "cell_type": "markdown",
   "metadata": {},
   "source": [
    "# 5. A2B"
   ]
  },
  {
   "cell_type": "markdown",
   "metadata": {},
   "source": [
    "In addition to amoritsation we may also be interested in seeing how our bond accruest interest and gains value over time. We can do this via running an A2B report."
   ]
  },
  {
   "cell_type": "code",
   "execution_count": 16,
   "metadata": {
    "code_folding": []
   },
   "outputs": [],
   "source": [
    "a2b = transaction_portfolios_api.get_a2_b_movements(\n",
    "    scope=scope,\n",
    "    code=portfolio_code_straightline,\n",
    "    from_effective_at=\"2010-01-01\",\n",
    "    to_effective_at=\"2025-12-29\",\n",
    "    recipe_id_scope=scope,\n",
    "    recipe_id_code=\"bondValuationUsingConstantTimeValueOfMoney\"\n",
    ")"
   ]
  },
  {
   "cell_type": "code",
   "execution_count": 17,
   "metadata": {},
   "outputs": [],
   "source": [
    "instrument_to_trans_lookup = {\n",
    "    movement.instrument_uid: movement.transaction_id for movement in a2b.values \n",
    "    if ((movement.instrument_uid != 'CCY_USD') and (movement.transaction_id is not None))\n",
    "}\n",
    "\n",
    "data = {}\n",
    "\n",
    "for movement in a2b.values:\n",
    "    if movement.instrument_uid == 'CCY_USD':\n",
    "        continue\n",
    "    \n",
    "    if movement.transaction_id is None:\n",
    "        data[f\"{instrument_to_trans_lookup[movement.instrument_uid]}-B\"] = {\n",
    "            component_name: component_value\n",
    "            for component_name, component_value  in movement.end.holding_currency.components.items()\n",
    "        }\n",
    "        continue\n",
    "    \n",
    "    data[f\"{instrument_to_trans_lookup[movement.instrument_uid]}-A\"] = {\n",
    "        component_name: component_value\n",
    "        for component_name, component_value  in movement.flows.holding_currency.components.items()\n",
    "    }\n",
    "    \n",
    "x = []\n",
    "\n",
    "values = {\n",
    "    \"In\": [],\n",
    "    \"Cost\": [],\n",
    "    \"MarketGain\": [],\n",
    "    \"AccruedInterest\": [],\n",
    "    \"Amortisation\": []\n",
    "}\n",
    "\n",
    "for key, value in data.items():\n",
    "    x.append(key)\n",
    "    for component_name in values.keys():\n",
    "        values[component_name].append(value.get(component_name, 0))"
   ]
  },
  {
   "cell_type": "code",
   "execution_count": 18,
   "metadata": {},
   "outputs": [
    {
     "data": {
      "image/png": "[encoded data removed]",
      "text/plain": [
       "<Figure size 1296x1296 with 1 Axes>"
      ]
     },
     "metadata": {
      "needs_background": "light"
     },
     "output_type": "display_data"
    }
   ],
   "source": [
    "width = 0.2\n",
    "\n",
    "fig, ax = plt.subplots(figsize=(18,18))\n",
    "ax.yaxis.set_major_formatter('${x:,.0f}')\n",
    "ax.yaxis.set_tick_params(which='major',\n",
    "                         labelleft=True, labelright=True)\n",
    "\n",
    "bottom = np.zeros(6)\n",
    "\n",
    "for component_name, component_values in values.items():\n",
    "    bottom_temp = bottom.copy()\n",
    "    for index, component_value in enumerate(component_values):\n",
    "        if component_value > 0:\n",
    "            bottom_temp[index] = bottom[index] \n",
    "        else:\n",
    "            bottom_temp[index] = 0\n",
    "    p = ax.bar(x, component_values, width, label=component_name, bottom=bottom_temp)\n",
    "    for index, component_value in enumerate(component_values):\n",
    "        bottom[index] += max(component_value, 0)\n",
    "        \n",
    "ax.set_title(\"Bond Amoritsation\")\n",
    "ax.legend(loc=\"upper right\", fontsize=\"x-large\")\n",
    "\n",
    "plt.show()"
   ]
  },
  {
   "cell_type": "markdown",
   "metadata": {},
   "source": [
    "## We can use the links below to view the A2B report in the LUSID website"
   ]
  },
  {
   "cell_type": "code",
   "execution_count": 28,
   "metadata": {},
   "outputs": [],
   "source": [
    "api_url = api_factory.api_client.configuration._base_path.replace(\"api\",\"\")"
   ]
  },
  {
   "cell_type": "code",
   "execution_count": 29,
   "metadata": {},
   "outputs": [
    {
     "data": {
      "text/plain": [
       "'https://demo.lusid.com/app/dashboard/a2b?dateFrom=2023-05-27T23:00:00.000Z&dateTo=2025-12-29T23:59:59.999Z&scope=ibor&code=BondPortfolioForAmortisationUsingEffectiveYield&entityType=Portfolio&recipeScope=ibor&recipeCode=bondValuationUsingConstantTimeValueOfMoney&effectiveDate=2025-12-29T23:59:59.999Z'"
      ]
     },
     "execution_count": 29,
     "metadata": {},
     "output_type": "execute_result"
    }
   ],
   "source": [
    "api_url + 'app/dashboard/a2b?dateFrom=2023-05-27T23:00:00.000Z&dateTo=2025-12-29T23:59:59.999Z&scope=ibor&code=BondPortfolioForAmortisationUsingEffectiveYield&entityType=Portfolio&recipeScope=ibor&recipeCode=bondValuationUsingConstantTimeValueOfMoney&effectiveDate=2025-12-29T23:59:59.999Z'"
   ]
  },
  {
   "cell_type": "code",
   "execution_count": 30,
   "metadata": {},
   "outputs": [
    {
     "data": {
      "text/plain": [
       "'https://demo.lusid.com/app/dashboard/a2b?dateFrom=2023-05-27T23:00:00.000Z&dateTo=2025-12-29T23:59:59.999Z&scope=ibor&code=BondPortfolioForAmortisationUsingStraightLine&entityType=Portfolio&recipeScope=ibor&recipeCode=bondValuationUsingConstantTimeValueOfMoney&effectiveDate=2025-12-29T23:59:59.999Z'"
      ]
     },
     "execution_count": 30,
     "metadata": {},
     "output_type": "execute_result"
    }
   ],
   "source": [
    "api_url + 'app/dashboard/a2b?dateFrom=2023-05-27T23:00:00.000Z&dateTo=2025-12-29T23:59:59.999Z&scope=ibor&code=BondPortfolioForAmortisationUsingStraightLine&entityType=Portfolio&recipeScope=ibor&recipeCode=bondValuationUsingConstantTimeValueOfMoney&effectiveDate=2025-12-29T23:59:59.999Z'"
   ]
  }
 ],
 "metadata": {
  "kernelspec": {
   "display_name": "Python 3 (ipykernel)",
   "language": "python",
   "name": "python3"
  },
  "language_info": {
   "codemirror_mode": {
    "name": "ipython",
    "version": 3
   },
   "file_extension": ".py",
   "mimetype": "text/x-python",
   "name": "python",
   "nbconvert_exporter": "python",
   "pygments_lexer": "ipython3",
   "version": "3.9.7"
  },
  "toc": {
   "base_numbering": 1,
   "nav_menu": {},
   "number_sections": false,
   "sideBar": true,
   "skip_h1_title": false,
   "title_cell": "Table of Contents",
   "title_sidebar": "Contents",
   "toc_cell": false,
   "toc_position": {},
   "toc_section_display": true,
   "toc_window_display": false
  },
  "varInspector": {
   "cols": {
    "lenName": 16,
    "lenType": 16,
    "lenVar": 40
   },
   "kernels_config": {
    "python": {
     "delete_cmd_postfix": "",
     "delete_cmd_prefix": "del ",
     "library": "var_list.py",
     "varRefreshCmd": "print(var_dic_list())"
    },
    "r": {
     "delete_cmd_postfix": ") ",
     "delete_cmd_prefix": "rm(",
     "library": "var_list.r",
     "varRefreshCmd": "cat(var_dic_list()) "
    }
   },
   "types_to_exclude": [
    "module",
    "function",
    "builtin_function_or_method",
    "instance",
    "_Feature"
   ],
   "window_display": false
  }
 },
 "nbformat": 4,
 "nbformat_minor": 2
}
