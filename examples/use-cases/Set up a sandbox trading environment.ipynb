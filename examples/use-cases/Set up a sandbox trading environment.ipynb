{
 "cells": [
  {
   "cell_type": "markdown",
   "metadata": {},
   "source": [
    "## The Challenge"
   ]
  },
  {
   "cell_type": "markdown",
   "metadata": {},
   "source": [
    "We have a research analyst team who provide recommendations to our portfolio managers. Unfortunately not all of these recommendations lead to a positive outcome. We need a better way to stress test the recommendations of our analyst team in a live environment to ensure that they are robust before they are passed onto our portfolio managers.\n",
    "\n",
    "We also need to understand what information an analyst was presented with when they made a recommendation. This will allow us to understand the reasoning behind the decision at the time that it was made. This has been very difficult for us to determine previously."
   ]
  },
  {
   "cell_type": "markdown",
   "metadata": {},
   "source": [
    "## The Solution"
   ]
  },
  {
   "cell_type": "markdown",
   "metadata": {},
   "source": [
    "Using LUSID we can construct a \"paper portfolio\" for each member of our analyst team. Using this paper portfolio they will be able to make trades based on their own recommendations to see how they would have performed under close to real market conditions. We can do this by:\n",
    "\n",
    "1) Creating a logically separate environment for each analyst\n",
    "\n",
    "2) Creating our tradeable instrument universe for each analyst\n",
    "\n",
    "3) Creating a transaction portfolio for each analyst to hold their tradeable instrument universe and creating a reference portfolio for each analyst which contains the index of their tradeable instrument universe and can be used as a benchmark for performance\n",
    "\n",
    "4) Populating each analyst's portfolio with a starting cash balance\n",
    "\n",
    "5) Populating each analyst's reference portfolio with the weights for each constituent of their index\n",
    "\n",
    "6) Allowing our analysts to trade across their tradeable instrument universe and add their transactions to their transaction portfolio\n",
    "\n",
    "7) Creating an analytics store to hold the latest prices of our tradeable instrument universe\n",
    "\n",
    "8) Valuing our analyst's portfolio using our analytics store\n",
    "\n",
    "9) Creating an index from our reference portfolio and building a benchmark for our analyst's to compare their performance against"
   ]
  },
  {
   "cell_type": "markdown",
   "metadata": {},
   "source": [
    "*To initialise our LUSID environment run the cell below*"
   ]
  },
  {
   "cell_type": "code",
   "execution_count": 1,
   "metadata": {
    "pycharm": {
     "is_executing": false
    }
   },
   "outputs": [
    {
     "name": "stdout",
     "text": [
      "LUSID Environment Initialised\n",
      "LUSID API Version:  0.5.2933.0\n"
     ],
     "output_type": "stream"
    }
   ],
   "source": [
    "# Import LUSID\n",
    "import lusid.models as models\n",
    "import lusid_sample_data as import_data\n",
    "\n",
    "# Import Libraries\n",
    "import pprint\n",
    "from datetime import datetime, timedelta, time\n",
    "import pytz\n",
    "import printer as prettyprint\n",
    "import pandas as pd\n",
    "\n",
    "# Authenticate our user and create our API client\n",
    "client = import_data.authenticate_secrets()\n",
    "\n",
    "print ('LUSID Environment Initialised')\n",
    "print ('LUSID API Version: ', client.metadata.get_lusid_versions().build_version)"
   ]
  },
  {
   "cell_type": "markdown",
   "metadata": {},
   "source": [
    "![Scopes](img/paper-lusid.gif)"
   ]
  },
  {
   "cell_type": "markdown",
   "metadata": {},
   "source": [
    "## 1) Creating a logically separated environment for each analyst"
   ]
  },
  {
   "cell_type": "markdown",
   "metadata": {},
   "source": [
    "In LUSID we can create separate environments for each of our analysts using scopes. A scope is a container for LUSID objects and can be thought of as a separate identity namespace. Using LUSID's entitlements engine we can ensure that an analyst can only interact with objects inside their scope. Furthermore no other analyst or other stakeholder inside the organisation can access this scope unless explicitly given permission. \n",
    "\n",
    "For this example we will create a scope for a single analyst. \n",
    "\n",
    "*Run the cell below to initialise our scope. Note that the scope will have a unique 4 character code appended to it to make the name more unique.*"
   ]
  },
  {
   "cell_type": "code",
   "execution_count": 2,
   "metadata": {
    "pycharm": {
     "is_executing": false
    }
   },
   "outputs": [
    {
     "name": "stdout",
     "text": [
      "\u001b[1mAnalyst Scope Code: \u001b[0manalyst-paper-3794-d015-5bc6-f4\n"
     ],
     "output_type": "stream"
    }
   ],
   "source": [
    "# Fetch our scopes\n",
    "scope_id = import_data.create_scope_id()\n",
    "analyst_scope_code = 'analyst-paper-{}'.format(scope_id)\n",
    "\n",
    "prettyprint.heading('Analyst Scope Code', analyst_scope_code)"
   ]
  },
  {
   "cell_type": "markdown",
   "metadata": {},
   "source": [
    "*Our LUSID environment now looks like the below. We will update this with each step.*"
   ]
  },
  {
   "cell_type": "markdown",
   "metadata": {},
   "source": [
    "![Scopes](img/paper-scopes.gif)"
   ]
  },
  {
   "cell_type": "markdown",
   "metadata": {},
   "source": [
    "## 2) Creating our tradeable instrument universe for each analyst"
   ]
  },
  {
   "cell_type": "markdown",
   "metadata": {},
   "source": [
    "Before we can set-up our transaction and reference portfolios we need to define the tradeable instrument universe for our analyst. In this case let us assume that the analyst has been tasked with making recommendations to buy or sell equities from the London Stock Exchange FTSE techMark Focus index.\n",
    "\n",
    "*Run the cell below to import our instrument universe*"
   ]
  },
  {
   "cell_type": "code",
   "execution_count": 3,
   "metadata": {
    "pycharm": {
     "is_executing": false
    }
   },
   "outputs": [
    {
     "data": {
      "text/plain": "  instrument_name currency          figi ticker          isin    sedol  \\\n0       AVEVA GRP      GBP  BBG000C21Y87    AVV  GB00BBG9VN75  BBG9VN7   \n1        BAE SYS.      GBP  BBG000BD5TW4    BA.  GB0002634946   263494   \n2   BATM ADVANCED      GBP  BBG000BFJD77    BVC  IL0010849045   911146   \n3             BTG      GBP  BBG000BZZK79    BTG  GB0001001592   100159   \n4          COBHAM      GBP  BBG000BS6810    COB  GB00B07KD360  B07KD36   \n5   COMPUTACENTER      GBP  BBG000BN7CL9    CCC  GB00BV9FP302  BV9FP30   \n6    CONSORT MED.      GBP  BBG000BD8278   CSRT  GB0000946276    94627   \n7        DIALIGHT      GBP  BBG000BLQNG4    DIA  GB0033057794  3305779   \n8           GENUS      GBP  BBG000CTMKX7    GNS  GB0002074580   207458   \n9    GRESHAM TECH      GBP  BBG000BS2592    GHT  GB0008808825   880882   \n\n  client_internal  \n0    imd_56344535  \n1    imd_56344983  \n2    imd_56344098  \n3    imd_56344345  \n4    imd_56344363  \n5    imd_56344296  \n6    imd_56344187  \n7    imd_56344572  \n8    imd_56344789  \n9    imd_56344132  ",
      "text/html": "<div>\n<style scoped>\n    .dataframe tbody tr th:only-of-type {\n        vertical-align: middle;\n    }\n\n    .dataframe tbody tr th {\n        vertical-align: top;\n    }\n\n    .dataframe thead th {\n        text-align: right;\n    }\n</style>\n<table border=\"1\" class=\"dataframe\">\n  <thead>\n    <tr style=\"text-align: right;\">\n      <th></th>\n      <th>instrument_name</th>\n      <th>currency</th>\n      <th>figi</th>\n      <th>ticker</th>\n      <th>isin</th>\n      <th>sedol</th>\n      <th>client_internal</th>\n    </tr>\n  </thead>\n  <tbody>\n    <tr>\n      <th>0</th>\n      <td>AVEVA GRP</td>\n      <td>GBP</td>\n      <td>BBG000C21Y87</td>\n      <td>AVV</td>\n      <td>GB00BBG9VN75</td>\n      <td>BBG9VN7</td>\n      <td>imd_56344535</td>\n    </tr>\n    <tr>\n      <th>1</th>\n      <td>BAE SYS.</td>\n      <td>GBP</td>\n      <td>BBG000BD5TW4</td>\n      <td>BA.</td>\n      <td>GB0002634946</td>\n      <td>263494</td>\n      <td>imd_56344983</td>\n    </tr>\n    <tr>\n      <th>2</th>\n      <td>BATM ADVANCED</td>\n      <td>GBP</td>\n      <td>BBG000BFJD77</td>\n      <td>BVC</td>\n      <td>IL0010849045</td>\n      <td>911146</td>\n      <td>imd_56344098</td>\n    </tr>\n    <tr>\n      <th>3</th>\n      <td>BTG</td>\n      <td>GBP</td>\n      <td>BBG000BZZK79</td>\n      <td>BTG</td>\n      <td>GB0001001592</td>\n      <td>100159</td>\n      <td>imd_56344345</td>\n    </tr>\n    <tr>\n      <th>4</th>\n      <td>COBHAM</td>\n      <td>GBP</td>\n      <td>BBG000BS6810</td>\n      <td>COB</td>\n      <td>GB00B07KD360</td>\n      <td>B07KD36</td>\n      <td>imd_56344363</td>\n    </tr>\n    <tr>\n      <th>5</th>\n      <td>COMPUTACENTER</td>\n      <td>GBP</td>\n      <td>BBG000BN7CL9</td>\n      <td>CCC</td>\n      <td>GB00BV9FP302</td>\n      <td>BV9FP30</td>\n      <td>imd_56344296</td>\n    </tr>\n    <tr>\n      <th>6</th>\n      <td>CONSORT MED.</td>\n      <td>GBP</td>\n      <td>BBG000BD8278</td>\n      <td>CSRT</td>\n      <td>GB0000946276</td>\n      <td>94627</td>\n      <td>imd_56344187</td>\n    </tr>\n    <tr>\n      <th>7</th>\n      <td>DIALIGHT</td>\n      <td>GBP</td>\n      <td>BBG000BLQNG4</td>\n      <td>DIA</td>\n      <td>GB0033057794</td>\n      <td>3305779</td>\n      <td>imd_56344572</td>\n    </tr>\n    <tr>\n      <th>8</th>\n      <td>GENUS</td>\n      <td>GBP</td>\n      <td>BBG000CTMKX7</td>\n      <td>GNS</td>\n      <td>GB0002074580</td>\n      <td>207458</td>\n      <td>imd_56344789</td>\n    </tr>\n    <tr>\n      <th>9</th>\n      <td>GRESHAM TECH</td>\n      <td>GBP</td>\n      <td>BBG000BS2592</td>\n      <td>GHT</td>\n      <td>GB0008808825</td>\n      <td>880882</td>\n      <td>imd_56344132</td>\n    </tr>\n  </tbody>\n</table>\n</div>"
     },
     "metadata": {},
     "output_type": "execute_result",
     "execution_count": 3
    }
   ],
   "source": [
    "# Import our instrument universe from a CSV file using Pandas\n",
    "instrument_universe = pd.read_csv('data/paper-instruments.csv')\n",
    "# Look at the first 10 instruments\n",
    "instrument_universe.head(n=10)"
   ]
  },
  {
   "cell_type": "markdown",
   "metadata": {},
   "source": [
    "Now that we have our instruments, we can upsert our instruments in a batch. You can read more about upserting instruments in the LUSID API documentation - [LUSID API Docs: Upserting Instruments](https://docs.lusid.com/#operation/UpsertInstruments)\n",
    "\n",
    "*Run the cell below to upsert our instruments into LUSID*"
   ]
  },
  {
   "cell_type": "code",
   "execution_count": 4,
   "metadata": {
    "pycharm": {
     "is_executing": false
    }
   },
   "outputs": [
    {
     "name": "stdout",
     "text": [
      "\u001b[1mInstrument Successfully Upserted: \u001b[0mBAE SYS.\n\u001b[1mFigi ID: \u001b[0mBBG000BD5TW4\n\u001b[1mLUSID Instrument ID: \u001b[0mLUID_M7GC3JM0\n\n\n\u001b[1mInstrument Successfully Upserted: \u001b[0mSPECTRIS\n\u001b[1mFigi ID: \u001b[0mBBG000CNV8Z5\n\u001b[1mLUSID Instrument ID: \u001b[0mLUID_1XZGIGBC\n\n\n\u001b[1mInstrument Successfully Upserted: \u001b[0mMEGGITT\n\u001b[1mFigi ID: \u001b[0mBBG000BDT1M0\n\u001b[1mLUSID Instrument ID: \u001b[0mLUID_L1SDRWO3\n\n\n\u001b[1mInstrument Successfully Upserted: \u001b[0mCOMPUTACENTER\n\u001b[1mFigi ID: \u001b[0mBBG000BN7CL9\n\u001b[1mLUSID Instrument ID: \u001b[0mLUID_PQZJTKML\n\n\n\u001b[1mInstrument Successfully Upserted: \u001b[0mGENUS\n\u001b[1mFigi ID: \u001b[0mBBG000CTMKX7\n\u001b[1mLUSID Instrument ID: \u001b[0mLUID_3RXQV5ZC\n\n\n\u001b[1mInstrument Successfully Upserted: \u001b[0mMICRO FOCUS\n\u001b[1mFigi ID: \u001b[0mBBG000G4KJC6\n\u001b[1mLUSID Instrument ID: \u001b[0mLUID_GJZI0FMZ\n\n\n\u001b[1mInstrument Successfully Upserted: \u001b[0mRICARDO\n\u001b[1mFigi ID: \u001b[0mBBG000BDYQS3\n\u001b[1mLUSID Instrument ID: \u001b[0mLUID_QE1MINVX\n\n\n\u001b[1mInstrument Successfully Upserted: \u001b[0mBATM ADVANCED\n\u001b[1mFigi ID: \u001b[0mBBG000BFJD77\n\u001b[1mLUSID Instrument ID: \u001b[0mLUID_E7V0TK06\n\n\n\u001b[1mInstrument Successfully Upserted: \u001b[0mSAGE GRP.\n\u001b[1mFigi ID: \u001b[0mBBG000BN0PP3\n\u001b[1mLUSID Instrument ID: \u001b[0mLUID_WY858B7W\n\n\n\u001b[1mInstrument Successfully Upserted: \u001b[0mBTG\n\u001b[1mFigi ID: \u001b[0mBBG000BZZK79\n\u001b[1mLUSID Instrument ID: \u001b[0mLUID_49C8M9OT\n\n\n\u001b[1mInstrument Successfully Upserted: \u001b[0mOXFORD INSTRMNT\n\u001b[1mFigi ID: \u001b[0mBBG000BDWZZ7\n\u001b[1mLUSID Instrument ID: \u001b[0mLUID_27Z1FC5K\n\n\n\u001b[1mInstrument Successfully Upserted: \u001b[0mAVEVA GRP\n\u001b[1mFigi ID: \u001b[0mBBG000C21Y87\n\u001b[1mLUSID Instrument ID: \u001b[0mLUID_O58XT9J2\n\n\n\u001b[1mInstrument Successfully Upserted: \u001b[0mMICROGEN\n\u001b[1mFigi ID: \u001b[0mBBG000BDSS88\n\u001b[1mLUSID Instrument ID: \u001b[0mLUID_ZOMG1GFL\n\n\n\u001b[1mInstrument Successfully Upserted: \u001b[0mGRESHAM TECH\n\u001b[1mFigi ID: \u001b[0mBBG000BS2592\n\u001b[1mLUSID Instrument ID: \u001b[0mLUID_K1NUKWAY\n\n\n\u001b[1mInstrument Successfully Upserted: \u001b[0mXP POWER\n\u001b[1mFigi ID: \u001b[0mBBG000BZMBQ2\n\u001b[1mLUSID Instrument ID: \u001b[0mLUID_3AU2OY1O\n\n\n\u001b[1mInstrument Successfully Upserted: \u001b[0mOXFORD BIOMED.\n\u001b[1mFigi ID: \u001b[0mBBG000BMB7T9\n\u001b[1mLUSID Instrument ID: \u001b[0mLUID_RYP3ZBD7\n\n\n\u001b[1mInstrument Successfully Upserted: \u001b[0mXAAR\n\u001b[1mFigi ID: \u001b[0mBBG000BVKQF2\n\u001b[1mLUSID Instrument ID: \u001b[0mLUID_58A14STQ\n\n\n\u001b[1mInstrument Successfully Upserted: \u001b[0mCONSORT MED.\n\u001b[1mFigi ID: \u001b[0mBBG000BD8278\n\u001b[1mLUSID Instrument ID: \u001b[0mLUID_HHTZ9WS5\n\n\n\u001b[1mInstrument Successfully Upserted: \u001b[0mDIALIGHT\n\u001b[1mFigi ID: \u001b[0mBBG000BLQNG4\n\u001b[1mLUSID Instrument ID: \u001b[0mLUID_L9JG0Q0O\n\n\n\u001b[1mInstrument Successfully Upserted: \u001b[0mCOBHAM\n\u001b[1mFigi ID: \u001b[0mBBG000BS6810\n\u001b[1mLUSID Instrument ID: \u001b[0mLUID_TQ4S4F88\n\n\n\u001b[1mInstrument Successfully Upserted: \u001b[0mPADDY PWR BET\n\u001b[1mFigi ID: \u001b[0mBBG000N8GHT0\n\u001b[1mLUSID Instrument ID: \u001b[0mLUID_9Q0W20MP\n\n\n\u001b[1mInstrument Successfully Upserted: \u001b[0mULTRA ELEC.\n\u001b[1mFigi ID: \u001b[0mBBG000HHH4C3\n\u001b[1mLUSID Instrument ID: \u001b[0mLUID_DMXWOM7H\n\n\n\u001b[1mInstrument Successfully Upserted: \u001b[0mTRIAD GRP.\n\u001b[1mFigi ID: \u001b[0mBBG000BL9R74\n\u001b[1mLUSID Instrument ID: \u001b[0mLUID_FSAKXMNC\n\n\n\u001b[1mInstrument Successfully Upserted: \u001b[0mKCOM GRP\n\u001b[1mFigi ID: \u001b[0mBBG000BYWT85\n\u001b[1mLUSID Instrument ID: \u001b[0mLUID_BC72NVG7\n\n\n\u001b[1mInstrument Successfully Upserted: \u001b[0mSMITH&NEPHEW\n\u001b[1mFigi ID: \u001b[0mBBG000BF21F2\n\u001b[1mLUSID Instrument ID: \u001b[0mLUID_IOS3RCN8\n\n\n\u001b[1mInstrument Successfully Upserted: \u001b[0mQINETIQ\n\u001b[1mFigi ID: \u001b[0mBBG000HF3Y54\n\u001b[1mLUSID Instrument ID: \u001b[0mLUID_6AJXI5AE\n\n\n\u001b[1mInstrument Successfully Upserted: \u001b[0mSDL\n\u001b[1mFigi ID: \u001b[0mBBG000C4HGK1\n\u001b[1mLUSID Instrument ID: \u001b[0mLUID_HZ3NON8M\n\n\n\u001b[1mInstrument Successfully Upserted: \u001b[0mNCC GRP\n\u001b[1mFigi ID: \u001b[0mBBG000BS8WF0\n\u001b[1mLUSID Instrument ID: \u001b[0mLUID_X1KAJ9FS\n\n\n\u001b[1mInstrument Successfully Upserted: \u001b[0mSPIRENT\n\u001b[1mFigi ID: \u001b[0mBBG000C4LV50\n\u001b[1mLUSID Instrument ID: \u001b[0mLUID_TYDM2PTU\n\n\n\u001b[1mInstrument Successfully Upserted: \u001b[0mVECTURA\n\u001b[1mFigi ID: \u001b[0mBBG000PRWXX8\n\u001b[1mLUSID Instrument ID: \u001b[0mLUID_28WHY1A9\n\n\n\u001b[1mInstrument Successfully Upserted: \u001b[0mRENISHAW\n\u001b[1mFigi ID: \u001b[0mBBG000BDZTQ8\n\u001b[1mLUSID Instrument ID: \u001b[0mLUID_7P0ZXMK6\n\n\n31  instruments upserted successfully\n0  instrument upsert failures\n"
     ],
     "output_type": "stream"
    }
   ],
   "source": [
    "# Initialise our batch upsert request\n",
    "batch_upsert_request = {}\n",
    "# Iterate over our instrument universe\n",
    "for row, instrument in instrument_universe.iterrows():\n",
    "\n",
    "    # Set our identifier columns\n",
    "    identifier_columns = [\n",
    "            ('isin', 'Isin'), \n",
    "            ('figi', 'Figi'), \n",
    "            ('ticker', 'Ticker'),\n",
    "            ('sedol', 'Sedol'),\n",
    "            ('client_internal', 'ClientInternal')\n",
    "    ]\n",
    "    \n",
    "    # Create our identifiers\n",
    "    identifiers = {}\n",
    "    for identifier in identifier_columns:\n",
    "        identifiers[identifier[1]] = models.InstrumentIdValue(\n",
    "            value=instrument[identifier[0]])\n",
    "        \n",
    "    # Add the instrument to our batch request using the FIGI as the main unique identifier\n",
    "    batch_upsert_request[instrument['instrument_name']] = models.InstrumentDefinition(\n",
    "        name=instrument['instrument_name'],\n",
    "        identifiers=identifiers)\n",
    "                                                                           \n",
    "# Call LUSID to upsert our batch\n",
    "instrument_response = client.instruments.upsert_instruments(\n",
    "    requests=batch_upsert_request)\n",
    "\n",
    "# Pretty print the response from LUSID\n",
    "prettyprint.instrument_response(instrument_response, identifier='Figi')"
   ]
  },
  {
   "cell_type": "markdown",
   "metadata": {},
   "source": [
    "Our LUSID environment now has an instrument master containing all of our instruments that we will be trading."
   ]
  },
  {
   "cell_type": "markdown",
   "metadata": {},
   "source": [
    "![Scopes](img/paper-instrumentmaster.gif)"
   ]
  },
  {
   "cell_type": "markdown",
   "metadata": {},
   "source": [
    "During the upsertion process you may have noticed that that every instrument that is created in LUSID given a unique LUSID Instrument Id or LUID for short. This ID is used for many methods and is how LUSID uniquely identifies an instrument.\n",
    "\n",
    "Note that in addition to our instruments, there is also cash in our holdings. Instruments that represent cash are already set-up in LUSID by default. In LUSID the identifier for cash is the ISO4217 currency code. For example British Pounds have an identifier of GBP. "
   ]
  },
  {
   "cell_type": "markdown",
   "metadata": {},
   "source": [
    "## 3) Creating a transactions portfolio for each analyst to hold their tradeable instrument universe and creating a reference portfolo for each analyst which contains the index of their tradeable instrument universe and can be used as a benchmark for performance"
   ]
  },
  {
   "cell_type": "markdown",
   "metadata": {},
   "source": [
    "Now that we have populated our tradeable instrument universe, we need to create our analyst's transaction portfolio for making trades and their reference portfolio for tracking the index. Each portfolio can be referenced by its unique 'code'. Let us define the code for our two portfolios.\n",
    "\n",
    "*Run the cell below to define our portfolio codes*"
   ]
  },
  {
   "cell_type": "code",
   "execution_count": 5,
   "metadata": {
    "pycharm": {
     "is_executing": false
    }
   },
   "outputs": [
    {
     "name": "stdout",
     "text": [
      "\u001b[1mTransaction Portfolio Code: \u001b[0mLSE_FTSE_techMarkFocus_transactions\n\u001b[1mReference Portfolio Code: \u001b[0mLSE_FTSE_techMarkFocus_reference\n"
     ],
     "output_type": "stream"
    }
   ],
   "source": [
    "# Define unique codes for each of our portfolios\n",
    "transaction_portfolio_code = 'LSE_FTSE_techMarkFocus_transactions'\n",
    "reference_portfolio_code = 'LSE_FTSE_techMarkFocus_reference'\n",
    "# Pretty print our codes\n",
    "prettyprint.heading('Transaction Portfolio Code', transaction_portfolio_code)\n",
    "prettyprint.heading('Reference Portfolio Code', reference_portfolio_code)"
   ]
  },
  {
   "cell_type": "markdown",
   "metadata": {},
   "source": [
    "Now that we have the code for our portfolios we can go ahead and create them in LUSID. Let us first create our transaction portfolio. Note that we will create both portfolios as being available as of 3 days ago. This will allow us to add backdated transactions and compute backdated valuations.\n",
    "\n",
    "You can read more about creating transaction portfolios in the LUSID API documentation: [LUSID API Docs: Creating Transaction Portfolios](https://docs.lusid.com/#operation/CreatePortfolio)\n",
    "\n",
    "*Run the cell below to create our transaction portfolio*"
   ]
  },
  {
   "cell_type": "code",
   "execution_count": 6,
   "metadata": {
    "pycharm": {
     "is_executing": false
    }
   },
   "outputs": [
    {
     "name": "stdout",
     "text": [
      "\u001b[1mPortfolio Created\u001b[0m\n\u001b[1mScope: \u001b[0manalyst-paper-3794-d015-5bc6-f4\n\u001b[1mCode: \u001b[0mLSE_FTSE_techMarkFocus_transactions\n\u001b[1mPortfolio Effective From: \u001b[0m2019-07-27 08:15:27.712071+00:00\n\u001b[1mPortfolio Created On: \u001b[0m2019-07-30 08:15:27.884903+00:00\n\n"
     ],
     "output_type": "stream"
    }
   ],
   "source": [
    "# The date our portfolios were first created\n",
    "portfolio_creation_date = (datetime.now(pytz.UTC) - timedelta(days=3))\n",
    "\n",
    "# Create the request to add our portfolio\n",
    "transaction_portfolio_request = models.CreateTransactionPortfolioRequest(\n",
    "    display_name=transaction_portfolio_code,\n",
    "    code=transaction_portfolio_code,\n",
    "    base_currency='GBP',\n",
    "    description='Paper transaction portfolio',\n",
    "    created=portfolio_creation_date)\n",
    "\n",
    "# Call LUSID to create our portfolio\n",
    "portfolio_response = client.transaction_portfolios.create_portfolio(\n",
    "    scope=analyst_scope_code,\n",
    "    create_request=transaction_portfolio_request)\n",
    "\n",
    "# Pretty print the response from LUSID\n",
    "prettyprint.portfolio_response(portfolio_response)"
   ]
  },
  {
   "cell_type": "markdown",
   "metadata": {},
   "source": [
    "![Scopes](img/paper-transactionsportfolio.gif)"
   ]
  },
  {
   "cell_type": "markdown",
   "metadata": {},
   "source": [
    "Now that we have created our transaction portfolio we can also create our referene portfolio to track the techMarkFocus index. \n",
    "\n",
    "You can read more about creating reference portfolios in the LUSID API documentation: [LUSID API Docs: Creating Reference Portfolios](https://docs.lusid.com/#operation/CreateReferencePortfolio)\n",
    "\n",
    "*Run the cell below to create our reference portfolio*"
   ]
  },
  {
   "cell_type": "code",
   "execution_count": 7,
   "metadata": {
    "pycharm": {
     "is_executing": false
    }
   },
   "outputs": [
    {
     "name": "stdout",
     "text": [
      "\u001b[1mPortfolio Created\u001b[0m\n\u001b[1mScope: \u001b[0manalyst-paper-3794-d015-5bc6-f4\n\u001b[1mCode: \u001b[0mLSE_FTSE_techMarkFocus_reference\n\u001b[1mPortfolio Effective From: \u001b[0m2019-07-27 08:15:30.614433+00:00\n\u001b[1mPortfolio Created On: \u001b[0m2019-07-30 08:15:30.847838+00:00\n\n"
     ],
     "output_type": "stream"
    }
   ],
   "source": [
    "# The date our portfolios were first created\n",
    "portfolio_creation_date = (datetime.now(pytz.UTC) - timedelta(days=3))\n",
    "\n",
    "# Create the request to add our portfolio\n",
    "reference_portfolio_request = models.CreateReferencePortfolioRequest(\n",
    "    display_name=reference_portfolio_code,\n",
    "    code=reference_portfolio_code,\n",
    "    description='Paper reference portfolio',\n",
    "    created=portfolio_creation_date)\n",
    "\n",
    "# Call LUSID to create our reference portfolio\n",
    "portfolio_response = client.reference_portfolios.create_reference_portfolio(\n",
    "    scope=analyst_scope_code,\n",
    "    reference_portfolio=reference_portfolio_request)\n",
    "\n",
    "# Pretty print our response from LUSID\n",
    "prettyprint.portfolio_response(portfolio_response)"
   ]
  },
  {
   "cell_type": "markdown",
   "metadata": {},
   "source": [
    "Our LUSID environment is now populated with our two portfolios. One for our analyst to make trades across and the other to track the weights of the index of the tradeable instrument universe to produce a benchmark."
   ]
  },
  {
   "cell_type": "markdown",
   "metadata": {},
   "source": [
    "![Scopes](img/paper-referenceportfolio.gif)"
   ]
  },
  {
   "cell_type": "markdown",
   "metadata": {},
   "source": [
    "## 4) Populating our analyst's portfolio with a starting cash balance"
   ]
  },
  {
   "cell_type": "markdown",
   "metadata": {},
   "source": [
    "To set our starting cash balance we use LUSID's 'Set Holdings' capability. This allows us to set the holdings of a portfolio to a given state. In this case we will add in a starting cash balance. Let us give the analyst a starting cash balance of £30,000,000. We will make this balance effective from just after the creation of our portfolio. \n",
    "\n",
    "*Run the cell below to set our starting cash balance*"
   ]
  },
  {
   "cell_type": "code",
   "execution_count": 8,
   "metadata": {
    "pycharm": {
     "is_executing": false
    }
   },
   "outputs": [
    {
     "name": "stdout",
     "text": [
      "\u001b[1mHoldings Successfully Set for Portfolio\u001b[0m\n\u001b[1mScope: \u001b[0manalyst-paper-3794-d015-5bc6-f4\n\u001b[1mCode: \u001b[0mLSE_FTSE_techMarkFocus_transactions\n\u001b[1mHoldings Effective From: \u001b[0m2019-07-27 10:39:33.549067+00:00\n\u001b[1mHoldings Created On: \u001b[0m2019-07-30 08:15:33.834980+00:00\n\n"
     ],
     "output_type": "stream"
    }
   ],
   "source": [
    "# Set the date from which the cash balance will apply to be just after portfolio creation\n",
    "holdings_effective_date = (datetime.now(pytz.UTC) - timedelta(days=2.9))\n",
    "# Define our initial cash balance\n",
    "initial_cash_balance = 30000000\n",
    "\n",
    "# Create a holding adjustment to set our initial cash balance\n",
    "holding_adjustment = [\n",
    "    models.AdjustHoldingRequest(\n",
    "        instrument_identifiers={\n",
    "            'Instrument/default/Currency': 'GBP'},\n",
    "        tax_lots=[\n",
    "            models.TargetTaxLotRequest(\n",
    "                units=initial_cash_balance,\n",
    "                cost=models.CurrencyAndAmount(\n",
    "                    amount=initial_cash_balance,\n",
    "                    currency='GBP'),\n",
    "                portfolio_cost=initial_cash_balance,\n",
    "                price=1)\n",
    "                ]\n",
    "    )\n",
    "]\n",
    "\n",
    "# Call LUSID to set our initial cash balance\n",
    "set_holdings_response = client.transaction_portfolios.set_holdings(\n",
    "    scope=analyst_scope_code,\n",
    "    code=transaction_portfolio_code,\n",
    "    effective_at=holdings_effective_date,\n",
    "    holding_adjustments=holding_adjustment)\n",
    "\n",
    "# Pretty print our response from LUSID\n",
    "prettyprint.set_holdings_response(\n",
    "    set_holdings_response, \n",
    "    analyst_scope_code, \n",
    "    transaction_portfolio_code)"
   ]
  },
  {
   "cell_type": "markdown",
   "metadata": {},
   "source": [
    "Our transactions portfolio is now populated with an initial cash balance and is no longer empty."
   ]
  },
  {
   "cell_type": "markdown",
   "metadata": {},
   "source": [
    "![Scopes](img/paper-transactionsportfoliofilled.gif)"
   ]
  },
  {
   "cell_type": "markdown",
   "metadata": {},
   "source": [
    "## 5) Populating our reference portfolio with the correct weights so that it tracks the index as closely as possible"
   ]
  },
  {
   "cell_type": "markdown",
   "metadata": {},
   "source": [
    "To set up our reference portfolio we need to initialise it with the constituents that make up the index as well as their weight. In this case we are going to weight the consitutents based on their market capitalisation. We will import their market capitalisation from a CSV file generated from one of our internal systems. We will also configure our reference portfolio to be updated once a quarter. We could update this more frequently if we wished. \n",
    "\n",
    "*Run the cell below to import our market capitalisation figures for our instruments*"
   ]
  },
  {
   "cell_type": "code",
   "execution_count": 9,
   "metadata": {
    "pycharm": {
     "is_executing": false
    }
   },
   "outputs": [
    {
     "data": {
      "text/plain": "  instrument_name currency          figi ticker          isin    sedol  \\\n0       AVEVA GRP      GBP  BBG000C21Y87    AVV  GB00BBG9VN75  BBG9VN7   \n1        BAE SYS.      GBP  BBG000BD5TW4    BA.  GB0002634946  0263494   \n2   BATM ADVANCED      GBP  BBG000BFJD77    BVC  IL0010849045   911146   \n3             BTG      GBP  BBG000BZZK79    BTG  GB0001001592   100159   \n4          COBHAM      GBP  BBG000BS6810    COB  GB00B07KD360  B07KD36   \n5   COMPUTACENTER      GBP  BBG000BN7CL9    CCC  GB00BV9FP302  BV9FP30   \n6    CONSORT MED.      GBP  BBG000BD8278   CSRT  GB0000946276  0094627   \n7        DIALIGHT      GBP  BBG000BLQNG4    DIA  GB0033057794  3305779   \n8           GENUS      GBP  BBG000CTMKX7    GNS  GB0002074580  0207458   \n9    GRESHAM TECH      GBP  BBG000BS2592    GHT  GB0008808825  0880882   \n\n   marketcap  \n0    4502.68  \n1   16349.66  \n2     185.25  \n3    3202.20  \n4    2579.90  \n5    1161.96  \n6     422.56  \n7     133.39  \n8    1455.72  \n9      64.34  ",
      "text/html": "<div>\n<style scoped>\n    .dataframe tbody tr th:only-of-type {\n        vertical-align: middle;\n    }\n\n    .dataframe tbody tr th {\n        vertical-align: top;\n    }\n\n    .dataframe thead th {\n        text-align: right;\n    }\n</style>\n<table border=\"1\" class=\"dataframe\">\n  <thead>\n    <tr style=\"text-align: right;\">\n      <th></th>\n      <th>instrument_name</th>\n      <th>currency</th>\n      <th>figi</th>\n      <th>ticker</th>\n      <th>isin</th>\n      <th>sedol</th>\n      <th>marketcap</th>\n    </tr>\n  </thead>\n  <tbody>\n    <tr>\n      <th>0</th>\n      <td>AVEVA GRP</td>\n      <td>GBP</td>\n      <td>BBG000C21Y87</td>\n      <td>AVV</td>\n      <td>GB00BBG9VN75</td>\n      <td>BBG9VN7</td>\n      <td>4502.68</td>\n    </tr>\n    <tr>\n      <th>1</th>\n      <td>BAE SYS.</td>\n      <td>GBP</td>\n      <td>BBG000BD5TW4</td>\n      <td>BA.</td>\n      <td>GB0002634946</td>\n      <td>0263494</td>\n      <td>16349.66</td>\n    </tr>\n    <tr>\n      <th>2</th>\n      <td>BATM ADVANCED</td>\n      <td>GBP</td>\n      <td>BBG000BFJD77</td>\n      <td>BVC</td>\n      <td>IL0010849045</td>\n      <td>911146</td>\n      <td>185.25</td>\n    </tr>\n    <tr>\n      <th>3</th>\n      <td>BTG</td>\n      <td>GBP</td>\n      <td>BBG000BZZK79</td>\n      <td>BTG</td>\n      <td>GB0001001592</td>\n      <td>100159</td>\n      <td>3202.20</td>\n    </tr>\n    <tr>\n      <th>4</th>\n      <td>COBHAM</td>\n      <td>GBP</td>\n      <td>BBG000BS6810</td>\n      <td>COB</td>\n      <td>GB00B07KD360</td>\n      <td>B07KD36</td>\n      <td>2579.90</td>\n    </tr>\n    <tr>\n      <th>5</th>\n      <td>COMPUTACENTER</td>\n      <td>GBP</td>\n      <td>BBG000BN7CL9</td>\n      <td>CCC</td>\n      <td>GB00BV9FP302</td>\n      <td>BV9FP30</td>\n      <td>1161.96</td>\n    </tr>\n    <tr>\n      <th>6</th>\n      <td>CONSORT MED.</td>\n      <td>GBP</td>\n      <td>BBG000BD8278</td>\n      <td>CSRT</td>\n      <td>GB0000946276</td>\n      <td>0094627</td>\n      <td>422.56</td>\n    </tr>\n    <tr>\n      <th>7</th>\n      <td>DIALIGHT</td>\n      <td>GBP</td>\n      <td>BBG000BLQNG4</td>\n      <td>DIA</td>\n      <td>GB0033057794</td>\n      <td>3305779</td>\n      <td>133.39</td>\n    </tr>\n    <tr>\n      <th>8</th>\n      <td>GENUS</td>\n      <td>GBP</td>\n      <td>BBG000CTMKX7</td>\n      <td>GNS</td>\n      <td>GB0002074580</td>\n      <td>0207458</td>\n      <td>1455.72</td>\n    </tr>\n    <tr>\n      <th>9</th>\n      <td>GRESHAM TECH</td>\n      <td>GBP</td>\n      <td>BBG000BS2592</td>\n      <td>GHT</td>\n      <td>GB0008808825</td>\n      <td>0880882</td>\n      <td>64.34</td>\n    </tr>\n  </tbody>\n</table>\n</div>"
     },
     "metadata": {},
     "output_type": "execute_result",
     "execution_count": 9
    }
   ],
   "source": [
    "# Import the market capitalisation of each of our instruments in the index\n",
    "instrument_market_cap = pd.read_csv('data/paper-weights.csv')\n",
    "# Take a look at the first 10 market capitalisations\n",
    "instrument_market_cap.head(n=10)"
   ]
  },
  {
   "cell_type": "markdown",
   "metadata": {},
   "source": [
    "Now that we have our market capitalisation figures we can upsert our constituents into the reference portfolio. We can add the weights in any format and LUSID will normalise them to equal 1. \n",
    "\n",
    "You can read more about upserting constituents in the LUSID API documentation: [LUSID API Docs: Upserting Constituents to a Reference Portfolio](https://docs.lusid.com/#operation/UpsertReferencePortfolioConstituents)\n",
    "\n",
    "*Run the cell below to upsert our constituents*"
   ]
  },
  {
   "cell_type": "code",
   "execution_count": 10,
   "metadata": {
    "pycharm": {
     "is_executing": false
    }
   },
   "outputs": [
    {
     "name": "stdout",
     "text": [
      "Constituents Upserted\n"
     ],
     "output_type": "stream"
    }
   ],
   "source": [
    "# Initialise a list to hold our constituents\n",
    "constituents = []\n",
    "# Work out the total market capitalisation of the entire index\n",
    "total = instrument_market_cap['marketcap'].sum()\n",
    "\n",
    "# Iterate over instrument unvierse to add each constituent to our list\n",
    "for row in instrument_market_cap.iterrows():\n",
    "    # Collect our instrument\n",
    "    instrument = row[1]\n",
    "    # Calculate our constituents weight based on market cap and add it to our list\n",
    "    constituents.append(models.ReferencePortfolioConstituentRequest(\n",
    "        instrument_identifiers={\n",
    "            'Instrument/default/Figi': instrument['figi']},\n",
    "        weight=instrument['marketcap']/total,\n",
    "        currency=instrument['currency']))\n",
    "\n",
    "# Create our request to add our constituents\n",
    "constituents_request = models.UpsertReferencePortfolioConstituentsRequest(\n",
    "    effective_from=holdings_effective_date,\n",
    "    weight_type=\"Periodical\",\n",
    "    period_type=\"Quarterly\",\n",
    "    period_count=4,\n",
    "    constituents=constituents)\n",
    "\n",
    "# Call LUSID to upsert our constituents into our reference portfolio\n",
    "response = client.reference_portfolios.upsert_reference_portfolio_constituents(\n",
    "    scope=analyst_scope_code,\n",
    "    code=reference_portfolio_code,\n",
    "    constituents=constituents_request)\n",
    "\n",
    "print ('Constituents Upserted')"
   ]
  },
  {
   "cell_type": "markdown",
   "metadata": {},
   "source": [
    "Our reference portfolio is no longer empty and now contains the weights for each instrument in our index against which the analyst's performance will be compared."
   ]
  },
  {
   "cell_type": "markdown",
   "metadata": {},
   "source": [
    "![Scopes](img/paper-referenceportfoliofilled.gif)"
   ]
  },
  {
   "cell_type": "markdown",
   "metadata": {},
   "source": [
    "## 6) Allow our analysts to trade across their tradeable instrument universe and add their transactions to their transaction portfolio"
   ]
  },
  {
   "cell_type": "markdown",
   "metadata": {},
   "source": [
    "Now that we have set up our portfolios we can add in our analyst's trades. These would likel be populated from an order management or similar system. In this case we are going to import the trades over the last two days from a CSV file.\n",
    "\n",
    "*Run the cell below to import our transactions*"
   ]
  },
  {
   "cell_type": "code",
   "execution_count": 11,
   "metadata": {
    "pycharm": {
     "is_executing": false
    }
   },
   "outputs": [
    {
     "data": {
      "text/plain": "      transaction_id       type                            portfolio  \\\n0   tid_124398219481        Buy  LSE_FTSE_techMarkFocus_transactions   \n1   tid_339423984894   FundsOut  LSE_FTSE_techMarkFocus_transactions   \n2   tid_339423984896   FundsOut  LSE_FTSE_techMarkFocus_transactions   \n3   tid_359231290933        Buy  LSE_FTSE_techMarkFocus_transactions   \n4   tid_223239424244   FundsOut  LSE_FTSE_techMarkFocus_transactions   \n5   tid_354242442211   FundsOut  LSE_FTSE_techMarkFocus_transactions   \n6   tid_342398989895  SellShort  LSE_FTSE_techMarkFocus_transactions   \n7   tid_384809092344   FundsOut  LSE_FTSE_techMarkFocus_transactions   \n8   tid_348234938244   FundsOut  LSE_FTSE_techMarkFocus_transactions   \n9   tid_239394829484        Buy  LSE_FTSE_techMarkFocus_transactions   \n10  tid_345798978924   FundsOut  LSE_FTSE_techMarkFocus_transactions   \n11  tid_354982424555   FundsOut  LSE_FTSE_techMarkFocus_transactions   \n12  tid_352909238244        Buy  LSE_FTSE_techMarkFocus_transactions   \n13  tid_394892482455   FundsOut  LSE_FTSE_techMarkFocus_transactions   \n14  tid_342398598555   FundsOut  LSE_FTSE_techMarkFocus_transactions   \n15  tid_334250655566        Buy  LSE_FTSE_techMarkFocus_transactions   \n16  tid_345090989054   FundsOut  LSE_FTSE_techMarkFocus_transactions   \n17  tid_324599699055   FundsOut  LSE_FTSE_techMarkFocus_transactions   \n18  tid_343356386885  SellShort  LSE_FTSE_techMarkFocus_transactions   \n19  tid_343430098090   FundsOut  LSE_FTSE_techMarkFocus_transactions   \n\n   instrument_name instrument_uid                  transaction_date  \\\n0        AVEVA GRP   BBG000C21Y87  2019-07-29T10:53:03.317488+00:00   \n1         GBP_Cash            GBP  2019-07-29T12:10:20.808224+00:00   \n2         GBP_Cash            GBP  2019-07-29T13:30:39.361388+00:00   \n3    BATM ADVANCED   BBG000BFJD77  2019-07-29T16:44:22.953422+00:00   \n4         GBP_Cash            GBP  2019-07-29T09:05:08.518044+00:00   \n5         GBP_Cash            GBP  2019-07-28T16:42:04.981414+00:00   \n6    COMPUTACENTER   BBG000BN7CL9  2019-07-29T13:16:57.614575+00:00   \n7         GBP_Cash            GBP  2019-07-29T14:01:45.173840+00:00   \n8         GBP_Cash            GBP  2019-07-29T11:46:38.660644+00:00   \n9         DIALIGHT   BBG000BLQNG4  2019-07-29T12:46:39.415011+00:00   \n10        GBP_Cash            GBP  2019-07-29T14:13:29.029324+00:00   \n11        GBP_Cash            GBP  2019-07-29T15:39:05.816116+00:00   \n12           GENUS   BBG000CTMKX7  2019-07-28T09:26:21.074171+00:00   \n13        GBP_Cash            GBP  2019-07-29T12:44:36.493329+00:00   \n14        GBP_Cash            GBP  2019-07-29T14:41:08.723256+00:00   \n15        MICROGEN   BBG000BDSS88  2019-07-29T13:36:08.345642+00:00   \n16        GBP_Cash            GBP  2019-07-28T09:31:21.661091+00:00   \n17        GBP_Cash            GBP  2019-07-29T08:41:31.207676+00:00   \n18     MICRO FOCUS   BBG000G4KJC6  2019-07-28T12:01:59.679294+00:00   \n19        GBP_Cash            GBP  2019-07-28T12:35:08.840997+00:00   \n\n                     settlement_date    units  transaction_price  \\\n0   2019-07-31T10:53:03.317488+00:00   265600          28.940000   \n1   2019-07-31T12:10:20.808224+00:00   265600           0.005788   \n2   2019-07-31T13:30:39.361388+00:00   265600           0.014470   \n3   2019-07-31T16:44:22.953422+00:00   750000           0.463000   \n4   2019-07-31T09:05:08.518044+00:00   750000           0.000093   \n5   2019-07-30T16:42:04.981414+00:00   750000           0.000231   \n6   2019-07-31T13:16:57.614575+00:00   150000          10.500000   \n7   2019-07-31T14:01:45.173840+00:00   150000           0.002100   \n8   2019-07-31T11:46:38.660644+00:00   150000           0.005250   \n9   2019-07-31T12:46:39.415011+00:00  1500000           4.180000   \n10  2019-07-31T14:13:29.029324+00:00  1500000           0.000836   \n11  2019-07-31T15:39:05.816116+00:00  1500000           0.002090   \n12  2019-07-30T09:26:21.074171+00:00   345000          22.000000   \n13  2019-07-31T12:44:36.493329+00:00   345000           0.004400   \n14  2019-07-31T14:41:08.723256+00:00   345000           0.011000   \n15  2019-07-31T13:36:08.345642+00:00   234000           3.920000   \n16  2019-07-30T09:31:21.661091+00:00   234000           0.000784   \n17  2019-07-31T08:41:31.207676+00:00   234000           0.001960   \n18  2019-07-30T12:01:59.679294+00:00   543000          13.600000   \n19  2019-07-30T12:35:08.840997+00:00   543000           0.002720   \n\n   transaction_currency    total_cost             strategy     description  \n0                   GBP  7.686464e+06   quantitativeSignal        Purchase  \n1                   GBP  1.537293e+03   quantitativeSignal  Brokerage Fees  \n2                   GBP  3.843232e+03   quantitativeSignal      Stamp Duty  \n3                   GBP  3.472500e+05  fundamentalAnalysis        Purchase  \n4                   GBP  6.945000e+01  fundamentalAnalysis  Brokerage Fees  \n5                   GBP  1.736250e+02  fundamentalAnalysis      Stamp Duty  \n6                   GBP  1.575000e+06  fundamentalAnalysis        Purchase  \n7                   GBP  3.150000e+02  fundamentalAnalysis  Brokerage Fees  \n8                   GBP  7.875000e+02  fundamentalAnalysis      Stamp Duty  \n9                   GBP  6.270000e+06   quantitativeSignal        Purchase  \n10                  GBP  1.254000e+03   quantitativeSignal  Brokerage Fees  \n11                  GBP  3.135000e+03   quantitativeSignal      Stamp Duty  \n12                  GBP  7.590000e+06    technicalAnalysis        Purchase  \n13                  GBP  1.518000e+03    technicalAnalysis  Brokerage Fees  \n14                  GBP  3.795000e+03    technicalAnalysis      Stamp Duty  \n15                  GBP  9.172800e+05   quantitativeSignal        Purchase  \n16                  GBP  1.834560e+02   quantitativeSignal  Brokerage Fees  \n17                  GBP  4.586400e+02   quantitativeSignal      Stamp Duty  \n18                  GBP  7.384800e+06    technicalAnalysis        Purchase  \n19                  GBP  1.476960e+03    technicalAnalysis  Brokerage Fees  ",
      "text/html": "<div>\n<style scoped>\n    .dataframe tbody tr th:only-of-type {\n        vertical-align: middle;\n    }\n\n    .dataframe tbody tr th {\n        vertical-align: top;\n    }\n\n    .dataframe thead th {\n        text-align: right;\n    }\n</style>\n<table border=\"1\" class=\"dataframe\">\n  <thead>\n    <tr style=\"text-align: right;\">\n      <th></th>\n      <th>transaction_id</th>\n      <th>type</th>\n      <th>portfolio</th>\n      <th>instrument_name</th>\n      <th>instrument_uid</th>\n      <th>transaction_date</th>\n      <th>settlement_date</th>\n      <th>units</th>\n      <th>transaction_price</th>\n      <th>transaction_currency</th>\n      <th>total_cost</th>\n      <th>strategy</th>\n      <th>description</th>\n    </tr>\n  </thead>\n  <tbody>\n    <tr>\n      <th>0</th>\n      <td>tid_124398219481</td>\n      <td>Buy</td>\n      <td>LSE_FTSE_techMarkFocus_transactions</td>\n      <td>AVEVA GRP</td>\n      <td>BBG000C21Y87</td>\n      <td>2019-07-29T10:53:03.317488+00:00</td>\n      <td>2019-07-31T10:53:03.317488+00:00</td>\n      <td>265600</td>\n      <td>28.940000</td>\n      <td>GBP</td>\n      <td>7.686464e+06</td>\n      <td>quantitativeSignal</td>\n      <td>Purchase</td>\n    </tr>\n    <tr>\n      <th>1</th>\n      <td>tid_339423984894</td>\n      <td>FundsOut</td>\n      <td>LSE_FTSE_techMarkFocus_transactions</td>\n      <td>GBP_Cash</td>\n      <td>GBP</td>\n      <td>2019-07-29T12:10:20.808224+00:00</td>\n      <td>2019-07-31T12:10:20.808224+00:00</td>\n      <td>265600</td>\n      <td>0.005788</td>\n      <td>GBP</td>\n      <td>1.537293e+03</td>\n      <td>quantitativeSignal</td>\n      <td>Brokerage Fees</td>\n    </tr>\n    <tr>\n      <th>2</th>\n      <td>tid_339423984896</td>\n      <td>FundsOut</td>\n      <td>LSE_FTSE_techMarkFocus_transactions</td>\n      <td>GBP_Cash</td>\n      <td>GBP</td>\n      <td>2019-07-29T13:30:39.361388+00:00</td>\n      <td>2019-07-31T13:30:39.361388+00:00</td>\n      <td>265600</td>\n      <td>0.014470</td>\n      <td>GBP</td>\n      <td>3.843232e+03</td>\n      <td>quantitativeSignal</td>\n      <td>Stamp Duty</td>\n    </tr>\n    <tr>\n      <th>3</th>\n      <td>tid_359231290933</td>\n      <td>Buy</td>\n      <td>LSE_FTSE_techMarkFocus_transactions</td>\n      <td>BATM ADVANCED</td>\n      <td>BBG000BFJD77</td>\n      <td>2019-07-29T16:44:22.953422+00:00</td>\n      <td>2019-07-31T16:44:22.953422+00:00</td>\n      <td>750000</td>\n      <td>0.463000</td>\n      <td>GBP</td>\n      <td>3.472500e+05</td>\n      <td>fundamentalAnalysis</td>\n      <td>Purchase</td>\n    </tr>\n    <tr>\n      <th>4</th>\n      <td>tid_223239424244</td>\n      <td>FundsOut</td>\n      <td>LSE_FTSE_techMarkFocus_transactions</td>\n      <td>GBP_Cash</td>\n      <td>GBP</td>\n      <td>2019-07-29T09:05:08.518044+00:00</td>\n      <td>2019-07-31T09:05:08.518044+00:00</td>\n      <td>750000</td>\n      <td>0.000093</td>\n      <td>GBP</td>\n      <td>6.945000e+01</td>\n      <td>fundamentalAnalysis</td>\n      <td>Brokerage Fees</td>\n    </tr>\n    <tr>\n      <th>5</th>\n      <td>tid_354242442211</td>\n      <td>FundsOut</td>\n      <td>LSE_FTSE_techMarkFocus_transactions</td>\n      <td>GBP_Cash</td>\n      <td>GBP</td>\n      <td>2019-07-28T16:42:04.981414+00:00</td>\n      <td>2019-07-30T16:42:04.981414+00:00</td>\n      <td>750000</td>\n      <td>0.000231</td>\n      <td>GBP</td>\n      <td>1.736250e+02</td>\n      <td>fundamentalAnalysis</td>\n      <td>Stamp Duty</td>\n    </tr>\n    <tr>\n      <th>6</th>\n      <td>tid_342398989895</td>\n      <td>SellShort</td>\n      <td>LSE_FTSE_techMarkFocus_transactions</td>\n      <td>COMPUTACENTER</td>\n      <td>BBG000BN7CL9</td>\n      <td>2019-07-29T13:16:57.614575+00:00</td>\n      <td>2019-07-31T13:16:57.614575+00:00</td>\n      <td>150000</td>\n      <td>10.500000</td>\n      <td>GBP</td>\n      <td>1.575000e+06</td>\n      <td>fundamentalAnalysis</td>\n      <td>Purchase</td>\n    </tr>\n    <tr>\n      <th>7</th>\n      <td>tid_384809092344</td>\n      <td>FundsOut</td>\n      <td>LSE_FTSE_techMarkFocus_transactions</td>\n      <td>GBP_Cash</td>\n      <td>GBP</td>\n      <td>2019-07-29T14:01:45.173840+00:00</td>\n      <td>2019-07-31T14:01:45.173840+00:00</td>\n      <td>150000</td>\n      <td>0.002100</td>\n      <td>GBP</td>\n      <td>3.150000e+02</td>\n      <td>fundamentalAnalysis</td>\n      <td>Brokerage Fees</td>\n    </tr>\n    <tr>\n      <th>8</th>\n      <td>tid_348234938244</td>\n      <td>FundsOut</td>\n      <td>LSE_FTSE_techMarkFocus_transactions</td>\n      <td>GBP_Cash</td>\n      <td>GBP</td>\n      <td>2019-07-29T11:46:38.660644+00:00</td>\n      <td>2019-07-31T11:46:38.660644+00:00</td>\n      <td>150000</td>\n      <td>0.005250</td>\n      <td>GBP</td>\n      <td>7.875000e+02</td>\n      <td>fundamentalAnalysis</td>\n      <td>Stamp Duty</td>\n    </tr>\n    <tr>\n      <th>9</th>\n      <td>tid_239394829484</td>\n      <td>Buy</td>\n      <td>LSE_FTSE_techMarkFocus_transactions</td>\n      <td>DIALIGHT</td>\n      <td>BBG000BLQNG4</td>\n      <td>2019-07-29T12:46:39.415011+00:00</td>\n      <td>2019-07-31T12:46:39.415011+00:00</td>\n      <td>1500000</td>\n      <td>4.180000</td>\n      <td>GBP</td>\n      <td>6.270000e+06</td>\n      <td>quantitativeSignal</td>\n      <td>Purchase</td>\n    </tr>\n    <tr>\n      <th>10</th>\n      <td>tid_345798978924</td>\n      <td>FundsOut</td>\n      <td>LSE_FTSE_techMarkFocus_transactions</td>\n      <td>GBP_Cash</td>\n      <td>GBP</td>\n      <td>2019-07-29T14:13:29.029324+00:00</td>\n      <td>2019-07-31T14:13:29.029324+00:00</td>\n      <td>1500000</td>\n      <td>0.000836</td>\n      <td>GBP</td>\n      <td>1.254000e+03</td>\n      <td>quantitativeSignal</td>\n      <td>Brokerage Fees</td>\n    </tr>\n    <tr>\n      <th>11</th>\n      <td>tid_354982424555</td>\n      <td>FundsOut</td>\n      <td>LSE_FTSE_techMarkFocus_transactions</td>\n      <td>GBP_Cash</td>\n      <td>GBP</td>\n      <td>2019-07-29T15:39:05.816116+00:00</td>\n      <td>2019-07-31T15:39:05.816116+00:00</td>\n      <td>1500000</td>\n      <td>0.002090</td>\n      <td>GBP</td>\n      <td>3.135000e+03</td>\n      <td>quantitativeSignal</td>\n      <td>Stamp Duty</td>\n    </tr>\n    <tr>\n      <th>12</th>\n      <td>tid_352909238244</td>\n      <td>Buy</td>\n      <td>LSE_FTSE_techMarkFocus_transactions</td>\n      <td>GENUS</td>\n      <td>BBG000CTMKX7</td>\n      <td>2019-07-28T09:26:21.074171+00:00</td>\n      <td>2019-07-30T09:26:21.074171+00:00</td>\n      <td>345000</td>\n      <td>22.000000</td>\n      <td>GBP</td>\n      <td>7.590000e+06</td>\n      <td>technicalAnalysis</td>\n      <td>Purchase</td>\n    </tr>\n    <tr>\n      <th>13</th>\n      <td>tid_394892482455</td>\n      <td>FundsOut</td>\n      <td>LSE_FTSE_techMarkFocus_transactions</td>\n      <td>GBP_Cash</td>\n      <td>GBP</td>\n      <td>2019-07-29T12:44:36.493329+00:00</td>\n      <td>2019-07-31T12:44:36.493329+00:00</td>\n      <td>345000</td>\n      <td>0.004400</td>\n      <td>GBP</td>\n      <td>1.518000e+03</td>\n      <td>technicalAnalysis</td>\n      <td>Brokerage Fees</td>\n    </tr>\n    <tr>\n      <th>14</th>\n      <td>tid_342398598555</td>\n      <td>FundsOut</td>\n      <td>LSE_FTSE_techMarkFocus_transactions</td>\n      <td>GBP_Cash</td>\n      <td>GBP</td>\n      <td>2019-07-29T14:41:08.723256+00:00</td>\n      <td>2019-07-31T14:41:08.723256+00:00</td>\n      <td>345000</td>\n      <td>0.011000</td>\n      <td>GBP</td>\n      <td>3.795000e+03</td>\n      <td>technicalAnalysis</td>\n      <td>Stamp Duty</td>\n    </tr>\n    <tr>\n      <th>15</th>\n      <td>tid_334250655566</td>\n      <td>Buy</td>\n      <td>LSE_FTSE_techMarkFocus_transactions</td>\n      <td>MICROGEN</td>\n      <td>BBG000BDSS88</td>\n      <td>2019-07-29T13:36:08.345642+00:00</td>\n      <td>2019-07-31T13:36:08.345642+00:00</td>\n      <td>234000</td>\n      <td>3.920000</td>\n      <td>GBP</td>\n      <td>9.172800e+05</td>\n      <td>quantitativeSignal</td>\n      <td>Purchase</td>\n    </tr>\n    <tr>\n      <th>16</th>\n      <td>tid_345090989054</td>\n      <td>FundsOut</td>\n      <td>LSE_FTSE_techMarkFocus_transactions</td>\n      <td>GBP_Cash</td>\n      <td>GBP</td>\n      <td>2019-07-28T09:31:21.661091+00:00</td>\n      <td>2019-07-30T09:31:21.661091+00:00</td>\n      <td>234000</td>\n      <td>0.000784</td>\n      <td>GBP</td>\n      <td>1.834560e+02</td>\n      <td>quantitativeSignal</td>\n      <td>Brokerage Fees</td>\n    </tr>\n    <tr>\n      <th>17</th>\n      <td>tid_324599699055</td>\n      <td>FundsOut</td>\n      <td>LSE_FTSE_techMarkFocus_transactions</td>\n      <td>GBP_Cash</td>\n      <td>GBP</td>\n      <td>2019-07-29T08:41:31.207676+00:00</td>\n      <td>2019-07-31T08:41:31.207676+00:00</td>\n      <td>234000</td>\n      <td>0.001960</td>\n      <td>GBP</td>\n      <td>4.586400e+02</td>\n      <td>quantitativeSignal</td>\n      <td>Stamp Duty</td>\n    </tr>\n    <tr>\n      <th>18</th>\n      <td>tid_343356386885</td>\n      <td>SellShort</td>\n      <td>LSE_FTSE_techMarkFocus_transactions</td>\n      <td>MICRO FOCUS</td>\n      <td>BBG000G4KJC6</td>\n      <td>2019-07-28T12:01:59.679294+00:00</td>\n      <td>2019-07-30T12:01:59.679294+00:00</td>\n      <td>543000</td>\n      <td>13.600000</td>\n      <td>GBP</td>\n      <td>7.384800e+06</td>\n      <td>technicalAnalysis</td>\n      <td>Purchase</td>\n    </tr>\n    <tr>\n      <th>19</th>\n      <td>tid_343430098090</td>\n      <td>FundsOut</td>\n      <td>LSE_FTSE_techMarkFocus_transactions</td>\n      <td>GBP_Cash</td>\n      <td>GBP</td>\n      <td>2019-07-28T12:35:08.840997+00:00</td>\n      <td>2019-07-30T12:35:08.840997+00:00</td>\n      <td>543000</td>\n      <td>0.002720</td>\n      <td>GBP</td>\n      <td>1.476960e+03</td>\n      <td>technicalAnalysis</td>\n      <td>Brokerage Fees</td>\n    </tr>\n  </tbody>\n</table>\n</div>"
     },
     "metadata": {},
     "output_type": "execute_result",
     "execution_count": 11
    }
   ],
   "source": [
    "# Import our analyst's trades from a CSV file\n",
    "analyst_transactions = import_data.fetch_client_transactions(\n",
    "    'paper-transactions.csv',\n",
    "    days_back=2)\n",
    "\n",
    "# Pretty print their activity\n",
    "analyst_transactions.head(n=20)"
   ]
  },
  {
   "cell_type": "markdown",
   "metadata": {},
   "source": [
    "We can set custom properties on our transactions. In this case we are going to create a strategy property which allows the analyst to note what strategy they were following when they made the trade. These will help us justify their trades and recommendations when it comes to making them for real. \n",
    "\n",
    "You can read more about creating properties in the LUSID API documentation: [LUSID API Docs: Defining a new Property](https://docs.lusid.com/#operation/CreatePropertyDefinition)\n",
    "\n",
    "*Run the cell below to create our transaction strategy property*"
   ]
  },
  {
   "cell_type": "code",
   "execution_count": 12,
   "metadata": {
    "pycharm": {
     "is_executing": false
    }
   },
   "outputs": [
    {
     "name": "stdout",
     "text": [
      "\u001b[1mStrategy Property Key: : \u001b[0mTransaction/analyst-paper-3794-d015-5bc6-f4/strategy\n"
     ],
     "output_type": "stream"
    }
   ],
   "source": [
    "# Create a request to define our strategy property\n",
    "property_request = models.CreatePropertyDefinitionRequest(\n",
    "    domain='Transaction',\n",
    "    scope=analyst_scope_code,\n",
    "    code='strategy',\n",
    "    value_required=False,\n",
    "    display_name='strategy',\n",
    "    data_type_id=models.ResourceId(\n",
    "        scope='system',\n",
    "        code='string')\n",
    ")\n",
    "\n",
    "# Call LUSID to create our new property\n",
    "property_response = client.property_definitions.create_property_definition(\n",
    "    definition=property_request)\n",
    "\n",
    "# Grab the key off the response to use when referencing this property in other LUSID calls\n",
    "strategy_property_key = property_response.key\n",
    "\n",
    "# Pretty print our strategy property key\n",
    "prettyprint.heading('Strategy Property Key: ', strategy_property_key)"
   ]
  },
  {
   "cell_type": "markdown",
   "metadata": {},
   "source": [
    "Now that we have our trades imported and our property created we can upsert them into LUSID. Read more about adding transactions in the LUSID API documentation: [LUSID API Docs: Upserting Transactions](https://docs.lusid.com/#operation/UpsertTransactions)\n",
    "\n",
    "*Run the cell below to upsert our transactions into our transactions portfolio*"
   ]
  },
  {
   "cell_type": "code",
   "execution_count": 14,
   "metadata": {
    "pycharm": {
     "is_executing": false
    }
   },
   "outputs": [
    {
     "name": "stdout",
     "text": [
      "\u001b[1mTransactions Successfully Upserted into Portfolio\u001b[0m\n\u001b[1mScope: \u001b[0manalyst-paper-3794-d015-5bc6-f4\n\u001b[1mCode: \u001b[0mLSE_FTSE_techMarkFocus_transactions\n\u001b[1mTransactions Effective From: \u001b[0m2019-07-29 16:44:22.953422+00:00\n\u001b[1mTransactions Created On: \u001b[0m2019-07-30 08:17:03.963561+00:00\n\n"
     ],
     "output_type": "stream"
    }
   ],
   "source": [
    "# Initialise a list to hold our transactions\n",
    "batch_transaction_requests = []\n",
    "\n",
    "# Iterate over the transactions for each portfolio\n",
    "for index, transaction in analyst_transactions.iterrows():\n",
    "    \n",
    "    if 'Cash' in transaction['instrument_name']:\n",
    "        identifier_key = 'Instrument/default/Currency'\n",
    "    else:\n",
    "        identifier_key = 'Instrument/default/Figi'\n",
    "    \n",
    "    batch_transaction_requests.append(\n",
    "        models.TransactionRequest(\n",
    "            transaction_id=transaction['transaction_id'],\n",
    "            type=transaction['type'],\n",
    "            instrument_identifiers={\n",
    "                identifier_key: transaction['instrument_uid']},\n",
    "            transaction_date=transaction['transaction_date'],\n",
    "            settlement_date=transaction['settlement_date'],\n",
    "            units=transaction['units'],\n",
    "            transaction_price=models.TransactionPrice(\n",
    "                price=transaction['transaction_price'],\n",
    "                type='Price'),\n",
    "            total_consideration=models.CurrencyAndAmount(\n",
    "                amount=transaction['total_cost'],\n",
    "                currency=transaction['transaction_currency']),\n",
    "            source='Client',\n",
    "            transaction_currency=transaction['transaction_currency'],\n",
    "            properties={\n",
    "                strategy_property_key:\n",
    "                    models.PerpetualProperty(\n",
    "                        key=strategy_property_key,\n",
    "                        value=models.PropertyValue(label_value=transaction['strategy']) \n",
    "                    )\n",
    "            }\n",
    "        )\n",
    "    )\n",
    "\n",
    "# Call LUSID to upsert our transactions\n",
    "transaction_response = client.transaction_portfolios.upsert_transactions(\n",
    "    scope=analyst_scope_code,\n",
    "    code=transaction_portfolio_code,\n",
    "    transactions=batch_transaction_requests)\n",
    "\n",
    "# Pretty print the response from LUSID\n",
    "prettyprint.transactions_response(\n",
    "    transaction_response,\n",
    "    analyst_scope_code, \n",
    "    transaction_portfolio_code)"
   ]
  },
  {
   "cell_type": "markdown",
   "metadata": {},
   "source": [
    "Our transaction portfolio is now populated with our analyst's paper trades."
   ]
  },
  {
   "cell_type": "markdown",
   "metadata": {},
   "source": [
    "## 7) Create an analytics store to hold the latest prices of our tradeable instrument universe"
   ]
  },
  {
   "cell_type": "markdown",
   "metadata": {},
   "source": [
    "To value our portfolios we need current prices. We store these prices in an analytics store. There are a number of different ways and sources that we can get our pricing information. In this case we are going to load the prices when we set up our portfolios and the current prices from a CSV file.\n",
    "\n",
    "*Run the cell below to import our pricing information*"
   ]
  },
  {
   "cell_type": "code",
   "execution_count": 15,
   "metadata": {
    "pycharm": {
     "is_executing": false
    }
   },
   "outputs": [
    {
     "data": {
      "text/plain": "  instrument_name currency          figi  price_original  price_current  \\\n0       AVEVA GRP      GBP  BBG000C21Y87         27.8400      30.317760   \n1        BAE SYS.      GBP  BBG000BD5TW4          5.1540       4.782912   \n2   BATM ADVANCED      GBP  BBG000BFJD77          0.4590       0.424575   \n3             BTG      GBP  BBG000BZZK79          8.2750       8.970100   \n4          COBHAM      GBP  BBG000BS6810          1.0715       1.022211   \n5   COMPUTACENTER      GBP  BBG000BN7CL9         10.6800      11.459640   \n6    CONSORT MED.      GBP  BBG000BD8278          8.7000       9.309000   \n7        DIALIGHT      GBP  BBG000BLQNG4          3.9200       3.551520   \n8           GENUS      GBP  BBG000CTMKX7         22.4600      20.595820   \n9    GRESHAM TECH      GBP  BBG000BS2592          0.9450       1.000755   \n\n  ticker          isin    sedol  \n0    AVV  GB00BBG9VN75  BBG9VN7  \n1    BA.  GB0002634946   263494  \n2    BVC  IL0010849045   911146  \n3    BTG  GB0001001592   100159  \n4    COB  GB00B07KD360  B07KD36  \n5    CCC  GB00BV9FP302  BV9FP30  \n6   CSRT  GB0000946276    94627  \n7    DIA  GB0033057794  3305779  \n8    GNS  GB0002074580   207458  \n9    GHT  GB0008808825   880882  ",
      "text/html": "<div>\n<style scoped>\n    .dataframe tbody tr th:only-of-type {\n        vertical-align: middle;\n    }\n\n    .dataframe tbody tr th {\n        vertical-align: top;\n    }\n\n    .dataframe thead th {\n        text-align: right;\n    }\n</style>\n<table border=\"1\" class=\"dataframe\">\n  <thead>\n    <tr style=\"text-align: right;\">\n      <th></th>\n      <th>instrument_name</th>\n      <th>currency</th>\n      <th>figi</th>\n      <th>price_original</th>\n      <th>price_current</th>\n      <th>ticker</th>\n      <th>isin</th>\n      <th>sedol</th>\n    </tr>\n  </thead>\n  <tbody>\n    <tr>\n      <th>0</th>\n      <td>AVEVA GRP</td>\n      <td>GBP</td>\n      <td>BBG000C21Y87</td>\n      <td>27.8400</td>\n      <td>30.317760</td>\n      <td>AVV</td>\n      <td>GB00BBG9VN75</td>\n      <td>BBG9VN7</td>\n    </tr>\n    <tr>\n      <th>1</th>\n      <td>BAE SYS.</td>\n      <td>GBP</td>\n      <td>BBG000BD5TW4</td>\n      <td>5.1540</td>\n      <td>4.782912</td>\n      <td>BA.</td>\n      <td>GB0002634946</td>\n      <td>263494</td>\n    </tr>\n    <tr>\n      <th>2</th>\n      <td>BATM ADVANCED</td>\n      <td>GBP</td>\n      <td>BBG000BFJD77</td>\n      <td>0.4590</td>\n      <td>0.424575</td>\n      <td>BVC</td>\n      <td>IL0010849045</td>\n      <td>911146</td>\n    </tr>\n    <tr>\n      <th>3</th>\n      <td>BTG</td>\n      <td>GBP</td>\n      <td>BBG000BZZK79</td>\n      <td>8.2750</td>\n      <td>8.970100</td>\n      <td>BTG</td>\n      <td>GB0001001592</td>\n      <td>100159</td>\n    </tr>\n    <tr>\n      <th>4</th>\n      <td>COBHAM</td>\n      <td>GBP</td>\n      <td>BBG000BS6810</td>\n      <td>1.0715</td>\n      <td>1.022211</td>\n      <td>COB</td>\n      <td>GB00B07KD360</td>\n      <td>B07KD36</td>\n    </tr>\n    <tr>\n      <th>5</th>\n      <td>COMPUTACENTER</td>\n      <td>GBP</td>\n      <td>BBG000BN7CL9</td>\n      <td>10.6800</td>\n      <td>11.459640</td>\n      <td>CCC</td>\n      <td>GB00BV9FP302</td>\n      <td>BV9FP30</td>\n    </tr>\n    <tr>\n      <th>6</th>\n      <td>CONSORT MED.</td>\n      <td>GBP</td>\n      <td>BBG000BD8278</td>\n      <td>8.7000</td>\n      <td>9.309000</td>\n      <td>CSRT</td>\n      <td>GB0000946276</td>\n      <td>94627</td>\n    </tr>\n    <tr>\n      <th>7</th>\n      <td>DIALIGHT</td>\n      <td>GBP</td>\n      <td>BBG000BLQNG4</td>\n      <td>3.9200</td>\n      <td>3.551520</td>\n      <td>DIA</td>\n      <td>GB0033057794</td>\n      <td>3305779</td>\n    </tr>\n    <tr>\n      <th>8</th>\n      <td>GENUS</td>\n      <td>GBP</td>\n      <td>BBG000CTMKX7</td>\n      <td>22.4600</td>\n      <td>20.595820</td>\n      <td>GNS</td>\n      <td>GB0002074580</td>\n      <td>207458</td>\n    </tr>\n    <tr>\n      <th>9</th>\n      <td>GRESHAM TECH</td>\n      <td>GBP</td>\n      <td>BBG000BS2592</td>\n      <td>0.9450</td>\n      <td>1.000755</td>\n      <td>GHT</td>\n      <td>GB0008808825</td>\n      <td>880882</td>\n    </tr>\n  </tbody>\n</table>\n</div>"
     },
     "metadata": {},
     "output_type": "execute_result",
     "execution_count": 15
    }
   ],
   "source": [
    "# Import our instrument prices from a CSV file\n",
    "instrument_prices = pd.read_csv('data/paper-analytics.csv')\n",
    "# Pretty print our pricing\n",
    "instrument_prices.head(n=10)"
   ]
  },
  {
   "cell_type": "markdown",
   "metadata": {},
   "source": [
    "Now that we have our pricing information we can store this data inside LUSID in an analytics store. We will create two stores one for the prices from 3 days ago when we originally set-up the portfolios and one for the current prices.\n",
    "\n",
    "You can read more abouy creating and setting analytics stores in the LUSID API documentation: [LUSID API Docs: Creating an Analytics Store](https://docs.lusid.com/#operation/CreateAnalyticStore) & [LUSID API Docs: Setting Analytic Data](https://docs.lusid.com/#operation/SetAnalytics)\n",
    "\n",
    "*Run the cell below to set-up our analytics stores and set our analytic data*"
   ]
  },
  {
   "cell_type": "code",
   "execution_count": 16,
   "metadata": {
    "pycharm": {
     "is_executing": false
    }
   },
   "outputs": [
    {
     "name": "stdout",
     "text": [
      "Analytics Set\n"
     ],
     "output_type": "stream"
    }
   ],
   "source": [
    "# Set our analytics effective dates\n",
    "analytics_effective_date = datetime.now(pytz.UTC) - timedelta(days=3)\n",
    "today = datetime.now(pytz.UTC)\n",
    "analytics_store_dates = [analytics_effective_date, today]\n",
    "\n",
    "# Create prices via instrument, analytic\n",
    "instrument_analytics_inception = []\n",
    "instrument_analytics_today = []\n",
    "\n",
    "# Create dummy prices of 1 for all instruments except cash\n",
    "for row in instrument_prices.iterrows():\n",
    "    \n",
    "    instrument = row[1]\n",
    "    \n",
    "    if 'Cash' in instrument['instrument_name']:\n",
    "        continue\n",
    "        \n",
    "    # Get our Lusid Instrument Id\n",
    "    luid = client.instruments.get_instrument(\n",
    "        identifier_type='Figi',\n",
    "        identifier=instrument['figi']).lusid_instrument_id\n",
    "    \n",
    "    instrument_analytics_inception.append(models.InstrumentAnalytic(\n",
    "        instrument_uid=luid,\n",
    "        value=instrument['price_original']))\n",
    "    \n",
    "    instrument_analytics_today.append(models.InstrumentAnalytic(\n",
    "        instrument_uid=luid,\n",
    "        value=instrument['price_current']))\n",
    "    \n",
    "instrument_analytics = [instrument_analytics_inception, instrument_analytics_today]\n",
    "    \n",
    "for date, instrument_analytic_set in zip(analytics_store_dates, instrument_analytics):\n",
    "    \n",
    "    # Create analytics store request\n",
    "    analytics_store_request = models.CreateAnalyticStoreRequest(\n",
    "        scope=analyst_scope_code,\n",
    "        date=date.isoformat())\n",
    "\n",
    "    # Call LUSID to create our analytics store\n",
    "    client.analytics_stores.create_analytic_store(\n",
    "        request=analytics_store_request)\n",
    "\n",
    "    # Call LUSID to set up our newly created analytics store with our prices\n",
    "    client.analytics_stores.set_analytics(\n",
    "        scope=analyst_scope_code,\n",
    "        year=date.year,\n",
    "        month=date.month,\n",
    "        day=date.day,\n",
    "        data=instrument_analytic_set)\n",
    "    \n",
    "print ('Analytics Set')"
   ]
  },
  {
   "cell_type": "markdown",
   "metadata": {},
   "source": [
    "Our LUSID environment now looks like the below. We have a reference portfolio to hold our index which will act as a benchmark, we have a transaction portfolio for our analyst to make paper trades and we have an analytics store to value our portfolios."
   ]
  },
  {
   "cell_type": "markdown",
   "metadata": {},
   "source": [
    "![Scopes](img/paper-analyticsstore.gif)"
   ]
  },
  {
   "cell_type": "markdown",
   "metadata": {},
   "source": [
    "## 8) Value each portfolio using our analytics store"
   ]
  },
  {
   "cell_type": "markdown",
   "metadata": {},
   "source": [
    "We can now value our portfolios to see if the analyst has been making good decisions. Let us start by valuing our transaction portfolio to find out what our absolute return is across our tradeable instrument universe. \n",
    "\n",
    "We do this by making an aggregation request to LUSID. We will aggregate by instrument against the number of units, cost, present value and price. \n",
    "\n",
    "You can read more about aggregation in the LUSID API documentation: [LUSID API Docs: Aggregate Data in a Portfolio](https://docs.lusid.com/#operation/GetAggregationByPortfolio)\n",
    "\n",
    "*Run the cell below to make our aggregation request on our transaction portfolio and see how our analyst is performing*"
   ]
  },
  {
   "cell_type": "code",
   "execution_count": 17,
   "metadata": {
    "pycharm": {
     "is_executing": false
    }
   },
   "outputs": [
    {
     "name": "stdout",
     "text": [
      "\u001b[1mInstrument :\u001b[0mLusidInstrumentId=LUID_HZ3NON8M/GBP\n\u001b[1mUnits :\u001b[0m55000.0\n\u001b[1mCurrent Price :£\u001b[0m5.6\n\u001b[1mPresent Value :\u001b[0m£308154.0\n\u001b[1mCost :\u001b[0m£305250.0\n\u001b[1mReturn :\u001b[0m0.9514%\n\n\u001b[1mInstrument :\u001b[0mLusidInstrumentId=LUID_3AU2OY1O/GBP\n\u001b[1mUnits :\u001b[0m98000.0\n\u001b[1mCurrent Price :£\u001b[0m19.51\n\u001b[1mPresent Value :\u001b[0m£1912019.2\n\u001b[1mCost :\u001b[0m£2156000.0\n\u001b[1mReturn :\u001b[0m-11.3164%\n\n\u001b[1mInstrument :\u001b[0mLusidInstrumentId=LUID_3RXQV5ZC/GBP\n\u001b[1mUnits :\u001b[0m345000.0\n\u001b[1mCurrent Price :£\u001b[0m20.6\n\u001b[1mPresent Value :\u001b[0m£7105557.9\n\u001b[1mCost :\u001b[0m£7590000.0\n\u001b[1mReturn :\u001b[0m-6.3826%\n\n\u001b[1mInstrument :\u001b[0mLusidInstrumentId=LUID_DMXWOM7H/GBP\n\u001b[1mUnits :\u001b[0m120000.0\n\u001b[1mCurrent Price :£\u001b[0m13.36\n\u001b[1mPresent Value :\u001b[0m£1603546.8\n\u001b[1mCost :\u001b[0m£1582800.0\n\u001b[1mReturn :\u001b[0m1.3108%\n\n\u001b[1mInstrument :\u001b[0mLusidInstrumentId=LUID_GJZI0FMZ/GBP\n\u001b[1mUnits :\u001b[0m-543000.0\n\u001b[1mCurrent Price :£\u001b[0m13.82\n\u001b[1mPresent Value :\u001b[0m£-7503461.79\n\u001b[1mCost :\u001b[0m£-7384800.0\n\u001b[1mReturn :\u001b[0m-1.6068%\n\n\u001b[1mInstrument :\u001b[0mLusidInstrumentId=LUID_WY858B7W/GBP\n\u001b[1mUnits :\u001b[0m-98000.0\n\u001b[1mCurrent Price :£\u001b[0m6.57\n\u001b[1mPresent Value :\u001b[0m£-643432.72\n\u001b[1mCost :\u001b[0m£-577220.0\n\u001b[1mReturn :\u001b[0m-11.471%\n\n\u001b[1mInstrument :\u001b[0mLusidInstrumentId=LUID_O58XT9J2/GBP\n\u001b[1mUnits :\u001b[0m265600.0\n\u001b[1mCurrent Price :£\u001b[0m30.32\n\u001b[1mPresent Value :\u001b[0m£8052397.06\n\u001b[1mCost :\u001b[0m£7686464.0\n\u001b[1mReturn :\u001b[0m4.7607%\n\n\u001b[1mInstrument :\u001b[0mLusidInstrumentId=LUID_L9JG0Q0O/GBP\n\u001b[1mUnits :\u001b[0m1500000.0\n\u001b[1mCurrent Price :£\u001b[0m3.55\n\u001b[1mPresent Value :\u001b[0m£5327280.0\n\u001b[1mCost :\u001b[0m£6270000.0\n\u001b[1mReturn :\u001b[0m-15.0354%\n\n\u001b[1mInstrument :\u001b[0mLusidInstrumentId=LUID_PQZJTKML/GBP\n\u001b[1mUnits :\u001b[0m-150000.0\n\u001b[1mCurrent Price :£\u001b[0m11.46\n\u001b[1mPresent Value :\u001b[0m£-1718946.0\n\u001b[1mCost :\u001b[0m£-1575000.0\n\u001b[1mReturn :\u001b[0m-9.1394%\n\n\u001b[1mInstrument :\u001b[0mLusidInstrumentId=LUID_ZOMG1GFL/GBP\n\u001b[1mUnits :\u001b[0m234000.0\n\u001b[1mCurrent Price :£\u001b[0m3.6\n\u001b[1mPresent Value :\u001b[0m£843094.98\n\u001b[1mCost :\u001b[0m£917280.0\n\u001b[1mReturn :\u001b[0m-8.0875%\n\n\u001b[1mInstrument :\u001b[0mLusidInstrumentId=LUID_E7V0TK06/GBP\n\u001b[1mUnits :\u001b[0m750000.0\n\u001b[1mCurrent Price :£\u001b[0m0.42\n\u001b[1mPresent Value :\u001b[0m£318431.25\n\u001b[1mCost :\u001b[0m£347250.0\n\u001b[1mReturn :\u001b[0m-8.2991%\n\n\u001b[1mTOTAL RETURN: \u001b[0m-9.8936%\n"
     ],
     "output_type": "stream"
    }
   ],
   "source": [
    "# Create our aggregation request\n",
    "aggregation_request = models.AggregationRequest(\n",
    "    recipe_id=models.ResourceId(\n",
    "        scope=analyst_scope_code,\n",
    "        code='default'),\n",
    "    effective_at=today,\n",
    "    metrics=[\n",
    "        models.AggregateSpec(\n",
    "            key='Holding/default/SubHoldingKey',\n",
    "            op='Value'),\n",
    "        models.AggregateSpec(\n",
    "            key='Holding/default/Units',\n",
    "            op='Sum'),\n",
    "        models.AggregateSpec(\n",
    "            key='Holding/default/Cost',\n",
    "            op='Sum'),\n",
    "        models.AggregateSpec(\n",
    "            key='Holding/default/PV',\n",
    "            op='Sum'),\n",
    "       models.AggregateSpec(\n",
    "           key='Holding/default/Price',\n",
    "           op='Sum') \n",
    "    ],\n",
    "group_by=[\n",
    "    'Holding/default/SubHoldingKey'\n",
    "])\n",
    "                                                        \n",
    "# Call LUSID to aggregate across all of our portfolios\n",
    "aggregated_portfolio = client.aggregation.get_aggregation_by_portfolio(\n",
    "    scope=analyst_scope_code,\n",
    "    code=transaction_portfolio_code,\n",
    "    request=aggregation_request)\n",
    "\n",
    "prettyprint.aggregation_response_paper(aggregated_portfolio)"
   ]
  },
  {
   "cell_type": "markdown",
   "metadata": {},
   "source": [
    "## 9) Compare performance across the analyst's reference and transaction portfolios"
   ]
  },
  {
   "cell_type": "markdown",
   "metadata": {},
   "source": [
    "Now that we have got our analyst's absolute return we want to see how this compares to their benchmark. In LUSID we can't value our reference portfolio directly as all it contains is weights. What we can is decide on an arbitary index level (in this case we will start with 1000), create a new transaction portfolio to hold our index and then populate it based on the weights from our reference portfolio.\n",
    "\n",
    "First things first, let us give our index portfolio a code.\n",
    "\n",
    "*Run the cell below to create a unique code for our index portfolio*"
   ]
  },
  {
   "cell_type": "code",
   "execution_count": 18,
   "metadata": {
    "pycharm": {
     "is_executing": false
    }
   },
   "outputs": [
    {
     "name": "stdout",
     "text": [
      "\u001b[1mIndex Portfolio Code: \u001b[0mLSE_FTSE_techMarkFocus_index\n"
     ],
     "output_type": "stream"
    }
   ],
   "source": [
    "index_portfolio_code = 'LSE_FTSE_techMarkFocus_index'\n",
    "prettyprint.heading('Index Portfolio Code', index_portfolio_code)"
   ]
  },
  {
   "cell_type": "markdown",
   "metadata": {},
   "source": [
    "Now we can create our index portfolio\n",
    "\n",
    "*Run the cell below to create our index portfolio*"
   ]
  },
  {
   "cell_type": "code",
   "execution_count": 19,
   "metadata": {
    "pycharm": {
     "is_executing": false
    }
   },
   "outputs": [
    {
     "name": "stdout",
     "text": [
      "\u001b[1mPortfolio Created\u001b[0m\n\u001b[1mScope: \u001b[0manalyst-paper-3794-d015-5bc6-f4\n\u001b[1mCode: \u001b[0mLSE_FTSE_techMarkFocus_index\n\u001b[1mPortfolio Effective From: \u001b[0m2019-07-27 08:15:30.614433+00:00\n\u001b[1mPortfolio Created On: \u001b[0m2019-07-30 08:17:24.447054+00:00\n\n"
     ],
     "output_type": "stream"
    }
   ],
   "source": [
    "# Create the request to add our portfolio\n",
    "transaction_portfolio_request = models.CreateTransactionPortfolioRequest(\n",
    "    display_name=index_portfolio_code,\n",
    "    code=index_portfolio_code,\n",
    "    base_currency='GBP',\n",
    "    description='Index transaction portfolio',\n",
    "    created=portfolio_creation_date)\n",
    "\n",
    "# Create our portfolio\n",
    "portfolio_response = client.transaction_portfolios.create_portfolio(\n",
    "    scope=analyst_scope_code,\n",
    "    create_request=transaction_portfolio_request)\n",
    "\n",
    "prettyprint.portfolio_response(portfolio_response)"
   ]
  },
  {
   "cell_type": "markdown",
   "metadata": {},
   "source": [
    "We now have an index portfolio that we can use to hold our index and obtain our benchmark."
   ]
  },
  {
   "cell_type": "markdown",
   "metadata": {},
   "source": [
    "![Scopes](img/paper-indexportfolio.gif)"
   ]
  },
  {
   "cell_type": "code",
   "execution_count": 20,
   "metadata": {
    "pycharm": {
     "is_executing": false
    }
   },
   "outputs": [
    {
     "name": "stdout",
     "text": [
      "\u001b[1mHoldings Successfully Set for Portfolio\u001b[0m\n\u001b[1mScope: \u001b[0manalyst-paper-3794-d015-5bc6-f4\n\u001b[1mCode: \u001b[0mLSE_FTSE_techMarkFocus_index\n\u001b[1mHoldings Effective From: \u001b[0m2019-07-27 08:15:30.614433+00:00\n\u001b[1mHoldings Created On: \u001b[0m2019-07-30 08:17:30.965431+00:00\n\n"
     ],
     "output_type": "stream"
    }
   ],
   "source": [
    "# Set an arbitary index level to start our index with\n",
    "index_level = 1000\n",
    "# Call LUSID - get the constituents of our index from our reference portfolio\n",
    "constituents = client.reference_portfolios.get_reference_portfolio_constituents(\n",
    "    scope=analyst_scope_code,\n",
    "    code=reference_portfolio_code,\n",
    "    effective_at=datetime.now(pytz.UTC))\n",
    "# Initialise our list to hold the adjustments we need to make to our index to set it up\n",
    "index_setup = []\n",
    "# Get our weights from the constituents into a better format to work with\n",
    "weights = {constituent.instrument_uid:constituent.weight for constituent in constituents.constituents}\n",
    "\n",
    "# Iterate over our pricing analytics\n",
    "for index, instrument in instrument_prices.iterrows():\n",
    "    \n",
    "    # Get our Lusid Instrument ID\n",
    "    Luid = client.instruments.get_instrument(\n",
    "        identifier_type='Figi',\n",
    "        identifier=instrument['figi']).lusid_instrument_id\n",
    "    # Get the initial price for each constituent of the index from our analytics store\n",
    "    inception_price = instrument['price_original']\n",
    "    # Work out how much of the index this constituent should make up using its w\n",
    "    index_cost = weights[Luid] * index_level\n",
    "    # Work out how many units we should therefore buy\n",
    "    index_units = index_cost / inception_price\n",
    "    # Create our request for this instrument \n",
    "    index_setup.append(\n",
    "        models.AdjustHoldingRequest(\n",
    "            instrument_identifiers={\n",
    "                'Instrument/default/Figi': instrument['figi']},\n",
    "            tax_lots=[\n",
    "                models.TargetTaxLotRequest(\n",
    "                units=index_units,\n",
    "                cost=models.CurrencyAndAmount(\n",
    "                    amount=index_cost,\n",
    "                    currency='GBP'),\n",
    "                portfolio_cost=index_cost,\n",
    "                price=inception_price)\n",
    "            ]\n",
    "        )\n",
    "    )\n",
    "# Call LUSID to set all of our holdings to the initial index level\n",
    "adjust_holdings_response = client.transaction_portfolios.set_holdings(\n",
    "    scope=analyst_scope_code,\n",
    "    code=index_portfolio_code,\n",
    "    effective_at=portfolio_creation_date,\n",
    "    holding_adjustments=index_setup)\n",
    "\n",
    "prettyprint.set_holdings_response(\n",
    "    adjust_holdings_response, \n",
    "    analyst_scope_code, \n",
    "    index_portfolio_code)"
   ]
  },
  {
   "cell_type": "markdown",
   "metadata": {},
   "source": [
    "We now have an index portfolio that we can value."
   ]
  },
  {
   "cell_type": "markdown",
   "metadata": {},
   "source": [
    "![Scopes](img/paper-indexportfoliofilled.gif)"
   ]
  },
  {
   "cell_type": "code",
   "execution_count": 21,
   "metadata": {
    "pycharm": {
     "is_executing": false
    }
   },
   "outputs": [
    {
     "name": "stdout",
     "text": [
      "\u001b[1mInitial Index Level :\u001b[0m999.98\n\u001b[1mCurrent Index Level :\u001b[0m995.97\n\u001b[1mReturn :\u001b[0m-0.4013%\n"
     ],
     "output_type": "stream"
    }
   ],
   "source": [
    "# Create our aggregation request\n",
    "aggregation_request = models.AggregationRequest(\n",
    "    recipe_id=models.ResourceId(\n",
    "        scope=analyst_scope_code,\n",
    "        code='default'),\n",
    "        effective_at=today,\n",
    "        metrics=[\n",
    "            models.AggregateSpec(\n",
    "                key='Holding/default/PV',\n",
    "                op='Sum'),\n",
    "            models.AggregateSpec(\n",
    "                key='Holding/default/Cost',\n",
    "                op='Sum')\n",
    "        ],\n",
    "group_by=['Portfolio/default/Name'])\n",
    "                                                        \n",
    "# Call LUSID to aggregate across all of our portfolios\n",
    "aggregated_portfolio = client.aggregation.get_aggregation_by_portfolio(\n",
    "    scope=analyst_scope_code,\n",
    "    code=index_portfolio_code,\n",
    "    request=aggregation_request\n",
    ")\n",
    "\n",
    "# Pretty print the response from LUSID\n",
    "prettyprint.aggregation_response_index(aggregated_portfolio)"
   ]
  }
 ],
 "metadata": {
  "kernelspec": {
   "display_name": "Python 3",
   "language": "python",
   "name": "python3"
  },
  "language_info": {
   "codemirror_mode": {
    "name": "ipython",
    "version": 3
   },
   "file_extension": ".py",
   "mimetype": "text/x-python",
   "name": "python",
   "nbconvert_exporter": "python",
   "pygments_lexer": "ipython3",
   "version": "3.7.3"
  },
  "pycharm": {
   "stem_cell": {
    "cell_type": "raw",
    "source": [],
    "metadata": {
     "collapsed": false
    }
   }
  }
 },
 "nbformat": 4,
 "nbformat_minor": 2
}