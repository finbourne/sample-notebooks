{
 "cells": [
  {
   "cell_type": "code",
   "execution_count": 1,
   "metadata": {
    "pycharm": {
     "name": "#%%\n"
    }
   },
   "outputs": [
    {
     "data": {
      "text/plain": [
       "'Backtesting with derived portfolios\\n\\nAttributes\\n----------\\ncocoon\\ninstruments\\nholdings\\nquotes\\naggregation\\nderived portfolios\\n'"
      ]
     },
     "execution_count": 1,
     "metadata": {},
     "output_type": "execute_result"
    }
   ],
   "source": [
    "\"\"\"Backtesting with derived portfolios\n",
    "\n",
    "Attributes\n",
    "----------\n",
    "cocoon\n",
    "instruments\n",
    "holdings\n",
    "quotes\n",
    "aggregation\n",
    "derived portfolios\n",
    "\"\"\""
   ]
  },
  {
   "cell_type": "markdown",
   "metadata": {},
   "source": [
    "# Backtesting strategy selection on PnL \n",
    "\n",
    "The aim of this notebook is to show strategy backtesting using LUSID's derived portfolio functionality. In this notebook we will compare the performance of a US technology sector equity portfolio under two seperate scenarios. In the first scenario, the portfolio will be weighted towards \"Google\". In the second scenario, the portfolio will be weighted towards \"Netflix\". We will then compare PnL results. \n",
    "\n",
    "From a LUSID perspective, we will complete the following:\n",
    "\n",
    "(1) Setup the LUSID environment. <br>\n",
    "\n",
    "(2) Create our first portfolio. <br>\n",
    "\n",
    "(3) Load our FANG (Facebook, Apple, Netflix, Google) instrument master. <br>\n",
    "\n",
    "(4) Upsert initial holdings - the portfolio will have a 55% of NAV weighting to \"Google\". <br>\n",
    "\n",
    "(5) Upsert quotes to cover a 9 month period (1 Jan 2019 to 30 Sep 2019). <br>\n",
    "\n",
    "(6) Run aggregration on Google heavy portfolio. <br>\n",
    "\n",
    "(7) Plot the results of this portfolio on a graph. <br>\n",
    "\n",
    "(8) Did we make the correct allocation decision? By using LUSID's derived portfolios, we can wind back time and check performance of the portfolio if we allocated 55% to Netflix instead of Google. <br>\n",
    "\n",
    "(9) Plot and compare time series. <br>\n"
   ]
  },
  {
   "cell_type": "markdown",
   "metadata": {},
   "source": [
    "# Step 1: Import packages and initialize LUSID environment"
   ]
  },
  {
   "cell_type": "code",
   "execution_count": 2,
   "metadata": {
    "tags": []
   },
   "outputs": [
    {
     "name": "stdout",
     "output_type": "stream",
     "text": [
      "LUSID Environment Initialised\n",
      "LUSID SDK Version:  0.6.6405.0\n"
     ]
    }
   ],
   "source": [
    "# Import LUSID\n",
    "import lusid\n",
    "import lusid.models as models\n",
    "\n",
    "#import lusid_sample_data as import_data\n",
    "from lusidtools.cocoon import cocoon\n",
    "from lusidtools.cocoon import instruments as cocoon_instruments\n",
    "from lusidjam import RefreshingToken\n",
    "\n",
    "# Import Libraries\n",
    "import pprint\n",
    "from datetime import datetime, timedelta, time, date\n",
    "import pytz\n",
    "import uuid\n",
    "import os\n",
    "import printer as prettyprint\n",
    "from datetime import datetime\n",
    "import pandas as pd\n",
    "import numpy as np\n",
    "import lusid_sample_data as import_data\n",
    "import json\n",
    "\n",
    "# Authenticate our user and create our API client\n",
    "secrets_path = os.getenv(\"FBN_SECRETS_PATH\")\n",
    "\n",
    "api_factory = lusid.utilities.ApiClientFactory(\n",
    "    token=RefreshingToken(),\n",
    "    api_secrets_filename = secrets_path,\n",
    "    app_name=\"LusidJupyterNotebook\")\n",
    "    \n",
    "print ('LUSID Environment Initialised')\n",
    "print ('LUSID SDK Version: ', api_factory.build(lusid.api.ApplicationMetadataApi).get_lusid_versions().build_version)"
   ]
  },
  {
   "cell_type": "code",
   "execution_count": 3,
   "metadata": {},
   "outputs": [],
   "source": [
    "# Import ploting libraries and configuration\n",
    "import matplotlib.pyplot as plt\n",
    "\n",
    "# Use line magic function to enable matplotlib to work interactively with iPython\n",
    "\n",
    "%matplotlib inline\n",
    "\n",
    "# Set style to fivethirtyeight to create clean and clear looking graphs\n",
    "\n",
    "plt.style.use('fivethirtyeight')\n",
    "\n",
    "# Define a dictionary containing default plotting configurations\n",
    "\n",
    "params = {'legend.fontsize': 'small',\n",
    "          'figure.figsize': (12, 4.5),\n",
    "         'axes.labelsize': 'small',\n",
    "         'axes.titlesize': 'medium',\n",
    "         'xtick.labelsize': 'small',\n",
    "         'ytick.labelsize': 'small'}\n",
    "\n",
    "plt.rcParams.update(params)"
   ]
  },
  {
   "cell_type": "markdown",
   "metadata": {},
   "source": [
    "Define two portfolios:<br>\n",
    "\n",
    "(1) portfolioA will be used to test performance when 55% of the portfolio is weighted to Google. <br>\n",
    "\n",
    "(2) portfolioB will be used to test performance when 55% of the portfolio is weighted to Netflix. <br>"
   ]
  },
  {
   "cell_type": "code",
   "execution_count": 4,
   "metadata": {},
   "outputs": [],
   "source": [
    "portfolioA = \"US_TECH_A\"\n",
    "portfolioB = \"US_TECH_B\""
   ]
  },
  {
   "cell_type": "markdown",
   "metadata": {},
   "source": [
    "Define a scope.\n",
    "\n",
    "A scope in LUSID is a partioning of data. See our support page for [Scopes](https://support.lusid.com/what-is-a-scope-in-lusid-and-how-is-it-used) for more details:\n",
    "\n",
    "\n",
    "\n",
    "In this notebook, we will use the scope to partition portfolios, instruments, quotes and holdings data.\n",
    "\n"
   ]
  },
  {
   "cell_type": "code",
   "execution_count": 5,
   "metadata": {},
   "outputs": [],
   "source": [
    "scope = \"techStrategy\""
   ]
  },
  {
   "cell_type": "markdown",
   "metadata": {},
   "source": [
    "# Step 2: Create the first portfolio\n",
    "\n",
    "To get started, we first need to load a portfolio. The portfolio will be used to store holdings."
   ]
  },
  {
   "cell_type": "code",
   "execution_count": 6,
   "metadata": {},
   "outputs": [
    {
     "data": {
      "text/html": [
       "<div>\n",
       "<style scoped>\n",
       "    .dataframe tbody tr th:only-of-type {\n",
       "        vertical-align: middle;\n",
       "    }\n",
       "\n",
       "    .dataframe tbody tr th {\n",
       "        vertical-align: top;\n",
       "    }\n",
       "\n",
       "    .dataframe thead th {\n",
       "        text-align: right;\n",
       "    }\n",
       "</style>\n",
       "<table border=\"1\" class=\"dataframe\">\n",
       "  <thead>\n",
       "    <tr style=\"text-align: right;\">\n",
       "      <th></th>\n",
       "      <th>portfolio_ticker</th>\n",
       "      <th>portfolio_name</th>\n",
       "      <th>base_currency</th>\n",
       "      <th>created</th>\n",
       "      <th>location</th>\n",
       "    </tr>\n",
       "  </thead>\n",
       "  <tbody>\n",
       "    <tr>\n",
       "      <th>0</th>\n",
       "      <td>US_TECH_A</td>\n",
       "      <td>Portfolio for tech FANG strategy</td>\n",
       "      <td>USD</td>\n",
       "      <td>2018-01-01T14:39:32Z</td>\n",
       "      <td>UK</td>\n",
       "    </tr>\n",
       "  </tbody>\n",
       "</table>\n",
       "</div>"
      ],
      "text/plain": [
       "  portfolio_ticker                    portfolio_name base_currency  \\\n",
       "0        US_TECH_A  Portfolio for tech FANG strategy           USD   \n",
       "\n",
       "                created location  \n",
       "0  2018-01-01T14:39:32Z       UK  "
      ]
     },
     "execution_count": 6,
     "metadata": {},
     "output_type": "execute_result"
    }
   ],
   "source": [
    "# Load a CSV file of portfolio data into a pandas DataFrame\n",
    "\n",
    "portfolio_csv = r\"data/backtesting/backtesting_portfolios.csv\"\n",
    "df_portfolios_csv = pd.read_csv(portfolio_csv)\n",
    "df_portfolios_csv[\"portfolio_ticker\"] = portfolioA\n",
    "df_portfolios_csv"
   ]
  },
  {
   "cell_type": "code",
   "execution_count": 7,
   "metadata": {},
   "outputs": [],
   "source": [
    "# Create a dictionary of mappings\n",
    "# The dictionary keys are the names for values in LUSID\n",
    "# The dictionary values are the names in our CSV column headers\n",
    "\n",
    "mapping_required = {\n",
    "    \"display_name\": \"portfolio_name\",\n",
    "    \"code\": \"portfolio_ticker\",\n",
    "    \"base_currency\": \"base_currency\",\n",
    "    }\n",
    "\n",
    "\n",
    "mapping_optional = {\n",
    "        \"description\": \"portfolio_name\",\n",
    "        \"created\": \"created\"\n",
    "}"
   ]
  },
  {
   "cell_type": "code",
   "execution_count": 8,
   "metadata": {},
   "outputs": [],
   "source": [
    "# Use the load_from_data_frame method from LUSID's Python cocoon package to upload the portfolio\n",
    "\n",
    "response = cocoon.load_from_data_frame(api_factory=api_factory,\n",
    "                            scope=scope,\n",
    "                            data_frame=df_portfolios_csv,\n",
    "                            property_columns=[\"location\"],\n",
    "                            mapping_required=mapping_required,\n",
    "                            mapping_optional=mapping_optional,\n",
    "                            file_type=\"portfolios\"\n",
    ")"
   ]
  },
  {
   "cell_type": "markdown",
   "metadata": {},
   "source": [
    "# Step 3: Upsert our instrument master\n",
    "\n",
    "Next we upsert some instruments into LUSID. Simliar to the above, the instruments will be created from a CSV file."
   ]
  },
  {
   "cell_type": "code",
   "execution_count": 9,
   "metadata": {},
   "outputs": [
    {
     "data": {
      "text/html": [
       "<div>\n",
       "<style scoped>\n",
       "    .dataframe tbody tr th:only-of-type {\n",
       "        vertical-align: middle;\n",
       "    }\n",
       "\n",
       "    .dataframe tbody tr th {\n",
       "        vertical-align: top;\n",
       "    }\n",
       "\n",
       "    .dataframe thead th {\n",
       "        text-align: right;\n",
       "    }\n",
       "</style>\n",
       "<table border=\"1\" class=\"dataframe\">\n",
       "  <thead>\n",
       "    <tr style=\"text-align: right;\">\n",
       "      <th></th>\n",
       "      <th>name</th>\n",
       "      <th>Ticker</th>\n",
       "      <th>ClientInternal</th>\n",
       "      <th>QuotePermId</th>\n",
       "      <th>MarketSector</th>\n",
       "    </tr>\n",
       "  </thead>\n",
       "  <tbody>\n",
       "    <tr>\n",
       "      <th>0</th>\n",
       "      <td>Alphabet</td>\n",
       "      <td>GOOG</td>\n",
       "      <td>EQ38475943</td>\n",
       "      <td>1-8590928320</td>\n",
       "      <td>Equity</td>\n",
       "    </tr>\n",
       "    <tr>\n",
       "      <th>1</th>\n",
       "      <td>Facebook</td>\n",
       "      <td>FB</td>\n",
       "      <td>EQ26845198</td>\n",
       "      <td>1-8590932301</td>\n",
       "      <td>Equity</td>\n",
       "    </tr>\n",
       "    <tr>\n",
       "      <th>2</th>\n",
       "      <td>Netflix</td>\n",
       "      <td>NFLX</td>\n",
       "      <td>EQ36852475</td>\n",
       "      <td>1-8590930194</td>\n",
       "      <td>Equity</td>\n",
       "    </tr>\n",
       "    <tr>\n",
       "      <th>3</th>\n",
       "      <td>Apple</td>\n",
       "      <td>AAPL</td>\n",
       "      <td>EQ38451369</td>\n",
       "      <td>1-4295989835</td>\n",
       "      <td>Equity</td>\n",
       "    </tr>\n",
       "  </tbody>\n",
       "</table>\n",
       "</div>"
      ],
      "text/plain": [
       "       name Ticker ClientInternal   QuotePermId MarketSector\n",
       "0  Alphabet   GOOG     EQ38475943  1-8590928320       Equity\n",
       "1  Facebook     FB     EQ26845198  1-8590932301       Equity\n",
       "2   Netflix   NFLX     EQ36852475  1-8590930194       Equity\n",
       "3     Apple   AAPL     EQ38451369  1-4295989835       Equity"
      ]
     },
     "execution_count": 9,
     "metadata": {},
     "output_type": "execute_result"
    }
   ],
   "source": [
    "# Load an instruments file from CSV\n",
    "# The details will be stored in a Pandas DataFrame\n",
    "\n",
    "instruments_csv = r\"data/backtesting/backtesting_instruments.csv\"\n",
    "df_instruments = pd.read_csv(instruments_csv)\n",
    "df_instruments"
   ]
  },
  {
   "cell_type": "code",
   "execution_count": 10,
   "metadata": {},
   "outputs": [],
   "source": [
    "#Create dictionaries of mappings\n",
    "\n",
    "mapping_required = {\n",
    "    \"name\": \"name\",\n",
    "    }\n",
    "\n",
    "# This time, we also need to tell LUSID about our unique identifiers\n",
    "# All instruments in LUSID need a unique identifier\n",
    "\n",
    "identifiers = {\n",
    "    \"ClientInternal\": \"ClientInternal\",\n",
    "    \"Ticker\": \"Ticker\"\n",
    "}"
   ]
  },
  {
   "cell_type": "code",
   "execution_count": 11,
   "metadata": {},
   "outputs": [],
   "source": [
    "# Call cocoon again\n",
    "# But this time we use a file_type of \"instruments\" to call the instruments endpoint\n",
    "\n",
    "response = cocoon.load_from_data_frame(api_factory=api_factory,\n",
    "                            scope=scope,\n",
    "                            data_frame=df_instruments,\n",
    "                            mapping_required=mapping_required,\n",
    "                            mapping_optional={},\n",
    "                            file_type=\"instruments\",\n",
    "                            identifier_mapping=identifiers\n",
    ")"
   ]
  },
  {
   "cell_type": "markdown",
   "metadata": {},
   "source": [
    "# Step 4: Create initial holdings for 1 Jan 2019\n",
    "\n",
    "Now that we have a portfolio and some instruments, we want to create holdings in that portfolio using those instruments."
   ]
  },
  {
   "cell_type": "code",
   "execution_count": 12,
   "metadata": {},
   "outputs": [
    {
     "data": {
      "text/html": [
       "<div>\n",
       "<style scoped>\n",
       "    .dataframe tbody tr th:only-of-type {\n",
       "        vertical-align: middle;\n",
       "    }\n",
       "\n",
       "    .dataframe tbody tr th {\n",
       "        vertical-align: top;\n",
       "    }\n",
       "\n",
       "    .dataframe thead th {\n",
       "        text-align: right;\n",
       "    }\n",
       "</style>\n",
       "<table border=\"1\" class=\"dataframe\">\n",
       "  <thead>\n",
       "    <tr style=\"text-align: right;\">\n",
       "      <th></th>\n",
       "      <th>portfolio_code</th>\n",
       "      <th>instrument_name</th>\n",
       "      <th>quantity</th>\n",
       "      <th>price</th>\n",
       "      <th>currency</th>\n",
       "      <th>QuotePermId</th>\n",
       "      <th>ClientInternal</th>\n",
       "      <th>effective_at</th>\n",
       "      <th>market_value</th>\n",
       "    </tr>\n",
       "  </thead>\n",
       "  <tbody>\n",
       "    <tr>\n",
       "      <th>0</th>\n",
       "      <td>US_TECH_A</td>\n",
       "      <td>Alphabet</td>\n",
       "      <td>52632</td>\n",
       "      <td>1045.00</td>\n",
       "      <td>USD</td>\n",
       "      <td>1-8590928320</td>\n",
       "      <td>EQ38475943</td>\n",
       "      <td>2019-01-01T00:00:00Z</td>\n",
       "      <td>55000440.00</td>\n",
       "    </tr>\n",
       "    <tr>\n",
       "      <th>1</th>\n",
       "      <td>US_TECH_A</td>\n",
       "      <td>Apple</td>\n",
       "      <td>94985</td>\n",
       "      <td>157.92</td>\n",
       "      <td>USD</td>\n",
       "      <td>1-4295989835</td>\n",
       "      <td>EQ38451369</td>\n",
       "      <td>2019-01-01T00:00:00Z</td>\n",
       "      <td>15000031.20</td>\n",
       "    </tr>\n",
       "    <tr>\n",
       "      <th>2</th>\n",
       "      <td>US_TECH_A</td>\n",
       "      <td>Netflix</td>\n",
       "      <td>56041</td>\n",
       "      <td>267.66</td>\n",
       "      <td>USD</td>\n",
       "      <td>1-8590930194</td>\n",
       "      <td>EQ36852475</td>\n",
       "      <td>2019-01-01T00:00:00Z</td>\n",
       "      <td>14999934.06</td>\n",
       "    </tr>\n",
       "    <tr>\n",
       "      <th>3</th>\n",
       "      <td>US_TECH_A</td>\n",
       "      <td>Facebook</td>\n",
       "      <td>110554</td>\n",
       "      <td>135.68</td>\n",
       "      <td>USD</td>\n",
       "      <td>1-8590932301</td>\n",
       "      <td>EQ26845198</td>\n",
       "      <td>2019-01-01T00:00:00Z</td>\n",
       "      <td>14999966.72</td>\n",
       "    </tr>\n",
       "  </tbody>\n",
       "</table>\n",
       "</div>"
      ],
      "text/plain": [
       "  portfolio_code instrument_name  quantity   price currency   QuotePermId  \\\n",
       "0      US_TECH_A        Alphabet     52632 1045.00      USD  1-8590928320   \n",
       "1      US_TECH_A           Apple     94985  157.92      USD  1-4295989835   \n",
       "2      US_TECH_A         Netflix     56041  267.66      USD  1-8590930194   \n",
       "3      US_TECH_A        Facebook    110554  135.68      USD  1-8590932301   \n",
       "\n",
       "  ClientInternal          effective_at  market_value  \n",
       "0     EQ38475943  2019-01-01T00:00:00Z   55000440.00  \n",
       "1     EQ38451369  2019-01-01T00:00:00Z   15000031.20  \n",
       "2     EQ36852475  2019-01-01T00:00:00Z   14999934.06  \n",
       "3     EQ26845198  2019-01-01T00:00:00Z   14999966.72  "
      ]
     },
     "execution_count": 12,
     "metadata": {},
     "output_type": "execute_result"
    }
   ],
   "source": [
    "# Load holdings into DataFrame\n",
    "\n",
    "holdings_csv = r\"data/backtesting/backtesting_holdings.csv\"\n",
    "df_holdings = pd.read_csv(holdings_csv)\n",
    "df_holdings[\"effective_at\"] = \"2019-01-01T00:00:00Z\"\n",
    "df_holdings[\"portfolio_code\"] = portfolioA\n",
    "df_holdings[\"market_value\"] = df_holdings[\"quantity\"] * df_holdings[\"price\"]\n",
    "df_holdings"
   ]
  },
  {
   "cell_type": "code",
   "execution_count": 13,
   "metadata": {},
   "outputs": [],
   "source": [
    "def pie_plot():\n",
    "    plt.style.use('fivethirtyeight')\n",
    "    pie_plot = df_holdings.plot.pie(y=\"market_value\",\n",
    "                        labels=df_holdings[\"instrument_name\"].values,\n",
    "                        figsize=(11, 11),\n",
    "                        title=f\"Allocation of portfolio {portfolioA} to FANG stocks by % of NAV\",\n",
    "                        explode=(0.025, 0, 0, 0),\n",
    "                        startangle=140,\n",
    "                        autopct='%1.1f%%',\n",
    "                        textprops={'fontsize': 16})\n",
    "\n",
    "    pie_plot.set_ylabel('')\n",
    "    pie_plot.legend(loc=4,prop={'size':14})\n",
    "    pie_plot.set_title(f\"Allocation of portfolio {portfolioA} to FANG stocks by % of NAV\", fontsize=20)"
   ]
  },
  {
   "cell_type": "code",
   "execution_count": 14,
   "metadata": {},
   "outputs": [
    {
     "data": {
      "image/png": "[encoded data removed]",
      "text/plain": [
       "<Figure size 792x792 with 1 Axes>"
      ]
     },
     "metadata": {},
     "output_type": "display_data"
    }
   ],
   "source": [
    "pie_plot()"
   ]
  },
  {
   "cell_type": "code",
   "execution_count": 15,
   "metadata": {},
   "outputs": [],
   "source": [
    "# Provide mappings (as above)\n",
    "# Adding a $ prefix to the dict value will hardcode that value into the LUSID call\n",
    "# In the example below, we only want to set holdings, we are not concerned about the cash impact.\n",
    "# Therefore we set the portfolio_cost and cost.amount to 0\n",
    "\n",
    "mapping_required = {\n",
    "    \"name\": \"instrument_name\",\n",
    "    \"effective_at\": \"effective_at\",\n",
    "    \"code\": \"portfolio_code\",\n",
    "    \"tax_lots.units\": \"quantity\",\n",
    "    \"tax_lots.price\": \"price\",\n",
    "    \"tax_lots.portfolio_cost\": \"market_value\",\n",
    "    \"tax_lots.cost.currency\": \"currency\",\n",
    "    \"tax_lots.cost.amount\": \"market_value\"\n",
    "    }\n",
    "\n",
    "identifiers = {\n",
    "    \"ClientInternal\": \"ClientInternal\",\n",
    "}"
   ]
  },
  {
   "cell_type": "code",
   "execution_count": 16,
   "metadata": {},
   "outputs": [],
   "source": [
    "# Run the load_from_data_frame cocoon method again\n",
    "# This time we upload holdings\n",
    "\n",
    "response = cocoon.load_from_data_frame(api_factory=api_factory,\n",
    "                            scope=scope,\n",
    "                            data_frame=df_holdings,\n",
    "                            mapping_required=mapping_required,\n",
    "                            mapping_optional={},\n",
    "                            file_type=\"holdings\",\n",
    "                            identifier_mapping=identifiers\n",
    ")"
   ]
  },
  {
   "cell_type": "markdown",
   "metadata": {},
   "source": [
    "# Step 5: Upload quotes\n",
    "\n",
    "Next we need some quotes, to produce our valuations. In this example, the quotes will be loaded from an external CSV file."
   ]
  },
  {
   "cell_type": "code",
   "execution_count": 17,
   "metadata": {},
   "outputs": [
    {
     "data": {
      "text/html": [
       "<div>\n",
       "<style scoped>\n",
       "    .dataframe tbody tr th:only-of-type {\n",
       "        vertical-align: middle;\n",
       "    }\n",
       "\n",
       "    .dataframe tbody tr th {\n",
       "        vertical-align: top;\n",
       "    }\n",
       "\n",
       "    .dataframe thead th {\n",
       "        text-align: right;\n",
       "    }\n",
       "</style>\n",
       "<table border=\"1\" class=\"dataframe\">\n",
       "  <thead>\n",
       "    <tr style=\"text-align: right;\">\n",
       "      <th></th>\n",
       "      <th>quote_date</th>\n",
       "      <th>client_internal</th>\n",
       "      <th>price</th>\n",
       "    </tr>\n",
       "  </thead>\n",
       "  <tbody>\n",
       "    <tr>\n",
       "      <th>0</th>\n",
       "      <td>2019-01-02T00:00:00Z</td>\n",
       "      <td>EQ38475943</td>\n",
       "      <td>1045.85</td>\n",
       "    </tr>\n",
       "    <tr>\n",
       "      <th>1</th>\n",
       "      <td>2019-01-03T00:00:00Z</td>\n",
       "      <td>EQ38475943</td>\n",
       "      <td>1016.06</td>\n",
       "    </tr>\n",
       "  </tbody>\n",
       "</table>\n",
       "</div>"
      ],
      "text/plain": [
       "             quote_date client_internal   price\n",
       "0  2019-01-02T00:00:00Z      EQ38475943 1045.85\n",
       "1  2019-01-03T00:00:00Z      EQ38475943 1016.06"
      ]
     },
     "execution_count": 17,
     "metadata": {},
     "output_type": "execute_result"
    }
   ],
   "source": [
    "quotes_csv = r\"data/backtesting/backtesting_quotes.csv\"\n",
    "df_quotes = pd.read_csv(quotes_csv)\n",
    "df_quotes.head(2)"
   ]
  },
  {
   "cell_type": "code",
   "execution_count": 18,
   "metadata": {},
   "outputs": [
    {
     "data": {
      "text/html": [
       "<div>\n",
       "<style scoped>\n",
       "    .dataframe tbody tr th:only-of-type {\n",
       "        vertical-align: middle;\n",
       "    }\n",
       "\n",
       "    .dataframe tbody tr th {\n",
       "        vertical-align: top;\n",
       "    }\n",
       "\n",
       "    .dataframe thead th {\n",
       "        text-align: right;\n",
       "    }\n",
       "</style>\n",
       "<table border=\"1\" class=\"dataframe\">\n",
       "  <thead>\n",
       "    <tr style=\"text-align: right;\">\n",
       "      <th></th>\n",
       "      <th>quote_date</th>\n",
       "      <th>client_internal</th>\n",
       "      <th>price</th>\n",
       "    </tr>\n",
       "  </thead>\n",
       "  <tbody>\n",
       "    <tr>\n",
       "      <th>0</th>\n",
       "      <td>2019-01-02T00:00:00Z</td>\n",
       "      <td>EQ38475943</td>\n",
       "      <td>1045.85</td>\n",
       "    </tr>\n",
       "    <tr>\n",
       "      <th>187</th>\n",
       "      <td>2019-01-02T00:00:00Z</td>\n",
       "      <td>EQ38451369</td>\n",
       "      <td>155.58</td>\n",
       "    </tr>\n",
       "    <tr>\n",
       "      <th>374</th>\n",
       "      <td>2019-01-02T00:00:00Z</td>\n",
       "      <td>EQ36852475</td>\n",
       "      <td>267.66</td>\n",
       "    </tr>\n",
       "    <tr>\n",
       "      <th>561</th>\n",
       "      <td>2019-01-02T00:00:00Z</td>\n",
       "      <td>EQ26845198</td>\n",
       "      <td>135.68</td>\n",
       "    </tr>\n",
       "  </tbody>\n",
       "</table>\n",
       "</div>"
      ],
      "text/plain": [
       "               quote_date client_internal   price\n",
       "0    2019-01-02T00:00:00Z      EQ38475943 1045.85\n",
       "187  2019-01-02T00:00:00Z      EQ38451369  155.58\n",
       "374  2019-01-02T00:00:00Z      EQ36852475  267.66\n",
       "561  2019-01-02T00:00:00Z      EQ26845198  135.68"
      ]
     },
     "execution_count": 18,
     "metadata": {},
     "output_type": "execute_result"
    }
   ],
   "source": [
    "df_quotes.loc[df_quotes[\"quote_date\"] == \"2019-01-02T00:00:00Z\"]"
   ]
  },
  {
   "cell_type": "markdown",
   "metadata": {},
   "source": [
    "We now have the quotes in a DataFrame, which is great. However we also want to provide the LUID. To resolve this problem, we take our client_internal ID and search the APIs for a LUID which is appended to each row in the DataFrame. <br>"
   ]
  },
  {
   "cell_type": "code",
   "execution_count": 19,
   "metadata": {},
   "outputs": [],
   "source": [
    "def add_luid_id(data_frame):\n",
    "    \n",
    "    client_ids = pd.DataFrame(list(df_holdings[\"ClientInternal\"].unique()), columns=[\"client_internal\"])\n",
    "    client_ids[\"LUID\"] = client_ids[\"client_internal\"].apply(\n",
    "    lambda x: api_factory.build(lusid.api.InstrumentsApi).get_instrument(\n",
    "        identifier_type=\"ClientInternal\",\n",
    "        identifier=x).lusid_instrument_id)\n",
    "    \n",
    "    client_ids = client_ids.set_index(\"client_internal\")\n",
    "    \n",
    "    data_frame['LUID'] = data_frame[\"client_internal\"].apply(lambda x: client_ids.loc[x][\"LUID\"])\n",
    "    \n",
    "    return data_frame"
   ]
  },
  {
   "cell_type": "code",
   "execution_count": 20,
   "metadata": {},
   "outputs": [],
   "source": [
    "df_quotes = add_luid_id(df_quotes)"
   ]
  },
  {
   "cell_type": "code",
   "execution_count": 21,
   "metadata": {},
   "outputs": [],
   "source": [
    "# Define our mapping dictionaries\n",
    "\n",
    "mapping_required = {\n",
    "    \"quote_id.quote_series_id.instrument_id_type\": \"$LusidInstrumentId\",\n",
    "    \"quote_id.effective_at\": \"quote_date\",\n",
    "    \"quote_id.quote_series_id.provider\": \"$DataScope\",\n",
    "    \"quote_id.quote_series_id.field\": \"$mid\",\n",
    "    \"quote_id.quote_series_id.quote_type\": \"$Price\",\n",
    "    \"quote_id.quote_series_id.instrument_id\": \"LUID\",\n",
    "    \"metric_value.unit\": \"$USD\",\n",
    "    \"metric_value.value\": \"price\"\n",
    "    }"
   ]
  },
  {
   "cell_type": "code",
   "execution_count": 22,
   "metadata": {},
   "outputs": [
    {
     "data": {
      "text/html": [
       "<div>\n",
       "<style scoped>\n",
       "    .dataframe tbody tr th:only-of-type {\n",
       "        vertical-align: middle;\n",
       "    }\n",
       "\n",
       "    .dataframe tbody tr th {\n",
       "        vertical-align: top;\n",
       "    }\n",
       "\n",
       "    .dataframe thead th {\n",
       "        text-align: right;\n",
       "    }\n",
       "</style>\n",
       "<table border=\"1\" class=\"dataframe\">\n",
       "  <thead>\n",
       "    <tr style=\"text-align: right;\">\n",
       "      <th></th>\n",
       "      <th>_lineage</th>\n",
       "      <th>_cut_label</th>\n",
       "      <th>_uploaded_by</th>\n",
       "      <th>_as_at</th>\n",
       "      <th>discriminator</th>\n",
       "      <th>_provider</th>\n",
       "      <th>_price_source</th>\n",
       "      <th>_instrument_id</th>\n",
       "      <th>_instrument_id_type</th>\n",
       "      <th>_quote_type</th>\n",
       "      <th>_field</th>\n",
       "      <th>_value</th>\n",
       "      <th>_unit</th>\n",
       "      <th>status</th>\n",
       "    </tr>\n",
       "  </thead>\n",
       "  <tbody>\n",
       "    <tr>\n",
       "      <th>0</th>\n",
       "      <td></td>\n",
       "      <td></td>\n",
       "      <td>00u681arbmRvUDxQN2p7</td>\n",
       "      <td>2021-02-24 12:53:59.312562+00:00</td>\n",
       "      <td>None</td>\n",
       "      <td>DataScope</td>\n",
       "      <td>None</td>\n",
       "      <td>LUID_Q2GASM3H</td>\n",
       "      <td>LusidInstrumentId</td>\n",
       "      <td>Price</td>\n",
       "      <td>mid</td>\n",
       "      <td>1045.85</td>\n",
       "      <td>USD</td>\n",
       "      <td>Success</td>\n",
       "    </tr>\n",
       "    <tr>\n",
       "      <th>1</th>\n",
       "      <td></td>\n",
       "      <td></td>\n",
       "      <td>00u681arbmRvUDxQN2p7</td>\n",
       "      <td>2021-02-24 12:53:59.312562+00:00</td>\n",
       "      <td>None</td>\n",
       "      <td>DataScope</td>\n",
       "      <td>None</td>\n",
       "      <td>LUID_Q2GASM3H</td>\n",
       "      <td>LusidInstrumentId</td>\n",
       "      <td>Price</td>\n",
       "      <td>mid</td>\n",
       "      <td>1016.06</td>\n",
       "      <td>USD</td>\n",
       "      <td>Success</td>\n",
       "    </tr>\n",
       "    <tr>\n",
       "      <th>2</th>\n",
       "      <td></td>\n",
       "      <td></td>\n",
       "      <td>00u681arbmRvUDxQN2p7</td>\n",
       "      <td>2021-02-24 12:53:59.312562+00:00</td>\n",
       "      <td>None</td>\n",
       "      <td>DataScope</td>\n",
       "      <td>None</td>\n",
       "      <td>LUID_Q2GASM3H</td>\n",
       "      <td>LusidInstrumentId</td>\n",
       "      <td>Price</td>\n",
       "      <td>mid</td>\n",
       "      <td>1070.71</td>\n",
       "      <td>USD</td>\n",
       "      <td>Success</td>\n",
       "    </tr>\n",
       "    <tr>\n",
       "      <th>3</th>\n",
       "      <td></td>\n",
       "      <td></td>\n",
       "      <td>00u681arbmRvUDxQN2p7</td>\n",
       "      <td>2021-02-24 12:53:59.312562+00:00</td>\n",
       "      <td>None</td>\n",
       "      <td>DataScope</td>\n",
       "      <td>None</td>\n",
       "      <td>LUID_Q2GASM3H</td>\n",
       "      <td>LusidInstrumentId</td>\n",
       "      <td>Price</td>\n",
       "      <td>mid</td>\n",
       "      <td>1068.39</td>\n",
       "      <td>USD</td>\n",
       "      <td>Success</td>\n",
       "    </tr>\n",
       "    <tr>\n",
       "      <th>4</th>\n",
       "      <td></td>\n",
       "      <td></td>\n",
       "      <td>00u681arbmRvUDxQN2p7</td>\n",
       "      <td>2021-02-24 12:53:59.312562+00:00</td>\n",
       "      <td>None</td>\n",
       "      <td>DataScope</td>\n",
       "      <td>None</td>\n",
       "      <td>LUID_Q2GASM3H</td>\n",
       "      <td>LusidInstrumentId</td>\n",
       "      <td>Price</td>\n",
       "      <td>mid</td>\n",
       "      <td>1076.28</td>\n",
       "      <td>USD</td>\n",
       "      <td>Success</td>\n",
       "    </tr>\n",
       "    <tr>\n",
       "      <th>5</th>\n",
       "      <td></td>\n",
       "      <td></td>\n",
       "      <td>00u681arbmRvUDxQN2p7</td>\n",
       "      <td>2021-02-24 12:53:59.312562+00:00</td>\n",
       "      <td>None</td>\n",
       "      <td>DataScope</td>\n",
       "      <td>None</td>\n",
       "      <td>LUID_Q2GASM3H</td>\n",
       "      <td>LusidInstrumentId</td>\n",
       "      <td>Price</td>\n",
       "      <td>mid</td>\n",
       "      <td>1074.66</td>\n",
       "      <td>USD</td>\n",
       "      <td>Success</td>\n",
       "    </tr>\n",
       "    <tr>\n",
       "      <th>6</th>\n",
       "      <td></td>\n",
       "      <td></td>\n",
       "      <td>00u681arbmRvUDxQN2p7</td>\n",
       "      <td>2021-02-24 12:53:59.312562+00:00</td>\n",
       "      <td>None</td>\n",
       "      <td>DataScope</td>\n",
       "      <td>None</td>\n",
       "      <td>LUID_Q2GASM3H</td>\n",
       "      <td>LusidInstrumentId</td>\n",
       "      <td>Price</td>\n",
       "      <td>mid</td>\n",
       "      <td>1070.33</td>\n",
       "      <td>USD</td>\n",
       "      <td>Success</td>\n",
       "    </tr>\n",
       "    <tr>\n",
       "      <th>7</th>\n",
       "      <td></td>\n",
       "      <td></td>\n",
       "      <td>00u681arbmRvUDxQN2p7</td>\n",
       "      <td>2021-02-24 12:53:59.312562+00:00</td>\n",
       "      <td>None</td>\n",
       "      <td>DataScope</td>\n",
       "      <td>None</td>\n",
       "      <td>LUID_Q2GASM3H</td>\n",
       "      <td>LusidInstrumentId</td>\n",
       "      <td>Price</td>\n",
       "      <td>mid</td>\n",
       "      <td>1057.19</td>\n",
       "      <td>USD</td>\n",
       "      <td>Success</td>\n",
       "    </tr>\n",
       "    <tr>\n",
       "      <th>8</th>\n",
       "      <td></td>\n",
       "      <td></td>\n",
       "      <td>00u681arbmRvUDxQN2p7</td>\n",
       "      <td>2021-02-24 12:53:59.312562+00:00</td>\n",
       "      <td>None</td>\n",
       "      <td>DataScope</td>\n",
       "      <td>None</td>\n",
       "      <td>LUID_Q2GASM3H</td>\n",
       "      <td>LusidInstrumentId</td>\n",
       "      <td>Price</td>\n",
       "      <td>mid</td>\n",
       "      <td>1044.69</td>\n",
       "      <td>USD</td>\n",
       "      <td>Success</td>\n",
       "    </tr>\n",
       "    <tr>\n",
       "      <th>9</th>\n",
       "      <td></td>\n",
       "      <td></td>\n",
       "      <td>00u681arbmRvUDxQN2p7</td>\n",
       "      <td>2021-02-24 12:53:59.312562+00:00</td>\n",
       "      <td>None</td>\n",
       "      <td>DataScope</td>\n",
       "      <td>None</td>\n",
       "      <td>LUID_Q2GASM3H</td>\n",
       "      <td>LusidInstrumentId</td>\n",
       "      <td>Price</td>\n",
       "      <td>mid</td>\n",
       "      <td>1077.15</td>\n",
       "      <td>USD</td>\n",
       "      <td>Success</td>\n",
       "    </tr>\n",
       "  </tbody>\n",
       "</table>\n",
       "</div>"
      ],
      "text/plain": [
       "  _lineage _cut_label          _uploaded_by                           _as_at  \\\n",
       "0                      00u681arbmRvUDxQN2p7 2021-02-24 12:53:59.312562+00:00   \n",
       "1                      00u681arbmRvUDxQN2p7 2021-02-24 12:53:59.312562+00:00   \n",
       "2                      00u681arbmRvUDxQN2p7 2021-02-24 12:53:59.312562+00:00   \n",
       "3                      00u681arbmRvUDxQN2p7 2021-02-24 12:53:59.312562+00:00   \n",
       "4                      00u681arbmRvUDxQN2p7 2021-02-24 12:53:59.312562+00:00   \n",
       "5                      00u681arbmRvUDxQN2p7 2021-02-24 12:53:59.312562+00:00   \n",
       "6                      00u681arbmRvUDxQN2p7 2021-02-24 12:53:59.312562+00:00   \n",
       "7                      00u681arbmRvUDxQN2p7 2021-02-24 12:53:59.312562+00:00   \n",
       "8                      00u681arbmRvUDxQN2p7 2021-02-24 12:53:59.312562+00:00   \n",
       "9                      00u681arbmRvUDxQN2p7 2021-02-24 12:53:59.312562+00:00   \n",
       "\n",
       "  discriminator  _provider _price_source _instrument_id _instrument_id_type  \\\n",
       "0          None  DataScope          None  LUID_Q2GASM3H   LusidInstrumentId   \n",
       "1          None  DataScope          None  LUID_Q2GASM3H   LusidInstrumentId   \n",
       "2          None  DataScope          None  LUID_Q2GASM3H   LusidInstrumentId   \n",
       "3          None  DataScope          None  LUID_Q2GASM3H   LusidInstrumentId   \n",
       "4          None  DataScope          None  LUID_Q2GASM3H   LusidInstrumentId   \n",
       "5          None  DataScope          None  LUID_Q2GASM3H   LusidInstrumentId   \n",
       "6          None  DataScope          None  LUID_Q2GASM3H   LusidInstrumentId   \n",
       "7          None  DataScope          None  LUID_Q2GASM3H   LusidInstrumentId   \n",
       "8          None  DataScope          None  LUID_Q2GASM3H   LusidInstrumentId   \n",
       "9          None  DataScope          None  LUID_Q2GASM3H   LusidInstrumentId   \n",
       "\n",
       "  _quote_type _field  _value _unit   status  \n",
       "0       Price    mid 1045.85   USD  Success  \n",
       "1       Price    mid 1016.06   USD  Success  \n",
       "2       Price    mid 1070.71   USD  Success  \n",
       "3       Price    mid 1068.39   USD  Success  \n",
       "4       Price    mid 1076.28   USD  Success  \n",
       "5       Price    mid 1074.66   USD  Success  \n",
       "6       Price    mid 1070.33   USD  Success  \n",
       "7       Price    mid 1057.19   USD  Success  \n",
       "8       Price    mid 1044.69   USD  Success  \n",
       "9       Price    mid 1077.15   USD  Success  "
      ]
     },
     "execution_count": 22,
     "metadata": {},
     "output_type": "execute_result"
    }
   ],
   "source": [
    "# Run cocoon again, this time for quotes\n",
    "\n",
    "response = cocoon.load_from_data_frame(api_factory = api_factory,\n",
    "                            scope=scope,\n",
    "                            data_frame=df_quotes,\n",
    "                            mapping_required=mapping_required,\n",
    "                            mapping_optional={},\n",
    "                            file_type=\"quotes\"\n",
    ")\n",
    "\n",
    "prettyprint.upsert_quotes_response(response[\"quotes\"][\"success\"][0]).head(10)"
   ]
  },
  {
   "cell_type": "markdown",
   "metadata": {},
   "source": [
    "# Step 6: Run aggregration on portfolio\n",
    "\n",
    "Now we have all our data in LUSID to produce a valuation. Let's see how well our portfolio performed between 1 Jan and 30 Sep. Was it a good idea to allocate 55% to Google?"
   ]
  },
  {
   "cell_type": "code",
   "execution_count": 23,
   "metadata": {},
   "outputs": [],
   "source": [
    "# Create a recipe to perform a valuation\n",
    "\n",
    "configuration_recipe_api = api_factory.build(lusid.api.ConfigurationRecipeApi)\n",
    "\n",
    "configuration_recipe =  models.ConfigurationRecipe(\n",
    "        scope=\"User\",\n",
    "        code='quotes_recipe',\n",
    "        market=models.MarketContext(\n",
    "            market_rules=[\n",
    "                models.MarketDataKeyRule(\n",
    "                   key='Equity.LusidInstrumentId.*',\n",
    "                   supplier='DataScope',\n",
    "                   data_scope=scope,\n",
    "                   quote_type='Price',\n",
    "                   field='mid',\n",
    "                   #quote_interval=date.strftime(\"%Y-%m-%d\") + \".0D\"\n",
    "                    quote_interval = \"1W\"\n",
    "                )\n",
    "            ],\n",
    "            suppliers=models.MarketContextSuppliers(\n",
    "                commodity='DataScope',\n",
    "                credit='DataScope',\n",
    "                equity='DataScope',\n",
    "                fx='DataScope',\n",
    "                rates='DataScope'),\n",
    "            \n",
    "            options=models.MarketOptions(\n",
    "                default_supplier='DataScope',\n",
    "                default_instrument_code_type='LusidInstrumentId',\n",
    "                default_scope=scope\n",
    "            )\n",
    "        ),\n",
    "    )\n",
    "\n",
    "upsert_configuration_recipe_response = configuration_recipe_api.upsert_configuration_recipe(\n",
    "    upsert_recipe_request = models.UpsertRecipeRequest(\n",
    "    configuration_recipe = configuration_recipe\n",
    "    )\n",
    ")"
   ]
  },
  {
   "cell_type": "code",
   "execution_count": 24,
   "metadata": {},
   "outputs": [],
   "source": [
    "# Create an aggregration function\n",
    "# This function takes two parameters of data and portfolio_code\n",
    "# It returns a valuation of the portfolio for the date\n",
    "# The return is a list of format [portfolio, date, valuation]\n",
    "# Example [TECH_PORTFOLIO, 2019-10-10, 10000000]\n",
    "\n",
    "def run_agg(start_date, end_date, portfolio_code):\n",
    "    \n",
    "    # Create the valuation request\n",
    "    valuation_request = models.ValuationRequest(\n",
    "        recipe_id= models.ResourceId(scope=\"User\", code='quotes_recipe'),\n",
    "        metrics=[\n",
    "            models.AggregateSpec(key='Analytic/default/ValuationDate',\n",
    "            op='Value'),\n",
    "            models.AggregateSpec(key='Holding/default/PV',\n",
    "            op='Sum'),\n",
    "\n",
    "        ],\n",
    "        group_by=[\n",
    "            'Analytic/default/ValuationDate',\n",
    "        ],    \n",
    "        portfolio_entity_ids=[models.PortfolioEntityId(scope=scope, code=portfolio_code)],\n",
    "        valuation_schedule=models.ValuationSchedule(effective_from=start_date,\n",
    "                                                    effective_at=end_date.isoformat()))\n",
    "\n",
    "    # Perform a valuation\n",
    "    valuation = api_factory.build(lusid.api.AggregationApi).get_valuation(\n",
    "        valuation_request=valuation_request)\n",
    "    \n",
    "    return valuation"
   ]
  },
  {
   "cell_type": "code",
   "execution_count": 25,
   "metadata": {},
   "outputs": [],
   "source": [
    "def get_agg_df(agg_data):\n",
    "    \n",
    "    agg_df = pd.DataFrame(agg_data).rename(columns={\n",
    "    \"Sum(Holding/default/PV)\": \"MarketValue\",\n",
    "    \"Analytic/default/ValuationDate\": \"Date\"}).sort_values(\"Date\", axis=0)\n",
    "    agg_df[\"MarketValue\"] = (agg_df[\"MarketValue\"] / 1000000)\n",
    "    agg_df[\"Portfolio\"] = portfolioA\n",
    "    agg_df[\"Date\"] = pd.to_datetime(agg_df[\"Date\"])\n",
    "    agg_df.set_index(\"Date\", inplace=True)\n",
    "    \n",
    "    return agg_df"
   ]
  },
  {
   "cell_type": "code",
   "execution_count": 26,
   "metadata": {},
   "outputs": [],
   "source": [
    "start_date=datetime(year=2019, month=1, day=2, tzinfo=pytz.UTC)\n",
    "end_date= datetime(year=2019, month=9, day=30, tzinfo=pytz.UTC)\n",
    "\n",
    "agg = run_agg(start_date, end_date, portfolioA)"
   ]
  },
  {
   "cell_type": "code",
   "execution_count": 27,
   "metadata": {},
   "outputs": [
    {
     "data": {
      "text/html": [
       "<div>\n",
       "<style scoped>\n",
       "    .dataframe tbody tr th:only-of-type {\n",
       "        vertical-align: middle;\n",
       "    }\n",
       "\n",
       "    .dataframe tbody tr th {\n",
       "        vertical-align: top;\n",
       "    }\n",
       "\n",
       "    .dataframe thead th {\n",
       "        text-align: right;\n",
       "    }\n",
       "</style>\n",
       "<table border=\"1\" class=\"dataframe\">\n",
       "  <thead>\n",
       "    <tr style=\"text-align: right;\">\n",
       "      <th></th>\n",
       "      <th>MarketValue</th>\n",
       "      <th>Portfolio</th>\n",
       "    </tr>\n",
       "    <tr>\n",
       "      <th>Date</th>\n",
       "      <th></th>\n",
       "      <th></th>\n",
       "    </tr>\n",
       "  </thead>\n",
       "  <tbody>\n",
       "    <tr>\n",
       "      <th>2019-01-02 00:00:00+00:00</th>\n",
       "      <td>99.82</td>\n",
       "      <td>US_TECH_A</td>\n",
       "    </tr>\n",
       "    <tr>\n",
       "      <th>2019-01-03 00:00:00+00:00</th>\n",
       "      <td>96.55</td>\n",
       "      <td>US_TECH_A</td>\n",
       "    </tr>\n",
       "    <tr>\n",
       "      <th>2019-01-04 00:00:00+00:00</th>\n",
       "      <td>102.15</td>\n",
       "      <td>US_TECH_A</td>\n",
       "    </tr>\n",
       "    <tr>\n",
       "      <th>2019-01-07 00:00:00+00:00</th>\n",
       "      <td>103.01</td>\n",
       "      <td>US_TECH_A</td>\n",
       "    </tr>\n",
       "    <tr>\n",
       "      <th>2019-01-08 00:00:00+00:00</th>\n",
       "      <td>104.46</td>\n",
       "      <td>US_TECH_A</td>\n",
       "    </tr>\n",
       "  </tbody>\n",
       "</table>\n",
       "</div>"
      ],
      "text/plain": [
       "                           MarketValue  Portfolio\n",
       "Date                                             \n",
       "2019-01-02 00:00:00+00:00        99.82  US_TECH_A\n",
       "2019-01-03 00:00:00+00:00        96.55  US_TECH_A\n",
       "2019-01-04 00:00:00+00:00       102.15  US_TECH_A\n",
       "2019-01-07 00:00:00+00:00       103.01  US_TECH_A\n",
       "2019-01-08 00:00:00+00:00       104.46  US_TECH_A"
      ]
     },
     "execution_count": 27,
     "metadata": {},
     "output_type": "execute_result"
    }
   ],
   "source": [
    "portfolioA_df = get_agg_df(agg.data)\n",
    "portfolioA_df.head(5)"
   ]
  },
  {
   "cell_type": "markdown",
   "metadata": {},
   "source": [
    "# Step 7: Plot results of portfolio \n",
    "\n",
    "Plot the results of the DataFrame in a nice time-series. We can see our performance was good. The NAV of the portfolio when from 100 million USD on 1 Jan to just under 120 million USD on 30 Sep."
   ]
  },
  {
   "cell_type": "code",
   "execution_count": 28,
   "metadata": {},
   "outputs": [],
   "source": [
    "def time_series_performance():\n",
    "    ts_performance = portfolioA_df.plot(y=[\"MarketValue\"], figsize=(12,9))\n",
    "    ts_performance.set_title(f\"NAV of portfolio {portfolioA} from 01-01-2019 to 30-09-2019\", fontsize=\"large\")\n",
    "    ts_performance.set_ylabel('NAV in millions of $', fontsize=\"large\")\n",
    "    ts_performance.set_xlabel('Time: Jan to Sep 2019', fontsize=\"large\")\n",
    "    ts_performance.legend(prop={'size': 12})"
   ]
  },
  {
   "cell_type": "code",
   "execution_count": 29,
   "metadata": {},
   "outputs": [
    {
     "data": {
      "image/png": "[encoded data removed]",
      "text/plain": [
       "<Figure size 864x648 with 1 Axes>"
      ]
     },
     "metadata": {},
     "output_type": "display_data"
    }
   ],
   "source": [
    "time_series_performance()"
   ]
  },
  {
   "cell_type": "markdown",
   "metadata": {},
   "source": [
    "# Step 8: Did we make the right allocation choice?\n",
    "\n",
    "What would have happened is we allocated 55% of portfolio NAV to Netflix instead of Google. How would that have impacted our portfolio's performance? Fortunately, we can check that easily using LUSID's derived portfolios functionality.<br>\n",
    "\n",
    "First lets create a derived portfolio from the parent portfolio which is portfolioA above. The derived portfolio will inherit all the holdings of the parent portfolio. See our page on [derived portfolios](https://support.lusid.com/what-is-a-derived-portfolio) to learn more about this portfolio type."
   ]
  },
  {
   "cell_type": "code",
   "execution_count": 30,
   "metadata": {},
   "outputs": [],
   "source": [
    "def create_derived_portfolio(new_port, parent_port):\n",
    "    \n",
    "    derived_api = api_factory.build(lusid.api.DerivedTransactionPortfoliosApi)\n",
    "    \n",
    "    derived_request = lusid.models.CreateDerivedTransactionPortfolioRequest(\n",
    "        display_name=f\"Derived Portfolio of {parent_port}\",\n",
    "        code=new_port,\n",
    "        parent_portfolio_id=lusid.models.ResourceId(scope=scope, code=parent_port),\n",
    "        description = \"US Tech Strategy\",\n",
    "        created = \"2018-06-01T00:00:00Z\")\n",
    "    \n",
    "    try:\n",
    "        \n",
    "        response = derived_api.create_derived_portfolio(\n",
    "            scope=scope,\n",
    "            create_derived_transaction_portfolio_request=derived_request)\n",
    "        \n",
    "        print(response)\n",
    "        \n",
    "    except lusid.exceptions.ApiException as e:\n",
    "        if e.status == 400 and json.loads(e.body)[\"code\"]==112:\n",
    "            print (json.loads(e.body)[\"title\"])"
   ]
  },
  {
   "cell_type": "code",
   "execution_count": 31,
   "metadata": {
    "tags": []
   },
   "outputs": [
    {
     "name": "stdout",
     "output_type": "stream",
     "text": [
      "Could not create a portfolio with id US_TECH_B because it already exists in scope techStrategy.\n"
     ]
    }
   ],
   "source": [
    "create_derived_portfolio(portfolioB, portfolioA)"
   ]
  },
  {
   "cell_type": "markdown",
   "metadata": {},
   "source": [
    "Next let's calculate the holding adjustments required to rebalance 55% of NAV to Netflix."
   ]
  },
  {
   "cell_type": "code",
   "execution_count": 32,
   "metadata": {},
   "outputs": [],
   "source": [
    "def rebalance_port(scope, portfolioA, effective_at, adjustment):\n",
    "    \n",
    "    holdings_response = api_factory.build(lusid.api.TransactionPortfoliosApi).get_holdings(scope, \n",
    "                                                                   portfolioA, \n",
    "                                                                   effective_at=effective_at).values\n",
    "    \n",
    "    rebal_holdings = pd.DataFrame([[holding.cost_portfolio_ccy.amount, \n",
    "                                  holding.instrument_uid, \n",
    "                                  holding.units] for holding in holdings_response],\n",
    "                               columns = [\"market_value\", \"LUID\", \"units\"])\n",
    "    \n",
    "    rebal_holdings[\"client_internal\"] = rebal_holdings[\"LUID\"].apply(\n",
    "    lambda x: api_factory.build(lusid.api.InstrumentsApi).get_instrument(\n",
    "        identifier_type=\"LusidInstrumentId\",\n",
    "        identifier=x).identifiers[\"ClientInternal\"])\n",
    "    \n",
    "    rebal_holdings[\"instrument_name\"] = rebal_holdings[\"LUID\"].apply(\n",
    "    lambda x: api_factory.build(lusid.api.InstrumentsApi).get_instrument(\n",
    "        identifier_type=\"LusidInstrumentId\",\n",
    "        identifier=x).name)\n",
    "    \n",
    "    rebal_holdings[\"Ticker\"] = rebal_holdings[\"LUID\"].apply(\n",
    "    lambda x: api_factory.build(lusid.api.InstrumentsApi).get_instrument(\n",
    "        identifier_type=\"LusidInstrumentId\",\n",
    "        identifier=x).identifiers[\"Ticker\"])\n",
    "    \n",
    "    rebal_holdings[\"pct_mv\"] = rebal_holdings[\"market_value\"] / sum(rebal_holdings[\"market_value\"],0)\n",
    "    \n",
    "    rebal_holdings[\"target_pct_mv\"] = rebal_holdings[\"pct_mv\"]\n",
    "    for client_internal, value in adjustment:\n",
    "        rebal_holdings.loc[rebal_holdings[\"client_internal\"] == client_internal, \"target_pct_mv\"] = value\n",
    "        \n",
    "    rebal_holdings[\"target_units\"] = (rebal_holdings[\"target_pct_mv\"] / rebal_holdings[\"pct_mv\"]\n",
    "                                       *rebal_holdings[\"units\"])\n",
    "\n",
    "    return rebal_holdings"
   ]
  },
  {
   "cell_type": "markdown",
   "metadata": {},
   "source": [
    "Running the rebalance function below, we can see the new target units for GOOG and NFLX:"
   ]
  },
  {
   "cell_type": "code",
   "execution_count": 33,
   "metadata": {},
   "outputs": [
    {
     "data": {
      "text/html": [
       "<div>\n",
       "<style scoped>\n",
       "    .dataframe tbody tr th:only-of-type {\n",
       "        vertical-align: middle;\n",
       "    }\n",
       "\n",
       "    .dataframe tbody tr th {\n",
       "        vertical-align: top;\n",
       "    }\n",
       "\n",
       "    .dataframe thead th {\n",
       "        text-align: right;\n",
       "    }\n",
       "</style>\n",
       "<table border=\"1\" class=\"dataframe\">\n",
       "  <thead>\n",
       "    <tr style=\"text-align: right;\">\n",
       "      <th></th>\n",
       "      <th>target_pct_mv</th>\n",
       "      <th>target_units</th>\n",
       "    </tr>\n",
       "    <tr>\n",
       "      <th>Ticker</th>\n",
       "      <th></th>\n",
       "      <th></th>\n",
       "    </tr>\n",
       "  </thead>\n",
       "  <tbody>\n",
       "    <tr>\n",
       "      <th>GOOG</th>\n",
       "      <td>0.15</td>\n",
       "      <td>14354.12</td>\n",
       "    </tr>\n",
       "    <tr>\n",
       "      <th>AAPL</th>\n",
       "      <td>0.15</td>\n",
       "      <td>94985.00</td>\n",
       "    </tr>\n",
       "    <tr>\n",
       "      <th>NFLX</th>\n",
       "      <td>0.55</td>\n",
       "      <td>205485.33</td>\n",
       "    </tr>\n",
       "    <tr>\n",
       "      <th>FB</th>\n",
       "      <td>0.15</td>\n",
       "      <td>110554.00</td>\n",
       "    </tr>\n",
       "  </tbody>\n",
       "</table>\n",
       "</div>"
      ],
      "text/plain": [
       "        target_pct_mv  target_units\n",
       "Ticker                             \n",
       "GOOG             0.15      14354.12\n",
       "AAPL             0.15      94985.00\n",
       "NFLX             0.55     205485.33\n",
       "FB               0.15     110554.00"
      ]
     },
     "execution_count": 33,
     "metadata": {},
     "output_type": "execute_result"
    }
   ],
   "source": [
    "rebalanced_portfolio = rebalance_port(scope, portfolioA, \"2019-01-01T00:00:02Z\", [(\"EQ38475943\", 0.15), (\"EQ36852475\", 0.55)])\n",
    "rebalanced_portfolio[[\"Ticker\",\"target_pct_mv\",\"target_units\"]].set_index(\"Ticker\")"
   ]
  },
  {
   "cell_type": "markdown",
   "metadata": {},
   "source": [
    "The new % NAVs can be plotted on a pie-chart so we can visualise the results:"
   ]
  },
  {
   "cell_type": "code",
   "execution_count": 34,
   "metadata": {},
   "outputs": [],
   "source": [
    "def rebalanced_portfolio_pie():\n",
    "    plt.style.use('fivethirtyeight')\n",
    "    rebalanced_portfolio_pie = rebalanced_portfolio.plot.pie(y=\"target_pct_mv\",\n",
    "                        labels=rebalanced_portfolio[\"instrument_name\"].values,\n",
    "                        figsize=(11, 11),\n",
    "                        title=f\"Allocation of portfolio {portfolioA} to FANG stocks by % of NAV\",\n",
    "                        explode=(0.025, 0, 0, 0),\n",
    "                        startangle=140,\n",
    "                        autopct='%1.1f%%',\n",
    "                        textprops={'fontsize': 16},\n",
    "                        normalize=False)\n",
    "\n",
    "    rebalanced_portfolio_pie.set_ylabel('')\n",
    "    rebalanced_portfolio_pie.legend(loc=4,prop={'size':14})\n",
    "    rebalanced_portfolio_pie.set_title(f\"Rebalanced allocation of portfolio {portfolioA} to FANG stocks by % of NAV\", \n",
    "                                       fontsize=20)"
   ]
  },
  {
   "cell_type": "code",
   "execution_count": 35,
   "metadata": {},
   "outputs": [
    {
     "data": {
      "image/png": "[encoded data removed]",
      "text/plain": [
       "<Figure size 792x792 with 1 Axes>"
      ]
     },
     "metadata": {},
     "output_type": "display_data"
    }
   ],
   "source": [
    "rebalanced_portfolio_pie()"
   ]
  },
  {
   "cell_type": "markdown",
   "metadata": {},
   "source": [
    "Once we're happy with the rebalance quantities, these adjustments can be processed in LUSID using the Adjust Holdings APIs:"
   ]
  },
  {
   "cell_type": "code",
   "execution_count": 36,
   "metadata": {},
   "outputs": [],
   "source": [
    "def holding_adj_request(holdings):\n",
    "    \n",
    "    holding_adj_request = []\n",
    "    \n",
    "    for instrument, units in holdings:\n",
    "\n",
    "        holding_adj_request.append(lusid.models.AdjustHoldingRequest(\n",
    "        instrument_identifiers={\"instrument/default/ClientInternal\": f\"{instrument}\"},\n",
    "        tax_lots= [lusid.models.TargetTaxLotRequest(units=units,\n",
    "                                                   portfolio_cost=None,\n",
    "                                                   cost=lusid.models.CurrencyAndAmount(None, \"USD\"),\n",
    "                                                   price=None,\n",
    "                                                   purchase_date=\"2019-01-01T00:00:00Z\",\n",
    "                                                   settlement_date=\"2019-01-01T00:00:00Z\"\n",
    "        )]\n",
    "        ))\n",
    "        \n",
    "    return holding_adj_request"
   ]
  },
  {
   "cell_type": "code",
   "execution_count": 37,
   "metadata": {},
   "outputs": [],
   "source": [
    "holdings = [(\"EQ38475943\", 14390), \n",
    "            (\"EQ36852475\", 206009)]\n",
    "\n",
    "holding_adjustment = holding_adj_request(holdings)"
   ]
  },
  {
   "cell_type": "code",
   "execution_count": 38,
   "metadata": {},
   "outputs": [],
   "source": [
    "response = api_factory.build(lusid.api.TransactionPortfoliosApi).adjust_holdings(\n",
    "    scope, \n",
    "    portfolioB, \n",
    "    effective_at=\"2019-01-01T10:00:00Z\",\n",
    "    adjust_holding_request=holding_adjustment)"
   ]
  },
  {
   "cell_type": "markdown",
   "metadata": {},
   "source": [
    "Then rerun our aggregration functions and plot results against each other:"
   ]
  },
  {
   "cell_type": "code",
   "execution_count": 39,
   "metadata": {},
   "outputs": [],
   "source": [
    "derived_agg = run_agg(start_date, end_date, portfolioB)"
   ]
  },
  {
   "cell_type": "code",
   "execution_count": 40,
   "metadata": {},
   "outputs": [
    {
     "data": {
      "text/html": [
       "<div>\n",
       "<style scoped>\n",
       "    .dataframe tbody tr th:only-of-type {\n",
       "        vertical-align: middle;\n",
       "    }\n",
       "\n",
       "    .dataframe tbody tr th {\n",
       "        vertical-align: top;\n",
       "    }\n",
       "\n",
       "    .dataframe thead th {\n",
       "        text-align: right;\n",
       "    }\n",
       "</style>\n",
       "<table border=\"1\" class=\"dataframe\">\n",
       "  <thead>\n",
       "    <tr style=\"text-align: right;\">\n",
       "      <th></th>\n",
       "      <th>MarketValue</th>\n",
       "      <th>Portfolio</th>\n",
       "    </tr>\n",
       "    <tr>\n",
       "      <th>Date</th>\n",
       "      <th></th>\n",
       "      <th></th>\n",
       "    </tr>\n",
       "  </thead>\n",
       "  <tbody>\n",
       "    <tr>\n",
       "      <th>2019-01-02 00:00:00+00:00</th>\n",
       "      <td>99.97</td>\n",
       "      <td>US_TECH_A</td>\n",
       "    </tr>\n",
       "    <tr>\n",
       "      <th>2019-01-03 00:00:00+00:00</th>\n",
       "      <td>98.36</td>\n",
       "      <td>US_TECH_A</td>\n",
       "    </tr>\n",
       "    <tr>\n",
       "      <th>2019-01-04 00:00:00+00:00</th>\n",
       "      <td>105.83</td>\n",
       "      <td>US_TECH_A</td>\n",
       "    </tr>\n",
       "    <tr>\n",
       "      <th>2019-01-07 00:00:00+00:00</th>\n",
       "      <td>109.44</td>\n",
       "      <td>US_TECH_A</td>\n",
       "    </tr>\n",
       "    <tr>\n",
       "      <th>2019-01-08 00:00:00+00:00</th>\n",
       "      <td>111.33</td>\n",
       "      <td>US_TECH_A</td>\n",
       "    </tr>\n",
       "  </tbody>\n",
       "</table>\n",
       "</div>"
      ],
      "text/plain": [
       "                           MarketValue  Portfolio\n",
       "Date                                             \n",
       "2019-01-02 00:00:00+00:00        99.97  US_TECH_A\n",
       "2019-01-03 00:00:00+00:00        98.36  US_TECH_A\n",
       "2019-01-04 00:00:00+00:00       105.83  US_TECH_A\n",
       "2019-01-07 00:00:00+00:00       109.44  US_TECH_A\n",
       "2019-01-08 00:00:00+00:00       111.33  US_TECH_A"
      ]
     },
     "execution_count": 40,
     "metadata": {},
     "output_type": "execute_result"
    }
   ],
   "source": [
    "portfolioB_df = get_agg_df(derived_agg.data)\n",
    "portfolioB_df.head(5)"
   ]
  },
  {
   "cell_type": "code",
   "execution_count": 41,
   "metadata": {},
   "outputs": [
    {
     "data": {
      "text/html": [
       "<div>\n",
       "<style scoped>\n",
       "    .dataframe tbody tr th:only-of-type {\n",
       "        vertical-align: middle;\n",
       "    }\n",
       "\n",
       "    .dataframe tbody tr th {\n",
       "        vertical-align: top;\n",
       "    }\n",
       "\n",
       "    .dataframe thead th {\n",
       "        text-align: right;\n",
       "    }\n",
       "</style>\n",
       "<table border=\"1\" class=\"dataframe\">\n",
       "  <thead>\n",
       "    <tr style=\"text-align: right;\">\n",
       "      <th></th>\n",
       "      <th>MarketValueUS_TECH_A</th>\n",
       "      <th>PortfolioUS_TECH_A</th>\n",
       "      <th>MarketValueUS_TECH_B</th>\n",
       "      <th>PortfolioUS_TECH_B</th>\n",
       "    </tr>\n",
       "    <tr>\n",
       "      <th>Date</th>\n",
       "      <th></th>\n",
       "      <th></th>\n",
       "      <th></th>\n",
       "      <th></th>\n",
       "    </tr>\n",
       "  </thead>\n",
       "  <tbody>\n",
       "    <tr>\n",
       "      <th>2019-01-02 00:00:00+00:00</th>\n",
       "      <td>99.82</td>\n",
       "      <td>US_TECH_A</td>\n",
       "      <td>99.97</td>\n",
       "      <td>US_TECH_A</td>\n",
       "    </tr>\n",
       "    <tr>\n",
       "      <th>2019-01-03 00:00:00+00:00</th>\n",
       "      <td>96.55</td>\n",
       "      <td>US_TECH_A</td>\n",
       "      <td>98.36</td>\n",
       "      <td>US_TECH_A</td>\n",
       "    </tr>\n",
       "  </tbody>\n",
       "</table>\n",
       "</div>"
      ],
      "text/plain": [
       "                           MarketValueUS_TECH_A PortfolioUS_TECH_A  \\\n",
       "Date                                                                 \n",
       "2019-01-02 00:00:00+00:00                 99.82          US_TECH_A   \n",
       "2019-01-03 00:00:00+00:00                 96.55          US_TECH_A   \n",
       "\n",
       "                           MarketValueUS_TECH_B PortfolioUS_TECH_B  \n",
       "Date                                                                \n",
       "2019-01-02 00:00:00+00:00                 99.97          US_TECH_A  \n",
       "2019-01-03 00:00:00+00:00                 98.36          US_TECH_A  "
      ]
     },
     "execution_count": 41,
     "metadata": {},
     "output_type": "execute_result"
    }
   ],
   "source": [
    "port_joined_df = portfolioA_df.join(portfolioB_df, lsuffix =portfolioA, rsuffix=portfolioB)\n",
    "port_joined_df.rename(columns={\"MarketValueUS_TECH1\":\"Portfolio weighted 55% to Alphabet Inc\", \n",
    "                               \"MarketValueUS_TECH2\": \"Portfolio weighted 55% to Netflix\"}, inplace=True)\n",
    "port_joined_df.head(2)"
   ]
  },
  {
   "cell_type": "markdown",
   "metadata": {},
   "source": [
    "# Step 9: Check results\n",
    "\n",
    "Looking at the time-series of results below, we can see we were correct to allocate 55% to Google versus Netflix in first 3Q of 2019."
   ]
  },
  {
   "cell_type": "code",
   "execution_count": 42,
   "metadata": {},
   "outputs": [],
   "source": [
    "def time_series_performance_all():\n",
    "    ts_performance_all = port_joined_df.plot(y=[port_joined_df.columns[0], port_joined_df.columns[2]], figsize=(12,9))\n",
    "    ts_performance_all.set_title('NAV of portfolios from 01-01-2019 to 30-09-2019', fontsize=\"large\")\n",
    "    ts_performance_all.set_ylabel('NAV in millions of $', fontsize=\"large\")\n",
    "    ts_performance_all.set_xlabel('Time: Jan to Sep 2019', fontsize=\"large\")\n",
    "    ts_performance_all.legend(prop={'size': 12})"
   ]
  },
  {
   "cell_type": "code",
   "execution_count": 43,
   "metadata": {},
   "outputs": [
    {
     "data": {
      "image/png": "[encoded data removed]",
      "text/plain": [
       "<Figure size 864x648 with 1 Axes>"
      ]
     },
     "metadata": {},
     "output_type": "display_data"
    }
   ],
   "source": [
    "time_series_performance_all()"
   ]
  }
 ],
 "metadata": {
  "kernelspec": {
   "display_name": "Python 3",
   "language": "python",
   "name": "python3"
  },
  "language_info": {
   "codemirror_mode": {
    "name": "ipython",
    "version": 3
   },
   "file_extension": ".py",
   "mimetype": "text/x-python",
   "name": "python",
   "nbconvert_exporter": "python",
   "pygments_lexer": "ipython3",
   "version": "3.8.5"
  }
 },
 "nbformat": 4,
 "nbformat_minor": 2
}
