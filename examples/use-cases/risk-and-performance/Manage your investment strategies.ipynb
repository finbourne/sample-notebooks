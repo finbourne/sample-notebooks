{
 "cells": [
  {
   "cell_type": "code",
   "execution_count": 53,
   "outputs": [
    {
     "output_type": "execute_result",
     "data": {
      "text/plain": "\"Managing investment strategies\\n\\nDemonstration of how to compare how strategies are performing across all of our client's holdings, rather than just looking at a single portfolio in isolation.\\n\\nAttributes\\n----------\\ninstruments\\ntransactions\\nportfolio groups\\nproperties\\nset holdings\\ndata types\\naggregation\\n\""
     },
     "metadata": {},
     "execution_count": 53
    }
   ],
   "source": [
    "\"\"\"Managing investment strategies\n",
    "\n",
    "Demonstration of how to compare how strategies are performing across all of our client's holdings, rather than just looking at a single portfolio in isolation.\n",
    "\n",
    "Attributes\n",
    "----------\n",
    "instruments\n",
    "transactions\n",
    "portfolio groups\n",
    "properties\n",
    "set holdings\n",
    "data types\n",
    "aggregation\n",
    "\"\"\""
   ],
   "metadata": {
    "collapsed": false,
    "pycharm": {
     "name": "#%%\n"
    }
   }
  },
  {
   "cell_type": "markdown",
   "metadata": {},
   "source": [
    "## The Challenge"
   ]
  },
  {
   "cell_type": "markdown",
   "metadata": {},
   "source": [
    "We are an asset manager who has just taken on a new client. The client has given us a number of mandates on how to manage their assets and we have assigned each of these to a different portfolio manager.\n",
    "\n",
    "Even though there are a number of different mandates, some of the strategies that we are using are common across mandates. We really need to be able to see how each strategy is performing across all of our client's holdings, rather than just looking at a single portfolio in isolation."
   ]
  },
  {
   "cell_type": "markdown",
   "metadata": {},
   "source": [
    "## The Solution"
   ]
  },
  {
   "cell_type": "markdown",
   "metadata": {},
   "source": [
    "Using LUSID we have the ability to add a strategy label to each transaction that we make. We can then aggregate across these labels to get a holistic view into how a strategy is performing. We can do this by:\n",
    "\n",
    "1. Creating a portfolio for each mandate that our client has given us and group them in a portfolio group\n",
    "2. Loading our instrument universe \n",
    "3. Adding our take on balances for each portfolio which have been provided to us by a transition manager\n",
    "4. Creating a strategy tag that we can use to tag our transactions with the strategy used to make the trade\n",
    "5. Adding the first trades that have been made by our portfolio managers inlcuding the strategy that they were following when they made them\n",
    "6. Adding market data quotes so that we can aggregate across our client's portfolios\n",
    "7. Aggregate across all of our client's portfolios to see the overall position\n",
    "8. Aggregate across all of our client's portfolios by strategy to our position per strategy\n",
    "\n",
    "First things first though, we need to initialise our LUSID environment. \n",
    "\n",
    "*To initialise our LUSID environment run the cell below*"
   ]
  },
  {
   "cell_type": "code",
   "execution_count": 55,
   "metadata": {
    "pycharm": {
     "is_executing": false
    },
    "tags": []
   },
   "outputs": [
    {
     "output_type": "stream",
     "name": "stdout",
     "text": "LUSID Environment Initialised\nLUSID API Version:  0.6.4636.0\n"
    }
   ],
   "source": [
    "# Import LUSID\n",
    "import lusid\n",
    "import lusid.models as models\n",
    "import lusid_sample_data as import_data\n",
    "from lusidjam import RefreshingToken\n",
    "\n",
    "# Import Libraries\n",
    "import pprint\n",
    "from datetime import datetime, timedelta, time\n",
    "import pytz\n",
    "import printer as prettyprint\n",
    "import pandas as pd\n",
    "import os\n",
    "\n",
    "# Authenticate our user and create our API client\n",
    "secrets_path = os.getenv(\"FBN_SECRETS_PATH\")\n",
    "\n",
    "api_factory = lusid.utilities.ApiClientFactory(\n",
    "    token=RefreshingToken(),\n",
    "    api_secrets_filename = secrets_path,\n",
    "    app_name=\"LusidJupyterNotebook\")\n",
    "\n",
    "print ('LUSID Environment Initialised')\n",
    "print ('LUSID API Version: ', api_factory.build(lusid.api.ApplicationMetadataApi).get_lusid_versions().build_version)"
   ]
  },
  {
   "cell_type": "markdown",
   "metadata": {},
   "source": [
    "We now have an empty LUSID environment initialised"
   ]
  },
  {
   "cell_type": "markdown",
   "metadata": {},
   "source": [
    "![Scopes](img/strategies/strategies-lusid.gif)"
   ]
  },
  {
   "cell_type": "markdown",
   "metadata": {},
   "source": [
    "### 1) Creating a portfolio for each mandate and grouping them in a portfolio group"
   ]
  },
  {
   "cell_type": "markdown",
   "metadata": {},
   "source": [
    "In LUSID we can create separate environments for each of our clients using scopes. A scope is a container for LUSID objects and can be thought of as a separate identity namespace. Using LUSID's entitlements engine we can ensure that only the right people can access a given scope. Furthermore we can ensure that only the right people can access the right objects inside a given scope. LUSID allows for entitlements down to the most granular level. \n",
    "\n",
    "For this example we will create a scope for our new client. Let us assume that our new client is a pension fund for a large high street retailer which we will call 'high_street_pension_fund'.\n",
    "\n",
    "*Run the cell below to initialise our scope. Note that the scope will have a unique 4 character code appended to it to make the name more unique.*"
   ]
  },
  {
   "cell_type": "code",
   "execution_count": 57,
   "metadata": {
    "pycharm": {
     "is_executing": false
    },
    "tags": []
   },
   "outputs": [
    {
     "output_type": "stream",
     "name": "stdout",
     "text": "\u001b[1mNew Client Scope Code: \u001b[0mclient-high_street_pension_fund-3892-f1eb-a604-ac\n"
    }
   ],
   "source": [
    "# Fetch our scopes\n",
    "scope_id = import_data.create_scope_id()\n",
    "client_scope_code = 'client-high_street_pension_fund-{}'.format(scope_id)\n",
    "# Pretty print our scope\n",
    "prettyprint.heading('New Client Scope Code', client_scope_code)"
   ]
  },
  {
   "cell_type": "markdown",
   "metadata": {},
   "source": [
    "We now have a scope for our client inside our LUSID environment. "
   ]
  },
  {
   "cell_type": "markdown",
   "metadata": {},
   "source": [
    "![Scopes](img/strategies/strategies-scope.gif)"
   ]
  },
  {
   "cell_type": "markdown",
   "metadata": {},
   "source": [
    "Now that we have our scope we can create our portfolios.\n",
    "\n",
    "The first thing that we need to do here is give each portfolio a unique name. In LUSID these are refered to as 'codes'. Almost every object in LUSID can be refered to by the combination of the scope that it is contained in and its code. The code must be unique to the scope.\n",
    "\n",
    "Our pension fund has five mandates and thus five portfolios. \n",
    "\n",
    "In LUSID we can use portfolio groups to group the different portfolios of each of our clients together. This allows us to easily keep track of and work with the holdings of each of our clients.\n",
    "\n",
    "*Run the cell below to import the name for our portfolio group and its corresponding portfolios.*"
   ]
  },
  {
   "cell_type": "code",
   "execution_count": 59,
   "metadata": {
    "pycharm": {
     "is_executing": false
    }
   },
   "outputs": [
    {
     "output_type": "execute_result",
     "data": {
      "text/plain": "                  portfolio_group_name         portfolio_name\n0  high_street_pension_fund-portfolios       mandate-balanced\n1  high_street_pension_fund-portfolios         mandate-energy\n2  high_street_pension_fund-portfolios    mandate-fixedincome\n3  high_street_pension_fund-portfolios  mandate-international\n4  high_street_pension_fund-portfolios         mandate-usgovt",
      "text/html": "<div>\n<style scoped>\n    .dataframe tbody tr th:only-of-type {\n        vertical-align: middle;\n    }\n\n    .dataframe tbody tr th {\n        vertical-align: top;\n    }\n\n    .dataframe thead th {\n        text-align: right;\n    }\n</style>\n<table border=\"1\" class=\"dataframe\">\n  <thead>\n    <tr style=\"text-align: right;\">\n      <th></th>\n      <th>portfolio_group_name</th>\n      <th>portfolio_name</th>\n    </tr>\n  </thead>\n  <tbody>\n    <tr>\n      <th>0</th>\n      <td>high_street_pension_fund-portfolios</td>\n      <td>mandate-balanced</td>\n    </tr>\n    <tr>\n      <th>1</th>\n      <td>high_street_pension_fund-portfolios</td>\n      <td>mandate-energy</td>\n    </tr>\n    <tr>\n      <th>2</th>\n      <td>high_street_pension_fund-portfolios</td>\n      <td>mandate-fixedincome</td>\n    </tr>\n    <tr>\n      <th>3</th>\n      <td>high_street_pension_fund-portfolios</td>\n      <td>mandate-international</td>\n    </tr>\n    <tr>\n      <th>4</th>\n      <td>high_street_pension_fund-portfolios</td>\n      <td>mandate-usgovt</td>\n    </tr>\n  </tbody>\n</table>\n</div>"
     },
     "metadata": {},
     "execution_count": 59
    }
   ],
   "source": [
    "client_portfolios = pd.read_csv('data/strategy-portfolios.csv')\n",
    "client_portfolios.head()"
   ]
  },
  {
   "cell_type": "markdown",
   "metadata": {},
   "source": [
    "Note that in LUSID we can only create one portfolio at a time. \n",
    "        \n",
    "We will thus create each of the portfolios for our client one after the other and then we will create the portfolio group that binds them together.\n",
    "        \n",
    "We on-boarded this clients 5 days ago. When we create the portfolios we can set the creation date using the 'created' argument. This will allow us to backdate holdings and transactions.\n",
    "\n",
    "You can read more about creating a portfolio in the LUSID API documentation: [LUSID API Docs: Creating a Portfolio](https://docs.lusid.com/#operation/CreatePortfolio)\n",
    "\n",
    "You can also read more about creating a portfolio group in the LUSID API documentation:\n",
    "\n",
    "[LUSID API Docs: Creating a Portfolio Group](https://docs.lusid.com/#operation/CreatePortfolioGroup)\n",
    "\n",
    "*Run the cell below to create our portfolios and group them together*"
   ]
  },
  {
   "cell_type": "code",
   "execution_count": 60,
   "metadata": {
    "pycharm": {
     "is_executing": false
    },
    "tags": []
   },
   "outputs": [
    {
     "output_type": "stream",
     "name": "stdout",
     "text": "\u001b[1mPortfolio Created\u001b[0m\n\u001b[1mScope: \u001b[0mclient-high_street_pension_fund-3892-f1eb-a604-ac\n\u001b[1mCode: \u001b[0mmandate-balanced\n\u001b[1mPortfolio Effective From: \u001b[0m2020-06-12 17:57:24.068572+00:00\n\u001b[1mPortfolio Created On: \u001b[0m2020-06-17 17:57:24.356245+00:00\n\n\u001b[1mPortfolio Created\u001b[0m\n\u001b[1mScope: \u001b[0mclient-high_street_pension_fund-3892-f1eb-a604-ac\n\u001b[1mCode: \u001b[0mmandate-energy\n\u001b[1mPortfolio Effective From: \u001b[0m2020-06-12 17:57:24.068572+00:00\n\u001b[1mPortfolio Created On: \u001b[0m2020-06-17 17:57:24.753460+00:00\n\n\u001b[1mPortfolio Created\u001b[0m\n\u001b[1mScope: \u001b[0mclient-high_street_pension_fund-3892-f1eb-a604-ac\n\u001b[1mCode: \u001b[0mmandate-fixedincome\n\u001b[1mPortfolio Effective From: \u001b[0m2020-06-12 17:57:24.068572+00:00\n\u001b[1mPortfolio Created On: \u001b[0m2020-06-17 17:57:25.259382+00:00\n\n\u001b[1mPortfolio Created\u001b[0m\n\u001b[1mScope: \u001b[0mclient-high_street_pension_fund-3892-f1eb-a604-ac\n\u001b[1mCode: \u001b[0mmandate-international\n\u001b[1mPortfolio Effective From: \u001b[0m2020-06-12 17:57:24.068572+00:00\n\u001b[1mPortfolio Created On: \u001b[0m2020-06-17 17:57:25.750925+00:00\n\n\u001b[1mPortfolio Created\u001b[0m\n\u001b[1mScope: \u001b[0mclient-high_street_pension_fund-3892-f1eb-a604-ac\n\u001b[1mCode: \u001b[0mmandate-usgovt\n\u001b[1mPortfolio Effective From: \u001b[0m2020-06-12 17:57:24.068572+00:00\n\u001b[1mPortfolio Created On: \u001b[0m2020-06-17 17:57:26.114906+00:00\n\n\u001b[91m\u001b[1mPortfolio Group Created\u001b[0m\n\u001b[1mName: \u001b[0mhigh_street_pension_fund-portfolios\n\u001b[1mScope: \u001b[0mclient-high_street_pension_fund-3892-f1eb-a604-ac\n\u001b[1mCode: \u001b[0mhigh_street_pension_fund-portfolios\n\u001b[1mPortfolios Inside Group: \u001b[0m\nmandate-fixedincome\nmandate-usgovt\nmandate-balanced\nmandate-energy\nmandate-international\n\n\n"
    }
   ],
   "source": [
    "# Set the creation date of our portfolio\n",
    "created_date = datetime.now(pytz.UTC) - timedelta(days=5)\n",
    "\n",
    "# Initialise a list to hold the ids of our portfolios for use in creating our portfolio group\n",
    "portfolio_resourceids = []\n",
    "\n",
    "# Loop over our portfolios\n",
    "for portfolio_code in client_portfolios['portfolio_name'].unique():\n",
    "    \n",
    "    # Create the request to add our portfolio\n",
    "    portfolio_request = models.CreateTransactionPortfolioRequest(\n",
    "        display_name=portfolio_code,\n",
    "        code=portfolio_code,\n",
    "        base_currency='GBP',\n",
    "        description=portfolio_code,\n",
    "        created=created_date)\n",
    "    \n",
    "    # Call LUSID to create our portfolio\n",
    "    response = api_factory.build(lusid.api.TransactionPortfoliosApi).create_portfolio(\n",
    "        scope=client_scope_code,\n",
    "        create_transaction_portfolio_request=portfolio_request)\n",
    "\n",
    "    # Print the response from LUSID using pretty formatting\n",
    "    prettyprint.portfolio_response(response)\n",
    "\n",
    "    # Add the portfolio to our list of portfolios for the portfolio group\n",
    "    portfolio_resourceids.append(\n",
    "        models.ResourceId(\n",
    "            scope=client_scope_code, \n",
    "            code=portfolio_code)\n",
    "    )\n",
    "\n",
    "client_group_code = client_portfolios['portfolio_group_name'].unique()[0]\n",
    "    \n",
    "# Create our portfolio group request\n",
    "portfolio_group_request = models.CreatePortfolioGroupRequest(\n",
    "    code=client_group_code,\n",
    "    display_name=client_group_code,\n",
    "    values=portfolio_resourceids,\n",
    "    created=created_date,\n",
    "    description='Grouping all of {}'.format(client_group_code))\n",
    "\n",
    "# Call LUSID to create our portfolio group\n",
    "response = api_factory.build(lusid.api.PortfolioGroupsApi).create_portfolio_group(\n",
    "    scope=client_scope_code,\n",
    "    create_portfolio_group_request=portfolio_group_request)\n",
    "\n",
    "# Print the response from LUSID using pretty formatting\n",
    "prettyprint.portfolio_group_response(response, 'created')"
   ]
  },
  {
   "cell_type": "markdown",
   "metadata": {},
   "source": [
    "Our scope for our new client is now populated with our portfolios which are grouped together in a portfolio group. All of our portfolios are currently empty."
   ]
  },
  {
   "cell_type": "markdown",
   "metadata": {},
   "source": [
    "![Scopes](img/strategies/strategies-portfolios.gif)"
   ]
  },
  {
   "cell_type": "markdown",
   "metadata": {},
   "source": [
    "### 2) Adding our instrument universe"
   ]
  },
  {
   "cell_type": "markdown",
   "metadata": {},
   "source": [
    "Before we can load our take on balances we first need to add securities to our instrument master in LUSID. \n",
    "        \n",
    "The instrument master contains the details of all of the securities that we hold or trade in. Any time that we conduct a trade or add a holding of a security we refer to it in the instrument master. \n",
    "\n",
    "Below we can import our universe of instruments which all of our holdings are made up of. Using LUSID this universe can be pre-populated in advance with your entire instrument universe so that we don't have to keep adding new instruments when we make a trade or update a holding. \n",
    "\n",
    "*Run the cell below to import our instrument universe*"
   ]
  },
  {
   "cell_type": "code",
   "execution_count": 61,
   "metadata": {
    "pycharm": {
     "is_executing": false
    }
   },
   "outputs": [
    {
     "output_type": "execute_result",
     "data": {
      "text/plain": "                     instrument_name client_internal currency          isin  \\\n0                 Amazon_Nasdaq_AMZN    imd_34634534      USD  US0231351067   \n1                  Apple_Nasdaq_AAPL    imd_35345345      USD  US0378331005   \n2                BP_LondonStockEx_BP    imd_43535553      GBP  GB0007980591   \n3   BurfordCapital_LondonStockEx_BUR    imd_43534356      GBP  GG00B4L84979   \n4   EKFDiagnostics_LondonStockEx_EKF    imd_34535355      GBP  GB0031509804   \n5        Glencore_LondonStockEx_GLEN    imd_34534555      GBP  JE00B4T3BW64   \n6           JustEat_LondonStockEx_JE    imd_35436366      GBP  GB00BKX5CN86   \n7       Kingfisher_LondonStockEx_KGF    imd_34535552      GBP  GB0033195214   \n8      MicroFocus_LondonStockEx_MCRO    imd_34567338      GBP  GB00BD8YWM01   \n9        RELXGroup_LondonStockEx_REL    imd_43532542      GBP  GB00B2B0DG97   \n10            Sage_LondonStockEx_SGE    imd_23536673      GBP  GB00B8C3BL03   \n11          TESCO_LondonStockEx_TSCO    imd_34634673      GBP  GB0008847096   \n12           UKGiltTreasury_2.0_2025    imd_34534536      GBP  GB00BTHH2R79   \n13           UKGiltTreasury_3.5_2045    imd_54234532      GBP  GB00BN65R313   \n14          UKGiltTreasury_3.75_2021    imd_34643653      GBP  GB00B4RMG977   \n\n            figi exchange_code          country_issue             ticker  \\\n0   BBG000BVPXP1            UN  united_states_america               AMZN   \n1   BBG000B9XVV8            UN  united_states_america               AAPL   \n2   BBG000C05BD1            LN         united_kingdom                BP/   \n3   BBG000PN88Q7            LN         united_kingdom                BUR   \n4   BBG000BVNBN3            LN         united_kingdom                EKF   \n5   BBG001MM1KV4            LN         united_kingdom               GLEN   \n6   BBG0065YWM39            LN         united_kingdom                JE/   \n7   BBG000BKH1W6            LN         united_kingdom                KGF   \n8   BBG000G4KKD2            LN         united_kingdom               MCRO   \n9   BBG000D03XD4            LN         united_kingdom                REL   \n10  BBG000BN0PP3            LN         united_kingdom                SGE   \n11  BBG000BF46Y8            LN         united_kingdom               TSCO   \n12  BBG0088JSC32            LN         united_kingdom     UKT 2 09/07/25   \n13  BBG006N6HZM7            LN         united_kingdom   UKT 3.5 01/22/45   \n14  BBG001KKJLR4            LN         united_kingdom  UKT 3.75 09/07/21   \n\n   market_sector  security_type  coupon  \n0         equity   common_stock     nan  \n1         equity   common_stock     nan  \n2         equity   common_stock     nan  \n3         equity   common_stock     nan  \n4         equity   common_stock     nan  \n5         equity   common_stock     nan  \n6         equity   common_stock     nan  \n7         equity   common_stock     nan  \n8         equity   common_stock     nan  \n9         equity   common_stock     nan  \n10        equity   common_stock     nan  \n11        equity   common_stock     nan  \n12          govt  uk_gilt_stock    2.00  \n13          govt  uk_gilt_stock    3.50  \n14          govt  uk_gilt_stock    3.75  ",
      "text/html": "<div>\n<style scoped>\n    .dataframe tbody tr th:only-of-type {\n        vertical-align: middle;\n    }\n\n    .dataframe tbody tr th {\n        vertical-align: top;\n    }\n\n    .dataframe thead th {\n        text-align: right;\n    }\n</style>\n<table border=\"1\" class=\"dataframe\">\n  <thead>\n    <tr style=\"text-align: right;\">\n      <th></th>\n      <th>instrument_name</th>\n      <th>client_internal</th>\n      <th>currency</th>\n      <th>isin</th>\n      <th>figi</th>\n      <th>exchange_code</th>\n      <th>country_issue</th>\n      <th>ticker</th>\n      <th>market_sector</th>\n      <th>security_type</th>\n      <th>coupon</th>\n    </tr>\n  </thead>\n  <tbody>\n    <tr>\n      <th>0</th>\n      <td>Amazon_Nasdaq_AMZN</td>\n      <td>imd_34634534</td>\n      <td>USD</td>\n      <td>US0231351067</td>\n      <td>BBG000BVPXP1</td>\n      <td>UN</td>\n      <td>united_states_america</td>\n      <td>AMZN</td>\n      <td>equity</td>\n      <td>common_stock</td>\n      <td>nan</td>\n    </tr>\n    <tr>\n      <th>1</th>\n      <td>Apple_Nasdaq_AAPL</td>\n      <td>imd_35345345</td>\n      <td>USD</td>\n      <td>US0378331005</td>\n      <td>BBG000B9XVV8</td>\n      <td>UN</td>\n      <td>united_states_america</td>\n      <td>AAPL</td>\n      <td>equity</td>\n      <td>common_stock</td>\n      <td>nan</td>\n    </tr>\n    <tr>\n      <th>2</th>\n      <td>BP_LondonStockEx_BP</td>\n      <td>imd_43535553</td>\n      <td>GBP</td>\n      <td>GB0007980591</td>\n      <td>BBG000C05BD1</td>\n      <td>LN</td>\n      <td>united_kingdom</td>\n      <td>BP/</td>\n      <td>equity</td>\n      <td>common_stock</td>\n      <td>nan</td>\n    </tr>\n    <tr>\n      <th>3</th>\n      <td>BurfordCapital_LondonStockEx_BUR</td>\n      <td>imd_43534356</td>\n      <td>GBP</td>\n      <td>GG00B4L84979</td>\n      <td>BBG000PN88Q7</td>\n      <td>LN</td>\n      <td>united_kingdom</td>\n      <td>BUR</td>\n      <td>equity</td>\n      <td>common_stock</td>\n      <td>nan</td>\n    </tr>\n    <tr>\n      <th>4</th>\n      <td>EKFDiagnostics_LondonStockEx_EKF</td>\n      <td>imd_34535355</td>\n      <td>GBP</td>\n      <td>GB0031509804</td>\n      <td>BBG000BVNBN3</td>\n      <td>LN</td>\n      <td>united_kingdom</td>\n      <td>EKF</td>\n      <td>equity</td>\n      <td>common_stock</td>\n      <td>nan</td>\n    </tr>\n    <tr>\n      <th>5</th>\n      <td>Glencore_LondonStockEx_GLEN</td>\n      <td>imd_34534555</td>\n      <td>GBP</td>\n      <td>JE00B4T3BW64</td>\n      <td>BBG001MM1KV4</td>\n      <td>LN</td>\n      <td>united_kingdom</td>\n      <td>GLEN</td>\n      <td>equity</td>\n      <td>common_stock</td>\n      <td>nan</td>\n    </tr>\n    <tr>\n      <th>6</th>\n      <td>JustEat_LondonStockEx_JE</td>\n      <td>imd_35436366</td>\n      <td>GBP</td>\n      <td>GB00BKX5CN86</td>\n      <td>BBG0065YWM39</td>\n      <td>LN</td>\n      <td>united_kingdom</td>\n      <td>JE/</td>\n      <td>equity</td>\n      <td>common_stock</td>\n      <td>nan</td>\n    </tr>\n    <tr>\n      <th>7</th>\n      <td>Kingfisher_LondonStockEx_KGF</td>\n      <td>imd_34535552</td>\n      <td>GBP</td>\n      <td>GB0033195214</td>\n      <td>BBG000BKH1W6</td>\n      <td>LN</td>\n      <td>united_kingdom</td>\n      <td>KGF</td>\n      <td>equity</td>\n      <td>common_stock</td>\n      <td>nan</td>\n    </tr>\n    <tr>\n      <th>8</th>\n      <td>MicroFocus_LondonStockEx_MCRO</td>\n      <td>imd_34567338</td>\n      <td>GBP</td>\n      <td>GB00BD8YWM01</td>\n      <td>BBG000G4KKD2</td>\n      <td>LN</td>\n      <td>united_kingdom</td>\n      <td>MCRO</td>\n      <td>equity</td>\n      <td>common_stock</td>\n      <td>nan</td>\n    </tr>\n    <tr>\n      <th>9</th>\n      <td>RELXGroup_LondonStockEx_REL</td>\n      <td>imd_43532542</td>\n      <td>GBP</td>\n      <td>GB00B2B0DG97</td>\n      <td>BBG000D03XD4</td>\n      <td>LN</td>\n      <td>united_kingdom</td>\n      <td>REL</td>\n      <td>equity</td>\n      <td>common_stock</td>\n      <td>nan</td>\n    </tr>\n    <tr>\n      <th>10</th>\n      <td>Sage_LondonStockEx_SGE</td>\n      <td>imd_23536673</td>\n      <td>GBP</td>\n      <td>GB00B8C3BL03</td>\n      <td>BBG000BN0PP3</td>\n      <td>LN</td>\n      <td>united_kingdom</td>\n      <td>SGE</td>\n      <td>equity</td>\n      <td>common_stock</td>\n      <td>nan</td>\n    </tr>\n    <tr>\n      <th>11</th>\n      <td>TESCO_LondonStockEx_TSCO</td>\n      <td>imd_34634673</td>\n      <td>GBP</td>\n      <td>GB0008847096</td>\n      <td>BBG000BF46Y8</td>\n      <td>LN</td>\n      <td>united_kingdom</td>\n      <td>TSCO</td>\n      <td>equity</td>\n      <td>common_stock</td>\n      <td>nan</td>\n    </tr>\n    <tr>\n      <th>12</th>\n      <td>UKGiltTreasury_2.0_2025</td>\n      <td>imd_34534536</td>\n      <td>GBP</td>\n      <td>GB00BTHH2R79</td>\n      <td>BBG0088JSC32</td>\n      <td>LN</td>\n      <td>united_kingdom</td>\n      <td>UKT 2 09/07/25</td>\n      <td>govt</td>\n      <td>uk_gilt_stock</td>\n      <td>2.00</td>\n    </tr>\n    <tr>\n      <th>13</th>\n      <td>UKGiltTreasury_3.5_2045</td>\n      <td>imd_54234532</td>\n      <td>GBP</td>\n      <td>GB00BN65R313</td>\n      <td>BBG006N6HZM7</td>\n      <td>LN</td>\n      <td>united_kingdom</td>\n      <td>UKT 3.5 01/22/45</td>\n      <td>govt</td>\n      <td>uk_gilt_stock</td>\n      <td>3.50</td>\n    </tr>\n    <tr>\n      <th>14</th>\n      <td>UKGiltTreasury_3.75_2021</td>\n      <td>imd_34643653</td>\n      <td>GBP</td>\n      <td>GB00B4RMG977</td>\n      <td>BBG001KKJLR4</td>\n      <td>LN</td>\n      <td>united_kingdom</td>\n      <td>UKT 3.75 09/07/21</td>\n      <td>govt</td>\n      <td>uk_gilt_stock</td>\n      <td>3.75</td>\n    </tr>\n  </tbody>\n</table>\n</div>"
     },
     "metadata": {},
     "execution_count": 61
    }
   ],
   "source": [
    "instrument_universe = pd.read_csv('data/instruments.csv')\n",
    "instrument_universe.head(n=15)"
   ]
  },
  {
   "cell_type": "markdown",
   "metadata": {},
   "source": [
    "Now that we have our instruments we can add them to LUSID.\n",
    "\n",
    "To add securities to the instrument master in LUSID we use an upsert method. This method will insert a new record if it does not exist and update the existing record if it does exist. This allows us to add instruments more simply than have to check if an instrument exists before we insert it. \n",
    "\n",
    "We can upsert our instruments individually or in a batch. You can read more about upserting instruments\n",
    "in the LUSID API Documentation: [LUSID API Docs: Upserting Instruments](https://docs.lusid.com/#operation/UpsertInstruments)\n",
    "\n",
    "*Run the cell below to upsert our instrument universe*"
   ]
  },
  {
   "cell_type": "code",
   "execution_count": 62,
   "metadata": {
    "pycharm": {
     "is_executing": false
    },
    "tags": []
   },
   "outputs": [
    {
     "output_type": "stream",
     "name": "stdout",
     "text": "\u001b[91m\u001b[1mInstruments Successfully Upserted: \u001b[0m\n"
    },
    {
     "output_type": "execute_result",
     "data": {
      "text/plain": "                          Instrument ClientInternal ID LUSID Instrument ID\n0           TESCO_LondonStockEx_TSCO      imd_34634673       LUID_PGXCQMI6\n1        Glencore_LondonStockEx_GLEN      imd_34534555       LUID_C39KA15P\n2           JustEat_LondonStockEx_JE      imd_35436366       LUID_3T874ABZ\n3   BurfordCapital_LondonStockEx_BUR      imd_43534356       LUID_0532954O\n4   EKFDiagnostics_LondonStockEx_EKF      imd_34535355       LUID_C6M8XRWF\n5            UKGiltTreasury_3.5_2045      imd_54234532       LUID_5NILEUZS\n6       Whitebread_LondonStockEx_WTB      imd_35349900       LUID_HRMH8J21\n7              USTreasury_6.875_2025      imd_34534539       LUID_JCR9W2XW\n8      MicroFocus_LondonStockEx_MCRO      imd_34567338       LUID_4JBE6N53\n9               USTreasury_2.00_2021      imd_34535347       LUID_99JXP5XY\n10          UKGiltTreasury_3.75_2021      imd_34643653       LUID_GC63E1A4\n11      Kingfisher_LondonStockEx_KGF      imd_34535552       LUID_7TMJKXJB\n12       RELXGroup_LondonStockEx_REL      imd_43532542       LUID_XG2BKRQZ\n13            Sage_LondonStockEx_SGE      imd_23536673       LUID_XLYDUV3T\n14           UKGiltTreasury_2.0_2025      imd_34534536       LUID_YRRKI0M7\n15               BP_LondonStockEx_BP      imd_43535554       LUID_ZLGK5QXB\n16                Amazon_Nasdaq_AMZN      imd_34634534       LUID_53QANLF4\n17           UKGiltTreasury_4.5_2034      imd_34534534       LUID_KZTQMPEK\n18             WPP_LondonStockEx_WPP      imd_34536734       LUID_NDSTZ91F\n19                 Apple_Nasdaq_AAPL      imd_35345345       LUID_M7H5PISK",
      "text/html": "<div>\n<style scoped>\n    .dataframe tbody tr th:only-of-type {\n        vertical-align: middle;\n    }\n\n    .dataframe tbody tr th {\n        vertical-align: top;\n    }\n\n    .dataframe thead th {\n        text-align: right;\n    }\n</style>\n<table border=\"1\" class=\"dataframe\">\n  <thead>\n    <tr style=\"text-align: right;\">\n      <th></th>\n      <th>Instrument</th>\n      <th>ClientInternal ID</th>\n      <th>LUSID Instrument ID</th>\n    </tr>\n  </thead>\n  <tbody>\n    <tr>\n      <th>0</th>\n      <td>TESCO_LondonStockEx_TSCO</td>\n      <td>imd_34634673</td>\n      <td>LUID_PGXCQMI6</td>\n    </tr>\n    <tr>\n      <th>1</th>\n      <td>Glencore_LondonStockEx_GLEN</td>\n      <td>imd_34534555</td>\n      <td>LUID_C39KA15P</td>\n    </tr>\n    <tr>\n      <th>2</th>\n      <td>JustEat_LondonStockEx_JE</td>\n      <td>imd_35436366</td>\n      <td>LUID_3T874ABZ</td>\n    </tr>\n    <tr>\n      <th>3</th>\n      <td>BurfordCapital_LondonStockEx_BUR</td>\n      <td>imd_43534356</td>\n      <td>LUID_0532954O</td>\n    </tr>\n    <tr>\n      <th>4</th>\n      <td>EKFDiagnostics_LondonStockEx_EKF</td>\n      <td>imd_34535355</td>\n      <td>LUID_C6M8XRWF</td>\n    </tr>\n    <tr>\n      <th>5</th>\n      <td>UKGiltTreasury_3.5_2045</td>\n      <td>imd_54234532</td>\n      <td>LUID_5NILEUZS</td>\n    </tr>\n    <tr>\n      <th>6</th>\n      <td>Whitebread_LondonStockEx_WTB</td>\n      <td>imd_35349900</td>\n      <td>LUID_HRMH8J21</td>\n    </tr>\n    <tr>\n      <th>7</th>\n      <td>USTreasury_6.875_2025</td>\n      <td>imd_34534539</td>\n      <td>LUID_JCR9W2XW</td>\n    </tr>\n    <tr>\n      <th>8</th>\n      <td>MicroFocus_LondonStockEx_MCRO</td>\n      <td>imd_34567338</td>\n      <td>LUID_4JBE6N53</td>\n    </tr>\n    <tr>\n      <th>9</th>\n      <td>USTreasury_2.00_2021</td>\n      <td>imd_34535347</td>\n      <td>LUID_99JXP5XY</td>\n    </tr>\n    <tr>\n      <th>10</th>\n      <td>UKGiltTreasury_3.75_2021</td>\n      <td>imd_34643653</td>\n      <td>LUID_GC63E1A4</td>\n    </tr>\n    <tr>\n      <th>11</th>\n      <td>Kingfisher_LondonStockEx_KGF</td>\n      <td>imd_34535552</td>\n      <td>LUID_7TMJKXJB</td>\n    </tr>\n    <tr>\n      <th>12</th>\n      <td>RELXGroup_LondonStockEx_REL</td>\n      <td>imd_43532542</td>\n      <td>LUID_XG2BKRQZ</td>\n    </tr>\n    <tr>\n      <th>13</th>\n      <td>Sage_LondonStockEx_SGE</td>\n      <td>imd_23536673</td>\n      <td>LUID_XLYDUV3T</td>\n    </tr>\n    <tr>\n      <th>14</th>\n      <td>UKGiltTreasury_2.0_2025</td>\n      <td>imd_34534536</td>\n      <td>LUID_YRRKI0M7</td>\n    </tr>\n    <tr>\n      <th>15</th>\n      <td>BP_LondonStockEx_BP</td>\n      <td>imd_43535554</td>\n      <td>LUID_ZLGK5QXB</td>\n    </tr>\n    <tr>\n      <th>16</th>\n      <td>Amazon_Nasdaq_AMZN</td>\n      <td>imd_34634534</td>\n      <td>LUID_53QANLF4</td>\n    </tr>\n    <tr>\n      <th>17</th>\n      <td>UKGiltTreasury_4.5_2034</td>\n      <td>imd_34534534</td>\n      <td>LUID_KZTQMPEK</td>\n    </tr>\n    <tr>\n      <th>18</th>\n      <td>WPP_LondonStockEx_WPP</td>\n      <td>imd_34536734</td>\n      <td>LUID_NDSTZ91F</td>\n    </tr>\n    <tr>\n      <th>19</th>\n      <td>Apple_Nasdaq_AAPL</td>\n      <td>imd_35345345</td>\n      <td>LUID_M7H5PISK</td>\n    </tr>\n  </tbody>\n</table>\n</div>"
     },
     "metadata": {},
     "execution_count": 62
    }
   ],
   "source": [
    "# Initialise your batch upsert request\n",
    "batch_upsert_request = {}\n",
    "\n",
    "# Using your instrument universe create your batch request\n",
    "for index, instrument in instrument_universe.iterrows():\n",
    "\n",
    "    # Specify the columns of your identifiers\n",
    "    identifier_columns = [\n",
    "            ('isin', 'Isin'), \n",
    "            ('figi', 'Figi'), \n",
    "            ('ticker', 'Ticker'),\n",
    "            ('client_internal', 'ClientInternal')\n",
    "    ]\n",
    "    \n",
    "    # Create your identifiers\n",
    "    identifiers = {}\n",
    "    for identifier in identifier_columns:\n",
    "        identifiers[identifier[1]] = models.InstrumentIdValue(\n",
    "            value=instrument[identifier[0]])\n",
    "    \n",
    "    # Build your request and add it to the dictionary\n",
    "    batch_upsert_request[instrument['instrument_name']] = models.InstrumentDefinition(\n",
    "        name=instrument['instrument_name'],\n",
    "        identifiers=identifiers)\n",
    "    \n",
    "# Call LUSID to upsert your instrument defintions\n",
    "instrument_response = api_factory.build(lusid.api.InstrumentsApi).upsert_instruments(request_body=batch_upsert_request)\n",
    "\n",
    "# Pretty print the response\n",
    "prettyprint.instrument_response(instrument_response)"
   ]
  },
  {
   "cell_type": "markdown",
   "metadata": {},
   "source": [
    "Our LUSID environment now has an instrument master containing all of our instruments that we will be trading."
   ]
  },
  {
   "cell_type": "markdown",
   "metadata": {},
   "source": [
    "![Scopes](img/strategies/strategies-instrumentmaster.gif)"
   ]
  },
  {
   "cell_type": "markdown",
   "metadata": {},
   "source": [
    "### 3) Adding our take on balances for each portfolio which have been provided to us by a transition manager"
   ]
  },
  {
   "cell_type": "markdown",
   "metadata": {},
   "source": [
    "We have been advised by a transition manager on the holdings that we will be taking on for our new client. They have provided these initial holdings to us in a CSV.\n",
    "\n",
    "Let us load our take on balances. \n",
    "\n",
    "*Run the cell below to import our initial holdings information*"
   ]
  },
  {
   "cell_type": "code",
   "execution_count": 63,
   "metadata": {
    "pycharm": {
     "is_executing": false
    }
   },
   "outputs": [
    {
     "output_type": "execute_result",
     "data": {
      "text/plain": "                   portfolio_group_name         portfolio_name  \\\n0   high_street_pension_fund-portfolios       mandate-balanced   \n1   high_street_pension_fund-portfolios       mandate-balanced   \n2   high_street_pension_fund-portfolios       mandate-balanced   \n3   high_street_pension_fund-portfolios       mandate-balanced   \n4   high_street_pension_fund-portfolios       mandate-balanced   \n5   high_street_pension_fund-portfolios         mandate-energy   \n6   high_street_pension_fund-portfolios         mandate-energy   \n7   high_street_pension_fund-portfolios         mandate-energy   \n8   high_street_pension_fund-portfolios    mandate-fixedincome   \n9   high_street_pension_fund-portfolios    mandate-fixedincome   \n10  high_street_pension_fund-portfolios    mandate-fixedincome   \n11  high_street_pension_fund-portfolios    mandate-fixedincome   \n12  high_street_pension_fund-portfolios    mandate-fixedincome   \n13  high_street_pension_fund-portfolios    mandate-fixedincome   \n14  high_street_pension_fund-portfolios  mandate-international   \n15  high_street_pension_fund-portfolios  mandate-international   \n16  high_street_pension_fund-portfolios  mandate-international   \n17  high_street_pension_fund-portfolios  mandate-international   \n18  high_street_pension_fund-portfolios         mandate-usgovt   \n19  high_street_pension_fund-portfolios         mandate-usgovt   \n\n                 instrument_name  quantity   price currency          figi  \n0   Kingfisher_LondonStockEx_KGF   1362038    2.28      GBP  BBG000BKH1W6  \n1       JustEat_LondonStockEx_JE    834553    5.46      GBP  BBG0065YWM39  \n2    RELXGroup_LondonStockEx_REL    494343   15.98      GBP  BBG000D03XD4  \n3        UKGiltTreasury_4.5_2034     77481  140.57      GBP  BBG0000D14P3  \n4                       GBP_Cash    952000    1.00      GBP           NaN  \n5    Glencore_LondonStockEx_GLEN    905141    2.76      GBP  BBG001MM1KV4  \n6            BP_LondonStockEx_BP   1713922    5.11      GBP  BBG000C05BD1  \n7                       GBP_Cash   2200000    1.00      GBP           NaN  \n8        UKGiltTreasury_3.5_2045    266169  134.43      GBP  BBG006N6HZM7  \n9        UKGiltTreasury_2.0_2025    405589  106.64      GBP  BBG0088JSC32  \n10      UKGiltTreasury_3.75_2021    174800  108.13      GBP  BBG001KKJLR4  \n11          USTreasury_2.00_2021    357507   97.90      USD  BBG00FN3B5K8  \n12                      GBP_Cash   3450000    1.00      GBP           NaN  \n13                      USD_Cash   1200000    1.00      USD           NaN  \n14          USTreasury_2.00_2021    357507   97.90      USD  BBG00FN3B5K8  \n15             Apple_Nasdaq_AAPL    504481  168.49      USD  BBG000B9XVV8  \n16            Amazon_Nasdaq_AMZN     38671 1629.13      USD  BBG000BVPXP1  \n17                      USD_Cash   1400000    1.00      USD           NaN  \n18          USTreasury_2.00_2021    286006   97.90      USD  BBG00FN3B5K8  \n19         USTreasury_6.875_2025    256986  124.52      USD  BBG000DQQNJ8  ",
      "text/html": "<div>\n<style scoped>\n    .dataframe tbody tr th:only-of-type {\n        vertical-align: middle;\n    }\n\n    .dataframe tbody tr th {\n        vertical-align: top;\n    }\n\n    .dataframe thead th {\n        text-align: right;\n    }\n</style>\n<table border=\"1\" class=\"dataframe\">\n  <thead>\n    <tr style=\"text-align: right;\">\n      <th></th>\n      <th>portfolio_group_name</th>\n      <th>portfolio_name</th>\n      <th>instrument_name</th>\n      <th>quantity</th>\n      <th>price</th>\n      <th>currency</th>\n      <th>figi</th>\n    </tr>\n  </thead>\n  <tbody>\n    <tr>\n      <th>0</th>\n      <td>high_street_pension_fund-portfolios</td>\n      <td>mandate-balanced</td>\n      <td>Kingfisher_LondonStockEx_KGF</td>\n      <td>1362038</td>\n      <td>2.28</td>\n      <td>GBP</td>\n      <td>BBG000BKH1W6</td>\n    </tr>\n    <tr>\n      <th>1</th>\n      <td>high_street_pension_fund-portfolios</td>\n      <td>mandate-balanced</td>\n      <td>JustEat_LondonStockEx_JE</td>\n      <td>834553</td>\n      <td>5.46</td>\n      <td>GBP</td>\n      <td>BBG0065YWM39</td>\n    </tr>\n    <tr>\n      <th>2</th>\n      <td>high_street_pension_fund-portfolios</td>\n      <td>mandate-balanced</td>\n      <td>RELXGroup_LondonStockEx_REL</td>\n      <td>494343</td>\n      <td>15.98</td>\n      <td>GBP</td>\n      <td>BBG000D03XD4</td>\n    </tr>\n    <tr>\n      <th>3</th>\n      <td>high_street_pension_fund-portfolios</td>\n      <td>mandate-balanced</td>\n      <td>UKGiltTreasury_4.5_2034</td>\n      <td>77481</td>\n      <td>140.57</td>\n      <td>GBP</td>\n      <td>BBG0000D14P3</td>\n    </tr>\n    <tr>\n      <th>4</th>\n      <td>high_street_pension_fund-portfolios</td>\n      <td>mandate-balanced</td>\n      <td>GBP_Cash</td>\n      <td>952000</td>\n      <td>1.00</td>\n      <td>GBP</td>\n      <td>NaN</td>\n    </tr>\n    <tr>\n      <th>5</th>\n      <td>high_street_pension_fund-portfolios</td>\n      <td>mandate-energy</td>\n      <td>Glencore_LondonStockEx_GLEN</td>\n      <td>905141</td>\n      <td>2.76</td>\n      <td>GBP</td>\n      <td>BBG001MM1KV4</td>\n    </tr>\n    <tr>\n      <th>6</th>\n      <td>high_street_pension_fund-portfolios</td>\n      <td>mandate-energy</td>\n      <td>BP_LondonStockEx_BP</td>\n      <td>1713922</td>\n      <td>5.11</td>\n      <td>GBP</td>\n      <td>BBG000C05BD1</td>\n    </tr>\n    <tr>\n      <th>7</th>\n      <td>high_street_pension_fund-portfolios</td>\n      <td>mandate-energy</td>\n      <td>GBP_Cash</td>\n      <td>2200000</td>\n      <td>1.00</td>\n      <td>GBP</td>\n      <td>NaN</td>\n    </tr>\n    <tr>\n      <th>8</th>\n      <td>high_street_pension_fund-portfolios</td>\n      <td>mandate-fixedincome</td>\n      <td>UKGiltTreasury_3.5_2045</td>\n      <td>266169</td>\n      <td>134.43</td>\n      <td>GBP</td>\n      <td>BBG006N6HZM7</td>\n    </tr>\n    <tr>\n      <th>9</th>\n      <td>high_street_pension_fund-portfolios</td>\n      <td>mandate-fixedincome</td>\n      <td>UKGiltTreasury_2.0_2025</td>\n      <td>405589</td>\n      <td>106.64</td>\n      <td>GBP</td>\n      <td>BBG0088JSC32</td>\n    </tr>\n    <tr>\n      <th>10</th>\n      <td>high_street_pension_fund-portfolios</td>\n      <td>mandate-fixedincome</td>\n      <td>UKGiltTreasury_3.75_2021</td>\n      <td>174800</td>\n      <td>108.13</td>\n      <td>GBP</td>\n      <td>BBG001KKJLR4</td>\n    </tr>\n    <tr>\n      <th>11</th>\n      <td>high_street_pension_fund-portfolios</td>\n      <td>mandate-fixedincome</td>\n      <td>USTreasury_2.00_2021</td>\n      <td>357507</td>\n      <td>97.90</td>\n      <td>USD</td>\n      <td>BBG00FN3B5K8</td>\n    </tr>\n    <tr>\n      <th>12</th>\n      <td>high_street_pension_fund-portfolios</td>\n      <td>mandate-fixedincome</td>\n      <td>GBP_Cash</td>\n      <td>3450000</td>\n      <td>1.00</td>\n      <td>GBP</td>\n      <td>NaN</td>\n    </tr>\n    <tr>\n      <th>13</th>\n      <td>high_street_pension_fund-portfolios</td>\n      <td>mandate-fixedincome</td>\n      <td>USD_Cash</td>\n      <td>1200000</td>\n      <td>1.00</td>\n      <td>USD</td>\n      <td>NaN</td>\n    </tr>\n    <tr>\n      <th>14</th>\n      <td>high_street_pension_fund-portfolios</td>\n      <td>mandate-international</td>\n      <td>USTreasury_2.00_2021</td>\n      <td>357507</td>\n      <td>97.90</td>\n      <td>USD</td>\n      <td>BBG00FN3B5K8</td>\n    </tr>\n    <tr>\n      <th>15</th>\n      <td>high_street_pension_fund-portfolios</td>\n      <td>mandate-international</td>\n      <td>Apple_Nasdaq_AAPL</td>\n      <td>504481</td>\n      <td>168.49</td>\n      <td>USD</td>\n      <td>BBG000B9XVV8</td>\n    </tr>\n    <tr>\n      <th>16</th>\n      <td>high_street_pension_fund-portfolios</td>\n      <td>mandate-international</td>\n      <td>Amazon_Nasdaq_AMZN</td>\n      <td>38671</td>\n      <td>1629.13</td>\n      <td>USD</td>\n      <td>BBG000BVPXP1</td>\n    </tr>\n    <tr>\n      <th>17</th>\n      <td>high_street_pension_fund-portfolios</td>\n      <td>mandate-international</td>\n      <td>USD_Cash</td>\n      <td>1400000</td>\n      <td>1.00</td>\n      <td>USD</td>\n      <td>NaN</td>\n    </tr>\n    <tr>\n      <th>18</th>\n      <td>high_street_pension_fund-portfolios</td>\n      <td>mandate-usgovt</td>\n      <td>USTreasury_2.00_2021</td>\n      <td>286006</td>\n      <td>97.90</td>\n      <td>USD</td>\n      <td>BBG00FN3B5K8</td>\n    </tr>\n    <tr>\n      <th>19</th>\n      <td>high_street_pension_fund-portfolios</td>\n      <td>mandate-usgovt</td>\n      <td>USTreasury_6.875_2025</td>\n      <td>256986</td>\n      <td>124.52</td>\n      <td>USD</td>\n      <td>BBG000DQQNJ8</td>\n    </tr>\n  </tbody>\n</table>\n</div>"
     },
     "metadata": {},
     "execution_count": 63
    }
   ],
   "source": [
    "client_holdings = pd.read_csv('data/strategy-holdings.csv')\n",
    "client_holdings.head(n=20)"
   ]
  },
  {
   "cell_type": "markdown",
   "metadata": {},
   "source": [
    "To set our holdings in LUSID we use the set holdings method. This method takes a list of adjustment requests. Using these requests LUSID will determine what transactions are required to update our portfolios so that they have the desired holdings.\n",
    "\n",
    "We will make our holdings effecitve as of five days ago as this was when we on-boarded the client. \n",
    "\n",
    "Just like when we created our portfolios we can only set the holdings one portfolio at a time. \n",
    "\n",
    "You can read more about setting the holdings on a portfolio in the LUSID API Documentation: [LUSID API Docs: Setting the Holdings on a Portfolio](https://docs.lusid.com/#operation/SetHoldings)\n",
    "\n",
    "*Run the cell below to set our take on balances*"
   ]
  },
  {
   "cell_type": "code",
   "execution_count": 64,
   "metadata": {
    "pycharm": {
     "is_executing": false
    },
    "tags": []
   },
   "outputs": [
    {
     "output_type": "stream",
     "name": "stdout",
     "text": "\u001b[1mHoldings Successfully Set for Portfolio\u001b[0m\n\u001b[1mScope: \u001b[0mclient-high_street_pension_fund-3892-f1eb-a604-ac\n\u001b[1mCode: \u001b[0mmandate-balanced\n\u001b[1mHoldings Effective From: \u001b[0m2020-06-12 17:57:24.068572+00:00\n\u001b[1mHoldings Created On: \u001b[0m2020-06-17 17:57:27.580893+00:00\n\n\u001b[1mHoldings Successfully Set for Portfolio\u001b[0m\n\u001b[1mScope: \u001b[0mclient-high_street_pension_fund-3892-f1eb-a604-ac\n\u001b[1mCode: \u001b[0mmandate-energy\n\u001b[1mHoldings Effective From: \u001b[0m2020-06-12 17:57:24.068572+00:00\n\u001b[1mHoldings Created On: \u001b[0m2020-06-17 17:57:27.972954+00:00\n\n\u001b[1mHoldings Successfully Set for Portfolio\u001b[0m\n\u001b[1mScope: \u001b[0mclient-high_street_pension_fund-3892-f1eb-a604-ac\n\u001b[1mCode: \u001b[0mmandate-fixedincome\n\u001b[1mHoldings Effective From: \u001b[0m2020-06-12 17:57:24.068572+00:00\n\u001b[1mHoldings Created On: \u001b[0m2020-06-17 17:57:28.492157+00:00\n\n\u001b[1mHoldings Successfully Set for Portfolio\u001b[0m\n\u001b[1mScope: \u001b[0mclient-high_street_pension_fund-3892-f1eb-a604-ac\n\u001b[1mCode: \u001b[0mmandate-international\n\u001b[1mHoldings Effective From: \u001b[0m2020-06-12 17:57:24.068572+00:00\n\u001b[1mHoldings Created On: \u001b[0m2020-06-17 17:57:28.896927+00:00\n\n\u001b[1mHoldings Successfully Set for Portfolio\u001b[0m\n\u001b[1mScope: \u001b[0mclient-high_street_pension_fund-3892-f1eb-a604-ac\n\u001b[1mCode: \u001b[0mmandate-usgovt\n\u001b[1mHoldings Effective From: \u001b[0m2020-06-12 17:57:24.068572+00:00\n\u001b[1mHoldings Created On: \u001b[0m2020-06-17 17:57:29.387794+00:00\n\nHoldings have been set for all Portfolios\n"
    }
   ],
   "source": [
    "holdings_effective_date = (datetime.now(pytz.UTC) - timedelta(days=5))\n",
    "\n",
    "# Iterate over our portfolios\n",
    "for portfolio_name in client_holdings['portfolio_name'].unique():\n",
    "    \n",
    "    # Initialise our list to hold the holding adjustments\n",
    "    holding_adjustments = []\n",
    "\n",
    "    # Iterate over the holdings in each portfolio\n",
    "    for index, holding in client_holdings.loc[client_holdings['portfolio_name'] == portfolio_name].iterrows():\n",
    "        \n",
    "        # Get the currency of the holding\n",
    "        currency = holding['currency']\n",
    "        \n",
    "        # Identify and handle cash instruments\n",
    "        if 'Cash' in holding['instrument_name']:\n",
    "            identifier_key = 'Instrument/default/Currency'\n",
    "            identifier = currency\n",
    "        # Else treat it as a normal instrument and use Figi\n",
    "        else:\n",
    "            identifier_key = 'Instrument/default/Figi'\n",
    "            identifier = holding['figi']\n",
    "\n",
    "        # Create our adjust holdings request using our instrument universe to get the LUID identifier for the instrument\n",
    "        holding_adjustments.append(\n",
    "            models.AdjustHoldingRequest(\n",
    "                instrument_identifiers={\n",
    "                    identifier_key: identifier},\n",
    "                tax_lots=[\n",
    "                    models.TargetTaxLotRequest(\n",
    "                        units=holding['quantity'],\n",
    "                        cost=models.CurrencyAndAmount(\n",
    "                            amount=holding['quantity'] * holding['price'],\n",
    "                            currency=currency),\n",
    "                        portfolio_cost=holding['quantity'] * holding['price'],\n",
    "                        price=holding['price'])\n",
    "                ])\n",
    "        )\n",
    "    \n",
    "    # Call LUSID to set our holdings\n",
    "    set_holdings_response = api_factory.build(lusid.api.TransactionPortfoliosApi).set_holdings(\n",
    "        scope=client_scope_code,\n",
    "        code=portfolio_name,\n",
    "        effective_at=holdings_effective_date,\n",
    "        adjust_holding_request=holding_adjustments)\n",
    "    \n",
    "    # Print the response from LUSID using pretty formatting\n",
    "    prettyprint.set_holdings_response(\n",
    "        set_holdings_response, \n",
    "        client_scope_code, \n",
    "        portfolio_name)\n",
    "\n",
    "print ('Holdings have been set for all Portfolios')"
   ]
  },
  {
   "cell_type": "markdown",
   "metadata": {},
   "source": [
    "Our portfolios are no longer empty and now contain the initial holdings for our new client."
   ]
  },
  {
   "cell_type": "markdown",
   "metadata": {},
   "source": [
    "![Scopes](img/strategies/strategies-holdings.gif)"
   ]
  },
  {
   "cell_type": "markdown",
   "metadata": {},
   "source": [
    "### 4) Creating a strategy tag that we can use to tag our transactions with the strategy used to make the trade"
   ]
  },
  {
   "cell_type": "markdown",
   "metadata": {},
   "source": [
    "We want to be able to track what strategies our portfolio managers were following when they made an investment decision. To do this in LUSID we can use properties. We can define a property and attach it to almost any object in LUSID. \n",
    "\n",
    "In this case we can create a 'strategy' property that we can attach to our transactions. This property will take the form of a string which will be the name of the strategy that the portfolio manager followed. Examples of strategies in this case are 'quantitativeSignal', 'fundamentalAnalysis' etc.\n",
    "\n",
    "To ensure that the there are no issues with things such as mispelled strategies we will create a custom data type to use with our property which restricts the available options.\n",
    "\n",
    "You can read more about defining new properties in the LUSID API documentation: [LUSID API Docs: Creating a New Data Type](https://www.lusid.com/docs/api/#operation/CreateDataType)\n",
    "\n",
    "*Run the cell below to create our custom data type*"
   ]
  },
  {
   "cell_type": "code",
   "execution_count": 65,
   "metadata": {
    "tags": []
   },
   "outputs": [
    {
     "output_type": "stream",
     "name": "stdout",
     "text": "Data Type Created\n\u001b[1mScope: \u001b[0mclient-high_street_pension_fund-3892-f1eb-a604-ac\n\u001b[1mCode: \u001b[0mStrategyCodes\n"
    }
   ],
   "source": [
    "create_request = lusid.models.CreateDataTypeRequest(\n",
    "    scope=client_scope_code,\n",
    "    code=\"StrategyCodes\",\n",
    "    type_value_range=\"Closed\",\n",
    "    display_name=\"Available Investment Strategy Tags\",\n",
    "    description=\"This data type contains the available strategies which can be used\",\n",
    "    value_type=\"String\",\n",
    "    acceptable_values=[\n",
    "        \"quantitativeSignal\",\n",
    "        \"incomeRequirements\",\n",
    "        \"internationalExposure\",\n",
    "        \"fundamentalAnalysis\",\n",
    "        \"newsSentiment\"\n",
    "    ])\n",
    "\n",
    "\n",
    "response = api_factory.build(lusid.api.DataTypesApi).create_data_type(\n",
    "    create_data_type_request=create_request)\n",
    "\n",
    "print(\"Data Type Created\")\n",
    "prettyprint.heading(\"Scope\", response.id.scope)\n",
    "prettyprint.heading(\"Code\", response.id.code)"
   ]
  },
  {
   "cell_type": "markdown",
   "metadata": {},
   "source": [
    "We can now create a property definition using our custom data type. \n",
    "\n",
    "You can read more about defining new properties in the LUSID API documentation: [LUSID API Docs: Creating a New Property Definition](https://docs.lusid.com/#operation/CreatePropertyDefinition)\n",
    "\n",
    "*Run the cell below to create our strategy property*"
   ]
  },
  {
   "cell_type": "code",
   "execution_count": 66,
   "metadata": {
    "pycharm": {
     "is_executing": false
    },
    "tags": []
   },
   "outputs": [
    {
     "output_type": "stream",
     "name": "stdout",
     "text": "\u001b[1mStrategy Property Key: \u001b[0mTransaction/client-high_street_pension_fund-3892-f1eb-a604-ac/strategy\n"
    }
   ],
   "source": [
    "# Create our request to define a new property\n",
    "property_request = models.CreatePropertyDefinitionRequest(\n",
    "    domain='Transaction',\n",
    "    scope=client_scope_code,\n",
    "    code='strategy',\n",
    "    value_required=False,\n",
    "    display_name='strategy',\n",
    "    data_type_id=models.ResourceId(scope=client_scope_code, code='StrategyCodes'))\n",
    "\n",
    "# Call LUSID to create our new property\n",
    "property_response = api_factory.build(lusid.api.PropertyDefinitionsApi).create_property_definition(\n",
    "    create_property_definition_request=property_request)\n",
    "\n",
    "# Grab the key off the response to use when referencing this property in other LUSID calls\n",
    "strategy_property_key = property_response.key\n",
    "\n",
    "# Pretty print our key\n",
    "prettyprint.heading('Strategy Property Key', strategy_property_key)"
   ]
  },
  {
   "cell_type": "markdown",
   "metadata": {},
   "source": [
    "We now have a strategy property that we can set on each of our transactions which is referenced by our strategy property key."
   ]
  },
  {
   "cell_type": "markdown",
   "metadata": {},
   "source": [
    "![Scopes](img/strategies/strategies-strategypropertykey.gif)"
   ]
  },
  {
   "cell_type": "markdown",
   "metadata": {},
   "source": [
    "### 5) Adding the first trades that have been made by our portfolio managers inlcuding the strategy that they were following when they made them"
   ]
  },
  {
   "cell_type": "markdown",
   "metadata": {},
   "source": [
    "Now that we have our transaction property defined we can load our transactions. We will load these from a CSV file. In practice these are likely to come from our order management system. You can see from looking at the transaction dates that these transactions have all occured over the last 4 days.\n",
    "\n",
    "*Run the cell below to import our transactions*"
   ]
  },
  {
   "cell_type": "code",
   "execution_count": 67,
   "metadata": {
    "pycharm": {
     "is_executing": false
    }
   },
   "outputs": [
    {
     "output_type": "execute_result",
     "data": {
      "text/plain": "        transaction_id  type              portfolio  \\\n0  tid_329432525234324  Sell       mandate-balanced   \n1  tid_325452342424500   Buy       mandate-balanced   \n2  tid_234295929052090   Buy    mandate-fixedincome   \n3  tid_234942982496001  Sell    mandate-fixedincome   \n4  tid_239491298599900  Sell         mandate-energy   \n5  tid_121309590059995   Buy         mandate-energy   \n6  tid_124319009950924  Sell         mandate-usgovt   \n7  tid_212390582999593   Buy  mandate-international   \n\n                instrument_name instrument_uid  \\\n0  Kingfisher_LondonStockEx_KGF   BBG000BKH1W6   \n1       UKGiltTreasury_4.5_2034   BBG0000D14P3   \n2      UKGiltTreasury_3.75_2021   BBG001KKJLR4   \n3          USTreasury_2.00_2021   BBG00FN3B5K8   \n4   Glencore_LondonStockEx_GLEN   BBG001MM1KV4   \n5           BP_LondonStockEx_BP   BBG000C05BD1   \n6          USTreasury_2.00_2021   BBG00FN3B5K8   \n7             Apple_Nasdaq_AAPL   BBG000B9XVV8   \n\n                   transaction_date                   settlement_date   units  \\\n0  2020-06-14T13:40:00.931811+00:00  2020-06-16T13:40:00.931811+00:00  325000   \n1  2020-06-16T14:48:06.138008+00:00  2020-06-18T14:48:06.138008+00:00   10501   \n2  2020-06-13T11:08:39.702162+00:00  2020-06-15T11:08:39.702162+00:00   24000   \n3  2020-06-16T09:14:17.223277+00:00  2020-06-18T09:14:17.223277+00:00   57000   \n4  2020-06-13T08:18:54.976864+00:00  2020-06-15T08:18:54.976864+00:00  120000   \n5  2020-06-14T09:18:13.241556+00:00  2020-06-16T09:18:13.241556+00:00   50000   \n6  2020-06-14T10:30:38.620069+00:00  2020-06-16T10:30:38.620069+00:00   28000   \n7  2020-06-13T12:41:16.417610+00:00  2020-06-15T12:41:16.417610+00:00   15000   \n\n   transaction_price transaction_currency  total_cost               strategy  \\\n0               2.35                  GBP   762125.00     quantitativeSignal   \n1             140.57                  GBP  1476146.57     incomeRequirements   \n2             109.13                  GBP  2619024.00     incomeRequirements   \n3              97.80                  USD  5574600.00  internationalExposure   \n4               2.60                  GBP   312000.00    fundamentalAnalysis   \n5               5.29                  GBP   264350.00    fundamentalAnalysis   \n6              98.10                  USD  2746800.00     incomeRequirements   \n7             168.49                  GBP  2527350.00          newsSentiment   \n\n       description  \n0      Equity Sale  \n1  Equity Purchase  \n2  Equity Purchase  \n3      Equity Sale  \n4      Equity Sale  \n5  Equity Purchase  \n6      Equity Sale  \n7  Equity Purchase  ",
      "text/html": "<div>\n<style scoped>\n    .dataframe tbody tr th:only-of-type {\n        vertical-align: middle;\n    }\n\n    .dataframe tbody tr th {\n        vertical-align: top;\n    }\n\n    .dataframe thead th {\n        text-align: right;\n    }\n</style>\n<table border=\"1\" class=\"dataframe\">\n  <thead>\n    <tr style=\"text-align: right;\">\n      <th></th>\n      <th>transaction_id</th>\n      <th>type</th>\n      <th>portfolio</th>\n      <th>instrument_name</th>\n      <th>instrument_uid</th>\n      <th>transaction_date</th>\n      <th>settlement_date</th>\n      <th>units</th>\n      <th>transaction_price</th>\n      <th>transaction_currency</th>\n      <th>total_cost</th>\n      <th>strategy</th>\n      <th>description</th>\n    </tr>\n  </thead>\n  <tbody>\n    <tr>\n      <th>0</th>\n      <td>tid_329432525234324</td>\n      <td>Sell</td>\n      <td>mandate-balanced</td>\n      <td>Kingfisher_LondonStockEx_KGF</td>\n      <td>BBG000BKH1W6</td>\n      <td>2020-06-14T13:40:00.931811+00:00</td>\n      <td>2020-06-16T13:40:00.931811+00:00</td>\n      <td>325000</td>\n      <td>2.35</td>\n      <td>GBP</td>\n      <td>762125.00</td>\n      <td>quantitativeSignal</td>\n      <td>Equity Sale</td>\n    </tr>\n    <tr>\n      <th>1</th>\n      <td>tid_325452342424500</td>\n      <td>Buy</td>\n      <td>mandate-balanced</td>\n      <td>UKGiltTreasury_4.5_2034</td>\n      <td>BBG0000D14P3</td>\n      <td>2020-06-16T14:48:06.138008+00:00</td>\n      <td>2020-06-18T14:48:06.138008+00:00</td>\n      <td>10501</td>\n      <td>140.57</td>\n      <td>GBP</td>\n      <td>1476146.57</td>\n      <td>incomeRequirements</td>\n      <td>Equity Purchase</td>\n    </tr>\n    <tr>\n      <th>2</th>\n      <td>tid_234295929052090</td>\n      <td>Buy</td>\n      <td>mandate-fixedincome</td>\n      <td>UKGiltTreasury_3.75_2021</td>\n      <td>BBG001KKJLR4</td>\n      <td>2020-06-13T11:08:39.702162+00:00</td>\n      <td>2020-06-15T11:08:39.702162+00:00</td>\n      <td>24000</td>\n      <td>109.13</td>\n      <td>GBP</td>\n      <td>2619024.00</td>\n      <td>incomeRequirements</td>\n      <td>Equity Purchase</td>\n    </tr>\n    <tr>\n      <th>3</th>\n      <td>tid_234942982496001</td>\n      <td>Sell</td>\n      <td>mandate-fixedincome</td>\n      <td>USTreasury_2.00_2021</td>\n      <td>BBG00FN3B5K8</td>\n      <td>2020-06-16T09:14:17.223277+00:00</td>\n      <td>2020-06-18T09:14:17.223277+00:00</td>\n      <td>57000</td>\n      <td>97.80</td>\n      <td>USD</td>\n      <td>5574600.00</td>\n      <td>internationalExposure</td>\n      <td>Equity Sale</td>\n    </tr>\n    <tr>\n      <th>4</th>\n      <td>tid_239491298599900</td>\n      <td>Sell</td>\n      <td>mandate-energy</td>\n      <td>Glencore_LondonStockEx_GLEN</td>\n      <td>BBG001MM1KV4</td>\n      <td>2020-06-13T08:18:54.976864+00:00</td>\n      <td>2020-06-15T08:18:54.976864+00:00</td>\n      <td>120000</td>\n      <td>2.60</td>\n      <td>GBP</td>\n      <td>312000.00</td>\n      <td>fundamentalAnalysis</td>\n      <td>Equity Sale</td>\n    </tr>\n    <tr>\n      <th>5</th>\n      <td>tid_121309590059995</td>\n      <td>Buy</td>\n      <td>mandate-energy</td>\n      <td>BP_LondonStockEx_BP</td>\n      <td>BBG000C05BD1</td>\n      <td>2020-06-14T09:18:13.241556+00:00</td>\n      <td>2020-06-16T09:18:13.241556+00:00</td>\n      <td>50000</td>\n      <td>5.29</td>\n      <td>GBP</td>\n      <td>264350.00</td>\n      <td>fundamentalAnalysis</td>\n      <td>Equity Purchase</td>\n    </tr>\n    <tr>\n      <th>6</th>\n      <td>tid_124319009950924</td>\n      <td>Sell</td>\n      <td>mandate-usgovt</td>\n      <td>USTreasury_2.00_2021</td>\n      <td>BBG00FN3B5K8</td>\n      <td>2020-06-14T10:30:38.620069+00:00</td>\n      <td>2020-06-16T10:30:38.620069+00:00</td>\n      <td>28000</td>\n      <td>98.10</td>\n      <td>USD</td>\n      <td>2746800.00</td>\n      <td>incomeRequirements</td>\n      <td>Equity Sale</td>\n    </tr>\n    <tr>\n      <th>7</th>\n      <td>tid_212390582999593</td>\n      <td>Buy</td>\n      <td>mandate-international</td>\n      <td>Apple_Nasdaq_AAPL</td>\n      <td>BBG000B9XVV8</td>\n      <td>2020-06-13T12:41:16.417610+00:00</td>\n      <td>2020-06-15T12:41:16.417610+00:00</td>\n      <td>15000</td>\n      <td>168.49</td>\n      <td>GBP</td>\n      <td>2527350.00</td>\n      <td>newsSentiment</td>\n      <td>Equity Purchase</td>\n    </tr>\n  </tbody>\n</table>\n</div>"
     },
     "metadata": {},
     "execution_count": 67
    }
   ],
   "source": [
    "client_transactions = import_data.fetch_client_transactions(\n",
    "    'strategy-transactions.csv', \n",
    "    days_back=4)\n",
    "\n",
    "client_transactions.head(n=10)"
   ]
  },
  {
   "cell_type": "markdown",
   "metadata": {},
   "source": [
    "Now that we have our transactions we can upsert them into LUSID. We can only upsert transactions for one portfolio at time. Therefore we will upsert our transactions in batches. Each batch contains all the transactions for a given portfolio. \n",
    "\n",
    "You can read more about upserting transactions in the LUSID API documentation: [LUSID API Docs: Upserting Transactions](https://docs.lusid.com/#operation/UpsertTransactions)\n",
    "\n",
    "*Run the cell below to upsert our transactions*"
   ]
  },
  {
   "cell_type": "code",
   "execution_count": 68,
   "metadata": {
    "pycharm": {
     "is_executing": false
    },
    "tags": []
   },
   "outputs": [
    {
     "output_type": "stream",
     "name": "stdout",
     "text": "\u001b[1mTransactions Successfully Upserted into Portfolio\u001b[0m\n\u001b[1mScope: \u001b[0mclient-high_street_pension_fund-3892-f1eb-a604-ac\n\u001b[1mCode: \u001b[0mmandate-balanced\n\u001b[1mTransactions Effective From: \u001b[0m2020-06-16 14:48:06.138008+00:00\n\u001b[1mTransactions Created On: \u001b[0m2020-06-17 17:57:30.351887+00:00\n\n\u001b[1mTransactions Successfully Upserted into Portfolio\u001b[0m\n\u001b[1mScope: \u001b[0mclient-high_street_pension_fund-3892-f1eb-a604-ac\n\u001b[1mCode: \u001b[0mmandate-fixedincome\n\u001b[1mTransactions Effective From: \u001b[0m2020-06-16 09:14:17.223277+00:00\n\u001b[1mTransactions Created On: \u001b[0m2020-06-17 17:57:30.805689+00:00\n\n\u001b[1mTransactions Successfully Upserted into Portfolio\u001b[0m\n\u001b[1mScope: \u001b[0mclient-high_street_pension_fund-3892-f1eb-a604-ac\n\u001b[1mCode: \u001b[0mmandate-energy\n\u001b[1mTransactions Effective From: \u001b[0m2020-06-14 09:18:13.241556+00:00\n\u001b[1mTransactions Created On: \u001b[0m2020-06-17 17:57:31.232589+00:00\n\n\u001b[1mTransactions Successfully Upserted into Portfolio\u001b[0m\n\u001b[1mScope: \u001b[0mclient-high_street_pension_fund-3892-f1eb-a604-ac\n\u001b[1mCode: \u001b[0mmandate-usgovt\n\u001b[1mTransactions Effective From: \u001b[0m2020-06-14 10:30:38.620069+00:00\n\u001b[1mTransactions Created On: \u001b[0m2020-06-17 17:57:31.676478+00:00\n\n\u001b[1mTransactions Successfully Upserted into Portfolio\u001b[0m\n\u001b[1mScope: \u001b[0mclient-high_street_pension_fund-3892-f1eb-a604-ac\n\u001b[1mCode: \u001b[0mmandate-international\n\u001b[1mTransactions Effective From: \u001b[0m2020-06-13 12:41:16.417610+00:00\n\u001b[1mTransactions Created On: \u001b[0m2020-06-17 17:57:32.142234+00:00\n\n"
    }
   ],
   "source": [
    "# Iterate over our portfolios\n",
    "for portfolio_name in client_transactions['portfolio'].unique():\n",
    "    # Initialise a list to hold our transactions for each portfolio\n",
    "    batch_transaction_requests = []\n",
    "    # Iterate over the transactions for each portfolio\n",
    "    for index, transaction in client_transactions.loc[\n",
    "        client_transactions['portfolio'] == portfolio_name].iterrows():\n",
    "        # Append the transaction to our request, note the use of the 'properties' argument\n",
    "        batch_transaction_requests.append(\n",
    "            models.TransactionRequest(\n",
    "                transaction_id=transaction['transaction_id'],\n",
    "                type=transaction['type'],\n",
    "                instrument_identifiers={\n",
    "                    'Instrument/default/Figi': transaction['instrument_uid']},\n",
    "                transaction_date=transaction['transaction_date'],\n",
    "                settlement_date=transaction['settlement_date'],\n",
    "                units=transaction['units'],\n",
    "                transaction_price=models.TransactionPrice(\n",
    "                  price=transaction['transaction_price'],\n",
    "                  type='Price'),\n",
    "                total_consideration=models.CurrencyAndAmount(\n",
    "                  amount=transaction['total_cost'],\n",
    "                  currency=transaction['transaction_currency']),\n",
    "                 source='Client',\n",
    "                 transaction_currency=transaction['transaction_currency'],\n",
    "                 properties={\n",
    "                     strategy_property_key: models.PerpetualProperty(\n",
    "                         key=strategy_property_key,\n",
    "                         value=models.PropertyValue(label_value=transaction['strategy'])\n",
    "                     )\n",
    "                 }\n",
    "              ))\n",
    "            \n",
    "    # Call LUSID to upsert our transactions\n",
    "    transaction_response = api_factory.build(lusid.api.TransactionPortfoliosApi).upsert_transactions(\n",
    "        scope=client_scope_code,\n",
    "        code=portfolio_name,\n",
    "        transaction_request=batch_transaction_requests)\n",
    "    \n",
    "    # Print the response from LUSID using pretty formatting \n",
    "    prettyprint.transactions_response(\n",
    "        transaction_response,\n",
    "        client_scope_code,\n",
    "        portfolio_name)"
   ]
  },
  {
   "cell_type": "markdown",
   "metadata": {},
   "source": [
    "Now each of our portfolios contains a list of transactions, the first are 'StockIn' transactions generated by LUSID to set our holdings, the second set are the transactions from our portfolio managers which are tagged with a strategy."
   ]
  },
  {
   "cell_type": "markdown",
   "metadata": {},
   "source": [
    "![Scopes](img/strategies/strategies-transactions.gif)"
   ]
  },
  {
   "cell_type": "markdown",
   "metadata": {},
   "source": [
    "### 6) Adding market data quotes so that we can aggregate across our client's portfolios"
   ]
  },
  {
   "cell_type": "markdown",
   "metadata": {},
   "source": [
    "Now that we have populated our portfolios we want to aggregate across them to see both our client's overall position as well as our exposure as the result of each strategy that our portfolio managers are using. \n",
    "\n",
    "To this we first need to add some market data to the LUSID quote store.\n",
    "\n",
    "You can read more about quotes in the LUSID API documentation: [LUSID API Docs: Quotes](https://support.lusid.com/what-is-a-quote)\n",
    "\n",
    "*Run the cell below to create add our quotes*"
   ]
  },
  {
   "cell_type": "code",
   "execution_count": 69,
   "metadata": {
    "pycharm": {
     "is_executing": false
    }
   },
   "outputs": [
    {
     "output_type": "execute_result",
     "data": {
      "text/plain": "          _lineage _cut_label          _uploaded_by  \\\n0   InternalSystem             00u4edvrutmDTwu0J2p7   \n1   InternalSystem             00u4edvrutmDTwu0J2p7   \n2   InternalSystem             00u4edvrutmDTwu0J2p7   \n3   InternalSystem             00u4edvrutmDTwu0J2p7   \n4   InternalSystem             00u4edvrutmDTwu0J2p7   \n5   InternalSystem             00u4edvrutmDTwu0J2p7   \n6   InternalSystem             00u4edvrutmDTwu0J2p7   \n7   InternalSystem             00u4edvrutmDTwu0J2p7   \n8   InternalSystem             00u4edvrutmDTwu0J2p7   \n9   InternalSystem             00u4edvrutmDTwu0J2p7   \n10  InternalSystem             00u4edvrutmDTwu0J2p7   \n11  InternalSystem             00u4edvrutmDTwu0J2p7   \n12  InternalSystem             00u4edvrutmDTwu0J2p7   \n13  InternalSystem             00u4edvrutmDTwu0J2p7   \n14  InternalSystem             00u4edvrutmDTwu0J2p7   \n15  InternalSystem             00u4edvrutmDTwu0J2p7   \n16  InternalSystem             00u4edvrutmDTwu0J2p7   \n17  InternalSystem             00u4edvrutmDTwu0J2p7   \n18  InternalSystem             00u4edvrutmDTwu0J2p7   \n19  InternalSystem             00u4edvrutmDTwu0J2p7   \n\n                             _as_at discriminator  _provider _price_source  \\\n0  2020-06-17 17:57:34.763231+00:00          None  DataScope          None   \n1  2020-06-17 17:57:34.763231+00:00          None  DataScope          None   \n2  2020-06-17 17:57:34.763231+00:00          None  DataScope          None   \n3  2020-06-17 17:57:34.763231+00:00          None  DataScope          None   \n4  2020-06-17 17:57:34.763231+00:00          None  DataScope          None   \n5  2020-06-17 17:57:34.763231+00:00          None  DataScope          None   \n6  2020-06-17 17:57:34.763231+00:00          None  DataScope          None   \n7  2020-06-17 17:57:34.763231+00:00          None  DataScope          None   \n8  2020-06-17 17:57:34.763231+00:00          None  DataScope          None   \n9  2020-06-17 17:57:34.763231+00:00          None  DataScope          None   \n10 2020-06-17 17:57:34.763231+00:00          None  DataScope          None   \n11 2020-06-17 17:57:34.763231+00:00          None  DataScope          None   \n12 2020-06-17 17:57:34.763231+00:00          None  DataScope          None   \n13 2020-06-17 17:57:34.763231+00:00          None  DataScope          None   \n14 2020-06-17 17:57:34.763231+00:00          None  DataScope          None   \n15 2020-06-17 17:57:34.763231+00:00          None  DataScope          None   \n16 2020-06-17 17:57:34.763231+00:00          None  DataScope          None   \n17 2020-06-17 17:57:34.763231+00:00          None  DataScope          None   \n18 2020-06-17 17:57:34.763231+00:00          None  DataScope          None   \n19 2020-06-17 17:57:34.763231+00:00          None  DataScope          None   \n\n   _instrument_id _instrument_id_type _quote_type _field  _value _unit  \\\n0   LUID_53QANLF4   LusidInstrumentId       Price    Mid    1.00   GBP   \n1   LUID_M7H5PISK   LusidInstrumentId       Price    Mid    1.00   GBP   \n2   LUID_ZLGK5QXB   LusidInstrumentId       Price    Mid    1.00   GBP   \n3   LUID_0532954O   LusidInstrumentId       Price    Mid    1.00   GBP   \n4   LUID_C6M8XRWF   LusidInstrumentId       Price    Mid    1.00   GBP   \n5   LUID_C39KA15P   LusidInstrumentId       Price    Mid    1.00   GBP   \n6   LUID_3T874ABZ   LusidInstrumentId       Price    Mid    1.00   GBP   \n7   LUID_7TMJKXJB   LusidInstrumentId       Price    Mid    1.00   GBP   \n8   LUID_4JBE6N53   LusidInstrumentId       Price    Mid    1.00   GBP   \n9   LUID_XG2BKRQZ   LusidInstrumentId       Price    Mid    1.00   GBP   \n10  LUID_XLYDUV3T   LusidInstrumentId       Price    Mid    1.00   GBP   \n11  LUID_PGXCQMI6   LusidInstrumentId       Price    Mid    1.00   GBP   \n12  LUID_YRRKI0M7   LusidInstrumentId       Price    Mid    1.00   GBP   \n13  LUID_5NILEUZS   LusidInstrumentId       Price    Mid    1.00   GBP   \n14  LUID_GC63E1A4   LusidInstrumentId       Price    Mid    1.00   GBP   \n15  LUID_KZTQMPEK   LusidInstrumentId       Price    Mid    1.00   GBP   \n16  LUID_99JXP5XY   LusidInstrumentId       Price    Mid    1.00   GBP   \n17  LUID_JCR9W2XW   LusidInstrumentId       Price    Mid    1.00   GBP   \n18  LUID_NDSTZ91F   LusidInstrumentId       Price    Mid    1.00   GBP   \n19  LUID_HRMH8J21   LusidInstrumentId       Price    Mid    1.00   GBP   \n\n     status  \n0   Success  \n1   Success  \n2   Success  \n3   Success  \n4   Success  \n5   Success  \n6   Success  \n7   Success  \n8   Success  \n9   Success  \n10  Success  \n11  Success  \n12  Success  \n13  Success  \n14  Success  \n15  Success  \n16  Success  \n17  Success  \n18  Success  \n19  Success  ",
      "text/html": "<div>\n<style scoped>\n    .dataframe tbody tr th:only-of-type {\n        vertical-align: middle;\n    }\n\n    .dataframe tbody tr th {\n        vertical-align: top;\n    }\n\n    .dataframe thead th {\n        text-align: right;\n    }\n</style>\n<table border=\"1\" class=\"dataframe\">\n  <thead>\n    <tr style=\"text-align: right;\">\n      <th></th>\n      <th>_lineage</th>\n      <th>_cut_label</th>\n      <th>_uploaded_by</th>\n      <th>_as_at</th>\n      <th>discriminator</th>\n      <th>_provider</th>\n      <th>_price_source</th>\n      <th>_instrument_id</th>\n      <th>_instrument_id_type</th>\n      <th>_quote_type</th>\n      <th>_field</th>\n      <th>_value</th>\n      <th>_unit</th>\n      <th>status</th>\n    </tr>\n  </thead>\n  <tbody>\n    <tr>\n      <th>0</th>\n      <td>InternalSystem</td>\n      <td></td>\n      <td>00u4edvrutmDTwu0J2p7</td>\n      <td>2020-06-17 17:57:34.763231+00:00</td>\n      <td>None</td>\n      <td>DataScope</td>\n      <td>None</td>\n      <td>LUID_53QANLF4</td>\n      <td>LusidInstrumentId</td>\n      <td>Price</td>\n      <td>Mid</td>\n      <td>1.00</td>\n      <td>GBP</td>\n      <td>Success</td>\n    </tr>\n    <tr>\n      <th>1</th>\n      <td>InternalSystem</td>\n      <td></td>\n      <td>00u4edvrutmDTwu0J2p7</td>\n      <td>2020-06-17 17:57:34.763231+00:00</td>\n      <td>None</td>\n      <td>DataScope</td>\n      <td>None</td>\n      <td>LUID_M7H5PISK</td>\n      <td>LusidInstrumentId</td>\n      <td>Price</td>\n      <td>Mid</td>\n      <td>1.00</td>\n      <td>GBP</td>\n      <td>Success</td>\n    </tr>\n    <tr>\n      <th>2</th>\n      <td>InternalSystem</td>\n      <td></td>\n      <td>00u4edvrutmDTwu0J2p7</td>\n      <td>2020-06-17 17:57:34.763231+00:00</td>\n      <td>None</td>\n      <td>DataScope</td>\n      <td>None</td>\n      <td>LUID_ZLGK5QXB</td>\n      <td>LusidInstrumentId</td>\n      <td>Price</td>\n      <td>Mid</td>\n      <td>1.00</td>\n      <td>GBP</td>\n      <td>Success</td>\n    </tr>\n    <tr>\n      <th>3</th>\n      <td>InternalSystem</td>\n      <td></td>\n      <td>00u4edvrutmDTwu0J2p7</td>\n      <td>2020-06-17 17:57:34.763231+00:00</td>\n      <td>None</td>\n      <td>DataScope</td>\n      <td>None</td>\n      <td>LUID_0532954O</td>\n      <td>LusidInstrumentId</td>\n      <td>Price</td>\n      <td>Mid</td>\n      <td>1.00</td>\n      <td>GBP</td>\n      <td>Success</td>\n    </tr>\n    <tr>\n      <th>4</th>\n      <td>InternalSystem</td>\n      <td></td>\n      <td>00u4edvrutmDTwu0J2p7</td>\n      <td>2020-06-17 17:57:34.763231+00:00</td>\n      <td>None</td>\n      <td>DataScope</td>\n      <td>None</td>\n      <td>LUID_C6M8XRWF</td>\n      <td>LusidInstrumentId</td>\n      <td>Price</td>\n      <td>Mid</td>\n      <td>1.00</td>\n      <td>GBP</td>\n      <td>Success</td>\n    </tr>\n    <tr>\n      <th>5</th>\n      <td>InternalSystem</td>\n      <td></td>\n      <td>00u4edvrutmDTwu0J2p7</td>\n      <td>2020-06-17 17:57:34.763231+00:00</td>\n      <td>None</td>\n      <td>DataScope</td>\n      <td>None</td>\n      <td>LUID_C39KA15P</td>\n      <td>LusidInstrumentId</td>\n      <td>Price</td>\n      <td>Mid</td>\n      <td>1.00</td>\n      <td>GBP</td>\n      <td>Success</td>\n    </tr>\n    <tr>\n      <th>6</th>\n      <td>InternalSystem</td>\n      <td></td>\n      <td>00u4edvrutmDTwu0J2p7</td>\n      <td>2020-06-17 17:57:34.763231+00:00</td>\n      <td>None</td>\n      <td>DataScope</td>\n      <td>None</td>\n      <td>LUID_3T874ABZ</td>\n      <td>LusidInstrumentId</td>\n      <td>Price</td>\n      <td>Mid</td>\n      <td>1.00</td>\n      <td>GBP</td>\n      <td>Success</td>\n    </tr>\n    <tr>\n      <th>7</th>\n      <td>InternalSystem</td>\n      <td></td>\n      <td>00u4edvrutmDTwu0J2p7</td>\n      <td>2020-06-17 17:57:34.763231+00:00</td>\n      <td>None</td>\n      <td>DataScope</td>\n      <td>None</td>\n      <td>LUID_7TMJKXJB</td>\n      <td>LusidInstrumentId</td>\n      <td>Price</td>\n      <td>Mid</td>\n      <td>1.00</td>\n      <td>GBP</td>\n      <td>Success</td>\n    </tr>\n    <tr>\n      <th>8</th>\n      <td>InternalSystem</td>\n      <td></td>\n      <td>00u4edvrutmDTwu0J2p7</td>\n      <td>2020-06-17 17:57:34.763231+00:00</td>\n      <td>None</td>\n      <td>DataScope</td>\n      <td>None</td>\n      <td>LUID_4JBE6N53</td>\n      <td>LusidInstrumentId</td>\n      <td>Price</td>\n      <td>Mid</td>\n      <td>1.00</td>\n      <td>GBP</td>\n      <td>Success</td>\n    </tr>\n    <tr>\n      <th>9</th>\n      <td>InternalSystem</td>\n      <td></td>\n      <td>00u4edvrutmDTwu0J2p7</td>\n      <td>2020-06-17 17:57:34.763231+00:00</td>\n      <td>None</td>\n      <td>DataScope</td>\n      <td>None</td>\n      <td>LUID_XG2BKRQZ</td>\n      <td>LusidInstrumentId</td>\n      <td>Price</td>\n      <td>Mid</td>\n      <td>1.00</td>\n      <td>GBP</td>\n      <td>Success</td>\n    </tr>\n    <tr>\n      <th>10</th>\n      <td>InternalSystem</td>\n      <td></td>\n      <td>00u4edvrutmDTwu0J2p7</td>\n      <td>2020-06-17 17:57:34.763231+00:00</td>\n      <td>None</td>\n      <td>DataScope</td>\n      <td>None</td>\n      <td>LUID_XLYDUV3T</td>\n      <td>LusidInstrumentId</td>\n      <td>Price</td>\n      <td>Mid</td>\n      <td>1.00</td>\n      <td>GBP</td>\n      <td>Success</td>\n    </tr>\n    <tr>\n      <th>11</th>\n      <td>InternalSystem</td>\n      <td></td>\n      <td>00u4edvrutmDTwu0J2p7</td>\n      <td>2020-06-17 17:57:34.763231+00:00</td>\n      <td>None</td>\n      <td>DataScope</td>\n      <td>None</td>\n      <td>LUID_PGXCQMI6</td>\n      <td>LusidInstrumentId</td>\n      <td>Price</td>\n      <td>Mid</td>\n      <td>1.00</td>\n      <td>GBP</td>\n      <td>Success</td>\n    </tr>\n    <tr>\n      <th>12</th>\n      <td>InternalSystem</td>\n      <td></td>\n      <td>00u4edvrutmDTwu0J2p7</td>\n      <td>2020-06-17 17:57:34.763231+00:00</td>\n      <td>None</td>\n      <td>DataScope</td>\n      <td>None</td>\n      <td>LUID_YRRKI0M7</td>\n      <td>LusidInstrumentId</td>\n      <td>Price</td>\n      <td>Mid</td>\n      <td>1.00</td>\n      <td>GBP</td>\n      <td>Success</td>\n    </tr>\n    <tr>\n      <th>13</th>\n      <td>InternalSystem</td>\n      <td></td>\n      <td>00u4edvrutmDTwu0J2p7</td>\n      <td>2020-06-17 17:57:34.763231+00:00</td>\n      <td>None</td>\n      <td>DataScope</td>\n      <td>None</td>\n      <td>LUID_5NILEUZS</td>\n      <td>LusidInstrumentId</td>\n      <td>Price</td>\n      <td>Mid</td>\n      <td>1.00</td>\n      <td>GBP</td>\n      <td>Success</td>\n    </tr>\n    <tr>\n      <th>14</th>\n      <td>InternalSystem</td>\n      <td></td>\n      <td>00u4edvrutmDTwu0J2p7</td>\n      <td>2020-06-17 17:57:34.763231+00:00</td>\n      <td>None</td>\n      <td>DataScope</td>\n      <td>None</td>\n      <td>LUID_GC63E1A4</td>\n      <td>LusidInstrumentId</td>\n      <td>Price</td>\n      <td>Mid</td>\n      <td>1.00</td>\n      <td>GBP</td>\n      <td>Success</td>\n    </tr>\n    <tr>\n      <th>15</th>\n      <td>InternalSystem</td>\n      <td></td>\n      <td>00u4edvrutmDTwu0J2p7</td>\n      <td>2020-06-17 17:57:34.763231+00:00</td>\n      <td>None</td>\n      <td>DataScope</td>\n      <td>None</td>\n      <td>LUID_KZTQMPEK</td>\n      <td>LusidInstrumentId</td>\n      <td>Price</td>\n      <td>Mid</td>\n      <td>1.00</td>\n      <td>GBP</td>\n      <td>Success</td>\n    </tr>\n    <tr>\n      <th>16</th>\n      <td>InternalSystem</td>\n      <td></td>\n      <td>00u4edvrutmDTwu0J2p7</td>\n      <td>2020-06-17 17:57:34.763231+00:00</td>\n      <td>None</td>\n      <td>DataScope</td>\n      <td>None</td>\n      <td>LUID_99JXP5XY</td>\n      <td>LusidInstrumentId</td>\n      <td>Price</td>\n      <td>Mid</td>\n      <td>1.00</td>\n      <td>GBP</td>\n      <td>Success</td>\n    </tr>\n    <tr>\n      <th>17</th>\n      <td>InternalSystem</td>\n      <td></td>\n      <td>00u4edvrutmDTwu0J2p7</td>\n      <td>2020-06-17 17:57:34.763231+00:00</td>\n      <td>None</td>\n      <td>DataScope</td>\n      <td>None</td>\n      <td>LUID_JCR9W2XW</td>\n      <td>LusidInstrumentId</td>\n      <td>Price</td>\n      <td>Mid</td>\n      <td>1.00</td>\n      <td>GBP</td>\n      <td>Success</td>\n    </tr>\n    <tr>\n      <th>18</th>\n      <td>InternalSystem</td>\n      <td></td>\n      <td>00u4edvrutmDTwu0J2p7</td>\n      <td>2020-06-17 17:57:34.763231+00:00</td>\n      <td>None</td>\n      <td>DataScope</td>\n      <td>None</td>\n      <td>LUID_NDSTZ91F</td>\n      <td>LusidInstrumentId</td>\n      <td>Price</td>\n      <td>Mid</td>\n      <td>1.00</td>\n      <td>GBP</td>\n      <td>Success</td>\n    </tr>\n    <tr>\n      <th>19</th>\n      <td>InternalSystem</td>\n      <td></td>\n      <td>00u4edvrutmDTwu0J2p7</td>\n      <td>2020-06-17 17:57:34.763231+00:00</td>\n      <td>None</td>\n      <td>DataScope</td>\n      <td>None</td>\n      <td>LUID_HRMH8J21</td>\n      <td>LusidInstrumentId</td>\n      <td>Price</td>\n      <td>Mid</td>\n      <td>1.00</td>\n      <td>GBP</td>\n      <td>Success</td>\n    </tr>\n  </tbody>\n</table>\n</div>"
     },
     "metadata": {},
     "execution_count": 69
    }
   ],
   "source": [
    "# Set our analytics effective date to be from now\n",
    "quotes_effective_date = datetime.now(pytz.UTC)\n",
    "instrument_quotes = {}\n",
    "\n",
    "# Create dummy prices of 1 for all instruments except cash which we will ignore\n",
    "for index, instrument in instrument_universe.iterrows():\n",
    "    \n",
    "    if 'Cash' in instrument['instrument_name']:\n",
    "        continue\n",
    "    \n",
    "    luid = api_factory.build(lusid.api.InstrumentsApi).get_instrument(\n",
    "        identifier_type='Figi',\n",
    "        identifier=instrument['figi']).lusid_instrument_id\n",
    "    \n",
    "    instrument_quotes[luid] = models.UpsertQuoteRequest(\n",
    "            quote_id=models.QuoteId(\n",
    "                quote_series_id=models.QuoteSeriesId(\n",
    "                    provider='DataScope',\n",
    "                    instrument_id=luid,\n",
    "                    instrument_id_type='LusidInstrumentId',\n",
    "                    quote_type='Price',\n",
    "                    field='Mid'),\n",
    "                effective_at=quotes_effective_date\n",
    "            ),\n",
    "            metric_value=models.MetricValue(\n",
    "                value=1,\n",
    "                unit=\"GBP\"),\n",
    "            lineage='InternalSystem')\n",
    "\n",
    "# Upsert the quotes into LUSID\n",
    "response = api_factory.build(lusid.api.QuotesApi).upsert_quotes(\n",
    "    scope=client_scope_code,\n",
    "    request_body=instrument_quotes)\n",
    "\n",
    "# Pretty print the response from LUSID\n",
    "prettyprint.upsert_quotes_response(response)"
   ]
  },
  {
   "cell_type": "markdown",
   "metadata": {},
   "source": [
    "We now have market data in our new client's scope that we can use for our aggregation requests."
   ]
  },
  {
   "cell_type": "markdown",
   "metadata": {},
   "source": [
    "![Scopes](img/strategies/strategies-quotestore.gif)"
   ]
  },
  {
   "cell_type": "markdown",
   "metadata": {},
   "source": [
    "### 7) Aggregate across all of our client's portfolios to see the overall position"
   ]
  },
  {
   "cell_type": "markdown",
   "metadata": {},
   "source": [
    "The first thing we want to do is aggregate across our client's entire group of portfolios to see their overall poistion. We can do this by aggregating the holdings by the portfolio group. We will sum the units and the cost of each instrument across the group.\n",
    "\n",
    "You can read more about creating by portfolio group in the LUSID API documentation: [LUSID API Docs: Aggregate by Portfolio Group](https://docs.lusid.com/#operation/GetAggregationByGroup)\n",
    "\n",
    "*Run the cell below to aggregate across all of our client's portfolios*"
   ]
  },
  {
   "cell_type": "code",
   "execution_count": 70,
   "metadata": {
    "pycharm": {
     "is_executing": false
    },
    "tags": []
   },
   "outputs": [
    {
     "output_type": "stream",
     "name": "stdout",
     "text": "\u001b[1mLUSID Instrument Id / Currency: \u001b[0mLUID_5NILEUZS\n\u001b[1mInstrument Name: \u001b[0mUKGiltTreasury_3.5_2045\n\u001b[1mInstrument Units: \u001b[0m266169.0\n\u001b[1mInstrument Cost: \u001b[0m35781897.18\n\u001b[1mInstrument Currency: \u001b[0mGBP\n\n\u001b[1mLUSID Instrument Id / Currency: \u001b[0mLUID_YRRKI0M7\n\u001b[1mInstrument Name: \u001b[0mUKGiltTreasury_2.0_2025\n\u001b[1mInstrument Units: \u001b[0m405589.0\n\u001b[1mInstrument Cost: \u001b[0m43250794.19\n\u001b[1mInstrument Currency: \u001b[0mGBP\n\n\u001b[1mLUSID Instrument Id / Currency: \u001b[0mLUID_GC63E1A4\n\u001b[1mInstrument Name: \u001b[0mUKGiltTreasury_3.75_2021\n\u001b[1mInstrument Units: \u001b[0m198800.0\n\u001b[1mInstrument Cost: \u001b[0m21519448.8\n\u001b[1mInstrument Currency: \u001b[0mGBP\n\n\u001b[1mLUSID Instrument Id / Currency: \u001b[0mLUID_99JXP5XY\n\u001b[1mInstrument Name: \u001b[0mUSTreasury_2.00_2021\n\u001b[1mInstrument Units: \u001b[0m916020.0\n\u001b[1mInstrument Cost: \u001b[0m89678358.0\n\u001b[1mInstrument Currency: \u001b[0mUSD\n\n\u001b[1mLUSID Instrument Id / Currency: \u001b[0mGBP\n\u001b[1mInstrument Name: \u001b[0mGBP\n\u001b[1mInstrument Units: \u001b[0m789254.43\n\u001b[1mInstrument Cost: \u001b[0m789254.43\n\u001b[1mInstrument Currency: \u001b[0mGBP\n\n\u001b[1mLUSID Instrument Id / Currency: \u001b[0mUSD\n\u001b[1mInstrument Name: \u001b[0mUSD\n\u001b[1mInstrument Units: \u001b[0m33921400.0\n\u001b[1mInstrument Cost: \u001b[0m33921400.0\n\u001b[1mInstrument Currency: \u001b[0mUSD\n\n\u001b[1mLUSID Instrument Id / Currency: \u001b[0mLUID_M7H5PISK\n\u001b[1mInstrument Name: \u001b[0mApple_Nasdaq_AAPL\n\u001b[1mInstrument Units: \u001b[0m504481.0\n\u001b[1mInstrument Cost: \u001b[0m85000003.69\n\u001b[1mInstrument Currency: \u001b[0mUSD\n\n\u001b[1mLUSID Instrument Id / Currency: \u001b[0mLUID_M7H5PISK\n\u001b[1mInstrument Name: \u001b[0mApple_Nasdaq_AAPL\n\u001b[1mInstrument Units: \u001b[0m15000.0\n\u001b[1mInstrument Cost: \u001b[0m2527350.0\n\u001b[1mInstrument Currency: \u001b[0mGBP\n\n\u001b[1mLUSID Instrument Id / Currency: \u001b[0mLUID_53QANLF4\n\u001b[1mInstrument Name: \u001b[0mAmazon_Nasdaq_AMZN\n\u001b[1mInstrument Units: \u001b[0m38671.0\n\u001b[1mInstrument Cost: \u001b[0m63000086.23\n\u001b[1mInstrument Currency: \u001b[0mUSD\n\n\u001b[1mLUSID Instrument Id / Currency: \u001b[0mLUID_JCR9W2XW\n\u001b[1mInstrument Name: \u001b[0mUSTreasury_6.875_2025\n\u001b[1mInstrument Units: \u001b[0m256986.0\n\u001b[1mInstrument Cost: \u001b[0m31999896.72\n\u001b[1mInstrument Currency: \u001b[0mUSD\n\n\u001b[1mLUSID Instrument Id / Currency: \u001b[0mLUID_C39KA15P\n\u001b[1mInstrument Name: \u001b[0mGlencore_LondonStockEx_GLEN\n\u001b[1mInstrument Units: \u001b[0m785141.0\n\u001b[1mInstrument Cost: \u001b[0m2168559.44\n\u001b[1mInstrument Currency: \u001b[0mGBP\n\n\u001b[1mLUSID Instrument Id / Currency: \u001b[0mLUID_ZLGK5QXB\n\u001b[1mInstrument Name: \u001b[0mBP_LondonStockEx_BP\n\u001b[1mInstrument Units: \u001b[0m1763922.0\n\u001b[1mInstrument Cost: \u001b[0m9029347.11\n\u001b[1mInstrument Currency: \u001b[0mGBP\n\n\u001b[1mLUSID Instrument Id / Currency: \u001b[0mLUID_7TMJKXJB\n\u001b[1mInstrument Name: \u001b[0mKingfisher_LondonStockEx_KGF\n\u001b[1mInstrument Units: \u001b[0m1037038.0\n\u001b[1mInstrument Cost: \u001b[0m2360298.49\n\u001b[1mInstrument Currency: \u001b[0mGBP\n\n\u001b[1mLUSID Instrument Id / Currency: \u001b[0mLUID_3T874ABZ\n\u001b[1mInstrument Name: \u001b[0mJustEat_LondonStockEx_JE\n\u001b[1mInstrument Units: \u001b[0m834553.0\n\u001b[1mInstrument Cost: \u001b[0m4559997.59\n\u001b[1mInstrument Currency: \u001b[0mGBP\n\n\u001b[1mLUSID Instrument Id / Currency: \u001b[0mLUID_XG2BKRQZ\n\u001b[1mInstrument Name: \u001b[0mRELXGroup_LondonStockEx_REL\n\u001b[1mInstrument Units: \u001b[0m494343.0\n\u001b[1mInstrument Cost: \u001b[0m7899601.14\n\u001b[1mInstrument Currency: \u001b[0mGBP\n\n\u001b[1mLUSID Instrument Id / Currency: \u001b[0mLUID_KZTQMPEK\n\u001b[1mInstrument Name: \u001b[0mUKGiltTreasury_4.5_2034\n\u001b[1mInstrument Units: \u001b[0m87982.0\n\u001b[1mInstrument Cost: \u001b[0m12367805.7\n\u001b[1mInstrument Currency: \u001b[0mGBP\n\n"
    }
   ],
   "source": [
    "# Create our aggregation request\n",
    "inline_recipe = models.ConfigurationRecipe(\n",
    "    scope=\"User\",\n",
    "    code='quotes_recipe',\n",
    "    market=models.MarketContext(\n",
    "        market_rules=[\n",
    "            models.MarketDataKeyRule(\n",
    "               key='Equity.LusidInstrumentId.*',\n",
    "               supplier='DataScope',\n",
    "               data_scope=client_scope_code,\n",
    "               quote_type='Price',\n",
    "               field='Mid')\n",
    "        ],\n",
    "        suppliers=models.MarketContextSuppliers(\n",
    "            commodity='DataScope',\n",
    "            credit='DataScope',\n",
    "            equity='DataScope',\n",
    "            fx='DataScope',\n",
    "            rates='DataScope'),\n",
    "        options=models.MarketOptions(\n",
    "            default_supplier='DataScope',\n",
    "            default_instrument_code_type='LusidInstrumentId',\n",
    "            default_scope=client_scope_code)\n",
    "        )\n",
    "    )\n",
    "\n",
    "aggregation_request = models.AggregationRequest(\n",
    "    inline_recipe=inline_recipe,\n",
    "    effective_at=datetime.now(pytz.UTC),\n",
    "    metrics=[\n",
    "        models.AggregateSpec(key='Holding/default/SubHoldingKey',\n",
    "        op='Value'),\n",
    "        models.AggregateSpec(key='Instrument/default/Name',\n",
    "        op='Value'),\n",
    "        models.AggregateSpec(key='Holding/default/Units',\n",
    "        op='Sum'),\n",
    "        models.AggregateSpec(key='Holding/default/Cost',\n",
    "        op='Sum')\n",
    "    ],\n",
    "    group_by=[\n",
    "        'Holding/default/SubHoldingKey'\n",
    "    ],\n",
    "    portfolio_identifier_code=\"GroupPortfolio\")\n",
    "\n",
    "# Call LUSID to aggregate across all of our portfolios\n",
    "aggregated_group = api_factory.build(lusid.api.AggregationApi).get_aggregation(\n",
    "    scope=client_scope_code,\n",
    "    code=client_group_code,\n",
    "    aggregation_request=aggregation_request)\n",
    "\n",
    "# Pretty print our response from LUSID\n",
    "prettyprint.aggregation_response(aggregated_group)"
   ]
  },
  {
   "cell_type": "markdown",
   "metadata": {},
   "source": [
    "Now we have a view of our client's holdings across their entire group of portfolios."
   ]
  },
  {
   "cell_type": "markdown",
   "metadata": {},
   "source": [
    "![Scopes](img/strategies/strategies-aggregatedportfoliogroup.gif)"
   ]
  },
  {
   "cell_type": "markdown",
   "metadata": {},
   "source": [
    "### 8) Aggregate across all of our client's portfolios by strategy to our position per strategy"
   ]
  },
  {
   "cell_type": "markdown",
   "metadata": {},
   "source": [
    "Now that we have a view of our client's overall position we want to get a sense as to what strategies our portfolio manager's have been using to make their trades and how our position looks by strategy.\n",
    "\n",
    "To do this we will make us of Derived Portfolios. \n",
    "\n",
    "A derived portfolio is a portfolio that is derived from a parent portfolio. It inherits all of its transactions from the parent portfolio. We can make use of derived portfolios to apply sub-holding keys to our holdings. In this case we will use our transaction strategy property as our sub-holding key.\n",
    "\n",
    "We will create a new scope to hold our derived portfolios. This will allow us to give them the same name as the parent portfolio.\n",
    "\n",
    "*Run the cell below to create our new scope*"
   ]
  },
  {
   "cell_type": "code",
   "execution_count": 71,
   "metadata": {
    "pycharm": {
     "is_executing": false
    },
    "tags": []
   },
   "outputs": [
    {
     "output_type": "stream",
     "name": "stdout",
     "text": "\u001b[1mNew Client Strategy Scope Code: \u001b[0mclient-strategy-high_street_pension_fund-3892-f1f2-e23a-cc\n"
    }
   ],
   "source": [
    "# Fetch our scopes\n",
    "scope_id = import_data.create_scope_id()\n",
    "client_strategy_scope_code = 'client-strategy-high_street_pension_fund-{}'.format(scope_id)\n",
    "# Pretty print our scope\n",
    "prettyprint.heading('New Client Strategy Scope Code', client_strategy_scope_code)"
   ]
  },
  {
   "cell_type": "markdown",
   "metadata": {},
   "source": [
    "Now that we have our new scope we can create our derived portfolios. We will create one for each of the corresponding parent portfolios. We will also group our derived portfolios together so that we can aggregate across the group.\n",
    "\n",
    "Note that we use the same creation date for the derived portfolios as we did for the parent portfolio. \n",
    "\n",
    "You can read more about creating a derived portfolio in the LUSID API documentation: [LUSID API Docs: Creating a Derived Portfolio](https://docs.lusid.com/#operation/CreateDerivedPortfolio)\n",
    "\n",
    "*Run the cell below to create and group our derived portfolios*"
   ]
  },
  {
   "cell_type": "code",
   "execution_count": 72,
   "metadata": {
    "pycharm": {
     "is_executing": false
    },
    "tags": []
   },
   "outputs": [
    {
     "output_type": "stream",
     "name": "stdout",
     "text": "\u001b[1mDerived Portfolio Created\u001b[0m\n\u001b[1mScope: \u001b[0mclient-strategy-high_street_pension_fund-3892-f1f2-e23a-cc\n\u001b[1mCode: \u001b[0mmandate-balanced\n\u001b[1mPortfolio Effective From: \u001b[0m2020-06-12 17:57:24.068572+00:00\n\u001b[1mPortfolio Created On: \u001b[0m2020-06-17 17:57:35.901846+00:00\n\n\u001b[1m   Parent Portfolio Details\u001b[0m\n\u001b[1m   Scope: \u001b[0mclient-high_street_pension_fund-3892-f1eb-a604-ac\n\u001b[1m   Code: \u001b[0mmandate-balanced\n\n\u001b[1mDerived Portfolio Created\u001b[0m\n\u001b[1mScope: \u001b[0mclient-strategy-high_street_pension_fund-3892-f1f2-e23a-cc\n\u001b[1mCode: \u001b[0mmandate-energy\n\u001b[1mPortfolio Effective From: \u001b[0m2020-06-12 17:57:24.068572+00:00\n\u001b[1mPortfolio Created On: \u001b[0m2020-06-17 17:57:36.407455+00:00\n\n\u001b[1m   Parent Portfolio Details\u001b[0m\n\u001b[1m   Scope: \u001b[0mclient-high_street_pension_fund-3892-f1eb-a604-ac\n\u001b[1m   Code: \u001b[0mmandate-energy\n\n\u001b[1mDerived Portfolio Created\u001b[0m\n\u001b[1mScope: \u001b[0mclient-strategy-high_street_pension_fund-3892-f1f2-e23a-cc\n\u001b[1mCode: \u001b[0mmandate-fixedincome\n\u001b[1mPortfolio Effective From: \u001b[0m2020-06-12 17:57:24.068572+00:00\n\u001b[1mPortfolio Created On: \u001b[0m2020-06-17 17:57:36.886325+00:00\n\n\u001b[1m   Parent Portfolio Details\u001b[0m\n\u001b[1m   Scope: \u001b[0mclient-high_street_pension_fund-3892-f1eb-a604-ac\n\u001b[1m   Code: \u001b[0mmandate-fixedincome\n\n\u001b[1mDerived Portfolio Created\u001b[0m\n\u001b[1mScope: \u001b[0mclient-strategy-high_street_pension_fund-3892-f1f2-e23a-cc\n\u001b[1mCode: \u001b[0mmandate-international\n\u001b[1mPortfolio Effective From: \u001b[0m2020-06-12 17:57:24.068572+00:00\n\u001b[1mPortfolio Created On: \u001b[0m2020-06-17 17:57:37.395551+00:00\n\n\u001b[1m   Parent Portfolio Details\u001b[0m\n\u001b[1m   Scope: \u001b[0mclient-high_street_pension_fund-3892-f1eb-a604-ac\n\u001b[1m   Code: \u001b[0mmandate-international\n\n\u001b[1mDerived Portfolio Created\u001b[0m\n\u001b[1mScope: \u001b[0mclient-strategy-high_street_pension_fund-3892-f1f2-e23a-cc\n\u001b[1mCode: \u001b[0mmandate-usgovt\n\u001b[1mPortfolio Effective From: \u001b[0m2020-06-12 17:57:24.068572+00:00\n\u001b[1mPortfolio Created On: \u001b[0m2020-06-17 17:57:37.933487+00:00\n\n\u001b[1m   Parent Portfolio Details\u001b[0m\n\u001b[1m   Scope: \u001b[0mclient-high_street_pension_fund-3892-f1eb-a604-ac\n\u001b[1m   Code: \u001b[0mmandate-usgovt\n\n\u001b[91m\u001b[1mPortfolio Group Created\u001b[0m\n\u001b[1mName: \u001b[0mhigh_street_pension_fund-portfolios\n\u001b[1mScope: \u001b[0mclient-strategy-high_street_pension_fund-3892-f1f2-e23a-cc\n\u001b[1mCode: \u001b[0mhigh_street_pension_fund-portfolios\n\u001b[1mPortfolios Inside Group: \u001b[0m\nmandate-balanced\nmandate-fixedincome\nmandate-usgovt\nmandate-international\nmandate-energy\n\n\n"
    }
   ],
   "source": [
    "# Initialise a list to hold the ids of our portfolios for use in creating our portfolio group\n",
    "portfolio_resourceids = []\n",
    "\n",
    "# Loop over our portfolios\n",
    "for portfolio_code in client_portfolios['portfolio_name'].unique():\n",
    "    \n",
    "    # Create the request to add our portfolio\n",
    "    portfolio_request = models.CreateDerivedTransactionPortfolioRequest(\n",
    "        display_name=portfolio_code,\n",
    "        code=portfolio_code,\n",
    "        parent_portfolio_id=models.ResourceId(\n",
    "            scope=client_scope_code,\n",
    "            code=portfolio_code),\n",
    "        description=portfolio_code,\n",
    "        created=created_date,\n",
    "        sub_holding_keys=[strategy_property_key])\n",
    "    \n",
    "    # Call LUSID to create our portfolio\n",
    "    portfolio_response = api_factory.build(lusid.api.DerivedTransactionPortfoliosApi).create_derived_portfolio(\n",
    "        scope=client_strategy_scope_code,\n",
    "        create_derived_transaction_portfolio_request=portfolio_request)\n",
    "    \n",
    "    # Print the response from LUSID using pretty formatting\n",
    "    prettyprint.portfolio_response(portfolio_response)\n",
    "\n",
    "    # Add the portfolio to our list of portfolios for the portfolio group\n",
    "    portfolio_resourceids.append(\n",
    "        models.ResourceId(\n",
    "            scope=client_strategy_scope_code, \n",
    "            code=portfolio_code))\n",
    "\n",
    "# Create our portfolio group request\n",
    "portfolio_group_request = models.CreatePortfolioGroupRequest(\n",
    "    code=client_group_code,\n",
    "    display_name=client_group_code,\n",
    "    values=portfolio_resourceids,\n",
    "    created=created_date,\n",
    "    description='Grouping all of {}'.format(client_group_code))\n",
    "\n",
    "# Call LUSID to create our portfolio group\n",
    "response = api_factory.build(lusid.api.PortfolioGroupsApi).create_portfolio_group(\n",
    "    scope=client_strategy_scope_code,\n",
    "    create_portfolio_group_request=portfolio_group_request)\n",
    "\n",
    "# Print the response from LUSID using pretty formatting\n",
    "prettyprint.portfolio_group_response(response, 'created')"
   ]
  },
  {
   "cell_type": "markdown",
   "metadata": {
    "pycharm": {
     "name": "#%% md\n"
    }
   },
   "source": [
    "![Scopes](img/strategies/strategies-derived.gif)"
   ]
  },
  {
   "cell_type": "markdown",
   "metadata": {},
   "source": [
    "Now that we have created our derived portfolios we can aggregate across our group of derived portfolios. Note that we can use the market data quotes from the previous aggregation in our main scope as we only had dummy prices in there.\n",
    "\n",
    "*Run the cell below to aggregate by strategy across our client's holdings*"
   ]
  },
  {
   "cell_type": "code",
   "execution_count": 73,
   "metadata": {
    "pycharm": {
     "is_executing": false
    },
    "tags": []
   },
   "outputs": [
    {
     "output_type": "stream",
     "name": "stdout",
     "text": "\u001b[1mStrategy: \u001b[0mquantitativeSignal\n\u001b[1mStrategy Cost: \u001b[0m-762125.0\n\n\u001b[1mStrategy: \u001b[0mincomeRequirements\n\u001b[1mStrategy Cost: \u001b[0m1348370.57\n\n\u001b[1mStrategy: \u001b[0mnewsSentiment\n\u001b[1mStrategy Cost: \u001b[0m2527350.0\n\n\u001b[1mStrategy: \u001b[0mfundamentalAnalysis\n\u001b[1mStrategy Cost: \u001b[0m-47650.0\n\n\u001b[1mStrategy: \u001b[0minternationalExposure\n\u001b[1mStrategy Cost: \u001b[0m-5574600.0\n\n"
    }
   ],
   "source": [
    "aggregation_request = models.AggregationRequest(\n",
    "    inline_recipe=inline_recipe,\n",
    "    effective_at=datetime.now(pytz.UTC),\n",
    "    metrics=[\n",
    "        models.AggregateSpec(\n",
    "            key=strategy_property_key,\n",
    "            op='Value'),\n",
    "        models.AggregateSpec(\n",
    "            key='Holding/default/Cost',\n",
    "            op='Sum')],\n",
    "    group_by=[\n",
    "        strategy_property_key],\n",
    "    filters=[\n",
    "        models.PropertyFilter(\n",
    "            left=strategy_property_key,\n",
    "            operator='NotEquals',\n",
    "            right='<Not Classified>',\n",
    "            right_operand_type='Absolute'),\n",
    "        models.PropertyFilter(\n",
    "            left=\"Instrument/default/Name\",\n",
    "            operator='NotEquals',\n",
    "            right='GBP',\n",
    "            right_operand_type='Absolute'),\n",
    "        models.PropertyFilter(\n",
    "            left=\"Instrument/default/Name\",\n",
    "            operator='NotEquals',\n",
    "            right='USD',\n",
    "            right_operand_type='Absolute')\n",
    "    ]\n",
    "    )\n",
    "\n",
    "aggregated_group = api_factory.build(lusid.api.AggregationApi).get_aggregation_by_group(\n",
    "    scope=client_strategy_scope_code,\n",
    "    code=client_group_code,\n",
    "    aggregation_request=aggregation_request)\n",
    "\n",
    "# Pretty print our response from LUSID\n",
    "prettyprint.aggregation_response_strategy(aggregated_group, strategy_property_key)"
   ]
  },
  {
   "cell_type": "markdown",
   "metadata": {},
   "source": [
    "We can now see how much we have invested into each of the different investment strategies. Our final state looks like the below."
   ]
  },
  {
   "cell_type": "markdown",
   "metadata": {},
   "source": [
    "![Scopes](img/strategies/strategies-strategyaggregation.gif)"
   ]
  }
 ],
 "metadata": {
  "kernelspec": {
   "display_name": "Python 3",
   "language": "python",
   "name": "python3"
  },
  "language_info": {
   "codemirror_mode": {
    "name": "ipython",
    "version": 3
   },
   "file_extension": ".py",
   "mimetype": "text/x-python",
   "name": "python",
   "nbconvert_exporter": "python",
   "pygments_lexer": "ipython3",
   "version": "3.7.7-final"
  }
 },
 "nbformat": 4,
 "nbformat_minor": 2
}