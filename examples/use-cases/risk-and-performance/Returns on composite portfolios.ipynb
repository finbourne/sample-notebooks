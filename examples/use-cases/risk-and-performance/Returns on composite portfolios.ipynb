{
 "cells": [
  {
   "cell_type": "code",
   "execution_count": 1,
   "metadata": {},
   "outputs": [
    {
     "data": {
      "text/html": [
       "\n",
       "    <form action=\"javascript:code_toggle()\"><input type=\"submit\" id=\"toggleButton\" value=\"Toggle Docstring\"></form>\n",
       "    \n",
       "         <script>\n",
       "         function code_toggle() {\n",
       "             if ($('div.cell.code_cell.rendered.selected div.input').css('display')!='none'){\n",
       "                 $('div.cell.code_cell.rendered.selected div.input').hide();\n",
       "             } else {\n",
       "                 $('div.cell.code_cell.rendered.selected div.input').show();\n",
       "             }\n",
       "         }\n",
       "         </script>\n",
       "\n",
       "     "
      ],
      "text/plain": [
       "<IPython.core.display.HTML object>"
      ]
     },
     "metadata": {},
     "output_type": "display_data"
    }
   ],
   "source": [
    "from lusidtools.jupyter_tools import toggle_code\n",
    "\n",
    "\"\"\"Loading and caculating returns\n",
    "\n",
    "Demonstration of how to load and calculate returns on composite portfolios in LUSID\n",
    "\n",
    "Attributes\n",
    "----------\n",
    "Returns\n",
    "Composite portfolios\n",
    "\"\"\"\n",
    "\n",
    "toggle_code(\"Toggle Docstring\")"
   ]
  },
  {
   "cell_type": "code",
   "execution_count": 2,
   "metadata": {},
   "outputs": [],
   "source": [
    "# %load_ext lab_black\n",
    "# %load_ext nb_black"
   ]
  },
  {
   "cell_type": "markdown",
   "metadata": {},
   "source": [
    "# 1. Loading and calculating composite returns in LUSID\n",
    "\n",
    "In this notebook we show composite returns for two portfolios - a UK Active Equity and a UK Active Fixed Income portfolio. We show returns from 1 Jan 2014 to 31 Dec 2016."
   ]
  },
  {
   "cell_type": "markdown",
   "metadata": {},
   "source": [
    "# 2. Setup"
   ]
  },
  {
   "cell_type": "code",
   "execution_count": 3,
   "metadata": {},
   "outputs": [
    {
     "data": {
      "text/html": [
       "<div>\n",
       "<style scoped>\n",
       "    .dataframe tbody tr th:only-of-type {\n",
       "        vertical-align: middle;\n",
       "    }\n",
       "\n",
       "    .dataframe tbody tr th {\n",
       "        vertical-align: top;\n",
       "    }\n",
       "\n",
       "    .dataframe thead th {\n",
       "        text-align: right;\n",
       "    }\n",
       "</style>\n",
       "<table border=\"1\" class=\"dataframe\">\n",
       "  <thead>\n",
       "    <tr style=\"text-align: right;\">\n",
       "      <th></th>\n",
       "      <th>api_version</th>\n",
       "      <th>build_version</th>\n",
       "      <th>excel_version</th>\n",
       "      <th>links</th>\n",
       "    </tr>\n",
       "  </thead>\n",
       "  <tbody>\n",
       "    <tr>\n",
       "      <th>0</th>\n",
       "      <td>v0</td>\n",
       "      <td>0.6.6850.0</td>\n",
       "      <td>0.5.2126</td>\n",
       "      <td>{'relation': 'Re...</td>\n",
       "    </tr>\n",
       "  </tbody>\n",
       "</table>\n",
       "</div>"
      ],
      "text/plain": [
       "  api_version build_version excel_version                links\n",
       "0          v0    0.6.6850.0      0.5.2126  {'relation': 'Re..."
      ]
     },
     "metadata": {},
     "output_type": "display_data"
    }
   ],
   "source": [
    "# Import general purpose packages\n",
    "import os\n",
    "import json\n",
    "import pandas as pd\n",
    "import numpy as np\n",
    "import datetime\n",
    "import pytz\n",
    "import warnings\n",
    "\n",
    "warnings.filterwarnings(\"ignore\", module=\"matplotlib*\")\n",
    "\n",
    "import matplotlib.pyplot as plt\n",
    "\n",
    "from datetime import datetime, timedelta\n",
    "from pandas import json_normalize\n",
    "\n",
    "# Import lusid specific packages\n",
    "import lusid\n",
    "import lusid.models as models\n",
    "\n",
    "from lusid.utilities import ApiClientFactory\n",
    "from lusidjam.refreshing_token import RefreshingToken\n",
    "\n",
    "# Set display configuration\n",
    "pd.set_option(\"display.max_columns\", None)\n",
    "pd.set_option(\"display.float_format\", lambda x: \"%.5f\" % x)\n",
    "pd.set_option(\"display.max_rows\", 3500)\n",
    "pd.set_option(\"max_colwidth\", 20)\n",
    "\n",
    "# Use line magic function to enable matplotlib to work interactively with iPython\n",
    "%matplotlib inline\n",
    "\n",
    "# Set style to fivethirtyeight to create clean and clear looking graphs\n",
    "plt.style.use(\"fivethirtyeight\")\n",
    "\n",
    "# Define a dictionary containing default plotting configurations\n",
    "params = {\n",
    "    \"legend.fontsize\": \"small\",\n",
    "    \"figure.figsize\": (12, 4.5),\n",
    "    \"axes.labelsize\": \"small\",\n",
    "    \"axes.titlesize\": \"medium\",\n",
    "    \"xtick.labelsize\": \"small\",\n",
    "    \"ytick.labelsize\": \"small\",\n",
    "}\n",
    "\n",
    "plt.rcParams.update(params)\n",
    "\n",
    "# Authenticate our user and create our API client\n",
    "secrets_path = os.getenv(\"FBN_SECRETS_PATH\")\n",
    "\n",
    "# Initiate an API Factory which is the client side object for interacting with LUSID APIs\n",
    "api_factory = lusid.utilities.ApiClientFactory(\n",
    "    token=RefreshingToken(),\n",
    "    api_secrets_filename=secrets_path,\n",
    "    app_name=\"LusidJupyterNotebook\",\n",
    ")\n",
    "\n",
    "api_status = pd.DataFrame(\n",
    "    api_factory.build(lusid.api.ApplicationMetadataApi).get_lusid_versions().to_dict()\n",
    ")\n",
    "\n",
    "display(api_status)"
   ]
  },
  {
   "cell_type": "code",
   "execution_count": 4,
   "metadata": {},
   "outputs": [],
   "source": [
    "# Define a scope to hold data\n",
    "\n",
    "scope = \"compositeDemo\""
   ]
  },
  {
   "cell_type": "code",
   "execution_count": 5,
   "metadata": {},
   "outputs": [],
   "source": [
    "# define the three portfolios\n",
    "\n",
    "portfolio_codes = [\"ukActiveEquity\", \"ukActiveFI\", \"composite\"]\n",
    "\n",
    "equity_portfolio, fi_portfolio, composite_portfolio = (\n",
    "    portfolio_codes[0],\n",
    "    portfolio_codes[1],\n",
    "    portfolio_codes[2],\n",
    ")"
   ]
  },
  {
   "cell_type": "code",
   "execution_count": 6,
   "metadata": {},
   "outputs": [],
   "source": [
    "# Define the APIs we use\n",
    "\n",
    "transaction_portfolios_api = api_factory.build(lusid.api.TransactionPortfoliosApi)\n",
    "portfolios_api = api_factory.build(lusid.api.PortfoliosApi)\n",
    "relationship_definition_api = api_factory.build(lusid.api.RelationshipDefinitionsApi)\n",
    "relationships_api = api_factory.build(lusid.api.RelationshipsApi)"
   ]
  },
  {
   "cell_type": "code",
   "execution_count": 7,
   "metadata": {},
   "outputs": [],
   "source": [
    "# Define dates\n",
    "start_date = datetime(year=2020, month=1, day=2, tzinfo=pytz.UTC).isoformat\n",
    "number_of_days = 366"
   ]
  },
  {
   "cell_type": "markdown",
   "metadata": {},
   "source": [
    "# 3. Portfolio and relationships setup\n",
    "\n",
    "## 3.1 Create three portfolios\n",
    "\n",
    "1. A UK Equity Portfolio\n",
    "2. A UK Fixed Income Portfolio\n",
    "3. A Composite Portfolio"
   ]
  },
  {
   "cell_type": "code",
   "execution_count": 8,
   "metadata": {},
   "outputs": [
    {
     "name": "stdout",
     "output_type": "stream",
     "text": [
      "Could not create a portfolio with id ukActiveEquity because it already exists in scope compositeDemo.\n",
      "Could not create a portfolio with id ukActiveFI because it already exists in scope compositeDemo.\n",
      "Could not create a portfolio with id composite because it already exists in scope compositeDemo.\n"
     ]
    }
   ],
   "source": [
    "for port in portfolio_codes:\n",
    "\n",
    "    try:\n",
    "\n",
    "        response = transaction_portfolios_api.create_portfolio(\n",
    "            scope=scope,\n",
    "            create_transaction_portfolio_request=models.CreateTransactionPortfolioRequest(\n",
    "                display_name=port, code=port, created=\"2013-12-30\", base_currency=\"GBP\"\n",
    "            ),\n",
    "        )\n",
    "    except lusid.ApiException as e:\n",
    "        print(json.loads(e.body)[\"title\"])"
   ]
  },
  {
   "cell_type": "markdown",
   "metadata": {},
   "source": [
    "## 3.2 Create a relationship definition\n",
    "\n",
    "Create a relationship to represent the composite"
   ]
  },
  {
   "cell_type": "code",
   "execution_count": 9,
   "metadata": {},
   "outputs": [],
   "source": [
    "relationship_scope = \"default\"\n",
    "reationship_code = \"CompositeMember\""
   ]
  },
  {
   "cell_type": "code",
   "execution_count": 10,
   "metadata": {},
   "outputs": [
    {
     "name": "stdout",
     "output_type": "stream",
     "text": [
      "Relation definition with scope 'default' and code 'CompositeMember' already exists\n"
     ]
    }
   ],
   "source": [
    "try:\n",
    "\n",
    "    relationship_definition_api.create_relationship_definition(\n",
    "        create_relationship_definition_request=models.CreateRelationshipDefinitionRequest(\n",
    "            scope=relationship_scope,\n",
    "            code=reationship_code,\n",
    "            source_entity_type=\"Portfolio\",\n",
    "            target_entity_type=\"Portfolio\",\n",
    "            display_name=\"Relationship for Composite Returns\",\n",
    "            outward_description=\"Relationship for Composite Returns\",\n",
    "            inward_description=\"Relationship for Composite Returns\",\n",
    "        )\n",
    "    )\n",
    "\n",
    "except lusid.ApiException as e:\n",
    "    print(json.loads(e.body)[\"title\"])"
   ]
  },
  {
   "cell_type": "markdown",
   "metadata": {},
   "source": [
    "## 3.3 Create relationship between composite and investment portfolios"
   ]
  },
  {
   "cell_type": "code",
   "execution_count": 11,
   "metadata": {},
   "outputs": [],
   "source": [
    "for portfolio in [equity_portfolio, fi_portfolio]:\n",
    "\n",
    "    relationships_api.create_relationship(\n",
    "        scope=relationship_scope,\n",
    "        code=reationship_code,\n",
    "        create_relationship_request=models.CreateRelationshipRequest(\n",
    "            source_entity_id={\"scope\": scope, \"code\": composite_portfolio},\n",
    "            target_entity_id={\"scope\": scope, \"code\": portfolio},\n",
    "        ),\n",
    "    )"
   ]
  },
  {
   "cell_type": "markdown",
   "metadata": {},
   "source": [
    "# 4. Load returns\n",
    "\n",
    "## 4.1 Load returns from CSV file into DataFrame"
   ]
  },
  {
   "cell_type": "code",
   "execution_count": 12,
   "metadata": {},
   "outputs": [],
   "source": [
    "returns_df = pd.read_csv(\n",
    "    \"data/composite_performance_data.csv\", dtype={\"daily_returns\": np.int64}\n",
    ")\n",
    "returns_df[\"date\"] = pd.to_datetime(returns_df[\"date\"], format=\"%d/%m/%Y\")\n",
    "returns_df = returns_df.rename(\n",
    "    columns={\"mv\": \"market_value\", \"returns\": \"daily_returns\"}\n",
    ")"
   ]
  },
  {
   "cell_type": "code",
   "execution_count": 13,
   "metadata": {},
   "outputs": [],
   "source": [
    "uk_equity_returns = returns_df[returns_df[\"portfolio\"] == \"uKEquity\"].copy()\n",
    "fi_equity_returns = returns_df[returns_df[\"portfolio\"] == \"uKFixedIncome\"].copy()"
   ]
  },
  {
   "cell_type": "markdown",
   "metadata": {},
   "source": [
    "# 4.2 Load returns from DataFrame into LUSID"
   ]
  },
  {
   "cell_type": "code",
   "execution_count": 14,
   "metadata": {},
   "outputs": [],
   "source": [
    "from_effective_at = \"2014-01-01\"\n",
    "to_effective_at = \"2015-12-31\"\n",
    "return_code = \"daily_return\"\n",
    "list_of_porfolios = [equity_portfolio, fi_portfolio, composite_portfolio]"
   ]
  },
  {
   "cell_type": "markdown",
   "metadata": {},
   "source": [
    "> <b> NOTE: We have truncated the upsert to 10 rows. Remove the cell below if you want to load all 4500+ rows of daily returns.</b>"
   ]
  },
  {
   "cell_type": "code",
   "execution_count": 15,
   "metadata": {},
   "outputs": [],
   "source": [
    "uk_equity_returns = uk_equity_returns[:10]\n",
    "fi_equity_returns = fi_equity_returns[:10]"
   ]
  },
  {
   "cell_type": "code",
   "execution_count": 16,
   "metadata": {},
   "outputs": [],
   "source": [
    "for portfolio, df in [\n",
    "    (equity_portfolio, uk_equity_returns),\n",
    "    (fi_portfolio, fi_equity_returns)]:\n",
    "\n",
    "    time_series_of_returns = [\n",
    "        models.PerformanceReturn(\n",
    "            effective_at=row[\"date\"].isoformat()[:10],\n",
    "            rate_of_return=row[\"daily_returns\"],\n",
    "            opening_market_value=row[\"market_value\"],\n",
    "            period=\"Daily\",\n",
    "        )\n",
    "        for _, row in df.iterrows()\n",
    "    ]\n",
    "\n",
    "    upsert_returns = portfolios_api.upsert_portfolio_returns(\n",
    "        scope=scope,\n",
    "        code=portfolio,\n",
    "        return_code=return_code,\n",
    "        return_scope=scope,\n",
    "        performance_return=time_series_of_returns,\n",
    "    )"
   ]
  },
  {
   "cell_type": "markdown",
   "metadata": {},
   "source": [
    "# 5. Get returns out of LUSID\n",
    "\n",
    "# 5.1 Call a table of returns data for our three portfolios "
   ]
  },
  {
   "cell_type": "code",
   "execution_count": 17,
   "metadata": {},
   "outputs": [],
   "source": [
    "def get_returns_since_inc(portfolio_code):\n",
    "\n",
    "    returns = portfolios_api.get_portfolio_aggregate_returns(\n",
    "        scope=scope,\n",
    "        code=portfolio_code,\n",
    "        return_scope=scope,\n",
    "        return_code=return_code,\n",
    "        from_effective_at=from_effective_at,\n",
    "        to_effective_at=to_effective_at,\n",
    "        period=\"Daily\",\n",
    "        output_frequency=\"Daily\",\n",
    "        metrics=[\"SINCE(2014-01-01)\",],\n",
    "    )\n",
    "\n",
    "    return returns"
   ]
  },
  {
   "cell_type": "code",
   "execution_count": 18,
   "metadata": {},
   "outputs": [],
   "source": [
    "all_summary_df = pd.DataFrame(\n",
    "    columns=[\"effective_at\", \"metrics_value.SINCE(2014-01-01)\"]\n",
    ")\n",
    "\n",
    "\n",
    "for portfolio in list_of_porfolios:\n",
    "\n",
    "    portfolio_summary_df = pd.DataFrame(\n",
    "        columns=[\"effective_at\", \"metrics_value.SINCE(2014-01-01)\"]\n",
    "    )\n",
    "\n",
    "    returns = get_returns_since_inc(portfolio)\n",
    "\n",
    "    for item in returns.values:\n",
    "\n",
    "        normalize_json = json_normalize(item.to_dict())\n",
    "        normalize_json = normalize_json.set_index(\"effective_at\").copy()\n",
    "        portfolio_summary_df = portfolio_summary_df.append(normalize_json)\n",
    "\n",
    "    all_summary_df = all_summary_df.join(\n",
    "        portfolio_summary_df, rsuffix=f\"{portfolio}\", on=\"effective_at\", how=\"outer\"\n",
    "    )"
   ]
  },
  {
   "cell_type": "code",
   "execution_count": 19,
   "metadata": {},
   "outputs": [],
   "source": [
    "summary_columns = {\n",
    "    \"metrics_value.SINCE(2014-01-01)ukActiveEquity\": \"ukActiveEquity\",\n",
    "    \"metrics_value.SINCE(2014-01-01)ukActiveFI\": \"ukActiveFI\",\n",
    "    \"metrics_value.SINCE(2014-01-01)composite\": \"composite\",\n",
    "}"
   ]
  },
  {
   "cell_type": "code",
   "execution_count": 20,
   "metadata": {},
   "outputs": [],
   "source": [
    "all_summary_df = (\n",
    "    all_summary_df[list(summary_columns.keys())].rename(columns=summary_columns).copy()\n",
    ")"
   ]
  },
  {
   "cell_type": "code",
   "execution_count": 21,
   "metadata": {},
   "outputs": [
    {
     "data": {
      "text/html": [
       "<div>\n",
       "<style scoped>\n",
       "    .dataframe tbody tr th:only-of-type {\n",
       "        vertical-align: middle;\n",
       "    }\n",
       "\n",
       "    .dataframe tbody tr th {\n",
       "        vertical-align: top;\n",
       "    }\n",
       "\n",
       "    .dataframe thead th {\n",
       "        text-align: right;\n",
       "    }\n",
       "</style>\n",
       "<table border=\"1\" class=\"dataframe\">\n",
       "  <thead>\n",
       "    <tr style=\"text-align: right;\">\n",
       "      <th></th>\n",
       "      <th>ukActiveEquity</th>\n",
       "      <th>ukActiveFI</th>\n",
       "      <th>composite</th>\n",
       "    </tr>\n",
       "  </thead>\n",
       "  <tbody>\n",
       "    <tr>\n",
       "      <th>2014-01-02 00:00:00+00:00</th>\n",
       "      <td>-0.00058</td>\n",
       "      <td>0.00922</td>\n",
       "      <td>0.00597</td>\n",
       "    </tr>\n",
       "    <tr>\n",
       "      <th>2014-01-03 00:00:00+00:00</th>\n",
       "      <td>0.00321</td>\n",
       "      <td>0.00065</td>\n",
       "      <td>0.00159</td>\n",
       "    </tr>\n",
       "    <tr>\n",
       "      <th>2014-01-04 00:00:00+00:00</th>\n",
       "      <td>0.00936</td>\n",
       "      <td>0.00410</td>\n",
       "      <td>0.00593</td>\n",
       "    </tr>\n",
       "    <tr>\n",
       "      <th>2014-01-05 00:00:00+00:00</th>\n",
       "      <td>0.02007</td>\n",
       "      <td>0.00401</td>\n",
       "      <td>0.00946</td>\n",
       "    </tr>\n",
       "    <tr>\n",
       "      <th>2014-01-06 00:00:00+00:00</th>\n",
       "      <td>0.03400</td>\n",
       "      <td>0.01163</td>\n",
       "      <td>0.01917</td>\n",
       "    </tr>\n",
       "    <tr>\n",
       "      <th>2014-01-07 00:00:00+00:00</th>\n",
       "      <td>0.04182</td>\n",
       "      <td>0.00333</td>\n",
       "      <td>0.01622</td>\n",
       "    </tr>\n",
       "    <tr>\n",
       "      <th>2014-01-08 00:00:00+00:00</th>\n",
       "      <td>0.04823</td>\n",
       "      <td>-0.00669</td>\n",
       "      <td>0.01160</td>\n",
       "    </tr>\n",
       "    <tr>\n",
       "      <th>2014-01-09 00:00:00+00:00</th>\n",
       "      <td>0.04923</td>\n",
       "      <td>-0.00596</td>\n",
       "      <td>0.01242</td>\n",
       "    </tr>\n",
       "    <tr>\n",
       "      <th>2014-01-10 00:00:00+00:00</th>\n",
       "      <td>0.04858</td>\n",
       "      <td>-0.00988</td>\n",
       "      <td>0.00955</td>\n",
       "    </tr>\n",
       "    <tr>\n",
       "      <th>2014-01-11 00:00:00+00:00</th>\n",
       "      <td>0.04074</td>\n",
       "      <td>-0.00206</td>\n",
       "      <td>0.01240</td>\n",
       "    </tr>\n",
       "  </tbody>\n",
       "</table>\n",
       "</div>"
      ],
      "text/plain": [
       "                      ukActiveEquity  ukActiveFI  composite\n",
       "2014-01-02 00:00:...        -0.00058     0.00922    0.00597\n",
       "2014-01-03 00:00:...         0.00321     0.00065    0.00159\n",
       "2014-01-04 00:00:...         0.00936     0.00410    0.00593\n",
       "2014-01-05 00:00:...         0.02007     0.00401    0.00946\n",
       "2014-01-06 00:00:...         0.03400     0.01163    0.01917\n",
       "2014-01-07 00:00:...         0.04182     0.00333    0.01622\n",
       "2014-01-08 00:00:...         0.04823    -0.00669    0.01160\n",
       "2014-01-09 00:00:...         0.04923    -0.00596    0.01242\n",
       "2014-01-10 00:00:...         0.04858    -0.00988    0.00955\n",
       "2014-01-11 00:00:...         0.04074    -0.00206    0.01240"
      ]
     },
     "execution_count": 21,
     "metadata": {},
     "output_type": "execute_result"
    }
   ],
   "source": [
    "all_summary_df.head(10)"
   ]
  },
  {
   "cell_type": "markdown",
   "metadata": {},
   "source": [
    "## 5.2 Plot the results"
   ]
  },
  {
   "cell_type": "code",
   "execution_count": 22,
   "metadata": {},
   "outputs": [],
   "source": [
    "def time_series_performance():\n",
    "    ts_performance = all_summary_df.plot(y=[\"ukActiveEquity\", \"ukActiveFI\", \"composite\"], figsize=(12, 9))\n",
    "    ts_performance.set_title(\n",
    "        f\"Performance since 2014-01-01\",\n",
    "        fontsize=\"large\",\n",
    "    )\n",
    "    ts_performance.set_ylabel(\"Performance in %\", fontsize=\"large\")\n",
    "    ts_performance.set_xlabel(\"Days\", fontsize=\"large\")\n",
    "    ts_performance.legend(prop={\"size\": 12})"
   ]
  },
  {
   "cell_type": "code",
   "execution_count": 23,
   "metadata": {},
   "outputs": [
    {
     "data": {
      "image/png": "[encoded data removed]",
      "text/plain": [
       "<Figure size 864x648 with 1 Axes>"
      ]
     },
     "metadata": {},
     "output_type": "display_data"
    }
   ],
   "source": [
    "time_series_performance()"
   ]
  }
 ],
 "metadata": {
  "kernelspec": {
   "display_name": "Python 3",
   "language": "python",
   "name": "python3"
  },
  "language_info": {
   "codemirror_mode": {
    "name": "ipython",
    "version": 3
   },
   "file_extension": ".py",
   "mimetype": "text/x-python",
   "name": "python",
   "nbconvert_exporter": "python",
   "pygments_lexer": "ipython3",
   "version": "3.8.5"
  }
 },
 "nbformat": 4,
 "nbformat_minor": 4
}
