{
 "cells": [
  {
   "cell_type": "code",
   "execution_count": 1,
   "metadata": {},
   "outputs": [
    {
     "data": {
      "text/plain": [
       "'Loading and caculating returns\\n\\nDemonstration of how to load and calculate returns in LUSID.\\n\\nAttributes\\n----------\\nReturns\\n'"
      ]
     },
     "execution_count": 1,
     "metadata": {},
     "output_type": "execute_result"
    }
   ],
   "source": [
    "\"\"\"Loading and caculating returns\n",
    "\n",
    "Demonstration of how to load and calculate returns in LUSID.\n",
    "\n",
    "Attributes\n",
    "----------\n",
    "Returns\n",
    "\"\"\""
   ]
  },
  {
   "cell_type": "markdown",
   "metadata": {},
   "source": [
    "# Setup LUSID"
   ]
  },
  {
   "cell_type": "code",
   "execution_count": 2,
   "metadata": {},
   "outputs": [],
   "source": [
    "# Import general purpose packages\n",
    "import os\n",
    "import json\n",
    "from datetime import datetime, timedelta\n",
    "from tqdm import tqdm\n",
    "\n",
    "# Import lusid specific packages\n",
    "import lusid\n",
    "import lusid.models as models\n",
    "from lusid.utilities import ApiClientFactory\n",
    "from lusidjam.refreshing_token import RefreshingToken\n",
    "\n",
    "# Import data wrangling packages\n",
    "import pandas as pd\n",
    "import numpy as np\n",
    "\n",
    "pd.set_option(\"display.max_columns\", None)\n",
    "pd.set_option(\"display.float_format\", lambda x: \"%.5f\" % x)\n",
    "pd.set_option(\"display.max_rows\", 500)\n",
    "\n",
    "\n",
    "# Authenticate our user and create our API client\n",
    "secrets_path = os.getenv(\"FBN_SECRETS_PATH\")\n",
    "\n",
    "# Initiate an API Factory which is the client side object for interacting with LUSID APIs\n",
    "api_factory = lusid.utilities.ApiClientFactory(\n",
    "    token=RefreshingToken(),\n",
    "    api_secrets_filename=secrets_path,\n",
    "    app_name=\"LusidJupyterNotebook\",\n",
    ")"
   ]
  },
  {
   "cell_type": "code",
   "execution_count": 3,
   "metadata": {},
   "outputs": [],
   "source": [
    "# Import ploting libraries and configuration\n",
    "import matplotlib.pyplot as plt\n",
    "\n",
    "# Use line magic function to enable matplotlib to work interactively with iPython\n",
    "\n",
    "%matplotlib inline\n",
    "\n",
    "# Set style to fivethirtyeight to create clean and clear looking graphs\n",
    "\n",
    "plt.style.use(\"fivethirtyeight\")\n",
    "\n",
    "# Define a dictionary containing default plotting configurations\n",
    "\n",
    "params = {\n",
    "    \"legend.fontsize\": \"small\",\n",
    "    \"figure.figsize\": (12, 4.5),\n",
    "    \"axes.labelsize\": \"small\",\n",
    "    \"axes.titlesize\": \"medium\",\n",
    "    \"xtick.labelsize\": \"small\",\n",
    "    \"ytick.labelsize\": \"small\",\n",
    "}\n",
    "\n",
    "plt.rcParams.update(params)"
   ]
  },
  {
   "cell_type": "code",
   "execution_count": 4,
   "metadata": {},
   "outputs": [],
   "source": [
    "# define a scope to hold data\n",
    "\n",
    "scope = \"tests\"\n",
    "portfolio_code = \"UK_EQUITY\""
   ]
  },
  {
   "cell_type": "code",
   "execution_count": 5,
   "metadata": {},
   "outputs": [],
   "source": [
    "# define the APIs we use\n",
    "\n",
    "transaction_portfolios_api = api_factory.build(lusid.api.TransactionPortfoliosApi)\n",
    "portfolios_api = api_factory.build(lusid.api.PortfoliosApi)"
   ]
  },
  {
   "cell_type": "code",
   "execution_count": 6,
   "metadata": {},
   "outputs": [],
   "source": [
    "# define dates\n",
    "start_date = datetime(year=2020, month=1, day=2)\n",
    "number_of_days = 366"
   ]
  },
  {
   "cell_type": "markdown",
   "metadata": {},
   "source": [
    "# Create a DataFrame of returns"
   ]
  },
  {
   "cell_type": "code",
   "execution_count": 7,
   "metadata": {},
   "outputs": [],
   "source": [
    "def generate_set_of_returns(start_date, daily_return, start_mv, number_of_days):\n",
    "\n",
    "    # Create a timeseries of returns for T+1 onwards\n",
    "    dates = [start_date + timedelta(days=x) for x in range(1, number_of_days)]\n",
    "    daily_returns = [daily_return] * (number_of_days - 1)\n",
    "    df = pd.DataFrame({\"date\": dates, \"daily_returns\": daily_returns})\n",
    "    df[\"cumulative_sum\"] = df[\"daily_returns\"].cumsum()\n",
    "    df[\"market_value\"] = df[\"cumulative_sum\"].apply(lambda x: (x + 1) * 1000000)\n",
    "\n",
    "    # insert the T details\n",
    "    returns_on_t = {\n",
    "        \"date\": [start_date],\n",
    "        \"daily_returns\": [0],\n",
    "        \"market_value\": [start_mv],\n",
    "    }\n",
    "\n",
    "    # Merge the dfs\n",
    "    df = pd.concat([pd.DataFrame(returns_on_t), df], ignore_index=True)\n",
    "\n",
    "    return df"
   ]
  },
  {
   "cell_type": "code",
   "execution_count": 8,
   "metadata": {},
   "outputs": [],
   "source": [
    "start_date = datetime(year=2020, month=1, day=1)\n",
    "\n",
    "returns_df = generate_set_of_returns(start_date, 0.0001, 1000000, 366)"
   ]
  },
  {
   "cell_type": "markdown",
   "metadata": {},
   "source": [
    "# Create a portfolio"
   ]
  },
  {
   "cell_type": "code",
   "execution_count": 9,
   "metadata": {},
   "outputs": [
    {
     "name": "stdout",
     "output_type": "stream",
     "text": [
      "Could not create a portfolio with id UK_EQUITY because it already exists in scope tests.\n"
     ]
    }
   ],
   "source": [
    "portfolios = [portfolio_code]\n",
    "\n",
    "for port in portfolios:\n",
    "\n",
    "    try:\n",
    "\n",
    "        response = transaction_portfolios_api.create_portfolio(\n",
    "            scope=scope,\n",
    "            create_transaction_portfolio_request=models.CreateTransactionPortfolioRequest(\n",
    "                display_name=port, code=port, created=\"2020-01-01\", base_currency=\"GBP\"\n",
    "            ),\n",
    "        )\n",
    "    except lusid.ApiException as e:\n",
    "        print(json.loads(e.body)[\"title\"])"
   ]
  },
  {
   "cell_type": "markdown",
   "metadata": {},
   "source": [
    "# Upload returns into LUSID"
   ]
  },
  {
   "cell_type": "code",
   "execution_count": 10,
   "metadata": {},
   "outputs": [
    {
     "name": "stderr",
     "output_type": "stream",
     "text": [
      "100%|████████████████████████████████████████████████████████████████████████████████| 366/366 [03:10<00:00,  1.92it/s]\n"
     ]
    }
   ],
   "source": [
    "return_code = \"daily_returns\"\n",
    "\n",
    "for index, row in tqdm(returns_df.iterrows(), total=returns_df.shape[0]):\n",
    "\n",
    "    portfolios_api.upsert_portfolio_returns(\n",
    "        scope=scope,\n",
    "        code=portfolio_code,\n",
    "        return_code=return_code,\n",
    "        return_scope=scope,\n",
    "        model_return=[\n",
    "            models.ModelReturn(\n",
    "                effective_at=row[\"date\"].isoformat()[:10],\n",
    "                return_value=row[\"daily_returns\"],\n",
    "                market_value=row[\"market_value\"],\n",
    "                period=\"Daily\",\n",
    "            )\n",
    "        ],\n",
    "    )"
   ]
  },
  {
   "cell_type": "markdown",
   "metadata": {},
   "source": [
    "# Retrieve returns from LUSID"
   ]
  },
  {
   "cell_type": "code",
   "execution_count": 11,
   "metadata": {},
   "outputs": [],
   "source": [
    "from_effective_at = \"2020-01-01\"\n",
    "to_effective_at = \"2020-12-31\"\n",
    "\n",
    "returns = portfolios_api.get_portfolio_aggregate_returns(\n",
    "    scope=scope,\n",
    "    code=portfolio_code,\n",
    "    return_code=return_code,\n",
    "    return_scope=scope,\n",
    "    from_effective_at=from_effective_at,\n",
    "    to_effective_at=to_effective_at,\n",
    "    period=\"Daily\",\n",
    "    output_frequency=\"Daily\",\n",
    "    metrics=[\"INC\", \"WTD\", \"MTD\", \"QTD\", \"YTD\"],\n",
    ")"
   ]
  },
  {
   "cell_type": "code",
   "execution_count": 12,
   "metadata": {},
   "outputs": [],
   "source": [
    "data = returns.values"
   ]
  },
  {
   "cell_type": "code",
   "execution_count": 13,
   "metadata": {},
   "outputs": [],
   "source": [
    "summary_df = pd.DataFrame(\n",
    "    columns=[\"date\", \"mv\", \"inception\", \"wtd\", \"mtd\", \"qtd\", \"ytd\"]\n",
    ")\n",
    "\n",
    "for item in data:\n",
    "\n",
    "    row = {}\n",
    "    row[\"date\"] = item.effective_at\n",
    "    row[\"mv\"] = item.market_value\n",
    "    row[\"inception\"] = item.metrics_value[\"INC\"]\n",
    "    row[\"mtd\"] = item.metrics_value[\"MTD\"]\n",
    "    row[\"ytd\"] = item.metrics_value[\"YTD\"]\n",
    "    row[\"qtd\"] = item.metrics_value[\"QTD\"]\n",
    "    row[\"wtd\"] = item.metrics_value[\"WTD\"]\n",
    "\n",
    "    summary_df = summary_df.append(row, ignore_index=True)"
   ]
  },
  {
   "cell_type": "code",
   "execution_count": 14,
   "metadata": {},
   "outputs": [
    {
     "data": {
      "text/html": [
       "<div>\n",
       "<style scoped>\n",
       "    .dataframe tbody tr th:only-of-type {\n",
       "        vertical-align: middle;\n",
       "    }\n",
       "\n",
       "    .dataframe tbody tr th {\n",
       "        vertical-align: top;\n",
       "    }\n",
       "\n",
       "    .dataframe thead th {\n",
       "        text-align: right;\n",
       "    }\n",
       "</style>\n",
       "<table border=\"1\" class=\"dataframe\">\n",
       "  <thead>\n",
       "    <tr style=\"text-align: right;\">\n",
       "      <th></th>\n",
       "      <th>date</th>\n",
       "      <th>mv</th>\n",
       "      <th>inception</th>\n",
       "      <th>wtd</th>\n",
       "      <th>mtd</th>\n",
       "      <th>qtd</th>\n",
       "      <th>ytd</th>\n",
       "    </tr>\n",
       "  </thead>\n",
       "  <tbody>\n",
       "    <tr>\n",
       "      <th>0</th>\n",
       "      <td>2020-01-02 00:00:00+00:00</td>\n",
       "      <td>1000100.00000</td>\n",
       "      <td>0.00010</td>\n",
       "      <td>0.00010</td>\n",
       "      <td>0.00010</td>\n",
       "      <td>0.00010</td>\n",
       "      <td>0.00010</td>\n",
       "    </tr>\n",
       "    <tr>\n",
       "      <th>1</th>\n",
       "      <td>2020-01-03 00:00:00+00:00</td>\n",
       "      <td>1000200.00000</td>\n",
       "      <td>0.00020</td>\n",
       "      <td>0.00020</td>\n",
       "      <td>0.00020</td>\n",
       "      <td>0.00020</td>\n",
       "      <td>0.00020</td>\n",
       "    </tr>\n",
       "    <tr>\n",
       "      <th>2</th>\n",
       "      <td>2020-01-04 00:00:00+00:00</td>\n",
       "      <td>1000300.00000</td>\n",
       "      <td>0.00030</td>\n",
       "      <td>0.00030</td>\n",
       "      <td>0.00030</td>\n",
       "      <td>0.00030</td>\n",
       "      <td>0.00030</td>\n",
       "    </tr>\n",
       "    <tr>\n",
       "      <th>3</th>\n",
       "      <td>2020-01-05 00:00:00+00:00</td>\n",
       "      <td>1000400.00000</td>\n",
       "      <td>0.00040</td>\n",
       "      <td>0.00040</td>\n",
       "      <td>0.00040</td>\n",
       "      <td>0.00040</td>\n",
       "      <td>0.00040</td>\n",
       "    </tr>\n",
       "    <tr>\n",
       "      <th>4</th>\n",
       "      <td>2020-01-06 00:00:00+00:00</td>\n",
       "      <td>1000500.00000</td>\n",
       "      <td>0.00050</td>\n",
       "      <td>0.00010</td>\n",
       "      <td>0.00050</td>\n",
       "      <td>0.00050</td>\n",
       "      <td>0.00050</td>\n",
       "    </tr>\n",
       "    <tr>\n",
       "      <th>5</th>\n",
       "      <td>2020-01-07 00:00:00+00:00</td>\n",
       "      <td>1000600.00000</td>\n",
       "      <td>0.00060</td>\n",
       "      <td>0.00020</td>\n",
       "      <td>0.00060</td>\n",
       "      <td>0.00060</td>\n",
       "      <td>0.00060</td>\n",
       "    </tr>\n",
       "    <tr>\n",
       "      <th>6</th>\n",
       "      <td>2020-01-08 00:00:00+00:00</td>\n",
       "      <td>1000700.00000</td>\n",
       "      <td>0.00070</td>\n",
       "      <td>0.00030</td>\n",
       "      <td>0.00070</td>\n",
       "      <td>0.00070</td>\n",
       "      <td>0.00070</td>\n",
       "    </tr>\n",
       "  </tbody>\n",
       "</table>\n",
       "</div>"
      ],
      "text/plain": [
       "                        date            mv  inception     wtd     mtd     qtd  \\\n",
       "0  2020-01-02 00:00:00+00:00 1000100.00000    0.00010 0.00010 0.00010 0.00010   \n",
       "1  2020-01-03 00:00:00+00:00 1000200.00000    0.00020 0.00020 0.00020 0.00020   \n",
       "2  2020-01-04 00:00:00+00:00 1000300.00000    0.00030 0.00030 0.00030 0.00030   \n",
       "3  2020-01-05 00:00:00+00:00 1000400.00000    0.00040 0.00040 0.00040 0.00040   \n",
       "4  2020-01-06 00:00:00+00:00 1000500.00000    0.00050 0.00010 0.00050 0.00050   \n",
       "5  2020-01-07 00:00:00+00:00 1000600.00000    0.00060 0.00020 0.00060 0.00060   \n",
       "6  2020-01-08 00:00:00+00:00 1000700.00000    0.00070 0.00030 0.00070 0.00070   \n",
       "\n",
       "      ytd  \n",
       "0 0.00010  \n",
       "1 0.00020  \n",
       "2 0.00030  \n",
       "3 0.00040  \n",
       "4 0.00050  \n",
       "5 0.00060  \n",
       "6 0.00070  "
      ]
     },
     "execution_count": 14,
     "metadata": {},
     "output_type": "execute_result"
    }
   ],
   "source": [
    "summary_df.head(7)"
   ]
  },
  {
   "cell_type": "code",
   "execution_count": 15,
   "metadata": {},
   "outputs": [],
   "source": [
    "def time_series_performance():\n",
    "    ts_performance = summary_df.plot(y=[\"ytd\"], figsize=(12, 9))\n",
    "    ts_performance.set_title(\n",
    "        f\"Performance of {portfolio_code} from {from_effective_at} to {to_effective_at}\",\n",
    "        fontsize=\"large\",\n",
    "    )\n",
    "    ts_performance.set_ylabel(\"Performance in %\", fontsize=\"large\")\n",
    "    ts_performance.set_xlabel(\"Days: Jan to Dec 2020\", fontsize=\"large\")\n",
    "    ts_performance.legend(prop={\"size\": 12})"
   ]
  },
  {
   "cell_type": "code",
   "execution_count": 16,
   "metadata": {},
   "outputs": [
    {
     "data": {
      "image/png": "[encoded data removed]",
      "text/plain": [
       "<Figure size 864x648 with 1 Axes>"
      ]
     },
     "metadata": {},
     "output_type": "display_data"
    }
   ],
   "source": [
    "time_series_performance()"
   ]
  }
 ],
 "metadata": {
  "kernelspec": {
   "display_name": "Python 3",
   "language": "python",
   "name": "python3"
  },
  "language_info": {
   "codemirror_mode": {
    "name": "ipython",
    "version": 3
   },
   "file_extension": ".py",
   "mimetype": "text/x-python",
   "name": "python",
   "nbconvert_exporter": "python",
   "pygments_lexer": "ipython3",
   "version": "3.8.5"
  }
 },
 "nbformat": 4,
 "nbformat_minor": 4
}
