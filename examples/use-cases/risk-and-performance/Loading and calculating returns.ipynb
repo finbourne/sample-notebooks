{
 "cells": [
  {
   "cell_type": "code",
   "execution_count": 1,
   "metadata": {},
   "outputs": [
    {
     "data": {
      "text/plain": [
       "'Loading and caculating returns\\n\\nDemonstration of how to load and calculate returns in LUSID.\\n\\nAttributes\\n----------\\nReturns\\n'"
      ]
     },
     "execution_count": 1,
     "metadata": {},
     "output_type": "execute_result"
    }
   ],
   "source": [
    "\"\"\"Loading and caculating returns\n",
    "\n",
    "Demonstration of how to load and calculate returns in LUSID.\n",
    "\n",
    "Attributes\n",
    "----------\n",
    "Returns\n",
    "\"\"\""
   ]
  },
  {
   "cell_type": "markdown",
   "metadata": {},
   "source": [
    "# Loading and calculating returns in LUSID\n",
    "\n",
    "This notebook shows how you can load and calculate returns in LUSID. In the cells below, we load a CSV file of daily returns over a 5 year period (approximately). We then use LUSID to calculate various metics:\n",
    "\n",
    "* Daily\n",
    "* Since inception\n",
    "* Month-to-date (MTD)\n",
    "* Quarter-to-date (QTD)\n",
    "* Year-to-date (YTD)\n"
   ]
  },
  {
   "cell_type": "markdown",
   "metadata": {},
   "source": [
    "# Setup LUSID"
   ]
  },
  {
   "cell_type": "code",
   "execution_count": 2,
   "metadata": {},
   "outputs": [],
   "source": [
    "# Import general purpose packages\n",
    "import os\n",
    "import json\n",
    "from datetime import datetime, timedelta\n",
    "\n",
    "# Import lusid specific packages\n",
    "import lusid\n",
    "import lusid.models as models\n",
    "from lusid.utilities import ApiClientFactory\n",
    "from lusidjam.refreshing_token import RefreshingToken\n",
    "\n",
    "# Import data wrangling packages\n",
    "import pandas as pd\n",
    "import numpy as np\n",
    "\n",
    "# Set display configuration\n",
    "pd.set_option(\"display.max_columns\", None)\n",
    "pd.set_option(\"display.float_format\", lambda x: \"%.5f\" % x)\n",
    "pd.set_option(\"display.max_rows\", 500)\n",
    "\n",
    "# Authenticate our user and create our API client\n",
    "secrets_path = os.getenv(\"FBN_SECRETS_PATH\")\n",
    "\n",
    "# Initiate an API Factory which is the client side object for interacting with LUSID APIs\n",
    "api_factory = lusid.utilities.ApiClientFactory(\n",
    "    token=RefreshingToken(),\n",
    "    api_secrets_filename=secrets_path,\n",
    "    app_name=\"LusidJupyterNotebook\",\n",
    ")"
   ]
  },
  {
   "cell_type": "code",
   "execution_count": 3,
   "metadata": {},
   "outputs": [],
   "source": [
    "# Import ploting libraries and configuration\n",
    "import matplotlib.pyplot as plt\n",
    "\n",
    "# Use line magic function to enable matplotlib to work interactively with iPython\n",
    "\n",
    "%matplotlib inline\n",
    "\n",
    "# Set style to fivethirtyeight to create clean and clear looking graphs\n",
    "\n",
    "plt.style.use(\"fivethirtyeight\")\n",
    "\n",
    "# Define a dictionary containing default plotting configurations\n",
    "\n",
    "params = {\n",
    "    \"legend.fontsize\": \"small\",\n",
    "    \"figure.figsize\": (12, 4.5),\n",
    "    \"axes.labelsize\": \"small\",\n",
    "    \"axes.titlesize\": \"medium\",\n",
    "    \"xtick.labelsize\": \"small\",\n",
    "    \"ytick.labelsize\": \"small\",\n",
    "}\n",
    "\n",
    "plt.rcParams.update(params)"
   ]
  },
  {
   "cell_type": "code",
   "execution_count": 4,
   "metadata": {},
   "outputs": [],
   "source": [
    "# define a scope to hold data\n",
    "\n",
    "scope = \"tests\"\n",
    "portfolio_code = \"UK_EQUITY\""
   ]
  },
  {
   "cell_type": "code",
   "execution_count": 5,
   "metadata": {},
   "outputs": [],
   "source": [
    "# define the APIs we use\n",
    "\n",
    "transaction_portfolios_api = api_factory.build(lusid.api.TransactionPortfoliosApi)\n",
    "portfolios_api = api_factory.build(lusid.api.PortfoliosApi)"
   ]
  },
  {
   "cell_type": "code",
   "execution_count": 6,
   "metadata": {},
   "outputs": [],
   "source": [
    "# define dates\n",
    "start_date = datetime(year=2020, month=1, day=2)\n",
    "number_of_days = 366"
   ]
  },
  {
   "cell_type": "markdown",
   "metadata": {},
   "source": [
    "# Load a DataFrame of returns from CSV file"
   ]
  },
  {
   "cell_type": "code",
   "execution_count": 7,
   "metadata": {},
   "outputs": [
    {
     "data": {
      "text/html": [
       "<div>\n",
       "<style scoped>\n",
       "    .dataframe tbody tr th:only-of-type {\n",
       "        vertical-align: middle;\n",
       "    }\n",
       "\n",
       "    .dataframe tbody tr th {\n",
       "        vertical-align: top;\n",
       "    }\n",
       "\n",
       "    .dataframe thead th {\n",
       "        text-align: right;\n",
       "    }\n",
       "</style>\n",
       "<table border=\"1\" class=\"dataframe\">\n",
       "  <thead>\n",
       "    <tr style=\"text-align: right;\">\n",
       "      <th></th>\n",
       "      <th>date</th>\n",
       "      <th>market_value</th>\n",
       "      <th>daily_returns</th>\n",
       "    </tr>\n",
       "  </thead>\n",
       "  <tbody>\n",
       "    <tr>\n",
       "      <th>0</th>\n",
       "      <td>2013-12-31</td>\n",
       "      <td>1000000.00000</td>\n",
       "      <td>0.00000</td>\n",
       "    </tr>\n",
       "    <tr>\n",
       "      <th>1</th>\n",
       "      <td>2014-01-01</td>\n",
       "      <td>993206.38000</td>\n",
       "      <td>-0.00679</td>\n",
       "    </tr>\n",
       "    <tr>\n",
       "      <th>2</th>\n",
       "      <td>2014-01-02</td>\n",
       "      <td>992628.45000</td>\n",
       "      <td>-0.00058</td>\n",
       "    </tr>\n",
       "    <tr>\n",
       "      <th>3</th>\n",
       "      <td>2014-01-03</td>\n",
       "      <td>996394.98000</td>\n",
       "      <td>0.00379</td>\n",
       "    </tr>\n",
       "    <tr>\n",
       "      <th>4</th>\n",
       "      <td>2014-01-04</td>\n",
       "      <td>1002500.97000</td>\n",
       "      <td>0.00613</td>\n",
       "    </tr>\n",
       "  </tbody>\n",
       "</table>\n",
       "</div>"
      ],
      "text/plain": [
       "        date  market_value  daily_returns\n",
       "0 2013-12-31 1000000.00000        0.00000\n",
       "1 2014-01-01  993206.38000       -0.00679\n",
       "2 2014-01-02  992628.45000       -0.00058\n",
       "3 2014-01-03  996394.98000        0.00379\n",
       "4 2014-01-04 1002500.97000        0.00613"
      ]
     },
     "execution_count": 7,
     "metadata": {},
     "output_type": "execute_result"
    }
   ],
   "source": [
    "returns_df = pd.read_csv(\"data/performance_data.csv\", dtype={'daily_returns':np.int64})\n",
    "returns_df[\"date\"] = pd.to_datetime(returns_df[\"date\"], format=\"%d/%m/%Y\")\n",
    "returns_df = returns_df.rename(columns = {\n",
    "    \"mv\": \"market_value\",\n",
    "    \"returns\": \"daily_returns\"\n",
    "    \n",
    "})\n",
    "\n",
    "returns_df.head()"
   ]
  },
  {
   "cell_type": "markdown",
   "metadata": {},
   "source": [
    "# Create a portfolio"
   ]
  },
  {
   "cell_type": "code",
   "execution_count": 8,
   "metadata": {},
   "outputs": [
    {
     "name": "stdout",
     "output_type": "stream",
     "text": [
      "Could not create a portfolio with id UK_EQUITY because it already exists in scope tests.\n"
     ]
    }
   ],
   "source": [
    "portfolios = [portfolio_code]\n",
    "\n",
    "for port in portfolios:\n",
    "\n",
    "    try:\n",
    "\n",
    "        response = transaction_portfolios_api.create_portfolio(\n",
    "            scope=scope,\n",
    "            create_transaction_portfolio_request=models.CreateTransactionPortfolioRequest(\n",
    "                display_name=port, code=port, created=\"2020-01-01\", base_currency=\"GBP\"\n",
    "            ),\n",
    "        )\n",
    "    except lusid.ApiException as e:\n",
    "        print(json.loads(e.body)[\"title\"])"
   ]
  },
  {
   "cell_type": "markdown",
   "metadata": {},
   "source": [
    "# Upload returns into LUSID"
   ]
  },
  {
   "cell_type": "markdown",
   "metadata": {},
   "source": [
    "> <b> NOTE: We have truncated the upsert to 10 rows. Remove the cell below if you want to load all 2500+ rows of daily returns.</b>"
   ]
  },
  {
   "cell_type": "code",
   "execution_count": 9,
   "metadata": {},
   "outputs": [],
   "source": [
    "# Truncate the array to 10 items\n",
    "# REMOVE this cell if you want to load all rows\n",
    "\n",
    "returns_df = returns_df[:10]"
   ]
  },
  {
   "cell_type": "code",
   "execution_count": 10,
   "metadata": {},
   "outputs": [],
   "source": [
    "time_series_of_returns=[]\n",
    "\n",
    "for index, row in returns_df.iterrows():\n",
    "    \n",
    "    time_series_of_returns.append(models.ModelReturn(\n",
    "                effective_at=row[\"date\"].isoformat()[:10],\n",
    "                return_value=row[\"daily_returns\"],\n",
    "                market_value=row[\"market_value\"],\n",
    "                period=\"Daily\",\n",
    "            ))"
   ]
  },
  {
   "cell_type": "code",
   "execution_count": 11,
   "metadata": {},
   "outputs": [],
   "source": [
    "return_code = \"daily_return\"\n",
    "\n",
    "upsert_returns =  portfolios_api.upsert_portfolio_returns(\n",
    "        scope=scope,\n",
    "        code=portfolio_code,\n",
    "        return_code=return_code,\n",
    "        return_scope=scope,\n",
    "        model_return=time_series_of_returns,\n",
    "    )"
   ]
  },
  {
   "cell_type": "markdown",
   "metadata": {},
   "source": [
    "# Retrieve returns from LUSID"
   ]
  },
  {
   "cell_type": "code",
   "execution_count": 12,
   "metadata": {},
   "outputs": [
    {
     "name": "stdout",
     "output_type": "stream",
     "text": [
      "Wall time: 34.9 s\n"
     ]
    }
   ],
   "source": [
    "from_effective_at = \"2013-12-31\"\n",
    "to_effective_at = \"2020-05-03\"\n",
    "\n",
    "returns = portfolios_api.get_portfolio_aggregate_returns(\n",
    "    scope=scope,\n",
    "    code=portfolio_code,\n",
    "    return_code=return_code,\n",
    "    return_scope=scope,\n",
    "    from_effective_at=from_effective_at,\n",
    "    to_effective_at=to_effective_at,\n",
    "    period=\"Daily\",\n",
    "    output_frequency=\"Daily\",\n",
    "    metrics=[\"DAY\", \"INC\", \"WTD\", \"MTD\", \"QTD\", \"YTD\"],\n",
    ")"
   ]
  },
  {
   "cell_type": "code",
   "execution_count": 14,
   "metadata": {},
   "outputs": [],
   "source": [
    "data = returns.values\n",
    "\n",
    "summary_df = pd.DataFrame(\n",
    "    columns=[\"date\", \"mv\", \"day\", \"inception\", \"wtd\", \"mtd\", \"qtd\", \"ytd\"]\n",
    ")\n",
    "\n",
    "for item in data:\n",
    "\n",
    "    row = {}\n",
    "    row[\"date\"] = item.effective_at\n",
    "    row[\"mv\"] = item.market_value\n",
    "    row[\"day\"] = item.metrics_value[\"DAY\"]\n",
    "    row[\"inception\"] = item.metrics_value[\"INC\"]\n",
    "    row[\"mtd\"] = item.metrics_value[\"MTD\"]\n",
    "    row[\"ytd\"] = item.metrics_value[\"YTD\"]\n",
    "    row[\"qtd\"] = item.metrics_value[\"QTD\"]\n",
    "    row[\"wtd\"] = item.metrics_value[\"WTD\"]\n",
    "\n",
    "    summary_df = summary_df.append(row, ignore_index=True)"
   ]
  },
  {
   "cell_type": "code",
   "execution_count": 15,
   "metadata": {},
   "outputs": [
    {
     "data": {
      "text/html": [
       "<div>\n",
       "<style scoped>\n",
       "    .dataframe tbody tr th:only-of-type {\n",
       "        vertical-align: middle;\n",
       "    }\n",
       "\n",
       "    .dataframe tbody tr th {\n",
       "        vertical-align: top;\n",
       "    }\n",
       "\n",
       "    .dataframe thead th {\n",
       "        text-align: right;\n",
       "    }\n",
       "</style>\n",
       "<table border=\"1\" class=\"dataframe\">\n",
       "  <thead>\n",
       "    <tr style=\"text-align: right;\">\n",
       "      <th></th>\n",
       "      <th>date</th>\n",
       "      <th>mv</th>\n",
       "      <th>day</th>\n",
       "      <th>inception</th>\n",
       "      <th>wtd</th>\n",
       "      <th>mtd</th>\n",
       "      <th>qtd</th>\n",
       "      <th>ytd</th>\n",
       "    </tr>\n",
       "  </thead>\n",
       "  <tbody>\n",
       "    <tr>\n",
       "      <th>2246</th>\n",
       "      <td>2020-02-25 00:00:00+00:00</td>\n",
       "      <td>1805898.87000</td>\n",
       "      <td>-0.00250</td>\n",
       "      <td>0.80590</td>\n",
       "      <td>-0.00403</td>\n",
       "      <td>0.00248</td>\n",
       "      <td>0.08062</td>\n",
       "      <td>0.08062</td>\n",
       "    </tr>\n",
       "    <tr>\n",
       "      <th>2247</th>\n",
       "      <td>2020-02-26 00:00:00+00:00</td>\n",
       "      <td>1811542.30000</td>\n",
       "      <td>0.00312</td>\n",
       "      <td>0.81154</td>\n",
       "      <td>-0.00092</td>\n",
       "      <td>0.00562</td>\n",
       "      <td>0.08400</td>\n",
       "      <td>0.08400</td>\n",
       "    </tr>\n",
       "    <tr>\n",
       "      <th>2248</th>\n",
       "      <td>2020-02-27 00:00:00+00:00</td>\n",
       "      <td>1816147.78000</td>\n",
       "      <td>0.00254</td>\n",
       "      <td>0.81615</td>\n",
       "      <td>0.00162</td>\n",
       "      <td>0.00817</td>\n",
       "      <td>0.08675</td>\n",
       "      <td>0.08675</td>\n",
       "    </tr>\n",
       "    <tr>\n",
       "      <th>2249</th>\n",
       "      <td>2020-02-28 00:00:00+00:00</td>\n",
       "      <td>1826811.17000</td>\n",
       "      <td>0.00587</td>\n",
       "      <td>0.82681</td>\n",
       "      <td>0.00750</td>\n",
       "      <td>0.01409</td>\n",
       "      <td>0.09313</td>\n",
       "      <td>0.09313</td>\n",
       "    </tr>\n",
       "    <tr>\n",
       "      <th>2250</th>\n",
       "      <td>2020-02-29 00:00:00+00:00</td>\n",
       "      <td>1844211.21000</td>\n",
       "      <td>0.00952</td>\n",
       "      <td>0.84421</td>\n",
       "      <td>0.01710</td>\n",
       "      <td>0.02375</td>\n",
       "      <td>0.10355</td>\n",
       "      <td>0.10355</td>\n",
       "    </tr>\n",
       "    <tr>\n",
       "      <th>2251</th>\n",
       "      <td>2020-03-01 00:00:00+00:00</td>\n",
       "      <td>1851992.27000</td>\n",
       "      <td>0.00422</td>\n",
       "      <td>0.85199</td>\n",
       "      <td>0.02139</td>\n",
       "      <td>0.00422</td>\n",
       "      <td>0.10820</td>\n",
       "      <td>0.10820</td>\n",
       "    </tr>\n",
       "    <tr>\n",
       "      <th>2252</th>\n",
       "      <td>2020-03-02 00:00:00+00:00</td>\n",
       "      <td>1853193.56000</td>\n",
       "      <td>0.00065</td>\n",
       "      <td>0.85319</td>\n",
       "      <td>0.00065</td>\n",
       "      <td>0.00487</td>\n",
       "      <td>0.10892</td>\n",
       "      <td>0.10892</td>\n",
       "    </tr>\n",
       "    <tr>\n",
       "      <th>2253</th>\n",
       "      <td>2020-03-03 00:00:00+00:00</td>\n",
       "      <td>1852655.21000</td>\n",
       "      <td>-0.00029</td>\n",
       "      <td>0.85266</td>\n",
       "      <td>0.00036</td>\n",
       "      <td>0.00458</td>\n",
       "      <td>0.10860</td>\n",
       "      <td>0.10860</td>\n",
       "    </tr>\n",
       "    <tr>\n",
       "      <th>2254</th>\n",
       "      <td>2020-03-04 00:00:00+00:00</td>\n",
       "      <td>1848853.84000</td>\n",
       "      <td>-0.00205</td>\n",
       "      <td>0.84885</td>\n",
       "      <td>-0.00169</td>\n",
       "      <td>0.00252</td>\n",
       "      <td>0.10632</td>\n",
       "      <td>0.10632</td>\n",
       "    </tr>\n",
       "    <tr>\n",
       "      <th>2255</th>\n",
       "      <td>2020-03-05 00:00:00+00:00</td>\n",
       "      <td>1847081.89000</td>\n",
       "      <td>-0.00096</td>\n",
       "      <td>0.84708</td>\n",
       "      <td>-0.00265</td>\n",
       "      <td>0.00156</td>\n",
       "      <td>0.10526</td>\n",
       "      <td>0.10526</td>\n",
       "    </tr>\n",
       "  </tbody>\n",
       "</table>\n",
       "</div>"
      ],
      "text/plain": [
       "                           date            mv      day  inception      wtd  \\\n",
       "2246  2020-02-25 00:00:00+00:00 1805898.87000 -0.00250    0.80590 -0.00403   \n",
       "2247  2020-02-26 00:00:00+00:00 1811542.30000  0.00312    0.81154 -0.00092   \n",
       "2248  2020-02-27 00:00:00+00:00 1816147.78000  0.00254    0.81615  0.00162   \n",
       "2249  2020-02-28 00:00:00+00:00 1826811.17000  0.00587    0.82681  0.00750   \n",
       "2250  2020-02-29 00:00:00+00:00 1844211.21000  0.00952    0.84421  0.01710   \n",
       "2251  2020-03-01 00:00:00+00:00 1851992.27000  0.00422    0.85199  0.02139   \n",
       "2252  2020-03-02 00:00:00+00:00 1853193.56000  0.00065    0.85319  0.00065   \n",
       "2253  2020-03-03 00:00:00+00:00 1852655.21000 -0.00029    0.85266  0.00036   \n",
       "2254  2020-03-04 00:00:00+00:00 1848853.84000 -0.00205    0.84885 -0.00169   \n",
       "2255  2020-03-05 00:00:00+00:00 1847081.89000 -0.00096    0.84708 -0.00265   \n",
       "\n",
       "         mtd     qtd     ytd  \n",
       "2246 0.00248 0.08062 0.08062  \n",
       "2247 0.00562 0.08400 0.08400  \n",
       "2248 0.00817 0.08675 0.08675  \n",
       "2249 0.01409 0.09313 0.09313  \n",
       "2250 0.02375 0.10355 0.10355  \n",
       "2251 0.00422 0.10820 0.10820  \n",
       "2252 0.00487 0.10892 0.10892  \n",
       "2253 0.00458 0.10860 0.10860  \n",
       "2254 0.00252 0.10632 0.10632  \n",
       "2255 0.00156 0.10526 0.10526  "
      ]
     },
     "execution_count": 15,
     "metadata": {},
     "output_type": "execute_result"
    }
   ],
   "source": [
    "summary_df.tail(10)"
   ]
  },
  {
   "cell_type": "code",
   "execution_count": 16,
   "metadata": {},
   "outputs": [],
   "source": [
    "def time_series_performance():\n",
    "    ts_performance = summary_df.plot(y=[\"ytd\"], figsize=(12, 9))\n",
    "    ts_performance.set_title(\n",
    "        f\"Performance of {portfolio_code} from {from_effective_at} to {to_effective_at}\",\n",
    "        fontsize=\"large\",\n",
    "    )\n",
    "    ts_performance.set_ylabel(\"Performance in %\", fontsize=\"large\")\n",
    "    ts_performance.set_xlabel(\"Number of days\")\n",
    "    ts_performance.legend(prop={\"size\": 12})"
   ]
  },
  {
   "cell_type": "code",
   "execution_count": 17,
   "metadata": {},
   "outputs": [
    {
     "data": {
      "image/png": "[encoded data removed]",
      "text/plain": [
       "<Figure size 864x648 with 1 Axes>"
      ]
     },
     "metadata": {},
     "output_type": "display_data"
    }
   ],
   "source": [
    "time_series_performance()"
   ]
  }
 ],
 "metadata": {
  "kernelspec": {
   "display_name": "Python 3",
   "language": "python",
   "name": "python3"
  },
  "language_info": {
   "codemirror_mode": {
    "name": "ipython",
    "version": 3
   },
   "file_extension": ".py",
   "mimetype": "text/x-python",
   "name": "python",
   "nbconvert_exporter": "python",
   "pygments_lexer": "ipython3",
   "version": "3.8.5"
  }
 },
 "nbformat": 4,
 "nbformat_minor": 4
}
