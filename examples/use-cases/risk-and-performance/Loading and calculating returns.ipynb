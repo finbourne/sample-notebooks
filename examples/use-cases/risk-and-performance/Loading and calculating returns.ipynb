{
 "cells": [
  {
   "cell_type": "code",
   "execution_count": 1,
   "metadata": {
    "slideshow": {
     "slide_type": "skip"
    }
   },
   "outputs": [
    {
     "data": {
      "text/html": [
       "\n",
       "    <form action=\"javascript:code_toggle()\"><input type=\"submit\" id=\"toggleButton\" value=\"Toggle Docstring\"></form>\n",
       "    \n",
       "         <script>\n",
       "         function code_toggle() {\n",
       "             if ($('div.cell.code_cell.rendered.selected div.input').css('display')!='none'){\n",
       "                 $('div.cell.code_cell.rendered.selected div.input').hide();\n",
       "             } else {\n",
       "                 $('div.cell.code_cell.rendered.selected div.input').show();\n",
       "             }\n",
       "         }\n",
       "         </script>\n",
       "\n",
       "     "
      ],
      "text/plain": [
       "<IPython.core.display.HTML object>"
      ]
     },
     "metadata": {},
     "output_type": "display_data"
    }
   ],
   "source": [
    "from lusidtools.jupyter_tools import toggle_code\n",
    "\n",
    "\"\"\"Loading and calculating returns\n",
    "\n",
    "Demonstration of how to load and calculate returns in LUSID.\n",
    "\n",
    "Attributes\n",
    "----------\n",
    "Returns\n",
    "\"\"\"\n",
    "\n",
    "toggle_code(\"Toggle Docstring\")"
   ]
  },
  {
   "cell_type": "markdown",
   "metadata": {
    "slideshow": {
     "slide_type": "slide"
    }
   },
   "source": [
    "# Loading and calculating returns in LUSID\n",
    "\n",
    "This notebook shows how you can load and calculate returns in LUSID. In the cells below, we load a CSV file of daily returns over a 5 year period (approximately). We then use LUSID to calculate various return metrics:\n",
    "\n",
    "* Daily\n",
    "* Since inception\n",
    "* Week-to-date (WTD), Month-to-date (MTD), Quarter-to-date (QTD), Year-to-date (YTD)\n",
    "* 1 month (1M), 3 months (3M), 1 Year (1Y)\n",
    "* Since a specific date\n",
    "* Annualised since incorporation\n",
    "* 5 year annualised\n"
   ]
  },
  {
   "cell_type": "markdown",
   "metadata": {
    "slideshow": {
     "slide_type": "skip"
    }
   },
   "source": [
    "# Setup LUSID"
   ]
  },
  {
   "cell_type": "code",
   "execution_count": 2,
   "metadata": {
    "slideshow": {
     "slide_type": "skip"
    }
   },
   "outputs": [
    {
     "data": {
      "text/html": [
       "<div>\n",
       "<style scoped>\n",
       "    .dataframe tbody tr th:only-of-type {\n",
       "        vertical-align: middle;\n",
       "    }\n",
       "\n",
       "    .dataframe tbody tr th {\n",
       "        vertical-align: top;\n",
       "    }\n",
       "\n",
       "    .dataframe thead th {\n",
       "        text-align: right;\n",
       "    }\n",
       "</style>\n",
       "<table border=\"1\" class=\"dataframe\">\n",
       "  <thead>\n",
       "    <tr style=\"text-align: right;\">\n",
       "      <th></th>\n",
       "      <th>api_version</th>\n",
       "      <th>build_version</th>\n",
       "      <th>excel_version</th>\n",
       "      <th>links</th>\n",
       "    </tr>\n",
       "  </thead>\n",
       "  <tbody>\n",
       "    <tr>\n",
       "      <th>0</th>\n",
       "      <td>v0</td>\n",
       "      <td>0.6.10373.0</td>\n",
       "      <td>0.5.3090</td>\n",
       "      <td>{'relation': 'Re...</td>\n",
       "    </tr>\n",
       "  </tbody>\n",
       "</table>\n",
       "</div>"
      ],
      "text/plain": [
       "  api_version build_version excel_version                links\n",
       "0          v0   0.6.10373.0      0.5.3090  {'relation': 'Re..."
      ]
     },
     "metadata": {},
     "output_type": "display_data"
    }
   ],
   "source": [
    "# Import general purpose packages\n",
    "import os\n",
    "import json\n",
    "import pandas as pd\n",
    "import numpy as np\n",
    "import datetime\n",
    "import pytz\n",
    "import warnings\n",
    "\n",
    "warnings.filterwarnings(\"ignore\", module=\"matplotlib*\")\n",
    "\n",
    "import matplotlib.pyplot as plt\n",
    "\n",
    "from datetime import datetime, timedelta\n",
    "\n",
    "# Import lusid specific packages\n",
    "import lusid\n",
    "import lusid.models as models\n",
    "\n",
    "from lusid.utilities import ApiClientFactory\n",
    "from lusidjam.refreshing_token import RefreshingToken\n",
    "\n",
    "# Set display configuration\n",
    "pd.set_option(\"display.max_columns\", None)\n",
    "pd.set_option(\"display.float_format\", lambda x: \"%.5f\" % x)\n",
    "pd.set_option(\"display.max_rows\", 3500)\n",
    "pd.set_option(\"max_colwidth\", 20)\n",
    "\n",
    "# Use line magic function to enable matplotlib to work interactively with iPython\n",
    "%matplotlib inline\n",
    "\n",
    "# Set style to fivethirtyeight to create clean and clear looking graphs\n",
    "plt.style.use(\"fivethirtyeight\")\n",
    "\n",
    "# Define a dictionary containing default plotting configurations\n",
    "params = {\n",
    "    \"legend.fontsize\": \"small\",\n",
    "    \"figure.figsize\": (12, 4.5),\n",
    "    \"axes.labelsize\": \"small\",\n",
    "    \"axes.titlesize\": \"medium\",\n",
    "    \"xtick.labelsize\": \"small\",\n",
    "    \"ytick.labelsize\": \"small\",\n",
    "}\n",
    "\n",
    "plt.rcParams.update(params)\n",
    "\n",
    "# Authenticate our user and create our API client\n",
    "secrets_path = os.getenv(\"FBN_SECRETS_PATH\")\n",
    "\n",
    "# Initiate an API Factory which is the client side object for interacting with LUSID APIs\n",
    "api_factory = lusid.utilities.ApiClientFactory(\n",
    "    token=RefreshingToken(),\n",
    "    api_secrets_filename=secrets_path,\n",
    "    app_name=\"LusidJupyterNotebook\",\n",
    ")\n",
    "\n",
    "api_status = pd.DataFrame(\n",
    "    api_factory.build(lusid.api.ApplicationMetadataApi).get_lusid_versions().to_dict()\n",
    ")\n",
    "\n",
    "display(api_status)"
   ]
  },
  {
   "cell_type": "markdown",
   "metadata": {
    "slideshow": {
     "slide_type": "slide"
    }
   },
   "source": [
    "# Setup defaults"
   ]
  },
  {
   "cell_type": "code",
   "execution_count": 3,
   "metadata": {
    "slideshow": {
     "slide_type": "fragment"
    }
   },
   "outputs": [],
   "source": [
    "# Define a scope to hold data\n",
    "\n",
    "scope = \"returns\"\n",
    "portfolio_code = \"UK_EQUITY\"\n",
    "\n",
    "# Define the APIs we use\n",
    "\n",
    "transaction_portfolios_api = api_factory.build(lusid.api.TransactionPortfoliosApi)\n",
    "portfolios_api = api_factory.build(lusid.api.PortfoliosApi)\n",
    "\n",
    "# Define dates\n",
    "start_date = datetime(year=2020, month=1, day=2, tzinfo=pytz.UTC).isoformat\n",
    "number_of_days = 366"
   ]
  },
  {
   "cell_type": "markdown",
   "metadata": {
    "slideshow": {
     "slide_type": "slide"
    }
   },
   "source": [
    "# Create a portfolio"
   ]
  },
  {
   "cell_type": "code",
   "execution_count": 4,
   "metadata": {
    "slideshow": {
     "slide_type": "fragment"
    }
   },
   "outputs": [
    {
     "name": "stdout",
     "output_type": "stream",
     "text": [
      "Could not create a portfolio with id 'UK_EQUITY' because it already exists in scope 'returns'.\n"
     ]
    }
   ],
   "source": [
    "portfolios = [portfolio_code]\n",
    "\n",
    "for port in portfolios:\n",
    "\n",
    "    try:\n",
    "\n",
    "        response = transaction_portfolios_api.create_portfolio(\n",
    "            scope=scope,\n",
    "            create_transaction_portfolio_request=models.CreateTransactionPortfolioRequest(\n",
    "                display_name=port, code=port, created=\"2013-12-30\", base_currency=\"GBP\"\n",
    "            ),\n",
    "        )\n",
    "    except lusid.ApiException as e:\n",
    "        print(json.loads(e.body)[\"title\"])"
   ]
  },
  {
   "cell_type": "markdown",
   "metadata": {
    "slideshow": {
     "slide_type": "slide"
    }
   },
   "source": [
    "# Upload a DataFrame of returns from CSV file to LUSID"
   ]
  },
  {
   "cell_type": "code",
   "execution_count": 5,
   "metadata": {
    "slideshow": {
     "slide_type": "fragment"
    }
   },
   "outputs": [
    {
     "data": {
      "text/html": [
       "<div>\n",
       "<style scoped>\n",
       "    .dataframe tbody tr th:only-of-type {\n",
       "        vertical-align: middle;\n",
       "    }\n",
       "\n",
       "    .dataframe tbody tr th {\n",
       "        vertical-align: top;\n",
       "    }\n",
       "\n",
       "    .dataframe thead th {\n",
       "        text-align: right;\n",
       "    }\n",
       "</style>\n",
       "<table border=\"1\" class=\"dataframe\">\n",
       "  <thead>\n",
       "    <tr style=\"text-align: right;\">\n",
       "      <th></th>\n",
       "      <th>date</th>\n",
       "      <th>market_value</th>\n",
       "      <th>daily_returns</th>\n",
       "    </tr>\n",
       "  </thead>\n",
       "  <tbody>\n",
       "    <tr>\n",
       "      <th>0</th>\n",
       "      <td>2013-12-31</td>\n",
       "      <td>1000000.00000</td>\n",
       "      <td>0.00000</td>\n",
       "    </tr>\n",
       "    <tr>\n",
       "      <th>1</th>\n",
       "      <td>2014-01-01</td>\n",
       "      <td>993206.38000</td>\n",
       "      <td>-0.00679</td>\n",
       "    </tr>\n",
       "    <tr>\n",
       "      <th>2</th>\n",
       "      <td>2014-01-02</td>\n",
       "      <td>992628.45000</td>\n",
       "      <td>-0.00058</td>\n",
       "    </tr>\n",
       "    <tr>\n",
       "      <th>3</th>\n",
       "      <td>2014-01-03</td>\n",
       "      <td>996394.98000</td>\n",
       "      <td>0.00379</td>\n",
       "    </tr>\n",
       "    <tr>\n",
       "      <th>4</th>\n",
       "      <td>2014-01-04</td>\n",
       "      <td>1002500.97000</td>\n",
       "      <td>0.00613</td>\n",
       "    </tr>\n",
       "  </tbody>\n",
       "</table>\n",
       "</div>"
      ],
      "text/plain": [
       "        date  market_value  daily_returns\n",
       "0 2013-12-31 1000000.00000        0.00000\n",
       "1 2014-01-01  993206.38000       -0.00679\n",
       "2 2014-01-02  992628.45000       -0.00058\n",
       "3 2014-01-03  996394.98000        0.00379\n",
       "4 2014-01-04 1002500.97000        0.00613"
      ]
     },
     "execution_count": 5,
     "metadata": {},
     "output_type": "execute_result"
    }
   ],
   "source": [
    "returns_df = pd.read_csv(\"data/performance_data.csv\", dtype={\"daily_returns\": np.int64})\n",
    "returns_df[\"date\"] = pd.to_datetime(returns_df[\"date\"], format=\"%d/%m/%Y\")\n",
    "returns_df = returns_df.rename(\n",
    "    columns={\"mv\": \"market_value\", \"returns\": \"daily_returns\"}\n",
    ")\n",
    "\n",
    "returns_df.head()"
   ]
  },
  {
   "cell_type": "markdown",
   "metadata": {
    "slideshow": {
     "slide_type": "fragment"
    }
   },
   "source": [
    "> <b> NOTE: We have truncated the upsert to 10 rows. Remove the cell below if you want to load all 2500+ rows of daily returns.</b>"
   ]
  },
  {
   "cell_type": "code",
   "execution_count": 6,
   "metadata": {
    "slideshow": {
     "slide_type": "fragment"
    }
   },
   "outputs": [],
   "source": [
    "returns_df = returns_df[:10]"
   ]
  },
  {
   "cell_type": "code",
   "execution_count": 7,
   "metadata": {
    "slideshow": {
     "slide_type": "slide"
    }
   },
   "outputs": [],
   "source": [
    "time_series_of_returns = [\n",
    "    models.PerformanceReturn(\n",
    "        effective_at=row[\"date\"].isoformat()[:10],\n",
    "        rate_of_return=row[\"daily_returns\"],\n",
    "        closing_market_value=row[\"market_value\"],\n",
    "        period=\"Daily\",\n",
    "    )\n",
    "    for _, row in returns_df.iterrows()\n",
    "]\n",
    "\n",
    "return_code = \"daily_return\"\n",
    "\n",
    "upsert_returns = portfolios_api.upsert_portfolio_returns(\n",
    "    scope=scope,\n",
    "    code=portfolio_code,\n",
    "    return_code=return_code,\n",
    "    return_scope=scope,\n",
    "    performance_return=time_series_of_returns,\n",
    ")"
   ]
  },
  {
   "cell_type": "markdown",
   "metadata": {
    "slideshow": {
     "slide_type": "slide"
    }
   },
   "source": [
    "# Retrieve returns from LUSID"
   ]
  },
  {
   "cell_type": "code",
   "execution_count": 8,
   "metadata": {
    "slideshow": {
     "slide_type": "fragment"
    }
   },
   "outputs": [],
   "source": [
    "from_effective_at = datetime(year=2013, month=12, day=31, tzinfo=pytz.utc).isoformat()\n",
    "to_effective_at = datetime(year=2020, month=5, day=3, tzinfo=pytz.utc).isoformat()\n",
    "\n",
    "returns = portfolios_api.get_portfolio_aggregate_returns(\n",
    "    scope=scope,\n",
    "    code=portfolio_code,\n",
    "    return_code=return_code,\n",
    "    return_scope=scope,\n",
    "    from_effective_at=from_effective_at,\n",
    "    to_effective_at=to_effective_at,\n",
    "    period=\"Daily\",\n",
    "    output_frequency=\"Daily\",\n",
    "    metrics=[\n",
    "        \"1D\",\n",
    "        \"INC\",\n",
    "        \"WTD\",\n",
    "        \"MTD\",\n",
    "        \"QTD\",\n",
    "        \"YTD\",\n",
    "        \"1M-ROLLING\",\n",
    "        \"3M-ROLLING\",\n",
    "        \"1Y-ROLLING\",\n",
    "        \"SINCE(2014-03-19)\",\n",
    "        \"ANNUALISED(INC)\",\n",
    "        \"ANNUALISED(5Y-ROLLING)\",\n",
    "    ],\n",
    ")"
   ]
  },
  {
   "cell_type": "code",
   "execution_count": 9,
   "metadata": {
    "slideshow": {
     "slide_type": "slide"
    }
   },
   "outputs": [
    {
     "data": {
      "text/html": [
       "<div>\n",
       "<style scoped>\n",
       "    .dataframe tbody tr th:only-of-type {\n",
       "        vertical-align: middle;\n",
       "    }\n",
       "\n",
       "    .dataframe tbody tr th {\n",
       "        vertical-align: top;\n",
       "    }\n",
       "\n",
       "    .dataframe thead th {\n",
       "        text-align: right;\n",
       "    }\n",
       "</style>\n",
       "<table border=\"1\" class=\"dataframe\">\n",
       "  <thead>\n",
       "    <tr style=\"text-align: right;\">\n",
       "      <th></th>\n",
       "      <th>date</th>\n",
       "      <th>opening_mv</th>\n",
       "      <th>closing_mv</th>\n",
       "      <th>day</th>\n",
       "      <th>inception</th>\n",
       "      <th>mtd</th>\n",
       "      <th>ytd</th>\n",
       "      <th>qtd</th>\n",
       "      <th>wtd</th>\n",
       "      <th>1m-rolling</th>\n",
       "      <th>3m-rolling</th>\n",
       "      <th>1y-rolling</th>\n",
       "      <th>since_20140319</th>\n",
       "      <th>annualised_inc</th>\n",
       "      <th>annualised_5y-rolling</th>\n",
       "      <th>1m</th>\n",
       "      <th>1y</th>\n",
       "      <th>3m</th>\n",
       "      <th>annualised_5y</th>\n",
       "    </tr>\n",
       "  </thead>\n",
       "  <tbody>\n",
       "    <tr>\n",
       "      <th>0</th>\n",
       "      <td>2013-12-31</td>\n",
       "      <td>1000000.00000</td>\n",
       "      <td>1000000.00000</td>\n",
       "      <td>0.00000</td>\n",
       "      <td>0.00000</td>\n",
       "      <td>NaN</td>\n",
       "      <td>NaN</td>\n",
       "      <td>NaN</td>\n",
       "      <td>NaN</td>\n",
       "      <td>NaN</td>\n",
       "      <td>NaN</td>\n",
       "      <td>NaN</td>\n",
       "      <td>None</td>\n",
       "      <td>None</td>\n",
       "      <td>NaN</td>\n",
       "      <td>None</td>\n",
       "      <td>None</td>\n",
       "      <td>None</td>\n",
       "      <td>None</td>\n",
       "    </tr>\n",
       "    <tr>\n",
       "      <th>1</th>\n",
       "      <td>2014-01-01</td>\n",
       "      <td>1000000.00000</td>\n",
       "      <td>1000000.00000</td>\n",
       "      <td>-0.00679</td>\n",
       "      <td>-0.00679</td>\n",
       "      <td>-0.00679</td>\n",
       "      <td>-0.00679</td>\n",
       "      <td>-0.00679</td>\n",
       "      <td>NaN</td>\n",
       "      <td>NaN</td>\n",
       "      <td>NaN</td>\n",
       "      <td>NaN</td>\n",
       "      <td>None</td>\n",
       "      <td>None</td>\n",
       "      <td>NaN</td>\n",
       "      <td>None</td>\n",
       "      <td>None</td>\n",
       "      <td>None</td>\n",
       "      <td>None</td>\n",
       "    </tr>\n",
       "    <tr>\n",
       "      <th>2</th>\n",
       "      <td>2014-01-02</td>\n",
       "      <td>993206.38000</td>\n",
       "      <td>993206.38000</td>\n",
       "      <td>-0.00058</td>\n",
       "      <td>-0.00737</td>\n",
       "      <td>-0.00737</td>\n",
       "      <td>-0.00737</td>\n",
       "      <td>-0.00737</td>\n",
       "      <td>NaN</td>\n",
       "      <td>NaN</td>\n",
       "      <td>NaN</td>\n",
       "      <td>NaN</td>\n",
       "      <td>None</td>\n",
       "      <td>None</td>\n",
       "      <td>NaN</td>\n",
       "      <td>None</td>\n",
       "      <td>None</td>\n",
       "      <td>None</td>\n",
       "      <td>None</td>\n",
       "    </tr>\n",
       "    <tr>\n",
       "      <th>3</th>\n",
       "      <td>2014-01-03</td>\n",
       "      <td>992628.45000</td>\n",
       "      <td>992628.45000</td>\n",
       "      <td>0.00379</td>\n",
       "      <td>-0.00361</td>\n",
       "      <td>-0.00361</td>\n",
       "      <td>-0.00361</td>\n",
       "      <td>-0.00361</td>\n",
       "      <td>NaN</td>\n",
       "      <td>NaN</td>\n",
       "      <td>NaN</td>\n",
       "      <td>NaN</td>\n",
       "      <td>None</td>\n",
       "      <td>None</td>\n",
       "      <td>NaN</td>\n",
       "      <td>None</td>\n",
       "      <td>None</td>\n",
       "      <td>None</td>\n",
       "      <td>None</td>\n",
       "    </tr>\n",
       "    <tr>\n",
       "      <th>4</th>\n",
       "      <td>2014-01-04</td>\n",
       "      <td>996394.98000</td>\n",
       "      <td>996394.98000</td>\n",
       "      <td>0.00613</td>\n",
       "      <td>0.00250</td>\n",
       "      <td>0.00250</td>\n",
       "      <td>0.00250</td>\n",
       "      <td>0.00250</td>\n",
       "      <td>NaN</td>\n",
       "      <td>NaN</td>\n",
       "      <td>NaN</td>\n",
       "      <td>NaN</td>\n",
       "      <td>None</td>\n",
       "      <td>None</td>\n",
       "      <td>NaN</td>\n",
       "      <td>None</td>\n",
       "      <td>None</td>\n",
       "      <td>None</td>\n",
       "      <td>None</td>\n",
       "    </tr>\n",
       "    <tr>\n",
       "      <th>5</th>\n",
       "      <td>2014-01-05</td>\n",
       "      <td>1002500.97000</td>\n",
       "      <td>1002500.97000</td>\n",
       "      <td>0.01061</td>\n",
       "      <td>0.01314</td>\n",
       "      <td>0.01314</td>\n",
       "      <td>0.01314</td>\n",
       "      <td>0.01314</td>\n",
       "      <td>NaN</td>\n",
       "      <td>NaN</td>\n",
       "      <td>NaN</td>\n",
       "      <td>NaN</td>\n",
       "      <td>None</td>\n",
       "      <td>None</td>\n",
       "      <td>NaN</td>\n",
       "      <td>None</td>\n",
       "      <td>None</td>\n",
       "      <td>None</td>\n",
       "      <td>None</td>\n",
       "    </tr>\n",
       "    <tr>\n",
       "      <th>6</th>\n",
       "      <td>2014-01-06</td>\n",
       "      <td>1013136.84000</td>\n",
       "      <td>1013136.84000</td>\n",
       "      <td>0.01366</td>\n",
       "      <td>0.02697</td>\n",
       "      <td>0.02697</td>\n",
       "      <td>0.02697</td>\n",
       "      <td>0.02697</td>\n",
       "      <td>0.01366</td>\n",
       "      <td>NaN</td>\n",
       "      <td>NaN</td>\n",
       "      <td>NaN</td>\n",
       "      <td>None</td>\n",
       "      <td>None</td>\n",
       "      <td>NaN</td>\n",
       "      <td>None</td>\n",
       "      <td>None</td>\n",
       "      <td>None</td>\n",
       "      <td>None</td>\n",
       "    </tr>\n",
       "    <tr>\n",
       "      <th>7</th>\n",
       "      <td>2014-01-07</td>\n",
       "      <td>1026973.90000</td>\n",
       "      <td>1026973.90000</td>\n",
       "      <td>0.00756</td>\n",
       "      <td>0.03474</td>\n",
       "      <td>0.03474</td>\n",
       "      <td>0.03474</td>\n",
       "      <td>0.03474</td>\n",
       "      <td>0.02132</td>\n",
       "      <td>NaN</td>\n",
       "      <td>NaN</td>\n",
       "      <td>NaN</td>\n",
       "      <td>None</td>\n",
       "      <td>None</td>\n",
       "      <td>NaN</td>\n",
       "      <td>None</td>\n",
       "      <td>None</td>\n",
       "      <td>None</td>\n",
       "      <td>None</td>\n",
       "    </tr>\n",
       "    <tr>\n",
       "      <th>8</th>\n",
       "      <td>2014-01-08</td>\n",
       "      <td>1034738.03000</td>\n",
       "      <td>1034738.03000</td>\n",
       "      <td>0.00615</td>\n",
       "      <td>0.04111</td>\n",
       "      <td>0.04111</td>\n",
       "      <td>0.04111</td>\n",
       "      <td>0.04111</td>\n",
       "      <td>0.02761</td>\n",
       "      <td>NaN</td>\n",
       "      <td>NaN</td>\n",
       "      <td>NaN</td>\n",
       "      <td>None</td>\n",
       "      <td>None</td>\n",
       "      <td>NaN</td>\n",
       "      <td>None</td>\n",
       "      <td>None</td>\n",
       "      <td>None</td>\n",
       "      <td>None</td>\n",
       "    </tr>\n",
       "    <tr>\n",
       "      <th>9</th>\n",
       "      <td>2014-01-09</td>\n",
       "      <td>1041105.56000</td>\n",
       "      <td>1041105.56000</td>\n",
       "      <td>0.00096</td>\n",
       "      <td>0.04210</td>\n",
       "      <td>0.04210</td>\n",
       "      <td>0.04210</td>\n",
       "      <td>0.04210</td>\n",
       "      <td>0.02859</td>\n",
       "      <td>NaN</td>\n",
       "      <td>NaN</td>\n",
       "      <td>NaN</td>\n",
       "      <td>None</td>\n",
       "      <td>None</td>\n",
       "      <td>NaN</td>\n",
       "      <td>None</td>\n",
       "      <td>None</td>\n",
       "      <td>None</td>\n",
       "      <td>None</td>\n",
       "    </tr>\n",
       "  </tbody>\n",
       "</table>\n",
       "</div>"
      ],
      "text/plain": [
       "         date    opening_mv    closing_mv      day  inception      mtd  \\\n",
       "0  2013-12-31 1000000.00000 1000000.00000  0.00000    0.00000      NaN   \n",
       "1  2014-01-01 1000000.00000 1000000.00000 -0.00679   -0.00679 -0.00679   \n",
       "2  2014-01-02  993206.38000  993206.38000 -0.00058   -0.00737 -0.00737   \n",
       "3  2014-01-03  992628.45000  992628.45000  0.00379   -0.00361 -0.00361   \n",
       "4  2014-01-04  996394.98000  996394.98000  0.00613    0.00250  0.00250   \n",
       "5  2014-01-05 1002500.97000 1002500.97000  0.01061    0.01314  0.01314   \n",
       "6  2014-01-06 1013136.84000 1013136.84000  0.01366    0.02697  0.02697   \n",
       "7  2014-01-07 1026973.90000 1026973.90000  0.00756    0.03474  0.03474   \n",
       "8  2014-01-08 1034738.03000 1034738.03000  0.00615    0.04111  0.04111   \n",
       "9  2014-01-09 1041105.56000 1041105.56000  0.00096    0.04210  0.04210   \n",
       "\n",
       "       ytd      qtd     wtd  1m-rolling  3m-rolling  1y-rolling  \\\n",
       "0      NaN      NaN     NaN         NaN         NaN         NaN   \n",
       "1 -0.00679 -0.00679     NaN         NaN         NaN         NaN   \n",
       "2 -0.00737 -0.00737     NaN         NaN         NaN         NaN   \n",
       "3 -0.00361 -0.00361     NaN         NaN         NaN         NaN   \n",
       "4  0.00250  0.00250     NaN         NaN         NaN         NaN   \n",
       "5  0.01314  0.01314     NaN         NaN         NaN         NaN   \n",
       "6  0.02697  0.02697 0.01366         NaN         NaN         NaN   \n",
       "7  0.03474  0.03474 0.02132         NaN         NaN         NaN   \n",
       "8  0.04111  0.04111 0.02761         NaN         NaN         NaN   \n",
       "9  0.04210  0.04210 0.02859         NaN         NaN         NaN   \n",
       "\n",
       "  since_20140319 annualised_inc  annualised_5y-rolling    1m    1y    3m  \\\n",
       "0           None           None                  NaN    None  None  None   \n",
       "1           None           None                  NaN    None  None  None   \n",
       "2           None           None                  NaN    None  None  None   \n",
       "3           None           None                  NaN    None  None  None   \n",
       "4           None           None                  NaN    None  None  None   \n",
       "5           None           None                  NaN    None  None  None   \n",
       "6           None           None                  NaN    None  None  None   \n",
       "7           None           None                  NaN    None  None  None   \n",
       "8           None           None                  NaN    None  None  None   \n",
       "9           None           None                  NaN    None  None  None   \n",
       "\n",
       "  annualised_5y  \n",
       "0          None  \n",
       "1          None  \n",
       "2          None  \n",
       "3          None  \n",
       "4          None  \n",
       "5          None  \n",
       "6          None  \n",
       "7          None  \n",
       "8          None  \n",
       "9          None  "
      ]
     },
     "execution_count": 9,
     "metadata": {},
     "output_type": "execute_result"
    }
   ],
   "source": [
    "data = returns.values\n",
    "\n",
    "summary_df = pd.DataFrame(\n",
    "    columns=[\n",
    "        \"date\",\n",
    "        \"opening_mv\",\n",
    "        \"closing_mv\",\n",
    "        \"day\",\n",
    "        \"inception\",\n",
    "        \"mtd\",\n",
    "        \"ytd\",\n",
    "        \"qtd\",\n",
    "        \"wtd\",\n",
    "        \"1m-rolling\",\n",
    "        \"3m-rolling\",\n",
    "        \"1y-rolling\",\n",
    "        \"since_20140319\",\n",
    "        \"annualised_inc\",\n",
    "        \"annualised_5y-rolling\",\n",
    "    ]\n",
    ")\n",
    "\n",
    "for item in data:\n",
    "\n",
    "    row = {}\n",
    "    row[\"date\"] = item.effective_at.strftime(format=\"%Y-%m-%d\")\n",
    "    row[\"opening_mv\"] = item.opening_market_value\n",
    "    row[\"closing_mv\"] = item.opening_market_value\n",
    "    row[\"day\"] = item.metrics_value.get(\"1D\")\n",
    "    row[\"inception\"] = item.metrics_value.get(\"INC\")\n",
    "    row[\"mtd\"] = item.metrics_value.get(\"MTD\")\n",
    "    row[\"ytd\"] = item.metrics_value.get(\"YTD\")\n",
    "    row[\"qtd\"] = item.metrics_value.get(\"QTD\")\n",
    "    row[\"wtd\"] = item.metrics_value.get(\"WTD\")\n",
    "    row[\"1m\"] = item.metrics_value.get(\"1M-ROLLING\")\n",
    "    row[\"3m\"] = item.metrics_value.get(\"3M-ROLLING\")\n",
    "    row[\"1y\"] = item.metrics_value.get(\"1Y-ROLLING\")\n",
    "    row[\"since_20140319\"] = item.metrics_value.get(\"SINCE(2014-03-19)\")\n",
    "    row[\"annualised_inc\"] = item.metrics_value.get(\"ANNUALISED(INC)\")\n",
    "    row[\"annualised_5y\"] = item.metrics_value.get(\"ANNUALISED(5Y-ROLLING)\")\n",
    "\n",
    "    summary_df = summary_df.append(row, ignore_index=True)\n",
    "    \n",
    "summary_df.tail(10)"
   ]
  },
  {
   "cell_type": "code",
   "execution_count": 10,
   "metadata": {
    "slideshow": {
     "slide_type": "slide"
    }
   },
   "outputs": [
    {
     "data": {
      "image/png": "[encoded data removed]",
      "text/plain": [
       "<Figure size 864x648 with 1 Axes>"
      ]
     },
     "metadata": {},
     "output_type": "display_data"
    }
   ],
   "source": [
    "def time_series_performance():\n",
    "    ts_performance = summary_df.plot(y=[\"inception\"], figsize=(12, 9))\n",
    "    ts_performance.set_title(\n",
    "        f\"Performance of {portfolio_code} since inception\",\n",
    "        fontsize=\"large\",\n",
    "    )\n",
    "    ts_performance.set_ylabel(\"Performance in %\", fontsize=\"large\")\n",
    "    ts_performance.set_xlabel(\"Days since inception\", fontsize=\"large\")\n",
    "    ts_performance.legend(prop={\"size\": 12})\n",
    "    \n",
    "time_series_performance()"
   ]
  },
  {
   "cell_type": "markdown",
   "metadata": {
    "slideshow": {
     "slide_type": "slide"
    }
   },
   "source": [
    "# Returns Dashboard"
   ]
  },
  {
   "cell_type": "markdown",
   "metadata": {
    "slideshow": {
     "slide_type": "fragment"
    }
   },
   "source": [
    "To view the returns loaded above, navigate to the following link:"
   ]
  },
  {
   "cell_type": "code",
   "execution_count": null,
   "metadata": {
    "scrolled": true,
    "slideshow": {
     "slide_type": "fragment"
    }
   },
   "outputs": [],
   "source": [
    "import os\n",
    "api_url = os.getenv(\"FBN_LUSID_API_URL\")\n",
    "url = f\"{api_url[:-3]}app/dashboard/returns?dateFrom=2013-12-31T00:00:00.000Z&dateTo=2022-11-29T23:59:59.999Z&frequency=Daily&compositeMethod=Asset&period=Daily&scope=returns&code=UK_EQUITY&entityType=Portfolio&returnsScope=returns&returnsCode=daily_return\"\n",
    "           \n",
    "print(url)    "
   ]
  }
 ],
 "metadata": {
  "celltoolbar": "Slideshow",
  "kernelspec": {
   "display_name": "Python 3",
   "language": "python",
   "name": "python3"
  },
  "language_info": {
   "codemirror_mode": {
    "name": "ipython",
    "version": 3
   },
   "file_extension": ".py",
   "mimetype": "text/x-python",
   "name": "python",
   "nbconvert_exporter": "python",
   "pygments_lexer": "ipython3",
   "version": "3.7.6"
  },
  "vscode": {
   "interpreter": {
    "hash": "1a1af0ee75eeea9e2e1ee996c87e7a2b11a0bebd85af04bb136d915cefc0abce"
   }
  }
 },
 "nbformat": 4,
 "nbformat_minor": 4
}
