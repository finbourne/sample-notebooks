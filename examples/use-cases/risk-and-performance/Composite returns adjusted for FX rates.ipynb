{
 "cells": [
  {
   "cell_type": "code",
   "execution_count": 1,
   "metadata": {},
   "outputs": [
    {
     "data": {
      "text/html": [
       "\n",
       "    <form action=\"javascript:code_toggle()\"><input type=\"submit\" id=\"toggleButton\" value=\"Toggle Docstring\"></form>\n",
       "    \n",
       "         <script>\n",
       "         function code_toggle() {\n",
       "             if ($('div.cell.code_cell.rendered.selected div.input').css('display')!='none'){\n",
       "                 $('div.cell.code_cell.rendered.selected div.input').hide();\n",
       "             } else {\n",
       "                 $('div.cell.code_cell.rendered.selected div.input').show();\n",
       "             }\n",
       "         }\n",
       "         </script>\n",
       "\n",
       "     "
      ],
      "text/plain": [
       "<IPython.core.display.HTML object>"
      ]
     },
     "metadata": {},
     "output_type": "display_data"
    }
   ],
   "source": [
    "from lusidtools.jupyter_tools import toggle_code\n",
    "\n",
    "\"\"\"Loading and caculating returns\n",
    "\n",
    "Demonstration of how to get aggregate returns adjusted by FX performance\n",
    "\n",
    "Attributes\n",
    "----------\n",
    "Returns\n",
    "Composite portfolios\n",
    "FX performance\n",
    "\"\"\"\n",
    "\n",
    "toggle_code(\"Toggle Docstring\")"
   ]
  },
  {
   "cell_type": "code",
   "execution_count": 2,
   "metadata": {},
   "outputs": [],
   "source": [
    "# %load_ext lab_black\n",
    "# %load_ext nb_black"
   ]
  },
  {
   "cell_type": "markdown",
   "metadata": {},
   "source": [
    "# 1. Loading and calculating composite returns in LUSID\n",
    "\n",
    "In this notebook we show how composite returns can be adjusted for FX rates where there is a difference in base currency between a composite and its child portfolios. For the purposes of this example we consider a USD composite which tracks a GBP portfolio only. We show that the GBP portfolio performs slightly better throughout Jan (due to FX rates) even though both portfolios have exposure to the exact same underlying assets."
   ]
  },
  {
   "cell_type": "markdown",
   "metadata": {},
   "source": [
    "# 2. Setup"
   ]
  },
  {
   "cell_type": "code",
   "execution_count": 3,
   "metadata": {},
   "outputs": [
    {
     "data": {
      "text/html": [
       "<div>\n",
       "<style scoped>\n",
       "    .dataframe tbody tr th:only-of-type {\n",
       "        vertical-align: middle;\n",
       "    }\n",
       "\n",
       "    .dataframe tbody tr th {\n",
       "        vertical-align: top;\n",
       "    }\n",
       "\n",
       "    .dataframe thead th {\n",
       "        text-align: right;\n",
       "    }\n",
       "</style>\n",
       "<table border=\"1\" class=\"dataframe\">\n",
       "  <thead>\n",
       "    <tr style=\"text-align: right;\">\n",
       "      <th></th>\n",
       "      <th>api_version</th>\n",
       "      <th>build_version</th>\n",
       "      <th>excel_version</th>\n",
       "      <th>links</th>\n",
       "    </tr>\n",
       "  </thead>\n",
       "  <tbody>\n",
       "    <tr>\n",
       "      <th>0</th>\n",
       "      <td>v0</td>\n",
       "      <td>0.6.7232.0</td>\n",
       "      <td>0.5.2200</td>\n",
       "      <td>{'relation': 'Re...</td>\n",
       "    </tr>\n",
       "  </tbody>\n",
       "</table>\n",
       "</div>"
      ],
      "text/plain": [
       "  api_version build_version excel_version                links\n",
       "0          v0    0.6.7232.0      0.5.2200  {'relation': 'Re..."
      ]
     },
     "metadata": {},
     "output_type": "display_data"
    }
   ],
   "source": [
    "# Import general purpose packages\n",
    "import os\n",
    "import json\n",
    "import pandas as pd\n",
    "import numpy as np\n",
    "import datetime\n",
    "import pytz\n",
    "import warnings\n",
    "\n",
    "warnings.filterwarnings(\"ignore\", module=\"matplotlib*\")\n",
    "\n",
    "import matplotlib.pyplot as plt\n",
    "\n",
    "from datetime import datetime, timedelta\n",
    "from pandas import json_normalize\n",
    "\n",
    "# Import lusid specific packages\n",
    "import lusid\n",
    "import lusid.models as models\n",
    "\n",
    "from lusid.utilities import ApiClientFactory\n",
    "from lusidjam.refreshing_token import RefreshingToken\n",
    "\n",
    "# Set display configuration\n",
    "pd.set_option(\"display.max_columns\", None)\n",
    "pd.set_option(\"display.float_format\", lambda x: \"%.5f\" % x)\n",
    "pd.set_option(\"display.max_rows\", 3500)\n",
    "pd.set_option(\"max_colwidth\", 20)\n",
    "\n",
    "# Use line magic function to enable matplotlib to work interactively with iPython\n",
    "%matplotlib inline\n",
    "\n",
    "# Set style to fivethirtyeight to create clean and clear looking graphs\n",
    "plt.style.use(\"fivethirtyeight\")\n",
    "\n",
    "# Define a dictionary containing default plotting configurations\n",
    "params = {\n",
    "    \"legend.fontsize\": \"small\",\n",
    "    \"figure.figsize\": (12, 4.5),\n",
    "    \"axes.labelsize\": \"small\",\n",
    "    \"axes.titlesize\": \"medium\",\n",
    "    \"xtick.labelsize\": \"small\",\n",
    "    \"ytick.labelsize\": \"small\",\n",
    "}\n",
    "\n",
    "plt.rcParams.update(params)\n",
    "\n",
    "# Authenticate our user and create our API client\n",
    "secrets_path = os.getenv(\"FBN_SECRETS_PATH\")\n",
    "\n",
    "# Initiate an API Factory which is the client side object for interacting with LUSID APIs\n",
    "api_factory = lusid.utilities.ApiClientFactory(\n",
    "    token=RefreshingToken(),\n",
    "    api_secrets_filename=secrets_path,\n",
    "    app_name=\"LusidJupyterNotebook\",\n",
    ")\n",
    "\n",
    "api_status = pd.DataFrame(\n",
    "    api_factory.build(lusid.api.ApplicationMetadataApi).get_lusid_versions().to_dict()\n",
    ")\n",
    "\n",
    "display(api_status)"
   ]
  },
  {
   "cell_type": "code",
   "execution_count": 4,
   "metadata": {},
   "outputs": [],
   "source": [
    "# Define a scope to hold data\n",
    "\n",
    "scope = \"CompositeDemo\""
   ]
  },
  {
   "cell_type": "code",
   "execution_count": 5,
   "metadata": {},
   "outputs": [],
   "source": [
    "# define the two portfolios\n",
    "\n",
    "portfolio_codes = [(\"ukEquity\", \"GBP\"), (\"composite\", \"USD\")]\n",
    "\n",
    "equity_portfolio, composite_portfolio = (\n",
    "    portfolio_codes[0][0],\n",
    "    portfolio_codes[1][0],\n",
    ")"
   ]
  },
  {
   "cell_type": "code",
   "execution_count": 6,
   "metadata": {},
   "outputs": [],
   "source": [
    "# Define the APIs we use\n",
    "\n",
    "transaction_portfolios_api = api_factory.build(lusid.api.TransactionPortfoliosApi)\n",
    "portfolios_api = api_factory.build(lusid.api.PortfoliosApi)\n",
    "relationship_definition_api = api_factory.build(lusid.api.RelationshipDefinitionsApi)\n",
    "relationships_api = api_factory.build(lusid.api.RelationshipsApi)\n",
    "quotes_api = api_factory.build(lusid.api.QuotesApi)\n",
    "configuration_recipe_api = api_factory.build(lusid.api.ConfigurationRecipeApi)"
   ]
  },
  {
   "cell_type": "markdown",
   "metadata": {},
   "source": [
    "# 3. Portfolio and relationships setup\n",
    "\n",
    "## 3.1 Create two portfolios\n",
    "\n",
    "1. A UK Equity Portfolio\n",
    "2. A Composite Portfolio"
   ]
  },
  {
   "cell_type": "code",
   "execution_count": 7,
   "metadata": {},
   "outputs": [],
   "source": [
    "for port, base_currency in portfolio_codes:\n",
    "\n",
    "    try:\n",
    "\n",
    "        response = transaction_portfolios_api.create_portfolio(\n",
    "            scope=scope,\n",
    "            create_transaction_portfolio_request=models.CreateTransactionPortfolioRequest(\n",
    "                display_name=port,\n",
    "                code=port,\n",
    "                created=\"2019-12-31\",\n",
    "                base_currency=base_currency,\n",
    "            ),\n",
    "        )\n",
    "    except lusid.ApiException as e:\n",
    "        print(json.loads(e.body)[\"title\"])"
   ]
  },
  {
   "cell_type": "markdown",
   "metadata": {},
   "source": [
    "## 3.2 Create a relationship definition\n",
    "\n",
    "Create a relationship to represent the composite"
   ]
  },
  {
   "cell_type": "code",
   "execution_count": 8,
   "metadata": {},
   "outputs": [],
   "source": [
    "relationship_scope = \"default\"\n",
    "relationship_code = \"CompositeMembership\""
   ]
  },
  {
   "cell_type": "code",
   "execution_count": 9,
   "metadata": {},
   "outputs": [
    {
     "name": "stdout",
     "output_type": "stream",
     "text": [
      "Relation definition with scope 'default' and code 'CompositeMembership' already exists\n"
     ]
    }
   ],
   "source": [
    "try:\n",
    "\n",
    "    relationship_definition_api.create_relationship_definition(\n",
    "        create_relationship_definition_request=models.CreateRelationshipDefinitionRequest(\n",
    "            scope=relationship_scope,\n",
    "            code=relationship_code,\n",
    "            source_entity_type=\"Portfolio\",\n",
    "            target_entity_type=\"Portfolio\",\n",
    "            display_name=\"Relationship for Composite Returns\",\n",
    "            outward_description=\"Relationship for Composite Returns\",\n",
    "            inward_description=\"Relationship for Composite Returns\",\n",
    "            life_time=\"TimeVariant\",\n",
    "        )\n",
    "    )\n",
    "\n",
    "except lusid.ApiException as e:\n",
    "    print(json.loads(e.body)[\"title\"])"
   ]
  },
  {
   "cell_type": "markdown",
   "metadata": {},
   "source": [
    "## 3.3 Create relationship between composite and two investment portfolios effective from 1 Dec 2019"
   ]
  },
  {
   "cell_type": "code",
   "execution_count": 10,
   "metadata": {},
   "outputs": [],
   "source": [
    "for portfolio in [equity_portfolio]:\n",
    "\n",
    "    relationships_api.create_relationship(\n",
    "        scope=relationship_scope,\n",
    "        code=relationship_code,\n",
    "        create_relationship_request=models.CreateRelationshipRequest(\n",
    "            source_entity_id={\"scope\": scope, \"code\": composite_portfolio},\n",
    "            target_entity_id={\"scope\": scope, \"code\": portfolio},\n",
    "            effective_from=\"2019-12-31\",\n",
    "        ),\n",
    "    )"
   ]
  },
  {
   "cell_type": "markdown",
   "metadata": {},
   "source": [
    "# 4. Load returns and FX data\n",
    "\n",
    "## 4.1 Load returns from CSV file into DataFrame"
   ]
  },
  {
   "cell_type": "code",
   "execution_count": 11,
   "metadata": {},
   "outputs": [],
   "source": [
    "returns_df = pd.read_csv(\n",
    "    \"data/multi-currency-returns/returns.csv\", dtype={\"daily_returns\": np.int64}\n",
    ")\n",
    "returns_df[\"date\"] = pd.to_datetime(returns_df[\"date\"], format=\"%d/%m/%Y\")\n",
    "returns_df = returns_df.rename(\n",
    "    columns={\"mv\": \"market_value\", \"returns\": \"daily_returns\"}\n",
    ")"
   ]
  },
  {
   "cell_type": "markdown",
   "metadata": {},
   "source": [
    "## 4.2 Load returns from DataFrame into LUSID"
   ]
  },
  {
   "cell_type": "code",
   "execution_count": 12,
   "metadata": {},
   "outputs": [],
   "source": [
    "from_effective_at = \"2020-01-01\"\n",
    "to_effective_at = \"2020-01-31\"\n",
    "return_code = \"daily_return\"\n",
    "list_of_porfolios = [equity_portfolio, composite_portfolio]\n",
    "recipe_code=\"FxRates\"\n",
    "returns_df[\"portfolio\"] = equity_portfolio"
   ]
  },
  {
   "cell_type": "code",
   "execution_count": 13,
   "metadata": {},
   "outputs": [
    {
     "data": {
      "text/html": [
       "<div>\n",
       "<style scoped>\n",
       "    .dataframe tbody tr th:only-of-type {\n",
       "        vertical-align: middle;\n",
       "    }\n",
       "\n",
       "    .dataframe tbody tr th {\n",
       "        vertical-align: top;\n",
       "    }\n",
       "\n",
       "    .dataframe thead th {\n",
       "        text-align: right;\n",
       "    }\n",
       "</style>\n",
       "<table border=\"1\" class=\"dataframe\">\n",
       "  <thead>\n",
       "    <tr style=\"text-align: right;\">\n",
       "      <th></th>\n",
       "      <th>portfolio</th>\n",
       "      <th>date</th>\n",
       "      <th>market_value</th>\n",
       "      <th>daily_returns</th>\n",
       "    </tr>\n",
       "  </thead>\n",
       "  <tbody>\n",
       "    <tr>\n",
       "      <th>0</th>\n",
       "      <td>ukEquity</td>\n",
       "      <td>2020-01-01</td>\n",
       "      <td>1000000</td>\n",
       "      <td>-0.00907</td>\n",
       "    </tr>\n",
       "    <tr>\n",
       "      <th>1</th>\n",
       "      <td>ukEquity</td>\n",
       "      <td>2020-01-02</td>\n",
       "      <td>1006028</td>\n",
       "      <td>0.00603</td>\n",
       "    </tr>\n",
       "    <tr>\n",
       "      <th>2</th>\n",
       "      <td>ukEquity</td>\n",
       "      <td>2020-01-03</td>\n",
       "      <td>1002436</td>\n",
       "      <td>-0.00357</td>\n",
       "    </tr>\n",
       "    <tr>\n",
       "      <th>3</th>\n",
       "      <td>ukEquity</td>\n",
       "      <td>2020-01-06</td>\n",
       "      <td>1010355</td>\n",
       "      <td>0.00790</td>\n",
       "    </tr>\n",
       "    <tr>\n",
       "      <th>4</th>\n",
       "      <td>ukEquity</td>\n",
       "      <td>2020-01-07</td>\n",
       "      <td>1013281</td>\n",
       "      <td>0.00290</td>\n",
       "    </tr>\n",
       "  </tbody>\n",
       "</table>\n",
       "</div>"
      ],
      "text/plain": [
       "  portfolio       date  market_value  daily_returns\n",
       "0  ukEquity 2020-01-01       1000000       -0.00907\n",
       "1  ukEquity 2020-01-02       1006028        0.00603\n",
       "2  ukEquity 2020-01-03       1002436       -0.00357\n",
       "3  ukEquity 2020-01-06       1010355        0.00790\n",
       "4  ukEquity 2020-01-07       1013281        0.00290"
      ]
     },
     "execution_count": 13,
     "metadata": {},
     "output_type": "execute_result"
    }
   ],
   "source": [
    "returns_df.head(5)"
   ]
  },
  {
   "cell_type": "code",
   "execution_count": 14,
   "metadata": {},
   "outputs": [],
   "source": [
    "for portfolio, df in [(equity_portfolio, returns_df)]:\n",
    "\n",
    "    time_series_of_returns = [\n",
    "        models.PerformanceReturn(\n",
    "            effective_at=row[\"date\"].isoformat()[:10],\n",
    "            rate_of_return=row[\"daily_returns\"],\n",
    "            opening_market_value=row[\"market_value\"],\n",
    "            period=\"Daily\",\n",
    "        )\n",
    "        for _, row in df.iterrows()\n",
    "    ]\n",
    "\n",
    "    upsert_returns = portfolios_api.upsert_portfolio_returns(\n",
    "        scope=scope,\n",
    "        code=portfolio,\n",
    "        return_code=return_code,\n",
    "        return_scope=scope,\n",
    "        performance_return=time_series_of_returns,\n",
    "    )"
   ]
  },
  {
   "cell_type": "markdown",
   "metadata": {},
   "source": [
    "## 4.3 Upload FX rates"
   ]
  },
  {
   "cell_type": "code",
   "execution_count": 15,
   "metadata": {},
   "outputs": [],
   "source": [
    "fx_df = pd.read_csv(\"data/multi-currency-returns/fx-rates.csv\")\n",
    "fx_df[\"date\"] = pd.to_datetime(fx_df[\"date\"], format=\"%d/%m/%Y\")\n",
    "\n",
    "\n",
    "fx_rates = {\n",
    "    f\"upsert_request_{row['date']}\": models.UpsertQuoteRequest(\n",
    "        quote_id=models.QuoteId(\n",
    "            quote_series_id=models.QuoteSeriesId(\n",
    "                provider=\"Lusid\",\n",
    "                instrument_id=\"GBP/USD\",\n",
    "                instrument_id_type=\"CurrencyPair\",\n",
    "                quote_type=\"Price\",\n",
    "                field=\"mid\",\n",
    "            ),\n",
    "            effective_at=row[\"date\"].isoformat()[:10] + \"T18:00:00Z\",\n",
    "        ),\n",
    "        metric_value=models.MetricValue(value=row[\"gbp_usd_fx\"], unit=\"USD\"),\n",
    "    )\n",
    "    for _, row in fx_df.iterrows()\n",
    "}\n",
    "\n",
    "\n",
    "# Upsert the quotes into LUSID\n",
    "response = quotes_api.upsert_quotes(scope=scope, request_body=fx_rates)"
   ]
  },
  {
   "cell_type": "markdown",
   "metadata": {},
   "source": [
    "## 4.4 Create recipe for FX rates"
   ]
  },
  {
   "cell_type": "code",
   "execution_count": 16,
   "metadata": {},
   "outputs": [
    {
     "name": "stdout",
     "output_type": "stream",
     "text": [
      "Uploaded recipe: FxRates\n"
     ]
    }
   ],
   "source": [
    "# Create a recipe to perform a valuation\n",
    "\n",
    "recipes = [(recipe_code, scope)]\n",
    "\n",
    "for recipe_code, data_scope in recipes:\n",
    "\n",
    "    configuration_recipe = models.ConfigurationRecipe(\n",
    "        scope=scope,\n",
    "        code=recipe_code,\n",
    "        market=models.MarketContext(\n",
    "            market_rules=[\n",
    "                models.MarketDataKeyRule(\n",
    "                    key=\"FX.CurrencyPair.*\",\n",
    "                    supplier=\"Lusid\",\n",
    "                    data_scope=data_scope,\n",
    "                    quote_type=\"Price\",\n",
    "                    field=\"mid\",\n",
    "                ),\n",
    "            ],\n",
    "            suppliers=models.MarketContextSuppliers(\n",
    "                commodity=\"Lusid\",\n",
    "                credit=\"Lusid\",\n",
    "                equity=\"Lusid\",\n",
    "                fx=\"Lusid\",\n",
    "                rates=\"Lusid\",\n",
    "            ),\n",
    "            options=models.MarketOptions(\n",
    "                default_supplier=\"Lusid\",\n",
    "                default_instrument_code_type=\"Isin\",\n",
    "                default_scope=scope,\n",
    "                attempt_to_infer_missing_fx=True,\n",
    "            ),\n",
    "        ),\n",
    "        pricing=models.PricingContext(\n",
    "            model_rules=[],\n",
    "            options=models.PricingOptions(\n",
    "                model_selection=None,\n",
    "                use_instrument_type_to_determine_pricer=None,\n",
    "                allow_any_instruments_with_sec_uid_to_price_off_lookup=True,\n",
    "                allow_partially_successful_evaluation=None,\n",
    "                produce_separate_result_for_linear_otc_legs=None,\n",
    "                enable_use_of_cached_unit_results=None,\n",
    "                window_valuation_on_instrument_start_end=None,\n",
    "                remove_contingent_cashflows_in_payment_diary=None,\n",
    "                use_child_sub_holding_keys_for_portfolio_expansion=None,\n",
    "            ),\n",
    "        ),\n",
    "    )\n",
    "\n",
    "    upsert_configuration_recipe_response = configuration_recipe_api.upsert_configuration_recipe(\n",
    "        upsert_recipe_request=models.UpsertRecipeRequest(\n",
    "            configuration_recipe=configuration_recipe\n",
    "        )\n",
    "    )\n",
    "\n",
    "    print(f\"Uploaded recipe: {recipe_code}\")"
   ]
  },
  {
   "cell_type": "markdown",
   "metadata": {},
   "source": [
    "# 5. Get returns out of LUSID\n",
    "\n",
    "# 5.1 Call a table of returns data for our two portfolios "
   ]
  },
  {
   "cell_type": "code",
   "execution_count": 17,
   "metadata": {},
   "outputs": [],
   "source": [
    "since = \"2020-01-01\""
   ]
  },
  {
   "cell_type": "code",
   "execution_count": 18,
   "metadata": {},
   "outputs": [],
   "source": [
    "def get_returns_since_inc(portfolio_code):\n",
    "\n",
    "    returns = portfolios_api.get_portfolio_aggregate_returns(\n",
    "        scope=scope,\n",
    "        code=portfolio_code,\n",
    "        return_scope=scope,\n",
    "        return_code=return_code,\n",
    "        recipe_id_code=\"FxRates\",\n",
    "        recipe_id_scope=scope,\n",
    "        from_effective_at=from_effective_at,\n",
    "        to_effective_at=to_effective_at,\n",
    "        period=\"Daily\",\n",
    "        output_frequency=\"Daily\",\n",
    "        metrics=[f\"SINCE({since})\",],\n",
    "    )\n",
    "\n",
    "    return returns"
   ]
  },
  {
   "cell_type": "code",
   "execution_count": 19,
   "metadata": {},
   "outputs": [],
   "source": [
    "all_summary_df = pd.DataFrame(\n",
    "    columns=[\"effective_at\", f\"metrics_value.SINCE({since})\"]\n",
    ")\n",
    "\n",
    "\n",
    "for portfolio in list_of_porfolios:\n",
    "\n",
    "    portfolio_summary_df = pd.DataFrame(\n",
    "        columns=[\"effective_at\", f\"metrics_value.SINCE({since})\"]\n",
    "    )\n",
    "\n",
    "    returns = get_returns_since_inc(portfolio)\n",
    "\n",
    "    for item in returns.values:\n",
    "\n",
    "        normalize_json = json_normalize(item.to_dict())\n",
    "        normalize_json = normalize_json.set_index(\"effective_at\").copy()\n",
    "        portfolio_summary_df = portfolio_summary_df.append(normalize_json)\n",
    "\n",
    "    all_summary_df = all_summary_df.join(\n",
    "        portfolio_summary_df, rsuffix=f\"{portfolio}\", on=\"effective_at\", how=\"outer\"\n",
    "    )"
   ]
  },
  {
   "cell_type": "code",
   "execution_count": 20,
   "metadata": {},
   "outputs": [],
   "source": [
    "summary_columns = {\n",
    "    f\"metrics_value.SINCE({since})ukEquity\": \"ukEquity_GBP\",\n",
    "    f\"metrics_value.SINCE({since})composite\": \"composite_USD\",\n",
    "}"
   ]
  },
  {
   "cell_type": "code",
   "execution_count": 21,
   "metadata": {},
   "outputs": [],
   "source": [
    "all_summary_df = (\n",
    "    all_summary_df[list(summary_columns.keys())].rename(columns=summary_columns).copy()\n",
    ")"
   ]
  },
  {
   "cell_type": "code",
   "execution_count": 22,
   "metadata": {},
   "outputs": [
    {
     "data": {
      "text/html": [
       "<div>\n",
       "<style scoped>\n",
       "    .dataframe tbody tr th:only-of-type {\n",
       "        vertical-align: middle;\n",
       "    }\n",
       "\n",
       "    .dataframe tbody tr th {\n",
       "        vertical-align: top;\n",
       "    }\n",
       "\n",
       "    .dataframe thead th {\n",
       "        text-align: right;\n",
       "    }\n",
       "</style>\n",
       "<table border=\"1\" class=\"dataframe\">\n",
       "  <thead>\n",
       "    <tr style=\"text-align: right;\">\n",
       "      <th></th>\n",
       "      <th>ukEquity_GBP</th>\n",
       "      <th>composite_USD</th>\n",
       "    </tr>\n",
       "  </thead>\n",
       "  <tbody>\n",
       "    <tr>\n",
       "      <th>2020-01-01 00:00:00+00:00</th>\n",
       "      <td>0.00000</td>\n",
       "      <td>0.00000</td>\n",
       "    </tr>\n",
       "    <tr>\n",
       "      <th>2020-01-02 00:00:00+00:00</th>\n",
       "      <td>0.00603</td>\n",
       "      <td>0.01745</td>\n",
       "    </tr>\n",
       "    <tr>\n",
       "      <th>2020-01-03 00:00:00+00:00</th>\n",
       "      <td>0.00244</td>\n",
       "      <td>0.01288</td>\n",
       "    </tr>\n",
       "    <tr>\n",
       "      <th>2020-01-06 00:00:00+00:00</th>\n",
       "      <td>0.01035</td>\n",
       "      <td>0.01336</td>\n",
       "    </tr>\n",
       "    <tr>\n",
       "      <th>2020-01-07 00:00:00+00:00</th>\n",
       "      <td>0.01328</td>\n",
       "      <td>0.01069</td>\n",
       "    </tr>\n",
       "  </tbody>\n",
       "</table>\n",
       "</div>"
      ],
      "text/plain": [
       "                      ukEquity_GBP  composite_USD\n",
       "2020-01-01 00:00:...       0.00000        0.00000\n",
       "2020-01-02 00:00:...       0.00603        0.01745\n",
       "2020-01-03 00:00:...       0.00244        0.01288\n",
       "2020-01-06 00:00:...       0.01035        0.01336\n",
       "2020-01-07 00:00:...       0.01328        0.01069"
      ]
     },
     "execution_count": 22,
     "metadata": {},
     "output_type": "execute_result"
    }
   ],
   "source": [
    "all_summary_df.head(5)"
   ]
  },
  {
   "cell_type": "markdown",
   "metadata": {},
   "source": [
    "## 5.2 Plot the results"
   ]
  },
  {
   "cell_type": "code",
   "execution_count": 23,
   "metadata": {},
   "outputs": [],
   "source": [
    "def time_series_performance():\n",
    "    ts_performance = all_summary_df.plot(\n",
    "        y=[\"ukEquity_GBP\", \"composite_USD\"], figsize=(12, 9)\n",
    "    )\n",
    "    ts_performance.set_title(\n",
    "        f\"Performance since 2020-01-01\", fontsize=\"large\",\n",
    "    )\n",
    "    ts_performance.set_ylabel(\"Performance in %\", fontsize=\"large\")\n",
    "    ts_performance.set_xlabel(\"Days\", fontsize=\"large\")\n",
    "    ts_performance.legend(prop={\"size\": 12})"
   ]
  },
  {
   "cell_type": "code",
   "execution_count": 24,
   "metadata": {},
   "outputs": [
    {
     "data": {
      "image/png": "[encoded data removed]",
      "text/plain": [
       "<Figure size 864x648 with 1 Axes>"
      ]
     },
     "metadata": {},
     "output_type": "display_data"
    }
   ],
   "source": [
    "time_series_performance()"
   ]
  },
  {
   "cell_type": "markdown",
   "metadata": {},
   "source": [
    "CLEAN UP - Delete Portfolios"
   ]
  },
  {
   "cell_type": "code",
   "execution_count": 25,
   "metadata": {},
   "outputs": [],
   "source": [
    "for port in portfolio_codes:\n",
    "\n",
    "    try:\n",
    "\n",
    "        response = portfolios_api.delete_portfolio(scope=scope, code=port[0])\n",
    "    except lusid.ApiException as e:\n",
    "        print(json.loads(e.body)[\"title\"])"
   ]
  }
 ],
 "metadata": {
  "kernelspec": {
   "display_name": "Python 3",
   "language": "python",
   "name": "python3"
  },
  "language_info": {
   "codemirror_mode": {
    "name": "ipython",
    "version": 3
   },
   "file_extension": ".py",
   "mimetype": "text/x-python",
   "name": "python",
   "nbconvert_exporter": "python",
   "pygments_lexer": "ipython3",
   "version": "3.8.5"
  }
 },
 "nbformat": 4,
 "nbformat_minor": 4
}
