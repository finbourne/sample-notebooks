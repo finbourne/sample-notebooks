{
 "cells": [
  {
   "cell_type": "code",
   "execution_count": null,
   "id": "61f113e0-ba28-400b-9ed8-216883e8df87",
   "metadata": {},
   "outputs": [],
   "source": [
    "from lusidtools.jupyter_tools import toggle_code\n",
    "\n",
    "\"\"\"Amortisation RuleSet\n",
    "\n",
    "Attributes\n",
    "----------\n",
    "Instruments\n",
    "Transactions\n",
    "Amortisation RuleSets\n",
    "AmortisationRules\n",
    "Recipe\n",
    "Valuation\n",
    "\"\"\"\n",
    "\n",
    "toggle_code(\"Toggle Docstring\")"
   ]
  },
  {
   "cell_type": "markdown",
   "id": "0d686878-b96e-4112-9528-974ce3ff08b3",
   "metadata": {},
   "source": [
    "# Amortisation Rule Sets\n",
    "\n",
    "This example demonstrates how to create, update, and delete Amortisation Rule Sets and Rules, and how changes to the amortisation rules affect the amortisation valuation.\n",
    "\n",
    "We will create bond instruments, add properties to a specific instrument, create an amortisation ruleset, set up a portfolio, add properties to the portfolio, and configure the amortisation rules.\n",
    "\n",
    "Further we will upsert similar transactions to the respective bond instruments to demonstrate the effects of the amortisation rules through comparison. \n",
    "\n",
    "We will then create a simple recipe for valuation, including the valuation function.\n",
    "\n",
    "Once Done, we will then demostrate how updating the amortisation rules impacts the valuation."
   ]
  },
  {
   "cell_type": "markdown",
   "id": "3581f291-8ca2-4ef9-9cd6-03f44385abd2",
   "metadata": {},
   "source": [
    "## Table of Contents:\n",
    "- 1. [Imports](#1.-Imports)\n",
    "- 2. [LUSID APIs](#2.-LUSID-APIs)\n",
    "- 3. [Instrument Creation](#3.-Instrument-Creation)\n",
    "- 4. [Amortisation RuleSet Creation](#4.-Amortisation-RuleSet-Creation)\n",
    "- 5. [Portfolio Creation](#5.-Portfolio-Creation)\n",
    "- 6. [Setting Amortisation Rule](#6.-Setting-Amortisation-Rule)\n",
    "- 7. [Upsert Transactions](#7.-Upsert-Transactions)\n",
    "- 8. [Recipe Creation](#8.-Recipe-Creation)\n",
    "- 9. [Valuation](#9.-Valuation)\n",
    "- 10. [Data Cleaning](#9.-Data-Cleaning)"
   ]
  },
  {
   "cell_type": "markdown",
   "id": "1ace0ed9-9c99-4db4-937e-2cfc6a80aabc",
   "metadata": {},
   "source": [
    "# 1. Imports"
   ]
  },
  {
   "cell_type": "code",
   "execution_count": null,
   "id": "60ee9804-9071-46f9-907d-3d9c19855b4b",
   "metadata": {},
   "outputs": [],
   "source": [
    "# Import necessary libraries\n",
    "import lusid\n",
    "import finbourne_access\n",
    "import lusid.models as models\n",
    "import openpyxl\n",
    "import subprocess\n",
    "from lusidtools.cocoon.cocoon import load_from_data_frame\n",
    "from lusidtools.cocoon.cocoon_printer import (\n",
    "    format_instruments_response,\n",
    "    format_portfolios_response,\n",
    "    format_transactions_response,\n",
    "    format_quotes_response,\n",
    ")\n",
    "from lusidtools.pandas_utils.lusid_pandas import lusid_response_to_data_frame\n",
    "from lusidjam import RefreshingToken\n",
    "from fbnsdkutilities import ApiClientFactory\n",
    "from finbourne_access.utilities import ApiClientFactory as AccessApiClientFactory\n",
    "from finbourne_access import models as AccessModels\n",
    "import os\n",
    "import json\n",
    "from IPython.display import Image\n",
    "import pandas as pd\n",
    "import pytz\n",
    "from datetime import datetime\n",
    "from lusidtools.lpt.lpt import to_date\n",
    "pd.set_option(\"display.max_columns\", None)\n",
    "\n",
    "# Authenticate our user and create our API client\n",
    "secrets_path = os.getenv(\"FBN_SECRETS_PATH\")\n",
    "\n",
    "lusid_api_factory = lusid.utilities.ApiClientFactory(\n",
    "    token=RefreshingToken(),\n",
    "    api_secrets_filename=secrets_path,\n",
    "    app_name=\"LusidJupyterNotebook\",\n",
    ")\n",
    "\n",
    "api_client = lusid_api_factory.api_client\n",
    "\n",
    "lusid_api_url = api_client.configuration.host\n",
    "access_api_url = lusid_api_url[: lusid_api_url.rfind(\"/\") + 1] + \"access\"\n",
    "identity_api_url = lusid_api_url[: lusid_api_url.rfind(\"/\") + 1] + \"identity\"\n",
    "\n",
    "access_api_factory = finbourne_access.utilities.ApiClientFactory(\n",
    "    token=api_client.configuration.access_token,\n",
    "    access_url=access_api_url,\n",
    "    app_name=\"LusidJupyterNotebook\",\n",
    ")\n",
    "api_factory = ApiClientFactory(lusid, token=RefreshingToken())"
   ]
  },
  {
   "cell_type": "markdown",
   "id": "2b1c49bb-a0b7-413e-8153-2c495e00aa4a",
   "metadata": {},
   "source": [
    "# 2. LUSID APIs\n",
    "Firstly, we initialize the LUSID APIs required for the notebook"
   ]
  },
  {
   "cell_type": "code",
   "execution_count": null,
   "id": "25c79a41-31bc-403a-a69b-d33672a8726f",
   "metadata": {},
   "outputs": [],
   "source": [
    "# Initiate the LUSID APIs required for the notebook\n",
    "\n",
    "instruments_api = api_factory.build(lusid.api.InstrumentsApi)\n",
    "amortisation_api = api_factory.build(lusid.api.AmortisationRuleSetsApi)\n",
    "transaction_portfolio_api = api_factory.build(lusid.api.TransactionPortfoliosApi)\n",
    "portfolio_api = api_factory.build(lusid.api.PortfoliosApi)\n",
    "configuration_recipe_api = api_factory.build(lusid.api.ConfigurationRecipeApi)\n",
    "aggregation_api = api_factory.build(lusid.AggregationApi)\n",
    "property_api = api_factory.build(lusid.PropertyDefinitionsApi)"
   ]
  },
  {
   "cell_type": "markdown",
   "id": "1d68849e-cee3-483d-8c9b-c68a44df2888",
   "metadata": {},
   "source": [
    "# 3. Instrument Creation\n",
    "We will create the relevant bond instruments"
   ]
  },
  {
   "cell_type": "code",
   "execution_count": null,
   "id": "74300dd0-961b-434a-be5b-6e8f88f04b0a",
   "metadata": {},
   "outputs": [],
   "source": [
    "#Setting Scope and Code to be used throughout the notebook\n",
    "\n",
    "scope = \"valuation-sample\"\n",
    "portfolio_code = \"EQUITY_UK_1\""
   ]
  },
  {
   "cell_type": "code",
   "execution_count": null,
   "id": "02dcb40b-9f46-48e7-b97e-7d876d1ce836",
   "metadata": {},
   "outputs": [],
   "source": [
    "#Defining function for bond instrument creation\n",
    "\n",
    "def create_bond(currency,payment_frequency,roll_convention,day_count_convention,payment_calendars,reset_calendars,settle_days,reset_days,start_date,maturity_date,dom_ccy,\n",
    "                principal,coupon_rate,bond_identifier,bond_name):\n",
    "\n",
    "    flow_conventions = lusid.FlowConventions(\n",
    "        currency=currency,\n",
    "        payment_frequency=payment_frequency,\n",
    "        roll_convention=roll_convention,\n",
    "        day_count_convention=day_count_convention,\n",
    "        payment_calendars=payment_calendars,\n",
    "        reset_calendars=reset_calendars,\n",
    "        settle_days=settle_days,\n",
    "        reset_days=reset_days,\n",
    "    )\n",
    "\n",
    "    bond = lusid.Bond(\n",
    "        start_date=start_date,\n",
    "        maturity_date=maturity_date,\n",
    "        dom_ccy=dom_ccy,\n",
    "        principal=principal,\n",
    "        coupon_rate=coupon_rate,\n",
    "        flow_conventions=flow_conventions,\n",
    "        identifiers={},\n",
    "        instrument_type=\"Bond\",\n",
    "        calculation_type=\"Standard\",\n",
    "    )\n",
    "\n",
    "    # define the instrument to be upserted\n",
    "    bond_definition = lusid.InstrumentDefinition(\n",
    "        name=bond_name,\n",
    "        identifiers={\"ClientInternal\": lusid.InstrumentIdValue(bond_identifier)},\n",
    "        definition=bond,\n",
    "    )\n",
    "\n",
    "    # upsert the instrument\n",
    "    upsert_request = {bond_identifier: bond_definition}\n",
    "    upsert_response = instruments_api.upsert_instruments(request_body=upsert_request)\n",
    "    bond_luid = upsert_response.values[bond_identifier].lusid_instrument_id\n",
    "    return(bond_luid)"
   ]
  },
  {
   "cell_type": "code",
   "execution_count": null,
   "id": "bd48d82d-ce0f-490f-b0ac-143e9712f8b5",
   "metadata": {},
   "outputs": [],
   "source": [
    "#Creating first Bond Instrument\n",
    "\n",
    "currency = \"GBP\"\n",
    "payment_frequency = \"1M\"\n",
    "roll_convention = \"none\"\n",
    "day_count_convention = \"Actual365\"\n",
    "payment_calendars = []\n",
    "reset_calendars = []\n",
    "settle_days = 0\n",
    "reset_days = 0\n",
    "start_date = datetime(2024, 1, 15, 0, 0, tzinfo=pytz.utc).isoformat()\n",
    "maturity_date = datetime(2024, 8, 15, 0, 0, tzinfo=pytz.utc).isoformat()\n",
    "dom_ccy = \"GBP\"\n",
    "principal = 10487\n",
    "coupon_rate = 0.07\n",
    "bond_identifier = \"Example_Bond_A\"\n",
    "bond_name = \"ExampleBond_A\"\n",
    "\n",
    "luid = create_bond(currency, payment_frequency, roll_convention, day_count_convention, payment_calendars, reset_calendars, settle_days, reset_days, start_date, maturity_date, dom_ccy, \n",
    "                   principal, coupon_rate, bond_identifier, bond_name)\n",
    "\n",
    "luid"
   ]
  },
  {
   "cell_type": "code",
   "execution_count": null,
   "id": "c0267add-3535-4eb6-a7c2-a57976952b5d",
   "metadata": {},
   "outputs": [],
   "source": [
    "#Creating second Bond Instrument\n",
    "\n",
    "currency = \"GBP\"\n",
    "payment_frequency = \"1M\"\n",
    "roll_convention = \"none\"\n",
    "day_count_convention = \"Actual365\"\n",
    "payment_calendars = []\n",
    "reset_calendars = []\n",
    "settle_days = 0\n",
    "reset_days = 0\n",
    "start_date = datetime(2024, 1, 15, 0, 0, tzinfo=pytz.utc).isoformat()\n",
    "maturity_date = datetime(2024, 8, 15, 0, 0, tzinfo=pytz.utc).isoformat()\n",
    "dom_ccy = \"GBP\"\n",
    "principal = 10487\n",
    "coupon_rate = 0.07\n",
    "bond_identifier = \"Example_Bond_B\"\n",
    "bond_name = \"ExampleBond_B\"\n",
    "\n",
    "luid_1=create_bond(currency, payment_frequency, roll_convention, day_count_convention, payment_calendars, reset_calendars, settle_days, reset_days, start_date, maturity_date, dom_ccy,\n",
    "    principal, coupon_rate, bond_identifier, bond_name)\n",
    "\n",
    "luid_1"
   ]
  },
  {
   "cell_type": "markdown",
   "id": "11bab45e-eb3e-469e-af35-747e83f53201",
   "metadata": {},
   "source": [
    "# 3.1 Instrument Property\n",
    "We will create and upsert instrument property for the first instrument so that it can be used when defining amortisation rules\n",
    "\n",
    "We will do so only for one instrument so that impact of amortisation rules on instruments can be compared based on instrument properties"
   ]
  },
  {
   "cell_type": "code",
   "execution_count": null,
   "id": "bdda65d2-d9f2-4e78-8b39-683e394a94a2",
   "metadata": {},
   "outputs": [],
   "source": [
    "#Creating Instrument Property\n",
    "try:\n",
    "    instrument_prop = property_api.create_property_definition(\n",
    "        create_property_definition_request=lusid.CreatePropertyDefinitionRequest(\n",
    "            domain = \"Instrument\",\n",
    "            scope = scope,\n",
    "            code = portfolio_code,\n",
    "            data_type_id= lusid.ResourceId(\n",
    "                scope = \"system\",\n",
    "                code = \"string\",\n",
    "            ),\n",
    "            life_time= \"Perpetual\",\n",
    "            constraint_style = \"Property\",\n",
    "            display_name = \"Bond_Prop_1\",\n",
    "            property_description = \"Example Bond Property\",\n",
    "        )\n",
    "        \n",
    "    )\n",
    "    print(\"Instrument Property Created\")\n",
    "except lusid.ApiException as e:\n",
    "    print(json.loads(e.body)[\"title\"])"
   ]
  },
  {
   "cell_type": "code",
   "execution_count": null,
   "id": "286fb7e7-c6d2-4963-86af-dd89df53b68b",
   "metadata": {},
   "outputs": [],
   "source": [
    "#Upserting property to first Bond Instrument\n",
    "try:\n",
    "    upsert_instrument_prop = instruments_api.upsert_instruments_properties(\n",
    "        upsert_instrument_property_request=[\n",
    "            lusid.UpsertInstrumentPropertyRequest(\n",
    "                identifier_type=\"LusidInstrumentId\",\n",
    "                identifier=luid,\n",
    "                properties=[\n",
    "                    lusid.ModelProperty(\n",
    "                        key=\"Instrument/valuation-sample/EQUITY_UK_1\",\n",
    "                        value=lusid.PropertyValue(\n",
    "                            label_value='alpha1'\n",
    "                        )\n",
    "                    )\n",
    "                ]\n",
    "            )\n",
    "        ]\n",
    "    )\n",
    "    print(\"Instrument Property Upserted\")\n",
    "except lusid.ApiException as e:\n",
    "    print(json.loads(e.body)[\"title\"])"
   ]
  },
  {
   "cell_type": "markdown",
   "id": "c3ed4107-5074-4731-9e05-105ece1e1070",
   "metadata": {},
   "source": [
    "# 4. Amortisation RuleSet Creation\n",
    "We will create the relevant Amortisation Rule Set"
   ]
  },
  {
   "cell_type": "code",
   "execution_count": null,
   "id": "78b84358-17fc-43f8-9479-729ed2193348",
   "metadata": {
    "scrolled": true
   },
   "outputs": [],
   "source": [
    "#Creating Amortisation Ruleset\n",
    "try:\n",
    "    create_amt = amortisation_api.create_amortisation_rule_set(\n",
    "        scope= scope,\n",
    "        create_amortisation_rule_set_request=models.CreateAmortisationRuleSetRequest(\n",
    "            code=portfolio_code,\n",
    "            display_name='Example_Amortisation_Rule',\n",
    "            description='This is an example run'\n",
    "        )\n",
    "    )\n",
    "    print(\"Amortisation RuleSet Created\")\n",
    "except lusid.ApiException as e:\n",
    "    print(json.loads(e.body)[\"title\"])"
   ]
  },
  {
   "cell_type": "markdown",
   "id": "84a6b0bf-8a3d-420f-8133-64e608b4c2f0",
   "metadata": {},
   "source": [
    "# 5. Portfolio Creation\n",
    "We proceed by creating a basic transaction portfolio"
   ]
  },
  {
   "cell_type": "code",
   "execution_count": null,
   "id": "12bdbe41-a719-4abc-b980-af6ac9b27650",
   "metadata": {},
   "outputs": [],
   "source": [
    "# Creating a Transaction Portfolio\n",
    "\n",
    "try:\n",
    "    create_portfolio_response = transaction_portfolio_api.create_portfolio(\n",
    "        scope=scope,\n",
    "        create_transaction_portfolio_request=models.CreateTransactionPortfolioRequest(\n",
    "            display_name=\"RuleSet_Portfolio\",\n",
    "            code=portfolio_code,\n",
    "            base_currency=\"GBP\",\n",
    "            created=datetime(2024, 1, 1, 0, 0, tzinfo=pytz.utc).isoformat(),\n",
    "            sub_holding_keys=[],\n",
    "            amortisation_method='NoAmortisation',\n",
    "            amortisation_rule_set_id={\n",
    "                \"scope\": scope,\n",
    "                \"code\": portfolio_code\n",
    "            }\n",
    "\n",
    "        ),\n",
    "    )\n",
    "\n",
    "    print(\"Portfolio Created\")\n",
    "\n",
    "except lusid.ApiException as e:\n",
    "    print(json.loads(e.body)[\"title\"])\n"
   ]
  },
  {
   "cell_type": "markdown",
   "id": "5ea98c2c-7be2-4912-87bc-7735482d1f64",
   "metadata": {},
   "source": [
    "# 5.1 Portfolio Property\n",
    "We will create and upsert portfolio property for the relevant portfolio"
   ]
  },
  {
   "cell_type": "code",
   "execution_count": null,
   "id": "18e40c13-2639-4ace-abfa-38f32c75d683",
   "metadata": {},
   "outputs": [],
   "source": [
    "#Creating Portfolio Property\n",
    "try:\n",
    "    property_creation = property_api.create_property_definition(\n",
    "        create_property_definition_request=lusid.CreatePropertyDefinitionRequest(\n",
    "            domain = \"Portfolio\",\n",
    "            scope = scope,\n",
    "            code = portfolio_code,\n",
    "            data_type_id= lusid.ResourceId(\n",
    "                scope = \"system\",\n",
    "                code = \"string\",\n",
    "            ),\n",
    "            life_time= \"Perpetual\",\n",
    "            constraint_style = \"Property\",\n",
    "            display_name = \"Portfolio_property\",\n",
    "            property_description = \"Example amortisation rule Property\",\n",
    "        )\n",
    "        \n",
    "    )\n",
    "    print('Portfolio Property Created')\n",
    "except lusid.ApiException as e:\n",
    "    print(json.loads(e.body)[\"title\"])"
   ]
  },
  {
   "cell_type": "code",
   "execution_count": null,
   "id": "5ebf29d2-a432-4bcd-9dce-7c23dadbcaf7",
   "metadata": {
    "scrolled": true
   },
   "outputs": [],
   "source": [
    "#Upserting property to Portfolio\n",
    "try:\n",
    "    upsert_port= portfolio_api.upsert_portfolio_properties(\n",
    "        scope= scope,\n",
    "        code= portfolio_code,\n",
    "        request_body={\n",
    "            \"Portfolio/valuation-sample/EQUITY_UK_1\": {\n",
    "                \n",
    "                \"key\": \"Portfolio/valuation-sample/EQUITY_UK_1\",\n",
    "                \"value\": {\n",
    "                    \"labelValue\": \"alpha1\"\n",
    "                },\n",
    "        },\n",
    "        }\n",
    "        \n",
    "    )  \n",
    "    print(\"Portfolio Property Upserted\")\n",
    "except lusid.ApiException as e:\n",
    "    print(json.loads(e.body)[\"title\"])"
   ]
  },
  {
   "cell_type": "markdown",
   "id": "974d2d19-18e1-4b17-a592-4d3db16ae125",
   "metadata": {},
   "source": [
    "# 6. Setting Amortisation Rule\n",
    "We will upsert rules to the Amortisation Rule Set"
   ]
  },
  {
   "cell_type": "code",
   "execution_count": null,
   "id": "a1685dc4-f641-4da3-937b-9f858ae8d5ec",
   "metadata": {
    "scrolled": true
   },
   "outputs": [],
   "source": [
    "#Set Amortisation Rules\n",
    "\n",
    "set_amt_rule = amortisation_api.set_amortisation_rules(\n",
    "    scope = scope,\n",
    "    code = portfolio_code,\n",
    "    set_amortisation_rules_request=models.SetAmortisationRulesRequest(\n",
    "        rules_interval=models.RulesInterval(\n",
    "            effective_range={\n",
    "                \"fromDate\": \"0001-01-01T00:00:00.0000000+00:00\",\n",
    "            },\n",
    "            rules=[]\n",
    "        )\n",
    "    )\n",
    ")"
   ]
  },
  {
   "cell_type": "markdown",
   "id": "6853d35f-8b18-43a6-bc3d-56fde9f5794c",
   "metadata": {},
   "source": [
    "# 6.1 List Amortisation RuleSets\n",
    "Using this endpoint we can see the list of Amortisation RuleSets and associates Rules"
   ]
  },
  {
   "cell_type": "code",
   "execution_count": null,
   "id": "5b2b1797-f5c0-46f9-96d8-baa83319d641",
   "metadata": {},
   "outputs": [],
   "source": [
    "#List RuleSets\n",
    "\n",
    "list_amt= amortisation_api.list_amortisation_rule_sets()\n",
    "list_amt"
   ]
  },
  {
   "cell_type": "markdown",
   "id": "95e7d51f-227a-4834-9656-77faa317e441",
   "metadata": {},
   "source": [
    "# 7. Upsert Transactions\n",
    "We will upsert similar transactions for the created instruments to observe the impacts of the amortisation rules"
   ]
  },
  {
   "cell_type": "code",
   "execution_count": null,
   "id": "3c07f66c-c27a-418a-9d28-3d79faeec7cd",
   "metadata": {},
   "outputs": [],
   "source": [
    "transactions = pd.read_csv(\"Transaction_Data.csv\")\n",
    "transactions"
   ]
  },
  {
   "cell_type": "code",
   "execution_count": null,
   "id": "c83f29b0-3530-4e28-bb6f-f32aa5f46ada",
   "metadata": {},
   "outputs": [],
   "source": [
    "#Upserting Transactions\n",
    "transaction_request = [\n",
    "    lusid.TransactionRequest(\n",
    "        transaction_id=row[\"txn_id\"],\n",
    "        type=row[\"type\"],\n",
    "        instrument_identifiers={\n",
    "            \"Instrument/default/ClientInternal\": row[\"client_id\"]\n",
    "        },\n",
    "        transaction_date=to_date(row[\"trade_date\"]).isoformat(),\n",
    "        settlement_date=to_date(row[\"settlement_date\"]).isoformat(),\n",
    "        units=row[\"quantity\"],\n",
    "        transaction_price=lusid.TransactionPrice(price=row[\"price\"], type=\"Price\"),\n",
    "        total_consideration=lusid.CurrencyAndAmount(\n",
    "            amount=row[\"total_consideration\"], currency=row[\"currency\"]\n",
    "        ),\n",
    "    )\n",
    "    for index, row in transactions.iterrows()\n",
    "]\n",
    "\n",
    "response = transaction_portfolio_api.upsert_transactions(\n",
    "    scope=scope, code=portfolio_code, transaction_request=transaction_request\n",
    ")\n",
    "\n",
    "print(f\"Transactions succesfully updated at time: {response.version.as_at_date}\")"
   ]
  },
  {
   "cell_type": "markdown",
   "id": "2d169207-b6ce-48eb-a506-ee8009d5c528",
   "metadata": {},
   "source": [
    "# 8. Recipe Creation\n",
    "\n",
    "Following the initial setup, we can see to configuring how LUSID will conduct valuation. This introduces the concept of recipes, which are a set of steps we specify to the valuation engine relating to market data and model specification.\n"
   ]
  },
  {
   "cell_type": "code",
   "execution_count": null,
   "id": "abacf1ce-1bb8-4c54-806b-4758ef2b6dcf",
   "metadata": {},
   "outputs": [],
   "source": [
    "# Creating Recipe to perform a valuation\n",
    "try:\n",
    "    configuration_recipe = models.ConfigurationRecipe(\n",
    "        scope=scope,\n",
    "        code=portfolio_code,\n",
    "        market=models.MarketContext(\n",
    "            market_rules=[\n",
    "                # define how to resolve the quotes\n",
    "                models.MarketDataKeyRule(\n",
    "                    key=\"Quote.ClientInternal.*\",\n",
    "                    supplier=\"Lusid\",\n",
    "                    data_scope=scope,\n",
    "                    quote_type=\"Price\",\n",
    "                    field= \"bid\",\n",
    "                ),\n",
    "            ],\n",
    "            options=models.MarketOptions(\n",
    "                default_supplier=\"Lusid\",\n",
    "                default_instrument_code_type=\"ClientInternal\",\n",
    "                default_scope=scope,\n",
    "            ),\n",
    "        ),\n",
    "        pricing=models.PricingContext(\n",
    "            options={\"AllowPartiallySuccessfulEvaluation\": True},\n",
    "        ),\n",
    "    )\n",
    "    \n",
    "    upsert_configuration_recipe_response = configuration_recipe_api.upsert_configuration_recipe(\n",
    "        upsert_recipe_request=models.UpsertRecipeRequest(\n",
    "            configuration_recipe=configuration_recipe\n",
    "        )\n",
    "    )\n",
    "    print(\"Recipe Created Successfully\")\n",
    "except lusid.ApiException as e:\n",
    "    print(json.loads(e.body)[\"title\"])"
   ]
  },
  {
   "cell_type": "markdown",
   "id": "fab0149c-87d9-41aa-87d8-07c7bce5dd5d",
   "metadata": {},
   "source": [
    "# 9. Valuation"
   ]
  },
  {
   "cell_type": "code",
   "execution_count": null,
   "id": "a3e702eb-232d-45dc-ab28-77c798d85a3e",
   "metadata": {},
   "outputs": [],
   "source": [
    "#Defining function for Valuation\n",
    "\n",
    "def generate_valuation_request(valuation_effectiveAt):\n",
    "\n",
    "    # Create the valuation request\n",
    "    valuation_request = models.ValuationRequest(\n",
    "        recipe_id=models.ResourceId(\n",
    "            scope=scope, code=portfolio_code\n",
    "        ),\n",
    "        metrics=[\n",
    "            models.AggregateSpec(\"Instrument/default/Name\", \"Value\"),\n",
    "            models.AggregateSpec(\"Valuation/PvInReportCcy\", \"Proportion\"),\n",
    "            models.AggregateSpec(\"Valuation/PvInReportCcy\", \"Sum\"),\n",
    "            models.AggregateSpec(\"Holding/default/Units\", \"Sum\"),\n",
    "            models.AggregateSpec(\"Holding/AmortisedCost\", \"Value\"),\n",
    "        ],\n",
    "        group_by=[\"Instrument/default/Name\"],\n",
    "        portfolio_entity_ids=[\n",
    "            models.PortfolioEntityId(scope=scope, code=portfolio_code)\n",
    "        ],\n",
    "        valuation_schedule=models.ValuationSchedule(\n",
    "            effective_at=valuation_effectiveAt.isoformat()\n",
    "        ),\n",
    "    )\n",
    "\n",
    "    return valuation_request"
   ]
  },
  {
   "cell_type": "code",
   "execution_count": null,
   "id": "7c16f197-ef0c-4f80-9bef-b0cd2404989e",
   "metadata": {},
   "outputs": [],
   "source": [
    "#Getting Valuation\n",
    "\n",
    "aggregation = aggregation_api.get_valuation(\n",
    "    valuation_request=generate_valuation_request(datetime(year=2024, month=4, day=25, tzinfo=pytz.UTC)\n",
    "    )\n",
    ")\n",
    "\n",
    "pd.DataFrame(aggregation.data)"
   ]
  },
  {
   "cell_type": "markdown",
   "id": "f1e86e68-fb62-4d08-a1fc-a99fd59f3a86",
   "metadata": {},
   "source": [
    "We can see that the Amortised Cost is calculated based on No Amortisation method as set when creating the portfolio. No Amortisation Rules were defined at this point "
   ]
  },
  {
   "cell_type": "markdown",
   "id": "52fe7dbb-1912-4e14-ab4e-026a3ae4d5c3",
   "metadata": {},
   "source": [
    "# 9.1 Defining and Setting Amortisation Rules"
   ]
  },
  {
   "cell_type": "markdown",
   "id": "0405558f-31bb-431a-9a10-65a9ed68b81f",
   "metadata": {},
   "source": [
    "We can change/update Amortisation Rules based on the filters we provide. Following are a few examples of how we can use filters to set amortisation rules, along with imSetting Amortisation Rule filter to True eq True. This means that the amortisation method set in the rule defined will take precedence for all transactions in the relevant portfolio"
   ]
  },
  {
   "cell_type": "code",
   "execution_count": null,
   "id": "29228d0a-6dc0-4ebb-8838-dee07397095f",
   "metadata": {},
   "outputs": [],
   "source": [
    "#Updating Amortisation Rule \n",
    "\n",
    "set_amt_rule = amortisation_api.set_amortisation_rules(\n",
    "    scope = scope,\n",
    "    code = portfolio_code,\n",
    "    set_amortisation_rules_request=models.SetAmortisationRulesRequest(\n",
    "        rules_interval=models.RulesInterval(\n",
    "            effective_range={\n",
    "                \"fromDate\": \"0001-01-01T00:00:00.0000000+00:00\",\n",
    "            },\n",
    "            rules=[\n",
    "                {\n",
    "                    \"name\" : \"Amortisation_Rule_1\",\n",
    "                    \"description\" : \"Rule setting filter to True equals True\",\n",
    "                    \"filter\" : \"True eq True\",\n",
    "                    \"amortisationMethod\" : \"StraightLine\",\n",
    "                },\n",
    "            ]\n",
    "        )\n",
    "    )\n",
    ")"
   ]
  },
  {
   "cell_type": "code",
   "execution_count": null,
   "id": "fa6201bc-1eca-428a-8c30-96905d58ff64",
   "metadata": {},
   "outputs": [],
   "source": [
    "#Getting Valuation\n",
    "\n",
    "aggregation = aggregation_api.get_valuation(\n",
    "    valuation_request=generate_valuation_request(datetime(year=2024, month=4, day=25, tzinfo=pytz.UTC)\n",
    "    )\n",
    ")\n",
    "\n",
    "pd.DataFrame(aggregation.data)"
   ]
  },
  {
   "cell_type": "markdown",
   "id": "7ff51ca5-9075-472b-a4aa-59532eb0fc90",
   "metadata": {},
   "source": [
    "We can see that the Amortised Cost is calculate based on StraightLine method as updated in the rule."
   ]
  },
  {
   "cell_type": "markdown",
   "id": "0e09aa4e-5060-42b8-b90e-61ab00808730",
   "metadata": {},
   "source": [
    "Setting Amortisation Rule filter based on instrument property. This means that the amortisation method set in the rule defined will take precedence over the method set on portfolio creation, for the instrument with the relevant property that is used in the filter"
   ]
  },
  {
   "cell_type": "code",
   "execution_count": null,
   "id": "933a83b6-cee3-435f-bc77-83c19f9a2ca2",
   "metadata": {},
   "outputs": [],
   "source": [
    "#Updating Amortisation Rule\n",
    "\n",
    "set_amt_rule = amortisation_api.set_amortisation_rules(\n",
    "    scope = scope,\n",
    "    code = portfolio_code,\n",
    "    set_amortisation_rules_request=models.SetAmortisationRulesRequest(\n",
    "        rules_interval=models.RulesInterval(\n",
    "            effective_range={\n",
    "                \"fromDate\": \"0001-01-01T00:00:00.0000000+00:00\",\n",
    "            },\n",
    "            rules=[\n",
    "                {\n",
    "                    \"name\" : \"Amortisation_Rule_1\",\n",
    "                    \"description\" : \"Rule Description\",\n",
    "                    \"filter\" : \"properties[Instrument/valuation-sample/EQUITY_UK_1] eq 'alpha1'\",\n",
    "                    \"amortisationMethod\" : \"StraightLine\",\n",
    "                },\n",
    "            ]\n",
    "        )\n",
    "    )\n",
    ")"
   ]
  },
  {
   "cell_type": "code",
   "execution_count": null,
   "id": "cc4a8e74-fffb-465e-bf92-5eedf43328fc",
   "metadata": {},
   "outputs": [],
   "source": [
    "#Getting Valuation\n",
    "\n",
    "aggregation = aggregation_api.get_valuation(\n",
    "    valuation_request=generate_valuation_request(datetime(year=2024, month=4, day=25, tzinfo=pytz.UTC)\n",
    "    )\n",
    ")\n",
    "\n",
    "pd.DataFrame(aggregation.data)"
   ]
  },
  {
   "cell_type": "markdown",
   "id": "c5f251f3-72dd-49c5-99d1-c7e77054e45c",
   "metadata": {},
   "source": [
    "We can see that the Amortised Cost is calculate based on StraightLine method as updated in the rule for ExampleBond_A as it has the relevant property whereas ExampleBond_B has amortised cost based on NoAmortisation method"
   ]
  },
  {
   "cell_type": "markdown",
   "id": "4da21ed6-881f-4554-9c60-354ec2b7544c",
   "metadata": {},
   "source": [
    "Now, setting Amortisation Rule filter based on Portfolio property. This means that the amortisation method set in the rule defined will take precedence over the method set on portfolio creation, for the instruments belonging to that portfolio."
   ]
  },
  {
   "cell_type": "code",
   "execution_count": null,
   "id": "cc0cc542-092a-4aa7-b9ed-a70c871ae97f",
   "metadata": {},
   "outputs": [],
   "source": [
    "#Set Amortisation Rules\n",
    "\n",
    "set_amt_rule = amortisation_api.set_amortisation_rules(\n",
    "    scope = scope,\n",
    "    code = portfolio_code,\n",
    "    set_amortisation_rules_request=models.SetAmortisationRulesRequest(\n",
    "        rules_interval=models.RulesInterval(\n",
    "            effective_range={\n",
    "                \"fromDate\": \"0001-01-01T00:00:00.0000000+00:00\",\n",
    "            },\n",
    "            rules=[\n",
    "                {\n",
    "                    \"name\" : \"Amortisation_Rule_2\",\n",
    "                    \"description\" : \"Rule Description\",\n",
    "                    \"filter\" : \"properties[Portfolio/valuation-sample/EQUITY_UK_1] eq 'alpha1'\",\n",
    "                    \"amortisationMethod\" : \"EffectiveYield\",\n",
    "                },\n",
    "                \n",
    "            ]\n",
    "        )\n",
    "    )\n",
    ")"
   ]
  },
  {
   "cell_type": "code",
   "execution_count": null,
   "id": "8ccd9dac-435b-46f7-9498-9c2759627b65",
   "metadata": {},
   "outputs": [],
   "source": [
    "#Getting Valuation\n",
    "\n",
    "aggregation = aggregation_api.get_valuation(\n",
    "    valuation_request=generate_valuation_request(datetime(year=2024, month=4, day=25, tzinfo=pytz.UTC)\n",
    "    )\n",
    ")\n",
    "\n",
    "pd.DataFrame(aggregation.data)"
   ]
  },
  {
   "cell_type": "markdown",
   "id": "d079ced5-9f85-41b4-9293-23c26197f08a",
   "metadata": {},
   "source": [
    "We can see that the Amortised Cost is calculated based on EffectiveYield method as updated in the rule."
   ]
  },
  {
   "cell_type": "markdown",
   "id": "f163318a-9439-4f59-9836-7989104bfc0f",
   "metadata": {},
   "source": [
    "Now, we will show that when multiple rules exist, the first one that matches is implemented."
   ]
  },
  {
   "cell_type": "code",
   "execution_count": null,
   "id": "b4ca98a9-1d46-47b1-a0d4-7bfcccfb5ad1",
   "metadata": {},
   "outputs": [],
   "source": [
    "#Set Amortisation Rules\n",
    "\n",
    "set_amt_rule = amortisation_api.set_amortisation_rules(\n",
    "    scope = scope,\n",
    "    code = portfolio_code,\n",
    "    set_amortisation_rules_request=models.SetAmortisationRulesRequest(\n",
    "        rules_interval=models.RulesInterval(\n",
    "            effective_range={\n",
    "                \"fromDate\": \"0001-01-01T00:00:00.0000000+00:00\",\n",
    "            },\n",
    "            rules=[\n",
    "                {\n",
    "                    \"name\" : \"Amortisation_Rule_1\",\n",
    "                    \"description\" : \"Rule Description\",\n",
    "                    \"filter\" : \"properties[Instrument/valuation-sample/EQUITY_UK_1] eq 'alpha1'\",\n",
    "                    \"amortisationMethod\" : \"StraightLine\",\n",
    "                },\n",
    "                {\n",
    "                    \"name\" : \"Amortisation_Rule_2\",\n",
    "                    \"description\" : \"Rule Description\",\n",
    "                    \"filter\" : \"properties[Portfolio/valuation-sample/EQUITY_UK_1] eq 'alpha1'\",\n",
    "                    \"amortisationMethod\" : \"EffectiveYield\",\n",
    "                },\n",
    "                \n",
    "            ]\n",
    "        )\n",
    "    )\n",
    ")"
   ]
  },
  {
   "cell_type": "code",
   "execution_count": null,
   "id": "33dcb965-54d8-488b-bdc6-5ecb8c8d84bc",
   "metadata": {},
   "outputs": [],
   "source": [
    "#Getting Valuation\n",
    "\n",
    "aggregation = aggregation_api.get_valuation(\n",
    "    valuation_request=generate_valuation_request(datetime(year=2024, month=4, day=25, tzinfo=pytz.UTC)\n",
    "    )\n",
    ")\n",
    "\n",
    "pd.DataFrame(aggregation.data)"
   ]
  },
  {
   "cell_type": "markdown",
   "id": "b7d031fa-9a9f-451c-b7f8-64b689bf4920",
   "metadata": {},
   "source": [
    "We can see that the Amortised Cost is calculated based on StraightLine method for ExampleBond_A as it matches the first rule where as EffectiveYield method is used for ExampleBond_B as it matches the second rule in the list."
   ]
  },
  {
   "cell_type": "markdown",
   "id": "699637a4-e94d-492d-ae8f-5c15c370cdd7",
   "metadata": {},
   "source": [
    "# 10. Data Cleaning"
   ]
  },
  {
   "cell_type": "code",
   "execution_count": null,
   "id": "7b7ae1d9-f0ff-470a-81d7-c82f414bcf3a",
   "metadata": {},
   "outputs": [],
   "source": [
    "\n",
    "#Delete Instruments\n",
    "def DeleteInstruments(luid): \n",
    "    try:\n",
    "        delete_instrument = instruments_api.delete_instrument(\n",
    "            identifier_type=\"LusidInstrumentId\", identifier= luid\n",
    "        )\n",
    "    \n",
    "        print(delete_instrument)\n",
    "    \n",
    "    except lusid.ApiException as e:\n",
    "        print(json.loads(e.body)[\"title\"])\n"
   ]
  },
  {
   "cell_type": "code",
   "execution_count": null,
   "id": "3fbcad5e-95d8-4d7c-a869-2398b4138e37",
   "metadata": {},
   "outputs": [],
   "source": [
    "'''\n",
    "#Deleting Instruments\n",
    "\n",
    "DeleteInstruments(luid)\n",
    "DeleteInstruments(luid_1)"
   ]
  },
  {
   "cell_type": "code",
   "execution_count": null,
   "id": "46f0ea57-113a-4a0a-bb9d-dd15bbbd77ec",
   "metadata": {},
   "outputs": [],
   "source": [
    "'''\n",
    "#Delete Rule\n",
    "\n",
    "delete_amt= amortisation_api.delete_amortisation_ruleset(\n",
    "    scope=scope,\n",
    "    code=portfolio_code\n",
    ")\n",
    "\n",
    "delete_amt"
   ]
  },
  {
   "cell_type": "code",
   "execution_count": null,
   "id": "baee566b-9862-45bc-8ad7-a853b0b10683",
   "metadata": {},
   "outputs": [],
   "source": [
    "'''\n",
    "#Delete Portfolio\n",
    "try:\n",
    "    delete_portfolio = portfolio_api.delete_portfolio(scope, portfolio_code)\n",
    "        \n",
    "    print(delete_portfolio)\n",
    "\n",
    "except lusid.ApiException as e:\n",
    "    print(json.loads(e.body)[\"title\"])\n"
   ]
  },
  {
   "cell_type": "code",
   "execution_count": null,
   "id": "b56cd719-5555-4ba9-b3f8-e5efd2117f71",
   "metadata": {},
   "outputs": [],
   "source": [
    "'''\n",
    "#Delete Recipe\n",
    "try:\n",
    "    delete_recipe = configuration_recipe_api.delete_configuration_recipe(\n",
    "        scope=scope,\n",
    "        code=portfolio_code,\n",
    "    )\n",
    "\n",
    "    print(delete_recipe)\n",
    "\n",
    "except lusid.ApiException as e:\n",
    "    print(json.loads(e.body)[\"title\"])"
   ]
  },
  {
   "cell_type": "code",
   "execution_count": null,
   "id": "3026aba6-3ad1-4695-addf-c0e591978d96",
   "metadata": {},
   "outputs": [],
   "source": [
    "'''\n",
    "#Delete Portfolio Properties\n",
    "try:\n",
    "    delete_portfolio_prop = property_api.delete_property_definition(\n",
    "        domain= 'Portfolio',\n",
    "        scope= scope,\n",
    "        code= portfolio_code,\n",
    "    )\n",
    "    print(delete_portfolio_prop)\n",
    "except lusid.ApiException as e:\n",
    "    print(json.loads(e.body)[\"title\"])"
   ]
  },
  {
   "cell_type": "code",
   "execution_count": null,
   "id": "f4219244-1fd4-462d-9d74-f5e1a37a4f74",
   "metadata": {},
   "outputs": [],
   "source": [
    "'''\n",
    "#Delete Instrument Properties\n",
    "try:\n",
    "    delete_instrument_prop = property_api.delete_property_definition(\n",
    "        domain= 'Instrument',\n",
    "        scope= scope,\n",
    "        code= portfolio_code,\n",
    "    )\n",
    "    print(delete_instrument_prop)\n",
    "except lusid.ApiException as e:\n",
    "    print(json.loads(e.body)[\"title\"])"
   ]
  },
  {
   "cell_type": "code",
   "execution_count": null,
   "id": "07ebcd02-59ef-4678-bbb4-2e0830744f6b",
   "metadata": {},
   "outputs": [],
   "source": []
  }
 ],
 "metadata": {
  "kernelspec": {
   "display_name": "Python 3 (ipykernel)",
   "language": "python",
   "name": "python3"
  },
  "language_info": {
   "codemirror_mode": {
    "name": "ipython",
    "version": 3
   },
   "file_extension": ".py",
   "mimetype": "text/x-python",
   "name": "python",
   "nbconvert_exporter": "python",
   "pygments_lexer": "ipython3",
   "version": "3.11.5"
  }
 },
 "nbformat": 4,
 "nbformat_minor": 5
}
