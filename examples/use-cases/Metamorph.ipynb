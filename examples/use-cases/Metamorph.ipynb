{
 "cells": [
  {
   "cell_type": "markdown",
   "metadata": {},
   "source": [
    "# Import your Libraries"
   ]
  },
  {
   "cell_type": "code",
   "execution_count": 1,
   "metadata": {
    "pycharm": {
     "is_executing": false
    }
   },
   "outputs": [
    {
     "name": "stdout",
     "text": [
      "LUSID Environment Initialised\n",
      "LUSID API Version:  0.5.3136.0\n"
     ],
     "output_type": "stream"
    }
   ],
   "source": [
    "# Import LUSID\n",
    "import lusid.models as models\n",
    "import lusid_sample_data as import_data\n",
    "\n",
    "# Import Libraries\n",
    "import pprint\n",
    "from datetime import datetime, timedelta, time\n",
    "import pytz\n",
    "import printer as prettyprint\n",
    "import pandas as pd\n",
    "import numpy as np\n",
    "import json\n",
    "import requests\n",
    "import os\n",
    "import lusid\n",
    "import cocoon\n",
    "import uuid\n",
    "\n",
    "# Authenticate our user and create our API client\n",
    "client = import_data.authenticate_secrets()\n",
    "scope = 'my_test_scope_10'\n",
    "\n",
    "print ('LUSID Environment Initialised')\n",
    "print ('LUSID API Version: ', client.metadata.get_lusid_versions().build_version)"
   ]
  },
  {
   "cell_type": "markdown",
   "metadata": {},
   "source": [
    "# 1) Create Portfolios"
   ]
  },
  {
   "cell_type": "markdown",
   "metadata": {},
   "source": [
    "## a) Import portfolio data"
   ]
  },
  {
   "cell_type": "code",
   "execution_count": 2,
   "metadata": {
    "pycharm": {
     "is_executing": false
    }
   },
   "outputs": [
    {
     "data": {
      "text/plain": "      FundCode Effective Date Prime Broker Local Currency Code  Quantity  \\\n0  Portfolio-Z     02/07/2019          UBS                 GBP      2500   \n1  Portfolio-Z     01/01/2019         CITI                 USD     10000   \n2  Portfolio-Z     01/12/2018          UBS                 USD     26598   \n3  Portfolio-X     05/02/2019         BAML                 GBX    942354   \n4  Portfolio-X     24/11/2018           MS                 USD     95421   \n\n   Local Price  Local Market Value  Base Market Value  \\\n0        56.76              141900             141900   \n1       208.40             2084000            2084000   \n2      1989.50            52916721           52916721   \n3       200.50           188941977          188941977   \n4       230.96            22038434           22038434   \n\n       Security Description ISIN Security Identifier  \\\n0  Lloyds Banking Group PLC             GB0008706128   \n1                 Apple Inc             US0378331005   \n2                    Amazon             US0231351067   \n3                 Sainsbury            XS1139087933    \n4                 Tesla Inc             US88160R1014   \n\n  SEDOL Security Identifier Buy_Currency  \n0                    870612          GBP  \n1                  0865985           USD  \n2                    906866          USD  \n3                   B019KW7          GBP  \n4                   BSJC712          USD  ",
      "text/html": "<div>\n<style scoped>\n    .dataframe tbody tr th:only-of-type {\n        vertical-align: middle;\n    }\n\n    .dataframe tbody tr th {\n        vertical-align: top;\n    }\n\n    .dataframe thead th {\n        text-align: right;\n    }\n</style>\n<table border=\"1\" class=\"dataframe\">\n  <thead>\n    <tr style=\"text-align: right;\">\n      <th></th>\n      <th>FundCode</th>\n      <th>Effective Date</th>\n      <th>Prime Broker</th>\n      <th>Local Currency Code</th>\n      <th>Quantity</th>\n      <th>Local Price</th>\n      <th>Local Market Value</th>\n      <th>Base Market Value</th>\n      <th>Security Description</th>\n      <th>ISIN Security Identifier</th>\n      <th>SEDOL Security Identifier</th>\n      <th>Buy_Currency</th>\n    </tr>\n  </thead>\n  <tbody>\n    <tr>\n      <th>0</th>\n      <td>Portfolio-Z</td>\n      <td>02/07/2019</td>\n      <td>UBS</td>\n      <td>GBP</td>\n      <td>2500</td>\n      <td>56.76</td>\n      <td>141900</td>\n      <td>141900</td>\n      <td>Lloyds Banking Group PLC</td>\n      <td>GB0008706128</td>\n      <td>870612</td>\n      <td>GBP</td>\n    </tr>\n    <tr>\n      <th>1</th>\n      <td>Portfolio-Z</td>\n      <td>01/01/2019</td>\n      <td>CITI</td>\n      <td>USD</td>\n      <td>10000</td>\n      <td>208.40</td>\n      <td>2084000</td>\n      <td>2084000</td>\n      <td>Apple Inc</td>\n      <td>US0378331005</td>\n      <td>0865985</td>\n      <td>USD</td>\n    </tr>\n    <tr>\n      <th>2</th>\n      <td>Portfolio-Z</td>\n      <td>01/12/2018</td>\n      <td>UBS</td>\n      <td>USD</td>\n      <td>26598</td>\n      <td>1989.50</td>\n      <td>52916721</td>\n      <td>52916721</td>\n      <td>Amazon</td>\n      <td>US0231351067</td>\n      <td>906866</td>\n      <td>USD</td>\n    </tr>\n    <tr>\n      <th>3</th>\n      <td>Portfolio-X</td>\n      <td>05/02/2019</td>\n      <td>BAML</td>\n      <td>GBX</td>\n      <td>942354</td>\n      <td>200.50</td>\n      <td>188941977</td>\n      <td>188941977</td>\n      <td>Sainsbury</td>\n      <td>XS1139087933</td>\n      <td>B019KW7</td>\n      <td>GBP</td>\n    </tr>\n    <tr>\n      <th>4</th>\n      <td>Portfolio-X</td>\n      <td>24/11/2018</td>\n      <td>MS</td>\n      <td>USD</td>\n      <td>95421</td>\n      <td>230.96</td>\n      <td>22038434</td>\n      <td>22038434</td>\n      <td>Tesla Inc</td>\n      <td>US88160R1014</td>\n      <td>BSJC712</td>\n      <td>USD</td>\n    </tr>\n  </tbody>\n</table>\n</div>"
     },
     "metadata": {},
     "output_type": "execute_result",
     "execution_count": 2
    }
   ],
   "source": [
    "positions_file = pd.read_csv('./data/Sample_Positions.csv')\n",
    "positions_file.head()"
   ]
  },
  {
   "cell_type": "markdown",
   "metadata": {},
   "source": [
    "## b) Apply data transformations specific to your data"
   ]
  },
  {
   "cell_type": "code",
   "execution_count": 3,
   "metadata": {
    "pycharm": {
     "is_executing": false
    }
   },
   "outputs": [
    {
     "data": {
      "text/plain": "      FundCode      display_name               created base_currency  \\\n0  Portfolio-Z  Fund Portfolio-Z  2010-10-09T08:00:00Z           GBP   \n1  Portfolio-Z  Fund Portfolio-Z  2010-10-09T08:00:00Z           GBP   \n2  Portfolio-Z  Fund Portfolio-Z  2010-10-09T08:00:00Z           GBP   \n3  Portfolio-X  Fund Portfolio-X  2010-10-09T08:00:00Z           GBP   \n4  Portfolio-X  Fund Portfolio-X  2010-10-09T08:00:00Z           GBP   \n\n                               description  \n0  The fund with the fund code Portfolio-Z  \n1  The fund with the fund code Portfolio-Z  \n2  The fund with the fund code Portfolio-Z  \n3  The fund with the fund code Portfolio-X  \n4  The fund with the fund code Portfolio-X  ",
      "text/html": "<div>\n<style scoped>\n    .dataframe tbody tr th:only-of-type {\n        vertical-align: middle;\n    }\n\n    .dataframe tbody tr th {\n        vertical-align: top;\n    }\n\n    .dataframe thead th {\n        text-align: right;\n    }\n</style>\n<table border=\"1\" class=\"dataframe\">\n  <thead>\n    <tr style=\"text-align: right;\">\n      <th></th>\n      <th>FundCode</th>\n      <th>display_name</th>\n      <th>created</th>\n      <th>base_currency</th>\n      <th>description</th>\n    </tr>\n  </thead>\n  <tbody>\n    <tr>\n      <th>0</th>\n      <td>Portfolio-Z</td>\n      <td>Fund Portfolio-Z</td>\n      <td>2010-10-09T08:00:00Z</td>\n      <td>GBP</td>\n      <td>The fund with the fund code Portfolio-Z</td>\n    </tr>\n    <tr>\n      <th>1</th>\n      <td>Portfolio-Z</td>\n      <td>Fund Portfolio-Z</td>\n      <td>2010-10-09T08:00:00Z</td>\n      <td>GBP</td>\n      <td>The fund with the fund code Portfolio-Z</td>\n    </tr>\n    <tr>\n      <th>2</th>\n      <td>Portfolio-Z</td>\n      <td>Fund Portfolio-Z</td>\n      <td>2010-10-09T08:00:00Z</td>\n      <td>GBP</td>\n      <td>The fund with the fund code Portfolio-Z</td>\n    </tr>\n    <tr>\n      <th>3</th>\n      <td>Portfolio-X</td>\n      <td>Fund Portfolio-X</td>\n      <td>2010-10-09T08:00:00Z</td>\n      <td>GBP</td>\n      <td>The fund with the fund code Portfolio-X</td>\n    </tr>\n    <tr>\n      <th>4</th>\n      <td>Portfolio-X</td>\n      <td>Fund Portfolio-X</td>\n      <td>2010-10-09T08:00:00Z</td>\n      <td>GBP</td>\n      <td>The fund with the fund code Portfolio-X</td>\n    </tr>\n  </tbody>\n</table>\n</div>"
     },
     "metadata": {},
     "output_type": "execute_result",
     "execution_count": 3
    }
   ],
   "source": [
    "portfolios_data = pd.DataFrame(positions_file['FundCode'])\n",
    "portfolios_data['display_name'] = portfolios_data['FundCode'].apply(lambda x: \"Fund {}\".format(x))\n",
    "portfolios_data['created'] = \"2010-10-09T08:00:00Z\"\n",
    "portfolios_data['base_currency'] = 'GBP'\n",
    "portfolios_data['description'] = portfolios_data['FundCode'].apply(lambda x: \"The fund with the fund code {}\".format(x))\n",
    "portfolios_data.head()"
   ]
  },
  {
   "cell_type": "markdown",
   "metadata": {},
   "source": [
    "## c) Set your portfolio field mapping"
   ]
  },
  {
   "cell_type": "code",
   "execution_count": 4,
   "metadata": {
    "pycharm": {
     "is_executing": false
    }
   },
   "outputs": [],
   "source": [
    "portfolio_mapping_required = {\n",
    "  'code': 'FundCode',\n",
    "  'display_name': 'display_name',\n",
    "  'created': 'created',\n",
    "  'base_currency': 'base_currency'\n",
    "}\n",
    "\n",
    "portfolio_mapping_optional = {\n",
    "  'description': 'description',\n",
    "  'accounting_method': None\n",
    "}"
   ]
  },
  {
   "cell_type": "markdown",
   "metadata": {},
   "source": [
    "## d) Create your portfolios"
   ]
  },
  {
   "cell_type": "code",
   "execution_count": 5,
   "metadata": {
    "pycharm": {
     "is_executing": false
    }
   },
   "outputs": [],
   "source": [
    "responses = cocoon.create_portfolios_if_not_exist(\n",
    "    client=client, \n",
    "    scope=scope, \n",
    "    data_frame=portfolios_data, \n",
    "    required_mapping=portfolio_mapping_required, \n",
    "    optional_mapping=portfolio_mapping_optional)\n",
    "\n",
    "for portfolio_code, response in responses.items():\n",
    "    prettyprint.portfolio_response(response)"
   ]
  },
  {
   "cell_type": "markdown",
   "metadata": {},
   "source": [
    "# 2) Load your instrument universe"
   ]
  },
  {
   "cell_type": "markdown",
   "metadata": {},
   "source": [
    "## a) Import instrument data"
   ]
  },
  {
   "cell_type": "code",
   "execution_count": 6,
   "metadata": {
    "pycharm": {
     "is_executing": false
    }
   },
   "outputs": [
    {
     "data": {
      "text/plain": "      FundCode Effective Date Prime Broker Local Currency Code  Quantity  \\\n0  Portfolio-Z     02/07/2019          UBS                 GBP      2500   \n1  Portfolio-Z     01/01/2019         CITI                 USD     10000   \n2  Portfolio-Z     01/12/2018          UBS                 USD     26598   \n3  Portfolio-X     05/02/2019         BAML                 GBX    942354   \n4  Portfolio-X     24/11/2018           MS                 USD     95421   \n\n   Local Price  Local Market Value  Base Market Value  \\\n0        56.76              141900             141900   \n1       208.40             2084000            2084000   \n2      1989.50            52916721           52916721   \n3       200.50           188941977          188941977   \n4       230.96            22038434           22038434   \n\n       Security Description ISIN Security Identifier  \\\n0  Lloyds Banking Group PLC             GB0008706128   \n1                 Apple Inc             US0378331005   \n2                    Amazon             US0231351067   \n3                 Sainsbury            XS1139087933    \n4                 Tesla Inc             US88160R1014   \n\n  SEDOL Security Identifier Buy_Currency  \n0                    870612          GBP  \n1                  0865985           USD  \n2                    906866          USD  \n3                   B019KW7          GBP  \n4                   BSJC712          USD  ",
      "text/html": "<div>\n<style scoped>\n    .dataframe tbody tr th:only-of-type {\n        vertical-align: middle;\n    }\n\n    .dataframe tbody tr th {\n        vertical-align: top;\n    }\n\n    .dataframe thead th {\n        text-align: right;\n    }\n</style>\n<table border=\"1\" class=\"dataframe\">\n  <thead>\n    <tr style=\"text-align: right;\">\n      <th></th>\n      <th>FundCode</th>\n      <th>Effective Date</th>\n      <th>Prime Broker</th>\n      <th>Local Currency Code</th>\n      <th>Quantity</th>\n      <th>Local Price</th>\n      <th>Local Market Value</th>\n      <th>Base Market Value</th>\n      <th>Security Description</th>\n      <th>ISIN Security Identifier</th>\n      <th>SEDOL Security Identifier</th>\n      <th>Buy_Currency</th>\n    </tr>\n  </thead>\n  <tbody>\n    <tr>\n      <th>0</th>\n      <td>Portfolio-Z</td>\n      <td>02/07/2019</td>\n      <td>UBS</td>\n      <td>GBP</td>\n      <td>2500</td>\n      <td>56.76</td>\n      <td>141900</td>\n      <td>141900</td>\n      <td>Lloyds Banking Group PLC</td>\n      <td>GB0008706128</td>\n      <td>870612</td>\n      <td>GBP</td>\n    </tr>\n    <tr>\n      <th>1</th>\n      <td>Portfolio-Z</td>\n      <td>01/01/2019</td>\n      <td>CITI</td>\n      <td>USD</td>\n      <td>10000</td>\n      <td>208.40</td>\n      <td>2084000</td>\n      <td>2084000</td>\n      <td>Apple Inc</td>\n      <td>US0378331005</td>\n      <td>0865985</td>\n      <td>USD</td>\n    </tr>\n    <tr>\n      <th>2</th>\n      <td>Portfolio-Z</td>\n      <td>01/12/2018</td>\n      <td>UBS</td>\n      <td>USD</td>\n      <td>26598</td>\n      <td>1989.50</td>\n      <td>52916721</td>\n      <td>52916721</td>\n      <td>Amazon</td>\n      <td>US0231351067</td>\n      <td>906866</td>\n      <td>USD</td>\n    </tr>\n    <tr>\n      <th>3</th>\n      <td>Portfolio-X</td>\n      <td>05/02/2019</td>\n      <td>BAML</td>\n      <td>GBX</td>\n      <td>942354</td>\n      <td>200.50</td>\n      <td>188941977</td>\n      <td>188941977</td>\n      <td>Sainsbury</td>\n      <td>XS1139087933</td>\n      <td>B019KW7</td>\n      <td>GBP</td>\n    </tr>\n    <tr>\n      <th>4</th>\n      <td>Portfolio-X</td>\n      <td>24/11/2018</td>\n      <td>MS</td>\n      <td>USD</td>\n      <td>95421</td>\n      <td>230.96</td>\n      <td>22038434</td>\n      <td>22038434</td>\n      <td>Tesla Inc</td>\n      <td>US88160R1014</td>\n      <td>BSJC712</td>\n      <td>USD</td>\n    </tr>\n  </tbody>\n</table>\n</div>"
     },
     "metadata": {},
     "output_type": "execute_result",
     "execution_count": 6
    }
   ],
   "source": [
    "positions_file"
   ]
  },
  {
   "cell_type": "markdown",
   "metadata": {},
   "source": [
    "## b) Apply data transformations specific to your data"
   ]
  },
  {
   "cell_type": "code",
   "execution_count": 7,
   "metadata": {
    "pycharm": {
     "is_executing": false
    }
   },
   "outputs": [
    {
     "data": {
      "text/plain": "  Local Currency Code      Security Description ISIN Security Identifier  \\\n0                 GBP  Lloyds Banking Group PLC             GB0008706128   \n1                 USD                 Apple Inc             US0378331005   \n2                 USD                    Amazon             US0231351067   \n3                 GBX                 Sainsbury            XS1139087933    \n4                 USD                 Tesla Inc             US88160R1014   \n\n  SEDOL Security Identifier  \n0                    870612  \n1                  0865985   \n2                    906866  \n3                   B019KW7  \n4                   BSJC712  ",
      "text/html": "<div>\n<style scoped>\n    .dataframe tbody tr th:only-of-type {\n        vertical-align: middle;\n    }\n\n    .dataframe tbody tr th {\n        vertical-align: top;\n    }\n\n    .dataframe thead th {\n        text-align: right;\n    }\n</style>\n<table border=\"1\" class=\"dataframe\">\n  <thead>\n    <tr style=\"text-align: right;\">\n      <th></th>\n      <th>Local Currency Code</th>\n      <th>Security Description</th>\n      <th>ISIN Security Identifier</th>\n      <th>SEDOL Security Identifier</th>\n    </tr>\n  </thead>\n  <tbody>\n    <tr>\n      <th>0</th>\n      <td>GBP</td>\n      <td>Lloyds Banking Group PLC</td>\n      <td>GB0008706128</td>\n      <td>870612</td>\n    </tr>\n    <tr>\n      <th>1</th>\n      <td>USD</td>\n      <td>Apple Inc</td>\n      <td>US0378331005</td>\n      <td>0865985</td>\n    </tr>\n    <tr>\n      <th>2</th>\n      <td>USD</td>\n      <td>Amazon</td>\n      <td>US0231351067</td>\n      <td>906866</td>\n    </tr>\n    <tr>\n      <th>3</th>\n      <td>GBX</td>\n      <td>Sainsbury</td>\n      <td>XS1139087933</td>\n      <td>B019KW7</td>\n    </tr>\n    <tr>\n      <th>4</th>\n      <td>USD</td>\n      <td>Tesla Inc</td>\n      <td>US88160R1014</td>\n      <td>BSJC712</td>\n    </tr>\n  </tbody>\n</table>\n</div>"
     },
     "metadata": {},
     "output_type": "execute_result",
     "execution_count": 7
    }
   ],
   "source": [
    "instruments_data = pd.DataFrame(\n",
    "    positions_file.loc[:, [\n",
    "        'Local Currency Code', \n",
    "        'Security Description',\n",
    "        'ISIN Security Identifier',\n",
    "        'SEDOL Security Identifier']]\n",
    "    )\n",
    "\n",
    "instruments_data"
   ]
  },
  {
   "cell_type": "markdown",
   "metadata": {},
   "source": [
    "## c) Set your instruments field mapping"
   ]
  },
  {
   "cell_type": "code",
   "execution_count": 8,
   "metadata": {
    "pycharm": {
     "is_executing": false
    }
   },
   "outputs": [],
   "source": [
    "instrument_mapping_required = {\n",
    "  'name': 'Security Description'\n",
    "}\n",
    "\n",
    "instrument_identifier_mapping = {\n",
    "  'identifier_mapping': {\n",
    "    'ClientInternal': 'SEDOL Security Identifier',\n",
    "    'Sedol': 'SEDOL Security Identifier',\n",
    "    'Isin': 'ISIN Security Identifier'\n",
    "  }\n",
    "}\n",
    "\n",
    "instrument_mapping_optional = {\n",
    "  'definition': None\n",
    "}"
   ]
  },
  {
   "cell_type": "markdown",
   "metadata": {},
   "source": [
    "## d) Upsert your instruments"
   ]
  },
  {
   "cell_type": "code",
   "execution_count": 9,
   "metadata": {
    "pycharm": {
     "is_executing": false
    }
   },
   "outputs": [
    {
     "name": "stdout",
     "text": [
      "\u001b[91m\u001b[1mInstruments Successfully Upserted: \u001b[0m\n"
     ],
     "output_type": "stream"
    },
    {
     "data": {
      "text/plain": "                 Instrument ClientInternal ID LUSID Instrument ID\n0  Lloyds Banking Group PLC            870612       LUID_EWJPKWEF\n1                 Apple Inc          0865985        LUID_MYFX14BO\n2                    Amazon            906866       LUID_2HAH0M9A\n3                 Tesla Inc           BSJC712       LUID_4971BDKN\n4                 Sainsbury           B019KW7       LUID_NQS6ZHS9",
      "text/html": "<div>\n<style scoped>\n    .dataframe tbody tr th:only-of-type {\n        vertical-align: middle;\n    }\n\n    .dataframe tbody tr th {\n        vertical-align: top;\n    }\n\n    .dataframe thead th {\n        text-align: right;\n    }\n</style>\n<table border=\"1\" class=\"dataframe\">\n  <thead>\n    <tr style=\"text-align: right;\">\n      <th></th>\n      <th>Instrument</th>\n      <th>ClientInternal ID</th>\n      <th>LUSID Instrument ID</th>\n    </tr>\n  </thead>\n  <tbody>\n    <tr>\n      <th>0</th>\n      <td>Lloyds Banking Group PLC</td>\n      <td>870612</td>\n      <td>LUID_EWJPKWEF</td>\n    </tr>\n    <tr>\n      <th>1</th>\n      <td>Apple Inc</td>\n      <td>0865985</td>\n      <td>LUID_MYFX14BO</td>\n    </tr>\n    <tr>\n      <th>2</th>\n      <td>Amazon</td>\n      <td>906866</td>\n      <td>LUID_2HAH0M9A</td>\n    </tr>\n    <tr>\n      <th>3</th>\n      <td>Tesla Inc</td>\n      <td>BSJC712</td>\n      <td>LUID_4971BDKN</td>\n    </tr>\n    <tr>\n      <th>4</th>\n      <td>Sainsbury</td>\n      <td>B019KW7</td>\n      <td>LUID_NQS6ZHS9</td>\n    </tr>\n  </tbody>\n</table>\n</div>"
     },
     "metadata": {},
     "output_type": "execute_result",
     "execution_count": 9
    }
   ],
   "source": [
    "response = cocoon.upsert_instruments(\n",
    "    client=client, \n",
    "    data_frame=instruments_data, \n",
    "    instrument_identifier_mapping=instrument_identifier_mapping, \n",
    "    instrument_mapping_required=instrument_mapping_required,\n",
    "    instrument_mapping_optional=instrument_mapping_optional)\n",
    "\n",
    "prettyprint.instrument_response(response)"
   ]
  },
  {
   "cell_type": "markdown",
   "metadata": {},
   "source": [
    "# 3) Set your holdings"
   ]
  },
  {
   "cell_type": "markdown",
   "metadata": {},
   "source": [
    "## a) Import holdings data"
   ]
  },
  {
   "cell_type": "code",
   "execution_count": 10,
   "metadata": {
    "pycharm": {
     "is_executing": false
    }
   },
   "outputs": [
    {
     "data": {
      "text/plain": "      FundCode Effective Date Prime Broker Local Currency Code  Quantity  \\\n0  Portfolio-Z     02/07/2019          UBS                 GBP      2500   \n1  Portfolio-Z     01/01/2019         CITI                 USD     10000   \n2  Portfolio-Z     01/12/2018          UBS                 USD     26598   \n3  Portfolio-X     05/02/2019         BAML                 GBX    942354   \n4  Portfolio-X     24/11/2018           MS                 USD     95421   \n\n   Local Price  Local Market Value  Base Market Value  \\\n0        56.76              141900             141900   \n1       208.40             2084000            2084000   \n2      1989.50            52916721           52916721   \n3       200.50           188941977          188941977   \n4       230.96            22038434           22038434   \n\n       Security Description ISIN Security Identifier  \\\n0  Lloyds Banking Group PLC             GB0008706128   \n1                 Apple Inc             US0378331005   \n2                    Amazon             US0231351067   \n3                 Sainsbury            XS1139087933    \n4                 Tesla Inc             US88160R1014   \n\n  SEDOL Security Identifier Buy_Currency  \n0                    870612          GBP  \n1                  0865985           USD  \n2                    906866          USD  \n3                   B019KW7          GBP  \n4                   BSJC712          USD  ",
      "text/html": "<div>\n<style scoped>\n    .dataframe tbody tr th:only-of-type {\n        vertical-align: middle;\n    }\n\n    .dataframe tbody tr th {\n        vertical-align: top;\n    }\n\n    .dataframe thead th {\n        text-align: right;\n    }\n</style>\n<table border=\"1\" class=\"dataframe\">\n  <thead>\n    <tr style=\"text-align: right;\">\n      <th></th>\n      <th>FundCode</th>\n      <th>Effective Date</th>\n      <th>Prime Broker</th>\n      <th>Local Currency Code</th>\n      <th>Quantity</th>\n      <th>Local Price</th>\n      <th>Local Market Value</th>\n      <th>Base Market Value</th>\n      <th>Security Description</th>\n      <th>ISIN Security Identifier</th>\n      <th>SEDOL Security Identifier</th>\n      <th>Buy_Currency</th>\n    </tr>\n  </thead>\n  <tbody>\n    <tr>\n      <th>0</th>\n      <td>Portfolio-Z</td>\n      <td>02/07/2019</td>\n      <td>UBS</td>\n      <td>GBP</td>\n      <td>2500</td>\n      <td>56.76</td>\n      <td>141900</td>\n      <td>141900</td>\n      <td>Lloyds Banking Group PLC</td>\n      <td>GB0008706128</td>\n      <td>870612</td>\n      <td>GBP</td>\n    </tr>\n    <tr>\n      <th>1</th>\n      <td>Portfolio-Z</td>\n      <td>01/01/2019</td>\n      <td>CITI</td>\n      <td>USD</td>\n      <td>10000</td>\n      <td>208.40</td>\n      <td>2084000</td>\n      <td>2084000</td>\n      <td>Apple Inc</td>\n      <td>US0378331005</td>\n      <td>0865985</td>\n      <td>USD</td>\n    </tr>\n    <tr>\n      <th>2</th>\n      <td>Portfolio-Z</td>\n      <td>01/12/2018</td>\n      <td>UBS</td>\n      <td>USD</td>\n      <td>26598</td>\n      <td>1989.50</td>\n      <td>52916721</td>\n      <td>52916721</td>\n      <td>Amazon</td>\n      <td>US0231351067</td>\n      <td>906866</td>\n      <td>USD</td>\n    </tr>\n    <tr>\n      <th>3</th>\n      <td>Portfolio-X</td>\n      <td>05/02/2019</td>\n      <td>BAML</td>\n      <td>GBX</td>\n      <td>942354</td>\n      <td>200.50</td>\n      <td>188941977</td>\n      <td>188941977</td>\n      <td>Sainsbury</td>\n      <td>XS1139087933</td>\n      <td>B019KW7</td>\n      <td>GBP</td>\n    </tr>\n    <tr>\n      <th>4</th>\n      <td>Portfolio-X</td>\n      <td>24/11/2018</td>\n      <td>MS</td>\n      <td>USD</td>\n      <td>95421</td>\n      <td>230.96</td>\n      <td>22038434</td>\n      <td>22038434</td>\n      <td>Tesla Inc</td>\n      <td>US88160R1014</td>\n      <td>BSJC712</td>\n      <td>USD</td>\n    </tr>\n  </tbody>\n</table>\n</div>"
     },
     "metadata": {},
     "output_type": "execute_result",
     "execution_count": 10
    }
   ],
   "source": [
    "holdings_file = positions_file.copy(deep=True)\n",
    "holdings_file"
   ]
  },
  {
   "cell_type": "markdown",
   "metadata": {},
   "source": [
    "## b) Apply data transformations specific to your data"
   ]
  },
  {
   "cell_type": "code",
   "execution_count": 11,
   "metadata": {
    "pycharm": {
     "is_executing": false
    }
   },
   "outputs": [
    {
     "data": {
      "text/plain": "      FundCode Effective Date Prime Broker Local Currency Code  Quantity  \\\n0  Portfolio-Z     02/07/2019          UBS                 GBP      2500   \n1  Portfolio-Z     01/01/2019         CITI                 USD     10000   \n2  Portfolio-Z     01/12/2018          UBS                 USD     26598   \n3  Portfolio-X     05/02/2019         BAML                 GBp    942354   \n4  Portfolio-X     24/11/2018           MS                 USD     95421   \n\n   Local Price  Local Market Value  Base Market Value  \\\n0        56.76              141900             141900   \n1       208.40             2084000            2084000   \n2      1989.50            52916721           52916721   \n3       200.50           188941977          188941977   \n4       230.96            22038434           22038434   \n\n       Security Description ISIN Security Identifier  \\\n0  Lloyds Banking Group PLC             GB0008706128   \n1                 Apple Inc             US0378331005   \n2                    Amazon             US0231351067   \n3                 Sainsbury            XS1139087933    \n4                 Tesla Inc             US88160R1014   \n\n  SEDOL Security Identifier Buy_Currency  is_cash_with_currency  \n0                    870612          GBP                    nan  \n1                  0865985           USD                    nan  \n2                    906866          USD                    nan  \n3                   B019KW7          GBP                    nan  \n4                   BSJC712          USD                    nan  ",
      "text/html": "<div>\n<style scoped>\n    .dataframe tbody tr th:only-of-type {\n        vertical-align: middle;\n    }\n\n    .dataframe tbody tr th {\n        vertical-align: top;\n    }\n\n    .dataframe thead th {\n        text-align: right;\n    }\n</style>\n<table border=\"1\" class=\"dataframe\">\n  <thead>\n    <tr style=\"text-align: right;\">\n      <th></th>\n      <th>FundCode</th>\n      <th>Effective Date</th>\n      <th>Prime Broker</th>\n      <th>Local Currency Code</th>\n      <th>Quantity</th>\n      <th>Local Price</th>\n      <th>Local Market Value</th>\n      <th>Base Market Value</th>\n      <th>Security Description</th>\n      <th>ISIN Security Identifier</th>\n      <th>SEDOL Security Identifier</th>\n      <th>Buy_Currency</th>\n      <th>is_cash_with_currency</th>\n    </tr>\n  </thead>\n  <tbody>\n    <tr>\n      <th>0</th>\n      <td>Portfolio-Z</td>\n      <td>02/07/2019</td>\n      <td>UBS</td>\n      <td>GBP</td>\n      <td>2500</td>\n      <td>56.76</td>\n      <td>141900</td>\n      <td>141900</td>\n      <td>Lloyds Banking Group PLC</td>\n      <td>GB0008706128</td>\n      <td>870612</td>\n      <td>GBP</td>\n      <td>nan</td>\n    </tr>\n    <tr>\n      <th>1</th>\n      <td>Portfolio-Z</td>\n      <td>01/01/2019</td>\n      <td>CITI</td>\n      <td>USD</td>\n      <td>10000</td>\n      <td>208.40</td>\n      <td>2084000</td>\n      <td>2084000</td>\n      <td>Apple Inc</td>\n      <td>US0378331005</td>\n      <td>0865985</td>\n      <td>USD</td>\n      <td>nan</td>\n    </tr>\n    <tr>\n      <th>2</th>\n      <td>Portfolio-Z</td>\n      <td>01/12/2018</td>\n      <td>UBS</td>\n      <td>USD</td>\n      <td>26598</td>\n      <td>1989.50</td>\n      <td>52916721</td>\n      <td>52916721</td>\n      <td>Amazon</td>\n      <td>US0231351067</td>\n      <td>906866</td>\n      <td>USD</td>\n      <td>nan</td>\n    </tr>\n    <tr>\n      <th>3</th>\n      <td>Portfolio-X</td>\n      <td>05/02/2019</td>\n      <td>BAML</td>\n      <td>GBp</td>\n      <td>942354</td>\n      <td>200.50</td>\n      <td>188941977</td>\n      <td>188941977</td>\n      <td>Sainsbury</td>\n      <td>XS1139087933</td>\n      <td>B019KW7</td>\n      <td>GBP</td>\n      <td>nan</td>\n    </tr>\n    <tr>\n      <th>4</th>\n      <td>Portfolio-X</td>\n      <td>24/11/2018</td>\n      <td>MS</td>\n      <td>USD</td>\n      <td>95421</td>\n      <td>230.96</td>\n      <td>22038434</td>\n      <td>22038434</td>\n      <td>Tesla Inc</td>\n      <td>US88160R1014</td>\n      <td>BSJC712</td>\n      <td>USD</td>\n      <td>nan</td>\n    </tr>\n  </tbody>\n</table>\n</div>"
     },
     "metadata": {},
     "output_type": "execute_result",
     "execution_count": 11
    }
   ],
   "source": [
    "holdings_file['is_cash_with_currency'] = np.NaN\n",
    "holdings_file['Local Currency Code'] = holdings_file['Local Currency Code'].apply(\n",
    "    lambda x: \"GBp\" if x == \"GBX\" else x)\n",
    "holdings_file.head()"
   ]
  },
  {
   "cell_type": "markdown",
   "metadata": {},
   "source": [
    "## c) Set your holdings field mapping"
   ]
  },
  {
   "cell_type": "code",
   "execution_count": 12,
   "metadata": {
    "pycharm": {
     "is_executing": false
    }
   },
   "outputs": [],
   "source": [
    "holding_mapping_required = {\n",
    "  'portfolio_code': 'FundCode',\n",
    "  'effective_date': 'Effective Date',\n",
    "  'tax_lots.units': 'Quantity'\n",
    "}\n",
    "\n",
    "holding_identifier_mapping = {\n",
    "  'identifier_mapping': {\n",
    "      'Isin': 'ISIN Security Identifier',\n",
    "      'Sedol': 'SEDOL Security Identifier'\n",
    "  },\n",
    "  'is_cash_with_currency': 'is_cash_with_currency'\n",
    "}\n",
    "\n",
    "holding_mapping_optional= {\n",
    "  'tax_lots.cost.amount': None,\n",
    "  'tax_lots.cost.currency': \"Local Currency Code\",\n",
    "  'tax_lots.portfolio_cost': None,\n",
    "  'tax_lots.price': None,\n",
    "  'tax_lots.purchase_date': None,\n",
    "  'tax_lots.settlement_date': None\n",
    "}"
   ]
  },
  {
   "cell_type": "markdown",
   "metadata": {},
   "source": [
    "## d) Resolve to your instrument master"
   ]
  },
  {
   "cell_type": "code",
   "execution_count": 13,
   "metadata": {
    "pycharm": {
     "is_executing": false
    }
   },
   "outputs": [
    {
     "name": "stdout",
     "text": [
      "Up to row 0\n"
     ],
     "output_type": "stream"
    },
    {
     "data": {
      "text/plain": "False    3\nTrue     2\nName: resolvable, dtype: int64"
     },
     "metadata": {},
     "output_type": "execute_result",
     "execution_count": 13
    }
   ],
   "source": [
    "holdings_file = cocoon.resolve_instruments(\n",
    "    client=client,\n",
    "    data_frame=holdings_file,\n",
    "    identifier_mapping=holding_identifier_mapping)\n",
    "\n",
    "current_time = datetime.now(pytz.UTC)\n",
    "\n",
    "holdings_file.loc[\n",
    "    holdings_file['resolvable'] == False].to_csv(\n",
    "        './data/UnResolved{}-{}-{}-{}-{}-{}.csv'.format(\n",
    "            'Holdings',\n",
    "            current_time.year,\n",
    "            current_time.month,\n",
    "            current_time.day,\n",
    "            current_time.hour,\n",
    "            current_time.minute))\n",
    "\n",
    "holdings_file['resolvable'].value_counts()"
   ]
  },
  {
   "cell_type": "markdown",
   "metadata": {},
   "source": [
    "## e) Add your holdings"
   ]
  },
  {
   "cell_type": "code",
   "execution_count": 14,
   "metadata": {
    "pycharm": {
     "is_executing": false
    }
   },
   "outputs": [
    {
     "name": "stdout",
     "text": [
      "data types don't match for column is_cash_with_currency it is string in LUSID and float64 in file\nUpdated is_cash_with_currency to object\n",
      "Check for missing holding properties complete\n",
      "\n\n\u001b[1mHoldings Successfully Adjusted for Portfolio\u001b[0m\n\u001b[1mScope: \u001b[0mmy_test_scope_10\n\u001b[1mCode: \u001b[0mPortfolio-Z\n\u001b[1mAdjusted Holdings Effective From: \u001b[0m2019-02-07 00:00:00+00:00\n\u001b[1mAdjusted Holdings Created On: \u001b[0m2019-08-21 19:00:02.883282+00:00\n\n",
      "data types don't match for column is_cash_with_currency it is string in LUSID and float64 in file\nUpdated is_cash_with_currency to object\n",
      "Check for missing holding properties complete\n",
      "\n\n\u001b[1mHoldings Successfully Adjusted for Portfolio\u001b[0m\n\u001b[1mScope: \u001b[0mmy_test_scope_10\n\u001b[1mCode: \u001b[0mPortfolio-X\n\u001b[1mAdjusted Holdings Effective From: \u001b[0m2018-11-24 00:00:00+00:00\n\u001b[1mAdjusted Holdings Created On: \u001b[0m2019-08-21 19:00:05.427009+00:00\n\n"
     ],
     "output_type": "stream"
    },
    {
     "name": "stderr",
     "text": [
      "/Users/rizwan-fbn/finbourne/dev/github/sample-notebooks/examples/use-cases/cocoon.py:569: SettingWithCopyWarning: \nA value is trying to be set on a copy of a slice from a DataFrame.\nTry using .loc[row_indexer,col_indexer] = value instead\n\nSee the caveats in the documentation: http://pandas.pydata.org/pandas-docs/stable/user_guide/indexing.html#returning-a-view-versus-a-copy\n  data_type_update_map[data_type_lusid], copy=False)\n"
     ],
     "output_type": "stream"
    }
   ],
   "source": [
    "holdings_file = holdings_file.loc[holdings_file['resolvable'] == True]\n",
    "\n",
    "for effective_date in holdings_file['Effective Date'].unique():\n",
    "    \n",
    "    holdings_file_single_effective = holdings_file.loc[\n",
    "        holdings_file['Effective Date'] == effective_date]\n",
    "\n",
    "    responses = cocoon.load_file_multiple_portfolios(\n",
    "        client=client, \n",
    "        scope=scope, \n",
    "        data_frame=holdings_file_single_effective,\n",
    "        mapping_required=holding_mapping_required, \n",
    "        mapping_optional=holding_mapping_optional,\n",
    "        source='Client',\n",
    "        file_type='holding')\n",
    "    \n",
    "    for portfolio_code, response in responses.items():\n",
    "        print ('\\n')\n",
    "        prettyprint.adjust_holdings_response(response, scope, portfolio_code)"
   ]
  },
  {
   "cell_type": "code",
   "execution_count": 15,
   "metadata": {
    "pycharm": {
     "is_executing": false
    }
   },
   "outputs": [
    {
     "data": {
      "text/plain": "  _instrument_uid _holding_type   _units  _settled_units _transaction  \\\n0   LUID_4971BDKN             P 95421.00        95421.00         None   \n\n  discriminator  cost.amount cost.currency  cost_portfolio_ccy.amount  \\\n0          None         0.00           USD                       0.00   \n\n  Holding/my_test_scope_10/FundCode  ... Holding/my_test_scope_10/Quantity  \\\n0                       Portfolio-X  ...                          95421.00   \n\n  Holding/my_test_scope_10/LocalPrice  \\\n0                              230.96   \n\n  Holding/my_test_scope_10/LocalMarketValue  \\\n0                               22038434.00   \n\n   Holding/my_test_scope_10/BaseMarketValue  \\\n0                               22038434.00   \n\n   Holding/my_test_scope_10/SecurityDescription  \\\n0                                     Tesla Inc   \n\n   Holding/my_test_scope_10/ISINSecurityIdentifier  \\\n0                                     US88160R1014   \n\n   Holding/my_test_scope_10/SEDOLSecurityIdentifier  \\\n0                                           BSJC712   \n\n  Holding/my_test_scope_10/Buy_Currency  \\\n0                                   USD   \n\n  Holding/my_test_scope_10/is_cash_with_currency Instrument/default/Name  \n0                                             -1               Tesla Inc  \n\n[1 rows x 23 columns]",
      "text/html": "<div>\n<style scoped>\n    .dataframe tbody tr th:only-of-type {\n        vertical-align: middle;\n    }\n\n    .dataframe tbody tr th {\n        vertical-align: top;\n    }\n\n    .dataframe thead th {\n        text-align: right;\n    }\n</style>\n<table border=\"1\" class=\"dataframe\">\n  <thead>\n    <tr style=\"text-align: right;\">\n      <th></th>\n      <th>_instrument_uid</th>\n      <th>_holding_type</th>\n      <th>_units</th>\n      <th>_settled_units</th>\n      <th>_transaction</th>\n      <th>discriminator</th>\n      <th>cost.amount</th>\n      <th>cost.currency</th>\n      <th>cost_portfolio_ccy.amount</th>\n      <th>Holding/my_test_scope_10/FundCode</th>\n      <th>...</th>\n      <th>Holding/my_test_scope_10/Quantity</th>\n      <th>Holding/my_test_scope_10/LocalPrice</th>\n      <th>Holding/my_test_scope_10/LocalMarketValue</th>\n      <th>Holding/my_test_scope_10/BaseMarketValue</th>\n      <th>Holding/my_test_scope_10/SecurityDescription</th>\n      <th>Holding/my_test_scope_10/ISINSecurityIdentifier</th>\n      <th>Holding/my_test_scope_10/SEDOLSecurityIdentifier</th>\n      <th>Holding/my_test_scope_10/Buy_Currency</th>\n      <th>Holding/my_test_scope_10/is_cash_with_currency</th>\n      <th>Instrument/default/Name</th>\n    </tr>\n  </thead>\n  <tbody>\n    <tr>\n      <th>0</th>\n      <td>LUID_4971BDKN</td>\n      <td>P</td>\n      <td>95421.00</td>\n      <td>95421.00</td>\n      <td>None</td>\n      <td>None</td>\n      <td>0.00</td>\n      <td>USD</td>\n      <td>0.00</td>\n      <td>Portfolio-X</td>\n      <td>...</td>\n      <td>95421.00</td>\n      <td>230.96</td>\n      <td>22038434.00</td>\n      <td>22038434.00</td>\n      <td>Tesla Inc</td>\n      <td>US88160R1014</td>\n      <td>BSJC712</td>\n      <td>USD</td>\n      <td>-1</td>\n      <td>Tesla Inc</td>\n    </tr>\n  </tbody>\n</table>\n<p>1 rows × 23 columns</p>\n</div>"
     },
     "metadata": {},
     "output_type": "execute_result",
     "execution_count": 15
    }
   ],
   "source": [
    "response = client.transaction_portfolios.get_holdings(\n",
    "    scope=scope,\n",
    "    code=\"Portfolio-X\",\n",
    "    property_keys=[\"Instrument/default/Name\"])\n",
    "\n",
    "holdings = prettyprint.get_holdings_df(response)\n",
    "holdings"
   ]
  },
  {
   "cell_type": "code",
   "execution_count": 16,
   "metadata": {
    "pycharm": {
     "is_executing": false
    }
   },
   "outputs": [
    {
     "name": "stdout",
     "text": [
      "<class 'pandas.core.frame.DataFrame'>\nRangeIndex: 1 entries, 0 to 0\nData columns (total 23 columns):\n_instrument_uid                                     1 non-null object\n_holding_type                                       1 non-null object\n_units                                              1 non-null float64\n_settled_units                                      1 non-null float64\n_transaction                                        0 non-null object\ndiscriminator                                       0 non-null object\ncost.amount                                         1 non-null float64\ncost.currency                                       1 non-null object\ncost_portfolio_ccy.amount                           1 non-null float64\nHolding/my_test_scope_10/FundCode                   1 non-null object\nHolding/my_test_scope_10/EffectiveDate              1 non-null object\nHolding/my_test_scope_10/PrimeBroker                1 non-null object\nHolding/my_test_scope_10/LocalCurrencyCode          1 non-null object\nHolding/my_test_scope_10/Quantity                   1 non-null float64\nHolding/my_test_scope_10/LocalPrice                 1 non-null float64\nHolding/my_test_scope_10/LocalMarketValue           1 non-null float64\nHolding/my_test_scope_10/BaseMarketValue            1 non-null float64\nHolding/my_test_scope_10/SecurityDescription        1 non-null object\nHolding/my_test_scope_10/ISINSecurityIdentifier     1 non-null object\nHolding/my_test_scope_10/SEDOLSecurityIdentifier    1 non-null object\nHolding/my_test_scope_10/Buy_Currency               1 non-null object\nHolding/my_test_scope_10/is_cash_with_currency      1 non-null object\nInstrument/default/Name                             1 non-null object\ndtypes: float64(8), object(15)\nmemory usage: 312.0+ bytes\n"
     ],
     "output_type": "stream"
    }
   ],
   "source": [
    "holdings.info(verbose=True)"
   ]
  },
  {
   "cell_type": "markdown",
   "metadata": {},
   "source": [
    "# 4) Add your transactions"
   ]
  },
  {
   "cell_type": "markdown",
   "metadata": {},
   "source": [
    "## a) Import transactions data"
   ]
  },
  {
   "cell_type": "code",
   "execution_count": 17,
   "metadata": {
    "pycharm": {
     "is_executing": false
    }
   },
   "outputs": [
    {
     "data": {
      "text/plain": "      FundCode Effective Date Prime Broker Local Currency Code  Quantity  \\\n0  Portfolio-Z     02/07/2019          UBS                 GBP      2500   \n1  Portfolio-Z     01/01/2019         CITI                 USD     10000   \n2  Portfolio-Z     01/12/2018          UBS                 USD     26598   \n3  Portfolio-X     05/02/2019         BAML                 GBX    942354   \n4  Portfolio-X     24/11/2018           MS                 USD     95421   \n\n   Local Price  Local Market Value  Base Market Value  \\\n0        56.76              141900             141900   \n1       208.40             2084000            2084000   \n2      1989.50            52916721           52916721   \n3       200.50           188941977          188941977   \n4       230.96            22038434           22038434   \n\n       Security Description ISIN Security Identifier  \\\n0  Lloyds Banking Group PLC             GB0008706128   \n1                 Apple Inc             US0378331005   \n2                    Amazon             US0231351067   \n3                 Sainsbury            XS1139087933    \n4                 Tesla Inc             US88160R1014   \n\n  SEDOL Security Identifier Buy_Currency  \n0                    870612          GBP  \n1                  0865985           USD  \n2                    906866          USD  \n3                   B019KW7          GBP  \n4                   BSJC712          USD  ",
      "text/html": "<div>\n<style scoped>\n    .dataframe tbody tr th:only-of-type {\n        vertical-align: middle;\n    }\n\n    .dataframe tbody tr th {\n        vertical-align: top;\n    }\n\n    .dataframe thead th {\n        text-align: right;\n    }\n</style>\n<table border=\"1\" class=\"dataframe\">\n  <thead>\n    <tr style=\"text-align: right;\">\n      <th></th>\n      <th>FundCode</th>\n      <th>Effective Date</th>\n      <th>Prime Broker</th>\n      <th>Local Currency Code</th>\n      <th>Quantity</th>\n      <th>Local Price</th>\n      <th>Local Market Value</th>\n      <th>Base Market Value</th>\n      <th>Security Description</th>\n      <th>ISIN Security Identifier</th>\n      <th>SEDOL Security Identifier</th>\n      <th>Buy_Currency</th>\n    </tr>\n  </thead>\n  <tbody>\n    <tr>\n      <th>0</th>\n      <td>Portfolio-Z</td>\n      <td>02/07/2019</td>\n      <td>UBS</td>\n      <td>GBP</td>\n      <td>2500</td>\n      <td>56.76</td>\n      <td>141900</td>\n      <td>141900</td>\n      <td>Lloyds Banking Group PLC</td>\n      <td>GB0008706128</td>\n      <td>870612</td>\n      <td>GBP</td>\n    </tr>\n    <tr>\n      <th>1</th>\n      <td>Portfolio-Z</td>\n      <td>01/01/2019</td>\n      <td>CITI</td>\n      <td>USD</td>\n      <td>10000</td>\n      <td>208.40</td>\n      <td>2084000</td>\n      <td>2084000</td>\n      <td>Apple Inc</td>\n      <td>US0378331005</td>\n      <td>0865985</td>\n      <td>USD</td>\n    </tr>\n    <tr>\n      <th>2</th>\n      <td>Portfolio-Z</td>\n      <td>01/12/2018</td>\n      <td>UBS</td>\n      <td>USD</td>\n      <td>26598</td>\n      <td>1989.50</td>\n      <td>52916721</td>\n      <td>52916721</td>\n      <td>Amazon</td>\n      <td>US0231351067</td>\n      <td>906866</td>\n      <td>USD</td>\n    </tr>\n    <tr>\n      <th>3</th>\n      <td>Portfolio-X</td>\n      <td>05/02/2019</td>\n      <td>BAML</td>\n      <td>GBX</td>\n      <td>942354</td>\n      <td>200.50</td>\n      <td>188941977</td>\n      <td>188941977</td>\n      <td>Sainsbury</td>\n      <td>XS1139087933</td>\n      <td>B019KW7</td>\n      <td>GBP</td>\n    </tr>\n    <tr>\n      <th>4</th>\n      <td>Portfolio-X</td>\n      <td>24/11/2018</td>\n      <td>MS</td>\n      <td>USD</td>\n      <td>95421</td>\n      <td>230.96</td>\n      <td>22038434</td>\n      <td>22038434</td>\n      <td>Tesla Inc</td>\n      <td>US88160R1014</td>\n      <td>BSJC712</td>\n      <td>USD</td>\n    </tr>\n  </tbody>\n</table>\n</div>"
     },
     "metadata": {},
     "output_type": "execute_result",
     "execution_count": 17
    }
   ],
   "source": [
    "transactions_data = positions_file.copy(deep=True)\n",
    "transactions_data"
   ]
  },
  {
   "cell_type": "markdown",
   "metadata": {},
   "source": [
    "## b) Apply data transformations specific to your data"
   ]
  },
  {
   "cell_type": "code",
   "execution_count": 18,
   "metadata": {
    "pycharm": {
     "is_executing": false
    }
   },
   "outputs": [
    {
     "data": {
      "text/plain": "      FundCode            Effective Date Prime Broker Local Currency Code  \\\n0  Portfolio-Z 2019-07-02 00:00:00+00:00          UBS                 GBP   \n1  Portfolio-Z 2019-01-01 00:00:00+00:00         CITI                 USD   \n2  Portfolio-Z 2018-12-01 00:00:00+00:00          UBS                 USD   \n3  Portfolio-X 2019-02-05 00:00:00+00:00         BAML                 GBp   \n4  Portfolio-X 2018-11-24 00:00:00+00:00           MS                 USD   \n\n   Quantity  Local Price  Local Market Value  Base Market Value  \\\n0      2500        56.76              141900             141900   \n1     10000       208.40             2084000            2084000   \n2     26598      1989.50            52916721           52916721   \n3    942354       200.50           188941977          188941977   \n4     95421       230.96            22038434           22038434   \n\n       Security Description ISIN Security Identifier  \\\n0  Lloyds Banking Group PLC             GB0008706128   \n1                 Apple Inc             US0378331005   \n2                    Amazon             US0231351067   \n3                 Sainsbury            XS1139087933    \n4                 Tesla Inc             US88160R1014   \n\n  SEDOL Security Identifier Buy_Currency transaction_type  exchange_rate  \\\n0                    870612          GBP          FundsIn              1   \n1                  0865985           USD          FundsIn              1   \n2                    906866          USD          FundsIn              1   \n3                   B019KW7          GBP          FundsIn              1   \n4                   BSJC712          USD          FundsIn              1   \n\n   is_cash_with_currency                        transaction_id  \n0                    nan  e7120687-5759-4648-90bb-e2a89f460a08  \n1                    nan  81c1795a-8ec0-4460-9547-050dc95c8e81  \n2                    nan  be0e6092-6c0c-426d-a22f-57795cca4a05  \n3                    nan  19bac2d8-9be7-4977-a417-1b64780beea5  \n4                    nan  5aeb8d90-9cab-4165-91a0-3afceeb18516  ",
      "text/html": "<div>\n<style scoped>\n    .dataframe tbody tr th:only-of-type {\n        vertical-align: middle;\n    }\n\n    .dataframe tbody tr th {\n        vertical-align: top;\n    }\n\n    .dataframe thead th {\n        text-align: right;\n    }\n</style>\n<table border=\"1\" class=\"dataframe\">\n  <thead>\n    <tr style=\"text-align: right;\">\n      <th></th>\n      <th>FundCode</th>\n      <th>Effective Date</th>\n      <th>Prime Broker</th>\n      <th>Local Currency Code</th>\n      <th>Quantity</th>\n      <th>Local Price</th>\n      <th>Local Market Value</th>\n      <th>Base Market Value</th>\n      <th>Security Description</th>\n      <th>ISIN Security Identifier</th>\n      <th>SEDOL Security Identifier</th>\n      <th>Buy_Currency</th>\n      <th>transaction_type</th>\n      <th>exchange_rate</th>\n      <th>is_cash_with_currency</th>\n      <th>transaction_id</th>\n    </tr>\n  </thead>\n  <tbody>\n    <tr>\n      <th>0</th>\n      <td>Portfolio-Z</td>\n      <td>2019-07-02 00:00:00+00:00</td>\n      <td>UBS</td>\n      <td>GBP</td>\n      <td>2500</td>\n      <td>56.76</td>\n      <td>141900</td>\n      <td>141900</td>\n      <td>Lloyds Banking Group PLC</td>\n      <td>GB0008706128</td>\n      <td>870612</td>\n      <td>GBP</td>\n      <td>FundsIn</td>\n      <td>1</td>\n      <td>nan</td>\n      <td>e7120687-5759-4648-90bb-e2a89f460a08</td>\n    </tr>\n    <tr>\n      <th>1</th>\n      <td>Portfolio-Z</td>\n      <td>2019-01-01 00:00:00+00:00</td>\n      <td>CITI</td>\n      <td>USD</td>\n      <td>10000</td>\n      <td>208.40</td>\n      <td>2084000</td>\n      <td>2084000</td>\n      <td>Apple Inc</td>\n      <td>US0378331005</td>\n      <td>0865985</td>\n      <td>USD</td>\n      <td>FundsIn</td>\n      <td>1</td>\n      <td>nan</td>\n      <td>81c1795a-8ec0-4460-9547-050dc95c8e81</td>\n    </tr>\n    <tr>\n      <th>2</th>\n      <td>Portfolio-Z</td>\n      <td>2018-12-01 00:00:00+00:00</td>\n      <td>UBS</td>\n      <td>USD</td>\n      <td>26598</td>\n      <td>1989.50</td>\n      <td>52916721</td>\n      <td>52916721</td>\n      <td>Amazon</td>\n      <td>US0231351067</td>\n      <td>906866</td>\n      <td>USD</td>\n      <td>FundsIn</td>\n      <td>1</td>\n      <td>nan</td>\n      <td>be0e6092-6c0c-426d-a22f-57795cca4a05</td>\n    </tr>\n    <tr>\n      <th>3</th>\n      <td>Portfolio-X</td>\n      <td>2019-02-05 00:00:00+00:00</td>\n      <td>BAML</td>\n      <td>GBp</td>\n      <td>942354</td>\n      <td>200.50</td>\n      <td>188941977</td>\n      <td>188941977</td>\n      <td>Sainsbury</td>\n      <td>XS1139087933</td>\n      <td>B019KW7</td>\n      <td>GBP</td>\n      <td>FundsIn</td>\n      <td>1</td>\n      <td>nan</td>\n      <td>19bac2d8-9be7-4977-a417-1b64780beea5</td>\n    </tr>\n    <tr>\n      <th>4</th>\n      <td>Portfolio-X</td>\n      <td>2018-11-24 00:00:00+00:00</td>\n      <td>MS</td>\n      <td>USD</td>\n      <td>95421</td>\n      <td>230.96</td>\n      <td>22038434</td>\n      <td>22038434</td>\n      <td>Tesla Inc</td>\n      <td>US88160R1014</td>\n      <td>BSJC712</td>\n      <td>USD</td>\n      <td>FundsIn</td>\n      <td>1</td>\n      <td>nan</td>\n      <td>5aeb8d90-9cab-4165-91a0-3afceeb18516</td>\n    </tr>\n  </tbody>\n</table>\n</div>"
     },
     "metadata": {},
     "output_type": "execute_result",
     "execution_count": 18
    }
   ],
   "source": [
    "transactions_data['transaction_type'] = 'FundsIn'\n",
    "transactions_data['exchange_rate'] = 1\n",
    "transactions_data['is_cash_with_currency'] = np.NaN\n",
    "transactions_data['Local Currency Code'] = transactions_data['Local Currency Code'].apply(\n",
    "    lambda x: \"GBp\" if x == \"GBX\" else x)\n",
    "transactions_data['transaction_id'] = [str(uuid.uuid4()) for _ in range(len(transactions_data.index))]\n",
    "transactions_data['Effective Date'] = pd.to_datetime(\n",
    "    transactions_data['Effective Date'], format=\"%d/%m/%Y\").apply(lambda x: pytz.utc.localize(x))\n",
    "transactions_data.head()"
   ]
  },
  {
   "cell_type": "markdown",
   "metadata": {},
   "source": [
    "## c) Set your transactions field mapping"
   ]
  },
  {
   "cell_type": "code",
   "execution_count": 19,
   "metadata": {
    "pycharm": {
     "is_executing": false
    }
   },
   "outputs": [],
   "source": [
    "transaction_field_mapping_required = {\n",
    "    \"portfolio_code\": \"FundCode\",\n",
    "    \"transaction_id\": \"transaction_id\",\n",
    "    \"transaction_type\": 'transaction_type',\n",
    "    \"transaction_date\": 'Effective Date',\n",
    "    \"settlement_date\": 'Effective Date',\n",
    "    \"units\": \"Quantity\",\n",
    "    \"transaction_price.price\": \"Local Price\",\n",
    "    \"total_consideration.amount\": \"Local Market Value\",\n",
    "    \"total_consideration.currency\": \"Local Currency Code\",\n",
    "    \"transaction_currency\": \"Local Currency Code\"\n",
    "    }\n",
    "\n",
    "transaction_field_mapping_optional = {\n",
    "    \"exchange_rate\": \"exchange_rate\"\n",
    "}\n",
    "\n",
    "transaction_identifier_mapping = {\n",
    "  'identifier_mapping': {\n",
    "      'Isin': 'ISIN Security Identifier',\n",
    "      'Sedol': 'SEDOL Security Identifier'\n",
    "  },\n",
    "  'is_cash_with_currency': 'is_cash_with_currency'\n",
    "}"
   ]
  },
  {
   "cell_type": "markdown",
   "metadata": {},
   "source": [
    "## d) Resolve to your instrument master"
   ]
  },
  {
   "cell_type": "code",
   "execution_count": 20,
   "metadata": {
    "pycharm": {
     "is_executing": false
    }
   },
   "outputs": [
    {
     "name": "stdout",
     "text": [
      "Up to row 0\n"
     ],
     "output_type": "stream"
    },
    {
     "data": {
      "text/plain": "False    3\nTrue     2\nName: resolvable, dtype: int64"
     },
     "metadata": {},
     "output_type": "execute_result",
     "execution_count": 20
    }
   ],
   "source": [
    "transactions_data = cocoon.resolve_instruments(\n",
    "    client=client,\n",
    "    data_frame=transactions_data,\n",
    "    identifier_mapping=transaction_identifier_mapping)\n",
    "\n",
    "current_time = datetime.now(pytz.UTC)\n",
    "\n",
    "transactions_data.loc[\n",
    "    transactions_data['resolvable'] == False].to_csv(\n",
    "        './data/UnResolved{}-{}-{}-{}-{}-{}.csv'.format(\n",
    "            'Transactions',\n",
    "            current_time.year,\n",
    "            current_time.month,\n",
    "            current_time.day,\n",
    "            current_time.hour,\n",
    "            current_time.minute))\n",
    "\n",
    "transactions_data['resolvable'].value_counts()"
   ]
  },
  {
   "cell_type": "markdown",
   "metadata": {},
   "source": [
    "## e) Add your transactions"
   ]
  },
  {
   "cell_type": "code",
   "execution_count": 21,
   "metadata": {
    "pycharm": {
     "is_executing": false
    }
   },
   "outputs": [
    {
     "name": "stdout",
     "text": [
      "data types don't match for column is_cash_with_currency it is string in LUSID and float64 in file\nUpdated is_cash_with_currency to object\n",
      "Check for missing transaction properties complete\n",
      "\n\n\u001b[1mTransactions Successfully Upserted into Portfolio\u001b[0m\n\u001b[1mScope: \u001b[0mmy_test_scope_10\n\u001b[1mCode: \u001b[0mPortfolio-Z\n\u001b[1mTransactions Effective From: \u001b[0m2019-07-02 00:00:00+00:00\n\u001b[1mTransactions Created On: \u001b[0m2019-08-21 19:00:30.490366+00:00\n\n\n\n\u001b[1mTransactions Successfully Upserted into Portfolio\u001b[0m\n\u001b[1mScope: \u001b[0mmy_test_scope_10\n\u001b[1mCode: \u001b[0mPortfolio-X\n\u001b[1mTransactions Effective From: \u001b[0m2018-11-24 00:00:00+00:00\n\u001b[1mTransactions Created On: \u001b[0m2019-08-21 19:00:31.004227+00:00\n\n"
     ],
     "output_type": "stream"
    }
   ],
   "source": [
    "transactions_data = transactions_data.loc[transactions_data['resolvable'] == True]\n",
    "\n",
    "responses = cocoon.load_file_multiple_portfolios(\n",
    "    client=client, \n",
    "    scope=scope, \n",
    "    data_frame=transactions_data,\n",
    "    mapping_required=transaction_field_mapping_required, \n",
    "    mapping_optional=transaction_field_mapping_optional,\n",
    "    source='Client',\n",
    "    file_type='transaction')\n",
    "\n",
    "for portfolio_code, response in responses.items():\n",
    "    print ('\\n')\n",
    "    prettyprint.transactions_response(response, scope, portfolio_code)"
   ]
  },
  {
   "cell_type": "code",
   "execution_count": 22,
   "metadata": {
    "pycharm": {
     "is_executing": false
    }
   },
   "outputs": [
    {
     "data": {
      "text/plain": "  _instrument_uid _holding_type   _units  _settled_units _transaction  \\\n0   LUID_4971BDKN             P 95421.00        95421.00         None   \n\n  discriminator  cost.amount cost.currency  cost_portfolio_ccy.amount  \\\n0          None         0.00           USD                       0.00   \n\n  Holding/my_test_scope_10/FundCode  ... Holding/my_test_scope_10/Quantity  \\\n0                       Portfolio-X  ...                          95421.00   \n\n  Holding/my_test_scope_10/LocalPrice  \\\n0                              230.96   \n\n  Holding/my_test_scope_10/LocalMarketValue  \\\n0                               22038434.00   \n\n   Holding/my_test_scope_10/BaseMarketValue  \\\n0                               22038434.00   \n\n   Holding/my_test_scope_10/SecurityDescription  \\\n0                                     Tesla Inc   \n\n   Holding/my_test_scope_10/ISINSecurityIdentifier  \\\n0                                     US88160R1014   \n\n   Holding/my_test_scope_10/SEDOLSecurityIdentifier  \\\n0                                           BSJC712   \n\n  Holding/my_test_scope_10/Buy_Currency  \\\n0                                   USD   \n\n  Holding/my_test_scope_10/is_cash_with_currency Instrument/default/Name  \n0                                             -1               Tesla Inc  \n\n[1 rows x 23 columns]",
      "text/html": "<div>\n<style scoped>\n    .dataframe tbody tr th:only-of-type {\n        vertical-align: middle;\n    }\n\n    .dataframe tbody tr th {\n        vertical-align: top;\n    }\n\n    .dataframe thead th {\n        text-align: right;\n    }\n</style>\n<table border=\"1\" class=\"dataframe\">\n  <thead>\n    <tr style=\"text-align: right;\">\n      <th></th>\n      <th>_instrument_uid</th>\n      <th>_holding_type</th>\n      <th>_units</th>\n      <th>_settled_units</th>\n      <th>_transaction</th>\n      <th>discriminator</th>\n      <th>cost.amount</th>\n      <th>cost.currency</th>\n      <th>cost_portfolio_ccy.amount</th>\n      <th>Holding/my_test_scope_10/FundCode</th>\n      <th>...</th>\n      <th>Holding/my_test_scope_10/Quantity</th>\n      <th>Holding/my_test_scope_10/LocalPrice</th>\n      <th>Holding/my_test_scope_10/LocalMarketValue</th>\n      <th>Holding/my_test_scope_10/BaseMarketValue</th>\n      <th>Holding/my_test_scope_10/SecurityDescription</th>\n      <th>Holding/my_test_scope_10/ISINSecurityIdentifier</th>\n      <th>Holding/my_test_scope_10/SEDOLSecurityIdentifier</th>\n      <th>Holding/my_test_scope_10/Buy_Currency</th>\n      <th>Holding/my_test_scope_10/is_cash_with_currency</th>\n      <th>Instrument/default/Name</th>\n    </tr>\n  </thead>\n  <tbody>\n    <tr>\n      <th>0</th>\n      <td>LUID_4971BDKN</td>\n      <td>P</td>\n      <td>95421.00</td>\n      <td>95421.00</td>\n      <td>None</td>\n      <td>None</td>\n      <td>0.00</td>\n      <td>USD</td>\n      <td>0.00</td>\n      <td>Portfolio-X</td>\n      <td>...</td>\n      <td>95421.00</td>\n      <td>230.96</td>\n      <td>22038434.00</td>\n      <td>22038434.00</td>\n      <td>Tesla Inc</td>\n      <td>US88160R1014</td>\n      <td>BSJC712</td>\n      <td>USD</td>\n      <td>-1</td>\n      <td>Tesla Inc</td>\n    </tr>\n  </tbody>\n</table>\n<p>1 rows × 23 columns</p>\n</div>"
     },
     "metadata": {},
     "output_type": "execute_result",
     "execution_count": 22
    }
   ],
   "source": [
    "response = client.transaction_portfolios.get_holdings(\n",
    "    scope=scope,\n",
    "    code=\"Portfolio-X\",\n",
    "    property_keys=[\"Instrument/default/Name\"])\n",
    "\n",
    "holdings = prettyprint.get_holdings_df(response)\n",
    "holdings"
   ]
  }
 ],
 "metadata": {
  "kernelspec": {
   "display_name": "Python 3",
   "language": "python",
   "name": "python3"
  },
  "language_info": {
   "codemirror_mode": {
    "name": "ipython",
    "version": 3
   },
   "file_extension": ".py",
   "mimetype": "text/x-python",
   "name": "python",
   "nbconvert_exporter": "python",
   "pygments_lexer": "ipython3",
   "version": "3.7.3"
  }
 },
 "nbformat": 4,
 "nbformat_minor": 2
}