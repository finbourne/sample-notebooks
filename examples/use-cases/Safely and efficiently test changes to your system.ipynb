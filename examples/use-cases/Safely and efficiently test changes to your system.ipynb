{
 "cells": [
  {
   "cell_type": "markdown",
   "metadata": {},
   "source": [
    "## The Challenge"
   ]
  },
  {
   "cell_type": "markdown",
   "metadata": {},
   "source": [
    "You are an asset manager who has recently secured a contract to work with a new small pension fund. The pension fund has decided to switch from their incumbent asset manager on the advice of consultants. The transition is being handled by a transition manager and you have just received the transition accounts with the final confirmed holdings that will make up the initial portfolio for the fund.\n",
    "\n",
    "As part of the investment agreement with the pension fund they would like to make some changes to the way that they receive their reporting. They would also like to start investing in some exotic over the counter instruments which our internal systems do not support. Therefore in addition to setting up a production portfolio with the initial holdings, you will also need to create a test environment to model these changes without affecting the live environment."
   ]
  },
  {
   "cell_type": "markdown",
   "metadata": {},
   "source": [
    "## The Solution"
   ]
  },
  {
   "cell_type": "markdown",
   "metadata": {},
   "source": [
    "Using LUSID you can mirror your live investment environment into a different segregated scope. This will allow you to continue trading business as usual and driving the best possible performance for your client while simultaneously building and testing our improved reporting and support for more exotic instruments. You can do this by:\n",
    "\n",
    "1) Creating your live production environment for your new client\n",
    "\n",
    "2) Creating your instrument universe\n",
    "\n",
    "3) Adding your take on balances for your client in this live environment\n",
    "\n",
    "4) Creating your test environment and using derived portfolios to mirror your production environment\n",
    "\n",
    "5) Making some trades for your client in your production environment and check that they propogate to your test environment\n",
    "\n",
    "6) Adding some transactions to your test environment and ensuring that they do not affect the live environment"
   ]
  },
  {
   "cell_type": "markdown",
   "metadata": {},
   "source": [
    "First things first import the libraries that you need and authenticate your LUSID client.\n",
    "\n",
    "*Run the cell below to import the libraries and authenticate your LUSID client*"
   ]
  },
  {
   "cell_type": "code",
   "execution_count": 1,
   "metadata": {
    "pycharm": {
     "is_executing": false
    }
   },
   "outputs": [
    {
     "name": "stdout",
     "text": [
      "LUSID Environment Initialised\n",
      "LUSID API Version:  0.5.2933.0\n"
     ],
     "output_type": "stream"
    }
   ],
   "source": [
    "# Import LUSID\n",
    "import lusid\n",
    "import lusid.models as models\n",
    "import lusid_sample_data as import_data\n",
    "\n",
    "# Import Libraries\n",
    "import pprint\n",
    "from datetime import datetime, timedelta, time\n",
    "import pytz\n",
    "import printer as prettyprint\n",
    "import pandas as pd\n",
    "import uuid\n",
    "import json\n",
    "\n",
    "# Authenticate your user and create your API client\n",
    "api_factory = import_data.authenticate_secrets()\n",
    "\n",
    "print ('LUSID Environment Initialised')\n",
    "print ('LUSID API Version: ', api_factory.build(lusid.api.ApplicationMetadataApi).get_lusid_versions().build_version)"
   ]
  },
  {
   "cell_type": "markdown",
   "metadata": {},
   "source": [
    "![Initialise](img/simplechanges-lusidinit.gif)"
   ]
  },
  {
   "cell_type": "markdown",
   "metadata": {},
   "source": [
    "## 1) Create your Live Production Environment"
   ]
  },
  {
   "cell_type": "markdown",
   "metadata": {},
   "source": [
    "In LUSID you can segregate environments by making use of Scopes. Read more about scopes here [LUSID API Knowledge Base: Scopes](https://support.lusid.com/what-is-a-scope-in-lusid-and-how-is-it-used).\n",
    "\n",
    "Each scope has a unique code which is used to identify it. \n",
    "\n",
    "*Run the cell below to create a name for your production scope for your new client*"
   ]
  },
  {
   "cell_type": "code",
   "execution_count": 2,
   "metadata": {
    "pycharm": {
     "is_executing": false
    }
   },
   "outputs": [
    {
     "name": "stdout",
     "text": [
      "\u001b[1mProduction Scope: \u001b[0mproduction-client-3794-cfc0-5500-26\n"
     ],
     "output_type": "stream"
    }
   ],
   "source": [
    "# Generate a unique id for your scope\n",
    "client_account_id = import_data.create_scope_id()\n",
    "# Create a name for your scope\n",
    "production_scope_code = 'production-client-{}'.format(client_account_id)\n",
    "prettyprint.heading('Production Scope', production_scope_code)"
   ]
  },
  {
   "cell_type": "markdown",
   "metadata": {},
   "source": [
    "![Scopes](img/simplechanges-prodscope.gif)"
   ]
  },
  {
   "cell_type": "markdown",
   "metadata": {},
   "source": [
    "To manage your client's assets you will need to set up a portfolio for their fund. Read more about portfolios in LUSID here [LUSID API Knowledge Base: Portfolios](https://support.lusid.com/what-is-2).\n",
    "\n",
    "A portfolio lives within a given scope. Each portfolio also has a unique code. This allows you to uniquely identify a portfolio by the combination of its scope and its code. \n",
    "\n",
    "*Run the cell below to create a code for the portfolio which will hold your client's fund*"
   ]
  },
  {
   "cell_type": "code",
   "execution_count": 3,
   "metadata": {
    "pycharm": {
     "is_executing": false
    }
   },
   "outputs": [
    {
     "name": "stdout",
     "text": [
      "\u001b[1mPortfolio Code: \u001b[0mpension-fund-ae67\n"
     ],
     "output_type": "stream"
    }
   ],
   "source": [
    "portfolio_code = 'pension-fund-{}'.format(str(uuid.uuid4())[:4])\n",
    "prettyprint.heading('Portfolio Code', portfolio_code)"
   ]
  },
  {
   "cell_type": "markdown",
   "metadata": {},
   "source": [
    "Now that you have a code for your portfolio you can create it in LUSID. For further usage of the create portfolio API call refer to the [LUSID API Docs: Create Portfolio](https://docs.lusid.com/#operation/CreatePortfolio).\n",
    "\n",
    "Note that the official transer time from the previous asset manager to you was two days ago. You will therefore need to set the creation date of the portfolio to be two days previous. Read more about the importance of the creation date of a portfolio here [LUSID Knowledge Base: Portfolio Creation Date](https://support.lusid.com/importance-of-portfolio-creation-date).\n",
    "\n",
    "*Run the cell below to create your portfolio*"
   ]
  },
  {
   "cell_type": "code",
   "execution_count": 4,
   "metadata": {
    "pycharm": {
     "is_executing": false
    }
   },
   "outputs": [
    {
     "name": "stdout",
     "text": [
      "\u001b[1mPortfolio Created\u001b[0m\n\u001b[1mScope: \u001b[0mproduction-client-3794-cfc0-5500-26\n\u001b[1mCode: \u001b[0mpension-fund-ae67\n\u001b[1mPortfolio Effective From: \u001b[0m2019-07-28 08:12:55.564545+00:00\n\u001b[1mPortfolio Created On: \u001b[0m2019-07-30 08:12:55.724536+00:00\n\n"
     ],
     "output_type": "stream"
    }
   ],
   "source": [
    "# Set the official transfer time to be 2 days ago\n",
    "official_transfer_time = (datetime.now(pytz.UTC) - timedelta(days=2))\n",
    "\n",
    "# Build our request to create your portfolio\n",
    "request = models.CreateTransactionPortfolioRequest(\n",
    "    display_name='pension-fund',\n",
    "    description='Pension fund for new client',\n",
    "    code=portfolio_code,\n",
    "    created=official_transfer_time,\n",
    "    base_currency='GBP',\n",
    "    corporate_action_source_id=None,\n",
    "    accounting_method='AverageCost',\n",
    "    sub_holding_keys=None,\n",
    "    properties=None)\n",
    "\n",
    "# Call LUSID to create your portfolio\n",
    "response = api_factory.build(lusid.api.TransactionPortfoliosApi).create_portfolio(\n",
    "    scope=production_scope_code,\n",
    "    transaction_portfolio=request,\n",
    ")\n",
    "\n",
    "# Pretty print the response from LUSID\n",
    "prettyprint.portfolio_response(response)"
   ]
  },
  {
   "cell_type": "markdown",
   "metadata": {},
   "source": [
    "![Pension Fund Portfolio](img/simplechanges-pensionfund.gif)"
   ]
  },
  {
   "cell_type": "markdown",
   "metadata": {},
   "source": [
    "## 2) Create your Instrument Universe"
   ]
  },
  {
   "cell_type": "markdown",
   "metadata": {},
   "source": [
    "To take on your new client's assets you need to ensure that you have all the appropriate instruments loaded into your instrument universe. You can read more about instruments in LUSID here [LUSID Knowledge Base: Instruments](https://support.lusid.com/what-is-an-instrument). \n",
    "\n",
    "In this case you are going to load the instrumets into LUSID via a CSV that has been prepared for you by the transition manager. In reality you would maintain a comprehensive instrument universe and are likely to already have the instruments that this asset manager holds in your instrument master rendering this step unnecessary. \n",
    "\n",
    "*Run the cell below to import your instruents from our the CSV file*"
   ]
  },
  {
   "cell_type": "code",
   "execution_count": 5,
   "metadata": {
    "pycharm": {
     "is_executing": false
    }
   },
   "outputs": [
    {
     "data": {
      "text/plain": "                    instrument_name client_internal currency          isin  \\\n0                Amazon_Nasdaq_AMZN    imd_34634534      USD  US0231351067   \n1                 Apple_Nasdaq_AAPL    imd_35345345      USD  US0378331005   \n2               BP_LondonStockEx_BP    imd_43535553      GBP  GB0007980591   \n3  BurfordCapital_LondonStockEx_BUR    imd_43534356      GBP  GG00B4L84979   \n4  EKFDiagnostics_LondonStockEx_EKF    imd_34535355      GBP  GB0031509804   \n5       Glencore_LondonStockEx_GLEN    imd_34534555      GBP  JE00B4T3BW64   \n6          JustEat_LondonStockEx_JE    imd_35436366      GBP  GB00BKX5CN86   \n7      Kingfisher_LondonStockEx_KGF    imd_34535552      GBP  GB0033195214   \n8     MicroFocus_LondonStockEx_MCRO    imd_34567338      GBP  GB00BD8YWM01   \n9       RELXGroup_LondonStockEx_REL    imd_43532542      GBP  GB00B2B0DG97   \n\n           figi exchange_code          country_issue ticker market_sector  \\\n0  BBG000BVPXP1            UN  united_states_america   AMZN        equity   \n1  BBG000B9XVV8            UN  united_states_america   AAPL        equity   \n2  BBG000C05BD1            LN         united_kingdom    BP/        equity   \n3  BBG000PN88Q7            LN         united_kingdom    BUR        equity   \n4  BBG000BVNBN3            LN         united_kingdom    EKF        equity   \n5  BBG001MM1KV4            LN         united_kingdom   GLEN        equity   \n6  BBG0065YWM39            LN         united_kingdom    JE/        equity   \n7  BBG000BKH1W6            LN         united_kingdom    KGF        equity   \n8  BBG000G4KKD2            LN         united_kingdom   MCRO        equity   \n9  BBG000D03XD4            LN         united_kingdom    REL        equity   \n\n  security_type  coupon  \n0  common_stock     NaN  \n1  common_stock     NaN  \n2  common_stock     NaN  \n3  common_stock     NaN  \n4  common_stock     NaN  \n5  common_stock     NaN  \n6  common_stock     NaN  \n7  common_stock     NaN  \n8  common_stock     NaN  \n9  common_stock     NaN  ",
      "text/html": "<div>\n<style scoped>\n    .dataframe tbody tr th:only-of-type {\n        vertical-align: middle;\n    }\n\n    .dataframe tbody tr th {\n        vertical-align: top;\n    }\n\n    .dataframe thead th {\n        text-align: right;\n    }\n</style>\n<table border=\"1\" class=\"dataframe\">\n  <thead>\n    <tr style=\"text-align: right;\">\n      <th></th>\n      <th>instrument_name</th>\n      <th>client_internal</th>\n      <th>currency</th>\n      <th>isin</th>\n      <th>figi</th>\n      <th>exchange_code</th>\n      <th>country_issue</th>\n      <th>ticker</th>\n      <th>market_sector</th>\n      <th>security_type</th>\n      <th>coupon</th>\n    </tr>\n  </thead>\n  <tbody>\n    <tr>\n      <th>0</th>\n      <td>Amazon_Nasdaq_AMZN</td>\n      <td>imd_34634534</td>\n      <td>USD</td>\n      <td>US0231351067</td>\n      <td>BBG000BVPXP1</td>\n      <td>UN</td>\n      <td>united_states_america</td>\n      <td>AMZN</td>\n      <td>equity</td>\n      <td>common_stock</td>\n      <td>NaN</td>\n    </tr>\n    <tr>\n      <th>1</th>\n      <td>Apple_Nasdaq_AAPL</td>\n      <td>imd_35345345</td>\n      <td>USD</td>\n      <td>US0378331005</td>\n      <td>BBG000B9XVV8</td>\n      <td>UN</td>\n      <td>united_states_america</td>\n      <td>AAPL</td>\n      <td>equity</td>\n      <td>common_stock</td>\n      <td>NaN</td>\n    </tr>\n    <tr>\n      <th>2</th>\n      <td>BP_LondonStockEx_BP</td>\n      <td>imd_43535553</td>\n      <td>GBP</td>\n      <td>GB0007980591</td>\n      <td>BBG000C05BD1</td>\n      <td>LN</td>\n      <td>united_kingdom</td>\n      <td>BP/</td>\n      <td>equity</td>\n      <td>common_stock</td>\n      <td>NaN</td>\n    </tr>\n    <tr>\n      <th>3</th>\n      <td>BurfordCapital_LondonStockEx_BUR</td>\n      <td>imd_43534356</td>\n      <td>GBP</td>\n      <td>GG00B4L84979</td>\n      <td>BBG000PN88Q7</td>\n      <td>LN</td>\n      <td>united_kingdom</td>\n      <td>BUR</td>\n      <td>equity</td>\n      <td>common_stock</td>\n      <td>NaN</td>\n    </tr>\n    <tr>\n      <th>4</th>\n      <td>EKFDiagnostics_LondonStockEx_EKF</td>\n      <td>imd_34535355</td>\n      <td>GBP</td>\n      <td>GB0031509804</td>\n      <td>BBG000BVNBN3</td>\n      <td>LN</td>\n      <td>united_kingdom</td>\n      <td>EKF</td>\n      <td>equity</td>\n      <td>common_stock</td>\n      <td>NaN</td>\n    </tr>\n    <tr>\n      <th>5</th>\n      <td>Glencore_LondonStockEx_GLEN</td>\n      <td>imd_34534555</td>\n      <td>GBP</td>\n      <td>JE00B4T3BW64</td>\n      <td>BBG001MM1KV4</td>\n      <td>LN</td>\n      <td>united_kingdom</td>\n      <td>GLEN</td>\n      <td>equity</td>\n      <td>common_stock</td>\n      <td>NaN</td>\n    </tr>\n    <tr>\n      <th>6</th>\n      <td>JustEat_LondonStockEx_JE</td>\n      <td>imd_35436366</td>\n      <td>GBP</td>\n      <td>GB00BKX5CN86</td>\n      <td>BBG0065YWM39</td>\n      <td>LN</td>\n      <td>united_kingdom</td>\n      <td>JE/</td>\n      <td>equity</td>\n      <td>common_stock</td>\n      <td>NaN</td>\n    </tr>\n    <tr>\n      <th>7</th>\n      <td>Kingfisher_LondonStockEx_KGF</td>\n      <td>imd_34535552</td>\n      <td>GBP</td>\n      <td>GB0033195214</td>\n      <td>BBG000BKH1W6</td>\n      <td>LN</td>\n      <td>united_kingdom</td>\n      <td>KGF</td>\n      <td>equity</td>\n      <td>common_stock</td>\n      <td>NaN</td>\n    </tr>\n    <tr>\n      <th>8</th>\n      <td>MicroFocus_LondonStockEx_MCRO</td>\n      <td>imd_34567338</td>\n      <td>GBP</td>\n      <td>GB00BD8YWM01</td>\n      <td>BBG000G4KKD2</td>\n      <td>LN</td>\n      <td>united_kingdom</td>\n      <td>MCRO</td>\n      <td>equity</td>\n      <td>common_stock</td>\n      <td>NaN</td>\n    </tr>\n    <tr>\n      <th>9</th>\n      <td>RELXGroup_LondonStockEx_REL</td>\n      <td>imd_43532542</td>\n      <td>GBP</td>\n      <td>GB00B2B0DG97</td>\n      <td>BBG000D03XD4</td>\n      <td>LN</td>\n      <td>united_kingdom</td>\n      <td>REL</td>\n      <td>equity</td>\n      <td>common_stock</td>\n      <td>NaN</td>\n    </tr>\n  </tbody>\n</table>\n</div>"
     },
     "metadata": {},
     "output_type": "execute_result",
     "execution_count": 5
    }
   ],
   "source": [
    "# Import our instrument universe from a CSV file using Pandas\n",
    "instrument_universe = pd.read_csv('data/instruments.csv')\n",
    "# Look at the first 10 instruments\n",
    "instrument_universe.head(n=10)"
   ]
  },
  {
   "cell_type": "markdown",
   "metadata": {},
   "source": [
    "Now that you have imported the instruments you can upsert them into LUSID. Read more about upsert methods in LUSID here [LUSID Knoweldge Base: Upsert](https://support.lusid.com/upsert-command).\n",
    "\n",
    "For further usage of the upsert instruments API call refer to the [LUSID API Docs: Upsert Instruments](https://docs.lusid.com/#operation/UpsertInstruments).\n",
    "\n",
    "*Run the cell below to upsert your instruments into LUSID*"
   ]
  },
  {
   "cell_type": "code",
   "execution_count": 6,
   "metadata": {
    "pycharm": {
     "is_executing": false
    }
   },
   "outputs": [
    {
     "name": "stdout",
     "text": [
      "\u001b[1mInstrument Successfully Upserted: \u001b[0mTESCO_LondonStockEx_TSCO\n\u001b[1mFigi ID: \u001b[0mBBG000BF46Y8\n\u001b[1mLUSID Instrument ID: \u001b[0mLUID_TUA120IS\n\n\n\u001b[1mInstrument Successfully Upserted: \u001b[0mBP_LondonStockEx_BP\n\u001b[1mFigi ID: \u001b[0mBBG000C05BD1\n\u001b[1mLUSID Instrument ID: \u001b[0mLUID_DF1YWZBU\n\n\n\u001b[1mInstrument Successfully Upserted: \u001b[0mKingfisher_LondonStockEx_KGF\n\u001b[1mFigi ID: \u001b[0mBBG000BKH1W6\n\u001b[1mLUSID Instrument ID: \u001b[0mLUID_C266VXD8\n\n\n\u001b[1mInstrument Successfully Upserted: \u001b[0mWhitebread_LondonStockEx_WTB\n\u001b[1mFigi ID: \u001b[0mBBG000BRVH05\n\u001b[1mLUSID Instrument ID: \u001b[0mLUID_1X7PKBL7\n\n\n\u001b[1mInstrument Successfully Upserted: \u001b[0mWPP_LondonStockEx_WPP\n\u001b[1mFigi ID: \u001b[0mBBG000BF6B57\n\u001b[1mLUSID Instrument ID: \u001b[0mLUID_E6OCR2GD\n\n\n\u001b[1mInstrument Successfully Upserted: \u001b[0mUSTreasury_6.875_2025\n\u001b[1mFigi ID: \u001b[0mBBG000DQQNJ8\n\u001b[1mLUSID Instrument ID: \u001b[0mLUID_4UD6QX45\n\n\n\u001b[1mInstrument Successfully Upserted: \u001b[0mSage_LondonStockEx_SGE\n\u001b[1mFigi ID: \u001b[0mBBG000BN0PP3\n\u001b[1mLUSID Instrument ID: \u001b[0mLUID_WY858B7W\n\n\n\u001b[1mInstrument Successfully Upserted: \u001b[0mMicroFocus_LondonStockEx_MCRO\n\u001b[1mFigi ID: \u001b[0mBBG000G4KKD2\n\u001b[1mLUSID Instrument ID: \u001b[0mLUID_I7K3KO6G\n\n\n\u001b[1mInstrument Successfully Upserted: \u001b[0mRELXGroup_LondonStockEx_REL\n\u001b[1mFigi ID: \u001b[0mBBG000D03XD4\n\u001b[1mLUSID Instrument ID: \u001b[0mLUID_EBMEGNDA\n\n\n\u001b[1mInstrument Successfully Upserted: \u001b[0mUKGiltTreasury_4.5_2034\n\u001b[1mFigi ID: \u001b[0mBBG0000D14P3\n\u001b[1mLUSID Instrument ID: \u001b[0mLUID_J2KEFXPH\n\n\n\u001b[1mInstrument Successfully Upserted: \u001b[0mBurfordCapital_LondonStockEx_BUR\n\u001b[1mFigi ID: \u001b[0mBBG000PN88Q7\n\u001b[1mLUSID Instrument ID: \u001b[0mLUID_4KC2XJZR\n\n\n\u001b[1mInstrument Successfully Upserted: \u001b[0mEKFDiagnostics_LondonStockEx_EKF\n\u001b[1mFigi ID: \u001b[0mBBG000BVNBN3\n\u001b[1mLUSID Instrument ID: \u001b[0mLUID_0WUBU06S\n\n\n\u001b[1mInstrument Successfully Upserted: \u001b[0mUKGiltTreasury_3.75_2021\n\u001b[1mFigi ID: \u001b[0mBBG001KKJLR4\n\u001b[1mLUSID Instrument ID: \u001b[0mLUID_MYZJ0KBF\n\n\n\u001b[1mInstrument Successfully Upserted: \u001b[0mUKGiltTreasury_2.0_2025\n\u001b[1mFigi ID: \u001b[0mBBG0088JSC32\n\u001b[1mLUSID Instrument ID: \u001b[0mLUID_4L7X7CH9\n\n\n\u001b[1mInstrument Successfully Upserted: \u001b[0mAmazon_Nasdaq_AMZN\n\u001b[1mFigi ID: \u001b[0mBBG000BVPXP1\n\u001b[1mLUSID Instrument ID: \u001b[0mLUID_R6NK8EO9\n\n\n\u001b[1mInstrument Successfully Upserted: \u001b[0mUSTreasury_2.00_2021\n\u001b[1mFigi ID: \u001b[0mBBG00FN3B5K8\n\u001b[1mLUSID Instrument ID: \u001b[0mLUID_WU2CTGZD\n\n\n\u001b[1mInstrument Successfully Upserted: \u001b[0mUKGiltTreasury_3.5_2045\n\u001b[1mFigi ID: \u001b[0mBBG006N6HZM7\n\u001b[1mLUSID Instrument ID: \u001b[0mLUID_YY0NPTBP\n\n\n\u001b[1mInstrument Successfully Upserted: \u001b[0mGlencore_LondonStockEx_GLEN\n\u001b[1mFigi ID: \u001b[0mBBG001MM1KV4\n\u001b[1mLUSID Instrument ID: \u001b[0mLUID_3MFYPNGW\n\n\n\u001b[1mInstrument Successfully Upserted: \u001b[0mJustEat_LondonStockEx_JE\n\u001b[1mFigi ID: \u001b[0mBBG0065YWM39\n\u001b[1mLUSID Instrument ID: \u001b[0mLUID_RVY3RP6P\n\n\n\u001b[1mInstrument Successfully Upserted: \u001b[0mApple_Nasdaq_AAPL\n\u001b[1mFigi ID: \u001b[0mBBG000B9XVV8\n\u001b[1mLUSID Instrument ID: \u001b[0mLUID_R9RQE2QS\n\n\n20  instruments upserted successfully\n0  instrument upsert failures\n"
     ],
     "output_type": "stream"
    }
   ],
   "source": [
    "# Initialise your batch upsert request\n",
    "batch_upsert_request = {}\n",
    "# Iterate over your instrument universe\n",
    "for row, instrument in instrument_universe.iterrows():\n",
    "    \n",
    "    # Specify your identifier columns\n",
    "    identifier_columns = [\n",
    "        ('isin', 'Isin'), \n",
    "        ('figi', 'Figi'), \n",
    "        ('ticker', 'Ticker'),\n",
    "        ('client_internal', 'ClientInternal')\n",
    "    ]\n",
    "    \n",
    "    # Create your identifiers\n",
    "    identifiers = {}\n",
    "    for identifier in identifier_columns:\n",
    "        identifiers[identifier[1]] = models.InstrumentIdValue(\n",
    "            value=instrument[identifier[0]])\n",
    "    \n",
    "    # Add the instrument to your batch request\n",
    "    batch_upsert_request[instrument['instrument_name']] = models.InstrumentDefinition(\n",
    "        name=instrument['instrument_name'],\n",
    "        identifiers=identifiers)\n",
    "                                                                           \n",
    "# Call LUSID to upsert your batch\n",
    "instrument_response = api_factory.build(lusid.api.InstrumentsApi).upsert_instruments(\n",
    "    instruments=batch_upsert_request)\n",
    "\n",
    "# Pretty print the response from LUSID\n",
    "prettyprint.instrument_response(instrument_response, identifier='Figi')"
   ]
  },
  {
   "cell_type": "markdown",
   "metadata": {},
   "source": [
    "![Instrument Master](img/simplechanges-instrumentmaster.gif)"
   ]
  },
  {
   "cell_type": "markdown",
   "metadata": {},
   "source": [
    "## 3) Add your Take on Balances"
   ]
  },
  {
   "cell_type": "markdown",
   "metadata": {},
   "source": [
    "Now that you have populated your instrument universe you can take on the holdings that will make up the new client's fund.\n",
    "\n",
    "The details of these holdings have been sent to you by the transition manager in a CSV file. \n",
    "\n",
    "*Run the cell below to import your take on balances from the CSV file*"
   ]
  },
  {
   "cell_type": "code",
   "execution_count": 7,
   "metadata": {
    "pycharm": {
     "is_executing": false
    }
   },
   "outputs": [
    {
     "data": {
      "text/plain": "                instrument_name  quantity     price          figi  \\\n0         WPP_LondonStockEx_WPP   1050200    8.7100  BBG000BF6B57   \n1       UKGiltTreasury_3.5_2045    100674  129.9760  BBG006N6HZM7   \n2       UKGiltTreasury_2.0_2025    220456  106.4210  BBG0088JSC32   \n3       UKGiltTreasury_4.5_2034     97658  138.4660  BBG0000D14P3   \n4      UKGiltTreasury_3.75_2021    320568  108.1750  BBG001KKJLR4   \n5  Kingfisher_LondonStockEx_KGF   2879200    2.3940  BBG000BKH1W6   \n6      JustEat_LondonStockEx_JE   4789100    5.9780  BBG0065YWM39   \n7   RELXGroup_LondonStockEx_REL   6134800   16.5750  BBG000D03XD4   \n8      TESCO_LondonStockEx_TSCO  13456500    1.9365  BBG000BF46Y8   \n9  Whitebread_LondonStockEx_WTB   8954300    4.5690  BBG000BRVH05   \n\n  client_internal currency  \n0    imd_34536734      GBP  \n1    imd_54234532      GBP  \n2    imd_34534536      GBP  \n3    imd_34534534      GBP  \n4    imd_34643653      GBP  \n5    imd_34535552      GBP  \n6    imd_35436366      GBP  \n7    imd_43532542      GBP  \n8    imd_34634673      GBP  \n9    imd_35430090      GBP  ",
      "text/html": "<div>\n<style scoped>\n    .dataframe tbody tr th:only-of-type {\n        vertical-align: middle;\n    }\n\n    .dataframe tbody tr th {\n        vertical-align: top;\n    }\n\n    .dataframe thead th {\n        text-align: right;\n    }\n</style>\n<table border=\"1\" class=\"dataframe\">\n  <thead>\n    <tr style=\"text-align: right;\">\n      <th></th>\n      <th>instrument_name</th>\n      <th>quantity</th>\n      <th>price</th>\n      <th>figi</th>\n      <th>client_internal</th>\n      <th>currency</th>\n    </tr>\n  </thead>\n  <tbody>\n    <tr>\n      <th>0</th>\n      <td>WPP_LondonStockEx_WPP</td>\n      <td>1050200</td>\n      <td>8.7100</td>\n      <td>BBG000BF6B57</td>\n      <td>imd_34536734</td>\n      <td>GBP</td>\n    </tr>\n    <tr>\n      <th>1</th>\n      <td>UKGiltTreasury_3.5_2045</td>\n      <td>100674</td>\n      <td>129.9760</td>\n      <td>BBG006N6HZM7</td>\n      <td>imd_54234532</td>\n      <td>GBP</td>\n    </tr>\n    <tr>\n      <th>2</th>\n      <td>UKGiltTreasury_2.0_2025</td>\n      <td>220456</td>\n      <td>106.4210</td>\n      <td>BBG0088JSC32</td>\n      <td>imd_34534536</td>\n      <td>GBP</td>\n    </tr>\n    <tr>\n      <th>3</th>\n      <td>UKGiltTreasury_4.5_2034</td>\n      <td>97658</td>\n      <td>138.4660</td>\n      <td>BBG0000D14P3</td>\n      <td>imd_34534534</td>\n      <td>GBP</td>\n    </tr>\n    <tr>\n      <th>4</th>\n      <td>UKGiltTreasury_3.75_2021</td>\n      <td>320568</td>\n      <td>108.1750</td>\n      <td>BBG001KKJLR4</td>\n      <td>imd_34643653</td>\n      <td>GBP</td>\n    </tr>\n    <tr>\n      <th>5</th>\n      <td>Kingfisher_LondonStockEx_KGF</td>\n      <td>2879200</td>\n      <td>2.3940</td>\n      <td>BBG000BKH1W6</td>\n      <td>imd_34535552</td>\n      <td>GBP</td>\n    </tr>\n    <tr>\n      <th>6</th>\n      <td>JustEat_LondonStockEx_JE</td>\n      <td>4789100</td>\n      <td>5.9780</td>\n      <td>BBG0065YWM39</td>\n      <td>imd_35436366</td>\n      <td>GBP</td>\n    </tr>\n    <tr>\n      <th>7</th>\n      <td>RELXGroup_LondonStockEx_REL</td>\n      <td>6134800</td>\n      <td>16.5750</td>\n      <td>BBG000D03XD4</td>\n      <td>imd_43532542</td>\n      <td>GBP</td>\n    </tr>\n    <tr>\n      <th>8</th>\n      <td>TESCO_LondonStockEx_TSCO</td>\n      <td>13456500</td>\n      <td>1.9365</td>\n      <td>BBG000BF46Y8</td>\n      <td>imd_34634673</td>\n      <td>GBP</td>\n    </tr>\n    <tr>\n      <th>9</th>\n      <td>Whitebread_LondonStockEx_WTB</td>\n      <td>8954300</td>\n      <td>4.5690</td>\n      <td>BBG000BRVH05</td>\n      <td>imd_35430090</td>\n      <td>GBP</td>\n    </tr>\n  </tbody>\n</table>\n</div>"
     },
     "metadata": {},
     "output_type": "execute_result",
     "execution_count": 7
    }
   ],
   "source": [
    "holdings = pd.read_csv('data/simplechanges-holdings.csv')\n",
    "holdings.head(n=10)"
   ]
  },
  {
   "cell_type": "markdown",
   "metadata": {},
   "source": [
    "The official transfer took place 2 days ago. You therefore want to load your holdings into your portfolio to be effective from this date. \n",
    "\n",
    "For further usage of the set holdings API call refer to the [LUSID API Docs: Set Holdings](https://docs.lusid.com/#operation/SetHoldings)\n",
    "\n",
    "*Run the cell below to set the holdings on your client's portfolio*"
   ]
  },
  {
   "cell_type": "code",
   "execution_count": 8,
   "metadata": {
    "pycharm": {
     "is_executing": false
    }
   },
   "outputs": [
    {
     "name": "stdout",
     "text": [
      "\u001b[1mHoldings Successfully Set for Portfolio\u001b[0m\n\u001b[1mScope: \u001b[0mproduction-client-3794-cfc0-5500-26\n\u001b[1mCode: \u001b[0mpension-fund-ae67\n\u001b[1mHoldings Effective From: \u001b[0m2019-07-28 08:12:55.564545+00:00\n\u001b[1mHoldings Created On: \u001b[0m2019-07-30 08:13:07.454781+00:00\n\n"
     ],
     "output_type": "stream"
    }
   ],
   "source": [
    "# Initialise your holding adjustments list\n",
    "holding_adjustments = []\n",
    "\n",
    "# Create a holding adjustment for each instrument\n",
    "for index, holding in holdings.iterrows():\n",
    "\n",
    "    # Set the identifier based on whether the instrument is cash or not\n",
    "    if 'Cash' in holding['instrument_name']:\n",
    "        identifier_key = 'Instrument/default/Currency'\n",
    "        identifer = instrument_name.split('_')[0]\n",
    "    else:\n",
    "        identifier_key = 'Instrument/default/Figi'\n",
    "        identifier = holding['figi']\n",
    "\n",
    "    # Build your holding adjustment request and append it to your list\n",
    "    holding_adjustments.append(\n",
    "        models.AdjustHoldingRequest(\n",
    "            instrument_identifiers={\n",
    "                identifier_key: identifier},\n",
    "            tax_lots=[\n",
    "                models.TargetTaxLotRequest(\n",
    "                    units=holding['quantity'],\n",
    "                    cost=models.CurrencyAndAmount(\n",
    "                        amount=holding['quantity'] * holding['price'],\n",
    "                        currency=holding['currency']),\n",
    "                    portfolio_cost=holding['quantity'] * holding['price'],\n",
    "                    price=holding['price'])\n",
    "            ]\n",
    "        )\n",
    "    )\n",
    "    \n",
    "# Call LUSID to set the holdings on your portfolio\n",
    "response = api_factory.build(lusid.api.TransactionPortfoliosApi).set_holdings(\n",
    "    scope=production_scope_code,\n",
    "    code=portfolio_code,\n",
    "    effective_at=official_transfer_time,\n",
    "    holding_adjustments=holding_adjustments)\n",
    "\n",
    "# Pretty print the response from LUSID\n",
    "prettyprint.set_holdings_response(response, production_scope_code, portfolio_code)"
   ]
  },
  {
   "cell_type": "markdown",
   "metadata": {},
   "source": [
    "![Pension Fund Portfolio](img/simplechanges-productionholdings.gif)"
   ]
  },
  {
   "cell_type": "markdown",
   "metadata": {},
   "source": [
    "## 4) Create your Test Environment"
   ]
  },
  {
   "cell_type": "markdown",
   "metadata": {},
   "source": [
    "Now that you have created our portfolio in your live trading environment you need to create a test environment to work on building the improved reporting and instrument support that the client has requested. \n",
    "\n",
    "To do this you will create a new scope for testing purposes.\n",
    "\n",
    "*Run the cell below to create a unique code for your testing scope*"
   ]
  },
  {
   "cell_type": "code",
   "execution_count": 9,
   "metadata": {
    "pycharm": {
     "is_executing": false
    }
   },
   "outputs": [
    {
     "name": "stdout",
     "text": [
      "\u001b[1mTest Scope: \u001b[0mproduction-client-3794-cfc0-5500-26\n"
     ],
     "output_type": "stream"
    }
   ],
   "source": [
    "test_scope_code = 'test-client-{}'.format(client_account_id)\n",
    "prettyprint.heading('Test Scope', production_scope_code)"
   ]
  },
  {
   "cell_type": "markdown",
   "metadata": {},
   "source": [
    "![Test Scope](img/simplechanges-testscope.gif)"
   ]
  },
  {
   "cell_type": "markdown",
   "metadata": {},
   "source": [
    "You can now create a one-way-sync between your portfolio in your production environment and a new derived portfolio in your test environment. Read more about derived portfolios here [LUSID API Knowledge Base: Derived Portfolios](https://support.lusid.com/what-is-a-derived-portfolio-and-how-are-they-used).\n",
    "\n",
    "For further usage of the create derived portfolio API call refer to the [LUSID API Docs: Create a Derived Portfolio](https://docs.lusid.com/#operation/CreateDerivedPortfolio).\n",
    "\n",
    "*Run the cell below to create your derived portfolio in the test environment*"
   ]
  },
  {
   "cell_type": "code",
   "execution_count": 10,
   "metadata": {
    "pycharm": {
     "is_executing": false
    }
   },
   "outputs": [
    {
     "name": "stdout",
     "text": [
      "\u001b[1mPortfolio Created\u001b[0m\n\u001b[1mScope: \u001b[0mtest-client-3794-cfc0-5500-26\n\u001b[1mCode: \u001b[0mpension-fund-ae67\n\u001b[1mParent Portfolio Scope: \u001b[0mproduction-client-3794-cfc0-5500-26\n\u001b[1mParent Portfolio Code: \u001b[0mpension-fund-ae67\n\u001b[1mPortfolio Effective From: \u001b[0m2019-07-28 08:12:55.564545+00:00\n\u001b[1mPortfolio Created On: \u001b[0m2019-07-30 08:13:13.908034+00:00\n\n"
     ],
     "output_type": "stream"
    }
   ],
   "source": [
    "# Build your request to create our derived portfolio\n",
    "request = models.CreateDerivedTransactionPortfolioRequest(\n",
    "    display_name='pension-fund',\n",
    "    description='Pension fund for new client',\n",
    "    code=portfolio_code,\n",
    "    parent_portfolio_id=models.ResourceId(\n",
    "        scope=production_scope_code,\n",
    "        code=portfolio_code),\n",
    "    created=official_transfer_time)\n",
    "  \n",
    "# Call LUSID to create your derived portfolio\n",
    "response = api_factory.build(lusid.api.DerivedTransactionPortfoliosApi).create_derived_portfolio(\n",
    "    scope=test_scope_code,\n",
    "    portfolio=request)\n",
    "    \n",
    "# Pretty print the response from LUSID\n",
    "prettyprint.derived_portfolio_response(response)"
   ]
  },
  {
   "cell_type": "markdown",
   "metadata": {},
   "source": [
    "![Derived Portfolio](img/simplechanges-derivedportfolio.gif)"
   ]
  },
  {
   "cell_type": "markdown",
   "metadata": {},
   "source": [
    "You can check that the derived portfolio has inherited all of the holdings of the parent by retrieving the holdings from each of your portfolios and confirming that they are the same.\n",
    "\n",
    "For further usage of the get holdings API call refer to the [LUSID API Docs: Get Holdings](https://docs.lusid.com/#operation/GetHoldings).\n",
    "\n",
    "You can start by getting the holdings from our portfolio in the production scope.\n",
    "\n",
    "*Run the cell below to get the holdings from your portfolio in the production scope*"
   ]
  },
  {
   "cell_type": "code",
   "execution_count": 11,
   "metadata": {
    "pycharm": {
     "is_executing": false
    }
   },
   "outputs": [
    {
     "name": "stdout",
     "text": [
      "\u001b[1mHoldings for Portfolio\u001b[0m\n\u001b[1mScope: \u001b[0mproduction-client-3794-cfc0-5500-26\n\u001b[1mCode: \u001b[0mpension-fund-ae67\n\n\u001b[1mInstrument/default/Name: \u001b[0mWPP_LondonStockEx_WPP\n\u001b[1mUnits: \u001b[0m1050200.0\n\u001b[1mCost: \u001b[0m9147242.0\n\u001b[1mCurrency: \u001b[0mGBP\n\n\n\u001b[1mInstrument/default/Name: \u001b[0mUKGiltTreasury_3.5_2045\n\u001b[1mUnits: \u001b[0m100674.0\n\u001b[1mCost: \u001b[0m13085203.82\n\u001b[1mCurrency: \u001b[0mGBP\n\n\n\u001b[1mInstrument/default/Name: \u001b[0mUKGiltTreasury_2.0_2025\n\u001b[1mUnits: \u001b[0m220456.0\n\u001b[1mCost: \u001b[0m23461147.98\n\u001b[1mCurrency: \u001b[0mGBP\n\n\n\u001b[1mInstrument/default/Name: \u001b[0mUKGiltTreasury_4.5_2034\n\u001b[1mUnits: \u001b[0m97658.0\n\u001b[1mCost: \u001b[0m13522312.63\n\u001b[1mCurrency: \u001b[0mGBP\n\n\n\u001b[1mInstrument/default/Name: \u001b[0mUKGiltTreasury_3.75_2021\n\u001b[1mUnits: \u001b[0m320568.0\n\u001b[1mCost: \u001b[0m34677443.4\n\u001b[1mCurrency: \u001b[0mGBP\n\n\n\u001b[1mInstrument/default/Name: \u001b[0mKingfisher_LondonStockEx_KGF\n\u001b[1mUnits: \u001b[0m2879200.0\n\u001b[1mCost: \u001b[0m6892804.8\n\u001b[1mCurrency: \u001b[0mGBP\n\n\n\u001b[1mInstrument/default/Name: \u001b[0mJustEat_LondonStockEx_JE\n\u001b[1mUnits: \u001b[0m4789100.0\n\u001b[1mCost: \u001b[0m28629239.8\n\u001b[1mCurrency: \u001b[0mGBP\n\n\n\u001b[1mInstrument/default/Name: \u001b[0mRELXGroup_LondonStockEx_REL\n\u001b[1mUnits: \u001b[0m6134800.0\n\u001b[1mCost: \u001b[0m101684310.0\n\u001b[1mCurrency: \u001b[0mGBP\n\n\n\u001b[1mInstrument/default/Name: \u001b[0mTESCO_LondonStockEx_TSCO\n\u001b[1mUnits: \u001b[0m13456500.0\n\u001b[1mCost: \u001b[0m26058512.25\n\u001b[1mCurrency: \u001b[0mGBP\n\n\n\u001b[1mInstrument/default/Name: \u001b[0mWhitebread_LondonStockEx_WTB\n\u001b[1mUnits: \u001b[0m8954300.0\n\u001b[1mCost: \u001b[0m40912196.7\n\u001b[1mCurrency: \u001b[0mGBP\n\n\n"
     ],
     "output_type": "stream"
    }
   ],
   "source": [
    "# Call LUSID to get your holdings from the portfolio in producton\n",
    "response = api_factory.build(lusid.api.TransactionPortfoliosApi).get_holdings(\n",
    "    scope=production_scope_code,\n",
    "    code=portfolio_code,\n",
    "    effective_at=official_transfer_time,\n",
    "    property_keys=['Instrument/default/Name'])\n",
    "\n",
    "# Pretty print the response from LUSID\n",
    "prettyprint.holdings_response(response, production_scope_code, portfolio_code)"
   ]
  },
  {
   "cell_type": "markdown",
   "metadata": {},
   "source": [
    "![Derived Portfolio](img/simplechanges-prodholdings.gif)"
   ]
  },
  {
   "cell_type": "markdown",
   "metadata": {},
   "source": [
    "Now let's retrieve your holdings from the derived portfolio in the test scope.\n",
    "\n",
    "*Run the cell below to retrieve your holdings from the derived portfolio in the test scope*"
   ]
  },
  {
   "cell_type": "code",
   "execution_count": 12,
   "metadata": {
    "pycharm": {
     "is_executing": false
    }
   },
   "outputs": [
    {
     "name": "stdout",
     "text": [
      "\u001b[1mHoldings for Portfolio\u001b[0m\n\u001b[1mScope: \u001b[0mtest-client-3794-cfc0-5500-26\n\u001b[1mCode: \u001b[0mpension-fund-ae67\n\n\u001b[1mInstrument/default/Name: \u001b[0mWPP_LondonStockEx_WPP\n\u001b[1mUnits: \u001b[0m1050200.0\n\u001b[1mCost: \u001b[0m9147242.0\n\u001b[1mCurrency: \u001b[0mGBP\n\n\n\u001b[1mInstrument/default/Name: \u001b[0mUKGiltTreasury_3.5_2045\n\u001b[1mUnits: \u001b[0m100674.0\n\u001b[1mCost: \u001b[0m13085203.82\n\u001b[1mCurrency: \u001b[0mGBP\n\n\n\u001b[1mInstrument/default/Name: \u001b[0mUKGiltTreasury_2.0_2025\n\u001b[1mUnits: \u001b[0m220456.0\n\u001b[1mCost: \u001b[0m23461147.98\n\u001b[1mCurrency: \u001b[0mGBP\n\n\n\u001b[1mInstrument/default/Name: \u001b[0mUKGiltTreasury_4.5_2034\n\u001b[1mUnits: \u001b[0m97658.0\n\u001b[1mCost: \u001b[0m13522312.63\n\u001b[1mCurrency: \u001b[0mGBP\n\n\n\u001b[1mInstrument/default/Name: \u001b[0mUKGiltTreasury_3.75_2021\n\u001b[1mUnits: \u001b[0m320568.0\n\u001b[1mCost: \u001b[0m34677443.4\n\u001b[1mCurrency: \u001b[0mGBP\n\n\n\u001b[1mInstrument/default/Name: \u001b[0mKingfisher_LondonStockEx_KGF\n\u001b[1mUnits: \u001b[0m2879200.0\n\u001b[1mCost: \u001b[0m6892804.8\n\u001b[1mCurrency: \u001b[0mGBP\n\n\n\u001b[1mInstrument/default/Name: \u001b[0mJustEat_LondonStockEx_JE\n\u001b[1mUnits: \u001b[0m4789100.0\n\u001b[1mCost: \u001b[0m28629239.8\n\u001b[1mCurrency: \u001b[0mGBP\n\n\n\u001b[1mInstrument/default/Name: \u001b[0mRELXGroup_LondonStockEx_REL\n\u001b[1mUnits: \u001b[0m6134800.0\n\u001b[1mCost: \u001b[0m101684310.0\n\u001b[1mCurrency: \u001b[0mGBP\n\n\n\u001b[1mInstrument/default/Name: \u001b[0mTESCO_LondonStockEx_TSCO\n\u001b[1mUnits: \u001b[0m13456500.0\n\u001b[1mCost: \u001b[0m26058512.25\n\u001b[1mCurrency: \u001b[0mGBP\n\n\n\u001b[1mInstrument/default/Name: \u001b[0mWhitebread_LondonStockEx_WTB\n\u001b[1mUnits: \u001b[0m8954300.0\n\u001b[1mCost: \u001b[0m40912196.7\n\u001b[1mCurrency: \u001b[0mGBP\n\n\n"
     ],
     "output_type": "stream"
    }
   ],
   "source": [
    "# Call LUSID to get your holdings from the portfolio in the test environment\n",
    "response = api_factory.build(lusid.api.TransactionPortfoliosApi).get_holdings(\n",
    "    scope=test_scope_code,\n",
    "    code=portfolio_code,\n",
    "    effective_at=official_transfer_time,\n",
    "    property_keys=['Instrument/default/Name'])\n",
    "\n",
    "# Pretty print the response from LUSID\n",
    "prettyprint.holdings_response(response, test_scope_code, portfolio_code)"
   ]
  },
  {
   "cell_type": "markdown",
   "metadata": {},
   "source": [
    "![Derived Portfolio](img/simplechanges-testholdings.gif)"
   ]
  },
  {
   "cell_type": "markdown",
   "metadata": {},
   "source": [
    "## 5) Make some Live Trades in your Production Environment"
   ]
  },
  {
   "cell_type": "markdown",
   "metadata": {},
   "source": [
    "Even though you have just added the client's portfolio into LUSID you have already made some trades for your new client to ensure that you can outperform their previous manager. You can import these trades from a CSV file. Note that in practice these would ideally come from an order or execution management system. \n",
    "\n",
    "*Run the cell below to import our transactions*"
   ]
  },
  {
   "cell_type": "code",
   "execution_count": 13,
   "metadata": {
    "pycharm": {
     "is_executing": false
    }
   },
   "outputs": [
    {
     "data": {
      "text/plain": "                             transaction_id                instrument_uid  \\\n0  tid_35b77104-7c72-4515-af2b-d22bb45e6edd         WPP_LondonStockEx_WPP   \n1  tid_4f192c6a-e74b-464e-95c2-62a18b092bd8  Kingfisher_LondonStockEx_KGF   \n2  tid_3a95473f-1b4a-4652-8047-91624f3f0e19   Glencore_LondonStockEx_GLEN   \n\n   type    units  transaction_price transaction_currency          figi  \\\n0  Sell   410000             8.3720                  GBP  BBG000BF6B57   \n1  Sell  2879200             2.3630                  GBP  BBG000BKH1W6   \n2   Buy   669180             2.7385                  GBP  BBG001MM1KV4   \n\n  client_internal  \n0    imd_34536734  \n1    imd_34535552  \n2    imd_34534555  ",
      "text/html": "<div>\n<style scoped>\n    .dataframe tbody tr th:only-of-type {\n        vertical-align: middle;\n    }\n\n    .dataframe tbody tr th {\n        vertical-align: top;\n    }\n\n    .dataframe thead th {\n        text-align: right;\n    }\n</style>\n<table border=\"1\" class=\"dataframe\">\n  <thead>\n    <tr style=\"text-align: right;\">\n      <th></th>\n      <th>transaction_id</th>\n      <th>instrument_uid</th>\n      <th>type</th>\n      <th>units</th>\n      <th>transaction_price</th>\n      <th>transaction_currency</th>\n      <th>figi</th>\n      <th>client_internal</th>\n    </tr>\n  </thead>\n  <tbody>\n    <tr>\n      <th>0</th>\n      <td>tid_35b77104-7c72-4515-af2b-d22bb45e6edd</td>\n      <td>WPP_LondonStockEx_WPP</td>\n      <td>Sell</td>\n      <td>410000</td>\n      <td>8.3720</td>\n      <td>GBP</td>\n      <td>BBG000BF6B57</td>\n      <td>imd_34536734</td>\n    </tr>\n    <tr>\n      <th>1</th>\n      <td>tid_4f192c6a-e74b-464e-95c2-62a18b092bd8</td>\n      <td>Kingfisher_LondonStockEx_KGF</td>\n      <td>Sell</td>\n      <td>2879200</td>\n      <td>2.3630</td>\n      <td>GBP</td>\n      <td>BBG000BKH1W6</td>\n      <td>imd_34535552</td>\n    </tr>\n    <tr>\n      <th>2</th>\n      <td>tid_3a95473f-1b4a-4652-8047-91624f3f0e19</td>\n      <td>Glencore_LondonStockEx_GLEN</td>\n      <td>Buy</td>\n      <td>669180</td>\n      <td>2.7385</td>\n      <td>GBP</td>\n      <td>BBG001MM1KV4</td>\n      <td>imd_34534555</td>\n    </tr>\n  </tbody>\n</table>\n</div>"
     },
     "metadata": {},
     "output_type": "execute_result",
     "execution_count": 13
    }
   ],
   "source": [
    "transactions = pd.read_csv('data/simplechanges-transactions.csv')\n",
    "transactions.head()"
   ]
  },
  {
   "cell_type": "markdown",
   "metadata": {},
   "source": [
    "Now that you have imported your trades from yesterday you can add them to LUSID. Note that for simplicity all trades have the same transaction date and settlement date which you can see in the request below. Read more about transactions in LUSID here [LUSID Knowledge Base: Transactions](https://support.lusid.com/what-is-a-transaction). \n",
    "\n",
    "For further usage of the upsert transactions API call refer to the [LUSID API Docs: Upsert Transactions](https://docs.lusid.com/#operation/UpsertTransactions).\n",
    "\n",
    "*Run the cell below to upsert your trades into LUSID*"
   ]
  },
  {
   "cell_type": "code",
   "execution_count": 14,
   "metadata": {
    "pycharm": {
     "is_executing": false
    }
   },
   "outputs": [
    {
     "name": "stdout",
     "text": [
      "\u001b[1mTransactions Successfully Upserted into Portfolio\u001b[0m\n\u001b[1mScope: \u001b[0mproduction-client-3794-cfc0-5500-26\n\u001b[1mCode: \u001b[0mpension-fund-ae67\n\u001b[1mTransactions Effective From: \u001b[0m2019-07-29 08:13:25.639153+00:00\n\u001b[1mTransactions Created On: \u001b[0m2019-07-30 08:13:26.011724+00:00\n\n"
     ],
     "output_type": "stream"
    }
   ],
   "source": [
    "# Initialise a list to hold your requests\n",
    "requests = []\n",
    "\n",
    "yesterday = datetime.now(pytz.UTC)-timedelta(days=1)\n",
    "tomorrow = datetime.now(pytz.UTC)+timedelta(days=1)\n",
    "\n",
    "# Iterate over your transactions\n",
    "for index, transaction in transactions.iterrows():\n",
    "    \n",
    "    # Build your request and append it to your list\n",
    "    requests.append(\n",
    "        models.TransactionRequest(\n",
    "            transaction_id=transaction['transaction_id'],\n",
    "            type=transaction['type'],\n",
    "            instrument_identifiers={\n",
    "                'Instrument/default/Figi': transaction['figi']},\n",
    "            transaction_date=yesterday,\n",
    "            settlement_date=tomorrow,\n",
    "            units=transaction['units'],\n",
    "            transaction_price=models.TransactionPrice(\n",
    "                price=transaction['transaction_price'],\n",
    "                type='Price'),\n",
    "            total_consideration=models.CurrencyAndAmount(\n",
    "                amount=transaction['transaction_price'] * transaction['units'],\n",
    "                currency=transaction['transaction_currency']),\n",
    "            source='Client',\n",
    "            transaction_currency=transaction['transaction_currency']))\n",
    "\n",
    "# Call LUSID to upsert your transactions\n",
    "response = api_factory.build(lusid.api.TransactionPortfoliosApi).upsert_transactions(\n",
    "    scope=production_scope_code,\n",
    "    code=portfolio_code,\n",
    "    transactions=requests)\n",
    "\n",
    "# Pretty print the response from LUSID\n",
    "prettyprint.transactions_response(\n",
    "    response,\n",
    "    production_scope_code,\n",
    "    portfolio_code)"
   ]
  },
  {
   "cell_type": "markdown",
   "metadata": {},
   "source": [
    "As you have created a derived portfolio these trades will also appear in your test environment. You can check this by retrieving the transactions from your portfolio in the test environment. \n",
    "\n",
    "For further usage of the get transactions API call refer to the [LUSID API Docs: Get Transactions](https://docs.lusid.com/#operation/GetTransactions).\n",
    "\n",
    "*Run the cell below to get your transactions from the test environment*"
   ]
  },
  {
   "cell_type": "code",
   "execution_count": 15,
   "metadata": {
    "pycharm": {
     "is_executing": false
    }
   },
   "outputs": [
    {
     "name": "stdout",
     "text": [
      "\u001b[1mTransactions Retrieved from Portfolio\u001b[0m\n\u001b[1mScope: \u001b[0m test-client-3794-cfc0-5500-26\n\u001b[1mCode: \u001b[0m pension-fund-ae67 \n\nTransaction Id:  tid_35b77104-7c72-4515-af2b-d22bb45e6edd\nTransaction Type:  Sell\nUnits:  410000.0\nPrice:  8.372\nCurrency:  GBP\nInstrument/default/Name: {'key': 'Instrument/default/Name',\n 'value': {'label_value': 'WPP_LondonStockEx_WPP', 'metric_value': None}}\nTransaction Date:  2019-07-29 08:13:25.639153+00:00 \n\nTransaction Id:  tid_4f192c6a-e74b-464e-95c2-62a18b092bd8\nTransaction Type:  Sell\nUnits:  2879200.0\nPrice:  2.363\nCurrency:  GBP\nInstrument/default/Name: {'key': 'Instrument/default/Name',\n 'value': {'label_value': 'Kingfisher_LondonStockEx_KGF', 'metric_value': None}}\nTransaction Date:  2019-07-29 08:13:25.639153+00:00 \n\nTransaction Id:  tid_3a95473f-1b4a-4652-8047-91624f3f0e19\nTransaction Type:  Buy\nUnits:  669180.0\nPrice:  2.7385\nCurrency:  GBP\nInstrument/default/Name: {'key': 'Instrument/default/Name',\n 'value': {'label_value': 'Glencore_LondonStockEx_GLEN', 'metric_value': None}}\nTransaction Date:  2019-07-29 08:13:25.639153+00:00 \n\n"
     ],
     "output_type": "stream"
    }
   ],
   "source": [
    "# Call LUSID to get all transactions made yesterday\n",
    "response = api_factory.build(lusid.api.TransactionPortfoliosApi).get_transactions(\n",
    "    scope=test_scope_code,\n",
    "    code=portfolio_code,\n",
    "    from_transaction_date=yesterday,\n",
    "    to_transaction_date=yesterday,\n",
    "    property_keys=['Instrument/default/Name']\n",
    ")\n",
    "\n",
    "# Pretty print the response from LUSID\n",
    "prettyprint.get_transactions_response(\n",
    "    response, \n",
    "    test_scope_code, \n",
    "    portfolio_code, \n",
    "    property_keys=['Instrument/default/Name'])"
   ]
  },
  {
   "cell_type": "markdown",
   "metadata": {},
   "source": [
    "![Transactions Production Environment](img/simplechanges-transactionsprod.gif)"
   ]
  },
  {
   "cell_type": "markdown",
   "metadata": {},
   "source": [
    "## 6) Add some Test Transactions in your Test Environment"
   ]
  },
  {
   "cell_type": "markdown",
   "metadata": {},
   "source": [
    "You now want to add a transaction to your test environment so that your reporting team can test some new functionality on over the counter (OTC) contracts. You will import a overly simplified sample contract from a JSON file. \n",
    "\n",
    "*Run the cell below to import your simple OTC swap contract*"
   ]
  },
  {
   "cell_type": "code",
   "execution_count": 16,
   "metadata": {
    "pycharm": {
     "is_executing": false
    }
   },
   "outputs": [
    {
     "name": "stdout",
     "text": [
      "{'InternalContractId': 'irs_85678992',\n 'MaturityDate': '04/04/2025',\n 'StartDate': '03/04/2015',\n 'assetType': 'swap',\n 'flow conventions': 'GBP_6m_LIBOR',\n 'strike': 0.02234}\n"
     ],
     "output_type": "stream"
    }
   ],
   "source": [
    "# Import our simple over the counter swap contract from a JSON file\n",
    "simple_otc_swap_contract = open('data/interest_rate_swap.json').read()\n",
    "simple_otc_swap_contract = json.loads(simple_otc_swap_contract)\n",
    "# Pretty print our contract\n",
    "pprint.pprint(simple_otc_swap_contract)"
   ]
  },
  {
   "cell_type": "markdown",
   "metadata": {},
   "source": [
    "Now that you have loaded your contract you need to add it to the instrument master in LUSID. Read more about adding OTC instruments to LUSID here [LUSID Knowledge Base: Creating Bespoke Instruments](https://support.lusid.com/creating-bespoke-instruments).\n",
    "\n",
    "*Run the cell below to upsert your OTC contract into LUSID*"
   ]
  },
  {
   "cell_type": "code",
   "execution_count": 17,
   "metadata": {
    "pycharm": {
     "is_executing": false
    }
   },
   "outputs": [
    {
     "name": "stdout",
     "text": [
      "\u001b[1mInstrument Successfully Upserted: \u001b[0msimple_otc_swap_instrument\n\u001b[1mClientInternal ID: \u001b[0mirs_85678992\n\u001b[1mLUSID Instrument ID: \u001b[0mLUID_D4AY0P56\n\n\n1  instruments upserted successfully\n0  instrument upsert failures\n"
     ],
     "output_type": "stream"
    }
   ],
   "source": [
    "# Create the defintion for your instrument\n",
    "simple_otc_swap_instrument = models.InstrumentDefinition(\n",
    "    name=simple_otc_swap_contract['InternalContractId'],\n",
    "    identifiers={\n",
    "        'ClientInternal': models.InstrumentIdValue(\n",
    "            value=simple_otc_swap_contract['InternalContractId'])\n",
    "    },\n",
    "    definition=models.InstrumentEconomicDefinition(\n",
    "        instrument_format='json',\n",
    "        content=json.dumps(simple_otc_swap_contract)),\n",
    "    properties=None)\n",
    "\n",
    "# Call LUSID to upsert your OTC swap contract\n",
    "instrument_response = api_factory.build(lusid.api.InstrumentsApi).upsert_instruments(\n",
    "    instruments={'simple_otc_swap_instrument': simple_otc_swap_instrument})\n",
    "\n",
    "# Pretty print the response from LUSID\n",
    "prettyprint.instrument_response(instrument_response)"
   ]
  },
  {
   "cell_type": "markdown",
   "metadata": {},
   "source": [
    "Now that you have your OTC contract added to the LUSID instrument master you can book a trade against it on your derived portfolio in your test environment.\n",
    "\n",
    "*Run the cell below to upsert your OTC transaction into the derived portfolio*"
   ]
  },
  {
   "cell_type": "code",
   "execution_count": 18,
   "metadata": {
    "pycharm": {
     "is_executing": false
    }
   },
   "outputs": [
    {
     "name": "stdout",
     "text": [
      "\u001b[1mTransactions Successfully Upserted into Portfolio\u001b[0m\n\u001b[1mScope: \u001b[0mtest-client-3794-cfc0-5500-26\n\u001b[1mCode: \u001b[0mpension-fund-ae67\n\u001b[1mTransactions Effective From: \u001b[0m2019-08-01 08:13:41.345580+00:00\n\u001b[1mTransactions Created On: \u001b[0m2019-07-30 08:13:41.789389+00:00\n\n"
     ],
     "output_type": "stream"
    }
   ],
   "source": [
    "in_two_days = datetime.now(pytz.UTC)+timedelta(days=2)\n",
    "in_four_days = datetime.now(pytz.UTC)+timedelta(days=4)\n",
    "\n",
    "request = models.TransactionRequest(\n",
    "    transaction_id='tid_35b77104-7c72-4515-af2b-d22bb45e6eff',\n",
    "    type='Buy',\n",
    "    instrument_identifiers={\n",
    "        'Instrument/default/ClientInternal': simple_otc_swap_contract['InternalContractId']},\n",
    "    transaction_date=in_two_days,\n",
    "    settlement_date=in_four_days,\n",
    "    units=1,\n",
    "    transaction_price=models.TransactionPrice(\n",
    "        price=0,\n",
    "        type='Price'),\n",
    "    total_consideration=models.CurrencyAndAmount(\n",
    "        amount=0,\n",
    "        currency='GBP'),\n",
    "    source='Client',\n",
    "    transaction_currency='GBP')\n",
    "\n",
    "# Call LUSID to upsert your transactions\n",
    "response = api_factory.build(lusid.api.TransactionPortfoliosApi).upsert_transactions(\n",
    "    scope=test_scope_code,\n",
    "    code=portfolio_code,\n",
    "    transactions=[request])\n",
    "\n",
    "# Pretty print the response from LUSID\n",
    "prettyprint.transactions_response(response, test_scope_code, portfolio_code)"
   ]
  },
  {
   "cell_type": "markdown",
   "metadata": {},
   "source": [
    "Now you can ensure that adding this trade has not affected the production environment. \n",
    "\n",
    "*Run the cell below to check to see if any of the transactions can be found in the production environment*"
   ]
  },
  {
   "cell_type": "code",
   "execution_count": 19,
   "metadata": {
    "pycharm": {
     "is_executing": false
    }
   },
   "outputs": [
    {
     "name": "stdout",
     "text": [
      "\u001b[1mTransactions Retrieved from Portfolio\u001b[0m\n\u001b[1mScope: \u001b[0m production-client-3794-cfc0-5500-26\n\u001b[1mCode: \u001b[0m pension-fund-ae67 \n\n"
     ],
     "output_type": "stream"
    }
   ],
   "source": [
    "# Call LUSID to see if the transaction from the test environment propogated through\n",
    "response = api_factory.build(lusid.api.TransactionPortfoliosApi).get_transactions(\n",
    "    scope=production_scope_code,\n",
    "    code=portfolio_code,\n",
    "    from_transaction_date=in_two_days,\n",
    "    to_transaction_date=in_two_days,\n",
    "    property_keys=['Instrument/default/Name'])\n",
    "\n",
    "# Pretty print the response from LUSID\n",
    "prettyprint.get_transactions_response(\n",
    "    response, \n",
    "    production_scope_code, \n",
    "    portfolio_code,\n",
    "    ['Instrument/default/Name'])"
   ]
  },
  {
   "cell_type": "markdown",
   "metadata": {},
   "source": [
    "![Transactions Production Environment](img/simplechanges-transactionstest.gif)"
   ]
  },
  {
   "cell_type": "markdown",
   "metadata": {},
   "source": [
    "Now you have both a live environment and a test environment that are linked via a one-way sync. This ensures that any changes to the live environment and prevents you from having to worry about keeping the two in sync. In addition if you need to make any trades to your testing environment you can do this with the assurance that they will not affect your live trading environement. "
   ]
  }
 ],
 "metadata": {
  "kernelspec": {
   "display_name": "Python 3",
   "language": "python",
   "name": "python3"
  },
  "language_info": {
   "codemirror_mode": {
    "name": "ipython",
    "version": 3
   },
   "file_extension": ".py",
   "mimetype": "text/x-python",
   "name": "python",
   "nbconvert_exporter": "python",
   "pygments_lexer": "ipython3",
   "version": "3.6.6"
  },
  "pycharm": {
   "stem_cell": {
    "cell_type": "raw",
    "source": [],
    "metadata": {
     "collapsed": false
    }
   }
  }
 },
 "nbformat": 4,
 "nbformat_minor": 2
}