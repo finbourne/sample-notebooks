{
 "cells": [
  {
   "cell_type": "code",
   "execution_count": 1,
   "id": "16f37c25",
   "metadata": {},
   "outputs": [
    {
     "data": {
      "text/html": [
       "\n",
       "    <form action=\"javascript:code_toggle()\"><input type=\"submit\" id=\"toggleButton\" value=\"Toggle Docstring\"></form>\n",
       "    \n",
       "         <script>\n",
       "         function code_toggle() {\n",
       "             if ($('div.cell.code_cell.rendered.selected div.input').css('display')!='none'){\n",
       "                 $('div.cell.code_cell.rendered.selected div.input').hide();\n",
       "             } else {\n",
       "                 $('div.cell.code_cell.rendered.selected div.input').show();\n",
       "             }\n",
       "         }\n",
       "         </script>\n",
       "\n",
       "     "
      ],
      "text/plain": [
       "<IPython.core.display.HTML object>"
      ]
     },
     "metadata": {},
     "output_type": "display_data"
    }
   ],
   "source": [
    "from lusidtools.jupyter_tools import toggle_code\n",
    "\n",
    "\"\"\"Corporate Actions in LUSID\n",
    "\n",
    "Attributes\n",
    "----------\n",
    "Chart of Accounts\n",
    "Accounts\n",
    "Properties\n",
    "\"\"\"\n",
    "\n",
    "toggle_code(\"Toggle Docstring\")"
   ]
  },
  {
   "cell_type": "markdown",
   "id": "c2afe954",
   "metadata": {},
   "source": [
    "# Create and Setup Chart of Accounts and General Ledger Accounts"
   ]
  },
  {
   "cell_type": "markdown",
   "id": "4a11915c",
   "metadata": {},
   "source": [
    "This notebook demonstrates how to create multiple Charts of Accounts and multiple General Ledger Accounts to populate them with from data in an excel file.\n",
    "\n",
    "#### In this notebook:\n",
    "- We create example [properties](https://support.lusid.com/knowledgebase/article/KA-01855/en-us) for both the ChartOfAccounts and Account domains.  \n",
    "- We create 3 Charts of Accounts from an example data sheet.\n",
    "- We update the properties of these Charts of Accounts from another example data sheet.\n",
    "- We create multiple General Ledger accounts from an example data sheet and link to the 3 Charts of Accounts created.\n",
    "- We update the properties of a selection of these General Ledger Accounts from an example data sheet.\n",
    "\n",
    "#### Required Licences: \n",
    "- lusid-abor-all-status-access\n",
    "- lusid-website-feature-fundaccounting\n",
    "\n",
    "### Table of contents\n",
    "* [Setup](#setup)\n",
    "* [1. Load Data](#load-data)\n",
    "* [2. Create Properties](#create-properties)\n",
    "* [3. Chart of Accounts](#chart-of-accounts)\n",
    "* [4. Accounts](#accounts)\n",
    "* [5. Read From LUSID](#read-from-lusid)"
   ]
  },
  {
   "cell_type": "markdown",
   "id": "e2de73d1",
   "metadata": {},
   "source": [
    "## Setup<a name = \"setup\"></a>"
   ]
  },
  {
   "cell_type": "code",
   "execution_count": 2,
   "id": "137018c3",
   "metadata": {},
   "outputs": [],
   "source": [
    "# Import lusid specific packages\n",
    "# These are the core lusid packages for interacting with the API via Python\n",
    "import lusid\n",
    "import lusid.models as models\n",
    "import fbnsdkutilities.utilities as utils\n",
    "\n",
    "from lusidjam.refreshing_token import RefreshingToken\n",
    "from lusidtools.pandas_utils.lusid_pandas import lusid_response_to_data_frame\n",
    "\n",
    "import pandas as pd\n",
    "import json\n",
    "import os\n",
    "\n",
    "pd.set_option(\"display.max_columns\", None)\n",
    "\n",
    "# Authenticate our user and create our API client\n",
    "secrets_path = os.getenv(\"FBN_SECRETS_PATH\")\n",
    "\n",
    "# Initiate an API Factory which is the client side object for interacting with LUSID APIs\n",
    "lusid_api_factory = utils.ApiClientFactory(\n",
    "    lusid,\n",
    "    token=RefreshingToken(),\n",
    "    api_secrets_filename=secrets_path,\n",
    "    app_name=\"LusidJupyterNotebook\",\n",
    ")"
   ]
  },
  {
   "cell_type": "code",
   "execution_count": 3,
   "id": "fcf16e91",
   "metadata": {},
   "outputs": [],
   "source": [
    "# Define the apis\n",
    "coa_api = lusid_api_factory.build(lusid.ChartOfAccountsApi)\n",
    "property_definitions_api = lusid_api_factory.build(lusid.PropertyDefinitionsApi)"
   ]
  },
  {
   "cell_type": "markdown",
   "id": "4ca4b18e",
   "metadata": {},
   "source": [
    "## 1. Load Data <a name = \"load-data\"></a>"
   ]
  },
  {
   "cell_type": "markdown",
   "id": "7d275c3f",
   "metadata": {},
   "source": [
    "Load data from an excel workbook from the following 4 tabs:\n",
    "\n",
    "- Chart Of Accounts\n",
    "- Chart Of Accounts Properties\n",
    "- Accounts\n",
    "- Accounts Properties"
   ]
  },
  {
   "cell_type": "code",
   "execution_count": 4,
   "id": "92f9d2ae",
   "metadata": {},
   "outputs": [],
   "source": [
    "# Chart of Accounts DF column data types\n",
    "coa_df_columns = {\n",
    "            \"Scope\": str,\n",
    "            \"Code\": str,\n",
    "            \"Name\": str,\n",
    "            \"Description\": str,\n",
    "            \"LocalCountryReference\": str\n",
    "    }\n",
    "\n",
    "# Chart of Accounts Properties DF column data types\n",
    "coa_p_df_columns = {\n",
    "            \"Scope\": str,\n",
    "            \"Code\": str,\n",
    "            \"Key\": str,\n",
    "            \"Value\": str\n",
    "    }\n",
    "\n",
    "\n",
    "# Accounts DF column data types\n",
    "a_df_columns = {\n",
    "            \"COA Scope\": str,\n",
    "            \"COA Code\": str,\n",
    "            \"Code\": str,\n",
    "            \"Description\": str,\n",
    "            \"Type\": str,\n",
    "            \"Status\": str,\n",
    "            \"Control\": str,\n",
    "            \"DescriptionOverrides\": str\n",
    "    }\n",
    "\n",
    "# Accounts Properties DF column data types\n",
    "a_p_df_columns = {\n",
    "            \"COA Scope\": str,\n",
    "            \"COA Code\": str,\n",
    "            \"Code\": str,\n",
    "            \"Key\": str,\n",
    "            \"Value\": str\n",
    "    }\n",
    "\n",
    "\n",
    "# Read data from file\n",
    "file_name = \"chart-of-accounts-data.xlsx\"\n",
    "file_location = f\"{os.getcwd()}/data/{file_name}\"\n",
    "\n",
    "chart_of_accounts_df = pd.read_excel(file_location, \"Chart Of Accounts\", dtype=coa_df_columns).dropna(how='all')\n",
    "chart_of_accounts_df.fillna(\"\", inplace = True)\n",
    "chart_of_accounts_props_df = pd.read_excel(file_location, \"Chart Of Accounts Properties\", dtype=coa_p_df_columns).dropna(how='all')\n",
    "chart_of_accounts_props_df.fillna(\"\", inplace = True)\n",
    "accounts_df = pd.read_excel(file_location, \"Accounts\", dtype=a_df_columns).dropna(how='all')\n",
    "accounts_df.fillna(\"\", inplace = True)\n",
    "accounts_props_df = pd.read_excel(file_location, \"Accounts Properties\", dtype=a_p_df_columns).dropna(how='all')\n",
    "accounts_props_df.fillna(\"\", inplace = True)"
   ]
  },
  {
   "cell_type": "markdown",
   "id": "b23f9ffc",
   "metadata": {},
   "source": [
    "## 2. Create Properties <a name = \"create-properties\"></a>"
   ]
  },
  {
   "cell_type": "code",
   "execution_count": 5,
   "id": "c9a010a5",
   "metadata": {},
   "outputs": [
    {
     "name": "stdout",
     "output_type": "stream",
     "text": [
      "Error creating Property Definition 'ChartOfAccounts/coa-testing/LocalCountryReference' because it already exists.\n",
      "Error creating Property Definition 'Account/coa-testing/DescriptionOverrides' because it already exists.\n"
     ]
    }
   ],
   "source": [
    "# Chart of Accounts Properties\n",
    "try:\n",
    "    response = property_definitions_api.create_property_definition(\n",
    "        models.CreatePropertyDefinitionRequest(domain=\"ChartOfAccounts\",\n",
    "                                               scope=\"coa-testing\",\n",
    "                                               code=\"LocalCountryReference\",\n",
    "                                               display_name=\"LocalCountryReference\",\n",
    "                                               data_type_id=lusid.ResourceId(scope=\"system\",code=\"string\"),\n",
    "                                               life_time=\"TimeVariant\",\n",
    "                                               constraint_style=\"Property\",\n",
    "                                               property_description=\"LocalCountryReference\"))\n",
    "    print(response)\n",
    "    \n",
    "except lusid.ApiException as e:\n",
    "        print(json.loads(e.body)[\"title\"])\n",
    "        \n",
    "\n",
    "# Account Properties\n",
    "try:\n",
    "    response = property_definitions_api.create_property_definition(\n",
    "        models.CreatePropertyDefinitionRequest(domain=\"Account\",\n",
    "                                               scope=\"coa-testing\",\n",
    "                                               code=\"DescriptionOverrides\",\n",
    "                                               display_name=\"DescriptionOverrides\",\n",
    "                                               data_type_id=lusid.ResourceId(scope=\"system\",code=\"string\"),\n",
    "                                               life_time=\"TimeVariant\",\n",
    "                                               constraint_style=\"Property\",\n",
    "                                               property_description=\"DescriptionOverrides\"))\n",
    "    print(response)\n",
    "    \n",
    "except lusid.ApiException as e:\n",
    "        print(json.loads(e.body)[\"title\"])"
   ]
  },
  {
   "cell_type": "markdown",
   "id": "d23ee30b",
   "metadata": {},
   "source": [
    "## 3. Chart of Accounts <a name = \"chart-of-accounts\"></a>"
   ]
  },
  {
   "cell_type": "markdown",
   "id": "2828b2ed",
   "metadata": {},
   "source": [
    "A Chart of Accounts lists all the accounts that can be used to record double entry accounting in a general ledger. It is broken down into subcategories - assets, liabilities, equity, expenses and revenue."
   ]
  },
  {
   "cell_type": "markdown",
   "id": "7f551940",
   "metadata": {},
   "source": [
    "### 3.1 [Create Charts of Accounts](https://www.lusid.com/docs/api/#operation/CreateChartOfAccounts)"
   ]
  },
  {
   "cell_type": "code",
   "execution_count": 6,
   "id": "ff2bf20c",
   "metadata": {},
   "outputs": [],
   "source": [
    "# Uncomment to delete COAs\n",
    "\n",
    "# coa_api.delete_chart_of_accounts(scope=\"coa-testing\", code=\"coa-1\")\n",
    "# coa_api.delete_chart_of_accounts(scope=\"coa-testing\", code=\"coa-2\")\n",
    "# coa_api.delete_chart_of_accounts(scope=\"coa-testing\", code=\"coa-3\")"
   ]
  },
  {
   "cell_type": "code",
   "execution_count": 7,
   "id": "27e67aaf",
   "metadata": {},
   "outputs": [],
   "source": [
    "# Iterate through Charts of Accounts data and try to create them\n",
    "for i in range(len(chart_of_accounts_df)):    \n",
    "    try: \n",
    "        response = coa_api.create_chart_of_accounts(scope=chart_of_accounts_df['Scope'][i],\n",
    "                                                chart_of_accounts_request=models.ChartOfAccountsRequest(code=chart_of_accounts_df['Code'][i],\n",
    "                                                                         name=chart_of_accounts_df['Name'][i],\n",
    "                                                                         description=chart_of_accounts_df['Description'][i],\n",
    "                                                                         properties={\"chartOfAccounts/coa-testing/LocalCountryReference\": {\"key\":\"chartOfAccounts/coa-testing/LocalCountryReference\",\n",
    "                                                                                 \"value\":\n",
    "                                                                                 {\"labelValue\":chart_of_accounts_df['LocalCountryReference'][i]}}}))\n",
    "#         print(response)\n",
    "    \n",
    "    except lusid.ApiException as e:\n",
    "        print(json.loads(e.body)[\"title\"])\n"
   ]
  },
  {
   "cell_type": "markdown",
   "id": "41faa7fd",
   "metadata": {},
   "source": [
    "### 3.2 [Upsert (Update) Chart Of Accounts Properties](https://www.lusid.com/docs/api/#operation/UpsertChartOfAccountsProperties)"
   ]
  },
  {
   "cell_type": "code",
   "execution_count": 8,
   "id": "3b647bd7",
   "metadata": {},
   "outputs": [],
   "source": [
    "# Define unique Chart of Accounts identifier column made up of COA scope & COA code\n",
    "chart_of_accounts_props_df['Scope:Code'] = chart_of_accounts_props_df['Scope'] + ':' + chart_of_accounts_props_df['Code']\n",
    "\n",
    "# Isolate unique Charts of Accounts from new column\n",
    "unique_coas = set(chart_of_accounts_props_df['Scope:Code'].tolist())\n",
    "\n",
    "\n",
    "# Iterate through unique Charts of Accounts and update properties\n",
    "for coa in unique_coas:\n",
    "    chart_of_accounts_props_df_single = chart_of_accounts_props_df.loc[chart_of_accounts_props_df['Scope:Code'] == coa].reset_index()\n",
    "    chart_of_accounts_props = {}\n",
    "    for i in range(len(chart_of_accounts_props_df_single)):\n",
    "        \n",
    "        chart_of_accounts_props[f\"{chart_of_accounts_props_df_single['Key'][i]}\"] = {\"key\":chart_of_accounts_props_df_single['Key'][i],\n",
    "                                                                                     \"value\":\n",
    "                                                                                     {\"labelValue\":chart_of_accounts_props_df_single['Value'][i]}}\n",
    "        \n",
    "    \n",
    "    response = coa_api.upsert_chart_of_accounts_properties(scope=coa.split(\":\")[0],\n",
    "                                                       code=coa.split(\":\")[1],\n",
    "                                                       request_body=chart_of_accounts_props)\n",
    "#     print(response)"
   ]
  },
  {
   "cell_type": "markdown",
   "id": "f457bd92",
   "metadata": {},
   "source": [
    "## 4. Accounts <a name = \"accounts\"></a>"
   ]
  },
  {
   "cell_type": "markdown",
   "id": "d805e07e",
   "metadata": {},
   "source": [
    "An account is a separate record within the general ledger that is assigned to specific asset, liability, equity, revenue or expense items. It is used to record transactions over a period of time."
   ]
  },
  {
   "cell_type": "markdown",
   "id": "650bd20d",
   "metadata": {},
   "source": [
    "### 4.1 [Upsert Accounts](https://www.lusid.com/docs/api/#operation/UpsertAccounts)"
   ]
  },
  {
   "cell_type": "markdown",
   "id": "1a4bc6fa",
   "metadata": {},
   "source": [
    "Upsert General Ledger accounts "
   ]
  },
  {
   "cell_type": "code",
   "execution_count": 9,
   "id": "3d54b68d",
   "metadata": {},
   "outputs": [],
   "source": [
    "# Define unique Chart of Accounts identifier column made up of COA scope & COA code\n",
    "accounts_df['COA Scope:Code'] = accounts_df['COA Scope'] + ':' + accounts_df['COA Code']\n",
    "\n",
    "# Isolate unique Charts of Accounts from new column\n",
    "unique_coas = set(accounts_df['COA Scope:Code'].tolist())\n",
    "\n",
    "\n",
    "# Iterate through unique Charts of Accounts and upsert accounts\n",
    "for coa in unique_coas:\n",
    "    accounts_df_single = accounts_df.loc[accounts_df['COA Scope:Code'] == coa].reset_index()\n",
    "    accounts = []\n",
    "    for i in range(len(accounts_df_single)):\n",
    "        accounts.append(models.Account(code=accounts_df_single['Code'][i],\n",
    "                                       description=accounts_df_single['Description'][i],\n",
    "                                       type=accounts_df_single['Type'][i],\n",
    "                                       status=accounts_df_single['Status'][i],\n",
    "                                       control=accounts_df_single['Control'][i],\n",
    "                                       properties={\"account/coa-testing/DescriptionOverrides\": {\"key\":\"account/coa-testing/DescriptionOverrides\",\n",
    "                                                                                 \"value\": {\"labelValue\":accounts_df['DescriptionOverrides'][i]}}}))\n",
    "    response = coa_api.upsert_accounts(scope=coa.split(\":\")[0],\n",
    "                                       code=coa.split(\":\")[1],\n",
    "                                       account=accounts)\n",
    "#     print(response)"
   ]
  },
  {
   "cell_type": "markdown",
   "id": "3c4a0929",
   "metadata": {},
   "source": [
    "### 4.2 [Upsert (Update) Account Properties](https://www.lusid.com/docs/api/#operation/UpsertAccountsProperties)"
   ]
  },
  {
   "cell_type": "code",
   "execution_count": 10,
   "id": "e7d32f81",
   "metadata": {},
   "outputs": [],
   "source": [
    "# Define unique Account identifier column made up of COA scope, COA code & A code\n",
    "accounts_props_df['COAScope:COACode:ACode'] = accounts_props_df['COA Scope'] + ':' + accounts_props_df['COA Code'] + ':' + accounts_props_df['Code']\n",
    "\n",
    "# Isolate unique Accounts from new column\n",
    "unique_as = set(accounts_props_df['COAScope:COACode:ACode'].tolist())\n",
    "\n",
    "\n",
    "# Iterate through unique Accounts and properties\n",
    "for a in unique_as:\n",
    "    accounts_props = {}\n",
    "    accounts_df_props_single = accounts_props_df.loc[accounts_props_df['COAScope:COACode:ACode'] == a].reset_index()\n",
    "    for i in range(len(accounts_df_props_single)):\n",
    "        accounts_props[f\"{accounts_df_props_single['Key'][i]}\"] = {\"key\":accounts_df_props_single['Key'][i],\n",
    "                                                                                     \"value\":\n",
    "                                                                                     {\"labelValue\":accounts_df_props_single['Value'][i]}}\n",
    "    response = coa_api.upsert_accounts_properties(scope=a.split(\":\")[0],\n",
    "                                                  code=a.split(\":\")[1],\n",
    "                                                  account_code=a.split(\":\")[2],\n",
    "                                                  request_body=accounts_props)\n",
    "    \n",
    "#     print(response)\n",
    "        "
   ]
  },
  {
   "cell_type": "markdown",
   "id": "8b8fd1f6",
   "metadata": {},
   "source": [
    "## 5. Read From LUSID <a name = \"read-from-lusid\"></a>"
   ]
  },
  {
   "cell_type": "markdown",
   "id": "24f24a1d",
   "metadata": {},
   "source": [
    "Once the data entities are written into LUSID, they can be access via the UI or via API directly as below."
   ]
  },
  {
   "cell_type": "markdown",
   "id": "6b2d40a6",
   "metadata": {},
   "source": [
    "### 5.1 List Charts Of Accounts"
   ]
  },
  {
   "cell_type": "code",
   "execution_count": 11,
   "id": "6e574a71",
   "metadata": {},
   "outputs": [
    {
     "data": {
      "text/html": [
       "<div>\n",
       "<style scoped>\n",
       "    .dataframe tbody tr th:only-of-type {\n",
       "        vertical-align: middle;\n",
       "    }\n",
       "\n",
       "    .dataframe tbody tr th {\n",
       "        vertical-align: top;\n",
       "    }\n",
       "\n",
       "    .dataframe thead th {\n",
       "        text-align: right;\n",
       "    }\n",
       "</style>\n",
       "<table border=\"1\" class=\"dataframe\">\n",
       "  <thead>\n",
       "    <tr style=\"text-align: right;\">\n",
       "      <th></th>\n",
       "      <th>id.scope</th>\n",
       "      <th>id.code</th>\n",
       "      <th>name</th>\n",
       "      <th>description</th>\n",
       "      <th>properties</th>\n",
       "      <th>version.effective_from</th>\n",
       "      <th>version.as_at_date</th>\n",
       "      <th>links.0.relation</th>\n",
       "      <th>links.0.method</th>\n",
       "      <th>properties.ChartOfAccounts/coa-testing/LocalCountryReference.key</th>\n",
       "      <th>properties.ChartOfAccounts/coa-testing/LocalCountryReference.value.label_value</th>\n",
       "      <th>properties.ChartOfAccounts/coa-testing/LocalCountryReference.effective_from</th>\n",
       "      <th>properties.ChartOfAccounts/coa-testing/LocalCountryReference.effective_until</th>\n",
       "    </tr>\n",
       "  </thead>\n",
       "  <tbody>\n",
       "    <tr>\n",
       "      <th>0</th>\n",
       "      <td>TestScope_ChartsOfAccounts</td>\n",
       "      <td>9ee8c043-2225-4996-9c57-a69d99bdd0b9</td>\n",
       "      <td>9ee8c043-2225-4996-9c57-a69d99bdd0b9</td>\n",
       "      <td>None</td>\n",
       "      <td>{}</td>\n",
       "      <td>0001-01-01 00:00:00+00:00</td>\n",
       "      <td>2023-04-16 21:19:46.901171+00:00</td>\n",
       "      <td>EntitySchema</td>\n",
       "      <td>GET</td>\n",
       "      <td>NaN</td>\n",
       "      <td>NaN</td>\n",
       "      <td>NaN</td>\n",
       "      <td>NaN</td>\n",
       "    </tr>\n",
       "    <tr>\n",
       "      <th>1</th>\n",
       "      <td>coa-testing</td>\n",
       "      <td>coa-1</td>\n",
       "      <td>coa-1</td>\n",
       "      <td>coa-1</td>\n",
       "      <td>NaN</td>\n",
       "      <td>0001-01-01 00:00:00+00:00</td>\n",
       "      <td>2023-05-04 11:52:44.958778+00:00</td>\n",
       "      <td>EntitySchema</td>\n",
       "      <td>GET</td>\n",
       "      <td>ChartOfAccounts/coa-testing/LocalCountryReference</td>\n",
       "      <td>APAC</td>\n",
       "      <td>0001-01-01 00:00:00+00:00</td>\n",
       "      <td>9999-12-31 23:59:59.999999+00:00</td>\n",
       "    </tr>\n",
       "    <tr>\n",
       "      <th>2</th>\n",
       "      <td>coa-testing</td>\n",
       "      <td>coa-2</td>\n",
       "      <td>coa-2</td>\n",
       "      <td>coa-2</td>\n",
       "      <td>NaN</td>\n",
       "      <td>0001-01-01 00:00:00+00:00</td>\n",
       "      <td>2023-05-04 11:52:45.631292+00:00</td>\n",
       "      <td>EntitySchema</td>\n",
       "      <td>GET</td>\n",
       "      <td>ChartOfAccounts/coa-testing/LocalCountryReference</td>\n",
       "      <td>APAC</td>\n",
       "      <td>0001-01-01 00:00:00+00:00</td>\n",
       "      <td>9999-12-31 23:59:59.999999+00:00</td>\n",
       "    </tr>\n",
       "    <tr>\n",
       "      <th>3</th>\n",
       "      <td>coa-testing</td>\n",
       "      <td>coa-3</td>\n",
       "      <td>coa-3</td>\n",
       "      <td>coa-3</td>\n",
       "      <td>NaN</td>\n",
       "      <td>0001-01-01 00:00:00+00:00</td>\n",
       "      <td>2023-05-04 11:52:45.331585+00:00</td>\n",
       "      <td>EntitySchema</td>\n",
       "      <td>GET</td>\n",
       "      <td>ChartOfAccounts/coa-testing/LocalCountryReference</td>\n",
       "      <td>APAC</td>\n",
       "      <td>0001-01-01 00:00:00+00:00</td>\n",
       "      <td>9999-12-31 23:59:59.999999+00:00</td>\n",
       "    </tr>\n",
       "  </tbody>\n",
       "</table>\n",
       "</div>"
      ],
      "text/plain": [
       "                     id.scope                               id.code   \n",
       "0  TestScope_ChartsOfAccounts  9ee8c043-2225-4996-9c57-a69d99bdd0b9  \\\n",
       "1                 coa-testing                                 coa-1   \n",
       "2                 coa-testing                                 coa-2   \n",
       "3                 coa-testing                                 coa-3   \n",
       "\n",
       "                                   name description properties   \n",
       "0  9ee8c043-2225-4996-9c57-a69d99bdd0b9        None         {}  \\\n",
       "1                                 coa-1       coa-1        NaN   \n",
       "2                                 coa-2       coa-2        NaN   \n",
       "3                                 coa-3       coa-3        NaN   \n",
       "\n",
       "      version.effective_from               version.as_at_date   \n",
       "0  0001-01-01 00:00:00+00:00 2023-04-16 21:19:46.901171+00:00  \\\n",
       "1  0001-01-01 00:00:00+00:00 2023-05-04 11:52:44.958778+00:00   \n",
       "2  0001-01-01 00:00:00+00:00 2023-05-04 11:52:45.631292+00:00   \n",
       "3  0001-01-01 00:00:00+00:00 2023-05-04 11:52:45.331585+00:00   \n",
       "\n",
       "  links.0.relation links.0.method   \n",
       "0     EntitySchema            GET  \\\n",
       "1     EntitySchema            GET   \n",
       "2     EntitySchema            GET   \n",
       "3     EntitySchema            GET   \n",
       "\n",
       "  properties.ChartOfAccounts/coa-testing/LocalCountryReference.key   \n",
       "0                                                NaN                \\\n",
       "1  ChartOfAccounts/coa-testing/LocalCountryReference                 \n",
       "2  ChartOfAccounts/coa-testing/LocalCountryReference                 \n",
       "3  ChartOfAccounts/coa-testing/LocalCountryReference                 \n",
       "\n",
       "  properties.ChartOfAccounts/coa-testing/LocalCountryReference.value.label_value   \n",
       "0                                                NaN                              \\\n",
       "1                                               APAC                               \n",
       "2                                               APAC                               \n",
       "3                                               APAC                               \n",
       "\n",
       "  properties.ChartOfAccounts/coa-testing/LocalCountryReference.effective_from   \n",
       "0                                                NaN                           \\\n",
       "1                          0001-01-01 00:00:00+00:00                            \n",
       "2                          0001-01-01 00:00:00+00:00                            \n",
       "3                          0001-01-01 00:00:00+00:00                            \n",
       "\n",
       "  properties.ChartOfAccounts/coa-testing/LocalCountryReference.effective_until  \n",
       "0                                                NaN                            \n",
       "1                   9999-12-31 23:59:59.999999+00:00                            \n",
       "2                   9999-12-31 23:59:59.999999+00:00                            \n",
       "3                   9999-12-31 23:59:59.999999+00:00                            "
      ]
     },
     "execution_count": 11,
     "metadata": {},
     "output_type": "execute_result"
    }
   ],
   "source": [
    "# List all Charts of Accounts\n",
    "coa_list_df = lusid_response_to_data_frame(\n",
    "    coa_api.list_charts_of_accounts(property_keys=[\"chartOfAccounts/coa-testing/LocalCountryReference\"])).drop(['href', 'links.0.href'], axis=1)\n",
    "\n",
    "coa_list_df"
   ]
  },
  {
   "cell_type": "markdown",
   "id": "f04f6e3e",
   "metadata": {},
   "source": [
    "### 5.2 List Accounts"
   ]
  },
  {
   "cell_type": "code",
   "execution_count": 12,
   "id": "c5204af9",
   "metadata": {},
   "outputs": [
    {
     "data": {
      "text/html": [
       "<div>\n",
       "<style scoped>\n",
       "    .dataframe tbody tr th:only-of-type {\n",
       "        vertical-align: middle;\n",
       "    }\n",
       "\n",
       "    .dataframe tbody tr th {\n",
       "        vertical-align: top;\n",
       "    }\n",
       "\n",
       "    .dataframe thead th {\n",
       "        text-align: right;\n",
       "    }\n",
       "</style>\n",
       "<table border=\"1\" class=\"dataframe\">\n",
       "  <thead>\n",
       "    <tr style=\"text-align: right;\">\n",
       "      <th></th>\n",
       "      <th>code</th>\n",
       "      <th>description</th>\n",
       "      <th>type</th>\n",
       "      <th>status</th>\n",
       "      <th>control</th>\n",
       "      <th>properties.Account/coa-testing/DescriptionOverrides.key</th>\n",
       "      <th>properties.Account/coa-testing/DescriptionOverrides.value.label_value</th>\n",
       "      <th>properties.Account/coa-testing/DescriptionOverrides.effective_from</th>\n",
       "    </tr>\n",
       "  </thead>\n",
       "  <tbody>\n",
       "    <tr>\n",
       "      <th>0</th>\n",
       "      <td>100100</td>\n",
       "      <td>Long Investment Cost - Common Stock</td>\n",
       "      <td>Asset</td>\n",
       "      <td>Active</td>\n",
       "      <td>System</td>\n",
       "      <td>Account/coa-testing/DescriptionOverrides</td>\n",
       "      <td></td>\n",
       "      <td>0001-01-01 00:00:00+00:00</td>\n",
       "    </tr>\n",
       "    <tr>\n",
       "      <th>1</th>\n",
       "      <td>109900</td>\n",
       "      <td>Long Investment Cost - Other Investment</td>\n",
       "      <td>Asset</td>\n",
       "      <td>Active</td>\n",
       "      <td>Manual</td>\n",
       "      <td>Account/coa-testing/DescriptionOverrides</td>\n",
       "      <td></td>\n",
       "      <td>0001-01-01 00:00:00+00:00</td>\n",
       "    </tr>\n",
       "    <tr>\n",
       "      <th>2</th>\n",
       "      <td>110100</td>\n",
       "      <td>Long Unrealized Price Gain/Loss - Common Stock</td>\n",
       "      <td>Asset</td>\n",
       "      <td>Active</td>\n",
       "      <td>System</td>\n",
       "      <td>Account/coa-testing/DescriptionOverrides</td>\n",
       "      <td></td>\n",
       "      <td>0001-01-01 00:00:00+00:00</td>\n",
       "    </tr>\n",
       "    <tr>\n",
       "      <th>3</th>\n",
       "      <td>112100</td>\n",
       "      <td>Long Unrealized FX Gain/Loss - Common Stock</td>\n",
       "      <td>Asset</td>\n",
       "      <td>Active</td>\n",
       "      <td>System</td>\n",
       "      <td>Account/coa-testing/DescriptionOverrides</td>\n",
       "      <td></td>\n",
       "      <td>0001-01-01 00:00:00+00:00</td>\n",
       "    </tr>\n",
       "    <tr>\n",
       "      <th>4</th>\n",
       "      <td>119000</td>\n",
       "      <td>Unrealized gain/loss - Other Investment</td>\n",
       "      <td>Asset</td>\n",
       "      <td>Active</td>\n",
       "      <td>Manual</td>\n",
       "      <td>Account/coa-testing/DescriptionOverrides</td>\n",
       "      <td></td>\n",
       "      <td>0001-01-01 00:00:00+00:00</td>\n",
       "    </tr>\n",
       "    <tr>\n",
       "      <th>5</th>\n",
       "      <td>120000</td>\n",
       "      <td>Citibank London - Cash Account</td>\n",
       "      <td>Asset</td>\n",
       "      <td>Active</td>\n",
       "      <td>Manual</td>\n",
       "      <td>Account/coa-testing/DescriptionOverrides</td>\n",
       "      <td></td>\n",
       "      <td>0001-01-01 00:00:00+00:00</td>\n",
       "    </tr>\n",
       "    <tr>\n",
       "      <th>6</th>\n",
       "      <td>141000</td>\n",
       "      <td>Dividend Income Receivable</td>\n",
       "      <td>Asset</td>\n",
       "      <td>Active</td>\n",
       "      <td>Manual</td>\n",
       "      <td>Account/coa-testing/DescriptionOverrides</td>\n",
       "      <td></td>\n",
       "      <td>0001-01-01 00:00:00+00:00</td>\n",
       "    </tr>\n",
       "    <tr>\n",
       "      <th>7</th>\n",
       "      <td>142200</td>\n",
       "      <td>Interest Receivable - Fixed Rate Bond</td>\n",
       "      <td>Asset</td>\n",
       "      <td>Active</td>\n",
       "      <td>System</td>\n",
       "      <td>Account/coa-testing/DescriptionOverrides</td>\n",
       "      <td></td>\n",
       "      <td>0001-01-01 00:00:00+00:00</td>\n",
       "    </tr>\n",
       "    <tr>\n",
       "      <th>8</th>\n",
       "      <td>143000</td>\n",
       "      <td>Bank Interest Receivable</td>\n",
       "      <td>Asset</td>\n",
       "      <td>Active</td>\n",
       "      <td>Manual</td>\n",
       "      <td>Account/coa-testing/DescriptionOverrides</td>\n",
       "      <td></td>\n",
       "      <td>0001-01-01 00:00:00+00:00</td>\n",
       "    </tr>\n",
       "    <tr>\n",
       "      <th>9</th>\n",
       "      <td>145000</td>\n",
       "      <td>Time Desposit Interest Receivable</td>\n",
       "      <td>Asset</td>\n",
       "      <td>Active</td>\n",
       "      <td>Manual</td>\n",
       "      <td>Account/coa-testing/DescriptionOverrides</td>\n",
       "      <td></td>\n",
       "      <td>0001-01-01 00:00:00+00:00</td>\n",
       "    </tr>\n",
       "  </tbody>\n",
       "</table>\n",
       "</div>"
      ],
      "text/plain": [
       "     code                                     description   type  status   \n",
       "0  100100             Long Investment Cost - Common Stock  Asset  Active  \\\n",
       "1  109900         Long Investment Cost - Other Investment  Asset  Active   \n",
       "2  110100  Long Unrealized Price Gain/Loss - Common Stock  Asset  Active   \n",
       "3  112100     Long Unrealized FX Gain/Loss - Common Stock  Asset  Active   \n",
       "4  119000         Unrealized gain/loss - Other Investment  Asset  Active   \n",
       "5  120000                  Citibank London - Cash Account  Asset  Active   \n",
       "6  141000                      Dividend Income Receivable  Asset  Active   \n",
       "7  142200           Interest Receivable - Fixed Rate Bond  Asset  Active   \n",
       "8  143000                        Bank Interest Receivable  Asset  Active   \n",
       "9  145000               Time Desposit Interest Receivable  Asset  Active   \n",
       "\n",
       "  control properties.Account/coa-testing/DescriptionOverrides.key   \n",
       "0  System           Account/coa-testing/DescriptionOverrides       \\\n",
       "1  Manual           Account/coa-testing/DescriptionOverrides        \n",
       "2  System           Account/coa-testing/DescriptionOverrides        \n",
       "3  System           Account/coa-testing/DescriptionOverrides        \n",
       "4  Manual           Account/coa-testing/DescriptionOverrides        \n",
       "5  Manual           Account/coa-testing/DescriptionOverrides        \n",
       "6  Manual           Account/coa-testing/DescriptionOverrides        \n",
       "7  System           Account/coa-testing/DescriptionOverrides        \n",
       "8  Manual           Account/coa-testing/DescriptionOverrides        \n",
       "9  Manual           Account/coa-testing/DescriptionOverrides        \n",
       "\n",
       "  properties.Account/coa-testing/DescriptionOverrides.value.label_value   \n",
       "0                                                                        \\\n",
       "1                                                                         \n",
       "2                                                                         \n",
       "3                                                                         \n",
       "4                                                                         \n",
       "5                                                                         \n",
       "6                                                                         \n",
       "7                                                                         \n",
       "8                                                                         \n",
       "9                                                                         \n",
       "\n",
       "  properties.Account/coa-testing/DescriptionOverrides.effective_from  \n",
       "0                          0001-01-01 00:00:00+00:00                  \n",
       "1                          0001-01-01 00:00:00+00:00                  \n",
       "2                          0001-01-01 00:00:00+00:00                  \n",
       "3                          0001-01-01 00:00:00+00:00                  \n",
       "4                          0001-01-01 00:00:00+00:00                  \n",
       "5                          0001-01-01 00:00:00+00:00                  \n",
       "6                          0001-01-01 00:00:00+00:00                  \n",
       "7                          0001-01-01 00:00:00+00:00                  \n",
       "8                          0001-01-01 00:00:00+00:00                  \n",
       "9                          0001-01-01 00:00:00+00:00                  "
      ]
     },
     "execution_count": 12,
     "metadata": {},
     "output_type": "execute_result"
    }
   ],
   "source": [
    "# List all Accounts for a specific Chart of Accounts scope and code\n",
    "a_list_df = lusid_response_to_data_frame(\n",
    "    coa_api.list_accounts(scope=\"coa-testing\", \n",
    "                          code=\"coa-1\",\n",
    "                          property_keys=[\"account/coa-testing/DescriptionOverrides\"]))\n",
    "\n",
    "a_list_df[:10]"
   ]
  },
  {
   "cell_type": "markdown",
   "id": "84dbae32",
   "metadata": {},
   "source": [
    "## 6. Clean Up"
   ]
  },
  {
   "cell_type": "code",
   "execution_count": 13,
   "id": "2d76db51",
   "metadata": {},
   "outputs": [
    {
     "name": "stdout",
     "output_type": "stream",
     "text": [
      "Charts of Accounts deleted\n"
     ]
    }
   ],
   "source": [
    "# Delete Charts of Accounts\n",
    "\n",
    "try:\n",
    "    coa_api.delete_chart_of_accounts(scope=\"coa-testing\", code=\"coa-1\")\n",
    "    coa_api.delete_chart_of_accounts(scope=\"coa-testing\", code=\"coa-2\")\n",
    "    coa_api.delete_chart_of_accounts(scope=\"coa-testing\", code=\"coa-3\")\n",
    "    print(\"Charts of Accounts deleted\")\n",
    "except lusid.ApiException as e:\n",
    "        print(json.loads(e.body)[\"title\"])"
   ]
  }
 ],
 "metadata": {
  "kernelspec": {
   "display_name": "Python 3 (ipykernel)",
   "language": "python",
   "name": "python3"
  },
  "language_info": {
   "codemirror_mode": {
    "name": "ipython",
    "version": 3
   },
   "file_extension": ".py",
   "mimetype": "text/x-python",
   "name": "python",
   "nbconvert_exporter": "python",
   "pygments_lexer": "ipython3",
   "version": "3.10.10"
  },
  "toc": {
   "base_numbering": 1,
   "nav_menu": {},
   "number_sections": false,
   "sideBar": true,
   "skip_h1_title": false,
   "title_cell": "Table of Contents",
   "title_sidebar": "Contents",
   "toc_cell": false,
   "toc_position": {},
   "toc_section_display": true,
   "toc_window_display": false
  },
  "varInspector": {
   "cols": {
    "lenName": 16,
    "lenType": 16,
    "lenVar": 40
   },
   "kernels_config": {
    "python": {
     "delete_cmd_postfix": "",
     "delete_cmd_prefix": "del ",
     "library": "var_list.py",
     "varRefreshCmd": "print(var_dic_list())"
    },
    "r": {
     "delete_cmd_postfix": ") ",
     "delete_cmd_prefix": "rm(",
     "library": "var_list.r",
     "varRefreshCmd": "cat(var_dic_list()) "
    }
   },
   "types_to_exclude": [
    "module",
    "function",
    "builtin_function_or_method",
    "instance",
    "_Feature"
   ],
   "window_display": false
  }
 },
 "nbformat": 4,
 "nbformat_minor": 5
}
