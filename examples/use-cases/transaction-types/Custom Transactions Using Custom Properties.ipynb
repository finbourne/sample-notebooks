{
 "cells": [
  {
   "cell_type": "code",
   "execution_count": 1,
   "id": "00b9c80d",
   "metadata": {},
   "outputs": [
    {
     "data": {
      "text/html": [
       "\n",
       "    <form action=\"javascript:code_toggle()\"><input type=\"submit\" id=\"toggleButton\" value=\"Toggle Docstring\"></form>\n",
       "    \n",
       "         <script>\n",
       "         function code_toggle() {\n",
       "             if ($('div.cell.code_cell.rendered.selected div.input').css('display')!='none'){\n",
       "                 $('div.cell.code_cell.rendered.selected div.input').hide();\n",
       "             } else {\n",
       "                 $('div.cell.code_cell.rendered.selected div.input').show();\n",
       "             }\n",
       "         }\n",
       "         </script>\n",
       "\n",
       "     "
      ],
      "text/plain": [
       "<IPython.core.display.HTML object>"
      ]
     },
     "metadata": {},
     "output_type": "display_data"
    }
   ],
   "source": [
    "from lusidtools.jupyter_tools import toggle_code\n",
    "\n",
    "\"\"\"Custom Transactions Using Custom Properties\n",
    "\n",
    "This notebook shows how to create custom transaction types that pass reference values (units, instruments, exchange rates) from custom transaction properties into the Movements Engine.\n",
    "\n",
    "Attributes\n",
    "----------\n",
    "transactions types\n",
    "sides\n",
    "properties\n",
    "portfolio\n",
    "holdings\n",
    "FX\n",
    "\"\"\"\n",
    "\n",
    "toggle_code(\"Toggle Docstring\")"
   ]
  },
  {
   "cell_type": "markdown",
   "id": "2c917fec",
   "metadata": {},
   "source": [
    "# Custom Transactions Using Custom Properties\n",
    "\n",
    "This notebook shows how to create custom transaction types that pass reference values (units, instruments, exchange rates) from custom transaction properties into the Movements Engine. This means that it is possible to upsert transactions that do not use the standard transaction fields as points of reference, as such, providing a solution for bespoke transactions fields that better represent a user's interpretation of some transaction types, e.g. FX transactions."
   ]
  },
  {
   "cell_type": "markdown",
   "id": "2ded27cf",
   "metadata": {},
   "source": [
    "## The Challenge\n",
    "\n",
    "For the following data, normal usage would require each field to be mapped to a value on our standard model. In this case, the `BuyAmount` would map to the `Units` field, the `BuyAmountCcy` would map to the `InstrumentIdentifiers` and the `SellAmountCcy` would map to the `TotalConsideraton.Currency`.  This method works but these mappings are not always intuitive eg. when considering an FX swap.\n",
    "\n",
    "<br/><br/>\n",
    "\n",
    "| TransactionType | BuyAmount | SellAmount | ExchangeRate | BuyAmountCcy | SellAmountCcy | TradeDate            | SettleDate           |\n",
    "|-----------------|-----------|------------|--------------|--------------|---------------|----------------------|----------------------|\n",
    "| FX              | 1000      | 800        | 0.8          | EUR          | GBP           | 2021-01-01T00:00:00Z | 2021-01-03T00:00:00Z |\n",
    "| FX              | 400       | 508        | 1.27         | GBP          | EUR           | 2021-01-01T00:00:00Z | 2021-01-03T00:00:00Z |\n",
    "| FX              | 1200      | 1000       | 1.2          | USD          | GBP           | 2021-01-01T00:00:00Z | 2021-01-03T00:00:00Z |\n",
    "\n"
   ]
  },
  {
   "cell_type": "markdown",
   "id": "f799f6a9",
   "metadata": {},
   "source": [
    "## The Solution\n",
    "\n",
    "We will use the example of FX swaps, but by following the same method and changing the transaction properties, this notebook will be suitable for other transaction types.\n",
    "\n",
    "We are able to leverage custom properties and custom side definitions to build a custom transaction type that fits the FX swaps use case. The flexibility that LUSID and the Movement Engine provides makes this process simple.\n",
    "\n",
    "By the end of this notebook, you will have a portfolio that is able to generate holdings by utilising the properties of a transaction instead of using mappings.\n",
    "\n",
    "The steps are as follows:\n",
    "1. [Initialise Notebook](#1.-Initialise-Notebook)\n",
    "2. [Create Transaction Properties](#2.-Create-Transaction-Properties)\n",
    "3. [Create Custom Sides](#3.-Create-Custom-Sides)\n",
    "4. [Create Custom Transaction Type](#4.-Create-Custom-Transaction-Type)\n",
    "5. [Create Portfolio](#5.-Create-Portfolio)\n",
    "6. [Upsert Transactions](#6.-Upsert-Transactions)\n",
    "7. [Get Holdings](#7.-Get-Holdings)\n",
    "8. [Extras](#8.-Extras)\n"
   ]
  },
  {
   "cell_type": "markdown",
   "id": "4efcf784",
   "metadata": {},
   "source": [
    "## 1. Initialise Notebook\n",
    "Import packages, validate client, load data and define scope."
   ]
  },
  {
   "cell_type": "code",
   "execution_count": 2,
   "id": "a1863b40",
   "metadata": {},
   "outputs": [
    {
     "data": {
      "text/html": [
       "<div>\n",
       "<style scoped>\n",
       "    .dataframe tbody tr th:only-of-type {\n",
       "        vertical-align: middle;\n",
       "    }\n",
       "\n",
       "    .dataframe tbody tr th {\n",
       "        vertical-align: top;\n",
       "    }\n",
       "\n",
       "    .dataframe thead th {\n",
       "        text-align: right;\n",
       "    }\n",
       "</style>\n",
       "<table border=\"1\" class=\"dataframe\">\n",
       "  <thead>\n",
       "    <tr style=\"text-align: right;\">\n",
       "      <th></th>\n",
       "      <th>api_version</th>\n",
       "      <th>build_version</th>\n",
       "      <th>excel_version</th>\n",
       "      <th>links</th>\n",
       "    </tr>\n",
       "  </thead>\n",
       "  <tbody>\n",
       "    <tr>\n",
       "      <th>0</th>\n",
       "      <td>v0</td>\n",
       "      <td>0.6.11054.0</td>\n",
       "      <td>0.5.3206</td>\n",
       "      <td>{'relation': 'RequestLogs', 'href': 'http://fb...</td>\n",
       "    </tr>\n",
       "  </tbody>\n",
       "</table>\n",
       "</div>"
      ],
      "text/plain": [
       "  api_version build_version excel_version  \\\n",
       "0          v0   0.6.11054.0      0.5.3206   \n",
       "\n",
       "                                               links  \n",
       "0  {'relation': 'RequestLogs', 'href': 'http://fb...  "
      ]
     },
     "metadata": {},
     "output_type": "display_data"
    }
   ],
   "source": [
    "# Import general purpose Python packages\n",
    "import pandas as pd\n",
    "from datetime import datetime\n",
    "import pytz\n",
    "from IPython.core.display import HTML\n",
    "import json\n",
    "\n",
    "# Import LUSID specific packages\n",
    "import lusid as lu\n",
    "import lusid.models as models\n",
    "from lusidjam import RefreshingToken\n",
    "\n",
    "# Establish scope and portfolio details\n",
    "scope = \"load-transaction-demo\"\n",
    "code = \"demo-portfolio\"\n",
    "name = \"DemoPortfolio\"\n",
    "data_path = \"./data/custom-transaction-data.csv\"\n",
    "\n",
    "# Authenticate our user and create our API client\n",
    "secrets_path=os.getenv(\"FBN_SECRETS_PATH\")\n",
    "\n",
    "if secrets_path is None:\n",
    "    secrets_path=os.path.join(os.path.dirname(os.getcwd()), \"secrets.json\")\n",
    "\n",
    "api_factory=lu.utilities.ApiClientFactory(\n",
    "    token=RefreshingToken(),\n",
    "    api_secrets_filename=secrets_path,\n",
    "    app_name=\"LusidJupyterNotebook\",\n",
    ")\n",
    "\n",
    "api_status=pd.DataFrame(\n",
    "    api_factory.build(lu.ApplicationMetadataApi).get_lusid_versions().to_dict()\n",
    ")\n",
    "\n",
    "display(api_status)"
   ]
  },
  {
   "cell_type": "code",
   "execution_count": 3,
   "id": "3d48c825",
   "metadata": {},
   "outputs": [],
   "source": [
    "# Initialise api\n",
    "txn_config_api = api_factory.build(lu.api.TransactionConfigurationApi)\n",
    "txn_portfolio_api = api_factory.build(lu.api.TransactionPortfoliosApi)\n",
    "property_definition_api = api_factory.build(lu.api.PropertyDefinitionsApi)"
   ]
  },
  {
   "cell_type": "code",
   "execution_count": 4,
   "id": "be73abe1",
   "metadata": {},
   "outputs": [
    {
     "data": {
      "text/html": [
       "<div>\n",
       "<style scoped>\n",
       "    .dataframe tbody tr th:only-of-type {\n",
       "        vertical-align: middle;\n",
       "    }\n",
       "\n",
       "    .dataframe tbody tr th {\n",
       "        vertical-align: top;\n",
       "    }\n",
       "\n",
       "    .dataframe thead th {\n",
       "        text-align: right;\n",
       "    }\n",
       "</style>\n",
       "<table border=\"1\" class=\"dataframe\">\n",
       "  <thead>\n",
       "    <tr style=\"text-align: right;\">\n",
       "      <th></th>\n",
       "      <th>TransactionType</th>\n",
       "      <th>BuyAmount</th>\n",
       "      <th>SellAmount</th>\n",
       "      <th>ExchangeRate</th>\n",
       "      <th>BuyAmountCcy</th>\n",
       "      <th>SellAmountCcy</th>\n",
       "      <th>TradeDate</th>\n",
       "      <th>SettleDate</th>\n",
       "    </tr>\n",
       "  </thead>\n",
       "  <tbody>\n",
       "    <tr>\n",
       "      <th>0</th>\n",
       "      <td>FX</td>\n",
       "      <td>1000</td>\n",
       "      <td>800</td>\n",
       "      <td>0.80</td>\n",
       "      <td>EUR</td>\n",
       "      <td>GBP</td>\n",
       "      <td>2021-01-01T00:00:00Z</td>\n",
       "      <td>2021-01-03T00:00:00Z</td>\n",
       "    </tr>\n",
       "    <tr>\n",
       "      <th>1</th>\n",
       "      <td>FX</td>\n",
       "      <td>400</td>\n",
       "      <td>508</td>\n",
       "      <td>1.27</td>\n",
       "      <td>GBP</td>\n",
       "      <td>EUR</td>\n",
       "      <td>2021-01-01T00:00:00Z</td>\n",
       "      <td>2021-01-03T00:00:00Z</td>\n",
       "    </tr>\n",
       "    <tr>\n",
       "      <th>2</th>\n",
       "      <td>FX</td>\n",
       "      <td>1200</td>\n",
       "      <td>1000</td>\n",
       "      <td>1.20</td>\n",
       "      <td>USD</td>\n",
       "      <td>GBP</td>\n",
       "      <td>2021-01-01T00:00:00Z</td>\n",
       "      <td>2021-01-03T00:00:00Z</td>\n",
       "    </tr>\n",
       "  </tbody>\n",
       "</table>\n",
       "</div>"
      ],
      "text/plain": [
       "  TransactionType  BuyAmount  SellAmount  ExchangeRate BuyAmountCcy  \\\n",
       "0              FX       1000         800          0.80          EUR   \n",
       "1              FX        400         508          1.27          GBP   \n",
       "2              FX       1200        1000          1.20          USD   \n",
       "\n",
       "  SellAmountCcy             TradeDate            SettleDate  \n",
       "0           GBP  2021-01-01T00:00:00Z  2021-01-03T00:00:00Z  \n",
       "1           EUR  2021-01-01T00:00:00Z  2021-01-03T00:00:00Z  \n",
       "2           GBP  2021-01-01T00:00:00Z  2021-01-03T00:00:00Z  "
      ]
     },
     "execution_count": 4,
     "metadata": {},
     "output_type": "execute_result"
    }
   ],
   "source": [
    "# Get data\n",
    "data = pd.read_csv(data_path)\n",
    "data"
   ]
  },
  {
   "cell_type": "markdown",
   "id": "21a77618",
   "metadata": {},
   "source": [
    "## 2. Create Transaction Properties\n",
    "\n",
    "First, we need to create a property for each of our column values.\n",
    "\n",
    "Note that for now, we require a separate security property due to the difference in the way securities and currency fields process currencies. Soon we will be able to use the same property for both."
   ]
  },
  {
   "cell_type": "code",
   "execution_count": 5,
   "id": "2b21d466",
   "metadata": {
    "scrolled": false
   },
   "outputs": [
    {
     "name": "stdout",
     "output_type": "stream",
     "text": [
      "Property 'BuyAmount' created\n",
      "Property 'SellAmount' created\n",
      "Property 'ExchangeRate' created\n",
      "Property 'BuyAmountCcy' created\n",
      "Property 'SellAmountCcy' created\n",
      "Property 'BuyAmountCcySecurity' created\n",
      "Property 'SellAmountCcySecurity' created\n"
     ]
    }
   ],
   "source": [
    "# We only need these columns from the dataframe\n",
    "columns = [\"BuyAmount\", \"SellAmount\", \"ExchangeRate\", \"BuyAmountCcy\", \"SellAmountCcy\", \"BuyAmountCcySecurity\", \"SellAmountCcySecurity\"]\n",
    "\n",
    "for prop in columns:\n",
    "    # These values are numerical, the rest are strings\n",
    "    data_type = \"number\" if prop in [\"BuyAmount\", \"SellAmount\", \"ExchangeRate\"] else \"string\"\n",
    "    # Define the property\n",
    "    body = models.CreatePropertyDefinitionRequest(\n",
    "        domain=\"Transaction\",\n",
    "        scope=scope,\n",
    "        code=prop,\n",
    "        display_name=prop,\n",
    "        data_type_id = models.ResourceId(\n",
    "            scope=\"system\",\n",
    "            code=data_type\n",
    "        )\n",
    "    )\n",
    "    # Create the property\n",
    "    try:\n",
    "        response = property_definition_api.create_property_definition(create_property_definition_request=body)\n",
    "        print(f\"Property '{response.code}' created\")\n",
    "        \n",
    "    except lu.ApiException as e:\n",
    "        if json.loads(e.body)[\"code\"] == 124: # PropertyAlreadyExists\n",
    "            print(json.loads(e.body)[\"title\"])\n",
    "        else:\n",
    "            raise e"
   ]
  },
  {
   "cell_type": "markdown",
   "id": "54152e81",
   "metadata": {},
   "source": [
    "## 3. Create Custom Sides\n",
    "\n",
    "We need to create two sides, one for moving the currency out of our portfolio (sell) and the other to bring currency in (buy). You can conceptualise sides as a collection of pointers which show the location of our properties. When we run our transaction, the movements engine looks at the location specified in the side and pulls the values down from there for each field. The values held at those locations are specified each time we create a new transaction (see [upsert transactions](#upsert_transactions)).\n",
    "\n",
    "Our sides take the following fields and values:\n",
    "<br></br>\n",
    "\n",
    "| Field      | Buy Side                 | Sell Side        | Description                        |\n",
    "|------------|--------------------------|------------------|------------------------------------|\n",
    "| `side`     | BuyCurrencySide          | SellCurrencySide | The unique name for the side.      |\n",
    "| `security` | BuyAmountCcy             | SellAmountCcy    | The security to use for the side.  |\n",
    "| `currency` | BuyAmountCcy             | SellAmountCcy    | The currency to use for the side.  |\n",
    "| `rate`     | Txn:TradeToPortfolioRate | ExchangeRate     | The rate to use for the side.      |\n",
    "| `units`    | BuyAmount                | SellAmount       | The units to use for the side.     |\n",
    "| `amount`   | BuyAmount                | SellAmount       | The amount to use for the side.    |\n",
    "\n",
    "See our [support docs](https://support.lusid.com/knowledgebase/article/KA-01875/en-us) for more details on creating custom sides."
   ]
  },
  {
   "cell_type": "code",
   "execution_count": 6,
   "id": "95f5ed56",
   "metadata": {},
   "outputs": [
    {
     "name": "stdout",
     "output_type": "stream",
     "text": [
      "Side 'BuyCurrencySide' created\n",
      "Side 'SellCurrencySide' created\n"
     ]
    }
   ],
   "source": [
    "# Create request using properties declared above\n",
    "buy_side_definition_request = models.SideDefinitionRequest(\n",
    "    security=\"Transaction/load-transaction-demo/BuyAmountCcySecurity\", # what currency are we buying?\n",
    "    currency=\"Transaction/load-transaction-demo/BuyAmountCcy\", # currency of security\n",
    "    rate=\"Txn:TradeToPortfolioRate\", # rate to portfolio currency\n",
    "    units=\"Transaction/load-transaction-demo/BuyAmount\", # eg. £10 = 10 units\n",
    "    amount=\"Transaction/load-transaction-demo/BuyAmount\" # eg. £10\n",
    ")\n",
    "\n",
    "sell_side_definition_request = models.SideDefinitionRequest(\n",
    "    security=\"Transaction/load-transaction-demo/SellAmountCcySecurity\", # what currency are we selling?\n",
    "    currency=\"Transaction/load-transaction-demo/SellAmountCcy\", # currency of security\n",
    "    rate=\"Transaction/load-transaction-demo/ExchangeRate\", # quoted rate for FX swap\n",
    "    units=\"Transaction/load-transaction-demo/SellAmount\", # eg. $8 = 8 units\n",
    "    amount=\"Transaction/load-transaction-demo/SellAmount\" # eg. $8\n",
    ")\n",
    "\n",
    "# Declare the sides\n",
    "try:\n",
    "    buy_response = txn_config_api.set_side_definition(\n",
    "        side=\"BuyCurrencySide\",\n",
    "        side_definition_request=buy_side_definition_request\n",
    "    )\n",
    "    print(f\"Side '{buy_response.side}' created\")\n",
    "    \n",
    "except lu.ApiException as e:\n",
    "    raise e\n",
    "\n",
    "try:\n",
    "    sell_response = txn_config_api.set_side_definition(\n",
    "        side=\"SellCurrencySide\",\n",
    "        side_definition_request=sell_side_definition_request\n",
    "    )\n",
    "    print(f\"Side '{sell_response.side}' created\")\n",
    "\n",
    "except lu.ApiExceptions as e:\n",
    "    raise e"
   ]
  },
  {
   "cell_type": "markdown",
   "id": "ecc5d61e",
   "metadata": {},
   "source": [
    "## 4. Create Custom Transaction Type\n",
    "\n",
    "The custom transaction type is the central component of any transaction, and its flexibility is what allows us to be able to model these FX swaps.\n",
    "\n",
    "Each transaction type contains two objects. Firstly, the aliases. Aliases in this context specify different identities that a transaction type can have. In this example we will only use a single alias, but in theory we could create as many as we'd like. This is particularly useful in a system where multiple terms our used to represent the same action eg. BUY and BY.\n",
    "<br></br>\n",
    "\n",
    "| Fields            | Definition                          | Value          |\n",
    "|-------------------|-------------------------------------|----------------|\n",
    "| type              | Name of the transaction type        | FX             |\n",
    "| description       | Description of the transaction type | FX Transaction |\n",
    "| transaction class | Transaction type grouping system    | Basic          |\n",
    "| transaction roles | Transaction type grouping system    | Longer         |\n",
    "\n",
    "The second essential component of transaction types are movements. A transaction type can have one or more movements, the role of which is to instruct the movements engine on how to deal with portfolio funds during a transaction. In our case, we use 2 movements with the first representing the buy action and the second for the sell action. The allocation and movement of funds is determined by the direction of the movement with a 1 denoting an increase and -1 a decrease. A movement is made up of the following components.\n",
    "<br></br>\n",
    "\n",
    "| Fields            | Definition                                                                 | Buy Value       | Sell Value       |\n",
    "|-------------------|----------------------------------------------------------------------------|-----------------|------------------|\n",
    "| movement type     | How and when a holding is updated                                          | CashReceivable  | CashCommitment   |\n",
    "| side              | Determines which economic attributes of the transaction impact the holding | BuyCurrencySide | SellCurrencySide |\n",
    "| direction         | Determines if change is an increase or decrease                            | 1               | -1               |\n",
    "\n",
    "The transaction must also be assigned a `source`, a grouping mechanism, and a `type`. The `type` is the primary alias that we will use to uniquely identify this transaction type eg. 'FX'.\n",
    "\n",
    "See our [support docs](https://support.lusid.com/knowledgebase/article/KA-01872/) for more details on creating custom transaction types."
   ]
  },
  {
   "cell_type": "code",
   "execution_count": 7,
   "id": "0a6cdb4f",
   "metadata": {},
   "outputs": [
    {
     "name": "stdout",
     "output_type": "stream",
     "text": [
      "Type 'FX' created\n"
     ]
    }
   ],
   "source": [
    "transaction_type_request = models.TransactionTypeRequest(\n",
    "    aliases=[\n",
    "        models.TransactionTypeAlias(\n",
    "            type=\"FX\", # Label\n",
    "            description=\"FX Transaction\",\n",
    "            transaction_class=\"Basic\",\n",
    "            transaction_roles=\"Longer\",\n",
    "        )\n",
    "    ], \n",
    "    movements=[\n",
    "        # Buy side movement\n",
    "        models.TransactionTypeMovement(\n",
    "            movement_types=\"CashReceivable\", \n",
    "            side=\"BuyCurrencySide\", # Buy properties\n",
    "            direction=1, # Increase\n",
    "        ),\n",
    "        # Sell side movement\n",
    "        models.TransactionTypeMovement(\n",
    "            movement_types=\"CashCommitment\",\n",
    "            side=\"SellCurrencySide\", # Sell properties\n",
    "            direction=-1, # Decrease\n",
    "        )\n",
    "    ],\n",
    ")\n",
    "\n",
    "try:\n",
    "    response = txn_config_api.set_transaction_type(\n",
    "        source=\"default\",\n",
    "        type=\"FX\",\n",
    "        transaction_type_request=transaction_type_request\n",
    "    )\n",
    "    print(f\"Type '{response.aliases[0].type}' created\")\n",
    "    \n",
    "except lu.ApiException as e:\n",
    "    raise e"
   ]
  },
  {
   "cell_type": "markdown",
   "id": "6c8fc414",
   "metadata": {},
   "source": [
    "## 5. Create Portfolio\n",
    "\n",
    "We need to create a portfolio to store our transactions in.\n",
    "\n",
    "It is worth noting that when creating a portfolio, the creation date must precede, or at least be equal to, the trade date of any transactions."
   ]
  },
  {
   "cell_type": "code",
   "execution_count": 8,
   "id": "0178afa5",
   "metadata": {
    "pycharm": {
     "is_executing": true
    }
   },
   "outputs": [
    {
     "name": "stdout",
     "output_type": "stream",
     "text": [
      "Portfolio 'DemoPortfolio' created\n"
     ]
    }
   ],
   "source": [
    "portfolio_request = models.CreateTransactionPortfolioRequest(\n",
    "    display_name=name,\n",
    "    code=code,\n",
    "    base_currency=\"USD\",\n",
    "    created=datetime(2020, 1, 1, tzinfo=pytz.utc)\n",
    ")\n",
    "\n",
    "try:\n",
    "    response = txn_portfolio_api.create_portfolio(\n",
    "        scope,\n",
    "        create_transaction_portfolio_request=portfolio_request\n",
    "    )\n",
    "    print(f\"Portfolio '{response.display_name}' created\")\n",
    "    \n",
    "except lu.ApiException as e:\n",
    "    if json.loads(e.body)[\"code\"] == 112: # PortfolioWithIdAlreadyExists\n",
    "        print(json.loads(e.body)[\"title\"])\n",
    "    else:\n",
    "        raise e"
   ]
  },
  {
   "cell_type": "markdown",
   "id": "5b58be25",
   "metadata": {},
   "source": [
    "## 6. Upsert Transactions\n",
    "\n",
    "We can now upsert transactions using the values from our data file. Note that values are set to 0 for the usual transaction fields, and instead the data is added within the properties. This allows us to pass validation without impacting our holdings.\n",
    "\n",
    "It is within the properties of our transaction that we are able to add our real values. We do so by providing a property value for the properties we instantiated earlier in this notebook."
   ]
  },
  {
   "cell_type": "code",
   "execution_count": 9,
   "id": "cb87438b",
   "metadata": {
    "pycharm": {
     "is_executing": true
    }
   },
   "outputs": [
    {
     "name": "stdout",
     "output_type": "stream",
     "text": [
      "Transactions successfully upserted at 2023-03-30 14:44:08.153265+00:00\n"
     ]
    }
   ],
   "source": [
    "transactions = []\n",
    "\n",
    "# Make transactions from our data\n",
    "for index, row in data.iterrows():\n",
    "    txn = models.TransactionRequest(\n",
    "        transaction_id=f\"txn{index}\",\n",
    "        type=row[\"TransactionType\"],\n",
    "        instrument_identifiers={\"Instrument/default/Currency\": row[\"BuyAmountCcy\"]},\n",
    "        transaction_date=row[\"TradeDate\"],\n",
    "        settlement_date=row[\"SettleDate\"],\n",
    "        units=0, # Required to pass validation\n",
    "        total_consideration=models.CurrencyAndAmount(amount=0, currency=row[\"BuyAmountCcy\"]),\n",
    "        properties={\n",
    "            # Set the properties\n",
    "            \"Transaction/load-transaction-demo/BuyAmount\": models.PerpetualProperty(\n",
    "                key=\"Transaction/load-transaction-demo/BuyAmount\",\n",
    "                value=models.PropertyValue(\n",
    "                    metric_value=models.MetricValue(\n",
    "                        value=float(row[\"BuyAmount\"]) # Pull values straight from data\n",
    "                    )\n",
    "                )\n",
    "            ),\n",
    "            \"Transaction/load-transaction-demo/SellAmount\": models.PerpetualProperty(\n",
    "                key=\"Transaction/load-transaction-demo/SellAmount\",\n",
    "                value=models.PropertyValue(\n",
    "                    metric_value=models.MetricValue(\n",
    "                        value=float(row[\"SellAmount\"])\n",
    "                    )\n",
    "                )\n",
    "            ),\n",
    "            \"Transaction/load-transaction-demo/ExchangeRate\": models.PerpetualProperty(\n",
    "                key=\"Transaction/load-transaction-demo/ExchangeRate\",\n",
    "                value=models.PropertyValue(\n",
    "                    metric_value=models.MetricValue(\n",
    "                        value=float(row[\"ExchangeRate\"])\n",
    "                    )\n",
    "                )\n",
    "            ),\n",
    "            \"Transaction/load-transaction-demo/BuyAmountCcy\": models.PerpetualProperty(\n",
    "                key=\"Transaction/load-transaction-demo/BuyAmountCcy\",\n",
    "                value=models.PropertyValue(\n",
    "                    label_value=row[\"BuyAmountCcy\"]\n",
    "                )\n",
    "            ),\n",
    "            \"Transaction/load-transaction-demo/SellAmountCcy\": models.PerpetualProperty(\n",
    "                key=\"Transaction/load-transaction-demo/SellAmountCcy\",\n",
    "                value=models.PropertyValue(\n",
    "                    label_value=row[\"SellAmountCcy\"]\n",
    "                )\n",
    "            ),\n",
    "            \"Transaction/load-transaction-demo/BuyAmountCcySecurity\": models.PerpetualProperty(\n",
    "                key=\"Transaction/load-transaction-demo/BuyAmountCcySecurity\",\n",
    "                value=models.PropertyValue(\n",
    "                    label_value=row[\"BuyAmountCcy\"]\n",
    "                )\n",
    "            ),\n",
    "            \"Transaction/load-transaction-demo/SellAmountCcySecurity\": models.PerpetualProperty(\n",
    "                key=\"Transaction/load-transaction-demo/SellAmountCcySecurity\",\n",
    "                value=models.PropertyValue(\n",
    "                    label_value=row[\"SellAmountCcy\"]\n",
    "                )\n",
    "            )\n",
    "        }\n",
    "    )\n",
    "    transactions.append(txn)\n",
    "\n",
    "# Upsert transactions to our portfolio\n",
    "try:\n",
    "    response = txn_portfolio_api.upsert_transactions(\n",
    "        scope=scope,\n",
    "        code=code,\n",
    "        transaction_request=transactions\n",
    "    )\n",
    "    print(f\"Transactions successfully upserted at {response.version.as_at_date}\")\n",
    "except lu.ApiException as e:\n",
    "    raise e"
   ]
  },
  {
   "cell_type": "markdown",
   "id": "07a49a83",
   "metadata": {},
   "source": [
    "## 7. Get Holdings\n",
    "\n",
    "Finally, we need to verify that our transactions appear as they should. This can be seen either via the UI or by calling the `get_holdings` api."
   ]
  },
  {
   "cell_type": "code",
   "execution_count": 10,
   "id": "be5b292c",
   "metadata": {
    "scrolled": true
   },
   "outputs": [
    {
     "data": {
      "text/html": [
       "<div>\n",
       "<style scoped>\n",
       "    .dataframe tbody tr th:only-of-type {\n",
       "        vertical-align: middle;\n",
       "    }\n",
       "\n",
       "    .dataframe tbody tr th {\n",
       "        vertical-align: top;\n",
       "    }\n",
       "\n",
       "    .dataframe thead th {\n",
       "        text-align: right;\n",
       "    }\n",
       "</style>\n",
       "<table border=\"1\" class=\"dataframe\">\n",
       "  <thead>\n",
       "    <tr style=\"text-align: right;\">\n",
       "      <th></th>\n",
       "      <th>Currency</th>\n",
       "      <th>Units</th>\n",
       "      <th>SettledUnits</th>\n",
       "      <th>HoldingType</th>\n",
       "    </tr>\n",
       "  </thead>\n",
       "  <tbody>\n",
       "    <tr>\n",
       "      <th>0</th>\n",
       "      <td>EUR</td>\n",
       "      <td>492.0</td>\n",
       "      <td>492.0</td>\n",
       "      <td>Balance</td>\n",
       "    </tr>\n",
       "    <tr>\n",
       "      <th>1</th>\n",
       "      <td>GBP</td>\n",
       "      <td>-1400.0</td>\n",
       "      <td>-1400.0</td>\n",
       "      <td>Balance</td>\n",
       "    </tr>\n",
       "    <tr>\n",
       "      <th>2</th>\n",
       "      <td>USD</td>\n",
       "      <td>1200.0</td>\n",
       "      <td>1200.0</td>\n",
       "      <td>Balance</td>\n",
       "    </tr>\n",
       "  </tbody>\n",
       "</table>\n",
       "</div>"
      ],
      "text/plain": [
       "  Currency   Units  SettledUnits HoldingType\n",
       "0      EUR   492.0         492.0     Balance\n",
       "1      GBP -1400.0       -1400.0     Balance\n",
       "2      USD  1200.0        1200.0     Balance"
      ]
     },
     "execution_count": 10,
     "metadata": {},
     "output_type": "execute_result"
    }
   ],
   "source": [
    "def get_holdings(scope, code):\n",
    "    holdings_response = txn_portfolio_api.get_holdings(\n",
    "        scope=scope,\n",
    "        code=code,\n",
    "    )\n",
    "\n",
    "    data = holdings_response.values\n",
    "\n",
    "    data_structure = {\n",
    "        \"Currency\": [i.currency for i in data],\n",
    "        \"Units\": [i.cost.amount for i in data],\n",
    "        \"SettledUnits\": [i.settled_units for i in data],\n",
    "        \"HoldingType\": [i.holding_type_name for i in data]\n",
    "    }\n",
    "\n",
    "    return pd.DataFrame(data=data_structure)\n",
    "\n",
    "get_holdings(scope, code)"
   ]
  },
  {
   "cell_type": "markdown",
   "id": "4e3bec49",
   "metadata": {},
   "source": [
    "Or view in UI"
   ]
  },
  {
   "cell_type": "code",
   "execution_count": 11,
   "id": "67d3758d",
   "metadata": {},
   "outputs": [
    {
     "data": {
      "text/html": [
       "<a href=\"https://fbn-ci.lusid.com/app/dashboard/holdings?scope=load-transaction-demo&code=demo-portfolio&entityType=Portfolio\" target=\"_blank\">See holdings positions in LUSID</a>"
      ],
      "text/plain": [
       "<IPython.core.display.HTML object>"
      ]
     },
     "metadata": {},
     "output_type": "display_data"
    }
   ],
   "source": [
    "api_url = api_factory.api_client.configuration._base_path.replace(\"api\",\"\")\n",
    "display(HTML(f'<a href=\"{api_url}app/dashboard/holdings?scope={scope}&code={code}&entityType=Portfolio\" target=\"_blank\">See holdings positions in LUSID</a>'))"
   ]
  },
  {
   "cell_type": "markdown",
   "id": "2b86a49c",
   "metadata": {},
   "source": [
    "## 8. Extras\n",
    "\n",
    "Let's see how this model reacts under different conditions."
   ]
  },
  {
   "cell_type": "markdown",
   "id": "49c4bd75",
   "metadata": {},
   "source": [
    "### Non-settled Transactions\n",
    "\n",
    "Let's see how this model reacts to transactions that are unsettled.\n",
    "\n",
    "First we upsert a transaction with a settle day far in the future, but a historical trade date."
   ]
  },
  {
   "cell_type": "code",
   "execution_count": 12,
   "id": "0aee0ba9",
   "metadata": {
    "pycharm": {
     "is_executing": true
    }
   },
   "outputs": [
    {
     "name": "stdout",
     "output_type": "stream",
     "text": [
      "Transactions successfully upserted at 2023-03-30 14:44:09.414759+00:00\n"
     ]
    }
   ],
   "source": [
    "transactions = []\n",
    "\n",
    "txn = models.TransactionRequest(\n",
    "    transaction_id=\"txn3\",\n",
    "    type=\"FX\",\n",
    "    instrument_identifiers={\"Instrument/default/Currency\": \"USD\"},\n",
    "    transaction_date=datetime(2021, 1, 1, tzinfo=pytz.utc).isoformat(),\n",
    "    # Settle far in the future\n",
    "    settlement_date=datetime(2099, 1, 1, tzinfo=pytz.utc).isoformat(),\n",
    "    units=0, # Required to pass validation\n",
    "    total_consideration=models.CurrencyAndAmount(amount=0, currency=\"USD\"),\n",
    "    properties={\n",
    "        # Populate values to properties\n",
    "        \"Transaction/load-transaction-demo/BuyAmount\": models.PerpetualProperty(\n",
    "            key=\"Transaction/load-transaction-demo/BuyAmount\",\n",
    "            value=models.PropertyValue(\n",
    "                metric_value=models.MetricValue(\n",
    "                    value=600\n",
    "                )\n",
    "            )\n",
    "        ),\n",
    "        \"Transaction/load-transaction-demo/SellAmount\": models.PerpetualProperty(\n",
    "            key=\"Transaction/load-transaction-demo/SellAmount\",\n",
    "            value=models.PropertyValue(\n",
    "                metric_value=models.MetricValue(\n",
    "                    value=500\n",
    "                )\n",
    "            )\n",
    "        ),\n",
    "        \"Transaction/load-transaction-demo/ExchangeRate\": models.PerpetualProperty(\n",
    "            key=\"Transaction/load-transaction-demo/ExchangeRate\",\n",
    "            value=models.PropertyValue(\n",
    "                metric_value=models.MetricValue(\n",
    "                    value=1.2\n",
    "                )\n",
    "            )\n",
    "        ),\n",
    "        \"Transaction/load-transaction-demo/BuyAmountCcy\": models.PerpetualProperty(\n",
    "            key=\"Transaction/load-transaction-demo/BuyAmountCcy\",\n",
    "            value=models.PropertyValue(\n",
    "                label_value=\"USD\"\n",
    "            )\n",
    "        ),\n",
    "        \"Transaction/load-transaction-demo/SellAmountCcy\": models.PerpetualProperty(\n",
    "            key=\"Transaction/load-transaction-demo/SellAmountCcy\",\n",
    "            value=models.PropertyValue(\n",
    "                label_value=\"GBP\"\n",
    "            )\n",
    "        ),\n",
    "        \"Transaction/load-transaction-demo/BuyAmountCcySecurity\": models.PerpetualProperty(\n",
    "            key=\"Transaction/load-transaction-demo/BuyAmountCcySecurity\",\n",
    "            value=models.PropertyValue(\n",
    "                label_value=\"CCY_USD\"\n",
    "            )\n",
    "        ),\n",
    "        \"Transaction/load-transaction-demo/SellAmountCcySecurity\": models.PerpetualProperty(\n",
    "            key=\"Transaction/load-transaction-demo/SellAmountCcySecurity\",\n",
    "            value=models.PropertyValue(\n",
    "                label_value=\"CCY_GBP\"\n",
    "            )\n",
    "        )\n",
    "    }\n",
    ")\n",
    "\n",
    "# Upsert transactions to our portfolio\n",
    "try:\n",
    "    response = txn_portfolio_api.upsert_transactions(\n",
    "        scope=scope,\n",
    "        code=code,\n",
    "        transaction_request=[txn]\n",
    "    )\n",
    "    print(f\"Transactions successfully upserted at {response.version.as_at_date}\")\n",
    "except lu.ApiException as e:\n",
    "    raise e"
   ]
  },
  {
   "cell_type": "markdown",
   "id": "c642e889",
   "metadata": {},
   "source": [
    "Next, get holdings to verify unsettled currency swap exists."
   ]
  },
  {
   "cell_type": "code",
   "execution_count": 13,
   "id": "871f571f",
   "metadata": {},
   "outputs": [
    {
     "data": {
      "text/html": [
       "<div>\n",
       "<style scoped>\n",
       "    .dataframe tbody tr th:only-of-type {\n",
       "        vertical-align: middle;\n",
       "    }\n",
       "\n",
       "    .dataframe tbody tr th {\n",
       "        vertical-align: top;\n",
       "    }\n",
       "\n",
       "    .dataframe thead th {\n",
       "        text-align: right;\n",
       "    }\n",
       "</style>\n",
       "<table border=\"1\" class=\"dataframe\">\n",
       "  <thead>\n",
       "    <tr style=\"text-align: right;\">\n",
       "      <th></th>\n",
       "      <th>Currency</th>\n",
       "      <th>Units</th>\n",
       "      <th>SettledUnits</th>\n",
       "      <th>HoldingType</th>\n",
       "    </tr>\n",
       "  </thead>\n",
       "  <tbody>\n",
       "    <tr>\n",
       "      <th>0</th>\n",
       "      <td>EUR</td>\n",
       "      <td>492.0</td>\n",
       "      <td>492.0</td>\n",
       "      <td>Balance</td>\n",
       "    </tr>\n",
       "    <tr>\n",
       "      <th>1</th>\n",
       "      <td>GBP</td>\n",
       "      <td>-1400.0</td>\n",
       "      <td>-1400.0</td>\n",
       "      <td>Balance</td>\n",
       "    </tr>\n",
       "    <tr>\n",
       "      <th>2</th>\n",
       "      <td>USD</td>\n",
       "      <td>1200.0</td>\n",
       "      <td>1200.0</td>\n",
       "      <td>Balance</td>\n",
       "    </tr>\n",
       "    <tr>\n",
       "      <th>3</th>\n",
       "      <td>USD</td>\n",
       "      <td>600.0</td>\n",
       "      <td>0.0</td>\n",
       "      <td>Receivable</td>\n",
       "    </tr>\n",
       "    <tr>\n",
       "      <th>4</th>\n",
       "      <td>GBP</td>\n",
       "      <td>-500.0</td>\n",
       "      <td>0.0</td>\n",
       "      <td>CashCommitment</td>\n",
       "    </tr>\n",
       "  </tbody>\n",
       "</table>\n",
       "</div>"
      ],
      "text/plain": [
       "  Currency   Units  SettledUnits     HoldingType\n",
       "0      EUR   492.0         492.0         Balance\n",
       "1      GBP -1400.0       -1400.0         Balance\n",
       "2      USD  1200.0        1200.0         Balance\n",
       "3      USD   600.0           0.0      Receivable\n",
       "4      GBP  -500.0           0.0  CashCommitment"
      ]
     },
     "execution_count": 13,
     "metadata": {},
     "output_type": "execute_result"
    }
   ],
   "source": [
    "get_holdings(scope, code)"
   ]
  },
  {
   "cell_type": "markdown",
   "id": "07a35b5c",
   "metadata": {},
   "source": [
    "See the additional CashCommitment and Receivable entries which show the movement of funds that has not yet completed."
   ]
  }
 ],
 "metadata": {
  "kernelspec": {
   "display_name": "Python 3 (ipykernel)",
   "language": "python",
   "name": "python3"
  },
  "language_info": {
   "codemirror_mode": {
    "name": "ipython",
    "version": 3
   },
   "file_extension": ".py",
   "mimetype": "text/x-python",
   "name": "python",
   "nbconvert_exporter": "python",
   "pygments_lexer": "ipython3",
   "version": "3.9.7"
  },
  "toc": {
   "base_numbering": 1,
   "nav_menu": {},
   "number_sections": false,
   "sideBar": true,
   "skip_h1_title": false,
   "title_cell": "Table of Contents",
   "title_sidebar": "Contents",
   "toc_cell": false,
   "toc_position": {},
   "toc_section_display": true,
   "toc_window_display": false
  },
  "varInspector": {
   "cols": {
    "lenName": 16,
    "lenType": 16,
    "lenVar": 40
   },
   "kernels_config": {
    "python": {
     "delete_cmd_postfix": "",
     "delete_cmd_prefix": "del ",
     "library": "var_list.py",
     "varRefreshCmd": "print(var_dic_list())"
    },
    "r": {
     "delete_cmd_postfix": ") ",
     "delete_cmd_prefix": "rm(",
     "library": "var_list.r",
     "varRefreshCmd": "cat(var_dic_list()) "
    }
   },
   "types_to_exclude": [
    "module",
    "function",
    "builtin_function_or_method",
    "instance",
    "_Feature"
   ],
   "window_display": false
  }
 },
 "nbformat": 4,
 "nbformat_minor": 5
}
