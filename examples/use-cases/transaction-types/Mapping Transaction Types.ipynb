{
 "cells": [
  {
   "cell_type": "code",
   "execution_count": 1,
   "id": "628145be",
   "metadata": {},
   "outputs": [
    {
     "data": {
      "text/html": [
       "\n",
       "    <form action=\"javascript:code_toggle()\"><input type=\"submit\" id=\"toggleButton\" value=\"Toggle Docstring\"></form>\n",
       "    \n",
       "         <script>\n",
       "         function code_toggle() {\n",
       "             if ($('div.cell.code_cell.rendered.selected div.input').css('display')!='none'){\n",
       "                 $('div.cell.code_cell.rendered.selected div.input').hide();\n",
       "             } else {\n",
       "                 $('div.cell.code_cell.rendered.selected div.input').show();\n",
       "             }\n",
       "         }\n",
       "         </script>\n",
       "\n",
       "     "
      ],
      "text/plain": [
       "<IPython.core.display.HTML object>"
      ]
     },
     "metadata": {},
     "output_type": "display_data"
    }
   ],
   "source": [
    "from lusidtools.jupyter_tools import toggle_code\n",
    "\n",
    "\"\"\"Mapping Transaction Types\n",
    "\n",
    "Attributes\n",
    "----------\n",
    "transaction types\n",
    "mapping\n",
    "\"\"\"\n",
    "\n",
    "toggle_code(\"Toggle Docstring\")"
   ]
  },
  {
   "cell_type": "markdown",
   "id": "beaeb5fa",
   "metadata": {},
   "source": [
    "# Mapping Transaction Types\n",
    "\n",
    "This notebook demonstrates how in LUSID we are able to map multiple transaction types into a single type. For our example, we will be mapping types `B123`, `BuyLong` and `Purchase` into the type `BUY_PARENT_TYPE`.\n",
    "\n",
    "This is often useful in scenrious where you are ingesting data from different sources where transactions of the same type are given different names. Instead of manually changing the data before ingestion, LUSID can automatically reassign the transaction types during the data load.\n",
    "\n",
    "If you are looking to retain the original type names but map all types to the same movements, see transaction type aliases ([KA-01872](https://support.lusid.com/knowledgebase/article/KA-01872/en-us)).\n",
    "\n",
    "The steps for completion are as follows:\n",
    "\n",
    "1. [Create Child Transaction Types](#1.-Create-Child-Transaction-Types)\n",
    "2. [Create Parent Transaction Type](#2.-Create-Parent-Transaction-Type)\n",
    "3. [Book Transactions](#3.-Book-Transactions)\n",
    "4. [Get Transactions](#4.-Get-Transactions)\n"
   ]
  },
  {
   "cell_type": "code",
   "execution_count": 2,
   "id": "3e68b9bd",
   "metadata": {},
   "outputs": [],
   "source": [
    "# Import general purpose Python packages\n",
    "import pandas as pd\n",
    "from datetime import datetime, timezone\n",
    "import pytz\n",
    "import json\n",
    "\n",
    "# Import LUSID specific packages\n",
    "import lusid as lu\n",
    "import lusid.models as models\n",
    "from lusidjam import RefreshingToken\n",
    "\n",
    "# Get auth token\n",
    "token = RefreshingToken()\n",
    "\n",
    "# Establish scope and portfolio details\n",
    "scope = \"notebook-example\"\n",
    "code = \"test-buy-portfolio\"\n",
    "name = \"TEST_BUY_PORTFOLIO\"\n",
    "\n",
    "# Authorise\n",
    "api_factory = lu.utilities.ApiClientFactory(token=token)"
   ]
  },
  {
   "cell_type": "code",
   "execution_count": 3,
   "id": "36f6b36f",
   "metadata": {},
   "outputs": [],
   "source": [
    "# Initialise apis\n",
    "txn_config_api = api_factory.build(lu.api.TransactionConfigurationApi)\n",
    "txn_portfolio_api = api_factory.build(lu.api.TransactionPortfoliosApi)\n",
    "property_definition_api = api_factory.build(lu.api.PropertyDefinitionsApi)"
   ]
  },
  {
   "cell_type": "markdown",
   "id": "f3480895",
   "metadata": {},
   "source": [
    "## 1. Create Child Transaction Types\n",
    "\n",
    "First, let's create the types that we want to map. They can be within the same source, or different."
   ]
  },
  {
   "cell_type": "code",
   "execution_count": 5,
   "id": "de0f37c6",
   "metadata": {},
   "outputs": [
    {
     "name": "stdout",
     "output_type": "stream",
     "text": [
      "Type 'buy-01/B123' created successfully\n",
      "Type 'buy-01/BuyLong' created successfully\n",
      "Type 'buy-02/Purchase' created successfully\n"
     ]
    }
   ],
   "source": [
    "def create_type(label, source, transaction_class):\n",
    "    # Create request\n",
    "    transaction_type_request = models.TransactionTypeRequest(\n",
    "        aliases=[\n",
    "            models.TransactionTypeAlias(\n",
    "                type=label, # Label for type\n",
    "                description=\"Demo transaction type\",\n",
    "                transaction_class=transaction_class,\n",
    "                transaction_roles=\"LongLonger\", # Position is increasing or equal\n",
    "                is_default=False\n",
    "            )\n",
    "        ], \n",
    "        movements=[\n",
    "            # Buy side movement\n",
    "            models.TransactionTypeMovement(\n",
    "                movement_types=\"StockMovement\", # For generating holdings\n",
    "                side=\"Side1\",\n",
    "                direction=1, \n",
    "            ),\n",
    "            # Sell side movement\n",
    "            models.TransactionTypeMovement(\n",
    "                movement_types=\"CashCommitment\",\n",
    "                side=\"Side2\",\n",
    "                direction=-1, \n",
    "            )\n",
    "        ],\n",
    "    )\n",
    "    \n",
    "    try:\n",
    "        response = txn_config_api.set_transaction_type(\n",
    "            source=source,\n",
    "            type=label, # Label\n",
    "            transaction_type_request=transaction_type_request\n",
    "        )        \n",
    "        print(f\"Type '{source}/{label}' created successfully\")\n",
    "\n",
    "    except lu.ApiException as e:\n",
    "        if json.loads(e.body)[\"code\"] == 231: # TransactionTypeDuplication\n",
    "            print(json.loads(e.body)[\"title\"])\n",
    "        else:\n",
    "            raise e\n",
    "        \n",
    "# Create our 3 transaction types\n",
    "create_type(label=\"B123\", source=\"buy-01\", transaction_class=\"NotebookBuy\")\n",
    "create_type(label=\"BuyLong\", source=\"buy-01\", transaction_class=\"NotebookBuy\")\n",
    "create_type(label=\"Purchase\", source=\"buy-02\", transaction_class=\"NotebookBuy\")"
   ]
  },
  {
   "cell_type": "markdown",
   "id": "e4e519ab",
   "metadata": {},
   "source": [
    "## 2. Create Parent Transaction Type\n",
    "\n",
    "This type needs a source of `default` and the same transaction class as above. We can give this transaction type whatever name we desire."
   ]
  },
  {
   "cell_type": "code",
   "execution_count": 6,
   "id": "baf2ca67",
   "metadata": {},
   "outputs": [
    {
     "name": "stdout",
     "output_type": "stream",
     "text": [
      "Type 'default/BUY_PARENT_TYPE' created successfully\n"
     ]
    }
   ],
   "source": [
    "create_type(label=\"BUY_PARENT_TYPE\", source=\"default\", transaction_class=\"NotebookBuy\")"
   ]
  },
  {
   "cell_type": "markdown",
   "id": "9ce7057d",
   "metadata": {},
   "source": [
    "## 3. Book Transactions"
   ]
  },
  {
   "cell_type": "markdown",
   "id": "5db59e72",
   "metadata": {},
   "source": [
    "### Create Portfolio\n",
    "\n",
    "Create a portfolio to book in some transactions."
   ]
  },
  {
   "cell_type": "code",
   "execution_count": 7,
   "id": "50a4e469",
   "metadata": {},
   "outputs": [
    {
     "name": "stdout",
     "output_type": "stream",
     "text": [
      "'notebook-example/TEST_BUY_PORTFOLIO' portfolio created\n"
     ]
    }
   ],
   "source": [
    "# Create GBP Portfolio\n",
    "portfolio_request = models.CreateTransactionPortfolioRequest(\n",
    "    display_name=name,\n",
    "    code=code,\n",
    "    base_currency=\"GBP\",\n",
    "    created=datetime(2020, 1, 1, tzinfo=pytz.utc)\n",
    ")\n",
    "\n",
    "try:\n",
    "    response = txn_portfolio_api.create_portfolio(\n",
    "        scope,\n",
    "        create_transaction_portfolio_request=portfolio_request\n",
    "    )\n",
    "    print(f\"'{scope}/{name}' portfolio created\")\n",
    "    \n",
    "except lu.ApiException as e:\n",
    "    if json.loads(e.body)[\"code\"] == 112: # PortfolioWithIdAlreadyExists\n",
    "        print(json.loads(e.body)[\"title\"])\n",
    "    else:\n",
    "        raise e"
   ]
  },
  {
   "cell_type": "markdown",
   "id": "a17ff4b1",
   "metadata": {},
   "source": [
    "### Upsert Transactions\n",
    "\n",
    "Add cash transactions into the portfolio, one for each of our classes."
   ]
  },
  {
   "cell_type": "code",
   "execution_count": 8,
   "id": "06ebdd4e",
   "metadata": {},
   "outputs": [
    {
     "name": "stdout",
     "output_type": "stream",
     "text": [
      "Transactions successfully upserted\n"
     ]
    }
   ],
   "source": [
    "def create_transaction(transaction_type, source):\n",
    "    return models.TransactionRequest(\n",
    "        transaction_id=f\"TXN_{transaction_type}\",\n",
    "        type=transaction_type,\n",
    "        source=source,\n",
    "        instrument_identifiers={\"Instrument/default/Currency\": \"GBP\"},\n",
    "        transaction_date=datetime.now().replace(tzinfo=timezone.utc).isoformat(),\n",
    "        settlement_date=datetime.now().replace(tzinfo=timezone.utc).isoformat(),\n",
    "        units=100,\n",
    "        total_consideration=models.CurrencyAndAmount(amount=100, currency=\"GBP\"),\n",
    "        properties={\n",
    "            \n",
    "        }\n",
    "    )\n",
    "\n",
    "transactions = []\n",
    "    \n",
    "# Create a transaction for each type\n",
    "transactions.append(create_transaction(transaction_type=\"B123\", source=\"buy-01\"))\n",
    "transactions.append(create_transaction(transaction_type=\"BuyLong\", source=\"buy-01\"))\n",
    "transactions.append(create_transaction(transaction_type=\"Purchase\", source=\"buy-02\"))\n",
    "transactions.append(create_transaction(transaction_type=\"BUY_PARENT_TYPE\", source=\"default\"))\n",
    "\n",
    "# Upsert transactions to our portfolio\n",
    "try:\n",
    "    response = txn_portfolio_api.upsert_transactions(\n",
    "        scope=scope,\n",
    "        code=code,\n",
    "        transaction_request=transactions\n",
    "    )\n",
    "    print(f\"Transactions successfully upserted\")\n",
    "except lu.ApiException as e:\n",
    "    raise e"
   ]
  },
  {
   "cell_type": "markdown",
   "id": "3051e960",
   "metadata": {},
   "source": [
    "# 4. Get Transactions\n",
    "\n",
    "To validate the mappings have been successful, we can fetch the transactions. \n",
    "\n",
    "The table shows a comparison between the `Type` (what is seen in LUSID) and the `InputType` (what we loaded into LUSID). Note how we maintain our original source for each type."
   ]
  },
  {
   "cell_type": "code",
   "execution_count": 9,
   "id": "3094a70c",
   "metadata": {},
   "outputs": [
    {
     "data": {
      "text/html": [
       "<div>\n",
       "<style scoped>\n",
       "    .dataframe tbody tr th:only-of-type {\n",
       "        vertical-align: middle;\n",
       "    }\n",
       "\n",
       "    .dataframe tbody tr th {\n",
       "        vertical-align: top;\n",
       "    }\n",
       "\n",
       "    .dataframe thead th {\n",
       "        text-align: right;\n",
       "    }\n",
       "</style>\n",
       "<table border=\"1\" class=\"dataframe\">\n",
       "  <thead>\n",
       "    <tr style=\"text-align: right;\">\n",
       "      <th></th>\n",
       "      <th>ID</th>\n",
       "      <th>Type</th>\n",
       "      <th>Source</th>\n",
       "      <th>InputType</th>\n",
       "    </tr>\n",
       "  </thead>\n",
       "  <tbody>\n",
       "    <tr>\n",
       "      <th>0</th>\n",
       "      <td>TXN_B123</td>\n",
       "      <td>BUY_PARENT_TYPE</td>\n",
       "      <td>buy-01</td>\n",
       "      <td>B123</td>\n",
       "    </tr>\n",
       "    <tr>\n",
       "      <th>1</th>\n",
       "      <td>TXN_BuyLong</td>\n",
       "      <td>BUY_PARENT_TYPE</td>\n",
       "      <td>buy-01</td>\n",
       "      <td>BuyLong</td>\n",
       "    </tr>\n",
       "    <tr>\n",
       "      <th>2</th>\n",
       "      <td>TXN_Purchase</td>\n",
       "      <td>BUY_PARENT_TYPE</td>\n",
       "      <td>buy-02</td>\n",
       "      <td>Purchase</td>\n",
       "    </tr>\n",
       "    <tr>\n",
       "      <th>3</th>\n",
       "      <td>TXN_BUY_PARENT_TYPE</td>\n",
       "      <td>BUY_PARENT_TYPE</td>\n",
       "      <td>default</td>\n",
       "      <td>BUY_PARENT_TYPE</td>\n",
       "    </tr>\n",
       "  </tbody>\n",
       "</table>\n",
       "</div>"
      ],
      "text/plain": [
       "                    ID             Type   Source        InputType\n",
       "0             TXN_B123  BUY_PARENT_TYPE   buy-01             B123\n",
       "1          TXN_BuyLong  BUY_PARENT_TYPE   buy-01          BuyLong\n",
       "2         TXN_Purchase  BUY_PARENT_TYPE   buy-02         Purchase\n",
       "3  TXN_BUY_PARENT_TYPE  BUY_PARENT_TYPE  default  BUY_PARENT_TYPE"
      ]
     },
     "execution_count": 9,
     "metadata": {},
     "output_type": "execute_result"
    }
   ],
   "source": [
    "# Get transactions\n",
    "response = txn_portfolio_api.get_transactions(\n",
    "    scope=scope,\n",
    "    code=code,\n",
    ")\n",
    "\n",
    "data = response.values\n",
    "\n",
    "data_structure = {\n",
    "    \"ID\": [i.transaction_id for i in data],\n",
    "    \"Type\": [i.type for i in data],\n",
    "    \"Source\": [i.source for i in data],\n",
    "    \"InputType\": [i.transaction_id.split('TXN_')[1] for i in data], # Extract input type from ID\n",
    "}\n",
    "\n",
    "pd.DataFrame(data_structure)"
   ]
  }
 ],
 "metadata": {
  "kernelspec": {
   "display_name": "Python 3",
   "language": "python",
   "name": "python3"
  },
  "language_info": {
   "codemirror_mode": {
    "name": "ipython",
    "version": 3
   },
   "file_extension": ".py",
   "mimetype": "text/x-python",
   "name": "python",
   "nbconvert_exporter": "python",
   "pygments_lexer": "ipython3",
   "version": "3.10.8 (main, Oct 13 2022, 09:48:40) [Clang 14.0.0 (clang-1400.0.29.102)]"
  },
  "toc": {
   "base_numbering": 1,
   "nav_menu": {},
   "number_sections": false,
   "sideBar": true,
   "skip_h1_title": false,
   "title_cell": "Table of Contents",
   "title_sidebar": "Contents",
   "toc_cell": false,
   "toc_position": {},
   "toc_section_display": true,
   "toc_window_display": false
  },
  "varInspector": {
   "cols": {
    "lenName": 16,
    "lenType": 16,
    "lenVar": 40
   },
   "kernels_config": {
    "python": {
     "delete_cmd_postfix": "",
     "delete_cmd_prefix": "del ",
     "library": "var_list.py",
     "varRefreshCmd": "print(var_dic_list())"
    },
    "r": {
     "delete_cmd_postfix": ") ",
     "delete_cmd_prefix": "rm(",
     "library": "var_list.r",
     "varRefreshCmd": "cat(var_dic_list()) "
    }
   },
   "types_to_exclude": [
    "module",
    "function",
    "builtin_function_or_method",
    "instance",
    "_Feature"
   ],
   "window_display": false
  }
 },
 "nbformat": 4,
 "nbformat_minor": 5
}
