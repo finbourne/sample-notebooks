{
 "cells": [
  {
   "cell_type": "markdown",
   "metadata": {},
   "source": [
    "# Incorporating live orders into your holdings view\n",
    "\n",
    "In this example we demonstrate how to give front office users a view of intraday trading activity on top of their middle office IBOR. We set up a portfolio with multiple strategies and generate orders and allocations. We can show updated positions that account for these live, partially allocated orders.\n",
    "\n",
    "To illustrate, below we will trade <i>Amazon, Inc.</i>. We'll create a set of limit and market orders, and show an updated view of the portfolio intraday.\n"
   ]
  },
  {
   "cell_type": "markdown",
   "metadata": {},
   "source": [
    "## Imports"
   ]
  },
  {
   "cell_type": "code",
   "execution_count": 74,
   "metadata": {},
   "outputs": [
    {
     "name": "stdout",
     "output_type": "stream",
     "text": [
      "LUSID Environment Initialised\n",
      "API Version:  0.0.1.0\n"
     ]
    }
   ],
   "source": [
    "import lusid\n",
    "import lusid.models as models\n",
    "import lusid.api as la\n",
    "import lusid.models as lm\n",
    "from lusid import ApiException\n",
    "from lusid.utilities import ApiClientFactory\n",
    "from lusidjam.refreshing_token import RefreshingToken\n",
    "from lusidtools.cocoon.cocoon import load_from_data_frame\n",
    "from lusidtools.pandas_utils.lusid_pandas import lusid_response_to_data_frame\n",
    "from lusidtools.cocoon.seed_sample_data import seed_data\n",
    "from lusidtools.cocoon.utilities import create_scope_id\n",
    "from lusidtools.cocoon.cocoon_printer import (\n",
    "    format_instruments_response,\n",
    "    format_portfolios_response,\n",
    "    format_transactions_response,\n",
    "    format_quotes_response,\n",
    "    format_holdings_response,\n",
    ")\n",
    "\n",
    "from collections import defaultdict\n",
    "import pandas as pd\n",
    "import numpy as np\n",
    "import json\n",
    "import openpyxl\n",
    "import os\n",
    "from datetime import date,timedelta,datetime\n",
    "\n",
    "pd.set_option('display.max_columns', None)\n",
    "pd.set_option('max_colwidth', 500)\n",
    "\n",
    "# Authenticate our user and create our API client\n",
    "secrets_path = os.getenv(\"FBN_SECRETS_PATH\")\n",
    "\n",
    "# Initiate an API Factory which is the client side object for interacting with LUSID APIs\n",
    "api_factory = lusid.utilities.ApiClientFactory(\n",
    "    token=RefreshingToken(),\n",
    "    api_secrets_filename = secrets_path,\n",
    "    app_name=\"LusidJupyterNotebook\")\n",
    "\n",
    "print ('LUSID Environment Initialised')\n",
    "print ('API Version: ', api_factory.build(lusid.api.ApplicationMetadataApi).get_lusid_versions().build_version)"
   ]
  },
  {
   "cell_type": "markdown",
   "metadata": {},
   "source": [
    "Define scope, portfolio and some other variables used in the example:"
   ]
  },
  {
   "cell_type": "code",
   "execution_count": 75,
   "metadata": {},
   "outputs": [],
   "source": [
    "orders_scope = \"holdings_with_live_orders\"\n",
    "orders_portfolio = \"us_long\"\n",
    "strategy_shk = \"strategy\"\n",
    "date_today=date.today\n",
    "pf_created_date = \"2020-01-01T00:00:00+00:00\"\n",
    "\n",
    "recipe_scope = orders_scope\n",
    "recipe_code = \"test_recipe\""
   ]
  },
  {
   "cell_type": "markdown",
   "metadata": {},
   "source": [
    "## Create a Portfolio"
   ]
  },
  {
   "cell_type": "code",
   "execution_count": 76,
   "metadata": {},
   "outputs": [],
   "source": [
    "def create_portfolio(scope, portfolio_code, name):\n",
    "\n",
    "    pf_df = pd.DataFrame(data=[\n",
    "        {\"portfolio_code\": portfolio_code, \"portfolio_name\": name},\n",
    "    ])\n",
    "    \n",
    "    portfolio_mapping = {\n",
    "        \"required\": {\n",
    "            \"code\": \"portfolio_code\",\n",
    "            \"display_name\": \"portfolio_name\",\n",
    "            \"base_currency\": \"$USD\",\n",
    "        },\n",
    "        \"optional\": {\n",
    "            \"created\": f\"${pf_created_date}\"\n",
    "        },\n",
    "    }\n",
    "    \n",
    "    result = load_from_data_frame(\n",
    "        api_factory=api_factory,\n",
    "        scope=scope,\n",
    "        data_frame=pf_df,\n",
    "        mapping_required=portfolio_mapping[\"required\"],\n",
    "        mapping_optional=portfolio_mapping[\"optional\"],\n",
    "        file_type=\"portfolios\",\n",
    "    )\n",
    "\n",
    "    succ, failed = format_portfolios_response(result)\n",
    "    display(pd.DataFrame(data=[{\"success\": len(succ), \"failed\": len(failed)}])) "
   ]
  },
  {
   "cell_type": "code",
   "execution_count": 77,
   "metadata": {},
   "outputs": [
    {
     "data": {
      "text/html": [
       "<div>\n",
       "<style scoped>\n",
       "    .dataframe tbody tr th:only-of-type {\n",
       "        vertical-align: middle;\n",
       "    }\n",
       "\n",
       "    .dataframe tbody tr th {\n",
       "        vertical-align: top;\n",
       "    }\n",
       "\n",
       "    .dataframe thead th {\n",
       "        text-align: right;\n",
       "    }\n",
       "</style>\n",
       "<table border=\"1\" class=\"dataframe\">\n",
       "  <thead>\n",
       "    <tr style=\"text-align: right;\">\n",
       "      <th></th>\n",
       "      <th>success</th>\n",
       "      <th>failed</th>\n",
       "    </tr>\n",
       "  </thead>\n",
       "  <tbody>\n",
       "    <tr>\n",
       "      <th>0</th>\n",
       "      <td>1</td>\n",
       "      <td>0</td>\n",
       "    </tr>\n",
       "  </tbody>\n",
       "</table>\n",
       "</div>"
      ],
      "text/plain": [
       "   success  failed\n",
       "0        1       0"
      ]
     },
     "metadata": {},
     "output_type": "display_data"
    }
   ],
   "source": [
    "    create_portfolio(orders_scope, orders_portfolio, \"ibor\")"
   ]
  },
  {
   "cell_type": "markdown",
   "metadata": {},
   "source": [
    "## Load an Instrument Master with a single instrument"
   ]
  },
  {
   "cell_type": "code",
   "execution_count": 78,
   "metadata": {},
   "outputs": [
    {
     "data": {
      "text/html": [
       "<div>\n",
       "<style scoped>\n",
       "    .dataframe tbody tr th:only-of-type {\n",
       "        vertical-align: middle;\n",
       "    }\n",
       "\n",
       "    .dataframe tbody tr th {\n",
       "        vertical-align: top;\n",
       "    }\n",
       "\n",
       "    .dataframe thead th {\n",
       "        text-align: right;\n",
       "    }\n",
       "</style>\n",
       "<table border=\"1\" class=\"dataframe\">\n",
       "  <thead>\n",
       "    <tr style=\"text-align: right;\">\n",
       "      <th></th>\n",
       "      <th>instrument_name</th>\n",
       "      <th>client_internal</th>\n",
       "      <th>currency</th>\n",
       "      <th>isin</th>\n",
       "      <th>figi</th>\n",
       "      <th>exchange_code</th>\n",
       "      <th>country_issue</th>\n",
       "      <th>ticker</th>\n",
       "      <th>market_sector</th>\n",
       "      <th>security_type</th>\n",
       "      <th>coupon</th>\n",
       "    </tr>\n",
       "  </thead>\n",
       "  <tbody>\n",
       "    <tr>\n",
       "      <th>0</th>\n",
       "      <td>Amazon_Nasdaq_AMZN</td>\n",
       "      <td>imd_34634534</td>\n",
       "      <td>USD</td>\n",
       "      <td>US0231351067</td>\n",
       "      <td>BBG000BVPXP1</td>\n",
       "      <td>UN</td>\n",
       "      <td>united_states_america</td>\n",
       "      <td>AMZN</td>\n",
       "      <td>equity</td>\n",
       "      <td>common_stock</td>\n",
       "      <td>NaN</td>\n",
       "    </tr>\n",
       "    <tr>\n",
       "      <th>1</th>\n",
       "      <td>Anglian_Water_40LV</td>\n",
       "      <td>imd_13579246</td>\n",
       "      <td>GBP</td>\n",
       "      <td>XS0089553282</td>\n",
       "      <td>NaN</td>\n",
       "      <td>GB</td>\n",
       "      <td>united_kingdom</td>\n",
       "      <td>NaN</td>\n",
       "      <td>fixed_income</td>\n",
       "      <td>bond</td>\n",
       "      <td>6.625</td>\n",
       "    </tr>\n",
       "    <tr>\n",
       "      <th>2</th>\n",
       "      <td>ICE_Silver_5000oz_Dec21</td>\n",
       "      <td>imd_12457801</td>\n",
       "      <td>GBP</td>\n",
       "      <td>NaN</td>\n",
       "      <td>NaN</td>\n",
       "      <td>GB</td>\n",
       "      <td>united_kingdom</td>\n",
       "      <td>ZIZ21</td>\n",
       "      <td>commodity</td>\n",
       "      <td>future</td>\n",
       "      <td>NaN</td>\n",
       "    </tr>\n",
       "  </tbody>\n",
       "</table>\n",
       "</div>"
      ],
      "text/plain": [
       "           instrument_name client_internal currency          isin  \\\n",
       "0       Amazon_Nasdaq_AMZN    imd_34634534      USD  US0231351067   \n",
       "1       Anglian_Water_40LV    imd_13579246      GBP  XS0089553282   \n",
       "2  ICE_Silver_5000oz_Dec21    imd_12457801      GBP           NaN   \n",
       "\n",
       "           figi exchange_code          country_issue ticker market_sector  \\\n",
       "0  BBG000BVPXP1            UN  united_states_america   AMZN        equity   \n",
       "1           NaN            GB         united_kingdom    NaN  fixed_income   \n",
       "2           NaN            GB         united_kingdom  ZIZ21     commodity   \n",
       "\n",
       "  security_type  coupon  \n",
       "0  common_stock     NaN  \n",
       "1          bond   6.625  \n",
       "2        future     NaN  "
      ]
     },
     "metadata": {},
     "output_type": "display_data"
    }
   ],
   "source": [
    "instr_df = pd.read_csv(\"data/live_orders_instruments.csv\")\n",
    "display(instr_df)"
   ]
  },
  {
   "cell_type": "code",
   "execution_count": 79,
   "metadata": {},
   "outputs": [],
   "source": [
    "instrument_mapping = {\n",
    "    \"identifier_mapping\": {\n",
    "        \"ClientInternal\": \"client_internal\",\n",
    "        \"Isin\": \"isin\",\n",
    "        \"Figi\": \"figi\",\n",
    "    },\n",
    "    \"required\": {\n",
    "        \"name\": \"instrument_name\"\n",
    "    },\n",
    "}"
   ]
  },
  {
   "cell_type": "code",
   "execution_count": 80,
   "metadata": {},
   "outputs": [
    {
     "data": {
      "text/html": [
       "<div>\n",
       "<style scoped>\n",
       "    .dataframe tbody tr th:only-of-type {\n",
       "        vertical-align: middle;\n",
       "    }\n",
       "\n",
       "    .dataframe tbody tr th {\n",
       "        vertical-align: top;\n",
       "    }\n",
       "\n",
       "    .dataframe thead th {\n",
       "        text-align: right;\n",
       "    }\n",
       "</style>\n",
       "<table border=\"1\" class=\"dataframe\">\n",
       "  <thead>\n",
       "    <tr style=\"text-align: right;\">\n",
       "      <th></th>\n",
       "      <th>success</th>\n",
       "      <th>failed</th>\n",
       "      <th>errors</th>\n",
       "    </tr>\n",
       "  </thead>\n",
       "  <tbody>\n",
       "    <tr>\n",
       "      <th>0</th>\n",
       "      <td>3</td>\n",
       "      <td>0</td>\n",
       "      <td>0</td>\n",
       "    </tr>\n",
       "  </tbody>\n",
       "</table>\n",
       "</div>"
      ],
      "text/plain": [
       "   success  failed  errors\n",
       "0        3       0       0"
      ]
     },
     "execution_count": 80,
     "metadata": {},
     "output_type": "execute_result"
    }
   ],
   "source": [
    "result = load_from_data_frame(\n",
    "    api_factory=api_factory,\n",
    "    scope=orders_scope,\n",
    "    data_frame=instr_df,\n",
    "    mapping_required=instrument_mapping[\"required\"],\n",
    "    mapping_optional={},\n",
    "    file_type=\"instruments\",\n",
    "    identifier_mapping=instrument_mapping[\"identifier_mapping\"],\n",
    ")\n",
    "\n",
    "succ, failed, errors = format_instruments_response(result)\n",
    "pd.DataFrame(data=[{\"success\": len(succ), \"failed\": len(failed), \"errors\": len(errors)}])"
   ]
  },
  {
   "cell_type": "markdown",
   "metadata": {},
   "source": [
    "## Create a recipe"
   ]
  },
  {
   "cell_type": "code",
   "execution_count": 81,
   "metadata": {},
   "outputs": [],
   "source": [
    "configuration_recipe_api = api_factory.build(lusid.api.ConfigurationRecipeApi)\n",
    "\n",
    "configuration_recipe = models.ConfigurationRecipe(\n",
    "    recipe_scope,\n",
    "    recipe_code,\n",
    "    market=models.MarketContext(\n",
    "        market_rules=[\n",
    "            models.MarketDataKeyRule(\n",
    "                key=\"Equity.ClientInternal.*\",\n",
    "                supplier=\"Lusid\",\n",
    "                data_scope=orders_scope,\n",
    "                quote_type=\"Price\",\n",
    "                field=\"mid\",\n",
    "            )\n",
    "        ],\n",
    "        options=models.MarketOptions(\n",
    "            default_supplier=\"Lusid\",\n",
    "            default_instrument_code_type=\"ClientInternal\",\n",
    "            default_scope=orders_scope\n",
    "        )\n",
    "    ),\n",
    "    pricing=models.PricingContext(\n",
    "        options={\"AllowPartiallySuccessfulEvaluation\": False},\n",
    "    ),\n",
    ")\n",
    "\n",
    "upsert_configuration_recipe_response = configuration_recipe_api.upsert_configuration_recipe(\n",
    "    upsert_recipe_request=models.UpsertRecipeRequest(\n",
    "        configuration_recipe=configuration_recipe\n",
    "    )\n",
    ")"
   ]
  },
  {
   "cell_type": "markdown",
   "metadata": {},
   "source": [
    "## Set initial holdings in the parent portfolio"
   ]
  },
  {
   "cell_type": "code",
   "execution_count": 82,
   "metadata": {},
   "outputs": [
    {
     "data": {
      "text/html": [
       "<div>\n",
       "<style scoped>\n",
       "    .dataframe tbody tr th:only-of-type {\n",
       "        vertical-align: middle;\n",
       "    }\n",
       "\n",
       "    .dataframe tbody tr th {\n",
       "        vertical-align: top;\n",
       "    }\n",
       "\n",
       "    .dataframe thead th {\n",
       "        text-align: right;\n",
       "    }\n",
       "</style>\n",
       "<table border=\"1\" class=\"dataframe\">\n",
       "  <thead>\n",
       "    <tr style=\"text-align: right;\">\n",
       "      <th></th>\n",
       "      <th>instrument_name</th>\n",
       "      <th>client_internal</th>\n",
       "      <th>isin</th>\n",
       "      <th>figi</th>\n",
       "      <th>quantity</th>\n",
       "      <th>unit_cost</th>\n",
       "      <th>total_cost</th>\n",
       "      <th>currency</th>\n",
       "    </tr>\n",
       "  </thead>\n",
       "  <tbody>\n",
       "    <tr>\n",
       "      <th>0</th>\n",
       "      <td>Amazon_Nasdaq_AMZN</td>\n",
       "      <td>imd_34634534</td>\n",
       "      <td>US0231351067</td>\n",
       "      <td>BBG000BVPXP1</td>\n",
       "      <td>5000</td>\n",
       "      <td>1550</td>\n",
       "      <td>7750000</td>\n",
       "      <td>USD</td>\n",
       "    </tr>\n",
       "  </tbody>\n",
       "</table>\n",
       "</div>"
      ],
      "text/plain": [
       "      instrument_name client_internal          isin          figi  quantity  \\\n",
       "0  Amazon_Nasdaq_AMZN    imd_34634534  US0231351067  BBG000BVPXP1      5000   \n",
       "\n",
       "   unit_cost  total_cost currency  \n",
       "0       1550     7750000      USD  "
      ]
     },
     "metadata": {},
     "output_type": "display_data"
    }
   ],
   "source": [
    "hldgs_df = pd.read_csv(\"data/initial_amazon_holdings.csv\")\n",
    "display(hldgs_df)"
   ]
  },
  {
   "cell_type": "code",
   "execution_count": 83,
   "metadata": {},
   "outputs": [],
   "source": [
    "holdings_mapping = {\n",
    "    \"required\":{\n",
    "        \"code\": f\"${orders_portfolio}\",\n",
    "        \"effective_at\": \"$2020-05-01\",\n",
    "        \"tax_lots.units\": \"quantity\"\n",
    "    },\n",
    "    \"identifier_mapping\": {\n",
    "        \"ClientInternal\": \"client_internal\",\n",
    "    },\n",
    "    \"optional\": {\n",
    "        \"tax_lots.cost.amount\": \"total_cost\",\n",
    "        \"tax_lots.cost.currency\": \"currency\",\n",
    "        \"tax_lots.price\": \"unit_cost\"\n",
    "    }\n",
    "}"
   ]
  },
  {
   "cell_type": "code",
   "execution_count": 84,
   "metadata": {},
   "outputs": [
    {
     "data": {
      "text/html": [
       "<div>\n",
       "<style scoped>\n",
       "    .dataframe tbody tr th:only-of-type {\n",
       "        vertical-align: middle;\n",
       "    }\n",
       "\n",
       "    .dataframe tbody tr th {\n",
       "        vertical-align: top;\n",
       "    }\n",
       "\n",
       "    .dataframe thead th {\n",
       "        text-align: right;\n",
       "    }\n",
       "</style>\n",
       "<table border=\"1\" class=\"dataframe\">\n",
       "  <thead>\n",
       "    <tr style=\"text-align: right;\">\n",
       "      <th></th>\n",
       "      <th>success</th>\n",
       "      <th>failed</th>\n",
       "      <th>errors</th>\n",
       "    </tr>\n",
       "  </thead>\n",
       "  <tbody>\n",
       "    <tr>\n",
       "      <th>0</th>\n",
       "      <td>1</td>\n",
       "      <td>0</td>\n",
       "      <td>0</td>\n",
       "    </tr>\n",
       "  </tbody>\n",
       "</table>\n",
       "</div>"
      ],
      "text/plain": [
       "   success  failed  errors\n",
       "0        1       0       0"
      ]
     },
     "execution_count": 84,
     "metadata": {},
     "output_type": "execute_result"
    }
   ],
   "source": [
    "result = load_from_data_frame(\n",
    "    api_factory=api_factory,\n",
    "    scope=orders_scope,\n",
    "    data_frame=hldgs_df,\n",
    "    mapping_required=holdings_mapping[\"required\"],\n",
    "    mapping_optional=holdings_mapping[\"optional\"],\n",
    "    identifier_mapping=holdings_mapping[\"identifier_mapping\"],\n",
    "    file_type=\"holdings\"\n",
    ")\n",
    "succ, failed = format_holdings_response(result)\n",
    "pd.DataFrame(data=[{\"success\": len(succ), \"failed\": len(failed), \"errors\": len(errors)}])"
   ]
  },
  {
   "cell_type": "markdown",
   "metadata": {},
   "source": [
    "## Check the initial portfolio holdings\n",
    "We see just a single, material holding in the instrument."
   ]
  },
  {
   "cell_type": "code",
   "execution_count": 85,
   "metadata": {},
   "outputs": [
    {
     "data": {
      "text/html": [
       "<style  type=\"text/css\" >\n",
       "</style><table id=\"T_9d06de76_3246_11ec_aeb3_00155d3b4bad\" ><thead>    <tr>        <th class=\"blank level0\" ></th>        <th class=\"col_heading level0 col0\" >instrument_uid</th>        <th class=\"col_heading level0 col1\" >holding_type</th>        <th class=\"col_heading level0 col2\" >units</th>        <th class=\"col_heading level0 col3\" >cost.amount</th>        <th class=\"col_heading level0 col4\" >cost.currency</th>    </tr></thead><tbody>\n",
       "                <tr>\n",
       "                        <th id=\"T_9d06de76_3246_11ec_aeb3_00155d3b4badlevel0_row0\" class=\"row_heading level0 row0\" >0</th>\n",
       "                        <td id=\"T_9d06de76_3246_11ec_aeb3_00155d3b4badrow0_col0\" class=\"data row0 col0\" >LUID_00003D4W</td>\n",
       "                        <td id=\"T_9d06de76_3246_11ec_aeb3_00155d3b4badrow0_col1\" class=\"data row0 col1\" >P</td>\n",
       "                        <td id=\"T_9d06de76_3246_11ec_aeb3_00155d3b4badrow0_col2\" class=\"data row0 col2\" >               5,000</td>\n",
       "                        <td id=\"T_9d06de76_3246_11ec_aeb3_00155d3b4badrow0_col3\" class=\"data row0 col3\" >        7,750,000.00</td>\n",
       "                        <td id=\"T_9d06de76_3246_11ec_aeb3_00155d3b4badrow0_col4\" class=\"data row0 col4\" >USD</td>\n",
       "            </tr>\n",
       "    </tbody></table>"
      ],
      "text/plain": [
       "<pandas.io.formats.style.Styler at 0x7feea7547110>"
      ]
     },
     "execution_count": 85,
     "metadata": {},
     "output_type": "execute_result"
    }
   ],
   "source": [
    "executed_holdings = api_factory.build(la.TransactionPortfoliosApi).get_holdings_with_orders(scope=orders_scope, code=orders_portfolio, property_keys=[\"Instrument/default/Name\"])\n",
    "\n",
    "response_df=lusid_response_to_data_frame(executed_holdings, rename_properties=True)\n",
    "response_df[[\"instrument_uid\", \"holding_type\", \"units\", \"cost.amount\", \"cost.currency\"]].style.format({\"units\":\"{:20,.0f}\",\"cost.amount\": \"{:20,.2f}\"})"
   ]
  },
  {
   "cell_type": "markdown",
   "metadata": {},
   "source": [
    "## Post orders into LUSID\n",
    "\n",
    "In this section, we post some [orders](https://support.finbourne.com/how-does-lusid-support-the-trade-lifecycle) into LUSID. We have a number of orders for Amazon stock to demonstrate the processing of market, limit, and stop orders. In addtion we have an order for a corporate bond."
   ]
  },
  {
   "cell_type": "code",
   "execution_count": 86,
   "metadata": {},
   "outputs": [
    {
     "data": {
      "text/html": [
       "<div>\n",
       "<style scoped>\n",
       "    .dataframe tbody tr th:only-of-type {\n",
       "        vertical-align: middle;\n",
       "    }\n",
       "\n",
       "    .dataframe tbody tr th {\n",
       "        vertical-align: top;\n",
       "    }\n",
       "\n",
       "    .dataframe thead th {\n",
       "        text-align: right;\n",
       "    }\n",
       "</style>\n",
       "<table border=\"1\" class=\"dataframe\">\n",
       "  <thead>\n",
       "    <tr style=\"text-align: right;\">\n",
       "      <th></th>\n",
       "      <th>portfolio</th>\n",
       "      <th>instrument_name</th>\n",
       "      <th>client_internal</th>\n",
       "      <th>isin</th>\n",
       "      <th>figi</th>\n",
       "      <th>quantity</th>\n",
       "      <th>price</th>\n",
       "      <th>currency</th>\n",
       "      <th>order_id</th>\n",
       "      <th>side</th>\n",
       "      <th>type</th>\n",
       "      <th>state</th>\n",
       "    </tr>\n",
       "  </thead>\n",
       "  <tbody>\n",
       "    <tr>\n",
       "      <th>0</th>\n",
       "      <td>us_long</td>\n",
       "      <td>Amazon_Nasdaq_AMZN</td>\n",
       "      <td>imd_34634534</td>\n",
       "      <td>US0231351067</td>\n",
       "      <td>BBG000BVPXP1</td>\n",
       "      <td>1000</td>\n",
       "      <td>1000.0</td>\n",
       "      <td>USD</td>\n",
       "      <td>ORD001</td>\n",
       "      <td>sell</td>\n",
       "      <td>limit</td>\n",
       "      <td>new</td>\n",
       "    </tr>\n",
       "    <tr>\n",
       "      <th>1</th>\n",
       "      <td>us_long</td>\n",
       "      <td>Amazon_Nasdaq_AMZN</td>\n",
       "      <td>imd_34634534</td>\n",
       "      <td>US0231351067</td>\n",
       "      <td>BBG000BVPXP1</td>\n",
       "      <td>1000</td>\n",
       "      <td>950.0</td>\n",
       "      <td>USD</td>\n",
       "      <td>ORD002</td>\n",
       "      <td>buy</td>\n",
       "      <td>limit</td>\n",
       "      <td>new</td>\n",
       "    </tr>\n",
       "    <tr>\n",
       "      <th>2</th>\n",
       "      <td>us_long</td>\n",
       "      <td>Amazon_Nasdaq_AMZN</td>\n",
       "      <td>imd_34634534</td>\n",
       "      <td>US0231351067</td>\n",
       "      <td>BBG000BVPXP1</td>\n",
       "      <td>3000</td>\n",
       "      <td>NaN</td>\n",
       "      <td>USD</td>\n",
       "      <td>ORD003</td>\n",
       "      <td>buy</td>\n",
       "      <td>stop</td>\n",
       "      <td>new</td>\n",
       "    </tr>\n",
       "    <tr>\n",
       "      <th>3</th>\n",
       "      <td>us_long</td>\n",
       "      <td>Amazon_Nasdaq_AMZN</td>\n",
       "      <td>imd_34634534</td>\n",
       "      <td>US0231351067</td>\n",
       "      <td>BBG000BVPXP1</td>\n",
       "      <td>1000</td>\n",
       "      <td>NaN</td>\n",
       "      <td>USD</td>\n",
       "      <td>ORD004</td>\n",
       "      <td>buy</td>\n",
       "      <td>market</td>\n",
       "      <td>new</td>\n",
       "    </tr>\n",
       "    <tr>\n",
       "      <th>4</th>\n",
       "      <td>us_long</td>\n",
       "      <td>Anglian_Water_40LV</td>\n",
       "      <td>imd_13579246</td>\n",
       "      <td>XS0089553282</td>\n",
       "      <td>NaN</td>\n",
       "      <td>500</td>\n",
       "      <td>NaN</td>\n",
       "      <td>GBP</td>\n",
       "      <td>ORD005</td>\n",
       "      <td>buy</td>\n",
       "      <td>market</td>\n",
       "      <td>new</td>\n",
       "    </tr>\n",
       "    <tr>\n",
       "      <th>5</th>\n",
       "      <td>us_long</td>\n",
       "      <td>ICE_Silver_5000oz_Dec21</td>\n",
       "      <td>imd_12457801</td>\n",
       "      <td>NaN</td>\n",
       "      <td>NaN</td>\n",
       "      <td>5000</td>\n",
       "      <td>NaN</td>\n",
       "      <td>GBP</td>\n",
       "      <td>ORD006</td>\n",
       "      <td>buy</td>\n",
       "      <td>market</td>\n",
       "      <td>new</td>\n",
       "    </tr>\n",
       "  </tbody>\n",
       "</table>\n",
       "</div>"
      ],
      "text/plain": [
       "  portfolio          instrument_name client_internal          isin  \\\n",
       "0   us_long       Amazon_Nasdaq_AMZN    imd_34634534  US0231351067   \n",
       "1   us_long       Amazon_Nasdaq_AMZN    imd_34634534  US0231351067   \n",
       "2   us_long       Amazon_Nasdaq_AMZN    imd_34634534  US0231351067   \n",
       "3   us_long       Amazon_Nasdaq_AMZN    imd_34634534  US0231351067   \n",
       "4   us_long       Anglian_Water_40LV    imd_13579246  XS0089553282   \n",
       "5   us_long  ICE_Silver_5000oz_Dec21    imd_12457801           NaN   \n",
       "\n",
       "           figi  quantity   price currency order_id  side    type state  \n",
       "0  BBG000BVPXP1      1000  1000.0      USD   ORD001  sell   limit   new  \n",
       "1  BBG000BVPXP1      1000   950.0      USD   ORD002   buy   limit   new  \n",
       "2  BBG000BVPXP1      3000     NaN      USD   ORD003   buy    stop   new  \n",
       "3  BBG000BVPXP1      1000     NaN      USD   ORD004   buy  market   new  \n",
       "4           NaN       500     NaN      GBP   ORD005   buy  market   new  \n",
       "5           NaN      5000     NaN      GBP   ORD006   buy  market   new  "
      ]
     },
     "execution_count": 86,
     "metadata": {},
     "output_type": "execute_result"
    }
   ],
   "source": [
    "orders_df = pd.read_csv('data/live_orders.csv')\n",
    "orders_df"
   ]
  },
  {
   "cell_type": "code",
   "execution_count": 87,
   "metadata": {
    "scrolled": true
   },
   "outputs": [
    {
     "data": {
      "text/html": [
       "<style  type=\"text/css\" >\n",
       "</style><table id=\"T_9d4a1cd6_3246_11ec_aeb3_00155d3b4bad\" ><thead>    <tr>        <th class=\"blank level0\" ></th>        <th class=\"col_heading level0 col0\" >order_id</th>        <th class=\"col_heading level0 col1\" >client_internal</th>        <th class=\"col_heading level0 col2\" >lusid_instrument_id</th>        <th class=\"col_heading level0 col3\" >side</th>        <th class=\"col_heading level0 col4\" >type</th>        <th class=\"col_heading level0 col5\" >state</th>        <th class=\"col_heading level0 col6\" >quantity</th>        <th class=\"col_heading level0 col7\" >price</th>        <th class=\"col_heading level0 col8\" >currency</th>    </tr></thead><tbody>\n",
       "                <tr>\n",
       "                        <th id=\"T_9d4a1cd6_3246_11ec_aeb3_00155d3b4badlevel0_row0\" class=\"row_heading level0 row0\" >0</th>\n",
       "                        <td id=\"T_9d4a1cd6_3246_11ec_aeb3_00155d3b4badrow0_col0\" class=\"data row0 col0\" >ORD001</td>\n",
       "                        <td id=\"T_9d4a1cd6_3246_11ec_aeb3_00155d3b4badrow0_col1\" class=\"data row0 col1\" >imd_34634534</td>\n",
       "                        <td id=\"T_9d4a1cd6_3246_11ec_aeb3_00155d3b4badrow0_col2\" class=\"data row0 col2\" >LUID_00003D4W</td>\n",
       "                        <td id=\"T_9d4a1cd6_3246_11ec_aeb3_00155d3b4badrow0_col3\" class=\"data row0 col3\" >sell</td>\n",
       "                        <td id=\"T_9d4a1cd6_3246_11ec_aeb3_00155d3b4badrow0_col4\" class=\"data row0 col4\" >limit</td>\n",
       "                        <td id=\"T_9d4a1cd6_3246_11ec_aeb3_00155d3b4badrow0_col5\" class=\"data row0 col5\" >new</td>\n",
       "                        <td id=\"T_9d4a1cd6_3246_11ec_aeb3_00155d3b4badrow0_col6\" class=\"data row0 col6\" >               1,000</td>\n",
       "                        <td id=\"T_9d4a1cd6_3246_11ec_aeb3_00155d3b4badrow0_col7\" class=\"data row0 col7\" >            1,000.00</td>\n",
       "                        <td id=\"T_9d4a1cd6_3246_11ec_aeb3_00155d3b4badrow0_col8\" class=\"data row0 col8\" >USD</td>\n",
       "            </tr>\n",
       "            <tr>\n",
       "                        <th id=\"T_9d4a1cd6_3246_11ec_aeb3_00155d3b4badlevel0_row1\" class=\"row_heading level0 row1\" >1</th>\n",
       "                        <td id=\"T_9d4a1cd6_3246_11ec_aeb3_00155d3b4badrow1_col0\" class=\"data row1 col0\" >ORD002</td>\n",
       "                        <td id=\"T_9d4a1cd6_3246_11ec_aeb3_00155d3b4badrow1_col1\" class=\"data row1 col1\" >imd_34634534</td>\n",
       "                        <td id=\"T_9d4a1cd6_3246_11ec_aeb3_00155d3b4badrow1_col2\" class=\"data row1 col2\" >LUID_00003D4W</td>\n",
       "                        <td id=\"T_9d4a1cd6_3246_11ec_aeb3_00155d3b4badrow1_col3\" class=\"data row1 col3\" >buy</td>\n",
       "                        <td id=\"T_9d4a1cd6_3246_11ec_aeb3_00155d3b4badrow1_col4\" class=\"data row1 col4\" >limit</td>\n",
       "                        <td id=\"T_9d4a1cd6_3246_11ec_aeb3_00155d3b4badrow1_col5\" class=\"data row1 col5\" >new</td>\n",
       "                        <td id=\"T_9d4a1cd6_3246_11ec_aeb3_00155d3b4badrow1_col6\" class=\"data row1 col6\" >               1,000</td>\n",
       "                        <td id=\"T_9d4a1cd6_3246_11ec_aeb3_00155d3b4badrow1_col7\" class=\"data row1 col7\" >              950.00</td>\n",
       "                        <td id=\"T_9d4a1cd6_3246_11ec_aeb3_00155d3b4badrow1_col8\" class=\"data row1 col8\" >USD</td>\n",
       "            </tr>\n",
       "            <tr>\n",
       "                        <th id=\"T_9d4a1cd6_3246_11ec_aeb3_00155d3b4badlevel0_row2\" class=\"row_heading level0 row2\" >2</th>\n",
       "                        <td id=\"T_9d4a1cd6_3246_11ec_aeb3_00155d3b4badrow2_col0\" class=\"data row2 col0\" >ORD003</td>\n",
       "                        <td id=\"T_9d4a1cd6_3246_11ec_aeb3_00155d3b4badrow2_col1\" class=\"data row2 col1\" >imd_34634534</td>\n",
       "                        <td id=\"T_9d4a1cd6_3246_11ec_aeb3_00155d3b4badrow2_col2\" class=\"data row2 col2\" >LUID_00003D4W</td>\n",
       "                        <td id=\"T_9d4a1cd6_3246_11ec_aeb3_00155d3b4badrow2_col3\" class=\"data row2 col3\" >buy</td>\n",
       "                        <td id=\"T_9d4a1cd6_3246_11ec_aeb3_00155d3b4badrow2_col4\" class=\"data row2 col4\" >stop</td>\n",
       "                        <td id=\"T_9d4a1cd6_3246_11ec_aeb3_00155d3b4badrow2_col5\" class=\"data row2 col5\" >new</td>\n",
       "                        <td id=\"T_9d4a1cd6_3246_11ec_aeb3_00155d3b4badrow2_col6\" class=\"data row2 col6\" >               3,000</td>\n",
       "                        <td id=\"T_9d4a1cd6_3246_11ec_aeb3_00155d3b4badrow2_col7\" class=\"data row2 col7\" >                0.00</td>\n",
       "                        <td id=\"T_9d4a1cd6_3246_11ec_aeb3_00155d3b4badrow2_col8\" class=\"data row2 col8\" >USD</td>\n",
       "            </tr>\n",
       "            <tr>\n",
       "                        <th id=\"T_9d4a1cd6_3246_11ec_aeb3_00155d3b4badlevel0_row3\" class=\"row_heading level0 row3\" >3</th>\n",
       "                        <td id=\"T_9d4a1cd6_3246_11ec_aeb3_00155d3b4badrow3_col0\" class=\"data row3 col0\" >ORD004</td>\n",
       "                        <td id=\"T_9d4a1cd6_3246_11ec_aeb3_00155d3b4badrow3_col1\" class=\"data row3 col1\" >imd_34634534</td>\n",
       "                        <td id=\"T_9d4a1cd6_3246_11ec_aeb3_00155d3b4badrow3_col2\" class=\"data row3 col2\" >LUID_00003D4W</td>\n",
       "                        <td id=\"T_9d4a1cd6_3246_11ec_aeb3_00155d3b4badrow3_col3\" class=\"data row3 col3\" >buy</td>\n",
       "                        <td id=\"T_9d4a1cd6_3246_11ec_aeb3_00155d3b4badrow3_col4\" class=\"data row3 col4\" >market</td>\n",
       "                        <td id=\"T_9d4a1cd6_3246_11ec_aeb3_00155d3b4badrow3_col5\" class=\"data row3 col5\" >new</td>\n",
       "                        <td id=\"T_9d4a1cd6_3246_11ec_aeb3_00155d3b4badrow3_col6\" class=\"data row3 col6\" >               1,000</td>\n",
       "                        <td id=\"T_9d4a1cd6_3246_11ec_aeb3_00155d3b4badrow3_col7\" class=\"data row3 col7\" >                0.00</td>\n",
       "                        <td id=\"T_9d4a1cd6_3246_11ec_aeb3_00155d3b4badrow3_col8\" class=\"data row3 col8\" >USD</td>\n",
       "            </tr>\n",
       "            <tr>\n",
       "                        <th id=\"T_9d4a1cd6_3246_11ec_aeb3_00155d3b4badlevel0_row4\" class=\"row_heading level0 row4\" >4</th>\n",
       "                        <td id=\"T_9d4a1cd6_3246_11ec_aeb3_00155d3b4badrow4_col0\" class=\"data row4 col0\" >ORD005</td>\n",
       "                        <td id=\"T_9d4a1cd6_3246_11ec_aeb3_00155d3b4badrow4_col1\" class=\"data row4 col1\" >imd_13579246</td>\n",
       "                        <td id=\"T_9d4a1cd6_3246_11ec_aeb3_00155d3b4badrow4_col2\" class=\"data row4 col2\" >LUID_00003D4X</td>\n",
       "                        <td id=\"T_9d4a1cd6_3246_11ec_aeb3_00155d3b4badrow4_col3\" class=\"data row4 col3\" >buy</td>\n",
       "                        <td id=\"T_9d4a1cd6_3246_11ec_aeb3_00155d3b4badrow4_col4\" class=\"data row4 col4\" >market</td>\n",
       "                        <td id=\"T_9d4a1cd6_3246_11ec_aeb3_00155d3b4badrow4_col5\" class=\"data row4 col5\" >new</td>\n",
       "                        <td id=\"T_9d4a1cd6_3246_11ec_aeb3_00155d3b4badrow4_col6\" class=\"data row4 col6\" >                 500</td>\n",
       "                        <td id=\"T_9d4a1cd6_3246_11ec_aeb3_00155d3b4badrow4_col7\" class=\"data row4 col7\" >                0.00</td>\n",
       "                        <td id=\"T_9d4a1cd6_3246_11ec_aeb3_00155d3b4badrow4_col8\" class=\"data row4 col8\" >GBP</td>\n",
       "            </tr>\n",
       "            <tr>\n",
       "                        <th id=\"T_9d4a1cd6_3246_11ec_aeb3_00155d3b4badlevel0_row5\" class=\"row_heading level0 row5\" >5</th>\n",
       "                        <td id=\"T_9d4a1cd6_3246_11ec_aeb3_00155d3b4badrow5_col0\" class=\"data row5 col0\" >ORD006</td>\n",
       "                        <td id=\"T_9d4a1cd6_3246_11ec_aeb3_00155d3b4badrow5_col1\" class=\"data row5 col1\" >imd_12457801</td>\n",
       "                        <td id=\"T_9d4a1cd6_3246_11ec_aeb3_00155d3b4badrow5_col2\" class=\"data row5 col2\" >LUID_00003D4V</td>\n",
       "                        <td id=\"T_9d4a1cd6_3246_11ec_aeb3_00155d3b4badrow5_col3\" class=\"data row5 col3\" >buy</td>\n",
       "                        <td id=\"T_9d4a1cd6_3246_11ec_aeb3_00155d3b4badrow5_col4\" class=\"data row5 col4\" >market</td>\n",
       "                        <td id=\"T_9d4a1cd6_3246_11ec_aeb3_00155d3b4badrow5_col5\" class=\"data row5 col5\" >new</td>\n",
       "                        <td id=\"T_9d4a1cd6_3246_11ec_aeb3_00155d3b4badrow5_col6\" class=\"data row5 col6\" >               5,000</td>\n",
       "                        <td id=\"T_9d4a1cd6_3246_11ec_aeb3_00155d3b4badrow5_col7\" class=\"data row5 col7\" >                0.00</td>\n",
       "                        <td id=\"T_9d4a1cd6_3246_11ec_aeb3_00155d3b4badrow5_col8\" class=\"data row5 col8\" >GBP</td>\n",
       "            </tr>\n",
       "    </tbody></table>"
      ],
      "text/plain": [
       "<pandas.io.formats.style.Styler at 0x7fee70093f50>"
      ]
     },
     "execution_count": 87,
     "metadata": {},
     "output_type": "execute_result"
    }
   ],
   "source": [
    "order_requests = defaultdict(list)\n",
    "order_sets = defaultdict(list)\n",
    "responses = []\n",
    "\n",
    "for index, order in orders_df.iterrows():\n",
    "    \n",
    "    request = models.OrderRequest(\n",
    "            id=models.ResourceId(\n",
    "                scope=orders_scope,\n",
    "                code=order['order_id']\n",
    "            ),\n",
    "            quantity=order['quantity'],\n",
    "            side=order['side'],\n",
    "            instrument_identifiers={\n",
    "                'Instrument/default/ClientInternal': order['client_internal']\n",
    "            },\n",
    "            properties={},\n",
    "            portfolio_id=models.ResourceId(\n",
    "                scope=orders_scope,\n",
    "                code=orders_portfolio\n",
    "            ),\n",
    "            state=order['state'],\n",
    "            type=order['type'],\n",
    "            price=models.CurrencyAndAmount(\n",
    "                        amount=0 if pd.isna(order['price']) else order['price'],\n",
    "                        currency=order['currency']))\n",
    "    \n",
    "    request=models.OrderSetRequest(\n",
    "        order_requests=[request]           \n",
    "    )\n",
    "\n",
    "    response = api_factory.build(lusid.api.OrdersApi).upsert_orders(\n",
    "        order_set_request=request\n",
    "    )\n",
    "    \n",
    "    responses.append(response.values[0])\n",
    "\n",
    "attributes=[(o.id.code,o.instrument_identifiers['Instrument/default/ClientInternal'],o.lusid_instrument_id,o.side,o.type,o.state,o.quantity,o.price.amount,o.price.currency) for o in responses]\n",
    "pd.DataFrame(attributes, columns=['order_id','client_internal','lusid_instrument_id','side','type','state','quantity','price','currency']).style.format({\"quantity\":\"{:20,.0f}\",\"price\": \"{:20,.2f}\"})"
   ]
  },
  {
   "cell_type": "markdown",
   "metadata": {},
   "source": [
    "### Post allocations into LUSID\n",
    "In this section, we post some allocations into LUSID. These allocations represent full or partial allocations against a subset of the originating orders."
   ]
  },
  {
   "cell_type": "code",
   "execution_count": 88,
   "metadata": {},
   "outputs": [
    {
     "data": {
      "text/html": [
       "<div>\n",
       "<style scoped>\n",
       "    .dataframe tbody tr th:only-of-type {\n",
       "        vertical-align: middle;\n",
       "    }\n",
       "\n",
       "    .dataframe tbody tr th {\n",
       "        vertical-align: top;\n",
       "    }\n",
       "\n",
       "    .dataframe thead th {\n",
       "        text-align: right;\n",
       "    }\n",
       "</style>\n",
       "<table border=\"1\" class=\"dataframe\">\n",
       "  <thead>\n",
       "    <tr style=\"text-align: right;\">\n",
       "      <th></th>\n",
       "      <th>portfolio</th>\n",
       "      <th>instrument_name</th>\n",
       "      <th>client_internal</th>\n",
       "      <th>isin</th>\n",
       "      <th>figi</th>\n",
       "      <th>quantity</th>\n",
       "      <th>price</th>\n",
       "      <th>currency</th>\n",
       "      <th>allocation_id</th>\n",
       "      <th>originating_order</th>\n",
       "      <th>state</th>\n",
       "      <th>side</th>\n",
       "      <th>type</th>\n",
       "    </tr>\n",
       "  </thead>\n",
       "  <tbody>\n",
       "    <tr>\n",
       "      <th>0</th>\n",
       "      <td>us_long</td>\n",
       "      <td>Amazon_Nasdaq_AMZN</td>\n",
       "      <td>imd_34634534</td>\n",
       "      <td>US0231351067</td>\n",
       "      <td>BBG000BVPXP1</td>\n",
       "      <td>777</td>\n",
       "      <td>961</td>\n",
       "      <td>USD</td>\n",
       "      <td>ALLOC001-for-ORD004</td>\n",
       "      <td>ORD004</td>\n",
       "      <td>partial allocation</td>\n",
       "      <td>buy</td>\n",
       "      <td>market</td>\n",
       "    </tr>\n",
       "  </tbody>\n",
       "</table>\n",
       "</div>"
      ],
      "text/plain": [
       "  portfolio     instrument_name client_internal          isin          figi  \\\n",
       "0   us_long  Amazon_Nasdaq_AMZN    imd_34634534  US0231351067  BBG000BVPXP1   \n",
       "\n",
       "   quantity  price currency        allocation_id originating_order  \\\n",
       "0       777    961      USD  ALLOC001-for-ORD004            ORD004   \n",
       "\n",
       "                state side    type  \n",
       "0  partial allocation  buy  market  "
      ]
     },
     "execution_count": 88,
     "metadata": {},
     "output_type": "execute_result"
    }
   ],
   "source": [
    "allocations_df = pd.read_csv('data/amazon_allocations.csv')\n",
    "allocations_df"
   ]
  },
  {
   "cell_type": "code",
   "execution_count": 89,
   "metadata": {},
   "outputs": [
    {
     "data": {
      "text/html": [
       "<style  type=\"text/css\" >\n",
       "</style><table id=\"T_9d6bafb8_3246_11ec_aeb3_00155d3b4bad\" ><thead>    <tr>        <th class=\"blank level0\" ></th>        <th class=\"col_heading level0 col0\" >allocation_id</th>        <th class=\"col_heading level0 col1\" >client_internal</th>        <th class=\"col_heading level0 col2\" >lusid_instrument_id</th>        <th class=\"col_heading level0 col3\" >side</th>        <th class=\"col_heading level0 col4\" >type</th>        <th class=\"col_heading level0 col5\" >state</th>        <th class=\"col_heading level0 col6\" >quantity</th>        <th class=\"col_heading level0 col7\" >price</th>    </tr></thead><tbody>\n",
       "                <tr>\n",
       "                        <th id=\"T_9d6bafb8_3246_11ec_aeb3_00155d3b4badlevel0_row0\" class=\"row_heading level0 row0\" >0</th>\n",
       "                        <td id=\"T_9d6bafb8_3246_11ec_aeb3_00155d3b4badrow0_col0\" class=\"data row0 col0\" >ALLOC001-for-ORD004</td>\n",
       "                        <td id=\"T_9d6bafb8_3246_11ec_aeb3_00155d3b4badrow0_col1\" class=\"data row0 col1\" >imd_34634534</td>\n",
       "                        <td id=\"T_9d6bafb8_3246_11ec_aeb3_00155d3b4badrow0_col2\" class=\"data row0 col2\" >LUID_00003D4W</td>\n",
       "                        <td id=\"T_9d6bafb8_3246_11ec_aeb3_00155d3b4badrow0_col3\" class=\"data row0 col3\" >buy</td>\n",
       "                        <td id=\"T_9d6bafb8_3246_11ec_aeb3_00155d3b4badrow0_col4\" class=\"data row0 col4\" >market</td>\n",
       "                        <td id=\"T_9d6bafb8_3246_11ec_aeb3_00155d3b4badrow0_col5\" class=\"data row0 col5\" >partial allocation</td>\n",
       "                        <td id=\"T_9d6bafb8_3246_11ec_aeb3_00155d3b4badrow0_col6\" class=\"data row0 col6\" >                 777</td>\n",
       "                        <td id=\"T_9d6bafb8_3246_11ec_aeb3_00155d3b4badrow0_col7\" class=\"data row0 col7\" >$              961.00</td>\n",
       "            </tr>\n",
       "    </tbody></table>"
      ],
      "text/plain": [
       "<pandas.io.formats.style.Styler at 0x7fee70093cd0>"
      ]
     },
     "execution_count": 89,
     "metadata": {},
     "output_type": "execute_result"
    }
   ],
   "source": [
    "allocation_requests = defaultdict(list)\n",
    "allocation_sets = defaultdict(list)\n",
    "responses = []\n",
    "\n",
    "for index, allocation in allocations_df.iterrows():\n",
    "    \n",
    "    portfolio = allocation['portfolio']\n",
    "\n",
    "    request = models.AllocationRequest(\n",
    "            id=models.ResourceId(\n",
    "                scope=orders_scope,\n",
    "                code=allocation['allocation_id']\n",
    "            ),\n",
    "            allocated_order_id = models.ResourceId(\n",
    "                scope=orders_scope,\n",
    "                code=allocation['originating_order']\n",
    "            ),\n",
    "            quantity=allocation['quantity'],\n",
    "            side=allocation['side'],\n",
    "            instrument_identifiers={\n",
    "                'Instrument/default/ClientInternal': allocation['client_internal']\n",
    "            },\n",
    "            properties={},\n",
    "            portfolio_id=models.ResourceId(\n",
    "                scope=orders_scope,\n",
    "                code=orders_portfolio\n",
    "            ),\n",
    "            state=allocation['state'],\n",
    "            type=allocation['type'],\n",
    "            price=models.CurrencyAndAmount(\n",
    "                        amount=allocation['price'],\n",
    "                        currency=allocation['currency']))\n",
    "    \n",
    "    request=models.AllocationSetRequest(\n",
    "        allocation_requests=[request]           \n",
    "    )\n",
    "\n",
    "    response = api_factory.build(lusid.api.AllocationsApi).upsert_allocations(\n",
    "        allocation_set_request=request\n",
    "    )\n",
    "    \n",
    "    responses.append(response.values[0])\n",
    "\n",
    "attributes=[(o.id.code,o.instrument_identifiers['Instrument/default/ClientInternal'],o.lusid_instrument_id,o.side,o.type,o.state,o.quantity,o.price.amount) for o in responses]\n",
    "pd.DataFrame(attributes, columns=['allocation_id','client_internal','lusid_instrument_id','side','type','state','quantity','price']).style.format({\"quantity\":\"{:20,.0f}\",\"price\": \"${:20,.2f}\"})"
   ]
  },
  {
   "cell_type": "markdown",
   "metadata": {},
   "source": [
    "### Upsert Quotes\n",
    "Load some sample data for our instrument. We're uploading a quote for today, as market orders are converted to holdings by assuming that they're filled at the instant we make the query and take the latest market price for it."
   ]
  },
  {
   "cell_type": "code",
   "execution_count": 90,
   "metadata": {},
   "outputs": [
    {
     "data": {
      "text/html": [
       "<div>\n",
       "<style scoped>\n",
       "    .dataframe tbody tr th:only-of-type {\n",
       "        vertical-align: middle;\n",
       "    }\n",
       "\n",
       "    .dataframe tbody tr th {\n",
       "        vertical-align: top;\n",
       "    }\n",
       "\n",
       "    .dataframe thead th {\n",
       "        text-align: right;\n",
       "    }\n",
       "</style>\n",
       "<table border=\"1\" class=\"dataframe\">\n",
       "  <thead>\n",
       "    <tr style=\"text-align: right;\">\n",
       "      <th></th>\n",
       "      <th>date</th>\n",
       "      <th>ticker</th>\n",
       "      <th>name</th>\n",
       "      <th>figi</th>\n",
       "      <th>Sector</th>\n",
       "      <th>open_price</th>\n",
       "      <th>close_price</th>\n",
       "      <th>client_internal</th>\n",
       "    </tr>\n",
       "  </thead>\n",
       "  <tbody>\n",
       "    <tr>\n",
       "      <th>0</th>\n",
       "      <td>2021-10-21</td>\n",
       "      <td>AMZN</td>\n",
       "      <td>Amazon Nasdaq</td>\n",
       "      <td>BBG000BVPXP1</td>\n",
       "      <td>Equity Investment Instruments</td>\n",
       "      <td>960.00</td>\n",
       "      <td>961.5</td>\n",
       "      <td>imd_34634534</td>\n",
       "    </tr>\n",
       "    <tr>\n",
       "      <th>1</th>\n",
       "      <td>2021-10-21</td>\n",
       "      <td>NaN</td>\n",
       "      <td>Anglian Water 40LV</td>\n",
       "      <td>NaN</td>\n",
       "      <td>Fixed Income</td>\n",
       "      <td>110.93</td>\n",
       "      <td>112.2</td>\n",
       "      <td>imd_13579246</td>\n",
       "    </tr>\n",
       "    <tr>\n",
       "      <th>2</th>\n",
       "      <td>2021-10-21</td>\n",
       "      <td>ZIZ21</td>\n",
       "      <td>ICE Silver 5000oz Dec21</td>\n",
       "      <td>NaN</td>\n",
       "      <td>Commodities</td>\n",
       "      <td>24.30</td>\n",
       "      <td>25.4</td>\n",
       "      <td>imd_12457801</td>\n",
       "    </tr>\n",
       "  </tbody>\n",
       "</table>\n",
       "</div>"
      ],
      "text/plain": [
       "         date ticker                     name          figi  \\\n",
       "0  2021-10-21   AMZN            Amazon Nasdaq  BBG000BVPXP1   \n",
       "1  2021-10-21    NaN       Anglian Water 40LV           NaN   \n",
       "2  2021-10-21  ZIZ21  ICE Silver 5000oz Dec21           NaN   \n",
       "\n",
       "                          Sector  open_price  close_price client_internal  \n",
       "0  Equity Investment Instruments      960.00        961.5    imd_34634534  \n",
       "1                   Fixed Income      110.93        112.2    imd_13579246  \n",
       "2                    Commodities       24.30         25.4    imd_12457801  "
      ]
     },
     "execution_count": 90,
     "metadata": {},
     "output_type": "execute_result"
    }
   ],
   "source": [
    "quotes_df = pd.read_excel(\"data/quotes.xlsx\")\n",
    "quotes_df['date']=date.today()\n",
    "quotes_df.head()"
   ]
  },
  {
   "cell_type": "code",
   "execution_count": 91,
   "metadata": {},
   "outputs": [],
   "source": [
    "quotes_mapping = {\n",
    "    \"quote_id.quote_series_id.instrument_id_type\": \"$ClientInternal\",\n",
    "    \"quote_id.effective_at\": \"date\",\n",
    "    \"quote_id.quote_series_id.provider\": \"$Lusid\",\n",
    "    \"quote_id.quote_series_id.quote_type\": \"$Price\",\n",
    "    \"quote_id.quote_series_id.instrument_id\": \"client_internal\",\n",
    "    \"metric_value.unit\": \"$USD\",\n",
    "}"
   ]
  },
  {
   "cell_type": "code",
   "execution_count": 92,
   "metadata": {},
   "outputs": [
    {
     "data": {
      "text/html": [
       "<div>\n",
       "<style scoped>\n",
       "    .dataframe tbody tr th:only-of-type {\n",
       "        vertical-align: middle;\n",
       "    }\n",
       "\n",
       "    .dataframe tbody tr th {\n",
       "        vertical-align: top;\n",
       "    }\n",
       "\n",
       "    .dataframe thead th {\n",
       "        text-align: right;\n",
       "    }\n",
       "</style>\n",
       "<table border=\"1\" class=\"dataframe\">\n",
       "  <thead>\n",
       "    <tr style=\"text-align: right;\">\n",
       "      <th></th>\n",
       "      <th>success</th>\n",
       "      <th>failed</th>\n",
       "      <th>errors</th>\n",
       "    </tr>\n",
       "  </thead>\n",
       "  <tbody>\n",
       "    <tr>\n",
       "      <th>0</th>\n",
       "      <td>3</td>\n",
       "      <td>0</td>\n",
       "      <td>0</td>\n",
       "    </tr>\n",
       "  </tbody>\n",
       "</table>\n",
       "</div>"
      ],
      "text/plain": [
       "   success  failed  errors\n",
       "0        3       0       0"
      ]
     },
     "metadata": {},
     "output_type": "display_data"
    }
   ],
   "source": [
    "quotes_mapping[\"quote_id.quote_series_id.field\"] =\"$mid\"\n",
    "quotes_mapping[\"metric_value.value\"] = \"close_price\"\n",
    "\n",
    "result = load_from_data_frame(\n",
    "    api_factory = api_factory,\n",
    "    scope=orders_scope,\n",
    "    data_frame=quotes_df,\n",
    "    mapping_required=quotes_mapping,\n",
    "    mapping_optional={},\n",
    "    file_type=\"quotes\"\n",
    ")\n",
    "\n",
    "succ, failed, errors = format_quotes_response(result)\n",
    "display(pd.DataFrame(data=[{\"success\": len(succ), \"failed\": len(failed), \"errors\": len(errors)}]))"
   ]
  },
  {
   "cell_type": "markdown",
   "metadata": {},
   "source": [
    "## Check the portfolio holdings with orders\n",
    "Finally we can ask LUSID to give us a live holdings view that includes contributions from outstanding orders of market or limit type.\n",
    "\n",
    "Note that we've added an order of \"stop\" type (ORD003), which is currently unsupported. We won't be able to generate holdings for it, but will see a warning returne\n",
    "\n",
    "We'll see Order (O) and OrderContra (OC) holdings for the security and cash commitments of each outstanding order. Partially- and fully-allocated orders will also have Allocation (L) and AllocationContra (LC) holdings to represent allocations against them, and have their quantities suitably reduced."
   ]
  },
  {
   "cell_type": "code",
   "execution_count": 112,
   "metadata": {
    "scrolled": false
   },
   "outputs": [
    {
     "data": {
      "text/html": [
       "<style  type=\"text/css\" >\n",
       "</style><table id=\"T_2ffc27ae_3256_11ec_aeb3_00155d3b4bad\" ><thead>    <tr>        <th class=\"blank level0\" ></th>        <th class=\"col_heading level0 col0\" >instrument</th>        <th class=\"col_heading level0 col1\" >holding_type</th>        <th class=\"col_heading level0 col2\" >units</th>        <th class=\"col_heading level0 col3\" >cost</th>        <th class=\"col_heading level0 col4\" >ccy</th>        <th class=\"col_heading level0 col5\" >pfolio_cost</th>        <th class=\"col_heading level0 col6\" >price</th>    </tr></thead><tbody>\n",
       "                <tr>\n",
       "                        <th id=\"T_2ffc27ae_3256_11ec_aeb3_00155d3b4badlevel0_row0\" class=\"row_heading level0 row0\" >0</th>\n",
       "                        <td id=\"T_2ffc27ae_3256_11ec_aeb3_00155d3b4badrow0_col0\" class=\"data row0 col0\" >Amazon_Nasdaq_AMZN</td>\n",
       "                        <td id=\"T_2ffc27ae_3256_11ec_aeb3_00155d3b4badrow0_col1\" class=\"data row0 col1\" >P</td>\n",
       "                        <td id=\"T_2ffc27ae_3256_11ec_aeb3_00155d3b4badrow0_col2\" class=\"data row0 col2\" >               5,000</td>\n",
       "                        <td id=\"T_2ffc27ae_3256_11ec_aeb3_00155d3b4badrow0_col3\" class=\"data row0 col3\" >        7,750,000.00</td>\n",
       "                        <td id=\"T_2ffc27ae_3256_11ec_aeb3_00155d3b4badrow0_col4\" class=\"data row0 col4\" >USD</td>\n",
       "                        <td id=\"T_2ffc27ae_3256_11ec_aeb3_00155d3b4badrow0_col5\" class=\"data row0 col5\" >                0.00</td>\n",
       "                        <td id=\"T_2ffc27ae_3256_11ec_aeb3_00155d3b4badrow0_col6\" class=\"data row0 col6\" >                 nan</td>\n",
       "            </tr>\n",
       "    </tbody></table>"
      ],
      "text/plain": [
       "<pandas.io.formats.style.Styler at 0x7fee7527ff10>"
      ]
     },
     "metadata": {},
     "output_type": "display_data"
    },
    {
     "data": {
      "text/html": [
       "<style  type=\"text/css\" >\n",
       "</style><table id=\"T_2ffc9284_3256_11ec_aeb3_00155d3b4bad\" ><caption>VirtualTrade-Order-holdings_with_live_orders/ALLOC001-for-ORD004-9900a</caption><thead>    <tr>        <th class=\"blank level0\" ></th>        <th class=\"col_heading level0 col0\" >instrument</th>        <th class=\"col_heading level0 col1\" >holding_type</th>        <th class=\"col_heading level0 col2\" >units</th>        <th class=\"col_heading level0 col3\" >cost</th>        <th class=\"col_heading level0 col4\" >ccy</th>        <th class=\"col_heading level0 col5\" >pfolio_cost</th>        <th class=\"col_heading level0 col6\" >price</th>    </tr></thead><tbody>\n",
       "                <tr>\n",
       "                        <th id=\"T_2ffc9284_3256_11ec_aeb3_00155d3b4badlevel0_row0\" class=\"row_heading level0 row0\" >11</th>\n",
       "                        <td id=\"T_2ffc9284_3256_11ec_aeb3_00155d3b4badrow0_col0\" class=\"data row0 col0\" >Amazon_Nasdaq_AMZN</td>\n",
       "                        <td id=\"T_2ffc9284_3256_11ec_aeb3_00155d3b4badrow0_col1\" class=\"data row0 col1\" >L</td>\n",
       "                        <td id=\"T_2ffc9284_3256_11ec_aeb3_00155d3b4badrow0_col2\" class=\"data row0 col2\" >                 777</td>\n",
       "                        <td id=\"T_2ffc9284_3256_11ec_aeb3_00155d3b4badrow0_col3\" class=\"data row0 col3\" >         -747,085.50</td>\n",
       "                        <td id=\"T_2ffc9284_3256_11ec_aeb3_00155d3b4badrow0_col4\" class=\"data row0 col4\" >USD</td>\n",
       "                        <td id=\"T_2ffc9284_3256_11ec_aeb3_00155d3b4badrow0_col5\" class=\"data row0 col5\" >         -747,085.50</td>\n",
       "                        <td id=\"T_2ffc9284_3256_11ec_aeb3_00155d3b4badrow0_col6\" class=\"data row0 col6\" >              961.50</td>\n",
       "            </tr>\n",
       "            <tr>\n",
       "                        <th id=\"T_2ffc9284_3256_11ec_aeb3_00155d3b4badlevel0_row1\" class=\"row_heading level0 row1\" >12</th>\n",
       "                        <td id=\"T_2ffc9284_3256_11ec_aeb3_00155d3b4badrow1_col0\" class=\"data row1 col0\" >UNITED STATES DOLLAR</td>\n",
       "                        <td id=\"T_2ffc9284_3256_11ec_aeb3_00155d3b4badrow1_col1\" class=\"data row1 col1\" >LC</td>\n",
       "                        <td id=\"T_2ffc9284_3256_11ec_aeb3_00155d3b4badrow1_col2\" class=\"data row1 col2\" >            -747,086</td>\n",
       "                        <td id=\"T_2ffc9284_3256_11ec_aeb3_00155d3b4badrow1_col3\" class=\"data row1 col3\" >          747,085.50</td>\n",
       "                        <td id=\"T_2ffc9284_3256_11ec_aeb3_00155d3b4badrow1_col4\" class=\"data row1 col4\" >USD</td>\n",
       "                        <td id=\"T_2ffc9284_3256_11ec_aeb3_00155d3b4badrow1_col5\" class=\"data row1 col5\" >          747,085.50</td>\n",
       "                        <td id=\"T_2ffc9284_3256_11ec_aeb3_00155d3b4badrow1_col6\" class=\"data row1 col6\" >              961.50</td>\n",
       "            </tr>\n",
       "    </tbody></table>"
      ],
      "text/plain": [
       "<pandas.io.formats.style.Styler at 0x7feea774bb10>"
      ]
     },
     "metadata": {},
     "output_type": "display_data"
    },
    {
     "data": {
      "text/html": [
       "<style  type=\"text/css\" >\n",
       "</style><table id=\"T_2ffd64ac_3256_11ec_aeb3_00155d3b4bad\" ><caption>VirtualTrade-Order-holdings_with_live_orders/ORD001-a9eeb</caption><thead>    <tr>        <th class=\"blank level0\" ></th>        <th class=\"col_heading level0 col0\" >instrument</th>        <th class=\"col_heading level0 col1\" >holding_type</th>        <th class=\"col_heading level0 col2\" >units</th>        <th class=\"col_heading level0 col3\" >cost</th>        <th class=\"col_heading level0 col4\" >ccy</th>        <th class=\"col_heading level0 col5\" >pfolio_cost</th>        <th class=\"col_heading level0 col6\" >price</th>    </tr></thead><tbody>\n",
       "                <tr>\n",
       "                        <th id=\"T_2ffd64ac_3256_11ec_aeb3_00155d3b4badlevel0_row0\" class=\"row_heading level0 row0\" >9</th>\n",
       "                        <td id=\"T_2ffd64ac_3256_11ec_aeb3_00155d3b4badrow0_col0\" class=\"data row0 col0\" >Amazon_Nasdaq_AMZN</td>\n",
       "                        <td id=\"T_2ffd64ac_3256_11ec_aeb3_00155d3b4badrow0_col1\" class=\"data row0 col1\" >O</td>\n",
       "                        <td id=\"T_2ffd64ac_3256_11ec_aeb3_00155d3b4badrow0_col2\" class=\"data row0 col2\" >              -1,000</td>\n",
       "                        <td id=\"T_2ffd64ac_3256_11ec_aeb3_00155d3b4badrow0_col3\" class=\"data row0 col3\" >        1,000,000.00</td>\n",
       "                        <td id=\"T_2ffd64ac_3256_11ec_aeb3_00155d3b4badrow0_col4\" class=\"data row0 col4\" >USD</td>\n",
       "                        <td id=\"T_2ffd64ac_3256_11ec_aeb3_00155d3b4badrow0_col5\" class=\"data row0 col5\" >        1,000,000.00</td>\n",
       "                        <td id=\"T_2ffd64ac_3256_11ec_aeb3_00155d3b4badrow0_col6\" class=\"data row0 col6\" >            1,000.00</td>\n",
       "            </tr>\n",
       "            <tr>\n",
       "                        <th id=\"T_2ffd64ac_3256_11ec_aeb3_00155d3b4badlevel0_row1\" class=\"row_heading level0 row1\" >10</th>\n",
       "                        <td id=\"T_2ffd64ac_3256_11ec_aeb3_00155d3b4badrow1_col0\" class=\"data row1 col0\" >UNITED STATES DOLLAR</td>\n",
       "                        <td id=\"T_2ffd64ac_3256_11ec_aeb3_00155d3b4badrow1_col1\" class=\"data row1 col1\" >OC</td>\n",
       "                        <td id=\"T_2ffd64ac_3256_11ec_aeb3_00155d3b4badrow1_col2\" class=\"data row1 col2\" >           1,000,000</td>\n",
       "                        <td id=\"T_2ffd64ac_3256_11ec_aeb3_00155d3b4badrow1_col3\" class=\"data row1 col3\" >       -1,000,000.00</td>\n",
       "                        <td id=\"T_2ffd64ac_3256_11ec_aeb3_00155d3b4badrow1_col4\" class=\"data row1 col4\" >USD</td>\n",
       "                        <td id=\"T_2ffd64ac_3256_11ec_aeb3_00155d3b4badrow1_col5\" class=\"data row1 col5\" >       -1,000,000.00</td>\n",
       "                        <td id=\"T_2ffd64ac_3256_11ec_aeb3_00155d3b4badrow1_col6\" class=\"data row1 col6\" >            1,000.00</td>\n",
       "            </tr>\n",
       "    </tbody></table>"
      ],
      "text/plain": [
       "<pandas.io.formats.style.Styler at 0x7feea72ed750>"
      ]
     },
     "metadata": {},
     "output_type": "display_data"
    },
    {
     "data": {
      "text/html": [
       "<style  type=\"text/css\" >\n",
       "</style><table id=\"T_2ffe0f74_3256_11ec_aeb3_00155d3b4bad\" ><caption>VirtualTrade-Order-holdings_with_live_orders/ORD002-cb3e9</caption><thead>    <tr>        <th class=\"blank level0\" ></th>        <th class=\"col_heading level0 col0\" >instrument</th>        <th class=\"col_heading level0 col1\" >holding_type</th>        <th class=\"col_heading level0 col2\" >units</th>        <th class=\"col_heading level0 col3\" >cost</th>        <th class=\"col_heading level0 col4\" >ccy</th>        <th class=\"col_heading level0 col5\" >pfolio_cost</th>        <th class=\"col_heading level0 col6\" >price</th>    </tr></thead><tbody>\n",
       "                <tr>\n",
       "                        <th id=\"T_2ffe0f74_3256_11ec_aeb3_00155d3b4badlevel0_row0\" class=\"row_heading level0 row0\" >5</th>\n",
       "                        <td id=\"T_2ffe0f74_3256_11ec_aeb3_00155d3b4badrow0_col0\" class=\"data row0 col0\" >Amazon_Nasdaq_AMZN</td>\n",
       "                        <td id=\"T_2ffe0f74_3256_11ec_aeb3_00155d3b4badrow0_col1\" class=\"data row0 col1\" >O</td>\n",
       "                        <td id=\"T_2ffe0f74_3256_11ec_aeb3_00155d3b4badrow0_col2\" class=\"data row0 col2\" >               1,000</td>\n",
       "                        <td id=\"T_2ffe0f74_3256_11ec_aeb3_00155d3b4badrow0_col3\" class=\"data row0 col3\" >         -950,000.00</td>\n",
       "                        <td id=\"T_2ffe0f74_3256_11ec_aeb3_00155d3b4badrow0_col4\" class=\"data row0 col4\" >USD</td>\n",
       "                        <td id=\"T_2ffe0f74_3256_11ec_aeb3_00155d3b4badrow0_col5\" class=\"data row0 col5\" >         -950,000.00</td>\n",
       "                        <td id=\"T_2ffe0f74_3256_11ec_aeb3_00155d3b4badrow0_col6\" class=\"data row0 col6\" >              950.00</td>\n",
       "            </tr>\n",
       "            <tr>\n",
       "                        <th id=\"T_2ffe0f74_3256_11ec_aeb3_00155d3b4badlevel0_row1\" class=\"row_heading level0 row1\" >6</th>\n",
       "                        <td id=\"T_2ffe0f74_3256_11ec_aeb3_00155d3b4badrow1_col0\" class=\"data row1 col0\" >UNITED STATES DOLLAR</td>\n",
       "                        <td id=\"T_2ffe0f74_3256_11ec_aeb3_00155d3b4badrow1_col1\" class=\"data row1 col1\" >OC</td>\n",
       "                        <td id=\"T_2ffe0f74_3256_11ec_aeb3_00155d3b4badrow1_col2\" class=\"data row1 col2\" >            -950,000</td>\n",
       "                        <td id=\"T_2ffe0f74_3256_11ec_aeb3_00155d3b4badrow1_col3\" class=\"data row1 col3\" >          950,000.00</td>\n",
       "                        <td id=\"T_2ffe0f74_3256_11ec_aeb3_00155d3b4badrow1_col4\" class=\"data row1 col4\" >USD</td>\n",
       "                        <td id=\"T_2ffe0f74_3256_11ec_aeb3_00155d3b4badrow1_col5\" class=\"data row1 col5\" >          950,000.00</td>\n",
       "                        <td id=\"T_2ffe0f74_3256_11ec_aeb3_00155d3b4badrow1_col6\" class=\"data row1 col6\" >              950.00</td>\n",
       "            </tr>\n",
       "    </tbody></table>"
      ],
      "text/plain": [
       "<pandas.io.formats.style.Styler at 0x7feea7462ed0>"
      ]
     },
     "metadata": {},
     "output_type": "display_data"
    },
    {
     "data": {
      "text/html": [
       "<style  type=\"text/css\" >\n",
       "</style><table id=\"T_2ffea79a_3256_11ec_aeb3_00155d3b4bad\" ><caption>VirtualTrade-Order-holdings_with_live_orders/ORD004-8ec91</caption><thead>    <tr>        <th class=\"blank level0\" ></th>        <th class=\"col_heading level0 col0\" >instrument</th>        <th class=\"col_heading level0 col1\" >holding_type</th>        <th class=\"col_heading level0 col2\" >units</th>        <th class=\"col_heading level0 col3\" >cost</th>        <th class=\"col_heading level0 col4\" >ccy</th>        <th class=\"col_heading level0 col5\" >pfolio_cost</th>        <th class=\"col_heading level0 col6\" >price</th>    </tr></thead><tbody>\n",
       "                <tr>\n",
       "                        <th id=\"T_2ffea79a_3256_11ec_aeb3_00155d3b4badlevel0_row0\" class=\"row_heading level0 row0\" >7</th>\n",
       "                        <td id=\"T_2ffea79a_3256_11ec_aeb3_00155d3b4badrow0_col0\" class=\"data row0 col0\" >Amazon_Nasdaq_AMZN</td>\n",
       "                        <td id=\"T_2ffea79a_3256_11ec_aeb3_00155d3b4badrow0_col1\" class=\"data row0 col1\" >O</td>\n",
       "                        <td id=\"T_2ffea79a_3256_11ec_aeb3_00155d3b4badrow0_col2\" class=\"data row0 col2\" >                 223</td>\n",
       "                        <td id=\"T_2ffea79a_3256_11ec_aeb3_00155d3b4badrow0_col3\" class=\"data row0 col3\" >         -214,414.50</td>\n",
       "                        <td id=\"T_2ffea79a_3256_11ec_aeb3_00155d3b4badrow0_col4\" class=\"data row0 col4\" >USD</td>\n",
       "                        <td id=\"T_2ffea79a_3256_11ec_aeb3_00155d3b4badrow0_col5\" class=\"data row0 col5\" >         -214,414.50</td>\n",
       "                        <td id=\"T_2ffea79a_3256_11ec_aeb3_00155d3b4badrow0_col6\" class=\"data row0 col6\" >              961.50</td>\n",
       "            </tr>\n",
       "            <tr>\n",
       "                        <th id=\"T_2ffea79a_3256_11ec_aeb3_00155d3b4badlevel0_row1\" class=\"row_heading level0 row1\" >8</th>\n",
       "                        <td id=\"T_2ffea79a_3256_11ec_aeb3_00155d3b4badrow1_col0\" class=\"data row1 col0\" >UNITED STATES DOLLAR</td>\n",
       "                        <td id=\"T_2ffea79a_3256_11ec_aeb3_00155d3b4badrow1_col1\" class=\"data row1 col1\" >OC</td>\n",
       "                        <td id=\"T_2ffea79a_3256_11ec_aeb3_00155d3b4badrow1_col2\" class=\"data row1 col2\" >            -214,414</td>\n",
       "                        <td id=\"T_2ffea79a_3256_11ec_aeb3_00155d3b4badrow1_col3\" class=\"data row1 col3\" >          214,414.50</td>\n",
       "                        <td id=\"T_2ffea79a_3256_11ec_aeb3_00155d3b4badrow1_col4\" class=\"data row1 col4\" >USD</td>\n",
       "                        <td id=\"T_2ffea79a_3256_11ec_aeb3_00155d3b4badrow1_col5\" class=\"data row1 col5\" >          214,414.50</td>\n",
       "                        <td id=\"T_2ffea79a_3256_11ec_aeb3_00155d3b4badrow1_col6\" class=\"data row1 col6\" >              961.50</td>\n",
       "            </tr>\n",
       "    </tbody></table>"
      ],
      "text/plain": [
       "<pandas.io.formats.style.Styler at 0x7feea7657c90>"
      ]
     },
     "metadata": {},
     "output_type": "display_data"
    },
    {
     "data": {
      "text/html": [
       "<style  type=\"text/css\" >\n",
       "</style><table id=\"T_2fff4344_3256_11ec_aeb3_00155d3b4bad\" ><caption>VirtualTrade-Order-holdings_with_live_orders/ORD005-1d658</caption><thead>    <tr>        <th class=\"blank level0\" ></th>        <th class=\"col_heading level0 col0\" >instrument</th>        <th class=\"col_heading level0 col1\" >holding_type</th>        <th class=\"col_heading level0 col2\" >units</th>        <th class=\"col_heading level0 col3\" >cost</th>        <th class=\"col_heading level0 col4\" >ccy</th>        <th class=\"col_heading level0 col5\" >pfolio_cost</th>        <th class=\"col_heading level0 col6\" >price</th>    </tr></thead><tbody>\n",
       "                <tr>\n",
       "                        <th id=\"T_2fff4344_3256_11ec_aeb3_00155d3b4badlevel0_row0\" class=\"row_heading level0 row0\" >1</th>\n",
       "                        <td id=\"T_2fff4344_3256_11ec_aeb3_00155d3b4badrow0_col0\" class=\"data row0 col0\" >Anglian_Water_40LV</td>\n",
       "                        <td id=\"T_2fff4344_3256_11ec_aeb3_00155d3b4badrow0_col1\" class=\"data row0 col1\" >O</td>\n",
       "                        <td id=\"T_2fff4344_3256_11ec_aeb3_00155d3b4badrow0_col2\" class=\"data row0 col2\" >                 500</td>\n",
       "                        <td id=\"T_2fff4344_3256_11ec_aeb3_00155d3b4badrow0_col3\" class=\"data row0 col3\" >          -56,100.00</td>\n",
       "                        <td id=\"T_2fff4344_3256_11ec_aeb3_00155d3b4badrow0_col4\" class=\"data row0 col4\" >GBP</td>\n",
       "                        <td id=\"T_2fff4344_3256_11ec_aeb3_00155d3b4badrow0_col5\" class=\"data row0 col5\" >          -56,100.00</td>\n",
       "                        <td id=\"T_2fff4344_3256_11ec_aeb3_00155d3b4badrow0_col6\" class=\"data row0 col6\" >              112.20</td>\n",
       "            </tr>\n",
       "            <tr>\n",
       "                        <th id=\"T_2fff4344_3256_11ec_aeb3_00155d3b4badlevel0_row1\" class=\"row_heading level0 row1\" >2</th>\n",
       "                        <td id=\"T_2fff4344_3256_11ec_aeb3_00155d3b4badrow1_col0\" class=\"data row1 col0\" >BRITISH POUND STERLING</td>\n",
       "                        <td id=\"T_2fff4344_3256_11ec_aeb3_00155d3b4badrow1_col1\" class=\"data row1 col1\" >OC</td>\n",
       "                        <td id=\"T_2fff4344_3256_11ec_aeb3_00155d3b4badrow1_col2\" class=\"data row1 col2\" >             -56,100</td>\n",
       "                        <td id=\"T_2fff4344_3256_11ec_aeb3_00155d3b4badrow1_col3\" class=\"data row1 col3\" >           56,100.00</td>\n",
       "                        <td id=\"T_2fff4344_3256_11ec_aeb3_00155d3b4badrow1_col4\" class=\"data row1 col4\" >GBP</td>\n",
       "                        <td id=\"T_2fff4344_3256_11ec_aeb3_00155d3b4badrow1_col5\" class=\"data row1 col5\" >           56,100.00</td>\n",
       "                        <td id=\"T_2fff4344_3256_11ec_aeb3_00155d3b4badrow1_col6\" class=\"data row1 col6\" >              112.20</td>\n",
       "            </tr>\n",
       "    </tbody></table>"
      ],
      "text/plain": [
       "<pandas.io.formats.style.Styler at 0x7feea7657bd0>"
      ]
     },
     "metadata": {},
     "output_type": "display_data"
    },
    {
     "data": {
      "text/html": [
       "<style  type=\"text/css\" >\n",
       "</style><table id=\"T_2fffdab6_3256_11ec_aeb3_00155d3b4bad\" ><caption>VirtualTrade-Order-holdings_with_live_orders/ORD006-33987</caption><thead>    <tr>        <th class=\"blank level0\" ></th>        <th class=\"col_heading level0 col0\" >instrument</th>        <th class=\"col_heading level0 col1\" >holding_type</th>        <th class=\"col_heading level0 col2\" >units</th>        <th class=\"col_heading level0 col3\" >cost</th>        <th class=\"col_heading level0 col4\" >ccy</th>        <th class=\"col_heading level0 col5\" >pfolio_cost</th>        <th class=\"col_heading level0 col6\" >price</th>    </tr></thead><tbody>\n",
       "                <tr>\n",
       "                        <th id=\"T_2fffdab6_3256_11ec_aeb3_00155d3b4badlevel0_row0\" class=\"row_heading level0 row0\" >3</th>\n",
       "                        <td id=\"T_2fffdab6_3256_11ec_aeb3_00155d3b4badrow0_col0\" class=\"data row0 col0\" >ICE_Silver_5000oz_Dec21</td>\n",
       "                        <td id=\"T_2fffdab6_3256_11ec_aeb3_00155d3b4badrow0_col1\" class=\"data row0 col1\" >O</td>\n",
       "                        <td id=\"T_2fffdab6_3256_11ec_aeb3_00155d3b4badrow0_col2\" class=\"data row0 col2\" >               5,000</td>\n",
       "                        <td id=\"T_2fffdab6_3256_11ec_aeb3_00155d3b4badrow0_col3\" class=\"data row0 col3\" >         -127,000.00</td>\n",
       "                        <td id=\"T_2fffdab6_3256_11ec_aeb3_00155d3b4badrow0_col4\" class=\"data row0 col4\" >GBP</td>\n",
       "                        <td id=\"T_2fffdab6_3256_11ec_aeb3_00155d3b4badrow0_col5\" class=\"data row0 col5\" >         -127,000.00</td>\n",
       "                        <td id=\"T_2fffdab6_3256_11ec_aeb3_00155d3b4badrow0_col6\" class=\"data row0 col6\" >               25.40</td>\n",
       "            </tr>\n",
       "            <tr>\n",
       "                        <th id=\"T_2fffdab6_3256_11ec_aeb3_00155d3b4badlevel0_row1\" class=\"row_heading level0 row1\" >4</th>\n",
       "                        <td id=\"T_2fffdab6_3256_11ec_aeb3_00155d3b4badrow1_col0\" class=\"data row1 col0\" >BRITISH POUND STERLING</td>\n",
       "                        <td id=\"T_2fffdab6_3256_11ec_aeb3_00155d3b4badrow1_col1\" class=\"data row1 col1\" >OC</td>\n",
       "                        <td id=\"T_2fffdab6_3256_11ec_aeb3_00155d3b4badrow1_col2\" class=\"data row1 col2\" >            -127,000</td>\n",
       "                        <td id=\"T_2fffdab6_3256_11ec_aeb3_00155d3b4badrow1_col3\" class=\"data row1 col3\" >          127,000.00</td>\n",
       "                        <td id=\"T_2fffdab6_3256_11ec_aeb3_00155d3b4badrow1_col4\" class=\"data row1 col4\" >GBP</td>\n",
       "                        <td id=\"T_2fffdab6_3256_11ec_aeb3_00155d3b4badrow1_col5\" class=\"data row1 col5\" >          127,000.00</td>\n",
       "                        <td id=\"T_2fffdab6_3256_11ec_aeb3_00155d3b4badrow1_col6\" class=\"data row1 col6\" >               25.40</td>\n",
       "            </tr>\n",
       "    </tbody></table>"
      ],
      "text/plain": [
       "<pandas.io.formats.style.Styler at 0x7feea76e03d0>"
      ]
     },
     "metadata": {},
     "output_type": "display_data"
    }
   ],
   "source": [
    "executed_holdings = api_factory.build(la.TransactionPortfoliosApi).get_holdings_with_orders(\n",
    "    scope=orders_scope, \n",
    "    code=orders_portfolio, \n",
    "    property_keys=[\"Instrument/default/Name\"], \n",
    "    recipe_id_scope=recipe_scope, \n",
    "    recipe_id_code=recipe_code)\n",
    "\n",
    "response_df = lusid_response_to_data_frame(executed_holdings, rename_properties=True)\n",
    "\n",
    "response_df.rename(columns = {'transaction.transaction_price.price':'price','Name(default-Properties)':'instrument','cost.amount':'cost','cost.currency':'ccy','cost_portfolio_ccy.amount':'pfolio_cost'}, inplace = True)\n",
    "response_df['transaction.transaction_id'] = response_df['transaction.transaction_id'].fillna('')\n",
    "grouped=response_df.groupby('transaction.transaction_id')\n",
    "\n",
    "for name,group in grouped:\n",
    "    display(group[[\"instrument\", \"holding_type\", \"units\", \"cost\", \"ccy\", \"pfolio_cost\",  \"price\"]].style.format({\"price\":\"{:20,.2f}\",\"units\":\"{:20,.0f}\",\"cost\": \"{:20,.2f}\",\"pfolio_cost\": \"{:20,.2f}\"}).set_caption(name))\n"
   ]
  },
  {
   "cell_type": "markdown",
   "metadata": {},
   "source": [
    "We should see warnings for:\n",
    "- ORD003, an order with an unsupported side (stop)"
   ]
  },
  {
   "cell_type": "code",
   "execution_count": 113,
   "metadata": {},
   "outputs": [
    {
     "data": {
      "text/plain": [
       "[{'entity_id': '',\n",
       "  'message': 'One or more of the bits of input data provided were not valid. '\n",
       "             \"Failures: [OrderType, Only 'limit,market' order types are \"\n",
       "             \"currently supported, I saw 'stop' (entity \"\n",
       "             \"'holdings_with_live_orders/ORD003')]\"}]"
      ]
     },
     "metadata": {},
     "output_type": "display_data"
    }
   ],
   "source": [
    "display(executed_holdings.warnings)"
   ]
  }
 ],
 "metadata": {
  "kernelspec": {
   "display_name": "Python 3",
   "language": "python",
   "name": "python3"
  },
  "language_info": {
   "codemirror_mode": {
    "name": "ipython",
    "version": 3
   },
   "file_extension": ".py",
   "mimetype": "text/x-python",
   "name": "python",
   "nbconvert_exporter": "python",
   "pygments_lexer": "ipython3",
   "version": "3.7.5"
  }
 },
 "nbformat": 4,
 "nbformat_minor": 2
}
