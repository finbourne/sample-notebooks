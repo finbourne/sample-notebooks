{
 "cells": [
  {
   "cell_type": "code",
   "execution_count": 1,
   "metadata": {
    "pycharm": {
     "name": "#%%\n"
    }
   },
   "outputs": [
    {
     "data": {
      "text/plain": [
       "'Checking a portfolio for transaction updates since an AsAt time\\n\\n\\nAttributes\\n----------\\nAsAt\\nTransaction Portfolios\\nGetPortfolioChanges API\\n'"
      ]
     },
     "execution_count": 1,
     "metadata": {},
     "output_type": "execute_result"
    }
   ],
   "source": [
    "\"\"\"Checking a portfolio for transaction updates since an AsAt time\n",
    "\n",
    "\n",
    "Attributes\n",
    "----------\n",
    "AsAt\n",
    "Transaction Portfolios\n",
    "GetPortfolioChanges API\n",
    "\"\"\""
   ]
  },
  {
   "cell_type": "markdown",
   "metadata": {},
   "source": [
    "# 1. Introduction\n",
    "\n",
    "In this notebook, we show how you can call LUSID to check if there have been any new, amended, or canceled transactions since a given `AsAt` datetime. From a technical point-of-view this is a two step process:\n",
    "\n",
    "1. Call [GetPortfolioChanges](https://www.lusid.com/docs/api/#operation/GetPortfolioChanges) endpoint for a given `scope` and `AsAt` date. From that response, we get a list of all portfolios in that scope which have changes after the AsAt date.\n",
    "2. Call [GetTransactions](https://www.lusid.com/docs/api/#operation/GetTransactions) on the list of portfolios from step #1, filtering for Transactions with a TransactionEntryDate after the asAt Date\n",
    "\n",
    "> NOTE: We implement a two step check here with <b>GetPortfolioChanges</b> as we don't want to repeatedly call <b>GetTransactions</b> for every portfolio in a scope if there are no changes to be fetched."
   ]
  },
  {
   "cell_type": "markdown",
   "metadata": {},
   "source": [
    "![GetPortfolioChanges1](img/get-portfolio-changes/get-portfolio-changes.gif)"
   ]
  },
  {
   "cell_type": "markdown",
   "metadata": {},
   "source": [
    "# 2. Setup LUSID"
   ]
  },
  {
   "cell_type": "code",
   "execution_count": 2,
   "metadata": {},
   "outputs": [],
   "source": [
    "# Import general purpose packages\n",
    "import os\n",
    "import json\n",
    "from datetime import datetime, timedelta, date\n",
    "import pytz\n",
    "from time import sleep\n",
    "\n",
    "# Import lusid specific packages\n",
    "import lusid\n",
    "import lusid.models as models\n",
    "from lusidjam.refreshing_token import RefreshingToken\n",
    "from lusidtools.pandas_utils.lusid_pandas import lusid_response_to_data_frame\n",
    "from lusidtools.cocoon.seed_sample_data import seed_data\n",
    "from lusidtools.cocoon.utilities import create_scope_id\n",
    "import fbnsdkutilities.utilities as utils\n",
    "\n",
    "# Import data wrangling packages\n",
    "import pandas as pd\n",
    "\n",
    "pd.set_option(\"display.max_columns\", None)\n",
    "\n",
    "# Authenticate our user and create our API client\n",
    "secrets_path = os.getenv(\"FBN_SECRETS_PATH\")\n",
    "\n",
    "# Initiate an API Factory which is the client side object for interacting with LUSID APIs\n",
    "api_factory = utils.ApiClientFactory(\n",
    "    lusid,\n",
    "    token=RefreshingToken(),\n",
    "    api_secrets_filename=secrets_path,\n",
    "    app_name=\"LusidJupyterNotebook\",\n",
    ")"
   ]
  },
  {
   "cell_type": "code",
   "execution_count": 3,
   "metadata": {},
   "outputs": [],
   "source": [
    "# Define the transaction portfolio API\n",
    "\n",
    "txn_port_api = api_factory.build(lusid.api.TransactionPortfoliosApi)\n",
    "entities_api = api_factory.build(lusid.api.EntitiesApi)\n",
    "portfolios_api = api_factory.build(lusid.api.PortfoliosApi)"
   ]
  },
  {
   "cell_type": "code",
   "execution_count": 4,
   "metadata": {},
   "outputs": [],
   "source": [
    "# Load a mapping file for DataFrame headers for the get holdings response\n",
    "with open(r\"config/get_holdings_mapping.json\") as mappings_file:\n",
    "    get_holdings_json_mapping = json.load(mappings_file)\n",
    "\n",
    "# Load a mapping file for DataFrame headers for the get transactions response\n",
    "with open(r\"config/get_transactions_mapping.json\") as mappings_file:\n",
    "    get_txn_json_mapping = json.load(mappings_file)"
   ]
  },
  {
   "cell_type": "code",
   "execution_count": 5,
   "metadata": {},
   "outputs": [],
   "source": [
    "def datetime_to_filter_string(entry_datetime):\n",
    "    \n",
    "    date_obj = entry_datetime\n",
    "    \n",
    "    return date_obj.isoformat()[:-6] + \"0Z\""
   ]
  },
  {
   "cell_type": "markdown",
   "metadata": {},
   "source": [
    "# 3. Create two sample portfolio for demonstration\n",
    "\n",
    "Here we create two portfolios for demonstration, each containing UK equities from the FTSE100. We upload the transactions in two batches, one for each portfolio. We record the AsAt time from the second batch, this is the time the batch is considered \"completed\"."
   ]
  },
  {
   "cell_type": "code",
   "execution_count": 6,
   "metadata": {},
   "outputs": [],
   "source": [
    "# Create a new scope\n",
    "\n",
    "scope = create_scope_id()\n",
    "portfolio_code1 = \"EQUITY_UK1\"\n",
    "portfolio_code2 = \"EQUITY_UK2\""
   ]
  },
  {
   "cell_type": "code",
   "execution_count": 7,
   "metadata": {},
   "outputs": [],
   "source": [
    "# Load a file of equity transactions\n",
    "\n",
    "transactions_file = r\"data/get-portfolio-changes/equity_transactions.csv\"\n",
    "transactions_df = pd.read_csv(transactions_file)"
   ]
  },
  {
   "cell_type": "code",
   "execution_count": 8,
   "metadata": {},
   "outputs": [
    {
     "data": {
      "text/html": [
       "<div>\n",
       "<style scoped>\n",
       "    .dataframe tbody tr th:only-of-type {\n",
       "        vertical-align: middle;\n",
       "    }\n",
       "\n",
       "    .dataframe tbody tr th {\n",
       "        vertical-align: top;\n",
       "    }\n",
       "\n",
       "    .dataframe thead th {\n",
       "        text-align: right;\n",
       "    }\n",
       "</style>\n",
       "<table border=\"1\" class=\"dataframe\">\n",
       "  <thead>\n",
       "    <tr style=\"text-align: right;\">\n",
       "      <th></th>\n",
       "      <th>portfolio_code</th>\n",
       "      <th>portfolio_name</th>\n",
       "      <th>portfolio_base_currency</th>\n",
       "      <th>ticker</th>\n",
       "      <th>sedol</th>\n",
       "      <th>instrument_type</th>\n",
       "      <th>instrument_id</th>\n",
       "      <th>name</th>\n",
       "      <th>txn_id</th>\n",
       "      <th>txn_type</th>\n",
       "      <th>txn_trade_date</th>\n",
       "      <th>txn_settle_date</th>\n",
       "      <th>txn_units</th>\n",
       "      <th>txn_price</th>\n",
       "      <th>txn_consideration</th>\n",
       "      <th>currency</th>\n",
       "      <th>strategy</th>\n",
       "      <th>cash_transactions</th>\n",
       "    </tr>\n",
       "  </thead>\n",
       "  <tbody>\n",
       "    <tr>\n",
       "      <th>0</th>\n",
       "      <td>EQUITY_UK1</td>\n",
       "      <td>LUSID's top 10 FTSE stock portfolio</td>\n",
       "      <td>GBP</td>\n",
       "      <td>GB0002162385</td>\n",
       "      <td>SEDOL1</td>\n",
       "      <td>equity</td>\n",
       "      <td>EQ_1234</td>\n",
       "      <td>Aviva</td>\n",
       "      <td>trd_0001</td>\n",
       "      <td>Buy</td>\n",
       "      <td>02/01/2020</td>\n",
       "      <td>04/01/2020</td>\n",
       "      <td>120000</td>\n",
       "      <td>5</td>\n",
       "      <td>600000</td>\n",
       "      <td>GBP</td>\n",
       "      <td>ftse_tracker</td>\n",
       "      <td>NaN</td>\n",
       "    </tr>\n",
       "    <tr>\n",
       "      <th>1</th>\n",
       "      <td>EQUITY_UK1</td>\n",
       "      <td>LUSID's top 10 FTSE stock portfolio</td>\n",
       "      <td>GBP</td>\n",
       "      <td>GB0002162385</td>\n",
       "      <td>SEDOL1</td>\n",
       "      <td>equity</td>\n",
       "      <td>EQ_1234</td>\n",
       "      <td>Aviva</td>\n",
       "      <td>trd_0002</td>\n",
       "      <td>Buy</td>\n",
       "      <td>02/01/2020</td>\n",
       "      <td>04/01/2020</td>\n",
       "      <td>12000</td>\n",
       "      <td>5</td>\n",
       "      <td>60000</td>\n",
       "      <td>GBP</td>\n",
       "      <td>ftse_tracker</td>\n",
       "      <td>NaN</td>\n",
       "    </tr>\n",
       "  </tbody>\n",
       "</table>\n",
       "</div>"
      ],
      "text/plain": [
       "  portfolio_code                       portfolio_name portfolio_base_currency   \n",
       "0     EQUITY_UK1  LUSID's top 10 FTSE stock portfolio                     GBP  \\\n",
       "1     EQUITY_UK1  LUSID's top 10 FTSE stock portfolio                     GBP   \n",
       "\n",
       "         ticker   sedol instrument_type instrument_id   name    txn_id   \n",
       "0  GB0002162385  SEDOL1          equity       EQ_1234  Aviva  trd_0001  \\\n",
       "1  GB0002162385  SEDOL1          equity       EQ_1234  Aviva  trd_0002   \n",
       "\n",
       "  txn_type txn_trade_date txn_settle_date  txn_units  txn_price   \n",
       "0      Buy     02/01/2020      04/01/2020     120000          5  \\\n",
       "1      Buy     02/01/2020      04/01/2020      12000          5   \n",
       "\n",
       "   txn_consideration currency      strategy cash_transactions  \n",
       "0             600000      GBP  ftse_tracker               NaN  \n",
       "1              60000      GBP  ftse_tracker               NaN  "
      ]
     },
     "execution_count": 8,
     "metadata": {},
     "output_type": "execute_result"
    }
   ],
   "source": [
    "transactions_df.head(2)"
   ]
  },
  {
   "cell_type": "code",
   "execution_count": 9,
   "metadata": {},
   "outputs": [],
   "source": [
    "# Load portfolios, instruments, and transactions\n",
    "\n",
    "seed_data_response = seed_data(\n",
    "    api_factory,\n",
    "    [\"portfolios\", \"instruments\", \"transactions\"],\n",
    "    scope,\n",
    "    transactions_file,\n",
    "    \"csv\",\n",
    ")"
   ]
  },
  {
   "cell_type": "markdown",
   "metadata": {},
   "source": [
    "We capture the latest AsAt from the batch of upsert transaction responses. The transactions for each portfolio will have been upserted to LUSID using separate requests, so will have slightly different AsAt timestamps. As such we need to find the latest AsAt and use this as time of the batch completion. "
   ]
  },
  {
   "cell_type": "code",
   "execution_count": 10,
   "metadata": {},
   "outputs": [],
   "source": [
    "equity_batch_last_asat_response = max(\n",
    "    [i.version.as_at_date for i in seed_data_response[\"transactions\"][0][\"transactions\"][\"success\"]])"
   ]
  },
  {
   "cell_type": "code",
   "execution_count": 11,
   "metadata": {},
   "outputs": [
    {
     "name": "stdout",
     "output_type": "stream",
     "text": [
      "AsAt of last transaction in the transaction upsert batch 2023-05-05T10:08:49.8327540Z\n"
     ]
    }
   ],
   "source": [
    "equity_batch_last_asat = datetime_to_filter_string(equity_batch_last_asat_response)\n",
    "\n",
    "print(f\"AsAt of last transaction in the transaction upsert batch {equity_batch_last_asat}\")"
   ]
  },
  {
   "cell_type": "markdown",
   "metadata": {},
   "source": [
    "We sleep for 2 seconds to create a short break in the asat timeline, so we can compare results below."
   ]
  },
  {
   "cell_type": "code",
   "execution_count": 12,
   "metadata": {},
   "outputs": [],
   "source": [
    "sleep(2)"
   ]
  },
  {
   "cell_type": "markdown",
   "metadata": {},
   "source": [
    "# 4. Book a batch of fund flows for both portfolios\n",
    "\n",
    "Next, we book a batch of fund flows into both funds. The first set of transactions are all backdated. We book some current and future dated transactions later."
   ]
  },
  {
   "cell_type": "code",
   "execution_count": 13,
   "metadata": {},
   "outputs": [],
   "source": [
    "# Define now in UTC\n",
    "now = datetime.now(tz=pytz.UTC)\n",
    "\n",
    "# Get SOD (midnight) today\n",
    "today = date.today()\n",
    "today_sod = pytz.utc.localize(datetime.combine(today, datetime.min.time()))\n",
    "\n",
    "# Create upsert datetimes for yesterday\n",
    "eight_pm_yesterday = today_sod - timedelta(hours=4)\n",
    "ten_pm_yesterday = today_sod - timedelta(hours=2)\n",
    "\n",
    "# Create upsert datetimes for today\n",
    "nine_am_today = today_sod + timedelta(hours=9)\n",
    "eleven_am_today = today_sod + timedelta(hours=11)\n",
    "\n",
    "# Create upsert datetimes for tomorrow\n",
    "nine_am_tomorrow = today_sod + timedelta(hours=33)"
   ]
  },
  {
   "cell_type": "markdown",
   "metadata": {},
   "source": [
    "Define function to manage fund flow upsert:"
   ]
  },
  {
   "cell_type": "code",
   "execution_count": 14,
   "metadata": {},
   "outputs": [],
   "source": [
    "def upsert_fund_flow_batch(fund_flow_txns):\n",
    "    \n",
    "    \"\"\"\n",
    "    This function upserts a set of fund flows into LUSID. \n",
    "    We purposefully leave 1 second between each upsert. \n",
    "    The function returns a the AsAt of last upsert\n",
    "    \n",
    "    \"\"\"\n",
    "    \n",
    "    upsert_asat_times = []\n",
    "    \n",
    "    for portfolio_code in fund_flow_txns:\n",
    "        \n",
    "        sleep(1)\n",
    "        \n",
    "        transactions = fund_flow_txns[portfolio_code]\n",
    "        \n",
    "        upsert_transactions = txn_port_api.upsert_transactions(\n",
    "            scope=scope,\n",
    "            code=portfolio_code,\n",
    "            transaction_request=[\n",
    "                models.TransactionRequest(\n",
    "                    transaction_id=transaction[0],\n",
    "                    type=transaction[1],\n",
    "                    instrument_identifiers={\"Instrument/default/LusidInstrumentId\": f\"CCY_{transaction[2]}\"},\n",
    "                    transaction_date=transaction[3].isoformat(),\n",
    "                    settlement_date=transaction[3].isoformat(),\n",
    "                    units=transaction[4],\n",
    "                    transaction_price=models.TransactionPrice(price=1, type=\"Price\"),\n",
    "                    total_consideration=models.CurrencyAndAmount(amount=transaction[4], currency=transaction[2]),\n",
    "                    properties={},\n",
    "                )\n",
    "             for transaction in transactions]\n",
    "        )\n",
    "    \n",
    "        upsert_asat_times.append(upsert_transactions.version.as_at_date)\n",
    "                            \n",
    "    return upsert_asat_times"
   ]
  },
  {
   "cell_type": "code",
   "execution_count": 15,
   "metadata": {},
   "outputs": [],
   "source": [
    "fund_flow_txns_batch_1 = {\n",
    "    \n",
    "    # Post transactions for portfolio 1\n",
    "\n",
    "    portfolio_code1: [ (\"funds_001\", \"FundsIn\", \"GBP\", eight_pm_yesterday, 100000),\n",
    "    (\"funds_002\", \"FundsIn\", \"USD\", ten_pm_yesterday, 300000)],\n",
    "    \n",
    "    # Post transactions for portfolio 2\n",
    "\n",
    "    portfolio_code2: [\n",
    "            (\"funds_001\", \"FundsIn\", \"GBP\", eight_pm_yesterday, 100000),\n",
    "    (\"funds_002\", \"FundsIn\", \"USD\", ten_pm_yesterday, 300000)\n",
    "            \n",
    "    ]\n",
    "        \n",
    "}"
   ]
  },
  {
   "cell_type": "markdown",
   "metadata": {},
   "source": [
    "Upsert the fund flow transactions:"
   ]
  },
  {
   "cell_type": "code",
   "execution_count": 16,
   "metadata": {},
   "outputs": [],
   "source": [
    "fund_flow_batch_1_upsert_asats = upsert_fund_flow_batch(fund_flow_txns_batch_1)"
   ]
  },
  {
   "cell_type": "markdown",
   "metadata": {},
   "source": [
    "Again, we capture the AsAt of the last API request in the batch. This AsAt is used to filter transactions below."
   ]
  },
  {
   "cell_type": "code",
   "execution_count": 17,
   "metadata": {},
   "outputs": [
    {
     "name": "stdout",
     "output_type": "stream",
     "text": [
      "The AsAt of the last API request in the batch: 2023-05-05T10:08:55.6201560Z\n"
     ]
    }
   ],
   "source": [
    "fund_flow_batch_1_end_time = datetime_to_filter_string(max(fund_flow_batch_1_upsert_asats))\n",
    "\n",
    "print(f\"The AsAt of the last API request in the batch: {fund_flow_batch_1_end_time}\")"
   ]
  },
  {
   "cell_type": "markdown",
   "metadata": {},
   "source": [
    "# 5. Track the transaction updates since fund flow posting\n",
    "\n",
    "\n",
    "In this section we retrieve all transactions which were posted after the first batch of equity transactions. We use the AsAt time to filter. \n",
    "\n",
    "\n",
    "<i>Diagram - Querying all transactions by EntryDateTime greater than the first EntryDateTime in the current batch:</i>\n",
    "\n",
    "\n",
    "![GetPortfolioChanges2](img/get-portfolio-changes/get-changes-1.gif)\n"
   ]
  },
  {
   "cell_type": "code",
   "execution_count": 18,
   "metadata": {},
   "outputs": [],
   "source": [
    "def get_latest_changes_entered_since_asat_date(scope, last_checked_date, operator=\"gt\"):\n",
    "    \n",
    "    \"\"\"\n",
    "    This function returns all the transactions posted into all portfolios in a scope since \n",
    "    an AsAt time provided by the user.\n",
    "    \n",
    "    There is two step process:\n",
    "    1. Call the GetPortfolioChanges API to get the list of portfolios with changes\n",
    "    2. Call the GetTransactions API to get details of transactions for a given portfolio\n",
    "    \n",
    "    \"\"\"\n",
    "    \n",
    "    # The max_date resolves to the year 9999\n",
    "    # We use this as a proxy to check for any changes across all effective space\n",
    "    \n",
    "    max_date = datetime.max.isoformat() + \"Z\"\n",
    "    \n",
    "    \n",
    "    def get_transactions_since_date(portfolio_code, last_checked_date):        \n",
    "        \n",
    "        api_filter = f\"entryDateTime {operator} {last_checked_date}\"\n",
    "                                \n",
    "        get_transactions = txn_port_api.get_transactions(\n",
    "            scope=scope,\n",
    "            code=portfolio_code,\n",
    "            filter=api_filter)\n",
    "        \n",
    "        txn_df = lusid_response_to_data_frame(get_transactions, rename_properties=True, column_name_mapping=get_txn_json_mapping )\n",
    "        \n",
    "        txn_df=txn_df[get_txn_json_mapping.values()]\n",
    "        \n",
    "        return txn_df\n",
    "    \n",
    "    portfolios_with_changes =  [i.entity_id.code for i in entities_api.get_portfolio_changes(\n",
    "        scope=scope, effective_at=max_date, as_at=last_checked_date).values]\n",
    "    \n",
    "    \n",
    "    for portfolio in portfolios_with_changes:\n",
    "        \n",
    "        print(f\"Fetching transactions for portfolio {portfolio} since AsAt time {last_checked_date}\")\n",
    "        \n",
    "        txns_df = get_transactions_since_date(portfolio, last_checked_date)\n",
    "        \n",
    "        display(txns_df)\n",
    "        \n",
    "    "
   ]
  },
  {
   "cell_type": "markdown",
   "metadata": {},
   "source": [
    "Track the changes in the portfolio since the first upsert:"
   ]
  },
  {
   "cell_type": "code",
   "execution_count": 19,
   "metadata": {},
   "outputs": [
    {
     "name": "stdout",
     "output_type": "stream",
     "text": [
      "Fetching transactions for portfolio EQUITY_UK2 since AsAt time 2023-05-05T10:08:49.8327540Z\n"
     ]
    },
    {
     "data": {
      "text/html": [
       "<div>\n",
       "<style scoped>\n",
       "    .dataframe tbody tr th:only-of-type {\n",
       "        vertical-align: middle;\n",
       "    }\n",
       "\n",
       "    .dataframe tbody tr th {\n",
       "        vertical-align: top;\n",
       "    }\n",
       "\n",
       "    .dataframe thead th {\n",
       "        text-align: right;\n",
       "    }\n",
       "</style>\n",
       "<table border=\"1\" class=\"dataframe\">\n",
       "  <thead>\n",
       "    <tr style=\"text-align: right;\">\n",
       "      <th></th>\n",
       "      <th>PortfolioCode</th>\n",
       "      <th>EntryDateTime</th>\n",
       "      <th>TransactionId</th>\n",
       "      <th>TransactionType</th>\n",
       "      <th>FundFlowCurrency</th>\n",
       "      <th>Units</th>\n",
       "      <th>TransactionDate</th>\n",
       "    </tr>\n",
       "  </thead>\n",
       "  <tbody>\n",
       "    <tr>\n",
       "      <th>0</th>\n",
       "      <td>EQUITY_UK2</td>\n",
       "      <td>2023-05-05 10:08:55.620156+00:00</td>\n",
       "      <td>funds_001</td>\n",
       "      <td>FundsIn</td>\n",
       "      <td>CCY_GBP</td>\n",
       "      <td>100000.0</td>\n",
       "      <td>2023-05-04 20:00:00+00:00</td>\n",
       "    </tr>\n",
       "    <tr>\n",
       "      <th>1</th>\n",
       "      <td>EQUITY_UK2</td>\n",
       "      <td>2023-05-05 10:08:55.620156+00:00</td>\n",
       "      <td>funds_002</td>\n",
       "      <td>FundsIn</td>\n",
       "      <td>CCY_USD</td>\n",
       "      <td>300000.0</td>\n",
       "      <td>2023-05-04 22:00:00+00:00</td>\n",
       "    </tr>\n",
       "  </tbody>\n",
       "</table>\n",
       "</div>"
      ],
      "text/plain": [
       "  PortfolioCode                    EntryDateTime TransactionId   \n",
       "0    EQUITY_UK2 2023-05-05 10:08:55.620156+00:00     funds_001  \\\n",
       "1    EQUITY_UK2 2023-05-05 10:08:55.620156+00:00     funds_002   \n",
       "\n",
       "  TransactionType FundFlowCurrency     Units           TransactionDate  \n",
       "0         FundsIn          CCY_GBP  100000.0 2023-05-04 20:00:00+00:00  \n",
       "1         FundsIn          CCY_USD  300000.0 2023-05-04 22:00:00+00:00  "
      ]
     },
     "metadata": {},
     "output_type": "display_data"
    },
    {
     "name": "stdout",
     "output_type": "stream",
     "text": [
      "Fetching transactions for portfolio EQUITY_UK1 since AsAt time 2023-05-05T10:08:49.8327540Z\n"
     ]
    },
    {
     "data": {
      "text/html": [
       "<div>\n",
       "<style scoped>\n",
       "    .dataframe tbody tr th:only-of-type {\n",
       "        vertical-align: middle;\n",
       "    }\n",
       "\n",
       "    .dataframe tbody tr th {\n",
       "        vertical-align: top;\n",
       "    }\n",
       "\n",
       "    .dataframe thead th {\n",
       "        text-align: right;\n",
       "    }\n",
       "</style>\n",
       "<table border=\"1\" class=\"dataframe\">\n",
       "  <thead>\n",
       "    <tr style=\"text-align: right;\">\n",
       "      <th></th>\n",
       "      <th>PortfolioCode</th>\n",
       "      <th>EntryDateTime</th>\n",
       "      <th>TransactionId</th>\n",
       "      <th>TransactionType</th>\n",
       "      <th>FundFlowCurrency</th>\n",
       "      <th>Units</th>\n",
       "      <th>TransactionDate</th>\n",
       "    </tr>\n",
       "  </thead>\n",
       "  <tbody>\n",
       "    <tr>\n",
       "      <th>0</th>\n",
       "      <td>EQUITY_UK1</td>\n",
       "      <td>2023-05-05 10:08:53.859174+00:00</td>\n",
       "      <td>funds_001</td>\n",
       "      <td>FundsIn</td>\n",
       "      <td>CCY_GBP</td>\n",
       "      <td>100000.0</td>\n",
       "      <td>2023-05-04 20:00:00+00:00</td>\n",
       "    </tr>\n",
       "    <tr>\n",
       "      <th>1</th>\n",
       "      <td>EQUITY_UK1</td>\n",
       "      <td>2023-05-05 10:08:53.859174+00:00</td>\n",
       "      <td>funds_002</td>\n",
       "      <td>FundsIn</td>\n",
       "      <td>CCY_USD</td>\n",
       "      <td>300000.0</td>\n",
       "      <td>2023-05-04 22:00:00+00:00</td>\n",
       "    </tr>\n",
       "  </tbody>\n",
       "</table>\n",
       "</div>"
      ],
      "text/plain": [
       "  PortfolioCode                    EntryDateTime TransactionId   \n",
       "0    EQUITY_UK1 2023-05-05 10:08:53.859174+00:00     funds_001  \\\n",
       "1    EQUITY_UK1 2023-05-05 10:08:53.859174+00:00     funds_002   \n",
       "\n",
       "  TransactionType FundFlowCurrency     Units           TransactionDate  \n",
       "0         FundsIn          CCY_GBP  100000.0 2023-05-04 20:00:00+00:00  \n",
       "1         FundsIn          CCY_USD  300000.0 2023-05-04 22:00:00+00:00  "
      ]
     },
     "metadata": {},
     "output_type": "display_data"
    }
   ],
   "source": [
    "get_latest_changes_entered_since_asat_date(scope, equity_batch_last_asat)"
   ]
  },
  {
   "cell_type": "markdown",
   "metadata": {},
   "source": [
    "# 6. Post new and corrections to fund flow transactions\n",
    "\n",
    "Then we post new transactions and a corrections. We add a correction here to illustrate that transactions are filtered by AsAt and not EffectiveAt. We also upsert transactions into one portfolio only, to demonstrate that [GetPortfolioChanges](https://www.lusid.com/docs/api/#operation/GetPortfolioChanges) only returns portfolios which actually have had changes."
   ]
  },
  {
   "cell_type": "code",
   "execution_count": 20,
   "metadata": {},
   "outputs": [],
   "source": [
    "fund_flow_txns_batch_2 = {\n",
    "    \n",
    "    # Post transactions for portfolio 2\n",
    "    \n",
    "    portfolio_code2: [\n",
    "        \n",
    "        (\"funds_001\", \"FundsIn\", \"GBP\", eight_pm_yesterday, 150000),\n",
    "        (\"funds_003\", \"FundsIn\", \"EUR\", nine_am_today, 200000),\n",
    "        (\"funds_004\", \"FundsOut\", \"GBP\", eleven_am_today, 200000),\n",
    "        (\"funds_005\", \"FundsIn\", \"GBP\", nine_am_tomorrow, 200000)\n",
    "    ]\n",
    "    \n",
    "}"
   ]
  },
  {
   "cell_type": "code",
   "execution_count": 21,
   "metadata": {},
   "outputs": [],
   "source": [
    "fund_flow_upsert_2 = upsert_fund_flow_batch(fund_flow_txns_batch_2)"
   ]
  },
  {
   "cell_type": "markdown",
   "metadata": {},
   "source": [
    "# 7. Get the latest transactions cut\n",
    "\n",
    "Next we take another transactions cut for anything booked after the first batch of fund flows.\n",
    "\n",
    "<i>Diagram - Querying all transactions by EntryDateTime greater than the last EntryDateTime in the previous batch:</i>\n",
    "\n",
    "![GetPortfolioChanges3](img/get-portfolio-changes/get-changes-2.gif)"
   ]
  },
  {
   "cell_type": "markdown",
   "metadata": {},
   "source": [
    "\n",
    "We can see below that the latest cut only includes:\n",
    "\n",
    "1. New transactions\n",
    "2. Corrections to old transactions posted since previous call"
   ]
  },
  {
   "cell_type": "code",
   "execution_count": 22,
   "metadata": {},
   "outputs": [
    {
     "name": "stdout",
     "output_type": "stream",
     "text": [
      "Fetching transactions for portfolio EQUITY_UK2 since AsAt time 2023-05-05T10:08:55.6201560Z\n"
     ]
    },
    {
     "data": {
      "text/html": [
       "<div>\n",
       "<style scoped>\n",
       "    .dataframe tbody tr th:only-of-type {\n",
       "        vertical-align: middle;\n",
       "    }\n",
       "\n",
       "    .dataframe tbody tr th {\n",
       "        vertical-align: top;\n",
       "    }\n",
       "\n",
       "    .dataframe thead th {\n",
       "        text-align: right;\n",
       "    }\n",
       "</style>\n",
       "<table border=\"1\" class=\"dataframe\">\n",
       "  <thead>\n",
       "    <tr style=\"text-align: right;\">\n",
       "      <th></th>\n",
       "      <th>PortfolioCode</th>\n",
       "      <th>EntryDateTime</th>\n",
       "      <th>TransactionId</th>\n",
       "      <th>TransactionType</th>\n",
       "      <th>FundFlowCurrency</th>\n",
       "      <th>Units</th>\n",
       "      <th>TransactionDate</th>\n",
       "    </tr>\n",
       "  </thead>\n",
       "  <tbody>\n",
       "    <tr>\n",
       "      <th>0</th>\n",
       "      <td>EQUITY_UK2</td>\n",
       "      <td>2023-05-05 10:08:59.830210+00:00</td>\n",
       "      <td>funds_001</td>\n",
       "      <td>FundsIn</td>\n",
       "      <td>CCY_GBP</td>\n",
       "      <td>150000.0</td>\n",
       "      <td>2023-05-04 20:00:00+00:00</td>\n",
       "    </tr>\n",
       "    <tr>\n",
       "      <th>1</th>\n",
       "      <td>EQUITY_UK2</td>\n",
       "      <td>2023-05-05 10:08:59.830210+00:00</td>\n",
       "      <td>funds_003</td>\n",
       "      <td>FundsIn</td>\n",
       "      <td>CCY_EUR</td>\n",
       "      <td>200000.0</td>\n",
       "      <td>2023-05-05 09:00:00+00:00</td>\n",
       "    </tr>\n",
       "    <tr>\n",
       "      <th>2</th>\n",
       "      <td>EQUITY_UK2</td>\n",
       "      <td>2023-05-05 10:08:59.830210+00:00</td>\n",
       "      <td>funds_004</td>\n",
       "      <td>FundsOut</td>\n",
       "      <td>CCY_GBP</td>\n",
       "      <td>200000.0</td>\n",
       "      <td>2023-05-05 11:00:00+00:00</td>\n",
       "    </tr>\n",
       "    <tr>\n",
       "      <th>3</th>\n",
       "      <td>EQUITY_UK2</td>\n",
       "      <td>2023-05-05 10:08:59.830210+00:00</td>\n",
       "      <td>funds_005</td>\n",
       "      <td>FundsIn</td>\n",
       "      <td>CCY_GBP</td>\n",
       "      <td>200000.0</td>\n",
       "      <td>2023-05-06 09:00:00+00:00</td>\n",
       "    </tr>\n",
       "  </tbody>\n",
       "</table>\n",
       "</div>"
      ],
      "text/plain": [
       "  PortfolioCode                    EntryDateTime TransactionId   \n",
       "0    EQUITY_UK2 2023-05-05 10:08:59.830210+00:00     funds_001  \\\n",
       "1    EQUITY_UK2 2023-05-05 10:08:59.830210+00:00     funds_003   \n",
       "2    EQUITY_UK2 2023-05-05 10:08:59.830210+00:00     funds_004   \n",
       "3    EQUITY_UK2 2023-05-05 10:08:59.830210+00:00     funds_005   \n",
       "\n",
       "  TransactionType FundFlowCurrency     Units           TransactionDate  \n",
       "0         FundsIn          CCY_GBP  150000.0 2023-05-04 20:00:00+00:00  \n",
       "1         FundsIn          CCY_EUR  200000.0 2023-05-05 09:00:00+00:00  \n",
       "2        FundsOut          CCY_GBP  200000.0 2023-05-05 11:00:00+00:00  \n",
       "3         FundsIn          CCY_GBP  200000.0 2023-05-06 09:00:00+00:00  "
      ]
     },
     "metadata": {},
     "output_type": "display_data"
    }
   ],
   "source": [
    "get_latest_changes_entered_since_asat_date(scope, fund_flow_batch_1_end_time, operator=\"gt\")"
   ]
  },
  {
   "cell_type": "markdown",
   "metadata": {},
   "source": [
    "# 8. Clean-up: Delete portfolios"
   ]
  },
  {
   "cell_type": "code",
   "execution_count": 23,
   "metadata": {},
   "outputs": [],
   "source": [
    "for port in (portfolio_code1, portfolio_code2):\n",
    "\n",
    "    portfolios_api.delete_portfolio(scope=scope, code=port)"
   ]
  }
 ],
 "metadata": {
  "kernelspec": {
   "display_name": "Python 3 (ipykernel)",
   "language": "python",
   "name": "python3"
  },
  "language_info": {
   "codemirror_mode": {
    "name": "ipython",
    "version": 3
   },
   "file_extension": ".py",
   "mimetype": "text/x-python",
   "name": "python",
   "nbconvert_exporter": "python",
   "pygments_lexer": "ipython3",
   "version": "3.10.10"
  }
 },
 "nbformat": 4,
 "nbformat_minor": 2
}
