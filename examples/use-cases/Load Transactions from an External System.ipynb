{
 "cells": [
  {
   "cell_type": "markdown",
   "metadata": {},
   "source": [
    "# Loading an \"External System\" Transaction XML into LUSID\n",
    "\n",
    "The purpose of this notebook  is to demonstrate how a user could load a transaction XML file from another \"External System\" into LUSID. The notebook will walk through the following steps: <br>\n",
    "\n",
    "(1) Create a portfolio in LUSID. <br>\n",
    "(2) Load a transaction XML into a Pandas DataFrame. <br>\n",
    "(3) Translate the data in DataFrame into data types which LUSID will recognise (e.g. transform \"strings\" to \"datetimes\"). <br>\n",
    "(4) Use client identifiers to create placeholder LUIDS (these can be enriched at a later date once we receive the \"External System\" instrument master file). <br>\n",
    "(5) Load the transaction into LUSID using the Transactions API. <br><br>\n"
   ]
  },
  {
   "cell_type": "markdown",
   "metadata": {},
   "source": [
    "![Init](img/python_env.PNG)"
   ]
  },
  {
   "cell_type": "markdown",
   "metadata": {},
   "source": [
    "## Setup: Load libraries and create our LUSID API client\n"
   ]
  },
  {
   "cell_type": "code",
   "execution_count": 1,
   "metadata": {},
   "outputs": [
    {
     "name": "stdout",
     "output_type": "stream",
     "text": [
      "LUSID Client Initialised\n",
      "LUSID version :  0.5.3371.0\n"
     ]
    }
   ],
   "source": [
    "# Import LUSID\n",
    "import lusid\n",
    "import lusid.models as models\n",
    "import lusid_sample_data as import_data\n",
    "import globalfund as global_fund_tools\n",
    "import cocoon as cocoon_tools\n",
    "\n",
    "# Import Libraries\n",
    "import pprint\n",
    "from datetime import datetime, timedelta, time, date\n",
    "import pytz\n",
    "import uuid\n",
    "import printer as prettyprint\n",
    "from datetime import datetime\n",
    "import pandas as pd\n",
    "import numpy as np\n",
    "import os\n",
    "import json\n",
    "import xml.etree.ElementTree as ET\n",
    "import io\n",
    "\n",
    "# Authenticate our user and create our API client\n",
    "lusid_client = import_data.authenticate_secrets()\n",
    "\n",
    "print('LUSID Client Initialised')\n",
    "print('LUSID version : ', lusid_client.metadata.get_lusid_versions().build_version)"
   ]
  },
  {
   "cell_type": "markdown",
   "metadata": {},
   "source": [
    "As part of the setup, we need to define a Scope. Scopes in LUSID are used to partition data. In this example, we will use the Scope \"EXT_SYSTEM\" to represent an external trading system. "
   ]
  },
  {
   "cell_type": "code",
   "execution_count": 2,
   "metadata": {},
   "outputs": [],
   "source": [
    "# define scope\n",
    "\n",
    "scope = \"EXT_SYSTEM\""
   ]
  },
  {
   "cell_type": "markdown",
   "metadata": {},
   "source": [
    "## Step 1: Create a portfolio in LUSID\n",
    "\n",
    "First we need a portfolio in LUSID. The \"External System\" transaction XML will be loaded into this portfolio. For this example,\n",
    "I created a portfolio using the create_portfolios_if_not_exist() function in the cocoon tools package."
   ]
  },
  {
   "cell_type": "code",
   "execution_count": 3,
   "metadata": {},
   "outputs": [],
   "source": [
    "portfolios_data = pd.DataFrame(\n",
    "    \n",
    "    [\n",
    "        {'FundCode': \"ext_port1\",\n",
    "         'display_name': 'External System Positions',\n",
    "         'created': '2019-10-09',\n",
    "         'base_currency': 'USD',\n",
    "        'description': 'A portfolio to hold trades from an external system'}\n",
    "    ]\n",
    "\n",
    ")"
   ]
  },
  {
   "cell_type": "code",
   "execution_count": 4,
   "metadata": {},
   "outputs": [],
   "source": [
    "portfolio_mapping_required = {\n",
    "  'code': 'FundCode',\n",
    "  'display_name': 'display_name',\n",
    "  'created': 'created',\n",
    "  'base_currency': 'base_currency'\n",
    "}\n",
    "\n",
    "portfolio_mapping_optional = {\n",
    "  'description': 'description',\n",
    "  'accounting_method': None\n",
    "}"
   ]
  },
  {
   "cell_type": "code",
   "execution_count": 7,
   "metadata": {},
   "outputs": [],
   "source": [
    "responses = cocoon_tools.create_portfolios_if_not_exist(\n",
    "    client=lusid_client, \n",
    "    scope=scope, \n",
    "    data_frame=portfolios_data, \n",
    "    required_mapping=portfolio_mapping_required, \n",
    "    optional_mapping=portfolio_mapping_optional)\n",
    "\n",
    "for portfolio_code, response in responses.items():\n",
    "    prettyprint.portfolio_response(response)"
   ]
  },
  {
   "cell_type": "markdown",
   "metadata": {},
   "source": [
    "We could also create the portfolio in LUSID's front-end web-tool:"
   ]
  },
  {
   "cell_type": "markdown",
   "metadata": {},
   "source": [
    "![Init](img/create_portfolio.PNG)"
   ]
  },
  {
   "cell_type": "code",
   "execution_count": 8,
   "metadata": {},
   "outputs": [],
   "source": [
    "# define portfolio variable for portfolio we just created\n",
    "\n",
    "portfolio = \"ext_port_1\""
   ]
  },
  {
   "cell_type": "markdown",
   "metadata": {},
   "source": [
    "## Step 2: Scrape Transaction XML data into a Python DataFrame"
   ]
  },
  {
   "cell_type": "markdown",
   "metadata": {},
   "source": [
    "Next we need to load the XML file into a Python dataframe. This will allow us to transform the data into a format LUSID will recognise."
   ]
  },
  {
   "cell_type": "code",
   "execution_count": 9,
   "metadata": {},
   "outputs": [],
   "source": [
    "# Load the XML file into memory\n",
    "\n",
    "ext_system_file = os.path.join(\"ext_system_file.xml\")"
   ]
  },
  {
   "cell_type": "code",
   "execution_count": 10,
   "metadata": {},
   "outputs": [
    {
     "name": "stdout",
     "output_type": "stream",
     "text": [
      "TRD_COUNTERPARTY\n",
      "INST_TICKER\n",
      "INST_TYPE\n",
      "TRD_NUMBER\n",
      "TRADE\n",
      "PORT_NAME\n",
      "TRD_TRANS_TYPE\n",
      "TRD_TRADER\n",
      "TRANSACTIONS\n",
      "CLIENT_ID\n",
      "INST_DESC\n",
      "TRD_QUANTITY\n",
      "TRD_PRICE\n",
      "TRD_LOCATION\n",
      "TRD_CURRENCY\n",
      "INST_GROUP\n",
      "TRD_SETTLE_DATE\n",
      "TRD_TOUCH_COUNT\n",
      "TRD_TRADE_DATE\n",
      "TRD_PRINCIPAL\n"
     ]
    }
   ],
   "source": [
    "# Create a Python object from the XML file\n",
    "# List out the individual tags which will need to be mapped\n",
    "\n",
    "tree = ET.parse(ext_system_file)\n",
    "root = tree.getroot()\n",
    "list_tags = list(set([elem.tag for elem in root.iter()]))\n",
    "for tag in list_tags:\n",
    "    print(tag)"
   ]
  },
  {
   "cell_type": "markdown",
   "metadata": {},
   "source": [
    "Create a list of the tags which we want to load into LUSID. For the purposes of this example, we will select a subset of fields from the sample XML file. In production, you may need to load more."
   ]
  },
  {
   "cell_type": "code",
   "execution_count": 11,
   "metadata": {},
   "outputs": [],
   "source": [
    "list_tags = [\n",
    "    \n",
    "    \"TRD_TRANS_TYPE\",\n",
    "    \"TRD_QUANTITY\",\n",
    "    \"TRD_TRADE_DATE\",\n",
    "    \"PORT_NAME\",\n",
    "    \"INST_GROUP\",\n",
    "    \"TRD_CURRENCY\",\n",
    "    \"TRD_TOUCH_COUNT\",\n",
    "    \"INST_DESC\",\n",
    "    \"INST_TYPE\",\n",
    "    \"TRD_PRINCIPAL\",\n",
    "    \"TRD_TRADER\",\n",
    "    \"TRD_PRICE\",\n",
    "    \"TRD_COUNTERPARTY\",\n",
    "    \"INST_TICKER\",\n",
    "    \"CLIENT_ID\",\n",
    "    \"TRD_SETTLE_DATE\",\n",
    "    \"TRD_LOCATION\",\n",
    "    \"TRD_NUMBER\"\n",
    "    \n",
    "]"
   ]
  },
  {
   "cell_type": "markdown",
   "metadata": {},
   "source": [
    "Iterate over the \"External System\" transaction XML and scrape the results into a Pandas DataFrame. We scrape the results into a DataFrame for two reasons:<br>\n",
    "\n",
    "(1) We can use the DataFrame methods to transform the data into a format LUSID likes. <br>\n",
    "(2) We can then use the SDKs to pass the DataFrame directly to LUSID<br>\n",
    "<br>"
   ]
  },
  {
   "cell_type": "code",
   "execution_count": 12,
   "metadata": {},
   "outputs": [],
   "source": [
    "# Define an empty list which will be used to create a DataFrame from XML results \n",
    "rows= []\n",
    "\n",
    "# Iterate over XML to find nested \"TRADE\" sub XMLs\n",
    "# Parse out data from sub XMLs and store results in a dictionary\n",
    "# Construct a list of all these dicts, one for each \"TRADE\n",
    "\n",
    "for trade in root.iter('TRADE'):\n",
    "    \n",
    "    trade_list = []\n",
    "    for tag in list_tags:\n",
    "        \n",
    "        try:       \n",
    "            trade_list.append((trade.find(tag).text))\n",
    "        except AttributeError:\n",
    "            trade_list.append(None)\n",
    "\n",
    "    rows.append({\"TRD_TRANS_TYPE\": trade_list[0], \n",
    "                 \"TRD_QUANTITY\": trade_list[1], \n",
    "                 \"TRD_TRADE_DATE\": trade_list[2],\n",
    "                 \"PORT_NAME\": trade_list[3],\n",
    "                 \"INST_GROUP\": trade_list[4],\n",
    "                 \"TRD_CURRENCY\": trade_list[5],\n",
    "                 \"TRD_TOUCH_COUNT\": trade_list[6],\n",
    "                 \"INST_DESC\": trade_list[7],\n",
    "                 \"INST_TYPE\": trade_list[8],\n",
    "                 \"TRD_PRINCIPAL\": trade_list[9],\n",
    "                 \"TRD_TRADER\": trade_list[10],\n",
    "                 \"TRD_PRICE\": trade_list[11],\n",
    "                 \"TRD_COUNTERPARTY\": trade_list[12],\n",
    "                 \"INST_TICKER\": trade_list[13],\n",
    "                 \"CLIENT_ID\": trade_list[14],\n",
    "                 \"TRD_SETTLE_DATE\": trade_list[15],\n",
    "                 \"TRD_LOCATION\": trade_list[16],\n",
    "                 \"TRD_NUMBER\": trade_list[17]\n",
    "                \n",
    "                })\n",
    "    \n",
    "ext_system_df = pd.DataFrame(rows)\n",
    "\n",
    "ext_system_df = ext_system_df.head(10)"
   ]
  },
  {
   "cell_type": "markdown",
   "metadata": {},
   "source": [
    "Let's take a look at the DataFrame. The results look good. We see trade details - broker, security type, price etc. "
   ]
  },
  {
   "cell_type": "code",
   "execution_count": 13,
   "metadata": {},
   "outputs": [
    {
     "data": {
      "text/html": [
       "<div>\n",
       "<style scoped>\n",
       "    .dataframe tbody tr th:only-of-type {\n",
       "        vertical-align: middle;\n",
       "    }\n",
       "\n",
       "    .dataframe tbody tr th {\n",
       "        vertical-align: top;\n",
       "    }\n",
       "\n",
       "    .dataframe thead th {\n",
       "        text-align: right;\n",
       "    }\n",
       "</style>\n",
       "<table border=\"1\" class=\"dataframe\">\n",
       "  <thead>\n",
       "    <tr style=\"text-align: right;\">\n",
       "      <th></th>\n",
       "      <th>CLIENT_ID</th>\n",
       "      <th>INST_DESC</th>\n",
       "      <th>INST_GROUP</th>\n",
       "      <th>INST_TICKER</th>\n",
       "      <th>INST_TYPE</th>\n",
       "      <th>PORT_NAME</th>\n",
       "      <th>TRD_COUNTERPARTY</th>\n",
       "      <th>TRD_CURRENCY</th>\n",
       "      <th>TRD_LOCATION</th>\n",
       "      <th>TRD_NUMBER</th>\n",
       "      <th>TRD_PRICE</th>\n",
       "      <th>TRD_PRINCIPAL</th>\n",
       "      <th>TRD_QUANTITY</th>\n",
       "      <th>TRD_SETTLE_DATE</th>\n",
       "      <th>TRD_TOUCH_COUNT</th>\n",
       "      <th>TRD_TRADER</th>\n",
       "      <th>TRD_TRADE_DATE</th>\n",
       "      <th>TRD_TRANS_TYPE</th>\n",
       "    </tr>\n",
       "  </thead>\n",
       "  <tbody>\n",
       "    <tr>\n",
       "      <th>0</th>\n",
       "      <td>EXT1YU6H5</td>\n",
       "      <td>INTERNATIONAL BUSINESS MACHINES CORP</td>\n",
       "      <td>EQUITY</td>\n",
       "      <td>IBM</td>\n",
       "      <td>COMMON_STOCK</td>\n",
       "      <td>TEST_PORT1</td>\n",
       "      <td>GS</td>\n",
       "      <td>USD</td>\n",
       "      <td>LONDON</td>\n",
       "      <td>0011223</td>\n",
       "      <td>142.99</td>\n",
       "      <td>7864450.000</td>\n",
       "      <td>55000.0000000000</td>\n",
       "      <td>8/20/2018</td>\n",
       "      <td>2</td>\n",
       "      <td>TEST_TRADER</td>\n",
       "      <td>8/16/2018</td>\n",
       "      <td>BUY</td>\n",
       "    </tr>\n",
       "    <tr>\n",
       "      <th>1</th>\n",
       "      <td>EXT1YU6H6</td>\n",
       "      <td>BANK OF AMERICA CORP</td>\n",
       "      <td>EQUITY</td>\n",
       "      <td>BAC</td>\n",
       "      <td>COMMON_STOCK</td>\n",
       "      <td>TEST_PORT1</td>\n",
       "      <td>JPM</td>\n",
       "      <td>USD</td>\n",
       "      <td>LONDON</td>\n",
       "      <td>0011224</td>\n",
       "      <td>28.99</td>\n",
       "      <td>2899000.000</td>\n",
       "      <td>100000.0000000000</td>\n",
       "      <td>9/20/2018</td>\n",
       "      <td>1</td>\n",
       "      <td>TEST_TRADER</td>\n",
       "      <td>9/16/2018</td>\n",
       "      <td>BUY</td>\n",
       "    </tr>\n",
       "    <tr>\n",
       "      <th>2</th>\n",
       "      <td>EXT1YU6H7</td>\n",
       "      <td>WALMART INC</td>\n",
       "      <td>EQUITY</td>\n",
       "      <td>WMT</td>\n",
       "      <td>COMMON_STOCK</td>\n",
       "      <td>TEST_PORT2</td>\n",
       "      <td>JPM</td>\n",
       "      <td>USD</td>\n",
       "      <td>LONDON</td>\n",
       "      <td>0011224</td>\n",
       "      <td>116.99</td>\n",
       "      <td>11699000</td>\n",
       "      <td>100000.0000000000</td>\n",
       "      <td>10/20/2018</td>\n",
       "      <td>1</td>\n",
       "      <td>TEST_TRADER</td>\n",
       "      <td>10/16/2018</td>\n",
       "      <td>SELL</td>\n",
       "    </tr>\n",
       "    <tr>\n",
       "      <th>3</th>\n",
       "      <td>EXT1YU6H8</td>\n",
       "      <td>3M CO</td>\n",
       "      <td>EQUITY</td>\n",
       "      <td>MMM</td>\n",
       "      <td>COMMON_STOCK</td>\n",
       "      <td>TEST_PORT2</td>\n",
       "      <td>MSUSA</td>\n",
       "      <td>USD</td>\n",
       "      <td>LONDON</td>\n",
       "      <td>0011224</td>\n",
       "      <td>155.99</td>\n",
       "      <td>11599000</td>\n",
       "      <td>100000.0000000000</td>\n",
       "      <td>5/20/2018</td>\n",
       "      <td>6</td>\n",
       "      <td>TEST_TRADER</td>\n",
       "      <td>5/16/2018</td>\n",
       "      <td>BUY</td>\n",
       "    </tr>\n",
       "  </tbody>\n",
       "</table>\n",
       "</div>"
      ],
      "text/plain": [
       "   CLIENT_ID                             INST_DESC INST_GROUP INST_TICKER  \\\n",
       "0  EXT1YU6H5  INTERNATIONAL BUSINESS MACHINES CORP     EQUITY         IBM   \n",
       "1  EXT1YU6H6                  BANK OF AMERICA CORP     EQUITY         BAC   \n",
       "2  EXT1YU6H7                           WALMART INC     EQUITY         WMT   \n",
       "3  EXT1YU6H8                                 3M CO     EQUITY         MMM   \n",
       "\n",
       "      INST_TYPE   PORT_NAME TRD_COUNTERPARTY TRD_CURRENCY TRD_LOCATION  \\\n",
       "0  COMMON_STOCK  TEST_PORT1               GS          USD       LONDON   \n",
       "1  COMMON_STOCK  TEST_PORT1              JPM          USD       LONDON   \n",
       "2  COMMON_STOCK  TEST_PORT2              JPM          USD       LONDON   \n",
       "3  COMMON_STOCK  TEST_PORT2            MSUSA          USD       LONDON   \n",
       "\n",
       "  TRD_NUMBER TRD_PRICE TRD_PRINCIPAL       TRD_QUANTITY TRD_SETTLE_DATE  \\\n",
       "0    0011223    142.99   7864450.000   55000.0000000000       8/20/2018   \n",
       "1    0011224     28.99   2899000.000  100000.0000000000       9/20/2018   \n",
       "2    0011224    116.99      11699000  100000.0000000000      10/20/2018   \n",
       "3    0011224    155.99      11599000  100000.0000000000       5/20/2018   \n",
       "\n",
       "  TRD_TOUCH_COUNT   TRD_TRADER TRD_TRADE_DATE TRD_TRANS_TYPE  \n",
       "0               2  TEST_TRADER      8/16/2018            BUY  \n",
       "1               1  TEST_TRADER      9/16/2018            BUY  \n",
       "2               1  TEST_TRADER     10/16/2018           SELL  \n",
       "3               6  TEST_TRADER      5/16/2018            BUY  "
      ]
     },
     "execution_count": 13,
     "metadata": {},
     "output_type": "execute_result"
    }
   ],
   "source": [
    "ext_system_df"
   ]
  },
  {
   "cell_type": "markdown",
   "metadata": {},
   "source": [
    "## Step 3: Translate the data into a LUSID-friendly format\n",
    "\n",
    "The script above loads \"Trade Date\" and \"Settle Date\" as strings. LUSID needs these as datetimes."
   ]
  },
  {
   "cell_type": "code",
   "execution_count": 14,
   "metadata": {},
   "outputs": [],
   "source": [
    "ext_system_df['TRD_TRADE_DATE'] = pd.to_datetime(\n",
    "    ext_system_df['TRD_TRADE_DATE'], format=\"%m/%d/%Y\").apply(lambda x: pytz.utc.localize(x))\n",
    "\n",
    "ext_system_df['TRD_SETTLE_DATE'] = pd.to_datetime(\n",
    "    ext_system_df['TRD_SETTLE_DATE'], format=\"%m/%d/%Y\").apply(lambda x: pytz.utc.localize(x))"
   ]
  },
  {
   "cell_type": "code",
   "execution_count": 15,
   "metadata": {},
   "outputs": [
    {
     "data": {
      "text/html": [
       "<div>\n",
       "<style scoped>\n",
       "    .dataframe tbody tr th:only-of-type {\n",
       "        vertical-align: middle;\n",
       "    }\n",
       "\n",
       "    .dataframe tbody tr th {\n",
       "        vertical-align: top;\n",
       "    }\n",
       "\n",
       "    .dataframe thead th {\n",
       "        text-align: right;\n",
       "    }\n",
       "</style>\n",
       "<table border=\"1\" class=\"dataframe\">\n",
       "  <thead>\n",
       "    <tr style=\"text-align: right;\">\n",
       "      <th></th>\n",
       "      <th>CLIENT_ID</th>\n",
       "      <th>INST_DESC</th>\n",
       "      <th>INST_GROUP</th>\n",
       "      <th>INST_TICKER</th>\n",
       "      <th>INST_TYPE</th>\n",
       "      <th>PORT_NAME</th>\n",
       "      <th>TRD_COUNTERPARTY</th>\n",
       "      <th>TRD_CURRENCY</th>\n",
       "      <th>TRD_LOCATION</th>\n",
       "      <th>TRD_NUMBER</th>\n",
       "      <th>TRD_PRICE</th>\n",
       "      <th>TRD_PRINCIPAL</th>\n",
       "      <th>TRD_QUANTITY</th>\n",
       "      <th>TRD_SETTLE_DATE</th>\n",
       "      <th>TRD_TOUCH_COUNT</th>\n",
       "      <th>TRD_TRADER</th>\n",
       "      <th>TRD_TRADE_DATE</th>\n",
       "      <th>TRD_TRANS_TYPE</th>\n",
       "    </tr>\n",
       "  </thead>\n",
       "  <tbody>\n",
       "    <tr>\n",
       "      <th>0</th>\n",
       "      <td>EXT1YU6H5</td>\n",
       "      <td>INTERNATIONAL BUSINESS MACHINES CORP</td>\n",
       "      <td>EQUITY</td>\n",
       "      <td>IBM</td>\n",
       "      <td>COMMON_STOCK</td>\n",
       "      <td>TEST_PORT1</td>\n",
       "      <td>GS</td>\n",
       "      <td>USD</td>\n",
       "      <td>LONDON</td>\n",
       "      <td>0011223</td>\n",
       "      <td>142.99</td>\n",
       "      <td>7864450.000</td>\n",
       "      <td>55000.0000000000</td>\n",
       "      <td>2018-08-20 00:00:00+00:00</td>\n",
       "      <td>2</td>\n",
       "      <td>TEST_TRADER</td>\n",
       "      <td>2018-08-16 00:00:00+00:00</td>\n",
       "      <td>BUY</td>\n",
       "    </tr>\n",
       "    <tr>\n",
       "      <th>1</th>\n",
       "      <td>EXT1YU6H6</td>\n",
       "      <td>BANK OF AMERICA CORP</td>\n",
       "      <td>EQUITY</td>\n",
       "      <td>BAC</td>\n",
       "      <td>COMMON_STOCK</td>\n",
       "      <td>TEST_PORT1</td>\n",
       "      <td>JPM</td>\n",
       "      <td>USD</td>\n",
       "      <td>LONDON</td>\n",
       "      <td>0011224</td>\n",
       "      <td>28.99</td>\n",
       "      <td>2899000.000</td>\n",
       "      <td>100000.0000000000</td>\n",
       "      <td>2018-09-20 00:00:00+00:00</td>\n",
       "      <td>1</td>\n",
       "      <td>TEST_TRADER</td>\n",
       "      <td>2018-09-16 00:00:00+00:00</td>\n",
       "      <td>BUY</td>\n",
       "    </tr>\n",
       "    <tr>\n",
       "      <th>2</th>\n",
       "      <td>EXT1YU6H7</td>\n",
       "      <td>WALMART INC</td>\n",
       "      <td>EQUITY</td>\n",
       "      <td>WMT</td>\n",
       "      <td>COMMON_STOCK</td>\n",
       "      <td>TEST_PORT2</td>\n",
       "      <td>JPM</td>\n",
       "      <td>USD</td>\n",
       "      <td>LONDON</td>\n",
       "      <td>0011224</td>\n",
       "      <td>116.99</td>\n",
       "      <td>11699000</td>\n",
       "      <td>100000.0000000000</td>\n",
       "      <td>2018-10-20 00:00:00+00:00</td>\n",
       "      <td>1</td>\n",
       "      <td>TEST_TRADER</td>\n",
       "      <td>2018-10-16 00:00:00+00:00</td>\n",
       "      <td>SELL</td>\n",
       "    </tr>\n",
       "    <tr>\n",
       "      <th>3</th>\n",
       "      <td>EXT1YU6H8</td>\n",
       "      <td>3M CO</td>\n",
       "      <td>EQUITY</td>\n",
       "      <td>MMM</td>\n",
       "      <td>COMMON_STOCK</td>\n",
       "      <td>TEST_PORT2</td>\n",
       "      <td>MSUSA</td>\n",
       "      <td>USD</td>\n",
       "      <td>LONDON</td>\n",
       "      <td>0011224</td>\n",
       "      <td>155.99</td>\n",
       "      <td>11599000</td>\n",
       "      <td>100000.0000000000</td>\n",
       "      <td>2018-05-20 00:00:00+00:00</td>\n",
       "      <td>6</td>\n",
       "      <td>TEST_TRADER</td>\n",
       "      <td>2018-05-16 00:00:00+00:00</td>\n",
       "      <td>BUY</td>\n",
       "    </tr>\n",
       "  </tbody>\n",
       "</table>\n",
       "</div>"
      ],
      "text/plain": [
       "   CLIENT_ID                             INST_DESC INST_GROUP INST_TICKER  \\\n",
       "0  EXT1YU6H5  INTERNATIONAL BUSINESS MACHINES CORP     EQUITY         IBM   \n",
       "1  EXT1YU6H6                  BANK OF AMERICA CORP     EQUITY         BAC   \n",
       "2  EXT1YU6H7                           WALMART INC     EQUITY         WMT   \n",
       "3  EXT1YU6H8                                 3M CO     EQUITY         MMM   \n",
       "\n",
       "      INST_TYPE   PORT_NAME TRD_COUNTERPARTY TRD_CURRENCY TRD_LOCATION  \\\n",
       "0  COMMON_STOCK  TEST_PORT1               GS          USD       LONDON   \n",
       "1  COMMON_STOCK  TEST_PORT1              JPM          USD       LONDON   \n",
       "2  COMMON_STOCK  TEST_PORT2              JPM          USD       LONDON   \n",
       "3  COMMON_STOCK  TEST_PORT2            MSUSA          USD       LONDON   \n",
       "\n",
       "  TRD_NUMBER TRD_PRICE TRD_PRINCIPAL       TRD_QUANTITY  \\\n",
       "0    0011223    142.99   7864450.000   55000.0000000000   \n",
       "1    0011224     28.99   2899000.000  100000.0000000000   \n",
       "2    0011224    116.99      11699000  100000.0000000000   \n",
       "3    0011224    155.99      11599000  100000.0000000000   \n",
       "\n",
       "            TRD_SETTLE_DATE TRD_TOUCH_COUNT   TRD_TRADER  \\\n",
       "0 2018-08-20 00:00:00+00:00               2  TEST_TRADER   \n",
       "1 2018-09-20 00:00:00+00:00               1  TEST_TRADER   \n",
       "2 2018-10-20 00:00:00+00:00               1  TEST_TRADER   \n",
       "3 2018-05-20 00:00:00+00:00               6  TEST_TRADER   \n",
       "\n",
       "             TRD_TRADE_DATE TRD_TRANS_TYPE  \n",
       "0 2018-08-16 00:00:00+00:00            BUY  \n",
       "1 2018-09-16 00:00:00+00:00            BUY  \n",
       "2 2018-10-16 00:00:00+00:00           SELL  \n",
       "3 2018-05-16 00:00:00+00:00            BUY  "
      ]
     },
     "execution_count": 15,
     "metadata": {},
     "output_type": "execute_result"
    }
   ],
   "source": [
    "ext_system_df"
   ]
  },
  {
   "cell_type": "markdown",
   "metadata": {},
   "source": [
    "## Step 4: Create placeholder LUIDs from \"External System\" client IDs\n",
    "\n",
    "LUSID needs unique identifiers to upload transactions. These identifiers are called LUIDs. An instrument's LUID is generated when it is created in your instrument master inside LUSID.<br>\n",
    "\n",
    "For the purposes of this example, we will use the client ID to create a placeholder LUID. This LUID can be enriched at a late date when we recieve the \"External System\" instrument file, which will contain details of public IDs and other static data. <br>\n",
    "\n",
    "\n",
    "\n"
   ]
  },
  {
   "cell_type": "code",
   "execution_count": 24,
   "metadata": {},
   "outputs": [
    {
     "data": {
      "text/html": [
       "<div>\n",
       "<style scoped>\n",
       "    .dataframe tbody tr th:only-of-type {\n",
       "        vertical-align: middle;\n",
       "    }\n",
       "\n",
       "    .dataframe tbody tr th {\n",
       "        vertical-align: top;\n",
       "    }\n",
       "\n",
       "    .dataframe thead th {\n",
       "        text-align: right;\n",
       "    }\n",
       "</style>\n",
       "<table border=\"1\" class=\"dataframe\">\n",
       "  <thead>\n",
       "    <tr style=\"text-align: right;\">\n",
       "      <th></th>\n",
       "      <th>CLIENT_ID</th>\n",
       "      <th>Security Description</th>\n",
       "    </tr>\n",
       "  </thead>\n",
       "  <tbody>\n",
       "    <tr>\n",
       "      <th>0</th>\n",
       "      <td>EXT1YU6H5</td>\n",
       "      <td>Placeholder LUID - Enrichment Required</td>\n",
       "    </tr>\n",
       "    <tr>\n",
       "      <th>1</th>\n",
       "      <td>EXT1YU6H6</td>\n",
       "      <td>Placeholder LUID - Enrichment Required</td>\n",
       "    </tr>\n",
       "    <tr>\n",
       "      <th>2</th>\n",
       "      <td>EXT1YU6H7</td>\n",
       "      <td>Placeholder LUID - Enrichment Required</td>\n",
       "    </tr>\n",
       "    <tr>\n",
       "      <th>3</th>\n",
       "      <td>EXT1YU6H8</td>\n",
       "      <td>Placeholder LUID - Enrichment Required</td>\n",
       "    </tr>\n",
       "  </tbody>\n",
       "</table>\n",
       "</div>"
      ],
      "text/plain": [
       "   CLIENT_ID                    Security Description\n",
       "0  EXT1YU6H5  Placeholder LUID - Enrichment Required\n",
       "1  EXT1YU6H6  Placeholder LUID - Enrichment Required\n",
       "2  EXT1YU6H7  Placeholder LUID - Enrichment Required\n",
       "3  EXT1YU6H8  Placeholder LUID - Enrichment Required"
      ]
     },
     "execution_count": 24,
     "metadata": {},
     "output_type": "execute_result"
    }
   ],
   "source": [
    "# Create a DataFrame containing the \"External System\" ID\n",
    "\n",
    "instruments = ext_system_df[[\"CLIENT_ID\"]]\n",
    "instruments.loc[:,\"Security Description\"] = \"Placeholder LUID - Enrichment Required\"\n",
    "instruments"
   ]
  },
  {
   "cell_type": "code",
   "execution_count": 17,
   "metadata": {},
   "outputs": [],
   "source": [
    "instrument_mapping_required = {\n",
    "  'name': 'Security Description'\n",
    "}\n",
    "\n",
    "instrument_identifier_mapping = {\n",
    "  'identifier_mapping': {\n",
    "    'ClientInternal': 'CLIENT_ID',\n",
    "  }\n",
    "}\n",
    "\n",
    "instrument_mapping_optional = None"
   ]
  },
  {
   "cell_type": "code",
   "execution_count": 18,
   "metadata": {},
   "outputs": [
    {
     "name": "stdout",
     "output_type": "stream",
     "text": [
      "\u001b[91m\u001b[1mInstruments Successfully Upserted: \u001b[0m\n"
     ]
    },
    {
     "data": {
      "text/html": [
       "<div>\n",
       "<style scoped>\n",
       "    .dataframe tbody tr th:only-of-type {\n",
       "        vertical-align: middle;\n",
       "    }\n",
       "\n",
       "    .dataframe tbody tr th {\n",
       "        vertical-align: top;\n",
       "    }\n",
       "\n",
       "    .dataframe thead th {\n",
       "        text-align: right;\n",
       "    }\n",
       "</style>\n",
       "<table border=\"1\" class=\"dataframe\">\n",
       "  <thead>\n",
       "    <tr style=\"text-align: right;\">\n",
       "      <th></th>\n",
       "      <th>Instrument</th>\n",
       "      <th>ClientInternal ID</th>\n",
       "      <th>LUSID Instrument ID</th>\n",
       "    </tr>\n",
       "  </thead>\n",
       "  <tbody>\n",
       "    <tr>\n",
       "      <th>0</th>\n",
       "      <td>Placeholder LUID - Enrichment Required</td>\n",
       "      <td>EXT1YU6H8</td>\n",
       "      <td>LUID_0OM932XX</td>\n",
       "    </tr>\n",
       "  </tbody>\n",
       "</table>\n",
       "</div>"
      ],
      "text/plain": [
       "                               Instrument ClientInternal ID  \\\n",
       "0  Placeholder LUID - Enrichment Required         EXT1YU6H8   \n",
       "\n",
       "  LUSID Instrument ID  \n",
       "0       LUID_0OM932XX  "
      ]
     },
     "execution_count": 18,
     "metadata": {},
     "output_type": "execute_result"
    }
   ],
   "source": [
    "response = cocoon_tools.load_instruments(\n",
    "    client=lusid_client, \n",
    "    data_frame=instruments, \n",
    "    instrument_identifier_mapping=instrument_identifier_mapping, \n",
    "    instrument_mapping_required=instrument_mapping_required,\n",
    "    instrument_mapping_optional=instrument_mapping_optional,\n",
    "    property_columns=[], \n",
    "    scope='InstrumentProperties001')\n",
    "\n",
    "prettyprint.instrument_response(response)"
   ]
  },
  {
   "cell_type": "markdown",
   "metadata": {},
   "source": [
    "## Step 5: Load transactions into LUSID\n",
    "\n",
    "Finally, we want to load the transactions into LUSID. This requires two steps.<br>\n",
    "\n",
    "First, we need to resolve the client IDs to LUIDs."
   ]
  },
  {
   "cell_type": "code",
   "execution_count": 19,
   "metadata": {},
   "outputs": [],
   "source": [
    "transaction_identifier_mapping = {\n",
    "  'identifier_mapping': {\n",
    "      'ClientInternal': \"CLIENT_ID\",\n",
    "      \n",
    "  },\n",
    "  'is_cash_with_currency': 'is_cash_with_currency'\n",
    "}"
   ]
  },
  {
   "cell_type": "code",
   "execution_count": 20,
   "metadata": {},
   "outputs": [],
   "source": [
    "ext_system_df[\"FUND\"] = portfolio\n",
    "ext_system_df[\"is_cash_with_currency\"] = np.nan\n",
    "ext_system_df[\"exchange_rate\"] = 1"
   ]
  },
  {
   "cell_type": "code",
   "execution_count": 21,
   "metadata": {},
   "outputs": [
    {
     "name": "stdout",
     "output_type": "stream",
     "text": [
      "Up to row 0\n"
     ]
    }
   ],
   "source": [
    "transactions_data = cocoon_tools.resolve_instruments(\n",
    "    client=lusid_client,\n",
    "    data_frame=ext_system_df,\n",
    "    identifier_mapping=transaction_identifier_mapping)\n",
    "\n",
    "current_time = datetime.now(pytz.UTC)\n",
    "\n",
    "transactions_data.loc[\n",
    "    transactions_data['resolvable'] == False].to_csv(\n",
    "        './data/UnResolved{}-{}-{}-{}-{}-{}.csv'.format(\n",
    "            'Transactions',\n",
    "            current_time.year,\n",
    "            current_time.month,\n",
    "            current_time.day,\n",
    "            current_time.hour,\n",
    "            current_time.minute))\n",
    "\n",
    "transactions_data = transactions_data.loc[transactions_data['resolvable'] == True]"
   ]
  },
  {
   "cell_type": "markdown",
   "metadata": {},
   "source": [
    "Now, once we have a Transaction file with LUIDs, we pass this to the Transactions API endpoint."
   ]
  },
  {
   "cell_type": "code",
   "execution_count": 22,
   "metadata": {},
   "outputs": [],
   "source": [
    "transaction_field_mapping_required = {\n",
    "    \"portfolio_code\": \"FUND\",\n",
    "    \"transaction_id\": \"TRD_NUMBER\",\n",
    "    \"transaction_type\": 'TRD_TRANS_TYPE',\n",
    "    \"transaction_date\": 'TRD_TRADE_DATE',\n",
    "    \"settlement_date\": 'TRD_SETTLE_DATE',\n",
    "    \"units\": \"TRD_QUANTITY\",\n",
    "    \"transaction_price.price\": \"TRD_PRICE\",\n",
    "    \"total_consideration.amount\": \"TRD_PRINCIPAL\",\n",
    "    \"total_consideration.currency\": \"TRD_CURRENCY\",\n",
    "    \"transaction_currency\": \"TRD_CURRENCY\"\n",
    "    }\n",
    "\n",
    "transaction_field_mapping_optional = {\n",
    "    \"exchange_rate\": \"exchange_rate\"\n",
    "}"
   ]
  },
  {
   "cell_type": "code",
   "execution_count": 23,
   "metadata": {},
   "outputs": [
    {
     "name": "stdout",
     "output_type": "stream",
     "text": [
      "data types don't match for column is_cash_with_currency it is string in LUSID and float64 in file\n",
      "Updated is_cash_with_currency to object\n",
      "Check for missing transaction properties complete\n",
      "\n",
      "\n",
      "\u001b[1mTransactions Successfully Upserted into Portfolio\u001b[0m\n",
      "\u001b[1mScope: \u001b[0mEXT_SYSTEM\n",
      "\u001b[1mCode: \u001b[0mportfolio\n",
      "\u001b[1mTransactions Effective From: \u001b[0m2018-05-16 00:00:00+00:00\n",
      "\u001b[1mTransactions Created On: \u001b[0m2019-10-09 12:25:00.389064+00:00\n",
      "\n"
     ]
    }
   ],
   "source": [
    "transactions_data = transactions_data\n",
    "\n",
    "responses = cocoon_tools.load_file_multiple_portfolios(\n",
    "    client=lusid_client, \n",
    "    scope=scope, \n",
    "    data_frame=transactions_data,\n",
    "    mapping_required=transaction_field_mapping_required, \n",
    "    mapping_optional=transaction_field_mapping_optional,\n",
    "    source=scope,\n",
    "    file_type=\"transaction\")\n",
    "\n",
    "for portfolio_code, response in responses.items():\n",
    "    print ('\\n')\n",
    "    prettyprint.transactions_response(response, scope, portfolio_code)"
   ]
  },
  {
   "cell_type": "markdown",
   "metadata": {},
   "source": [
    "The transactions are now visible in the front-end LUSID tool."
   ]
  },
  {
   "cell_type": "markdown",
   "metadata": {},
   "source": [
    "![Init](img/read_transactions.PNG)"
   ]
  },
  {
   "cell_type": "code",
   "execution_count": null,
   "metadata": {},
   "outputs": [],
   "source": []
  }
 ],
 "metadata": {
  "kernelspec": {
   "display_name": "Python 3",
   "language": "python",
   "name": "python3"
  },
  "language_info": {
   "codemirror_mode": {
    "name": "ipython",
    "version": 3
   },
   "file_extension": ".py",
   "mimetype": "text/x-python",
   "name": "python",
   "nbconvert_exporter": "python",
   "pygments_lexer": "ipython3",
   "version": "3.7.3"
  }
 },
 "nbformat": 4,
 "nbformat_minor": 2
}
