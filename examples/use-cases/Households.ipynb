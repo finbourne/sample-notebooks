{
 "cells": [
  {
   "cell_type": "markdown",
   "metadata": {},
   "source": [
    "## The Challenge"
   ]
  },
  {
   "cell_type": "markdown",
   "metadata": {},
   "source": [
    "As a wealth manager you have a number of investors who are associated with multiple investment Mandates. Each Mandate may have one or more Accounts. These investors can be part of one or more Households, and a Household can contain one or more Investors. You would like to be able to see the holdings for an investor based on each Mandate & Household they are associated with. \n",
    "\n",
    "You also have a number of Branches and would like to see the assets managed by each Branch. Furthermore each branch has a number of Financial Advisors and you would like to be able to see the assets managed by each Financial Advisor."
   ]
  },
  {
   "cell_type": "markdown",
   "metadata": {},
   "source": [
    "## The Solution"
   ]
  },
  {
   "cell_type": "markdown",
   "metadata": {},
   "source": [
    "1) Create your Instrument universe using a range of identifiers\n",
    "\n",
    "2) Set up a scope for each branch to hold the accounts\n",
    "\n",
    "3) Create a LUSID Portfolio for each account\n",
    "\n",
    "4) Create a Property to hold the investor, mandate, and household details\n",
    "\n",
    "5) Set the initial holdings of the portfolio\n",
    "\n",
    "6) Load market data (prices)\n",
    "\n",
    "7) Create a Portfolio Group for each household\n",
    "\n",
    "8) Conduct a valuation against each household\n",
    "\n",
    "9) Consider other ways of grouping & valuing client accounts"
   ]
  },
  {
   "cell_type": "code",
   "execution_count": null,
   "metadata": {},
   "outputs": [],
   "source": [
    "# Import LUSID\n",
    "import lusid.models as models\n",
    "import lusid\n",
    "import lusid_sample_data as import_data\n",
    "\n",
    "# Import Libraries\n",
    "import pprint\n",
    "from datetime import datetime, timedelta, time\n",
    "import pytz\n",
    "import printer as prettyprint\n",
    "import pandas as pd\n",
    "import numpy as np\n",
    "import json\n",
    "import uuid\n",
    "\n",
    "# Authenticate our user and create our API client\n",
    "client = import_data.authenticate_secrets()\n",
    "\n",
    "print ('LUSID Environment Initialised')\n",
    "print ('LUSID SDK Version: ', client.metadata.get_lusid_versions().build_version)"
   ]
  },
  {
   "cell_type": "markdown",
   "metadata": {},
   "source": [
    "![Scopes](img/paper-lusid.gif)"
   ]
  },
  {
   "cell_type": "markdown",
   "metadata": {},
   "source": [
    "### Create your instrument universe using a range of identifiers"
   ]
  },
  {
   "cell_type": "markdown",
   "metadata": {},
   "source": [
    "Before you can take on any holdings for your client accounts you need to ensure that your instrument universe has been populated. In this case you will import your instrument universe from a CSV file. Read more about instruments in LUSID in the [LUSID Knowledge Base: Instruments](https://support.lusid.com/what-is-an-instrument).\n",
    "\n",
    "*Run the cell below to import your instrument universe*"
   ]
  },
  {
   "cell_type": "code",
   "execution_count": null,
   "metadata": {},
   "outputs": [],
   "source": [
    "equity_instruments = pd.read_csv('data/households-instruments-equities.csv')\n",
    "equity_instruments.head(n=20)"
   ]
  },
  {
   "cell_type": "markdown",
   "metadata": {},
   "source": [
    "Now that you have the details for your instruments you can go ahead and create an instrument definition for each instrument. These can then be upserted into LUSID. Read about instrument definitions here [LUSID Knowledge Base: What is an Instrument?](https://support.lusid.com/what-is-an-instrument).\n",
    "\n",
    "You use an upsert method to add instrument definitions to the instrument universe in LUSID. Read more about the behaviour of the upsert method here [LUSID Knowledge Base: Upsert](https://support.lusid.com/upsert-command).\n",
    "\n",
    "For further usage of the upsert instruments API call refer to the [LUSID API Docs: Upserting Instruments](https://docs.lusid.com/#operation/UpsertInstruments).\n",
    "\n",
    "*Run the cell below to upsert your instruments into LUSID*"
   ]
  },
  {
   "cell_type": "code",
   "execution_count": null,
   "metadata": {},
   "outputs": [],
   "source": [
    "# Initialise your batch upsert request\n",
    "batch_upsert_request = {}\n",
    "\n",
    "# Using your instrument universe create your batch request\n",
    "for index, instrument in equity_instruments.iterrows():\n",
    "\n",
    "    # Specify the columns of your identifiers\n",
    "    identifier_columns = ['Figi', 'Ticker', 'ClientInternal']\n",
    "    \n",
    "    # Create your identifiers\n",
    "    identifiers = {}\n",
    "    for identifier in identifier_columns:\n",
    "        identifiers[identifier] = models.InstrumentIdValue(\n",
    "            value=instrument[identifier])\n",
    "    \n",
    "    # Build your request and add it to the dictionary\n",
    "    batch_upsert_request[instrument['InstrumentName']] = models.InstrumentDefinition(\n",
    "        name=instrument['InstrumentName'],\n",
    "        identifiers=identifiers)\n",
    "    \n",
    "# Call LUSID to upsert your instrument defintions\n",
    "instrument_response = client.instruments.upsert_instruments(\n",
    "    requests=batch_upsert_request)\n",
    "\n",
    "# Pretty print the response\n",
    "prettyprint.instrument_response(instrument_response)"
   ]
  },
  {
   "cell_type": "markdown",
   "metadata": {},
   "source": [
    "![Scopes](img/households-instrumentmaster.gif)"
   ]
  },
  {
   "cell_type": "markdown",
   "metadata": {},
   "source": [
    "### Set up a scope to hold the accounts"
   ]
  },
  {
   "cell_type": "markdown",
   "metadata": {},
   "source": [
    "Your wealth managment company has a number of different branches. Each of these branches will be allocated a Scope in LUSID for its accounts. Read more about scopes in the [LUSID Knowledge Base: Scopes](https://support.lusid.com/what-is-a-scope-in-lusid-and-how-is-it-used).\n",
    "\n",
    "*Run the cell below to create a name for the scope of two of your branches*"
   ]
  },
  {
   "cell_type": "code",
   "execution_count": null,
   "metadata": {},
   "outputs": [],
   "source": [
    "scope_id = import_data.create_scope_id()\n",
    "branch_broomfield_scope = 'branch_{}'.format(scope_id)\n",
    "scope_id = import_data.create_scope_id()\n",
    "branch_miami_scope = 'branch_{}'.format(scope_id)\n",
    "prettyprint.heading('Broomfield Branch Scope', branch_broomfield_scope)\n",
    "prettyprint.heading('Miami Branch Scope', branch_miami_scope)"
   ]
  },
  {
   "cell_type": "markdown",
   "metadata": {},
   "source": [
    "![Scopes](img/households-branch.gif)"
   ]
  },
  {
   "cell_type": "markdown",
   "metadata": {},
   "source": [
    "### Create a portfolio for each account that exists with the branch"
   ]
  },
  {
   "cell_type": "markdown",
   "metadata": {},
   "source": [
    "Now that you have decided on the name for your scope, you can create the portfolios to represent the client accounts inside this scope. You will import the account details from a CSV file.\n",
    "\n",
    "*Run the cell below to import your client's account details*"
   ]
  },
  {
   "cell_type": "code",
   "execution_count": null,
   "metadata": {},
   "outputs": [],
   "source": [
    "accounts = pd.read_csv('data/households-accounts.csv')\n",
    "accounts.head(n=10)"
   ]
  },
  {
   "cell_type": "markdown",
   "metadata": {},
   "source": [
    "With the account details loaded you can now create your client portfolios.\n",
    "\n",
    "Note that every portfolio can be referenced by a unique code. Read more about portfolios in the [LUSID Knowledge Base: Portfolios](https://support.lusid.com/what-is-2).\n",
    "\n",
    "For further usage of the create portfolio API call refer to the [LUSID API Docs: Create Portfolio](https://docs.lusid.com/#operation/CreatePortfolio).\n",
    "\n",
    "Note that when you create the portolios in the cell below you are creating it with a 'created' date of 1052 days ago. This number is rather arbitary, in practice it should be the date the portfolio came into existence regardless of the system you first created it in, read more about the importance of the created date on a portfolio in the [LUSID Knowledge Base: Importance of Portfolio Creation Date](https://support.lusid.com/importance-of-portfolio-creation-date).\n",
    "\n",
    "*Run the cell below to create your portfolios*"
   ]
  },
  {
   "cell_type": "code",
   "execution_count": null,
   "metadata": {},
   "outputs": [],
   "source": [
    "# A mapping between branch codes and scopes in LUSID\n",
    "branch_mapping = {\n",
    "    \"broomf_CO_USA\": branch_broomfield_scope,\n",
    "    \"miami_FL_USA\": branch_miami_scope\n",
    "}\n",
    "\n",
    "# Iterate over the client accounts\n",
    "for index, account in accounts.iterrows():\n",
    "\n",
    "    # Set the creation date of your client portfolio \n",
    "    portfolio_creation_date = datetime.now(pytz.UTC) - timedelta(days=1052)\n",
    "    \n",
    "    # Build your request to create your client portfolio\n",
    "    request = models.CreateTransactionPortfolioRequest(\n",
    "        display_name=account['account_name'],\n",
    "        code=account['account_code'],\n",
    "        base_currency=account['currency'],\n",
    "        description=account['description'],\n",
    "        created=portfolio_creation_date,\n",
    "        corporate_action_source_id=None,\n",
    "        accounting_method='AverageCost',\n",
    "        sub_holding_keys=None,\n",
    "        properties=None)\n",
    "\n",
    "    # Call LUSID to create your client portfolio\n",
    "    response = client.transaction_portfolios.create_portfolio(\n",
    "        scope=branch_mapping[account['branch_id']],\n",
    "        create_request=request)\n",
    "\n",
    "    # Pretty print the response\n",
    "    prettyprint.portfolio_response(response)"
   ]
  },
  {
   "cell_type": "markdown",
   "metadata": {},
   "source": [
    "![Scopes](img/households-portfolio.gif)"
   ]
  },
  {
   "cell_type": "markdown",
   "metadata": {},
   "source": [
    "### Create a property to hold the investor and the household"
   ]
  },
  {
   "cell_type": "markdown",
   "metadata": {},
   "source": [
    "To keep track of the investor associated with each portfolio as well as the household you can make use of LUSID's extensible properties. These allow you to define a bespoke schema for your portfolio objects. Read more about properties in the [LUSID Knowledge Base: Properties](https://support.lusid.com/what-is-a-property). \n",
    "\n",
    "For further usage of the create property definition API call refer to the [LUSID API Docs: Create Property Definition](https://docs.lusid.com/#operation/CreatePropertyDefinition).\n",
    "\n",
    "*Run the cell below to create a property to hold household_id, the account owner ids & the financial advisor id*"
   ]
  },
  {
   "cell_type": "code",
   "execution_count": null,
   "metadata": {},
   "outputs": [],
   "source": [
    "# The property codes to create\n",
    "property_codes = [\n",
    "    'household_id', \n",
    "    'primary_acount_owner_id', \n",
    "    'other_account_owner_id',\n",
    "    'financial_advisor_id',\n",
    "    'mandate_id',\n",
    "    'mandate_description']\n",
    "\n",
    "# Iterate over the property codes\n",
    "for property_code in property_codes:\n",
    "\n",
    "    # Create your request to define a new property\n",
    "    request = models.CreatePropertyDefinitionRequest(\n",
    "        domain='Portfolio',\n",
    "        scope=scope,\n",
    "        code=property_code,\n",
    "        value_required=False,\n",
    "        display_name=property_code,\n",
    "        data_type_id=models.ResourceId(scope='default', code='string'))\n",
    "\n",
    "    # Call LUSID to create your new property\n",
    "    response = client.property_definitions.create_property_definition(\n",
    "        definition=request)\n",
    "\n",
    "    # Grab the key off the response to use when referencing this property in other LUSID calls\n",
    "    portfolio_property_key = response.key\n",
    "\n",
    "    # Pretty print your key\n",
    "    prettyprint.heading('Portfolio Property Key', portfolio_property_key)"
   ]
  },
  {
   "cell_type": "markdown",
   "metadata": {},
   "source": [
    "With these properties created you can now populate them for each portfolio.\n",
    "\n",
    "*Run the cell below to populate the values for these properties for each portfolio*"
   ]
  },
  {
   "cell_type": "code",
   "execution_count": null,
   "metadata": {},
   "outputs": [],
   "source": [
    "# Iterate over each account\n",
    "for index, account in accounts.iterrows():\n",
    "    \n",
    "    # Add the relevant account properties to the portfolio\n",
    "    response = client.portfolios.upsert_portfolio_properties(\n",
    "        scope=scope,\n",
    "        code=account['account_code'],\n",
    "        portfolio_properties={\n",
    "            'Portfolio/{}/{}'.format(scope, account_property): models.PropertyValue(\n",
    "                label_value=account[account_property]\n",
    "            ) for account_property in property_codes\n",
    "        }\n",
    "    )\n",
    "\n",
    "    # Pretty print the response \n",
    "    prettyprint.portfolio_properties_response(response)\n",
    "    print ('\\n')"
   ]
  },
  {
   "cell_type": "markdown",
   "metadata": {},
   "source": [
    "![Scopes](img/households-properties.gif)"
   ]
  },
  {
   "cell_type": "markdown",
   "metadata": {},
   "source": [
    "### Set the initial holdings of the portfolio"
   ]
  },
  {
   "cell_type": "markdown",
   "metadata": {},
   "source": [
    "Now that you have your instrument universe populated and portfolios created you can load your current client holdings into their portfolios. In this case you will import their holdings from a CSV file. \n",
    "\n",
    "*Run the cell below to import your current client holdings*"
   ]
  },
  {
   "cell_type": "code",
   "execution_count": null,
   "metadata": {},
   "outputs": [],
   "source": [
    "holdings = pd.read_csv('data/households-holdings.csv')\n",
    "holdings.head(n=20)"
   ]
  },
  {
   "cell_type": "markdown",
   "metadata": {},
   "source": [
    "Now that you have imported your client holdings you can add them to LUSID. You can do this by setting the holdings on a portfolio. Read more about how making an adjustment or setting the holdings on a portfolio affects it here [LUSID Knowledge Base: The effect of holding adjustments](https://support.lusid.com/how-do-holding-adjustments-affect-a-portfolio).\n",
    "\n",
    "For further usage of the set holdings API call refer to the [LUSID API Docs: Set Holdings](https://docs.lusid.com/#operation/SetHoldings).\n",
    "\n",
    "*Run the cell below to upsert your holdings into LUSID*"
   ]
  },
  {
   "cell_type": "code",
   "execution_count": null,
   "metadata": {},
   "outputs": [],
   "source": [
    "# Make the holdings effective from now\n",
    "holdings_effective_date = datetime.now(pytz.UTC)\n",
    "\n",
    "# Iterate the portfolios in the holdings CSV, note in this case you only have one\n",
    "for portfolio in holdings['portfolio_code'].unique():\n",
    "    \n",
    "    # Initialise a list to hold your adjustments\n",
    "    holding_adjustments = []\n",
    "    \n",
    "    # Iterate over the holdings in each portfolio\n",
    "    for index, holding in holdings.loc[holdings['portfolio_code'] == portfolio].iterrows():\n",
    "        \n",
    "        # Set your instrument identifiers based on whether or not instrument is cash\n",
    "        if 'Cash' in holding['instrument_name']:\n",
    "            identifier_key = 'Instrument/default/Currency'\n",
    "            identifer = holding['instrument_name'].split('_')[0]\n",
    "        else:\n",
    "            identifier_key = 'Instrument/default/Figi'\n",
    "            identifer = holding['figi']\n",
    "            \n",
    "        # Create your holding adjustment and append it to your list\n",
    "        holding_adjustments.append(\n",
    "            models.AdjustHoldingRequest(\n",
    "                instrument_identifiers={\n",
    "                    identifier_key: identifer},\n",
    "                tax_lots=[\n",
    "                    models.TargetTaxLotRequest(\n",
    "                        units=holding['quantity'],\n",
    "                        cost=models.CurrencyAndAmount(\n",
    "                            amount=holding['quantity'] * holding['price'],\n",
    "                            currency=holding['currency']),\n",
    "                        portfolio_cost=holding['quantity'] * holding['price'],\n",
    "                        price=holding['price'])\n",
    "                ]\n",
    "            )\n",
    "        )\n",
    "    \n",
    "    # Call LUSID to set your initial holdings\n",
    "    response = client.transaction_portfolios.set_holdings(\n",
    "        scope=scope,\n",
    "        code=portfolio,\n",
    "        effective_at=holdings_effective_date,\n",
    "        holding_adjustments=holding_adjustments)\n",
    "\n",
    "    # Pretty print our response from LUSID\n",
    "    prettyprint.set_holdings_response(response, scope, portfolio)"
   ]
  },
  {
   "cell_type": "markdown",
   "metadata": {},
   "source": [
    "### Create a portfolio group for each household"
   ]
  },
  {
   "cell_type": "markdown",
   "metadata": {},
   "source": [
    "Now that you've created Portfolios for the client accounts, you can group them together into households using Portfolio Groups.\n",
    "\n",
    "Read more about portfolio groups here [LUSID Knowledge Base: How do you Group and Aggregate Portfolios?](https://support.lusid.com/how-do-you-group-and-aggregate-portfolios)\n",
    "\n",
    "*Run the cell below to create a portfolio group for each household*"
   ]
  },
  {
   "cell_type": "code",
   "execution_count": null,
   "metadata": {},
   "outputs": [],
   "source": [
    "# Iterate over all households\n",
    "for household in accounts['household_id'].unique():\n",
    "    \n",
    "    # Build a create group request for this group\n",
    "    group_request = models.CreatePortfolioGroupRequest(\n",
    "    code=household+'-Group',\n",
    "    display_name='Contains all accounts for the {} household'.format(household))\n",
    "\n",
    "    # Call LUSID to create the portfolio group for the household\n",
    "    response = client.portfolio_groups.create_portfolio_group(\n",
    "        scope=scope,\n",
    "        request=group_request)\n",
    "\n",
    "    # Pretty print the response\n",
    "    prettyprint.portfolio_group_response(response, 'created')"
   ]
  },
  {
   "cell_type": "markdown",
   "metadata": {},
   "source": [
    "You can now add the portfolios for each household to the appropriate group.\n",
    "\n",
    "*Run the cell below to add all of the portfolios in each household to the group*"
   ]
  },
  {
   "cell_type": "code",
   "execution_count": null,
   "metadata": {},
   "outputs": [],
   "source": [
    "# Call LUSID to list all the portfolios for this branch\n",
    "portfolios = client.portfolios.list_portfolios_for_scope(\n",
    "    scope=scope) \n",
    "\n",
    "# Iterate over each portfolio\n",
    "for portfolio in portfolios.values:\n",
    "    \n",
    "    # For this portfolio get its properties which you defined earlier\n",
    "    properties = client.portfolios.get_portfolio_properties(\n",
    "        scope=portfolio.id.scope, \n",
    "        code=portfolio.id.code)\n",
    "    \n",
    "    # Make the list of properties easy to work with by converting them to key-value pairs\n",
    "    portfolio_properties = {prop.key: prop.value for prop in properties.properties}\n",
    "    \n",
    "    # Using the household_id property determine which portfolio group to add this portfolio too\n",
    "    response = client.portfolio_groups.add_portfolio_to_group(\n",
    "        scope=scope,\n",
    "        code=portfolio_properties['Portfolio/{}/household_id'.format(scope)]+'-Group',\n",
    "        portfolio_id=models.ResourceId(\n",
    "            scope=portfolio.id.scope,\n",
    "            code=portfolio.id.code))\n",
    "    \n",
    "    # Pretty print the response\n",
    "    prettyprint.get_portfolio_group_response(response)"
   ]
  },
  {
   "cell_type": "markdown",
   "metadata": {},
   "source": [
    "![Scopes](img/households-portfoliogroupshouseholds.gif)"
   ]
  },
  {
   "cell_type": "markdown",
   "metadata": {},
   "source": [
    "### Load market data prices"
   ]
  },
  {
   "cell_type": "markdown",
   "metadata": {},
   "source": [
    "With the Portfolio Groups created to group each household together, you can now aggregate across households.\n",
    "\n",
    "To aggregate & value a portfolio in LUSID you need to upsert market data quotes against the underlying holdings or specify an analytics library to use. Read more about aggregating and valuing portfolios in the [LUSID Knowledge Base: Aggregations and Valuations](https://support.lusid.com/what-is-a-valuation).\n",
    "\n",
    "In this case you will upsert market data quotes to the quote store to be used in an aggregation request. You will import these quotes from a CSV file.\n",
    "\n",
    "*Run the cell below to import the market data prices*"
   ]
  },
  {
   "cell_type": "code",
   "execution_count": null,
   "metadata": {},
   "outputs": [],
   "source": [
    "# Import the market data prices\n",
    "prices = pd.read_csv('data/households-prices.csv')\n",
    "prices.head(n=50)"
   ]
  },
  {
   "cell_type": "markdown",
   "metadata": {},
   "source": [
    "Now that you have imported the market data you can add it to the quote store in LUSID. Read more about what a quote is in the [LUSID Knowledge Base: What is a Quote?](https://support.lusid.com/what-is-a-quote).\n",
    "\n",
    "For further usage of the Upsert Quotes API call refer to the [LUSID API Docs: Upsert Quotes](https://docs.lusid.com/#operation/UpsertQuotes).\n",
    "\n",
    "*Run the cell below to upsert the market data quotes into LUSID*"
   ]
  },
  {
   "cell_type": "code",
   "execution_count": null,
   "metadata": {},
   "outputs": [],
   "source": [
    "# Initialise an empty list to hold the market data quotes\n",
    "instrument_quotes = []\n",
    "\n",
    "# Iterate over each quote\n",
    "for index, quote in prices.iterrows():\n",
    "    \n",
    "    # Get the LUSID Instrument ID for the quoted instrument\n",
    "    luid = client.search.instruments_search(\n",
    "        symbols=[\n",
    "            models.InstrumentSearchProperty(\n",
    "                key='Instrument/default/Figi',\n",
    "                value=quote['figi'])\n",
    "        ],\n",
    "        mastered_only=True\n",
    "        )[0].mastered_instruments[0].identifiers['LusidInstrumentId'].value\n",
    "    \n",
    "    # Create a quote for this instrument and append it to the list of quotes\n",
    "    instrument_quotes.append(models.UpsertQuoteRequest(\n",
    "        quote_id=models.QuoteId(\n",
    "            provider='DataScope',\n",
    "            price_source='',\n",
    "            instrument_id=luid,\n",
    "            instrument_id_type='LusidInstrumentId',\n",
    "            quote_type='Price',\n",
    "            price_side='Mid'),\n",
    "        metric_value=models.MetricValue(\n",
    "            value=quote['price_current'],\n",
    "            unit=quote['currency']),\n",
    "        effective_at=holdings_effective_date,\n",
    "        lineage='InternalSystem'\n",
    "    ))\n",
    "\n",
    "# Upsert the quotes into LUSID\n",
    "response = client.quotes.upsert_quotes(\n",
    "    scope=scope,\n",
    "    quotes=instrument_quotes)\n",
    "\n",
    "# Pretty print the response\n",
    "prettyprint.upsert_quotes_response(response)"
   ]
  },
  {
   "cell_type": "markdown",
   "metadata": {},
   "source": [
    "### Conduct a valuation against each household"
   ]
  },
  {
   "cell_type": "markdown",
   "metadata": {},
   "source": [
    "Now that the quotes have been added to the quote store you can aggregate across each household. The logic for an aggregation is controled by a LUSID recipe. Read more about recipes in the [LUSID Knowledge Base: What is a Recipe and How Are They Used?](https://support.lusid.com/what-is-a-recipe-and-how-are-they-used).\n",
    "\n",
    "For further usage of the Get Aggregation by Portfolio API call refer to the [LUSID API Docs: Get Aggregation by Portfolio](https://docs.lusid.com/#operation/GetAggregationByPortfolio).\n",
    "\n",
    "*Run the cell below to aggregate and value each household's investments*"
   ]
  },
  {
   "cell_type": "code",
   "execution_count": null,
   "metadata": {},
   "outputs": [],
   "source": [
    "# Create an inline recipe to configue the aggregation logic\n",
    "inline_recipe = models.ConfigurationRecipe(\n",
    "    code='quotes_recipe',\n",
    "    market=models.MarketContext(\n",
    "        market_rules=[\n",
    "            models.MarketDataKeyRule(\n",
    "               key='Equity.LusidInstrumentId.*',\n",
    "               supplier='DataScope',\n",
    "               data_scope=scope,\n",
    "               quote_type='Price',\n",
    "               price_side='Mid')\n",
    "        ],\n",
    "        suppliers=models.MarketContextSuppliers(\n",
    "            commodity='DataScope',\n",
    "            credit='DataScope',\n",
    "            equity='DataScope',\n",
    "            fx='DataScope',\n",
    "            rates='DataScope'),\n",
    "        options=models.MarketOptions(\n",
    "            default_supplier='DataScope',\n",
    "            default_instrument_code_type='LusidInstrumentId',\n",
    "            default_scope=scope)\n",
    "        )\n",
    "    )\n",
    "\n",
    "aggregation_results_df = []\n",
    "\n",
    "# Iterate over each household\n",
    "for household in accounts['household_id'].unique():\n",
    "    \n",
    "    # Create the aggregation request\n",
    "    aggregation_request = models.AggregationRequest(\n",
    "        inline_recipe=inline_recipe,\n",
    "        effective_at=holdings_effective_date,\n",
    "        metrics=[\n",
    "            models.AggregateSpec(key='Holding/default/SubHoldingKey',\n",
    "            op='Value'),\n",
    "            models.AggregateSpec(key='Holding/default/Cost',\n",
    "            op='Sum'),\n",
    "            models.AggregateSpec(key='Holding/default/PV',\n",
    "            op='Sum'),\n",
    "            models.AggregateSpec(key='Holding/default/Units',\n",
    "            op='Sum'),\n",
    "            models.AggregateSpec(key='Instrument/default/Name',\n",
    "            op='Value')\n",
    "        ],\n",
    "        group_by=[\n",
    "            'Instrument/default/Name'\n",
    "        ])\n",
    "\n",
    "    # Call LUSID to perform an aggregation\n",
    "    response = client.aggregation.get_aggregation_by_group(\n",
    "        scope=scope,\n",
    "        code=household+'-Group',\n",
    "        request=aggregation_request)\n",
    "\n",
    "    # Pretty print the response\n",
    "    aggregation_results_df.append(prettyprint.aggregation_response_generic_df(\n",
    "        response=response, \n",
    "        index_key=\"Instrument/default/Name\", \n",
    "        name=household))"
   ]
  },
  {
   "cell_type": "code",
   "execution_count": null,
   "metadata": {},
   "outputs": [],
   "source": [
    "prettyprint.heading('Household: ', aggregation_results_df[0].name)\n",
    "aggregation_results_df[0]"
   ]
  },
  {
   "cell_type": "code",
   "execution_count": null,
   "metadata": {},
   "outputs": [],
   "source": [
    "prettyprint.heading('Household: ', aggregation_results_df[1].name)\n",
    "aggregation_results_df[1]"
   ]
  },
  {
   "cell_type": "markdown",
   "metadata": {},
   "source": [
    "Perhaps you might also like to group your client accounts by financial advisor. Using Portfolio Groups you can do this as well.\n",
    "\n",
    "*Run the cell below to create a Portfolio Group for each advisor*"
   ]
  },
  {
   "cell_type": "code",
   "execution_count": null,
   "metadata": {},
   "outputs": [],
   "source": [
    "# Iterate over all financial advisors\n",
    "for advisor in accounts['financial_advisor_id'].unique():\n",
    "    \n",
    "    # Build a create group request for this advisor\n",
    "    group_request = models.CreatePortfolioGroupRequest(\n",
    "    code=advisor+'-Group',\n",
    "    display_name='Contains all accounts for the financial advisor with id {}'.format(advisor))\n",
    "\n",
    "    # Call LUSID to create the portfolio group for the advisor\n",
    "    response = client.portfolio_groups.create_portfolio_group(\n",
    "        scope=scope,\n",
    "        request=group_request)\n",
    "\n",
    "    # Pretty print the response\n",
    "    prettyprint.portfolio_group_response(response, 'created')"
   ]
  },
  {
   "cell_type": "markdown",
   "metadata": {},
   "source": [
    "You can now add the portfolios for each advisor to the appropriate group.\n",
    "\n",
    "*Run the cell below to add all of the portfolios in for each advisor to the appropriate group*"
   ]
  },
  {
   "cell_type": "code",
   "execution_count": null,
   "metadata": {},
   "outputs": [],
   "source": [
    "# Call LUSID to list all the portfolios for this branch\n",
    "portfolios = client.portfolios.list_portfolios_for_scope(\n",
    "    scope=scope) \n",
    "\n",
    "# Iterate over each portfolio\n",
    "for portfolio in portfolios.values:\n",
    "    \n",
    "    # For this portfolio get its properties which you defined earlier\n",
    "    properties = client.portfolios.get_portfolio_properties(\n",
    "        scope=portfolio.id.scope, \n",
    "        code=portfolio.id.code)\n",
    "    \n",
    "    # Make the list of properties easy to work with by converting them to key-value pairs\n",
    "    portfolio_properties = {prop.key: prop.value for prop in properties.properties}\n",
    "    \n",
    "    # Using the financial_advisor_id property determine which portfolio group \n",
    "    # to add this portfolio too\n",
    "    response = client.portfolio_groups.add_portfolio_to_group(\n",
    "        scope=scope,\n",
    "        code=portfolio_properties['Portfolio/{}/financial_advisor_id'.format(scope)]+'-Group',\n",
    "        portfolio_id=models.ResourceId(\n",
    "            scope=portfolio.id.scope,\n",
    "            code=portfolio.id.code))\n",
    "    \n",
    "    # Pretty print the response\n",
    "    prettyprint.get_portfolio_group_response(response)"
   ]
  },
  {
   "cell_type": "markdown",
   "metadata": {},
   "source": [
    "![Scopes](img/households-portfoliogroupsadvisor.gif)"
   ]
  },
  {
   "cell_type": "markdown",
   "metadata": {},
   "source": [
    "Now you can aggregate by financial advisor.\n",
    "\n",
    "*Run the cell below to aggregate your client accounts by financial advisor*"
   ]
  },
  {
   "cell_type": "code",
   "execution_count": null,
   "metadata": {},
   "outputs": [],
   "source": [
    "aggregation_results_df = []\n",
    "\n",
    "# Iterate over each household\n",
    "for advisor in accounts['financial_advisor_id'].unique():\n",
    "    \n",
    "    # Create the aggregation request\n",
    "    aggregation_request = models.AggregationRequest(\n",
    "        inline_recipe=inline_recipe,\n",
    "        effective_at=holdings_effective_date,\n",
    "        metrics=[\n",
    "            models.AggregateSpec(key='Holding/default/SubHoldingKey',\n",
    "            op='Value'),\n",
    "            models.AggregateSpec(key='Holding/default/Cost',\n",
    "            op='Sum'),\n",
    "            models.AggregateSpec(key='Holding/default/PV',\n",
    "            op='Sum'),\n",
    "            models.AggregateSpec(key='Holding/default/Units',\n",
    "            op='Sum'),\n",
    "            models.AggregateSpec(key='Instrument/default/Name',\n",
    "            op='Value')\n",
    "        ],\n",
    "        group_by=[\n",
    "            'Instrument/default/Name'\n",
    "        ])\n",
    "\n",
    "    # Call LUSID to perform an aggregation\n",
    "    response = client.aggregation.get_aggregation_by_group(\n",
    "        scope=scope,\n",
    "        code=advisor+'-Group',\n",
    "        request=aggregation_request)\n",
    "\n",
    "    # Append the response to the list of responses\n",
    "    aggregation_results_df.append(prettyprint.aggregation_response_generic_df(\n",
    "        response=response, \n",
    "        index_key=\"Instrument/default/Name\", \n",
    "        name=advisor))"
   ]
  },
  {
   "cell_type": "code",
   "execution_count": null,
   "metadata": {},
   "outputs": [],
   "source": [
    "prettyprint.heading('Financial Advisor: ', aggregation_results_df[0].name)\n",
    "aggregation_results_df[0]"
   ]
  },
  {
   "cell_type": "code",
   "execution_count": null,
   "metadata": {},
   "outputs": [],
   "source": [
    "prettyprint.heading('Financial Advisor: ', aggregation_results_df[1].name)\n",
    "aggregation_results_df[1]"
   ]
  },
  {
   "cell_type": "markdown",
   "metadata": {},
   "source": [
    "You can also create a portfolio group to see the investment across all the client accounts.\n",
    "\n",
    "*Run the cell below to create a portfolio group for all accounts*"
   ]
  },
  {
   "cell_type": "code",
   "execution_count": null,
   "metadata": {},
   "outputs": [],
   "source": [
    "# Build a create group request for this group\n",
    "group_request = models.CreatePortfolioGroupRequest(\n",
    "code='AllAccounts',\n",
    "display_name='Contains all client accounts for {}'.format(scope))\n",
    "\n",
    "# Call LUSID to create the portfolio group for all client accounts\n",
    "response = client.portfolio_groups.create_portfolio_group(\n",
    "    scope=scope,\n",
    "    request=group_request)\n",
    "\n",
    "# Pretty print the response\n",
    "prettyprint.portfolio_group_response(response, 'created')"
   ]
  },
  {
   "cell_type": "code",
   "execution_count": null,
   "metadata": {},
   "outputs": [],
   "source": [
    "# Call LUSID to list all the portfolios for this branch\n",
    "portfolios = client.portfolios.list_portfolios_for_scope(\n",
    "    scope=scope) \n",
    "\n",
    "# Iterate over each portfolio\n",
    "for portfolio in portfolios.values:\n",
    "    \n",
    "    # Add the portfolio the all accounts portfolio group\n",
    "    response = client.portfolio_groups.add_portfolio_to_group(\n",
    "        scope=scope,\n",
    "        code='AllAccounts',\n",
    "        portfolio_id=models.ResourceId(\n",
    "            scope=portfolio.id.scope,\n",
    "            code=portfolio.id.code))\n",
    "    \n",
    "    # Pretty print the response\n",
    "    prettyprint.get_portfolio_group_response(response)"
   ]
  },
  {
   "cell_type": "markdown",
   "metadata": {},
   "source": [
    "![Scopes](img/households-portfoliogroupsallaccounts.gif)"
   ]
  },
  {
   "cell_type": "markdown",
   "metadata": {},
   "source": [
    "You can now aggregate across all client accounts.\n",
    "\n",
    "*Run the cell below to aggregate across all client accounts*"
   ]
  },
  {
   "cell_type": "code",
   "execution_count": null,
   "metadata": {},
   "outputs": [],
   "source": [
    "aggregation_results_df = []\n",
    "\n",
    "# Create the aggregation request\n",
    "aggregation_request = models.AggregationRequest(\n",
    "    inline_recipe=inline_recipe,\n",
    "    effective_at=holdings_effective_date,\n",
    "    metrics=[\n",
    "        models.AggregateSpec(key='Holding/default/SubHoldingKey',\n",
    "        op='Value'),\n",
    "        models.AggregateSpec(key='Holding/default/Cost',\n",
    "        op='Sum'),\n",
    "        models.AggregateSpec(key='Holding/default/PV',\n",
    "        op='Sum'),\n",
    "        models.AggregateSpec(key='Holding/default/Units',\n",
    "        op='Sum'),\n",
    "        models.AggregateSpec(key='Instrument/default/Name',\n",
    "        op='Value')\n",
    "    ],\n",
    "    group_by=[\n",
    "        'Instrument/default/Name'\n",
    "    ])\n",
    "\n",
    "# Call LUSID to perform an aggregation\n",
    "response = client.aggregation.get_aggregation_by_group(\n",
    "    scope=scope,\n",
    "    code='AllAccounts',\n",
    "    request=aggregation_request)\n",
    "\n",
    "# Add the response to the list\n",
    "aggregation_results_df.append(prettyprint.aggregation_response_generic_df(\n",
    "        response=response, \n",
    "        index_key=\"Instrument/default/Name\", \n",
    "        name=scope))"
   ]
  },
  {
   "cell_type": "code",
   "execution_count": null,
   "metadata": {},
   "outputs": [],
   "source": [
    "prettyprint.heading('Branch: ', aggregation_results_df[0].name)\n",
    "aggregation_results_df[0]"
   ]
  }
 ],
 "metadata": {
  "kernelspec": {
   "display_name": "Python 3",
   "language": "python",
   "name": "python3"
  },
  "language_info": {
   "codemirror_mode": {
    "name": "ipython",
    "version": 3
   },
   "file_extension": ".py",
   "mimetype": "text/x-python",
   "name": "python",
   "nbconvert_exporter": "python",
   "pygments_lexer": "ipython3",
   "version": "3.6.6"
  }
 },
 "nbformat": 4,
 "nbformat_minor": 2
}
