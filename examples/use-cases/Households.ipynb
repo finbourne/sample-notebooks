{
 "cells": [
  {
   "cell_type": "markdown",
   "metadata": {},
   "source": [
    "## The Challenge"
   ]
  },
  {
   "cell_type": "markdown",
   "metadata": {},
   "source": []
  },
  {
   "cell_type": "markdown",
   "metadata": {},
   "source": [
    "## The Solution"
   ]
  },
  {
   "cell_type": "markdown",
   "metadata": {},
   "source": [
    "1) Create your instrument universe using a range of identifiers\n",
    "\n",
    "2) Set up a scope to hold the accounts of a subfirm\n",
    "\n",
    "3) Create a portfolio for each account that exists with the subfirm\n",
    "\n",
    "4) Create a property to hold the investor and the household\n",
    "\n",
    "5) Set the initial holdings of the portfolio\n",
    "\n",
    "5) Create a portfolio group for each household\n",
    "\n",
    "6) Load market data prices\n",
    "\n",
    "7) Conduct a valuation against each household"
   ]
  },
  {
   "cell_type": "code",
   "execution_count": 10,
   "metadata": {},
   "outputs": [
    {
     "name": "stdout",
     "output_type": "stream",
     "text": [
      "LUSID Environment Initialised\n",
      "LUSID SDK Version:  0.5.2676.0\n"
     ]
    }
   ],
   "source": [
    "# Import LUSID\n",
    "import lusid.models as models\n",
    "import lusid\n",
    "import lusid_sample_data as import_data\n",
    "\n",
    "# Import Libraries\n",
    "import pprint\n",
    "from datetime import datetime, timedelta, time\n",
    "import pytz\n",
    "import printer as prettyprint\n",
    "import pandas as pd\n",
    "import numpy as np\n",
    "import json\n",
    "import uuid\n",
    "\n",
    "# Authenticate our user and create our API client\n",
    "client = import_data.authenticate_secrets()\n",
    "\n",
    "print ('LUSID Environment Initialised')\n",
    "print ('LUSID SDK Version: ', client.metadata.get_lusid_versions().build_version)"
   ]
  },
  {
   "cell_type": "markdown",
   "metadata": {},
   "source": [
    "### Create your instrument universe using a range of identifiers"
   ]
  },
  {
   "cell_type": "code",
   "execution_count": 11,
   "metadata": {},
   "outputs": [
    {
     "data": {
      "text/html": [
       "<div>\n",
       "<style scoped>\n",
       "    .dataframe tbody tr th:only-of-type {\n",
       "        vertical-align: middle;\n",
       "    }\n",
       "\n",
       "    .dataframe tbody tr th {\n",
       "        vertical-align: top;\n",
       "    }\n",
       "\n",
       "    .dataframe thead th {\n",
       "        text-align: right;\n",
       "    }\n",
       "</style>\n",
       "<table border=\"1\" class=\"dataframe\">\n",
       "  <thead>\n",
       "    <tr style=\"text-align: right;\">\n",
       "      <th></th>\n",
       "      <th>InstrumentName</th>\n",
       "      <th>ClientInternal</th>\n",
       "      <th>Currency</th>\n",
       "      <th>Isin</th>\n",
       "      <th>Figi</th>\n",
       "      <th>ExchangeCode</th>\n",
       "      <th>CountryIssue</th>\n",
       "      <th>Ticker</th>\n",
       "      <th>MarketSector</th>\n",
       "      <th>SecurityType</th>\n",
       "      <th>Coupon</th>\n",
       "    </tr>\n",
       "  </thead>\n",
       "  <tbody>\n",
       "    <tr>\n",
       "      <th>0</th>\n",
       "      <td>Amazon_Nasdaq_AMZN</td>\n",
       "      <td>imd_34634534</td>\n",
       "      <td>USD</td>\n",
       "      <td>US0231351067</td>\n",
       "      <td>BBG000BVPXP1</td>\n",
       "      <td>UN</td>\n",
       "      <td>united_states_america</td>\n",
       "      <td>AMZN</td>\n",
       "      <td>equity</td>\n",
       "      <td>common_stock</td>\n",
       "      <td>NaN</td>\n",
       "    </tr>\n",
       "    <tr>\n",
       "      <th>1</th>\n",
       "      <td>Apple_Nasdaq_AAPL</td>\n",
       "      <td>imd_35345345</td>\n",
       "      <td>USD</td>\n",
       "      <td>US0378331005</td>\n",
       "      <td>BBG000B9XVV8</td>\n",
       "      <td>UN</td>\n",
       "      <td>united_states_america</td>\n",
       "      <td>AAPL</td>\n",
       "      <td>equity</td>\n",
       "      <td>common_stock</td>\n",
       "      <td>NaN</td>\n",
       "    </tr>\n",
       "    <tr>\n",
       "      <th>2</th>\n",
       "      <td>BP_LondonStockEx_BP</td>\n",
       "      <td>imd_43535553</td>\n",
       "      <td>GBP</td>\n",
       "      <td>GB0007980591</td>\n",
       "      <td>BBG000C05BD1</td>\n",
       "      <td>LN</td>\n",
       "      <td>united_kingdom</td>\n",
       "      <td>BP/</td>\n",
       "      <td>equity</td>\n",
       "      <td>common_stock</td>\n",
       "      <td>NaN</td>\n",
       "    </tr>\n",
       "    <tr>\n",
       "      <th>3</th>\n",
       "      <td>BurfordCapital_LondonStockEx_BUR</td>\n",
       "      <td>imd_43534356</td>\n",
       "      <td>GBP</td>\n",
       "      <td>GG00B4L84979</td>\n",
       "      <td>BBG000PN88Q7</td>\n",
       "      <td>LN</td>\n",
       "      <td>united_kingdom</td>\n",
       "      <td>BUR</td>\n",
       "      <td>equity</td>\n",
       "      <td>common_stock</td>\n",
       "      <td>NaN</td>\n",
       "    </tr>\n",
       "    <tr>\n",
       "      <th>4</th>\n",
       "      <td>EKFDiagnostics_LondonStockEx_EKF</td>\n",
       "      <td>imd_34535355</td>\n",
       "      <td>GBP</td>\n",
       "      <td>GB0031509804</td>\n",
       "      <td>BBG000BVNBN3</td>\n",
       "      <td>LN</td>\n",
       "      <td>united_kingdom</td>\n",
       "      <td>EKF</td>\n",
       "      <td>equity</td>\n",
       "      <td>common_stock</td>\n",
       "      <td>NaN</td>\n",
       "    </tr>\n",
       "  </tbody>\n",
       "</table>\n",
       "</div>"
      ],
      "text/plain": [
       "                     InstrumentName ClientInternal Currency          Isin  \\\n",
       "0                Amazon_Nasdaq_AMZN   imd_34634534      USD  US0231351067   \n",
       "1                 Apple_Nasdaq_AAPL   imd_35345345      USD  US0378331005   \n",
       "2               BP_LondonStockEx_BP   imd_43535553      GBP  GB0007980591   \n",
       "3  BurfordCapital_LondonStockEx_BUR   imd_43534356      GBP  GG00B4L84979   \n",
       "4  EKFDiagnostics_LondonStockEx_EKF   imd_34535355      GBP  GB0031509804   \n",
       "\n",
       "           Figi ExchangeCode           CountryIssue Ticker MarketSector  \\\n",
       "0  BBG000BVPXP1           UN  united_states_america   AMZN       equity   \n",
       "1  BBG000B9XVV8           UN  united_states_america   AAPL       equity   \n",
       "2  BBG000C05BD1           LN         united_kingdom    BP/       equity   \n",
       "3  BBG000PN88Q7           LN         united_kingdom    BUR       equity   \n",
       "4  BBG000BVNBN3           LN         united_kingdom    EKF       equity   \n",
       "\n",
       "   SecurityType  Coupon  \n",
       "0  common_stock     NaN  \n",
       "1  common_stock     NaN  \n",
       "2  common_stock     NaN  \n",
       "3  common_stock     NaN  \n",
       "4  common_stock     NaN  "
      ]
     },
     "execution_count": 11,
     "metadata": {},
     "output_type": "execute_result"
    }
   ],
   "source": [
    "equity_instruments = pd.read_csv('data/multiplesystems-instruments-equities.csv')\n",
    "equity_instruments.head()"
   ]
  },
  {
   "cell_type": "markdown",
   "metadata": {},
   "source": [
    "### Set up a scope to hold the accounts of a subfirm"
   ]
  },
  {
   "cell_type": "code",
   "execution_count": 12,
   "metadata": {},
   "outputs": [
    {
     "name": "stdout",
     "output_type": "stream",
     "text": [
      "\u001b[1mScope: \u001b[0msubfirm-3769-dd6f-6de9-12\n"
     ]
    }
   ],
   "source": [
    "scope_id = import_data.create_scope_id()\n",
    "scope = 'subfirm-{}'.format(scope_id)\n",
    "prettyprint.heading('Scope', scope)"
   ]
  },
  {
   "cell_type": "markdown",
   "metadata": {},
   "source": [
    "### Create a portfolio for each account that exists with the subfirm"
   ]
  },
  {
   "cell_type": "code",
   "execution_count": 13,
   "metadata": {},
   "outputs": [
    {
     "data": {
      "text/html": [
       "<div>\n",
       "<style scoped>\n",
       "    .dataframe tbody tr th:only-of-type {\n",
       "        vertical-align: middle;\n",
       "    }\n",
       "\n",
       "    .dataframe tbody tr th {\n",
       "        vertical-align: top;\n",
       "    }\n",
       "\n",
       "    .dataframe thead th {\n",
       "        text-align: right;\n",
       "    }\n",
       "</style>\n",
       "<table border=\"1\" class=\"dataframe\">\n",
       "  <thead>\n",
       "    <tr style=\"text-align: right;\">\n",
       "      <th></th>\n",
       "      <th>account_code</th>\n",
       "      <th>account_name</th>\n",
       "      <th>currency</th>\n",
       "      <th>description</th>\n",
       "      <th>primary_acount_owner_id</th>\n",
       "      <th>household_id</th>\n",
       "      <th>other_account_owner_id</th>\n",
       "    </tr>\n",
       "  </thead>\n",
       "  <tbody>\n",
       "    <tr>\n",
       "      <th>0</th>\n",
       "      <td>040004-929987648</td>\n",
       "      <td>OneIntlBrokerage</td>\n",
       "      <td>USD</td>\n",
       "      <td>Primary trading account</td>\n",
       "      <td>invstr_7325jhv93</td>\n",
       "      <td>hhd_jxgru45055</td>\n",
       "      <td>NaN</td>\n",
       "    </tr>\n",
       "    <tr>\n",
       "      <th>1</th>\n",
       "      <td>040004-778939522</td>\n",
       "      <td>OneIntlBrokerage</td>\n",
       "      <td>USD</td>\n",
       "      <td>College fund</td>\n",
       "      <td>invstr_7325jhv93</td>\n",
       "      <td>hhd_jxgru45055</td>\n",
       "      <td>invstr_bbgj93921</td>\n",
       "    </tr>\n",
       "    <tr>\n",
       "      <th>2</th>\n",
       "      <td>204507-250099511</td>\n",
       "      <td>VangETF</td>\n",
       "      <td>USD</td>\n",
       "      <td>Passive exchange traded fund</td>\n",
       "      <td>invstr_a1kf37761</td>\n",
       "      <td>hhd_ab3452342</td>\n",
       "      <td>NaN</td>\n",
       "    </tr>\n",
       "    <tr>\n",
       "      <th>3</th>\n",
       "      <td>774001-899930233</td>\n",
       "      <td>FidelityOnlineUSEquityOptions</td>\n",
       "      <td>USD</td>\n",
       "      <td>Online US equity &amp; option trades</td>\n",
       "      <td>invstr_bbgj93921</td>\n",
       "      <td>hhd_jxgru45055</td>\n",
       "      <td>NaN</td>\n",
       "    </tr>\n",
       "    <tr>\n",
       "      <th>4</th>\n",
       "      <td>400250-613060229</td>\n",
       "      <td>ActiveManagedBlckrock</td>\n",
       "      <td>USD</td>\n",
       "      <td>Actively managed high return investment account</td>\n",
       "      <td>invstr_a1kf37761</td>\n",
       "      <td>hhd_ab3452342</td>\n",
       "      <td>NaN</td>\n",
       "    </tr>\n",
       "    <tr>\n",
       "      <th>5</th>\n",
       "      <td>769231-448679901</td>\n",
       "      <td>MutualFund</td>\n",
       "      <td>USD</td>\n",
       "      <td>Pooled investment vehicle</td>\n",
       "      <td>invstr_7325jhv93</td>\n",
       "      <td>hhd_ab3452342</td>\n",
       "      <td>NaN</td>\n",
       "    </tr>\n",
       "  </tbody>\n",
       "</table>\n",
       "</div>"
      ],
      "text/plain": [
       "       account_code                   account_name currency  \\\n",
       "0  040004-929987648               OneIntlBrokerage      USD   \n",
       "1  040004-778939522               OneIntlBrokerage      USD   \n",
       "2  204507-250099511                        VangETF      USD   \n",
       "3  774001-899930233  FidelityOnlineUSEquityOptions      USD   \n",
       "4  400250-613060229          ActiveManagedBlckrock      USD   \n",
       "5  769231-448679901                     MutualFund      USD   \n",
       "\n",
       "                                       description primary_acount_owner_id  \\\n",
       "0                          Primary trading account        invstr_7325jhv93   \n",
       "1                                    College fund         invstr_7325jhv93   \n",
       "2                     Passive exchange traded fund        invstr_a1kf37761   \n",
       "3                 Online US equity & option trades        invstr_bbgj93921   \n",
       "4  Actively managed high return investment account        invstr_a1kf37761   \n",
       "5                        Pooled investment vehicle        invstr_7325jhv93   \n",
       "\n",
       "     household_id other_account_owner_id  \n",
       "0  hhd_jxgru45055                    NaN  \n",
       "1  hhd_jxgru45055       invstr_bbgj93921  \n",
       "2   hhd_ab3452342                    NaN  \n",
       "3  hhd_jxgru45055                    NaN  \n",
       "4   hhd_ab3452342                    NaN  \n",
       "5   hhd_ab3452342                    NaN  "
      ]
     },
     "execution_count": 13,
     "metadata": {},
     "output_type": "execute_result"
    }
   ],
   "source": [
    "accounts = pd.read_csv('data/households-accounts.csv')\n",
    "accounts.head(n=10)"
   ]
  },
  {
   "cell_type": "code",
   "execution_count": 14,
   "metadata": {},
   "outputs": [
    {
     "name": "stdout",
     "output_type": "stream",
     "text": [
      "\u001b[1mPortfolio Created\u001b[0m\n",
      "\u001b[1mScope: \u001b[0msubfirm-3769-dd6f-6de9-12\n",
      "\u001b[1mCode: \u001b[0m040004-929987648\n",
      "\u001b[1mPortfolio Effective From: \u001b[0m2016-07-18 16:32:33.805599+00:00\n",
      "\u001b[1mPortfolio Created On: \u001b[0m2019-06-05 16:32:34.072178+00:00\n",
      "\n",
      "\u001b[1mPortfolio Created\u001b[0m\n",
      "\u001b[1mScope: \u001b[0msubfirm-3769-dd6f-6de9-12\n",
      "\u001b[1mCode: \u001b[0m040004-778939522\n",
      "\u001b[1mPortfolio Effective From: \u001b[0m2016-07-18 16:32:34.930291+00:00\n",
      "\u001b[1mPortfolio Created On: \u001b[0m2019-06-05 16:32:35.195359+00:00\n",
      "\n",
      "\u001b[1mPortfolio Created\u001b[0m\n",
      "\u001b[1mScope: \u001b[0msubfirm-3769-dd6f-6de9-12\n",
      "\u001b[1mCode: \u001b[0m204507-250099511\n",
      "\u001b[1mPortfolio Effective From: \u001b[0m2016-07-18 16:32:35.424192+00:00\n",
      "\u001b[1mPortfolio Created On: \u001b[0m2019-06-05 16:32:35.780821+00:00\n",
      "\n",
      "\u001b[1mPortfolio Created\u001b[0m\n",
      "\u001b[1mScope: \u001b[0msubfirm-3769-dd6f-6de9-12\n",
      "\u001b[1mCode: \u001b[0m774001-899930233\n",
      "\u001b[1mPortfolio Effective From: \u001b[0m2016-07-18 16:32:36.034693+00:00\n",
      "\u001b[1mPortfolio Created On: \u001b[0m2019-06-05 16:32:36.368708+00:00\n",
      "\n",
      "\u001b[1mPortfolio Created\u001b[0m\n",
      "\u001b[1mScope: \u001b[0msubfirm-3769-dd6f-6de9-12\n",
      "\u001b[1mCode: \u001b[0m400250-613060229\n",
      "\u001b[1mPortfolio Effective From: \u001b[0m2016-07-18 16:32:36.516110+00:00\n",
      "\u001b[1mPortfolio Created On: \u001b[0m2019-06-05 16:32:36.777379+00:00\n",
      "\n",
      "\u001b[1mPortfolio Created\u001b[0m\n",
      "\u001b[1mScope: \u001b[0msubfirm-3769-dd6f-6de9-12\n",
      "\u001b[1mCode: \u001b[0m769231-448679901\n",
      "\u001b[1mPortfolio Effective From: \u001b[0m2016-07-18 16:32:36.957864+00:00\n",
      "\u001b[1mPortfolio Created On: \u001b[0m2019-06-05 16:32:37.217780+00:00\n",
      "\n"
     ]
    }
   ],
   "source": [
    "for index, account in accounts.iterrows():\n",
    "\n",
    "    # Set the creation date of your portfolio \n",
    "    portfolio_creation_date = datetime.now(pytz.UTC) - timedelta(days=1052)\n",
    "\n",
    "    # Build your request to create your portfolio\n",
    "    request = models.CreateTransactionPortfolioRequest(\n",
    "        display_name=account['account_name'],\n",
    "        code=account['account_code'],\n",
    "        base_currency=account['currency'],\n",
    "        description=account['description'],\n",
    "        created=portfolio_creation_date,\n",
    "        corporate_action_source_id=None,\n",
    "        accounting_method='AverageCost',\n",
    "        sub_holding_keys=None,\n",
    "        properties=None)\n",
    "\n",
    "    # Call LUSID to create your portfolio\n",
    "    response = client.transaction_portfolios.create_portfolio(\n",
    "        scope=scope,\n",
    "        create_request=request)\n",
    "\n",
    "    # Pretty print the response\n",
    "    prettyprint.portfolio_response(response)"
   ]
  },
  {
   "cell_type": "markdown",
   "metadata": {},
   "source": [
    "### Create a property to hold the investor and the household"
   ]
  },
  {
   "cell_type": "code",
   "execution_count": 15,
   "metadata": {},
   "outputs": [
    {
     "name": "stdout",
     "output_type": "stream",
     "text": [
      "\u001b[1mPortfolio Property Key: \u001b[0mPortfolio/subfirm-3769-dd6f-6de9-12/household_id\n",
      "\u001b[1mPortfolio Property Key: \u001b[0mPortfolio/subfirm-3769-dd6f-6de9-12/primary_acount_owner_id\n",
      "\u001b[1mPortfolio Property Key: \u001b[0mPortfolio/subfirm-3769-dd6f-6de9-12/other_account_owner_id\n"
     ]
    }
   ],
   "source": [
    "property_codes = ['household_id', 'primary_acount_owner_id', 'other_account_owner_id']\n",
    "\n",
    "for property_code in property_codes:\n",
    "\n",
    "    # Create our request to define a new property\n",
    "    request = models.CreatePropertyDefinitionRequest(\n",
    "        domain='Portfolio',\n",
    "        scope=scope,\n",
    "        code=property_code,\n",
    "        value_required=False,\n",
    "        display_name=property_code,\n",
    "        data_type_id=models.ResourceId(scope='default', code='string'))\n",
    "\n",
    "    # Call LUSID to create our new property\n",
    "    response = client.property_definitions.create_property_definition(\n",
    "        definition=request)\n",
    "\n",
    "    # Grab the key off the response to use when referencing this property in other LUSID calls\n",
    "    portfolio_property_key = response.key\n",
    "\n",
    "    # Pretty print our key\n",
    "    prettyprint.heading('Portfolio Property Key', portfolio_property_key)"
   ]
  },
  {
   "cell_type": "code",
   "execution_count": 22,
   "metadata": {},
   "outputs": [
    {
     "name": "stdout",
     "output_type": "stream",
     "text": [
      "\u001b[1mProperties Sucessfully Updated for Portfolio\u001b[0m\n",
      "\u001b[1mScope: \u001b[0m subfirm-3769-dd6f-6de9-12\n",
      "\u001b[1mCode: \u001b[0m 040004-929987648 \n",
      "\n",
      "\u001b[1mProperty key: \u001b[0mPortfolio/subfirm-3769-dd6f-6de9-12/other_account_owner_id\n",
      "\u001b[1mValue: \u001b[0mNaN\n",
      "\n",
      "\u001b[1mProperty key: \u001b[0mPortfolio/subfirm-3769-dd6f-6de9-12/household_id\n",
      "\u001b[1mValue: \u001b[0mhhd_jxgru45055\n",
      "\n",
      "\u001b[1mProperty key: \u001b[0mPortfolio/subfirm-3769-dd6f-6de9-12/primary_acount_owner_id\n",
      "\u001b[1mValue: \u001b[0minvstr_7325jhv93\n",
      "\n",
      "\n",
      "\n",
      "\u001b[1mProperties Sucessfully Updated for Portfolio\u001b[0m\n",
      "\u001b[1mScope: \u001b[0m subfirm-3769-dd6f-6de9-12\n",
      "\u001b[1mCode: \u001b[0m 040004-778939522 \n",
      "\n",
      "\u001b[1mProperty key: \u001b[0mPortfolio/subfirm-3769-dd6f-6de9-12/other_account_owner_id\n",
      "\u001b[1mValue: \u001b[0minvstr_bbgj93921\n",
      "\n",
      "\u001b[1mProperty key: \u001b[0mPortfolio/subfirm-3769-dd6f-6de9-12/household_id\n",
      "\u001b[1mValue: \u001b[0mhhd_jxgru45055\n",
      "\n",
      "\u001b[1mProperty key: \u001b[0mPortfolio/subfirm-3769-dd6f-6de9-12/primary_acount_owner_id\n",
      "\u001b[1mValue: \u001b[0minvstr_7325jhv93\n",
      "\n",
      "\n",
      "\n",
      "\u001b[1mProperties Sucessfully Updated for Portfolio\u001b[0m\n",
      "\u001b[1mScope: \u001b[0m subfirm-3769-dd6f-6de9-12\n",
      "\u001b[1mCode: \u001b[0m 204507-250099511 \n",
      "\n",
      "\u001b[1mProperty key: \u001b[0mPortfolio/subfirm-3769-dd6f-6de9-12/other_account_owner_id\n",
      "\u001b[1mValue: \u001b[0mNaN\n",
      "\n",
      "\u001b[1mProperty key: \u001b[0mPortfolio/subfirm-3769-dd6f-6de9-12/household_id\n",
      "\u001b[1mValue: \u001b[0mhhd_ab3452342\n",
      "\n",
      "\u001b[1mProperty key: \u001b[0mPortfolio/subfirm-3769-dd6f-6de9-12/primary_acount_owner_id\n",
      "\u001b[1mValue: \u001b[0minvstr_a1kf37761\n",
      "\n",
      "\n",
      "\n",
      "\u001b[1mProperties Sucessfully Updated for Portfolio\u001b[0m\n",
      "\u001b[1mScope: \u001b[0m subfirm-3769-dd6f-6de9-12\n",
      "\u001b[1mCode: \u001b[0m 774001-899930233 \n",
      "\n",
      "\u001b[1mProperty key: \u001b[0mPortfolio/subfirm-3769-dd6f-6de9-12/other_account_owner_id\n",
      "\u001b[1mValue: \u001b[0mNaN\n",
      "\n",
      "\u001b[1mProperty key: \u001b[0mPortfolio/subfirm-3769-dd6f-6de9-12/household_id\n",
      "\u001b[1mValue: \u001b[0mhhd_jxgru45055\n",
      "\n",
      "\u001b[1mProperty key: \u001b[0mPortfolio/subfirm-3769-dd6f-6de9-12/primary_acount_owner_id\n",
      "\u001b[1mValue: \u001b[0minvstr_bbgj93921\n",
      "\n",
      "\n",
      "\n",
      "\u001b[1mProperties Sucessfully Updated for Portfolio\u001b[0m\n",
      "\u001b[1mScope: \u001b[0m subfirm-3769-dd6f-6de9-12\n",
      "\u001b[1mCode: \u001b[0m 400250-613060229 \n",
      "\n",
      "\u001b[1mProperty key: \u001b[0mPortfolio/subfirm-3769-dd6f-6de9-12/other_account_owner_id\n",
      "\u001b[1mValue: \u001b[0mNaN\n",
      "\n",
      "\u001b[1mProperty key: \u001b[0mPortfolio/subfirm-3769-dd6f-6de9-12/household_id\n",
      "\u001b[1mValue: \u001b[0mhhd_ab3452342\n",
      "\n",
      "\u001b[1mProperty key: \u001b[0mPortfolio/subfirm-3769-dd6f-6de9-12/primary_acount_owner_id\n",
      "\u001b[1mValue: \u001b[0minvstr_a1kf37761\n",
      "\n",
      "\n",
      "\n",
      "\u001b[1mProperties Sucessfully Updated for Portfolio\u001b[0m\n",
      "\u001b[1mScope: \u001b[0m subfirm-3769-dd6f-6de9-12\n",
      "\u001b[1mCode: \u001b[0m 769231-448679901 \n",
      "\n",
      "\u001b[1mProperty key: \u001b[0mPortfolio/subfirm-3769-dd6f-6de9-12/other_account_owner_id\n",
      "\u001b[1mValue: \u001b[0mNaN\n",
      "\n",
      "\u001b[1mProperty key: \u001b[0mPortfolio/subfirm-3769-dd6f-6de9-12/household_id\n",
      "\u001b[1mValue: \u001b[0mhhd_ab3452342\n",
      "\n",
      "\u001b[1mProperty key: \u001b[0mPortfolio/subfirm-3769-dd6f-6de9-12/primary_acount_owner_id\n",
      "\u001b[1mValue: \u001b[0minvstr_7325jhv93\n",
      "\n",
      "\n",
      "\n"
     ]
    }
   ],
   "source": [
    "for index, account in accounts.iterrows():\n",
    "    response = client.portfolios.upsert_portfolio_properties(\n",
    "        scope=scope,\n",
    "        code=account['account_code'],\n",
    "        portfolio_properties={\n",
    "            'Portfolio/{}/{}'.format(scope, account_property): models.PropertyValue(\n",
    "                label_value=account[account_property]\n",
    "            ) for account_property in property_codes\n",
    "        }\n",
    "    )\n",
    "\n",
    "    # Pretty print the response \n",
    "    prettyprint.portfolio_properties_response(response)\n",
    "    print ('\\n')"
   ]
  },
  {
   "cell_type": "markdown",
   "metadata": {},
   "source": [
    "### Set the initial holdings of the portfolio"
   ]
  },
  {
   "cell_type": "code",
   "execution_count": null,
   "metadata": {},
   "outputs": [],
   "source": []
  },
  {
   "cell_type": "markdown",
   "metadata": {},
   "source": [
    "### Create a portfolio group for each household"
   ]
  },
  {
   "cell_type": "code",
   "execution_count": 23,
   "metadata": {},
   "outputs": [
    {
     "name": "stdout",
     "output_type": "stream",
     "text": [
      "hhd_jxgru45055\n",
      "hhd_ab3452342\n"
     ]
    }
   ],
   "source": [
    "for household in accounts['household_id'].unique():\n",
    "    \n",
    "    # Search for portfolios in this household\n",
    "    # Add them to the portfolio group"
   ]
  },
  {
   "cell_type": "markdown",
   "metadata": {},
   "source": [
    "### Load market data prices"
   ]
  },
  {
   "cell_type": "code",
   "execution_count": null,
   "metadata": {},
   "outputs": [],
   "source": []
  },
  {
   "cell_type": "markdown",
   "metadata": {},
   "source": [
    "### Conduct a valuation against each household"
   ]
  },
  {
   "cell_type": "code",
   "execution_count": null,
   "metadata": {},
   "outputs": [],
   "source": []
  }
 ],
 "metadata": {
  "kernelspec": {
   "display_name": "Python 3",
   "language": "python",
   "name": "python3"
  },
  "language_info": {
   "codemirror_mode": {
    "name": "ipython",
    "version": 3
   },
   "file_extension": ".py",
   "mimetype": "text/x-python",
   "name": "python",
   "nbconvert_exporter": "python",
   "pygments_lexer": "ipython3",
   "version": "3.6.6"
  }
 },
 "nbformat": 4,
 "nbformat_minor": 2
}
