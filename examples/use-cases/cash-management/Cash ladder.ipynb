{
 "cells": [
  {
   "cell_type": "code",
   "execution_count": 1,
   "id": "451a6d12",
   "metadata": {},
   "outputs": [
    {
     "data": {
      "text/html": [
       "\n",
       "    <form action=\"javascript:code_toggle()\"><input type=\"submit\" id=\"toggleButton\" value=\"Toggle Docstring\"></form>\n",
       "    \n",
       "         <script>\n",
       "         function code_toggle() {\n",
       "             if ($('div.cell.code_cell.rendered.selected div.input').css('display')!='none'){\n",
       "                 $('div.cell.code_cell.rendered.selected div.input').hide();\n",
       "             } else {\n",
       "                 $('div.cell.code_cell.rendered.selected div.input').show();\n",
       "             }\n",
       "         }\n",
       "         </script>\n",
       "\n",
       "     "
      ],
      "text/plain": [
       "<IPython.core.display.HTML object>"
      ]
     },
     "metadata": {},
     "output_type": "display_data"
    }
   ],
   "source": [
    "from lusidtools.jupyter_tools import toggle_code\n",
    "\n",
    "\"\"\"Cash ladder\n",
    "\n",
    "Demonstration of how to compute a cash ladder for a portfolio.\n",
    "\n",
    "Attributes\n",
    "----------\n",
    "bucketed cashflow\n",
    "cash\n",
    "cash ladder\n",
    "\"\"\"\n",
    "\n",
    "toggle_code(\"Toggle Docstring\")"
   ]
  },
  {
   "cell_type": "markdown",
   "id": "4109e939",
   "metadata": {},
   "source": [
    "# Cash Ladder"
   ]
  },
  {
   "cell_type": "markdown",
   "id": "6963cda3",
   "metadata": {},
   "source": [
    "In this notebook, we demonstrate how users can create a cash ladder with LUSID. For the purposes of this notebook, we will first upsert a portfolio and some example transactions. Then we will use bucketed cashflows to create a cash ladder. This will help us understand how those transactions have affected our balance over time.\n",
    "\n",
    "For the purposes of demonstation it is assumed that the current timestamp is 02/04/2020 00:00:00.  This means that there is no data uploaded to LUSID with an effective date after this point (it would be in the \"future\")."
   ]
  },
  {
   "cell_type": "markdown",
   "id": "31fc8a7e",
   "metadata": {},
   "source": [
    "## Setup LUSID"
   ]
  },
  {
   "cell_type": "markdown",
   "id": "3fb5aa36",
   "metadata": {},
   "source": [
    "We start by importing relevant libraries, authenticating our user, and creating our API client."
   ]
  },
  {
   "cell_type": "code",
   "execution_count": 2,
   "id": "5dea4178",
   "metadata": {},
   "outputs": [
    {
     "name": "stdout",
     "output_type": "stream",
     "text": [
      "LUSID Environment : https://steco.lusid.com/\n"
     ]
    }
   ],
   "source": [
    "# Import general purpose packages\n",
    "import os\n",
    "import json\n",
    "import pandas as pd\n",
    "import numpy as np\n",
    "import pytz\n",
    "import warnings\n",
    "from datetime import datetime, timedelta\n",
    "from IPython.display import display\n",
    "from IPython.core.display import HTML\n",
    "\n",
    "# Import lusid specific packages\n",
    "import lusid\n",
    "import lusid.models as models\n",
    "from lusid.utilities import ApiClientFactory\n",
    "from lusidjam.refreshing_token import RefreshingToken\n",
    "from lusidtools.cocoon.seed_sample_data import seed_data\n",
    "\n",
    "# Configure notebook warnings and pandas display\n",
    "warnings.filterwarnings(\"ignore\")\n",
    "pd.set_option(\"display.max_columns\", None)\n",
    "\n",
    "# Authenticate our user and create our API client\n",
    "secrets_path = os.getenv(\"FBN_SECRETS_PATH\")\n",
    "\n",
    "api_factory = lusid.utilities.ApiClientFactory(\n",
    "    token=RefreshingToken(),\n",
    "    api_secrets_filename=secrets_path,\n",
    "    app_name=\"LusidJupyterNotebook\",\n",
    ")\n",
    "api_url = api_factory.api_client.configuration._base_path.replace(\"api\",\"\")\n",
    "print ('LUSID Environment :', api_url)"
   ]
  },
  {
   "cell_type": "code",
   "execution_count": 3,
   "id": "f075ccca-6519-4fa8-b1a1-02540058a731",
   "metadata": {},
   "outputs": [],
   "source": [
    "# Define the relevant APIs we will use\n",
    "transaction_portfolio_api = api_factory.build(\n",
    "    lusid.api.TransactionPortfoliosApi)\n",
    "quotes_api = api_factory.build(lusid.api.QuotesApi)\n",
    "configuration_recipe_api = api_factory.build(lusid.api.ConfigurationRecipeApi)\n",
    "portfolios_api = api_factory.build(lusid.api.PortfoliosApi)"
   ]
  },
  {
   "cell_type": "markdown",
   "id": "3c21321c",
   "metadata": {},
   "source": [
    "## 1. Prepare & Setup Data "
   ]
  },
  {
   "cell_type": "markdown",
   "id": "38375620",
   "metadata": {},
   "source": [
    "In this notebook, we have a portfolio called EQUITY_FUND."
   ]
  },
  {
   "cell_type": "code",
   "execution_count": 4,
   "id": "ff3c4443-7c25-48ea-bcf2-4f96ab3e0288",
   "metadata": {},
   "outputs": [],
   "source": [
    "# Portfolio scope and code\n",
    "scope = \"cash-ladder-001\"\n",
    "portfolio_code = \"EQUITY_FUND\""
   ]
  },
  {
   "cell_type": "code",
   "execution_count": 5,
   "id": "fb71080c",
   "metadata": {},
   "outputs": [],
   "source": [
    "# Load a mapping file for loading data\n",
    "with open(\"config/cash_ladder_seed_data.json\", \"r\") as seed_data_config:\n",
    "    mapping_file = json.loads(seed_data_config.read())\n",
    "\n",
    "# Load a file of equity transactions\n",
    "transactions_file = r\"data/cash_ladder.csv\"\n",
    "transactions_df = pd.read_csv(transactions_file)\n",
    "transactions_df[\"portfolio_code\"] = portfolio_code\n",
    "\n",
    "# Load portfolios, instruments, and transactions\n",
    "seed_data_response = seed_data(\n",
    "    api_factory=api_factory,\n",
    "    domains=[\"portfolios\", \"instruments\", \"transactions\"],\n",
    "    scope=scope,\n",
    "    transaction_file=transactions_file,\n",
    "    file_type=\"csv\",\n",
    "    mappings=mapping_file\n",
    ")"
   ]
  },
  {
   "cell_type": "markdown",
   "id": "320369f2",
   "metadata": {},
   "source": [
    "## 2. Upload Quote Data"
   ]
  },
  {
   "cell_type": "markdown",
   "id": "aff39a26",
   "metadata": {
    "scrolled": false
   },
   "source": [
    "We will load in some quotes for our equity instruments."
   ]
  },
  {
   "cell_type": "code",
   "execution_count": 6,
   "id": "ca859f4d",
   "metadata": {
    "scrolled": true
   },
   "outputs": [
    {
     "data": {
      "text/html": [
       "<div>\n",
       "<style scoped>\n",
       "    .dataframe tbody tr th:only-of-type {\n",
       "        vertical-align: middle;\n",
       "    }\n",
       "\n",
       "    .dataframe tbody tr th {\n",
       "        vertical-align: top;\n",
       "    }\n",
       "\n",
       "    .dataframe thead th {\n",
       "        text-align: right;\n",
       "    }\n",
       "</style>\n",
       "<table border=\"1\" class=\"dataframe\">\n",
       "  <thead>\n",
       "    <tr style=\"text-align: right;\">\n",
       "      <th></th>\n",
       "      <th>instrument_id</th>\n",
       "      <th>instrument_name</th>\n",
       "      <th>date</th>\n",
       "      <th>price</th>\n",
       "      <th>currency</th>\n",
       "    </tr>\n",
       "  </thead>\n",
       "  <tbody>\n",
       "    <tr>\n",
       "      <th>0</th>\n",
       "      <td>EQ_GB001</td>\n",
       "      <td>vodafone</td>\n",
       "      <td>29/03/2020</td>\n",
       "      <td>114.60</td>\n",
       "      <td>GBP</td>\n",
       "    </tr>\n",
       "    <tr>\n",
       "      <th>1</th>\n",
       "      <td>EQ_GB001</td>\n",
       "      <td>vodafone</td>\n",
       "      <td>30/03/2020</td>\n",
       "      <td>114.50</td>\n",
       "      <td>GBP</td>\n",
       "    </tr>\n",
       "    <tr>\n",
       "      <th>2</th>\n",
       "      <td>EQ_GB001</td>\n",
       "      <td>vodafone</td>\n",
       "      <td>31/03/2020</td>\n",
       "      <td>118.54</td>\n",
       "      <td>GBP</td>\n",
       "    </tr>\n",
       "    <tr>\n",
       "      <th>3</th>\n",
       "      <td>EQ_GB001</td>\n",
       "      <td>vodafone</td>\n",
       "      <td>01/04/2020</td>\n",
       "      <td>117.64</td>\n",
       "      <td>GBP</td>\n",
       "    </tr>\n",
       "    <tr>\n",
       "      <th>4</th>\n",
       "      <td>EQ_GB002</td>\n",
       "      <td>Anglo American plc</td>\n",
       "      <td>29/03/2020</td>\n",
       "      <td>1816.40</td>\n",
       "      <td>GBP</td>\n",
       "    </tr>\n",
       "  </tbody>\n",
       "</table>\n",
       "</div>"
      ],
      "text/plain": [
       "  instrument_id     instrument_name        date    price currency\n",
       "0      EQ_GB001            vodafone  29/03/2020   114.60      GBP\n",
       "1      EQ_GB001            vodafone  30/03/2020   114.50      GBP\n",
       "2      EQ_GB001            vodafone  31/03/2020   118.54      GBP\n",
       "3      EQ_GB001            vodafone  01/04/2020   117.64      GBP\n",
       "4      EQ_GB002  Anglo American plc  29/03/2020  1816.40      GBP"
      ]
     },
     "execution_count": 6,
     "metadata": {},
     "output_type": "execute_result"
    }
   ],
   "source": [
    "equity_prices = pd.read_csv(\"data/equity_quotes.csv\")\n",
    "equity_prices.head(n=5)"
   ]
  },
  {
   "cell_type": "markdown",
   "id": "170a751e",
   "metadata": {},
   "source": [
    "We will then upsert these quotes to LUSID."
   ]
  },
  {
   "cell_type": "code",
   "execution_count": 7,
   "id": "5ae7f41e",
   "metadata": {},
   "outputs": [
    {
     "name": "stdout",
     "output_type": "stream",
     "text": [
      "Quotes successfully loaded into LUSID. 12 quotes loaded.\n"
     ]
    }
   ],
   "source": [
    "# Iterate through our dataframe and add each quote to an UpsertQuoteRequest\n",
    "instrument_quotes = {\n",
    "    index: models.UpsertQuoteRequest(\n",
    "        quote_id=models.QuoteId(\n",
    "            quote_series_id=models.QuoteSeriesId(\n",
    "                provider=\"Lusid\",\n",
    "                instrument_id=row[\"instrument_id\"],\n",
    "                instrument_id_type=\"ClientInternal\",\n",
    "                quote_type=\"Price\",\n",
    "                field=\"mid\",\n",
    "            ),\n",
    "            effective_at=str(datetime.strptime(\n",
    "                row['date'], '%d/%m/%Y').date()),\n",
    "        ),\n",
    "        metric_value=models.MetricValue(\n",
    "            value=row['price'], unit=row['currency']),\n",
    "        scale_factor=100,\n",
    "    )\n",
    "    for index, row in equity_prices.iterrows()\n",
    "}\n",
    "\n",
    "# Upsert the quotes\n",
    "response = quotes_api.upsert_quotes(\n",
    "    scope=scope, request_body=instrument_quotes)\n",
    "\n",
    "if response.failed == {}:\n",
    "    print(\n",
    "        f\"Quotes successfully loaded into LUSID. {len(response.values)} quotes loaded.\")\n",
    "else:\n",
    "    print(\n",
    "        f\"Some failures occurred during quote upsertion, {len(response.failed)} did not get loaded into LUSID.\")"
   ]
  },
  {
   "cell_type": "markdown",
   "id": "561771dc",
   "metadata": {},
   "source": [
    "## 3. Upsert Configuration Recipe"
   ]
  },
  {
   "cell_type": "markdown",
   "id": "8c85cc82",
   "metadata": {},
   "source": [
    "Create and upsert basic configuration recipe to be used for valuation."
   ]
  },
  {
   "cell_type": "code",
   "execution_count": 8,
   "id": "7befaf26",
   "metadata": {},
   "outputs": [],
   "source": [
    "# Create a configuration recipe\n",
    "configuration_recipe = models.ConfigurationRecipe(\n",
    "    scope=scope,\n",
    "    code=portfolio_code,\n",
    "\n",
    "    # Define the market rules and which quotes to use\n",
    "    market=models.MarketContext(\n",
    "        market_rules=[\n",
    "            models.MarketDataKeyRule(\n",
    "                key=\"Quote.ClientInternal.*\",\n",
    "                supplier=\"Lusid\",\n",
    "                data_scope=scope,\n",
    "                quote_type=\"Price\",\n",
    "                field=\"mid\",\n",
    "                quote_interval=\"2D.0D\",\n",
    "            )\n",
    "        ],\n",
    "        options=models.MarketOptions(\n",
    "            default_supplier=\"Lusid\",\n",
    "            default_instrument_code_type=\"ClientInternal\",\n",
    "            default_scope=scope,\n",
    "        )\n",
    "    )\n",
    ")\n",
    "\n",
    "# Upsert the recipe to LUSID\n",
    "config_recipe_response = (\n",
    "    configuration_recipe_api.upsert_configuration_recipe(\n",
    "        upsert_recipe_request=models.UpsertRecipeRequest(\n",
    "            configuration_recipe=configuration_recipe\n",
    "        )\n",
    "    )\n",
    ")"
   ]
  },
  {
   "cell_type": "markdown",
   "id": "1386acca",
   "metadata": {},
   "source": [
    "## 4. Produce Cash Ladder"
   ]
  },
  {
   "cell_type": "markdown",
   "id": "cee5d212",
   "metadata": {},
   "source": [
    "### 4.1 Get Bucketed Cash Flows"
   ]
  },
  {
   "cell_type": "markdown",
   "id": "8aa42d50",
   "metadata": {},
   "source": [
    "We will use the `GetBucketedCashFlows` API endpoint to acquire the data for our cash ladder. This aggregates a transaction portfolio's instruments by date."
   ]
  },
  {
   "cell_type": "code",
   "execution_count": 9,
   "id": "de89204f",
   "metadata": {
    "code_folding": [],
    "scrolled": true
   },
   "outputs": [],
   "source": [
    "# Set the star and end dates for our cash ladder\n",
    "start_date = datetime(year=2020, month=4, day=2, tzinfo=pytz.UTC)\n",
    "end_date = datetime(year=2020, month=4, day=10, tzinfo=pytz.UTC)\n",
    "\n",
    "# Create a string with the current time\n",
    "time_now = datetime.now().strftime(\"%H:%M:%S\")\n",
    "\n",
    "# Create a request to get the bucketed cashflows\n",
    "bucket_response = transaction_portfolio_api.get_bucketed_cash_flows(\n",
    "    scope=scope,\n",
    "    code=portfolio_code,\n",
    "\n",
    "    bucketed_cash_flow_request=models.BucketedCashFlowRequest(\n",
    "        # When bucketing, there is not a unique way to allocate the bucket points. Supported options are: [RoundDown, RoundUp]\n",
    "        # See API documentation for reference: https://www.lusid.com/docs/api/#operation/GetBucketedCashFlows\n",
    "        rounding_method=\"RoundDown\",\n",
    "\n",
    "        # List every day between our start and end dates\n",
    "        bucketing_dates=[\n",
    "            start_date + timedelta(days=x) for x in range((end_date - start_date).days)\n",
    "        ],\n",
    "\n",
    "        # Set the valuation recipe\n",
    "        recipe_id=models.ResourceId(\n",
    "            scope=scope,\n",
    "            code=portfolio_code,\n",
    "        ),\n",
    "\n",
    "        # Group by date and currency\n",
    "        group_by=[\"Valuation/CashFlowDate/RoundDown\",\n",
    "                  \"Valuation/CashFlowCurrency\"],\n",
    "\n",
    "        # Add several address for more information\n",
    "        addresses=[\n",
    "            \"Valuation/CashFlowAmount\", \"Valuation/OpenBalance\", \"Valuation/CloseBalance\", \"Valuation/ActivityType\", \"Valuation/Movements\"\n",
    "        ],\n",
    "\n",
    "        # Set effective date, cash flow type, and start window\n",
    "        effective_at=start_date,\n",
    "        cash_flow_type=\"PortfolioCashFlow\"\n",
    "    )\n",
    ")"
   ]
  },
  {
   "cell_type": "markdown",
   "id": "6ac76f3d",
   "metadata": {},
   "source": [
    "### 4.2 Build Cash Ladder"
   ]
  },
  {
   "cell_type": "markdown",
   "id": "66b3c877",
   "metadata": {},
   "source": [
    "Now we have our bucketed cashflows, we will extract the cash impacts and create our cash ladder."
   ]
  },
  {
   "cell_type": "markdown",
   "id": "6e9a48dc",
   "metadata": {},
   "source": [
    "#### Data Preprocessing"
   ]
  },
  {
   "cell_type": "markdown",
   "id": "5833d42a",
   "metadata": {},
   "source": [
    "First we need to extract the relevant information from the response."
   ]
  },
  {
   "cell_type": "code",
   "execution_count": 10,
   "id": "ca708029",
   "metadata": {},
   "outputs": [],
   "source": [
    "# Mapping function used to extract value and unit pairs from a 0D column\n",
    "def format_result0D_column(values: pd.Series):\n",
    "    return [(x['value'], x[\"units\"]) for x in values]\n",
    "\n",
    "\n",
    "# Convert the response to a pandas dataframe\n",
    "data = pd.DataFrame.from_records(np.array(bucket_response.data))\n",
    "\n",
    "# Use the mapping function to format CashFlowAmount\n",
    "data[\"Append(Valuation/CashFlowAmount)\"] = data[\"Append(Valuation/CashFlowAmount)\"].map(format_result0D_column)\n",
    "\n",
    "# Group rows by currency\n",
    "data = data.groupby([\"Valuation/CashFlowCurrency\"], sort=False)\n",
    "\n",
    "# Define function to convert a dataframe row to a record\n",
    "\n",
    "\n",
    "def to_record(row):\n",
    "\n",
    "    # We make use of the CashLadderRecord model\n",
    "    return models.CashLadderRecord(\n",
    "        effective_date=pd.to_datetime(row[\"Valuation/CashFlowDate/RoundDown\"]),\n",
    "        open=row[\"Valuation/OpenBalance\"],\n",
    "        close=row[\"Valuation/CloseBalance\"],\n",
    "        activities=list(zip(row[\"Append(Valuation/Movements)\"],\n",
    "                        row[\"Append(Valuation/CashFlowAmount)\"])),\n",
    "    )"
   ]
  },
  {
   "cell_type": "markdown",
   "id": "afac5e4a",
   "metadata": {},
   "source": [
    "#### Constructing Cash Ladders"
   ]
  },
  {
   "cell_type": "markdown",
   "id": "f803b568",
   "metadata": {},
   "source": [
    "Now we can construct and view the cash ladder for each currency with available quote data. In this case, we have two available: GBP and USD."
   ]
  },
  {
   "cell_type": "code",
   "execution_count": 11,
   "id": "51cb4717",
   "metadata": {},
   "outputs": [
    {
     "name": "stdout",
     "output_type": "stream",
     "text": [
      "Cash ladder for currency USD:\n"
     ]
    },
    {
     "data": {
      "text/html": [
       "<div>\n",
       "<style scoped>\n",
       "    .dataframe tbody tr th:only-of-type {\n",
       "        vertical-align: middle;\n",
       "    }\n",
       "\n",
       "    .dataframe tbody tr th {\n",
       "        vertical-align: top;\n",
       "    }\n",
       "\n",
       "    .dataframe thead th {\n",
       "        text-align: right;\n",
       "    }\n",
       "</style>\n",
       "<table border=\"1\" class=\"dataframe\">\n",
       "  <thead>\n",
       "    <tr style=\"text-align: right;\">\n",
       "      <th></th>\n",
       "      <th></th>\n",
       "      <th>ReportRunTime</th>\n",
       "      <th>Currency</th>\n",
       "      <th>CashLadderStatus</th>\n",
       "      <th>CashImpact</th>\n",
       "    </tr>\n",
       "    <tr>\n",
       "      <th>SettlementDate</th>\n",
       "      <th>Portfolio</th>\n",
       "      <th></th>\n",
       "      <th></th>\n",
       "      <th></th>\n",
       "      <th></th>\n",
       "    </tr>\n",
       "  </thead>\n",
       "  <tbody>\n",
       "    <tr>\n",
       "      <th rowspan=\"4\" valign=\"top\">2020-04-03</th>\n",
       "      <th>EQUITY_FUND</th>\n",
       "      <td>14:28:56</td>\n",
       "      <td>USD</td>\n",
       "      <td>Open Balance</td>\n",
       "      <td>17000000.0</td>\n",
       "    </tr>\n",
       "    <tr>\n",
       "      <th>EQUITY_FUND</th>\n",
       "      <td>14:28:56</td>\n",
       "      <td>USD</td>\n",
       "      <td>Cash impact from Side2</td>\n",
       "      <td>1800000.0</td>\n",
       "    </tr>\n",
       "    <tr>\n",
       "      <th>EQUITY_FUND</th>\n",
       "      <td>14:28:56</td>\n",
       "      <td>USD</td>\n",
       "      <td>Cash impact from Side1</td>\n",
       "      <td>-2000000.0</td>\n",
       "    </tr>\n",
       "    <tr>\n",
       "      <th>EQUITY_FUND</th>\n",
       "      <td>14:28:56</td>\n",
       "      <td>USD</td>\n",
       "      <td>Closed Balance</td>\n",
       "      <td>16800000.0</td>\n",
       "    </tr>\n",
       "    <tr>\n",
       "      <th rowspan=\"3\" valign=\"top\">2020-04-04</th>\n",
       "      <th>EQUITY_FUND</th>\n",
       "      <td>14:28:56</td>\n",
       "      <td>USD</td>\n",
       "      <td>Open Balance</td>\n",
       "      <td>16800000.0</td>\n",
       "    </tr>\n",
       "    <tr>\n",
       "      <th>EQUITY_FUND</th>\n",
       "      <td>14:28:56</td>\n",
       "      <td>USD</td>\n",
       "      <td>Cash impact from Side2</td>\n",
       "      <td>-3000000.0</td>\n",
       "    </tr>\n",
       "    <tr>\n",
       "      <th>EQUITY_FUND</th>\n",
       "      <td>14:28:56</td>\n",
       "      <td>USD</td>\n",
       "      <td>Closed Balance</td>\n",
       "      <td>13800000.0</td>\n",
       "    </tr>\n",
       "  </tbody>\n",
       "</table>\n",
       "</div>"
      ],
      "text/plain": [
       "                           ReportRunTime Currency        CashLadderStatus  \\\n",
       "SettlementDate Portfolio                                                    \n",
       "2020-04-03     EQUITY_FUND      14:28:56      USD            Open Balance   \n",
       "               EQUITY_FUND      14:28:56      USD  Cash impact from Side2   \n",
       "               EQUITY_FUND      14:28:56      USD  Cash impact from Side1   \n",
       "               EQUITY_FUND      14:28:56      USD          Closed Balance   \n",
       "2020-04-04     EQUITY_FUND      14:28:56      USD            Open Balance   \n",
       "               EQUITY_FUND      14:28:56      USD  Cash impact from Side2   \n",
       "               EQUITY_FUND      14:28:56      USD          Closed Balance   \n",
       "\n",
       "                            CashImpact  \n",
       "SettlementDate Portfolio                \n",
       "2020-04-03     EQUITY_FUND  17000000.0  \n",
       "               EQUITY_FUND   1800000.0  \n",
       "               EQUITY_FUND  -2000000.0  \n",
       "               EQUITY_FUND  16800000.0  \n",
       "2020-04-04     EQUITY_FUND  16800000.0  \n",
       "               EQUITY_FUND  -3000000.0  \n",
       "               EQUITY_FUND  13800000.0  "
      ]
     },
     "metadata": {},
     "output_type": "display_data"
    },
    {
     "name": "stdout",
     "output_type": "stream",
     "text": [
      "Cash ladder for currency GBP:\n"
     ]
    },
    {
     "data": {
      "text/html": [
       "<div>\n",
       "<style scoped>\n",
       "    .dataframe tbody tr th:only-of-type {\n",
       "        vertical-align: middle;\n",
       "    }\n",
       "\n",
       "    .dataframe tbody tr th {\n",
       "        vertical-align: top;\n",
       "    }\n",
       "\n",
       "    .dataframe thead th {\n",
       "        text-align: right;\n",
       "    }\n",
       "</style>\n",
       "<table border=\"1\" class=\"dataframe\">\n",
       "  <thead>\n",
       "    <tr style=\"text-align: right;\">\n",
       "      <th></th>\n",
       "      <th></th>\n",
       "      <th>ReportRunTime</th>\n",
       "      <th>Currency</th>\n",
       "      <th>CashLadderStatus</th>\n",
       "      <th>CashImpact</th>\n",
       "    </tr>\n",
       "    <tr>\n",
       "      <th>SettlementDate</th>\n",
       "      <th>Portfolio</th>\n",
       "      <th></th>\n",
       "      <th></th>\n",
       "      <th></th>\n",
       "      <th></th>\n",
       "    </tr>\n",
       "  </thead>\n",
       "  <tbody>\n",
       "    <tr>\n",
       "      <th rowspan=\"4\" valign=\"top\">2020-04-03</th>\n",
       "      <th>EQUITY_FUND</th>\n",
       "      <td>14:28:56</td>\n",
       "      <td>GBP</td>\n",
       "      <td>Open Balance</td>\n",
       "      <td>10300000.0</td>\n",
       "    </tr>\n",
       "    <tr>\n",
       "      <th>EQUITY_FUND</th>\n",
       "      <td>14:28:56</td>\n",
       "      <td>GBP</td>\n",
       "      <td>Cash impact from Side2</td>\n",
       "      <td>-6900000.0</td>\n",
       "    </tr>\n",
       "    <tr>\n",
       "      <th>EQUITY_FUND</th>\n",
       "      <td>14:28:56</td>\n",
       "      <td>GBP</td>\n",
       "      <td>Cash impact from Side1</td>\n",
       "      <td>-1000000.0</td>\n",
       "    </tr>\n",
       "    <tr>\n",
       "      <th>EQUITY_FUND</th>\n",
       "      <td>14:28:56</td>\n",
       "      <td>GBP</td>\n",
       "      <td>Closed Balance</td>\n",
       "      <td>2400000.0</td>\n",
       "    </tr>\n",
       "    <tr>\n",
       "      <th rowspan=\"3\" valign=\"top\">2020-04-04</th>\n",
       "      <th>EQUITY_FUND</th>\n",
       "      <td>14:28:56</td>\n",
       "      <td>GBP</td>\n",
       "      <td>Open Balance</td>\n",
       "      <td>2400000.0</td>\n",
       "    </tr>\n",
       "    <tr>\n",
       "      <th>EQUITY_FUND</th>\n",
       "      <td>14:28:56</td>\n",
       "      <td>GBP</td>\n",
       "      <td>Cash impact from Side1</td>\n",
       "      <td>1000000.0</td>\n",
       "    </tr>\n",
       "    <tr>\n",
       "      <th>EQUITY_FUND</th>\n",
       "      <td>14:28:56</td>\n",
       "      <td>GBP</td>\n",
       "      <td>Closed Balance</td>\n",
       "      <td>3400000.0</td>\n",
       "    </tr>\n",
       "    <tr>\n",
       "      <th rowspan=\"3\" valign=\"top\">2020-04-05</th>\n",
       "      <th>EQUITY_FUND</th>\n",
       "      <td>14:28:56</td>\n",
       "      <td>GBP</td>\n",
       "      <td>Open Balance</td>\n",
       "      <td>3400000.0</td>\n",
       "    </tr>\n",
       "    <tr>\n",
       "      <th>EQUITY_FUND</th>\n",
       "      <td>14:28:56</td>\n",
       "      <td>GBP</td>\n",
       "      <td>Cash impact from Side1</td>\n",
       "      <td>3000000.0</td>\n",
       "    </tr>\n",
       "    <tr>\n",
       "      <th>EQUITY_FUND</th>\n",
       "      <td>14:28:56</td>\n",
       "      <td>GBP</td>\n",
       "      <td>Closed Balance</td>\n",
       "      <td>6400000.0</td>\n",
       "    </tr>\n",
       "    <tr>\n",
       "      <th rowspan=\"3\" valign=\"top\">2020-04-06</th>\n",
       "      <th>EQUITY_FUND</th>\n",
       "      <td>14:28:56</td>\n",
       "      <td>GBP</td>\n",
       "      <td>Open Balance</td>\n",
       "      <td>6400000.0</td>\n",
       "    </tr>\n",
       "    <tr>\n",
       "      <th>EQUITY_FUND</th>\n",
       "      <td>14:28:56</td>\n",
       "      <td>GBP</td>\n",
       "      <td>Cash impact from Side1</td>\n",
       "      <td>20000000.0</td>\n",
       "    </tr>\n",
       "    <tr>\n",
       "      <th>EQUITY_FUND</th>\n",
       "      <td>14:28:56</td>\n",
       "      <td>GBP</td>\n",
       "      <td>Closed Balance</td>\n",
       "      <td>26400000.0</td>\n",
       "    </tr>\n",
       "  </tbody>\n",
       "</table>\n",
       "</div>"
      ],
      "text/plain": [
       "                           ReportRunTime Currency        CashLadderStatus  \\\n",
       "SettlementDate Portfolio                                                    \n",
       "2020-04-03     EQUITY_FUND      14:28:56      GBP            Open Balance   \n",
       "               EQUITY_FUND      14:28:56      GBP  Cash impact from Side2   \n",
       "               EQUITY_FUND      14:28:56      GBP  Cash impact from Side1   \n",
       "               EQUITY_FUND      14:28:56      GBP          Closed Balance   \n",
       "2020-04-04     EQUITY_FUND      14:28:56      GBP            Open Balance   \n",
       "               EQUITY_FUND      14:28:56      GBP  Cash impact from Side1   \n",
       "               EQUITY_FUND      14:28:56      GBP          Closed Balance   \n",
       "2020-04-05     EQUITY_FUND      14:28:56      GBP            Open Balance   \n",
       "               EQUITY_FUND      14:28:56      GBP  Cash impact from Side1   \n",
       "               EQUITY_FUND      14:28:56      GBP          Closed Balance   \n",
       "2020-04-06     EQUITY_FUND      14:28:56      GBP            Open Balance   \n",
       "               EQUITY_FUND      14:28:56      GBP  Cash impact from Side1   \n",
       "               EQUITY_FUND      14:28:56      GBP          Closed Balance   \n",
       "\n",
       "                            CashImpact  \n",
       "SettlementDate Portfolio                \n",
       "2020-04-03     EQUITY_FUND  10300000.0  \n",
       "               EQUITY_FUND  -6900000.0  \n",
       "               EQUITY_FUND  -1000000.0  \n",
       "               EQUITY_FUND   2400000.0  \n",
       "2020-04-04     EQUITY_FUND   2400000.0  \n",
       "               EQUITY_FUND   1000000.0  \n",
       "               EQUITY_FUND   3400000.0  \n",
       "2020-04-05     EQUITY_FUND   3400000.0  \n",
       "               EQUITY_FUND   3000000.0  \n",
       "               EQUITY_FUND   6400000.0  \n",
       "2020-04-06     EQUITY_FUND   6400000.0  \n",
       "               EQUITY_FUND  20000000.0  \n",
       "               EQUITY_FUND  26400000.0  "
      ]
     },
     "metadata": {},
     "output_type": "display_data"
    }
   ],
   "source": [
    "# Iterate through each dataframe group (i.e. currency)\n",
    "for (key, df) in data:\n",
    "\n",
    "    currency = key[0]\n",
    "    print(f\"Cash ladder for currency {currency}:\")\n",
    "\n",
    "    # Create a new dataframe for each cash ladder\n",
    "    ladder = pd.DataFrame(columns=[\"ReportRunTime\", \"SettlementDate\",\n",
    "                          \"Currency\", \"Portfolio\", \"CashLadderStatus\", \"CashImpact\"])\n",
    "\n",
    "    # Iterate through each cash row in our dataframe\n",
    "    for _, row in df.iterrows():\n",
    "        if row[\"Valuation/ActivityType\"] != \"Activity\":\n",
    "            continue\n",
    "        # Convert the row to a CashLadderRecord\n",
    "        record = to_record(row)\n",
    "\n",
    "        # Create a new row for our SOD balance\n",
    "        ladder.loc[len(ladder)] = {\n",
    "            \"ReportRunTime\": time_now,\n",
    "            \"SettlementDate\": record.effective_date.strftime(\"%Y-%m-%d\"),\n",
    "            \"Currency\": currency,\n",
    "            \"Portfolio\": portfolio_code,\n",
    "            \"CashLadderStatus\": \"Open Balance\",\n",
    "            \"CashImpact\": record.open\n",
    "        }\n",
    "\n",
    "        # Iterate through each activity\n",
    "        for item in record.activities:\n",
    "            if item[0] != \"Closed\" and item[0] != \"Open\":\n",
    "\n",
    "                # Create a new row for each cash impact\n",
    "                ladder.loc[len(ladder)] = {\n",
    "                    \"ReportRunTime\": time_now,\n",
    "                    \"SettlementDate\": record.effective_date.strftime(\"%Y-%m-%d\"),\n",
    "                    \"Currency\": item[1][1][1:4],\n",
    "                    \"Portfolio\": portfolio_code,\n",
    "                    \"CashLadderStatus\": f\"Cash impact from {item[0]}\",\n",
    "                    \"CashImpact\": item[1][0]\n",
    "                }\n",
    "\n",
    "        # Create a new row for our EOD balance\n",
    "        ladder.loc[len(ladder)] = {\n",
    "            \"ReportRunTime\": time_now,\n",
    "            \"SettlementDate\": record.effective_date.strftime(\"%Y-%m-%d\"),\n",
    "            \"Currency\": currency,\n",
    "            \"Portfolio\": portfolio_code,\n",
    "            \"CashLadderStatus\": \"Closed Balance\",\n",
    "            \"CashImpact\": record.close\n",
    "        }\n",
    "\n",
    "    # Display the cash ladder for this currency\n",
    "    display(ladder.set_index(['SettlementDate', 'Portfolio']))"
   ]
  },
  {
   "cell_type": "code",
   "execution_count": null,
   "id": "78d21152-c71e-4d1e-b33f-8926400d6ae9",
   "metadata": {},
   "outputs": [],
   "source": [
    "display(HTML('<h2>5. Links</h2>'))\n",
    "\n",
    "display(HTML(f'<a href=\"{api_url}app/dashboard/transactions?scope=cash-ladder-001&code=EQUITY_FUND&entityType=Portfolio&effectiveDate=2023-10-17T16:03:24.218Z&dateFrom=2000-01-01T00:00:00.000Z&dateTo=2023-10-17T16:03:24.218Z&taxLots=false&withOrders=false&withAllocations=false&dashboardType=input&showNonActiveTransactions=false\" target=\"_blank\">Transactions</a>'))\n",
    "\n",
    "display(HTML(f'<a href=\"{api_url}app/dashboard/cash-ladder?scope=cash-ladder-001&code=EQUITY_FUND&entityType=Portfolio&recipeScope=cash-ladder-001&recipeCode=EQUITY_FUND&effectiveDate=2020-04-01T23:01:00.000Z&fromDate=2020-04-01T23:00:00.000Z&toDate=2023-10-31T23:59:59.999Z&allDates=false\" target=\"_blank\">Cash Ladder</a>'))"
   ]
  }
 ],
 "metadata": {
  "kernelspec": {
   "display_name": "Python 3 (ipykernel)",
   "language": "python",
   "name": "python3"
  },
  "language_info": {
   "codemirror_mode": {
    "name": "ipython",
    "version": 3
   },
   "file_extension": ".py",
   "mimetype": "text/x-python",
   "name": "python",
   "nbconvert_exporter": "python",
   "pygments_lexer": "ipython3",
   "version": "3.11.5"
  },
  "toc": {
   "base_numbering": 1,
   "nav_menu": {},
   "number_sections": false,
   "sideBar": true,
   "skip_h1_title": false,
   "title_cell": "Table of Contents",
   "title_sidebar": "Contents",
   "toc_cell": false,
   "toc_position": {},
   "toc_section_display": true,
   "toc_window_display": false
  },
  "varInspector": {
   "cols": {
    "lenName": 16,
    "lenType": 16,
    "lenVar": 40
   },
   "kernels_config": {
    "python": {
     "delete_cmd_postfix": "",
     "delete_cmd_prefix": "del ",
     "library": "var_list.py",
     "varRefreshCmd": "print(var_dic_list())"
    },
    "r": {
     "delete_cmd_postfix": ") ",
     "delete_cmd_prefix": "rm(",
     "library": "var_list.r",
     "varRefreshCmd": "cat(var_dic_list()) "
    }
   },
   "types_to_exclude": [
    "module",
    "function",
    "builtin_function_or_method",
    "instance",
    "_Feature"
   ],
   "window_display": false
  }
 },
 "nbformat": 4,
 "nbformat_minor": 5
}
