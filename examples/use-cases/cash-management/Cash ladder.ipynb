{
 "cells": [
  {
   "cell_type": "code",
   "execution_count": 1,
   "metadata": {},
   "outputs": [
    {
     "data": {
      "text/html": [
       "<script>\n",
       "code_show=true; \n",
       "function code_toggle() {\n",
       " if (code_show){\n",
       " $('div.input').hide();\n",
       " } else {\n",
       " $('div.input').show();\n",
       " }\n",
       " code_show = !code_show\n",
       "} \n",
       "$( document ).ready(code_toggle);\n",
       "</script>\n",
       "<form action=\"javascript:code_toggle()\"><input type=\"submit\" value=\"Click here to toggle on/off the raw code.\"></form>"
      ],
      "text/plain": [
       "<IPython.core.display.HTML object>"
      ]
     },
     "execution_count": 1,
     "metadata": {},
     "output_type": "execute_result"
    }
   ],
   "source": [
    "from IPython.display import HTML\n",
    "\n",
    "\"\"\"Cash ladder\n",
    "\n",
    "Demonstration of how to compute a cash ladder for a portfolio.\n",
    "\n",
    "Attributes\n",
    "----------\n",
    "cash\n",
    "\"\"\"\n",
    "\n",
    "HTML('''<script>\n",
    "code_show=true; \n",
    "function code_toggle() {\n",
    " if (code_show){\n",
    " $('div.input').hide();\n",
    " } else {\n",
    " $('div.input').show();\n",
    " }\n",
    " code_show = !code_show\n",
    "} \n",
    "$( document ).ready(code_toggle);\n",
    "</script>\n",
    "<form action=\"javascript:code_toggle()\"><input type=\"submit\" value=\"Click here to toggle on/off the raw code.\"></form>''')"
   ]
  },
  {
   "cell_type": "code",
   "execution_count": 2,
   "metadata": {},
   "outputs": [],
   "source": [
    "import warnings\n",
    "warnings.filterwarnings('ignore')"
   ]
  },
  {
   "cell_type": "code",
   "execution_count": 3,
   "metadata": {},
   "outputs": [],
   "source": [
    "# Import general purpose packages\n",
    "import os\n",
    "import json\n",
    "from datetime import datetime, timedelta\n",
    "import pytz\n",
    "from cashladder import get_cash_ladder\n",
    "#from get_cashforecast import cash_forecast\n",
    "\n",
    "# Import lusid specific packages\n",
    "import lusid\n",
    "import lusid.models as models\n",
    "from lusid.utilities import ApiClientFactory\n",
    "from lusidjam.refreshing_token import RefreshingToken\n",
    "from lusidtools.pandas_utils.lusid_pandas import lusid_response_to_data_frame\n",
    "from lusidtools.cocoon.seed_sample_data import seed_data\n",
    "from lusidtools.cocoon.utilities import create_scope_id\n",
    "import fbnsdkutilities.utilities as utils\n",
    "\n",
    "# Import data wrangling packages\n",
    "import pandas as pd\n",
    "import numpy as np\n",
    "\n",
    "pd.set_option(\"display.max_columns\", None)\n",
    "\n",
    "# Authenticate our user and create our API client\n",
    "secrets_path = os.getenv(\"FBN_SECRETS_PATH\")\n",
    "\n",
    "# Initiate an API Factory which is the client side object for interacting with LUSID APIs\n",
    "api_factory = utils.ApiClientFactory(\n",
    "    lusid,\n",
    "    token=RefreshingToken(),\n",
    "    api_secrets_filename=secrets_path,\n",
    "    app_name=\"LusidJupyterNotebook\",\n",
    ")"
   ]
  },
  {
   "cell_type": "code",
   "execution_count": 4,
   "metadata": {},
   "outputs": [],
   "source": [
    "with open(\"config/cash_ladder_seed_data.json\", \"r\") as seed_data_config:\n",
    "    mapping_file = json.loads(seed_data_config.read())\n",
    "    \n",
    "# Create a new scope\n",
    "\n",
    "scope = \"cash-ladder-001\"\n",
    "portfolio_code = \"EQUITY_FUND\"\n",
    "\n",
    "# Load a file of equity transactions\n",
    "\n",
    "transactions_file = r\"data/cash_ladder.csv\"\n",
    "transactions_df = pd.read_csv(transactions_file)\n",
    "transactions_df[\"portfolio_code\"] = portfolio_code\n",
    "\n",
    "# Load portfolios, instruments, and transactions\n",
    "\n",
    "seed_data_response = seed_data(\n",
    "    api_factory,\n",
    "    [\"portfolios\", \"instruments\", \"transactions\"],\n",
    "    scope,\n",
    "    transactions_file,\n",
    "    \"csv\",\n",
    "    mappings = mapping_file\n",
    ")"
   ]
  },
  {
   "cell_type": "markdown",
   "metadata": {},
   "source": [
    "# Enter details to run the LUSID Cashladder"
   ]
  },
  {
   "cell_type": "code",
   "execution_count": 5,
   "metadata": {},
   "outputs": [
    {
     "data": {
      "application/vnd.jupyter.widget-view+json": {
       "model_id": "8d10124be5d1478f98c573396e8b06a7",
       "version_major": 2,
       "version_minor": 0
      },
      "text/plain": [
       "Tab(children=(VBox(children=(Text(value='EQUITY_FUND', description='Portfolio:'), DatePicker(value=datetime.da…"
      ]
     },
     "execution_count": 5,
     "metadata": {},
     "output_type": "execute_result"
    }
   ],
   "source": [
    "# some handy functions to use along widgets\n",
    "from IPython.display import display, Markdown, clear_output\n",
    "# widget packages\n",
    "import ipywidgets as widgets\n",
    "\n",
    "# defining some widgets\n",
    "portfolio_text_box = widgets.Text(\n",
    "       value='EQUITY_FUND',\n",
    "       description='Portfolio:', )\n",
    "\n",
    "\n",
    "settlement_date = widgets.DatePicker(\n",
    "    value= datetime(year=2020, month=4, day=1, tzinfo=pytz.UTC),\n",
    "           description='Date:')\n",
    "\n",
    "ccy_menu = widgets.Dropdown(\n",
    "       options=['GBP', 'USD'],\n",
    "       description='Currency:')\n",
    "\n",
    "\n",
    "box = widgets.VBox([portfolio_text_box,settlement_date, ccy_menu])\n",
    "\n",
    "# defining a list with the contents of our windows\n",
    "children = [box]\n",
    "# initializing a tab\n",
    "tab = widgets.Tab()\n",
    "# setting the tab windows \n",
    "tab.children = children\n",
    "# changing the title of the first and second window\n",
    "tab.set_title(0, 'Select details:')\n",
    "tab"
   ]
  },
  {
   "cell_type": "code",
   "execution_count": 6,
   "metadata": {},
   "outputs": [
    {
     "data": {
      "application/vnd.jupyter.widget-view+json": {
       "model_id": "7821c27dd4b04b159a9aca437159a417",
       "version_major": 2,
       "version_minor": 0
      },
      "text/plain": [
       "Button(description='Cashladder', style=ButtonStyle())"
      ]
     },
     "metadata": {},
     "output_type": "display_data"
    },
    {
     "name": "stdout",
     "output_type": "stream",
     "text": [
      "You selected portfolio:  EQUITY_FUND\n",
      "You selected date:  2020-04-01 00:00:00+00:00\n",
      "You selected currency:  GBP\n"
     ]
    }
   ],
   "source": [
    "btn = widgets.Button(description='Cashladder')\n",
    "\n",
    "display(btn)\n",
    "\n",
    "def highlight_col(x):\n",
    "    #copy df to new - original data are not changed\n",
    "    df = x.copy()\n",
    "    #set by condition\n",
    "    mask = df['CashLadderStatus'] == \"SOD Balance\"\n",
    "    df.loc[mask, :] = 'color: red'\n",
    "    df.loc[~mask,:] = 'color: \"\"'\n",
    "    return df    \n",
    "\n",
    "\n",
    "def btn_eventhandler(obj):\n",
    "    \n",
    "    print(\"You selected portfolio: \", portfolio_text_box.value)\n",
    "    print(\"You selected date: \", settlement_date.value)\n",
    "    print(\"You selected currency: \", ccy_menu.value)\n",
    "    \n",
    "    df = get_cash_ladder(settlement_date.value, portfolio_text_box.value, ccy_menu.value, scope)\n",
    "    df[\"CashImpact\"] = df[\"CashImpact\"].apply(lambda x: int(x))\n",
    "    df = df.style.apply(highlight_col, axis=None)\n",
    "    \n",
    "    \n",
    "    display(df)\n",
    "    \n",
    "btn.on_click(btn_eventhandler)"
   ]
  },
  {
   "cell_type": "code",
   "execution_count": null,
   "metadata": {},
   "outputs": [],
   "source": []
  },
  {
   "cell_type": "code",
   "execution_count": null,
   "metadata": {},
   "outputs": [],
   "source": []
  }
 ],
 "metadata": {
  "kernelspec": {
   "display_name": "Python 3 (ipykernel)",
   "language": "python",
   "name": "python3"
  },
  "language_info": {
   "codemirror_mode": {
    "name": "ipython",
    "version": 3
   },
   "file_extension": ".py",
   "mimetype": "text/x-python",
   "name": "python",
   "nbconvert_exporter": "python",
   "pygments_lexer": "ipython3",
   "version": "3.10.10"
  }
 },
 "nbformat": 4,
 "nbformat_minor": 2
}
