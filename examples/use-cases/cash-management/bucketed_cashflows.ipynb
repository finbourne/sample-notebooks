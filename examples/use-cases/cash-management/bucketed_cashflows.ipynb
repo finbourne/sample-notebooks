{
 "cells": [
  {
   "cell_type": "code",
   "execution_count": 112,
   "metadata": {},
   "outputs": [
    {
     "data": {
      "text/html": [
       "<script>\n",
       "code_show=true; \n",
       "function code_toggle() {\n",
       " if (code_show){\n",
       " $('div.input').hide();\n",
       " } else {\n",
       " $('div.input').show();\n",
       " }\n",
       " code_show = !code_show\n",
       "} \n",
       "$( document ).ready(code_toggle);\n",
       "</script>\n",
       "<form action=\"javascript:code_toggle()\"><input type=\"submit\" value=\"Click here to toggle on/off the raw code.\"></form>"
      ],
      "text/plain": [
       "<IPython.core.display.HTML object>"
      ]
     },
     "execution_count": 112,
     "metadata": {},
     "output_type": "execute_result"
    }
   ],
   "source": [
    "from IPython.display import HTML\n",
    "\n",
    "\"\"\"Cash ladder\n",
    "\n",
    "Demonstration of how to compute a cash ladder for a portfolio.\n",
    "\n",
    "Attributes\n",
    "----------\n",
    "cash\n",
    "\"\"\"\n",
    "\n",
    "HTML('''<script>\n",
    "code_show=true; \n",
    "function code_toggle() {\n",
    " if (code_show){\n",
    " $('div.input').hide();\n",
    " } else {\n",
    " $('div.input').show();\n",
    " }\n",
    " code_show = !code_show\n",
    "} \n",
    "$( document ).ready(code_toggle);\n",
    "</script>\n",
    "<form action=\"javascript:code_toggle()\"><input type=\"submit\" value=\"Click here to toggle on/off the raw code.\"></form>''')"
   ]
  },
  {
   "cell_type": "code",
   "execution_count": 113,
   "metadata": {},
   "outputs": [],
   "source": [
    "import warnings\n",
    "warnings.filterwarnings('ignore')"
   ]
  },
  {
   "cell_type": "code",
   "execution_count": 114,
   "metadata": {},
   "outputs": [
    {
     "name": "stdout",
     "output_type": "stream",
     "text": [
      "/Users/peternagymathe/secrets/fbn-ci.json\n"
     ]
    }
   ],
   "source": [
    "# Import general purpose packages\n",
    "import os\n",
    "import json\n",
    "from datetime import datetime, timedelta\n",
    "import pytz\n",
    "#from get_cashforecast import cash_forecast\n",
    "\n",
    "# Import lusid specific packages\n",
    "import lusid\n",
    "import lusid.models as models\n",
    "from lusid.utilities import ApiClientFactory\n",
    "from lusidjam.refreshing_token import RefreshingToken\n",
    "from lusidtools.pandas_utils.lusid_pandas import lusid_response_to_data_frame\n",
    "from lusidtools.cocoon.seed_sample_data import seed_data\n",
    "from lusidtools.cocoon.utilities import create_scope_id\n",
    "\n",
    "# Import data wrangling packages\n",
    "import pandas as pd\n",
    "import numpy as np\n",
    "\n",
    "pd.set_option(\"display.max_columns\", None)\n",
    "\n",
    "# Authenticate our user and create our API client\n",
    "secrets_path = os.getenv(\"FBN_SECRETS_PATH\")\n",
    "print(secrets_path)\n",
    "\n",
    "# Initiate an API Factory which is the client side object for interacting with LUSID APIs\n",
    "api_factory = lusid.utilities.ApiClientFactory(\n",
    "    token=RefreshingToken(),\n",
    "    api_secrets_filename=secrets_path,\n",
    "    app_name=\"LusidJupyterNotebook\",\n",
    ")"
   ]
  },
  {
   "cell_type": "code",
   "execution_count": 115,
   "metadata": {},
   "outputs": [],
   "source": [
    "## DATA\n",
    "with open(\"config/cash_ladder_seed_data.json\", \"r\") as seed_data_config:\n",
    "    mapping_file = json.loads(seed_data_config.read())\n",
    "    \n",
    "# Create a new scope\n",
    "\n",
    "scope = \"cash-ladder-001\"\n",
    "portfolio_code = \"EQUITY_FUND\"\n",
    "\n",
    "# Load a file of equity transactions\n",
    "\n",
    "transactions_file = r\"data/cash_ladder.csv\"\n",
    "transactions_df = pd.read_csv(transactions_file)\n",
    "transactions_df[\"portfolio_code\"] = portfolio_code\n",
    "\n",
    "# Load portfolios, instruments, and transactions\n",
    "\n",
    "seed_data_response = seed_data(\n",
    "    api_factory,\n",
    "    [\"portfolios\", \"instruments\", \"transactions\"],\n",
    "    scope,\n",
    "    transactions_file,\n",
    "    \"csv\",\n",
    "    mappings = mapping_file\n",
    ")"
   ]
  },
  {
   "cell_type": "code",
   "execution_count": 116,
   "metadata": {},
   "outputs": [
    {
     "name": "stdout",
     "output_type": "stream",
     "text": [
      "2020-04-01 00:00:00+00:00\n",
      "   ReportRunTime SettlementDate Currency    Portfolio  \\\n",
      "0       11:49:44     2020-04-01      GBP  EQUITY_FUND   \n",
      "1       11:49:44     2020-04-02      GBP  EQUITY_FUND   \n",
      "2       11:49:44     2020-04-02      GBP  EQUITY_FUND   \n",
      "3       11:49:44     2020-04-03      GBP  EQUITY_FUND   \n",
      "4       11:49:44     2020-04-03      GBP  EQUITY_FUND   \n",
      "5       11:49:44     2020-04-03      GBP  EQUITY_FUND   \n",
      "6       11:49:44     2020-04-03      GBP  EQUITY_FUND   \n",
      "7       11:49:44     2020-04-03      GBP  EQUITY_FUND   \n",
      "8       11:49:44     2020-04-03      GBP  EQUITY_FUND   \n",
      "9       11:49:44     2020-04-03      GBP  EQUITY_FUND   \n",
      "10      11:49:44     2020-04-03      GBP  EQUITY_FUND   \n",
      "11      11:49:44     2020-04-03      GBP  EQUITY_FUND   \n",
      "12      11:49:44     2020-04-04      GBP  EQUITY_FUND   \n",
      "13      11:49:44     2020-04-04      GBP  EQUITY_FUND   \n",
      "14      11:49:44     2020-04-04      GBP  EQUITY_FUND   \n",
      "15      11:49:44     2020-04-05      GBP  EQUITY_FUND   \n",
      "16      11:49:44     2020-04-05      GBP  EQUITY_FUND   \n",
      "17      11:49:44     2020-04-05      GBP  EQUITY_FUND   \n",
      "18      11:49:44     2020-04-06      GBP  EQUITY_FUND   \n",
      "19      11:49:44     2020-04-06      GBP  EQUITY_FUND   \n",
      "20      11:49:44     2020-04-06      GBP  EQUITY_FUND   \n",
      "\n",
      "                           CashLadderStatus      InstrumentName  CashImpact  \\\n",
      "0                               SOD Balance                      10300000.0   \n",
      "1                               SOD Balance                      10300000.0   \n",
      "2                               EOD Balance                      10300000.0   \n",
      "3                               SOD Balance                      10300000.0   \n",
      "4        Cash impact from a Buy transaction            vodafone  -1000000.0   \n",
      "5        Cash impact from a Buy transaction            vodafone  -2000000.0   \n",
      "6       Cash impact from a Sell transaction            vodafone    100000.0   \n",
      "7        Cash impact from a Buy transaction  Anglo American plc  -1000000.0   \n",
      "8        Cash impact from a Buy transaction  Anglo American plc  -3000000.0   \n",
      "9    Cash impact from a FundsIn transaction                 GBP   2000000.0   \n",
      "10  Cash impact from a FundsOut transaction                 GBP  -3000000.0   \n",
      "11                              EOD Balance                       2400000.0   \n",
      "12                              SOD Balance                       2400000.0   \n",
      "13   Cash impact from a FundsIn transaction                 GBP   1000000.0   \n",
      "14                              EOD Balance                       3400000.0   \n",
      "15                              SOD Balance                       3400000.0   \n",
      "16   Cash impact from a FundsIn transaction                 GBP   3000000.0   \n",
      "17                              EOD Balance                       6400000.0   \n",
      "18                              SOD Balance                       6400000.0   \n",
      "19   Cash impact from a FundsIn transaction                 GBP  20000000.0   \n",
      "20                              EOD Balance                      26400000.0   \n",
      "\n",
      "   TransactionId   TradeStatus  \n",
      "0                               \n",
      "1                               \n",
      "2                               \n",
      "3                               \n",
      "4        trd_001     confirmed  \n",
      "5        trd_002     confirmed  \n",
      "6        trd_003     confirmed  \n",
      "7        trd_004     confirmed  \n",
      "8        trd_005     confirmed  \n",
      "9       cash_001     confirmed  \n",
      "10      cash_003     confirmed  \n",
      "11                              \n",
      "12                              \n",
      "13       trd_006  un-confirmed  \n",
      "14                              \n",
      "15                              \n",
      "16       trd_007  un-confirmed  \n",
      "17                              \n",
      "18                              \n",
      "19      cash_007  un-confirmed  \n",
      "20                              \n"
     ]
    }
   ],
   "source": [
    "from cashladder import get_cash_ladder\n",
    "from datetime import timezone\n",
    "start_date = datetime(2020, 4, 1, tzinfo=pytz.UTC)\n",
    "print(start_date)\n",
    "cladder = get_cash_ladder(start_date, portfolio_code, \"GBP\", scope)\n",
    "print(cladder)"
   ]
  },
  {
   "attachments": {},
   "cell_type": "markdown",
   "metadata": {},
   "source": [
    "# Upserting Recipe\n",
    "\n",
    "We need to upsert a recipe to be able to use upserted quotes -> dependency"
   ]
  },
  {
   "cell_type": "code",
   "execution_count": 117,
   "metadata": {},
   "outputs": [
    {
     "name": "stdout",
     "output_type": "stream",
     "text": [
      "{'href': None,\n",
      " 'links': [{'description': 'A link to the LUSID Insights website showing all '\n",
      "                           'logs related to this request',\n",
      "            'href': 'http://fbn-ci.lusid.com/app/insights/logs/0HMO8VVRKP5OH:0000007E',\n",
      "            'method': 'GET',\n",
      "            'relation': 'RequestLogs'}],\n",
      " 'value': datetime.datetime(2023, 2, 7, 11, 49, 44, 499672, tzinfo=tzutc())}\n"
     ]
    }
   ],
   "source": [
    "from lusid.api import ConfigurationRecipeApi\n",
    "from lusid.models import configuration_recipe, market_context, market_data_key_rule, UpsertRecipeRequest, ResourceId\n",
    "configuration_api: ConfigurationRecipeApi = api_factory.build(ConfigurationRecipeApi)\n",
    "recipe_id =  ResourceId(scope, \"recipe-code-001\")\n",
    "recipe_response = configuration_api.upsert_configuration_recipe(UpsertRecipeRequest(\n",
    "  configuration_recipe = configuration_recipe.ConfigurationRecipe(\n",
    "    recipe_id.scope, \n",
    "    recipe_id.code, \n",
    "    market = market_context.MarketContext([\n",
    "      market_data_key_rule.MarketDataKeyRule(\"Quote.*.*\", \"Lusid\", scope, \"Price\", \"mid\", \"30D\"),\n",
    "      market_data_key_rule.MarketDataKeyRule(\"Quote.ClientInternal.*\", \"Lusid\", scope, \"Price\", \"mid\", \"30D\"),\n",
    "      # market_data_key_rule.MarketDataKeyRule(\"Rates.*.*\", \"Lusid\", scope, \"Price\", \"mid\", \"30D\") \n",
    "    ]))))\n",
    "print(recipe_response)\n"
   ]
  },
  {
   "attachments": {},
   "cell_type": "markdown",
   "metadata": {},
   "source": [
    "# Query raw cashflows\n",
    "Note: This will return an empty array due to not having any instrument cashflows only fund movements"
   ]
  },
  {
   "cell_type": "code",
   "execution_count": 136,
   "metadata": {},
   "outputs": [
    {
     "name": "stdout",
     "output_type": "stream",
     "text": [
      "{'href': 'https://fbn-ci.lusid.com/api/api/transactionportfolios/cash-ladder-001/EQUITY_FUND/cashflows/01%2F01%2F0001%2000%3A00%3A00%20%2B00%3A0012%2F31%2F9999%2023%3A59%3A59%20%2B00%3A00?recipeIdCode=recipe-code-001&recipeIdScope=cash-ladder-001',\n",
      " 'links': [{'description': 'A link to the LUSID Insights website showing all '\n",
      "                           'logs related to this request',\n",
      "            'href': 'http://fbn-ci.lusid.com/app/insights/logs/0HMO907Q83VBV:00000004',\n",
      "            'method': 'GET',\n",
      "            'relation': 'RequestLogs'}],\n",
      " 'next_page': None,\n",
      " 'previous_page': None,\n",
      " 'values': []}\n"
     ]
    }
   ],
   "source": [
    "from lusid.api import TransactionPortfoliosApi\n",
    "from lusid.models import QueryCashFlowsRequest, PortfolioEntityId\n",
    "transaction_portfolio_api: TransactionPortfoliosApi = api_factory.build(TransactionPortfoliosApi)\n",
    "dates = pd.to_datetime(transactions_df[\"txn_trade_date\"]).map(lambda x: x.replace(day = 1).tz_localize('UTC')).map(lambda x: pd.Timestamp.isoformat(x))\n",
    "\n",
    "cashflow_response = transaction_portfolio_api.get_portfolio_cash_flows(\n",
    "    scope, \n",
    "    portfolio_code,\n",
    "    recipe_id_scope= recipe_id.scope,\n",
    "    recipe_id_code= recipe_id.code,\n",
    ")\n",
    "print(cashflow_response)"
   ]
  },
  {
   "attachments": {},
   "cell_type": "markdown",
   "metadata": {},
   "source": [
    "# Cashflow bucketing\n",
    "- Note: We only have fund movements and no instrument cash flows\n",
    "- Note: This will return an empty due to default bucketing only being applied on instrument cashflows."
   ]
  },
  {
   "cell_type": "code",
   "execution_count": 123,
   "metadata": {},
   "outputs": [
    {
     "name": "stdout",
     "output_type": "stream",
     "text": [
      "   instrument_id currency instrument_type\n",
      "0       EQ_GB001      GBP          equity\n",
      "3       EQ_GB002      GBP          equity\n",
      "5       EQ_GB003      GBP          equity\n",
      "6       EQ_GB004      GBP          equity\n",
      "13      EQ_US001      USD          equity\n",
      "14      EQ_US002      USD          equity\n",
      "15      EQ_US003      USD          equity\n",
      "16      EQ_US004      USD          equity\n",
      "upsert quotes to scope:  cash-ladder-001\n",
      "{}\n",
      "['2020-01-01T00:00:00+00:00' '2020-03-01T00:00:00+00:00']\n",
      "{}\n",
      "[]\n"
     ]
    }
   ],
   "source": [
    "from lusid.api import TransactionPortfoliosApi, QuotesApi\n",
    "from lusid.models import UpsertQuoteRequest, QuoteId, QuoteSeriesId, MetricValue, BucketedCashFlowRequest, ResourceId\n",
    "transaction_portfolio_api: TransactionPortfoliosApi = api_factory.build(TransactionPortfoliosApi)\n",
    "quotes_api: QuotesApi = api_factory.build(QuotesApi)\n",
    "\n",
    "def create_quote_request(instrument_id: str, instrument_id_type: str, value: float, currency: str, field: str = \"mid\", effective_at: datetime = datetime.now(pytz.utc)):\n",
    "    return UpsertQuoteRequest(\n",
    "            quote_id=QuoteId(\n",
    "                quote_series_id=QuoteSeriesId(\n",
    "                    provider=\"Lusid\",\n",
    "                    instrument_id=instrument_id, # row[\"client_internal\"],\n",
    "                    instrument_id_type=instrument_id_type, # \"ClientInternal\",\n",
    "                    quote_type=\"Price\",\n",
    "                    field=field,\n",
    "                ),\n",
    "                effective_at=effective_at.isoformat(),\n",
    "            ),\n",
    "            metric_value=MetricValue(value=value, unit=currency),\n",
    "            scale_factor=100,\n",
    "        )\n",
    "\n",
    "# print(transactions_df[\"txn_trade_date\"])\n",
    "instruments = transactions_df.loc[transactions_df[\"instrument_type\"] != \"cash\", [\"instrument_id\", \"currency\", \"instrument_type\"]].drop_duplicates([\"instrument_id\"]) # get non cash instruments\n",
    "print(instruments)\n",
    "\n",
    "quote_reqs: pd.DataFrame = instruments.apply(lambda row: create_quote_request(row[\"instrument_id\"], \"ClientInternal\", 1000, row[\"currency\"]), axis=1)\n",
    "# print(quote_reqs.to_dict())\n",
    "# print(len(quote_reqs.to_dict()))\n",
    "print(\"upsert quotes to scope: \", scope)\n",
    "quote_upsert_response = quotes_api.upsert_quotes(scope, request_body = quote_reqs.to_dict())\n",
    "print(quote_upsert_response.failed)\n",
    "    \n",
    "\n",
    "\n",
    "bucketing_dates = pd.to_datetime(transactions_df[\"txn_trade_date\"]).map(lambda x: x.replace(day = 1).tz_localize('UTC'))\n",
    "print(bucketing_dates.map(lambda x: pd.Timestamp.isoformat(x)).unique())\n",
    "\n",
    "bucketing_response = transaction_portfolio_api.get_bucketed_cash_flows(\n",
    "    scope = scope,\n",
    "    code = portfolio_code,\n",
    "    bucketed_cash_flow_request= BucketedCashFlowRequest(\n",
    "        \"RoundDown\",\n",
    "        bucketing_dates.map(lambda x: pd.Timestamp.isoformat(x)).unique().tolist(),\n",
    "        None,\n",
    "        recipe_id= recipe_id\n",
    "    )\n",
    ")\n",
    "print(bucketing_response.failed)\n",
    "print(bucketing_response.data)"
   ]
  }
 ],
 "metadata": {
  "kernelspec": {
   "display_name": "Python 3",
   "language": "python",
   "name": "python3"
  },
  "language_info": {
   "codemirror_mode": {
    "name": "ipython",
    "version": 3
   },
   "file_extension": ".py",
   "mimetype": "text/x-python",
   "name": "python",
   "nbconvert_exporter": "python",
   "pygments_lexer": "ipython3",
   "version": "3.10.9"
  },
  "orig_nbformat": 4,
  "vscode": {
   "interpreter": {
    "hash": "b0fa6594d8f4cbf19f97940f81e996739fb7646882a419484c72d19e05852a7e"
   }
  }
 },
 "nbformat": 4,
 "nbformat_minor": 2
}
