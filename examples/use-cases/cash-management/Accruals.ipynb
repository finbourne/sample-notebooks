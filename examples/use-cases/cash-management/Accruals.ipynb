{
 "cells": [
  {
   "cell_type": "code",
   "execution_count": null,
   "outputs": [],
   "source": [
    "\"\"\"Accruals\n",
    "\n",
    "Demonstration of how to model accruals in LUSID\n",
    "\n",
    "Attributes\n",
    "----------\n",
    "transaction configuration\n",
    "cocoon\n",
    "holdings\n",
    "\"\"\""
   ],
   "metadata": {
    "collapsed": false,
    "pycharm": {
     "name": "#%%\n"
    }
   }
  },
  {
   "cell_type": "markdown",
   "source": [
    "# Accruals\n",
    "\n",
    "This notebook demonstrates how accruals can be modelled in LUSID. We show how we can book a management fee that is due to be paid at the end of the month and track the accrual separately from the main cash balance. At the end of the month we see the fee being deducted from the cash balance."
   ],
   "metadata": {
    "collapsed": false,
    "pycharm": {
     "name": "#%% md\n"
    }
   }
  },
  {
   "cell_type": "code",
   "execution_count": 1,
   "metadata": {
    "collapsed": true
   },
   "outputs": [
    {
     "name": "stdout",
     "output_type": "stream",
     "text": [
      "LUSID Environment Initialised\n",
      "LUSID version :  0.5.4403.0\n"
     ]
    }
   ],
   "source": [
    "# Import lusid specific packages\n",
    "import lusid\n",
    "import lusid.models as models\n",
    "from lusidtools.cocoon.cocoon import load_from_data_frame\n",
    "from lusidtools.cocoon import identify_cash_items\n",
    "from lusidtools.cocoon.cocoon_printer import (\n",
    "    format_instruments_response,\n",
    "    format_portfolios_response,\n",
    "    format_transactions_response,\n",
    ")\n",
    "from lusidtools.pandas_utils.lusid_pandas import lusid_response_to_data_frame\n",
    "from lusid.utilities import ApiClientFactory\n",
    "from lusidjam.refreshing_token import RefreshingToken\n",
    "\n",
    "import os\n",
    "import pandas as pd\n",
    "pd.set_option(\"display.max_columns\", None)\n",
    "\n",
    "# Authenticate our user and create our API client\n",
    "secrets_path = os.getenv(\"FBN_SECRETS_PATH\")\n",
    "\n",
    "# Initiate an API Factory which is the client side object for interacting with LUSID APIs\n",
    "api_factory = lusid.utilities.ApiClientFactory(\n",
    "    token=RefreshingToken(),\n",
    "    api_secrets_filename=secrets_path,\n",
    "    app_name=\"LusidJupyterNotebook\",\n",
    ")\n",
    "\n",
    "print('LUSID Environment Initialised')\n",
    "print('LUSID version : ', api_factory.build(lusid.api.ApplicationMetadataApi).get_lusid_versions().build_version)"
   ]
  },
  {
   "cell_type": "markdown",
   "source": [
    "# Transaction configuration\n",
    "\n",
    "Define a transaction configuration for the accrual, here we set the accrual account increase which will then be added to the cash balance on settlement."
   ],
   "metadata": {
    "collapsed": false,
    "pycharm": {
     "name": "#%% md\n"
    }
   }
  },
  {
   "cell_type": "code",
   "execution_count": 2,
   "outputs": [],
   "source": [
    "def upsert_transaction_config(config):\n",
    "    config_api = api_factory.build(lusid.api.SystemConfigurationApi)\n",
    "    txn_types = config_api.list_configuration_transaction_types()\n",
    "\n",
    "    configs = set([\n",
    "        (aliases.type, aliases.transaction_group)\n",
    "        for txn_config in txn_types.transaction_configs\n",
    "        for aliases in txn_config.aliases\n",
    "    ])\n",
    "\n",
    "    aliases = set([(a.type, a.transaction_group) for a in config.aliases])\n",
    "\n",
    "    if configs.issuperset(aliases):\n",
    "        return\n",
    "\n",
    "    config_api.create_configuration_transaction_type(transaction_configuration_data_request=config)\n",
    "\n",
    "accrual_config = models.TransactionConfigurationDataRequest(\n",
    "    aliases=[\n",
    "        models.TransactionConfigurationTypeAlias(\n",
    "            type=\"MgmtFee\",\n",
    "            description=\"Management fee accrual\",\n",
    "            transaction_class=\"Basic\",\n",
    "            transaction_group=\"default\",\n",
    "            transaction_roles=\"Longer\"\n",
    "        ),\n",
    "    ],\n",
    "    movements=[\n",
    "        models.TransactionConfigurationMovementDataRequest(\n",
    "            movement_types=\"CashAccrual\",\n",
    "            side=\"Side2\",\n",
    "            direction=-1\n",
    "        )\n",
    "    ]\n",
    ")\n",
    "upsert_transaction_config(accrual_config)"
   ],
   "metadata": {
    "collapsed": false,
    "pycharm": {
     "name": "#%%\n"
    }
   }
  },
  {
   "cell_type": "markdown",
   "source": [
    "Create a scope and portfolio code"
   ],
   "metadata": {
    "collapsed": false
   }
  },
  {
   "cell_type": "code",
   "execution_count": 3,
   "outputs": [],
   "source": [
    "scope = \"accruals-demo\"\n",
    "portfolio_code = \"EQUITY_UK\""
   ],
   "metadata": {
    "collapsed": false,
    "pycharm": {
     "name": "#%%\n"
    }
   }
  },
  {
   "cell_type": "markdown",
   "source": [
    "In this portfolio we add a cash injection and book a transaction for a stock purchase. We also book an accrual for a management fee that is paid at the end of the month"
   ],
   "metadata": {
    "collapsed": false
   }
  },
  {
   "cell_type": "code",
   "execution_count": 4,
   "outputs": [
    {
     "data": {
      "text/plain": "  portfolio_code                       portfolio_name portfolio_base_currency  \\\n0      EQUITY_UK  LUSID's top 10 FTSE stock portfolio                     GBP   \n1      EQUITY_UK  LUSID's top 10 FTSE stock portfolio                     GBP   \n2      EQUITY_UK  LUSID's top 10 FTSE stock portfolio                     GBP   \n\n         ticker   sedol instrument_type instrument_id      name    txn_id  \\\n0  GB0002162385  SEDOL1          equity       EQ_1234     Aviva  trd_0001   \n1           GBP     GBP            cash           GBP  GBP Cash  cash_001   \n2           GBP     GBP            cash           GBP  GBP Cash  cash_002   \n\n  txn_type txn_trade_date txn_settle_date  txn_units  txn_price  \\\n0      Buy     01/04/2020      03/04/2020     120000          5   \n1  FundsIn     01/04/2020      03/04/2020    1000000          1   \n2  MgmtFee     01/04/2020      30/04/2020        600          1   \n\n   txn_consideration currency cash_transactions  \n0             600000      GBP               NaN  \n1            1000000      GBP               GBP  \n2                600      GBP               GBP  ",
      "text/html": "<div>\n<style scoped>\n    .dataframe tbody tr th:only-of-type {\n        vertical-align: middle;\n    }\n\n    .dataframe tbody tr th {\n        vertical-align: top;\n    }\n\n    .dataframe thead th {\n        text-align: right;\n    }\n</style>\n<table border=\"1\" class=\"dataframe\">\n  <thead>\n    <tr style=\"text-align: right;\">\n      <th></th>\n      <th>portfolio_code</th>\n      <th>portfolio_name</th>\n      <th>portfolio_base_currency</th>\n      <th>ticker</th>\n      <th>sedol</th>\n      <th>instrument_type</th>\n      <th>instrument_id</th>\n      <th>name</th>\n      <th>txn_id</th>\n      <th>txn_type</th>\n      <th>txn_trade_date</th>\n      <th>txn_settle_date</th>\n      <th>txn_units</th>\n      <th>txn_price</th>\n      <th>txn_consideration</th>\n      <th>currency</th>\n      <th>cash_transactions</th>\n    </tr>\n  </thead>\n  <tbody>\n    <tr>\n      <th>0</th>\n      <td>EQUITY_UK</td>\n      <td>LUSID's top 10 FTSE stock portfolio</td>\n      <td>GBP</td>\n      <td>GB0002162385</td>\n      <td>SEDOL1</td>\n      <td>equity</td>\n      <td>EQ_1234</td>\n      <td>Aviva</td>\n      <td>trd_0001</td>\n      <td>Buy</td>\n      <td>01/04/2020</td>\n      <td>03/04/2020</td>\n      <td>120000</td>\n      <td>5</td>\n      <td>600000</td>\n      <td>GBP</td>\n      <td>NaN</td>\n    </tr>\n    <tr>\n      <th>1</th>\n      <td>EQUITY_UK</td>\n      <td>LUSID's top 10 FTSE stock portfolio</td>\n      <td>GBP</td>\n      <td>GBP</td>\n      <td>GBP</td>\n      <td>cash</td>\n      <td>GBP</td>\n      <td>GBP Cash</td>\n      <td>cash_001</td>\n      <td>FundsIn</td>\n      <td>01/04/2020</td>\n      <td>03/04/2020</td>\n      <td>1000000</td>\n      <td>1</td>\n      <td>1000000</td>\n      <td>GBP</td>\n      <td>GBP</td>\n    </tr>\n    <tr>\n      <th>2</th>\n      <td>EQUITY_UK</td>\n      <td>LUSID's top 10 FTSE stock portfolio</td>\n      <td>GBP</td>\n      <td>GBP</td>\n      <td>GBP</td>\n      <td>cash</td>\n      <td>GBP</td>\n      <td>GBP Cash</td>\n      <td>cash_002</td>\n      <td>MgmtFee</td>\n      <td>01/04/2020</td>\n      <td>30/04/2020</td>\n      <td>600</td>\n      <td>1</td>\n      <td>600</td>\n      <td>GBP</td>\n      <td>GBP</td>\n    </tr>\n  </tbody>\n</table>\n</div>"
     },
     "execution_count": 4,
     "metadata": {},
     "output_type": "execute_result"
    }
   ],
   "source": [
    "df = pd.read_csv(\"data/accruals/equity_transactions.csv\")\n",
    "df"
   ],
   "metadata": {
    "collapsed": false,
    "pycharm": {
     "name": "#%%\n"
    }
   }
  },
  {
   "cell_type": "code",
   "execution_count": 5,
   "outputs": [],
   "source": [
    "instrument_mapping = {\n",
    "    \"identifier_mapping\": {\n",
    "        \"ClientInternal\": \"instrument_id\",\n",
    "        \"Sedol\": \"sedol\",\n",
    "    },\n",
    "    \"required\": {\n",
    "        \"name\": \"name\"\n",
    "    },\n",
    "    \"cash_flag\": {\n",
    "        \"cash_identifiers\": {\n",
    "            \"cash_transactions\" : [\"GBP\"]\n",
    "        },\n",
    "        \"implicit\": \"currency\"\n",
    "    }\n",
    "}"
   ],
   "metadata": {
    "collapsed": false,
    "pycharm": {
     "name": "#%%\n"
    }
   }
  },
  {
   "cell_type": "code",
   "execution_count": 6,
   "outputs": [
    {
     "data": {
      "text/plain": "   success  failed  errors\n0        1       0       0",
      "text/html": "<div>\n<style scoped>\n    .dataframe tbody tr th:only-of-type {\n        vertical-align: middle;\n    }\n\n    .dataframe tbody tr th {\n        vertical-align: top;\n    }\n\n    .dataframe thead th {\n        text-align: right;\n    }\n</style>\n<table border=\"1\" class=\"dataframe\">\n  <thead>\n    <tr style=\"text-align: right;\">\n      <th></th>\n      <th>success</th>\n      <th>failed</th>\n      <th>errors</th>\n    </tr>\n  </thead>\n  <tbody>\n    <tr>\n      <th>0</th>\n      <td>1</td>\n      <td>0</td>\n      <td>0</td>\n    </tr>\n  </tbody>\n</table>\n</div>"
     },
     "execution_count": 6,
     "metadata": {},
     "output_type": "execute_result"
    }
   ],
   "source": [
    "instr_df, mapping = identify_cash_items(\n",
    "    dataframe = df.copy(),\n",
    "    mappings = instrument_mapping,\n",
    "    file_type = \"instruments\",\n",
    "    remove_cash_items = True\n",
    ")\n",
    "\n",
    "result = load_from_data_frame(\n",
    "    api_factory=api_factory,\n",
    "    scope=scope,\n",
    "    data_frame=instr_df,\n",
    "    mapping_required=instrument_mapping[\"required\"],\n",
    "    mapping_optional={},\n",
    "    file_type=\"instruments\",\n",
    "    identifier_mapping=instrument_mapping[\"identifier_mapping\"],\n",
    ")\n",
    "\n",
    "succ, failed, errors = format_instruments_response(result)\n",
    "pd.DataFrame(data=[{\"success\": len(succ), \"failed\": len(failed), \"errors\": len(errors)}])\n"
   ],
   "metadata": {
    "collapsed": false,
    "pycharm": {
     "name": "#%%\n"
    }
   }
  },
  {
   "cell_type": "markdown",
   "source": [
    "## Create portfolio"
   ],
   "metadata": {
    "collapsed": false,
    "pycharm": {
     "name": "#%% md\n"
    }
   }
  },
  {
   "cell_type": "code",
   "execution_count": 7,
   "outputs": [],
   "source": [
    "portfolio_mapping = {\n",
    "    \"required\": {\n",
    "        \"code\": \"portfolio_code\",\n",
    "        \"display_name\": \"portfolio_name\",\n",
    "        \"base_currency\": \"$GBP\",\n",
    "    },\n",
    "    \"optional\": {\"created\": \"$2020-01-01T00:00:00+00:00\"},\n",
    "}"
   ],
   "metadata": {
    "collapsed": false,
    "pycharm": {
     "name": "#%%\n"
    }
   }
  },
  {
   "cell_type": "code",
   "execution_count": 8,
   "outputs": [
    {
     "data": {
      "text/plain": "   success  failed  errors\n0        1       0       0",
      "text/html": "<div>\n<style scoped>\n    .dataframe tbody tr th:only-of-type {\n        vertical-align: middle;\n    }\n\n    .dataframe tbody tr th {\n        vertical-align: top;\n    }\n\n    .dataframe thead th {\n        text-align: right;\n    }\n</style>\n<table border=\"1\" class=\"dataframe\">\n  <thead>\n    <tr style=\"text-align: right;\">\n      <th></th>\n      <th>success</th>\n      <th>failed</th>\n      <th>errors</th>\n    </tr>\n  </thead>\n  <tbody>\n    <tr>\n      <th>0</th>\n      <td>1</td>\n      <td>0</td>\n      <td>0</td>\n    </tr>\n  </tbody>\n</table>\n</div>"
     },
     "execution_count": 8,
     "metadata": {},
     "output_type": "execute_result"
    }
   ],
   "source": [
    "result = load_from_data_frame(\n",
    "    api_factory=api_factory,\n",
    "    scope=scope,\n",
    "    data_frame=df,\n",
    "    mapping_required=portfolio_mapping[\"required\"],\n",
    "    mapping_optional=portfolio_mapping[\"optional\"],\n",
    "    file_type=\"portfolios\",\n",
    "    sub_holding_keys=[],\n",
    ")\n",
    "\n",
    "succ, failed = format_portfolios_response(result)\n",
    "pd.DataFrame(data=[{\"success\": len(succ), \"failed\": len(failed), \"errors\": len(errors)}])"
   ],
   "metadata": {
    "collapsed": false,
    "pycharm": {
     "name": "#%%\n"
    }
   }
  },
  {
   "cell_type": "markdown",
   "source": [
    "# Upload transactions"
   ],
   "metadata": {
    "collapsed": false
   }
  },
  {
   "cell_type": "code",
   "execution_count": 9,
   "outputs": [],
   "source": [
    "transaction_mapping = {\n",
    "    \"identifier_mapping\": {\n",
    "        \"ClientInternal\": \"instrument_id\",\n",
    "        \"Currency\": \"cash_transactions\"\n",
    "    },\n",
    "    \"required\": {\n",
    "        \"code\": \"portfolio_code\",\n",
    "        \"transaction_id\": \"txn_id\",\n",
    "        \"type\": \"txn_type\",\n",
    "        \"transaction_price.price\": \"txn_price\",\n",
    "        \"transaction_price.type\": \"$Price\",\n",
    "        \"total_consideration.amount\": \"txn_consideration\",\n",
    "        \"units\": \"txn_units\",\n",
    "        \"transaction_date\": \"txn_trade_date\",\n",
    "        \"total_consideration.currency\": \"portfolio_base_currency\",\n",
    "        \"settlement_date\": \"txn_settle_date\",\n",
    "    },\n",
    "    \"optional\": {},\n",
    "    \"properties\": [],\n",
    "}"
   ],
   "metadata": {
    "collapsed": false,
    "pycharm": {
     "name": "#%%\n"
    }
   }
  },
  {
   "cell_type": "code",
   "execution_count": 10,
   "outputs": [
    {
     "data": {
      "text/plain": "   success  failed  errors\n0        1       0       0",
      "text/html": "<div>\n<style scoped>\n    .dataframe tbody tr th:only-of-type {\n        vertical-align: middle;\n    }\n\n    .dataframe tbody tr th {\n        vertical-align: top;\n    }\n\n    .dataframe thead th {\n        text-align: right;\n    }\n</style>\n<table border=\"1\" class=\"dataframe\">\n  <thead>\n    <tr style=\"text-align: right;\">\n      <th></th>\n      <th>success</th>\n      <th>failed</th>\n      <th>errors</th>\n    </tr>\n  </thead>\n  <tbody>\n    <tr>\n      <th>0</th>\n      <td>1</td>\n      <td>0</td>\n      <td>0</td>\n    </tr>\n  </tbody>\n</table>\n</div>"
     },
     "execution_count": 10,
     "metadata": {},
     "output_type": "execute_result"
    }
   ],
   "source": [
    "result = load_from_data_frame(\n",
    "    api_factory=api_factory,\n",
    "    scope=scope,\n",
    "    data_frame=df,\n",
    "    mapping_required=transaction_mapping[\"required\"],\n",
    "    mapping_optional=transaction_mapping[\"optional\"],\n",
    "    file_type=\"transactions\",\n",
    "    identifier_mapping=transaction_mapping[\"identifier_mapping\"],\n",
    "    property_columns=transaction_mapping[\"properties\"],\n",
    "    properties_scope=scope,\n",
    ")\n",
    "\n",
    "succ, failed = format_transactions_response(result)\n",
    "pd.DataFrame(data=[{\"success\": len(succ), \"failed\": len(failed), \"errors\": len(errors)}])"
   ],
   "metadata": {
    "collapsed": false,
    "pycharm": {
     "name": "#%%\n"
    }
   }
  },
  {
   "cell_type": "markdown",
   "source": [
    "# Get holdings"
   ],
   "metadata": {
    "collapsed": false,
    "pycharm": {
     "name": "#%% md\n"
    }
   }
  },
  {
   "cell_type": "code",
   "execution_count": 11,
   "outputs": [],
   "source": [
    "# transaction_portfolio_api = api_factory.build(lusid.api.TransactionPortfoliosApi)\n",
    "transaction_portfolio_api = lusid.api.TransactionPortfoliosApi(api_factory.build(lusid.api.TransactionPortfoliosApi))\n",
    "\n",
    "def get_holdings(effective_at):\n",
    "    response = transaction_portfolio_api.get_holdings(\n",
    "        scope=scope,\n",
    "        code=portfolio_code,\n",
    "        effective_at=effective_at,\n",
    "        property_keys=[\"Instrument/default/Name\"]\n",
    "    )\n",
    "\n",
    "    holdings_df = lusid_response_to_data_frame(response, rename_properties=True)\n",
    "    display(holdings_df)"
   ],
   "metadata": {
    "collapsed": false,
    "pycharm": {
     "name": "#%%\n"
    }
   }
  },
  {
   "cell_type": "markdown",
   "source": [
    "Getting the holdings before settlement shows:\n",
    "* the holding in the purchased stock (P)\n",
    "* the committed cash against the purchase (C)\n",
    "* the received cash injection (R)\n",
    "* the accrual from the fee (A)"
   ],
   "metadata": {
    "collapsed": false,
    "pycharm": {
     "name": "#%% md\n"
    }
   }
  },
  {
   "cell_type": "code",
   "execution_count": 12,
   "outputs": [
    {
     "data": {
      "text/plain": "  instrument_uid sub_holding_keys Name(default-Properties)  \\\n0  LUID_JF8O2838               {}                    Aviva   \n1        CCY_GBP               {}                  CCY_GBP   \n2        CCY_GBP               {}                  CCY_GBP   \n3        CCY_GBP               {}                  CCY_GBP   \n\n  SourcePortfolioId(default-Properties) holding_type      units  \\\n0               accruals-demo/EQUITY_UK            P   120000.0   \n1               accruals-demo/EQUITY_UK            C  -600000.0   \n2               accruals-demo/EQUITY_UK            A  1000000.0   \n3               accruals-demo/EQUITY_UK            A      600.0   \n\n   settled_units  cost.amount cost.currency  cost_portfolio_ccy.amount  \\\n0            0.0     600000.0           GBP                        0.0   \n1            0.0    -600000.0           GBP                        0.0   \n2            0.0    1000000.0           GBP                        0.0   \n3            0.0        600.0           GBP                        0.0   \n\n  cost_portfolio_ccy.currency transaction.transaction_id transaction.type  \\\n0                         GBP                        NaN              NaN   \n1                         GBP                   trd_0001              Buy   \n2                         GBP                   cash_001          FundsIn   \n3                         GBP                   cash_002          MgmtFee   \n\n  transaction.instrument_identifiers.Instrument/default/ClientInternal  \\\n0                                                NaN                     \n1                                            EQ_1234                     \n2                                                NaN                     \n3                                                NaN                     \n\n  transaction.instrument_uid transaction.transaction_date  \\\n0                        NaN                          NaT   \n1              LUID_JF8O2838    2020-04-01 00:00:00+00:00   \n2                    CCY_GBP    2020-04-01 00:00:00+00:00   \n3                    CCY_GBP    2020-04-01 00:00:00+00:00   \n\n  transaction.settlement_date  transaction.units  \\\n0                         NaT                NaN   \n1   2020-04-03 00:00:00+00:00           120000.0   \n2   2020-04-03 00:00:00+00:00          1000000.0   \n3   2020-04-30 00:00:00+00:00              600.0   \n\n   transaction.transaction_price.price transaction.transaction_price.type  \\\n0                                  NaN                                NaN   \n1                                  5.0                              Price   \n2                                  1.0                              Price   \n3                                  1.0                              Price   \n\n   transaction.total_consideration.amount  \\\n0                                     NaN   \n1                                600000.0   \n2                               1000000.0   \n3                                   600.0   \n\n  transaction.total_consideration.currency  transaction.exchange_rate  \\\n0                                      NaN                        NaN   \n1                                      GBP                        1.0   \n2                                      GBP                        1.0   \n3                                      GBP                        1.0   \n\n  transaction.transaction_currency  \\\n0                              NaN   \n1                              GBP   \n2                              GBP   \n3                              GBP   \n\n  transaction.properties.Transaction/default/ResultantHolding.key  \\\n0                                                NaN                \n1               Transaction/default/ResultantHolding                \n2                                                NaN                \n3                                                NaN                \n\n   transaction.properties.Transaction/default/ResultantHolding.value.metric_value.value  \\\n0                                                NaN                                      \n1                                           120000.0                                      \n2                                                NaN                                      \n3                                                NaN                                      \n\n  transaction.instrument_identifiers.Instrument/default/Currency  \\\n0                                                NaN               \n1                                                NaN               \n2                                                GBP               \n3                                                GBP               \n\n  transaction.properties  \n0                    NaN  \n1                    NaN  \n2                     {}  \n3                     {}  ",
      "text/html": "<div>\n<style scoped>\n    .dataframe tbody tr th:only-of-type {\n        vertical-align: middle;\n    }\n\n    .dataframe tbody tr th {\n        vertical-align: top;\n    }\n\n    .dataframe thead th {\n        text-align: right;\n    }\n</style>\n<table border=\"1\" class=\"dataframe\">\n  <thead>\n    <tr style=\"text-align: right;\">\n      <th></th>\n      <th>instrument_uid</th>\n      <th>sub_holding_keys</th>\n      <th>Name(default-Properties)</th>\n      <th>SourcePortfolioId(default-Properties)</th>\n      <th>holding_type</th>\n      <th>units</th>\n      <th>settled_units</th>\n      <th>cost.amount</th>\n      <th>cost.currency</th>\n      <th>cost_portfolio_ccy.amount</th>\n      <th>cost_portfolio_ccy.currency</th>\n      <th>transaction.transaction_id</th>\n      <th>transaction.type</th>\n      <th>transaction.instrument_identifiers.Instrument/default/ClientInternal</th>\n      <th>transaction.instrument_uid</th>\n      <th>transaction.transaction_date</th>\n      <th>transaction.settlement_date</th>\n      <th>transaction.units</th>\n      <th>transaction.transaction_price.price</th>\n      <th>transaction.transaction_price.type</th>\n      <th>transaction.total_consideration.amount</th>\n      <th>transaction.total_consideration.currency</th>\n      <th>transaction.exchange_rate</th>\n      <th>transaction.transaction_currency</th>\n      <th>transaction.properties.Transaction/default/ResultantHolding.key</th>\n      <th>transaction.properties.Transaction/default/ResultantHolding.value.metric_value.value</th>\n      <th>transaction.instrument_identifiers.Instrument/default/Currency</th>\n      <th>transaction.properties</th>\n    </tr>\n  </thead>\n  <tbody>\n    <tr>\n      <th>0</th>\n      <td>LUID_JF8O2838</td>\n      <td>{}</td>\n      <td>Aviva</td>\n      <td>accruals-demo/EQUITY_UK</td>\n      <td>P</td>\n      <td>120000.0</td>\n      <td>0.0</td>\n      <td>600000.0</td>\n      <td>GBP</td>\n      <td>0.0</td>\n      <td>GBP</td>\n      <td>NaN</td>\n      <td>NaN</td>\n      <td>NaN</td>\n      <td>NaN</td>\n      <td>NaT</td>\n      <td>NaT</td>\n      <td>NaN</td>\n      <td>NaN</td>\n      <td>NaN</td>\n      <td>NaN</td>\n      <td>NaN</td>\n      <td>NaN</td>\n      <td>NaN</td>\n      <td>NaN</td>\n      <td>NaN</td>\n      <td>NaN</td>\n      <td>NaN</td>\n    </tr>\n    <tr>\n      <th>1</th>\n      <td>CCY_GBP</td>\n      <td>{}</td>\n      <td>CCY_GBP</td>\n      <td>accruals-demo/EQUITY_UK</td>\n      <td>C</td>\n      <td>-600000.0</td>\n      <td>0.0</td>\n      <td>-600000.0</td>\n      <td>GBP</td>\n      <td>0.0</td>\n      <td>GBP</td>\n      <td>trd_0001</td>\n      <td>Buy</td>\n      <td>EQ_1234</td>\n      <td>LUID_JF8O2838</td>\n      <td>2020-04-01 00:00:00+00:00</td>\n      <td>2020-04-03 00:00:00+00:00</td>\n      <td>120000.0</td>\n      <td>5.0</td>\n      <td>Price</td>\n      <td>600000.0</td>\n      <td>GBP</td>\n      <td>1.0</td>\n      <td>GBP</td>\n      <td>Transaction/default/ResultantHolding</td>\n      <td>120000.0</td>\n      <td>NaN</td>\n      <td>NaN</td>\n    </tr>\n    <tr>\n      <th>2</th>\n      <td>CCY_GBP</td>\n      <td>{}</td>\n      <td>CCY_GBP</td>\n      <td>accruals-demo/EQUITY_UK</td>\n      <td>A</td>\n      <td>1000000.0</td>\n      <td>0.0</td>\n      <td>1000000.0</td>\n      <td>GBP</td>\n      <td>0.0</td>\n      <td>GBP</td>\n      <td>cash_001</td>\n      <td>FundsIn</td>\n      <td>NaN</td>\n      <td>CCY_GBP</td>\n      <td>2020-04-01 00:00:00+00:00</td>\n      <td>2020-04-03 00:00:00+00:00</td>\n      <td>1000000.0</td>\n      <td>1.0</td>\n      <td>Price</td>\n      <td>1000000.0</td>\n      <td>GBP</td>\n      <td>1.0</td>\n      <td>GBP</td>\n      <td>NaN</td>\n      <td>NaN</td>\n      <td>GBP</td>\n      <td>{}</td>\n    </tr>\n    <tr>\n      <th>3</th>\n      <td>CCY_GBP</td>\n      <td>{}</td>\n      <td>CCY_GBP</td>\n      <td>accruals-demo/EQUITY_UK</td>\n      <td>A</td>\n      <td>600.0</td>\n      <td>0.0</td>\n      <td>600.0</td>\n      <td>GBP</td>\n      <td>0.0</td>\n      <td>GBP</td>\n      <td>cash_002</td>\n      <td>MgmtFee</td>\n      <td>NaN</td>\n      <td>CCY_GBP</td>\n      <td>2020-04-01 00:00:00+00:00</td>\n      <td>2020-04-30 00:00:00+00:00</td>\n      <td>600.0</td>\n      <td>1.0</td>\n      <td>Price</td>\n      <td>600.0</td>\n      <td>GBP</td>\n      <td>1.0</td>\n      <td>GBP</td>\n      <td>NaN</td>\n      <td>NaN</td>\n      <td>GBP</td>\n      <td>{}</td>\n    </tr>\n  </tbody>\n</table>\n</div>"
     },
     "metadata": {},
     "output_type": "display_data"
    }
   ],
   "source": [
    "get_holdings(\"2020-04-01\")"
   ],
   "metadata": {
    "collapsed": false,
    "pycharm": {
     "name": "#%%\n"
    }
   }
  },
  {
   "cell_type": "markdown",
   "source": [
    "After the stock has settled we can see the cash balance updated and the fee accrual still there."
   ],
   "metadata": {
    "collapsed": false,
    "pycharm": {
     "name": "#%% md\n"
    }
   }
  },
  {
   "cell_type": "code",
   "execution_count": 13,
   "outputs": [
    {
     "data": {
      "text/plain": "  instrument_uid sub_holding_keys Name(default-Properties)  \\\n0  LUID_JF8O2838               {}                    Aviva   \n1        CCY_GBP               {}                  CCY_GBP   \n2        CCY_GBP               {}                  CCY_GBP   \n\n  SourcePortfolioId(default-Properties) holding_type     units  settled_units  \\\n0               accruals-demo/EQUITY_UK            P  120000.0       120000.0   \n1               accruals-demo/EQUITY_UK            B  400000.0       400000.0   \n2               accruals-demo/EQUITY_UK            A     600.0            0.0   \n\n   cost.amount cost.currency  cost_portfolio_ccy.amount  \\\n0     600000.0           GBP                        0.0   \n1     400000.0           GBP                        0.0   \n2        600.0           GBP                        0.0   \n\n  cost_portfolio_ccy.currency transaction.transaction_id transaction.type  \\\n0                         GBP                        NaN              NaN   \n1                         GBP                        NaN              NaN   \n2                         GBP                   cash_002          MgmtFee   \n\n  transaction.instrument_identifiers.Instrument/default/Currency  \\\n0                                                NaN               \n1                                                NaN               \n2                                                GBP               \n\n  transaction.instrument_uid transaction.transaction_date  \\\n0                        NaN                          NaT   \n1                        NaN                          NaT   \n2                    CCY_GBP    2020-04-01 00:00:00+00:00   \n\n  transaction.settlement_date  transaction.units  \\\n0                         NaT                NaN   \n1                         NaT                NaN   \n2   2020-04-30 00:00:00+00:00              600.0   \n\n   transaction.transaction_price.price transaction.transaction_price.type  \\\n0                                  NaN                                NaN   \n1                                  NaN                                NaN   \n2                                  1.0                              Price   \n\n   transaction.total_consideration.amount  \\\n0                                     NaN   \n1                                     NaN   \n2                                   600.0   \n\n  transaction.total_consideration.currency  transaction.exchange_rate  \\\n0                                      NaN                        NaN   \n1                                      NaN                        NaN   \n2                                      GBP                        1.0   \n\n  transaction.transaction_currency transaction.properties  \n0                              NaN                    NaN  \n1                              NaN                    NaN  \n2                              GBP                     {}  ",
      "text/html": "<div>\n<style scoped>\n    .dataframe tbody tr th:only-of-type {\n        vertical-align: middle;\n    }\n\n    .dataframe tbody tr th {\n        vertical-align: top;\n    }\n\n    .dataframe thead th {\n        text-align: right;\n    }\n</style>\n<table border=\"1\" class=\"dataframe\">\n  <thead>\n    <tr style=\"text-align: right;\">\n      <th></th>\n      <th>instrument_uid</th>\n      <th>sub_holding_keys</th>\n      <th>Name(default-Properties)</th>\n      <th>SourcePortfolioId(default-Properties)</th>\n      <th>holding_type</th>\n      <th>units</th>\n      <th>settled_units</th>\n      <th>cost.amount</th>\n      <th>cost.currency</th>\n      <th>cost_portfolio_ccy.amount</th>\n      <th>cost_portfolio_ccy.currency</th>\n      <th>transaction.transaction_id</th>\n      <th>transaction.type</th>\n      <th>transaction.instrument_identifiers.Instrument/default/Currency</th>\n      <th>transaction.instrument_uid</th>\n      <th>transaction.transaction_date</th>\n      <th>transaction.settlement_date</th>\n      <th>transaction.units</th>\n      <th>transaction.transaction_price.price</th>\n      <th>transaction.transaction_price.type</th>\n      <th>transaction.total_consideration.amount</th>\n      <th>transaction.total_consideration.currency</th>\n      <th>transaction.exchange_rate</th>\n      <th>transaction.transaction_currency</th>\n      <th>transaction.properties</th>\n    </tr>\n  </thead>\n  <tbody>\n    <tr>\n      <th>0</th>\n      <td>LUID_JF8O2838</td>\n      <td>{}</td>\n      <td>Aviva</td>\n      <td>accruals-demo/EQUITY_UK</td>\n      <td>P</td>\n      <td>120000.0</td>\n      <td>120000.0</td>\n      <td>600000.0</td>\n      <td>GBP</td>\n      <td>0.0</td>\n      <td>GBP</td>\n      <td>NaN</td>\n      <td>NaN</td>\n      <td>NaN</td>\n      <td>NaN</td>\n      <td>NaT</td>\n      <td>NaT</td>\n      <td>NaN</td>\n      <td>NaN</td>\n      <td>NaN</td>\n      <td>NaN</td>\n      <td>NaN</td>\n      <td>NaN</td>\n      <td>NaN</td>\n      <td>NaN</td>\n    </tr>\n    <tr>\n      <th>1</th>\n      <td>CCY_GBP</td>\n      <td>{}</td>\n      <td>CCY_GBP</td>\n      <td>accruals-demo/EQUITY_UK</td>\n      <td>B</td>\n      <td>400000.0</td>\n      <td>400000.0</td>\n      <td>400000.0</td>\n      <td>GBP</td>\n      <td>0.0</td>\n      <td>GBP</td>\n      <td>NaN</td>\n      <td>NaN</td>\n      <td>NaN</td>\n      <td>NaN</td>\n      <td>NaT</td>\n      <td>NaT</td>\n      <td>NaN</td>\n      <td>NaN</td>\n      <td>NaN</td>\n      <td>NaN</td>\n      <td>NaN</td>\n      <td>NaN</td>\n      <td>NaN</td>\n      <td>NaN</td>\n    </tr>\n    <tr>\n      <th>2</th>\n      <td>CCY_GBP</td>\n      <td>{}</td>\n      <td>CCY_GBP</td>\n      <td>accruals-demo/EQUITY_UK</td>\n      <td>A</td>\n      <td>600.0</td>\n      <td>0.0</td>\n      <td>600.0</td>\n      <td>GBP</td>\n      <td>0.0</td>\n      <td>GBP</td>\n      <td>cash_002</td>\n      <td>MgmtFee</td>\n      <td>GBP</td>\n      <td>CCY_GBP</td>\n      <td>2020-04-01 00:00:00+00:00</td>\n      <td>2020-04-30 00:00:00+00:00</td>\n      <td>600.0</td>\n      <td>1.0</td>\n      <td>Price</td>\n      <td>600.0</td>\n      <td>GBP</td>\n      <td>1.0</td>\n      <td>GBP</td>\n      <td>{}</td>\n    </tr>\n  </tbody>\n</table>\n</div>"
     },
     "metadata": {},
     "output_type": "display_data"
    }
   ],
   "source": [
    "get_holdings(\"2020-04-06\")"
   ],
   "metadata": {
    "collapsed": false,
    "pycharm": {
     "name": "#%%\n"
    }
   }
  },
  {
   "cell_type": "markdown",
   "source": [
    "At the end of the month the accrual is paid out and the cash balance updated"
   ],
   "metadata": {
    "collapsed": false,
    "pycharm": {
     "name": "#%% md\n"
    }
   }
  },
  {
   "cell_type": "code",
   "execution_count": 14,
   "outputs": [
    {
     "data": {
      "text/plain": "  instrument_uid sub_holding_keys Name(default-Properties)  \\\n0  LUID_JF8O2838               {}                    Aviva   \n1        CCY_GBP               {}                  CCY_GBP   \n\n  SourcePortfolioId(default-Properties) holding_type     units  settled_units  \\\n0               accruals-demo/EQUITY_UK            P  120000.0       120000.0   \n1               accruals-demo/EQUITY_UK            B  400600.0       400600.0   \n\n   cost.amount cost.currency  cost_portfolio_ccy.amount  \\\n0     600000.0           GBP                        0.0   \n1     400600.0           GBP                        0.0   \n\n  cost_portfolio_ccy.currency  \n0                         GBP  \n1                         GBP  ",
      "text/html": "<div>\n<style scoped>\n    .dataframe tbody tr th:only-of-type {\n        vertical-align: middle;\n    }\n\n    .dataframe tbody tr th {\n        vertical-align: top;\n    }\n\n    .dataframe thead th {\n        text-align: right;\n    }\n</style>\n<table border=\"1\" class=\"dataframe\">\n  <thead>\n    <tr style=\"text-align: right;\">\n      <th></th>\n      <th>instrument_uid</th>\n      <th>sub_holding_keys</th>\n      <th>Name(default-Properties)</th>\n      <th>SourcePortfolioId(default-Properties)</th>\n      <th>holding_type</th>\n      <th>units</th>\n      <th>settled_units</th>\n      <th>cost.amount</th>\n      <th>cost.currency</th>\n      <th>cost_portfolio_ccy.amount</th>\n      <th>cost_portfolio_ccy.currency</th>\n    </tr>\n  </thead>\n  <tbody>\n    <tr>\n      <th>0</th>\n      <td>LUID_JF8O2838</td>\n      <td>{}</td>\n      <td>Aviva</td>\n      <td>accruals-demo/EQUITY_UK</td>\n      <td>P</td>\n      <td>120000.0</td>\n      <td>120000.0</td>\n      <td>600000.0</td>\n      <td>GBP</td>\n      <td>0.0</td>\n      <td>GBP</td>\n    </tr>\n    <tr>\n      <th>1</th>\n      <td>CCY_GBP</td>\n      <td>{}</td>\n      <td>CCY_GBP</td>\n      <td>accruals-demo/EQUITY_UK</td>\n      <td>B</td>\n      <td>400600.0</td>\n      <td>400600.0</td>\n      <td>400600.0</td>\n      <td>GBP</td>\n      <td>0.0</td>\n      <td>GBP</td>\n    </tr>\n  </tbody>\n</table>\n</div>"
     },
     "metadata": {},
     "output_type": "display_data"
    }
   ],
   "source": [
    "get_holdings(\"2020-04-30\")\n"
   ],
   "metadata": {
    "collapsed": false,
    "pycharm": {
     "name": "#%%\n"
    }
   }
  }
 ],
 "metadata": {
  "kernelspec": {
   "display_name": "Python 3",
   "language": "python",
   "name": "python3"
  },
  "language_info": {
   "codemirror_mode": {
    "name": "ipython",
    "version": 2
   },
   "file_extension": ".py",
   "mimetype": "text/x-python",
   "name": "python",
   "nbconvert_exporter": "python",
   "pygments_lexer": "ipython2",
   "version": "2.7.6"
  }
 },
 "nbformat": 4,
 "nbformat_minor": 0
}