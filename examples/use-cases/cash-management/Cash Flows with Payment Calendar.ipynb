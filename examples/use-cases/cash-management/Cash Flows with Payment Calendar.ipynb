{
 "cells": [
  {
   "attachments": {},
   "cell_type": "markdown",
   "id": "41130960",
   "metadata": {},
   "source": [
    "# Payment Calendars Example\n",
    "In this notebook we will create a portfolio containing four bonds, each one having a different roll convention. We will then run a valuation on the portfolio and retrieve the payment dates for each bond, which will each have a different payment date.\n",
    "\n",
    "The calendar date we are using for this example is the 4th July. As this is a market holiday in the US every year, we are creating these as US bonds. \n",
    "\n",
    "The following roll conventions are used:\n",
    "- NoAdjustment: This will cause the bonds' payment date to be the 4th July.\n",
    "- Following: This will cause the bonds' payment date to be the 5th July.\n",
    "- ModifiedFollowing: This will cause the bonds' payment date to be the 5th July.\n",
    "- Previous: This will cause the bonds' payment date to be the 3rd July.\n",
    "\n",
    "## Contents\n",
    "- [Setup](#setup)\n",
    "- [1. Create a Portfolio](#1-create-a-portfolio)\n",
    "- [2. Create and Upsert Bonds into Lusid](#2-create-and-upsert-bonds-into-lusid)\n",
    "- [3. Create and Upsert Transactions](#3-create-and-upsert-transactions)\n",
    "- [4. Add Quotes for Bonds](#4-add-quotes-for-all-defined-bonds)\n",
    "- [5. Create and Run a Valuation](#5-create-and-run-a-valuation-on-the-portfolio)"
   ]
  },
  {
   "cell_type": "markdown",
   "id": "4b51485f",
   "metadata": {},
   "source": [
    "## Setup"
   ]
  },
  {
   "cell_type": "code",
   "execution_count": 1,
   "id": "51118ddf",
   "metadata": {},
   "outputs": [
    {
     "name": "stdout",
     "output_type": "stream",
     "text": [
      "LUSID Environment Initialised\n",
      "LUSID API Version : 0.6.10858.0\n"
     ]
    }
   ],
   "source": [
    "# Import generic non-LUSID packages\n",
    "import os\n",
    "import json\n",
    "import pytz\n",
    "import pandas as pd\n",
    "from datetime import datetime\n",
    "\n",
    "# Import key modules from the LUSID package\n",
    "import lusid as lu\n",
    "import lusid.models as lm\n",
    "\n",
    "# Import key functions from Lusid-Python-Tools and other packages\n",
    "from lusidtools.lpt.lpt import to_date\n",
    "from lusidjam import RefreshingToken\n",
    "\n",
    "\n",
    "# Set DataFrame display formats\n",
    "pd.set_option(\"display.max_columns\", None)\n",
    "pd.set_option(\"display.max_rows\", None)\n",
    "pd.options.display.float_format = \"{:,.2f}\".format\n",
    "\n",
    "# Set the secrets path\n",
    "secrets_path = os.getenv(\"FBN_SECRETS_PATH\")\n",
    "\n",
    "# For running the notebook locally\n",
    "if secrets_path is None:\n",
    "    secrets_path = os.path.join(os.path.dirname(os.getcwd()), \"secrets.json\")\n",
    "\n",
    "# Authenticate our user and create our API client\n",
    "api_factory = lu.utilities.ApiClientFactory(\n",
    "    token=RefreshingToken(), api_secrets_filename=secrets_path\n",
    ")\n",
    "\n",
    "print(\"LUSID Environment Initialised\")\n",
    "print(\n",
    "    \"LUSID API Version :\",\n",
    "    api_factory.build(lu.api.ApplicationMetadataApi).get_lusid_versions().build_version,\n",
    ")"
   ]
  },
  {
   "cell_type": "code",
   "execution_count": 2,
   "id": "36f52daf",
   "metadata": {},
   "outputs": [],
   "source": [
    "# LUSID api definitions\n",
    "portfolio_api = api_factory.build(lu.api.PortfoliosApi)\n",
    "transaction_portfolios_api = api_factory.build(lu.api.TransactionPortfoliosApi)\n",
    "instruments_api = api_factory.build(lu.api.InstrumentsApi)\n",
    "quotes_api = api_factory.build(lu.api.QuotesApi)\n",
    "configuration_recipe_api = api_factory.build(lu.api.ConfigurationRecipeApi)\n",
    "system_configuration_api = api_factory.build(lu.api.SystemConfigurationApi)\n",
    "aggregration_api = api_factory.build(lu.api.AggregationApi)"
   ]
  },
  {
   "cell_type": "code",
   "execution_count": 3,
   "id": "24192632",
   "metadata": {},
   "outputs": [],
   "source": [
    "# Define scope and portfolio code\n",
    "scope = \"payment-calendars-example\"\n",
    "portfolio_code = \"CalendarsExample\""
   ]
  },
  {
   "cell_type": "markdown",
   "id": "221418cf",
   "metadata": {},
   "source": [
    "## 1. Create a portfolio\n",
    "\n",
    "This will be the portfolio used throughout this example."
   ]
  },
  {
   "cell_type": "code",
   "execution_count": 4,
   "id": "6c496e98",
   "metadata": {},
   "outputs": [
    {
     "name": "stdout",
     "output_type": "stream",
     "text": [
      "Could not create a portfolio with id 'CalendarsExample' because it already exists in scope 'payment-calendars-example'.\n"
     ]
    }
   ],
   "source": [
    "try:\n",
    "    transaction_portfolios_api.create_portfolio(\n",
    "        scope=scope,\n",
    "        create_transaction_portfolio_request=lm.CreateTransactionPortfolioRequest(\n",
    "            display_name=portfolio_code,\n",
    "            code=portfolio_code,\n",
    "            base_currency=\"USD\",\n",
    "            created=\"2010-01-01\",\n",
    "            sub_holding_keys=[],\n",
    "        ),\n",
    "    )\n",
    "except lu.ApiException as e:\n",
    "    print(json.loads(e.body)[\"title\"])"
   ]
  },
  {
   "cell_type": "markdown",
   "id": "f5a4cf93",
   "metadata": {},
   "source": [
    "## 2. Create and upsert bonds into LUSID\n",
    "\n",
    "We will now create a function for upserting a customisable bond instrument."
   ]
  },
  {
   "cell_type": "markdown",
   "id": "5e9f2a6f",
   "metadata": {},
   "source": [
    "### Create bond definition"
   ]
  },
  {
   "cell_type": "code",
   "execution_count": 5,
   "id": "32dcadc6",
   "metadata": {},
   "outputs": [],
   "source": [
    "def create_bond(\n",
    "    currency,\n",
    "    payment_frequency,\n",
    "    roll_convention,\n",
    "    day_count_convention,\n",
    "    payment_calendars,\n",
    "    reset_calendars,\n",
    "    settle_days,\n",
    "    reset_days,\n",
    "    start_date,\n",
    "    maturity_date,\n",
    "    dom_ccy,\n",
    "    principal,\n",
    "    coupon_rate,\n",
    "    bond_identifier,\n",
    "    bond_name,\n",
    "):\n",
    "\n",
    "    flow_conventions = lm.FlowConventions(\n",
    "        currency=currency,\n",
    "        payment_frequency=payment_frequency,\n",
    "        roll_convention=roll_convention,\n",
    "        day_count_convention=day_count_convention,\n",
    "        payment_calendars=payment_calendars,\n",
    "        reset_calendars=reset_calendars,\n",
    "        settle_days=settle_days,\n",
    "        reset_days=reset_days,\n",
    "    )\n",
    "\n",
    "    bond = lm.Bond(\n",
    "        start_date=start_date,\n",
    "        maturity_date=maturity_date,\n",
    "        dom_ccy=dom_ccy,\n",
    "        principal=principal,\n",
    "        coupon_rate=coupon_rate,\n",
    "        flow_conventions=flow_conventions,\n",
    "        identifiers={},\n",
    "        instrument_type=\"Bond\",\n",
    "        calculation_type=\"Standard\",\n",
    "    )\n",
    "\n",
    "    # define the instrument to be upserted\n",
    "    bond_definition = lm.InstrumentDefinition(\n",
    "        name=bond_name,\n",
    "        identifiers={\"ClientInternal\": lm.InstrumentIdValue(bond_identifier)},\n",
    "        definition=bond,\n",
    "    )\n",
    "\n",
    "    # upsert the instrument\n",
    "    upsert_request = {bond_identifier: bond_definition}\n",
    "    upsert_response = instruments_api.upsert_instruments(request_body=upsert_request)\n",
    "    bond_luid = upsert_response.values[bond_identifier].lusid_instrument_id\n",
    "    print(bond_luid)"
   ]
  },
  {
   "cell_type": "markdown",
   "id": "612a6df2",
   "metadata": {},
   "source": [
    "### Upserting Bonds\n",
    "\n",
    "Here we will define various bonds with different roll conventions."
   ]
  },
  {
   "cell_type": "code",
   "execution_count": 6,
   "id": "b2492433",
   "metadata": {},
   "outputs": [],
   "source": [
    "# Define various roll conventions and associate with a bond identifier\n",
    "bond_roll_mapping = {\n",
    "    \"A_3_02-15-2049\": \"Previous\",\n",
    "    \"B_3_02-15-2049\": \"NoAdjustment\",\n",
    "    \"C_3_02-15-2049\": \"ModifiedFollowing\",\n",
    "    \"D_3_02-15-2049\": \"Following\"\n",
    "}\n",
    "\n",
    "roll_df = pd.Series(bond_roll_mapping, name='roll')\n",
    "roll_df.index.name = 'id'"
   ]
  },
  {
   "cell_type": "code",
   "execution_count": 7,
   "id": "0661751f",
   "metadata": {},
   "outputs": [
    {
     "name": "stdout",
     "output_type": "stream",
     "text": [
      "LUID_00003D5M\n",
      "LUID_00003D5N\n",
      "LUID_00003D5O\n",
      "LUID_00003D5P\n"
     ]
    }
   ],
   "source": [
    "# Upsert four bonds corresponding to the mapping above\n",
    "for identifier, roll_convention in bond_roll_mapping.items():\n",
    "    currency = \"USD\"\n",
    "    payment_frequency = \"1M\"\n",
    "    roll_convention = roll_convention\n",
    "    day_count_convention = \"ActualActual\"\n",
    "    payment_calendars = [\"USD\"]\n",
    "    reset_calendars = [\"USD\"]\n",
    "    settle_days = 0\n",
    "    reset_days = 0\n",
    "    start_date = datetime(2019, 3, 4, 0, tzinfo=pytz.utc)\n",
    "    maturity_date = datetime(2049, 3, 4, 0, tzinfo=pytz.utc)\n",
    "    dom_ccy = \"USD\"\n",
    "    principal = 1\n",
    "    coupon_rate = 0.03\n",
    "    bond_identifier = identifier\n",
    "    bond_name = identifier.replace(\"_\", \" \")\n",
    "\n",
    "    create_bond(\n",
    "        currency,\n",
    "        payment_frequency,\n",
    "        roll_convention,\n",
    "        day_count_convention,\n",
    "        payment_calendars,\n",
    "        reset_calendars,\n",
    "        settle_days,\n",
    "        reset_days,\n",
    "        start_date,\n",
    "        maturity_date,\n",
    "        dom_ccy,\n",
    "        principal,\n",
    "        coupon_rate,\n",
    "        bond_identifier,\n",
    "        bond_name,\n",
    "    )"
   ]
  },
  {
   "cell_type": "markdown",
   "id": "ee1316fa",
   "metadata": {},
   "source": [
    "## 3. Create and upsert transactions\n",
    "\n",
    "In order for valuations to be executed, transactions relating to the purchasing of the bonds needs to be added to the previously created portfolio."
   ]
  },
  {
   "cell_type": "code",
   "execution_count": 8,
   "id": "ad5a37e8",
   "metadata": {
    "scrolled": true
   },
   "outputs": [
    {
     "data": {
      "text/html": [
       "<div>\n",
       "<style scoped>\n",
       "    .dataframe tbody tr th:only-of-type {\n",
       "        vertical-align: middle;\n",
       "    }\n",
       "\n",
       "    .dataframe tbody tr th {\n",
       "        vertical-align: top;\n",
       "    }\n",
       "\n",
       "    .dataframe thead th {\n",
       "        text-align: right;\n",
       "    }\n",
       "</style>\n",
       "<table border=\"1\" class=\"dataframe\">\n",
       "  <thead>\n",
       "    <tr style=\"text-align: right;\">\n",
       "      <th></th>\n",
       "      <th>txn_id</th>\n",
       "      <th>type</th>\n",
       "      <th>client_id</th>\n",
       "      <th>trade_date</th>\n",
       "      <th>settlement_date</th>\n",
       "      <th>quantity</th>\n",
       "      <th>price</th>\n",
       "      <th>total_consideration</th>\n",
       "      <th>currency</th>\n",
       "    </tr>\n",
       "  </thead>\n",
       "  <tbody>\n",
       "    <tr>\n",
       "      <th>0</th>\n",
       "      <td>txn001</td>\n",
       "      <td>StockIn</td>\n",
       "      <td>A_3_02-15-2049</td>\n",
       "      <td>2019-03-31T10:00:00Z</td>\n",
       "      <td>2019-04-02T10:00:00Z</td>\n",
       "      <td>1000000</td>\n",
       "      <td>1</td>\n",
       "      <td>1</td>\n",
       "      <td>USD</td>\n",
       "    </tr>\n",
       "    <tr>\n",
       "      <th>1</th>\n",
       "      <td>txn002</td>\n",
       "      <td>StockIn</td>\n",
       "      <td>B_3_02-15-2049</td>\n",
       "      <td>2019-03-31T10:00:00Z</td>\n",
       "      <td>2019-04-02T10:00:00Z</td>\n",
       "      <td>1000000</td>\n",
       "      <td>1</td>\n",
       "      <td>1</td>\n",
       "      <td>USD</td>\n",
       "    </tr>\n",
       "    <tr>\n",
       "      <th>2</th>\n",
       "      <td>txn003</td>\n",
       "      <td>StockIn</td>\n",
       "      <td>C_3_02-15-2049</td>\n",
       "      <td>2019-03-31T10:00:00Z</td>\n",
       "      <td>2019-04-02T10:00:00Z</td>\n",
       "      <td>1000000</td>\n",
       "      <td>1</td>\n",
       "      <td>1</td>\n",
       "      <td>USD</td>\n",
       "    </tr>\n",
       "    <tr>\n",
       "      <th>3</th>\n",
       "      <td>txn004</td>\n",
       "      <td>StockIn</td>\n",
       "      <td>D_3_02-15-2049</td>\n",
       "      <td>2019-03-31T10:00:00Z</td>\n",
       "      <td>2019-04-02T10:00:00Z</td>\n",
       "      <td>1000000</td>\n",
       "      <td>1</td>\n",
       "      <td>1</td>\n",
       "      <td>USD</td>\n",
       "    </tr>\n",
       "  </tbody>\n",
       "</table>\n",
       "</div>"
      ],
      "text/plain": [
       "   txn_id     type       client_id            trade_date  \\\n",
       "0  txn001  StockIn  A_3_02-15-2049  2019-03-31T10:00:00Z   \n",
       "1  txn002  StockIn  B_3_02-15-2049  2019-03-31T10:00:00Z   \n",
       "2  txn003  StockIn  C_3_02-15-2049  2019-03-31T10:00:00Z   \n",
       "3  txn004  StockIn  D_3_02-15-2049  2019-03-31T10:00:00Z   \n",
       "\n",
       "        settlement_date  quantity  price  total_consideration currency  \n",
       "0  2019-04-02T10:00:00Z   1000000      1                    1      USD  \n",
       "1  2019-04-02T10:00:00Z   1000000      1                    1      USD  \n",
       "2  2019-04-02T10:00:00Z   1000000      1                    1      USD  \n",
       "3  2019-04-02T10:00:00Z   1000000      1                    1      USD  "
      ]
     },
     "execution_count": 8,
     "metadata": {},
     "output_type": "execute_result"
    }
   ],
   "source": [
    "transactions = pd.read_csv(\"data/bond_transactions.csv\")\n",
    "transactions"
   ]
  },
  {
   "cell_type": "code",
   "execution_count": 9,
   "id": "95adc277",
   "metadata": {},
   "outputs": [
    {
     "name": "stdout",
     "output_type": "stream",
     "text": [
      "Transactions succesfully updated at time: 2023-02-21 18:38:09.562780+00:00\n"
     ]
    }
   ],
   "source": [
    "transaction_request = [\n",
    "    lm.TransactionRequest(\n",
    "        transaction_id=row[\"txn_id\"],\n",
    "        type=row[\"type\"],\n",
    "        instrument_identifiers={\n",
    "            \"Instrument/default/ClientInternal\": row[\"client_id\"]\n",
    "        },\n",
    "        transaction_date=row[\"trade_date\"],\n",
    "        settlement_date=row[\"settlement_date\"],\n",
    "        units=row[\"quantity\"]*0.9,\n",
    "        transaction_price=lm.TransactionPrice(price=row[\"price\"], type=\"Price\"),\n",
    "        total_consideration=lm.CurrencyAndAmount(\n",
    "            amount=row[\"total_consideration\"], currency=row[\"currency\"]\n",
    "        )\n",
    "    )\n",
    "    for index, row in transactions.iterrows()\n",
    "]\n",
    "\n",
    "\n",
    "response = transaction_portfolios_api.upsert_transactions(\n",
    "    scope=scope, code=portfolio_code, transaction_request=transaction_request\n",
    ")\n",
    "\n",
    "print(f\"Transactions succesfully updated at time: {response.version.as_at_date}\")"
   ]
  },
  {
   "cell_type": "markdown",
   "id": "3d9440f1",
   "metadata": {},
   "source": [
    "## 4. Add quotes for all defined bonds\n",
    "\n",
    "We will now assign a quote prices to each of the bonds previously upserted into LUSID"
   ]
  },
  {
   "cell_type": "code",
   "execution_count": 10,
   "id": "21c230b6",
   "metadata": {},
   "outputs": [
    {
     "data": {
      "text/html": [
       "<div>\n",
       "<style scoped>\n",
       "    .dataframe tbody tr th:only-of-type {\n",
       "        vertical-align: middle;\n",
       "    }\n",
       "\n",
       "    .dataframe tbody tr th {\n",
       "        vertical-align: top;\n",
       "    }\n",
       "\n",
       "    .dataframe thead th {\n",
       "        text-align: right;\n",
       "    }\n",
       "</style>\n",
       "<table border=\"1\" class=\"dataframe\">\n",
       "  <thead>\n",
       "    <tr style=\"text-align: right;\">\n",
       "      <th></th>\n",
       "      <th>client_internal</th>\n",
       "      <th>date</th>\n",
       "      <th>price</th>\n",
       "      <th>currency</th>\n",
       "    </tr>\n",
       "  </thead>\n",
       "  <tbody>\n",
       "    <tr>\n",
       "      <th>0</th>\n",
       "      <td>A_3_02-15-2049</td>\n",
       "      <td>15-07-2019</td>\n",
       "      <td>100</td>\n",
       "      <td>USD</td>\n",
       "    </tr>\n",
       "    <tr>\n",
       "      <th>1</th>\n",
       "      <td>A_3_02-15-2049</td>\n",
       "      <td>27-07-2019</td>\n",
       "      <td>100</td>\n",
       "      <td>USD</td>\n",
       "    </tr>\n",
       "    <tr>\n",
       "      <th>2</th>\n",
       "      <td>A_3_02-15-2049</td>\n",
       "      <td>06-08-2019</td>\n",
       "      <td>100</td>\n",
       "      <td>USD</td>\n",
       "    </tr>\n",
       "    <tr>\n",
       "      <th>3</th>\n",
       "      <td>B_3_02-15-2049</td>\n",
       "      <td>15-07-2019</td>\n",
       "      <td>100</td>\n",
       "      <td>USD</td>\n",
       "    </tr>\n",
       "  </tbody>\n",
       "</table>\n",
       "</div>"
      ],
      "text/plain": [
       "  client_internal        date  price currency\n",
       "0  A_3_02-15-2049  15-07-2019    100      USD\n",
       "1  A_3_02-15-2049  27-07-2019    100      USD\n",
       "2  A_3_02-15-2049  06-08-2019    100      USD\n",
       "3  B_3_02-15-2049  15-07-2019    100      USD"
      ]
     },
     "execution_count": 10,
     "metadata": {},
     "output_type": "execute_result"
    }
   ],
   "source": [
    "bond_quotes = pd.read_csv(\"data/bond_quotes.csv\")\n",
    "bond_quotes.head(4)"
   ]
  },
  {
   "cell_type": "code",
   "execution_count": 11,
   "id": "f6ded1e3",
   "metadata": {},
   "outputs": [
    {
     "name": "stdout",
     "output_type": "stream",
     "text": [
      "Quote successfully loaded into LUSID. 12 quotes loaded.\n"
     ]
    }
   ],
   "source": [
    "# Define a request body to upsert quotes to LUSID\n",
    "instrument_quotes = {\n",
    "    index: lm.UpsertQuoteRequest(\n",
    "        quote_id=lm.QuoteId(\n",
    "            quote_series_id=lm.QuoteSeriesId(\n",
    "                provider=\"Lusid\",\n",
    "                instrument_id=row[\"client_internal\"],\n",
    "                instrument_id_type=\"ClientInternal\",\n",
    "                quote_type=\"Price\",\n",
    "                field=\"mid\",\n",
    "            ),\n",
    "            effective_at=to_date(row[\"date\"]).isoformat(),\n",
    "        ),\n",
    "        metric_value=lm.MetricValue(value=row[\"price\"], unit=row[\"currency\"]),\n",
    "        scale_factor=100,\n",
    "    )\n",
    "    for index, row in bond_quotes.iterrows()\n",
    "}\n",
    "    \n",
    "response = quotes_api.upsert_quotes(scope=scope, request_body=instrument_quotes)\n",
    "\n",
    "if response.failed == {}:\n",
    "    print(\n",
    "        f\"Quote successfully loaded into LUSID. {len(response.values)} quotes loaded.\"\n",
    "    )\n",
    "\n",
    "else:\n",
    "    print(\n",
    "        f\"Some failures occurred during quotes upsertion, {len(response.failed)} did not get loaded into LUSID.\"\n",
    "    )"
   ]
  },
  {
   "cell_type": "markdown",
   "id": "5130b252",
   "metadata": {},
   "source": [
    "## 5. Create and run a valuation on the portfolio\n",
    "\n",
    "Now that we have the bonds uploaded with corresponding quotes, we will create a valuation recipe."
   ]
  },
  {
   "cell_type": "markdown",
   "id": "295d06f4",
   "metadata": {},
   "source": [
    "### Create a valuation recipe"
   ]
  },
  {
   "cell_type": "code",
   "execution_count": 12,
   "id": "729da3e7",
   "metadata": {},
   "outputs": [],
   "source": [
    "# Create a recipe to perform a valuation\n",
    "configuration_recipe = lm.ConfigurationRecipe(\n",
    "    scope=scope,\n",
    "    code=\"bondValuationSimple\",\n",
    "    market=lm.MarketContext(\n",
    "         market_rules=[\n",
    "            lm.MarketDataKeyRule(\n",
    "                key=\"Quote.ClientInternal.*\",\n",
    "                supplier=\"Lusid\",\n",
    "                data_scope=scope,\n",
    "                quote_type=\"Price\",\n",
    "                field=\"mid\",\n",
    "                quote_interval=\"5D.0D\",\n",
    "            ),\n",
    "            lm.MarketDataKeyRule(\n",
    "                key=\"Quote.LusidInstrumentId.*\",\n",
    "                supplier=\"Lusid\",\n",
    "                data_scope=scope,\n",
    "                quote_type=\"Price\",\n",
    "                field=\"mid\",\n",
    "                quote_interval=\"5D.0D\",\n",
    "            )\n",
    "        ],\n",
    "        options=lm.MarketOptions(\n",
    "            default_supplier=\"Lusid\",\n",
    "            default_instrument_code_type=\"ClientInternal\",\n",
    "            default_scope=scope,\n",
    "        ),\n",
    "    ),\n",
    "    pricing=lm.PricingContext(\n",
    "        model_rules=[\n",
    "            lm.VendorModelRule(\n",
    "                supplier=\"Lusid\",\n",
    "                model_name=\"SimpleStatic\",\n",
    "                instrument_type=\"Bond\",\n",
    "                parameters=\"{}\",\n",
    "            )\n",
    "        ]\n",
    "    ),\n",
    ")\n",
    "\n",
    "upsert_configuration_recipe_response = (\n",
    "    configuration_recipe_api.upsert_configuration_recipe(\n",
    "        upsert_recipe_request=lm.UpsertRecipeRequest(\n",
    "            configuration_recipe=configuration_recipe\n",
    "        )\n",
    "    )\n",
    ")"
   ]
  },
  {
   "cell_type": "markdown",
   "id": "642569d8",
   "metadata": {},
   "source": [
    "### Create valuation function based on recipe\n",
    "\n",
    "Once the recipe is defined, we can execute an evaluation on the bonds "
   ]
  },
  {
   "cell_type": "code",
   "execution_count": 19,
   "id": "1390c1a8",
   "metadata": {},
   "outputs": [],
   "source": [
    "def get_val(date, portfolio_code):\n",
    "    valuation_request = lm.ValuationRequest(\n",
    "        recipe_id=lm.ResourceId(scope=scope, code=\"bondValuationSimple\"),\n",
    "        metrics=[\n",
    "            lm.AggregateSpec(\"Instrument/default/Name\", \"Value\"),\n",
    "            lm.AggregateSpec(\"Instrument/default/ClientInternal\", \"Value\"),\n",
    "            lm.AggregateSpec(\"Instrument/default/LusidInstrumentId\", \"Value\"),\n",
    "            lm.AggregateSpec(\"Holding/default/Units\", \"Value\"),\n",
    "            lm.AggregateSpec(\"Valuation/PV/Amount\", \"Value\"),\n",
    "            lm.AggregateSpec(\"Holding/default/Accrual\", \"Value\"),\n",
    "            lm.AggregateSpec(\"Valuation/PnL/Tm1\", \"Value\")\n",
    "        ],\n",
    "        group_by=[\"Instrument/default/Name\"],\n",
    "        portfolio_entity_ids=[lm.PortfolioEntityId(scope=scope, code=portfolio_code)],\n",
    "        valuation_schedule=lm.ValuationSchedule(effective_at=date),\n",
    "    )\n",
    "\n",
    "    val_data = aggregration_api.get_valuation(valuation_request=valuation_request).data\n",
    "\n",
    "    vals_df = pd.DataFrame(val_data)\n",
    "\n",
    "    vals_df.rename(\n",
    "        columns={\n",
    "            \"Instrument/default/Name\": \"InstrumentName\",\n",
    "            \"Instrument/default/ClientInternal\": \"ClientInternal\",\n",
    "            \"Valuation/PV/Amount\": \"Present Value\",\n",
    "            \"Valuation/PnL/Tm1\": \"PnL (1-day)\",\n",
    "            \"Holding/default/Accrual\": \"Accrued Interest\",\n",
    "        },\n",
    "        inplace=True,\n",
    "    )\n",
    "    try:\n",
    "        return vals_df.drop(\"Aggregation/Errors\", axis=1)\n",
    "    except:\n",
    "        return vals_df"
   ]
  },
  {
   "cell_type": "markdown",
   "id": "b08b6e98",
   "metadata": {},
   "source": [
    "### Execute evaluation function\n",
    "\n",
    "We will now run the evaluations. The accrued interest and portfolio value are shown. "
   ]
  },
  {
   "cell_type": "code",
   "execution_count": 14,
   "id": "fecea415",
   "metadata": {},
   "outputs": [
    {
     "data": {
      "text/html": [
       "<div>\n",
       "<style scoped>\n",
       "    .dataframe tbody tr th:only-of-type {\n",
       "        vertical-align: middle;\n",
       "    }\n",
       "\n",
       "    .dataframe tbody tr th {\n",
       "        vertical-align: top;\n",
       "    }\n",
       "\n",
       "    .dataframe thead th {\n",
       "        text-align: right;\n",
       "    }\n",
       "</style>\n",
       "<table border=\"1\" class=\"dataframe\">\n",
       "  <thead>\n",
       "    <tr style=\"text-align: right;\">\n",
       "      <th></th>\n",
       "      <th>Present Value</th>\n",
       "      <th>InstrumentName</th>\n",
       "      <th>ClientInternal</th>\n",
       "      <th>Instrument/default/LusidInstrumentId</th>\n",
       "      <th>Holding/default/Units</th>\n",
       "      <th>Accrued Interest</th>\n",
       "      <th>PnL (1-day)</th>\n",
       "    </tr>\n",
       "  </thead>\n",
       "  <tbody>\n",
       "    <tr>\n",
       "      <th>0</th>\n",
       "      <td>901,617.19</td>\n",
       "      <td>C 3 02-15-2049</td>\n",
       "      <td>C_3_02-15-2049</td>\n",
       "      <td>LUID_00003D5O</td>\n",
       "      <td>900,000.00</td>\n",
       "      <td>1,617.19</td>\n",
       "      <td>None</td>\n",
       "    </tr>\n",
       "    <tr>\n",
       "      <th>1</th>\n",
       "      <td>901,617.19</td>\n",
       "      <td>D 3 02-15-2049</td>\n",
       "      <td>D_3_02-15-2049</td>\n",
       "      <td>LUID_00003D5P</td>\n",
       "      <td>900,000.00</td>\n",
       "      <td>1,617.19</td>\n",
       "      <td>None</td>\n",
       "    </tr>\n",
       "    <tr>\n",
       "      <th>2</th>\n",
       "      <td>901,669.35</td>\n",
       "      <td>B 3 02-15-2049</td>\n",
       "      <td>B_3_02-15-2049</td>\n",
       "      <td>LUID_00003D5N</td>\n",
       "      <td>900,000.00</td>\n",
       "      <td>1,669.35</td>\n",
       "      <td>None</td>\n",
       "    </tr>\n",
       "    <tr>\n",
       "      <th>3</th>\n",
       "      <td>901,784.48</td>\n",
       "      <td>A 3 02-15-2049</td>\n",
       "      <td>A_3_02-15-2049</td>\n",
       "      <td>LUID_00003D5M</td>\n",
       "      <td>900,000.00</td>\n",
       "      <td>1,784.48</td>\n",
       "      <td>None</td>\n",
       "    </tr>\n",
       "  </tbody>\n",
       "</table>\n",
       "</div>"
      ],
      "text/plain": [
       "   Present Value  InstrumentName  ClientInternal  \\\n",
       "0     901,617.19  C 3 02-15-2049  C_3_02-15-2049   \n",
       "1     901,617.19  D 3 02-15-2049  D_3_02-15-2049   \n",
       "2     901,669.35  B 3 02-15-2049  B_3_02-15-2049   \n",
       "3     901,784.48  A 3 02-15-2049  A_3_02-15-2049   \n",
       "\n",
       "  Instrument/default/LusidInstrumentId  Holding/default/Units  \\\n",
       "0                        LUID_00003D5O             900,000.00   \n",
       "1                        LUID_00003D5P             900,000.00   \n",
       "2                        LUID_00003D5N             900,000.00   \n",
       "3                        LUID_00003D5M             900,000.00   \n",
       "\n",
       "   Accrued Interest PnL (1-day)  \n",
       "0          1,617.19        None  \n",
       "1          1,617.19        None  \n",
       "2          1,669.35        None  \n",
       "3          1,784.48        None  "
      ]
     },
     "execution_count": 14,
     "metadata": {},
     "output_type": "execute_result"
    }
   ],
   "source": [
    "df_val = get_val(\"2019-07-27T10:00:00Z\", portfolio_code)\n",
    "df_val"
   ]
  },
  {
   "cell_type": "markdown",
   "id": "76c07287",
   "metadata": {},
   "source": [
    "Finally, we will display the cash flows for the portfolio around EoM."
   ]
  },
  {
   "cell_type": "code",
   "execution_count": 17,
   "id": "b6cfa63a",
   "metadata": {},
   "outputs": [],
   "source": [
    "# Window set to EoM\n",
    "window_start = datetime(2023,6,15)\n",
    "window_end = datetime(2023,7,15)\n",
    "\n",
    "# Date manipulation to add timezone\n",
    "window_start = window_start.strftime('%Y-%m-%dT%H:%M:%SZ')\n",
    "window_end = window_end.strftime('%Y-%m-%dT%H:%M:%SZ')\n",
    "\n",
    "api_response = transaction_portfolios_api.get_portfolio_cash_flows(scope, portfolio_code, window_start=window_start, window_end=window_end)\n",
    "\n",
    "# Join dataframes to show associated roll conventions\n",
    "df = pd.DataFrame.from_dict(api_response.to_dict()['values'], orient='columns')\n",
    "df['payment_date'] = df['payment_date'].dt.date\n",
    "df = pd.merge(df, df_val, how='inner', left_on='source_instrument_id', right_on='Instrument/default/LusidInstrumentId')\n",
    "df = df.merge(roll_df.to_frame(), how='outer', left_on='ClientInternal', right_on='id')\n",
    "df = df.rename(columns={\"InstrumentName\": \"instrument_name\", \"roll\": \"roll_convention\", \"ClientInternal\": \"client_internal\"})\n"
   ]
  },
  {
   "cell_type": "code",
   "execution_count": 18,
   "id": "186d27f9",
   "metadata": {},
   "outputs": [
    {
     "data": {
      "text/html": [
       "<div>\n",
       "<style scoped>\n",
       "    .dataframe tbody tr th:only-of-type {\n",
       "        vertical-align: middle;\n",
       "    }\n",
       "\n",
       "    .dataframe tbody tr th {\n",
       "        vertical-align: top;\n",
       "    }\n",
       "\n",
       "    .dataframe thead th {\n",
       "        text-align: right;\n",
       "    }\n",
       "</style>\n",
       "<table border=\"1\" class=\"dataframe\">\n",
       "  <thead>\n",
       "    <tr style=\"text-align: right;\">\n",
       "      <th></th>\n",
       "      <th>instrument_name</th>\n",
       "      <th>roll_convention</th>\n",
       "      <th>payment_date</th>\n",
       "      <th>amount</th>\n",
       "    </tr>\n",
       "  </thead>\n",
       "  <tbody>\n",
       "    <tr>\n",
       "      <th>0</th>\n",
       "      <td>A 3 02-15-2049</td>\n",
       "      <td>Previous</td>\n",
       "      <td>2023-07-03</td>\n",
       "      <td>2,250.00</td>\n",
       "    </tr>\n",
       "    <tr>\n",
       "      <th>1</th>\n",
       "      <td>B 3 02-15-2049</td>\n",
       "      <td>NoAdjustment</td>\n",
       "      <td>2023-07-04</td>\n",
       "      <td>2,250.00</td>\n",
       "    </tr>\n",
       "    <tr>\n",
       "      <th>2</th>\n",
       "      <td>C 3 02-15-2049</td>\n",
       "      <td>ModifiedFollowing</td>\n",
       "      <td>2023-07-05</td>\n",
       "      <td>2,250.00</td>\n",
       "    </tr>\n",
       "    <tr>\n",
       "      <th>3</th>\n",
       "      <td>D 3 02-15-2049</td>\n",
       "      <td>Following</td>\n",
       "      <td>2023-07-05</td>\n",
       "      <td>2,250.00</td>\n",
       "    </tr>\n",
       "  </tbody>\n",
       "</table>\n",
       "</div>"
      ],
      "text/plain": [
       "  instrument_name    roll_convention payment_date   amount\n",
       "0  A 3 02-15-2049           Previous   2023-07-03 2,250.00\n",
       "1  B 3 02-15-2049       NoAdjustment   2023-07-04 2,250.00\n",
       "2  C 3 02-15-2049  ModifiedFollowing   2023-07-05 2,250.00\n",
       "3  D 3 02-15-2049          Following   2023-07-05 2,250.00"
      ]
     },
     "execution_count": 18,
     "metadata": {},
     "output_type": "execute_result"
    }
   ],
   "source": [
    "df[['instrument_name', 'roll_convention', 'payment_date', 'amount']]"
   ]
  }
 ],
 "metadata": {
  "kernelspec": {
   "display_name": "Python 3 (ipykernel)",
   "language": "python",
   "name": "python3"
  },
  "language_info": {
   "codemirror_mode": {
    "name": "ipython",
    "version": 3
   },
   "file_extension": ".py",
   "mimetype": "text/x-python",
   "name": "python",
   "nbconvert_exporter": "python",
   "pygments_lexer": "ipython3",
   "version": "3.9.7"
  },
  "toc": {
   "base_numbering": 1,
   "nav_menu": {},
   "number_sections": false,
   "sideBar": true,
   "skip_h1_title": false,
   "title_cell": "Table of Contents",
   "title_sidebar": "Contents",
   "toc_cell": false,
   "toc_position": {},
   "toc_section_display": true,
   "toc_window_display": false
  },
  "varInspector": {
   "cols": {
    "lenName": 16,
    "lenType": 16,
    "lenVar": 40
   },
   "kernels_config": {
    "python": {
     "delete_cmd_postfix": "",
     "delete_cmd_prefix": "del ",
     "library": "var_list.py",
     "varRefreshCmd": "print(var_dic_list())"
    },
    "r": {
     "delete_cmd_postfix": ") ",
     "delete_cmd_prefix": "rm(",
     "library": "var_list.r",
     "varRefreshCmd": "cat(var_dic_list()) "
    }
   },
   "types_to_exclude": [
    "module",
    "function",
    "builtin_function_or_method",
    "instance",
    "_Feature"
   ],
   "window_display": false
  },
  "vscode": {
   "interpreter": {
    "hash": "fbe58ca63fe33f9eeae9e71d10368d2b4a57f2b1b395836210cc60d362c66949"
   }
  }
 },
 "nbformat": 4,
 "nbformat_minor": 5
}
