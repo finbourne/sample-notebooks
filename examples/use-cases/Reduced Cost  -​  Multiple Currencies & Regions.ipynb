{
 "cells": [
  {
   "cell_type": "markdown",
   "metadata": {},
   "source": [
    "First things first let's initialise our environment.\n",
    "\n",
    "*Run the cell below to import our libraries and initialise our LUSID client*"
   ]
  },
  {
   "cell_type": "code",
   "execution_count": null,
   "metadata": {},
   "outputs": [],
   "source": [
    "# Import LUSID\n",
    "import lusid.models as models\n",
    "import lusid_sample_data as import_data\n",
    "\n",
    "# Import Libraries\n",
    "import pprint\n",
    "from datetime import datetime, timedelta, time\n",
    "import pytz\n",
    "import printer as prettyprint\n",
    "import pandas as pd\n",
    "import uuid\n",
    "\n",
    "# Authenticate our user and create our API client\n",
    "client = import_data.authenticate_secrets()\n",
    "\n",
    "print ('LUSID Environment Initialised')"
   ]
  },
  {
   "cell_type": "markdown",
   "metadata": {},
   "source": [
    "![Initailise LUSID](img/multiplecurrencies-initialise.gif)"
   ]
  },
  {
   "cell_type": "markdown",
   "metadata": {},
   "source": [
    "## 1) Set up our Scope"
   ]
  },
  {
   "cell_type": "code",
   "execution_count": null,
   "metadata": {},
   "outputs": [],
   "source": [
    "scope_id = str(uuid.uuid4())[:4]\n",
    "scope_name = 'UK_High_Growth_Equities_Fund'\n",
    "scope = '{}_{}'.format(scope_name, scope_id)\n",
    "print (scope)"
   ]
  },
  {
   "cell_type": "markdown",
   "metadata": {},
   "source": [
    "![Scope](img/multiplecurrencies-scope.gif)"
   ]
  },
  {
   "cell_type": "markdown",
   "metadata": {},
   "source": [
    "## 2) Load Instruments"
   ]
  },
  {
   "cell_type": "code",
   "execution_count": null,
   "metadata": {},
   "outputs": [],
   "source": [
    "instrument_universe = pd.read_csv('data/multiplecurrencies-instruments.csv')\n",
    "instrument_universe.head(n=10)"
   ]
  },
  {
   "cell_type": "code",
   "execution_count": null,
   "metadata": {},
   "outputs": [],
   "source": [
    "# Initialise our dictionary to hold our instrument definitions\n",
    "instrument_definitions = {}\n",
    "\n",
    "# Iterate over our instrument universe\n",
    "for index, instrument in instrument_universe.iterrows():\n",
    "\n",
    "    # Create our ISIN property using the default ISIN property definition\n",
    "    isin_property = models.InstrumentProperty(\n",
    "        key='Instrument/default/Isin',\n",
    "        value=models.PropertyValue(\n",
    "            label_value=instrument['isin']))\n",
    "    \n",
    "    # Create our ticker property using the default ticker property definition\n",
    "    ticker_property = models.InstrumentProperty(\n",
    "        key='Instrument/default/Ticker',\n",
    "        value=models.PropertyValue(\n",
    "            label_value=instrument['ticker']))\n",
    "\n",
    "    # Create the definition for our instrument\n",
    "    instrument_definitions[instrument['instrument_name']] = models.InstrumentDefinition(\n",
    "        name=instrument['instrument_name'],\n",
    "        identifiers={'Figi': instrument['figi']},\n",
    "        properties=[\n",
    "            isin_property,\n",
    "            ticker_property\n",
    "        ]\n",
    "    )\n",
    "\n",
    "# Call LUSID to upsert our instrument defintions\n",
    "response = client.upsert_instruments(requests=instrument_definitions)\n",
    "\n",
    "# Pretty print the response from LUSID\n",
    "prettyprint.instrument_response(response, identifier='Figi')"
   ]
  },
  {
   "cell_type": "markdown",
   "metadata": {},
   "source": [
    "![Instruments](img/multiplecurrencies-instruments.gif)"
   ]
  },
  {
   "cell_type": "markdown",
   "metadata": {},
   "source": [
    "## 3) Create our Base Fund Portfolio"
   ]
  },
  {
   "cell_type": "code",
   "execution_count": null,
   "metadata": {
    "scrolled": true
   },
   "outputs": [],
   "source": [
    "base_portfolio_name = '{}_base_fund'.format(scope_name)\n",
    "print (base_portfolio_name)"
   ]
  },
  {
   "cell_type": "code",
   "execution_count": null,
   "metadata": {},
   "outputs": [],
   "source": [
    "# The date our portfolios were first created\n",
    "portfolio_creation_date = (datetime.now(pytz.UTC) - timedelta(days=365))\n",
    "\n",
    "# Create the request to add our portfolio\n",
    "transaction_portfolio_request = models.CreateTransactionPortfolioRequest(\n",
    "    display_name=base_portfolio_name,\n",
    "    code=base_portfolio_name,\n",
    "    base_currency='GBP',\n",
    "    description='The portfolio to hold our base fund',\n",
    "    created=portfolio_creation_date)\n",
    "\n",
    "# Call LUSID to create our portfolio\n",
    "portfolio_response = client.create_portfolio(\n",
    "    scope=scope,\n",
    "    create_request=transaction_portfolio_request)\n",
    "\n",
    "# Pretty print the response from LUSID\n",
    "prettyprint.portfolio_response(portfolio_response)"
   ]
  },
  {
   "cell_type": "markdown",
   "metadata": {},
   "source": [
    "![Base-Fund](img/multiplecurrencies-basefundportfolio.gif)"
   ]
  },
  {
   "cell_type": "markdown",
   "metadata": {},
   "source": [
    "## 4) Set our Holdings"
   ]
  },
  {
   "cell_type": "code",
   "execution_count": null,
   "metadata": {},
   "outputs": [],
   "source": [
    "#Import our holdings\n",
    "holdings = pd.read_csv('data/multiplecurrencies-holdings.csv')\n",
    "holdings.head()"
   ]
  },
  {
   "cell_type": "code",
   "execution_count": null,
   "metadata": {},
   "outputs": [],
   "source": [
    "holding_adjustments = []\n",
    "\n",
    "holdings_effective_date = datetime.now(pytz.UTC) - timedelta(days=7)\n",
    "\n",
    "for row, holding in holdings.iterrows():\n",
    "\n",
    "    holding_adjustments.append(\n",
    "        models.AdjustHoldingRequest(\n",
    "            instrument_identifiers={\n",
    "                    'Instrument/default/Figi': holding['figi']},\n",
    "                tax_lots=[\n",
    "                    models.TargetTaxLotRequest(\n",
    "                        units=holding['quantity'],\n",
    "                        cost=models.CurrencyAndAmount(\n",
    "                            amount=holding['total_cost'],\n",
    "                            currency=holding['currency']),\n",
    "                        portfolio_cost=holding['total_cost'],\n",
    "                        price=holding['unit_cost'])\n",
    "                ]\n",
    "        )\n",
    "    )\n",
    "    \n",
    "# Call LUSID to set our holdings\n",
    "response = client.set_holdings(\n",
    "    scope=scope,\n",
    "    code=base_portfolio_name,\n",
    "    effective_at=holdings_effective_date,\n",
    "    holding_adjustments=holding_adjustments)\n",
    "\n",
    "prettyprint.set_holdings_response(response, scope, base_portfolio_name)"
   ]
  },
  {
   "cell_type": "markdown",
   "metadata": {},
   "source": [
    "![Base-Fund-Hodlings](img/multiplecurrencies-basefundportfolioholdings.gif)"
   ]
  },
  {
   "cell_type": "markdown",
   "metadata": {},
   "source": [
    "## 5) Add Corporate Actions"
   ]
  },
  {
   "cell_type": "code",
   "execution_count": null,
   "metadata": {},
   "outputs": [],
   "source": [
    "corporate_action_source_id = '{}_corporate_action_source'.format(base_portfolio_name)\n",
    "\n",
    "corporate_action_request = models.CreateCorporateActionSourceRequest(\n",
    "    scope=scope,\n",
    "    code=corporate_action_source_id)\n",
    "\n",
    "response = client.create_corporate_action_source(\n",
    "    request=corporate_action_request)\n",
    "    \n",
    "print (response)"
   ]
  },
  {
   "cell_type": "markdown",
   "metadata": {},
   "source": [
    "![Corporate-Action-Source](img/multiplecurrencies-corporateactionsource.gif)"
   ]
  },
  {
   "cell_type": "code",
   "execution_count": null,
   "metadata": {},
   "outputs": [],
   "source": [
    "corporate_actions = pd.read_csv('data/multiplecurrencies-corporateactions.csv')\n",
    "corporate_actions.head()"
   ]
  },
  {
   "cell_type": "code",
   "execution_count": null,
   "metadata": {},
   "outputs": [],
   "source": [
    "actions = []\n",
    "\n",
    "for row, action in corporate_actions.iterrows():\n",
    "    \n",
    "    luid = client.get_instrument(\n",
    "        identifier_type='Figi',\n",
    "        identifier=action['input_instrument_figi']).lusid_instrument_id\n",
    "    \n",
    "    transition = models.CorporateActionTransition(\n",
    "        input_transition=models.CorporateActionTransitionComponent(\n",
    "            instrument_uid=luid,\n",
    "            units_factor=1,\n",
    "            cost_factor=0),\n",
    "        output_transitions=[\n",
    "            models.CorporateActionTransitionComponent(\n",
    "            instrument_uid=action['output_instrument_internal'],\n",
    "            units_factor=action['dividend_yield'],\n",
    "            cost_factor=0),\n",
    "        ])\n",
    "    \n",
    "    actions.append(\n",
    "        models.CreateCorporateAction(\n",
    "            corporate_action_code=action['code'],\n",
    "            announcement_date=datetime.now(pytz.UTC)+timedelta(days=1),\n",
    "            ex_date=datetime.now(pytz.UTC)+timedelta(days=1),\n",
    "            record_date=datetime.now(pytz.UTC)+timedelta(days=1),\n",
    "            payment_date=datetime.now(pytz.UTC)+timedelta(days=1),\n",
    "            transitions=[transition])\n",
    "    )\n",
    "\n",
    "response = client.batch_upsert_corporate_actions(\n",
    "    scope=scope,\n",
    "    code=corporate_action_source_id,\n",
    "    actions=actions)\n",
    "\n",
    "print (response)"
   ]
  },
  {
   "cell_type": "code",
   "execution_count": null,
   "metadata": {},
   "outputs": [],
   "source": [
    "response = client.upsert_portfolio_details(\n",
    "    scope=scope,\n",
    "    code=base_portfolio_name,\n",
    "    details=models.CreatePortfolioDetails(\n",
    "        corporate_action_source_id=models.ResourceId(\n",
    "            scope=scope,\n",
    "            code=corporate_action_source_id),\n",
    "        base_currency='GBP'))\n",
    "\n",
    "print (response)"
   ]
  },
  {
   "cell_type": "markdown",
   "metadata": {},
   "source": [
    "![Corporate-Actions](img/multiplecurrencies-corporateactions.gif)"
   ]
  },
  {
   "cell_type": "markdown",
   "metadata": {},
   "source": [
    "## 6) Value our Base Fund Portfolio"
   ]
  },
  {
   "cell_type": "markdown",
   "metadata": {},
   "source": [
    "### a) Analytic store"
   ]
  },
  {
   "cell_type": "code",
   "execution_count": null,
   "metadata": {},
   "outputs": [],
   "source": [
    "prices = pd.read_csv('data/multiplecurrencies-prices.csv')\n",
    "prices.head()"
   ]
  },
  {
   "cell_type": "code",
   "execution_count": null,
   "metadata": {},
   "outputs": [],
   "source": [
    "times = prices['time'].unique()\n",
    "\n",
    "for time in times:\n",
    "    quote_date = datetime.strptime(time, '%d/%m/%Y')\n",
    "\n",
    "    # Create analytics store request\n",
    "    analytics_store_request = models.CreateAnalyticStoreRequest(\n",
    "        scope=scope,\n",
    "        date_property=quote_date)\n",
    "\n",
    "    # Call LUSID to create our analytics store\n",
    "    client.create_analytic_store(request=analytics_store_request)\n",
    "    \n",
    "    instrument_analytics = []\n",
    "    for row, quote in prices.loc[prices['time'] == time].iterrows():\n",
    "        \n",
    "        luid = client.get_instrument(\n",
    "            identifier_type='Figi',\n",
    "            identifier=quote['instrument_figi']).lusid_instrument_id\n",
    "        \n",
    "        instrument_analytics.append(\n",
    "            models.InstrumentAnalytic(\n",
    "                instrument_uid=luid,\n",
    "                value=quote['price']))\n",
    "        \n",
    "    response = client.set_analytics(\n",
    "        scope=scope,\n",
    "        year=quote_date.year,\n",
    "        month=quote_date.month,\n",
    "        day=quote_date.day,\n",
    "        data=instrument_analytics)\n",
    "    \n",
    "    print (response.key)\n",
    "    "
   ]
  },
  {
   "cell_type": "markdown",
   "metadata": {},
   "source": [
    "![Analytic-Stores](img/multiplecurrencies-analyticstores.gif)"
   ]
  },
  {
   "cell_type": "markdown",
   "metadata": {},
   "source": [
    "### b) Aggregation"
   ]
  },
  {
   "cell_type": "code",
   "execution_count": null,
   "metadata": {},
   "outputs": [],
   "source": [
    "aggregation_request = models.AggregationRequest(\n",
    "    recipe_id=models.ResourceId(\n",
    "        scope=scope,\n",
    "        code='default'),\n",
    "        effective_at=datetime.now(pytz.UTC),\n",
    "        metrics=[\n",
    "            models.AggregateSpec(key='Holding/default/SubHoldingKey',\n",
    "            op='Value'),\n",
    "            models.AggregateSpec(key='Instrument/default/Name',\n",
    "            op='Value'),\n",
    "            models.AggregateSpec(key='Holding/default/Units',\n",
    "            op='sum'),\n",
    "            models.AggregateSpec(key='Holding/default/Cost',\n",
    "            op='sum'),\n",
    "            models.AggregateSpec(key='Holding/default/PV',\n",
    "            op='sum'),\n",
    "        ],\n",
    "        group_by=[\n",
    "            'Holding/default/SubHoldingKey'\n",
    "        ])\n",
    "\n",
    "response = client.get_aggregation_by_portfolio(\n",
    "    scope=scope,\n",
    "    code=base_portfolio_name,\n",
    "    request=aggregation_request)\n",
    "\n",
    "print(response.data)"
   ]
  },
  {
   "cell_type": "markdown",
   "metadata": {},
   "source": [
    "![Analytic-Stores](img/multiplecurrencies-aggregatedbase.gif)"
   ]
  },
  {
   "cell_type": "markdown",
   "metadata": {},
   "source": [
    "## 7) Securitise our Base Fund Portfolio"
   ]
  },
  {
   "cell_type": "markdown",
   "metadata": {},
   "source": [
    "### a) Securitiese with x units"
   ]
  },
  {
   "cell_type": "code",
   "execution_count": null,
   "metadata": {},
   "outputs": [],
   "source": [
    "# Create our request to define a new property\n",
    "property_request = models.CreatePropertyDefinitionRequest(\n",
    "    domain='Instrument',\n",
    "    scope=scope,\n",
    "    code='total_circulation',\n",
    "    value_required=False,\n",
    "    display_name='total_circulation',\n",
    "    data_type_id=models.ResourceId(scope='default', code='number'))\n",
    "\n",
    "# Call LUSID to create our new property\n",
    "response = client.create_property_definition(definition=property_request)\n",
    "\n",
    "# Grab the key off the response to use when referencing this property in other LUSID calls\n",
    "circulation_property_key = response.key\n",
    "\n",
    "# Pretty print our key\n",
    "prettyprint.heading('Circulation Property Key', circulation_property_key)"
   ]
  },
  {
   "cell_type": "markdown",
   "metadata": {},
   "source": [
    "![Analytic-Stores](img/multiplecurrencies-circulationproperty.gif)"
   ]
  },
  {
   "cell_type": "code",
   "execution_count": null,
   "metadata": {},
   "outputs": [],
   "source": [
    "instrument_definition = models.InstrumentDefinition(\n",
    "    name=base_portfolio_name,\n",
    "    identifiers={'ClientInternal': base_portfolio_name},\n",
    "    properties=[models.InstrumentProperty(\n",
    "        key=circulation_property_key,\n",
    "        value=models.PropertyValue(\n",
    "            metric_value=models.MetricValue(\n",
    "                value=40000.00\n",
    "                )))],\n",
    "    look_through_portfolio_id=models.ResourceId(\n",
    "        scope=scope,\n",
    "        code=base_portfolio_name))\n",
    "\n",
    "response = client.upsert_instruments(requests={'look-through':instrument_definition}\n",
    "    )"
   ]
  },
  {
   "cell_type": "code",
   "execution_count": null,
   "metadata": {},
   "outputs": [],
   "source": [
    "print (response.values)"
   ]
  },
  {
   "cell_type": "markdown",
   "metadata": {},
   "source": [
    "![Analytic-Stores](img/multiplecurrencies-securitisebase.gif)"
   ]
  },
  {
   "cell_type": "markdown",
   "metadata": {},
   "source": [
    "### b) Calculalate price from aggregation and store in the aggregation store"
   ]
  },
  {
   "cell_type": "code",
   "execution_count": null,
   "metadata": {},
   "outputs": [],
   "source": [
    "aggregation_request = models.AggregationRequest(\n",
    "    recipe_id=models.ResourceId(\n",
    "        scope=scope,\n",
    "        code='default'),\n",
    "        effective_at=datetime.now(pytz.UTC),\n",
    "        metrics=[\n",
    "            models.AggregateSpec(key='Holding/default/Cost',\n",
    "            op='sum'),\n",
    "            models.AggregateSpec(key='Holding/default/PV',\n",
    "            op='sum'),\n",
    "        ],\n",
    "        group_by=[\n",
    "            'Portfolio/default/Name'\n",
    "        ])\n",
    "\n",
    "response = client.get_aggregation_by_portfolio(\n",
    "    scope=scope,\n",
    "    code=base_portfolio_name,\n",
    "    request=aggregation_request)\n",
    "\n",
    "print (response.data)\n",
    "\n",
    "total_value = response.data[0]['Sum(Holding/default/PV)']\n",
    "total_cost = response.data[0]['Sum(Holding/default/Cost)']"
   ]
  },
  {
   "cell_type": "code",
   "execution_count": null,
   "metadata": {},
   "outputs": [],
   "source": [
    "instrument_analytics = []\n",
    "\n",
    "quote_date = datetime(2019,2,18,tzinfo=pytz.UTC)\n",
    "\n",
    "base_fund_instrument = client.get_instrument(\n",
    "    identifier_type='ClientInternal',\n",
    "    identifier=base_portfolio_name,\n",
    "    instrument_property_keys=[circulation_property_key])\n",
    "\n",
    "luid = base_fund_instrument.lusid_instrument_id\n",
    "total_circulation = base_fund_instrument.properties[0].value\n",
    "price = total_value / total_circulation\n",
    "\n",
    "print (price)\n",
    "\n",
    "instrument_analytics.append(\n",
    "    models.InstrumentAnalytic(\n",
    "        instrument_uid=luid,\n",
    "        value=price))\n",
    "\n",
    "response = client.set_analytics(\n",
    "        scope=scope,\n",
    "        year=quote_date.year,\n",
    "        month=quote_date.month,\n",
    "        day=quote_date.day,\n",
    "        data=instrument_analytics)\n",
    "\n",
    "#print (response.key)"
   ]
  },
  {
   "cell_type": "markdown",
   "metadata": {},
   "source": [
    "![Base-Fund-Price](img/multiplecurrencies-basefundprice.gif)"
   ]
  },
  {
   "cell_type": "markdown",
   "metadata": {},
   "source": [
    "## 8) Create Foreign Currency Portfolios"
   ]
  },
  {
   "cell_type": "code",
   "execution_count": null,
   "metadata": {},
   "outputs": [],
   "source": [
    "fund_currencies = ['AUD', 'GBP', 'USD', 'EUR', 'JPY']\n",
    "\n",
    "for currency in fund_currencies:\n",
    "    \n",
    "    portfolio_name = '{}_{}'.format(base_portfolio_name, currency)\n",
    "    \n",
    "    # Create the request to add our portfolio\n",
    "    transaction_portfolio_request = models.CreateTransactionPortfolioRequest(\n",
    "        display_name=portfolio_name,\n",
    "        code=portfolio_name,\n",
    "        base_currency=currency,\n",
    "        description='The portfolio to hold our base fund in currency {}'.format(currency),\n",
    "        created=portfolio_creation_date)\n",
    "\n",
    "    # Call LUSID to create our portfolio\n",
    "    portfolio_response = client.create_portfolio(\n",
    "        scope=scope,\n",
    "        create_request=transaction_portfolio_request)\n",
    "\n",
    "    # Pretty print the response from LUSID\n",
    "    prettyprint.portfolio_response(portfolio_response)"
   ]
  },
  {
   "cell_type": "markdown",
   "metadata": {},
   "source": [
    "![Foreign-Currency-Portfolios](img/multiplecurrencies-foreigncurrencyportfolios.gif)"
   ]
  },
  {
   "cell_type": "markdown",
   "metadata": {},
   "source": [
    "## 9) Add Base Fund Units"
   ]
  },
  {
   "cell_type": "code",
   "execution_count": null,
   "metadata": {},
   "outputs": [],
   "source": [
    "holding_adjustments = []\n",
    "\n",
    "holdings_effective_date = datetime.now(pytz.UTC) - timedelta(days=7)\n",
    "\n",
    "holding_adjustments.append(\n",
    "    models.AdjustHoldingRequest(\n",
    "        instrument_identifiers={\n",
    "                'Instrument/default/ClientInternal': base_portfolio_name},\n",
    "            tax_lots=[\n",
    "                models.TargetTaxLotRequest(\n",
    "                    units=total_circulation/len(fund_currencies),\n",
    "                    cost=models.CurrencyAndAmount(\n",
    "                        amount=total_cost/len(fund_currencies),\n",
    "                        currency='USD'),\n",
    "                    portfolio_cost=total_cost/len(fund_currencies),\n",
    "                    price=total_cost/total_circulation)\n",
    "            ]\n",
    "    )\n",
    ")\n",
    "\n",
    "for currency in fund_currencies:\n",
    "    # Call LUSID to set our holdings\n",
    "    response = client.set_holdings(\n",
    "        scope=scope,\n",
    "        code='{}_{}'.format(base_portfolio_name, currency),\n",
    "        effective_at=holdings_effective_date,\n",
    "        holding_adjustments=holding_adjustments)\n",
    "\n",
    "    prettyprint.set_holdings_response(response, scope, '{}_{}'.format(base_portfolio_name, currency))"
   ]
  },
  {
   "cell_type": "markdown",
   "metadata": {},
   "source": [
    "![Foreign-Currency-Portfolios](img/multiplecurrencies-foreigncurrencyportfoliosholdbase.gif)"
   ]
  },
  {
   "cell_type": "markdown",
   "metadata": {},
   "source": [
    "## 10) Add Hedging Transactions"
   ]
  },
  {
   "cell_type": "code",
   "execution_count": null,
   "metadata": {},
   "outputs": [],
   "source": [
    "response = client.get_holdings(\n",
    "    scope=scope,\n",
    "    code='{}_{}'.format(base_portfolio_name, 'GBP'))\n",
    "    \n",
    "print (response.values[0])"
   ]
  },
  {
   "cell_type": "code",
   "execution_count": null,
   "metadata": {},
   "outputs": [],
   "source": [
    "aggregation_request = models.AggregationRequest(\n",
    "    recipe_id=models.ResourceId(\n",
    "        scope=scope,\n",
    "        code='default'),\n",
    "        effective_at=quote_date,\n",
    "        metrics=[\n",
    "            models.AggregateSpec(key='Holding/default/SubHoldingKey',\n",
    "            op='Value'),\n",
    "            models.AggregateSpec(key='Instrument/default/Name',\n",
    "            op='Value'),\n",
    "            models.AggregateSpec(key='Holding/default/Units',\n",
    "            op='sum'),\n",
    "            models.AggregateSpec(key='Holding/default/Cost',\n",
    "            op='sum'),\n",
    "            models.AggregateSpec(key='Holding/default/PV',\n",
    "            op='sum'),\n",
    "        ],\n",
    "        group_by=[\n",
    "            'Holding/default/SubHoldingKey'\n",
    "        ])\n",
    "\n",
    "\n",
    "response_foreigncurrency = client.get_aggregation_by_portfolio(\n",
    "    scope=scope,\n",
    "    code='{}_{}'.format(base_portfolio_name, 'EUR'),\n",
    "    request=aggregation_request)\n",
    "\n",
    "\n",
    "response_basefund = client.get_aggregation_by_portfolio(\n",
    "    scope=scope,\n",
    "    code=base_portfolio_name,\n",
    "    request=aggregation_request)\n",
    "\n",
    "print ('Foreign currency portfolio valuation with 8000 units of base fund')\n",
    "for instrument in response_foreigncurrency.data:\n",
    "    for key, value in instrument.items():\n",
    "        print (key, value)\n",
    "    print ('\\n')\n",
    "\n",
    "print ('\\n\\n')\n",
    "    \n",
    "print ('Valuation of base fund')\n",
    "for instrument in response_basefund.data:\n",
    "    for key, value in instrument.items():\n",
    "        print (key, value)\n",
    "    print ('\\n')"
   ]
  },
  {
   "cell_type": "markdown",
   "metadata": {},
   "source": [
    "## You can use this cell below to remove the look through portfolio id then re-run the cell above."
   ]
  },
  {
   "cell_type": "code",
   "execution_count": null,
   "metadata": {},
   "outputs": [],
   "source": [
    "\n",
    "instrument_definition = models.InstrumentDefinition(\n",
    "    name=base_portfolio_name,\n",
    "    identifiers={'ClientInternal': base_portfolio_name},\n",
    "    properties=[models.InstrumentProperty(\n",
    "        key=circulation_property_key,\n",
    "        value=models.PropertyValue(\n",
    "            metric_value=models.MetricValue(\n",
    "                value=40000.00\n",
    "                )))])\n",
    "\n",
    "response = client.upsert_instruments(requests={'look-through':instrument_definition}\n",
    "    )"
   ]
  },
  {
   "cell_type": "markdown",
   "metadata": {},
   "source": [
    "## 11) Value Currency Portfolios"
   ]
  },
  {
   "cell_type": "markdown",
   "metadata": {},
   "source": [
    "## 12) Securitise Currency Portfolios"
   ]
  },
  {
   "cell_type": "markdown",
   "metadata": {},
   "source": [
    "## 13) Create Share Class Portfolios"
   ]
  },
  {
   "cell_type": "markdown",
   "metadata": {},
   "source": [
    "## 15) Add Currency Fund Holdings"
   ]
  },
  {
   "cell_type": "markdown",
   "metadata": {},
   "source": [
    "## 16) Value Each Share Class"
   ]
  },
  {
   "cell_type": "markdown",
   "metadata": {},
   "source": [
    "## 17) Add transactions to end portfolio"
   ]
  },
  {
   "cell_type": "markdown",
   "metadata": {},
   "source": [
    "## 18) Value each portfolio (bubble up)"
   ]
  }
 ],
 "metadata": {
  "kernelspec": {
   "display_name": "Python 3",
   "language": "python",
   "name": "python3"
  },
  "language_info": {
   "codemirror_mode": {
    "name": "ipython",
    "version": 3
   },
   "file_extension": ".py",
   "mimetype": "text/x-python",
   "name": "python",
   "nbconvert_exporter": "python",
   "pygments_lexer": "ipython3",
   "version": "3.6.6"
  }
 },
 "nbformat": 4,
 "nbformat_minor": 2
}
