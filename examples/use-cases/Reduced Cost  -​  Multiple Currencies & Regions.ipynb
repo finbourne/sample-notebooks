{
 "cells": [
  {
   "cell_type": "code",
   "execution_count": 1,
   "metadata": {},
   "outputs": [
    {
     "name": "stdout",
     "output_type": "stream",
     "text": [
      "LUSID Environment Initialised\n"
     ]
    }
   ],
   "source": [
    "# Import LUSID\n",
    "import lusid.models as models\n",
    "import lusid_sample_data as import_data\n",
    "\n",
    "# Import Libraries\n",
    "import pprint\n",
    "from datetime import datetime, timedelta, time\n",
    "import pytz\n",
    "import printer as prettyprint\n",
    "import pandas as pd\n",
    "import uuid\n",
    "\n",
    "# Authenticate our user and create our API client\n",
    "client = import_data.authenticate_secrets()\n",
    "\n",
    "print ('LUSID Environment Initialised')"
   ]
  },
  {
   "cell_type": "markdown",
   "metadata": {},
   "source": [
    "## 1) Set up our Scope"
   ]
  },
  {
   "cell_type": "code",
   "execution_count": 33,
   "metadata": {},
   "outputs": [
    {
     "name": "stdout",
     "output_type": "stream",
     "text": [
      "UK_High_Growth_Equities_Fund_2785\n"
     ]
    }
   ],
   "source": [
    "scope_id = str(uuid.uuid4())[:4]\n",
    "scope_name = 'UK_High_Growth_Equities_Fund'\n",
    "scope = '{}_{}'.format(scope_name, scope_id)\n",
    "print (scope)"
   ]
  },
  {
   "cell_type": "markdown",
   "metadata": {},
   "source": [
    "## 2) Load Instruments"
   ]
  },
  {
   "cell_type": "code",
   "execution_count": 3,
   "metadata": {},
   "outputs": [
    {
     "data": {
      "text/html": [
       "<div>\n",
       "<style scoped>\n",
       "    .dataframe tbody tr th:only-of-type {\n",
       "        vertical-align: middle;\n",
       "    }\n",
       "\n",
       "    .dataframe tbody tr th {\n",
       "        vertical-align: top;\n",
       "    }\n",
       "\n",
       "    .dataframe thead th {\n",
       "        text-align: right;\n",
       "    }\n",
       "</style>\n",
       "<table border=\"1\" class=\"dataframe\">\n",
       "  <thead>\n",
       "    <tr style=\"text-align: right;\">\n",
       "      <th></th>\n",
       "      <th>instrument_name</th>\n",
       "      <th>currency</th>\n",
       "      <th>figi</th>\n",
       "      <th>ticker</th>\n",
       "      <th>isin</th>\n",
       "      <th>sedol</th>\n",
       "    </tr>\n",
       "  </thead>\n",
       "  <tbody>\n",
       "    <tr>\n",
       "      <th>0</th>\n",
       "      <td>AVEVA GRP</td>\n",
       "      <td>GBP</td>\n",
       "      <td>BBG000C21Y87</td>\n",
       "      <td>AVV</td>\n",
       "      <td>GB00BBG9VN75</td>\n",
       "      <td>BBG9VN7</td>\n",
       "    </tr>\n",
       "    <tr>\n",
       "      <th>1</th>\n",
       "      <td>BAE SYS.</td>\n",
       "      <td>GBP</td>\n",
       "      <td>BBG000BD5TW4</td>\n",
       "      <td>BA.</td>\n",
       "      <td>GB0002634946</td>\n",
       "      <td>0263494</td>\n",
       "    </tr>\n",
       "    <tr>\n",
       "      <th>2</th>\n",
       "      <td>BATM ADVANCED</td>\n",
       "      <td>GBP</td>\n",
       "      <td>BBG000BFJD77</td>\n",
       "      <td>BVC</td>\n",
       "      <td>IL0010849045</td>\n",
       "      <td>911146</td>\n",
       "    </tr>\n",
       "    <tr>\n",
       "      <th>3</th>\n",
       "      <td>BTG</td>\n",
       "      <td>GBP</td>\n",
       "      <td>BBG000BZZK79</td>\n",
       "      <td>BTG</td>\n",
       "      <td>GB0001001592</td>\n",
       "      <td>100159</td>\n",
       "    </tr>\n",
       "    <tr>\n",
       "      <th>4</th>\n",
       "      <td>COBHAM</td>\n",
       "      <td>GBP</td>\n",
       "      <td>BBG000BS6810</td>\n",
       "      <td>COB</td>\n",
       "      <td>GB00B07KD360</td>\n",
       "      <td>B07KD36</td>\n",
       "    </tr>\n",
       "    <tr>\n",
       "      <th>5</th>\n",
       "      <td>COMPUTACENTER</td>\n",
       "      <td>GBP</td>\n",
       "      <td>BBG000BN7CL9</td>\n",
       "      <td>CCC</td>\n",
       "      <td>GB00BV9FP302</td>\n",
       "      <td>BV9FP30</td>\n",
       "    </tr>\n",
       "    <tr>\n",
       "      <th>6</th>\n",
       "      <td>CONSORT MED.</td>\n",
       "      <td>GBP</td>\n",
       "      <td>BBG000BD8278</td>\n",
       "      <td>CSRT</td>\n",
       "      <td>GB0000946276</td>\n",
       "      <td>0094627</td>\n",
       "    </tr>\n",
       "    <tr>\n",
       "      <th>7</th>\n",
       "      <td>DIALIGHT</td>\n",
       "      <td>GBP</td>\n",
       "      <td>BBG000BLQNG4</td>\n",
       "      <td>DIA</td>\n",
       "      <td>GB0033057794</td>\n",
       "      <td>3305779</td>\n",
       "    </tr>\n",
       "    <tr>\n",
       "      <th>8</th>\n",
       "      <td>GENUS</td>\n",
       "      <td>GBP</td>\n",
       "      <td>BBG000CTMKX7</td>\n",
       "      <td>GNS</td>\n",
       "      <td>GB0002074580</td>\n",
       "      <td>0207458</td>\n",
       "    </tr>\n",
       "    <tr>\n",
       "      <th>9</th>\n",
       "      <td>GRESHAM TECH</td>\n",
       "      <td>GBP</td>\n",
       "      <td>BBG000BS2592</td>\n",
       "      <td>GHT</td>\n",
       "      <td>GB0008808825</td>\n",
       "      <td>0880882</td>\n",
       "    </tr>\n",
       "  </tbody>\n",
       "</table>\n",
       "</div>"
      ],
      "text/plain": [
       "  instrument_name currency          figi ticker          isin    sedol\n",
       "0       AVEVA GRP      GBP  BBG000C21Y87    AVV  GB00BBG9VN75  BBG9VN7\n",
       "1        BAE SYS.      GBP  BBG000BD5TW4    BA.  GB0002634946  0263494\n",
       "2   BATM ADVANCED      GBP  BBG000BFJD77    BVC  IL0010849045   911146\n",
       "3             BTG      GBP  BBG000BZZK79    BTG  GB0001001592   100159\n",
       "4          COBHAM      GBP  BBG000BS6810    COB  GB00B07KD360  B07KD36\n",
       "5   COMPUTACENTER      GBP  BBG000BN7CL9    CCC  GB00BV9FP302  BV9FP30\n",
       "6    CONSORT MED.      GBP  BBG000BD8278   CSRT  GB0000946276  0094627\n",
       "7        DIALIGHT      GBP  BBG000BLQNG4    DIA  GB0033057794  3305779\n",
       "8           GENUS      GBP  BBG000CTMKX7    GNS  GB0002074580  0207458\n",
       "9    GRESHAM TECH      GBP  BBG000BS2592    GHT  GB0008808825  0880882"
      ]
     },
     "execution_count": 3,
     "metadata": {},
     "output_type": "execute_result"
    }
   ],
   "source": [
    "instrument_universe = pd.read_csv('data/paper-instruments.csv')\n",
    "instrument_universe.head(n=10)"
   ]
  },
  {
   "cell_type": "code",
   "execution_count": 32,
   "metadata": {},
   "outputs": [
    {
     "name": "stdout",
     "output_type": "stream",
     "text": [
      "\u001b[1mInstrument Successfully Upserted: \u001b[0mSAGE GRP.\n",
      "\u001b[1mFigi ID: \u001b[0mBBG000BN0PP3\n",
      "\u001b[1mLUSID Instrument ID: \u001b[0mLUID_7WTCO189\n",
      "\n",
      "\n",
      "\u001b[1mInstrument Successfully Upserted: \u001b[0mTRIAD GRP.\n",
      "\u001b[1mFigi ID: \u001b[0mBBG000BL9R74\n",
      "\u001b[1mLUSID Instrument ID: \u001b[0mLUID_VBCSLEXD\n",
      "\n",
      "\n",
      "\u001b[1mInstrument Successfully Upserted: \u001b[0mGRESHAM TECH\n",
      "\u001b[1mFigi ID: \u001b[0mBBG000BS2592\n",
      "\u001b[1mLUSID Instrument ID: \u001b[0mLUID_NKYYOTLB\n",
      "\n",
      "\n",
      "\u001b[1mInstrument Successfully Upserted: \u001b[0mOXFORD INSTRMNT\n",
      "\u001b[1mFigi ID: \u001b[0mBBG000BDWZZ7\n",
      "\u001b[1mLUSID Instrument ID: \u001b[0mLUID_KU4D6Z01\n",
      "\n",
      "\n",
      "\u001b[1mInstrument Successfully Upserted: \u001b[0mXP POWER\n",
      "\u001b[1mFigi ID: \u001b[0mBBG000BZMBQ2\n",
      "\u001b[1mLUSID Instrument ID: \u001b[0mLUID_MEB77J6R\n",
      "\n",
      "\n",
      "\u001b[1mInstrument Successfully Upserted: \u001b[0mVECTURA\n",
      "\u001b[1mFigi ID: \u001b[0mBBG000PRWXX8\n",
      "\u001b[1mLUSID Instrument ID: \u001b[0mLUID_GE0K020C\n",
      "\n",
      "\n",
      "\u001b[1mInstrument Successfully Upserted: \u001b[0mBATM ADVANCED\n",
      "\u001b[1mFigi ID: \u001b[0mBBG000BFJD77\n",
      "\u001b[1mLUSID Instrument ID: \u001b[0mLUID_20MOINP0\n",
      "\n",
      "\n",
      "\u001b[1mInstrument Successfully Upserted: \u001b[0mAVEVA GRP\n",
      "\u001b[1mFigi ID: \u001b[0mBBG000C21Y87\n",
      "\u001b[1mLUSID Instrument ID: \u001b[0mLUID_18UXDAO9\n",
      "\n",
      "\n",
      "\u001b[1mInstrument Successfully Upserted: \u001b[0mSDL\n",
      "\u001b[1mFigi ID: \u001b[0mBBG000C4HGK1\n",
      "\u001b[1mLUSID Instrument ID: \u001b[0mLUID_P76DIWXT\n",
      "\n",
      "\n",
      "\u001b[1mInstrument Successfully Upserted: \u001b[0mDIALIGHT\n",
      "\u001b[1mFigi ID: \u001b[0mBBG000BLQNG4\n",
      "\u001b[1mLUSID Instrument ID: \u001b[0mLUID_PWYTYGVM\n",
      "\n",
      "\n",
      "\u001b[1mInstrument Successfully Upserted: \u001b[0mQINETIQ\n",
      "\u001b[1mFigi ID: \u001b[0mBBG000HF3Y54\n",
      "\u001b[1mLUSID Instrument ID: \u001b[0mLUID_DIFU2337\n",
      "\n",
      "\n",
      "\u001b[1mInstrument Successfully Upserted: \u001b[0mRENISHAW\n",
      "\u001b[1mFigi ID: \u001b[0mBBG000BDZTQ8\n",
      "\u001b[1mLUSID Instrument ID: \u001b[0mLUID_ILWZR7XR\n",
      "\n",
      "\n",
      "\u001b[1mInstrument Successfully Upserted: \u001b[0mMICROGEN\n",
      "\u001b[1mFigi ID: \u001b[0mBBG000BDSS88\n",
      "\u001b[1mLUSID Instrument ID: \u001b[0mLUID_ZZ54UP5K\n",
      "\n",
      "\n",
      "\u001b[1mInstrument Successfully Upserted: \u001b[0mKCOM GRP\n",
      "\u001b[1mFigi ID: \u001b[0mBBG000BYWT85\n",
      "\u001b[1mLUSID Instrument ID: \u001b[0mLUID_PZTPVBG9\n",
      "\n",
      "\n",
      "\u001b[1mInstrument Successfully Upserted: \u001b[0mMICRO FOCUS\n",
      "\u001b[1mFigi ID: \u001b[0mBBG000G4KJC6\n",
      "\u001b[1mLUSID Instrument ID: \u001b[0mLUID_VFDTT3IY\n",
      "\n",
      "\n",
      "\u001b[1mInstrument Successfully Upserted: \u001b[0mCONSORT MED.\n",
      "\u001b[1mFigi ID: \u001b[0mBBG000BD8278\n",
      "\u001b[1mLUSID Instrument ID: \u001b[0mLUID_E9GX6A6H\n",
      "\n",
      "\n",
      "\u001b[1mInstrument Successfully Upserted: \u001b[0mBTG\n",
      "\u001b[1mFigi ID: \u001b[0mBBG000BZZK79\n",
      "\u001b[1mLUSID Instrument ID: \u001b[0mLUID_9FOKP6IY\n",
      "\n",
      "\n",
      "\u001b[1mInstrument Successfully Upserted: \u001b[0mXAAR\n",
      "\u001b[1mFigi ID: \u001b[0mBBG000BVKQF2\n",
      "\u001b[1mLUSID Instrument ID: \u001b[0mLUID_Q9CWK5UY\n",
      "\n",
      "\n",
      "\u001b[1mInstrument Successfully Upserted: \u001b[0mBAE SYS.\n",
      "\u001b[1mFigi ID: \u001b[0mBBG000BD5TW4\n",
      "\u001b[1mLUSID Instrument ID: \u001b[0mLUID_MVMRWBBP\n",
      "\n",
      "\n",
      "\u001b[1mInstrument Successfully Upserted: \u001b[0mPADDY PWR BET\n",
      "\u001b[1mFigi ID: \u001b[0mBBG000N8GHT0\n",
      "\u001b[1mLUSID Instrument ID: \u001b[0mLUID_0ONI37XY\n",
      "\n",
      "\n",
      "\u001b[1mInstrument Successfully Upserted: \u001b[0mRICARDO\n",
      "\u001b[1mFigi ID: \u001b[0mBBG000BDYQS3\n",
      "\u001b[1mLUSID Instrument ID: \u001b[0mLUID_I3SU95TY\n",
      "\n",
      "\n",
      "\u001b[1mInstrument Successfully Upserted: \u001b[0mOXFORD BIOMED.\n",
      "\u001b[1mFigi ID: \u001b[0mBBG000BMB7T9\n",
      "\u001b[1mLUSID Instrument ID: \u001b[0mLUID_96VVZXCR\n",
      "\n",
      "\n",
      "\u001b[1mInstrument Successfully Upserted: \u001b[0mNCC GRP\n",
      "\u001b[1mFigi ID: \u001b[0mBBG000BS8WF0\n",
      "\u001b[1mLUSID Instrument ID: \u001b[0mLUID_FAVMTUYE\n",
      "\n",
      "\n",
      "\u001b[1mInstrument Successfully Upserted: \u001b[0mSMITH&NEPHEW\n",
      "\u001b[1mFigi ID: \u001b[0mBBG000BF21F2\n",
      "\u001b[1mLUSID Instrument ID: \u001b[0mLUID_9A616YIM\n",
      "\n",
      "\n",
      "\u001b[1mInstrument Successfully Upserted: \u001b[0mSPIRENT\n",
      "\u001b[1mFigi ID: \u001b[0mBBG000C4LV50\n",
      "\u001b[1mLUSID Instrument ID: \u001b[0mLUID_CJMAYTR6\n",
      "\n",
      "\n",
      "\u001b[1mInstrument Successfully Upserted: \u001b[0mGENUS\n",
      "\u001b[1mFigi ID: \u001b[0mBBG000CTMKX7\n",
      "\u001b[1mLUSID Instrument ID: \u001b[0mLUID_10QP8Q2A\n",
      "\n",
      "\n",
      "\u001b[1mInstrument Successfully Upserted: \u001b[0mMEGGITT\n",
      "\u001b[1mFigi ID: \u001b[0mBBG000BDT1M0\n",
      "\u001b[1mLUSID Instrument ID: \u001b[0mLUID_UWY7AJTR\n",
      "\n",
      "\n",
      "\u001b[1mInstrument Successfully Upserted: \u001b[0mCOBHAM\n",
      "\u001b[1mFigi ID: \u001b[0mBBG000BS6810\n",
      "\u001b[1mLUSID Instrument ID: \u001b[0mLUID_OYMM0OZH\n",
      "\n",
      "\n",
      "\u001b[1mInstrument Successfully Upserted: \u001b[0mCOMPUTACENTER\n",
      "\u001b[1mFigi ID: \u001b[0mBBG000BN7CL9\n",
      "\u001b[1mLUSID Instrument ID: \u001b[0mLUID_3ZNZTNJU\n",
      "\n",
      "\n",
      "\u001b[1mInstrument Successfully Upserted: \u001b[0mULTRA ELEC.\n",
      "\u001b[1mFigi ID: \u001b[0mBBG000HHH4C3\n",
      "\u001b[1mLUSID Instrument ID: \u001b[0mLUID_YKB7EDDA\n",
      "\n",
      "\n",
      "\u001b[1mInstrument Successfully Upserted: \u001b[0mSPECTRIS\n",
      "\u001b[1mFigi ID: \u001b[0mBBG000CNV8Z5\n",
      "\u001b[1mLUSID Instrument ID: \u001b[0mLUID_4YXAVAR5\n",
      "\n",
      "\n",
      "31  instruments upserted successfully\n",
      "0  instrument upsert failures\n"
     ]
    }
   ],
   "source": [
    "# Initialise our dictionary to hold our instrument definitions\n",
    "instrument_definitions = {}\n",
    "# Iterate over our instrument universe\n",
    "for row in instrument_universe.iterrows():\n",
    "    # Collect our instrument from the row, row[0] is the index\n",
    "    instrument = row[1]\n",
    "    \n",
    "    isin_property = models.InstrumentProperty(\n",
    "        key='Instrument/default/Isin',\n",
    "        value=models.PropertyValue(\n",
    "            label_value=instrument['isin']))\n",
    "        \n",
    "    ticker_property = models.InstrumentProperty(\n",
    "        key='Instrument/default/Ticker',\n",
    "        value=models.PropertyValue(\n",
    "            label_value=instrument['ticker']))\n",
    "        \n",
    "    sedol_property = models.InstrumentProperty(\n",
    "        key='Instrument/default/Sedol',\n",
    "        value=models.PropertyValue(\n",
    "            label_value=instrument['sedol']))\n",
    "        \n",
    "    currency_property = models.InstrumentProperty(\n",
    "        key='Instrument/default/Currency',\n",
    "        value=models.PropertyValue(\n",
    "            label_value=instrument['currency']))\n",
    "    \n",
    "    instrument_definitions[instrument['instrument_name']] = models.InstrumentDefinition(\n",
    "        name=instrument['instrument_name'],\n",
    "        identifiers={'Figi': instrument['figi']},\n",
    "        properties=[\n",
    "            isin_property,\n",
    "            currency_property,\n",
    "            sedol_property,\n",
    "            ticker_property\n",
    "        ]\n",
    "    )\n",
    "\n",
    "response = client.upsert_instruments(requests=instrument_definitions)\n",
    "\n",
    "prettyprint.instrument_response(response, identifier='Figi')"
   ]
  },
  {
   "cell_type": "markdown",
   "metadata": {},
   "source": [
    "## 3) Create our Base Fund Portfolio"
   ]
  },
  {
   "cell_type": "code",
   "execution_count": 34,
   "metadata": {},
   "outputs": [
    {
     "name": "stdout",
     "output_type": "stream",
     "text": [
      "UK_High_Growth_Equities_Fund_base_fund\n"
     ]
    }
   ],
   "source": [
    "portfolio_name = '{}_base_fund'.format(scope_name)\n",
    "print (portfolio_name)"
   ]
  },
  {
   "cell_type": "code",
   "execution_count": 35,
   "metadata": {},
   "outputs": [
    {
     "name": "stdout",
     "output_type": "stream",
     "text": [
      "\u001b[1mPortfolio Created\u001b[0m\n",
      "\u001b[1mScope: \u001b[0mUK_High_Growth_Equities_Fund_2785\n",
      "\u001b[1mCode: \u001b[0mUK_High_Growth_Equities_Fund_base_fund\n",
      "\u001b[1mPortfolio Effective From: \u001b[0m2018-02-15 13:49:06.808221+00:00\n",
      "\u001b[1mPortfolio Created On: \u001b[0m2019-02-15 13:49:07.177002+00:00\n",
      "\n"
     ]
    }
   ],
   "source": [
    "# The date our portfolios were first created\n",
    "portfolio_creation_date = (datetime.now(pytz.UTC) - timedelta(days=365))\n",
    "\n",
    "# Create the request to add our portfolio\n",
    "transaction_portfolio_request = models.CreateTransactionPortfolioRequest(\n",
    "    display_name=portfolio_name,\n",
    "    code=portfolio_name,\n",
    "    base_currency='GBP',\n",
    "    description='The portfolio to hold our base fund',\n",
    "    created=portfolio_creation_date)\n",
    "\n",
    "# Call LUSID to create our portfolio\n",
    "portfolio_response = client.create_portfolio(\n",
    "    scope=scope,\n",
    "    create_request=transaction_portfolio_request)\n",
    "\n",
    "# Pretty print the response from LUSID\n",
    "prettyprint.portfolio_response(portfolio_response)"
   ]
  },
  {
   "cell_type": "markdown",
   "metadata": {},
   "source": [
    "## 4) Set our Holdings"
   ]
  },
  {
   "cell_type": "code",
   "execution_count": null,
   "metadata": {},
   "outputs": [],
   "source": []
  },
  {
   "cell_type": "markdown",
   "metadata": {},
   "source": [
    "## 5) Add Corporate Actions"
   ]
  },
  {
   "cell_type": "code",
   "execution_count": 38,
   "metadata": {},
   "outputs": [
    {
     "ename": "TypeError",
     "evalue": "create_corporate_action_source() missing 1 required positional argument: 'request'",
     "output_type": "error",
     "traceback": [
      "\u001b[0;31m---------------------------------------------------------------------------\u001b[0m",
      "\u001b[0;31mTypeError\u001b[0m                                 Traceback (most recent call last)",
      "\u001b[0;32m<ipython-input-38-a3c16251378a>\u001b[0m in \u001b[0;36m<module>\u001b[0;34m()\u001b[0m\n\u001b[1;32m      1\u001b[0m response = client.create_corporate_action_source(\n\u001b[1;32m      2\u001b[0m     \u001b[0mscope\u001b[0m\u001b[0;34m=\u001b[0m\u001b[0mscope\u001b[0m\u001b[0;34m,\u001b[0m\u001b[0;34m\u001b[0m\u001b[0m\n\u001b[0;32m----> 3\u001b[0;31m     code='{}_corporate_action_source'.format(portfolio_name))\n\u001b[0m\u001b[1;32m      4\u001b[0m \u001b[0;34m\u001b[0m\u001b[0m\n\u001b[1;32m      5\u001b[0m \u001b[0mprint\u001b[0m \u001b[0;34m(\u001b[0m\u001b[0mresponse\u001b[0m\u001b[0;34m)\u001b[0m\u001b[0;34m\u001b[0m\u001b[0m\n",
      "\u001b[0;31mTypeError\u001b[0m: create_corporate_action_source() missing 1 required positional argument: 'request'"
     ]
    }
   ],
   "source": [
    "corporate_action_request = models.CreateCorporateActionSourceRequest\n",
    "\n",
    "response = client.create_corporate_action_source(\n",
    "    scope=scope,\n",
    "    code='{}_corporate_action_source'.format(portfolio_name))\n",
    "    \n",
    "print (response)"
   ]
  },
  {
   "cell_type": "markdown",
   "metadata": {},
   "source": [
    "## 6) Value our Base Fund Portfolio"
   ]
  },
  {
   "cell_type": "markdown",
   "metadata": {},
   "source": [
    "a) Analytic store"
   ]
  },
  {
   "cell_type": "markdown",
   "metadata": {},
   "source": [
    "b) Aggregation"
   ]
  },
  {
   "cell_type": "markdown",
   "metadata": {},
   "source": [
    "## 7) Securitise our Based Fund Portfolio"
   ]
  },
  {
   "cell_type": "markdown",
   "metadata": {},
   "source": [
    "a) Securitiese with x units"
   ]
  },
  {
   "cell_type": "markdown",
   "metadata": {},
   "source": [
    "b) Calculalate price from aggregation and store in quotes store"
   ]
  },
  {
   "cell_type": "markdown",
   "metadata": {},
   "source": [
    "## 8) Create Foreign Currency Portfolios"
   ]
  },
  {
   "cell_type": "markdown",
   "metadata": {},
   "source": [
    "## 9) Add Base Fund Units"
   ]
  },
  {
   "cell_type": "markdown",
   "metadata": {},
   "source": [
    "## 10) Add Hedging Transactions"
   ]
  },
  {
   "cell_type": "markdown",
   "metadata": {},
   "source": [
    "## 11) Value Currency Portfolios"
   ]
  },
  {
   "cell_type": "markdown",
   "metadata": {},
   "source": [
    "## 12) Securitise Currency Portfolios"
   ]
  },
  {
   "cell_type": "markdown",
   "metadata": {},
   "source": [
    "## 13) Create Share Class Portfolios"
   ]
  },
  {
   "cell_type": "markdown",
   "metadata": {},
   "source": [
    "## 15) Add Currency Fund Holdings"
   ]
  },
  {
   "cell_type": "markdown",
   "metadata": {},
   "source": [
    "## 16) Value Each Share Class"
   ]
  },
  {
   "cell_type": "markdown",
   "metadata": {},
   "source": [
    "## 17) Add transactions to end portfolio"
   ]
  },
  {
   "cell_type": "markdown",
   "metadata": {},
   "source": [
    "## 18) Value each portfolio (bubble up)"
   ]
  }
 ],
 "metadata": {
  "kernelspec": {
   "display_name": "Python 3",
   "language": "python",
   "name": "python3"
  },
  "language_info": {
   "codemirror_mode": {
    "name": "ipython",
    "version": 3
   },
   "file_extension": ".py",
   "mimetype": "text/x-python",
   "name": "python",
   "nbconvert_exporter": "python",
   "pygments_lexer": "ipython3",
   "version": "3.6.6"
  }
 },
 "nbformat": 4,
 "nbformat_minor": 2
}
