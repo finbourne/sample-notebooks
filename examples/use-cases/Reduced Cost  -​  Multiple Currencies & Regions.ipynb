{
 "cells": [
  {
   "cell_type": "markdown",
   "metadata": {},
   "source": [
    "First things first let's initialise our environment.\n",
    "\n",
    "*Run the cell below to import our libraries and initialise our LUSID client*"
   ]
  },
  {
   "cell_type": "code",
   "execution_count": 32,
   "metadata": {},
   "outputs": [
    {
     "name": "stdout",
     "output_type": "stream",
     "text": [
      "LUSID Environment Initialised\n"
     ]
    }
   ],
   "source": [
    "# Import LUSID\n",
    "import lusid.models as models\n",
    "import lusid_sample_data as import_data\n",
    "\n",
    "# Import Libraries\n",
    "import pprint\n",
    "from datetime import datetime, timedelta, time\n",
    "import pytz\n",
    "import printer as prettyprint\n",
    "import pandas as pd\n",
    "import uuid\n",
    "\n",
    "# Authenticate our user and create our API client\n",
    "client = import_data.authenticate_secrets()\n",
    "\n",
    "print ('LUSID Environment Initialised')"
   ]
  },
  {
   "cell_type": "markdown",
   "metadata": {},
   "source": [
    "![Initailise LUSID](img/multiplecurrencies-initialise.gif)"
   ]
  },
  {
   "cell_type": "markdown",
   "metadata": {},
   "source": [
    "## 1) Set up our Scope"
   ]
  },
  {
   "cell_type": "code",
   "execution_count": 33,
   "metadata": {},
   "outputs": [
    {
     "name": "stdout",
     "output_type": "stream",
     "text": [
      "UK_High_Growth_Equities_Fund_fa7e\n"
     ]
    }
   ],
   "source": [
    "scope_id = str(uuid.uuid4())[:4]\n",
    "scope_name = 'UK_High_Growth_Equities_Fund'\n",
    "scope = '{}_{}'.format(scope_name, scope_id)\n",
    "print (scope)"
   ]
  },
  {
   "cell_type": "markdown",
   "metadata": {},
   "source": [
    "![Scope](img/multiplecurrencies-scope.gif)"
   ]
  },
  {
   "cell_type": "markdown",
   "metadata": {},
   "source": [
    "## 2) Load Instruments"
   ]
  },
  {
   "cell_type": "code",
   "execution_count": 34,
   "metadata": {},
   "outputs": [
    {
     "data": {
      "text/html": [
       "<div>\n",
       "<style scoped>\n",
       "    .dataframe tbody tr th:only-of-type {\n",
       "        vertical-align: middle;\n",
       "    }\n",
       "\n",
       "    .dataframe tbody tr th {\n",
       "        vertical-align: top;\n",
       "    }\n",
       "\n",
       "    .dataframe thead th {\n",
       "        text-align: right;\n",
       "    }\n",
       "</style>\n",
       "<table border=\"1\" class=\"dataframe\">\n",
       "  <thead>\n",
       "    <tr style=\"text-align: right;\">\n",
       "      <th></th>\n",
       "      <th>instrument_name</th>\n",
       "      <th>client_internal</th>\n",
       "      <th>currency</th>\n",
       "      <th>isin</th>\n",
       "      <th>figi</th>\n",
       "      <th>exchange_code</th>\n",
       "      <th>country_issue</th>\n",
       "      <th>ticker</th>\n",
       "      <th>market_sector</th>\n",
       "      <th>security_type</th>\n",
       "      <th>coupon</th>\n",
       "    </tr>\n",
       "  </thead>\n",
       "  <tbody>\n",
       "    <tr>\n",
       "      <th>0</th>\n",
       "      <td>Amazon_Nasdaq_AMZN</td>\n",
       "      <td>imd_34634534</td>\n",
       "      <td>USD</td>\n",
       "      <td>US0231351067</td>\n",
       "      <td>BBG000BVPXP1</td>\n",
       "      <td>UN</td>\n",
       "      <td>united_states_america</td>\n",
       "      <td>AMZN</td>\n",
       "      <td>equity</td>\n",
       "      <td>common_stock</td>\n",
       "      <td>NaN</td>\n",
       "    </tr>\n",
       "    <tr>\n",
       "      <th>1</th>\n",
       "      <td>Apple_Nasdaq_AAPL</td>\n",
       "      <td>imd_35345345</td>\n",
       "      <td>USD</td>\n",
       "      <td>US0378331005</td>\n",
       "      <td>BBG000B9XVV8</td>\n",
       "      <td>UN</td>\n",
       "      <td>united_states_america</td>\n",
       "      <td>AAPL</td>\n",
       "      <td>equity</td>\n",
       "      <td>common_stock</td>\n",
       "      <td>NaN</td>\n",
       "    </tr>\n",
       "    <tr>\n",
       "      <th>2</th>\n",
       "      <td>USTreasury_2.00_2021</td>\n",
       "      <td>imd_34535347</td>\n",
       "      <td>USD</td>\n",
       "      <td>US912828U816</td>\n",
       "      <td>BBG00FN3B5K8</td>\n",
       "      <td>BERLIN</td>\n",
       "      <td>united_states_america</td>\n",
       "      <td>T 2 12/31/21</td>\n",
       "      <td>govt</td>\n",
       "      <td>us_government</td>\n",
       "      <td>2.000</td>\n",
       "    </tr>\n",
       "    <tr>\n",
       "      <th>3</th>\n",
       "      <td>USTreasury_6.875_2025</td>\n",
       "      <td>imd_34534539</td>\n",
       "      <td>USD</td>\n",
       "      <td>US912810EV62</td>\n",
       "      <td>BBG000DQQNJ8</td>\n",
       "      <td>NEW YORK</td>\n",
       "      <td>united_states_america</td>\n",
       "      <td>T 6.875 08/15/25</td>\n",
       "      <td>govt</td>\n",
       "      <td>us_government</td>\n",
       "      <td>6.875</td>\n",
       "    </tr>\n",
       "  </tbody>\n",
       "</table>\n",
       "</div>"
      ],
      "text/plain": [
       "         instrument_name client_internal currency          isin          figi  \\\n",
       "0     Amazon_Nasdaq_AMZN    imd_34634534      USD  US0231351067  BBG000BVPXP1   \n",
       "1      Apple_Nasdaq_AAPL    imd_35345345      USD  US0378331005  BBG000B9XVV8   \n",
       "2   USTreasury_2.00_2021    imd_34535347      USD  US912828U816  BBG00FN3B5K8   \n",
       "3  USTreasury_6.875_2025    imd_34534539      USD  US912810EV62  BBG000DQQNJ8   \n",
       "\n",
       "  exchange_code          country_issue            ticker market_sector  \\\n",
       "0            UN  united_states_america              AMZN        equity   \n",
       "1            UN  united_states_america              AAPL        equity   \n",
       "2        BERLIN  united_states_america      T 2 12/31/21          govt   \n",
       "3      NEW YORK  united_states_america  T 6.875 08/15/25          govt   \n",
       "\n",
       "   security_type  coupon  \n",
       "0   common_stock     NaN  \n",
       "1   common_stock     NaN  \n",
       "2  us_government   2.000  \n",
       "3  us_government   6.875  "
      ]
     },
     "execution_count": 34,
     "metadata": {},
     "output_type": "execute_result"
    }
   ],
   "source": [
    "instrument_universe = pd.read_csv('data/multiplecurrencies-instruments.csv')\n",
    "instrument_universe.head(n=10)"
   ]
  },
  {
   "cell_type": "code",
   "execution_count": 35,
   "metadata": {},
   "outputs": [
    {
     "name": "stdout",
     "output_type": "stream",
     "text": [
      "\u001b[1mInstrument Successfully Upserted: \u001b[0mAmazon_Nasdaq_AMZN\n",
      "\u001b[1mFigi ID: \u001b[0mBBG000BVPXP1\n",
      "\u001b[1mLUSID Instrument ID: \u001b[0mLUID_I6M8YNQN\n",
      "\n",
      "\n",
      "\u001b[1mInstrument Successfully Upserted: \u001b[0mUSTreasury_2.00_2021\n",
      "\u001b[1mFigi ID: \u001b[0mBBG00FN3B5K8\n",
      "\u001b[1mLUSID Instrument ID: \u001b[0mLUID_0BU9BXC2\n",
      "\n",
      "\n",
      "\u001b[1mInstrument Successfully Upserted: \u001b[0mApple_Nasdaq_AAPL\n",
      "\u001b[1mFigi ID: \u001b[0mBBG000B9XVV8\n",
      "\u001b[1mLUSID Instrument ID: \u001b[0mLUID_K8YYP5FU\n",
      "\n",
      "\n",
      "\u001b[1mInstrument Successfully Upserted: \u001b[0mUSTreasury_6.875_2025\n",
      "\u001b[1mFigi ID: \u001b[0mBBG000DQQNJ8\n",
      "\u001b[1mLUSID Instrument ID: \u001b[0mLUID_S5F04ES0\n",
      "\n",
      "\n",
      "4  instruments upserted successfully\n",
      "0  instrument upsert failures\n"
     ]
    }
   ],
   "source": [
    "# Initialise our dictionary to hold our instrument definitions\n",
    "instrument_definitions = {}\n",
    "\n",
    "# Iterate over our instrument universe\n",
    "for index, instrument in instrument_universe.iterrows():\n",
    "\n",
    "    # Create our ISIN property using the default ISIN property definition\n",
    "    isin_property = models.InstrumentProperty(\n",
    "        key='Instrument/default/Isin',\n",
    "        value=models.PropertyValue(\n",
    "            label_value=instrument['isin']))\n",
    "    \n",
    "    # Create our ticker property using the default ticker property definition\n",
    "    ticker_property = models.InstrumentProperty(\n",
    "        key='Instrument/default/Ticker',\n",
    "        value=models.PropertyValue(\n",
    "            label_value=instrument['ticker']))\n",
    "\n",
    "    # Create the definition for our instrument\n",
    "    instrument_definitions[instrument['instrument_name']] = models.InstrumentDefinition(\n",
    "        name=instrument['instrument_name'],\n",
    "        identifiers={'Figi': instrument['figi']},\n",
    "        properties=[\n",
    "            isin_property,\n",
    "            ticker_property\n",
    "        ]\n",
    "    )\n",
    "\n",
    "# Call LUSID to upsert our instrument defintions\n",
    "response = client.upsert_instruments(requests=instrument_definitions)\n",
    "\n",
    "# Pretty print the response from LUSID\n",
    "prettyprint.instrument_response(response, identifier='Figi')"
   ]
  },
  {
   "cell_type": "markdown",
   "metadata": {},
   "source": [
    "![Instruments](img/multiplecurrencies-instruments.gif)"
   ]
  },
  {
   "cell_type": "markdown",
   "metadata": {},
   "source": [
    "## 3) Create our Base Fund Portfolio"
   ]
  },
  {
   "cell_type": "code",
   "execution_count": 36,
   "metadata": {
    "scrolled": true
   },
   "outputs": [
    {
     "name": "stdout",
     "output_type": "stream",
     "text": [
      "UK_High_Growth_Equities_Fund_base_fund\n"
     ]
    }
   ],
   "source": [
    "base_portfolio_name = '{}_base_fund'.format(scope_name)\n",
    "print (base_portfolio_name)"
   ]
  },
  {
   "cell_type": "code",
   "execution_count": 37,
   "metadata": {},
   "outputs": [
    {
     "name": "stdout",
     "output_type": "stream",
     "text": [
      "\u001b[1mPortfolio Created\u001b[0m\n",
      "\u001b[1mScope: \u001b[0mUK_High_Growth_Equities_Fund_fa7e\n",
      "\u001b[1mCode: \u001b[0mUK_High_Growth_Equities_Fund_base_fund\n",
      "\u001b[1mPortfolio Effective From: \u001b[0m2018-02-20 11:43:46.585954+00:00\n",
      "\u001b[1mPortfolio Created On: \u001b[0m2019-02-20 11:43:46.788180+00:00\n",
      "\n"
     ]
    }
   ],
   "source": [
    "# The date our portfolios were first created\n",
    "portfolio_creation_date = (datetime.now(pytz.UTC) - timedelta(days=365))\n",
    "\n",
    "# Create the request to add our portfolio\n",
    "transaction_portfolio_request = models.CreateTransactionPortfolioRequest(\n",
    "    display_name=base_portfolio_name,\n",
    "    code=base_portfolio_name,\n",
    "    base_currency='GBP',\n",
    "    description='The portfolio to hold our base fund',\n",
    "    created=portfolio_creation_date)\n",
    "\n",
    "# Call LUSID to create our portfolio\n",
    "portfolio_response = client.create_portfolio(\n",
    "    scope=scope,\n",
    "    create_request=transaction_portfolio_request)\n",
    "\n",
    "# Pretty print the response from LUSID\n",
    "prettyprint.portfolio_response(portfolio_response)"
   ]
  },
  {
   "cell_type": "markdown",
   "metadata": {},
   "source": [
    "![Base-Fund](img/multiplecurrencies-basefundportfolio.gif)"
   ]
  },
  {
   "cell_type": "markdown",
   "metadata": {},
   "source": [
    "## 4) Set our Holdings"
   ]
  },
  {
   "cell_type": "code",
   "execution_count": 38,
   "metadata": {},
   "outputs": [
    {
     "data": {
      "text/html": [
       "<div>\n",
       "<style scoped>\n",
       "    .dataframe tbody tr th:only-of-type {\n",
       "        vertical-align: middle;\n",
       "    }\n",
       "\n",
       "    .dataframe tbody tr th {\n",
       "        vertical-align: top;\n",
       "    }\n",
       "\n",
       "    .dataframe thead th {\n",
       "        text-align: right;\n",
       "    }\n",
       "</style>\n",
       "<table border=\"1\" class=\"dataframe\">\n",
       "  <thead>\n",
       "    <tr style=\"text-align: right;\">\n",
       "      <th></th>\n",
       "      <th>instrument_name</th>\n",
       "      <th>client_internal</th>\n",
       "      <th>isin</th>\n",
       "      <th>figi</th>\n",
       "      <th>quantity</th>\n",
       "      <th>unit_cost</th>\n",
       "      <th>total_cost</th>\n",
       "      <th>currency</th>\n",
       "    </tr>\n",
       "  </thead>\n",
       "  <tbody>\n",
       "    <tr>\n",
       "      <th>0</th>\n",
       "      <td>Amazon_Nasdaq_AMZN</td>\n",
       "      <td>imd_34634534</td>\n",
       "      <td>US0231351067</td>\n",
       "      <td>BBG000BVPXP1</td>\n",
       "      <td>5000</td>\n",
       "      <td>1550.00</td>\n",
       "      <td>7750000.00</td>\n",
       "      <td>USD</td>\n",
       "    </tr>\n",
       "    <tr>\n",
       "      <th>1</th>\n",
       "      <td>Apple_Nasdaq_AAPL</td>\n",
       "      <td>imd_35345345</td>\n",
       "      <td>US0378331005</td>\n",
       "      <td>BBG000B9XVV8</td>\n",
       "      <td>49567</td>\n",
       "      <td>190.00</td>\n",
       "      <td>9417730.00</td>\n",
       "      <td>USD</td>\n",
       "    </tr>\n",
       "    <tr>\n",
       "      <th>2</th>\n",
       "      <td>USTreasury_2.00_2021</td>\n",
       "      <td>imd_34535347</td>\n",
       "      <td>US912828U816</td>\n",
       "      <td>BBG00FN3B5K8</td>\n",
       "      <td>121543</td>\n",
       "      <td>99.25</td>\n",
       "      <td>12063142.75</td>\n",
       "      <td>USD</td>\n",
       "    </tr>\n",
       "    <tr>\n",
       "      <th>3</th>\n",
       "      <td>USTreasury_6.875_2025</td>\n",
       "      <td>imd_34534539</td>\n",
       "      <td>US912810EV62</td>\n",
       "      <td>BBG000DQQNJ8</td>\n",
       "      <td>98444</td>\n",
       "      <td>140.98</td>\n",
       "      <td>13878635.12</td>\n",
       "      <td>USD</td>\n",
       "    </tr>\n",
       "  </tbody>\n",
       "</table>\n",
       "</div>"
      ],
      "text/plain": [
       "         instrument_name client_internal          isin          figi  \\\n",
       "0     Amazon_Nasdaq_AMZN    imd_34634534  US0231351067  BBG000BVPXP1   \n",
       "1      Apple_Nasdaq_AAPL    imd_35345345  US0378331005  BBG000B9XVV8   \n",
       "2   USTreasury_2.00_2021    imd_34535347  US912828U816  BBG00FN3B5K8   \n",
       "3  USTreasury_6.875_2025    imd_34534539  US912810EV62  BBG000DQQNJ8   \n",
       "\n",
       "   quantity  unit_cost   total_cost currency  \n",
       "0      5000    1550.00   7750000.00      USD  \n",
       "1     49567     190.00   9417730.00      USD  \n",
       "2    121543      99.25  12063142.75      USD  \n",
       "3     98444     140.98  13878635.12      USD  "
      ]
     },
     "execution_count": 38,
     "metadata": {},
     "output_type": "execute_result"
    }
   ],
   "source": [
    "#Import our holdings\n",
    "holdings = pd.read_csv('data/multiplecurrencies-holdings.csv')\n",
    "holdings.head()"
   ]
  },
  {
   "cell_type": "code",
   "execution_count": 39,
   "metadata": {},
   "outputs": [
    {
     "name": "stdout",
     "output_type": "stream",
     "text": [
      "\u001b[1mHoldings Successfully Set for Portfolio\u001b[0m\n",
      "\u001b[1mScope: \u001b[0mUK_High_Growth_Equities_Fund_fa7e\n",
      "\u001b[1mCode: \u001b[0mUK_High_Growth_Equities_Fund_base_fund\n",
      "\u001b[1mHoldings Effective From: \u001b[0m2019-02-13 11:43:51.531548+00:00\n",
      "\u001b[1mHoldings Created On: \u001b[0m2019-02-20 11:43:51.809918+00:00\n",
      "\n"
     ]
    }
   ],
   "source": [
    "holding_adjustments = []\n",
    "\n",
    "holdings_effective_date = datetime.now(pytz.UTC) - timedelta(days=7)\n",
    "\n",
    "for row, holding in holdings.iterrows():\n",
    "\n",
    "    holding_adjustments.append(\n",
    "        models.AdjustHoldingRequest(\n",
    "            instrument_identifiers={\n",
    "                    'Instrument/default/Figi': holding['figi']},\n",
    "                tax_lots=[\n",
    "                    models.TargetTaxLotRequest(\n",
    "                        units=holding['quantity'],\n",
    "                        cost=models.CurrencyAndAmount(\n",
    "                            amount=holding['total_cost'],\n",
    "                            currency=holding['currency']),\n",
    "                        portfolio_cost=holding['total_cost'],\n",
    "                        price=holding['unit_cost'])\n",
    "                ]\n",
    "        )\n",
    "    )\n",
    "    \n",
    "# Call LUSID to set our holdings\n",
    "response = client.set_holdings(\n",
    "    scope=scope,\n",
    "    code=base_portfolio_name,\n",
    "    effective_at=holdings_effective_date,\n",
    "    holding_adjustments=holding_adjustments)\n",
    "\n",
    "prettyprint.set_holdings_response(response, scope, base_portfolio_name)"
   ]
  },
  {
   "cell_type": "markdown",
   "metadata": {},
   "source": [
    "![Base-Fund-Hodlings](img/multiplecurrencies-basefundportfolioholdings.gif)"
   ]
  },
  {
   "cell_type": "markdown",
   "metadata": {},
   "source": [
    "## 5) Add Corporate Actions"
   ]
  },
  {
   "cell_type": "code",
   "execution_count": 40,
   "metadata": {},
   "outputs": [
    {
     "name": "stdout",
     "output_type": "stream",
     "text": [
      "{'additional_properties': {}, 'href': None, 'id': <lusid.models.resource_id.ResourceId object at 0x7f91cd99ec18>, 'version': None, 'links': [<lusid.models.link.Link object at 0x7f91cd99eef0>]}\n"
     ]
    }
   ],
   "source": [
    "corporate_action_source_id = '{}_corporate_action_source'.format(base_portfolio_name)\n",
    "\n",
    "corporate_action_request = models.CreateCorporateActionSourceRequest(\n",
    "    scope=scope,\n",
    "    code=corporate_action_source_id)\n",
    "\n",
    "response = client.create_corporate_action_source(\n",
    "    request=corporate_action_request)\n",
    "    \n",
    "print (response)"
   ]
  },
  {
   "cell_type": "markdown",
   "metadata": {},
   "source": [
    "![Corporate-Action-Source](img/multiplecurrencies-corporateactionsource.gif)"
   ]
  },
  {
   "cell_type": "code",
   "execution_count": 41,
   "metadata": {},
   "outputs": [
    {
     "data": {
      "text/html": [
       "<div>\n",
       "<style scoped>\n",
       "    .dataframe tbody tr th:only-of-type {\n",
       "        vertical-align: middle;\n",
       "    }\n",
       "\n",
       "    .dataframe tbody tr th {\n",
       "        vertical-align: top;\n",
       "    }\n",
       "\n",
       "    .dataframe thead th {\n",
       "        text-align: right;\n",
       "    }\n",
       "</style>\n",
       "<table border=\"1\" class=\"dataframe\">\n",
       "  <thead>\n",
       "    <tr style=\"text-align: right;\">\n",
       "      <th></th>\n",
       "      <th>code</th>\n",
       "      <th>announcement_date</th>\n",
       "      <th>execution_date</th>\n",
       "      <th>record_date</th>\n",
       "      <th>payment_date</th>\n",
       "      <th>input_instrument_figi</th>\n",
       "      <th>input_instrument_internal</th>\n",
       "      <th>input_units_factor</th>\n",
       "      <th>input_cost_factor</th>\n",
       "      <th>output_instrument_figi</th>\n",
       "      <th>output_instrument_internal</th>\n",
       "      <th>output_units_factor</th>\n",
       "      <th>output_cost_factor</th>\n",
       "      <th>dividend_yield</th>\n",
       "      <th>action_description</th>\n",
       "    </tr>\n",
       "  </thead>\n",
       "  <tbody>\n",
       "    <tr>\n",
       "      <th>0</th>\n",
       "      <td>5943592342</td>\n",
       "      <td>2019-01-29 12:04:20.970603+00:00</td>\n",
       "      <td>2019-02-08 12:04:20.970603+00:00</td>\n",
       "      <td>2019-02-11 12:04:20.970603+00:00</td>\n",
       "      <td>2019-02-14 12:04:20.970603+00:00</td>\n",
       "      <td>BBG000B9XVV8</td>\n",
       "      <td>imd_34535347</td>\n",
       "      <td>1</td>\n",
       "      <td>1</td>\n",
       "      <td>NaN</td>\n",
       "      <td>CCY_GBP</td>\n",
       "      <td>2</td>\n",
       "      <td>2</td>\n",
       "      <td>0.0017</td>\n",
       "      <td>dividend</td>\n",
       "    </tr>\n",
       "  </tbody>\n",
       "</table>\n",
       "</div>"
      ],
      "text/plain": [
       "         code                 announcement_date  \\\n",
       "0  5943592342  2019-01-29 12:04:20.970603+00:00   \n",
       "\n",
       "                     execution_date                       record_date  \\\n",
       "0  2019-02-08 12:04:20.970603+00:00  2019-02-11 12:04:20.970603+00:00   \n",
       "\n",
       "                       payment_date input_instrument_figi  \\\n",
       "0  2019-02-14 12:04:20.970603+00:00          BBG000B9XVV8   \n",
       "\n",
       "  input_instrument_internal  input_units_factor  input_cost_factor  \\\n",
       "0              imd_34535347                   1                  1   \n",
       "\n",
       "   output_instrument_figi output_instrument_internal  output_units_factor  \\\n",
       "0                     NaN                    CCY_GBP                    2   \n",
       "\n",
       "   output_cost_factor  dividend_yield action_description  \n",
       "0                   2          0.0017           dividend  "
      ]
     },
     "execution_count": 41,
     "metadata": {},
     "output_type": "execute_result"
    }
   ],
   "source": [
    "corporate_actions = pd.read_csv('data/multiplecurrencies-corporateactions.csv')\n",
    "corporate_actions.head()"
   ]
  },
  {
   "cell_type": "code",
   "execution_count": 42,
   "metadata": {},
   "outputs": [
    {
     "name": "stdout",
     "output_type": "stream",
     "text": [
      "{'additional_properties': {}, 'href': None, 'values': {'5943592342': <lusid.models.corporate_action.CorporateAction object at 0x7f91ce337d30>}, 'failed': {}, 'links': [<lusid.models.link.Link object at 0x7f91cd99e3c8>]}\n"
     ]
    }
   ],
   "source": [
    "actions = []\n",
    "\n",
    "for row, action in corporate_actions.iterrows():\n",
    "    \n",
    "    luid = client.get_instrument(\n",
    "        identifier_type='Figi',\n",
    "        identifier=action['input_instrument_figi']).lusid_instrument_id\n",
    "    \n",
    "    transition = models.CorporateActionTransition(\n",
    "        input_transition=models.CorporateActionTransitionComponent(\n",
    "            instrument_uid=luid,\n",
    "            units_factor=1,\n",
    "            cost_factor=0),\n",
    "        output_transitions=[\n",
    "            models.CorporateActionTransitionComponent(\n",
    "            instrument_uid=action['output_instrument_internal'],\n",
    "            units_factor=action['dividend_yield'],\n",
    "            cost_factor=0),\n",
    "        ])\n",
    "    \n",
    "    actions.append(\n",
    "        models.CreateCorporateAction(\n",
    "            corporate_action_code=action['code'],\n",
    "            announcement_date=datetime.now(pytz.UTC)+timedelta(days=1),\n",
    "            ex_date=datetime.now(pytz.UTC)+timedelta(days=1),\n",
    "            record_date=datetime.now(pytz.UTC)+timedelta(days=1),\n",
    "            payment_date=datetime.now(pytz.UTC)+timedelta(days=1),\n",
    "            transitions=[transition])\n",
    "    )\n",
    "\n",
    "response = client.batch_upsert_corporate_actions(\n",
    "    scope=scope,\n",
    "    code=corporate_action_source_id,\n",
    "    actions=actions)\n",
    "\n",
    "print (response)"
   ]
  },
  {
   "cell_type": "code",
   "execution_count": 43,
   "metadata": {},
   "outputs": [
    {
     "name": "stdout",
     "output_type": "stream",
     "text": [
      "{'additional_properties': {}, 'href': 'https://api.lusid.com/api/transactionportfolios/UK_High_Growth_Equities_Fund_fa7e/UK_High_Growth_Equities_Fund_base_fund/details?effectiveAt=2019-02-20T11%3A44%3A00.6365620%2B00%3A00&asAt=2019-02-20T11%3A44%3A03.3683300%2B00%3A00', 'origin_portfolio_id': <lusid.models.resource_id.ResourceId object at 0x7f91cd9c05c0>, 'version': <lusid.models.version.Version object at 0x7f91cd9d0780>, 'base_currency': 'GBP', 'links': [<lusid.models.link.Link object at 0x7f91cda0d588>]}\n"
     ]
    }
   ],
   "source": [
    "response = client.upsert_portfolio_details(\n",
    "    scope=scope,\n",
    "    code=base_portfolio_name,\n",
    "    details=models.CreatePortfolioDetails(\n",
    "        corporate_action_source_id=models.ResourceId(\n",
    "            scope=scope,\n",
    "            code=corporate_action_source_id),\n",
    "        base_currency='GBP'))\n",
    "\n",
    "print (response)"
   ]
  },
  {
   "cell_type": "markdown",
   "metadata": {},
   "source": [
    "![Corporate-Actions](img/multiplecurrencies-corporateactions.gif)"
   ]
  },
  {
   "cell_type": "markdown",
   "metadata": {},
   "source": [
    "## 6) Value our Base Fund Portfolio"
   ]
  },
  {
   "cell_type": "markdown",
   "metadata": {},
   "source": [
    "### a) Analytic store"
   ]
  },
  {
   "cell_type": "code",
   "execution_count": 44,
   "metadata": {},
   "outputs": [
    {
     "data": {
      "text/html": [
       "<div>\n",
       "<style scoped>\n",
       "    .dataframe tbody tr th:only-of-type {\n",
       "        vertical-align: middle;\n",
       "    }\n",
       "\n",
       "    .dataframe tbody tr th {\n",
       "        vertical-align: top;\n",
       "    }\n",
       "\n",
       "    .dataframe thead th {\n",
       "        text-align: right;\n",
       "    }\n",
       "</style>\n",
       "<table border=\"1\" class=\"dataframe\">\n",
       "  <thead>\n",
       "    <tr style=\"text-align: right;\">\n",
       "      <th></th>\n",
       "      <th>time</th>\n",
       "      <th>price</th>\n",
       "      <th>type</th>\n",
       "      <th>currency</th>\n",
       "      <th>instrument_name</th>\n",
       "      <th>instrument_figi</th>\n",
       "      <th>instrument_internal</th>\n",
       "    </tr>\n",
       "  </thead>\n",
       "  <tbody>\n",
       "    <tr>\n",
       "      <th>0</th>\n",
       "      <td>18/02/2019</td>\n",
       "      <td>1622.65</td>\n",
       "      <td>close</td>\n",
       "      <td>USD</td>\n",
       "      <td>Amazon_Nasdaq_AMZN</td>\n",
       "      <td>BBG000BVPXP1</td>\n",
       "      <td>imd_34634534</td>\n",
       "    </tr>\n",
       "    <tr>\n",
       "      <th>1</th>\n",
       "      <td>18/02/2019</td>\n",
       "      <td>170.80</td>\n",
       "      <td>close</td>\n",
       "      <td>USD</td>\n",
       "      <td>Apple_Nasdaq_AAPL</td>\n",
       "      <td>BBG000B9XVV8</td>\n",
       "      <td>imd_34535347</td>\n",
       "    </tr>\n",
       "    <tr>\n",
       "      <th>2</th>\n",
       "      <td>18/02/2019</td>\n",
       "      <td>98.00</td>\n",
       "      <td>close</td>\n",
       "      <td>USD</td>\n",
       "      <td>USTreasury_2.00_2021</td>\n",
       "      <td>BBG00FN3B5K8</td>\n",
       "      <td>imd_34535347</td>\n",
       "    </tr>\n",
       "    <tr>\n",
       "      <th>3</th>\n",
       "      <td>18/02/2019</td>\n",
       "      <td>142.36</td>\n",
       "      <td>close</td>\n",
       "      <td>USD</td>\n",
       "      <td>USTreasury_6.875_2025</td>\n",
       "      <td>BBG000DQQNJ8</td>\n",
       "      <td>imd_34534539</td>\n",
       "    </tr>\n",
       "    <tr>\n",
       "      <th>4</th>\n",
       "      <td>17/02/2019</td>\n",
       "      <td>1619.23</td>\n",
       "      <td>close</td>\n",
       "      <td>USD</td>\n",
       "      <td>Amazon_Nasdaq_AMZN</td>\n",
       "      <td>BBG000BVPXP1</td>\n",
       "      <td>imd_34634534</td>\n",
       "    </tr>\n",
       "  </tbody>\n",
       "</table>\n",
       "</div>"
      ],
      "text/plain": [
       "         time    price   type currency        instrument_name instrument_figi  \\\n",
       "0  18/02/2019  1622.65  close      USD     Amazon_Nasdaq_AMZN    BBG000BVPXP1   \n",
       "1  18/02/2019   170.80  close      USD      Apple_Nasdaq_AAPL    BBG000B9XVV8   \n",
       "2  18/02/2019    98.00  close      USD   USTreasury_2.00_2021    BBG00FN3B5K8   \n",
       "3  18/02/2019   142.36  close      USD  USTreasury_6.875_2025    BBG000DQQNJ8   \n",
       "4  17/02/2019  1619.23  close      USD     Amazon_Nasdaq_AMZN    BBG000BVPXP1   \n",
       "\n",
       "  instrument_internal  \n",
       "0        imd_34634534  \n",
       "1        imd_34535347  \n",
       "2        imd_34535347  \n",
       "3        imd_34534539  \n",
       "4        imd_34634534  "
      ]
     },
     "execution_count": 44,
     "metadata": {},
     "output_type": "execute_result"
    }
   ],
   "source": [
    "prices = pd.read_csv('data/multiplecurrencies-prices.csv')\n",
    "prices.head()"
   ]
  },
  {
   "cell_type": "code",
   "execution_count": 45,
   "metadata": {},
   "outputs": [
    {
     "name": "stderr",
     "output_type": "stream",
     "text": [
      "Datetime with no tzinfo will be considered UTC.\n",
      "Datetime with no tzinfo will be considered UTC.\n"
     ]
    },
    {
     "name": "stdout",
     "output_type": "stream",
     "text": [
      "{'additional_properties': {}, 'scope': 'UK_High_Growth_Equities_Fund_fa7e', 'date_property': datetime.datetime(2019, 2, 18, 0, 0, tzinfo=<FixedOffset '+00:00'>)}\n",
      "{'additional_properties': {}, 'scope': 'UK_High_Growth_Equities_Fund_fa7e', 'date_property': datetime.datetime(2019, 2, 17, 0, 0, tzinfo=<FixedOffset '+00:00'>)}\n"
     ]
    }
   ],
   "source": [
    "times = prices['time'].unique()\n",
    "\n",
    "for time in times:\n",
    "    quote_date = datetime.strptime(time, '%d/%m/%Y')\n",
    "\n",
    "    # Create analytics store request\n",
    "    analytics_store_request = models.CreateAnalyticStoreRequest(\n",
    "        scope=scope,\n",
    "        date_property=quote_date)\n",
    "\n",
    "    # Call LUSID to create our analytics store\n",
    "    client.create_analytic_store(request=analytics_store_request)\n",
    "    \n",
    "    instrument_analytics = []\n",
    "    for row, quote in prices.loc[prices['time'] == time].iterrows():\n",
    "        \n",
    "        luid = client.get_instrument(\n",
    "            identifier_type='Figi',\n",
    "            identifier=quote['instrument_figi']).lusid_instrument_id\n",
    "        \n",
    "        instrument_analytics.append(\n",
    "            models.InstrumentAnalytic(\n",
    "                instrument_uid=luid,\n",
    "                value=quote['price']))\n",
    "        \n",
    "    response = client.set_analytics(\n",
    "        scope=scope,\n",
    "        year=quote_date.year,\n",
    "        month=quote_date.month,\n",
    "        day=quote_date.day,\n",
    "        data=instrument_analytics)\n",
    "    \n",
    "    print (response.key)\n",
    "    "
   ]
  },
  {
   "cell_type": "markdown",
   "metadata": {},
   "source": [
    "![Analytic-Stores](img/multiplecurrencies-analyticstores.gif)"
   ]
  },
  {
   "cell_type": "markdown",
   "metadata": {},
   "source": [
    "### b) Aggregation"
   ]
  },
  {
   "cell_type": "code",
   "execution_count": 46,
   "metadata": {},
   "outputs": [
    {
     "name": "stdout",
     "output_type": "stream",
     "text": [
      "[{'Holding/default/SubHoldingKey': 'LusidInstrumentId=LUID_I6M8YNQN/USD', 'Instrument/default/Name': 'Amazon_Nasdaq_AMZN', 'Sum(Holding/default/Units)': 5000.0, 'Sum(Holding/default/Cost)': 7750000.0, 'Sum(Holding/default/PV)': 8113250.0}, {'Holding/default/SubHoldingKey': 'LusidInstrumentId=LUID_K8YYP5FU/USD', 'Instrument/default/Name': 'Apple_Nasdaq_AAPL', 'Sum(Holding/default/Units)': 49567.0, 'Sum(Holding/default/Cost)': 9417730.0, 'Sum(Holding/default/PV)': 8466043.6}, {'Holding/default/SubHoldingKey': 'LusidInstrumentId=LUID_0BU9BXC2/USD', 'Instrument/default/Name': 'USTreasury_2.00_2021', 'Sum(Holding/default/Units)': 121543.0, 'Sum(Holding/default/Cost)': 12063142.75, 'Sum(Holding/default/PV)': 11911214.0}, {'Holding/default/SubHoldingKey': 'LusidInstrumentId=LUID_S5F04ES0/USD', 'Instrument/default/Name': 'USTreasury_6.875_2025', 'Sum(Holding/default/Units)': 98444.0, 'Sum(Holding/default/Cost)': 13878635.12, 'Sum(Holding/default/PV)': 14014487.84}]\n"
     ]
    }
   ],
   "source": [
    "aggregation_request = models.AggregationRequest(\n",
    "    recipe_id=models.ResourceId(\n",
    "        scope=scope,\n",
    "        code='default'),\n",
    "        effective_at=datetime.now(pytz.UTC),\n",
    "        metrics=[\n",
    "            models.AggregateSpec(key='Holding/default/SubHoldingKey',\n",
    "            op='Value'),\n",
    "            models.AggregateSpec(key='Instrument/default/Name',\n",
    "            op='Value'),\n",
    "            models.AggregateSpec(key='Holding/default/Units',\n",
    "            op='sum'),\n",
    "            models.AggregateSpec(key='Holding/default/Cost',\n",
    "            op='sum'),\n",
    "            models.AggregateSpec(key='Holding/default/PV',\n",
    "            op='sum'),\n",
    "        ],\n",
    "        group_by=[\n",
    "            'Holding/default/SubHoldingKey'\n",
    "        ])\n",
    "\n",
    "response = client.get_aggregation_by_portfolio(\n",
    "    scope=scope,\n",
    "    code=base_portfolio_name,\n",
    "    request=aggregation_request)\n",
    "\n",
    "print(response.data)"
   ]
  },
  {
   "cell_type": "markdown",
   "metadata": {},
   "source": [
    "![Analytic-Stores](img/multiplecurrencies-aggregatedbase.gif)"
   ]
  },
  {
   "cell_type": "markdown",
   "metadata": {},
   "source": [
    "## 7) Securitise our Base Fund Portfolio"
   ]
  },
  {
   "cell_type": "markdown",
   "metadata": {},
   "source": [
    "### a) Securitiese with x units"
   ]
  },
  {
   "cell_type": "code",
   "execution_count": 47,
   "metadata": {},
   "outputs": [
    {
     "name": "stdout",
     "output_type": "stream",
     "text": [
      "\u001b[1mCirculation Property Key: \u001b[0mInstrument/UK_High_Growth_Equities_Fund_fa7e/total_circulation\n"
     ]
    }
   ],
   "source": [
    "# Create our request to define a new property\n",
    "property_request = models.CreatePropertyDefinitionRequest(\n",
    "    domain='Instrument',\n",
    "    scope=scope,\n",
    "    code='total_circulation',\n",
    "    value_required=False,\n",
    "    display_name='total_circulation',\n",
    "    data_type_id=models.ResourceId(scope='default', code='number'))\n",
    "\n",
    "# Call LUSID to create our new property\n",
    "response = client.create_property_definition(definition=property_request)\n",
    "\n",
    "# Grab the key off the response to use when referencing this property in other LUSID calls\n",
    "circulation_property_key = response.key\n",
    "\n",
    "# Pretty print our key\n",
    "prettyprint.heading('Circulation Property Key', circulation_property_key)"
   ]
  },
  {
   "cell_type": "markdown",
   "metadata": {},
   "source": [
    "![Analytic-Stores](img/multiplecurrencies-circulationproperty.gif)"
   ]
  },
  {
   "cell_type": "code",
   "execution_count": 48,
   "metadata": {},
   "outputs": [],
   "source": [
    "instrument_definition = models.InstrumentDefinition(\n",
    "    name=base_portfolio_name,\n",
    "    identifiers={'ClientInternal': base_portfolio_name},\n",
    "    properties=[models.InstrumentProperty(\n",
    "        key=circulation_property_key,\n",
    "        value=models.PropertyValue(\n",
    "            metric_value=models.MetricValue(\n",
    "                value=40000.00\n",
    "                )))],\n",
    "    look_through_portfolio_id=models.ResourceId(\n",
    "        scope=scope,\n",
    "        code=base_portfolio_name))\n",
    "\n",
    "response = client.upsert_instruments(requests={'look-through':instrument_definition}\n",
    "    )"
   ]
  },
  {
   "cell_type": "code",
   "execution_count": 49,
   "metadata": {},
   "outputs": [
    {
     "name": "stdout",
     "output_type": "stream",
     "text": [
      "{'look-through': <lusid.models.instrument.Instrument object at 0x7f91cda07828>}\n"
     ]
    }
   ],
   "source": [
    "print (response.values)"
   ]
  },
  {
   "cell_type": "markdown",
   "metadata": {},
   "source": [
    "![Analytic-Stores](img/multiplecurrencies-securitisebase.gif)"
   ]
  },
  {
   "cell_type": "markdown",
   "metadata": {},
   "source": [
    "### b) Calculalate price from aggregation and store in the aggregation store"
   ]
  },
  {
   "cell_type": "code",
   "execution_count": 50,
   "metadata": {},
   "outputs": [
    {
     "name": "stdout",
     "output_type": "stream",
     "text": [
      "[{'Sum(Holding/default/Cost)': 43109507.87, 'Sum(Holding/default/PV)': 42504995.44}]\n"
     ]
    }
   ],
   "source": [
    "aggregation_request = models.AggregationRequest(\n",
    "    recipe_id=models.ResourceId(\n",
    "        scope=scope,\n",
    "        code='default'),\n",
    "        effective_at=datetime.now(pytz.UTC),\n",
    "        metrics=[\n",
    "            models.AggregateSpec(key='Holding/default/Cost',\n",
    "            op='sum'),\n",
    "            models.AggregateSpec(key='Holding/default/PV',\n",
    "            op='sum'),\n",
    "        ],\n",
    "        group_by=[\n",
    "            'Portfolio/default/Name'\n",
    "        ])\n",
    "\n",
    "response = client.get_aggregation_by_portfolio(\n",
    "    scope=scope,\n",
    "    code=base_portfolio_name,\n",
    "    request=aggregation_request)\n",
    "\n",
    "print (response.data)\n",
    "\n",
    "total_value = response.data[0]['Sum(Holding/default/PV)']\n",
    "total_cost = response.data[0]['Sum(Holding/default/Cost)']"
   ]
  },
  {
   "cell_type": "code",
   "execution_count": 52,
   "metadata": {},
   "outputs": [
    {
     "name": "stdout",
     "output_type": "stream",
     "text": [
      "1062.6248859999998\n",
      "{'additional_properties': {}, 'scope': 'UK_High_Growth_Equities_Fund_fa7e', 'date_property': datetime.datetime(2019, 2, 17, 0, 0, tzinfo=<FixedOffset '+00:00'>)}\n"
     ]
    }
   ],
   "source": [
    "instrument_analytics = []\n",
    "\n",
    "quote_date = datetime.now(pytz.UTC) - timedelta(days=3)\n",
    "\n",
    "base_fund_instrument = client.get_instrument(\n",
    "    identifier_type='ClientInternal',\n",
    "    identifier=base_portfolio_name,\n",
    "    instrument_property_keys=[circulation_property_key])\n",
    "\n",
    "luid = base_fund_instrument.lusid_instrument_id\n",
    "total_circulation = base_fund_instrument.properties[0].value\n",
    "price = total_value / total_circulation\n",
    "\n",
    "print (price)\n",
    "\n",
    "instrument_analytics.append(\n",
    "    models.InstrumentAnalytic(\n",
    "        instrument_uid=luid,\n",
    "        value=price))\n",
    "\n",
    "response = client.set_analytics(\n",
    "        scope=scope,\n",
    "        year=quote_date.year,\n",
    "        month=quote_date.month,\n",
    "        day=quote_date.day,\n",
    "        data=instrument_analytics)\n",
    "\n",
    "print (response.key)"
   ]
  },
  {
   "cell_type": "markdown",
   "metadata": {},
   "source": [
    "![Base-Fund-Price](img/multiplecurrencies-basefundprice.gif)"
   ]
  },
  {
   "cell_type": "markdown",
   "metadata": {},
   "source": [
    "## 8) Create Foreign Currency Portfolios"
   ]
  },
  {
   "cell_type": "code",
   "execution_count": 53,
   "metadata": {},
   "outputs": [
    {
     "name": "stdout",
     "output_type": "stream",
     "text": [
      "\u001b[1mPortfolio Created\u001b[0m\n",
      "\u001b[1mScope: \u001b[0mUK_High_Growth_Equities_Fund_fa7e\n",
      "\u001b[1mCode: \u001b[0mUK_High_Growth_Equities_Fund_base_fund_AUD\n",
      "\u001b[1mPortfolio Effective From: \u001b[0m2018-02-20 11:43:46.585954+00:00\n",
      "\u001b[1mPortfolio Created On: \u001b[0m2019-02-20 11:45:03.512219+00:00\n",
      "\n",
      "\u001b[1mPortfolio Created\u001b[0m\n",
      "\u001b[1mScope: \u001b[0mUK_High_Growth_Equities_Fund_fa7e\n",
      "\u001b[1mCode: \u001b[0mUK_High_Growth_Equities_Fund_base_fund_GBP\n",
      "\u001b[1mPortfolio Effective From: \u001b[0m2018-02-20 11:43:46.585954+00:00\n",
      "\u001b[1mPortfolio Created On: \u001b[0m2019-02-20 11:45:03.806548+00:00\n",
      "\n",
      "\u001b[1mPortfolio Created\u001b[0m\n",
      "\u001b[1mScope: \u001b[0mUK_High_Growth_Equities_Fund_fa7e\n",
      "\u001b[1mCode: \u001b[0mUK_High_Growth_Equities_Fund_base_fund_USD\n",
      "\u001b[1mPortfolio Effective From: \u001b[0m2018-02-20 11:43:46.585954+00:00\n",
      "\u001b[1mPortfolio Created On: \u001b[0m2019-02-20 11:45:04.109113+00:00\n",
      "\n",
      "\u001b[1mPortfolio Created\u001b[0m\n",
      "\u001b[1mScope: \u001b[0mUK_High_Growth_Equities_Fund_fa7e\n",
      "\u001b[1mCode: \u001b[0mUK_High_Growth_Equities_Fund_base_fund_EUR\n",
      "\u001b[1mPortfolio Effective From: \u001b[0m2018-02-20 11:43:46.585954+00:00\n",
      "\u001b[1mPortfolio Created On: \u001b[0m2019-02-20 11:45:04.379126+00:00\n",
      "\n",
      "\u001b[1mPortfolio Created\u001b[0m\n",
      "\u001b[1mScope: \u001b[0mUK_High_Growth_Equities_Fund_fa7e\n",
      "\u001b[1mCode: \u001b[0mUK_High_Growth_Equities_Fund_base_fund_JPY\n",
      "\u001b[1mPortfolio Effective From: \u001b[0m2018-02-20 11:43:46.585954+00:00\n",
      "\u001b[1mPortfolio Created On: \u001b[0m2019-02-20 11:45:04.779650+00:00\n",
      "\n"
     ]
    }
   ],
   "source": [
    "fund_currencies = ['AUD', 'GBP', 'USD', 'EUR', 'JPY']\n",
    "\n",
    "for currency in fund_currencies:\n",
    "    \n",
    "    portfolio_name = '{}_{}'.format(base_portfolio_name, currency)\n",
    "    \n",
    "    # Create the request to add our portfolio\n",
    "    transaction_portfolio_request = models.CreateTransactionPortfolioRequest(\n",
    "        display_name=portfolio_name,\n",
    "        code=portfolio_name,\n",
    "        base_currency=currency,\n",
    "        description='The portfolio to hold our base fund in currency {}'.format(currency),\n",
    "        created=portfolio_creation_date)\n",
    "\n",
    "    # Call LUSID to create our portfolio\n",
    "    portfolio_response = client.create_portfolio(\n",
    "        scope=scope,\n",
    "        create_request=transaction_portfolio_request)\n",
    "\n",
    "    # Pretty print the response from LUSID\n",
    "    prettyprint.portfolio_response(portfolio_response)"
   ]
  },
  {
   "cell_type": "markdown",
   "metadata": {},
   "source": [
    "![Foreign-Currency-Portfolios](img/multiplecurrencies-foreigncurrencyportfolios.gif)"
   ]
  },
  {
   "cell_type": "markdown",
   "metadata": {},
   "source": [
    "## 9) Add Base Fund Units"
   ]
  },
  {
   "cell_type": "code",
   "execution_count": 57,
   "metadata": {},
   "outputs": [
    {
     "name": "stdout",
     "output_type": "stream",
     "text": [
      "\u001b[1mHoldings Successfully Set for Portfolio\u001b[0m\n",
      "\u001b[1mScope: \u001b[0mUK_High_Growth_Equities_Fund_fa7e\n",
      "\u001b[1mCode: \u001b[0mUK_High_Growth_Equities_Fund_base_fund_AUD\n",
      "\u001b[1mHoldings Effective From: \u001b[0m2019-02-17 11:45:06.446182+00:00\n",
      "\u001b[1mHoldings Created On: \u001b[0m2019-02-20 11:46:05.853153+00:00\n",
      "\n",
      "\u001b[1mHoldings Successfully Set for Portfolio\u001b[0m\n",
      "\u001b[1mScope: \u001b[0mUK_High_Growth_Equities_Fund_fa7e\n",
      "\u001b[1mCode: \u001b[0mUK_High_Growth_Equities_Fund_base_fund_GBP\n",
      "\u001b[1mHoldings Effective From: \u001b[0m2019-02-17 11:45:06.446182+00:00\n",
      "\u001b[1mHoldings Created On: \u001b[0m2019-02-20 11:46:06.215880+00:00\n",
      "\n",
      "\u001b[1mHoldings Successfully Set for Portfolio\u001b[0m\n",
      "\u001b[1mScope: \u001b[0mUK_High_Growth_Equities_Fund_fa7e\n",
      "\u001b[1mCode: \u001b[0mUK_High_Growth_Equities_Fund_base_fund_USD\n",
      "\u001b[1mHoldings Effective From: \u001b[0m2019-02-17 11:45:06.446182+00:00\n",
      "\u001b[1mHoldings Created On: \u001b[0m2019-02-20 11:46:06.597755+00:00\n",
      "\n",
      "\u001b[1mHoldings Successfully Set for Portfolio\u001b[0m\n",
      "\u001b[1mScope: \u001b[0mUK_High_Growth_Equities_Fund_fa7e\n",
      "\u001b[1mCode: \u001b[0mUK_High_Growth_Equities_Fund_base_fund_EUR\n",
      "\u001b[1mHoldings Effective From: \u001b[0m2019-02-17 11:45:06.446182+00:00\n",
      "\u001b[1mHoldings Created On: \u001b[0m2019-02-20 11:46:06.968405+00:00\n",
      "\n",
      "\u001b[1mHoldings Successfully Set for Portfolio\u001b[0m\n",
      "\u001b[1mScope: \u001b[0mUK_High_Growth_Equities_Fund_fa7e\n",
      "\u001b[1mCode: \u001b[0mUK_High_Growth_Equities_Fund_base_fund_JPY\n",
      "\u001b[1mHoldings Effective From: \u001b[0m2019-02-17 11:45:06.446182+00:00\n",
      "\u001b[1mHoldings Created On: \u001b[0m2019-02-20 11:46:08.253835+00:00\n",
      "\n"
     ]
    }
   ],
   "source": [
    "holding_adjustments = []\n",
    "\n",
    "holdings_effective_date = datetime.now(pytz.UTC) - timedelta(days=7)\n",
    "\n",
    "holding_adjustments.append(\n",
    "    models.AdjustHoldingRequest(\n",
    "        instrument_identifiers={\n",
    "                'Instrument/default/ClientInternal': base_portfolio_name},\n",
    "            tax_lots=[\n",
    "                models.TargetTaxLotRequest(\n",
    "                    units=total_circulation/len(fund_currencies),\n",
    "                    cost=models.CurrencyAndAmount(\n",
    "                        amount=total_cost/len(fund_currencies),\n",
    "                        currency='USD'),\n",
    "                    portfolio_cost=total_cost/len(fund_currencies),\n",
    "                    price=total_cost/total_circulation)\n",
    "            ]\n",
    "    )\n",
    ")\n",
    "\n",
    "for currency in fund_currencies:\n",
    "    # Call LUSID to set our holdings\n",
    "    response = client.set_holdings(\n",
    "        scope=scope,\n",
    "        code='{}_{}'.format(base_portfolio_name, currency),\n",
    "        effective_at=holdings_effective_date,\n",
    "        holding_adjustments=holding_adjustments)\n",
    "\n",
    "    prettyprint.set_holdings_response(response, scope, '{}_{}'.format(base_portfolio_name, currency))"
   ]
  },
  {
   "cell_type": "markdown",
   "metadata": {},
   "source": [
    "![Foreign-Currency-Portfolios](img/multiplecurrencies-foreigncurrencyportfoliosholdbase.gif)"
   ]
  },
  {
   "cell_type": "markdown",
   "metadata": {},
   "source": [
    "## 10) Add Hedging Transactions"
   ]
  },
  {
   "cell_type": "code",
   "execution_count": 58,
   "metadata": {},
   "outputs": [
    {
     "name": "stdout",
     "output_type": "stream",
     "text": [
      "{'additional_properties': {}, 'instrument_uid': 'LUID_1E4YQGP1', 'sub_holding_keys': [], 'properties': [], 'holding_type': 'P', 'units': 8000.0, 'settled_units': 8000.0, 'cost': <lusid.models.currency_and_amount.CurrencyAndAmount object at 0x7f91cd9c0470>, 'cost_portfolio_ccy': <lusid.models.currency_and_amount.CurrencyAndAmount object at 0x7f91cd9c01d0>, 'transaction': None}\n"
     ]
    }
   ],
   "source": [
    "response = client.get_holdings(\n",
    "    scope=scope,\n",
    "    code='{}_{}'.format(base_portfolio_name, 'GBP'))\n",
    "    \n",
    "print (response.values[0])"
   ]
  },
  {
   "cell_type": "code",
   "execution_count": 59,
   "metadata": {},
   "outputs": [
    {
     "ename": "ErrorResponseException",
     "evalue": "A price was not found for instrument",
     "output_type": "error",
     "traceback": [
      "\u001b[0;31m---------------------------------------------------------------------------\u001b[0m",
      "\u001b[0;31mErrorResponseException\u001b[0m                    Traceback (most recent call last)",
      "\u001b[0;32m<ipython-input-59-b3c540ecf2f5>\u001b[0m in \u001b[0;36m<module>\u001b[0;34m()\u001b[0m\n\u001b[1;32m     23\u001b[0m     \u001b[0mscope\u001b[0m\u001b[0;34m=\u001b[0m\u001b[0mscope\u001b[0m\u001b[0;34m,\u001b[0m\u001b[0;34m\u001b[0m\u001b[0m\n\u001b[1;32m     24\u001b[0m     \u001b[0mcode\u001b[0m\u001b[0;34m=\u001b[0m\u001b[0;34m'{}_{}'\u001b[0m\u001b[0;34m.\u001b[0m\u001b[0mformat\u001b[0m\u001b[0;34m(\u001b[0m\u001b[0mbase_portfolio_name\u001b[0m\u001b[0;34m,\u001b[0m \u001b[0;34m'JPY'\u001b[0m\u001b[0;34m)\u001b[0m\u001b[0;34m,\u001b[0m\u001b[0;34m\u001b[0m\u001b[0m\n\u001b[0;32m---> 25\u001b[0;31m     request=aggregation_request)\n\u001b[0m\u001b[1;32m     26\u001b[0m \u001b[0;34m\u001b[0m\u001b[0m\n\u001b[1;32m     27\u001b[0m response = client.get_aggregation_by_portfolio(\n",
      "\u001b[0;32m/opt/conda/lib/python3.6/site-packages/lusid/lusidapi.py\u001b[0m in \u001b[0;36mget_aggregation_by_portfolio\u001b[0;34m(self, scope, code, request, sort_by, start, limit, custom_headers, raw, **operation_config)\u001b[0m\n\u001b[1;32m   3720\u001b[0m \u001b[0;34m\u001b[0m\u001b[0m\n\u001b[1;32m   3721\u001b[0m         \u001b[0;32mif\u001b[0m \u001b[0mresponse\u001b[0m\u001b[0;34m.\u001b[0m\u001b[0mstatus_code\u001b[0m \u001b[0;32mnot\u001b[0m \u001b[0;32min\u001b[0m \u001b[0;34m[\u001b[0m\u001b[0;36m200\u001b[0m\u001b[0;34m]\u001b[0m\u001b[0;34m:\u001b[0m\u001b[0;34m\u001b[0m\u001b[0m\n\u001b[0;32m-> 3722\u001b[0;31m             \u001b[0;32mraise\u001b[0m \u001b[0mmodels\u001b[0m\u001b[0;34m.\u001b[0m\u001b[0mErrorResponseException\u001b[0m\u001b[0;34m(\u001b[0m\u001b[0mself\u001b[0m\u001b[0;34m.\u001b[0m\u001b[0m_deserialize\u001b[0m\u001b[0;34m,\u001b[0m \u001b[0mresponse\u001b[0m\u001b[0;34m)\u001b[0m\u001b[0;34m\u001b[0m\u001b[0m\n\u001b[0m\u001b[1;32m   3723\u001b[0m \u001b[0;34m\u001b[0m\u001b[0m\n\u001b[1;32m   3724\u001b[0m         \u001b[0mdeserialized\u001b[0m \u001b[0;34m=\u001b[0m \u001b[0;32mNone\u001b[0m\u001b[0;34m\u001b[0m\u001b[0m\n",
      "\u001b[0;31mErrorResponseException\u001b[0m: A price was not found for instrument"
     ]
    }
   ],
   "source": [
    "aggregation_request = models.AggregationRequest(\n",
    "    recipe_id=models.ResourceId(\n",
    "        scope=scope,\n",
    "        code='default'),\n",
    "        effective_at=quote_date,\n",
    "        metrics=[\n",
    "            models.AggregateSpec(key='Holding/default/SubHoldingKey',\n",
    "            op='Value'),\n",
    "            models.AggregateSpec(key='Instrument/default/Name',\n",
    "            op='Value'),\n",
    "            models.AggregateSpec(key='Holding/default/Units',\n",
    "            op='sum'),\n",
    "            models.AggregateSpec(key='Holding/default/Cost',\n",
    "            op='sum'),\n",
    "            models.AggregateSpec(key='Holding/default/PV',\n",
    "            op='sum'),\n",
    "        ],\n",
    "        group_by=[\n",
    "            'Holding/default/SubHoldingKey'\n",
    "        ])\n",
    "\n",
    "response = client.get_aggregation_by_portfolio(\n",
    "    scope=scope,\n",
    "    code='{}_{}'.format(base_portfolio_name, 'JPY'),\n",
    "    request=aggregation_request)\n",
    "\n",
    "response = client.get_aggregation_by_portfolio(\n",
    "    scope=scope,\n",
    "    code=base_portfolio_name,\n",
    "    request=aggregation_request)\n",
    "\n",
    "print(response.data)"
   ]
  },
  {
   "cell_type": "markdown",
   "metadata": {},
   "source": [
    "## 11) Value Currency Portfolios"
   ]
  },
  {
   "cell_type": "markdown",
   "metadata": {},
   "source": [
    "## 12) Securitise Currency Portfolios"
   ]
  },
  {
   "cell_type": "markdown",
   "metadata": {},
   "source": [
    "## 13) Create Share Class Portfolios"
   ]
  },
  {
   "cell_type": "markdown",
   "metadata": {},
   "source": [
    "## 15) Add Currency Fund Holdings"
   ]
  },
  {
   "cell_type": "markdown",
   "metadata": {},
   "source": [
    "## 16) Value Each Share Class"
   ]
  },
  {
   "cell_type": "markdown",
   "metadata": {},
   "source": [
    "## 17) Add transactions to end portfolio"
   ]
  },
  {
   "cell_type": "markdown",
   "metadata": {},
   "source": [
    "## 18) Value each portfolio (bubble up)"
   ]
  }
 ],
 "metadata": {
  "kernelspec": {
   "display_name": "Python 3",
   "language": "python",
   "name": "python3"
  },
  "language_info": {
   "codemirror_mode": {
    "name": "ipython",
    "version": 3
   },
   "file_extension": ".py",
   "mimetype": "text/x-python",
   "name": "python",
   "nbconvert_exporter": "python",
   "pygments_lexer": "ipython3",
   "version": "3.6.6"
  }
 },
 "nbformat": 4,
 "nbformat_minor": 2
}
