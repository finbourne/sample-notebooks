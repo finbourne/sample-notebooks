{
 "cells": [
  {
   "cell_type": "markdown",
   "metadata": {},
   "source": [
    "First things first let's initialise our environment.\n",
    "\n",
    "*Run the cell below to import our libraries and initialise our LUSID client*"
   ]
  },
  {
   "cell_type": "code",
   "execution_count": 47,
   "metadata": {},
   "outputs": [
    {
     "name": "stdout",
     "output_type": "stream",
     "text": [
      "LUSID Environment Initialised\n",
      "API Version:  0.9.181\n"
     ]
    }
   ],
   "source": [
    "# Import LUSID\n",
    "import lusid.models as models\n",
    "import lusid_sample_data as import_data\n",
    "\n",
    "# Import Libraries\n",
    "import pprint\n",
    "from datetime import datetime, timedelta, time\n",
    "import pytz\n",
    "import printer as prettyprint\n",
    "import pandas as pd\n",
    "import uuid\n",
    "import math\n",
    "\n",
    "# Authenticate our user and create our API client\n",
    "client = import_data.authenticate_secrets()\n",
    "\n",
    "print ('LUSID Environment Initialised')\n",
    "print ('API Version: ', client.api_version)"
   ]
  },
  {
   "cell_type": "markdown",
   "metadata": {},
   "source": [
    "![Initailise LUSID](img/multiplecurrencies-initialise.gif)"
   ]
  },
  {
   "cell_type": "markdown",
   "metadata": {},
   "source": [
    "## 1) Set up our Scope"
   ]
  },
  {
   "cell_type": "code",
   "execution_count": 2,
   "metadata": {},
   "outputs": [
    {
     "name": "stdout",
     "output_type": "stream",
     "text": [
      "UK_High_Growth_Equities_Fund_d7dd\n"
     ]
    }
   ],
   "source": [
    "scope_id = str(uuid.uuid4())[:4]\n",
    "scope_name = 'UK_High_Growth_Equities_Fund'\n",
    "scope = '{}_{}'.format(scope_name, scope_id)\n",
    "print (scope)"
   ]
  },
  {
   "cell_type": "markdown",
   "metadata": {},
   "source": [
    "![Scope](img/multiplecurrencies-scope.gif)"
   ]
  },
  {
   "cell_type": "markdown",
   "metadata": {},
   "source": [
    "## 2) Load Instruments"
   ]
  },
  {
   "cell_type": "code",
   "execution_count": 3,
   "metadata": {},
   "outputs": [
    {
     "data": {
      "text/html": [
       "<div>\n",
       "<style scoped>\n",
       "    .dataframe tbody tr th:only-of-type {\n",
       "        vertical-align: middle;\n",
       "    }\n",
       "\n",
       "    .dataframe tbody tr th {\n",
       "        vertical-align: top;\n",
       "    }\n",
       "\n",
       "    .dataframe thead th {\n",
       "        text-align: right;\n",
       "    }\n",
       "</style>\n",
       "<table border=\"1\" class=\"dataframe\">\n",
       "  <thead>\n",
       "    <tr style=\"text-align: right;\">\n",
       "      <th></th>\n",
       "      <th>instrument_name</th>\n",
       "      <th>client_internal</th>\n",
       "      <th>currency</th>\n",
       "      <th>isin</th>\n",
       "      <th>figi</th>\n",
       "      <th>exchange_code</th>\n",
       "      <th>country_issue</th>\n",
       "      <th>ticker</th>\n",
       "      <th>market_sector</th>\n",
       "      <th>security_type</th>\n",
       "      <th>coupon</th>\n",
       "    </tr>\n",
       "  </thead>\n",
       "  <tbody>\n",
       "    <tr>\n",
       "      <th>0</th>\n",
       "      <td>Amazon_Nasdaq_AMZN</td>\n",
       "      <td>imd_34634534</td>\n",
       "      <td>USD</td>\n",
       "      <td>US0231351067</td>\n",
       "      <td>BBG000BVPXP1</td>\n",
       "      <td>UN</td>\n",
       "      <td>united_states_america</td>\n",
       "      <td>AMZN</td>\n",
       "      <td>equity</td>\n",
       "      <td>common_stock</td>\n",
       "      <td>NaN</td>\n",
       "    </tr>\n",
       "    <tr>\n",
       "      <th>1</th>\n",
       "      <td>Apple_Nasdaq_AAPL</td>\n",
       "      <td>imd_35345345</td>\n",
       "      <td>USD</td>\n",
       "      <td>US0378331005</td>\n",
       "      <td>BBG000B9XVV8</td>\n",
       "      <td>UN</td>\n",
       "      <td>united_states_america</td>\n",
       "      <td>AAPL</td>\n",
       "      <td>equity</td>\n",
       "      <td>common_stock</td>\n",
       "      <td>NaN</td>\n",
       "    </tr>\n",
       "    <tr>\n",
       "      <th>2</th>\n",
       "      <td>USTreasury_2.00_2021</td>\n",
       "      <td>imd_34535347</td>\n",
       "      <td>USD</td>\n",
       "      <td>US912828U816</td>\n",
       "      <td>BBG00FN3B5K8</td>\n",
       "      <td>BERLIN</td>\n",
       "      <td>united_states_america</td>\n",
       "      <td>T 2 12/31/21</td>\n",
       "      <td>govt</td>\n",
       "      <td>us_government</td>\n",
       "      <td>2.000</td>\n",
       "    </tr>\n",
       "    <tr>\n",
       "      <th>3</th>\n",
       "      <td>USTreasury_6.875_2025</td>\n",
       "      <td>imd_34534539</td>\n",
       "      <td>USD</td>\n",
       "      <td>US912810EV62</td>\n",
       "      <td>BBG000DQQNJ8</td>\n",
       "      <td>NEW YORK</td>\n",
       "      <td>united_states_america</td>\n",
       "      <td>T 6.875 08/15/25</td>\n",
       "      <td>govt</td>\n",
       "      <td>us_government</td>\n",
       "      <td>6.875</td>\n",
       "    </tr>\n",
       "    <tr>\n",
       "      <th>4</th>\n",
       "      <td>ExpressScripts_NYSE_ESRX</td>\n",
       "      <td>imd_34352311</td>\n",
       "      <td>USD</td>\n",
       "      <td>US30219G1085</td>\n",
       "      <td>BBG000C16621</td>\n",
       "      <td>UN</td>\n",
       "      <td>united_states_america</td>\n",
       "      <td>ESRX</td>\n",
       "      <td>equity</td>\n",
       "      <td>common_stock</td>\n",
       "      <td>NaN</td>\n",
       "    </tr>\n",
       "    <tr>\n",
       "      <th>5</th>\n",
       "      <td>TrinityIndustries_NYSE_TRN</td>\n",
       "      <td>imd_34235200</td>\n",
       "      <td>USD</td>\n",
       "      <td>US8965221091</td>\n",
       "      <td>BBG000BVL406</td>\n",
       "      <td>UN</td>\n",
       "      <td>united_states_america</td>\n",
       "      <td>TRN</td>\n",
       "      <td>equity</td>\n",
       "      <td>common_stock</td>\n",
       "      <td>NaN</td>\n",
       "    </tr>\n",
       "    <tr>\n",
       "      <th>6</th>\n",
       "      <td>Trex_NYSE_TREX</td>\n",
       "      <td>imd_32423956</td>\n",
       "      <td>USD</td>\n",
       "      <td>US89531P1057</td>\n",
       "      <td>BBG000BTGM43</td>\n",
       "      <td>UN</td>\n",
       "      <td>united_states_america</td>\n",
       "      <td>TREX</td>\n",
       "      <td>equity</td>\n",
       "      <td>common_stock</td>\n",
       "      <td>NaN</td>\n",
       "    </tr>\n",
       "    <tr>\n",
       "      <th>7</th>\n",
       "      <td>Cigna_NYSE_CI</td>\n",
       "      <td>imd_32452391</td>\n",
       "      <td>USD</td>\n",
       "      <td>US1255091092</td>\n",
       "      <td>BBG00KXXK940</td>\n",
       "      <td>UN</td>\n",
       "      <td>united_states_america</td>\n",
       "      <td>CI</td>\n",
       "      <td>equity</td>\n",
       "      <td>common_stock</td>\n",
       "      <td>NaN</td>\n",
       "    </tr>\n",
       "    <tr>\n",
       "      <th>8</th>\n",
       "      <td>Arcosa_NYSE_ACA</td>\n",
       "      <td>imd_23423409</td>\n",
       "      <td>USD</td>\n",
       "      <td>US0396531008</td>\n",
       "      <td>BBG00JGMWFQ5</td>\n",
       "      <td>UN</td>\n",
       "      <td>united_states_america</td>\n",
       "      <td>ACA</td>\n",
       "      <td>equity</td>\n",
       "      <td>common_stock</td>\n",
       "      <td>NaN</td>\n",
       "    </tr>\n",
       "  </tbody>\n",
       "</table>\n",
       "</div>"
      ],
      "text/plain": [
       "              instrument_name client_internal currency          isin  \\\n",
       "0          Amazon_Nasdaq_AMZN    imd_34634534      USD  US0231351067   \n",
       "1           Apple_Nasdaq_AAPL    imd_35345345      USD  US0378331005   \n",
       "2        USTreasury_2.00_2021    imd_34535347      USD  US912828U816   \n",
       "3       USTreasury_6.875_2025    imd_34534539      USD  US912810EV62   \n",
       "4    ExpressScripts_NYSE_ESRX    imd_34352311      USD  US30219G1085   \n",
       "5  TrinityIndustries_NYSE_TRN    imd_34235200      USD  US8965221091   \n",
       "6              Trex_NYSE_TREX    imd_32423956      USD  US89531P1057   \n",
       "7               Cigna_NYSE_CI    imd_32452391      USD  US1255091092   \n",
       "8             Arcosa_NYSE_ACA    imd_23423409      USD  US0396531008   \n",
       "\n",
       "           figi exchange_code          country_issue            ticker  \\\n",
       "0  BBG000BVPXP1            UN  united_states_america              AMZN   \n",
       "1  BBG000B9XVV8            UN  united_states_america              AAPL   \n",
       "2  BBG00FN3B5K8        BERLIN  united_states_america      T 2 12/31/21   \n",
       "3  BBG000DQQNJ8      NEW YORK  united_states_america  T 6.875 08/15/25   \n",
       "4  BBG000C16621            UN  united_states_america              ESRX   \n",
       "5  BBG000BVL406            UN  united_states_america               TRN   \n",
       "6  BBG000BTGM43            UN  united_states_america              TREX   \n",
       "7  BBG00KXXK940            UN  united_states_america                CI   \n",
       "8  BBG00JGMWFQ5            UN  united_states_america               ACA   \n",
       "\n",
       "  market_sector  security_type  coupon  \n",
       "0        equity   common_stock     NaN  \n",
       "1        equity   common_stock     NaN  \n",
       "2          govt  us_government   2.000  \n",
       "3          govt  us_government   6.875  \n",
       "4        equity   common_stock     NaN  \n",
       "5        equity   common_stock     NaN  \n",
       "6        equity   common_stock     NaN  \n",
       "7        equity   common_stock     NaN  \n",
       "8        equity   common_stock     NaN  "
      ]
     },
     "execution_count": 3,
     "metadata": {},
     "output_type": "execute_result"
    }
   ],
   "source": [
    "instrument_universe = pd.read_csv('data/multiplecurrencies-instruments.csv')\n",
    "instrument_universe.head(n=10)"
   ]
  },
  {
   "cell_type": "code",
   "execution_count": 4,
   "metadata": {},
   "outputs": [
    {
     "name": "stdout",
     "output_type": "stream",
     "text": [
      "\u001b[1mInstrument Successfully Upserted: \u001b[0mUSTreasury_2.00_2021\n",
      "\u001b[1mFigi ID: \u001b[0mBBG00FN3B5K8\n",
      "\u001b[1mLUSID Instrument ID: \u001b[0mLUID_3ABWW5FM\n",
      "\n",
      "\n",
      "\u001b[1mInstrument Successfully Upserted: \u001b[0mApple_Nasdaq_AAPL\n",
      "\u001b[1mFigi ID: \u001b[0mBBG000B9XVV8\n",
      "\u001b[1mLUSID Instrument ID: \u001b[0mLUID_Z6LRHXAF\n",
      "\n",
      "\n",
      "\u001b[1mInstrument Successfully Upserted: \u001b[0mTrinityIndustries_NYSE_TRN\n",
      "\u001b[1mFigi ID: \u001b[0mBBG000BVL406\n",
      "\u001b[1mLUSID Instrument ID: \u001b[0mLUID_XOEVS1VP\n",
      "\n",
      "\n",
      "\u001b[1mInstrument Successfully Upserted: \u001b[0mExpressScripts_NYSE_ESRX\n",
      "\u001b[1mFigi ID: \u001b[0mBBG000C16621\n",
      "\u001b[1mLUSID Instrument ID: \u001b[0mLUID_X8K7UME5\n",
      "\n",
      "\n",
      "\u001b[1mInstrument Successfully Upserted: \u001b[0mTrex_NYSE_TREX\n",
      "\u001b[1mFigi ID: \u001b[0mBBG000BTGM43\n",
      "\u001b[1mLUSID Instrument ID: \u001b[0mLUID_TSQ51Z7Z\n",
      "\n",
      "\n",
      "\u001b[1mInstrument Successfully Upserted: \u001b[0mAmazon_Nasdaq_AMZN\n",
      "\u001b[1mFigi ID: \u001b[0mBBG000BVPXP1\n",
      "\u001b[1mLUSID Instrument ID: \u001b[0mLUID_GJBAEYMY\n",
      "\n",
      "\n",
      "\u001b[1mInstrument Successfully Upserted: \u001b[0mCigna_NYSE_CI\n",
      "\u001b[1mFigi ID: \u001b[0mBBG00KXXK940\n",
      "\u001b[1mLUSID Instrument ID: \u001b[0mLUID_QWB8KLXQ\n",
      "\n",
      "\n",
      "\u001b[1mInstrument Successfully Upserted: \u001b[0mArcosa_NYSE_ACA\n",
      "\u001b[1mFigi ID: \u001b[0mBBG00JGMWFQ5\n",
      "\u001b[1mLUSID Instrument ID: \u001b[0mLUID_B4F63NZM\n",
      "\n",
      "\n",
      "\u001b[1mInstrument Successfully Upserted: \u001b[0mUSTreasury_6.875_2025\n",
      "\u001b[1mFigi ID: \u001b[0mBBG000DQQNJ8\n",
      "\u001b[1mLUSID Instrument ID: \u001b[0mLUID_OZ5XG0E5\n",
      "\n",
      "\n",
      "9  instruments upserted successfully\n",
      "0  instrument upsert failures\n"
     ]
    }
   ],
   "source": [
    "# Initialise our dictionary to hold our instrument definitions\n",
    "instrument_definitions = {}\n",
    "\n",
    "# Iterate over our instrument universe\n",
    "for index, instrument in instrument_universe.iterrows():\n",
    "\n",
    "    # Create our ISIN property using the default ISIN property definition\n",
    "    isin_property = models.InstrumentProperty(\n",
    "        key='Instrument/default/Isin',\n",
    "        value=models.PropertyValue(\n",
    "            label_value=instrument['isin']))\n",
    "    \n",
    "    # Create our ticker property using the default ticker property definition\n",
    "    ticker_property = models.InstrumentProperty(\n",
    "        key='Instrument/default/Ticker',\n",
    "        value=models.PropertyValue(\n",
    "            label_value=instrument['ticker']))\n",
    "\n",
    "    # Create the definition for our instrument\n",
    "    instrument_definitions[instrument['instrument_name']] = models.InstrumentDefinition(\n",
    "        name=instrument['instrument_name'],\n",
    "        identifiers={\n",
    "            'Figi': instrument['figi'],\n",
    "            'ClientInternal': instrument['client_internal']},\n",
    "        properties=[\n",
    "            isin_property,\n",
    "            ticker_property\n",
    "        ]\n",
    "    )\n",
    "\n",
    "# Call LUSID to upsert our instrument defintions\n",
    "response = client.upsert_instruments(requests=instrument_definitions)\n",
    "\n",
    "# Pretty print the response from LUSID\n",
    "prettyprint.instrument_response(response, identifier='Figi')"
   ]
  },
  {
   "cell_type": "markdown",
   "metadata": {},
   "source": [
    "![Instruments](img/multiplecurrencies-instruments.gif)"
   ]
  },
  {
   "cell_type": "markdown",
   "metadata": {},
   "source": [
    "## 3) Create our Base Fund Portfolio"
   ]
  },
  {
   "cell_type": "code",
   "execution_count": 5,
   "metadata": {
    "scrolled": true
   },
   "outputs": [
    {
     "name": "stdout",
     "output_type": "stream",
     "text": [
      "UK_High_Growth_Equities_Fund_base_fund\n"
     ]
    }
   ],
   "source": [
    "base_portfolio_name = '{}_base_fund'.format(scope_name)\n",
    "print (base_portfolio_name)"
   ]
  },
  {
   "cell_type": "code",
   "execution_count": 6,
   "metadata": {},
   "outputs": [
    {
     "name": "stdout",
     "output_type": "stream",
     "text": [
      "\u001b[1mPortfolio Created\u001b[0m\n",
      "\u001b[1mScope: \u001b[0mUK_High_Growth_Equities_Fund_d7dd\n",
      "\u001b[1mCode: \u001b[0mUK_High_Growth_Equities_Fund_base_fund\n",
      "\u001b[1mPortfolio Effective From: \u001b[0m2018-03-20 16:35:22.217616+00:00\n",
      "\u001b[1mPortfolio Created On: \u001b[0m2019-03-20 16:35:21.179430+00:00\n",
      "\n"
     ]
    }
   ],
   "source": [
    "# The date our portfolios were first created\n",
    "portfolio_creation_date = (datetime.now(pytz.UTC) - timedelta(days=365))\n",
    "\n",
    "# Create the request to add our portfolio\n",
    "transaction_portfolio_request = models.CreateTransactionPortfolioRequest(\n",
    "    display_name=base_portfolio_name,\n",
    "    code=base_portfolio_name,\n",
    "    base_currency='USD',\n",
    "    description='The portfolio to hold our base fund',\n",
    "    created=portfolio_creation_date)\n",
    "\n",
    "# Call LUSID to create our portfolio\n",
    "portfolio_response = client.create_portfolio(\n",
    "    scope=scope,\n",
    "    create_request=transaction_portfolio_request)\n",
    "\n",
    "# Pretty print the response from LUSID\n",
    "prettyprint.portfolio_response(portfolio_response)"
   ]
  },
  {
   "cell_type": "markdown",
   "metadata": {},
   "source": [
    "![Base-Fund](img/multiplecurrencies-basefundportfolio.gif)"
   ]
  },
  {
   "cell_type": "markdown",
   "metadata": {},
   "source": [
    "## 4) Set our Holdings"
   ]
  },
  {
   "cell_type": "code",
   "execution_count": 7,
   "metadata": {},
   "outputs": [
    {
     "data": {
      "text/html": [
       "<div>\n",
       "<style scoped>\n",
       "    .dataframe tbody tr th:only-of-type {\n",
       "        vertical-align: middle;\n",
       "    }\n",
       "\n",
       "    .dataframe tbody tr th {\n",
       "        vertical-align: top;\n",
       "    }\n",
       "\n",
       "    .dataframe thead th {\n",
       "        text-align: right;\n",
       "    }\n",
       "</style>\n",
       "<table border=\"1\" class=\"dataframe\">\n",
       "  <thead>\n",
       "    <tr style=\"text-align: right;\">\n",
       "      <th></th>\n",
       "      <th>instrument_name</th>\n",
       "      <th>client_internal</th>\n",
       "      <th>isin</th>\n",
       "      <th>figi</th>\n",
       "      <th>quantity</th>\n",
       "      <th>unit_cost</th>\n",
       "      <th>total_cost</th>\n",
       "      <th>currency</th>\n",
       "    </tr>\n",
       "  </thead>\n",
       "  <tbody>\n",
       "    <tr>\n",
       "      <th>0</th>\n",
       "      <td>Amazon_Nasdaq_AMZN</td>\n",
       "      <td>imd_34634534</td>\n",
       "      <td>US0231351067</td>\n",
       "      <td>BBG000BVPXP1</td>\n",
       "      <td>5000</td>\n",
       "      <td>1550.00</td>\n",
       "      <td>7750000.00</td>\n",
       "      <td>USD</td>\n",
       "    </tr>\n",
       "    <tr>\n",
       "      <th>1</th>\n",
       "      <td>Apple_Nasdaq_AAPL</td>\n",
       "      <td>imd_35345345</td>\n",
       "      <td>US0378331005</td>\n",
       "      <td>BBG000B9XVV8</td>\n",
       "      <td>49567</td>\n",
       "      <td>190.00</td>\n",
       "      <td>9417730.00</td>\n",
       "      <td>USD</td>\n",
       "    </tr>\n",
       "    <tr>\n",
       "      <th>2</th>\n",
       "      <td>USTreasury_2.00_2021</td>\n",
       "      <td>imd_34535347</td>\n",
       "      <td>US912828U816</td>\n",
       "      <td>BBG00FN3B5K8</td>\n",
       "      <td>121543</td>\n",
       "      <td>99.25</td>\n",
       "      <td>12063142.75</td>\n",
       "      <td>USD</td>\n",
       "    </tr>\n",
       "    <tr>\n",
       "      <th>3</th>\n",
       "      <td>USTreasury_6.875_2025</td>\n",
       "      <td>imd_34534539</td>\n",
       "      <td>US912810EV62</td>\n",
       "      <td>BBG000DQQNJ8</td>\n",
       "      <td>98444</td>\n",
       "      <td>140.98</td>\n",
       "      <td>13878635.12</td>\n",
       "      <td>USD</td>\n",
       "    </tr>\n",
       "  </tbody>\n",
       "</table>\n",
       "</div>"
      ],
      "text/plain": [
       "         instrument_name client_internal          isin          figi  \\\n",
       "0     Amazon_Nasdaq_AMZN    imd_34634534  US0231351067  BBG000BVPXP1   \n",
       "1      Apple_Nasdaq_AAPL    imd_35345345  US0378331005  BBG000B9XVV8   \n",
       "2   USTreasury_2.00_2021    imd_34535347  US912828U816  BBG00FN3B5K8   \n",
       "3  USTreasury_6.875_2025    imd_34534539  US912810EV62  BBG000DQQNJ8   \n",
       "\n",
       "   quantity  unit_cost   total_cost currency  \n",
       "0      5000    1550.00   7750000.00      USD  \n",
       "1     49567     190.00   9417730.00      USD  \n",
       "2    121543      99.25  12063142.75      USD  \n",
       "3     98444     140.98  13878635.12      USD  "
      ]
     },
     "execution_count": 7,
     "metadata": {},
     "output_type": "execute_result"
    }
   ],
   "source": [
    "#Import our holdings\n",
    "holdings = pd.read_csv('data/multiplecurrencies-holdings.csv')\n",
    "holdings.head()"
   ]
  },
  {
   "cell_type": "code",
   "execution_count": 8,
   "metadata": {},
   "outputs": [
    {
     "name": "stdout",
     "output_type": "stream",
     "text": [
      "\u001b[1mHoldings Successfully Set for Portfolio\u001b[0m\n",
      "\u001b[1mScope: \u001b[0mUK_High_Growth_Equities_Fund_d7dd\n",
      "\u001b[1mCode: \u001b[0mUK_High_Growth_Equities_Fund_base_fund\n",
      "\u001b[1mHoldings Effective From: \u001b[0m2019-03-13 16:35:25.824178+00:00\n",
      "\u001b[1mHoldings Created On: \u001b[0m2019-03-20 16:35:45.943762+00:00\n",
      "\n"
     ]
    }
   ],
   "source": [
    "holding_adjustments = []\n",
    "\n",
    "holdings_effective_date = datetime.now(pytz.UTC) - timedelta(days=7)\n",
    "\n",
    "for row, holding in holdings.iterrows():\n",
    "\n",
    "    holding_adjustments.append(\n",
    "        models.AdjustHoldingRequest(\n",
    "            instrument_identifiers={\n",
    "                    'Instrument/default/Figi': holding['figi']},\n",
    "                tax_lots=[\n",
    "                    models.TargetTaxLotRequest(\n",
    "                        units=holding['quantity'],\n",
    "                        cost=models.CurrencyAndAmount(\n",
    "                            amount=holding['total_cost'],\n",
    "                            currency=holding['currency']),\n",
    "                        portfolio_cost=holding['total_cost'],\n",
    "                        price=holding['unit_cost'])\n",
    "                ]\n",
    "        )\n",
    "    )\n",
    "    \n",
    "# Call LUSID to set our holdings\n",
    "response = client.set_holdings(\n",
    "    scope=scope,\n",
    "    code=base_portfolio_name,\n",
    "    effective_at=holdings_effective_date,\n",
    "    holding_adjustments=holding_adjustments)\n",
    "\n",
    "prettyprint.set_holdings_response(response, scope, base_portfolio_name)"
   ]
  },
  {
   "cell_type": "markdown",
   "metadata": {},
   "source": [
    "![Base-Fund-Hodlings](img/multiplecurrencies-basefundportfolioholdings.gif)"
   ]
  },
  {
   "cell_type": "markdown",
   "metadata": {},
   "source": [
    "## 5) Add Corporate Actions"
   ]
  },
  {
   "cell_type": "code",
   "execution_count": 9,
   "metadata": {},
   "outputs": [
    {
     "name": "stdout",
     "output_type": "stream",
     "text": [
      "\u001b[1mCorporate Actions Source Successfully Created\u001b[0m\n",
      "\u001b[1mScope: \u001b[0mUK_High_Growth_Equities_Fund_d7dd\n",
      "\u001b[1mCode: \u001b[0mUK_High_Growth_Equities_Fund_base_fund_corporate_action_source\n"
     ]
    }
   ],
   "source": [
    "corporate_action_source_id = '{}_corporate_action_source'.format(base_portfolio_name)\n",
    "\n",
    "corporate_action_request = models.CreateCorporateActionSourceRequest(\n",
    "    scope=scope,\n",
    "    code=corporate_action_source_id)\n",
    "\n",
    "response = client.create_corporate_action_source(\n",
    "    request=corporate_action_request)\n",
    "    \n",
    "prettyprint.corporate_action_response(response)"
   ]
  },
  {
   "cell_type": "markdown",
   "metadata": {},
   "source": [
    "![Corporate-Action-Source](img/multiplecurrencies-corporateactionsource.gif)"
   ]
  },
  {
   "cell_type": "code",
   "execution_count": 10,
   "metadata": {},
   "outputs": [
    {
     "data": {
      "text/html": [
       "<div>\n",
       "<style scoped>\n",
       "    .dataframe tbody tr th:only-of-type {\n",
       "        vertical-align: middle;\n",
       "    }\n",
       "\n",
       "    .dataframe tbody tr th {\n",
       "        vertical-align: top;\n",
       "    }\n",
       "\n",
       "    .dataframe thead th {\n",
       "        text-align: right;\n",
       "    }\n",
       "</style>\n",
       "<table border=\"1\" class=\"dataframe\">\n",
       "  <thead>\n",
       "    <tr style=\"text-align: right;\">\n",
       "      <th></th>\n",
       "      <th>code</th>\n",
       "      <th>action_description</th>\n",
       "      <th>description</th>\n",
       "      <th>announcement_date</th>\n",
       "      <th>ex_date</th>\n",
       "      <th>record_date</th>\n",
       "      <th>payment_date</th>\n",
       "      <th>input_instrument_figi</th>\n",
       "      <th>instrument_input_ticker</th>\n",
       "      <th>input_instrument_name</th>\n",
       "      <th>input_units_factor</th>\n",
       "      <th>input_cost_factor</th>\n",
       "      <th>output_instrument_figi</th>\n",
       "      <th>output_instrument_name</th>\n",
       "      <th>output_ticker</th>\n",
       "      <th>output_instrument_internal</th>\n",
       "      <th>output_units_factor</th>\n",
       "      <th>output_cost_factor</th>\n",
       "      <th>dividend_yield</th>\n",
       "    </tr>\n",
       "  </thead>\n",
       "  <tbody>\n",
       "    <tr>\n",
       "      <th>0</th>\n",
       "      <td>5943592342</td>\n",
       "      <td>dividend</td>\n",
       "      <td>Apple Dividend</td>\n",
       "      <td>29/01/2019</td>\n",
       "      <td>08/02/2019</td>\n",
       "      <td>11/02/2019</td>\n",
       "      <td>14/02/2019</td>\n",
       "      <td>BBG000B9XVV8</td>\n",
       "      <td>AAPL</td>\n",
       "      <td>APPLE INC</td>\n",
       "      <td>1</td>\n",
       "      <td>1</td>\n",
       "      <td>NaN</td>\n",
       "      <td>NaN</td>\n",
       "      <td>NaN</td>\n",
       "      <td>CCY_GBP</td>\n",
       "      <td>0.0170</td>\n",
       "      <td>0.0000</td>\n",
       "      <td>0.017</td>\n",
       "    </tr>\n",
       "    <tr>\n",
       "      <th>1</th>\n",
       "      <td>5943592343</td>\n",
       "      <td>merger</td>\n",
       "      <td>Cigna &amp; Express Scripts Merger</td>\n",
       "      <td>08/03/2018</td>\n",
       "      <td>10/12/2018</td>\n",
       "      <td>13/12/2018</td>\n",
       "      <td>20/12/2018</td>\n",
       "      <td>BBG000C16621</td>\n",
       "      <td>ESRX</td>\n",
       "      <td>EXPRESS SCRIPTS HOLDINGS CO</td>\n",
       "      <td>1</td>\n",
       "      <td>1</td>\n",
       "      <td>NaN</td>\n",
       "      <td>NaN</td>\n",
       "      <td>NaN</td>\n",
       "      <td>CCY_USD</td>\n",
       "      <td>48.7500</td>\n",
       "      <td>0.0000</td>\n",
       "      <td>NaN</td>\n",
       "    </tr>\n",
       "    <tr>\n",
       "      <th>2</th>\n",
       "      <td>5943592343</td>\n",
       "      <td>merger</td>\n",
       "      <td>Cigna &amp; Express Scripts Merger</td>\n",
       "      <td>08/03/2018</td>\n",
       "      <td>10/12/2018</td>\n",
       "      <td>13/12/2018</td>\n",
       "      <td>20/12/2018</td>\n",
       "      <td>BBG000C16621</td>\n",
       "      <td>ESRX</td>\n",
       "      <td>EXPRESS SCRIPTS HOLDINGS CO</td>\n",
       "      <td>1</td>\n",
       "      <td>1</td>\n",
       "      <td>BBG00KXXK940</td>\n",
       "      <td>CIGNA CORP</td>\n",
       "      <td>CI</td>\n",
       "      <td>NaN</td>\n",
       "      <td>0.2434</td>\n",
       "      <td>1.9337</td>\n",
       "      <td>NaN</td>\n",
       "    </tr>\n",
       "    <tr>\n",
       "      <th>3</th>\n",
       "      <td>5943592347</td>\n",
       "      <td>spin-off</td>\n",
       "      <td>Acosa spin-off from Trinity Industries</td>\n",
       "      <td>12/12/2017</td>\n",
       "      <td>17/10/2018</td>\n",
       "      <td>20/10/2018</td>\n",
       "      <td>01/11/2018</td>\n",
       "      <td>BBG000BVL406</td>\n",
       "      <td>TRN</td>\n",
       "      <td>TRINITY INDUSTRIES INC</td>\n",
       "      <td>3</td>\n",
       "      <td>1</td>\n",
       "      <td>BBG00JGMWFQ5</td>\n",
       "      <td>ARCOSA INC</td>\n",
       "      <td>ACA</td>\n",
       "      <td>NaN</td>\n",
       "      <td>1.0000</td>\n",
       "      <td>1.0324</td>\n",
       "      <td>NaN</td>\n",
       "    </tr>\n",
       "    <tr>\n",
       "      <th>4</th>\n",
       "      <td>5943592498</td>\n",
       "      <td>split</td>\n",
       "      <td>Trex 2 for 1 stock split</td>\n",
       "      <td>07/05/2018</td>\n",
       "      <td>21/05/2018</td>\n",
       "      <td>23/05/2018</td>\n",
       "      <td>19/06/2018</td>\n",
       "      <td>BBG000BTGM43</td>\n",
       "      <td>TREX</td>\n",
       "      <td>TREX COMPANY INC</td>\n",
       "      <td>1</td>\n",
       "      <td>1</td>\n",
       "      <td>BBG000BTGM43</td>\n",
       "      <td>TREX COMPANY INC</td>\n",
       "      <td>TREX</td>\n",
       "      <td>NaN</td>\n",
       "      <td>2.0000</td>\n",
       "      <td>2.0000</td>\n",
       "      <td>NaN</td>\n",
       "    </tr>\n",
       "  </tbody>\n",
       "</table>\n",
       "</div>"
      ],
      "text/plain": [
       "         code action_description                             description  \\\n",
       "0  5943592342           dividend                          Apple Dividend   \n",
       "1  5943592343             merger          Cigna & Express Scripts Merger   \n",
       "2  5943592343             merger          Cigna & Express Scripts Merger   \n",
       "3  5943592347           spin-off  Acosa spin-off from Trinity Industries   \n",
       "4  5943592498              split                Trex 2 for 1 stock split   \n",
       "\n",
       "  announcement_date     ex_date record_date payment_date  \\\n",
       "0        29/01/2019  08/02/2019  11/02/2019   14/02/2019   \n",
       "1        08/03/2018  10/12/2018  13/12/2018   20/12/2018   \n",
       "2        08/03/2018  10/12/2018  13/12/2018   20/12/2018   \n",
       "3        12/12/2017  17/10/2018  20/10/2018   01/11/2018   \n",
       "4        07/05/2018  21/05/2018  23/05/2018   19/06/2018   \n",
       "\n",
       "  input_instrument_figi instrument_input_ticker        input_instrument_name  \\\n",
       "0          BBG000B9XVV8                    AAPL                    APPLE INC   \n",
       "1          BBG000C16621                    ESRX  EXPRESS SCRIPTS HOLDINGS CO   \n",
       "2          BBG000C16621                    ESRX  EXPRESS SCRIPTS HOLDINGS CO   \n",
       "3          BBG000BVL406                     TRN       TRINITY INDUSTRIES INC   \n",
       "4          BBG000BTGM43                    TREX             TREX COMPANY INC   \n",
       "\n",
       "   input_units_factor  input_cost_factor output_instrument_figi  \\\n",
       "0                   1                  1                    NaN   \n",
       "1                   1                  1                    NaN   \n",
       "2                   1                  1           BBG00KXXK940   \n",
       "3                   3                  1           BBG00JGMWFQ5   \n",
       "4                   1                  1           BBG000BTGM43   \n",
       "\n",
       "  output_instrument_name output_ticker output_instrument_internal  \\\n",
       "0                    NaN           NaN                    CCY_GBP   \n",
       "1                    NaN           NaN                    CCY_USD   \n",
       "2             CIGNA CORP            CI                        NaN   \n",
       "3             ARCOSA INC           ACA                        NaN   \n",
       "4       TREX COMPANY INC          TREX                        NaN   \n",
       "\n",
       "   output_units_factor  output_cost_factor  dividend_yield  \n",
       "0               0.0170              0.0000           0.017  \n",
       "1              48.7500              0.0000             NaN  \n",
       "2               0.2434              1.9337             NaN  \n",
       "3               1.0000              1.0324             NaN  \n",
       "4               2.0000              2.0000             NaN  "
      ]
     },
     "execution_count": 10,
     "metadata": {},
     "output_type": "execute_result"
    }
   ],
   "source": [
    "corporate_actions = pd.read_csv('data/corporateactions.csv')\n",
    "corporate_actions.head()"
   ]
  },
  {
   "cell_type": "code",
   "execution_count": 11,
   "metadata": {},
   "outputs": [
    {
     "name": "stdout",
     "output_type": "stream",
     "text": [
      "{'additional_properties': {}, 'href': None, 'values': {'5943592342': <lusid.models.corporate_action.CorporateAction object at 0x7f6de647d6d8>, '5943592343': <lusid.models.corporate_action.CorporateAction object at 0x7f6de647d4e0>, '5943592347': <lusid.models.corporate_action.CorporateAction object at 0x7f6de6494908>, '5943592498': <lusid.models.corporate_action.CorporateAction object at 0x7f6de6494be0>}, 'failed': {}, 'links': [<lusid.models.link.Link object at 0x7f6de6494b70>]}\n"
     ]
    }
   ],
   "source": [
    "actions = {}\n",
    "\n",
    "\n",
    "for row, action in corporate_actions.iterrows():\n",
    "    \n",
    "    actions[action['code']] = {}\n",
    "    \n",
    "    actions[action['code']].setdefault(\n",
    "        'input_transition', models.CorporateActionTransitionComponentRequest(\n",
    "            instrument_identifiers={\n",
    "                'Instrument/default/Figi': action['input_instrument_figi']\n",
    "            },\n",
    "            units_factor=action['input_units_factor'],\n",
    "            cost_factor=action['input_cost_factor']))\n",
    "    \n",
    "    actions[action['code']].setdefault(\n",
    "        'output_transitions', []).append(\n",
    "            models.CorporateActionTransitionComponentRequest(\n",
    "                instrument_identifiers={\n",
    "                    'Instrument/default/Figi': action['input_instrument_figi']\n",
    "                },\n",
    "                units_factor=action['input_units_factor'],\n",
    "                cost_factor=action['input_cost_factor']))\n",
    "    \n",
    "actions_list = []\n",
    "\n",
    "for action_id, action in actions.items():\n",
    "    \n",
    "    transition = models.CorporateActionTransitionRequest(\n",
    "        input_transition=actions[action_id]['input_transition'],\n",
    "        output_transitions=actions[action_id]['output_transitions']\n",
    "    )\n",
    "    \n",
    "    actions_list.append(\n",
    "        models.CreateCorporateAction(\n",
    "            corporate_action_code=action_id,\n",
    "            announcement_date=datetime.now(pytz.UTC)+timedelta(days=1),\n",
    "            ex_date=datetime.now(pytz.UTC)+timedelta(days=1),\n",
    "            record_date=datetime.now(pytz.UTC)+timedelta(days=1),\n",
    "            payment_date=datetime.now(pytz.UTC)+timedelta(days=1),\n",
    "            transitions=[transition])\n",
    "    )\n",
    "\n",
    "response = client.batch_upsert_corporate_actions(\n",
    "    scope=scope,\n",
    "    code=corporate_action_source_id,\n",
    "    actions=actions_list)\n",
    "\n",
    "print (response)"
   ]
  },
  {
   "cell_type": "code",
   "execution_count": 12,
   "metadata": {},
   "outputs": [
    {
     "name": "stdout",
     "output_type": "stream",
     "text": [
      "{'additional_properties': {}, 'href': 'https://api.lusid.com/api/transactionportfolios/UK_High_Growth_Equities_Fund_d7dd/UK_High_Growth_Equities_Fund_base_fund/details?effectiveAt=2019-03-20T16%3A35%3A52.8080250%2B00%3A00&asAt=2019-03-20T16%3A35%3A53.2110540%2B00%3A00', 'origin_portfolio_id': <lusid.models.resource_id.ResourceId object at 0x7f6de646f8d0>, 'version': <lusid.models.version.Version object at 0x7f6de646fb38>, 'base_currency': 'GBP', 'links': [<lusid.models.link.Link object at 0x7f6de64832b0>]}\n"
     ]
    }
   ],
   "source": [
    "response = client.upsert_portfolio_details(\n",
    "    scope=scope,\n",
    "    code=base_portfolio_name,\n",
    "    details=models.CreatePortfolioDetails(\n",
    "        corporate_action_source_id=models.ResourceId(\n",
    "            scope=scope,\n",
    "            code=corporate_action_source_id),\n",
    "        base_currency='GBP'))\n",
    "\n",
    "print (response)"
   ]
  },
  {
   "cell_type": "markdown",
   "metadata": {},
   "source": [
    "![Corporate-Actions](img/multiplecurrencies-corporateactions.gif)"
   ]
  },
  {
   "cell_type": "markdown",
   "metadata": {},
   "source": [
    "## 6) Value our Base Fund Portfolio"
   ]
  },
  {
   "cell_type": "markdown",
   "metadata": {},
   "source": [
    "### a) Analytic store"
   ]
  },
  {
   "cell_type": "code",
   "execution_count": 13,
   "metadata": {},
   "outputs": [
    {
     "data": {
      "text/html": [
       "<div>\n",
       "<style scoped>\n",
       "    .dataframe tbody tr th:only-of-type {\n",
       "        vertical-align: middle;\n",
       "    }\n",
       "\n",
       "    .dataframe tbody tr th {\n",
       "        vertical-align: top;\n",
       "    }\n",
       "\n",
       "    .dataframe thead th {\n",
       "        text-align: right;\n",
       "    }\n",
       "</style>\n",
       "<table border=\"1\" class=\"dataframe\">\n",
       "  <thead>\n",
       "    <tr style=\"text-align: right;\">\n",
       "      <th></th>\n",
       "      <th>price</th>\n",
       "      <th>type</th>\n",
       "      <th>currency</th>\n",
       "      <th>instrument_name</th>\n",
       "      <th>instrument_figi</th>\n",
       "      <th>instrument_internal</th>\n",
       "    </tr>\n",
       "  </thead>\n",
       "  <tbody>\n",
       "    <tr>\n",
       "      <th>0</th>\n",
       "      <td>1622.65</td>\n",
       "      <td>close</td>\n",
       "      <td>USD</td>\n",
       "      <td>Amazon_Nasdaq_AMZN</td>\n",
       "      <td>BBG000BVPXP1</td>\n",
       "      <td>imd_34634534</td>\n",
       "    </tr>\n",
       "    <tr>\n",
       "      <th>1</th>\n",
       "      <td>170.80</td>\n",
       "      <td>close</td>\n",
       "      <td>USD</td>\n",
       "      <td>Apple_Nasdaq_AAPL</td>\n",
       "      <td>BBG000B9XVV8</td>\n",
       "      <td>imd_34535347</td>\n",
       "    </tr>\n",
       "    <tr>\n",
       "      <th>2</th>\n",
       "      <td>98.00</td>\n",
       "      <td>close</td>\n",
       "      <td>USD</td>\n",
       "      <td>USTreasury_2.00_2021</td>\n",
       "      <td>BBG00FN3B5K8</td>\n",
       "      <td>imd_34535347</td>\n",
       "    </tr>\n",
       "    <tr>\n",
       "      <th>3</th>\n",
       "      <td>142.36</td>\n",
       "      <td>close</td>\n",
       "      <td>USD</td>\n",
       "      <td>USTreasury_6.875_2025</td>\n",
       "      <td>BBG000DQQNJ8</td>\n",
       "      <td>imd_34534539</td>\n",
       "    </tr>\n",
       "  </tbody>\n",
       "</table>\n",
       "</div>"
      ],
      "text/plain": [
       "     price   type currency        instrument_name instrument_figi  \\\n",
       "0  1622.65  close      USD     Amazon_Nasdaq_AMZN    BBG000BVPXP1   \n",
       "1   170.80  close      USD      Apple_Nasdaq_AAPL    BBG000B9XVV8   \n",
       "2    98.00  close      USD   USTreasury_2.00_2021    BBG00FN3B5K8   \n",
       "3   142.36  close      USD  USTreasury_6.875_2025    BBG000DQQNJ8   \n",
       "\n",
       "  instrument_internal  \n",
       "0        imd_34634534  \n",
       "1        imd_34535347  \n",
       "2        imd_34535347  \n",
       "3        imd_34534539  "
      ]
     },
     "execution_count": 13,
     "metadata": {},
     "output_type": "execute_result"
    }
   ],
   "source": [
    "prices = pd.read_csv('data/multiplecurrencies-prices.csv')\n",
    "prices.head()"
   ]
  },
  {
   "cell_type": "code",
   "execution_count": 14,
   "metadata": {},
   "outputs": [
    {
     "name": "stdout",
     "output_type": "stream",
     "text": [
      "{'additional_properties': {}, 'as_at_date': datetime.datetime(2019, 3, 20, 16, 35, 58, 327032, tzinfo=<FixedOffset '+00:00'>), 'links': None}\n"
     ]
    }
   ],
   "source": [
    "quote_date = holdings_effective_date\n",
    "\n",
    "instrument_quotes = []\n",
    "\n",
    "for row, quote in prices.iterrows():\n",
    "\n",
    "    instrument_quotes.append(\n",
    "        models.UpsertQuoteRequest(\n",
    "            quote_id=models.QuoteId(\n",
    "                instrument_id=quote['instrument_figi'],\n",
    "                instrument_id_type='Figi',\n",
    "                quote_type='Price',\n",
    "                price_side='Mid'),\n",
    "            metric_value=models.MetricValue(\n",
    "                value=quote['price'],\n",
    "                unit=quote['currency']),\n",
    "            quote_lineage=models.QuoteLineage(\n",
    "                data_vendor='Yahoo_Finance',\n",
    "                contributor='Internal_User'),\n",
    "            effective_at=holdings_effective_date\n",
    "            )\n",
    "    )\n",
    "\n",
    "response = client.upsert_quotes(\n",
    "    scope=scope,\n",
    "    quotes=instrument_quotes)\n",
    "\n",
    "print (response)"
   ]
  },
  {
   "cell_type": "markdown",
   "metadata": {},
   "source": [
    "![Analytic-Stores](img/multiplecurrencies-analyticstores.gif)"
   ]
  },
  {
   "cell_type": "markdown",
   "metadata": {},
   "source": [
    "### b) Aggregation"
   ]
  },
  {
   "cell_type": "code",
   "execution_count": 15,
   "metadata": {},
   "outputs": [
    {
     "name": "stdout",
     "output_type": "stream",
     "text": [
      "[{'Holding/default/SubHoldingKey': 'LusidInstrumentId=LUID_GJBAEYMY/USD', 'Instrument/default/Name': 'Amazon_Nasdaq_AMZN', 'Sum(Holding/default/Units)': 5000.0, 'Sum(Holding/default/Cost)': 7750000.0, 'Sum(Holding/default/PV)': 8113250.0}, {'Holding/default/SubHoldingKey': 'LusidInstrumentId=LUID_Z6LRHXAF/USD', 'Instrument/default/Name': 'Apple_Nasdaq_AAPL', 'Sum(Holding/default/Units)': 49567.0, 'Sum(Holding/default/Cost)': 9417730.0, 'Sum(Holding/default/PV)': 8466043.6}, {'Holding/default/SubHoldingKey': 'LusidInstrumentId=LUID_3ABWW5FM/USD', 'Instrument/default/Name': 'USTreasury_2.00_2021', 'Sum(Holding/default/Units)': 121543.0, 'Sum(Holding/default/Cost)': 12063142.75, 'Sum(Holding/default/PV)': 11911214.0}, {'Holding/default/SubHoldingKey': 'LusidInstrumentId=LUID_OZ5XG0E5/USD', 'Instrument/default/Name': 'USTreasury_6.875_2025', 'Sum(Holding/default/Units)': 98444.0, 'Sum(Holding/default/Cost)': 13878635.12, 'Sum(Holding/default/PV)': 14014487.84}]\n"
     ]
    }
   ],
   "source": [
    "inline_recipe = models.ConfigurationRecipe(\n",
    "    code='quotes_recipe',\n",
    "    market=models.MarketContext(\n",
    "        market_rules=[\n",
    "            models.MarketDataKeyRule(\n",
    "               key='Equity.Figi.*',\n",
    "               supplier='DataScope',\n",
    "               data_scope=scope,\n",
    "               quote_type='Price',\n",
    "               price_side='Mid'),\n",
    "           models.MarketDataKeyRule(\n",
    "               key='Equity.LusidInstrumentId.*',\n",
    "               supplier='DataScope',\n",
    "               data_scope=scope,\n",
    "               quote_type='Price',\n",
    "               price_side='Mid'),\n",
    "            models.MarketDataKeyRule(\n",
    "               key='Fx.CurrencyPair.*',\n",
    "               supplier='DataScope',\n",
    "               data_scope=scope,\n",
    "               quote_type='Rate',\n",
    "               price_side='Mid')\n",
    "        ],\n",
    "        suppliers=models.MarketContextSuppliers(\n",
    "            commodity='DataScope',\n",
    "            credit='DataScope',\n",
    "            equity='DataScope',\n",
    "            fx='DataScope',\n",
    "            rates='DataScope'),\n",
    "        options=models.MarketOptions(\n",
    "            default_supplier='DataScope',\n",
    "            default_instrument_code_type='Figi',\n",
    "            default_scope=scope)\n",
    "    )\n",
    ")\n",
    "\n",
    "aggregation_request = models.AggregationRequest(\n",
    "    inline_recipe=inline_recipe,\n",
    "    effective_at=holdings_effective_date,\n",
    "    metrics=[\n",
    "        models.AggregateSpec(key='Holding/default/SubHoldingKey',\n",
    "        op='Value'),\n",
    "        models.AggregateSpec(key='Instrument/default/Name',\n",
    "        op='Value'),\n",
    "        models.AggregateSpec(key='Holding/default/Units',\n",
    "        op='sum'),\n",
    "        models.AggregateSpec(key='Holding/default/Cost',\n",
    "        op='sum'),\n",
    "        models.AggregateSpec(key='Holding/default/PV',\n",
    "        op='sum'),\n",
    "    ],\n",
    "    group_by=[\n",
    "        'Holding/default/SubHoldingKey'\n",
    "    ])\n",
    "\n",
    "response = client.get_aggregation_by_portfolio(\n",
    "    scope=scope,\n",
    "    code=base_portfolio_name,\n",
    "    request=aggregation_request)\n",
    "\n",
    "print(response.data)"
   ]
  },
  {
   "cell_type": "markdown",
   "metadata": {},
   "source": [
    "![Analytic-Stores](img/multiplecurrencies-aggregatedbase.gif)"
   ]
  },
  {
   "cell_type": "markdown",
   "metadata": {},
   "source": [
    "## 7) Securitise our Base Fund Portfolio"
   ]
  },
  {
   "cell_type": "markdown",
   "metadata": {},
   "source": [
    "### a) Securitiese with x units"
   ]
  },
  {
   "cell_type": "code",
   "execution_count": 20,
   "metadata": {},
   "outputs": [
    {
     "ename": "ErrorResponseException",
     "evalue": "Error creating Property Definition 'Instrument/UK_High_Growth_Equities_Fund_d7dd/total_circulation' because it already exists.",
     "output_type": "error",
     "traceback": [
      "\u001b[0;31m---------------------------------------------------------------------------\u001b[0m",
      "\u001b[0;31mErrorResponseException\u001b[0m                    Traceback (most recent call last)",
      "\u001b[0;32m<ipython-input-20-93b01bc610e9>\u001b[0m in \u001b[0;36m<module>\u001b[0;34m()\u001b[0m\n\u001b[1;32m      9\u001b[0m \u001b[0;34m\u001b[0m\u001b[0m\n\u001b[1;32m     10\u001b[0m \u001b[0;31m# Call LUSID to create our new property\u001b[0m\u001b[0;34m\u001b[0m\u001b[0;34m\u001b[0m\u001b[0m\n\u001b[0;32m---> 11\u001b[0;31m \u001b[0mresponse\u001b[0m \u001b[0;34m=\u001b[0m \u001b[0mclient\u001b[0m\u001b[0;34m.\u001b[0m\u001b[0mcreate_property_definition\u001b[0m\u001b[0;34m(\u001b[0m\u001b[0mdefinition\u001b[0m\u001b[0;34m=\u001b[0m\u001b[0mproperty_request\u001b[0m\u001b[0;34m)\u001b[0m\u001b[0;34m\u001b[0m\u001b[0m\n\u001b[0m\u001b[1;32m     12\u001b[0m \u001b[0;34m\u001b[0m\u001b[0m\n\u001b[1;32m     13\u001b[0m \u001b[0;31m# Grab the key off the response to use when referencing this property in other LUSID calls\u001b[0m\u001b[0;34m\u001b[0m\u001b[0;34m\u001b[0m\u001b[0m\n",
      "\u001b[0;32m/opt/conda/lib/python3.6/site-packages/lusid/lusidapi.py\u001b[0m in \u001b[0;36mcreate_property_definition\u001b[0;34m(self, definition, custom_headers, raw, **operation_config)\u001b[0m\n\u001b[1;32m   4327\u001b[0m \u001b[0;34m\u001b[0m\u001b[0m\n\u001b[1;32m   4328\u001b[0m         \u001b[0;32mif\u001b[0m \u001b[0mresponse\u001b[0m\u001b[0;34m.\u001b[0m\u001b[0mstatus_code\u001b[0m \u001b[0;32mnot\u001b[0m \u001b[0;32min\u001b[0m \u001b[0;34m[\u001b[0m\u001b[0;36m201\u001b[0m\u001b[0;34m]\u001b[0m\u001b[0;34m:\u001b[0m\u001b[0;34m\u001b[0m\u001b[0m\n\u001b[0;32m-> 4329\u001b[0;31m             \u001b[0;32mraise\u001b[0m \u001b[0mmodels\u001b[0m\u001b[0;34m.\u001b[0m\u001b[0mErrorResponseException\u001b[0m\u001b[0;34m(\u001b[0m\u001b[0mself\u001b[0m\u001b[0;34m.\u001b[0m\u001b[0m_deserialize\u001b[0m\u001b[0;34m,\u001b[0m \u001b[0mresponse\u001b[0m\u001b[0;34m)\u001b[0m\u001b[0;34m\u001b[0m\u001b[0m\n\u001b[0m\u001b[1;32m   4330\u001b[0m \u001b[0;34m\u001b[0m\u001b[0m\n\u001b[1;32m   4331\u001b[0m         \u001b[0mdeserialized\u001b[0m \u001b[0;34m=\u001b[0m \u001b[0;32mNone\u001b[0m\u001b[0;34m\u001b[0m\u001b[0m\n",
      "\u001b[0;31mErrorResponseException\u001b[0m: Error creating Property Definition 'Instrument/UK_High_Growth_Equities_Fund_d7dd/total_circulation' because it already exists."
     ]
    }
   ],
   "source": [
    "# Create our request to define a new property\n",
    "property_request = models.CreatePropertyDefinitionRequest(\n",
    "    domain='Instrument',\n",
    "    scope=scope,\n",
    "    code='total_circulation',\n",
    "    value_required=False,\n",
    "    display_name='total_circulation',\n",
    "    data_type_id=models.ResourceId(scope='default', code='number'))\n",
    "\n",
    "# Call LUSID to create our new property\n",
    "response = client.create_property_definition(definition=property_request)\n",
    "\n",
    "# Grab the key off the response to use when referencing this property in other LUSID calls\n",
    "circulation_property_key = response.key\n",
    "\n",
    "# Pretty print our key\n",
    "prettyprint.heading('Circulation Property Key', circulation_property_key)"
   ]
  },
  {
   "cell_type": "markdown",
   "metadata": {},
   "source": [
    "![Analytic-Stores](img/multiplecurrencies-circulationproperty.gif)"
   ]
  },
  {
   "cell_type": "code",
   "execution_count": 21,
   "metadata": {},
   "outputs": [
    {
     "name": "stdout",
     "output_type": "stream",
     "text": [
      "{'look-through': <lusid.models.instrument.Instrument object at 0x7f6de5b50630>}\n"
     ]
    }
   ],
   "source": [
    "instrument_definition = models.InstrumentDefinition(\n",
    "    name=base_portfolio_name,\n",
    "    identifiers={'ClientInternal': base_portfolio_name},\n",
    "    properties=[models.InstrumentProperty(\n",
    "        key=circulation_property_key,\n",
    "        value=models.PropertyValue(\n",
    "            metric_value=models.MetricValue(\n",
    "                value=40000.00\n",
    "                )))],\n",
    "    look_through_portfolio_id=models.ResourceId(\n",
    "        scope=scope,\n",
    "        code=base_portfolio_name))\n",
    "\n",
    "response = client.upsert_instruments(requests={'look-through':instrument_definition}\n",
    "    )\n",
    "\n",
    "print (response.values)"
   ]
  },
  {
   "cell_type": "markdown",
   "metadata": {},
   "source": [
    "![Analytic-Stores](img/multiplecurrencies-securitisebase.gif)"
   ]
  },
  {
   "cell_type": "markdown",
   "metadata": {},
   "source": [
    "### b) Calculalate price from aggregation and store in the aggregation store"
   ]
  },
  {
   "cell_type": "code",
   "execution_count": 36,
   "metadata": {},
   "outputs": [
    {
     "name": "stdout",
     "output_type": "stream",
     "text": [
      "[{'Sum(Holding/default/Cost)': 43109507.87, 'Sum(Holding/default/PV)': 42504995.44}]\n"
     ]
    }
   ],
   "source": [
    "aggregation_request = models.AggregationRequest(\n",
    "    inline_recipe=inline_recipe,\n",
    "    effective_at=holdings_effective_date,\n",
    "    metrics=[\n",
    "        models.AggregateSpec(key='Holding/default/Cost',\n",
    "        op='sum'),\n",
    "        models.AggregateSpec(key='Holding/default/PV',\n",
    "        op='sum'),\n",
    "    ],\n",
    "    group_by=[\n",
    "        'Portfolio/default/Name'\n",
    "    ])\n",
    "\n",
    "response = client.get_aggregation_by_portfolio(\n",
    "    scope=scope,\n",
    "    code=base_portfolio_name,\n",
    "    request=aggregation_request)\n",
    "\n",
    "print (response.data)\n",
    "\n",
    "total_value = response.data[0]['Sum(Holding/default/PV)']\n",
    "total_cost = response.data[0]['Sum(Holding/default/Cost)']"
   ]
  },
  {
   "cell_type": "code",
   "execution_count": 37,
   "metadata": {},
   "outputs": [
    {
     "name": "stdout",
     "output_type": "stream",
     "text": [
      "40000.0\n",
      "42504995.44\n",
      "1062.6248859999998\n",
      "{'additional_properties': {}, 'as_at_date': datetime.datetime(2019, 3, 20, 16, 59, 23, 804301, tzinfo=<FixedOffset '+00:00'>), 'links': None}\n"
     ]
    }
   ],
   "source": [
    "base_fund_instrument = client.get_instrument(\n",
    "    identifier_type='ClientInternal',\n",
    "    identifier=base_portfolio_name,\n",
    "    instrument_property_keys=[circulation_property_key])\n",
    "\n",
    "luid = base_fund_instrument.lusid_instrument_id\n",
    "total_circulation = base_fund_instrument.properties[0].value\n",
    "print (total_circulation)\n",
    "print (total_value)\n",
    "price = total_value / total_circulation\n",
    "print (price)\n",
    "\n",
    "instrument_quote = models.UpsertQuoteRequest(\n",
    "    quote_id=models.QuoteId(\n",
    "        instrument_id=luid,\n",
    "        instrument_id_type='LusidInstrumentId',\n",
    "        quote_type='Price',\n",
    "        price_side='Mid'),\n",
    "    metric_value=models.MetricValue(\n",
    "        value=price,\n",
    "        unit='USD'),\n",
    "    quote_lineage=models.QuoteLineage(\n",
    "        data_vendor='Internal',\n",
    "        contributor='Internal_User'),\n",
    "    effective_at=holdings_effective_date\n",
    ")\n",
    "\n",
    "response = client.upsert_quotes(\n",
    "    scope=scope,\n",
    "    quotes=[instrument_quote])\n",
    "\n",
    "print (response)"
   ]
  },
  {
   "cell_type": "markdown",
   "metadata": {},
   "source": [
    "![Base-Fund-Price](img/multiplecurrencies-basefundprice.gif)"
   ]
  },
  {
   "cell_type": "markdown",
   "metadata": {},
   "source": [
    "## 8) Create Foreign Currency Portfolios"
   ]
  },
  {
   "cell_type": "code",
   "execution_count": 38,
   "metadata": {},
   "outputs": [
    {
     "ename": "ErrorResponseException",
     "evalue": "Could not create a portfolio with id UK_High_Growth_Equities_Fund_base_fund_AUD because it already exists in scope UK_High_Growth_Equities_Fund_d7dd.",
     "output_type": "error",
     "traceback": [
      "\u001b[0;31m---------------------------------------------------------------------------\u001b[0m",
      "\u001b[0;31mErrorResponseException\u001b[0m                    Traceback (most recent call last)",
      "\u001b[0;32m<ipython-input-38-e604588a0b7f>\u001b[0m in \u001b[0;36m<module>\u001b[0;34m()\u001b[0m\n\u001b[1;32m     16\u001b[0m     portfolio_response = client.create_portfolio(\n\u001b[1;32m     17\u001b[0m         \u001b[0mscope\u001b[0m\u001b[0;34m=\u001b[0m\u001b[0mscope\u001b[0m\u001b[0;34m,\u001b[0m\u001b[0;34m\u001b[0m\u001b[0m\n\u001b[0;32m---> 18\u001b[0;31m         create_request=transaction_portfolio_request)\n\u001b[0m\u001b[1;32m     19\u001b[0m \u001b[0;34m\u001b[0m\u001b[0m\n\u001b[1;32m     20\u001b[0m     \u001b[0;31m# Pretty print the response from LUSID\u001b[0m\u001b[0;34m\u001b[0m\u001b[0;34m\u001b[0m\u001b[0m\n",
      "\u001b[0;32m/opt/conda/lib/python3.6/site-packages/lusid/lusidapi.py\u001b[0m in \u001b[0;36mcreate_portfolio\u001b[0;34m(self, scope, create_request, custom_headers, raw, **operation_config)\u001b[0m\n\u001b[1;32m   6087\u001b[0m \u001b[0;34m\u001b[0m\u001b[0m\n\u001b[1;32m   6088\u001b[0m         \u001b[0;32mif\u001b[0m \u001b[0mresponse\u001b[0m\u001b[0;34m.\u001b[0m\u001b[0mstatus_code\u001b[0m \u001b[0;32mnot\u001b[0m \u001b[0;32min\u001b[0m \u001b[0;34m[\u001b[0m\u001b[0;36m201\u001b[0m\u001b[0;34m]\u001b[0m\u001b[0;34m:\u001b[0m\u001b[0;34m\u001b[0m\u001b[0m\n\u001b[0;32m-> 6089\u001b[0;31m             \u001b[0;32mraise\u001b[0m \u001b[0mmodels\u001b[0m\u001b[0;34m.\u001b[0m\u001b[0mErrorResponseException\u001b[0m\u001b[0;34m(\u001b[0m\u001b[0mself\u001b[0m\u001b[0;34m.\u001b[0m\u001b[0m_deserialize\u001b[0m\u001b[0;34m,\u001b[0m \u001b[0mresponse\u001b[0m\u001b[0;34m)\u001b[0m\u001b[0;34m\u001b[0m\u001b[0m\n\u001b[0m\u001b[1;32m   6090\u001b[0m \u001b[0;34m\u001b[0m\u001b[0m\n\u001b[1;32m   6091\u001b[0m         \u001b[0mdeserialized\u001b[0m \u001b[0;34m=\u001b[0m \u001b[0;32mNone\u001b[0m\u001b[0;34m\u001b[0m\u001b[0m\n",
      "\u001b[0;31mErrorResponseException\u001b[0m: Could not create a portfolio with id UK_High_Growth_Equities_Fund_base_fund_AUD because it already exists in scope UK_High_Growth_Equities_Fund_d7dd."
     ]
    }
   ],
   "source": [
    "fund_currencies = ['AUD', 'GBP', 'USD', 'EUR', 'JPY']\n",
    "\n",
    "for currency in fund_currencies:\n",
    "    \n",
    "    portfolio_name = '{}_{}'.format(base_portfolio_name, currency)\n",
    "    \n",
    "    # Create the request to add our portfolio\n",
    "    transaction_portfolio_request = models.CreateTransactionPortfolioRequest(\n",
    "        display_name=portfolio_name,\n",
    "        code=portfolio_name,\n",
    "        base_currency=currency,\n",
    "        description='The portfolio to hold our base fund in currency {}'.format(currency),\n",
    "        created=portfolio_creation_date)\n",
    "\n",
    "    # Call LUSID to create our portfolio\n",
    "    portfolio_response = client.create_portfolio(\n",
    "        scope=scope,\n",
    "        create_request=transaction_portfolio_request)\n",
    "\n",
    "    # Pretty print the response from LUSID\n",
    "    prettyprint.portfolio_response(portfolio_response)"
   ]
  },
  {
   "cell_type": "markdown",
   "metadata": {},
   "source": [
    "![Foreign-Currency-Portfolios](img/multiplecurrencies-foreigncurrencyportfolios.gif)"
   ]
  },
  {
   "cell_type": "markdown",
   "metadata": {},
   "source": [
    "## 9) Add Base Fund Units"
   ]
  },
  {
   "cell_type": "code",
   "execution_count": 26,
   "metadata": {},
   "outputs": [
    {
     "data": {
      "text/html": [
       "<div>\n",
       "<style scoped>\n",
       "    .dataframe tbody tr th:only-of-type {\n",
       "        vertical-align: middle;\n",
       "    }\n",
       "\n",
       "    .dataframe tbody tr th {\n",
       "        vertical-align: top;\n",
       "    }\n",
       "\n",
       "    .dataframe thead th {\n",
       "        text-align: right;\n",
       "    }\n",
       "</style>\n",
       "<table border=\"1\" class=\"dataframe\">\n",
       "  <thead>\n",
       "    <tr style=\"text-align: right;\">\n",
       "      <th></th>\n",
       "      <th>pair</th>\n",
       "      <th>rate</th>\n",
       "    </tr>\n",
       "  </thead>\n",
       "  <tbody>\n",
       "    <tr>\n",
       "      <th>0</th>\n",
       "      <td>GBP/USD</td>\n",
       "      <td>1.310</td>\n",
       "    </tr>\n",
       "    <tr>\n",
       "      <th>1</th>\n",
       "      <td>AUD/USD</td>\n",
       "      <td>0.720</td>\n",
       "    </tr>\n",
       "    <tr>\n",
       "      <th>2</th>\n",
       "      <td>EUR/USD</td>\n",
       "      <td>1.140</td>\n",
       "    </tr>\n",
       "    <tr>\n",
       "      <th>3</th>\n",
       "      <td>JPY/USD</td>\n",
       "      <td>0.009</td>\n",
       "    </tr>\n",
       "  </tbody>\n",
       "</table>\n",
       "</div>"
      ],
      "text/plain": [
       "      pair   rate\n",
       "0  GBP/USD  1.310\n",
       "1  AUD/USD  0.720\n",
       "2  EUR/USD  1.140\n",
       "3  JPY/USD  0.009"
      ]
     },
     "execution_count": 26,
     "metadata": {},
     "output_type": "execute_result"
    }
   ],
   "source": [
    "fx_rates = pd.read_csv('data/multiplecurrencies-fxrates.csv')\n",
    "fx_rates.head()"
   ]
  },
  {
   "cell_type": "code",
   "execution_count": 51,
   "metadata": {},
   "outputs": [
    {
     "name": "stdout",
     "output_type": "stream",
     "text": [
      "{'additional_properties': {}, 'as_at_date': datetime.datetime(2019, 3, 20, 17, 49, 22, 630480, tzinfo=<FixedOffset '+00:00'>), 'links': None}\n"
     ]
    }
   ],
   "source": [
    "quote_requests = []\n",
    "\n",
    "for index, fx_rate in fx_rates.iterrows():\n",
    "    if 'USD/USD' != fx_rate['pair']:\n",
    "        quote_requests.append(\n",
    "            models.UpsertQuoteRequest(\n",
    "                quote_id=models.QuoteId(\n",
    "                    instrument_id=fx_rate['pair'],\n",
    "                    instrument_id_type='CurrencyPair',\n",
    "                    quote_type='Rate',\n",
    "                    price_side='Mid'),\n",
    "                metric_value=models.MetricValue(\n",
    "                    value=fx_rate['rate'],\n",
    "                    unit='rate'),\n",
    "                quote_lineage=models.QuoteLineage(\n",
    "                    data_vendor='Internal',\n",
    "                    contributor='Internal_User'),\n",
    "                effective_at=holdings_effective_date))\n",
    "\n",
    "        reverse_pair = '/'.join(fx_rate['pair'].split('/')[::-1])\n",
    "\n",
    "        quote_requests.append(\n",
    "            models.UpsertQuoteRequest(\n",
    "                quote_id=models.QuoteId(\n",
    "                    instrument_id=reverse_pair,\n",
    "                    instrument_id_type='CurrencyPair',\n",
    "                    quote_type='Rate',\n",
    "                    price_side='Mid'),\n",
    "                metric_value=models.MetricValue(\n",
    "                    value=1/fx_rate['rate'],\n",
    "                    unit='rate'),\n",
    "                quote_lineage=models.QuoteLineage(\n",
    "                    data_vendor='internal',\n",
    "                    contributor='internal_user'),\n",
    "                effective_at=holdings_effective_date))\n",
    "    \n",
    "response = client.upsert_quotes(\n",
    "    scope=scope,\n",
    "    quotes=quote_requests)\n",
    "\n",
    "print (response)"
   ]
  },
  {
   "cell_type": "code",
   "execution_count": 28,
   "metadata": {},
   "outputs": [
    {
     "name": "stdout",
     "output_type": "stream",
     "text": [
      "\u001b[1mHoldings Successfully Set for Portfolio\u001b[0m\n",
      "\u001b[1mScope: \u001b[0mUK_High_Growth_Equities_Fund_d7dd\n",
      "\u001b[1mCode: \u001b[0mUK_High_Growth_Equities_Fund_base_fund_AUD\n",
      "\u001b[1mHoldings Effective From: \u001b[0m2019-03-13 16:35:25.824178+00:00\n",
      "\u001b[1mHoldings Created On: \u001b[0m2019-03-20 16:46:59.605018+00:00\n",
      "\n",
      "\u001b[1mHoldings Successfully Set for Portfolio\u001b[0m\n",
      "\u001b[1mScope: \u001b[0mUK_High_Growth_Equities_Fund_d7dd\n",
      "\u001b[1mCode: \u001b[0mUK_High_Growth_Equities_Fund_base_fund_GBP\n",
      "\u001b[1mHoldings Effective From: \u001b[0m2019-03-13 16:35:25.824178+00:00\n",
      "\u001b[1mHoldings Created On: \u001b[0m2019-03-20 16:47:00.971654+00:00\n",
      "\n",
      "\u001b[1mHoldings Successfully Set for Portfolio\u001b[0m\n",
      "\u001b[1mScope: \u001b[0mUK_High_Growth_Equities_Fund_d7dd\n",
      "\u001b[1mCode: \u001b[0mUK_High_Growth_Equities_Fund_base_fund_USD\n",
      "\u001b[1mHoldings Effective From: \u001b[0m2019-03-13 16:35:25.824178+00:00\n",
      "\u001b[1mHoldings Created On: \u001b[0m2019-03-20 16:47:01.623413+00:00\n",
      "\n",
      "\u001b[1mHoldings Successfully Set for Portfolio\u001b[0m\n",
      "\u001b[1mScope: \u001b[0mUK_High_Growth_Equities_Fund_d7dd\n",
      "\u001b[1mCode: \u001b[0mUK_High_Growth_Equities_Fund_base_fund_EUR\n",
      "\u001b[1mHoldings Effective From: \u001b[0m2019-03-13 16:35:25.824178+00:00\n",
      "\u001b[1mHoldings Created On: \u001b[0m2019-03-20 16:47:04.227875+00:00\n",
      "\n",
      "\u001b[1mHoldings Successfully Set for Portfolio\u001b[0m\n",
      "\u001b[1mScope: \u001b[0mUK_High_Growth_Equities_Fund_d7dd\n",
      "\u001b[1mCode: \u001b[0mUK_High_Growth_Equities_Fund_base_fund_JPY\n",
      "\u001b[1mHoldings Effective From: \u001b[0m2019-03-13 16:35:25.824178+00:00\n",
      "\u001b[1mHoldings Created On: \u001b[0m2019-03-20 16:47:05.189016+00:00\n",
      "\n"
     ]
    }
   ],
   "source": [
    "base_fund_units_per_portfolio = total_circulation/len(fund_currencies)\n",
    "total_cost_per_portfolio = total_cost/len(fund_currencies)\n",
    "\n",
    "for currency in fund_currencies:\n",
    "    \n",
    "    if currency!='USD':\n",
    "        fx_rate = client.get_quotes(\n",
    "            scope=scope,\n",
    "            quote_ids=[\n",
    "                models.QuoteId(\n",
    "                    instrument_id='{}/USD'.format(currency),\n",
    "                    instrument_id_type='CurrencyPair',\n",
    "                    quote_type='Rate',\n",
    "                    price_side='Mid')\n",
    "            ],\n",
    "            effective_at=holdings_effective_date,\n",
    "            as_at=None,\n",
    "            max_age=None,\n",
    "            page=None,\n",
    "            limit=None).found[0].metric_value.value\n",
    "    else:\n",
    "        fx_rate = 1\n",
    "    \n",
    "    holding_adjustments = []\n",
    "    holding_adjustments.append(\n",
    "        models.AdjustHoldingRequest(\n",
    "            instrument_identifiers={\n",
    "                    'Instrument/default/ClientInternal': base_portfolio_name},\n",
    "                tax_lots=[\n",
    "                    models.TargetTaxLotRequest(\n",
    "                        units=base_fund_units_per_portfolio,\n",
    "                        cost=models.CurrencyAndAmount(\n",
    "                            amount=total_cost_per_portfolio,\n",
    "                            currency='USD'),\n",
    "                        portfolio_cost=total_cost_per_portfolio/fx_rate, \n",
    "                        price=total_cost/total_circulation)\n",
    "                ]\n",
    "        )\n",
    "    )\n",
    "\n",
    "    # Call LUSID to set our holdings\n",
    "    response = client.set_holdings(\n",
    "        scope=scope,\n",
    "        code='{}_{}'.format(base_portfolio_name, currency),\n",
    "        effective_at=holdings_effective_date,\n",
    "        holding_adjustments=holding_adjustments)\n",
    "\n",
    "    prettyprint.set_holdings_response(response, scope, '{}_{}'.format(base_portfolio_name, currency))"
   ]
  },
  {
   "cell_type": "markdown",
   "metadata": {},
   "source": [
    "![Foreign-Currency-Portfolios](img/multiplecurrencies-foreigncurrencyportfoliosholdbase.gif)"
   ]
  },
  {
   "cell_type": "markdown",
   "metadata": {},
   "source": [
    "## 10) Add Hedging Transactions"
   ]
  },
  {
   "cell_type": "code",
   "execution_count": 31,
   "metadata": {},
   "outputs": [
    {
     "name": "stdout",
     "output_type": "stream",
     "text": [
      "\u001b[1mTransactions Successfully Upserted into Portfolio\u001b[0m\n",
      "\u001b[1mScope: \u001b[0mUK_High_Growth_Equities_Fund_d7dd\n",
      "\u001b[1mCode: \u001b[0mUK_High_Growth_Equities_Fund_base_fund_AUD\n",
      "\u001b[1mTransactions Effective From: \u001b[0m2019-03-13 16:35:25.824178+00:00\n",
      "\u001b[1mTransactions Created On: \u001b[0m2019-03-20 16:55:09.803414+00:00\n",
      "\n",
      "\u001b[1mTransactions Successfully Upserted into Portfolio\u001b[0m\n",
      "\u001b[1mScope: \u001b[0mUK_High_Growth_Equities_Fund_d7dd\n",
      "\u001b[1mCode: \u001b[0mUK_High_Growth_Equities_Fund_base_fund_GBP\n",
      "\u001b[1mTransactions Effective From: \u001b[0m2019-03-13 16:35:25.824178+00:00\n",
      "\u001b[1mTransactions Created On: \u001b[0m2019-03-20 16:55:10.566606+00:00\n",
      "\n",
      "\u001b[1mTransactions Successfully Upserted into Portfolio\u001b[0m\n",
      "\u001b[1mScope: \u001b[0mUK_High_Growth_Equities_Fund_d7dd\n",
      "\u001b[1mCode: \u001b[0mUK_High_Growth_Equities_Fund_base_fund_USD\n",
      "\u001b[1mTransactions Effective From: \u001b[0m2019-03-13 16:35:25.824178+00:00\n",
      "\u001b[1mTransactions Created On: \u001b[0m2019-03-20 16:55:11.158425+00:00\n",
      "\n",
      "\u001b[1mTransactions Successfully Upserted into Portfolio\u001b[0m\n",
      "\u001b[1mScope: \u001b[0mUK_High_Growth_Equities_Fund_d7dd\n",
      "\u001b[1mCode: \u001b[0mUK_High_Growth_Equities_Fund_base_fund_EUR\n",
      "\u001b[1mTransactions Effective From: \u001b[0m2019-03-13 16:35:25.824178+00:00\n",
      "\u001b[1mTransactions Created On: \u001b[0m2019-03-20 16:55:11.668681+00:00\n",
      "\n",
      "\u001b[1mTransactions Successfully Upserted into Portfolio\u001b[0m\n",
      "\u001b[1mScope: \u001b[0mUK_High_Growth_Equities_Fund_d7dd\n",
      "\u001b[1mCode: \u001b[0mUK_High_Growth_Equities_Fund_base_fund_JPY\n",
      "\u001b[1mTransactions Effective From: \u001b[0m2019-03-13 16:35:25.824178+00:00\n",
      "\u001b[1mTransactions Created On: \u001b[0m2019-03-20 16:55:12.628935+00:00\n",
      "\n"
     ]
    }
   ],
   "source": [
    "for currency in fund_currencies:\n",
    "    \n",
    "    if currency!='USD':\n",
    "        fx_rate = client.get_quotes(\n",
    "            scope=scope,\n",
    "            quote_ids=[\n",
    "                models.QuoteId(\n",
    "                    instrument_id='{}/USD'.format(currency),\n",
    "                    instrument_id_type='CurrencyPair',\n",
    "                    quote_type='Rate',\n",
    "                    price_side='Mid')\n",
    "            ],\n",
    "            effective_at=holdings_effective_date,\n",
    "            as_at=None,\n",
    "            max_age=None,\n",
    "            page=None,\n",
    "            limit=None).found[0].metric_value.value\n",
    "    else:\n",
    "        fx_rate = 1\n",
    "        \n",
    "    exchange_rate = models.PerpetualPropertyValue(\n",
    "        metric_value=models.MetricValue(\n",
    "            value=1/fx_rate,\n",
    "            unit='USD/{}'.format(currency)))\n",
    "        \n",
    "    hedge_transactions = []\n",
    "    \n",
    "    hedge_transactions.append(\n",
    "        models.TransactionRequest(\n",
    "            transaction_id='tid_'.format(uuid.uuid4()),\n",
    "            type='FwdFxSell',\n",
    "            instrument_identifiers={\n",
    "                'Instrument/default/Currency': 'USD'},\n",
    "            transaction_date=holdings_effective_date,\n",
    "            settlement_date=holdings_effective_date+timedelta(days=7),\n",
    "            units=round(total_cost_per_portfolio, 0),\n",
    "            transaction_price=models.TransactionPrice(\n",
    "                price=1,\n",
    "                type='Price'),\n",
    "            total_consideration=models.CurrencyAndAmount(\n",
    "                amount=round(total_cost_per_portfolio, 0) / fx_rate,\n",
    "                currency=currency),\n",
    "            exchange_rate=1/fx_rate,\n",
    "            transaction_currency='USD',\n",
    "            source='Client'\n",
    "          # properties={'Trade/default/TradeToPortfolioRate': exchange_rate}\n",
    "        ))\n",
    "    \n",
    "    response = client.upsert_transactions(\n",
    "        scope=scope,\n",
    "        code='{}_{}'.format(base_portfolio_name, currency),\n",
    "        transactions=hedge_transactions)\n",
    "            \n",
    "    prettyprint.transactions_response(\n",
    "        response, \n",
    "        scope, \n",
    "        '{}_{}'.format(base_portfolio_name, currency))"
   ]
  },
  {
   "cell_type": "markdown",
   "metadata": {},
   "source": [
    "## 11) Value Currency Portfolios"
   ]
  },
  {
   "cell_type": "code",
   "execution_count": 25,
   "metadata": {},
   "outputs": [
    {
     "data": {
      "text/plain": [
       "\"\\nprices = pd.read_csv('data/multiplecurrencies-prices2.csv')\\nprices.head()\\n\""
      ]
     },
     "execution_count": 25,
     "metadata": {},
     "output_type": "execute_result"
    }
   ],
   "source": [
    "'''\n",
    "prices = pd.read_csv('data/multiplecurrencies-prices2.csv')\n",
    "prices.head()\n",
    "'''"
   ]
  },
  {
   "cell_type": "code",
   "execution_count": 26,
   "metadata": {},
   "outputs": [
    {
     "data": {
      "text/plain": [
       "\"\\nquote_date = holdings_effective_date+timedelta(days=5)\\n\\ninstrument_quotes = []\\n\\nfor row, quote in prices.iterrows():\\n\\n    instrument_quotes.append(\\n        models.UpsertQuoteRequest(\\n            quote_id=models.QuoteId(\\n                instrument_id=quote['instrument_figi'],\\n                instrument_id_type='Figi',\\n                quote_type='Price',\\n                price_side='Mid'),\\n            metric_value=models.MetricValue(\\n                value=quote['price'],\\n                unit=quote['currency']),\\n            quote_lineage=models.QuoteLineage(\\n                data_vendor='Yahoo_Finance',\\n                contributor='Internal_User'),\\n            effective_at=quote_date\\n            )\\n    )\\n\\nresponse = client.upsert_quotes(\\n    scope=scope,\\n    quotes=instrument_quotes)\\n\\nprint (response)\\n\""
      ]
     },
     "execution_count": 26,
     "metadata": {},
     "output_type": "execute_result"
    }
   ],
   "source": [
    "'''\n",
    "quote_date = holdings_effective_date+timedelta(days=5)\n",
    "\n",
    "instrument_quotes = []\n",
    "\n",
    "for row, quote in prices.iterrows():\n",
    "\n",
    "    instrument_quotes.append(\n",
    "        models.UpsertQuoteRequest(\n",
    "            quote_id=models.QuoteId(\n",
    "                instrument_id=quote['instrument_figi'],\n",
    "                instrument_id_type='Figi',\n",
    "                quote_type='Price',\n",
    "                price_side='Mid'),\n",
    "            metric_value=models.MetricValue(\n",
    "                value=quote['price'],\n",
    "                unit=quote['currency']),\n",
    "            quote_lineage=models.QuoteLineage(\n",
    "                data_vendor='Yahoo_Finance',\n",
    "                contributor='Internal_User'),\n",
    "            effective_at=quote_date\n",
    "            )\n",
    "    )\n",
    "\n",
    "response = client.upsert_quotes(\n",
    "    scope=scope,\n",
    "    quotes=instrument_quotes)\n",
    "\n",
    "print (response)\n",
    "'''"
   ]
  },
  {
   "cell_type": "code",
   "execution_count": 52,
   "metadata": {},
   "outputs": [
    {
     "name": "stdout",
     "output_type": "stream",
     "text": [
      "[{'Sum(Holding/default/PV)': 11806943.177777776}]\n"
     ]
    }
   ],
   "source": [
    "aggregation_request = models.AggregationRequest(\n",
    "    inline_recipe=inline_recipe,\n",
    "        effective_at=quote_date,\n",
    "        metrics=[\n",
    "            models.AggregateSpec(key='Holding/default/PV',\n",
    "            op='sum'),\n",
    "            \n",
    "        ],\n",
    "        group_by=[\n",
    "            'Portfolio/default/Name'\n",
    "        ])\n",
    "\n",
    "response = client.get_aggregation_by_portfolio(\n",
    "    scope=scope,\n",
    "    code=base_portfolio_name+'_AUD',\n",
    "    request=aggregation_request)\n",
    "\n",
    "print (response.data)\n",
    "\n",
    "total_value = response.data[0]['Sum(Holding/default/PV)']"
   ]
  },
  {
   "cell_type": "code",
   "execution_count": null,
   "metadata": {},
   "outputs": [],
   "source": [
    "instrument_analytics = []\n",
    "\n",
    "base_fund_instrument = client.get_instrument(\n",
    "    identifier_type='ClientInternal',\n",
    "    identifier=base_portfolio_name,\n",
    "    instrument_property_keys=[circulation_property_key])\n",
    "\n",
    "luid = base_fund_instrument.lusid_instrument_id\n",
    "price = total_value / total_circulation\n",
    "\n",
    "print (price)\n",
    "\n",
    "instrument_analytics.append(\n",
    "    models.InstrumentAnalytic(\n",
    "        instrument_uid=luid,\n",
    "        value=price))\n",
    "\n",
    "response = client.set_analytics(\n",
    "        scope=scope,\n",
    "        year=quote_date.year,\n",
    "        month=quote_date.month,\n",
    "        day=quote_date.day,\n",
    "        data=instrument_analytics)\n",
    "\n",
    "#print (response.key)"
   ]
  },
  {
   "cell_type": "code",
   "execution_count": null,
   "metadata": {},
   "outputs": [],
   "source": [
    "interest_rates = pd.read_csv('data/multiplecurrencies-interestrates.csv')\n",
    "interest_rates.head()"
   ]
  },
  {
   "cell_type": "code",
   "execution_count": null,
   "metadata": {},
   "outputs": [],
   "source": [
    "fx_rates = pd.read_csv('data/multiplecurrencies-fxrates2.csv')\n",
    "fx_rates.head()"
   ]
  },
  {
   "cell_type": "code",
   "execution_count": null,
   "metadata": {},
   "outputs": [],
   "source": [
    "quote_requests = []\n",
    "\n",
    "for index, fx_rate in fx_rates.iterrows():\n",
    "    \n",
    "    quote_requests.append(\n",
    "        models.UpsertQuoteRequest(\n",
    "            quote_id=models.QuoteId(\n",
    "                instrument_id=fx_rate['pair'],\n",
    "                instrument_id_type='CurrencyPair',\n",
    "                quote_type='Rate',\n",
    "                price_side='Mid'),\n",
    "            metric_value=models.MetricValue(\n",
    "                value=fx_rate['rate'],\n",
    "                unit='rate'),\n",
    "            quote_lineage=models.QuoteLineage(\n",
    "                data_vendor='system',\n",
    "                contributor='default'),\n",
    "            effective_at=holdings_effective_date))\n",
    "    \n",
    "response = client.upsert_quotes(\n",
    "    scope=scope,\n",
    "    quotes=quote_requests)\n",
    "\n",
    "print (response)"
   ]
  },
  {
   "cell_type": "code",
   "execution_count": null,
   "metadata": {},
   "outputs": [],
   "source": [
    "fx_rates = {}\n",
    "\n",
    "for currency in fund_currencies:\n",
    "    if currency == 'USD':\n",
    "        fx_rates['USD'] = 1\n",
    "        continue\n",
    "        \n",
    "    response = client.get_quotes(\n",
    "        scope=scope,\n",
    "        quote_ids=[\n",
    "            models.QuoteId(\n",
    "                instrument_id='{}/USD'.format(currency),\n",
    "                instrument_id_type='CurrencyPair',\n",
    "                quote_type='Rate',\n",
    "                price_side='Mid')\n",
    "        ],\n",
    "        effective_at=holdings_effective_date,\n",
    "        as_at=None,\n",
    "        max_age=None,\n",
    "        page=None,\n",
    "        limit=None)\n",
    "    \n",
    "    fx_rates[currency] = response.found[0].metric_value.value\n",
    "\n",
    "print (fx_rates)"
   ]
  },
  {
   "cell_type": "code",
   "execution_count": null,
   "metadata": {},
   "outputs": [],
   "source": [
    "for currency in fund_currencies:\n",
    "    \n",
    "    response = client.get_transactions(\n",
    "        scope=scope,\n",
    "        code='{}_{}'.format(base_portfolio_name, currency),\n",
    "        from_transaction_date=holdings_effective_date,\n",
    "        to_transaction_date=quote_date,\n",
    "        as_at=None,\n",
    "        sort_by=None,\n",
    "        start=None,\n",
    "        limit=None,\n",
    "        instrument_property_keys=None,\n",
    "        filter=\"type eq 'FwdFxSell'\")\n",
    "    \n",
    "    if len(response.values) == 0:\n",
    "        continue\n",
    "        \n",
    "    hedge_transaction = response.values[0]\n",
    "    \n",
    "    print (hedge_transaction)\n",
    "    \n",
    "    spot_rate = 1/fx_rates[currency]\n",
    "    interest_rate_1 = interest_rates.loc[interest_rates['currency'] == 'USD', 'interest_rate'].values[0]\n",
    "    interest_rate_2 = interest_rates.loc[interest_rates['currency'] == currency, 'interest_rate'].values[0]\n",
    "    time = (hedge_transaction.settlement_date - quote_date).days / 365.2425\n",
    "    print ('Spot rate: ', spot_rate)\n",
    "    print ('IR 1: ', interest_rate_1)\n",
    "    print ('IR 2: ', interest_rate_2)\n",
    "    print ('Time: ', time)\n",
    "    \n",
    "    forward_price = spot_rate * math.exp((interest_rate_2 - interest_rate_1)*time)\n",
    "    print ('Forward Price: ', forward_price)\n",
    "    strike_price = hedge_transaction.exchange_rate\n",
    "    print ('Strike Price: ',  strike_price)\n",
    "    current_value = (forward_price - strike_price) * math.exp(-interest_rate_2*time)\n",
    "    print ('Current Value: ', current_value)\n",
    "    \n",
    "    "
   ]
  },
  {
   "cell_type": "code",
   "execution_count": null,
   "metadata": {},
   "outputs": [],
   "source": [
    "USDGBP_fx_forward_price = 1/fx_rates['GBP']*math.exp((interest_rates['GBP']-interest_rates['USD'])*"
   ]
  },
  {
   "cell_type": "markdown",
   "metadata": {},
   "source": [
    "## 12) Securitise Currency Portfolios"
   ]
  },
  {
   "cell_type": "markdown",
   "metadata": {},
   "source": [
    "## 13) Create Share Class Portfolios"
   ]
  },
  {
   "cell_type": "markdown",
   "metadata": {},
   "source": [
    "## 15) Add Currency Fund Holdings"
   ]
  },
  {
   "cell_type": "markdown",
   "metadata": {},
   "source": [
    "## 16) Value Each Share Class"
   ]
  },
  {
   "cell_type": "markdown",
   "metadata": {},
   "source": [
    "## 17) Add transactions to end portfolio"
   ]
  },
  {
   "cell_type": "markdown",
   "metadata": {},
   "source": [
    "## 18) Value each portfolio (bubble up)"
   ]
  }
 ],
 "metadata": {
  "kernelspec": {
   "display_name": "Python 3",
   "language": "python",
   "name": "python3"
  },
  "language_info": {
   "codemirror_mode": {
    "name": "ipython",
    "version": 3
   },
   "file_extension": ".py",
   "mimetype": "text/x-python",
   "name": "python",
   "nbconvert_exporter": "python",
   "pygments_lexer": "ipython3",
   "version": "3.6.6"
  }
 },
 "nbformat": 4,
 "nbformat_minor": 2
}
