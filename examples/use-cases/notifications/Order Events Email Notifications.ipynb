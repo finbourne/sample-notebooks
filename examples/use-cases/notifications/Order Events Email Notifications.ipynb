{
 "cells": [
  {
   "cell_type": "code",
   "execution_count": null,
   "metadata": {},
   "outputs": [],
   "source": [
    "from lusidtools.jupyter_tools import toggle_code\n",
    "\n",
    "\"\"\"Send email notifications for order events\n",
    "\n",
    "Attributes\n",
    "----------\n",
    "subscriptions\n",
    "events\n",
    "notifications\n",
    "\"\"\"\n",
    "\n",
    "toggle_code(\"Toggle Docstring\")"
   ]
  },
  {
   "cell_type": "markdown",
   "metadata": {},
   "source": [
    "## Introduction\n",
    "This notebook was written to be used with the python SDK V2, so please ensure you have installed lusid-notifications-sdk and not lusid-notifications-sdk-preview, otherwise the authentication methods used in this notebook will not work.\n",
    "\n",
    "### Description\n",
    "This notebook demonstrates how to setup an **email notification** with an html body which includes **more information** than you initially receive from the **event body** of interest, as follows:\n",
    "- Subscribe to the event of interest (i.e. OrderCreated)\n",
    "- Create a webhook notification which will trigger a luminesce query\n",
    "    - The luminesce query will get more information about your event of interest\n",
    "    - The luminesce query will then trigger a manual event containing all of this data\n",
    "- Create a subscription to the manual event\n",
    "- Create an email notification triggered by the manual event subscription\n",
    "\n",
    "### Set-up\n",
    "This notebook uses a view, which accesses properties, set these up as follows:\n",
    "- Create the properties (you can do this in many ways, see https://support.lusid.com/knowledgebase/article/KA-01856/en-us)\n",
    "- Add the properties to the luminesce catalogue by running \"AddPropertyToCatalogue.sql\" in the query editor\n",
    "- Create the view by running \"CreateManualEventWriter-View.sql\" from the query editor\n",
    "- You will need to edit and re-run these files if you would like to add more properties\n",
    "\n",
    "You will need to make changes to the \"Variables Setup\" section if you wish to change:\n",
    "- The event triggering the email to be sent\n",
    "- The data to be included in the email body\n",
    "- The number of rows to be included in the html table in the email body\n",
    "If you would like to access information that is not already included in the manual event you will also need to edit the \"CreateManualEventWriter-View.sql\" and \"CreateManualEvent.sql\" files to include the necessary columns, and then delete and remake the view. Information on views (including how to delete one) can be found here: https://support.lusid.com/knowledgebase/article/KA-01767/"
   ]
  },
  {
   "cell_type": "markdown",
   "metadata": {},
   "source": [
    "## Setup"
   ]
  },
  {
   "cell_type": "code",
   "execution_count": null,
   "metadata": {},
   "outputs": [],
   "source": [
    "# This is to allow us to use the same package versions every time we run this notebook\n",
    "# The '!' tells the python interpreter to run this line as a shell command\n",
    "! pip install -r \"HelperFiles/requirements.txt\""
   ]
  },
  {
   "cell_type": "code",
   "execution_count": null,
   "metadata": {},
   "outputs": [],
   "source": [
    "# Import generic non-LUSID packages\n",
    "import os\n",
    "import pandas as pd\n",
    "import pprint\n",
    "import json\n",
    "from IPython.core.display import HTML\n",
    "\n",
    "# Import key modules from the LUSID package\n",
    "import lusid_notifications.models as models\n",
    "import lusid_notifications\n",
    "\n",
    "# Import key functions from helper packages\n",
    "from lusid_notifications import (\n",
    "    SyncApiClientFactory,\n",
    "    EnvironmentVariablesConfigurationLoader,\n",
    "    SecretsFileConfigurationLoader,\n",
    "    ArgsConfigurationLoader\n",
    ")\n",
    "from lusidjam import RefreshingToken\n",
    "\n",
    "# Set DataFrame display formats\n",
    "pd.set_option(\"display.max_columns\", None)\n",
    "pd.set_option(\"display.max_rows\", None)\n",
    "pd.options.display.float_format = \"${:,.2f}\".format\n",
    "display(HTML(\"<style>.container { width:90% !important; }</style>\"))\n",
    "\n",
    "# Authenticate user and create API client\n",
    "secrets_path = os.getenv('FBN_SECRETS_PATH')\n",
    "app_name = os.getenv('FBN_APP_NAME')\n",
    "# lusid_domain = \"fbn-xxx\"\n",
    "# api_url = f\"https://{lusid_domain}.lusid.com/notification\"\n",
    "api_url = os.getenv('FBN_NOTIFICATIONS_API_URL')\n",
    "\n",
    "config_loaders = [\n",
    "\tEnvironmentVariablesConfigurationLoader(),\n",
    "\tSecretsFileConfigurationLoader(api_secrets_file=secrets_path),\n",
    "    ArgsConfigurationLoader(access_token = RefreshingToken(), api_url=api_url, app_name = app_name)\n",
    "]\n",
    "api_client_factory = SyncApiClientFactory(config_loaders=config_loaders)"
   ]
  },
  {
   "cell_type": "code",
   "execution_count": null,
   "metadata": {},
   "outputs": [],
   "source": [
    "# Setup apis to be used in this notebook\n",
    "subscriptions_api = api_client_factory.build(lusid_notifications.SubscriptionsApi)\n",
    "notifications_api = api_client_factory.build(lusid_notifications.NotificationsApi)\n",
    "event_types_api = api_client_factory.build(lusid_notifications.EventTypesApi)"
   ]
  },
  {
   "cell_type": "markdown",
   "metadata": {},
   "source": [
    "### Variables Setup"
   ]
  },
  {
   "cell_type": "code",
   "execution_count": null,
   "metadata": {},
   "outputs": [],
   "source": [
    "# Set the scope for your subscription and notification\n",
    "scope = \"FinbourneUniversity\"\n",
    "\n",
    "# Set the event code, subscription code and description for the subscription\n",
    "event_code = \"Manual\"\n",
    "subscription_code = \"ManualEventSubscription\"\n",
    "subscription_filter = \"body.Subject eq 'AdditionalInfoEvent'\"\n",
    "event_code_webhook = \"OrderCreated\"\n",
    "subscription_code_webhook = \"OrderCreatedSubscription\"\n",
    "subscription_desc = \"An order has been created in Lusid.\"\n",
    "\n",
    "# Set the ID, display name, and description for the notifications\n",
    "notification_id = \"OrderCreatedNotification\"\n",
    "notification_id_webhook = \"OrderCreatedNotification_Webhook\"\n",
    "notification_description = \"Order Creation Email Notification\"\n",
    "notification_description_webhook = \"Order Creation Webhook Notification\"\n",
    "\n",
    "# Provide a subject, body, and addressees for your email\n",
    "email_subject = \"Order has been created in Lusid.\"\n",
    "email_addresses = [\"john.smith@finbourne.com\",\"jane.doe@finbourne.com\"] # Include 1+ emails in this list\n",
    "\n",
    "# Paths to load the html email templates from\n",
    "html_file_path = \"HelperFiles/EmailTemplate.html\"\n",
    "html_file_path_2 = \"HelperFiles/ExtraTableRows.html\"\n",
    "\n",
    "# Provide titles and descriptions to be included in the contents of your email\n",
    "# An image of the rendered html tempate for one row of data can be found below\n",
    "# You may choose the number of rows you would like to see in your email, but you must make sure\n",
    "# that the number of subtitles and descriptions you provide matches the \"num_rows_html_body\" variable\n",
    "\n",
    "num_rows_html_body = 4\n",
    "email_title = \"New Order!\"\n",
    "email_description = \"A new order has been created.\"\n",
    "\n",
    "subtitle1 = \"Submitted By\"\n",
    "description1 = \"{{Body.jsonMessage.FirstName}} {{Body.jsonMessage.LastName}}\"\n",
    "subtitle2 = \"Timestamp\"\n",
    "description2 = \"{{header.timestamp}}\"\n",
    "subtitle3 = \"Order ID\"\n",
    "description3 = \"{{Body.jsonMessage.OrderCode}}\"\n",
    "subtitle1_row_2 = \"Order Scope\"\n",
    "description1_row_2 = \"{{Body.jsonMessage.OrderScope}}\"\n",
    "subtitle2_row_2 = \"Portfolio Name\"\n",
    "description2_row_2 = \"{{Body.jsonMessage.PortfolioCode}}\"\n",
    "subtitle3_row_2 = \"Instrument Name\"\n",
    "description3_row_2 = \"{{Body.jsonMessage.ClientInternal}}\"\n",
    "subtitle1_row_3 = \"Isin\"\n",
    "description1_row_3 = \"{{Body.jsonMessage.Isin}}\"\n",
    "subtitle2_row_3 = \"Order Quantity\"\n",
    "description2_row_3 = \"{{Body.jsonMessage.Quantity}}\"\n",
    "subtitle3_row_3 = \"Order Side\"\n",
    "description3_row_3 = \"{{Body.jsonMessage.Side}}\"\n",
    "subtitle1_row_4 = \"Order Type\"\n",
    "description1_row_4 = \"{{Body.jsonMessage.Type}}\"\n",
    "subtitle2_row_4 = \"Limit Price\"\n",
    "description2_row_4 = \"{{Body.jsonMessage.LimitPrice}}\"\n",
    "subtitle3_row_4 = \"Exposure Percentage\"\n",
    "description3_row_4 = \"{{Body.jsonMessage.ExposurePercentage}}\"\n",
    "\n",
    "# A button labelled with \"Review Now\" will be included in the email (see below image)\n",
    "# Set a URL that this button will direct the user to\n",
    "button_url = f\"https://{lusid_domain}.lusid.com/app/dashboard/order-management/orders\"\n",
    "\n",
    "# Do not edit this dictionary, this is used to generate extra rows of html\n",
    "html_variables_dict_extra_rows = {\n",
    "    \"subtitle1\": subtitle1,\n",
    "    \"subtitle2\": subtitle2,\n",
    "    \"subtitle3\": subtitle3,\n",
    "    \"description1\": description1,\n",
    "    \"description2\": description2,\n",
    "    \"description3\": description3,\n",
    "}\n",
    "\n",
    "# Please add or remove rows to this dictionary depending on how many rows\n",
    "# of data you would like to include in your email body\n",
    "html_variables_dict = {\n",
    "    \"email_title\": email_title,\n",
    "    \"email_description\": email_description,\n",
    "    \"button_url\": button_url,\n",
    "    \"subtitle1_row_2\": subtitle1_row_2,\n",
    "    \"subtitle2_row_2\": subtitle2_row_2,\n",
    "    \"subtitle3_row_2\": subtitle3_row_2,\n",
    "    \"description1_row_2\": description1_row_2,\n",
    "    \"description2_row_2\": description2_row_2,\n",
    "    \"description3_row_2\": description3_row_2,\n",
    "    \"subtitle1_row_3\": subtitle1_row_3,\n",
    "    \"subtitle2_row_3\": subtitle2_row_3,\n",
    "    \"subtitle3_row_3\": subtitle3_row_3,\n",
    "    \"description1_row_3\": description1_row_3,\n",
    "    \"description2_row_3\": description2_row_3,\n",
    "    \"description3_row_3\": description3_row_3,\n",
    "    \"subtitle1_row_4\": subtitle1_row_4,\n",
    "    \"subtitle2_row_4\": subtitle2_row_4,\n",
    "    \"subtitle3_row_4\": subtitle3_row_4,\n",
    "    \"description1_row_4\": description1_row_4,\n",
    "    \"description2_row_4\": description2_row_4,\n",
    "    \"description3_row_4\": description3_row_4,\n",
    "}\n",
    "\n",
    "html_variables_dict.update(html_variables_dict_extra_rows)"
   ]
  },
  {
   "attachments": {
    "image.png": {
     "image/png": "[encoded data removed]"
    }
   },
   "cell_type": "markdown",
   "metadata": {},
   "source": [
    "### Rendered HTML template:\n",
    "\n",
    "![image.png](attachment:image.png)"
   ]
  },
  {
   "cell_type": "markdown",
   "metadata": {},
   "source": [
    "### Load html file\n",
    "\n",
    "This cell will load the html templates from file and populate title and description placeholders in the template with the values that you provided above. This will be used to format the body of the email."
   ]
  },
  {
   "cell_type": "code",
   "execution_count": null,
   "metadata": {},
   "outputs": [],
   "source": [
    "def open_html_file(file_path):\n",
    "    with open(file_path, 'r') as file:\n",
    "        return file.read()\n",
    "\n",
    "html_email_body = open_html_file(html_file_path)\n",
    "\n",
    "# The below are required because using str.format() or an f string is problematic because there are so many {} used throughout the html which are not variables that we want to replace\n",
    "def replace_variable_in_string_1(string,var_name,var_value):\n",
    "    return string.replace(\"{{\"+var_name+\"}}\",var_value)\n",
    "\n",
    "def replace_variable_in_string_2(string,var_name,var_value):\n",
    "    return string.replace(\"{{\"+var_name+\"}}\",\"{{\"+var_value+\"}}\")\n",
    "\n",
    "# Insert more rows of data into the html template according to \"num_rows_html_body\"\n",
    "if num_rows_html_body > 1:\n",
    "    html_email_supplement = open_html_file(html_file_path_2)\n",
    "    html_email_supplement_final = \"\"\n",
    "    for i in range(num_rows_html_body - 1):\n",
    "        html_email_supplement_n = html_email_supplement\n",
    "        for name,value in html_variables_dict_extra_rows.items():\n",
    "            replace_with = name + \"_row_\" + str(i+2)\n",
    "            html_email_supplement_n = replace_variable_in_string_2(html_email_supplement_n,name,replace_with)\n",
    "        html_email_supplement_final = html_email_supplement_final + \"\\n\" + html_email_supplement_n\n",
    "    html_final_email_body = replace_variable_in_string_1(html_email_body,\"Extra_Rows\",html_email_supplement_final)\n",
    "\n",
    "for name,value in html_variables_dict.items():\n",
    "    html_final_email_body = replace_variable_in_string_1(html_final_email_body,name,value)"
   ]
  },
  {
   "cell_type": "markdown",
   "metadata": {},
   "source": [
    "## Notifications"
   ]
  },
  {
   "cell_type": "markdown",
   "metadata": {},
   "source": [
    "### Subscribe to the event of interest\n",
    "\n",
    "This cell will create a subscription to the event type specified by your 'event_code_webhook' variable.\n",
    "For this sample notebook if you do not change any of the variables above this will subscribe to the \"OrderCreated\" event which is automatically created in Lusid whenever an order is created.\n",
    "\n",
    "This subscription does not have a filter, so if you would like to only subscribe to a subset of the selected event_type (i.e. if you change event_type to \"OrderUpdated\" and only want notifications when the quantity is changed, but not for any other updates to the order, you will need to add a filter into the matching pattern.) Documentation on this can be found here: https://support.lusid.com/knowledgebase/article/KA-01819/"
   ]
  },
  {
   "cell_type": "code",
   "execution_count": null,
   "metadata": {},
   "outputs": [],
   "source": [
    "create_subscription_request_webhook = models.CreateSubscription(\n",
    "    id=models.ResourceId(\n",
    "        scope=scope,\n",
    "        code=subscription_code_webhook\n",
    "    ),\n",
    "    display_name=subscription_code_webhook,\n",
    "    description=subscription_desc,\n",
    "    status=\"Active\",\n",
    "    matching_pattern=models.MatchingPattern(\n",
    "        event_type=event_code_webhook\n",
    "    ),\n",
    ")\n",
    "\n",
    "try:\n",
    "    subscription_api_response = subscriptions_api.create_subscription(create_subscription_request_webhook)\n",
    "    print(\"The response of SubscriptionsApi->:\\n\")\n",
    "    print(subscription_api_response)\n",
    "except Exception as e:\n",
    "    print(f\"Exception when calling SubscriptionsApi->:\\n {e}\")"
   ]
  },
  {
   "cell_type": "markdown",
   "metadata": {},
   "source": [
    "### Create a webhook notification which triggers a luminesce query\n",
    "\n",
    "This cell will create a webhook notification on top of the subscription created above, which will trigger a luminesce query whenever the specified event type occurs. The luminesce query will run the code contained in \"CreateManualEvent.sql\"\n",
    "\n",
    "For this sample notebook, if you do not change any of the variables above or edit the sql files, the luminesce query will trigger a manual event in Lusid, which contains more information about the order than the original \"OrderCreated\" event. The notification we created earlier in this notebook will then send an email based on a subscription to the manual event.\n",
    "\n",
    "The advantage of this method over simply triggering an email directly from the original \"OrderCreated\" event is that it allows us to access more information about the order than is supplied in the \"OrderCreated\" event body, which allows us to include more detailed information in the email.\n",
    "\n",
    "If you would like to change the information contained in the manual event you will need to edit the sql file, and subsequently edit the \"Variables Setup\" section to then get this information into your email notification."
   ]
  },
  {
   "cell_type": "code",
   "execution_count": null,
   "metadata": {},
   "outputs": [],
   "source": [
    "def create_lumi_webhook_notification(\n",
    "        notifications_api,\n",
    "        scope: str,\n",
    "        code: str,\n",
    "        sql: str,\n",
    "        sub_code: str,\n",
    "):\n",
    "\n",
    "    notification_request = {\n",
    "          \"notificationId\": code,\n",
    "          \"displayName\": code,\n",
    "          \"description\": notification_description_webhook,\n",
    "          \"notificationType\": {\n",
    "              \"content\": sql,\n",
    "              \"type\": \"Webhook\",\n",
    "              \"httpMethod\": \"Put\",\n",
    "              \"url\": \"/honeycomb/api/sql/json\",\n",
    "              \"authenticationType\": \"Lusid\",\n",
    "              \"contentType\": \"PlainText\"\n",
    "          }}\n",
    "    \n",
    "    notification_definition = models.CreateNotificationRequest.from_dict(\n",
    "        notification_request\n",
    "    )\n",
    "\n",
    "    # Call LUSID API and log response detail if exception occurs.\n",
    "    try:\n",
    "        \n",
    "        api_response = notifications_api.create_notification(\n",
    "            scope=scope,\n",
    "            code=sub_code,\n",
    "            create_notification_request=notification_definition,\n",
    "        )\n",
    "        print(\"Notification created successfully.\")\n",
    "    except ValueError as ve:\n",
    "        raise (ve)\n",
    "    except lusid_notifications.ApiException as e:\n",
    "        try:\n",
    "            error_body = json.loads(e.body)\n",
    "            if error_body['name'] == 'NotificationAlreadyExists':\n",
    "                print('Notification already exists')\n",
    "            else:\n",
    "                raise (e)\n",
    "        except Exception as next_e:\n",
    "            raise (next_e)\n",
    "        \n",
    "def get_text_for_sql_query():\n",
    "    f = open(\n",
    "        \"HelperFiles/CreateManualEvent.sql\", \"r\")\n",
    "    res = f.read()\n",
    "    f.close()\n",
    "    return res\n",
    "\n",
    "sql = (get_text_for_sql_query()).replace('\"',\"'\").replace(\"\\n\",\" \")\n",
    "\n",
    "# create luminesce webhook notification\n",
    "create_lumi_webhook_notification(\n",
    "    notifications_api,\n",
    "    scope=scope,\n",
    "    code=notification_id_webhook,\n",
    "    sql=sql,\n",
    "    sub_code = subscription_code_webhook\n",
    ")"
   ]
  },
  {
   "cell_type": "markdown",
   "metadata": {},
   "source": [
    "### Subscribe to the manual event\n",
    "\n",
    "This cell will create a subscription to the event type specified by your 'subscription_code' variable.\n",
    "\n",
    "For this sample notebook if you do not change any of the variables above this will subscribe to the manual event created by the webhook notification above."
   ]
  },
  {
   "cell_type": "code",
   "execution_count": null,
   "metadata": {},
   "outputs": [],
   "source": [
    "create_subscription_request = models.CreateSubscription(\n",
    "    id=models.ResourceId(\n",
    "        scope=scope,\n",
    "        code=subscription_code\n",
    "    ),\n",
    "    display_name=subscription_code,\n",
    "    description=subscription_desc,\n",
    "    status=\"Active\",\n",
    "    matching_pattern=models.MatchingPattern(\n",
    "        event_type=event_code,\n",
    "        filter=subscription_filter\n",
    "    ),\n",
    ")\n",
    "\n",
    "try:\n",
    "    subscription_api_response = subscriptions_api.create_subscription(create_subscription_request)\n",
    "    print(\"The response of SubscriptionsApi->:\\n\")\n",
    "    print(subscription_api_response)\n",
    "except Exception as e:\n",
    "    print(f\"Exception when calling SubscriptionsApi->:\\n {e}\")"
   ]
  },
  {
   "cell_type": "markdown",
   "metadata": {},
   "source": [
    "### Create an email notification\n",
    "\n",
    "This cell will create an email notification on top of the manual event subscription created above, which will send an email to all specified users when this event occurs."
   ]
  },
  {
   "cell_type": "code",
   "execution_count": null,
   "metadata": {},
   "outputs": [],
   "source": [
    "notification_request = {\n",
    "    \"notificationId\": notification_id,\n",
    "    \"displayName\": notification_id,\n",
    "    \"description\": notification_description,\n",
    "    \"notificationType\": {\n",
    "        \"type\": \"Email\",\n",
    "        \"subject\": email_subject,\n",
    "        \"plainTextBody\": \"Email Body\",\n",
    "        \"htmlBody\": html_final_email_body,\n",
    "        \"emailAddressTo\": email_addresses,\n",
    "        \"emailAddressCc\": [],\n",
    "        \"emailAddressBcc\": []\n",
    "        }}\n",
    "\n",
    "create_notification_request = models.CreateNotificationRequest.from_dict(notification_request)\n",
    "\n",
    "# Send the request to lusid to create the email notification\n",
    "try:\n",
    "    notification_api_response = notifications_api.create_notification(scope, subscription_code, create_notification_request)\n",
    "    print(\"The response of NotificationsApi->:\\n\")\n",
    "    print(notification_api_response)\n",
    "except Exception as e:\n",
    "    print(f\"Exception when calling NotificationsApi->:\\n {e}\")"
   ]
  },
  {
   "cell_type": "markdown",
   "metadata": {},
   "source": [
    "### (Optional) Delete the notifications & subscriptions\n",
    "\n",
    "This is useful if you have made any mistakes and need to start again, or if you are running tests.\n",
    "\n",
    "Delete the email notification."
   ]
  },
  {
   "cell_type": "code",
   "execution_count": null,
   "metadata": {},
   "outputs": [],
   "source": [
    "try:\n",
    "    delete_notifications_response = notifications_api.delete_notification(scope,subscription_code,notification_id)\n",
    "except Exception as e:\n",
    "    print(f\"Deletion of {notification_id} has failed: {e}\")"
   ]
  },
  {
   "cell_type": "markdown",
   "metadata": {},
   "source": [
    "Delete the webhook notification."
   ]
  },
  {
   "cell_type": "code",
   "execution_count": null,
   "metadata": {},
   "outputs": [],
   "source": [
    "try:\n",
    "    delete_notifications_response = notifications_api.delete_notification(scope,subscription_code_webhook,notification_id_webhook)\n",
    "except Exception as e:\n",
    "    print(f\"Deletion of {notification_id_webhook} has failed: {e}\")"
   ]
  },
  {
   "cell_type": "markdown",
   "metadata": {},
   "source": [
    "Delete the \"OrderCreated\" event subscription."
   ]
  },
  {
   "cell_type": "code",
   "execution_count": null,
   "metadata": {},
   "outputs": [],
   "source": [
    "try:\n",
    "    delete_subscription_response = subscriptions_api.delete_subscription(scope,subscription_code)\n",
    "except Exception as e:\n",
    "    print(f\"Deletion of {subscription_code} has failed: {e}\")"
   ]
  },
  {
   "cell_type": "markdown",
   "metadata": {},
   "source": [
    "Delete the \"Manual\" event subscription."
   ]
  },
  {
   "cell_type": "code",
   "execution_count": null,
   "metadata": {},
   "outputs": [],
   "source": [
    "try:\n",
    "    delete_subscription_response = subscriptions_api.delete_subscription(scope,subscription_code_webhook)\n",
    "except Exception as e:\n",
    "    print(f\"Deletion of {subscription_code_webhook} has failed: {e}\")"
   ]
  },
  {
   "cell_type": "code",
   "execution_count": null,
   "metadata": {},
   "outputs": [],
   "source": []
  }
 ],
 "metadata": {
  "kernelspec": {
   "display_name": "venv",
   "language": "python",
   "name": "python3"
  },
  "language_info": {
   "codemirror_mode": {
    "name": "ipython",
    "version": 3
   },
   "file_extension": ".py",
   "mimetype": "text/x-python",
   "name": "python",
   "nbconvert_exporter": "python",
   "pygments_lexer": "ipython3",
   "version": "3.12.4"
  }
 },
 "nbformat": 4,
 "nbformat_minor": 2
}
