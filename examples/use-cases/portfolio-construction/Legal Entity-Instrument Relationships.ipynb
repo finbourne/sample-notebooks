{
 "cells": [
  {
   "cell_type": "code",
   "execution_count": 1,
   "id": "fc2ee1b0",
   "metadata": {},
   "outputs": [],
   "source": [
    "from lusidtools.jupyter_tools import toggle_code\n",
    "\n",
    "\"\"\"Creating Legal Entities and Instrument Relationships\n",
    "\n",
    "This notebook demonstrates how you can create legal entities with multiple identifiers from different sources and utilise legal entity-instruments relationships to filter a universe of instruments based on the properties attached to the legal entities.\n",
    "\n",
    "Attributes\n",
    "----------\n",
    "legal entities\n",
    "relationships\n",
    "\"\"\"\n",
    "\n",
    "toggle_code(\"Toggle Docstring\")"
   ]
  },
  {
   "cell_type": "markdown",
   "id": "72147e70",
   "metadata": {},
   "source": [
    "# Creating Legal Entities and Instrument Relationships\n",
    "This notebook demonstrates that with LUSID, you can collate information from various sources onto one legal entity and use that collection of data to inform your decisions for creating an investable universe of instruments. We will:\n",
    "\n",
    " - Add multiple identifiers from different sources to one legal entity (LE) by merging multiple legal entity data sources.\n",
    " - Enrich legal entities with 2 different sources of Diversity, Equity and Inclusion data\n",
    " - Link instruments to their legal entities using legal entity-instrument relationships\n",
    " - Use instrument identifers to query properties on legal entities via the LE-instrument relationships created\n",
    " - Create a universe of instruments filtered by the DEI data stored as properties on the instruments' legal entities"
   ]
  },
  {
   "cell_type": "code",
   "execution_count": 2,
   "id": "b0ea6b85",
   "metadata": {
    "scrolled": true
   },
   "outputs": [],
   "source": [
    "import os\n",
    "import pandas as pd\n",
    "import datetime\n",
    "import json\n",
    "import pytz\n",
    "from datetime import datetime\n",
    "from IPython.core.display import HTML\n",
    "\n",
    "# Then import the key modules from the LUSID package (i.e. The LUSID SDK)\n",
    "import lusid as lu\n",
    "import lusid.api as la\n",
    "import lusid.models as lm\n",
    "import logging\n",
    "logging.basicConfig(level=logging.INFO)\n",
    "\n",
    "from lusidtools import cocoon as lpt\n",
    "import fbnsdkutilities.utilities as utils\n",
    "\n",
    "# And use absolute imports to import key functions from Lusid-Python-Tools and other helper package\n",
    "\n",
    "from lusidjam import RefreshingToken\n",
    "from lusidtools.cocoon.cocoon import load_from_data_frame\n",
    "from lusidtools.pandas_utils.lusid_pandas import lusid_response_to_data_frame\n",
    "from lusidtools.jupyter_tools import StopExecution\n",
    "from lusidtools.cocoon.cocoon_printer import (\n",
    "    format_instruments_response,\n",
    "    format_portfolios_response,\n",
    "    format_transactions_response,\n",
    "    format_quotes_response,\n",
    ")\n",
    "\n",
    "# Set DataFrame display formats\n",
    "pd.set_option(\"display.max_columns\", None)\n",
    "pd.set_option(\"display.max_rows\", None)\n",
    "display(HTML(\"<style>.container { width:90% !important; }</style>\"))\n",
    "\n",
    "# Authenticate our user and create our API client\n",
    "secrets_path=os.getenv(\"FBN_SECRETS_PATH\")\n",
    "\n",
    "if secrets_path is None:\n",
    "    secrets_path=os.path.join(os.path.dirname(os.getcwd()), \"secrets.json\")\n",
    "\n",
    "api_factory = utils.ApiClientFactory(\n",
    "    lu,\n",
    "    token=RefreshingToken(),\n",
    "    api_secrets_filename=secrets_path,\n",
    "    app_name=\"LusidJupyterNotebook\",\n",
    ")\n",
    "\n",
    "api_status=pd.DataFrame(\n",
    "    api_factory.build(lu.ApplicationMetadataApi).get_lusid_versions().to_dict()\n",
    ")\n",
    "\n",
    "display(api_status)"
   ]
  },
  {
   "cell_type": "code",
   "execution_count": 3,
   "id": "31735c59",
   "metadata": {},
   "outputs": [],
   "source": [
    "relationship_definitions_api = api_factory.build(lu.RelationshipDefinitionsApi)\n",
    "relationships_api = api_factory.build(lu.RelationshipsApi)\n",
    "property_definitions_api = api_factory.build(lu.PropertyDefinitionsApi)\n",
    "legal_entities_api = api_factory.build(lu.LegalEntitiesApi)\n",
    "instruments_api = api_factory.build(lu.InstrumentsApi)\n",
    "search_api = api_factory.build(lu.SearchApi)"
   ]
  },
  {
   "cell_type": "code",
   "execution_count": 4,
   "id": "b01e62a3",
   "metadata": {},
   "outputs": [],
   "source": [
    "id_scope = \"default\"\n",
    "dei_id_scope = 'deiId'\n",
    "inst_scope = \"esgDemoInsts\"\n",
    "dei_scopeA = \"deiDataSourceA\"\n",
    "dei_scopeB = \"deiDataSourceB\""
   ]
  },
  {
   "cell_type": "markdown",
   "id": "a9311e9a",
   "metadata": {},
   "source": [
    "### Load a DataFrame of Legal Entity Identifiers (LEIs) for UK equities."
   ]
  },
  {
   "cell_type": "code",
   "execution_count": 5,
   "id": "2d2a4008",
   "metadata": {},
   "outputs": [],
   "source": [
    "df_legal_entities=pd.read_csv(\"data/legal_entities.csv\")\n",
    "df_legal_entities.head()"
   ]
  },
  {
   "cell_type": "markdown",
   "id": "f4aa76a6",
   "metadata": {},
   "source": [
    "A legal entity is represented as a collection of properties. Identifier properties are defined separately and used to find the legal entity while other properties are used to attach more information to the legal entity."
   ]
  },
  {
   "cell_type": "markdown",
   "id": "e3dae894",
   "metadata": {},
   "source": [
    "## Create identifier property\n",
    "First we must create the identifier property for the Legal Entity. Set domain to \"LegalEntity\" and constraint style to \"Identifier\" so lusid knows it is an identifier property for a legal entity.\n"
   ]
  },
  {
   "cell_type": "code",
   "execution_count": 6,
   "id": "7413730e",
   "metadata": {},
   "outputs": [],
   "source": [
    "# create identifier property definition\n",
    "\n",
    "def create_property_identifier(code, display_name):\n",
    "    try:\n",
    "        property_definitions_api.create_property_definition(\n",
    "            create_property_definition_request=lm.CreatePropertyDefinitionRequest(\n",
    "                domain=\"LegalEntity\",\n",
    "                scope=id_scope,\n",
    "                code=code,\n",
    "                value_required=None,\n",
    "                display_name=display_name,\n",
    "                data_type_id=lm.ResourceId(scope=\"system\", code=\"string\"),\n",
    "                life_time=\"Perpetual\",\n",
    "                constraint_style=\"Identifier\"\n",
    "            )\n",
    "        )\n",
    "    except:\n",
    "        print(\"Property already exists\")"
   ]
  },
  {
   "cell_type": "markdown",
   "id": "a5d8f01d",
   "metadata": {},
   "source": [
    "This identifier property will be the standard Legal Entity Identifer (LEI) from the DataFrame we loaded."
   ]
  },
  {
   "cell_type": "code",
   "execution_count": 7,
   "id": "e59d11f2",
   "metadata": {},
   "outputs": [],
   "source": [
    "create_property_identifier(\"LEI\", \"Legal Entity Identifier\")"
   ]
  },
  {
   "cell_type": "markdown",
   "id": "0c5d0b52",
   "metadata": {},
   "source": [
    "## Create Legal Entities"
   ]
  },
  {
   "cell_type": "code",
   "execution_count": 8,
   "id": "443a24b5",
   "metadata": {},
   "outputs": [],
   "source": [
    "def create_legal_entity(identifier_property, LEI, LE_name):\n",
    "\n",
    "    legal_entity_request=lm.UpsertLegalEntityRequest(\n",
    "        identifiers={f\"LegalEntity/{id_scope}/{identifier_property}\":lm.PerpetualProperty(\n",
    "                        key=f\"LegalEntity/{id_scope}/{identifier_property}\",\n",
    "                        value=lm.PropertyValue(label_value=LEI)\n",
    "                        ),\n",
    "                    },\n",
    "\n",
    "        display_name=LE_name,\n",
    "        description=LE_name,\n",
    "        counterparty_risk_information=None,\n",
    "        )\n",
    "\n",
    "    legal_entities_api.upsert_legal_entity(legal_entity_request)"
   ]
  },
  {
   "cell_type": "code",
   "execution_count": 9,
   "id": "5ea6c393",
   "metadata": {},
   "outputs": [],
   "source": [
    "legal_entities = []\n",
    "\n",
    "for i in enumerate(df_legal_entities[\"LEI\"]):\n",
    "    identifier_property=\"LEI\"\n",
    "    LEI=df_legal_entities[\"LEI\"][i[0]]\n",
    "    LE_name=df_legal_entities[\"entityName\"][i[0]]\n",
    "    \n",
    "    create_legal_entity(identifier_property, LEI, LE_name)\n",
    "    legal_entities.append(LEI)\n",
    "    \n",
    "print(len(legal_entities), \"legal entities created\")"
   ]
  },
  {
   "cell_type": "markdown",
   "id": "d03c24e0",
   "metadata": {},
   "source": [
    "#### Add non-standard identidiers from another source\n",
    "\n",
    "The next step is to add another identifier to the legal entities we just created as some data sources may have custom symbols in addition to the standard LEI. Here, we are adding a unique ID Number from another data source. This is also one of the datasets we will use to add diversity data to our properties later on in this notebook."
   ]
  },
  {
   "cell_type": "code",
   "execution_count": 10,
   "id": "ba1f73a9",
   "metadata": {},
   "outputs": [],
   "source": [
    "# Load a DataFrame of Diversity, Equity and Inclusion (DEI) data\n",
    "df_dei_sourceA=pd.read_csv(\"data/dei_data_sourceA.csv\")\n",
    "df_dei_sourceA.head()"
   ]
  },
  {
   "cell_type": "markdown",
   "id": "80421550",
   "metadata": {},
   "source": [
    "We need to create another identifier property for this custom identifier."
   ]
  },
  {
   "cell_type": "code",
   "execution_count": 11,
   "id": "8e644b95",
   "metadata": {},
   "outputs": [],
   "source": [
    "# create identifier property for   unique IDs\n",
    "\n",
    "def create_property_identifier(scope, code, display_name):\n",
    "    try:\n",
    "        property_definitions_api.create_property_definition(\n",
    "            create_property_definition_request=lm.CreatePropertyDefinitionRequest(\n",
    "                domain=\"LegalEntity\",\n",
    "                scope=scope,\n",
    "                code=code,\n",
    "                value_required=None,\n",
    "                display_name=display_name,\n",
    "                data_type_id=lm.ResourceId(scope=\"system\", code=\"string\"),\n",
    "                life_time=\"Perpetual\",\n",
    "                constraint_style=\"Identifier\"\n",
    "            )\n",
    "        )\n",
    "    except:\n",
    "        print(\"Property already exists\")"
   ]
  },
  {
   "cell_type": "code",
   "execution_count": 12,
   "id": "760c4cdb",
   "metadata": {},
   "outputs": [],
   "source": [
    "create_property_identifier(dei_id_scope, \"Custom_ID\", \"Custom ID\")"
   ]
  },
  {
   "cell_type": "markdown",
   "id": "bb5a78f2",
   "metadata": {},
   "source": [
    "The standard LEI from this secondary data source is uploaded using the first identifer property we create so LUSID knows which legal entity is being modified."
   ]
  },
  {
   "cell_type": "code",
   "execution_count": 13,
   "id": "ccf8ea9f",
   "metadata": {},
   "outputs": [],
   "source": [
    "# update legal entities with custom identfiers\n",
    "def update_legal_entity(identifier_property, LEI, internal_ID_property, internal_ID, LE_name):\n",
    "\n",
    "    legal_entity_request=lm.UpsertLegalEntityRequest(\n",
    "        identifiers={\n",
    "            f\"LegalEntity/{id_scope}/{identifier_property}\": lm.PerpetualProperty(\n",
    "            key=f\"LegalEntity/{id_scope}/{identifier_property}\",\n",
    "            value=lm.PropertyValue(\n",
    "                label_value=LEI\n",
    "                )\n",
    "            ),\n",
    "            f\"LegalEntity/{dei_id_scope}/{internal_ID_property}\": lm.PerpetualProperty(\n",
    "            key=f\"LegalEntity/{dei_id_scope}/{internal_ID_property}\",\n",
    "            value=lm.PropertyValue(\n",
    "                label_value=internal_ID\n",
    "                )\n",
    "            ),   \n",
    "        },\n",
    "        display_name=LE_name,\n",
    "        description=LE_name,\n",
    "        counterparty_risk_information=None,\n",
    "    )\n",
    "\n",
    "    legal_entities_api.upsert_legal_entity(legal_entity_request)"
   ]
  },
  {
   "cell_type": "code",
   "execution_count": 14,
   "id": "365ef424",
   "metadata": {},
   "outputs": [],
   "source": [
    "dei_sourceA_LEs = []\n",
    "\n",
    "for i in df_dei_sourceA[\"Legal Entity Identifier\"].index:\n",
    "    identifier_property=\"LEI\"\n",
    "    internal_ID_property=\"Custom_ID\"\n",
    "    dei_sourceA_LEI=df_dei_sourceA[\"Legal Entity Identifier\"][i]\n",
    "    dei_sourceA_LE_name=df_dei_sourceA[\"Name\"][i]\n",
    "    internal_ID=str(df_dei_sourceA[\"Custom Legal Entity Identifier \"][i])\n",
    "    \n",
    "    LEI = update_legal_entity(identifier_property, dei_sourceA_LEI, internal_ID_property, internal_ID, dei_sourceA_LE_name)\n",
    "    dei_sourceA_LEs.append(LEI)\n",
    "    \n",
    "print(len(dei_sourceA_LEs), \"legal entities updated\")"
   ]
  },
  {
   "cell_type": "code",
   "execution_count": 15,
   "id": "eeb1919d",
   "metadata": {},
   "outputs": [],
   "source": [
    "# create dict for renaming df columns\n",
    "\n",
    "column_rename_mapping = {\"display_name\":\"displayName\",\n",
    "                         \"lusid_legal_entity_id\":\"lusidLegalEntityId\",\n",
    "                         f\"identifiers.LegalEntity/{dei_id_scope}/Custom_ID.value.label_value\":\"customLegalEntityIdentifier\",\n",
    "                         f\"identifiers.LegalEntity/{id_scope}/LEI.value.label_value\":\"legalEntityIdentifier\",\n",
    "                         f\"identifiers.LegalEntity/{id_scope}/LEI.key\":\"legalEntityIdentifierKey\",\n",
    "                         f\"identifiers.LegalEntity/{id_scope}/LEI.value.label_value\":\"legalEntityIdentifier\",\n",
    "                         f\"identifiers.LegalEntity/{dei_id_scope}/Custom_ID.key\":\"customLegalEntityIdentifierKey\",\n",
    "                         f\"identifiers.LegalEntity/{dei_id_scope}/Custom_ID.value.label_value\":\"customLegalEntityIdentifier\",\n",
    "                         f\"properties.LegalEntity/{dei_scopeA}/GenderScore.key\":\"genderScoreKey\",\n",
    "                         f\"properties.LegalEntity/{dei_scopeA}/GenderScore.value.metric_value.value\":\"genderScore\",\n",
    "                         f\"properties.LegalEntity/{dei_scopeA}/TotalDEIScore.key\":\"totalDEIScoreKey\",\n",
    "                         f\"properties.LegalEntity/{dei_scopeA}/TotalDEIScore.value.metric_value.value\":\"totalDEIScore\",\n",
    "                         f\"properties.LegalEntity/{dei_scopeB}/RaceEthnicityScore.key\":\"raceEthnicityScoreKey\",\n",
    "                         f\"properties.LegalEntity/{dei_scopeB}/RaceEthnicityScore.value.metric_value.value\":\"raceEthnicityScore\",\n",
    "                         \"values.0.related_entity.display_name\":\"displayName\",\n",
    "                         \"values.0.related_entity.identifiers.1.identifier_value\":\"instrumentIsin\"\n",
    "                        }\n"
   ]
  },
  {
   "cell_type": "code",
   "execution_count": 16,
   "id": "11595510",
   "metadata": {},
   "outputs": [],
   "source": [
    "# list legal entities with both identifiers\n",
    "LE_list = legal_entities_api.list_legal_entities(\n",
    "    id_type_scope=dei_id_scope,\n",
    "    id_type_code=\"Custom_ID\",\n",
    ")"
   ]
  },
  {
   "cell_type": "code",
   "execution_count": 17,
   "id": "ce497a42",
   "metadata": {},
   "outputs": [],
   "source": [
    "df_LE_list = lusid_response_to_data_frame(LE_list, \n",
    "                                          rename_properties=True, \n",
    "                                          column_name_mapping=column_rename_mapping)\n",
    "df_LE_list[[\"displayName\", \n",
    "            \"description\",\n",
    "            \"lusidLegalEntityId\", \n",
    "            \"customLegalEntityIdentifier\",\n",
    "            \"legalEntityIdentifier\"]].dropna().head()"
   ]
  },
  {
   "cell_type": "markdown",
   "id": "5cfd368d",
   "metadata": {},
   "source": [
    "## Enhance Legal Entity Information"
   ]
  },
  {
   "cell_type": "markdown",
   "id": "e6d1a4e7",
   "metadata": {},
   "source": [
    "Now we can create other properties to enhance the legal entity infomation. In this case, we will be updating the legal entities with Diversity, Equity and Inclusion (DEI) data from source A."
   ]
  },
  {
   "cell_type": "code",
   "execution_count": 18,
   "id": "cfeb3bdd",
   "metadata": {},
   "outputs": [],
   "source": [
    "# create properties for legal entities\n",
    "\n",
    "def create_property(scope, dtype, code, display_name):\n",
    "    try:\n",
    "        property_definitions_api.create_property_definition(\n",
    "            create_property_definition_request=lm.CreatePropertyDefinitionRequest(\n",
    "                domain=\"LegalEntity\",\n",
    "                scope=scope,\n",
    "                code=code,\n",
    "                value_required=None,\n",
    "                display_name=display_name,\n",
    "                data_type_id=lm.ResourceId(scope=\"system\", code=dtype),\n",
    "                life_time=\"Perpetual\",\n",
    "            )\n",
    "        )\n",
    "    except:\n",
    "        print(\"Property already exists\")"
   ]
  },
  {
   "cell_type": "code",
   "execution_count": 19,
   "id": "ea15d119",
   "metadata": {},
   "outputs": [],
   "source": [
    "create_property(dei_scopeA, \"number\", \"TotalDEIScore\", \"Total DEI Score\")\n",
    "create_property(dei_scopeA, \"number\", \"GenderScore\", \"Gender Score\")"
   ]
  },
  {
   "cell_type": "code",
   "execution_count": 20,
   "id": "7f258c82",
   "metadata": {},
   "outputs": [],
   "source": [
    "# adding properties for DEI data to existing legal entities\n",
    "\n",
    "def enhance_legal_entity_sourceA(identifier_property, internal_ID_property, LEI, internal_ID, LE_name, TotalDEIScore, GenderScore):\n",
    "\n",
    "    legal_entity_request= lm.UpsertLegalEntityRequest(\n",
    "        identifiers={\n",
    "            f\"LegalEntity/{id_scope}/{identifier_property}\": lm.PerpetualProperty(\n",
    "            key=f\"LegalEntity/{id_scope}/{identifier_property}\",\n",
    "            value=lm.PropertyValue(\n",
    "                label_value=LEI\n",
    "                )\n",
    "            ), \n",
    "        },\n",
    "        properties={\n",
    "            f\"LegalEntity/{dei_scopeA}/TotalDEIScore\":\n",
    "            lm.PerpetualProperty(\n",
    "                key=f\"LegalEntity/{dei_scopeA}/TotalDEIScore\",\n",
    "                value=lm.PropertyValue(\n",
    "                    metric_value=lm.MetricValue(TotalDEIScore)\n",
    "                )\n",
    "            ),\n",
    "            f\"LegalEntity/{dei_scopeA}/GenderScore\":\n",
    "            lm.PerpetualProperty(\n",
    "                key=f\"LegalEntity/{dei_scopeA}/GenderScore\",\n",
    "                value=lm.PropertyValue(\n",
    "                    metric_value=lm.MetricValue(GenderScore)\n",
    "                )\n",
    "            ),\n",
    "        },\n",
    "        display_name=LE_name,\n",
    "        description=LE_name,\n",
    "        counterparty_risk_information=None,\n",
    "    )\n",
    "\n",
    "    legal_entities_api.upsert_legal_entity(legal_entity_request)"
   ]
  },
  {
   "cell_type": "code",
   "execution_count": 21,
   "id": "227d76d6",
   "metadata": {},
   "outputs": [],
   "source": [
    "enhanced_LEs = []\n",
    "\n",
    "for i in df_dei_sourceA[\"Legal Entity Identifier\"].index:\n",
    "    identifier_property=\"LEI\"\n",
    "    internal_ID_property=\"Custom_ID\"\n",
    "    dei_source_LEI=df_dei_sourceA[\"Legal Entity Identifier\"][i]\n",
    "    dei_source_LE_name=df_dei_sourceA[\"Name\"][i]\n",
    "    internal_ID=str(df_dei_sourceA[\"Custom Legal Entity Identifier \"][i])\n",
    "    TotalDEIScore=df_dei_sourceA[\"Total DEI Score\"][i]\n",
    "    GenderScore=df_dei_sourceA[\"Total Gender Score\"][i]\n",
    "    \n",
    "    enhance_LE = enhance_legal_entity_sourceA(identifier_property, internal_ID_property, dei_source_LEI, internal_ID, dei_source_LE_name, TotalDEIScore, GenderScore)\n",
    "    enhanced_LEs.append(LEI)\n",
    "    \n",
    "print(len(enhanced_LEs), \"legal entitites updated\")"
   ]
  },
  {
   "cell_type": "markdown",
   "id": "da714f44",
   "metadata": {},
   "source": [
    "#### Uploading DEI data from a second source."
   ]
  },
  {
   "cell_type": "code",
   "execution_count": 22,
   "id": "fb76b430",
   "metadata": {
    "scrolled": true
   },
   "outputs": [],
   "source": [
    "df_dei_sourceB = pd.read_csv(\"data/dei_data_sourceB.csv\")\n",
    "df_dei_sourceB.head()"
   ]
  },
  {
   "cell_type": "code",
   "execution_count": 23,
   "id": "50006dd5",
   "metadata": {},
   "outputs": [],
   "source": [
    "create_property(dei_scopeB, \"number\", \"RaceEthnicityScore\", \"Race/Ethnicity Score\")"
   ]
  },
  {
   "cell_type": "code",
   "execution_count": 24,
   "id": "11fba1ce",
   "metadata": {},
   "outputs": [],
   "source": [
    "# adding properties for DEI data to existing legal entities\n",
    "\n",
    "def enhance_legal_entity_sourceB(identifier_property, LEI, LE_name, RaceEthnicityScore):\n",
    "\n",
    "    legal_entity_request=lm.UpsertLegalEntityRequest(\n",
    "        identifiers={\n",
    "            f\"LegalEntity/{id_scope}/{identifier_property}\": \n",
    "            lm.PerpetualProperty(\n",
    "                key=f\"LegalEntity/{id_scope}/{identifier_property}\",\n",
    "                value=lm.PropertyValue(\n",
    "                    label_value=LEI\n",
    "                )\n",
    "            ), \n",
    "        },\n",
    "        properties={\n",
    "            f\"LegalEntity/{dei_scopeB}/RaceEthnicityScore\":\n",
    "            lm.PerpetualProperty(\n",
    "                key=f\"LegalEntity/{dei_scopeB}/RaceEthnicityScore\",\n",
    "                value=lm.PropertyValue(\n",
    "                    metric_value=lm.MetricValue(RaceEthnicityScore)\n",
    "                )\n",
    "            ),\n",
    "        },\n",
    "        display_name=LE_name,\n",
    "        description=LE_name,\n",
    "        counterparty_risk_information=None,\n",
    "    )\n",
    "\n",
    "    legal_entities_api.upsert_legal_entity(legal_entity_request)"
   ]
  },
  {
   "cell_type": "code",
   "execution_count": 25,
   "id": "8fabb756",
   "metadata": {},
   "outputs": [],
   "source": [
    "enhanced_LEs = []\n",
    "\n",
    "for i in df_dei_sourceB[\"Legal Entity Identifier\"].index:\n",
    "    identifier_property=\"LEI\"\n",
    "    dei_sourceB_LEI=df_dei_sourceB[\"Legal Entity Identifier\"][i]\n",
    "    dei_sourceB_LE_name=df_dei_sourceB[\"Name\"][i]\n",
    "    RaceEthnicityScore=df_dei_sourceB[\"Total Race/Ethnicity Score\"][i]\n",
    "    \n",
    "    enhance_LE = enhance_legal_entity_sourceB(identifier_property, dei_sourceB_LEI, dei_sourceB_LE_name, RaceEthnicityScore)\n",
    "    enhanced_LEs.append(LEI)\n",
    "    \n",
    "print(len(enhanced_LEs), \"legal entitites updated\")"
   ]
  },
  {
   "cell_type": "markdown",
   "id": "cafa4572",
   "metadata": {},
   "source": [
    "## Create Instrument-Legal Entity Relationships"
   ]
  },
  {
   "cell_type": "markdown",
   "id": "e51c66fb",
   "metadata": {},
   "source": [
    "#### Loading DataFrame with ISINs for UK equities and corresponding LEIs\n",
    "One legal entity can have multiple instruments linked to it in LUSID via instrument identifers. However, in this sample data set, each LEI is linked to only one instrument using the instrument ISIN."
   ]
  },
  {
   "cell_type": "code",
   "execution_count": 26,
   "id": "99580c36",
   "metadata": {
    "scrolled": true
   },
   "outputs": [],
   "source": [
    "df_inst_ISINs = pd.read_csv(\"data/Instrument_ISINs.csv\")\n",
    "df_inst_ISINs.head()"
   ]
  },
  {
   "cell_type": "markdown",
   "id": "eaa0cd97",
   "metadata": {},
   "source": [
    "#### Upserting instruments \n",
    "Now we need to create instruments with these ISINs in LUSID to be able to create a relationship with their legal entity."
   ]
  },
  {
   "cell_type": "code",
   "execution_count": 27,
   "id": "9352fa0d",
   "metadata": {},
   "outputs": [],
   "source": [
    "# instrument field mapping\n",
    "\n",
    "inst_mapping = {\n",
    "    \"instruments\": {\n",
    "        \"identifier_mapping\": {\"ClientInternal\": \"ClientInternal\", \"Isin\": \"ISIN\"},\n",
    "        \"required\": {\n",
    "                        \"name\": \"Name\", \n",
    "                        \"definition.dom_ccy\":\"$GBP\",\n",
    "                        \"definition.asset_class\":\"$Equities\",\n",
    "                        \"definition.instrument_type\": \"$Equity\",\n",
    "                    },\n",
    "    },\n",
    "}"
   ]
  },
  {
   "cell_type": "code",
   "execution_count": 28,
   "id": "bc3f89d1",
   "metadata": {},
   "outputs": [],
   "source": [
    "df_inst_unique=df_inst_ISINs[[\"ISIN\",\n",
    "                            \"ClientInternal\",\n",
    "                            \"Name\",\n",
    "                             ]].drop_duplicates()\n",
    "df_inst_unique.head()"
   ]
  },
  {
   "cell_type": "code",
   "execution_count": 29,
   "id": "51afb45b",
   "metadata": {},
   "outputs": [],
   "source": [
    "result=lpt.cocoon.load_from_data_frame(\n",
    "    api_factory=api_factory,\n",
    "    scope=inst_scope,\n",
    "    data_frame=df_inst_unique,\n",
    "    mapping_required=inst_mapping[\"instruments\"][\"required\"],\n",
    "    mapping_optional={},\n",
    "    file_type=\"instrument\",\n",
    "    identifier_mapping=inst_mapping[\"instruments\"][\"identifier_mapping\"],\n",
    "    instrument_scope=inst_scope\n",
    ")\n",
    "\n",
    "succ, failed, errors=format_instruments_response(result)\n",
    "print(f\"number of successful upserts: {len(succ)}\")\n",
    "print(f\"number of failed upserts    : {len(failed)}\")\n",
    "print(f\"number of errors            : {len(errors)}\")"
   ]
  },
  {
   "cell_type": "markdown",
   "id": "1e87f879",
   "metadata": {},
   "source": [
    "### Create relationship between legal entity and instrument"
   ]
  },
  {
   "cell_type": "markdown",
   "id": "30ea25af",
   "metadata": {},
   "source": [
    "LUSID only accepts unique identifiers when creating relationships. Since ISIN is not a unique identifier, we need a resolver to return the instrument LUID for a given ISIN. Note that this resolver will only work if there is only one instrument with the ISIN in the defined scope. "
   ]
  },
  {
   "cell_type": "code",
   "execution_count": 30,
   "id": "d701b471",
   "metadata": {},
   "outputs": [],
   "source": [
    "# creating resolver to get unique ID for instrument \n",
    "\n",
    "def resolver(scope, inst_type, inst_id):\n",
    "    \n",
    "    # get the list of LUIDS associated with the instrument\n",
    "    def no_of_insts(scope, inst_type, inst_id):\n",
    "        insts_search=search_api.instruments_search(\n",
    "                                            scope=scope, \n",
    "                                            mastered_only=True,\n",
    "                                            instrument_search_property=[\n",
    "                                            lm.InstrumentSearchProperty(\n",
    "                                                key=f\"Instrument/default/{inst_type}\",\n",
    "                                                value=inst_id,\n",
    "                                            )\n",
    "        ])\n",
    "        return(insts_search)\n",
    "    insts_search = no_of_insts(scope, inst_type, inst_id)\n",
    "    no_insts = len(insts_search[0].mastered_instruments)\n",
    "    \n",
    "    if no_insts == 1:\n",
    "        InstrumentId = insts_search[0].mastered_instruments[0].identifiers[\"LusidInstrumentId\"].value\n",
    "        \n",
    "    else:\n",
    "        InstrumentId=inst_id\n",
    "        \n",
    "    return(InstrumentId)"
   ]
  },
  {
   "cell_type": "markdown",
   "id": "4b13b108",
   "metadata": {},
   "source": [
    "We can test this resolver to show that it brings back the LUID where only one instrument with the given ISIN is found in the instrument scope."
   ]
  },
  {
   "cell_type": "code",
   "execution_count": 31,
   "id": "61e1ae73",
   "metadata": {},
   "outputs": [],
   "source": [
    "# test for resolver \n",
    "resolver(inst_scope, \"Isin\", \"GB0002634946\")"
   ]
  },
  {
   "cell_type": "code",
   "execution_count": 32,
   "id": "f01ff52c",
   "metadata": {},
   "outputs": [],
   "source": [
    "# create Legal Entity-Instrument relationship in the default scope\n",
    "def create_instrument_relationship(relationship_scope, relationship_code, lei_scope, lei_code, lei, inst_scope, inst_type, inst_id):\n",
    "    relationships_api.create_relationship(\n",
    "        \n",
    "        # the scope/code of the RelationDefinition to be created\n",
    "        scope=relationship_scope,\n",
    "        code=relationship_code,\n",
    "        \n",
    "        create_relationship_request=lm.CreateRelationshipRequest(\n",
    "            target_entity_id={\n",
    "                # the fields the uniquely identify the source entity\n",
    "                \"idTypeScope\": lei_scope,\n",
    "                \"idTypeCode\": lei_code,\n",
    "                \"code\": lei\n",
    "            }, \n",
    "            source_entity_id={\n",
    "                # the fields the uniquely identify the target entity\n",
    "                \"scope\": inst_scope,\n",
    "                \"identifierScope\": \"default\",\n",
    "                \"identifierType\": \"LusidInstrumentId\",\n",
    "                \"identifierValue\": resolver(inst_scope, inst_type, inst_id)\n",
    "            },\n",
    "            effective_from = \"2022-01-01T00:00:00+00:00\"\n",
    "            ),\n",
    "    )"
   ]
  },
  {
   "cell_type": "code",
   "execution_count": 33,
   "id": "03f07acd",
   "metadata": {},
   "outputs": [],
   "source": [
    "for i in range(len(df_inst_ISINs[\"ISIN\"])):\n",
    "    create_instrument_relationship(id_scope,\n",
    "                                   \"issuer\",\n",
    "                                   id_scope,\n",
    "                                   \"LEI\", \n",
    "                                   df_inst_ISINs[\"LEI\"][i], \n",
    "                                   inst_scope, \n",
    "                                   \"Isin\", \n",
    "                                   df_inst_ISINs[\"ISIN\"][i])\n",
    "    \n",
    "print(f\"Created {len(df_inst_ISINs['ISIN'])} relationships between legal entities and instruments.\")"
   ]
  },
  {
   "cell_type": "markdown",
   "id": "192a7974",
   "metadata": {},
   "source": [
    "### Return legal entitiy information for a given ISIN using relationships\n",
    "Now that we have relationships connecting our instruments to their legal entities, we can query the properties on a legal entity using an instrument identifier."
   ]
  },
  {
   "cell_type": "code",
   "execution_count": 34,
   "id": "bfee4127",
   "metadata": {},
   "outputs": [],
   "source": [
    "# get Legal Entity properties via instrument ISIN\n",
    "\n",
    "index_no = 0\n",
    "df_inst_LE_rela = pd.DataFrame()\n",
    "\n",
    "for i in df_inst_unique.index:\n",
    "    \n",
    "    inst_LE_rela2 = instruments_api.get_instruments(identifier_type='LusidInstrumentId',\n",
    "                                                 request_body=[resolver(inst_scope, 'Isin',df_inst_unique['ISIN'][i]),\n",
    "                                                              ],\n",
    "                                                 scope=inst_scope,\n",
    "                                                 relationship_definition_ids=[f\"{id_scope}/issuer\"],\n",
    "                                                 property_keys=[f\"LegalEntity/{id_scope}/LEI\",\n",
    "                                                                f\"LegalEntity/{dei_scopeA}/TotalDEIScore\",\n",
    "                                                                f\"LegalEntity/{dei_scopeB}/RaceEthnicityScore\"\n",
    "                                                               ],\n",
    "                                                )\n",
    "    df_inst_LE_rela2 = lusid_response_to_data_frame(inst_LE_rela2,rename_properties=True,column_name_mapping=column_rename_mapping)\n",
    "    df_inst_LE_rela2 = df_inst_LE_rela2.transpose()\n",
    "    luid = resolver(inst_scope, 'Isin', df_inst_unique['ISIN'][i])\n",
    "    df_inst_LE_rela2['index_no'] = [f'{index_no}']\n",
    "    index_no+=1\n",
    "    \n",
    "    df_inst_LE_rela2.rename(columns={f'values.{luid}.scope':'scope',\n",
    "                                     f'values.{luid}.lusid_instrument_id':'lusid_instrument_id',\n",
    "                                     f'values.{luid}.identifiers.Isin':'instrumentIsin',\n",
    "                                     f'values.{luid}.relationships.0.related_entity.display_name':'instrumentDisplayName',\n",
    "                                     f'values.{luid}.relationships.0.related_entity.properties.LegalEntity/deiDataSourceB/RaceEthnicityScore.value.metric_value.value':'raceEthnicityScore',\n",
    "                                     f'values.{luid}.relationships.0.related_entity.properties.LegalEntity/deiDataSourceA/TotalDEIScore.value.metric_value.value':'totalDEIScore'                               \n",
    "                                    },inplace=True)\n",
    "    df_inst_LE_rela = pd.concat([df_inst_LE_rela,df_inst_LE_rela2])\n",
    "\n",
    "    df_inst_LE_rela.set_index(df_inst_LE_rela['index_no'],inplace=True)\n",
    "    \n",
    "\n",
    "df_inst_LE_rela[['instrumentDisplayName',\n",
    "                 'instrumentIsin',\n",
    "                 'totalDEIScore',\n",
    "                 'raceEthnicityScore',\n",
    "                ]].dropna()\n"
   ]
  },
  {
   "cell_type": "markdown",
   "id": "25196163",
   "metadata": {},
   "source": [
    "## Filter an instrument universe based on LE DEI data\n",
    "\n",
    "Now that we have instruments linked to legal entities, we can create a universe of instruments based on the diversity data attached to their corresponding legal entities."
   ]
  },
  {
   "cell_type": "code",
   "execution_count": 35,
   "id": "9f29b2be",
   "metadata": {
    "scrolled": true
   },
   "outputs": [],
   "source": [
    "# listing all legal entities in scope that meet DEI criteria\n",
    "\n",
    "LEs=legal_entities_api.list_legal_entities(id_type_scope=id_scope,\n",
    "                                             id_type_code=\"LEI\",\n",
    "                                             property_keys=[f\"LegalEntity/{dei_scopeA}/TotalDEIScore\",\n",
    "                                                           f\"LegalEntity/{dei_scopeB}/RaceEthnicityScore\"],\n",
    "                                             \n",
    "                                             # filter by best DEI scores\n",
    "                                             filter=f\"properties[LegalEntity/{dei_scopeA}/TotalDEIScore] gt 45 and properties[LegalEntity/{dei_scopeB}/RaceEthnicityScore] gt 17\",\n",
    "                                             limit=110)\n",
    "\n",
    "df_LEs = lusid_response_to_data_frame(LEs, column_name_mapping=column_rename_mapping)\n",
    "df_filtered_LEs = df_LEs[[\"displayName\",\n",
    "                          \"lusidLegalEntityId\",\n",
    "                          \"customLegalEntityIdentifier\",\n",
    "                          \"legalEntityIdentifier\",\n",
    "                          \"totalDEIScore\",\n",
    "                          \"raceEthnicityScore\"\n",
    "                         ]]\n",
    "df_filtered_LEs"
   ]
  },
  {
   "cell_type": "code",
   "execution_count": 36,
   "id": "68504b1a",
   "metadata": {},
   "outputs": [],
   "source": [
    "# getting instruments related to filtered legal entity list\n",
    "\n",
    "relationships = []\n",
    "LEIs = []\n",
    "\n",
    "for i in df_filtered_LEs.index:\n",
    "    inst_relationship = legal_entities_api.get_legal_entity_relationships(id_type_scope=id_scope,\n",
    "                                                  id_type_code=\"LEI\",\n",
    "                                                  code= df_filtered_LEs[\"legalEntityIdentifier\"][i])\n",
    "    relationships.append(inst_relationship)\n",
    "    LEIs.append(df_filtered_LEs[\"legalEntityIdentifier\"][i])"
   ]
  },
  {
   "cell_type": "code",
   "execution_count": 37,
   "id": "f32dcb86",
   "metadata": {},
   "outputs": [],
   "source": [
    "# add the legal entity identifiers to the DataFrame\n",
    "df_relationships = lusid_response_to_data_frame(relationships, \n",
    "                                                rename_properties=True,\n",
    "                                                column_name_mapping=column_rename_mapping)\n",
    "\n",
    "df_relationships[\"legalEntityIdentifier\"]=LEIs\n",
    "df_relationships.head()"
   ]
  },
  {
   "cell_type": "code",
   "execution_count": 38,
   "id": "730eb2fe",
   "metadata": {},
   "outputs": [],
   "source": [
    "# filter to ensure only LE-instrument relationships\n",
    "df_inst_relationships = df_relationships[df_relationships[\"values.0.related_entity.entity_type\"] == \"Instrument\"]\n",
    "df_inst_relationships.rename(columns = {\"displayName\":\"instrumentDisplayName\"}, inplace=True)\n",
    "df_inst_relationships = df_inst_relationships[[\"instrumentDisplayName\",\n",
    "                                               \"instrumentIsin\",\n",
    "                                               \"legalEntityIdentifier\"]]\n",
    "df_inst_relationships.head()"
   ]
  },
  {
   "cell_type": "markdown",
   "id": "4cc3d253",
   "metadata": {},
   "source": [
    "Now we can merge DataFrames so you can see the universe of ISINs meeting the DEI score criteria along with the LEI of their legal entity and the Total DEI Score."
   ]
  },
  {
   "cell_type": "code",
   "execution_count": 39,
   "id": "d60b2ed4",
   "metadata": {},
   "outputs": [],
   "source": [
    "merged_df = df_inst_relationships.merge(df_filtered_LEs, left_on=\"legalEntityIdentifier\", right_on=\"legalEntityIdentifier\")\n",
    "filtered_universe = pd.DataFrame(merged_df[[\"instrumentDisplayName\",\n",
    "                                            \"instrumentIsin\",\n",
    "                                            \"legalEntityIdentifier\",\n",
    "                                            \"totalDEIScore\",\n",
    "                                            \"raceEthnicityScore\"]])\n",
    "filtered_universe"
   ]
  }
 ],
 "metadata": {
  "kernelspec": {
   "display_name": "Python 3 (ipykernel)",
   "language": "python",
   "name": "python3"
  },
  "language_info": {
   "codemirror_mode": {
    "name": "ipython",
    "version": 3
   },
   "file_extension": ".py",
   "mimetype": "text/x-python",
   "name": "python",
   "nbconvert_exporter": "python",
   "pygments_lexer": "ipython3",
   "version": "3.10.10"
  },
  "toc": {
   "base_numbering": 1,
   "nav_menu": {},
   "number_sections": true,
   "sideBar": true,
   "skip_h1_title": false,
   "title_cell": "Table of Contents",
   "title_sidebar": "Contents",
   "toc_cell": false,
   "toc_position": {},
   "toc_section_display": true,
   "toc_window_display": false
  },
  "varInspector": {
   "cols": {
    "lenName": 16,
    "lenType": 16,
    "lenVar": 40
   },
   "kernels_config": {
    "python": {
     "delete_cmd_postfix": "",
     "delete_cmd_prefix": "del ",
     "library": "var_list.py",
     "varRefreshCmd": "print(var_dic_list())"
    },
    "r": {
     "delete_cmd_postfix": ") ",
     "delete_cmd_prefix": "rm(",
     "library": "var_list.r",
     "varRefreshCmd": "cat(var_dic_list()) "
    }
   },
   "types_to_exclude": [
    "module",
    "function",
    "builtin_function_or_method",
    "instance",
    "_Feature"
   ],
   "window_display": false
  }
 },
 "nbformat": 4,
 "nbformat_minor": 5
}
