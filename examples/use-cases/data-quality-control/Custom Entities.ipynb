{
 "cells": [
  {
   "cell_type": "markdown",
   "metadata": {},
   "source": [
    "# Using Custom Entities to track Portfolio data quality\n",
    "\n",
    "In this Notebook, we demonstrate how Custom Entities can be used to support Data Quality check on Portfolios.\n",
    "We will create a new Custom Entity type named Portfolio_DataQuality which stores a list of attributes defining the 'Quality' of a Portfolio.\n",
    "Each Portfolio will be linked ([Relationship feature](https://support.lusid.com/knowledgebase/article/KA-01679/)) to one or many Portfolio_DataQuality entities."
   ]
  },
  {
   "cell_type": "code",
   "execution_count": 1,
   "metadata": {},
   "outputs": [
    {
     "data": {
      "text/html": [
       "\n",
       "    <form action=\"javascript:code_toggle()\"><input type=\"submit\" id=\"toggleButton\" value=\"Toggle Docstring\"></form>\n",
       "    \n",
       "         <script>\n",
       "         function code_toggle() {\n",
       "             if ($('div.cell.code_cell.rendered.selected div.input').css('display')!='none'){\n",
       "                 $('div.cell.code_cell.rendered.selected div.input').hide();\n",
       "             } else {\n",
       "                 $('div.cell.code_cell.rendered.selected div.input').show();\n",
       "             }\n",
       "         }\n",
       "         </script>\n",
       "\n",
       "     "
      ],
      "text/plain": [
       "<IPython.core.display.HTML object>"
      ]
     },
     "metadata": {},
     "output_type": "display_data"
    }
   ],
   "source": [
    "from lusidtools.jupyter_tools import toggle_code\n",
    "\n",
    "\"\"\"Custom Entities in LUSID \n",
    "\n",
    "Illustrates the use of Custom Entities.\n",
    "\n",
    "Attributes\n",
    "----------\n",
    "Custom Entities\n",
    "Portfolios\n",
    "Data Quality\n",
    "RelationShip\n",
    "\"\"\"\n",
    "\n",
    "toggle_code(\"Toggle Docstring\")"
   ]
  },
  {
   "cell_type": "code",
   "execution_count": 2,
   "metadata": {},
   "outputs": [
    {
     "data": {
      "text/html": [
       "<style>.container { width:90% !important; }</style>"
      ],
      "text/plain": [
       "<IPython.core.display.HTML object>"
      ]
     },
     "metadata": {},
     "output_type": "display_data"
    },
    {
     "data": {
      "text/html": [
       "<div>\n",
       "<style scoped>\n",
       "    .dataframe tbody tr th:only-of-type {\n",
       "        vertical-align: middle;\n",
       "    }\n",
       "\n",
       "    .dataframe tbody tr th {\n",
       "        vertical-align: top;\n",
       "    }\n",
       "\n",
       "    .dataframe thead th {\n",
       "        text-align: right;\n",
       "    }\n",
       "</style>\n",
       "<table border=\"1\" class=\"dataframe\">\n",
       "  <thead>\n",
       "    <tr style=\"text-align: right;\">\n",
       "      <th></th>\n",
       "      <th>api_version</th>\n",
       "      <th>build_version</th>\n",
       "      <th>excel_version</th>\n",
       "      <th>links</th>\n",
       "    </tr>\n",
       "  </thead>\n",
       "  <tbody>\n",
       "    <tr>\n",
       "      <th>0</th>\n",
       "      <td>v0</td>\n",
       "      <td>0.6.11252.0</td>\n",
       "      <td>0.5.3234</td>\n",
       "      <td>{'relation': 'RequestLogs', 'href': 'http://fbn-ci.lusid.com/app/insights/logs/0HMQD9IG2C6IP:000...</td>\n",
       "    </tr>\n",
       "  </tbody>\n",
       "</table>\n",
       "</div>"
      ],
      "text/plain": [
       "  api_version build_version excel_version   \n",
       "0          v0   0.6.11252.0      0.5.3234  \\\n",
       "\n",
       "                                                                                                 links  \n",
       "0  {'relation': 'RequestLogs', 'href': 'http://fbn-ci.lusid.com/app/insights/logs/0HMQD9IG2C6IP:000...  "
      ]
     },
     "metadata": {},
     "output_type": "display_data"
    }
   ],
   "source": [
    "import os\n",
    "import pandas as pd\n",
    "import numpy as np\n",
    "from datetime import datetime, timezone, date\n",
    "import io\n",
    "import json\n",
    "import pytz\n",
    "from IPython.core.display import HTML\n",
    "\n",
    "# Then import the key modules from the LUSID package (i.e. The LUSID SDK)\n",
    "import lusid as lu\n",
    "import lusid.models as lm\n",
    "import fbnsdkutilities.utilities as utils\n",
    "\n",
    "# And use absolute imports to import key functions from Lusid-Python-Tools and other helper package\n",
    "\n",
    "from lusidjam import RefreshingToken\n",
    "from lusidtools.cocoon.cocoon import load_from_data_frame\n",
    "from lusidtools.pandas_utils.lusid_pandas import lusid_response_to_data_frame\n",
    "from lusidtools.jupyter_tools import StopExecution\n",
    "from lusidtools.cocoon.cocoon_printer import (\n",
    "    format_portfolios_response,\n",
    ")\n",
    "\n",
    "# Set DataFrame display formats\n",
    "pd.set_option(\"max_colwidth\", 100)\n",
    "pd.set_option(\"display.max_columns\", None)\n",
    "pd.set_option(\"display.max_rows\", None)\n",
    "pd.options.display.float_format = \"{:,.2f}\".format\n",
    "display(HTML(\"<style>.container { width:90% !important; }</style>\"))\n",
    "\n",
    "# Set the secrets path\n",
    "secrets_path = os.getenv(\"FBN_SECRETS_PATH\")\n",
    "\n",
    "# For running the notebook locally\n",
    "if secrets_path is None:\n",
    "    secrets_path = os.path.join(os.path.dirname(os.getcwd()), \"secrets.json\")\n",
    "\n",
    "api_factory = utils.ApiClientFactory(\n",
    "        lu,\n",
    "        token=RefreshingToken(),\n",
    "        api_secrets_filename = secrets_path,\n",
    "        app_name=\"LusidJupyterNotebook\")\n",
    "\n",
    "api_status = pd.DataFrame(\n",
    "    api_factory.build(lu.ApplicationMetadataApi).get_lusid_versions().to_dict()\n",
    ")\n",
    "\n",
    "display(api_status)"
   ]
  },
  {
   "cell_type": "markdown",
   "metadata": {},
   "source": [
    "## Table of Contents\n",
    "* [1. Create Portfolios](#-Create-Portfolios)\n",
    "* [2. Create Custom Entity Portfolio_DataQuality](#-Create-CustomEntities)\n",
    "* [3. Display Portfolios Data Quality](#-Display-DataQuality)\n",
    "* [4. Create Relationship {Portfolio_DataQuality, Portfolio}](#-Create-Relationships)\n",
    "* [5. Display Portfolio relationships](#-Display-Relationships)\n"
   ]
  },
  {
   "cell_type": "markdown",
   "metadata": {},
   "source": [
    "# 1. Create Portfolios<a class=\"anchor\" id=\"-Create-Portfolios\"></a>\n",
    "\n",
    "We'll start by upserting 2 Portfolios listed in 'data/custom_entities_portfolios.csv':\n",
    "- Portfolio X\n",
    "- Portfolio Y"
   ]
  },
  {
   "cell_type": "code",
   "execution_count": 3,
   "metadata": {},
   "outputs": [
    {
     "data": {
      "text/html": [
       "<div>\n",
       "<style scoped>\n",
       "    .dataframe tbody tr th:only-of-type {\n",
       "        vertical-align: middle;\n",
       "    }\n",
       "\n",
       "    .dataframe tbody tr th {\n",
       "        vertical-align: top;\n",
       "    }\n",
       "\n",
       "    .dataframe thead th {\n",
       "        text-align: right;\n",
       "    }\n",
       "</style>\n",
       "<table border=\"1\" class=\"dataframe\">\n",
       "  <thead>\n",
       "    <tr style=\"text-align: right;\">\n",
       "      <th></th>\n",
       "      <th>success</th>\n",
       "      <th>failed</th>\n",
       "    </tr>\n",
       "  </thead>\n",
       "  <tbody>\n",
       "    <tr>\n",
       "      <th>0</th>\n",
       "      <td>2</td>\n",
       "      <td>0</td>\n",
       "    </tr>\n",
       "  </tbody>\n",
       "</table>\n",
       "</div>"
      ],
      "text/plain": [
       "   success  failed\n",
       "0        2       0"
      ]
     },
     "execution_count": 3,
     "metadata": {},
     "output_type": "execute_result"
    }
   ],
   "source": [
    "#read and create portfolios\n",
    "\n",
    "portfolio_df = pd.read_csv('data/custom_entities_portfolios.csv')\n",
    "scope = 'Fbn_CE'\n",
    "result = load_from_data_frame(\n",
    "    api_factory=api_factory,\n",
    "    scope=scope,\n",
    "    data_frame=portfolio_df,\n",
    "    mapping_required={\n",
    "        \"code\": \"code\",\n",
    "        \"display_name\": \"display_name\",\n",
    "        \"base_currency\": \"base_currency\"\n",
    "    },\n",
    "    mapping_optional={\n",
    "        \"created\": \"$2020-01-01T00:00:00+00:00\"\n",
    "    },\n",
    "    file_type=\"portfolios\",\n",
    ")\n",
    "\n",
    "succ, failed = format_portfolios_response(result)\n",
    "pd.DataFrame(data=[{\"success\": len(succ), \"failed\": len(failed)}])"
   ]
  },
  {
   "cell_type": "markdown",
   "metadata": {},
   "source": [
    "# 2. Create Custom Entity Portfolio_DataQuality<a class=\"anchor\" id=\"-Create-CustomEntities\"></a>\n",
    "\n",
    "This section creates a new Entity type modeling attributes needed to check a portfolio data quality. You can learn about Lusid Custom Entities [here](https://support.lusid.com/knowledgebase/article/KA-01750/en-us)."
   ]
  },
  {
   "cell_type": "code",
   "execution_count": 4,
   "metadata": {},
   "outputs": [
    {
     "name": "stdout",
     "output_type": "stream",
     "text": [
      "Custom Entity Portfolio_DataQuality already exists\n"
     ]
    }
   ],
   "source": [
    "#create a new custom entity definition Portfolio_DataQuality\n",
    "\n",
    "custom_entity_definitions_api = api_factory.build(lu.CustomEntityDefinitionsApi)\n",
    "\n",
    "entity_type_name = 'Portfolio_DataQuality'\n",
    "display_name = 'Portfolio DataQuality'\n",
    "description = 'Defines the quality of the associated Portfolio'\n",
    "field_schema = [\n",
    "    lm.CustomEntityFieldDefinition(name='portfolioCode', lifetime='Perpetual', type = 'String', required=True),\n",
    "    lm.CustomEntityFieldDefinition(name='effectiveDate', lifetime='Perpetual', type = 'DateTime', required=True),\n",
    "    lm.CustomEntityFieldDefinition(name='returnsDataNOFReceived', lifetime='Perpetual', type = 'Boolean', required=False),\n",
    "    lm.CustomEntityFieldDefinition(name='returnsDataGOFReceived', lifetime='Perpetual', type = 'Boolean', required=False),\n",
    "    lm.CustomEntityFieldDefinition(name='performanceDataQuality', lifetime='Perpetual', type = 'String', required=False),\n",
    "    lm.CustomEntityFieldDefinition(name='holdingDataReceived', lifetime='Perpetual', type = 'Boolean', required=False),\n",
    "    lm.CustomEntityFieldDefinition(name='unitPriceDataReceived', lifetime='Perpetual', type = 'Boolean', required=False)\n",
    "]\n",
    "\n",
    "try:\n",
    "    new_definition_response = custom_entity_definitions_api.create_custom_entity_definition(\n",
    "        lm.CustomEntityDefinitionRequest(entity_type_name,display_name,description,field_schema))\n",
    "\n",
    "    print(f'Custom Entity {new_definition_response.entity_type} has been created')\n",
    "    \n",
    "except lu.ApiException as e:\n",
    "    if json.loads(e.body)[\"code\"] != 791: # CustomEntityDefinitionAlreadyExists\n",
    "        raise e\n",
    "        \n",
    "    print(f'Custom Entity {entity_type_name} already exists')\n",
    "    "
   ]
  },
  {
   "cell_type": "markdown",
   "metadata": {},
   "source": [
    "In order to upsert and retrieve Custom Entities, we need to set up a new Identifier Property named `portfolioDqId`. This will be used to uniquely identify Custom Entities instances."
   ]
  },
  {
   "cell_type": "code",
   "execution_count": 5,
   "metadata": {},
   "outputs": [
    {
     "name": "stdout",
     "output_type": "stream",
     "text": [
      "Property CustomEntity/Fbn_CE/portfolioDqId already exists\n"
     ]
    }
   ],
   "source": [
    "#create a unique identifier for Portfolio_DataQuality\n",
    "\n",
    "property_definitions_api = api_factory.build(lu.PropertyDefinitionsApi)\n",
    "\n",
    "property_definition = lm.CreatePropertyDefinitionRequest(\n",
    "    domain=\"CustomEntity\",\n",
    "    scope=scope,\n",
    "    code='portfolioDqId',\n",
    "    display_name='Portfolio_DataQuality Id',\n",
    "    constraint_style=\"Identifier\",\n",
    "    data_type_id=lm.ResourceId(scope=\"system\", code=\"string\"),\n",
    ")\n",
    "\n",
    "try:\n",
    "    property_definitions_api.create_property_definition(\n",
    "        create_property_definition_request=property_definition\n",
    "    )\n",
    "except lu.ApiException as e:\n",
    "    if json.loads(e.body)[\"name\"] == \"PropertyAlreadyExists\":\n",
    "        print(\n",
    "            f\"Property {property_definition.domain}/{property_definition.scope}/{property_definition.code} already exists\"\n",
    "        )\n"
   ]
  },
  {
   "cell_type": "markdown",
   "metadata": {},
   "source": [
    "We can now upsert `~Portfolio_DataQuality` instances for PortfolioX and PortfolioY. Each instance represents a data quality check for one portfolio on a specific day."
   ]
  },
  {
   "cell_type": "code",
   "execution_count": 6,
   "metadata": {},
   "outputs": [
    {
     "name": "stdout",
     "output_type": "stream",
     "text": [
      "Data Quality with portfolioDqId: port-dq-check-Fbn_CE-PortfolioX-2022-06-06 has been created\n",
      "Data Quality with portfolioDqId: port-dq-check-Fbn_CE-PortfolioX-2022-06-07 has been created\n",
      "Data Quality with portfolioDqId: port-dq-check-Fbn_CE-PortfolioX-2022-06-08 has been created\n",
      "Data Quality with portfolioDqId: port-dq-check-Fbn_CE-PortfolioY-2022-06-06 has been created\n"
     ]
    }
   ],
   "source": [
    "#upsert Portfolio_DataQuality instances\n",
    "\n",
    "def create_data_quality_entity(scope,portfolioCode,effective_date,display_name,\n",
    "    returnsDataNOFReceived,returnsDataGOFReceived,performanceDataQuality,holdingDataReceived,unitPriceDataReceived):\n",
    "    try:\n",
    "        custom_entities_api = api_factory.build(lu.CustomEntitiesApi)\n",
    "\n",
    "        custom_entity_id= lm.CustomEntityId(\n",
    "            identifier_scope= scope,\n",
    "            identifier_type='portfolioDqId',\n",
    "            identifier_value=f'port-dq-check-{scope}-{portfolioCode}-{effective_date}')\n",
    "        fields = [\n",
    "            lm.CustomEntityField('portfolioCode',portfolioCode),\n",
    "            lm.CustomEntityField('effectiveDate',effective_date),\n",
    "            lm.CustomEntityField('returnsDataNOFReceived',returnsDataNOFReceived),\n",
    "            lm.CustomEntityField('returnsDataGOFReceived',returnsDataGOFReceived),\n",
    "            lm.CustomEntityField('performanceDataQuality',performanceDataQuality),\n",
    "            lm.CustomEntityField('holdingDataReceived',holdingDataReceived),\n",
    "            lm.CustomEntityField('unitPriceDataReceived',unitPriceDataReceived)\n",
    "        ]\n",
    "\n",
    "        custom_entities_api.upsert_custom_entity('~Portfolio_DataQuality',lm.CustomEntityRequest(\n",
    "            display_name=display_name,\n",
    "            description=f'Data Quality of {portfolioCode} on {effective_date}',\n",
    "            identifiers=[custom_entity_id],\n",
    "            fields=fields\n",
    "        ))\n",
    "\n",
    "        print(f\"Data Quality with portfolioDqId: port-dq-check-{scope}-{portfolioCode}-{effective_date} has been created\")\n",
    "\n",
    "    except lu.ApiException as e:\n",
    "        body = json.loads(e.body)\n",
    "        if body[\"code\"] != 667:  # RelationDefinitionAlreadyExists\n",
    "            print(body)\n",
    "        else:\n",
    "            print(body['title'])\n",
    "\n",
    "#DataQuality of Portfolio X\n",
    "create_data_quality_entity(scope,'PortfolioX', date(2022, 6, 6), 'PortfolioX DQ', \n",
    "    False, False, 'Nothing to report',False, False)\n",
    "create_data_quality_entity(scope,'PortfolioX', date(2022, 6, 7), 'PortfolioX DQ', \n",
    "    False, True, 'Nothing to report',False, False)\n",
    "create_data_quality_entity(scope,'PortfolioX', date(2022, 6, 8), 'PortfolioX DQ', \n",
    "    True, True, 'Nothing to report',True, False)\n",
    "\n",
    "#DataQuality of Portfolio Y\n",
    "create_data_quality_entity(scope,'PortfolioY', date(2022, 6, 6), 'PortfolioY DQ', \n",
    "    True, True, 'Quality approved',False, False)"
   ]
  },
  {
   "cell_type": "markdown",
   "metadata": {},
   "source": [
    "# 3. Display Portfolios Data Quality<a class=\"anchor\" id=\"-Display-DataQuality\"></a>\n",
    "\n",
    "`CustomEntitiesApi` allows to query  custom entities by specifying a type and a filter. Here, we get ~Portfolio_DataQuality instances where portfolioCode field equals 'PortfolioX'."
   ]
  },
  {
   "cell_type": "code",
   "execution_count": 7,
   "metadata": {},
   "outputs": [
    {
     "data": {
      "text/html": [
       "<div>\n",
       "<style scoped>\n",
       "    .dataframe tbody tr th:only-of-type {\n",
       "        vertical-align: middle;\n",
       "    }\n",
       "\n",
       "    .dataframe tbody tr th {\n",
       "        vertical-align: top;\n",
       "    }\n",
       "\n",
       "    .dataframe thead th {\n",
       "        text-align: right;\n",
       "    }\n",
       "</style>\n",
       "<table border=\"1\" class=\"dataframe\">\n",
       "  <thead>\n",
       "    <tr style=\"text-align: right;\">\n",
       "      <th></th>\n",
       "      <th>effectiveDate</th>\n",
       "      <th>holdingDataReceived</th>\n",
       "      <th>performanceDataQuality</th>\n",
       "      <th>portfolioCode</th>\n",
       "      <th>returnsDataGOFReceived</th>\n",
       "      <th>returnsDataNOFReceived</th>\n",
       "      <th>unitPriceDataReceived</th>\n",
       "    </tr>\n",
       "  </thead>\n",
       "  <tbody>\n",
       "    <tr>\n",
       "      <th>port-dq-check-Fbn_CE-PortfolioX-2022-06-06</th>\n",
       "      <td>2022-06-06T00:00:00.0000000+00:00</td>\n",
       "      <td>False</td>\n",
       "      <td>Nothing to report</td>\n",
       "      <td>PortfolioX</td>\n",
       "      <td>False</td>\n",
       "      <td>False</td>\n",
       "      <td>False</td>\n",
       "    </tr>\n",
       "    <tr>\n",
       "      <th>port-dq-check-Fbn_CE-PortfolioX-2022-06-07</th>\n",
       "      <td>2022-06-07T00:00:00.0000000+00:00</td>\n",
       "      <td>False</td>\n",
       "      <td>Nothing to report</td>\n",
       "      <td>PortfolioX</td>\n",
       "      <td>True</td>\n",
       "      <td>False</td>\n",
       "      <td>False</td>\n",
       "    </tr>\n",
       "    <tr>\n",
       "      <th>port-dq-check-Fbn_CE-PortfolioX-2022-06-08</th>\n",
       "      <td>2022-06-08T00:00:00.0000000+00:00</td>\n",
       "      <td>True</td>\n",
       "      <td>Nothing to report</td>\n",
       "      <td>PortfolioX</td>\n",
       "      <td>True</td>\n",
       "      <td>True</td>\n",
       "      <td>False</td>\n",
       "    </tr>\n",
       "  </tbody>\n",
       "</table>\n",
       "</div>"
      ],
      "text/plain": [
       "                                                                effectiveDate   \n",
       "port-dq-check-Fbn_CE-PortfolioX-2022-06-06  2022-06-06T00:00:00.0000000+00:00  \\\n",
       "port-dq-check-Fbn_CE-PortfolioX-2022-06-07  2022-06-07T00:00:00.0000000+00:00   \n",
       "port-dq-check-Fbn_CE-PortfolioX-2022-06-08  2022-06-08T00:00:00.0000000+00:00   \n",
       "\n",
       "                                            holdingDataReceived   \n",
       "port-dq-check-Fbn_CE-PortfolioX-2022-06-06                False  \\\n",
       "port-dq-check-Fbn_CE-PortfolioX-2022-06-07                False   \n",
       "port-dq-check-Fbn_CE-PortfolioX-2022-06-08                 True   \n",
       "\n",
       "                                           performanceDataQuality   \n",
       "port-dq-check-Fbn_CE-PortfolioX-2022-06-06      Nothing to report  \\\n",
       "port-dq-check-Fbn_CE-PortfolioX-2022-06-07      Nothing to report   \n",
       "port-dq-check-Fbn_CE-PortfolioX-2022-06-08      Nothing to report   \n",
       "\n",
       "                                           portfolioCode   \n",
       "port-dq-check-Fbn_CE-PortfolioX-2022-06-06    PortfolioX  \\\n",
       "port-dq-check-Fbn_CE-PortfolioX-2022-06-07    PortfolioX   \n",
       "port-dq-check-Fbn_CE-PortfolioX-2022-06-08    PortfolioX   \n",
       "\n",
       "                                            returnsDataGOFReceived   \n",
       "port-dq-check-Fbn_CE-PortfolioX-2022-06-06                   False  \\\n",
       "port-dq-check-Fbn_CE-PortfolioX-2022-06-07                    True   \n",
       "port-dq-check-Fbn_CE-PortfolioX-2022-06-08                    True   \n",
       "\n",
       "                                            returnsDataNOFReceived   \n",
       "port-dq-check-Fbn_CE-PortfolioX-2022-06-06                   False  \\\n",
       "port-dq-check-Fbn_CE-PortfolioX-2022-06-07                   False   \n",
       "port-dq-check-Fbn_CE-PortfolioX-2022-06-08                    True   \n",
       "\n",
       "                                            unitPriceDataReceived  \n",
       "port-dq-check-Fbn_CE-PortfolioX-2022-06-06                  False  \n",
       "port-dq-check-Fbn_CE-PortfolioX-2022-06-07                  False  \n",
       "port-dq-check-Fbn_CE-PortfolioX-2022-06-08                  False  "
      ]
     },
     "execution_count": 7,
     "metadata": {},
     "output_type": "execute_result"
    }
   ],
   "source": [
    "#retrieve DataQuality of Portfolio X\n",
    "custom_entities_api = api_factory.build(lu.CustomEntitiesApi)\n",
    "data_quality_list = custom_entities_api.list_custom_entities(\n",
    "    entity_type = \"~Portfolio_DataQuality\", \n",
    "    filter = \"fields[portfolioCode] eq 'PortfolioX'\").values\n",
    "\n",
    "output_data_quality = {dq.name:[] for dq in data_quality_list[0].fields}\n",
    "identifiers = []\n",
    "\n",
    "for dq in data_quality_list:\n",
    "    identifiers.append(dq.identifiers[0].identifier_value)\n",
    "    for f in dq.fields:\n",
    "        output_data_quality[f.name].append(f.value)\n",
    "\n",
    " \n",
    "pd.DataFrame(output_data_quality, index = identifiers)"
   ]
  },
  {
   "cell_type": "markdown",
   "metadata": {},
   "source": [
    "# 4. Create Relationship {Portfolio_DataQuality, Portfolio}<a class=\"anchor\" id=\"-Create-Relationships\"></a>\n",
    "\n",
    "Relationships provide a means to link ~Portfolio_DataQuality Custom Entity and Portfolio Entity. In this example, we can have multiple ~Portfolio_DataQuality instances associated with one Portfolio, which represents one data quality check per day. You can find more about Relationships [here](https://support.lusid.com/knowledgebase/article/KA-01679/)."
   ]
  },
  {
   "cell_type": "code",
   "execution_count": 8,
   "metadata": {},
   "outputs": [
    {
     "name": "stdout",
     "output_type": "stream",
     "text": [
      "Relation definition with scope 'Fbn_CE' and code 'Data_Quality' already exists\n"
     ]
    }
   ],
   "source": [
    "#create a new relationship deinition between Portfolio and Portfolio_DataQuality\n",
    "\n",
    "relationship_definitions_api = api_factory.build(lu.RelationshipDefinitionsApi)\n",
    "\n",
    "try:\n",
    "    relationship_response = relationship_definitions_api.create_relationship_definition(\n",
    "        lm.CreateRelationshipDefinitionRequest(\n",
    "            scope = scope,\n",
    "            code = 'Data_Quality',\n",
    "            source_entity_type = '~Portfolio_DataQuality',\n",
    "            target_entity_type = 'Portfolio',\n",
    "            display_name = 'Data Quality',\n",
    "            outward_description = 'checks',\n",
    "            inward_description = 'is checked by',\n",
    "            life_time = 'Perpetual',\n",
    "            relationship_cardinality = 'ManyToOne'\n",
    "        )\n",
    "    )\n",
    "    print(f'Relationship definition {relationship_response.relationship_definition_id} has been created ')\n",
    "except lu.ApiException as e:\n",
    "    body = json.loads(e.body)\n",
    "    if body[\"code\"] != 667:  # RelationDefinitionAlreadyExists\n",
    "        print(body)\n",
    "    else:\n",
    "        print(body['title'])"
   ]
  },
  {
   "cell_type": "markdown",
   "metadata": {},
   "source": [
    "After creating `Data_Quality` relationship definition, we can now link ~Portfolio_DataQuality instances to PortfolioX and PortfolioY."
   ]
  },
  {
   "cell_type": "code",
   "execution_count": 9,
   "metadata": {},
   "outputs": [
    {
     "name": "stdout",
     "output_type": "stream",
     "text": [
      "relationship Data_Quality: {'identifierScope': 'Fbn_CE', 'identifierType': 'portfolioDqId', 'identifierValue': 'port-dq-check-Fbn_CE-PortfolioX-2022-06-06'} - {'scope': 'Fbn_CE', 'code': 'PortfolioX'} has been created.\n",
      "relationship Data_Quality: {'identifierScope': 'Fbn_CE', 'identifierType': 'portfolioDqId', 'identifierValue': 'port-dq-check-Fbn_CE-PortfolioX-2022-06-07'} - {'scope': 'Fbn_CE', 'code': 'PortfolioX'} has been created.\n",
      "relationship Data_Quality: {'identifierScope': 'Fbn_CE', 'identifierType': 'portfolioDqId', 'identifierValue': 'port-dq-check-Fbn_CE-PortfolioX-2022-06-08'} - {'scope': 'Fbn_CE', 'code': 'PortfolioX'} has been created.\n",
      "relationship Data_Quality: {'identifierScope': 'Fbn_CE', 'identifierType': 'portfolioDqId', 'identifierValue': 'port-dq-check-Fbn_CE-PortfolioY-2022-06-06'} - {'scope': 'Fbn_CE', 'code': 'PortfolioY'} has been created.\n"
     ]
    }
   ],
   "source": [
    "#apply relationships instances {PortfolioX, PortfolioX DQ} and {PortfolioY, PortfolioY DQ}\n",
    "def create_dataquality_relationship (portfolio_scope,portfolio_code,portfolio_DQ_scope, portfolio_DQ_code):\n",
    "    relationships_api = api_factory.build(lu.RelationshipsApi)\n",
    "\n",
    "    relationship_scope = scope\n",
    "    relationship_code = 'Data_Quality'\n",
    "\n",
    "    source_entity_id =  {\n",
    "        'idTypeScope': portfolio_DQ_scope,\n",
    "        'idTypeCode': 'portfolioDqId',\n",
    "        'code':portfolio_DQ_code}\n",
    "    target_entity_id = {\n",
    "        'scope': portfolio_scope,\n",
    "        'code': portfolio_code}\n",
    "    try:\n",
    "        response = relationships_api.create_relationship(\n",
    "            relationship_scope,\n",
    "            relationship_code,\n",
    "            lm.CreateRelationshipRequest(\n",
    "                source_entity_id = source_entity_id,\n",
    "                target_entity_id = target_entity_id\n",
    "            ))\n",
    "        print(f'relationship {response.relationship_definition_id.code}: {response.source_entity.entity_id} - {response.target_entity.entity_id} has been created.')\n",
    "    except lu.ApiException as e:\n",
    "        body = json.loads(e.body)\n",
    "        if body[\"code\"] != 667:  # RelationDefinitionAlreadyExists\n",
    "            print(body)\n",
    "        else:\n",
    "            print(body['title'])\n",
    "\n",
    "#create relationship  {PortfolioX, PortfolioX DQ}\n",
    "create_dataquality_relationship(scope,'PortfolioX',scope,'port-dq-check-Fbn_CE-PortfolioX-2022-06-06')\n",
    "create_dataquality_relationship(scope,'PortfolioX',scope,'port-dq-check-Fbn_CE-PortfolioX-2022-06-07')\n",
    "create_dataquality_relationship(scope,'PortfolioX',scope,'port-dq-check-Fbn_CE-PortfolioX-2022-06-08')  \n",
    "\n",
    "#create relationship  {PortfolioY, PortfolioY DQ}\n",
    "create_dataquality_relationship(scope,'PortfolioY',scope,'port-dq-check-Fbn_CE-PortfolioY-2022-06-06')\n",
    "\n"
   ]
  },
  {
   "cell_type": "markdown",
   "metadata": {},
   "source": [
    "# 5. Display Portfolio relationships<a class=\"anchor\" id=\"-Display-Relationships\"></a>\n",
    "\n",
    "Using `PortfoliosApi`, we can easily retrieve all Entities (native and custom) linked to a Portfolio. Here, we get all relationships involving PortfolioX. This can be used to get ~Portfolio_DataQuality unique identifiers."
   ]
  },
  {
   "cell_type": "code",
   "execution_count": 10,
   "metadata": {},
   "outputs": [
    {
     "data": {
      "text/html": [
       "<div>\n",
       "<style scoped>\n",
       "    .dataframe tbody tr th:only-of-type {\n",
       "        vertical-align: middle;\n",
       "    }\n",
       "\n",
       "    .dataframe tbody tr th {\n",
       "        vertical-align: top;\n",
       "    }\n",
       "\n",
       "    .dataframe thead th {\n",
       "        text-align: right;\n",
       "    }\n",
       "</style>\n",
       "<table border=\"1\" class=\"dataframe\">\n",
       "  <thead>\n",
       "    <tr style=\"text-align: right;\">\n",
       "      <th></th>\n",
       "      <th>enity_type</th>\n",
       "      <th>relationship_definition_id</th>\n",
       "      <th>related_enity_identifier</th>\n",
       "    </tr>\n",
       "  </thead>\n",
       "  <tbody>\n",
       "    <tr>\n",
       "      <th>0</th>\n",
       "      <td>~Portfolio_DataQuality</td>\n",
       "      <td>Fbn_CE/Data_Quality</td>\n",
       "      <td>Fbn_CE/portfolioDqId/port-dq-check-Fbn_CE-PortfolioX-2022-06-08</td>\n",
       "    </tr>\n",
       "    <tr>\n",
       "      <th>1</th>\n",
       "      <td>~Portfolio_DataQuality</td>\n",
       "      <td>Fbn_CE/Data_Quality</td>\n",
       "      <td>Fbn_CE/portfolioDqId/port-dq-check-Fbn_CE-PortfolioX-2022-06-06</td>\n",
       "    </tr>\n",
       "    <tr>\n",
       "      <th>2</th>\n",
       "      <td>~Portfolio_DataQuality</td>\n",
       "      <td>Fbn_CE/Data_Quality</td>\n",
       "      <td>Fbn_CE/portfolioDqId/port-dq-check-Fbn_CE-PortfolioX-2022-06-07</td>\n",
       "    </tr>\n",
       "  </tbody>\n",
       "</table>\n",
       "</div>"
      ],
      "text/plain": [
       "               enity_type relationship_definition_id   \n",
       "0  ~Portfolio_DataQuality        Fbn_CE/Data_Quality  \\\n",
       "1  ~Portfolio_DataQuality        Fbn_CE/Data_Quality   \n",
       "2  ~Portfolio_DataQuality        Fbn_CE/Data_Quality   \n",
       "\n",
       "                                          related_enity_identifier  \n",
       "0  Fbn_CE/portfolioDqId/port-dq-check-Fbn_CE-PortfolioX-2022-06-08  \n",
       "1  Fbn_CE/portfolioDqId/port-dq-check-Fbn_CE-PortfolioX-2022-06-06  \n",
       "2  Fbn_CE/portfolioDqId/port-dq-check-Fbn_CE-PortfolioX-2022-06-07  "
      ]
     },
     "execution_count": 10,
     "metadata": {},
     "output_type": "execute_result"
    }
   ],
   "source": [
    "#get portfolio relationships\n",
    "portfolios_api = api_factory.build(lu.PortfoliosApi)\n",
    "\n",
    "relationships = portfolios_api.get_portfolio_relationships(scope,'PortfolioX').values\n",
    "column1 = 'enity_type' \n",
    "column2 = 'relationship_definition_id'\n",
    "column3 = 'related_enity_identifier'\n",
    "\n",
    "output_relationships = {column1:[], column2:[], column3:[]}\n",
    "\n",
    "for relationship in relationships:\n",
    "    output_relationships[column1].append(relationship.related_entity.entity_type)\n",
    "    output_relationships[column2].append(f'{relationship.relationship_definition_id.scope}/{relationship.relationship_definition_id.code}')\n",
    "    output_relationships[column3].append(f'{relationship.related_entity.identifiers[0].identifier_scope}/{relationship.related_entity.identifiers[0].identifier_type}/{relationship.related_entity.identifiers[0].identifier_value}')\n",
    "\n",
    "pd.DataFrame(output_relationships)\n"
   ]
  },
  {
   "cell_type": "code",
   "execution_count": null,
   "metadata": {},
   "outputs": [],
   "source": []
  }
 ],
 "metadata": {
  "interpreter": {
   "hash": "9650cb4e16cdd4a8e8e2d128bf38d875813998db22a3c986335f89e0cb4d7bb2"
  },
  "kernelspec": {
   "display_name": "Python 3 (ipykernel)",
   "language": "python",
   "name": "python3"
  },
  "language_info": {
   "codemirror_mode": {
    "name": "ipython",
    "version": 3
   },
   "file_extension": ".py",
   "mimetype": "text/x-python",
   "name": "python",
   "nbconvert_exporter": "python",
   "pygments_lexer": "ipython3",
   "version": "3.10.10"
  },
  "toc": {
   "base_numbering": 1,
   "nav_menu": {},
   "number_sections": false,
   "sideBar": true,
   "skip_h1_title": false,
   "title_cell": "Table of Contents",
   "title_sidebar": "Contents",
   "toc_cell": false,
   "toc_position": {},
   "toc_section_display": true,
   "toc_window_display": false
  },
  "varInspector": {
   "cols": {
    "lenName": 16,
    "lenType": 16,
    "lenVar": 40
   },
   "kernels_config": {
    "python": {
     "delete_cmd_postfix": "",
     "delete_cmd_prefix": "del ",
     "library": "var_list.py",
     "varRefreshCmd": "print(var_dic_list())"
    },
    "r": {
     "delete_cmd_postfix": ") ",
     "delete_cmd_prefix": "rm(",
     "library": "var_list.r",
     "varRefreshCmd": "cat(var_dic_list()) "
    }
   },
   "types_to_exclude": [
    "module",
    "function",
    "builtin_function_or_method",
    "instance",
    "_Feature"
   ],
   "window_display": false
  }
 },
 "nbformat": 4,
 "nbformat_minor": 2
}
