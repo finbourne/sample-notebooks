{
 "cells": [
  {
   "cell_type": "markdown",
   "metadata": {},
   "source": [
    "## Portfolios and Portfolio Groups"
   ]
  },
  {
   "cell_type": "markdown",
   "metadata": {},
   "source": [
    "Portfolios are the main containers for transactions and holdings, and come in multiple forms based on hierarchy and use case. The basic portfolio types are :\n",
    "- Transaction Portfolios\n",
    "- Reference Portfolios\n",
    "- Derived Portfolios\n",
    "\n",
    "These portfolios can then be grouped, where portfolio operations on the group are applied to an aggregated set of portfolios in the hierarchy.\n",
    "\n",
    "This example will show how to :\n",
    "1. Create Transactions Portfolios\n",
    "2. Create Derived Portfolios\n",
    "3. (add/get/delete portfolio properties and details)\n",
    "4. Create portfolio Groups\n",
    "5. Add portfolios to a Group\n",
    "6. Add a group to a group (creation of subgroups)\n",
    "7. Modify groups\n",
    "8. Remove portfolios and subgroups from groups\n",
    "9. Delete portfolios\n",
    "10. Delete groups\n",
    "11. Get all the commands applied to a group or portfolio\n",
    "12. List all the groups and portfolios in a scope"
   ]
  },
  {
   "cell_type": "markdown",
   "metadata": {},
   "source": [
    "Initialise our environment and connect to LUSID"
   ]
  },
  {
   "cell_type": "code",
   "execution_count": 122,
   "metadata": {},
   "outputs": [
    {
     "name": "stdout",
     "output_type": "stream",
     "text": [
      "LUSID Environment Initialised\n",
      "LUSID version :  0.9.134\n"
     ]
    }
   ],
   "source": [
    "# Import LUSID\n",
    "import lusid\n",
    "import lusid.models as models\n",
    "import lusid_sample_data as import_data\n",
    "# Import Libraries\n",
    "import pprint\n",
    "from datetime import datetime, timedelta, time\n",
    "import pytz\n",
    "import uuid\n",
    "import printer as prettyprint\n",
    "from datetime import datetime\n",
    "import pandas as pd\n",
    "import numpy as np\n",
    "import os\n",
    "from msrest.authentication import BasicTokenAuthentication\n",
    "\n",
    "# Authenticate our user and create our API client\n",
    "client = import_data.authenticate_secrets()\n",
    "\n",
    "print ('LUSID Environment Initialised')\n",
    "print ('LUSID version : ', client.api_version)"
   ]
  },
  {
   "cell_type": "markdown",
   "metadata": {},
   "source": [
    "First we start by loading some default portfolios, we will put them in two different scopes to demonstrate the separation between scopes and the usage of different scopes within portfolio groups.\n",
    "\n",
    "- Note: In order to demonstrate the deletion more clearly at then end of this example, run the portfolio creation more than once, and the derived portfolio creation 2-3 times as well, this will create a population of unnecessary portfolios that can be safely removed without affecting the portfolios of interest. It is not necessary to "
   ]
  },
  {
   "cell_type": "markdown",
   "metadata": {},
   "source": [
    "### Initial Setup"
   ]
  },
  {
   "cell_type": "code",
   "execution_count": 123,
   "metadata": {},
   "outputs": [
    {
     "name": "stdout",
     "output_type": "stream",
     "text": [
      "                 scope    code      display_name base_currency\n",
      "0  portfolio_demo_main  main_1  main_portfolio-1           GBP\n",
      "1  portfolio_demo_main  main_2  main_portfolio-2           GBP\n",
      "2  portfolio_demo_main  main_3  main_portfolio-3           GBP\n",
      "3  portfolio_demo_main  main_4  main_portfolio-4           GBP\n",
      "4  portfolio_demo_main  main_5  main_portfolio-5           GBP\n",
      "\n",
      "number of columns :  4\n",
      "column names :  Index(['scope', 'code', 'display_name', 'base_currency'], dtype='object')\n"
     ]
    }
   ],
   "source": [
    "# Use pandas to read a csv containing the information needed to create some portfolios\n",
    "df = pd.read_csv(\"data/dummy_portfolios.csv\")\n",
    "print(df.head())\n",
    "\n",
    "# We can also save the headers to a separate variable for easier use\n",
    "print('')\n",
    "headers = df.columns\n",
    "print(\"number of columns : \", headers.size)\n",
    "print(\"column names : \", headers)\n"
   ]
  },
  {
   "cell_type": "code",
   "execution_count": 124,
   "metadata": {},
   "outputs": [
    {
     "name": "stdout",
     "output_type": "stream",
     "text": [
      "Scope1 :  portfolio_demo_main\n",
      "Scope2 :  portfolio_demo_second\n"
     ]
    }
   ],
   "source": [
    "# Create a transaction Portfolio - extract the scopes from the csv\n",
    "distinct_scopes = df['scope'].unique()\n",
    "scope1 = distinct_scopes[0]\n",
    "scope2 = distinct_scopes[1]\n",
    "print (\"Scope1 : \", scope1)\n",
    "print (\"Scope2 : \", scope2)"
   ]
  },
  {
   "cell_type": "code",
   "execution_count": 132,
   "metadata": {},
   "outputs": [],
   "source": [
    "# The following function creates a random alphanumeric code of 4 characters that can be appended to Ids \n",
    "# and Names to ensure they remain unique throughout multiple runs of this example\n",
    "def GetGuid():\n",
    "    return str(uuid.uuid4())[:4]\n",
    "\n",
    "# The following function will create portfolios from our dataframe of csv data\n",
    "def CreatePortfolioFromDataframe(df):\n",
    "    effective_date = datetime(2018, 1, 1, tzinfo=pytz.utc)\n",
    "    list_results = []\n",
    "    for index, row in df.iterrows():\n",
    "        print(\"Creating portfolio \", index)\n",
    "        #print(row[headers[0]], row[headers[1]], row[headers[2]], row[headers[3]])\n",
    "        guid = GetGuid()\n",
    "        request = models.CreateTransactionPortfolioRequest(\n",
    "            code = row[headers[1]]+guid,\n",
    "            display_name = row[headers[2]]+guid,\n",
    "            base_currency = row[headers[3]],\n",
    "            created = effective_date,\n",
    "            description = None, \n",
    "            corporate_action_source_id = None, \n",
    "            accounting_method = None, \n",
    "            sub_holding_keys = None, \n",
    "            properties = None)\n",
    "        result = client.create_portfolio(\n",
    "            scope = row[headers[0]], \n",
    "            create_request = request)\n",
    "        list_results.append(result)\n",
    "        print('...')\n",
    "    return list_results\n",
    "\n",
    "# The following function extracts resource ids from a list of portfolios\n",
    "def GetResourceIdsFromResponse(responses):\n",
    "    resource_id_list = []\n",
    "    for portfolio in responses:\n",
    "        resource_id_list.append(portfolio.id)\n",
    "    return resource_id_list\n",
    "\n",
    "# The following function prints the details obtained from 'GetPortfolioGroup'\n",
    "def PrintGetPortfolioGroupResponse(response):\n",
    "    print ('Name: ' + response.display_name)\n",
    "    print ('Scope: ' + response.id.scope)\n",
    "    print ('Code: ' + response.id.code)\n",
    "    print ('Portfolios Inside Group: ')\n",
    "    for portfolios in response.portfolios:\n",
    "        print (portfolios.code)\n",
    "    print ('Subgroups Inside Group: ')\n",
    "    for subgroup in response.sub_groups:\n",
    "        print (subgroup.code)\n",
    "        \n",
    "def portfolio_details_response(response):\n",
    "    print(response.origin_portfolio_id.scope)\n",
    "    print(response.origin_portfolio_id.code)\n",
    "    print(response.base_currency)\n",
    "    if hasattr(response, 'accounting_method'):\n",
    "        print(response.accounting_method)\n",
    "    if hasattr(response, 'corporate_action_source_id'):\n",
    "        print(response.corporate_action_source_id)\n",
    "    print('')"
   ]
  },
  {
   "cell_type": "markdown",
   "metadata": {},
   "source": [
    "We begin by upserting the csv data into LUSID in the form of new transaction portfolios"
   ]
  },
  {
   "cell_type": "code",
   "execution_count": 133,
   "metadata": {},
   "outputs": [
    {
     "name": "stdout",
     "output_type": "stream",
     "text": [
      "Creating portfolio  0\n",
      "...\n",
      "Creating portfolio  1\n",
      "...\n",
      "Creating portfolio  2\n",
      "...\n",
      "Creating portfolio  3\n",
      "...\n",
      "Creating portfolio  4\n",
      "...\n",
      "Creating portfolio  5\n",
      "...\n",
      "Creating portfolio  6\n",
      "...\n",
      "Creating portfolio  7\n",
      "...\n",
      "\u001b[1mPortfolio Created\u001b[0m\n",
      "\u001b[1mScope: \u001b[0mportfolio_demo_main\n",
      "\u001b[1mCode: \u001b[0mmain_105e4\n",
      "\u001b[1mPortfolio Effective From: \u001b[0m2018-01-01 00:00:00+00:00\n",
      "\u001b[1mPortfolio Created On: \u001b[0m2019-02-18 13:27:40.086152+00:00\n",
      "\n",
      "\u001b[1mPortfolio Created\u001b[0m\n",
      "\u001b[1mScope: \u001b[0mportfolio_demo_main\n",
      "\u001b[1mCode: \u001b[0mmain_225a2\n",
      "\u001b[1mPortfolio Effective From: \u001b[0m2018-01-01 00:00:00+00:00\n",
      "\u001b[1mPortfolio Created On: \u001b[0m2019-02-18 13:27:40.508499+00:00\n",
      "\n",
      "\u001b[1mPortfolio Created\u001b[0m\n",
      "\u001b[1mScope: \u001b[0mportfolio_demo_main\n",
      "\u001b[1mCode: \u001b[0mmain_3ea4e\n",
      "\u001b[1mPortfolio Effective From: \u001b[0m2018-01-01 00:00:00+00:00\n",
      "\u001b[1mPortfolio Created On: \u001b[0m2019-02-18 13:27:41.010701+00:00\n",
      "\n",
      "\u001b[1mPortfolio Created\u001b[0m\n",
      "\u001b[1mScope: \u001b[0mportfolio_demo_main\n",
      "\u001b[1mCode: \u001b[0mmain_420cd\n",
      "\u001b[1mPortfolio Effective From: \u001b[0m2018-01-01 00:00:00+00:00\n",
      "\u001b[1mPortfolio Created On: \u001b[0m2019-02-18 13:27:41.377553+00:00\n",
      "\n",
      "\u001b[1mPortfolio Created\u001b[0m\n",
      "\u001b[1mScope: \u001b[0mportfolio_demo_main\n",
      "\u001b[1mCode: \u001b[0mmain_58ff3\n",
      "\u001b[1mPortfolio Effective From: \u001b[0m2018-01-01 00:00:00+00:00\n",
      "\u001b[1mPortfolio Created On: \u001b[0m2019-02-18 13:27:42.449959+00:00\n",
      "\n",
      "\u001b[1mPortfolio Created\u001b[0m\n",
      "\u001b[1mScope: \u001b[0mportfolio_demo_main\n",
      "\u001b[1mCode: \u001b[0mmain_6bc81\n",
      "\u001b[1mPortfolio Effective From: \u001b[0m2018-01-01 00:00:00+00:00\n",
      "\u001b[1mPortfolio Created On: \u001b[0m2019-02-18 13:27:42.954658+00:00\n",
      "\n",
      "\u001b[1mPortfolio Created\u001b[0m\n",
      "\u001b[1mScope: \u001b[0mportfolio_demo_second\n",
      "\u001b[1mCode: \u001b[0msecond_1884c\n",
      "\u001b[1mPortfolio Effective From: \u001b[0m2018-01-01 00:00:00+00:00\n",
      "\u001b[1mPortfolio Created On: \u001b[0m2019-02-18 13:27:43.349419+00:00\n",
      "\n",
      "\u001b[1mPortfolio Created\u001b[0m\n",
      "\u001b[1mScope: \u001b[0mportfolio_demo_second\n",
      "\u001b[1mCode: \u001b[0msecond_2c207\n",
      "\u001b[1mPortfolio Effective From: \u001b[0m2018-01-01 00:00:00+00:00\n",
      "\u001b[1mPortfolio Created On: \u001b[0m2019-02-18 13:27:43.830222+00:00\n",
      "\n"
     ]
    }
   ],
   "source": [
    "created_portfolios = CreatePortfolioFromDataframe(df)\n",
    "\n",
    "# we can now prettyprint all our portfolio responses to see the info on each new portfolio\n",
    "for portfolio in created_portfolios :\n",
    "    prettyprint.portfolio_response(portfolio)"
   ]
  },
  {
   "cell_type": "markdown",
   "metadata": {},
   "source": [
    "We then create one derived portfolio from the first transaction portfolio created."
   ]
  },
  {
   "cell_type": "code",
   "execution_count": 134,
   "metadata": {},
   "outputs": [
    {
     "name": "stdout",
     "output_type": "stream",
     "text": [
      "\u001b[1mDerived Portfolio Created\u001b[0m\n",
      "\u001b[1mScope: \u001b[0mportfolio_demo_main\n",
      "\u001b[1mCode: \u001b[0mderived_id-aec4\n",
      "\u001b[1mPortfolio Effective From: \u001b[0m2018-01-01 00:00:00+00:00\n",
      "\u001b[1mPortfolio Created On: \u001b[0m2019-02-18 13:27:50.002992+00:00\n",
      "\n",
      "\u001b[1mParent Portfolio Details\u001b[0m\n",
      "\u001b[1mCode: \u001b[0mmain_105e4\n"
     ]
    }
   ],
   "source": [
    "# Create derived transaction portfolio from the first portfolio in the list\n",
    "guid = GetGuid()\n",
    "derived_portfolio_request = models.CreateDerivedTransactionPortfolioRequest(\n",
    "        display_name = \"derived_portfolio-{0}\".format(guid),\n",
    "        code = \"derived_id-{0}\".format(guid),\n",
    "        parent_portfolio_id = models.ResourceId(\n",
    "            scope = created_portfolios[0].id.scope,\n",
    "            code = created_portfolios[0].id.code),\n",
    "        description = \"derived_portfolio_description\",\n",
    "        created = created_portfolios[0].created,\n",
    "        corporate_action_source_id = None, \n",
    "        accounting_method = None, \n",
    "        sub_holding_keys = None)\n",
    "\n",
    "derived_portfolio = client.create_derived_portfolio(\n",
    "    scope = scope1,\n",
    "    portfolio = derived_portfolio_request, \n",
    "    custom_headers = None, \n",
    "    raw = False)\n",
    "\n",
    "prettyprint.portfolio_response(derived_portfolio)"
   ]
  },
  {
   "cell_type": "markdown",
   "metadata": {},
   "source": [
    "A derived portfolio will automatically inherit all of the parent portfolio's details if they are not specified. These details can be modified and/or deleted. \n",
    "Modifying the details on a derived portfolio will not affect the parent portfolio. This is demonstrated in the following cells"
   ]
  },
  {
   "cell_type": "code",
   "execution_count": 135,
   "metadata": {},
   "outputs": [
    {
     "name": "stdout",
     "output_type": "stream",
     "text": [
      "Derived Portfolio Details : \n",
      "portfolio_demo_main\n",
      "main_105e4\n",
      "GBP\n",
      "\n",
      "Parent Portfolio Details : \n",
      "portfolio_demo_main\n",
      "main_105e4\n",
      "GBP\n",
      "\n"
     ]
    }
   ],
   "source": [
    "# First we will get the details for our new derived portfolio \n",
    "# and check they match with the parent portfolio\n",
    "derived_details = client.get_details(\n",
    "    scope = scope1, \n",
    "    code = derived_portfolio.id.code, \n",
    "    effective_at = None, \n",
    "    as_at = None, \n",
    "    custom_headers = None, \n",
    "    raw = False)\n",
    "print(\"Derived Portfolio Details : \")\n",
    "portfolio_details_response(derived_details)\n",
    "\n",
    "print(\"Parent Portfolio Details : \")\n",
    "parent_details = client.get_details(\n",
    "    scope = scope1, \n",
    "    code = created_portfolios[0].id.code, \n",
    "    effective_at = None, \n",
    "    as_at = None, \n",
    "    custom_headers = None, \n",
    "    raw = False)\n",
    "portfolio_details_response(parent_details)"
   ]
  },
  {
   "cell_type": "markdown",
   "metadata": {},
   "source": [
    "Now we can modify the derived portfolio currency so it no longer matches the parent portfolio"
   ]
  },
  {
   "cell_type": "code",
   "execution_count": 136,
   "metadata": {},
   "outputs": [
    {
     "name": "stdout",
     "output_type": "stream",
     "text": [
      "Derived Portfolio Details : \n",
      "portfolio_demo_main\n",
      "derived_id-aec4\n",
      "USD\n",
      "\n",
      "Parent Portfolio Details : \n",
      "portfolio_demo_main\n",
      "main_105e4\n",
      "GBP\n",
      "\n"
     ]
    }
   ],
   "source": [
    "request = models.CreatePortfolioDetails(\n",
    "    base_currency = \"USD\", \n",
    "    corporate_action_source_id = None)\n",
    "response = client.upsert_portfolio_details(\n",
    "    scope = scope1, \n",
    "    code = derived_portfolio.id.code, \n",
    "    details = request, \n",
    "    effective_at = None,\n",
    "    custom_headers = None, \n",
    "    raw = False)\n",
    "print(\"Derived Portfolio Details : \")\n",
    "portfolio_details_response(response)\n",
    "\n",
    "print(\"Parent Portfolio Details : \")\n",
    "parent_details = client.get_details(\n",
    "    scope = scope1, \n",
    "    code = created_portfolios[0].id.code, \n",
    "    effective_at = None, \n",
    "    as_at = None, \n",
    "    custom_headers = None, \n",
    "    raw = False)\n",
    "portfolio_details_response(parent_details)"
   ]
  },
  {
   "cell_type": "markdown",
   "metadata": {},
   "source": [
    "Now if we can delete portfolio details ---I DONT KNOW WHAT THIS DOES OTHER THAN BREAK GETDETAILS---"
   ]
  },
  {
   "cell_type": "code",
   "execution_count": 137,
   "metadata": {},
   "outputs": [
    {
     "name": "stdout",
     "output_type": "stream",
     "text": [
      "Parent Portfolio Details : \n",
      "portfolio_demo_main\n",
      "main_105e4\n",
      "GBP\n",
      "\n"
     ]
    }
   ],
   "source": [
    "response = client.delete_derived_portfolio_details(\n",
    "    scope = scope1, \n",
    "    code = derived_portfolio.id.code, \n",
    "    effective_at = None, \n",
    "    as_at = None, \n",
    "    custom_headers = None, \n",
    "    raw = False)\n",
    "derived_details = client.get_details(\n",
    "    scope = scope1, \n",
    "    code = derived_portfolio.id.code, \n",
    "    effective_at = None, \n",
    "    as_at = None, \n",
    "    custom_headers = None, \n",
    "    raw = False)\n",
    "# print(\"Derived Portfolio Details : \")\n",
    "# portfolio_details_response(derived_details)\n",
    "\n",
    "print(\"Parent Portfolio Details : \")\n",
    "parent_details = client.get_details(\n",
    "    scope = scope1, \n",
    "    code = created_portfolios[0].id.code)\n",
    "portfolio_details_response(parent_details)"
   ]
  },
  {
   "cell_type": "markdown",
   "metadata": {},
   "source": [
    "Next we can create some portfolio groups, add the portfolios to the groups, add one of the groups to the other to create a subgroup, and subsequently update its name to reflect this change in hierarchy.\n",
    "Note that the second group is in a different scope to the first, it is entirely possible to combine portfolios and groups in different scopes, keep in mind that group-wide operations will still only apply to the specified scope, and will not affect portfolios/subgroups in different scopes."
   ]
  },
  {
   "cell_type": "code",
   "execution_count": 138,
   "metadata": {},
   "outputs": [
    {
     "name": "stdout",
     "output_type": "stream",
     "text": [
      "\u001b[91m\u001b[1mPortfolio Group Created\u001b[0m\n",
      "\u001b[1mName: \u001b[0mportfolio_group1_name\n",
      "\u001b[1mScope: \u001b[0mportfolio_demo_main\n",
      "\u001b[1mCode: \u001b[0mportfolio_group-a737\n",
      "\u001b[1mPortfolios Inside Group: \u001b[0m\n",
      "main_105e4\n",
      "main_225a2\n",
      "main_3ea4e\n",
      "main_420cd\n",
      "main_58ff3\n",
      "main_6bc81\n",
      "\n",
      "\n",
      "\u001b[91m\u001b[1mPortfolio Group Created\u001b[0m\n",
      "\u001b[1mName: \u001b[0mportfolio_group2_name\n",
      "\u001b[1mScope: \u001b[0mportfolio_demo_second\n",
      "\u001b[1mCode: \u001b[0mportfolio_group-7dfb\n",
      "\u001b[1mPortfolios Inside Group: \u001b[0m\n",
      "\n",
      "\n"
     ]
    }
   ],
   "source": [
    "# Create a portfolio group -- create two \n",
    "# -- The first group we will create with all the portfolios in the first scope \n",
    "# -- we can use a helper function to obtain a list of resource ids for this\n",
    "scope_1_portfolios = [ (x) for x in created_portfolios if x.id.scope  == scope1 ]\n",
    "scope_1_resource_ids = GetResourceIdsFromResponse(scope_1_portfolios)\n",
    "\n",
    "# Create group 1 with the portfolios of scope 1 in it\n",
    "guid = GetGuid()\n",
    "group_request1 = models.CreatePortfolioGroupRequest(\n",
    "    id = \"portfolio_group-{0}\".format(guid),\n",
    "    display_name = \"portfolio_group1_name\",\n",
    "    values = scope_1_resource_ids, \n",
    "    sub_groups = None, \n",
    "    description = None)\n",
    "\n",
    "# Create group 2 with no portfolios\n",
    "guid = GetGuid()\n",
    "group_request2 = models.CreatePortfolioGroupRequest(\n",
    "    id = \"portfolio_group-{0}\".format(guid),\n",
    "    display_name = \"portfolio_group2_name\",\n",
    "    values = None, \n",
    "    sub_groups = None, \n",
    "    description = None)\n",
    "\n",
    "portfolio_group1 = client.create_portfolio_group(scope1, group_request1)\n",
    "portfolio_group2 = client.create_portfolio_group(scope2, group_request2)\n",
    "\n",
    "prettyprint.portfolio_group_response(portfolio_group1, 'created')\n",
    "prettyprint.portfolio_group_response(portfolio_group2, 'created')\n",
    "\n"
   ]
  },
  {
   "cell_type": "markdown",
   "metadata": {},
   "source": [
    "So we have one group pre-populated with the portfolios in the first scope `portfolio_demo_main` and we have one empty group in the second scope `portfolio_demo_second`. The derived portfolio hasn't been included in the first group, so we can add it in now to group 1, and we can add the remaining portfolios to group 2."
   ]
  },
  {
   "cell_type": "code",
   "execution_count": 139,
   "metadata": {},
   "outputs": [],
   "source": [
    "# Add portfolios to groups\n",
    "# Once again we get a list of resource ids for the portfolios in scope 2 this time\n",
    "scope_2_portfolios = [ (x) for x in created_portfolios if x.id.scope  == scope2 ]\n",
    "scope_2_resource_ids = GetResourceIdsFromResponse(scope_2_portfolios)\n",
    "\n",
    "# adding the derived portfolio to group 1 :\n",
    "client.add_portfolio_to_group(\n",
    "    scope = portfolio_group1.id.scope, \n",
    "    code = portfolio_group1.id.code, \n",
    "    portfolio_id = derived_portfolio.id,\n",
    "    custom_headers = None, \n",
    "    raw = False)\n",
    "\n",
    "# then to add multiple portfolios to group 2, we have to iterate over the list of ids, since they have to\n",
    "# be added one by one.\n",
    "for resource_id in scope_2_resource_ids:\n",
    "    client.add_portfolio_to_group(\n",
    "        scope = portfolio_group2.id.scope, \n",
    "        code = portfolio_group2.id.code, \n",
    "        portfolio_id = resource_id,\n",
    "        custom_headers = None, \n",
    "        raw = False)"
   ]
  },
  {
   "cell_type": "markdown",
   "metadata": {},
   "source": [
    "We can also combine groups into each other to create sub-groups. We will add group 2 as a subgroup in group 1."
   ]
  },
  {
   "cell_type": "code",
   "execution_count": 140,
   "metadata": {},
   "outputs": [
    {
     "data": {
      "text/plain": [
       "<lusid.models.portfolio_group.PortfolioGroup at 0x7f3671339eb8>"
      ]
     },
     "execution_count": 140,
     "metadata": {},
     "output_type": "execute_result"
    }
   ],
   "source": [
    "# Add group to group\n",
    "client.add_sub_group_to_group(\n",
    "    scope = portfolio_group1.id.scope, \n",
    "    code = portfolio_group1.id.code, \n",
    "    portfolio_group_id = portfolio_group2.id,\n",
    "    custom_headers = None, \n",
    "    raw = False)"
   ]
  },
  {
   "cell_type": "markdown",
   "metadata": {},
   "source": [
    "Since group 2 is now a subgroup, we can update its display name to reflect this"
   ]
  },
  {
   "cell_type": "code",
   "execution_count": 141,
   "metadata": {},
   "outputs": [
    {
     "data": {
      "text/plain": [
       "<lusid.models.portfolio_group.PortfolioGroup at 0x7f3671336ef0>"
      ]
     },
     "execution_count": 141,
     "metadata": {},
     "output_type": "execute_result"
    }
   ],
   "source": [
    "# Update group request\n",
    "group_update_request = models.UpdatePortfolioGroupRequest(\n",
    "    display_name = \"Group1_Subgroup\", \n",
    "    description = None)\n",
    "\n",
    "# Update group\n",
    "client.update_portfolio_group(\n",
    "    scope = portfolio_group2.id.scope, \n",
    "    code = portfolio_group2.id.code, \n",
    "    request = group_update_request,\n",
    "    custom_headers = None, \n",
    "    raw = False)"
   ]
  },
  {
   "cell_type": "markdown",
   "metadata": {},
   "source": [
    "We can now compare two methods of obtaining groups from LUSID. The first is `get portfolio group` while the second is `get portfolio group expansion`. The difference here is that the first method will return only information about the specified group, including the ids of the portfolios and subgroups it contains, but not any further details of its portfolios and subgroups. The second method will not only return this basic information, but also the full details of each portfolio in the group and each portfolio in every subgroup as well. \n"
   ]
  },
  {
   "cell_type": "markdown",
   "metadata": {},
   "source": [
    "First we compare group 1 at the time of creation and at the most up-to-date time below, so we can see the changes that have been made to it since we created it."
   ]
  },
  {
   "cell_type": "code",
   "execution_count": 142,
   "metadata": {},
   "outputs": [
    {
     "name": "stdout",
     "output_type": "stream",
     "text": [
      "Group 1 at time of creation\n",
      "Name: portfolio_group1_name\n",
      "Scope: portfolio_demo_main\n",
      "Code: portfolio_group-a737\n",
      "Portfolios Inside Group: \n",
      "main_105e4\n",
      "main_225a2\n",
      "main_3ea4e\n",
      "main_420cd\n",
      "main_58ff3\n",
      "main_6bc81\n",
      "Subgroups Inside Group: \n",
      "\n",
      "Group 1 at latest time\n",
      "Name: portfolio_group1_name\n",
      "Scope: portfolio_demo_main\n",
      "Code: portfolio_group-a737\n",
      "Portfolios Inside Group: \n",
      "main_105e4\n",
      "main_225a2\n",
      "main_3ea4e\n",
      "main_420cd\n",
      "main_58ff3\n",
      "main_6bc81\n",
      "derived_id-aec4\n",
      "Subgroups Inside Group: \n",
      "portfolio_group-7dfb\n"
     ]
    }
   ],
   "source": [
    "# Get portfolio group now\n",
    "updated_group1 = client.get_portfolio_group(\n",
    "    scope = portfolio_group1.id.scope, \n",
    "    code = portfolio_group1.id.code, \n",
    "    as_at = datetime.utcnow().replace(tzinfo = pytz.utc),\n",
    "    custom_headers=None, \n",
    "    raw=False)\n",
    "\n",
    "# Get portfolio group 1 prior to the update\n",
    "original_group1 = client.get_portfolio_group(\n",
    "    scope = portfolio_group1.id.scope, \n",
    "    code = portfolio_group1.id.code, \n",
    "    as_at = portfolio_group1.version.as_at_date,\n",
    "    custom_headers=None, \n",
    "    raw=False)\n",
    "\n",
    "print('Group 1 at time of creation')\n",
    "PrintGetPortfolioGroupResponse(original_group1)\n",
    "print('')\n",
    "print('Group 1 at latest time')\n",
    "PrintGetPortfolioGroupResponse(updated_group1)\n"
   ]
  },
  {
   "cell_type": "markdown",
   "metadata": {},
   "source": [
    "We can now compare this method with getting the full expansion of a group. You will see that on top of a list of portfolios and subgroups, the full expansion also returns all the information for the portfolios similar to running the `get_portfolio` method on each portfolio in the group and groubgroup."
   ]
  },
  {
   "cell_type": "code",
   "execution_count": 143,
   "metadata": {},
   "outputs": [
    {
     "name": "stdout",
     "output_type": "stream",
     "text": [
      "\u001b[91m\u001b[1mPortfolio Group Full Details : \u001b[0m\n",
      "\u001b[1mScope: \u001b[0mportfolio_demo_main\n",
      "\u001b[1mCode: \u001b[0mportfolio_group-a737\n",
      "\u001b[94m\u001b[1mPortfolios Inside Group: \u001b[0m\n",
      "\u001b[1mPortfolio Created\u001b[0m\n",
      "\u001b[1mScope: \u001b[0mportfolio_demo_main\n",
      "\u001b[1mCode: \u001b[0mmain_105e4\n",
      "\u001b[1mPortfolio Effective From: \u001b[0m2018-01-01 00:00:00+00:00\n",
      "\u001b[1mPortfolio Created On: \u001b[0m2019-02-18 13:27:50.002992+00:00\n",
      "\n",
      "\u001b[1mPortfolio Created\u001b[0m\n",
      "\u001b[1mScope: \u001b[0mportfolio_demo_main\n",
      "\u001b[1mCode: \u001b[0mmain_225a2\n",
      "\u001b[1mPortfolio Effective From: \u001b[0m2018-01-01 00:00:00+00:00\n",
      "\u001b[1mPortfolio Created On: \u001b[0m2019-02-18 13:27:40.508499+00:00\n",
      "\n",
      "\u001b[1mPortfolio Created\u001b[0m\n",
      "\u001b[1mScope: \u001b[0mportfolio_demo_main\n",
      "\u001b[1mCode: \u001b[0mmain_3ea4e\n",
      "\u001b[1mPortfolio Effective From: \u001b[0m2018-01-01 00:00:00+00:00\n",
      "\u001b[1mPortfolio Created On: \u001b[0m2019-02-18 13:27:41.010701+00:00\n",
      "\n",
      "\u001b[1mPortfolio Created\u001b[0m\n",
      "\u001b[1mScope: \u001b[0mportfolio_demo_main\n",
      "\u001b[1mCode: \u001b[0mmain_420cd\n",
      "\u001b[1mPortfolio Effective From: \u001b[0m2018-01-01 00:00:00+00:00\n",
      "\u001b[1mPortfolio Created On: \u001b[0m2019-02-18 13:27:41.377553+00:00\n",
      "\n",
      "\u001b[1mPortfolio Created\u001b[0m\n",
      "\u001b[1mScope: \u001b[0mportfolio_demo_main\n",
      "\u001b[1mCode: \u001b[0mmain_58ff3\n",
      "\u001b[1mPortfolio Effective From: \u001b[0m2018-01-01 00:00:00+00:00\n",
      "\u001b[1mPortfolio Created On: \u001b[0m2019-02-18 13:27:42.449959+00:00\n",
      "\n",
      "\u001b[1mPortfolio Created\u001b[0m\n",
      "\u001b[1mScope: \u001b[0mportfolio_demo_main\n",
      "\u001b[1mCode: \u001b[0mmain_6bc81\n",
      "\u001b[1mPortfolio Effective From: \u001b[0m2018-01-01 00:00:00+00:00\n",
      "\u001b[1mPortfolio Created On: \u001b[0m2019-02-18 13:27:42.954658+00:00\n",
      "\n",
      "\u001b[1mDerived Portfolio Created\u001b[0m\n",
      "\u001b[1mScope: \u001b[0mportfolio_demo_main\n",
      "\u001b[1mCode: \u001b[0mderived_id-aec4\n",
      "\u001b[1mPortfolio Effective From: \u001b[0m2018-01-01 00:00:00+00:00\n",
      "\u001b[1mPortfolio Created On: \u001b[0m2019-02-18 13:27:59.804735+00:00\n",
      "\n",
      "\u001b[1mParent Portfolio Details\u001b[0m\n",
      "\u001b[1mCode: \u001b[0mmain_105e4\n",
      "\u001b[92m\u001b[1mSubgroups Inside Group: \u001b[0m\n",
      "\u001b[1mName: \u001b[0mGroup1_Subgroup\n",
      "\u001b[1mScope: \u001b[0mportfolio_demo_second\n",
      "\u001b[1mCode: \u001b[0mportfolio_group-7dfb\n",
      "\u001b[94m\u001b[1mPortfolios Inside SubGroup: \u001b[0m\n",
      "\u001b[1mPortfolio Created\u001b[0m\n",
      "\u001b[1mScope: \u001b[0mportfolio_demo_second\n",
      "\u001b[1mCode: \u001b[0msecond_1884c\n",
      "\u001b[1mPortfolio Effective From: \u001b[0m2018-01-01 00:00:00+00:00\n",
      "\u001b[1mPortfolio Created On: \u001b[0m2019-02-18 13:27:43.349419+00:00\n",
      "\n",
      "\u001b[1mPortfolio Created\u001b[0m\n",
      "\u001b[1mScope: \u001b[0mportfolio_demo_second\n",
      "\u001b[1mCode: \u001b[0msecond_2c207\n",
      "\u001b[1mPortfolio Effective From: \u001b[0m2018-01-01 00:00:00+00:00\n",
      "\u001b[1mPortfolio Created On: \u001b[0m2019-02-18 13:27:43.830222+00:00\n",
      "\n",
      "\n",
      "\n"
     ]
    }
   ],
   "source": [
    "# Get full expansion of a portfolio group\n",
    "expansion = client.get_portfolio_group_expansion(\n",
    "    scope = portfolio_group1.id.scope, \n",
    "    code = portfolio_group1.id.code,\n",
    "    effective_at=None, \n",
    "    as_at=None, \n",
    "    property_filter=None, \n",
    "    custom_headers=None, \n",
    "    raw=False)\n",
    "\n",
    "prettyprint.expanded_portfolio_group_response(expansion)"
   ]
  },
  {
   "cell_type": "markdown",
   "metadata": {},
   "source": [
    "Suppose we wish to revert these changes, we have to explicitly delete each component step by step. Our Subgroup contains two portfolios, we're going to remove these from that group, remove the subgroup from the main group, and then delete it as it is no longer needed. If a subgroup is empty, it is not necessary to remove it before deleting it completely, however for example purposes we will follow each step."
   ]
  },
  {
   "cell_type": "code",
   "execution_count": 144,
   "metadata": {},
   "outputs": [
    {
     "name": "stdout",
     "output_type": "stream",
     "text": [
      "Name: Group1_Subgroup\n",
      "Scope: portfolio_demo_second\n",
      "Code: portfolio_group-7dfb\n",
      "Portfolios Inside Group: \n",
      "second_1884c\n",
      "second_2c207\n",
      "Subgroups Inside Group: \n",
      "\n",
      "\u001b[91m\u001b[1mPortfolio Group\u001b[0m\n",
      "\u001b[1mName: \u001b[0mGroup1_Subgroup\n",
      "\u001b[1mScope: \u001b[0mportfolio_demo_second\n",
      "\u001b[1mCode: \u001b[0mportfolio_group-7dfb\n",
      "\u001b[1mPortfolios Inside Group: \u001b[0m\n",
      "second_2c207\n",
      "\n",
      "\n",
      "\u001b[91m\u001b[1mPortfolio Group\u001b[0m\n",
      "\u001b[1mName: \u001b[0mGroup1_Subgroup\n",
      "\u001b[1mScope: \u001b[0mportfolio_demo_second\n",
      "\u001b[1mCode: \u001b[0mportfolio_group-7dfb\n",
      "\u001b[1mPortfolios Inside Group: \u001b[0m\n",
      "\n",
      "\n"
     ]
    }
   ],
   "source": [
    "#1. Removal of portfolios from a group has to be done one portfolio at a time, \n",
    "# thus we can loop through the list of portfolios in scope 2 since they are all contained in the subgroup\n",
    "# first we print out the details of group 2\n",
    "original_group2 = client.get_portfolio_group(\n",
    "    scope = portfolio_group2.id.scope, \n",
    "    code = portfolio_group2.id.code,\n",
    "    as_at = None,\n",
    "    custom_headers=None, \n",
    "    raw=False)\n",
    "\n",
    "PrintGetPortfolioGroupResponse(original_group2)\n",
    "print('')\n",
    "\n",
    "# then we proceed with removing each portfolio in the group, you will see each printed response will have\n",
    "# one fewer portfolio ids attached to the group.\n",
    "for portfolio_id in scope_2_resource_ids:\n",
    "    portfolio_removal = client.delete_portfolio_from_group(\n",
    "        scope = portfolio_group2.id.scope, \n",
    "        code = portfolio_group2.id.code, \n",
    "        portfolio_scope = portfolio_id.scope, \n",
    "        portfolio_code = portfolio_id.code,\n",
    "        custom_headers=None, \n",
    "        raw=False)\n",
    "    prettyprint.portfolio_group_response(portfolio_removal, 'none')\n"
   ]
  },
  {
   "cell_type": "code",
   "execution_count": 145,
   "metadata": {},
   "outputs": [
    {
     "name": "stdout",
     "output_type": "stream",
     "text": [
      "\u001b[91m\u001b[1mPortfolio Group\u001b[0m\n",
      "\u001b[1mName: \u001b[0mportfolio_group1_name\n",
      "\u001b[1mScope: \u001b[0mportfolio_demo_main\n",
      "\u001b[1mCode: \u001b[0mportfolio_group-a737\n",
      "\u001b[1mPortfolios Inside Group: \u001b[0m\n",
      "main_105e4\n",
      "main_225a2\n",
      "main_3ea4e\n",
      "main_420cd\n",
      "main_58ff3\n",
      "main_6bc81\n",
      "derived_id-aec4\n",
      "\n",
      "\n",
      "Remaining Sub Groups :  []\n"
     ]
    }
   ],
   "source": [
    "#2. Remove group from group\n",
    "group_removal = client.delete_sub_group_from_group(\n",
    "    scope = portfolio_group1.id.scope, \n",
    "    code = portfolio_group1.id.code, \n",
    "    subgroup_scope = portfolio_group2.id.scope, \n",
    "    subgroup_code = portfolio_group2.id.code,\n",
    "    custom_headers=None, \n",
    "    raw=False)\n",
    "\n",
    "prettyprint.portfolio_group_response(group_removal, 'none')\n",
    "print('Remaining Sub Groups : ', group_removal.sub_groups)"
   ]
  },
  {
   "cell_type": "code",
   "execution_count": 146,
   "metadata": {},
   "outputs": [],
   "source": [
    "#3. Delete group\n",
    "group_deletion = client.delete_portfolio_group(\n",
    "    scope = portfolio_group2.id.scope, \n",
    "    code = portfolio_group2.id.code,\n",
    "    custom_headers=None, \n",
    "    raw=False)"
   ]
  },
  {
   "cell_type": "markdown",
   "metadata": {},
   "source": [
    "We can now check what operations have been applied to each of our groups, including an already deleted group, by using the `get portfolio group commands` method, as below."
   ]
  },
  {
   "cell_type": "code",
   "execution_count": 147,
   "metadata": {},
   "outputs": [
    {
     "name": "stdout",
     "output_type": "stream",
     "text": [
      "\u001b[1mCommands Applied To Group portfolio_group1_name\u001b[0m\n",
      "\u001b[1mNumber of commands : \u001b[0m4\n",
      "\u001b[1mDescription : \u001b[0mCreate portfolio group\n",
      "\u001b[1mAt Time : \u001b[0m2019-02-18T13:28:02.0170640+00:00\n",
      "\n",
      "\n",
      "\u001b[1mDescription : \u001b[0mAdd portfolio to group\n",
      "\u001b[1mAt Time : \u001b[0m2019-02-18T13:28:04.6277960+00:00\n",
      "\n",
      "\n",
      "\u001b[1mDescription : \u001b[0mAdd subgroup to group\n",
      "\u001b[1mAt Time : \u001b[0m2019-02-18T13:28:08.9544530+00:00\n",
      "\n",
      "\n",
      "\u001b[1mDescription : \u001b[0mDelete subgroup from group\n",
      "\u001b[1mAt Time : \u001b[0m2019-02-18T13:30:46.6209270+00:00\n",
      "\n",
      "\n",
      "\u001b[1mCommands Applied To Group portfolio_group2_name\u001b[0m\n",
      "\u001b[1mNumber of commands : \u001b[0m7\n",
      "\u001b[1mDescription : \u001b[0mCreate portfolio group\n",
      "\u001b[1mAt Time : \u001b[0m2019-02-18T13:28:02.3815850+00:00\n",
      "\n",
      "\n",
      "\u001b[1mDescription : \u001b[0mAdd portfolio to group\n",
      "\u001b[1mAt Time : \u001b[0m2019-02-18T13:28:05.0480870+00:00\n",
      "\n",
      "\n",
      "\u001b[1mDescription : \u001b[0mAdd portfolio to group\n",
      "\u001b[1mAt Time : \u001b[0m2019-02-18T13:28:05.4564550+00:00\n",
      "\n",
      "\n",
      "\u001b[1mDescription : \u001b[0mUpdate portfolio group\n",
      "\u001b[1mAt Time : \u001b[0m2019-02-18T13:28:10.6125300+00:00\n",
      "\n",
      "\n",
      "\u001b[1mDescription : \u001b[0mDelete portfolio from group\n",
      "\u001b[1mAt Time : \u001b[0m2019-02-18T13:28:23.8992320+00:00\n",
      "\n",
      "\n",
      "\u001b[1mDescription : \u001b[0mDelete portfolio from group\n",
      "\u001b[1mAt Time : \u001b[0m2019-02-18T13:28:24.2798240+00:00\n",
      "\n",
      "\n",
      "\u001b[1mDescription : \u001b[0mDelete portfolio group\n",
      "\u001b[1mAt Time : \u001b[0m2019-02-18T13:30:51.5211680+00:00\n",
      "\n",
      "\n"
     ]
    }
   ],
   "source": [
    "# Get commands\n",
    "group1_commands = client.get_portfolio_group_commands(\n",
    "    scope = portfolio_group1.id.scope, \n",
    "    code = portfolio_group1.id.code,\n",
    "    from_as_at=None, \n",
    "    to_as_at=None, \n",
    "    sort_by=None, \n",
    "    start=None, \n",
    "    limit=None, \n",
    "    filter=None, \n",
    "    custom_headers=None, \n",
    "    raw=False)\n",
    "\n",
    "group2_commands = client.get_portfolio_group_commands(\n",
    "    scope = portfolio_group2.id.scope, \n",
    "    code = portfolio_group2.id.code,\n",
    "    from_as_at=None, \n",
    "    to_as_at=None, \n",
    "    sort_by=None, \n",
    "    start=None, \n",
    "    limit=None, \n",
    "    filter=None, \n",
    "    custom_headers=None, \n",
    "    raw=False)\n",
    "\n",
    "prettyprint.group_commands(group1_commands, portfolio_group1.display_name)\n",
    "\n",
    "prettyprint.group_commands(group2_commands, portfolio_group2.display_name)"
   ]
  },
  {
   "cell_type": "markdown",
   "metadata": {},
   "source": [
    "We can now verify that the group has indeed been deleted from our scope by getting all groups in each of our scopes, the second of which should be empty now."
   ]
  },
  {
   "cell_type": "code",
   "execution_count": 156,
   "metadata": {},
   "outputs": [
    {
     "name": "stdout",
     "output_type": "stream",
     "text": [
      "Groups in scope 1 : \n",
      "    Scope :  portfolio_demo_main, Code :  portfolio_group-a737\n",
      "Groups in scope 2 : \n"
     ]
    }
   ],
   "source": [
    "# List groups in scope - show one scope with no groups\n",
    "scope1_groups = client.list_portfolio_groups(scope = scope1)\n",
    "scope2_groups = client.list_portfolio_groups(scope = scope2)\n",
    "print(\"Groups in scope 1 : \")\n",
    "for group in scope1_groups.values:\n",
    "    print('    Scope : ', group.id.scope+', Code : ', group.id.code)\n",
    "\n",
    "print(\"Groups in scope 2 : \")\n",
    "for group in scope2_groups.values: # This one should be empty and not output anything\n",
    "    print('    Scope : ', group.id.scope+', Code : ', group.id.code)"
   ]
  },
  {
   "cell_type": "code",
   "execution_count": 149,
   "metadata": {},
   "outputs": [],
   "source": [
    "# # In case any extra groups are hanging around, delete them here\n",
    "# # Find not matching group ids in each scope\n",
    "# # # # # --- This might actually delete all groups??? --- # # # # # \n",
    "# scope1_group_ids_to_delete = []\n",
    "# scope2_group_ids_to_delete = []\n",
    "\n",
    "# for group in scope1_groups.values:\n",
    "#     if group.id.code is not portfolio_group1.id.code :\n",
    "#         scope1_group_ids_to_delete.append(group.id)\n",
    "\n",
    "# for group in scope2_groups.values:\n",
    "#     if group.id.code is not portfolio_group2.id.code :\n",
    "#         scope2_group_ids_to_delete.append(group.id)\n",
    "        \n",
    "# for group in scope1_group_ids_to_delete:\n",
    "#     client.delete_portfolio_group(\n",
    "#         scope = group.scope, \n",
    "#         code = group.code)\n",
    "    \n",
    "# for group in scope2_group_ids_to_delete:\n",
    "#     client.delete_portfolio_group(\n",
    "#         scope = group.scope, \n",
    "#         code = group.code)    "
   ]
  },
  {
   "cell_type": "markdown",
   "metadata": {},
   "source": [
    "If we list all the portfolios in our scopes we will see that they are all still there. There may be extra portfolios not created in this example, if this is the case, we can delete all these extra portfolios and keep only those we are interested in."
   ]
  },
  {
   "cell_type": "code",
   "execution_count": 150,
   "metadata": {},
   "outputs": [
    {
     "name": "stdout",
     "output_type": "stream",
     "text": [
      "Portfolios remaining in scope  portfolio_demo_main  :\n",
      "\u001b[1mPortfolio Created\u001b[0m\n",
      "\u001b[1mScope: \u001b[0mportfolio_demo_main\n",
      "\u001b[1mCode: \u001b[0mmain_105e4\n",
      "\u001b[1mPortfolio Effective From: \u001b[0m2018-01-01 00:00:00+00:00\n",
      "\u001b[1mPortfolio Created On: \u001b[0m2019-02-18 13:27:50.002992+00:00\n",
      "\n",
      "\n",
      "\n",
      "\u001b[1mPortfolio Created\u001b[0m\n",
      "\u001b[1mScope: \u001b[0mportfolio_demo_main\n",
      "\u001b[1mCode: \u001b[0mmain_58ff3\n",
      "\u001b[1mPortfolio Effective From: \u001b[0m2018-01-01 00:00:00+00:00\n",
      "\u001b[1mPortfolio Created On: \u001b[0m2019-02-18 13:27:42.449959+00:00\n",
      "\n",
      "\n",
      "\n",
      "\u001b[1mDerived Portfolio Created\u001b[0m\n",
      "\u001b[1mScope: \u001b[0mportfolio_demo_main\n",
      "\u001b[1mCode: \u001b[0mderived_id-aec4\n",
      "\u001b[1mPortfolio Effective From: \u001b[0m2018-01-01 00:00:00+00:00\n",
      "\u001b[1mPortfolio Created On: \u001b[0m2019-02-18 13:27:59.804735+00:00\n",
      "\n",
      "\u001b[1mParent Portfolio Details\u001b[0m\n",
      "\u001b[1mCode: \u001b[0mmain_105e4\n",
      "\n",
      "\n",
      "\u001b[1mPortfolio Created\u001b[0m\n",
      "\u001b[1mScope: \u001b[0mportfolio_demo_main\n",
      "\u001b[1mCode: \u001b[0mmain_1c4ec\n",
      "\u001b[1mPortfolio Effective From: \u001b[0m2018-01-01 00:00:00+00:00\n",
      "\u001b[1mPortfolio Created On: \u001b[0m2019-02-15 16:30:27.155121+00:00\n",
      "\n",
      "\n",
      "\n",
      "\u001b[1mPortfolio Created\u001b[0m\n",
      "\u001b[1mScope: \u001b[0mportfolio_demo_main\n",
      "\u001b[1mCode: \u001b[0mmain_5bfa6\n",
      "\u001b[1mPortfolio Effective From: \u001b[0m2018-01-01 00:00:00+00:00\n",
      "\u001b[1mPortfolio Created On: \u001b[0m2019-02-15 16:23:28.747308+00:00\n",
      "\n",
      "\n",
      "\n",
      "\u001b[1mPortfolio Created\u001b[0m\n",
      "\u001b[1mScope: \u001b[0mportfolio_demo_main\n",
      "\u001b[1mCode: \u001b[0mmain_420cd\n",
      "\u001b[1mPortfolio Effective From: \u001b[0m2018-01-01 00:00:00+00:00\n",
      "\u001b[1mPortfolio Created On: \u001b[0m2019-02-18 13:27:41.377553+00:00\n",
      "\n",
      "\n",
      "\n",
      "\u001b[1mPortfolio Created\u001b[0m\n",
      "\u001b[1mScope: \u001b[0mportfolio_demo_main\n",
      "\u001b[1mCode: \u001b[0mmain_3ea4e\n",
      "\u001b[1mPortfolio Effective From: \u001b[0m2018-01-01 00:00:00+00:00\n",
      "\u001b[1mPortfolio Created On: \u001b[0m2019-02-18 13:27:41.010701+00:00\n",
      "\n",
      "\n",
      "\n",
      "\u001b[1mPortfolio Created\u001b[0m\n",
      "\u001b[1mScope: \u001b[0mportfolio_demo_main\n",
      "\u001b[1mCode: \u001b[0mmain_225a2\n",
      "\u001b[1mPortfolio Effective From: \u001b[0m2018-01-01 00:00:00+00:00\n",
      "\u001b[1mPortfolio Created On: \u001b[0m2019-02-18 13:27:40.508499+00:00\n",
      "\n",
      "\n",
      "\n",
      "\u001b[1mPortfolio Created\u001b[0m\n",
      "\u001b[1mScope: \u001b[0mportfolio_demo_main\n",
      "\u001b[1mCode: \u001b[0mmain_6bc81\n",
      "\u001b[1mPortfolio Effective From: \u001b[0m2018-01-01 00:00:00+00:00\n",
      "\u001b[1mPortfolio Created On: \u001b[0m2019-02-18 13:27:42.954658+00:00\n",
      "\n",
      "\n",
      "\n",
      "\u001b[1mDerived Portfolio Created\u001b[0m\n",
      "\u001b[1mScope: \u001b[0mportfolio_demo_main\n",
      "\u001b[1mCode: \u001b[0mderived_id-d952\n",
      "\u001b[1mPortfolio Effective From: \u001b[0m2018-01-01 00:00:00+00:00\n",
      "\u001b[1mPortfolio Created On: \u001b[0m2019-02-18 10:27:35.795122+00:00\n",
      "\n",
      "\u001b[1mParent Portfolio Details\u001b[0m\n",
      "\u001b[1mCode: \u001b[0mmain_1c4ec\n",
      "\n",
      "\n",
      "Portfolios remaining in scope  portfolio_demo_second  :\n",
      "\u001b[1mPortfolio Created\u001b[0m\n",
      "\u001b[1mScope: \u001b[0mportfolio_demo_second\n",
      "\u001b[1mCode: \u001b[0msecond_2c207\n",
      "\u001b[1mPortfolio Effective From: \u001b[0m2018-01-01 00:00:00+00:00\n",
      "\u001b[1mPortfolio Created On: \u001b[0m2019-02-18 13:27:43.830222+00:00\n",
      "\n",
      "\n",
      "\n",
      "\u001b[1mPortfolio Created\u001b[0m\n",
      "\u001b[1mScope: \u001b[0mportfolio_demo_second\n",
      "\u001b[1mCode: \u001b[0msecond_1884c\n",
      "\u001b[1mPortfolio Effective From: \u001b[0m2018-01-01 00:00:00+00:00\n",
      "\u001b[1mPortfolio Created On: \u001b[0m2019-02-18 13:27:43.349419+00:00\n",
      "\n",
      "\n",
      "\n"
     ]
    }
   ],
   "source": [
    "\n",
    "scope1_portfolios_list_response = client.list_portfolios_for_scope(\n",
    "    scope = scope1,\n",
    "    effective_at=None, \n",
    "    as_at=None, \n",
    "    sort_by=None, \n",
    "    start=None, \n",
    "    limit=None, \n",
    "    filter=None, \n",
    "    custom_headers=None, \n",
    "    raw=False)\n",
    "scope2_portfolios_list_response = client.list_portfolios_for_scope(\n",
    "    scope = scope2,\n",
    "    effective_at=None, \n",
    "    as_at=None, \n",
    "    sort_by=None, \n",
    "    start=None, \n",
    "    limit=None, \n",
    "    filter=None, \n",
    "    custom_headers=None, \n",
    "    raw=False)\n",
    "\n",
    "print('Portfolios remaining in scope ', scope1, ' :')\n",
    "for portfolio in scope1_portfolios_list_response.values:\n",
    "    prettyprint.portfolio_response(portfolio)\n",
    "    print('\\n')\n",
    "    \n",
    "print('Portfolios remaining in scope ', scope2, ' :')\n",
    "for portfolio in scope2_portfolios_list_response.values:\n",
    "    prettyprint.portfolio_response(portfolio)\n",
    "    print('\\n')"
   ]
  },
  {
   "cell_type": "markdown",
   "metadata": {},
   "source": [
    "The cells below allow us to delete the extra portfolios in the scope. Keep in mind, derived portfolios must be deleted first, as if a parent portfolio still contains a child, the deletion will fail."
   ]
  },
  {
   "cell_type": "code",
   "execution_count": 157,
   "metadata": {},
   "outputs": [],
   "source": [
    "# We can delete any unwanted portfolios now, lets say we only wish to keep the first 2 portfolios from our \n",
    "# original csv file, and the derived portfolio attached to the first portfolio. \n",
    "def extractIds(portfolioList):\n",
    "    parent_ids = []\n",
    "    derived_ids = []\n",
    "    for folio in portfolioList:\n",
    "        if folio.is_derived :\n",
    "            derived_ids.append((folio.id.scope, folio.id.code))\n",
    "        else :\n",
    "            parent_ids.append((folio.id.scope, folio.id.code))\n",
    "    return (parent_ids, derived_ids)\n",
    "    \n",
    "def returnNotMatches(a, b):\n",
    "    return [x for x in a if x not in b]\n",
    "\n",
    "# first combine all the portfolios in our two scopes\n",
    "all_portfolios_in_scopes = extractIds(scope1_portfolios_list_response.values \n",
    "                                      + scope2_portfolios_list_response.values)\n",
    "parent_portfolios = all_portfolios_in_scopes[0]\n",
    "derived_portfolios = all_portfolios_in_scopes[1]\n",
    "\n",
    "# then combine the portfolios we're interested in keeping into a list\n",
    "portfolios_to_keep = extractIds([scope1_portfolios_list_response.values[0], \n",
    "                                 scope1_portfolios_list_response.values[1],\n",
    "                                 derived_portfolio])\n",
    "parents_to_keep = portfolios_to_keep[0]\n",
    "derived_to_keep = portfolios_to_keep[1]\n",
    "\n",
    "# we can now exclude portfolios to keep from the full list\n",
    "parents_to_delete = returnNotMatches(parent_portfolios, parents_to_keep)\n",
    "derived_to_delete = returnNotMatches(derived_portfolios, derived_to_keep)\n"
   ]
  },
  {
   "cell_type": "code",
   "execution_count": 158,
   "metadata": {},
   "outputs": [
    {
     "name": "stdout",
     "output_type": "stream",
     "text": [
      "Deleting Derived Portfolios ... \n",
      "Portfolio deleted :  portfolio_demo_main derived_id-d952\n",
      "At time :  2019-02-18 13:32:57.844628+00:00\n",
      "\n",
      "\n",
      "Deleting remaining Portfolios ... \n",
      "Portfolio deleted :  portfolio_demo_main main_1c4ec\n",
      "At time :  2019-02-18 13:32:58.278003+00:00\n",
      "Portfolio deleted :  portfolio_demo_main main_5bfa6\n",
      "At time :  2019-02-18 13:32:58.645951+00:00\n",
      "Portfolio deleted :  portfolio_demo_main main_420cd\n",
      "At time :  2019-02-18 13:32:59.018542+00:00\n",
      "Portfolio deleted :  portfolio_demo_main main_3ea4e\n",
      "At time :  2019-02-18 13:32:59.372617+00:00\n",
      "Portfolio deleted :  portfolio_demo_main main_225a2\n",
      "At time :  2019-02-18 13:32:59.734886+00:00\n",
      "Portfolio deleted :  portfolio_demo_main main_6bc81\n",
      "At time :  2019-02-18 13:33:00.484411+00:00\n",
      "Portfolio deleted :  portfolio_demo_second second_2c207\n",
      "At time :  2019-02-18 13:33:00.831934+00:00\n",
      "Portfolio deleted :  portfolio_demo_second second_1884c\n",
      "At time :  2019-02-18 13:33:01.192064+00:00\n"
     ]
    }
   ],
   "source": [
    "# Next we delete the derived portfolios first\n",
    "print(\"Deleting Derived Portfolios ... \")\n",
    "for portfolio in derived_to_delete:\n",
    "    response = client.delete_portfolio(\n",
    "        scope = portfolio[0], \n",
    "        code = portfolio[1],\n",
    "        effective_at = None, \n",
    "        custom_headers = None, \n",
    "        raw = False)\n",
    "    print ('Portfolio deleted : ', portfolio[0], portfolio[1])\n",
    "    print ('At time : ', str(response.as_at))\n",
    "print('\\n')\n",
    "print(\"Deleting remaining Portfolios ... \")\n",
    "# Then we proceed with deleting the remaining parent portfolios\n",
    "for portfolio in parents_to_delete:\n",
    "    response = client.delete_portfolio(\n",
    "        scope = portfolio[0], \n",
    "        code = portfolio[1],\n",
    "        effective_at = None, \n",
    "        custom_headers = None, \n",
    "        raw = False)\n",
    "    print ('Portfolio deleted : ', portfolio[0], portfolio[1])\n",
    "    print ('At time : ', str(response.as_at))"
   ]
  },
  {
   "cell_type": "markdown",
   "metadata": {},
   "source": [
    "If we now re-list the portfolios in our scopes, we will see that only our two original portfolios remain, and one derived portfolio."
   ]
  },
  {
   "cell_type": "code",
   "execution_count": 159,
   "metadata": {},
   "outputs": [
    {
     "name": "stdout",
     "output_type": "stream",
     "text": [
      "\u001b[91m Portfolios remaining in scope:  \u001b[0m portfolio_demo_main :\n",
      "\u001b[1mPortfolio Created\u001b[0m\n",
      "\u001b[1mScope: \u001b[0mportfolio_demo_main\n",
      "\u001b[1mCode: \u001b[0mmain_105e4\n",
      "\u001b[1mPortfolio Effective From: \u001b[0m2018-01-01 00:00:00+00:00\n",
      "\u001b[1mPortfolio Created On: \u001b[0m2019-02-18 13:27:50.002992+00:00\n",
      "\n",
      "\n",
      "\n",
      "\u001b[1mPortfolio Created\u001b[0m\n",
      "\u001b[1mScope: \u001b[0mportfolio_demo_main\n",
      "\u001b[1mCode: \u001b[0mmain_58ff3\n",
      "\u001b[1mPortfolio Effective From: \u001b[0m2018-01-01 00:00:00+00:00\n",
      "\u001b[1mPortfolio Created On: \u001b[0m2019-02-18 13:27:42.449959+00:00\n",
      "\n",
      "\n",
      "\n",
      "\u001b[1mDerived Portfolio Created\u001b[0m\n",
      "\u001b[1mScope: \u001b[0mportfolio_demo_main\n",
      "\u001b[1mCode: \u001b[0mderived_id-aec4\n",
      "\u001b[1mPortfolio Effective From: \u001b[0m2018-01-01 00:00:00+00:00\n",
      "\u001b[1mPortfolio Created On: \u001b[0m2019-02-18 13:27:59.804735+00:00\n",
      "\n",
      "\u001b[1mParent Portfolio Details\u001b[0m\n",
      "\u001b[1mCode: \u001b[0mmain_105e4\n",
      "\n",
      "\n",
      "\u001b[91m Portfolios remaining in scope:  \u001b[0m portfolio_demo_second :\n"
     ]
    }
   ],
   "source": [
    "# We can re-run the list portfolios command to check what portfolios remain in each scope\n",
    "scope1_portfolios_list_response = client.list_portfolios_for_scope(\n",
    "    scope = scope1, \n",
    "    effective_at=None,\n",
    "    as_at=None, \n",
    "    sort_by=None,\n",
    "    start=None,\n",
    "    limit=None,\n",
    "    filter=None,\n",
    "    custom_headers=None,\n",
    "    raw=False)\n",
    "\n",
    "scope2_portfolios_list_response = client.list_portfolios_for_scope(\n",
    "    scope = scope2,\n",
    "    effective_at=None,\n",
    "    as_at=None, \n",
    "    sort_by=None,\n",
    "    start=None,\n",
    "    limit=None,\n",
    "    filter=None,\n",
    "    custom_headers=None,\n",
    "    raw=False)\n",
    "\n",
    "print('\\033[91m','Portfolios remaining in scope: ','\\033[0m', scope1, ':')\n",
    "for portfolio in scope1_portfolios_list_response.values:\n",
    "    prettyprint.portfolio_response(portfolio)\n",
    "    print('\\n')\n",
    "    \n",
    "print('\\033[91m','Portfolios remaining in scope: ','\\033[0m', scope2,':')\n",
    "for portfolio in scope2_portfolios_list_response.values:\n",
    "    prettyprint.portfolio_response(portfolio)\n",
    "    print('\\n')"
   ]
  }
 ],
 "metadata": {
  "kernelspec": {
   "display_name": "Python 3",
   "language": "python",
   "name": "python3"
  },
  "language_info": {
   "codemirror_mode": {
    "name": "ipython",
    "version": 3
   },
   "file_extension": ".py",
   "mimetype": "text/x-python",
   "name": "python",
   "nbconvert_exporter": "python",
   "pygments_lexer": "ipython3",
   "version": "3.6.6"
  }
 },
 "nbformat": 4,
 "nbformat_minor": 2
}
