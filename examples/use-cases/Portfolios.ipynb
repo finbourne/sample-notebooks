{
 "cells": [
  {
   "cell_type": "markdown",
   "metadata": {},
   "source": [
    "## Portfolios and Portfolio Groups"
   ]
  },
  {
   "cell_type": "markdown",
   "metadata": {},
   "source": [
    "Portfolios are the main containers for transactions and holdings, and come in multiple forms based on hierarchy and use case. The basic portfolio types are :\n",
    "- Transaction Portfolios\n",
    "- Reference Portfolios\n",
    "- Derived Portfolios\n",
    "\n",
    "These portfolios can then be grouped, where portfolio operations on the group are applied to an aggregated set of portfolios in the hierarchy.\n",
    "\n",
    "This example will show how to :\n",
    "1. Create Transactions Portfolios\n",
    "2. Create Derived Portfolios\n",
    "3. (add/get/delete portfolio properties and details)\n",
    "4. Create portfolio Groups\n",
    "5. Add portfolios to a Group\n",
    "6. Add a group to a group (creation of subgroups)\n",
    "7. Modify groups\n",
    "8. Remove portfolios and subgroups from groups\n",
    "9. Delete portfolios\n",
    "10. Delete groups\n",
    "11. Get all the commands applied to a group or portfolio\n",
    "12. List all the groups and portfolios in a scope"
   ]
  },
  {
   "cell_type": "markdown",
   "metadata": {},
   "source": [
    "Initialise our environment and connect to LUSID"
   ]
  },
  {
   "cell_type": "code",
   "execution_count": 1,
   "metadata": {},
   "outputs": [
    {
     "name": "stdout",
     "output_type": "stream",
     "text": [
      "LUSID Environment Initialised\n",
      "LUSID version :  0.9.127\n"
     ]
    }
   ],
   "source": [
    "# Import LUSID\n",
    "import lusid\n",
    "import lusid.models as models\n",
    "import lusid_sample_data as import_data\n",
    "# Import Libraries\n",
    "import pprint\n",
    "from datetime import datetime, timedelta, time\n",
    "import pytz\n",
    "import uuid\n",
    "import printer as prettyprint\n",
    "from datetime import datetime\n",
    "import pandas as pd\n",
    "import numpy as np\n",
    "import os\n",
    "from msrest.authentication import BasicTokenAuthentication\n",
    "\n",
    "# Authenticate our user and create our API client\n",
    "client = import_data.authenticate_secrets()\n",
    "\n",
    "print ('LUSID Environment Initialised')\n",
    "print ('LUSID version : ', client.api_version)"
   ]
  },
  {
   "cell_type": "markdown",
   "metadata": {},
   "source": [
    "First we start by creating a couple of default portfolios, we will put them in two different scopes to demonstrate the separation between scopes and the usage of different scopes within portfolio groups."
   ]
  },
  {
   "cell_type": "code",
   "execution_count": 3,
   "metadata": {},
   "outputs": [
    {
     "name": "stdout",
     "output_type": "stream",
     "text": [
      "\u001b[1mPortfolio Created\u001b[0m\n",
      "\u001b[1mScope: \u001b[0mpython_portfolios_main2\n",
      "\u001b[1mCode: \u001b[0mid-20f606cd-8e01-4ba6-b24f-4b4e820ce308\n",
      "\u001b[1mPortfolio Effective From: \u001b[0m2018-01-01 00:00:00+00:00\n",
      "\u001b[1mPortfolio Created On: \u001b[0m2019-02-11 11:25:03.878979+00:00\n",
      "\n",
      "\u001b[1mPortfolio Created\u001b[0m\n",
      "\u001b[1mScope: \u001b[0mpython_portfolios_second2\n",
      "\u001b[1mCode: \u001b[0mid-9d750652-601a-4d3f-b0d5-69d80a7ff603\n",
      "\u001b[1mPortfolio Effective From: \u001b[0m2018-01-01 00:00:00+00:00\n",
      "\u001b[1mPortfolio Created On: \u001b[0m2019-02-11 11:25:04.291559+00:00\n",
      "\n"
     ]
    }
   ],
   "source": [
    "# Create a transaction Portfolio - in two scopes one for groups use one for list in scopes use\n",
    "scope1 = \"python_portfolios_main2\"\n",
    "scope2 = \"python_portfolios_second2\"\n",
    "guid = str(uuid.uuid4())\n",
    "effective_date = datetime(2018, 1, 1, tzinfo=pytz.utc)\n",
    "\n",
    "request1 = models.CreateTransactionPortfolioRequest(\n",
    "    \"portfolio-{0}\".format(guid),\n",
    "    \"id-{0}\".format(guid),\n",
    "    base_currency=\"GBP\",\n",
    "    created=effective_date\n",
    ")\n",
    "\n",
    "guid = str(uuid.uuid4())  # reset guid for second portfolio\n",
    "request2 = models.CreateTransactionPortfolioRequest(\n",
    "    \"portfolio-{0}\".format(guid),\n",
    "    \"id-{0}\".format(guid),\n",
    "    base_currency=\"GBP\",\n",
    "    created=effective_date\n",
    ")\n",
    "result1 = client.create_portfolio(scope1, request1)\n",
    "result2 = client.create_portfolio(scope2, request2)\n",
    "portfolio_id1 = result1.id.code\n",
    "portfolio_id2 = result2.id.code\n",
    "\n",
    "prettyprint.portfolio_response(result1)\n",
    "prettyprint.portfolio_response(result2)\n"
   ]
  },
  {
   "cell_type": "markdown",
   "metadata": {},
   "source": [
    "We then create one derived portfolio from the first transaction portfolio created."
   ]
  },
  {
   "cell_type": "code",
   "execution_count": 106,
   "metadata": {},
   "outputs": [
    {
     "name": "stdout",
     "output_type": "stream",
     "text": [
      "\u001b[1mDerived Portfolio Created\u001b[0m\n",
      "\u001b[1mScope: \u001b[0mpython_portfolios_main2\n",
      "\u001b[1mCode: \u001b[0mderived_portfolio-4d6b128a-72b9-4556-a1b0-1911ac1c52db\n",
      "\u001b[1mPortfolio Effective From: \u001b[0m2018-01-01 00:00:00+00:00\n",
      "\u001b[1mPortfolio Created On: \u001b[0m2019-02-08 16:21:27.544610+00:00\n",
      "\n",
      "\u001b[1mParent Portfolio Details\u001b[0m\n",
      "\u001b[1mCode: \u001b[0mid-5f503b61-348f-405b-a504-af6a726f7725\n"
     ]
    }
   ],
   "source": [
    "# Create derived transaction portfolio from portfolio 1\n",
    "# guid = str(uuid.uuid4())\n",
    "# derived_portfolio_request = models.CreateDerivedTransactionPortfolioRequest(\n",
    "#         display_name=\"derived_portfolio\",\n",
    "#         code=\"derived_portfolio-{0}\".format(guid),\n",
    "#         parent_portfolio_id=models.ResourceId(\n",
    "#             scope=scope1,\n",
    "#             code=portfolio_id1),\n",
    "#         description=\"derived_portfolio_description\",\n",
    "#         created=effective_date)\n",
    "\n",
    "# derived_portfolio = client.create_derived_portfolio(scope1, derived_portfolio_request)\n",
    "\n",
    "# prettyprint.portfolio_response(derived_portfolio)"
   ]
  },
  {
   "cell_type": "code",
   "execution_count": 83,
   "metadata": {},
   "outputs": [],
   "source": [
    "# ------ LEAVE FOR LAST --------\n",
    "# Delete portfolio details\n",
    "\n",
    "# Upsert new details\n",
    "\n",
    "# Get portfolio details\n",
    "\n",
    "# Get portfolio properties\n",
    "\n",
    "# Upsert portfolio properties\n",
    "\n",
    "# Delete properties\n",
    "# ------------------------------\n",
    "\n",
    "\n",
    "# derived_portfolio_details = client.get_portfolio(scope1, derived_portfolio.id.code)\n",
    "# print('Portfolio with ID is derived? : ', derived_portfolio_details.is_derived)\n",
    "# Update Portfolio Definition -- new name\n",
    "# update_request = models.update_portfolio_request(\n",
    "#     scope1, derived_portfolio.id.code, display_name=\"derived_portfolio_name\")\n",
    "\n"
   ]
  },
  {
   "cell_type": "markdown",
   "metadata": {},
   "source": [
    "Next we can create some portfolio groups, add the portfolios to the groups, add one of the groups to the other to create a subgroup, and subsequently update its name to reflect this change in hierarchy.\n",
    "Note that the second group is in a different scope to the first, it is entirely possible to combine portfolios and groups in different scopes, keep in mind that group-wide operations will still only apply to the specified scope, and will not affect portfolios/subgroups in different scopes."
   ]
  },
  {
   "cell_type": "code",
   "execution_count": 4,
   "metadata": {},
   "outputs": [
    {
     "name": "stdout",
     "output_type": "stream",
     "text": [
      "\u001b[91m\u001b[1mPortfolio Group Created\u001b[0m\n",
      "\u001b[1mName: \u001b[0mportfolio_group1_name\n",
      "\u001b[1mScope: \u001b[0mpython_portfolios_main2\n",
      "\u001b[1mCode: \u001b[0mportfolio_group-c2acdbe5-5869-46f7-894a-07f847602463\n",
      "\u001b[1mPortfolios Inside Group: \u001b[0m\n",
      "\n",
      "\n",
      "\u001b[91m\u001b[1mPortfolio Group Created\u001b[0m\n",
      "\u001b[1mName: \u001b[0mportfolio_group2_name\n",
      "\u001b[1mScope: \u001b[0mpython_portfolios_second2\n",
      "\u001b[1mCode: \u001b[0mportfolio_group-32dd68b6-8580-4529-8918-0942627abd37\n",
      "\u001b[1mPortfolios Inside Group: \u001b[0m\n",
      "\n",
      "\n"
     ]
    }
   ],
   "source": [
    "# Create a portfolio group -- create two\n",
    "guid = str(uuid.uuid4())\n",
    "group_request1 = models.CreatePortfolioGroupRequest(\n",
    "    id=\"portfolio_group-{0}\".format(guid),\n",
    "    display_name=\"portfolio_group1_name\",\n",
    "    values=None)\n",
    "\n",
    "guid = str(uuid.uuid4())\n",
    "group_request2 = models.CreatePortfolioGroupRequest(\n",
    "    id=\"portfolio_group-{0}\".format(guid),\n",
    "    display_name=\"portfolio_group2_name\",\n",
    "    values=None)\n",
    "\n",
    "portfolio_group1 = client.create_portfolio_group(scope1, group_request1)\n",
    "portfolio_group2 = client.create_portfolio_group(scope2, group_request2)\n",
    "\n",
    "prettyprint.portfolio_group_response(portfolio_group1, 'created')\n",
    "prettyprint.portfolio_group_response(portfolio_group2, 'created')\n",
    "\n"
   ]
  },
  {
   "cell_type": "code",
   "execution_count": 5,
   "metadata": {},
   "outputs": [
    {
     "data": {
      "text/plain": [
       "<lusid.models.portfolio_group.PortfolioGroup at 0x7fbdc8346588>"
      ]
     },
     "execution_count": 5,
     "metadata": {},
     "output_type": "execute_result"
    }
   ],
   "source": [
    "# Add portfolios to groups\n",
    "\n",
    "client.add_portfolio_to_group(portfolio_group1.id.scope, portfolio_group1.id.code, portfolio_id=result1.id)\n",
    "client.add_portfolio_to_group(portfolio_group2.id.scope, portfolio_group2.id.code, portfolio_id=result2.id)\n"
   ]
  },
  {
   "cell_type": "code",
   "execution_count": 6,
   "metadata": {},
   "outputs": [
    {
     "data": {
      "text/plain": [
       "<lusid.models.portfolio_group.PortfolioGroup at 0x7fbdc8346518>"
      ]
     },
     "execution_count": 6,
     "metadata": {},
     "output_type": "execute_result"
    }
   ],
   "source": [
    "# Add group to group\n",
    "client.add_sub_group_to_group(portfolio_group1.id.scope, portfolio_group1.id.code, portfolio_group2.id)"
   ]
  },
  {
   "cell_type": "code",
   "execution_count": 7,
   "metadata": {},
   "outputs": [
    {
     "data": {
      "text/plain": [
       "<lusid.models.portfolio_group.PortfolioGroup at 0x7fbdc83548d0>"
      ]
     },
     "execution_count": 7,
     "metadata": {},
     "output_type": "execute_result"
    }
   ],
   "source": [
    "# Update group -- since group 2 is now a subgroup, lets update the name to reflect this\n",
    "group_update_request = models.UpdatePortfolioGroupRequest(display_name=\"Group1_Subgroup\")\n",
    "client.update_portfolio_group(portfolio_group2.id.scope, portfolio_group2.id.code, group_update_request)"
   ]
  },
  {
   "cell_type": "markdown",
   "metadata": {},
   "source": [
    "We can now compare two methods of obtaining groups from LUSID. The first is `get portfolio group` while the second is `get portfolio group expansion`. The difference here is that the first method will return only information about the specified group, including the ids of the portfolios it contains, but not any details of its subgroups. The second method will not only return this basic information, but also the full details of a portfolio, a list of all the subgroups contained in the group with all the details of portfolios contained within each subgroup as well. \n"
   ]
  },
  {
   "cell_type": "code",
   "execution_count": 8,
   "metadata": {},
   "outputs": [
    {
     "name": "stdout",
     "output_type": "stream",
     "text": [
      "\u001b[91m\u001b[1mPortfolio Group\u001b[0m\n",
      "\u001b[1mName: \u001b[0mportfolio_group1_name\n",
      "\u001b[1mScope: \u001b[0mpython_portfolios_main2\n",
      "\u001b[1mCode: \u001b[0mportfolio_group-c2acdbe5-5869-46f7-894a-07f847602463\n",
      "\u001b[1mPortfolios Inside Group: \u001b[0m\n",
      "id-20f606cd-8e01-4ba6-b24f-4b4e820ce308\n",
      "\n",
      "\n",
      "\u001b[91m\u001b[1mPortfolio Group\u001b[0m\n",
      "\u001b[1mName: \u001b[0mportfolio_group1_name\n",
      "\u001b[1mScope: \u001b[0mpython_portfolios_main2\n",
      "\u001b[1mCode: \u001b[0mportfolio_group-c2acdbe5-5869-46f7-894a-07f847602463\n",
      "\u001b[1mPortfolios Inside Group: \u001b[0m\n",
      "\n",
      "\n"
     ]
    }
   ],
   "source": [
    "# Get portfolio group\n",
    "updated_group1 = client.get_portfolio_group(portfolio_group1.id.scope, portfolio_group1.id.code, as_at=datetime.utcnow().replace(tzinfo=pytz.utc))\n",
    "original_group1 = client.get_portfolio_group(portfolio_group1.id.scope, portfolio_group1.id.code, as_at=portfolio_group1.version.as_at_date)\n",
    "\n",
    "prettyprint.portfolio_group_response(updated_group1, 'none')\n",
    "prettyprint.portfolio_group_response(original_group1, 'none')"
   ]
  },
  {
   "cell_type": "code",
   "execution_count": 89,
   "metadata": {},
   "outputs": [
    {
     "name": "stdout",
     "output_type": "stream",
     "text": [
      "\u001b[91m\u001b[1mPortfolio Group Full Details : \u001b[0m\n",
      "\u001b[1mScope: \u001b[0mpython_portfolios_main2\n",
      "\u001b[1mCode: \u001b[0mportfolio_group-7d380896-30c4-4884-9bbc-6168821c0632\n",
      "\n",
      "\n",
      "\u001b[1mPortfolios Inside Group: \u001b[0m\n",
      "\u001b[1mPortfolio Created\u001b[0m\n",
      "\u001b[1mScope: \u001b[0mpython_portfolios_main2\n",
      "\u001b[1mCode: \u001b[0mid-ad3e46ad-93b8-4d8d-a42c-53f842db2fa1\n",
      "\u001b[1mPortfolio Effective From: \u001b[0m2018-01-01 00:00:00+00:00\n",
      "\u001b[1mPortfolio Created On: \u001b[0m2019-02-08 16:20:06.539599+00:00\n",
      "\n",
      "\n",
      "\n",
      "\u001b[1mSubgroups Inside Group: \u001b[0m\n",
      "\u001b[1mName: \u001b[0mGroup1_Subgroup\n",
      "\u001b[1mScope: \u001b[0mpython_portfolios_second2\n",
      "\u001b[1mCode: \u001b[0mportfolio_group-2fb2ca2c-15ab-45d0-b304-45db99c1d866\n",
      "\n",
      "\n",
      "\u001b[1mPortfolios Inside SubGroup: \u001b[0m\n",
      "\u001b[1mPortfolio Created\u001b[0m\n",
      "\u001b[1mScope: \u001b[0mpython_portfolios_second2\n",
      "\u001b[1mCode: \u001b[0mid-13fd72a6-d89e-4b42-8481-bdb2f6b0be5b\n",
      "\u001b[1mPortfolio Effective From: \u001b[0m2018-01-01 00:00:00+00:00\n",
      "\u001b[1mPortfolio Created On: \u001b[0m2019-02-08 16:20:03.525864+00:00\n",
      "\n",
      "\n",
      "\n"
     ]
    }
   ],
   "source": [
    "# Get full expansion of a portfolio group\n",
    "expansion = client.get_portfolio_group_expansion(portfolio_group1.id.scope, portfolio_group1.id.code)\n",
    "\n",
    "prettyprint.expanded_portfolio_group_response(expansion)"
   ]
  },
  {
   "cell_type": "markdown",
   "metadata": {},
   "source": [
    "Suppose we wish to revert these changes, we have to explicitly delete each component step by step. Our Subgroup contains one portfolio, we're going to remove it from that group, remove the subgroup from the main group, and then delete it as it is no longer needed. If a subgroup is empty, it is not necessary to remove it before deleting it completely, however for example purposes we will follow each step."
   ]
  },
  {
   "cell_type": "code",
   "execution_count": 90,
   "metadata": {},
   "outputs": [
    {
     "name": "stdout",
     "output_type": "stream",
     "text": [
      "\u001b[91m\u001b[1mPortfolio Group\u001b[0m\n",
      "\u001b[1mName: \u001b[0mGroup1_Subgroup\n",
      "\u001b[1mScope: \u001b[0mpython_portfolios_second2\n",
      "\u001b[1mCode: \u001b[0mportfolio_group-2fb2ca2c-15ab-45d0-b304-45db99c1d866\n",
      "\u001b[1mPortfolios Inside Group: \u001b[0m\n",
      "\n",
      "\n"
     ]
    }
   ],
   "source": [
    "#1. remove portfolio from subgroup\n",
    "portfolio_removal = client.delete_portfolio_from_group(portfolio_group2.id.scope, portfolio_group2.id.code, result2.id.scope, result2.id.code)\n",
    "prettyprint.portfolio_group_response(portfolio_removal, 'none')\n"
   ]
  },
  {
   "cell_type": "code",
   "execution_count": 91,
   "metadata": {},
   "outputs": [
    {
     "name": "stdout",
     "output_type": "stream",
     "text": [
      "\u001b[91m\u001b[1mPortfolio Group\u001b[0m\n",
      "\u001b[1mName: \u001b[0mportfolio_group1_name\n",
      "\u001b[1mScope: \u001b[0mpython_portfolios_main2\n",
      "\u001b[1mCode: \u001b[0mportfolio_group-7d380896-30c4-4884-9bbc-6168821c0632\n",
      "\u001b[1mPortfolios Inside Group: \u001b[0m\n",
      "id-ad3e46ad-93b8-4d8d-a42c-53f842db2fa1\n",
      "\n",
      "\n",
      "Remaining Sub Groups :  []\n"
     ]
    }
   ],
   "source": [
    "#2. Remove group from group\n",
    "group_removal = client.delete_sub_group_from_group(portfolio_group1.id.scope, portfolio_group1.id.code, portfolio_group2.id.scope, portfolio_group2.id.code)\n",
    "prettyprint.portfolio_group_response(group_removal, 'none')\n",
    "print('Remaining Sub Groups : ', group_removal.sub_groups)"
   ]
  },
  {
   "cell_type": "code",
   "execution_count": 92,
   "metadata": {},
   "outputs": [],
   "source": [
    "#3. Delete group\n",
    "group_deletion = client.delete_portfolio_group(portfolio_group2.id.scope, portfolio_group2.id.code)"
   ]
  },
  {
   "cell_type": "markdown",
   "metadata": {},
   "source": [
    "We can now check what operations have been applied to each of our groups, including an already deleted group, by using the `get portfolio group commands` method, as below."
   ]
  },
  {
   "cell_type": "code",
   "execution_count": 93,
   "metadata": {},
   "outputs": [
    {
     "name": "stdout",
     "output_type": "stream",
     "text": [
      "\u001b[1mCommands Applied To Group portfolio_group1_name\u001b[0m\n",
      "\u001b[1mNumber of commands : \u001b[0m4\n",
      "\u001b[1mDescription : \u001b[0mCreate portfolio group\n",
      "\u001b[1mAt Time : \u001b[0m2019-02-08T16:20:08.6276890+00:00\n",
      "\u001b[1mDescription : \u001b[0mAdd portfolio to group\n",
      "\u001b[1mAt Time : \u001b[0m2019-02-08T16:20:10.1777050+00:00\n",
      "\u001b[1mDescription : \u001b[0mAdd subgroup to group\n",
      "\u001b[1mAt Time : \u001b[0m2019-02-08T16:20:11.0048760+00:00\n",
      "\u001b[1mDescription : \u001b[0mDelete subgroup from group\n",
      "\u001b[1mAt Time : \u001b[0m2019-02-08T16:20:14.6326580+00:00\n",
      "\u001b[1mCommands Applied To Group portfolio_group2_name\u001b[0m\n",
      "\u001b[1mNumber of commands : \u001b[0m5\n",
      "\u001b[1mDescription : \u001b[0mCreate portfolio group\n",
      "\u001b[1mAt Time : \u001b[0m2019-02-08T16:20:08.9516710+00:00\n",
      "\u001b[1mDescription : \u001b[0mAdd portfolio to group\n",
      "\u001b[1mAt Time : \u001b[0m2019-02-08T16:20:10.5980010+00:00\n",
      "\u001b[1mDescription : \u001b[0mUpdate portfolio group\n",
      "\u001b[1mAt Time : \u001b[0m2019-02-08T16:20:11.4001070+00:00\n",
      "\u001b[1mDescription : \u001b[0mDelete portfolio from group\n",
      "\u001b[1mAt Time : \u001b[0m2019-02-08T16:20:13.4364980+00:00\n",
      "\u001b[1mDescription : \u001b[0mDelete portfolio group\n",
      "\u001b[1mAt Time : \u001b[0m2019-02-08T16:20:17.0383850+00:00\n"
     ]
    }
   ],
   "source": [
    "# Get commands\n",
    "group1_commands = client.get_portfolio_group_commands(portfolio_group1.id.scope, portfolio_group1.id.code)\n",
    "group2_commands = client.get_portfolio_group_commands(portfolio_group2.id.scope, portfolio_group2.id.code)\n",
    "\n",
    "prettyprint.group_commands(group1_commands, portfolio_group1.display_name)\n",
    "prettyprint.group_commands(group2_commands, portfolio_group2.display_name)"
   ]
  },
  {
   "cell_type": "markdown",
   "metadata": {},
   "source": [
    "We can now verify that the group has indeed been deleted from our scope by getting all groups in each of our scopes, the second of which should be empty now."
   ]
  },
  {
   "cell_type": "code",
   "execution_count": null,
   "metadata": {},
   "outputs": [],
   "source": [
    "# List groups in scope - show one scope with no groups"
   ]
  },
  {
   "cell_type": "markdown",
   "metadata": {},
   "source": [
    "If we list all the portfolios in our scopes we will see that they are all still there. There may be extra portfolios not created in this example, if this is the case, we can delete all these extra portfolios and keep only those we are interested in."
   ]
  },
  {
   "cell_type": "code",
   "execution_count": 108,
   "metadata": {},
   "outputs": [
    {
     "name": "stdout",
     "output_type": "stream",
     "text": [
      "Portfolios remaining in scope  python_portfolios_main2  :\n",
      "\u001b[1mDerived Portfolio Created\u001b[0m\n",
      "\u001b[1mScope: \u001b[0mpython_portfolios_main2\n",
      "\u001b[1mCode: \u001b[0mderived_portfolio-4d6b128a-72b9-4556-a1b0-1911ac1c52db\n",
      "\u001b[1mPortfolio Effective From: \u001b[0m2018-01-01 00:00:00+00:00\n",
      "\u001b[1mPortfolio Created On: \u001b[0m2019-02-08 16:21:27.544610+00:00\n",
      "\n",
      "\u001b[1mParent Portfolio Details\u001b[0m\n",
      "\u001b[1mCode: \u001b[0mid-5f503b61-348f-405b-a504-af6a726f7725\n",
      "\n",
      "\n",
      "\u001b[1mDerived Portfolio Created\u001b[0m\n",
      "\u001b[1mScope: \u001b[0mpython_portfolios_main2\n",
      "\u001b[1mCode: \u001b[0mderived_portfolio-b233bfc4-8435-4320-8389-0e959ab930ff\n",
      "\u001b[1mPortfolio Effective From: \u001b[0m2018-01-01 00:00:00+00:00\n",
      "\u001b[1mPortfolio Created On: \u001b[0m2019-02-08 16:20:06.539599+00:00\n",
      "\n",
      "\u001b[1mParent Portfolio Details\u001b[0m\n",
      "\u001b[1mCode: \u001b[0mid-ad3e46ad-93b8-4d8d-a42c-53f842db2fa1\n",
      "\n",
      "\n",
      "\u001b[1mPortfolio Created\u001b[0m\n",
      "\u001b[1mScope: \u001b[0mpython_portfolios_main2\n",
      "\u001b[1mCode: \u001b[0mid-ad3e46ad-93b8-4d8d-a42c-53f842db2fa1\n",
      "\u001b[1mPortfolio Effective From: \u001b[0m2018-01-01 00:00:00+00:00\n",
      "\u001b[1mPortfolio Created On: \u001b[0m2019-02-08 16:20:06.539599+00:00\n",
      "\n",
      "\n",
      "\n",
      "\u001b[1mPortfolio Created\u001b[0m\n",
      "\u001b[1mScope: \u001b[0mpython_portfolios_main2\n",
      "\u001b[1mCode: \u001b[0mid-5f503b61-348f-405b-a504-af6a726f7725\n",
      "\u001b[1mPortfolio Effective From: \u001b[0m2018-01-01 00:00:00+00:00\n",
      "\u001b[1mPortfolio Created On: \u001b[0m2019-02-08 16:21:27.544610+00:00\n",
      "\n",
      "\n",
      "\n",
      "Portfolios remaining in scope  python_portfolios_second2  :\n",
      "\u001b[1mPortfolio Created\u001b[0m\n",
      "\u001b[1mScope: \u001b[0mpython_portfolios_second2\n",
      "\u001b[1mCode: \u001b[0mid-13fd72a6-d89e-4b42-8481-bdb2f6b0be5b\n",
      "\u001b[1mPortfolio Effective From: \u001b[0m2018-01-01 00:00:00+00:00\n",
      "\u001b[1mPortfolio Created On: \u001b[0m2019-02-08 16:20:03.525864+00:00\n",
      "\n",
      "\n",
      "\n",
      "\u001b[1mPortfolio Created\u001b[0m\n",
      "\u001b[1mScope: \u001b[0mpython_portfolios_second2\n",
      "\u001b[1mCode: \u001b[0mid-98937928-4046-4ac3-af5a-8934104884ec\n",
      "\u001b[1mPortfolio Effective From: \u001b[0m2018-01-01 00:00:00+00:00\n",
      "\u001b[1mPortfolio Created On: \u001b[0m2019-02-08 16:21:21.591454+00:00\n",
      "\n",
      "\n",
      "\n"
     ]
    }
   ],
   "source": [
    "\n",
    "scope1_portfolios = client.list_portfolios_for_scope(scope1)\n",
    "scope2_portfolios = client.list_portfolios_for_scope(scope2)\n",
    "\n",
    "print('Portfolios remaining in scope ', scope1, ' :')\n",
    "for portfolio in scope1_portfolios.values:\n",
    "    prettyprint.portfolio_response(portfolio)\n",
    "    print('\\n')\n",
    "    \n",
    "print('Portfolios remaining in scope ', scope2, ' :')\n",
    "for portfolio in scope2_portfolios.values:\n",
    "    prettyprint.portfolio_response(portfolio)\n",
    "    print('\\n')"
   ]
  },
  {
   "cell_type": "markdown",
   "metadata": {},
   "source": [
    "The cells below allow us to delete the extra portfolios in the scope"
   ]
  },
  {
   "cell_type": "code",
   "execution_count": 109,
   "metadata": {},
   "outputs": [],
   "source": [
    "# We can delete all the portfolios in the scope that aren't ours now.\n",
    "def extractIds(portfolioList):\n",
    "    ids = []\n",
    "    for folio in portfolioList:\n",
    "        #print(folio.id.scope, folio.id.code)\n",
    "        ids.append((folio.id.scope, folio.id.code))\n",
    "    return ids\n",
    "    \n",
    "def returnNotMatches(a, b):\n",
    "    return [x for x in a if x not in b]\n",
    "# first combine all the portfolios in our two scopes\n",
    "all_portfolios_in_scopes = extractIds(scope1_portfolios.values + scope2_portfolios.values)\n",
    "\n",
    "# then combine the portfolios we're interested in keeping into a list\n",
    "portfolios_to_keep = extractIds([result1, result2, derived_portfolio])\n",
    "\n",
    "# we can now exclude portfolios to keep from the full list\n",
    "portfolios_to_delete = returnNotMatches(all_portfolios_in_scopes, portfolios_to_keep)\n"
   ]
  },
  {
   "cell_type": "code",
   "execution_count": 110,
   "metadata": {},
   "outputs": [
    {
     "name": "stdout",
     "output_type": "stream",
     "text": [
      "Portfolio deleted :  python_portfolios_main2 derived_portfolio-b233bfc4-8435-4320-8389-0e959ab930ff\n",
      "At time :  2019-02-08 16:21:51.324748+00:00\n",
      "Portfolio deleted :  python_portfolios_main2 id-ad3e46ad-93b8-4d8d-a42c-53f842db2fa1\n",
      "At time :  2019-02-08 16:21:51.715196+00:00\n",
      "Portfolio deleted :  python_portfolios_second2 id-13fd72a6-d89e-4b42-8481-bdb2f6b0be5b\n",
      "At time :  2019-02-08 16:21:52.037880+00:00\n"
     ]
    }
   ],
   "source": [
    "for portfolio in portfolios_to_delete:\n",
    "    response = client.delete_portfolio(portfolio[0], portfolio[1])\n",
    "    print ('Portfolio deleted : ', portfolio[0], portfolio[1])\n",
    "    print ('At time : ', str(response.as_at))"
   ]
  },
  {
   "cell_type": "markdown",
   "metadata": {},
   "source": [
    "If we now re-list the portfolios in our scopes, we will see that only our two original portfolios remain, and one derived portfolio."
   ]
  },
  {
   "cell_type": "code",
   "execution_count": 111,
   "metadata": {},
   "outputs": [
    {
     "name": "stdout",
     "output_type": "stream",
     "text": [
      "{'additional_properties': {}, 'values': [<lusid.models.portfolio.Portfolio object at 0x7fb37eeb04e0>, <lusid.models.portfolio.Portfolio object at 0x7fb37eeb08d0>], 'href': 'https://api.lusid.com/api/portfolios/python_portfolios_main2', 'count': 2, 'links': [<lusid.models.link.Link object at 0x7fb37eeb0a90>]}\n"
     ]
    }
   ],
   "source": [
    "print(client.list_portfolios_for_scope(scope1))"
   ]
  },
  {
   "cell_type": "code",
   "execution_count": null,
   "metadata": {},
   "outputs": [],
   "source": []
  }
 ],
 "metadata": {
  "kernelspec": {
   "display_name": "Python 3",
   "language": "python",
   "name": "python3"
  },
  "language_info": {
   "codemirror_mode": {
    "name": "ipython",
    "version": 3
   },
   "file_extension": ".py",
   "mimetype": "text/x-python",
   "name": "python",
   "nbconvert_exporter": "python",
   "pygments_lexer": "ipython3",
   "version": "3.6.6"
  }
 },
 "nbformat": 4,
 "nbformat_minor": 2
}
