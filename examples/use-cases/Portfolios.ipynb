{
 "cells": [
  {
   "cell_type": "markdown",
   "metadata": {},
   "source": [
    "## Portfolios and Portfolio Groups"
   ]
  },
  {
   "cell_type": "markdown",
   "metadata": {},
   "source": [
    "[Portfolios in LUSID](https://support.lusid.com/portfolios) are the main containers for transactions and holdings, and come in multiple forms based on hierarchy and use case. The basic portfolio types are :\n",
    "- Transaction Portfolios\n",
    "- Reference Portfolios\n",
    "- Derived Portfolios\n",
    "\n",
    "These portfolios can then be [grouped](https://support.lusid.com/portfolios#portfolio-groups), where portfolio operations on the group are applied to an aggregated set of portfolios in the hierarchy.\n",
    "\n",
    "This example will show how to :\n",
    "1. Create Transactions Portfolios\n",
    "2. Create Derived Portfolios\n",
    "3. (add/get/delete portfolio properties and details)\n",
    "4. Create portfolio Groups\n",
    "5. Add portfolios to a Group\n",
    "6. Add a group to a group (creation of subgroups)\n",
    "7. Modify groups\n",
    "8. Remove portfolios and subgroups from groups\n",
    "9. Delete portfolios\n",
    "10. Delete groups\n",
    "11. Get all the commands applied to a group or portfolio\n",
    "12. List all the groups and portfolios in a scope"
   ]
  },
  {
   "cell_type": "markdown",
   "metadata": {},
   "source": [
    "Initialise our environment and connect to LUSID"
   ]
  },
  {
   "cell_type": "code",
   "execution_count": 1,
   "metadata": {},
   "outputs": [
    {
     "name": "stdout",
     "output_type": "stream",
     "text": [
      "LUSID Environment Initialised\n",
      "LUSID version :  0.9.116\n"
     ]
    }
   ],
   "source": [
    "# Import LUSID\n",
    "import lusid\n",
    "import lusid.models as models\n",
    "import lusid_sample_data as import_data\n",
    "# Import Libraries\n",
    "import pprint\n",
    "from datetime import datetime, timedelta, time\n",
    "import pytz\n",
    "import uuid\n",
    "import printer as prettyprint\n",
    "from datetime import datetime\n",
    "import pandas as pd\n",
    "import numpy as np\n",
    "import os\n",
    "from msrest.authentication import BasicTokenAuthentication\n",
    "\n",
    "# Authenticate our user and create our API client\n",
    "client = import_data.authenticate_secrets()\n",
    "\n",
    "print('LUSID Environment Initialised')\n",
    "print('LUSID version : ', client.api_version)"
   ]
  },
  {
   "cell_type": "markdown",
   "metadata": {},
   "source": [
    "First we start by loading some default portfolios, we will put them in two different scopes to demonstrate the separation between scopes and the usage of different scopes within portfolio groups.\n",
    "\n",
    "- Note: In order to demonstrate the deletion more clearly at then end of this example, run the portfolio creation more than once, and the derived portfolio creation 2-3 times as well, this will create a population of unnecessary portfolios that can be safely removed without affecting the portfolios of interest. It is not necessary to "
   ]
  },
  {
   "cell_type": "markdown",
   "metadata": {},
   "source": [
    "### Initial Setup"
   ]
  },
  {
   "cell_type": "code",
   "execution_count": 2,
   "metadata": {},
   "outputs": [
    {
     "name": "stdout",
     "output_type": "stream",
     "text": [
      "number of columns :  2\n",
      "column names :  Index(['display_name', 'base_currency'], dtype='object')\n"
     ]
    },
    {
     "data": {
      "text/html": [
       "<div>\n",
       "<style scoped>\n",
       "    .dataframe tbody tr th:only-of-type {\n",
       "        vertical-align: middle;\n",
       "    }\n",
       "\n",
       "    .dataframe tbody tr th {\n",
       "        vertical-align: top;\n",
       "    }\n",
       "\n",
       "    .dataframe thead th {\n",
       "        text-align: right;\n",
       "    }\n",
       "</style>\n",
       "<table border=\"1\" class=\"dataframe\">\n",
       "  <thead>\n",
       "    <tr style=\"text-align: right;\">\n",
       "      <th></th>\n",
       "      <th>display_name</th>\n",
       "      <th>base_currency</th>\n",
       "    </tr>\n",
       "  </thead>\n",
       "  <tbody>\n",
       "    <tr>\n",
       "      <th>0</th>\n",
       "      <td>portfolio-A</td>\n",
       "      <td>GBP</td>\n",
       "    </tr>\n",
       "    <tr>\n",
       "      <th>1</th>\n",
       "      <td>portfolio-B</td>\n",
       "      <td>GBP</td>\n",
       "    </tr>\n",
       "    <tr>\n",
       "      <th>2</th>\n",
       "      <td>portfolio-C</td>\n",
       "      <td>GBP</td>\n",
       "    </tr>\n",
       "    <tr>\n",
       "      <th>3</th>\n",
       "      <td>portfolio-D</td>\n",
       "      <td>GBP</td>\n",
       "    </tr>\n",
       "    <tr>\n",
       "      <th>4</th>\n",
       "      <td>portfolio-E</td>\n",
       "      <td>GBP</td>\n",
       "    </tr>\n",
       "  </tbody>\n",
       "</table>\n",
       "</div>"
      ],
      "text/plain": [
       "  display_name base_currency\n",
       "0  portfolio-A           GBP\n",
       "1  portfolio-B           GBP\n",
       "2  portfolio-C           GBP\n",
       "3  portfolio-D           GBP\n",
       "4  portfolio-E           GBP"
      ]
     },
     "execution_count": 2,
     "metadata": {},
     "output_type": "execute_result"
    }
   ],
   "source": [
    "# Use pandas to read a csv containing the information needed to create some portfolios\n",
    "df = pd.read_csv(\"data/dummy_portfolios_names.csv\")\n",
    "\n",
    "# We can also save the headers to a separate variable for easier use\n",
    "headers = df.columns\n",
    "print(\"number of columns : \", headers.size)\n",
    "print(\"column names : \", headers)\n",
    "\n",
    "df.head()"
   ]
  },
  {
   "cell_type": "code",
   "execution_count": 3,
   "metadata": {},
   "outputs": [
    {
     "name": "stdout",
     "output_type": "stream",
     "text": [
      "Scope1 :  portfolio_demo_abc\n",
      "Scope2 :  portfolio_demo_xyz\n"
     ]
    }
   ],
   "source": [
    "# Create a transaction Portfolio - extract the scopes from the csv\n",
    "scope1 = 'portfolio_demo_abc'\n",
    "scope2 = 'portfolio_demo_xyz'\n",
    "print(\"Scope1 : \", scope1)\n",
    "print(\"Scope2 : \", scope2)"
   ]
  },
  {
   "cell_type": "markdown",
   "metadata": {},
   "source": [
    "The cell below contains a number of helper functions used throughout this notebook - these are not necessary for any of the methods demonstrated, but simplify the readability and usability of this use-case example"
   ]
  },
  {
   "cell_type": "code",
   "execution_count": 4,
   "metadata": {},
   "outputs": [],
   "source": [
    "# The following function creates a random alphanumeric code of 4 characters that can be appended to Ids\n",
    "# and Names to ensure they remain unique throughout multiple runs of this example\n",
    "def GetGuid():\n",
    "    return str(uuid.uuid4())[:4]\n",
    "\n",
    "# The following function will create portfolios from our dataframe of csv data\n",
    "def CreatePortfolioFromDataframe(df):\n",
    "    effective_date = datetime(2018, 1, 1, tzinfo=pytz.utc)\n",
    "    list_results = []\n",
    "    for index, row in df.iterrows():\n",
    "        print(\"Creating portfolio \", index)\n",
    "        guid = GetGuid()\n",
    "        # Select the scope for each portfolio based on currency, for demonstration purposes we will\n",
    "        # split GBP based portfolios into scope 1 and USD based portfolios into scope 2\n",
    "        if row['base_currency'] == 'USD':\n",
    "            portfolio_scope = scope2\n",
    "        else :\n",
    "            portfolio_scope = scope1\n",
    "        # Next we create a request for the portfolio\n",
    "        request = models.CreateTransactionPortfolioRequest(\n",
    "            code=row['display_name']+'-'+guid,\n",
    "            display_name=row['display_name'],\n",
    "            base_currency=row['base_currency'],\n",
    "            created=effective_date,\n",
    "            description=None,\n",
    "            corporate_action_source_id=None,\n",
    "            accounting_method=None,\n",
    "            sub_holding_keys=None,\n",
    "            properties=None)\n",
    "        # And finally we can upsert the portfolio creation request to LUSID\n",
    "        result = client.create_portfolio(\n",
    "            scope=portfolio_scope,\n",
    "            create_request=request)\n",
    "        # Save the portfolio to a list for easy access later on\n",
    "        list_results.append(result)\n",
    "        print('...')\n",
    "    # Return the list of portfolios that were upserted in LUSID\n",
    "    return list_results\n",
    "\n",
    "# The following function extracts resource ids from a list of portfolios\n",
    "def GetResourceIdsFromResponse(responses):\n",
    "    resource_id_list = []\n",
    "    for portfolio in responses:\n",
    "        resource_id_list.append(portfolio.id)\n",
    "    return resource_id_list\n",
    "\n",
    "# The following function prints the details obtained from 'GetPortfolioGroup'\n",
    "def PrintGetPortfolioGroupResponse(response):\n",
    "    print('Name: ' + response.display_name)\n",
    "    print('Scope: ' + response.id.scope)\n",
    "    print('Code: ' + response.id.code)\n",
    "    print('Portfolios Inside Group: ')\n",
    "    for portfolios in response.portfolios:\n",
    "        print(portfolios.code)\n",
    "    print('Subgroups Inside Group: ')\n",
    "    for subgroup in response.sub_groups:\n",
    "        print(subgroup.code)\n",
    "\n",
    "# The following function prints the details obtained from 'GetPortfolioDetails'\n",
    "def portfolio_details_response(response):\n",
    "    print(response.origin_portfolio_id.scope)\n",
    "    print(response.origin_portfolio_id.code)\n",
    "    print(response.base_currency)\n",
    "    if hasattr(response, 'accounting_method'):\n",
    "        print(response.accounting_method)\n",
    "    if hasattr(response, 'corporate_action_source_id'):\n",
    "        print(response.corporate_action_source_id)\n",
    "    print('')"
   ]
  },
  {
   "cell_type": "markdown",
   "metadata": {},
   "source": [
    "We begin by upserting the csv data into LUSID in the form of new transaction portfolios"
   ]
  },
  {
   "cell_type": "code",
   "execution_count": 5,
   "metadata": {},
   "outputs": [
    {
     "name": "stdout",
     "output_type": "stream",
     "text": [
      "Creating portfolio  0\n",
      "...\n",
      "Creating portfolio  1\n",
      "...\n",
      "Creating portfolio  2\n",
      "...\n",
      "Creating portfolio  3\n",
      "...\n",
      "Creating portfolio  4\n",
      "...\n",
      "Creating portfolio  5\n",
      "...\n",
      "Creating portfolio  6\n",
      "...\n",
      "Creating portfolio  7\n",
      "...\n",
      "\u001b[1mPortfolio Created\u001b[0m\n",
      "\u001b[1mScope: \u001b[0mportfolio_demo_abc\n",
      "\u001b[1mCode: \u001b[0mportfolio-A-ff1b\n",
      "\u001b[1mPortfolio Effective From: \u001b[0m2018-01-01 00:00:00+00:00\n",
      "\u001b[1mPortfolio Created On: \u001b[0m2019-02-22 12:33:37.445302+00:00\n",
      "\n",
      "\u001b[1mPortfolio Created\u001b[0m\n",
      "\u001b[1mScope: \u001b[0mportfolio_demo_abc\n",
      "\u001b[1mCode: \u001b[0mportfolio-B-7407\n",
      "\u001b[1mPortfolio Effective From: \u001b[0m2018-01-01 00:00:00+00:00\n",
      "\u001b[1mPortfolio Created On: \u001b[0m2019-02-22 12:33:37.790396+00:00\n",
      "\n",
      "\u001b[1mPortfolio Created\u001b[0m\n",
      "\u001b[1mScope: \u001b[0mportfolio_demo_abc\n",
      "\u001b[1mCode: \u001b[0mportfolio-C-2df3\n",
      "\u001b[1mPortfolio Effective From: \u001b[0m2018-01-01 00:00:00+00:00\n",
      "\u001b[1mPortfolio Created On: \u001b[0m2019-02-22 12:33:38.066387+00:00\n",
      "\n",
      "\u001b[1mPortfolio Created\u001b[0m\n",
      "\u001b[1mScope: \u001b[0mportfolio_demo_abc\n",
      "\u001b[1mCode: \u001b[0mportfolio-D-ff0b\n",
      "\u001b[1mPortfolio Effective From: \u001b[0m2018-01-01 00:00:00+00:00\n",
      "\u001b[1mPortfolio Created On: \u001b[0m2019-02-22 12:33:38.322326+00:00\n",
      "\n",
      "\u001b[1mPortfolio Created\u001b[0m\n",
      "\u001b[1mScope: \u001b[0mportfolio_demo_abc\n",
      "\u001b[1mCode: \u001b[0mportfolio-E-d7bf\n",
      "\u001b[1mPortfolio Effective From: \u001b[0m2018-01-01 00:00:00+00:00\n",
      "\u001b[1mPortfolio Created On: \u001b[0m2019-02-22 12:33:38.725421+00:00\n",
      "\n",
      "\u001b[1mPortfolio Created\u001b[0m\n",
      "\u001b[1mScope: \u001b[0mportfolio_demo_abc\n",
      "\u001b[1mCode: \u001b[0mportfolio-F-2ece\n",
      "\u001b[1mPortfolio Effective From: \u001b[0m2018-01-01 00:00:00+00:00\n",
      "\u001b[1mPortfolio Created On: \u001b[0m2019-02-22 12:33:38.989001+00:00\n",
      "\n",
      "\u001b[1mPortfolio Created\u001b[0m\n",
      "\u001b[1mScope: \u001b[0mportfolio_demo_xyz\n",
      "\u001b[1mCode: \u001b[0mportfolio-X-ae73\n",
      "\u001b[1mPortfolio Effective From: \u001b[0m2018-01-01 00:00:00+00:00\n",
      "\u001b[1mPortfolio Created On: \u001b[0m2019-02-22 12:33:39.261737+00:00\n",
      "\n",
      "\u001b[1mPortfolio Created\u001b[0m\n",
      "\u001b[1mScope: \u001b[0mportfolio_demo_xyz\n",
      "\u001b[1mCode: \u001b[0mportfolio-Y-548e\n",
      "\u001b[1mPortfolio Effective From: \u001b[0m2018-01-01 00:00:00+00:00\n",
      "\u001b[1mPortfolio Created On: \u001b[0m2019-02-22 12:33:39.560451+00:00\n",
      "\n"
     ]
    }
   ],
   "source": [
    "created_portfolios = CreatePortfolioFromDataframe(df)\n",
    "\n",
    "# we can now prettyprint all our portfolio responses to see the info on each new portfolio\n",
    "for portfolio in created_portfolios:\n",
    "    prettyprint.portfolio_response(portfolio)"
   ]
  },
  {
   "cell_type": "markdown",
   "metadata": {},
   "source": [
    "We then create one [derived portfolio](https://support.lusid.com/portfolios#derived-portfolios) from the first transaction portfolio created."
   ]
  },
  {
   "cell_type": "code",
   "execution_count": 6,
   "metadata": {
    "raw_mimetype": "text/x-python"
   },
   "outputs": [
    {
     "name": "stdout",
     "output_type": "stream",
     "text": [
      "\u001b[1mDerived Portfolio Created\u001b[0m\n",
      "\u001b[1mScope: \u001b[0mportfolio_demo_abc\n",
      "\u001b[1mCode: \u001b[0mderived-portfolio-A-a092\n",
      "\u001b[1mPortfolio Effective From: \u001b[0m2018-01-01 00:00:00+00:00\n",
      "\u001b[1mPortfolio Created On: \u001b[0m2019-02-22 12:33:39.899971+00:00\n",
      "\n",
      "\u001b[1mParent Portfolio Details\u001b[0m\n",
      "\u001b[1mCode: \u001b[0mportfolio-A-ff1b\n"
     ]
    }
   ],
   "source": [
    "# Create derived transaction portfolio from the first portfolio in the list\n",
    "guid = GetGuid()\n",
    "derived_portfolio_request = models.CreateDerivedTransactionPortfolioRequest(\n",
    "    display_name=\"derived-\"+created_portfolios[0].display_name, # this uses the portfolio name\n",
    "    code=\"derived-\"+created_portfolios[0].display_name+'-'+guid,\n",
    "    parent_portfolio_id=models.ResourceId(\n",
    "        scope=created_portfolios[0].id.scope,\n",
    "        code=created_portfolios[0].id.code),\n",
    "    description=\"derived_portfolio_description\",\n",
    "    created=created_portfolios[0].created,\n",
    "    corporate_action_source_id=None,\n",
    "    accounting_method=None,\n",
    "    sub_holding_keys=None)\n",
    "\n",
    "derived_portfolio = client.create_derived_portfolio(\n",
    "    scope=scope1,\n",
    "    portfolio=derived_portfolio_request)\n",
    "\n",
    "prettyprint.portfolio_response(derived_portfolio)"
   ]
  },
  {
   "cell_type": "markdown",
   "metadata": {},
   "source": [
    "A derived portfolio will automatically inherit all of the parent portfolio's details if they are not specified. These details can be modified and/or deleted. \n",
    "Modifying the details on a derived portfolio will not affect the parent portfolio. This is demonstrated in the following cells"
   ]
  },
  {
   "cell_type": "code",
   "execution_count": 7,
   "metadata": {},
   "outputs": [
    {
     "name": "stdout",
     "output_type": "stream",
     "text": [
      "Derived Portfolio Details : \n",
      "portfolio_demo_abc\n",
      "portfolio-A-ff1b\n",
      "GBP\n",
      "\n",
      "Parent Portfolio Details : \n",
      "portfolio_demo_abc\n",
      "portfolio-A-ff1b\n",
      "GBP\n",
      "\n"
     ]
    }
   ],
   "source": [
    "# First we will get the details for our new derived portfolio\n",
    "# and check they match with the parent portfolio\n",
    "derived_details = client.get_details(\n",
    "    scope=scope1,\n",
    "    code=derived_portfolio.id.code,\n",
    "    effective_at=None,\n",
    "    as_at=None)\n",
    "print(\"Derived Portfolio Details : \")\n",
    "portfolio_details_response(derived_details)\n",
    "\n",
    "print(\"Parent Portfolio Details : \")\n",
    "parent_details = client.get_details(\n",
    "    scope=scope1,\n",
    "    code=created_portfolios[0].id.code,\n",
    "    effective_at=None,\n",
    "    as_at=None)\n",
    "portfolio_details_response(parent_details)"
   ]
  },
  {
   "cell_type": "markdown",
   "metadata": {},
   "source": [
    "Now we can modify the derived portfolio currency so it no longer matches the parent portfolio"
   ]
  },
  {
   "cell_type": "code",
   "execution_count": 8,
   "metadata": {},
   "outputs": [
    {
     "name": "stdout",
     "output_type": "stream",
     "text": [
      "Derived Portfolio Details : \n",
      "portfolio_demo_abc\n",
      "derived-portfolio-A-a092\n",
      "USD\n",
      "\n",
      "Parent Portfolio Details : \n",
      "portfolio_demo_abc\n",
      "portfolio-A-ff1b\n",
      "GBP\n",
      "\n"
     ]
    }
   ],
   "source": [
    "request = models.CreatePortfolioDetails(\n",
    "    base_currency=\"USD\",\n",
    "    corporate_action_source_id=None)\n",
    "response = client.upsert_portfolio_details(\n",
    "    scope=scope1,\n",
    "    code=derived_portfolio.id.code,\n",
    "    details=request,\n",
    "    effective_at=None)\n",
    "print(\"Derived Portfolio Details : \")\n",
    "portfolio_details_response(response)\n",
    "\n",
    "print(\"Parent Portfolio Details : \")\n",
    "parent_details = client.get_details(\n",
    "    scope=scope1,\n",
    "    code=created_portfolios[0].id.code,\n",
    "    effective_at=None,\n",
    "    as_at=None)\n",
    "portfolio_details_response(parent_details)"
   ]
  },
  {
   "cell_type": "markdown",
   "metadata": {},
   "source": [
    "Now we can delete portfolio details. Note how after deleting the details on the derived portfolio, the response returns the scope and code of the parent portfolio, since `get_details` only returns the id of the portfolio from which the details originate - not the portfolio being queried."
   ]
  },
  {
   "cell_type": "code",
   "execution_count": 9,
   "metadata": {},
   "outputs": [
    {
     "name": "stdout",
     "output_type": "stream",
     "text": [
      "Derived Portfolio Details : \n",
      "portfolio_demo_abc\n",
      "portfolio-A-ff1b\n",
      "GBP\n",
      "\n",
      "Parent Portfolio Details : \n",
      "portfolio_demo_abc\n",
      "portfolio-A-ff1b\n",
      "GBP\n",
      "\n"
     ]
    }
   ],
   "source": [
    "response = client.delete_derived_portfolio_details(\n",
    "    scope=scope1,\n",
    "    code=derived_portfolio.id.code,\n",
    "    effective_at=None,\n",
    "    as_at=None)\n",
    "derived_details = client.get_details(\n",
    "    scope=scope1,\n",
    "    code=derived_portfolio.id.code,\n",
    "    effective_at=None,\n",
    "    as_at=None)\n",
    "\n",
    "print(\"Derived Portfolio Details : \")\n",
    "portfolio_details_response(derived_details) \n",
    "\n",
    "print(\"Parent Portfolio Details : \")\n",
    "parent_details = client.get_details(\n",
    "    scope=scope1,\n",
    "    code=created_portfolios[0].id.code)\n",
    "portfolio_details_response(parent_details)"
   ]
  },
  {
   "cell_type": "markdown",
   "metadata": {},
   "source": [
    "Next we can create some portfolio groups [(more details here)](https://support.lusid.com/portfolios#portfolio-groups). We will then demonstrate the process of adding portfolios to a group, creating subgroups, and modifying group information.\n",
    "\n",
    "To begin with, let's create a group in our main scope that contains all the GBP parent portfolios.\n",
    "\n",
    "Note that the second group is in a different scope to the first, it is entirely possible to combine portfolios and groups in different scopes, keep in mind that group-wide operations will still only apply to the specified scope, and will not affect portfolios/subgroups in different scopes."
   ]
  },
  {
   "cell_type": "code",
   "execution_count": 10,
   "metadata": {},
   "outputs": [
    {
     "name": "stdout",
     "output_type": "stream",
     "text": [
      "\u001b[91m\u001b[1mPortfolio Group Created\u001b[0m\n",
      "\u001b[1mName: \u001b[0mportfolio_group1_name\n",
      "\u001b[1mScope: \u001b[0mportfolio_demo_abc\n",
      "\u001b[1mCode: \u001b[0mportfolio_group-2f58\n",
      "\u001b[1mPortfolios Inside Group: \u001b[0m\n",
      "portfolio-A-ff1b\n",
      "portfolio-B-7407\n",
      "portfolio-C-2df3\n",
      "portfolio-D-ff0b\n",
      "portfolio-E-d7bf\n",
      "portfolio-F-2ece\n",
      "\n",
      "\n"
     ]
    }
   ],
   "source": [
    "# Create a portfolio group -- create two\n",
    "# -- The first group we will create with all the portfolios in the first scope\n",
    "# -- we can use a helper function to obtain a list of resource ids for this\n",
    "scope_1_portfolios = [(x) for x in created_portfolios if x.id.scope == scope1]\n",
    "scope_1_resource_ids = GetResourceIdsFromResponse(scope_1_portfolios)\n",
    "\n",
    "# Create group 1 with the portfolios of scope 1 in it\n",
    "guid = GetGuid()\n",
    "group_request1 = models.CreatePortfolioGroupRequest(\n",
    "    id=\"portfolio_group-{0}\".format(guid),\n",
    "    display_name=\"portfolio_group1_name\",\n",
    "    values=scope_1_resource_ids,\n",
    "    sub_groups=None,\n",
    "    description=None)\n",
    "\n",
    "portfolio_group1 = client.create_portfolio_group(scope1, group_request1)\n",
    "prettyprint.portfolio_group_response(portfolio_group1, 'created')\n"
   ]
  },
  {
   "cell_type": "markdown",
   "metadata": {},
   "source": [
    "So we have one group pre-populated with the portfolios in the first scope `portfolio_demo_main`. Since the derived portfolio hasn't been included in the first group, we can add it in now to Group 1."
   ]
  },
  {
   "cell_type": "code",
   "execution_count": 11,
   "metadata": {},
   "outputs": [
    {
     "data": {
      "text/plain": [
       "<lusid.models.portfolio_group.PortfolioGroup at 0x1e02f92a160>"
      ]
     },
     "execution_count": 11,
     "metadata": {},
     "output_type": "execute_result"
    }
   ],
   "source": [
    "# adding the derived portfolio to group 1 :\n",
    "client.add_portfolio_to_group(\n",
    "    scope=portfolio_group1.id.scope,\n",
    "    code=portfolio_group1.id.code,\n",
    "    portfolio_id=derived_portfolio.id)"
   ]
  },
  {
   "cell_type": "markdown",
   "metadata": {},
   "source": [
    "We can now compare two methods of obtaining groups from LUSID. The first is `get portfolio group` while the second is `get portfolio group expansion`. The difference here is that the first method will return only information about the specified group, including the ids of the portfolios and subgroups it contains, but not any further details of its portfolios and subgroups. The second method will not only return this basic information, but also the full details of each portfolio in the group and each portfolio in every subgroup as well. \n"
   ]
  },
  {
   "cell_type": "markdown",
   "metadata": {},
   "source": [
    "First we compare group 1 at the time of creation and at the most up-to-date time below, so we can see the changes that have been made to it since we created it using `get portfolio group`. The only expected difference right now will be the added derived portfolio. We will demonstrate the expanded method further on."
   ]
  },
  {
   "cell_type": "code",
   "execution_count": 13,
   "metadata": {},
   "outputs": [
    {
     "name": "stdout",
     "output_type": "stream",
     "text": [
      "Group 1 at time of creation\n",
      "Name: portfolio_group1_name\n",
      "Scope: portfolio_demo_abc\n",
      "Code: portfolio_group-2f58\n",
      "Portfolios Inside Group: \n",
      "portfolio-A-ff1b\n",
      "portfolio-B-7407\n",
      "portfolio-C-2df3\n",
      "portfolio-D-ff0b\n",
      "portfolio-E-d7bf\n",
      "portfolio-F-2ece\n",
      "Subgroups Inside Group: \n",
      "\n",
      "Group 1 at latest time\n",
      "Name: portfolio_group1_name\n",
      "Scope: portfolio_demo_abc\n",
      "Code: portfolio_group-2f58\n",
      "Portfolios Inside Group: \n",
      "portfolio-A-ff1b\n",
      "portfolio-B-7407\n",
      "portfolio-C-2df3\n",
      "portfolio-D-ff0b\n",
      "portfolio-E-d7bf\n",
      "portfolio-F-2ece\n",
      "derived-portfolio-A-a092\n",
      "Subgroups Inside Group: \n"
     ]
    }
   ],
   "source": [
    "# Get portfolio group now\n",
    "updated_group1 = client.get_portfolio_group(\n",
    "    scope=portfolio_group1.id.scope,\n",
    "    code=portfolio_group1.id.code,\n",
    "    as_at=datetime.utcnow().replace(tzinfo=pytz.utc))\n",
    "\n",
    "# Get portfolio group 1 prior to the update\n",
    "original_group1 = client.get_portfolio_group(\n",
    "    scope=portfolio_group1.id.scope,\n",
    "    code=portfolio_group1.id.code,\n",
    "    as_at=portfolio_group1.version.as_at_date)\n",
    "\n",
    "print('Group 1 at time of creation')\n",
    "PrintGetPortfolioGroupResponse(original_group1)\n",
    "print('')\n",
    "print('Group 1 at latest time')\n",
    "PrintGetPortfolioGroupResponse(updated_group1)"
   ]
  },
  {
   "cell_type": "markdown",
   "metadata": {},
   "source": [
    "This leaves the two portfolios in Scope 2. Since they are in another scope and based in a different currency, it makes sense to place them in a separate group to the first one. This time we create an empty group, then populate it separately. We follow this process as opposed to creating a pre-populated group (such as group 1 above) to demonstrate how empty groups can be created and how to upsert multiple potfolios to a group."
   ]
  },
  {
   "cell_type": "code",
   "execution_count": 14,
   "metadata": {},
   "outputs": [
    {
     "name": "stdout",
     "output_type": "stream",
     "text": [
      "\u001b[91m\u001b[1mPortfolio Group Created\u001b[0m\n",
      "\u001b[1mName: \u001b[0mportfolio_group2_name\n",
      "\u001b[1mScope: \u001b[0mportfolio_demo_xyz\n",
      "\u001b[1mCode: \u001b[0mportfolio_group-51f5\n",
      "\u001b[1mPortfolios Inside Group: \u001b[0m\n",
      "\n",
      "\n"
     ]
    }
   ],
   "source": [
    "# Create group 2 with no portfolios\n",
    "guid = GetGuid()\n",
    "group_request2 = models.CreatePortfolioGroupRequest(\n",
    "    id=\"portfolio_group-{0}\".format(guid),\n",
    "    display_name=\"portfolio_group2_name\",\n",
    "    values=None,\n",
    "    sub_groups=None,\n",
    "    description=None)\n",
    "\n",
    "portfolio_group2 = client.create_portfolio_group(scope2, group_request2)\n",
    "prettyprint.portfolio_group_response(portfolio_group2, 'created')\n",
    "\n",
    "# Add portfolios to groups\n",
    "# Once again we get a list of resource ids for the portfolios in scope 2 this time\n",
    "scope_2_portfolios = [(x) for x in created_portfolios if x.id.scope == scope2]\n",
    "scope_2_resource_ids = GetResourceIdsFromResponse(scope_2_portfolios)\n",
    "\n",
    "# Then to add multiple portfolios to group 2, we have to iterate over the list of ids, since they have to\n",
    "# be added one by one.\n",
    "for resource_id in scope_2_resource_ids:\n",
    "    client.add_portfolio_to_group(\n",
    "        scope=portfolio_group2.id.scope,\n",
    "        code=portfolio_group2.id.code,\n",
    "        portfolio_id=resource_id)"
   ]
  },
  {
   "cell_type": "markdown",
   "metadata": {},
   "source": [
    "We can also combine groups into each other to create sub-groups. We will add group 2 as a subgroup in group 1."
   ]
  },
  {
   "cell_type": "code",
   "execution_count": 15,
   "metadata": {},
   "outputs": [
    {
     "data": {
      "text/plain": [
       "<lusid.models.portfolio_group.PortfolioGroup at 0x1e02fac08d0>"
      ]
     },
     "execution_count": 15,
     "metadata": {},
     "output_type": "execute_result"
    }
   ],
   "source": [
    "# Add group to group\n",
    "client.add_sub_group_to_group(\n",
    "    scope=portfolio_group1.id.scope,\n",
    "    code=portfolio_group1.id.code,\n",
    "    portfolio_group_id=portfolio_group2.id)"
   ]
  },
  {
   "cell_type": "markdown",
   "metadata": {},
   "source": [
    "Since group 2 is now a subgroup, we can update its display name to reflect this"
   ]
  },
  {
   "cell_type": "code",
   "execution_count": 16,
   "metadata": {},
   "outputs": [
    {
     "data": {
      "text/plain": [
       "<lusid.models.portfolio_group.PortfolioGroup at 0x1e02fabd7b8>"
      ]
     },
     "execution_count": 16,
     "metadata": {},
     "output_type": "execute_result"
    }
   ],
   "source": [
    "# Update group request\n",
    "group_update_request = models.UpdatePortfolioGroupRequest(\n",
    "    display_name=\"Group1_Subgroup\",\n",
    "    description=None)\n",
    "\n",
    "# Update group\n",
    "client.update_portfolio_group(\n",
    "    scope=portfolio_group2.id.scope,\n",
    "    code=portfolio_group2.id.code,\n",
    "    request=group_update_request)"
   ]
  },
  {
   "cell_type": "markdown",
   "metadata": {},
   "source": [
    "We can now compare the `get _portfolio_group` method with getting the full expansion of a group. You will see that on top of a list of portfolios and subgroups, the full expansion also returns all the information for the portfolios similar to running the `get_portfolio` method on each portfolio in the group and groubgroup."
   ]
  },
  {
   "cell_type": "code",
   "execution_count": 17,
   "metadata": {},
   "outputs": [
    {
     "name": "stdout",
     "output_type": "stream",
     "text": [
      "Group 1 at latest time with basic GET method : \n",
      "Name: portfolio_group1_name\n",
      "Scope: portfolio_demo_abc\n",
      "Code: portfolio_group-2f58\n",
      "Portfolios Inside Group: \n",
      "portfolio-A-ff1b\n",
      "portfolio-B-7407\n",
      "portfolio-C-2df3\n",
      "portfolio-D-ff0b\n",
      "portfolio-E-d7bf\n",
      "portfolio-F-2ece\n",
      "derived-portfolio-A-a092\n",
      "Subgroups Inside Group: \n",
      "\u001b[91m\u001b[1mPortfolio Group Full Details : \u001b[0m\n",
      "\u001b[1mScope: \u001b[0mportfolio_demo_abc\n",
      "\u001b[1mCode: \u001b[0mportfolio_group-2f58\n",
      "\u001b[94m\u001b[1mPortfolios Inside Group: \u001b[0m\n",
      "\u001b[1mPortfolio Created\u001b[0m\n",
      "\u001b[1mScope: \u001b[0mportfolio_demo_abc\n",
      "\u001b[1mCode: \u001b[0mportfolio-A-ff1b\n",
      "\u001b[1mPortfolio Effective From: \u001b[0m2018-01-01 00:00:00+00:00\n",
      "\u001b[1mPortfolio Created On: \u001b[0m2019-02-22 12:33:39.899971+00:00\n",
      "\n",
      "\u001b[1mPortfolio Created\u001b[0m\n",
      "\u001b[1mScope: \u001b[0mportfolio_demo_abc\n",
      "\u001b[1mCode: \u001b[0mportfolio-B-7407\n",
      "\u001b[1mPortfolio Effective From: \u001b[0m2018-01-01 00:00:00+00:00\n",
      "\u001b[1mPortfolio Created On: \u001b[0m2019-02-22 12:33:37.790396+00:00\n",
      "\n",
      "\u001b[1mPortfolio Created\u001b[0m\n",
      "\u001b[1mScope: \u001b[0mportfolio_demo_abc\n",
      "\u001b[1mCode: \u001b[0mportfolio-C-2df3\n",
      "\u001b[1mPortfolio Effective From: \u001b[0m2018-01-01 00:00:00+00:00\n",
      "\u001b[1mPortfolio Created On: \u001b[0m2019-02-22 12:33:38.066387+00:00\n",
      "\n",
      "\u001b[1mPortfolio Created\u001b[0m\n",
      "\u001b[1mScope: \u001b[0mportfolio_demo_abc\n",
      "\u001b[1mCode: \u001b[0mportfolio-D-ff0b\n",
      "\u001b[1mPortfolio Effective From: \u001b[0m2018-01-01 00:00:00+00:00\n",
      "\u001b[1mPortfolio Created On: \u001b[0m2019-02-22 12:33:38.322326+00:00\n",
      "\n",
      "\u001b[1mPortfolio Created\u001b[0m\n",
      "\u001b[1mScope: \u001b[0mportfolio_demo_abc\n",
      "\u001b[1mCode: \u001b[0mportfolio-E-d7bf\n",
      "\u001b[1mPortfolio Effective From: \u001b[0m2018-01-01 00:00:00+00:00\n",
      "\u001b[1mPortfolio Created On: \u001b[0m2019-02-22 12:33:38.725421+00:00\n",
      "\n",
      "\u001b[1mPortfolio Created\u001b[0m\n",
      "\u001b[1mScope: \u001b[0mportfolio_demo_abc\n",
      "\u001b[1mCode: \u001b[0mportfolio-F-2ece\n",
      "\u001b[1mPortfolio Effective From: \u001b[0m2018-01-01 00:00:00+00:00\n",
      "\u001b[1mPortfolio Created On: \u001b[0m2019-02-22 12:33:38.989001+00:00\n",
      "\n",
      "\u001b[1mDerived Portfolio Created\u001b[0m\n",
      "\u001b[1mScope: \u001b[0mportfolio_demo_abc\n",
      "\u001b[1mCode: \u001b[0mderived-portfolio-A-a092\n",
      "\u001b[1mPortfolio Effective From: \u001b[0m2018-01-01 00:00:00+00:00\n",
      "\u001b[1mPortfolio Created On: \u001b[0m2019-02-22 12:33:41.023600+00:00\n",
      "\n",
      "\u001b[1mParent Portfolio Details\u001b[0m\n",
      "\u001b[1mCode: \u001b[0mportfolio-A-ff1b\n",
      "\u001b[92m\u001b[1mSubgroups Inside Group: \u001b[0m\n",
      "\u001b[1mName: \u001b[0mGroup1_Subgroup\n",
      "\u001b[1mScope: \u001b[0mportfolio_demo_xyz\n",
      "\u001b[1mCode: \u001b[0mportfolio_group-51f5\n",
      "\u001b[94m\u001b[1mPortfolios Inside SubGroup: \u001b[0m\n",
      "\u001b[1mPortfolio Created\u001b[0m\n",
      "\u001b[1mScope: \u001b[0mportfolio_demo_xyz\n",
      "\u001b[1mCode: \u001b[0mportfolio-X-ae73\n",
      "\u001b[1mPortfolio Effective From: \u001b[0m2018-01-01 00:00:00+00:00\n",
      "\u001b[1mPortfolio Created On: \u001b[0m2019-02-22 12:33:39.261737+00:00\n",
      "\n",
      "\u001b[1mPortfolio Created\u001b[0m\n",
      "\u001b[1mScope: \u001b[0mportfolio_demo_xyz\n",
      "\u001b[1mCode: \u001b[0mportfolio-Y-548e\n",
      "\u001b[1mPortfolio Effective From: \u001b[0m2018-01-01 00:00:00+00:00\n",
      "\u001b[1mPortfolio Created On: \u001b[0m2019-02-22 12:33:39.560451+00:00\n",
      "\n",
      "\n",
      "\n"
     ]
    }
   ],
   "source": [
    "# Get the basic group information for group 1 again:\n",
    "updated_group1 = client.get_portfolio_group(\n",
    "    scope=portfolio_group1.id.scope,\n",
    "    code=portfolio_group1.id.code,\n",
    "    as_at=datetime.utcnow().replace(tzinfo=pytz.utc))\n",
    "\n",
    "print('Group 1 at latest time with basic GET method : ')\n",
    "PrintGetPortfolioGroupResponse(updated_group1)\n",
    "\n",
    "\n",
    "# Get full expansion of portfolio group 1:\n",
    "expansion = client.get_portfolio_group_expansion(\n",
    "    scope=portfolio_group1.id.scope,\n",
    "    code=portfolio_group1.id.code,\n",
    "    effective_at=None,\n",
    "    as_at=None,\n",
    "    property_filter=None)\n",
    "\n",
    "prettyprint.expanded_portfolio_group_response(expansion)"
   ]
  },
  {
   "cell_type": "markdown",
   "metadata": {},
   "source": [
    "Suppose we wish to revert these changes, we have to explicitly delete each component step by step. Our Subgroup contains two portfolios, we're going to remove these from that group, remove the subgroup from the main group, and then delete it as it is no longer needed. If a subgroup is empty, it is not necessary to remove it before deleting it completely, however for example purposes we will follow each step.\n",
    "\n",
    "Note : it is possible to delete a populated group. This will not delete the portfolios, they will simply be removed from the group hierarchy."
   ]
  },
  {
   "cell_type": "code",
   "execution_count": 18,
   "metadata": {},
   "outputs": [
    {
     "name": "stdout",
     "output_type": "stream",
     "text": [
      "Name: Group1_Subgroup\n",
      "Scope: portfolio_demo_xyz\n",
      "Code: portfolio_group-51f5\n",
      "Portfolios Inside Group: \n",
      "portfolio-X-ae73\n",
      "portfolio-Y-548e\n",
      "Subgroups Inside Group: \n",
      "\n",
      "\u001b[91m\u001b[1mPortfolio Group\u001b[0m\n",
      "\u001b[1mName: \u001b[0mGroup1_Subgroup\n",
      "\u001b[1mScope: \u001b[0mportfolio_demo_xyz\n",
      "\u001b[1mCode: \u001b[0mportfolio_group-51f5\n",
      "\u001b[1mPortfolios Inside Group: \u001b[0m\n",
      "portfolio-Y-548e\n",
      "\n",
      "\n",
      "\u001b[91m\u001b[1mPortfolio Group\u001b[0m\n",
      "\u001b[1mName: \u001b[0mGroup1_Subgroup\n",
      "\u001b[1mScope: \u001b[0mportfolio_demo_xyz\n",
      "\u001b[1mCode: \u001b[0mportfolio_group-51f5\n",
      "\u001b[1mPortfolios Inside Group: \u001b[0m\n",
      "\n",
      "\n"
     ]
    }
   ],
   "source": [
    "# 1. Removal of portfolios from a group has to be done one portfolio at a time,\n",
    "# thus we can loop through the list of portfolios in scope 2 since they are all contained in the subgroup\n",
    "\n",
    "# first we print out the details of group 2\n",
    "original_group2 = client.get_portfolio_group(\n",
    "    scope=portfolio_group2.id.scope,\n",
    "    code=portfolio_group2.id.code,\n",
    "    as_at=None)\n",
    "\n",
    "PrintGetPortfolioGroupResponse(original_group2)\n",
    "print('')\n",
    "\n",
    "# then we proceed with removing each portfolio in the group, you will see each printed response will have\n",
    "# one fewer portfolio ids attached to the group.\n",
    "for portfolio_id in scope_2_resource_ids:\n",
    "    portfolio_removal = client.delete_portfolio_from_group(\n",
    "        scope=portfolio_group2.id.scope,\n",
    "        code=portfolio_group2.id.code,\n",
    "        portfolio_scope=portfolio_id.scope,\n",
    "        portfolio_code=portfolio_id.code)\n",
    "    prettyprint.portfolio_group_response(portfolio_removal, 'none')"
   ]
  },
  {
   "cell_type": "code",
   "execution_count": 19,
   "metadata": {},
   "outputs": [
    {
     "name": "stdout",
     "output_type": "stream",
     "text": [
      "\u001b[91m\u001b[1mPortfolio Group\u001b[0m\n",
      "\u001b[1mName: \u001b[0mportfolio_group1_name\n",
      "\u001b[1mScope: \u001b[0mportfolio_demo_abc\n",
      "\u001b[1mCode: \u001b[0mportfolio_group-2f58\n",
      "\u001b[1mPortfolios Inside Group: \u001b[0m\n",
      "portfolio-A-ff1b\n",
      "portfolio-B-7407\n",
      "portfolio-C-2df3\n",
      "portfolio-D-ff0b\n",
      "portfolio-E-d7bf\n",
      "portfolio-F-2ece\n",
      "derived-portfolio-A-a092\n",
      "\n",
      "\n",
      "Remaining Sub Groups :  []\n"
     ]
    }
   ],
   "source": [
    "# 2. Remove group from group\n",
    "group_removal = client.delete_sub_group_from_group(\n",
    "    scope=portfolio_group1.id.scope,\n",
    "    code=portfolio_group1.id.code,\n",
    "    subgroup_scope=portfolio_group2.id.scope,\n",
    "    subgroup_code=portfolio_group2.id.code)\n",
    "\n",
    "prettyprint.portfolio_group_response(group_removal, 'none')\n",
    "print('Remaining Sub Groups : ', group_removal.sub_groups)"
   ]
  },
  {
   "cell_type": "code",
   "execution_count": 20,
   "metadata": {},
   "outputs": [],
   "source": [
    "# 3. Delete group\n",
    "group_deletion = client.delete_portfolio_group(\n",
    "    scope=portfolio_group2.id.scope,\n",
    "    code=portfolio_group2.id.code)"
   ]
  },
  {
   "cell_type": "markdown",
   "metadata": {},
   "source": [
    "We can now check what operations have been applied to each of our groups, including an already deleted group, by using the `get portfolio group commands` method, as below."
   ]
  },
  {
   "cell_type": "code",
   "execution_count": 21,
   "metadata": {},
   "outputs": [
    {
     "name": "stdout",
     "output_type": "stream",
     "text": [
      "\u001b[1mCommands Applied To Group portfolio_group1_name\u001b[0m\n",
      "\u001b[1mNumber of commands : \u001b[0m4\n",
      "\u001b[1mDescription : \u001b[0mCreate portfolio group\n",
      "\u001b[1mAt Time : \u001b[0m2019-02-22T12:33:41.6694350+00:00\n",
      "\n",
      "\n",
      "\u001b[1mDescription : \u001b[0mAdd portfolio to group\n",
      "\u001b[1mAt Time : \u001b[0m2019-02-22T12:33:41.9926580+00:00\n",
      "\n",
      "\n",
      "\u001b[1mDescription : \u001b[0mAdd subgroup to group\n",
      "\u001b[1mAt Time : \u001b[0m2019-02-22T12:33:58.4758780+00:00\n",
      "\n",
      "\n",
      "\u001b[1mDescription : \u001b[0mDelete subgroup from group\n",
      "\u001b[1mAt Time : \u001b[0m2019-02-22T12:34:00.9583610+00:00\n",
      "\n",
      "\n",
      "\u001b[1mCommands Applied To Group portfolio_group2_name\u001b[0m\n",
      "\u001b[1mNumber of commands : \u001b[0m7\n",
      "\u001b[1mDescription : \u001b[0mCreate portfolio group\n",
      "\u001b[1mAt Time : \u001b[0m2019-02-22T12:33:57.0715100+00:00\n",
      "\n",
      "\n",
      "\u001b[1mDescription : \u001b[0mAdd portfolio to group\n",
      "\u001b[1mAt Time : \u001b[0m2019-02-22T12:33:57.3774290+00:00\n",
      "\n",
      "\n",
      "\u001b[1mDescription : \u001b[0mAdd portfolio to group\n",
      "\u001b[1mAt Time : \u001b[0m2019-02-22T12:33:57.6529550+00:00\n",
      "\n",
      "\n",
      "\u001b[1mDescription : \u001b[0mUpdate portfolio group\n",
      "\u001b[1mAt Time : \u001b[0m2019-02-22T12:33:59.4527990+00:00\n",
      "\n",
      "\n",
      "\u001b[1mDescription : \u001b[0mDelete portfolio from group\n",
      "\u001b[1mAt Time : \u001b[0m2019-02-22T12:34:00.4017530+00:00\n",
      "\n",
      "\n",
      "\u001b[1mDescription : \u001b[0mDelete portfolio from group\n",
      "\u001b[1mAt Time : \u001b[0m2019-02-22T12:34:00.6807230+00:00\n",
      "\n",
      "\n",
      "\u001b[1mDescription : \u001b[0mDelete portfolio group\n",
      "\u001b[1mAt Time : \u001b[0m2019-02-22T12:34:01.2735270+00:00\n",
      "\n",
      "\n"
     ]
    }
   ],
   "source": [
    "# Get commands\n",
    "group1_commands = client.get_portfolio_group_commands(\n",
    "    scope=portfolio_group1.id.scope,\n",
    "    code=portfolio_group1.id.code,\n",
    "    from_as_at=None,\n",
    "    to_as_at=None,\n",
    "    sort_by=None,\n",
    "    start=None,\n",
    "    limit=None,\n",
    "    filter=None)\n",
    "\n",
    "group2_commands = client.get_portfolio_group_commands(\n",
    "    scope=portfolio_group2.id.scope,\n",
    "    code=portfolio_group2.id.code,\n",
    "    from_as_at=None,\n",
    "    to_as_at=None,\n",
    "    sort_by=None,\n",
    "    start=None,\n",
    "    limit=None,\n",
    "    filter=None)\n",
    "\n",
    "prettyprint.group_commands(group1_commands, portfolio_group1.display_name)\n",
    "\n",
    "prettyprint.group_commands(group2_commands, portfolio_group2.display_name)"
   ]
  },
  {
   "cell_type": "markdown",
   "metadata": {},
   "source": [
    "We can now verify that the group has indeed been deleted from our scope by getting all groups in each of our scopes, the second of which should be empty now."
   ]
  },
  {
   "cell_type": "code",
   "execution_count": 22,
   "metadata": {},
   "outputs": [
    {
     "name": "stdout",
     "output_type": "stream",
     "text": [
      "Groups in scope 1 : \n",
      "    Scope :  portfolio_demo_abc, Code :  portfolio_group-d27b\n",
      "    Scope :  portfolio_demo_abc, Code :  portfolio_group-37db\n",
      "    Scope :  portfolio_demo_abc, Code :  portfolio_group-2f58\n",
      "    Scope :  portfolio_demo_abc, Code :  portfolio_group-5773\n",
      "Groups in scope 2 : \n"
     ]
    }
   ],
   "source": [
    "# List groups in scope - show one scope with no groups\n",
    "scope1_groups = client.list_portfolio_groups(scope=scope1)\n",
    "scope2_groups = client.list_portfolio_groups(scope=scope2)\n",
    "print(\"Groups in scope 1 : \")\n",
    "for group in scope1_groups.values:\n",
    "    print('    Scope : ', group.id.scope+', Code : ', group.id.code)\n",
    "\n",
    "print(\"Groups in scope 2 : \")\n",
    "for group in scope2_groups.values:  # This one should be empty and not output anything\n",
    "    print('    Scope : ', group.id.scope+', Code : ', group.id.code)"
   ]
  },
  {
   "cell_type": "code",
   "execution_count": 23,
   "metadata": {},
   "outputs": [],
   "source": [
    "# In case any extra groups are hanging around, delete them here\n",
    "# Find not matching group ids in each scope\n",
    "# # # # --- This might actually delete all groups??? --- # # # # # -- IT DOES\n",
    "# scope1_group_ids_to_delete = []\n",
    "# scope2_group_ids_to_delete = []\n",
    "\n",
    "# for group in scope1_groups.values:\n",
    "#     if group.id.code is not portfolio_group1.id.code :\n",
    "#         scope1_group_ids_to_delete.append(group.id)\n",
    "\n",
    "# for group in scope2_groups.values:\n",
    "#     if group.id.code is not portfolio_group2.id.code :\n",
    "#         scope2_group_ids_to_delete.append(group.id)\n",
    "\n",
    "# for group in scope1_group_ids_to_delete:\n",
    "#     client.delete_portfolio_group(\n",
    "#         scope = group.scope,\n",
    "#         code = group.code)\n",
    "\n",
    "# for group in scope2_group_ids_to_delete:\n",
    "#     client.delete_portfolio_group(\n",
    "#         scope = group.scope,\n",
    "#         code = group.code)"
   ]
  },
  {
   "cell_type": "markdown",
   "metadata": {},
   "source": [
    "If we list all the portfolios in our scopes we will see that they are all still there. There may be extra portfolios not created in this example, if this is the case, we can delete all these extra portfolios and keep only those we are interested in."
   ]
  },
  {
   "cell_type": "code",
   "execution_count": 24,
   "metadata": {},
   "outputs": [
    {
     "name": "stdout",
     "output_type": "stream",
     "text": [
      "Portfolios remaining in scope  portfolio_demo_abc  :\n",
      "\u001b[1mPortfolio Created\u001b[0m\n",
      "\u001b[1mScope: \u001b[0mportfolio_demo_abc\n",
      "\u001b[1mCode: \u001b[0mportfolio-F-2ece\n",
      "\u001b[1mPortfolio Effective From: \u001b[0m2018-01-01 00:00:00+00:00\n",
      "\u001b[1mPortfolio Created On: \u001b[0m2019-02-22 12:33:38.989001+00:00\n",
      "\n",
      "\n",
      "\n",
      "\u001b[1mDerived Portfolio Created\u001b[0m\n",
      "\u001b[1mScope: \u001b[0mportfolio_demo_abc\n",
      "\u001b[1mCode: \u001b[0mderived-portfolio-A-a092\n",
      "\u001b[1mPortfolio Effective From: \u001b[0m2018-01-01 00:00:00+00:00\n",
      "\u001b[1mPortfolio Created On: \u001b[0m2019-02-22 12:33:41.023600+00:00\n",
      "\n",
      "\u001b[1mParent Portfolio Details\u001b[0m\n",
      "\u001b[1mCode: \u001b[0mportfolio-A-ff1b\n",
      "\n",
      "\n",
      "\u001b[1mPortfolio Created\u001b[0m\n",
      "\u001b[1mScope: \u001b[0mportfolio_demo_abc\n",
      "\u001b[1mCode: \u001b[0mportfolio-D-ff0b\n",
      "\u001b[1mPortfolio Effective From: \u001b[0m2018-01-01 00:00:00+00:00\n",
      "\u001b[1mPortfolio Created On: \u001b[0m2019-02-22 12:33:38.322326+00:00\n",
      "\n",
      "\n",
      "\n",
      "\u001b[1mPortfolio Created\u001b[0m\n",
      "\u001b[1mScope: \u001b[0mportfolio_demo_abc\n",
      "\u001b[1mCode: \u001b[0mportfolio-C-2df3\n",
      "\u001b[1mPortfolio Effective From: \u001b[0m2018-01-01 00:00:00+00:00\n",
      "\u001b[1mPortfolio Created On: \u001b[0m2019-02-22 12:33:38.066387+00:00\n",
      "\n",
      "\n",
      "\n",
      "\u001b[1mDerived Portfolio Created\u001b[0m\n",
      "\u001b[1mScope: \u001b[0mportfolio_demo_abc\n",
      "\u001b[1mCode: \u001b[0mderived-portfolio-A-7d0c\n",
      "\u001b[1mPortfolio Effective From: \u001b[0m2018-01-01 00:00:00+00:00\n",
      "\u001b[1mPortfolio Created On: \u001b[0m2019-02-22 12:31:34.779950+00:00\n",
      "\n",
      "\u001b[1mParent Portfolio Details\u001b[0m\n",
      "\u001b[1mCode: \u001b[0mportfolio-A-5a47\n",
      "\n",
      "\n",
      "\u001b[1mPortfolio Created\u001b[0m\n",
      "\u001b[1mScope: \u001b[0mportfolio_demo_abc\n",
      "\u001b[1mCode: \u001b[0mportfolio-B-7407\n",
      "\u001b[1mPortfolio Effective From: \u001b[0m2018-01-01 00:00:00+00:00\n",
      "\u001b[1mPortfolio Created On: \u001b[0m2019-02-22 12:33:37.790396+00:00\n",
      "\n",
      "\n",
      "\n",
      "\u001b[1mPortfolio Created\u001b[0m\n",
      "\u001b[1mScope: \u001b[0mportfolio_demo_abc\n",
      "\u001b[1mCode: \u001b[0mportfolio-A-ff1b\n",
      "\u001b[1mPortfolio Effective From: \u001b[0m2018-01-01 00:00:00+00:00\n",
      "\u001b[1mPortfolio Created On: \u001b[0m2019-02-22 12:33:39.899971+00:00\n",
      "\n",
      "\n",
      "\n",
      "\u001b[1mPortfolio Created\u001b[0m\n",
      "\u001b[1mScope: \u001b[0mportfolio_demo_abc\n",
      "\u001b[1mCode: \u001b[0mportfolio-A-5a47\n",
      "\u001b[1mPortfolio Effective From: \u001b[0m2018-01-01 00:00:00+00:00\n",
      "\u001b[1mPortfolio Created On: \u001b[0m2019-02-22 12:31:33.569555+00:00\n",
      "\n",
      "\n",
      "\n",
      "\u001b[1mPortfolio Created\u001b[0m\n",
      "\u001b[1mScope: \u001b[0mportfolio_demo_abc\n",
      "\u001b[1mCode: \u001b[0mportfolio-E-d7bf\n",
      "\u001b[1mPortfolio Effective From: \u001b[0m2018-01-01 00:00:00+00:00\n",
      "\u001b[1mPortfolio Created On: \u001b[0m2019-02-22 12:33:38.725421+00:00\n",
      "\n",
      "\n",
      "\n"
     ]
    }
   ],
   "source": [
    "scope1_portfolios_list_response = client.list_portfolios_for_scope(\n",
    "    scope=scope1,\n",
    "    effective_at=None,\n",
    "    as_at=None,\n",
    "    sort_by='-as_at',\n",
    "    start=None,\n",
    "    limit=None,\n",
    "    filter=None)\n",
    "scope2_portfolios_list_response = client.list_portfolios_for_scope(\n",
    "    scope=scope2,\n",
    "    effective_at=None,\n",
    "    as_at=None,\n",
    "    sort_by=None,\n",
    "    start=None,\n",
    "    limit=None,\n",
    "    filter=None)\n",
    "\n",
    "print('Portfolios remaining in scope ', scope1, ' :')\n",
    "for portfolio in scope1_portfolios_list_response.values:\n",
    "    prettyprint.portfolio_response(portfolio)\n",
    "    print('\\n')\n",
    "\n",
    "# print('Portfolios remaining in scope ', scope2, ' :')\n",
    "# for portfolio in scope2_portfolios_list_response.values:\n",
    "#     prettyprint.portfolio_response(portfolio)\n",
    "#     print('\\n')"
   ]
  },
  {
   "cell_type": "markdown",
   "metadata": {},
   "source": [
    "The cells below allow us to delete the extra portfolios in the scope. Keep in mind, derived portfolios must be deleted first, as if a parent portfolio still contains a child, the deletion will fail."
   ]
  },
  {
   "cell_type": "code",
   "execution_count": 25,
   "metadata": {},
   "outputs": [],
   "source": [
    "# Helper functions to filter out unwanted portfolios\n",
    "\n",
    "def extractIds(portfolioList):\n",
    "    parent_ids = []\n",
    "    derived_ids = []\n",
    "    for folio in portfolioList:\n",
    "        if folio.is_derived:\n",
    "            derived_ids.append((folio.id.scope, folio.id.code))\n",
    "        else:\n",
    "            parent_ids.append((folio.id.scope, folio.id.code))\n",
    "    return (parent_ids, derived_ids)\n",
    "\n",
    "def returnNotMatches(a, b):\n",
    "    if type(b) is not tuple:\n",
    "        return [x for x in a if x not in b]\n",
    "    else :\n",
    "        return [x for x in a if x not in [b]]\n"
   ]
  },
  {
   "cell_type": "markdown",
   "metadata": {},
   "source": [
    "Now we select the parent/derived portfolios we wish to keep or delete. Currently `portfolios_to_keep` is hardcoded to keep the derived portfolio that we created at the beginning of this example, and its parent portfolio."
   ]
  },
  {
   "cell_type": "code",
   "execution_count": 26,
   "metadata": {},
   "outputs": [
    {
     "name": "stdout",
     "output_type": "stream",
     "text": [
      "Keeping Parents :  ('portfolio_demo_abc', 'portfolio-A-ff1b')\n",
      "Deleting Parents :  [('portfolio_demo_abc', 'portfolio-F-2ece'), ('portfolio_demo_abc', 'portfolio-D-ff0b'), ('portfolio_demo_abc', 'portfolio-C-2df3'), ('portfolio_demo_abc', 'portfolio-B-7407'), ('portfolio_demo_abc', 'portfolio-A-5a47'), ('portfolio_demo_abc', 'portfolio-E-d7bf'), ('portfolio_demo_xyz', 'portfolio-X-ae73'), ('portfolio_demo_xyz', 'portfolio-Y-548e')]\n",
      "\n",
      "Keeping Derived :  ('portfolio_demo_abc', 'derived-portfolio-A-a092')\n",
      "Deleting Derived :  [('portfolio_demo_abc', 'derived-portfolio-A-7d0c')]\n"
     ]
    }
   ],
   "source": [
    "# first combine all the portfolios in our two scopes\n",
    "all_portfolios_in_scopes = extractIds(scope1_portfolios_list_response.values\n",
    "                                      + scope2_portfolios_list_response.values)\n",
    "parent_portfolios = all_portfolios_in_scopes[0]\n",
    "derived_portfolios = all_portfolios_in_scopes[1]\n",
    "\n",
    "# then combine the portfolios we're interested in keeping into a list \n",
    "# - just the first portfolio we created and its derived portfolio\n",
    "portfolios_to_keep = [(derived_portfolio.parent_portfolio_id.scope, derived_portfolio.parent_portfolio_id.code),\n",
    "                     (derived_portfolio.id.scope, derived_portfolio.id.code)]\n",
    "parents_to_keep = portfolios_to_keep[0]\n",
    "derived_to_keep = portfolios_to_keep[1]\n",
    "\n",
    "# we can now exclude portfolios to keep from the full list\n",
    "parents_to_delete = returnNotMatches(parent_portfolios, parents_to_keep)\n",
    "derived_to_delete = returnNotMatches(derived_portfolios, derived_to_keep)\n",
    "print(\"Keeping Parents : \", parents_to_keep)\n",
    "print(\"Deleting Parents : \", parents_to_delete)\n",
    "print(\"\")\n",
    "print(\"Keeping Derived : \", derived_to_keep)\n",
    "print(\"Deleting Derived : \", derived_to_delete)"
   ]
  },
  {
   "cell_type": "markdown",
   "metadata": {},
   "source": [
    "With this filtering done, we can proceed with deleting unwanted portfolios. Deletion is done one portfolio at a time, therefore we must loop through the list of portfolios to delete. Derived portfolios are deleted first, followed by a separate loop to delete parent (top level - they may never have had derived portfolios attached) portfolios."
   ]
  },
  {
   "cell_type": "code",
   "execution_count": 27,
   "metadata": {},
   "outputs": [
    {
     "name": "stdout",
     "output_type": "stream",
     "text": [
      "Deleting Derived Portfolios ... \n",
      "Portfolio deleted :  portfolio_demo_abc derived-portfolio-A-7d0c\n",
      "At time :  2019-02-22 12:34:02.928965+00:00\n",
      "\n",
      "\n",
      "Deleting remaining Portfolios ... \n",
      "Attempting to Delete :  portfolio_demo_abc portfolio-F-2ece\n",
      "Portfolio deleted :  portfolio_demo_abc portfolio-F-2ece\n",
      "At time :  2019-02-22 12:34:03.203708+00:00\n",
      "Attempting to Delete :  portfolio_demo_abc portfolio-D-ff0b\n",
      "Portfolio deleted :  portfolio_demo_abc portfolio-D-ff0b\n",
      "At time :  2019-02-22 12:34:03.507122+00:00\n",
      "Attempting to Delete :  portfolio_demo_abc portfolio-C-2df3\n",
      "Portfolio deleted :  portfolio_demo_abc portfolio-C-2df3\n",
      "At time :  2019-02-22 12:34:03.769109+00:00\n",
      "Attempting to Delete :  portfolio_demo_abc portfolio-B-7407\n",
      "Portfolio deleted :  portfolio_demo_abc portfolio-B-7407\n",
      "At time :  2019-02-22 12:34:04.019486+00:00\n",
      "Attempting to Delete :  portfolio_demo_abc portfolio-A-5a47\n",
      "Portfolio deleted :  portfolio_demo_abc portfolio-A-5a47\n",
      "At time :  2019-02-22 12:34:04.349481+00:00\n",
      "Attempting to Delete :  portfolio_demo_abc portfolio-E-d7bf\n",
      "Portfolio deleted :  portfolio_demo_abc portfolio-E-d7bf\n",
      "At time :  2019-02-22 12:34:04.596494+00:00\n",
      "Attempting to Delete :  portfolio_demo_xyz portfolio-X-ae73\n",
      "Portfolio deleted :  portfolio_demo_xyz portfolio-X-ae73\n",
      "At time :  2019-02-22 12:34:04.870349+00:00\n",
      "Attempting to Delete :  portfolio_demo_xyz portfolio-Y-548e\n",
      "Portfolio deleted :  portfolio_demo_xyz portfolio-Y-548e\n",
      "At time :  2019-02-22 12:34:05.138383+00:00\n"
     ]
    }
   ],
   "source": [
    "# Next we delete the derived portfolios first\n",
    "print(\"Deleting Derived Portfolios ... \")\n",
    "for portfolio in derived_to_delete:\n",
    "    response = client.delete_portfolio(\n",
    "        scope=portfolio[0],\n",
    "        code=portfolio[1])\n",
    "#         ,\n",
    "#         effective_at=None)\n",
    "    print('Portfolio deleted : ', portfolio[0], portfolio[1])\n",
    "    print('At time : ', str(response.as_at))\n",
    "print('\\n')\n",
    "print(\"Deleting remaining Portfolios ... \")\n",
    "# Then we proceed with deleting the remaining parent portfolios\n",
    "for portfolio in parents_to_delete:\n",
    "    print('Attempting to Delete : ', portfolio[0], portfolio[1])\n",
    "    response = client.delete_portfolio(\n",
    "        scope=portfolio[0],\n",
    "        code=portfolio[1])\n",
    "    print('Portfolio deleted : ', portfolio[0], portfolio[1])\n",
    "    print('At time : ', str(response.as_at))"
   ]
  },
  {
   "cell_type": "markdown",
   "metadata": {},
   "source": [
    "If we now re-list the portfolios in our scopes, we will see that only our two original portfolios remain, and one derived portfolio."
   ]
  },
  {
   "cell_type": "code",
   "execution_count": 28,
   "metadata": {},
   "outputs": [
    {
     "name": "stdout",
     "output_type": "stream",
     "text": [
      "\u001b[91m Portfolios remaining in scope:  \u001b[0m portfolio_demo_abc :\n",
      "\u001b[1mDerived Portfolio Created\u001b[0m\n",
      "\u001b[1mScope: \u001b[0mportfolio_demo_abc\n",
      "\u001b[1mCode: \u001b[0mderived-portfolio-A-a092\n",
      "\u001b[1mPortfolio Effective From: \u001b[0m2018-01-01 00:00:00+00:00\n",
      "\u001b[1mPortfolio Created On: \u001b[0m2019-02-22 12:33:41.023600+00:00\n",
      "\n",
      "\u001b[1mParent Portfolio Details\u001b[0m\n",
      "\u001b[1mCode: \u001b[0mportfolio-A-ff1b\n",
      "\n",
      "\n",
      "\u001b[1mPortfolio Created\u001b[0m\n",
      "\u001b[1mScope: \u001b[0mportfolio_demo_abc\n",
      "\u001b[1mCode: \u001b[0mportfolio-A-ff1b\n",
      "\u001b[1mPortfolio Effective From: \u001b[0m2018-01-01 00:00:00+00:00\n",
      "\u001b[1mPortfolio Created On: \u001b[0m2019-02-22 12:33:39.899971+00:00\n",
      "\n",
      "\n",
      "\n",
      "\u001b[91m Portfolios remaining in scope:  \u001b[0m portfolio_demo_xyz :\n"
     ]
    }
   ],
   "source": [
    "# We can re-run the list portfolios command to check what portfolios remain in each scope\n",
    "scope1_portfolios_list_response = client.list_portfolios_for_scope(\n",
    "    scope=scope1,\n",
    "    effective_at=None,\n",
    "    as_at=None,\n",
    "    sort_by=None,\n",
    "    start=None,\n",
    "    limit=None,\n",
    "    filter=None)\n",
    "\n",
    "scope2_portfolios_list_response = client.list_portfolios_for_scope(\n",
    "    scope=scope2,\n",
    "    effective_at=None,\n",
    "    as_at=None,\n",
    "    sort_by=None,\n",
    "    start=None,\n",
    "    limit=None,\n",
    "    filter=None)\n",
    "\n",
    "print('\\033[91m', 'Portfolios remaining in scope: ', '\\033[0m', scope1, ':')\n",
    "for portfolio in scope1_portfolios_list_response.values:\n",
    "    prettyprint.portfolio_response(portfolio)\n",
    "    print('\\n')\n",
    "\n",
    "print('\\033[91m', 'Portfolios remaining in scope: ', '\\033[0m', scope2, ':')\n",
    "for portfolio in scope2_portfolios_list_response.values:\n",
    "    prettyprint.portfolio_response(portfolio)\n",
    "    print('\\n')"
   ]
  }
 ],
 "metadata": {
  "celltoolbar": "Raw Cell Format",
  "kernelspec": {
   "display_name": "Python 3",
   "language": "python",
   "name": "python3"
  },
  "language_info": {
   "codemirror_mode": {
    "name": "ipython",
    "version": 3
   },
   "file_extension": ".py",
   "mimetype": "text/x-python",
   "name": "python",
   "nbconvert_exporter": "python",
   "pygments_lexer": "ipython3",
   "version": "3.6.7"
  }
 },
 "nbformat": 4,
 "nbformat_minor": 2
}
