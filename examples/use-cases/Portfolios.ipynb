{
 "cells": [
  {
   "cell_type": "markdown",
   "metadata": {},
   "source": [
    "## Portfolios and Portfolio Groups"
   ]
  },
  {
   "cell_type": "markdown",
   "metadata": {},
   "source": [
    "Portfolios in LUSID are used to contain transactions, and come in multiple forms based on hierarchy and use case. The basic portfolio types are :\n",
    "- Transaction Portfolios\n",
    "- Reference Portfolios\n",
    "- Derived Portfolios\n",
    "\n",
    "[LUSID Knowledge Base: Portfolios](https://support.lusid.com/what-is-2)\n",
    "\n",
    "These portfolios can then be grouped, where portfolio operations on the group are applied to an aggregated set of portfolios in the hierarchy. \n",
    "\n",
    "[LUSID Knowledge Base: Portfolio Groups](https://support.lusid.com/how-do-you-group-and-aggregate-portfolios)\n",
    "\n",
    "This example will show how to :\n",
    "1. Create Transactions Portfolios\n",
    "2. Create Derived Portfolios\n",
    "3. Portfolio Details\n",
    "    - 3.1. Get Details\n",
    "    - 3.2. Add/Modify Details\n",
    "    - 3.3. Delete Details\n",
    "4. Create Portfolio Groups\n",
    "5. Add Portfolios to a Group\n",
    "6. Get Portfolio Group Details\n",
    "7. Add a Group to a Group (Creation of Subgroups)\n",
    "8. Modify Groups\n",
    "9. Get Full Expansion of Group\n",
    "10. Remove Portfolios and Subgroups from Groups\n",
    "11. Delete Groups\n",
    "12. Get Group Commands\n",
    "13. List Groups in Scope\n",
    "14. List Portfolios in Scope\n",
    "15. Delete Portfolios"
   ]
  },
  {
   "cell_type": "markdown",
   "metadata": {},
   "source": [
    "Initialise our environment and connect to LUSID\n",
    "\n",
    "*Run the cell below to initialise the environment*"
   ]
  },
  {
   "cell_type": "code",
   "execution_count": 1,
   "metadata": {},
   "outputs": [
    {
     "name": "stdout",
     "output_type": "stream",
     "text": [
      "LUSID Environment Initialised\n",
      "LUSID version :  0.9.157\n"
     ]
    }
   ],
   "source": [
    "# Import LUSID\n",
    "import lusid\n",
    "import lusid.models as models\n",
    "import lusid_sample_data as import_data\n",
    "# Import Libraries\n",
    "import pprint\n",
    "from datetime import datetime, timedelta, time\n",
    "import pytz\n",
    "import uuid\n",
    "import printer as prettyprint\n",
    "from datetime import datetime\n",
    "import pandas as pd\n",
    "import numpy as np\n",
    "import os\n",
    "from msrest.authentication import BasicTokenAuthentication\n",
    "\n",
    "# Authenticate our user and create our API client\n",
    "client = import_data.authenticate_secrets()\n",
    "\n",
    "print('LUSID Environment Initialised')\n",
    "print('LUSID version : ', client.api_version)"
   ]
  },
  {
   "cell_type": "markdown",
   "metadata": {},
   "source": [
    "First we start by loading some default portfolios, we will put them in two different scopes to demonstrate the separation between scopes and the usage of different scopes within portfolio groups.\n",
    "\n",
    "- Note: In order to demonstrate the deletion more clearly at then end of this example, run the portfolio creation more than once, and the derived portfolio creation 2-3 times as well, this will create a population of unnecessary portfolios that can be safely removed without affecting the portfolios of interest. It is not necessary to do this, the deletion example still works with a single set of portfolios"
   ]
  },
  {
   "cell_type": "markdown",
   "metadata": {},
   "source": [
    "### Initial Setup\n",
    "*Run the cell below to load a csv of portfolio names*"
   ]
  },
  {
   "cell_type": "code",
   "execution_count": 2,
   "metadata": {},
   "outputs": [
    {
     "name": "stdout",
     "output_type": "stream",
     "text": [
      "number of columns :  2\n",
      "column names :  Index(['display_name', 'base_currency'], dtype='object')\n"
     ]
    },
    {
     "data": {
      "text/html": [
       "<div>\n",
       "<style scoped>\n",
       "    .dataframe tbody tr th:only-of-type {\n",
       "        vertical-align: middle;\n",
       "    }\n",
       "\n",
       "    .dataframe tbody tr th {\n",
       "        vertical-align: top;\n",
       "    }\n",
       "\n",
       "    .dataframe thead th {\n",
       "        text-align: right;\n",
       "    }\n",
       "</style>\n",
       "<table border=\"1\" class=\"dataframe\">\n",
       "  <thead>\n",
       "    <tr style=\"text-align: right;\">\n",
       "      <th></th>\n",
       "      <th>display_name</th>\n",
       "      <th>base_currency</th>\n",
       "    </tr>\n",
       "  </thead>\n",
       "  <tbody>\n",
       "    <tr>\n",
       "      <th>0</th>\n",
       "      <td>portfolio-A</td>\n",
       "      <td>GBP</td>\n",
       "    </tr>\n",
       "    <tr>\n",
       "      <th>1</th>\n",
       "      <td>portfolio-B</td>\n",
       "      <td>GBP</td>\n",
       "    </tr>\n",
       "    <tr>\n",
       "      <th>2</th>\n",
       "      <td>portfolio-C</td>\n",
       "      <td>GBP</td>\n",
       "    </tr>\n",
       "    <tr>\n",
       "      <th>3</th>\n",
       "      <td>portfolio-D</td>\n",
       "      <td>GBP</td>\n",
       "    </tr>\n",
       "    <tr>\n",
       "      <th>4</th>\n",
       "      <td>portfolio-E</td>\n",
       "      <td>GBP</td>\n",
       "    </tr>\n",
       "  </tbody>\n",
       "</table>\n",
       "</div>"
      ],
      "text/plain": [
       "  display_name base_currency\n",
       "0  portfolio-A           GBP\n",
       "1  portfolio-B           GBP\n",
       "2  portfolio-C           GBP\n",
       "3  portfolio-D           GBP\n",
       "4  portfolio-E           GBP"
      ]
     },
     "execution_count": 2,
     "metadata": {},
     "output_type": "execute_result"
    }
   ],
   "source": [
    "# Use pandas to read a csv containing the information needed to create some portfolios\n",
    "df = pd.read_csv(\"data/dummy_portfolios_names.csv\")\n",
    "\n",
    "# We can also save the headers to a separate variable for easier use\n",
    "headers = df.columns\n",
    "print(\"number of columns : \", headers.size)\n",
    "print(\"column names : \", headers)\n",
    "\n",
    "df.head()"
   ]
  },
  {
   "cell_type": "code",
   "execution_count": 3,
   "metadata": {},
   "outputs": [
    {
     "name": "stdout",
     "output_type": "stream",
     "text": [
      "Scope1 :  portfolio_demo_abc\n",
      "Scope2 :  portfolio_demo_xyz\n"
     ]
    }
   ],
   "source": [
    "# Create Two Scopes\n",
    "scope1 = 'portfolio_demo_abc'\n",
    "scope2 = 'portfolio_demo_xyz'\n",
    "print(\"Scope1 : \", scope1)\n",
    "print(\"Scope2 : \", scope2)"
   ]
  },
  {
   "cell_type": "markdown",
   "metadata": {},
   "source": [
    "The cell below contains a number of helper functions used throughout this notebook - these are not necessary for any of the methods demonstrated, but simplify the readability and usability of this module"
   ]
  },
  {
   "cell_type": "code",
   "execution_count": 4,
   "metadata": {},
   "outputs": [],
   "source": [
    "# The following function creates a random alphanumeric code of 4 characters that can be appended to Ids\n",
    "# and Names to ensure they remain unique throughout multiple runs of this example\n",
    "def GetGuid():\n",
    "    return str(uuid.uuid4())[:4]\n",
    "\n",
    "# The following function will create portfolios from our dataframe of csv data\n",
    "def CreatePortfolioFromDataframe(df):\n",
    "    effective_date = datetime(2018, 1, 1, tzinfo=pytz.utc)\n",
    "    list_results = []\n",
    "    for index, row in df.iterrows():\n",
    "        print(\"Creating portfolio \", index)\n",
    "        guid = GetGuid()\n",
    "        # Select the scope for each portfolio based on currency, for demonstration purposes we will\n",
    "        # split GBP based portfolios into scope 1 and USD based portfolios into scope 2\n",
    "        if row['base_currency'] == 'USD':\n",
    "            portfolio_scope = scope2\n",
    "        else :\n",
    "            portfolio_scope = scope1\n",
    "        # Next we create a request for the portfolio\n",
    "        request = models.CreateTransactionPortfolioRequest(\n",
    "            code=row['display_name']+'-'+guid,\n",
    "            display_name=row['display_name'],\n",
    "            base_currency=row['base_currency'],\n",
    "            created=effective_date,\n",
    "            description=None,\n",
    "            corporate_action_source_id=None,\n",
    "            accounting_method=None,\n",
    "            sub_holding_keys=None,\n",
    "            properties=None)\n",
    "        # And finally we can upsert the portfolio creation request to LUSID\n",
    "        result = client.create_portfolio(\n",
    "            scope=portfolio_scope,\n",
    "            create_request=request)\n",
    "        # Save the portfolio to a list for easy access later on\n",
    "        list_results.append(result)\n",
    "        print('...')\n",
    "    # Return the list of portfolios that were upserted in LUSID\n",
    "    return list_results\n",
    "\n",
    "# The following function extracts resource ids from a list of portfolios\n",
    "def GetResourceIdsFromResponse(responses):\n",
    "    resource_id_list = []\n",
    "    for portfolio in responses:\n",
    "        resource_id_list.append(portfolio.id)\n",
    "    return resource_id_list\n"
   ]
  },
  {
   "cell_type": "markdown",
   "metadata": {},
   "source": [
    "## 1. Create Transactions Portfolios\n",
    "We begin by upserting the csv data into LUSID in the form of new transaction portfolios\n",
    "\n",
    "*Run the cell below to create portfolios and print their information*"
   ]
  },
  {
   "cell_type": "code",
   "execution_count": 5,
   "metadata": {},
   "outputs": [
    {
     "name": "stdout",
     "output_type": "stream",
     "text": [
      "Creating portfolio  0\n",
      "...\n",
      "Creating portfolio  1\n",
      "...\n",
      "Creating portfolio  2\n",
      "...\n",
      "Creating portfolio  3\n",
      "...\n",
      "Creating portfolio  4\n",
      "...\n",
      "Creating portfolio  5\n",
      "...\n",
      "Creating portfolio  6\n",
      "...\n",
      "Creating portfolio  7\n",
      "...\n",
      "\u001b[1mPortfolio Created\u001b[0m\n",
      "\u001b[1mScope: \u001b[0mportfolio_demo_abc\n",
      "\u001b[1mCode: \u001b[0mportfolio-A-3cb1\n",
      "\u001b[1mPortfolio Effective From: \u001b[0m2018-01-01 00:00:00+00:00\n",
      "\u001b[1mPortfolio Created On: \u001b[0m2019-03-04 11:14:57.977810+00:00\n",
      "\n",
      "\u001b[1mPortfolio Created\u001b[0m\n",
      "\u001b[1mScope: \u001b[0mportfolio_demo_abc\n",
      "\u001b[1mCode: \u001b[0mportfolio-B-ef79\n",
      "\u001b[1mPortfolio Effective From: \u001b[0m2018-01-01 00:00:00+00:00\n",
      "\u001b[1mPortfolio Created On: \u001b[0m2019-03-04 11:14:58.326519+00:00\n",
      "\n",
      "\u001b[1mPortfolio Created\u001b[0m\n",
      "\u001b[1mScope: \u001b[0mportfolio_demo_abc\n",
      "\u001b[1mCode: \u001b[0mportfolio-C-c196\n",
      "\u001b[1mPortfolio Effective From: \u001b[0m2018-01-01 00:00:00+00:00\n",
      "\u001b[1mPortfolio Created On: \u001b[0m2019-03-04 11:14:58.608291+00:00\n",
      "\n",
      "\u001b[1mPortfolio Created\u001b[0m\n",
      "\u001b[1mScope: \u001b[0mportfolio_demo_abc\n",
      "\u001b[1mCode: \u001b[0mportfolio-D-3379\n",
      "\u001b[1mPortfolio Effective From: \u001b[0m2018-01-01 00:00:00+00:00\n",
      "\u001b[1mPortfolio Created On: \u001b[0m2019-03-04 11:14:58.938830+00:00\n",
      "\n",
      "\u001b[1mPortfolio Created\u001b[0m\n",
      "\u001b[1mScope: \u001b[0mportfolio_demo_abc\n",
      "\u001b[1mCode: \u001b[0mportfolio-E-f8c3\n",
      "\u001b[1mPortfolio Effective From: \u001b[0m2018-01-01 00:00:00+00:00\n",
      "\u001b[1mPortfolio Created On: \u001b[0m2019-03-04 11:14:59.196241+00:00\n",
      "\n",
      "\u001b[1mPortfolio Created\u001b[0m\n",
      "\u001b[1mScope: \u001b[0mportfolio_demo_abc\n",
      "\u001b[1mCode: \u001b[0mportfolio-F-4270\n",
      "\u001b[1mPortfolio Effective From: \u001b[0m2018-01-01 00:00:00+00:00\n",
      "\u001b[1mPortfolio Created On: \u001b[0m2019-03-04 11:14:59.471339+00:00\n",
      "\n",
      "\u001b[1mPortfolio Created\u001b[0m\n",
      "\u001b[1mScope: \u001b[0mportfolio_demo_xyz\n",
      "\u001b[1mCode: \u001b[0mportfolio-X-155e\n",
      "\u001b[1mPortfolio Effective From: \u001b[0m2018-01-01 00:00:00+00:00\n",
      "\u001b[1mPortfolio Created On: \u001b[0m2019-03-04 11:14:59.738610+00:00\n",
      "\n",
      "\u001b[1mPortfolio Created\u001b[0m\n",
      "\u001b[1mScope: \u001b[0mportfolio_demo_xyz\n",
      "\u001b[1mCode: \u001b[0mportfolio-Y-c2f5\n",
      "\u001b[1mPortfolio Effective From: \u001b[0m2018-01-01 00:00:00+00:00\n",
      "\u001b[1mPortfolio Created On: \u001b[0m2019-03-04 11:15:00.077729+00:00\n",
      "\n"
     ]
    }
   ],
   "source": [
    "# Using the function from the cell above, create our portfolios\n",
    "created_portfolios = CreatePortfolioFromDataframe(df)\n",
    "\n",
    "# we can now prettyprint all our portfolio responses to see the info on each new portfolio\n",
    "for portfolio in created_portfolios:\n",
    "    prettyprint.portfolio_response(portfolio)"
   ]
  },
  {
   "cell_type": "markdown",
   "metadata": {},
   "source": [
    "## 2. Create Derived Portfolio\n",
    "We then create one derived portfolio from the first transaction portfolio created.\n",
    "\n",
    "[LUSID Knowledge Base: Derived Portfolio](https://support.lusid.com/what-is-a-derived-portfolio-and-how-are-they-used) \n",
    "\n",
    "*Run the cell below to create a derived portfolio and print its information*"
   ]
  },
  {
   "cell_type": "code",
   "execution_count": 6,
   "metadata": {
    "raw_mimetype": "text/x-python"
   },
   "outputs": [
    {
     "name": "stdout",
     "output_type": "stream",
     "text": [
      "\u001b[1mDerived Portfolio Created\u001b[0m\n",
      "\u001b[1mScope: \u001b[0mportfolio_demo_abc\n",
      "\u001b[1mCode: \u001b[0mderived-portfolio-A-ba3a\n",
      "\u001b[1mPortfolio Effective From: \u001b[0m2018-01-01 00:00:00+00:00\n",
      "\u001b[1mPortfolio Created On: \u001b[0m2019-03-04 11:15:00.348902+00:00\n",
      "\n",
      "\u001b[1m   Parent Portfolio Details\u001b[0m\n",
      "\u001b[1m   Code: \u001b[0mportfolio-A-3cb1\n",
      "\n"
     ]
    }
   ],
   "source": [
    "# Create derived transaction portfolio from the first portfolio in the list\n",
    "guid = GetGuid()\n",
    "derived_portfolio_request = models.CreateDerivedTransactionPortfolioRequest(\n",
    "    display_name=\"derived-\"+created_portfolios[0].display_name, # this uses the portfolio name\n",
    "    code=\"derived-\"+created_portfolios[0].display_name+'-'+guid,\n",
    "    parent_portfolio_id=models.ResourceId(\n",
    "        scope=created_portfolios[0].id.scope,\n",
    "        code=created_portfolios[0].id.code),\n",
    "    description=\"derived_portfolio_description\",\n",
    "    created=created_portfolios[0].created,\n",
    "    corporate_action_source_id=None,\n",
    "    accounting_method=None,\n",
    "    sub_holding_keys=None)\n",
    "\n",
    "derived_portfolio = client.create_derived_portfolio(\n",
    "    scope=scope1,\n",
    "    portfolio=derived_portfolio_request)\n",
    "\n",
    "prettyprint.portfolio_response(derived_portfolio)"
   ]
  },
  {
   "cell_type": "markdown",
   "metadata": {},
   "source": [
    "## 3. Portfolio Details\n",
    "#### 3.1 Get Details\n",
    "A derived portfolio will automatically inherit all of the parent portfolio's details if they are not specified. These details can be modified and/or deleted. \n",
    "Modifying the details on a derived portfolio will not affect the parent portfolio. This is demonstrated in the following cells\n",
    "\n",
    "*Run the cell below to get details on the derived portfolio*"
   ]
  },
  {
   "cell_type": "code",
   "execution_count": 7,
   "metadata": {},
   "outputs": [
    {
     "name": "stdout",
     "output_type": "stream",
     "text": [
      "Derived Portfolio Details : \n",
      "\u001b[91m\u001b[1mPortfolio Details: \u001b[0m\n",
      "\u001b[1mDetail Origin Portfolio Scope: \u001b[0mportfolio_demo_abc\n",
      "\u001b[1mDetail Origin Portfolio Code: \u001b[0mportfolio-A-3cb1\n",
      "\u001b[1mBase Currency: \u001b[0mGBP\n",
      "\n",
      "\n",
      "Parent Portfolio Details : \n",
      "\u001b[91m\u001b[1mPortfolio Details: \u001b[0m\n",
      "\u001b[1mDetail Origin Portfolio Scope: \u001b[0mportfolio_demo_abc\n",
      "\u001b[1mDetail Origin Portfolio Code: \u001b[0mportfolio-A-3cb1\n",
      "\u001b[1mBase Currency: \u001b[0mGBP\n",
      "\n",
      "\n"
     ]
    }
   ],
   "source": [
    "# First we will get the details for our new derived portfolio\n",
    "# and check they match with the parent portfolio\n",
    "derived_details = client.get_details(\n",
    "    scope=scope1,\n",
    "    code=derived_portfolio.id.code,\n",
    "    effective_at=None,\n",
    "    as_at=None)\n",
    "print(\"Derived Portfolio Details : \")\n",
    "prettyprint.portfolio_details_response(derived_details)\n",
    "\n",
    "print(\"Parent Portfolio Details : \")\n",
    "parent_details = client.get_details(\n",
    "    scope=scope1,\n",
    "    code=created_portfolios[0].id.code,\n",
    "    effective_at=None,\n",
    "    as_at=None)\n",
    "prettyprint.portfolio_details_response(parent_details)"
   ]
  },
  {
   "cell_type": "markdown",
   "metadata": {},
   "source": [
    "#### 3.2 Add/Modify Details\n",
    "Now we can modify the derived portfolio currency so it no longer matches the parent portfolio\n",
    "\n",
    "*Run the cell below to modify the details of the derived portfolio*"
   ]
  },
  {
   "cell_type": "code",
   "execution_count": 8,
   "metadata": {},
   "outputs": [
    {
     "name": "stdout",
     "output_type": "stream",
     "text": [
      "Derived Portfolio Details : \n",
      "\u001b[91m\u001b[1mPortfolio Details: \u001b[0m\n",
      "\u001b[1mDetail Origin Portfolio Scope: \u001b[0mportfolio_demo_abc\n",
      "\u001b[1mDetail Origin Portfolio Code: \u001b[0mderived-portfolio-A-ba3a\n",
      "\u001b[1mBase Currency: \u001b[0mUSD\n",
      "\n",
      "\n",
      "Parent Portfolio Details : \n",
      "\u001b[91m\u001b[1mPortfolio Details: \u001b[0m\n",
      "\u001b[1mDetail Origin Portfolio Scope: \u001b[0mportfolio_demo_abc\n",
      "\u001b[1mDetail Origin Portfolio Code: \u001b[0mportfolio-A-3cb1\n",
      "\u001b[1mBase Currency: \u001b[0mGBP\n",
      "\n",
      "\n"
     ]
    }
   ],
   "source": [
    "request = models.CreatePortfolioDetails(\n",
    "    base_currency=\"USD\",\n",
    "    corporate_action_source_id=None)\n",
    "response = client.upsert_portfolio_details(\n",
    "    scope=scope1,\n",
    "    code=derived_portfolio.id.code,\n",
    "    details=request,\n",
    "    effective_at=None)\n",
    "print(\"Derived Portfolio Details : \")\n",
    "prettyprint.portfolio_details_response(response)\n",
    "\n",
    "print(\"Parent Portfolio Details : \")\n",
    "parent_details = client.get_details(\n",
    "    scope=scope1,\n",
    "    code=created_portfolios[0].id.code,\n",
    "    effective_at=None,\n",
    "    as_at=None)\n",
    "prettyprint.portfolio_details_response(parent_details)"
   ]
  },
  {
   "cell_type": "markdown",
   "metadata": {},
   "source": [
    "#### 3.3 Delete Details\n",
    "Now we can delete portfolio details. Note how after deleting the details on the derived portfolio, the response returns the scope and code of the parent portfolio, since `get_details` only returns the id of the portfolio from which the details originate - not the portfolio being queried.\n",
    "\n",
    "*Run the cell below to delete the details of the derived portfolio*"
   ]
  },
  {
   "cell_type": "code",
   "execution_count": 9,
   "metadata": {},
   "outputs": [
    {
     "name": "stdout",
     "output_type": "stream",
     "text": [
      "Derived Portfolio Details : \n",
      "\u001b[91m\u001b[1mPortfolio Details: \u001b[0m\n",
      "\u001b[1mDetail Origin Portfolio Scope: \u001b[0mportfolio_demo_abc\n",
      "\u001b[1mDetail Origin Portfolio Code: \u001b[0mportfolio-A-3cb1\n",
      "\u001b[1mBase Currency: \u001b[0mGBP\n",
      "\n",
      "\n",
      "Parent Portfolio Details : \n",
      "\u001b[91m\u001b[1mPortfolio Details: \u001b[0m\n",
      "\u001b[1mDetail Origin Portfolio Scope: \u001b[0mportfolio_demo_abc\n",
      "\u001b[1mDetail Origin Portfolio Code: \u001b[0mportfolio-A-3cb1\n",
      "\u001b[1mBase Currency: \u001b[0mGBP\n",
      "\n",
      "\n"
     ]
    }
   ],
   "source": [
    "response = client.delete_derived_portfolio_details(\n",
    "    scope=scope1,\n",
    "    code=derived_portfolio.id.code,\n",
    "    effective_at=None,\n",
    "    as_at=None)\n",
    "derived_details = client.get_details(\n",
    "    scope=scope1,\n",
    "    code=derived_portfolio.id.code,\n",
    "    effective_at=None,\n",
    "    as_at=None)\n",
    "\n",
    "print(\"Derived Portfolio Details : \")\n",
    "prettyprint.portfolio_details_response(derived_details) \n",
    "\n",
    "print(\"Parent Portfolio Details : \")\n",
    "parent_details = client.get_details(\n",
    "    scope=scope1,\n",
    "    code=created_portfolios[0].id.code)\n",
    "prettyprint.portfolio_details_response(parent_details)"
   ]
  },
  {
   "cell_type": "markdown",
   "metadata": {},
   "source": [
    "## 4. Create Portfolio Group\n",
    "Next we can create some portfolio groups. We will then demonstrate the process of adding portfolios to a group, creating subgroups, and modifying group information.\n",
    "\n",
    "To begin with, let's create a group in our main scope that contains all the GBP parent portfolios.\n",
    "\n",
    "Note that the second group will be in a different scope to the first, it is entirely possible to combine portfolios and groups in different scopes.\n",
    "\n",
    "*Run the cell below to create a pre-populate portfolio group*"
   ]
  },
  {
   "cell_type": "code",
   "execution_count": 10,
   "metadata": {},
   "outputs": [
    {
     "name": "stdout",
     "output_type": "stream",
     "text": [
      "\u001b[91m\u001b[1mPortfolio Group Created\u001b[0m\n",
      "\u001b[1mName: \u001b[0mportfolio_group1_name\n",
      "\u001b[1mScope: \u001b[0mportfolio_demo_abc\n",
      "\u001b[1mCode: \u001b[0mportfolio_group-ca65\n",
      "\u001b[1mPortfolios Inside Group: \u001b[0m\n",
      "portfolio-A-3cb1\n",
      "portfolio-B-ef79\n",
      "portfolio-C-c196\n",
      "portfolio-D-3379\n",
      "portfolio-E-f8c3\n",
      "portfolio-F-4270\n",
      "\n",
      "\n"
     ]
    }
   ],
   "source": [
    "# Create a portfolio group -- create two\n",
    "# -- The first group we will create with all the portfolios in the first scope\n",
    "# -- we can use a helper function to obtain a list of resource ids for this\n",
    "scope_1_portfolios = [(x) for x in created_portfolios if x.id.scope == scope1]\n",
    "scope_1_resource_ids = GetResourceIdsFromResponse(scope_1_portfolios)\n",
    "\n",
    "# Create group 1 with the parent portfolios of scope 1 in it\n",
    "guid = GetGuid()\n",
    "group_request1 = models.CreatePortfolioGroupRequest(\n",
    "    id=\"portfolio_group-{0}\".format(guid),\n",
    "    display_name=\"portfolio_group1_name\",\n",
    "    values=scope_1_resource_ids,\n",
    "    sub_groups=None,\n",
    "    description=None)\n",
    "\n",
    "portfolio_group1 = client.create_portfolio_group(scope1, group_request1)\n",
    "prettyprint.portfolio_group_response(portfolio_group1, 'created')\n"
   ]
  },
  {
   "cell_type": "markdown",
   "metadata": {},
   "source": [
    "## 5. Add Portfolio To Group\n",
    "So we have one group pre-populated with the portfolios in the first scope `portfolio_demo_abc`. Since the derived portfolio hasn't been included in the first group, we can add it in now to Group 1.\n",
    "\n",
    "*Run the cell below to add the derived portfolio to group 1*"
   ]
  },
  {
   "cell_type": "code",
   "execution_count": 11,
   "metadata": {},
   "outputs": [
    {
     "name": "stdout",
     "output_type": "stream",
     "text": [
      "\u001b[91m\u001b[1mPortfolio Group: \u001b[0m\n",
      "\u001b[1mName: \u001b[0mportfolio_group1_name\n",
      "\u001b[1mScope: \u001b[0mportfolio_demo_abc\n",
      "\u001b[1mCode: \u001b[0mportfolio_group-ca65\n",
      "\u001b[1mPortfolios Inside Group: \u001b[0m\n",
      "portfolio-A-3cb1\n",
      "portfolio-B-ef79\n",
      "portfolio-C-c196\n",
      "portfolio-D-3379\n",
      "portfolio-E-f8c3\n",
      "portfolio-F-4270\n",
      "derived-portfolio-A-ba3a\n",
      "\u001b[94m\u001b[1mSubgroups Inside Group: \u001b[0m\n",
      "\n",
      "\n"
     ]
    }
   ],
   "source": [
    "# adding the derived portfolio to group 1 :\n",
    "add_response = client.add_portfolio_to_group(\n",
    "    scope=portfolio_group1.id.scope,\n",
    "    code=portfolio_group1.id.code,\n",
    "    portfolio_id=derived_portfolio.id)\n",
    "\n",
    "prettyprint.get_portfolio_group_response(add_response)"
   ]
  },
  {
   "cell_type": "markdown",
   "metadata": {},
   "source": [
    "## 6. Get Portfolio Group Details\n",
    "We can now compare two methods of obtaining groups from LUSID. The first is `get portfolio group` while the second is `get portfolio group expansion`. The difference here is that the first method will return only information about the specified group, including the ids of the portfolios and subgroups it contains, but not any further details of its portfolios and subgroups. The second method will not only return this basic information, but also the full details of each portfolio in the group and each portfolio in every subgroup as well. "
   ]
  },
  {
   "cell_type": "markdown",
   "metadata": {},
   "source": [
    "First we compare group 1 at the time of creation and at the most up-to-date time below, so we can see the changes that have been made to it since we created it using `get portfolio group`. The only expected difference right now will be the added derived portfolio. We will demonstrate the expanded method further on.\n",
    "\n",
    "*Run the cell below to compare the group info now and at time of creation*"
   ]
  },
  {
   "cell_type": "code",
   "execution_count": 13,
   "metadata": {},
   "outputs": [
    {
     "name": "stdout",
     "output_type": "stream",
     "text": [
      "Group 1 at time of creation\n",
      "\u001b[91m\u001b[1mPortfolio Group: \u001b[0m\n",
      "\u001b[1mName: \u001b[0mportfolio_group1_name\n",
      "\u001b[1mScope: \u001b[0mportfolio_demo_abc\n",
      "\u001b[1mCode: \u001b[0mportfolio_group-ca65\n",
      "\u001b[1mPortfolios Inside Group: \u001b[0m\n",
      "portfolio-A-3cb1\n",
      "portfolio-B-ef79\n",
      "portfolio-C-c196\n",
      "portfolio-D-3379\n",
      "portfolio-E-f8c3\n",
      "portfolio-F-4270\n",
      "\u001b[94m\u001b[1mSubgroups Inside Group: \u001b[0m\n",
      "\n",
      "\n",
      "\n",
      "Group 1 at latest time\n",
      "\u001b[91m\u001b[1mPortfolio Group: \u001b[0m\n",
      "\u001b[1mName: \u001b[0mportfolio_group1_name\n",
      "\u001b[1mScope: \u001b[0mportfolio_demo_abc\n",
      "\u001b[1mCode: \u001b[0mportfolio_group-ca65\n",
      "\u001b[1mPortfolios Inside Group: \u001b[0m\n",
      "portfolio-A-3cb1\n",
      "portfolio-B-ef79\n",
      "portfolio-C-c196\n",
      "portfolio-D-3379\n",
      "portfolio-E-f8c3\n",
      "portfolio-F-4270\n",
      "derived-portfolio-A-ba3a\n",
      "\u001b[94m\u001b[1mSubgroups Inside Group: \u001b[0m\n",
      "\n",
      "\n"
     ]
    }
   ],
   "source": [
    "# Get portfolio group now\n",
    "updated_group1 = client.get_portfolio_group(\n",
    "    scope=portfolio_group1.id.scope,\n",
    "    code=portfolio_group1.id.code,\n",
    "    as_at=datetime.utcnow().replace(tzinfo=pytz.utc))\n",
    "\n",
    "# Get portfolio group 1 prior to the update\n",
    "original_group1 = client.get_portfolio_group(\n",
    "    scope=portfolio_group1.id.scope,\n",
    "    code=portfolio_group1.id.code,\n",
    "    as_at=portfolio_group1.version.as_at_date)\n",
    "\n",
    "print('Group 1 at time of creation')\n",
    "prettyprint.get_portfolio_group_response(original_group1)\n",
    "print('')\n",
    "print('Group 1 at latest time')\n",
    "prettyprint.get_portfolio_group_response(updated_group1)"
   ]
  },
  {
   "cell_type": "markdown",
   "metadata": {},
   "source": [
    "This leaves the two portfolios in Scope 2. Since they are in another scope and based in a different currency, it makes sense to place them in a separate group to the first one (although they could also be added to the first groups regardless of scope being different). This time we create an empty group, then populate it separately. We follow this process as opposed to creating a pre-populated group (such as group 1 above) to demonstrate how empty groups can be created and how to upsert multiple potfolios to a group.\n",
    "\n",
    "*Run the cell below to create a second group containing no portfolios, and subsequently add portfolios in a separate command*"
   ]
  },
  {
   "cell_type": "code",
   "execution_count": 14,
   "metadata": {},
   "outputs": [
    {
     "name": "stdout",
     "output_type": "stream",
     "text": [
      "\u001b[91m\u001b[1mPortfolio Group Created\u001b[0m\n",
      "\u001b[1mName: \u001b[0mportfolio_group2_name\n",
      "\u001b[1mScope: \u001b[0mportfolio_demo_xyz\n",
      "\u001b[1mCode: \u001b[0mportfolio_group-493f\n",
      "\u001b[1mPortfolios Inside Group: \u001b[0m\n",
      "\n",
      "\n",
      "\u001b[91m\u001b[1mPortfolio Group: \u001b[0m\n",
      "\u001b[1mName: \u001b[0mportfolio_group1_name\n",
      "\u001b[1mScope: \u001b[0mportfolio_demo_abc\n",
      "\u001b[1mCode: \u001b[0mportfolio_group-ca65\n",
      "\u001b[1mPortfolios Inside Group: \u001b[0m\n",
      "portfolio-A-3cb1\n",
      "portfolio-B-ef79\n",
      "portfolio-C-c196\n",
      "portfolio-D-3379\n",
      "portfolio-E-f8c3\n",
      "portfolio-F-4270\n",
      "\u001b[94m\u001b[1mSubgroups Inside Group: \u001b[0m\n",
      "\n",
      "\n"
     ]
    }
   ],
   "source": [
    "# Create group 2 with no portfolios\n",
    "guid = GetGuid()\n",
    "group_request2 = models.CreatePortfolioGroupRequest(\n",
    "    id=\"portfolio_group-{0}\".format(guid),\n",
    "    display_name=\"portfolio_group2_name\",\n",
    "    values=None,\n",
    "    sub_groups=None,\n",
    "    description=None)\n",
    "\n",
    "portfolio_group2 = client.create_portfolio_group(scope2, group_request2)\n",
    "# Print the newly created group info\n",
    "prettyprint.portfolio_group_response(portfolio_group2, 'created')\n",
    "\n",
    "# Add portfolios to groups\n",
    "# Once again we get a list of resource ids for the portfolios in scope 2 this time\n",
    "scope_2_portfolios = [(x) for x in created_portfolios if x.id.scope == scope2]\n",
    "scope_2_resource_ids = GetResourceIdsFromResponse(scope_2_portfolios)\n",
    "\n",
    "# Then to add multiple portfolios to group 2, we have to iterate over the list of ids, since they have to\n",
    "# be added one by one.\n",
    "for resource_id in scope_2_resource_ids:\n",
    "    client.add_portfolio_to_group(\n",
    "        scope=portfolio_group2.id.scope,\n",
    "        code=portfolio_group2.id.code,\n",
    "        portfolio_id=resource_id)\n",
    "\n",
    "populated_group2 = client.get_portfolio_group(\n",
    "    scope=portfolio_group1.id.scope,\n",
    "    code=portfolio_group1.id.code,\n",
    "    as_at=portfolio_group1.version.as_at_date)\n",
    "prettyprint.get_portfolio_group_response(populated_group2)"
   ]
  },
  {
   "cell_type": "markdown",
   "metadata": {},
   "source": [
    "## 7. Add Group To Group (Create Subgroup)\n",
    "We can also combine groups into each other to create sub-groups. We will add group 2 as a subgroup in group 1.\n",
    "\n",
    "*Run the cell below to add Group 2 as a subgroup to Group 1*"
   ]
  },
  {
   "cell_type": "code",
   "execution_count": 15,
   "metadata": {},
   "outputs": [
    {
     "name": "stdout",
     "output_type": "stream",
     "text": [
      "\u001b[91m\u001b[1mPortfolio Group: \u001b[0m\n",
      "\u001b[1mName: \u001b[0mportfolio_group1_name\n",
      "\u001b[1mScope: \u001b[0mportfolio_demo_abc\n",
      "\u001b[1mCode: \u001b[0mportfolio_group-ca65\n",
      "\u001b[1mPortfolios Inside Group: \u001b[0m\n",
      "portfolio-A-3cb1\n",
      "portfolio-B-ef79\n",
      "portfolio-C-c196\n",
      "portfolio-D-3379\n",
      "portfolio-E-f8c3\n",
      "portfolio-F-4270\n",
      "derived-portfolio-A-ba3a\n",
      "\u001b[94m\u001b[1mSubgroups Inside Group: \u001b[0m\n",
      "portfolio_group-493f\n",
      "\n",
      "\n"
     ]
    }
   ],
   "source": [
    "# Add group to group\n",
    "add_response = client.add_sub_group_to_group(\n",
    "    scope=portfolio_group1.id.scope,\n",
    "    code=portfolio_group1.id.code,\n",
    "    portfolio_group_id=portfolio_group2.id)\n",
    "\n",
    "prettyprint.get_portfolio_group_response(add_response)"
   ]
  },
  {
   "cell_type": "markdown",
   "metadata": {},
   "source": [
    "## 8. Modify Group\n",
    "Since group 2 is now a subgroup, we can update its display name to reflect this\n",
    "\n",
    "*Run the cell below to modify the group name*"
   ]
  },
  {
   "cell_type": "code",
   "execution_count": 16,
   "metadata": {},
   "outputs": [
    {
     "name": "stdout",
     "output_type": "stream",
     "text": [
      "\u001b[91m\u001b[1mPortfolio Group\u001b[0m\n",
      "\u001b[1mName: \u001b[0mGroup1_Subgroup\n",
      "\u001b[1mScope: \u001b[0mportfolio_demo_xyz\n",
      "\u001b[1mCode: \u001b[0mportfolio_group-493f\n",
      "\u001b[1mPortfolios Inside Group: \u001b[0m\n",
      "portfolio-X-155e\n",
      "portfolio-Y-c2f5\n",
      "\n",
      "\n"
     ]
    }
   ],
   "source": [
    "# Update group request\n",
    "group_update_request = models.UpdatePortfolioGroupRequest(\n",
    "    display_name=\"Group1_Subgroup\",\n",
    "    description=None)\n",
    "\n",
    "# Update group\n",
    "update_response = client.update_portfolio_group(\n",
    "    scope=portfolio_group2.id.scope,\n",
    "    code=portfolio_group2.id.code,\n",
    "    request=group_update_request)\n",
    "\n",
    "prettyprint.portfolio_group_response(update_response, 'Updated')"
   ]
  },
  {
   "cell_type": "markdown",
   "metadata": {},
   "source": [
    "## 9. Get Full Expansion of a Group\n",
    "We can now compare the `get _portfolio_group` method with getting the full expansion of a group. You will see that on top of a list of portfolios and subgroups, the full expansion also returns all the information for the portfolios similar to running the `get_portfolio` method on each portfolio in the group and groubgroup.\n",
    "\n",
    "*Run the cell below to get the full expansion of Group 1*"
   ]
  },
  {
   "cell_type": "code",
   "execution_count": 17,
   "metadata": {},
   "outputs": [
    {
     "name": "stdout",
     "output_type": "stream",
     "text": [
      "Group 1 at latest time with basic GET method : \n",
      "\u001b[91m\u001b[1mPortfolio Group: \u001b[0m\n",
      "\u001b[1mName: \u001b[0mportfolio_group1_name\n",
      "\u001b[1mScope: \u001b[0mportfolio_demo_abc\n",
      "\u001b[1mCode: \u001b[0mportfolio_group-ca65\n",
      "\u001b[1mPortfolios Inside Group: \u001b[0m\n",
      "portfolio-A-3cb1\n",
      "portfolio-B-ef79\n",
      "portfolio-C-c196\n",
      "portfolio-D-3379\n",
      "portfolio-E-f8c3\n",
      "portfolio-F-4270\n",
      "derived-portfolio-A-ba3a\n",
      "\u001b[94m\u001b[1mSubgroups Inside Group: \u001b[0m\n",
      "\n",
      "\n",
      "\u001b[91m\u001b[1mPortfolio Group Full Details : \u001b[0m\n",
      "\u001b[1mScope: \u001b[0mportfolio_demo_abc\n",
      "\u001b[1mCode: \u001b[0mportfolio_group-ca65\n",
      "\u001b[94m\u001b[1mPortfolios Inside Group: \u001b[0m\n",
      "\u001b[1mPortfolio Created\u001b[0m\n",
      "\u001b[1mScope: \u001b[0mportfolio_demo_abc\n",
      "\u001b[1mCode: \u001b[0mportfolio-A-3cb1\n",
      "\u001b[1mPortfolio Effective From: \u001b[0m2018-01-01 00:00:00+00:00\n",
      "\u001b[1mPortfolio Created On: \u001b[0m2019-03-04 11:15:00.348902+00:00\n",
      "\n",
      "\u001b[1mPortfolio Created\u001b[0m\n",
      "\u001b[1mScope: \u001b[0mportfolio_demo_abc\n",
      "\u001b[1mCode: \u001b[0mportfolio-B-ef79\n",
      "\u001b[1mPortfolio Effective From: \u001b[0m2018-01-01 00:00:00+00:00\n",
      "\u001b[1mPortfolio Created On: \u001b[0m2019-03-04 11:14:58.326519+00:00\n",
      "\n",
      "\u001b[1mPortfolio Created\u001b[0m\n",
      "\u001b[1mScope: \u001b[0mportfolio_demo_abc\n",
      "\u001b[1mCode: \u001b[0mportfolio-C-c196\n",
      "\u001b[1mPortfolio Effective From: \u001b[0m2018-01-01 00:00:00+00:00\n",
      "\u001b[1mPortfolio Created On: \u001b[0m2019-03-04 11:14:58.608291+00:00\n",
      "\n",
      "\u001b[1mPortfolio Created\u001b[0m\n",
      "\u001b[1mScope: \u001b[0mportfolio_demo_abc\n",
      "\u001b[1mCode: \u001b[0mportfolio-D-3379\n",
      "\u001b[1mPortfolio Effective From: \u001b[0m2018-01-01 00:00:00+00:00\n",
      "\u001b[1mPortfolio Created On: \u001b[0m2019-03-04 11:14:58.938830+00:00\n",
      "\n",
      "\u001b[1mPortfolio Created\u001b[0m\n",
      "\u001b[1mScope: \u001b[0mportfolio_demo_abc\n",
      "\u001b[1mCode: \u001b[0mportfolio-E-f8c3\n",
      "\u001b[1mPortfolio Effective From: \u001b[0m2018-01-01 00:00:00+00:00\n",
      "\u001b[1mPortfolio Created On: \u001b[0m2019-03-04 11:14:59.196241+00:00\n",
      "\n",
      "\u001b[1mPortfolio Created\u001b[0m\n",
      "\u001b[1mScope: \u001b[0mportfolio_demo_abc\n",
      "\u001b[1mCode: \u001b[0mportfolio-F-4270\n",
      "\u001b[1mPortfolio Effective From: \u001b[0m2018-01-01 00:00:00+00:00\n",
      "\u001b[1mPortfolio Created On: \u001b[0m2019-03-04 11:14:59.471339+00:00\n",
      "\n",
      "\u001b[1mDerived Portfolio Created\u001b[0m\n",
      "\u001b[1mScope: \u001b[0mportfolio_demo_abc\n",
      "\u001b[1mCode: \u001b[0mderived-portfolio-A-ba3a\n",
      "\u001b[1mPortfolio Effective From: \u001b[0m2018-01-01 00:00:00+00:00\n",
      "\u001b[1mPortfolio Created On: \u001b[0m2019-03-04 11:15:01.391424+00:00\n",
      "\n",
      "\u001b[1m   Parent Portfolio Details\u001b[0m\n",
      "\u001b[1m   Code: \u001b[0mportfolio-A-3cb1\n",
      "\n",
      "\u001b[94m\u001b[1mSubgroups Inside Group: \u001b[0m\n",
      "\u001b[1mName: \u001b[0mGroup1_Subgroup\n",
      "\u001b[1mScope: \u001b[0mportfolio_demo_xyz\n",
      "\u001b[1mCode: \u001b[0mportfolio_group-493f\n",
      "\u001b[94m\u001b[1mPortfolios Inside SubGroup: \u001b[0m\n",
      "\u001b[1mPortfolio Created\u001b[0m\n",
      "\u001b[1mScope: \u001b[0mportfolio_demo_xyz\n",
      "\u001b[1mCode: \u001b[0mportfolio-X-155e\n",
      "\u001b[1mPortfolio Effective From: \u001b[0m2018-01-01 00:00:00+00:00\n",
      "\u001b[1mPortfolio Created On: \u001b[0m2019-03-04 11:14:59.738610+00:00\n",
      "\n",
      "\u001b[1mPortfolio Created\u001b[0m\n",
      "\u001b[1mScope: \u001b[0mportfolio_demo_xyz\n",
      "\u001b[1mCode: \u001b[0mportfolio-Y-c2f5\n",
      "\u001b[1mPortfolio Effective From: \u001b[0m2018-01-01 00:00:00+00:00\n",
      "\u001b[1mPortfolio Created On: \u001b[0m2019-03-04 11:15:00.077729+00:00\n",
      "\n",
      "\n",
      "\n"
     ]
    }
   ],
   "source": [
    "# Get the basic group information for group 1 again:\n",
    "updated_group1 = client.get_portfolio_group(\n",
    "    scope=portfolio_group1.id.scope,\n",
    "    code=portfolio_group1.id.code,\n",
    "    as_at=datetime.utcnow().replace(tzinfo=pytz.utc))\n",
    "\n",
    "print('Group 1 at latest time with basic GET method : ')\n",
    "prettyprint.get_portfolio_group_response(updated_group1)\n",
    "\n",
    "\n",
    "# Get full expansion of portfolio group 1:\n",
    "expansion = client.get_portfolio_group_expansion(\n",
    "    scope=portfolio_group1.id.scope,\n",
    "    code=portfolio_group1.id.code,\n",
    "    effective_at=None,\n",
    "    as_at=None,\n",
    "    property_filter=None)\n",
    "\n",
    "prettyprint.expanded_portfolio_group_response(expansion)"
   ]
  },
  {
   "cell_type": "markdown",
   "metadata": {},
   "source": [
    "## 10. Remove Portfolios and Subgroups from Group\n",
    "Suppose we wish to revert these changes, we have to explicitly delete each component step by step. Our Subgroup contains two portfolios, we're going to remove these from that group, remove the subgroup from the main group, and then delete it as it is no longer needed. If a subgroup is empty, it is not necessary to remove it before deleting it completely, however for demonstration purposes we will follow each step.\n",
    "\n",
    "Note : it is possible to delete a populated group. This will not delete the portfolios, they will simply be removed from the group hierarchy. For demonstration purposes we are carrying out each step individually.\n",
    "\n",
    "*Run the cell below to remove portfolios from Group 2*"
   ]
  },
  {
   "cell_type": "code",
   "execution_count": 18,
   "metadata": {},
   "outputs": [
    {
     "name": "stdout",
     "output_type": "stream",
     "text": [
      "\u001b[91m\u001b[1mPortfolio Group: \u001b[0m\n",
      "\u001b[1mName: \u001b[0mGroup1_Subgroup\n",
      "\u001b[1mScope: \u001b[0mportfolio_demo_xyz\n",
      "\u001b[1mCode: \u001b[0mportfolio_group-493f\n",
      "\u001b[1mPortfolios Inside Group: \u001b[0m\n",
      "portfolio-X-155e\n",
      "portfolio-Y-c2f5\n",
      "\u001b[94m\u001b[1mSubgroups Inside Group: \u001b[0m\n",
      "\n",
      "\n",
      "\n",
      "\u001b[91m\u001b[1mPortfolio Group\u001b[0m\n",
      "\u001b[1mName: \u001b[0mGroup1_Subgroup\n",
      "\u001b[1mScope: \u001b[0mportfolio_demo_xyz\n",
      "\u001b[1mCode: \u001b[0mportfolio_group-493f\n",
      "\u001b[1mPortfolios Inside Group: \u001b[0m\n",
      "portfolio-Y-c2f5\n",
      "\n",
      "\n",
      "\u001b[91m\u001b[1mPortfolio Group\u001b[0m\n",
      "\u001b[1mName: \u001b[0mGroup1_Subgroup\n",
      "\u001b[1mScope: \u001b[0mportfolio_demo_xyz\n",
      "\u001b[1mCode: \u001b[0mportfolio_group-493f\n",
      "\u001b[1mPortfolios Inside Group: \u001b[0m\n",
      "\n",
      "\n"
     ]
    }
   ],
   "source": [
    "# 1. Removal of portfolios from a group has to be done one portfolio at a time,\n",
    "# thus we can loop through the list of portfolios in scope 2 since they are all contained in the subgroup\n",
    "\n",
    "# first we print out the details of group 2\n",
    "original_group2 = client.get_portfolio_group(\n",
    "    scope=portfolio_group2.id.scope,\n",
    "    code=portfolio_group2.id.code,\n",
    "    as_at=None)\n",
    "\n",
    "prettyprint.get_portfolio_group_response(original_group2)\n",
    "print('')\n",
    "\n",
    "# then we proceed with removing each portfolio in the group, you will see each printed response will have\n",
    "# one fewer portfolio ids attached to the group.\n",
    "for portfolio_id in scope_2_resource_ids:\n",
    "    portfolio_removal = client.delete_portfolio_from_group(\n",
    "        scope=portfolio_group2.id.scope,\n",
    "        code=portfolio_group2.id.code,\n",
    "        portfolio_scope=portfolio_id.scope,\n",
    "        portfolio_code=portfolio_id.code)\n",
    "    prettyprint.portfolio_group_response(portfolio_removal, 'none')"
   ]
  },
  {
   "cell_type": "markdown",
   "metadata": {},
   "source": [
    "*Run the cell below to remove Group 2 from Group 1*"
   ]
  },
  {
   "cell_type": "code",
   "execution_count": 19,
   "metadata": {},
   "outputs": [
    {
     "name": "stdout",
     "output_type": "stream",
     "text": [
      "\u001b[91m\u001b[1mPortfolio Group\u001b[0m\n",
      "\u001b[1mName: \u001b[0mportfolio_group1_name\n",
      "\u001b[1mScope: \u001b[0mportfolio_demo_abc\n",
      "\u001b[1mCode: \u001b[0mportfolio_group-ca65\n",
      "\u001b[1mPortfolios Inside Group: \u001b[0m\n",
      "portfolio-A-3cb1\n",
      "portfolio-B-ef79\n",
      "portfolio-C-c196\n",
      "portfolio-D-3379\n",
      "portfolio-E-f8c3\n",
      "portfolio-F-4270\n",
      "derived-portfolio-A-ba3a\n",
      "\n",
      "\n",
      "Remaining Sub Groups :  []\n"
     ]
    }
   ],
   "source": [
    "# 2. Remove group from group\n",
    "group_removal = client.delete_sub_group_from_group(\n",
    "    scope=portfolio_group1.id.scope,\n",
    "    code=portfolio_group1.id.code,\n",
    "    subgroup_scope=portfolio_group2.id.scope,\n",
    "    subgroup_code=portfolio_group2.id.code)\n",
    "\n",
    "prettyprint.portfolio_group_response(group_removal, 'none')\n",
    "print('Remaining Sub Groups : ', group_removal.sub_groups)"
   ]
  },
  {
   "cell_type": "markdown",
   "metadata": {},
   "source": [
    "## 11. Delete Group\n",
    "*Run the cell below to delete group 2*"
   ]
  },
  {
   "cell_type": "code",
   "execution_count": 20,
   "metadata": {},
   "outputs": [],
   "source": [
    "# 3. Delete group\n",
    "group_deletion = client.delete_portfolio_group(\n",
    "    scope=portfolio_group2.id.scope,\n",
    "    code=portfolio_group2.id.code)"
   ]
  },
  {
   "cell_type": "markdown",
   "metadata": {},
   "source": [
    "## 12. Get Group Commands\n",
    "We can now check what operations have been applied to each of our groups, including an already deleted group, by using the `get portfolio group commands` method, as below.\n",
    "\n",
    "*Run the cell below to get all commands from groups 1 and 2*"
   ]
  },
  {
   "cell_type": "code",
   "execution_count": 21,
   "metadata": {},
   "outputs": [
    {
     "name": "stdout",
     "output_type": "stream",
     "text": [
      "\u001b[1mCommands Applied To Group portfolio_group1_name\u001b[0m\n",
      "\u001b[1mNumber of commands : \u001b[0m4\n",
      "\u001b[1mDescription : \u001b[0mCreate portfolio group\n",
      "\u001b[1mAt Time : \u001b[0m2019-03-04T11:15:01.9843520+00:00\n",
      "\n",
      "\n",
      "\u001b[1mDescription : \u001b[0mAdd portfolio to group\n",
      "\u001b[1mAt Time : \u001b[0m2019-03-04T11:15:02.3824700+00:00\n",
      "\n",
      "\n",
      "\u001b[1mDescription : \u001b[0mAdd subgroup to group\n",
      "\u001b[1mAt Time : \u001b[0m2019-03-04T11:15:15.3380510+00:00\n",
      "\n",
      "\n",
      "\u001b[1mDescription : \u001b[0mDelete subgroup from group\n",
      "\u001b[1mAt Time : \u001b[0m2019-03-04T11:15:17.0752620+00:00\n",
      "\n",
      "\n",
      "\u001b[1mCommands Applied To Group portfolio_group2_name\u001b[0m\n",
      "\u001b[1mNumber of commands : \u001b[0m7\n",
      "\u001b[1mDescription : \u001b[0mCreate portfolio group\n",
      "\u001b[1mAt Time : \u001b[0m2019-03-04T11:15:13.5289350+00:00\n",
      "\n",
      "\n",
      "\u001b[1mDescription : \u001b[0mAdd portfolio to group\n",
      "\u001b[1mAt Time : \u001b[0m2019-03-04T11:15:13.8246540+00:00\n",
      "\n",
      "\n",
      "\u001b[1mDescription : \u001b[0mAdd portfolio to group\n",
      "\u001b[1mAt Time : \u001b[0m2019-03-04T11:15:14.1716590+00:00\n",
      "\n",
      "\n",
      "\u001b[1mDescription : \u001b[0mUpdate portfolio group\n",
      "\u001b[1mAt Time : \u001b[0m2019-03-04T11:15:15.6104110+00:00\n",
      "\n",
      "\n",
      "\u001b[1mDescription : \u001b[0mDelete portfolio from group\n",
      "\u001b[1mAt Time : \u001b[0m2019-03-04T11:15:16.5520890+00:00\n",
      "\n",
      "\n",
      "\u001b[1mDescription : \u001b[0mDelete portfolio from group\n",
      "\u001b[1mAt Time : \u001b[0m2019-03-04T11:15:16.7958630+00:00\n",
      "\n",
      "\n",
      "\u001b[1mDescription : \u001b[0mDelete portfolio group\n",
      "\u001b[1mAt Time : \u001b[0m2019-03-04T11:15:17.3342060+00:00\n",
      "\n",
      "\n"
     ]
    }
   ],
   "source": [
    "# Get commands\n",
    "group1_commands = client.get_portfolio_group_commands(\n",
    "    scope=portfolio_group1.id.scope,\n",
    "    code=portfolio_group1.id.code,\n",
    "    from_as_at=None,\n",
    "    to_as_at=None,\n",
    "    sort_by=None,\n",
    "    start=None,\n",
    "    limit=None,\n",
    "    filter=None)\n",
    "\n",
    "group2_commands = client.get_portfolio_group_commands(\n",
    "    scope=portfolio_group2.id.scope,\n",
    "    code=portfolio_group2.id.code,\n",
    "    from_as_at=None,\n",
    "    to_as_at=None,\n",
    "    sort_by=None,\n",
    "    start=None,\n",
    "    limit=None,\n",
    "    filter=None)\n",
    "\n",
    "prettyprint.group_commands(group1_commands, portfolio_group1.display_name)\n",
    "\n",
    "prettyprint.group_commands(group2_commands, portfolio_group2.display_name)"
   ]
  },
  {
   "cell_type": "markdown",
   "metadata": {},
   "source": [
    "## 13. List Groups in Scope\n",
    "We can now verify that the group has indeed been deleted from our scope by getting all groups in each of our scopes, the second of which should be empty now.\n",
    "\n",
    "Note : Scope 1 may have groups remaining from previous runs of this notebook example\n",
    "\n",
    "*Run the cell below to list all groups in scopes 1 and 2*"
   ]
  },
  {
   "cell_type": "code",
   "execution_count": 22,
   "metadata": {},
   "outputs": [
    {
     "name": "stdout",
     "output_type": "stream",
     "text": [
      "Groups in scope 1 : \n",
      "    Scope :  portfolio_demo_abc, Code :  portfolio_group-ca65\n",
      "    Scope :  portfolio_demo_abc, Code :  portfolio_group-350d\n",
      "Groups in scope 2 : \n",
      "    Scope :  portfolio_demo_xyz, Code :  portfolio_group-939f\n"
     ]
    }
   ],
   "source": [
    "# List groups in scope - show one scope with no groups\n",
    "scope1_groups = client.list_portfolio_groups(scope=scope1)\n",
    "scope2_groups = client.list_portfolio_groups(scope=scope2)\n",
    "print(\"Groups in scope 1 : \")\n",
    "for group in scope1_groups.values:\n",
    "    print('    Scope : ', group.id.scope+', Code : ', group.id.code)\n",
    "\n",
    "print(\"Groups in scope 2 : \")\n",
    "for group in scope2_groups.values:  # This one should be empty and not output anything\n",
    "    print('    Scope : ', group.id.scope+', Code : ', group.id.code)"
   ]
  },
  {
   "cell_type": "markdown",
   "metadata": {},
   "source": [
    "In case any extra groups are hanging around, the next cell will remove all groups. This will also remove Group 1 in Scope 1, which is still populated, showing how the portfolios remain in the scope and ungrouped following this operation.\n",
    "\n",
    "*Run the cell below to remove any remaining groups in both scopes*"
   ]
  },
  {
   "cell_type": "code",
   "execution_count": 23,
   "metadata": {},
   "outputs": [
    {
     "name": "stdout",
     "output_type": "stream",
     "text": [
      "Groups in scope 1 : \n",
      "Groups in scope 2 : \n"
     ]
    }
   ],
   "source": [
    "# create a list of all groups in both scopes\n",
    "groups_to_delete = []\n",
    "for group in scope1_groups.values:\n",
    "        groups_to_delete.append(group.id)\n",
    "for group in scope2_groups.values:\n",
    "        groups_to_delete.append(group.id)\n",
    "\n",
    "# loop through the list of groups and delete each one, one by one\n",
    "for group in groups_to_delete:\n",
    "    client.delete_portfolio_group(\n",
    "        scope = group.scope,\n",
    "        code = group.code)\n",
    "    \n",
    "# List groups in scope - both will now be empty\n",
    "scope1_groups = client.list_portfolio_groups(scope=scope1)\n",
    "scope2_groups = client.list_portfolio_groups(scope=scope2)\n",
    "print(\"Groups in scope 1 : \")\n",
    "for group in scope1_groups.values:\n",
    "    print('    Scope : ', group.id.scope+', Code : ', group.id.code)\n",
    "\n",
    "print(\"Groups in scope 2 : \")\n",
    "for group in scope2_groups.values:  # This one should be empty and not output anything\n",
    "    print('    Scope : ', group.id.scope+', Code : ', group.id.code)\n"
   ]
  },
  {
   "cell_type": "markdown",
   "metadata": {},
   "source": [
    "## 14. List Portfolios in Scope\n",
    "If we list all the portfolios in our scopes we will see that they are all still there. There may be extra portfolios not created in this example, if this is the case, we can delete all these extra portfolios and keep only those we are interested in. \n",
    "\n",
    "*Run the cell below to list all the portfolios in both scopes*"
   ]
  },
  {
   "cell_type": "code",
   "execution_count": 24,
   "metadata": {},
   "outputs": [
    {
     "name": "stdout",
     "output_type": "stream",
     "text": [
      "Portfolios remaining in scope  portfolio_demo_abc  :\n",
      "\n",
      "\u001b[1mPortfolio Created\u001b[0m\n",
      "\u001b[1mScope: \u001b[0mportfolio_demo_abc\n",
      "\u001b[1mCode: \u001b[0mportfolio-F-4270\n",
      "\u001b[1mPortfolio Effective From: \u001b[0m2018-01-01 00:00:00+00:00\n",
      "\u001b[1mPortfolio Created On: \u001b[0m2019-03-04 11:14:59.471339+00:00\n",
      "\n",
      "\u001b[1mPortfolio Created\u001b[0m\n",
      "\u001b[1mScope: \u001b[0mportfolio_demo_abc\n",
      "\u001b[1mCode: \u001b[0mportfolio-D-3379\n",
      "\u001b[1mPortfolio Effective From: \u001b[0m2018-01-01 00:00:00+00:00\n",
      "\u001b[1mPortfolio Created On: \u001b[0m2019-03-04 11:14:58.938830+00:00\n",
      "\n",
      "\u001b[1mDerived Portfolio Created\u001b[0m\n",
      "\u001b[1mScope: \u001b[0mportfolio_demo_abc\n",
      "\u001b[1mCode: \u001b[0mderived-portfolio-A-c2dd\n",
      "\u001b[1mPortfolio Effective From: \u001b[0m2018-01-01 00:00:00+00:00\n",
      "\u001b[1mPortfolio Created On: \u001b[0m2019-03-04 11:04:35.241745+00:00\n",
      "\n",
      "\u001b[1m   Parent Portfolio Details\u001b[0m\n",
      "\u001b[1m   Code: \u001b[0mportfolio-A-3309\n",
      "\n",
      "\u001b[1mPortfolio Created\u001b[0m\n",
      "\u001b[1mScope: \u001b[0mportfolio_demo_abc\n",
      "\u001b[1mCode: \u001b[0mportfolio-C-c4df\n",
      "\u001b[1mPortfolio Effective From: \u001b[0m2018-01-01 00:00:00+00:00\n",
      "\u001b[1mPortfolio Created On: \u001b[0m2019-03-04 11:11:18.955413+00:00\n",
      "\n",
      "\u001b[1mPortfolio Created\u001b[0m\n",
      "\u001b[1mScope: \u001b[0mportfolio_demo_abc\n",
      "\u001b[1mCode: \u001b[0mportfolio-A-3309\n",
      "\u001b[1mPortfolio Effective From: \u001b[0m2018-01-01 00:00:00+00:00\n",
      "\u001b[1mPortfolio Created On: \u001b[0m2019-03-04 11:04:34.128897+00:00\n",
      "\n",
      "\u001b[1mPortfolio Created\u001b[0m\n",
      "\u001b[1mScope: \u001b[0mportfolio_demo_abc\n",
      "\u001b[1mCode: \u001b[0mportfolio-A-3cb1\n",
      "\u001b[1mPortfolio Effective From: \u001b[0m2018-01-01 00:00:00+00:00\n",
      "\u001b[1mPortfolio Created On: \u001b[0m2019-03-04 11:15:00.348902+00:00\n",
      "\n",
      "\u001b[1mPortfolio Created\u001b[0m\n",
      "\u001b[1mScope: \u001b[0mportfolio_demo_abc\n",
      "\u001b[1mCode: \u001b[0mportfolio-C-c196\n",
      "\u001b[1mPortfolio Effective From: \u001b[0m2018-01-01 00:00:00+00:00\n",
      "\u001b[1mPortfolio Created On: \u001b[0m2019-03-04 11:14:58.608291+00:00\n",
      "\n",
      "\u001b[1mPortfolio Created\u001b[0m\n",
      "\u001b[1mScope: \u001b[0mportfolio_demo_abc\n",
      "\u001b[1mCode: \u001b[0mportfolio-B-ef79\n",
      "\u001b[1mPortfolio Effective From: \u001b[0m2018-01-01 00:00:00+00:00\n",
      "\u001b[1mPortfolio Created On: \u001b[0m2019-03-04 11:14:58.326519+00:00\n",
      "\n",
      "\u001b[1mDerived Portfolio Created\u001b[0m\n",
      "\u001b[1mScope: \u001b[0mportfolio_demo_abc\n",
      "\u001b[1mCode: \u001b[0mderived-portfolio-A-53ef\n",
      "\u001b[1mPortfolio Effective From: \u001b[0m2018-01-01 00:00:00+00:00\n",
      "\u001b[1mPortfolio Created On: \u001b[0m2019-03-04 11:11:28.145482+00:00\n",
      "\n",
      "\u001b[1m   Parent Portfolio Details\u001b[0m\n",
      "\u001b[1m   Code: \u001b[0mportfolio-A-cd91\n",
      "\n",
      "\u001b[1mDerived Portfolio Created\u001b[0m\n",
      "\u001b[1mScope: \u001b[0mportfolio_demo_abc\n",
      "\u001b[1mCode: \u001b[0mderived-portfolio-A-ba3a\n",
      "\u001b[1mPortfolio Effective From: \u001b[0m2018-01-01 00:00:00+00:00\n",
      "\u001b[1mPortfolio Created On: \u001b[0m2019-03-04 11:15:01.391424+00:00\n",
      "\n",
      "\u001b[1m   Parent Portfolio Details\u001b[0m\n",
      "\u001b[1m   Code: \u001b[0mportfolio-A-3cb1\n",
      "\n",
      "\u001b[1mPortfolio Created\u001b[0m\n",
      "\u001b[1mScope: \u001b[0mportfolio_demo_abc\n",
      "\u001b[1mCode: \u001b[0mportfolio-A-cd91\n",
      "\u001b[1mPortfolio Effective From: \u001b[0m2018-01-01 00:00:00+00:00\n",
      "\u001b[1mPortfolio Created On: \u001b[0m2019-03-04 11:11:21.728535+00:00\n",
      "\n",
      "\u001b[1mPortfolio Created\u001b[0m\n",
      "\u001b[1mScope: \u001b[0mportfolio_demo_abc\n",
      "\u001b[1mCode: \u001b[0mportfolio-F-0b25\n",
      "\u001b[1mPortfolio Effective From: \u001b[0m2018-01-01 00:00:00+00:00\n",
      "\u001b[1mPortfolio Created On: \u001b[0m2019-03-04 11:11:19.795481+00:00\n",
      "\n",
      "\u001b[1mPortfolio Created\u001b[0m\n",
      "\u001b[1mScope: \u001b[0mportfolio_demo_abc\n",
      "\u001b[1mCode: \u001b[0mportfolio-D-229b\n",
      "\u001b[1mPortfolio Effective From: \u001b[0m2018-01-01 00:00:00+00:00\n",
      "\u001b[1mPortfolio Created On: \u001b[0m2019-03-04 11:11:19.197162+00:00\n",
      "\n",
      "\u001b[1mPortfolio Created\u001b[0m\n",
      "\u001b[1mScope: \u001b[0mportfolio_demo_abc\n",
      "\u001b[1mCode: \u001b[0mportfolio-E-f8c3\n",
      "\u001b[1mPortfolio Effective From: \u001b[0m2018-01-01 00:00:00+00:00\n",
      "\u001b[1mPortfolio Created On: \u001b[0m2019-03-04 11:14:59.196241+00:00\n",
      "\n",
      "\u001b[1mPortfolio Created\u001b[0m\n",
      "\u001b[1mScope: \u001b[0mportfolio_demo_abc\n",
      "\u001b[1mCode: \u001b[0mportfolio-B-b9cf\n",
      "\u001b[1mPortfolio Effective From: \u001b[0m2018-01-01 00:00:00+00:00\n",
      "\u001b[1mPortfolio Created On: \u001b[0m2019-03-04 11:11:18.652169+00:00\n",
      "\n",
      "\u001b[1mPortfolio Created\u001b[0m\n",
      "\u001b[1mScope: \u001b[0mportfolio_demo_abc\n",
      "\u001b[1mCode: \u001b[0mportfolio-E-ec63\n",
      "\u001b[1mPortfolio Effective From: \u001b[0m2018-01-01 00:00:00+00:00\n",
      "\u001b[1mPortfolio Created On: \u001b[0m2019-03-04 11:11:19.488841+00:00\n",
      "\n",
      "Portfolios remaining in scope  portfolio_demo_xyz  :\n",
      "\n",
      "\u001b[1mPortfolio Created\u001b[0m\n",
      "\u001b[1mScope: \u001b[0mportfolio_demo_xyz\n",
      "\u001b[1mCode: \u001b[0mportfolio-Y-586c\n",
      "\u001b[1mPortfolio Effective From: \u001b[0m2018-01-01 00:00:00+00:00\n",
      "\u001b[1mPortfolio Created On: \u001b[0m2019-03-04 11:11:20.343027+00:00\n",
      "\n",
      "\u001b[1mPortfolio Created\u001b[0m\n",
      "\u001b[1mScope: \u001b[0mportfolio_demo_xyz\n",
      "\u001b[1mCode: \u001b[0mportfolio-X-6f34\n",
      "\u001b[1mPortfolio Effective From: \u001b[0m2018-01-01 00:00:00+00:00\n",
      "\u001b[1mPortfolio Created On: \u001b[0m2019-03-04 11:11:20.064008+00:00\n",
      "\n",
      "\u001b[1mPortfolio Created\u001b[0m\n",
      "\u001b[1mScope: \u001b[0mportfolio_demo_xyz\n",
      "\u001b[1mCode: \u001b[0mportfolio-X-155e\n",
      "\u001b[1mPortfolio Effective From: \u001b[0m2018-01-01 00:00:00+00:00\n",
      "\u001b[1mPortfolio Created On: \u001b[0m2019-03-04 11:14:59.738610+00:00\n",
      "\n",
      "\u001b[1mPortfolio Created\u001b[0m\n",
      "\u001b[1mScope: \u001b[0mportfolio_demo_xyz\n",
      "\u001b[1mCode: \u001b[0mportfolio-Y-c2f5\n",
      "\u001b[1mPortfolio Effective From: \u001b[0m2018-01-01 00:00:00+00:00\n",
      "\u001b[1mPortfolio Created On: \u001b[0m2019-03-04 11:15:00.077729+00:00\n",
      "\n"
     ]
    }
   ],
   "source": [
    "scope1_portfolios_list_response = client.list_portfolios_for_scope(\n",
    "    scope=scope1,\n",
    "    effective_at=None,\n",
    "    as_at=None,\n",
    "    sort_by='-as_at',\n",
    "    start=None,\n",
    "    limit=None,\n",
    "    filter=None)\n",
    "scope2_portfolios_list_response = client.list_portfolios_for_scope(\n",
    "    scope=scope2,\n",
    "    effective_at=None,\n",
    "    as_at=None,\n",
    "    sort_by=None,\n",
    "    start=None,\n",
    "    limit=None,\n",
    "    filter=None)\n",
    "\n",
    "print('Portfolios remaining in scope ', scope1, ' :\\n')\n",
    "for portfolio in scope1_portfolios_list_response.values:\n",
    "    prettyprint.portfolio_response(portfolio)\n",
    "\n",
    "print('Portfolios remaining in scope ', scope2, ' :\\n')\n",
    "for portfolio in scope2_portfolios_list_response.values:\n",
    "    prettyprint.portfolio_response(portfolio)"
   ]
  },
  {
   "cell_type": "markdown",
   "metadata": {},
   "source": [
    "## 15. Delete Portfolios\n",
    "The cells below allow us to delete the extra portfolios in the scope. Keep in mind, derived portfolios must be deleted first, as if a parent portfolio still contains a child, the deletion will fail.\n",
    "\n",
    "*Run the cell below to create some helper functions*"
   ]
  },
  {
   "cell_type": "code",
   "execution_count": 25,
   "metadata": {},
   "outputs": [],
   "source": [
    "# Helper functions to filter out unwanted portfolios\n",
    "\n",
    "def extractIds(portfolioList):\n",
    "    parent_ids = []\n",
    "    derived_ids = []\n",
    "    for folio in portfolioList:\n",
    "        if folio.is_derived:\n",
    "            derived_ids.append((folio.id.scope, folio.id.code))\n",
    "        else:\n",
    "            parent_ids.append((folio.id.scope, folio.id.code))\n",
    "    return (parent_ids, derived_ids)\n",
    "\n",
    "def returnNotMatches(a, b):\n",
    "    if type(b) is not tuple:\n",
    "        return [x for x in a if x not in b]\n",
    "    else :\n",
    "        return [x for x in a if x not in [b]]\n"
   ]
  },
  {
   "cell_type": "markdown",
   "metadata": {},
   "source": [
    "Now we select the parent/derived portfolios we wish to keep or delete. Currently `portfolios_to_keep` is hardcoded to keep the derived portfolio that we created at the beginning of this example, and its parent portfolio.\n",
    "\n",
    "*Run the cell below to filter and separate portfolios to keep and delete in each scope*"
   ]
  },
  {
   "cell_type": "code",
   "execution_count": 26,
   "metadata": {},
   "outputs": [
    {
     "name": "stdout",
     "output_type": "stream",
     "text": [
      "Keeping Parents :  ('portfolio_demo_abc', 'portfolio-A-3cb1')\n",
      "Deleting Parents :  [('portfolio_demo_abc', 'portfolio-F-4270'), ('portfolio_demo_abc', 'portfolio-D-3379'), ('portfolio_demo_abc', 'portfolio-C-c4df'), ('portfolio_demo_abc', 'portfolio-A-3309'), ('portfolio_demo_abc', 'portfolio-C-c196'), ('portfolio_demo_abc', 'portfolio-B-ef79'), ('portfolio_demo_abc', 'portfolio-A-cd91'), ('portfolio_demo_abc', 'portfolio-F-0b25'), ('portfolio_demo_abc', 'portfolio-D-229b'), ('portfolio_demo_abc', 'portfolio-E-f8c3'), ('portfolio_demo_abc', 'portfolio-B-b9cf'), ('portfolio_demo_abc', 'portfolio-E-ec63'), ('portfolio_demo_xyz', 'portfolio-Y-586c'), ('portfolio_demo_xyz', 'portfolio-X-6f34'), ('portfolio_demo_xyz', 'portfolio-X-155e'), ('portfolio_demo_xyz', 'portfolio-Y-c2f5')]\n",
      "\n",
      "Keeping Derived :  ('portfolio_demo_abc', 'derived-portfolio-A-ba3a')\n",
      "Deleting Derived :  [('portfolio_demo_abc', 'derived-portfolio-A-c2dd'), ('portfolio_demo_abc', 'derived-portfolio-A-53ef')]\n"
     ]
    }
   ],
   "source": [
    "# first combine all the portfolios in our two scopes\n",
    "all_portfolios_in_scopes = extractIds(scope1_portfolios_list_response.values\n",
    "                                      + scope2_portfolios_list_response.values)\n",
    "parent_portfolios = all_portfolios_in_scopes[0]\n",
    "derived_portfolios = all_portfolios_in_scopes[1]\n",
    "\n",
    "# then combine the portfolios we're interested in keeping into a list \n",
    "# - just the first portfolio we created and its derived portfolio\n",
    "portfolios_to_keep = [(derived_portfolio.parent_portfolio_id.scope, derived_portfolio.parent_portfolio_id.code),\n",
    "                     (derived_portfolio.id.scope, derived_portfolio.id.code)]\n",
    "parents_to_keep = portfolios_to_keep[0]\n",
    "derived_to_keep = portfolios_to_keep[1]\n",
    "\n",
    "# we can now exclude portfolios to keep from the full list\n",
    "parents_to_delete = returnNotMatches(parent_portfolios, parents_to_keep)\n",
    "derived_to_delete = returnNotMatches(derived_portfolios, derived_to_keep)\n",
    "print(\"Keeping Parents : \", parents_to_keep)\n",
    "print(\"Deleting Parents : \", parents_to_delete)\n",
    "print(\"\")\n",
    "print(\"Keeping Derived : \", derived_to_keep)\n",
    "print(\"Deleting Derived : \", derived_to_delete)"
   ]
  },
  {
   "cell_type": "markdown",
   "metadata": {},
   "source": [
    "With this filtering done, we can proceed with deleting unwanted portfolios. Deletion is done one portfolio at a time, therefore we must loop through the list of portfolios to delete. Derived portfolios are deleted first, followed by a separate loop to delete parent (top level - they may never have had derived portfolios attached) portfolios.\n",
    "\n",
    "*Run the cell below to delete all portfolios that are not being kept*"
   ]
  },
  {
   "cell_type": "code",
   "execution_count": 27,
   "metadata": {},
   "outputs": [
    {
     "name": "stdout",
     "output_type": "stream",
     "text": [
      "Deleting Derived Portfolios ... \n",
      "Portfolio deleted :  portfolio_demo_abc derived-portfolio-A-c2dd\n",
      "At time :  2019-03-04 11:15:20.773061+00:00\n",
      "Portfolio deleted :  portfolio_demo_abc derived-portfolio-A-53ef\n",
      "At time :  2019-03-04 11:15:21.153094+00:00\n",
      "\n",
      "\n",
      "Deleting remaining Portfolios ... \n",
      "Portfolio deleted :  portfolio_demo_abc portfolio-F-4270\n",
      "At time :  2019-03-04 11:15:21.410284+00:00\n",
      "Portfolio deleted :  portfolio_demo_abc portfolio-D-3379\n",
      "At time :  2019-03-04 11:15:21.666738+00:00\n",
      "Portfolio deleted :  portfolio_demo_abc portfolio-C-c4df\n",
      "At time :  2019-03-04 11:15:21.906465+00:00\n",
      "Portfolio deleted :  portfolio_demo_abc portfolio-A-3309\n",
      "At time :  2019-03-04 11:15:22.164807+00:00\n",
      "Portfolio deleted :  portfolio_demo_abc portfolio-C-c196\n",
      "At time :  2019-03-04 11:15:22.447022+00:00\n",
      "Portfolio deleted :  portfolio_demo_abc portfolio-B-ef79\n",
      "At time :  2019-03-04 11:15:22.728404+00:00\n",
      "Portfolio deleted :  portfolio_demo_abc portfolio-A-cd91\n",
      "At time :  2019-03-04 11:15:22.983934+00:00\n",
      "Portfolio deleted :  portfolio_demo_abc portfolio-F-0b25\n",
      "At time :  2019-03-04 11:15:23.231191+00:00\n",
      "Portfolio deleted :  portfolio_demo_abc portfolio-D-229b\n",
      "At time :  2019-03-04 11:15:23.468311+00:00\n",
      "Portfolio deleted :  portfolio_demo_abc portfolio-E-f8c3\n",
      "At time :  2019-03-04 11:15:23.728807+00:00\n",
      "Portfolio deleted :  portfolio_demo_abc portfolio-B-b9cf\n",
      "At time :  2019-03-04 11:15:24.160667+00:00\n",
      "Portfolio deleted :  portfolio_demo_abc portfolio-E-ec63\n",
      "At time :  2019-03-04 11:15:24.466321+00:00\n",
      "Portfolio deleted :  portfolio_demo_xyz portfolio-Y-586c\n",
      "At time :  2019-03-04 11:15:24.925815+00:00\n",
      "Portfolio deleted :  portfolio_demo_xyz portfolio-X-6f34\n",
      "At time :  2019-03-04 11:15:25.412344+00:00\n",
      "Portfolio deleted :  portfolio_demo_xyz portfolio-X-155e\n",
      "At time :  2019-03-04 11:15:25.822482+00:00\n",
      "Portfolio deleted :  portfolio_demo_xyz portfolio-Y-c2f5\n",
      "At time :  2019-03-04 11:15:26.331570+00:00\n"
     ]
    }
   ],
   "source": [
    "# Next we delete the derived portfolios first\n",
    "print(\"Deleting Derived Portfolios ... \")\n",
    "for portfolio in derived_to_delete:\n",
    "    response = client.delete_portfolio(\n",
    "        scope=portfolio[0],\n",
    "        code=portfolio[1],\n",
    "        effective_at=None)\n",
    "    print('Portfolio deleted : ', portfolio[0], portfolio[1])\n",
    "    print('At time : ', str(response.as_at))\n",
    "print('\\n')\n",
    "print(\"Deleting remaining Portfolios ... \")\n",
    "# Then we proceed with deleting the remaining parent portfolios\n",
    "for portfolio in parents_to_delete:\n",
    "    response = client.delete_portfolio(\n",
    "        scope=portfolio[0],\n",
    "        code=portfolio[1],\n",
    "        effective_at=None)\n",
    "    print('Portfolio deleted : ', portfolio[0], portfolio[1])\n",
    "    print('At time : ', str(response.as_at))"
   ]
  },
  {
   "cell_type": "markdown",
   "metadata": {},
   "source": [
    "If we now re-list the portfolios in our scopes, we will see that only our two original portfolios remain, and one derived portfolio.  Note that scope 2 is now completely empty of portfolios.\n",
    "\n",
    "*Run the cell below to list all portfolios in both scopes at the latest time*"
   ]
  },
  {
   "cell_type": "code",
   "execution_count": 28,
   "metadata": {},
   "outputs": [
    {
     "name": "stdout",
     "output_type": "stream",
     "text": [
      "\u001b[91mPortfolios remaining in scope: \u001b[0m portfolio_demo_abc :\n",
      "\u001b[1mPortfolio Created\u001b[0m\n",
      "\u001b[1mScope: \u001b[0mportfolio_demo_abc\n",
      "\u001b[1mCode: \u001b[0mportfolio-A-3cb1\n",
      "\u001b[1mPortfolio Effective From: \u001b[0m2018-01-01 00:00:00+00:00\n",
      "\u001b[1mPortfolio Created On: \u001b[0m2019-03-04 11:15:00.348902+00:00\n",
      "\n",
      "\u001b[1mDerived Portfolio Created\u001b[0m\n",
      "\u001b[1mScope: \u001b[0mportfolio_demo_abc\n",
      "\u001b[1mCode: \u001b[0mderived-portfolio-A-ba3a\n",
      "\u001b[1mPortfolio Effective From: \u001b[0m2018-01-01 00:00:00+00:00\n",
      "\u001b[1mPortfolio Created On: \u001b[0m2019-03-04 11:15:01.391424+00:00\n",
      "\n",
      "\u001b[1m   Parent Portfolio Details\u001b[0m\n",
      "\u001b[1m   Code: \u001b[0mportfolio-A-3cb1\n",
      "\n",
      "\u001b[91mPortfolios remaining in scope: \u001b[0m portfolio_demo_xyz :\n"
     ]
    }
   ],
   "source": [
    "# We can re-run the list portfolios command to check what portfolios remain in each scope\n",
    "scope1_portfolios_list_response = client.list_portfolios_for_scope(\n",
    "    scope=scope1,\n",
    "    effective_at=None,\n",
    "    as_at=None,\n",
    "    sort_by=None,\n",
    "    start=None,\n",
    "    limit=None,\n",
    "    filter=None)\n",
    "\n",
    "scope2_portfolios_list_response = client.list_portfolios_for_scope(\n",
    "    scope=scope2,\n",
    "    effective_at=None,\n",
    "    as_at=None,\n",
    "    sort_by=None,\n",
    "    start=None,\n",
    "    limit=None,\n",
    "    filter=None)\n",
    "\n",
    "print('\\033[91m' + 'Portfolios remaining in scope: ' + '\\033[0m', scope1, ':')\n",
    "for portfolio in scope1_portfolios_list_response.values:\n",
    "    prettyprint.portfolio_response(portfolio)\n",
    "\n",
    "print('\\033[91m' + 'Portfolios remaining in scope: ' + '\\033[0m', scope2, ':')\n",
    "for portfolio in scope2_portfolios_list_response.values:\n",
    "    prettyprint.portfolio_response(portfolio)\n",
    "    print('\\n')"
   ]
  }
 ],
 "metadata": {
  "celltoolbar": "Raw Cell Format",
  "kernelspec": {
   "display_name": "Python 3",
   "language": "python",
   "name": "python3"
  },
  "language_info": {
   "codemirror_mode": {
    "name": "ipython",
    "version": 3
   },
   "file_extension": ".py",
   "mimetype": "text/x-python",
   "name": "python",
   "nbconvert_exporter": "python",
   "pygments_lexer": "ipython3",
   "version": "3.6.7"
  }
 },
 "nbformat": 4,
 "nbformat_minor": 2
}
