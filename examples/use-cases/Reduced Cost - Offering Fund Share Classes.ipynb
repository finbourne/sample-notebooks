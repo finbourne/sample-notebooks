{
 "cells": [
  {
   "cell_type": "markdown",
   "metadata": {},
   "source": [
    "First things first let's initialise your environment.\n",
    "\n",
    "*Run the cell below to import your libraries and initialise your LUSID client*"
   ]
  },
  {
   "cell_type": "code",
   "execution_count": 1,
   "metadata": {},
   "outputs": [
    {
     "name": "stdout",
     "output_type": "stream",
     "text": [
      "LUSID Environment Initialised\n",
      "API Version:  0.5.2643.0\n"
     ]
    }
   ],
   "source": [
    "# Import LUSID\n",
    "import lusid.models as models\n",
    "import lusid_sample_data as import_data\n",
    "\n",
    "# Import Libraries\n",
    "import pprint\n",
    "from datetime import datetime, timedelta, time\n",
    "from dateutil.parser import parse\n",
    "import pytz\n",
    "import printer as prettyprint\n",
    "import pandas as pd\n",
    "import uuid\n",
    "import math\n",
    "import json\n",
    "\n",
    "# Authenticate our user and create our API client\n",
    "client = import_data.authenticate_secrets()\n",
    "\n",
    "print ('LUSID Environment Initialised')\n",
    "print ('API Version: ', client.metadata.get_lusid_versions().build_version)"
   ]
  },
  {
   "cell_type": "markdown",
   "metadata": {},
   "source": [
    "![Initailise LUSID](img/multiplecurrencies-initialise.gif)"
   ]
  },
  {
   "cell_type": "markdown",
   "metadata": {},
   "source": [
    "## 1) Set up your Scope"
   ]
  },
  {
   "cell_type": "markdown",
   "metadata": {},
   "source": [
    "You will need to create a name for the scope that you will use for the fund. Read more about scopes in the [LUSID Knowledge Base: Scopes](https://support.lusid.com/what-is-a-scope-in-lusid-and-how-is-it-used).\n",
    "\n",
    "*Run the cell below to create a name for your scope*"
   ]
  },
  {
   "cell_type": "code",
   "execution_count": 2,
   "metadata": {},
   "outputs": [
    {
     "name": "stdout",
     "output_type": "stream",
     "text": [
      "\u001b[1mScope: \u001b[0mUK_High_Growth_Equities_Fund_4c2e\n"
     ]
    }
   ],
   "source": [
    "# Give the scope a unique identifier\n",
    "scope_id = str(uuid.uuid4())[:4]\n",
    "# Give the scope a descriptive name\n",
    "scope_name = 'UK_High_Growth_Equities_Fund'\n",
    "# Join the two together to get the full scope name\n",
    "scope = '{}_{}'.format(scope_name, scope_id)\n",
    "prettyprint.heading('Scope', scope)"
   ]
  },
  {
   "cell_type": "markdown",
   "metadata": {},
   "source": [
    "![Scope](img/multiplecurrencies-scope.gif)"
   ]
  },
  {
   "cell_type": "markdown",
   "metadata": {},
   "source": [
    "## 2) Load Instruments"
   ]
  },
  {
   "cell_type": "markdown",
   "metadata": {},
   "source": [
    "Before you can take on any holdings or make any trades you need to ensure that your instrument universe has been populated. In this case you will import your instrument universe from a CSV file. Read more about instruments in LUSID in the [LUSID Knowledge Base: Instruments](https://support.lusid.com/what-is-an-instrument).\n",
    "\n",
    "*Run the cell below to import your instrument universe*"
   ]
  },
  {
   "cell_type": "code",
   "execution_count": 3,
   "metadata": {},
   "outputs": [
    {
     "data": {
      "text/html": [
       "<div>\n",
       "<style scoped>\n",
       "    .dataframe tbody tr th:only-of-type {\n",
       "        vertical-align: middle;\n",
       "    }\n",
       "\n",
       "    .dataframe tbody tr th {\n",
       "        vertical-align: top;\n",
       "    }\n",
       "\n",
       "    .dataframe thead th {\n",
       "        text-align: right;\n",
       "    }\n",
       "</style>\n",
       "<table border=\"1\" class=\"dataframe\">\n",
       "  <thead>\n",
       "    <tr style=\"text-align: right;\">\n",
       "      <th></th>\n",
       "      <th>instrument_name</th>\n",
       "      <th>client_internal</th>\n",
       "      <th>currency</th>\n",
       "      <th>isin</th>\n",
       "      <th>figi</th>\n",
       "      <th>exchange_code</th>\n",
       "      <th>country_issue</th>\n",
       "      <th>ticker</th>\n",
       "      <th>market_sector</th>\n",
       "      <th>security_type</th>\n",
       "      <th>coupon</th>\n",
       "    </tr>\n",
       "  </thead>\n",
       "  <tbody>\n",
       "    <tr>\n",
       "      <th>0</th>\n",
       "      <td>Amazon_Nasdaq_AMZN</td>\n",
       "      <td>imd_34634534</td>\n",
       "      <td>USD</td>\n",
       "      <td>US0231351067</td>\n",
       "      <td>BBG000BVPXP1</td>\n",
       "      <td>UN</td>\n",
       "      <td>united_states_america</td>\n",
       "      <td>AMZN</td>\n",
       "      <td>equity</td>\n",
       "      <td>common_stock</td>\n",
       "      <td>NaN</td>\n",
       "    </tr>\n",
       "    <tr>\n",
       "      <th>1</th>\n",
       "      <td>Apple_Nasdaq_AAPL</td>\n",
       "      <td>imd_35345345</td>\n",
       "      <td>USD</td>\n",
       "      <td>US0378331005</td>\n",
       "      <td>BBG000B9XVV8</td>\n",
       "      <td>UN</td>\n",
       "      <td>united_states_america</td>\n",
       "      <td>AAPL</td>\n",
       "      <td>equity</td>\n",
       "      <td>common_stock</td>\n",
       "      <td>NaN</td>\n",
       "    </tr>\n",
       "    <tr>\n",
       "      <th>2</th>\n",
       "      <td>USTreasury_2.00_2021</td>\n",
       "      <td>imd_34535347</td>\n",
       "      <td>USD</td>\n",
       "      <td>US912828U816</td>\n",
       "      <td>BBG00FN3B5K8</td>\n",
       "      <td>BERLIN</td>\n",
       "      <td>united_states_america</td>\n",
       "      <td>T 2 12/31/21</td>\n",
       "      <td>govt</td>\n",
       "      <td>us_government</td>\n",
       "      <td>2.000</td>\n",
       "    </tr>\n",
       "    <tr>\n",
       "      <th>3</th>\n",
       "      <td>USTreasury_6.875_2025</td>\n",
       "      <td>imd_34534539</td>\n",
       "      <td>USD</td>\n",
       "      <td>US912810EV62</td>\n",
       "      <td>BBG000DQQNJ8</td>\n",
       "      <td>NEW YORK</td>\n",
       "      <td>united_states_america</td>\n",
       "      <td>T 6.875 08/15/25</td>\n",
       "      <td>govt</td>\n",
       "      <td>us_government</td>\n",
       "      <td>6.875</td>\n",
       "    </tr>\n",
       "    <tr>\n",
       "      <th>4</th>\n",
       "      <td>ExpressScripts_NYSE_ESRX</td>\n",
       "      <td>imd_34352311</td>\n",
       "      <td>USD</td>\n",
       "      <td>US30219G1085</td>\n",
       "      <td>BBG000C16621</td>\n",
       "      <td>UN</td>\n",
       "      <td>united_states_america</td>\n",
       "      <td>ESRX</td>\n",
       "      <td>equity</td>\n",
       "      <td>common_stock</td>\n",
       "      <td>NaN</td>\n",
       "    </tr>\n",
       "    <tr>\n",
       "      <th>5</th>\n",
       "      <td>TrinityIndustries_NYSE_TRN</td>\n",
       "      <td>imd_34235200</td>\n",
       "      <td>USD</td>\n",
       "      <td>US8965221091</td>\n",
       "      <td>BBG000BVL406</td>\n",
       "      <td>UN</td>\n",
       "      <td>united_states_america</td>\n",
       "      <td>TRN</td>\n",
       "      <td>equity</td>\n",
       "      <td>common_stock</td>\n",
       "      <td>NaN</td>\n",
       "    </tr>\n",
       "    <tr>\n",
       "      <th>6</th>\n",
       "      <td>Trex_NYSE_TREX</td>\n",
       "      <td>imd_32423956</td>\n",
       "      <td>USD</td>\n",
       "      <td>US89531P1057</td>\n",
       "      <td>BBG000BTGM43</td>\n",
       "      <td>UN</td>\n",
       "      <td>united_states_america</td>\n",
       "      <td>TREX</td>\n",
       "      <td>equity</td>\n",
       "      <td>common_stock</td>\n",
       "      <td>NaN</td>\n",
       "    </tr>\n",
       "    <tr>\n",
       "      <th>7</th>\n",
       "      <td>Cigna_NYSE_CI</td>\n",
       "      <td>imd_32452391</td>\n",
       "      <td>USD</td>\n",
       "      <td>US1255091092</td>\n",
       "      <td>BBG00KXXK940</td>\n",
       "      <td>UN</td>\n",
       "      <td>united_states_america</td>\n",
       "      <td>CI</td>\n",
       "      <td>equity</td>\n",
       "      <td>common_stock</td>\n",
       "      <td>NaN</td>\n",
       "    </tr>\n",
       "    <tr>\n",
       "      <th>8</th>\n",
       "      <td>Arcosa_NYSE_ACA</td>\n",
       "      <td>imd_23423409</td>\n",
       "      <td>USD</td>\n",
       "      <td>US0396531008</td>\n",
       "      <td>BBG00JGMWFQ5</td>\n",
       "      <td>UN</td>\n",
       "      <td>united_states_america</td>\n",
       "      <td>ACA</td>\n",
       "      <td>equity</td>\n",
       "      <td>common_stock</td>\n",
       "      <td>NaN</td>\n",
       "    </tr>\n",
       "  </tbody>\n",
       "</table>\n",
       "</div>"
      ],
      "text/plain": [
       "              instrument_name client_internal currency          isin  \\\n",
       "0          Amazon_Nasdaq_AMZN    imd_34634534      USD  US0231351067   \n",
       "1           Apple_Nasdaq_AAPL    imd_35345345      USD  US0378331005   \n",
       "2        USTreasury_2.00_2021    imd_34535347      USD  US912828U816   \n",
       "3       USTreasury_6.875_2025    imd_34534539      USD  US912810EV62   \n",
       "4    ExpressScripts_NYSE_ESRX    imd_34352311      USD  US30219G1085   \n",
       "5  TrinityIndustries_NYSE_TRN    imd_34235200      USD  US8965221091   \n",
       "6              Trex_NYSE_TREX    imd_32423956      USD  US89531P1057   \n",
       "7               Cigna_NYSE_CI    imd_32452391      USD  US1255091092   \n",
       "8             Arcosa_NYSE_ACA    imd_23423409      USD  US0396531008   \n",
       "\n",
       "           figi exchange_code          country_issue            ticker  \\\n",
       "0  BBG000BVPXP1            UN  united_states_america              AMZN   \n",
       "1  BBG000B9XVV8            UN  united_states_america              AAPL   \n",
       "2  BBG00FN3B5K8        BERLIN  united_states_america      T 2 12/31/21   \n",
       "3  BBG000DQQNJ8      NEW YORK  united_states_america  T 6.875 08/15/25   \n",
       "4  BBG000C16621            UN  united_states_america              ESRX   \n",
       "5  BBG000BVL406            UN  united_states_america               TRN   \n",
       "6  BBG000BTGM43            UN  united_states_america              TREX   \n",
       "7  BBG00KXXK940            UN  united_states_america                CI   \n",
       "8  BBG00JGMWFQ5            UN  united_states_america               ACA   \n",
       "\n",
       "  market_sector  security_type  coupon  \n",
       "0        equity   common_stock     NaN  \n",
       "1        equity   common_stock     NaN  \n",
       "2          govt  us_government   2.000  \n",
       "3          govt  us_government   6.875  \n",
       "4        equity   common_stock     NaN  \n",
       "5        equity   common_stock     NaN  \n",
       "6        equity   common_stock     NaN  \n",
       "7        equity   common_stock     NaN  \n",
       "8        equity   common_stock     NaN  "
      ]
     },
     "execution_count": 3,
     "metadata": {},
     "output_type": "execute_result"
    }
   ],
   "source": [
    "# Import your instrument universe from a CSV file\n",
    "instrument_universe = pd.read_csv('data/multiplecurrencies-instruments.csv')\n",
    "# Look at the first 10 instruments\n",
    "instrument_universe.head(n=10)"
   ]
  },
  {
   "cell_type": "markdown",
   "metadata": {},
   "source": [
    "Now that you have the details for your instruments you can go ahead and create an instrument definition for each instrument. These can then be upserted into LUSID. Read about instrument definitions here [LUSID Knowledge Base: What is an Instrument?](https://support.lusid.com/what-is-an-instrument)\n",
    "\n",
    "As part of this definition you will attach identifiers to your instruments. Read more about identifiers here [LUSID Knowledge Base: Which Instrument Identifier Schemes Should I Use With LUSID?](https://support.lusid.com/which-instrument-identifier-schemes-should-i-use-with-lusid)\n",
    "\n",
    "You use an upsert method to add instrument definitions to the instrument universe in LUSID. Read more about the behaviour of the upsert method here [LUSID Knowledge Base: Upsert](https://support.lusid.com/upsert-command).\n",
    "\n",
    "For further usage of the upsert instruments API call refer to the [LUSID API Docs: Upserting Instruments](https://docs.lusid.com/#operation/UpsertInstruments).\n",
    "\n",
    "*Run the cell below to upsert your instruments into LUSID*"
   ]
  },
  {
   "cell_type": "code",
   "execution_count": 4,
   "metadata": {},
   "outputs": [
    {
     "name": "stdout",
     "output_type": "stream",
     "text": [
      "\u001b[1mInstrument Successfully Upserted: \u001b[0mCigna_NYSE_CI\n",
      "\u001b[1mFigi ID: \u001b[0mBBG00KXXK940\n",
      "\u001b[1mLUSID Instrument ID: \u001b[0mLUID_0N8L1PEI\n",
      "\n",
      "\n",
      "\u001b[1mInstrument Successfully Upserted: \u001b[0mExpressScripts_NYSE_ESRX\n",
      "\u001b[1mFigi ID: \u001b[0mBBG000C16621\n",
      "\u001b[1mLUSID Instrument ID: \u001b[0mLUID_XPX95K5S\n",
      "\n",
      "\n",
      "\u001b[1mInstrument Successfully Upserted: \u001b[0mUSTreasury_6.875_2025\n",
      "\u001b[1mFigi ID: \u001b[0mBBG000DQQNJ8\n",
      "\u001b[1mLUSID Instrument ID: \u001b[0mLUID_J67SJTKE\n",
      "\n",
      "\n",
      "\u001b[1mInstrument Successfully Upserted: \u001b[0mApple_Nasdaq_AAPL\n",
      "\u001b[1mFigi ID: \u001b[0mBBG000B9XVV8\n",
      "\u001b[1mLUSID Instrument ID: \u001b[0mLUID_28QQHEDG\n",
      "\n",
      "\n",
      "\u001b[1mInstrument Successfully Upserted: \u001b[0mAmazon_Nasdaq_AMZN\n",
      "\u001b[1mFigi ID: \u001b[0mBBG000BVPXP1\n",
      "\u001b[1mLUSID Instrument ID: \u001b[0mLUID_Q1JT811J\n",
      "\n",
      "\n",
      "\u001b[1mInstrument Successfully Upserted: \u001b[0mArcosa_NYSE_ACA\n",
      "\u001b[1mFigi ID: \u001b[0mBBG00JGMWFQ5\n",
      "\u001b[1mLUSID Instrument ID: \u001b[0mLUID_TML8WEH6\n",
      "\n",
      "\n",
      "\u001b[1mInstrument Successfully Upserted: \u001b[0mTrex_NYSE_TREX\n",
      "\u001b[1mFigi ID: \u001b[0mBBG000BTGM43\n",
      "\u001b[1mLUSID Instrument ID: \u001b[0mLUID_HZI5VR1Z\n",
      "\n",
      "\n",
      "\u001b[1mInstrument Successfully Upserted: \u001b[0mUSTreasury_2.00_2021\n",
      "\u001b[1mFigi ID: \u001b[0mBBG00FN3B5K8\n",
      "\u001b[1mLUSID Instrument ID: \u001b[0mLUID_YCW2RZPU\n",
      "\n",
      "\n",
      "\u001b[1mInstrument Successfully Upserted: \u001b[0mTrinityIndustries_NYSE_TRN\n",
      "\u001b[1mFigi ID: \u001b[0mBBG000BVL406\n",
      "\u001b[1mLUSID Instrument ID: \u001b[0mLUID_KYSEMHN5\n",
      "\n",
      "\n",
      "9  instruments upserted successfully\n",
      "0  instrument upsert failures\n"
     ]
    }
   ],
   "source": [
    "# Initialise a dictionary to hold your instrument definitions\n",
    "instrument_definitions = {}\n",
    "\n",
    "# Set the mapping between your identifier columns and the available LUSID identifiers\n",
    "identifier_columns = {\n",
    "    'isin': 'Isin',\n",
    "    'figi': 'Figi',\n",
    "    'ticker': 'Ticker',\n",
    "    'client_internal': 'ClientInternal'\n",
    "}\n",
    "\n",
    "# Iterate over your instrument universe\n",
    "for index, instrument in instrument_universe.iterrows():\n",
    "\n",
    "    # Create your identifier dictionary for this instrument\n",
    "    identifiers = {}\n",
    "    for identifier_column, identifier_lusid in identifier_columns.items():\n",
    "        identifiers[identifier_lusid] = models.InstrumentIdValue(\n",
    "            value=instrument[identifier_column])\n",
    "        \n",
    "    # Create the definition for your instrument\n",
    "    instrument_definitions[instrument['instrument_name']] = models.InstrumentDefinition(\n",
    "        name=instrument['instrument_name'],\n",
    "        identifiers=identifiers\n",
    "    )\n",
    "\n",
    "# Call LUSID to upsert your instrument defintions as a batch\n",
    "response = client.instruments.upsert_instruments(\n",
    "    requests=instrument_definitions)\n",
    "\n",
    "# Pretty print the response from LUSID\n",
    "prettyprint.instrument_response(response, identifier='Figi')"
   ]
  },
  {
   "cell_type": "markdown",
   "metadata": {},
   "source": [
    "![Instruments](img/multiplecurrencies-instruments.gif)"
   ]
  },
  {
   "cell_type": "markdown",
   "metadata": {},
   "source": [
    "## 3) Create your Base Fund Portfolio"
   ]
  },
  {
   "cell_type": "markdown",
   "metadata": {},
   "source": [
    "To create a portfolio you need to give it a name and code.\n",
    "\n",
    "*Run the cell below to give your base fund portfolio a name and code*"
   ]
  },
  {
   "cell_type": "code",
   "execution_count": 5,
   "metadata": {},
   "outputs": [
    {
     "name": "stdout",
     "output_type": "stream",
     "text": [
      "\u001b[1mPortfolio Name: \u001b[0mUK_High_Growth_Equities_Fund_base_fund\n",
      "\u001b[1mPortfolio Code: \u001b[0m26635eeb-a633-4460-bab9-fe4871701af3\n"
     ]
    }
   ],
   "source": [
    "# Give your portfolio a name & code\n",
    "base_portfolio_name = '{}_base_fund'.format(scope_name)\n",
    "base_portfolio_code = str(uuid.uuid4())\n",
    "prettyprint.heading('Portfolio Name', base_portfolio_name)\n",
    "prettyprint.heading('Portfolio Code', base_portfolio_code)"
   ]
  },
  {
   "cell_type": "markdown",
   "metadata": {},
   "source": [
    "Now that you have decided on the name and uniqu code for your portfolio you can create your base fund portfolio. Read more about portfolios in the [LUSID Knowledge Base: Portfolios](https://support.lusid.com/what-is-portfolio).\n",
    "\n",
    "For further usage of the create portfolio API call refer to the [LUSID API Docs: Create Portfolio](https://docs.lusid.com/#operation/CreatePortfolio).\n",
    "\n",
    "Note that when you create the portolio in the cell below you are creating it with a 'created' date of 365 days ago. This number is rather arbitary, in practice it should be the date the portfolio came into existence regardless of the system you first created it in, read more about the importance of the created date on a portfolio in the [LUSID Knowledge Base: Importance of Portfolio Creation Date](https://support.lusid.com/importance-of-portfolio-creation-date).\n",
    "\n",
    "*Run the cell below to create your portfolio*"
   ]
  },
  {
   "cell_type": "code",
   "execution_count": 6,
   "metadata": {},
   "outputs": [
    {
     "name": "stdout",
     "output_type": "stream",
     "text": [
      "\u001b[1mPortfolio Created\u001b[0m\n",
      "\u001b[1mScope: \u001b[0mUK_High_Growth_Equities_Fund_4c2e\n",
      "\u001b[1mCode: \u001b[0m26635eeb-a633-4460-bab9-fe4871701af3\n",
      "\u001b[1mPortfolio Effective From: \u001b[0m2018-05-24 14:30:26.666435+00:00\n",
      "\u001b[1mPortfolio Created On: \u001b[0m2019-05-24 14:30:26.477332+00:00\n",
      "\n"
     ]
    }
   ],
   "source": [
    "# The date your portfolio was first created\n",
    "portfolio_creation_date = (datetime.now(pytz.UTC) - timedelta(days=365))\n",
    "\n",
    "# Create the request to add your portfolio to LUSID\n",
    "transaction_portfolio_request = models.CreateTransactionPortfolioRequest(\n",
    "    display_name=base_portfolio_name,\n",
    "    code=base_portfolio_code,\n",
    "    base_currency='USD',\n",
    "    description='The portfolio to hold our base fund',\n",
    "    created=portfolio_creation_date)\n",
    "\n",
    "# Call LUSID to create your portfolio\n",
    "response = client.transaction_portfolios.create_portfolio(\n",
    "    scope=scope,\n",
    "    create_request=transaction_portfolio_request)\n",
    "\n",
    "# Pretty print the response from LUSID\n",
    "prettyprint.portfolio_response(response)"
   ]
  },
  {
   "cell_type": "markdown",
   "metadata": {},
   "source": [
    "![Base-Fund](img/multiplecurrencies-basefundportfolio.gif)"
   ]
  },
  {
   "cell_type": "markdown",
   "metadata": {},
   "source": [
    "## 4) Set your Holdings"
   ]
  },
  {
   "cell_type": "markdown",
   "metadata": {},
   "source": [
    "Now that you have your instrument universe populated you can load your initial holdings into your portfolio. In this case you will import your holdings from a CSV file.\n",
    "\n",
    "*Run the cell below to import your take on balances*"
   ]
  },
  {
   "cell_type": "code",
   "execution_count": 7,
   "metadata": {},
   "outputs": [
    {
     "data": {
      "text/html": [
       "<div>\n",
       "<style scoped>\n",
       "    .dataframe tbody tr th:only-of-type {\n",
       "        vertical-align: middle;\n",
       "    }\n",
       "\n",
       "    .dataframe tbody tr th {\n",
       "        vertical-align: top;\n",
       "    }\n",
       "\n",
       "    .dataframe thead th {\n",
       "        text-align: right;\n",
       "    }\n",
       "</style>\n",
       "<table border=\"1\" class=\"dataframe\">\n",
       "  <thead>\n",
       "    <tr style=\"text-align: right;\">\n",
       "      <th></th>\n",
       "      <th>instrument_name</th>\n",
       "      <th>client_internal</th>\n",
       "      <th>isin</th>\n",
       "      <th>figi</th>\n",
       "      <th>quantity</th>\n",
       "      <th>unit_cost</th>\n",
       "      <th>total_cost</th>\n",
       "      <th>currency</th>\n",
       "    </tr>\n",
       "  </thead>\n",
       "  <tbody>\n",
       "    <tr>\n",
       "      <th>0</th>\n",
       "      <td>Amazon_Nasdaq_AMZN</td>\n",
       "      <td>imd_34634534</td>\n",
       "      <td>US0231351067</td>\n",
       "      <td>BBG000BVPXP1</td>\n",
       "      <td>5000</td>\n",
       "      <td>1550.00</td>\n",
       "      <td>7750000.00</td>\n",
       "      <td>USD</td>\n",
       "    </tr>\n",
       "    <tr>\n",
       "      <th>1</th>\n",
       "      <td>Apple_Nasdaq_AAPL</td>\n",
       "      <td>imd_35345345</td>\n",
       "      <td>US0378331005</td>\n",
       "      <td>BBG000B9XVV8</td>\n",
       "      <td>49567</td>\n",
       "      <td>190.00</td>\n",
       "      <td>9417730.00</td>\n",
       "      <td>USD</td>\n",
       "    </tr>\n",
       "    <tr>\n",
       "      <th>2</th>\n",
       "      <td>USTreasury_2.00_2021</td>\n",
       "      <td>imd_34535347</td>\n",
       "      <td>US912828U816</td>\n",
       "      <td>BBG00FN3B5K8</td>\n",
       "      <td>121543</td>\n",
       "      <td>99.25</td>\n",
       "      <td>12063142.75</td>\n",
       "      <td>USD</td>\n",
       "    </tr>\n",
       "    <tr>\n",
       "      <th>3</th>\n",
       "      <td>USTreasury_6.875_2025</td>\n",
       "      <td>imd_34534539</td>\n",
       "      <td>US912810EV62</td>\n",
       "      <td>BBG000DQQNJ8</td>\n",
       "      <td>98444</td>\n",
       "      <td>140.98</td>\n",
       "      <td>13878635.12</td>\n",
       "      <td>USD</td>\n",
       "    </tr>\n",
       "  </tbody>\n",
       "</table>\n",
       "</div>"
      ],
      "text/plain": [
       "         instrument_name client_internal          isin          figi  \\\n",
       "0     Amazon_Nasdaq_AMZN    imd_34634534  US0231351067  BBG000BVPXP1   \n",
       "1      Apple_Nasdaq_AAPL    imd_35345345  US0378331005  BBG000B9XVV8   \n",
       "2   USTreasury_2.00_2021    imd_34535347  US912828U816  BBG00FN3B5K8   \n",
       "3  USTreasury_6.875_2025    imd_34534539  US912810EV62  BBG000DQQNJ8   \n",
       "\n",
       "   quantity  unit_cost   total_cost currency  \n",
       "0      5000    1550.00   7750000.00      USD  \n",
       "1     49567     190.00   9417730.00      USD  \n",
       "2    121543      99.25  12063142.75      USD  \n",
       "3     98444     140.98  13878635.12      USD  "
      ]
     },
     "execution_count": 7,
     "metadata": {},
     "output_type": "execute_result"
    }
   ],
   "source": [
    "#Import your holdings\n",
    "holdings = pd.read_csv('data/multiplecurrencies-holdings.csv')\n",
    "holdings.head()"
   ]
  },
  {
   "cell_type": "markdown",
   "metadata": {},
   "source": [
    "Now that you have imported your holdings you can add them to LUSID. You can do this by setting the holdings on a portfolio. Read more about how making an adjustment or setting the holdings on a portfolio affects it here [LUSID Knowledge Base: The Effect of Holding Adjustments](https://support.lusid.com/how-do-holding-adjustments-affect-a-portfolio).\n",
    "\n",
    "For further usage of the set holdings API call refer to the [LUSID API Docs: Set Holdings](https://docs.lusid.com/#operation/SetHoldings).\n",
    "\n",
    "*Run the cell below to upsert your holdings into LUSID*"
   ]
  },
  {
   "cell_type": "code",
   "execution_count": 8,
   "metadata": {},
   "outputs": [
    {
     "name": "stdout",
     "output_type": "stream",
     "text": [
      "\u001b[1mHoldings Successfully Set for Portfolio\u001b[0m\n",
      "\u001b[1mScope: \u001b[0mUK_High_Growth_Equities_Fund_4c2e\n",
      "\u001b[1mCode: \u001b[0mUK_High_Growth_Equities_Fund_base_fund\n",
      "\u001b[1mHoldings Effective From: \u001b[0m2019-05-20 14:30:27.216636+00:00\n",
      "\u001b[1mHoldings Created On: \u001b[0m2019-05-24 14:30:27.392495+00:00\n",
      "\n"
     ]
    }
   ],
   "source": [
    "# Initialise a list to hold your holding adjustments\n",
    "holding_adjustments = []\n",
    "\n",
    "# Set the effective date of these holdings to be 4 days ago\n",
    "holdings_effective_date = datetime.now(pytz.UTC) - timedelta(days=4)\n",
    "\n",
    "# Iterate over your holdings\n",
    "for index, holding in holdings.iterrows():\n",
    "    \n",
    "    # Create a holding adjustment for this holding\n",
    "    holding_adjustments.append(\n",
    "        models.AdjustHoldingRequest(\n",
    "            instrument_identifiers={\n",
    "                    'Instrument/default/Figi': holding['figi']},\n",
    "                tax_lots=[\n",
    "                    models.TargetTaxLotRequest(\n",
    "                        units=holding['quantity'],\n",
    "                        cost=models.CurrencyAndAmount(\n",
    "                            amount=holding['total_cost'],\n",
    "                            currency=holding['currency']),\n",
    "                        portfolio_cost=holding['total_cost'],\n",
    "                        price=holding['unit_cost'])\n",
    "                ]\n",
    "        )\n",
    "    )\n",
    "    \n",
    "# Call LUSID to set your holdings \n",
    "response = client.transaction_portfolios.set_holdings(\n",
    "    scope=scope,\n",
    "    code=base_portfolio_code,\n",
    "    effective_at=holdings_effective_date,\n",
    "    holding_adjustments=holding_adjustments)\n",
    "\n",
    "# Pretty print the response \n",
    "prettyprint.set_holdings_response(response, scope, base_portfolio_name)"
   ]
  },
  {
   "cell_type": "markdown",
   "metadata": {},
   "source": [
    "![Base-Fund-Hodlings](img/multiplecurrencies-basefundportfolioholdings.gif)"
   ]
  },
  {
   "cell_type": "markdown",
   "metadata": {},
   "source": [
    "## 5) Add Corporate Actions"
   ]
  },
  {
   "cell_type": "code",
   "execution_count": 9,
   "metadata": {},
   "outputs": [
    {
     "data": {
      "text/plain": [
       "\"\\ncorporate_action_source_id = '{}_corporate_action_source'.format(base_portfolio_name)\\n\\ncorporate_action_request = models.CreateCorporateActionSourceRequest(\\n    scope=scope,\\n    code=corporate_action_source_id)\\n\\nresponse = client.corporate_action_sources.create_corporate_action_source(\\n    request=corporate_action_request)\\n    \\nprettyprint.corporate_action_response(response)\\n\""
      ]
     },
     "execution_count": 9,
     "metadata": {},
     "output_type": "execute_result"
    }
   ],
   "source": [
    "\"\"\"\n",
    "corporate_action_source_id = '{}_corporate_action_source'.format(base_portfolio_name)\n",
    "\n",
    "corporate_action_request = models.CreateCorporateActionSourceRequest(\n",
    "    scope=scope,\n",
    "    code=corporate_action_source_id)\n",
    "\n",
    "response = client.corporate_action_sources.create_corporate_action_source(\n",
    "    request=corporate_action_request)\n",
    "    \n",
    "prettyprint.corporate_action_response(response)\n",
    "\"\"\""
   ]
  },
  {
   "cell_type": "markdown",
   "metadata": {},
   "source": [
    "![Corporate-Action-Source](img/multiplecurrencies-corporateactionsource.gif)"
   ]
  },
  {
   "cell_type": "code",
   "execution_count": 10,
   "metadata": {},
   "outputs": [
    {
     "data": {
      "text/html": [
       "<div>\n",
       "<style scoped>\n",
       "    .dataframe tbody tr th:only-of-type {\n",
       "        vertical-align: middle;\n",
       "    }\n",
       "\n",
       "    .dataframe tbody tr th {\n",
       "        vertical-align: top;\n",
       "    }\n",
       "\n",
       "    .dataframe thead th {\n",
       "        text-align: right;\n",
       "    }\n",
       "</style>\n",
       "<table border=\"1\" class=\"dataframe\">\n",
       "  <thead>\n",
       "    <tr style=\"text-align: right;\">\n",
       "      <th></th>\n",
       "      <th>code</th>\n",
       "      <th>action_description</th>\n",
       "      <th>description</th>\n",
       "      <th>announcement_date</th>\n",
       "      <th>ex_date</th>\n",
       "      <th>record_date</th>\n",
       "      <th>payment_date</th>\n",
       "      <th>input_instrument_figi</th>\n",
       "      <th>instrument_input_ticker</th>\n",
       "      <th>input_instrument_name</th>\n",
       "      <th>input_units_factor</th>\n",
       "      <th>input_cost_factor</th>\n",
       "      <th>output_instrument_figi</th>\n",
       "      <th>output_instrument_name</th>\n",
       "      <th>output_ticker</th>\n",
       "      <th>output_instrument_internal</th>\n",
       "      <th>output_units_factor</th>\n",
       "      <th>output_cost_factor</th>\n",
       "      <th>dividend_yield</th>\n",
       "    </tr>\n",
       "  </thead>\n",
       "  <tbody>\n",
       "    <tr>\n",
       "      <th>0</th>\n",
       "      <td>5943592342</td>\n",
       "      <td>dividend</td>\n",
       "      <td>Apple Dividend</td>\n",
       "      <td>29/01/2019</td>\n",
       "      <td>08/02/2019</td>\n",
       "      <td>11/02/2019</td>\n",
       "      <td>14/02/2019</td>\n",
       "      <td>BBG000B9XVV8</td>\n",
       "      <td>AAPL</td>\n",
       "      <td>APPLE INC</td>\n",
       "      <td>1</td>\n",
       "      <td>1</td>\n",
       "      <td>NaN</td>\n",
       "      <td>NaN</td>\n",
       "      <td>NaN</td>\n",
       "      <td>CCY_GBP</td>\n",
       "      <td>0.0170</td>\n",
       "      <td>0.0000</td>\n",
       "      <td>0.017</td>\n",
       "    </tr>\n",
       "    <tr>\n",
       "      <th>1</th>\n",
       "      <td>5943592343</td>\n",
       "      <td>merger</td>\n",
       "      <td>Cigna &amp; Express Scripts Merger</td>\n",
       "      <td>08/03/2018</td>\n",
       "      <td>10/12/2018</td>\n",
       "      <td>13/12/2018</td>\n",
       "      <td>20/12/2018</td>\n",
       "      <td>BBG000C16621</td>\n",
       "      <td>ESRX</td>\n",
       "      <td>EXPRESS SCRIPTS HOLDINGS CO</td>\n",
       "      <td>1</td>\n",
       "      <td>1</td>\n",
       "      <td>NaN</td>\n",
       "      <td>NaN</td>\n",
       "      <td>NaN</td>\n",
       "      <td>CCY_USD</td>\n",
       "      <td>48.7500</td>\n",
       "      <td>0.0000</td>\n",
       "      <td>NaN</td>\n",
       "    </tr>\n",
       "    <tr>\n",
       "      <th>2</th>\n",
       "      <td>5943592343</td>\n",
       "      <td>merger</td>\n",
       "      <td>Cigna &amp; Express Scripts Merger</td>\n",
       "      <td>08/03/2018</td>\n",
       "      <td>10/12/2018</td>\n",
       "      <td>13/12/2018</td>\n",
       "      <td>20/12/2018</td>\n",
       "      <td>BBG000C16621</td>\n",
       "      <td>ESRX</td>\n",
       "      <td>EXPRESS SCRIPTS HOLDINGS CO</td>\n",
       "      <td>1</td>\n",
       "      <td>1</td>\n",
       "      <td>BBG00KXXK940</td>\n",
       "      <td>CIGNA CORP</td>\n",
       "      <td>CI</td>\n",
       "      <td>NaN</td>\n",
       "      <td>0.2434</td>\n",
       "      <td>1.9337</td>\n",
       "      <td>NaN</td>\n",
       "    </tr>\n",
       "    <tr>\n",
       "      <th>3</th>\n",
       "      <td>5943592347</td>\n",
       "      <td>spin-off</td>\n",
       "      <td>Acosa spin-off from Trinity Industries</td>\n",
       "      <td>12/12/2017</td>\n",
       "      <td>17/10/2018</td>\n",
       "      <td>20/10/2018</td>\n",
       "      <td>01/11/2018</td>\n",
       "      <td>BBG000BVL406</td>\n",
       "      <td>TRN</td>\n",
       "      <td>TRINITY INDUSTRIES INC</td>\n",
       "      <td>3</td>\n",
       "      <td>1</td>\n",
       "      <td>BBG00JGMWFQ5</td>\n",
       "      <td>ARCOSA INC</td>\n",
       "      <td>ACA</td>\n",
       "      <td>NaN</td>\n",
       "      <td>1.0000</td>\n",
       "      <td>1.0324</td>\n",
       "      <td>NaN</td>\n",
       "    </tr>\n",
       "    <tr>\n",
       "      <th>4</th>\n",
       "      <td>5943592498</td>\n",
       "      <td>split</td>\n",
       "      <td>Trex 2 for 1 stock split</td>\n",
       "      <td>07/05/2018</td>\n",
       "      <td>21/05/2018</td>\n",
       "      <td>23/05/2018</td>\n",
       "      <td>19/06/2018</td>\n",
       "      <td>BBG000BTGM43</td>\n",
       "      <td>TREX</td>\n",
       "      <td>TREX COMPANY INC</td>\n",
       "      <td>1</td>\n",
       "      <td>1</td>\n",
       "      <td>BBG000BTGM43</td>\n",
       "      <td>TREX COMPANY INC</td>\n",
       "      <td>TREX</td>\n",
       "      <td>NaN</td>\n",
       "      <td>2.0000</td>\n",
       "      <td>2.0000</td>\n",
       "      <td>NaN</td>\n",
       "    </tr>\n",
       "  </tbody>\n",
       "</table>\n",
       "</div>"
      ],
      "text/plain": [
       "         code action_description                             description  \\\n",
       "0  5943592342           dividend                          Apple Dividend   \n",
       "1  5943592343             merger          Cigna & Express Scripts Merger   \n",
       "2  5943592343             merger          Cigna & Express Scripts Merger   \n",
       "3  5943592347           spin-off  Acosa spin-off from Trinity Industries   \n",
       "4  5943592498              split                Trex 2 for 1 stock split   \n",
       "\n",
       "  announcement_date     ex_date record_date payment_date  \\\n",
       "0        29/01/2019  08/02/2019  11/02/2019   14/02/2019   \n",
       "1        08/03/2018  10/12/2018  13/12/2018   20/12/2018   \n",
       "2        08/03/2018  10/12/2018  13/12/2018   20/12/2018   \n",
       "3        12/12/2017  17/10/2018  20/10/2018   01/11/2018   \n",
       "4        07/05/2018  21/05/2018  23/05/2018   19/06/2018   \n",
       "\n",
       "  input_instrument_figi instrument_input_ticker        input_instrument_name  \\\n",
       "0          BBG000B9XVV8                    AAPL                    APPLE INC   \n",
       "1          BBG000C16621                    ESRX  EXPRESS SCRIPTS HOLDINGS CO   \n",
       "2          BBG000C16621                    ESRX  EXPRESS SCRIPTS HOLDINGS CO   \n",
       "3          BBG000BVL406                     TRN       TRINITY INDUSTRIES INC   \n",
       "4          BBG000BTGM43                    TREX             TREX COMPANY INC   \n",
       "\n",
       "   input_units_factor  input_cost_factor output_instrument_figi  \\\n",
       "0                   1                  1                    NaN   \n",
       "1                   1                  1                    NaN   \n",
       "2                   1                  1           BBG00KXXK940   \n",
       "3                   3                  1           BBG00JGMWFQ5   \n",
       "4                   1                  1           BBG000BTGM43   \n",
       "\n",
       "  output_instrument_name output_ticker output_instrument_internal  \\\n",
       "0                    NaN           NaN                    CCY_GBP   \n",
       "1                    NaN           NaN                    CCY_USD   \n",
       "2             CIGNA CORP            CI                        NaN   \n",
       "3             ARCOSA INC           ACA                        NaN   \n",
       "4       TREX COMPANY INC          TREX                        NaN   \n",
       "\n",
       "   output_units_factor  output_cost_factor  dividend_yield  \n",
       "0               0.0170              0.0000           0.017  \n",
       "1              48.7500              0.0000             NaN  \n",
       "2               0.2434              1.9337             NaN  \n",
       "3               1.0000              1.0324             NaN  \n",
       "4               2.0000              2.0000             NaN  "
      ]
     },
     "execution_count": 10,
     "metadata": {},
     "output_type": "execute_result"
    }
   ],
   "source": [
    "corporate_actions = pd.read_csv('data/corporateactions.csv')\n",
    "corporate_actions.head()"
   ]
  },
  {
   "cell_type": "code",
   "execution_count": 11,
   "metadata": {},
   "outputs": [
    {
     "data": {
      "text/plain": [
       "\"\\nactions = {}\\n\\n\\nfor row, action in corporate_actions.iterrows():\\n    \\n    actions[action['code']] = {}\\n    \\n    actions[action['code']].setdefault(\\n        'input_transition', models.CorporateActionTransitionComponentRequest(\\n            instrument_identifiers={\\n                'Instrument/default/Figi': action['input_instrument_figi']\\n            },\\n            units_factor=action['input_units_factor'],\\n            cost_factor=action['input_cost_factor']))\\n    \\n    actions[action['code']].setdefault(\\n        'output_transitions', []).append(\\n            models.CorporateActionTransitionComponentRequest(\\n                instrument_identifiers={\\n                    'Instrument/default/Figi': action['input_instrument_figi']\\n                },\\n                units_factor=action['input_units_factor'],\\n                cost_factor=action['input_cost_factor']))\\n    \\nactions_list = []\\n\\nfor action_id, action in actions.items():\\n    \\n    transition = models.CorporateActionTransitionRequest(\\n        input_transition=actions[action_id]['input_transition'],\\n        output_transitions=actions[action_id]['output_transitions']\\n    )\\n    \\n    actions_list.append(\\n        models.CreateCorporateAction(\\n            corporate_action_code=action_id,\\n            announcement_date=datetime.now(pytz.UTC)+timedelta(days=1),\\n            ex_date=datetime.now(pytz.UTC)+timedelta(days=1),\\n            record_date=datetime.now(pytz.UTC)+timedelta(days=1),\\n            payment_date=datetime.now(pytz.UTC)+timedelta(days=1),\\n            transitions=[transition])\\n    )\\n\\nresponse = client.corporate_action_sources.batch_upsert_corporate_actions(\\n    scope=scope,\\n    code=corporate_action_source_id,\\n    actions=actions_list)\\n\\nprettyprint.corporate_actions_added_response(response)\\n\""
      ]
     },
     "execution_count": 11,
     "metadata": {},
     "output_type": "execute_result"
    }
   ],
   "source": [
    "\"\"\"\n",
    "actions = {}\n",
    "\n",
    "\n",
    "for row, action in corporate_actions.iterrows():\n",
    "    \n",
    "    actions[action['code']] = {}\n",
    "    \n",
    "    actions[action['code']].setdefault(\n",
    "        'input_transition', models.CorporateActionTransitionComponentRequest(\n",
    "            instrument_identifiers={\n",
    "                'Instrument/default/Figi': action['input_instrument_figi']\n",
    "            },\n",
    "            units_factor=action['input_units_factor'],\n",
    "            cost_factor=action['input_cost_factor']))\n",
    "    \n",
    "    actions[action['code']].setdefault(\n",
    "        'output_transitions', []).append(\n",
    "            models.CorporateActionTransitionComponentRequest(\n",
    "                instrument_identifiers={\n",
    "                    'Instrument/default/Figi': action['input_instrument_figi']\n",
    "                },\n",
    "                units_factor=action['input_units_factor'],\n",
    "                cost_factor=action['input_cost_factor']))\n",
    "    \n",
    "actions_list = []\n",
    "\n",
    "for action_id, action in actions.items():\n",
    "    \n",
    "    transition = models.CorporateActionTransitionRequest(\n",
    "        input_transition=actions[action_id]['input_transition'],\n",
    "        output_transitions=actions[action_id]['output_transitions']\n",
    "    )\n",
    "    \n",
    "    actions_list.append(\n",
    "        models.CreateCorporateAction(\n",
    "            corporate_action_code=action_id,\n",
    "            announcement_date=datetime.now(pytz.UTC)+timedelta(days=1),\n",
    "            ex_date=datetime.now(pytz.UTC)+timedelta(days=1),\n",
    "            record_date=datetime.now(pytz.UTC)+timedelta(days=1),\n",
    "            payment_date=datetime.now(pytz.UTC)+timedelta(days=1),\n",
    "            transitions=[transition])\n",
    "    )\n",
    "\n",
    "response = client.corporate_action_sources.batch_upsert_corporate_actions(\n",
    "    scope=scope,\n",
    "    code=corporate_action_source_id,\n",
    "    actions=actions_list)\n",
    "\n",
    "prettyprint.corporate_actions_added_response(response)\n",
    "\"\"\""
   ]
  },
  {
   "cell_type": "code",
   "execution_count": 12,
   "metadata": {},
   "outputs": [
    {
     "data": {
      "text/plain": [
       "\"\\nresponse = client.transaction_portfolios.upsert_portfolio_details(\\n    scope=scope,\\n    code=base_portfolio_name,\\n    create_portfolio_details=models.CreatePortfolioDetails(\\n        corporate_action_source_id=models.ResourceId(\\n            scope=scope,\\n            code=corporate_action_source_id),\\n        base_currency='GBP'))\\n\\nprettyprint.portfolio_details_response(response)\\n\""
      ]
     },
     "execution_count": 12,
     "metadata": {},
     "output_type": "execute_result"
    }
   ],
   "source": [
    "\"\"\"\n",
    "response = client.transaction_portfolios.upsert_portfolio_details(\n",
    "    scope=scope,\n",
    "    code=base_portfolio_name,\n",
    "    create_portfolio_details=models.CreatePortfolioDetails(\n",
    "        corporate_action_source_id=models.ResourceId(\n",
    "            scope=scope,\n",
    "            code=corporate_action_source_id),\n",
    "        base_currency='GBP'))\n",
    "\n",
    "prettyprint.portfolio_details_response(response)\n",
    "\"\"\""
   ]
  },
  {
   "cell_type": "markdown",
   "metadata": {},
   "source": [
    "![Corporate-Actions](img/multiplecurrencies-corporateactions.gif)"
   ]
  },
  {
   "cell_type": "markdown",
   "metadata": {},
   "source": [
    "## 6) Value our Base Fund Portfolio"
   ]
  },
  {
   "cell_type": "markdown",
   "metadata": {},
   "source": [
    "### a) Upsert Market Quotes"
   ]
  },
  {
   "cell_type": "markdown",
   "metadata": {},
   "source": [
    "To value a portfolio in LUSID you need to upsert market data quotes against the underlying holdings or specify an analytics library to use. Read more about aggregating and valuing portfolios in the [LUSID Knowledge Base: Aggregations and Valuations](https://support.lusid.com/what-is-a-valuation). \n",
    "\n",
    "In this case you will upsert market data quotes to the quote store to be used in an aggregation request. You will import these quotes from a CSV file.\n",
    "\n",
    "*Run the cell below to import the market data prices*"
   ]
  },
  {
   "cell_type": "code",
   "execution_count": 13,
   "metadata": {},
   "outputs": [
    {
     "data": {
      "text/html": [
       "<div>\n",
       "<style scoped>\n",
       "    .dataframe tbody tr th:only-of-type {\n",
       "        vertical-align: middle;\n",
       "    }\n",
       "\n",
       "    .dataframe tbody tr th {\n",
       "        vertical-align: top;\n",
       "    }\n",
       "\n",
       "    .dataframe thead th {\n",
       "        text-align: right;\n",
       "    }\n",
       "</style>\n",
       "<table border=\"1\" class=\"dataframe\">\n",
       "  <thead>\n",
       "    <tr style=\"text-align: right;\">\n",
       "      <th></th>\n",
       "      <th>price</th>\n",
       "      <th>type</th>\n",
       "      <th>currency</th>\n",
       "      <th>instrument_name</th>\n",
       "      <th>instrument_figi</th>\n",
       "      <th>instrument_internal</th>\n",
       "    </tr>\n",
       "  </thead>\n",
       "  <tbody>\n",
       "    <tr>\n",
       "      <th>0</th>\n",
       "      <td>1622.65</td>\n",
       "      <td>close</td>\n",
       "      <td>USD</td>\n",
       "      <td>Amazon_Nasdaq_AMZN</td>\n",
       "      <td>BBG000BVPXP1</td>\n",
       "      <td>imd_34634534</td>\n",
       "    </tr>\n",
       "    <tr>\n",
       "      <th>1</th>\n",
       "      <td>170.80</td>\n",
       "      <td>close</td>\n",
       "      <td>USD</td>\n",
       "      <td>Apple_Nasdaq_AAPL</td>\n",
       "      <td>BBG000B9XVV8</td>\n",
       "      <td>imd_34535347</td>\n",
       "    </tr>\n",
       "    <tr>\n",
       "      <th>2</th>\n",
       "      <td>98.00</td>\n",
       "      <td>close</td>\n",
       "      <td>USD</td>\n",
       "      <td>USTreasury_2.00_2021</td>\n",
       "      <td>BBG00FN3B5K8</td>\n",
       "      <td>imd_34535347</td>\n",
       "    </tr>\n",
       "    <tr>\n",
       "      <th>3</th>\n",
       "      <td>142.36</td>\n",
       "      <td>close</td>\n",
       "      <td>USD</td>\n",
       "      <td>USTreasury_6.875_2025</td>\n",
       "      <td>BBG000DQQNJ8</td>\n",
       "      <td>imd_34534539</td>\n",
       "    </tr>\n",
       "  </tbody>\n",
       "</table>\n",
       "</div>"
      ],
      "text/plain": [
       "     price   type currency        instrument_name instrument_figi  \\\n",
       "0  1622.65  close      USD     Amazon_Nasdaq_AMZN    BBG000BVPXP1   \n",
       "1   170.80  close      USD      Apple_Nasdaq_AAPL    BBG000B9XVV8   \n",
       "2    98.00  close      USD   USTreasury_2.00_2021    BBG00FN3B5K8   \n",
       "3   142.36  close      USD  USTreasury_6.875_2025    BBG000DQQNJ8   \n",
       "\n",
       "  instrument_internal  \n",
       "0        imd_34634534  \n",
       "1        imd_34535347  \n",
       "2        imd_34535347  \n",
       "3        imd_34534539  "
      ]
     },
     "execution_count": 13,
     "metadata": {},
     "output_type": "execute_result"
    }
   ],
   "source": [
    "# Import market data for the day that the holdings of the fund are effective from\n",
    "prices = pd.read_csv('data/multiplecurrencies-prices.csv')\n",
    "prices.head()"
   ]
  },
  {
   "cell_type": "markdown",
   "metadata": {},
   "source": [
    "Now that you have imported the market data you can add it to the quote store in LUSID. Read more about what a quote is in the [LUSID Knowledge Base: What is a Quote?](https://support.lusid.com/what-is-a-quote).\n",
    "\n",
    "For further usage of the Upsert Quotes API call refer to the [LUSID API Docs: Upsert Quotes](https://docs.lusid.com/#operation/UpsertQuotes).\n",
    "\n",
    "*Run the cell below to upsert the market data quotes into LUSID*"
   ]
  },
  {
   "cell_type": "code",
   "execution_count": 14,
   "metadata": {},
   "outputs": [
    {
     "name": "stdout",
     "output_type": "stream",
     "text": [
      "\u001b[1mQuotes Successfully Upserted At: \u001b[0m2019-05-24 14:30:27.976156+00:00\n"
     ]
    }
   ],
   "source": [
    "# Initialise an empty instrument quotes list to hold the quotes\n",
    "instrument_quotes = []\n",
    "\n",
    "# Iterate over the quotes\n",
    "for index, quote in prices.iterrows():\n",
    "    \n",
    "    # Add the quote to the list \n",
    "    instrument_quotes.append(\n",
    "        models.UpsertQuoteRequest(\n",
    "            quote_id=models.QuoteId(\n",
    "                provider='DataScope',\n",
    "                price_source='USDRC',\n",
    "                instrument_id=quote['instrument_figi'],\n",
    "                instrument_id_type='Figi',\n",
    "                quote_type='Price',\n",
    "                price_side='Mid'),\n",
    "            metric_value=models.MetricValue(\n",
    "                value=quote['price'],\n",
    "                unit=quote['currency']),\n",
    "            effective_at=holdings_effective_date,\n",
    "            lineage='InternalSystem'\n",
    "            )\n",
    "    )\n",
    "\n",
    "# Upsert the quotes into LUSID\n",
    "response = client.quotes.upsert_quotes(\n",
    "    scope=scope,\n",
    "    quotes=instrument_quotes)\n",
    "\n",
    "# Pretty print the response\n",
    "prettyprint.upsert_quotes_response(response)"
   ]
  },
  {
   "cell_type": "markdown",
   "metadata": {},
   "source": [
    "![Analytic-Stores](img/multiplecurrencies-quotestore.gif)"
   ]
  },
  {
   "cell_type": "markdown",
   "metadata": {},
   "source": [
    "### b) Value using Quotes via Aggregation"
   ]
  },
  {
   "cell_type": "markdown",
   "metadata": {},
   "source": [
    "Now that the quotes have been added to the quote store you can aggregate your base fund portfolio. The logic for an aggregation is controled by a LUSID recipe. Read more about recipes in the [LUSID Knowledge Base: What is a Recipe and How Are They Used?](https://support.lusid.com/what-is-a-recipe-and-how-are-they-used).\n",
    "\n",
    "For further usage of the Get Aggregation by Portfolio API call refer to the [LUSID API Docs: Get Aggregation by Portfolio](https://docs.lusid.com/#operation/GetAggregationByPortfolio).\n",
    "\n",
    "*Run the cell below to aggregate and value the base fund*"
   ]
  },
  {
   "cell_type": "code",
   "execution_count": 15,
   "metadata": {},
   "outputs": [
    {
     "name": "stdout",
     "output_type": "stream",
     "text": [
      "\u001b[1mAggregation Results: \u001b[0m\n",
      "Holding/default/SubHoldingKey: LusidInstrumentId=LUID_Q1JT811J/USD\n",
      "Instrument/default/Name: Amazon_Nasdaq_AMZN\n",
      "Sum(Holding/default/Units): 5000.0\n",
      "Sum(Holding/default/Cost): 7750000.0\n",
      "Sum(Holding/default/PV): 8113250.0\n",
      "\n",
      "\n",
      "Holding/default/SubHoldingKey: LusidInstrumentId=LUID_28QQHEDG/USD\n",
      "Instrument/default/Name: Apple_Nasdaq_AAPL\n",
      "Sum(Holding/default/Units): 49567.0\n",
      "Sum(Holding/default/Cost): 9417730.0\n",
      "Sum(Holding/default/PV): 8466043.6\n",
      "\n",
      "\n",
      "Holding/default/SubHoldingKey: LusidInstrumentId=LUID_YCW2RZPU/USD\n",
      "Instrument/default/Name: USTreasury_2.00_2021\n",
      "Sum(Holding/default/Units): 121543.0\n",
      "Sum(Holding/default/Cost): 12063142.75\n",
      "Sum(Holding/default/PV): 11911214.0\n",
      "\n",
      "\n",
      "Holding/default/SubHoldingKey: LusidInstrumentId=LUID_J67SJTKE/USD\n",
      "Instrument/default/Name: USTreasury_6.875_2025\n",
      "Sum(Holding/default/Units): 98444.0\n",
      "Sum(Holding/default/Cost): 13878635.12\n",
      "Sum(Holding/default/PV): 14014487.84\n",
      "\n",
      "\n"
     ]
    }
   ],
   "source": [
    "# Specify the inline recipe used to perform the aggregation\n",
    "inline_recipe = models.ConfigurationRecipe(\n",
    "    code='quotes_recipe',\n",
    "    market=models.MarketContext(\n",
    "        market_rules=[\n",
    "            models.MarketDataKeyRule(\n",
    "               key='Equity.Figi.*',\n",
    "               supplier='DataScope',\n",
    "               data_scope=scope,\n",
    "               quote_type='Price',\n",
    "               price_side='Mid'),\n",
    "           models.MarketDataKeyRule(\n",
    "               key='Equity.LusidInstrumentId.*',\n",
    "               supplier='DataScope',\n",
    "               data_scope=scope,\n",
    "               quote_type='Price',\n",
    "               price_side='Mid'),\n",
    "            models.MarketDataKeyRule(\n",
    "               key='Fx.CurrencyPair.*',\n",
    "               supplier='DataScope',\n",
    "               data_scope=scope,\n",
    "               quote_type='Rate',\n",
    "               price_side='Mid')\n",
    "        ],\n",
    "        suppliers=models.MarketContextSuppliers(\n",
    "            commodity='DataScope',\n",
    "            credit='DataScope',\n",
    "            equity='DataScope',\n",
    "            fx='DataScope',\n",
    "            rates='DataScope'),\n",
    "        options=models.MarketOptions(\n",
    "            default_supplier='DataScope',\n",
    "            default_instrument_code_type='Figi',\n",
    "            default_scope=scope)\n",
    "    )\n",
    ")\n",
    "\n",
    "# Create the aggregation request\n",
    "aggregation_request = models.AggregationRequest(\n",
    "    inline_recipe=inline_recipe,\n",
    "    effective_at=holdings_effective_date,\n",
    "    metrics=[\n",
    "        models.AggregateSpec(key='Holding/default/SubHoldingKey',\n",
    "        op='Value'),\n",
    "        models.AggregateSpec(key='Instrument/default/Name',\n",
    "        op='Value'),\n",
    "        models.AggregateSpec(key='Holding/default/Units',\n",
    "        op='Sum'),\n",
    "        models.AggregateSpec(key='Holding/default/Cost',\n",
    "        op='Sum'),\n",
    "        models.AggregateSpec(key='Holding/default/PV',\n",
    "        op='Sum'),\n",
    "    ],\n",
    "    group_by=[\n",
    "        'Holding/default/SubHoldingKey'\n",
    "    ])\n",
    "\n",
    "# Call LUSID to perform the aggregation\n",
    "response = client.aggregation.get_aggregation_by_portfolio(\n",
    "    scope=scope,\n",
    "    code=base_portfolio_code,\n",
    "    request=aggregation_request)\n",
    "\n",
    "# Pretty print the response\n",
    "prettyprint.aggregation_response_generic(response)"
   ]
  },
  {
   "cell_type": "markdown",
   "metadata": {},
   "source": [
    "![Analytic-Stores](img/multiplecurrencies-aggregatedbase.gif)"
   ]
  },
  {
   "cell_type": "markdown",
   "metadata": {},
   "source": [
    "## 7) Securitise your Base Fund Portfolio"
   ]
  },
  {
   "cell_type": "markdown",
   "metadata": {},
   "source": [
    "### a) Securitise with x units"
   ]
  },
  {
   "cell_type": "markdown",
   "metadata": {},
   "source": [
    "Now that you have created and valued your base fund, you need to securitise it so that it can be held by other portfolios. Before you create the instrument that allows other portfolios to hold the base fund you need to create a property to hold the total number of units of the fund available to be held.\n",
    "\n",
    "To do this you can make use of a property. Read more about properties in the [LUSID Knowledge Base: What is a Property?](https://support.lusid.com/what-is-a-property).\n",
    "\n",
    "For further usage of the Create Property Definition API call refer to the [LUSID API Docs: Create Property Definition](https://docs.lusid.com/#operation/CreatePropertyDefinition).\n",
    "\n",
    "*Run the cell below to create a property to hold the total circulation of your base fund*"
   ]
  },
  {
   "cell_type": "code",
   "execution_count": 16,
   "metadata": {},
   "outputs": [
    {
     "name": "stdout",
     "output_type": "stream",
     "text": [
      "\u001b[1mCirculation Property Key: \u001b[0mInstrument/UK_High_Growth_Equities_Fund_4c2e/total_circulation\n"
     ]
    }
   ],
   "source": [
    "# Create your request to define a new property\n",
    "property_request = models.CreatePropertyDefinitionRequest(\n",
    "    domain='Instrument',\n",
    "    scope=scope,\n",
    "    code='total_circulation',\n",
    "    value_required=False,\n",
    "    display_name='total_circulation',\n",
    "    data_type_id=models.ResourceId(scope='default', code='number'))\n",
    "\n",
    "# Call LUSID to create uour new property\n",
    "response = client.property_definitions.create_property_definition(\n",
    "    definition=property_request)\n",
    "\n",
    "# Grab the key off the response to use when referencing this property in other LUSID calls\n",
    "circulation_property_key = response.key\n",
    "\n",
    "# Pretty print your key\n",
    "prettyprint.heading('Circulation Property Key', circulation_property_key)"
   ]
  },
  {
   "cell_type": "markdown",
   "metadata": {},
   "source": [
    "![Analytic-Stores](img/multiplecurrencies-circulationproperty.gif)"
   ]
  },
  {
   "cell_type": "markdown",
   "metadata": {},
   "source": [
    "You can now create an securitise the base fund portfolio as an instrument, allowing it to be held by other portfolios.\n",
    "\n",
    "*Run the cell below to securitise the base fund*"
   ]
  },
  {
   "cell_type": "code",
   "execution_count": 17,
   "metadata": {},
   "outputs": [
    {
     "name": "stdout",
     "output_type": "stream",
     "text": [
      "\u001b[1mInstrument Successfully Upserted: \u001b[0msecuritise-base-fund\n",
      "\u001b[1mClientInternal ID: \u001b[0m26635eeb-a633-4460-bab9-fe4871701af3\n",
      "\u001b[1mLUSID Instrument ID: \u001b[0mLUID_R99W1V23\n",
      "\u001b[1mLookthrough Portfolio Scope: \u001b[0mUK_High_Growth_Equities_Fund_4c2e\n",
      "\u001b[1mLookthrough Portfolio Code \u001b[0m26635eeb-a633-4460-bab9-fe4871701af3\n",
      "\n",
      "\n",
      "1  instruments upserted successfully\n",
      "0  instrument upsert failures\n"
     ]
    }
   ],
   "source": [
    "# Create the instrument definition for the base fund\n",
    "instrument_definition = models.InstrumentDefinition(\n",
    "    name=base_portfolio_name,\n",
    "    identifiers={'ClientInternal': models.InstrumentIdValue(\n",
    "        value=base_portfolio_code)},\n",
    "    properties=[\n",
    "        models.InstrumentProperty(\n",
    "            key=circulation_property_key,\n",
    "            value=models.PropertyValue(\n",
    "                metric_value=models.MetricValue(\n",
    "                    value=40000.00)\n",
    "            )\n",
    "        )\n",
    "    ],\n",
    "    look_through_portfolio_id=models.ResourceId(\n",
    "        scope=scope,\n",
    "        code=base_portfolio_code)\n",
    ")\n",
    "\n",
    "# Call LUSID to upser the instrument\n",
    "response = client.instruments.upsert_instruments(\n",
    "    requests={\n",
    "        'securitise-base-fund':instrument_definition\n",
    "    }\n",
    ")\n",
    "\n",
    "# Pretty print the response\n",
    "prettyprint.instrument_response(response, identifier='ClientInternal')"
   ]
  },
  {
   "cell_type": "markdown",
   "metadata": {},
   "source": [
    "![Analytic-Stores](img/multiplecurrencies-securitisebase.gif)"
   ]
  },
  {
   "cell_type": "markdown",
   "metadata": {},
   "source": [
    "### b) Calculalate price from aggregation and store in the quote store"
   ]
  },
  {
   "cell_type": "markdown",
   "metadata": {},
   "source": [
    "So that you can accurately value any portfolios that hold the newly created base fund instrument, you need to store a price in the quotes store against it. To do this you can re-value the base fund portfolio as you did earlier. The only difference is that in this case you are grouping all the holdings together to get the total value of the fund.\n",
    "\n",
    "*Run the cell below to get the total value of the fund*"
   ]
  },
  {
   "cell_type": "code",
   "execution_count": 18,
   "metadata": {},
   "outputs": [
    {
     "name": "stdout",
     "output_type": "stream",
     "text": [
      "\u001b[1mAggregation Results: \u001b[0m\n",
      "Sum(Holding/default/Cost): 43109507.87\n",
      "Sum(Holding/default/PV): 42504995.44\n",
      "Portfolio/default/Name: UK_High_Growth_Equities_Fund_base_fund\n",
      "\n",
      "\n"
     ]
    }
   ],
   "source": [
    "# Create the aggregation request, using the recipe defined earlier\n",
    "aggregation_request = models.AggregationRequest(\n",
    "    inline_recipe=inline_recipe,\n",
    "    effective_at=holdings_effective_date,\n",
    "    metrics=[\n",
    "        models.AggregateSpec(key='Holding/default/Cost',\n",
    "        op='Sum'),\n",
    "        models.AggregateSpec(key='Holding/default/PV',\n",
    "        op='Sum'),\n",
    "        models.AggregateSpec(key='Portfolio/default/Name',\n",
    "        op='Value'),\n",
    "    ],\n",
    "    group_by=[\n",
    "        'Portfolio/default/Name'\n",
    "    ])\n",
    "\n",
    "# Call LUSID to aggregate and value the base fund\n",
    "response = client.aggregation.get_aggregation_by_portfolio(\n",
    "    scope=scope,\n",
    "    code=base_portfolio_code,\n",
    "    request=aggregation_request)\n",
    "\n",
    "# Pretty print the result\n",
    "prettyprint.aggregation_response_generic(response)\n",
    "\n",
    "# Set the total value and total cost of the base fund when it was first created\n",
    "base_fund_total_value = response.data[0]['Sum(Holding/default/PV)']\n",
    "base_fund_total_cost = response.data[0]['Sum(Holding/default/Cost)']"
   ]
  },
  {
   "cell_type": "markdown",
   "metadata": {},
   "source": [
    "Now that you have the total value of the fund you need to divide this by its total circulation to get the unit price of the base fund. \n",
    "\n",
    "*Run the cell below to calculate the unit price of the base fund and upsert this quote into the quotes store*"
   ]
  },
  {
   "cell_type": "code",
   "execution_count": 19,
   "metadata": {},
   "outputs": [
    {
     "name": "stdout",
     "output_type": "stream",
     "text": [
      "\u001b[1mBase Fund Total Circulation: \u001b[0m40000.0\n",
      "\u001b[1mBase Fund Total Value: \u001b[0m42504995.44\n",
      "\u001b[1mBase Fund Unit Price: \u001b[0m1062.62\n"
     ]
    },
    {
     "data": {
      "text/plain": [
       "'\\nprettyprint.upsert_quotes_response(response)\\n'"
      ]
     },
     "execution_count": 19,
     "metadata": {},
     "output_type": "execute_result"
    }
   ],
   "source": [
    "\n",
    "# Get the base fund instrument\n",
    "base_fund_instrument = client.instruments.get_instrument(\n",
    "    identifier_type='ClientInternal',\n",
    "    identifier=base_portfolio_code,\n",
    "    instrument_property_keys=[circulation_property_key])\n",
    "\n",
    "# Get the unique Lusid Instrument Id from the base fund instrument\n",
    "luid = base_fund_instrument.lusid_instrument_id\n",
    "# Get the total circulation from the base fund instrument\n",
    "base_fund_total_circulation = round(base_fund_instrument.properties[0].value, 0)\n",
    "# Calculate the unit price of the base fund from the total value and the total circulation\n",
    "base_fund_unit_price = round(base_fund_total_value / base_fund_total_circulation, 2)\n",
    "\n",
    "# Create a quote for the unit price of the base fund\n",
    "instrument_quote = models.UpsertQuoteRequest(\n",
    "    quote_id=models.QuoteId(\n",
    "        provider='DataScope',\n",
    "        price_source='USDRC',\n",
    "        instrument_id=luid,\n",
    "        instrument_id_type='LusidInstrumentId',\n",
    "        quote_type='Price',\n",
    "        price_side='Mid'),\n",
    "    metric_value=models.MetricValue(\n",
    "        value=base_fund_unit_price,\n",
    "        unit='USD'),\n",
    "    effective_at=holdings_effective_date,\n",
    "    lineage='InternalSystem'\n",
    ")\n",
    "\n",
    "# Call LUSID to upsert the quote\n",
    "response = client.quotes.upsert_quotes(\n",
    "    scope=scope,\n",
    "    quotes=[instrument_quote])\n",
    "\n",
    "# Pretty print the total value, circulation and unit price of the fund\n",
    "prettyprint.heading('Base Fund Total Circulation', str(base_fund_total_circulation))\n",
    "prettyprint.heading('Base Fund Total Value', str(base_fund_total_value))\n",
    "prettyprint.heading('Base Fund Unit Price', str(base_fund_unit_price))\n",
    "# Pretty print the response from LUSID\n",
    "\n",
    "prettyprint.upsert_quotes_response(response)"
   ]
  },
  {
   "cell_type": "markdown",
   "metadata": {},
   "source": [
    "![Base-Fund-Price](img/multiplecurrencies-basefundprice.gif)"
   ]
  },
  {
   "cell_type": "markdown",
   "metadata": {},
   "source": [
    "## 8) Create Foreign Currency Portfolios"
   ]
  },
  {
   "cell_type": "markdown",
   "metadata": {},
   "source": [
    "Now that you've succesfully securitised the base fund and associated it with a unit price, you can create additional portfolios to hold the fund. In this case you want to offer the fund in five different currencies.\n",
    "\n",
    "Note that each portfolio is created with the appropriate base currency.\n",
    "\n",
    "*Run the cell below to create a portfolio for each currency you'd like to offer the fund in*"
   ]
  },
  {
   "cell_type": "code",
   "execution_count": 20,
   "metadata": {},
   "outputs": [
    {
     "name": "stdout",
     "output_type": "stream",
     "text": [
      "\u001b[1mPortfolio Created\u001b[0m\n",
      "\u001b[1mScope: \u001b[0mUK_High_Growth_Equities_Fund_4c2e\n",
      "\u001b[1mCode: \u001b[0mcb68d80c-8cbc-4efc-8199-fd1544e98aa8\n",
      "\u001b[1mPortfolio Effective From: \u001b[0m2018-05-24 14:30:26.666435+00:00\n",
      "\u001b[1mPortfolio Created On: \u001b[0m2019-05-24 14:30:31.945946+00:00\n",
      "\n",
      "\u001b[1mPortfolio Created\u001b[0m\n",
      "\u001b[1mScope: \u001b[0mUK_High_Growth_Equities_Fund_4c2e\n",
      "\u001b[1mCode: \u001b[0m7aead1d3-69a9-41f4-8d56-7dcf47b0ca24\n",
      "\u001b[1mPortfolio Effective From: \u001b[0m2018-05-24 14:30:26.666435+00:00\n",
      "\u001b[1mPortfolio Created On: \u001b[0m2019-05-24 14:30:32.471448+00:00\n",
      "\n",
      "\u001b[1mPortfolio Created\u001b[0m\n",
      "\u001b[1mScope: \u001b[0mUK_High_Growth_Equities_Fund_4c2e\n",
      "\u001b[1mCode: \u001b[0ma21580e9-fb2e-4a58-b7bd-953f48f2dc65\n",
      "\u001b[1mPortfolio Effective From: \u001b[0m2018-05-24 14:30:26.666435+00:00\n",
      "\u001b[1mPortfolio Created On: \u001b[0m2019-05-24 14:30:32.872024+00:00\n",
      "\n",
      "\u001b[1mPortfolio Created\u001b[0m\n",
      "\u001b[1mScope: \u001b[0mUK_High_Growth_Equities_Fund_4c2e\n",
      "\u001b[1mCode: \u001b[0m849bfece-e763-470d-bcd0-031a08f1d70e\n",
      "\u001b[1mPortfolio Effective From: \u001b[0m2018-05-24 14:30:26.666435+00:00\n",
      "\u001b[1mPortfolio Created On: \u001b[0m2019-05-24 14:30:33.292462+00:00\n",
      "\n",
      "\u001b[1mPortfolio Created\u001b[0m\n",
      "\u001b[1mScope: \u001b[0mUK_High_Growth_Equities_Fund_4c2e\n",
      "\u001b[1mCode: \u001b[0mee9cc9a4-cbe0-4c9b-b179-057db13ceca9\n",
      "\u001b[1mPortfolio Effective From: \u001b[0m2018-05-24 14:30:26.666435+00:00\n",
      "\u001b[1mPortfolio Created On: \u001b[0m2019-05-24 14:30:33.738011+00:00\n",
      "\n"
     ]
    }
   ],
   "source": [
    "# Define the 5 fund currencies to offer the fund in\n",
    "fund_currencies = {\n",
    "    'AUD': None,\n",
    "    'GBP': None,\n",
    "    'USD': None,\n",
    "    'EUR': None,\n",
    "    'JPY': None\n",
    "}\n",
    "\n",
    "# Iterate over each currency\n",
    "for currency in fund_currencies.keys():\n",
    "    \n",
    "    # Create the portfolio name & code for this currency\n",
    "    portfolio_name = '{}_{}'.format(base_portfolio_name, currency)\n",
    "    portfolio_code = str(uuid.uuid4())\n",
    "    fund_currencies[currency] = portfolio_code\n",
    "    \n",
    "    # Build the request to create your portfolio in this currency\n",
    "    transaction_portfolio_request = models.CreateTransactionPortfolioRequest(\n",
    "        display_name=portfolio_name,\n",
    "        code=portfolio_code,\n",
    "        base_currency=currency,\n",
    "        description='The portfolio to hold our base fund in currency {}'.format(currency),\n",
    "        created=portfolio_creation_date)\n",
    "\n",
    "    # Call LUSID to create your portfolio\n",
    "    portfolio_response = client.transaction_portfolios.create_portfolio(\n",
    "        scope=scope,\n",
    "        create_request=transaction_portfolio_request)\n",
    "\n",
    "    # Pretty print the response from LUSID\n",
    "    prettyprint.portfolio_response(portfolio_response)"
   ]
  },
  {
   "cell_type": "markdown",
   "metadata": {},
   "source": [
    "![Foreign-Currency-Portfolios](img/multiplecurrencies-foreigncurrencyportfolios.gif)"
   ]
  },
  {
   "cell_type": "markdown",
   "metadata": {},
   "source": [
    "## 9) Add Base Fund Units"
   ]
  },
  {
   "cell_type": "markdown",
   "metadata": {},
   "source": [
    "Now that the portfolios have been created, you can add units of the base fund to them.\n",
    "\n",
    "To do this you need to know the exchange rate at the time the currency portfolios take on the base fund units. This allows you to calculate the portfolio cost of the holdings.\n",
    "\n",
    "In this case you will import the foreign exchange rates from a CSV file.\n",
    "\n",
    "*Run the cell below to import the foreign exchange rates*"
   ]
  },
  {
   "cell_type": "code",
   "execution_count": 21,
   "metadata": {},
   "outputs": [
    {
     "data": {
      "text/html": [
       "<div>\n",
       "<style scoped>\n",
       "    .dataframe tbody tr th:only-of-type {\n",
       "        vertical-align: middle;\n",
       "    }\n",
       "\n",
       "    .dataframe tbody tr th {\n",
       "        vertical-align: top;\n",
       "    }\n",
       "\n",
       "    .dataframe thead th {\n",
       "        text-align: right;\n",
       "    }\n",
       "</style>\n",
       "<table border=\"1\" class=\"dataframe\">\n",
       "  <thead>\n",
       "    <tr style=\"text-align: right;\">\n",
       "      <th></th>\n",
       "      <th>pair</th>\n",
       "      <th>rate</th>\n",
       "    </tr>\n",
       "  </thead>\n",
       "  <tbody>\n",
       "    <tr>\n",
       "      <th>0</th>\n",
       "      <td>GBP/USD</td>\n",
       "      <td>1.310</td>\n",
       "    </tr>\n",
       "    <tr>\n",
       "      <th>1</th>\n",
       "      <td>AUD/USD</td>\n",
       "      <td>0.720</td>\n",
       "    </tr>\n",
       "    <tr>\n",
       "      <th>2</th>\n",
       "      <td>EUR/USD</td>\n",
       "      <td>1.140</td>\n",
       "    </tr>\n",
       "    <tr>\n",
       "      <th>3</th>\n",
       "      <td>JPY/USD</td>\n",
       "      <td>0.009</td>\n",
       "    </tr>\n",
       "  </tbody>\n",
       "</table>\n",
       "</div>"
      ],
      "text/plain": [
       "      pair   rate\n",
       "0  GBP/USD  1.310\n",
       "1  AUD/USD  0.720\n",
       "2  EUR/USD  1.140\n",
       "3  JPY/USD  0.009"
      ]
     },
     "execution_count": 21,
     "metadata": {},
     "output_type": "execute_result"
    }
   ],
   "source": [
    "# Import the FX rates\n",
    "fx_rates = pd.read_csv('data/multiplecurrencies-fxrates.csv')\n",
    "fx_rates.head()"
   ]
  },
  {
   "cell_type": "markdown",
   "metadata": {},
   "source": [
    "Now that you have imported the FX rates you can upsert them into the quote store.\n",
    "\n",
    "*Run the cell below to upsert the FX rates into the quote store*"
   ]
  },
  {
   "cell_type": "code",
   "execution_count": 22,
   "metadata": {},
   "outputs": [
    {
     "name": "stdout",
     "output_type": "stream",
     "text": [
      "\u001b[1mQuotes Successfully Upserted At: \u001b[0m2019-05-24 14:30:34.123897+00:00\n"
     ]
    }
   ],
   "source": [
    "# Prepare an empty list to hold the quote requests\n",
    "quote_requests = []\n",
    "\n",
    "# Iterate over each FX rate\n",
    "for index, fx_rate in fx_rates.iterrows():\n",
    "    \n",
    "    # Add a quote for the FX rate\n",
    "    quote_requests.append(\n",
    "        models.UpsertQuoteRequest(\n",
    "            quote_id=models.QuoteId(\n",
    "                provider='DataScope',\n",
    "                price_source='USDRC',\n",
    "                instrument_id=fx_rate['pair'],\n",
    "                instrument_id_type='CurrencyPair',\n",
    "                quote_type='Rate',\n",
    "                price_side='Mid'),\n",
    "            metric_value=models.MetricValue(\n",
    "                value=fx_rate['rate'],\n",
    "                unit='rate'),\n",
    "            effective_at=holdings_effective_date,\n",
    "            lineage='InternalSystem'))\n",
    "\n",
    "    # Create the reverse pair name \n",
    "    reverse_pair = '/'.join(fx_rate['pair'].split('/')[::-1])\n",
    "\n",
    "    # Add a quote for the reverse FX rate\n",
    "    quote_requests.append(\n",
    "        models.UpsertQuoteRequest(\n",
    "            quote_id=models.QuoteId(\n",
    "                provider='DataScope',\n",
    "                price_source='USDRC',\n",
    "                instrument_id=reverse_pair,\n",
    "                instrument_id_type='CurrencyPair',\n",
    "                quote_type='Rate',\n",
    "                price_side='Mid'),\n",
    "            metric_value=models.MetricValue(\n",
    "                value=1/fx_rate['rate'],\n",
    "                unit='rate'),\n",
    "            effective_at=holdings_effective_date,\n",
    "            lineage='InternalSystem'))\n",
    "\n",
    "# Upsert the quotes into LUSID\n",
    "response = client.quotes.upsert_quotes(\n",
    "    scope=scope,\n",
    "    quotes=quote_requests)\n",
    "\n",
    "# Pretty print the response\n",
    "prettyprint.upsert_quotes_response(response)"
   ]
  },
  {
   "cell_type": "markdown",
   "metadata": {},
   "source": [
    "Now that you have loaded the FX rates into the quote store you can add units of the securitised base fund to each of the currency portfolios. In this case you will give each currency portfolio the same amount of units.\n",
    "\n",
    "Note that here you are pulling the FX rates back out of the quote store using the Get Quotes API call. For further usage of the Get Quotes API call refer to the [LUSID API Docs: Get Quotes](https://docs.lusid.com/#operation/GetQuotes).\n",
    "\n",
    "For further usage of the Adjust Holdings API call refer to the [LUSID API Docs: Adjust Holdings](https://docs.lusid.com/#operation/AdjustHoldings).\n",
    "\n",
    "*Run the cell below to adjust the holdings of the currency portfolios to hold the base fund*"
   ]
  },
  {
   "cell_type": "code",
   "execution_count": 23,
   "metadata": {},
   "outputs": [
    {
     "name": "stdout",
     "output_type": "stream",
     "text": [
      "\u001b[1mHoldings Successfully Set for Portfolio\u001b[0m\n",
      "\u001b[1mScope: \u001b[0mUK_High_Growth_Equities_Fund_4c2e\n",
      "\u001b[1mCode: \u001b[0mcb68d80c-8cbc-4efc-8199-fd1544e98aa8\n",
      "\u001b[1mHoldings Effective From: \u001b[0m2019-05-20 14:30:27.216636+00:00\n",
      "\u001b[1mHoldings Created On: \u001b[0m2019-05-24 14:30:34.853154+00:00\n",
      "\n",
      "\u001b[1mHoldings Successfully Set for Portfolio\u001b[0m\n",
      "\u001b[1mScope: \u001b[0mUK_High_Growth_Equities_Fund_4c2e\n",
      "\u001b[1mCode: \u001b[0m7aead1d3-69a9-41f4-8d56-7dcf47b0ca24\n",
      "\u001b[1mHoldings Effective From: \u001b[0m2019-05-20 14:30:27.216636+00:00\n",
      "\u001b[1mHoldings Created On: \u001b[0m2019-05-24 14:30:35.622271+00:00\n",
      "\n",
      "\u001b[1mHoldings Successfully Set for Portfolio\u001b[0m\n",
      "\u001b[1mScope: \u001b[0mUK_High_Growth_Equities_Fund_4c2e\n",
      "\u001b[1mCode: \u001b[0ma21580e9-fb2e-4a58-b7bd-953f48f2dc65\n",
      "\u001b[1mHoldings Effective From: \u001b[0m2019-05-20 14:30:27.216636+00:00\n",
      "\u001b[1mHoldings Created On: \u001b[0m2019-05-24 14:30:36.519933+00:00\n",
      "\n",
      "\u001b[1mHoldings Successfully Set for Portfolio\u001b[0m\n",
      "\u001b[1mScope: \u001b[0mUK_High_Growth_Equities_Fund_4c2e\n",
      "\u001b[1mCode: \u001b[0m849bfece-e763-470d-bcd0-031a08f1d70e\n",
      "\u001b[1mHoldings Effective From: \u001b[0m2019-05-20 14:30:27.216636+00:00\n",
      "\u001b[1mHoldings Created On: \u001b[0m2019-05-24 14:30:37.298395+00:00\n",
      "\n",
      "\u001b[1mHoldings Successfully Set for Portfolio\u001b[0m\n",
      "\u001b[1mScope: \u001b[0mUK_High_Growth_Equities_Fund_4c2e\n",
      "\u001b[1mCode: \u001b[0mee9cc9a4-cbe0-4c9b-b179-057db13ceca9\n",
      "\u001b[1mHoldings Effective From: \u001b[0m2019-05-20 14:30:27.216636+00:00\n",
      "\u001b[1mHoldings Created On: \u001b[0m2019-05-24 14:30:38.073970+00:00\n",
      "\n"
     ]
    }
   ],
   "source": [
    "# Work out the base fund units to give to each portfolio, dividing equally amongst them\n",
    "base_fund_units_per_portfolio = base_fund_total_circulation/len(fund_currencies)\n",
    "# Work out the total cost for each portfolio in the currency of the base fund (USD)\n",
    "total_cost_per_portfolio = base_fund_total_cost/len(fund_currencies)\n",
    "\n",
    "# Iteratve over each currency\n",
    "for currency, currency_portfolio_code in fund_currencies.items():\n",
    "    \n",
    "    # If the currency is the same as the base fund, skip getting an FX rate\n",
    "    if currency!='USD':\n",
    "        # Get the appropriate FX rate from the quotes store\n",
    "        fx_rate = client.quotes.get_quotes(\n",
    "            scope=scope,\n",
    "            quote_ids=[\n",
    "                models.QuoteId(\n",
    "                    provider='DataScope',\n",
    "                    price_source='USDRC',\n",
    "                    instrument_id='{}/USD'.format(currency),\n",
    "                    instrument_id_type='CurrencyPair',\n",
    "                    quote_type='Rate',\n",
    "                    price_side='Mid')\n",
    "            ],\n",
    "            effective_at=holdings_effective_date).found[0].metric_value.value\n",
    "    else:\n",
    "        # Use an FX rate of 1 if the currency is the same as the base fund\n",
    "        fx_rate = 1\n",
    "    \n",
    "    # Initialise an empty list for the holding adjustments\n",
    "    holding_adjustments = []\n",
    "    \n",
    "    # Add a holding adjustment to the list for this currency portfolio\n",
    "    holding_adjustments.append(\n",
    "        models.AdjustHoldingRequest(\n",
    "            instrument_identifiers={\n",
    "                    'Instrument/default/ClientInternal': base_portfolio_code},\n",
    "                tax_lots=[\n",
    "                    models.TargetTaxLotRequest(\n",
    "                        units=base_fund_units_per_portfolio,\n",
    "                        cost=models.CurrencyAndAmount(\n",
    "                            amount=total_cost_per_portfolio,\n",
    "                            currency='USD'),\n",
    "                        portfolio_cost=total_cost_per_portfolio/fx_rate, \n",
    "                        price=base_fund_total_cost/base_fund_total_circulation)\n",
    "                ]\n",
    "        )\n",
    "    )\n",
    "\n",
    "    # Call LUSID to adjust your holdings\n",
    "    response = client.transaction_portfolios.adjust_holdings(\n",
    "        scope=scope,\n",
    "        code=currency_portfolio_code,\n",
    "        effective_at=holdings_effective_date,\n",
    "        holding_adjustments=holding_adjustments)\n",
    "    \n",
    "    # Pretty print the response from LUSID\n",
    "    prettyprint.set_holdings_response(response, scope, currency_portfolio_code)"
   ]
  },
  {
   "cell_type": "markdown",
   "metadata": {},
   "source": [
    "![Foreign-Currency-Portfolios](img/multiplecurrencies-foreigncurrencyportfoliosholdbase.gif)"
   ]
  },
  {
   "cell_type": "markdown",
   "metadata": {},
   "source": [
    "## 10) Add Hedging Transactions"
   ]
  },
  {
   "cell_type": "markdown",
   "metadata": {},
   "source": [
    "Even though you are offering your base fund in different currencies, you don't want fluctuations in the exchange rate to affect the performance of each currency portfolio. You therefore plan to hedge against the foreign exchange rate risk. Each hedge comes in the form of a forward fx sell contract which you plan to roll over weekly. \n",
    "\n",
    "Read more about creating bespoke instruments in the [LUSID Knowledge Base: Creating Bespoke Instruments](https://support.lusid.com/creating-bespoke-instruments). \n",
    "\n",
    "*Run the cell below to create your first hedging contracts*"
   ]
  },
  {
   "cell_type": "code",
   "execution_count": 24,
   "metadata": {},
   "outputs": [
    {
     "name": "stdout",
     "output_type": "stream",
     "text": [
      "\u001b[1mInstrument Successfully Upserted: \u001b[0mEUR_hedge\n",
      "\u001b[1mClientInternal ID: \u001b[0mtid_d178ca5e-737a-4d4b-937d-0861efe47341\n",
      "\u001b[1mLUSID Instrument ID: \u001b[0mLUID_D2G221EI\n",
      "\n",
      "\n",
      "\u001b[1mInstrument Successfully Upserted: \u001b[0mAUD_hedge\n",
      "\u001b[1mClientInternal ID: \u001b[0mtid_d90c1ed2-5cc3-4cfd-b18e-61e18530d1d8\n",
      "\u001b[1mLUSID Instrument ID: \u001b[0mLUID_A16AS0XM\n",
      "\n",
      "\n",
      "\u001b[1mInstrument Successfully Upserted: \u001b[0mJPY_hedge\n",
      "\u001b[1mClientInternal ID: \u001b[0mtid_9b0465a0-b399-4be7-970b-8f14094bca19\n",
      "\u001b[1mLUSID Instrument ID: \u001b[0mLUID_42V89JPH\n",
      "\n",
      "\n",
      "\u001b[1mInstrument Successfully Upserted: \u001b[0mGBP_hedge\n",
      "\u001b[1mClientInternal ID: \u001b[0mtid_1788bd9e-6cbd-435b-a9fc-190d974d73e8\n",
      "\u001b[1mLUSID Instrument ID: \u001b[0mLUID_HYLAGLRF\n",
      "\n",
      "\n",
      "4  instruments upserted successfully\n",
      "0  instrument upsert failures\n"
     ]
    }
   ],
   "source": [
    "# Initialise a dictionary to hold the hedging contracts\n",
    "hedge_contracts = {}\n",
    "\n",
    "# Iterate over each currency\n",
    "for currency in fund_currencies.keys():\n",
    "    \n",
    "    # If the currency matches the base fund there is no need for a hedge\n",
    "    if currency == 'USD':\n",
    "        continue\n",
    "        \n",
    "    # Get the current foreign exchange rate for the first hedge contract\n",
    "    fx_rate = client.quotes.get_quotes(\n",
    "        scope=scope,\n",
    "        quote_ids=[\n",
    "            models.QuoteId(\n",
    "                provider='DataScope',\n",
    "                price_source='USDRC',\n",
    "                instrument_id='{}/USD'.format(currency),\n",
    "                instrument_id_type='CurrencyPair',\n",
    "                quote_type='Rate',\n",
    "                price_side='Mid')\n",
    "        ],\n",
    "        effective_at=holdings_effective_date).found[0].metric_value.value\n",
    "\n",
    "    # Create the bespoke hedge contract definition\n",
    "    hedge_contract = {\n",
    "        \"contract_id\": \"tid_{}\".format(uuid.uuid4()),\n",
    "        \"type\": \"FwdFxSell\",\n",
    "        \"legs\": 2,\n",
    "        \"transaction_date\": holdings_effective_date.isoformat(),\n",
    "        \"settlement_date\": (holdings_effective_date+timedelta(days=7)).isoformat(),\n",
    "        \"strike_price\": 1/fx_rate,\n",
    "        \"leg1\": {\n",
    "            \"type\": \"sell\",\n",
    "            \"currency\": \"USD\",\n",
    "            \"amount\": round(total_cost_per_portfolio, 0)\n",
    "        },\n",
    "        \"leg2\": {\n",
    "            \"type\": \"buy\",\n",
    "            \"currency\": currency,\n",
    "            \"amount\": round(total_cost_per_portfolio, 0) / fx_rate\n",
    "        }\n",
    "    }\n",
    "\n",
    "     # Create the definition for your instrument, attaching the bespoke contract\n",
    "    hedge_contracts['{}_hedge'.format(currency)] = models.InstrumentDefinition(\n",
    "        name='hedge_{}'.format(currency),\n",
    "        identifiers={\n",
    "            'ClientInternal': models.InstrumentIdValue(\n",
    "                value=hedge_contract[\"contract_id\"])},\n",
    "        definition=models.InstrumentEconomicDefinition(\n",
    "            instrument_format='JSON',\n",
    "            content=json.dumps(hedge_contract)\n",
    "        )\n",
    "    )\n",
    "        \n",
    "# Call LUSID to upsert your instrument defintions\n",
    "response = client.instruments.upsert_instruments(\n",
    "    requests=hedge_contracts)\n",
    "\n",
    "# Pretty print the response from LUSID\n",
    "prettyprint.instrument_response(response)"
   ]
  },
  {
   "cell_type": "markdown",
   "metadata": {},
   "source": [
    "Now that you've added your hedge contracts to your instrument master inside LUSID you can log transactions against them. Read more about transactions in the [LUSID Knowledge Base: What is a Transaction?](https://support.lusid.com/what-is-a-transaction). \n",
    "\n",
    "*Run the cell below to upsert a hedging transaction for each currency portfolio*"
   ]
  },
  {
   "cell_type": "code",
   "execution_count": 25,
   "metadata": {},
   "outputs": [
    {
     "name": "stdout",
     "output_type": "stream",
     "text": [
      "\u001b[1mTransactions Successfully Upserted into Portfolio\u001b[0m\n",
      "\u001b[1mScope: \u001b[0mUK_High_Growth_Equities_Fund_4c2e\n",
      "\u001b[1mCode: \u001b[0mcb68d80c-8cbc-4efc-8199-fd1544e98aa8\n",
      "\u001b[1mTransactions Effective From: \u001b[0m2019-05-20 14:30:27.216636+00:00\n",
      "\u001b[1mTransactions Created On: \u001b[0m2019-05-24 14:30:39.676683+00:00\n",
      "\n",
      "\u001b[1mTransactions Successfully Upserted into Portfolio\u001b[0m\n",
      "\u001b[1mScope: \u001b[0mUK_High_Growth_Equities_Fund_4c2e\n",
      "\u001b[1mCode: \u001b[0m7aead1d3-69a9-41f4-8d56-7dcf47b0ca24\n",
      "\u001b[1mTransactions Effective From: \u001b[0m2019-05-20 14:30:27.216636+00:00\n",
      "\u001b[1mTransactions Created On: \u001b[0m2019-05-24 14:30:40.504107+00:00\n",
      "\n",
      "\u001b[1mTransactions Successfully Upserted into Portfolio\u001b[0m\n",
      "\u001b[1mScope: \u001b[0mUK_High_Growth_Equities_Fund_4c2e\n",
      "\u001b[1mCode: \u001b[0m849bfece-e763-470d-bcd0-031a08f1d70e\n",
      "\u001b[1mTransactions Effective From: \u001b[0m2019-05-20 14:30:27.216636+00:00\n",
      "\u001b[1mTransactions Created On: \u001b[0m2019-05-24 14:30:41.273506+00:00\n",
      "\n",
      "\u001b[1mTransactions Successfully Upserted into Portfolio\u001b[0m\n",
      "\u001b[1mScope: \u001b[0mUK_High_Growth_Equities_Fund_4c2e\n",
      "\u001b[1mCode: \u001b[0mee9cc9a4-cbe0-4c9b-b179-057db13ceca9\n",
      "\u001b[1mTransactions Effective From: \u001b[0m2019-05-20 14:30:27.216636+00:00\n",
      "\u001b[1mTransactions Created On: \u001b[0m2019-05-24 14:30:42.063629+00:00\n",
      "\n"
     ]
    }
   ],
   "source": [
    "# Iterate over the currencies\n",
    "for currency, currency_portfolio_code in fund_currencies.items():\n",
    "    \n",
    "    if currency == 'USD':\n",
    "        continue\n",
    "        \n",
    "    # Initialse a list to hold the hedging transaction\n",
    "    hedge_transactions = []\n",
    "\n",
    "    # Retrieve the bespoke hedge contract from the hedging contract definition\n",
    "    contract = json.loads(client.instruments.get_instrument(\n",
    "        identifier_type='ClientInternal',\n",
    "        identifier=hedge_contracts['{}_hedge'.format(currency)].identifiers['ClientInternal'].value\n",
    "    ).instrument_definition.content)\n",
    "\n",
    "    # Build and add the hedge transaction for this currency to the list of transactions\n",
    "    hedge_transactions.append(\n",
    "        models.TransactionRequest(\n",
    "            transaction_id=contract['contract_id'],\n",
    "            type='Buy',\n",
    "            instrument_identifiers={\n",
    "                'Instrument/default/ClientInternal': contract['contract_id']},\n",
    "            transaction_date='T'.join(contract['transaction_date'].split(' ')),\n",
    "            settlement_date='T'.join(contract['settlement_date'].split(' ')),\n",
    "            units=1,\n",
    "            transaction_price=models.TransactionPrice(\n",
    "                price=0,\n",
    "                type='Price'),\n",
    "            total_consideration=models.CurrencyAndAmount(\n",
    "                amount=0,\n",
    "                currency=currency),\n",
    "            transaction_currency='USD',\n",
    "            source='Client',\n",
    "        )\n",
    "    )\n",
    "    \n",
    "    # Upsert the transaction into LUSID\n",
    "    response = client.transaction_portfolios.upsert_transactions(\n",
    "        scope=scope,\n",
    "        code=currency_portfolio_code,\n",
    "        transactions=hedge_transactions\n",
    "        )\n",
    "  \n",
    "    # Pretty print the response from LUSID\n",
    "    prettyprint.transactions_response(\n",
    "        response, \n",
    "        scope, \n",
    "        currency_portfolio_code)"
   ]
  },
  {
   "cell_type": "markdown",
   "metadata": {},
   "source": [
    "## 11) Value Currency Portfolios"
   ]
  },
  {
   "cell_type": "markdown",
   "metadata": {},
   "source": [
    "## Value the Currency Forward Contracts"
   ]
  },
  {
   "cell_type": "markdown",
   "metadata": {},
   "source": []
  },
  {
   "cell_type": "code",
   "execution_count": 26,
   "metadata": {},
   "outputs": [
    {
     "data": {
      "text/html": [
       "<div>\n",
       "<style scoped>\n",
       "    .dataframe tbody tr th:only-of-type {\n",
       "        vertical-align: middle;\n",
       "    }\n",
       "\n",
       "    .dataframe tbody tr th {\n",
       "        vertical-align: top;\n",
       "    }\n",
       "\n",
       "    .dataframe thead th {\n",
       "        text-align: right;\n",
       "    }\n",
       "</style>\n",
       "<table border=\"1\" class=\"dataframe\">\n",
       "  <thead>\n",
       "    <tr style=\"text-align: right;\">\n",
       "      <th></th>\n",
       "      <th>currency</th>\n",
       "      <th>interest_rate</th>\n",
       "    </tr>\n",
       "  </thead>\n",
       "  <tbody>\n",
       "    <tr>\n",
       "      <th>0</th>\n",
       "      <td>USD</td>\n",
       "      <td>0.025500</td>\n",
       "    </tr>\n",
       "    <tr>\n",
       "      <th>1</th>\n",
       "      <td>AUD</td>\n",
       "      <td>0.017100</td>\n",
       "    </tr>\n",
       "    <tr>\n",
       "      <th>2</th>\n",
       "      <td>EUR</td>\n",
       "      <td>-0.001611</td>\n",
       "    </tr>\n",
       "    <tr>\n",
       "      <th>3</th>\n",
       "      <td>JPY</td>\n",
       "      <td>0.001000</td>\n",
       "    </tr>\n",
       "    <tr>\n",
       "      <th>4</th>\n",
       "      <td>GBP</td>\n",
       "      <td>0.007719</td>\n",
       "    </tr>\n",
       "  </tbody>\n",
       "</table>\n",
       "</div>"
      ],
      "text/plain": [
       "  currency  interest_rate\n",
       "0      USD       0.025500\n",
       "1      AUD       0.017100\n",
       "2      EUR      -0.001611\n",
       "3      JPY       0.001000\n",
       "4      GBP       0.007719"
      ]
     },
     "execution_count": 26,
     "metadata": {},
     "output_type": "execute_result"
    }
   ],
   "source": [
    "interest_rates = pd.read_csv('data/multiplecurrencies-interestrates.csv')\n",
    "interest_rates.head()"
   ]
  },
  {
   "cell_type": "code",
   "execution_count": 27,
   "metadata": {},
   "outputs": [
    {
     "name": "stdout",
     "output_type": "stream",
     "text": [
      "\u001b[1mUSD/AUD swap value: \u001b[0m-551.11 AUD\n",
      "LUID_A16AS0XM\n",
      "\u001b[1mUSD/GBP swap value: \u001b[0m-641.19 GBP\n",
      "LUID_HYLAGLRF\n",
      "\u001b[1mUSD/EUR swap value: \u001b[0m-1123.46 EUR\n",
      "LUID_D2G221EI\n",
      "\u001b[1mUSD/JPY swap value: \u001b[0m-128597.42 JPY\n",
      "LUID_42V89JPH\n",
      "Analytics Set\n"
     ]
    }
   ],
   "source": [
    "analytics = []\n",
    "quote_requests = []\n",
    "\n",
    "for currency, currency_portfolio_code in fund_currencies.items():\n",
    "    \n",
    "    if currency!='USD':\n",
    "        fx_rate = client.quotes.get_quotes(\n",
    "            scope=scope,\n",
    "            quote_ids=[\n",
    "                models.QuoteId(\n",
    "                    provider='DataScope',\n",
    "                    price_source='USDRC',\n",
    "                    instrument_id='{}/USD'.format(currency),\n",
    "                    instrument_id_type='CurrencyPair',\n",
    "                    quote_type='Rate',\n",
    "                    price_side='Mid')\n",
    "            ],\n",
    "            effective_at=holdings_effective_date).found[0].metric_value.value\n",
    "    else:\n",
    "        fx_rate = 1\n",
    "    \n",
    "    response = client.transaction_portfolios.get_transactions(\n",
    "        scope=scope,\n",
    "        code=currency_portfolio_code,\n",
    "        from_transaction_date=holdings_effective_date,\n",
    "        to_transaction_date=holdings_effective_date,\n",
    "        filter=\"type eq 'Buy'\")\n",
    "    \n",
    "    if len(response.values) == 0:\n",
    "        continue\n",
    "        \n",
    "    hedge_transaction = response.values[0]\n",
    "    \n",
    "    hedge_contract = json.loads(client.instruments.get_instrument(\n",
    "        identifier_type='LusidInstrumentId',\n",
    "        identifier=hedge_transaction.instrument_uid\n",
    "    ).instrument_definition.content)\n",
    "    \n",
    "    spot_rate = 1 / fx_rate\n",
    "    \n",
    "    interest_rate_1 = interest_rates.loc[\n",
    "        interest_rates['currency'] == 'USD', 'interest_rate'].values[0]\n",
    "    \n",
    "    interest_rate_2 = interest_rates.loc[\n",
    "        interest_rates['currency'] == currency, 'interest_rate'].values[0]\n",
    "    \n",
    "    time = (parse(timestr=hedge_contract['settlement_date']) \\\n",
    "            - datetime.now(pytz.UTC)).days / 365\n",
    "    \n",
    "    strike_price = hedge_contract['strike_price']\n",
    "\n",
    "    forward_price = spot_rate * math.exp((interest_rate_2 - interest_rate_1) * time)\n",
    "    value = (forward_price - strike_price) * math.exp(-interest_rate_2 * time)\n",
    "    total_value = value * hedge_contract['leg1']['amount']\n",
    "    \n",
    "    prettyprint.heading(\n",
    "        'USD/' + currency+' swap value', '{} {}'.format(\n",
    "            round(total_value,2), currency))\n",
    "    \n",
    "    analytics.append(\n",
    "        models.InstrumentAnalytic(\n",
    "            instrument_uid=hedge_transaction.instrument_uid,\n",
    "            value=total_value\n",
    "        )\n",
    "    )\n",
    "    print (hedge_transaction.instrument_uid)\n",
    "    quote_requests.append(\n",
    "        models.UpsertQuoteRequest(\n",
    "            quote_id=models.QuoteId(\n",
    "                provider='DataScope',\n",
    "                price_source='USDRC',\n",
    "                instrument_id=hedge_transaction.instrument_uid,\n",
    "                instrument_id_type='LusidInstrumentId',\n",
    "                quote_type='Price',\n",
    "                price_side='Mid'),\n",
    "            metric_value=models.MetricValue(\n",
    "                value=total_value,\n",
    "                unit=currency),\n",
    "            effective_at=holdings_effective_date,\n",
    "            lineage='InternalSystem'))\n",
    "\n",
    "response = client.quotes.upsert_quotes(\n",
    "    scope=scope,\n",
    "    quotes=quote_requests)\n",
    "\n",
    "prettyprint.upsert_quotes_response(response)"
   ]
  },
  {
   "cell_type": "markdown",
   "metadata": {},
   "source": [
    "## Value the Currency Portfolios"
   ]
  },
  {
   "cell_type": "code",
   "execution_count": 28,
   "metadata": {},
   "outputs": [
    {
     "ename": "ApiException",
     "evalue": "(404)\nReason: Not Found\nHTTP response headers: HTTPHeaderDict({'Date': 'Fri, 24 May 2019 14:30:45 GMT', 'Content-Type': 'application/json; charset=utf-8', 'Transfer-Encoding': 'chunked', 'Connection': 'keep-alive', 'lusid-meta-success': 'False', 'lusid-meta-duration': '920', 'lusid-meta-requestId': '0HLMVM696MPIO:00000001', 'Server': 'FINBOURNE'})\nHTTP response body: {\"name\":\"PriceNotFound\",\"errorDetails\":[],\"code\":189,\"type\":\"https://docs.lusid.com/#section/Error-Codes/189\",\"title\":\"Failed to find or create market data item [Analytic LUID_R99W1V23].\",\"status\":404,\"detail\":\"Failed to find or create market data item [Analytic LUID_R99W1V23]. This occurred because LUID_R99W1V23 is not in the loaded Analytics set. Implies incorrect dependencies or missing data for time.\",\"instance\":\"lusid:api-am-prod.lusid.com/0HLMVM696MPIO/00000001\"}\n",
     "output_type": "error",
     "traceback": [
      "\u001b[0;31m---------------------------------------------------------------------------\u001b[0m",
      "\u001b[0;31mApiException\u001b[0m                              Traceback (most recent call last)",
      "\u001b[0;32m<ipython-input-28-3d7ece1de8a9>\u001b[0m in \u001b[0;36m<module>\u001b[0;34m()\u001b[0m\n\u001b[1;32m     29\u001b[0m         \u001b[0mscope\u001b[0m\u001b[0;34m=\u001b[0m\u001b[0mscope\u001b[0m\u001b[0;34m,\u001b[0m\u001b[0;34m\u001b[0m\u001b[0m\n\u001b[1;32m     30\u001b[0m         \u001b[0mcode\u001b[0m\u001b[0;34m=\u001b[0m\u001b[0mcurrency_portfolio_code\u001b[0m\u001b[0;34m,\u001b[0m\u001b[0;34m\u001b[0m\u001b[0m\n\u001b[0;32m---> 31\u001b[0;31m         request=aggregation_request)\n\u001b[0m\u001b[1;32m     32\u001b[0m \u001b[0;34m\u001b[0m\u001b[0m\n\u001b[1;32m     33\u001b[0m     \u001b[0mcurrency_portfolio_values\u001b[0m\u001b[0;34m[\u001b[0m\u001b[0mcurrency\u001b[0m\u001b[0;34m]\u001b[0m \u001b[0;34m=\u001b[0m \u001b[0mresponse\u001b[0m\u001b[0;34m.\u001b[0m\u001b[0mdata\u001b[0m\u001b[0;34m[\u001b[0m\u001b[0;36m0\u001b[0m\u001b[0;34m]\u001b[0m\u001b[0;34m[\u001b[0m\u001b[0;34m'Sum(Holding/default/PV)'\u001b[0m\u001b[0;34m]\u001b[0m\u001b[0;34m\u001b[0m\u001b[0m\n",
      "\u001b[0;32m/opt/conda/lib/python3.6/site-packages/lusid/api/aggregation_api.py\u001b[0m in \u001b[0;36mget_aggregation_by_portfolio\u001b[0;34m(self, scope, code, **kwargs)\u001b[0m\n\u001b[1;32m    183\u001b[0m             \u001b[0;32mreturn\u001b[0m \u001b[0mself\u001b[0m\u001b[0;34m.\u001b[0m\u001b[0mget_aggregation_by_portfolio_with_http_info\u001b[0m\u001b[0;34m(\u001b[0m\u001b[0mscope\u001b[0m\u001b[0;34m,\u001b[0m \u001b[0mcode\u001b[0m\u001b[0;34m,\u001b[0m \u001b[0;34m**\u001b[0m\u001b[0mkwargs\u001b[0m\u001b[0;34m)\u001b[0m  \u001b[0;31m# noqa: E501\u001b[0m\u001b[0;34m\u001b[0m\u001b[0m\n\u001b[1;32m    184\u001b[0m         \u001b[0;32melse\u001b[0m\u001b[0;34m:\u001b[0m\u001b[0;34m\u001b[0m\u001b[0m\n\u001b[0;32m--> 185\u001b[0;31m             \u001b[0;34m(\u001b[0m\u001b[0mdata\u001b[0m\u001b[0;34m)\u001b[0m \u001b[0;34m=\u001b[0m \u001b[0mself\u001b[0m\u001b[0;34m.\u001b[0m\u001b[0mget_aggregation_by_portfolio_with_http_info\u001b[0m\u001b[0;34m(\u001b[0m\u001b[0mscope\u001b[0m\u001b[0;34m,\u001b[0m \u001b[0mcode\u001b[0m\u001b[0;34m,\u001b[0m \u001b[0;34m**\u001b[0m\u001b[0mkwargs\u001b[0m\u001b[0;34m)\u001b[0m  \u001b[0;31m# noqa: E501\u001b[0m\u001b[0;34m\u001b[0m\u001b[0m\n\u001b[0m\u001b[1;32m    186\u001b[0m             \u001b[0;32mreturn\u001b[0m \u001b[0mdata\u001b[0m\u001b[0;34m\u001b[0m\u001b[0m\n\u001b[1;32m    187\u001b[0m \u001b[0;34m\u001b[0m\u001b[0m\n",
      "\u001b[0;32m/opt/conda/lib/python3.6/site-packages/lusid/api/aggregation_api.py\u001b[0m in \u001b[0;36mget_aggregation_by_portfolio_with_http_info\u001b[0;34m(self, scope, code, **kwargs)\u001b[0m\n\u001b[1;32m    278\u001b[0m             \u001b[0m_preload_content\u001b[0m\u001b[0;34m=\u001b[0m\u001b[0mlocal_var_params\u001b[0m\u001b[0;34m.\u001b[0m\u001b[0mget\u001b[0m\u001b[0;34m(\u001b[0m\u001b[0;34m'_preload_content'\u001b[0m\u001b[0;34m,\u001b[0m \u001b[0;32mTrue\u001b[0m\u001b[0;34m)\u001b[0m\u001b[0;34m,\u001b[0m\u001b[0;34m\u001b[0m\u001b[0m\n\u001b[1;32m    279\u001b[0m             \u001b[0m_request_timeout\u001b[0m\u001b[0;34m=\u001b[0m\u001b[0mlocal_var_params\u001b[0m\u001b[0;34m.\u001b[0m\u001b[0mget\u001b[0m\u001b[0;34m(\u001b[0m\u001b[0;34m'_request_timeout'\u001b[0m\u001b[0;34m)\u001b[0m\u001b[0;34m,\u001b[0m\u001b[0;34m\u001b[0m\u001b[0m\n\u001b[0;32m--> 280\u001b[0;31m             collection_formats=collection_formats)\n\u001b[0m\u001b[1;32m    281\u001b[0m \u001b[0;34m\u001b[0m\u001b[0m\n\u001b[1;32m    282\u001b[0m     \u001b[0;32mdef\u001b[0m \u001b[0mget_aggregation_by_result_set\u001b[0m\u001b[0;34m(\u001b[0m\u001b[0mself\u001b[0m\u001b[0;34m,\u001b[0m \u001b[0mscope\u001b[0m\u001b[0;34m,\u001b[0m \u001b[0mresults_key\u001b[0m\u001b[0;34m,\u001b[0m \u001b[0;34m**\u001b[0m\u001b[0mkwargs\u001b[0m\u001b[0;34m)\u001b[0m\u001b[0;34m:\u001b[0m  \u001b[0;31m# noqa: E501\u001b[0m\u001b[0;34m\u001b[0m\u001b[0m\n",
      "\u001b[0;32m/opt/conda/lib/python3.6/site-packages/lusid/api_client.py\u001b[0m in \u001b[0;36mcall_api\u001b[0;34m(self, resource_path, method, path_params, query_params, header_params, body, post_params, files, response_type, auth_settings, async_req, _return_http_data_only, collection_formats, _preload_content, _request_timeout, _host)\u001b[0m\n\u001b[1;32m    339\u001b[0m                                    \u001b[0mresponse_type\u001b[0m\u001b[0;34m,\u001b[0m \u001b[0mauth_settings\u001b[0m\u001b[0;34m,\u001b[0m\u001b[0;34m\u001b[0m\u001b[0m\n\u001b[1;32m    340\u001b[0m                                    \u001b[0m_return_http_data_only\u001b[0m\u001b[0;34m,\u001b[0m \u001b[0mcollection_formats\u001b[0m\u001b[0;34m,\u001b[0m\u001b[0;34m\u001b[0m\u001b[0m\n\u001b[0;32m--> 341\u001b[0;31m                                    _preload_content, _request_timeout, _host)\n\u001b[0m\u001b[1;32m    342\u001b[0m         \u001b[0;32melse\u001b[0m\u001b[0;34m:\u001b[0m\u001b[0;34m\u001b[0m\u001b[0m\n\u001b[1;32m    343\u001b[0m             thread = self.pool.apply_async(self.__call_api, (resource_path,\n",
      "\u001b[0;32m/opt/conda/lib/python3.6/site-packages/lusid/api_client.py\u001b[0m in \u001b[0;36m__call_api\u001b[0;34m(self, resource_path, method, path_params, query_params, header_params, body, post_params, files, response_type, auth_settings, _return_http_data_only, collection_formats, _preload_content, _request_timeout, _host)\u001b[0m\n\u001b[1;32m    170\u001b[0m             \u001b[0mpost_params\u001b[0m\u001b[0;34m=\u001b[0m\u001b[0mpost_params\u001b[0m\u001b[0;34m,\u001b[0m \u001b[0mbody\u001b[0m\u001b[0;34m=\u001b[0m\u001b[0mbody\u001b[0m\u001b[0;34m,\u001b[0m\u001b[0;34m\u001b[0m\u001b[0m\n\u001b[1;32m    171\u001b[0m             \u001b[0m_preload_content\u001b[0m\u001b[0;34m=\u001b[0m\u001b[0m_preload_content\u001b[0m\u001b[0;34m,\u001b[0m\u001b[0;34m\u001b[0m\u001b[0m\n\u001b[0;32m--> 172\u001b[0;31m             _request_timeout=_request_timeout)\n\u001b[0m\u001b[1;32m    173\u001b[0m \u001b[0;34m\u001b[0m\u001b[0m\n\u001b[1;32m    174\u001b[0m         \u001b[0mself\u001b[0m\u001b[0;34m.\u001b[0m\u001b[0mlast_response\u001b[0m \u001b[0;34m=\u001b[0m \u001b[0mresponse_data\u001b[0m\u001b[0;34m\u001b[0m\u001b[0m\n",
      "\u001b[0;32m/opt/conda/lib/python3.6/site-packages/lusid/api_client.py\u001b[0m in \u001b[0;36mrequest\u001b[0;34m(self, method, url, query_params, headers, post_params, body, _preload_content, _request_timeout)\u001b[0m\n\u001b[1;32m    384\u001b[0m                                          \u001b[0m_preload_content\u001b[0m\u001b[0;34m=\u001b[0m\u001b[0m_preload_content\u001b[0m\u001b[0;34m,\u001b[0m\u001b[0;34m\u001b[0m\u001b[0m\n\u001b[1;32m    385\u001b[0m                                          \u001b[0m_request_timeout\u001b[0m\u001b[0;34m=\u001b[0m\u001b[0m_request_timeout\u001b[0m\u001b[0;34m,\u001b[0m\u001b[0;34m\u001b[0m\u001b[0m\n\u001b[0;32m--> 386\u001b[0;31m                                          body=body)\n\u001b[0m\u001b[1;32m    387\u001b[0m         \u001b[0;32melif\u001b[0m \u001b[0mmethod\u001b[0m \u001b[0;34m==\u001b[0m \u001b[0;34m\"PUT\"\u001b[0m\u001b[0;34m:\u001b[0m\u001b[0;34m\u001b[0m\u001b[0m\n\u001b[1;32m    388\u001b[0m             return self.rest_client.PUT(url,\n",
      "\u001b[0;32m/opt/conda/lib/python3.6/site-packages/lusid/rest.py\u001b[0m in \u001b[0;36mPOST\u001b[0;34m(self, url, headers, query_params, post_params, body, _preload_content, _request_timeout)\u001b[0m\n\u001b[1;32m    275\u001b[0m                             \u001b[0m_preload_content\u001b[0m\u001b[0;34m=\u001b[0m\u001b[0m_preload_content\u001b[0m\u001b[0;34m,\u001b[0m\u001b[0;34m\u001b[0m\u001b[0m\n\u001b[1;32m    276\u001b[0m                             \u001b[0m_request_timeout\u001b[0m\u001b[0;34m=\u001b[0m\u001b[0m_request_timeout\u001b[0m\u001b[0;34m,\u001b[0m\u001b[0;34m\u001b[0m\u001b[0m\n\u001b[0;32m--> 277\u001b[0;31m                             body=body)\n\u001b[0m\u001b[1;32m    278\u001b[0m \u001b[0;34m\u001b[0m\u001b[0m\n\u001b[1;32m    279\u001b[0m     def PUT(self, url, headers=None, query_params=None, post_params=None,\n",
      "\u001b[0;32m/opt/conda/lib/python3.6/site-packages/lusid/rest.py\u001b[0m in \u001b[0;36mrequest\u001b[0;34m(self, method, url, query_params, headers, body, post_params, _preload_content, _request_timeout)\u001b[0m\n\u001b[1;32m    228\u001b[0m \u001b[0;34m\u001b[0m\u001b[0m\n\u001b[1;32m    229\u001b[0m         \u001b[0;32mif\u001b[0m \u001b[0;32mnot\u001b[0m \u001b[0;36m200\u001b[0m \u001b[0;34m<=\u001b[0m \u001b[0mr\u001b[0m\u001b[0;34m.\u001b[0m\u001b[0mstatus\u001b[0m \u001b[0;34m<=\u001b[0m \u001b[0;36m299\u001b[0m\u001b[0;34m:\u001b[0m\u001b[0;34m\u001b[0m\u001b[0m\n\u001b[0;32m--> 230\u001b[0;31m             \u001b[0;32mraise\u001b[0m \u001b[0mApiException\u001b[0m\u001b[0;34m(\u001b[0m\u001b[0mhttp_resp\u001b[0m\u001b[0;34m=\u001b[0m\u001b[0mr\u001b[0m\u001b[0;34m)\u001b[0m\u001b[0;34m\u001b[0m\u001b[0m\n\u001b[0m\u001b[1;32m    231\u001b[0m \u001b[0;34m\u001b[0m\u001b[0m\n\u001b[1;32m    232\u001b[0m         \u001b[0;32mreturn\u001b[0m \u001b[0mr\u001b[0m\u001b[0;34m\u001b[0m\u001b[0m\n",
      "\u001b[0;31mApiException\u001b[0m: (404)\nReason: Not Found\nHTTP response headers: HTTPHeaderDict({'Date': 'Fri, 24 May 2019 14:30:45 GMT', 'Content-Type': 'application/json; charset=utf-8', 'Transfer-Encoding': 'chunked', 'Connection': 'keep-alive', 'lusid-meta-success': 'False', 'lusid-meta-duration': '920', 'lusid-meta-requestId': '0HLMVM696MPIO:00000001', 'Server': 'FINBOURNE'})\nHTTP response body: {\"name\":\"PriceNotFound\",\"errorDetails\":[],\"code\":189,\"type\":\"https://docs.lusid.com/#section/Error-Codes/189\",\"title\":\"Failed to find or create market data item [Analytic LUID_R99W1V23].\",\"status\":404,\"detail\":\"Failed to find or create market data item [Analytic LUID_R99W1V23]. This occurred because LUID_R99W1V23 is not in the loaded Analytics set. Implies incorrect dependencies or missing data for time.\",\"instance\":\"lusid:api-am-prod.lusid.com/0HLMVM696MPIO/00000001\"}\n"
     ]
    }
   ],
   "source": [
    "currency_portfolio_values = {}\n",
    "\n",
    "inline_recipe_complex = inline_recipe\n",
    "inline_recipe_complex.pricing = models.PricingContext(\n",
    "    options=models.PricingOptions(\n",
    "        allow_any_instruments_with_sec_uid_to_price_off_lookup=True))\n",
    "\n",
    "for currency, currency_portfolio_code in fund_currencies.items():\n",
    "    \n",
    "    aggregation_request = models.AggregationRequest(\n",
    "        inline_recipe=inline_recipe_complex,\n",
    "        effective_at=holdings_effective_date,\n",
    "        metrics=[\n",
    "            models.AggregateSpec(key='Holding/default/PV',\n",
    "            op='Sum'),\n",
    "            models.AggregateSpec(key='Portfolio/default/Name',\n",
    "            op='Value'),\n",
    "            models.AggregateSpec(key='Holding/default/Units',\n",
    "            op='Value'),\n",
    "            models.AggregateSpec(key='Instrument/default/Name',\n",
    "            op='Value'),\n",
    "            \n",
    "        ],\n",
    "        group_by=[\n",
    "            'Instrument/default/Name'\n",
    "        ])\n",
    "\n",
    "    response = client.aggregation.get_aggregation_by_portfolio(\n",
    "        scope=scope,\n",
    "        code=currency_portfolio_code,\n",
    "        request=aggregation_request)\n",
    "    \n",
    "    currency_portfolio_values[currency] = response.data[0]['Sum(Holding/default/PV)']\n",
    "    \n",
    "    prettyprint.aggregation_response_generic(response)"
   ]
  },
  {
   "cell_type": "markdown",
   "metadata": {},
   "source": [
    "## 12) Securitise Currency Portfolios"
   ]
  },
  {
   "cell_type": "code",
   "execution_count": null,
   "metadata": {},
   "outputs": [],
   "source": [
    "instrument_definitions = {}\n",
    "\n",
    "for currency in fund_currencies:\n",
    "\n",
    "    instrument_definitions['currency_{}'.format(currency)] = (models.InstrumentDefinition(\n",
    "        name=base_portfolio_name,\n",
    "        identifiers={'ClientInternal': '{}_{}'.format(base_portfolio_name, currency)},\n",
    "        properties=[models.InstrumentProperty(\n",
    "            key=circulation_property_key,\n",
    "            value=models.PropertyValue(\n",
    "                metric_value=models.MetricValue(\n",
    "                    value=10000\n",
    "                    )))],\n",
    "        look_through_portfolio_id=models.ResourceId(\n",
    "            scope=scope,\n",
    "            code='{}_{}'.format(base_portfolio_name, currency)\n",
    "        )\n",
    "    ))\n",
    "\n",
    "response = client.upsert_instruments(\n",
    "    requests=instrument_definitions\n",
    ")\n",
    "\n",
    "prettyprint.instrument_response(response, identifier='ClientInternal')"
   ]
  },
  {
   "cell_type": "code",
   "execution_count": null,
   "metadata": {},
   "outputs": [],
   "source": [
    "instrument_quotes = []\n",
    "\n",
    "for currency in fund_currencies:\n",
    "\n",
    "    currency_fund_instrument = client.get_instrument(\n",
    "        identifier_type='ClientInternal',\n",
    "        identifier='{}_{}'.format(base_portfolio_name, currency),\n",
    "        instrument_property_keys=[circulation_property_key])\n",
    "    \n",
    "    luid = base_fund_instrument.lusid_instrument_id\n",
    "    \n",
    "    currency_fund_total_circulation = round(\n",
    "        base_fund_instrument.properties[0].value, 0)\n",
    "    \n",
    "    currency_fund_unit_price = round(\n",
    "        currency_portfolio_values[currency] / base_fund_total_circulation, 2)\n",
    "\n",
    "    instrument_quotes.append(models.UpsertQuoteRequest(\n",
    "        quote_id=models.QuoteId(\n",
    "            instrument_id=luid,\n",
    "            instrument_id_type='LusidInstrumentId',\n",
    "            quote_type='Price',\n",
    "            price_side='Mid'),\n",
    "        metric_value=models.MetricValue(\n",
    "            value=currency_fund_unit_price,\n",
    "            unit=currency),\n",
    "        quote_lineage=models.QuoteLineage(\n",
    "            data_vendor='Internal',\n",
    "            contributor='Internal_User'),\n",
    "        effective_at=holdings_effective_date\n",
    "    ))\n",
    "    \n",
    "    prettyprint.heading(f'{currency} Fund Total Circulation', str(currency_fund_total_circulation))\n",
    "    prettyprint.heading(f'{currency} Fund Total Value', str(currency_fund_total_value))\n",
    "    prettyprint.heading(f'{currency} Fund Unit Price', str(currency_fund_unit_price))\n",
    "\n",
    "response = client.upsert_quotes(\n",
    "    scope=scope,\n",
    "    quotes=instrument_quotes)\n",
    "\n",
    "prettyprint.upsert_quotes_response(response)"
   ]
  },
  {
   "cell_type": "markdown",
   "metadata": {},
   "source": [
    "## 13) Create Share Class Portfolios"
   ]
  },
  {
   "cell_type": "markdown",
   "metadata": {},
   "source": [
    "## 14) Value Each Share Class"
   ]
  },
  {
   "cell_type": "markdown",
   "metadata": {},
   "source": [
    "## 15) Add Transactions to the Base Portfolio"
   ]
  },
  {
   "cell_type": "markdown",
   "metadata": {},
   "source": [
    "## 16) Value each share class portfolio (bubble up)"
   ]
  },
  {
   "cell_type": "markdown",
   "metadata": {},
   "source": [
    "## 17) Add Hedging to one of the currency portfolios"
   ]
  },
  {
   "cell_type": "markdown",
   "metadata": {},
   "source": [
    "## 18) Value each share class portfolio (bubble up)"
   ]
  }
 ],
 "metadata": {
  "kernelspec": {
   "display_name": "Python 3",
   "language": "python",
   "name": "python3"
  },
  "language_info": {
   "codemirror_mode": {
    "name": "ipython",
    "version": 3
   },
   "file_extension": ".py",
   "mimetype": "text/x-python",
   "name": "python",
   "nbconvert_exporter": "python",
   "pygments_lexer": "ipython3",
   "version": "3.6.6"
  }
 },
 "nbformat": 4,
 "nbformat_minor": 2
}
