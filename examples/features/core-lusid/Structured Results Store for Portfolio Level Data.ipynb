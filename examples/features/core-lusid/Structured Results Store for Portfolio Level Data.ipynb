{
 "cells": [
  {
   "cell_type": "code",
   "execution_count": 38,
   "id": "78a3797e",
   "metadata": {},
   "outputs": [
    {
     "data": {
      "text/html": [
       "\n",
       "    <form action=\"javascript:code_toggle()\"><input type=\"submit\" id=\"toggleButton\" value=\"Toggle Docstring\"></form>\n",
       "    \n",
       "         <script>\n",
       "         function code_toggle() {\n",
       "             if ($('div.cell.code_cell.rendered.selected div.input').css('display')!='none'){\n",
       "                 $('div.cell.code_cell.rendered.selected div.input').hide();\n",
       "             } else {\n",
       "                 $('div.cell.code_cell.rendered.selected div.input').show();\n",
       "             }\n",
       "         }\n",
       "         </script>\n",
       "\n",
       "     "
      ],
      "text/plain": [
       "<IPython.core.display.HTML object>"
      ]
     },
     "metadata": {},
     "output_type": "display_data"
    }
   ],
   "source": [
    "from lusidtools.jupyter_tools import toggle_code\n",
    "\n",
    "toggle_code(\"Toggle Docstring\")\n"
   ]
  },
  {
   "cell_type": "markdown",
   "id": "77cfb04f",
   "metadata": {},
   "source": [
    "# Uploading Externally Calculated Data to the Structured Results Store\n",
    "\n",
    "In this notebook, we will be demonstrating how you can store any external document in the structured results store. Our use case for this notebook will be uploading your own portfolio level performance metrics to LUSID. This will allow you to use your in-house calculated NAV and other metrics.\n",
    "We will demonstrate this by first creating portfolios and then uploading our own performance metrics to the structured results store."
   ]
  },
  {
   "cell_type": "code",
   "execution_count": 39,
   "id": "50382822",
   "metadata": {},
   "outputs": [
    {
     "data": {
      "text/html": [
       "<style>.container { width:90% !important; }</style>"
      ],
      "text/plain": [
       "<IPython.core.display.HTML object>"
      ]
     },
     "metadata": {},
     "output_type": "display_data"
    },
    {
     "data": {
      "text/html": [
       "<div>\n",
       "<style scoped>\n",
       "    .dataframe tbody tr th:only-of-type {\n",
       "        vertical-align: middle;\n",
       "    }\n",
       "\n",
       "    .dataframe tbody tr th {\n",
       "        vertical-align: top;\n",
       "    }\n",
       "\n",
       "    .dataframe thead th {\n",
       "        text-align: right;\n",
       "    }\n",
       "</style>\n",
       "<table border=\"1\" class=\"dataframe\">\n",
       "  <thead>\n",
       "    <tr style=\"text-align: right;\">\n",
       "      <th></th>\n",
       "      <th>api_version</th>\n",
       "      <th>build_version</th>\n",
       "      <th>excel_version</th>\n",
       "      <th>links</th>\n",
       "    </tr>\n",
       "  </thead>\n",
       "  <tbody>\n",
       "    <tr>\n",
       "      <th>0</th>\n",
       "      <td>v0</td>\n",
       "      <td>0.6.8665.0</td>\n",
       "      <td>0.5.2624</td>\n",
       "      <td>{'relation': 'RequestLogs', 'href': 'http://lo...</td>\n",
       "    </tr>\n",
       "  </tbody>\n",
       "</table>\n",
       "</div>"
      ],
      "text/plain": [
       "  api_version build_version excel_version  \\\n",
       "0          v0    0.6.8665.0      0.5.2624   \n",
       "\n",
       "                                               links  \n",
       "0  {'relation': 'RequestLogs', 'href': 'http://lo...  "
      ]
     },
     "metadata": {},
     "output_type": "display_data"
    }
   ],
   "source": [
    "import os\n",
    "import pandas as pd\n",
    "import numpy as np\n",
    "from datetime import datetime, timezone\n",
    "import io\n",
    "import json\n",
    "import pytz\n",
    "from IPython.core.display import HTML\n",
    "\n",
    "# Then import the key modules from the LUSID package (i.e. The LUSID SDK)\n",
    "import lusid as lu\n",
    "import lusid.api as la\n",
    "import lusid.models as lm\n",
    "\n",
    "# And use absolute imports to import key functions from Lusid-Python-Tools and other helper package\n",
    "\n",
    "from lusid.utilities import ApiClientFactory\n",
    "from lusidjam import RefreshingToken\n",
    "from lusidtools.cocoon.cocoon import load_from_data_frame\n",
    "from lusidtools.pandas_utils.lusid_pandas import lusid_response_to_data_frame\n",
    "from lusidtools.jupyter_tools import StopExecution\n",
    "from lusidtools.cocoon.cocoon_printer import (\n",
    "    format_instruments_response,\n",
    "    format_portfolios_response,\n",
    "    format_transactions_response,\n",
    ")\n",
    "\n",
    "# Set DataFrame display formats\n",
    "pd.set_option(\"display.max_columns\", None)\n",
    "pd.set_option(\"display.max_rows\", None)\n",
    "pd.options.display.float_format = \"{:,.2f}\".format\n",
    "display(HTML(\"<style>.container { width:90% !important; }</style>\"))\n",
    "\n",
    "# Authenticate our user and create our API client\n",
    "secrets_path = os.getenv(\"FBN_SECRETS_PATH\")\n",
    "\n",
    "api_factory = ApiClientFactory(\n",
    "    token=RefreshingToken(),\n",
    "    api_secrets_filename=secrets_path,\n",
    "    app_name=\"LusidJupyterNotebook\",\n",
    ")\n",
    "\n",
    "api_status = pd.DataFrame(\n",
    "    api_factory.build(lu.ApplicationMetadataApi).get_lusid_versions().to_dict()\n",
    ")\n",
    "\n",
    "display(api_status)"
   ]
  },
  {
   "cell_type": "code",
   "execution_count": 40,
   "id": "877eed08",
   "metadata": {},
   "outputs": [],
   "source": [
    "srs_api = api_factory.build(lu.StructuredResultDataApi)\n",
    "aggregation_api = api_factory.build(lu.AggregationApi)\n",
    "configuration_recipe_api = api_factory.build(lu.ConfigurationRecipeApi)"
   ]
  },
  {
   "cell_type": "code",
   "execution_count": 41,
   "id": "c5c4438c",
   "metadata": {},
   "outputs": [],
   "source": [
    "scope = \"srs-portfolio-example\""
   ]
  },
  {
   "cell_type": "markdown",
   "id": "eac39670",
   "metadata": {},
   "source": [
    "# Read in and format data"
   ]
  },
  {
   "cell_type": "markdown",
   "id": "591925ae",
   "metadata": {},
   "source": [
    "We will first create two portfolios that we will upload performance data to."
   ]
  },
  {
   "cell_type": "code",
   "execution_count": 42,
   "id": "a1da02ae",
   "metadata": {},
   "outputs": [
    {
     "data": {
      "text/html": [
       "<div>\n",
       "<style scoped>\n",
       "    .dataframe tbody tr th:only-of-type {\n",
       "        vertical-align: middle;\n",
       "    }\n",
       "\n",
       "    .dataframe tbody tr th {\n",
       "        vertical-align: top;\n",
       "    }\n",
       "\n",
       "    .dataframe thead th {\n",
       "        text-align: right;\n",
       "    }\n",
       "</style>\n",
       "<table border=\"1\" class=\"dataframe\">\n",
       "  <thead>\n",
       "    <tr style=\"text-align: right;\">\n",
       "      <th></th>\n",
       "      <th>success</th>\n",
       "      <th>failed</th>\n",
       "    </tr>\n",
       "  </thead>\n",
       "  <tbody>\n",
       "    <tr>\n",
       "      <th>0</th>\n",
       "      <td>2</td>\n",
       "      <td>0</td>\n",
       "    </tr>\n",
       "  </tbody>\n",
       "</table>\n",
       "</div>"
      ],
      "text/plain": [
       "   success  failed\n",
       "0        2       0"
      ]
     },
     "execution_count": 42,
     "metadata": {},
     "output_type": "execute_result"
    }
   ],
   "source": [
    "portfolio_df = pd.read_csv('data/srs_portfolio_level_example_portfolios.csv')\n",
    "\n",
    "result = load_from_data_frame(\n",
    "    api_factory=api_factory,\n",
    "    scope=scope,\n",
    "    data_frame=portfolio_df,\n",
    "    mapping_required={\n",
    "        \"code\": \"code\",\n",
    "        \"display_name\": \"display_name\",\n",
    "        \"base_currency\": \"base_currency\"\n",
    "    },\n",
    "    mapping_optional={\n",
    "        \"created\": \"$2020-01-01T00:00:00+00:00\"\n",
    "    },\n",
    "    file_type=\"portfolios\",\n",
    ")\n",
    "\n",
    "succ, failed = format_portfolios_response(result)\n",
    "pd.DataFrame(data=[{\"success\": len(succ), \"failed\": len(failed)}])"
   ]
  },
  {
   "cell_type": "markdown",
   "id": "1470e9b8",
   "metadata": {},
   "source": [
    "Below we can see a table of our two portfolios and their respective externally calculated market value and returns. This is the dataset that we will be uploading to the structured results store."
   ]
  },
  {
   "cell_type": "code",
   "execution_count": 43,
   "id": "dc420afa",
   "metadata": {},
   "outputs": [
    {
     "data": {
      "text/html": [
       "<div>\n",
       "<style scoped>\n",
       "    .dataframe tbody tr th:only-of-type {\n",
       "        vertical-align: middle;\n",
       "    }\n",
       "\n",
       "    .dataframe tbody tr th {\n",
       "        vertical-align: top;\n",
       "    }\n",
       "\n",
       "    .dataframe thead th {\n",
       "        text-align: right;\n",
       "    }\n",
       "</style>\n",
       "<table border=\"1\" class=\"dataframe\">\n",
       "  <thead>\n",
       "    <tr style=\"text-align: right;\">\n",
       "      <th></th>\n",
       "      <th>portfolio</th>\n",
       "      <th>effective date</th>\n",
       "      <th>market value</th>\n",
       "      <th>daily return gross</th>\n",
       "      <th>daily return net</th>\n",
       "      <th>currency</th>\n",
       "    </tr>\n",
       "  </thead>\n",
       "  <tbody>\n",
       "    <tr>\n",
       "      <th>0</th>\n",
       "      <td>PortfolioA</td>\n",
       "      <td>2020-01-01 00:00:00+00:00</td>\n",
       "      <td>1,000,000.00</td>\n",
       "      <td>1.09</td>\n",
       "      <td>1.07</td>\n",
       "      <td>USD</td>\n",
       "    </tr>\n",
       "    <tr>\n",
       "      <th>1</th>\n",
       "      <td>PortfolioA</td>\n",
       "      <td>2020-02-01 00:00:00+00:00</td>\n",
       "      <td>1,320,000.00</td>\n",
       "      <td>1.09</td>\n",
       "      <td>1.07</td>\n",
       "      <td>USD</td>\n",
       "    </tr>\n",
       "    <tr>\n",
       "      <th>2</th>\n",
       "      <td>PortfolioA</td>\n",
       "      <td>2020-03-01 00:00:00+00:00</td>\n",
       "      <td>1,320,000.00</td>\n",
       "      <td>1.09</td>\n",
       "      <td>1.07</td>\n",
       "      <td>USD</td>\n",
       "    </tr>\n",
       "    <tr>\n",
       "      <th>3</th>\n",
       "      <td>PortfolioB</td>\n",
       "      <td>2020-01-01 00:00:00+00:00</td>\n",
       "      <td>1,000,000.00</td>\n",
       "      <td>1.09</td>\n",
       "      <td>1.07</td>\n",
       "      <td>USD</td>\n",
       "    </tr>\n",
       "    <tr>\n",
       "      <th>4</th>\n",
       "      <td>PortfolioB</td>\n",
       "      <td>2020-02-01 00:00:00+00:00</td>\n",
       "      <td>1,320,000.00</td>\n",
       "      <td>1.09</td>\n",
       "      <td>1.07</td>\n",
       "      <td>USD</td>\n",
       "    </tr>\n",
       "    <tr>\n",
       "      <th>5</th>\n",
       "      <td>PortfolioB</td>\n",
       "      <td>2020-03-01 00:00:00+00:00</td>\n",
       "      <td>1,320,000.00</td>\n",
       "      <td>1.09</td>\n",
       "      <td>1.07</td>\n",
       "      <td>USD</td>\n",
       "    </tr>\n",
       "  </tbody>\n",
       "</table>\n",
       "</div>"
      ],
      "text/plain": [
       "    portfolio             effective date  market value  daily return gross  \\\n",
       "0  PortfolioA  2020-01-01 00:00:00+00:00  1,000,000.00                1.09   \n",
       "1  PortfolioA  2020-02-01 00:00:00+00:00  1,320,000.00                1.09   \n",
       "2  PortfolioA  2020-03-01 00:00:00+00:00  1,320,000.00                1.09   \n",
       "3  PortfolioB  2020-01-01 00:00:00+00:00  1,000,000.00                1.09   \n",
       "4  PortfolioB  2020-02-01 00:00:00+00:00  1,320,000.00                1.09   \n",
       "5  PortfolioB  2020-03-01 00:00:00+00:00  1,320,000.00                1.09   \n",
       "\n",
       "   daily return net currency  \n",
       "0              1.07      USD  \n",
       "1              1.07      USD  \n",
       "2              1.07      USD  \n",
       "3              1.07      USD  \n",
       "4              1.07      USD  \n",
       "5              1.07      USD  "
      ]
     },
     "execution_count": 43,
     "metadata": {},
     "output_type": "execute_result"
    }
   ],
   "source": [
    "pf_data = pd.read_csv(\"data/srs_portfolio_level_data.csv\")\n",
    "pf_data"
   ]
  },
  {
   "cell_type": "markdown",
   "id": "0081660b",
   "metadata": {},
   "source": [
    "## Define data ID"
   ]
  },
  {
   "cell_type": "markdown",
   "id": "8166b300",
   "metadata": {},
   "source": [
    "We define our data and upsert it into the structured results store, so that we may retrieve it later.\n",
    "\n",
    "To maintain LUSID's bitemporal capacities, the data in the structured results store is immutable and if you would like to change it, you must update the version variable for each new/updated dataset.\n",
    "\n",
    "The data ID is An identifier that uniquely describes an item of structured result data and is needed to upsert data to the structured results store. See https://www.lusid.com/docs/api/#operation/UpsertStructuredResultData for more guidance."
   ]
  },
  {
   "cell_type": "code",
   "execution_count": 44,
   "id": "699d9c90",
   "metadata": {},
   "outputs": [
    {
     "data": {
      "text/html": [
       "<div>\n",
       "<style scoped>\n",
       "    .dataframe tbody tr th:only-of-type {\n",
       "        vertical-align: middle;\n",
       "    }\n",
       "\n",
       "    .dataframe tbody tr th {\n",
       "        vertical-align: top;\n",
       "    }\n",
       "\n",
       "    .dataframe thead th {\n",
       "        text-align: right;\n",
       "    }\n",
       "</style>\n",
       "<table border=\"1\" class=\"dataframe\">\n",
       "  <thead>\n",
       "    <tr style=\"text-align: right;\">\n",
       "      <th></th>\n",
       "      <th>0</th>\n",
       "      <th>1</th>\n",
       "    </tr>\n",
       "  </thead>\n",
       "  <tbody>\n",
       "    <tr>\n",
       "      <th>0</th>\n",
       "      <td>PortfolioA</td>\n",
       "      <td>2022-02-22 12:35:34.900079+00:00</td>\n",
       "    </tr>\n",
       "  </tbody>\n",
       "</table>\n",
       "</div>"
      ],
      "text/plain": [
       "            0                                1\n",
       "0  PortfolioA 2022-02-22 12:35:34.900079+00:00"
      ]
     },
     "metadata": {},
     "output_type": "display_data"
    },
    {
     "data": {
      "text/html": [
       "<div>\n",
       "<style scoped>\n",
       "    .dataframe tbody tr th:only-of-type {\n",
       "        vertical-align: middle;\n",
       "    }\n",
       "\n",
       "    .dataframe tbody tr th {\n",
       "        vertical-align: top;\n",
       "    }\n",
       "\n",
       "    .dataframe thead th {\n",
       "        text-align: right;\n",
       "    }\n",
       "</style>\n",
       "<table border=\"1\" class=\"dataframe\">\n",
       "  <thead>\n",
       "    <tr style=\"text-align: right;\">\n",
       "      <th></th>\n",
       "      <th>0</th>\n",
       "      <th>1</th>\n",
       "    </tr>\n",
       "  </thead>\n",
       "  <tbody>\n",
       "    <tr>\n",
       "      <th>0</th>\n",
       "      <td>PortfolioB</td>\n",
       "      <td>2022-02-22 12:35:35.173204+00:00</td>\n",
       "    </tr>\n",
       "  </tbody>\n",
       "</table>\n",
       "</div>"
      ],
      "text/plain": [
       "            0                                1\n",
       "0  PortfolioB 2022-02-22 12:35:35.173204+00:00"
      ]
     },
     "metadata": {},
     "output_type": "display_data"
    }
   ],
   "source": [
    "\n",
    "version= \"1.02\"\n",
    "srs_ids=[]\n",
    "portfolios = pf_data.groupby(\"portfolio\")\n",
    "\n",
    "for pf, pf_df in portfolios:\n",
    "    \n",
    "    # generate an SRS ID for the portfolio\n",
    "    srs_id = lm.StructuredResultDataId(\n",
    "        source=\"Client\",\n",
    "        code=pf,\n",
    "        effective_at=datetime(2020, 1, 1, tzinfo=timezone.utc),\n",
    "        result_type=\"Raw\")\n",
    "    \n",
    "    # append the id to the list of data id's so that we may retrieve them later in the cell below\n",
    "    srs_ids.append(srs_id) \n",
    "    \n",
    "    # load in the csv file\n",
    "    s = io.StringIO()\n",
    "    pf_df.to_csv(s)   \n",
    "    \n",
    "    # generate the upsertion request\n",
    "    request_body={\n",
    "    pf: lm.UpsertStructuredResultDataRequest(\n",
    "    id=srs_id,\n",
    "    data=lm.StructuredResultData(\n",
    "    document_format=\"csv\",\n",
    "    version=version,\n",
    "    name=\"Data file\",\n",
    "    document=s.getvalue()\n",
    "        )\n",
    "      )\n",
    "    }\n",
    "\n",
    "    result = srs_api.upsert_structured_result_data(\n",
    "    scope=scope,\n",
    "    request_body=request_body)\n",
    "    display(pd.DataFrame(result.values.items()))"
   ]
  },
  {
   "cell_type": "markdown",
   "id": "b606dcde",
   "metadata": {},
   "source": [
    "## Return Data from store"
   ]
  },
  {
   "cell_type": "markdown",
   "id": "1312be2a",
   "metadata": {},
   "source": [
    "To test if our data upsertion was successful, we generate a request to see what data we have on our two portfolios. In the below table we can find our externally calculated market value and returns."
   ]
  },
  {
   "cell_type": "code",
   "execution_count": 45,
   "id": "c36d418f",
   "metadata": {},
   "outputs": [
    {
     "data": {
      "text/plain": [
       "'PortfolioA'"
      ]
     },
     "metadata": {},
     "output_type": "display_data"
    },
    {
     "data": {
      "text/html": [
       "<div>\n",
       "<style scoped>\n",
       "    .dataframe tbody tr th:only-of-type {\n",
       "        vertical-align: middle;\n",
       "    }\n",
       "\n",
       "    .dataframe tbody tr th {\n",
       "        vertical-align: top;\n",
       "    }\n",
       "\n",
       "    .dataframe thead th {\n",
       "        text-align: right;\n",
       "    }\n",
       "</style>\n",
       "<table border=\"1\" class=\"dataframe\">\n",
       "  <thead>\n",
       "    <tr style=\"text-align: right;\">\n",
       "      <th></th>\n",
       "      <th>Unnamed: 0</th>\n",
       "      <th>portfolio</th>\n",
       "      <th>effective date</th>\n",
       "      <th>market value</th>\n",
       "      <th>daily return gross</th>\n",
       "      <th>daily return net</th>\n",
       "      <th>currency</th>\n",
       "    </tr>\n",
       "  </thead>\n",
       "  <tbody>\n",
       "    <tr>\n",
       "      <th>0</th>\n",
       "      <td>0</td>\n",
       "      <td>PortfolioA</td>\n",
       "      <td>2020-01-01 00:00:00+00:00</td>\n",
       "      <td>1,000,000.00</td>\n",
       "      <td>1.09</td>\n",
       "      <td>1.07</td>\n",
       "      <td>USD</td>\n",
       "    </tr>\n",
       "    <tr>\n",
       "      <th>1</th>\n",
       "      <td>1</td>\n",
       "      <td>PortfolioA</td>\n",
       "      <td>2020-02-01 00:00:00+00:00</td>\n",
       "      <td>1,320,000.00</td>\n",
       "      <td>1.09</td>\n",
       "      <td>1.07</td>\n",
       "      <td>USD</td>\n",
       "    </tr>\n",
       "    <tr>\n",
       "      <th>2</th>\n",
       "      <td>2</td>\n",
       "      <td>PortfolioA</td>\n",
       "      <td>2020-03-01 00:00:00+00:00</td>\n",
       "      <td>1,320,000.00</td>\n",
       "      <td>1.09</td>\n",
       "      <td>1.07</td>\n",
       "      <td>USD</td>\n",
       "    </tr>\n",
       "  </tbody>\n",
       "</table>\n",
       "</div>"
      ],
      "text/plain": [
       "   Unnamed: 0   portfolio             effective date  market value  \\\n",
       "0           0  PortfolioA  2020-01-01 00:00:00+00:00  1,000,000.00   \n",
       "1           1  PortfolioA  2020-02-01 00:00:00+00:00  1,320,000.00   \n",
       "2           2  PortfolioA  2020-03-01 00:00:00+00:00  1,320,000.00   \n",
       "\n",
       "   daily return gross  daily return net currency  \n",
       "0                1.09              1.07      USD  \n",
       "1                1.09              1.07      USD  \n",
       "2                1.09              1.07      USD  "
      ]
     },
     "metadata": {},
     "output_type": "display_data"
    },
    {
     "data": {
      "text/plain": [
       "'PortfolioB'"
      ]
     },
     "metadata": {},
     "output_type": "display_data"
    },
    {
     "data": {
      "text/html": [
       "<div>\n",
       "<style scoped>\n",
       "    .dataframe tbody tr th:only-of-type {\n",
       "        vertical-align: middle;\n",
       "    }\n",
       "\n",
       "    .dataframe tbody tr th {\n",
       "        vertical-align: top;\n",
       "    }\n",
       "\n",
       "    .dataframe thead th {\n",
       "        text-align: right;\n",
       "    }\n",
       "</style>\n",
       "<table border=\"1\" class=\"dataframe\">\n",
       "  <thead>\n",
       "    <tr style=\"text-align: right;\">\n",
       "      <th></th>\n",
       "      <th>Unnamed: 0</th>\n",
       "      <th>portfolio</th>\n",
       "      <th>effective date</th>\n",
       "      <th>market value</th>\n",
       "      <th>daily return gross</th>\n",
       "      <th>daily return net</th>\n",
       "      <th>currency</th>\n",
       "    </tr>\n",
       "  </thead>\n",
       "  <tbody>\n",
       "    <tr>\n",
       "      <th>0</th>\n",
       "      <td>3</td>\n",
       "      <td>PortfolioB</td>\n",
       "      <td>2020-01-01 00:00:00+00:00</td>\n",
       "      <td>1,000,000.00</td>\n",
       "      <td>1.09</td>\n",
       "      <td>1.07</td>\n",
       "      <td>USD</td>\n",
       "    </tr>\n",
       "    <tr>\n",
       "      <th>1</th>\n",
       "      <td>4</td>\n",
       "      <td>PortfolioB</td>\n",
       "      <td>2020-02-01 00:00:00+00:00</td>\n",
       "      <td>1,320,000.00</td>\n",
       "      <td>1.09</td>\n",
       "      <td>1.07</td>\n",
       "      <td>USD</td>\n",
       "    </tr>\n",
       "    <tr>\n",
       "      <th>2</th>\n",
       "      <td>5</td>\n",
       "      <td>PortfolioB</td>\n",
       "      <td>2020-03-01 00:00:00+00:00</td>\n",
       "      <td>1,320,000.00</td>\n",
       "      <td>1.09</td>\n",
       "      <td>1.07</td>\n",
       "      <td>USD</td>\n",
       "    </tr>\n",
       "  </tbody>\n",
       "</table>\n",
       "</div>"
      ],
      "text/plain": [
       "   Unnamed: 0   portfolio             effective date  market value  \\\n",
       "0           3  PortfolioB  2020-01-01 00:00:00+00:00  1,000,000.00   \n",
       "1           4  PortfolioB  2020-02-01 00:00:00+00:00  1,320,000.00   \n",
       "2           5  PortfolioB  2020-03-01 00:00:00+00:00  1,320,000.00   \n",
       "\n",
       "   daily return gross  daily return net currency  \n",
       "0                1.09              1.07      USD  \n",
       "1                1.09              1.07      USD  \n",
       "2                1.09              1.07      USD  "
      ]
     },
     "metadata": {},
     "output_type": "display_data"
    }
   ],
   "source": [
    "portfolios = pf_data['portfolio'].unique()\n",
    "for i, portfolio in enumerate(portfolios):\n",
    "    result = srs_api.get_structured_result_data(\n",
    "    scope=scope, \n",
    "    request_body={\n",
    "        portfolio: srs_ids[i]})\n",
    "    s = io.StringIO(result.values[portfolio].document)\n",
    "    doc = pd.read_csv(s)\n",
    "    display(portfolio)\n",
    "    display(doc)"
   ]
  }
 ],
 "metadata": {
  "kernelspec": {
   "display_name": "Python 3 (ipykernel)",
   "language": "python",
   "name": "python3"
  },
  "language_info": {
   "codemirror_mode": {
    "name": "ipython",
    "version": 3
   },
   "file_extension": ".py",
   "mimetype": "text/x-python",
   "name": "python",
   "nbconvert_exporter": "python",
   "pygments_lexer": "ipython3",
   "version": "3.8.0"
  }
 },
 "nbformat": 4,
 "nbformat_minor": 5
}
