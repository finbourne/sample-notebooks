{
 "cells": [
  {
   "cell_type": "code",
   "execution_count": 1,
   "metadata": {},
   "outputs": [
    {
     "data": {
      "text/html": [
       "\n",
       "    <form action=\"javascript:code_toggle()\"><input type=\"submit\" id=\"toggleButton\" value=\"Hide docstring\"></form>\n",
       "    \n",
       "         <script>\n",
       "         function code_toggle() {\n",
       "             if ($('div.cell.code_cell.rendered.selected div.input').css('display')!='none'){\n",
       "                 $('div.cell.code_cell.rendered.selected div.input').hide();\n",
       "             } else {\n",
       "                 $('div.cell.code_cell.rendered.selected div.input').show();\n",
       "             }\n",
       "         }\n",
       "         </script>\n",
       "\n",
       "     "
      ],
      "text/plain": [
       "<IPython.core.display.HTML object>"
      ]
     },
     "metadata": {},
     "output_type": "display_data"
    }
   ],
   "source": [
    "from lusidtools.jupyter_tools import toggle_code\n",
    "\n",
    "\"\"\"Relations\n",
    "\n",
    "Demonstrates how to create relationships between different portfolios.\n",
    "\n",
    "Attributes\n",
    "----------\n",
    "relations\n",
    "\"\"\"\n",
    "\n",
    "toggle_code(\"Hide docstring\")"
   ]
  },
  {
   "cell_type": "code",
   "execution_count": 4,
   "metadata": {},
   "outputs": [
    {
     "name": "stdout",
     "output_type": "stream",
     "text": [
      "LUSID Environment Initialised\n",
      "LUSID SDK Version:  0.6.6305.0\n"
     ]
    }
   ],
   "source": [
    "import lusid as lu\n",
    "import lusid.models as lm\n",
    "from lusid.utilities import ApiClientFactory\n",
    "from lusidjam.refreshing_token import RefreshingToken\n",
    "from lusidtools.cocoon.cocoon import load_from_data_frame\n",
    "from lusidtools.cocoon.cocoon_printer import (\n",
    "    format_instruments_response,\n",
    "    format_portfolios_response,\n",
    "    format_transactions_response,\n",
    "    format_quotes_response,\n",
    ")\n",
    "from lusidtools.pandas_utils.lusid_pandas import lusid_response_to_data_frame\n",
    "\n",
    "import json\n",
    "import os\n",
    "import pandas as pd\n",
    "\n",
    "# Set pandas dataframe display formatting\n",
    "pd.set_option('display.max_columns', None)\n",
    "pd.options.display.float_format = '{:,.2f}'.format\n",
    "\n",
    "# Authenticate our user and create our API client\n",
    "secrets_path = os.getenv(\"FBN_SECRETS_PATH\")\n",
    "\n",
    "# Initiate an API Factory which is the client side object for interacting with LUSID APIs\n",
    "api_factory = lu.utilities.ApiClientFactory(\n",
    "    token=RefreshingToken(),\n",
    "    api_secrets_filename = secrets_path,\n",
    "    app_name=\"LusidJupyterNotebook\")\n",
    "\n",
    "print ('LUSID Environment Initialised')\n",
    "print ('LUSID SDK Version: ', api_factory.build(lu.api.ApplicationMetadataApi).get_lusid_versions().build_version)"
   ]
  },
  {
   "cell_type": "code",
   "execution_count": 5,
   "metadata": {},
   "outputs": [],
   "source": [
    "scope = \"relations-example\""
   ]
  },
  {
   "cell_type": "markdown",
   "metadata": {},
   "source": [
    "# Portfolios"
   ]
  },
  {
   "cell_type": "markdown",
   "metadata": {},
   "source": [
    "Set up the following portfolios with the following relations\n",
    "\n",
    "![title](relations.png)\n",
    "\n",
    "* `master` fund with a relation to 3 sub-funds\n",
    "* `subaccount1` related to `subaccount1-monthly-postions` representing a version containing monthly positions \n",
    "* `subaccount1` related to `subaccount1-abor` representing an ABOR view"
   ]
  },
  {
   "cell_type": "code",
   "execution_count": 7,
   "metadata": {},
   "outputs": [
    {
     "data": {
      "text/html": [
       "<div>\n",
       "<style scoped>\n",
       "    .dataframe tbody tr th:only-of-type {\n",
       "        vertical-align: middle;\n",
       "    }\n",
       "\n",
       "    .dataframe tbody tr th {\n",
       "        vertical-align: top;\n",
       "    }\n",
       "\n",
       "    .dataframe thead th {\n",
       "        text-align: right;\n",
       "    }\n",
       "</style>\n",
       "<table border=\"1\" class=\"dataframe\">\n",
       "  <thead>\n",
       "    <tr style=\"text-align: right;\">\n",
       "      <th></th>\n",
       "      <th>success</th>\n",
       "      <th>failed</th>\n",
       "    </tr>\n",
       "  </thead>\n",
       "  <tbody>\n",
       "    <tr>\n",
       "      <th>0</th>\n",
       "      <td>6</td>\n",
       "      <td>0</td>\n",
       "    </tr>\n",
       "  </tbody>\n",
       "</table>\n",
       "</div>"
      ],
      "text/plain": [
       "   success  failed\n",
       "0        6       0"
      ]
     },
     "execution_count": 7,
     "metadata": {},
     "output_type": "execute_result"
    }
   ],
   "source": [
    "portfolios_df = pd.DataFrame(\n",
    "    data=[\n",
    "        [\"master\", \"master\"],\n",
    "        [\"subaccount1\", \"subaccount1\"],\n",
    "        [\"subaccount2\", \"subaccount2\"],\n",
    "        [\"subaccount3\", \"subaccount3\"],\n",
    "        [\"subaccount1-monthly-postions\", \"subaccount1-monthly-postions\"],\n",
    "        [\"subaccount1-abor\", \"subaccount1-abor\"]\n",
    "    ], columns=[\"portfolio_code\", \"portfolio_name\"]\n",
    ")\n",
    "\n",
    "result = load_from_data_frame(\n",
    "    api_factory=api_factory,\n",
    "    scope=scope,\n",
    "    data_frame=portfolios_df,\n",
    "    mapping_required={\n",
    "        \"code\": \"portfolio_code\",\n",
    "        \"display_name\": \"portfolio_name\",\n",
    "        \"base_currency\": \"$GBP\",\n",
    "    },\n",
    "    mapping_optional={\n",
    "        \"created\": \"$2020-01-01T00:00:00+00:00\"\n",
    "    },\n",
    "    file_type=\"portfolios\",\n",
    ")\n",
    "\n",
    "succ, failed = format_portfolios_response(result)\n",
    "pd.DataFrame(data=[{\"success\": len(succ), \"failed\": len(failed)}])"
   ]
  },
  {
   "cell_type": "markdown",
   "metadata": {},
   "source": [
    "## Relations"
   ]
  },
  {
   "cell_type": "code",
   "execution_count": 8,
   "metadata": {},
   "outputs": [],
   "source": [
    "relation_definitions_api = api_factory.build(lu.RelationDefinitionsApi)\n",
    "relations_api = api_factory.build(lu.RelationsApi)"
   ]
  },
  {
   "cell_type": "markdown",
   "metadata": {},
   "source": [
    "## Relationship definition"
   ]
  },
  {
   "cell_type": "code",
   "execution_count": 9,
   "metadata": {},
   "outputs": [],
   "source": [
    "def create_relation_definition(code, display_name, outward_description, inward_description):\n",
    "    try:\n",
    "        relation_definitions_api.create_relation_definition(\n",
    "            create_relation_definition_request=lu.CreateRelationDefinitionRequest(\n",
    "                scope=scope, \n",
    "                code=code,\n",
    "                source_entity_domain=\"Portfolio\", \n",
    "                target_entity_domain=\"Portfolio\", \n",
    "                display_name=display_name, \n",
    "                outward_description=outward_description, \n",
    "                inward_description=inward_description, \n",
    "                life_time=\"TimeVariant\"\n",
    "            )\n",
    "        )\n",
    "        print(f\"created relation {scope}/{code}\")\n",
    "    except lu.ApiException as e:\n",
    "        body = json.loads(e.body)\n",
    "        if body[\"code\"] != 667:  # RelationDefinitionAlreadyExists\n",
    "            print(body)\n",
    "        else:\n",
    "            print(f\"relation {scope}/{code} already exists\")"
   ]
  },
  {
   "cell_type": "markdown",
   "metadata": {},
   "source": [
    "Create the Relation definitions, these are used when creating a relationship between entities"
   ]
  },
  {
   "cell_type": "code",
   "execution_count": 10,
   "metadata": {},
   "outputs": [
    {
     "name": "stdout",
     "output_type": "stream",
     "text": [
      "relation relations-example/subfund already exists\n",
      "relation relations-example/monthly-positions already exists\n",
      "relation relations-example/abor already exists\n"
     ]
    }
   ],
   "source": [
    "create_relation_definition(\"subfund\", \"Master fund link to sub-fund\", \"parent of\", \"sub-fund of\")\n",
    "create_relation_definition(\"monthly-positions\", \"Link to fund containing monthly positions\", \"daily transactions of\", \"has monthly positions of\")\n",
    "create_relation_definition(\"abor\", \"Link to fund containing ABOR\", \"IBOR of\", \"ABOR of\")"
   ]
  },
  {
   "cell_type": "code",
   "execution_count": 11,
   "metadata": {},
   "outputs": [],
   "source": [
    "def create_portfolio_relation(relation, from_portfolio, to_portfolio):\n",
    "    relations_api.create_relation(\n",
    "        \n",
    "        # the scope/code of the RelationDefinition to be created\n",
    "        scope=scope,\n",
    "        code=relation,\n",
    "        \n",
    "        create_relation_request=lm.CreateRelationRequest(\n",
    "            source_entity_id={\n",
    "                # the fields the uniquely identify the source entity\n",
    "                \"Scope\": scope,\n",
    "                \"Code\": from_portfolio\n",
    "            }, \n",
    "            target_entity_id={\n",
    "                # the fields the uniquely identify the target entity\n",
    "                \"Scope\": scope,\n",
    "                \"Code\": to_portfolio\n",
    "            })\n",
    "    )"
   ]
  },
  {
   "cell_type": "markdown",
   "metadata": {},
   "source": [
    "Create the Relation between the portfolios"
   ]
  },
  {
   "cell_type": "code",
   "execution_count": 12,
   "metadata": {},
   "outputs": [],
   "source": [
    "create_portfolio_relation(\"subfund\", \"master\", \"subaccount1\")\n",
    "create_portfolio_relation(\"subfund\", \"master\", \"subaccount2\")\n",
    "create_portfolio_relation(\"subfund\", \"master\", \"subaccount3\")\n",
    "create_portfolio_relation(\"monthly-positions\", \"subaccount1\", \"subaccount1-monthly-postions\")\n",
    "create_portfolio_relation(\"abor\", \"subaccount1\", \"subaccount1-abor\")"
   ]
  },
  {
   "cell_type": "markdown",
   "metadata": {},
   "source": [
    "## Navigate the master fund relationships"
   ]
  },
  {
   "cell_type": "markdown",
   "metadata": {},
   "source": [
    "Get the list of portfolio Relations from the `master` porfolio "
   ]
  },
  {
   "cell_type": "code",
   "execution_count": 13,
   "metadata": {},
   "outputs": [],
   "source": [
    "portfolios_api = api_factory.build(lu.PortfoliosApi)"
   ]
  },
  {
   "cell_type": "code",
   "execution_count": 14,
   "metadata": {},
   "outputs": [
    {
     "data": {
      "text/html": [
       "<div>\n",
       "<style scoped>\n",
       "    .dataframe tbody tr th:only-of-type {\n",
       "        vertical-align: middle;\n",
       "    }\n",
       "\n",
       "    .dataframe tbody tr th {\n",
       "        vertical-align: top;\n",
       "    }\n",
       "\n",
       "    .dataframe thead th {\n",
       "        text-align: right;\n",
       "    }\n",
       "</style>\n",
       "<table border=\"1\" class=\"dataframe\">\n",
       "  <thead>\n",
       "    <tr style=\"text-align: right;\">\n",
       "      <th></th>\n",
       "      <th>relation_definition_id.scope</th>\n",
       "      <th>relation_definition_id.code</th>\n",
       "      <th>related_entity_id.EntityType</th>\n",
       "      <th>related_entity_id.Scope</th>\n",
       "      <th>related_entity_id.Code</th>\n",
       "      <th>traversal_direction</th>\n",
       "      <th>traversal_description</th>\n",
       "      <th>effective_from</th>\n",
       "    </tr>\n",
       "  </thead>\n",
       "  <tbody>\n",
       "    <tr>\n",
       "      <th>0</th>\n",
       "      <td>relations-example</td>\n",
       "      <td>subfund</td>\n",
       "      <td>Portfolio</td>\n",
       "      <td>relations-example</td>\n",
       "      <td>subaccount3</td>\n",
       "      <td>Out</td>\n",
       "      <td>parent of</td>\n",
       "      <td>0001-01-01 00:00:00+00:00</td>\n",
       "    </tr>\n",
       "    <tr>\n",
       "      <th>1</th>\n",
       "      <td>relations-example</td>\n",
       "      <td>subfund</td>\n",
       "      <td>Portfolio</td>\n",
       "      <td>relations-example</td>\n",
       "      <td>subaccount2</td>\n",
       "      <td>Out</td>\n",
       "      <td>parent of</td>\n",
       "      <td>0001-01-01 00:00:00+00:00</td>\n",
       "    </tr>\n",
       "    <tr>\n",
       "      <th>2</th>\n",
       "      <td>relations-example</td>\n",
       "      <td>subfund</td>\n",
       "      <td>Portfolio</td>\n",
       "      <td>relations-example</td>\n",
       "      <td>subaccount1</td>\n",
       "      <td>Out</td>\n",
       "      <td>parent of</td>\n",
       "      <td>0001-01-01 00:00:00+00:00</td>\n",
       "    </tr>\n",
       "  </tbody>\n",
       "</table>\n",
       "</div>"
      ],
      "text/plain": [
       "  relation_definition_id.scope relation_definition_id.code  \\\n",
       "0            relations-example                     subfund   \n",
       "1            relations-example                     subfund   \n",
       "2            relations-example                     subfund   \n",
       "\n",
       "  related_entity_id.EntityType related_entity_id.Scope related_entity_id.Code  \\\n",
       "0                    Portfolio       relations-example            subaccount3   \n",
       "1                    Portfolio       relations-example            subaccount2   \n",
       "2                    Portfolio       relations-example            subaccount1   \n",
       "\n",
       "  traversal_direction traversal_description             effective_from  \n",
       "0                 Out             parent of  0001-01-01 00:00:00+00:00  \n",
       "1                 Out             parent of  0001-01-01 00:00:00+00:00  \n",
       "2                 Out             parent of  0001-01-01 00:00:00+00:00  "
      ]
     },
     "execution_count": 14,
     "metadata": {},
     "output_type": "execute_result"
    }
   ],
   "source": [
    "sub_funds = portfolios_api.get_portfolio_relations(scope, \"master\")\n",
    "lusid_response_to_data_frame(sub_funds.values)"
   ]
  },
  {
   "cell_type": "markdown",
   "metadata": {},
   "source": [
    "## `subaccount1` relations"
   ]
  },
  {
   "cell_type": "markdown",
   "metadata": {},
   "source": [
    "Get the relations for `subaccount1`. There is the Relation `in` from portfolio `master`, and 2 `out` Relations to the `subaccount1-monthly-postions` and `subaccount1-abor` portfolios"
   ]
  },
  {
   "cell_type": "code",
   "execution_count": 15,
   "metadata": {},
   "outputs": [
    {
     "data": {
      "text/html": [
       "<div>\n",
       "<style scoped>\n",
       "    .dataframe tbody tr th:only-of-type {\n",
       "        vertical-align: middle;\n",
       "    }\n",
       "\n",
       "    .dataframe tbody tr th {\n",
       "        vertical-align: top;\n",
       "    }\n",
       "\n",
       "    .dataframe thead th {\n",
       "        text-align: right;\n",
       "    }\n",
       "</style>\n",
       "<table border=\"1\" class=\"dataframe\">\n",
       "  <thead>\n",
       "    <tr style=\"text-align: right;\">\n",
       "      <th></th>\n",
       "      <th>relation_definition_id.scope</th>\n",
       "      <th>relation_definition_id.code</th>\n",
       "      <th>related_entity_id.EntityType</th>\n",
       "      <th>related_entity_id.Scope</th>\n",
       "      <th>related_entity_id.Code</th>\n",
       "      <th>traversal_direction</th>\n",
       "      <th>traversal_description</th>\n",
       "      <th>effective_from</th>\n",
       "    </tr>\n",
       "  </thead>\n",
       "  <tbody>\n",
       "    <tr>\n",
       "      <th>0</th>\n",
       "      <td>relations-example</td>\n",
       "      <td>monthly-positions</td>\n",
       "      <td>Portfolio</td>\n",
       "      <td>relations-example</td>\n",
       "      <td>subaccount1-monthly-postions</td>\n",
       "      <td>Out</td>\n",
       "      <td>daily transactions of</td>\n",
       "      <td>0001-01-01 00:00:00+00:00</td>\n",
       "    </tr>\n",
       "    <tr>\n",
       "      <th>1</th>\n",
       "      <td>relations-example</td>\n",
       "      <td>abor</td>\n",
       "      <td>Portfolio</td>\n",
       "      <td>relations-example</td>\n",
       "      <td>subaccount1-abor</td>\n",
       "      <td>Out</td>\n",
       "      <td>IBOR of</td>\n",
       "      <td>0001-01-01 00:00:00+00:00</td>\n",
       "    </tr>\n",
       "    <tr>\n",
       "      <th>2</th>\n",
       "      <td>relations-example</td>\n",
       "      <td>subfund</td>\n",
       "      <td>Portfolio</td>\n",
       "      <td>relations-example</td>\n",
       "      <td>master</td>\n",
       "      <td>In</td>\n",
       "      <td>sub-fund of</td>\n",
       "      <td>0001-01-01 00:00:00+00:00</td>\n",
       "    </tr>\n",
       "  </tbody>\n",
       "</table>\n",
       "</div>"
      ],
      "text/plain": [
       "  relation_definition_id.scope relation_definition_id.code  \\\n",
       "0            relations-example           monthly-positions   \n",
       "1            relations-example                        abor   \n",
       "2            relations-example                     subfund   \n",
       "\n",
       "  related_entity_id.EntityType related_entity_id.Scope  \\\n",
       "0                    Portfolio       relations-example   \n",
       "1                    Portfolio       relations-example   \n",
       "2                    Portfolio       relations-example   \n",
       "\n",
       "         related_entity_id.Code traversal_direction  traversal_description  \\\n",
       "0  subaccount1-monthly-postions                 Out  daily transactions of   \n",
       "1              subaccount1-abor                 Out                IBOR of   \n",
       "2                        master                  In            sub-fund of   \n",
       "\n",
       "              effective_from  \n",
       "0  0001-01-01 00:00:00+00:00  \n",
       "1  0001-01-01 00:00:00+00:00  \n",
       "2  0001-01-01 00:00:00+00:00  "
      ]
     },
     "metadata": {},
     "output_type": "display_data"
    }
   ],
   "source": [
    "subaccount1_relations = portfolios_api.get_portfolio_relations(scope, \"subaccount1\")\n",
    "display(lusid_response_to_data_frame(subaccount1_relations.values))"
   ]
  },
  {
   "cell_type": "markdown",
   "metadata": {},
   "source": [
    "## Get the related monthly positions for `subaccount1`"
   ]
  },
  {
   "cell_type": "code",
   "execution_count": 16,
   "metadata": {},
   "outputs": [
    {
     "data": {
      "text/html": [
       "<div>\n",
       "<style scoped>\n",
       "    .dataframe tbody tr th:only-of-type {\n",
       "        vertical-align: middle;\n",
       "    }\n",
       "\n",
       "    .dataframe tbody tr th {\n",
       "        vertical-align: top;\n",
       "    }\n",
       "\n",
       "    .dataframe thead th {\n",
       "        text-align: right;\n",
       "    }\n",
       "</style>\n",
       "<table border=\"1\" class=\"dataframe\">\n",
       "  <thead>\n",
       "    <tr style=\"text-align: right;\">\n",
       "      <th></th>\n",
       "      <th>scope</th>\n",
       "      <th>code</th>\n",
       "      <th>display_name</th>\n",
       "    </tr>\n",
       "  </thead>\n",
       "  <tbody>\n",
       "    <tr>\n",
       "      <th>0</th>\n",
       "      <td>relations-example</td>\n",
       "      <td>subaccount1-monthly-postions</td>\n",
       "      <td>subaccount1-monthly-postions</td>\n",
       "    </tr>\n",
       "  </tbody>\n",
       "</table>\n",
       "</div>"
      ],
      "text/plain": [
       "               scope                          code  \\\n",
       "0  relations-example  subaccount1-monthly-postions   \n",
       "\n",
       "                   display_name  \n",
       "0  subaccount1-monthly-postions  "
      ]
     },
     "execution_count": 16,
     "metadata": {},
     "output_type": "execute_result"
    }
   ],
   "source": [
    "monthly_relation = list(filter(lambda relation: relation.related_entity_id[\"Code\"] == \"subaccount1-monthly-postions\", subaccount1_relations.values))\n",
    "\n",
    "portfolio = portfolios_api.get_portfolio(\n",
    "    scope=monthly_relation[0].related_entity_id[\"Scope\"],\n",
    "    code=monthly_relation[0].related_entity_id[\"Code\"],\n",
    ")\n",
    "\n",
    "pd.DataFrame([{\n",
    "    \"scope\": portfolio.id.scope,\n",
    "    \"code\": portfolio.id.code,\n",
    "    \"display_name\": portfolio.display_name\n",
    "}])"
   ]
  },
  {
   "cell_type": "markdown",
   "metadata": {},
   "source": [
    "## Get the group membership for `subaccount1`"
   ]
  },
  {
   "cell_type": "code",
   "execution_count": 17,
   "metadata": {},
   "outputs": [
    {
     "data": {
      "text/html": [
       "<div>\n",
       "<style scoped>\n",
       "    .dataframe tbody tr th:only-of-type {\n",
       "        vertical-align: middle;\n",
       "    }\n",
       "\n",
       "    .dataframe tbody tr th {\n",
       "        vertical-align: top;\n",
       "    }\n",
       "\n",
       "    .dataframe thead th {\n",
       "        text-align: right;\n",
       "    }\n",
       "</style>\n",
       "<table border=\"1\" class=\"dataframe\">\n",
       "  <thead>\n",
       "    <tr style=\"text-align: right;\">\n",
       "      <th></th>\n",
       "      <th>scope</th>\n",
       "      <th>code</th>\n",
       "      <th>display_name</th>\n",
       "    </tr>\n",
       "  </thead>\n",
       "  <tbody>\n",
       "    <tr>\n",
       "      <th>0</th>\n",
       "      <td>relations-example</td>\n",
       "      <td>master</td>\n",
       "      <td>master</td>\n",
       "    </tr>\n",
       "  </tbody>\n",
       "</table>\n",
       "</div>"
      ],
      "text/plain": [
       "               scope    code display_name\n",
       "0  relations-example  master       master"
      ]
     },
     "execution_count": 17,
     "metadata": {},
     "output_type": "execute_result"
    }
   ],
   "source": [
    "def relation_filter(relation):\n",
    "    return relation.related_entity_id[\"Code\"] == \"master\" and relation.traversal_direction == \"In\"\n",
    "\n",
    "group_relation = list(filter(relation_filter, subaccount1_relations.values))\n",
    "\n",
    "portfolio = portfolios_api.get_portfolio(\n",
    "    scope=group_relation[0].related_entity_id[\"Scope\"],\n",
    "    code=group_relation[0].related_entity_id[\"Code\"],\n",
    ")\n",
    "\n",
    "pd.DataFrame([{\n",
    "    \"scope\": portfolio.id.scope,\n",
    "    \"code\": portfolio.id.code,\n",
    "    \"display_name\": portfolio.display_name\n",
    "}])"
   ]
  }
 ],
 "metadata": {
  "kernelspec": {
   "display_name": "Python 3",
   "language": "python",
   "name": "python3"
  },
  "language_info": {
   "codemirror_mode": {
    "name": "ipython",
    "version": 3
   },
   "file_extension": ".py",
   "mimetype": "text/x-python",
   "name": "python",
   "nbconvert_exporter": "python",
   "pygments_lexer": "ipython3",
   "version": "3.7.6"
  }
 },
 "nbformat": 4,
 "nbformat_minor": 5
}
