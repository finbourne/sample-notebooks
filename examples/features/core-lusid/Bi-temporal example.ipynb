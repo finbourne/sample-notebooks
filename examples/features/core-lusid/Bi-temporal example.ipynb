{
 "cells": [
  {
   "cell_type": "markdown",
   "metadata": {},
   "source": [
    "# As at Date demonstration Example"
   ]
  },
  {
   "cell_type": "markdown",
   "metadata": {},
   "source": [
    "This notebook will demonstrate how the As At date can be used to get data from different system dates.\n",
    "\n",
    "An asset manager has a portfolio into which they load daily transactions for a week, including a corporate action dividend. Towards the end of the week, two corrections were made to the transaction posted on Day 1. At the end of the week they want to generate holdings for each day, calculated before and after each correction was made.\n",
    "\n",
    "## Load transactions\n",
    "- Day 1 :\n",
    "Load transactions\n",
    "- Day 2 :\n",
    "Load Dividend corporate action and Funds In\n",
    "- Day 3 :\n",
    "nothing logged\n",
    "- Day 4 :\n",
    "Load in more transactions, including a correction to the trade on Day 1, and a transaction that occured on Day 3\n",
    "- Day 5 : \n",
    "Correct another transaction for Day 1\n",
    "\n",
    "### Get holdings of Day 1 calculated each day of the week\n",
    "The asset manager can track how the holdings on Day 1 changed throughout the week as corrections were made by calling the `get holdings` endpoint with effective date `Day 1` and As At dates on the following days\n",
    "\n",
    "|   | As-At: 1  |  As-At: 2 |  As-At: 3 | As-At: 4  | As-At: 5  |\n",
    "|---|---|---|---|---|---|\n",
    "| Eff: 1  |  hld | hld | hld | hld | hld |\n",
    "\n",
    "### Get holdings for each day, calculated any day of the week\n",
    "The same approach can be used to get analyse corrections made for every other day of the week.\n",
    "\n",
    "|   | As-At: 1  |  As-At: 2 |  As-At: 3 | As-At: 4  | As-At: 5  |\n",
    "|---|---|---|---|---|---|\n",
    "| Eff: 1  |  hld | hld | hld | hld | hld |\n",
    "|  Eff: 2 |  - |  hld | hld | hld | hld |\n",
    "|  Eff: 3 |  - |  - |  hld | hld | hld |\n",
    "|  Eff: 4 | -  | -  | -  | hld  | hld |\n",
    "|  Eff: 5 | -  | -  | -  |  - | hld  |\n",
    "\n"
   ]
  },
  {
   "cell_type": "markdown",
   "metadata": {},
   "source": [
    "Firstly we begin by importing the modules we will be using. This tutorial will use `lusidtools`, a package that contains utility functions for preparing and uploading data using the lusid-python-sdk."
   ]
  },
  {
   "cell_type": "code",
   "execution_count": 1,
   "metadata": {
    "scrolled": true
   },
   "outputs": [
    {
     "name": "stdout",
     "output_type": "stream",
     "text": [
      "LUSID Environment Initialised\n",
      "LUSID version :  0.5.4241.0\n",
      "Scope: As_at_DEMO-3857-e37b-a59e-c4\n",
      "Code: PORT_0001\n"
     ]
    }
   ],
   "source": [
    "import os\n",
    "import lusid\n",
    "import copy\n",
    "import matplotlib.pyplot as plt\n",
    "from lusidtools.cocoon import load_from_data_frame\n",
    "from lusidtools.cocoon.utilities import create_scope_id, identify_cash_items\n",
    "from lusid.utilities import ApiClientFactory\n",
    "from lusidtools.cocoon.transaction_type_upload import (\n",
    "    create_transaction_type_configuration,\n",
    ")\n",
    "from lusidtools.cocoon.dateorcutlabel import DateOrCutLabel\n",
    "from lusidjam import RefreshingToken\n",
    "import pandas as pd\n",
    "from lusidtools.cocoon.cocoon_printer import (\n",
    "    format_instruments_response,\n",
    "    format_portfolios_response,\n",
    "    format_transactions_response,\n",
    "    format_quotes_response\n",
    ")\n",
    "\n",
    "# Authenticate our user and create our API client\n",
    "secrets_path = os.getenv(\"FBN_SECRETS_PATH\")\n",
    "\n",
    "api_factory = lusid.utilities.ApiClientFactory(\n",
    "    token=RefreshingToken(),\n",
    "    api_secrets_filename = secrets_path,\n",
    "    app_name=\"LusidJupyterNotebook\")\n",
    "\n",
    "print('LUSID Environment Initialised')\n",
    "print('LUSID version : ', api_factory.build(lusid.api.ApplicationMetadataApi).get_lusid_versions().build_version)\n",
    "\n",
    "# Define our scope and portfolio code\n",
    "scope = \"As_at_DEMO-\"+ create_scope_id()\n",
    "code = \"PORT_0001\"\n",
    "print(f\"Scope: {scope}\")\n",
    "print(f\"Code: {code}\")"
   ]
  },
  {
   "cell_type": "markdown",
   "metadata": {},
   "source": [
    "## Load Transaction data for each day"
   ]
  },
  {
   "cell_type": "code",
   "execution_count": 2,
   "metadata": {},
   "outputs": [],
   "source": [
    "days = [\"Day1\", \"Day2\", \"Day3\", \"Day4\", \"Day5\"]\n",
    "\n",
    "convert = {\n",
    "    'txn_date': str,\n",
    "    'settle_date': str,\n",
    "}\n",
    "\n",
    "# Load Data for each day\n",
    "txn_data_1 = pd.read_excel(\"./data/as-at-POC-txns.xlsx\", sheet_name=days[0], converters=convert)\n",
    "txn_data_2 = pd.read_excel(\"./data/as-at-POC-txns.xlsx\", sheet_name=days[1], converters=convert)\n",
    "txn_data_3 = pd.read_excel(\"./data/as-at-POC-txns.xlsx\", sheet_name=days[2], converters=convert)\n",
    "txn_data_4 = pd.read_excel(\"./data/as-at-POC-txns.xlsx\", sheet_name=days[3], converters=convert)\n",
    "txn_data_5 = pd.read_excel(\"./data/as-at-POC-txns.xlsx\", sheet_name=days[4], converters=convert)\n"
   ]
  },
  {
   "cell_type": "markdown",
   "metadata": {},
   "source": [
    "This dictionary maps the required LUSID fields to the columns in the data files"
   ]
  },
  {
   "cell_type": "code",
   "execution_count": 3,
   "metadata": {},
   "outputs": [],
   "source": [
    "mapping = {\n",
    "    \"instruments\" : {\n",
    "        \"identifier_mapping\": {\n",
    "            \"ClientInternal\": \"Internal_id\",\n",
    "        },\n",
    "        \"required\": {\n",
    "            \"name\": \"instr_id\"\n",
    "        },\n",
    "    },\n",
    "    \"portfolios\": {\n",
    "        \"required\": {\n",
    "            \"code\": \"Portfolio\",\n",
    "            \"display_name\":  \"$As-at_POC\",\n",
    "            \"base_currency\": \"$GBP\",\n",
    "            \"created\": \"$2018-01-01T00:00:00+00:00\"\n",
    "        },\n",
    "    },\n",
    "    \"transactions\": {\n",
    "        \"identifier_mapping\" : {\n",
    "            \"ClientInternal\" : \"Internal_id\",\n",
    "            \"Name\" : \"instr_id\"\n",
    "        },\n",
    "        \"required\" : {\n",
    "            \"code\": \"Portfolio\",\n",
    "            \"transaction_id\": \"txn_id\",\n",
    "            \"type\": \"type\",\n",
    "            \"transaction_price.price\": \"price\",\n",
    "            \"transaction_price.type\": \"$Price\",                   # example of literal values\n",
    "            \"total_consideration.amount\": \"amount\",\n",
    "            \"units\": \"units\",\n",
    "            \"transaction_date\": \"txn_date\",\n",
    "            \"transaction_currency\": \"trade_currency\",\n",
    "            \"total_consideration.currency\": \"trade_currency\",\n",
    "            \"settlement_date\": \"settle_date\"\n",
    "        },\n",
    "        \"properties\": [\n",
    "            \"description\"\n",
    "        ]\n",
    "    },\n",
    "    \"cash_flag\": {\n",
    "        \"cash_identifiers\": {\n",
    "            \"Internal_id\" : [\"GBP\"]\n",
    "        },\n",
    "        \"implicit\": \"trade_currency\"\n",
    "    }\n",
    "}"
   ]
  },
  {
   "cell_type": "markdown",
   "metadata": {},
   "source": [
    "# Load Instrument master\n",
    "\n",
    "We will begin by uploading our instruments to LUSID from our security master. Once uploaded, LUSID will attempt to resolve any transactions or holdings against this. Any new instruments that cannot be resolved will be given a sudo ID until the updated security master is loaded, at which point any unresolved instruments will be updated. \n",
    "\n",
    "See the follwoing support articals for more details on resolving instruments in LUSID:\n",
    "\n",
    "[Resolving instruments in LUSID](https://support.finbourne.com/how-does-lusid-resolve-instruments)\n",
    "\n",
    "[Unknown  instruments in LUSID](https://support.finbourne.com/what-is-the-unknown-instrument)\n",
    "\n",
    "We have enough detail in the transaction file to populate a security master, so the inital instruments will be upserted using the transaction file as the source data.\n"
   ]
  },
  {
   "cell_type": "code",
   "execution_count": 4,
   "metadata": {},
   "outputs": [
    {
     "data": {
      "text/html": [
       "<div>\n",
       "<style scoped>\n",
       "    .dataframe tbody tr th:only-of-type {\n",
       "        vertical-align: middle;\n",
       "    }\n",
       "\n",
       "    .dataframe tbody tr th {\n",
       "        vertical-align: top;\n",
       "    }\n",
       "\n",
       "    .dataframe thead th {\n",
       "        text-align: right;\n",
       "    }\n",
       "</style>\n",
       "<table border=\"1\" class=\"dataframe\">\n",
       "  <thead>\n",
       "    <tr style=\"text-align: right;\">\n",
       "      <th></th>\n",
       "      <th>Portfolio</th>\n",
       "      <th>txn_id</th>\n",
       "      <th>txn_date</th>\n",
       "      <th>settle_date</th>\n",
       "      <th>units</th>\n",
       "      <th>price</th>\n",
       "      <th>amount</th>\n",
       "      <th>trade_currency</th>\n",
       "      <th>instr_id</th>\n",
       "      <th>Internal_id</th>\n",
       "      <th>type</th>\n",
       "      <th>description</th>\n",
       "    </tr>\n",
       "  </thead>\n",
       "  <tbody>\n",
       "    <tr>\n",
       "      <th>0</th>\n",
       "      <td>PORT_0001</td>\n",
       "      <td>txn_0001</td>\n",
       "      <td>2020-03-01</td>\n",
       "      <td>2020-03-01</td>\n",
       "      <td>80</td>\n",
       "      <td>20</td>\n",
       "      <td>2000</td>\n",
       "      <td>GBP</td>\n",
       "      <td>AVIVA</td>\n",
       "      <td>ID_aa001</td>\n",
       "      <td>StockIn</td>\n",
       "      <td>NaN</td>\n",
       "    </tr>\n",
       "    <tr>\n",
       "      <th>2</th>\n",
       "      <td>PORT_0001</td>\n",
       "      <td>txn_0003</td>\n",
       "      <td>2020-03-03</td>\n",
       "      <td>2020-03-05</td>\n",
       "      <td>100</td>\n",
       "      <td>50</td>\n",
       "      <td>2000</td>\n",
       "      <td>GBP</td>\n",
       "      <td>VOD</td>\n",
       "      <td>ID_aa002</td>\n",
       "      <td>Buy</td>\n",
       "      <td>NaN</td>\n",
       "    </tr>\n",
       "    <tr>\n",
       "      <th>3</th>\n",
       "      <td>PORT_0001</td>\n",
       "      <td>txn_0004</td>\n",
       "      <td>2020-03-04</td>\n",
       "      <td>2020-03-05</td>\n",
       "      <td>100</td>\n",
       "      <td>80</td>\n",
       "      <td>2000</td>\n",
       "      <td>GBP</td>\n",
       "      <td>BP</td>\n",
       "      <td>ID_aa003</td>\n",
       "      <td>Buy</td>\n",
       "      <td>NaN</td>\n",
       "    </tr>\n",
       "  </tbody>\n",
       "</table>\n",
       "</div>"
      ],
      "text/plain": [
       "   Portfolio    txn_id    txn_date settle_date  units  price  amount  \\\n",
       "0  PORT_0001  txn_0001  2020-03-01  2020-03-01     80     20    2000   \n",
       "2  PORT_0001  txn_0003  2020-03-03  2020-03-05    100     50    2000   \n",
       "3  PORT_0001  txn_0004  2020-03-04  2020-03-05    100     80    2000   \n",
       "\n",
       "  trade_currency instr_id Internal_id     type  description  \n",
       "0            GBP    AVIVA    ID_aa001  StockIn          NaN  \n",
       "2            GBP      VOD    ID_aa002      Buy          NaN  \n",
       "3            GBP       BP    ID_aa003      Buy          NaN  "
      ]
     },
     "execution_count": 4,
     "metadata": {},
     "output_type": "execute_result"
    }
   ],
   "source": [
    "# Data to be used to populate instrument master\n",
    "txn_data_4.drop_duplicates(subset=[mapping[\"instruments\"][\"identifier_mapping\"][\"ClientInternal\"]])"
   ]
  },
  {
   "cell_type": "code",
   "execution_count": 5,
   "metadata": {
    "scrolled": true
   },
   "outputs": [
    {
     "data": {
      "text/html": [
       "<div>\n",
       "<style scoped>\n",
       "    .dataframe tbody tr th:only-of-type {\n",
       "        vertical-align: middle;\n",
       "    }\n",
       "\n",
       "    .dataframe tbody tr th {\n",
       "        vertical-align: top;\n",
       "    }\n",
       "\n",
       "    .dataframe thead th {\n",
       "        text-align: right;\n",
       "    }\n",
       "</style>\n",
       "<table border=\"1\" class=\"dataframe\">\n",
       "  <thead>\n",
       "    <tr style=\"text-align: right;\">\n",
       "      <th></th>\n",
       "      <th>success</th>\n",
       "      <th>failed</th>\n",
       "      <th>errors</th>\n",
       "    </tr>\n",
       "  </thead>\n",
       "  <tbody>\n",
       "    <tr>\n",
       "      <th>0</th>\n",
       "      <td>3</td>\n",
       "      <td>0</td>\n",
       "      <td>0</td>\n",
       "    </tr>\n",
       "  </tbody>\n",
       "</table>\n",
       "</div>"
      ],
      "text/plain": [
       "   success  failed  errors\n",
       "0        3       0       0"
      ]
     },
     "execution_count": 5,
     "metadata": {},
     "output_type": "execute_result"
    }
   ],
   "source": [
    "# Call LUSID to upsert instruments\n",
    "response = load_from_data_frame(\n",
    "        api_factory=api_factory,\n",
    "        scope=scope,\n",
    "        data_frame=copy.deepcopy(txn_data_4.drop_duplicates(subset=[mapping[\"instruments\"][\"identifier_mapping\"][\"ClientInternal\"]])),\n",
    "        mapping_required=mapping[\"instruments\"][\"required\"],\n",
    "        file_type=\"instruments\",\n",
    "        mapping_optional={},\n",
    "        identifier_mapping=mapping[\"instruments\"][\"identifier_mapping\"]\n",
    ")\n",
    "\n",
    "# format response object\n",
    "success, failed, errors = format_instruments_response(response)\n",
    "\n",
    "pd.DataFrame(data=[{\"success\": len(success), \"failed\": len(failed), \"errors\": len(errors)}])"
   ]
  },
  {
   "cell_type": "markdown",
   "metadata": {},
   "source": [
    "## Create Portfolio\n",
    "\n",
    "Next we will create a portfolio in LUSID into which we will upsert transactions."
   ]
  },
  {
   "cell_type": "code",
   "execution_count": 6,
   "metadata": {
    "scrolled": true
   },
   "outputs": [
    {
     "data": {
      "text/html": [
       "<div>\n",
       "<style scoped>\n",
       "    .dataframe tbody tr th:only-of-type {\n",
       "        vertical-align: middle;\n",
       "    }\n",
       "\n",
       "    .dataframe tbody tr th {\n",
       "        vertical-align: top;\n",
       "    }\n",
       "\n",
       "    .dataframe thead th {\n",
       "        text-align: right;\n",
       "    }\n",
       "</style>\n",
       "<table border=\"1\" class=\"dataframe\">\n",
       "  <thead>\n",
       "    <tr style=\"text-align: right;\">\n",
       "      <th></th>\n",
       "      <th>success</th>\n",
       "      <th>failed</th>\n",
       "      <th>errors</th>\n",
       "    </tr>\n",
       "  </thead>\n",
       "  <tbody>\n",
       "    <tr>\n",
       "      <th>0</th>\n",
       "      <td>1</td>\n",
       "      <td>0</td>\n",
       "      <td>0</td>\n",
       "    </tr>\n",
       "  </tbody>\n",
       "</table>\n",
       "</div>"
      ],
      "text/plain": [
       "   success  failed  errors\n",
       "0        1       0       0"
      ]
     },
     "execution_count": 6,
     "metadata": {},
     "output_type": "execute_result"
    }
   ],
   "source": [
    "# call LUSID to create a portfolio or update details of an existing portfolio\n",
    "response = load_from_data_frame(\n",
    "        api_factory=api_factory,\n",
    "        scope=scope,\n",
    "        data_frame=copy.deepcopy(txn_data_1),\n",
    "        mapping_required=mapping[\"portfolios\"][\"required\"],\n",
    "        file_type=\"portfolios\",\n",
    "        mapping_optional={},\n",
    ")\n",
    "\n",
    "# format response object\n",
    "success, errors = format_portfolios_response(response)\n",
    "\n",
    "pd.DataFrame(data=[{\"success\": len(success), \"failed\": len(failed), \"errors\": len(errors)}])"
   ]
  },
  {
   "cell_type": "markdown",
   "metadata": {},
   "source": [
    "# Upsert transactions\n",
    "\n",
    "With a portfolio created in LUSID, We can now begin to upsert transactions on a daily basis."
   ]
  },
  {
   "cell_type": "markdown",
   "metadata": {},
   "source": [
    "## Day 1\n",
    "\n",
    "Load transactions\n",
    "\n",
    "Today one trade was made, 100 units of AVIVA. The details are upserted to LUSID using the following code."
   ]
  },
  {
   "cell_type": "code",
   "execution_count": 7,
   "metadata": {},
   "outputs": [
    {
     "data": {
      "text/html": [
       "<div>\n",
       "<style scoped>\n",
       "    .dataframe tbody tr th:only-of-type {\n",
       "        vertical-align: middle;\n",
       "    }\n",
       "\n",
       "    .dataframe tbody tr th {\n",
       "        vertical-align: top;\n",
       "    }\n",
       "\n",
       "    .dataframe thead th {\n",
       "        text-align: right;\n",
       "    }\n",
       "</style>\n",
       "<table border=\"1\" class=\"dataframe\">\n",
       "  <thead>\n",
       "    <tr style=\"text-align: right;\">\n",
       "      <th></th>\n",
       "      <th>Portfolio</th>\n",
       "      <th>txn_id</th>\n",
       "      <th>txn_date</th>\n",
       "      <th>settle_date</th>\n",
       "      <th>units</th>\n",
       "      <th>price</th>\n",
       "      <th>amount</th>\n",
       "      <th>trade_currency</th>\n",
       "      <th>instr_id</th>\n",
       "      <th>Internal_id</th>\n",
       "      <th>type</th>\n",
       "      <th>description</th>\n",
       "    </tr>\n",
       "  </thead>\n",
       "  <tbody>\n",
       "    <tr>\n",
       "      <th>0</th>\n",
       "      <td>PORT_0001</td>\n",
       "      <td>txn_0001</td>\n",
       "      <td>2020-03-01</td>\n",
       "      <td>2020-03-01</td>\n",
       "      <td>100</td>\n",
       "      <td>20</td>\n",
       "      <td>2000</td>\n",
       "      <td>GBP</td>\n",
       "      <td>AVIVA</td>\n",
       "      <td>ID_aa001</td>\n",
       "      <td>StockIn</td>\n",
       "      <td>NaN</td>\n",
       "    </tr>\n",
       "  </tbody>\n",
       "</table>\n",
       "</div>"
      ],
      "text/plain": [
       "   Portfolio    txn_id    txn_date settle_date  units  price  amount  \\\n",
       "0  PORT_0001  txn_0001  2020-03-01  2020-03-01    100     20    2000   \n",
       "\n",
       "  trade_currency instr_id Internal_id     type  description  \n",
       "0            GBP    AVIVA    ID_aa001  StockIn          NaN  "
      ]
     },
     "execution_count": 7,
     "metadata": {},
     "output_type": "execute_result"
    }
   ],
   "source": [
    "# Day 1 transactions\n",
    "txn_data_1"
   ]
  },
  {
   "cell_type": "code",
   "execution_count": 8,
   "metadata": {
    "scrolled": true
   },
   "outputs": [
    {
     "name": "stdout",
     "output_type": "stream",
     "text": [
      "Day1 As At Date: 2020-04-03 14:15:23.870618+00:00\n"
     ]
    },
    {
     "data": {
      "text/html": [
       "<div>\n",
       "<style scoped>\n",
       "    .dataframe tbody tr th:only-of-type {\n",
       "        vertical-align: middle;\n",
       "    }\n",
       "\n",
       "    .dataframe tbody tr th {\n",
       "        vertical-align: top;\n",
       "    }\n",
       "\n",
       "    .dataframe thead th {\n",
       "        text-align: right;\n",
       "    }\n",
       "</style>\n",
       "<table border=\"1\" class=\"dataframe\">\n",
       "  <thead>\n",
       "    <tr style=\"text-align: right;\">\n",
       "      <th></th>\n",
       "      <th>success</th>\n",
       "      <th>errors</th>\n",
       "    </tr>\n",
       "  </thead>\n",
       "  <tbody>\n",
       "    <tr>\n",
       "      <th>0</th>\n",
       "      <td>1</td>\n",
       "      <td>0</td>\n",
       "    </tr>\n",
       "  </tbody>\n",
       "</table>\n",
       "</div>"
      ],
      "text/plain": [
       "   success  errors\n",
       "0        1       0"
      ]
     },
     "execution_count": 8,
     "metadata": {},
     "output_type": "execute_result"
    }
   ],
   "source": [
    "# call LUSID to upsert transactions\n",
    "response = load_from_data_frame(\n",
    "        api_factory=api_factory,\n",
    "        scope=scope,\n",
    "        data_frame=txn_data_1,\n",
    "        mapping_required=mapping[\"transactions\"][\"required\"],\n",
    "        file_type=\"transactions\",\n",
    "        mapping_optional={},\n",
    "        identifier_mapping=mapping[\"transactions\"][\"identifier_mapping\"]\n",
    ")\n",
    "\n",
    "# format response object\n",
    "success, errors = format_transactions_response(response)\n",
    "\n",
    "# Store the date at which these transactions were set\n",
    "if len(errors) == 0:\n",
    "    Day1_as_at_date = response[\"transactions\"][\"success\"][0].version.as_at_date\n",
    "    print(f\"Day1 As At Date: {str(Day1_as_at_date)}\")\n",
    "    \n",
    "pd.DataFrame(data=[{\"success\": len(success), \"errors\": len(errors)}])"
   ]
  },
  {
   "cell_type": "markdown",
   "metadata": {},
   "source": [
    "## Day 2\n",
    "Add funds and upload Dividend as a transaction\n",
    "\n",
    "Today Funds were put into the account and a dividend was issued for AVIVA which in this case is represented as a transaction."
   ]
  },
  {
   "cell_type": "code",
   "execution_count": 9,
   "metadata": {
    "scrolled": false
   },
   "outputs": [
    {
     "data": {
      "text/html": [
       "<div>\n",
       "<style scoped>\n",
       "    .dataframe tbody tr th:only-of-type {\n",
       "        vertical-align: middle;\n",
       "    }\n",
       "\n",
       "    .dataframe tbody tr th {\n",
       "        vertical-align: top;\n",
       "    }\n",
       "\n",
       "    .dataframe thead th {\n",
       "        text-align: right;\n",
       "    }\n",
       "</style>\n",
       "<table border=\"1\" class=\"dataframe\">\n",
       "  <thead>\n",
       "    <tr style=\"text-align: right;\">\n",
       "      <th></th>\n",
       "      <th>Portfolio</th>\n",
       "      <th>txn_id</th>\n",
       "      <th>txn_date</th>\n",
       "      <th>settle_date</th>\n",
       "      <th>units</th>\n",
       "      <th>price</th>\n",
       "      <th>amount</th>\n",
       "      <th>trade_currency</th>\n",
       "      <th>instr_id</th>\n",
       "      <th>Internal_id</th>\n",
       "      <th>type</th>\n",
       "      <th>description</th>\n",
       "    </tr>\n",
       "  </thead>\n",
       "  <tbody>\n",
       "    <tr>\n",
       "      <th>0</th>\n",
       "      <td>PORT_0001</td>\n",
       "      <td>DIV_0001</td>\n",
       "      <td>2020-03-02</td>\n",
       "      <td>2020-03-02</td>\n",
       "      <td>200</td>\n",
       "      <td>1</td>\n",
       "      <td>200</td>\n",
       "      <td>GBP</td>\n",
       "      <td>GBP</td>\n",
       "      <td>ID_aa001</td>\n",
       "      <td>DividendCash</td>\n",
       "      <td>Dividend for AVIVA shareholders</td>\n",
       "    </tr>\n",
       "    <tr>\n",
       "      <th>1</th>\n",
       "      <td>PORT_0001</td>\n",
       "      <td>CASHIN_001</td>\n",
       "      <td>2020-03-02</td>\n",
       "      <td>2020-03-02</td>\n",
       "      <td>10000</td>\n",
       "      <td>1</td>\n",
       "      <td>10000</td>\n",
       "      <td>GBP</td>\n",
       "      <td>GBP</td>\n",
       "      <td>GBP</td>\n",
       "      <td>FundsIn</td>\n",
       "      <td>Adding Cash to portfolio</td>\n",
       "    </tr>\n",
       "  </tbody>\n",
       "</table>\n",
       "</div>"
      ],
      "text/plain": [
       "   Portfolio      txn_id    txn_date settle_date  units  price  amount  \\\n",
       "0  PORT_0001    DIV_0001  2020-03-02  2020-03-02    200      1     200   \n",
       "1  PORT_0001  CASHIN_001  2020-03-02  2020-03-02  10000      1   10000   \n",
       "\n",
       "  trade_currency instr_id Internal_id          type  \\\n",
       "0            GBP      GBP    ID_aa001  DividendCash   \n",
       "1            GBP      GBP         GBP       FundsIn   \n",
       "\n",
       "                       description  \n",
       "0  Dividend for AVIVA shareholders  \n",
       "1         Adding Cash to portfolio  "
      ]
     },
     "execution_count": 9,
     "metadata": {},
     "output_type": "execute_result"
    }
   ],
   "source": [
    "# Day 2 transactions\n",
    "txn_data_2"
   ]
  },
  {
   "cell_type": "code",
   "execution_count": 10,
   "metadata": {},
   "outputs": [
    {
     "name": "stdout",
     "output_type": "stream",
     "text": [
      "Day2 As At Date: 2020-04-03 14:15:24.433742+00:00\n"
     ]
    },
    {
     "data": {
      "text/html": [
       "<div>\n",
       "<style scoped>\n",
       "    .dataframe tbody tr th:only-of-type {\n",
       "        vertical-align: middle;\n",
       "    }\n",
       "\n",
       "    .dataframe tbody tr th {\n",
       "        vertical-align: top;\n",
       "    }\n",
       "\n",
       "    .dataframe thead th {\n",
       "        text-align: right;\n",
       "    }\n",
       "</style>\n",
       "<table border=\"1\" class=\"dataframe\">\n",
       "  <thead>\n",
       "    <tr style=\"text-align: right;\">\n",
       "      <th></th>\n",
       "      <th>success</th>\n",
       "      <th>errors</th>\n",
       "    </tr>\n",
       "  </thead>\n",
       "  <tbody>\n",
       "    <tr>\n",
       "      <th>0</th>\n",
       "      <td>1</td>\n",
       "      <td>0</td>\n",
       "    </tr>\n",
       "  </tbody>\n",
       "</table>\n",
       "</div>"
      ],
      "text/plain": [
       "   success  errors\n",
       "0        1       0"
      ]
     },
     "execution_count": 10,
     "metadata": {},
     "output_type": "execute_result"
    }
   ],
   "source": [
    "cash_processed_transactions, cash_processed_mapping = identify_cash_items(copy.deepcopy(txn_data_2), copy.deepcopy(mapping), \"transactions\", False)\n",
    "\n",
    "response = load_from_data_frame(\n",
    "        api_factory=api_factory,\n",
    "        scope=scope,\n",
    "        data_frame=cash_processed_transactions,\n",
    "        mapping_required=cash_processed_mapping[\"transactions\"][\"required\"],\n",
    "        file_type=\"transactions\",\n",
    "        mapping_optional={},\n",
    "        identifier_mapping=cash_processed_mapping[\"transactions\"][\"identifier_mapping\"]\n",
    ")\n",
    "\n",
    "success, errors = format_transactions_response(response)\n",
    "\n",
    "# Store the date at which these transactions were set\n",
    "if len(errors) == 0:\n",
    "    Day2_as_at_date = response[\"transactions\"][\"success\"][0].version.as_at_date\n",
    "    print(f\"Day2 As At Date: {str(Day2_as_at_date)}\")\n",
    "    \n",
    "pd.DataFrame(data=[{\"success\": len(success), \"errors\": len(errors)}])"
   ]
  },
  {
   "cell_type": "markdown",
   "metadata": {},
   "source": [
    "## Day 3\n",
    "\n",
    "No trades or adjustments were recorded this day"
   ]
  },
  {
   "cell_type": "code",
   "execution_count": 11,
   "metadata": {},
   "outputs": [
    {
     "data": {
      "text/html": [
       "<div>\n",
       "<style scoped>\n",
       "    .dataframe tbody tr th:only-of-type {\n",
       "        vertical-align: middle;\n",
       "    }\n",
       "\n",
       "    .dataframe tbody tr th {\n",
       "        vertical-align: top;\n",
       "    }\n",
       "\n",
       "    .dataframe thead th {\n",
       "        text-align: right;\n",
       "    }\n",
       "</style>\n",
       "<table border=\"1\" class=\"dataframe\">\n",
       "  <thead>\n",
       "    <tr style=\"text-align: right;\">\n",
       "      <th></th>\n",
       "      <th>Portfolio</th>\n",
       "      <th>txn_id</th>\n",
       "      <th>txn_date</th>\n",
       "      <th>settle_date</th>\n",
       "      <th>units</th>\n",
       "      <th>price</th>\n",
       "      <th>amount</th>\n",
       "      <th>trade_currency</th>\n",
       "      <th>instr_id</th>\n",
       "      <th>Internal_id</th>\n",
       "      <th>type</th>\n",
       "    </tr>\n",
       "  </thead>\n",
       "  <tbody>\n",
       "  </tbody>\n",
       "</table>\n",
       "</div>"
      ],
      "text/plain": [
       "Empty DataFrame\n",
       "Columns: [Portfolio, txn_id, txn_date, settle_date, units, price, amount, trade_currency, instr_id, Internal_id, type]\n",
       "Index: []"
      ]
     },
     "execution_count": 11,
     "metadata": {},
     "output_type": "execute_result"
    }
   ],
   "source": [
    "# Day 3 transactions\n",
    "txn_data_3"
   ]
  },
  {
   "cell_type": "markdown",
   "metadata": {},
   "source": [
    "## Day 4\n",
    "Load in more transactions including a correction to `txn_0001` (units: 100 -> 80) and a Trade that occured on Day 3"
   ]
  },
  {
   "cell_type": "code",
   "execution_count": 12,
   "metadata": {},
   "outputs": [
    {
     "data": {
      "text/html": [
       "<div>\n",
       "<style scoped>\n",
       "    .dataframe tbody tr th:only-of-type {\n",
       "        vertical-align: middle;\n",
       "    }\n",
       "\n",
       "    .dataframe tbody tr th {\n",
       "        vertical-align: top;\n",
       "    }\n",
       "\n",
       "    .dataframe thead th {\n",
       "        text-align: right;\n",
       "    }\n",
       "</style>\n",
       "<table border=\"1\" class=\"dataframe\">\n",
       "  <thead>\n",
       "    <tr style=\"text-align: right;\">\n",
       "      <th></th>\n",
       "      <th>Portfolio</th>\n",
       "      <th>txn_id</th>\n",
       "      <th>txn_date</th>\n",
       "      <th>settle_date</th>\n",
       "      <th>units</th>\n",
       "      <th>price</th>\n",
       "      <th>amount</th>\n",
       "      <th>trade_currency</th>\n",
       "      <th>instr_id</th>\n",
       "      <th>Internal_id</th>\n",
       "      <th>type</th>\n",
       "      <th>description</th>\n",
       "    </tr>\n",
       "  </thead>\n",
       "  <tbody>\n",
       "    <tr>\n",
       "      <th>0</th>\n",
       "      <td>PORT_0001</td>\n",
       "      <td>txn_0001</td>\n",
       "      <td>2020-03-01</td>\n",
       "      <td>2020-03-01</td>\n",
       "      <td>80</td>\n",
       "      <td>20</td>\n",
       "      <td>2000</td>\n",
       "      <td>GBP</td>\n",
       "      <td>AVIVA</td>\n",
       "      <td>ID_aa001</td>\n",
       "      <td>StockIn</td>\n",
       "      <td>NaN</td>\n",
       "    </tr>\n",
       "    <tr>\n",
       "      <th>1</th>\n",
       "      <td>PORT_0001</td>\n",
       "      <td>txn_0002</td>\n",
       "      <td>2020-03-04</td>\n",
       "      <td>2020-03-05</td>\n",
       "      <td>100</td>\n",
       "      <td>20</td>\n",
       "      <td>2000</td>\n",
       "      <td>GBP</td>\n",
       "      <td>AVIVA</td>\n",
       "      <td>ID_aa001</td>\n",
       "      <td>Buy</td>\n",
       "      <td>NaN</td>\n",
       "    </tr>\n",
       "    <tr>\n",
       "      <th>2</th>\n",
       "      <td>PORT_0001</td>\n",
       "      <td>txn_0003</td>\n",
       "      <td>2020-03-03</td>\n",
       "      <td>2020-03-05</td>\n",
       "      <td>100</td>\n",
       "      <td>50</td>\n",
       "      <td>2000</td>\n",
       "      <td>GBP</td>\n",
       "      <td>VOD</td>\n",
       "      <td>ID_aa002</td>\n",
       "      <td>Buy</td>\n",
       "      <td>NaN</td>\n",
       "    </tr>\n",
       "    <tr>\n",
       "      <th>3</th>\n",
       "      <td>PORT_0001</td>\n",
       "      <td>txn_0004</td>\n",
       "      <td>2020-03-04</td>\n",
       "      <td>2020-03-05</td>\n",
       "      <td>100</td>\n",
       "      <td>80</td>\n",
       "      <td>2000</td>\n",
       "      <td>GBP</td>\n",
       "      <td>BP</td>\n",
       "      <td>ID_aa003</td>\n",
       "      <td>Buy</td>\n",
       "      <td>NaN</td>\n",
       "    </tr>\n",
       "  </tbody>\n",
       "</table>\n",
       "</div>"
      ],
      "text/plain": [
       "   Portfolio    txn_id    txn_date settle_date  units  price  amount  \\\n",
       "0  PORT_0001  txn_0001  2020-03-01  2020-03-01     80     20    2000   \n",
       "1  PORT_0001  txn_0002  2020-03-04  2020-03-05    100     20    2000   \n",
       "2  PORT_0001  txn_0003  2020-03-03  2020-03-05    100     50    2000   \n",
       "3  PORT_0001  txn_0004  2020-03-04  2020-03-05    100     80    2000   \n",
       "\n",
       "  trade_currency instr_id Internal_id     type  description  \n",
       "0            GBP    AVIVA    ID_aa001  StockIn          NaN  \n",
       "1            GBP    AVIVA    ID_aa001      Buy          NaN  \n",
       "2            GBP      VOD    ID_aa002      Buy          NaN  \n",
       "3            GBP       BP    ID_aa003      Buy          NaN  "
      ]
     },
     "execution_count": 12,
     "metadata": {},
     "output_type": "execute_result"
    }
   ],
   "source": [
    "# Day 4 transactions\n",
    "txn_data_4"
   ]
  },
  {
   "cell_type": "code",
   "execution_count": 13,
   "metadata": {
    "scrolled": true
   },
   "outputs": [
    {
     "name": "stdout",
     "output_type": "stream",
     "text": [
      "Day4 As At Date: 2020-04-03 14:15:25.182026+00:00\n"
     ]
    },
    {
     "data": {
      "text/html": [
       "<div>\n",
       "<style scoped>\n",
       "    .dataframe tbody tr th:only-of-type {\n",
       "        vertical-align: middle;\n",
       "    }\n",
       "\n",
       "    .dataframe tbody tr th {\n",
       "        vertical-align: top;\n",
       "    }\n",
       "\n",
       "    .dataframe thead th {\n",
       "        text-align: right;\n",
       "    }\n",
       "</style>\n",
       "<table border=\"1\" class=\"dataframe\">\n",
       "  <thead>\n",
       "    <tr style=\"text-align: right;\">\n",
       "      <th></th>\n",
       "      <th>success</th>\n",
       "      <th>errors</th>\n",
       "    </tr>\n",
       "  </thead>\n",
       "  <tbody>\n",
       "    <tr>\n",
       "      <th>0</th>\n",
       "      <td>1</td>\n",
       "      <td>0</td>\n",
       "    </tr>\n",
       "  </tbody>\n",
       "</table>\n",
       "</div>"
      ],
      "text/plain": [
       "   success  errors\n",
       "0        1       0"
      ]
     },
     "execution_count": 13,
     "metadata": {},
     "output_type": "execute_result"
    }
   ],
   "source": [
    "response = load_from_data_frame(\n",
    "        api_factory=api_factory,\n",
    "        scope=scope,\n",
    "        data_frame=txn_data_4,\n",
    "        mapping_required=mapping[\"transactions\"][\"required\"],\n",
    "        file_type=\"transactions\",\n",
    "        mapping_optional={},\n",
    "        identifier_mapping=mapping[\"transactions\"][\"identifier_mapping\"]\n",
    ")\n",
    "\n",
    "success, errors = format_transactions_response(response)\n",
    "\n",
    "# Store the date at which these transactions were set\n",
    "if len(errors) == 0:\n",
    "    Day4_as_at_date = response[\"transactions\"][\"success\"][0].version.as_at_date\n",
    "    print(f\"Day4 As At Date: {str(Day4_as_at_date)}\")\n",
    "    \n",
    "pd.DataFrame(data=[{\"success\": len(success), \"errors\": len(errors)}])"
   ]
  },
  {
   "cell_type": "markdown",
   "metadata": {},
   "source": [
    "## Day 5\n",
    "Make another correction to `txn_0001` (units: 80 -> 120, price: 20 -> 25, amount: 2000 -> 3000)"
   ]
  },
  {
   "cell_type": "code",
   "execution_count": 14,
   "metadata": {},
   "outputs": [
    {
     "data": {
      "text/html": [
       "<div>\n",
       "<style scoped>\n",
       "    .dataframe tbody tr th:only-of-type {\n",
       "        vertical-align: middle;\n",
       "    }\n",
       "\n",
       "    .dataframe tbody tr th {\n",
       "        vertical-align: top;\n",
       "    }\n",
       "\n",
       "    .dataframe thead th {\n",
       "        text-align: right;\n",
       "    }\n",
       "</style>\n",
       "<table border=\"1\" class=\"dataframe\">\n",
       "  <thead>\n",
       "    <tr style=\"text-align: right;\">\n",
       "      <th></th>\n",
       "      <th>Portfolio</th>\n",
       "      <th>txn_id</th>\n",
       "      <th>txn_date</th>\n",
       "      <th>settle_date</th>\n",
       "      <th>units</th>\n",
       "      <th>price</th>\n",
       "      <th>amount</th>\n",
       "      <th>trade_currency</th>\n",
       "      <th>instr_id</th>\n",
       "      <th>Internal_id</th>\n",
       "      <th>type</th>\n",
       "      <th>description</th>\n",
       "    </tr>\n",
       "  </thead>\n",
       "  <tbody>\n",
       "    <tr>\n",
       "      <th>0</th>\n",
       "      <td>PORT_0001</td>\n",
       "      <td>txn_0001</td>\n",
       "      <td>2020-03-01</td>\n",
       "      <td>2020-03-01</td>\n",
       "      <td>120</td>\n",
       "      <td>25</td>\n",
       "      <td>3000</td>\n",
       "      <td>GBP</td>\n",
       "      <td>AVIVA</td>\n",
       "      <td>ID_aa001</td>\n",
       "      <td>StockIn</td>\n",
       "      <td>NaN</td>\n",
       "    </tr>\n",
       "  </tbody>\n",
       "</table>\n",
       "</div>"
      ],
      "text/plain": [
       "   Portfolio    txn_id    txn_date settle_date  units  price  amount  \\\n",
       "0  PORT_0001  txn_0001  2020-03-01  2020-03-01    120     25    3000   \n",
       "\n",
       "  trade_currency instr_id Internal_id     type  description  \n",
       "0            GBP    AVIVA    ID_aa001  StockIn          NaN  "
      ]
     },
     "execution_count": 14,
     "metadata": {},
     "output_type": "execute_result"
    }
   ],
   "source": [
    "# Day 5 transactions\n",
    "txn_data_5"
   ]
  },
  {
   "cell_type": "code",
   "execution_count": 15,
   "metadata": {
    "scrolled": true
   },
   "outputs": [
    {
     "name": "stdout",
     "output_type": "stream",
     "text": [
      "Day1 As At Date: 2020-04-03 14:15:25.816750+00:00\n"
     ]
    },
    {
     "data": {
      "text/html": [
       "<div>\n",
       "<style scoped>\n",
       "    .dataframe tbody tr th:only-of-type {\n",
       "        vertical-align: middle;\n",
       "    }\n",
       "\n",
       "    .dataframe tbody tr th {\n",
       "        vertical-align: top;\n",
       "    }\n",
       "\n",
       "    .dataframe thead th {\n",
       "        text-align: right;\n",
       "    }\n",
       "</style>\n",
       "<table border=\"1\" class=\"dataframe\">\n",
       "  <thead>\n",
       "    <tr style=\"text-align: right;\">\n",
       "      <th></th>\n",
       "      <th>success</th>\n",
       "      <th>errors</th>\n",
       "    </tr>\n",
       "  </thead>\n",
       "  <tbody>\n",
       "    <tr>\n",
       "      <th>0</th>\n",
       "      <td>1</td>\n",
       "      <td>0</td>\n",
       "    </tr>\n",
       "  </tbody>\n",
       "</table>\n",
       "</div>"
      ],
      "text/plain": [
       "   success  errors\n",
       "0        1       0"
      ]
     },
     "execution_count": 15,
     "metadata": {},
     "output_type": "execute_result"
    }
   ],
   "source": [
    "response = load_from_data_frame(\n",
    "        api_factory=api_factory,\n",
    "        scope=scope,\n",
    "        data_frame=txn_data_5,\n",
    "        mapping_required=mapping[\"transactions\"][\"required\"],\n",
    "        file_type=\"transactions\",\n",
    "        mapping_optional={},\n",
    "        identifier_mapping=mapping[\"transactions\"][\"identifier_mapping\"]\n",
    ")\n",
    "\n",
    "success, errors = format_transactions_response(response)\n",
    "\n",
    "# Store the date at which these transactions were set\n",
    "if len(errors) == 0:\n",
    "    Day5_as_at_date = response[\"transactions\"][\"success\"][0].version.as_at_date\n",
    "    print(f\"Day1 As At Date: {str(Day5_as_at_date)}\")\n",
    "    \n",
    "pd.DataFrame(data=[{\"success\": len(success), \"errors\": len(errors)}])"
   ]
  },
  {
   "cell_type": "markdown",
   "metadata": {},
   "source": [
    "# Get holdings"
   ]
  },
  {
   "cell_type": "markdown",
   "metadata": {},
   "source": [
    "While `StockIn` is a default transaction type for LUSID, `DividendCash`is a custom transaction type and we need to configure before getting holdings, in order for LUSID to understand how to interpret the underlying movements. See the support article on [configuring transaction types](https://support.finbourne.com/configuring-transaction-types) for more datail on this."
   ]
  },
  {
   "cell_type": "code",
   "execution_count": 16,
   "metadata": {
    "scrolled": true
   },
   "outputs": [
    {
     "name": "stderr",
     "output_type": "stream",
     "text": [
      "WARNING:root:The following alias already exists: Type of DividendCash with source default\n"
     ]
    }
   ],
   "source": [
    "# Create a custom transaction type for cash dividends\n",
    "txn_config_response =create_transaction_type_configuration(\n",
    "    api_factory,\n",
    "    alias=lusid.models.TransactionConfigurationTypeAlias(\n",
    "        type=\"DividendCash\",\n",
    "        description=\"A cash payments from dividends\",\n",
    "        transaction_class=\"EquityInstruments\",\n",
    "        transaction_group=\"default\",\n",
    "        transaction_roles=\"LongLonger\",\n",
    "    ),\n",
    "    movements=[\n",
    "        lusid.models.TransactionConfigurationMovementDataRequest(\n",
    "            movement_types=\"CashCommitment\",\n",
    "            side=\"Side2\",\n",
    "            direction=1,\n",
    "            properties=None,\n",
    "            mappings=None,\n",
    "        )\n",
    "    ],\n",
    ")"
   ]
  },
  {
   "cell_type": "code",
   "execution_count": 17,
   "metadata": {},
   "outputs": [],
   "source": [
    "# Define some helper functions \n",
    "\n",
    "from IPython.display import display_html\n",
    "\n",
    "# Gets holdings for an effective date, calculated As At a list of days \n",
    "def get_holdings(api_factory, asat_dates, scope, code, effective_at):\n",
    "    daily_report=[]\n",
    "    n=1\n",
    "    for i in asat_dates:\n",
    "        data={}\n",
    "        response = api_factory.build(lusid.api.TransactionPortfoliosApi).get_holdings(\n",
    "            scope=scope,\n",
    "            code=code,\n",
    "            effective_at=effective_at,\n",
    "            as_at=i.isoformat(),\n",
    "            property_keys=[\"Instrument/default/Name\"]\n",
    "        )\n",
    "\n",
    "        summary = display_holdings_summary(response)\n",
    "\n",
    "        n=n+1\n",
    "        daily_report.append(summary)\n",
    "    return daily_report\n",
    "\n",
    "# Prints the name and a quick summary from a get_holdings() response \n",
    "def display_holdings_summary(response):\n",
    "    # inspect holdings response for today\n",
    "    hld = [i for i in response.values]\n",
    "    \n",
    "    names=[]\n",
    "    amount=[]\n",
    "    units=[]\n",
    "    price=[]\n",
    "    \n",
    "    for item in hld:\n",
    "        \n",
    "        names.append(item.properties['Instrument/default/Name'].value.label_value)\n",
    "        amount.append(item.cost.amount)\n",
    "        units.append(item.units)\n",
    "        \n",
    "    data={\n",
    "        \"names\" : names,\n",
    "        \"amount\" : amount,\n",
    "        \"units\" : units\n",
    "    }\n",
    "    \n",
    "    summary = pd.DataFrame(data=data)\n",
    "    return summary\n",
    "\n",
    "# Displays Multiple dataframes side-by-side\n",
    "def display_side_by_side(*args):\n",
    "    html_str=''\n",
    "    for df in args:\n",
    "        html_str+=df.to_html()\n",
    "    display_html(html_str.replace('table','table'),raw=True)"
   ]
  },
  {
   "cell_type": "markdown",
   "metadata": {},
   "source": [
    "## Effective Day 1\n",
    "\n",
    "Now that all of the transactions (including corrections) have been loading into LUSID, the asset manager wants to view how the daily holdings as they apeared on that day. "
   ]
  },
  {
   "cell_type": "code",
   "execution_count": 18,
   "metadata": {},
   "outputs": [],
   "source": [
    "from datetime import timedelta\n",
    "asat_dates = [\n",
    "    Day1_as_at_date,                                # Day 1\n",
    "    Day2_as_at_date,                                # Day 2\n",
    "    Day4_as_at_date - timedelta(microseconds=1),    # Day 3\n",
    "    Day4_as_at_date,                                # Day 4\n",
    "    Day5_as_at_date,                                # Day 5\n",
    "]\n",
    "effective_at_dates = [\n",
    "    \"2020-03-01T00:00:00.000000+00:00\",\n",
    "    \"2020-03-02T00:00:00.000000+00:00\",\n",
    "    \"2020-03-03T00:00:00.000000+00:00\",\n",
    "    \"2020-03-04T00:00:00.000000+00:00\",\n",
    "    \"2020-03-05T00:00:00.000000+00:00\"\n",
    "]"
   ]
  },
  {
   "cell_type": "code",
   "execution_count": 19,
   "metadata": {},
   "outputs": [
    {
     "name": "stdout",
     "output_type": "stream",
     "text": [
      "Day 1, Calculated as at Day 1:\n"
     ]
    },
    {
     "data": {
      "text/html": [
       "<table border=\"1\" class=\"dataframe\">\n",
       "  <thead>\n",
       "    <tr style=\"text-align: right;\">\n",
       "      <th></th>\n",
       "      <th>names</th>\n",
       "      <th>amount</th>\n",
       "      <th>units</th>\n",
       "    </tr>\n",
       "  </thead>\n",
       "  <tbody>\n",
       "    <tr>\n",
       "      <th>0</th>\n",
       "      <td>AVIVA</td>\n",
       "      <td>2000.0</td>\n",
       "      <td>100.0</td>\n",
       "    </tr>\n",
       "  </tbody>\n",
       "</table>"
      ]
     },
     "metadata": {},
     "output_type": "display_data"
    },
    {
     "name": "stdout",
     "output_type": "stream",
     "text": [
      "Day 2, Calculated as at Day 2:\n"
     ]
    },
    {
     "data": {
      "text/html": [
       "<table border=\"1\" class=\"dataframe\">\n",
       "  <thead>\n",
       "    <tr style=\"text-align: right;\">\n",
       "      <th></th>\n",
       "      <th>names</th>\n",
       "      <th>amount</th>\n",
       "      <th>units</th>\n",
       "    </tr>\n",
       "  </thead>\n",
       "  <tbody>\n",
       "    <tr>\n",
       "      <th>0</th>\n",
       "      <td>AVIVA</td>\n",
       "      <td>2000.0</td>\n",
       "      <td>100.0</td>\n",
       "    </tr>\n",
       "    <tr>\n",
       "      <th>1</th>\n",
       "      <td>CCY_GBP</td>\n",
       "      <td>10200.0</td>\n",
       "      <td>10200.0</td>\n",
       "    </tr>\n",
       "  </tbody>\n",
       "</table>"
      ]
     },
     "metadata": {},
     "output_type": "display_data"
    },
    {
     "name": "stdout",
     "output_type": "stream",
     "text": [
      "Day 3, Calculated as at Day 3:\n"
     ]
    },
    {
     "data": {
      "text/html": [
       "<table border=\"1\" class=\"dataframe\">\n",
       "  <thead>\n",
       "    <tr style=\"text-align: right;\">\n",
       "      <th></th>\n",
       "      <th>names</th>\n",
       "      <th>amount</th>\n",
       "      <th>units</th>\n",
       "    </tr>\n",
       "  </thead>\n",
       "  <tbody>\n",
       "    <tr>\n",
       "      <th>0</th>\n",
       "      <td>AVIVA</td>\n",
       "      <td>2000.0</td>\n",
       "      <td>100.0</td>\n",
       "    </tr>\n",
       "    <tr>\n",
       "      <th>1</th>\n",
       "      <td>CCY_GBP</td>\n",
       "      <td>10200.0</td>\n",
       "      <td>10200.0</td>\n",
       "    </tr>\n",
       "  </tbody>\n",
       "</table>"
      ]
     },
     "metadata": {},
     "output_type": "display_data"
    },
    {
     "name": "stdout",
     "output_type": "stream",
     "text": [
      "Day 4, Calculated as at Day 4:\n"
     ]
    },
    {
     "data": {
      "text/html": [
       "<table border=\"1\" class=\"dataframe\">\n",
       "  <thead>\n",
       "    <tr style=\"text-align: right;\">\n",
       "      <th></th>\n",
       "      <th>names</th>\n",
       "      <th>amount</th>\n",
       "      <th>units</th>\n",
       "    </tr>\n",
       "  </thead>\n",
       "  <tbody>\n",
       "    <tr>\n",
       "      <th>0</th>\n",
       "      <td>AVIVA</td>\n",
       "      <td>4000.0</td>\n",
       "      <td>180.0</td>\n",
       "    </tr>\n",
       "    <tr>\n",
       "      <th>1</th>\n",
       "      <td>VOD</td>\n",
       "      <td>2000.0</td>\n",
       "      <td>100.0</td>\n",
       "    </tr>\n",
       "    <tr>\n",
       "      <th>2</th>\n",
       "      <td>BP</td>\n",
       "      <td>2000.0</td>\n",
       "      <td>100.0</td>\n",
       "    </tr>\n",
       "    <tr>\n",
       "      <th>3</th>\n",
       "      <td>CCY_GBP</td>\n",
       "      <td>10200.0</td>\n",
       "      <td>10200.0</td>\n",
       "    </tr>\n",
       "    <tr>\n",
       "      <th>4</th>\n",
       "      <td>CCY_GBP</td>\n",
       "      <td>-2000.0</td>\n",
       "      <td>-2000.0</td>\n",
       "    </tr>\n",
       "    <tr>\n",
       "      <th>5</th>\n",
       "      <td>CCY_GBP</td>\n",
       "      <td>-2000.0</td>\n",
       "      <td>-2000.0</td>\n",
       "    </tr>\n",
       "    <tr>\n",
       "      <th>6</th>\n",
       "      <td>CCY_GBP</td>\n",
       "      <td>-2000.0</td>\n",
       "      <td>-2000.0</td>\n",
       "    </tr>\n",
       "  </tbody>\n",
       "</table>"
      ]
     },
     "metadata": {},
     "output_type": "display_data"
    },
    {
     "name": "stdout",
     "output_type": "stream",
     "text": [
      "Day 5, Calculated as at Day 5:\n"
     ]
    },
    {
     "data": {
      "text/html": [
       "<table border=\"1\" class=\"dataframe\">\n",
       "  <thead>\n",
       "    <tr style=\"text-align: right;\">\n",
       "      <th></th>\n",
       "      <th>names</th>\n",
       "      <th>amount</th>\n",
       "      <th>units</th>\n",
       "    </tr>\n",
       "  </thead>\n",
       "  <tbody>\n",
       "    <tr>\n",
       "      <th>0</th>\n",
       "      <td>AVIVA</td>\n",
       "      <td>5000.0</td>\n",
       "      <td>220.0</td>\n",
       "    </tr>\n",
       "    <tr>\n",
       "      <th>1</th>\n",
       "      <td>VOD</td>\n",
       "      <td>2000.0</td>\n",
       "      <td>100.0</td>\n",
       "    </tr>\n",
       "    <tr>\n",
       "      <th>2</th>\n",
       "      <td>BP</td>\n",
       "      <td>2000.0</td>\n",
       "      <td>100.0</td>\n",
       "    </tr>\n",
       "    <tr>\n",
       "      <th>3</th>\n",
       "      <td>CCY_GBP</td>\n",
       "      <td>4200.0</td>\n",
       "      <td>4200.0</td>\n",
       "    </tr>\n",
       "  </tbody>\n",
       "</table>"
      ]
     },
     "metadata": {},
     "output_type": "display_data"
    },
    {
     "name": "stdout",
     "output_type": "stream",
     "text": [
      "#############################################\n",
      "\n",
      "\n",
      "Day 1, Calculated as at Day 1:\n"
     ]
    },
    {
     "data": {
      "text/html": [
       "<table border=\"1\" class=\"dataframe\">\n",
       "  <thead>\n",
       "    <tr style=\"text-align: right;\">\n",
       "      <th></th>\n",
       "      <th>names</th>\n",
       "      <th>amount</th>\n",
       "      <th>units</th>\n",
       "    </tr>\n",
       "  </thead>\n",
       "  <tbody>\n",
       "    <tr>\n",
       "      <th>0</th>\n",
       "      <td>AVIVA</td>\n",
       "      <td>2000.0</td>\n",
       "      <td>100.0</td>\n",
       "    </tr>\n",
       "  </tbody>\n",
       "</table>"
      ]
     },
     "metadata": {},
     "output_type": "display_data"
    },
    {
     "name": "stdout",
     "output_type": "stream",
     "text": [
      "Day 1, Calculated as at Day 4 (including first correction):\n"
     ]
    },
    {
     "data": {
      "text/html": [
       "<table border=\"1\" class=\"dataframe\">\n",
       "  <thead>\n",
       "    <tr style=\"text-align: right;\">\n",
       "      <th></th>\n",
       "      <th>names</th>\n",
       "      <th>amount</th>\n",
       "      <th>units</th>\n",
       "    </tr>\n",
       "  </thead>\n",
       "  <tbody>\n",
       "    <tr>\n",
       "      <th>0</th>\n",
       "      <td>AVIVA</td>\n",
       "      <td>2000.0</td>\n",
       "      <td>80.0</td>\n",
       "    </tr>\n",
       "  </tbody>\n",
       "</table>"
      ]
     },
     "metadata": {},
     "output_type": "display_data"
    },
    {
     "name": "stdout",
     "output_type": "stream",
     "text": [
      "Day1, Calculated as at Day 5 (including second correction):\n"
     ]
    },
    {
     "data": {
      "text/html": [
       "<table border=\"1\" class=\"dataframe\">\n",
       "  <thead>\n",
       "    <tr style=\"text-align: right;\">\n",
       "      <th></th>\n",
       "      <th>names</th>\n",
       "      <th>amount</th>\n",
       "      <th>units</th>\n",
       "    </tr>\n",
       "  </thead>\n",
       "  <tbody>\n",
       "    <tr>\n",
       "      <th>0</th>\n",
       "      <td>AVIVA</td>\n",
       "      <td>3000.0</td>\n",
       "      <td>120.0</td>\n",
       "    </tr>\n",
       "  </tbody>\n",
       "</table>"
      ]
     },
     "metadata": {},
     "output_type": "display_data"
    }
   ],
   "source": [
    "daily_reports=[]\n",
    "for i in range(5):\n",
    "    response = api_factory.build(lusid.api.TransactionPortfoliosApi).get_holdings(\n",
    "                scope=scope,\n",
    "                code=code,\n",
    "                effective_at=effective_at_dates[i],\n",
    "                as_at=asat_dates[i],\n",
    "                property_keys=[\"Instrument/default/Name\"]\n",
    "            )\n",
    "    \n",
    "    print(f\"Day {i+1}, Calculated as at Day {i+1}:\")\n",
    "    display_side_by_side(display_holdings_summary(response))\n",
    "\n",
    "    \n",
    "\n",
    "    \n",
    "response_day1_asat_day1 = api_factory.build(lusid.api.TransactionPortfoliosApi).get_holdings(\n",
    "                scope=scope,\n",
    "                code=code,\n",
    "                effective_at=effective_at_dates[0],\n",
    "                as_at=asat_dates[1].isoformat(),\n",
    "                property_keys=[\"Instrument/default/Name\"]\n",
    "            )\n",
    "\n",
    "response_day1_asat_day4 = api_factory.build(lusid.api.TransactionPortfoliosApi).get_holdings(\n",
    "                scope=scope,\n",
    "                code=code,\n",
    "                effective_at=effective_at_dates[0],\n",
    "                as_at=asat_dates[3].isoformat(),\n",
    "                property_keys=[\"Instrument/default/Name\"]\n",
    "            )\n",
    "\n",
    "response_day1_asat_day5 = api_factory.build(lusid.api.TransactionPortfoliosApi).get_holdings(\n",
    "                scope=scope,\n",
    "                code=code,\n",
    "                effective_at=effective_at_dates[0],\n",
    "                as_at=asat_dates[4].isoformat(),\n",
    "                property_keys=[\"Instrument/default/Name\"]\n",
    "            )\n",
    "\n",
    "\n",
    "print(\"#############################################\\n\\n\")\n",
    "\n",
    "print(f\"Day 1, Calculated as at Day 1:\")\n",
    "display_side_by_side(display_holdings_summary(response_day1_asat_day1))\n",
    "\n",
    "print(f\"Day 1, Calculated as at Day 4 (including first correction):\")\n",
    "display_side_by_side(display_holdings_summary(response_day1_asat_day4))\n",
    "\n",
    "print(f\"Day1, Calculated as at Day 5 (including second correction):\")\n",
    "display_side_by_side(display_holdings_summary(response_day1_asat_day5))\n"
   ]
  },
  {
   "cell_type": "code",
   "execution_count": null,
   "metadata": {},
   "outputs": [],
   "source": []
  }
 ],
 "metadata": {
  "kernelspec": {
   "display_name": "Python 3",
   "language": "python",
   "name": "python3"
  },
  "language_info": {
   "codemirror_mode": {
    "name": "ipython",
    "version": 3
   },
   "file_extension": ".py",
   "mimetype": "text/x-python",
   "name": "python",
   "nbconvert_exporter": "python",
   "pygments_lexer": "ipython3",
   "version": "3.8.2"
  }
 },
 "nbformat": 4,
 "nbformat_minor": 4
}
