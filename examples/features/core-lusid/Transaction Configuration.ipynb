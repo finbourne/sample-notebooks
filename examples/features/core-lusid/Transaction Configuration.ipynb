{
 "cells": [
  {
   "cell_type": "code",
   "execution_count": 1,
   "id": "709ff9e2",
   "metadata": {},
   "outputs": [
    {
     "data": {
      "text/html": [
       "\n",
       "    <form action=\"javascript:code_toggle()\"><input type=\"submit\" id=\"toggleButton\" value=\"Toggle Docstring\"></form>\n",
       "    \n",
       "         <script>\n",
       "         function code_toggle() {\n",
       "             if ($('div.cell.code_cell.rendered.selected div.input').css('display')!='none'){\n",
       "                 $('div.cell.code_cell.rendered.selected div.input').hide();\n",
       "             } else {\n",
       "                 $('div.cell.code_cell.rendered.selected div.input').show();\n",
       "             }\n",
       "         }\n",
       "         </script>\n",
       "\n",
       "     "
      ],
      "text/plain": [
       "<IPython.core.display.HTML object>"
      ]
     },
     "metadata": {},
     "output_type": "display_data"
    }
   ],
   "source": [
    "from lusidtools.jupyter_tools import toggle_code\n",
    "\n",
    "\"\"\"Transaction Configuration\n",
    "\n",
    "Shows transaction configuration created in LUSID by default, and how to create customised transaction types in transaction configuration. \n",
    "\n",
    "Attributes\n",
    "----------\n",
    "transaction configuration\n",
    "transactions\n",
    "output transactions\n",
    "holdings\"\"\"\n",
    "\n",
    "toggle_code(\"Toggle Docstring\")"
   ]
  },
  {
   "cell_type": "markdown",
   "id": "36a8d56a",
   "metadata": {
    "code_folding": []
   },
   "source": [
    "# Transaction Configuration\n",
    "\n",
    "\n",
    "## Table of contents\n",
    "1. [Overview](#1.-Overview)\n",
    "2. [Setup](#2.-Setup)\n",
    "3. [Load Data](#3.-Load-Data)\n",
    "   * [3.1 Create Portfolio](#3.1-Create-Portfolio)\n",
    "   * [3.2 Create Instruments](#3.2-Create-Instruments)\n",
    "   * [3.3 Insert Transactions](#3.3-Insert-Transactions)\n",
    "4. [Examine default Transaction Configuration and Resultant Holdings](#4.-Examine-default-Transaction-Configuration-and-Resultant-Holdings)\n",
    "   * [4.1 Transaction Type 'Buy'](#4.1-Transaction-Type-Buy)\n",
    "   * [4.2 Transaction Type 'FundsIn'](#4.2-Transaction-Type-FundsIn)\n",
    "   * [4.3 Resultant Holdings](#4.3-Resultant-Holdings)\n",
    "5. [Use Customised Transaction Configuration to Represent Movements](#5.-Use-Customised-Transaction-Configuration-to-Represent-Movements)\n",
    "    * [5.1 Set Up Property Definition 'Transaction/TradeWithCashReserve/CashReserveLuid'](#5.1-Set-Up-Property-Definition-'Transaction/TradeWithCashReserve/CashReserveLuid')\n",
    "    * [5.2 Set Up Side Definition 'CashReserve'](#5.2-Set-Up-Side-Definition-'CashReserve')\n",
    "    * [5.3 Set Up Transaction Type 'BuyFromCashReserve'](#5.3-Set-Up-Transaction-Type-'BuyFromCashReserve')\n",
    "    * [5.4 Insert 'Buy Amazon' Transaction with Transaction Type 'BuyFromCashReserve'](#5.4-Insert-'Buy-Amazon'-Transaction-with-Transaction-Type-'BuyFromCashReserve')\n",
    "    * [5.5 Examine Holdings after Update Transaction with 'BuyFromCashReserve' Transaction Type](#5.5-Examine-Holdings-after-Update-Transaction-with-'BuyFromCashReserve'-Transaction-Type)\n",
    "6. [Data Cleanup](#6.-Data-Cleanup)"
   ]
  },
  {
   "cell_type": "markdown",
   "id": "1d0037cc",
   "metadata": {},
   "source": [
    "## 1. Overview\n",
    "\n",
    "In addition to transaction types and configrations provided by default, other entity fields and properties can be utilised when creating your own [transaction configuration](https://support.lusid.com/knowledgebase/article/KA-01872) . s\n",
    "\n",
    "In this notebook, we demonstrate how to create a custom buy transaction that funds the security purchase out of a cash reserve fund rather than the default LUSID currency instrument."
   ]
  },
  {
   "cell_type": "markdown",
   "id": "1be5c120",
   "metadata": {},
   "source": [
    "## 2. Setup"
   ]
  },
  {
   "cell_type": "code",
   "execution_count": 2,
   "id": "dfa15bbe",
   "metadata": {},
   "outputs": [],
   "source": [
    "# Import general purpose packages\n",
    "import os\n",
    "import json\n",
    "from datetime import datetime\n",
    "from datetime import timedelta\n",
    "import pytz\n",
    "\n",
    "# Import lusid specific packages\n",
    "import lusid\n",
    "import lusid.models as models\n",
    "from lusid.exceptions import ApiException\n",
    "from lusid.utilities import ApiClientFactory\n",
    "from lusidjam.refreshing_token import RefreshingToken\n",
    "from lusidtools.pandas_utils.lusid_pandas import lusid_response_to_data_frame\n",
    "from lusidtools.cocoon.seed_sample_data import seed_data\n",
    "from lusidtools.cocoon.utilities import create_scope_id\n",
    "\n",
    "# Import data wrangling packages\n",
    "import pandas as pd\n",
    "\n",
    "pd.set_option(\"display.max_columns\", None)\n",
    "\n",
    "# Authenticate our user and create our API client\n",
    "secrets_path = os.getenv(\"FBN_SECRETS_PATH\")\n",
    "\n",
    "# Initiate an API Factory which is the client side object for interacting with LUSID APIs\n",
    "api_factory = lusid.utilities.ApiClientFactory(\n",
    "    token=RefreshingToken(),\n",
    "    api_secrets_filename=secrets_path,\n",
    "    app_name=\"LusidJupyterNotebook\",\n",
    ")"
   ]
  },
  {
   "cell_type": "markdown",
   "id": "ca6f5b98",
   "metadata": {},
   "source": [
    "Load a mapping file for DataFrame headers for handling responses from \n",
    "+ `build transaction`\n",
    "+ `get holdings`\n",
    "+ `list_instruments`"
   ]
  },
  {
   "cell_type": "code",
   "execution_count": 3,
   "id": "03ee8261",
   "metadata": {},
   "outputs": [],
   "source": [
    "with open(r\"config/build_transactions_mapping.json\") as mappings_file:\n",
    "    build_transactions_json_mapping = json.load(mappings_file)\n",
    "\n",
    "with open(r\"config/get_holdings_mapping.json\") as mappings_file:\n",
    "    get_holdings_json_mapping = json.load(mappings_file)\n",
    "\n",
    "with open(r\"config/list_instruments_mapping.json\") as mappings_file:\n",
    "    list_instruments_json_mapping = json.load(mappings_file)"
   ]
  },
  {
   "cell_type": "markdown",
   "id": "08b41700",
   "metadata": {},
   "source": [
    "Create new scope, portfolio code, and dates to be used throughout the notebook"
   ]
  },
  {
   "cell_type": "code",
   "execution_count": 4,
   "id": "894fccca",
   "metadata": {},
   "outputs": [],
   "source": [
    "scope=\"notebook-txn-config\"\n",
    "portfolio_code=\"EQUITY\" + \"-\" + create_scope_id()\n",
    "transaction_date=datetime(year=2020, month=10, day=1, tzinfo=pytz.UTC)\n",
    "settlement_date=datetime(year=2020, month=10, day=5, tzinfo=pytz.UTC)"
   ]
  },
  {
   "cell_type": "markdown",
   "id": "4dd8f638",
   "metadata": {},
   "source": [
    "Define portfolios, transaction portfolios, instruments, transaction configuration and property definitions API, which will be used in later steps."
   ]
  },
  {
   "cell_type": "code",
   "execution_count": 5,
   "id": "4b54d9cc",
   "metadata": {},
   "outputs": [],
   "source": [
    "portfolios_api = api_factory.build(lusid.api.PortfoliosApi)\n",
    "transaction_portfolios_api = api_factory.build(lusid.api.TransactionPortfoliosApi)\n",
    "instruments_api = api_factory.build(lusid.api.InstrumentsApi)\n",
    "transaction_configuration_api = api_factory.build(lusid.api.TransactionConfigurationApi)\n",
    "system_configuration_api = api_factory.build(lusid.api.SystemConfigurationApi)\n",
    "property_definitions_api = api_factory.build(lusid.api.PropertyDefinitionsApi)"
   ]
  },
  {
   "cell_type": "markdown",
   "id": "dc6e605b",
   "metadata": {},
   "source": [
    "Keep a copy of the original transaction types, side definitions, and transaction configuration itself, in order to restore them after the notebook is completed. "
   ]
  },
  {
   "cell_type": "code",
   "execution_count": 6,
   "id": "4e263bc4",
   "metadata": {},
   "outputs": [],
   "source": [
    "original_transaction_types=system_configuration_api.list_configuration_transaction_types()\n",
    "original_side_definitions=original_transaction_types.side_definitions\n",
    "original_transaction_configs=original_transaction_types.transaction_configs"
   ]
  },
  {
   "cell_type": "markdown",
   "id": "8550069f",
   "metadata": {},
   "source": [
    "## 3. Load Data"
   ]
  },
  {
   "cell_type": "markdown",
   "id": "d9fc77bf",
   "metadata": {},
   "source": [
    "### 3.1 Create Portfolio\n",
    "\n",
    "Create a transaction portfolio to insert transactions in later steps."
   ]
  },
  {
   "cell_type": "code",
   "execution_count": 7,
   "id": "31d2e049",
   "metadata": {},
   "outputs": [
    {
     "data": {
      "text/plain": [
       "'Portfolio EQUITY-3bb4-340b-e36c-fa in scope notebook-txn-config created.'"
      ]
     },
     "metadata": {},
     "output_type": "display_data"
    }
   ],
   "source": [
    "# Create a transaction portfolio, with base currency GBP\n",
    "\n",
    "try:\n",
    "    create_transaction_portfolio_response=transaction_portfolios_api.create_portfolio(\n",
    "        scope=scope,\n",
    "        create_transaction_portfolio_request=models.CreateTransactionPortfolioRequest(\n",
    "            code=portfolio_code,\n",
    "            display_name=portfolio_code,\n",
    "            base_currency='GBP',\n",
    "            created='2000-01-01T00:00:00+00:00'\n",
    "        )\n",
    "    )\n",
    "    display(f\"Portfolio {portfolio_code} in scope {scope} created.\")\n",
    "\n",
    "except ApiException as e: \n",
    "    if json.loads(e.body)[\"name\"] == \"PortfolioWithIdAlreadyExists\":\n",
    "        display(f\"Portfolio {portfolio_code} in scope {scope} already exists.\")\n",
    "    "
   ]
  },
  {
   "cell_type": "markdown",
   "id": "74012ea7",
   "metadata": {},
   "source": [
    "### 3.2 Create Instruments\n",
    "\n",
    "Create 3 instruments for later use: \n",
    "\n",
    "- VOD.L equity \n",
    "- AMZN equity\n",
    "- USD Cash Reserve as SimpleInstrument"
   ]
  },
  {
   "cell_type": "code",
   "execution_count": 8,
   "id": "19a61440",
   "metadata": {},
   "outputs": [],
   "source": [
    "upsert_instruments_response = instruments_api.upsert_instruments(\n",
    "    scope=\"default\",\n",
    "    request_body=\n",
    "    {\n",
    "        'create-VOD.L':\n",
    "        models.InstrumentDefinition(\n",
    "            name='Vodafone PLC',\n",
    "            identifiers={\n",
    "                'ClientInternal': models.InstrumentIdValue('cid_VOD.L')\n",
    "            },\n",
    "            definition=models.Equity(\n",
    "                instrument_type=\"Equity\",\n",
    "                dom_ccy=\"GBP\",\n",
    "            )\n",
    "        ),\n",
    "        'create-AMZN':\n",
    "        models.InstrumentDefinition(\n",
    "            name='Amazon',\n",
    "            identifiers={\n",
    "                'ClientInternal': models.InstrumentIdValue('cid_AMZN')\n",
    "            },\n",
    "            definition=models.Equity(\n",
    "                instrument_type=\"Equity\",\n",
    "                dom_ccy=\"USD\",\n",
    "            )\n",
    "        ),\n",
    "        'create-cash-reserve-usd':\n",
    "        models.InstrumentDefinition(\n",
    "            name='Cash Reserve (USD)',\n",
    "            identifiers={\n",
    "                'ClientInternal': models.InstrumentIdValue('cid_cash_reserve_usd')\n",
    "            },\n",
    "            definition=models.SimpleInstrument(\n",
    "                asset_class='Money',\n",
    "                dom_ccy='USD',\n",
    "                simple_instrument_type='None',\n",
    "                instrument_type='SimpleInstrument'\n",
    "            )\n",
    "        )\n",
    "    }\n",
    ")\n",
    "\n",
    "# In addition, we will keep record of LusidInstrumentId for that USD Cash Reserve for later use.\n",
    "\n",
    "usd_cash_reserve_luid = upsert_instruments_response.values['create-cash-reserve-usd'].identifiers['LusidInstrumentId']"
   ]
  },
  {
   "cell_type": "markdown",
   "id": "092a5d44",
   "metadata": {},
   "source": [
    "### 3.3 Insert Transactions\n",
    "\n",
    "Upsert 3 transactions to transaction portfolio: \n",
    "\n",
    "1. Deposit 150,000.00 GBP of funds into Portfolio\n",
    "2. Buy 250 VOD.L equity stocks, at price 1.00 GBP for each stock\n",
    "3. Deposit 150,000.00 USD of funds as USD Cash Reserve into the portfolio"
   ]
  },
  {
   "cell_type": "code",
   "execution_count": 9,
   "id": "5b0da4e8",
   "metadata": {},
   "outputs": [],
   "source": [
    "upsert_ccy_gbp_transaction_response=transaction_portfolios_api.upsert_transactions(\n",
    "    scope=scope,\n",
    "    code=portfolio_code,\n",
    "    transaction_request=[\n",
    "        models.TransactionRequest(\n",
    "            transaction_id='trd-0001',\n",
    "            type='FundsIn',\n",
    "            instrument_identifiers={\n",
    "                'Instrument/default/Currency':'GBP'\n",
    "            },\n",
    "            transaction_date=transaction_date.isoformat(),\n",
    "            settlement_date=settlement_date.isoformat(),\n",
    "            units=150000,\n",
    "            transaction_price=models.TransactionPrice(\n",
    "                price=1,\n",
    "                type='Price'\n",
    "            ),\n",
    "            total_consideration=models.CurrencyAndAmount(\n",
    "                amount=150000,\n",
    "                currency='GBP'\n",
    "            )\n",
    "        )\n",
    "    ]\n",
    ")"
   ]
  },
  {
   "cell_type": "code",
   "execution_count": 10,
   "id": "6a5973f8",
   "metadata": {},
   "outputs": [],
   "source": [
    "upsert_vod_transaction_response=transaction_portfolios_api.upsert_transactions(\n",
    "    scope=scope,\n",
    "    code=portfolio_code,\n",
    "    transaction_request=[\n",
    "        models.TransactionRequest(\n",
    "            transaction_id='trd-0002',\n",
    "            type='Buy',\n",
    "            instrument_identifiers=\n",
    "            {\n",
    "                'Instrument/default/ClientInternal':'cid_VOD.L'\n",
    "            },\n",
    "            transaction_date=transaction_date.isoformat(),\n",
    "            settlement_date=settlement_date.isoformat(),\n",
    "            units=250,\n",
    "            transaction_price=models.TransactionPrice(\n",
    "                price=1,\n",
    "                type='Price'\n",
    "            ),\n",
    "            total_consideration=models.CurrencyAndAmount(\n",
    "                amount=250,\n",
    "                currency='GBP'\n",
    "            )\n",
    "        )\n",
    "    ]\n",
    ")"
   ]
  },
  {
   "cell_type": "code",
   "execution_count": 11,
   "id": "859056b0",
   "metadata": {},
   "outputs": [],
   "source": [
    "upsert_usd_cash_reserve_response=transaction_portfolios_api.upsert_transactions(\n",
    "    scope=scope,\n",
    "    code=portfolio_code,\n",
    "    transaction_request=[\n",
    "        models.TransactionRequest(\n",
    "            transaction_id='trd-0003',\n",
    "            type='FundsIn',\n",
    "            instrument_identifiers={\n",
    "                'Instrument/default/ClientInternal':'cid_cash_reserve_usd'\n",
    "            },\n",
    "            transaction_date=transaction_date.isoformat(),\n",
    "            settlement_date=settlement_date.isoformat(),\n",
    "            units=100000,\n",
    "            transaction_price=models.TransactionPrice(\n",
    "                price=1,\n",
    "                type='Price'\n",
    "            ),\n",
    "            total_consideration=models.CurrencyAndAmount(\n",
    "                amount=100000,\n",
    "                currency='USD'\n",
    "            )\n",
    "        )\n",
    "    ]\n",
    ")"
   ]
  },
  {
   "cell_type": "markdown",
   "id": "564c658c",
   "metadata": {},
   "source": [
    "## 4. Examine default Transaction Configuration and Resultant Holdings\n",
    "\n",
    "Let's look at `movements` of associated with two `transaction types` which we used above - \"Buy\" and \"FundsIn\". "
   ]
  },
  {
   "cell_type": "markdown",
   "id": "c9659514",
   "metadata": {},
   "source": [
    "### 4.1 Transaction Type `Buy`\n",
    "\n",
    "\"Buy\" movement type is a default movement type in LUSID. It indicates an increase in stock side (Side1) and a decrease in currency (Side2) when buying a stock. This is one of the most commonly used transaction types \n",
    "\n",
    "Both `Side1` and `Side2` are default [side definitions](https://support.lusid.com/knowledgebase/article/KA-01875/en-us) in LUSID."
   ]
  },
  {
   "cell_type": "code",
   "execution_count": 12,
   "id": "fa12fa6b",
   "metadata": {},
   "outputs": [
    {
     "data": {
      "text/html": [
       "<div>\n",
       "<style scoped>\n",
       "    .dataframe tbody tr th:only-of-type {\n",
       "        vertical-align: middle;\n",
       "    }\n",
       "\n",
       "    .dataframe tbody tr th {\n",
       "        vertical-align: top;\n",
       "    }\n",
       "\n",
       "    .dataframe thead th {\n",
       "        text-align: right;\n",
       "    }\n",
       "</style>\n",
       "<table border=\"1\" class=\"dataframe\">\n",
       "  <thead>\n",
       "    <tr style=\"text-align: right;\">\n",
       "      <th></th>\n",
       "      <th>movement_types</th>\n",
       "      <th>side</th>\n",
       "      <th>direction</th>\n",
       "      <th>properties</th>\n",
       "      <th>mappings</th>\n",
       "      <th>movement_options</th>\n",
       "    </tr>\n",
       "  </thead>\n",
       "  <tbody>\n",
       "    <tr>\n",
       "      <th>0</th>\n",
       "      <td>StockMovement</td>\n",
       "      <td>Side1</td>\n",
       "      <td>1</td>\n",
       "      <td>{}</td>\n",
       "      <td>[]</td>\n",
       "      <td>[]</td>\n",
       "    </tr>\n",
       "    <tr>\n",
       "      <th>1</th>\n",
       "      <td>CashCommitment</td>\n",
       "      <td>Side2</td>\n",
       "      <td>-1</td>\n",
       "      <td>{}</td>\n",
       "      <td>[]</td>\n",
       "      <td>[]</td>\n",
       "    </tr>\n",
       "  </tbody>\n",
       "</table>\n",
       "</div>"
      ],
      "text/plain": [
       "   movement_types   side  direction properties mappings movement_options\n",
       "0   StockMovement  Side1          1         {}       []               []\n",
       "1  CashCommitment  Side2         -1         {}       []               []"
      ]
     },
     "execution_count": 12,
     "metadata": {},
     "output_type": "execute_result"
    }
   ],
   "source": [
    "get_buy_transaction_configuration_response = transaction_configuration_api.get_transaction_type(\n",
    "    source='default',\n",
    "    type='Buy'\n",
    ")\n",
    "\n",
    "lusid_response_to_data_frame(get_buy_transaction_configuration_response.movements)"
   ]
  },
  {
   "cell_type": "markdown",
   "id": "191058a8",
   "metadata": {},
   "source": [
    "### 4.2 Transaction Type `FundsIn`\n",
    "\n",
    "'FundsIn' movement type is another default movement type in LUSID. It states an increase of stock side (Side1). It is usually used to deposit funds into the portfolio."
   ]
  },
  {
   "cell_type": "code",
   "execution_count": 13,
   "id": "5356d673",
   "metadata": {},
   "outputs": [
    {
     "data": {
      "text/html": [
       "<div>\n",
       "<style scoped>\n",
       "    .dataframe tbody tr th:only-of-type {\n",
       "        vertical-align: middle;\n",
       "    }\n",
       "\n",
       "    .dataframe tbody tr th {\n",
       "        vertical-align: top;\n",
       "    }\n",
       "\n",
       "    .dataframe thead th {\n",
       "        text-align: right;\n",
       "    }\n",
       "</style>\n",
       "<table border=\"1\" class=\"dataframe\">\n",
       "  <thead>\n",
       "    <tr style=\"text-align: right;\">\n",
       "      <th></th>\n",
       "      <th>movement_types</th>\n",
       "      <th>side</th>\n",
       "      <th>direction</th>\n",
       "      <th>properties</th>\n",
       "      <th>mappings</th>\n",
       "      <th>movement_options</th>\n",
       "    </tr>\n",
       "  </thead>\n",
       "  <tbody>\n",
       "    <tr>\n",
       "      <th>0</th>\n",
       "      <td>CashReceivable</td>\n",
       "      <td>Side1</td>\n",
       "      <td>1</td>\n",
       "      <td>{}</td>\n",
       "      <td>[]</td>\n",
       "      <td>[]</td>\n",
       "    </tr>\n",
       "  </tbody>\n",
       "</table>\n",
       "</div>"
      ],
      "text/plain": [
       "   movement_types   side  direction properties mappings movement_options\n",
       "0  CashReceivable  Side1          1         {}       []               []"
      ]
     },
     "execution_count": 13,
     "metadata": {},
     "output_type": "execute_result"
    }
   ],
   "source": [
    "get_funds_in_transaction_configuration_response = transaction_configuration_api.get_transaction_type(\n",
    "    source='default',\n",
    "    type='FundsIn'\n",
    ")\n",
    "\n",
    "lusid_response_to_data_frame(get_funds_in_transaction_configuration_response.movements)"
   ]
  },
  {
   "cell_type": "markdown",
   "id": "35d054c3",
   "metadata": {},
   "source": [
    "### 4.3 Resultant Holdings\n",
    "\n",
    "When getting holdings for portfolio, you should see 5 holdings: \n",
    "\n",
    "1. 250 units of VOD.L @ 1.00 GBP, with total cost of 250.00 GBP\n",
    "2. 150,000 'units' of USD Cash Reserve\n",
    "3. 149,750.00 GBP in portfolio, due to\n",
    "  - 150000.00 GBP as \"funds\" got \"in\"\n",
    "  - 250.00 GBP used to buy 250 VOD.L stocks"
   ]
  },
  {
   "cell_type": "code",
   "execution_count": 14,
   "id": "9861efbe",
   "metadata": {},
   "outputs": [
    {
     "data": {
      "text/html": [
       "<div>\n",
       "<style scoped>\n",
       "    .dataframe tbody tr th:only-of-type {\n",
       "        vertical-align: middle;\n",
       "    }\n",
       "\n",
       "    .dataframe tbody tr th {\n",
       "        vertical-align: top;\n",
       "    }\n",
       "\n",
       "    .dataframe thead th {\n",
       "        text-align: right;\n",
       "    }\n",
       "</style>\n",
       "<table border=\"1\" class=\"dataframe\">\n",
       "  <thead>\n",
       "    <tr style=\"text-align: right;\">\n",
       "      <th></th>\n",
       "      <th>instrument_scope</th>\n",
       "      <th>LusidInstrumentId</th>\n",
       "      <th>SubHoldingKeys</th>\n",
       "      <th>InstrumentName</th>\n",
       "      <th>SourcePortfolioId</th>\n",
       "      <th>SourcePortfolioScope(default-Properties)</th>\n",
       "      <th>HoldingType</th>\n",
       "      <th>Units</th>\n",
       "      <th>SettledUnits</th>\n",
       "      <th>Amount-Cost</th>\n",
       "      <th>Currency-Cost</th>\n",
       "      <th>Amount-CostPortfolioCcy</th>\n",
       "      <th>Currenct-CostPortfolioCcy</th>\n",
       "      <th>currency</th>\n",
       "      <th>holding_type_name</th>\n",
       "    </tr>\n",
       "  </thead>\n",
       "  <tbody>\n",
       "    <tr>\n",
       "      <th>0</th>\n",
       "      <td>default</td>\n",
       "      <td>LUID_00003D6P</td>\n",
       "      <td>{}</td>\n",
       "      <td>Vodafone PLC</td>\n",
       "      <td>EQUITY-3bb4-340b-e36c-fa</td>\n",
       "      <td>notebook-txn-config</td>\n",
       "      <td>P</td>\n",
       "      <td>250.0</td>\n",
       "      <td>250.0</td>\n",
       "      <td>250.0</td>\n",
       "      <td>GBP</td>\n",
       "      <td>250.0</td>\n",
       "      <td>GBP</td>\n",
       "      <td>GBP</td>\n",
       "      <td>Position</td>\n",
       "    </tr>\n",
       "    <tr>\n",
       "      <th>1</th>\n",
       "      <td>default</td>\n",
       "      <td>CCY_GBP</td>\n",
       "      <td>{}</td>\n",
       "      <td>GBP</td>\n",
       "      <td>EQUITY-3bb4-340b-e36c-fa</td>\n",
       "      <td>notebook-txn-config</td>\n",
       "      <td>B</td>\n",
       "      <td>149750.0</td>\n",
       "      <td>149750.0</td>\n",
       "      <td>149750.0</td>\n",
       "      <td>GBP</td>\n",
       "      <td>149750.0</td>\n",
       "      <td>GBP</td>\n",
       "      <td>GBP</td>\n",
       "      <td>Balance</td>\n",
       "    </tr>\n",
       "    <tr>\n",
       "      <th>2</th>\n",
       "      <td>default</td>\n",
       "      <td>LUID_00003D6Q</td>\n",
       "      <td>{}</td>\n",
       "      <td>Cash Reserve (USD)</td>\n",
       "      <td>EQUITY-3bb4-340b-e36c-fa</td>\n",
       "      <td>notebook-txn-config</td>\n",
       "      <td>P</td>\n",
       "      <td>100000.0</td>\n",
       "      <td>100000.0</td>\n",
       "      <td>100000.0</td>\n",
       "      <td>USD</td>\n",
       "      <td>0.0</td>\n",
       "      <td>GBP</td>\n",
       "      <td>USD</td>\n",
       "      <td>Position</td>\n",
       "    </tr>\n",
       "  </tbody>\n",
       "</table>\n",
       "</div>"
      ],
      "text/plain": [
       "  instrument_scope LusidInstrumentId SubHoldingKeys      InstrumentName  \\\n",
       "0          default     LUID_00003D6P             {}        Vodafone PLC   \n",
       "1          default           CCY_GBP             {}                 GBP   \n",
       "2          default     LUID_00003D6Q             {}  Cash Reserve (USD)   \n",
       "\n",
       "          SourcePortfolioId SourcePortfolioScope(default-Properties)  \\\n",
       "0  EQUITY-3bb4-340b-e36c-fa                      notebook-txn-config   \n",
       "1  EQUITY-3bb4-340b-e36c-fa                      notebook-txn-config   \n",
       "2  EQUITY-3bb4-340b-e36c-fa                      notebook-txn-config   \n",
       "\n",
       "  HoldingType     Units  SettledUnits  Amount-Cost Currency-Cost  \\\n",
       "0           P     250.0         250.0        250.0           GBP   \n",
       "1           B  149750.0      149750.0     149750.0           GBP   \n",
       "2           P  100000.0      100000.0     100000.0           USD   \n",
       "\n",
       "   Amount-CostPortfolioCcy Currenct-CostPortfolioCcy currency  \\\n",
       "0                    250.0                       GBP      GBP   \n",
       "1                 149750.0                       GBP      GBP   \n",
       "2                      0.0                       GBP      USD   \n",
       "\n",
       "  holding_type_name  \n",
       "0          Position  \n",
       "1           Balance  \n",
       "2          Position  "
      ]
     },
     "execution_count": 14,
     "metadata": {},
     "output_type": "execute_result"
    }
   ],
   "source": [
    "get_initial_holdings_response = transaction_portfolios_api.get_holdings(\n",
    "    scope=scope,\n",
    "    code=portfolio_code,\n",
    "    property_keys=[\"Instrument/default/Name\"]\n",
    ")\n",
    "\n",
    "lusid_response_to_data_frame(\n",
    "    get_initial_holdings_response,\n",
    "    column_name_mapping=get_holdings_json_mapping,\n",
    "    rename_properties=True)"
   ]
  },
  {
   "cell_type": "markdown",
   "id": "407e6439",
   "metadata": {},
   "source": [
    "## 5. Use Customised Transaction Configuration to Represent Movements\n",
    "\n",
    "This section demonstrates setting up customised Transaction Configuration to change underlying movements of a transaction type. Specificially, we will reference properties on a transaction to define side definitions.\n",
    "\n",
    "In this example, we will update transaction configuration with a new transaction type, so that the funds to buy 300 AMZN stocks will be drawn from USD Cash Reserve instead of USD Currency."
   ]
  },
  {
   "cell_type": "markdown",
   "id": "58f3dd4f",
   "metadata": {},
   "source": [
    "### 5.1 Set Up Property Definition 'Transaction/TradeWithCashReserve/CashReserveLuid'\n",
    "\n",
    "First, create a new property definition with property key 'Transaction/TradeWithCashReserve/DeductFromLuid' for later use. \n",
    "\n",
    "This property will be stamped on the transaction if the funds of buying an instrument needs to be deducted from a specific cash reserve."
   ]
  },
  {
   "cell_type": "code",
   "execution_count": 15,
   "id": "fa87b304",
   "metadata": {},
   "outputs": [
    {
     "data": {
      "text/plain": [
       "\"Property Definition 'Transaction/TradeWithCashReserve/CashReserveLuid' created.\""
      ]
     },
     "metadata": {},
     "output_type": "display_data"
    }
   ],
   "source": [
    "cash_reserve_luid_prop_scope='TradeWithCashReserve'\n",
    "cash_reserve_luid_prop_code='CashReserveLuid'\n",
    "\n",
    "try: \n",
    "    create_cash_reserve_luid_property_definition_response = property_definitions_api.create_property_definition(\n",
    "        create_property_definition_request=models.CreatePropertyDefinitionRequest(\n",
    "            domain='Transaction',\n",
    "            scope=cash_reserve_luid_prop_scope,\n",
    "            code=cash_reserve_luid_prop_code,\n",
    "            display_name='Cash Reserve LUID',\n",
    "            data_type_id=models.ResourceId('system','string'),\n",
    "            life_time='Perpetual',\n",
    "            constraint_style='Property',\n",
    "            property_description='Cash Reserve LUID',\n",
    "        )\n",
    "    )\n",
    "    display(f\"Property Definition 'Transaction/{cash_reserve_luid_prop_scope}/{cash_reserve_luid_prop_code}' created.\")\n",
    "    \n",
    "except ApiException as e: \n",
    "    if json.loads(e.body)[\"name\"] == \"PropertyAlreadyExists\":\n",
    "        display(f\"Property Definition 'Transaction/{cash_reserve_luid_prop_scope}/{cash_reserve_luid_prop_code}' already exists.\")    "
   ]
  },
  {
   "cell_type": "markdown",
   "id": "98fc961d",
   "metadata": {},
   "source": [
    "### 5.2 Set Up Side Definition 'CashReserve'\n",
    "\n",
    "Next, create a new [`side definition`](https://support.lusid.com/knowledgebase/article/KA-01875/) to define cash reserve as a side in any underlying movement.\n",
    "\n",
    "This side definition references security to use 'Transaction/TradeWithCashReserve/CashReserveLuid' property to define the LusidInstrumentId (LUID) of the Cash Reserve."
   ]
  },
  {
   "cell_type": "code",
   "execution_count": 16,
   "id": "b96dfedd",
   "metadata": {},
   "outputs": [],
   "source": [
    "cash_reserve_side_str='CashReserve'\n",
    "\n",
    "cash_reserve_side_def_response = transaction_configuration_api.set_side_definition(\n",
    "    side=cash_reserve_side_str,\n",
    "    side_definition_request=models.SideDefinitionRequest(\n",
    "        security='Transaction/TradeWithCashReserve/CashReserveLuid',\n",
    "        currency='Txn:TradeCurrency',\n",
    "        rate='Txn:TradeToPortfolioRate',\n",
    "        units='Txn:TotalConsideration',\n",
    "        amount='Txn:TotalConsideration'\n",
    "    )\n",
    ")"
   ]
  },
  {
   "cell_type": "markdown",
   "id": "f2e34915",
   "metadata": {},
   "source": [
    "### 5.3 Set Up Transaction Type 'BuyFromCashReserve'\n",
    "\n",
    "Lastly, create a new transaction type \"BuyFromCashReserve\" in \"default\" source. \n",
    "\n",
    "When this transaction type is used, it states to deduct from cash reserve stated in 'Transaction/TradeWithCashReserve/DeductFromLuid' property in a transaction."
   ]
  },
  {
   "cell_type": "code",
   "execution_count": 17,
   "id": "ed5c7eab",
   "metadata": {},
   "outputs": [],
   "source": [
    "buy_from_cash_reserve_txn_type_str='BuyFromCashReserve'\n",
    "\n",
    "buy_from_cash_reserve_in_txn_type_response = transaction_configuration_api.set_transaction_type(\n",
    "    source='default',\n",
    "    type=buy_from_cash_reserve_txn_type_str,\n",
    "    transaction_type_request=models.TransactionTypeRequest(\n",
    "        aliases=[\n",
    "            models.TransactionTypeAlias(\n",
    "                type=buy_from_cash_reserve_txn_type_str,\n",
    "                description='Buy from Cash Reserve',\n",
    "                transaction_class='Basic',\n",
    "                transaction_roles='LongLonger'\n",
    "            )\n",
    "        ],\n",
    "        movements=[\n",
    "            models.TransactionTypeMovement(\n",
    "                movement_types='StockMovement',\n",
    "                side='Side1',\n",
    "                direction=1\n",
    "            ),\n",
    "            models.TransactionTypeMovement(\n",
    "                movement_types='CashCommitment',\n",
    "                side=cash_reserve_side_str,\n",
    "                direction=-1\n",
    "            )\n",
    "        ]\n",
    "    )\n",
    ")"
   ]
  },
  {
   "cell_type": "markdown",
   "id": "cb397bbd",
   "metadata": {},
   "source": [
    "### 5.4 Insert 'Buy Amazon' Transaction with Transaction Type 'BuyFromCashReserve'\n",
    "\n",
    "Now, we insert a transaction for buying Amazon stocks. \n",
    "\n",
    "There are two main points to note:\n",
    "\n",
    "1. This transaction has an additional property key 'Transaction/TradeWithCashReserve/CashReserve'. The value of this property is the LusidInstrumentId (LUID) of the same USD Cash Reserve we created earlier.\n",
    "2. Transaction Type is 'BuyFromCashReserve', which was set up previously. By using this transaction type, the funds used to buy these stock will come from the instrument with LusidInstrumentId stated in 'Transaction/TradeWithCashReserve/CashReserve', which is the USD Cash Reserve created in previous steps."
   ]
  },
  {
   "cell_type": "code",
   "execution_count": 18,
   "id": "9698cb51",
   "metadata": {},
   "outputs": [],
   "source": [
    "upsert_amzn_transaction_response=transaction_portfolios_api.upsert_transactions(\n",
    "    scope=scope,\n",
    "    code=portfolio_code,\n",
    "    transaction_request=[\n",
    "        models.TransactionRequest(\n",
    "            transaction_id='trd-0004',\n",
    "            type=buy_from_cash_reserve_txn_type_str,\n",
    "            instrument_identifiers={\n",
    "                'Instrument/default/ClientInternal':'cid_AMZN'\n",
    "            },\n",
    "            transaction_date=transaction_date.isoformat(),\n",
    "            settlement_date=settlement_date.isoformat(),\n",
    "            units=300,\n",
    "            transaction_price=models.TransactionPrice(\n",
    "                price=95,\n",
    "                type='Price'\n",
    "            ),\n",
    "            total_consideration=models.CurrencyAndAmount(\n",
    "                amount=28500,\n",
    "                currency='USD'\n",
    "            ),\n",
    "            properties={\n",
    "                'Transaction/TradeWithCashReserve/CashReserveLuid':\n",
    "                models.PerpetualProperty(\n",
    "                    key='Transaction/TradeWithCashReserve/CashReserveLuid',\n",
    "                    value=models.PropertyValue(\n",
    "                        label_value=usd_cash_reserve_luid\n",
    "                    )\n",
    "                )\n",
    "            }\n",
    "        )\n",
    "    ]\n",
    ")"
   ]
  },
  {
   "cell_type": "markdown",
   "id": "1d270164",
   "metadata": {},
   "source": [
    "### 5.5 Examine Holdings after Update Transaction with 'BuyFromCashReserve' Transaction Type\n",
    "\n",
    "Now, get holdings for the portfolio again.\n",
    "\n",
    "Take note of the holdings associated with the 'Cash Reserve (USD)' instrument. This is because the \"BuyFromCashReserve\" transaction type has used the funds in USD Cash Reserve to buy those 300 Amazon stock, which costs 28,500 USD in total.\n",
    "\n",
    "This leaves 100,000 - 28,500 = 71,500 in USD Cash Reserve."
   ]
  },
  {
   "cell_type": "code",
   "execution_count": 19,
   "id": "7973ca4b",
   "metadata": {},
   "outputs": [
    {
     "data": {
      "text/html": [
       "<div>\n",
       "<style scoped>\n",
       "    .dataframe tbody tr th:only-of-type {\n",
       "        vertical-align: middle;\n",
       "    }\n",
       "\n",
       "    .dataframe tbody tr th {\n",
       "        vertical-align: top;\n",
       "    }\n",
       "\n",
       "    .dataframe thead th {\n",
       "        text-align: right;\n",
       "    }\n",
       "</style>\n",
       "<table border=\"1\" class=\"dataframe\">\n",
       "  <thead>\n",
       "    <tr style=\"text-align: right;\">\n",
       "      <th></th>\n",
       "      <th>instrument_scope</th>\n",
       "      <th>LusidInstrumentId</th>\n",
       "      <th>SubHoldingKeys</th>\n",
       "      <th>InstrumentName</th>\n",
       "      <th>SourcePortfolioId</th>\n",
       "      <th>SourcePortfolioScope(default-Properties)</th>\n",
       "      <th>HoldingType</th>\n",
       "      <th>Units</th>\n",
       "      <th>SettledUnits</th>\n",
       "      <th>Amount-Cost</th>\n",
       "      <th>Currency-Cost</th>\n",
       "      <th>Amount-CostPortfolioCcy</th>\n",
       "      <th>Currenct-CostPortfolioCcy</th>\n",
       "      <th>currency</th>\n",
       "      <th>holding_type_name</th>\n",
       "    </tr>\n",
       "  </thead>\n",
       "  <tbody>\n",
       "    <tr>\n",
       "      <th>0</th>\n",
       "      <td>default</td>\n",
       "      <td>LUID_00003D6P</td>\n",
       "      <td>{}</td>\n",
       "      <td>Vodafone PLC</td>\n",
       "      <td>EQUITY-3bb4-340b-e36c-fa</td>\n",
       "      <td>notebook-txn-config</td>\n",
       "      <td>P</td>\n",
       "      <td>250.0</td>\n",
       "      <td>250.0</td>\n",
       "      <td>250.0</td>\n",
       "      <td>GBP</td>\n",
       "      <td>250.0</td>\n",
       "      <td>GBP</td>\n",
       "      <td>GBP</td>\n",
       "      <td>Position</td>\n",
       "    </tr>\n",
       "    <tr>\n",
       "      <th>1</th>\n",
       "      <td>default</td>\n",
       "      <td>LUID_00003D6R</td>\n",
       "      <td>{}</td>\n",
       "      <td>Amazon</td>\n",
       "      <td>EQUITY-3bb4-340b-e36c-fa</td>\n",
       "      <td>notebook-txn-config</td>\n",
       "      <td>P</td>\n",
       "      <td>300.0</td>\n",
       "      <td>300.0</td>\n",
       "      <td>28500.0</td>\n",
       "      <td>USD</td>\n",
       "      <td>0.0</td>\n",
       "      <td>GBP</td>\n",
       "      <td>USD</td>\n",
       "      <td>Position</td>\n",
       "    </tr>\n",
       "    <tr>\n",
       "      <th>2</th>\n",
       "      <td>default</td>\n",
       "      <td>CCY_GBP</td>\n",
       "      <td>{}</td>\n",
       "      <td>GBP</td>\n",
       "      <td>EQUITY-3bb4-340b-e36c-fa</td>\n",
       "      <td>notebook-txn-config</td>\n",
       "      <td>B</td>\n",
       "      <td>149750.0</td>\n",
       "      <td>149750.0</td>\n",
       "      <td>149750.0</td>\n",
       "      <td>GBP</td>\n",
       "      <td>149750.0</td>\n",
       "      <td>GBP</td>\n",
       "      <td>GBP</td>\n",
       "      <td>Balance</td>\n",
       "    </tr>\n",
       "    <tr>\n",
       "      <th>3</th>\n",
       "      <td>default</td>\n",
       "      <td>LUID_00003D6Q</td>\n",
       "      <td>{}</td>\n",
       "      <td>Cash Reserve (USD)</td>\n",
       "      <td>EQUITY-3bb4-340b-e36c-fa</td>\n",
       "      <td>notebook-txn-config</td>\n",
       "      <td>P</td>\n",
       "      <td>71500.0</td>\n",
       "      <td>71500.0</td>\n",
       "      <td>71500.0</td>\n",
       "      <td>USD</td>\n",
       "      <td>0.0</td>\n",
       "      <td>GBP</td>\n",
       "      <td>USD</td>\n",
       "      <td>Position</td>\n",
       "    </tr>\n",
       "  </tbody>\n",
       "</table>\n",
       "</div>"
      ],
      "text/plain": [
       "  instrument_scope LusidInstrumentId SubHoldingKeys      InstrumentName  \\\n",
       "0          default     LUID_00003D6P             {}        Vodafone PLC   \n",
       "1          default     LUID_00003D6R             {}              Amazon   \n",
       "2          default           CCY_GBP             {}                 GBP   \n",
       "3          default     LUID_00003D6Q             {}  Cash Reserve (USD)   \n",
       "\n",
       "          SourcePortfolioId SourcePortfolioScope(default-Properties)  \\\n",
       "0  EQUITY-3bb4-340b-e36c-fa                      notebook-txn-config   \n",
       "1  EQUITY-3bb4-340b-e36c-fa                      notebook-txn-config   \n",
       "2  EQUITY-3bb4-340b-e36c-fa                      notebook-txn-config   \n",
       "3  EQUITY-3bb4-340b-e36c-fa                      notebook-txn-config   \n",
       "\n",
       "  HoldingType     Units  SettledUnits  Amount-Cost Currency-Cost  \\\n",
       "0           P     250.0         250.0        250.0           GBP   \n",
       "1           P     300.0         300.0      28500.0           USD   \n",
       "2           B  149750.0      149750.0     149750.0           GBP   \n",
       "3           P   71500.0       71500.0      71500.0           USD   \n",
       "\n",
       "   Amount-CostPortfolioCcy Currenct-CostPortfolioCcy currency  \\\n",
       "0                    250.0                       GBP      GBP   \n",
       "1                      0.0                       GBP      USD   \n",
       "2                 149750.0                       GBP      GBP   \n",
       "3                      0.0                       GBP      USD   \n",
       "\n",
       "  holding_type_name  \n",
       "0          Position  \n",
       "1          Position  \n",
       "2           Balance  \n",
       "3          Position  "
      ]
     },
     "execution_count": 19,
     "metadata": {},
     "output_type": "execute_result"
    }
   ],
   "source": [
    "get_holdings_response = transaction_portfolios_api.get_holdings(\n",
    "    scope=scope,\n",
    "    code=portfolio_code,\n",
    "    property_keys=[\"Instrument/default/Name\"]\n",
    ")\n",
    "\n",
    "lusid_response_to_data_frame(\n",
    "    get_holdings_response,\n",
    "    column_name_mapping=get_holdings_json_mapping,\n",
    "    rename_properties=True)"
   ]
  },
  {
   "cell_type": "markdown",
   "id": "07469451",
   "metadata": {},
   "source": [
    "## 6. Data Cleanup"
   ]
  },
  {
   "cell_type": "markdown",
   "id": "ae6224a8",
   "metadata": {},
   "source": [
    "Delete portfolio used in this notebook"
   ]
  },
  {
   "cell_type": "code",
   "execution_count": 20,
   "id": "b50ee7bc",
   "metadata": {},
   "outputs": [
    {
     "data": {
      "text/plain": [
       "'Portfolio EQUITY-3bb4-340b-e36c-fa in scope notebook-txn-config deleted.'"
      ]
     },
     "metadata": {},
     "output_type": "display_data"
    }
   ],
   "source": [
    "try:\n",
    "    portfolios_api.delete_portfolio(\n",
    "        scope=scope,\n",
    "        code=portfolio_code)\n",
    "    display(f\"Portfolio {portfolio_code} in scope {scope} deleted.\")\n",
    "except ApiException as e: \n",
    "    if json.loads(e.body)[\"name\"] == \"PortfolioNotFound\":\n",
    "        display(f\"Portfolio {portfolio_code} in scope {scope} already deleted.\")"
   ]
  },
  {
   "cell_type": "markdown",
   "id": "d4e412c1",
   "metadata": {},
   "source": [
    "Delete the transaction type created in this notebook"
   ]
  },
  {
   "cell_type": "code",
   "execution_count": 21,
   "id": "4fd2dc7f",
   "metadata": {},
   "outputs": [
    {
     "data": {
      "text/plain": [
       "\"Transaction Configuration Type 'BuyFromCashReserve' from source 'default' deleted.\""
      ]
     },
     "metadata": {},
     "output_type": "display_data"
    }
   ],
   "source": [
    "try:\n",
    "    transaction_configuration_api.delete_transaction_type(\n",
    "        source='default',\n",
    "        type=buy_from_cash_reserve_txn_type_str\n",
    "    )\n",
    "    display(f\"Transaction Configuration Type '{buy_from_cash_reserve_txn_type_str}' from source 'default' deleted.\")\n",
    "except:\n",
    "    display(f\"Transaction Configuration Type '{buy_from_cash_reserve_txn_type_str}' from source 'default' already deleted.\")"
   ]
  },
  {
   "cell_type": "markdown",
   "id": "07cf7cce",
   "metadata": {},
   "source": [
    "Delete the property definition created in this notebook"
   ]
  },
  {
   "cell_type": "code",
   "execution_count": 22,
   "id": "986699c8",
   "metadata": {},
   "outputs": [
    {
     "data": {
      "text/plain": [
       "\"Property Definition 'Transaction/TradeWithCashReserve/CashReserveLuid' deleted.\""
      ]
     },
     "metadata": {},
     "output_type": "display_data"
    }
   ],
   "source": [
    "try: \n",
    "    property_definitions_api.delete_property_definition(\n",
    "        domain='Transaction',\n",
    "        scope=cash_reserve_luid_prop_scope,\n",
    "        code=cash_reserve_luid_prop_code\n",
    "    )\n",
    "    display(f\"Property Definition 'Transaction/{cash_reserve_luid_prop_scope}/{cash_reserve_luid_prop_code}' deleted.\")\n",
    "except ApiException as e: \n",
    "    if json.loads(e.body)[\"name\"] == \"PropertyNotDefined\":\n",
    "        display(f\"Property Definition 'Transaction/{cash_reserve_luid_prop_scope}/{cash_reserve_luid_prop_code}' does not exist.\")"
   ]
  },
  {
   "cell_type": "markdown",
   "id": "de1dc1e0",
   "metadata": {},
   "source": [
    "Reset transaction types in this notebook"
   ]
  },
  {
   "cell_type": "code",
   "execution_count": 23,
   "id": "19e4729b",
   "metadata": {},
   "outputs": [],
   "source": [
    "reset_transaction_types=system_configuration_api.set_configuration_transaction_types(\n",
    "    transaction_set_configuration_data_request=models.TransactionSetConfigurationDataRequest(\n",
    "        transaction_config_requests=original_transaction_configs,\n",
    "        side_config_requests=original_side_definitions\n",
    "    )\n",
    ")"
   ]
  }
 ],
 "metadata": {
  "kernelspec": {
   "display_name": "Python 3 (ipykernel)",
   "language": "python",
   "name": "python3"
  },
  "language_info": {
   "codemirror_mode": {
    "name": "ipython",
    "version": 3
   },
   "file_extension": ".py",
   "mimetype": "text/x-python",
   "name": "python",
   "nbconvert_exporter": "python",
   "pygments_lexer": "ipython3",
   "version": "3.9.7"
  },
  "toc": {
   "base_numbering": 1,
   "nav_menu": {},
   "number_sections": false,
   "sideBar": true,
   "skip_h1_title": false,
   "title_cell": "Table of Contents",
   "title_sidebar": "Contents",
   "toc_cell": false,
   "toc_position": {},
   "toc_section_display": true,
   "toc_window_display": false
  },
  "varInspector": {
   "cols": {
    "lenName": 16,
    "lenType": 16,
    "lenVar": 40
   },
   "kernels_config": {
    "python": {
     "delete_cmd_postfix": "",
     "delete_cmd_prefix": "del ",
     "library": "var_list.py",
     "varRefreshCmd": "print(var_dic_list())"
    },
    "r": {
     "delete_cmd_postfix": ") ",
     "delete_cmd_prefix": "rm(",
     "library": "var_list.r",
     "varRefreshCmd": "cat(var_dic_list()) "
    }
   },
   "types_to_exclude": [
    "module",
    "function",
    "builtin_function_or_method",
    "instance",
    "_Feature"
   ],
   "window_display": false
  }
 },
 "nbformat": 4,
 "nbformat_minor": 5
}
