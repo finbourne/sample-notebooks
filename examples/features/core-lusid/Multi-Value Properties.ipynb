{
 "cells": [
  {
   "cell_type": "code",
   "execution_count": 1,
   "metadata": {},
   "outputs": [
    {
     "data": {
      "text/html": [
       "\n",
       "    <form action=\"javascript:code_toggle()\"><input type=\"submit\" id=\"toggleButton\" value=\"Toggle Docstring\"></form>\n",
       "    \n",
       "         <script>\n",
       "         function code_toggle() {\n",
       "             if ($('div.cell.code_cell.rendered.selected div.input').css('display')!='none'){\n",
       "                 $('div.cell.code_cell.rendered.selected div.input').hide();\n",
       "             } else {\n",
       "                 $('div.cell.code_cell.rendered.selected div.input').show();\n",
       "             }\n",
       "         }\n",
       "         </script>\n",
       "\n",
       "     "
      ],
      "text/plain": [
       "<IPython.core.display.HTML object>"
      ]
     },
     "metadata": {},
     "output_type": "display_data"
    }
   ],
   "source": [
    "from lusidtools.jupyter_tools import toggle_code\n",
    "\n",
    "\"\"\"Time-variant Properties (e.g. coupon schedule) in LUSID \n",
    "\n",
    "Attributes\n",
    "----------\n",
    "coupon schedules\n",
    "multi-valued properties\n",
    "time-variant properties\n",
    "\"\"\"\n",
    "\n",
    "toggle_code(\"Toggle Docstring\")"
   ]
  },
  {
   "cell_type": "markdown",
   "metadata": {},
   "source": [
    "## Multi-value Properties\n",
    "\n",
    "This notebook illustrates the use of multi-value properties, which are a type of property that can store a set of values, such as a schedule or other sequence defined by the user. \n",
    "\n",
    "In the example below we use a quarterly ratings schedule as a demonstrative example, showing how the LUSID API can be used to query a schedule of key value pairs for the effective dates and values."
   ]
  },
  {
   "cell_type": "code",
   "execution_count": 2,
   "metadata": {},
   "outputs": [
    {
     "name": "stdout",
     "output_type": "stream",
     "text": [
      "LUSID Environment Initialised\n",
      "LUSID version :  0.6.5656.0\n"
     ]
    }
   ],
   "source": [
    "# Import lusid specific packages\n",
    "# These are the core lusid packages for interacting with the API via Python\n",
    "\n",
    "import lusid\n",
    "import lusid.models as models\n",
    "from lusid.utilities import ApiClientFactory\n",
    "from lusidjam.refreshing_token import RefreshingToken\n",
    "from lusidtools.cocoon.cocoon import load_from_data_frame\n",
    "from lusidtools.cocoon.cocoon_printer import (\n",
    "    format_instruments_response,\n",
    "    format_portfolios_response,\n",
    "    format_transactions_response,\n",
    "    format_quotes_response,\n",
    ")\n",
    "from lusidtools.pandas_utils.lusid_pandas import lusid_response_to_data_frame\n",
    "\n",
    "# Import libraries\n",
    "from datetime import datetime, timedelta\n",
    "import time\n",
    "import pytz\n",
    "import json\n",
    "import os\n",
    "import re\n",
    "import pandas as pd\n",
    "\n",
    "# Set pandas dataframe display formatting\n",
    "pd.set_option('display.max_columns', None)\n",
    "pd.options.display.float_format = '{:,.2f}'.format\n",
    "\n",
    "# Configure notebook logging and warnings\n",
    "import logging\n",
    "logging.basicConfig(level=logging.INFO)\n",
    "\n",
    "# Authenticate our user and create our API client\n",
    "secrets_path = os.getenv(\"FBN_SECRETS_PATH\")\n",
    "\n",
    "# Initiate an API Factory which is the client side object for interacting with LUSID APIs\n",
    "api_factory = lusid.utilities.ApiClientFactory(\n",
    "    token=RefreshingToken(),\n",
    "    api_secrets_filename = secrets_path,\n",
    "    app_name=\"LusidJupyterNotebook\")\n",
    "\n",
    "# Import required LUSID APIs\n",
    "property_definitions_api = api_factory.build(lusid.api.PropertyDefinitionsApi)\n",
    "instruments_api = api_factory.build(lusid.api.InstrumentsApi)\n",
    "portfolios_api = api_factory.build(lusid.api.PortfoliosApi)\n",
    "\n",
    "print('LUSID Environment Initialised')\n",
    "print('LUSID version : ', api_factory.build(lusid.api.ApplicationMetadataApi).get_lusid_versions().build_version)"
   ]
  },
  {
   "cell_type": "markdown",
   "metadata": {},
   "source": [
    "## 1. Load Data\n",
    "\n",
    "### 1.1 Portfolio\n",
    "\n",
    "Load a portfolio with the scope of this notebook. Currently a multi-value property can be assigned to a portfolio of instruments, so below we will define an empty placeholder and upsert it to LUSID using a dataframe. "
   ]
  },
  {
   "cell_type": "code",
   "execution_count": 3,
   "metadata": {},
   "outputs": [],
   "source": [
    "scope = \"MultiValueSchedule\"\n",
    "code = \"RatingSchedule\"\n",
    "\n",
    "# Setup a dataframe from which we will creat the portfolio\n",
    "data = {'portfolio_code':  [code],\n",
    "        'portfolio_name': [code],\n",
    "       }\n",
    "\n",
    "portfolio_df= pd.DataFrame(data, columns=['portfolio_code','portfolio_name'])\n",
    "\n",
    "# Create a mapping schema for the portfolio\n",
    "portfolio_mapping = {\n",
    "    \"required\": {\n",
    "        \"code\": \"portfolio_code\",\n",
    "        \"display_name\": \"portfolio_name\",\n",
    "        \"base_currency\": \"$GBP\",\n",
    "    },\n",
    "    \"optional\": {\"created\": \"$2020-01-01T00:00:00+00:00\"},\n",
    "}"
   ]
  },
  {
   "cell_type": "code",
   "execution_count": 4,
   "metadata": {},
   "outputs": [
    {
     "data": {
      "text/html": [
       "<div>\n",
       "<style scoped>\n",
       "    .dataframe tbody tr th:only-of-type {\n",
       "        vertical-align: middle;\n",
       "    }\n",
       "\n",
       "    .dataframe tbody tr th {\n",
       "        vertical-align: top;\n",
       "    }\n",
       "\n",
       "    .dataframe thead th {\n",
       "        text-align: right;\n",
       "    }\n",
       "</style>\n",
       "<table border=\"1\" class=\"dataframe\">\n",
       "  <thead>\n",
       "    <tr style=\"text-align: right;\">\n",
       "      <th></th>\n",
       "      <th>success</th>\n",
       "      <th>failed</th>\n",
       "    </tr>\n",
       "  </thead>\n",
       "  <tbody>\n",
       "    <tr>\n",
       "      <th>0</th>\n",
       "      <td>1</td>\n",
       "      <td>0</td>\n",
       "    </tr>\n",
       "  </tbody>\n",
       "</table>\n",
       "</div>"
      ],
      "text/plain": [
       "   success  failed\n",
       "0        1       0"
      ]
     },
     "execution_count": 4,
     "metadata": {},
     "output_type": "execute_result"
    }
   ],
   "source": [
    "# A portfolio can be loaded using a dataframe with file_type = \"portfolios\"\n",
    "result = load_from_data_frame(\n",
    "    api_factory=api_factory,\n",
    "    scope=scope,\n",
    "    data_frame=portfolio_df,\n",
    "    mapping_required=portfolio_mapping[\"required\"],\n",
    "    mapping_optional=portfolio_mapping[\"optional\"],\n",
    "    file_type=\"portfolios\",\n",
    "    sub_holding_keys=[],\n",
    ")\n",
    "\n",
    "succ, failed = format_portfolios_response(result)\n",
    "pd.DataFrame(data=[{\"success\": len(succ), \"failed\": len(failed)}])"
   ]
  },
  {
   "cell_type": "markdown",
   "metadata": {},
   "source": [
    "## 2. Multi-Value Property\n",
    "\n",
    "### 2.1 Setup property definition\n",
    "\n",
    "With the instruments in LUSID, we can now define the properties by calling the `PropertyDefinitionsApi`, where we will begin by setting our [**property_defintion**](https://support.finbourne.com/what-is-a-property-definition)."
   ]
  },
  {
   "cell_type": "code",
   "execution_count": 10,
   "metadata": {},
   "outputs": [],
   "source": [
    "# Setup property definition\n",
    "property_scope = \"MultiValue\"\n",
    "property_code = \"QuarterlyRating\"\n",
    "\n",
    "def create_property(property_scope, property_code):\n",
    "    # Create the property definition request\n",
    "    property_definition = models.CreatePropertyDefinitionRequest(\n",
    "                domain=\"Portfolio\",\n",
    "                scope=property_scope,\n",
    "                code=property_code,\n",
    "                display_name=f\"MV-{code}\",\n",
    "                constraint_style=\"Collection\",\n",
    "                data_type_id=lusid.ResourceId(scope=\"system\", code=\"string\"),\n",
    "            )\n",
    "\n",
    "            # create property definition\n",
    "    try:\n",
    "        property_definitions_api.create_property_definition(\n",
    "            create_property_definition_request=property_definition\n",
    "        )\n",
    "    except lusid.ApiException as e:\n",
    "        if json.loads(e.body)[\"name\"] == \"PropertyAlreadyExists\":\n",
    "            logging.info(\n",
    "                f\"Property {property_definition.domain}/{property_definition.scope}/{property_definition.code} already exists\"\n",
    "            )\n",
    "    return property_definition\n",
    "\n",
    "property_definition = create_property(property_scope, property_code)"
   ]
  },
  {
   "cell_type": "markdown",
   "metadata": {},
   "source": [
    "With the property defined, we can use the `PortfoliosApi` to upsert the label-value-set to our desired portfolio which will be matched by the portfolio's scope and code."
   ]
  },
  {
   "cell_type": "code",
   "execution_count": 12,
   "metadata": {},
   "outputs": [],
   "source": [
    "# Create property key from definition\n",
    "property_key = f\"{property_definition.domain}/{property_definition.scope}/{property_definition.code}\"\n",
    "\n",
    "# Add properties to portfolio\n",
    "def upsert_schedule(portfolio_scope, portfolio_code, property_key, schedule):\n",
    "    portfolios_api.upsert_portfolio_properties(\n",
    "        scope=portfolio_scope,\n",
    "        code=portfolio_code,\n",
    "        request_body={\n",
    "            property_key : models.ModelProperty(\n",
    "                key=property_key,\n",
    "                value=models.PropertyValue(\n",
    "                    label_value_set=models.LabelValueSet(values=schedule)\n",
    "                ),\n",
    "            )\n",
    "        },\n",
    "    )\n",
    "\n",
    "schedule = [\n",
    "    '{ \"2019-12-31\" : \"5\"}',\n",
    "    '{ \"2020-03-31\" : \"4\"}',\n",
    "    '{ \"2020-06-30\" : \"3\"}',\n",
    "    '{ \"2020-09-30\" : \"3\"}',\n",
    "]\n",
    "\n",
    "# Use the portfolio identifiers and property key to upsert the schedule\n",
    "upsert_schedule(scope, code, property_key, schedule)"
   ]
  },
  {
   "cell_type": "markdown",
   "metadata": {},
   "source": [
    "### 2.2 Query properties from LUSID\n",
    "\n",
    "With the properties now in LUSID, we can use the the [**get_portfolio_properties**](https://www.lusid.com/docs/api#operation/GetPortfolioProperties) call to the API in order to see the label value set."
   ]
  },
  {
   "cell_type": "code",
   "execution_count": 18,
   "metadata": {},
   "outputs": [
    {
     "data": {
      "text/plain": [
       "{datetime.datetime(2019, 12, 31, 0, 0, tzinfo=<UTC>): '5',\n",
       " datetime.datetime(2020, 3, 30, 23, 0, tzinfo=<UTC>): '4',\n",
       " datetime.datetime(2020, 6, 29, 23, 0, tzinfo=<UTC>): '3',\n",
       " datetime.datetime(2020, 9, 29, 23, 0, tzinfo=<UTC>): '3'}"
      ]
     },
     "execution_count": 18,
     "metadata": {},
     "output_type": "execute_result"
    }
   ],
   "source": [
    "# Build a function to query the property label-value-set\n",
    "def get_portfolio_schedule(portfolio_code, portfolio_scope, property_key):\n",
    "    portfolio_properties = portfolios_api.get_portfolio_properties(\n",
    "            scope=portfolio_scope, code=portfolio_code\n",
    "        ).properties\n",
    "        \n",
    "    return portfolio_properties[property_key].value.label_value_set.values\n",
    "\n",
    "# Pull the schedule and save as a new variable\n",
    "requested_schedule = get_portfolio_schedule(code, scope, property_key)\n",
    "\n",
    "# We can store the schedule requested from LUSID in a dictionary\n",
    "dates = {}\n",
    "for pair in schedule:\n",
    "    date = (re.findall(r'\"(.*?)\"', pair))\n",
    "    dates[datetime.strptime(date[0], \"%Y-%m-%d\").astimezone(pytz.utc)] = date[1]"
   ]
  },
  {
   "cell_type": "markdown",
   "metadata": {},
   "source": [
    "We can now query the schedule using an effective date, for a forward-looking view of the upcoming ratings."
   ]
  },
  {
   "cell_type": "code",
   "execution_count": 14,
   "metadata": {},
   "outputs": [
    {
     "data": {
      "text/html": [
       "<div>\n",
       "<style scoped>\n",
       "    .dataframe tbody tr th:only-of-type {\n",
       "        vertical-align: middle;\n",
       "    }\n",
       "\n",
       "    .dataframe tbody tr th {\n",
       "        vertical-align: top;\n",
       "    }\n",
       "\n",
       "    .dataframe thead th {\n",
       "        text-align: right;\n",
       "    }\n",
       "</style>\n",
       "<table border=\"1\" class=\"dataframe\">\n",
       "  <thead>\n",
       "    <tr style=\"text-align: right;\">\n",
       "      <th></th>\n",
       "      <th>Values</th>\n",
       "    </tr>\n",
       "  </thead>\n",
       "  <tbody>\n",
       "    <tr>\n",
       "      <th>2020-03-30 23:00:00+00:00</th>\n",
       "      <td>4</td>\n",
       "    </tr>\n",
       "    <tr>\n",
       "      <th>2020-06-29 23:00:00+00:00</th>\n",
       "      <td>3</td>\n",
       "    </tr>\n",
       "    <tr>\n",
       "      <th>2020-09-29 23:00:00+00:00</th>\n",
       "      <td>3</td>\n",
       "    </tr>\n",
       "  </tbody>\n",
       "</table>\n",
       "</div>"
      ],
      "text/plain": [
       "                          Values\n",
       "2020-03-30 23:00:00+00:00      4\n",
       "2020-06-29 23:00:00+00:00      3\n",
       "2020-09-29 23:00:00+00:00      3"
      ]
     },
     "execution_count": 14,
     "metadata": {},
     "output_type": "execute_result"
    }
   ],
   "source": [
    "def get_upcoming_schedule(effectiveAt):\n",
    "    upcoming_schedule={}\n",
    "    for key, value in dates.items():\n",
    "        if key >= datetime.strptime(effectiveAt, \"%Y-%m-%d\").astimezone(pytz.utc):\n",
    "            upcoming_schedule[key] = value\n",
    "    df = pd.DataFrame.from_dict(upcoming_schedule, orient = \"index\", columns = ['Values'])\n",
    "    return df.sort_index()\n",
    "\n",
    "get_upcoming_schedule(\"2020-03-29\")"
   ]
  }
 ],
 "metadata": {
  "kernelspec": {
   "display_name": "Python 3",
   "language": "python",
   "name": "python3"
  },
  "language_info": {
   "codemirror_mode": {
    "name": "ipython",
    "version": 3
   },
   "file_extension": ".py",
   "mimetype": "text/x-python",
   "name": "python",
   "nbconvert_exporter": "python",
   "pygments_lexer": "ipython3",
   "version": "3.8.5"
  }
 },
 "nbformat": 4,
 "nbformat_minor": 4
}
