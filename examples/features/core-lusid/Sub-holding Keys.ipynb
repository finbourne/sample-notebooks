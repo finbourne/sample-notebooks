{
 "cells": [
  {
   "cell_type": "code",
   "execution_count": null,
   "outputs": [],
   "source": [
    "\"\"\"Sub-Holding Keys\n",
    "\n",
    "Demonstration of how to set up and use sub-holding keys\n",
    "\n",
    "Attributes\n",
    "----------\n",
    "properties\n",
    "sub-holding keys\n",
    "cocoon - seed_data\n",
    "holdings\n",
    "\"\"\""
   ],
   "metadata": {
    "collapsed": false,
    "pycharm": {
     "name": "#%%\n"
    }
   }
  },
  {
   "cell_type": "markdown",
   "metadata": {},
   "source": [
    "# Sub-Holding Keys\n",
    "\n",
    "This notebook demonstrates LUSID's [Sub-holding Keys](https://support.finbourne.com/what-are-subholding-keys) (or SHKs). The core idea with `Sub-holding Keys` - they allow you to bucket your `holding` in one instrument (or [LUID](https://support.finbourne.com/what-is-a-lusid-unique-identifier-luid)) into different groups. For example, in this notebook we have a `Sub-Holding Key` of <i>strategy</i> which is used to tag transactions on the same instrument following different investment strategies. Then in the `holdings` report you can see the position split-out into two buckets. However, this is just one sample implementation of `Sub-Holding Keys`. You are allowed use <u>any</u> pre-defined transaction property as a `Sub-Holding Key`. "
   ]
  },
  {
   "cell_type": "markdown",
   "metadata": {},
   "source": [
    "### Setup LUSID"
   ]
  },
  {
   "cell_type": "code",
   "execution_count": 1,
   "metadata": {},
   "outputs": [],
   "source": [
    "# Import general purpose packages\n",
    "import os\n",
    "import json\n",
    "from datetime import datetime, timedelta\n",
    "import pytz\n",
    "\n",
    "# Import lusid specific packages\n",
    "import lusid\n",
    "import lusid.models as models\n",
    "from lusid.exceptions import ApiException\n",
    "from lusid.utilities import ApiClientFactory\n",
    "from lusidjam.refreshing_token import RefreshingToken\n",
    "from lusidtools.pandas_utils.lusid_pandas import lusid_response_to_data_frame\n",
    "from lusidtools.cocoon.seed_sample_data import seed_data\n",
    "from lusidtools.cocoon.utilities import create_scope_id\n",
    "\n",
    "# Import data wrangling packages\n",
    "import pandas as pd\n",
    "\n",
    "pd.set_option(\"display.max_columns\", None)\n",
    "\n",
    "# Authenticate our user and create our API client\n",
    "secrets_path = os.getenv(\"FBN_SECRETS_PATH\")\n",
    "\n",
    "# Initiate an API Factory which is the client side object for interacting with LUSID APIs\n",
    "api_factory = lusid.utilities.ApiClientFactory(\n",
    "    token=RefreshingToken(),\n",
    "    api_secrets_filename=secrets_path,\n",
    "    app_name=\"LusidJupyterNotebook\",\n",
    ")"
   ]
  },
  {
   "cell_type": "markdown",
   "metadata": {},
   "source": [
    "Load a mapping file for DataFrame headers for the `build transaction` and `get holdings` response."
   ]
  },
  {
   "cell_type": "code",
   "execution_count": 2,
   "metadata": {},
   "outputs": [],
   "source": [
    "with open(r\"config/build_transactions_mapping.json\") as mappings_file:\n",
    "    build_transactions_json_mapping = json.load(mappings_file)\n",
    "\n",
    "with open(r\"config/get_holdings_mapping.json\") as mappings_file:\n",
    "    get_holdings_json_mapping = json.load(mappings_file)"
   ]
  },
  {
   "cell_type": "markdown",
   "metadata": {},
   "source": [
    "Define our transaction portfolios API"
   ]
  },
  {
   "cell_type": "code",
   "execution_count": 3,
   "metadata": {},
   "outputs": [],
   "source": [
    "transaction_portfolios_api = api_factory.build(lusid.api.TransactionPortfoliosApi)"
   ]
  },
  {
   "cell_type": "markdown",
   "metadata": {},
   "source": [
    "### 1) Declare a scope and load our CSV file"
   ]
  },
  {
   "cell_type": "code",
   "execution_count": 4,
   "metadata": {},
   "outputs": [],
   "source": [
    "# Create a new scope\n",
    "\n",
    "scope = \"notebook_shk1\"\n",
    "portfolio_code = \"EQUITY_UK\" + \"_\" + create_scope_id().replace(\"-\", \"\")"
   ]
  },
  {
   "cell_type": "code",
   "execution_count": 5,
   "metadata": {},
   "outputs": [
    {
     "data": {
      "text/html": [
       "<div>\n",
       "<style scoped>\n",
       "    .dataframe tbody tr th:only-of-type {\n",
       "        vertical-align: middle;\n",
       "    }\n",
       "\n",
       "    .dataframe tbody tr th {\n",
       "        vertical-align: top;\n",
       "    }\n",
       "\n",
       "    .dataframe thead th {\n",
       "        text-align: right;\n",
       "    }\n",
       "</style>\n",
       "<table border=\"1\" class=\"dataframe\">\n",
       "  <thead>\n",
       "    <tr style=\"text-align: right;\">\n",
       "      <th></th>\n",
       "      <th>portfolio_code</th>\n",
       "      <th>portfolio_name</th>\n",
       "      <th>portfolio_base_currency</th>\n",
       "      <th>ticker</th>\n",
       "      <th>sedol</th>\n",
       "      <th>instrument_type</th>\n",
       "      <th>instrument_id</th>\n",
       "      <th>name</th>\n",
       "      <th>txn_id</th>\n",
       "      <th>txn_type</th>\n",
       "      <th>txn_trade_date</th>\n",
       "      <th>txn_settle_date</th>\n",
       "      <th>txn_units</th>\n",
       "      <th>txn_price</th>\n",
       "      <th>txn_consideration</th>\n",
       "      <th>currency</th>\n",
       "      <th>strategy</th>\n",
       "      <th>cash_transactions</th>\n",
       "    </tr>\n",
       "  </thead>\n",
       "  <tbody>\n",
       "    <tr>\n",
       "      <th>20</th>\n",
       "      <td>EQUITY_UK_386ac2ac8000e6</td>\n",
       "      <td>LUSID's top 10 FTSE stock portfolio</td>\n",
       "      <td>GBP</td>\n",
       "      <td>GBP</td>\n",
       "      <td>GBP</td>\n",
       "      <td>cash</td>\n",
       "      <td>GBP</td>\n",
       "      <td>GBP Cash</td>\n",
       "      <td>cash_001</td>\n",
       "      <td>FundsIn</td>\n",
       "      <td>02/01/2020</td>\n",
       "      <td>04/01/2020</td>\n",
       "      <td>12000000</td>\n",
       "      <td>1</td>\n",
       "      <td>12000000</td>\n",
       "      <td>GBP</td>\n",
       "      <td>ftse_tracker</td>\n",
       "      <td>GBP</td>\n",
       "    </tr>\n",
       "    <tr>\n",
       "      <th>21</th>\n",
       "      <td>EQUITY_UK_386ac2ac8000e6</td>\n",
       "      <td>LUSID's top 10 FTSE stock portfolio</td>\n",
       "      <td>GBP</td>\n",
       "      <td>GBP</td>\n",
       "      <td>GBP</td>\n",
       "      <td>cash</td>\n",
       "      <td>GBP</td>\n",
       "      <td>GBP Cash</td>\n",
       "      <td>cash_002</td>\n",
       "      <td>FundsIn</td>\n",
       "      <td>02/02/2020</td>\n",
       "      <td>04/01/2020</td>\n",
       "      <td>100000</td>\n",
       "      <td>1</td>\n",
       "      <td>100000</td>\n",
       "      <td>GBP</td>\n",
       "      <td>food_retail</td>\n",
       "      <td>GBP</td>\n",
       "    </tr>\n",
       "  </tbody>\n",
       "</table>\n",
       "</div>"
      ],
      "text/plain": [
       "              portfolio_code                       portfolio_name  \\\n",
       "20  EQUITY_UK_386ac2ac8000e6  LUSID's top 10 FTSE stock portfolio   \n",
       "21  EQUITY_UK_386ac2ac8000e6  LUSID's top 10 FTSE stock portfolio   \n",
       "\n",
       "   portfolio_base_currency ticker sedol instrument_type instrument_id  \\\n",
       "20                     GBP    GBP   GBP            cash           GBP   \n",
       "21                     GBP    GBP   GBP            cash           GBP   \n",
       "\n",
       "        name    txn_id txn_type txn_trade_date txn_settle_date  txn_units  \\\n",
       "20  GBP Cash  cash_001  FundsIn     02/01/2020      04/01/2020   12000000   \n",
       "21  GBP Cash  cash_002  FundsIn     02/02/2020      04/01/2020     100000   \n",
       "\n",
       "    txn_price  txn_consideration currency      strategy cash_transactions  \n",
       "20          1           12000000      GBP  ftse_tracker               GBP  \n",
       "21          1             100000      GBP   food_retail               GBP  "
      ]
     },
     "execution_count": 5,
     "metadata": {},
     "output_type": "execute_result"
    }
   ],
   "source": [
    "# Load a file of equity transactions\n",
    "\n",
    "transactions_file = r\"data/shk/equity_transactions.csv\"\n",
    "transactions_df = pd.read_csv(transactions_file)\n",
    "transactions_df[\"portfolio_code\"] = portfolio_code\n",
    "transactions_df.tail(2)"
   ]
  },
  {
   "cell_type": "markdown",
   "metadata": {},
   "source": [
    "### 2) Create a property for the new Sub-Holding key\n",
    "\n",
    "The <b>strategy</b> will be used to create our `Sub-Holding Key` on the portfolio."
   ]
  },
  {
   "cell_type": "code",
   "execution_count": 6,
   "metadata": {},
   "outputs": [
    {
     "name": "stdout",
     "output_type": "stream",
     "text": [
      "Error creating Property Definition 'Transaction/notebook_shk1/strategy' because it already exists.\n"
     ]
    }
   ],
   "source": [
    "domain = \"Transaction\"\n",
    "scope = scope\n",
    "prop_code = \"strategy\"\n",
    "\n",
    "try:\n",
    "    api_factory.build(lusid.api.PropertyDefinitionsApi).create_property_definition(\n",
    "\n",
    "        lusid.models.CreatePropertyDefinitionRequest(\n",
    "\n",
    "            domain = domain,\n",
    "            scope = scope,\n",
    "            code = prop_code,\n",
    "            value_required = None,\n",
    "            display_name = \"Investment strategy\",\n",
    "            data_type_id = lusid.ResourceId(scope=\"system\", code=\"string\"),\n",
    "            life_time = None\n",
    "\n",
    "        )\n",
    "    )\n",
    "\n",
    "except lusid.exceptions.ApiException as e:\n",
    "    print(json.loads(e.body)[\"title\"])"
   ]
  },
  {
   "cell_type": "markdown",
   "metadata": {},
   "source": [
    "### 3) Load default transactions into a new scope\n",
    "\n",
    "The portfolio is created with the new `Sub-holding Key`."
   ]
  },
  {
   "cell_type": "code",
   "execution_count": 7,
   "metadata": {},
   "outputs": [],
   "source": [
    "# Load portfolios, instruments, and transactions\n",
    "\n",
    "seed_data_response = seed_data(\n",
    "    api_factory,\n",
    "    [\"portfolios\", \"instruments\", \"transactions\"],\n",
    "    scope,\n",
    "    transactions_df,\n",
    "    \"DataFrame\",\n",
    "    sub_holding_keys=[f\"Transaction/{scope}/strategy\"]\n",
    ")"
   ]
  },
  {
   "cell_type": "markdown",
   "metadata": {},
   "source": [
    "### 4) Lets check our holdings\n",
    "\n",
    "We have can see that the one Tesco instrument (with the same LUID) is bucketed under two different `Sub-Holding Keys` with the <b>strategy</b> label. There is also a seperate CCY_GBP cash line for tracking the cash in each SHK."
   ]
  },
  {
   "cell_type": "code",
   "execution_count": 8,
   "metadata": {},
   "outputs": [
    {
     "data": {
      "text/html": [
       "<div>\n",
       "<style scoped>\n",
       "    .dataframe tbody tr th:only-of-type {\n",
       "        vertical-align: middle;\n",
       "    }\n",
       "\n",
       "    .dataframe tbody tr th {\n",
       "        vertical-align: top;\n",
       "    }\n",
       "\n",
       "    .dataframe thead th {\n",
       "        text-align: right;\n",
       "    }\n",
       "</style>\n",
       "<table border=\"1\" class=\"dataframe\">\n",
       "  <thead>\n",
       "    <tr style=\"text-align: right;\">\n",
       "      <th></th>\n",
       "      <th>LusidInstrumentId</th>\n",
       "      <th>strategy(notebook_shk1-SubHoldingKeys)</th>\n",
       "      <th>Name(default-Properties)</th>\n",
       "      <th>SourcePortfolioId(default-Properties)</th>\n",
       "      <th>HoldingType</th>\n",
       "      <th>Units</th>\n",
       "      <th>SettledUnits</th>\n",
       "      <th>Amount-Cost</th>\n",
       "      <th>Currency-Cost</th>\n",
       "      <th>Amount-CostPortfolioCcy</th>\n",
       "      <th>Currenct-CostPortfolioCcy</th>\n",
       "    </tr>\n",
       "  </thead>\n",
       "  <tbody>\n",
       "    <tr>\n",
       "      <th>0</th>\n",
       "      <td>LUID_99M6G8U7</td>\n",
       "      <td>ftse_tracker</td>\n",
       "      <td>Tesco</td>\n",
       "      <td>notebook_shk1/EQUITY_UK_386ac2ac8000e6</td>\n",
       "      <td>P</td>\n",
       "      <td>8000.0</td>\n",
       "      <td>8000.0</td>\n",
       "      <td>64000.0</td>\n",
       "      <td>GBP</td>\n",
       "      <td>0.0</td>\n",
       "      <td>GBP</td>\n",
       "    </tr>\n",
       "    <tr>\n",
       "      <th>1</th>\n",
       "      <td>LUID_99M6G8U7</td>\n",
       "      <td>food_retail</td>\n",
       "      <td>Tesco</td>\n",
       "      <td>notebook_shk1/EQUITY_UK_386ac2ac8000e6</td>\n",
       "      <td>P</td>\n",
       "      <td>4000.0</td>\n",
       "      <td>4000.0</td>\n",
       "      <td>36000.0</td>\n",
       "      <td>GBP</td>\n",
       "      <td>0.0</td>\n",
       "      <td>GBP</td>\n",
       "    </tr>\n",
       "    <tr>\n",
       "      <th>2</th>\n",
       "      <td>CCY_GBP</td>\n",
       "      <td>ftse_tracker</td>\n",
       "      <td>CCY_GBP</td>\n",
       "      <td>notebook_shk1/EQUITY_UK_386ac2ac8000e6</td>\n",
       "      <td>B</td>\n",
       "      <td>3656000.0</td>\n",
       "      <td>3656000.0</td>\n",
       "      <td>3656000.0</td>\n",
       "      <td>GBP</td>\n",
       "      <td>0.0</td>\n",
       "      <td>GBP</td>\n",
       "    </tr>\n",
       "    <tr>\n",
       "      <th>3</th>\n",
       "      <td>CCY_GBP</td>\n",
       "      <td>food_retail</td>\n",
       "      <td>CCY_GBP</td>\n",
       "      <td>notebook_shk1/EQUITY_UK_386ac2ac8000e6</td>\n",
       "      <td>B</td>\n",
       "      <td>-296000.0</td>\n",
       "      <td>-296000.0</td>\n",
       "      <td>-296000.0</td>\n",
       "      <td>GBP</td>\n",
       "      <td>0.0</td>\n",
       "      <td>GBP</td>\n",
       "    </tr>\n",
       "  </tbody>\n",
       "</table>\n",
       "</div>"
      ],
      "text/plain": [
       "  LusidInstrumentId strategy(notebook_shk1-SubHoldingKeys)  \\\n",
       "0     LUID_99M6G8U7                           ftse_tracker   \n",
       "1     LUID_99M6G8U7                            food_retail   \n",
       "2           CCY_GBP                           ftse_tracker   \n",
       "3           CCY_GBP                            food_retail   \n",
       "\n",
       "  Name(default-Properties)   SourcePortfolioId(default-Properties)  \\\n",
       "0                    Tesco  notebook_shk1/EQUITY_UK_386ac2ac8000e6   \n",
       "1                    Tesco  notebook_shk1/EQUITY_UK_386ac2ac8000e6   \n",
       "2                  CCY_GBP  notebook_shk1/EQUITY_UK_386ac2ac8000e6   \n",
       "3                  CCY_GBP  notebook_shk1/EQUITY_UK_386ac2ac8000e6   \n",
       "\n",
       "  HoldingType      Units  SettledUnits  Amount-Cost Currency-Cost  \\\n",
       "0           P     8000.0        8000.0      64000.0           GBP   \n",
       "1           P     4000.0        4000.0      36000.0           GBP   \n",
       "2           B  3656000.0     3656000.0    3656000.0           GBP   \n",
       "3           B  -296000.0     -296000.0    -296000.0           GBP   \n",
       "\n",
       "   Amount-CostPortfolioCcy Currenct-CostPortfolioCcy  \n",
       "0                      0.0                       GBP  \n",
       "1                      0.0                       GBP  \n",
       "2                      0.0                       GBP  \n",
       "3                      0.0                       GBP  "
      ]
     },
     "execution_count": 8,
     "metadata": {},
     "output_type": "execute_result"
    }
   ],
   "source": [
    "response = transaction_portfolios_api.get_holdings(\n",
    "    scope=scope, \n",
    "    code=portfolio_code, \n",
    "    property_keys=[\"Instrument/default/Name\"], \n",
    "    filter = \"properties.Instrument/default/Name in ('Tesco', 'CCY_GBP')\"\n",
    ")\n",
    "\n",
    "holdings_df = lusid_response_to_data_frame(\n",
    "    response, rename_properties=True, column_name_mapping=get_holdings_json_mapping\n",
    ")\n",
    "\n",
    "holdings_df"
   ]
  }
 ],
 "metadata": {
  "kernelspec": {
   "display_name": "Python 3",
   "language": "python",
   "name": "python3"
  },
  "language_info": {
   "codemirror_mode": {
    "name": "ipython",
    "version": 3
   },
   "file_extension": ".py",
   "mimetype": "text/x-python",
   "name": "python",
   "nbconvert_exporter": "python",
   "pygments_lexer": "ipython3",
   "version": "3.7.3"
  }
 },
 "nbformat": 4,
 "nbformat_minor": 2
}