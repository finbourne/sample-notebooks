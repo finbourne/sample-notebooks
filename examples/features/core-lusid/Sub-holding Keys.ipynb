{
 "cells": [
  {
   "cell_type": "code",
   "execution_count": 1,
   "metadata": {
    "pycharm": {
     "name": "#%%\n"
    }
   },
   "outputs": [
    {
     "data": {
      "text/plain": [
       "'Sub-Holding Keys\\n\\nDemonstration of how to set up and use sub-holding keys\\n\\nAttributes\\n----------\\nproperties\\nsub-holding keys\\ncocoon - seed_data\\nholdings\\nprorated\\n'"
      ]
     },
     "execution_count": 1,
     "metadata": {},
     "output_type": "execute_result"
    }
   ],
   "source": [
    "\"\"\"Sub-Holding Keys\n",
    "\n",
    "Demonstration of how to set up and use sub-holding keys\n",
    "\n",
    "Attributes\n",
    "----------\n",
    "properties\n",
    "sub-holding keys\n",
    "cocoon - seed_data\n",
    "holdings\n",
    "prorated\n",
    "\"\"\""
   ]
  },
  {
   "cell_type": "code",
   "execution_count": 2,
   "metadata": {},
   "outputs": [],
   "source": [
    "# %load_ext lab_black\n",
    "# %load_ext nb_black"
   ]
  },
  {
   "cell_type": "markdown",
   "metadata": {},
   "source": [
    "# 1. Sub-Holding Keys\n",
    "\n",
    "This notebook demonstrates LUSID's [Sub-holding Keys](https://support.finbourne.com/what-are-subholding-keys) (or SHKs). The core idea with `Sub-holding Keys` - they allow you to bucket your `holding` in one instrument (or [LUID](https://support.finbourne.com/what-is-a-lusid-unique-identifier-luid)) into different groups. For example, in this notebook we have a `Sub-Holding Key` of <i>strategy</i> which is used to tag transactions on the same instrument following different investment strategies. Then in the `holdings` report you can see the position split-out into two buckets. However, this is just one sample implementation of `Sub-Holding Keys`. You are allowed use <u>any</u> pre-defined transaction property as a `Sub-Holding Key`. "
   ]
  },
  {
   "cell_type": "markdown",
   "metadata": {},
   "source": [
    "# 2. Setup LUSID"
   ]
  },
  {
   "cell_type": "code",
   "execution_count": 3,
   "metadata": {},
   "outputs": [],
   "source": [
    "# Import general purpose packages\n",
    "import os\n",
    "import json\n",
    "from datetime import datetime, timedelta\n",
    "import pytz\n",
    "\n",
    "# Import lusid specific packages\n",
    "import lusid\n",
    "import lusid.models as models\n",
    "from lusid.exceptions import ApiException\n",
    "from lusid.utilities import ApiClientFactory\n",
    "from lusidjam.refreshing_token import RefreshingToken\n",
    "from lusidtools.pandas_utils.lusid_pandas import lusid_response_to_data_frame\n",
    "from lusidtools.cocoon.transaction_type_upload import upsert_transaction_type_alias\n",
    "from lusidtools.cocoon.seed_sample_data import seed_data\n",
    "from lusidtools.cocoon.utilities import create_scope_id\n",
    "\n",
    "# Import data wrangling packages\n",
    "import pandas as pd\n",
    "\n",
    "pd.set_option(\"display.max_columns\", None)\n",
    "\n",
    "# Authenticate our user and create our API client\n",
    "secrets_path = os.getenv(\"FBN_SECRETS_PATH\")\n",
    "\n",
    "# Initiate an API Factory which is the client side object for interacting with LUSID APIs\n",
    "api_factory = lusid.utilities.ApiClientFactory(\n",
    "    token=RefreshingToken(),\n",
    "    api_secrets_filename=secrets_path,\n",
    "    app_name=\"LusidJupyterNotebook\",\n",
    ")"
   ]
  },
  {
   "cell_type": "markdown",
   "metadata": {},
   "source": [
    "Load a mapping file for DataFrame headers for the `build transaction` and `get holdings` response."
   ]
  },
  {
   "cell_type": "code",
   "execution_count": 4,
   "metadata": {},
   "outputs": [],
   "source": [
    "with open(r\"config/build_transactions_mapping.json\") as mappings_file:\n",
    "    build_transactions_json_mapping = json.load(mappings_file)\n",
    "\n",
    "with open(r\"config/get_holdings_mapping.json\") as mappings_file:\n",
    "    get_holdings_json_mapping = json.load(mappings_file)"
   ]
  },
  {
   "cell_type": "markdown",
   "metadata": {},
   "source": [
    "Define our transaction portfolios API"
   ]
  },
  {
   "cell_type": "code",
   "execution_count": 5,
   "metadata": {},
   "outputs": [],
   "source": [
    "transaction_portfolios_api = api_factory.build(lusid.api.TransactionPortfoliosApi)"
   ]
  },
  {
   "cell_type": "markdown",
   "metadata": {},
   "source": [
    "# 3. Load Data"
   ]
  },
  {
   "cell_type": "markdown",
   "metadata": {},
   "source": [
    "## 3.1 Declare a scope and load our CSV file"
   ]
  },
  {
   "cell_type": "code",
   "execution_count": 6,
   "metadata": {},
   "outputs": [],
   "source": [
    "# Create a new scope\n",
    "\n",
    "scope = \"notebook_shk1\"\n",
    "portfolio_code = \"EQUITY_UK\" + \"_\" + create_scope_id().replace(\"-\", \"\")"
   ]
  },
  {
   "cell_type": "code",
   "execution_count": 7,
   "metadata": {},
   "outputs": [
    {
     "data": {
      "text/html": [
       "<div>\n",
       "<style scoped>\n",
       "    .dataframe tbody tr th:only-of-type {\n",
       "        vertical-align: middle;\n",
       "    }\n",
       "\n",
       "    .dataframe tbody tr th {\n",
       "        vertical-align: top;\n",
       "    }\n",
       "\n",
       "    .dataframe thead th {\n",
       "        text-align: right;\n",
       "    }\n",
       "</style>\n",
       "<table border=\"1\" class=\"dataframe\">\n",
       "  <thead>\n",
       "    <tr style=\"text-align: right;\">\n",
       "      <th></th>\n",
       "      <th>portfolio_code</th>\n",
       "      <th>portfolio_name</th>\n",
       "      <th>portfolio_base_currency</th>\n",
       "      <th>ticker</th>\n",
       "      <th>sedol</th>\n",
       "      <th>instrument_type</th>\n",
       "      <th>instrument_id</th>\n",
       "      <th>name</th>\n",
       "      <th>txn_id</th>\n",
       "      <th>txn_type</th>\n",
       "      <th>txn_trade_date</th>\n",
       "      <th>txn_settle_date</th>\n",
       "      <th>txn_units</th>\n",
       "      <th>txn_price</th>\n",
       "      <th>txn_consideration</th>\n",
       "      <th>currency</th>\n",
       "      <th>strategy</th>\n",
       "      <th>cash_transactions</th>\n",
       "    </tr>\n",
       "  </thead>\n",
       "  <tbody>\n",
       "    <tr>\n",
       "      <th>20</th>\n",
       "      <td>EQUITY_UK_399ef2a74950ea</td>\n",
       "      <td>LUSID's top 10 FTSE stock portfolio</td>\n",
       "      <td>GBP</td>\n",
       "      <td>GBP</td>\n",
       "      <td>GBP</td>\n",
       "      <td>cash</td>\n",
       "      <td>GBP</td>\n",
       "      <td>GBP Cash</td>\n",
       "      <td>cash_001</td>\n",
       "      <td>FundsIn</td>\n",
       "      <td>02/01/2020</td>\n",
       "      <td>04/01/2020</td>\n",
       "      <td>12000000</td>\n",
       "      <td>1</td>\n",
       "      <td>12000000</td>\n",
       "      <td>GBP</td>\n",
       "      <td>ftse_tracker</td>\n",
       "      <td>GBP</td>\n",
       "    </tr>\n",
       "    <tr>\n",
       "      <th>21</th>\n",
       "      <td>EQUITY_UK_399ef2a74950ea</td>\n",
       "      <td>LUSID's top 10 FTSE stock portfolio</td>\n",
       "      <td>GBP</td>\n",
       "      <td>GBP</td>\n",
       "      <td>GBP</td>\n",
       "      <td>cash</td>\n",
       "      <td>GBP</td>\n",
       "      <td>GBP Cash</td>\n",
       "      <td>cash_002</td>\n",
       "      <td>FundsIn</td>\n",
       "      <td>02/02/2020</td>\n",
       "      <td>04/01/2020</td>\n",
       "      <td>100000</td>\n",
       "      <td>1</td>\n",
       "      <td>100000</td>\n",
       "      <td>GBP</td>\n",
       "      <td>food_retail</td>\n",
       "      <td>GBP</td>\n",
       "    </tr>\n",
       "  </tbody>\n",
       "</table>\n",
       "</div>"
      ],
      "text/plain": [
       "              portfolio_code                       portfolio_name  \\\n",
       "20  EQUITY_UK_399ef2a74950ea  LUSID's top 10 FTSE stock portfolio   \n",
       "21  EQUITY_UK_399ef2a74950ea  LUSID's top 10 FTSE stock portfolio   \n",
       "\n",
       "   portfolio_base_currency ticker sedol instrument_type instrument_id  \\\n",
       "20                     GBP    GBP   GBP            cash           GBP   \n",
       "21                     GBP    GBP   GBP            cash           GBP   \n",
       "\n",
       "        name    txn_id txn_type txn_trade_date txn_settle_date  txn_units  \\\n",
       "20  GBP Cash  cash_001  FundsIn     02/01/2020      04/01/2020   12000000   \n",
       "21  GBP Cash  cash_002  FundsIn     02/02/2020      04/01/2020     100000   \n",
       "\n",
       "    txn_price  txn_consideration currency      strategy cash_transactions  \n",
       "20          1           12000000      GBP  ftse_tracker               GBP  \n",
       "21          1             100000      GBP   food_retail               GBP  "
      ]
     },
     "execution_count": 7,
     "metadata": {},
     "output_type": "execute_result"
    }
   ],
   "source": [
    "# Load a file of equity transactions\n",
    "\n",
    "transactions_file = r\"data/shk/equity_transactions.csv\"\n",
    "transactions_df = pd.read_csv(transactions_file)\n",
    "transactions_df[\"portfolio_code\"] = portfolio_code\n",
    "transactions_df.tail(2)"
   ]
  },
  {
   "cell_type": "markdown",
   "metadata": {},
   "source": [
    "## 3.2 Create a property for the new Sub-Holding key\n",
    "\n",
    "The <b>strategy</b> will be used to create our `Sub-Holding Key` on the portfolio."
   ]
  },
  {
   "cell_type": "code",
   "execution_count": 8,
   "metadata": {},
   "outputs": [],
   "source": [
    "domain = \"Transaction\"\n",
    "scope = scope\n",
    "prop_code = \"strategy\"\n",
    "\n",
    "try:\n",
    "    api_factory.build(lusid.api.PropertyDefinitionsApi).create_property_definition(\n",
    "        create_property_definition_request=lusid.models.CreatePropertyDefinitionRequest(\n",
    "            domain=domain,\n",
    "            scope=scope,\n",
    "            code=prop_code,\n",
    "            value_required=None,\n",
    "            display_name=\"Investment strategy\",\n",
    "            data_type_id=lusid.ResourceId(scope=\"system\", code=\"string\"),\n",
    "            life_time=None,\n",
    "        )\n",
    "    )\n",
    "\n",
    "except lusid.exceptions.ApiException as e:\n",
    "    print(json.loads(e.body)[\"title\"])"
   ]
  },
  {
   "cell_type": "markdown",
   "metadata": {},
   "source": [
    "## 3.3 Load default transactions into a new scope\n",
    "\n",
    "The portfolio is created with the new `Sub-holding Key`."
   ]
  },
  {
   "cell_type": "code",
   "execution_count": 9,
   "metadata": {},
   "outputs": [],
   "source": [
    "# Load portfolios, instruments, and transactions\n",
    "\n",
    "seed_data_response = seed_data(\n",
    "    api_factory,\n",
    "    [\"portfolios\", \"instruments\", \"transactions\"],\n",
    "    scope,\n",
    "    transactions_df,\n",
    "    \"DataFrame\",\n",
    "    sub_holding_keys=[f\"Transaction/{scope}/strategy\"],\n",
    ")"
   ]
  },
  {
   "cell_type": "markdown",
   "metadata": {},
   "source": [
    "# 4. Lets check our holdings\n",
    "\n",
    "We have can see that the one Tesco instrument (with the same LUID) is bucketed under two different `Sub-Holding Keys` with the <b>strategy</b> label. There is also a seperate CCY_GBP cash line for tracking the cash in each SHK."
   ]
  },
  {
   "cell_type": "code",
   "execution_count": 10,
   "metadata": {},
   "outputs": [
    {
     "data": {
      "text/html": [
       "<div>\n",
       "<style scoped>\n",
       "    .dataframe tbody tr th:only-of-type {\n",
       "        vertical-align: middle;\n",
       "    }\n",
       "\n",
       "    .dataframe tbody tr th {\n",
       "        vertical-align: top;\n",
       "    }\n",
       "\n",
       "    .dataframe thead th {\n",
       "        text-align: right;\n",
       "    }\n",
       "</style>\n",
       "<table border=\"1\" class=\"dataframe\">\n",
       "  <thead>\n",
       "    <tr style=\"text-align: right;\">\n",
       "      <th></th>\n",
       "      <th>LusidInstrumentId</th>\n",
       "      <th>strategy(notebook_shk1-SubHoldingKeys)</th>\n",
       "      <th>InstrumentName</th>\n",
       "      <th>ClientInternal(default-Properties)</th>\n",
       "      <th>SourcePortfolioId</th>\n",
       "      <th>SourcePortfolioScope(default-Properties)</th>\n",
       "      <th>HoldingType</th>\n",
       "      <th>Units</th>\n",
       "      <th>SettledUnits</th>\n",
       "      <th>Amount-Cost</th>\n",
       "      <th>Currency-Cost</th>\n",
       "      <th>Amount-CostPortfolioCcy</th>\n",
       "      <th>Currenct-CostPortfolioCcy</th>\n",
       "      <th>currency</th>\n",
       "    </tr>\n",
       "  </thead>\n",
       "  <tbody>\n",
       "    <tr>\n",
       "      <th>0</th>\n",
       "      <td>LUID_447EXYXY</td>\n",
       "      <td>ftse_tracker</td>\n",
       "      <td>Tesco</td>\n",
       "      <td>EQ_1240</td>\n",
       "      <td>EQUITY_UK_399ef2a74950ea</td>\n",
       "      <td>notebook_shk1</td>\n",
       "      <td>P</td>\n",
       "      <td>8000.0</td>\n",
       "      <td>8000.0</td>\n",
       "      <td>64000.0</td>\n",
       "      <td>GBP</td>\n",
       "      <td>0.0</td>\n",
       "      <td>GBP</td>\n",
       "      <td>GBP</td>\n",
       "    </tr>\n",
       "    <tr>\n",
       "      <th>1</th>\n",
       "      <td>LUID_447EXYXY</td>\n",
       "      <td>food_retail</td>\n",
       "      <td>Tesco</td>\n",
       "      <td>EQ_1240</td>\n",
       "      <td>EQUITY_UK_399ef2a74950ea</td>\n",
       "      <td>notebook_shk1</td>\n",
       "      <td>P</td>\n",
       "      <td>4000.0</td>\n",
       "      <td>4000.0</td>\n",
       "      <td>36000.0</td>\n",
       "      <td>GBP</td>\n",
       "      <td>0.0</td>\n",
       "      <td>GBP</td>\n",
       "      <td>GBP</td>\n",
       "    </tr>\n",
       "  </tbody>\n",
       "</table>\n",
       "</div>"
      ],
      "text/plain": [
       "  LusidInstrumentId strategy(notebook_shk1-SubHoldingKeys) InstrumentName  \\\n",
       "0     LUID_447EXYXY                           ftse_tracker          Tesco   \n",
       "1     LUID_447EXYXY                            food_retail          Tesco   \n",
       "\n",
       "  ClientInternal(default-Properties)         SourcePortfolioId  \\\n",
       "0                            EQ_1240  EQUITY_UK_399ef2a74950ea   \n",
       "1                            EQ_1240  EQUITY_UK_399ef2a74950ea   \n",
       "\n",
       "  SourcePortfolioScope(default-Properties) HoldingType   Units  SettledUnits  \\\n",
       "0                            notebook_shk1           P  8000.0        8000.0   \n",
       "1                            notebook_shk1           P  4000.0        4000.0   \n",
       "\n",
       "   Amount-Cost Currency-Cost  Amount-CostPortfolioCcy  \\\n",
       "0      64000.0           GBP                      0.0   \n",
       "1      36000.0           GBP                      0.0   \n",
       "\n",
       "  Currenct-CostPortfolioCcy currency  \n",
       "0                       GBP      GBP  \n",
       "1                       GBP      GBP  "
      ]
     },
     "execution_count": 10,
     "metadata": {},
     "output_type": "execute_result"
    }
   ],
   "source": [
    "response = transaction_portfolios_api.get_holdings(\n",
    "    scope=scope,\n",
    "    code=portfolio_code,\n",
    "    property_keys=[\"Instrument/default/Name\", \"Instrument/default/ClientInternal\"],\n",
    "    filter=\"properties.Instrument/default/Name in ('Tesco', 'CCY_GBP')\",\n",
    ")\n",
    "\n",
    "holdings_df = lusid_response_to_data_frame(\n",
    "    response, rename_properties=True, column_name_mapping=get_holdings_json_mapping\n",
    ")\n",
    "\n",
    "holdings_df"
   ]
  },
  {
   "cell_type": "markdown",
   "metadata": {},
   "source": [
    "# 5. Book a prorated transaction across two SHKs\n",
    "\n",
    "In this section we book one transaction and do a prorated allocation across two SHKs."
   ]
  },
  {
   "cell_type": "markdown",
   "metadata": {},
   "source": [
    "## 5.1 Create a new transaction type\n",
    "\n",
    "First we create a new \"Buy\" transaction with the prorata configuration. Specifically we add a `AllocationMethod=Prorated` property."
   ]
  },
  {
   "cell_type": "code",
   "execution_count": 11,
   "metadata": {},
   "outputs": [],
   "source": [
    "# Prepare the Transaction Type model for new transaction type\n",
    "\n",
    "new_transaction_config = [\n",
    "    models.TransactionConfigurationDataRequest(\n",
    "        aliases=[\n",
    "            models.TransactionConfigurationTypeAlias(\n",
    "                type=\"BuyProRated\",\n",
    "                description=\"An BuyProRated transaction type\",\n",
    "                transaction_class=\"default\",\n",
    "                transaction_group=\"default\",\n",
    "                transaction_roles=\"Longer\",\n",
    "            )\n",
    "        ],\n",
    "        movements=[\n",
    "            models.TransactionConfigurationMovementDataRequest(\n",
    "                movement_types=\"StockMovement\",\n",
    "                side=\"Side1\",\n",
    "                direction=1,\n",
    "                properties={},\n",
    "                mappings=[],\n",
    "            ),\n",
    "            models.TransactionConfigurationMovementDataRequest(\n",
    "                movement_types=\"CashCommitment\",\n",
    "                side=\"Side2\",\n",
    "                direction=-1,\n",
    "                properties={},\n",
    "                mappings=[],\n",
    "            ),\n",
    "        ],\n",
    "        properties={\"TransactionConfiguration/default/AllocationMethod\": models.PerpetualProperty(\n",
    "                    key=\"TransactionConfiguration/default/AllocationMethod\",\n",
    "                value=models.PropertyValue(label_value=\"Prorated\"))}\n",
    "    )\n",
    "]"
   ]
  },
  {
   "cell_type": "code",
   "execution_count": 12,
   "metadata": {},
   "outputs": [],
   "source": [
    "# Upload the transaction type\n",
    "\n",
    "new_txn_config = upsert_transaction_type_alias(\n",
    "    api_factory, new_transaction_config=new_transaction_config\n",
    ")"
   ]
  },
  {
   "cell_type": "markdown",
   "metadata": {},
   "source": [
    "## 5.2 Book a transaction\n",
    "\n",
    "Next we book a Tesco PLC transaction for 6000 units. We already hold Tesco PLC in the portfolio, so we expect the new transaction to be alloacted as follows:\n",
    "\n",
    "1. The Movements Engine allocates 4000 units to the <b>ftse_tracker</b> strategy\n",
    "2. The Movements Engine allocates 2000 units to the <b>food_retail</b> strategy"
   ]
  },
  {
   "cell_type": "code",
   "execution_count": 13,
   "metadata": {},
   "outputs": [],
   "source": [
    "request = transaction_portfolios_api.upsert_transactions(\n",
    "    scope=scope,\n",
    "    code=portfolio_code,\n",
    "    transaction_request=[\n",
    "        models.TransactionRequest(\n",
    "            transaction_id=\"trd_0021PRORATE\",\n",
    "            type=\"BuyProRated\",\n",
    "            instrument_identifiers={\"Instrument/default/ClientInternal\": \"EQ_1240\"},\n",
    "            transaction_date=\"2020-01-29\",\n",
    "            settlement_date=\"2020-01-31\",\n",
    "            units=6000,\n",
    "            transaction_price=models.TransactionPrice(price=10),\n",
    "            total_consideration=models.CurrencyAndAmount(amount=60000, currency=\"GBP\"),\n",
    "            exchange_rate=None,\n",
    "            counterparty_id=None,\n",
    "            source=\"\",\n",
    "            properties={},\n",
    "        )\n",
    "    ],\n",
    ")"
   ]
  },
  {
   "cell_type": "markdown",
   "metadata": {},
   "source": [
    "Then check the results:"
   ]
  },
  {
   "cell_type": "code",
   "execution_count": 14,
   "metadata": {},
   "outputs": [
    {
     "data": {
      "text/html": [
       "<div>\n",
       "<style scoped>\n",
       "    .dataframe tbody tr th:only-of-type {\n",
       "        vertical-align: middle;\n",
       "    }\n",
       "\n",
       "    .dataframe tbody tr th {\n",
       "        vertical-align: top;\n",
       "    }\n",
       "\n",
       "    .dataframe thead th {\n",
       "        text-align: right;\n",
       "    }\n",
       "</style>\n",
       "<table border=\"1\" class=\"dataframe\">\n",
       "  <thead>\n",
       "    <tr style=\"text-align: right;\">\n",
       "      <th></th>\n",
       "      <th>LusidInstrumentId</th>\n",
       "      <th>strategy(notebook_shk1-SubHoldingKeys)</th>\n",
       "      <th>InstrumentName</th>\n",
       "      <th>ClientInternal(default-Properties)</th>\n",
       "      <th>SourcePortfolioId</th>\n",
       "      <th>SourcePortfolioScope(default-Properties)</th>\n",
       "      <th>HoldingType</th>\n",
       "      <th>Units</th>\n",
       "      <th>SettledUnits</th>\n",
       "      <th>Amount-Cost</th>\n",
       "      <th>Currency-Cost</th>\n",
       "      <th>Amount-CostPortfolioCcy</th>\n",
       "      <th>Currenct-CostPortfolioCcy</th>\n",
       "      <th>currency</th>\n",
       "    </tr>\n",
       "  </thead>\n",
       "  <tbody>\n",
       "    <tr>\n",
       "      <th>0</th>\n",
       "      <td>LUID_447EXYXY</td>\n",
       "      <td>ftse_tracker</td>\n",
       "      <td>Tesco</td>\n",
       "      <td>EQ_1240</td>\n",
       "      <td>EQUITY_UK_399ef2a74950ea</td>\n",
       "      <td>notebook_shk1</td>\n",
       "      <td>P</td>\n",
       "      <td>12000.0</td>\n",
       "      <td>12000.0</td>\n",
       "      <td>104000.0</td>\n",
       "      <td>GBP</td>\n",
       "      <td>0.0</td>\n",
       "      <td>GBP</td>\n",
       "      <td>GBP</td>\n",
       "    </tr>\n",
       "    <tr>\n",
       "      <th>1</th>\n",
       "      <td>LUID_447EXYXY</td>\n",
       "      <td>food_retail</td>\n",
       "      <td>Tesco</td>\n",
       "      <td>EQ_1240</td>\n",
       "      <td>EQUITY_UK_399ef2a74950ea</td>\n",
       "      <td>notebook_shk1</td>\n",
       "      <td>P</td>\n",
       "      <td>6000.0</td>\n",
       "      <td>6000.0</td>\n",
       "      <td>56000.0</td>\n",
       "      <td>GBP</td>\n",
       "      <td>0.0</td>\n",
       "      <td>GBP</td>\n",
       "      <td>GBP</td>\n",
       "    </tr>\n",
       "  </tbody>\n",
       "</table>\n",
       "</div>"
      ],
      "text/plain": [
       "  LusidInstrumentId strategy(notebook_shk1-SubHoldingKeys) InstrumentName  \\\n",
       "0     LUID_447EXYXY                           ftse_tracker          Tesco   \n",
       "1     LUID_447EXYXY                            food_retail          Tesco   \n",
       "\n",
       "  ClientInternal(default-Properties)         SourcePortfolioId  \\\n",
       "0                            EQ_1240  EQUITY_UK_399ef2a74950ea   \n",
       "1                            EQ_1240  EQUITY_UK_399ef2a74950ea   \n",
       "\n",
       "  SourcePortfolioScope(default-Properties) HoldingType    Units  SettledUnits  \\\n",
       "0                            notebook_shk1           P  12000.0       12000.0   \n",
       "1                            notebook_shk1           P   6000.0        6000.0   \n",
       "\n",
       "   Amount-Cost Currency-Cost  Amount-CostPortfolioCcy  \\\n",
       "0     104000.0           GBP                      0.0   \n",
       "1      56000.0           GBP                      0.0   \n",
       "\n",
       "  Currenct-CostPortfolioCcy currency  \n",
       "0                       GBP      GBP  \n",
       "1                       GBP      GBP  "
      ]
     },
     "execution_count": 14,
     "metadata": {},
     "output_type": "execute_result"
    }
   ],
   "source": [
    "response = transaction_portfolios_api.get_holdings(\n",
    "    scope=scope,\n",
    "    code=portfolio_code,\n",
    "    property_keys=[\"Instrument/default/Name\", \"Instrument/default/ClientInternal\"],\n",
    "    filter=\"properties.Instrument/default/Name in ('Tesco', 'CCY_GBP')\",\n",
    ")\n",
    "\n",
    "holdings_df = lusid_response_to_data_frame(\n",
    "    response, rename_properties=True, column_name_mapping=get_holdings_json_mapping\n",
    ")\n",
    "\n",
    "holdings_df"
   ]
  }
 ],
 "metadata": {
  "kernelspec": {
   "display_name": "Python 3",
   "language": "python",
   "name": "python3"
  },
  "language_info": {
   "codemirror_mode": {
    "name": "ipython",
    "version": 3
   },
   "file_extension": ".py",
   "mimetype": "text/x-python",
   "name": "python",
   "nbconvert_exporter": "python",
   "pygments_lexer": "ipython3",
   "version": "3.8.5"
  }
 },
 "nbformat": 4,
 "nbformat_minor": 2
}
