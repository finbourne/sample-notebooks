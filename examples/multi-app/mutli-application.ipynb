{
 "cells": [
  {
   "cell_type": "code",
   "execution_count": 19,
   "id": "189a5525",
   "metadata": {},
   "outputs": [],
   "source": [
    "import os\n",
    "\n",
    "# Authenticate our user and create our API client\n",
    "secrets_path = os.getenv(\"FBN_SECRETS_PATH\")\n",
    "\n",
    "if secrets_path is None:\n",
    "    secrets_path = os.path.join(os.getcwd(), \"secrets.json\")"
   ]
  },
  {
   "cell_type": "markdown",
   "id": "f648f208",
   "metadata": {},
   "source": [
    "# Using `auth_sa`"
   ]
  },
  {
   "cell_type": "code",
   "execution_count": 2,
   "id": "9fda7c9b",
   "metadata": {},
   "outputs": [],
   "source": [
    "%load_ext autoreload\n",
    "%autoreload 2\n",
    "# import auth_sa\n",
    "\n",
    "# # Lusid\n",
    "# api_factory, portfolios_api, funds_api = auth_sa.init(\"lusid\", [\"PortfoliosApi\", \"FundsApi\"], secrets_path)\n",
    "# portfolios_api.list_portfolios(limit=1).values[0].display_name "
   ]
  },
  {
   "cell_type": "code",
   "execution_count": 3,
   "id": "c2b16995",
   "metadata": {},
   "outputs": [],
   "source": [
    "# # Configuration\n",
    "# lc_api_factory, config_sets_api = auth_sa.init(\"lusid_configuration\", [\"ConfigurationSetsApi\"], secrets_path)\n",
    "\n",
    "# config_sets_api.list_configuration_sets().values[0]"
   ]
  },
  {
   "cell_type": "code",
   "execution_count": 4,
   "id": "76c115ac",
   "metadata": {},
   "outputs": [],
   "source": [
    "# # Drive\n",
    "# ld_api_factory, folders_api, files_api = auth_sa.init(\"lusid_drive\", [\"FoldersApi\", \"FilesApi\"], secrets_path)\n",
    "\n",
    "# folders_api.get_root_folder().values[0].id"
   ]
  },
  {
   "cell_type": "code",
   "execution_count": 5,
   "id": "c2d0efeb",
   "metadata": {},
   "outputs": [],
   "source": [
    "# # Notifications\n",
    "# ln_api_factory, notifications_api, subscriptions_api, event_types_api = auth_sa.init(\n",
    "#     \"lusid_notifications\", \n",
    "#     [\n",
    "#         \"NotificationsApi\", \"SubscriptionsApi\", \"EventTypesApi\"\n",
    "#     ], \n",
    "#     secrets_path)\n",
    "\n",
    "# # subscriptions_api.list_subscriptions(limit=1).values[0]\n",
    "# # notifications_api.list_notifications(scope=\"EDM\", code=\"blah\").values[0]\n",
    "# event_types_api.list_event_types().values[0]"
   ]
  },
  {
   "cell_type": "code",
   "execution_count": 6,
   "id": "eabe0525",
   "metadata": {},
   "outputs": [],
   "source": [
    "# # Workflow\n",
    "# lwf_api_factory, task_definitions_api = auth_sa.init(\"lusid_workflow\", [\"TaskDefinitionsApi\"], secrets_path)\n",
    "\n",
    "# task_definitions_api.list_task_definitions(limit=1).values[0].id"
   ]
  },
  {
   "cell_type": "markdown",
   "id": "022310dd",
   "metadata": {},
   "source": [
    "# Without helper functions"
   ]
  },
  {
   "cell_type": "code",
   "execution_count": 20,
   "id": "fd525540",
   "metadata": {
    "scrolled": true
   },
   "outputs": [
    {
     "data": {
      "text/plain": [
       "'Module 1'"
      ]
     },
     "execution_count": 20,
     "metadata": {},
     "output_type": "execute_result"
    }
   ],
   "source": [
    "import lusid\n",
    "from lusid.extensions import (\n",
    "    SyncApiClientFactory,\n",
    "    SecretsFileConfigurationLoader,\n",
    "    EnvironmentVariablesConfigurationLoader\n",
    ")\n",
    "# Authenticate:\n",
    "config_loaders=[\n",
    "    SecretsFileConfigurationLoader(secrets_path),\n",
    "    EnvironmentVariablesConfigurationLoader()\n",
    "]\n",
    "api_factory = SyncApiClientFactory(config_loaders=config_loaders)\n",
    "\n",
    "portfolios_api = api_factory.build(lusid.PortfoliosApi)\n",
    "portfolios_api.list_portfolios(limit=1).values[0].display_name "
   ]
  },
  {
   "cell_type": "code",
   "execution_count": 8,
   "id": "d78a9138",
   "metadata": {},
   "outputs": [],
   "source": [
    "# import lumipy as lp\n",
    "# lumi = lp.get_client(\n",
    "#     api_secrets_file = secrets_path\n",
    "# )\n",
    "# lumi.run(\"select 'Yes' as CheckLumiWorks\")\n"
   ]
  },
  {
   "cell_type": "code",
   "execution_count": 9,
   "id": "1b942970",
   "metadata": {},
   "outputs": [
    {
     "data": {
      "text/plain": [
       "ConfigurationSetSummary(id=ResourceId(scope='system', code='Marketdata-Refinitiv-PermId'), type='shared', links=None)"
      ]
     },
     "execution_count": 9,
     "metadata": {},
     "output_type": "execute_result"
    }
   ],
   "source": [
    "# # FAILED BUILD #8\n",
    "\n",
    "# import lusid_configuration as lc\n",
    "\n",
    "# # Authenticate\n",
    "# lc_config_loaders=[\n",
    "#     lc.SecretsFileConfigurationLoader(secrets_path),\n",
    "#     lc.EnvironmentVariablesConfigurationLoader()\n",
    "# ]\n",
    "# lc_api_factory = lc.SyncApiClientFactory(config_loaders=lc_config_loaders)\n",
    "\n",
    "# config_sets_api = lc_api_factory.build(lc.ConfigurationSetsApi)\n",
    "\n",
    "# config_sets_api.list_configuration_sets().values[0]"
   ]
  },
  {
   "cell_type": "code",
   "execution_count": 27,
   "id": "a674f029",
   "metadata": {},
   "outputs": [],
   "source": [
    "# # FAILED BUILD #10\n",
    "\n",
    "# import lusid_drive as ld\n",
    "\n",
    "# # Authenticate\n",
    "# ld_config_loaders=[\n",
    "#     ld.SecretsFileConfigurationLoader(secrets_path),\n",
    "#     ld.EnvironmentVariablesConfigurationLoader()\n",
    "# ]\n",
    "# ld_api_factory = ld.SyncApiClientFactory(config_loaders=ld_config_loaders)\n",
    "\n",
    "# folders_api = ld_api_factory.build(ld.FoldersApi)\n",
    "\n",
    "# folders_api.get_root_folder().values[0].id"
   ]
  },
  {
   "cell_type": "code",
   "execution_count": 29,
   "id": "1353c616",
   "metadata": {},
   "outputs": [
    {
     "data": {
      "text/plain": [
       "'d3c03b35-1e2d-41a4-8da8-68052b967838'"
      ]
     },
     "execution_count": 29,
     "metadata": {},
     "output_type": "execute_result"
    }
   ],
   "source": [
    "import lusid_drive\n",
    "\n",
    "print('FBN_DRIVE_URL',os.getenv(\"FBN_DRIVE_URL\"))\n",
    "ld_config_loaders=[\n",
    "    lusid_drive.EnvironmentVariablesConfigurationLoader()\n",
    "]\n",
    "ld_api_factory = lusid_drive.SyncApiClientFactory(config_loaders=ld_config_loaders)\n",
    "\n",
    "folders_api = ld_api_factory.build(ld.FoldersApi)\n",
    "\n",
    "folders_api.get_root_folder().values[0].id"
   ]
  },
  {
   "cell_type": "code",
   "execution_count": 25,
   "id": "e7797e85",
   "metadata": {},
   "outputs": [
    {
     "data": {
      "text/plain": [
       "EventTypeSchema(id='AllocationCreated', display_name=None, description='An event of this type is fired whenever an AllocationCreated event is created in LUSID', application='LUSID', header_schema=None, body_schema=None, href=None)"
      ]
     },
     "execution_count": 25,
     "metadata": {},
     "output_type": "execute_result"
    }
   ],
   "source": [
    "# FAILED BUILDS #11 and #12\n",
    "\n",
    "import lusid_notifications as ln\n",
    "\n",
    "# Authenticate\n",
    "# FAILED BUILD #11\n",
    "# ln_config_loaders=[\n",
    "#     ln.extensions.SecretsFileConfigurationLoader(secrets_path),\n",
    "#     ln.extensions.EnvironmentVariablesConfigurationLoader()\n",
    "# ]\n",
    "\n",
    "# FAILED BUILD #12\n",
    "ln_config_loaders=[\n",
    "    ln.extensions.SecretsFileConfigurationLoader(secrets_path),\n",
    "    ln.extensions.EnvironmentVariablesConfigurationLoader()\n",
    "]\n",
    "ln_api_factory = ln.SyncApiClientFactory(config_loaders=ln_config_loaders)\n",
    "\n",
    "notifications_api = ln_api_factory.build(ln.NotificationsApi)\n",
    "subscriptions_api = ln_api_factory.build(ln.SubscriptionsApi)\n",
    "event_types_api = ln_api_factory.build(ln.EventTypesApi)\n",
    "\n",
    "# subscriptions_api.list_subscriptions(limit=1).values[0]\n",
    "# notifications_api.list_notifications(scope=\"EDM\", code=\"blah\").values[0]\n",
    "event_types_api.list_event_types().values[0]"
   ]
  },
  {
   "cell_type": "code",
   "execution_count": 13,
   "id": "01be848b",
   "metadata": {},
   "outputs": [
    {
     "data": {
      "text/plain": [
       "ResourceId(scope='quotes-workflow', code='HandleException')"
      ]
     },
     "execution_count": 13,
     "metadata": {},
     "output_type": "execute_result"
    }
   ],
   "source": [
    "import lusid_workflow as lwf\n",
    "\n",
    "# Authenticate\n",
    "lwf_config_loaders=[\n",
    "    lwf.SecretsFileConfigurationLoader(secrets_path),\n",
    "    lwf.EnvironmentVariablesConfigurationLoader()\n",
    "]\n",
    "lwf_api_factory = lwf.SyncApiClientFactory(config_loaders=lwf_config_loaders)\n",
    "\n",
    "task_definitions_api = lwf_api_factory.build(lwf.TaskDefinitionsApi) # <----- Line [1]\n",
    "(task_definitions_api.list_task_definitions())\n",
    "\n",
    "task_definitions_api.list_task_definitions(limit=1).values[0].id"
   ]
  }
 ],
 "metadata": {
  "kernelspec": {
   "display_name": "Python 3 (ipykernel)",
   "language": "python",
   "name": "python3"
  },
  "language_info": {
   "codemirror_mode": {
    "name": "ipython",
    "version": 3
   },
   "file_extension": ".py",
   "mimetype": "text/x-python",
   "name": "python",
   "nbconvert_exporter": "python",
   "pygments_lexer": "ipython3",
   "version": "3.10.14"
  },
  "toc": {
   "base_numbering": 1,
   "nav_menu": {},
   "number_sections": true,
   "sideBar": true,
   "skip_h1_title": false,
   "title_cell": "Table of Contents",
   "title_sidebar": "Contents",
   "toc_cell": false,
   "toc_position": {},
   "toc_section_display": true,
   "toc_window_display": false
  },
  "vscode": {
   "interpreter": {
    "hash": "9b2ad45377be23472136155f9be1fd1f9127868d50a62bcbda4e8cdcd384c3ac"
   }
  }
 },
 "nbformat": 4,
 "nbformat_minor": 5
}
