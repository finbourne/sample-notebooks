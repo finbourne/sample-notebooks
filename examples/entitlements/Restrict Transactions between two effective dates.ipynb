{
 "cells": [
  {
   "cell_type": "code",
   "execution_count": 1,
   "metadata": {
    "pycharm": {
     "name": "#%%\n"
    }
   },
   "outputs": [
    {
     "data": {
      "text/html": [
       "\n",
       "    <form action=\"javascript:code_toggle()\"><input type=\"submit\" id=\"toggleButton\" value=\"Hide docstring\"></form>\n",
       "    \n",
       "         <script>\n",
       "         function code_toggle() {\n",
       "             if ($('div.cell.code_cell.rendered.selected div.input').css('display')!='none'){\n",
       "                 $('div.cell.code_cell.rendered.selected div.input').hide();\n",
       "             } else {\n",
       "                 $('div.cell.code_cell.rendered.selected div.input').show();\n",
       "             }\n",
       "         }\n",
       "         </script>\n",
       "\n",
       "     "
      ],
      "text/plain": [
       "<IPython.core.display.HTML object>"
      ]
     },
     "metadata": {},
     "output_type": "display_data"
    }
   ],
   "source": [
    "from lusidtools.jupyter_tools import toggle_code\n",
    "\n",
    "\"\"\"Create Policy to Restrict Portfolio Updates in a Period\n",
    "\n",
    "This notebook shows how to create a policy to restrict portfolio updates inbetween 2 effective dates by denying any write/delete activity to all portfolios in a given scope.\n",
    "\n",
    "Attributes\n",
    "----------\n",
    "policies\n",
    "portfolios\n",
    "\"\"\"\n",
    "\n",
    "toggle_code(\"Hide docstring\")"
   ]
  },
  {
   "cell_type": "markdown",
   "metadata": {
    "pycharm": {
     "name": "#%% md\n"
    }
   },
   "source": [
    "# Create Policy to Restrict Portfolio Updates in a Period\n",
    "\n",
    "It is sometimes necessary to lock a portfolio in a given time period and restrict users from being able to update/add/delete both transactions and holdings. A user may also want to lock a portfolio over a certain historical time horizon.\n",
    "\n",
    "This notebook shows how to create a policy to restrict portfolio updates between 2 effective dates by denying write/delete activity to all portfolios in a given scope. \n",
    "\n",
    "We can then add this policy to a role and give this role to some or all users to lock down one or a series of portfolios in a specified time window.\n",
    "\n",
    "![Timeline](img/timeline.JPG)"
   ]
  },
  {
   "cell_type": "markdown",
   "metadata": {
    "pycharm": {
     "name": "#%% md\n"
    }
   },
   "source": [
    "## Setup"
   ]
  },
  {
   "cell_type": "code",
   "execution_count": 2,
   "metadata": {},
   "outputs": [],
   "source": [
    "# Import LUSID\n",
    "import lusid\n",
    "import finbourne_access\n",
    "\n",
    "#import lusid_sample_data as import_data\n",
    "from finbourne_access.utilities import ApiClientFactory as AccessApiClientFactory\n",
    "from finbourne_access import models as AccessModels\n",
    "from lusidjam import RefreshingToken\n",
    "import fbnsdkutilities.utilities as utils\n",
    "\n",
    "# Import Libraries\n",
    "import os\n",
    "import json\n",
    "from IPython.display import Image\n",
    "\n",
    "# Authenticate our user and create our API client\n",
    "secrets_path = os.getenv(\"FBN_SECRETS_PATH\")\n",
    "\n",
    "lusid_api_factory = utils.ApiClientFactory(\n",
    "    lusid,\n",
    "    token=RefreshingToken(),\n",
    "    api_secrets_filename=secrets_path,\n",
    "    app_name=\"LusidJupyterNotebook\",\n",
    ")\n",
    "\n",
    "api_client = lusid_api_factory.api_client\n",
    "\n",
    "lusid_api_url = api_client.configuration.host\n",
    "access_api_url = lusid_api_url[: lusid_api_url.rfind(\"/\") + 1] + \"access\"\n",
    "os.environ[\"FBN_LUSID_ACCESS_URL\"] = access_api_url\n",
    "\n",
    "access_api_factory = utils.ApiClientFactory(\n",
    "    finbourne_access,\n",
    "    token=api_client.configuration.access_token,\n",
    "    access_url=access_api_url,\n",
    "    app_name=\"LusidJupyterNotebook\",\n",
    ")"
   ]
  },
  {
   "cell_type": "code",
   "execution_count": 3,
   "metadata": {},
   "outputs": [],
   "source": [
    "# Define APIs\n",
    "access_api = access_api_factory.build(finbourne_access.api.PoliciesApi)"
   ]
  },
  {
   "cell_type": "code",
   "execution_count": 4,
   "metadata": {},
   "outputs": [],
   "source": [
    "# Define variables for use in the policy request body\n",
    "scope = \"ibor\"\n",
    "policy_code = \"block-portfolio-updates\"\n",
    "policy_description = \"Policy to block portfolio updates in a given date range\"\n",
    "effective_from = \"2022-01-01T00:00:00.0000000+00:00\"\n",
    "effective_to = \"2022-04-01T00:00:00.0000000+00:00\""
   ]
  },
  {
   "cell_type": "markdown",
   "metadata": {
    "pycharm": {
     "name": "#%% md\n"
    }
   },
   "source": [
    "## 1. Define and Create Policy\n",
    "\n",
    "This policy denies any update, delete or add activity to portfolios in the given scope during the provided time frame. This prevents any transactions and holdings from being added, updated or deleted in this period.\n",
    "\n",
    "This policy upon being created can be added to a role and applied to a user to add these restrictions to them (see 2. Next Steps)."
   ]
  },
  {
   "cell_type": "code",
   "execution_count": 5,
   "metadata": {},
   "outputs": [],
   "source": [
    "request_body = AccessModels.PolicyCreationRequest(\n",
    "    code=policy_code,\n",
    "    description=policy_description,\n",
    "    applications=[\"LUSID\"],\n",
    "    grant=\"Deny\",\n",
    "    selectors=[AccessModels.SelectorDefinition(\n",
    "        id_selector_definition=AccessModels.IdSelectorDefinition(\n",
    "            identifier={\n",
    "                    \"code\": \"*\",\n",
    "                    \"scope\": \"ibor\"\n",
    "                },\n",
    "            actions=[\n",
    "                AccessModels.ActionId(\n",
    "                    scope=\"default\",\n",
    "                    activity=\"Update\",\n",
    "                    entity=\"Portfolio\",\n",
    "                ),\n",
    "                AccessModels.ActionId(\n",
    "                    scope=\"default\",\n",
    "                    activity=\"Delete\",\n",
    "                    entity=\"Portfolio\",\n",
    "                ),\n",
    "                AccessModels.ActionId(\n",
    "                    scope=\"default\",\n",
    "                    activity=\"Add\",\n",
    "                    entity=\"Portfolio\",\n",
    "                )\n",
    "            ]\n",
    "        )\n",
    "    )],\n",
    "    _for=[AccessModels.ForSpec(\n",
    "        effective_range = AccessModels.EffectiveRange(\n",
    "            _from=effective_from,\n",
    "            to=effective_to\n",
    "        )\n",
    "    )],\n",
    "    when=AccessModels.WhenSpec(\n",
    "        activate=\"0001-01-01T00:00:00.0000000+00:00\",\n",
    "        deactivate=\"9999-12-31T23:59:59.9999990+00:00\"\n",
    "    ),\n",
    ")"
   ]
  },
  {
   "cell_type": "code",
   "execution_count": 6,
   "metadata": {
    "pycharm": {
     "name": "#%%\n"
    }
   },
   "outputs": [
    {
     "name": "stdout",
     "output_type": "stream",
     "text": [
      "Policy already exists\n"
     ]
    }
   ],
   "source": [
    "# Create policy\n",
    "\n",
    "# If the policy already exists an exception will be thrown\n",
    "# To update a policy, delete it first and then re-run\n",
    "\n",
    "try:\n",
    "    response = access_api.create_policy(request_body)\n",
    "    response\n",
    "except finbourne_access.ApiException as e:\n",
    "    print(json.loads(e.body)[\"title\"])"
   ]
  },
  {
   "cell_type": "markdown",
   "metadata": {},
   "source": [
    "## 2. Applying the policy to a User and Role\n",
    "\n",
    "In order for a policy to be applied to a user you must first add it to a role. This can be an existing role or a new one.\n",
    "\n",
    "1. Create a new role or find an existing one to update - more details [HERE](https://support.lusid.com/knowledgebase/article/KA-01653/en-us)\n",
    "2. Add the newly defined policy to the role.\n",
    "3. Add user(s) to the new or existing role to implement the new access control.\n",
    "\n",
    "### More information\n",
    "\n",
    "For more information on FINBOURNE's Access and Identity Management tools and processes, please see the following set of tutorials and guides on the Knowledge Base: https://support.lusid.com/knowledgebase/article/KA-01647/en-us"
   ]
  }
 ],
 "metadata": {
  "kernelspec": {
   "display_name": "Python 3 (ipykernel)",
   "language": "python",
   "name": "python3"
  },
  "language_info": {
   "codemirror_mode": {
    "name": "ipython",
    "version": 3
   },
   "file_extension": ".py",
   "mimetype": "text/x-python",
   "name": "python",
   "nbconvert_exporter": "python",
   "pygments_lexer": "ipython3",
   "version": "3.10.10"
  }
 },
 "nbformat": 4,
 "nbformat_minor": 1
}
