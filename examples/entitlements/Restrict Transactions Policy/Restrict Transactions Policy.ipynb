{
 "cells": [
  {
   "cell_type": "code",
   "execution_count": 1,
   "metadata": {
    "pycharm": {
     "name": "#%%\n"
    }
   },
   "outputs": [
    {
     "name": "stderr",
     "output_type": "stream",
     "text": [
      "/opt/conda/lib/python3.9/site-packages/requests/__init__.py:89: RequestsDependencyWarning: urllib3 (1.26.9) or chardet (3.0.4) doesn't match a supported version!\n",
      "  warnings.warn(\"urllib3 ({}) or chardet ({}) doesn't match a supported \"\n"
     ]
    },
    {
     "data": {
      "text/html": [
       "\n",
       "    <form action=\"javascript:code_toggle()\"><input type=\"submit\" id=\"toggleButton\" value=\"Hide docstring\"></form>\n",
       "    \n",
       "         <script>\n",
       "         function code_toggle() {\n",
       "             if ($('div.cell.code_cell.rendered.selected div.input').css('display')!='none'){\n",
       "                 $('div.cell.code_cell.rendered.selected div.input').hide();\n",
       "             } else {\n",
       "                 $('div.cell.code_cell.rendered.selected div.input').show();\n",
       "             }\n",
       "         }\n",
       "         </script>\n",
       "\n",
       "     "
      ],
      "text/plain": [
       "<IPython.core.display.HTML object>"
      ]
     },
     "metadata": {},
     "output_type": "display_data"
    }
   ],
   "source": [
    "from lusidtools.jupyter_tools import toggle_code\n",
    "\n",
    "\"\"\"Create Policy to Restrict Transactions in a Period\n",
    "\n",
    "This notebook shows how to create a policy to restrict transactions in between 2 effective dates by denying any activity to all portfolios in a given scope.\n",
    "\n",
    "Attributes\n",
    "----------\n",
    "policies\n",
    "transactions\n",
    "\"\"\"\n",
    "\n",
    "toggle_code(\"Hide docstring\")"
   ]
  },
  {
   "cell_type": "markdown",
   "metadata": {
    "pycharm": {
     "name": "#%% md\n"
    }
   },
   "source": [
    "# Create Policy to Restrict Transactions in a Period\n",
    "\n",
    "This notebook shows how to create a policy to restrict transactions in between 2 effective dates by denying any activity to all portfolios in a given scope.\n",
    "\n",
    "![Timeline](timeline.JPG)"
   ]
  },
  {
   "cell_type": "markdown",
   "metadata": {
    "pycharm": {
     "name": "#%% md\n"
    }
   },
   "source": [
    "## Setup"
   ]
  },
  {
   "cell_type": "code",
   "execution_count": 2,
   "metadata": {},
   "outputs": [],
   "source": [
    "# Import LUSID\n",
    "import lusid\n",
    "import finbourne_access\n",
    "\n",
    "#import lusid_sample_data as import_data\n",
    "from lusid.utilities import ApiClientFactory as LusidApiClientFactory\n",
    "from finbourne_access.utilities import ApiClientFactory as AccessApiClientFactory\n",
    "from lusidjam import RefreshingToken\n",
    "\n",
    "# Import Libraries\n",
    "import os\n",
    "import json\n",
    "from IPython.display import Image\n",
    "\n",
    "# Authenticate our user and create our API client\n",
    "secrets_path = os.getenv(\"FBN_SECRETS_PATH\")\n",
    "\n",
    "access_api_factory = AccessApiClientFactory(\n",
    "    token=RefreshingToken(),\n",
    "    api_secrets_filename=secrets_path,\n",
    "    app_name=\"LusidJupyterNotebook\",\n",
    ")"
   ]
  },
  {
   "cell_type": "code",
   "execution_count": null,
   "metadata": {},
   "outputs": [],
   "source": [
    "# Define APIs\n",
    "access_api = access_api_factory.build(finbourne_access.api.PoliciesApi)"
   ]
  },
  {
   "cell_type": "code",
   "execution_count": null,
   "metadata": {},
   "outputs": [],
   "source": [
    "# Define variables for use in the policy request body\n",
    "scope = \"ibor\"\n",
    "policy_code = \"block-transactions\"\n",
    "policy_description = \"Policy to block transactions in a given date range\"\n",
    "effective_from = \"2022-01-01T00:00:00.0000000+00:00\"\n",
    "effective_to = \"2022-04-01T00:00:00.0000000+00:00\""
   ]
  },
  {
   "cell_type": "markdown",
   "metadata": {
    "pycharm": {
     "name": "#%% md\n"
    }
   },
   "source": [
    "## 1. Define and Create Policy\n",
    "\n",
    "This policy denies any update, delete or add activity to portfolios in the provided given scope during the provided time frame. This prevents any transactions from being added, updated or deleted in this time frame.\n",
    "\n",
    "This policy upon being created can be added to a role and applied to a user to add these restrictions to them."
   ]
  },
  {
   "cell_type": "code",
   "execution_count": 3,
   "metadata": {
    "pycharm": {
     "name": "#%%\n"
    }
   },
   "outputs": [],
   "source": [
    "# Define policy request body\n",
    "request_body = {\n",
    "    \"code\": policy_code,\n",
    "    \"description\": policy_description,\n",
    "    \"applications\": [\n",
    "        \"LUSID\"\n",
    "    ],\n",
    "    \"grant\": \"Deny\",\n",
    "    \"selectors\": [\n",
    "        {\n",
    "            \"idSelectorDefinition\": {\n",
    "                \"identifier\": {\n",
    "                    \"code\": \"*\",\n",
    "                    \"scope\": \"ibor\"\n",
    "                },\n",
    "                \"actions\": [\n",
    "                    {\n",
    "                        \"scope\": \"default\",\n",
    "                        \"activity\": \"Update\",\n",
    "                        \"entity\": \"Portfolio\"\n",
    "                    },\n",
    "                    {\n",
    "                        \"scope\": \"default\",\n",
    "                        \"activity\": \"Delete\",\n",
    "                        \"entity\": \"Portfolio\"\n",
    "                    },\n",
    "                    {\n",
    "                        \"scope\": \"default\",\n",
    "                        \"activity\": \"Add\",\n",
    "                        \"entity\": \"Portfolio\"\n",
    "                    }\n",
    "                ]\n",
    "            }\n",
    "        }\n",
    "    ],\n",
    "    \"for\": [\n",
    "        {\n",
    "            \"effectiveRange\": {\n",
    "                \"from\": effective_from,\n",
    "                \"to\": effective_to\n",
    "            }\n",
    "        }\n",
    "    ],\n",
    "    \"when\": {\n",
    "        \"activate\": \"0001-01-01T00:00:00.0000000+00:00\",\n",
    "        \"deactivate\": \"9999-12-31T23:59:59.9999990+00:00\"\n",
    "    }\n",
    "}"
   ]
  },
  {
   "cell_type": "code",
   "execution_count": 4,
   "metadata": {
    "pycharm": {
     "name": "#%%\n"
    }
   },
   "outputs": [
    {
     "name": "stdout",
     "output_type": "stream",
     "text": [
      "Policy already exists\n"
     ]
    }
   ],
   "source": [
    "# Create policy\n",
    "\n",
    "# If the policy already exists an exception will be thrown\n",
    "# To update a policy, delete it first and then run again\n",
    "\n",
    "try:\n",
    "    response = access_api.create_policy(request_body)\n",
    "    response\n",
    "except finbourne_access.ApiException as e:\n",
    "    print(json.loads(e.body)[\"title\"])"
   ]
  }
 ],
 "metadata": {
  "kernelspec": {
   "display_name": "Python 3 (ipykernel)",
   "language": "python",
   "name": "python3"
  },
  "language_info": {
   "codemirror_mode": {
    "name": "ipython",
    "version": 3
   },
   "file_extension": ".py",
   "mimetype": "text/x-python",
   "name": "python",
   "nbconvert_exporter": "python",
   "pygments_lexer": "ipython3",
   "version": "3.9.7"
  }
 },
 "nbformat": 4,
 "nbformat_minor": 1
}
