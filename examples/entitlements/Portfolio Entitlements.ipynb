{
 "cells": [
  {
   "cell_type": "code",
   "execution_count": 52,
   "id": "889a4621",
   "metadata": {},
   "outputs": [
    {
     "data": {
      "text/plain": "<IPython.core.display.HTML object>",
      "text/html": "\n    <form action=\"javascript:code_toggle()\"><input type=\"submit\" id=\"toggleButton\" value=\"Toggle Docstring\"></form>\n    \n         <script>\n         function code_toggle() {\n             if ($('div.cell.code_cell.rendered.selected div.input').css('display')!='none'){\n                 $('div.cell.code_cell.rendered.selected div.input').hide();\n             } else {\n                 $('div.cell.code_cell.rendered.selected div.input').show();\n             }\n         }\n         </script>\n\n     "
     },
     "metadata": {},
     "output_type": "display_data"
    }
   ],
   "source": [
    "from lusidtools.jupyter_tools import toggle_code\n",
    "\n",
    "\"\"\"Portfolio Entitlements\n",
    "\n",
    "Demonstrates how to create policies/access control to various date items.\n",
    "\n",
    "Attributes\n",
    "----------\n",
    "entitlements\n",
    "\"\"\"\n",
    "\n",
    "toggle_code(\"Toggle Docstring\")"
   ]
  },
  {
   "cell_type": "markdown",
   "id": "d8988bb6",
   "metadata": {},
   "source": [
    "# Portfolio Entitlements Demonstration"
   ]
  },
  {
   "cell_type": "markdown",
   "id": "797eac24",
   "metadata": {},
   "source": [
    "# 1. Setup"
   ]
  },
  {
   "cell_type": "markdown",
   "id": "ee6493c1",
   "metadata": {},
   "source": [
    "## 1.1 API connections"
   ]
  },
  {
   "cell_type": "code",
   "execution_count": 53,
   "id": "10604850",
   "metadata": {},
   "outputs": [
    {
     "data": {
      "text/plain": "<IPython.core.display.HTML object>",
      "text/html": "<style>.container { width:90% !important; }</style>"
     },
     "metadata": {},
     "output_type": "display_data"
    },
    {
     "data": {
      "text/plain": "  api_version build_version excel_version  \\\n0          v0    0.6.8407.0      0.5.2558   \n\n                                               links  \n0  {'relation': 'RequestLogs', 'href': 'http://fb...  ",
      "text/html": "<div>\n<style scoped>\n    .dataframe tbody tr th:only-of-type {\n        vertical-align: middle;\n    }\n\n    .dataframe tbody tr th {\n        vertical-align: top;\n    }\n\n    .dataframe thead th {\n        text-align: right;\n    }\n</style>\n<table border=\"1\" class=\"dataframe\">\n  <thead>\n    <tr style=\"text-align: right;\">\n      <th></th>\n      <th>api_version</th>\n      <th>build_version</th>\n      <th>excel_version</th>\n      <th>links</th>\n    </tr>\n  </thead>\n  <tbody>\n    <tr>\n      <th>0</th>\n      <td>v0</td>\n      <td>0.6.8407.0</td>\n      <td>0.5.2558</td>\n      <td>{'relation': 'RequestLogs', 'href': 'http://fb...</td>\n    </tr>\n  </tbody>\n</table>\n</div>"
     },
     "metadata": {},
     "output_type": "display_data"
    }
   ],
   "source": [
    "# Import Libraries\n",
    "import os\n",
    "import json\n",
    "import pytz\n",
    "\n",
    "from datetime import datetime, timedelta\n",
    "\n",
    "import finbourne_access\n",
    "import finbourne_identity\n",
    "import lusid\n",
    "import lusid.models as lm\n",
    "import pandas as pd\n",
    "from lusid import ApiException\n",
    "from datetime import date\n",
    "\n",
    "from finbourne_access import models as access_models\n",
    "from finbourne_identity import models as identity_models\n",
    "from lusidjam import RefreshingToken\n",
    "from IPython.core.display import HTML\n",
    "\n",
    "# Set DataFrame display formats\n",
    "pd.set_option(\"display.max_columns\", None)\n",
    "pd.set_option(\"display.max_rows\", None)\n",
    "pd.options.display.float_format = \"{:,.2f}\".format\n",
    "display(HTML(\"<style>.container { width:90% !important; }</style>\"))\n",
    "\n",
    "# Authenticate our user and create our API client\n",
    "secrets_path = os.getenv(\"FBN_SECRETS_PATH\")\n",
    "\n",
    "lusid_api_factory = lusid.utilities.ApiClientFactory(\n",
    "    token=RefreshingToken(),\n",
    "    api_secrets_filename=secrets_path,\n",
    "    app_name=\"LusidJupyterNotebook\",\n",
    ")\n",
    "\n",
    "api_client = lusid_api_factory.api_client\n",
    "\n",
    "lusid_api_url = api_client.configuration.host\n",
    "access_api_url = lusid_api_url[: lusid_api_url.rfind(\"/\") + 1] + \"access\"\n",
    "identity_api_url = lusid_api_url[: lusid_api_url.rfind(\"/\") + 1] + \"identity\"\n",
    "\n",
    "access_api_factory = finbourne_access.utilities.ApiClientFactory(\n",
    "    token=api_client.configuration.access_token,\n",
    "    access_url=access_api_url,\n",
    "    app_name=\"LusidJupyterNotebook\",\n",
    ")\n",
    "\n",
    "identity_api_factory = finbourne_identity.utilities.ApiClientFactory(\n",
    "    token=api_client.configuration.access_token,\n",
    "    api_url=identity_api_url,\n",
    "    app_name=\"LusidJupyterNotebook\",\n",
    ")\n",
    "\n",
    "api_status = pd.DataFrame(\n",
    "    lusid_api_factory.build(lusid.api.ApplicationMetadataApi)\n",
    "    .get_lusid_versions()\n",
    "    .to_dict()\n",
    ")\n",
    "\n",
    "display(api_status)"
   ]
  },
  {
   "cell_type": "code",
   "execution_count": 54,
   "id": "96d87ec1",
   "metadata": {},
   "outputs": [],
   "source": [
    "policies_api = access_api_factory.build(finbourne_access.PoliciesApi)\n",
    "portfolios_api=lusid_api_factory.build(lusid.PortfoliosApi)\n",
    "transactions_api= lusid_api_factory.build(lusid.TransactionPortfoliosApi)\n",
    "access_roles_api = access_api_factory.build(finbourne_access.RolesApi)\n",
    "identity_roles_api = identity_api_factory.build(finbourne_identity.RolesApi)\n",
    "users_api = identity_api_factory.build(finbourne_identity.UsersApi)"
   ]
  },
  {
   "cell_type": "markdown",
   "id": "68d895af",
   "metadata": {},
   "source": [
    "## 1.2 Create Portfolios"
   ]
  },
  {
   "cell_type": "code",
   "execution_count": 55,
   "id": "c9af76dd",
   "metadata": {},
   "outputs": [],
   "source": [
    "def check_portfolio(code,scope):\n",
    "    try:\n",
    "        result= portfolios_api.delete_portfolio(code=code,scope=scope)\n",
    "        return 'Portfolio successfully deleted'\n",
    "    except ApiException as e:\n",
    "        return 'Portfolio does not yet exist'"
   ]
  },
  {
   "cell_type": "code",
   "execution_count": 56,
   "id": "0a0c4a0e",
   "metadata": {},
   "outputs": [],
   "source": [
    "def create_portfolio(portfolio_code,scope='',display_name='',base_currency='GBP'):\n",
    "    check_portfolio(portfolio_code,scope)\n",
    "    request= lm.CreateTransactionPortfolioRequest(\n",
    "        display_name=display_name,\n",
    "        code=portfolio_code,\n",
    "        base_currency=base_currency,\n",
    "        created=str(date(2020,1,1)))\n",
    "    try:\n",
    "        result = transactions_api.create_portfolio(\n",
    "            scope=scope,\n",
    "            create_transaction_portfolio_request=request)\n",
    "        return result\n",
    "    except ApiException as e:\n",
    "        display(json.loads(e.body)[\"title\"])"
   ]
  },
  {
   "cell_type": "code",
   "execution_count": 57,
   "id": "8eb3b441",
   "metadata": {},
   "outputs": [],
   "source": [
    "def upsert_fx(scope, port_code, transaction_date=datetime(2021, 5, 24, tzinfo=pytz.utc)):\n",
    "    T_id= 'Transaction_1'\n",
    "    request= lm.TransactionRequest(\n",
    "    transaction_id=T_id,\n",
    "    type=\"FwdFxBuy\",\n",
    "    instrument_identifiers={\"Instrument/default/Currency\": 'GBP'},\n",
    "    transaction_date=transaction_date.isoformat(),\n",
    "    settlement_date=transaction_date.isoformat(),\n",
    "    units=1000,\n",
    "    transaction_price=lm.TransactionPrice(1,'Price'),\n",
    "    total_consideration=lm.CurrencyAndAmount(10000,'GBP'))\n",
    "    response= transactions_api.upsert_transactions(scope,\n",
    "                                                   port_code,\n",
    "                                                   transaction_request=[request])\n",
    "    response= response.to_dict()\n",
    "    display({'response link':response['links'][2]['href']})"
   ]
  },
  {
   "cell_type": "code",
   "execution_count": 58,
   "id": "b55e8a69",
   "metadata": {},
   "outputs": [],
   "source": [
    "port_1250_response=create_portfolio('1250',scope='Source1',display_name='Port 1250',base_currency='GBP')\n",
    "port_1232_response=create_portfolio('1232',scope='Source2',display_name='Port 1232',base_currency='GBP')\n",
    "port_6350_response=create_portfolio('6305',scope='Source3',display_name='Port 6305',base_currency='GBP')"
   ]
  },
  {
   "cell_type": "code",
   "execution_count": 59,
   "id": "eb67b147",
   "metadata": {},
   "outputs": [
    {
     "data": {
      "text/plain": "{'response link': 'http://fbn-ci.lusid.com/app/insights/logs/0HMECAD9UAIVA:000000E7'}"
     },
     "metadata": {},
     "output_type": "display_data"
    },
    {
     "data": {
      "text/plain": "{'response link': 'http://fbn-ci.lusid.com/app/insights/logs/0HMECAD9UAIVA:000000E8'}"
     },
     "metadata": {},
     "output_type": "display_data"
    }
   ],
   "source": [
    "upsert_fx('Source1','1250')\n",
    "upsert_fx('Source3','6305', (datetime.now(tz=pytz.utc) + timedelta(days=-15)))"
   ]
  },
  {
   "cell_type": "markdown",
   "id": "17801c01",
   "metadata": {},
   "source": [
    "## 3.Policy and User Creation\n",
    "\n",
    "Here we define the creation of policies with WhenSpec & ForSpec attributes. In this example, the policies are applied to a portfolio. We also create a policy collection, as well as users & roles. We then link a role with a policy.\n",
    "\n",
    "For more information on policies & roles, refer to the [LUSID KB](https://support.lusid.com/knowledgebase/article/KA-01652/)"
   ]
  },
  {
   "cell_type": "markdown",
   "id": "572d0543",
   "metadata": {},
   "source": [
    "### 3.1 Policy Creation"
   ]
  },
  {
   "cell_type": "code",
   "execution_count": 60,
   "id": "a32c94c0",
   "metadata": {},
   "outputs": [],
   "source": [
    "# WhenSpec objects specify the \"lifetime\" of a modification:\n",
    "# when it is activated and when it is deactivated.\n",
    "deactivate = datetime(9999, 12, 31, tzinfo=pytz.utc)\n",
    "\n",
    "when_spec = access_models.WhenSpec(\n",
    "    activate=datetime.now(tz=pytz.utc) + timedelta(days=2),\n",
    "    deactivate=deactivate,\n",
    ")\n",
    "\n",
    "# ForSpec with an EffectiveDateRelative, in this case\n",
    "# subtract x days from now, and compare that the effective\n",
    "# date is BeforeOrOn.\n",
    "# \n",
    "# See https://support.lusid.com/knowledgebase/article/KA-01831 for more info\n",
    "# on bi-temporal data\n",
    "\n",
    "for_spec = access_models.ForSpec(\n",
    "    effective_date_relative=access_models.EffectiveDateRelative(\n",
    "        date=\"Now\",\n",
    "        adjustment=(datetime.now(tz=pytz.utc) + timedelta(days=0)).strftime(\"-%j\"),\n",
    "        unit=\"Day\",\n",
    "        relative_to_date_time=\"BeforeOrOn\"\n",
    "    )\n",
    ")"
   ]
  },
  {
   "cell_type": "code",
   "execution_count": 61,
   "id": "6483ead9",
   "metadata": {},
   "outputs": [],
   "source": [
    "def return_when_spec(deactivate=deactivate,activate_delay=0):\n",
    "    when_spec = access_models.WhenSpec(\n",
    "        activate=datetime.now(tz=pytz.utc) + timedelta(days=activate_delay),\n",
    "        deactivate=deactivate,\n",
    "    )\n",
    "    return when_spec\n",
    "\n",
    "def return_for_spec(delay=0):\n",
    "    for_spec = access_models.ForSpec(\n",
    "        effective_date_relative=access_models.EffectiveDateRelative(\n",
    "            date=\"Now\",\n",
    "            adjustment=(datetime.now(tz=pytz.utc) + timedelta(days=delay)).strftime(\"-%j\"),\n",
    "            unit=\"Day\",\n",
    "            relative_to_date_time=\"BeforeOrOn\"\n",
    "            )\n",
    "    )\n",
    "    return for_spec"
   ]
  },
  {
   "cell_type": "code",
   "execution_count": 62,
   "id": "aebb05db",
   "metadata": {},
   "outputs": [],
   "source": [
    "def create_policy_portfolio_scope_access(scope,portfolio_code,deactivate=deactivate, for_specs=None, activate_delay=0):\n",
    "    allow_portfolio_policy_code = f\"allow-portfolio-access-{scope}-{portfolio_code}\"\n",
    "    portfolio_selector_definition = access_models.IdSelectorDefinition(\n",
    "       identifier={\"scope\": scope, \"code\": portfolio_code},\n",
    "       actions=[\n",
    "          access_models.ActionId(scope=\"default\", activity=\"Any\", entity=\"Portfolio\")\n",
    "        ],\n",
    "    )\n",
    "    allow_portfolio_path = access_models.SelectorDefinition(\n",
    "        id_selector_definition=portfolio_selector_definition)\n",
    "    allow_portfolio_policy_request = access_models.PolicyCreationRequest(\n",
    "        code=allow_portfolio_policy_code,\n",
    "        applications=[\"LUSID\"],\n",
    "        grant=\"Allow\",\n",
    "        selectors=[allow_portfolio_path],\n",
    "        _for=for_specs,\n",
    "        when=return_when_spec(deactivate=deactivate),\n",
    "     )\n",
    "    try:\n",
    "    # Create the policy.\n",
    "        policies_api.create_policy(allow_portfolio_policy_request)\n",
    "    except finbourne_access.ApiException as e:\n",
    "        detail = json.loads(e.body)\n",
    "        if detail['code'] not in [612,613,615]:\n",
    "            raise e\n",
    "    return allow_portfolio_policy_code"
   ]
  },
  {
   "cell_type": "code",
   "execution_count": 63,
   "id": "b1564e30",
   "metadata": {},
   "outputs": [],
   "source": [
    "def return_selector_defitions(selector_list):\n",
    "    sl=[access_models.SelectorDefinition(id_selector_definition=i) \n",
    "         for i in selector_list]\n",
    "    return sl"
   ]
  },
  {
   "cell_type": "code",
   "execution_count": 64,
   "id": "9c713f7b",
   "metadata": {},
   "outputs": [],
   "source": [
    "def return_id_selector_definition_list(endpoint_codes,activity=\"Execute\",entity=\"Feature\"):\n",
    "    id_ls=[]\n",
    "    for i in endpoint_codes:\n",
    "        IdSelector= access_models.IdSelectorDefinition(\n",
    "             identifier={\"scope\": 'LUSID', \"code\": i},\n",
    "             actions=[\n",
    "             access_models.ActionId(scope=\"LUSID\", activity=activity, entity=entity)\n",
    "               ],\n",
    "               name=\"run \"+ i,\n",
    "              description=i\n",
    "              )\n",
    "        id_ls.append(IdSelector)\n",
    "    return id_ls"
   ]
  },
  {
   "cell_type": "code",
   "execution_count": 65,
   "id": "02b5c9e9",
   "metadata": {},
   "outputs": [],
   "source": [
    "def create_policy_for_endpoint_access(endpoint_name,endpoint_codes,deactivate=deactivate, activate_delay=0):\n",
    "    allow_endpoint_policy_code = f\"allow-endpoint-access-{endpoint_name}\"\n",
    "    selectors=return_selector_defitions(return_id_selector_definition_list(endpoint_codes))\n",
    "    allow_portfolio_policy_request = access_models.PolicyCreationRequest(\n",
    "        code=allow_endpoint_policy_code,\n",
    "        applications=[\"LUSID\"],\n",
    "        grant=\"Allow\",\n",
    "        selectors=selectors,\n",
    "        when=return_when_spec(deactivate=deactivate),\n",
    "     )\n",
    "    try:\n",
    "    # Create the policy.\n",
    "        policies_api.create_policy(allow_portfolio_policy_request)\n",
    "    except finbourne_access.ApiException as e:\n",
    "        detail = json.loads(e.body)\n",
    "        if detail['code'] not in [612,613,615]:\n",
    "            raise e\n",
    "    return allow_endpoint_policy_code"
   ]
  },
  {
   "cell_type": "markdown",
   "id": "b241836c",
   "metadata": {},
   "source": [
    "### 3.2 Policy Collection"
   ]
  },
  {
   "cell_type": "code",
   "execution_count": 66,
   "id": "d2d17302",
   "metadata": {},
   "outputs": [],
   "source": [
    "def create_policy_collection(policy_codes,collection_code,description):\n",
    " #   policy_collection_code= f\"allow-portfolio-access-{collection_code}\"\n",
    "    policy_id_list=[access_models.PolicyId('default',i) for i in policy_codes]\n",
    "    policy_collection_request= access_models.PolicyCollectionCreationRequest(code=collection_code,policies=policy_id_list,description=description)\n",
    "    try:\n",
    "    # Create the policy collection.\n",
    "        policies_api.create_policy_collection(policy_collection_request)\n",
    "    except finbourne_access.ApiException as e:\n",
    "        detail=json.loads(e.body)\n",
    "        if detail['code'] not in [612,613,615]:\n",
    "            raise e\n",
    "    return collection_code"
   ]
  },
  {
   "cell_type": "markdown",
   "id": "deca56c8",
   "metadata": {},
   "source": [
    "### 3.3 Role Creation "
   ]
  },
  {
   "cell_type": "code",
   "execution_count": 67,
   "id": "85cc50c6",
   "metadata": {},
   "outputs": [],
   "source": [
    "def create_role(role_code,policy_collection_code,policy_code='tutorial-readonly-examplesdkapp-access',deactivate=deactivate):\n",
    "    allow_features_policy_code = \"allow-standard-lusid-features-access\"\n",
    "\n",
    "    # Create the role using the access API.\n",
    "    role_creation_request = access_models.RoleCreationRequest(\n",
    "        code=role_code,\n",
    "        description=role_code,\n",
    "        resource=access_models.RoleResourceRequest(\n",
    "            policy_id_role_resource=access_models.PolicyIdRoleResource(\n",
    "            # Here, we apply the two default policies when creating the role.\n",
    "            policies=[\n",
    "                access_models.PolicyId(scope=\"default\", code=policy_code),\n",
    "                ],\n",
    "            policy_collections=[access_models.PolicyCollectionId(scope=\"default\", code=policy_collection_code)]\n",
    "             )\n",
    "        ),\n",
    "       when=return_when_spec(deactivate=deactivate),\n",
    "       )\n",
    "    try:\n",
    "        response = access_roles_api.create_role(role_creation_request)\n",
    "    except finbourne_access.ApiException as e:\n",
    "        detail = json.loads(e.body)\n",
    "        if detail['code'] not in [612,613,615]:  # RoleWithCodeAlreadyExists\n",
    "            raise e\n",
    "    # Create the same role using the identity API.\n",
    "    try:\n",
    "        response = identity_roles_api.create_role(\n",
    "        create_role_request=identity_models.CreateRoleRequest(role_code)\n",
    "          )\n",
    "    except finbourne_identity.ApiException as e:\n",
    "        detail=json.loads(e.body)\n",
    "        if detail['code'] !=157:\n",
    "            raise e"
   ]
  },
  {
   "cell_type": "markdown",
   "id": "3cfb1625",
   "metadata": {},
   "source": [
    "### 3.4 User Creation"
   ]
  },
  {
   "cell_type": "code",
   "execution_count": 68,
   "id": "a1f1c274",
   "metadata": {},
   "outputs": [],
   "source": [
    "def create_user_with_role(first_name, last_name, email, role_code):\n",
    "    request= finbourne_identity.CreateUserRequest(first_name=first_name,\n",
    "                                         last_name=last_name,email_address=email,login=email,\n",
    "                                        roles=[identity_models.RoleId(scope=\"default\", code=role_code)],type='Service')\n",
    "    try:\n",
    "        users_api.create_user(request)\n",
    "        return 'User Created'\n",
    "    except finbourne_identity.ApiException as e:\n",
    "        detail=json.loads(e.body)\n",
    "        if detail['code'] !=658:\n",
    "            raise e"
   ]
  },
  {
   "cell_type": "markdown",
   "id": "511e662f",
   "metadata": {},
   "source": [
    "## 4. Set up information barriers"
   ]
  },
  {
   "attachments": {
    "image-2.png": {
     "image/png": "[encoded data removed]"
    }
   },
   "cell_type": "markdown",
   "id": "6f460ed0",
   "metadata": {},
   "source": [
    "![image-2.png](attachment:image-2.png)"
   ]
  },
  {
   "attachments": {
    "image.png": {
     "image/png": "[encoded data removed]"
    }
   },
   "cell_type": "markdown",
   "id": "58a28af7",
   "metadata": {},
   "source": [
    "![image.png](attachment:image.png)"
   ]
  },
  {
   "cell_type": "markdown",
   "id": "2cd74ee5",
   "metadata": {},
   "source": [
    "### 4.1 Create Feature Policies\n",
    "\n",
    "Here we define the minimum set of feature policies which allow for this example to complete.\n",
    "A feature policy defines the executions available on particular API endpoints across the lusid system.\n",
    "\n",
    "You can find more information on feature policies, along with a detailed example, in the access control summary on the [LUSID KB](https://support.lusid.com/knowledgebase/article/KA-01652/#access-control-summary). "
   ]
  },
  {
   "cell_type": "code",
   "execution_count": 69,
   "id": "78be9b20",
   "metadata": {},
   "outputs": [],
   "source": [
    "holding_endpoint_codes=[\"api-searchproxy-searchportfolios\", \"api-portfolios-listportfolios\", \n",
    "                        \"api-portfolios-getportfolio\",\"api-transactionportfolios-getdetails\"\n",
    "                       , \"api-transactionportfolios-getholdings\"]\n",
    "\n",
    "transaction_endpoint_codes=[\"api-transactionportfolios-gettransactions\",\"api-searchproxy-searchportfolios\",\n",
    "                            \"api-portfolios-listportfolios\",\n",
    "                            \"api-portfolios-getportfolio\" ]\n",
    "\n",
    "valuation_endpoint_codes= [\"api-configurationrecipe-*\"]"
   ]
  },
  {
   "cell_type": "code",
   "execution_count": 70,
   "id": "6ad3f1fc",
   "metadata": {},
   "outputs": [],
   "source": [
    "### Create the Policies that create access to different scopes and portfolio codes. These policies combine data from both the IB Fund Table and Entitlements Central. The two tables are joined based on the user ID.\n",
    "source1_1250_policy_id=create_policy_portfolio_scope_access('Source1','1250')\n",
    "source2_1250_policy_id=create_policy_portfolio_scope_access('Source2','1250')\n",
    "source1_1232_policy_id=create_policy_portfolio_scope_access('Source1','1232')\n",
    "source2_1232_policy_id=create_policy_portfolio_scope_access('Source2','1232')\n",
    "\n",
    "# Create a policy with a forSpec of 'now' -14 days\n",
    "source3_1250_policy_id=create_policy_portfolio_scope_access('Source3','1250', for_specs=[return_for_spec(14)])\n",
    "source_1_6305_policy_id=create_policy_portfolio_scope_access('Source1','6305')\n",
    "source_2_6305_policy_id=create_policy_portfolio_scope_access('Source2','6305')\n",
    "\n",
    "\n",
    "\n",
    "### Endpoint policy ID for Access to portfolio Holdings\n",
    "holding_policy_id=create_policy_for_endpoint_access('Holding',holding_endpoint_codes, activate_delay=0)\n",
    "\n",
    "### Create policy for Valuations\n",
    "valuation_policy_id=create_policy_for_endpoint_access('Valuation',valuation_endpoint_codes, activate_delay=0)\n",
    "\n",
    "###Create policy for access to portfolio Transactions, delaying the activation of the policy for 14 days\n",
    "transaction_policy_id=create_policy_for_endpoint_access('Transaction',transaction_endpoint_codes, activate_delay=14)"
   ]
  },
  {
   "cell_type": "markdown",
   "id": "287d899c",
   "metadata": {},
   "source": [
    "## 4.2 Create Policy Collections"
   ]
  },
  {
   "attachments": {
    "image-2.png": {
     "image/png": "[encoded data removed]"
    }
   },
   "cell_type": "markdown",
   "id": "a432b46c",
   "metadata": {},
   "source": [
    "![image-2.png](attachment:image-2.png)"
   ]
  },
  {
   "cell_type": "code",
   "execution_count": 71,
   "id": "aff55d3e",
   "metadata": {},
   "outputs": [],
   "source": [
    "## Create Policy collection for user 12345\n",
    "policy_collection_12345=create_policy_collection([source1_1250_policy_id, source2_1250_policy_id,source1_1232_policy_id,source2_1232_policy_id, holding_policy_id,valuation_policy_id ],'user_12345_collection','User 12345 Collection')\n",
    "\n",
    "##Create Policy collection for user 14533\n",
    "policy_collection_14533=create_policy_collection([source1_1250_policy_id, source_1_6305_policy_id,transaction_policy_id],'user_14533_collection','User 14533 Collection')\n",
    "\n",
    "##Create Policy collection for user 15000\n",
    "policy_collection_15000=create_policy_collection([source3_1250_policy_id,transaction_policy_id],'user_15000_collection','User 15000 Collection')"
   ]
  },
  {
   "cell_type": "markdown",
   "id": "2b3a36b4",
   "metadata": {},
   "source": [
    "### 4.3 Create Roles"
   ]
  },
  {
   "attachments": {
    "image.png": {
     "image/png": "[encoded data removed]"
    }
   },
   "cell_type": "markdown",
   "id": "7d3ccdbe",
   "metadata": {},
   "source": [
    "![image.png](attachment:image.png)"
   ]
  },
  {
   "cell_type": "code",
   "execution_count": 72,
   "id": "afb66bf0",
   "metadata": {},
   "outputs": [],
   "source": [
    "create_role('LUSID Role 12345','user_12345_collection')\n",
    "create_role('LUSID Role 14533', 'user_14533_collection')\n",
    "create_role('LUSID Role 15000', 'user_15000_collection')"
   ]
  },
  {
   "cell_type": "markdown",
   "id": "d0abc908",
   "metadata": {},
   "source": [
    "### 4.4 Create Users with Roles Assigned"
   ]
  },
  {
   "attachments": {
    "image.png": {
     "image/png": "[encoded data removed]"
    }
   },
   "cell_type": "markdown",
   "id": "0832f641",
   "metadata": {},
   "source": [
    "![image.png](attachment:image.png)"
   ]
  },
  {
   "cell_type": "code",
   "execution_count": 73,
   "id": "c56de6c8",
   "metadata": {},
   "outputs": [],
   "source": [
    "#Users will not work correctly without a valid email address. To set up a User please provide a valid email address and follow the user\n",
    "#set up instructions.\n",
    "\n",
    "### Create Users with roles, specify email address as welll as first names\n",
    "create_user_with_role('12345','12345' , '12345@example.com','LUSID Role 12345')\n",
    "create_user_with_role('14533','14533' ,'14533@example.com','LUSID Role 14533')"
   ]
  },
  {
   "cell_type": "markdown",
   "id": "072b307e",
   "metadata": {},
   "source": [
    "### 4.5 Complete\n",
    "\n",
    "You will now have some example portfolios setup, with policies applied, along with users & roles.\n",
    "You can now view these portfolios in the web portal.\n",
    "\n",
    "(Note: ForSpec portfolios will not be visible in the web portal, this feature is not fully supported by the web portal at present. However you can still perform API requests to retreive the data you require)."
   ]
  },
  {
   "cell_type": "code",
   "execution_count": 73,
   "outputs": [],
   "source": [],
   "metadata": {
    "collapsed": false,
    "pycharm": {
     "name": "#%%\n"
    }
   }
  }
 ],
 "metadata": {
  "kernelspec": {
   "display_name": "Python 3 (ipykernel)",
   "language": "python",
   "name": "python3"
  },
  "language_info": {
   "codemirror_mode": {
    "name": "ipython",
    "version": 3
   },
   "file_extension": ".py",
   "mimetype": "text/x-python",
   "name": "python",
   "nbconvert_exporter": "python",
   "pygments_lexer": "ipython3",
   "version": "3.7.3"
  }
 },
 "nbformat": 4,
 "nbformat_minor": 5
}