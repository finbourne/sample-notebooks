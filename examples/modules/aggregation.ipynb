{
 "cells": [
  {
   "cell_type": "code",
   "execution_count": 1,
   "metadata": {},
   "outputs": [],
   "source": [
    "import lusid\n",
    "import lusid.models as models\n",
    "import os\n",
    "from lusidjam import RefreshingToken\n",
    "import uuid\n",
    "from datetime import datetime\n",
    "import pytz\n",
    "from collections import namedtuple\n",
    "\n",
    "LUSID_INSTRUMENT_IDENTIFIER = \"Instrument/default/LusidInstrumentId\"\n",
    "\n",
    "# Authenticate our user and create our API client\n",
    "secrets_path = os.getenv(\"FBN_SECRETS_PATH\")\n",
    "\n",
    "api_factory = lusid.utilities.ApiClientFactory(\n",
    "    token=RefreshingToken(),\n",
    "    api_secrets_filename = secrets_path,\n",
    "    app_name=\"LusidJupyterNotebook\")"
   ]
  },
  {
   "cell_type": "code",
   "execution_count": 3,
   "metadata": {},
   "outputs": [],
   "source": [
    "# create instruments\n",
    "\n",
    "instruments = [\n",
    "    {\"Figi\": \"BBG000C6K6G9\", \"Name\": \"VODAFONE GROUP PLC\"},\n",
    "    {\"Figi\": \"BBG000C04D57\", \"Name\": \"BARCLAYS PLC\"},\n",
    "    {\"Figi\": \"BBG000FV67Q4\", \"Name\": \"NATIONAL GRID PLC\"},\n",
    "    {\"Figi\": \"BBG000BF0KW3\", \"Name\": \"SAINSBURY (J) PLC\"},\n",
    "    {\"Figi\": \"BBG000BF4KL1\", \"Name\": \"TAYLOR WIMPEY PLC\"}\n",
    "]\n",
    "\n",
    "figis_to_create = {\n",
    "    i[\"Figi\"]:models.InstrumentDefinition(\n",
    "        name=i[\"Name\"], \n",
    "        identifiers={\"Figi\": models.InstrumentIdValue(\n",
    "            value=i[\"Figi\"])}\n",
    "    ) for i in instruments \n",
    "}\n",
    "\n",
    "upsert_response = api_factory.build(lusid.api.InstrumentsApi).upsert_instruments(request_body=figis_to_create)\n",
    "\n",
    "if len(upsert_response.failed) != 0:\n",
    "    raise Exception(upsert_response.failed)\n",
    "\n",
    "ids = api_factory.build(lusid.api.InstrumentsApi).get_instruments(\n",
    "    identifier_type=\"Figi\", \n",
    "    request_body=[i[\"Figi\"] for i in instruments])\n",
    "\n",
    "instrument_ids = [i.lusid_instrument_id for i in ids.values.values()]"
   ]
  },
  {
   "cell_type": "code",
   "execution_count": 4,
   "metadata": {},
   "outputs": [],
   "source": [
    "def build_transaction(trade_spec):\n",
    "    return models.TransactionRequest(\n",
    "        transaction_id=str(uuid.uuid4()),\n",
    "        type=\"StockIn\",\n",
    "        instrument_identifiers={LUSID_INSTRUMENT_IDENTIFIER: trade_spec.id},\n",
    "        transaction_date=trade_spec.trade_date,\n",
    "        settlement_date=trade_spec.trade_date,\n",
    "        units=100,\n",
    "        transaction_price=models.TransactionPrice(\n",
    "            price=trade_spec.price),\n",
    "        total_consideration=models.CurrencyAndAmount(\n",
    "            amount=100 * trade_spec.price, \n",
    "            currency=\"GBP\"),\n",
    "        source=\"Client\"\n",
    "    )\n",
    "\n",
    "scope = \"finbourne\"\n",
    "guid = str(uuid.uuid4())\n",
    "effective_date = datetime(2018, 1, 1, tzinfo=pytz.utc)\n",
    "\n",
    "request = models.CreateTransactionPortfolioRequest(\n",
    "    display_name=\"portfolio-{0}\".format(guid),\n",
    "    code=\"id-{0}\".format(guid),\n",
    "    base_currency=\"GBP\",\n",
    "    created=effective_date\n",
    ")\n",
    "\n",
    "#   create the portfolio\n",
    "result = api_factory.build(lusid.api.TransactionPortfoliosApi).create_portfolio(\n",
    "    scope=scope, \n",
    "    create_transaction_portfolio_request=request)\n",
    "\n",
    "assert(result.id.code == request.code)\n",
    "\n",
    "portfolio_id = result.id.code\n",
    "\n",
    "TransactionSpec = namedtuple('TransactionSpec', 'id price trade_date')\n",
    "transaction_specs = [\n",
    "    TransactionSpec(instrument_ids[0], 101, effective_date),\n",
    "    TransactionSpec(instrument_ids[1], 102, effective_date),\n",
    "    TransactionSpec(instrument_ids[2], 103, effective_date)\n",
    "]\n",
    "transaction_specs.sort(key=lambda ts: ts.id)\n",
    "\n",
    "new_transactions = list(map(build_transaction, transaction_specs))\n",
    "\n",
    "#   add initial batch of trades\n",
    "add_transactions_result = api_factory.build(lusid.api.TransactionPortfoliosApi).upsert_transactions(\n",
    "    scope=scope, \n",
    "    code=portfolio_id, \n",
    "    transaction_request=new_transactions)"
   ]
  },
  {
   "cell_type": "code",
   "execution_count": 5,
   "metadata": {
    "pycharm": {
     "name": "#%%\n"
    }
   },
   "outputs": [],
   "source": [
    "# Create quote requests\n",
    "instrument_quotes = {\n",
    "    instrument_ids[i]: models.UpsertQuoteRequest(\n",
    "        quote_id=models.QuoteId(\n",
    "            quote_series_id=models.QuoteSeriesId(\n",
    "                provider='DataScope',\n",
    "                instrument_id=instrument_ids[i],\n",
    "                instrument_id_type='LusidInstrumentId',\n",
    "                quote_type='Price',\n",
    "                field='Mid'),\n",
    "            effective_at=effective_date\n",
    "        ),\n",
    "        metric_value=models.MetricValue(\n",
    "            value=i*100,\n",
    "            unit=\"GBP\"),\n",
    "        lineage='InternalSystem') for i in range(0,3)\n",
    "    }\n",
    "\n",
    "# Upsert the quotes into LUSID\n",
    "response = api_factory.build(lusid.api.QuotesApi).upsert_quotes(\n",
    "    scope=scope,\n",
    "    request_body=instrument_quotes)"
   ]
  },
  {
   "cell_type": "code",
   "execution_count": 6,
   "metadata": {},
   "outputs": [],
   "source": [
    "# Create a recipe to perform a valuation\n",
    "inline_recipe = models.ConfigurationRecipe(\n",
    "    scope=\"User\",\n",
    "    code='quotes_recipe',\n",
    "    market=models.MarketContext(\n",
    "        market_rules=[\n",
    "            models.MarketDataKeyRule(\n",
    "               key='Equity.LusidInstrumentId.*',\n",
    "               supplier='DataScope',\n",
    "               data_scope=scope,\n",
    "               quote_type='Price',\n",
    "               field='Mid')\n",
    "        ],\n",
    "        suppliers=models.MarketContextSuppliers(\n",
    "            commodity='DataScope',\n",
    "            credit='DataScope',\n",
    "            equity='DataScope',\n",
    "            fx='DataScope',\n",
    "            rates='DataScope'),\n",
    "        options=models.MarketOptions(\n",
    "            default_supplier='DataScope',\n",
    "            default_instrument_code_type='LusidInstrumentId',\n",
    "            default_scope=scope)\n",
    "        )\n",
    "    )\n",
    "\n",
    "# Perform a valuation\n",
    "aggregation_request = models.AggregationRequest(\n",
    "    inline_recipe=inline_recipe,\n",
    "    metrics=[\n",
    "        models.AggregateSpec(\"Instrument/default/Name\", \"Value\"),\n",
    "        models.AggregateSpec(\"Holding/default/PV\", \"Proportion\"),\n",
    "        models.AggregateSpec(\"Holding/default/PV\", \"Sum\")\n",
    "    ],\n",
    "    group_by=[\"Instrument/default/Name\"],\n",
    "    effective_at=effective_date\n",
    ")\n",
    "\n",
    "#   do the aggregation\n",
    "aggregation = api_factory.build(lusid.api.AggregationApi).get_aggregation_by_portfolio(\n",
    "    scope=scope, \n",
    "    code=portfolio_id, \n",
    "    aggregation_request=aggregation_request)"
   ]
  },
  {
   "cell_type": "code",
   "execution_count": 7,
   "metadata": {},
   "outputs": [
    {
     "name": "stdout",
     "output_type": "stream",
     "text": [
      "\tVODAFONE GROUP PLC\t0.3333333333333333\t20000.0\n",
      "\tBARCLAYS PLC\t0.16666666666666666\t10000.0\n",
      "\tTAYLOR WIMPEY PLC\t0.5\t30000.0\n"
     ]
    }
   ],
   "source": [
    "for item in aggregation.data:\n",
    "    print(\"\\t{}\\t{}\\t{}\".format(\n",
    "        item[\"Instrument/default/Name\"], \n",
    "        item[\"Proportion(Holding/default/PV)\"], \n",
    "        item[\"Sum(Holding/default/PV)\"]))"
   ]
  },
  {
   "cell_type": "code",
   "execution_count": 8,
   "metadata": {},
   "outputs": [
    {
     "data": {
      "image/png": "[encoded data removed]",
      "text/plain": [
       "<Figure size 432x288 with 1 Axes>"
      ]
     },
     "metadata": {},
     "output_type": "display_data"
    }
   ],
   "source": [
    "%matplotlib inline\n",
    "import matplotlib.pyplot as plt\n",
    "\n",
    "labels = []\n",
    "values = []\n",
    "for item in aggregation.data:\n",
    "    labels.append(item[\"Instrument/default/Name\"])\n",
    "    values.append(item[\"Proportion(Holding/default/PV)\"] * 100)\n",
    "    \n",
    "fig1, ax1 = plt.subplots()\n",
    "ax1.pie(values, labels=labels, autopct='%1.1f%%',\n",
    "        shadow=True, startangle=90)\n",
    "ax1.axis('equal')\n",
    "\n",
    "plt.show()"
   ]
  }
 ],
 "metadata": {
  "kernelspec": {
   "display_name": "Python 3",
   "language": "python",
   "name": "python3"
  },
  "language_info": {
   "codemirror_mode": {
    "name": "ipython",
    "version": 3
   },
   "file_extension": ".py",
   "mimetype": "text/x-python",
   "name": "python",
   "nbconvert_exporter": "python",
   "pygments_lexer": "ipython3",
   "version": "3.8.1"
  }
 },
 "nbformat": 4,
 "nbformat_minor": 2
}