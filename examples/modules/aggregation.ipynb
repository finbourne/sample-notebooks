{
 "cells": [
  {
   "cell_type": "code",
   "execution_count": 1,
   "metadata": {},
   "outputs": [],
   "source": [
    "import lusid\n",
    "import lusid.models as models\n",
    "import os\n",
    "import sample_login\n",
    "import uuid\n",
    "from datetime import datetime\n",
    "import pytz\n",
    "from collections import namedtuple\n",
    "\n",
    "LUSID_INSTRUMENT_IDENTIFIER = \"Instrument/default/LusidInstrumentId\"\n",
    "\n",
    "client = sample_login.authenticate_secrets()"
   ]
  },
  {
   "cell_type": "code",
   "execution_count": 2,
   "metadata": {},
   "outputs": [],
   "source": [
    "# create instruments\n",
    "\n",
    "instruments = [\n",
    "    {\"Figi\": \"BBG000C6K6G9\", \"Name\": \"VODAFONE GROUP PLC\"},\n",
    "    {\"Figi\": \"BBG000C04D57\", \"Name\": \"BARCLAYS PLC\"},\n",
    "    {\"Figi\": \"BBG000FV67Q4\", \"Name\": \"NATIONAL GRID PLC\"},\n",
    "    {\"Figi\": \"BBG000BF0KW3\", \"Name\": \"SAINSBURY (J) PLC\"},\n",
    "    {\"Figi\": \"BBG000BF4KL1\", \"Name\": \"TAYLOR WIMPEY PLC\"}\n",
    "]\n",
    "\n",
    "figis_to_create = {\n",
    "    i[\"Figi\"]:models.InstrumentDefinition(\n",
    "        name=i[\"Name\"], \n",
    "        identifiers={\"Figi\": models.InstrumentIdValue(\n",
    "            value=i[\"Figi\"])}\n",
    "    ) for i in instruments \n",
    "}\n",
    "\n",
    "upsert_response = client.instruments.upsert_instruments(\n",
    "    request_body=figis_to_create)\n",
    "\n",
    "if len(upsert_response.failed) != 0:\n",
    "    raise Exception(upsert_response.failed)\n",
    "\n",
    "ids = client.instruments.get_instruments(\n",
    "    identifier_type=\"Figi\", \n",
    "    request_body=[i[\"Figi\"] for i in instruments])\n",
    "\n",
    "instrument_ids = [i.lusid_instrument_id for i in ids.values.values()]"
   ]
  },
  {
   "cell_type": "code",
   "execution_count": 3,
   "metadata": {},
   "outputs": [],
   "source": [
    "def build_transaction(trade_spec):\n",
    "    return models.TransactionRequest(\n",
    "        transaction_id=str(uuid.uuid4()),\n",
    "        type=\"StockIn\",\n",
    "        instrument_identifiers={LUSID_INSTRUMENT_IDENTIFIER: trade_spec.id},\n",
    "        transaction_date=trade_spec.trade_date,\n",
    "        settlement_date=trade_spec.trade_date,\n",
    "        units=100,\n",
    "        transaction_price=models.TransactionPrice(\n",
    "            price=trade_spec.price),\n",
    "        total_consideration=models.CurrencyAndAmount(\n",
    "            amount=100 * trade_spec.price, \n",
    "            currency=\"GBP\"),\n",
    "        source=\"Client\"\n",
    "    )\n",
    "\n",
    "scope = \"finbourne\"\n",
    "guid = str(uuid.uuid4())\n",
    "effective_date = datetime(2018, 1, 1, tzinfo=pytz.utc)\n",
    "\n",
    "request = models.CreateTransactionPortfolioRequest(\n",
    "    display_name=\"portfolio-{0}\".format(guid),\n",
    "    code=\"id-{0}\".format(guid),\n",
    "    base_currency=\"GBP\",\n",
    "    created=effective_date\n",
    ")\n",
    "\n",
    "#   create the portfolio\n",
    "result = client.transaction_portfolios.create_portfolio(\n",
    "    scope=scope, \n",
    "    create_transaction_portfolio_request=request)\n",
    "\n",
    "assert(result.id.code == request.code)\n",
    "\n",
    "portfolio_id = result.id.code\n",
    "\n",
    "TransactionSpec = namedtuple('TransactionSpec', 'id price trade_date')\n",
    "transaction_specs = [\n",
    "    TransactionSpec(instrument_ids[0], 101, effective_date),\n",
    "    TransactionSpec(instrument_ids[1], 102, effective_date),\n",
    "    TransactionSpec(instrument_ids[2], 103, effective_date)\n",
    "]\n",
    "transaction_specs.sort(key=lambda ts: ts.id)\n",
    "\n",
    "new_transactions = list(map(build_transaction, transaction_specs))\n",
    "\n",
    "#   add initial batch of trades\n",
    "add_transactions_result = client.transaction_portfolios.upsert_transactions(\n",
    "    scope=scope, \n",
    "    code=portfolio_id, \n",
    "    transaction_request=new_transactions)"
   ]
  },
  {
   "cell_type": "code",
   "execution_count": 4,
   "metadata": {},
   "outputs": [],
   "source": [
    "try:\n",
    "    analytic_store = client.analytics_stores.get_analytic_store(\n",
    "        scope=scope,\n",
    "        year=effective_date.year,\n",
    "        month=effective_date.month,\n",
    "        day=effective_date.day\n",
    "    )\n",
    "except Exception as e:\n",
    "    analytic_store_request = models.CreateAnalyticStoreRequest(\n",
    "        scope=scope, \n",
    "        date=effective_date)\n",
    "    \n",
    "    client.analytics_stores.create_analytic_store(\n",
    "        create_analytic_store_request=analytic_store_request)\n",
    "\n",
    "prices = [\n",
    "    models.InstrumentAnalytic(instrument_ids[0], 100),\n",
    "    models.InstrumentAnalytic(instrument_ids[1], 200),\n",
    "    models.InstrumentAnalytic(instrument_ids[2], 300)\n",
    "]\n",
    "\n",
    "#   add prices\n",
    "prices_result = client.analytics_stores.set_analytics(\n",
    "    scope=scope, \n",
    "    year=effective_date.year, \n",
    "    month=effective_date.month, \n",
    "    day=effective_date.day, \n",
    "    instrument_analytic=prices)"
   ]
  },
  {
   "cell_type": "code",
   "execution_count": 5,
   "metadata": {},
   "outputs": [],
   "source": [
    "aggregation_request = models.AggregationRequest(\n",
    "    recipe_id=models.ResourceId(scope, \"default\"),\n",
    "    metrics=[\n",
    "        models.AggregateSpec(\"Instrument/default/Name\", \"Value\"),\n",
    "        models.AggregateSpec(\"Holding/default/PV\", \"Proportion\"),\n",
    "        models.AggregateSpec(\"Holding/default/PV\", \"Sum\")\n",
    "    ],\n",
    "    group_by=[\"Instrument/default/Name\"],\n",
    "    effective_at=effective_date\n",
    ")\n",
    "\n",
    "#   do the aggregation\n",
    "aggregation = client.aggregation.get_aggregation_by_portfolio(\n",
    "    scope=scope, \n",
    "    code=portfolio_id, \n",
    "    aggregation_request=aggregation_request)"
   ]
  },
  {
   "cell_type": "code",
   "execution_count": 6,
   "metadata": {},
   "outputs": [
    {
     "name": "stdout",
     "output_type": "stream",
     "text": [
      "\tNATIONAL GRID PLC\t0.5\t30000.0\n",
      "\tVODAFONE GROUP PLC\t0.16666666666666666\t10000.0\n",
      "\tTAYLOR WIMPEY PLC\t0.3333333333333333\t20000.0\n"
     ]
    }
   ],
   "source": [
    "for item in aggregation.data:\n",
    "    print(\"\\t{}\\t{}\\t{}\".format(\n",
    "        item[\"Instrument/default/Name\"], \n",
    "        item[\"Proportion(Holding/default/PV)\"], \n",
    "        item[\"Sum(Holding/default/PV)\"]))"
   ]
  },
  {
   "cell_type": "code",
   "execution_count": 7,
   "metadata": {},
   "outputs": [
    {
     "data": {
      "image/png": "[encoded data removed]",
      "text/plain": [
       "<Figure size 432x288 with 1 Axes>"
      ]
     },
     "metadata": {},
     "output_type": "display_data"
    }
   ],
   "source": [
    "%matplotlib inline\n",
    "import matplotlib.pyplot as plt\n",
    "\n",
    "labels = []\n",
    "values = []\n",
    "for item in aggregation.data:\n",
    "    labels.append(item[\"Instrument/default/Name\"])\n",
    "    values.append(item[\"Proportion(Holding/default/PV)\"] * 100)\n",
    "    \n",
    "fig1, ax1 = plt.subplots()\n",
    "ax1.pie(values, labels=labels, autopct='%1.1f%%',\n",
    "        shadow=True, startangle=90)\n",
    "ax1.axis('equal')\n",
    "\n",
    "plt.show()"
   ]
  }
 ],
 "metadata": {
  "kernelspec": {
   "display_name": "Python 3",
   "language": "python",
   "name": "python3"
  },
  "language_info": {
   "codemirror_mode": {
    "name": "ipython",
    "version": 3
   },
   "file_extension": ".py",
   "mimetype": "text/x-python",
   "name": "python",
   "nbconvert_exporter": "python",
   "pygments_lexer": "ipython3",
   "version": "3.6.6"
  }
 },
 "nbformat": 4,
 "nbformat_minor": 2
}
