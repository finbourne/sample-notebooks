{
 "cells": [
  {
   "cell_type": "code",
   "execution_count": 3,
   "metadata": {},
   "outputs": [],
   "source": [
    "import cashladder"
   ]
  },
  {
   "cell_type": "code",
   "execution_count": 4,
   "metadata": {},
   "outputs": [],
   "source": [
    "import lusid\n",
    "import lusid.models as models\n",
    "import os\n",
    "from msrest.authentication import BasicTokenAuthentication\n",
    "\n",
    "api_url = os.getenv(\"FBN_LUSID_API_URL\")\n",
    "api_token = {\"access_token\": os.environ[\"ACCESS_TOKEN\"]}\n",
    "credentials = BasicTokenAuthentication(api_token)\n",
    "client = lusid.LUSIDAPI(credentials, api_url)\n",
    "\n",
    "import uuid\n",
    "from datetime import datetime\n",
    "from datetime import timedelta\n",
    "import pytz\n",
    "from collections import namedtuple\n",
    "\n",
    "LUSID_INSTRUMENT_IDENTIFIER = \"Instrument/default/LusidInstrumentId\"\n",
    "\n",
    "def build_transaction(transaction_spec):\n",
    "    return models.TransactionRequest(\n",
    "        transaction_id=str(uuid.uuid4()),\n",
    "        type=\"Buy\",\n",
    "        instrument_identifiers={LUSID_INSTRUMENT_IDENTIFIER: transaction_spec.id},\n",
    "        transaction_date=transaction_spec.trade_date,\n",
    "        settlement_date=transaction_spec.trade_date + timedelta(days=2),\n",
    "        units=100,\n",
    "        transaction_price=models.TransactionPrice(transaction_spec.price),\n",
    "        total_consideration=models.CurrencyAndAmount(100 * transaction_spec.price, transaction_spec.currency),\n",
    "        source=\"Client\")\n",
    "\n",
    "TransactionSpec = namedtuple('TransactionSpec', 'id price trade_date settlement_date currency')\n",
    "\n",
    "def create_portfolio_with_transactions(scope, name, date, trades):\n",
    "    scope = \"finbourne\"\n",
    "    guid = str(uuid.uuid4())\n",
    "    portfolio_code = \"id-{0}\".format(guid)\n",
    "    effective_date = datetime(2018, 1, 1, tzinfo=pytz.utc)\n",
    "    \n",
    "    request = models.CreateTransactionPortfolioRequest(\n",
    "        \"portfolio-{0}\".format(guid),\n",
    "        \"id-{0}\".format(guid),\n",
    "        base_currency=\"GBP\",\n",
    "        created=effective_date\n",
    "    )\n",
    "\n",
    "    #   create the portfolio\n",
    "    result = client.create_portfolio(scope, request)\n",
    "    portfolio_id = result.id.code\n",
    "\n",
    "    #   build and add trades\n",
    "    new_transactions = list(map(build_transaction, trades))\n",
    "    add_transactions_result = client.upsert_transactions(scope, portfolio_id, new_transactions)\n",
    "    \n",
    "    return portfolio_code"
   ]
  },
  {
   "cell_type": "code",
   "execution_count": 5,
   "metadata": {},
   "outputs": [],
   "source": [
    "# create instruments\n",
    "\n",
    "instruments = [\n",
    "    {\"Figi\": \"BBG000C6K6G9\", \"Name\": \"VODAFONE GROUP PLC\"},\n",
    "    {\"Figi\": \"BBG000C04D57\", \"Name\": \"BARCLAYS PLC\"},\n",
    "    {\"Figi\": \"BBG000FV67Q4\", \"Name\": \"NATIONAL GRID PLC\"},\n",
    "    {\"Figi\": \"BBG000BF0KW3\", \"Name\": \"SAINSBURY (J) PLC\"},\n",
    "    {\"Figi\": \"BBG000BF4KL1\", \"Name\": \"TAYLOR WIMPEY PLC\"}\n",
    "]\n",
    "\n",
    "figis_to_create = { i[\"Figi\"]:models.InstrumentDefinition(i[\"Name\"], {\"Figi\": i[\"Figi\"]}) for i in instruments }\n",
    "\n",
    "upsert_response = client.upsert_instruments(figis_to_create)\n",
    "\n",
    "if len(upsert_response.failed) != 0:\n",
    "    raise Exception(upsert_response.failed)\n",
    "\n",
    "ids = client.get_instruments(\"Figi\", [i[\"Figi\"] for i in instruments])\n",
    "\n",
    "instrument_ids = [i.lusid_instrument_id for i in ids.values.values()]"
   ]
  },
  {
   "cell_type": "code",
   "execution_count": 6,
   "metadata": {},
   "outputs": [],
   "source": [
    "from datetime import datetime\n",
    "\n",
    "effective_date = datetime(2018, 1, 1, tzinfo=pytz.utc)\n",
    "trades = [\n",
    "    TransactionSpec(instrument_ids[0], 101, datetime(2018, 1, 1, tzinfo=pytz.utc), datetime(2018, 1, 4, tzinfo=pytz.utc), \"GBP\"),       \n",
    "    TransactionSpec(instrument_ids[0], 102, datetime(2018, 1, 2, tzinfo=pytz.utc), datetime(2018, 1, 5, tzinfo=pytz.utc), \"GBP\"),\n",
    "    TransactionSpec(instrument_ids[0], 103, datetime(2018, 1, 3, tzinfo=pytz.utc), datetime(2018, 1, 6, tzinfo=pytz.utc), \"GBP\"),\n",
    "    TransactionSpec(instrument_ids[0], 104, datetime(2018, 1, 1, tzinfo=pytz.utc), datetime(2018, 1, 4, tzinfo=pytz.utc), \"USD\"),\n",
    "    TransactionSpec(instrument_ids[1], 105, datetime(2018, 1, 2, tzinfo=pytz.utc), datetime(2018, 1, 5, tzinfo=pytz.utc), \"USD\"),\n",
    "    TransactionSpec(instrument_ids[1], 106, datetime(2018, 1, 3, tzinfo=pytz.utc), datetime(2018, 1, 6, tzinfo=pytz.utc), \"USD\"),\n",
    "    TransactionSpec(instrument_ids[2], 107, datetime(2018, 1, 1, tzinfo=pytz.utc), datetime(2018, 1, 4, tzinfo=pytz.utc), \"EUR\"),\n",
    "    TransactionSpec(instrument_ids[3], 108, datetime(2018, 1, 2, tzinfo=pytz.utc), datetime(2018, 1, 5, tzinfo=pytz.utc), \"EUR\"),      \n",
    "    TransactionSpec(instrument_ids[1], 109, datetime(2018, 1, 3, tzinfo=pytz.utc), datetime(2018, 1, 6, tzinfo=pytz.utc), \"EUR\"),\n",
    "    \n",
    "]\n",
    "\n",
    "created_code = create_portfolio_with_transactions(scope=\"finbourne\", name=\"demo\", date=effective_date, trades=trades)"
   ]
  },
  {
   "cell_type": "code",
   "execution_count": 7,
   "metadata": {},
   "outputs": [
    {
     "data": {
      "text/html": [
       "<div>\n",
       "<table border=\"1\" class=\"dataframe\">\n",
       "  <thead>\n",
       "    <tr style=\"text-align: right;\">\n",
       "      <th></th>\n",
       "      <th></th>\n",
       "      <th>settlement_date</th>\n",
       "      <th>2018-01-04 00:00:00</th>\n",
       "    </tr>\n",
       "    <tr>\n",
       "      <th>instrument_uid</th>\n",
       "      <th>sort</th>\n",
       "      <th>holding_type</th>\n",
       "      <th></th>\n",
       "    </tr>\n",
       "  </thead>\n",
       "  <tbody>\n",
       "    <tr>\n",
       "      <th rowspan=\"2\" valign=\"top\">CCY_EUR</th>\n",
       "      <th>1.0</th>\n",
       "      <th>Opening Cash Balance</th>\n",
       "      <td>-32400.0</td>\n",
       "    </tr>\n",
       "    <tr>\n",
       "      <th>5.0</th>\n",
       "      <th>EUR Summary</th>\n",
       "      <td>-32400.0</td>\n",
       "    </tr>\n",
       "    <tr>\n",
       "      <th rowspan=\"2\" valign=\"top\">CCY_GBP</th>\n",
       "      <th>1.0</th>\n",
       "      <th>Opening Cash Balance</th>\n",
       "      <td>-30600.0</td>\n",
       "    </tr>\n",
       "    <tr>\n",
       "      <th>5.0</th>\n",
       "      <th>GBP Summary</th>\n",
       "      <td>-30600.0</td>\n",
       "    </tr>\n",
       "    <tr>\n",
       "      <th rowspan=\"2\" valign=\"top\">CCY_USD</th>\n",
       "      <th>1.0</th>\n",
       "      <th>Opening Cash Balance</th>\n",
       "      <td>-31500.0</td>\n",
       "    </tr>\n",
       "    <tr>\n",
       "      <th>5.0</th>\n",
       "      <th>USD Summary</th>\n",
       "      <td>-31500.0</td>\n",
       "    </tr>\n",
       "  </tbody>\n",
       "</table>\n",
       "</div>"
      ],
      "text/plain": [
       "settlement_date                           2018-01-04\n",
       "instrument_uid sort holding_type                    \n",
       "CCY_EUR        1.0  Opening Cash Balance    -32400.0\n",
       "               5.0  EUR Summary             -32400.0\n",
       "CCY_GBP        1.0  Opening Cash Balance    -30600.0\n",
       "               5.0  GBP Summary             -30600.0\n",
       "CCY_USD        1.0  Opening Cash Balance    -31500.0\n",
       "               5.0  USD Summary             -31500.0"
      ]
     },
     "execution_count": 7,
     "metadata": {},
     "output_type": "execute_result"
    }
   ],
   "source": [
    "import cashladder as c \n",
    "cl_date = '2018-01-04'\n",
    "c.cash_ladder(date=cl_date, scope='finbourne',portfolio=created_code)"
   ]
  },
  {
   "cell_type": "code",
   "execution_count": 8,
   "metadata": {},
   "outputs": [],
   "source": [
    "acl = c.alt_cash_ladder(date=cl_date,scope='finbourne',portfolio=created_code)\n",
    "chart_data = acl[['Currency','Cash Date','balance']].drop_duplicates(['Currency','Cash Date'],keep='last')\n",
    "chart_data = chart_data.pivot(index=\"Currency\", columns=\"Cash Date\", values=\"balance\").fillna(0)"
   ]
  },
  {
   "cell_type": "code",
   "execution_count": 9,
   "metadata": {},
   "outputs": [
    {
     "data": {
      "text/html": [
       "<div>\n",
       "<table border=\"1\" class=\"dataframe\">\n",
       "  <thead>\n",
       "    <tr style=\"text-align: right;\">\n",
       "      <th>Cash Date</th>\n",
       "      <th>2018-01-04</th>\n",
       "    </tr>\n",
       "    <tr>\n",
       "      <th>Currency</th>\n",
       "      <th></th>\n",
       "    </tr>\n",
       "  </thead>\n",
       "  <tbody>\n",
       "    <tr>\n",
       "      <th>CCY_EUR</th>\n",
       "      <td>-32400.0</td>\n",
       "    </tr>\n",
       "    <tr>\n",
       "      <th>CCY_GBP</th>\n",
       "      <td>-30600.0</td>\n",
       "    </tr>\n",
       "    <tr>\n",
       "      <th>CCY_USD</th>\n",
       "      <td>-31500.0</td>\n",
       "    </tr>\n",
       "  </tbody>\n",
       "</table>\n",
       "</div>"
      ],
      "text/plain": [
       "Cash Date  2018-01-04\n",
       "Currency             \n",
       "CCY_EUR      -32400.0\n",
       "CCY_GBP      -30600.0\n",
       "CCY_USD      -31500.0"
      ]
     },
     "execution_count": 9,
     "metadata": {},
     "output_type": "execute_result"
    }
   ],
   "source": [
    "chart_data"
   ]
  },
  {
   "cell_type": "code",
   "execution_count": 10,
   "metadata": {},
   "outputs": [
    {
     "data": {
      "image/png": "[encoded data removed]",
      "text/plain": [
       "<matplotlib.figure.Figure at 0x7fa9f1e1c160>"
      ]
     },
     "metadata": {},
     "output_type": "display_data"
    }
   ],
   "source": [
    "%matplotlib inline\n",
    "import numpy as np\n",
    "import matplotlib.pyplot as plt\n",
    "\n",
    "ind = np.arange(chart_data.columns.size)\n",
    "width = 0.1\n",
    "\n",
    "fig, ax = plt.subplots()\n",
    "\n",
    "for ccy, x in zip(chart_data.index, [-.2, 0, .2]):\n",
    "    ax.bar(ind + x/2, chart_data.loc[ccy,:].asobject, width, label=ccy)\n",
    "    \n",
    "ax.set_xticks(ind)\n",
    "ax.set_xticklabels(chart_data.columns.values)\n",
    "ax.legend()\n",
    "\n",
    "plt.show()"
   ]
  },
  {
   "cell_type": "code",
   "execution_count": null,
   "metadata": {},
   "outputs": [],
   "source": []
  }
 ],
 "metadata": {
  "kernelspec": {
   "display_name": "Python 3",
   "language": "python",
   "name": "python3"
  },
  "language_info": {
   "codemirror_mode": {
    "name": "ipython",
    "version": 3
   },
   "file_extension": ".py",
   "mimetype": "text/x-python",
   "name": "python",
   "nbconvert_exporter": "python",
   "pygments_lexer": "ipython3",
   "version": "3.6.3"
  }
 },
 "nbformat": 4,
 "nbformat_minor": 2
}
