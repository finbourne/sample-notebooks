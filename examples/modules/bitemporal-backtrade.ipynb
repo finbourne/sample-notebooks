{
 "cells": [
  {
   "cell_type": "code",
   "execution_count": 1,
   "metadata": {},
   "outputs": [],
   "source": [
    "import lusid\n",
    "import lusid.models as models\n",
    "import os\n",
    "from msrest.authentication import BasicTokenAuthentication\n",
    "\n",
    "api_url = os.getenv(\"FBN_LUSID_API_URL\")\n",
    "api_token = {\"access_token\": os.environ[\"ACCESS_TOKEN\"]}\n",
    "credentials = BasicTokenAuthentication(api_token)\n",
    "client = lusid.LUSIDAPI(credentials, api_url)"
   ]
  },
  {
   "cell_type": "code",
   "execution_count": 2,
   "metadata": {},
   "outputs": [],
   "source": [
    "import uuid\n",
    "from datetime import datetime\n",
    "import pytz\n",
    "from collections import namedtuple\n",
    "\n",
    "LUSID_INSTRUMENT_IDENTIFIER = \"Instrument/default/LusidInstrumentId\"\n",
    "\n",
    "def build_transaction(trade_spec):\n",
    "    return models.TransactionRequest(\n",
    "        transaction_id=str(uuid.uuid4()),\n",
    "        type=\"StockIn\",\n",
    "        instrument_identifiers={LUSID_INSTRUMENT_IDENTIFIER: trade_spec.id},\n",
    "        transaction_date=trade_spec.trade_date,\n",
    "        settlement_date=trade_spec.trade_date,\n",
    "        units=100,\n",
    "        transaction_price=models.TransactionPrice(trade_spec.price),\n",
    "        total_consideration=models.CurrencyAndAmount(100 * trade_spec.price, \"GBP\"),\n",
    "        source=\"Client\"\n",
    "    )"
   ]
  },
  {
   "cell_type": "code",
   "execution_count": 3,
   "metadata": {},
   "outputs": [],
   "source": [
    "# create the portfolio\n",
    "\n",
    "scope = \"finbourne\"\n",
    "guid = str(uuid.uuid4())\n",
    "effective_date = datetime(2018, 1, 1, tzinfo=pytz.utc)\n",
    "\n",
    "request = models.CreateTransactionPortfolioRequest(\n",
    "    \"portfolio-{0}\".format(guid),\n",
    "    \"id-{0}\".format(guid),\n",
    "    base_currency=\"GBP\",\n",
    "    created=effective_date\n",
    ")\n",
    "result = client.create_portfolio(scope, request)\n",
    "portfolio_id = result.id.code"
   ]
  },
  {
   "cell_type": "code",
   "execution_count": 4,
   "metadata": {},
   "outputs": [],
   "source": [
    "# create instruments\n",
    "\n",
    "instruments = [\n",
    "    {\"Figi\": \"BBG000C6K6G9\", \"Name\": \"VODAFONE GROUP PLC\"},\n",
    "    {\"Figi\": \"BBG000C04D57\", \"Name\": \"BARCLAYS PLC\"},\n",
    "    {\"Figi\": \"BBG000FV67Q4\", \"Name\": \"NATIONAL GRID PLC\"},\n",
    "    {\"Figi\": \"BBG000BF0KW3\", \"Name\": \"SAINSBURY (J) PLC\"},\n",
    "    {\"Figi\": \"BBG000BF4KL1\", \"Name\": \"TAYLOR WIMPEY PLC\"}\n",
    "]\n",
    "\n",
    "figis_to_create = { i[\"Figi\"]:models.InstrumentDefinition(i[\"Name\"], {\"Figi\": i[\"Figi\"]}) for i in instruments }\n",
    "\n",
    "upsert_response = client.upsert_instruments(figis_to_create)\n",
    "\n",
    "if len(upsert_response.failed) != 0:\n",
    "    raise Exception(upsert_response.failed)\n",
    "\n",
    "ids = client.get_instruments(\"Figi\", [i[\"Figi\"] for i in instruments])\n",
    "\n",
    "instrument_ids = [i.lusid_instrument_id for i in ids.values.values()]"
   ]
  },
  {
   "cell_type": "code",
   "execution_count": 5,
   "metadata": {},
   "outputs": [],
   "source": [
    "# add initial batch of trades\n",
    "\n",
    "TransactionSpec = namedtuple('TradeSpec', 'id price trade_date')\n",
    "trade_specs = [\n",
    "    TransactionSpec(instrument_ids[0], 101, datetime(2018, 1, 1, tzinfo=pytz.utc)),\n",
    "    TransactionSpec(instrument_ids[1], 102, datetime(2018, 1, 2, tzinfo=pytz.utc)),\n",
    "    TransactionSpec(instrument_ids[2], 103, datetime(2018, 1, 3, tzinfo=pytz.utc))\n",
    "]\n",
    "trade_specs.sort(key=lambda ts: ts.id)\n",
    "\n",
    "new_transactions = list(map(build_transaction, trade_specs))\n",
    "\n",
    "# add initial batch of trades\n",
    "initial_result = client.upsert_transactions(scope, portfolio_id, new_transactions)\n",
    "as_at_batch1 = initial_result.version.as_at_date"
   ]
  },
  {
   "cell_type": "code",
   "execution_count": 6,
   "metadata": {},
   "outputs": [],
   "source": [
    "# add trade for 2018-1-8\n",
    "trade = build_transaction(TransactionSpec(instrument_ids[3], 104, datetime(2018, 1, 8, tzinfo=pytz.utc)))\n",
    "later_trade = client.upsert_transactions(scope, portfolio_id, [trade])\n",
    "\n",
    "as_at_batch2 = later_trade.version.as_at_date"
   ]
  },
  {
   "cell_type": "code",
   "execution_count": 7,
   "metadata": {},
   "outputs": [],
   "source": [
    "# add back dated trade\n",
    "trade = build_transaction(TransactionSpec(instrument_ids[4], 105, datetime(2018, 1, 5, tzinfo=pytz.utc)))\n",
    "backdated_trade = client.upsert_transactions(scope, portfolio_id, [trade])\n",
    "\n",
    "as_at_batch3 = backdated_trade.version.as_at_date"
   ]
  },
  {
   "cell_type": "code",
   "execution_count": 8,
   "metadata": {},
   "outputs": [],
   "source": [
    "def print_transactions(transactions):\n",
    "    for transaction in transactions:\n",
    "        print(\"{0}\\t{1}\\t{2}\\t{3}\\t{4}\".format(transaction.instrument_uid,\n",
    "                                               transaction.transaction_date,\n",
    "                                               transaction.units,\n",
    "                                               transaction.transaction_price.price,\n",
    "                                               transaction.total_consideration.amount))\n"
   ]
  },
  {
   "cell_type": "code",
   "execution_count": 9,
   "metadata": {},
   "outputs": [
    {
     "name": "stdout",
     "output_type": "stream",
     "text": [
      "transactions at 2018-11-21 09:26:35.684010+00:00\n",
      "LUID_CO3T26VB\t2018-01-01 00:00:00+00:00\t100.0\t101.0\t10100.0\n",
      "LUID_1A6RYV70\t2018-01-02 00:00:00+00:00\t100.0\t102.0\t10200.0\n",
      "LUID_3AIY3DZF\t2018-01-03 00:00:00+00:00\t100.0\t103.0\t10300.0\n"
     ]
    }
   ],
   "source": [
    "# get the list of original trades\n",
    "trades_list = client.get_transactions(scope, portfolio_id, as_at=as_at_batch1)\n",
    "\n",
    "assert(len(trades_list.values) == 3)\n",
    "print(\"transactions at {0}\".format(as_at_batch1))\n",
    "print_transactions(trades_list.values)"
   ]
  },
  {
   "cell_type": "code",
   "execution_count": 10,
   "metadata": {},
   "outputs": [
    {
     "name": "stdout",
     "output_type": "stream",
     "text": [
      "transactions at 2018-11-21 09:26:36.723524+00:00\n",
      "LUID_CO3T26VB\t2018-01-01 00:00:00+00:00\t100.0\t101.0\t10100.0\n",
      "LUID_1A6RYV70\t2018-01-02 00:00:00+00:00\t100.0\t102.0\t10200.0\n",
      "LUID_3AIY3DZF\t2018-01-03 00:00:00+00:00\t100.0\t103.0\t10300.0\n",
      "LUID_OBAS87WL\t2018-01-08 00:00:00+00:00\t100.0\t104.0\t10400.0\n"
     ]
    }
   ],
   "source": [
    "# get the list of trades including the later trade\n",
    "trades_list = client.get_transactions(scope, portfolio_id, as_at=as_at_batch2)\n",
    "\n",
    "assert(len(trades_list.values) == 4)\n",
    "print(\"transactions at {0}\".format(as_at_batch2))\n",
    "print_transactions(trades_list.values)"
   ]
  },
  {
   "cell_type": "code",
   "execution_count": 11,
   "metadata": {},
   "outputs": [
    {
     "name": "stdout",
     "output_type": "stream",
     "text": [
      "transactions at 2018-11-21 09:26:38.497209+00:00\n",
      "LUID_CO3T26VB\t2018-01-01 00:00:00+00:00\t100.0\t101.0\t10100.0\n",
      "LUID_1A6RYV70\t2018-01-02 00:00:00+00:00\t100.0\t102.0\t10200.0\n",
      "LUID_3AIY3DZF\t2018-01-03 00:00:00+00:00\t100.0\t103.0\t10300.0\n",
      "LUID_EKHCMS76\t2018-01-05 00:00:00+00:00\t100.0\t105.0\t10500.0\n",
      "LUID_OBAS87WL\t2018-01-08 00:00:00+00:00\t100.0\t104.0\t10400.0\n"
     ]
    }
   ],
   "source": [
    "# get the list of trades including the back-dated trade\n",
    "trades_list = client.get_transactions(scope, portfolio_id, as_at=as_at_batch3)\n",
    "\n",
    "assert(len(trades_list.values) == 5)\n",
    "print(\"transactions at {0}\".format(as_at_batch3))\n",
    "print_transactions(trades_list.values)"
   ]
  },
  {
   "cell_type": "code",
   "execution_count": 12,
   "metadata": {},
   "outputs": [
    {
     "name": "stdout",
     "output_type": "stream",
     "text": [
      "transactions at 2018-11-21 09:26:46.350734\n",
      "LUID_CO3T26VB\t2018-01-01 00:00:00+00:00\t100.0\t101.0\t10100.0\n",
      "LUID_1A6RYV70\t2018-01-02 00:00:00+00:00\t100.0\t102.0\t10200.0\n",
      "LUID_3AIY3DZF\t2018-01-03 00:00:00+00:00\t100.0\t103.0\t10300.0\n",
      "LUID_EKHCMS76\t2018-01-05 00:00:00+00:00\t100.0\t105.0\t10500.0\n",
      "LUID_OBAS87WL\t2018-01-08 00:00:00+00:00\t100.0\t104.0\t10400.0\n"
     ]
    }
   ],
   "source": [
    "# get the list of trades now\n",
    "all_trades = client.get_transactions(scope, portfolio_id)\n",
    "print(\"transactions at {0}\".format(datetime.utcnow()))\n",
    "print_transactions(all_trades.values)"
   ]
  },
  {
   "cell_type": "code",
   "execution_count": null,
   "metadata": {},
   "outputs": [],
   "source": []
  }
 ],
 "metadata": {
  "kernelspec": {
   "display_name": "Python 3",
   "language": "python",
   "name": "python3"
  },
  "language_info": {
   "codemirror_mode": {
    "name": "ipython",
    "version": 3
   },
   "file_extension": ".py",
   "mimetype": "text/x-python",
   "name": "python",
   "nbconvert_exporter": "python",
   "pygments_lexer": "ipython3",
   "version": "3.6.3"
  }
 },
 "nbformat": 4,
 "nbformat_minor": 2
}
